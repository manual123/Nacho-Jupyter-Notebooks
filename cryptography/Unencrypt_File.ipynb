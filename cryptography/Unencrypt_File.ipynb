{
 "metadata": {
  "name": "",
  "signature": "sha256:e7d2193d0834440ac59c94d37c515c3f6eafe2c9d3dcc64362e06c9b2de95cb0"
 },
 "nbformat": 3,
 "nbformat_minor": 0,
 "worksheets": [
  {
   "cells": [
    {
     "cell_type": "code",
     "collapsed": false,
     "input": [
      "# This code taken from youtube example: https://www.youtube.com/watch?v=8PzDfykGg_g&feature=youtube_gdata_player\n",
      "# but modified to work with Python 3 due to byte string to string conversion using decode('utf-8') method\n",
      "# Windows binary installer can be obtained here: http://www.voidspace.org.uk/python/modules.shtml#pycrypto\n",
      "\n",
      "from Crypto.Cipher import AES  # Dependency: install pycrypto - available at pypi: pip install pycrypto\n",
      "import base64\n",
      "import os\n",
      "import codecs # This is needed to convert a string with single backslashes to byte string\n",
      "\n",
      "def decrypt_with_key(key, encryptedString):\n",
      "    \"\"\" Method to decrypt message using a decryptionn key passed in as a parameter \"\"\"\n",
      "    \n",
      "    PADDING = '{'\n",
      "    DecodeAES = lambda c, e: c.decrypt(base64.b64decode(e)).decode('utf-8').rstrip(PADDING)\n",
      "    try:\n",
      "        cipher = AES.new(key)\n",
      "        decoded = DecodeAES(cipher, encryptedString)\n",
      "        return decoded\n",
      "    except:\n",
      "        print(\"Error in decoding the secret message\")"
     ],
     "language": "python",
     "metadata": {},
     "outputs": [],
     "prompt_number": 6
    },
    {
     "cell_type": "code",
     "collapsed": false,
     "input": [
      "key_file = open(r'key_file_path','r')\n",
      "key = codecs.escape_decode(key_file.read().strip())[0]  # read the decryption key properly and strip out newline character\n",
      "key_file.close()\n",
      "\n",
      "efile = open(r'encrypted_file_path','r')\n",
      "emessage = efile.read()\n",
      "efile.close()\n",
      "\n",
      "ufile = open(r'output_file_path','w')\n",
      "ufile.write(decrypt_with_key(key, emessage))\n",
      "ufile.close()"
     ],
     "language": "python",
     "metadata": {},
     "outputs": [],
     "prompt_number": 13
    }
   ],
   "metadata": {}
  }
 ]
}