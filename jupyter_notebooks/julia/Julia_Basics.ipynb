{
 "cells": [
  {
   "cell_type": "markdown",
   "metadata": {},
   "source": [
    "### Let's get this out of the way first: **Julia uses 1-based indexing**"
   ]
  },
  {
   "cell_type": "markdown",
   "metadata": {},
   "source": [
    "# \"Helper\" Functions similar to Python's ```dir()``` and ```help()```"
   ]
  },
  {
   "cell_type": "markdown",
   "metadata": {},
   "source": [
    "**```methodswith()```**"
   ]
  },
  {
   "cell_type": "code",
   "execution_count": 21,
   "metadata": {},
   "outputs": [
    {
     "data": {
      "text/html": [
       "290-element Array{Method,1}:<ul><li> @doc_str(__source__::<b>LineNumberNode</b>, __module__::<b>Module</b>, s::<b>AbstractString</b>, t...) in Markdown at <a href=\"file:///buildworker/worker/package_linux64/build/usr/share/julia/stdlib/v1.0/Markdown/src/Markdown.jl\" target=\"_blank\">/buildworker/worker/package_linux64/build/usr/share/julia/stdlib/v1.0/Markdown/src/Markdown.jl:53</a><li> bind(server::<b>Sockets.PipeServer</b>, name::<b>AbstractString</b>) in Sockets at <a href=\"file:///buildworker/worker/package_linux64/build/usr/share/julia/stdlib/v1.0/Sockets/src/PipeServer.jl\" target=\"_blank\">/buildworker/worker/package_linux64/build/usr/share/julia/stdlib/v1.0/Sockets/src/PipeServer.jl:49</a><li> bind(socket::<b>ZMQ.Socket</b>, endpoint::<b>AbstractString</b>) in ZMQ at <a href=\"file:///home/pybokeh/.julia/packages/ZMQ/yClfT/src/ZMQ.jl\" target=\"_blank\">/home/pybokeh/.julia/packages/ZMQ/yClfT/src/ZMQ.jl:295</a><li> connect(path::<b>AbstractString</b>) in Sockets at <a href=\"file:///buildworker/worker/package_linux64/build/usr/share/julia/stdlib/v1.0/Sockets/src/PipeServer.jl\" target=\"_blank\">/buildworker/worker/package_linux64/build/usr/share/julia/stdlib/v1.0/Sockets/src/PipeServer.jl:93</a><li> connect(host::<b>AbstractString</b>, port::<b>Integer</b>) in Sockets at <a href=\"file:///buildworker/worker/package_linux64/build/usr/share/julia/stdlib/v1.0/Sockets/src/Sockets.jl\" target=\"_blank\">/buildworker/worker/package_linux64/build/usr/share/julia/stdlib/v1.0/Sockets/src/Sockets.jl:427</a><li> connect(socket::<b>ZMQ.Socket</b>, endpoint::<b>AbstractString</b>) in ZMQ at <a href=\"file:///home/pybokeh/.julia/packages/ZMQ/yClfT/src/ZMQ.jl\" target=\"_blank\">/home/pybokeh/.julia/packages/ZMQ/yClfT/src/ZMQ.jl:302</a><li> getaddrinfo(host::<b>AbstractString</b>) in Sockets at <a href=\"file:///buildworker/worker/package_linux64/build/usr/share/julia/stdlib/v1.0/Sockets/src/addrinfo.jl\" target=\"_blank\">/buildworker/worker/package_linux64/build/usr/share/julia/stdlib/v1.0/Sockets/src/addrinfo.jl:125</a><li> getaddrinfo(host::<b>AbstractString</b>, T::<b>Type{#s549} where #s549<:Sockets.IPAddr</b>) in Sockets at <a href=\"file:///buildworker/worker/package_linux64/build/usr/share/julia/stdlib/v1.0/Sockets/src/addrinfo.jl\" target=\"_blank\">/buildworker/worker/package_linux64/build/usr/share/julia/stdlib/v1.0/Sockets/src/addrinfo.jl:124</a><li> getalladdrinfo(host::<b>AbstractString</b>) in Sockets at <a href=\"file:///buildworker/worker/package_linux64/build/usr/share/julia/stdlib/v1.0/Sockets/src/addrinfo.jl\" target=\"_blank\">/buildworker/worker/package_linux64/build/usr/share/julia/stdlib/v1.0/Sockets/src/addrinfo.jl:107</a><li> listen(path::<b>AbstractString</b>) in Sockets at <a href=\"file:///buildworker/worker/package_linux64/build/usr/share/julia/stdlib/v1.0/Sockets/src/PipeServer.jl\" target=\"_blank\">/buildworker/worker/package_linux64/build/usr/share/julia/stdlib/v1.0/Sockets/src/PipeServer.jl:70</a><li> send(socket::<b>ZMQ.Socket</b>, msg::<b>AbstractString</b>) in ZMQ at <a href=\"file:///home/pybokeh/.julia/packages/ZMQ/yClfT/src/ZMQ.jl\" target=\"_blank\">/home/pybokeh/.julia/packages/ZMQ/yClfT/src/ZMQ.jl:489</a><li> send(socket::<b>ZMQ.Socket</b>, msg::<b>AbstractString</b>, SNDMORE::<b>Bool</b>) in ZMQ at <a href=\"file:///home/pybokeh/.julia/packages/ZMQ/yClfT/src/ZMQ.jl\" target=\"_blank\">/home/pybokeh/.julia/packages/ZMQ/yClfT/src/ZMQ.jl:489</a><li> writedlm(fname::<b>AbstractString</b>, a, dlm) in DelimitedFiles at <a href=\"file:///buildworker/worker/package_linux64/build/usr/share/julia/stdlib/v1.0/DelimitedFiles/src/DelimitedFiles.jl\" target=\"_blank\">/buildworker/worker/package_linux64/build/usr/share/julia/stdlib/v1.0/DelimitedFiles/src/DelimitedFiles.jl:788</a><li> *(d::<b>Missing</b>, x::<b>AbstractString</b>) in Base at <a href=\"https://github.com/JuliaLang/julia/tree/5d4eaca0c9fa3d555c79dbacdccb9169fdf64b65/base/missing.jl#L139\" target=\"_blank\">missing.jl:139</a><li> *(s1::<b>Union{AbstractChar, AbstractString}</b>, ss::<b>Union{AbstractChar, AbstractString}...</b>) in Base at <a href=\"https://github.com/JuliaLang/julia/tree/5d4eaca0c9fa3d555c79dbacdccb9169fdf64b65/base/strings/basic.jl#L229\" target=\"_blank\">strings/basic.jl:229</a><li> *(d::<b>AbstractString</b>, x::<b>Missing</b>) in Base at <a href=\"https://github.com/JuliaLang/julia/tree/5d4eaca0c9fa3d555c79dbacdccb9169fdf64b65/base/missing.jl#L140\" target=\"_blank\">missing.jl:140</a><li> ==(a::<b>AbstractString</b>, b::<b>AbstractString</b>) in Base at <a href=\"https://github.com/JuliaLang/julia/tree/5d4eaca0c9fa3d555c79dbacdccb9169fdf64b65/base/strings/basic.jl#L293\" target=\"_blank\">strings/basic.jl:293</a><li> ^(s::<b>Union{AbstractChar, AbstractString}</b>, r::<b>Integer</b>) in Base at <a href=\"https://github.com/JuliaLang/julia/tree/5d4eaca0c9fa3d555c79dbacdccb9169fdf64b65/base/strings/basic.jl#L674\" target=\"_blank\">strings/basic.jl:674</a><li> abspath(path::<b>AbstractString</b>) in Base.Filesystem at <a href=\"https://github.com/JuliaLang/julia/tree/5d4eaca0c9fa3d555c79dbacdccb9169fdf64b65/base/path.jl#L420\" target=\"_blank\">path.jl:420</a><li> abspath(a::<b>AbstractString</b>, b::<b>AbstractString...</b>) in Base.Filesystem at <a href=\"https://github.com/JuliaLang/julia/tree/5d4eaca0c9fa3d555c79dbacdccb9169fdf64b65/base/path.jl#L288\" target=\"_blank\">path.jl:288</a><li> ascii(x::<b>AbstractString</b>) in Base at <a href=\"https://github.com/JuliaLang/julia/tree/5d4eaca0c9fa3d555c79dbacdccb9169fdf64b65/base/strings/util.jl#L626\" target=\"_blank\">strings/util.jl:626</a><li> asyncmap(f, s::<b>AbstractString</b>) in Base at <a href=\"https://github.com/JuliaLang/julia/tree/5d4eaca0c9fa3d555c79dbacdccb9169fdf64b65/base/asyncmap.jl#L249\" target=\"_blank\">asyncmap.jl:249</a><li> basename(path::<b>AbstractString</b>) in Base.Filesystem at <a href=\"https://github.com/JuliaLang/julia/tree/5d4eaca0c9fa3d555c79dbacdccb9169fdf64b65/base/path.jl#L166\" target=\"_blank\">path.jl:166</a><li> cd(dir::<b>AbstractString</b>) in Base.Filesystem at <a href=\"https://github.com/JuliaLang/julia/tree/5d4eaca0c9fa3d555c79dbacdccb9169fdf64b65/base/file.jl#L76\" target=\"_blank\">file.jl:76</a><li> cd(f::<b>Function</b>, dir::<b>AbstractString</b>) in Base.Filesystem at <a href=\"https://github.com/JuliaLang/julia/tree/5d4eaca0c9fa3d555c79dbacdccb9169fdf64b65/base/file.jl#L92\" target=\"_blank\">file.jl:92</a><li> checkbounds(::<b>Type{Bool}</b>, s::<b>AbstractString</b>, i::<b>Integer</b>) in Base at <a href=\"https://github.com/JuliaLang/julia/tree/5d4eaca0c9fa3d555c79dbacdccb9169fdf64b65/base/strings/basic.jl#L185\" target=\"_blank\">strings/basic.jl:185</a><li> checkbounds(::<b>Type{Bool}</b>, s::<b>AbstractString</b>, r::<b>AbstractRange{#s57} where #s57<:Integer</b>) in Base at <a href=\"https://github.com/JuliaLang/julia/tree/5d4eaca0c9fa3d555c79dbacdccb9169fdf64b65/base/strings/basic.jl#L187\" target=\"_blank\">strings/basic.jl:187</a><li> checkbounds(::<b>Type{Bool}</b>, s::<b>AbstractString</b>, I::<b>AbstractArray{#s57,N} where N where #s57<:Integer</b>) in Base at <a href=\"https://github.com/JuliaLang/julia/tree/5d4eaca0c9fa3d555c79dbacdccb9169fdf64b65/base/strings/basic.jl#L191\" target=\"_blank\">strings/basic.jl:191</a><li> checkbounds(::<b>Type{Bool}</b>, s::<b>AbstractString</b>, I::<b>AbstractArray{#s57,N} where N where #s57<:Real</b>) in Base at <a href=\"https://github.com/JuliaLang/julia/tree/5d4eaca0c9fa3d555c79dbacdccb9169fdf64b65/base/strings/basic.jl#L189\" target=\"_blank\">strings/basic.jl:189</a><li> checkbounds(s::<b>AbstractString</b>, I::<b>Union{Integer, AbstractArray}</b>) in Base at <a href=\"https://github.com/JuliaLang/julia/tree/5d4eaca0c9fa3d555c79dbacdccb9169fdf64b65/base/strings/basic.jl#L193\" target=\"_blank\">strings/basic.jl:193</a><li> chmod(path::<b>AbstractString</b>, mode::<b>Integer</b>) in Base.Filesystem at <a href=\"https://github.com/JuliaLang/julia/tree/5d4eaca0c9fa3d555c79dbacdccb9169fdf64b65/base/file.jl#L828\" target=\"_blank\">file.jl:828</a><li> chomp(s::<b>AbstractString</b>) in Base at <a href=\"https://github.com/JuliaLang/julia/tree/5d4eaca0c9fa3d555c79dbacdccb9169fdf64b65/base/strings/util.jl#L117\" target=\"_blank\">strings/util.jl:117</a><li> chop(s::<b>AbstractString</b>) in Base at <a href=\"https://github.com/JuliaLang/julia/tree/5d4eaca0c9fa3d555c79dbacdccb9169fdf64b65/base/strings/util.jl#L99\" target=\"_blank\">strings/util.jl:99</a><li> chown(path::<b>AbstractString</b>, owner::<b>Integer</b>) in Base.Filesystem at <a href=\"https://github.com/JuliaLang/julia/tree/5d4eaca0c9fa3d555c79dbacdccb9169fdf64b65/base/file.jl#L848\" target=\"_blank\">file.jl:848</a><li> chown(path::<b>AbstractString</b>, owner::<b>Integer</b>, group::<b>Integer</b>) in Base.Filesystem at <a href=\"https://github.com/JuliaLang/julia/tree/5d4eaca0c9fa3d555c79dbacdccb9169fdf64b65/base/file.jl#L848\" target=\"_blank\">file.jl:848</a><li> cmp(a::<b>AbstractString</b>, b::<b>AbstractString</b>) in Base at <a href=\"https://github.com/JuliaLang/julia/tree/5d4eaca0c9fa3d555c79dbacdccb9169fdf64b65/base/strings/basic.jl#L269\" target=\"_blank\">strings/basic.jl:269</a><li> codeunit(s::<b>AbstractString</b>, i::<b>Integer</b>) in Base at <a href=\"https://github.com/JuliaLang/julia/tree/5d4eaca0c9fa3d555c79dbacdccb9169fdf64b65/base/strings/basic.jl#L84\" target=\"_blank\">strings/basic.jl:84</a><li> codeunits(s::<b>AbstractString</b>) in Base at <a href=\"https://github.com/JuliaLang/julia/tree/5d4eaca0c9fa3d555c79dbacdccb9169fdf64b65/base/strings/basic.jl#L714\" target=\"_blank\">strings/basic.jl:714</a><li> convert(::<b>Type{Base.SecretBuffer}</b>, s::<b>AbstractString</b>) in Base at <a href=\"https://github.com/JuliaLang/julia/tree/5d4eaca0c9fa3d555c79dbacdccb9169fdf64b65/base/secretbuffer.jl#L64\" target=\"_blank\">secretbuffer.jl:64</a><li> convert<i>{T<:AbstractString}</i>(::<b>Type{T}</b>, s::<b>T</b>) in Base at <a href=\"https://github.com/JuliaLang/julia/tree/5d4eaca0c9fa3d555c79dbacdccb9169fdf64b65/base/strings/basic.jl#L207\" target=\"_blank\">strings/basic.jl:207</a><li> convert<i>{S<:AbstractString}</i>(::<b>Type{SubString{S}}</b>, s::<b>AbstractString</b>) in Base at <a href=\"https://github.com/JuliaLang/julia/tree/5d4eaca0c9fa3d555c79dbacdccb9169fdf64b65/base/strings/substring.jl#L50\" target=\"_blank\">strings/substring.jl:50</a><li> convert<i>{T<:AbstractString}</i>(::<b>Type{T}</b>, s::<b>AbstractString</b>) in Base at <a href=\"https://github.com/JuliaLang/julia/tree/5d4eaca0c9fa3d555c79dbacdccb9169fdf64b65/base/strings/basic.jl#L208\" target=\"_blank\">strings/basic.jl:208</a><li> countlines(f::<b>AbstractString</b>) in Base at <a href=\"https://github.com/JuliaLang/julia/tree/5d4eaca0c9fa3d555c79dbacdccb9169fdf64b65/base/io.jl#L1025\" target=\"_blank\">io.jl:1025</a><li> cp(src::<b>AbstractString</b>, dst::<b>AbstractString</b>) in Base.Filesystem at <a href=\"https://github.com/JuliaLang/julia/tree/5d4eaca0c9fa3d555c79dbacdccb9169fdf64b65/base/file.jl#L330\" target=\"_blank\">file.jl:330</a><li> delete!(::<b>Base.EnvDict</b>, k::<b>AbstractString</b>) in Base at <a href=\"https://github.com/JuliaLang/julia/tree/5d4eaca0c9fa3d555c79dbacdccb9169fdf64b65/base/env.jl#L82\" target=\"_blank\">env.jl:82</a><li> dirname(path::<b>AbstractString</b>) in Base.Filesystem at <a href=\"https://github.com/JuliaLang/julia/tree/5d4eaca0c9fa3d555c79dbacdccb9169fdf64b65/base/path.jl#L151\" target=\"_blank\">path.jl:151</a><li> display(d::<b>AbstractDisplay</b>, mime::<b>AbstractString</b>, x) in Base.Multimedia at <a href=\"https://github.com/JuliaLang/julia/tree/5d4eaca0c9fa3d555c79dbacdccb9169fdf64b65/base/multimedia.jl#L178\" target=\"_blank\">multimedia.jl:178</a><li> display(mime::<b>AbstractString</b>, x) in Base.Multimedia at <a href=\"https://github.com/JuliaLang/julia/tree/5d4eaca0c9fa3d555c79dbacdccb9169fdf64b65/base/multimedia.jl#L179\" target=\"_blank\">multimedia.jl:179</a><li> displayable(d::<b>AbstractDisplay</b>, mime::<b>AbstractString</b>) in Base.Multimedia at <a href=\"https://github.com/JuliaLang/julia/tree/5d4eaca0c9fa3d555c79dbacdccb9169fdf64b65/base/multimedia.jl#L189\" target=\"_blank\">multimedia.jl:189</a><li> displayable(mime::<b>AbstractString</b>) in Base.Multimedia at <a href=\"https://github.com/JuliaLang/julia/tree/5d4eaca0c9fa3d555c79dbacdccb9169fdf64b65/base/multimedia.jl#L190\" target=\"_blank\">multimedia.jl:190</a><li> download(url::<b>AbstractString</b>) in Base at <a href=\"https://github.com/JuliaLang/julia/tree/5d4eaca0c9fa3d555c79dbacdccb9169fdf64b65/base/download.jl#L58\" target=\"_blank\">download.jl:58</a><li> download(url::<b>AbstractString</b>, filename::<b>AbstractString</b>) in Base at <a href=\"https://github.com/JuliaLang/julia/tree/5d4eaca0c9fa3d555c79dbacdccb9169fdf64b65/base/download.jl#L28\" target=\"_blank\">download.jl:28</a><li> eachline(filename::<b>AbstractString</b>) in Base at <a href=\"https://github.com/JuliaLang/julia/tree/5d4eaca0c9fa3d555c79dbacdccb9169fdf64b65/base/io.jl#L875\" target=\"_blank\">io.jl:875</a><li> eachmatch(re::<b>Regex</b>, str::<b>AbstractString</b>) in Base at <a href=\"https://github.com/JuliaLang/julia/tree/5d4eaca0c9fa3d555c79dbacdccb9169fdf64b65/base/regex.jl#L423\" target=\"_blank\">regex.jl:423</a><li> endswith(a::<b>AbstractString</b>, b::<b>AbstractString</b>) in Base at <a href=\"https://github.com/JuliaLang/julia/tree/5d4eaca0c9fa3d555c79dbacdccb9169fdf64b65/base/strings/util.jl#L42\" target=\"_blank\">strings/util.jl:42</a><li> endswith(str::<b>AbstractString</b>, chars::<b>Union{AbstractChar, Tuple{Vararg{AbstractChar,N} where N}, Set{#s55} where #s55<:AbstractChar, AbstractArray{#s56,1} where #s56<:AbstractChar}</b>) in Base at <a href=\"https://github.com/JuliaLang/julia/tree/5d4eaca0c9fa3d555c79dbacdccb9169fdf64b65/base/strings/util.jl#L46\" target=\"_blank\">strings/util.jl:46</a><li> error(s::<b>AbstractString</b>) in Base at <a href=\"https://github.com/JuliaLang/julia/tree/5d4eaca0c9fa3d555c79dbacdccb9169fdf64b65/base/error.jl#L33\" target=\"_blank\">error.jl:33</a><li> escape_string(io::<b>IO</b>, s::<b>AbstractString</b>) in Base at <a href=\"https://github.com/JuliaLang/julia/tree/5d4eaca0c9fa3d555c79dbacdccb9169fdf64b65/base/strings/io.jl#L306\" target=\"_blank\">strings/io.jl:306</a><li> escape_string(io::<b>IO</b>, s::<b>AbstractString</b>, esc) in Base at <a href=\"https://github.com/JuliaLang/julia/tree/5d4eaca0c9fa3d555c79dbacdccb9169fdf64b65/base/strings/io.jl#L306\" target=\"_blank\">strings/io.jl:306</a><li> escape_string(s::<b>AbstractString</b>) in Base at <a href=\"https://github.com/JuliaLang/julia/tree/5d4eaca0c9fa3d555c79dbacdccb9169fdf64b65/base/strings/io.jl#L332\" target=\"_blank\">strings/io.jl:332</a><li> escape_string(s::<b>AbstractString</b>, esc) in Base at <a href=\"https://github.com/JuliaLang/julia/tree/5d4eaca0c9fa3d555c79dbacdccb9169fdf64b65/base/strings/io.jl#L332\" target=\"_blank\">strings/io.jl:332</a><li> evalfile(path::<b>AbstractString</b>) in Base at <a href=\"https://github.com/JuliaLang/julia/tree/5d4eaca0c9fa3d555c79dbacdccb9169fdf64b65/base/loading.jl#L1069\" target=\"_blank\">loading.jl:1069</a><li> evalfile(path::<b>AbstractString</b>, args::<b>Array{String,1}</b>) in Base at <a href=\"https://github.com/JuliaLang/julia/tree/5d4eaca0c9fa3d555c79dbacdccb9169fdf64b65/base/loading.jl#L1069\" target=\"_blank\">loading.jl:1069</a><li> evalfile(path::<b>AbstractString</b>, args::<b>Array{T,1} where T</b>) in Base at <a href=\"https://github.com/JuliaLang/julia/tree/5d4eaca0c9fa3d555c79dbacdccb9169fdf64b65/base/loading.jl#L1076\" target=\"_blank\">loading.jl:1076</a><li> expanduser(path::<b>AbstractString</b>) in Base.Filesystem at <a href=\"https://github.com/JuliaLang/julia/tree/5d4eaca0c9fa3d555c79dbacdccb9169fdf64b65/base/path.jl#L344\" target=\"_blank\">path.jl:344</a><li> fdio(name::<b>AbstractString</b>, fd::<b>Integer</b>) in Base at <a href=\"https://github.com/JuliaLang/julia/tree/5d4eaca0c9fa3d555c79dbacdccb9169fdf64b65/base/iostream.jl#L207\" target=\"_blank\">iostream.jl:207</a><li> fdio(name::<b>AbstractString</b>, fd::<b>Integer</b>, own::<b>Bool</b>) in Base at <a href=\"https://github.com/JuliaLang/julia/tree/5d4eaca0c9fa3d555c79dbacdccb9169fdf64b65/base/iostream.jl#L207\" target=\"_blank\">iostream.jl:207</a><li> filter(f, s::<b>AbstractString</b>) in Base at <a href=\"https://github.com/JuliaLang/julia/tree/5d4eaca0c9fa3d555c79dbacdccb9169fdf64b65/base/strings/basic.jl#L581\" target=\"_blank\">strings/basic.jl:581</a><li> findfirst(A::<b>Union{AbstractString, AbstractArray}</b>) in Base at <a href=\"https://github.com/JuliaLang/julia/tree/5d4eaca0c9fa3d555c79dbacdccb9169fdf64b65/base/array.jl#L1661\" target=\"_blank\">array.jl:1661</a><li> findfirst(testf::<b>Function</b>, A::<b>Union{AbstractString, AbstractArray}</b>) in Base at <a href=\"https://github.com/JuliaLang/julia/tree/5d4eaca0c9fa3d555c79dbacdccb9169fdf64b65/base/array.jl#L1742\" target=\"_blank\">array.jl:1742</a><li> findfirst(pattern::<b>AbstractString</b>, string::<b>AbstractString</b>) in Base at <a href=\"https://github.com/JuliaLang/julia/tree/5d4eaca0c9fa3d555c79dbacdccb9169fdf64b65/base/strings/search.jl#L104\" target=\"_blank\">strings/search.jl:104</a><li> findfirst(r::<b>Regex</b>, s::<b>AbstractString</b>) in Base at <a href=\"https://github.com/JuliaLang/julia/tree/5d4eaca0c9fa3d555c79dbacdccb9169fdf64b65/base/regex.jl#L231\" target=\"_blank\">regex.jl:231</a><li> findlast(A::<b>Union{AbstractString, AbstractArray}</b>) in Base at <a href=\"https://github.com/JuliaLang/julia/tree/5d4eaca0c9fa3d555c79dbacdccb9169fdf64b65/base/array.jl#L1830\" target=\"_blank\">array.jl:1830</a><li> findlast(testf::<b>Function</b>, A::<b>Union{AbstractString, AbstractArray}</b>) in Base at <a href=\"https://github.com/JuliaLang/julia/tree/5d4eaca0c9fa3d555c79dbacdccb9169fdf64b65/base/array.jl#L1913\" target=\"_blank\">array.jl:1913</a><li> findlast(pattern::<b>AbstractString</b>, string::<b>AbstractString</b>) in Base at <a href=\"https://github.com/JuliaLang/julia/tree/5d4eaca0c9fa3d555c79dbacdccb9169fdf64b65/base/strings/search.jl#L274\" target=\"_blank\">strings/search.jl:274</a><li> findnext(testf::<b>Function</b>, s::<b>AbstractString</b>, i::<b>Integer</b>) in Base at <a href=\"https://github.com/JuliaLang/julia/tree/5d4eaca0c9fa3d555c79dbacdccb9169fdf64b65/base/strings/search.jl#L109\" target=\"_blank\">strings/search.jl:109</a><li> findnext(t::<b>AbstractString</b>, s::<b>AbstractString</b>, i::<b>Integer</b>) in Base at <a href=\"https://github.com/JuliaLang/julia/tree/5d4eaca0c9fa3d555c79dbacdccb9169fdf64b65/base/strings/search.jl#L256\" target=\"_blank\">strings/search.jl:256</a><li> findnext(r::<b>Regex</b>, s::<b>AbstractString</b>, idx::<b>Integer</b>) in Base at <a href=\"https://github.com/JuliaLang/julia/tree/5d4eaca0c9fa3d555c79dbacdccb9169fdf64b65/base/regex.jl#L228\" target=\"_blank\">regex.jl:228</a><li> findprev(testf::<b>Function</b>, s::<b>AbstractString</b>, i::<b>Integer</b>) in Base at <a href=\"https://github.com/JuliaLang/julia/tree/5d4eaca0c9fa3d555c79dbacdccb9169fdf64b65/base/strings/search.jl#L279\" target=\"_blank\">strings/search.jl:279</a><li> findprev(t::<b>AbstractString</b>, s::<b>AbstractString</b>, i::<b>Integer</b>) in Base at <a href=\"https://github.com/JuliaLang/julia/tree/5d4eaca0c9fa3d555c79dbacdccb9169fdf64b65/base/strings/search.jl#L433\" target=\"_blank\">strings/search.jl:433</a><li> first(s::<b>AbstractString</b>, n::<b>Integer</b>) in Base at <a href=\"https://github.com/JuliaLang/julia/tree/5d4eaca0c9fa3d555c79dbacdccb9169fdf64b65/base/strings/basic.jl#L606\" target=\"_blank\">strings/basic.jl:606</a><li> firstindex(s::<b>AbstractString</b>) in Base at <a href=\"https://github.com/JuliaLang/julia/tree/5d4eaca0c9fa3d555c79dbacdccb9169fdf64b65/base/strings/basic.jl#L158\" target=\"_blank\">strings/basic.jl:158</a><li> get(::<b>Base.EnvDict</b>, k::<b>AbstractString</b>, def) in Base at <a href=\"https://github.com/JuliaLang/julia/tree/5d4eaca0c9fa3d555c79dbacdccb9169fdf64b65/base/env.jl#L77\" target=\"_blank\">env.jl:77</a><li> get(s::<b>AbstractString</b>, i::<b>Integer</b>, default) in Base at <a href=\"https://github.com/JuliaLang/julia/tree/5d4eaca0c9fa3d555c79dbacdccb9169fdf64b65/base/strings/basic.jl#L176\" target=\"_blank\">strings/basic.jl:176</a><li> get(f::<b>Union{Function, Type}</b>, ::<b>Base.EnvDict</b>, k::<b>AbstractString</b>) in Base at <a href=\"https://github.com/JuliaLang/julia/tree/5d4eaca0c9fa3d555c79dbacdccb9169fdf64b65/base/env.jl#L78\" target=\"_blank\">env.jl:78</a><li> getindex(m::<b>RegexMatch</b>, name::<b>AbstractString</b>) in Base at <a href=\"https://github.com/JuliaLang/julia/tree/5d4eaca0c9fa3d555c79dbacdccb9169fdf64b65/base/regex.jl#L151\" target=\"_blank\">regex.jl:151</a><li> getindex(::<b>Base.EnvDict</b>, k::<b>AbstractString</b>) in Base at <a href=\"https://github.com/JuliaLang/julia/tree/5d4eaca0c9fa3d555c79dbacdccb9169fdf64b65/base/env.jl#L76\" target=\"_blank\">env.jl:76</a><li> getindex(tree::<b>LibGit2.GitTree</b>, target::<b>AbstractString</b>) in LibGit2 at <a href=\"file:///buildworker/worker/package_linux64/build/usr/share/julia/stdlib/v1.0/LibGit2/src/tree.jl\" target=\"_blank\">/buildworker/worker/package_linux64/build/usr/share/julia/stdlib/v1.0/LibGit2/src/tree.jl:164</a><li> getindex(tbl::<b>Pkg.TOML.Table</b>, key::<b>AbstractString</b>) in Pkg.TOML at <a href=\"file:///buildworker/worker/package_linux64/build/usr/share/julia/stdlib/v1.0/Pkg/ext/TOML/src/parser.jl\" target=\"_blank\">/buildworker/worker/package_linux64/build/usr/share/julia/stdlib/v1.0/Pkg/ext/TOML/src/parser.jl:31</a><li> getindex(s::<b>AbstractString</b>, i::<b>Integer</b>) in Base at <a href=\"https://github.com/JuliaLang/julia/tree/5d4eaca0c9fa3d555c79dbacdccb9169fdf64b65/base/strings/basic.jl#L162\" target=\"_blank\">strings/basic.jl:162</a><li> getindex(s::<b>AbstractString</b>, i::<b>Colon</b>) in Base at <a href=\"https://github.com/JuliaLang/julia/tree/5d4eaca0c9fa3d555c79dbacdccb9169fdf64b65/base/strings/basic.jl#L166\" target=\"_blank\">strings/basic.jl:166</a><li> getindex(s::<b>AbstractString</b>, r::<b>UnitRange{#s57} where #s57<:Integer</b>) in Base at <a href=\"https://github.com/JuliaLang/julia/tree/5d4eaca0c9fa3d555c79dbacdccb9169fdf64b65/base/strings/substring.jl#L178\" target=\"_blank\">strings/substring.jl:178</a><li> getindex(s::<b>AbstractString</b>, v::<b>AbstractArray{Bool,1}</b>) in Base at <a href=\"https://github.com/JuliaLang/julia/tree/5d4eaca0c9fa3d555c79dbacdccb9169fdf64b65/base/strings/basic.jl#L171\" target=\"_blank\">strings/basic.jl:171</a><li> getindex(s::<b>AbstractString</b>, v::<b>AbstractArray{#s57,1} where #s57<:Integer</b>) in Base at <a href=\"https://github.com/JuliaLang/julia/tree/5d4eaca0c9fa3d555c79dbacdccb9169fdf64b65/base/strings/basic.jl#L169\" target=\"_blank\">strings/basic.jl:169</a><li> hash(s::<b>AbstractString</b>, h::<b>UInt64</b>) in Base at <a href=\"https://github.com/JuliaLang/julia/tree/5d4eaca0c9fa3d555c79dbacdccb9169fdf64b65/base/hashing2.jl#L181\" target=\"_blank\">hashing2.jl:181</a><li> haskey(tbl::<b>Pkg.TOML.Table</b>, key::<b>AbstractString</b>) in Pkg.TOML at <a href=\"file:///buildworker/worker/package_linux64/build/usr/share/julia/stdlib/v1.0/Pkg/ext/TOML/src/parser.jl\" target=\"_blank\">/buildworker/worker/package_linux64/build/usr/share/julia/stdlib/v1.0/Pkg/ext/TOML/src/parser.jl:32</a><li> hex2bytes(s::<b>AbstractString</b>) in Base at <a href=\"https://github.com/JuliaLang/julia/tree/5d4eaca0c9fa3d555c79dbacdccb9169fdf64b65/base/strings/util.jl#L527\" target=\"_blank\">strings/util.jl:527</a><li> in(c::<b>AbstractChar</b>, s::<b>AbstractString</b>) in Base at <a href=\"https://github.com/JuliaLang/julia/tree/5d4eaca0c9fa3d555c79dbacdccb9169fdf64b65/base/strings/search.jl#L120\" target=\"_blank\">strings/search.jl:120</a><li> in(::<b>AbstractString</b>, ::<b>AbstractString</b>) in Base at <a href=\"https://github.com/JuliaLang/julia/tree/5d4eaca0c9fa3d555c79dbacdccb9169fdf64b65/base/strings/search.jl#L459\" target=\"_blank\">strings/search.jl:459</a><li> in(k::<b>AbstractString</b>, ::<b>Base.KeySet{String,Base.EnvDict}</b>) in Base at <a href=\"https://github.com/JuliaLang/julia/tree/5d4eaca0c9fa3d555c79dbacdccb9169fdf64b65/base/env.jl#L79\" target=\"_blank\">env.jl:79</a><li> include_dependency(path::<b>AbstractString</b>) in Base at <a href=\"https://github.com/JuliaLang/julia/tree/5d4eaca0c9fa3d555c79dbacdccb9169fdf64b65/base/loading.jl#L757\" target=\"_blank\">loading.jl:757</a><li> include_string(m::<b>Module</b>, txt::<b>AbstractString</b>) in Base at <a href=\"https://github.com/JuliaLang/julia/tree/5d4eaca0c9fa3d555c79dbacdccb9169fdf64b65/base/loading.jl#L1006\" target=\"_blank\">loading.jl:1006</a><li> include_string(m::<b>Module</b>, txt::<b>AbstractString</b>, fname::<b>AbstractString</b>) in Base at <a href=\"https://github.com/JuliaLang/julia/tree/5d4eaca0c9fa3d555c79dbacdccb9169fdf64b65/base/loading.jl#L1006\" target=\"_blank\">loading.jl:1006</a><li> isabspath(path::<b>AbstractString</b>) in Base.Filesystem at <a href=\"https://github.com/JuliaLang/julia/tree/5d4eaca0c9fa3d555c79dbacdccb9169fdf64b65/base/path.jl#L420\" target=\"_blank\">path.jl:420</a><li> isascii(s::<b>AbstractString</b>) in Base at <a href=\"https://github.com/JuliaLang/julia/tree/5d4eaca0c9fa3d555c79dbacdccb9169fdf64b65/base/strings/basic.jl#L563\" target=\"_blank\">strings/basic.jl:563</a><li> isdirpath(path::<b>AbstractString</b>) in Base.Filesystem at <a href=\"https://github.com/JuliaLang/julia/tree/5d4eaca0c9fa3d555c79dbacdccb9169fdf64b65/base/path.jl#L420\" target=\"_blank\">path.jl:420</a><li> isless(a::<b>AbstractString</b>, b::<b>AbstractString</b>) in Base at <a href=\"https://github.com/JuliaLang/julia/tree/5d4eaca0c9fa3d555c79dbacdccb9169fdf64b65/base/strings/basic.jl#L313\" target=\"_blank\">strings/basic.jl:313</a><li> istextmime(m::<b>AbstractString</b>) in Base.Multimedia at <a href=\"https://github.com/JuliaLang/julia/tree/5d4eaca0c9fa3d555c79dbacdccb9169fdf64b65/base/multimedia.jl#L152\" target=\"_blank\">multimedia.jl:152</a><li> isvalid(s::<b>AbstractString</b>, i::<b>Integer</b>) in Base at <a href=\"https://github.com/JuliaLang/julia/tree/5d4eaca0c9fa3d555c79dbacdccb9169fdf64b65/base/strings/basic.jl#L121\" target=\"_blank\">strings/basic.jl:121</a><li> iterate(s::<b>AbstractString</b>, i::<b>Integer</b>) in Base at <a href=\"https://github.com/JuliaLang/julia/tree/5d4eaca0c9fa3d555c79dbacdccb9169fdf64b65/base/strings/basic.jl#L135\" target=\"_blank\">strings/basic.jl:135</a><li> joinpath(a::<b>AbstractString</b>) in Base.Filesystem at <a href=\"https://github.com/JuliaLang/julia/tree/5d4eaca0c9fa3d555c79dbacdccb9169fdf64b65/base/path.jl#L199\" target=\"_blank\">path.jl:199</a><li> joinpath(a::<b>AbstractString</b>, b::<b>AbstractString</b>) in Base.Filesystem at <a href=\"https://github.com/JuliaLang/julia/tree/5d4eaca0c9fa3d555c79dbacdccb9169fdf64b65/base/path.jl#L226\" target=\"_blank\">path.jl:226</a><li> joinpath(a::<b>AbstractString</b>, b::<b>AbstractString</b>, c::<b>AbstractString...</b>) in Base.Filesystem at <a href=\"https://github.com/JuliaLang/julia/tree/5d4eaca0c9fa3d555c79dbacdccb9169fdf64b65/base/path.jl#L214\" target=\"_blank\">path.jl:214</a><li> keys(s::<b>AbstractString</b>) in Base at <a href=\"https://github.com/JuliaLang/julia/tree/5d4eaca0c9fa3d555c79dbacdccb9169fdf64b65/base/strings/basic.jl#L533\" target=\"_blank\">strings/basic.jl:533</a><li> last(s::<b>AbstractString</b>, n::<b>Integer</b>) in Base at <a href=\"https://github.com/JuliaLang/julia/tree/5d4eaca0c9fa3d555c79dbacdccb9169fdf64b65/base/strings/basic.jl#L624\" target=\"_blank\">strings/basic.jl:624</a><li> lastindex(s::<b>AbstractString</b>) in Base at <a href=\"https://github.com/JuliaLang/julia/tree/5d4eaca0c9fa3d555c79dbacdccb9169fdf64b65/base/strings/basic.jl#L159\" target=\"_blank\">strings/basic.jl:159</a><li> length(s::<b>AbstractString</b>) in Base at <a href=\"https://github.com/JuliaLang/julia/tree/5d4eaca0c9fa3d555c79dbacdccb9169fdf64b65/base/strings/basic.jl#L345\" target=\"_blank\">strings/basic.jl:345</a><li> length(s::<b>AbstractString</b>, i::<b>Int64</b>, j::<b>Int64</b>) in Base at <a href=\"https://github.com/JuliaLang/julia/tree/5d4eaca0c9fa3d555c79dbacdccb9169fdf64b65/base/strings/basic.jl#L348\" target=\"_blank\">strings/basic.jl:348</a><li> length(s::<b>AbstractString</b>, i::<b>Integer</b>, j::<b>Integer</b>) in Base at <a href=\"https://github.com/JuliaLang/julia/tree/5d4eaca0c9fa3d555c79dbacdccb9169fdf64b65/base/strings/basic.jl#L359\" target=\"_blank\">strings/basic.jl:359</a><li> lowercase(s::<b>AbstractString</b>) in Base.Unicode at <a href=\"https://github.com/JuliaLang/julia/tree/5d4eaca0c9fa3d555c79dbacdccb9169fdf64b65/base/strings/unicode.jl#L525\" target=\"_blank\">strings/unicode.jl:525</a><li> lowercasefirst(s::<b>AbstractString</b>) in Base.Unicode at <a href=\"https://github.com/JuliaLang/julia/tree/5d4eaca0c9fa3d555c79dbacdccb9169fdf64b65/base/strings/unicode.jl#L605\" target=\"_blank\">strings/unicode.jl:605</a><li> lpad(s::<b>Union{AbstractChar, AbstractString}</b>, n::<b>Integer</b>) in Base at <a href=\"https://github.com/JuliaLang/julia/tree/5d4eaca0c9fa3d555c79dbacdccb9169fdf64b65/base/strings/util.jl#L239\" target=\"_blank\">strings/util.jl:239</a><li> lpad(s::<b>Union{AbstractChar, AbstractString}</b>, n::<b>Integer</b>, p::<b>Union{AbstractChar, AbstractString}</b>) in Base at <a href=\"https://github.com/JuliaLang/julia/tree/5d4eaca0c9fa3d555c79dbacdccb9169fdf64b65/base/strings/util.jl#L239\" target=\"_blank\">strings/util.jl:239</a><li> lpad(s, n::<b>Integer</b>, p::<b>Union{AbstractChar, AbstractString}</b>) in Base at <a href=\"https://github.com/JuliaLang/julia/tree/5d4eaca0c9fa3d555c79dbacdccb9169fdf64b65/base/strings/util.jl#L232\" target=\"_blank\">strings/util.jl:232</a><li> lstat(path::<b>AbstractString</b>) in Base.Filesystem at <a href=\"https://github.com/JuliaLang/julia/tree/5d4eaca0c9fa3d555c79dbacdccb9169fdf64b65/base/stat.jl#L79\" target=\"_blank\">stat.jl:79</a><li> lstrip(s::<b>AbstractString</b>) in Base at <a href=\"https://github.com/JuliaLang/julia/tree/5d4eaca0c9fa3d555c79dbacdccb9169fdf64b65/base/strings/util.jl#L163\" target=\"_blank\">strings/util.jl:163</a><li> lstrip(f, s::<b>AbstractString</b>) in Base at <a href=\"https://github.com/JuliaLang/julia/tree/5d4eaca0c9fa3d555c79dbacdccb9169fdf64b65/base/strings/util.jl#L157\" target=\"_blank\">strings/util.jl:157</a><li> lstrip(s::<b>AbstractString</b>, chars::<b>Union{AbstractChar, Tuple{Vararg{AbstractChar,N} where N}, Set{#s55} where #s55<:AbstractChar, AbstractArray{#s56,1} where #s56<:AbstractChar}</b>) in Base at <a href=\"https://github.com/JuliaLang/julia/tree/5d4eaca0c9fa3d555c79dbacdccb9169fdf64b65/base/strings/util.jl#L164\" target=\"_blank\">strings/util.jl:164</a><li> map(f, s::<b>AbstractString</b>) in Base at <a href=\"https://github.com/JuliaLang/julia/tree/5d4eaca0c9fa3d555c79dbacdccb9169fdf64b65/base/strings/basic.jl#L569\" target=\"_blank\">strings/basic.jl:569</a><li> match(r::<b>Regex</b>, s::<b>AbstractString</b>) in Base at <a href=\"https://github.com/JuliaLang/julia/tree/5d4eaca0c9fa3d555c79dbacdccb9169fdf64b65/base/regex.jl#L210\" target=\"_blank\">regex.jl:210</a><li> match(r::<b>Regex</b>, s::<b>AbstractString</b>, i::<b>Integer</b>) in Base at <a href=\"https://github.com/JuliaLang/julia/tree/5d4eaca0c9fa3d555c79dbacdccb9169fdf64b65/base/regex.jl#L211\" target=\"_blank\">regex.jl:211</a><li> mkdir(path::<b>AbstractString</b>) in Base.Filesystem at <a href=\"https://github.com/JuliaLang/julia/tree/5d4eaca0c9fa3d555c79dbacdccb9169fdf64b65/base/file.jl#L162\" target=\"_blank\">file.jl:162</a><li> mkpath(path::<b>AbstractString</b>) in Base.Filesystem at <a href=\"https://github.com/JuliaLang/julia/tree/5d4eaca0c9fa3d555c79dbacdccb9169fdf64b65/base/file.jl#L207\" target=\"_blank\">file.jl:207</a><li> mv(src::<b>AbstractString</b>, dst::<b>AbstractString</b>) in Base.Filesystem at <a href=\"https://github.com/JuliaLang/julia/tree/5d4eaca0c9fa3d555c79dbacdccb9169fdf64b65/base/file.jl#L377\" target=\"_blank\">file.jl:377</a><li> nextind(s::<b>AbstractString</b>, i::<b>Int64</b>) in Base at <a href=\"https://github.com/JuliaLang/julia/tree/5d4eaca0c9fa3d555c79dbacdccb9169fdf64b65/base/strings/basic.jl#L515\" target=\"_blank\">strings/basic.jl:515</a><li> nextind(s::<b>AbstractString</b>, i::<b>Int64</b>, n::<b>Int64</b>) in Base at <a href=\"https://github.com/JuliaLang/julia/tree/5d4eaca0c9fa3d555c79dbacdccb9169fdf64b65/base/strings/basic.jl#L518\" target=\"_blank\">strings/basic.jl:518</a><li> nextind(s::<b>AbstractString</b>, i::<b>Integer</b>) in Base at <a href=\"https://github.com/JuliaLang/julia/tree/5d4eaca0c9fa3d555c79dbacdccb9169fdf64b65/base/strings/basic.jl#L514\" target=\"_blank\">strings/basic.jl:514</a><li> nextind(s::<b>AbstractString</b>, i::<b>Integer</b>, n::<b>Integer</b>) in Base at <a href=\"https://github.com/JuliaLang/julia/tree/5d4eaca0c9fa3d555c79dbacdccb9169fdf64b65/base/strings/basic.jl#L513\" target=\"_blank\">strings/basic.jl:513</a><li> normpath(path::<b>AbstractString</b>) in Base.Filesystem at <a href=\"https://github.com/JuliaLang/julia/tree/5d4eaca0c9fa3d555c79dbacdccb9169fdf64b65/base/path.jl#L420\" target=\"_blank\">path.jl:420</a><li> normpath(a::<b>AbstractString</b>, b::<b>AbstractString...</b>) in Base.Filesystem at <a href=\"https://github.com/JuliaLang/julia/tree/5d4eaca0c9fa3d555c79dbacdccb9169fdf64b65/base/path.jl#L272\" target=\"_blank\">path.jl:272</a><li> occursin(needle::<b>Union{AbstractChar, AbstractString}</b>, haystack::<b>AbstractString</b>) in Base at <a href=\"https://github.com/JuliaLang/julia/tree/5d4eaca0c9fa3d555c79dbacdccb9169fdf64b65/base/strings/search.jl#L456\" target=\"_blank\">strings/search.jl:456</a><li> occursin(r::<b>Regex</b>, s::<b>AbstractString</b>) in Base at <a href=\"https://github.com/JuliaLang/julia/tree/5d4eaca0c9fa3d555c79dbacdccb9169fdf64b65/base/regex.jl#L154\" target=\"_blank\">regex.jl:154</a><li> open(fname::<b>AbstractString</b>) in Base at <a href=\"https://github.com/JuliaLang/julia/tree/5d4eaca0c9fa3d555c79dbacdccb9169fdf64b65/base/iostream.jl#L275\" target=\"_blank\">iostream.jl:275</a><li> open(fname::<b>AbstractString</b>, mode::<b>AbstractString</b>) in Base at <a href=\"https://github.com/JuliaLang/julia/tree/5d4eaca0c9fa3d555c79dbacdccb9169fdf64b65/base/iostream.jl#L339\" target=\"_blank\">iostream.jl:339</a><li> open(cmds::<b>Base.AbstractCmd</b>, mode::<b>AbstractString</b>) in Base at <a href=\"https://github.com/JuliaLang/julia/tree/5d4eaca0c9fa3d555c79dbacdccb9169fdf64b65/base/process.jl#L562\" target=\"_blank\">process.jl:562</a><li> open(cmds::<b>Base.AbstractCmd</b>, mode::<b>AbstractString</b>, other::<b>Union{RawFD, FileRedirect, IO}</b>) in Base at <a href=\"https://github.com/JuliaLang/julia/tree/5d4eaca0c9fa3d555c79dbacdccb9169fdf64b65/base/process.jl#L562\" target=\"_blank\">process.jl:562</a><li> parse(::<b>Type{LibGit2.GitCredential}</b>, url::<b>AbstractString</b>) in LibGit2 at <a href=\"file:///buildworker/worker/package_linux64/build/usr/share/julia/stdlib/v1.0/LibGit2/src/gitcredential.jl\" target=\"_blank\">/buildworker/worker/package_linux64/build/usr/share/julia/stdlib/v1.0/LibGit2/src/gitcredential.jl:71</a><li> parse(::<b>Type{LibGit2.GitCredentialHelper}</b>, helper::<b>AbstractString</b>) in LibGit2 at <a href=\"file:///buildworker/worker/package_linux64/build/usr/share/julia/stdlib/v1.0/LibGit2/src/gitcredential.jl\" target=\"_blank\">/buildworker/worker/package_linux64/build/usr/share/julia/stdlib/v1.0/LibGit2/src/gitcredential.jl:158</a><li> parse(::<b>Type{Sockets.IPv4}</b>, str::<b>AbstractString</b>) in Sockets at <a href=\"file:///buildworker/worker/package_linux64/build/usr/share/julia/stdlib/v1.0/Sockets/src/IPAddr.jl\" target=\"_blank\">/buildworker/worker/package_linux64/build/usr/share/julia/stdlib/v1.0/Sockets/src/IPAddr.jl:166</a><li> parse(::<b>Type{Sockets.IPv6}</b>, str::<b>AbstractString</b>) in Sockets at <a href=\"file:///buildworker/worker/package_linux64/build/usr/share/julia/stdlib/v1.0/Sockets/src/IPAddr.jl\" target=\"_blank\">/buildworker/worker/package_linux64/build/usr/share/julia/stdlib/v1.0/Sockets/src/IPAddr.jl:217</a><li> parse(::<b>Type{Sockets.IPAddr}</b>, str::<b>AbstractString</b>) in Sockets at <a href=\"file:///buildworker/worker/package_linux64/build/usr/share/julia/stdlib/v1.0/Sockets/src/IPAddr.jl\" target=\"_blank\">/buildworker/worker/package_linux64/build/usr/share/julia/stdlib/v1.0/Sockets/src/IPAddr.jl:237</a><li> parse(::<b>Type{Dates.DateTime}</b>, s::<b>AbstractString</b>, df::<b>Dates.DateFormat{Symbol(\"yyyy-mm-dd\\\\THH:MM:SS.s\"),Tuple{Dates.DatePart{'y'},Dates.Delim{Char,1},Dates.DatePart{'m'},Dates.Delim{Char,1},Dates.DatePart{'d'},Dates.Delim{Char,1},Dates.DatePart{'H'},Dates.Delim{Char,1},Dates.DatePart{'M'},Dates.Delim{Char,1},Dates.DatePart{'S'},Dates.Delim{Char,1},Dates.DatePart{'s'}}}</b>) in Dates at <a href=\"file:///buildworker/worker/package_linux64/build/usr/share/julia/stdlib/v1.0/Dates/src/parse.jl\" target=\"_blank\">/buildworker/worker/package_linux64/build/usr/share/julia/stdlib/v1.0/Dates/src/parse.jl:200</a><li> parse<i>{T<:Integer}</i>(::<b>Type{T}</b>, s::<b>AbstractString</b>) in Base at <a href=\"https://github.com/JuliaLang/julia/tree/5d4eaca0c9fa3d555c79dbacdccb9169fdf64b65/base/parse.jl#L217\" target=\"_blank\">parse.jl:217</a><li> parse<i>{T<:Real}</i>(::<b>Type{T}</b>, s::<b>AbstractString</b>) in Base at <a href=\"https://github.com/JuliaLang/julia/tree/5d4eaca0c9fa3d555c79dbacdccb9169fdf64b65/base/parse.jl#L355\" target=\"_blank\">parse.jl:355</a><li> parse<i>{T<:Complex}</i>(::<b>Type{T}</b>, s::<b>AbstractString</b>) in Base at <a href=\"https://github.com/JuliaLang/julia/tree/5d4eaca0c9fa3d555c79dbacdccb9169fdf64b65/base/parse.jl#L357\" target=\"_blank\">parse.jl:357</a><li> parse<i>{T<:TimeType}</i>(::<b>Type{T}</b>, str::<b>AbstractString</b>) in Dates at <a href=\"file:///buildworker/worker/package_linux64/build/usr/share/julia/stdlib/v1.0/Dates/src/parse.jl\" target=\"_blank\">/buildworker/worker/package_linux64/build/usr/share/julia/stdlib/v1.0/Dates/src/parse.jl:281</a><li> parse<i>{T<:TimeType}</i>(::<b>Type{T}</b>, str::<b>AbstractString</b>, df::<b>Dates.DateFormat</b>) in Dates at <a href=\"file:///buildworker/worker/package_linux64/build/usr/share/julia/stdlib/v1.0/Dates/src/parse.jl\" target=\"_blank\">/buildworker/worker/package_linux64/build/usr/share/julia/stdlib/v1.0/Dates/src/parse.jl:281</a><li> pipeline(src::<b>Union{RawFD, FileRedirect, AbstractString, IO}</b>, cmd::<b>Base.AbstractCmd</b>) in Base at <a href=\"https://github.com/JuliaLang/julia/tree/5d4eaca0c9fa3d555c79dbacdccb9169fdf64b65/base/process.jl#L277\" target=\"_blank\">process.jl:277</a><li> pop!(::<b>Base.EnvDict</b>, k::<b>AbstractString</b>) in Base at <a href=\"https://github.com/JuliaLang/julia/tree/5d4eaca0c9fa3d555c79dbacdccb9169fdf64b65/base/env.jl#L80\" target=\"_blank\">env.jl:80</a><li> pop!(::<b>Base.EnvDict</b>, k::<b>AbstractString</b>, def) in Base at <a href=\"https://github.com/JuliaLang/julia/tree/5d4eaca0c9fa3d555c79dbacdccb9169fdf64b65/base/env.jl#L81\" target=\"_blank\">env.jl:81</a><li> prevind(s::<b>AbstractString</b>, i::<b>Int64</b>) in Base at <a href=\"https://github.com/JuliaLang/julia/tree/5d4eaca0c9fa3d555c79dbacdccb9169fdf64b65/base/strings/basic.jl#L455\" target=\"_blank\">strings/basic.jl:455</a><li> prevind(s::<b>AbstractString</b>, i::<b>Int64</b>, n::<b>Int64</b>) in Base at <a href=\"https://github.com/JuliaLang/julia/tree/5d4eaca0c9fa3d555c79dbacdccb9169fdf64b65/base/strings/basic.jl#L458\" target=\"_blank\">strings/basic.jl:458</a><li> prevind(s::<b>AbstractString</b>, i::<b>Integer</b>) in Base at <a href=\"https://github.com/JuliaLang/julia/tree/5d4eaca0c9fa3d555c79dbacdccb9169fdf64b65/base/strings/basic.jl#L454\" target=\"_blank\">strings/basic.jl:454</a><li> prevind(s::<b>AbstractString</b>, i::<b>Integer</b>, n::<b>Integer</b>) in Base at <a href=\"https://github.com/JuliaLang/julia/tree/5d4eaca0c9fa3d555c79dbacdccb9169fdf64b65/base/strings/basic.jl#L453\" target=\"_blank\">strings/basic.jl:453</a><li> print(io::<b>IO</b>, s::<b>AbstractString</b>) in Base at <a href=\"https://github.com/JuliaLang/julia/tree/5d4eaca0c9fa3d555c79dbacdccb9169fdf64b65/base/strings/io.jl#L147\" target=\"_blank\">strings/io.jl:147</a><li> read<i>{T}</i>(filename::<b>AbstractString</b>, ::<b>Type{T}</b>) in Base at <a href=\"https://github.com/JuliaLang/julia/tree/5d4eaca0c9fa3d555c79dbacdccb9169fdf64b65/base/io.jl#L297\" target=\"_blank\">io.jl:297</a><li> read(filename::<b>AbstractString</b>, args...) in Base at <a href=\"https://github.com/JuliaLang/julia/tree/5d4eaca0c9fa3d555c79dbacdccb9169fdf64b65/base/io.jl#L295\" target=\"_blank\">io.jl:295</a><li> read!(filename::<b>AbstractString</b>, a) in Base at <a href=\"https://github.com/JuliaLang/julia/tree/5d4eaca0c9fa3d555c79dbacdccb9169fdf64b65/base/io.jl#L307\" target=\"_blank\">io.jl:307</a><li> readdir(path::<b>AbstractString</b>) in Base.Filesystem at <a href=\"https://github.com/JuliaLang/julia/tree/5d4eaca0c9fa3d555c79dbacdccb9169fdf64b65/base/file.jl#L615\" target=\"_blank\">file.jl:615</a><li> readline(filename::<b>AbstractString</b>) in Base at <a href=\"https://github.com/JuliaLang/julia/tree/5d4eaca0c9fa3d555c79dbacdccb9169fdf64b65/base/io.jl#L364\" target=\"_blank\">io.jl:364</a><li> readlines(filename::<b>AbstractString</b>) in Base at <a href=\"https://github.com/JuliaLang/julia/tree/5d4eaca0c9fa3d555c79dbacdccb9169fdf64b65/base/io.jl#L410\" target=\"_blank\">io.jl:410</a><li> readlink(path::<b>AbstractString</b>) in Base.Filesystem at <a href=\"https://github.com/JuliaLang/julia/tree/5d4eaca0c9fa3d555c79dbacdccb9169fdf64b65/base/file.jl#L801\" target=\"_blank\">file.jl:801</a><li> readuntil(io::<b>Base.AbstractPipe</b>, arg::<b>AbstractString</b>) in Base at <a href=\"https://github.com/JuliaLang/julia/tree/5d4eaca0c9fa3d555c79dbacdccb9169fdf64b65/base/io.jl#L234\" target=\"_blank\">io.jl:234</a><li> readuntil(filename::<b>AbstractString</b>, args...) in Base at <a href=\"https://github.com/JuliaLang/julia/tree/5d4eaca0c9fa3d555c79dbacdccb9169fdf64b65/base/io.jl#L334\" target=\"_blank\">io.jl:334</a><li> readuntil(io::<b>IO</b>, target::<b>AbstractString</b>) in Base at <a href=\"https://github.com/JuliaLang/julia/tree/5d4eaca0c9fa3d555c79dbacdccb9169fdf64b65/base/io.jl#L752\" target=\"_blank\">io.jl:752</a><li> realpath(path::<b>AbstractString</b>) in Base.Filesystem at <a href=\"https://github.com/JuliaLang/julia/tree/5d4eaca0c9fa3d555c79dbacdccb9169fdf64b65/base/path.jl#L321\" target=\"_blank\">path.jl:321</a><li> redisplay(m::<b>Union{AbstractString, MIME}</b>, x) in Base.Multimedia at <a href=\"https://github.com/JuliaLang/julia/tree/5d4eaca0c9fa3d555c79dbacdccb9169fdf64b65/base/multimedia.jl#L357\" target=\"_blank\">multimedia.jl:357</a><li> redisplay(d::<b>AbstractDisplay</b>, m::<b>Union{AbstractString, MIME}</b>, x) in Base.Multimedia at <a href=\"https://github.com/JuliaLang/julia/tree/5d4eaca0c9fa3d555c79dbacdccb9169fdf64b65/base/multimedia.jl#L372\" target=\"_blank\">multimedia.jl:372</a><li> relpath(path::<b>AbstractString</b>, startpath::<b>AbstractString</b>) in Base.Filesystem at <a href=\"https://github.com/JuliaLang/julia/tree/5d4eaca0c9fa3d555c79dbacdccb9169fdf64b65/base/path.jl#L416\" target=\"_blank\">path.jl:416</a><li> repeat(s::<b>AbstractString</b>, r::<b>Integer</b>) in Base at <a href=\"https://github.com/JuliaLang/julia/tree/5d4eaca0c9fa3d555c79dbacdccb9169fdf64b65/base/strings/basic.jl#L659\" target=\"_blank\">strings/basic.jl:659</a><li> replace(s::<b>AbstractString</b>, pat_f::<b>Pair</b>) in Base at <a href=\"https://github.com/JuliaLang/julia/tree/5d4eaca0c9fa3d555c79dbacdccb9169fdf64b65/base/strings/util.jl#L482\" target=\"_blank\">strings/util.jl:482</a><li> replace(a::<b>AbstractString</b>, b::<b>Pair</b>, c::<b>Pair</b>) in Base at <a href=\"https://github.com/JuliaLang/julia/tree/5d4eaca0c9fa3d555c79dbacdccb9169fdf64b65/base/set.jl#L487\" target=\"_blank\">set.jl:487</a><li> repr(m::<b>AbstractString</b>, x) in Base.Multimedia at <a href=\"https://github.com/JuliaLang/julia/tree/5d4eaca0c9fa3d555c79dbacdccb9169fdf64b65/base/multimedia.jl#L116\" target=\"_blank\">multimedia.jl:116</a><li> reverseind(s::<b>AbstractString</b>, i::<b>Integer</b>) in Base at <a href=\"https://github.com/JuliaLang/julia/tree/5d4eaca0c9fa3d555c79dbacdccb9169fdf64b65/base/strings/basic.jl#L644\" target=\"_blank\">strings/basic.jl:644</a><li> rm(path::<b>AbstractString</b>) in Base.Filesystem at <a href=\"https://github.com/JuliaLang/julia/tree/5d4eaca0c9fa3d555c79dbacdccb9169fdf64b65/base/file.jl#L245\" target=\"_blank\">file.jl:245</a><li> rpad(s::<b>Union{AbstractChar, AbstractString}</b>, n::<b>Integer</b>) in Base at <a href=\"https://github.com/JuliaLang/julia/tree/5d4eaca0c9fa3d555c79dbacdccb9169fdf64b65/base/strings/util.jl#L266\" target=\"_blank\">strings/util.jl:266</a><li> rpad(s::<b>Union{AbstractChar, AbstractString}</b>, n::<b>Integer</b>, p::<b>Union{AbstractChar, AbstractString}</b>) in Base at <a href=\"https://github.com/JuliaLang/julia/tree/5d4eaca0c9fa3d555c79dbacdccb9169fdf64b65/base/strings/util.jl#L266\" target=\"_blank\">strings/util.jl:266</a><li> rpad(s, n::<b>Integer</b>, p::<b>Union{AbstractChar, AbstractString}</b>) in Base at <a href=\"https://github.com/JuliaLang/julia/tree/5d4eaca0c9fa3d555c79dbacdccb9169fdf64b65/base/strings/util.jl#L259\" target=\"_blank\">strings/util.jl:259</a><li> rsplit(str::<b>AbstractString</b>) in Base at <a href=\"https://github.com/JuliaLang/julia/tree/5d4eaca0c9fa3d555c79dbacdccb9169fdf64b65/base/strings/util.jl#L405\" target=\"_blank\">strings/util.jl:405</a><li> rsplit<i>{T<:AbstractString}</i>(str::<b>T</b>, splitter::<b>Union{Tuple{Vararg{AbstractChar,N} where N}, Set{#s51} where #s51<:AbstractChar, AbstractArray{#s52,1} where #s52<:AbstractChar}</b>) in Base at <a href=\"https://github.com/JuliaLang/julia/tree/5d4eaca0c9fa3d555c79dbacdccb9169fdf64b65/base/strings/util.jl#L384\" target=\"_blank\">strings/util.jl:384</a><li> rsplit<i>{T<:AbstractString}</i>(str::<b>T</b>, splitter::<b>AbstractChar</b>) in Base at <a href=\"https://github.com/JuliaLang/julia/tree/5d4eaca0c9fa3d555c79dbacdccb9169fdf64b65/base/strings/util.jl#L388\" target=\"_blank\">strings/util.jl:388</a><li> rsplit<i>{T<:AbstractString}</i>(str::<b>T</b>, splitter) in Base at <a href=\"https://github.com/JuliaLang/julia/tree/5d4eaca0c9fa3d555c79dbacdccb9169fdf64b65/base/strings/util.jl#L380\" target=\"_blank\">strings/util.jl:380</a><li> rstrip(s::<b>AbstractString</b>) in Base at <a href=\"https://github.com/JuliaLang/julia/tree/5d4eaca0c9fa3d555c79dbacdccb9169fdf64b65/base/strings/util.jl#L194\" target=\"_blank\">strings/util.jl:194</a><li> rstrip(f, s::<b>AbstractString</b>) in Base at <a href=\"https://github.com/JuliaLang/julia/tree/5d4eaca0c9fa3d555c79dbacdccb9169fdf64b65/base/strings/util.jl#L189\" target=\"_blank\">strings/util.jl:189</a><li> rstrip(s::<b>AbstractString</b>, chars::<b>Union{AbstractChar, Tuple{Vararg{AbstractChar,N} where N}, Set{#s55} where #s55<:AbstractChar, AbstractArray{#s56,1} where #s56<:AbstractChar}</b>) in Base at <a href=\"https://github.com/JuliaLang/julia/tree/5d4eaca0c9fa3d555c79dbacdccb9169fdf64b65/base/strings/util.jl#L195\" target=\"_blank\">strings/util.jl:195</a><li> setindex!(::<b>Base.EnvDict</b>, v, k::<b>AbstractString</b>) in Base at <a href=\"https://github.com/JuliaLang/julia/tree/5d4eaca0c9fa3d555c79dbacdccb9169fdf64b65/base/env.jl#L83\" target=\"_blank\">env.jl:83</a><li> show(io::<b>IO</b>, s::<b>AbstractString</b>) in Base at <a href=\"https://github.com/JuliaLang/julia/tree/5d4eaca0c9fa3d555c79dbacdccb9169fdf64b65/base/strings/io.jl#L149\" target=\"_blank\">strings/io.jl:149</a><li> show(io::<b>IO</b>, m::<b>AbstractString</b>, x) in Base.Multimedia at <a href=\"https://github.com/JuliaLang/julia/tree/5d4eaca0c9fa3d555c79dbacdccb9169fdf64b65/base/multimedia.jl#L79\" target=\"_blank\">multimedia.jl:79</a><li> showable(m::<b>AbstractString</b>, x) in Base.Multimedia at <a href=\"https://github.com/JuliaLang/julia/tree/5d4eaca0c9fa3d555c79dbacdccb9169fdf64b65/base/multimedia.jl#L47\" target=\"_blank\">multimedia.jl:47</a><li> sizeof(s::<b>AbstractString</b>) in Base at <a href=\"https://github.com/JuliaLang/julia/tree/5d4eaca0c9fa3d555c79dbacdccb9169fdf64b65/base/strings/basic.jl#L157\" target=\"_blank\">strings/basic.jl:157</a><li> split(str::<b>AbstractString</b>) in Base at <a href=\"https://github.com/JuliaLang/julia/tree/5d4eaca0c9fa3d555c79dbacdccb9169fdf64b65/base/strings/util.jl#L344\" target=\"_blank\">strings/util.jl:344</a><li> split<i>{T<:AbstractString}</i>(str::<b>T</b>, splitter::<b>Union{Tuple{Vararg{AbstractChar,N} where N}, Set{#s51} where #s51<:AbstractChar, AbstractArray{#s52,1} where #s52<:AbstractChar}</b>) in Base at <a href=\"https://github.com/JuliaLang/julia/tree/5d4eaca0c9fa3d555c79dbacdccb9169fdf64b65/base/strings/util.jl#L310\" target=\"_blank\">strings/util.jl:310</a><li> split<i>{T<:AbstractString}</i>(str::<b>T</b>, splitter::<b>AbstractChar</b>) in Base at <a href=\"https://github.com/JuliaLang/julia/tree/5d4eaca0c9fa3d555c79dbacdccb9169fdf64b65/base/strings/util.jl#L314\" target=\"_blank\">strings/util.jl:314</a><li> split<i>{T<:AbstractString}</i>(str::<b>T</b>, splitter) in Base at <a href=\"https://github.com/JuliaLang/julia/tree/5d4eaca0c9fa3d555c79dbacdccb9169fdf64b65/base/strings/util.jl#L306\" target=\"_blank\">strings/util.jl:306</a><li> splitdir(path::<b>AbstractString</b>) in Base.Filesystem at <a href=\"https://github.com/JuliaLang/julia/tree/5d4eaca0c9fa3d555c79dbacdccb9169fdf64b65/base/path.jl#L420\" target=\"_blank\">path.jl:420</a><li> splitdrive(path::<b>AbstractString</b>) in Base.Filesystem at <a href=\"https://github.com/JuliaLang/julia/tree/5d4eaca0c9fa3d555c79dbacdccb9169fdf64b65/base/path.jl#L420\" target=\"_blank\">path.jl:420</a><li> splitext(path::<b>AbstractString</b>) in Base.Filesystem at <a href=\"https://github.com/JuliaLang/julia/tree/5d4eaca0c9fa3d555c79dbacdccb9169fdf64b65/base/path.jl#L420\" target=\"_blank\">path.jl:420</a><li> startswith(a::<b>AbstractString</b>, b::<b>AbstractString</b>) in Base at <a href=\"https://github.com/JuliaLang/julia/tree/5d4eaca0c9fa3d555c79dbacdccb9169fdf64b65/base/strings/util.jl#L22\" target=\"_blank\">strings/util.jl:22</a><li> startswith(str::<b>AbstractString</b>, chars::<b>Union{AbstractChar, Tuple{Vararg{AbstractChar,N} where N}, Set{#s55} where #s55<:AbstractChar, AbstractArray{#s56,1} where #s56<:AbstractChar}</b>) in Base at <a href=\"https://github.com/JuliaLang/julia/tree/5d4eaca0c9fa3d555c79dbacdccb9169fdf64b65/base/strings/util.jl#L25\" target=\"_blank\">strings/util.jl:25</a><li> stat(path::<b>AbstractString</b>) in Base.Filesystem at <a href=\"https://github.com/JuliaLang/julia/tree/5d4eaca0c9fa3d555c79dbacdccb9169fdf64b65/base/stat.jl#L78\" target=\"_blank\">stat.jl:78</a><li> string(s::<b>AbstractString</b>) in Base at <a href=\"https://github.com/JuliaLang/julia/tree/5d4eaca0c9fa3d555c79dbacdccb9169fdf64b65/base/strings/basic.jl#L199\" target=\"_blank\">strings/basic.jl:199</a><li> strip(s::<b>AbstractString</b>) in Base at <a href=\"https://github.com/JuliaLang/julia/tree/5d4eaca0c9fa3d555c79dbacdccb9169fdf64b65/base/strings/util.jl#L214\" target=\"_blank\">strings/util.jl:214</a><li> strip(s::<b>AbstractString</b>, chars) in Base at <a href=\"https://github.com/JuliaLang/julia/tree/5d4eaca0c9fa3d555c79dbacdccb9169fdf64b65/base/strings/util.jl#L215\" target=\"_blank\">strings/util.jl:215</a><li> symlink(p::<b>AbstractString</b>, np::<b>AbstractString</b>) in Base.Filesystem at <a href=\"https://github.com/JuliaLang/julia/tree/5d4eaca0c9fa3d555c79dbacdccb9169fdf64b65/base/file.jl#L774\" target=\"_blank\">file.jl:774</a><li> textwidth(s::<b>AbstractString</b>) in Base.Unicode at <a href=\"https://github.com/JuliaLang/julia/tree/5d4eaca0c9fa3d555c79dbacdccb9169fdf64b65/base/strings/unicode.jl#L237\" target=\"_blank\">strings/unicode.jl:237</a><li> thisind(s::<b>AbstractString</b>, i::<b>Int64</b>) in Base at <a href=\"https://github.com/JuliaLang/julia/tree/5d4eaca0c9fa3d555c79dbacdccb9169fdf64b65/base/strings/basic.jl#L399\" target=\"_blank\">strings/basic.jl:399</a><li> thisind(s::<b>AbstractString</b>, i::<b>Integer</b>) in Base at <a href=\"https://github.com/JuliaLang/julia/tree/5d4eaca0c9fa3d555c79dbacdccb9169fdf64b65/base/strings/basic.jl#L396\" target=\"_blank\">strings/basic.jl:396</a><li> titlecase(s::<b>AbstractString</b>) in Base.Unicode at <a href=\"https://github.com/JuliaLang/julia/tree/5d4eaca0c9fa3d555c79dbacdccb9169fdf64b65/base/strings/unicode.jl#L552\" target=\"_blank\">strings/unicode.jl:552</a><li> touch(path::<b>AbstractString</b>) in Base.Filesystem at <a href=\"https://github.com/JuliaLang/julia/tree/5d4eaca0c9fa3d555c79dbacdccb9169fdf64b65/base/file.jl#L404\" target=\"_blank\">file.jl:404</a><li> tryparse(::<b>Type{Float16}</b>, s::<b>AbstractString</b>) in Base at <a href=\"https://github.com/JuliaLang/julia/tree/5d4eaca0c9fa3d555c79dbacdccb9169fdf64b65/base/parse.jl#L264\" target=\"_blank\">parse.jl:264</a><li> tryparse(::<b>Type{BigFloat}</b>, s::<b>AbstractString</b>) in Base.MPFR at <a href=\"https://github.com/JuliaLang/julia/tree/5d4eaca0c9fa3d555c79dbacdccb9169fdf64b65/base/mpfr.jl#L157\" target=\"_blank\">mpfr.jl:157</a><li> tryparse<i>{T<:Integer}</i>(::<b>Type{T}</b>, s::<b>AbstractString</b>) in Base at <a href=\"https://github.com/JuliaLang/julia/tree/5d4eaca0c9fa3d555c79dbacdccb9169fdf64b65/base/parse.jl#L213\" target=\"_blank\">parse.jl:213</a><li> tryparse<i>{T<:Union{Float32, Float64}}</i>(::<b>Type{T}</b>, s::<b>AbstractString</b>) in Base at <a href=\"https://github.com/JuliaLang/julia/tree/5d4eaca0c9fa3d555c79dbacdccb9169fdf64b65/base/parse.jl#L263\" target=\"_blank\">parse.jl:263</a><li> tryparse<i>{S<:Real}</i>(T::<b>Type{Complex{S}}</b>, s::<b>AbstractString</b>) in Base at <a href=\"https://github.com/JuliaLang/julia/tree/5d4eaca0c9fa3d555c79dbacdccb9169fdf64b65/base/parse.jl#L360\" target=\"_blank\">parse.jl:360</a><li> tryparse<i>{T<:TimeType}</i>(::<b>Type{T}</b>, str::<b>AbstractString</b>) in Dates at <a href=\"file:///buildworker/worker/package_linux64/build/usr/share/julia/stdlib/v1.0/Dates/src/parse.jl\" target=\"_blank\">/buildworker/worker/package_linux64/build/usr/share/julia/stdlib/v1.0/Dates/src/parse.jl:289</a><li> tryparse<i>{T<:TimeType}</i>(::<b>Type{T}</b>, str::<b>AbstractString</b>, df::<b>Dates.DateFormat</b>) in Dates at <a href=\"file:///buildworker/worker/package_linux64/build/usr/share/julia/stdlib/v1.0/Dates/src/parse.jl\" target=\"_blank\">/buildworker/worker/package_linux64/build/usr/share/julia/stdlib/v1.0/Dates/src/parse.jl:289</a><li> unescape_string(s::<b>AbstractString</b>) in Base at <a href=\"https://github.com/JuliaLang/julia/tree/5d4eaca0c9fa3d555c79dbacdccb9169fdf64b65/base/strings/io.jl#L428\" target=\"_blank\">strings/io.jl:428</a><li> unescape_string(io, s::<b>AbstractString</b>) in Base at <a href=\"https://github.com/JuliaLang/julia/tree/5d4eaca0c9fa3d555c79dbacdccb9169fdf64b65/base/strings/io.jl#L374\" target=\"_blank\">strings/io.jl:374</a><li> uppercase(s::<b>AbstractString</b>) in Base.Unicode at <a href=\"https://github.com/JuliaLang/julia/tree/5d4eaca0c9fa3d555c79dbacdccb9169fdf64b65/base/strings/unicode.jl#L512\" target=\"_blank\">strings/unicode.jl:512</a><li> uppercasefirst(s::<b>AbstractString</b>) in Base.Unicode at <a href=\"https://github.com/JuliaLang/julia/tree/5d4eaca0c9fa3d555c79dbacdccb9169fdf64b65/base/strings/unicode.jl#L583\" target=\"_blank\">strings/unicode.jl:583</a><li> write(filename::<b>AbstractString</b>, a1, args...) in Base at <a href=\"https://github.com/JuliaLang/julia/tree/5d4eaca0c9fa3d555c79dbacdccb9169fdf64b65/base/io.jl#L283\" target=\"_blank\">io.jl:283</a><li> write(io::<b>IO</b>, s::<b>AbstractString</b>) in Base at <a href=\"https://github.com/JuliaLang/julia/tree/5d4eaca0c9fa3d555c79dbacdccb9169fdf64b65/base/strings/io.jl#L148\" target=\"_blank\">strings/io.jl:148</a><li> edit(path::<b>AbstractString</b>) in InteractiveUtils at <a href=\"file:///buildworker/worker/package_linux64/build/usr/share/julia/stdlib/v1.0/InteractiveUtils/src/editless.jl\" target=\"_blank\">/buildworker/worker/package_linux64/build/usr/share/julia/stdlib/v1.0/InteractiveUtils/src/editless.jl:37</a><li> edit(path::<b>AbstractString</b>, line::<b>Integer</b>) in InteractiveUtils at <a href=\"file:///buildworker/worker/package_linux64/build/usr/share/julia/stdlib/v1.0/InteractiveUtils/src/editless.jl\" target=\"_blank\">/buildworker/worker/package_linux64/build/usr/share/julia/stdlib/v1.0/InteractiveUtils/src/editless.jl:37</a><li> less(file::<b>AbstractString</b>) in InteractiveUtils at <a href=\"file:///buildworker/worker/package_linux64/build/usr/share/julia/stdlib/v1.0/InteractiveUtils/src/editless.jl\" target=\"_blank\">/buildworker/worker/package_linux64/build/usr/share/julia/stdlib/v1.0/InteractiveUtils/src/editless.jl:119</a><li> less(file::<b>AbstractString</b>, line::<b>Integer</b>) in InteractiveUtils at <a href=\"file:///buildworker/worker/package_linux64/build/usr/share/julia/stdlib/v1.0/InteractiveUtils/src/editless.jl\" target=\"_blank\">/buildworker/worker/package_linux64/build/usr/share/julia/stdlib/v1.0/InteractiveUtils/src/editless.jl:107</a><li> graphemes(s::<b>AbstractString</b>) in Unicode at <a href=\"file:///buildworker/worker/package_linux64/build/usr/share/julia/stdlib/v1.0/Unicode/src/Unicode.jl\" target=\"_blank\">/buildworker/worker/package_linux64/build/usr/share/julia/stdlib/v1.0/Unicode/src/Unicode.jl:82</a><li> init_worker(cookie::<b>AbstractString</b>) in Distributed at <a href=\"file:///buildworker/worker/package_linux64/build/usr/share/julia/stdlib/v1.0/Distributed/src/cluster.jl\" target=\"_blank\">/buildworker/worker/package_linux64/build/usr/share/julia/stdlib/v1.0/Distributed/src/cluster.jl:324</a><li> init_worker(cookie::<b>AbstractString</b>, manager::<b>Distributed.ClusterManager</b>) in Distributed at <a href=\"file:///buildworker/worker/package_linux64/build/usr/share/julia/stdlib/v1.0/Distributed/src/cluster.jl\" target=\"_blank\">/buildworker/worker/package_linux64/build/usr/share/julia/stdlib/v1.0/Distributed/src/cluster.jl:324</a><li> start_worker(cookie::<b>AbstractString</b>) in Distributed at <a href=\"file:///buildworker/worker/package_linux64/build/usr/share/julia/stdlib/v1.0/Distributed/src/cluster.jl\" target=\"_blank\">/buildworker/worker/package_linux64/build/usr/share/julia/stdlib/v1.0/Distributed/src/cluster.jl:189</a><li> start_worker(out::<b>IO</b>, cookie::<b>AbstractString</b>) in Distributed at <a href=\"file:///buildworker/worker/package_linux64/build/usr/share/julia/stdlib/v1.0/Distributed/src/cluster.jl\" target=\"_blank\">/buildworker/worker/package_linux64/build/usr/share/julia/stdlib/v1.0/Distributed/src/cluster.jl:191</a><li> poll_file(s::<b>AbstractString</b>) in FileWatching at <a href=\"file:///buildworker/worker/package_linux64/build/usr/share/julia/stdlib/v1.0/FileWatching/src/FileWatching.jl\" target=\"_blank\">/buildworker/worker/package_linux64/build/usr/share/julia/stdlib/v1.0/FileWatching/src/FileWatching.jl:680</a><li> poll_file(s::<b>AbstractString</b>, interval_seconds::<b>Real</b>) in FileWatching at <a href=\"file:///buildworker/worker/package_linux64/build/usr/share/julia/stdlib/v1.0/FileWatching/src/FileWatching.jl\" target=\"_blank\">/buildworker/worker/package_linux64/build/usr/share/julia/stdlib/v1.0/FileWatching/src/FileWatching.jl:680</a><li> poll_file(s::<b>AbstractString</b>, interval_seconds::<b>Real</b>, timeout_s::<b>Real</b>) in FileWatching at <a href=\"file:///buildworker/worker/package_linux64/build/usr/share/julia/stdlib/v1.0/FileWatching/src/FileWatching.jl\" target=\"_blank\">/buildworker/worker/package_linux64/build/usr/share/julia/stdlib/v1.0/FileWatching/src/FileWatching.jl:680</a><li> unwatch_folder(s::<b>AbstractString</b>) in FileWatching at <a href=\"file:///buildworker/worker/package_linux64/build/usr/share/julia/stdlib/v1.0/FileWatching/src/FileWatching.jl\" target=\"_blank\">/buildworker/worker/package_linux64/build/usr/share/julia/stdlib/v1.0/FileWatching/src/FileWatching.jl:652</a><li> watch_file(s::<b>AbstractString</b>) in FileWatching at <a href=\"file:///buildworker/worker/package_linux64/build/usr/share/julia/stdlib/v1.0/FileWatching/src/FileWatching.jl\" target=\"_blank\">/buildworker/worker/package_linux64/build/usr/share/julia/stdlib/v1.0/FileWatching/src/FileWatching.jl:582</a><li> watch_file(s::<b>AbstractString</b>, timeout_s::<b>Real</b>) in FileWatching at <a href=\"file:///buildworker/worker/package_linux64/build/usr/share/julia/stdlib/v1.0/FileWatching/src/FileWatching.jl\" target=\"_blank\">/buildworker/worker/package_linux64/build/usr/share/julia/stdlib/v1.0/FileWatching/src/FileWatching.jl:582</a><li> watch_folder(s::<b>AbstractString</b>) in FileWatching at <a href=\"file:///buildworker/worker/package_linux64/build/usr/share/julia/stdlib/v1.0/FileWatching/src/FileWatching.jl\" target=\"_blank\">/buildworker/worker/package_linux64/build/usr/share/julia/stdlib/v1.0/FileWatching/src/FileWatching.jl:609</a><li> watch_folder(s::<b>AbstractString</b>, timeout_s::<b>Real</b>) in FileWatching at <a href=\"file:///buildworker/worker/package_linux64/build/usr/share/julia/stdlib/v1.0/FileWatching/src/FileWatching.jl\" target=\"_blank\">/buildworker/worker/package_linux64/build/usr/share/julia/stdlib/v1.0/FileWatching/src/FileWatching.jl:609</a><li> hmac_sha1(key::<b>Array{UInt8,1}</b>, str::<b>AbstractString</b>) in SHA at <a href=\"file:///buildworker/worker/package_linux64/build/usr/share/julia/stdlib/v1.0/SHA/src/SHA.jl\" target=\"_blank\">/buildworker/worker/package_linux64/build/usr/share/julia/stdlib/v1.0/SHA/src/SHA.jl:62</a><li> hmac_sha224(key::<b>Array{UInt8,1}</b>, str::<b>AbstractString</b>) in SHA at <a href=\"file:///buildworker/worker/package_linux64/build/usr/share/julia/stdlib/v1.0/SHA/src/SHA.jl\" target=\"_blank\">/buildworker/worker/package_linux64/build/usr/share/julia/stdlib/v1.0/SHA/src/SHA.jl:62</a><li> hmac_sha256(key::<b>Array{UInt8,1}</b>, str::<b>AbstractString</b>) in SHA at <a href=\"file:///buildworker/worker/package_linux64/build/usr/share/julia/stdlib/v1.0/SHA/src/SHA.jl\" target=\"_blank\">/buildworker/worker/package_linux64/build/usr/share/julia/stdlib/v1.0/SHA/src/SHA.jl:62</a><li> hmac_sha2_224(key::<b>Array{UInt8,1}</b>, str::<b>AbstractString</b>) in SHA at <a href=\"file:///buildworker/worker/package_linux64/build/usr/share/julia/stdlib/v1.0/SHA/src/SHA.jl\" target=\"_blank\">/buildworker/worker/package_linux64/build/usr/share/julia/stdlib/v1.0/SHA/src/SHA.jl:62</a><li> hmac_sha2_256(key::<b>Array{UInt8,1}</b>, str::<b>AbstractString</b>) in SHA at <a href=\"file:///buildworker/worker/package_linux64/build/usr/share/julia/stdlib/v1.0/SHA/src/SHA.jl\" target=\"_blank\">/buildworker/worker/package_linux64/build/usr/share/julia/stdlib/v1.0/SHA/src/SHA.jl:62</a><li> hmac_sha2_384(key::<b>Array{UInt8,1}</b>, str::<b>AbstractString</b>) in SHA at <a href=\"file:///buildworker/worker/package_linux64/build/usr/share/julia/stdlib/v1.0/SHA/src/SHA.jl\" target=\"_blank\">/buildworker/worker/package_linux64/build/usr/share/julia/stdlib/v1.0/SHA/src/SHA.jl:62</a><li> hmac_sha2_512(key::<b>Array{UInt8,1}</b>, str::<b>AbstractString</b>) in SHA at <a href=\"file:///buildworker/worker/package_linux64/build/usr/share/julia/stdlib/v1.0/SHA/src/SHA.jl\" target=\"_blank\">/buildworker/worker/package_linux64/build/usr/share/julia/stdlib/v1.0/SHA/src/SHA.jl:62</a><li> hmac_sha384(key::<b>Array{UInt8,1}</b>, str::<b>AbstractString</b>) in SHA at <a href=\"file:///buildworker/worker/package_linux64/build/usr/share/julia/stdlib/v1.0/SHA/src/SHA.jl\" target=\"_blank\">/buildworker/worker/package_linux64/build/usr/share/julia/stdlib/v1.0/SHA/src/SHA.jl:62</a><li> hmac_sha3_224(key::<b>Array{UInt8,1}</b>, str::<b>AbstractString</b>) in SHA at <a href=\"file:///buildworker/worker/package_linux64/build/usr/share/julia/stdlib/v1.0/SHA/src/SHA.jl\" target=\"_blank\">/buildworker/worker/package_linux64/build/usr/share/julia/stdlib/v1.0/SHA/src/SHA.jl:62</a><li> hmac_sha3_256(key::<b>Array{UInt8,1}</b>, str::<b>AbstractString</b>) in SHA at <a href=\"file:///buildworker/worker/package_linux64/build/usr/share/julia/stdlib/v1.0/SHA/src/SHA.jl\" target=\"_blank\">/buildworker/worker/package_linux64/build/usr/share/julia/stdlib/v1.0/SHA/src/SHA.jl:62</a><li> hmac_sha3_384(key::<b>Array{UInt8,1}</b>, str::<b>AbstractString</b>) in SHA at <a href=\"file:///buildworker/worker/package_linux64/build/usr/share/julia/stdlib/v1.0/SHA/src/SHA.jl\" target=\"_blank\">/buildworker/worker/package_linux64/build/usr/share/julia/stdlib/v1.0/SHA/src/SHA.jl:62</a><li> hmac_sha3_512(key::<b>Array{UInt8,1}</b>, str::<b>AbstractString</b>) in SHA at <a href=\"file:///buildworker/worker/package_linux64/build/usr/share/julia/stdlib/v1.0/SHA/src/SHA.jl\" target=\"_blank\">/buildworker/worker/package_linux64/build/usr/share/julia/stdlib/v1.0/SHA/src/SHA.jl:62</a><li> hmac_sha512(key::<b>Array{UInt8,1}</b>, str::<b>AbstractString</b>) in SHA at <a href=\"file:///buildworker/worker/package_linux64/build/usr/share/julia/stdlib/v1.0/SHA/src/SHA.jl\" target=\"_blank\">/buildworker/worker/package_linux64/build/usr/share/julia/stdlib/v1.0/SHA/src/SHA.jl:62</a><li> sha1(str::<b>AbstractString</b>) in SHA at <a href=\"file:///buildworker/worker/package_linux64/build/usr/share/julia/stdlib/v1.0/SHA/src/SHA.jl\" target=\"_blank\">/buildworker/worker/package_linux64/build/usr/share/julia/stdlib/v1.0/SHA/src/SHA.jl:60</a><li> sha224(str::<b>AbstractString</b>) in SHA at <a href=\"file:///buildworker/worker/package_linux64/build/usr/share/julia/stdlib/v1.0/SHA/src/SHA.jl\" target=\"_blank\">/buildworker/worker/package_linux64/build/usr/share/julia/stdlib/v1.0/SHA/src/SHA.jl:60</a><li> sha256(str::<b>AbstractString</b>) in SHA at <a href=\"file:///buildworker/worker/package_linux64/build/usr/share/julia/stdlib/v1.0/SHA/src/SHA.jl\" target=\"_blank\">/buildworker/worker/package_linux64/build/usr/share/julia/stdlib/v1.0/SHA/src/SHA.jl:60</a><li> sha2_224(str::<b>AbstractString</b>) in SHA at <a href=\"file:///buildworker/worker/package_linux64/build/usr/share/julia/stdlib/v1.0/SHA/src/SHA.jl\" target=\"_blank\">/buildworker/worker/package_linux64/build/usr/share/julia/stdlib/v1.0/SHA/src/SHA.jl:60</a><li> sha2_256(str::<b>AbstractString</b>) in SHA at <a href=\"file:///buildworker/worker/package_linux64/build/usr/share/julia/stdlib/v1.0/SHA/src/SHA.jl\" target=\"_blank\">/buildworker/worker/package_linux64/build/usr/share/julia/stdlib/v1.0/SHA/src/SHA.jl:60</a><li> sha2_384(str::<b>AbstractString</b>) in SHA at <a href=\"file:///buildworker/worker/package_linux64/build/usr/share/julia/stdlib/v1.0/SHA/src/SHA.jl\" target=\"_blank\">/buildworker/worker/package_linux64/build/usr/share/julia/stdlib/v1.0/SHA/src/SHA.jl:60</a><li> sha2_512(str::<b>AbstractString</b>) in SHA at <a href=\"file:///buildworker/worker/package_linux64/build/usr/share/julia/stdlib/v1.0/SHA/src/SHA.jl\" target=\"_blank\">/buildworker/worker/package_linux64/build/usr/share/julia/stdlib/v1.0/SHA/src/SHA.jl:60</a><li> sha384(str::<b>AbstractString</b>) in SHA at <a href=\"file:///buildworker/worker/package_linux64/build/usr/share/julia/stdlib/v1.0/SHA/src/SHA.jl\" target=\"_blank\">/buildworker/worker/package_linux64/build/usr/share/julia/stdlib/v1.0/SHA/src/SHA.jl:60</a><li> sha3_224(str::<b>AbstractString</b>) in SHA at <a href=\"file:///buildworker/worker/package_linux64/build/usr/share/julia/stdlib/v1.0/SHA/src/SHA.jl\" target=\"_blank\">/buildworker/worker/package_linux64/build/usr/share/julia/stdlib/v1.0/SHA/src/SHA.jl:60</a><li> sha3_256(str::<b>AbstractString</b>) in SHA at <a href=\"file:///buildworker/worker/package_linux64/build/usr/share/julia/stdlib/v1.0/SHA/src/SHA.jl\" target=\"_blank\">/buildworker/worker/package_linux64/build/usr/share/julia/stdlib/v1.0/SHA/src/SHA.jl:60</a><li> sha3_384(str::<b>AbstractString</b>) in SHA at <a href=\"file:///buildworker/worker/package_linux64/build/usr/share/julia/stdlib/v1.0/SHA/src/SHA.jl\" target=\"_blank\">/buildworker/worker/package_linux64/build/usr/share/julia/stdlib/v1.0/SHA/src/SHA.jl:60</a><li> sha3_512(str::<b>AbstractString</b>) in SHA at <a href=\"file:///buildworker/worker/package_linux64/build/usr/share/julia/stdlib/v1.0/SHA/src/SHA.jl\" target=\"_blank\">/buildworker/worker/package_linux64/build/usr/share/julia/stdlib/v1.0/SHA/src/SHA.jl:60</a><li> sha512(str::<b>AbstractString</b>) in SHA at <a href=\"file:///buildworker/worker/package_linux64/build/usr/share/julia/stdlib/v1.0/SHA/src/SHA.jl\" target=\"_blank\">/buildworker/worker/package_linux64/build/usr/share/julia/stdlib/v1.0/SHA/src/SHA.jl:60</a><li> installkernel(name::<b>AbstractString</b>, julia_options::<b>AbstractString...</b>) in IJulia at <a href=\"file:///home/pybokeh/.julia/packages/IJulia/9RcVi/deps/kspec.jl\" target=\"_blank\">/home/pybokeh/.julia/packages/IJulia/9RcVi/deps/kspec.jl:36</a><li> send_status(state::<b>AbstractString</b>) in IJulia at <a href=\"file:///home/pybokeh/.julia/packages/IJulia/9RcVi/src/msg.jl\" target=\"_blank\">/home/pybokeh/.julia/packages/IJulia/9RcVi/src/msg.jl:96</a><li> send_status(state::<b>AbstractString</b>, parent_msg::<b>IJulia.Msg</b>) in IJulia at <a href=\"file:///home/pybokeh/.julia/packages/IJulia/9RcVi/src/msg.jl\" target=\"_blank\">/home/pybokeh/.julia/packages/IJulia/9RcVi/src/msg.jl:96</a><li> subscribe(socket::<b>ZMQ.Socket</b>, filter::<b>Union{AbstractString, Array}</b>) in ZMQ at <a href=\"file:///home/pybokeh/.julia/packages/ZMQ/yClfT/src/ZMQ.jl\" target=\"_blank\">/home/pybokeh/.julia/packages/ZMQ/yClfT/src/ZMQ.jl:241</a><li> unsubscribe(socket::<b>ZMQ.Socket</b>, filter::<b>Union{AbstractString, Array}</b>) in ZMQ at <a href=\"file:///home/pybokeh/.julia/packages/ZMQ/yClfT/src/ZMQ.jl\" target=\"_blank\">/home/pybokeh/.julia/packages/ZMQ/yClfT/src/ZMQ.jl:241</a><li> dlopen(s::<b>AbstractString</b>) in Libdl at <a href=\"file:///buildworker/worker/package_linux64/build/usr/share/julia/stdlib/v1.0/Libdl/src/Libdl.jl\" target=\"_blank\">/buildworker/worker/package_linux64/build/usr/share/julia/stdlib/v1.0/Libdl/src/Libdl.jl:97</a><li> dlopen(s::<b>AbstractString</b>, flags::<b>Integer</b>) in Libdl at <a href=\"file:///buildworker/worker/package_linux64/build/usr/share/julia/stdlib/v1.0/Libdl/src/Libdl.jl\" target=\"_blank\">/buildworker/worker/package_linux64/build/usr/share/julia/stdlib/v1.0/Libdl/src/Libdl.jl:97</a><li> dlopen_e(s::<b>AbstractString</b>) in Libdl at <a href=\"file:///buildworker/worker/package_linux64/build/usr/share/julia/stdlib/v1.0/Libdl/src/Libdl.jl\" target=\"_blank\">/buildworker/worker/package_linux64/build/usr/share/julia/stdlib/v1.0/Libdl/src/Libdl.jl:110</a><li> dlopen_e(s::<b>AbstractString</b>, flags::<b>Integer</b>) in Libdl at <a href=\"file:///buildworker/worker/package_linux64/build/usr/share/julia/stdlib/v1.0/Libdl/src/Libdl.jl\" target=\"_blank\">/buildworker/worker/package_linux64/build/usr/share/julia/stdlib/v1.0/Libdl/src/Libdl.jl:110</a><li> dlpath(libname::<b>Union{AbstractString, Symbol}</b>) in Libdl at <a href=\"file:///buildworker/worker/package_linux64/build/usr/share/julia/stdlib/v1.0/Libdl/src/Libdl.jl\" target=\"_blank\">/buildworker/worker/package_linux64/build/usr/share/julia/stdlib/v1.0/Libdl/src/Libdl.jl:160</a><li> dlsym(hnd::<b>Ptr</b>, s::<b>Union{AbstractString, Symbol}</b>) in Libdl at <a href=\"file:///buildworker/worker/package_linux64/build/usr/share/julia/stdlib/v1.0/Libdl/src/Libdl.jl\" target=\"_blank\">/buildworker/worker/package_linux64/build/usr/share/julia/stdlib/v1.0/Libdl/src/Libdl.jl:54</a><li> dlsym_e(hnd::<b>Ptr</b>, s::<b>Union{AbstractString, Symbol}</b>) in Libdl at <a href=\"file:///buildworker/worker/package_linux64/build/usr/share/julia/stdlib/v1.0/Libdl/src/Libdl.jl\" target=\"_blank\">/buildworker/worker/package_linux64/build/usr/share/julia/stdlib/v1.0/Libdl/src/Libdl.jl:64</a><li> find_library(libname::<b>Union{AbstractString, Symbol}</b>) in Libdl at <a href=\"file:///buildworker/worker/package_linux64/build/usr/share/julia/stdlib/v1.0/Libdl/src/Libdl.jl\" target=\"_blank\">/buildworker/worker/package_linux64/build/usr/share/julia/stdlib/v1.0/Libdl/src/Libdl.jl:149</a><li> find_library(libname::<b>Union{AbstractString, Symbol}</b>, extrapaths) in Libdl at <a href=\"file:///buildworker/worker/package_linux64/build/usr/share/julia/stdlib/v1.0/Libdl/src/Libdl.jl\" target=\"_blank\">/buildworker/worker/package_linux64/build/usr/share/julia/stdlib/v1.0/Libdl/src/Libdl.jl:149</a><li> stringmime(m::<b>AbstractString</b>, x) in Base64 at <a href=\"file:///buildworker/worker/package_linux64/build/usr/share/julia/stdlib/v1.0/Base64/src/Base64.jl\" target=\"_blank\">/buildworker/worker/package_linux64/build/usr/share/julia/stdlib/v1.0/Base64/src/Base64.jl:39</a></ul>"
      ],
      "text/plain": [
       "[1] @doc_str(__source__::LineNumberNode, __module__::Module, s::AbstractString, t...) in Markdown at /buildworker/worker/package_linux64/build/usr/share/julia/stdlib/v1.0/Markdown/src/Markdown.jl:53\n",
       "[2] bind(server::Sockets.PipeServer, name::AbstractString) in Sockets at /buildworker/worker/package_linux64/build/usr/share/julia/stdlib/v1.0/Sockets/src/PipeServer.jl:49\n",
       "[3] bind(socket::ZMQ.Socket, endpoint::AbstractString) in ZMQ at /home/pybokeh/.julia/packages/ZMQ/yClfT/src/ZMQ.jl:295\n",
       "[4] connect(path::AbstractString) in Sockets at /buildworker/worker/package_linux64/build/usr/share/julia/stdlib/v1.0/Sockets/src/PipeServer.jl:93\n",
       "[5] connect(host::AbstractString, port::Integer) in Sockets at /buildworker/worker/package_linux64/build/usr/share/julia/stdlib/v1.0/Sockets/src/Sockets.jl:427\n",
       "[6] connect(socket::ZMQ.Socket, endpoint::AbstractString) in ZMQ at /home/pybokeh/.julia/packages/ZMQ/yClfT/src/ZMQ.jl:302\n",
       "[7] getaddrinfo(host::AbstractString) in Sockets at /buildworker/worker/package_linux64/build/usr/share/julia/stdlib/v1.0/Sockets/src/addrinfo.jl:125\n",
       "[8] getaddrinfo(host::AbstractString, T::Type{#s549} where #s549<:Sockets.IPAddr) in Sockets at /buildworker/worker/package_linux64/build/usr/share/julia/stdlib/v1.0/Sockets/src/addrinfo.jl:124\n",
       "[9] getalladdrinfo(host::AbstractString) in Sockets at /buildworker/worker/package_linux64/build/usr/share/julia/stdlib/v1.0/Sockets/src/addrinfo.jl:107\n",
       "[10] listen(path::AbstractString) in Sockets at /buildworker/worker/package_linux64/build/usr/share/julia/stdlib/v1.0/Sockets/src/PipeServer.jl:70\n",
       "[11] send(socket::ZMQ.Socket, msg::AbstractString) in ZMQ at /home/pybokeh/.julia/packages/ZMQ/yClfT/src/ZMQ.jl:489\n",
       "[12] send(socket::ZMQ.Socket, msg::AbstractString, SNDMORE::Bool) in ZMQ at /home/pybokeh/.julia/packages/ZMQ/yClfT/src/ZMQ.jl:489\n",
       "[13] writedlm(fname::AbstractString, a, dlm) in DelimitedFiles at /buildworker/worker/package_linux64/build/usr/share/julia/stdlib/v1.0/DelimitedFiles/src/DelimitedFiles.jl:788\n",
       "[14] *(d::Missing, x::AbstractString) in Base at missing.jl:139\n",
       "[15] *(s1::Union{AbstractChar, AbstractString}, ss::Union{AbstractChar, AbstractString}...) in Base at strings/basic.jl:229\n",
       "[16] *(d::AbstractString, x::Missing) in Base at missing.jl:140\n",
       "[17] ==(a::AbstractString, b::AbstractString) in Base at strings/basic.jl:293\n",
       "[18] ^(s::Union{AbstractChar, AbstractString}, r::Integer) in Base at strings/basic.jl:674\n",
       "[19] abspath(path::AbstractString) in Base.Filesystem at path.jl:420\n",
       "[20] abspath(a::AbstractString, b::AbstractString...) in Base.Filesystem at path.jl:288\n",
       "[21] ascii(x::AbstractString) in Base at strings/util.jl:626\n",
       "[22] asyncmap(f, s::AbstractString) in Base at asyncmap.jl:249\n",
       "[23] basename(path::AbstractString) in Base.Filesystem at path.jl:166\n",
       "[24] cd(dir::AbstractString) in Base.Filesystem at file.jl:76\n",
       "[25] cd(f::Function, dir::AbstractString) in Base.Filesystem at file.jl:92\n",
       "[26] checkbounds(::Type{Bool}, s::AbstractString, i::Integer) in Base at strings/basic.jl:185\n",
       "[27] checkbounds(::Type{Bool}, s::AbstractString, r::AbstractRange{#s57} where #s57<:Integer) in Base at strings/basic.jl:187\n",
       "[28] checkbounds(::Type{Bool}, s::AbstractString, I::AbstractArray{#s57,N} where N where #s57<:Integer) in Base at strings/basic.jl:191\n",
       "[29] checkbounds(::Type{Bool}, s::AbstractString, I::AbstractArray{#s57,N} where N where #s57<:Real) in Base at strings/basic.jl:189\n",
       "[30] checkbounds(s::AbstractString, I::Union{Integer, AbstractArray}) in Base at strings/basic.jl:193\n",
       "[31] chmod(path::AbstractString, mode::Integer) in Base.Filesystem at file.jl:828\n",
       "[32] chomp(s::AbstractString) in Base at strings/util.jl:117\n",
       "[33] chop(s::AbstractString) in Base at strings/util.jl:99\n",
       "[34] chown(path::AbstractString, owner::Integer) in Base.Filesystem at file.jl:848\n",
       "[35] chown(path::AbstractString, owner::Integer, group::Integer) in Base.Filesystem at file.jl:848\n",
       "[36] cmp(a::AbstractString, b::AbstractString) in Base at strings/basic.jl:269\n",
       "[37] codeunit(s::AbstractString, i::Integer) in Base at strings/basic.jl:84\n",
       "[38] codeunits(s::AbstractString) in Base at strings/basic.jl:714\n",
       "[39] convert(::Type{Base.SecretBuffer}, s::AbstractString) in Base at secretbuffer.jl:64\n",
       "[40] convert(::Type{T}, s::T) where T<:AbstractString in Base at strings/basic.jl:207\n",
       "[41] convert(::Type{SubString{S}}, s::AbstractString) where S<:AbstractString in Base at strings/substring.jl:50\n",
       "[42] convert(::Type{T}, s::AbstractString) where T<:AbstractString in Base at strings/basic.jl:208\n",
       "[43] countlines(f::AbstractString) in Base at io.jl:1025\n",
       "[44] cp(src::AbstractString, dst::AbstractString) in Base.Filesystem at file.jl:330\n",
       "[45] delete!(::Base.EnvDict, k::AbstractString) in Base at env.jl:82\n",
       "[46] dirname(path::AbstractString) in Base.Filesystem at path.jl:151\n",
       "[47] display(d::AbstractDisplay, mime::AbstractString, x) in Base.Multimedia at multimedia.jl:178\n",
       "[48] display(mime::AbstractString, x) in Base.Multimedia at multimedia.jl:179\n",
       "[49] displayable(d::AbstractDisplay, mime::AbstractString) in Base.Multimedia at multimedia.jl:189\n",
       "[50] displayable(mime::AbstractString) in Base.Multimedia at multimedia.jl:190\n",
       "[51] download(url::AbstractString) in Base at download.jl:58\n",
       "[52] download(url::AbstractString, filename::AbstractString) in Base at download.jl:28\n",
       "[53] eachline(filename::AbstractString) in Base at io.jl:875\n",
       "[54] eachmatch(re::Regex, str::AbstractString) in Base at regex.jl:423\n",
       "[55] endswith(a::AbstractString, b::AbstractString) in Base at strings/util.jl:42\n",
       "[56] endswith(str::AbstractString, chars::Union{AbstractChar, Tuple{Vararg{AbstractChar,N} where N}, Set{#s55} where #s55<:AbstractChar, AbstractArray{#s56,1} where #s56<:AbstractChar}) in Base at strings/util.jl:46\n",
       "[57] error(s::AbstractString) in Base at error.jl:33\n",
       "[58] escape_string(io::IO, s::AbstractString) in Base at strings/io.jl:306\n",
       "[59] escape_string(io::IO, s::AbstractString, esc) in Base at strings/io.jl:306\n",
       "[60] escape_string(s::AbstractString) in Base at strings/io.jl:332\n",
       "[61] escape_string(s::AbstractString, esc) in Base at strings/io.jl:332\n",
       "[62] evalfile(path::AbstractString) in Base at loading.jl:1069\n",
       "[63] evalfile(path::AbstractString, args::Array{String,1}) in Base at loading.jl:1069\n",
       "[64] evalfile(path::AbstractString, args::Array{T,1} where T) in Base at loading.jl:1076\n",
       "[65] expanduser(path::AbstractString) in Base.Filesystem at path.jl:344\n",
       "[66] fdio(name::AbstractString, fd::Integer) in Base at iostream.jl:207\n",
       "[67] fdio(name::AbstractString, fd::Integer, own::Bool) in Base at iostream.jl:207\n",
       "[68] filter(f, s::AbstractString) in Base at strings/basic.jl:581\n",
       "[69] findfirst(A::Union{AbstractString, AbstractArray}) in Base at array.jl:1661\n",
       "[70] findfirst(testf::Function, A::Union{AbstractString, AbstractArray}) in Base at array.jl:1742\n",
       "[71] findfirst(pattern::AbstractString, string::AbstractString) in Base at strings/search.jl:104\n",
       "[72] findfirst(r::Regex, s::AbstractString) in Base at regex.jl:231\n",
       "[73] findlast(A::Union{AbstractString, AbstractArray}) in Base at array.jl:1830\n",
       "[74] findlast(testf::Function, A::Union{AbstractString, AbstractArray}) in Base at array.jl:1913\n",
       "[75] findlast(pattern::AbstractString, string::AbstractString) in Base at strings/search.jl:274\n",
       "[76] findnext(testf::Function, s::AbstractString, i::Integer) in Base at strings/search.jl:109\n",
       "[77] findnext(t::AbstractString, s::AbstractString, i::Integer) in Base at strings/search.jl:256\n",
       "[78] findnext(r::Regex, s::AbstractString, idx::Integer) in Base at regex.jl:228\n",
       "[79] findprev(testf::Function, s::AbstractString, i::Integer) in Base at strings/search.jl:279\n",
       "[80] findprev(t::AbstractString, s::AbstractString, i::Integer) in Base at strings/search.jl:433\n",
       "[81] first(s::AbstractString, n::Integer) in Base at strings/basic.jl:606\n",
       "[82] firstindex(s::AbstractString) in Base at strings/basic.jl:158\n",
       "[83] get(::Base.EnvDict, k::AbstractString, def) in Base at env.jl:77\n",
       "[84] get(s::AbstractString, i::Integer, default) in Base at strings/basic.jl:176\n",
       "[85] get(f::Union{Function, Type}, ::Base.EnvDict, k::AbstractString) in Base at env.jl:78\n",
       "[86] getindex(m::RegexMatch, name::AbstractString) in Base at regex.jl:151\n",
       "[87] getindex(::Base.EnvDict, k::AbstractString) in Base at env.jl:76\n",
       "[88] getindex(tree::LibGit2.GitTree, target::AbstractString) in LibGit2 at /buildworker/worker/package_linux64/build/usr/share/julia/stdlib/v1.0/LibGit2/src/tree.jl:164\n",
       "[89] getindex(tbl::Pkg.TOML.Table, key::AbstractString) in Pkg.TOML at /buildworker/worker/package_linux64/build/usr/share/julia/stdlib/v1.0/Pkg/ext/TOML/src/parser.jl:31\n",
       "[90] getindex(s::AbstractString, i::Integer) in Base at strings/basic.jl:162\n",
       "[91] getindex(s::AbstractString, i::Colon) in Base at strings/basic.jl:166\n",
       "[92] getindex(s::AbstractString, r::UnitRange{#s57} where #s57<:Integer) in Base at strings/substring.jl:178\n",
       "[93] getindex(s::AbstractString, v::AbstractArray{Bool,1}) in Base at strings/basic.jl:171\n",
       "[94] getindex(s::AbstractString, v::AbstractArray{#s57,1} where #s57<:Integer) in Base at strings/basic.jl:169\n",
       "[95] hash(s::AbstractString, h::UInt64) in Base at hashing2.jl:181\n",
       "[96] haskey(tbl::Pkg.TOML.Table, key::AbstractString) in Pkg.TOML at /buildworker/worker/package_linux64/build/usr/share/julia/stdlib/v1.0/Pkg/ext/TOML/src/parser.jl:32\n",
       "[97] hex2bytes(s::AbstractString) in Base at strings/util.jl:527\n",
       "[98] in(c::AbstractChar, s::AbstractString) in Base at strings/search.jl:120\n",
       "[99] in(::AbstractString, ::AbstractString) in Base at strings/search.jl:459\n",
       "[100] in(k::AbstractString, ::Base.KeySet{String,Base.EnvDict}) in Base at env.jl:79\n",
       "[101] include_dependency(path::AbstractString) in Base at loading.jl:757\n",
       "[102] include_string(m::Module, txt::AbstractString) in Base at loading.jl:1006\n",
       "[103] include_string(m::Module, txt::AbstractString, fname::AbstractString) in Base at loading.jl:1006\n",
       "[104] isabspath(path::AbstractString) in Base.Filesystem at path.jl:420\n",
       "[105] isascii(s::AbstractString) in Base at strings/basic.jl:563\n",
       "[106] isdirpath(path::AbstractString) in Base.Filesystem at path.jl:420\n",
       "[107] isless(a::AbstractString, b::AbstractString) in Base at strings/basic.jl:313\n",
       "[108] istextmime(m::AbstractString) in Base.Multimedia at multimedia.jl:152\n",
       "[109] isvalid(s::AbstractString, i::Integer) in Base at strings/basic.jl:121\n",
       "[110] iterate(s::AbstractString, i::Integer) in Base at strings/basic.jl:135\n",
       "[111] joinpath(a::AbstractString) in Base.Filesystem at path.jl:199\n",
       "[112] joinpath(a::AbstractString, b::AbstractString) in Base.Filesystem at path.jl:226\n",
       "[113] joinpath(a::AbstractString, b::AbstractString, c::AbstractString...) in Base.Filesystem at path.jl:214\n",
       "[114] keys(s::AbstractString) in Base at strings/basic.jl:533\n",
       "[115] last(s::AbstractString, n::Integer) in Base at strings/basic.jl:624\n",
       "[116] lastindex(s::AbstractString) in Base at strings/basic.jl:159\n",
       "[117] length(s::AbstractString) in Base at strings/basic.jl:345\n",
       "[118] length(s::AbstractString, i::Int64, j::Int64) in Base at strings/basic.jl:348\n",
       "[119] length(s::AbstractString, i::Integer, j::Integer) in Base at strings/basic.jl:359\n",
       "[120] lowercase(s::AbstractString) in Base.Unicode at strings/unicode.jl:525\n",
       "[121] lowercasefirst(s::AbstractString) in Base.Unicode at strings/unicode.jl:605\n",
       "[122] lpad(s::Union{AbstractChar, AbstractString}, n::Integer) in Base at strings/util.jl:239\n",
       "[123] lpad(s::Union{AbstractChar, AbstractString}, n::Integer, p::Union{AbstractChar, AbstractString}) in Base at strings/util.jl:239\n",
       "[124] lpad(s, n::Integer, p::Union{AbstractChar, AbstractString}) in Base at strings/util.jl:232\n",
       "[125] lstat(path::AbstractString) in Base.Filesystem at stat.jl:79\n",
       "[126] lstrip(s::AbstractString) in Base at strings/util.jl:163\n",
       "[127] lstrip(f, s::AbstractString) in Base at strings/util.jl:157\n",
       "[128] lstrip(s::AbstractString, chars::Union{AbstractChar, Tuple{Vararg{AbstractChar,N} where N}, Set{#s55} where #s55<:AbstractChar, AbstractArray{#s56,1} where #s56<:AbstractChar}) in Base at strings/util.jl:164\n",
       "[129] map(f, s::AbstractString) in Base at strings/basic.jl:569\n",
       "[130] match(r::Regex, s::AbstractString) in Base at regex.jl:210\n",
       "[131] match(r::Regex, s::AbstractString, i::Integer) in Base at regex.jl:211\n",
       "[132] mkdir(path::AbstractString) in Base.Filesystem at file.jl:162\n",
       "[133] mkpath(path::AbstractString) in Base.Filesystem at file.jl:207\n",
       "[134] mv(src::AbstractString, dst::AbstractString) in Base.Filesystem at file.jl:377\n",
       "[135] nextind(s::AbstractString, i::Int64) in Base at strings/basic.jl:515\n",
       "[136] nextind(s::AbstractString, i::Int64, n::Int64) in Base at strings/basic.jl:518\n",
       "[137] nextind(s::AbstractString, i::Integer) in Base at strings/basic.jl:514\n",
       "[138] nextind(s::AbstractString, i::Integer, n::Integer) in Base at strings/basic.jl:513\n",
       "[139] normpath(path::AbstractString) in Base.Filesystem at path.jl:420\n",
       "[140] normpath(a::AbstractString, b::AbstractString...) in Base.Filesystem at path.jl:272\n",
       "[141] occursin(needle::Union{AbstractChar, AbstractString}, haystack::AbstractString) in Base at strings/search.jl:456\n",
       "[142] occursin(r::Regex, s::AbstractString) in Base at regex.jl:154\n",
       "[143] open(fname::AbstractString) in Base at iostream.jl:275\n",
       "[144] open(fname::AbstractString, mode::AbstractString) in Base at iostream.jl:339\n",
       "[145] open(cmds::Base.AbstractCmd, mode::AbstractString) in Base at process.jl:562\n",
       "[146] open(cmds::Base.AbstractCmd, mode::AbstractString, other::Union{RawFD, FileRedirect, IO}) in Base at process.jl:562\n",
       "[147] parse(::Type{LibGit2.GitCredential}, url::AbstractString) in LibGit2 at /buildworker/worker/package_linux64/build/usr/share/julia/stdlib/v1.0/LibGit2/src/gitcredential.jl:71\n",
       "[148] parse(::Type{LibGit2.GitCredentialHelper}, helper::AbstractString) in LibGit2 at /buildworker/worker/package_linux64/build/usr/share/julia/stdlib/v1.0/LibGit2/src/gitcredential.jl:158\n",
       "[149] parse(::Type{Sockets.IPv4}, str::AbstractString) in Sockets at /buildworker/worker/package_linux64/build/usr/share/julia/stdlib/v1.0/Sockets/src/IPAddr.jl:166\n",
       "[150] parse(::Type{Sockets.IPv6}, str::AbstractString) in Sockets at /buildworker/worker/package_linux64/build/usr/share/julia/stdlib/v1.0/Sockets/src/IPAddr.jl:217\n",
       "[151] parse(::Type{Sockets.IPAddr}, str::AbstractString) in Sockets at /buildworker/worker/package_linux64/build/usr/share/julia/stdlib/v1.0/Sockets/src/IPAddr.jl:237\n",
       "[152] parse(::Type{Dates.DateTime}, s::AbstractString, df::Dates.DateFormat{Symbol(\"yyyy-mm-dd\\\\THH:MM:SS.s\"),Tuple{Dates.DatePart{'y'},Dates.Delim{Char,1},Dates.DatePart{'m'},Dates.Delim{Char,1},Dates.DatePart{'d'},Dates.Delim{Char,1},Dates.DatePart{'H'},Dates.Delim{Char,1},Dates.DatePart{'M'},Dates.Delim{Char,1},Dates.DatePart{'S'},Dates.Delim{Char,1},Dates.DatePart{'s'}}}) in Dates at /buildworker/worker/package_linux64/build/usr/share/julia/stdlib/v1.0/Dates/src/parse.jl:200\n",
       "[153] parse(::Type{T}, s::AbstractString) where T<:Integer in Base at parse.jl:217\n",
       "[154] parse(::Type{T}, s::AbstractString) where T<:Real in Base at parse.jl:355\n",
       "[155] parse(::Type{T}, s::AbstractString) where T<:Complex in Base at parse.jl:357\n",
       "[156] parse(::Type{T}, str::AbstractString) where T<:Dates.TimeType in Dates at /buildworker/worker/package_linux64/build/usr/share/julia/stdlib/v1.0/Dates/src/parse.jl:281\n",
       "[157] parse(::Type{T}, str::AbstractString, df::Dates.DateFormat) where T<:Dates.TimeType in Dates at /buildworker/worker/package_linux64/build/usr/share/julia/stdlib/v1.0/Dates/src/parse.jl:281\n",
       "[158] pipeline(src::Union{RawFD, FileRedirect, AbstractString, IO}, cmd::Base.AbstractCmd) in Base at process.jl:277\n",
       "[159] pop!(::Base.EnvDict, k::AbstractString) in Base at env.jl:80\n",
       "[160] pop!(::Base.EnvDict, k::AbstractString, def) in Base at env.jl:81\n",
       "[161] prevind(s::AbstractString, i::Int64) in Base at strings/basic.jl:455\n",
       "[162] prevind(s::AbstractString, i::Int64, n::Int64) in Base at strings/basic.jl:458\n",
       "[163] prevind(s::AbstractString, i::Integer) in Base at strings/basic.jl:454\n",
       "[164] prevind(s::AbstractString, i::Integer, n::Integer) in Base at strings/basic.jl:453\n",
       "[165] print(io::IO, s::AbstractString) in Base at strings/io.jl:147\n",
       "[166] read(filename::AbstractString, ::Type{T}) where T in Base at io.jl:297\n",
       "[167] read(filename::AbstractString, args...) in Base at io.jl:295\n",
       "[168] read!(filename::AbstractString, a) in Base at io.jl:307\n",
       "[169] readdir(path::AbstractString) in Base.Filesystem at file.jl:615\n",
       "[170] readline(filename::AbstractString) in Base at io.jl:364\n",
       "[171] readlines(filename::AbstractString) in Base at io.jl:410\n",
       "[172] readlink(path::AbstractString) in Base.Filesystem at file.jl:801\n",
       "[173] readuntil(io::Base.AbstractPipe, arg::AbstractString) in Base at io.jl:234\n",
       "[174] readuntil(filename::AbstractString, args...) in Base at io.jl:334\n",
       "[175] readuntil(io::IO, target::AbstractString) in Base at io.jl:752\n",
       "[176] realpath(path::AbstractString) in Base.Filesystem at path.jl:321\n",
       "[177] redisplay(m::Union{AbstractString, MIME}, x) in Base.Multimedia at multimedia.jl:357\n",
       "[178] redisplay(d::AbstractDisplay, m::Union{AbstractString, MIME}, x) in Base.Multimedia at multimedia.jl:372\n",
       "[179] relpath(path::AbstractString, startpath::AbstractString) in Base.Filesystem at path.jl:416\n",
       "[180] repeat(s::AbstractString, r::Integer) in Base at strings/basic.jl:659\n",
       "[181] replace(s::AbstractString, pat_f::Pair) in Base at strings/util.jl:482\n",
       "[182] replace(a::AbstractString, b::Pair, c::Pair) in Base at set.jl:487\n",
       "[183] repr(m::AbstractString, x) in Base.Multimedia at multimedia.jl:116\n",
       "[184] reverseind(s::AbstractString, i::Integer) in Base at strings/basic.jl:644\n",
       "[185] rm(path::AbstractString) in Base.Filesystem at file.jl:245\n",
       "[186] rpad(s::Union{AbstractChar, AbstractString}, n::Integer) in Base at strings/util.jl:266\n",
       "[187] rpad(s::Union{AbstractChar, AbstractString}, n::Integer, p::Union{AbstractChar, AbstractString}) in Base at strings/util.jl:266\n",
       "[188] rpad(s, n::Integer, p::Union{AbstractChar, AbstractString}) in Base at strings/util.jl:259\n",
       "[189] rsplit(str::AbstractString) in Base at strings/util.jl:405\n",
       "[190] rsplit(str::T, splitter::Union{Tuple{Vararg{AbstractChar,N} where N}, Set{#s51} where #s51<:AbstractChar, AbstractArray{#s52,1} where #s52<:AbstractChar}) where T<:AbstractString in Base at strings/util.jl:384\n",
       "[191] rsplit(str::T, splitter::AbstractChar) where T<:AbstractString in Base at strings/util.jl:388\n",
       "[192] rsplit(str::T, splitter) where T<:AbstractString in Base at strings/util.jl:380\n",
       "[193] rstrip(s::AbstractString) in Base at strings/util.jl:194\n",
       "[194] rstrip(f, s::AbstractString) in Base at strings/util.jl:189\n",
       "[195] rstrip(s::AbstractString, chars::Union{AbstractChar, Tuple{Vararg{AbstractChar,N} where N}, Set{#s55} where #s55<:AbstractChar, AbstractArray{#s56,1} where #s56<:AbstractChar}) in Base at strings/util.jl:195\n",
       "[196] setindex!(::Base.EnvDict, v, k::AbstractString) in Base at env.jl:83\n",
       "[197] show(io::IO, s::AbstractString) in Base at strings/io.jl:149\n",
       "[198] show(io::IO, m::AbstractString, x) in Base.Multimedia at multimedia.jl:79\n",
       "[199] showable(m::AbstractString, x) in Base.Multimedia at multimedia.jl:47\n",
       "[200] sizeof(s::AbstractString) in Base at strings/basic.jl:157\n",
       "[201] split(str::AbstractString) in Base at strings/util.jl:344\n",
       "[202] split(str::T, splitter::Union{Tuple{Vararg{AbstractChar,N} where N}, Set{#s51} where #s51<:AbstractChar, AbstractArray{#s52,1} where #s52<:AbstractChar}) where T<:AbstractString in Base at strings/util.jl:310\n",
       "[203] split(str::T, splitter::AbstractChar) where T<:AbstractString in Base at strings/util.jl:314\n",
       "[204] split(str::T, splitter) where T<:AbstractString in Base at strings/util.jl:306\n",
       "[205] splitdir(path::AbstractString) in Base.Filesystem at path.jl:420\n",
       "[206] splitdrive(path::AbstractString) in Base.Filesystem at path.jl:420\n",
       "[207] splitext(path::AbstractString) in Base.Filesystem at path.jl:420\n",
       "[208] startswith(a::AbstractString, b::AbstractString) in Base at strings/util.jl:22\n",
       "[209] startswith(str::AbstractString, chars::Union{AbstractChar, Tuple{Vararg{AbstractChar,N} where N}, Set{#s55} where #s55<:AbstractChar, AbstractArray{#s56,1} where #s56<:AbstractChar}) in Base at strings/util.jl:25\n",
       "[210] stat(path::AbstractString) in Base.Filesystem at stat.jl:78\n",
       "[211] string(s::AbstractString) in Base at strings/basic.jl:199\n",
       "[212] strip(s::AbstractString) in Base at strings/util.jl:214\n",
       "[213] strip(s::AbstractString, chars) in Base at strings/util.jl:215\n",
       "[214] symlink(p::AbstractString, np::AbstractString) in Base.Filesystem at file.jl:774\n",
       "[215] textwidth(s::AbstractString) in Base.Unicode at strings/unicode.jl:237\n",
       "[216] thisind(s::AbstractString, i::Int64) in Base at strings/basic.jl:399\n",
       "[217] thisind(s::AbstractString, i::Integer) in Base at strings/basic.jl:396\n",
       "[218] titlecase(s::AbstractString) in Base.Unicode at strings/unicode.jl:552\n",
       "[219] touch(path::AbstractString) in Base.Filesystem at file.jl:404\n",
       "[220] tryparse(::Type{Float16}, s::AbstractString) in Base at parse.jl:264\n",
       "[221] tryparse(::Type{BigFloat}, s::AbstractString) in Base.MPFR at mpfr.jl:157\n",
       "[222] tryparse(::Type{T}, s::AbstractString) where T<:Integer in Base at parse.jl:213\n",
       "[223] tryparse(::Type{T}, s::AbstractString) where T<:Union{Float32, Float64} in Base at parse.jl:263\n",
       "[224] tryparse(T::Type{Complex{S}}, s::AbstractString) where S<:Real in Base at parse.jl:360\n",
       "[225] tryparse(::Type{T}, str::AbstractString) where T<:Dates.TimeType in Dates at /buildworker/worker/package_linux64/build/usr/share/julia/stdlib/v1.0/Dates/src/parse.jl:289\n",
       "[226] tryparse(::Type{T}, str::AbstractString, df::Dates.DateFormat) where T<:Dates.TimeType in Dates at /buildworker/worker/package_linux64/build/usr/share/julia/stdlib/v1.0/Dates/src/parse.jl:289\n",
       "[227] unescape_string(s::AbstractString) in Base at strings/io.jl:428\n",
       "[228] unescape_string(io, s::AbstractString) in Base at strings/io.jl:374\n",
       "[229] uppercase(s::AbstractString) in Base.Unicode at strings/unicode.jl:512\n",
       "[230] uppercasefirst(s::AbstractString) in Base.Unicode at strings/unicode.jl:583\n",
       "[231] write(filename::AbstractString, a1, args...) in Base at io.jl:283\n",
       "[232] write(io::IO, s::AbstractString) in Base at strings/io.jl:148\n",
       "[233] edit(path::AbstractString) in InteractiveUtils at /buildworker/worker/package_linux64/build/usr/share/julia/stdlib/v1.0/InteractiveUtils/src/editless.jl:37\n",
       "[234] edit(path::AbstractString, line::Integer) in InteractiveUtils at /buildworker/worker/package_linux64/build/usr/share/julia/stdlib/v1.0/InteractiveUtils/src/editless.jl:37\n",
       "[235] less(file::AbstractString) in InteractiveUtils at /buildworker/worker/package_linux64/build/usr/share/julia/stdlib/v1.0/InteractiveUtils/src/editless.jl:119\n",
       "[236] less(file::AbstractString, line::Integer) in InteractiveUtils at /buildworker/worker/package_linux64/build/usr/share/julia/stdlib/v1.0/InteractiveUtils/src/editless.jl:107\n",
       "[237] graphemes(s::AbstractString) in Unicode at /buildworker/worker/package_linux64/build/usr/share/julia/stdlib/v1.0/Unicode/src/Unicode.jl:82\n",
       "[238] init_worker(cookie::AbstractString) in Distributed at /buildworker/worker/package_linux64/build/usr/share/julia/stdlib/v1.0/Distributed/src/cluster.jl:324\n",
       "[239] init_worker(cookie::AbstractString, manager::Distributed.ClusterManager) in Distributed at /buildworker/worker/package_linux64/build/usr/share/julia/stdlib/v1.0/Distributed/src/cluster.jl:324\n",
       "[240] start_worker(cookie::AbstractString) in Distributed at /buildworker/worker/package_linux64/build/usr/share/julia/stdlib/v1.0/Distributed/src/cluster.jl:189\n",
       "[241] start_worker(out::IO, cookie::AbstractString) in Distributed at /buildworker/worker/package_linux64/build/usr/share/julia/stdlib/v1.0/Distributed/src/cluster.jl:191\n",
       "[242] poll_file(s::AbstractString) in FileWatching at /buildworker/worker/package_linux64/build/usr/share/julia/stdlib/v1.0/FileWatching/src/FileWatching.jl:680\n",
       "[243] poll_file(s::AbstractString, interval_seconds::Real) in FileWatching at /buildworker/worker/package_linux64/build/usr/share/julia/stdlib/v1.0/FileWatching/src/FileWatching.jl:680\n",
       "[244] poll_file(s::AbstractString, interval_seconds::Real, timeout_s::Real) in FileWatching at /buildworker/worker/package_linux64/build/usr/share/julia/stdlib/v1.0/FileWatching/src/FileWatching.jl:680\n",
       "[245] unwatch_folder(s::AbstractString) in FileWatching at /buildworker/worker/package_linux64/build/usr/share/julia/stdlib/v1.0/FileWatching/src/FileWatching.jl:652\n",
       "[246] watch_file(s::AbstractString) in FileWatching at /buildworker/worker/package_linux64/build/usr/share/julia/stdlib/v1.0/FileWatching/src/FileWatching.jl:582\n",
       "[247] watch_file(s::AbstractString, timeout_s::Real) in FileWatching at /buildworker/worker/package_linux64/build/usr/share/julia/stdlib/v1.0/FileWatching/src/FileWatching.jl:582\n",
       "[248] watch_folder(s::AbstractString) in FileWatching at /buildworker/worker/package_linux64/build/usr/share/julia/stdlib/v1.0/FileWatching/src/FileWatching.jl:609\n",
       "[249] watch_folder(s::AbstractString, timeout_s::Real) in FileWatching at /buildworker/worker/package_linux64/build/usr/share/julia/stdlib/v1.0/FileWatching/src/FileWatching.jl:609\n",
       "[250] hmac_sha1(key::Array{UInt8,1}, str::AbstractString) in SHA at /buildworker/worker/package_linux64/build/usr/share/julia/stdlib/v1.0/SHA/src/SHA.jl:62\n",
       "[251] hmac_sha224(key::Array{UInt8,1}, str::AbstractString) in SHA at /buildworker/worker/package_linux64/build/usr/share/julia/stdlib/v1.0/SHA/src/SHA.jl:62\n",
       "[252] hmac_sha256(key::Array{UInt8,1}, str::AbstractString) in SHA at /buildworker/worker/package_linux64/build/usr/share/julia/stdlib/v1.0/SHA/src/SHA.jl:62\n",
       "[253] hmac_sha2_224(key::Array{UInt8,1}, str::AbstractString) in SHA at /buildworker/worker/package_linux64/build/usr/share/julia/stdlib/v1.0/SHA/src/SHA.jl:62\n",
       "[254] hmac_sha2_256(key::Array{UInt8,1}, str::AbstractString) in SHA at /buildworker/worker/package_linux64/build/usr/share/julia/stdlib/v1.0/SHA/src/SHA.jl:62\n",
       "[255] hmac_sha2_384(key::Array{UInt8,1}, str::AbstractString) in SHA at /buildworker/worker/package_linux64/build/usr/share/julia/stdlib/v1.0/SHA/src/SHA.jl:62\n",
       "[256] hmac_sha2_512(key::Array{UInt8,1}, str::AbstractString) in SHA at /buildworker/worker/package_linux64/build/usr/share/julia/stdlib/v1.0/SHA/src/SHA.jl:62\n",
       "[257] hmac_sha384(key::Array{UInt8,1}, str::AbstractString) in SHA at /buildworker/worker/package_linux64/build/usr/share/julia/stdlib/v1.0/SHA/src/SHA.jl:62\n",
       "[258] hmac_sha3_224(key::Array{UInt8,1}, str::AbstractString) in SHA at /buildworker/worker/package_linux64/build/usr/share/julia/stdlib/v1.0/SHA/src/SHA.jl:62\n",
       "[259] hmac_sha3_256(key::Array{UInt8,1}, str::AbstractString) in SHA at /buildworker/worker/package_linux64/build/usr/share/julia/stdlib/v1.0/SHA/src/SHA.jl:62\n",
       "[260] hmac_sha3_384(key::Array{UInt8,1}, str::AbstractString) in SHA at /buildworker/worker/package_linux64/build/usr/share/julia/stdlib/v1.0/SHA/src/SHA.jl:62\n",
       "[261] hmac_sha3_512(key::Array{UInt8,1}, str::AbstractString) in SHA at /buildworker/worker/package_linux64/build/usr/share/julia/stdlib/v1.0/SHA/src/SHA.jl:62\n",
       "[262] hmac_sha512(key::Array{UInt8,1}, str::AbstractString) in SHA at /buildworker/worker/package_linux64/build/usr/share/julia/stdlib/v1.0/SHA/src/SHA.jl:62\n",
       "[263] sha1(str::AbstractString) in SHA at /buildworker/worker/package_linux64/build/usr/share/julia/stdlib/v1.0/SHA/src/SHA.jl:60\n",
       "[264] sha224(str::AbstractString) in SHA at /buildworker/worker/package_linux64/build/usr/share/julia/stdlib/v1.0/SHA/src/SHA.jl:60\n",
       "[265] sha256(str::AbstractString) in SHA at /buildworker/worker/package_linux64/build/usr/share/julia/stdlib/v1.0/SHA/src/SHA.jl:60\n",
       "[266] sha2_224(str::AbstractString) in SHA at /buildworker/worker/package_linux64/build/usr/share/julia/stdlib/v1.0/SHA/src/SHA.jl:60\n",
       "[267] sha2_256(str::AbstractString) in SHA at /buildworker/worker/package_linux64/build/usr/share/julia/stdlib/v1.0/SHA/src/SHA.jl:60\n",
       "[268] sha2_384(str::AbstractString) in SHA at /buildworker/worker/package_linux64/build/usr/share/julia/stdlib/v1.0/SHA/src/SHA.jl:60\n",
       "[269] sha2_512(str::AbstractString) in SHA at /buildworker/worker/package_linux64/build/usr/share/julia/stdlib/v1.0/SHA/src/SHA.jl:60\n",
       "[270] sha384(str::AbstractString) in SHA at /buildworker/worker/package_linux64/build/usr/share/julia/stdlib/v1.0/SHA/src/SHA.jl:60\n",
       "[271] sha3_224(str::AbstractString) in SHA at /buildworker/worker/package_linux64/build/usr/share/julia/stdlib/v1.0/SHA/src/SHA.jl:60\n",
       "[272] sha3_256(str::AbstractString) in SHA at /buildworker/worker/package_linux64/build/usr/share/julia/stdlib/v1.0/SHA/src/SHA.jl:60\n",
       "[273] sha3_384(str::AbstractString) in SHA at /buildworker/worker/package_linux64/build/usr/share/julia/stdlib/v1.0/SHA/src/SHA.jl:60\n",
       "[274] sha3_512(str::AbstractString) in SHA at /buildworker/worker/package_linux64/build/usr/share/julia/stdlib/v1.0/SHA/src/SHA.jl:60\n",
       "[275] sha512(str::AbstractString) in SHA at /buildworker/worker/package_linux64/build/usr/share/julia/stdlib/v1.0/SHA/src/SHA.jl:60\n",
       "[276] installkernel(name::AbstractString, julia_options::AbstractString...) in IJulia at /home/pybokeh/.julia/packages/IJulia/9RcVi/deps/kspec.jl:36\n",
       "[277] send_status(state::AbstractString) in IJulia at /home/pybokeh/.julia/packages/IJulia/9RcVi/src/msg.jl:96\n",
       "[278] send_status(state::AbstractString, parent_msg::IJulia.Msg) in IJulia at /home/pybokeh/.julia/packages/IJulia/9RcVi/src/msg.jl:96\n",
       "[279] subscribe(socket::ZMQ.Socket, filter::Union{AbstractString, Array}) in ZMQ at /home/pybokeh/.julia/packages/ZMQ/yClfT/src/ZMQ.jl:241\n",
       "[280] unsubscribe(socket::ZMQ.Socket, filter::Union{AbstractString, Array}) in ZMQ at /home/pybokeh/.julia/packages/ZMQ/yClfT/src/ZMQ.jl:241\n",
       "[281] dlopen(s::AbstractString) in Libdl at /buildworker/worker/package_linux64/build/usr/share/julia/stdlib/v1.0/Libdl/src/Libdl.jl:97\n",
       "[282] dlopen(s::AbstractString, flags::Integer) in Libdl at /buildworker/worker/package_linux64/build/usr/share/julia/stdlib/v1.0/Libdl/src/Libdl.jl:97\n",
       "[283] dlopen_e(s::AbstractString) in Libdl at /buildworker/worker/package_linux64/build/usr/share/julia/stdlib/v1.0/Libdl/src/Libdl.jl:110\n",
       "[284] dlopen_e(s::AbstractString, flags::Integer) in Libdl at /buildworker/worker/package_linux64/build/usr/share/julia/stdlib/v1.0/Libdl/src/Libdl.jl:110\n",
       "[285] dlpath(libname::Union{AbstractString, Symbol}) in Libdl at /buildworker/worker/package_linux64/build/usr/share/julia/stdlib/v1.0/Libdl/src/Libdl.jl:160\n",
       "[286] dlsym(hnd::Ptr, s::Union{AbstractString, Symbol}) in Libdl at /buildworker/worker/package_linux64/build/usr/share/julia/stdlib/v1.0/Libdl/src/Libdl.jl:54\n",
       "[287] dlsym_e(hnd::Ptr, s::Union{AbstractString, Symbol}) in Libdl at /buildworker/worker/package_linux64/build/usr/share/julia/stdlib/v1.0/Libdl/src/Libdl.jl:64\n",
       "[288] find_library(libname::Union{AbstractString, Symbol}) in Libdl at /buildworker/worker/package_linux64/build/usr/share/julia/stdlib/v1.0/Libdl/src/Libdl.jl:149\n",
       "[289] find_library(libname::Union{AbstractString, Symbol}, extrapaths) in Libdl at /buildworker/worker/package_linux64/build/usr/share/julia/stdlib/v1.0/Libdl/src/Libdl.jl:149\n",
       "[290] stringmime(m::AbstractString, x) in Base64 at /buildworker/worker/package_linux64/build/usr/share/julia/stdlib/v1.0/Base64/src/Base64.jl:39"
      ]
     },
     "execution_count": 21,
     "metadata": {},
     "output_type": "execute_result"
    }
   ],
   "source": [
    "methodswith(AbstractString)"
   ]
  },
  {
   "cell_type": "markdown",
   "metadata": {},
   "source": [
    "# Vectorized Operation"
   ]
  },
  {
   "cell_type": "code",
   "execution_count": 10,
   "metadata": {},
   "outputs": [
    {
     "data": {
      "text/plain": [
       "3-element Array{Int64,1}:\n",
       "  1\n",
       "  8\n",
       " 27"
      ]
     },
     "execution_count": 10,
     "metadata": {},
     "output_type": "execute_result"
    }
   ],
   "source": [
    "[1,2,3] .^ 3"
   ]
  },
  {
   "cell_type": "markdown",
   "metadata": {},
   "source": [
    "# Control Flow"
   ]
  },
  {
   "cell_type": "markdown",
   "metadata": {},
   "source": [
    "### IF statement"
   ]
  },
  {
   "cell_type": "code",
   "execution_count": 11,
   "metadata": {},
   "outputs": [
    {
     "name": "stdout",
     "output_type": "stream",
     "text": [
      "some_var is smaller than 10.\n"
     ]
    }
   ],
   "source": [
    "some_var = 5\n",
    "\n",
    "if some_var > 10\n",
    "    println(\"some_var is totally bigger than 10.\")\n",
    "elseif some_var < 10    # This elseif clause is optional.\n",
    "    println(\"some_var is smaller than 10.\")\n",
    "else                    # The else clause is\n",
    "    println(\"some_var is indeed 10.\")\n",
    "end"
   ]
  },
  {
   "cell_type": "markdown",
   "metadata": {},
   "source": [
    "### FOR Loops"
   ]
  },
  {
   "cell_type": "code",
   "execution_count": 13,
   "metadata": {},
   "outputs": [
    {
     "name": "stdout",
     "output_type": "stream",
     "text": [
      "dog is a mammal\n",
      "cat is a mammal\n",
      "mouse is a mammal\n"
     ]
    }
   ],
   "source": [
    "for animal=[\"dog\", \"cat\", \"mouse\"]\n",
    "    println(\"$animal is a mammal\")\n",
    "    # You can use $ to interpolate variables or expression into strings\n",
    "end"
   ]
  },
  {
   "cell_type": "code",
   "execution_count": 14,
   "metadata": {},
   "outputs": [
    {
     "name": "stdout",
     "output_type": "stream",
     "text": [
      "dog is a mammal\n",
      "cat is a mammal\n",
      "mouse is a mammal\n"
     ]
    }
   ],
   "source": [
    "# You can use 'in' instead of '='.\n",
    "for animal in [\"dog\", \"cat\", \"mouse\"]\n",
    "    println(\"$animal is a mammal\")\n",
    "end"
   ]
  },
  {
   "cell_type": "code",
   "execution_count": 22,
   "metadata": {},
   "outputs": [
    {
     "name": "stdout",
     "output_type": "stream",
     "text": [
      "1\n",
      "2\n",
      "3\n",
      "4\n",
      "5\n"
     ]
    }
   ],
   "source": [
    "for i in 1:5\n",
    "    println(i)\n",
    "end"
   ]
  },
  {
   "cell_type": "code",
   "execution_count": 27,
   "metadata": {},
   "outputs": [
    {
     "name": "stdout",
     "output_type": "stream",
     "text": [
      "1\n",
      "10\n",
      "19\n",
      "28\n",
      "37\n",
      "46\n"
     ]
    }
   ],
   "source": [
    "for i in 1:9:50\n",
    "    println(i)\n",
    "end"
   ]
  },
  {
   "cell_type": "code",
   "execution_count": 15,
   "metadata": {},
   "outputs": [
    {
     "name": "stdout",
     "output_type": "stream",
     "text": [
      "mouse is a mammal\n",
      "cat is a mammal\n",
      "dog is a mammal\n"
     ]
    }
   ],
   "source": [
    "for a in Dict(\"dog\"=>\"mammal\",\"cat\"=>\"mammal\",\"mouse\"=>\"mammal\")\n",
    "    println(\"$(a[1]) is a $(a[2])\")\n",
    "end"
   ]
  },
  {
   "cell_type": "code",
   "execution_count": 16,
   "metadata": {},
   "outputs": [
    {
     "name": "stdout",
     "output_type": "stream",
     "text": [
      "mouse is a mammal\n",
      "cat is a mammal\n",
      "dog is a mammal\n"
     ]
    }
   ],
   "source": [
    "for (k,v) in Dict(\"dog\"=>\"mammal\",\"cat\"=>\"mammal\",\"mouse\"=>\"mammal\")\n",
    "    println(\"$k is a $v\")\n",
    "end"
   ]
  },
  {
   "cell_type": "markdown",
   "metadata": {},
   "source": [
    "### WHILE Loop"
   ]
  },
  {
   "cell_type": "markdown",
   "metadata": {},
   "source": [
    "NOTE: x is not \"seen\" by the ```while``` loop and so it must be made global"
   ]
  },
  {
   "cell_type": "code",
   "execution_count": 31,
   "metadata": {},
   "outputs": [
    {
     "name": "stdout",
     "output_type": "stream",
     "text": [
      "1\n",
      "2\n",
      "3\n"
     ]
    }
   ],
   "source": [
    "x = 1\n",
    "while x < 4\n",
    "    println(x)\n",
    "    global x += 1  # Shorthand for x = x + 1\n",
    "end"
   ]
  },
  {
   "cell_type": "code",
   "execution_count": 32,
   "metadata": {},
   "outputs": [
    {
     "ename": "LoadError",
     "evalue": "UndefVarError: x not defined",
     "output_type": "error",
     "traceback": [
      "UndefVarError: x not defined",
      "",
      "Stacktrace:",
      " [1] top-level scope at ./In[32]:3 [inlined]",
      " [2] top-level scope at ./none:0"
     ]
    }
   ],
   "source": [
    "x = 1\n",
    "while x < 4\n",
    "    println(x)\n",
    "    x += 1  # Shorthand for x = x + 1\n",
    "end"
   ]
  },
  {
   "cell_type": "markdown",
   "metadata": {},
   "source": [
    "# Compound Expression"
   ]
  },
  {
   "cell_type": "code",
   "execution_count": 33,
   "metadata": {},
   "outputs": [
    {
     "data": {
      "text/plain": [
       "3"
      ]
     },
     "execution_count": 33,
     "metadata": {},
     "output_type": "execute_result"
    }
   ],
   "source": [
    "z = begin\n",
    "    x = 1\n",
    "    y = 2\n",
    "    x + y\n",
    "end"
   ]
  },
  {
   "cell_type": "markdown",
   "metadata": {},
   "source": [
    "(```;```) chain syntax"
   ]
  },
  {
   "cell_type": "code",
   "execution_count": 34,
   "metadata": {},
   "outputs": [
    {
     "data": {
      "text/plain": [
       "3"
      ]
     },
     "execution_count": 34,
     "metadata": {},
     "output_type": "execute_result"
    }
   ],
   "source": [
    "z = (x = 1; y = 2; x + y)"
   ]
  },
  {
   "cell_type": "code",
   "execution_count": 35,
   "metadata": {},
   "outputs": [
    {
     "data": {
      "text/plain": [
       "3"
      ]
     },
     "execution_count": 35,
     "metadata": {},
     "output_type": "execute_result"
    }
   ],
   "source": [
    "begin x = 1; y = 2; x + y end"
   ]
  },
  {
   "cell_type": "code",
   "execution_count": 36,
   "metadata": {},
   "outputs": [
    {
     "data": {
      "text/plain": [
       "3"
      ]
     },
     "execution_count": 36,
     "metadata": {},
     "output_type": "execute_result"
    }
   ],
   "source": [
    "(x = 1;\n",
    " y = 2;\n",
    " x + y)"
   ]
  },
  {
   "cell_type": "markdown",
   "metadata": {},
   "source": [
    "# String Basics"
   ]
  },
  {
   "cell_type": "code",
   "execution_count": 37,
   "metadata": {},
   "outputs": [
    {
     "data": {
      "text/plain": [
       "\"Hello, world.\\n\""
      ]
     },
     "execution_count": 37,
     "metadata": {},
     "output_type": "execute_result"
    }
   ],
   "source": [
    "str = \"Hello, world.\\n\""
   ]
  },
  {
   "cell_type": "code",
   "execution_count": 38,
   "metadata": {},
   "outputs": [
    {
     "data": {
      "text/plain": [
       "\"Contains \\\"quote\\\" characters\""
      ]
     },
     "execution_count": 38,
     "metadata": {},
     "output_type": "execute_result"
    }
   ],
   "source": [
    "\"\"\"Contains \"quote\" characters\"\"\""
   ]
  },
  {
   "cell_type": "code",
   "execution_count": 39,
   "metadata": {},
   "outputs": [
    {
     "data": {
      "text/plain": [
       "'H': ASCII/Unicode U+0048 (category Lu: Letter, uppercase)"
      ]
     },
     "execution_count": 39,
     "metadata": {},
     "output_type": "execute_result"
    }
   ],
   "source": [
    "str[1]"
   ]
  },
  {
   "cell_type": "code",
   "execution_count": 40,
   "metadata": {},
   "outputs": [
    {
     "data": {
      "text/plain": [
       "',': ASCII/Unicode U+002c (category Po: Punctuation, other)"
      ]
     },
     "execution_count": 40,
     "metadata": {},
     "output_type": "execute_result"
    }
   ],
   "source": [
    "str[6]"
   ]
  },
  {
   "cell_type": "code",
   "execution_count": 41,
   "metadata": {},
   "outputs": [
    {
     "data": {
      "text/plain": [
       "'\\n': ASCII/Unicode U+000a (category Cc: Other, control)"
      ]
     },
     "execution_count": 41,
     "metadata": {},
     "output_type": "execute_result"
    }
   ],
   "source": [
    "str[end]"
   ]
  },
  {
   "cell_type": "code",
   "execution_count": 42,
   "metadata": {},
   "outputs": [
    {
     "data": {
      "text/plain": [
       "'.': ASCII/Unicode U+002e (category Po: Punctuation, other)"
      ]
     },
     "execution_count": 42,
     "metadata": {},
     "output_type": "execute_result"
    }
   ],
   "source": [
    "str[end-1]"
   ]
  },
  {
   "cell_type": "code",
   "execution_count": 44,
   "metadata": {},
   "outputs": [
    {
     "data": {
      "text/plain": [
       "\"lo, wo\""
      ]
     },
     "execution_count": 44,
     "metadata": {},
     "output_type": "execute_result"
    }
   ],
   "source": [
    "str[4:9]"
   ]
  },
  {
   "cell_type": "markdown",
   "metadata": {},
   "source": [
    "Notice that the expressions str[k] and str[k:k] do not give the same result:"
   ]
  },
  {
   "cell_type": "code",
   "execution_count": 45,
   "metadata": {},
   "outputs": [
    {
     "data": {
      "text/plain": [
       "',': ASCII/Unicode U+002c (category Po: Punctuation, other)"
      ]
     },
     "execution_count": 45,
     "metadata": {},
     "output_type": "execute_result"
    }
   ],
   "source": [
    "str[6]"
   ]
  },
  {
   "cell_type": "code",
   "execution_count": 46,
   "metadata": {},
   "outputs": [
    {
     "data": {
      "text/plain": [
       "\",\""
      ]
     },
     "execution_count": 46,
     "metadata": {},
     "output_type": "execute_result"
    }
   ],
   "source": [
    "str[6:6]"
   ]
  },
  {
   "cell_type": "markdown",
   "metadata": {},
   "source": [
    "The former is a Char and the latter is a str"
   ]
  },
  {
   "cell_type": "code",
   "execution_count": 47,
   "metadata": {},
   "outputs": [
    {
     "data": {
      "text/plain": [
       "\"long string\""
      ]
     },
     "execution_count": 47,
     "metadata": {},
     "output_type": "execute_result"
    }
   ],
   "source": [
    "str = \"long string\""
   ]
  },
  {
   "cell_type": "code",
   "execution_count": 48,
   "metadata": {},
   "outputs": [
    {
     "data": {
      "text/plain": [
       "\"long\""
      ]
     },
     "execution_count": 48,
     "metadata": {},
     "output_type": "execute_result"
    }
   ],
   "source": [
    "substr = SubString(str, 1, 4)"
   ]
  },
  {
   "cell_type": "markdown",
   "metadata": {},
   "source": [
    "### String concatenation with ```string()``` or ```*```"
   ]
  },
  {
   "cell_type": "code",
   "execution_count": 1,
   "metadata": {},
   "outputs": [
    {
     "data": {
      "text/plain": [
       "\"World\""
      ]
     },
     "execution_count": 1,
     "metadata": {},
     "output_type": "execute_result"
    }
   ],
   "source": [
    "greet = \"Hello\"\n",
    "whom = \"World\""
   ]
  },
  {
   "cell_type": "code",
   "execution_count": 2,
   "metadata": {},
   "outputs": [
    {
     "data": {
      "text/plain": [
       "\"Hello, World.\\n\""
      ]
     },
     "execution_count": 2,
     "metadata": {},
     "output_type": "execute_result"
    }
   ],
   "source": [
    "string(greet, \", \", whom, \".\\n\")"
   ]
  },
  {
   "cell_type": "code",
   "execution_count": 6,
   "metadata": {},
   "outputs": [
    {
     "data": {
      "text/plain": [
       "\"Hello, World\""
      ]
     },
     "execution_count": 6,
     "metadata": {},
     "output_type": "execute_result"
    }
   ],
   "source": [
    "greet * \", \" * whom"
   ]
  },
  {
   "cell_type": "markdown",
   "metadata": {},
   "source": [
    "### String interpolation"
   ]
  },
  {
   "cell_type": "code",
   "execution_count": 7,
   "metadata": {},
   "outputs": [
    {
     "data": {
      "text/plain": [
       "\"Hello, World.\\n\""
      ]
     },
     "execution_count": 7,
     "metadata": {},
     "output_type": "execute_result"
    }
   ],
   "source": [
    "\"$greet, $whom.\\n\""
   ]
  },
  {
   "cell_type": "markdown",
   "metadata": {},
   "source": [
    "you can interpolate any expression into a string using parentheses:"
   ]
  },
  {
   "cell_type": "code",
   "execution_count": 9,
   "metadata": {},
   "outputs": [
    {
     "data": {
      "text/plain": [
       "\"1 + 2 = 3\""
      ]
     },
     "execution_count": 9,
     "metadata": {},
     "output_type": "execute_result"
    }
   ],
   "source": [
    "\"1 + 2 = $(1 + 2)\""
   ]
  },
  {
   "cell_type": "markdown",
   "metadata": {},
   "source": [
    "### Triple-Quoted String Literals"
   ]
  },
  {
   "cell_type": "code",
   "execution_count": 11,
   "metadata": {},
   "outputs": [
    {
     "data": {
      "text/plain": [
       "\"Hello,\\nworld.\\n\""
      ]
     },
     "execution_count": 11,
     "metadata": {},
     "output_type": "execute_result"
    }
   ],
   "source": [
    "str = \n",
    "\"\"\"Hello,\n",
    "world.\n",
    "\"\"\""
   ]
  },
  {
   "cell_type": "code",
   "execution_count": 12,
   "metadata": {},
   "outputs": [
    {
     "name": "stdout",
     "output_type": "stream",
     "text": [
      "Hello,\n",
      "world.\n"
     ]
    }
   ],
   "source": [
    "print(str)"
   ]
  },
  {
   "cell_type": "markdown",
   "metadata": {},
   "source": [
    "### Location Index: ```findfirst()``` / ```isequal()```"
   ]
  },
  {
   "cell_type": "code",
   "execution_count": 15,
   "metadata": {},
   "outputs": [
    {
     "data": {
      "text/plain": [
       "1"
      ]
     },
     "execution_count": 15,
     "metadata": {},
     "output_type": "execute_result"
    }
   ],
   "source": [
    "findfirst(isequal('x'), \"xylophone\")"
   ]
  },
  {
   "cell_type": "markdown",
   "metadata": {},
   "source": [
    "**How do I find methods that uses a string as one of its arguments? Use ```methodswith()```**"
   ]
  },
  {
   "cell_type": "code",
   "execution_count": 20,
   "metadata": {},
   "outputs": [
    {
     "data": {
      "text/html": [
       "290-element Array{Method,1}:<ul><li> @doc_str(__source__::<b>LineNumberNode</b>, __module__::<b>Module</b>, s::<b>AbstractString</b>, t...) in Markdown at <a href=\"file:///buildworker/worker/package_linux64/build/usr/share/julia/stdlib/v1.0/Markdown/src/Markdown.jl\" target=\"_blank\">/buildworker/worker/package_linux64/build/usr/share/julia/stdlib/v1.0/Markdown/src/Markdown.jl:53</a><li> bind(server::<b>Sockets.PipeServer</b>, name::<b>AbstractString</b>) in Sockets at <a href=\"file:///buildworker/worker/package_linux64/build/usr/share/julia/stdlib/v1.0/Sockets/src/PipeServer.jl\" target=\"_blank\">/buildworker/worker/package_linux64/build/usr/share/julia/stdlib/v1.0/Sockets/src/PipeServer.jl:49</a><li> bind(socket::<b>ZMQ.Socket</b>, endpoint::<b>AbstractString</b>) in ZMQ at <a href=\"file:///home/pybokeh/.julia/packages/ZMQ/yClfT/src/ZMQ.jl\" target=\"_blank\">/home/pybokeh/.julia/packages/ZMQ/yClfT/src/ZMQ.jl:295</a><li> connect(path::<b>AbstractString</b>) in Sockets at <a href=\"file:///buildworker/worker/package_linux64/build/usr/share/julia/stdlib/v1.0/Sockets/src/PipeServer.jl\" target=\"_blank\">/buildworker/worker/package_linux64/build/usr/share/julia/stdlib/v1.0/Sockets/src/PipeServer.jl:93</a><li> connect(host::<b>AbstractString</b>, port::<b>Integer</b>) in Sockets at <a href=\"file:///buildworker/worker/package_linux64/build/usr/share/julia/stdlib/v1.0/Sockets/src/Sockets.jl\" target=\"_blank\">/buildworker/worker/package_linux64/build/usr/share/julia/stdlib/v1.0/Sockets/src/Sockets.jl:427</a><li> connect(socket::<b>ZMQ.Socket</b>, endpoint::<b>AbstractString</b>) in ZMQ at <a href=\"file:///home/pybokeh/.julia/packages/ZMQ/yClfT/src/ZMQ.jl\" target=\"_blank\">/home/pybokeh/.julia/packages/ZMQ/yClfT/src/ZMQ.jl:302</a><li> getaddrinfo(host::<b>AbstractString</b>) in Sockets at <a href=\"file:///buildworker/worker/package_linux64/build/usr/share/julia/stdlib/v1.0/Sockets/src/addrinfo.jl\" target=\"_blank\">/buildworker/worker/package_linux64/build/usr/share/julia/stdlib/v1.0/Sockets/src/addrinfo.jl:125</a><li> getaddrinfo(host::<b>AbstractString</b>, T::<b>Type{#s549} where #s549<:Sockets.IPAddr</b>) in Sockets at <a href=\"file:///buildworker/worker/package_linux64/build/usr/share/julia/stdlib/v1.0/Sockets/src/addrinfo.jl\" target=\"_blank\">/buildworker/worker/package_linux64/build/usr/share/julia/stdlib/v1.0/Sockets/src/addrinfo.jl:124</a><li> getalladdrinfo(host::<b>AbstractString</b>) in Sockets at <a href=\"file:///buildworker/worker/package_linux64/build/usr/share/julia/stdlib/v1.0/Sockets/src/addrinfo.jl\" target=\"_blank\">/buildworker/worker/package_linux64/build/usr/share/julia/stdlib/v1.0/Sockets/src/addrinfo.jl:107</a><li> listen(path::<b>AbstractString</b>) in Sockets at <a href=\"file:///buildworker/worker/package_linux64/build/usr/share/julia/stdlib/v1.0/Sockets/src/PipeServer.jl\" target=\"_blank\">/buildworker/worker/package_linux64/build/usr/share/julia/stdlib/v1.0/Sockets/src/PipeServer.jl:70</a><li> send(socket::<b>ZMQ.Socket</b>, msg::<b>AbstractString</b>) in ZMQ at <a href=\"file:///home/pybokeh/.julia/packages/ZMQ/yClfT/src/ZMQ.jl\" target=\"_blank\">/home/pybokeh/.julia/packages/ZMQ/yClfT/src/ZMQ.jl:489</a><li> send(socket::<b>ZMQ.Socket</b>, msg::<b>AbstractString</b>, SNDMORE::<b>Bool</b>) in ZMQ at <a href=\"file:///home/pybokeh/.julia/packages/ZMQ/yClfT/src/ZMQ.jl\" target=\"_blank\">/home/pybokeh/.julia/packages/ZMQ/yClfT/src/ZMQ.jl:489</a><li> writedlm(fname::<b>AbstractString</b>, a, dlm) in DelimitedFiles at <a href=\"file:///buildworker/worker/package_linux64/build/usr/share/julia/stdlib/v1.0/DelimitedFiles/src/DelimitedFiles.jl\" target=\"_blank\">/buildworker/worker/package_linux64/build/usr/share/julia/stdlib/v1.0/DelimitedFiles/src/DelimitedFiles.jl:788</a><li> *(d::<b>Missing</b>, x::<b>AbstractString</b>) in Base at <a href=\"https://github.com/JuliaLang/julia/tree/5d4eaca0c9fa3d555c79dbacdccb9169fdf64b65/base/missing.jl#L139\" target=\"_blank\">missing.jl:139</a><li> *(s1::<b>Union{AbstractChar, AbstractString}</b>, ss::<b>Union{AbstractChar, AbstractString}...</b>) in Base at <a href=\"https://github.com/JuliaLang/julia/tree/5d4eaca0c9fa3d555c79dbacdccb9169fdf64b65/base/strings/basic.jl#L229\" target=\"_blank\">strings/basic.jl:229</a><li> *(d::<b>AbstractString</b>, x::<b>Missing</b>) in Base at <a href=\"https://github.com/JuliaLang/julia/tree/5d4eaca0c9fa3d555c79dbacdccb9169fdf64b65/base/missing.jl#L140\" target=\"_blank\">missing.jl:140</a><li> ==(a::<b>AbstractString</b>, b::<b>AbstractString</b>) in Base at <a href=\"https://github.com/JuliaLang/julia/tree/5d4eaca0c9fa3d555c79dbacdccb9169fdf64b65/base/strings/basic.jl#L293\" target=\"_blank\">strings/basic.jl:293</a><li> ^(s::<b>Union{AbstractChar, AbstractString}</b>, r::<b>Integer</b>) in Base at <a href=\"https://github.com/JuliaLang/julia/tree/5d4eaca0c9fa3d555c79dbacdccb9169fdf64b65/base/strings/basic.jl#L674\" target=\"_blank\">strings/basic.jl:674</a><li> abspath(path::<b>AbstractString</b>) in Base.Filesystem at <a href=\"https://github.com/JuliaLang/julia/tree/5d4eaca0c9fa3d555c79dbacdccb9169fdf64b65/base/path.jl#L420\" target=\"_blank\">path.jl:420</a><li> abspath(a::<b>AbstractString</b>, b::<b>AbstractString...</b>) in Base.Filesystem at <a href=\"https://github.com/JuliaLang/julia/tree/5d4eaca0c9fa3d555c79dbacdccb9169fdf64b65/base/path.jl#L288\" target=\"_blank\">path.jl:288</a><li> ascii(x::<b>AbstractString</b>) in Base at <a href=\"https://github.com/JuliaLang/julia/tree/5d4eaca0c9fa3d555c79dbacdccb9169fdf64b65/base/strings/util.jl#L626\" target=\"_blank\">strings/util.jl:626</a><li> asyncmap(f, s::<b>AbstractString</b>) in Base at <a href=\"https://github.com/JuliaLang/julia/tree/5d4eaca0c9fa3d555c79dbacdccb9169fdf64b65/base/asyncmap.jl#L249\" target=\"_blank\">asyncmap.jl:249</a><li> basename(path::<b>AbstractString</b>) in Base.Filesystem at <a href=\"https://github.com/JuliaLang/julia/tree/5d4eaca0c9fa3d555c79dbacdccb9169fdf64b65/base/path.jl#L166\" target=\"_blank\">path.jl:166</a><li> cd(dir::<b>AbstractString</b>) in Base.Filesystem at <a href=\"https://github.com/JuliaLang/julia/tree/5d4eaca0c9fa3d555c79dbacdccb9169fdf64b65/base/file.jl#L76\" target=\"_blank\">file.jl:76</a><li> cd(f::<b>Function</b>, dir::<b>AbstractString</b>) in Base.Filesystem at <a href=\"https://github.com/JuliaLang/julia/tree/5d4eaca0c9fa3d555c79dbacdccb9169fdf64b65/base/file.jl#L92\" target=\"_blank\">file.jl:92</a><li> checkbounds(::<b>Type{Bool}</b>, s::<b>AbstractString</b>, i::<b>Integer</b>) in Base at <a href=\"https://github.com/JuliaLang/julia/tree/5d4eaca0c9fa3d555c79dbacdccb9169fdf64b65/base/strings/basic.jl#L185\" target=\"_blank\">strings/basic.jl:185</a><li> checkbounds(::<b>Type{Bool}</b>, s::<b>AbstractString</b>, r::<b>AbstractRange{#s57} where #s57<:Integer</b>) in Base at <a href=\"https://github.com/JuliaLang/julia/tree/5d4eaca0c9fa3d555c79dbacdccb9169fdf64b65/base/strings/basic.jl#L187\" target=\"_blank\">strings/basic.jl:187</a><li> checkbounds(::<b>Type{Bool}</b>, s::<b>AbstractString</b>, I::<b>AbstractArray{#s57,N} where N where #s57<:Integer</b>) in Base at <a href=\"https://github.com/JuliaLang/julia/tree/5d4eaca0c9fa3d555c79dbacdccb9169fdf64b65/base/strings/basic.jl#L191\" target=\"_blank\">strings/basic.jl:191</a><li> checkbounds(::<b>Type{Bool}</b>, s::<b>AbstractString</b>, I::<b>AbstractArray{#s57,N} where N where #s57<:Real</b>) in Base at <a href=\"https://github.com/JuliaLang/julia/tree/5d4eaca0c9fa3d555c79dbacdccb9169fdf64b65/base/strings/basic.jl#L189\" target=\"_blank\">strings/basic.jl:189</a><li> checkbounds(s::<b>AbstractString</b>, I::<b>Union{Integer, AbstractArray}</b>) in Base at <a href=\"https://github.com/JuliaLang/julia/tree/5d4eaca0c9fa3d555c79dbacdccb9169fdf64b65/base/strings/basic.jl#L193\" target=\"_blank\">strings/basic.jl:193</a><li> chmod(path::<b>AbstractString</b>, mode::<b>Integer</b>) in Base.Filesystem at <a href=\"https://github.com/JuliaLang/julia/tree/5d4eaca0c9fa3d555c79dbacdccb9169fdf64b65/base/file.jl#L828\" target=\"_blank\">file.jl:828</a><li> chomp(s::<b>AbstractString</b>) in Base at <a href=\"https://github.com/JuliaLang/julia/tree/5d4eaca0c9fa3d555c79dbacdccb9169fdf64b65/base/strings/util.jl#L117\" target=\"_blank\">strings/util.jl:117</a><li> chop(s::<b>AbstractString</b>) in Base at <a href=\"https://github.com/JuliaLang/julia/tree/5d4eaca0c9fa3d555c79dbacdccb9169fdf64b65/base/strings/util.jl#L99\" target=\"_blank\">strings/util.jl:99</a><li> chown(path::<b>AbstractString</b>, owner::<b>Integer</b>) in Base.Filesystem at <a href=\"https://github.com/JuliaLang/julia/tree/5d4eaca0c9fa3d555c79dbacdccb9169fdf64b65/base/file.jl#L848\" target=\"_blank\">file.jl:848</a><li> chown(path::<b>AbstractString</b>, owner::<b>Integer</b>, group::<b>Integer</b>) in Base.Filesystem at <a href=\"https://github.com/JuliaLang/julia/tree/5d4eaca0c9fa3d555c79dbacdccb9169fdf64b65/base/file.jl#L848\" target=\"_blank\">file.jl:848</a><li> cmp(a::<b>AbstractString</b>, b::<b>AbstractString</b>) in Base at <a href=\"https://github.com/JuliaLang/julia/tree/5d4eaca0c9fa3d555c79dbacdccb9169fdf64b65/base/strings/basic.jl#L269\" target=\"_blank\">strings/basic.jl:269</a><li> codeunit(s::<b>AbstractString</b>, i::<b>Integer</b>) in Base at <a href=\"https://github.com/JuliaLang/julia/tree/5d4eaca0c9fa3d555c79dbacdccb9169fdf64b65/base/strings/basic.jl#L84\" target=\"_blank\">strings/basic.jl:84</a><li> codeunits(s::<b>AbstractString</b>) in Base at <a href=\"https://github.com/JuliaLang/julia/tree/5d4eaca0c9fa3d555c79dbacdccb9169fdf64b65/base/strings/basic.jl#L714\" target=\"_blank\">strings/basic.jl:714</a><li> convert(::<b>Type{Base.SecretBuffer}</b>, s::<b>AbstractString</b>) in Base at <a href=\"https://github.com/JuliaLang/julia/tree/5d4eaca0c9fa3d555c79dbacdccb9169fdf64b65/base/secretbuffer.jl#L64\" target=\"_blank\">secretbuffer.jl:64</a><li> convert<i>{T<:AbstractString}</i>(::<b>Type{T}</b>, s::<b>T</b>) in Base at <a href=\"https://github.com/JuliaLang/julia/tree/5d4eaca0c9fa3d555c79dbacdccb9169fdf64b65/base/strings/basic.jl#L207\" target=\"_blank\">strings/basic.jl:207</a><li> convert<i>{S<:AbstractString}</i>(::<b>Type{SubString{S}}</b>, s::<b>AbstractString</b>) in Base at <a href=\"https://github.com/JuliaLang/julia/tree/5d4eaca0c9fa3d555c79dbacdccb9169fdf64b65/base/strings/substring.jl#L50\" target=\"_blank\">strings/substring.jl:50</a><li> convert<i>{T<:AbstractString}</i>(::<b>Type{T}</b>, s::<b>AbstractString</b>) in Base at <a href=\"https://github.com/JuliaLang/julia/tree/5d4eaca0c9fa3d555c79dbacdccb9169fdf64b65/base/strings/basic.jl#L208\" target=\"_blank\">strings/basic.jl:208</a><li> countlines(f::<b>AbstractString</b>) in Base at <a href=\"https://github.com/JuliaLang/julia/tree/5d4eaca0c9fa3d555c79dbacdccb9169fdf64b65/base/io.jl#L1025\" target=\"_blank\">io.jl:1025</a><li> cp(src::<b>AbstractString</b>, dst::<b>AbstractString</b>) in Base.Filesystem at <a href=\"https://github.com/JuliaLang/julia/tree/5d4eaca0c9fa3d555c79dbacdccb9169fdf64b65/base/file.jl#L330\" target=\"_blank\">file.jl:330</a><li> delete!(::<b>Base.EnvDict</b>, k::<b>AbstractString</b>) in Base at <a href=\"https://github.com/JuliaLang/julia/tree/5d4eaca0c9fa3d555c79dbacdccb9169fdf64b65/base/env.jl#L82\" target=\"_blank\">env.jl:82</a><li> dirname(path::<b>AbstractString</b>) in Base.Filesystem at <a href=\"https://github.com/JuliaLang/julia/tree/5d4eaca0c9fa3d555c79dbacdccb9169fdf64b65/base/path.jl#L151\" target=\"_blank\">path.jl:151</a><li> display(d::<b>AbstractDisplay</b>, mime::<b>AbstractString</b>, x) in Base.Multimedia at <a href=\"https://github.com/JuliaLang/julia/tree/5d4eaca0c9fa3d555c79dbacdccb9169fdf64b65/base/multimedia.jl#L178\" target=\"_blank\">multimedia.jl:178</a><li> display(mime::<b>AbstractString</b>, x) in Base.Multimedia at <a href=\"https://github.com/JuliaLang/julia/tree/5d4eaca0c9fa3d555c79dbacdccb9169fdf64b65/base/multimedia.jl#L179\" target=\"_blank\">multimedia.jl:179</a><li> displayable(d::<b>AbstractDisplay</b>, mime::<b>AbstractString</b>) in Base.Multimedia at <a href=\"https://github.com/JuliaLang/julia/tree/5d4eaca0c9fa3d555c79dbacdccb9169fdf64b65/base/multimedia.jl#L189\" target=\"_blank\">multimedia.jl:189</a><li> displayable(mime::<b>AbstractString</b>) in Base.Multimedia at <a href=\"https://github.com/JuliaLang/julia/tree/5d4eaca0c9fa3d555c79dbacdccb9169fdf64b65/base/multimedia.jl#L190\" target=\"_blank\">multimedia.jl:190</a><li> download(url::<b>AbstractString</b>) in Base at <a href=\"https://github.com/JuliaLang/julia/tree/5d4eaca0c9fa3d555c79dbacdccb9169fdf64b65/base/download.jl#L58\" target=\"_blank\">download.jl:58</a><li> download(url::<b>AbstractString</b>, filename::<b>AbstractString</b>) in Base at <a href=\"https://github.com/JuliaLang/julia/tree/5d4eaca0c9fa3d555c79dbacdccb9169fdf64b65/base/download.jl#L28\" target=\"_blank\">download.jl:28</a><li> eachline(filename::<b>AbstractString</b>) in Base at <a href=\"https://github.com/JuliaLang/julia/tree/5d4eaca0c9fa3d555c79dbacdccb9169fdf64b65/base/io.jl#L875\" target=\"_blank\">io.jl:875</a><li> eachmatch(re::<b>Regex</b>, str::<b>AbstractString</b>) in Base at <a href=\"https://github.com/JuliaLang/julia/tree/5d4eaca0c9fa3d555c79dbacdccb9169fdf64b65/base/regex.jl#L423\" target=\"_blank\">regex.jl:423</a><li> endswith(a::<b>AbstractString</b>, b::<b>AbstractString</b>) in Base at <a href=\"https://github.com/JuliaLang/julia/tree/5d4eaca0c9fa3d555c79dbacdccb9169fdf64b65/base/strings/util.jl#L42\" target=\"_blank\">strings/util.jl:42</a><li> endswith(str::<b>AbstractString</b>, chars::<b>Union{AbstractChar, Tuple{Vararg{AbstractChar,N} where N}, Set{#s55} where #s55<:AbstractChar, AbstractArray{#s56,1} where #s56<:AbstractChar}</b>) in Base at <a href=\"https://github.com/JuliaLang/julia/tree/5d4eaca0c9fa3d555c79dbacdccb9169fdf64b65/base/strings/util.jl#L46\" target=\"_blank\">strings/util.jl:46</a><li> error(s::<b>AbstractString</b>) in Base at <a href=\"https://github.com/JuliaLang/julia/tree/5d4eaca0c9fa3d555c79dbacdccb9169fdf64b65/base/error.jl#L33\" target=\"_blank\">error.jl:33</a><li> escape_string(io::<b>IO</b>, s::<b>AbstractString</b>) in Base at <a href=\"https://github.com/JuliaLang/julia/tree/5d4eaca0c9fa3d555c79dbacdccb9169fdf64b65/base/strings/io.jl#L306\" target=\"_blank\">strings/io.jl:306</a><li> escape_string(io::<b>IO</b>, s::<b>AbstractString</b>, esc) in Base at <a href=\"https://github.com/JuliaLang/julia/tree/5d4eaca0c9fa3d555c79dbacdccb9169fdf64b65/base/strings/io.jl#L306\" target=\"_blank\">strings/io.jl:306</a><li> escape_string(s::<b>AbstractString</b>) in Base at <a href=\"https://github.com/JuliaLang/julia/tree/5d4eaca0c9fa3d555c79dbacdccb9169fdf64b65/base/strings/io.jl#L332\" target=\"_blank\">strings/io.jl:332</a><li> escape_string(s::<b>AbstractString</b>, esc) in Base at <a href=\"https://github.com/JuliaLang/julia/tree/5d4eaca0c9fa3d555c79dbacdccb9169fdf64b65/base/strings/io.jl#L332\" target=\"_blank\">strings/io.jl:332</a><li> evalfile(path::<b>AbstractString</b>) in Base at <a href=\"https://github.com/JuliaLang/julia/tree/5d4eaca0c9fa3d555c79dbacdccb9169fdf64b65/base/loading.jl#L1069\" target=\"_blank\">loading.jl:1069</a><li> evalfile(path::<b>AbstractString</b>, args::<b>Array{String,1}</b>) in Base at <a href=\"https://github.com/JuliaLang/julia/tree/5d4eaca0c9fa3d555c79dbacdccb9169fdf64b65/base/loading.jl#L1069\" target=\"_blank\">loading.jl:1069</a><li> evalfile(path::<b>AbstractString</b>, args::<b>Array{T,1} where T</b>) in Base at <a href=\"https://github.com/JuliaLang/julia/tree/5d4eaca0c9fa3d555c79dbacdccb9169fdf64b65/base/loading.jl#L1076\" target=\"_blank\">loading.jl:1076</a><li> expanduser(path::<b>AbstractString</b>) in Base.Filesystem at <a href=\"https://github.com/JuliaLang/julia/tree/5d4eaca0c9fa3d555c79dbacdccb9169fdf64b65/base/path.jl#L344\" target=\"_blank\">path.jl:344</a><li> fdio(name::<b>AbstractString</b>, fd::<b>Integer</b>) in Base at <a href=\"https://github.com/JuliaLang/julia/tree/5d4eaca0c9fa3d555c79dbacdccb9169fdf64b65/base/iostream.jl#L207\" target=\"_blank\">iostream.jl:207</a><li> fdio(name::<b>AbstractString</b>, fd::<b>Integer</b>, own::<b>Bool</b>) in Base at <a href=\"https://github.com/JuliaLang/julia/tree/5d4eaca0c9fa3d555c79dbacdccb9169fdf64b65/base/iostream.jl#L207\" target=\"_blank\">iostream.jl:207</a><li> filter(f, s::<b>AbstractString</b>) in Base at <a href=\"https://github.com/JuliaLang/julia/tree/5d4eaca0c9fa3d555c79dbacdccb9169fdf64b65/base/strings/basic.jl#L581\" target=\"_blank\">strings/basic.jl:581</a><li> findfirst(A::<b>Union{AbstractString, AbstractArray}</b>) in Base at <a href=\"https://github.com/JuliaLang/julia/tree/5d4eaca0c9fa3d555c79dbacdccb9169fdf64b65/base/array.jl#L1661\" target=\"_blank\">array.jl:1661</a><li> findfirst(testf::<b>Function</b>, A::<b>Union{AbstractString, AbstractArray}</b>) in Base at <a href=\"https://github.com/JuliaLang/julia/tree/5d4eaca0c9fa3d555c79dbacdccb9169fdf64b65/base/array.jl#L1742\" target=\"_blank\">array.jl:1742</a><li> findfirst(pattern::<b>AbstractString</b>, string::<b>AbstractString</b>) in Base at <a href=\"https://github.com/JuliaLang/julia/tree/5d4eaca0c9fa3d555c79dbacdccb9169fdf64b65/base/strings/search.jl#L104\" target=\"_blank\">strings/search.jl:104</a><li> findfirst(r::<b>Regex</b>, s::<b>AbstractString</b>) in Base at <a href=\"https://github.com/JuliaLang/julia/tree/5d4eaca0c9fa3d555c79dbacdccb9169fdf64b65/base/regex.jl#L231\" target=\"_blank\">regex.jl:231</a><li> findlast(A::<b>Union{AbstractString, AbstractArray}</b>) in Base at <a href=\"https://github.com/JuliaLang/julia/tree/5d4eaca0c9fa3d555c79dbacdccb9169fdf64b65/base/array.jl#L1830\" target=\"_blank\">array.jl:1830</a><li> findlast(testf::<b>Function</b>, A::<b>Union{AbstractString, AbstractArray}</b>) in Base at <a href=\"https://github.com/JuliaLang/julia/tree/5d4eaca0c9fa3d555c79dbacdccb9169fdf64b65/base/array.jl#L1913\" target=\"_blank\">array.jl:1913</a><li> findlast(pattern::<b>AbstractString</b>, string::<b>AbstractString</b>) in Base at <a href=\"https://github.com/JuliaLang/julia/tree/5d4eaca0c9fa3d555c79dbacdccb9169fdf64b65/base/strings/search.jl#L274\" target=\"_blank\">strings/search.jl:274</a><li> findnext(testf::<b>Function</b>, s::<b>AbstractString</b>, i::<b>Integer</b>) in Base at <a href=\"https://github.com/JuliaLang/julia/tree/5d4eaca0c9fa3d555c79dbacdccb9169fdf64b65/base/strings/search.jl#L109\" target=\"_blank\">strings/search.jl:109</a><li> findnext(t::<b>AbstractString</b>, s::<b>AbstractString</b>, i::<b>Integer</b>) in Base at <a href=\"https://github.com/JuliaLang/julia/tree/5d4eaca0c9fa3d555c79dbacdccb9169fdf64b65/base/strings/search.jl#L256\" target=\"_blank\">strings/search.jl:256</a><li> findnext(r::<b>Regex</b>, s::<b>AbstractString</b>, idx::<b>Integer</b>) in Base at <a href=\"https://github.com/JuliaLang/julia/tree/5d4eaca0c9fa3d555c79dbacdccb9169fdf64b65/base/regex.jl#L228\" target=\"_blank\">regex.jl:228</a><li> findprev(testf::<b>Function</b>, s::<b>AbstractString</b>, i::<b>Integer</b>) in Base at <a href=\"https://github.com/JuliaLang/julia/tree/5d4eaca0c9fa3d555c79dbacdccb9169fdf64b65/base/strings/search.jl#L279\" target=\"_blank\">strings/search.jl:279</a><li> findprev(t::<b>AbstractString</b>, s::<b>AbstractString</b>, i::<b>Integer</b>) in Base at <a href=\"https://github.com/JuliaLang/julia/tree/5d4eaca0c9fa3d555c79dbacdccb9169fdf64b65/base/strings/search.jl#L433\" target=\"_blank\">strings/search.jl:433</a><li> first(s::<b>AbstractString</b>, n::<b>Integer</b>) in Base at <a href=\"https://github.com/JuliaLang/julia/tree/5d4eaca0c9fa3d555c79dbacdccb9169fdf64b65/base/strings/basic.jl#L606\" target=\"_blank\">strings/basic.jl:606</a><li> firstindex(s::<b>AbstractString</b>) in Base at <a href=\"https://github.com/JuliaLang/julia/tree/5d4eaca0c9fa3d555c79dbacdccb9169fdf64b65/base/strings/basic.jl#L158\" target=\"_blank\">strings/basic.jl:158</a><li> get(::<b>Base.EnvDict</b>, k::<b>AbstractString</b>, def) in Base at <a href=\"https://github.com/JuliaLang/julia/tree/5d4eaca0c9fa3d555c79dbacdccb9169fdf64b65/base/env.jl#L77\" target=\"_blank\">env.jl:77</a><li> get(s::<b>AbstractString</b>, i::<b>Integer</b>, default) in Base at <a href=\"https://github.com/JuliaLang/julia/tree/5d4eaca0c9fa3d555c79dbacdccb9169fdf64b65/base/strings/basic.jl#L176\" target=\"_blank\">strings/basic.jl:176</a><li> get(f::<b>Union{Function, Type}</b>, ::<b>Base.EnvDict</b>, k::<b>AbstractString</b>) in Base at <a href=\"https://github.com/JuliaLang/julia/tree/5d4eaca0c9fa3d555c79dbacdccb9169fdf64b65/base/env.jl#L78\" target=\"_blank\">env.jl:78</a><li> getindex(m::<b>RegexMatch</b>, name::<b>AbstractString</b>) in Base at <a href=\"https://github.com/JuliaLang/julia/tree/5d4eaca0c9fa3d555c79dbacdccb9169fdf64b65/base/regex.jl#L151\" target=\"_blank\">regex.jl:151</a><li> getindex(::<b>Base.EnvDict</b>, k::<b>AbstractString</b>) in Base at <a href=\"https://github.com/JuliaLang/julia/tree/5d4eaca0c9fa3d555c79dbacdccb9169fdf64b65/base/env.jl#L76\" target=\"_blank\">env.jl:76</a><li> getindex(tree::<b>LibGit2.GitTree</b>, target::<b>AbstractString</b>) in LibGit2 at <a href=\"file:///buildworker/worker/package_linux64/build/usr/share/julia/stdlib/v1.0/LibGit2/src/tree.jl\" target=\"_blank\">/buildworker/worker/package_linux64/build/usr/share/julia/stdlib/v1.0/LibGit2/src/tree.jl:164</a><li> getindex(tbl::<b>Pkg.TOML.Table</b>, key::<b>AbstractString</b>) in Pkg.TOML at <a href=\"file:///buildworker/worker/package_linux64/build/usr/share/julia/stdlib/v1.0/Pkg/ext/TOML/src/parser.jl\" target=\"_blank\">/buildworker/worker/package_linux64/build/usr/share/julia/stdlib/v1.0/Pkg/ext/TOML/src/parser.jl:31</a><li> getindex(s::<b>AbstractString</b>, i::<b>Integer</b>) in Base at <a href=\"https://github.com/JuliaLang/julia/tree/5d4eaca0c9fa3d555c79dbacdccb9169fdf64b65/base/strings/basic.jl#L162\" target=\"_blank\">strings/basic.jl:162</a><li> getindex(s::<b>AbstractString</b>, i::<b>Colon</b>) in Base at <a href=\"https://github.com/JuliaLang/julia/tree/5d4eaca0c9fa3d555c79dbacdccb9169fdf64b65/base/strings/basic.jl#L166\" target=\"_blank\">strings/basic.jl:166</a><li> getindex(s::<b>AbstractString</b>, r::<b>UnitRange{#s57} where #s57<:Integer</b>) in Base at <a href=\"https://github.com/JuliaLang/julia/tree/5d4eaca0c9fa3d555c79dbacdccb9169fdf64b65/base/strings/substring.jl#L178\" target=\"_blank\">strings/substring.jl:178</a><li> getindex(s::<b>AbstractString</b>, v::<b>AbstractArray{Bool,1}</b>) in Base at <a href=\"https://github.com/JuliaLang/julia/tree/5d4eaca0c9fa3d555c79dbacdccb9169fdf64b65/base/strings/basic.jl#L171\" target=\"_blank\">strings/basic.jl:171</a><li> getindex(s::<b>AbstractString</b>, v::<b>AbstractArray{#s57,1} where #s57<:Integer</b>) in Base at <a href=\"https://github.com/JuliaLang/julia/tree/5d4eaca0c9fa3d555c79dbacdccb9169fdf64b65/base/strings/basic.jl#L169\" target=\"_blank\">strings/basic.jl:169</a><li> hash(s::<b>AbstractString</b>, h::<b>UInt64</b>) in Base at <a href=\"https://github.com/JuliaLang/julia/tree/5d4eaca0c9fa3d555c79dbacdccb9169fdf64b65/base/hashing2.jl#L181\" target=\"_blank\">hashing2.jl:181</a><li> haskey(tbl::<b>Pkg.TOML.Table</b>, key::<b>AbstractString</b>) in Pkg.TOML at <a href=\"file:///buildworker/worker/package_linux64/build/usr/share/julia/stdlib/v1.0/Pkg/ext/TOML/src/parser.jl\" target=\"_blank\">/buildworker/worker/package_linux64/build/usr/share/julia/stdlib/v1.0/Pkg/ext/TOML/src/parser.jl:32</a><li> hex2bytes(s::<b>AbstractString</b>) in Base at <a href=\"https://github.com/JuliaLang/julia/tree/5d4eaca0c9fa3d555c79dbacdccb9169fdf64b65/base/strings/util.jl#L527\" target=\"_blank\">strings/util.jl:527</a><li> in(c::<b>AbstractChar</b>, s::<b>AbstractString</b>) in Base at <a href=\"https://github.com/JuliaLang/julia/tree/5d4eaca0c9fa3d555c79dbacdccb9169fdf64b65/base/strings/search.jl#L120\" target=\"_blank\">strings/search.jl:120</a><li> in(::<b>AbstractString</b>, ::<b>AbstractString</b>) in Base at <a href=\"https://github.com/JuliaLang/julia/tree/5d4eaca0c9fa3d555c79dbacdccb9169fdf64b65/base/strings/search.jl#L459\" target=\"_blank\">strings/search.jl:459</a><li> in(k::<b>AbstractString</b>, ::<b>Base.KeySet{String,Base.EnvDict}</b>) in Base at <a href=\"https://github.com/JuliaLang/julia/tree/5d4eaca0c9fa3d555c79dbacdccb9169fdf64b65/base/env.jl#L79\" target=\"_blank\">env.jl:79</a><li> include_dependency(path::<b>AbstractString</b>) in Base at <a href=\"https://github.com/JuliaLang/julia/tree/5d4eaca0c9fa3d555c79dbacdccb9169fdf64b65/base/loading.jl#L757\" target=\"_blank\">loading.jl:757</a><li> include_string(m::<b>Module</b>, txt::<b>AbstractString</b>) in Base at <a href=\"https://github.com/JuliaLang/julia/tree/5d4eaca0c9fa3d555c79dbacdccb9169fdf64b65/base/loading.jl#L1006\" target=\"_blank\">loading.jl:1006</a><li> include_string(m::<b>Module</b>, txt::<b>AbstractString</b>, fname::<b>AbstractString</b>) in Base at <a href=\"https://github.com/JuliaLang/julia/tree/5d4eaca0c9fa3d555c79dbacdccb9169fdf64b65/base/loading.jl#L1006\" target=\"_blank\">loading.jl:1006</a><li> isabspath(path::<b>AbstractString</b>) in Base.Filesystem at <a href=\"https://github.com/JuliaLang/julia/tree/5d4eaca0c9fa3d555c79dbacdccb9169fdf64b65/base/path.jl#L420\" target=\"_blank\">path.jl:420</a><li> isascii(s::<b>AbstractString</b>) in Base at <a href=\"https://github.com/JuliaLang/julia/tree/5d4eaca0c9fa3d555c79dbacdccb9169fdf64b65/base/strings/basic.jl#L563\" target=\"_blank\">strings/basic.jl:563</a><li> isdirpath(path::<b>AbstractString</b>) in Base.Filesystem at <a href=\"https://github.com/JuliaLang/julia/tree/5d4eaca0c9fa3d555c79dbacdccb9169fdf64b65/base/path.jl#L420\" target=\"_blank\">path.jl:420</a><li> isless(a::<b>AbstractString</b>, b::<b>AbstractString</b>) in Base at <a href=\"https://github.com/JuliaLang/julia/tree/5d4eaca0c9fa3d555c79dbacdccb9169fdf64b65/base/strings/basic.jl#L313\" target=\"_blank\">strings/basic.jl:313</a><li> istextmime(m::<b>AbstractString</b>) in Base.Multimedia at <a href=\"https://github.com/JuliaLang/julia/tree/5d4eaca0c9fa3d555c79dbacdccb9169fdf64b65/base/multimedia.jl#L152\" target=\"_blank\">multimedia.jl:152</a><li> isvalid(s::<b>AbstractString</b>, i::<b>Integer</b>) in Base at <a href=\"https://github.com/JuliaLang/julia/tree/5d4eaca0c9fa3d555c79dbacdccb9169fdf64b65/base/strings/basic.jl#L121\" target=\"_blank\">strings/basic.jl:121</a><li> iterate(s::<b>AbstractString</b>, i::<b>Integer</b>) in Base at <a href=\"https://github.com/JuliaLang/julia/tree/5d4eaca0c9fa3d555c79dbacdccb9169fdf64b65/base/strings/basic.jl#L135\" target=\"_blank\">strings/basic.jl:135</a><li> joinpath(a::<b>AbstractString</b>) in Base.Filesystem at <a href=\"https://github.com/JuliaLang/julia/tree/5d4eaca0c9fa3d555c79dbacdccb9169fdf64b65/base/path.jl#L199\" target=\"_blank\">path.jl:199</a><li> joinpath(a::<b>AbstractString</b>, b::<b>AbstractString</b>) in Base.Filesystem at <a href=\"https://github.com/JuliaLang/julia/tree/5d4eaca0c9fa3d555c79dbacdccb9169fdf64b65/base/path.jl#L226\" target=\"_blank\">path.jl:226</a><li> joinpath(a::<b>AbstractString</b>, b::<b>AbstractString</b>, c::<b>AbstractString...</b>) in Base.Filesystem at <a href=\"https://github.com/JuliaLang/julia/tree/5d4eaca0c9fa3d555c79dbacdccb9169fdf64b65/base/path.jl#L214\" target=\"_blank\">path.jl:214</a><li> keys(s::<b>AbstractString</b>) in Base at <a href=\"https://github.com/JuliaLang/julia/tree/5d4eaca0c9fa3d555c79dbacdccb9169fdf64b65/base/strings/basic.jl#L533\" target=\"_blank\">strings/basic.jl:533</a><li> last(s::<b>AbstractString</b>, n::<b>Integer</b>) in Base at <a href=\"https://github.com/JuliaLang/julia/tree/5d4eaca0c9fa3d555c79dbacdccb9169fdf64b65/base/strings/basic.jl#L624\" target=\"_blank\">strings/basic.jl:624</a><li> lastindex(s::<b>AbstractString</b>) in Base at <a href=\"https://github.com/JuliaLang/julia/tree/5d4eaca0c9fa3d555c79dbacdccb9169fdf64b65/base/strings/basic.jl#L159\" target=\"_blank\">strings/basic.jl:159</a><li> length(s::<b>AbstractString</b>) in Base at <a href=\"https://github.com/JuliaLang/julia/tree/5d4eaca0c9fa3d555c79dbacdccb9169fdf64b65/base/strings/basic.jl#L345\" target=\"_blank\">strings/basic.jl:345</a><li> length(s::<b>AbstractString</b>, i::<b>Int64</b>, j::<b>Int64</b>) in Base at <a href=\"https://github.com/JuliaLang/julia/tree/5d4eaca0c9fa3d555c79dbacdccb9169fdf64b65/base/strings/basic.jl#L348\" target=\"_blank\">strings/basic.jl:348</a><li> length(s::<b>AbstractString</b>, i::<b>Integer</b>, j::<b>Integer</b>) in Base at <a href=\"https://github.com/JuliaLang/julia/tree/5d4eaca0c9fa3d555c79dbacdccb9169fdf64b65/base/strings/basic.jl#L359\" target=\"_blank\">strings/basic.jl:359</a><li> lowercase(s::<b>AbstractString</b>) in Base.Unicode at <a href=\"https://github.com/JuliaLang/julia/tree/5d4eaca0c9fa3d555c79dbacdccb9169fdf64b65/base/strings/unicode.jl#L525\" target=\"_blank\">strings/unicode.jl:525</a><li> lowercasefirst(s::<b>AbstractString</b>) in Base.Unicode at <a href=\"https://github.com/JuliaLang/julia/tree/5d4eaca0c9fa3d555c79dbacdccb9169fdf64b65/base/strings/unicode.jl#L605\" target=\"_blank\">strings/unicode.jl:605</a><li> lpad(s::<b>Union{AbstractChar, AbstractString}</b>, n::<b>Integer</b>) in Base at <a href=\"https://github.com/JuliaLang/julia/tree/5d4eaca0c9fa3d555c79dbacdccb9169fdf64b65/base/strings/util.jl#L239\" target=\"_blank\">strings/util.jl:239</a><li> lpad(s::<b>Union{AbstractChar, AbstractString}</b>, n::<b>Integer</b>, p::<b>Union{AbstractChar, AbstractString}</b>) in Base at <a href=\"https://github.com/JuliaLang/julia/tree/5d4eaca0c9fa3d555c79dbacdccb9169fdf64b65/base/strings/util.jl#L239\" target=\"_blank\">strings/util.jl:239</a><li> lpad(s, n::<b>Integer</b>, p::<b>Union{AbstractChar, AbstractString}</b>) in Base at <a href=\"https://github.com/JuliaLang/julia/tree/5d4eaca0c9fa3d555c79dbacdccb9169fdf64b65/base/strings/util.jl#L232\" target=\"_blank\">strings/util.jl:232</a><li> lstat(path::<b>AbstractString</b>) in Base.Filesystem at <a href=\"https://github.com/JuliaLang/julia/tree/5d4eaca0c9fa3d555c79dbacdccb9169fdf64b65/base/stat.jl#L79\" target=\"_blank\">stat.jl:79</a><li> lstrip(s::<b>AbstractString</b>) in Base at <a href=\"https://github.com/JuliaLang/julia/tree/5d4eaca0c9fa3d555c79dbacdccb9169fdf64b65/base/strings/util.jl#L163\" target=\"_blank\">strings/util.jl:163</a><li> lstrip(f, s::<b>AbstractString</b>) in Base at <a href=\"https://github.com/JuliaLang/julia/tree/5d4eaca0c9fa3d555c79dbacdccb9169fdf64b65/base/strings/util.jl#L157\" target=\"_blank\">strings/util.jl:157</a><li> lstrip(s::<b>AbstractString</b>, chars::<b>Union{AbstractChar, Tuple{Vararg{AbstractChar,N} where N}, Set{#s55} where #s55<:AbstractChar, AbstractArray{#s56,1} where #s56<:AbstractChar}</b>) in Base at <a href=\"https://github.com/JuliaLang/julia/tree/5d4eaca0c9fa3d555c79dbacdccb9169fdf64b65/base/strings/util.jl#L164\" target=\"_blank\">strings/util.jl:164</a><li> map(f, s::<b>AbstractString</b>) in Base at <a href=\"https://github.com/JuliaLang/julia/tree/5d4eaca0c9fa3d555c79dbacdccb9169fdf64b65/base/strings/basic.jl#L569\" target=\"_blank\">strings/basic.jl:569</a><li> match(r::<b>Regex</b>, s::<b>AbstractString</b>) in Base at <a href=\"https://github.com/JuliaLang/julia/tree/5d4eaca0c9fa3d555c79dbacdccb9169fdf64b65/base/regex.jl#L210\" target=\"_blank\">regex.jl:210</a><li> match(r::<b>Regex</b>, s::<b>AbstractString</b>, i::<b>Integer</b>) in Base at <a href=\"https://github.com/JuliaLang/julia/tree/5d4eaca0c9fa3d555c79dbacdccb9169fdf64b65/base/regex.jl#L211\" target=\"_blank\">regex.jl:211</a><li> mkdir(path::<b>AbstractString</b>) in Base.Filesystem at <a href=\"https://github.com/JuliaLang/julia/tree/5d4eaca0c9fa3d555c79dbacdccb9169fdf64b65/base/file.jl#L162\" target=\"_blank\">file.jl:162</a><li> mkpath(path::<b>AbstractString</b>) in Base.Filesystem at <a href=\"https://github.com/JuliaLang/julia/tree/5d4eaca0c9fa3d555c79dbacdccb9169fdf64b65/base/file.jl#L207\" target=\"_blank\">file.jl:207</a><li> mv(src::<b>AbstractString</b>, dst::<b>AbstractString</b>) in Base.Filesystem at <a href=\"https://github.com/JuliaLang/julia/tree/5d4eaca0c9fa3d555c79dbacdccb9169fdf64b65/base/file.jl#L377\" target=\"_blank\">file.jl:377</a><li> nextind(s::<b>AbstractString</b>, i::<b>Int64</b>) in Base at <a href=\"https://github.com/JuliaLang/julia/tree/5d4eaca0c9fa3d555c79dbacdccb9169fdf64b65/base/strings/basic.jl#L515\" target=\"_blank\">strings/basic.jl:515</a><li> nextind(s::<b>AbstractString</b>, i::<b>Int64</b>, n::<b>Int64</b>) in Base at <a href=\"https://github.com/JuliaLang/julia/tree/5d4eaca0c9fa3d555c79dbacdccb9169fdf64b65/base/strings/basic.jl#L518\" target=\"_blank\">strings/basic.jl:518</a><li> nextind(s::<b>AbstractString</b>, i::<b>Integer</b>) in Base at <a href=\"https://github.com/JuliaLang/julia/tree/5d4eaca0c9fa3d555c79dbacdccb9169fdf64b65/base/strings/basic.jl#L514\" target=\"_blank\">strings/basic.jl:514</a><li> nextind(s::<b>AbstractString</b>, i::<b>Integer</b>, n::<b>Integer</b>) in Base at <a href=\"https://github.com/JuliaLang/julia/tree/5d4eaca0c9fa3d555c79dbacdccb9169fdf64b65/base/strings/basic.jl#L513\" target=\"_blank\">strings/basic.jl:513</a><li> normpath(path::<b>AbstractString</b>) in Base.Filesystem at <a href=\"https://github.com/JuliaLang/julia/tree/5d4eaca0c9fa3d555c79dbacdccb9169fdf64b65/base/path.jl#L420\" target=\"_blank\">path.jl:420</a><li> normpath(a::<b>AbstractString</b>, b::<b>AbstractString...</b>) in Base.Filesystem at <a href=\"https://github.com/JuliaLang/julia/tree/5d4eaca0c9fa3d555c79dbacdccb9169fdf64b65/base/path.jl#L272\" target=\"_blank\">path.jl:272</a><li> occursin(needle::<b>Union{AbstractChar, AbstractString}</b>, haystack::<b>AbstractString</b>) in Base at <a href=\"https://github.com/JuliaLang/julia/tree/5d4eaca0c9fa3d555c79dbacdccb9169fdf64b65/base/strings/search.jl#L456\" target=\"_blank\">strings/search.jl:456</a><li> occursin(r::<b>Regex</b>, s::<b>AbstractString</b>) in Base at <a href=\"https://github.com/JuliaLang/julia/tree/5d4eaca0c9fa3d555c79dbacdccb9169fdf64b65/base/regex.jl#L154\" target=\"_blank\">regex.jl:154</a><li> open(fname::<b>AbstractString</b>) in Base at <a href=\"https://github.com/JuliaLang/julia/tree/5d4eaca0c9fa3d555c79dbacdccb9169fdf64b65/base/iostream.jl#L275\" target=\"_blank\">iostream.jl:275</a><li> open(fname::<b>AbstractString</b>, mode::<b>AbstractString</b>) in Base at <a href=\"https://github.com/JuliaLang/julia/tree/5d4eaca0c9fa3d555c79dbacdccb9169fdf64b65/base/iostream.jl#L339\" target=\"_blank\">iostream.jl:339</a><li> open(cmds::<b>Base.AbstractCmd</b>, mode::<b>AbstractString</b>) in Base at <a href=\"https://github.com/JuliaLang/julia/tree/5d4eaca0c9fa3d555c79dbacdccb9169fdf64b65/base/process.jl#L562\" target=\"_blank\">process.jl:562</a><li> open(cmds::<b>Base.AbstractCmd</b>, mode::<b>AbstractString</b>, other::<b>Union{RawFD, FileRedirect, IO}</b>) in Base at <a href=\"https://github.com/JuliaLang/julia/tree/5d4eaca0c9fa3d555c79dbacdccb9169fdf64b65/base/process.jl#L562\" target=\"_blank\">process.jl:562</a><li> parse(::<b>Type{LibGit2.GitCredential}</b>, url::<b>AbstractString</b>) in LibGit2 at <a href=\"file:///buildworker/worker/package_linux64/build/usr/share/julia/stdlib/v1.0/LibGit2/src/gitcredential.jl\" target=\"_blank\">/buildworker/worker/package_linux64/build/usr/share/julia/stdlib/v1.0/LibGit2/src/gitcredential.jl:71</a><li> parse(::<b>Type{LibGit2.GitCredentialHelper}</b>, helper::<b>AbstractString</b>) in LibGit2 at <a href=\"file:///buildworker/worker/package_linux64/build/usr/share/julia/stdlib/v1.0/LibGit2/src/gitcredential.jl\" target=\"_blank\">/buildworker/worker/package_linux64/build/usr/share/julia/stdlib/v1.0/LibGit2/src/gitcredential.jl:158</a><li> parse(::<b>Type{Sockets.IPv4}</b>, str::<b>AbstractString</b>) in Sockets at <a href=\"file:///buildworker/worker/package_linux64/build/usr/share/julia/stdlib/v1.0/Sockets/src/IPAddr.jl\" target=\"_blank\">/buildworker/worker/package_linux64/build/usr/share/julia/stdlib/v1.0/Sockets/src/IPAddr.jl:166</a><li> parse(::<b>Type{Sockets.IPv6}</b>, str::<b>AbstractString</b>) in Sockets at <a href=\"file:///buildworker/worker/package_linux64/build/usr/share/julia/stdlib/v1.0/Sockets/src/IPAddr.jl\" target=\"_blank\">/buildworker/worker/package_linux64/build/usr/share/julia/stdlib/v1.0/Sockets/src/IPAddr.jl:217</a><li> parse(::<b>Type{Sockets.IPAddr}</b>, str::<b>AbstractString</b>) in Sockets at <a href=\"file:///buildworker/worker/package_linux64/build/usr/share/julia/stdlib/v1.0/Sockets/src/IPAddr.jl\" target=\"_blank\">/buildworker/worker/package_linux64/build/usr/share/julia/stdlib/v1.0/Sockets/src/IPAddr.jl:237</a><li> parse(::<b>Type{Dates.DateTime}</b>, s::<b>AbstractString</b>, df::<b>Dates.DateFormat{Symbol(\"yyyy-mm-dd\\\\THH:MM:SS.s\"),Tuple{Dates.DatePart{'y'},Dates.Delim{Char,1},Dates.DatePart{'m'},Dates.Delim{Char,1},Dates.DatePart{'d'},Dates.Delim{Char,1},Dates.DatePart{'H'},Dates.Delim{Char,1},Dates.DatePart{'M'},Dates.Delim{Char,1},Dates.DatePart{'S'},Dates.Delim{Char,1},Dates.DatePart{'s'}}}</b>) in Dates at <a href=\"file:///buildworker/worker/package_linux64/build/usr/share/julia/stdlib/v1.0/Dates/src/parse.jl\" target=\"_blank\">/buildworker/worker/package_linux64/build/usr/share/julia/stdlib/v1.0/Dates/src/parse.jl:200</a><li> parse<i>{T<:Integer}</i>(::<b>Type{T}</b>, s::<b>AbstractString</b>) in Base at <a href=\"https://github.com/JuliaLang/julia/tree/5d4eaca0c9fa3d555c79dbacdccb9169fdf64b65/base/parse.jl#L217\" target=\"_blank\">parse.jl:217</a><li> parse<i>{T<:Real}</i>(::<b>Type{T}</b>, s::<b>AbstractString</b>) in Base at <a href=\"https://github.com/JuliaLang/julia/tree/5d4eaca0c9fa3d555c79dbacdccb9169fdf64b65/base/parse.jl#L355\" target=\"_blank\">parse.jl:355</a><li> parse<i>{T<:Complex}</i>(::<b>Type{T}</b>, s::<b>AbstractString</b>) in Base at <a href=\"https://github.com/JuliaLang/julia/tree/5d4eaca0c9fa3d555c79dbacdccb9169fdf64b65/base/parse.jl#L357\" target=\"_blank\">parse.jl:357</a><li> parse<i>{T<:TimeType}</i>(::<b>Type{T}</b>, str::<b>AbstractString</b>) in Dates at <a href=\"file:///buildworker/worker/package_linux64/build/usr/share/julia/stdlib/v1.0/Dates/src/parse.jl\" target=\"_blank\">/buildworker/worker/package_linux64/build/usr/share/julia/stdlib/v1.0/Dates/src/parse.jl:281</a><li> parse<i>{T<:TimeType}</i>(::<b>Type{T}</b>, str::<b>AbstractString</b>, df::<b>Dates.DateFormat</b>) in Dates at <a href=\"file:///buildworker/worker/package_linux64/build/usr/share/julia/stdlib/v1.0/Dates/src/parse.jl\" target=\"_blank\">/buildworker/worker/package_linux64/build/usr/share/julia/stdlib/v1.0/Dates/src/parse.jl:281</a><li> pipeline(src::<b>Union{RawFD, FileRedirect, AbstractString, IO}</b>, cmd::<b>Base.AbstractCmd</b>) in Base at <a href=\"https://github.com/JuliaLang/julia/tree/5d4eaca0c9fa3d555c79dbacdccb9169fdf64b65/base/process.jl#L277\" target=\"_blank\">process.jl:277</a><li> pop!(::<b>Base.EnvDict</b>, k::<b>AbstractString</b>) in Base at <a href=\"https://github.com/JuliaLang/julia/tree/5d4eaca0c9fa3d555c79dbacdccb9169fdf64b65/base/env.jl#L80\" target=\"_blank\">env.jl:80</a><li> pop!(::<b>Base.EnvDict</b>, k::<b>AbstractString</b>, def) in Base at <a href=\"https://github.com/JuliaLang/julia/tree/5d4eaca0c9fa3d555c79dbacdccb9169fdf64b65/base/env.jl#L81\" target=\"_blank\">env.jl:81</a><li> prevind(s::<b>AbstractString</b>, i::<b>Int64</b>) in Base at <a href=\"https://github.com/JuliaLang/julia/tree/5d4eaca0c9fa3d555c79dbacdccb9169fdf64b65/base/strings/basic.jl#L455\" target=\"_blank\">strings/basic.jl:455</a><li> prevind(s::<b>AbstractString</b>, i::<b>Int64</b>, n::<b>Int64</b>) in Base at <a href=\"https://github.com/JuliaLang/julia/tree/5d4eaca0c9fa3d555c79dbacdccb9169fdf64b65/base/strings/basic.jl#L458\" target=\"_blank\">strings/basic.jl:458</a><li> prevind(s::<b>AbstractString</b>, i::<b>Integer</b>) in Base at <a href=\"https://github.com/JuliaLang/julia/tree/5d4eaca0c9fa3d555c79dbacdccb9169fdf64b65/base/strings/basic.jl#L454\" target=\"_blank\">strings/basic.jl:454</a><li> prevind(s::<b>AbstractString</b>, i::<b>Integer</b>, n::<b>Integer</b>) in Base at <a href=\"https://github.com/JuliaLang/julia/tree/5d4eaca0c9fa3d555c79dbacdccb9169fdf64b65/base/strings/basic.jl#L453\" target=\"_blank\">strings/basic.jl:453</a><li> print(io::<b>IO</b>, s::<b>AbstractString</b>) in Base at <a href=\"https://github.com/JuliaLang/julia/tree/5d4eaca0c9fa3d555c79dbacdccb9169fdf64b65/base/strings/io.jl#L147\" target=\"_blank\">strings/io.jl:147</a><li> read<i>{T}</i>(filename::<b>AbstractString</b>, ::<b>Type{T}</b>) in Base at <a href=\"https://github.com/JuliaLang/julia/tree/5d4eaca0c9fa3d555c79dbacdccb9169fdf64b65/base/io.jl#L297\" target=\"_blank\">io.jl:297</a><li> read(filename::<b>AbstractString</b>, args...) in Base at <a href=\"https://github.com/JuliaLang/julia/tree/5d4eaca0c9fa3d555c79dbacdccb9169fdf64b65/base/io.jl#L295\" target=\"_blank\">io.jl:295</a><li> read!(filename::<b>AbstractString</b>, a) in Base at <a href=\"https://github.com/JuliaLang/julia/tree/5d4eaca0c9fa3d555c79dbacdccb9169fdf64b65/base/io.jl#L307\" target=\"_blank\">io.jl:307</a><li> readdir(path::<b>AbstractString</b>) in Base.Filesystem at <a href=\"https://github.com/JuliaLang/julia/tree/5d4eaca0c9fa3d555c79dbacdccb9169fdf64b65/base/file.jl#L615\" target=\"_blank\">file.jl:615</a><li> readline(filename::<b>AbstractString</b>) in Base at <a href=\"https://github.com/JuliaLang/julia/tree/5d4eaca0c9fa3d555c79dbacdccb9169fdf64b65/base/io.jl#L364\" target=\"_blank\">io.jl:364</a><li> readlines(filename::<b>AbstractString</b>) in Base at <a href=\"https://github.com/JuliaLang/julia/tree/5d4eaca0c9fa3d555c79dbacdccb9169fdf64b65/base/io.jl#L410\" target=\"_blank\">io.jl:410</a><li> readlink(path::<b>AbstractString</b>) in Base.Filesystem at <a href=\"https://github.com/JuliaLang/julia/tree/5d4eaca0c9fa3d555c79dbacdccb9169fdf64b65/base/file.jl#L801\" target=\"_blank\">file.jl:801</a><li> readuntil(io::<b>Base.AbstractPipe</b>, arg::<b>AbstractString</b>) in Base at <a href=\"https://github.com/JuliaLang/julia/tree/5d4eaca0c9fa3d555c79dbacdccb9169fdf64b65/base/io.jl#L234\" target=\"_blank\">io.jl:234</a><li> readuntil(filename::<b>AbstractString</b>, args...) in Base at <a href=\"https://github.com/JuliaLang/julia/tree/5d4eaca0c9fa3d555c79dbacdccb9169fdf64b65/base/io.jl#L334\" target=\"_blank\">io.jl:334</a><li> readuntil(io::<b>IO</b>, target::<b>AbstractString</b>) in Base at <a href=\"https://github.com/JuliaLang/julia/tree/5d4eaca0c9fa3d555c79dbacdccb9169fdf64b65/base/io.jl#L752\" target=\"_blank\">io.jl:752</a><li> realpath(path::<b>AbstractString</b>) in Base.Filesystem at <a href=\"https://github.com/JuliaLang/julia/tree/5d4eaca0c9fa3d555c79dbacdccb9169fdf64b65/base/path.jl#L321\" target=\"_blank\">path.jl:321</a><li> redisplay(m::<b>Union{AbstractString, MIME}</b>, x) in Base.Multimedia at <a href=\"https://github.com/JuliaLang/julia/tree/5d4eaca0c9fa3d555c79dbacdccb9169fdf64b65/base/multimedia.jl#L357\" target=\"_blank\">multimedia.jl:357</a><li> redisplay(d::<b>AbstractDisplay</b>, m::<b>Union{AbstractString, MIME}</b>, x) in Base.Multimedia at <a href=\"https://github.com/JuliaLang/julia/tree/5d4eaca0c9fa3d555c79dbacdccb9169fdf64b65/base/multimedia.jl#L372\" target=\"_blank\">multimedia.jl:372</a><li> relpath(path::<b>AbstractString</b>, startpath::<b>AbstractString</b>) in Base.Filesystem at <a href=\"https://github.com/JuliaLang/julia/tree/5d4eaca0c9fa3d555c79dbacdccb9169fdf64b65/base/path.jl#L416\" target=\"_blank\">path.jl:416</a><li> repeat(s::<b>AbstractString</b>, r::<b>Integer</b>) in Base at <a href=\"https://github.com/JuliaLang/julia/tree/5d4eaca0c9fa3d555c79dbacdccb9169fdf64b65/base/strings/basic.jl#L659\" target=\"_blank\">strings/basic.jl:659</a><li> replace(s::<b>AbstractString</b>, pat_f::<b>Pair</b>) in Base at <a href=\"https://github.com/JuliaLang/julia/tree/5d4eaca0c9fa3d555c79dbacdccb9169fdf64b65/base/strings/util.jl#L482\" target=\"_blank\">strings/util.jl:482</a><li> replace(a::<b>AbstractString</b>, b::<b>Pair</b>, c::<b>Pair</b>) in Base at <a href=\"https://github.com/JuliaLang/julia/tree/5d4eaca0c9fa3d555c79dbacdccb9169fdf64b65/base/set.jl#L487\" target=\"_blank\">set.jl:487</a><li> repr(m::<b>AbstractString</b>, x) in Base.Multimedia at <a href=\"https://github.com/JuliaLang/julia/tree/5d4eaca0c9fa3d555c79dbacdccb9169fdf64b65/base/multimedia.jl#L116\" target=\"_blank\">multimedia.jl:116</a><li> reverseind(s::<b>AbstractString</b>, i::<b>Integer</b>) in Base at <a href=\"https://github.com/JuliaLang/julia/tree/5d4eaca0c9fa3d555c79dbacdccb9169fdf64b65/base/strings/basic.jl#L644\" target=\"_blank\">strings/basic.jl:644</a><li> rm(path::<b>AbstractString</b>) in Base.Filesystem at <a href=\"https://github.com/JuliaLang/julia/tree/5d4eaca0c9fa3d555c79dbacdccb9169fdf64b65/base/file.jl#L245\" target=\"_blank\">file.jl:245</a><li> rpad(s::<b>Union{AbstractChar, AbstractString}</b>, n::<b>Integer</b>) in Base at <a href=\"https://github.com/JuliaLang/julia/tree/5d4eaca0c9fa3d555c79dbacdccb9169fdf64b65/base/strings/util.jl#L266\" target=\"_blank\">strings/util.jl:266</a><li> rpad(s::<b>Union{AbstractChar, AbstractString}</b>, n::<b>Integer</b>, p::<b>Union{AbstractChar, AbstractString}</b>) in Base at <a href=\"https://github.com/JuliaLang/julia/tree/5d4eaca0c9fa3d555c79dbacdccb9169fdf64b65/base/strings/util.jl#L266\" target=\"_blank\">strings/util.jl:266</a><li> rpad(s, n::<b>Integer</b>, p::<b>Union{AbstractChar, AbstractString}</b>) in Base at <a href=\"https://github.com/JuliaLang/julia/tree/5d4eaca0c9fa3d555c79dbacdccb9169fdf64b65/base/strings/util.jl#L259\" target=\"_blank\">strings/util.jl:259</a><li> rsplit(str::<b>AbstractString</b>) in Base at <a href=\"https://github.com/JuliaLang/julia/tree/5d4eaca0c9fa3d555c79dbacdccb9169fdf64b65/base/strings/util.jl#L405\" target=\"_blank\">strings/util.jl:405</a><li> rsplit<i>{T<:AbstractString}</i>(str::<b>T</b>, splitter::<b>Union{Tuple{Vararg{AbstractChar,N} where N}, Set{#s51} where #s51<:AbstractChar, AbstractArray{#s52,1} where #s52<:AbstractChar}</b>) in Base at <a href=\"https://github.com/JuliaLang/julia/tree/5d4eaca0c9fa3d555c79dbacdccb9169fdf64b65/base/strings/util.jl#L384\" target=\"_blank\">strings/util.jl:384</a><li> rsplit<i>{T<:AbstractString}</i>(str::<b>T</b>, splitter::<b>AbstractChar</b>) in Base at <a href=\"https://github.com/JuliaLang/julia/tree/5d4eaca0c9fa3d555c79dbacdccb9169fdf64b65/base/strings/util.jl#L388\" target=\"_blank\">strings/util.jl:388</a><li> rsplit<i>{T<:AbstractString}</i>(str::<b>T</b>, splitter) in Base at <a href=\"https://github.com/JuliaLang/julia/tree/5d4eaca0c9fa3d555c79dbacdccb9169fdf64b65/base/strings/util.jl#L380\" target=\"_blank\">strings/util.jl:380</a><li> rstrip(s::<b>AbstractString</b>) in Base at <a href=\"https://github.com/JuliaLang/julia/tree/5d4eaca0c9fa3d555c79dbacdccb9169fdf64b65/base/strings/util.jl#L194\" target=\"_blank\">strings/util.jl:194</a><li> rstrip(f, s::<b>AbstractString</b>) in Base at <a href=\"https://github.com/JuliaLang/julia/tree/5d4eaca0c9fa3d555c79dbacdccb9169fdf64b65/base/strings/util.jl#L189\" target=\"_blank\">strings/util.jl:189</a><li> rstrip(s::<b>AbstractString</b>, chars::<b>Union{AbstractChar, Tuple{Vararg{AbstractChar,N} where N}, Set{#s55} where #s55<:AbstractChar, AbstractArray{#s56,1} where #s56<:AbstractChar}</b>) in Base at <a href=\"https://github.com/JuliaLang/julia/tree/5d4eaca0c9fa3d555c79dbacdccb9169fdf64b65/base/strings/util.jl#L195\" target=\"_blank\">strings/util.jl:195</a><li> setindex!(::<b>Base.EnvDict</b>, v, k::<b>AbstractString</b>) in Base at <a href=\"https://github.com/JuliaLang/julia/tree/5d4eaca0c9fa3d555c79dbacdccb9169fdf64b65/base/env.jl#L83\" target=\"_blank\">env.jl:83</a><li> show(io::<b>IO</b>, s::<b>AbstractString</b>) in Base at <a href=\"https://github.com/JuliaLang/julia/tree/5d4eaca0c9fa3d555c79dbacdccb9169fdf64b65/base/strings/io.jl#L149\" target=\"_blank\">strings/io.jl:149</a><li> show(io::<b>IO</b>, m::<b>AbstractString</b>, x) in Base.Multimedia at <a href=\"https://github.com/JuliaLang/julia/tree/5d4eaca0c9fa3d555c79dbacdccb9169fdf64b65/base/multimedia.jl#L79\" target=\"_blank\">multimedia.jl:79</a><li> showable(m::<b>AbstractString</b>, x) in Base.Multimedia at <a href=\"https://github.com/JuliaLang/julia/tree/5d4eaca0c9fa3d555c79dbacdccb9169fdf64b65/base/multimedia.jl#L47\" target=\"_blank\">multimedia.jl:47</a><li> sizeof(s::<b>AbstractString</b>) in Base at <a href=\"https://github.com/JuliaLang/julia/tree/5d4eaca0c9fa3d555c79dbacdccb9169fdf64b65/base/strings/basic.jl#L157\" target=\"_blank\">strings/basic.jl:157</a><li> split(str::<b>AbstractString</b>) in Base at <a href=\"https://github.com/JuliaLang/julia/tree/5d4eaca0c9fa3d555c79dbacdccb9169fdf64b65/base/strings/util.jl#L344\" target=\"_blank\">strings/util.jl:344</a><li> split<i>{T<:AbstractString}</i>(str::<b>T</b>, splitter::<b>Union{Tuple{Vararg{AbstractChar,N} where N}, Set{#s51} where #s51<:AbstractChar, AbstractArray{#s52,1} where #s52<:AbstractChar}</b>) in Base at <a href=\"https://github.com/JuliaLang/julia/tree/5d4eaca0c9fa3d555c79dbacdccb9169fdf64b65/base/strings/util.jl#L310\" target=\"_blank\">strings/util.jl:310</a><li> split<i>{T<:AbstractString}</i>(str::<b>T</b>, splitter::<b>AbstractChar</b>) in Base at <a href=\"https://github.com/JuliaLang/julia/tree/5d4eaca0c9fa3d555c79dbacdccb9169fdf64b65/base/strings/util.jl#L314\" target=\"_blank\">strings/util.jl:314</a><li> split<i>{T<:AbstractString}</i>(str::<b>T</b>, splitter) in Base at <a href=\"https://github.com/JuliaLang/julia/tree/5d4eaca0c9fa3d555c79dbacdccb9169fdf64b65/base/strings/util.jl#L306\" target=\"_blank\">strings/util.jl:306</a><li> splitdir(path::<b>AbstractString</b>) in Base.Filesystem at <a href=\"https://github.com/JuliaLang/julia/tree/5d4eaca0c9fa3d555c79dbacdccb9169fdf64b65/base/path.jl#L420\" target=\"_blank\">path.jl:420</a><li> splitdrive(path::<b>AbstractString</b>) in Base.Filesystem at <a href=\"https://github.com/JuliaLang/julia/tree/5d4eaca0c9fa3d555c79dbacdccb9169fdf64b65/base/path.jl#L420\" target=\"_blank\">path.jl:420</a><li> splitext(path::<b>AbstractString</b>) in Base.Filesystem at <a href=\"https://github.com/JuliaLang/julia/tree/5d4eaca0c9fa3d555c79dbacdccb9169fdf64b65/base/path.jl#L420\" target=\"_blank\">path.jl:420</a><li> startswith(a::<b>AbstractString</b>, b::<b>AbstractString</b>) in Base at <a href=\"https://github.com/JuliaLang/julia/tree/5d4eaca0c9fa3d555c79dbacdccb9169fdf64b65/base/strings/util.jl#L22\" target=\"_blank\">strings/util.jl:22</a><li> startswith(str::<b>AbstractString</b>, chars::<b>Union{AbstractChar, Tuple{Vararg{AbstractChar,N} where N}, Set{#s55} where #s55<:AbstractChar, AbstractArray{#s56,1} where #s56<:AbstractChar}</b>) in Base at <a href=\"https://github.com/JuliaLang/julia/tree/5d4eaca0c9fa3d555c79dbacdccb9169fdf64b65/base/strings/util.jl#L25\" target=\"_blank\">strings/util.jl:25</a><li> stat(path::<b>AbstractString</b>) in Base.Filesystem at <a href=\"https://github.com/JuliaLang/julia/tree/5d4eaca0c9fa3d555c79dbacdccb9169fdf64b65/base/stat.jl#L78\" target=\"_blank\">stat.jl:78</a><li> string(s::<b>AbstractString</b>) in Base at <a href=\"https://github.com/JuliaLang/julia/tree/5d4eaca0c9fa3d555c79dbacdccb9169fdf64b65/base/strings/basic.jl#L199\" target=\"_blank\">strings/basic.jl:199</a><li> strip(s::<b>AbstractString</b>) in Base at <a href=\"https://github.com/JuliaLang/julia/tree/5d4eaca0c9fa3d555c79dbacdccb9169fdf64b65/base/strings/util.jl#L214\" target=\"_blank\">strings/util.jl:214</a><li> strip(s::<b>AbstractString</b>, chars) in Base at <a href=\"https://github.com/JuliaLang/julia/tree/5d4eaca0c9fa3d555c79dbacdccb9169fdf64b65/base/strings/util.jl#L215\" target=\"_blank\">strings/util.jl:215</a><li> symlink(p::<b>AbstractString</b>, np::<b>AbstractString</b>) in Base.Filesystem at <a href=\"https://github.com/JuliaLang/julia/tree/5d4eaca0c9fa3d555c79dbacdccb9169fdf64b65/base/file.jl#L774\" target=\"_blank\">file.jl:774</a><li> textwidth(s::<b>AbstractString</b>) in Base.Unicode at <a href=\"https://github.com/JuliaLang/julia/tree/5d4eaca0c9fa3d555c79dbacdccb9169fdf64b65/base/strings/unicode.jl#L237\" target=\"_blank\">strings/unicode.jl:237</a><li> thisind(s::<b>AbstractString</b>, i::<b>Int64</b>) in Base at <a href=\"https://github.com/JuliaLang/julia/tree/5d4eaca0c9fa3d555c79dbacdccb9169fdf64b65/base/strings/basic.jl#L399\" target=\"_blank\">strings/basic.jl:399</a><li> thisind(s::<b>AbstractString</b>, i::<b>Integer</b>) in Base at <a href=\"https://github.com/JuliaLang/julia/tree/5d4eaca0c9fa3d555c79dbacdccb9169fdf64b65/base/strings/basic.jl#L396\" target=\"_blank\">strings/basic.jl:396</a><li> titlecase(s::<b>AbstractString</b>) in Base.Unicode at <a href=\"https://github.com/JuliaLang/julia/tree/5d4eaca0c9fa3d555c79dbacdccb9169fdf64b65/base/strings/unicode.jl#L552\" target=\"_blank\">strings/unicode.jl:552</a><li> touch(path::<b>AbstractString</b>) in Base.Filesystem at <a href=\"https://github.com/JuliaLang/julia/tree/5d4eaca0c9fa3d555c79dbacdccb9169fdf64b65/base/file.jl#L404\" target=\"_blank\">file.jl:404</a><li> tryparse(::<b>Type{Float16}</b>, s::<b>AbstractString</b>) in Base at <a href=\"https://github.com/JuliaLang/julia/tree/5d4eaca0c9fa3d555c79dbacdccb9169fdf64b65/base/parse.jl#L264\" target=\"_blank\">parse.jl:264</a><li> tryparse(::<b>Type{BigFloat}</b>, s::<b>AbstractString</b>) in Base.MPFR at <a href=\"https://github.com/JuliaLang/julia/tree/5d4eaca0c9fa3d555c79dbacdccb9169fdf64b65/base/mpfr.jl#L157\" target=\"_blank\">mpfr.jl:157</a><li> tryparse<i>{T<:Integer}</i>(::<b>Type{T}</b>, s::<b>AbstractString</b>) in Base at <a href=\"https://github.com/JuliaLang/julia/tree/5d4eaca0c9fa3d555c79dbacdccb9169fdf64b65/base/parse.jl#L213\" target=\"_blank\">parse.jl:213</a><li> tryparse<i>{T<:Union{Float32, Float64}}</i>(::<b>Type{T}</b>, s::<b>AbstractString</b>) in Base at <a href=\"https://github.com/JuliaLang/julia/tree/5d4eaca0c9fa3d555c79dbacdccb9169fdf64b65/base/parse.jl#L263\" target=\"_blank\">parse.jl:263</a><li> tryparse<i>{S<:Real}</i>(T::<b>Type{Complex{S}}</b>, s::<b>AbstractString</b>) in Base at <a href=\"https://github.com/JuliaLang/julia/tree/5d4eaca0c9fa3d555c79dbacdccb9169fdf64b65/base/parse.jl#L360\" target=\"_blank\">parse.jl:360</a><li> tryparse<i>{T<:TimeType}</i>(::<b>Type{T}</b>, str::<b>AbstractString</b>) in Dates at <a href=\"file:///buildworker/worker/package_linux64/build/usr/share/julia/stdlib/v1.0/Dates/src/parse.jl\" target=\"_blank\">/buildworker/worker/package_linux64/build/usr/share/julia/stdlib/v1.0/Dates/src/parse.jl:289</a><li> tryparse<i>{T<:TimeType}</i>(::<b>Type{T}</b>, str::<b>AbstractString</b>, df::<b>Dates.DateFormat</b>) in Dates at <a href=\"file:///buildworker/worker/package_linux64/build/usr/share/julia/stdlib/v1.0/Dates/src/parse.jl\" target=\"_blank\">/buildworker/worker/package_linux64/build/usr/share/julia/stdlib/v1.0/Dates/src/parse.jl:289</a><li> unescape_string(s::<b>AbstractString</b>) in Base at <a href=\"https://github.com/JuliaLang/julia/tree/5d4eaca0c9fa3d555c79dbacdccb9169fdf64b65/base/strings/io.jl#L428\" target=\"_blank\">strings/io.jl:428</a><li> unescape_string(io, s::<b>AbstractString</b>) in Base at <a href=\"https://github.com/JuliaLang/julia/tree/5d4eaca0c9fa3d555c79dbacdccb9169fdf64b65/base/strings/io.jl#L374\" target=\"_blank\">strings/io.jl:374</a><li> uppercase(s::<b>AbstractString</b>) in Base.Unicode at <a href=\"https://github.com/JuliaLang/julia/tree/5d4eaca0c9fa3d555c79dbacdccb9169fdf64b65/base/strings/unicode.jl#L512\" target=\"_blank\">strings/unicode.jl:512</a><li> uppercasefirst(s::<b>AbstractString</b>) in Base.Unicode at <a href=\"https://github.com/JuliaLang/julia/tree/5d4eaca0c9fa3d555c79dbacdccb9169fdf64b65/base/strings/unicode.jl#L583\" target=\"_blank\">strings/unicode.jl:583</a><li> write(filename::<b>AbstractString</b>, a1, args...) in Base at <a href=\"https://github.com/JuliaLang/julia/tree/5d4eaca0c9fa3d555c79dbacdccb9169fdf64b65/base/io.jl#L283\" target=\"_blank\">io.jl:283</a><li> write(io::<b>IO</b>, s::<b>AbstractString</b>) in Base at <a href=\"https://github.com/JuliaLang/julia/tree/5d4eaca0c9fa3d555c79dbacdccb9169fdf64b65/base/strings/io.jl#L148\" target=\"_blank\">strings/io.jl:148</a><li> edit(path::<b>AbstractString</b>) in InteractiveUtils at <a href=\"file:///buildworker/worker/package_linux64/build/usr/share/julia/stdlib/v1.0/InteractiveUtils/src/editless.jl\" target=\"_blank\">/buildworker/worker/package_linux64/build/usr/share/julia/stdlib/v1.0/InteractiveUtils/src/editless.jl:37</a><li> edit(path::<b>AbstractString</b>, line::<b>Integer</b>) in InteractiveUtils at <a href=\"file:///buildworker/worker/package_linux64/build/usr/share/julia/stdlib/v1.0/InteractiveUtils/src/editless.jl\" target=\"_blank\">/buildworker/worker/package_linux64/build/usr/share/julia/stdlib/v1.0/InteractiveUtils/src/editless.jl:37</a><li> less(file::<b>AbstractString</b>) in InteractiveUtils at <a href=\"file:///buildworker/worker/package_linux64/build/usr/share/julia/stdlib/v1.0/InteractiveUtils/src/editless.jl\" target=\"_blank\">/buildworker/worker/package_linux64/build/usr/share/julia/stdlib/v1.0/InteractiveUtils/src/editless.jl:119</a><li> less(file::<b>AbstractString</b>, line::<b>Integer</b>) in InteractiveUtils at <a href=\"file:///buildworker/worker/package_linux64/build/usr/share/julia/stdlib/v1.0/InteractiveUtils/src/editless.jl\" target=\"_blank\">/buildworker/worker/package_linux64/build/usr/share/julia/stdlib/v1.0/InteractiveUtils/src/editless.jl:107</a><li> graphemes(s::<b>AbstractString</b>) in Unicode at <a href=\"file:///buildworker/worker/package_linux64/build/usr/share/julia/stdlib/v1.0/Unicode/src/Unicode.jl\" target=\"_blank\">/buildworker/worker/package_linux64/build/usr/share/julia/stdlib/v1.0/Unicode/src/Unicode.jl:82</a><li> init_worker(cookie::<b>AbstractString</b>) in Distributed at <a href=\"file:///buildworker/worker/package_linux64/build/usr/share/julia/stdlib/v1.0/Distributed/src/cluster.jl\" target=\"_blank\">/buildworker/worker/package_linux64/build/usr/share/julia/stdlib/v1.0/Distributed/src/cluster.jl:324</a><li> init_worker(cookie::<b>AbstractString</b>, manager::<b>Distributed.ClusterManager</b>) in Distributed at <a href=\"file:///buildworker/worker/package_linux64/build/usr/share/julia/stdlib/v1.0/Distributed/src/cluster.jl\" target=\"_blank\">/buildworker/worker/package_linux64/build/usr/share/julia/stdlib/v1.0/Distributed/src/cluster.jl:324</a><li> start_worker(cookie::<b>AbstractString</b>) in Distributed at <a href=\"file:///buildworker/worker/package_linux64/build/usr/share/julia/stdlib/v1.0/Distributed/src/cluster.jl\" target=\"_blank\">/buildworker/worker/package_linux64/build/usr/share/julia/stdlib/v1.0/Distributed/src/cluster.jl:189</a><li> start_worker(out::<b>IO</b>, cookie::<b>AbstractString</b>) in Distributed at <a href=\"file:///buildworker/worker/package_linux64/build/usr/share/julia/stdlib/v1.0/Distributed/src/cluster.jl\" target=\"_blank\">/buildworker/worker/package_linux64/build/usr/share/julia/stdlib/v1.0/Distributed/src/cluster.jl:191</a><li> poll_file(s::<b>AbstractString</b>) in FileWatching at <a href=\"file:///buildworker/worker/package_linux64/build/usr/share/julia/stdlib/v1.0/FileWatching/src/FileWatching.jl\" target=\"_blank\">/buildworker/worker/package_linux64/build/usr/share/julia/stdlib/v1.0/FileWatching/src/FileWatching.jl:680</a><li> poll_file(s::<b>AbstractString</b>, interval_seconds::<b>Real</b>) in FileWatching at <a href=\"file:///buildworker/worker/package_linux64/build/usr/share/julia/stdlib/v1.0/FileWatching/src/FileWatching.jl\" target=\"_blank\">/buildworker/worker/package_linux64/build/usr/share/julia/stdlib/v1.0/FileWatching/src/FileWatching.jl:680</a><li> poll_file(s::<b>AbstractString</b>, interval_seconds::<b>Real</b>, timeout_s::<b>Real</b>) in FileWatching at <a href=\"file:///buildworker/worker/package_linux64/build/usr/share/julia/stdlib/v1.0/FileWatching/src/FileWatching.jl\" target=\"_blank\">/buildworker/worker/package_linux64/build/usr/share/julia/stdlib/v1.0/FileWatching/src/FileWatching.jl:680</a><li> unwatch_folder(s::<b>AbstractString</b>) in FileWatching at <a href=\"file:///buildworker/worker/package_linux64/build/usr/share/julia/stdlib/v1.0/FileWatching/src/FileWatching.jl\" target=\"_blank\">/buildworker/worker/package_linux64/build/usr/share/julia/stdlib/v1.0/FileWatching/src/FileWatching.jl:652</a><li> watch_file(s::<b>AbstractString</b>) in FileWatching at <a href=\"file:///buildworker/worker/package_linux64/build/usr/share/julia/stdlib/v1.0/FileWatching/src/FileWatching.jl\" target=\"_blank\">/buildworker/worker/package_linux64/build/usr/share/julia/stdlib/v1.0/FileWatching/src/FileWatching.jl:582</a><li> watch_file(s::<b>AbstractString</b>, timeout_s::<b>Real</b>) in FileWatching at <a href=\"file:///buildworker/worker/package_linux64/build/usr/share/julia/stdlib/v1.0/FileWatching/src/FileWatching.jl\" target=\"_blank\">/buildworker/worker/package_linux64/build/usr/share/julia/stdlib/v1.0/FileWatching/src/FileWatching.jl:582</a><li> watch_folder(s::<b>AbstractString</b>) in FileWatching at <a href=\"file:///buildworker/worker/package_linux64/build/usr/share/julia/stdlib/v1.0/FileWatching/src/FileWatching.jl\" target=\"_blank\">/buildworker/worker/package_linux64/build/usr/share/julia/stdlib/v1.0/FileWatching/src/FileWatching.jl:609</a><li> watch_folder(s::<b>AbstractString</b>, timeout_s::<b>Real</b>) in FileWatching at <a href=\"file:///buildworker/worker/package_linux64/build/usr/share/julia/stdlib/v1.0/FileWatching/src/FileWatching.jl\" target=\"_blank\">/buildworker/worker/package_linux64/build/usr/share/julia/stdlib/v1.0/FileWatching/src/FileWatching.jl:609</a><li> hmac_sha1(key::<b>Array{UInt8,1}</b>, str::<b>AbstractString</b>) in SHA at <a href=\"file:///buildworker/worker/package_linux64/build/usr/share/julia/stdlib/v1.0/SHA/src/SHA.jl\" target=\"_blank\">/buildworker/worker/package_linux64/build/usr/share/julia/stdlib/v1.0/SHA/src/SHA.jl:62</a><li> hmac_sha224(key::<b>Array{UInt8,1}</b>, str::<b>AbstractString</b>) in SHA at <a href=\"file:///buildworker/worker/package_linux64/build/usr/share/julia/stdlib/v1.0/SHA/src/SHA.jl\" target=\"_blank\">/buildworker/worker/package_linux64/build/usr/share/julia/stdlib/v1.0/SHA/src/SHA.jl:62</a><li> hmac_sha256(key::<b>Array{UInt8,1}</b>, str::<b>AbstractString</b>) in SHA at <a href=\"file:///buildworker/worker/package_linux64/build/usr/share/julia/stdlib/v1.0/SHA/src/SHA.jl\" target=\"_blank\">/buildworker/worker/package_linux64/build/usr/share/julia/stdlib/v1.0/SHA/src/SHA.jl:62</a><li> hmac_sha2_224(key::<b>Array{UInt8,1}</b>, str::<b>AbstractString</b>) in SHA at <a href=\"file:///buildworker/worker/package_linux64/build/usr/share/julia/stdlib/v1.0/SHA/src/SHA.jl\" target=\"_blank\">/buildworker/worker/package_linux64/build/usr/share/julia/stdlib/v1.0/SHA/src/SHA.jl:62</a><li> hmac_sha2_256(key::<b>Array{UInt8,1}</b>, str::<b>AbstractString</b>) in SHA at <a href=\"file:///buildworker/worker/package_linux64/build/usr/share/julia/stdlib/v1.0/SHA/src/SHA.jl\" target=\"_blank\">/buildworker/worker/package_linux64/build/usr/share/julia/stdlib/v1.0/SHA/src/SHA.jl:62</a><li> hmac_sha2_384(key::<b>Array{UInt8,1}</b>, str::<b>AbstractString</b>) in SHA at <a href=\"file:///buildworker/worker/package_linux64/build/usr/share/julia/stdlib/v1.0/SHA/src/SHA.jl\" target=\"_blank\">/buildworker/worker/package_linux64/build/usr/share/julia/stdlib/v1.0/SHA/src/SHA.jl:62</a><li> hmac_sha2_512(key::<b>Array{UInt8,1}</b>, str::<b>AbstractString</b>) in SHA at <a href=\"file:///buildworker/worker/package_linux64/build/usr/share/julia/stdlib/v1.0/SHA/src/SHA.jl\" target=\"_blank\">/buildworker/worker/package_linux64/build/usr/share/julia/stdlib/v1.0/SHA/src/SHA.jl:62</a><li> hmac_sha384(key::<b>Array{UInt8,1}</b>, str::<b>AbstractString</b>) in SHA at <a href=\"file:///buildworker/worker/package_linux64/build/usr/share/julia/stdlib/v1.0/SHA/src/SHA.jl\" target=\"_blank\">/buildworker/worker/package_linux64/build/usr/share/julia/stdlib/v1.0/SHA/src/SHA.jl:62</a><li> hmac_sha3_224(key::<b>Array{UInt8,1}</b>, str::<b>AbstractString</b>) in SHA at <a href=\"file:///buildworker/worker/package_linux64/build/usr/share/julia/stdlib/v1.0/SHA/src/SHA.jl\" target=\"_blank\">/buildworker/worker/package_linux64/build/usr/share/julia/stdlib/v1.0/SHA/src/SHA.jl:62</a><li> hmac_sha3_256(key::<b>Array{UInt8,1}</b>, str::<b>AbstractString</b>) in SHA at <a href=\"file:///buildworker/worker/package_linux64/build/usr/share/julia/stdlib/v1.0/SHA/src/SHA.jl\" target=\"_blank\">/buildworker/worker/package_linux64/build/usr/share/julia/stdlib/v1.0/SHA/src/SHA.jl:62</a><li> hmac_sha3_384(key::<b>Array{UInt8,1}</b>, str::<b>AbstractString</b>) in SHA at <a href=\"file:///buildworker/worker/package_linux64/build/usr/share/julia/stdlib/v1.0/SHA/src/SHA.jl\" target=\"_blank\">/buildworker/worker/package_linux64/build/usr/share/julia/stdlib/v1.0/SHA/src/SHA.jl:62</a><li> hmac_sha3_512(key::<b>Array{UInt8,1}</b>, str::<b>AbstractString</b>) in SHA at <a href=\"file:///buildworker/worker/package_linux64/build/usr/share/julia/stdlib/v1.0/SHA/src/SHA.jl\" target=\"_blank\">/buildworker/worker/package_linux64/build/usr/share/julia/stdlib/v1.0/SHA/src/SHA.jl:62</a><li> hmac_sha512(key::<b>Array{UInt8,1}</b>, str::<b>AbstractString</b>) in SHA at <a href=\"file:///buildworker/worker/package_linux64/build/usr/share/julia/stdlib/v1.0/SHA/src/SHA.jl\" target=\"_blank\">/buildworker/worker/package_linux64/build/usr/share/julia/stdlib/v1.0/SHA/src/SHA.jl:62</a><li> sha1(str::<b>AbstractString</b>) in SHA at <a href=\"file:///buildworker/worker/package_linux64/build/usr/share/julia/stdlib/v1.0/SHA/src/SHA.jl\" target=\"_blank\">/buildworker/worker/package_linux64/build/usr/share/julia/stdlib/v1.0/SHA/src/SHA.jl:60</a><li> sha224(str::<b>AbstractString</b>) in SHA at <a href=\"file:///buildworker/worker/package_linux64/build/usr/share/julia/stdlib/v1.0/SHA/src/SHA.jl\" target=\"_blank\">/buildworker/worker/package_linux64/build/usr/share/julia/stdlib/v1.0/SHA/src/SHA.jl:60</a><li> sha256(str::<b>AbstractString</b>) in SHA at <a href=\"file:///buildworker/worker/package_linux64/build/usr/share/julia/stdlib/v1.0/SHA/src/SHA.jl\" target=\"_blank\">/buildworker/worker/package_linux64/build/usr/share/julia/stdlib/v1.0/SHA/src/SHA.jl:60</a><li> sha2_224(str::<b>AbstractString</b>) in SHA at <a href=\"file:///buildworker/worker/package_linux64/build/usr/share/julia/stdlib/v1.0/SHA/src/SHA.jl\" target=\"_blank\">/buildworker/worker/package_linux64/build/usr/share/julia/stdlib/v1.0/SHA/src/SHA.jl:60</a><li> sha2_256(str::<b>AbstractString</b>) in SHA at <a href=\"file:///buildworker/worker/package_linux64/build/usr/share/julia/stdlib/v1.0/SHA/src/SHA.jl\" target=\"_blank\">/buildworker/worker/package_linux64/build/usr/share/julia/stdlib/v1.0/SHA/src/SHA.jl:60</a><li> sha2_384(str::<b>AbstractString</b>) in SHA at <a href=\"file:///buildworker/worker/package_linux64/build/usr/share/julia/stdlib/v1.0/SHA/src/SHA.jl\" target=\"_blank\">/buildworker/worker/package_linux64/build/usr/share/julia/stdlib/v1.0/SHA/src/SHA.jl:60</a><li> sha2_512(str::<b>AbstractString</b>) in SHA at <a href=\"file:///buildworker/worker/package_linux64/build/usr/share/julia/stdlib/v1.0/SHA/src/SHA.jl\" target=\"_blank\">/buildworker/worker/package_linux64/build/usr/share/julia/stdlib/v1.0/SHA/src/SHA.jl:60</a><li> sha384(str::<b>AbstractString</b>) in SHA at <a href=\"file:///buildworker/worker/package_linux64/build/usr/share/julia/stdlib/v1.0/SHA/src/SHA.jl\" target=\"_blank\">/buildworker/worker/package_linux64/build/usr/share/julia/stdlib/v1.0/SHA/src/SHA.jl:60</a><li> sha3_224(str::<b>AbstractString</b>) in SHA at <a href=\"file:///buildworker/worker/package_linux64/build/usr/share/julia/stdlib/v1.0/SHA/src/SHA.jl\" target=\"_blank\">/buildworker/worker/package_linux64/build/usr/share/julia/stdlib/v1.0/SHA/src/SHA.jl:60</a><li> sha3_256(str::<b>AbstractString</b>) in SHA at <a href=\"file:///buildworker/worker/package_linux64/build/usr/share/julia/stdlib/v1.0/SHA/src/SHA.jl\" target=\"_blank\">/buildworker/worker/package_linux64/build/usr/share/julia/stdlib/v1.0/SHA/src/SHA.jl:60</a><li> sha3_384(str::<b>AbstractString</b>) in SHA at <a href=\"file:///buildworker/worker/package_linux64/build/usr/share/julia/stdlib/v1.0/SHA/src/SHA.jl\" target=\"_blank\">/buildworker/worker/package_linux64/build/usr/share/julia/stdlib/v1.0/SHA/src/SHA.jl:60</a><li> sha3_512(str::<b>AbstractString</b>) in SHA at <a href=\"file:///buildworker/worker/package_linux64/build/usr/share/julia/stdlib/v1.0/SHA/src/SHA.jl\" target=\"_blank\">/buildworker/worker/package_linux64/build/usr/share/julia/stdlib/v1.0/SHA/src/SHA.jl:60</a><li> sha512(str::<b>AbstractString</b>) in SHA at <a href=\"file:///buildworker/worker/package_linux64/build/usr/share/julia/stdlib/v1.0/SHA/src/SHA.jl\" target=\"_blank\">/buildworker/worker/package_linux64/build/usr/share/julia/stdlib/v1.0/SHA/src/SHA.jl:60</a><li> installkernel(name::<b>AbstractString</b>, julia_options::<b>AbstractString...</b>) in IJulia at <a href=\"file:///home/pybokeh/.julia/packages/IJulia/9RcVi/deps/kspec.jl\" target=\"_blank\">/home/pybokeh/.julia/packages/IJulia/9RcVi/deps/kspec.jl:36</a><li> send_status(state::<b>AbstractString</b>) in IJulia at <a href=\"file:///home/pybokeh/.julia/packages/IJulia/9RcVi/src/msg.jl\" target=\"_blank\">/home/pybokeh/.julia/packages/IJulia/9RcVi/src/msg.jl:96</a><li> send_status(state::<b>AbstractString</b>, parent_msg::<b>IJulia.Msg</b>) in IJulia at <a href=\"file:///home/pybokeh/.julia/packages/IJulia/9RcVi/src/msg.jl\" target=\"_blank\">/home/pybokeh/.julia/packages/IJulia/9RcVi/src/msg.jl:96</a><li> subscribe(socket::<b>ZMQ.Socket</b>, filter::<b>Union{AbstractString, Array}</b>) in ZMQ at <a href=\"file:///home/pybokeh/.julia/packages/ZMQ/yClfT/src/ZMQ.jl\" target=\"_blank\">/home/pybokeh/.julia/packages/ZMQ/yClfT/src/ZMQ.jl:241</a><li> unsubscribe(socket::<b>ZMQ.Socket</b>, filter::<b>Union{AbstractString, Array}</b>) in ZMQ at <a href=\"file:///home/pybokeh/.julia/packages/ZMQ/yClfT/src/ZMQ.jl\" target=\"_blank\">/home/pybokeh/.julia/packages/ZMQ/yClfT/src/ZMQ.jl:241</a><li> dlopen(s::<b>AbstractString</b>) in Libdl at <a href=\"file:///buildworker/worker/package_linux64/build/usr/share/julia/stdlib/v1.0/Libdl/src/Libdl.jl\" target=\"_blank\">/buildworker/worker/package_linux64/build/usr/share/julia/stdlib/v1.0/Libdl/src/Libdl.jl:97</a><li> dlopen(s::<b>AbstractString</b>, flags::<b>Integer</b>) in Libdl at <a href=\"file:///buildworker/worker/package_linux64/build/usr/share/julia/stdlib/v1.0/Libdl/src/Libdl.jl\" target=\"_blank\">/buildworker/worker/package_linux64/build/usr/share/julia/stdlib/v1.0/Libdl/src/Libdl.jl:97</a><li> dlopen_e(s::<b>AbstractString</b>) in Libdl at <a href=\"file:///buildworker/worker/package_linux64/build/usr/share/julia/stdlib/v1.0/Libdl/src/Libdl.jl\" target=\"_blank\">/buildworker/worker/package_linux64/build/usr/share/julia/stdlib/v1.0/Libdl/src/Libdl.jl:110</a><li> dlopen_e(s::<b>AbstractString</b>, flags::<b>Integer</b>) in Libdl at <a href=\"file:///buildworker/worker/package_linux64/build/usr/share/julia/stdlib/v1.0/Libdl/src/Libdl.jl\" target=\"_blank\">/buildworker/worker/package_linux64/build/usr/share/julia/stdlib/v1.0/Libdl/src/Libdl.jl:110</a><li> dlpath(libname::<b>Union{AbstractString, Symbol}</b>) in Libdl at <a href=\"file:///buildworker/worker/package_linux64/build/usr/share/julia/stdlib/v1.0/Libdl/src/Libdl.jl\" target=\"_blank\">/buildworker/worker/package_linux64/build/usr/share/julia/stdlib/v1.0/Libdl/src/Libdl.jl:160</a><li> dlsym(hnd::<b>Ptr</b>, s::<b>Union{AbstractString, Symbol}</b>) in Libdl at <a href=\"file:///buildworker/worker/package_linux64/build/usr/share/julia/stdlib/v1.0/Libdl/src/Libdl.jl\" target=\"_blank\">/buildworker/worker/package_linux64/build/usr/share/julia/stdlib/v1.0/Libdl/src/Libdl.jl:54</a><li> dlsym_e(hnd::<b>Ptr</b>, s::<b>Union{AbstractString, Symbol}</b>) in Libdl at <a href=\"file:///buildworker/worker/package_linux64/build/usr/share/julia/stdlib/v1.0/Libdl/src/Libdl.jl\" target=\"_blank\">/buildworker/worker/package_linux64/build/usr/share/julia/stdlib/v1.0/Libdl/src/Libdl.jl:64</a><li> find_library(libname::<b>Union{AbstractString, Symbol}</b>) in Libdl at <a href=\"file:///buildworker/worker/package_linux64/build/usr/share/julia/stdlib/v1.0/Libdl/src/Libdl.jl\" target=\"_blank\">/buildworker/worker/package_linux64/build/usr/share/julia/stdlib/v1.0/Libdl/src/Libdl.jl:149</a><li> find_library(libname::<b>Union{AbstractString, Symbol}</b>, extrapaths) in Libdl at <a href=\"file:///buildworker/worker/package_linux64/build/usr/share/julia/stdlib/v1.0/Libdl/src/Libdl.jl\" target=\"_blank\">/buildworker/worker/package_linux64/build/usr/share/julia/stdlib/v1.0/Libdl/src/Libdl.jl:149</a><li> stringmime(m::<b>AbstractString</b>, x) in Base64 at <a href=\"file:///buildworker/worker/package_linux64/build/usr/share/julia/stdlib/v1.0/Base64/src/Base64.jl\" target=\"_blank\">/buildworker/worker/package_linux64/build/usr/share/julia/stdlib/v1.0/Base64/src/Base64.jl:39</a></ul>"
      ],
      "text/plain": [
       "[1] @doc_str(__source__::LineNumberNode, __module__::Module, s::AbstractString, t...) in Markdown at /buildworker/worker/package_linux64/build/usr/share/julia/stdlib/v1.0/Markdown/src/Markdown.jl:53\n",
       "[2] bind(server::Sockets.PipeServer, name::AbstractString) in Sockets at /buildworker/worker/package_linux64/build/usr/share/julia/stdlib/v1.0/Sockets/src/PipeServer.jl:49\n",
       "[3] bind(socket::ZMQ.Socket, endpoint::AbstractString) in ZMQ at /home/pybokeh/.julia/packages/ZMQ/yClfT/src/ZMQ.jl:295\n",
       "[4] connect(path::AbstractString) in Sockets at /buildworker/worker/package_linux64/build/usr/share/julia/stdlib/v1.0/Sockets/src/PipeServer.jl:93\n",
       "[5] connect(host::AbstractString, port::Integer) in Sockets at /buildworker/worker/package_linux64/build/usr/share/julia/stdlib/v1.0/Sockets/src/Sockets.jl:427\n",
       "[6] connect(socket::ZMQ.Socket, endpoint::AbstractString) in ZMQ at /home/pybokeh/.julia/packages/ZMQ/yClfT/src/ZMQ.jl:302\n",
       "[7] getaddrinfo(host::AbstractString) in Sockets at /buildworker/worker/package_linux64/build/usr/share/julia/stdlib/v1.0/Sockets/src/addrinfo.jl:125\n",
       "[8] getaddrinfo(host::AbstractString, T::Type{#s549} where #s549<:Sockets.IPAddr) in Sockets at /buildworker/worker/package_linux64/build/usr/share/julia/stdlib/v1.0/Sockets/src/addrinfo.jl:124\n",
       "[9] getalladdrinfo(host::AbstractString) in Sockets at /buildworker/worker/package_linux64/build/usr/share/julia/stdlib/v1.0/Sockets/src/addrinfo.jl:107\n",
       "[10] listen(path::AbstractString) in Sockets at /buildworker/worker/package_linux64/build/usr/share/julia/stdlib/v1.0/Sockets/src/PipeServer.jl:70\n",
       "[11] send(socket::ZMQ.Socket, msg::AbstractString) in ZMQ at /home/pybokeh/.julia/packages/ZMQ/yClfT/src/ZMQ.jl:489\n",
       "[12] send(socket::ZMQ.Socket, msg::AbstractString, SNDMORE::Bool) in ZMQ at /home/pybokeh/.julia/packages/ZMQ/yClfT/src/ZMQ.jl:489\n",
       "[13] writedlm(fname::AbstractString, a, dlm) in DelimitedFiles at /buildworker/worker/package_linux64/build/usr/share/julia/stdlib/v1.0/DelimitedFiles/src/DelimitedFiles.jl:788\n",
       "[14] *(d::Missing, x::AbstractString) in Base at missing.jl:139\n",
       "[15] *(s1::Union{AbstractChar, AbstractString}, ss::Union{AbstractChar, AbstractString}...) in Base at strings/basic.jl:229\n",
       "[16] *(d::AbstractString, x::Missing) in Base at missing.jl:140\n",
       "[17] ==(a::AbstractString, b::AbstractString) in Base at strings/basic.jl:293\n",
       "[18] ^(s::Union{AbstractChar, AbstractString}, r::Integer) in Base at strings/basic.jl:674\n",
       "[19] abspath(path::AbstractString) in Base.Filesystem at path.jl:420\n",
       "[20] abspath(a::AbstractString, b::AbstractString...) in Base.Filesystem at path.jl:288\n",
       "[21] ascii(x::AbstractString) in Base at strings/util.jl:626\n",
       "[22] asyncmap(f, s::AbstractString) in Base at asyncmap.jl:249\n",
       "[23] basename(path::AbstractString) in Base.Filesystem at path.jl:166\n",
       "[24] cd(dir::AbstractString) in Base.Filesystem at file.jl:76\n",
       "[25] cd(f::Function, dir::AbstractString) in Base.Filesystem at file.jl:92\n",
       "[26] checkbounds(::Type{Bool}, s::AbstractString, i::Integer) in Base at strings/basic.jl:185\n",
       "[27] checkbounds(::Type{Bool}, s::AbstractString, r::AbstractRange{#s57} where #s57<:Integer) in Base at strings/basic.jl:187\n",
       "[28] checkbounds(::Type{Bool}, s::AbstractString, I::AbstractArray{#s57,N} where N where #s57<:Integer) in Base at strings/basic.jl:191\n",
       "[29] checkbounds(::Type{Bool}, s::AbstractString, I::AbstractArray{#s57,N} where N where #s57<:Real) in Base at strings/basic.jl:189\n",
       "[30] checkbounds(s::AbstractString, I::Union{Integer, AbstractArray}) in Base at strings/basic.jl:193\n",
       "[31] chmod(path::AbstractString, mode::Integer) in Base.Filesystem at file.jl:828\n",
       "[32] chomp(s::AbstractString) in Base at strings/util.jl:117\n",
       "[33] chop(s::AbstractString) in Base at strings/util.jl:99\n",
       "[34] chown(path::AbstractString, owner::Integer) in Base.Filesystem at file.jl:848\n",
       "[35] chown(path::AbstractString, owner::Integer, group::Integer) in Base.Filesystem at file.jl:848\n",
       "[36] cmp(a::AbstractString, b::AbstractString) in Base at strings/basic.jl:269\n",
       "[37] codeunit(s::AbstractString, i::Integer) in Base at strings/basic.jl:84\n",
       "[38] codeunits(s::AbstractString) in Base at strings/basic.jl:714\n",
       "[39] convert(::Type{Base.SecretBuffer}, s::AbstractString) in Base at secretbuffer.jl:64\n",
       "[40] convert(::Type{T}, s::T) where T<:AbstractString in Base at strings/basic.jl:207\n",
       "[41] convert(::Type{SubString{S}}, s::AbstractString) where S<:AbstractString in Base at strings/substring.jl:50\n",
       "[42] convert(::Type{T}, s::AbstractString) where T<:AbstractString in Base at strings/basic.jl:208\n",
       "[43] countlines(f::AbstractString) in Base at io.jl:1025\n",
       "[44] cp(src::AbstractString, dst::AbstractString) in Base.Filesystem at file.jl:330\n",
       "[45] delete!(::Base.EnvDict, k::AbstractString) in Base at env.jl:82\n",
       "[46] dirname(path::AbstractString) in Base.Filesystem at path.jl:151\n",
       "[47] display(d::AbstractDisplay, mime::AbstractString, x) in Base.Multimedia at multimedia.jl:178\n",
       "[48] display(mime::AbstractString, x) in Base.Multimedia at multimedia.jl:179\n",
       "[49] displayable(d::AbstractDisplay, mime::AbstractString) in Base.Multimedia at multimedia.jl:189\n",
       "[50] displayable(mime::AbstractString) in Base.Multimedia at multimedia.jl:190\n",
       "[51] download(url::AbstractString) in Base at download.jl:58\n",
       "[52] download(url::AbstractString, filename::AbstractString) in Base at download.jl:28\n",
       "[53] eachline(filename::AbstractString) in Base at io.jl:875\n",
       "[54] eachmatch(re::Regex, str::AbstractString) in Base at regex.jl:423\n",
       "[55] endswith(a::AbstractString, b::AbstractString) in Base at strings/util.jl:42\n",
       "[56] endswith(str::AbstractString, chars::Union{AbstractChar, Tuple{Vararg{AbstractChar,N} where N}, Set{#s55} where #s55<:AbstractChar, AbstractArray{#s56,1} where #s56<:AbstractChar}) in Base at strings/util.jl:46\n",
       "[57] error(s::AbstractString) in Base at error.jl:33\n",
       "[58] escape_string(io::IO, s::AbstractString) in Base at strings/io.jl:306\n",
       "[59] escape_string(io::IO, s::AbstractString, esc) in Base at strings/io.jl:306\n",
       "[60] escape_string(s::AbstractString) in Base at strings/io.jl:332\n",
       "[61] escape_string(s::AbstractString, esc) in Base at strings/io.jl:332\n",
       "[62] evalfile(path::AbstractString) in Base at loading.jl:1069\n",
       "[63] evalfile(path::AbstractString, args::Array{String,1}) in Base at loading.jl:1069\n",
       "[64] evalfile(path::AbstractString, args::Array{T,1} where T) in Base at loading.jl:1076\n",
       "[65] expanduser(path::AbstractString) in Base.Filesystem at path.jl:344\n",
       "[66] fdio(name::AbstractString, fd::Integer) in Base at iostream.jl:207\n",
       "[67] fdio(name::AbstractString, fd::Integer, own::Bool) in Base at iostream.jl:207\n",
       "[68] filter(f, s::AbstractString) in Base at strings/basic.jl:581\n",
       "[69] findfirst(A::Union{AbstractString, AbstractArray}) in Base at array.jl:1661\n",
       "[70] findfirst(testf::Function, A::Union{AbstractString, AbstractArray}) in Base at array.jl:1742\n",
       "[71] findfirst(pattern::AbstractString, string::AbstractString) in Base at strings/search.jl:104\n",
       "[72] findfirst(r::Regex, s::AbstractString) in Base at regex.jl:231\n",
       "[73] findlast(A::Union{AbstractString, AbstractArray}) in Base at array.jl:1830\n",
       "[74] findlast(testf::Function, A::Union{AbstractString, AbstractArray}) in Base at array.jl:1913\n",
       "[75] findlast(pattern::AbstractString, string::AbstractString) in Base at strings/search.jl:274\n",
       "[76] findnext(testf::Function, s::AbstractString, i::Integer) in Base at strings/search.jl:109\n",
       "[77] findnext(t::AbstractString, s::AbstractString, i::Integer) in Base at strings/search.jl:256\n",
       "[78] findnext(r::Regex, s::AbstractString, idx::Integer) in Base at regex.jl:228\n",
       "[79] findprev(testf::Function, s::AbstractString, i::Integer) in Base at strings/search.jl:279\n",
       "[80] findprev(t::AbstractString, s::AbstractString, i::Integer) in Base at strings/search.jl:433\n",
       "[81] first(s::AbstractString, n::Integer) in Base at strings/basic.jl:606\n",
       "[82] firstindex(s::AbstractString) in Base at strings/basic.jl:158\n",
       "[83] get(::Base.EnvDict, k::AbstractString, def) in Base at env.jl:77\n",
       "[84] get(s::AbstractString, i::Integer, default) in Base at strings/basic.jl:176\n",
       "[85] get(f::Union{Function, Type}, ::Base.EnvDict, k::AbstractString) in Base at env.jl:78\n",
       "[86] getindex(m::RegexMatch, name::AbstractString) in Base at regex.jl:151\n",
       "[87] getindex(::Base.EnvDict, k::AbstractString) in Base at env.jl:76\n",
       "[88] getindex(tree::LibGit2.GitTree, target::AbstractString) in LibGit2 at /buildworker/worker/package_linux64/build/usr/share/julia/stdlib/v1.0/LibGit2/src/tree.jl:164\n",
       "[89] getindex(tbl::Pkg.TOML.Table, key::AbstractString) in Pkg.TOML at /buildworker/worker/package_linux64/build/usr/share/julia/stdlib/v1.0/Pkg/ext/TOML/src/parser.jl:31\n",
       "[90] getindex(s::AbstractString, i::Integer) in Base at strings/basic.jl:162\n",
       "[91] getindex(s::AbstractString, i::Colon) in Base at strings/basic.jl:166\n",
       "[92] getindex(s::AbstractString, r::UnitRange{#s57} where #s57<:Integer) in Base at strings/substring.jl:178\n",
       "[93] getindex(s::AbstractString, v::AbstractArray{Bool,1}) in Base at strings/basic.jl:171\n",
       "[94] getindex(s::AbstractString, v::AbstractArray{#s57,1} where #s57<:Integer) in Base at strings/basic.jl:169\n",
       "[95] hash(s::AbstractString, h::UInt64) in Base at hashing2.jl:181\n",
       "[96] haskey(tbl::Pkg.TOML.Table, key::AbstractString) in Pkg.TOML at /buildworker/worker/package_linux64/build/usr/share/julia/stdlib/v1.0/Pkg/ext/TOML/src/parser.jl:32\n",
       "[97] hex2bytes(s::AbstractString) in Base at strings/util.jl:527\n",
       "[98] in(c::AbstractChar, s::AbstractString) in Base at strings/search.jl:120\n",
       "[99] in(::AbstractString, ::AbstractString) in Base at strings/search.jl:459\n",
       "[100] in(k::AbstractString, ::Base.KeySet{String,Base.EnvDict}) in Base at env.jl:79\n",
       "[101] include_dependency(path::AbstractString) in Base at loading.jl:757\n",
       "[102] include_string(m::Module, txt::AbstractString) in Base at loading.jl:1006\n",
       "[103] include_string(m::Module, txt::AbstractString, fname::AbstractString) in Base at loading.jl:1006\n",
       "[104] isabspath(path::AbstractString) in Base.Filesystem at path.jl:420\n",
       "[105] isascii(s::AbstractString) in Base at strings/basic.jl:563\n",
       "[106] isdirpath(path::AbstractString) in Base.Filesystem at path.jl:420\n",
       "[107] isless(a::AbstractString, b::AbstractString) in Base at strings/basic.jl:313\n",
       "[108] istextmime(m::AbstractString) in Base.Multimedia at multimedia.jl:152\n",
       "[109] isvalid(s::AbstractString, i::Integer) in Base at strings/basic.jl:121\n",
       "[110] iterate(s::AbstractString, i::Integer) in Base at strings/basic.jl:135\n",
       "[111] joinpath(a::AbstractString) in Base.Filesystem at path.jl:199\n",
       "[112] joinpath(a::AbstractString, b::AbstractString) in Base.Filesystem at path.jl:226\n",
       "[113] joinpath(a::AbstractString, b::AbstractString, c::AbstractString...) in Base.Filesystem at path.jl:214\n",
       "[114] keys(s::AbstractString) in Base at strings/basic.jl:533\n",
       "[115] last(s::AbstractString, n::Integer) in Base at strings/basic.jl:624\n",
       "[116] lastindex(s::AbstractString) in Base at strings/basic.jl:159\n",
       "[117] length(s::AbstractString) in Base at strings/basic.jl:345\n",
       "[118] length(s::AbstractString, i::Int64, j::Int64) in Base at strings/basic.jl:348\n",
       "[119] length(s::AbstractString, i::Integer, j::Integer) in Base at strings/basic.jl:359\n",
       "[120] lowercase(s::AbstractString) in Base.Unicode at strings/unicode.jl:525\n",
       "[121] lowercasefirst(s::AbstractString) in Base.Unicode at strings/unicode.jl:605\n",
       "[122] lpad(s::Union{AbstractChar, AbstractString}, n::Integer) in Base at strings/util.jl:239\n",
       "[123] lpad(s::Union{AbstractChar, AbstractString}, n::Integer, p::Union{AbstractChar, AbstractString}) in Base at strings/util.jl:239\n",
       "[124] lpad(s, n::Integer, p::Union{AbstractChar, AbstractString}) in Base at strings/util.jl:232\n",
       "[125] lstat(path::AbstractString) in Base.Filesystem at stat.jl:79\n",
       "[126] lstrip(s::AbstractString) in Base at strings/util.jl:163\n",
       "[127] lstrip(f, s::AbstractString) in Base at strings/util.jl:157\n",
       "[128] lstrip(s::AbstractString, chars::Union{AbstractChar, Tuple{Vararg{AbstractChar,N} where N}, Set{#s55} where #s55<:AbstractChar, AbstractArray{#s56,1} where #s56<:AbstractChar}) in Base at strings/util.jl:164\n",
       "[129] map(f, s::AbstractString) in Base at strings/basic.jl:569\n",
       "[130] match(r::Regex, s::AbstractString) in Base at regex.jl:210\n",
       "[131] match(r::Regex, s::AbstractString, i::Integer) in Base at regex.jl:211\n",
       "[132] mkdir(path::AbstractString) in Base.Filesystem at file.jl:162\n",
       "[133] mkpath(path::AbstractString) in Base.Filesystem at file.jl:207\n",
       "[134] mv(src::AbstractString, dst::AbstractString) in Base.Filesystem at file.jl:377\n",
       "[135] nextind(s::AbstractString, i::Int64) in Base at strings/basic.jl:515\n",
       "[136] nextind(s::AbstractString, i::Int64, n::Int64) in Base at strings/basic.jl:518\n",
       "[137] nextind(s::AbstractString, i::Integer) in Base at strings/basic.jl:514\n",
       "[138] nextind(s::AbstractString, i::Integer, n::Integer) in Base at strings/basic.jl:513\n",
       "[139] normpath(path::AbstractString) in Base.Filesystem at path.jl:420\n",
       "[140] normpath(a::AbstractString, b::AbstractString...) in Base.Filesystem at path.jl:272\n",
       "[141] occursin(needle::Union{AbstractChar, AbstractString}, haystack::AbstractString) in Base at strings/search.jl:456\n",
       "[142] occursin(r::Regex, s::AbstractString) in Base at regex.jl:154\n",
       "[143] open(fname::AbstractString) in Base at iostream.jl:275\n",
       "[144] open(fname::AbstractString, mode::AbstractString) in Base at iostream.jl:339\n",
       "[145] open(cmds::Base.AbstractCmd, mode::AbstractString) in Base at process.jl:562\n",
       "[146] open(cmds::Base.AbstractCmd, mode::AbstractString, other::Union{RawFD, FileRedirect, IO}) in Base at process.jl:562\n",
       "[147] parse(::Type{LibGit2.GitCredential}, url::AbstractString) in LibGit2 at /buildworker/worker/package_linux64/build/usr/share/julia/stdlib/v1.0/LibGit2/src/gitcredential.jl:71\n",
       "[148] parse(::Type{LibGit2.GitCredentialHelper}, helper::AbstractString) in LibGit2 at /buildworker/worker/package_linux64/build/usr/share/julia/stdlib/v1.0/LibGit2/src/gitcredential.jl:158\n",
       "[149] parse(::Type{Sockets.IPv4}, str::AbstractString) in Sockets at /buildworker/worker/package_linux64/build/usr/share/julia/stdlib/v1.0/Sockets/src/IPAddr.jl:166\n",
       "[150] parse(::Type{Sockets.IPv6}, str::AbstractString) in Sockets at /buildworker/worker/package_linux64/build/usr/share/julia/stdlib/v1.0/Sockets/src/IPAddr.jl:217\n",
       "[151] parse(::Type{Sockets.IPAddr}, str::AbstractString) in Sockets at /buildworker/worker/package_linux64/build/usr/share/julia/stdlib/v1.0/Sockets/src/IPAddr.jl:237\n",
       "[152] parse(::Type{Dates.DateTime}, s::AbstractString, df::Dates.DateFormat{Symbol(\"yyyy-mm-dd\\\\THH:MM:SS.s\"),Tuple{Dates.DatePart{'y'},Dates.Delim{Char,1},Dates.DatePart{'m'},Dates.Delim{Char,1},Dates.DatePart{'d'},Dates.Delim{Char,1},Dates.DatePart{'H'},Dates.Delim{Char,1},Dates.DatePart{'M'},Dates.Delim{Char,1},Dates.DatePart{'S'},Dates.Delim{Char,1},Dates.DatePart{'s'}}}) in Dates at /buildworker/worker/package_linux64/build/usr/share/julia/stdlib/v1.0/Dates/src/parse.jl:200\n",
       "[153] parse(::Type{T}, s::AbstractString) where T<:Integer in Base at parse.jl:217\n",
       "[154] parse(::Type{T}, s::AbstractString) where T<:Real in Base at parse.jl:355\n",
       "[155] parse(::Type{T}, s::AbstractString) where T<:Complex in Base at parse.jl:357\n",
       "[156] parse(::Type{T}, str::AbstractString) where T<:Dates.TimeType in Dates at /buildworker/worker/package_linux64/build/usr/share/julia/stdlib/v1.0/Dates/src/parse.jl:281\n",
       "[157] parse(::Type{T}, str::AbstractString, df::Dates.DateFormat) where T<:Dates.TimeType in Dates at /buildworker/worker/package_linux64/build/usr/share/julia/stdlib/v1.0/Dates/src/parse.jl:281\n",
       "[158] pipeline(src::Union{RawFD, FileRedirect, AbstractString, IO}, cmd::Base.AbstractCmd) in Base at process.jl:277\n",
       "[159] pop!(::Base.EnvDict, k::AbstractString) in Base at env.jl:80\n",
       "[160] pop!(::Base.EnvDict, k::AbstractString, def) in Base at env.jl:81\n",
       "[161] prevind(s::AbstractString, i::Int64) in Base at strings/basic.jl:455\n",
       "[162] prevind(s::AbstractString, i::Int64, n::Int64) in Base at strings/basic.jl:458\n",
       "[163] prevind(s::AbstractString, i::Integer) in Base at strings/basic.jl:454\n",
       "[164] prevind(s::AbstractString, i::Integer, n::Integer) in Base at strings/basic.jl:453\n",
       "[165] print(io::IO, s::AbstractString) in Base at strings/io.jl:147\n",
       "[166] read(filename::AbstractString, ::Type{T}) where T in Base at io.jl:297\n",
       "[167] read(filename::AbstractString, args...) in Base at io.jl:295\n",
       "[168] read!(filename::AbstractString, a) in Base at io.jl:307\n",
       "[169] readdir(path::AbstractString) in Base.Filesystem at file.jl:615\n",
       "[170] readline(filename::AbstractString) in Base at io.jl:364\n",
       "[171] readlines(filename::AbstractString) in Base at io.jl:410\n",
       "[172] readlink(path::AbstractString) in Base.Filesystem at file.jl:801\n",
       "[173] readuntil(io::Base.AbstractPipe, arg::AbstractString) in Base at io.jl:234\n",
       "[174] readuntil(filename::AbstractString, args...) in Base at io.jl:334\n",
       "[175] readuntil(io::IO, target::AbstractString) in Base at io.jl:752\n",
       "[176] realpath(path::AbstractString) in Base.Filesystem at path.jl:321\n",
       "[177] redisplay(m::Union{AbstractString, MIME}, x) in Base.Multimedia at multimedia.jl:357\n",
       "[178] redisplay(d::AbstractDisplay, m::Union{AbstractString, MIME}, x) in Base.Multimedia at multimedia.jl:372\n",
       "[179] relpath(path::AbstractString, startpath::AbstractString) in Base.Filesystem at path.jl:416\n",
       "[180] repeat(s::AbstractString, r::Integer) in Base at strings/basic.jl:659\n",
       "[181] replace(s::AbstractString, pat_f::Pair) in Base at strings/util.jl:482\n",
       "[182] replace(a::AbstractString, b::Pair, c::Pair) in Base at set.jl:487\n",
       "[183] repr(m::AbstractString, x) in Base.Multimedia at multimedia.jl:116\n",
       "[184] reverseind(s::AbstractString, i::Integer) in Base at strings/basic.jl:644\n",
       "[185] rm(path::AbstractString) in Base.Filesystem at file.jl:245\n",
       "[186] rpad(s::Union{AbstractChar, AbstractString}, n::Integer) in Base at strings/util.jl:266\n",
       "[187] rpad(s::Union{AbstractChar, AbstractString}, n::Integer, p::Union{AbstractChar, AbstractString}) in Base at strings/util.jl:266\n",
       "[188] rpad(s, n::Integer, p::Union{AbstractChar, AbstractString}) in Base at strings/util.jl:259\n",
       "[189] rsplit(str::AbstractString) in Base at strings/util.jl:405\n",
       "[190] rsplit(str::T, splitter::Union{Tuple{Vararg{AbstractChar,N} where N}, Set{#s51} where #s51<:AbstractChar, AbstractArray{#s52,1} where #s52<:AbstractChar}) where T<:AbstractString in Base at strings/util.jl:384\n",
       "[191] rsplit(str::T, splitter::AbstractChar) where T<:AbstractString in Base at strings/util.jl:388\n",
       "[192] rsplit(str::T, splitter) where T<:AbstractString in Base at strings/util.jl:380\n",
       "[193] rstrip(s::AbstractString) in Base at strings/util.jl:194\n",
       "[194] rstrip(f, s::AbstractString) in Base at strings/util.jl:189\n",
       "[195] rstrip(s::AbstractString, chars::Union{AbstractChar, Tuple{Vararg{AbstractChar,N} where N}, Set{#s55} where #s55<:AbstractChar, AbstractArray{#s56,1} where #s56<:AbstractChar}) in Base at strings/util.jl:195\n",
       "[196] setindex!(::Base.EnvDict, v, k::AbstractString) in Base at env.jl:83\n",
       "[197] show(io::IO, s::AbstractString) in Base at strings/io.jl:149\n",
       "[198] show(io::IO, m::AbstractString, x) in Base.Multimedia at multimedia.jl:79\n",
       "[199] showable(m::AbstractString, x) in Base.Multimedia at multimedia.jl:47\n",
       "[200] sizeof(s::AbstractString) in Base at strings/basic.jl:157\n",
       "[201] split(str::AbstractString) in Base at strings/util.jl:344\n",
       "[202] split(str::T, splitter::Union{Tuple{Vararg{AbstractChar,N} where N}, Set{#s51} where #s51<:AbstractChar, AbstractArray{#s52,1} where #s52<:AbstractChar}) where T<:AbstractString in Base at strings/util.jl:310\n",
       "[203] split(str::T, splitter::AbstractChar) where T<:AbstractString in Base at strings/util.jl:314\n",
       "[204] split(str::T, splitter) where T<:AbstractString in Base at strings/util.jl:306\n",
       "[205] splitdir(path::AbstractString) in Base.Filesystem at path.jl:420\n",
       "[206] splitdrive(path::AbstractString) in Base.Filesystem at path.jl:420\n",
       "[207] splitext(path::AbstractString) in Base.Filesystem at path.jl:420\n",
       "[208] startswith(a::AbstractString, b::AbstractString) in Base at strings/util.jl:22\n",
       "[209] startswith(str::AbstractString, chars::Union{AbstractChar, Tuple{Vararg{AbstractChar,N} where N}, Set{#s55} where #s55<:AbstractChar, AbstractArray{#s56,1} where #s56<:AbstractChar}) in Base at strings/util.jl:25\n",
       "[210] stat(path::AbstractString) in Base.Filesystem at stat.jl:78\n",
       "[211] string(s::AbstractString) in Base at strings/basic.jl:199\n",
       "[212] strip(s::AbstractString) in Base at strings/util.jl:214\n",
       "[213] strip(s::AbstractString, chars) in Base at strings/util.jl:215\n",
       "[214] symlink(p::AbstractString, np::AbstractString) in Base.Filesystem at file.jl:774\n",
       "[215] textwidth(s::AbstractString) in Base.Unicode at strings/unicode.jl:237\n",
       "[216] thisind(s::AbstractString, i::Int64) in Base at strings/basic.jl:399\n",
       "[217] thisind(s::AbstractString, i::Integer) in Base at strings/basic.jl:396\n",
       "[218] titlecase(s::AbstractString) in Base.Unicode at strings/unicode.jl:552\n",
       "[219] touch(path::AbstractString) in Base.Filesystem at file.jl:404\n",
       "[220] tryparse(::Type{Float16}, s::AbstractString) in Base at parse.jl:264\n",
       "[221] tryparse(::Type{BigFloat}, s::AbstractString) in Base.MPFR at mpfr.jl:157\n",
       "[222] tryparse(::Type{T}, s::AbstractString) where T<:Integer in Base at parse.jl:213\n",
       "[223] tryparse(::Type{T}, s::AbstractString) where T<:Union{Float32, Float64} in Base at parse.jl:263\n",
       "[224] tryparse(T::Type{Complex{S}}, s::AbstractString) where S<:Real in Base at parse.jl:360\n",
       "[225] tryparse(::Type{T}, str::AbstractString) where T<:Dates.TimeType in Dates at /buildworker/worker/package_linux64/build/usr/share/julia/stdlib/v1.0/Dates/src/parse.jl:289\n",
       "[226] tryparse(::Type{T}, str::AbstractString, df::Dates.DateFormat) where T<:Dates.TimeType in Dates at /buildworker/worker/package_linux64/build/usr/share/julia/stdlib/v1.0/Dates/src/parse.jl:289\n",
       "[227] unescape_string(s::AbstractString) in Base at strings/io.jl:428\n",
       "[228] unescape_string(io, s::AbstractString) in Base at strings/io.jl:374\n",
       "[229] uppercase(s::AbstractString) in Base.Unicode at strings/unicode.jl:512\n",
       "[230] uppercasefirst(s::AbstractString) in Base.Unicode at strings/unicode.jl:583\n",
       "[231] write(filename::AbstractString, a1, args...) in Base at io.jl:283\n",
       "[232] write(io::IO, s::AbstractString) in Base at strings/io.jl:148\n",
       "[233] edit(path::AbstractString) in InteractiveUtils at /buildworker/worker/package_linux64/build/usr/share/julia/stdlib/v1.0/InteractiveUtils/src/editless.jl:37\n",
       "[234] edit(path::AbstractString, line::Integer) in InteractiveUtils at /buildworker/worker/package_linux64/build/usr/share/julia/stdlib/v1.0/InteractiveUtils/src/editless.jl:37\n",
       "[235] less(file::AbstractString) in InteractiveUtils at /buildworker/worker/package_linux64/build/usr/share/julia/stdlib/v1.0/InteractiveUtils/src/editless.jl:119\n",
       "[236] less(file::AbstractString, line::Integer) in InteractiveUtils at /buildworker/worker/package_linux64/build/usr/share/julia/stdlib/v1.0/InteractiveUtils/src/editless.jl:107\n",
       "[237] graphemes(s::AbstractString) in Unicode at /buildworker/worker/package_linux64/build/usr/share/julia/stdlib/v1.0/Unicode/src/Unicode.jl:82\n",
       "[238] init_worker(cookie::AbstractString) in Distributed at /buildworker/worker/package_linux64/build/usr/share/julia/stdlib/v1.0/Distributed/src/cluster.jl:324\n",
       "[239] init_worker(cookie::AbstractString, manager::Distributed.ClusterManager) in Distributed at /buildworker/worker/package_linux64/build/usr/share/julia/stdlib/v1.0/Distributed/src/cluster.jl:324\n",
       "[240] start_worker(cookie::AbstractString) in Distributed at /buildworker/worker/package_linux64/build/usr/share/julia/stdlib/v1.0/Distributed/src/cluster.jl:189\n",
       "[241] start_worker(out::IO, cookie::AbstractString) in Distributed at /buildworker/worker/package_linux64/build/usr/share/julia/stdlib/v1.0/Distributed/src/cluster.jl:191\n",
       "[242] poll_file(s::AbstractString) in FileWatching at /buildworker/worker/package_linux64/build/usr/share/julia/stdlib/v1.0/FileWatching/src/FileWatching.jl:680\n",
       "[243] poll_file(s::AbstractString, interval_seconds::Real) in FileWatching at /buildworker/worker/package_linux64/build/usr/share/julia/stdlib/v1.0/FileWatching/src/FileWatching.jl:680\n",
       "[244] poll_file(s::AbstractString, interval_seconds::Real, timeout_s::Real) in FileWatching at /buildworker/worker/package_linux64/build/usr/share/julia/stdlib/v1.0/FileWatching/src/FileWatching.jl:680\n",
       "[245] unwatch_folder(s::AbstractString) in FileWatching at /buildworker/worker/package_linux64/build/usr/share/julia/stdlib/v1.0/FileWatching/src/FileWatching.jl:652\n",
       "[246] watch_file(s::AbstractString) in FileWatching at /buildworker/worker/package_linux64/build/usr/share/julia/stdlib/v1.0/FileWatching/src/FileWatching.jl:582\n",
       "[247] watch_file(s::AbstractString, timeout_s::Real) in FileWatching at /buildworker/worker/package_linux64/build/usr/share/julia/stdlib/v1.0/FileWatching/src/FileWatching.jl:582\n",
       "[248] watch_folder(s::AbstractString) in FileWatching at /buildworker/worker/package_linux64/build/usr/share/julia/stdlib/v1.0/FileWatching/src/FileWatching.jl:609\n",
       "[249] watch_folder(s::AbstractString, timeout_s::Real) in FileWatching at /buildworker/worker/package_linux64/build/usr/share/julia/stdlib/v1.0/FileWatching/src/FileWatching.jl:609\n",
       "[250] hmac_sha1(key::Array{UInt8,1}, str::AbstractString) in SHA at /buildworker/worker/package_linux64/build/usr/share/julia/stdlib/v1.0/SHA/src/SHA.jl:62\n",
       "[251] hmac_sha224(key::Array{UInt8,1}, str::AbstractString) in SHA at /buildworker/worker/package_linux64/build/usr/share/julia/stdlib/v1.0/SHA/src/SHA.jl:62\n",
       "[252] hmac_sha256(key::Array{UInt8,1}, str::AbstractString) in SHA at /buildworker/worker/package_linux64/build/usr/share/julia/stdlib/v1.0/SHA/src/SHA.jl:62\n",
       "[253] hmac_sha2_224(key::Array{UInt8,1}, str::AbstractString) in SHA at /buildworker/worker/package_linux64/build/usr/share/julia/stdlib/v1.0/SHA/src/SHA.jl:62\n",
       "[254] hmac_sha2_256(key::Array{UInt8,1}, str::AbstractString) in SHA at /buildworker/worker/package_linux64/build/usr/share/julia/stdlib/v1.0/SHA/src/SHA.jl:62\n",
       "[255] hmac_sha2_384(key::Array{UInt8,1}, str::AbstractString) in SHA at /buildworker/worker/package_linux64/build/usr/share/julia/stdlib/v1.0/SHA/src/SHA.jl:62\n",
       "[256] hmac_sha2_512(key::Array{UInt8,1}, str::AbstractString) in SHA at /buildworker/worker/package_linux64/build/usr/share/julia/stdlib/v1.0/SHA/src/SHA.jl:62\n",
       "[257] hmac_sha384(key::Array{UInt8,1}, str::AbstractString) in SHA at /buildworker/worker/package_linux64/build/usr/share/julia/stdlib/v1.0/SHA/src/SHA.jl:62\n",
       "[258] hmac_sha3_224(key::Array{UInt8,1}, str::AbstractString) in SHA at /buildworker/worker/package_linux64/build/usr/share/julia/stdlib/v1.0/SHA/src/SHA.jl:62\n",
       "[259] hmac_sha3_256(key::Array{UInt8,1}, str::AbstractString) in SHA at /buildworker/worker/package_linux64/build/usr/share/julia/stdlib/v1.0/SHA/src/SHA.jl:62\n",
       "[260] hmac_sha3_384(key::Array{UInt8,1}, str::AbstractString) in SHA at /buildworker/worker/package_linux64/build/usr/share/julia/stdlib/v1.0/SHA/src/SHA.jl:62\n",
       "[261] hmac_sha3_512(key::Array{UInt8,1}, str::AbstractString) in SHA at /buildworker/worker/package_linux64/build/usr/share/julia/stdlib/v1.0/SHA/src/SHA.jl:62\n",
       "[262] hmac_sha512(key::Array{UInt8,1}, str::AbstractString) in SHA at /buildworker/worker/package_linux64/build/usr/share/julia/stdlib/v1.0/SHA/src/SHA.jl:62\n",
       "[263] sha1(str::AbstractString) in SHA at /buildworker/worker/package_linux64/build/usr/share/julia/stdlib/v1.0/SHA/src/SHA.jl:60\n",
       "[264] sha224(str::AbstractString) in SHA at /buildworker/worker/package_linux64/build/usr/share/julia/stdlib/v1.0/SHA/src/SHA.jl:60\n",
       "[265] sha256(str::AbstractString) in SHA at /buildworker/worker/package_linux64/build/usr/share/julia/stdlib/v1.0/SHA/src/SHA.jl:60\n",
       "[266] sha2_224(str::AbstractString) in SHA at /buildworker/worker/package_linux64/build/usr/share/julia/stdlib/v1.0/SHA/src/SHA.jl:60\n",
       "[267] sha2_256(str::AbstractString) in SHA at /buildworker/worker/package_linux64/build/usr/share/julia/stdlib/v1.0/SHA/src/SHA.jl:60\n",
       "[268] sha2_384(str::AbstractString) in SHA at /buildworker/worker/package_linux64/build/usr/share/julia/stdlib/v1.0/SHA/src/SHA.jl:60\n",
       "[269] sha2_512(str::AbstractString) in SHA at /buildworker/worker/package_linux64/build/usr/share/julia/stdlib/v1.0/SHA/src/SHA.jl:60\n",
       "[270] sha384(str::AbstractString) in SHA at /buildworker/worker/package_linux64/build/usr/share/julia/stdlib/v1.0/SHA/src/SHA.jl:60\n",
       "[271] sha3_224(str::AbstractString) in SHA at /buildworker/worker/package_linux64/build/usr/share/julia/stdlib/v1.0/SHA/src/SHA.jl:60\n",
       "[272] sha3_256(str::AbstractString) in SHA at /buildworker/worker/package_linux64/build/usr/share/julia/stdlib/v1.0/SHA/src/SHA.jl:60\n",
       "[273] sha3_384(str::AbstractString) in SHA at /buildworker/worker/package_linux64/build/usr/share/julia/stdlib/v1.0/SHA/src/SHA.jl:60\n",
       "[274] sha3_512(str::AbstractString) in SHA at /buildworker/worker/package_linux64/build/usr/share/julia/stdlib/v1.0/SHA/src/SHA.jl:60\n",
       "[275] sha512(str::AbstractString) in SHA at /buildworker/worker/package_linux64/build/usr/share/julia/stdlib/v1.0/SHA/src/SHA.jl:60\n",
       "[276] installkernel(name::AbstractString, julia_options::AbstractString...) in IJulia at /home/pybokeh/.julia/packages/IJulia/9RcVi/deps/kspec.jl:36\n",
       "[277] send_status(state::AbstractString) in IJulia at /home/pybokeh/.julia/packages/IJulia/9RcVi/src/msg.jl:96\n",
       "[278] send_status(state::AbstractString, parent_msg::IJulia.Msg) in IJulia at /home/pybokeh/.julia/packages/IJulia/9RcVi/src/msg.jl:96\n",
       "[279] subscribe(socket::ZMQ.Socket, filter::Union{AbstractString, Array}) in ZMQ at /home/pybokeh/.julia/packages/ZMQ/yClfT/src/ZMQ.jl:241\n",
       "[280] unsubscribe(socket::ZMQ.Socket, filter::Union{AbstractString, Array}) in ZMQ at /home/pybokeh/.julia/packages/ZMQ/yClfT/src/ZMQ.jl:241\n",
       "[281] dlopen(s::AbstractString) in Libdl at /buildworker/worker/package_linux64/build/usr/share/julia/stdlib/v1.0/Libdl/src/Libdl.jl:97\n",
       "[282] dlopen(s::AbstractString, flags::Integer) in Libdl at /buildworker/worker/package_linux64/build/usr/share/julia/stdlib/v1.0/Libdl/src/Libdl.jl:97\n",
       "[283] dlopen_e(s::AbstractString) in Libdl at /buildworker/worker/package_linux64/build/usr/share/julia/stdlib/v1.0/Libdl/src/Libdl.jl:110\n",
       "[284] dlopen_e(s::AbstractString, flags::Integer) in Libdl at /buildworker/worker/package_linux64/build/usr/share/julia/stdlib/v1.0/Libdl/src/Libdl.jl:110\n",
       "[285] dlpath(libname::Union{AbstractString, Symbol}) in Libdl at /buildworker/worker/package_linux64/build/usr/share/julia/stdlib/v1.0/Libdl/src/Libdl.jl:160\n",
       "[286] dlsym(hnd::Ptr, s::Union{AbstractString, Symbol}) in Libdl at /buildworker/worker/package_linux64/build/usr/share/julia/stdlib/v1.0/Libdl/src/Libdl.jl:54\n",
       "[287] dlsym_e(hnd::Ptr, s::Union{AbstractString, Symbol}) in Libdl at /buildworker/worker/package_linux64/build/usr/share/julia/stdlib/v1.0/Libdl/src/Libdl.jl:64\n",
       "[288] find_library(libname::Union{AbstractString, Symbol}) in Libdl at /buildworker/worker/package_linux64/build/usr/share/julia/stdlib/v1.0/Libdl/src/Libdl.jl:149\n",
       "[289] find_library(libname::Union{AbstractString, Symbol}, extrapaths) in Libdl at /buildworker/worker/package_linux64/build/usr/share/julia/stdlib/v1.0/Libdl/src/Libdl.jl:149\n",
       "[290] stringmime(m::AbstractString, x) in Base64 at /buildworker/worker/package_linux64/build/usr/share/julia/stdlib/v1.0/Base64/src/Base64.jl:39"
      ]
     },
     "execution_count": 20,
     "metadata": {},
     "output_type": "execute_result"
    }
   ],
   "source": [
    "methodswith(AbstractString)"
   ]
  }
 ],
 "metadata": {
  "_draft": {
   "nbviewer_url": "https://gist.github.com/d44cd210cc7378a6488d507b8e6249de"
  },
  "gist": {
   "data": {
    "description": "julia/Untitled.ipynb",
    "public": true
   },
   "id": "d44cd210cc7378a6488d507b8e6249de"
  },
  "hide_input": false,
  "kernelspec": {
   "display_name": "Julia 1.0.0",
   "language": "julia",
   "name": "julia-1.0"
  },
  "language_info": {
   "file_extension": ".jl",
   "mimetype": "application/julia",
   "name": "julia",
   "version": "1.0.0"
  }
 },
 "nbformat": 4,
 "nbformat_minor": 2
}
