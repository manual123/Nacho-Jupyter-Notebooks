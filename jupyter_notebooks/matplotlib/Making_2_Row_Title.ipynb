{
 "cells": [
  {
   "cell_type": "code",
   "execution_count": 1,
   "metadata": {},
   "outputs": [
    {
     "name": "stdout",
     "output_type": "stream",
     "text": [
      "Enter replaced part#(s) separated by comma: 79115\n",
      "Enter model year(s) separated by comma: 2012\n",
      "Enter factory code(s) separated by comma: ELP\n",
      "Enter model name(s) separated by comma: FOCUS\n",
      "Enter destination code(s), separated by comma: KA,KL\n"
     ]
    }
   ],
   "source": [
    "import pyodbc                # Needed to connect to ODBC data sources\n",
    "import base64                # Needed to de-fuzzy my encrypted password\n",
    "import numpy as np\n",
    "import matplotlib.pyplot as plt\n",
    "from datetime import datetime\n",
    "from matplotlib.dates import MonthLocator, WeekdayLocator, DateFormatter\n",
    "from matplotlib.ticker import MultipleLocator\n",
    "import pandas as pd\n",
    "\n",
    "pw_file = open(r'D:\\webapps\\_server\\pyodbc\\cmq.txt', 'r')\n",
    "pw = base64.b64decode(pw_file.read()).decode('utf-8')\n",
    "userid = 'yomama'\n",
    "pw_file.close()\n",
    "\n",
    "cnxn_string = 'DSN=yo_db;UID=' + userid + ';PWD=' + pw\n",
    "\n",
    "cnxn = pyodbc.connect(cnxn_string)\n",
    "cursor = cnxn.cursor()\n",
    "\n",
    "# Get the necessary input from the user\n",
    "repl_part = input(\"Enter replaced part#(s) separated by comma: \")\n",
    "year = input(\"Enter model year(s) separated by comma: \")\n",
    "factory = input(\"Enter factory code(s) separated by comma: \")\n",
    "model = input(\"Enter model name(s) separated by comma: \")\n",
    "dest_code = input(\"Enter destination code(s), separated by comma: \")\n",
    "\n",
    "# Make a list for each parameter input\n",
    "repl_parts = repl_part.split(',')\n",
    "years      = year.split(',')\n",
    "factories  = factory.split(',')\n",
    "models     = model.split(',')\n",
    "dest_codes = dest_code.split(',')\n",
    "\n",
    "# Now get the number of items in each list so that we can properly use th .join() function above\n",
    "R = len(repl_parts)  # The number of replaced part #s the user entered\n",
    "Y = len(years)       # The number of years the user entered\n",
    "F = len(factories)   # The number of factories the user entered\n",
    "M = len(models)      # The number of models the user entered\n",
    "D = len(dest_codes)  # The number of destination codes the user entered\n",
    "\n",
    "# In this SQL, there are 5 parameters that we want to get input from the user using IN(%s)\n",
    "sql = \"\"\"\n",
    "WITH REPL AS\n",
    "(SELECT\n",
    "REPL_PART_SK,\n",
    "CLM_SK\n",
    "\n",
    "FROM CMQ.V_FACT_CLM_REPL_PART REPL\n",
    "INNER JOIN CMQ.V_DIM_PART PART\n",
    "ON REPL.REPL_PART_SK = PART.PART_SK\n",
    "\n",
    "WHERE\n",
    "PART.SHRT_PART_NO IN(%s)\n",
    "),\n",
    "\n",
    "VINS AS\n",
    "(SELECT DISTINCT\n",
    "PROD.VIN_SK,\n",
    "PROD.VIN_NO\n",
    "\n",
    "FROM\n",
    "CMQ.V_FACT_VHCL_PRDN_SLS PROD\n",
    "\n",
    "INNER JOIN CMQ.V_DIM_MTO MTO\n",
    "ON PROD.MTO_SK = MTO.MTO_SK\n",
    "\n",
    "WHERE\n",
    "MTO.MDL_YR IN(%s)\n",
    "AND MTO.FCTRY_CD IN(%s)\n",
    "AND MTO.MDL_NM IN(%s)\n",
    "AND DEST_CD IN(%s)\n",
    ")\n",
    "\n",
    "SELECT\n",
    "REC_DT,\n",
    "COUNT(*) AS QTY\n",
    "\n",
    "FROM(\n",
    "SELECT\n",
    "REPL.CLM_SK,\n",
    "VINS.VIN_NO,\n",
    "REC_CAL.CAL_DT AS REC_DT,\n",
    "DPART.SHRT_PART_NO AS REPL_PART\n",
    "\n",
    "FROM\n",
    "CMQ.V_FACT_CLM_TRX CLAIMS\n",
    "INNER JOIN REPL\n",
    "ON CLAIMS.CLM_SK = REPL.CLM_SK\n",
    "\n",
    "INNER JOIN VINS\n",
    "ON CLAIMS.VIN_SK = VINS.VIN_SK\n",
    "\n",
    "INNER JOIN CMQ.V_DIM_DATE REC_CAL\n",
    "ON CLAIMS.CMQ_RCV_DT_SK = REC_CAL.CAL_DT_SK\n",
    "\n",
    "INNER JOIN CMQ.V_DIM_PART DPART\n",
    "ON REPL.REPL_PART_SK = DPART.PART_SK\n",
    ") AS TEMP\n",
    "\n",
    "GROUP BY\n",
    "REC_DT\n",
    "\"\"\" % (\",\".join(\"?\" * R), \",\".join(\"?\" * Y), \",\".join(\"?\" * F), \",\".join(\"?\" * M), \",\".join(\"?\" * D))\n",
    "# The join functions above are what makes prepared statements with IN() possible!  R, Y, F, M, and D are the \n",
    "# number of values that the user has submitted for those respective ? parameters\n",
    "# The join() function will generate a string such that we get: ?,?,?,...where the number of ?s are determined\n",
    "# by how many values that were entered by the user separated by commas\n",
    "\n",
    "parameter_list = []\n",
    "for part in repl_parts:\n",
    "    parameter_list.append(part)\n",
    "    \n",
    "for year in years:\n",
    "    parameter_list.append(year)\n",
    "    \n",
    "for factory in factories:\n",
    "    parameter_list.append(factory)\n",
    "\n",
    "for model in models:\n",
    "    parameter_list.append(model)\n",
    "    \n",
    "for code in dest_codes:\n",
    "    parameter_list.append(code)\n",
    "\n",
    "df = pd.read_sql(sql, cnxn, index_col=\"REC_DT\", params=parameter_list)\n",
    "\n",
    "# Close connections\n",
    "cursor.close()\n",
    "cnxn.close()"
   ]
  },
  {
   "cell_type": "markdown",
   "metadata": {},
   "source": [
    "#### When we create the Pandas DataFrame from the read_sql() method, the index values are of type datetime.date, but I prefer that they be of type datetime.datetime so that we can slice our data with dates."
   ]
  },
  {
   "cell_type": "code",
   "execution_count": 4,
   "metadata": {},
   "outputs": [],
   "source": [
    "dates = [datetime(date.year,date.month,date.day) for date in df.index]\n",
    "qty = [qty[0] for qty in df.values]\n",
    "ts = pd.DataFrame(data=qty, index=dates, columns=[\"QTY\"])"
   ]
  },
  {
   "cell_type": "markdown",
   "metadata": {},
   "source": [
    "#### To illustrate why the index with type datetime.date is a disadvantage, I can't do some useful filtering by date range."
   ]
  },
  {
   "cell_type": "raw",
   "metadata": {},
   "source": [
    "For example, let's say I want to get all quantities from 10/1/2013 and onwards:"
   ]
  },
  {
   "cell_type": "code",
   "execution_count": 5,
   "metadata": {},
   "outputs": [
    {
     "ename": "TypeError",
     "evalue": "unorderable types: datetime.date() > str()",
     "output_type": "error",
     "traceback": [
      "\u001b[1;31m---------------------------------------------------------------------------\u001b[0m\n\u001b[1;31mTypeError\u001b[0m                                 Traceback (most recent call last)",
      "\u001b[1;32m<ipython-input-5-3d7bdb23bd1c>\u001b[0m in \u001b[0;36m<module>\u001b[1;34m()\u001b[0m\n\u001b[1;32m----> 1\u001b[1;33m \u001b[0mdf\u001b[0m\u001b[1;33m[\u001b[0m\u001b[1;34m\"2013-10-01\"\u001b[0m\u001b[1;33m:\u001b[0m\u001b[1;34m\"2013-10-30\"\u001b[0m\u001b[1;33m]\u001b[0m  \u001b[1;31m# Get an error\u001b[0m\u001b[1;33m\u001b[0m\u001b[0m\n\u001b[0m",
      "\u001b[1;32md:\\_Python33\\lib\\site-packages\\pandas\\core\\frame.py\u001b[0m in \u001b[0;36m__getitem__\u001b[1;34m(self, key)\u001b[0m\n\u001b[0;32m   1987\u001b[0m \u001b[1;33m\u001b[0m\u001b[0m\n\u001b[0;32m   1988\u001b[0m         \u001b[1;31m# see if we can slice the rows\u001b[0m\u001b[1;33m\u001b[0m\u001b[1;33m\u001b[0m\u001b[0m\n\u001b[1;32m-> 1989\u001b[1;33m         \u001b[0mindexer\u001b[0m \u001b[1;33m=\u001b[0m \u001b[0m_convert_to_index_sliceable\u001b[0m\u001b[1;33m(\u001b[0m\u001b[0mself\u001b[0m\u001b[1;33m,\u001b[0m \u001b[0mkey\u001b[0m\u001b[1;33m)\u001b[0m\u001b[1;33m\u001b[0m\u001b[0m\n\u001b[0m\u001b[0;32m   1990\u001b[0m         \u001b[1;32mif\u001b[0m \u001b[0mindexer\u001b[0m \u001b[1;32mis\u001b[0m \u001b[1;32mnot\u001b[0m \u001b[1;32mNone\u001b[0m\u001b[1;33m:\u001b[0m\u001b[1;33m\u001b[0m\u001b[0m\n\u001b[0;32m   1991\u001b[0m             \u001b[1;32mreturn\u001b[0m \u001b[0mself\u001b[0m\u001b[1;33m.\u001b[0m\u001b[0m_getitem_slice\u001b[0m\u001b[1;33m(\u001b[0m\u001b[0mindexer\u001b[0m\u001b[1;33m)\u001b[0m\u001b[1;33m\u001b[0m\u001b[0m\n",
      "\u001b[1;32md:\\_Python33\\lib\\site-packages\\pandas\\core\\indexing.py\u001b[0m in \u001b[0;36m_convert_to_index_sliceable\u001b[1;34m(obj, key)\u001b[0m\n\u001b[0;32m    918\u001b[0m             \u001b[0mindexer\u001b[0m \u001b[1;33m=\u001b[0m \u001b[0mkey\u001b[0m\u001b[1;33m\u001b[0m\u001b[0m\n\u001b[0;32m    919\u001b[0m         \u001b[1;32melse\u001b[0m\u001b[1;33m:\u001b[0m\u001b[1;33m\u001b[0m\u001b[0m\n\u001b[1;32m--> 920\u001b[1;33m             \u001b[0mindexer\u001b[0m \u001b[1;33m=\u001b[0m \u001b[0mobj\u001b[0m\u001b[1;33m.\u001b[0m\u001b[0mix\u001b[0m\u001b[1;33m.\u001b[0m\u001b[0m_convert_to_indexer\u001b[0m\u001b[1;33m(\u001b[0m\u001b[0mkey\u001b[0m\u001b[1;33m,\u001b[0m \u001b[0maxis\u001b[0m\u001b[1;33m=\u001b[0m\u001b[1;36m0\u001b[0m\u001b[1;33m)\u001b[0m\u001b[1;33m\u001b[0m\u001b[0m\n\u001b[0m\u001b[0;32m    921\u001b[0m         \u001b[1;32mreturn\u001b[0m \u001b[0mindexer\u001b[0m\u001b[1;33m\u001b[0m\u001b[0m\n\u001b[0;32m    922\u001b[0m \u001b[1;33m\u001b[0m\u001b[0m\n",
      "\u001b[1;32md:\\_Python33\\lib\\site-packages\\pandas\\core\\indexing.py\u001b[0m in \u001b[0;36m_convert_to_indexer\u001b[1;34m(self, obj, axis)\u001b[0m\n\u001b[0;32m    558\u001b[0m             \u001b[1;32melse\u001b[0m\u001b[1;33m:\u001b[0m\u001b[1;33m\u001b[0m\u001b[0m\n\u001b[0;32m    559\u001b[0m                 \u001b[1;32mtry\u001b[0m\u001b[1;33m:\u001b[0m\u001b[1;33m\u001b[0m\u001b[0m\n\u001b[1;32m--> 560\u001b[1;33m                     \u001b[0mindexer\u001b[0m \u001b[1;33m=\u001b[0m \u001b[0mlabels\u001b[0m\u001b[1;33m.\u001b[0m\u001b[0mslice_indexer\u001b[0m\u001b[1;33m(\u001b[0m\u001b[0mstart\u001b[0m\u001b[1;33m,\u001b[0m \u001b[0mstop\u001b[0m\u001b[1;33m,\u001b[0m \u001b[0mobj\u001b[0m\u001b[1;33m.\u001b[0m\u001b[0mstep\u001b[0m\u001b[1;33m)\u001b[0m\u001b[1;33m\u001b[0m\u001b[0m\n\u001b[0m\u001b[0;32m    561\u001b[0m                 \u001b[1;32mexcept\u001b[0m \u001b[0mException\u001b[0m\u001b[1;33m:\u001b[0m\u001b[1;33m\u001b[0m\u001b[0m\n\u001b[0;32m    562\u001b[0m                     \u001b[1;32mif\u001b[0m \u001b[0m_is_index_slice\u001b[0m\u001b[1;33m(\u001b[0m\u001b[0mobj\u001b[0m\u001b[1;33m)\u001b[0m\u001b[1;33m:\u001b[0m\u001b[1;33m\u001b[0m\u001b[0m\n",
      "\u001b[1;32md:\\_Python33\\lib\\site-packages\\pandas\\core\\index.py\u001b[0m in \u001b[0;36mslice_indexer\u001b[1;34m(self, start, end, step)\u001b[0m\n\u001b[0;32m   1180\u001b[0m         \u001b[0mThis\u001b[0m \u001b[0mfunction\u001b[0m \u001b[0massumes\u001b[0m \u001b[0mthat\u001b[0m \u001b[0mthe\u001b[0m \u001b[0mdata\u001b[0m \u001b[1;32mis\u001b[0m \u001b[0msorted\u001b[0m\u001b[1;33m,\u001b[0m \u001b[0mso\u001b[0m \u001b[0muse\u001b[0m \u001b[0mat\u001b[0m \u001b[0myour\u001b[0m \u001b[0mown\u001b[0m \u001b[0mperil\u001b[0m\u001b[1;33m\u001b[0m\u001b[0m\n\u001b[0;32m   1181\u001b[0m         \"\"\"\n\u001b[1;32m-> 1182\u001b[1;33m         \u001b[0mstart_slice\u001b[0m\u001b[1;33m,\u001b[0m \u001b[0mend_slice\u001b[0m \u001b[1;33m=\u001b[0m \u001b[0mself\u001b[0m\u001b[1;33m.\u001b[0m\u001b[0mslice_locs\u001b[0m\u001b[1;33m(\u001b[0m\u001b[0mstart\u001b[0m\u001b[1;33m,\u001b[0m \u001b[0mend\u001b[0m\u001b[1;33m)\u001b[0m\u001b[1;33m\u001b[0m\u001b[0m\n\u001b[0m\u001b[0;32m   1183\u001b[0m \u001b[1;33m\u001b[0m\u001b[0m\n\u001b[0;32m   1184\u001b[0m         \u001b[1;31m# return a slice\u001b[0m\u001b[1;33m\u001b[0m\u001b[1;33m\u001b[0m\u001b[0m\n",
      "\u001b[1;32md:\\_Python33\\lib\\site-packages\\pandas\\core\\index.py\u001b[0m in \u001b[0;36mslice_locs\u001b[1;34m(self, start, end)\u001b[0m\n\u001b[0;32m   1229\u001b[0m             \u001b[1;32mexcept\u001b[0m \u001b[0mKeyError\u001b[0m\u001b[1;33m:\u001b[0m\u001b[1;33m\u001b[0m\u001b[0m\n\u001b[0;32m   1230\u001b[0m                 \u001b[1;32mif\u001b[0m \u001b[0mself\u001b[0m\u001b[1;33m.\u001b[0m\u001b[0mis_monotonic\u001b[0m\u001b[1;33m:\u001b[0m\u001b[1;33m\u001b[0m\u001b[0m\n\u001b[1;32m-> 1231\u001b[1;33m                     \u001b[0mstart_slice\u001b[0m \u001b[1;33m=\u001b[0m \u001b[0mself\u001b[0m\u001b[1;33m.\u001b[0m\u001b[0msearchsorted\u001b[0m\u001b[1;33m(\u001b[0m\u001b[0mstart\u001b[0m\u001b[1;33m,\u001b[0m \u001b[0mside\u001b[0m\u001b[1;33m=\u001b[0m\u001b[1;34m'left'\u001b[0m\u001b[1;33m)\u001b[0m\u001b[1;33m\u001b[0m\u001b[0m\n\u001b[0m\u001b[0;32m   1232\u001b[0m                 \u001b[1;32melse\u001b[0m\u001b[1;33m:\u001b[0m\u001b[1;33m\u001b[0m\u001b[0m\n\u001b[0;32m   1233\u001b[0m                     \u001b[1;32mraise\u001b[0m\u001b[1;33m\u001b[0m\u001b[0m\n",
      "\u001b[1;31mTypeError\u001b[0m: unorderable types: datetime.date() > str()"
     ]
    }
   ],
   "source": [
    "df[\"2013-10-01\":\"2013-10-30\"]  # Get an error"
   ]
  },
  {
   "cell_type": "markdown",
   "metadata": {},
   "source": [
    "#### But when the index is of type datetime.datetime, we can do that type of filtering:"
   ]
  },
  {
   "cell_type": "code",
   "execution_count": 6,
   "metadata": {},
   "outputs": [
    {
     "data": {
      "text/html": [
       "<div style=\"max-height:1000px;max-width:1500px;overflow:auto;\">\n",
       "<table border=\"1\" class=\"dataframe\">\n",
       "  <thead>\n",
       "    <tr style=\"text-align: right;\">\n",
       "      <th></th>\n",
       "      <th>QTY</th>\n",
       "    </tr>\n",
       "  </thead>\n",
       "  <tbody>\n",
       "    <tr>\n",
       "      <th>2013-10-03</th>\n",
       "      <td> 1</td>\n",
       "    </tr>\n",
       "    <tr>\n",
       "      <th>2013-10-07</th>\n",
       "      <td> 1</td>\n",
       "    </tr>\n",
       "    <tr>\n",
       "      <th>2013-10-08</th>\n",
       "      <td> 1</td>\n",
       "    </tr>\n",
       "    <tr>\n",
       "      <th>2013-10-09</th>\n",
       "      <td> 1</td>\n",
       "    </tr>\n",
       "    <tr>\n",
       "      <th>2013-10-11</th>\n",
       "      <td> 1</td>\n",
       "    </tr>\n",
       "    <tr>\n",
       "      <th>2013-10-14</th>\n",
       "      <td> 1</td>\n",
       "    </tr>\n",
       "    <tr>\n",
       "      <th>2013-10-15</th>\n",
       "      <td> 2</td>\n",
       "    </tr>\n",
       "    <tr>\n",
       "      <th>2013-10-16</th>\n",
       "      <td> 3</td>\n",
       "    </tr>\n",
       "    <tr>\n",
       "      <th>2013-10-17</th>\n",
       "      <td> 3</td>\n",
       "    </tr>\n",
       "    <tr>\n",
       "      <th>2013-10-21</th>\n",
       "      <td> 1</td>\n",
       "    </tr>\n",
       "    <tr>\n",
       "      <th>2013-10-22</th>\n",
       "      <td> 3</td>\n",
       "    </tr>\n",
       "    <tr>\n",
       "      <th>2013-10-23</th>\n",
       "      <td> 3</td>\n",
       "    </tr>\n",
       "    <tr>\n",
       "      <th>2013-10-24</th>\n",
       "      <td> 1</td>\n",
       "    </tr>\n",
       "    <tr>\n",
       "      <th>2013-10-25</th>\n",
       "      <td> 3</td>\n",
       "    </tr>\n",
       "    <tr>\n",
       "      <th>2013-10-28</th>\n",
       "      <td> 3</td>\n",
       "    </tr>\n",
       "    <tr>\n",
       "      <th>2013-10-29</th>\n",
       "      <td> 3</td>\n",
       "    </tr>\n",
       "    <tr>\n",
       "      <th>2013-10-30</th>\n",
       "      <td> 5</td>\n",
       "    </tr>\n",
       "  </tbody>\n",
       "</table>\n",
       "</div>"
      ],
      "text/plain": [
       "            QTY\n",
       "2013-10-03    1\n",
       "2013-10-07    1\n",
       "2013-10-08    1\n",
       "2013-10-09    1\n",
       "2013-10-11    1\n",
       "2013-10-14    1\n",
       "2013-10-15    2\n",
       "2013-10-16    3\n",
       "2013-10-17    3\n",
       "2013-10-21    1\n",
       "2013-10-22    3\n",
       "2013-10-23    3\n",
       "2013-10-24    1\n",
       "2013-10-25    3\n",
       "2013-10-28    3\n",
       "2013-10-29    3\n",
       "2013-10-30    5"
      ]
     },
     "execution_count": 6,
     "metadata": {},
     "output_type": "execute_result"
    }
   ],
   "source": [
    "ts[\"2013-10-01\":\"2013-10-30\"]"
   ]
  },
  {
   "cell_type": "code",
   "execution_count": 7,
   "metadata": {},
   "outputs": [
    {
     "data": {
      "image/png": "[encoded data removed]",
      "text/plain": [
       "<matplotlib.figure.Figure at 0x79fd2f0>"
      ]
     },
     "metadata": {},
     "output_type": "display_data"
    }
   ],
   "source": [
    "fig = plt.figure()\n",
    "ax = plt.subplot(1,1,1)\n",
    "\n",
    "# Let's define x-axis date interval sizes: month, week, or day\n",
    "month_interval = 1   \n",
    "months = MonthLocator(bymonth=range(1,13),  bymonthday=1, interval=month_interval)\n",
    "month  = MonthLocator(bymonth=range(1,13),  bymonthday=1, interval=1)\n",
    "week   = WeekdayLocator(byweekday=MO)  # Every MOnday\n",
    "day    = DayLocator(bymonthday=range(1,32), interval=1)\n",
    "\n",
    "# Let's define x-axis formatting intervals\n",
    "monthsFmt = DateFormatter(\"%b '%y\")\n",
    "ax.xaxis.set_major_locator(months)\n",
    "ax.xaxis.set_major_formatter(monthsFmt)\n",
    "ax.xaxis.set_minor_locator(week)\n",
    "ax.xaxis.grid(which='major')\n",
    "\n",
    "# Let's define y-axis formatting\n",
    "y_major_ticks = MultipleLocator(5)\n",
    "ax.yaxis.set_major_locator(y_major_ticks)\n",
    "ax.yaxis.grid(which='major')\n",
    "\n",
    "#plt.title(\"\\large{Plotting Dates}\")\n",
    "plt.bar(ts.index, ts.values)\n",
    "plt.title(\"By ReceiveDate\",fontsize=8)\n",
    "plt.xticks(rotation=-90)\n",
    "plt.xlabel(\"Received Date\\nMajor ticks=months\\nMinor ticks=weeks\")\n",
    "plt.ylabel(\"Claim Qty\")\n",
    "ax.text(.255,1.07, \"12M ELP FOCUS Heater Core Claims\", transform=ax.transAxes)\n",
    "plt.show()"
   ]
  },
  {
   "cell_type": "code",
   "execution_count": 8,
   "metadata": {},
   "outputs": [],
   "source": [
    "subset = ts[\"2013-10-01\":]"
   ]
  },
  {
   "cell_type": "code",
   "execution_count": 9,
   "metadata": {},
   "outputs": [
    {
     "data": {
      "image/png": "[encoded data removed]",
      "text/plain": [
       "<matplotlib.figure.Figure at 0x3fb99f0>"
      ]
     },
     "metadata": {},
     "output_type": "display_data"
    }
   ],
   "source": [
    "plt.bar(subset.index, subset.values)\n",
    "plt.show()"
   ]
  }
 ],
 "metadata": {
  "hide_input": false,
  "kernelspec": {
   "display_name": "Python 3",
   "language": "python",
   "name": "python3"
  },
  "language_info": {
   "codemirror_mode": {
    "name": "ipython",
    "version": 3
   },
   "file_extension": ".py",
   "mimetype": "text/x-python",
   "name": "python",
   "nbconvert_exporter": "python",
   "pygments_lexer": "ipython3",
   "version": "3.6.1"
  }
 },
 "nbformat": 4,
 "nbformat_minor": 1
}
