{
 "cells": [
  {
   "cell_type": "markdown",
   "metadata": {},
   "source": [
    "<center><h2>Python Script that charts bitcoin prices in US dollars</h2></center>"
   ]
  },
  {
   "cell_type": "code",
   "execution_count": 1,
   "metadata": {
    "collapsed": false,
    "hide_input": true,
    "run_control": {
     "read_only": false
    }
   },
   "outputs": [],
   "source": [
    "%matplotlib inline\n",
    "import pandas as pd\n",
    "import matplotlib.pyplot as plt\n",
    "from matplotlib.dates import YearLocator, MonthLocator, WeekdayLocator, DayLocator, DateFormatter\n",
    "import dateutil\n",
    "from matplotlib.ticker import MultipleLocator\n",
    "from datetime import datetime\n",
    "from datetime import date\n",
    "\n",
    "# Data metadata:\n",
    "# CSV file where first column is string date in dd/mm/YYYY H:M:S format and second column is the bitcoin price in US dollars\n",
    "# Pandas.read_csv has an awesome converters parameter that allows us to convert or modify a column's data on the fly!\n",
    "# Therefore, we can read the first column as an actual Python datetime object instead of as a string.\n",
    "# Because there is time info with the date, it causes the x-axis ticks to not correspond with the data.\n",
    "# As a workaround, I stripped the time from the date values by invoking datetime.date()\n",
    "bitcoin_data = pd.read_csv(\"http://blockchain.info/charts/market-price?showDataPoints=false&timespan=&show_header=true&daysAverageString=1&scale=0&format=csv&address=\",\n",
    "                 index_col=0, names=['price'], converters={0: lambda x: datetime.date(datetime.strptime(x, '%d/%m/%Y %H:%M:%S'))})"
   ]
  },
  {
   "cell_type": "markdown",
   "metadata": {},
   "source": [
    "#### Let's view just the last 5 rows of the bitcoin data:"
   ]
  },
  {
   "cell_type": "code",
   "execution_count": 2,
   "metadata": {
    "collapsed": false,
    "run_control": {
     "read_only": false
    }
   },
   "outputs": [
    {
     "data": {
      "text/html": [
       "<div style=\"max-height:1000px;max-width:1500px;overflow:auto;\">\n",
       "<table border=\"1\" class=\"dataframe\">\n",
       "  <thead>\n",
       "    <tr style=\"text-align: right;\">\n",
       "      <th></th>\n",
       "      <th>price</th>\n",
       "    </tr>\n",
       "  </thead>\n",
       "  <tbody>\n",
       "    <tr>\n",
       "      <th>2014-01-13</th>\n",
       "      <td> 921.11375</td>\n",
       "    </tr>\n",
       "    <tr>\n",
       "      <th>2014-01-14</th>\n",
       "      <td> 921.79259</td>\n",
       "    </tr>\n",
       "    <tr>\n",
       "      <th>2014-01-15</th>\n",
       "      <td> 947.41573</td>\n",
       "    </tr>\n",
       "    <tr>\n",
       "      <th>2014-01-16</th>\n",
       "      <td> 936.95456</td>\n",
       "    </tr>\n",
       "    <tr>\n",
       "      <th>2014-01-17</th>\n",
       "      <td> 911.31419</td>\n",
       "    </tr>\n",
       "  </tbody>\n",
       "</table>\n",
       "<p>5 rows × 1 columns</p>\n",
       "</div>"
      ],
      "text/plain": [
       "                price\n",
       "2014-01-13  921.11375\n",
       "2014-01-14  921.79259\n",
       "2014-01-15  947.41573\n",
       "2014-01-16  936.95456\n",
       "2014-01-17  911.31419\n",
       "\n",
       "[5 rows x 1 columns]"
      ]
     },
     "execution_count": 2,
     "metadata": {},
     "output_type": "execute_result"
    }
   ],
   "source": [
    "bitcoin_data.tail()"
   ]
  },
  {
   "cell_type": "markdown",
   "metadata": {},
   "source": [
    "#### Now, let's plot the data.  Top chart will be all data available in monthly x-ticks intervals, bottom chart will be just last 2 calendar months of data, with daily x-ticks intervals."
   ]
  },
  {
   "cell_type": "code",
   "execution_count": null,
   "metadata": {
    "collapsed": true,
    "run_control": {
     "read_only": false
    }
   },
   "outputs": [],
   "source": [
    "fig, axes = plt.subplots(2, 1)  # Make 2 rows and 1 column of plots (2 plots total)\n",
    "\n",
    "# These are just time intervals we can use to format our X axis tick intervals\n",
    "year   = YearLocator()\n",
    "month  = MonthLocator(bymonth=range(1,13),  bymonthday=1, interval=1)\n",
    "week   = WeekdayLocator(byweekday=dateutil.rrule.MO)  # Every MOnday or WeekdayLocator(byweekday=0) works too\n",
    "day    = DayLocator(bymonthday=range(1,32), interval=1)\n",
    "\n",
    "####################### Let's make the top plot ######################\n",
    "# Use trial and error to get the size you want\n",
    "axes[0] = fig.add_axes([0, 1.4, 1.5, 1])  # left, bottom, width, height\n",
    "\n",
    "# Format the x-axis, set tick labels as Month 'Yr format, turn on grid for major ticks\n",
    "monthsFmt = DateFormatter(\"%b '%y\")\n",
    "axes[0].xaxis.set_major_formatter(monthsFmt)\n",
    "axes[0].xaxis.set_major_locator(month)       # Make the x-axis tick interval to be monthly interval size\n",
    "axes[0].xaxis.grid(which='major')\n",
    "\n",
    "# Format the y-axis\n",
    "y_major_ticks = MultipleLocator(200)\n",
    "axes[0].yaxis.set_major_locator(y_major_ticks)\n",
    "axes[0].yaxis.set_ticks_position('right')   # Not sure why 'both' don't work\n",
    "axes[0].yaxis.set_label_position('right')\n",
    "axes[0].yaxis.grid(which='major')\n",
    "\n",
    "# Plot the data...\n",
    "axes[0].plot_date(bitcoin_data.index, bitcoin_data.values, 'r')\n",
    "axes[0].set_title(\"Bitcoin Value in US$\", weight=\"bold\")\n",
    "axes[0].set_xlabel(\"Month - Year\")\n",
    "axes[0].set_ylabel(\"US$\")\n",
    "plt.setp(axes[0].get_xticklabels(), rotation=-90)\n",
    "\n",
    "############# Let's get last 2 calendar months' worth of bitcoin prices ###########\n",
    "# But first, we must account for situation where current month is January\n",
    "today = datetime.today()\n",
    "this_month = today.month\n",
    "if this_month==1:\n",
    "    last_year = today.year - 1   # if month is January, then year will be one less than current year\n",
    "    last_month = 12              # if month is January, then previous month is Dec (12)\n",
    "else:\n",
    "    last_year = today.year       # Otherwise, last year is really same as current year and\n",
    "    last_month = this_month - 1  # last month will equal current month minus 1\n",
    "\n",
    "this_year = today.year\n",
    "\n",
    "# Pandas' filtering by date ranges only work if the dates are of type datetime.datetime\n",
    "# Unfortunately, the data parsed from the CSV file, was parsed as datetime.date\n",
    "# So we will convert bitcoin_data.index to datetime.datetime:\n",
    "bitcoin_data.index = pd.to_datetime(bitcoin_data.index)\n",
    "\n",
    "# Now I will take advantage of Pandas partial string indexing described below to get just 2 months of data:\n",
    "# http://pandas.pydata.org/pandas-docs/stable/timeseries.html#partial-string-indexing\n",
    "last2months = bitcoin_data[str(last_month)+'-'+str(last_year):str(this_month)+'-'+str(this_year)]\n",
    "\n",
    "# Get current price and also the current date, convert it to a datetime.date, then make a string from it in mm/dd/YYYY format\n",
    "current_price = last2months[-1:].values[0][0]\n",
    "last_date = last2months[-1:].index\n",
    "current_date_unformatted = date(last_date.year[0], last_date.month[0], last_date.day[0])\n",
    "current_date = datetime.strftime(current_date_unformatted, \"%m/%d/%Y\")\n",
    "\n",
    "####################### Let's make the bottom plot ######################\n",
    "axes[1] = fig.add_axes([0, 0, 1.5, 1])   # left, bottom, width, height\n",
    "\n",
    "# Format the x-axis tick labels as mm/dd/YYYY format, turn on grid for major ticks\n",
    "dayFmt = DateFormatter(\"%b-%d-%Y\")\n",
    "axes[1].xaxis.set_major_locator(day)  # Make x-axis tick interval to be daily interval size\n",
    "axes[1].xaxis.set_major_formatter(dayFmt)\n",
    "axes[1].xaxis.grid(which='major')\n",
    "\n",
    "# Format the y-axis\n",
    "y_major_ticks = MultipleLocator(20)\n",
    "axes[1].yaxis.set_major_locator(y_major_ticks)\n",
    "axes[1].yaxis.set_ticks_position('right')  # Not sure why 'both' don't work\n",
    "axes[1].yaxis.set_label_position('right')\n",
    "axes[1].yaxis.grid(which='major')\n",
    "\n",
    "# Plot the data...\n",
    "axes[1].plot_date(last2months.index, last2months.values, 'r')\n",
    "axes[1].set_title(\"Current Value@\"+current_date+\": \"+str(current_price), weight=\"bold\", size=10)\n",
    "# MATPLOTLIB does not have a good way of creating a title with 2 rows of text with different font sizes\n",
    "# Below is a workaround(http://matplotlib.org/users/text_intro.html), sort of \"hackish\" and requires trial and error (x,y)\n",
    "axes[1].text(.22,1.07, \"Last 2 Calendar Months of Bitcoin Values in US$\", transform=axes[1].transAxes,\n",
    "             weight=\"bold\", size=14)\n",
    "axes[1].set_xlabel(\"Month - Day - Year\")\n",
    "axes[1].set_ylabel(\"US$\")\n",
    "plt.setp(axes[1].get_xticklabels(), rotation=-90, size=8)\n",
    "plt.setp(axes[1].get_yticklabels(), size=9)\n",
    "plt.show()"
   ]
  }
 ],
 "metadata": {
  "hide_input": false,
  "kernelspec": {
   "display_name": "Python 3",
   "language": "python",
   "name": "python3"
  },
  "language_info": {
   "codemirror_mode": {
    "name": "ipython",
    "version": 3
   },
   "file_extension": ".py",
   "mimetype": "text/x-python",
   "name": "python",
   "nbconvert_exporter": "python",
   "pygments_lexer": "ipython3",
   "version": "3.5.1"
  }
 },
 "nbformat": 4,
 "nbformat_minor": 0
}
