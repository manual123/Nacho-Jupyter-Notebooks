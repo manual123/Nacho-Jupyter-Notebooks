{
 "cells": [
  {
   "cell_type": "code",
   "execution_count": 1,
   "metadata": {},
   "outputs": [
    {
     "name": "stdout",
     "output_type": "stream",
     "text": [
      "File path: None\n",
      "Plant code: HUM\n",
      "Labor rate: 63\n",
      "Part factor: 0.9\n",
      "Handling factor: 0.6\n",
      "Voucher start date: 2017-10-01\n",
      "Voucher end date: 2017-12-31\n"
     ]
    }
   ],
   "source": [
    "import os\n",
    "from tkinter import *\n",
    "from tkinter import filedialog\n",
    "import tkinter as tk\n",
    "\n",
    "\n",
    "class ExportVouchering:\n",
    "    def __init__(self, master):\n",
    "        self.master = master\n",
    "        master.title('ZF Export Plant Vouchering Application')\n",
    "        master.geometry('400x200')\n",
    "        self.file_path = None\n",
    "\n",
    "        self.strPlant = StringVar()\n",
    "        self.lbl_plant = Label(master, text=\"Plant Code: \")\n",
    "        self.lbl_plant.grid(column=0, row=0)\n",
    "        self.plant_entry = Entry(master, width=10, textvariable=self.strPlant, justify='center')\n",
    "        self.plant_entry.grid(column=1, row=0)\n",
    "\n",
    "        self.strLaborRate = StringVar()\n",
    "        self.lbl_labor_rate = Label(master, text=\"Hourly Labor Rate: \")\n",
    "        self.lbl_labor_rate.grid(column=0, row=2)\n",
    "        self.labor_rate_entry = Entry(master, width=10, textvariable=self.strLaborRate, justify='center')\n",
    "        self.labor_rate_entry.grid(column=1, row=2)\n",
    "\n",
    "        self.strPartFactor = StringVar()\n",
    "        self.lbl_Part_Factor = Label(master, text=\"Part Factor (0.##): \")\n",
    "        self.lbl_Part_Factor.grid(column=0, row=3)\n",
    "        self.part_factor_entry = Entry(master, width=10, textvariable=self.strPartFactor, justify='center')\n",
    "        self.part_factor_entry.grid(column=1, row=3)\n",
    "\n",
    "        self.strHandlingFactor = StringVar()\n",
    "        self.lbl_Handling_Factor = Label(master, text=\"Handling Factor (0.##): \")\n",
    "        self.lbl_Handling_Factor.grid(column=0, row=4)\n",
    "        self.handling_factor_entry = Entry(master, width=10, textvariable=self.strHandlingFactor,\n",
    "                                           justify='center')\n",
    "        self.handling_factor_entry.grid(column=1, row=4)\n",
    "\n",
    "        self.strStartDate = StringVar()\n",
    "        self.lbl_Start_Date = Label(master, text=\"Start Voucher Date: \")\n",
    "        self.lbl_Start_Date.grid(column=0, row=5)\n",
    "        self.start_date_entry = Entry(master, width=12, textvariable=self.strStartDate, justify='center')\n",
    "        self.start_date_entry.grid(column=1, row=5)\n",
    "\n",
    "        self.strEndDate = StringVar()\n",
    "        self.lbl_End_Date = Label(master, text=\"End Voucher Date: \")\n",
    "        self.lbl_End_Date.grid(column=0, row=6)\n",
    "        self.end_date_entry = Entry(master, width=12, textvariable=self.strEndDate, justify='center')\n",
    "        self.end_date_entry.grid(column=1, row=6)\n",
    "\n",
    "        self.btn_claims = Button(master, text=\"Choose input file\", command=self.getfilepath)\n",
    "        self.btn_claims.grid(column=0, row=10)\n",
    "\n",
    "        self.print_btn_claims = Button(master, text=\"Print All Input Variables\", command=self.print_inputs)\n",
    "        self.print_btn_claims.grid(column=0, row=11)\n",
    "\n",
    "        self.plant_entry.focus()\n",
    "\n",
    "    def getfilepath(self):\n",
    "        self.file_path = filedialog.askopenfilename(initialdir=os.getcwd(), title=\"Select Excel file...\",\n",
    "                                                        filetypes=((\"*.xlsx\", \"*.xlsx\"), (\"all files\", \"*.*\")))\n",
    "        return self.file_path\n",
    "\n",
    "    def print_inputs(self):\n",
    "        print('File path:', self.file_path)\n",
    "        print('Plant code:', self.plant_entry.get())\n",
    "        print('Labor rate:', self.labor_rate_entry.get())\n",
    "        print('Part factor:', self.part_factor_entry.get())\n",
    "        print('Handling factor:', self.handling_factor_entry.get())\n",
    "        print('Voucher start date:', self.start_date_entry.get())\n",
    "        print('Voucher end date:', self.end_date_entry.get())\n",
    "\n",
    "\n",
    "if __name__ == \"__main__\":\n",
    "    root = Tk()\n",
    "    my_app = ExportVouchering(root)\n",
    "    root.mainloop()"
   ]
  }
 ],
 "metadata": {
  "_draft": {
   "nbviewer_url": "https://gist.github.com/ec863aa9f5bed615aa66866d3bef9afe"
  },
  "gist": {
   "data": {
    "description": "tkinter/Export_Plant_Vouchering_Application.ipynb",
    "public": true
   },
   "id": "ec863aa9f5bed615aa66866d3bef9afe"
  },
  "hide_input": false,
  "kernelspec": {
   "display_name": "Python 3",
   "language": "python",
   "name": "python3"
  },
  "language_info": {
   "codemirror_mode": {
    "name": "ipython",
    "version": 3
   },
   "file_extension": ".py",
   "mimetype": "text/x-python",
   "name": "python",
   "nbconvert_exporter": "python",
   "pygments_lexer": "ipython3",
   "version": "3.6.4"
  },
  "varInspector": {
   "cols": {
    "lenName": 16,
    "lenType": 16,
    "lenVar": 40
   },
   "kernels_config": {
    "python": {
     "delete_cmd_postfix": "",
     "delete_cmd_prefix": "del ",
     "library": "var_list.py",
     "varRefreshCmd": "print(var_dic_list())"
    },
    "r": {
     "delete_cmd_postfix": ") ",
     "delete_cmd_prefix": "rm(",
     "library": "var_list.r",
     "varRefreshCmd": "cat(var_dic_list()) "
    }
   },
   "types_to_exclude": [
    "module",
    "function",
    "builtin_function_or_method",
    "instance",
    "_Feature"
   ],
   "window_display": false
  }
 },
 "nbformat": 4,
 "nbformat_minor": 2
}
