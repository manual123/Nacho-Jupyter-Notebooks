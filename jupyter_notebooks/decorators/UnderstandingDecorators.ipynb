{
 "cells": [
  {
   "cell_type": "markdown",
   "metadata": {},
   "source": [
    "# Understanding Decorators"
   ]
  },
  {
   "cell_type": "code",
   "execution_count": 35,
   "metadata": {},
   "outputs": [
    {
     "name": "stdout",
     "output_type": "stream",
     "text": [
      "(3, 5)\n",
      "{}\n",
      "15\n"
     ]
    }
   ],
   "source": [
    "#This is the decorator\n",
    "def print_args(func):\n",
    "    def inner_func(*args, **kwargs):\n",
    "        print(args)\n",
    "        print(kwargs)\n",
    "        return func(*args, **kwargs) #Call the original function with its arguments.\n",
    "    return inner_func\n",
    "\n",
    "@print_args\n",
    "def multiply(num_a, num_b):\n",
    "    return num_a * num_b\n",
    "    \n",
    "print(multiply(3, 5))"
   ]
  },
  {
   "cell_type": "code",
   "execution_count": 39,
   "metadata": {},
   "outputs": [
    {
     "name": "stdout",
     "output_type": "stream",
     "text": [
      "Greeting with timestamp: 2018-04-07 22:51:01.040504 Hello Daniel!\n",
      "{}\n",
      "Hello, Daniel!\n"
     ]
    }
   ],
   "source": [
    "#This is the decorator\n",
    "def time_greeting(func):\n",
    "    def wrapped_funcion(*args, **kwargs):\n",
    "        print(f\"Greeting with timestamp: {datetime.now()} Hello {args[0]}!\")\n",
    "        print(kwargs)\n",
    "        return func(*args, **kwargs) #Call the original function with its arguments.\n",
    "    return wrapped_funcion\n",
    "\n",
    "@time_greeting\n",
    "def greeting(name):\n",
    "    return f'Hello, {name}!'\n",
    "    \n",
    "print(greeting('Daniel'))"
   ]
  }
 ],
 "metadata": {
  "kernelspec": {
   "display_name": "Python 3",
   "language": "python",
   "name": "python3"
  },
  "language_info": {
   "codemirror_mode": {
    "name": "ipython",
    "version": 3
   },
   "file_extension": ".py",
   "mimetype": "text/x-python",
   "name": "python",
   "nbconvert_exporter": "python",
   "pygments_lexer": "ipython3",
   "version": "3.6.4"
  }
 },
 "nbformat": 4,
 "nbformat_minor": 2
}
