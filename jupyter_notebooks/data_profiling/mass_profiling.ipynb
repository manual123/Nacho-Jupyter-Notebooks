{
 "cells": [
  {
   "cell_type": "code",
   "execution_count": null,
   "metadata": {},
   "outputs": [],
   "source": [
    "from pathlib import Path\n",
    "from tqdm import tqdm\n",
    "import click\n",
    "import dask.dataframe as dd\n",
    "from dask.distributed import Client\n",
    "import pandas as pd\n",
    "import pandas_profiling\n",
    "\n",
    "client = Client(processes=False)\n",
    "\n",
    "@click.command()\n",
    "@click.option('--ext', prompt='Enter file extension (csv, xlsx)', help='File extension you want to limit files with')\n",
    "def profile_directory(ext):\n",
    "    \"\"\" A function that profiles files with a specified file extension in the current folder that this .py file resides in.\n",
    "    \"\"\"\n",
    "\n",
    "    # Create a list of files filtered down to a specific file extension that a user provided with the --ext flag or\n",
    "    # at the prompt\n",
    "    flist = [p for p in Path('.').glob(\"*.\" + ext) if p.is_file()]\n",
    "\n",
    "    # For each file for a given file extension, read it, then profile it, then output profile report\n",
    "    for file in tqdm(flist):\n",
    "        if ext == 'csv':\n",
    "            ddf = dd.read_csv(file)\n",
    "            df = ddf.compute()\n",
    "            df.profile_report(title=\"Pandas Profiling Report - \" + file.name, \n",
    "                correlations={'pearson': False, 'spearman': False, 'kendall': False, 'phi_k': False, 'recoded': False}).to_file(output_file=file.stem+\".html\")\n",
    "        elif ext == 'xlsx':\n",
    "            df = pd.read_excel(file)\n",
    "            df.profile_report(title=\"Pandas Profiling Report - \" + file.name,\n",
    "                correlations={'pearson': False, 'spearman': False, 'kendall': False, 'phi_k': False, 'recoded': False}).to_file(output_file=file.stem+\".html\")\n",
    "\n",
    "if __name__ == '__main__':\n",
    "    profile_directory()"
   ]
  }
 ],
 "metadata": {
  "gist": {
   "data": {
    "description": "data_profiling/mass_profiling.ipynb",
    "public": true
   },
   "id": ""
  },
  "hide_input": false,
  "kernelspec": {
   "display_name": "Python 3",
   "language": "python",
   "name": "python3"
  },
  "language_info": {
   "codemirror_mode": {
    "name": "ipython",
    "version": 3
   },
   "file_extension": ".py",
   "mimetype": "text/x-python",
   "name": "python",
   "nbconvert_exporter": "python",
   "pygments_lexer": "ipython3",
   "version": "3.7.3"
  }
 },
 "nbformat": 4,
 "nbformat_minor": 2
}
