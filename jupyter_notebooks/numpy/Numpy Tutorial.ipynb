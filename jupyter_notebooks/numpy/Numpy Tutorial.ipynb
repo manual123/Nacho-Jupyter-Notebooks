{
 "cells": [
  {
   "cell_type": "markdown",
   "metadata": {},
   "source": [
    "# Numpy Tutorial\n",
    "\n",
    "Let's start our journey of machine learning by getting know how of python's most important machine learning package i.e. **numpy**. This package is dedicated for **operations on Arrays and Matrices** and makes it easy to initialize , create and operate on arrays. It is preferred due to effeciency and performance optimization it brings in code which we will explore in the later part of this course. So, let's start by simply creating arrays and doing some basic stuff.\n",
    "\n",
    "## One Dimensional Arrays"
   ]
  },
  {
   "cell_type": "code",
   "execution_count": 1,
   "metadata": {},
   "outputs": [
    {
     "name": "stdout",
     "output_type": "stream",
     "text": [
      "Array is [ 1  2  3 10  5  6]\n",
      "Rank is 1\n",
      "Size of array 6\n",
      "Data Type of array elements int64\n",
      "Shape of array (6,)\n"
     ]
    }
   ],
   "source": [
    "import numpy as np\n",
    "\n",
    "# Creating a basic numpy array\n",
    "array_1d = np.array([1,2,3,10,5,6], int)\n",
    "# This is a basic numpy array, it has following properties associated with it:\n",
    "# \n",
    "print(\"Array is \" + str(array_1d))\n",
    "print(\"Rank is %d\" % array_1d.ndim)\n",
    "print(\"Size of array %d\" % array_1d.size)\n",
    "print(\"Data Type of array elements %s\" % str(array_1d.dtype))\n",
    "print(\"Shape of array %s\" % str(array_1d.shape))"
   ]
  },
  {
   "cell_type": "markdown",
   "metadata": {},
   "source": [
    "Here, we saw four properties of arrays associated with numpy, which are: \n",
    "1. Rank of the array - numpy's ndarray.ndim gives rank which is number of linearly independent column vectors in matrix\n",
    "2. Size of the array  - ndarray.size which gives number of elements in array\n",
    "3. Data type - ndarray.dtype which gives data type of array elements\n",
    "4. Shape - ndarray.shape which gives tuple in form of (r,c) i.e. number of rows and columns of array for 2D and (c,) for 1D\n",
    "\n",
    "## Basic Operations on 1-D Arrays\n",
    "\n",
    "### 1. Sum, Product, Mean, Variance and standard deviation of array elements\n",
    "\n",
    "numpy provides standard built in methods that calculate sum,product, mean, variance and standard deviation on array elements which are `array.sum()` , `array.prod()`, `array.mean()` , `array.var()`, `array.std()`. Let's try these out"
   ]
  },
  {
   "cell_type": "code",
   "execution_count": 2,
   "metadata": {},
   "outputs": [
    {
     "name": "stdout",
     "output_type": "stream",
     "text": [
      "Sum of elements of array is 27\n",
      "Product of elements of array is 1800\n",
      "Mean of elements of array is 4\n",
      "Variance of elements of array is 8\n",
      "Standard deviation of elements of array is 2\n"
     ]
    }
   ],
   "source": [
    "print(\"Sum of elements of array is %d\"%array_1d.sum())\n",
    "\n",
    "print(\"Product of elements of array is %d\"% array_1d.prod())\n",
    "\n",
    "print(\"Mean of elements of array is %d\" %array_1d.mean())\n",
    "\n",
    "print(\"Variance of elements of array is %d\" %array_1d.var())\n",
    "\n",
    "print(\"Standard deviation of elements of array is %d\" %array_1d.std())"
   ]
  },
  {
   "cell_type": "markdown",
   "metadata": {},
   "source": [
    "### 2. Searching and Sorting and Manipulation of elements\n",
    "\n",
    "Numpy makes it easy for searching elements matching a condition, sorting the elements and manipulating elements of array (or ndarray as of numpy). It provides powerful functions which can help you achieve these goals without using for loops as in traditional python programs. Let's explore these functionalities one by one:"
   ]
  },
  {
   "cell_type": "code",
   "execution_count": 5,
   "metadata": {},
   "outputs": [
    {
     "name": "stdout",
     "output_type": "stream",
     "text": [
      "Searching for element in Array\n",
      "[10  6]\n",
      "\n",
      "\n",
      "\n",
      "\n",
      "Sorting Array Elements\n",
      "[1, 2, 3, 5, 6, 10]\n",
      "\n",
      "\n",
      "\n",
      "\n",
      "Manipulating the Elements of Array\n",
      "Original Array is  : [ 1  2  3 10  5  6]\n",
      "Manipulated Array is : [   1    8    9 1000   25  216]\n"
     ]
    }
   ],
   "source": [
    "### Searching for elements matching a condition\n",
    "print(\"Searching for element in Array\")\n",
    "sel_criteria = (array_1d > 5)\n",
    "print(array_1d[sel_criteria])    ## printing elements of array greator than 5.\n",
    "\n",
    "### Sorting array elements\n",
    "\n",
    "print('\\n\\n\\n')\n",
    "\n",
    "print(\"Sorting Array Elements\")\n",
    "print(sorted(array_1d))\n",
    "\n",
    "print('\\n\\n\\n')\n",
    "\n",
    "print(\"Manipulating the Elements of Array\")\n",
    "### Manipulating the elements of array\n",
    "## Let's say we have been given a task to make odd elements raised to power 2 and even elements raised to power 3 \n",
    "## in an array. Then\n",
    "print(\"Original Array is  : \" + str(array_1d))\n",
    "print(\"Manipulated Array is : \" + str(np.where( array_1d % 2 != 0, array_1d**2, array_1d**3)))\n",
    "\n",
    "## Here the syntax of np.where is np.where(condition, truearray, falsearray)\n",
    "## i.e. if condition is true then do truearray operation on element else the operation listed in falsearray"
   ]
  },
  {
   "cell_type": "markdown",
   "metadata": {},
   "source": [
    "### 3. Basic operations between Arrays \n",
    "\n",
    "With numpy you can add, substract , multiply and divide the arrays easily, using basic mathematical operators. Let's try this out "
   ]
  },
  {
   "cell_type": "code",
   "execution_count": 8,
   "metadata": {},
   "outputs": [
    {
     "name": "stdout",
     "output_type": "stream",
     "text": [
      "The two Arrays are: [ 1  2  3 10  5  6] and [  3   4   5   6  80 400]\n",
      "\n",
      "\n",
      "\n",
      "\n",
      "Sum of two arrays\n",
      "[  4   6   8  16  85 406]\n",
      "\n",
      "\n",
      "\n",
      "\n",
      "Difference of two arrays\n",
      "[  -2   -2   -2    4  -75 -394]\n",
      "\n",
      "\n",
      "\n",
      "\n",
      "Product of two arrays\n",
      "[   3    8   15   60  400 2400]\n",
      "\n",
      "\n",
      "\n",
      "\n",
      "Division of two arrays\n",
      "[ 0.33333333  0.5         0.6         1.66666667  0.0625      0.015     ]\n"
     ]
    }
   ],
   "source": [
    "array_1d_another = np.array([3,4,5,6,80, 400], int)\n",
    "\n",
    "print(\"The two Arrays are: \" + str(array_1d) + \" and \" + str(array_1d_another))\n",
    "\n",
    "print('\\n\\n\\n')\n",
    "\n",
    "print(\"Sum of two arrays\")\n",
    "print(array_1d + array_1d_another)\n",
    "\n",
    "print('\\n\\n\\n')\n",
    "\n",
    "print(\"Difference of two arrays\")\n",
    "print(array_1d - array_1d_another)\n",
    "\n",
    "print('\\n\\n\\n')\n",
    "\n",
    "print(\"Product of two arrays\")\n",
    "print(array_1d * array_1d_another)\n",
    "\n",
    "print('\\n\\n\\n')\n",
    "\n",
    "print(\"Division of two arrays\")\n",
    "print(array_1d / array_1d_another)"
   ]
  },
  {
   "cell_type": "markdown",
   "metadata": {},
   "source": [
    "### 4. Advanced Operations on Arrays\n",
    "\n",
    "Apart from these, you can also do advanced operations on numpy arrays. These include but not limited to:\n",
    "1. Cloning an array - Make copy of any array\n",
    "2. reshape an array - Change the size of array , i.e. convert 1-D array to 2-D array or change size (i.e. (r,c)) of 2-D array\n",
    "3. creating arrays with random values - Use zeroes, ones or any random values to create and initialize an array\n",
    "\n",
    "\n",
    "Let's explore how we can do this in numpy:"
   ]
  },
  {
   "cell_type": "code",
   "execution_count": 9,
   "metadata": {},
   "outputs": [
    {
     "name": "stdout",
     "output_type": "stream",
     "text": [
      "[ 1  2  3 10  5  6] is the clone of [ 1  2  3 10  5  6]\n",
      "\n",
      "\n",
      "\n",
      "\n",
      "Reshaped array of [ 1  2  3 10  5  6] with dimensions (2,3) is \n",
      "[[ 1  2  3]\n",
      " [10  5  6]]\n",
      "\n",
      "\n",
      "\n",
      "\n",
      "Array of all zeros with 10 columns is [0 0 0 0 0 0 0 0 0 0]\n",
      "\n",
      "\n",
      "\n",
      "\n",
      "Array of all ones with 6 columns is [1 1 1 1 1 1]\n",
      "\n",
      "\n",
      "\n",
      "\n",
      "Random array with 5 columns is [ 0.03561329  0.0201354   0.65158174  0.72512637  0.87489558]\n",
      "\n",
      "\n",
      "\n",
      "\n",
      "A random integer within range 10 - 1000 is 724\n"
     ]
    }
   ],
   "source": [
    "## Cloning an array \n",
    "array_1d_clone = array_1d.copy()\n",
    "print(str(array_1d_clone) + \" is the clone of \" + str(array_1d))\n",
    "\n",
    "print('\\n\\n\\n')\n",
    "\n",
    "## Reshaping an array - reshaping is changing size of array, you can do this easily using just one command i.e\n",
    "array_1d_reshaped = array_1d.reshape(2,3) ##  Re shape array into matrix with 2 rows and 3 columns\n",
    "print(\"Reshaped array of \" + str(array_1d) + \" with dimensions (2,3) is \" )\n",
    "print(str(array_1d_reshaped))\n",
    "\n",
    "print('\\n\\n\\n')\n",
    "\n",
    "## Creating Array with all zeros \n",
    "array_zeroes = np.zeros(10, int)\n",
    "print(\"Array of all zeros with 10 columns is \" + str(array_zeroes))\n",
    "\n",
    "print('\\n\\n\\n')\n",
    "\n",
    "## Creating array with all ones\n",
    "array_ones = np.ones(6, int) \n",
    "print(\"Array of all ones with 6 columns is \" + str(array_ones))\n",
    "\n",
    "\n",
    "print('\\n\\n\\n')\n",
    "\n",
    "## Creating array with random seed\n",
    "### numpy uses Mersenne Twister algorithm to generate random numbers, it takes in a seed value which if you do not \n",
    "### give, it will choose by default. based on that seed value numpy generates random numbers in range [0.0, 1.0] by\n",
    "### default, if not otherwise specified. Let's see how:\n",
    "\n",
    "array_random_default_range = np.random.rand(5)   \n",
    "#np.random.rand(dimension) where dimension can be value for 1-D array and tuple for 2-D\n",
    "print(\"Random array with 5 columns is \" + str(array_random_default_range))\n",
    "\n",
    "print('\\n\\n\\n')\n",
    "\n",
    "\n",
    "### Let's now see how to generate random integer numbers between 10 and 1000\n",
    "random_integers = np.random.randint(10, 1000)\n",
    "print(\"A random integer within range 10 - 1000 is \" + str(random_integers))"
   ]
  },
  {
   "cell_type": "markdown",
   "metadata": {},
   "source": [
    "## A Note on performance\n",
    "\n",
    "**numpy** optimizes the array and matrix calculations to great extent, to see this, let's demonstrate a simple comparison between __normal python for loop__ and __numpy way of substraction between lists__ and note time taken in both the cases. "
   ]
  },
  {
   "cell_type": "code",
   "execution_count": 10,
   "metadata": {},
   "outputs": [
    {
     "name": "stdout",
     "output_type": "stream",
     "text": [
      "time taken 0.000412 \n",
      "time taken 0.000075\n",
      "Are both outputs equal :True\n"
     ]
    }
   ],
   "source": [
    "import time\n",
    "\n",
    "list = [i for i in range(1000)]\n",
    "list2 = [i for i in range(1000,2000)]\n",
    "\n",
    "np_array1 = np.array(list)\n",
    "np_array2 = np.array(list2)\n",
    "\n",
    "st = time.time()\n",
    "list3 = []\n",
    "for i in range(len(list)):\n",
    "    list3.append(list[i] - list2[i])\n",
    "en = time.time()\n",
    "print(\"time taken %f \"% (en-st))\n",
    "\n",
    "st1 = time.time()\n",
    "np_array3 =  np_array1 - np_array2\n",
    "en1 = time.time()\n",
    "\n",
    "print(\"time taken %f\"% (en1-st1))\n",
    "\n",
    "print(\"Are both outputs equal :\" + str(np_array3.tolist() == list3))\n"
   ]
  },
  {
   "cell_type": "markdown",
   "metadata": {},
   "source": [
    "# As we can see above numpy calculation takes 6 times less time as taken by normal method "
   ]
  }
 ],
 "metadata": {
  "celltoolbar": "Raw Cell Format",
  "hide_input": false,
  "kernelspec": {
   "display_name": "Python 3",
   "language": "python",
   "name": "python3"
  },
  "language_info": {
   "codemirror_mode": {
    "name": "ipython",
    "version": 3
   },
   "file_extension": ".py",
   "mimetype": "text/x-python",
   "name": "python",
   "nbconvert_exporter": "python",
   "pygments_lexer": "ipython3",
   "version": "3.6.1"
  },
  "varInspector": {
   "cols": {
    "lenName": 16,
    "lenType": 16,
    "lenVar": 40
   },
   "kernels_config": {
    "python": {
     "delete_cmd_postfix": "",
     "delete_cmd_prefix": "del ",
     "library": "var_list.py",
     "varRefreshCmd": "print(var_dic_list())"
    },
    "r": {
     "delete_cmd_postfix": ") ",
     "delete_cmd_prefix": "rm(",
     "library": "var_list.r",
     "varRefreshCmd": "cat(var_dic_list()) "
    }
   },
   "types_to_exclude": [
    "module",
    "function",
    "builtin_function_or_method",
    "instance",
    "_Feature"
   ],
   "window_display": false
  }
 },
 "nbformat": 4,
 "nbformat_minor": 2
}
