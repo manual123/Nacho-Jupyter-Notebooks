{
 "cells": [
  {
   "cell_type": "markdown",
   "metadata": {
    "collapsed": true,
    "run_control": {
     "read_only": false
    }
   },
   "source": [
    "<center><h1>Mining Twitter Data Using Python / Tweepy / WordCloud</h1></center>"
   ]
  },
  {
   "cell_type": "markdown",
   "metadata": {},
   "source": [
    "#### Install tweepy, wordcloud, and pillow:"
   ]
  },
  {
   "cell_type": "markdown",
   "metadata": {},
   "source": [
    "- pip install tweepy\n",
    "- pip instal wordcloud\n",
    "- pip install pillow"
   ]
  },
  {
   "cell_type": "markdown",
   "metadata": {},
   "source": [
    "## Main script that parses the stream of tweets based on a filter word"
   ]
  },
  {
   "cell_type": "code",
   "execution_count": null,
   "metadata": {
    "collapsed": true,
    "run_control": {
     "read_only": false
    }
   },
   "outputs": [],
   "source": [
    "#Import the necessary methods from tweepy library\n",
    "from tweepy.streaming import StreamListener\n",
    "from tweepy import OAuthHandler\n",
    "from tweepy import Stream\n",
    "\n",
    "#Variables that contains the user credentials to access Twitter API \n",
    "access_token = \"your_access_token\"\n",
    "access_token_secret = \"your_access_secret_token\"\n",
    "consumer_key = \"your_consumer_key\"\n",
    "consumer_secret = \"your_consumer_secret\"\n",
    "\n",
    "\n",
    "#This is a basic listener that just prints received tweets to stdout.\n",
    "class StdOutListener(StreamListener):\n",
    "\n",
    "    def on_data(self, data):\n",
    "        print(data)\n",
    "        return True\n",
    "\n",
    "    def on_error(self, status):\n",
    "        print(status)\n",
    "\n",
    "\n",
    "if __name__ == '__main__':\n",
    "\n",
    "    #This handles Twitter authetification and the connection to Twitter Streaming API\n",
    "    l = StdOutListener()\n",
    "    auth = OAuthHandler(consumer_key, consumer_secret)\n",
    "    auth.set_access_token(access_token, access_token_secret)\n",
    "    stream = Stream(auth, l)\n",
    "\n",
    "    #This line filter Twitter Streams to capture data by the keywords: 'honda'\n",
    "    stream.filter(track=['honda'])"
   ]
  },
  {
   "cell_type": "markdown",
   "metadata": {},
   "source": [
    "### Then from your terminal, execute this script with output piped to a text file: your_script.py > tweets_data.txt"
   ]
  },
  {
   "cell_type": "markdown",
   "metadata": {},
   "source": [
    "# Then run this script below to create a Python dataframe of the tweets data"
   ]
  },
  {
   "cell_type": "code",
   "execution_count": 23,
   "metadata": {
    "collapsed": false,
    "run_control": {
     "read_only": false
    }
   },
   "outputs": [
    {
     "name": "stdout",
     "output_type": "stream",
     "text": [
      "407\n"
     ]
    }
   ],
   "source": [
    "%matplotlib inline\n",
    "import json\n",
    "import pandas as pd\n",
    "import matplotlib.pyplot as plt\n",
    "from os import path\n",
    "pd.set_option(\"display.max_rows\",1000)\n",
    "pd.set_option(\"display.max_columns\",20)\n",
    "pd.set_option(\"display.max_colwidth\",150)\n",
    "\n",
    "d = path.dirname('/home/pybokeh/temp/')\n",
    "#text = open(path.join(d, 'twitter_data.txt')).read()\n",
    "\n",
    "tweets_data = []\n",
    "tweets_file = open(path.join(d, 'daredevil.txt'),'r')\n",
    "for line in tweets_file:\n",
    "    try:\n",
    "        tweet = json.loads(line)\n",
    "        if len(tweet) > 10:            # Ensure json data is complete\n",
    "            tweets_data.append(tweet)\n",
    "    except:\n",
    "        continue\n",
    "\n",
    "print(len(tweets_data))"
   ]
  },
  {
   "cell_type": "markdown",
   "metadata": {},
   "source": [
    "### Create pandas dataframe"
   ]
  },
  {
   "cell_type": "code",
   "execution_count": 27,
   "metadata": {
    "collapsed": false,
    "run_control": {
     "read_only": false
    }
   },
   "outputs": [],
   "source": [
    "tweets = pd.DataFrame()\n",
    "tweets['text']      = [tweet['text'].lower() for tweet in tweets_data]\n",
    "tweets['lang']      = [tweet['lang'] for tweet in tweets_data]\n",
    "tweets['sample']      = [tweet['text'][:20] for tweet in tweets_data]\n",
    "tweets['retweeted'] = [tweet['retweeted'] for tweet in tweets_data]"
   ]
  },
  {
   "cell_type": "markdown",
   "metadata": {},
   "source": [
    "### Let's remove redundand tweets, retweets, duplicates, and limit to English tweets"
   ]
  },
  {
   "cell_type": "code",
   "execution_count": 28,
   "metadata": {
    "collapsed": false,
    "run_control": {
     "read_only": false
    }
   },
   "outputs": [],
   "source": [
    "english_tweets = tweets[(tweets['lang']=='en') & (tweets['retweeted']==False)]"
   ]
  },
  {
   "cell_type": "code",
   "execution_count": 29,
   "metadata": {
    "collapsed": false,
    "run_control": {
     "read_only": false
    }
   },
   "outputs": [],
   "source": [
    "english_tweets = english_tweets.drop_duplicates(subset='sample');"
   ]
  },
  {
   "cell_type": "code",
   "execution_count": 30,
   "metadata": {
    "collapsed": false,
    "run_control": {
     "read_only": false
    }
   },
   "outputs": [],
   "source": [
    "text = ''\n",
    "for line in english_tweets['text']:\n",
    "    text = text + ' ' + line.replace(\"'s\", \" \")"
   ]
  },
  {
   "cell_type": "markdown",
   "metadata": {},
   "source": [
    "## Now create the word cloud"
   ]
  },
  {
   "cell_type": "code",
   "execution_count": 31,
   "metadata": {
    "collapsed": false,
    "run_control": {
     "read_only": false
    }
   },
   "outputs": [
    {
     "data": {
      "image/png": "[encoded data removed]",
      "text/plain": [
       "<matplotlib.figure.Figure at 0x7fd058849710>"
      ]
     },
     "metadata": {},
     "output_type": "display_data"
    }
   ],
   "source": [
    "%matplotlib inline\n",
    "from os import path\n",
    "from scipy.misc import imread\n",
    "import matplotlib.pyplot as plt\n",
    "from wordcloud import WordCloud, STOPWORDS\n",
    "d = path.dirname('/home/pybokeh/Downloads/')\n",
    "# Read the whole text.\n",
    "#text = strWords\n",
    "#text = open(path.join(d, 'alice.txt')).read()\n",
    "\n",
    "additional_words = [\n",
    "    'rt',\n",
    "    'ebay',\n",
    "    't',\n",
    "    'https',\n",
    "    'co',\n",
    "    't',\n",
    "    'amp',\n",
    "    's',\n",
    "    'tcot',\n",
    "    'de'\n",
    "]\n",
    "\n",
    "for word in additional_words:\n",
    "    STOPWORDS.add(word)\n",
    "\n",
    "# read the mask image\n",
    "# taken from\n",
    "# http://www.stencilry.org/stencils/movies/alice%20in%20wonderland/255fk.jpg\n",
    "#honda_mask = imread(path.join(d, \"honda_logo_mask.png\"), flatten=True)\n",
    "#wc = WordCloud(background_color=\"black\", max_words=2000, mask=honda_mask, stopwords=STOPWORDS)\n",
    "\n",
    "wc = WordCloud(width=800, height=600).generate(text)\n",
    "\n",
    "# store to file\n",
    "wc.to_file(path.join(d, \"civic.png\"))\n",
    "\n",
    "# show\n",
    "plt.imshow(wc)\n",
    "plt.axis(\"off\")\n",
    "plt.gca().xaxis.set_major_locator(NullLocator())   # remove white space\n",
    "plt.gca().yaxis.set_major_locator(NullLocator())   # remove white space\n",
    "#plt.figure()\n",
    "#plt.imshow(honda_mask, cmap=plt.cm.gray)\n",
    "#plt.axis(\"off\")\n",
    "plt.show()"
   ]
  },
  {
   "cell_type": "markdown",
   "metadata": {},
   "source": [
    "### Top 50 Words"
   ]
  },
  {
   "cell_type": "code",
   "execution_count": 32,
   "metadata": {
    "collapsed": false,
    "run_control": {
     "read_only": false
    }
   },
   "outputs": [
    {
     "data": {
      "text/plain": [
       "[('daredevil', 1.0),\n",
       " ('episode', 0.14285714285714285),\n",
       " ('netflix', 0.1357142857142857),\n",
       " ('watch', 0.12857142857142856),\n",
       " ('watching', 0.12142857142857143),\n",
       " ('show', 0.1),\n",
       " ('now', 0.07142857142857142),\n",
       " ('good', 0.07142857142857142),\n",
       " ('series', 0.07142857142857142),\n",
       " ('marvel', 0.060714285714285714),\n",
       " ('h6ndb4rbf0', 0.05357142857142857),\n",
       " ('finished', 0.05),\n",
       " ('season', 0.04642857142857143),\n",
       " ('one', 0.04642857142857143),\n",
       " ('im', 0.039285714285714285),\n",
       " ('need', 0.039285714285714285),\n",
       " ('fight', 0.039285714285714285),\n",
       " ('great', 0.03571428571428571),\n",
       " ('far', 0.03214285714285714),\n",
       " ('dd', 0.03214285714285714),\n",
       " ('panel', 0.03214285714285714),\n",
       " ('awesome', 0.02857142857142857),\n",
       " ('thing', 0.02857142857142857),\n",
       " ('new', 0.02857142857142857),\n",
       " ('go', 0.02857142857142857),\n",
       " ('last', 0.02857142857142857),\n",
       " ('much', 0.025),\n",
       " ('tv', 0.025),\n",
       " ('second', 0.025),\n",
       " ('end', 0.025),\n",
       " ('scene', 0.025),\n",
       " ('say', 0.025),\n",
       " ('writersguildf', 0.025),\n",
       " ('done', 0.025),\n",
       " ('ep', 0.02142857142857143),\n",
       " ('see', 0.02142857142857143),\n",
       " ('man', 0.02142857142857143),\n",
       " ('back', 0.02142857142857143),\n",
       " ('work', 0.02142857142857143),\n",
       " ('time', 0.02142857142857143),\n",
       " ('want', 0.02142857142857143),\n",
       " ('better', 0.02142857142857143),\n",
       " ('arrow', 0.02142857142857143),\n",
       " ('thank', 0.02142857142857143),\n",
       " ('finish', 0.02142857142857143),\n",
       " ('comic', 0.02142857142857143),\n",
       " ('seen', 0.02142857142857143),\n",
       " ('life', 0.02142857142857143),\n",
       " ('feel', 0.02142857142857143),\n",
       " ('pretty', 0.02142857142857143)]"
      ]
     },
     "execution_count": 32,
     "metadata": {},
     "output_type": "execute_result"
    }
   ],
   "source": [
    "wc.process_text(text)[:50]"
   ]
  },
  {
   "cell_type": "code",
   "execution_count": 21,
   "metadata": {
    "collapsed": true,
    "run_control": {
     "read_only": false
    }
   },
   "outputs": [],
   "source": [
    "english_tweets = english_tweets[english_tweets['text'].str.contains('netflix')]"
   ]
  },
  {
   "cell_type": "code",
   "execution_count": 22,
   "metadata": {
    "collapsed": false,
    "run_control": {
     "read_only": false
    }
   },
   "outputs": [
    {
     "data": {
      "text/html": [
       "<div style=\"max-height:1000px;max-width:1500px;overflow:auto;\">\n",
       "<table border=\"1\" class=\"dataframe\">\n",
       "  <thead>\n",
       "    <tr style=\"text-align: right;\">\n",
       "      <th></th>\n",
       "      <th>text</th>\n",
       "      <th>lang</th>\n",
       "      <th>sample</th>\n",
       "      <th>retweeted</th>\n",
       "    </tr>\n",
       "  </thead>\n",
       "  <tbody>\n",
       "    <tr>\n",
       "      <th>10</th>\n",
       "      <td>watching the first episode of #daredevil on #netflix...so far it could use more lighting. … http://t.co/h6ndb4rbf0 http://t.co/plyiopnzrx</td>\n",
       "      <td>en</td>\n",
       "      <td>Watching the first e</td>\n",
       "      <td>False</td>\n",
       "    </tr>\n",
       "    <tr>\n",
       "      <th>11</th>\n",
       "      <td>dudes! the fight scene at the end of the second episode of the daredevil netflix series is fantastic!</td>\n",
       "      <td>en</td>\n",
       "      <td>Dudes! The fight sce</td>\n",
       "      <td>False</td>\n",
       "    </tr>\n",
       "    <tr>\n",
       "      <th>15</th>\n",
       "      <td>rt @seidodge: do i risk netflix cheating on the wife by sneaking in a couple of @daredevil episodes now she's in bed? we can watch them aga…</td>\n",
       "      <td>en</td>\n",
       "      <td>RT @seidodge: Do I r</td>\n",
       "      <td>False</td>\n",
       "    </tr>\n",
       "    <tr>\n",
       "      <th>59</th>\n",
       "      <td>rt @superherofeed: watch 'daredevil' on netflix now!  #legally #support https://t.co/5uoavzf1qn</td>\n",
       "      <td>en</td>\n",
       "      <td>RT @SuperheroFeed: W</td>\n",
       "      <td>False</td>\n",
       "    </tr>\n",
       "    <tr>\n",
       "      <th>80</th>\n",
       "      <td>rt @lexarod: love s1 @daredevil @netflix amazing great show s2 soon? #charliecox @deborahannwoll @rosariodawson #eldenhenson http://t.co/qo…</td>\n",
       "      <td>en</td>\n",
       "      <td>RT @lexarod: Love S1</td>\n",
       "      <td>False</td>\n",
       "    </tr>\n",
       "    <tr>\n",
       "      <th>88</th>\n",
       "      <td>netflix daredevil is sooooooo good! a must watch!</td>\n",
       "      <td>en</td>\n",
       "      <td>Netflix Daredevil is</td>\n",
       "      <td>False</td>\n",
       "    </tr>\n",
       "    <tr>\n",
       "      <th>96</th>\n",
       "      <td>if spiderman was given the netflix treatment, like daredevil, it would be the greatest show ever produced</td>\n",
       "      <td>en</td>\n",
       "      <td>If Spiderman was giv</td>\n",
       "      <td>False</td>\n",
       "    </tr>\n",
       "    <tr>\n",
       "      <th>98</th>\n",
       "      <td>so @daredevil is one of the best tv series i've seen in such a long time. well done @marvel &amp;amp; @netflix #proudofyou #thankyou</td>\n",
       "      <td>en</td>\n",
       "      <td>So @Daredevil is one</td>\n",
       "      <td>False</td>\n",
       "    </tr>\n",
       "    <tr>\n",
       "      <th>99</th>\n",
       "      <td>@daredevil #netflix series is pretty good. watch it asap.</td>\n",
       "      <td>en</td>\n",
       "      <td>@Daredevil #Netflix</td>\n",
       "      <td>False</td>\n",
       "    </tr>\n",
       "    <tr>\n",
       "      <th>118</th>\n",
       "      <td>if you need me this weekend, i'll be busy watching @daredevil on netflix. try again on monday.</td>\n",
       "      <td>en</td>\n",
       "      <td>If you need me this</td>\n",
       "      <td>False</td>\n",
       "    </tr>\n",
       "    <tr>\n",
       "      <th>122</th>\n",
       "      <td>netflix adds audio to bring 'daredevil' to life for the blind: copyright 2015 npr. to see more, visit http://w... http://t.co/sqgdvklllr</td>\n",
       "      <td>en</td>\n",
       "      <td>Netflix Adds Audio T</td>\n",
       "      <td>False</td>\n",
       "    </tr>\n",
       "    <tr>\n",
       "      <th>147</th>\n",
       "      <td>finished the season of @daredevil on @netflix and now i have no idea what to do with my life. best show i've seen. i highly recommend it</td>\n",
       "      <td>en</td>\n",
       "      <td>Finished the season</td>\n",
       "      <td>False</td>\n",
       "    </tr>\n",
       "    <tr>\n",
       "      <th>158</th>\n",
       "      <td>ok i'm hooked on the netflix series daredevil-so far so good</td>\n",
       "      <td>en</td>\n",
       "      <td>ok i'm hooked on the</td>\n",
       "      <td>False</td>\n",
       "    </tr>\n",
       "    <tr>\n",
       "      <th>165</th>\n",
       "      <td>if there was a way to cache or download netflix content, i'd be binge watching daredevil on the plane ride back.</td>\n",
       "      <td>en</td>\n",
       "      <td>If there was a way t</td>\n",
       "      <td>False</td>\n",
       "    </tr>\n",
       "    <tr>\n",
       "      <th>180</th>\n",
       "      <td>is daredevil on netflix any good?</td>\n",
       "      <td>en</td>\n",
       "      <td>Is daredevil on Netf</td>\n",
       "      <td>False</td>\n",
       "    </tr>\n",
       "    <tr>\n",
       "      <th>201</th>\n",
       "      <td>you go ahead and run your marathons, i'll watch mine. #daredevil #netflix https://t.co/2bdyfgqlxx</td>\n",
       "      <td>en</td>\n",
       "      <td>You go ahead and run</td>\n",
       "      <td>False</td>\n",
       "    </tr>\n",
       "    <tr>\n",
       "      <th>204</th>\n",
       "      <td>1 season of daredevil &amp;gt; 3 seasons of arrow.....stick ftw #daredevilnetflix #arrow</td>\n",
       "      <td>en</td>\n",
       "      <td>1 season of DareDevi</td>\n",
       "      <td>False</td>\n",
       "    </tr>\n",
       "  </tbody>\n",
       "</table>\n",
       "</div>"
      ],
      "text/plain": [
       "                                                                                                                                             text  \\\n",
       "10      watching the first episode of #daredevil on #netflix...so far it could use more lighting. … http://t.co/h6ndb4rbf0 http://t.co/plyiopnzrx   \n",
       "11                                          dudes! the fight scene at the end of the second episode of the daredevil netflix series is fantastic!   \n",
       "15   rt @seidodge: do i risk netflix cheating on the wife by sneaking in a couple of @daredevil episodes now she's in bed? we can watch them aga…   \n",
       "59                                                rt @superherofeed: watch 'daredevil' on netflix now!  #legally #support https://t.co/5uoavzf1qn   \n",
       "80   rt @lexarod: love s1 @daredevil @netflix amazing great show s2 soon? #charliecox @deborahannwoll @rosariodawson #eldenhenson http://t.co/qo…   \n",
       "88                                                                                              netflix daredevil is sooooooo good! a must watch!   \n",
       "96                                      if spiderman was given the netflix treatment, like daredevil, it would be the greatest show ever produced   \n",
       "98               so @daredevil is one of the best tv series i've seen in such a long time. well done @marvel &amp; @netflix #proudofyou #thankyou   \n",
       "99                                                                                      @daredevil #netflix series is pretty good. watch it asap.   \n",
       "118                                                if you need me this weekend, i'll be busy watching @daredevil on netflix. try again on monday.   \n",
       "122      netflix adds audio to bring 'daredevil' to life for the blind: copyright 2015 npr. to see more, visit http://w... http://t.co/sqgdvklllr   \n",
       "147      finished the season of @daredevil on @netflix and now i have no idea what to do with my life. best show i've seen. i highly recommend it   \n",
       "158                                                                                  ok i'm hooked on the netflix series daredevil-so far so good   \n",
       "165                              if there was a way to cache or download netflix content, i'd be binge watching daredevil on the plane ride back.   \n",
       "180                                                                                                             is daredevil on netflix any good?   \n",
       "201                                             you go ahead and run your marathons, i'll watch mine. #daredevil #netflix https://t.co/2bdyfgqlxx   \n",
       "204                                                          1 season of daredevil &gt; 3 seasons of arrow.....stick ftw #daredevilnetflix #arrow   \n",
       "\n",
       "    lang                sample retweeted  \n",
       "10    en  Watching the first e     False  \n",
       "11    en  Dudes! The fight sce     False  \n",
       "15    en  RT @seidodge: Do I r     False  \n",
       "59    en  RT @SuperheroFeed: W     False  \n",
       "80    en  RT @lexarod: Love S1     False  \n",
       "88    en  Netflix Daredevil is     False  \n",
       "96    en  If Spiderman was giv     False  \n",
       "98    en  So @Daredevil is one     False  \n",
       "99    en  @Daredevil #Netflix      False  \n",
       "118   en  If you need me this      False  \n",
       "122   en  Netflix Adds Audio T     False  \n",
       "147   en  Finished the season      False  \n",
       "158   en  ok i'm hooked on the     False  \n",
       "165   en  If there was a way t     False  \n",
       "180   en  Is daredevil on Netf     False  \n",
       "201   en  You go ahead and run     False  \n",
       "204   en  1 season of DareDevi     False  "
      ]
     },
     "execution_count": 22,
     "metadata": {},
     "output_type": "execute_result"
    }
   ],
   "source": [
    "english_tweets"
   ]
  }
 ],
 "metadata": {
  "hide_input": false,
  "kernelspec": {
   "display_name": "Python 3",
   "language": "python",
   "name": "python3"
  },
  "language_info": {
   "codemirror_mode": {
    "name": "ipython",
    "version": 3
   },
   "file_extension": ".py",
   "mimetype": "text/x-python",
   "name": "python",
   "nbconvert_exporter": "python",
   "pygments_lexer": "ipython3",
   "version": "3.5.1"
  }
 },
 "nbformat": 4,
 "nbformat_minor": 0
}
