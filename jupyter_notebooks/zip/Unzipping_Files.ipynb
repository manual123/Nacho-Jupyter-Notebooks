{
 "cells": [
  {
   "cell_type": "markdown",
   "metadata": {},
   "source": [
    "## For zip file:"
   ]
  },
  {
   "cell_type": "code",
   "execution_count": 7,
   "metadata": {
    "collapsed": false,
    "run_control": {
     "read_only": false
    }
   },
   "outputs": [],
   "source": [
    "from zipfile import ZipFile\n",
    "\n",
    "myzip_local = ZipFile(r'D:\\temp\\FLAT_RCL.zip')  # path of zip file\n",
    "myzip_local.extractall(r'D:\\temp')              # path you want to extract to\n",
    "myzip_local.close()                             # optional, but good idea to make sure process is closed"
   ]
  },
  {
   "cell_type": "code",
   "execution_count": 13,
   "metadata": {
    "collapsed": false
   },
   "outputs": [],
   "source": [
    "from io import BytesIO\n",
    "from zipfile import ZipFile\n",
    "from urllib import request\n",
    "\n",
    "url = request.urlopen('http://www-odi.nhtsa.dot.gov/downloads/folders/Recalls/FLAT_RCL.zip')  # download the zip file\n",
    "zipfile_in_memory = ZipFile(BytesIO(url.read()))  # read it in memory\n",
    "zipfile_in_memory.extractall(r'D:\\temp')          # path you want to extract to\n",
    "zipfile_in_memory.close()                         # optional, but good idea to make sure process is closed"
   ]
  },
  {
   "cell_type": "markdown",
   "metadata": {},
   "source": [
    "## For tar file:"
   ]
  },
  {
   "cell_type": "code",
   "execution_count": null,
   "metadata": {
    "collapsed": true
   },
   "outputs": [],
   "source": [
    "import tarfile\n",
    "\n",
    "tar = tarfile.open(r'D:\\temp\\file.tar.gz')\n",
    "tar.extractall(r'D:\\temp')\n",
    "tar.close()"
   ]
  }
 ],
 "metadata": {
  "hide_input": false,
  "kernelspec": {
   "display_name": "Python 3",
   "language": "python",
   "name": "python3"
  },
  "language_info": {
   "codemirror_mode": {
    "name": "ipython",
    "version": 3
   },
   "file_extension": ".py",
   "mimetype": "text/x-python",
   "name": "python",
   "nbconvert_exporter": "python",
   "pygments_lexer": "ipython3",
   "version": "3.5.1"
  }
 },
 "nbformat": 4,
 "nbformat_minor": 0
}
