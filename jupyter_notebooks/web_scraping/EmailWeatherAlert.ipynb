{
 "cells": [
  {
   "cell_type": "code",
   "execution_count": 100,
   "metadata": {
    "collapsed": false,
    "deletable": true,
    "editable": true,
    "run_control": {
     "frozen": false,
     "read_only": false
    }
   },
   "outputs": [],
   "source": [
    "import urllib.request as request\n",
    "import simplejson\n",
    "from pprint import pprint  # Prettier printing of json data\n",
    "\n",
    "json = request.urlopen('http://api.wunderground.com/api/your_api/alerts/q/IL/Chicago.json')\n",
    "parsed_json = simplejson.load(json)"
   ]
  },
  {
   "cell_type": "code",
   "execution_count": 101,
   "metadata": {
    "collapsed": false,
    "deletable": true,
    "editable": true,
    "run_control": {
     "frozen": false,
     "read_only": false
    }
   },
   "outputs": [
    {
     "name": "stdout",
     "output_type": "stream",
     "text": [
      "{'alerts': [{'StormBased': {},\n",
      "             'ZONES': [{'ZONE': '006', 'state': 'IL'},\n",
      "                       {'ZONE': '008', 'state': 'IL'},\n",
      "                       {'ZONE': '010', 'state': 'IL'},\n",
      "                       {'ZONE': '011', 'state': 'IL'},\n",
      "                       {'ZONE': '012', 'state': 'IL'},\n",
      "                       {'ZONE': '013', 'state': 'IL'},\n",
      "                       {'ZONE': '014', 'state': 'IL'}],\n",
      "             'date': '3:27 PM CST on February 4, 2014',\n",
      "             'date_epoch': '1391549220',\n",
      "             'description': 'Winter Weather Advisory',\n",
      "             'expires': '12:00 PM CST on February 05, 2014',\n",
      "             'expires_epoch': '1391623200',\n",
      "             'message': '\\n...Winter Weather Advisory remains in effect until noon CST\\nWednesday...\\n\\n* timing...snow overspreads the area by early evening and persists\\n into Wednesday morning. Areas of blowing snow develop late this\\n evening and last through Wednesday morning.\\n\\n* Main impact...snowfall accumulations of 3 to 5 inches with\\n isolated higher totals near Lake Michigan....along with moderate\\n snowfall rates tonight which will reduce visibility and make for\\n periods of hazardous travel. Impacts to travel will last into\\n the Wednesday morning commute.\\n\\n* Other impacts...northerly winds increasing late this evening\\n with gusts to 20 to 25 mph leading to areas of blowing snow\\n creating even further reduced visibility.\\n\\nPrecautionary/preparedness actions...\\n\\nA Winter Weather Advisory for snow and blowing snow means that\\nvisibilities will be limited due to a combination of falling and\\nblowing snow. Use caution when traveling... especially in open\\nareas.\\n\\n\\n\\nRatzer\\n\\nVisit US at http://weather.Gov/Chicago (all lowercase)\\n\\nFollow US on facebook...twitter...and youtube at:\\nwww.Facebook.Com/US.Nationalweatherservice.Chicago.Gov\\n\\n\\n',\n",
      "             'phenomena': 'WW',\n",
      "             'significance': 'Y',\n",
      "             'type': 'WIN'}],\n",
      " 'query_zone': '014',\n",
      " 'response': {'features': {'alerts': 1},\n",
      "              'termsofService': 'http://www.wunderground.com/weather/api/d/terms.html',\n",
      "              'version': '0.1'}}\n"
     ]
    }
   ],
   "source": [
    "pprint(parsed_json)"
   ]
  },
  {
   "cell_type": "code",
   "execution_count": 86,
   "metadata": {
    "collapsed": false,
    "deletable": true,
    "editable": true,
    "run_control": {
     "frozen": false,
     "read_only": false
    }
   },
   "outputs": [],
   "source": [
    "import smtplib, sys\n",
    "from email.mime.text import MIMEText\n",
    "from email.utils import COMMASPACE # This is a just a fancy way of doing: COMMASPACE = \", \"\n",
    "import urllib.request as request\n",
    "import simplejson\n",
    "from pprint import pprint  # Prettier printing of json data\n",
    "from datetime import datetime\n",
    "\n",
    "def emailWeatherAlert():\n",
    "    json = request.urlopen('http://api.wunderground.com/api/your_api/alerts/q/FL/Miami.json')\n",
    "    parsed_json = simplejson.load(json)\n",
    "    \n",
    "    recipient = ['email@gmail.com']\n",
    "\n",
    "    pwd = 'your_password'\n",
    "    sender  = 'your_email@gmail.com'\n",
    "    subject = '**** Wunderground Weather ALERT ****'\n",
    "\n",
    "    top_border = \"Weather ALERT from the Wunderground\\n\\n\"+\"Brought to you by the Raspberry Pi!\\n\"+\"*\" * 45+\"\\n\"\n",
    "    bottom_border = \"*\" * 45+\"\\n\\n\"\n",
    "    \n",
    "    if parsed_json[\"alerts\"]:\n",
    "        email = \"\"\n",
    "        for alert in parsed_json[\"alerts\"]:\n",
    "            date = alert[\"date\"]\n",
    "            description = alert[\"description\"]\n",
    "            expires = alert[\"expires\"]\n",
    "            message = alert[\"message\"]\n",
    "        \n",
    "            email = email+top_border+\"Date: \"+date+\"\\n\"+\"Description: \"+description+\"\\n\"+\"Expires: \"+expires+\\\n",
    "                    \"\\n\"+bottom_border+\"Message:\\n\"+message+\"\\n\"\n",
    "                \n",
    "            msg = MIMEText(email)\n",
    "            msg['Subject'] = subject\n",
    "            msg['From'] = sender\n",
    "            msg['To'] = COMMASPACE.join(recipient) # COMMASPACE still works ok with just one recipient\n",
    "            #msg['CC'] = COMMASPACE.join(recipient)\n",
    "            #msg['BCC'] = COMMASPACE.join(recipient)\n",
    "            server = smtplib.SMTP('smtp.gmail.com:587')\n",
    "            server.starttls()\n",
    "\n",
    "            try:\n",
    "                server.login(sender,pwd)\n",
    "            except smtplib.SMTPAuthenticationError: # Check for authentication error\n",
    "                return \"ERROR\"\n",
    "\n",
    "            try:\n",
    "                server.sendmail(sender, recipient, msg.as_string())\n",
    "            except smtplib.SMTPRecipientsRefused:   # Check if recipient's email was accepted by the server\n",
    "                return \"ERROR\"\n",
    "            server.quit()\n",
    "    else:\n",
    "        now = datetime.now()\n",
    "        print(\"There are no alerts for this location at this time:\",now.strftime(\"%Y-%m-%d %I:%M%p\"))"
   ]
  },
  {
   "cell_type": "code",
   "execution_count": 87,
   "metadata": {
    "collapsed": false,
    "deletable": true,
    "editable": true,
    "run_control": {
     "frozen": false,
     "read_only": false
    }
   },
   "outputs": [
    {
     "name": "stdout",
     "output_type": "stream",
     "text": [
      "There are no alerts for this location at this time: 2014-02-04 08:46PM\n"
     ]
    }
   ],
   "source": [
    "emailWeatherAlert()"
   ]
  }
 ],
 "metadata": {
  "hide_input": false,
  "kernelspec": {
   "display_name": "Python 3",
   "language": "python",
   "name": "python3"
  },
  "language_info": {
   "codemirror_mode": {
    "name": "ipython",
    "version": 3
   },
   "file_extension": ".py",
   "mimetype": "text/x-python",
   "name": "python",
   "nbconvert_exporter": "python",
   "pygments_lexer": "ipython3",
   "version": "3.6.1"
  }
 },
 "nbformat": 4,
 "nbformat_minor": 0
}
