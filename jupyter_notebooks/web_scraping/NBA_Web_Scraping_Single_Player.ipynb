{
 "cells": [
  {
   "cell_type": "markdown",
   "metadata": {
    "run_control": {
     "frozen": false,
     "read_only": false
    }
   },
   "source": [
    "<a id=\"top\"></a>"
   ]
  },
  {
   "cell_type": "markdown",
   "metadata": {
    "run_control": {
     "frozen": false,
     "read_only": false
    }
   },
   "source": [
    "<center><h1>Source code for scraping a single NBA player stats from ESPN's web site</h1></center>"
   ]
  },
  {
   "cell_type": "markdown",
   "metadata": {
    "run_control": {
     "frozen": false,
     "read_only": false
    }
   },
   "source": [
    "My NBA web scraper only scrapes current NBA players stats.  But, you can get the classic players like Michael Jordan by obtaining their stats' url from espn.go.com and entering it in these scripts below."
   ]
  },
  {
   "cell_type": "markdown",
   "metadata": {
    "run_control": {
     "frozen": false,
     "read_only": false
    }
   },
   "source": [
    "### Quick Links"
   ]
  },
  {
   "cell_type": "markdown",
   "metadata": {
    "run_control": {
     "frozen": false,
     "read_only": false
    }
   },
   "source": [
    "- [source code for regular season averages](#season_avgs)\n",
    "- [source code for regular season totals](#season_totals)\n",
    "- [source code for reguarl season misc totals](#season_misc)\n",
    "- [sqlite table definitions](#sqlite_tables)"
   ]
  },
  {
   "cell_type": "markdown",
   "metadata": {
    "run_control": {
     "frozen": false,
     "read_only": false
    }
   },
   "source": [
    "<a id=\"season_avgs\"></a>"
   ]
  },
  {
   "cell_type": "markdown",
   "metadata": {
    "run_control": {
     "frozen": false,
     "read_only": false
    }
   },
   "source": [
    "## Populating the regular season averages table"
   ]
  },
  {
   "cell_type": "markdown",
   "metadata": {
    "run_control": {
     "frozen": false,
     "read_only": false
    }
   },
   "source": [
    "[[back to top]](#top)"
   ]
  },
  {
   "cell_type": "code",
   "execution_count": 29,
   "metadata": {
    "run_control": {
     "frozen": false,
     "read_only": false
    }
   },
   "outputs": [
    {
     "name": "stdout",
     "output_type": "stream",
     "text": [
      "Paste NBA player's URL here: http://espn.go.com/nba/player/stats/_/id/1035/michael-jordan\n"
     ]
    }
   ],
   "source": [
    "import urllib.request as request\n",
    "from bs4 import BeautifulSoup\n",
    "import sqlite3\n",
    "import re\n",
    "from datetime import datetime\n",
    "\n",
    "# http://stackoverflow.com/questions/312443/how-do-you-split-a-list-into-evenly-sized-chunks-in-python\n",
    "def chunks(l, n):\n",
    "    \"\"\" Yield successive n-sized chunks from l.\n",
    "    \"\"\"\n",
    "    for i in range(0, len(l), n):\n",
    "        yield l[i:i+n]\n",
    "\n",
    "#player = 'http://espn.go.com/nba/player/stats/_/id/1035/michael-jordan'\n",
    "\n",
    "player = input(\"Paste NBA player's URL here: \")\n",
    "\n",
    "player_id   = player.split('/')[8]\n",
    "html_player = request.urlopen(player)\n",
    "soup_player = BeautifulSoup(html_player,'lxml')\n",
    "        \n",
    "soup_name = soup_player.find('meta', property='og:title')\n",
    "player_name = soup_name['content']\n",
    "        \n",
    "regular_season_stats = soup_player.find_all('tr', class_=re.compile('row'))\n",
    "        \n",
    "size = int(len(regular_season_stats)/3)\n",
    "        \n",
    "season_avgs_slice        = slice(0,size)\n",
    "#season_totals_slice      = slice(size,size*2)\n",
    "#season_misc_totals_slice = slice(size*2,size*3)\n",
    "        \n",
    "regular_season_avgs = regular_season_stats[season_avgs_slice]\n",
    "#regular_season_totals = regular_season_stats[season_totals_slice]\n",
    "#regular_season_misc_totals = regular_season_stats[season_misc_totals_slice]\n",
    "        \n",
    "avgs = []\n",
    "for row in regular_season_avgs:\n",
    "    if len(row) == 20:  # Only accept row that has complete data\n",
    "        for data in row:\n",
    "            avgs.append(data.get_text())\n",
    "        else:\n",
    "            pass\n",
    "                \n",
    "index = 0 # insert the player ID before the player's season\n",
    "increment = 0\n",
    "for row in range(len(regular_season_avgs)):\n",
    "    avgs.insert(index + increment, player_id)\n",
    "    index = index + 20  # There are 20 columns in the season avgs section\n",
    "    increment = increment + 1\n",
    "            \n",
    "index = 1 # insert the player's name after the player's ID\n",
    "increment = 0\n",
    "for row in range(len(regular_season_avgs)):\n",
    "    avgs.insert(index + increment, player_name)\n",
    "    index = index + 21  # There are 21 columns in the season avgs section since I've just added player ID\n",
    "    increment = increment + 1\n",
    "\n",
    "conn = sqlite3.connect('/home/pybokeh/databases/nba.db')\n",
    "c = conn.cursor()\n",
    "\n",
    "for data in chunks(avgs,22):\n",
    "    try:\n",
    "        c.execute('INSERT INTO regular_season_avgs VALUES(?,?,?,?,?,?,?,?,?,?,?,?,?,?,?,?,?,?,?,?,?,?)', data)\n",
    "    except:\n",
    "        pass\n",
    "    conn.commit()\n",
    "conn.close()"
   ]
  },
  {
   "cell_type": "markdown",
   "metadata": {
    "run_control": {
     "frozen": false,
     "read_only": false
    }
   },
   "source": [
    "<a id=\"season_totals\"></a>"
   ]
  },
  {
   "cell_type": "markdown",
   "metadata": {
    "run_control": {
     "frozen": false,
     "read_only": false
    }
   },
   "source": [
    "## Populating the regular season totals table"
   ]
  },
  {
   "cell_type": "markdown",
   "metadata": {
    "run_control": {
     "frozen": false,
     "read_only": false
    }
   },
   "source": [
    "[[back to top]](#top)"
   ]
  },
  {
   "cell_type": "code",
   "execution_count": 30,
   "metadata": {
    "run_control": {
     "frozen": false,
     "read_only": false
    }
   },
   "outputs": [
    {
     "name": "stdout",
     "output_type": "stream",
     "text": [
      "Paste NBA player's URL here: http://espn.go.com/nba/player/stats/_/id/1035/michael-jordan\n"
     ]
    }
   ],
   "source": [
    "import urllib.request as request\n",
    "from bs4 import BeautifulSoup\n",
    "import sqlite3\n",
    "import re\n",
    "from datetime import datetime\n",
    "\n",
    "# http://stackoverflow.com/questions/312443/how-do-you-split-a-list-into-evenly-sized-chunks-in-python\n",
    "def chunks(l, n):\n",
    "    \"\"\" Yield successive n-sized chunks from l.\n",
    "    \"\"\"\n",
    "    for i in range(0, len(l), n):\n",
    "        yield l[i:i+n]\n",
    "\n",
    "#player = 'http://espn.go.com/nba/player/stats/_/id/1035/michael-jordan'\n",
    "\n",
    "player = input(\"Paste NBA player's URL here: \")\n",
    "\n",
    "player_id   = player.split('/')[8]\n",
    "html_player = request.urlopen(player)\n",
    "soup_player = BeautifulSoup(html_player,'lxml')\n",
    "        \n",
    "soup_name = soup_player.find('meta', property='og:title')\n",
    "player_name = soup_name['content']\n",
    "        \n",
    "regular_season_stats = soup_player.find_all('tr', class_=re.compile('row'))\n",
    "        \n",
    "size = int(len(regular_season_stats)/3)\n",
    "        \n",
    "#season_avgs_slice        = slice(0,size)\n",
    "season_totals_slice      = slice(size,size*2)\n",
    "#season_misc_totals_slice = slice(size*2,size*3)\n",
    "        \n",
    "#regular_season_avgs = regular_season_stats[season_avgs_slice]\n",
    "regular_season_totals = regular_season_stats[season_totals_slice]\n",
    "#regular_season_misc_totals = regular_season_stats[season_misc_totals_slice]\n",
    "        \n",
    "totals = []\n",
    "for row in regular_season_totals:\n",
    "    if len(row) == 17:  # Only accept row that has complete data\n",
    "        for data in row:\n",
    "            totals.append(data.get_text())\n",
    "    else:\n",
    "        pass\n",
    "                \n",
    "index = 0 # insert the player ID before the player's season\n",
    "increment = 0\n",
    "for row in range(len(regular_season_totals)):\n",
    "    totals.insert(index + increment, player_id)\n",
    "    index = index + 17  # There are 17 columns in the season totals section\n",
    "    increment = increment + 1\n",
    "            \n",
    "index = 1 # insert the player's name after the player's ID\n",
    "increment = 0\n",
    "for row in range(len(regular_season_totals)):\n",
    "    totals.insert(index + increment, player_name)\n",
    "    index = index + 18 # There are now 18 columns in the reg season totals after inserting player's ID\n",
    "    increment = increment + 1\n",
    "\n",
    "conn = sqlite3.connect('/home/pybokeh/databases/nba.db')\n",
    "c = conn.cursor()\n",
    "\n",
    "for data in chunks(totals,19):\n",
    "    try:\n",
    "        c.execute('INSERT INTO regular_season_totals VALUES(?,?,?,?,?,?,?,?,?,?,?,?,?,?,?,?,?,?,?)', data)\n",
    "    except:\n",
    "        pass\n",
    "    conn.commit()\n",
    "conn.close()"
   ]
  },
  {
   "cell_type": "markdown",
   "metadata": {
    "run_control": {
     "frozen": false,
     "read_only": false
    }
   },
   "source": [
    "<a id=\"season_misc\"></a>"
   ]
  },
  {
   "cell_type": "markdown",
   "metadata": {
    "run_control": {
     "frozen": false,
     "read_only": false
    }
   },
   "source": [
    "## Populating regular season misc totals table"
   ]
  },
  {
   "cell_type": "markdown",
   "metadata": {
    "run_control": {
     "frozen": false,
     "read_only": false
    }
   },
   "source": [
    "[[back to top]](#top)"
   ]
  },
  {
   "cell_type": "code",
   "execution_count": 31,
   "metadata": {
    "run_control": {
     "frozen": false,
     "read_only": false
    }
   },
   "outputs": [
    {
     "name": "stdout",
     "output_type": "stream",
     "text": [
      "Paste NBA player's URL here: http://espn.go.com/nba/player/stats/_/id/1035/michael-jordan\n"
     ]
    }
   ],
   "source": [
    "import urllib.request as request\n",
    "from bs4 import BeautifulSoup\n",
    "import sqlite3\n",
    "import re\n",
    "from datetime import datetime\n",
    "\n",
    "# http://stackoverflow.com/questions/312443/how-do-you-split-a-list-into-evenly-sized-chunks-in-python\n",
    "def chunks(l, n):\n",
    "    \"\"\" Yield successive n-sized chunks from l.\n",
    "    \"\"\"\n",
    "    for i in range(0, len(l), n):\n",
    "        yield l[i:i+n]\n",
    "\n",
    "#player = 'http://espn.go.com/nba/player/stats/_/id/1035/michael-jordan'\n",
    "\n",
    "player = input(\"Paste NBA player's URL here: \")\n",
    "\n",
    "player_id   = player.split('/')[8]\n",
    "html_player = request.urlopen(player)\n",
    "soup_player = BeautifulSoup(html_player,'lxml')\n",
    "        \n",
    "soup_name = soup_player.find('meta', property='og:title')\n",
    "player_name = soup_name['content']\n",
    "        \n",
    "regular_season_stats = soup_player.find_all('tr', class_=re.compile('row'))\n",
    "        \n",
    "size = int(len(regular_season_stats)/3)\n",
    "        \n",
    "#season_avgs_slice        = slice(0,size)\n",
    "#season_totals_slice      = slice(size,size*2)\n",
    "season_misc_totals_slice = slice(size*2,size*3)\n",
    "        \n",
    "#regular_season_avgs = regular_season_stats[season_avgs_slice]\n",
    "#regular_season_totals = regular_season_stats[season_totals_slice]\n",
    "regular_season_misc_totals = regular_season_stats[season_misc_totals_slice]\n",
    "        \n",
    "misc_totals = []\n",
    "for row in regular_season_misc_totals:\n",
    "    if len(row) == 13:  # Only accept row that has complete data\n",
    "        for data in row:\n",
    "            misc_totals.append(data.get_text())\n",
    "    else:\n",
    "        pass\n",
    "                \n",
    "index = 0 # insert the player ID before the player's season\n",
    "increment = 0\n",
    "for row in range(len(regular_season_misc_totals)):\n",
    "    misc_totals.insert(index + increment, player_id)\n",
    "    index = index + 13  # There are 13 columns in the season misc totals section\n",
    "    increment = increment + 1\n",
    "            \n",
    "index = 1 # insert the player's name after the player's ID\n",
    "increment = 0\n",
    "for row in range(len(regular_season_misc_totals)):\n",
    "    misc_totals.insert(index + increment, player_name)\n",
    "    index = index + 14 # There are now 14 columns in the reg season misc totals after inserting player ID\n",
    "    increment = increment + 1\n",
    "\n",
    "conn = sqlite3.connect('/home/pybokeh/databases/nba.db')\n",
    "c = conn.cursor()\n",
    "\n",
    "for data in chunks(misc_totals,15):\n",
    "    try:\n",
    "        c.execute('INSERT INTO regular_season_misc_totals VALUES(?,?,?,?,?,?,?,?,?,?,?,?,?,?,?)', data)\n",
    "    except:\n",
    "        pass\n",
    "    conn.commit()\n",
    "conn.close()"
   ]
  },
  {
   "cell_type": "markdown",
   "metadata": {
    "run_control": {
     "frozen": false,
     "read_only": false
    }
   },
   "source": [
    "<a id=\"sqlite_tables\"></a>"
   ]
  },
  {
   "cell_type": "markdown",
   "metadata": {
    "run_control": {
     "frozen": false,
     "read_only": false
    }
   },
   "source": [
    "## sqlite table definitions"
   ]
  },
  {
   "cell_type": "markdown",
   "metadata": {
    "run_control": {
     "frozen": false,
     "read_only": false
    }
   },
   "source": [
    "[[back to top]](#top)"
   ]
  },
  {
   "cell_type": "code",
   "execution_count": null,
   "metadata": {
    "run_control": {
     "frozen": false,
     "read_only": false
    }
   },
   "outputs": [],
   "source": [
    "CREATE TABLE \"player_game_stats\" (\n",
    "    \"id\" INTEGER PRIMARY KEY NOT NULL,\n",
    "    \"name_pos\" TEXT NOT NULL,\n",
    "    \"team_name\" TEXT NOT NULL,\n",
    "    \"GP\" INTEGER NOT NULL,\n",
    "    \"GS\" INTEGER NOT NULL,\n",
    "    \"MIN\" REAL NOT NULL,\n",
    "    \"PPG\" REAL NOT NULL,\n",
    "    \"OFFR\" REAL NOT NULL,\n",
    "    \"DEFR\" REAL NOT NULL,\n",
    "    \"RPG\" REAL NOT NULL,\n",
    "    \"APG\" REAL NOT NULL,\n",
    "    \"SPG\" REAL NOT NULL,\n",
    "    \"BPG\" REAL NOT NULL,\n",
    "    \"TPG\" REAL NOT NULL,\n",
    "    \"FPG\" REAL NOT NULL,\n",
    "    \"A2TO\" REAL NOT NULL,\n",
    "    \"PER\" REAL NOT NULL\n",
    ");\n",
    "\n",
    "CREATE TABLE \"player_shooting_stats\" (\n",
    "    \"id\" INTEGER PRIMARY KEY NOT NULL,\n",
    "    \"name_pos\" TEXT NOT NULL,\n",
    "    \"team_name\" TEXT NOT NULL,\n",
    "    \"FGM\" REAL NOT NULL,\n",
    "    \"FGA\" REAL NOT NULL,\n",
    "    \"FG_Perc\" REAL NOT NULL,\n",
    "    \"3PM\" REAL NOT NULL,\n",
    "    \"3PA\" REAL NOT NULL,\n",
    "    \"3P_Perc\" REAL NOT NULL,\n",
    "    \"FTM\" REAL NOT NULL,\n",
    "    \"FTA\" REAL NOT NULL,\n",
    "    \"FT_Perc\" REAL NOT NULL,\n",
    "    \"2PM\" REAL NOT NULL,\n",
    "    \"2PA\" REAL NOT NULL,\n",
    "    \"2P_Perc\" REAL NOT NULL,\n",
    "    \"PPS\" REAL NOT NULL,\n",
    "    \"AFG_Perc\" REAL NOT NULL\n",
    ");\n",
    "\n",
    "CREATE TABLE \"regular_season_avgs\" (\n",
    "    \"id\" INTEGER NOT NULL,\n",
    "    \"season\" TEXT NOT NULL,\n",
    "    \"team\" TEXT NOT NULL,\n",
    "    \"GP\" INTEGER NOT NULL,\n",
    "    \"GS\" INTEGER NOT NULL,\n",
    "    \"MIN\" REAL NOT NULL,\n",
    "    \"FGM-A\" TEXT NOT NULL,\n",
    "    \"FG_Perc\" REAL NOT NULL,\n",
    "    \"3PM-A\" TEXT NOT NULL,\n",
    "    \"3P_Perc\" REAL NOT NULL,\n",
    "    \"FTM-A\" TEXT NOT NULL,\n",
    "    \"FT_Perc\" REAL NOT NULL,\n",
    "    \"OR\" REAL NOT NULL,\n",
    "    \"DR\" REAL NOT NULL,\n",
    "    \"REB\" REAL NOT NULL,\n",
    "    \"AST\" REAL NOT NULL,\n",
    "    \"BLK\" REAL NOT NULL,\n",
    "    \"STL\" REAL NOT NULL,\n",
    "    \"PF\" REAL NOT NULL,\n",
    "    \"TO\" REAL NOT NULL,\n",
    "    \"PTS\" REAL NOT NULL,\n",
    "    unique (\"id\", \"season\",\"team\")\n",
    ");\n",
    "\n",
    "CREATE TABLE \"regular_season_totals\" (\n",
    "    \"id\" INTEGER NOT NULL,\n",
    "    \"season\" TEXT NOT NULL,\n",
    "    \"team\" TEXT NOT NULL,\n",
    "    \"FGM-A\" TEXT NOT NULL,\n",
    "    \"FG_Perc\" REAL NOT NULL,\n",
    "    \"3PM-A\" TEXT NOT NULL,\n",
    "    \"3P_Perc\" REAL NOT NULL,\n",
    "    \"FTM-A\" TEXT NOT NULL,\n",
    "    \"FT_Perc\" REAL NOT NULL,\n",
    "    \"OR\" INTEGER NOT NULL,\n",
    "    \"DR\" INTEGER NOT NULL,\n",
    "    \"REB\" INTEGER NOT NULL,\n",
    "    \"AST\" INTEGER NOT NULL,\n",
    "    \"BLK\" INTEGER NOT NULL,\n",
    "    \"STL\" INTEGER NOT NULL,\n",
    "    \"PF\" INTEGER NOT NULL,\n",
    "    \"TO\" INTEGER NOT NULL,\n",
    "    \"PTS\" INTEGER NOT NULL,\n",
    "    unique (\"id\",\"season\",\"team\")\n",
    ");\n",
    "\n",
    "CREATE TABLE \"regular_season_misc_totals\" (\n",
    "    \"id\" INTEGER NOT NULL,\n",
    "    \"season\" TEXT NOT NULL,\n",
    "    \"team\" TEXT NOT NULL,\n",
    "    \"DBLDBL\" INTEGER NOT NULL,\n",
    "    \"TRIDBL\" INTEGER NOT NULL,\n",
    "    \"DQ\" INTEGER NOT NULL,\n",
    "    \"EJECT\" INTEGER NOT NULL,\n",
    "    \"TECH\" INTEGER NOT NULL,\n",
    "    \"FLAG\" INTEGER NOT NULL,\n",
    "    \"AST2TO\" REAL NOT NULL,\n",
    "    \"STL2TO\" REAL NOT NULL,\n",
    "    \"RAT\" REAL NOT NULL,\n",
    "    \"SCEFF\" REAL NOT NULL,\n",
    "    \"SHEFF\" REAL NOT NULL,\n",
    "    unique(\"id\",\"season\",\"team\")\n",
    ");"
   ]
  },
  {
   "cell_type": "markdown",
   "metadata": {
    "run_control": {
     "frozen": false,
     "read_only": false
    }
   },
   "source": [
    "[[back to top]](#top)"
   ]
  }
 ],
 "metadata": {
  "hide_input": false,
  "kernelspec": {
   "display_name": "Python 3",
   "language": "python",
   "name": "python3"
  },
  "language_info": {
   "codemirror_mode": {
    "name": "ipython",
    "version": 3
   },
   "file_extension": ".py",
   "mimetype": "text/x-python",
   "name": "python",
   "nbconvert_exporter": "python",
   "pygments_lexer": "ipython3",
   "version": "3.7.3"
  }
 },
 "nbformat": 4,
 "nbformat_minor": 1
}
