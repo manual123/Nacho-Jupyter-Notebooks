{
 "cells": [
  {
   "cell_type": "markdown",
   "metadata": {},
   "source": [
    "## Python script used to scrape vehicle complaints information from [www.carcomplaints.com](http://www.carcomplaints.com) website."
   ]
  },
  {
   "cell_type": "raw",
   "metadata": {},
   "source": [
    "carcomplaints.com has a very easy-to-understand URL scheme.  It is basically in this format: http://www.carcomplaints.com/make/model/year/system/system.shtml"
   ]
  },
  {
   "cell_type": "code",
   "execution_count": 200,
   "metadata": {
    "collapsed": false
   },
   "outputs": [],
   "source": [
    "from collections import OrderedDict\n",
    "from bs4 import BeautifulSoup\n",
    "import urllib.request as request\n",
    "import re\n",
    "\n",
    "url_Honda = 'http://www.carcomplaints.com/Honda/'\n",
    "html_Honda = request.urlopen(url_Honda)\n",
    "\n",
    "soup_Honda = BeautifulSoup(html_Honda)"
   ]
  },
  {
   "cell_type": "markdown",
   "metadata": {},
   "source": [
    "### Honda Models Overall Complaint Counts (http://www.carcomplaints.com/Honda/)"
   ]
  },
  {
   "cell_type": "raw",
   "metadata": {},
   "source": [
    "Looking at the page source of http://www.carcomplaints.com/Honda/, it appears the data we want is embedded in the 'ul' element, with class='column bar', and id=c1 or c2 or c3"
   ]
  },
  {
   "cell_type": "code",
   "execution_count": 201,
   "metadata": {
    "collapsed": false
   },
   "outputs": [
    {
     "data": {
      "text/plain": [
       "[<ul class=\"column bar\" id=\"c1\">\n",
       "<li><a href=\"/Honda/Accord/\" title=\"Honda Accord complaints (8,560)\">Accord</a> <span class=\"count\">8,560</span> <span class=\"index\" style=\"width: 100%;\"> </span></li>\n",
       "<li><a href=\"/Honda/Accord_Crosstour/\" title=\"Honda Accord Crosstour complaints (6)\">Accord Crosstour</a> <span class=\"count\">6</span> <span class=\"index\" style=\"width: 5%;\"> </span></li>\n",
       "<li><a href=\"/Honda/Accord_Hybrid/\" title=\"Honda Accord Hybrid complaints (12)\">Accord Hybrid</a> <span class=\"count\">12</span> <span class=\"index\" style=\"width: 5%;\"> </span></li>\n",
       "<li><a href=\"/Honda/Ballade/\" title=\"Honda Ballade complaints (1)\">Ballade</a> <span class=\"count\">1</span> <span class=\"index\" style=\"width: 5%;\"> </span></li>\n",
       "<li><a href=\"/Honda/Brio/\" title=\"Honda Brio complaints (1)\">Brio</a> <span class=\"count\">1</span> <span class=\"index\" style=\"width: 5%;\"> </span></li>\n",
       "<li><a href=\"/Honda/City/\" title=\"Honda City complaints (22)\">City</a> <span class=\"count\">22</span> <span class=\"index\" style=\"width: 5%;\"> </span></li>\n",
       "<li><a href=\"/Honda/Civic/\" title=\"Honda Civic complaints (3,775)\">Civic</a> <span class=\"count\">3,775</span> <span class=\"index\" style=\"width: 44%;\"> </span></li>\n",
       "<li><a href=\"/Honda/Civic_Hybrid/\" title=\"Honda Civic Hybrid complaints (174)\">Civic Hybrid</a> <span class=\"count\">174</span> <span class=\"index\" style=\"width: 5%;\"> </span></li>\n",
       "<li><a href=\"/Honda/CR-V/\" title=\"Honda CR-V complaints (750)\">CR-V</a> <span class=\"count\">750</span> <span class=\"index\" style=\"width: 8%;\"> </span></li>\n",
       "</ul>,\n",
       " <ul class=\"column bar\" id=\"c2\">\n",
       "<li><a href=\"/Honda/CR-Z/\" title=\"Honda CR-Z complaints (11)\">CR-Z</a> <span class=\"count\">11</span> <span class=\"index\" style=\"width: 5%;\"> </span></li>\n",
       "<li><a href=\"/Honda/Crosstour/\" title=\"Honda Crosstour complaints (9)\">Crosstour</a> <span class=\"count\">9</span> <span class=\"index\" style=\"width: 5%;\"> </span></li>\n",
       "<li><a href=\"/Honda/CRX/\" title=\"Honda CRX complaints (4)\">CRX</a> <span class=\"count\">4</span> <span class=\"index\" style=\"width: 5%;\"> </span></li>\n",
       "<li><a href=\"/Honda/Del_Sol/\" title=\"Honda Del Sol complaints (2)\">Del Sol</a> <span class=\"count\">2</span> <span class=\"index\" style=\"width: 5%;\"> </span></li>\n",
       "<li><a href=\"/Honda/Element/\" title=\"Honda Element complaints (112)\">Element</a> <span class=\"count\">112</span> <span class=\"index\" style=\"width: 5%;\"> </span></li>\n",
       "<li><a href=\"/Honda/Fit/\" title=\"Honda Fit complaints (133)\">Fit</a> <span class=\"count\">133</span> <span class=\"index\" style=\"width: 5%;\"> </span></li>\n",
       "<li><a href=\"/Honda/Fit_EV/\" title=\"Honda Fit EV complaints (0)\">Fit EV</a> <span class=\"count\">0</span> <span class=\"index\" style=\"width: 5%;\"> </span></li>\n",
       "<li><a href=\"/Honda/Insight/\" title=\"Honda Insight complaints (12)\">Insight</a> <span class=\"count\">12</span> <span class=\"index\" style=\"width: 5%;\"> </span></li>\n",
       "<li><a href=\"/Honda/Jazz/\" title=\"Honda Jazz complaints (12)\">Jazz</a> <span class=\"count\">12</span> <span class=\"index\" style=\"width: 5%;\"> </span></li>\n",
       "</ul>,\n",
       " <ul class=\"column bar\" id=\"c3\">\n",
       "<li><a href=\"/Honda/Odyssey/\" title=\"Honda Odyssey complaints (1,555)\">Odyssey</a> <span class=\"count\">1,555</span> <span class=\"index\" style=\"width: 18%;\"> </span></li>\n",
       "<li><a href=\"/Honda/Orthia/\" title=\"Honda Orthia complaints (1)\">Orthia</a> <span class=\"count\">1</span> <span class=\"index\" style=\"width: 5%;\"> </span></li>\n",
       "<li><a href=\"/Honda/Passport/\" title=\"Honda Passport complaints (66)\">Passport</a> <span class=\"count\">66</span> <span class=\"index\" style=\"width: 5%;\"> </span></li>\n",
       "<li><a href=\"/Honda/Pilot/\" title=\"Honda Pilot complaints (522)\">Pilot</a> <span class=\"count\">522</span> <span class=\"index\" style=\"width: 6%;\"> </span></li>\n",
       "<li><a href=\"/Honda/Prelude/\" title=\"Honda Prelude complaints (54)\">Prelude</a> <span class=\"count\">54</span> <span class=\"index\" style=\"width: 5%;\"> </span></li>\n",
       "<li><a href=\"/Honda/Ridgeline/\" title=\"Honda Ridgeline complaints (81)\">Ridgeline</a> <span class=\"count\">81</span> <span class=\"index\" style=\"width: 5%;\"> </span></li>\n",
       "<li><a href=\"/Honda/S2000/\" title=\"Honda S2000 complaints (4)\">S2000</a> <span class=\"count\">4</span> <span class=\"index\" style=\"width: 5%;\"> </span></li>\n",
       "</ul>]"
      ]
     },
     "execution_count": 201,
     "metadata": {},
     "output_type": "execute_result"
    }
   ],
   "source": [
    "ul = soup_Honda.find_all('ul', class_='column bar',id=re.compile('c*'))\n",
    "ul"
   ]
  },
  {
   "cell_type": "markdown",
   "metadata": {},
   "source": [
    "As you can see from above, the data I want (the model name and # of complaints are in the &lt;li&gt; tags).  I will make a Python dict of this data:"
   ]
  },
  {
   "cell_type": "code",
   "execution_count": 202,
   "metadata": {
    "collapsed": false
   },
   "outputs": [],
   "source": [
    "honda_model_counts_dict = {}\n",
    "num_column_data = len(ul)  # The data is divided up in arbitrary number of columns per HTML page source\n",
    "for i in range(num_column_data):  # For each column of data...\n",
    "    for row in ul[i].find_all('li'):\n",
    "        honda_model_counts_dict[row.a.get_text()] = int(row.span.get_text().replace(\",\",\"\"))"
   ]
  },
  {
   "cell_type": "code",
   "execution_count": 203,
   "metadata": {
    "collapsed": false
   },
   "outputs": [
    {
     "data": {
      "text/plain": [
       "{'Accord': 8560,\n",
       " 'Accord Crosstour': 6,\n",
       " 'Accord Hybrid': 12,\n",
       " 'Ballade': 1,\n",
       " 'Brio': 1,\n",
       " 'CR-V': 750,\n",
       " 'CR-Z': 11,\n",
       " 'CRX': 4,\n",
       " 'City': 22,\n",
       " 'Civic': 3775,\n",
       " 'Civic Hybrid': 174,\n",
       " 'Crosstour': 9,\n",
       " 'Del Sol': 2,\n",
       " 'Element': 112,\n",
       " 'Fit': 133,\n",
       " 'Fit EV': 0,\n",
       " 'Insight': 12,\n",
       " 'Jazz': 12,\n",
       " 'Odyssey': 1555,\n",
       " 'Orthia': 1,\n",
       " 'Passport': 66,\n",
       " 'Pilot': 522,\n",
       " 'Prelude': 54,\n",
       " 'Ridgeline': 81,\n",
       " 'S2000': 4}"
      ]
     },
     "execution_count": 203,
     "metadata": {},
     "output_type": "execute_result"
    }
   ],
   "source": [
    "honda_model_counts_dict"
   ]
  },
  {
   "cell_type": "markdown",
   "metadata": {},
   "source": [
    "### Acura Models Overall Complaint Counts"
   ]
  },
  {
   "cell_type": "markdown",
   "metadata": {},
   "source": [
    "Using the same procedure I did for Honda, I will get the Acura models and their respective complaint counts."
   ]
  },
  {
   "cell_type": "code",
   "execution_count": 204,
   "metadata": {
    "collapsed": false
   },
   "outputs": [
    {
     "data": {
      "text/html": [
       "<table border=\"1\"><tr><th>Model Name</th><th># of Complaints</th></tr><tr><td align=\"center\">TL</td><td align=\"center\">109</td></tr><tr><td align=\"center\">MDX</td><td align=\"center\">50</td></tr><tr><td align=\"center\">TSX</td><td align=\"center\">36</td></tr><tr><td align=\"center\">Legend</td><td align=\"center\">27</td></tr><tr><td align=\"center\">Integra</td><td align=\"center\">25</td></tr><tr><td align=\"center\">RDX</td><td align=\"center\">20</td></tr><tr><td align=\"center\">CL</td><td align=\"center\">17</td></tr><tr><td align=\"center\">RSX</td><td align=\"center\">15</td></tr><tr><td align=\"center\">RL</td><td align=\"center\">11</td></tr><tr><td align=\"center\">1.7EL</td><td align=\"center\">5</td></tr><tr><td align=\"center\">EL</td><td align=\"center\">4</td></tr><tr><td align=\"center\">Vigor</td><td align=\"center\">2</td></tr><tr><td align=\"center\">RLX</td><td align=\"center\">1</td></tr><tr><td align=\"center\">SLX</td><td align=\"center\">1</td></tr><tr><td align=\"center\">ILX Hybrid</td><td align=\"center\">0</td></tr><tr><td align=\"center\">ILX</td><td align=\"center\">0</td></tr><tr><td align=\"center\">NSX</td><td align=\"center\">0</td></tr><tr><td align=\"center\">ZDX</td><td align=\"center\">0</td></tr></table>"
      ],
      "text/plain": [
       "<IPython.core.display.HTML at 0x5c89870>"
      ]
     },
     "execution_count": 204,
     "metadata": {},
     "output_type": "execute_result"
    }
   ],
   "source": [
    "from collections import OrderedDict\n",
    "from bs4 import BeautifulSoup\n",
    "from IPython.display import HTML\n",
    "import urllib.request as request\n",
    "import re\n",
    "\n",
    "url_Acura = 'http://www.carcomplaints.com/Acura/'\n",
    "html_Acura = request.urlopen(url_Acura)\n",
    "\n",
    "soup_Acura = BeautifulSoup(html_Acura)\n",
    "ul = soup_Acura.find_all('ul', class_='column bar',id=re.compile('c*'))\n",
    "\n",
    "acura_model_counts_dict = {}\n",
    "num_column_data = len(ul)  # The data is divided up in arbitrary number of columns\n",
    "for i in range(num_column_data):  # For each column of data...\n",
    "    for row in ul[i].find_all('li'):\n",
    "        acura_model_counts_dict[row.a.get_text()] = int(row.span.get_text().replace(\",\",\"\"))\n",
    "\n",
    "OD_Acura = OrderedDict(sorted(acura_model_counts_dict.items(), key=lambda t: t[1], reverse=True))\n",
    "\n",
    "s_header = '<table border=\"1\"><tr><th>Model Name</th><th># of Complaints</th></tr>'\n",
    "\n",
    "s_data = ''\n",
    "for key in OD_Acura.keys():\n",
    "    s_data = s_data + '<tr><td align=\"center\">' + key + '</td>' + '<td align=\"center\">' + str(OD_Acura[key]) + '</td></tr>'\n",
    "\n",
    "s_footer = \"</table>\"\n",
    "\n",
    "h = HTML(s_header+s_data+s_footer);h"
   ]
  },
  {
   "cell_type": "markdown",
   "metadata": {},
   "source": [
    "#### Honda version executed all in one cell"
   ]
  },
  {
   "cell_type": "code",
   "execution_count": 205,
   "metadata": {
    "collapsed": false
   },
   "outputs": [
    {
     "data": {
      "text/html": [
       "<table border=\"1\"><tr><th>Model Name</th><th># of Complaints</th></tr><tr><td align=\"center\">Accord</td><td align=\"center\">8560</td></tr><tr><td align=\"center\">Civic</td><td align=\"center\">3775</td></tr><tr><td align=\"center\">Odyssey</td><td align=\"center\">1555</td></tr><tr><td align=\"center\">CR-V</td><td align=\"center\">750</td></tr><tr><td align=\"center\">Pilot</td><td align=\"center\">522</td></tr><tr><td align=\"center\">Civic Hybrid</td><td align=\"center\">174</td></tr><tr><td align=\"center\">Fit</td><td align=\"center\">133</td></tr><tr><td align=\"center\">Element</td><td align=\"center\">112</td></tr><tr><td align=\"center\">Ridgeline</td><td align=\"center\">81</td></tr><tr><td align=\"center\">Passport</td><td align=\"center\">66</td></tr><tr><td align=\"center\">Prelude</td><td align=\"center\">54</td></tr><tr><td align=\"center\">City</td><td align=\"center\">22</td></tr><tr><td align=\"center\">Jazz</td><td align=\"center\">12</td></tr><tr><td align=\"center\">Insight</td><td align=\"center\">12</td></tr><tr><td align=\"center\">Accord Hybrid</td><td align=\"center\">12</td></tr><tr><td align=\"center\">CR-Z</td><td align=\"center\">11</td></tr><tr><td align=\"center\">Crosstour</td><td align=\"center\">9</td></tr><tr><td align=\"center\">Accord Crosstour</td><td align=\"center\">6</td></tr><tr><td align=\"center\">S2000</td><td align=\"center\">4</td></tr><tr><td align=\"center\">CRX</td><td align=\"center\">4</td></tr><tr><td align=\"center\">Del Sol</td><td align=\"center\">2</td></tr><tr><td align=\"center\">Brio</td><td align=\"center\">1</td></tr><tr><td align=\"center\">Orthia</td><td align=\"center\">1</td></tr><tr><td align=\"center\">Ballade</td><td align=\"center\">1</td></tr><tr><td align=\"center\">Fit EV</td><td align=\"center\">0</td></tr></table>"
      ],
      "text/plain": [
       "<IPython.core.display.HTML at 0x8917030>"
      ]
     },
     "execution_count": 205,
     "metadata": {},
     "output_type": "execute_result"
    }
   ],
   "source": [
    "from collections import OrderedDict\n",
    "from bs4 import BeautifulSoup\n",
    "from IPython.display import HTML\n",
    "import urllib.request as request\n",
    "import re\n",
    "\n",
    "url_Honda = 'http://www.carcomplaints.com/Honda/'\n",
    "html_Honda = request.urlopen(url_Honda)\n",
    "\n",
    "soup_Honda = BeautifulSoup(html_Honda)\n",
    "ul = soup_Honda.find_all('ul', class_='column bar',id=re.compile('c*'))\n",
    "\n",
    "honda_model_counts_dict = {}\n",
    "num_column_data = len(ul)  # The data is divided up in arbitrary number of columns per HTML page source\n",
    "for i in range(num_column_data):  # For each column of data...\n",
    "    for row in ul[i].find_all('li'):\n",
    "        honda_model_counts_dict[row.a.get_text()] = int(row.span.get_text().replace(\",\",\"\"))\n",
    "        \n",
    "OD_Honda = OrderedDict(sorted(honda_model_counts_dict.items(), key=lambda t: t[1], reverse=True))\n",
    "\n",
    "s_header = '<table border=\"1\"><tr><th>Model Name</th><th># of Complaints</th></tr>'\n",
    "\n",
    "s_data = ''\n",
    "for key in OD_Honda.keys():\n",
    "    s_data = s_data + '<tr><td align=\"center\">' + key + '</td>' + '<td align=\"center\">' + str(OD_Honda[key]) + '</td></tr>'\n",
    "\n",
    "s_footer = \"</table>\"\n",
    "\n",
    "h = HTML(s_header+s_data+s_footer);h"
   ]
  },
  {
   "cell_type": "markdown",
   "metadata": {},
   "source": [
    "#### OK, now that I've shown how to obtain the number of complaints for each model in a step-by-step manner, it is time to make a function out of this so we can re-use all this code"
   ]
  },
  {
   "cell_type": "code",
   "execution_count": 253,
   "metadata": {
    "collapsed": false
   },
   "outputs": [],
   "source": [
    "from bs4 import BeautifulSoup\n",
    "import urllib.request as request\n",
    "import re\n",
    "\n",
    "def getCountsByModel(make):\n",
    "    \"\"\"Method that returns the number of complaints for each model based on vehicle make\n",
    "    Applicable make values are: 'Honda','Acura','Ford','GM',etc\n",
    "    Method returns a dictionary where the key is the model, value is the qty of complaints\"\"\"\n",
    "    \n",
    "    url = 'http://www.carcomplaints.com/'\n",
    "    url_make = url+make+'/'\n",
    "    html_make = request.urlopen(url_make)\n",
    "    \n",
    "    soup = BeautifulSoup(html_make)\n",
    "    ul = soup.find_all('ul', class_='column bar',id=re.compile('c*'))\n",
    "    \n",
    "    make_model_counts_dict = OrderedDict()\n",
    "    num_column_data = len(ul)  # The data is divided up in arbitrary number of columns per HTML page source\n",
    "    for i in range(num_column_data):  # For each column of data...\n",
    "        for row in ul[i].find_all('li'):\n",
    "            make_model_counts_dict[row.a.get_text()] = int(row.span.get_text().replace(\",\",\"\"))\n",
    "            \n",
    "    return make_model_counts_dict"
   ]
  },
  {
   "cell_type": "code",
   "execution_count": 254,
   "metadata": {
    "collapsed": false
   },
   "outputs": [
    {
     "data": {
      "text/plain": [
       "OrderedDict([('Accord', 8560), ('Accord Crosstour', 6), ('Accord Hybrid', 12), ('Ballade', 1), ('Brio', 1), ('City', 22), ('Civic', 3775), ('Civic Hybrid', 174), ('CR-V', 750), ('CR-Z', 11), ('Crosstour', 9), ('CRX', 4), ('Del Sol', 2), ('Element', 112), ('Fit', 133), ('Fit EV', 0), ('Insight', 12), ('Jazz', 12), ('Odyssey', 1555), ('Orthia', 1), ('Passport', 66), ('Pilot', 522), ('Prelude', 54), ('Ridgeline', 81), ('S2000', 4)])"
      ]
     },
     "execution_count": 254,
     "metadata": {},
     "output_type": "execute_result"
    }
   ],
   "source": [
    "getCountsByModel('Honda')"
   ]
  },
  {
   "cell_type": "markdown",
   "metadata": {},
   "source": [
    "#### I also made a function to get all available makes at carcomplaints.com"
   ]
  },
  {
   "cell_type": "code",
   "execution_count": 208,
   "metadata": {
    "collapsed": true
   },
   "outputs": [],
   "source": [
    "from bs4 import BeautifulSoup\n",
    "import urllib.request as request\n",
    "import re\n",
    "\n",
    "def getMakes():\n",
    "    \"\"\"Function to get all the makes available at carcomplaints.com\"\"\"\n",
    "    \n",
    "    url = 'http://www.carcomplaints.com/'\n",
    "    html = request.urlopen(url)\n",
    "    \n",
    "    soup = BeautifulSoup(html)\n",
    "    sections = soup.find_all('section', id=re.compile('makes'))\n",
    "    \n",
    "    make_list = []\n",
    "    for section in range(len(sections)):\n",
    "        for li in sections[section].find_all('li'):\n",
    "            make_list.append(li.get_text())\n",
    "    \n",
    "    return make_list"
   ]
  },
  {
   "cell_type": "code",
   "execution_count": 209,
   "metadata": {
    "collapsed": false
   },
   "outputs": [
    {
     "data": {
      "text/plain": [
       "['Acura',\n",
       " 'Audi',\n",
       " 'BMW',\n",
       " 'Buick',\n",
       " 'Cadillac',\n",
       " 'Chevrolet',\n",
       " 'Chrysler',\n",
       " 'Dodge',\n",
       " 'Ford',\n",
       " 'GMC',\n",
       " 'Honda',\n",
       " 'Hyundai',\n",
       " 'Infiniti',\n",
       " 'Isuzu',\n",
       " 'Jeep',\n",
       " 'Kia',\n",
       " 'Lexus',\n",
       " 'Lincoln',\n",
       " 'Mazda',\n",
       " 'Mercedes-Benz',\n",
       " 'Mercury',\n",
       " 'Mini',\n",
       " 'Mitsubishi',\n",
       " 'Nissan',\n",
       " 'Oldsmobile',\n",
       " 'Plymouth',\n",
       " 'Pontiac',\n",
       " 'Porsche',\n",
       " 'Ram',\n",
       " 'Saab',\n",
       " 'Saturn',\n",
       " 'Scion',\n",
       " 'Subaru',\n",
       " 'Toyota',\n",
       " 'Volvo',\n",
       " 'VW',\n",
       " 'Alfa Romeo',\n",
       " 'AMC',\n",
       " 'Bentley',\n",
       " 'Chery',\n",
       " 'Daewoo',\n",
       " 'Datsun',\n",
       " 'Eagle',\n",
       " 'Ferrari',\n",
       " 'Fiat',\n",
       " 'Geo',\n",
       " 'Holden',\n",
       " 'HSV',\n",
       " 'Hummer',\n",
       " 'Jaguar',\n",
       " 'Kenworth',\n",
       " 'Lamborghini',\n",
       " 'Land Rover',\n",
       " 'Mahindra',\n",
       " 'Maruti',\n",
       " 'Opel',\n",
       " 'Peugeot',\n",
       " 'Renault',\n",
       " 'Rover',\n",
       " 'Seat',\n",
       " 'Skoda',\n",
       " 'Suzuki',\n",
       " 'Tata',\n",
       " 'Tesla',\n",
       " 'Vauxhall',\n",
       " 'Zimmer']"
      ]
     },
     "execution_count": 209,
     "metadata": {},
     "output_type": "execute_result"
    }
   ],
   "source": [
    "getMakes()"
   ]
  },
  {
   "cell_type": "markdown",
   "metadata": {},
   "source": [
    "#### Function to get available model years and complaint qty from a give model"
   ]
  },
  {
   "cell_type": "code",
   "execution_count": 221,
   "metadata": {
    "collapsed": false
   },
   "outputs": [],
   "source": [
    "from bs4 import BeautifulSoup\n",
    "import urllib.request as request\n",
    "import re\n",
    "\n",
    "def getYearCounts(make, model):\n",
    "    \"\"\"Function that returns a Python dict that contains model years and their complaint qty\"\"\"\n",
    "    \n",
    "    url = 'http://www.carcomplaints.com/'+make+'/'+model+'/'\n",
    "    html = request.urlopen(url)\n",
    "\n",
    "    soup = BeautifulSoup(html)\n",
    "    li = soup.find_all('li', id=re.compile('bar*'))\n",
    "\n",
    "    year_counts_dict = {}\n",
    "    for item in li:\n",
    "        year_counts_dict[int(item.find('span',class_='label').get_text())]=int(item.find('span',class_='count').get_text().replace(\",\",\"\"))\n",
    "    \n",
    "    return year_counts_dict"
   ]
  },
  {
   "cell_type": "code",
   "execution_count": 222,
   "metadata": {
    "collapsed": false
   },
   "outputs": [
    {
     "data": {
      "text/plain": [
       "{1979: 1,\n",
       " 1986: 15,\n",
       " 1987: 2,\n",
       " 1988: 13,\n",
       " 1989: 16,\n",
       " 1990: 33,\n",
       " 1991: 69,\n",
       " 1992: 39,\n",
       " 1993: 37,\n",
       " 1994: 44,\n",
       " 1995: 20,\n",
       " 1996: 38,\n",
       " 1997: 52,\n",
       " 1998: 392,\n",
       " 1999: 313,\n",
       " 2000: 424,\n",
       " 2001: 488,\n",
       " 2002: 836,\n",
       " 2003: 1447,\n",
       " 2004: 460,\n",
       " 2005: 184,\n",
       " 2006: 141,\n",
       " 2007: 212,\n",
       " 2008: 2031,\n",
       " 2009: 696,\n",
       " 2010: 243,\n",
       " 2011: 123,\n",
       " 2012: 112,\n",
       " 2013: 78,\n",
       " 2014: 1}"
      ]
     },
     "execution_count": 222,
     "metadata": {},
     "output_type": "execute_result"
    }
   ],
   "source": [
    "getYearCounts('Honda','Accord')"
   ]
  },
  {
   "cell_type": "markdown",
   "metadata": {},
   "source": [
    "#### Function to get Top Systems by Qty"
   ]
  },
  {
   "cell_type": "code",
   "execution_count": 198,
   "metadata": {
    "collapsed": false
   },
   "outputs": [],
   "source": [
    "from bs4 import BeautifulSoup\n",
    "from collections import OrderedDict\n",
    "import urllib.request as request\n",
    "import re\n",
    "\n",
    "def getTopSystemsQty(make, model, year):\n",
    "    \"\"\"Function that returns an OrderedDict containing system problems and their complaint qty\"\"\"\n",
    "    \n",
    "    url = 'http://www.carcomplaints.com/'+make+'/'+model+'/'+str(year)+'/'\n",
    "    html = request.urlopen(url)\n",
    "\n",
    "    soup = BeautifulSoup(html)\n",
    "    li = soup.find_all('li', id=re.compile('bar*'))\n",
    "    \n",
    "    problem_counts_dict = OrderedDict()  # We want to maintain insertion order\n",
    "    for item in li:\n",
    "        try:\n",
    "            problem_counts_dict[item.a['href'][:-1]]=int(item.span.get_text().replace(\",\",\"\"))\n",
    "        except:\n",
    "            pass\n",
    "        \n",
    "    return problem_counts_dict"
   ]
  },
  {
   "cell_type": "code",
   "execution_count": 199,
   "metadata": {
    "collapsed": false
   },
   "outputs": [
    {
     "data": {
      "text/plain": [
       "OrderedDict([('electrical', 21), ('accessories-interior', 11), ('engine', 7), ('body_paint', 5), ('transmission', 2), ('wheels_hubs', 2), ('cooling_system', 1), ('steering', 1), ('suspension', 1)])"
      ]
     },
     "execution_count": 199,
     "metadata": {},
     "output_type": "execute_result"
    }
   ],
   "source": [
    "getTopSystemsQty(year=2012, make='Honda', model='CR-V')"
   ]
  },
  {
   "cell_type": "code",
   "execution_count": 280,
   "metadata": {
    "collapsed": false
   },
   "outputs": [
    {
     "data": {
      "text/plain": [
       "OrderedDict([('engine', 144), ('electrical', 6), ('windows_windshield', 6), ('cooling_system', 3), ('transmission', 3), ('AC_heater', 2), ('body_paint', 2), ('drivetrain', 2), ('steering', 2), ('accessories-interior', 1), ('brakes', 1), ('exhaust_system', 1), ('fuel_system', 1), ('suspension', 1), ('wheels_hubs', 1)])"
      ]
     },
     "execution_count": 280,
     "metadata": {},
     "output_type": "execute_result"
    }
   ],
   "source": [
    "getTopSystemsQty(year=2001, make='Nissan', model='Altima')"
   ]
  },
  {
   "cell_type": "markdown",
   "metadata": {},
   "source": [
    "#### Function to get number of corresponding qty of NHTSA complaints for each system category"
   ]
  },
  {
   "cell_type": "code",
   "execution_count": 297,
   "metadata": {
    "collapsed": false
   },
   "outputs": [],
   "source": [
    "from bs4 import BeautifulSoup\n",
    "from collections import OrderedDict\n",
    "import urllib.request as request\n",
    "import re\n",
    "\n",
    "\n",
    "def getNhtsaSystemsQty(make, model, year):\n",
    "    \"\"\"Function that returns an OrderedDict containing qty of NHTSA complaints by system\"\"\"\n",
    "    \n",
    "    url = 'http://www.carcomplaints.com/'+make+'/'+model+'/'+str(year)+'/'\n",
    "    html = request.urlopen(url)\n",
    "\n",
    "    soup = BeautifulSoup(html)\n",
    "\n",
    "    nhtsa = soup.find_all('em', class_='nhtsa')\n",
    "\n",
    "    nhtsa_counts = []\n",
    "    for item in nhtsa:\n",
    "        try:\n",
    "            # There are 3 string tokens separated by whitespace, i want the 3rd token which is the qty\n",
    "            nhtsa_counts.append(int(item.span.get_text().split()[2]))\n",
    "        except:\n",
    "            # Unfortunately, some only have 2 tokens\n",
    "            nhtsa_counts.append(int(item.span.get_text().split()[1]))\n",
    "\n",
    "    systems = soup.find_all('li', id=re.compile('bar*'))\n",
    "\n",
    "    systems_list = []\n",
    "    for item in systems:\n",
    "        systems_list.append(item.a['href'][:-1]) # Remove the ending forward slash\n",
    "\n",
    "    nhtsa_systems_counts = list(zip(systems_list,nhtsa_counts))\n",
    "    \n",
    "    nhtsa_systems_qty_dict = OrderedDict()\n",
    "    for item in nhtsa_systems_counts:\n",
    "        nhtsa_systems_qty_dict[item[0]]=item[1]\n",
    "    \n",
    "        \n",
    "    return nhtsa_systems_qty_dict"
   ]
  },
  {
   "cell_type": "code",
   "execution_count": 298,
   "metadata": {
    "collapsed": true
   },
   "outputs": [
    {
     "data": {
      "text/plain": [
       "OrderedDict([('transmission', 129), ('seat_belts_air_bags', 327), ('engine', 76), ('body_paint', 8), ('electrical', 49), ('accessories-interior', 41), ('AC_heater', 1), ('brakes', 57), ('exhaust_system', 5), ('windows_windshield', 10), ('cooling_system', 1), ('drivetrain', 53), ('lights', 5), ('suspension', 20), ('fuel_system', 16), ('steering', 11), ('wheels_hubs', 24), ('miscellaneous', 6), ('accessories-exterior', 4), ('clutch', 1)])"
      ]
     },
     "execution_count": 298,
     "metadata": {},
     "output_type": "execute_result"
    }
   ],
   "source": [
    "getNhtsaSystemsQty('Honda','Accord','2001')"
   ]
  },
  {
   "cell_type": "markdown",
   "metadata": {},
   "source": [
    "#### Function to get qty of complaints by sub-system"
   ]
  },
  {
   "cell_type": "code",
   "execution_count": 251,
   "metadata": {
    "collapsed": false
   },
   "outputs": [],
   "source": [
    "from bs4 import BeautifulSoup\n",
    "from collections import OrderedDict\n",
    "import urllib.request as request\n",
    "import re\n",
    "\n",
    "make = 'Honda'\n",
    "model = 'Civic'\n",
    "year = 2001\n",
    "system = 'transmission'\n",
    "\n",
    "def getSubSystemsQty(make, model, year, system):\n",
    "    \"\"\"Function that will return an OrderedDict of # of complaints by sub-system\"\"\"\n",
    "    \n",
    "    url = 'http://www.carcomplaints.com/'+make+'/'+model+'/'+str(year)+'/'+system+'/'\n",
    "    html = request.urlopen(url)\n",
    "    soup = BeautifulSoup(html)\n",
    "\n",
    "    li = soup.find_all('li', id=re.compile('bar*'))\n",
    "\n",
    "    subsystem_counts_dict = OrderedDict()  # We want to maintain insertion order\n",
    "    for item in li:\n",
    "        subsystem_counts_dict[item.a['href'].split(\".\")[0]]=int(item.span.get_text().replace(\",\",\"\"))\n",
    "        \n",
    "    return subsystem_counts_dict"
   ]
  },
  {
   "cell_type": "code",
   "execution_count": 316,
   "metadata": {
    "collapsed": false
   },
   "outputs": [
    {
     "data": {
      "text/plain": [
       "OrderedDict([('transmission_slipping', 96), ('transmission_failure', 83), ('jerks_in_gear', 27), ('clunking_between_gears_when_shifting', 11), ('loss_of_power', 9), ('loud_noise_from_transmission', 7), ('transmission_fluid_leak', 2), ('not_shifting_properly', 1), ('power_train-automatic_transmission', 130), ('power_train-automatic_transmission-torque_converter', 4), ('power_train-automatic_transmission-cooling_unit_and_lines', 2), ('power_train-automatic_transmission-lever_and_linkage-floor_shift', 2), ('power_train-automatic_transmission-lever_and_linkage-column_shift', 1), ('power_train-manual_transmission', 1)])"
      ]
     },
     "execution_count": 316,
     "metadata": {},
     "output_type": "execute_result"
    }
   ],
   "source": [
    "getSubSystemsQty('Honda','Accord','2000','transmission')"
   ]
  },
  {
   "cell_type": "markdown",
   "metadata": {},
   "source": [
    "#### Function to get the review text for a specific system failure"
   ]
  },
  {
   "cell_type": "code",
   "execution_count": 317,
   "metadata": {
    "collapsed": false
   },
   "outputs": [],
   "source": [
    "from bs4 import BeautifulSoup\n",
    "import urllib.request as request\n",
    "import re\n",
    "\n",
    "def getReviews(make, model, year, system, subsystem):\n",
    "    \"\"\"Function that returns a list of customer reviews\"\"\"\n",
    "    \n",
    "    url = 'http://www.carcomplaints.com/'+make+'/'+model+'/'+str(year)+'/'+system+'/'+subsystem+'.shtml'\n",
    "    html = request.urlopen(url)\n",
    "    soup = BeautifulSoup(html)\n",
    "\n",
    "    reviews = soup.find_all('div', itemprop=\"reviewBody\")\n",
    "    \n",
    "    complaints = []\n",
    "    for complaint in reviews:\n",
    "        complaints.append(complaint.p.get_text())\n",
    "        \n",
    "    return complaints"
   ]
  },
  {
   "cell_type": "code",
   "execution_count": 318,
   "metadata": {
    "collapsed": false
   },
   "outputs": [
    {
     "name": "stdout",
     "output_type": "stream",
     "text": [
      "This is the second time that the speed sensor has gone out in the last nine months.\n",
      "************************************************************************************************************************\n",
      "Syncros are bad, pops out of gear and doesn't get back in.. throw out bearing was bad too\n",
      "************************************************************************************************************************\n",
      "The transmission of my 2001 civic began popping out of 4th gear on occasion. The car was my wifes and I didn't normally drive it. When I did and if popped out during acceleration she told me it had been doing it for a while. We decided to get a new car since we saw a trend since we just put in new struts and had the anti-lock break system replaced for about $1000 each . The Honda dealership test drove it and said it needed a new transmission. This had a large impact on the trade in value. I need to keep an eye on this site and when I see if our 2010 civic might have issues and trade in before the problem manifests\n",
      "************************************************************************************************************************\n",
      "as a auto mechanic and auto car collector for 40 years, it is clear honda did not build these manual transmissions correctly. they should not pop out of gear at 100000.\n",
      "************************************************************************************************************************\n",
      "HONDA IS NO LONGER THE RELIABILITY CHAMP . I WON`T BE BUYING ANOTHER ONE .\n",
      "************************************************************************************************************************\n",
      "My 2001 Honda Civic EX will NOT stay in 5 gear for more than a split second. As soon as I put it in gear it pops out, so now I can't travel on roads over 50mph for any longer than a few minutes. At speeds around 45/50 and up the car eats gas worse than a chevrolet suburban because it runs around 3500rpm on up in 4th gear. Honda knows about this problem but refuse to fix it. They should fix our transmissions that are popping out at a million miles, it is their fault.\n",
      "************************************************************************************************************************\n",
      "I purchased a 2001 Honda Civic Ex for my daughter in November 2009. A couple weeks later, I find that the gear jumps outta 2nd gear when I'm driving around residential areas. I should have reported it to the dealership I bought it from but they would have countered with the \"as is\" clause when buying a new car. And like the other consumer complaints, the gears do feel as if they are grinding when shifting to another gear. Put me down as a litigant for a Honda Civic recall!\n",
      "************************************************************************************************************************\n",
      "My car either grinds into or pops out of 2nd gear. Very Annoying!! I will probably never buy a Honda again.\n",
      "************************************************************************************************************************\n",
      "Well I guess I'm not alone in this category! All of a sudden about a week or 2 ago I noticed it became difficult to move my stick shift. Someone else here said and I quote \" feels like I'm moving the stick shift through sand\" and that is just how I feel. In addition to the fact that it also pops out of 2nd and 4th gear. I'm not happy :( taking it in to get looked at, but can't understand for the life of me why Honda doesn't fix the problem with so many complaints filed. We will see\n",
      "************************************************************************************************************************\n",
      "felt my gears getting harder to shift, very difficulrt to get it into 4th gear and pops out of third...so I brought it to the mechanic \n",
      "************************************************************************************************************************\n",
      "I bought the 2001 Honda Civic as a cheap reliable car to help me travel 350 miles from home to school whenever the holidays or breaks would occur. Unfortunately, that is where I failed in my decision, believing Honda Civics was the SOLUTION!!! I now own a car that has already forced me out of the road once and may screw me over the coming months, I just don't know when. The transmission is seemingly destined for failure as fellow owners of this Honda all seem to have the same terrible end. What must we do for a class action suit, cause I'm so IN!!! Please do not stop communicating we need to move on this. Anyone feel similarly, please e-mail me at rocketboyssk@gmail.com.\n",
      "************************************************************************************************************************\n",
      "The service department told my wife we weren't the only ones with this problem and he thought they may come out with a recall.\n",
      "************************************************************************************************************************\n",
      "WOW! what a nightmare we are all sharing. I've dumped $6K into my 2001 Civic EX bought in Oct. '02 in the last 18 months alone. First the catalytic converter crapped out (twice!) and they found a problem with the struts. That was Sept. '03 (at the very beginning of a new job after being out for 2 yrs, thank you very much!) and THEN, just last Friday, I noticed it felt like I was pushing the shift thru sand to get it into 4th gear, so I brought it to the mechanic.Guess I'm luckier than most.... My baby didn't dump me. \n",
      "************************************************************************************************************************\n",
      "My husband I bought a 2001 civic in 2007. Soon after the gear would pop out of 2nd. From asking around, it seemed to be less expensive to replace the transmission with a used one then to repair it. I wish we didn't put out cash into this piece of crap and bought an automatic instead!\n",
      "************************************************************************************************************************\n",
      "Well I guess I get to join the Honda hate club. My tranny just went out while driving through town thank god I was at a red light when it happened otherwise who know what might have happened. I'm hopping a family friend can get this fixed but after all the post I read I think I'm screw I hope I can get some info on what will be the best to do through those that already fixed this problem.\n",
      "************************************************************************************************************************\n",
      "Thought Hondas' were the best thing there was for the money. Still do i guess. Just bought the car and was told that the gears were slippin. Being mechanically savvy i thought that i could take care of it. It however increased in occurrence and then now is a literal pain in the ass. I love my car, spent a lot of money on it. Now i just need it to be great again.\n",
      "************************************************************************************************************************\n",
      "For two years, I'd been putting up with the gearshifter popping out of 2nd gear on occasion (especially when I'm turning right and engaging the gear at the same time). Over time, it got more frequent, and I finally decided to bite the bullet and have the transmission looked at by a mechanic. Turns out the synchros were shot, and the transmission needed a rebuild (or, I could have opted to replace the transmission for another few hundred bucks). \n",
      "************************************************************************************************************************\n"
     ]
    }
   ],
   "source": [
    "for complaint in getReviews('Honda','Civic','2001','transmission','pops_out_of_gear'):\n",
    "    print(complaint)\n",
    "    print('*'*120)"
   ]
  }
 ],
 "metadata": {
  "kernelspec": {
   "display_name": "Python 3",
   "language": "python",
   "name": "python3"
  },
  "language_info": {
   "codemirror_mode": {
    "name": "ipython",
    "version": 3
   },
   "file_extension": ".py",
   "mimetype": "text/x-python",
   "name": "python",
   "nbconvert_exporter": "python",
   "pygments_lexer": "ipython3",
   "version": "3.4.3"
  }
 },
 "nbformat": 4,
 "nbformat_minor": 0
}
