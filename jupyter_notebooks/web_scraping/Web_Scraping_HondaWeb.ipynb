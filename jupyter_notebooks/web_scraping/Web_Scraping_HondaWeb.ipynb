{
 "cells": [
  {
   "cell_type": "markdown",
   "metadata": {
    "deletable": true,
    "editable": true,
    "run_control": {
     "frozen": false,
     "read_only": false
    }
   },
   "source": [
    "# Web Scraping HondaWeb to Obtain Member Skills"
   ]
  },
  {
   "cell_type": "code",
   "execution_count": 1,
   "metadata": {
    "collapsed": true,
    "deletable": true,
    "editable": true,
    "run_control": {
     "frozen": false,
     "read_only": false
    }
   },
   "outputs": [],
   "source": [
    "import requests, lxml.html\n",
    "from getpass import getpass\n",
    "from bs4 import BeautifulSoup\n",
    "\n",
    "s = requests.session()"
   ]
  },
  {
   "cell_type": "markdown",
   "metadata": {
    "deletable": true,
    "editable": true,
    "run_control": {
     "frozen": false,
     "read_only": false
    }
   },
   "source": [
    "The default login page requires that a user enters their user name and password.  But, there may be some additional data that we may need to send with our request in addition to the user name and password.  Most often, they are defined as **hidden inputs** in the html's ```form``` tag."
   ]
  },
  {
   "cell_type": "markdown",
   "metadata": {
    "deletable": true,
    "editable": true,
    "run_control": {
     "frozen": false,
     "read_only": false
    }
   },
   "source": [
    "**We can programmatically obtain hidden input fields in the log-in page:**"
   ]
  },
  {
   "cell_type": "code",
   "execution_count": 12,
   "metadata": {
    "collapsed": false,
    "deletable": true,
    "editable": true,
    "run_control": {
     "frozen": false,
     "read_only": false
    }
   },
   "outputs": [
    {
     "name": "stdout",
     "output_type": "stream",
     "text": [
      "{'login_referrer': '', 'login': 'Y'}\n"
     ]
    }
   ],
   "source": [
    "login_url = 'https://hondasites.com/auth/default.html'\n",
    "\n",
    "login = s.get(login_url)\n",
    "login_html = lxml.html.fromstring(login.text)\n",
    "hidden_inputs = login_html.xpath(r'//form//input[@type=\"hidden\"]')\n",
    "\n",
    "# Create Python dictionary containing key-value pairs of hidden inputs\n",
    "form = {x.attrib[\"name\"]: x.attrib[\"value\"] for x in hidden_inputs}\n",
    "print(form)"
   ]
  },
  {
   "cell_type": "markdown",
   "metadata": {
    "deletable": true,
    "editable": true,
    "run_control": {
     "frozen": false,
     "read_only": false
    }
   },
   "source": [
    "From above, we see that there are 2 hidden inputs: ```login_referrer``` and ```login```."
   ]
  },
  {
   "cell_type": "markdown",
   "metadata": {
    "deletable": true,
    "editable": true,
    "run_control": {
     "frozen": false,
     "read_only": false
    }
   },
   "source": [
    "**Alternatively, we can inspect the log-in page source page to also find those 2 hidden inputs.**"
   ]
  },
  {
   "cell_type": "markdown",
   "metadata": {
    "deletable": true,
    "editable": true,
    "run_control": {
     "frozen": false,
     "read_only": false
    }
   },
   "source": [
    "**Using a browser's inpector tools' Network scanner, I was able to determine that HondaWeb uses 3 stages of authentication.  Below are the URLs for the default log-in page and URLs 2 through 4 are the 3 stages of authentication.  The last URL (url5) is just a test URL of an actual person's profile page.  In order to be fully authenticated, we must be able to request the first 4 URLs below:**"
   ]
  },
  {
   "cell_type": "code",
   "execution_count": 3,
   "metadata": {
    "collapsed": false,
    "deletable": true,
    "editable": true,
    "run_control": {
     "frozen": false,
     "read_only": false
    }
   },
   "outputs": [],
   "source": [
    "s = requests.session()\n",
    "login_url = 'https://hondasites.com/auth/default.aspx'\n",
    "login_url2 = 'https://myhonda.hondasites.com/_layouts/Authenticate.aspx?Source=/'\n",
    "login_url3 = 'https://myhonda.hondasites.com/_layouts/accessmanagersignin.aspx?ReturnUrl=/_layouts/Authenticate.aspx?Source=%2F&Source=/'\n",
    "login_url4 = 'https://myhonda.hondasites.com/_layouts/15/Authenticate.aspx?Source=/'\n",
    "login_url5 = 'https://myhonda.hondasites.com/Person.aspx?accountname=i:0%23.f|AccessManagerMembershipProvider|17151'"
   ]
  },
  {
   "cell_type": "markdown",
   "metadata": {
    "deletable": true,
    "editable": true,
    "run_control": {
     "frozen": false,
     "read_only": false
    }
   },
   "source": [
    "**To log into the defaul login page, we have all the pieces of information we need: user name, password, login_referrer, and login.**"
   ]
  },
  {
   "cell_type": "markdown",
   "metadata": {
    "deletable": true,
    "editable": true,
    "run_control": {
     "frozen": false,
     "read_only": false
    }
   },
   "source": [
    "We will create a Python dictionary that will contain our credentials."
   ]
  },
  {
   "cell_type": "code",
   "execution_count": 4,
   "metadata": {
    "collapsed": false,
    "deletable": true,
    "editable": true,
    "run_control": {
     "frozen": false,
     "read_only": false
    }
   },
   "outputs": [
    {
     "name": "stdout",
     "output_type": "stream",
     "text": [
      "User Name:········\n",
      "Password:········\n"
     ]
    }
   ],
   "source": [
    "username = getpass('User Name:')\n",
    "password = getpass('Password:')\n",
    "\n",
    "credentials = {\n",
    "    'username': username,\n",
    "    'password': password,\n",
    "    'login_referrer': '',\n",
    "    'login': 'Y'\n",
    "}"
   ]
  },
  {
   "cell_type": "markdown",
   "metadata": {
    "deletable": true,
    "editable": true,
    "run_control": {
     "frozen": false,
     "read_only": false
    }
   },
   "source": [
    "### To test things, we will attempt to request those 5 URLs that we defined earlier above:"
   ]
  },
  {
   "cell_type": "markdown",
   "metadata": {
    "deletable": true,
    "editable": true,
    "run_control": {
     "frozen": false,
     "read_only": false
    }
   },
   "source": [
    "status code = 200 means we were granted access"
   ]
  },
  {
   "cell_type": "code",
   "execution_count": 6,
   "metadata": {
    "collapsed": false,
    "deletable": true,
    "editable": true,
    "run_control": {
     "frozen": false,
     "read_only": false
    }
   },
   "outputs": [
    {
     "name": "stdout",
     "output_type": "stream",
     "text": [
      "request1: 200\n",
      "request2: 200\n",
      "request3: 200\n",
      "request4: 200\n",
      "request5: 200\n"
     ]
    }
   ],
   "source": [
    "request1 = s.post(login_url, data=credentials)\n",
    "print('request1:', request1.status_code)\n",
    "request2 = s.get(login_url2)\n",
    "print('request2:', request2.status_code)\n",
    "request3 = s.get(login_url3)\n",
    "print('request3:', request3.status_code)\n",
    "request4 = s.get(login_url4)\n",
    "print('request4:', request4.status_code)\n",
    "request5 = s.get(login_url5)\n",
    "print('request5:', request5.status_code)"
   ]
  },
  {
   "cell_type": "markdown",
   "metadata": {
    "deletable": true,
    "editable": true,
    "run_control": {
     "frozen": false,
     "read_only": false
    }
   },
   "source": [
    "### Now that we know we were able to request all 5 pages, let's look at the first 500 characters of a user's profile page (request5):"
   ]
  },
  {
   "cell_type": "markdown",
   "metadata": {
    "deletable": true,
    "editable": true,
    "run_control": {
     "frozen": false,
     "read_only": false
    }
   },
   "source": [
    "**NOTE:** - Due to confidentiality, only the first 500 characters were shown."
   ]
  },
  {
   "cell_type": "code",
   "execution_count": 7,
   "metadata": {
    "collapsed": false,
    "deletable": true,
    "editable": true,
    "run_control": {
     "frozen": false,
     "read_only": false
    }
   },
   "outputs": [
    {
     "data": {
      "text/plain": [
       "b'\\r\\n\\r\\n<!DOCTYPE html >\\r\\n<html lang=\"en\" dir=\"ltr\" class=\"ms-isBot\">\\r\\n    <head id=\"ctl00_Head1\"><meta http-equiv=\"X-UA-Compatible\" content=\"IE=Edge\" /><meta name=\"viewport\" content=\"width=device-width, initial-scale=1.0\" /><meta name=\"description\" /><meta name=\"author\" /><meta http-equiv=\"Content-type\" content=\"text/html; charset=utf-8\" /><meta http-equiv=\"Cache-control\" content=\"NO-CACHE\" /><meta http-equiv=\"Expires\" content=\"0\" /><title>\\r\\n\\t\\r\\n  Daniel Somebody\\r\\n  \\r\\n  \\r\\n\\r\\n</title><link rel=\"shortcut ic'"
      ]
     },
     "execution_count": 7,
     "metadata": {},
     "output_type": "execute_result"
    }
   ],
   "source": [
    "request5.content[:500]"
   ]
  },
  {
   "cell_type": "markdown",
   "metadata": {
    "deletable": true,
    "editable": true,
    "run_control": {
     "frozen": false,
     "read_only": false
    }
   },
   "source": [
    "**From above, we can see it appears we have the data we want.**"
   ]
  },
  {
   "cell_type": "markdown",
   "metadata": {
    "deletable": true,
    "editable": true,
    "run_control": {
     "frozen": false,
     "read_only": false
    }
   },
   "source": [
    "**Now we can go proceed with actually web scraping the profile page.**"
   ]
  },
  {
   "cell_type": "code",
   "execution_count": 8,
   "metadata": {
    "collapsed": false,
    "deletable": true,
    "editable": true,
    "run_control": {
     "frozen": false,
     "read_only": false
    }
   },
   "outputs": [],
   "source": [
    "soup = BeautifulSoup(request5.content, 'html.parser')"
   ]
  },
  {
   "cell_type": "code",
   "execution_count": 9,
   "metadata": {
    "collapsed": true,
    "deletable": true,
    "editable": true,
    "run_control": {
     "frozen": false,
     "read_only": false
    }
   },
   "outputs": [],
   "source": [
    "divs = soup.find_all('div', id='blah_blah_ProfileViewer_SPS-Skills')"
   ]
  },
  {
   "cell_type": "code",
   "execution_count": 10,
   "metadata": {
    "collapsed": false,
    "deletable": true,
    "editable": true,
    "run_control": {
     "frozen": false,
     "read_only": false
    }
   },
   "outputs": [
    {
     "name": "stdout",
     "output_type": "stream",
     "text": [
      "User Skills: failure forecasting, SQL, programming, Python, R\n"
     ]
    }
   ],
   "source": [
    "if divs:\n",
    "    print('User Skills:', divs[0].span.next.next.text)\n",
    "else:\n",
    "    print('User did not enter skills.')"
   ]
  },
  {
   "cell_type": "markdown",
   "metadata": {
    "deletable": true,
    "editable": true,
    "run_control": {
     "frozen": false,
     "read_only": false
    }
   },
   "source": [
    "### Web Scraping Multiple Profiles:"
   ]
  },
  {
   "cell_type": "markdown",
   "metadata": {
    "deletable": true,
    "editable": true,
    "run_control": {
     "frozen": false,
     "read_only": false
    }
   },
   "source": [
    "Given a list of 2 or more members, we can web scrape them all using a FOR loop:"
   ]
  },
  {
   "cell_type": "code",
   "execution_count": 11,
   "metadata": {
    "collapsed": false,
    "deletable": true,
    "editable": true,
    "run_control": {
     "frozen": false,
     "read_only": false
    }
   },
   "outputs": [
    {
     "name": "stdout",
     "output_type": "stream",
     "text": [
      "User( 17151 ) Skills: failure forecasting, SQL, programming, Python, R\n",
      "User( 38623 ) did not enter skills.\n",
      "User( 10770 ) did not enter skills.\n"
     ]
    }
   ],
   "source": [
    "base_profile_url = 'https://myhonda.hondasites.com/Person.aspx?accountname=i:0%23.f|AccessManagerMembershipProvider|'\n",
    "\n",
    "members = ['17151', '38623', '10770']\n",
    "for member in members:\n",
    "    member_url = base_profile_url + member\n",
    "    request = s.get(member_url)\n",
    "    soup = BeautifulSoup(request.content, 'html.parser')\n",
    "    skills_div = soup.find_all('div', id='ctl00_SPWebPartManager1_g_402dacf0_24c9_49f7_b128_9a852fc0ae8a_ProfileViewer_SPS-Skills')\n",
    "    if skills_div:\n",
    "        print('User(', member, ') Skills:', skills_div[0].span.next.next.text)\n",
    "    else:\n",
    "        print('User(', member, ') did not enter skills.')"
   ]
  },
  {
   "cell_type": "markdown",
   "metadata": {
    "deletable": true,
    "editable": true,
    "run_control": {
     "frozen": false,
     "read_only": false
    }
   },
   "source": [
    "### Complete Standalone Script:"
   ]
  },
  {
   "cell_type": "code",
   "execution_count": 13,
   "metadata": {
    "collapsed": false,
    "deletable": true,
    "editable": true,
    "run_control": {
     "frozen": false,
     "read_only": false
    }
   },
   "outputs": [
    {
     "name": "stdout",
     "output_type": "stream",
     "text": [
      "User Name:········\n",
      "Password:········\n",
      "Submitted login\n",
      "Passed authentication #1\n",
      "Passed authentication #2\n",
      "Passed authentication #3\n",
      "User( 17151 ) Skills: failure forecasting, SQL, programming, Python, R\n",
      "User( 38623 ) did not enter skills.\n",
      "User( 10770 ) did not enter skills.\n"
     ]
    }
   ],
   "source": [
    "import requests, lxml.html\n",
    "from getpass import getpass\n",
    "from bs4 import BeautifulSoup\n",
    "\n",
    "s = requests.session()\n",
    "\n",
    "login_url = 'https://hondasites.com/auth/default.html'\n",
    "login_url2 = 'https://myhonda.hondasites.com/_layouts/15/Authenticate.aspx?Source=/'\n",
    "login_url3 = 'https://myhonda.hondasites.com/_layouts/accessmanagersignin.aspx?ReturnUrl=/_layouts/15/Authenticate.aspx?Source=%2F&Source=/'\n",
    "login_url4 = 'https://myhonda.hondasites.com/_layouts/15/Authenticate.aspx?Source=/'\n",
    "\n",
    "base_profile_url = 'https://myhonda.hondasites.com/Person.aspx?accountname=i:0%23.f|AccessManagerMembershipProvider|'\n",
    "\n",
    "username = getpass('User Name:')\n",
    "password = getpass('Password:')\n",
    "\n",
    "credentials = {\n",
    "    'username': username,\n",
    "    'password': password,\n",
    "    'login_referrer': '',\n",
    "    'login': 'Y'\n",
    "}\n",
    "\n",
    "request1 = s.post(login_url, data=credentials)\n",
    "print('Submitted login')\n",
    "request2 = s.get(login_url2)\n",
    "print('Passed authentication #1')\n",
    "request3 = s.get(login_url3)\n",
    "print('Passed authentication #2')\n",
    "request4 = s.get(login_url4)\n",
    "print('Passed authentication #3')\n",
    "\n",
    "members = ['17151', '38623', '10770']\n",
    "for member in members:\n",
    "    member_url = base_profile_url + member\n",
    "    request = s.get(member_url)\n",
    "    soup = BeautifulSoup(request.content, 'html.parser')\n",
    "    skills_div = soup.find_all('div', id='blah_blah_ProfileViewer_SPS-Skills')\n",
    "    if skills_div:\n",
    "        print('User(', member, ') Skills:', skills_div[0].span.next.next.text)\n",
    "    else:\n",
    "        print('User(', member, ') did not enter skills.')"
   ]
  }
 ],
 "metadata": {
  "_draft": {
   "nbviewer_url": "https://gist.github.com/"
  },
  "gist": {
   "data": {
    "description": "web_scraping/Untitled.ipynb",
    "public": true
   },
   "id": "513616d512ecff54a7d44427478099ec"
  },
  "hide_input": false,
  "kernelspec": {
   "display_name": "Python 3",
   "language": "python",
   "name": "python3"
  },
  "language_info": {
   "codemirror_mode": {
    "name": "ipython",
    "version": 3
   },
   "file_extension": ".py",
   "mimetype": "text/x-python",
   "name": "python",
   "nbconvert_exporter": "python",
   "pygments_lexer": "ipython3",
   "version": "3.6.1"
  }
 },
 "nbformat": 4,
 "nbformat_minor": 2
}
