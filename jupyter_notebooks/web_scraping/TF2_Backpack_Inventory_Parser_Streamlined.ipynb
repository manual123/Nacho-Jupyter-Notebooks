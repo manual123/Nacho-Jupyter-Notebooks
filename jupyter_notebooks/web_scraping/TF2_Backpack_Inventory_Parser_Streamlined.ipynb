{
 "metadata": {
  "name": "TF2_Backpack_Inventory_Parser_Streamlined"
 },
 "nbformat": 3,
 "nbformat_minor": 0,
 "worksheets": [
  {
   "cells": [
    {
     "cell_type": "heading",
     "level": 4,
     "metadata": {},
     "source": "This is a \"streamlined\" version of my TF2 Backpack Inventory Parser.  User just needs to paste the TF2 backpack inventory URL into the input prompter.  In this version, I also demonstrate how to recreate the inventory table using Pandas."
    },
    {
     "cell_type": "code",
     "collapsed": false,
     "input": "from bs4 import BeautifulSoup     # Not part of Python language, a 3rd-party package for parsing HTML pages\nimport urllib.request as request  # Part of Python language used to handle URLs\nimport pandas as pd\n\n\n# Get TF2 WH URL from user\nhtml = request.urlopen(input(\"Paste your TF2 WH inventory URL here: \"))\nsoup = BeautifulSoup(html)\n\ntable_body = soup.tbody\n\n# Within table_body tag, find all table row \"tr\" tags\ntable_rows = table_body.find_all('tr')\n\n# Creating status list\nstatus = []\nfor row in table_rows:\n    status.append(row['class'][0])\n\n# Creating item names list    \nitem_names = []\nfor row in table_rows:\n    item_names.append(row.font.get_text())\n    \n\ndf_html = pd.read_html(input(\"Paste the URL again: \"), index_col=0)\ndf_html = df_html[0]\n\n# Re-name some columns\ntable_html = df_html.rename(columns={'Counts\\n\\t':'You', 'You':'WH', 'WH':'WH_Diff', 'Limit\\n':'Limit', '*Price':'Price'})\ntable_html.fillna(value=0, inplace=True)\n\n# Build Status dataframe\ndf_status = pd.DataFrame({\"Status\":status}, index=item_names)\n\n# Concatenate table_html with df-status\ntable_html = pd.concat([table_html, df_status], axis=1)\n\ndef formatPrice(series):\n    value = series['Price']\n    return int(value.replace('c','').replace(',',''))\n\ntable_html['*Price'] = table_html.apply(formatPrice, axis=1)\n\ntable_html = table_html.drop('Price', axis=1)\n\ntable_html = table_html[['*Price', 'You', 'WH', 'WH_Diff', 'Limit', 'Status']]\n\ntable_html",
     "language": "python",
     "metadata": {},
     "outputs": [
      {
       "name": "stdout",
       "output_type": "stream",
       "stream": "stdout",
       "text": "Paste your TF2 WH inventory URL here: http://www.tf2wh.com/backpack?bp=J4YdIfPh-kGWIgIYA39izmnTWlRcXrpGUOHejlqu2E4\n"
      },
      {
       "name": "stdout",
       "output_type": "stream",
       "stream": "stdout",
       "text": "Paste the URL again: http://www.tf2wh.com/backpack?bp=J4YdIfPh-kGWIgIYA39izmnTWlRcXrpGUOHejlqu2E4\n"
      },
      {
       "html": "<div style=\"max-height:1000px;max-width:1500px;overflow:auto;\">\n<table border=\"1\" class=\"dataframe\">\n  <thead>\n    <tr style=\"text-align: right;\">\n      <th></th>\n      <th>*Price</th>\n      <th>You</th>\n      <th>WH</th>\n      <th>WH_Diff</th>\n      <th>Limit</th>\n      <th>Status</th>\n    </tr>\n    <tr>\n      <th>Name</th>\n      <th></th>\n      <th></th>\n      <th></th>\n      <th></th>\n      <th></th>\n      <th></th>\n    </tr>\n  </thead>\n  <tbody>\n    <tr>\n      <th>Genuine Companion Cube Pin</th>\n      <td> 2925</td>\n      <td> 1</td>\n      <td>  15</td>\n      <td> </td>\n      <td>  15</td>\n      <td> overstocked</td>\n    </tr>\n    <tr>\n      <th>A Rather Festive Tree</th>\n      <td> 4455</td>\n      <td> 1</td>\n      <td> 100</td>\n      <td> </td>\n      <td> 100</td>\n      <td> overstocked</td>\n    </tr>\n    <tr>\n      <th>Fall 2013 Acorns Crate</th>\n      <td>  310</td>\n      <td> 2</td>\n      <td>  11</td>\n      <td> </td>\n      <td>  10</td>\n      <td> overstocked</td>\n    </tr>\n    <tr>\n      <th>Fall 2013 Gourd Crate</th>\n      <td>  310</td>\n      <td> 4</td>\n      <td>  13</td>\n      <td> </td>\n      <td>  10</td>\n      <td> overstocked</td>\n    </tr>\n    <tr>\n      <th>Point and Shoot</th>\n      <td> 6185</td>\n      <td> 1</td>\n      <td>  24</td>\n      <td> </td>\n      <td>  25</td>\n      <td>      normal</td>\n    </tr>\n    <tr>\n      <th>Strange Part: Gib Kills</th>\n      <td> 5460</td>\n      <td> 1</td>\n      <td>   5</td>\n      <td> </td>\n      <td>   5</td>\n      <td> overstocked</td>\n    </tr>\n    <tr>\n      <th>Strange Enforcer</th>\n      <td> 1600</td>\n      <td> 1</td>\n      <td>  16</td>\n      <td> </td>\n      <td>  15</td>\n      <td> overstocked</td>\n    </tr>\n    <tr>\n      <th>Strange Fists of Steel</th>\n      <td>  375</td>\n      <td> 1</td>\n      <td>  15</td>\n      <td> </td>\n      <td>  15</td>\n      <td> overstocked</td>\n    </tr>\n    <tr>\n      <th>Strange Killing Gloves of Boxing</th>\n      <td> 1780</td>\n      <td> 1</td>\n      <td>  19</td>\n      <td> </td>\n      <td>  20</td>\n      <td>      normal</td>\n    </tr>\n    <tr>\n      <th>Strange Medi Gun</th>\n      <td> 2700</td>\n      <td> 1</td>\n      <td>  42</td>\n      <td> </td>\n      <td>  40</td>\n      <td> overstocked</td>\n    </tr>\n    <tr>\n      <th>Strange Neon Annihilator</th>\n      <td>  370</td>\n      <td> 1</td>\n      <td>  26</td>\n      <td> </td>\n      <td>  25</td>\n      <td> overstocked</td>\n    </tr>\n    <tr>\n      <th>Strange Rust Botkiller Scattergun Mk.I</th>\n      <td> 7735</td>\n      <td> 1</td>\n      <td>   1</td>\n      <td> </td>\n      <td>   5</td>\n      <td>      normal</td>\n    </tr>\n    <tr>\n      <th>Haunted B-ankh!</th>\n      <td> 3420</td>\n      <td> 1</td>\n      <td>   3</td>\n      <td> </td>\n      <td>   3</td>\n      <td> overstocked</td>\n    </tr>\n  </tbody>\n</table>\n</div>",
       "metadata": {},
       "output_type": "pyout",
       "prompt_number": 1,
       "text": "                                        *Price  You   WH WH_Diff  Limit       Status\nName                                                                                \nGenuine Companion Cube Pin                2925    1   15             15  overstocked\nA Rather Festive Tree                     4455    1  100            100  overstocked\nFall 2013 Acorns Crate                     310    2   11             10  overstocked\nFall 2013 Gourd Crate                      310    4   13             10  overstocked\nPoint and Shoot                           6185    1   24             25       normal\nStrange Part: Gib Kills                   5460    1    5              5  overstocked\nStrange Enforcer                          1600    1   16             15  overstocked\nStrange Fists of Steel                     375    1   15             15  overstocked\nStrange Killing Gloves of Boxing          1780    1   19             20       normal\nStrange Medi Gun                          2700    1   42             40  overstocked\nStrange Neon Annihilator                   370    1   26             25  overstocked\nStrange Rust Botkiller Scattergun Mk.I    7735    1    1              5       normal\nHaunted B-ankh!                           3420    1    3              3  overstocked"
      }
     ],
     "prompt_number": 1
    },
    {
     "cell_type": "code",
     "collapsed": false,
     "input": "print(\"The sum of all the items' prices is: \", table_html['*Price'].sum())",
     "language": "python",
     "metadata": {},
     "outputs": [
      {
       "output_type": "stream",
       "stream": "stdout",
       "text": "The sum of all the items' prices is:  37625\n"
      }
     ],
     "prompt_number": 3
    }
   ],
   "metadata": {}
  }
 ]
}
