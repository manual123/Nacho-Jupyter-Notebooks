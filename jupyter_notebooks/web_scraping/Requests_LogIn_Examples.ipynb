{
 "cells": [
  {
   "cell_type": "code",
   "execution_count": 1,
   "metadata": {
    "collapsed": true,
    "run_control": {
     "frozen": false,
     "read_only": false
    }
   },
   "outputs": [],
   "source": [
    "import requests\n",
    "\n",
    "with requests.Session() as c:\n",
    "    url = 'http://somecompany.com'\n",
    "    USERNAME = 'myusername'\n",
    "    PASSWORD = 'mypassword'\n",
    "    c.get(url)\n",
    "    somecookie = c.cookies['mycookie']\n",
    "    login_data = dict(csrmmiddlewaretoken=somecookie, username=USERNAME, password=PASSWORD)\n",
    "    c.post(url, data=login_data, headers={'Referer': \"http://somesite.com\"})"
   ]
  },
  {
   "cell_type": "code",
   "execution_count": null,
   "metadata": {
    "collapsed": true
   },
   "outputs": [],
   "source": [
    "import requests\n",
    "\n",
    "headers = {'User-Agent': 'Mozilla/5.0'}\n",
    "payload = {'username':'usr','pass':'123'}\n",
    "link    = 'https://admin.example.com/login.php'\n",
    "session = requests.Session()\n",
    "resp    = session.get(link,headers=headers)\n",
    "# did this for first to get the cookies from the page, stored them with next line:\n",
    "cookies = requests.utils.cookiejar_from_dict(requests.utils.dict_from_cookiejar(session.cookies))\n",
    "resp    = session.post(link,headers=headers,data=payload,cookies =cookies)\n",
    "#used firebug to check POST data, password, was actually 'pass', under 'net' in param.  \n",
    "#and to move forward from here after is:\n",
    "session.get(link)"
   ]
  }
 ],
 "metadata": {
  "hide_input": false,
  "kernelspec": {
   "display_name": "Python 3",
   "language": "python",
   "name": "python3"
  },
  "language_info": {
   "codemirror_mode": {
    "name": "ipython",
    "version": 3
   },
   "file_extension": ".py",
   "mimetype": "text/x-python",
   "name": "python",
   "nbconvert_exporter": "python",
   "pygments_lexer": "ipython3",
   "version": "3.6.1"
  }
 },
 "nbformat": 4,
 "nbformat_minor": 2
}
