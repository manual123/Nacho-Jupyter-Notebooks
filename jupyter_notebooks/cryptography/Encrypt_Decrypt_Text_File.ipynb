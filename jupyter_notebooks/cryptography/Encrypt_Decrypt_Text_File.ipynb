{
 "metadata": {
  "name": ""
 },
 "nbformat": 3,
 "nbformat_minor": 0,
 "worksheets": [
  {
   "cells": [
    {
     "cell_type": "code",
     "collapsed": false,
     "input": [
      "data = open(r'd:\\temp\\associates.csv','r').read()\n",
      "out_file = open(r'd:\\temp\\associates.txt','w')"
     ],
     "language": "python",
     "metadata": {},
     "outputs": [],
     "prompt_number": 1
    },
    {
     "cell_type": "code",
     "collapsed": false,
     "input": [
      "from Crypto.Cipher import AES  # Dependency: install pycrypto - available at pypi: pip install pycrypto\n",
      "import base64\n",
      "import os\n",
      "import codecs # This is needed to convert a string with single backslashes to byte string\n",
      "\n",
      "def encryption(privateInfo):\n",
      "    \"\"\" Method to encrypt your message using AES encryption\"\"\"\n",
      "    \n",
      "    BLOCK_SIZE = 16 # 16 bytes for 128-bit encryption / use 32 bytes for 256-bit encryption\n",
      "    PADDING = '{'\n",
      "\n",
      "    pad = lambda s: s + (BLOCK_SIZE - len(s) % BLOCK_SIZE) * PADDING\n",
      "\n",
      "    EncodeAES = lambda c, s: base64.b64encode(c.encrypt(pad(s)))\n",
      "\n",
      "    #secret = os.urandom(BLOCK_SIZE)  # Comment this line and uncomment line below to use hard-coded key\n",
      "    secret = b'\\xf9J\\xa4\\xd1\\t\\x17\\xb8\\xabt\\xfe\\x06\\x96\\xe3\\xe8(.'\n",
      "\n",
      "    cipher = AES.new(secret)\n",
      "\n",
      "    encoded = EncodeAES(cipher, privateInfo)\n",
      "    return encoded.decode('UTF-8')"
     ],
     "language": "python",
     "metadata": {},
     "outputs": [],
     "prompt_number": 2
    },
    {
     "cell_type": "code",
     "collapsed": false,
     "input": [
      "data[0]"
     ],
     "language": "python",
     "metadata": {},
     "outputs": [
      {
       "metadata": {},
       "output_type": "pyout",
       "prompt_number": 77,
       "text": [
        "'VIN,VALUE\\n'"
       ]
      }
     ],
     "prompt_number": 77
    },
    {
     "cell_type": "code",
     "collapsed": false,
     "input": [
      "encrypted = encryption(data)\n",
      "out_file.write(encrypted)\n",
      "out_file.close()"
     ],
     "language": "python",
     "metadata": {},
     "outputs": [],
     "prompt_number": 3
    },
    {
     "cell_type": "code",
     "collapsed": false,
     "input": [
      "def decrypt_key_hardcoded(encryptedString):\n",
      "    \"\"\" Method to decrypt message using a hard-coded decryption key \"\"\"\n",
      "    \n",
      "    PADDING = '{'\n",
      "    DecodeAES = lambda c, e: c.decrypt(base64.b64decode(e)).decode('utf-8').rstrip(PADDING)\n",
      "    #DecodeAES = lambda c, e: c.decrypt(base64.b64decode(e)).rstrip(PADDING)\n",
      "    key = b'\\xf9J\\xa4\\xd1\\t\\x17\\xb8\\xabt\\xfe\\x06\\x96\\xe3\\xe8(.'\n",
      "    try:\n",
      "        cipher = AES.new(key)\n",
      "        decoded = DecodeAES(cipher, encryptedString)\n",
      "        return decoded\n",
      "    except:\n",
      "        return \"Error in decoding the secret message\""
     ],
     "language": "python",
     "metadata": {},
     "outputs": [],
     "prompt_number": 9
    },
    {
     "cell_type": "code",
     "collapsed": false,
     "input": [
      "encrypted2 = open(r'd:\\temp\\associates.txt','r').read()"
     ],
     "language": "python",
     "metadata": {},
     "outputs": [],
     "prompt_number": 10
    },
    {
     "cell_type": "code",
     "collapsed": false,
     "input": [
      "decrypted2 = open(r'd:\\temp\\associates_decr.txt','w')\n",
      "\n",
      "decrypted2.write(decrypt_key_hardcoded(encrypted2))\n",
      "decrypted2.close()"
     ],
     "language": "python",
     "metadata": {},
     "outputs": [],
     "prompt_number": 11
    }
   ],
   "metadata": {}
  }
 ]
}