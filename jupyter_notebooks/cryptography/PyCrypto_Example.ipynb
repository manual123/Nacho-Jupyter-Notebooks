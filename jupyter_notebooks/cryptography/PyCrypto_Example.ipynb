{
 "metadata": {
  "name": "",
  "signature": "sha256:426487e9d143de15532818b811479ffe10c6a90ba0d57c71ed5de2dbc8d1736d"
 },
 "nbformat": 3,
 "nbformat_minor": 0,
 "worksheets": [
  {
   "cells": [
    {
     "cell_type": "code",
     "collapsed": false,
     "input": [
      "# This code taken from youtube example: https://www.youtube.com/watch?v=8PzDfykGg_g&feature=youtube_gdata_player\n",
      "# but modified to work with Python 3 due to byte string to string conversion using decode('utf-8') method\n",
      "# Windows binary installer can be obtained here: http://www.voidspace.org.uk/python/modules.shtml#pycrypto\n",
      "\n",
      "from Crypto.Cipher import AES  # Dependency: install pycrypto - available at pypi: pip install pycrypto\n",
      "import base64\n",
      "import os\n",
      "import codecs # This is needed to convert a string with single backslashes to byte string\n",
      "\n",
      "def encrypt(privateInfo):\n",
      "    \"\"\" Method to encrypt your message using AES encryption\"\"\"\n",
      "    \n",
      "    BLOCK_SIZE = 16\n",
      "    PADDING = '{'\n",
      "\n",
      "    pad = lambda s: s + (BLOCK_SIZE - len(s) % BLOCK_SIZE) * PADDING\n",
      "\n",
      "    EncodeAES = lambda c, s: base64.b64encode(c.encrypt(pad(s)))\n",
      "\n",
      "    secret = os.urandom(BLOCK_SIZE)  # Comment this line and uncomment line below to use hard-coded key\n",
      "    #secret = b\"\\xb8\\x0b\\x05\\x10\\xd7\\x0b\\x91\\xd6y\\xa2.T\\x18\\xec|\\xdd\"\n",
      "    print('Encryption key:', secret)\n",
      "\n",
      "    cipher = AES.new(secret)\n",
      "\n",
      "    encoded = EncodeAES(cipher, privateInfo)\n",
      "    print('Encrypted string:', encoded.decode('UTF-8'))\n",
      "    \n",
      "def encrypt_with_key(key, privateInfo):\n",
      "    \"\"\" Method to encrypt your message using AES encryption\"\"\"\n",
      "    \n",
      "    BLOCK_SIZE = 16\n",
      "    PADDING = '{'\n",
      "\n",
      "    pad = lambda s: s + (BLOCK_SIZE - len(s) % BLOCK_SIZE) * PADDING\n",
      "\n",
      "    EncodeAES = lambda c, s: base64.b64encode(c.encrypt(pad(s)))\n",
      "\n",
      "    cipher = AES.new(codecs.escape_decode(key)[0])  # Need to use codecs to prevent key from being parsed with double slashes\n",
      "\n",
      "    encoded = EncodeAES(cipher, privateInfo)\n",
      "    print('Encrypted string:', encoded.decode('UTF-8'))\n",
      "\n",
      "\n",
      "def decrypt_key_hardcoded(encryptedString):\n",
      "    \"\"\" Method to decrypt message using a hard-coded decryption key \"\"\"\n",
      "    \n",
      "    PADDING = '{'\n",
      "    DecodeAES = lambda c, e: c.decrypt(base64.b64decode(e)).decode('utf-8').rstrip(PADDING)\n",
      "    #DecodeAES = lambda c, e: c.decrypt(base64.b64decode(e)).rstrip(PADDING)\n",
      "    key = b'\\xf9J\\xa4\\xd1\\t\\x17\\xb8\\xabt\\xfe\\x06\\x96\\xe3\\xe8(.'\n",
      "    try:\n",
      "        cipher = AES.new(key)\n",
      "        decoded = DecodeAES(cipher, encryptedString)\n",
      "        print('Decoded:', decoded)\n",
      "    except:\n",
      "        print(\"Error in decoding the secret message\")\n",
      "\n",
      "def decrypt_with_key(key, encryptedString):\n",
      "    \"\"\" Method to decrypt message using a decryptionn key passed in as a parameter \"\"\"\n",
      "    \n",
      "    PADDING = '{'\n",
      "    DecodeAES = lambda c, e: c.decrypt(base64.b64decode(e)).decode('utf-8').rstrip(PADDING)\n",
      "    try:\n",
      "        cipher = AES.new(key)\n",
      "        decoded = DecodeAES(cipher, encryptedString)\n",
      "        print('Decoded:', decoded)\n",
      "    except:\n",
      "        print(\"Error in decoding the secret message\")"
     ],
     "language": "python",
     "metadata": {},
     "outputs": [],
     "prompt_number": 12
    },
    {
     "cell_type": "heading",
     "level": 4,
     "metadata": {},
     "source": [
      "Let's encrypt our secret message"
     ]
    },
    {
     "cell_type": "code",
     "collapsed": false,
     "input": [
      "secret_message = input(\"Enter your secret message: \")\n",
      "encrypt(secret_message)"
     ],
     "language": "python",
     "metadata": {},
     "outputs": [
      {
       "name": "stdout",
       "output_type": "stream",
       "stream": "stdout",
       "text": [
        "Enter your secret message: jasonandalex\n"
       ]
      },
      {
       "output_type": "stream",
       "stream": "stdout",
       "text": [
        "Encryption key: b\"\\x1dC\\xff\\x18'm\\xf8uv\\xca\\x97\\xf7F\\xd0\\xe0\\x02\"\n",
        "Encrypted string: afIBuTEwZw8OoVxQ64/VbA==\n"
       ]
      }
     ],
     "prompt_number": 13
    },
    {
     "cell_type": "code",
     "collapsed": false,
     "input": [
      "secret_message = input(\"Enter your secret message: \")\n",
      "key = input(\"Enter your encryption key (without 'b' and quotes): \")\n",
      "encrypt_with_key(key, secret_message)"
     ],
     "language": "python",
     "metadata": {},
     "outputs": [
      {
       "name": "stdout",
       "output_type": "stream",
       "stream": "stdout",
       "text": [
        "Enter your secret message: I love you\n"
       ]
      },
      {
       "name": "stdout",
       "output_type": "stream",
       "stream": "stdout",
       "text": [
        "Enter your encryption key (without 'b' and quotes): Zd\\xd9\\xd0\\xd3\\xf6\\xfe\\x86E\\xc6\\x15\\xcc\\x99\\x856R\n"
       ]
      },
      {
       "output_type": "stream",
       "stream": "stdout",
       "text": [
        "Encrypted string: rAAF/Ck95P/NlZmFbgQoWg==\n"
       ]
      }
     ],
     "prompt_number": 9
    },
    {
     "cell_type": "heading",
     "level": 4,
     "metadata": {},
     "source": [
      "Let's decrypt the message by passing in the decryption key"
     ]
    },
    {
     "cell_type": "code",
     "collapsed": false,
     "input": [
      "encoded_string = input(\"Copy/paste the encrypted string here: \")\n",
      "key = input(\"Copy/paste the decryption key here (without the b and quotes): \")\n",
      "decrypt_with_key(codecs.escape_decode(key)[0], encoded_string)"
     ],
     "language": "python",
     "metadata": {},
     "outputs": [
      {
       "name": "stdout",
       "output_type": "stream",
       "stream": "stdout",
       "text": [
        "Copy/paste the encrypted string here: afIBuTEwZw8OoVxQ64/VbA==\n"
       ]
      },
      {
       "name": "stdout",
       "output_type": "stream",
       "stream": "stdout",
       "text": [
        "Copy/paste the decryption key here (without the b and quotes): \\x1dC\\xff\\x18'm\\xf8uv\\xca\\x97\\xf7F\\xd0\\xe0\\x02\n"
       ]
      },
      {
       "output_type": "stream",
       "stream": "stdout",
       "text": [
        "Decoded: jasonandalex\n"
       ]
      }
     ],
     "prompt_number": 14
    }
   ],
   "metadata": {}
  }
 ]
}