{
 "metadata": {
  "name": ""
 },
 "nbformat": 3,
 "nbformat_minor": 0,
 "worksheets": [
  {
   "cells": [
    {
     "cell_type": "code",
     "collapsed": false,
     "input": [
      "import pandas\n",
      "import openpyxl\n",
      "from numpy import log as ln\n",
      "from IPython.display import display, HTML\n",
      "display(HTML(\"<strong>Step 1:</strong>\"))\n",
      "url = input(\"Paste URL/path to your Excel file: \")\n",
      "display(HTML(\"<strong>Step 2:</strong>\"))\n",
      "sheet = input(\"Enter worksheet name containing MTF failure times/suspensions: \")\n",
      "\n",
      "#xls = pandas.ExcelFile(r\"C:\\Documents and Settings\\ma17151\\Desktop\\weibulls\\CRV_Heater_Core.xlsx\")\n",
      "df = pandas.read_excel(url, sheet)\n",
      "\n",
      "df_failed = df[df.STATUS=='FAILED']\n",
      "df_suspended = df[df.STATUS==\"SUSPENDED\"]\n",
      "\n",
      "mtf_failed = df_failed[\"MTF\"].values\n",
      "\n",
      "def ln_x_div_r(series):\n",
      "    return ln(series[\"MTF\"])/len(df_failed)\n",
      "\n",
      "left_eq_sum = np.sum( ln(mtf_failed)/len(df_failed) )\n",
      "\n",
      "df_failed[\"ln_x_div_r\"] = df_failed.apply(ln_x_div_r, axis=1)\n",
      "\n",
      "mtf_all = df[\"MTF\"].values\n",
      "\n",
      "# give initial value for the shape paramter, use shape = 1 if the iteration does not find the root for the equation above\n",
      "shape = 1\n",
      "for i in range(1,11):\n",
      "    A = np.sum(ln(mtf_failed))*1.0/mtf_failed.size\n",
      "    B = np.sum(mtf_all**shape)\n",
      "    C = np.sum( (mtf_all**shape) * ln(mtf_all) )\n",
      "    H = np.sum( (mtf_all**shape) * (ln(mtf_all))**2 )\n",
      "    shape = shape + (A+(1.0/shape) - (C/B)) / ( (1.0/shape**2) + ( (B*H)-C**2 ) / B**2 )\n",
      "    print(\"shape\"+str(i)+\" \"+str(shape))\n",
      "    \n",
      "shape_parameter = shape\n",
      "print(\"Shape parameter:\", shape_parameter)\n",
      "\n",
      "scale_parameter = (np.sum((mtf_all**shape_parameter)/len(df_failed)))**(1/shape_parameter)\n",
      "print(\"scale parameter:\", scale_parameter)\n",
      "\n",
      "shape = shape_parameter\n",
      "scale = scale_parameter\n",
      "\n",
      "x2 = np.arange(0,160000)\n",
      "y2 = 1-exp(-(x2/scale)**shape) # This is the equation for Weibull CDF\n",
      "\n",
      "plot(x2,y2)\n",
      "title(\"Weibull CDF - Prediction\",weight='bold')\n",
      "grid()\n",
      "show()\n",
      "\n",
      "print(\"MTF , defect%\")\n",
      "print(\"12K ,\", '{:.2%}'.format(y2[12000]))\n",
      "print(\"24K ,\", '{:.2%}'.format(y2[24000]))\n",
      "print(\"36K ,\", '{:.2%}'.format(y2[36000]))\n",
      "print(\"48K ,\", '{:.2%}'.format(y2[48000]))\n",
      "print(\"60K ,\", '{:.2%}'.format(y2[60000]))\n",
      "print(\"72K ,\", '{:.2%}'.format(y2[72000]))\n",
      "print(\"84K ,\", '{:.2%}'.format(y2[84000]))\n",
      "print(\"96K ,\", '{:.2%}'.format(y2[96000]))\n",
      "print(\"102K ,\", '{:.2%}'.format(y2[102000]))\n",
      "print(\"108K ,\", '{:.2%}'.format(y2[108000]))\n",
      "print(\"120K ,\", '{:.2%}'.format(y2[120000]))\n",
      "print(\"150K ,\", '{:.2%}'.format(y2[150000]))"
     ],
     "language": "python",
     "metadata": {},
     "outputs": [
      {
       "html": [
        "<strong>Step 1:</strong>"
       ],
       "metadata": {},
       "output_type": "display_data",
       "text": [
        "<IPython.core.display.HTML at 0x67933d0>"
       ]
      },
      {
       "name": "stdout",
       "output_type": "stream",
       "stream": "stdout",
       "text": [
        "Paste URL/path to your Excel file: C:\\Documents and Settings\\ma17151\\Desktop\\weibulls\\TL_Fuel_Pump_Weibull.xlsx\n"
       ]
      },
      {
       "html": [
        "<strong>Step 2:</strong>"
       ],
       "metadata": {},
       "output_type": "display_data",
       "text": [
        "<IPython.core.display.HTML at 0x6793eb0>"
       ]
      },
      {
       "name": "stdout",
       "output_type": "stream",
       "stream": "stdout",
       "text": [
        "Enter worksheet name containing MTF failure times/suspensions: Pop1Adj\n"
       ]
      },
      {
       "output_type": "stream",
       "stream": "stdout",
       "text": [
        "shape1 1.61570940183\n",
        "shape2 2.21858394612\n",
        "shape3 2.5187418001\n",
        "shape4 2.56322387547\n",
        "shape5 2.56399455157\n",
        "shape6 2.56399477502\n",
        "shape7 2.56399477503\n",
        "shape8 2.56399477502\n",
        "shape9 2.56399477502\n",
        "shape10 2.56399477502\n",
        "Shape parameter: 2.56399477502\n",
        "scale parameter: 393092.83111\n"
       ]
      },
      {
       "metadata": {},
       "output_type": "display_data",
       "png": "[encoded data removed]",
       "text": [
        "<matplotlib.figure.Figure at 0x62a3030>"
       ]
      },
      {
       "output_type": "stream",
       "stream": "stdout",
       "text": [
        "MTF , defect%\n",
        "12K , 0.01%\n",
        "24K , 0.08%\n",
        "36K , 0.22%\n",
        "48K , 0.45%\n",
        "60K , 0.80%\n",
        "72K , 1.28%\n",
        "84K , 1.89%\n",
        "96K , 2.66%\n",
        "102K , 3.10%\n",
        "108K , 3.58%\n",
        "120K , 4.66%\n",
        "150K , 8.11%\n"
       ]
      }
     ],
     "prompt_number": 7
    }
   ],
   "metadata": {}
  }
 ]
}