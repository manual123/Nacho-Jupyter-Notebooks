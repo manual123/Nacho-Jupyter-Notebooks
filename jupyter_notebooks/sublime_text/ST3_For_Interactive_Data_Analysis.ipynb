{
 "cells": [
  {
   "cell_type": "markdown",
   "metadata": {
    "run_control": {
     "read_only": false
    }
   },
   "source": [
    "# How I setup Sublime Text 3 for Interactive Data Analysis"
   ]
  },
  {
   "cell_type": "markdown",
   "metadata": {},
   "source": [
    "Inspired by projects like [jupyter notebooks](http://jupyter.org/) and Yhat's [Rodeo](https://github.com/yhat/rodeo/), I thought to myself that it would be great if I could mimic their environment for data analysis in my Sublime Text 3 editor.  Although, Sublime Text 3 is pretty easy to configure and setup, I found that it can be tricky to set it up for virtual environments.  I use Continuum IO's [miniconda/conda](http://conda.pydata.org/miniconda.html) to create Python virtual environments. I created a virtual environment called \"jupyter\", so I want ST3 to use the Python interpreter located at:"
   ]
  },
  {
   "cell_type": "markdown",
   "metadata": {},
   "source": [
    "/home/pybokeh/miniconda3/envs/jupyter/bin/python"
   ]
  },
  {
   "cell_type": "markdown",
   "metadata": {},
   "source": [
    "After some trial and error, Googling, and searching StackOverflow, I came up with a basic and simple setup.  To have ST3 execute highlighted or selected lines of code just like how you would in jupyter notebook or Rodeo, I found that I need to install the SublimeREPL plug-in.  To have auto-complete, method signature look-up, doc strings, etc, I discovered Anaconda plug-in.  There are some more advance ways to configure SublimeREPL like in this [example](http://opiateforthemass.es/articles/set-up-sublime-text-for-light-weight-all-in-one-data-science-ide/), but I wanted my setup to be simple and for a specific Python interpreter."
   ]
  },
  {
   "cell_type": "markdown",
   "metadata": {},
   "source": [
    "## Below are steps that I performed to setup Sublime Text 3"
   ]
  },
  {
   "cell_type": "markdown",
   "metadata": {},
   "source": [
    "Since I've been a long time vim user, Step 1 is a must for me."
   ]
  },
  {
   "cell_type": "markdown",
   "metadata": {},
   "source": [
    "### Step 1: Enable Vinatage / VIM mode"
   ]
  },
  {
   "cell_type": "markdown",
   "metadata": {},
   "source": [
    "Go to **\"Preferences\" --> \"Settings - User\"**, then add:"
   ]
  },
  {
   "cell_type": "code",
   "execution_count": null,
   "metadata": {
    "collapsed": true,
    "run_control": {
     "read_only": false
    }
   },
   "outputs": [],
   "source": [
    "\"ignored_packages\":[],\n",
    "\"translate_tabs_to_spaces\": false,\n",
    "\"vintage_start_in_command_mode\": true"
   ]
  },
  {
   "cell_type": "markdown",
   "metadata": {},
   "source": [
    "**or you can install the Vintageous package instead**"
   ]
  },
  {
   "cell_type": "markdown",
   "metadata": {},
   "source": [
    "### Step 2: Install Package Control - go [here](https://packagecontrol.io/installation) for instructions"
   ]
  },
  {
   "cell_type": "markdown",
   "metadata": {},
   "source": [
    "### Step 3: Install Anaconda and setup up specific Python interpreter at project level"
   ]
  },
  {
   "cell_type": "markdown",
   "metadata": {},
   "source": [
    "See [\"Overriding details per project\"](http://damnwidget.github.io/anaconda/anaconda_settings/)"
   ]
  },
  {
   "cell_type": "markdown",
   "metadata": {},
   "source": [
    "Go to: **\"Preferences\" --> \"Package Control\"**, then select **\"Install Package\"**. Then choose **\"Anaconda\"**."
   ]
  },
  {
   "cell_type": "markdown",
   "metadata": {},
   "source": [
    "Save **\"Project As\"** (ie 'jupyter')\n",
    "Then edit project (**\"Project\" -->  \"Edit Project\"**) and add the following to the json file:"
   ]
  },
  {
   "cell_type": "code",
   "execution_count": null,
   "metadata": {
    "collapsed": true,
    "run_control": {
     "read_only": false
    }
   },
   "outputs": [],
   "source": [
    "\"settings\":\n",
    "{\n",
    "\t\"python_interpreter\": \"/home/pybokeh/miniconda3/envs/jupyter/bin/python\"\n",
    "}"
   ]
  },
  {
   "cell_type": "markdown",
   "metadata": {},
   "source": [
    "Then make Sublime build your Python scripts using the Anaconda interpreter:\n",
    "Go to **\"Tools\" --> \"Build System\"**, then check the **\"Anaconda Python Builder\"** option."
   ]
  },
  {
   "cell_type": "markdown",
   "metadata": {},
   "source": [
    "### Step 4: Install SublimeREPL using Package Control"
   ]
  },
  {
   "cell_type": "markdown",
   "metadata": {},
   "source": [
    "Setup SublimeREPL to use the Python interpreter from the virtual environment.\n",
    "Go to **\"Preferences\" --> \"Package Settings\" --> \"SublimeREPL\" --> \"Settings - User\"**\n",
    "Then add:"
   ]
  },
  {
   "cell_type": "code",
   "execution_count": null,
   "metadata": {
    "collapsed": true,
    "run_control": {
     "read_only": false
    }
   },
   "outputs": [],
   "source": [
    "\"default_extend_env\": {\"PATH\": \"/home/pybokeh/miniconda3/envs/jupyter/bin:{PATH}\"}"
   ]
  },
  {
   "cell_type": "markdown",
   "metadata": {},
   "source": [
    "### Step 5: Bind ctrl+enter keys to execute highlighted code"
   ]
  },
  {
   "cell_type": "markdown",
   "metadata": {},
   "source": [
    "Go to: **\"Preferences\" --> \"Key Bindings - User\"**, then add:"
   ]
  },
  {
   "cell_type": "code",
   "execution_count": null,
   "metadata": {
    "collapsed": true,
    "run_control": {
     "read_only": false
    }
   },
   "outputs": [],
   "source": [
    "{\"keys\": [\"ctrl+enter\"], \"command\": \"repl_transfer_current\", \n",
    " \"args\": {\"scope\": \"selection\"}\n",
    "}"
   ]
  },
  {
   "cell_type": "markdown",
   "metadata": {},
   "source": [
    "### Step 6: Split the screen vertically, making the bottom screen contain the REPL"
   ]
  },
  {
   "cell_type": "markdown",
   "metadata": {},
   "source": [
    "Go to: **\"View\" --> \"Layout\"**, then choose **\"Rows 2\"**"
   ]
  },
  {
   "cell_type": "markdown",
   "metadata": {},
   "source": [
    "### Step 7: Launch the REPL in the bottom screen"
   ]
  },
  {
   "cell_type": "markdown",
   "metadata": {},
   "source": [
    "Go to: **\"Tools\" --> \"SublimeREPL\" --> \"Python\" --> \"Python\"**"
   ]
  },
  {
   "cell_type": "markdown",
   "metadata": {},
   "source": [
    "## Now I can execute selected lines of code using a specific Python interpreter!"
   ]
  },
  {
   "cell_type": "markdown",
   "metadata": {},
   "source": [
    "<img src=\"http://i.imgur.com/XJxR2Mx.png\">"
   ]
  }
 ],
 "metadata": {
  "hide_input": false,
  "kernelspec": {
   "display_name": "Python 3",
   "language": "python",
   "name": "python3"
  },
  "language_info": {
   "codemirror_mode": {
    "name": "ipython",
    "version": 3
   },
   "file_extension": ".py",
   "mimetype": "text/x-python",
   "name": "python",
   "nbconvert_exporter": "python",
   "pygments_lexer": "ipython3",
   "version": "3.5.1"
  }
 },
 "nbformat": 4,
 "nbformat_minor": 0
}
