{
 "cells": [
  {
   "cell_type": "code",
   "execution_count": 1,
   "metadata": {
    "collapsed": false,
    "run_control": {
     "read_only": false
    }
   },
   "outputs": [],
   "source": [
    "%load_ext rpy2.ipython"
   ]
  },
  {
   "cell_type": "code",
   "execution_count": 2,
   "metadata": {
    "collapsed": false,
    "run_control": {
     "read_only": false
    }
   },
   "outputs": [
    {
     "data": {
      "text/plain": [
       "      Date Qty\n",
       "1  2013-01 165\n",
       "2  2013-02 171\n",
       "3  2013-03 147\n",
       "4  2013-04 143\n",
       "5  2013-05 164\n",
       "6  2013-06 160\n",
       "7  2013-07 152\n",
       "8  2013-08 150\n",
       "9  2013-09 159\n",
       "10 2013-10 169\n",
       "11 2013-11 173\n",
       "12 2013-12 203\n",
       "13 2014-01 169\n",
       "14 2014-02 166\n",
       "15 2014-03 162\n",
       "16 2014-04 147\n",
       "17 2014-05 188\n",
       "18 2014-06 161\n",
       "19 2014-07 162\n",
       "20 2014-08 169\n",
       "21 2014-09 185\n",
       "22 2014-10 188\n",
       "23 2014-11 200\n",
       "24 2014-12 229\n",
       "25 2015-01 189\n",
       "26 2015-02 218\n",
       "27 2015-03 185\n",
       "28 2015-04 199\n",
       "29 2015-05 210\n",
       "30 2015-06 193\n",
       "31 2015-07 211\n",
       "32 2015-08 208\n",
       "33 2015-09 216\n",
       "34 2015-10 218\n",
       "35 2015-11 264\n",
       "36 2015-12 304\n"
      ]
     },
     "metadata": {},
     "output_type": "display_data"
    }
   ],
   "source": [
    "%%R\n",
    "df = read.csv(\"/home/pybokeh/Downloads/ch10/SwordDemand2.csv\",header=TRUE,stringsAsFactors=FALSE)\n",
    "print(df)"
   ]
  },
  {
   "cell_type": "code",
   "execution_count": 3,
   "metadata": {
    "collapsed": false,
    "run_control": {
     "read_only": false
    }
   },
   "outputs": [
    {
     "data": {
      "text/plain": [
       "'data.frame':\t36 obs. of  2 variables:\n",
       " $ Date: chr  \"2013-01\" \"2013-02\" \"2013-03\" \"2013-04\" ...\n",
       " $ Qty : int  165 171 147 143 164 160 152 150 159 169 ...\n"
      ]
     },
     "metadata": {},
     "output_type": "display_data"
    }
   ],
   "source": [
    "%%R\n",
    "str(df)"
   ]
  },
  {
   "cell_type": "markdown",
   "metadata": {},
   "source": [
    "### Convert the date column which is currently of type \"char\" to an actual Date type:"
   ]
  },
  {
   "cell_type": "code",
   "execution_count": 5,
   "metadata": {
    "collapsed": false,
    "run_control": {
     "read_only": false
    }
   },
   "outputs": [
    {
     "data": {
      "text/plain": [
       "'data.frame':\t36 obs. of  2 variables:\n",
       " $ Date:Class 'yearmon'  num [1:36] 2013 2013 2013 2013 2013 ...\n",
       " $ Qty : int  165 171 147 143 164 160 152 150 159 169 ...\n"
      ]
     },
     "metadata": {},
     "output_type": "display_data"
    }
   ],
   "source": [
    "%%R\n",
    "library(xts)\n",
    "df$Date = as.yearmon(df$Date, format=\"%Y-%m\") \n",
    "str(df)"
   ]
  },
  {
   "cell_type": "code",
   "execution_count": 6,
   "metadata": {
    "collapsed": false,
    "run_control": {
     "read_only": false
    }
   },
   "outputs": [
    {
     "data": {
      "text/plain": [
       "     Jan Feb Mar Apr May Jun Jul Aug Sep Oct Nov Dec\n",
       "2013 165 171 147 143 164 160 152 150 159 169 173 203\n",
       "2014 169 166 162 147 188 161 162 169 185 188 200 229\n",
       "2015 189 218 185 199 210 193 211 208 216 218 264 304\n"
      ]
     },
     "metadata": {},
     "output_type": "display_data"
    }
   ],
   "source": [
    "%%R\n",
    "dft = ts(df$Qty,frequency=12,start=c(2013,1)) # or dft = zoo(df$qty, order.by=df$date, frequency=12)\n",
    "print(dft)"
   ]
  },
  {
   "cell_type": "code",
   "execution_count": 9,
   "metadata": {
    "collapsed": false,
    "run_control": {
     "read_only": false
    }
   },
   "outputs": [
    {
     "data": {
      "text/plain": [
       "\n",
       "Forecast method: HoltWinters\n",
       "\n",
       "Model Information:\n",
       "Holt-Winters exponential smoothing with trend and additive seasonal component.\n",
       "\n",
       "Call:\n",
       "HoltWinters(x = dft, gamma = TRUE)\n",
       "\n",
       "Smoothing parameters:\n",
       " alpha: 0.03745919\n",
       " beta : 1\n",
       " gamma: TRUE\n",
       "\n",
       "Coefficients:\n",
       "           [,1]\n",
       "a   230.1742426\n",
       "b     4.9593055\n",
       "s1   -0.9981753\n",
       "s2   24.2319846\n",
       "s3  -12.1678757\n",
       "s4   -2.2389364\n",
       "s5    5.2457368\n",
       "s6  -15.0582677\n",
       "s7   -0.7514441\n",
       "s8   -7.3943043\n",
       "s9   -2.6559054\n",
       "s10  -3.4963232\n",
       "s11  38.7850629\n",
       "s12  73.8257574\n",
       "\n",
       "Error measures:\n",
       "                   ME     RMSE      MAE     MPE     MAPE      MASE        ACF1\n",
       "Training set 4.213125 12.20488 9.442843 2.40332 5.363829 0.6295229 -0.09925473\n",
       "\n",
       "Forecasts:\n",
       "         Point Forecast    Lo 80    Hi 80    Lo 95    Hi 95\n",
       "Jan 2016       234.1354 219.1399 249.1308 211.2018 257.0689\n",
       "Feb 2016       264.3248 249.2874 279.3623 241.3270 287.3226\n",
       "Mar 2016       232.8843 217.7527 248.0159 209.7425 256.0260\n",
       "Apr 2016       247.7725 232.4750 263.0700 224.3770 271.1680\n",
       "May 2016       260.2165 244.6633 275.7697 236.4300 284.0030\n",
       "Jun 2016       244.8718 228.9577 260.7860 220.5332 269.2104\n",
       "Jul 2016       264.1379 247.7452 280.5306 239.0674 289.2084\n",
       "Aug 2016       262.4544 245.4569 279.4519 236.4590 288.4498\n",
       "Sep 2016       272.1521 254.4187 289.8855 245.0312 299.2729\n",
       "Oct 2016       276.2710 257.6692 294.8727 247.8221 304.7199\n",
       "Nov 2016       323.5117 303.9106 343.1128 293.5344 353.4890\n",
       "Dec 2016       363.5117 342.7839 384.2394 331.8113 395.2120\n",
       "Jan 2017       293.6470 263.6122 323.6819 247.7127 339.5814\n",
       "Feb 2017       323.8365 292.7892 354.8838 276.3537 371.3193\n",
       "Mar 2017       292.3959 260.2256 324.5663 243.1957 341.5962\n",
       "Apr 2017       307.2842 273.8820 340.6864 256.2000 358.3684\n",
       "May 2017       319.7282 284.9878 354.4685 266.5974 372.8589\n",
       "Jun 2017       304.3835 268.2017 340.5653 249.0482 359.7187\n",
       "Jul 2017       323.6496 285.9266 361.3726 265.9572 381.3420\n",
       "Aug 2017       321.9660 282.6057 361.3264 261.7696 382.1625\n",
       "Sep 2017       331.6638 290.5738 372.7537 268.8221 394.5054\n",
       "Oct 2017       335.7826 292.8746 378.6907 270.1605 401.4048\n",
       "Nov 2017       383.0233 338.2125 427.8342 314.4911 451.5556\n",
       "Dec 2017       423.0233 376.2285 469.8181 351.4569 494.5898\n"
      ]
     },
     "metadata": {},
     "output_type": "display_data"
    }
   ],
   "source": [
    "%%R\n",
    "library(forecast)\n",
    "hwm = HoltWinters(dft, gamma=TRUE)\n",
    "hwf = forecast.HoltWinters(hwm, h=24)\n",
    "summary(hwf)"
   ]
  },
  {
   "cell_type": "code",
   "execution_count": 8,
   "metadata": {
    "collapsed": false,
    "run_control": {
     "read_only": false
    }
   },
   "outputs": [
    {
     "data": {
      "image/png": "[encoded data removed]"
     },
     "metadata": {},
     "output_type": "display_data"
    }
   ],
   "source": [
    "%%R\n",
    "plot.forecast(hwf)"
   ]
  }
 ],
 "metadata": {
  "hide_input": false,
  "kernelspec": {
   "display_name": "Python 3",
   "language": "python",
   "name": "python3"
  },
  "language_info": {
   "codemirror_mode": {
    "name": "ipython",
    "version": 3
   },
   "file_extension": ".py",
   "mimetype": "text/x-python",
   "name": "python",
   "nbconvert_exporter": "python",
   "pygments_lexer": "ipython3",
   "version": "3.5.1"
  },
  "toc": {
   "toc_cell": false,
   "toc_number_sections": true,
   "toc_threshold": 6,
   "toc_window_display": false
  }
 },
 "nbformat": 4,
 "nbformat_minor": 0
}
