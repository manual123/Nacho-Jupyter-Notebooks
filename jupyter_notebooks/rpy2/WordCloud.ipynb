{
 "cells": [
  {
   "cell_type": "code",
   "execution_count": 1,
   "metadata": {
    "collapsed": true
   },
   "outputs": [],
   "source": [
    "### load the rpy2 extension\n",
    "%load_ext rpy2.ipython"
   ]
  },
  {
   "cell_type": "markdown",
   "metadata": {},
   "source": [
    "## WordCloud from a text file"
   ]
  },
  {
   "cell_type": "code",
   "execution_count": 2,
   "metadata": {
    "collapsed": false
   },
   "outputs": [
    {
     "name": "stdout",
     "output_type": "stream",
     "text": [
      "Loading required package: RColorBrewer\n",
      "Error in library(SnowballC) : there is no package called ‘SnowballC’\n"
     ]
    }
   ],
   "source": [
    "%%R -w 400 -h 400 -u px # instead of px, you can also choose 'in', 'cm', or 'mm'\n",
    "library(tm)\n",
    "library(wordcloud)\n",
    "library(SnowballC)\n",
    "\n",
    "contents <- readLines('d:/temp/wordcloud/contention.txt')\n",
    "doc.vec <- VectorSource(contents)\n",
    "doc.corpus <- Corpus(doc.vec)\n",
    "#xkcd.df <- read.csv(file.path(path, datafiles))\n",
    "#xkcd.corpus <- Corpus(DataframeSource(data.frame(xkcd.df[, 3])))\n",
    "cleaned <- tm_map(doc.corpus,stripWhitespace)\n",
    "cleaned <- tm_map(cleaned, content_transformer(tolower))\n",
    "cleaned <- tm_map(cleaned,removeWords,stopwords(\"english\"))\n",
    "#cleaned <- tm_map(cleaned,stemDocument)\n",
    "cleaned <- tm_map(cleaned,removeNumbers)\n",
    "cleaned <- tm_map(cleaned,removePunctuation)\n",
    "\n",
    "cleaned <- tm_map(cleaned,removeWords, \"customer\")\n",
    "cleaned <- tm_map(cleaned,removeWords, \"cust\")\n",
    "cleaned <- tm_map(cleaned,removeWords, \"client\")\n",
    "cleaned <- tm_map(cleaned,removeWords, \"replace\")\n",
    "cleaned <- tm_map(cleaned,removeWords, \"replaced\")\n",
    "cleaned <- tm_map(cleaned,removeWords, \"repl\")\n",
    "cleaned <- tm_map(cleaned,removeWords, \"states\")\n",
    "cleaned <- tm_map(cleaned,removeWords, \"perform\")\n",
    "cleaned <- tm_map(cleaned,removeWords, \"performed\")\n",
    "cleaned <- tm_map(cleaned,removeWords, \"checked\")\n",
    "cleaned <- tm_map(cleaned,removeWords, \"found\")\n",
    "cleaned <- tm_map(cleaned,removeWords, \"advise\")\n",
    "cleaned <- tm_map(cleaned,removeWords, \"inspect\")\n",
    "cleaned <- tm_map(cleaned,removeWords, \"inspected\")\n",
    "cleaned <- tm_map(cleaned,removeWords, \"tech\")\n",
    "cleaned <- tm_map(cleaned,removeWords, \"technician\")\n",
    "cleaned <- tm_map(cleaned,removeWords, \"new\")\n",
    "cleaned <- tm_map(cleaned,removeWords, \"test\")\n",
    "cleaned <- tm_map(cleaned,removeWords, \"please\")\n",
    "\n",
    "wordcloud(cleaned, max.words=100, colors=brewer.pal(7,\"Dark2\"),random.order=FALSE, scale=c(5,0.5))"
   ]
  },
  {
   "cell_type": "markdown",
   "metadata": {},
   "source": [
    "## WordCloud from an Excel file using pandas"
   ]
  },
  {
   "cell_type": "code",
   "execution_count": 3,
   "metadata": {
    "collapsed": false
   },
   "outputs": [
    {
     "ename": "ImportError",
     "evalue": "No module named 'xlrd'",
     "output_type": "error",
     "traceback": [
      "\u001b[1;31m---------------------------------------------------------------------------\u001b[0m",
      "\u001b[1;31mImportError\u001b[0m                               Traceback (most recent call last)",
      "\u001b[1;32m<ipython-input-3-2c71f064cdb3>\u001b[0m in \u001b[0;36m<module>\u001b[1;34m()\u001b[0m\n\u001b[0;32m      1\u001b[0m \u001b[1;32mimport\u001b[0m \u001b[0mpandas\u001b[0m \u001b[1;32mas\u001b[0m \u001b[0mpd\u001b[0m\u001b[1;33m\u001b[0m\u001b[0m\n\u001b[0;32m      2\u001b[0m \u001b[1;33m\u001b[0m\u001b[0m\n\u001b[1;32m----> 3\u001b[1;33m \u001b[0mcontention\u001b[0m \u001b[1;33m=\u001b[0m \u001b[0mpd\u001b[0m\u001b[1;33m.\u001b[0m\u001b[0mread_excel\u001b[0m\u001b[1;33m(\u001b[0m\u001b[1;34mr'\\\\hdcnas02\\AQ_MarketQuality\\DensoOBD\\WarrantySummaries\\35830 - Sunroof Switch\\12G_Civic_35830.xlsx'\u001b[0m\u001b[1;33m,\u001b[0m\u001b[1;34m'Claims'\u001b[0m\u001b[1;33m)\u001b[0m\u001b[1;33m\u001b[0m\u001b[0m\n\u001b[0m",
      "\u001b[1;32m/home/pybokeh/miniconda3/envs/jupyter/lib/python3.4/site-packages/pandas/io/excel.py\u001b[0m in \u001b[0;36mread_excel\u001b[1;34m(io, sheetname, **kwds)\u001b[0m\n\u001b[0;32m    130\u001b[0m     \u001b[0mengine\u001b[0m \u001b[1;33m=\u001b[0m \u001b[0mkwds\u001b[0m\u001b[1;33m.\u001b[0m\u001b[0mpop\u001b[0m\u001b[1;33m(\u001b[0m\u001b[1;34m'engine'\u001b[0m\u001b[1;33m,\u001b[0m \u001b[1;32mNone\u001b[0m\u001b[1;33m)\u001b[0m\u001b[1;33m\u001b[0m\u001b[0m\n\u001b[0;32m    131\u001b[0m \u001b[1;33m\u001b[0m\u001b[0m\n\u001b[1;32m--> 132\u001b[1;33m     \u001b[1;32mreturn\u001b[0m \u001b[0mExcelFile\u001b[0m\u001b[1;33m(\u001b[0m\u001b[0mio\u001b[0m\u001b[1;33m,\u001b[0m \u001b[0mengine\u001b[0m\u001b[1;33m=\u001b[0m\u001b[0mengine\u001b[0m\u001b[1;33m)\u001b[0m\u001b[1;33m.\u001b[0m\u001b[0mparse\u001b[0m\u001b[1;33m(\u001b[0m\u001b[0msheetname\u001b[0m\u001b[1;33m=\u001b[0m\u001b[0msheetname\u001b[0m\u001b[1;33m,\u001b[0m \u001b[1;33m**\u001b[0m\u001b[0mkwds\u001b[0m\u001b[1;33m)\u001b[0m\u001b[1;33m\u001b[0m\u001b[0m\n\u001b[0m\u001b[0;32m    133\u001b[0m \u001b[1;33m\u001b[0m\u001b[0m\n\u001b[0;32m    134\u001b[0m \u001b[1;33m\u001b[0m\u001b[0m\n",
      "\u001b[1;32m/home/pybokeh/miniconda3/envs/jupyter/lib/python3.4/site-packages/pandas/io/excel.py\u001b[0m in \u001b[0;36m__init__\u001b[1;34m(self, io, **kwds)\u001b[0m\n\u001b[0;32m    148\u001b[0m     \u001b[1;32mdef\u001b[0m \u001b[0m__init__\u001b[0m\u001b[1;33m(\u001b[0m\u001b[0mself\u001b[0m\u001b[1;33m,\u001b[0m \u001b[0mio\u001b[0m\u001b[1;33m,\u001b[0m \u001b[1;33m**\u001b[0m\u001b[0mkwds\u001b[0m\u001b[1;33m)\u001b[0m\u001b[1;33m:\u001b[0m\u001b[1;33m\u001b[0m\u001b[0m\n\u001b[0;32m    149\u001b[0m \u001b[1;33m\u001b[0m\u001b[0m\n\u001b[1;32m--> 150\u001b[1;33m         \u001b[1;32mimport\u001b[0m \u001b[0mxlrd\u001b[0m  \u001b[1;31m# throw an ImportError if we need to\u001b[0m\u001b[1;33m\u001b[0m\u001b[0m\n\u001b[0m\u001b[0;32m    151\u001b[0m \u001b[1;33m\u001b[0m\u001b[0m\n\u001b[0;32m    152\u001b[0m         \u001b[0mver\u001b[0m \u001b[1;33m=\u001b[0m \u001b[0mtuple\u001b[0m\u001b[1;33m(\u001b[0m\u001b[0mmap\u001b[0m\u001b[1;33m(\u001b[0m\u001b[0mint\u001b[0m\u001b[1;33m,\u001b[0m \u001b[0mxlrd\u001b[0m\u001b[1;33m.\u001b[0m\u001b[0m__VERSION__\u001b[0m\u001b[1;33m.\u001b[0m\u001b[0msplit\u001b[0m\u001b[1;33m(\u001b[0m\u001b[1;34m\".\"\u001b[0m\u001b[1;33m)\u001b[0m\u001b[1;33m[\u001b[0m\u001b[1;33m:\u001b[0m\u001b[1;36m2\u001b[0m\u001b[1;33m]\u001b[0m\u001b[1;33m)\u001b[0m\u001b[1;33m)\u001b[0m\u001b[1;33m\u001b[0m\u001b[0m\n",
      "\u001b[1;31mImportError\u001b[0m: No module named 'xlrd'"
     ]
    }
   ],
   "source": [
    "import pandas as pd\n",
    "\n",
    "contention = pd.read_excel(r'\\\\hdcnas02\\AQ_MarketQuality\\DensoOBD\\WarrantySummaries\\35830 - Sunroof Switch\\12G_Civic_35830.xlsx','Claims')"
   ]
  },
  {
   "cell_type": "code",
   "execution_count": null,
   "metadata": {
    "collapsed": false
   },
   "outputs": [],
   "source": [
    "%R -i contention"
   ]
  },
  {
   "cell_type": "code",
   "execution_count": null,
   "metadata": {
    "collapsed": false
   },
   "outputs": [],
   "source": [
    "%%R -w 400 -h 400 -u px # instead of px, you can also choose 'in', 'cm', or 'mm'\n",
    "df <- as.data.frame(contention)\n",
    "library(tm)\n",
    "library(wordcloud)\n",
    "library(SnowballC)\n",
    "\n",
    "doc.corpus <- Corpus(VectorSource(contention$CUSTOMER_CONTENTION_TEXT))\n",
    "cleaned <- tm_map(doc.corpus,stripWhitespace)\n",
    "cleaned <- tm_map(cleaned, content_transformer(tolower))\n",
    "cleaned <- tm_map(cleaned,removeWords,stopwords(\"english\"))\n",
    "#cleaned <- tm_map(cleaned,stemDocument)\n",
    "cleaned <- tm_map(cleaned,removeNumbers)\n",
    "cleaned <- tm_map(cleaned,removePunctuation)\n",
    "\n",
    "# Remove \"worthless\" words\n",
    "cleaned <- tm_map(cleaned,removeWords, \"customer\")\n",
    "cleaned <- tm_map(cleaned,removeWords, \"cust\")\n",
    "cleaned <- tm_map(cleaned,removeWords, \"client\")\n",
    "cleaned <- tm_map(cleaned,removeWords, \"replace\")\n",
    "cleaned <- tm_map(cleaned,removeWords, \"replaced\")\n",
    "cleaned <- tm_map(cleaned,removeWords, \"repl\")\n",
    "cleaned <- tm_map(cleaned,removeWords, \"states\")\n",
    "cleaned <- tm_map(cleaned,removeWords, \"perform\")\n",
    "cleaned <- tm_map(cleaned,removeWords, \"performed\")\n",
    "cleaned <- tm_map(cleaned,removeWords, \"checked\")\n",
    "cleaned <- tm_map(cleaned,removeWords, \"found\")\n",
    "cleaned <- tm_map(cleaned,removeWords, \"advise\")\n",
    "cleaned <- tm_map(cleaned,removeWords, \"inspect\")\n",
    "cleaned <- tm_map(cleaned,removeWords, \"inspected\")\n",
    "cleaned <- tm_map(cleaned,removeWords, \"tech\")\n",
    "cleaned <- tm_map(cleaned,removeWords, \"technician\")\n",
    "cleaned <- tm_map(cleaned,removeWords, \"new\")\n",
    "cleaned <- tm_map(cleaned,removeWords, \"test\")\n",
    "cleaned <- tm_map(cleaned,removeWords, \"please\")\n",
    "\n",
    "wordcloud(cleaned, max.words=50, colors=brewer.pal(6,\"Dark2\"),random.order=FALSE, scale=c(5,0.5))"
   ]
  }
 ],
 "metadata": {
  "hide_input": true,
  "kernelspec": {
   "display_name": "Python 3",
   "language": "python",
   "name": "python3"
  },
  "language_info": {
   "codemirror_mode": {
    "name": "ipython",
    "version": 3
   },
   "file_extension": ".py",
   "mimetype": "text/x-python",
   "name": "python",
   "nbconvert_exporter": "python",
   "pygments_lexer": "ipython3",
   "version": "3.4.3"
  }
 },
 "nbformat": 4,
 "nbformat_minor": 0
}
