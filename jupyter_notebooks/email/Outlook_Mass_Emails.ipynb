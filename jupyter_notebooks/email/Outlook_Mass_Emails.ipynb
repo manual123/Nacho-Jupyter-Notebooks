{
 "cells": [
  {
   "cell_type": "markdown",
   "metadata": {
    "deletable": true,
    "editable": true,
    "run_control": {
     "frozen": false,
     "read_only": false
    }
   },
   "source": [
    "## Sending mass Outlook emails from a list of emails in an Excel column"
   ]
  },
  {
   "cell_type": "code",
   "execution_count": 2,
   "metadata": {
    "collapsed": false,
    "deletable": true,
    "editable": true,
    "run_control": {
     "frozen": false,
     "read_only": false
    }
   },
   "outputs": [
    {
     "data": {
      "text/html": [
       "<div>\n",
       "<style>\n",
       "    .dataframe thead tr:only-child th {\n",
       "        text-align: right;\n",
       "    }\n",
       "\n",
       "    .dataframe thead th {\n",
       "        text-align: left;\n",
       "    }\n",
       "\n",
       "    .dataframe tbody tr th {\n",
       "        vertical-align: top;\n",
       "    }\n",
       "</style>\n",
       "<table border=\"1\" class=\"dataframe\">\n",
       "  <thead>\n",
       "    <tr style=\"text-align: right;\">\n",
       "      <th></th>\n",
       "      <th>email</th>\n",
       "    </tr>\n",
       "  </thead>\n",
       "  <tbody>\n",
       "    <tr>\n",
       "      <th>0</th>\n",
       "      <td>recipent1@somecompany.com</td>\n",
       "    </tr>\n",
       "    <tr>\n",
       "      <th>1</th>\n",
       "      <td>recipient2@somecompany.com</td>\n",
       "    </tr>\n",
       "  </tbody>\n",
       "</table>\n",
       "</div>"
      ],
      "text/plain": [
       "                         email\n",
       "0  recipient1@somecompany.com\n",
       "1   recipient2@somecompany.com"
      ]
     },
     "execution_count": 2,
     "metadata": {},
     "output_type": "execute_result"
    }
   ],
   "source": [
    "import pandas as pd\n",
    "\n",
    "# Get emails from clipboard\n",
    "emails = pd.read_clipboard()  # or from Excel file: pd.read_excel('path_to_excel_file', sheetname='your_sheet')\n",
    "emails"
   ]
  },
  {
   "cell_type": "markdown",
   "metadata": {
    "deletable": true,
    "editable": true,
    "run_control": {
     "frozen": false,
     "read_only": false
    }
   },
   "source": [
    "### Create single string consisting of all emails concatenated together with semicolon"
   ]
  },
  {
   "cell_type": "code",
   "execution_count": 3,
   "metadata": {
    "collapsed": false,
    "deletable": true,
    "editable": true,
    "run_control": {
     "frozen": false,
     "read_only": false
    }
   },
   "outputs": [
    {
     "name": "stdout",
     "output_type": "stream",
     "text": [
      "recipient1@somecompany.com;recipient2@somecompany.com;\n"
     ]
    }
   ],
   "source": [
    "strEmails = ''\n",
    "for email in emails.values:\n",
    "    strEmails = strEmails + email[0] + ';'\n",
    "    \n",
    "print(strEmails) # print out emails to confirm"
   ]
  },
  {
   "cell_type": "markdown",
   "metadata": {
    "deletable": true,
    "editable": true,
    "run_control": {
     "frozen": false,
     "read_only": false
    }
   },
   "source": [
    "### Send emails using Outlook"
   ]
  },
  {
   "cell_type": "code",
   "execution_count": 6,
   "metadata": {
    "collapsed": false,
    "deletable": true,
    "editable": true,
    "run_control": {
     "frozen": false,
     "read_only": false
    }
   },
   "outputs": [],
   "source": [
    "import win32com.client as win32\n",
    "\n",
    "outlook = win32.Dispatch('outlook.application')\n",
    "mail = outlook.CreateItem(0)\n",
    "mail.To = strEmails\n",
    "# or mail.BCC = to send BCC-ed emails\n",
    "mail.Subject = 'Mass Email Test'\n",
    "mail.HTMLBody = \"This email was automatically sent via Python Script.\"\n",
    "mail.Send()"
   ]
  },
  {
   "cell_type": "markdown",
   "metadata": {
    "deletable": true,
    "editable": true,
    "run_control": {
     "frozen": false,
     "read_only": false
    }
   },
   "source": [
    "### Complete Script without sending attachments"
   ]
  },
  {
   "cell_type": "code",
   "execution_count": null,
   "metadata": {
    "collapsed": true,
    "deletable": true,
    "editable": true,
    "run_control": {
     "frozen": false,
     "read_only": false
    }
   },
   "outputs": [],
   "source": [
    "import pandas as pd\n",
    "import win32com.client as win32\n",
    "\n",
    "# Get emails from clipboard\n",
    "emails = pd.read_clipboard()\n",
    "\n",
    "# Make a string, concatenating the emails together with a semicolon\n",
    "strEmails = ''\n",
    "for email in emails.values:\n",
    "    strEmails = strEmails + email[0] + ';'\n",
    "\n",
    "# Send Outlook email using the current user's Outlook credentials\n",
    "outlook = win32.Dispatch('outlook.application')\n",
    "mail = outlook.CreateItem(0)\n",
    "mail.To = strEmails\n",
    "# or mail.BCC = to send BCC-ed emails\n",
    "mail.Subject = 'Mass Email Test'\n",
    "mail.HTMLBody = \"This email was automatically sent via Python Script.\"\n",
    "mail.Send()"
   ]
  },
  {
   "cell_type": "markdown",
   "metadata": {
    "deletable": true,
    "editable": true,
    "run_control": {
     "frozen": false,
     "read_only": false
    }
   },
   "source": [
    "### Complete script sending attachments"
   ]
  },
  {
   "cell_type": "code",
   "execution_count": 7,
   "metadata": {
    "collapsed": true,
    "deletable": true,
    "editable": true,
    "run_control": {
     "frozen": false,
     "read_only": false
    }
   },
   "outputs": [],
   "source": [
    "import pandas as pd\n",
    "import win32com.client as win32\n",
    "\n",
    "# Get emails from clipboard\n",
    "emails = pd.read_clipboard()\n",
    "\n",
    "# Make a string, concatenating the emails together with a semicolon\n",
    "strEmails = ''\n",
    "for email in emails.values:\n",
    "    strEmails = strEmails + email[0] + ';'\n",
    "\n",
    "# Send Outlook email using the current user's Outlook credentials\n",
    "outlook = win32.Dispatch('outlook.application')\n",
    "mail = outlook.CreateItem(0)\n",
    "mail.To = strEmails\n",
    "# or mail.BCC = to send BCC-ed emails\n",
    "mail.Subject = 'Mass Email Test with attachments'\n",
    "mail.HTMLBody = \"This email was automatically sent via Python Script.\"\n",
    "attachment1 = r'path_to_your_attachment1'\n",
    "attachment2 = r'path_to_your_attachment2'\n",
    "mail.Attachments.Add(attachment1)\n",
    "mail.Attachments.Add(attachment2)\n",
    "mail.Send()"
   ]
  }
 ],
 "metadata": {
  "_draft": {
   "nbviewer_url": "https://gist.github.com/33d8a4e7aa82d73615d52afa22c07626"
  },
  "gist": {
   "data": {
    "description": "email/Outlook_Mass_Emails.ipynb",
    "public": true
   },
   "id": "33d8a4e7aa82d73615d52afa22c07626"
  },
  "hide_input": false,
  "kernelspec": {
   "display_name": "Python 3",
   "language": "python",
   "name": "python3"
  },
  "language_info": {
   "codemirror_mode": {
    "name": "ipython",
    "version": 3
   },
   "file_extension": ".py",
   "mimetype": "text/x-python",
   "name": "python",
   "nbconvert_exporter": "python",
   "pygments_lexer": "ipython3",
   "version": "3.6.1"
  }
 },
 "nbformat": 4,
 "nbformat_minor": 2
}
