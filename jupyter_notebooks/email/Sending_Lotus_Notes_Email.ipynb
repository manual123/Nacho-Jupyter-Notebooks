{
 "cells": [
  {
   "cell_type": "markdown",
   "metadata": {},
   "source": [
    "# Sending Lotus Notes Email - example taken from SO [example](http://stackoverflow.com/questions/26065191/send-mail-in-lotus-notes-using-python)"
   ]
  },
  {
   "cell_type": "markdown",
   "metadata": {},
   "source": [
    "### Dependencies:"
   ]
  },
  {
   "cell_type": "markdown",
   "metadata": {},
   "source": [
    "- Python 3.x\n",
    "- pywin32\n",
    "- need to know your mail server location and mail database file location\n",
    "    - these typically can be found in your notes.ini file located in your Notes local \"Data\" folder"
   ]
  },
  {
   "cell_type": "code",
   "execution_count": 2,
   "metadata": {
    "collapsed": false
   },
   "outputs": [
    {
     "name": "stdout",
     "output_type": "stream",
     "text": [
      "Enter Notes password: ········\n"
     ]
    }
   ],
   "source": [
    "import os, uuid\n",
    "import itertools as it\n",
    "from getpass import getpass\n",
    "\n",
    "from win32com.client import DispatchEx\n",
    "import pywintypes # for exception\n",
    "\n",
    "# Get password from user without echoing/displaying it\n",
    "pw = getpass('Enter Notes password: ')\n",
    "\n",
    "def send_mail(subject,body_text,sendto,copyto=None,blindcopyto=None,\n",
    "              attach=None):\n",
    "    session = DispatchEx('Lotus.NotesSession')\n",
    "    session.Initialize(pw)\n",
    "\n",
    "    \n",
    "    # For WRP:\n",
    "    # server_name = 'NSHAMM04/HAM/S_SRV/AM/HONDA'\n",
    "    # db_name = 'mail/hamaqwrp.nsf'\n",
    "    server_name = 'NSHAMM01/HAM/S_SRV/AM/HONDA'  # At DOS prompt: ping NSHAMM01 to get ip address\n",
    "    db_name = 'mail/ma17151.nsf'\n",
    "\n",
    "    db = session.getDatabase(server_name, db_name)\n",
    "    if not db.IsOpen:\n",
    "        try:\n",
    "            db.Open()\n",
    "        except pywintypes.com_error:\n",
    "            print( 'could not open database: {}'.format(db_name) )\n",
    "\n",
    "    doc = db.CreateDocument()\n",
    "    doc.ReplaceItemValue(\"Form\",\"Memo\")\n",
    "    doc.ReplaceItemValue(\"Subject\",subject)\n",
    "\n",
    "    # assign random uid because sometimes Lotus Notes tries to reuse the same one\n",
    "    uid = str(uuid.uuid4().hex)\n",
    "    doc.ReplaceItemValue('UNIVERSALID',uid)\n",
    "\n",
    "    # \"SendTo\" MUST be populated otherwise you get this error: \n",
    "    # 'No recipient list for Send operation'\n",
    "    doc.ReplaceItemValue(\"SendTo\", sendto)\n",
    "\n",
    "    if copyto is not None:\n",
    "        doc.ReplaceItemValue(\"CopyTo\", copyto)\n",
    "    if blindcopyto is not None:\n",
    "        doc.ReplaceItemValue(\"BlindCopyTo\", blindcopyto)\n",
    "\n",
    "    # body\n",
    "    body = doc.CreateRichTextItem(\"Body\")\n",
    "    body.AppendText(body_text)\n",
    "\n",
    "    # attachment \n",
    "    if attach is not None:\n",
    "        attachment = doc.CreateRichTextItem(\"Attachment\")\n",
    "        for att in attach:\n",
    "            attachment.EmbedObject(1454, \"\", att, \"Attachment\")\n",
    "\n",
    "    # save in `Sent` view; default is False\n",
    "    doc.SaveMessageOnSend = True\n",
    "    doc.Send(False)\n",
    "\n",
    "if __name__ == '__main__':\n",
    "    subject = \"test subject\"\n",
    "    body = \"test body - sent by a Python bot\"\n",
    "    sendto = ['daniel_j_kim@hna.honda.com']\n",
    "    files = ['D:\\\\temp\\\\2016-10-18base_name.txt']\n",
    "    attachment = it.takewhile(lambda x: os.path.exists(x), files)\n",
    "\n",
    "    send_mail(subject, body, sendto, attach=attachment)"
   ]
  }
 ],
 "metadata": {
  "hide_input": false,
  "kernelspec": {
   "display_name": "Python 3",
   "language": "python",
   "name": "python3"
  },
  "language_info": {
   "codemirror_mode": {
    "name": "ipython",
    "version": 3
   },
   "file_extension": ".py",
   "mimetype": "text/x-python",
   "name": "python",
   "nbconvert_exporter": "python",
   "pygments_lexer": "ipython3",
   "version": "3.6.0"
  },
  "latex_envs": {
   "bibliofile": "biblio.bib",
   "cite_by": "apalike",
   "current_citInitial": 1,
   "eqLabelWithNumbers": true,
   "eqNumInitial": 0
  }
 },
 "nbformat": 4,
 "nbformat_minor": 0
}
