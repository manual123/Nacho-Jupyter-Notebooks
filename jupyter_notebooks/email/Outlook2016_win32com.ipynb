{
 "cells": [
  {
   "cell_type": "markdown",
   "metadata": {
    "deletable": true,
    "editable": true
   },
   "source": [
    "# Outlook 2016 Email Examples Using Python"
   ]
  },
  {
   "cell_type": "markdown",
   "metadata": {
    "deletable": true,
    "editable": true
   },
   "source": [
    "**Dependencies:**\n",
    "- win32com library to interface with Microsoft Office products\n",
    "    - Install with conda at DOS prompt> conda install pywin32"
   ]
  },
  {
   "cell_type": "markdown",
   "metadata": {
    "deletable": true,
    "editable": true
   },
   "source": [
    "**Optional Dependencies:**\n",
    "- pandas"
   ]
  },
  {
   "cell_type": "markdown",
   "metadata": {
    "deletable": true,
    "editable": true
   },
   "source": [
    "**Additional References:**\n",
    "- Microsoft's Outlook COM [reference](https://msdn.microsoft.com/en-us/library/microsoft.office.interop.outlook.mailitem_properties.aspx)"
   ]
  },
  {
   "cell_type": "markdown",
   "metadata": {
    "deletable": true,
    "editable": true
   },
   "source": [
    "**NOTE:** Script uses local Outlook account"
   ]
  },
  {
   "cell_type": "markdown",
   "metadata": {
    "deletable": true,
    "editable": true
   },
   "source": [
    "# Sending Email"
   ]
  },
  {
   "cell_type": "code",
   "execution_count": null,
   "metadata": {
    "collapsed": false,
    "deletable": true,
    "editable": true
   },
   "outputs": [],
   "source": [
    "import win32com.client as win32\n",
    "\n",
    "outlook = win32.Dispatch('outlook.application')\n",
    "mail = outlook.CreateItem(0)\n",
    "mail.To = \"email1@some_company.com; email2@some_company.com\"\n",
    "mail.Subject = 'Your email subject'\n",
    "mail.HTMLBody = \"This email was automatically sent via Python Script\"\n",
    "mail.Send()"
   ]
  },
  {
   "cell_type": "markdown",
   "metadata": {
    "deletable": true,
    "editable": true
   },
   "source": [
    "# Reading last email"
   ]
  },
  {
   "cell_type": "markdown",
   "metadata": {
    "deletable": true,
    "editable": true
   },
   "source": [
    "StackOverflow [example](http://stackoverflow.com/questions/31619012/extract-senders-email-address-from-outlook-exchange-in-python-using-win32) that explains for the need to check the message Class for getting the right email format."
   ]
  },
  {
   "cell_type": "code",
   "execution_count": null,
   "metadata": {
    "collapsed": false,
    "deletable": true,
    "editable": true
   },
   "outputs": [],
   "source": [
    "import win32com.client\n",
    "\n",
    "outlook = win32com.client.Dispatch(\"Outlook.Application\").GetNamespace(\"MAPI\")\n",
    "\n",
    "inbox = outlook.GetDefaultFolder(6) # \"6\" refers to the index of a folder - in this case,\n",
    "                                    # the inbox. You can change that number to reference\n",
    "                                    # any other folder\n",
    "all_inbox = inbox.Items\n",
    "message = all_inbox.GetLast()\n",
    "\n",
    "print(\"### Email Subject  ##\")\n",
    "print(message.subject, '\\n')\n",
    "\n",
    "print(\"###  Email Body  ###\")\n",
    "print(message.body)\n",
    "\n",
    "print(\"###  Date Email Sent  ###\")\n",
    "print(message.SentOn, '\\n')\n",
    "\n",
    "print(\"###  Date Email Received  ###\")\n",
    "print(message.ReceivedTime, '\\n')\n",
    "\n",
    "print(\"###  Sender's First and Last Name  ###\")\n",
    "print(message.sender, '\\n')\n",
    "\n",
    "if message.Class == 43:\n",
    "    if message.senderemailtype=='EX':\n",
    "        print(\"###  Sender's email  ###\")\n",
    "        print(message.Sender.GetExchangeUser().PrimarySmtpAddress)\n",
    "    else:\n",
    "        print(\"###  Sender's email  ###\")\n",
    "        print(message.SenderEmailAddress)"
   ]
  },
  {
   "cell_type": "markdown",
   "metadata": {
    "deletable": true,
    "editable": true
   },
   "source": [
    "# To get list of top email senders:"
   ]
  },
  {
   "cell_type": "code",
   "execution_count": null,
   "metadata": {
    "collapsed": false,
    "deletable": true,
    "editable": true
   },
   "outputs": [],
   "source": [
    "import pandas as pd\n",
    "from win32com.client import Dispatch\n",
    "outlook = Dispatch(\"Outlook.Application\").GetNamespace(\"MAPI\")\n",
    "inbox = outlook.GetDefaultFolder(\"6\")\n",
    "all_inbox = inbox.Items\n",
    "\n",
    "df = pd.DataFrame()  # Create empty dataframe that we will be populating in the FOR loop\n",
    "for msg in all_inbox:\n",
    "    if msg.Class==43:\n",
    "        if msg.SenderEmailType=='EX':\n",
    "            # The format of the date stored in Outlook is giving errors, so forcing it to str format\n",
    "            df = df.append({'SENDER':msg.Sender.GetExchangeUser().PrimarySmtpAddress, \n",
    "                            'DATE':str(msg.ReceivedTime)}, ignore_index=True)\n",
    "        else:\n",
    "            # The format of the date stored in Outlook is giving errors, so forcing it to str format\n",
    "            df = df.append({'SENDER':msg.SenderEmailAddress, 'DATE':str(msg.ReceivedTime)}, ignore_index=True)"
   ]
  },
  {
   "cell_type": "markdown",
   "metadata": {
    "deletable": true,
    "editable": true
   },
   "source": [
    "#### Because Outlook's date format is a non-standard format, it was giving errors.  As a workaround, it was stored as an object or string.  Then later, we will change the data type to date format."
   ]
  },
  {
   "cell_type": "code",
   "execution_count": null,
   "metadata": {
    "collapsed": false,
    "deletable": true,
    "editable": true
   },
   "outputs": [],
   "source": [
    "df.dtypes"
   ]
  },
  {
   "cell_type": "code",
   "execution_count": null,
   "metadata": {
    "collapsed": false,
    "deletable": true,
    "editable": true
   },
   "outputs": [],
   "source": [
    "df.head()"
   ]
  },
  {
   "cell_type": "markdown",
   "metadata": {
    "deletable": true,
    "editable": true
   },
   "source": [
    "### Change the data type of the ```DATE``` column to an actual date type so that we can query it as if it was a date:"
   ]
  },
  {
   "cell_type": "code",
   "execution_count": null,
   "metadata": {
    "collapsed": false,
    "deletable": true,
    "editable": true
   },
   "outputs": [],
   "source": [
    "df.DATE = pd.to_datetime(df.DATE)"
   ]
  },
  {
   "cell_type": "markdown",
   "metadata": {
    "deletable": true,
    "editable": true
   },
   "source": [
    "#### Note the ```DATE``` column is now a date format"
   ]
  },
  {
   "cell_type": "code",
   "execution_count": null,
   "metadata": {
    "collapsed": false,
    "deletable": true,
    "editable": true
   },
   "outputs": [],
   "source": [
    "df.dtypes"
   ]
  },
  {
   "cell_type": "code",
   "execution_count": null,
   "metadata": {
    "collapsed": false,
    "deletable": true,
    "editable": true
   },
   "outputs": [],
   "source": [
    "df.head()"
   ]
  },
  {
   "cell_type": "markdown",
   "metadata": {
    "deletable": true,
    "editable": true
   },
   "source": [
    "### Finally, here is list of top email senders using value_counts() function:"
   ]
  },
  {
   "cell_type": "code",
   "execution_count": null,
   "metadata": {
    "collapsed": false,
    "deletable": true,
    "editable": true
   },
   "outputs": [],
   "source": [
    "df.SENDER.value_counts()"
   ]
  },
  {
   "cell_type": "markdown",
   "metadata": {
    "deletable": true,
    "editable": true
   },
   "source": [
    "#### No surprise notifications@yammer.com sends the most emails to me :-)"
   ]
  },
  {
   "cell_type": "markdown",
   "metadata": {
    "deletable": true,
    "editable": true
   },
   "source": [
    "# Filter inbox emails by received date or by Sender"
   ]
  },
  {
   "cell_type": "markdown",
   "metadata": {
    "deletable": true,
    "editable": true
   },
   "source": [
    "### For example, to get emails received between 2017-03-21 and 2017-03-22:"
   ]
  },
  {
   "cell_type": "code",
   "execution_count": null,
   "metadata": {
    "collapsed": false,
    "deletable": true,
    "editable": true
   },
   "outputs": [],
   "source": [
    "filter_by_date = df.query(\"DATE >= '2017-03-21' and DATE <= '2017-03-22'\")"
   ]
  },
  {
   "cell_type": "code",
   "execution_count": null,
   "metadata": {
    "collapsed": false,
    "deletable": true,
    "editable": true
   },
   "outputs": [],
   "source": [
    "filter_by_date"
   ]
  },
  {
   "cell_type": "markdown",
   "metadata": {
    "deletable": true,
    "editable": true
   },
   "source": [
    "### To get list of emails from a specific sender:"
   ]
  },
  {
   "cell_type": "code",
   "execution_count": null,
   "metadata": {
    "collapsed": false,
    "deletable": true,
    "editable": true
   },
   "outputs": [],
   "source": [
    "filter_by_email = df.query(\"SENDER == 'notifications@yammer.com'\")"
   ]
  },
  {
   "cell_type": "code",
   "execution_count": null,
   "metadata": {
    "collapsed": false,
    "deletable": true,
    "editable": true
   },
   "outputs": [],
   "source": [
    "filter_by_email"
   ]
  },
  {
   "cell_type": "markdown",
   "metadata": {
    "deletable": true,
    "editable": true
   },
   "source": [
    "## To obtain list of other Outlook folders and other useful objects:"
   ]
  },
  {
   "cell_type": "code",
   "execution_count": null,
   "metadata": {
    "collapsed": false,
    "deletable": true,
    "editable": true
   },
   "outputs": [],
   "source": [
    "from win32com.client import Dispatch\n",
    "\n",
    "outlook=Dispatch(\"Outlook.Application\").GetNamespace(\"MAPI\")\n",
    "for i in range(50):\n",
    "    try:\n",
    "        box = outlook.GetDefaultFolder(i)\n",
    "        name = box.Name\n",
    "        print(i, name)\n",
    "    except:\n",
    "        pass"
   ]
  },
  {
   "cell_type": "markdown",
   "metadata": {
    "deletable": true,
    "editable": true
   },
   "source": [
    "To summarize sent emails, from above, we can re-use the previous script by referencing \"5\" in the following:"
   ]
  },
  {
   "cell_type": "code",
   "execution_count": null,
   "metadata": {
    "collapsed": true,
    "deletable": true,
    "editable": true
   },
   "outputs": [],
   "source": [
    "outlook.GetDefaultFolder(\"5\")   # to access \"Sent\" folder"
   ]
  },
  {
   "cell_type": "code",
   "execution_count": null,
   "metadata": {
    "collapsed": false,
    "deletable": true,
    "editable": true
   },
   "outputs": [],
   "source": [
    "import pandas as pd\n",
    "from win32com.client import Dispatch\n",
    "outlook = Dispatch(\"Outlook.Application\").GetNamespace(\"MAPI\")\n",
    "sentbox = outlook.GetDefaultFolder(\"5\")\n",
    "all_sentbox = sentbox.Items\n",
    "\n",
    "df = pd.DataFrame()  # Create empty dataframe that we will be populating in the FOR loop\n",
    "for msg in all_sentbox:\n",
    "    for recipient in msg.Recipients:\n",
    "        print(recipient.address)\n",
    "        \n",
    "for msg in all_inbox:\n",
    "    if msg.Class==43:\n",
    "        if msg.SenderEmailType=='EX':\n",
    "            # The format of the date stored in Outlook is giving errors, so forcing it to str format\n",
    "            df = df.append({'SENDER':msg.Sender.GetExchangeUser().PrimarySmtpAddress, \n",
    "                            'DATE':str(msg.ReceivedTime)}, ignore_index=True)\n",
    "        else:\n",
    "            # The format of the date stored in Outlook is giving errors, so forcing it to str format\n",
    "            df = df.append({'SENDER':msg.SenderEmailAddress, 'DATE':str(msg.ReceivedTime)}, ignore_index=True)"
   ]
  },
  {
   "cell_type": "code",
   "execution_count": null,
   "metadata": {
    "collapsed": false,
    "deletable": true,
    "editable": true
   },
   "outputs": [],
   "source": [
    "import pandas as pd\n",
    "from win32com.client import Dispatch\n",
    "outlook = Dispatch(\"Outlook.Application\").GetNamespace(\"MAPI\")\n",
    "sentbox = outlook.GetDefaultFolder(\"5\")\n",
    "all_sentbox = sentbox.Items\n",
    "\n",
    "df = pd.DataFrame()  # Create empty dataframe that we will be populating in the FOR loop\n",
    "        \n",
    "for msg in all_sentbox:\n",
    "    if msg.Class==43:\n",
    "        if msg.SenderEmailType=='EX':\n",
    "            print('Sender: ', msg.Sender.GetExchangeUser().PrimarySmtpAddress)\n",
    "            for recipient in msg.Recipients:\n",
    "                print(recipient.GetExchangeUser().PrimarySmtpAddress)\n",
    "        else:\n",
    "            for recipient in msg.Recipients:\n",
    "                print(recipient.address)"
   ]
  }
 ],
 "metadata": {
  "_draft": {
   "nbviewer_url": "https://gist.github.com/69655ebc0de4ec0f41a1e5e13289fca8"
  },
  "gist": {
   "data": {
    "description": "email/SendingOutlook_Email.ipynb",
    "public": true
   },
   "id": "69655ebc0de4ec0f41a1e5e13289fca8"
  },
  "hide_input": false,
  "kernelspec": {
   "display_name": "Python 3",
   "language": "python",
   "name": "python3"
  },
  "language_info": {
   "codemirror_mode": {
    "name": "ipython",
    "version": 3
   },
   "file_extension": ".py",
   "mimetype": "text/x-python",
   "name": "python",
   "nbconvert_exporter": "python",
   "pygments_lexer": "ipython3",
   "version": "3.6.1"
  }
 },
 "nbformat": 4,
 "nbformat_minor": 2
}
