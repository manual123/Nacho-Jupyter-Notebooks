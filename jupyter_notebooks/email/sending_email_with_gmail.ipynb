{
 "cells": [
  {
   "cell_type": "markdown",
   "metadata": {},
   "source": [
    "You must first ensure your myaccount setting has \"'Allow less secure apps\" turned on for the script below to work."
   ]
  },
  {
   "cell_type": "code",
   "execution_count": 8,
   "metadata": {},
   "outputs": [],
   "source": [
    "import smtplib\n",
    "from email.mime.text import MIMEText\n",
    "from email.utils import COMMASPACE\n",
    "from getpass import getpass"
   ]
  },
  {
   "cell_type": "code",
   "execution_count": 9,
   "metadata": {},
   "outputs": [
    {
     "name": "stdout",
     "output_type": "stream",
     "text": [
      "Enter gmail email: pybokeh@gmail.com\n",
      "Enter password: ········\n"
     ]
    }
   ],
   "source": [
    "GMAIL_USER = input(\"Enter gmail email: \")\n",
    "GMAIL_PWD = getpass(\"Enter password: \")"
   ]
  },
  {
   "cell_type": "code",
   "execution_count": 10,
   "metadata": {},
   "outputs": [],
   "source": [
    "SUBJECT = 'Email from myself'\n",
    "BODY = 'You ready for some donuts?'\n",
    "TO = 'pybokeh@protonmail.com'\n",
    "\n",
    "def sendEmail(sender, pwd, to, subject, message):\n",
    "    recipient = to if type(to) is list else [to]\n",
    "    msg = MIMEText(message)\n",
    "    msg['Subject'] = subject\n",
    "    msg['From'] = sender\n",
    "    msg['To'] = COMMASPACE.join(recipient)\n",
    "    server = smtplib.SMTP('smtp.gmail.com:587')\n",
    "    server.ehlo()\n",
    "    server.starttls()\n",
    "\n",
    "    try:\n",
    "        server.login(sender,pwd)\n",
    "        print('Successfully authenticated...')\n",
    "    except smtplib.SMTPAuthenticationError:               # Check for authentication error\n",
    "        return \" Authentication ERROR\"\n",
    "\n",
    "    try:\n",
    "        server.sendmail(sender,recipient,msg.as_string())\n",
    "        print('Email sent!')\n",
    "    except smtplib.SMTPRecipientsRefused:                # Check if recipient's email was accepted by the server\n",
    "        return \"ERROR\"\n",
    "    server.quit()"
   ]
  },
  {
   "cell_type": "code",
   "execution_count": 11,
   "metadata": {},
   "outputs": [
    {
     "name": "stdout",
     "output_type": "stream",
     "text": [
      "Successfully authenticated...\n",
      "Email sent!\n"
     ]
    }
   ],
   "source": [
    "sendEmail(GMAIL_USER, GMAIL_PWD, TO, SUBJECT, BODY)"
   ]
  }
 ],
 "metadata": {
  "hide_input": false,
  "kernelspec": {
   "display_name": "Python 3",
   "language": "python",
   "name": "python3"
  },
  "language_info": {
   "codemirror_mode": {
    "name": "ipython",
    "version": 3
   },
   "file_extension": ".py",
   "mimetype": "text/x-python",
   "name": "python",
   "nbconvert_exporter": "python",
   "pygments_lexer": "ipython3",
   "version": "3.7.3"
  }
 },
 "nbformat": 4,
 "nbformat_minor": 1
}
