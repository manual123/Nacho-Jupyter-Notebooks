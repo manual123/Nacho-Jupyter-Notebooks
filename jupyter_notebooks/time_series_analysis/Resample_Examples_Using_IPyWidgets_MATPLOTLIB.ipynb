{
 "cells": [
  {
   "cell_type": "code",
   "execution_count": 1,
   "metadata": {
    "scrolled": false
   },
   "outputs": [
    {
     "data": {
      "application/vnd.jupyter.widget-view+json": {
       "model_id": "b6a203288190451fbe8e597bbf7dedfe",
       "version_major": 2,
       "version_minor": 0
      },
      "text/plain": [
       "HTML(value='<b>By Month:</b>')"
      ]
     },
     "metadata": {},
     "output_type": "display_data"
    },
    {
     "data": {
      "application/vnd.jupyter.widget-view+json": {
       "model_id": "1ea8cae626054de98eaadb1f45d8bd98",
       "version_major": 2,
       "version_minor": 0
      },
      "text/plain": [
       "interactive(children=(Dropdown(description='month', options=('2017-05', '2017-06', '2017-07', '2017-08', '2017…"
      ]
     },
     "metadata": {},
     "output_type": "display_data"
    },
    {
     "data": {
      "application/vnd.jupyter.widget-view+json": {
       "model_id": "610104a443bd4610ab0866e9b7fed768",
       "version_major": 2,
       "version_minor": 0
      },
      "text/plain": [
       "HTML(value='<b>By Month-Week Day:</b>')"
      ]
     },
     "metadata": {},
     "output_type": "display_data"
    },
    {
     "data": {
      "application/vnd.jupyter.widget-view+json": {
       "model_id": "dd5dec3e6b6140fe9066cfca77f1776d",
       "version_major": 2,
       "version_minor": 0
      },
      "text/plain": [
       "interactive(children=(Dropdown(description='month', options=('2017-05', '2017-06', '2017-07', '2017-08', '2017…"
      ]
     },
     "metadata": {},
     "output_type": "display_data"
    },
    {
     "data": {
      "application/vnd.jupyter.widget-view+json": {
       "model_id": "b847bc3f35c149e8a6efdec8b59cdcc2",
       "version_major": 2,
       "version_minor": 0
      },
      "text/plain": [
       "HTML(value='<b>By Date Ranges:</b>')"
      ]
     },
     "metadata": {},
     "output_type": "display_data"
    },
    {
     "data": {
      "application/vnd.jupyter.widget-view+json": {
       "model_id": "5afec3cebcb548569bac932fa272071d",
       "version_major": 2,
       "version_minor": 0
      },
      "text/plain": [
       "DatePicker(value=None, description='Start Date:')"
      ]
     },
     "metadata": {},
     "output_type": "display_data"
    },
    {
     "data": {
      "application/vnd.jupyter.widget-view+json": {
       "model_id": "017e932011bf475b8be57471ed8fe88b",
       "version_major": 2,
       "version_minor": 0
      },
      "text/plain": [
       "DatePicker(value=None, description='End Date:')"
      ]
     },
     "metadata": {},
     "output_type": "display_data"
    },
    {
     "data": {
      "application/vnd.jupyter.widget-view+json": {
       "model_id": "62d7b9d5a9fe494fa3a8d840a7f755bf",
       "version_major": 2,
       "version_minor": 0
      },
      "text/plain": [
       "interactive(children=(Dropdown(description='interval', options=('H', 'D', 'W'), value='H'), Button(description…"
      ]
     },
     "metadata": {},
     "output_type": "display_data"
    },
    {
     "data": {
      "text/plain": [
       "<function __main__.byDateInterval(interval=['H', 'D', 'W'])>"
      ]
     },
     "execution_count": 1,
     "metadata": {},
     "output_type": "execute_result"
    }
   ],
   "source": [
    "%matplotlib inline\n",
    "from ipywidgets import interact, interactive, fixed, interact_manual\n",
    "from IPython.display import display\n",
    "import ipywidgets as widgets\n",
    "import matplotlib\n",
    "import matplotlib.pyplot as plt\n",
    "import pandas as pd\n",
    "# Set global figure size\n",
    "matplotlib.rcParams['figure.figsize'] = (20.0, 10.0)\n",
    "\n",
    "df = pd.read_csv('/home/pybokeh/Dropbox/python/jupyter_notebooks/time_series_analysis/EGA_Power_Usage_Over_Time.csv', \n",
    "                 parse_dates=['Timestamp'])\n",
    "\n",
    "# I don't like the original column names, so I'll rename them\n",
    "df.columns = ['Time_Stamp', 'Power_Usage']\n",
    "\n",
    "# Let's also add a new column called WeekDay\n",
    "df['WeekDay'] = df['Time_Stamp'].dt.weekday_name\n",
    "\n",
    "# Set Time_Stamp as a dataframe index\n",
    "df = df.set_index('Time_Stamp')\n",
    "\n",
    "# Building a Python list using list comprehension syntax\n",
    "month_list = [month[:7] for month in df.resample('M').sum().index.astype(str)]\n",
    "\n",
    "\n",
    "label_bymonth = widgets.HTML(\n",
    "    value=\"<b>By Month:</b>\"\n",
    ")\n",
    "display(label_bymonth)\n",
    "\n",
    "@interact\n",
    "def byMonth(month=month_list, interval=['H','D','W']):\n",
    "    df.loc[month].resample(interval).sum().plot()\n",
    "\n",
    "    \n",
    "label_bymonthweekday = widgets.HTML(\n",
    "    value=\"<b>By Month-Week Day:</b>\"\n",
    ")\n",
    "display(label_bymonthweekday)\n",
    "\n",
    "@interact\n",
    "def byWeekDayMonth(month=month_list, weekday=['Sunday','Monday','Tuesday','Wednesday','Thursday','Friday','Saturday']):\n",
    "    df.query(\"WeekDay == @weekday\").loc[month].resample('H').sum().plot()\n",
    "\n",
    "label_bydateranges = widgets.HTML(\n",
    "    value=\"<b>By Date Ranges:</b>\"\n",
    ")\n",
    "display(label_bydateranges)    \n",
    "    \n",
    "start_date = widgets.DatePicker(\n",
    "    description='Start Date:',\n",
    "    disabled=False\n",
    ")\n",
    "\n",
    "end_date = widgets.DatePicker(\n",
    "    description='End Date:',\n",
    "    disabled=False\n",
    ")\n",
    "    \n",
    "display(start_date)\n",
    "display(end_date)\n",
    "def byDateInterval(interval=['H','D','W']):\n",
    "    try:\n",
    "        df.loc[start_date.value:end_date.value].resample(interval).sum().plot()\n",
    "    except:\n",
    "        print('Invalid start or end date')\n",
    "\n",
    "interact_manual(byDateInterval, interval=['H','D','W'])"
   ]
  }
 ],
 "metadata": {
  "hide_input": false,
  "kernelspec": {
   "display_name": "Python 3",
   "language": "python",
   "name": "python3"
  },
  "language_info": {
   "codemirror_mode": {
    "name": "ipython",
    "version": 3
   },
   "file_extension": ".py",
   "mimetype": "text/x-python",
   "name": "python",
   "nbconvert_exporter": "python",
   "pygments_lexer": "ipython3",
   "version": "3.6.4"
  },
  "varInspector": {
   "cols": {
    "lenName": 16,
    "lenType": 16,
    "lenVar": 40
   },
   "kernels_config": {
    "python": {
     "delete_cmd_postfix": "",
     "delete_cmd_prefix": "del ",
     "library": "var_list.py",
     "varRefreshCmd": "print(var_dic_list())"
    },
    "r": {
     "delete_cmd_postfix": ") ",
     "delete_cmd_prefix": "rm(",
     "library": "var_list.r",
     "varRefreshCmd": "cat(var_dic_list()) "
    }
   },
   "types_to_exclude": [
    "module",
    "function",
    "builtin_function_or_method",
    "instance",
    "_Feature"
   ],
   "window_display": false
  }
 },
 "nbformat": 4,
 "nbformat_minor": 2
}
