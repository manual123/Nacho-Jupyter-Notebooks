{
 "cells": [
  {
   "cell_type": "code",
   "execution_count": 76,
   "metadata": {
    "collapsed": false,
    "run_control": {
     "read_only": false
    }
   },
   "outputs": [
    {
     "data": {
      "image/png": "[encoded data removed]"
     },
     "metadata": {},
     "output_type": "display_data"
    },
    {
     "data": {
      "text/plain": [
       "{-3.0978234563967422: 0.001,\n",
       " -2.9616573776110626: 0.001,\n",
       " -2.8254912988253826: 0.0030000000000000001,\n",
       " -2.6893252200397031: 0.0050000000000000001,\n",
       " -2.5531591412540231: 0.0060000000000000001,\n",
       " -2.4169930624683436: 0.0060000000000000001,\n",
       " -2.2808269836826636: 0.012,\n",
       " -2.144660904896984: 0.018000000000000002,\n",
       " -2.0084948261113045: 0.024,\n",
       " -1.8723287473256245: 0.033000000000000002,\n",
       " -1.7361626685399447: 0.040000000000000001,\n",
       " -1.599996589754265: 0.055,\n",
       " -1.4638305109685854: 0.069000000000000006,\n",
       " -1.3276644321829056: 0.087000000000000008,\n",
       " -1.1914983533972259: 0.10100000000000001,\n",
       " -1.0553322746115459: 0.14000000000000001,\n",
       " -0.91916619582586634: 0.17100000000000001,\n",
       " -0.78300011704018679: 0.20999999999999999,\n",
       " -0.6468340382545068: 0.24299999999999999,\n",
       " -0.51066795946882726: 0.28100000000000003,\n",
       " -0.37450188068314727: 0.33500000000000002,\n",
       " -0.23833580189746773: 0.40100000000000002,\n",
       " -0.10216972311178774: 0.45200000000000001,\n",
       " 0.033996355673891809: 0.502,\n",
       " 0.17016243445957135: 0.55700000000000005,\n",
       " 0.30632851324525134: 0.61199999999999999,\n",
       " 0.44249459203093089: 0.66100000000000003,\n",
       " 0.57866067081661088: 0.69700000000000006,\n",
       " 0.71482674960229042: 0.75,\n",
       " 0.85099282838797041: 0.79200000000000004,\n",
       " 0.9871589071736504: 0.83000000000000007,\n",
       " 1.1233249859593299: 0.86599999999999999,\n",
       " 1.2594910647450095: 0.89300000000000002,\n",
       " 1.395657143530689: 0.91400000000000003,\n",
       " 1.5318232223163686: 0.93200000000000005,\n",
       " 1.667989301102049: 0.94700000000000006,\n",
       " 1.8041553798877286: 0.95900000000000007,\n",
       " 1.9403214586734081: 0.97099999999999997,\n",
       " 2.0764875374590877: 0.97999999999999998,\n",
       " 2.2126536162447681: 0.98199999999999998,\n",
       " 2.3488196950304476: 0.98799999999999999,\n",
       " 2.4849857738161272: 0.99199999999999999,\n",
       " 2.6211518526018067: 0.99299999999999999,\n",
       " 2.7573179313874863: 0.997,\n",
       " 2.8934840101731667: 0.997,\n",
       " 3.0296500889588462: 0.998,\n",
       " 3.1658161677445258: 0.998,\n",
       " 3.3019822465302053: 0.999,\n",
       " 3.4381483253158849: 0.999,\n",
       " 3.5743144041015644: 1.0}"
      ]
     },
     "execution_count": 76,
     "metadata": {},
     "output_type": "execute_result"
    }
   ],
   "source": [
    "from numpy import random\n",
    "import statsmodels.api as sm # recommended import according to the docs\n",
    "import itertools\n",
    "\n",
    "my_values = random.normal(0,1,1000)\n",
    "\n",
    "fig1 = figure(1)\n",
    "\n",
    "subplot(1,2,1)\n",
    "n, bins, patches = plt.hist(my_values, 30, normed=True, cumulative=False, alpha=1)\n",
    "\n",
    "subplot(1,2,2)\n",
    "ecdf = sm.distributions.ECDF(my_values)\n",
    "\n",
    "x = np.linspace(min(my_values), max(my_values))\n",
    "y = ecdf(x)\n",
    "step(x, y)\n",
    "show()\n",
    "\n",
    "# Create a dictionary that maps x values to y values\n",
    "my_dict = dict(itertools.izip(x, y))\n",
    "\n",
    "# Uncomment this line below if you have multiple ECDFs to generate to ensure the dictionary is sorted by key\n",
    "# my_dict_sorted = my_dict_sorted = sorted(my_dict.items(), key=lambda x: x[0])\n",
    "my_dict"
   ]
  }
 ],
 "metadata": {
  "hide_input": false,
  "kernelspec": {
   "display_name": "Python 3",
   "language": "python",
   "name": "python3"
  },
  "language_info": {
   "codemirror_mode": {
    "name": "ipython",
    "version": 3
   },
   "file_extension": ".py",
   "mimetype": "text/x-python",
   "name": "python",
   "nbconvert_exporter": "python",
   "pygments_lexer": "ipython3",
   "version": "3.5.1"
  }
 },
 "nbformat": 4,
 "nbformat_minor": 0
}
