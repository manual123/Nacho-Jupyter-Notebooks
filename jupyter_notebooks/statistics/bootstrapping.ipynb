{
 "cells": [
  {
   "cell_type": "code",
   "execution_count": 1,
   "metadata": {
    "collapsed": true
   },
   "outputs": [],
   "source": [
    "%matplotlib inline\n",
    "import pandas as pd\n",
    "import numpy as np\n",
    "import scipy.stats\n",
    "import matplotlib.pyplot as plt"
   ]
  },
  {
   "cell_type": "markdown",
   "metadata": {},
   "source": [
    "# Bootstrapping (Nonparametric Inference)"
   ]
  },
  {
   "cell_type": "markdown",
   "metadata": {},
   "source": [
    "- *random sampling with replacement*\n",
    "- resampling technique to simulate drawing new samples (where repeating experiments is not feasible or possible)\n",
    "- typically, the new sample has size *n*, where *n* is the size of the original dataset"
   ]
  },
  {
   "cell_type": "markdown",
   "metadata": {},
   "source": [
    "## Sample mean, standard error of the mean,  and estimating the population mean"
   ]
  },
  {
   "cell_type": "code",
   "execution_count": 2,
   "metadata": {},
   "outputs": [
    {
     "data": {
      "image/png": "[encoded data removed]",
      "text/plain": [
       "<matplotlib.figure.Figure at 0x10c914320>"
      ]
     },
     "metadata": {},
     "output_type": "display_data"
    }
   ],
   "source": [
    "df = pd.read_csv('../datasets/iris/iris.csv')\n",
    "\n",
    "x = df['sepal_length'].values\n",
    "x_mean = np.mean(x)\n",
    "plt.hist(x, bins=10)\n",
    "plt.axvline(x_mean, color='orange', label='sample mean: %.2f' % x_mean)\n",
    "plt.xlabel('sepal length in cm')\n",
    "plt.ylabel('count')\n",
    "plt.legend(loc=1)\n",
    "plt.show()"
   ]
  },
  {
   "cell_type": "markdown",
   "metadata": {},
   "source": [
    "#### Standard Error (SE)"
   ]
  },
  {
   "cell_type": "markdown",
   "metadata": {},
   "source": [
    "$$SE_{\\bar{x}} = \\frac{s}{\\sqrt{n}}$$\n",
    "\n",
    "- the standard error *SE* (or *standard error of the mean*) estimates the standard deviation (*s*) of the sample mean ($\\bar{x}$)\n",
    "- i.e., the *SE* measures the variability when taking different samples from the population\n",
    "- in other words, the *SE* measures the variability between samples, whereas the sample standard deviation measures the variability within a sample\n",
    "- we use the standard error to judge how \"good\" our estimate of the population mean ($\\mu$) is"
   ]
  },
  {
   "cell_type": "code",
   "execution_count": 3,
   "metadata": {},
   "outputs": [
    {
     "name": "stdout",
     "output_type": "stream",
     "text": [
      "standard error 0.0676113162276\n"
     ]
    }
   ],
   "source": [
    "se = np.std(x, ddof=1) / np.sqrt(x.shape[0])\n",
    "print('standard error', se)"
   ]
  },
  {
   "cell_type": "code",
   "execution_count": 4,
   "metadata": {},
   "outputs": [
    {
     "data": {
      "text/plain": [
       "0.067611316227598597"
      ]
     },
     "execution_count": 4,
     "metadata": {},
     "output_type": "execute_result"
    }
   ],
   "source": [
    "scipy.stats.sem(x)"
   ]
  },
  {
   "cell_type": "markdown",
   "metadata": {},
   "source": [
    "#### Bootstrapping and estimating the population mean"
   ]
  },
  {
   "cell_type": "code",
   "execution_count": 5,
   "metadata": {
    "collapsed": true
   },
   "outputs": [],
   "source": [
    "def bootstrap_means(x, n_bootstrap_samples, seed=None):\n",
    "\n",
    "    rng = np.random.RandomState(seed)\n",
    "    sample_means = np.zeros(shape=n_bootstrap_samples)\n",
    "    \n",
    "    for i in range(n_bootstrap_samples):\n",
    "        boot_sample = rng.choice(x, size=x.shape[0], replace=True)\n",
    "        # replicate is a general term for a statistic computed\n",
    "        # from a bootstrap sample\n",
    "        bootstrap_replicate = np.mean(boot_sample)\n",
    "        sample_means[i] = bootstrap_replicate\n",
    "    return sample_means"
   ]
  },
  {
   "cell_type": "code",
   "execution_count": 6,
   "metadata": {},
   "outputs": [
    {
     "data": {
      "image/png": "[encoded data removed]",
      "text/plain": [
       "<matplotlib.figure.Figure at 0x10cb04080>"
      ]
     },
     "metadata": {},
     "output_type": "display_data"
    }
   ],
   "source": [
    "boot_50 = bootstrap_means(x, n_bootstrap_samples=50, seed=123)\n",
    "\n",
    "boot_mean = np.mean(boot_50)\n",
    "plt.hist(boot_50, bins=10)\n",
    "plt.axvline(boot_mean, color='orange', label='samples mean: %.2f' % boot_mean)\n",
    "plt.xlabel('mean sepal length in cm')\n",
    "plt.ylabel('count')\n",
    "plt.legend(loc=2)\n",
    "plt.show()"
   ]
  },
  {
   "cell_type": "code",
   "execution_count": 7,
   "metadata": {},
   "outputs": [
    {
     "data": {
      "image/png": "[encoded data removed]",
      "text/plain": [
       "<matplotlib.figure.Figure at 0x10cc43748>"
      ]
     },
     "metadata": {},
     "output_type": "display_data"
    }
   ],
   "source": [
    "boot_2500 = bootstrap_means(x, n_bootstrap_samples=2500, seed=123)\n",
    "\n",
    "boot_mean = np.mean(boot_2500)\n",
    "plt.hist(boot_2500, bins=15)\n",
    "plt.axvline(boot_mean, color='orange', label='samples mean: %.2f' % boot_mean)\n",
    "plt.xlabel('mean sepal length in cm')\n",
    "plt.ylabel('count')\n",
    "plt.legend(loc=2)\n",
    "plt.show()"
   ]
  },
  {
   "cell_type": "markdown",
   "metadata": {},
   "source": [
    "- note: no matter how the sample is distributed, the sample mean follows a normal distribution"
   ]
  },
  {
   "cell_type": "code",
   "execution_count": 8,
   "metadata": {},
   "outputs": [
    {
     "data": {
      "text/plain": [
       "0.066664363123601356"
      ]
     },
     "execution_count": 8,
     "metadata": {},
     "output_type": "execute_result"
    }
   ],
   "source": [
    "np.std(boot_2500, ddof=1)"
   ]
  },
  {
   "cell_type": "markdown",
   "metadata": {},
   "source": [
    "- remember, the standard deviation of the bootstrap replicates (means) estimates the standard error of the mean (which estimates the standard deviation of the population mean)"
   ]
  },
  {
   "cell_type": "code",
   "execution_count": 9,
   "metadata": {},
   "outputs": [
    {
     "name": "stdout",
     "output_type": "stream",
     "text": [
      "standard error 0.0676113162276\n"
     ]
    }
   ],
   "source": [
    "se = np.std(x, ddof=1) / np.sqrt(x.shape[0])\n",
    "print('standard error', se)"
   ]
  },
  {
   "cell_type": "code",
   "execution_count": 10,
   "metadata": {
    "collapsed": true
   },
   "outputs": [],
   "source": [
    "def empirical_cdf(sample):\n",
    "    x = np.sort(sample)\n",
    "    y = np.arange(1, x.shape[0] + 1) / x.shape[0]\n",
    "    return x, y"
   ]
  },
  {
   "cell_type": "code",
   "execution_count": 11,
   "metadata": {},
   "outputs": [
    {
     "data": {
      "text/plain": [
       "<matplotlib.text.Text at 0x10cebfac8>"
      ]
     },
     "execution_count": 11,
     "metadata": {},
     "output_type": "execute_result"
    },
    {
     "data": {
      "image/png": "[encoded data removed]",
      "text/plain": [
       "<matplotlib.figure.Figure at 0x10cd71da0>"
      ]
     },
     "metadata": {},
     "output_type": "display_data"
    }
   ],
   "source": [
    "ecdf_x, ecdf_y = empirical_cdf(boot_2500)\n",
    "plt.scatter(ecdf_x, ecdf_y)\n",
    "plt.xlabel('mean')\n",
    "plt.ylabel('CDF')"
   ]
  },
  {
   "cell_type": "markdown",
   "metadata": {},
   "source": [
    "## Confidence Intervals"
   ]
  },
  {
   "cell_type": "markdown",
   "metadata": {},
   "source": [
    "- 95% confidence interval: 95% of the sample means (if we would draw new samples / repeat the experiments) would fall within the confidence interval"
   ]
  },
  {
   "cell_type": "markdown",
   "metadata": {},
   "source": [
    "####  From bootstrap replicates:"
   ]
  },
  {
   "cell_type": "code",
   "execution_count": 12,
   "metadata": {},
   "outputs": [
    {
     "name": "stdout",
     "output_type": "stream",
     "text": [
      "95% confidence interval: [5.72, 5.98]\n"
     ]
    }
   ],
   "source": [
    "boot_2500 = bootstrap_means(x, n_bootstrap_samples=2500, seed=123)\n",
    "\n",
    "lower, upper = np.percentile(boot_2500, [2.5, 97.5])\n",
    "\n",
    "print('95%% confidence interval: [%.2f, %.2f]' % (lower, upper))"
   ]
  },
  {
   "cell_type": "markdown",
   "metadata": {},
   "source": [
    "#### From the original data (i.e., from a single sample):"
   ]
  },
  {
   "cell_type": "code",
   "execution_count": 13,
   "metadata": {},
   "outputs": [
    {
     "name": "stdout",
     "output_type": "stream",
     "text": [
      "95% confidence interval: [5.71, 5.98]\n"
     ]
    }
   ],
   "source": [
    "def confidence_interval(x, ci=0.95):\n",
    "    x_mean = np.mean(x)\n",
    "    se = np.std(x, ddof=1) / np.sqrt(x.shape[0])\n",
    "    h = se * scipy.stats.t._ppf((1 + ci)/2. , x.shape[0])\n",
    "    return x_mean - h, x_mean + h\n",
    "\n",
    "lower, upper = confidence_interval(x, ci=0.95)\n",
    "\n",
    "\n",
    "print('95%% confidence interval: [%.2f, %.2f]' % (lower, upper))"
   ]
  },
  {
   "cell_type": "code",
   "execution_count": 14,
   "metadata": {},
   "outputs": [
    {
     "name": "stdout",
     "output_type": "stream",
     "text": [
      "95% confidence interval: [5.71, 5.98]\n"
     ]
    }
   ],
   "source": [
    "se = np.std(x, ddof=1) / np.sqrt(x.shape[0])\n",
    "\n",
    "lower, upper = scipy.stats.norm.interval(alpha=0.95, \n",
    "                                         loc=np.mean(x), \n",
    "                                         scale=se)\n",
    "\n",
    "print('95%% confidence interval: [%.2f, %.2f]' % (lower, upper))"
   ]
  }
 ],
 "metadata": {
  "hide_input": false,
  "kernelspec": {
   "display_name": "Python 3",
   "language": "python",
   "name": "python3"
  },
  "language_info": {
   "codemirror_mode": {
    "name": "ipython",
    "version": 3
   },
   "file_extension": ".py",
   "mimetype": "text/x-python",
   "name": "python",
   "nbconvert_exporter": "python",
   "pygments_lexer": "ipython3",
   "version": "3.7.0"
  }
 },
 "nbformat": 4,
 "nbformat_minor": 2
}
