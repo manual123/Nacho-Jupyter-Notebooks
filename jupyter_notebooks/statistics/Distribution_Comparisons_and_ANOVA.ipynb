{
 "cells": [
  {
   "cell_type": "markdown",
   "metadata": {},
   "source": [
    "## Statistical Analysis in Python\n",
    "\n",
    "In this section, we introduce a few useful methods for analyzing your data in Python.\n",
    "Namely, we cover how to compute the mean, variance, and standard error of a data set.\n",
    "For more advanced statistical analysis, we cover how to perform a\n",
    "Mann-Whitney-Wilcoxon (MWW) RankSum test, how to perform an Analysis of variance (ANOVA)\n",
    "between multiple data sets.\n",
    "\n",
    "### Python's SciPy Module\n",
    "\n",
    "The majority of data analysis in Python can be performed with the SciPy module. SciPy\n",
    "provides a plethora of statistical functions and tests that will handle the majority of\n",
    "your analytical needs. If we don't cover a statistical function or test that you require\n",
    "for your research, SciPy's full statistical library is described in detail at:\n",
    "http://docs.scipy.org/doc/scipy/reference/tutorial/stats.html\n",
    "\n",
    "### Python's pandas Module\n",
    "\n",
    "The pandas module provides powerful, efficient, R-like DataFrame objects capable of\n",
    "calculating statistics en masse on the entire DataFrame. DataFrames are useful for when\n",
    "you need to compute statistics over multiple replicate runs.\n",
    "\n",
    "For the purposes of this tutorial, we will use Luis' parasite data set:"
   ]
  },
  {
   "cell_type": "code",
   "execution_count": 1,
   "metadata": {
    "collapsed": true,
    "run_control": {
     "read_only": false
    }
   },
   "outputs": [],
   "source": [
    "import pandas as pd"
   ]
  },
  {
   "cell_type": "code",
   "execution_count": 20,
   "metadata": {
    "collapsed": false,
    "run_control": {
     "read_only": false
    }
   },
   "outputs": [
    {
     "data": {
      "text/html": [
       "<div>\n",
       "<table border=\"1\" class=\"dataframe\">\n",
       "  <thead>\n",
       "    <tr style=\"text-align: right;\">\n",
       "      <th></th>\n",
       "      <th>Virulence</th>\n",
       "      <th>Replicate</th>\n",
       "      <th>ShannonDiversity</th>\n",
       "    </tr>\n",
       "  </thead>\n",
       "  <tbody>\n",
       "    <tr>\n",
       "      <th>0</th>\n",
       "      <td>0.5</td>\n",
       "      <td>1</td>\n",
       "      <td>0.059262</td>\n",
       "    </tr>\n",
       "    <tr>\n",
       "      <th>1</th>\n",
       "      <td>0.5</td>\n",
       "      <td>2</td>\n",
       "      <td>1.093600</td>\n",
       "    </tr>\n",
       "    <tr>\n",
       "      <th>2</th>\n",
       "      <td>0.5</td>\n",
       "      <td>3</td>\n",
       "      <td>1.139390</td>\n",
       "    </tr>\n",
       "    <tr>\n",
       "      <th>3</th>\n",
       "      <td>0.5</td>\n",
       "      <td>4</td>\n",
       "      <td>0.547651</td>\n",
       "    </tr>\n",
       "    <tr>\n",
       "      <th>4</th>\n",
       "      <td>0.5</td>\n",
       "      <td>5</td>\n",
       "      <td>0.065928</td>\n",
       "    </tr>\n",
       "  </tbody>\n",
       "</table>\n",
       "</div>"
      ],
      "text/plain": [
       "   Virulence  Replicate  ShannonDiversity\n",
       "0        0.5          1          0.059262\n",
       "1        0.5          2          1.093600\n",
       "2        0.5          3          1.139390\n",
       "3        0.5          4          0.547651\n",
       "4        0.5          5          0.065928"
      ]
     },
     "execution_count": 20,
     "metadata": {},
     "output_type": "execute_result"
    }
   ],
   "source": [
    "# must specify that blank space \" \" is NaN\n",
    "experimentDF = pd.read_csv(\"data_sets/parasite_data.csv\", na_values=\" \")\n",
    "\n",
    "experimentDF.head()"
   ]
  },
  {
   "cell_type": "markdown",
   "metadata": {},
   "source": [
    "### Accessing data in pandas DataFrames\n",
    "\n",
    "You can directly access any column and row by indexing the DataFrame."
   ]
  },
  {
   "cell_type": "code",
   "execution_count": 21,
   "metadata": {
    "collapsed": false,
    "run_control": {
     "read_only": false
    }
   },
   "outputs": [
    {
     "data": {
      "text/plain": [
       "0      0.5\n",
       "1      0.5\n",
       "2      0.5\n",
       "3      0.5\n",
       "4      0.5\n",
       "5      0.5\n",
       "6      0.5\n",
       "7      0.5\n",
       "8      0.5\n",
       "9      0.5\n",
       "10     0.5\n",
       "11     0.5\n",
       "12     0.5\n",
       "13     0.5\n",
       "14     0.5\n",
       "15     0.5\n",
       "16     0.5\n",
       "17     0.5\n",
       "18     0.5\n",
       "19     0.5\n",
       "20     0.5\n",
       "21     0.5\n",
       "22     0.5\n",
       "23     0.5\n",
       "24     0.5\n",
       "25     0.5\n",
       "26     0.5\n",
       "27     0.5\n",
       "28     0.5\n",
       "29     0.5\n",
       "      ... \n",
       "320    NaN\n",
       "321    NaN\n",
       "322    NaN\n",
       "323    NaN\n",
       "324    NaN\n",
       "325    NaN\n",
       "326    NaN\n",
       "327    NaN\n",
       "328    NaN\n",
       "329    NaN\n",
       "330    NaN\n",
       "331    NaN\n",
       "332    NaN\n",
       "333    NaN\n",
       "334    NaN\n",
       "335    NaN\n",
       "336    NaN\n",
       "337    NaN\n",
       "338    NaN\n",
       "339    NaN\n",
       "340    NaN\n",
       "341    NaN\n",
       "342    NaN\n",
       "343    NaN\n",
       "344    NaN\n",
       "345    NaN\n",
       "346    NaN\n",
       "347    NaN\n",
       "348    NaN\n",
       "349    NaN\n",
       "Name: Virulence, dtype: float64"
      ]
     },
     "execution_count": 21,
     "metadata": {},
     "output_type": "execute_result"
    }
   ],
   "source": [
    "# show all entries in the Virulence column\n",
    "experimentDF.Virulence"
   ]
  },
  {
   "cell_type": "code",
   "execution_count": 14,
   "metadata": {
    "collapsed": false,
    "run_control": {
     "read_only": false
    }
   },
   "outputs": [
    {
     "data": {
      "text/plain": [
       "1.5898099999999999"
      ]
     },
     "execution_count": 14,
     "metadata": {},
     "output_type": "execute_result"
    }
   ],
   "source": [
    "# show the 12th row in the ShannonDiversity column\n",
    "experimentDF.ShannonDiversity[12]"
   ]
  },
  {
   "cell_type": "markdown",
   "metadata": {},
   "source": [
    "You can also access all of the values in a column meeting a certain criteria."
   ]
  },
  {
   "cell_type": "code",
   "execution_count": 15,
   "metadata": {
    "collapsed": false,
    "run_control": {
     "read_only": false
    }
   },
   "outputs": [
    {
     "data": {
      "text/html": [
       "<div>\n",
       "<table border=\"1\" class=\"dataframe\">\n",
       "  <thead>\n",
       "    <tr style=\"text-align: right;\">\n",
       "      <th></th>\n",
       "      <th>Virulence</th>\n",
       "      <th>Replicate</th>\n",
       "      <th>ShannonDiversity</th>\n",
       "    </tr>\n",
       "  </thead>\n",
       "  <tbody>\n",
       "    <tr>\n",
       "      <th>8</th>\n",
       "      <td>0.5</td>\n",
       "      <td>9</td>\n",
       "      <td>2.04768</td>\n",
       "    </tr>\n",
       "    <tr>\n",
       "      <th>89</th>\n",
       "      <td>0.6</td>\n",
       "      <td>40</td>\n",
       "      <td>2.01066</td>\n",
       "    </tr>\n",
       "    <tr>\n",
       "      <th>92</th>\n",
       "      <td>0.6</td>\n",
       "      <td>43</td>\n",
       "      <td>2.90081</td>\n",
       "    </tr>\n",
       "    <tr>\n",
       "      <th>96</th>\n",
       "      <td>0.6</td>\n",
       "      <td>47</td>\n",
       "      <td>2.02915</td>\n",
       "    </tr>\n",
       "    <tr>\n",
       "      <th>105</th>\n",
       "      <td>0.7</td>\n",
       "      <td>6</td>\n",
       "      <td>2.23427</td>\n",
       "    </tr>\n",
       "    <tr>\n",
       "      <th>117</th>\n",
       "      <td>0.7</td>\n",
       "      <td>18</td>\n",
       "      <td>2.14296</td>\n",
       "    </tr>\n",
       "    <tr>\n",
       "      <th>127</th>\n",
       "      <td>0.7</td>\n",
       "      <td>28</td>\n",
       "      <td>2.23599</td>\n",
       "    </tr>\n",
       "    <tr>\n",
       "      <th>129</th>\n",
       "      <td>0.7</td>\n",
       "      <td>30</td>\n",
       "      <td>2.48422</td>\n",
       "    </tr>\n",
       "    <tr>\n",
       "      <th>133</th>\n",
       "      <td>0.7</td>\n",
       "      <td>34</td>\n",
       "      <td>2.18506</td>\n",
       "    </tr>\n",
       "    <tr>\n",
       "      <th>134</th>\n",
       "      <td>0.7</td>\n",
       "      <td>35</td>\n",
       "      <td>2.42177</td>\n",
       "    </tr>\n",
       "    <tr>\n",
       "      <th>139</th>\n",
       "      <td>0.7</td>\n",
       "      <td>40</td>\n",
       "      <td>2.25737</td>\n",
       "    </tr>\n",
       "    <tr>\n",
       "      <th>142</th>\n",
       "      <td>0.7</td>\n",
       "      <td>43</td>\n",
       "      <td>2.07258</td>\n",
       "    </tr>\n",
       "    <tr>\n",
       "      <th>148</th>\n",
       "      <td>0.7</td>\n",
       "      <td>49</td>\n",
       "      <td>2.38326</td>\n",
       "    </tr>\n",
       "    <tr>\n",
       "      <th>151</th>\n",
       "      <td>0.8</td>\n",
       "      <td>2</td>\n",
       "      <td>2.07970</td>\n",
       "    </tr>\n",
       "    <tr>\n",
       "      <th>153</th>\n",
       "      <td>0.8</td>\n",
       "      <td>4</td>\n",
       "      <td>2.38474</td>\n",
       "    </tr>\n",
       "    <tr>\n",
       "      <th>163</th>\n",
       "      <td>0.8</td>\n",
       "      <td>14</td>\n",
       "      <td>2.03252</td>\n",
       "    </tr>\n",
       "    <tr>\n",
       "      <th>165</th>\n",
       "      <td>0.8</td>\n",
       "      <td>16</td>\n",
       "      <td>2.38415</td>\n",
       "    </tr>\n",
       "    <tr>\n",
       "      <th>170</th>\n",
       "      <td>0.8</td>\n",
       "      <td>21</td>\n",
       "      <td>2.02297</td>\n",
       "    </tr>\n",
       "    <tr>\n",
       "      <th>172</th>\n",
       "      <td>0.8</td>\n",
       "      <td>23</td>\n",
       "      <td>2.13882</td>\n",
       "    </tr>\n",
       "    <tr>\n",
       "      <th>173</th>\n",
       "      <td>0.8</td>\n",
       "      <td>24</td>\n",
       "      <td>2.53339</td>\n",
       "    </tr>\n",
       "    <tr>\n",
       "      <th>182</th>\n",
       "      <td>0.8</td>\n",
       "      <td>33</td>\n",
       "      <td>2.17865</td>\n",
       "    </tr>\n",
       "    <tr>\n",
       "      <th>196</th>\n",
       "      <td>0.8</td>\n",
       "      <td>47</td>\n",
       "      <td>2.07718</td>\n",
       "    </tr>\n",
       "    <tr>\n",
       "      <th>208</th>\n",
       "      <td>0.9</td>\n",
       "      <td>9</td>\n",
       "      <td>2.12240</td>\n",
       "    </tr>\n",
       "    <tr>\n",
       "      <th>209</th>\n",
       "      <td>0.9</td>\n",
       "      <td>10</td>\n",
       "      <td>2.46144</td>\n",
       "    </tr>\n",
       "    <tr>\n",
       "      <th>212</th>\n",
       "      <td>0.9</td>\n",
       "      <td>13</td>\n",
       "      <td>2.20476</td>\n",
       "    </tr>\n",
       "    <tr>\n",
       "      <th>229</th>\n",
       "      <td>0.9</td>\n",
       "      <td>30</td>\n",
       "      <td>2.28026</td>\n",
       "    </tr>\n",
       "    <tr>\n",
       "      <th>235</th>\n",
       "      <td>0.9</td>\n",
       "      <td>36</td>\n",
       "      <td>2.19565</td>\n",
       "    </tr>\n",
       "    <tr>\n",
       "      <th>237</th>\n",
       "      <td>0.9</td>\n",
       "      <td>38</td>\n",
       "      <td>2.16535</td>\n",
       "    </tr>\n",
       "    <tr>\n",
       "      <th>243</th>\n",
       "      <td>0.9</td>\n",
       "      <td>44</td>\n",
       "      <td>2.17578</td>\n",
       "    </tr>\n",
       "    <tr>\n",
       "      <th>251</th>\n",
       "      <td>1.0</td>\n",
       "      <td>2</td>\n",
       "      <td>2.16044</td>\n",
       "    </tr>\n",
       "  </tbody>\n",
       "</table>\n",
       "</div>"
      ],
      "text/plain": [
       "    Virulence  Replicate  ShannonDiversity\n",
       "8         0.5          9           2.04768\n",
       "89        0.6         40           2.01066\n",
       "92        0.6         43           2.90081\n",
       "96        0.6         47           2.02915\n",
       "105       0.7          6           2.23427\n",
       "117       0.7         18           2.14296\n",
       "127       0.7         28           2.23599\n",
       "129       0.7         30           2.48422\n",
       "133       0.7         34           2.18506\n",
       "134       0.7         35           2.42177\n",
       "139       0.7         40           2.25737\n",
       "142       0.7         43           2.07258\n",
       "148       0.7         49           2.38326\n",
       "151       0.8          2           2.07970\n",
       "153       0.8          4           2.38474\n",
       "163       0.8         14           2.03252\n",
       "165       0.8         16           2.38415\n",
       "170       0.8         21           2.02297\n",
       "172       0.8         23           2.13882\n",
       "173       0.8         24           2.53339\n",
       "182       0.8         33           2.17865\n",
       "196       0.8         47           2.07718\n",
       "208       0.9          9           2.12240\n",
       "209       0.9         10           2.46144\n",
       "212       0.9         13           2.20476\n",
       "229       0.9         30           2.28026\n",
       "235       0.9         36           2.19565\n",
       "237       0.9         38           2.16535\n",
       "243       0.9         44           2.17578\n",
       "251       1.0          2           2.16044"
      ]
     },
     "execution_count": 15,
     "metadata": {},
     "output_type": "execute_result"
    }
   ],
   "source": [
    "# show all entries in the ShannonDiversity column > 2.0\n",
    "experimentDF.query(\"ShannonDiversity > 2.0\")"
   ]
  },
  {
   "cell_type": "markdown",
   "metadata": {},
   "source": [
    "### Blank/omitted data (NA or NaN) in pandas DataFrames\n",
    "\n",
    "Blank/omitted data is a piece of cake to handle in pandas. Here's an example data\n",
    "set with NA/NaN values."
   ]
  },
  {
   "cell_type": "code",
   "execution_count": 22,
   "metadata": {
    "collapsed": false,
    "run_control": {
     "read_only": false
    }
   },
   "outputs": [
    {
     "data": {
      "text/html": [
       "<div>\n",
       "<table border=\"1\" class=\"dataframe\">\n",
       "  <thead>\n",
       "    <tr style=\"text-align: right;\">\n",
       "      <th></th>\n",
       "      <th>Virulence</th>\n",
       "      <th>Replicate</th>\n",
       "      <th>ShannonDiversity</th>\n",
       "    </tr>\n",
       "  </thead>\n",
       "  <tbody>\n",
       "    <tr>\n",
       "      <th>300</th>\n",
       "      <td>NaN</td>\n",
       "      <td>1</td>\n",
       "      <td>0.000000</td>\n",
       "    </tr>\n",
       "    <tr>\n",
       "      <th>301</th>\n",
       "      <td>NaN</td>\n",
       "      <td>2</td>\n",
       "      <td>0.000000</td>\n",
       "    </tr>\n",
       "    <tr>\n",
       "      <th>302</th>\n",
       "      <td>NaN</td>\n",
       "      <td>3</td>\n",
       "      <td>0.833645</td>\n",
       "    </tr>\n",
       "    <tr>\n",
       "      <th>303</th>\n",
       "      <td>NaN</td>\n",
       "      <td>4</td>\n",
       "      <td>0.000000</td>\n",
       "    </tr>\n",
       "    <tr>\n",
       "      <th>304</th>\n",
       "      <td>NaN</td>\n",
       "      <td>5</td>\n",
       "      <td>0.990309</td>\n",
       "    </tr>\n",
       "    <tr>\n",
       "      <th>305</th>\n",
       "      <td>NaN</td>\n",
       "      <td>6</td>\n",
       "      <td>0.000000</td>\n",
       "    </tr>\n",
       "    <tr>\n",
       "      <th>306</th>\n",
       "      <td>NaN</td>\n",
       "      <td>7</td>\n",
       "      <td>0.000000</td>\n",
       "    </tr>\n",
       "    <tr>\n",
       "      <th>307</th>\n",
       "      <td>NaN</td>\n",
       "      <td>8</td>\n",
       "      <td>0.000000</td>\n",
       "    </tr>\n",
       "    <tr>\n",
       "      <th>308</th>\n",
       "      <td>NaN</td>\n",
       "      <td>9</td>\n",
       "      <td>0.061414</td>\n",
       "    </tr>\n",
       "    <tr>\n",
       "      <th>309</th>\n",
       "      <td>NaN</td>\n",
       "      <td>10</td>\n",
       "      <td>0.316439</td>\n",
       "    </tr>\n",
       "    <tr>\n",
       "      <th>310</th>\n",
       "      <td>NaN</td>\n",
       "      <td>11</td>\n",
       "      <td>0.904773</td>\n",
       "    </tr>\n",
       "    <tr>\n",
       "      <th>311</th>\n",
       "      <td>NaN</td>\n",
       "      <td>12</td>\n",
       "      <td>0.884122</td>\n",
       "    </tr>\n",
       "    <tr>\n",
       "      <th>312</th>\n",
       "      <td>NaN</td>\n",
       "      <td>13</td>\n",
       "      <td>0.000000</td>\n",
       "    </tr>\n",
       "    <tr>\n",
       "      <th>313</th>\n",
       "      <td>NaN</td>\n",
       "      <td>14</td>\n",
       "      <td>0.000000</td>\n",
       "    </tr>\n",
       "    <tr>\n",
       "      <th>314</th>\n",
       "      <td>NaN</td>\n",
       "      <td>15</td>\n",
       "      <td>0.000000</td>\n",
       "    </tr>\n",
       "    <tr>\n",
       "      <th>315</th>\n",
       "      <td>NaN</td>\n",
       "      <td>16</td>\n",
       "      <td>0.000000</td>\n",
       "    </tr>\n",
       "    <tr>\n",
       "      <th>316</th>\n",
       "      <td>NaN</td>\n",
       "      <td>17</td>\n",
       "      <td>0.013495</td>\n",
       "    </tr>\n",
       "    <tr>\n",
       "      <th>317</th>\n",
       "      <td>NaN</td>\n",
       "      <td>18</td>\n",
       "      <td>0.882519</td>\n",
       "    </tr>\n",
       "    <tr>\n",
       "      <th>318</th>\n",
       "      <td>NaN</td>\n",
       "      <td>19</td>\n",
       "      <td>0.000000</td>\n",
       "    </tr>\n",
       "    <tr>\n",
       "      <th>319</th>\n",
       "      <td>NaN</td>\n",
       "      <td>20</td>\n",
       "      <td>0.986830</td>\n",
       "    </tr>\n",
       "    <tr>\n",
       "      <th>320</th>\n",
       "      <td>NaN</td>\n",
       "      <td>21</td>\n",
       "      <td>0.000000</td>\n",
       "    </tr>\n",
       "    <tr>\n",
       "      <th>321</th>\n",
       "      <td>NaN</td>\n",
       "      <td>22</td>\n",
       "      <td>0.000000</td>\n",
       "    </tr>\n",
       "    <tr>\n",
       "      <th>322</th>\n",
       "      <td>NaN</td>\n",
       "      <td>23</td>\n",
       "      <td>0.000000</td>\n",
       "    </tr>\n",
       "    <tr>\n",
       "      <th>323</th>\n",
       "      <td>NaN</td>\n",
       "      <td>24</td>\n",
       "      <td>0.000000</td>\n",
       "    </tr>\n",
       "    <tr>\n",
       "      <th>324</th>\n",
       "      <td>NaN</td>\n",
       "      <td>25</td>\n",
       "      <td>0.000000</td>\n",
       "    </tr>\n",
       "    <tr>\n",
       "      <th>325</th>\n",
       "      <td>NaN</td>\n",
       "      <td>26</td>\n",
       "      <td>0.000000</td>\n",
       "    </tr>\n",
       "    <tr>\n",
       "      <th>326</th>\n",
       "      <td>NaN</td>\n",
       "      <td>27</td>\n",
       "      <td>1.702720</td>\n",
       "    </tr>\n",
       "    <tr>\n",
       "      <th>327</th>\n",
       "      <td>NaN</td>\n",
       "      <td>28</td>\n",
       "      <td>0.169556</td>\n",
       "    </tr>\n",
       "    <tr>\n",
       "      <th>328</th>\n",
       "      <td>NaN</td>\n",
       "      <td>29</td>\n",
       "      <td>0.949750</td>\n",
       "    </tr>\n",
       "    <tr>\n",
       "      <th>329</th>\n",
       "      <td>NaN</td>\n",
       "      <td>30</td>\n",
       "      <td>0.240084</td>\n",
       "    </tr>\n",
       "    <tr>\n",
       "      <th>330</th>\n",
       "      <td>NaN</td>\n",
       "      <td>31</td>\n",
       "      <td>0.925913</td>\n",
       "    </tr>\n",
       "    <tr>\n",
       "      <th>331</th>\n",
       "      <td>NaN</td>\n",
       "      <td>32</td>\n",
       "      <td>0.000000</td>\n",
       "    </tr>\n",
       "    <tr>\n",
       "      <th>332</th>\n",
       "      <td>NaN</td>\n",
       "      <td>33</td>\n",
       "      <td>0.693356</td>\n",
       "    </tr>\n",
       "    <tr>\n",
       "      <th>333</th>\n",
       "      <td>NaN</td>\n",
       "      <td>34</td>\n",
       "      <td>0.000000</td>\n",
       "    </tr>\n",
       "    <tr>\n",
       "      <th>334</th>\n",
       "      <td>NaN</td>\n",
       "      <td>35</td>\n",
       "      <td>0.310170</td>\n",
       "    </tr>\n",
       "    <tr>\n",
       "      <th>335</th>\n",
       "      <td>NaN</td>\n",
       "      <td>36</td>\n",
       "      <td>0.000000</td>\n",
       "    </tr>\n",
       "    <tr>\n",
       "      <th>336</th>\n",
       "      <td>NaN</td>\n",
       "      <td>37</td>\n",
       "      <td>0.000000</td>\n",
       "    </tr>\n",
       "    <tr>\n",
       "      <th>337</th>\n",
       "      <td>NaN</td>\n",
       "      <td>38</td>\n",
       "      <td>0.000000</td>\n",
       "    </tr>\n",
       "    <tr>\n",
       "      <th>338</th>\n",
       "      <td>NaN</td>\n",
       "      <td>39</td>\n",
       "      <td>0.000000</td>\n",
       "    </tr>\n",
       "    <tr>\n",
       "      <th>339</th>\n",
       "      <td>NaN</td>\n",
       "      <td>40</td>\n",
       "      <td>0.000000</td>\n",
       "    </tr>\n",
       "    <tr>\n",
       "      <th>340</th>\n",
       "      <td>NaN</td>\n",
       "      <td>41</td>\n",
       "      <td>0.000000</td>\n",
       "    </tr>\n",
       "    <tr>\n",
       "      <th>341</th>\n",
       "      <td>NaN</td>\n",
       "      <td>42</td>\n",
       "      <td>0.000000</td>\n",
       "    </tr>\n",
       "    <tr>\n",
       "      <th>342</th>\n",
       "      <td>NaN</td>\n",
       "      <td>43</td>\n",
       "      <td>0.000000</td>\n",
       "    </tr>\n",
       "    <tr>\n",
       "      <th>343</th>\n",
       "      <td>NaN</td>\n",
       "      <td>44</td>\n",
       "      <td>0.000000</td>\n",
       "    </tr>\n",
       "    <tr>\n",
       "      <th>344</th>\n",
       "      <td>NaN</td>\n",
       "      <td>45</td>\n",
       "      <td>0.391061</td>\n",
       "    </tr>\n",
       "    <tr>\n",
       "      <th>345</th>\n",
       "      <td>NaN</td>\n",
       "      <td>46</td>\n",
       "      <td>0.001669</td>\n",
       "    </tr>\n",
       "    <tr>\n",
       "      <th>346</th>\n",
       "      <td>NaN</td>\n",
       "      <td>47</td>\n",
       "      <td>0.000000</td>\n",
       "    </tr>\n",
       "    <tr>\n",
       "      <th>347</th>\n",
       "      <td>NaN</td>\n",
       "      <td>48</td>\n",
       "      <td>0.444463</td>\n",
       "    </tr>\n",
       "    <tr>\n",
       "      <th>348</th>\n",
       "      <td>NaN</td>\n",
       "      <td>49</td>\n",
       "      <td>0.383512</td>\n",
       "    </tr>\n",
       "    <tr>\n",
       "      <th>349</th>\n",
       "      <td>NaN</td>\n",
       "      <td>50</td>\n",
       "      <td>0.511329</td>\n",
       "    </tr>\n",
       "  </tbody>\n",
       "</table>\n",
       "</div>"
      ],
      "text/plain": [
       "     Virulence  Replicate  ShannonDiversity\n",
       "300        NaN          1          0.000000\n",
       "301        NaN          2          0.000000\n",
       "302        NaN          3          0.833645\n",
       "303        NaN          4          0.000000\n",
       "304        NaN          5          0.990309\n",
       "305        NaN          6          0.000000\n",
       "306        NaN          7          0.000000\n",
       "307        NaN          8          0.000000\n",
       "308        NaN          9          0.061414\n",
       "309        NaN         10          0.316439\n",
       "310        NaN         11          0.904773\n",
       "311        NaN         12          0.884122\n",
       "312        NaN         13          0.000000\n",
       "313        NaN         14          0.000000\n",
       "314        NaN         15          0.000000\n",
       "315        NaN         16          0.000000\n",
       "316        NaN         17          0.013495\n",
       "317        NaN         18          0.882519\n",
       "318        NaN         19          0.000000\n",
       "319        NaN         20          0.986830\n",
       "320        NaN         21          0.000000\n",
       "321        NaN         22          0.000000\n",
       "322        NaN         23          0.000000\n",
       "323        NaN         24          0.000000\n",
       "324        NaN         25          0.000000\n",
       "325        NaN         26          0.000000\n",
       "326        NaN         27          1.702720\n",
       "327        NaN         28          0.169556\n",
       "328        NaN         29          0.949750\n",
       "329        NaN         30          0.240084\n",
       "330        NaN         31          0.925913\n",
       "331        NaN         32          0.000000\n",
       "332        NaN         33          0.693356\n",
       "333        NaN         34          0.000000\n",
       "334        NaN         35          0.310170\n",
       "335        NaN         36          0.000000\n",
       "336        NaN         37          0.000000\n",
       "337        NaN         38          0.000000\n",
       "338        NaN         39          0.000000\n",
       "339        NaN         40          0.000000\n",
       "340        NaN         41          0.000000\n",
       "341        NaN         42          0.000000\n",
       "342        NaN         43          0.000000\n",
       "343        NaN         44          0.000000\n",
       "344        NaN         45          0.391061\n",
       "345        NaN         46          0.001669\n",
       "346        NaN         47          0.000000\n",
       "347        NaN         48          0.444463\n",
       "348        NaN         49          0.383512\n",
       "349        NaN         50          0.511329"
      ]
     },
     "execution_count": 22,
     "metadata": {},
     "output_type": "execute_result"
    }
   ],
   "source": [
    "experimentDF[experimentDF.Virulence.isnull()]"
   ]
  },
  {
   "cell_type": "markdown",
   "metadata": {},
   "source": [
    "DataFrame methods automatically ignore NA/NaN values."
   ]
  },
  {
   "cell_type": "code",
   "execution_count": 23,
   "metadata": {
    "collapsed": false,
    "run_control": {
     "read_only": false
    }
   },
   "outputs": [
    {
     "name": "stdout",
     "output_type": "stream",
     "text": [
      "Mean virulence across all treatments: 0.75\n"
     ]
    }
   ],
   "source": [
    "print(\"Mean virulence across all treatments:\", experimentDF[\"Virulence\"].mean())"
   ]
  },
  {
   "cell_type": "markdown",
   "metadata": {},
   "source": [
    "However, not all methods in Python are guaranteed to handle NA/NaN values properly."
   ]
  },
  {
   "cell_type": "code",
   "execution_count": 24,
   "metadata": {
    "collapsed": false,
    "run_control": {
     "read_only": false
    }
   },
   "outputs": [
    {
     "name": "stdout",
     "output_type": "stream",
     "text": [
      "Mean virulence across all treatments: nan\n"
     ]
    }
   ],
   "source": [
    "from scipy import stats\n",
    "\n",
    "print(\"Mean virulence across all treatments:\", stats.sem(experimentDF[\"Virulence\"]))"
   ]
  },
  {
   "cell_type": "markdown",
   "metadata": {},
   "source": [
    "Thus, it behooves you to take care of the NA/NaN values before performing your analysis. You can either:\n",
    "\n",
    "**(1) filter out all of the entries with NA/NaN**"
   ]
  },
  {
   "cell_type": "code",
   "execution_count": 25,
   "metadata": {
    "collapsed": false,
    "run_control": {
     "read_only": false
    }
   },
   "outputs": [
    {
     "name": "stdout",
     "output_type": "stream",
     "text": [
      "<class 'pandas.core.frame.DataFrame'>\n",
      "Int64Index: 300 entries, 0 to 299\n",
      "Data columns (total 3 columns):\n",
      "Virulence           300 non-null float64\n",
      "Replicate           300 non-null int64\n",
      "ShannonDiversity    300 non-null float64\n",
      "dtypes: float64(2), int64(1)\n",
      "memory usage: 9.4 KB\n"
     ]
    }
   ],
   "source": [
    "# NOTE: this drops the entire row if any of its entries are NA/NaN!\n",
    "experimentDF.dropna().info()"
   ]
  },
  {
   "cell_type": "markdown",
   "metadata": {},
   "source": [
    "If you only care about NA/NaN values in a specific column, you can specify the\n",
    "column name first."
   ]
  },
  {
   "cell_type": "code",
   "execution_count": 26,
   "metadata": {
    "collapsed": false,
    "run_control": {
     "read_only": false
    }
   },
   "outputs": [
    {
     "name": "stdout",
     "output_type": "stream",
     "text": [
      "0      0.5\n",
      "1      0.5\n",
      "2      0.5\n",
      "3      0.5\n",
      "4      0.5\n",
      "5      0.5\n",
      "6      0.5\n",
      "7      0.5\n",
      "8      0.5\n",
      "9      0.5\n",
      "10     0.5\n",
      "11     0.5\n",
      "12     0.5\n",
      "13     0.5\n",
      "14     0.5\n",
      "15     0.5\n",
      "16     0.5\n",
      "17     0.5\n",
      "18     0.5\n",
      "19     0.5\n",
      "20     0.5\n",
      "21     0.5\n",
      "22     0.5\n",
      "23     0.5\n",
      "24     0.5\n",
      "25     0.5\n",
      "26     0.5\n",
      "27     0.5\n",
      "28     0.5\n",
      "29     0.5\n",
      "      ... \n",
      "270    1.0\n",
      "271    1.0\n",
      "272    1.0\n",
      "273    1.0\n",
      "274    1.0\n",
      "275    1.0\n",
      "276    1.0\n",
      "277    1.0\n",
      "278    1.0\n",
      "279    1.0\n",
      "280    1.0\n",
      "281    1.0\n",
      "282    1.0\n",
      "283    1.0\n",
      "284    1.0\n",
      "285    1.0\n",
      "286    1.0\n",
      "287    1.0\n",
      "288    1.0\n",
      "289    1.0\n",
      "290    1.0\n",
      "291    1.0\n",
      "292    1.0\n",
      "293    1.0\n",
      "294    1.0\n",
      "295    1.0\n",
      "296    1.0\n",
      "297    1.0\n",
      "298    1.0\n",
      "299    1.0\n",
      "Name: Virulence, dtype: float64\n"
     ]
    }
   ],
   "source": [
    "print(experimentDF[\"Virulence\"].dropna())"
   ]
  },
  {
   "cell_type": "markdown",
   "metadata": {},
   "source": [
    "**(2) replace all of the NA/NaN entries with a valid value**"
   ]
  },
  {
   "cell_type": "code",
   "execution_count": 27,
   "metadata": {
    "collapsed": false,
    "run_control": {
     "read_only": false
    }
   },
   "outputs": [
    {
     "data": {
      "text/plain": [
       "0      0.5\n",
       "1      0.5\n",
       "2      0.5\n",
       "3      0.5\n",
       "4      0.5\n",
       "5      0.5\n",
       "6      0.5\n",
       "7      0.5\n",
       "8      0.5\n",
       "9      0.5\n",
       "10     0.5\n",
       "11     0.5\n",
       "12     0.5\n",
       "13     0.5\n",
       "14     0.5\n",
       "15     0.5\n",
       "16     0.5\n",
       "17     0.5\n",
       "18     0.5\n",
       "19     0.5\n",
       "20     0.5\n",
       "21     0.5\n",
       "22     0.5\n",
       "23     0.5\n",
       "24     0.5\n",
       "25     0.5\n",
       "26     0.5\n",
       "27     0.5\n",
       "28     0.5\n",
       "29     0.5\n",
       "      ... \n",
       "320    0.0\n",
       "321    0.0\n",
       "322    0.0\n",
       "323    0.0\n",
       "324    0.0\n",
       "325    0.0\n",
       "326    0.0\n",
       "327    0.0\n",
       "328    0.0\n",
       "329    0.0\n",
       "330    0.0\n",
       "331    0.0\n",
       "332    0.0\n",
       "333    0.0\n",
       "334    0.0\n",
       "335    0.0\n",
       "336    0.0\n",
       "337    0.0\n",
       "338    0.0\n",
       "339    0.0\n",
       "340    0.0\n",
       "341    0.0\n",
       "342    0.0\n",
       "343    0.0\n",
       "344    0.0\n",
       "345    0.0\n",
       "346    0.0\n",
       "347    0.0\n",
       "348    0.0\n",
       "349    0.0\n",
       "Name: Virulence, dtype: float64"
      ]
     },
     "execution_count": 27,
     "metadata": {},
     "output_type": "execute_result"
    }
   ],
   "source": [
    "experimentDF.fillna(0.0)[\"Virulence\"]"
   ]
  },
  {
   "cell_type": "markdown",
   "metadata": {},
   "source": [
    "Take care when deciding what to do with NA/NaN entries. It can have a significant\n",
    "impact on your results!"
   ]
  },
  {
   "cell_type": "code",
   "execution_count": 28,
   "metadata": {
    "collapsed": false,
    "run_control": {
     "read_only": false
    }
   },
   "outputs": [
    {
     "name": "stdout",
     "output_type": "stream",
     "text": [
      "Mean virulence across all treatments w/ dropped NaN: 0.75\n",
      "Mean virulence across all treatments w/ filled NaN: 0.642857142857\n"
     ]
    }
   ],
   "source": [
    "print(\"Mean virulence across all treatments w/ dropped NaN:\", experimentDF[\"Virulence\"].dropna().mean())\n",
    "\n",
    "print(\"Mean virulence across all treatments w/ filled NaN:\", experimentDF.fillna(0.0)[\"Virulence\"].mean())"
   ]
  },
  {
   "cell_type": "markdown",
   "metadata": {},
   "source": [
    "### Mean\n",
    "\n",
    "The mean performance of an experiment gives a good idea of how the experiment will\n",
    "turn out *on average* under a given treatment.\n",
    "\n",
    "Conveniently, DataFrames have all kinds of built-in functions to perform standard\n",
    "operations on them en masse: `add()`, `sub()`, `mul()`, `div()`, `mean()`, `std()`, etc.\n",
    "The full list is located at: http://pandas.sourceforge.net/generated/pandas.DataFrame.html\n",
    "\n",
    "Thus, computing the mean of a DataFrame only takes one line of code:"
   ]
  },
  {
   "cell_type": "code",
   "execution_count": 29,
   "metadata": {
    "collapsed": false,
    "run_control": {
     "read_only": false
    }
   },
   "outputs": [
    {
     "name": "stdout",
     "output_type": "stream",
     "text": [
      "Mean Shannon Diversity w/ 0.8 Parasite Virulence = 1.2691338188\n"
     ]
    }
   ],
   "source": [
    "from pandas import *\n",
    "\n",
    "print(\"Mean Shannon Diversity w/ 0.8 Parasite Virulence =\", experimentDF[experimentDF[\"Virulence\"] == 0.8][\"ShannonDiversity\"].mean())"
   ]
  },
  {
   "cell_type": "markdown",
   "metadata": {},
   "source": [
    "### Variance\n",
    "\n",
    "The variance in the performance provides a measurement of how consistent the results\n",
    "of an experiment are. The lower the variance, the more consistent the results are, and\n",
    "vice versa.\n",
    "\n",
    "Computing the variance is also built in to pandas DataFrames:"
   ]
  },
  {
   "cell_type": "code",
   "execution_count": 30,
   "metadata": {
    "collapsed": false,
    "run_control": {
     "read_only": false
    }
   },
   "outputs": [
    {
     "name": "stdout",
     "output_type": "stream",
     "text": [
      "Variance in Shannon Diversity w/ 0.8 Parasite Virulence = 0.611038433313\n"
     ]
    }
   ],
   "source": [
    "from pandas import *\n",
    "\n",
    "print(\"Variance in Shannon Diversity w/ 0.8 Parasite Virulence =\", experimentDF[experimentDF[\"Virulence\"] == 0.8][\"ShannonDiversity\"].var())"
   ]
  },
  {
   "cell_type": "markdown",
   "metadata": {},
   "source": [
    "### Standard Error of the Mean (SEM)\n",
    "\n",
    "Combined with the mean, the SEM enables you to establish a range around a mean that\n",
    "the majority of any future replicate experiments will most likely fall within.\n",
    "\n",
    "pandas DataFrames don't have methods like SEM built in, but since DataFrame\n",
    "rows/columns are treated as lists, you can use any NumPy/SciPy method you like on them."
   ]
  },
  {
   "cell_type": "code",
   "execution_count": 31,
   "metadata": {
    "collapsed": false,
    "run_control": {
     "read_only": false
    }
   },
   "outputs": [
    {
     "name": "stdout",
     "output_type": "stream",
     "text": [
      "SEM of Shannon Diversity w/ 0.8 Parasite Virulence = 0.110547585529\n"
     ]
    }
   ],
   "source": [
    "from pandas import *\n",
    "from scipy import stats\n",
    "\n",
    "print(\"SEM of Shannon Diversity w/ 0.8 Parasite Virulence =\", stats.sem(experimentDF[experimentDF[\"Virulence\"] == 0.8][\"ShannonDiversity\"]))"
   ]
  },
  {
   "cell_type": "markdown",
   "metadata": {},
   "source": [
    "A single SEM will usually envelop 68% of the possible replicate means\n",
    "and two SEMs envelop 95% of the possible replicate means. Two\n",
    "SEMs are called the \"estimated 95% confidence interval.\" The confidence\n",
    "interval is estimated because the exact width depend on how many replicates\n",
    "you have; this approximation is good when you have more than 20 replicates.\n",
    "\n",
    "### Mann-Whitney-Wilcoxon (MWW) RankSum test\n",
    "\n",
    "The MWW RankSum test is a useful test to determine if two distributions are significantly\n",
    "different or not. Unlike the t-test, the RankSum test does not assume that the data\n",
    "are normally distributed, potentially providing a more accurate assessment of the data sets.\n",
    "\n",
    "As an example, let's say we want to determine if the results of the two following\n",
    "treatments significantly differ or not:"
   ]
  },
  {
   "cell_type": "code",
   "execution_count": 32,
   "metadata": {
    "collapsed": false,
    "run_control": {
     "read_only": false
    }
   },
   "outputs": [
    {
     "name": "stdout",
     "output_type": "stream",
     "text": [
      "Data set 1:\n",
      " 0     0.059262\n",
      "1     1.093600\n",
      "2     1.139390\n",
      "3     0.547651\n",
      "4     0.065928\n",
      "5     1.344330\n",
      "6     1.680480\n",
      "7     0.000000\n",
      "8     2.047680\n",
      "9     0.000000\n",
      "10    1.507140\n",
      "11    0.000000\n",
      "12    1.589810\n",
      "13    1.144800\n",
      "14    1.011190\n",
      "15    0.000000\n",
      "16    0.776665\n",
      "17    0.001749\n",
      "18    1.761200\n",
      "19    0.021091\n",
      "20    0.790915\n",
      "21    0.000000\n",
      "22    0.018866\n",
      "23    0.994268\n",
      "24    1.729620\n",
      "25    0.967537\n",
      "26    0.457318\n",
      "27    0.992525\n",
      "28    1.506640\n",
      "29    0.697241\n",
      "30    1.790580\n",
      "31    1.787710\n",
      "32    0.857742\n",
      "33    0.000000\n",
      "34    0.445267\n",
      "35    0.045471\n",
      "36    0.003490\n",
      "37    0.000000\n",
      "38    0.115830\n",
      "39    0.980076\n",
      "40    0.000000\n",
      "41    0.820405\n",
      "42    0.124755\n",
      "43    0.719755\n",
      "44    0.584252\n",
      "45    1.937930\n",
      "46    1.284150\n",
      "47    1.651680\n",
      "48    0.000000\n",
      "49    0.000000\n",
      "Name: ShannonDiversity, dtype: float64\n",
      "Data set 2:\n",
      " 150    1.433800\n",
      "151    2.079700\n",
      "152    0.892139\n",
      "153    2.384740\n",
      "154    0.006980\n",
      "155    1.971760\n",
      "156    0.000000\n",
      "157    1.428470\n",
      "158    1.715950\n",
      "159    0.000000\n",
      "160    0.421927\n",
      "161    1.179920\n",
      "162    0.932470\n",
      "163    2.032520\n",
      "164    0.960912\n",
      "165    2.384150\n",
      "166    1.879130\n",
      "167    1.238890\n",
      "168    1.584300\n",
      "169    1.118490\n",
      "170    2.022970\n",
      "171    0.000000\n",
      "172    2.138820\n",
      "173    2.533390\n",
      "174    1.212340\n",
      "175    0.059135\n",
      "176    1.578260\n",
      "177    1.725210\n",
      "178    0.293153\n",
      "179    0.000000\n",
      "180    0.000000\n",
      "181    1.699600\n",
      "182    2.178650\n",
      "183    1.792580\n",
      "184    1.920800\n",
      "185    0.000000\n",
      "186    1.583250\n",
      "187    0.343235\n",
      "188    1.980010\n",
      "189    0.980876\n",
      "190    1.089380\n",
      "191    0.979254\n",
      "192    1.190450\n",
      "193    1.738880\n",
      "194    1.154100\n",
      "195    1.981610\n",
      "196    2.077180\n",
      "197    1.566410\n",
      "198    0.000000\n",
      "199    1.990900\n",
      "Name: ShannonDiversity, dtype: float64\n"
     ]
    }
   ],
   "source": [
    "# select two treatment data sets from the parasite data\n",
    "treatment1 = experimentDF[experimentDF[\"Virulence\"] == 0.5][\"ShannonDiversity\"]\n",
    "treatment2 = experimentDF[experimentDF[\"Virulence\"] == 0.8][\"ShannonDiversity\"]\n",
    "\n",
    "print(\"Data set 1:\\n\", treatment1)\n",
    "print(\"Data set 2:\\n\", treatment2)"
   ]
  },
  {
   "cell_type": "markdown",
   "metadata": {},
   "source": [
    "A RankSum test will provide a P value indicating whether or not the two\n",
    "distributions are the same."
   ]
  },
  {
   "cell_type": "code",
   "execution_count": 33,
   "metadata": {
    "collapsed": false,
    "run_control": {
     "read_only": false
    }
   },
   "outputs": [
    {
     "name": "stdout",
     "output_type": "stream",
     "text": [
      "MWW RankSum P for treatments 1 and 2 = 0.000983355902735\n"
     ]
    }
   ],
   "source": [
    "from scipy import stats\n",
    "\n",
    "z_stat, p_val = stats.ranksums(treatment1, treatment2)\n",
    "\n",
    "print(\"MWW RankSum P for treatments 1 and 2 =\", p_val)"
   ]
  },
  {
   "cell_type": "markdown",
   "metadata": {},
   "source": [
    "If P <= 0.05, we are highly confident that the distributions significantly differ, and\n",
    "can claim that the treatments had a significant impact on the measured value.\n",
    "\n",
    "If the treatments do *not* significantly differ, we could expect a result such as\n",
    "the following:"
   ]
  },
  {
   "cell_type": "code",
   "execution_count": 34,
   "metadata": {
    "collapsed": false,
    "run_control": {
     "read_only": false
    }
   },
   "outputs": [
    {
     "name": "stdout",
     "output_type": "stream",
     "text": [
      "Data set 3:\n",
      " 150    1.433800\n",
      "151    2.079700\n",
      "152    0.892139\n",
      "153    2.384740\n",
      "154    0.006980\n",
      "155    1.971760\n",
      "156    0.000000\n",
      "157    1.428470\n",
      "158    1.715950\n",
      "159    0.000000\n",
      "160    0.421927\n",
      "161    1.179920\n",
      "162    0.932470\n",
      "163    2.032520\n",
      "164    0.960912\n",
      "165    2.384150\n",
      "166    1.879130\n",
      "167    1.238890\n",
      "168    1.584300\n",
      "169    1.118490\n",
      "170    2.022970\n",
      "171    0.000000\n",
      "172    2.138820\n",
      "173    2.533390\n",
      "174    1.212340\n",
      "175    0.059135\n",
      "176    1.578260\n",
      "177    1.725210\n",
      "178    0.293153\n",
      "179    0.000000\n",
      "180    0.000000\n",
      "181    1.699600\n",
      "182    2.178650\n",
      "183    1.792580\n",
      "184    1.920800\n",
      "185    0.000000\n",
      "186    1.583250\n",
      "187    0.343235\n",
      "188    1.980010\n",
      "189    0.980876\n",
      "190    1.089380\n",
      "191    0.979254\n",
      "192    1.190450\n",
      "193    1.738880\n",
      "194    1.154100\n",
      "195    1.981610\n",
      "196    2.077180\n",
      "197    1.566410\n",
      "198    0.000000\n",
      "199    1.990900\n",
      "Name: ShannonDiversity, dtype: float64\n",
      "Data set 4:\n",
      " 200    1.036930\n",
      "201    0.938018\n",
      "202    0.995956\n",
      "203    1.006970\n",
      "204    0.968258\n",
      "205    0.000000\n",
      "206    0.416046\n",
      "207    1.570310\n",
      "208    2.122400\n",
      "209    2.461440\n",
      "210    0.969003\n",
      "211    0.000000\n",
      "212    2.204760\n",
      "213    0.999556\n",
      "214    1.820140\n",
      "215    1.581250\n",
      "216    1.950260\n",
      "217    1.633000\n",
      "218    1.854850\n",
      "219    0.159017\n",
      "220    0.997556\n",
      "221    1.935620\n",
      "222    1.814500\n",
      "223    0.999802\n",
      "224    0.000000\n",
      "225    0.186966\n",
      "226    1.569840\n",
      "227    1.660550\n",
      "228    0.998564\n",
      "229    2.280260\n",
      "230    1.560220\n",
      "231    0.992335\n",
      "232    1.557250\n",
      "233    1.536150\n",
      "234    1.584580\n",
      "235    2.195650\n",
      "236    1.327320\n",
      "237    2.165350\n",
      "238    1.711200\n",
      "239    1.885540\n",
      "240    0.960891\n",
      "241    0.958280\n",
      "242    0.990460\n",
      "243    2.175780\n",
      "244    0.890169\n",
      "245    1.922790\n",
      "246    1.564330\n",
      "247    1.870380\n",
      "248    1.262280\n",
      "249    0.000000\n",
      "Name: ShannonDiversity, dtype: float64\n"
     ]
    }
   ],
   "source": [
    "treatment3 = experimentDF[experimentDF[\"Virulence\"] == 0.8][\"ShannonDiversity\"]\n",
    "treatment4 = experimentDF[experimentDF[\"Virulence\"] == 0.9][\"ShannonDiversity\"]\n",
    "\n",
    "print(\"Data set 3:\\n\", treatment3)\n",
    "print(\"Data set 4:\\n\", treatment4)"
   ]
  },
  {
   "cell_type": "code",
   "execution_count": 35,
   "metadata": {
    "collapsed": false,
    "run_control": {
     "read_only": false
    }
   },
   "outputs": [
    {
     "name": "stdout",
     "output_type": "stream",
     "text": [
      "MWW RankSum P for treatments 3 and 4 = 0.994499571124\n"
     ]
    }
   ],
   "source": [
    "z_stat, p_val = stats.ranksums(treatment3, treatment4)\n",
    "\n",
    "print(\"MWW RankSum P for treatments 3 and 4 =\", p_val)"
   ]
  },
  {
   "cell_type": "markdown",
   "metadata": {},
   "source": [
    "With P > 0.05, we must say that the distributions do not significantly differ.\n",
    "Thus changing the parasite virulence between 0.8 and 0.9 does not result in a\n",
    "significant change in Shannon Diversity.\n",
    "\n",
    "### One-way analysis of variance (ANOVA)\n",
    "\n",
    "If you need to compare more than two data sets at a time, an ANOVA is your best bet. For\n",
    "example, we have the results from three experiments with overlapping 95% confidence\n",
    "intervals, and we want to confirm that the results for all three experiments are not\n",
    "significantly different."
   ]
  },
  {
   "cell_type": "code",
   "execution_count": 36,
   "metadata": {
    "collapsed": false,
    "run_control": {
     "read_only": false
    }
   },
   "outputs": [
    {
     "name": "stdout",
     "output_type": "stream",
     "text": [
      "Data set 1:\n",
      " 100    1.595440\n",
      "101    1.419730\n",
      "102    0.000000\n",
      "103    0.000000\n",
      "104    0.787591\n",
      "105    2.234270\n",
      "106    1.700440\n",
      "107    0.954747\n",
      "108    1.127320\n",
      "109    1.761330\n",
      "110    0.000000\n",
      "111    0.374074\n",
      "112    1.836250\n",
      "113    1.583900\n",
      "114    0.998377\n",
      "115    0.341714\n",
      "116    0.892717\n",
      "117    2.142960\n",
      "118    1.824870\n",
      "119    0.999703\n",
      "120    0.957757\n",
      "121    1.152910\n",
      "122    0.597295\n",
      "123    1.959020\n",
      "124    0.764003\n",
      "125    0.614147\n",
      "126    0.617618\n",
      "127    2.235990\n",
      "128    0.000000\n",
      "129    2.484220\n",
      "130    0.008294\n",
      "131    1.003480\n",
      "132    1.292820\n",
      "133    2.185060\n",
      "134    2.421770\n",
      "135    0.713224\n",
      "136    0.551367\n",
      "137    0.006377\n",
      "138    0.948393\n",
      "139    2.257370\n",
      "140    1.394850\n",
      "141    0.547157\n",
      "142    2.072580\n",
      "143    1.323440\n",
      "144    1.001340\n",
      "145    1.042600\n",
      "146    0.000000\n",
      "147    1.139100\n",
      "148    2.383260\n",
      "149    0.056819\n",
      "Name: ShannonDiversity, dtype: float64\n",
      "Data set 2:\n",
      " 150    1.433800\n",
      "151    2.079700\n",
      "152    0.892139\n",
      "153    2.384740\n",
      "154    0.006980\n",
      "155    1.971760\n",
      "156    0.000000\n",
      "157    1.428470\n",
      "158    1.715950\n",
      "159    0.000000\n",
      "160    0.421927\n",
      "161    1.179920\n",
      "162    0.932470\n",
      "163    2.032520\n",
      "164    0.960912\n",
      "165    2.384150\n",
      "166    1.879130\n",
      "167    1.238890\n",
      "168    1.584300\n",
      "169    1.118490\n",
      "170    2.022970\n",
      "171    0.000000\n",
      "172    2.138820\n",
      "173    2.533390\n",
      "174    1.212340\n",
      "175    0.059135\n",
      "176    1.578260\n",
      "177    1.725210\n",
      "178    0.293153\n",
      "179    0.000000\n",
      "180    0.000000\n",
      "181    1.699600\n",
      "182    2.178650\n",
      "183    1.792580\n",
      "184    1.920800\n",
      "185    0.000000\n",
      "186    1.583250\n",
      "187    0.343235\n",
      "188    1.980010\n",
      "189    0.980876\n",
      "190    1.089380\n",
      "191    0.979254\n",
      "192    1.190450\n",
      "193    1.738880\n",
      "194    1.154100\n",
      "195    1.981610\n",
      "196    2.077180\n",
      "197    1.566410\n",
      "198    0.000000\n",
      "199    1.990900\n",
      "Name: ShannonDiversity, dtype: float64\n",
      "Data set 3:\n",
      " 200    1.036930\n",
      "201    0.938018\n",
      "202    0.995956\n",
      "203    1.006970\n",
      "204    0.968258\n",
      "205    0.000000\n",
      "206    0.416046\n",
      "207    1.570310\n",
      "208    2.122400\n",
      "209    2.461440\n",
      "210    0.969003\n",
      "211    0.000000\n",
      "212    2.204760\n",
      "213    0.999556\n",
      "214    1.820140\n",
      "215    1.581250\n",
      "216    1.950260\n",
      "217    1.633000\n",
      "218    1.854850\n",
      "219    0.159017\n",
      "220    0.997556\n",
      "221    1.935620\n",
      "222    1.814500\n",
      "223    0.999802\n",
      "224    0.000000\n",
      "225    0.186966\n",
      "226    1.569840\n",
      "227    1.660550\n",
      "228    0.998564\n",
      "229    2.280260\n",
      "230    1.560220\n",
      "231    0.992335\n",
      "232    1.557250\n",
      "233    1.536150\n",
      "234    1.584580\n",
      "235    2.195650\n",
      "236    1.327320\n",
      "237    2.165350\n",
      "238    1.711200\n",
      "239    1.885540\n",
      "240    0.960891\n",
      "241    0.958280\n",
      "242    0.990460\n",
      "243    2.175780\n",
      "244    0.890169\n",
      "245    1.922790\n",
      "246    1.564330\n",
      "247    1.870380\n",
      "248    1.262280\n",
      "249    0.000000\n",
      "Name: ShannonDiversity, dtype: float64\n"
     ]
    }
   ],
   "source": [
    "treatment1 = experimentDF[experimentDF[\"Virulence\"] == 0.7][\"ShannonDiversity\"]\n",
    "treatment2 = experimentDF[experimentDF[\"Virulence\"] == 0.8][\"ShannonDiversity\"]\n",
    "treatment3 = experimentDF[experimentDF[\"Virulence\"] == 0.9][\"ShannonDiversity\"]\n",
    "\n",
    "print(\"Data set 1:\\n\", treatment1)\n",
    "print(\"Data set 2:\\n\", treatment2)\n",
    "print(\"Data set 3:\\n\", treatment3)"
   ]
  },
  {
   "cell_type": "code",
   "execution_count": 37,
   "metadata": {
    "collapsed": false,
    "run_control": {
     "read_only": false
    }
   },
   "outputs": [
    {
     "name": "stdout",
     "output_type": "stream",
     "text": [
      "One-way ANOVA P = 0.381509481874\n"
     ]
    }
   ],
   "source": [
    "from scipy import stats\n",
    "\t\n",
    "f_val, p_val = stats.f_oneway(treatment1, treatment2, treatment3)\n",
    "\n",
    "print(\"One-way ANOVA P =\", p_val)"
   ]
  },
  {
   "cell_type": "markdown",
   "metadata": {},
   "source": [
    "If P > 0.05, we can claim with high confidence that the means of the results of all three\n",
    "experiments are not significantly different."
   ]
  }
 ],
 "metadata": {
  "hide_input": false,
  "kernelspec": {
   "display_name": "Python 3",
   "language": "python",
   "name": "python3"
  },
  "language_info": {
   "codemirror_mode": {
    "name": "ipython",
    "version": 3
   },
   "file_extension": ".py",
   "mimetype": "text/x-python",
   "name": "python",
   "nbconvert_exporter": "python",
   "pygments_lexer": "ipython3",
   "version": "3.5.1"
  }
 },
 "nbformat": 4,
 "nbformat_minor": 0
}
