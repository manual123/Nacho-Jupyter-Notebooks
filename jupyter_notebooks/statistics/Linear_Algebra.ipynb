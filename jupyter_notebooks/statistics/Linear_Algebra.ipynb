{
 "metadata": {
  "name": ""
 },
 "nbformat": 3,
 "nbformat_minor": 0,
 "worksheets": [
  {
   "cells": [
    {
     "cell_type": "heading",
     "level": 4,
     "metadata": {},
     "source": [
      "Solving Systems of Linear Equations:"
     ]
    },
    {
     "cell_type": "code",
     "collapsed": false,
     "input": [
      "import numpy as np\n",
      "\n",
      "A = np.mat(\"2 2 1;2 -1 2;1 -1 2\")\n",
      "b = np.array([9,6,5])"
     ],
     "language": "python",
     "metadata": {},
     "outputs": [],
     "prompt_number": 38
    },
    {
     "cell_type": "code",
     "collapsed": false,
     "input": [
      "z = np.linalg.solve(A,b)"
     ],
     "language": "python",
     "metadata": {},
     "outputs": [],
     "prompt_number": 39
    },
    {
     "cell_type": "heading",
     "level": 4,
     "metadata": {},
     "source": [
      "Solving Multiple Regression using Matrix Form:"
     ]
    },
    {
     "cell_type": "code",
     "collapsed": false,
     "input": [
      "import numpy as np\n",
      "from scipy import linalg\n",
      " \n",
      "y = np.mat(\"2.48;2.26;2.47;2.77;2.99;3.05;3.18;3.46;3.03;3.26;2.67;2.53\")\n",
      "x = np.mat(\"1 4.51 0;1 3.58 0;1 4.31 13;1 5.06 56;1 5.64 117;1 4.99 306;1 5.29 358;1 5.83 330;1 4.70 187;\\\n",
      "           1 5.61 94;1 4.90 23;1 4.20 0\")\n",
      " \n",
      "b= linalg.inv(x.T*x)*x.T*y\n",
      "print(b)"
     ],
     "language": "python",
     "metadata": {},
     "outputs": [
      {
       "output_type": "stream",
       "stream": "stdout",
       "text": [
        "[[ 0.99242427]\n",
        " [ 0.34935808]\n",
        " [ 0.00118702]]\n"
       ]
      }
     ],
     "prompt_number": 2
    }
   ],
   "metadata": {}
  }
 ]
}