{
 "cells": [
  {
   "cell_type": "markdown",
   "metadata": {},
   "source": [
    "<center><h1>Random Number Generation Examples</h1></center>"
   ]
  },
  {
   "cell_type": "code",
   "execution_count": 43,
   "metadata": {
    "collapsed": true,
    "run_control": {
     "read_only": false
    }
   },
   "outputs": [],
   "source": [
    "%matplotlib inline\n",
    "import numpy.random as random\n",
    "import seaborn as sns\n",
    "import matplotlib.pyplot as plt\n",
    "import pandas as pd"
   ]
  },
  {
   "cell_type": "markdown",
   "metadata": {},
   "source": [
    "### Generating uniform random variables using numpy.random.rand()"
   ]
  },
  {
   "cell_type": "markdown",
   "metadata": {},
   "source": [
    "Generate 5 sets of 10 randomly generated numbers drawn from the uniform distribution in state space [0,1)"
   ]
  },
  {
   "cell_type": "code",
   "execution_count": 41,
   "metadata": {
    "collapsed": true
   },
   "outputs": [],
   "source": [
    "df = pd.DataFrame(random.rand(10, 5), columns=['A', 'B', 'C', 'D', 'E'])"
   ]
  },
  {
   "cell_type": "code",
   "execution_count": 42,
   "metadata": {
    "collapsed": false
   },
   "outputs": [
    {
     "data": {
      "text/html": [
       "<div>\n",
       "<table border=\"1\" class=\"dataframe\">\n",
       "  <thead>\n",
       "    <tr style=\"text-align: right;\">\n",
       "      <th></th>\n",
       "      <th>A</th>\n",
       "      <th>B</th>\n",
       "      <th>C</th>\n",
       "      <th>D</th>\n",
       "      <th>E</th>\n",
       "    </tr>\n",
       "  </thead>\n",
       "  <tbody>\n",
       "    <tr>\n",
       "      <th>0</th>\n",
       "      <td>0.808872</td>\n",
       "      <td>0.242957</td>\n",
       "      <td>0.844366</td>\n",
       "      <td>0.905115</td>\n",
       "      <td>0.749324</td>\n",
       "    </tr>\n",
       "    <tr>\n",
       "      <th>1</th>\n",
       "      <td>0.824425</td>\n",
       "      <td>0.222771</td>\n",
       "      <td>0.045944</td>\n",
       "      <td>0.021921</td>\n",
       "      <td>0.744941</td>\n",
       "    </tr>\n",
       "    <tr>\n",
       "      <th>2</th>\n",
       "      <td>0.168659</td>\n",
       "      <td>0.687614</td>\n",
       "      <td>0.570284</td>\n",
       "      <td>0.833789</td>\n",
       "      <td>0.630584</td>\n",
       "    </tr>\n",
       "    <tr>\n",
       "      <th>3</th>\n",
       "      <td>0.098770</td>\n",
       "      <td>0.486260</td>\n",
       "      <td>0.145656</td>\n",
       "      <td>0.079411</td>\n",
       "      <td>0.652759</td>\n",
       "    </tr>\n",
       "    <tr>\n",
       "      <th>4</th>\n",
       "      <td>0.877876</td>\n",
       "      <td>0.142310</td>\n",
       "      <td>0.126717</td>\n",
       "      <td>0.472303</td>\n",
       "      <td>0.090373</td>\n",
       "    </tr>\n",
       "    <tr>\n",
       "      <th>5</th>\n",
       "      <td>0.195852</td>\n",
       "      <td>0.774838</td>\n",
       "      <td>0.530572</td>\n",
       "      <td>0.181999</td>\n",
       "      <td>0.964022</td>\n",
       "    </tr>\n",
       "    <tr>\n",
       "      <th>6</th>\n",
       "      <td>0.222626</td>\n",
       "      <td>0.690253</td>\n",
       "      <td>0.523271</td>\n",
       "      <td>0.634319</td>\n",
       "      <td>0.997363</td>\n",
       "    </tr>\n",
       "    <tr>\n",
       "      <th>7</th>\n",
       "      <td>0.634870</td>\n",
       "      <td>0.574579</td>\n",
       "      <td>0.014508</td>\n",
       "      <td>0.234236</td>\n",
       "      <td>0.797048</td>\n",
       "    </tr>\n",
       "    <tr>\n",
       "      <th>8</th>\n",
       "      <td>0.716601</td>\n",
       "      <td>0.934938</td>\n",
       "      <td>0.386446</td>\n",
       "      <td>0.073446</td>\n",
       "      <td>0.101430</td>\n",
       "    </tr>\n",
       "    <tr>\n",
       "      <th>9</th>\n",
       "      <td>0.356269</td>\n",
       "      <td>0.826163</td>\n",
       "      <td>0.572986</td>\n",
       "      <td>0.520957</td>\n",
       "      <td>0.158806</td>\n",
       "    </tr>\n",
       "  </tbody>\n",
       "</table>\n",
       "</div>"
      ],
      "text/plain": [
       "          A         B         C         D         E\n",
       "0  0.808872  0.242957  0.844366  0.905115  0.749324\n",
       "1  0.824425  0.222771  0.045944  0.021921  0.744941\n",
       "2  0.168659  0.687614  0.570284  0.833789  0.630584\n",
       "3  0.098770  0.486260  0.145656  0.079411  0.652759\n",
       "4  0.877876  0.142310  0.126717  0.472303  0.090373\n",
       "5  0.195852  0.774838  0.530572  0.181999  0.964022\n",
       "6  0.222626  0.690253  0.523271  0.634319  0.997363\n",
       "7  0.634870  0.574579  0.014508  0.234236  0.797048\n",
       "8  0.716601  0.934938  0.386446  0.073446  0.101430\n",
       "9  0.356269  0.826163  0.572986  0.520957  0.158806"
      ]
     },
     "execution_count": 42,
     "metadata": {},
     "output_type": "execute_result"
    }
   ],
   "source": [
    "df"
   ]
  },
  {
   "cell_type": "markdown",
   "metadata": {},
   "source": [
    "### Random Normal Variates"
   ]
  },
  {
   "cell_type": "code",
   "execution_count": 13,
   "metadata": {
    "collapsed": false,
    "run_control": {
     "read_only": false
    }
   },
   "outputs": [],
   "source": [
    "mu, sigma = 0, 0.1\n",
    "s = random.normal(mu, sigma, 1000)"
   ]
  },
  {
   "cell_type": "code",
   "execution_count": 22,
   "metadata": {
    "collapsed": false,
    "run_control": {
     "read_only": false
    }
   },
   "outputs": [
    {
     "data": {
      "image/png": "[encoded data removed]",
      "text/plain": [
       "<matplotlib.figure.Figure at 0x7fe7ae397d30>"
      ]
     },
     "metadata": {},
     "output_type": "display_data"
    }
   ],
   "source": [
    "count, bins, ignored = plt.hist(s, 30, normed=True, alpha=0.7)"
   ]
  },
  {
   "cell_type": "markdown",
   "metadata": {},
   "source": [
    "### Random 2-parameter Weibull Variates"
   ]
  },
  {
   "cell_type": "code",
   "execution_count": 29,
   "metadata": {
    "collapsed": false,
    "run_control": {
     "read_only": false
    }
   },
   "outputs": [
    {
     "data": {
      "image/png": "[encoded data removed]",
      "text/plain": [
       "<matplotlib.figure.Figure at 0x7fe7addb7fd0>"
      ]
     },
     "metadata": {},
     "output_type": "display_data"
    }
   ],
   "source": [
    "w = 1 * random.weibull(2, 2000)\n",
    "count, bins, ignored = plt.hist(w, 30, normed=True, alpha=0.7)"
   ]
  }
 ],
 "metadata": {
  "hide_input": false,
  "kernelspec": {
   "display_name": "Python 3",
   "language": "python",
   "name": "python3"
  },
  "language_info": {
   "codemirror_mode": {
    "name": "ipython",
    "version": 3
   },
   "file_extension": ".py",
   "mimetype": "text/x-python",
   "name": "python",
   "nbconvert_exporter": "python",
   "pygments_lexer": "ipython3",
   "version": "3.5.1"
  }
 },
 "nbformat": 4,
 "nbformat_minor": 0
}
