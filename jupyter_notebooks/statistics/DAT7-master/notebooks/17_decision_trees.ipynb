{
 "metadata": {
  "name": "",
  "signature": "sha256:42ec5f60b4b162e35116ce250065b4b76318fa8b9a60bbea5ff2bf2d70637484"
 },
 "nbformat": 3,
 "nbformat_minor": 0,
 "worksheets": [
  {
   "cells": [
    {
     "cell_type": "markdown",
     "metadata": {},
     "source": [
      "# Decision Trees\n",
      "\n",
      "*Adapted from Chapter 8 of [An Introduction to Statistical Learning](http://www-bcf.usc.edu/~gareth/ISL/)*"
     ]
    },
    {
     "cell_type": "markdown",
     "metadata": {},
     "source": [
      "**Motivation:** Why are we learning about decision trees?\n",
      "\n",
      "- Useful for both regression and classification problems\n",
      "- Widely used\n",
      "- Basis for more sophisticated models\n",
      "- Have a different way of \"thinking\" than the other models we have studied"
     ]
    },
    {
     "cell_type": "markdown",
     "metadata": {},
     "source": [
      "# Part 1: Regression trees\n",
      "\n",
      "Baseball player salary data:\n",
      "\n",
      "- **Years** (x-axis): number of years playing in the major leagues\n",
      "- **Hits** (y-axis): number of hits in the previous year\n",
      "- **Salary** (color): low salary is blue/green, high salary is red/yellow"
     ]
    },
    {
     "cell_type": "markdown",
     "metadata": {},
     "source": [
      "![Salary data](images/salary_color.png)"
     ]
    },
    {
     "cell_type": "markdown",
     "metadata": {},
     "source": [
      "Group exercise:\n",
      "\n",
      "- The data above is our **training data**.\n",
      "- We want to build a model that predicts the Salary of **future players** based on Years and Hits.\n",
      "- We are going to \"segment\" the feature space into regions, and then use the **mean Salary in each region** as the predicted Salary for future players.\n",
      "- Intuitively, you want to **maximize** the similarity (or \"homogeneity\") within a given region, and **minimize** the similarity between different regions.\n",
      "\n",
      "Rules for segmenting:\n",
      "\n",
      "- You can only use **straight lines**, drawn one at a time.\n",
      "- Your line must either be **vertical or horizontal**.\n",
      "- Your line **stops** when it hits an existing line."
     ]
    },
    {
     "cell_type": "markdown",
     "metadata": {},
     "source": [
      "![Salary regions](images/salary_regions.png)"
     ]
    },
    {
     "cell_type": "markdown",
     "metadata": {},
     "source": [
      "Above are the regions created by a computer:\n",
      "\n",
      "- $R_1$: players with **less than 5 years** of experience, mean Salary of **\\$166,000 **\n",
      "- $R_2$: players with **5 or more years** of experience and **less than 118 hits**, mean Salary of **\\$403,000 **\n",
      "- $R_3$: players with **5 or more years** of experience and **118 hits or more**, mean Salary of **\\$846,000 **\n",
      "\n",
      "**Note:** Years and Hits are both integers, but the convention is to use the **midpoint** between adjacent values to label a split.\n",
      "\n",
      "These regions are used to make predictions on **out-of-sample data**. Thus, there are only three possible predictions! (Is this different from how **linear regression** makes predictions?)\n",
      "\n",
      "Below is the equivalent regression tree:"
     ]
    },
    {
     "cell_type": "markdown",
     "metadata": {},
     "source": [
      "![Salary tree](images/salary_tree.png)"
     ]
    },
    {
     "cell_type": "markdown",
     "metadata": {},
     "source": [
      "The first split is **Years < 4.5**, thus that split goes at the top of the tree. When a splitting rule is **True**, you follow the left branch. When a splitting rule is **False**, you follow the right branch.\n",
      "\n",
      "For players in the **left branch**, the mean Salary is \\$166,000, thus you label it with that value. (Salary has been divided by 1000 and log-transformed to 5.11.)\n",
      "\n",
      "For players in the **right branch**, there is a further split on **Hits < 117.5**, dividing players into two more Salary regions: \\$403,000 (transformed to 6.00), and \\$846,000 (transformed to 6.74)."
     ]
    },
    {
     "cell_type": "markdown",
     "metadata": {},
     "source": [
      "![Salary tree annotated](images/salary_tree_annotated.png)"
     ]
    },
    {
     "cell_type": "markdown",
     "metadata": {},
     "source": [
      "**What does this tree tell you about your data?**\n",
      "\n",
      "- Years is the most important factor determining Salary, with a lower number of Years corresponding to a lower Salary.\n",
      "- For a player with a lower number of Years, Hits is not an important factor determining Salary.\n",
      "- For a player with a higher number of Years, Hits is an important factor determining Salary, with a greater number of Hits corresponding to a higher Salary.\n",
      "\n",
      "**Question:** What do you like and dislike about decision trees so far?"
     ]
    },
    {
     "cell_type": "markdown",
     "metadata": {},
     "source": [
      "## Building a regression tree by hand\n",
      "\n",
      "Your **training data** is a tiny dataset of [used vehicle sale prices](https://raw.githubusercontent.com/justmarkham/DAT7/master/data/vehicles_train.csv). Your goal is to **predict price** for testing data.\n",
      "\n",
      "1. Read the data into a Pandas DataFrame.\n",
      "2. Explore the data by sorting, plotting, or split-apply-combine (aka `group_by`).\n",
      "3. Decide which feature is the most important predictor, and use that to create your first splitting rule.\n",
      "    - Only binary splits are allowed.\n",
      "4. After making your first split, split your DataFrame into two parts, and then explore each part to figure out what other splits to make.\n",
      "5. Stop making splits once you are convinced that it strikes a good balance between underfitting and overfitting.\n",
      "    - Your goal is to build a model that generalizes well.\n",
      "    - You are allowed to split on the same variable multiple times!\n",
      "6. Draw your tree, labeling the leaves with the mean price for the observations in that region.\n",
      "    - Make sure nothing is backwards: You follow the **left branch** if the rule is true, and the **right branch** if the rule is false."
     ]
    },
    {
     "cell_type": "markdown",
     "metadata": {},
     "source": [
      "## How does a computer build a regression tree?\n",
      "\n",
      "**Ideal approach:** Consider every possible partition of the feature space (computationally infeasible)\n",
      "\n",
      "**\"Good enough\" approach:** recursive binary splitting\n",
      "\n",
      "1. Begin at the top of the tree.\n",
      "2. For **every feature**, examine **every possible cutpoint**, and choose the feature and cutpoint such that the resulting tree has the lowest possible mean squared error (MSE). Make that split.\n",
      "3. Examine the two resulting regions, and again make a **single split** (in one of the regions) to minimize the MSE.\n",
      "4. Keep repeating step 3 until a **stopping criterion** is met:\n",
      "    - maximum tree depth (maximum number of splits required to arrive at a leaf)\n",
      "    - minimum number of observations in a leaf"
     ]
    },
    {
     "cell_type": "markdown",
     "metadata": {},
     "source": [
      "### Demo: Choosing the ideal cutpoint for a given feature"
     ]
    },
    {
     "cell_type": "code",
     "collapsed": false,
     "input": [
      "# vehicle data\n",
      "import pandas as pd\n",
      "url = 'https://raw.githubusercontent.com/justmarkham/DAT7/master/data/vehicles_train.csv'\n",
      "train = pd.read_csv(url)"
     ],
     "language": "python",
     "metadata": {},
     "outputs": [],
     "prompt_number": 1
    },
    {
     "cell_type": "code",
     "collapsed": false,
     "input": [
      "# before splitting anything, just predict the mean of the entire dataset\n",
      "train['prediction'] = train.price.mean()\n",
      "train"
     ],
     "language": "python",
     "metadata": {},
     "outputs": [
      {
       "html": [
        "<div style=\"max-width:1500px;overflow:auto;\">\n",
        "<table border=\"1\" class=\"dataframe\">\n",
        "  <thead>\n",
        "    <tr style=\"text-align: right;\">\n",
        "      <th></th>\n",
        "      <th>price</th>\n",
        "      <th>year</th>\n",
        "      <th>miles</th>\n",
        "      <th>doors</th>\n",
        "      <th>vtype</th>\n",
        "      <th>prediction</th>\n",
        "    </tr>\n",
        "  </thead>\n",
        "  <tbody>\n",
        "    <tr>\n",
        "      <th>0</th>\n",
        "      <td>22000</td>\n",
        "      <td>2012</td>\n",
        "      <td>13000</td>\n",
        "      <td>2</td>\n",
        "      <td>car</td>\n",
        "      <td>6571.428571</td>\n",
        "    </tr>\n",
        "    <tr>\n",
        "      <th>1</th>\n",
        "      <td>14000</td>\n",
        "      <td>2010</td>\n",
        "      <td>30000</td>\n",
        "      <td>2</td>\n",
        "      <td>car</td>\n",
        "      <td>6571.428571</td>\n",
        "    </tr>\n",
        "    <tr>\n",
        "      <th>2</th>\n",
        "      <td>13000</td>\n",
        "      <td>2010</td>\n",
        "      <td>73500</td>\n",
        "      <td>4</td>\n",
        "      <td>car</td>\n",
        "      <td>6571.428571</td>\n",
        "    </tr>\n",
        "    <tr>\n",
        "      <th>3</th>\n",
        "      <td>9500</td>\n",
        "      <td>2009</td>\n",
        "      <td>78000</td>\n",
        "      <td>4</td>\n",
        "      <td>car</td>\n",
        "      <td>6571.428571</td>\n",
        "    </tr>\n",
        "    <tr>\n",
        "      <th>4</th>\n",
        "      <td>9000</td>\n",
        "      <td>2007</td>\n",
        "      <td>47000</td>\n",
        "      <td>4</td>\n",
        "      <td>car</td>\n",
        "      <td>6571.428571</td>\n",
        "    </tr>\n",
        "    <tr>\n",
        "      <th>5</th>\n",
        "      <td>4000</td>\n",
        "      <td>2006</td>\n",
        "      <td>124000</td>\n",
        "      <td>2</td>\n",
        "      <td>car</td>\n",
        "      <td>6571.428571</td>\n",
        "    </tr>\n",
        "    <tr>\n",
        "      <th>6</th>\n",
        "      <td>3000</td>\n",
        "      <td>2004</td>\n",
        "      <td>177000</td>\n",
        "      <td>4</td>\n",
        "      <td>car</td>\n",
        "      <td>6571.428571</td>\n",
        "    </tr>\n",
        "    <tr>\n",
        "      <th>7</th>\n",
        "      <td>2000</td>\n",
        "      <td>2004</td>\n",
        "      <td>209000</td>\n",
        "      <td>4</td>\n",
        "      <td>truck</td>\n",
        "      <td>6571.428571</td>\n",
        "    </tr>\n",
        "    <tr>\n",
        "      <th>8</th>\n",
        "      <td>3000</td>\n",
        "      <td>2003</td>\n",
        "      <td>138000</td>\n",
        "      <td>2</td>\n",
        "      <td>car</td>\n",
        "      <td>6571.428571</td>\n",
        "    </tr>\n",
        "    <tr>\n",
        "      <th>9</th>\n",
        "      <td>1900</td>\n",
        "      <td>2003</td>\n",
        "      <td>160000</td>\n",
        "      <td>4</td>\n",
        "      <td>car</td>\n",
        "      <td>6571.428571</td>\n",
        "    </tr>\n",
        "    <tr>\n",
        "      <th>10</th>\n",
        "      <td>2500</td>\n",
        "      <td>2003</td>\n",
        "      <td>190000</td>\n",
        "      <td>2</td>\n",
        "      <td>truck</td>\n",
        "      <td>6571.428571</td>\n",
        "    </tr>\n",
        "    <tr>\n",
        "      <th>11</th>\n",
        "      <td>5000</td>\n",
        "      <td>2001</td>\n",
        "      <td>62000</td>\n",
        "      <td>4</td>\n",
        "      <td>car</td>\n",
        "      <td>6571.428571</td>\n",
        "    </tr>\n",
        "    <tr>\n",
        "      <th>12</th>\n",
        "      <td>1800</td>\n",
        "      <td>1999</td>\n",
        "      <td>163000</td>\n",
        "      <td>2</td>\n",
        "      <td>truck</td>\n",
        "      <td>6571.428571</td>\n",
        "    </tr>\n",
        "    <tr>\n",
        "      <th>13</th>\n",
        "      <td>1300</td>\n",
        "      <td>1997</td>\n",
        "      <td>138000</td>\n",
        "      <td>4</td>\n",
        "      <td>car</td>\n",
        "      <td>6571.428571</td>\n",
        "    </tr>\n",
        "  </tbody>\n",
        "</table>\n",
        "</div>"
       ],
       "metadata": {},
       "output_type": "pyout",
       "prompt_number": 2,
       "text": [
        "    price  year   miles  doors  vtype   prediction\n",
        "0   22000  2012   13000      2    car  6571.428571\n",
        "1   14000  2010   30000      2    car  6571.428571\n",
        "2   13000  2010   73500      4    car  6571.428571\n",
        "3    9500  2009   78000      4    car  6571.428571\n",
        "4    9000  2007   47000      4    car  6571.428571\n",
        "5    4000  2006  124000      2    car  6571.428571\n",
        "6    3000  2004  177000      4    car  6571.428571\n",
        "7    2000  2004  209000      4  truck  6571.428571\n",
        "8    3000  2003  138000      2    car  6571.428571\n",
        "9    1900  2003  160000      4    car  6571.428571\n",
        "10   2500  2003  190000      2  truck  6571.428571\n",
        "11   5000  2001   62000      4    car  6571.428571\n",
        "12   1800  1999  163000      2  truck  6571.428571\n",
        "13   1300  1997  138000      4    car  6571.428571"
       ]
      }
     ],
     "prompt_number": 2
    },
    {
     "cell_type": "code",
     "collapsed": false,
     "input": [
      "# calculate RMSE for those predictions\n",
      "from sklearn import metrics\n",
      "import numpy as np\n",
      "np.sqrt(metrics.mean_squared_error(train.price, train.prediction))"
     ],
     "language": "python",
     "metadata": {},
     "outputs": [
      {
       "metadata": {},
       "output_type": "pyout",
       "prompt_number": 3,
       "text": [
        "5936.9819859959835"
       ]
      }
     ],
     "prompt_number": 3
    },
    {
     "cell_type": "code",
     "collapsed": false,
     "input": [
      "# define a function that calculates the RMSE for a given split of miles\n",
      "def mileage_split(miles):\n",
      "    lower_mileage_price = train[train.miles < miles].price.mean()\n",
      "    higher_mileage_price = train[train.miles >= miles].price.mean()\n",
      "    train['prediction'] = np.where(train.miles < miles, lower_mileage_price, higher_mileage_price)\n",
      "    return np.sqrt(metrics.mean_squared_error(train.price, train.prediction))"
     ],
     "language": "python",
     "metadata": {},
     "outputs": [],
     "prompt_number": 4
    },
    {
     "cell_type": "code",
     "collapsed": false,
     "input": [
      "# calculate RMSE for tree which splits on miles < 50000\n",
      "print 'RMSE:', mileage_split(50000)\n",
      "train"
     ],
     "language": "python",
     "metadata": {},
     "outputs": [
      {
       "output_type": "stream",
       "stream": "stdout",
       "text": [
        "RMSE: 3984.09174254\n"
       ]
      },
      {
       "html": [
        "<div style=\"max-width:1500px;overflow:auto;\">\n",
        "<table border=\"1\" class=\"dataframe\">\n",
        "  <thead>\n",
        "    <tr style=\"text-align: right;\">\n",
        "      <th></th>\n",
        "      <th>price</th>\n",
        "      <th>year</th>\n",
        "      <th>miles</th>\n",
        "      <th>doors</th>\n",
        "      <th>vtype</th>\n",
        "      <th>prediction</th>\n",
        "    </tr>\n",
        "  </thead>\n",
        "  <tbody>\n",
        "    <tr>\n",
        "      <th>0</th>\n",
        "      <td>22000</td>\n",
        "      <td>2012</td>\n",
        "      <td>13000</td>\n",
        "      <td>2</td>\n",
        "      <td>car</td>\n",
        "      <td>15000.000000</td>\n",
        "    </tr>\n",
        "    <tr>\n",
        "      <th>1</th>\n",
        "      <td>14000</td>\n",
        "      <td>2010</td>\n",
        "      <td>30000</td>\n",
        "      <td>2</td>\n",
        "      <td>car</td>\n",
        "      <td>15000.000000</td>\n",
        "    </tr>\n",
        "    <tr>\n",
        "      <th>2</th>\n",
        "      <td>13000</td>\n",
        "      <td>2010</td>\n",
        "      <td>73500</td>\n",
        "      <td>4</td>\n",
        "      <td>car</td>\n",
        "      <td>4272.727273</td>\n",
        "    </tr>\n",
        "    <tr>\n",
        "      <th>3</th>\n",
        "      <td>9500</td>\n",
        "      <td>2009</td>\n",
        "      <td>78000</td>\n",
        "      <td>4</td>\n",
        "      <td>car</td>\n",
        "      <td>4272.727273</td>\n",
        "    </tr>\n",
        "    <tr>\n",
        "      <th>4</th>\n",
        "      <td>9000</td>\n",
        "      <td>2007</td>\n",
        "      <td>47000</td>\n",
        "      <td>4</td>\n",
        "      <td>car</td>\n",
        "      <td>15000.000000</td>\n",
        "    </tr>\n",
        "    <tr>\n",
        "      <th>5</th>\n",
        "      <td>4000</td>\n",
        "      <td>2006</td>\n",
        "      <td>124000</td>\n",
        "      <td>2</td>\n",
        "      <td>car</td>\n",
        "      <td>4272.727273</td>\n",
        "    </tr>\n",
        "    <tr>\n",
        "      <th>6</th>\n",
        "      <td>3000</td>\n",
        "      <td>2004</td>\n",
        "      <td>177000</td>\n",
        "      <td>4</td>\n",
        "      <td>car</td>\n",
        "      <td>4272.727273</td>\n",
        "    </tr>\n",
        "    <tr>\n",
        "      <th>7</th>\n",
        "      <td>2000</td>\n",
        "      <td>2004</td>\n",
        "      <td>209000</td>\n",
        "      <td>4</td>\n",
        "      <td>truck</td>\n",
        "      <td>4272.727273</td>\n",
        "    </tr>\n",
        "    <tr>\n",
        "      <th>8</th>\n",
        "      <td>3000</td>\n",
        "      <td>2003</td>\n",
        "      <td>138000</td>\n",
        "      <td>2</td>\n",
        "      <td>car</td>\n",
        "      <td>4272.727273</td>\n",
        "    </tr>\n",
        "    <tr>\n",
        "      <th>9</th>\n",
        "      <td>1900</td>\n",
        "      <td>2003</td>\n",
        "      <td>160000</td>\n",
        "      <td>4</td>\n",
        "      <td>car</td>\n",
        "      <td>4272.727273</td>\n",
        "    </tr>\n",
        "    <tr>\n",
        "      <th>10</th>\n",
        "      <td>2500</td>\n",
        "      <td>2003</td>\n",
        "      <td>190000</td>\n",
        "      <td>2</td>\n",
        "      <td>truck</td>\n",
        "      <td>4272.727273</td>\n",
        "    </tr>\n",
        "    <tr>\n",
        "      <th>11</th>\n",
        "      <td>5000</td>\n",
        "      <td>2001</td>\n",
        "      <td>62000</td>\n",
        "      <td>4</td>\n",
        "      <td>car</td>\n",
        "      <td>4272.727273</td>\n",
        "    </tr>\n",
        "    <tr>\n",
        "      <th>12</th>\n",
        "      <td>1800</td>\n",
        "      <td>1999</td>\n",
        "      <td>163000</td>\n",
        "      <td>2</td>\n",
        "      <td>truck</td>\n",
        "      <td>4272.727273</td>\n",
        "    </tr>\n",
        "    <tr>\n",
        "      <th>13</th>\n",
        "      <td>1300</td>\n",
        "      <td>1997</td>\n",
        "      <td>138000</td>\n",
        "      <td>4</td>\n",
        "      <td>car</td>\n",
        "      <td>4272.727273</td>\n",
        "    </tr>\n",
        "  </tbody>\n",
        "</table>\n",
        "</div>"
       ],
       "metadata": {},
       "output_type": "pyout",
       "prompt_number": 5,
       "text": [
        "    price  year   miles  doors  vtype    prediction\n",
        "0   22000  2012   13000      2    car  15000.000000\n",
        "1   14000  2010   30000      2    car  15000.000000\n",
        "2   13000  2010   73500      4    car   4272.727273\n",
        "3    9500  2009   78000      4    car   4272.727273\n",
        "4    9000  2007   47000      4    car  15000.000000\n",
        "5    4000  2006  124000      2    car   4272.727273\n",
        "6    3000  2004  177000      4    car   4272.727273\n",
        "7    2000  2004  209000      4  truck   4272.727273\n",
        "8    3000  2003  138000      2    car   4272.727273\n",
        "9    1900  2003  160000      4    car   4272.727273\n",
        "10   2500  2003  190000      2  truck   4272.727273\n",
        "11   5000  2001   62000      4    car   4272.727273\n",
        "12   1800  1999  163000      2  truck   4272.727273\n",
        "13   1300  1997  138000      4    car   4272.727273"
       ]
      }
     ],
     "prompt_number": 5
    },
    {
     "cell_type": "code",
     "collapsed": false,
     "input": [
      "# calculate RMSE for tree which splits on miles < 100000\n",
      "print 'RMSE:', mileage_split(100000)\n",
      "train"
     ],
     "language": "python",
     "metadata": {},
     "outputs": [
      {
       "output_type": "stream",
       "stream": "stdout",
       "text": [
        "RMSE: 3530.14653008\n"
       ]
      },
      {
       "html": [
        "<div style=\"max-width:1500px;overflow:auto;\">\n",
        "<table border=\"1\" class=\"dataframe\">\n",
        "  <thead>\n",
        "    <tr style=\"text-align: right;\">\n",
        "      <th></th>\n",
        "      <th>price</th>\n",
        "      <th>year</th>\n",
        "      <th>miles</th>\n",
        "      <th>doors</th>\n",
        "      <th>vtype</th>\n",
        "      <th>prediction</th>\n",
        "    </tr>\n",
        "  </thead>\n",
        "  <tbody>\n",
        "    <tr>\n",
        "      <th>0</th>\n",
        "      <td>22000</td>\n",
        "      <td>2012</td>\n",
        "      <td>13000</td>\n",
        "      <td>2</td>\n",
        "      <td>car</td>\n",
        "      <td>12083.333333</td>\n",
        "    </tr>\n",
        "    <tr>\n",
        "      <th>1</th>\n",
        "      <td>14000</td>\n",
        "      <td>2010</td>\n",
        "      <td>30000</td>\n",
        "      <td>2</td>\n",
        "      <td>car</td>\n",
        "      <td>12083.333333</td>\n",
        "    </tr>\n",
        "    <tr>\n",
        "      <th>2</th>\n",
        "      <td>13000</td>\n",
        "      <td>2010</td>\n",
        "      <td>73500</td>\n",
        "      <td>4</td>\n",
        "      <td>car</td>\n",
        "      <td>12083.333333</td>\n",
        "    </tr>\n",
        "    <tr>\n",
        "      <th>3</th>\n",
        "      <td>9500</td>\n",
        "      <td>2009</td>\n",
        "      <td>78000</td>\n",
        "      <td>4</td>\n",
        "      <td>car</td>\n",
        "      <td>12083.333333</td>\n",
        "    </tr>\n",
        "    <tr>\n",
        "      <th>4</th>\n",
        "      <td>9000</td>\n",
        "      <td>2007</td>\n",
        "      <td>47000</td>\n",
        "      <td>4</td>\n",
        "      <td>car</td>\n",
        "      <td>12083.333333</td>\n",
        "    </tr>\n",
        "    <tr>\n",
        "      <th>5</th>\n",
        "      <td>4000</td>\n",
        "      <td>2006</td>\n",
        "      <td>124000</td>\n",
        "      <td>2</td>\n",
        "      <td>car</td>\n",
        "      <td>2437.500000</td>\n",
        "    </tr>\n",
        "    <tr>\n",
        "      <th>6</th>\n",
        "      <td>3000</td>\n",
        "      <td>2004</td>\n",
        "      <td>177000</td>\n",
        "      <td>4</td>\n",
        "      <td>car</td>\n",
        "      <td>2437.500000</td>\n",
        "    </tr>\n",
        "    <tr>\n",
        "      <th>7</th>\n",
        "      <td>2000</td>\n",
        "      <td>2004</td>\n",
        "      <td>209000</td>\n",
        "      <td>4</td>\n",
        "      <td>truck</td>\n",
        "      <td>2437.500000</td>\n",
        "    </tr>\n",
        "    <tr>\n",
        "      <th>8</th>\n",
        "      <td>3000</td>\n",
        "      <td>2003</td>\n",
        "      <td>138000</td>\n",
        "      <td>2</td>\n",
        "      <td>car</td>\n",
        "      <td>2437.500000</td>\n",
        "    </tr>\n",
        "    <tr>\n",
        "      <th>9</th>\n",
        "      <td>1900</td>\n",
        "      <td>2003</td>\n",
        "      <td>160000</td>\n",
        "      <td>4</td>\n",
        "      <td>car</td>\n",
        "      <td>2437.500000</td>\n",
        "    </tr>\n",
        "    <tr>\n",
        "      <th>10</th>\n",
        "      <td>2500</td>\n",
        "      <td>2003</td>\n",
        "      <td>190000</td>\n",
        "      <td>2</td>\n",
        "      <td>truck</td>\n",
        "      <td>2437.500000</td>\n",
        "    </tr>\n",
        "    <tr>\n",
        "      <th>11</th>\n",
        "      <td>5000</td>\n",
        "      <td>2001</td>\n",
        "      <td>62000</td>\n",
        "      <td>4</td>\n",
        "      <td>car</td>\n",
        "      <td>12083.333333</td>\n",
        "    </tr>\n",
        "    <tr>\n",
        "      <th>12</th>\n",
        "      <td>1800</td>\n",
        "      <td>1999</td>\n",
        "      <td>163000</td>\n",
        "      <td>2</td>\n",
        "      <td>truck</td>\n",
        "      <td>2437.500000</td>\n",
        "    </tr>\n",
        "    <tr>\n",
        "      <th>13</th>\n",
        "      <td>1300</td>\n",
        "      <td>1997</td>\n",
        "      <td>138000</td>\n",
        "      <td>4</td>\n",
        "      <td>car</td>\n",
        "      <td>2437.500000</td>\n",
        "    </tr>\n",
        "  </tbody>\n",
        "</table>\n",
        "</div>"
       ],
       "metadata": {},
       "output_type": "pyout",
       "prompt_number": 6,
       "text": [
        "    price  year   miles  doors  vtype    prediction\n",
        "0   22000  2012   13000      2    car  12083.333333\n",
        "1   14000  2010   30000      2    car  12083.333333\n",
        "2   13000  2010   73500      4    car  12083.333333\n",
        "3    9500  2009   78000      4    car  12083.333333\n",
        "4    9000  2007   47000      4    car  12083.333333\n",
        "5    4000  2006  124000      2    car   2437.500000\n",
        "6    3000  2004  177000      4    car   2437.500000\n",
        "7    2000  2004  209000      4  truck   2437.500000\n",
        "8    3000  2003  138000      2    car   2437.500000\n",
        "9    1900  2003  160000      4    car   2437.500000\n",
        "10   2500  2003  190000      2  truck   2437.500000\n",
        "11   5000  2001   62000      4    car  12083.333333\n",
        "12   1800  1999  163000      2  truck   2437.500000\n",
        "13   1300  1997  138000      4    car   2437.500000"
       ]
      }
     ],
     "prompt_number": 6
    },
    {
     "cell_type": "code",
     "collapsed": false,
     "input": [
      "# check all possible mileage splits\n",
      "mileage_range = range(train.miles.min(), train.miles.max(), 1000)\n",
      "RMSE = [mileage_split(miles) for miles in mileage_range]\n",
      "\n",
      "# plot mileage cutpoint (x-axis) versus RMSE (y-axis)\n",
      "%matplotlib inline\n",
      "import matplotlib.pyplot as plt\n",
      "plt.plot(mileage_range, RMSE)\n",
      "plt.xlabel('Mileage cutpoint')\n",
      "plt.ylabel('RMSE (lower is better)')"
     ],
     "language": "python",
     "metadata": {},
     "outputs": [
      {
       "metadata": {},
       "output_type": "pyout",
       "prompt_number": 7,
       "text": [
        "<matplotlib.text.Text at 0x1745a780>"
       ]
      },
      {
       "metadata": {},
       "output_type": "display_data",
       "png": "[encoded data removed]",
       "text": [
        "<matplotlib.figure.Figure at 0x1730a9b0>"
       ]
      }
     ],
     "prompt_number": 7
    },
    {
     "cell_type": "markdown",
     "metadata": {},
     "source": [
      "**Recap:** Before every split, this process is repeated for every feature, and the feature and cutpoint that produces the lowest MSE is chosen."
     ]
    },
    {
     "cell_type": "markdown",
     "metadata": {},
     "source": [
      "## Building a regression tree in scikit-learn"
     ]
    },
    {
     "cell_type": "code",
     "collapsed": false,
     "input": [
      "# encode car as 0 and truck as 1\n",
      "train['vtype'] = train.vtype.map({'car':0, 'truck':1})"
     ],
     "language": "python",
     "metadata": {},
     "outputs": [],
     "prompt_number": 8
    },
    {
     "cell_type": "code",
     "collapsed": false,
     "input": [
      "# define X and y\n",
      "feature_cols = ['year', 'miles', 'doors', 'vtype']\n",
      "X = train[feature_cols]\n",
      "y = train.price"
     ],
     "language": "python",
     "metadata": {},
     "outputs": [],
     "prompt_number": 9
    },
    {
     "cell_type": "code",
     "collapsed": false,
     "input": [
      "# instantiate a DecisionTreeRegressor (with random_state=1)\n",
      "from sklearn.tree import DecisionTreeRegressor\n",
      "treereg = DecisionTreeRegressor(random_state=1)\n",
      "treereg"
     ],
     "language": "python",
     "metadata": {},
     "outputs": [
      {
       "metadata": {},
       "output_type": "pyout",
       "prompt_number": 10,
       "text": [
        "DecisionTreeRegressor(compute_importances=None, criterion='mse',\n",
        "           max_depth=None, max_features=None, max_leaf_nodes=None,\n",
        "           min_density=None, min_samples_leaf=1, min_samples_split=2,\n",
        "           random_state=1, splitter='best')"
       ]
      }
     ],
     "prompt_number": 10
    },
    {
     "cell_type": "code",
     "collapsed": false,
     "input": [
      "# use leave-one-out cross-validation (LOOCV) to estimate the RMSE for this model\n",
      "from sklearn.cross_validation import cross_val_score\n",
      "scores = cross_val_score(treereg, X, y, cv=14, scoring='mean_squared_error')\n",
      "np.mean(np.sqrt(-scores))"
     ],
     "language": "python",
     "metadata": {},
     "outputs": [
      {
       "metadata": {},
       "output_type": "pyout",
       "prompt_number": 11,
       "text": [
        "2928.5714285714284"
       ]
      }
     ],
     "prompt_number": 11
    },
    {
     "cell_type": "markdown",
     "metadata": {},
     "source": [
      "## What happens when we grow a tree too deep?\n",
      "\n",
      "- Left: Regression tree for Salary **grown deeper**\n",
      "- Right: Comparison of the **training, testing, and cross-validation errors** for trees with different numbers of leaves"
     ]
    },
    {
     "cell_type": "markdown",
     "metadata": {},
     "source": [
      "![Salary tree grown deep](images/salary_tree_deep.png)"
     ]
    },
    {
     "cell_type": "markdown",
     "metadata": {},
     "source": [
      "The **training error** continues to go down as the tree size increases (due to overfitting), but the lowest **cross-validation error** occurs for a tree with 3 leaves."
     ]
    },
    {
     "cell_type": "markdown",
     "metadata": {},
     "source": [
      "## Tuning a regression tree\n",
      "\n",
      "Let's try to reduce the RMSE by tuning the **max_depth** parameter:"
     ]
    },
    {
     "cell_type": "code",
     "collapsed": false,
     "input": [
      "# try different values one-by-one\n",
      "treereg = DecisionTreeRegressor(max_depth=1, random_state=1)\n",
      "scores = cross_val_score(treereg, X, y, cv=14, scoring='mean_squared_error')\n",
      "np.mean(np.sqrt(-scores))"
     ],
     "language": "python",
     "metadata": {},
     "outputs": [
      {
       "metadata": {},
       "output_type": "pyout",
       "prompt_number": 12,
       "text": [
        "3757.936507936508"
       ]
      }
     ],
     "prompt_number": 12
    },
    {
     "cell_type": "markdown",
     "metadata": {},
     "source": [
      "Or, we could write a loop to try a range of values:"
     ]
    },
    {
     "cell_type": "code",
     "collapsed": false,
     "input": [
      "# list of values to try\n",
      "max_depth_range = range(1, 8)\n",
      "\n",
      "# list to store the average RMSE for each value of max_depth\n",
      "RMSE_scores = []\n",
      "\n",
      "# use LOOCV with each value of max_depth\n",
      "for depth in max_depth_range:\n",
      "    treereg = DecisionTreeRegressor(max_depth=depth, random_state=1)\n",
      "    MSE_scores = cross_val_score(treereg, X, y, cv=14, scoring='mean_squared_error')\n",
      "    RMSE_scores.append(np.mean(np.sqrt(-MSE_scores)))\n",
      "\n",
      "# plot max_depth (x-axis) versus RMSE (y-axis)\n",
      "plt.plot(max_depth_range, RMSE_scores)\n",
      "plt.xlabel('max_depth')\n",
      "plt.ylabel('RMSE (lower is better)')"
     ],
     "language": "python",
     "metadata": {},
     "outputs": [
      {
       "metadata": {},
       "output_type": "pyout",
       "prompt_number": 13,
       "text": [
        "<matplotlib.text.Text at 0x17d4a908>"
       ]
      },
      {
       "metadata": {},
       "output_type": "display_data",
       "png": "[encoded data removed]",
       "text": [
        "<matplotlib.figure.Figure at 0x2d685f8>"
       ]
      }
     ],
     "prompt_number": 13
    },
    {
     "cell_type": "code",
     "collapsed": false,
     "input": [
      "# max_depth=3 was best, so fit a tree using that parameter\n",
      "treereg = DecisionTreeRegressor(max_depth=3, random_state=1)\n",
      "treereg.fit(X, y)"
     ],
     "language": "python",
     "metadata": {},
     "outputs": [
      {
       "metadata": {},
       "output_type": "pyout",
       "prompt_number": 14,
       "text": [
        "DecisionTreeRegressor(compute_importances=None, criterion='mse', max_depth=3,\n",
        "           max_features=None, max_leaf_nodes=None, min_density=None,\n",
        "           min_samples_leaf=1, min_samples_split=2, random_state=1,\n",
        "           splitter='best')"
       ]
      }
     ],
     "prompt_number": 14
    },
    {
     "cell_type": "code",
     "collapsed": false,
     "input": [
      "# \"Gini importance\" of each feature: the (normalized) total reduction of error brought by that feature\n",
      "pd.DataFrame({'feature':feature_cols, 'importance':treereg.feature_importances_})"
     ],
     "language": "python",
     "metadata": {},
     "outputs": [
      {
       "html": [
        "<div style=\"max-width:1500px;overflow:auto;\">\n",
        "<table border=\"1\" class=\"dataframe\">\n",
        "  <thead>\n",
        "    <tr style=\"text-align: right;\">\n",
        "      <th></th>\n",
        "      <th>feature</th>\n",
        "      <th>importance</th>\n",
        "    </tr>\n",
        "  </thead>\n",
        "  <tbody>\n",
        "    <tr>\n",
        "      <th>0</th>\n",
        "      <td>year</td>\n",
        "      <td>0.798744</td>\n",
        "    </tr>\n",
        "    <tr>\n",
        "      <th>1</th>\n",
        "      <td>miles</td>\n",
        "      <td>0.201256</td>\n",
        "    </tr>\n",
        "    <tr>\n",
        "      <th>2</th>\n",
        "      <td>doors</td>\n",
        "      <td>0.000000</td>\n",
        "    </tr>\n",
        "    <tr>\n",
        "      <th>3</th>\n",
        "      <td>vtype</td>\n",
        "      <td>0.000000</td>\n",
        "    </tr>\n",
        "  </tbody>\n",
        "</table>\n",
        "</div>"
       ],
       "metadata": {},
       "output_type": "pyout",
       "prompt_number": 15,
       "text": [
        "  feature  importance\n",
        "0    year    0.798744\n",
        "1   miles    0.201256\n",
        "2   doors    0.000000\n",
        "3   vtype    0.000000"
       ]
      }
     ],
     "prompt_number": 15
    },
    {
     "cell_type": "markdown",
     "metadata": {},
     "source": [
      "## Creating a tree diagram"
     ]
    },
    {
     "cell_type": "code",
     "collapsed": false,
     "input": [
      "# create a GraphViz file\n",
      "from sklearn.tree import export_graphviz\n",
      "export_graphviz(treereg, out_file='tree_vehicles.dot', feature_names=feature_cols)\n",
      "\n",
      "# At the command line, run this to convert to PNG:\n",
      "# dot -Tpng tree_vehicles.dot -o tree_vehicles.png"
     ],
     "language": "python",
     "metadata": {},
     "outputs": [],
     "prompt_number": 16
    },
    {
     "cell_type": "markdown",
     "metadata": {},
     "source": [
      "![Tree for vehicle data](images/tree_vehicles.png)"
     ]
    },
    {
     "cell_type": "markdown",
     "metadata": {},
     "source": [
      "Reading the internal nodes:\n",
      "\n",
      "- **samples:** number of observations in that node before splitting\n",
      "- **mse:** MSE calculated by comparing the actual response values in that node against the mean response value in that node\n",
      "- **rule:** rule used to split that node (go left if true, go right if false)\n",
      "\n",
      "Reading the leaves:\n",
      "\n",
      "- **samples:** number of observations in that node\n",
      "- **value:** mean response value in that node\n",
      "- **mse:** MSE calculated by comparing the actual response values in that node against \"value\""
     ]
    },
    {
     "cell_type": "markdown",
     "metadata": {},
     "source": [
      "## Making predictions for the testing data"
     ]
    },
    {
     "cell_type": "code",
     "collapsed": false,
     "input": [
      "# read the testing data\n",
      "url = 'https://raw.githubusercontent.com/justmarkham/DAT7/master/data/vehicles_test.csv'\n",
      "test = pd.read_csv(url)\n",
      "test['vtype'] = test.vtype.map({'car':0, 'truck':1})\n",
      "test"
     ],
     "language": "python",
     "metadata": {},
     "outputs": [
      {
       "html": [
        "<div style=\"max-width:1500px;overflow:auto;\">\n",
        "<table border=\"1\" class=\"dataframe\">\n",
        "  <thead>\n",
        "    <tr style=\"text-align: right;\">\n",
        "      <th></th>\n",
        "      <th>price</th>\n",
        "      <th>year</th>\n",
        "      <th>miles</th>\n",
        "      <th>doors</th>\n",
        "      <th>vtype</th>\n",
        "    </tr>\n",
        "  </thead>\n",
        "  <tbody>\n",
        "    <tr>\n",
        "      <th>0</th>\n",
        "      <td>3000</td>\n",
        "      <td>2003</td>\n",
        "      <td>130000</td>\n",
        "      <td>4</td>\n",
        "      <td>1</td>\n",
        "    </tr>\n",
        "    <tr>\n",
        "      <th>1</th>\n",
        "      <td>6000</td>\n",
        "      <td>2005</td>\n",
        "      <td>82500</td>\n",
        "      <td>4</td>\n",
        "      <td>0</td>\n",
        "    </tr>\n",
        "    <tr>\n",
        "      <th>2</th>\n",
        "      <td>12000</td>\n",
        "      <td>2010</td>\n",
        "      <td>60000</td>\n",
        "      <td>2</td>\n",
        "      <td>0</td>\n",
        "    </tr>\n",
        "  </tbody>\n",
        "</table>\n",
        "</div>"
       ],
       "metadata": {},
       "output_type": "pyout",
       "prompt_number": 17,
       "text": [
        "   price  year   miles  doors  vtype\n",
        "0   3000  2003  130000      4      1\n",
        "1   6000  2005   82500      4      0\n",
        "2  12000  2010   60000      2      0"
       ]
      }
     ],
     "prompt_number": 17
    },
    {
     "cell_type": "markdown",
     "metadata": {},
     "source": [
      "**Question:** Using the tree diagram above, what predictions will the model make for each observation?"
     ]
    },
    {
     "cell_type": "code",
     "collapsed": false,
     "input": [
      "# use fitted model to make predictions on testing data\n",
      "X_test = test[feature_cols]\n",
      "y_test = test.price\n",
      "y_pred = treereg.predict(X_test)\n",
      "y_pred"
     ],
     "language": "python",
     "metadata": {},
     "outputs": [
      {
       "metadata": {},
       "output_type": "pyout",
       "prompt_number": 18,
       "text": [
        "array([  4000.,   5000.,  13500.])"
       ]
      }
     ],
     "prompt_number": 18
    },
    {
     "cell_type": "code",
     "collapsed": false,
     "input": [
      "# calculate RMSE\n",
      "np.sqrt(metrics.mean_squared_error(y_test, y_pred))"
     ],
     "language": "python",
     "metadata": {},
     "outputs": [
      {
       "metadata": {},
       "output_type": "pyout",
       "prompt_number": 19,
       "text": [
        "1190.2380714238084"
       ]
      }
     ],
     "prompt_number": 19
    },
    {
     "cell_type": "code",
     "collapsed": false,
     "input": [
      "# calculate RMSE for your own tree!\n",
      "y_test = [3000, 6000, 12000]\n",
      "y_pred = [0, 0, 0]\n",
      "from sklearn import metrics\n",
      "np.sqrt(metrics.mean_squared_error(y_test, y_pred))"
     ],
     "language": "python",
     "metadata": {},
     "outputs": [
      {
       "metadata": {},
       "output_type": "pyout",
       "prompt_number": 20,
       "text": [
        "7937.2539331937714"
       ]
      }
     ],
     "prompt_number": 20
    },
    {
     "cell_type": "markdown",
     "metadata": {},
     "source": [
      "# Part 2: Classification trees\n",
      "\n",
      "**Example:** Predict whether Barack Obama or Hillary Clinton will win the Democratic primary in a particular county in 2008:"
     ]
    },
    {
     "cell_type": "markdown",
     "metadata": {},
     "source": [
      "![Obama-Clinton decision tree](images/obama_clinton_tree.jpg)"
     ]
    },
    {
     "cell_type": "markdown",
     "metadata": {},
     "source": [
      "**Questions:**\n",
      "\n",
      "- What are the observations? How many observations are there?\n",
      "- What is the response variable?\n",
      "- What are the features?\n",
      "- What is the most predictive feature?\n",
      "- Why does the tree split on high school graduation rate twice in a row?\n",
      "- What is the class prediction for the following county: 15% African-American, 90% high school graduation rate, located in the South, high poverty, high population density?\n",
      "- What is the predicted probability for that same county?"
     ]
    },
    {
     "cell_type": "markdown",
     "metadata": {},
     "source": [
      "## Comparing regression trees and classification trees\n",
      "\n",
      "|regression trees|classification trees|\n",
      "|---|---|\n",
      "|predict a continuous response|predict a categorical response|\n",
      "|predict using mean response of each leaf|predict using most commonly occuring class of each leaf|\n",
      "|splits are chosen to minimize MSE|splits are chosen to minimize Gini index (discussed below)|"
     ]
    },
    {
     "cell_type": "markdown",
     "metadata": {},
     "source": [
      "## Splitting criteria for classification trees\n",
      "\n",
      "Common options for the splitting criteria:\n",
      "\n",
      "- **classification error rate:** fraction of training observations in a region that don't belong to the most common class\n",
      "- **Gini index:** measure of total variance across classes in a region"
     ]
    },
    {
     "cell_type": "markdown",
     "metadata": {},
     "source": [
      "### Example of classification error rate\n",
      "\n",
      "Pretend we are predicting whether someone buys an iPhone or an Android:\n",
      "\n",
      "- At a particular node, there are **25 observations** (phone buyers), of whom **10 bought iPhones and 15 bought Androids**.\n",
      "- Since the majority class is **Android**, that's our prediction for all 25 observations, and thus the classification error rate is **10/25 = 40%**.\n",
      "\n",
      "Our goal in making splits is to **reduce the classification error rate**. Let's try splitting on gender:\n",
      "\n",
      "- **Males:** 2 iPhones and 12 Androids, thus the predicted class is Android\n",
      "- **Females:** 8 iPhones and 3 Androids, thus the predicted class is iPhone\n",
      "- Classification error rate after this split would be **5/25 = 20%**\n",
      "\n",
      "Compare that with a split on age:\n",
      "\n",
      "- **30 or younger:** 4 iPhones and 8 Androids, thus the predicted class is Android\n",
      "- **31 or older:** 6 iPhones and 7 Androids, thus the predicted class is Android\n",
      "- Classification error rate after this split would be **10/25 = 40%**\n",
      "\n",
      "The decision tree algorithm will try **every possible split across all features**, and choose the split that **reduces the error rate the most.**"
     ]
    },
    {
     "cell_type": "markdown",
     "metadata": {},
     "source": [
      "### Example of Gini index\n",
      "\n",
      "Calculate the Gini index before making a split:\n",
      "\n",
      "$$1 - \\left(\\frac {iPhone} {Total}\\right)^2 - \\left(\\frac {Android} {Total}\\right)^2 = 1 - \\left(\\frac {10} {25}\\right)^2 - \\left(\\frac {15} {25}\\right)^2 = 0.48$$\n",
      "\n",
      "- The **maximum value** of the Gini index is 0.5, and occurs when the classes are perfectly balanced in a node.\n",
      "- The **minimum value** of the Gini index is 0, and occurs when there is only one class represented in a node.\n",
      "- A node with a lower Gini index is said to be more \"pure\".\n",
      "\n",
      "Evaluating the split on **gender** using Gini index:\n",
      "\n",
      "$$\\text{Males: } 1 - \\left(\\frac {2} {14}\\right)^2 - \\left(\\frac {12} {14}\\right)^2 = 0.24$$\n",
      "$$\\text{Females: } 1 - \\left(\\frac {8} {11}\\right)^2 - \\left(\\frac {3} {11}\\right)^2 = 0.40$$\n",
      "$$\\text{Weighted Average: } 0.24 \\left(\\frac {14} {25}\\right) + 0.40 \\left(\\frac {11} {25}\\right) = 0.31$$\n",
      "\n",
      "Evaluating the split on **age** using Gini index:\n",
      "\n",
      "$$\\text{30 or younger: } 1 - \\left(\\frac {4} {12}\\right)^2 - \\left(\\frac {8} {12}\\right)^2 = 0.44$$\n",
      "$$\\text{31 or older: } 1 - \\left(\\frac {6} {13}\\right)^2 - \\left(\\frac {7} {13}\\right)^2 = 0.50$$\n",
      "$$\\text{Weighted Average: } 0.44 \\left(\\frac {12} {25}\\right) + 0.50 \\left(\\frac {13} {25}\\right) = 0.47$$\n",
      "\n",
      "Again, the decision tree algorithm will try **every possible split**, and will choose the split that **reduces the Gini index (and thus increases the \"node purity\") the most.**"
     ]
    },
    {
     "cell_type": "markdown",
     "metadata": {},
     "source": [
      "### Comparing classification error rate and Gini index\n",
      "\n",
      "- Gini index is generally preferred because it will make splits that **increase node purity**, even if that split does not change the classification error rate.\n",
      "- Node purity is important because we're interested in the **class proportions** in each region, since that's how we calculate the **predicted probability** of each class.\n",
      "- scikit-learn's default splitting criteria for classification trees is Gini index.\n",
      "\n",
      "Note: There is another common splitting criteria called **cross-entropy**. It's numerically similar to Gini index, but slower to compute, thus it's not as popular as Gini index."
     ]
    },
    {
     "cell_type": "markdown",
     "metadata": {},
     "source": [
      "## Building a classification tree in scikit-learn"
     ]
    },
    {
     "cell_type": "markdown",
     "metadata": {},
     "source": [
      "We'll build a classification tree using the Titanic data:"
     ]
    },
    {
     "cell_type": "code",
     "collapsed": false,
     "input": [
      "# read in the data\n",
      "url = 'https://raw.githubusercontent.com/justmarkham/DAT7/master/data/titanic.csv'\n",
      "titanic = pd.read_csv(url)\n",
      "titanic.head(10)"
     ],
     "language": "python",
     "metadata": {},
     "outputs": [
      {
       "html": [
        "<div style=\"max-width:1500px;overflow:auto;\">\n",
        "<table border=\"1\" class=\"dataframe\">\n",
        "  <thead>\n",
        "    <tr style=\"text-align: right;\">\n",
        "      <th></th>\n",
        "      <th>PassengerId</th>\n",
        "      <th>Survived</th>\n",
        "      <th>Pclass</th>\n",
        "      <th>Name</th>\n",
        "      <th>Sex</th>\n",
        "      <th>Age</th>\n",
        "      <th>SibSp</th>\n",
        "      <th>Parch</th>\n",
        "      <th>Ticket</th>\n",
        "      <th>Fare</th>\n",
        "      <th>Cabin</th>\n",
        "      <th>Embarked</th>\n",
        "    </tr>\n",
        "  </thead>\n",
        "  <tbody>\n",
        "    <tr>\n",
        "      <th>0</th>\n",
        "      <td>1</td>\n",
        "      <td>0</td>\n",
        "      <td>3</td>\n",
        "      <td>Braund, Mr. Owen Harris</td>\n",
        "      <td>male</td>\n",
        "      <td>22</td>\n",
        "      <td>1</td>\n",
        "      <td>0</td>\n",
        "      <td>A/5 21171</td>\n",
        "      <td>7.2500</td>\n",
        "      <td>NaN</td>\n",
        "      <td>S</td>\n",
        "    </tr>\n",
        "    <tr>\n",
        "      <th>1</th>\n",
        "      <td>2</td>\n",
        "      <td>1</td>\n",
        "      <td>1</td>\n",
        "      <td>Cumings, Mrs. John Bradley (Florence Briggs Th...</td>\n",
        "      <td>female</td>\n",
        "      <td>38</td>\n",
        "      <td>1</td>\n",
        "      <td>0</td>\n",
        "      <td>PC 17599</td>\n",
        "      <td>71.2833</td>\n",
        "      <td>C85</td>\n",
        "      <td>C</td>\n",
        "    </tr>\n",
        "    <tr>\n",
        "      <th>2</th>\n",
        "      <td>3</td>\n",
        "      <td>1</td>\n",
        "      <td>3</td>\n",
        "      <td>Heikkinen, Miss. Laina</td>\n",
        "      <td>female</td>\n",
        "      <td>26</td>\n",
        "      <td>0</td>\n",
        "      <td>0</td>\n",
        "      <td>STON/O2. 3101282</td>\n",
        "      <td>7.9250</td>\n",
        "      <td>NaN</td>\n",
        "      <td>S</td>\n",
        "    </tr>\n",
        "    <tr>\n",
        "      <th>3</th>\n",
        "      <td>4</td>\n",
        "      <td>1</td>\n",
        "      <td>1</td>\n",
        "      <td>Futrelle, Mrs. Jacques Heath (Lily May Peel)</td>\n",
        "      <td>female</td>\n",
        "      <td>35</td>\n",
        "      <td>1</td>\n",
        "      <td>0</td>\n",
        "      <td>113803</td>\n",
        "      <td>53.1000</td>\n",
        "      <td>C123</td>\n",
        "      <td>S</td>\n",
        "    </tr>\n",
        "    <tr>\n",
        "      <th>4</th>\n",
        "      <td>5</td>\n",
        "      <td>0</td>\n",
        "      <td>3</td>\n",
        "      <td>Allen, Mr. William Henry</td>\n",
        "      <td>male</td>\n",
        "      <td>35</td>\n",
        "      <td>0</td>\n",
        "      <td>0</td>\n",
        "      <td>373450</td>\n",
        "      <td>8.0500</td>\n",
        "      <td>NaN</td>\n",
        "      <td>S</td>\n",
        "    </tr>\n",
        "    <tr>\n",
        "      <th>5</th>\n",
        "      <td>6</td>\n",
        "      <td>0</td>\n",
        "      <td>3</td>\n",
        "      <td>Moran, Mr. James</td>\n",
        "      <td>male</td>\n",
        "      <td>NaN</td>\n",
        "      <td>0</td>\n",
        "      <td>0</td>\n",
        "      <td>330877</td>\n",
        "      <td>8.4583</td>\n",
        "      <td>NaN</td>\n",
        "      <td>Q</td>\n",
        "    </tr>\n",
        "    <tr>\n",
        "      <th>6</th>\n",
        "      <td>7</td>\n",
        "      <td>0</td>\n",
        "      <td>1</td>\n",
        "      <td>McCarthy, Mr. Timothy J</td>\n",
        "      <td>male</td>\n",
        "      <td>54</td>\n",
        "      <td>0</td>\n",
        "      <td>0</td>\n",
        "      <td>17463</td>\n",
        "      <td>51.8625</td>\n",
        "      <td>E46</td>\n",
        "      <td>S</td>\n",
        "    </tr>\n",
        "    <tr>\n",
        "      <th>7</th>\n",
        "      <td>8</td>\n",
        "      <td>0</td>\n",
        "      <td>3</td>\n",
        "      <td>Palsson, Master. Gosta Leonard</td>\n",
        "      <td>male</td>\n",
        "      <td>2</td>\n",
        "      <td>3</td>\n",
        "      <td>1</td>\n",
        "      <td>349909</td>\n",
        "      <td>21.0750</td>\n",
        "      <td>NaN</td>\n",
        "      <td>S</td>\n",
        "    </tr>\n",
        "    <tr>\n",
        "      <th>8</th>\n",
        "      <td>9</td>\n",
        "      <td>1</td>\n",
        "      <td>3</td>\n",
        "      <td>Johnson, Mrs. Oscar W (Elisabeth Vilhelmina Berg)</td>\n",
        "      <td>female</td>\n",
        "      <td>27</td>\n",
        "      <td>0</td>\n",
        "      <td>2</td>\n",
        "      <td>347742</td>\n",
        "      <td>11.1333</td>\n",
        "      <td>NaN</td>\n",
        "      <td>S</td>\n",
        "    </tr>\n",
        "    <tr>\n",
        "      <th>9</th>\n",
        "      <td>10</td>\n",
        "      <td>1</td>\n",
        "      <td>2</td>\n",
        "      <td>Nasser, Mrs. Nicholas (Adele Achem)</td>\n",
        "      <td>female</td>\n",
        "      <td>14</td>\n",
        "      <td>1</td>\n",
        "      <td>0</td>\n",
        "      <td>237736</td>\n",
        "      <td>30.0708</td>\n",
        "      <td>NaN</td>\n",
        "      <td>C</td>\n",
        "    </tr>\n",
        "  </tbody>\n",
        "</table>\n",
        "</div>"
       ],
       "metadata": {},
       "output_type": "pyout",
       "prompt_number": 21,
       "text": [
        "   PassengerId  Survived  Pclass  \\\n",
        "0            1         0       3   \n",
        "1            2         1       1   \n",
        "2            3         1       3   \n",
        "3            4         1       1   \n",
        "4            5         0       3   \n",
        "5            6         0       3   \n",
        "6            7         0       1   \n",
        "7            8         0       3   \n",
        "8            9         1       3   \n",
        "9           10         1       2   \n",
        "\n",
        "                                                Name     Sex  Age  SibSp  \\\n",
        "0                            Braund, Mr. Owen Harris    male   22      1   \n",
        "1  Cumings, Mrs. John Bradley (Florence Briggs Th...  female   38      1   \n",
        "2                             Heikkinen, Miss. Laina  female   26      0   \n",
        "3       Futrelle, Mrs. Jacques Heath (Lily May Peel)  female   35      1   \n",
        "4                           Allen, Mr. William Henry    male   35      0   \n",
        "5                                   Moran, Mr. James    male  NaN      0   \n",
        "6                            McCarthy, Mr. Timothy J    male   54      0   \n",
        "7                     Palsson, Master. Gosta Leonard    male    2      3   \n",
        "8  Johnson, Mrs. Oscar W (Elisabeth Vilhelmina Berg)  female   27      0   \n",
        "9                Nasser, Mrs. Nicholas (Adele Achem)  female   14      1   \n",
        "\n",
        "   Parch            Ticket     Fare Cabin Embarked  \n",
        "0      0         A/5 21171   7.2500   NaN        S  \n",
        "1      0          PC 17599  71.2833   C85        C  \n",
        "2      0  STON/O2. 3101282   7.9250   NaN        S  \n",
        "3      0            113803  53.1000  C123        S  \n",
        "4      0            373450   8.0500   NaN        S  \n",
        "5      0            330877   8.4583   NaN        Q  \n",
        "6      0             17463  51.8625   E46        S  \n",
        "7      1            349909  21.0750   NaN        S  \n",
        "8      2            347742  11.1333   NaN        S  \n",
        "9      0            237736  30.0708   NaN        C  "
       ]
      }
     ],
     "prompt_number": 21
    },
    {
     "cell_type": "markdown",
     "metadata": {},
     "source": [
      "What special handling do we need to apply (if any) to the following columns?\n",
      "\n",
      "- **Survived:** 1=survived, 0=passed away (response variable)\n",
      "- **Pclass:** 1=first class, 2=second class, 3=third class\n",
      "    - What will happen if the tree splits on this feature?\n",
      "- **Sex:** male or female\n",
      "- **Age:** numeric value\n",
      "- **Embarked:** C or Q or S"
     ]
    },
    {
     "cell_type": "code",
     "collapsed": false,
     "input": [
      "# encode female as 0 and male as 1\n",
      "titanic['Sex'] = titanic.Sex.map({'female':0, 'male':1})\n",
      "\n",
      "# fill in the missing values for age with the mean age\n",
      "titanic.Age.fillna(titanic.Age.mean(), inplace=True)\n",
      "\n",
      "# create three dummy variables, drop the first dummy variable, and store the two remaining columns as a DataFrame\n",
      "embarked_dummies = pd.get_dummies(titanic.Embarked, prefix='Embarked').iloc[:, 1:]\n",
      "\n",
      "# concatenate the two dummy variable columns onto the original DataFrame\n",
      "titanic = pd.concat([titanic, embarked_dummies], axis=1)\n",
      "\n",
      "# print the updated DataFrame\n",
      "titanic.head(10)"
     ],
     "language": "python",
     "metadata": {},
     "outputs": [
      {
       "html": [
        "<div style=\"max-width:1500px;overflow:auto;\">\n",
        "<table border=\"1\" class=\"dataframe\">\n",
        "  <thead>\n",
        "    <tr style=\"text-align: right;\">\n",
        "      <th></th>\n",
        "      <th>PassengerId</th>\n",
        "      <th>Survived</th>\n",
        "      <th>Pclass</th>\n",
        "      <th>Name</th>\n",
        "      <th>Sex</th>\n",
        "      <th>Age</th>\n",
        "      <th>SibSp</th>\n",
        "      <th>Parch</th>\n",
        "      <th>Ticket</th>\n",
        "      <th>Fare</th>\n",
        "      <th>Cabin</th>\n",
        "      <th>Embarked</th>\n",
        "      <th>Embarked_Q</th>\n",
        "      <th>Embarked_S</th>\n",
        "    </tr>\n",
        "  </thead>\n",
        "  <tbody>\n",
        "    <tr>\n",
        "      <th>0</th>\n",
        "      <td>1</td>\n",
        "      <td>0</td>\n",
        "      <td>3</td>\n",
        "      <td>Braund, Mr. Owen Harris</td>\n",
        "      <td>1</td>\n",
        "      <td>22.000000</td>\n",
        "      <td>1</td>\n",
        "      <td>0</td>\n",
        "      <td>A/5 21171</td>\n",
        "      <td>7.2500</td>\n",
        "      <td>NaN</td>\n",
        "      <td>S</td>\n",
        "      <td>0</td>\n",
        "      <td>1</td>\n",
        "    </tr>\n",
        "    <tr>\n",
        "      <th>1</th>\n",
        "      <td>2</td>\n",
        "      <td>1</td>\n",
        "      <td>1</td>\n",
        "      <td>Cumings, Mrs. John Bradley (Florence Briggs Th...</td>\n",
        "      <td>0</td>\n",
        "      <td>38.000000</td>\n",
        "      <td>1</td>\n",
        "      <td>0</td>\n",
        "      <td>PC 17599</td>\n",
        "      <td>71.2833</td>\n",
        "      <td>C85</td>\n",
        "      <td>C</td>\n",
        "      <td>0</td>\n",
        "      <td>0</td>\n",
        "    </tr>\n",
        "    <tr>\n",
        "      <th>2</th>\n",
        "      <td>3</td>\n",
        "      <td>1</td>\n",
        "      <td>3</td>\n",
        "      <td>Heikkinen, Miss. Laina</td>\n",
        "      <td>0</td>\n",
        "      <td>26.000000</td>\n",
        "      <td>0</td>\n",
        "      <td>0</td>\n",
        "      <td>STON/O2. 3101282</td>\n",
        "      <td>7.9250</td>\n",
        "      <td>NaN</td>\n",
        "      <td>S</td>\n",
        "      <td>0</td>\n",
        "      <td>1</td>\n",
        "    </tr>\n",
        "    <tr>\n",
        "      <th>3</th>\n",
        "      <td>4</td>\n",
        "      <td>1</td>\n",
        "      <td>1</td>\n",
        "      <td>Futrelle, Mrs. Jacques Heath (Lily May Peel)</td>\n",
        "      <td>0</td>\n",
        "      <td>35.000000</td>\n",
        "      <td>1</td>\n",
        "      <td>0</td>\n",
        "      <td>113803</td>\n",
        "      <td>53.1000</td>\n",
        "      <td>C123</td>\n",
        "      <td>S</td>\n",
        "      <td>0</td>\n",
        "      <td>1</td>\n",
        "    </tr>\n",
        "    <tr>\n",
        "      <th>4</th>\n",
        "      <td>5</td>\n",
        "      <td>0</td>\n",
        "      <td>3</td>\n",
        "      <td>Allen, Mr. William Henry</td>\n",
        "      <td>1</td>\n",
        "      <td>35.000000</td>\n",
        "      <td>0</td>\n",
        "      <td>0</td>\n",
        "      <td>373450</td>\n",
        "      <td>8.0500</td>\n",
        "      <td>NaN</td>\n",
        "      <td>S</td>\n",
        "      <td>0</td>\n",
        "      <td>1</td>\n",
        "    </tr>\n",
        "    <tr>\n",
        "      <th>5</th>\n",
        "      <td>6</td>\n",
        "      <td>0</td>\n",
        "      <td>3</td>\n",
        "      <td>Moran, Mr. James</td>\n",
        "      <td>1</td>\n",
        "      <td>29.699118</td>\n",
        "      <td>0</td>\n",
        "      <td>0</td>\n",
        "      <td>330877</td>\n",
        "      <td>8.4583</td>\n",
        "      <td>NaN</td>\n",
        "      <td>Q</td>\n",
        "      <td>1</td>\n",
        "      <td>0</td>\n",
        "    </tr>\n",
        "    <tr>\n",
        "      <th>6</th>\n",
        "      <td>7</td>\n",
        "      <td>0</td>\n",
        "      <td>1</td>\n",
        "      <td>McCarthy, Mr. Timothy J</td>\n",
        "      <td>1</td>\n",
        "      <td>54.000000</td>\n",
        "      <td>0</td>\n",
        "      <td>0</td>\n",
        "      <td>17463</td>\n",
        "      <td>51.8625</td>\n",
        "      <td>E46</td>\n",
        "      <td>S</td>\n",
        "      <td>0</td>\n",
        "      <td>1</td>\n",
        "    </tr>\n",
        "    <tr>\n",
        "      <th>7</th>\n",
        "      <td>8</td>\n",
        "      <td>0</td>\n",
        "      <td>3</td>\n",
        "      <td>Palsson, Master. Gosta Leonard</td>\n",
        "      <td>1</td>\n",
        "      <td>2.000000</td>\n",
        "      <td>3</td>\n",
        "      <td>1</td>\n",
        "      <td>349909</td>\n",
        "      <td>21.0750</td>\n",
        "      <td>NaN</td>\n",
        "      <td>S</td>\n",
        "      <td>0</td>\n",
        "      <td>1</td>\n",
        "    </tr>\n",
        "    <tr>\n",
        "      <th>8</th>\n",
        "      <td>9</td>\n",
        "      <td>1</td>\n",
        "      <td>3</td>\n",
        "      <td>Johnson, Mrs. Oscar W (Elisabeth Vilhelmina Berg)</td>\n",
        "      <td>0</td>\n",
        "      <td>27.000000</td>\n",
        "      <td>0</td>\n",
        "      <td>2</td>\n",
        "      <td>347742</td>\n",
        "      <td>11.1333</td>\n",
        "      <td>NaN</td>\n",
        "      <td>S</td>\n",
        "      <td>0</td>\n",
        "      <td>1</td>\n",
        "    </tr>\n",
        "    <tr>\n",
        "      <th>9</th>\n",
        "      <td>10</td>\n",
        "      <td>1</td>\n",
        "      <td>2</td>\n",
        "      <td>Nasser, Mrs. Nicholas (Adele Achem)</td>\n",
        "      <td>0</td>\n",
        "      <td>14.000000</td>\n",
        "      <td>1</td>\n",
        "      <td>0</td>\n",
        "      <td>237736</td>\n",
        "      <td>30.0708</td>\n",
        "      <td>NaN</td>\n",
        "      <td>C</td>\n",
        "      <td>0</td>\n",
        "      <td>0</td>\n",
        "    </tr>\n",
        "  </tbody>\n",
        "</table>\n",
        "</div>"
       ],
       "metadata": {},
       "output_type": "pyout",
       "prompt_number": 22,
       "text": [
        "   PassengerId  Survived  Pclass  \\\n",
        "0            1         0       3   \n",
        "1            2         1       1   \n",
        "2            3         1       3   \n",
        "3            4         1       1   \n",
        "4            5         0       3   \n",
        "5            6         0       3   \n",
        "6            7         0       1   \n",
        "7            8         0       3   \n",
        "8            9         1       3   \n",
        "9           10         1       2   \n",
        "\n",
        "                                                Name  Sex        Age  SibSp  \\\n",
        "0                            Braund, Mr. Owen Harris    1  22.000000      1   \n",
        "1  Cumings, Mrs. John Bradley (Florence Briggs Th...    0  38.000000      1   \n",
        "2                             Heikkinen, Miss. Laina    0  26.000000      0   \n",
        "3       Futrelle, Mrs. Jacques Heath (Lily May Peel)    0  35.000000      1   \n",
        "4                           Allen, Mr. William Henry    1  35.000000      0   \n",
        "5                                   Moran, Mr. James    1  29.699118      0   \n",
        "6                            McCarthy, Mr. Timothy J    1  54.000000      0   \n",
        "7                     Palsson, Master. Gosta Leonard    1   2.000000      3   \n",
        "8  Johnson, Mrs. Oscar W (Elisabeth Vilhelmina Berg)    0  27.000000      0   \n",
        "9                Nasser, Mrs. Nicholas (Adele Achem)    0  14.000000      1   \n",
        "\n",
        "   Parch            Ticket     Fare Cabin Embarked  Embarked_Q  Embarked_S  \n",
        "0      0         A/5 21171   7.2500   NaN        S           0           1  \n",
        "1      0          PC 17599  71.2833   C85        C           0           0  \n",
        "2      0  STON/O2. 3101282   7.9250   NaN        S           0           1  \n",
        "3      0            113803  53.1000  C123        S           0           1  \n",
        "4      0            373450   8.0500   NaN        S           0           1  \n",
        "5      0            330877   8.4583   NaN        Q           1           0  \n",
        "6      0             17463  51.8625   E46        S           0           1  \n",
        "7      1            349909  21.0750   NaN        S           0           1  \n",
        "8      2            347742  11.1333   NaN        S           0           1  \n",
        "9      0            237736  30.0708   NaN        C           0           0  "
       ]
      }
     ],
     "prompt_number": 22
    },
    {
     "cell_type": "code",
     "collapsed": false,
     "input": [
      "# define X and y\n",
      "feature_cols = ['Pclass', 'Sex', 'Age', 'Embarked_Q', 'Embarked_S']\n",
      "X = titanic[feature_cols]\n",
      "y = titanic.Survived"
     ],
     "language": "python",
     "metadata": {},
     "outputs": [],
     "prompt_number": 23
    },
    {
     "cell_type": "code",
     "collapsed": false,
     "input": [
      "# fit a classification tree with max_depth=3 on all data\n",
      "from sklearn.tree import DecisionTreeClassifier\n",
      "treeclf = DecisionTreeClassifier(max_depth=3, random_state=1)\n",
      "treeclf.fit(X, y)"
     ],
     "language": "python",
     "metadata": {},
     "outputs": [
      {
       "metadata": {},
       "output_type": "pyout",
       "prompt_number": 24,
       "text": [
        "DecisionTreeClassifier(compute_importances=None, criterion='gini',\n",
        "            max_depth=3, max_features=None, max_leaf_nodes=None,\n",
        "            min_density=None, min_samples_leaf=1, min_samples_split=2,\n",
        "            random_state=1, splitter='best')"
       ]
      }
     ],
     "prompt_number": 24
    },
    {
     "cell_type": "code",
     "collapsed": false,
     "input": [
      "# create a GraphViz file\n",
      "export_graphviz(treeclf, out_file='tree_titanic.dot', feature_names=feature_cols)\n",
      "\n",
      "# At the command line, run this to convert to PNG:\n",
      "# dot -Tpng tree_titanic.dot -o tree_titanic.png"
     ],
     "language": "python",
     "metadata": {},
     "outputs": [],
     "prompt_number": 25
    },
    {
     "cell_type": "markdown",
     "metadata": {},
     "source": [
      "![Tree for Titanic data](images/tree_titanic.png)"
     ]
    },
    {
     "cell_type": "markdown",
     "metadata": {},
     "source": [
      "Notice the split in the bottom right: the **same class** is predicted in both of its leaves. That split didn't affect the **classification error rate**, though it did increase the **node purity**, which is important because it increases the accuracy of our predicted probabilities."
     ]
    },
    {
     "cell_type": "code",
     "collapsed": false,
     "input": [
      "# compute the feature importances\n",
      "pd.DataFrame({'feature':feature_cols, 'importance':treeclf.feature_importances_})"
     ],
     "language": "python",
     "metadata": {},
     "outputs": [
      {
       "html": [
        "<div style=\"max-width:1500px;overflow:auto;\">\n",
        "<table border=\"1\" class=\"dataframe\">\n",
        "  <thead>\n",
        "    <tr style=\"text-align: right;\">\n",
        "      <th></th>\n",
        "      <th>feature</th>\n",
        "      <th>importance</th>\n",
        "    </tr>\n",
        "  </thead>\n",
        "  <tbody>\n",
        "    <tr>\n",
        "      <th>0</th>\n",
        "      <td>Pclass</td>\n",
        "      <td>0.242664</td>\n",
        "    </tr>\n",
        "    <tr>\n",
        "      <th>1</th>\n",
        "      <td>Sex</td>\n",
        "      <td>0.655584</td>\n",
        "    </tr>\n",
        "    <tr>\n",
        "      <th>2</th>\n",
        "      <td>Age</td>\n",
        "      <td>0.064494</td>\n",
        "    </tr>\n",
        "    <tr>\n",
        "      <th>3</th>\n",
        "      <td>Embarked_Q</td>\n",
        "      <td>0.000000</td>\n",
        "    </tr>\n",
        "    <tr>\n",
        "      <th>4</th>\n",
        "      <td>Embarked_S</td>\n",
        "      <td>0.037258</td>\n",
        "    </tr>\n",
        "  </tbody>\n",
        "</table>\n",
        "</div>"
       ],
       "metadata": {},
       "output_type": "pyout",
       "prompt_number": 26,
       "text": [
        "      feature  importance\n",
        "0      Pclass    0.242664\n",
        "1         Sex    0.655584\n",
        "2         Age    0.064494\n",
        "3  Embarked_Q    0.000000\n",
        "4  Embarked_S    0.037258"
       ]
      }
     ],
     "prompt_number": 26
    },
    {
     "cell_type": "markdown",
     "metadata": {},
     "source": [
      "# Part 3: Comparing decision trees with other models\n",
      "\n",
      "**Advantages of decision trees:**\n",
      "\n",
      "- Can be used for regression or classification\n",
      "- Can be displayed graphically\n",
      "- Highly interpretable\n",
      "- Can be specified as a series of rules, and more closely approximate human decision-making than other models\n",
      "- Prediction is fast\n",
      "- Features don't need scaling\n",
      "- Automatically learns feature interactions\n",
      "- Tends to ignore irrelevant features\n",
      "- Non-parametric (will outperform linear models if relationship between features and response is highly non-linear)"
     ]
    },
    {
     "cell_type": "markdown",
     "metadata": {},
     "source": [
      "![Trees versus linear models](images/tree_vs_linear.png)"
     ]
    },
    {
     "cell_type": "markdown",
     "metadata": {},
     "source": [
      "**Disadvantages of decision trees:**\n",
      "\n",
      "- Performance is (generally) not competitive with the best supervised learning methods\n",
      "- Can easily overfit the training data (tuning is required)\n",
      "- Small variations in the data can result in a completely different tree (high variance)\n",
      "- Recursive binary splitting makes \"locally optimal\" decisions that may not result in a globally optimal tree\n",
      "- Doesn't tend to work well if the classes are highly unbalanced\n",
      "- Doesn't tend to work well with very small datasets"
     ]
    }
   ],
   "metadata": {}
  }
 ]
}