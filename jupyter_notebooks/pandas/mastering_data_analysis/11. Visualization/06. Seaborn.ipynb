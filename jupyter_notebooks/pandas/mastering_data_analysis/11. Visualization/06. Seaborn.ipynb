{
 "cells": [
  {
   "cell_type": "markdown",
   "metadata": {},
   "source": [
    "# Seaborn\n",
    "\n",
    "This chapter covers the Seaborn visualization library in Python. Seaborn has a high-level, easy-to-use interface for creating powerful and beautiful visualizations. Seaborn relies on matplotlib to do all the heavy lifting. Sometimes, Seaborn is referred to as a **wrapper** for matplotlib, a library which is more difficult to use but provides more fine-grained control.\n",
    "\n",
    "The [Seaborn documentation][1] is good and fairly concise. You will be well-served to read all of it. The library is fairly minimal and only exposes a relatively few amount of functions.\n",
    "\n",
    "### Seaborn integration with pandas\n",
    "Nearly all Seaborn plotting functions contain a `data` parameter that accepts a pandas DataFrame. This allows you to use **strings** of the column names for the function arguments.\n",
    "\n",
    "### Seaborn and Tidy data\n",
    "Seaborn plotting functions work best with tidy data. Tidy data makes plotting with seaborn easy. The three tidy principles are:\n",
    "\n",
    "* Every variable forms a column\n",
    "* Every row forms an observation\n",
    "* Each observational unit forms its own table\n",
    "\n",
    "### The three categories of plots - Distribution plots, Grouping and aggregating plots, and Raw Data plots\n",
    "I like to segregate Seaborn plotting functions into three categories:\n",
    "\n",
    "* **Distribution plots** - These plots show the distribution of some set of points of a continuous valued variable. Examples of these are box, violin, histogram and KDE plots\n",
    "* **Grouping and aggregating** - These plots group by some categorical variable and aggregate another. For example, in the employee dataset below, we can use a bar plot to find the average salary by race. Examples of these plots are bar, count, and point plots. Seaborn also allows for aggregation with line plots.\n",
    "* **Raw data plots** - These plots do not do anything to the data other than display it. Some examples are scatter and line plots along with heatmaps.\n",
    "\n",
    "### The four common Seaborn plotting function parameters - `x`, `y`, `hue`, and `data`\n",
    "The Seaborn API is easy to use and most of the plotting functions look very similar. They syntax will look like this:\n",
    "\n",
    "```sns.plotting_func(x='col1', y='col2', hue='col3', data=df)```\n",
    "\n",
    "You will always pass your DataFrame to the `data` parameter. For univariate plots, you can use exactly one of `x` or `y`. The `hue` parameter adds an extra level of dimensionality by splitting and coloring the data by a third variable. \n",
    "\n",
    "### Read in City of Houston Employee Data\n",
    "We will start with a public dataset produced from the City of Houston. The data is tidy and ready to be immediately visualized with Seaborn.\n",
    "\n",
    "[1]: http://seaborn.pydata.org/index.html\n",
    "[2]: http://seaborn.pydata.org/api.html"
   ]
  },
  {
   "cell_type": "code",
   "execution_count": null,
   "metadata": {},
   "outputs": [],
   "source": [
    "%matplotlib inline\n",
    "\n",
    "import seaborn as sns\n",
    "import numpy as np\n",
    "import pandas as pd\n",
    "import matplotlib.pyplot as plt\n",
    "\n",
    "import warnings\n",
    "warnings.filterwarnings('ignore')\n",
    "\n",
    "emp = pd.read_csv('../data/employee.csv', parse_dates=['hire_date'])\n",
    "emp['experience'] = 2016 - emp['hire_date'].dt.year\n",
    "emp['experience_level'] = pd.cut(emp['experience'], \n",
    "                                 bins=[0, 5, 15, 100], \n",
    "                                 labels=['Novice', 'Experienced', 'Veteran'])\n",
    "emp.head()"
   ]
  },
  {
   "cell_type": "code",
   "execution_count": null,
   "metadata": {},
   "outputs": [],
   "source": [
    "emp.shape"
   ]
  },
  {
   "cell_type": "markdown",
   "metadata": {},
   "source": [
    "### The Seaborn API Page\n",
    "Please open the [Seaborn API][1] to get a nice overview of the library. The top of the API contains the main categories of plotting functions. These categories are currently:\n",
    "\n",
    "* Relational\n",
    "* Categorical\n",
    "* Distribution\n",
    "* Regression\n",
    "* Matrix\n",
    "\n",
    "These categories contain essentially all the plotting functions in the library. The other sections cover less important topics such as making specific grids and aesthetics. This chapter will only focus on the plots in the above categories.\n",
    "\n",
    "[1]: http://seaborn.pydata.org/api.html"
   ]
  },
  {
   "cell_type": "markdown",
   "metadata": {},
   "source": [
    "## Distribution Plots\n",
    "If you look at the Seaborn API, you'll notice a section on distribution plots. Unfortunately this isn't labeled properly as there are multiple distribution plotting functions found in other categories. The following are the distribution plots:\n",
    "\n",
    "### Most common  \n",
    "\n",
    "* boxplot\n",
    "* violinplot\n",
    "* distplot\n",
    "\n",
    "### Others  \n",
    "\n",
    "* stripplot\n",
    "* swarmplot\n",
    "* boxenplot\n",
    "* jointplot - does both raw data plotting and distribution plots"
   ]
  },
  {
   "cell_type": "markdown",
   "metadata": {},
   "source": [
    "## Univariate Distribution Plots\n",
    "Let's begin by plotting the distribution of a single variable. The data that is used for the distribution must be **numeric**.\n",
    "\n",
    "Let's create a boxplot of the salary. Most Seaborn plotting functions have both `x` and `y` parameters. For these univariate plots, we need to specify just one."
   ]
  },
  {
   "cell_type": "code",
   "execution_count": null,
   "metadata": {},
   "outputs": [],
   "source": [
    "sns.boxplot(x='salary', data=emp);"
   ]
  },
  {
   "cell_type": "markdown",
   "metadata": {},
   "source": [
    "Make the boxplot vertical by using **`y`**."
   ]
  },
  {
   "cell_type": "code",
   "execution_count": null,
   "metadata": {},
   "outputs": [],
   "source": [
    "sns.boxplot(y='salary', data=emp);"
   ]
  },
  {
   "cell_type": "markdown",
   "metadata": {},
   "source": [
    "### Violin plot\n",
    "Violin plots create estimate the probability distribution of continuous variables by computing the [kernel density estimate (KDE)][1]. The KDE is very similar to a histogram and is essentially a continuous smoothed histogram. The KDE is duplicated and plotted on two sides. I don't particularly like violin plots because they show the exact same data twice.\n",
    "\n",
    "Below, the distribution of the experience is plotted as a violin plot.\n",
    "\n",
    "[1]: https://en.wikipedia.org/wiki/Kernel_density_estimation"
   ]
  },
  {
   "cell_type": "code",
   "execution_count": null,
   "metadata": {},
   "outputs": [],
   "source": [
    "sns.violinplot(x='experience', data=emp);"
   ]
  },
  {
   "cell_type": "markdown",
   "metadata": {},
   "source": [
    "Again, change its orientation by passing the column name to `y`."
   ]
  },
  {
   "cell_type": "code",
   "execution_count": null,
   "metadata": {},
   "outputs": [],
   "source": [
    "sns.violinplot(y='experience', data=emp);"
   ]
  },
  {
   "cell_type": "markdown",
   "metadata": {},
   "source": [
    "### KDE and Histograms\n",
    "Seaborn has a single function, `distplot`, to plot both histograms and the KDE. Unfortunately, this function does not follow the same patterns as the other. There is no `data` parameter. Instead, the first parameter must be either a Pandas Series or a NumPy array of the data you would like to use.\n",
    "\n",
    "By default, it plots both the histogram and the KDE."
   ]
  },
  {
   "cell_type": "code",
   "execution_count": null,
   "metadata": {},
   "outputs": [],
   "source": [
    "sns.distplot(emp['experience']);"
   ]
  },
  {
   "cell_type": "markdown",
   "metadata": {},
   "source": [
    "Plot only the KDE. and Notice the similarity to the violin plot."
   ]
  },
  {
   "cell_type": "code",
   "execution_count": null,
   "metadata": {},
   "outputs": [],
   "source": [
    "sns.distplot(emp['experience'], hist=False);"
   ]
  },
  {
   "cell_type": "markdown",
   "metadata": {},
   "source": [
    "Plot horizontally:"
   ]
  },
  {
   "cell_type": "code",
   "execution_count": null,
   "metadata": {},
   "outputs": [],
   "source": [
    "sns.distplot(emp['experience'], hist=False, vertical=True);"
   ]
  },
  {
   "cell_type": "markdown",
   "metadata": {},
   "source": [
    "Plot just histogram with a specific number of bins."
   ]
  },
  {
   "cell_type": "code",
   "execution_count": null,
   "metadata": {},
   "outputs": [],
   "source": [
    "sns.distplot(emp['experience'], bins=50, kde=False);"
   ]
  },
  {
   "cell_type": "markdown",
   "metadata": {},
   "source": [
    "## Multivariate Distribution Plots\n",
    "The above plots are quite simple and use just a single variable. But, what if we were interested in finding a box plot of salary based on the department. This is where Seaborn shines. It is able to split data by unique values in a categorical variable and then make a distribution plot for each category.\n",
    "\n",
    "### Boxplot of salary by department\n",
    "With Seaborn, it is quite easy to do this task. We simply use both `x` and `y` parameters."
   ]
  },
  {
   "cell_type": "code",
   "execution_count": null,
   "metadata": {},
   "outputs": [],
   "source": [
    "sns.boxplot(x='dept', y='salary', data=emp);"
   ]
  },
  {
   "cell_type": "markdown",
   "metadata": {},
   "source": [
    "### Changing the size of the figure\n",
    "Those overlapping x-labels are hideous. Let's change that by enlarging our figure. This is one area where Seaborn fails. We are forced to use Matplotlib. We set the size of the Figure upon creation with the `plt.subplots` function. We can then tell Seaborn to make the plot on the Axes within this Figure with the `ax` parameter."
   ]
  },
  {
   "cell_type": "code",
   "execution_count": null,
   "metadata": {},
   "outputs": [],
   "source": [
    "fig, ax = plt.subplots(figsize=(8, 3))\n",
    "sns.boxplot(x='dept', y='salary', data=emp, ax=ax);"
   ]
  },
  {
   "cell_type": "markdown",
   "metadata": {},
   "source": [
    "### Rotate the tick labels\n",
    "We can also rotate the tick labels."
   ]
  },
  {
   "cell_type": "code",
   "execution_count": null,
   "metadata": {},
   "outputs": [],
   "source": [
    "ax = sns.boxplot(x='dept', y='salary', data=emp)\n",
    "ax.tick_params(axis='x', labelrotation=90);"
   ]
  },
  {
   "cell_type": "markdown",
   "metadata": {},
   "source": [
    "Make boxes horizontal by switching `x` and `y`."
   ]
  },
  {
   "cell_type": "code",
   "execution_count": null,
   "metadata": {},
   "outputs": [],
   "source": [
    "sns.boxplot(x='salary', y='dept', data=emp);"
   ]
  },
  {
   "cell_type": "markdown",
   "metadata": {},
   "source": [
    "Violin plots are also capable of this."
   ]
  },
  {
   "cell_type": "code",
   "execution_count": null,
   "metadata": {},
   "outputs": [],
   "source": [
    "sns.violinplot(x='salary', y='dept', data=emp);"
   ]
  },
  {
   "cell_type": "markdown",
   "metadata": {},
   "source": [
    "### 2-dimensional KDE\n",
    "If you have two continuous variables, you can plot a 2-dimensional KDE with `joinplot`. By default, it produces a scatter plot, but you can change this with the `kind` parameter.\n",
    "\n",
    "The `distplot` function is simple and cannot do this. It only plots one distribution at a time."
   ]
  },
  {
   "cell_type": "code",
   "execution_count": null,
   "metadata": {},
   "outputs": [],
   "source": [
    "sns.jointplot(x='experience', y='salary', data=emp, kind='kde');"
   ]
  },
  {
   "cell_type": "markdown",
   "metadata": {},
   "source": [
    "## Adding an extra dimension with `hue`\n",
    "\n",
    "Another nice feature is the ability to further split your data by another dimension with the `hue` parameter. Let's again create a box plot of salary by department but now within the department make another split by sex."
   ]
  },
  {
   "cell_type": "code",
   "execution_count": null,
   "metadata": {},
   "outputs": [],
   "source": [
    "fig, ax = plt.subplots(figsize=(8, 3))\n",
    "sns.boxplot(x='dept', y='salary', data=emp, hue='sex', ax=ax);"
   ]
  },
  {
   "cell_type": "markdown",
   "metadata": {},
   "source": [
    "We can do the same thing with a violin plot."
   ]
  },
  {
   "cell_type": "code",
   "execution_count": null,
   "metadata": {},
   "outputs": [],
   "source": [
    "sns.violinplot(x='salary', y='dept', data=emp, hue='sex');"
   ]
  },
  {
   "cell_type": "markdown",
   "metadata": {},
   "source": [
    "The only real use-case that I have for a violin plot is when there are **exactly two categories** for the `hue` category. You can set the parameter `split` to `True` to make a single violin plot that allows for comparison across the two categories."
   ]
  },
  {
   "cell_type": "code",
   "execution_count": null,
   "metadata": {},
   "outputs": [],
   "source": [
    "sns.violinplot(x='salary', y='dept', data=emp, hue='sex', split=True);"
   ]
  },
  {
   "cell_type": "markdown",
   "metadata": {},
   "source": [
    "## Grouping and Aggregating Plots\n",
    "Our next category of possible plots are those that group and aggregate. These plots will create a single point statistic for some numeric column of data. The following are the grouping and aggregating plots, all found in the Categorical section of the API:\n",
    "\n",
    "* barplot\n",
    "* pointplot\n",
    "* countplot\n",
    "\n",
    "### Univariate grouping and aggregating plots - begin with `barplot`\n",
    "Let's begin again like we did with the distribution plots by using a single variable. Below, we call the `barplot` plotting function, which will create a single bar of the mean salary of the entire employee data.\n",
    "\n",
    "### The `estimator` parameter\n",
    "Both the bar and point plots have an `estimator` parameter. This refers to the aggregation function that will be used. You must pass it some function that aggregates values (one that returns a single value). Most of the functions you want will be found in the numpy library."
   ]
  },
  {
   "cell_type": "code",
   "execution_count": null,
   "metadata": {},
   "outputs": [],
   "source": [
    "sns.barplot(x='salary', data=emp, estimator=np.mean);"
   ]
  },
  {
   "cell_type": "markdown",
   "metadata": {},
   "source": [
    "Notice that small black bar. That refers to the confidence interval and defaults to 95%. Use the `ci` parameter to set the interval size or use `None` to remove it. Let's make a vertical bar plot of the standard deviation of the salary."
   ]
  },
  {
   "cell_type": "code",
   "execution_count": null,
   "metadata": {},
   "outputs": [],
   "source": [
    "sns.barplot(y='salary', data=emp, estimator=np.std, ci=None);"
   ]
  },
  {
   "cell_type": "markdown",
   "metadata": {},
   "source": [
    "### Use a `countplot` to count the frequency of values in a column\n",
    "The `countplot` plotting function is simple and returns the frequency of each unique value in a particular column. You can use it on either categorical or continuous columns, but it is more commonly called on categorical data."
   ]
  },
  {
   "cell_type": "code",
   "execution_count": null,
   "metadata": {},
   "outputs": [],
   "source": [
    "sns.countplot(y='dept', data=emp);"
   ]
  },
  {
   "cell_type": "markdown",
   "metadata": {},
   "source": [
    "### Grouping by a categorical\n",
    "Our first bar plot of the overall average salary was not that interesting. We can find the mean salary by department with a `barplot`."
   ]
  },
  {
   "cell_type": "code",
   "execution_count": null,
   "metadata": {},
   "outputs": [],
   "source": [
    "ax = sns.barplot(x='dept', y='salary', data=emp, estimator=np.mean, ci=None)\n",
    "ax.tick_params(axis='x', rotation=90);"
   ]
  },
  {
   "cell_type": "markdown",
   "metadata": {},
   "source": [
    "### Using a `pointplot` - very similar to `barplot`\n",
    "The `pointplot` function works similarly to `barplot` but instead of bars, plots a single point of the aggregated value. It also connects those points together. It is best used whenever there is some order to the categories. Notice, that it does not begin the y axis at 0, so can potentially show misleading information."
   ]
  },
  {
   "cell_type": "code",
   "execution_count": null,
   "metadata": {},
   "outputs": [],
   "source": [
    "ax = sns.pointplot(x='dept', y='salary', data=emp, estimator=np.mean, ci=None)\n",
    "ax.tick_params(axis='x', rotation=90);"
   ]
  },
  {
   "cell_type": "markdown",
   "metadata": {},
   "source": [
    "### Add another dimension with `hue`\n",
    "\n",
    "As we did with the distribution plots, it is possible to further subdivide our groups with the `hue` parameter. Let's find the average salary by department, by also split the data by sex."
   ]
  },
  {
   "cell_type": "code",
   "execution_count": null,
   "metadata": {},
   "outputs": [],
   "source": [
    "fig, ax = plt.subplots(figsize=(18, 5))\n",
    "sns.barplot(x='dept', y='salary', data=emp, hue='sex', \n",
    "            estimator=np.mean, ci=None, ax=ax);"
   ]
  },
  {
   "cell_type": "markdown",
   "metadata": {},
   "source": [
    "You are not allowed to pass both `x` and `y` to countplot since the frequency is considered one of the values. You may still use `hue` to split the data into further categories."
   ]
  },
  {
   "cell_type": "code",
   "execution_count": null,
   "metadata": {},
   "outputs": [],
   "source": [
    "fig, ax = plt.subplots(figsize=(18, 5))\n",
    "sns.countplot(x='dept', data=emp, hue='sex', ax=ax);"
   ]
  },
  {
   "cell_type": "markdown",
   "metadata": {},
   "source": [
    "## Raw Plots\n",
    "The last major category of plots are those that do not change the underlying data. They simply plot the raw data as it is. Scatter and line plots do just this as well as heatmaps.\n",
    "\n",
    "### Raw plotting functions\n",
    "Seaborn has a few raw data plotting functions found in both the Relational and Regression sections of the API.\n",
    "\n",
    "* `scatterplot`\n",
    "* `lineplot`\n",
    "* `regplot` - `lmplot` is essentially the same.\n",
    "* `heatmap` - `clustermap` does heat map plus clustering\n",
    "\n",
    "### A scatterplot with multiple dimensions\n",
    "Let's jump straight into a more complex plot. Scatterplots are required to have two numeric variables. Here we use `hue` to color by department and use `style` to make different markers for each sex."
   ]
  },
  {
   "cell_type": "code",
   "execution_count": null,
   "metadata": {},
   "outputs": [],
   "source": [
    "fig, ax = plt.subplots(figsize=(18, 8))\n",
    "ax = sns.scatterplot(x='experience', y='salary', data=emp, \n",
    "                     hue='dept', style='sex');"
   ]
  },
  {
   "cell_type": "markdown",
   "metadata": {},
   "source": [
    "### Create a scatter plot with a regresion line with `regplot`\n",
    "Closely related to `scatterplot` is `regplot` which will draw a regression line with confidence bands through the points."
   ]
  },
  {
   "cell_type": "code",
   "execution_count": null,
   "metadata": {},
   "outputs": [],
   "source": [
    "sns.regplot(x='experience', y='salary', data=emp);"
   ]
  },
  {
   "cell_type": "markdown",
   "metadata": {},
   "source": [
    "### `lmplot` is nearly the same as `regplot`\n",
    "The `lmplot` function is essentially the same function as `regplot`, but allows us to divide the data into multiple and provide a regression line for each one with the `hue` parameter. We also change the regression type to lowess (a locally-weighted regression)"
   ]
  },
  {
   "cell_type": "code",
   "execution_count": null,
   "metadata": {},
   "outputs": [],
   "source": [
    "sns.lmplot(x='experience', y='salary', hue='race', data=emp, lowess=True);"
   ]
  },
  {
   "cell_type": "markdown",
   "metadata": {},
   "source": [
    "## Heat maps\n",
    "You will likely need to do some pre-processing to your data before using a Seaborn heatmap. One common usecase is to visualize correlations between all the variables in a dataset.\n",
    "\n",
    "### Housing dataset\n",
    "Let's read in the housing dataset and calculate the correlation between all the variables."
   ]
  },
  {
   "cell_type": "code",
   "execution_count": null,
   "metadata": {},
   "outputs": [],
   "source": [
    "housing = pd.read_csv('../data/housing.csv')\n",
    "housing.head(3)"
   ]
  },
  {
   "cell_type": "markdown",
   "metadata": {},
   "source": [
    "Drop a couple columns."
   ]
  },
  {
   "cell_type": "code",
   "execution_count": null,
   "metadata": {},
   "outputs": [],
   "source": [
    "housing = housing.drop(columns=['Id', 'MSSubClass'])"
   ]
  },
  {
   "cell_type": "markdown",
   "metadata": {},
   "source": [
    "Calculate correlation with pandas."
   ]
  },
  {
   "cell_type": "code",
   "execution_count": null,
   "metadata": {},
   "outputs": [],
   "source": [
    "corr = housing.corr()\n",
    "corr.head(3)"
   ]
  },
  {
   "cell_type": "markdown",
   "metadata": {},
   "source": [
    "Create heatmap."
   ]
  },
  {
   "cell_type": "code",
   "execution_count": null,
   "metadata": {},
   "outputs": [],
   "source": [
    "fig, ax = plt.subplots(figsize=(18, 14))\n",
    "sns.heatmap(corr, ax=ax);"
   ]
  },
  {
   "cell_type": "markdown",
   "metadata": {},
   "source": [
    "### Use a clustermap to cluster together similar columns"
   ]
  },
  {
   "cell_type": "code",
   "execution_count": null,
   "metadata": {},
   "outputs": [],
   "source": [
    "sns.clustermap(corr, figsize=(18, 14));"
   ]
  },
  {
   "cell_type": "markdown",
   "metadata": {},
   "source": [
    "## Grid Plots - Create Multiple Plots at once\n",
    "All of our the Seaborn plotting functions used above created a single plot. Seaborn contains a few plotting functions that are capable of creating multiple plots at once. There are referred to as **Grids**. \n",
    "\n",
    "In the Seaborn API, the functions that create grids are the first ones listed in each section\n",
    "\n",
    "* relplot\n",
    "* catplot\n",
    "* lmplot\n",
    "\n",
    "In the Distribution section, there are a couple functions that create grids in a different manner.\n",
    "\n",
    "* jointplot\n",
    "* pairplot"
   ]
  },
  {
   "cell_type": "markdown",
   "metadata": {},
   "source": [
    "### Create grids with `row` and `col` parameters\n",
    "The functions that create grids use two new parameters to do so: `row` and `col`. You pass them a column name as a string and Seaborn will the split your data by the unique values in this column into entire new plots.\n",
    "\n",
    "### Grid plots are 'metaplotting functions' - no new types of plots \n",
    "The grid plots `relplot`, `catplot`, and `lmplot` do not create any new type of plot. They simply make the other plots in the their respective API section as grids. This is why I like to refer to them as **metaplotting** functions. They are simply calling the other plotting functions once for each unique value of `row` or `col`.\n",
    "\n",
    "### Use the `kind` parameter to choose the type of plot\n",
    "Each of the metaplotting functions has a `kind` parameter. Pass it a string to choose the underlying plotting function. Let's see how this works by creating a simple boxplot of salary for each race."
   ]
  },
  {
   "cell_type": "code",
   "execution_count": null,
   "metadata": {},
   "outputs": [],
   "source": [
    "sns.catplot(x='salary', data=emp, kind='box', col='race');"
   ]
  },
  {
   "cell_type": "markdown",
   "metadata": {},
   "source": [
    "Use the `colwrap` parameter to wrap the plots into a new row."
   ]
  },
  {
   "cell_type": "code",
   "execution_count": null,
   "metadata": {},
   "outputs": [],
   "source": [
    "sns.catplot(x='salary', data=emp, kind='box', col='race', col_wrap=3);"
   ]
  },
  {
   "cell_type": "markdown",
   "metadata": {},
   "source": [
    "A complex plot involving 4 dimensions."
   ]
  },
  {
   "cell_type": "code",
   "execution_count": null,
   "metadata": {},
   "outputs": [],
   "source": [
    "sns.catplot(x='race', y='salary', hue='sex', data=emp, \n",
    "            kind='bar', col='dept', col_wrap=3, ci=None);"
   ]
  },
  {
   "cell_type": "markdown",
   "metadata": {},
   "source": [
    "Use row and col"
   ]
  },
  {
   "cell_type": "code",
   "execution_count": null,
   "metadata": {},
   "outputs": [],
   "source": [
    "sns.catplot(x='race', y='salary', hue='dept', data=emp, kind='bar', \n",
    "            row='sex', col='experience_level', ci=None);"
   ]
  },
  {
   "cell_type": "markdown",
   "metadata": {},
   "source": [
    "### Do the same with `relplot` and `lmplot` \n",
    "* `relplot` is a metaplotting function that does both scatter and line plots\n",
    "* `lmplot` is a metaplotting function that makes regression plots"
   ]
  },
  {
   "cell_type": "code",
   "execution_count": null,
   "metadata": {},
   "outputs": [],
   "source": [
    "sns.relplot(x='experience', y='salary', data=emp, hue='sex', \n",
    "            col='dept', col_wrap=3, kind='scatter');"
   ]
  },
  {
   "cell_type": "markdown",
   "metadata": {},
   "source": [
    "Don't share the x and y axis limits. Dangerous for making comparisons."
   ]
  },
  {
   "cell_type": "code",
   "execution_count": null,
   "metadata": {},
   "outputs": [],
   "source": [
    "sns.lmplot(x='experience', y='salary', data=emp, hue='sex', \n",
    "           col='dept', col_wrap=3, sharex=False, sharey=False);"
   ]
  }
 ],
 "metadata": {
  "kernelspec": {
   "display_name": "Python 3",
   "language": "python",
   "name": "python3"
  },
  "language_info": {
   "codemirror_mode": {
    "name": "ipython",
    "version": 3
   },
   "file_extension": ".py",
   "mimetype": "text/x-python",
   "name": "python",
   "nbconvert_exporter": "python",
   "pygments_lexer": "ipython3",
   "version": "3.7.3"
  },
  "varInspector": {
   "cols": {
    "lenName": 16,
    "lenType": 16,
    "lenVar": 40
   },
   "kernels_config": {
    "python": {
     "delete_cmd_postfix": "",
     "delete_cmd_prefix": "del ",
     "library": "var_list.py",
     "varRefreshCmd": "print(var_dic_list())"
    },
    "r": {
     "delete_cmd_postfix": ") ",
     "delete_cmd_prefix": "rm(",
     "library": "var_list.r",
     "varRefreshCmd": "cat(var_dic_list()) "
    }
   },
   "types_to_exclude": [
    "module",
    "function",
    "builtin_function_or_method",
    "instance",
    "_Feature"
   ],
   "window_display": false
  }
 },
 "nbformat": 4,
 "nbformat_minor": 2
}
