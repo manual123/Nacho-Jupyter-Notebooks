{
 "cells": [
  {
   "cell_type": "markdown",
   "metadata": {},
   "source": [
    "# Matplotlib Fundamentals\n",
    "\n",
    "Matplotlib is a popular data visualization library in Python and is often used in publications. It was originally built to mimic the functionality of plotting with [Matlab][0]. \n",
    "\n",
    "## Two Interfaces\n",
    "There are two separate ways to interface with Matplotlib. One is called the **state-machine environment** and the other is with an **object-oriented** approach. The state-machine environment (known as **pyplot** from here on out) is a complex term for saying that Matplotlib implicitly handles some of the plotting for you. \n",
    "\n",
    "The **object-oriented** approach gives you full control over each element of the plot and is the more Pythonic way of interacting with Matplotlib. It is suggested you use the object-oriented approach. Most examples may be reproduced with either approach, but the object-oriented approach is explicit and, in my opinion, easier to determine what is happening.\n",
    "\n",
    "### Using only the object-oriented approach\n",
    "This notebook only uses the object-oriented approach, as attempting to learn both at the start is not necessary and confusing. Many examples online use pyplot so it is something that you will eventually need to understand. Thankfully, much of the code between each approach looks quite similar when making a single plot.\n",
    "\n",
    "## Anatomy of a Figure\n",
    "\n",
    "![][3]\n",
    "\n",
    "There is a hierarchy you must understand when plotting with Matplotlib. The highest and outermost part of a plot is the **Figure**. The Figure contains all the other plotting elements. Typically, you do not interact with it much. Inside the Figure is the **Axes**. This is the actual plotting surface that you normally would refer to as a 'plot'. \n",
    "\n",
    "A Figure may contain any number of these **Axes**. The **Axes** is a container for all of the other physical pixels that get drawn onto your screen. This includes the x and y axis, lines, text, points, legends, images, etc... \n",
    "\n",
    "### Axes is a confusing word\n",
    "The term **Axes** is not actually plural and does not mean more than one axis. It literally stands for a single 'plot'. It's unfortunate that this fundamental element has a name that is so confusing.\n",
    "\n",
    "[0]: https://en.wikipedia.org/wiki/MATLAB\n",
    "[1]: http://matplotlib.org\n",
    "[2]: http://matplotlib.org/faq/usage_faq.html\n",
    "[3]: images/figax.png"
   ]
  },
  {
   "cell_type": "markdown",
   "metadata": {},
   "source": [
    "## Embedding plots into Jupyter Notebooks\n",
    "To use embed plots created from matplotlib in a Jupyter Notebook you need to run the magic command `%matplotlib inline`. This will embed your matplotlib plots into the output of the cells. If you don't do this, you will have to call the `show` method from your Figure object, which produces a plot in a separate window."
   ]
  },
  {
   "cell_type": "code",
   "execution_count": null,
   "metadata": {},
   "outputs": [],
   "source": [
    "%matplotlib inline"
   ]
  },
  {
   "cell_type": "markdown",
   "metadata": {},
   "source": [
    "### Importing the pyplot module\n",
    "Importing matplotlib into your workspace is done a little differently than NumPy or Pandas. You rarely will import matplotlib itself directly like this:\n",
    "\n",
    "```\n",
    ">>> import matplotlib\n",
    "```\n",
    "\n",
    "The above is perfectly valid code, but the matplotlib developers decided not to put all the main functionality in the top level module. \n",
    "\n",
    "### The difference between importing Pandas and Matplotlib\n",
    "When you `import pandas as pd`, you get access to nearly all of the available functions and classes of the Pandas library. This isn't true with Matplotlib. Instead, much of the functionality for quickly plotting is found in the pyplot module. If you navigate to the matplotlib source directory, found in your site-packages directory, you will see a `pyplot.py` file. This is the module that you are importing into your workspace.\n",
    "\n",
    "![][1]\n",
    "\n",
    "Let's import the pyplot module now and alias it to `plt`, which is done by convention:\n",
    "\n",
    "[1]: images/pyplot_dir.png"
   ]
  },
  {
   "cell_type": "code",
   "execution_count": null,
   "metadata": {},
   "outputs": [],
   "source": [
    "import matplotlib.pyplot as plt"
   ]
  },
  {
   "cell_type": "markdown",
   "metadata": {},
   "source": [
    "## An aside on Unpacking\n",
    "Before getting to Matplotlib, we need to discuss a concept in Python called **unpacking**. Unpacking refers to how elements from a sequence may be extracted without using the selection operator (the brackets). \n",
    "\n",
    "### Assigning elements in a list to a variable\n",
    "Before we get to unpacking, let's see an example of how we can assign individual items in a list to variables using the selection operator. Below, we create a three-item list and then assign each item to a variable."
   ]
  },
  {
   "cell_type": "code",
   "execution_count": null,
   "metadata": {},
   "outputs": [],
   "source": [
    "a_list = [9, -4, 51]"
   ]
  },
  {
   "cell_type": "code",
   "execution_count": null,
   "metadata": {},
   "outputs": [],
   "source": [
    "a = a_list[0]\n",
    "a"
   ]
  },
  {
   "cell_type": "code",
   "execution_count": null,
   "metadata": {},
   "outputs": [],
   "source": [
    "b = a_list[1]\n",
    "b"
   ]
  },
  {
   "cell_type": "code",
   "execution_count": null,
   "metadata": {},
   "outputs": [],
   "source": [
    "c = a_list[2]\n",
    "c"
   ]
  },
  {
   "cell_type": "markdown",
   "metadata": {},
   "source": [
    "### Using unpacking to achieve the same result\n",
    "Instead, we can use unpacking to achieve the same result in a single line. We place all three variable names to the left of the assignment operator. Python will unpack each item of the list to the corresponding variable on the left."
   ]
  },
  {
   "cell_type": "code",
   "execution_count": null,
   "metadata": {},
   "outputs": [],
   "source": [
    "x, y, z = a_list"
   ]
  },
  {
   "cell_type": "code",
   "execution_count": null,
   "metadata": {},
   "outputs": [],
   "source": [
    "x"
   ]
  },
  {
   "cell_type": "code",
   "execution_count": null,
   "metadata": {},
   "outputs": [],
   "source": [
    "y"
   ]
  },
  {
   "cell_type": "code",
   "execution_count": null,
   "metadata": {},
   "outputs": [],
   "source": [
    "z"
   ]
  },
  {
   "cell_type": "markdown",
   "metadata": {},
   "source": [
    "### Unpacking works for any sequence\n",
    "We can unpack any sequence including strings, tuples, lists, sets, dictionaries, arrays, and Series."
   ]
  },
  {
   "cell_type": "code",
   "execution_count": null,
   "metadata": {},
   "outputs": [],
   "source": [
    "a, b, c, d = 'word'"
   ]
  },
  {
   "cell_type": "code",
   "execution_count": null,
   "metadata": {},
   "outputs": [],
   "source": [
    "a"
   ]
  },
  {
   "cell_type": "code",
   "execution_count": null,
   "metadata": {},
   "outputs": [],
   "source": [
    "b"
   ]
  },
  {
   "cell_type": "code",
   "execution_count": null,
   "metadata": {},
   "outputs": [],
   "source": [
    "c"
   ]
  },
  {
   "cell_type": "code",
   "execution_count": null,
   "metadata": {},
   "outputs": [],
   "source": [
    "d"
   ]
  },
  {
   "cell_type": "markdown",
   "metadata": {},
   "source": [
    "### Unpacking a tuple"
   ]
  },
  {
   "cell_type": "code",
   "execution_count": null,
   "metadata": {},
   "outputs": [],
   "source": [
    "t1 = (40, 99)"
   ]
  },
  {
   "cell_type": "code",
   "execution_count": null,
   "metadata": {},
   "outputs": [],
   "source": [
    "a, b = t1"
   ]
  },
  {
   "cell_type": "code",
   "execution_count": null,
   "metadata": {},
   "outputs": [],
   "source": [
    "a"
   ]
  },
  {
   "cell_type": "code",
   "execution_count": null,
   "metadata": {},
   "outputs": [],
   "source": [
    "b"
   ]
  },
  {
   "cell_type": "markdown",
   "metadata": {},
   "source": [
    "### Creating a tuple without the parentheses\n",
    "Typically, tuples are created with parentheses followed by a sequence of comma-separated values. The parentheses are actually optional, so both of the following create the same tuple."
   ]
  },
  {
   "cell_type": "code",
   "execution_count": null,
   "metadata": {},
   "outputs": [],
   "source": [
    "t1 = (1, 2, 3, 4)\n",
    "t2 = 1, 2, 3, 4"
   ]
  },
  {
   "cell_type": "code",
   "execution_count": null,
   "metadata": {},
   "outputs": [],
   "source": [
    "t1"
   ]
  },
  {
   "cell_type": "code",
   "execution_count": null,
   "metadata": {},
   "outputs": [],
   "source": [
    "t2"
   ]
  },
  {
   "cell_type": "markdown",
   "metadata": {},
   "source": [
    "### Unpacking a tuple\n",
    "Tuples are objects that may be unpacked just like any other sequence. The following creates a tuple on the right-hand-side of the assignment statement and assigns it to the variables `x` and `y`."
   ]
  },
  {
   "cell_type": "code",
   "execution_count": null,
   "metadata": {},
   "outputs": [],
   "source": [
    "x, y = -23, 4.12"
   ]
  },
  {
   "cell_type": "code",
   "execution_count": null,
   "metadata": {},
   "outputs": [],
   "source": [
    "x"
   ]
  },
  {
   "cell_type": "code",
   "execution_count": null,
   "metadata": {},
   "outputs": [],
   "source": [
    "y"
   ]
  },
  {
   "cell_type": "markdown",
   "metadata": {},
   "source": [
    "You could have used parentheses to create the tuple, which would have produced the exact same result."
   ]
  },
  {
   "cell_type": "code",
   "execution_count": null,
   "metadata": {},
   "outputs": [],
   "source": [
    "x, y = (-23, 4.12)"
   ]
  },
  {
   "cell_type": "code",
   "execution_count": null,
   "metadata": {},
   "outputs": [],
   "source": [
    "x"
   ]
  },
  {
   "cell_type": "code",
   "execution_count": null,
   "metadata": {},
   "outputs": [],
   "source": [
    "y"
   ]
  },
  {
   "cell_type": "markdown",
   "metadata": {},
   "source": [
    "### Unpacking the values from a function\n",
    "If a function returns a sequence, you may unpack it into separate variables. Take the following simple function, which returns both the square and cube of the passed number as a tuple."
   ]
  },
  {
   "cell_type": "code",
   "execution_count": null,
   "metadata": {},
   "outputs": [],
   "source": [
    "def square_cube(x):\n",
    "    return x ** 2, x ** 3"
   ]
  },
  {
   "cell_type": "markdown",
   "metadata": {},
   "source": [
    "We can unpack both values into separate variables."
   ]
  },
  {
   "cell_type": "code",
   "execution_count": null,
   "metadata": {},
   "outputs": [],
   "source": [
    "x, y = square_cube(5)"
   ]
  },
  {
   "cell_type": "code",
   "execution_count": null,
   "metadata": {},
   "outputs": [],
   "source": [
    "x"
   ]
  },
  {
   "cell_type": "code",
   "execution_count": null,
   "metadata": {},
   "outputs": [],
   "source": [
    "y"
   ]
  },
  {
   "cell_type": "markdown",
   "metadata": {},
   "source": [
    "## Back to Matplotlib\n",
    "We will see an example of tuple unpacking shortly, which is why it was necessary to cover it above.\n",
    "\n",
    "### Use pyplot to begin\n",
    "pyplot does provide lots of useful functions, one of which creates a Figure and any number of Axes that you desire. You can do this without pyplot, but it involves more syntax. It's also quite standard to begin the object-oriented approach by laying out your Figure and Axes first with pyplot and then proceed by calling methods from these objects.\n",
    "\n",
    "### Use the `subplots` function\n",
    "The pyplot **`subplots`** function creates a single Figure and any number of Axes. If you call it with the default parameters it will create a single Axes within a Figure. \n",
    "\n",
    "### Unpack the `subplots` tuple\n",
    "The `subplots` function returns a two-item tuple containing the Figure and the Axes. We unpack each of these objects as their own variable."
   ]
  },
  {
   "cell_type": "code",
   "execution_count": null,
   "metadata": {},
   "outputs": [],
   "source": [
    "fig, ax = plt.subplots()"
   ]
  },
  {
   "cell_type": "markdown",
   "metadata": {},
   "source": [
    "## Verify the returned types of `subplots`\n",
    "Let's verify that we indeed have a Figure and Axes."
   ]
  },
  {
   "cell_type": "code",
   "execution_count": null,
   "metadata": {},
   "outputs": [],
   "source": [
    "type(fig)"
   ]
  },
  {
   "cell_type": "code",
   "execution_count": null,
   "metadata": {},
   "outputs": [],
   "source": [
    "type(ax)"
   ]
  },
  {
   "cell_type": "markdown",
   "metadata": {},
   "source": [
    "### Distinguishing the Figure from the Axes\n",
    "It's not obvious, from looking at the plot which part is the Figure and which is the Axes. We will call our first method, **`set_facecolor`** in an object-oriented fashion from both the Figure and Axes objects. We pass it a name of a color (more on colors later). "
   ]
  },
  {
   "cell_type": "code",
   "execution_count": null,
   "metadata": {},
   "outputs": [],
   "source": [
    "fig.set_facecolor('skyblue')\n",
    "ax.set_facecolor('sandybrown')"
   ]
  },
  {
   "cell_type": "markdown",
   "metadata": {},
   "source": [
    "### Where is the Figure?\n",
    "When using the object-oriented approach, you will need to write the Figure variable name as the last line in a cell to view it in the notebook. This should now hopefully distinguish the Figure, from the Axes."
   ]
  },
  {
   "cell_type": "code",
   "execution_count": null,
   "metadata": {},
   "outputs": [],
   "source": [
    "fig"
   ]
  },
  {
   "cell_type": "markdown",
   "metadata": {},
   "source": [
    "### Why is there no assignment statement?\n",
    "Notice, that the two calls above to the `set_facecolor` method were made without an assignment statement. Both of these operations happened **in-place**. The calling Figure and Axes objects were updated without a new one getting created."
   ]
  },
  {
   "cell_type": "markdown",
   "metadata": {},
   "source": [
    "### Can only view the entire Figure not the Axes\n",
    "Attempting to view just the Axes, by writing the variable name in a cell will not show it. Only the Figure as a whole will output it."
   ]
  },
  {
   "cell_type": "code",
   "execution_count": null,
   "metadata": {},
   "outputs": [],
   "source": [
    "ax"
   ]
  },
  {
   "cell_type": "markdown",
   "metadata": {},
   "source": [
    "## Setting the size of the Figure upon creation\n",
    "The default Figure is fairly small. We can change this when creating it with the `figsize` parameter. Pass a two-item tuple to configure the height and width of the figure. By default, these dimensions are 6 by 4. They represent **inches** and are literally the inches that your figure would be if you printed out on paper.\n",
    "\n",
    "Below, we create a new Figure that is 12 inches in width by 6 inches in height. We also color the faces of the both the Figure and Axes again."
   ]
  },
  {
   "cell_type": "code",
   "execution_count": null,
   "metadata": {},
   "outputs": [],
   "source": [
    "fig, ax = plt.subplots(figsize=(8, 4))\n",
    "fig.set_facecolor('skyblue')\n",
    "ax.set_facecolor('sandybrown')"
   ]
  },
  {
   "cell_type": "markdown",
   "metadata": {},
   "source": [
    "## Began the Object-Oriented Approach\n",
    "Both calls to the `set_facecolor` method demonstrated the object-oriented approach to matplotlib. With this approach, every object that is created may be manipulated by calling methods.\n",
    "\n",
    "### Latch on to objects and then call their methods\n",
    "Everything on our plot is a separate object. Each of these objects may be explicitly referenced by a variable. Once we have a reference to a particular object, we can then modify it by calling methods on it.\n",
    "\n",
    "Thus far we have two references, `fig` and `ax`. There are many other objects on our Axes that we can reference such as the x and y axis, tick marks, tick labels, and others. We do not yet have references to these objects.\n",
    "\n",
    "## Calling Axes methods - `get_` and `set_` methods\n",
    "Before we start referencing these other objects, let's change some of the properties of our Axes by calling some methods on it. Many methods begin with either `get_` or `set_` followed by the part of the Axes that will get retrieved or modified. The following list shows several of the most common properties that can be set on our Axes. We will see examples of each one below.\n",
    "\n",
    "* title\n",
    "* xlabel/ylabel\n",
    "* xlim/ylim\n",
    "* xticks/yticks\n",
    "* xticklabels/yticklabels"
   ]
  },
  {
   "cell_type": "markdown",
   "metadata": {},
   "source": [
    "### Getting and setting the title of the Axes\n",
    "The `get_title` method will return the title of the Axes as a string. There is no title at this moment so it returns an empty string. "
   ]
  },
  {
   "cell_type": "code",
   "execution_count": null,
   "metadata": {},
   "outputs": [],
   "source": [
    "ax.get_title()"
   ]
  },
  {
   "cell_type": "markdown",
   "metadata": {},
   "source": [
    "The `set_title` method will place a centered title on our Axes when passing it a string. Notice that a matplotlib Text object has been returned. More on this later."
   ]
  },
  {
   "cell_type": "code",
   "execution_count": null,
   "metadata": {},
   "outputs": [],
   "source": [
    "ax.set_title('My First Matplotlib Graph')"
   ]
  },
  {
   "cell_type": "markdown",
   "metadata": {},
   "source": [
    "Again, we must place our Figure variable name as the last line in our cell to show it in our notebook."
   ]
  },
  {
   "cell_type": "code",
   "execution_count": null,
   "metadata": {},
   "outputs": [],
   "source": [
    "fig"
   ]
  },
  {
   "cell_type": "markdown",
   "metadata": {},
   "source": [
    "Now, if we run the `get_title` method again, we will get the string that was used as the title."
   ]
  },
  {
   "cell_type": "code",
   "execution_count": null,
   "metadata": {},
   "outputs": [],
   "source": [
    "ax.get_title()"
   ]
  },
  {
   "cell_type": "markdown",
   "metadata": {},
   "source": [
    "### Getting and setting the labels for the x and y axis\n",
    "By default, the x and y axis labels are not provided and we get returned an empty string when we get them."
   ]
  },
  {
   "cell_type": "code",
   "execution_count": null,
   "metadata": {},
   "outputs": [],
   "source": [
    "ax.get_xlabel()"
   ]
  },
  {
   "cell_type": "code",
   "execution_count": null,
   "metadata": {},
   "outputs": [],
   "source": [
    "ax.get_ylabel()"
   ]
  },
  {
   "cell_type": "markdown",
   "metadata": {},
   "source": [
    "We can provide labels for both the x and y axis on our Axes using the `set_xlabel` and `set_ylabel` commands. Again, each of these methods return a matplotlib Text object."
   ]
  },
  {
   "cell_type": "code",
   "execution_count": null,
   "metadata": {},
   "outputs": [],
   "source": [
    "ax.set_xlabel('X Axis')"
   ]
  },
  {
   "cell_type": "code",
   "execution_count": null,
   "metadata": {},
   "outputs": [],
   "source": [
    "ax.set_ylabel('Y Axis')"
   ]
  },
  {
   "cell_type": "code",
   "execution_count": null,
   "metadata": {},
   "outputs": [],
   "source": [
    "fig"
   ]
  },
  {
   "cell_type": "code",
   "execution_count": null,
   "metadata": {},
   "outputs": [],
   "source": [
    "ax.get_xlabel()"
   ]
  },
  {
   "cell_type": "code",
   "execution_count": null,
   "metadata": {},
   "outputs": [],
   "source": [
    "ax.get_ylabel()"
   ]
  },
  {
   "cell_type": "markdown",
   "metadata": {},
   "source": [
    "### Getting and setting the x and y limits\n",
    "By default, the limits of both the x and y axis are 0 to 1. We can change this with the `set_xlim` and `set_ylim` methods. Pass these methods a new left and right boundary to change the limits. These methods actually return a tuple of the limits."
   ]
  },
  {
   "cell_type": "code",
   "execution_count": null,
   "metadata": {},
   "outputs": [],
   "source": [
    "ax.get_xlim()"
   ]
  },
  {
   "cell_type": "code",
   "execution_count": null,
   "metadata": {},
   "outputs": [],
   "source": [
    "ax.get_ylim()"
   ]
  },
  {
   "cell_type": "code",
   "execution_count": null,
   "metadata": {},
   "outputs": [],
   "source": [
    "ax.set_xlim(0, 5)"
   ]
  },
  {
   "cell_type": "code",
   "execution_count": null,
   "metadata": {},
   "outputs": [],
   "source": [
    "fig"
   ]
  },
  {
   "cell_type": "markdown",
   "metadata": {},
   "source": [
    "Set the y limits and output the Figure in a single code cell."
   ]
  },
  {
   "cell_type": "code",
   "execution_count": null,
   "metadata": {},
   "outputs": [],
   "source": [
    "ax.set_ylim(-10, 50)\n",
    "fig"
   ]
  },
  {
   "cell_type": "markdown",
   "metadata": {},
   "source": [
    "Notice, that the size of the figure remains the same. Only the limits of the x and y axis have changed.\n",
    "\n",
    "### Getting and setting the location of the x and y ticks\n",
    "In the graph above, it has chosen to place ticks every 1 unit for the x and every 10 units for the y. Matplotlib chooses reasonable default values. Let's see the location of these ticks with the `get_xticks` and `get_yticks` methods."
   ]
  },
  {
   "cell_type": "code",
   "execution_count": null,
   "metadata": {},
   "outputs": [],
   "source": [
    "ax.get_xticks()"
   ]
  },
  {
   "cell_type": "code",
   "execution_count": null,
   "metadata": {},
   "outputs": [],
   "source": [
    "ax.get_yticks()"
   ]
  },
  {
   "cell_type": "markdown",
   "metadata": {},
   "source": [
    "We can specify the exact location of the x and y ticks with the `set_xticks` and `set_ticks` methods. We pass them a list of numbers indicating where we want the ticks. A list of matplotlib XTick or YTick objects get returned. More on these later."
   ]
  },
  {
   "cell_type": "code",
   "execution_count": null,
   "metadata": {},
   "outputs": [],
   "source": [
    "ax.set_xticks([1.8, 3.99, 4.4])"
   ]
  },
  {
   "cell_type": "code",
   "execution_count": null,
   "metadata": {},
   "outputs": [],
   "source": [
    "fig"
   ]
  },
  {
   "cell_type": "markdown",
   "metadata": {},
   "source": [
    "When we set the y-ticks we will use a number outside of the current bounds of the axis. This forces matplotlib to change the limits."
   ]
  },
  {
   "cell_type": "code",
   "execution_count": null,
   "metadata": {},
   "outputs": [],
   "source": [
    "ax.set_yticks([-99, -9, -1, 22, 44])"
   ]
  },
  {
   "cell_type": "code",
   "execution_count": null,
   "metadata": {},
   "outputs": [],
   "source": [
    "fig"
   ]
  },
  {
   "cell_type": "markdown",
   "metadata": {},
   "source": [
    "Let's verify that the y-axis limits have indeed changed and that the x-axis limits have not."
   ]
  },
  {
   "cell_type": "code",
   "execution_count": null,
   "metadata": {},
   "outputs": [],
   "source": [
    "ax.get_xlim()"
   ]
  },
  {
   "cell_type": "code",
   "execution_count": null,
   "metadata": {},
   "outputs": [],
   "source": [
    "ax.get_ylim()"
   ]
  },
  {
   "cell_type": "markdown",
   "metadata": {},
   "source": [
    "### Getting and setting the x and y tick labels\n",
    "The current tick labels for the x-axis and y-axis are the same as the tick locations. Let's first view the current tick labels."
   ]
  },
  {
   "cell_type": "code",
   "execution_count": null,
   "metadata": {},
   "outputs": [],
   "source": [
    "ax.get_xticklabels()"
   ]
  },
  {
   "cell_type": "markdown",
   "metadata": {},
   "source": [
    "For some reason, the tick labels are hidden in some list-like object. To convert it to a list, pass it to the `list` function, which returns a list of matplotlib Text objects. "
   ]
  },
  {
   "cell_type": "code",
   "execution_count": null,
   "metadata": {},
   "outputs": [],
   "source": [
    "list(ax.get_xticklabels())"
   ]
  },
  {
   "cell_type": "markdown",
   "metadata": {},
   "source": [
    "Let's see the y tick labels."
   ]
  },
  {
   "cell_type": "code",
   "execution_count": null,
   "metadata": {},
   "outputs": [],
   "source": [
    "list(ax.get_yticklabels())"
   ]
  },
  {
   "cell_type": "markdown",
   "metadata": {},
   "source": [
    "Pass the `set_xticklabels` method a list of strings to use as the new labels."
   ]
  },
  {
   "cell_type": "code",
   "execution_count": null,
   "metadata": {},
   "outputs": [],
   "source": [
    "ax.set_xticklabels(['dog', 'cat', 'snake'])"
   ]
  },
  {
   "cell_type": "code",
   "execution_count": null,
   "metadata": {},
   "outputs": [],
   "source": [
    "fig"
   ]
  },
  {
   "cell_type": "markdown",
   "metadata": {},
   "source": [
    "Let's change the y tick labels as well. You actually do not need to provide labels for all of the ticks. Matplotlib will simply make those other tick labels equal to the empty string. We provide just two of the five labels. Notice that the tick **lines** are still present but there are no labels for the remaining three."
   ]
  },
  {
   "cell_type": "code",
   "execution_count": null,
   "metadata": {},
   "outputs": [],
   "source": [
    "ax.set_yticklabels(['Texas', 'Oklahoma'])"
   ]
  },
  {
   "cell_type": "code",
   "execution_count": null,
   "metadata": {},
   "outputs": [],
   "source": [
    "fig"
   ]
  },
  {
   "cell_type": "markdown",
   "metadata": {},
   "source": [
    "Get the x and y tick labels again."
   ]
  },
  {
   "cell_type": "code",
   "execution_count": null,
   "metadata": {},
   "outputs": [],
   "source": [
    "list(ax.get_xticklabels())"
   ]
  },
  {
   "cell_type": "code",
   "execution_count": null,
   "metadata": {},
   "outputs": [],
   "source": [
    "list(ax.get_yticklabels())"
   ]
  },
  {
   "cell_type": "markdown",
   "metadata": {},
   "source": [
    "### The difference between the tick locations and labels\n",
    "The tick locations are a completely separate concept than the tick labels. The tick locations are always numeric and determine where on the plot the tick mark will appear. The tick labels on the other hand are the strings that are used on the graph.\n",
    "\n",
    "The tick labels are defaulted to be a string of the tick location, but you can set them to be any string you want, as we did above.\n",
    "\n",
    "### Set the tick locations again \n",
    "When we set the tick locations with the `set_xticks` method, the same labels that set before are kept. Here, we use 5 new tick locations instead of the 3 that we had. We did have three tick labels. These labels are used for the first three ticks, but the last two are empty."
   ]
  },
  {
   "cell_type": "code",
   "execution_count": null,
   "metadata": {},
   "outputs": [],
   "source": [
    "ax.set_xticks([5, 20, 40, 55, 60])\n",
    "fig"
   ]
  },
  {
   "cell_type": "markdown",
   "metadata": {},
   "source": [
    "View the tick labels and notice the last two are empty strings."
   ]
  },
  {
   "cell_type": "code",
   "execution_count": null,
   "metadata": {},
   "outputs": [],
   "source": [
    "list(ax.get_xticklabels())"
   ]
  },
  {
   "cell_type": "markdown",
   "metadata": {},
   "source": [
    "### Setting text styles\n",
    "All the text we placed on our plot was plain. We can add styling to it by changing the text properties. See the documentation for a list of all the [text properties][1]. \n",
    "\n",
    "#### Common text properties\n",
    "* `size` - Number in \"points\" where 1 point is defaulted to 1/72nd of an inch\n",
    "* `color` - One of the [named colors][2]. See the [colors API][3] for more.\n",
    "* `backgroundcolor` - Same as above\n",
    "* `fontname` - Name of font as a string\n",
    "* `rotation` - Degree of rotation\n",
    "\n",
    "[1]: https://matplotlib.org/tutorials/text/text_props.html\n",
    "[2]: https://matplotlib.org/gallery/color/named_colors.html\n",
    "[3]: https://matplotlib.org/tutorials/colors/colors.html"
   ]
  },
  {
   "cell_type": "code",
   "execution_count": null,
   "metadata": {},
   "outputs": [],
   "source": [
    "ax.set_title('Tests', \n",
    "             size=20, \n",
    "             color='firebrick', \n",
    "             backgroundcolor='steelblue',\n",
    "             fontname='Courier New',\n",
    "             rotation=70)\n",
    "fig"
   ]
  },
  {
   "cell_type": "markdown",
   "metadata": {},
   "source": [
    "Any other text may be stylized with those same parameters. Below we do so with the x labels."
   ]
  },
  {
   "cell_type": "code",
   "execution_count": null,
   "metadata": {},
   "outputs": [],
   "source": [
    "ax.set_xlabel('New and Imporved X-Axis Stylized Label', size=15, \n",
    "              color='indigo', fontname='Times New Roman', rotation=15)\n",
    "fig"
   ]
  },
  {
   "cell_type": "markdown",
   "metadata": {},
   "source": [
    "## Use the `tick_params` method to set tick line properties\n",
    "Although there exists a `get_xticklines` method, therer is no `set_xticklines`. Instead, matplotlib has the `tick_params` method to set the properties on the lines themselves. You will need to read the documentation of this method to see all the available parameters that can be used. Below, we specify several properties on the x tick lines."
   ]
  },
  {
   "cell_type": "code",
   "execution_count": null,
   "metadata": {},
   "outputs": [],
   "source": [
    "ax.tick_params(axis='x', color='gold', size=45, width=10, \n",
    "               direction='inout', pad=20, top=True)\n",
    "fig"
   ]
  },
  {
   "cell_type": "markdown",
   "metadata": {},
   "source": [
    "### Set the tick label properties with `tick_params`\n",
    "You can also set the properties of the **labels** with the `tick_params` method as well."
   ]
  },
  {
   "cell_type": "code",
   "execution_count": null,
   "metadata": {},
   "outputs": [],
   "source": [
    "ax.tick_params(axis='y', labelsize=20, labelcolor='tomato', \n",
    "               labelrotation=-20, labelright=True)\n",
    "fig"
   ]
  },
  {
   "cell_type": "markdown",
   "metadata": {},
   "source": [
    "## Exercise\n",
    "Create a Figure with a single Axes. Modify the Axes by using all of the methods in this notebook.\n",
    "\n",
    "* `title`\n",
    "* `xlabel/ylabel`\n",
    "* `xlim/ylim`\n",
    "* `xticks/yticks`\n",
    "* `xticklabels/yticklabels`\n",
    "* `tick_params` "
   ]
  },
  {
   "cell_type": "code",
   "execution_count": null,
   "metadata": {},
   "outputs": [],
   "source": []
  }
 ],
 "metadata": {
  "kernelspec": {
   "display_name": "Python 3",
   "language": "python",
   "name": "python3"
  },
  "language_info": {
   "codemirror_mode": {
    "name": "ipython",
    "version": 3
   },
   "file_extension": ".py",
   "mimetype": "text/x-python",
   "name": "python",
   "nbconvert_exporter": "python",
   "pygments_lexer": "ipython3",
   "version": "3.7.3"
  },
  "varInspector": {
   "cols": {
    "lenName": 16,
    "lenType": 16,
    "lenVar": 40
   },
   "kernels_config": {
    "python": {
     "delete_cmd_postfix": "",
     "delete_cmd_prefix": "del ",
     "library": "var_list.py",
     "varRefreshCmd": "print(var_dic_list())"
    },
    "r": {
     "delete_cmd_postfix": ") ",
     "delete_cmd_prefix": "rm(",
     "library": "var_list.r",
     "varRefreshCmd": "cat(var_dic_list()) "
    }
   },
   "types_to_exclude": [
    "module",
    "function",
    "builtin_function_or_method",
    "instance",
    "_Feature"
   ],
   "window_display": false
  }
 },
 "nbformat": 4,
 "nbformat_minor": 2
}
