{
 "cells": [
  {
   "cell_type": "markdown",
   "metadata": {},
   "source": [
    "# Matplotlib Data Plotting\n",
    "\n",
    "In previous notebooks, we created Figure and Axes objects, and proceeded to change their properties without plotting any actual data. In this notebook, we will learn how to make basic line and scatter plots.\n",
    "\n",
    "## The Axes API\n",
    "The [matplotlib documentation][1] has a nice layout of the Axes API. There are around 300 different calls you make with an Axes object. The API page categorizes and groups each method by its functionality. The first third (approximately) of the categories in the API are used to create plots.\n",
    "\n",
    "The simplest and most common plots are found in the Basics category and include `plot`, `scatter`, `bar`, `pie`, and others.\n",
    "\n",
    "[1]: https://matplotlib.org/api/axes_api.html"
   ]
  },
  {
   "cell_type": "code",
   "execution_count": null,
   "metadata": {},
   "outputs": [],
   "source": [
    "%matplotlib inline\n",
    "import pandas as pd\n",
    "import numpy as np\n",
    "import matplotlib.pyplot as plt"
   ]
  },
  {
   "cell_type": "markdown",
   "metadata": {},
   "source": [
    "## The `plot` method - Creates line plots\n",
    "The `plot` method's primary purpose is to create line plots. It does have the ability to create scatter plots as well, but that task is best reserved for `scatter`.\n",
    "\n",
    "### Plotting 2D Data\n",
    "The `plot` method is very flexible and can take a variety of different inputs. The following teaches a straightforward and consistent approach that is explicit and easy to read.\n",
    "\n",
    "The first two arguments to the `plot` method can be the x and y coordinates of the data. Below, we use numpy arrays to hold our data. We simply plot the square of the x value."
   ]
  },
  {
   "cell_type": "code",
   "execution_count": null,
   "metadata": {},
   "outputs": [],
   "source": [
    "fig, ax = plt.subplots()\n",
    "x = np.arange(-5, 6)\n",
    "y = x ** 2\n",
    "ax.plot(x, y)"
   ]
  },
  {
   "cell_type": "markdown",
   "metadata": {},
   "source": [
    "### What was returned?\n",
    "A list of `Line` objects were returned from our call to the `plot` method. The `plot` method can produce many lines in a single call to it, which is why it returns the results as a list.\n",
    "\n",
    "## Formatting the line\n",
    "The line can be formatted using many different parameters. Please see the documentation for the [Line object][1]. All of the possible parameters are available on that page. The most common parameters are listed below with a short description.\n",
    "\n",
    "* `alpha` - opaqueness of the line - float between 0 and 1 where 0 is completely translucent and 1 is completely opaque\n",
    "* `color` or `c` - color of line - see color section below\n",
    "* `label` - string label for legend\n",
    "* `linestyle` or `ls` - style of line - possible options are '-', '--', '-.', ':'\n",
    "* `linewidth` or `lw` - width of line as a float\n",
    "* `marker` - style of marker - see marker section below\n",
    "* `markeredgecolor` or `mec` - edge color of marker - see color section below\n",
    "* `markeredgewidth` or `mew` - width of marker edge as a float\n",
    "* `markerfacecolor` or `mfc` - face color of marker - see color section below\n",
    "* `markersize` or `ms` - size of marker as a float\n",
    "\n",
    "\n",
    "[1]: https://matplotlib.org/api/_as_gen/matplotlib.lines.Line2D.html#matplotlib.lines.Line2D"
   ]
  },
  {
   "cell_type": "markdown",
   "metadata": {},
   "source": [
    "### Changing properties of our line\n",
    "Use the documentation above for details on how to change properties of a line. Let's begin by changing the line style."
   ]
  },
  {
   "cell_type": "code",
   "execution_count": null,
   "metadata": {},
   "outputs": [],
   "source": [
    "fig, ax = plt.subplots()\n",
    "ax.plot(x, y, linestyle='--')"
   ]
  },
  {
   "cell_type": "markdown",
   "metadata": {},
   "source": [
    "## Matplotlib Colors\n",
    "\n",
    "There are many possible ways to identify a color in matplotlib. Read the [color documentation][1] to see all the ways to specify a color.\n",
    "\n",
    "* an RGB or RGBA tuple of float values in [0, 1] (e.g., (0.1, 0.2, 0.5) or (0.1, 0.2, 0.5, 0.3)). RGBA is short for Red, Green, Blue, Alpha, where Alpha represents the opacity\n",
    "* a hex RGB or RGBA string (e.g., '#0F0F0F' or '#0F0F0F0F');\n",
    "* a string representation of a float value in [0, 1] for gray level (e.g., '0.5');\n",
    "* one of {'b', 'g', 'r', 'c', 'm', 'y', 'k', 'w'}; **I don't use these because they are confusing and not explicit**\n",
    "* a X11/CSS4 color name - **I do use these**\n",
    "\n",
    "### Web Colors\n",
    "You can use any of the following colors that are available to web developers\n",
    "![][2]\n",
    "\n",
    "[1]: https://matplotlib.org/tutorials/colors/colors.html#sphx-glr-tutorials-colors-colors-py\n",
    "[2]: images/named_colors.png"
   ]
  },
  {
   "cell_type": "code",
   "execution_count": null,
   "metadata": {},
   "outputs": [],
   "source": [
    "fig, ax = plt.subplots()\n",
    "ax.plot(x, y, linestyle='--', color='saddlebrown', linewidth=4)"
   ]
  },
  {
   "cell_type": "markdown",
   "metadata": {},
   "source": [
    "## Markers\n",
    "There are a few dozen [styles for markers][1]. These are plotted on every point. Set the `marker` parameter to the string that references the marker you want. Below, we use several more parameters to change the size and color of the marker.\n",
    "\n",
    "[1]: https://matplotlib.org/api/markers_api.html"
   ]
  },
  {
   "cell_type": "code",
   "execution_count": null,
   "metadata": {},
   "outputs": [],
   "source": [
    "fig, ax = plt.subplots()\n",
    "ax.plot(x, y, color='darkred', linestyle='--', marker='s', markersize=12, \n",
    "        markerfacecolor='gold', markeredgecolor='navy',markeredgewidth=4)"
   ]
  },
  {
   "cell_type": "markdown",
   "metadata": {},
   "source": [
    "### Grayscale\n",
    "\n",
    "Use a **string** with a number between 0 and 1 for grayscale."
   ]
  },
  {
   "cell_type": "code",
   "execution_count": null,
   "metadata": {},
   "outputs": [],
   "source": [
    "fig, ax = plt.subplots()\n",
    "ax.plot(x, y, color='.7')"
   ]
  },
  {
   "cell_type": "markdown",
   "metadata": {},
   "source": [
    "## Integration with Pandas - plotting real data\n",
    "Matplotlib makes it simple to create plots when our data is in a DataFrame. Let's begin by reading in the flights data."
   ]
  },
  {
   "cell_type": "code",
   "execution_count": null,
   "metadata": {},
   "outputs": [],
   "source": [
    "pd.options.display.max_columns = 100\n",
    "flights = pd.read_csv('../data/flights.csv', parse_dates=['date'])\n",
    "flights.head(3)"
   ]
  },
  {
   "cell_type": "markdown",
   "metadata": {},
   "source": [
    "### Average carrier delay per departure hour\n",
    "\n",
    "Let's run a calculation before plotting, such as finding the average carrier delay for each departure hour. First, we'll round down each departure time to the nearest hour by creating the column `dep_hour`."
   ]
  },
  {
   "cell_type": "code",
   "execution_count": null,
   "metadata": {},
   "outputs": [],
   "source": [
    "flights['dep_hour'] = flights['dep_time'] // 100\n",
    "flights['dep_hour'].head()"
   ]
  },
  {
   "cell_type": "markdown",
   "metadata": {},
   "source": [
    "We use this new column to calculate the average carrier delay per departure hour."
   ]
  },
  {
   "cell_type": "code",
   "execution_count": null,
   "metadata": {},
   "outputs": [],
   "source": [
    "avg_cd = flights.groupby('dep_hour').agg(average_carrier_delay=('carrier_delay', 'mean'))\n",
    "avg_cd = avg_cd.reset_index()\n",
    "avg_cd.head()"
   ]
  },
  {
   "cell_type": "markdown",
   "metadata": {},
   "source": [
    "### Make a line plot with a DataFrame \n",
    "\n",
    "Matplotlib simplifies the process by providing a `data` parameter. Set this equal to the name of our above DataFrame. Pass the column names as strings as the first two arguments in the `plot` method."
   ]
  },
  {
   "cell_type": "code",
   "execution_count": null,
   "metadata": {},
   "outputs": [],
   "source": [
    "fig, ax = plt.subplots(figsize=(12, 5))\n",
    "ax.plot('dep_hour', 'average_carrier_delay', data=avg_cd)\n",
    "ax.set_xlabel('Departure Hour', fontsize=15)\n",
    "ax.set_title('Average Carrier Delay by Departure Hour', fontsize=20, color='tomato');"
   ]
  },
  {
   "cell_type": "markdown",
   "metadata": {},
   "source": [
    "## Most common Plots\n",
    "Visit the [Axes API][1] to see the most common plotting methods.\n",
    "\n",
    "[1]: https://matplotlib.org/api/axes_api.html"
   ]
  },
  {
   "cell_type": "markdown",
   "metadata": {},
   "source": [
    "## Univariate Analysis\n",
    "\n",
    "These are the primary plots that you will make from your Axes. We just plotted a lines with the `plot` method in our above example. Let's see a few more plots in action."
   ]
  },
  {
   "cell_type": "markdown",
   "metadata": {},
   "source": [
    "### Boxplots"
   ]
  },
  {
   "cell_type": "code",
   "execution_count": null,
   "metadata": {},
   "outputs": [],
   "source": [
    "fig, ax = plt.subplots(figsize=(10, 5))\n",
    "ax.boxplot(x='air_time', data=flights.dropna());"
   ]
  },
  {
   "cell_type": "markdown",
   "metadata": {},
   "source": [
    "Set the `vert` parameter to `False` to make a horizontal box plot."
   ]
  },
  {
   "cell_type": "code",
   "execution_count": null,
   "metadata": {},
   "outputs": [],
   "source": [
    "fig, ax = plt.subplots(figsize=(10, 5))\n",
    "ax.boxplot(x='air_time', data=flights.dropna(), vert=False);"
   ]
  },
  {
   "cell_type": "markdown",
   "metadata": {},
   "source": [
    "### Plotting dates\n",
    "\n",
    "The **`plot_date`** method creates a line or scatter plot with dates in the x-axis."
   ]
  },
  {
   "cell_type": "markdown",
   "metadata": {},
   "source": [
    "### Read in the bikes dataset"
   ]
  },
  {
   "cell_type": "code",
   "execution_count": null,
   "metadata": {},
   "outputs": [],
   "source": [
    "bikes = pd.read_csv('../data/bikes.csv', parse_dates=['starttime', 'stoptime'])\n",
    "bikes.head(3)"
   ]
  },
  {
   "cell_type": "markdown",
   "metadata": {},
   "source": [
    "### Examine relationship between date and temperature"
   ]
  },
  {
   "cell_type": "code",
   "execution_count": null,
   "metadata": {},
   "outputs": [],
   "source": [
    "bikes['temperature'].describe()"
   ]
  },
  {
   "cell_type": "code",
   "execution_count": null,
   "metadata": {},
   "outputs": [],
   "source": [
    "bikes['temperature'].sort_values().head()"
   ]
  },
  {
   "cell_type": "markdown",
   "metadata": {},
   "source": [
    "Remove bad temperature data and sample 2% of the bikes dataset, which will help keep the number of plotted points from overwhelming the graph."
   ]
  },
  {
   "cell_type": "code",
   "execution_count": null,
   "metadata": {},
   "outputs": [],
   "source": [
    "bikes = bikes[bikes['temperature'] > -10]\n",
    "bikes2 = bikes.sample(frac=.02)"
   ]
  },
  {
   "cell_type": "markdown",
   "metadata": {},
   "source": [
    "Call the `plot_date` function."
   ]
  },
  {
   "cell_type": "code",
   "execution_count": null,
   "metadata": {},
   "outputs": [],
   "source": [
    "fig, ax = plt.subplots(figsize=(12, 6))\n",
    "ax.plot_date('starttime', 'temperature', data=bikes2)"
   ]
  },
  {
   "cell_type": "markdown",
   "metadata": {},
   "source": [
    "## Plotting the Number of Riders per Day\n",
    "Let's find the number of riders each day. We need to group by each day."
   ]
  },
  {
   "cell_type": "code",
   "execution_count": null,
   "metadata": {},
   "outputs": [],
   "source": [
    "temperature_count = bikes.resample('D', on='starttime').size()\n",
    "temperature_count = temperature_count.reset_index()\n",
    "temperature_count.head()"
   ]
  },
  {
   "cell_type": "code",
   "execution_count": null,
   "metadata": {},
   "outputs": [],
   "source": [
    "temperature_count.columns = ['starttime', 'count']\n",
    "temperature_count.head()"
   ]
  },
  {
   "cell_type": "code",
   "execution_count": null,
   "metadata": {},
   "outputs": [],
   "source": [
    "fig, ax = plt.subplots(figsize=(12, 5))\n",
    "ax.plot_date('starttime', 'count', data=temperature_count)\n",
    "ax.set_title('Rider Count per Day', fontsize=30)"
   ]
  },
  {
   "cell_type": "markdown",
   "metadata": {},
   "source": [
    "##  Scatterplots \n",
    "Although we have already created some scatterplots above, Matplotlib has a special **`scatter`** function that allows you to set both the color and size of each point individually based on the value of a different variable."
   ]
  },
  {
   "cell_type": "code",
   "execution_count": null,
   "metadata": {},
   "outputs": [],
   "source": [
    "housing = pd.read_csv('../data/housing.csv')\n",
    "housing.head()"
   ]
  },
  {
   "cell_type": "code",
   "execution_count": null,
   "metadata": {},
   "outputs": [],
   "source": [
    "housing.shape"
   ]
  },
  {
   "cell_type": "markdown",
   "metadata": {},
   "source": [
    "### Take a sample of the data\n",
    "Although matplotlib can handle several thousand plotted points, our scatter plot would be a bit too crowded by plotting all the points. Let's use the same method to select a random subset of rows."
   ]
  },
  {
   "cell_type": "code",
   "execution_count": null,
   "metadata": {},
   "outputs": [],
   "source": [
    "housing_sample = housing.sample(200)"
   ]
  },
  {
   "cell_type": "markdown",
   "metadata": {},
   "source": [
    "### Use OverallQual as the size of each point\n",
    "We will size our points based on the square of the OverallQual which are integers between 0 and 10."
   ]
  },
  {
   "cell_type": "code",
   "execution_count": null,
   "metadata": {},
   "outputs": [],
   "source": [
    "housing_sample['OverallQual2'] = housing_sample['OverallQual'] ** 2"
   ]
  },
  {
   "cell_type": "code",
   "execution_count": null,
   "metadata": {},
   "outputs": [],
   "source": [
    "fig, ax = plt.subplots(figsize=(14, 10))\n",
    "ax.scatter('GrLivArea', 'SalePrice', s='OverallQual2', c='BedroomAbvGr', data=housing_sample)"
   ]
  },
  {
   "cell_type": "markdown",
   "metadata": {},
   "source": [
    "## Creating a Legend\n",
    "In our above plot it is impossible to determine what the colors mean. No legend is present to inform us of the number of bedrooms. Unfortunately, this is not a straight forward task in Matplotlib. We must plot each group that we want to form a legend with as a separate call to the `scatter` method. Then we can use the `label` parameter to name the legend.\n",
    "\n",
    "### Boolean Selection\n",
    "We must use a loop to select data for each unique bedroom."
   ]
  },
  {
   "cell_type": "code",
   "execution_count": null,
   "metadata": {},
   "outputs": [],
   "source": [
    "housing['BedroomAbvGr'].unique()"
   ]
  },
  {
   "cell_type": "code",
   "execution_count": null,
   "metadata": {},
   "outputs": [],
   "source": [
    "fig, ax = plt.subplots(figsize=(14, 6))\n",
    "colors = ['red', 'orange', 'yellow', 'green', 'blue', 'indigo', 'violet', 'black']\n",
    "for i in range(8):\n",
    "    filt = housing['BedroomAbvGr'] == i\n",
    "    housing_temp = housing[filt]\n",
    "    ax.scatter('GrLivArea', 'SalePrice', s='OverallQual', color=colors[i], data=housing_temp, label=i)\n",
    "ax.legend();"
   ]
  },
  {
   "cell_type": "markdown",
   "metadata": {},
   "source": [
    "## Exercises"
   ]
  },
  {
   "cell_type": "markdown",
   "metadata": {},
   "source": [
    "### Exercise 1\n",
    "<span  style=\"color:green; font-size:16px\">Create a Figure with three Axes using `plt.subplots`. Use `np.linspace` to create a one dimensional array of data from -5 to 5 of length 100 and store this to `x`. In each of three Axes, plot take some mathematical function of `x` to create `y` values in a line plot. For instance, you can take the square root of `x`.</span>"
   ]
  },
  {
   "cell_type": "code",
   "execution_count": null,
   "metadata": {},
   "outputs": [],
   "source": []
  },
  {
   "cell_type": "markdown",
   "metadata": {},
   "source": [
    "### Exercise 2\n",
    "<span  style=\"color:green; font-size:16px\">Use `np.random.rand` to create two arrays, `x` and `y` that are each 100 units in length. Make a scatter plot of the data. Make the size of the markers proportional to the ratio of y to x. Make the color proportional to y. For scatter plots, use the parameter `c` to control the color with a number. The parameter `s` controls the size. Set the title as well.</span>"
   ]
  },
  {
   "cell_type": "code",
   "execution_count": null,
   "metadata": {},
   "outputs": [],
   "source": []
  },
  {
   "cell_type": "markdown",
   "metadata": {},
   "source": [
    "### Exercise 3\n",
    "<span  style=\"color:green; font-size:16px\">Read in the college dataset and set the index to the institution name. Complete the following tasks:</span>\n",
    "\n",
    "<span  style=\"color:green; font-size:16px\">\n",
    "    \n",
    "* Convert the median earnings within 10 years (MD_EARN_WNE_P10) column to numeric\n",
    "* Create a column for the total SAT score\n",
    "* Select just the columns for SAT total, UGDS, RELAFFIL and MD_EARN_WNE_P10 into another DataFrame called `college_samp`. Continue with this DataFrame for the rest of the Exercise.\n",
    "* Drop any rows with missing values\n",
    "* Randomly sample 10% of the DataFrame and assign it back to itself.\n",
    "* Call the `map` method on the `RELAFFIL` column. Pass it a dictionary to convert the values to color names. Assign the result to the column `color`\n",
    "* Take the square root of the UGDS column and assign it to the column `size`. \n",
    "* Create a scatterplot of the total SAT scores vs the MD_EARN_WNE_P10 column. Color and size each point with their respective columns.\n",
    "* Extra Credit: Annotate the school with the largest population as it is done [in this example](https://matplotlib.org/users/annotations.html)</span>"
   ]
  },
  {
   "cell_type": "code",
   "execution_count": null,
   "metadata": {},
   "outputs": [],
   "source": []
  },
  {
   "cell_type": "markdown",
   "metadata": {},
   "source": [
    "### Exercise 4\n",
    "<span  style=\"color:green; font-size:16px\">Read in the employee dataset and select the `salary` column as a Series, drop the missing values, and assign it to a variable. Read about the `pd.cut` function and create categories that span 25k from 0 to 300k. Save this result as a Series and find the frequency of each category. Then take that result and create a `pie` chart with labels.</span>"
   ]
  },
  {
   "cell_type": "code",
   "execution_count": null,
   "metadata": {},
   "outputs": [],
   "source": []
  }
 ],
 "metadata": {
  "kernelspec": {
   "display_name": "Python 3",
   "language": "python",
   "name": "python3"
  },
  "language_info": {
   "codemirror_mode": {
    "name": "ipython",
    "version": 3
   },
   "file_extension": ".py",
   "mimetype": "text/x-python",
   "name": "python",
   "nbconvert_exporter": "python",
   "pygments_lexer": "ipython3",
   "version": "3.7.3"
  },
  "varInspector": {
   "cols": {
    "lenName": 16,
    "lenType": 16,
    "lenVar": 40
   },
   "kernels_config": {
    "python": {
     "delete_cmd_postfix": "",
     "delete_cmd_prefix": "del ",
     "library": "var_list.py",
     "varRefreshCmd": "print(var_dic_list())"
    },
    "r": {
     "delete_cmd_postfix": ") ",
     "delete_cmd_prefix": "rm(",
     "library": "var_list.r",
     "varRefreshCmd": "cat(var_dic_list()) "
    }
   },
   "types_to_exclude": [
    "module",
    "function",
    "builtin_function_or_method",
    "instance",
    "_Feature"
   ],
   "window_display": false
  }
 },
 "nbformat": 4,
 "nbformat_minor": 2
}
