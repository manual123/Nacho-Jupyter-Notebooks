{
 "cells": [
  {
   "cell_type": "markdown",
   "metadata": {},
   "source": [
    "# Matplotlib Text and Lines\n",
    "\n",
    "Let's create our Figure and Axes with the `subplots` function and unpack these objects to `fig` and `ax`. We will also set the background color of each to distinguish one from the other."
   ]
  },
  {
   "cell_type": "code",
   "execution_count": null,
   "metadata": {},
   "outputs": [],
   "source": [
    "%matplotlib inline\n",
    "import matplotlib.pyplot as plt\n",
    "fig, ax = plt.subplots(figsize=(8, 4))\n",
    "fig.set_facecolor('tan')\n",
    "ax.set_facecolor('plum')"
   ]
  },
  {
   "cell_type": "markdown",
   "metadata": {},
   "source": [
    "## Add text to the Axes with the `text` method\n",
    "Previously, we changed the text of the x and y axis labels, the title of the graph, and the tick labels. We can place text anywhere on our Axes with the `text` method. We pass it the x and y coordinates of the text, the text itself, and any of the text properties we previously learned. "
   ]
  },
  {
   "cell_type": "code",
   "execution_count": null,
   "metadata": {},
   "outputs": [],
   "source": [
    "ax.text(x=1, y=1.2, s='some text', \n",
    "        color='red', backgroundcolor='yellow', \n",
    "        size=40, rotation=30, fontname='Comic Sans MS')"
   ]
  },
  {
   "cell_type": "markdown",
   "metadata": {},
   "source": [
    "### Surprise Figure output\n",
    "When we output the figure below, we see that the text is very far outside of our Axes. This is because our Axes has x and y limits by default set at 0 to 1. Our text was plotted at (2, 3), well outside of the limits of our graph."
   ]
  },
  {
   "cell_type": "code",
   "execution_count": null,
   "metadata": {},
   "outputs": [],
   "source": [
    "fig"
   ]
  },
  {
   "cell_type": "markdown",
   "metadata": {},
   "source": [
    "## Change the x and y limits to include the text\n",
    "We can change the limits of our x and y axis to include the text. Let's do this with the `set_xlim` and `set_ylim` methods."
   ]
  },
  {
   "cell_type": "code",
   "execution_count": null,
   "metadata": {},
   "outputs": [],
   "source": [
    "ax.set_xlim(1, 10)\n",
    "ax.set_ylim(-3, 5)\n",
    "fig"
   ]
  },
  {
   "cell_type": "markdown",
   "metadata": {},
   "source": [
    "### Assigning the result of a Matplotlib text object to a variable\n",
    "Look back above, where we called the `text` method. A matplotlib Text object was returned. We did not assign this object to a variable. Let's run the same command, but assign the result to a variable so that we can reference it later."
   ]
  },
  {
   "cell_type": "code",
   "execution_count": null,
   "metadata": {},
   "outputs": [],
   "source": [
    "text = ax.text(x=2, y=3, s='some text', \n",
    "               color='red', backgroundcolor='yellow', \n",
    "               size=40, rotation=30, fontname='Comic Sans MS')"
   ]
  },
  {
   "cell_type": "code",
   "execution_count": null,
   "metadata": {},
   "outputs": [],
   "source": [
    "fig"
   ]
  },
  {
   "cell_type": "markdown",
   "metadata": {},
   "source": [
    "## Set properties after creation\n",
    "Once you have a reference to the text object, you can change its properties whenever you desire. Let's use the `set_position` method to change its position on the graph."
   ]
  },
  {
   "cell_type": "code",
   "execution_count": null,
   "metadata": {},
   "outputs": [],
   "source": [
    "text.set_position((7, 0))"
   ]
  },
  {
   "cell_type": "code",
   "execution_count": null,
   "metadata": {},
   "outputs": [],
   "source": [
    "fig"
   ]
  },
  {
   "cell_type": "markdown",
   "metadata": {},
   "source": [
    "### Why are there two of the same texts on the page?\n",
    "Every time you call the `text` method a completely new text object will be created and placed on the Axes. Even if the same exact parameters are used or if the same notebook cell is execute, a new text object will be created. You can always see all the text objects on your Axes with the `texts` attribute. It returns a list of all the text objects you created."
   ]
  },
  {
   "cell_type": "code",
   "execution_count": null,
   "metadata": {},
   "outputs": [],
   "source": [
    "ax.texts"
   ]
  },
  {
   "cell_type": "markdown",
   "metadata": {},
   "source": [
    "Let's assign our original text object to a variable and then change some of its properties."
   ]
  },
  {
   "cell_type": "code",
   "execution_count": null,
   "metadata": {},
   "outputs": [],
   "source": [
    "text_original = ax.texts[0]\n",
    "text_original.set_color('royalblue')\n",
    "text_original.set_size(20)\n",
    "text_original.set_rotation(90)\n",
    "fig"
   ]
  },
  {
   "cell_type": "markdown",
   "metadata": {},
   "source": [
    "### Remove text\n",
    "Use the `remove` method to completely remove some text from your Axes."
   ]
  },
  {
   "cell_type": "code",
   "execution_count": null,
   "metadata": {},
   "outputs": [],
   "source": [
    "text_original.remove()\n",
    "fig"
   ]
  },
  {
   "cell_type": "markdown",
   "metadata": {},
   "source": [
    "## Adding horizontal and vertical lines\n",
    "We can plot horizontal lines with `hlines`. It takes three main parameters, `y` - the y coordinate, `xmin`, the left starting point of the line, and `xmax` the right ending point of the line."
   ]
  },
  {
   "cell_type": "code",
   "execution_count": null,
   "metadata": {},
   "outputs": [],
   "source": [
    "ax.hlines(y=4, xmin=5, xmax=9.2)"
   ]
  },
  {
   "cell_type": "code",
   "execution_count": null,
   "metadata": {},
   "outputs": [],
   "source": [
    "fig"
   ]
  },
  {
   "cell_type": "markdown",
   "metadata": {},
   "source": [
    "We can create multiple horizontal lines at the same time using lists."
   ]
  },
  {
   "cell_type": "code",
   "execution_count": null,
   "metadata": {},
   "outputs": [],
   "source": [
    "ax.hlines(y=[0, 1, 2], xmin=[2, 3, 4], xmax=[3, 4, 5])"
   ]
  },
  {
   "cell_type": "code",
   "execution_count": null,
   "metadata": {},
   "outputs": [],
   "source": [
    "fig"
   ]
  },
  {
   "cell_type": "markdown",
   "metadata": {},
   "source": [
    "### Set common line properties\n",
    "Some common properties that we can set with lines are:\n",
    "\n",
    "* linewidth\n",
    "* color\n",
    "* linestyle"
   ]
  },
  {
   "cell_type": "code",
   "execution_count": null,
   "metadata": {},
   "outputs": [],
   "source": [
    "ax.hlines(y=3, xmin=2, xmax=7, linewidth=10, color='red', linestyle='dashed')"
   ]
  },
  {
   "cell_type": "code",
   "execution_count": null,
   "metadata": {},
   "outputs": [],
   "source": [
    "fig"
   ]
  },
  {
   "cell_type": "markdown",
   "metadata": {},
   "source": [
    "## Create vertical lines with `vlines`\n",
    "We can use the `vlines` method analogously to create vertical lines."
   ]
  },
  {
   "cell_type": "code",
   "execution_count": null,
   "metadata": {},
   "outputs": [],
   "source": [
    "ax.vlines(x=6, ymin=-2.4, ymax=4, linewidth=3)\n",
    "fig"
   ]
  },
  {
   "cell_type": "markdown",
   "metadata": {},
   "source": [
    "### Retrieve the lines from the graph\n",
    "Notice that the returned object here is a `LineCollection`, which is the type of object matplotlib uses as a container for multiple lines. Use the `collections` attribute to return a list of all the `LineCollection` objects. If you ran the cells above exactly once, you should have three items in the list."
   ]
  },
  {
   "cell_type": "code",
   "execution_count": null,
   "metadata": {},
   "outputs": [],
   "source": [
    "ax.collections"
   ]
  },
  {
   "cell_type": "markdown",
   "metadata": {},
   "source": [
    "### Assign one of the line collections to a variable\n",
    "Let's assign the second line we drew to a variable and then use some of the methods that begin with `set_` to change its properties."
   ]
  },
  {
   "cell_type": "code",
   "execution_count": null,
   "metadata": {},
   "outputs": [],
   "source": [
    "collection1 = ax.collections[1]\n",
    "collection1.set_linewidth(5)\n",
    "collection1.set_color('blue')\n",
    "fig"
   ]
  },
  {
   "cell_type": "markdown",
   "metadata": {},
   "source": [
    "### Remove an item from the Axes\n",
    "All matplotlib objects have a `remove` method which will remove them from the Axes. Let's remove our line collection."
   ]
  },
  {
   "cell_type": "code",
   "execution_count": null,
   "metadata": {},
   "outputs": [],
   "source": [
    "collection1.remove()\n",
    "fig"
   ]
  },
  {
   "cell_type": "markdown",
   "metadata": {},
   "source": [
    "### Clear the entire Axes\n",
    "Use the `clear` method to remove every object from the Axes. Notice, that the x and y limits are back to the original (0, 1) range. The face color remains."
   ]
  },
  {
   "cell_type": "code",
   "execution_count": null,
   "metadata": {},
   "outputs": [],
   "source": [
    "ax.clear()\n",
    "fig"
   ]
  },
  {
   "cell_type": "markdown",
   "metadata": {},
   "source": [
    "## Add grid lines with the `grid` method\n",
    "You may add a background grid to your Axes with the `grid` method. Pass the `axis` parameter a string 'x', 'y', or 'both' to determine which axis will get the grid."
   ]
  },
  {
   "cell_type": "code",
   "execution_count": null,
   "metadata": {},
   "outputs": [],
   "source": [
    "ax.grid(linestyle='dashed', color='brown', linewidth=3)\n",
    "fig"
   ]
  },
  {
   "cell_type": "markdown",
   "metadata": {},
   "source": [
    "### Toggle the grid on and off\n",
    "The `grid` method does not return an object. Matplotlib treats the `grid` method like an on/off switch. Call it with no parameters to turn the grid off."
   ]
  },
  {
   "cell_type": "code",
   "execution_count": null,
   "metadata": {},
   "outputs": [],
   "source": [
    "ax.grid()\n",
    "fig"
   ]
  },
  {
   "cell_type": "markdown",
   "metadata": {},
   "source": [
    "### Control which axis has the grid\n",
    "Use the `axis` method to control which direction the grid appears. By default it is set to 'both'."
   ]
  },
  {
   "cell_type": "code",
   "execution_count": null,
   "metadata": {},
   "outputs": [],
   "source": [
    "ax.grid(linestyle='dashed', color='green', linewidth=3, axis='x')\n",
    "fig"
   ]
  },
  {
   "cell_type": "markdown",
   "metadata": {},
   "source": [
    "## Annotating a point with an arrow\n",
    "Use the `annotate` method to place text at one point (`xytext` parameter) on your Axes, while pointing to another point (`xy`) with an arrow. You must use the `arrowprops` parameter to actually draw the arrow."
   ]
  },
  {
   "cell_type": "code",
   "execution_count": null,
   "metadata": {},
   "outputs": [],
   "source": [
    "t = ax.annotate('annotating another point (.3, .4)',\n",
    "                xy=(.3, .4), xytext=(.7, .8), arrowprops={'color':'blue'},\n",
    "               size=15)\n",
    "fig"
   ]
  }
 ],
 "metadata": {
  "kernelspec": {
   "display_name": "Python 3",
   "language": "python",
   "name": "python3"
  },
  "language_info": {
   "codemirror_mode": {
    "name": "ipython",
    "version": 3
   },
   "file_extension": ".py",
   "mimetype": "text/x-python",
   "name": "python",
   "nbconvert_exporter": "python",
   "pygments_lexer": "ipython3",
   "version": "3.7.3"
  }
 },
 "nbformat": 4,
 "nbformat_minor": 2
}
