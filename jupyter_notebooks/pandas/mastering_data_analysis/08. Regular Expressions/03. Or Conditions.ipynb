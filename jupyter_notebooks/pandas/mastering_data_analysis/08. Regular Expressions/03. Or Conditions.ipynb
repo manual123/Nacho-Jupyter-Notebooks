{
 "cells": [
  {
   "cell_type": "markdown",
   "metadata": {},
   "source": [
    "# Or Conditions\n",
    "\n",
    "## The pipe metacharacter `|`\n",
    "\n",
    "The pipe metacharacter is equivalent to an **or** condition. It matches the entire word before or after the pipe. The regex `'Friend|Enemy'` matches any string with 'Friend' or 'Enemy' in it."
   ]
  },
  {
   "cell_type": "code",
   "execution_count": null,
   "metadata": {},
   "outputs": [],
   "source": [
    "import pandas as pd\n",
    "movie = pd.read_csv('../data/movie.csv')\n",
    "title = movie['title']\n",
    "title.head(3)"
   ]
  },
  {
   "cell_type": "code",
   "execution_count": null,
   "metadata": {},
   "outputs": [],
   "source": [
    "pattern = 'Friend|Enemy'\n",
    "filt = title.str.contains(pattern)\n",
    "title[filt]"
   ]
  },
  {
   "cell_type": "markdown",
   "metadata": {},
   "source": [
    "You can add as many pipes as you please:"
   ]
  },
  {
   "cell_type": "code",
   "execution_count": null,
   "metadata": {},
   "outputs": [],
   "source": [
    "pattern = 'Friend|Enemy|Good|Evil'\n",
    "filt = title.str.contains(pattern)\n",
    "title[filt].head(10)"
   ]
  },
  {
   "cell_type": "markdown",
   "metadata": {},
   "source": [
    "## The brackets metacharacter `[ ]`\n",
    "The brackets metacharacter allows you to match one of several characters at a single particular position. As we saw regex `'[xyz]'` matches any single character 'x', 'y', or 'z'.\n",
    "\n",
    "Another example, `'T[aeiou]d'` matches any words that begin with 'T', followed by exactly one vowel and then 'd'. The brackets contain all the possible matches for a single character.\n",
    "\n",
    "Specifically, it matches the following: 'Tad', 'Ted', 'Tid', 'Tod', and 'Tud'. The brackets are a single character **or** condition, where as the pipe character is an entire phrase **or** condition."
   ]
  },
  {
   "cell_type": "code",
   "execution_count": null,
   "metadata": {},
   "outputs": [],
   "source": [
    "pattern = 'T[aeiou]d'\n",
    "filt = title.str.contains(pattern)\n",
    "title[filt]"
   ]
  },
  {
   "cell_type": "markdown",
   "metadata": {},
   "source": [
    "### Entire character classes within the brackets\n",
    "Let's say you want to match all the lowercase letters 'a' through 'z'. You could write each letter within the brackets. Thankfully, there is a much easier way with **character classes**.\n",
    "\n",
    "Character classes are special notation within the brackets that can be used to denote entire subsets of characters. Take the following:\n",
    "\n",
    "* `'[0-9]'` represents all digits 0 through 9\n",
    "* `'[a-z]'` represents all lowercase letters\n",
    "* `'[A-Z]'` represents all uppercase letters\n",
    "* `'[a-zA-Z]'` represents all lowercase and uppercase letters\n",
    "\n",
    "This notation only works within the brackets."
   ]
  },
  {
   "cell_type": "markdown",
   "metadata": {},
   "source": [
    "### Digits in movies\n",
    "Let's match all movies with a digit in them."
   ]
  },
  {
   "cell_type": "code",
   "execution_count": null,
   "metadata": {},
   "outputs": [],
   "source": [
    "pattern = '[0-9]'\n",
    "filt = title.str.contains(pattern)\n",
    "title[filt].head()"
   ]
  },
  {
   "cell_type": "markdown",
   "metadata": {},
   "source": [
    "### Matching movies with 2 digits in a row\n",
    "We can match movies with two digits in a row by using the digits character class twice."
   ]
  },
  {
   "cell_type": "code",
   "execution_count": null,
   "metadata": {},
   "outputs": [],
   "source": [
    "pattern = '[0-9][0-9]'\n",
    "filt = title.str.contains(pattern)\n",
    "title[filt].head()"
   ]
  },
  {
   "cell_type": "markdown",
   "metadata": {},
   "source": [
    "## Combining Special Characters\n",
    "You are allowed to combine any number of literal and special characters together with your regex. For instance, matching movies with two or more digits in a row could have been done by using the curly braces for repeats like this:"
   ]
  },
  {
   "cell_type": "code",
   "execution_count": null,
   "metadata": {},
   "outputs": [],
   "source": [
    "pattern = '[0-9]{2,}'\n",
    "filt = title.str.contains(pattern)\n",
    "title[filt].head()"
   ]
  },
  {
   "cell_type": "markdown",
   "metadata": {},
   "source": [
    "### Find all movies that begin with exactly 4 digits in a row\n",
    "We can use the caret to anchor the digits to the start and the curly braces to match exactly 4 digits."
   ]
  },
  {
   "cell_type": "code",
   "execution_count": null,
   "metadata": {},
   "outputs": [],
   "source": [
    "pattern = '^[0-9]{4}'\n",
    "filt = title.str.contains(pattern)\n",
    "title[filt].head()"
   ]
  },
  {
   "cell_type": "markdown",
   "metadata": {},
   "source": [
    "### Find all movies that begin with 'The' and end with 'Movie'\n",
    "We anchor 'The' to the beginning with the caret and 'Movie' to the end with the dollar symbol. We use **`.*`** in the middle to represent any character repeated 0 or more times."
   ]
  },
  {
   "cell_type": "code",
   "execution_count": null,
   "metadata": {},
   "outputs": [],
   "source": [
    "pattern = '^The .* Movie$'\n",
    "filt = title.str.contains(pattern)\n",
    "title[filt].head()"
   ]
  },
  {
   "cell_type": "markdown",
   "metadata": {},
   "source": [
    "### Find all movies that are exactly 10 characters long\n",
    "`.{10}` matches exactly any 10 characters in a row. We must anchor it to the beginning and end to ensure that the string is exactly 10 characters in length."
   ]
  },
  {
   "cell_type": "code",
   "execution_count": null,
   "metadata": {},
   "outputs": [],
   "source": [
    "pattern = '^.{10}$'\n",
    "filt = title.str.contains(pattern)\n",
    "title[filt].head()"
   ]
  },
  {
   "cell_type": "markdown",
   "metadata": {},
   "source": [
    "## Exercises"
   ]
  },
  {
   "cell_type": "markdown",
   "metadata": {},
   "source": [
    "### Exercise 1\n",
    "<span  style=\"color:green; font-size:16px\">Find all movies that begin with 'The' followed by the next word that begins with digits.</span>"
   ]
  },
  {
   "cell_type": "code",
   "execution_count": null,
   "metadata": {},
   "outputs": [],
   "source": []
  },
  {
   "cell_type": "markdown",
   "metadata": {},
   "source": [
    "### Exercise 2\n",
    "<span  style=\"color:green; font-size:16px\">Find all movies that have three consecutive capital letters in them.</span>"
   ]
  },
  {
   "cell_type": "code",
   "execution_count": null,
   "metadata": {},
   "outputs": [],
   "source": []
  },
  {
   "cell_type": "markdown",
   "metadata": {},
   "source": [
    "### Exercise 3\n",
    "<span  style=\"color:green; font-size:16px\">Find all movies that have begin and end with a capital letter.</span>"
   ]
  },
  {
   "cell_type": "code",
   "execution_count": null,
   "metadata": {},
   "outputs": [],
   "source": []
  },
  {
   "cell_type": "markdown",
   "metadata": {},
   "source": [
    "### Exercise 4\n",
    "<span  style=\"color:green; font-size:16px\">Find all the movies that have a digit followed by a comma followed by a digit.</span>"
   ]
  },
  {
   "cell_type": "code",
   "execution_count": null,
   "metadata": {},
   "outputs": [],
   "source": []
  },
  {
   "cell_type": "markdown",
   "metadata": {},
   "source": [
    "### Exercise 5\n",
    "<span  style=\"color:green; font-size:16px\">Find all the movies that have either an ampersand or a question mark in them.</span>"
   ]
  },
  {
   "cell_type": "code",
   "execution_count": null,
   "metadata": {},
   "outputs": [],
   "source": []
  },
  {
   "cell_type": "markdown",
   "metadata": {},
   "source": [
    "### Exercise 6\n",
    "<span  style=\"color:green; font-size:16px\">Which movie has the most ampersands, question marks, and periods in it?</span>"
   ]
  },
  {
   "cell_type": "code",
   "execution_count": null,
   "metadata": {},
   "outputs": [],
   "source": []
  }
 ],
 "metadata": {
  "kernelspec": {
   "display_name": "Python 3",
   "language": "python",
   "name": "python3"
  },
  "language_info": {
   "codemirror_mode": {
    "name": "ipython",
    "version": 3
   },
   "file_extension": ".py",
   "mimetype": "text/x-python",
   "name": "python",
   "nbconvert_exporter": "python",
   "pygments_lexer": "ipython3",
   "version": "3.7.3"
  }
 },
 "nbformat": 4,
 "nbformat_minor": 2
}
