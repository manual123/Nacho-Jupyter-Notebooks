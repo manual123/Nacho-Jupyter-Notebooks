{
 "cells": [
  {
   "cell_type": "markdown",
   "metadata": {},
   "source": [
    "# Transform and Filter with Groupby\n",
    "\n",
    "Applying an aggregating function to our groups is the most common operation. But, there are many more available things we can do to our groups besides this. Pandas provides the GroupBy `filter` method to either keep or reject groups **as a whole**. This is very similar to boolean indexing except that we apply the boolean filter to the entire group. An example with a small fake dataset can help us learn how it works."
   ]
  },
  {
   "cell_type": "code",
   "execution_count": null,
   "metadata": {},
   "outputs": [],
   "source": [
    "import pandas as pd\n",
    "item = ['A', 'A', 'B', 'B', 'B', 'C', 'C', 'D', 'D']\n",
    "quantity = [2, 10, 3, 7, 6, 5, 2, 10, 12]\n",
    "df = pd.DataFrame({'item': item, 'quantity': quantity})\n",
    "df"
   ]
  },
  {
   "cell_type": "markdown",
   "metadata": {},
   "source": [
    "## Back to boolean indexing\n",
    "Before we filter by group, lets look at how we filter by row (boolean indexing). For instance, let's select all the items with quantity greater than 5. We first create a boolean series and then pass this boolean series to the selection operator."
   ]
  },
  {
   "cell_type": "code",
   "execution_count": null,
   "metadata": {},
   "outputs": [],
   "source": [
    "filt = df['quantity'] > 5\n",
    "df[filt]"
   ]
  },
  {
   "cell_type": "markdown",
   "metadata": {},
   "source": [
    "### Filter by group total\n",
    "Let's say we wanted to keep only the items with a total quantity greater than 15. One way to do this would be to find the total quantity per item and find just those items with the total greater than 15 and go back and filter the original dataset."
   ]
  },
  {
   "cell_type": "code",
   "execution_count": null,
   "metadata": {},
   "outputs": [],
   "source": [
    "total = df.groupby('item').agg(total_quantity=('quantity', 'sum')).reset_index()\n",
    "total"
   ]
  },
  {
   "cell_type": "code",
   "execution_count": null,
   "metadata": {},
   "outputs": [],
   "source": [
    "filt = total['total_quantity'] > 15\n",
    "total[filt]"
   ]
  },
  {
   "cell_type": "markdown",
   "metadata": {},
   "source": [
    "From here we can use the `isin` method on our original DataFrame to get what we desire."
   ]
  },
  {
   "cell_type": "code",
   "execution_count": null,
   "metadata": {},
   "outputs": [],
   "source": [
    "items = total.loc[filt, 'item']\n",
    "items"
   ]
  },
  {
   "cell_type": "code",
   "execution_count": null,
   "metadata": {},
   "outputs": [],
   "source": [
    "filt2 = df['item'].isin(items)\n",
    "df[filt2]"
   ]
  },
  {
   "cell_type": "markdown",
   "metadata": {},
   "source": [
    "## Shortcut with `filter`\n",
    "\n",
    "The Groupby `filter` method handles this procedure in a direct manner. It is a somewhat complicated method so it will take some time to understand. You first must create a function that must return a boolean value. pandas will implicitly pass this function a DataFrame consisting of just the rows of the current group.\n",
    "\n",
    "Take a look at the `find_total` function below. It gets called once per group. It receives the current group as a DataFrame and assigns it to the variable `sub_df`. You can call any normal DataFrame methods on `sub_df`. Here, we select the quantity column and sum it. We then compare this sum against 15 and return a boolean. The end result is a DataFrame with only the items that had a total quantity of more than 15."
   ]
  },
  {
   "cell_type": "code",
   "execution_count": null,
   "metadata": {},
   "outputs": [],
   "source": [
    "def find_total(sub_df):\n",
    "    return sub_df['quantity'].sum() > 15"
   ]
  },
  {
   "cell_type": "code",
   "execution_count": null,
   "metadata": {},
   "outputs": [],
   "source": [
    "df.groupby('item').filter(find_total)"
   ]
  },
  {
   "cell_type": "markdown",
   "metadata": {},
   "source": [
    "Notice that the `find_total` function name was passed to the `filter` method without being called. Just the name itself was passed. Internally, Pandas will use this function and pass it each group as a DataFrame.\n",
    "\n",
    "### Viewing each \"Sub-DataFrame\"\n",
    "\n",
    "The name `sub_df` was chosen to signify that the object being passed to `find_total` was indeed a DataFrame. We can print out each sub-DataFrame during each call to `find_total` to get a better idea of what is happening. Let's add a print statement to it."
   ]
  },
  {
   "cell_type": "code",
   "execution_count": null,
   "metadata": {},
   "outputs": [],
   "source": [
    "def find_total2(sub_df):\n",
    "    print(sub_df, end='\\n\\n')\n",
    "    return sub_df['quantity'].sum() > 15"
   ]
  },
  {
   "cell_type": "code",
   "execution_count": null,
   "metadata": {},
   "outputs": [],
   "source": [
    "df.groupby('item').filter(find_total2)"
   ]
  },
  {
   "cell_type": "markdown",
   "metadata": {},
   "source": [
    "## Getting a nicer display\n",
    "Instead of printing to the screen, we can use the `display` function from the `IPython.display` module to get the same HTML output that we are accustomed to. This can be quite helpful when debugging."
   ]
  },
  {
   "cell_type": "code",
   "execution_count": null,
   "metadata": {},
   "outputs": [],
   "source": [
    "from IPython.display import display"
   ]
  },
  {
   "cell_type": "code",
   "execution_count": null,
   "metadata": {},
   "outputs": [],
   "source": [
    "def find_total3(sub_df):\n",
    "    display(sub_df)\n",
    "    total = sub_df['quantity'].sum()\n",
    "    print(f'total is {total}')\n",
    "    return total > 15\n",
    "\n",
    "df.groupby('item').filter(find_total3)"
   ]
  },
  {
   "cell_type": "markdown",
   "metadata": {},
   "source": [
    "### Summary of the Groupby `filter` method\n",
    "\n",
    "* Scans each group independently\n",
    "* Must write a custom function\n",
    "* The custom function implicitly gets passed a DataFrame of just that group\n",
    "* The custom function must return a single boolean value\n",
    "* Each group is either kept or dropped based on the returned boolean value\n",
    "* The end result is the original DataFrame (same number of columns) with the rows of certain groups filtered out"
   ]
  },
  {
   "cell_type": "markdown",
   "metadata": {},
   "source": [
    "## Using an anonymous function\n",
    "\n",
    "If the custom function can be written in a single line, you may use an anonymous function. The same sub-DataFrame is passed to it like above."
   ]
  },
  {
   "cell_type": "code",
   "execution_count": null,
   "metadata": {},
   "outputs": [],
   "source": [
    "df.groupby('item').filter(lambda sub_df: sub_df['quantity'].sum() > 15)"
   ]
  },
  {
   "cell_type": "markdown",
   "metadata": {},
   "source": [
    "### A more practical example - Finding actors that appear in at least 25 movies\n",
    "Let's read in the movie dataset and filter for actors that have appeared in at least 25 movies."
   ]
  },
  {
   "cell_type": "code",
   "execution_count": null,
   "metadata": {},
   "outputs": [],
   "source": [
    "movie = pd.read_csv('../data/movie.csv')\n",
    "movie.head(3)"
   ]
  },
  {
   "cell_type": "markdown",
   "metadata": {},
   "source": [
    "### Create a custom function\n",
    "Our custom function is very simple. We merely need to check if the number of rows is 25 or more. Note, that we are only considering the actor1 column."
   ]
  },
  {
   "cell_type": "code",
   "execution_count": null,
   "metadata": {},
   "outputs": [],
   "source": [
    "movie_top_actor = movie.groupby('actor1').filter(lambda sub_df: len(sub_df) >= 25)\n",
    "movie_top_actor.head()"
   ]
  },
  {
   "cell_type": "markdown",
   "metadata": {},
   "source": [
    "### Verify results\n",
    "\n",
    "Let's verify the results by returning the frequency of occurrence for each actor1 of the returned DataFrame."
   ]
  },
  {
   "cell_type": "code",
   "execution_count": null,
   "metadata": {},
   "outputs": [],
   "source": [
    "movie_top_actor['actor1'].value_counts()"
   ]
  },
  {
   "cell_type": "markdown",
   "metadata": {},
   "source": [
    "## The Groupby `transform` method\n",
    "\n",
    "There are a couple of different use-cases for the Groupby `transform` method. \n",
    "\n",
    "### `transform` first use case - aggregation\n",
    "\n",
    "The first, is that it can perform an aggregation just like the `agg` method, but will return this aggregated value for each row in the group. An example showing the difference can clear this up. Let's output the original DataFrame again."
   ]
  },
  {
   "cell_type": "code",
   "execution_count": null,
   "metadata": {},
   "outputs": [],
   "source": [
    "df"
   ]
  },
  {
   "cell_type": "markdown",
   "metadata": {},
   "source": [
    "Previously, we found the total quantity for each group."
   ]
  },
  {
   "cell_type": "code",
   "execution_count": null,
   "metadata": {},
   "outputs": [],
   "source": [
    "df.groupby('item').agg(total_quantity=('quantity', 'sum'))"
   ]
  },
  {
   "cell_type": "markdown",
   "metadata": {},
   "source": [
    "### Use `transform` instead of `agg`\n",
    "\n",
    "We can aggregate the quantity column again but in a different manner with `transform`. There are several differences here. With the syntax, we place the aggregating column (quantity) in the brackets and then call the `transform` method. The quantity column is aggregated, but this aggregated value is returned for each row. Also, a Series is returned."
   ]
  },
  {
   "cell_type": "code",
   "execution_count": null,
   "metadata": {},
   "outputs": [],
   "source": [
    "df.groupby('item')['quantity'].transform('sum')"
   ]
  },
  {
   "cell_type": "markdown",
   "metadata": {},
   "source": [
    "### Can append this to the original DataFrame\n",
    "\n",
    "Since `transform` always returns an object the same length as the original DataFrame, a common scenario involves appending the result to the original DataFrame. "
   ]
  },
  {
   "cell_type": "code",
   "execution_count": null,
   "metadata": {},
   "outputs": [],
   "source": [
    "df2 = df.copy()\n",
    "df2['group total'] = df.groupby('item')['quantity'].transform('sum')\n",
    "df2"
   ]
  },
  {
   "cell_type": "markdown",
   "metadata": {},
   "source": [
    "### `transform` second use case - return a new value for each row in the group\n",
    "You can also use `transform` to apply a specific transformation to each value in the group. For instance, we can divide each value in the group by the maximum of that specific group. For this, we need a custom function."
   ]
  },
  {
   "cell_type": "code",
   "execution_count": null,
   "metadata": {},
   "outputs": [],
   "source": [
    "def divide_max(sub_series):\n",
    "    return sub_series / sub_series.max()"
   ]
  },
  {
   "cell_type": "code",
   "execution_count": null,
   "metadata": {},
   "outputs": [],
   "source": [
    "df.groupby('item')['quantity'].transform(divide_max)"
   ]
  },
  {
   "cell_type": "markdown",
   "metadata": {},
   "source": [
    "### Implicitly passed a Series\n",
    "`transform` is different than `filter` in that it is implicitly passes just a Series of data to the custom function. So you only have access to that one Series inside of the custom function and not all of the columns like you do with `filter`. It can be instructive to print out everything that is happening within the custom function. Here we print out both the implicitly passed original Series and the returned transformed Series."
   ]
  },
  {
   "cell_type": "code",
   "execution_count": null,
   "metadata": {},
   "outputs": [],
   "source": [
    "def divide_max2(sub_series):\n",
    "    print(\"Original\")\n",
    "    display(sub_series)\n",
    "    print(\"Transformed\")\n",
    "    display(sub_series / sub_series.max())\n",
    "    print(\"\\n\\n\")\n",
    "    return sub_series / sub_series.max()\n",
    "\n",
    "df.groupby('item')['quantity'].transform(divide_max2)"
   ]
  },
  {
   "cell_type": "markdown",
   "metadata": {},
   "source": [
    "## `transform` must return either a single value or a Series the same length as the group\n",
    "\n",
    "The custom function that you use with `transform` must return either a single value or a Series the same exact length as the group. Our first use-case returned an aggregation (a single value), while our second returned the Series divided by the max of each group."
   ]
  },
  {
   "cell_type": "markdown",
   "metadata": {},
   "source": [
    "## Summary of the GroupBy `transform` method\n",
    "\n",
    "* The applied function must return either a single value or a Series the same length as the group\n",
    "* Can use either a custom function or a string name of a pandas method\n",
    "* If a single value is returned from the custom function, then that value is repeated for the length of the group\n",
    "* The final Pandas object returned always has the same number of values as the original"
   ]
  },
  {
   "cell_type": "markdown",
   "metadata": {},
   "source": [
    "## Exercises"
   ]
  },
  {
   "cell_type": "markdown",
   "metadata": {},
   "source": [
    "Execute the following cell to read in the college dataset and then use it for the following exercises."
   ]
  },
  {
   "cell_type": "code",
   "execution_count": null,
   "metadata": {},
   "outputs": [],
   "source": [
    "pd.options.display.max_columns = 100\n",
    "college = pd.read_csv('../data/college.csv')\n",
    "college.head(3)"
   ]
  },
  {
   "cell_type": "markdown",
   "metadata": {},
   "source": [
    "### Exercise 1\n",
    "<span  style=\"color:green; font-size:16px\">Filter the college DataFrame for states that have more than 500,000 total undergraduate students. Can you verify your results?</span>"
   ]
  },
  {
   "cell_type": "code",
   "execution_count": null,
   "metadata": {},
   "outputs": [],
   "source": []
  },
  {
   "cell_type": "markdown",
   "metadata": {},
   "source": [
    "Execute the following cell to read in the City of Houston employee dataset and then use it for the following exercises."
   ]
  },
  {
   "cell_type": "code",
   "execution_count": null,
   "metadata": {
    "scrolled": true
   },
   "outputs": [],
   "source": [
    "emp = pd.read_csv('../data/employee.csv')\n",
    "emp.head()"
   ]
  },
  {
   "cell_type": "markdown",
   "metadata": {},
   "source": [
    "### Exercise 2\n",
    "\n",
    "<span  style=\"color:green; font-size:16px\">Filter it so that only position titles with an average salary of 100,000 remain. Can you verify your results?</span>"
   ]
  },
  {
   "cell_type": "code",
   "execution_count": null,
   "metadata": {},
   "outputs": [],
   "source": []
  },
  {
   "cell_type": "markdown",
   "metadata": {},
   "source": [
    "### Exercise 3\n",
    "<span  style=\"color:green; font-size:16px\">Filter the employee dataset so that only position titles with at least 5 employees and an average salary of $80,000 remain. Can you verify the results?</span>"
   ]
  },
  {
   "cell_type": "code",
   "execution_count": null,
   "metadata": {},
   "outputs": [],
   "source": []
  },
  {
   "cell_type": "markdown",
   "metadata": {},
   "source": [
    "### Exercise 4\n",
    "\n",
    "<span  style=\"color:green; font-size:16px\">Add a new column, **pct_max_dept_sex**, to the employee DataFrame that holds the employees percentage of the maximum salary for each department and race. For instance, if a male HPD employee makes 80,000 and the maximum male HPD salary is 120,000 then the value for this employee would be 80,000/120,000 or .666. Verify this value for the first employee.</span>"
   ]
  },
  {
   "cell_type": "code",
   "execution_count": null,
   "metadata": {},
   "outputs": [],
   "source": []
  }
 ],
 "metadata": {
  "kernelspec": {
   "display_name": "Python 3",
   "language": "python",
   "name": "python3"
  },
  "language_info": {
   "codemirror_mode": {
    "name": "ipython",
    "version": 3
   },
   "file_extension": ".py",
   "mimetype": "text/x-python",
   "name": "python",
   "nbconvert_exporter": "python",
   "pygments_lexer": "ipython3",
   "version": "3.7.3"
  }
 },
 "nbformat": 4,
 "nbformat_minor": 2
}
