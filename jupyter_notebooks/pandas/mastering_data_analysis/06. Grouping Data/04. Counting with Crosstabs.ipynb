{
 "cells": [
  {
   "cell_type": "markdown",
   "metadata": {},
   "source": [
    "# Counting with Crosstabs\n",
    "\n",
    "### Exploring mental health survey data\n",
    "\n",
    "We will be using the mental health survey data found on [Kaggle datasets][1]. This dataset is from a 2014 survey that measures attitudes towards mental health and frequency of mental health disorders in the tech workplace.\n",
    "\n",
    "[1]: https://www.kaggle.com/osmi/mental-health-in-tech-survey"
   ]
  },
  {
   "cell_type": "code",
   "execution_count": null,
   "metadata": {},
   "outputs": [],
   "source": [
    "import pandas as pd\n",
    "pd.options.display.max_columns = 50\n",
    "pd.options.display.max_colwidth = 200\n",
    "mh = pd.read_csv('../data/mental_health.csv')\n",
    "mh.head(3)"
   ]
  },
  {
   "cell_type": "markdown",
   "metadata": {},
   "source": [
    "### Data Dictionary\n",
    "The data dictionary will help you understand the questions asked behind the data collected on each column."
   ]
  },
  {
   "cell_type": "code",
   "execution_count": null,
   "metadata": {},
   "outputs": [],
   "source": [
    "mh_dd = pd.read_csv('../data/dictionaries/mental_health_dd.csv')\n",
    "mh_dd"
   ]
  },
  {
   "cell_type": "markdown",
   "metadata": {},
   "source": [
    "## Frequency counting with a Series\n",
    "Previously, we learned how to count the frequency of values in a single column of data (a Series) with the `value_counts` method. The relative frequencies are returned by setting `normalize` to `True`."
   ]
  },
  {
   "cell_type": "code",
   "execution_count": null,
   "metadata": {},
   "outputs": [],
   "source": [
    "mh['country'].value_counts()"
   ]
  },
  {
   "cell_type": "code",
   "execution_count": null,
   "metadata": {},
   "outputs": [],
   "source": [
    "mh['country'].value_counts(normalize=True).round(3)"
   ]
  },
  {
   "cell_type": "markdown",
   "metadata": {},
   "source": [
    "## Counting the mental health occurrences by country\n",
    "We cannot use `value_counts` in order to count the frequencies of values appearing in two or more columns as it is a Series-only method. Instead we can use either `groupby`, `pivot_table`, or `crosstab`. Let's see an example of each one.\n",
    "\n",
    "### `groupby`"
   ]
  },
  {
   "cell_type": "code",
   "execution_count": null,
   "metadata": {},
   "outputs": [],
   "source": [
    "mh.groupby(['country', 'treatment']).size()"
   ]
  },
  {
   "cell_type": "markdown",
   "metadata": {},
   "source": [
    "### `pivot_table`"
   ]
  },
  {
   "cell_type": "code",
   "execution_count": null,
   "metadata": {},
   "outputs": [],
   "source": [
    "mh.pivot_table(index='country', columns='treatment', aggfunc='size', fill_value=0)"
   ]
  },
  {
   "cell_type": "markdown",
   "metadata": {},
   "source": [
    "### `pd.crosstab`"
   ]
  },
  {
   "cell_type": "code",
   "execution_count": null,
   "metadata": {},
   "outputs": [],
   "source": [
    "pd.crosstab(index=mh['country'], columns=mh['treatment'])"
   ]
  },
  {
   "cell_type": "markdown",
   "metadata": {},
   "source": [
    "### Comments on each method\n",
    "\n",
    "### `groupby`\n",
    "The `groupby` method is straightforward but by leaves the data \"long\" so it is more difficult to decipher. Also, notice that if a combination of values does not appear in the dataset, such as Austria and Yes, then no row is present in the returned Series. See the \"Extra\" section below to see how to pivot this.\n",
    "\n",
    "### `pivot_table`\n",
    "We get the shape of the table that we want with `pivot_table`. Notice that it isn't necessary to specify the `values` parameter when the aggregating function is 'size'. The `fill_value` parameter is not necessary in this specific instance, but would be useful if some combination did not appear in the dataset.\n",
    "\n",
    "### `crosstab`\n",
    "The `crosstab` function is built specifically for this situation. By default, it counts the frequency of occurrence between the given columns. Unfortunately, it is a function and not a method, so we must specify each parameter as a Series.\n",
    "\n",
    "## Which method to choose\n",
    "Either method is acceptable, but for display purposes, pivoting the data is better in this situation. `pivot_table` and `crosstab` would be preferable."
   ]
  },
  {
   "cell_type": "markdown",
   "metadata": {},
   "source": [
    "## Relative frequencies - only available with `crosstab`\n",
    "The big benefit of using the `crosstab` function is its ability to return relative frequencies with the `normalize` parameter. This isn't easily doable with `groupby` or `pivot_table`. You can normalize over the rows, columns or all the data.\n",
    "\n",
    "For instance, to find the percentage of people who have sought treatment in each country, you can normalize across each row like this."
   ]
  },
  {
   "cell_type": "code",
   "execution_count": null,
   "metadata": {},
   "outputs": [],
   "source": [
    "pd.crosstab(index=mh['country'], columns=mh['treatment'], normalize='index').round(2)"
   ]
  },
  {
   "cell_type": "markdown",
   "metadata": {},
   "source": [
    "To find the percentage that each country represents per column do this:"
   ]
  },
  {
   "cell_type": "code",
   "execution_count": null,
   "metadata": {},
   "outputs": [],
   "source": [
    "pd.crosstab(index=mh['country'], columns=mh['treatment'], normalize='columns').round(3)"
   ]
  },
  {
   "cell_type": "markdown",
   "metadata": {},
   "source": [
    "Find the relative frequency against all the data. For instance, 2.1% of all respondents are Germans who have not received mental health treatment."
   ]
  },
  {
   "cell_type": "code",
   "execution_count": null,
   "metadata": {},
   "outputs": [],
   "source": [
    "pd.crosstab(index=mh['country'], columns=mh['treatment'], normalize='all').round(3)"
   ]
  },
  {
   "cell_type": "markdown",
   "metadata": {},
   "source": [
    "You can add margins as well."
   ]
  },
  {
   "cell_type": "code",
   "execution_count": null,
   "metadata": {},
   "outputs": [],
   "source": [
    "pd.crosstab(index=mh['country'], columns=mh['treatment'], \n",
    "            normalize='all', margins=True).round(3)"
   ]
  },
  {
   "cell_type": "markdown",
   "metadata": {},
   "source": [
    "### Commonly called contingency tables\n",
    "The table of frequency counts is commonly called a [contingency table][1]. We can test whether one group differs through another by applying a chi-squared test to the counts. See the Extra section for how to apply this test in Python.\n",
    "\n",
    "[1]: https://en.wikipedia.org/wiki/Contingency_table"
   ]
  },
  {
   "cell_type": "markdown",
   "metadata": {},
   "source": [
    "### `crosstab` is almost unnecessary in pandas\n",
    "It's important to know that `crosstab` and `pivot_table` are extremely similar and `crosstab` would be basically unnecessary if `pivot_table` had an easy way to normalize counts. The only case that necessitates `crosstab` is when creating a contingency table that normalizes the counts. Otherwise, you can use `pivot_table`."
   ]
  },
  {
   "cell_type": "markdown",
   "metadata": {},
   "source": [
    "## Exercises"
   ]
  },
  {
   "cell_type": "markdown",
   "metadata": {},
   "source": [
    "### Exercise 1\n",
    "<span  style=\"color:green; font-size:16px\">Do people with a family history of mental illness seek treatment more often than those who do not?</span>"
   ]
  },
  {
   "cell_type": "code",
   "execution_count": null,
   "metadata": {},
   "outputs": [],
   "source": []
  },
  {
   "cell_type": "markdown",
   "metadata": {},
   "source": [
    "### Exercise 2\n",
    "<span  style=\"color:green; font-size:16px\">Find the total number and ratio of employees that seek treatment for companies that provide health benefits vs those that do not.</span>"
   ]
  },
  {
   "cell_type": "code",
   "execution_count": null,
   "metadata": {},
   "outputs": [],
   "source": []
  },
  {
   "cell_type": "markdown",
   "metadata": {},
   "source": [
    "### Exercise 3\n",
    "<span  style=\"color:green; font-size:16px\">You can provide a list of multiple columns to both the `index` and `columns` parameters of the `crosstab` function. Put country and number of employees in the index and benefits and treatment in the columns. It's probably easier to make separate list variables first.</span>"
   ]
  },
  {
   "cell_type": "code",
   "execution_count": null,
   "metadata": {},
   "outputs": [],
   "source": []
  }
 ],
 "metadata": {
  "kernelspec": {
   "display_name": "Python 3",
   "language": "python",
   "name": "python3"
  },
  "language_info": {
   "codemirror_mode": {
    "name": "ipython",
    "version": 3
   },
   "file_extension": ".py",
   "mimetype": "text/x-python",
   "name": "python",
   "nbconvert_exporter": "python",
   "pygments_lexer": "ipython3",
   "version": "3.7.3"
  }
 },
 "nbformat": 4,
 "nbformat_minor": 2
}
