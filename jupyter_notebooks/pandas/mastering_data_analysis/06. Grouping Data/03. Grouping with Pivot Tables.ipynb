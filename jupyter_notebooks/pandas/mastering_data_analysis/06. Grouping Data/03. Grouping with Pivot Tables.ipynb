{
 "cells": [
  {
   "cell_type": "markdown",
   "metadata": {},
   "source": [
    "# Grouping with Pivot Tables\n",
    "\n",
    "A pivot table aggregates data, usually between the intersection of the unique values of two columns of your data. In the pivot table below, the two dimensions are the `race` and the `sex`. All pivot tables must aggregate some other column of data. Here, the salary is averaged\n",
    "\n",
    "There are 5 unique races and 2 unique values for sex. The pivot table shows the mean of salary for each possible combination. Having the data in this structure, can make it easier to read.\n",
    "\n",
    "![][1]\n",
    "\n",
    "[1]: images/pivot_table.png\n",
    "\n",
    "### Creating a simple pivot table in pandas - four components\n",
    "There are four components to a basic pivot table in pandas.\n",
    "\n",
    "* Two grouping columns\n",
    "* One aggregating column\n",
    "* One aggregating function\n",
    "\n",
    "In the example above, the two grouping columns are `race` and `sex`. The aggregating column is `salary` and the aggregating function is `mean`.\n",
    "\n",
    "## Creating the pivot table above with pandas\n",
    "\n",
    "After reading in the data, let's identify the components of this pivot table.\n",
    "\n",
    "* Grouping columns - race and sex\n",
    "* Aggregating column - salary\n",
    "* Aggregating function - mean"
   ]
  },
  {
   "cell_type": "code",
   "execution_count": null,
   "metadata": {},
   "outputs": [],
   "source": [
    "import pandas as pd\n",
    "emp = pd.read_csv('../data/employee.csv')\n",
    "emp.head()"
   ]
  },
  {
   "cell_type": "markdown",
   "metadata": {},
   "source": [
    "### Mapping the components of the pivot table to the parameters of the `pivot_table` method\n",
    "The `pivot_table` method creates pivot tables for us in pandas. To use a pivot table, we set the `index`, `columns`, `values`, and `aggfunc` parameters. Each parameter will take on the following component of the pivot table.\n",
    "\n",
    "* `index` - grouping column\n",
    "* `columns` - grouping column\n",
    "* `values` - aggregating column\n",
    "* `aggfunc` - aggregating function (defaulted to the mean)"
   ]
  },
  {
   "cell_type": "code",
   "execution_count": null,
   "metadata": {},
   "outputs": [],
   "source": [
    "emp.pivot_table(index='race', columns='sex', values='salary', aggfunc='mean')"
   ]
  },
  {
   "cell_type": "markdown",
   "metadata": {},
   "source": [
    "### Trick to reduce noise in dataframe - use `astype('int')`\n",
    "The above dataframe has lots of excess decimal values that are completely useless in this result. Changing the data type of the columns to be integer instead of float will eliminate the noisy decimals. We do this by using the `astype` method, which takes a string of the new data type you would like to enforce on you data."
   ]
  },
  {
   "cell_type": "code",
   "execution_count": null,
   "metadata": {},
   "outputs": [],
   "source": [
    "emp.pivot_table(index='race', columns='sex', \n",
    "                values='salary', aggfunc='mean').astype('int')"
   ]
  },
  {
   "cell_type": "markdown",
   "metadata": {},
   "source": [
    "Round to the nearest thousand to"
   ]
  },
  {
   "cell_type": "code",
   "execution_count": null,
   "metadata": {},
   "outputs": [],
   "source": [
    "emp.pivot_table(index='race', columns='sex', \n",
    "                values='salary', aggfunc='mean').round(-3).astype('int')"
   ]
  },
  {
   "cell_type": "markdown",
   "metadata": {},
   "source": [
    "### Easily compare female vs male salary\n",
    "It is now trivial to compare female and male salaries for every race.\n",
    "\n",
    "## Comparison to groupby\n",
    "Since we already know the grouping columns, aggregating columns, and the aggregating functions, we should have no problem using a groupby."
   ]
  },
  {
   "cell_type": "code",
   "execution_count": null,
   "metadata": {},
   "outputs": [],
   "source": [
    "emp.groupby(['race', 'sex']).agg({'salary': 'mean'}).astype('int')"
   ]
  },
  {
   "cell_type": "markdown",
   "metadata": {},
   "source": [
    "### Data is more difficult to make comparisons\n",
    "This groupby has produced the exact same data as the pivot table but in a different shape. Having all of our data in a vertical column makes it difficult to make comparisons.\n",
    "\n",
    "### Wide vs long data\n",
    "Pivot tables produce **wide** data meaning that it will often result in data that is easier to read and make decisions with. The `groupby` method returns **long** data that takes a bit more effort in making a comparison.\n",
    "\n",
    "### All aggregation strings are available for `pivot_table`\n",
    "All the aggregation strings ('min', 'max', 'mean', etc...) are available to a `pivot_table` just as they were with `groupby`.\n",
    "\n",
    "### The default aggregation is `mean`\n",
    "By default, `pivot_table` takes the `mean` of each group."
   ]
  },
  {
   "cell_type": "markdown",
   "metadata": {},
   "source": [
    "### Using a different aggregating function\n",
    "Use any valid aggregation string. Here we find the max salary."
   ]
  },
  {
   "cell_type": "code",
   "execution_count": null,
   "metadata": {},
   "outputs": [],
   "source": [
    "emp.pivot_table(index='race', columns='sex', values='salary', aggfunc='max').astype('int')"
   ]
  },
  {
   "cell_type": "markdown",
   "metadata": {},
   "source": [
    "### Where is the 'pivoting'?\n",
    "\n",
    "In Excel, you can pivot the table easily by dragging columns into different boxes. With pandas, you'll have to change the parameter values. Let's pivot the table by putting sex along the index and race along the columns."
   ]
  },
  {
   "cell_type": "code",
   "execution_count": null,
   "metadata": {},
   "outputs": [],
   "source": [
    "emp.pivot_table(index='sex', columns='race', values='salary', aggfunc='max').astype('int')"
   ]
  },
  {
   "cell_type": "markdown",
   "metadata": {},
   "source": [
    "### The unique values of each grouping column for the labels\n",
    "Notice that the labels for each of the index and columns of a pivot table come from the unique values of the grouping columns. The intersection of each label is where the aggregated data appears."
   ]
  },
  {
   "cell_type": "markdown",
   "metadata": {},
   "source": [
    "## Styling pivot tables to find important data\n",
    "You can style your DataFrame by changing the text color, background color, font, and several other items through the `style` property. It works similarly to `str` and `dt` accessors in that it gives you access to style-only methods through the dot notation. [Visit the documentation][1] for descriptions on all the methods.\n",
    "\n",
    "[1]: http://pandas.pydata.org/pandas-docs/stable/style.html"
   ]
  },
  {
   "cell_type": "code",
   "execution_count": null,
   "metadata": {},
   "outputs": [],
   "source": [
    "dept_race_mean = emp.pivot_table(index='dept', columns='race', \n",
    "                                 values='salary', aggfunc='mean').round(-3)\n",
    "dept_race_mean"
   ]
  },
  {
   "cell_type": "markdown",
   "metadata": {},
   "source": [
    "### Using `highlight_max`\n",
    "By default, `highlight_max` will highlight the maximum value of each column. This is just like how most other pandas methods works - by going down each column."
   ]
  },
  {
   "cell_type": "code",
   "execution_count": null,
   "metadata": {
    "location": [
     "dept_race_mean_max.png"
    ],
    "tags": [
     "image"
    ]
   },
   "outputs": [],
   "source": [
    "dept_race_mean.style.highlight_max()"
   ]
  },
  {
   "cell_type": "markdown",
   "metadata": {},
   "source": [
    "### Change direction with `axis`\n",
    "You can highlight the max of each rows by changing the `axis` parameter."
   ]
  },
  {
   "cell_type": "code",
   "execution_count": null,
   "metadata": {
    "location": [
     "dept_race_mean_max_axis1.png"
    ],
    "tags": [
     "image"
    ]
   },
   "outputs": [],
   "source": [
    "dept_race_mean.style.highlight_max(axis='columns')"
   ]
  },
  {
   "cell_type": "markdown",
   "metadata": {},
   "source": [
    "### Background color gradients\n",
    "Use `background_gradient` to color the background based on the value of the cell. You can change the colors by choosing a [Matplotlib colormap][1].\n",
    "\n",
    "[1]: https://matplotlib.org/tutorials/colors/colormaps.html"
   ]
  },
  {
   "cell_type": "code",
   "execution_count": null,
   "metadata": {
    "location": [
     "dept_race_mean_max_gradient.png"
    ],
    "scrolled": true,
    "tags": [
     "image"
    ]
   },
   "outputs": [],
   "source": [
    "dept_race_mean.style.background_gradient(cmap='YlOrRd')"
   ]
  },
  {
   "cell_type": "markdown",
   "metadata": {},
   "source": [
    "## Exercises\n",
    "\n",
    "Execute the following cell to read in the flights dataset and to add columns for the day and month name. Use it for the following exercises."
   ]
  },
  {
   "cell_type": "code",
   "execution_count": null,
   "metadata": {},
   "outputs": [],
   "source": [
    "import pandas as pd\n",
    "flights = pd.read_csv('../data/flights.csv', parse_dates=['date'])\n",
    "flights['day_of_week'] = flights['date'].dt.day_name()\n",
    "flights['month'] = flights['date'].dt.month_name()\n",
    "flights.head(3)"
   ]
  },
  {
   "cell_type": "markdown",
   "metadata": {},
   "source": [
    "### Exercise 1\n",
    "<span  style=\"color:green; font-size:16px\">What is the carrier departure delay for each day of the week for each airline? Highlight the worst day of the week for each airline.</span>"
   ]
  },
  {
   "cell_type": "code",
   "execution_count": null,
   "metadata": {},
   "outputs": [],
   "source": []
  },
  {
   "cell_type": "markdown",
   "metadata": {},
   "source": [
    "### Exercise 2\n",
    "\n",
    "<span  style=\"color:green; font-size:16px\">Use a `pivot_table` to find the total number of canceled flights for each origin airport and airline making sure the airline is in the columns. Use the result to find the origin airport with the most cancelled flights for each airline. Also return this maximum number of cancelled flights.</span>"
   ]
  },
  {
   "cell_type": "code",
   "execution_count": null,
   "metadata": {},
   "outputs": [],
   "source": []
  },
  {
   "cell_type": "markdown",
   "metadata": {},
   "source": [
    "### Exercise 3\n",
    "\n",
    "<span  style=\"color:green; font-size:16px\">Find the total distance flown for each airline for each month. Highlight the month with the most number of miles flown and use the style `format` method to put commas in the numbers so that they are easier to read.</span>"
   ]
  },
  {
   "cell_type": "code",
   "execution_count": null,
   "metadata": {},
   "outputs": [],
   "source": []
  },
  {
   "cell_type": "markdown",
   "metadata": {},
   "source": [
    "### Exercise 4\n",
    "<span  style=\"color:green; font-size:16px\">Use the City of Houston employee dataset for this exercise. You can create pivot tables with multiple columns in the index or the columns by using a list. Create a pivot table with the department as the index and the race and sex as the columns. Calculate the median salary for these cross sections.</span>"
   ]
  },
  {
   "cell_type": "code",
   "execution_count": null,
   "metadata": {},
   "outputs": [],
   "source": []
  }
 ],
 "metadata": {
  "kernelspec": {
   "display_name": "Python 3",
   "language": "python",
   "name": "python3"
  },
  "language_info": {
   "codemirror_mode": {
    "name": "ipython",
    "version": 3
   },
   "file_extension": ".py",
   "mimetype": "text/x-python",
   "name": "python",
   "nbconvert_exporter": "python",
   "pygments_lexer": "ipython3",
   "version": "3.7.3"
  },
  "varInspector": {
   "cols": {
    "lenName": 16,
    "lenType": 16,
    "lenVar": 40
   },
   "kernels_config": {
    "python": {
     "delete_cmd_postfix": "",
     "delete_cmd_prefix": "del ",
     "library": "var_list.py",
     "varRefreshCmd": "print(var_dic_list())"
    },
    "r": {
     "delete_cmd_postfix": ") ",
     "delete_cmd_prefix": "rm(",
     "library": "var_list.r",
     "varRefreshCmd": "cat(var_dic_list()) "
    }
   },
   "types_to_exclude": [
    "module",
    "function",
    "builtin_function_or_method",
    "instance",
    "_Feature"
   ],
   "window_display": false
  }
 },
 "nbformat": 4,
 "nbformat_minor": 2
}
