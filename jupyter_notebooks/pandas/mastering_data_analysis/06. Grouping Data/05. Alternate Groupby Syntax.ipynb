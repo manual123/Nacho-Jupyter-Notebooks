{
 "cells": [
  {
   "cell_type": "markdown",
   "metadata": {},
   "source": [
    "# Alternate Groupby Syntax\n",
    "\n",
    "This chapter covers a few other alternative syntaxes available to do aggregations with the `groupby` method. This chapter has great potential to confuse beginning pandas users since these methods do not give you any extra power to do data analysis. However, many other people who use pandas will use these syntaxes so it's important to be aware that they exist. Let's begin by reading in the San Francisco employee compensation dataset."
   ]
  },
  {
   "cell_type": "code",
   "execution_count": null,
   "metadata": {},
   "outputs": [],
   "source": [
    "import pandas as pd\n",
    "import numpy as np\n",
    "sf_emp = pd.read_csv('../data/sf_employee_compensation.csv')\n",
    "sf_emp.head(3)"
   ]
  },
  {
   "cell_type": "markdown",
   "metadata": {},
   "source": [
    "## Aggregating a single column\n",
    "\n",
    "Originally, we passed a two-item tuple to our new column name as a parameter to the `agg` method when aggregating a single column."
   ]
  },
  {
   "cell_type": "code",
   "execution_count": null,
   "metadata": {},
   "outputs": [],
   "source": [
    "sf_emp.groupby('organization group').agg(mean_salary=('salaries', 'mean'))"
   ]
  },
  {
   "cell_type": "markdown",
   "metadata": {},
   "source": [
    "### Alternative - use a dictionary\n",
    "\n",
    "Instead of a tuple, you can use a dictionary to map the aggregating column to the aggregating function. Although this syntax uses less code, it does not allow you to rename columns during the aggregation like the original."
   ]
  },
  {
   "cell_type": "code",
   "execution_count": null,
   "metadata": {},
   "outputs": [],
   "source": [
    "sf_emp.groupby('organization group').agg({'salaries': 'mean'})"
   ]
  },
  {
   "cell_type": "markdown",
   "metadata": {},
   "source": [
    "### Alternative - select the column with the brackets\n",
    "\n",
    "Instead of using a dictionary, can place the aggregating columns in brackets following the `groupby` method and then pass the aggregating function as a string to the `agg` method."
   ]
  },
  {
   "cell_type": "code",
   "execution_count": null,
   "metadata": {},
   "outputs": [],
   "source": [
    "sf_emp.groupby('organization group')['salaries'].agg('mean')"
   ]
  },
  {
   "cell_type": "markdown",
   "metadata": {},
   "source": [
    "You can even bypass the `agg` method and call the `sum` method directly after the brackets."
   ]
  },
  {
   "cell_type": "code",
   "execution_count": null,
   "metadata": {},
   "outputs": [],
   "source": [
    "sf_emp.groupby('organization group')['salaries'].sum()"
   ]
  },
  {
   "cell_type": "markdown",
   "metadata": {},
   "source": [
    "### Possible advantage - allows for multiple aggregating columns\n",
    "\n",
    "Using any of these alternative methods allows you to compute multiple aggregating functions with less amount of code. Use a list to contain the aggregating functions."
   ]
  },
  {
   "cell_type": "code",
   "execution_count": null,
   "metadata": {},
   "outputs": [],
   "source": [
    "sf_emp.groupby('organization group').agg({'salaries': ['min', 'max', 'mean']})"
   ]
  },
  {
   "cell_type": "markdown",
   "metadata": {},
   "source": [
    "We would need to use more code with the original syntax, but I prefer this as we are returned a DataFrame with a single level index for the columns and we can name each column exactly what we desire."
   ]
  },
  {
   "cell_type": "code",
   "execution_count": null,
   "metadata": {},
   "outputs": [],
   "source": [
    "sf_emp.groupby('organization group').agg(mean_salary=('salaries', 'mean'),\n",
    "                                         min_salary=('salaries', 'min'),\n",
    "                                         max_salary=('salaries', 'max'))"
   ]
  },
  {
   "cell_type": "markdown",
   "metadata": {},
   "source": [
    "## No Aggregating Columns\n",
    "\n",
    "You actually do not need to specify the aggregating columns when grouping. Pandas will silently drop the columns that don't work for the particular aggregation method. For instance, only numeric columns have a mean. All other columns will be dropped. Here, we take the min, max, and mean for combination of year and organization group of all the numeric columns."
   ]
  },
  {
   "cell_type": "code",
   "execution_count": null,
   "metadata": {},
   "outputs": [],
   "source": [
    "sf_emp.groupby(['year', 'organization group']).agg(['min', 'max', 'mean']).head().round(-3)"
   ]
  },
  {
   "cell_type": "markdown",
   "metadata": {},
   "source": [
    "You can even call a method directly after grouping to apply it to all columns."
   ]
  },
  {
   "cell_type": "code",
   "execution_count": null,
   "metadata": {},
   "outputs": [],
   "source": [
    "sf_emp.groupby(['year', 'organization group']).mean().head().round(-3)"
   ]
  }
 ],
 "metadata": {
  "kernelspec": {
   "display_name": "Python 3",
   "language": "python",
   "name": "python3"
  },
  "language_info": {
   "codemirror_mode": {
    "name": "ipython",
    "version": 3
   },
   "file_extension": ".py",
   "mimetype": "text/x-python",
   "name": "python",
   "nbconvert_exporter": "python",
   "pygments_lexer": "ipython3",
   "version": "3.7.3"
  }
 },
 "nbformat": 4,
 "nbformat_minor": 2
}
