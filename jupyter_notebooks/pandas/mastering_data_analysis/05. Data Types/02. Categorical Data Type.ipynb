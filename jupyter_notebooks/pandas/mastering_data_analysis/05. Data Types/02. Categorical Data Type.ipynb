{
 "cells": [
  {
   "cell_type": "markdown",
   "metadata": {},
   "source": [
    "# Categorical Data Type\n",
    "\n",
    "This chapter covers the categorical data type which is unique to pandas and does not exist within numpy. The categorical data type is often used whenever a column of data has known, limited, discrete values that repeat. This is often the case for string columns and is easiest to understand with an example. Let's read in the City of Houston employee dataset."
   ]
  },
  {
   "cell_type": "code",
   "execution_count": null,
   "metadata": {},
   "outputs": [],
   "source": [
    "import pandas as pd\n",
    "emp = pd.read_csv('../data/employee.csv')\n",
    "emp.head(3)"
   ]
  },
  {
   "cell_type": "markdown",
   "metadata": {},
   "source": [
    "## Changing data types to categorical\n",
    "\n",
    "Any column may be converted to the categorical data type, but most often it is string and occasionally integer columns that are chosen to be categorical. In this dataset, each string column is a good candidate to be categorical. Let's select the `dept` column and count the occurrences of each unique value."
   ]
  },
  {
   "cell_type": "code",
   "execution_count": null,
   "metadata": {},
   "outputs": [],
   "source": [
    "dept = emp['dept']\n",
    "dept.value_counts()"
   ]
  },
  {
   "cell_type": "markdown",
   "metadata": {},
   "source": [
    "### Values are known, limited, discrete, and repeat\n",
    "\n",
    "In this section, we discuss the properties that make a particular column a good candidate to convert to categorical. The total possible number of values in the column should be **known**. There shouldn't be any mysterious values that will appear when future data of the same kind is collected. With our department column, it's likely that we will be aware of each individual department and that new departments will not be created often.\n",
    "\n",
    "The unique values in the column should be **limited** and much less than the total number of values. There are only 9 unique department values which is substantially less than the total number of values (24,000+). \n",
    "\n",
    "The values should be **discrete**, meaning that there are no partial values. Each value in the column must be one of the known categories. With our data, each employee works in exactly one department. There is no partial department. You either work in one department or another, but not both. You must be one of those 9 categories. \n",
    "\n",
    "Finally, the values must **repeat**, and they will repeat if the first three properties hold for your data. As you can see from the output of the `value_counts` methods, each value repeats many times. Due to all these properties, the `dept` can be and should be converted to the categorical data type. \n",
    "\n",
    "### Converting to categorical with the `astype` method\n",
    "\n",
    "The simplest way to convert a Series to categorical is to pass the string 'category' to the `astype` method. We assign this new Series to the `dept_cat` variable name."
   ]
  },
  {
   "cell_type": "code",
   "execution_count": null,
   "metadata": {},
   "outputs": [],
   "source": [
    "dept_cat = dept.astype('category')\n",
    "dept_cat.head()"
   ]
  },
  {
   "cell_type": "markdown",
   "metadata": {},
   "source": [
    "### Visual display of a categorical Series\n",
    "\n",
    "The output looks a bit different than a normal Series. Let's verify that we do indeed have a Series."
   ]
  },
  {
   "cell_type": "code",
   "execution_count": null,
   "metadata": {},
   "outputs": [],
   "source": [
    "type(dept_cat)"
   ]
  },
  {
   "cell_type": "markdown",
   "metadata": {},
   "source": [
    "The index and the values of our new categorical Series appear identical to the output of a Series that has the object data type. The difference is the appearance of the unique categories below the Series.\n",
    "\n",
    "### The formal data type\n",
    "\n",
    "Let's verify that the data type is categorical by accessing the `dtype` attribute."
   ]
  },
  {
   "cell_type": "code",
   "execution_count": null,
   "metadata": {},
   "outputs": [],
   "source": [
    "dept_cat.dtype"
   ]
  },
  {
   "cell_type": "markdown",
   "metadata": {},
   "source": [
    "### What is CategoricalDtype?\n",
    "\n",
    "The formal data type name for categorical data is `CategoricalDtype`. This can be confusing since pandas also uses the term 'category' in the Series output."
   ]
  },
  {
   "cell_type": "markdown",
   "metadata": {},
   "source": [
    "### Is the data type category, categorical or CategoricalDtype?\n",
    "\n",
    "With the output above, we have three different terms for the same data type - category, categorical, and CategoricalDtype. I'm not sure what to say here - pandas has several inconsistencies and the terminology surrounding categorical data is one of them.\n",
    "\n",
    "The formal data type is `CategoricalDtype` but more informally it will be referred to as 'categorical'. This is similar to how the numbers 1, 5, and 10 are informally referred to as 'integers' but have a formal data type of 'int64'.\n",
    "\n",
    "## Why the categorical data type is useful\n",
    "\n",
    "On the surface, our categorical Series looks very similar to its object Series counterpart, but there are some significant differences.\n",
    "\n",
    "### Internal storage of categorical data\n",
    "\n",
    "Categorical data is stored much more efficiently than object data containing strings. Each unique value in a column of categorical data is stored **once** regardless of how many times it repeats in the Series. Also, each of the unique values has an integer code that refers to it. It is these integers that are stored in memory to represent the data. \n",
    "\n",
    "Object columns store each value in a unique location in memory. For instance, the string 'Police' appears over 7,000 times in the departments Series. Each one of these strings is stored in a unique location in memory. Using integers to represent categories can save a tremendous amount of memory.\n",
    "\n",
    "### Example of categorical storage\n",
    "\n",
    "Let's create a simplified example to show how pandas stores categorical data internally using Python lists. In this example, we'll have three unique departments. They are stored exactly once in the list `cats` below. The actual data is contained in the `vals` list containing the values 0, 1, or 2. "
   ]
  },
  {
   "cell_type": "code",
   "execution_count": null,
   "metadata": {},
   "outputs": [],
   "source": [
    "cats = ['Police', 'Fire', 'Library']\n",
    "vals = [1, 1, 0, 2, 0, 1, 2, 2, 1, 2, 1]"
   ]
  },
  {
   "cell_type": "markdown",
   "metadata": {},
   "source": [
    "Each integer corresponds to the category located at that index location in the `cats` list. We can convert each value in the `vals` list to its corresponding category using the list comprehension below. "
   ]
  },
  {
   "cell_type": "code",
   "execution_count": null,
   "metadata": {},
   "outputs": [],
   "source": [
    "[cats[val] for val in vals]"
   ]
  },
  {
   "cell_type": "markdown",
   "metadata": {},
   "source": [
    "pandas stores its categorical data similarly to the example. We can access the internal storage mechanisms for categorical data with the `cat` accessor."
   ]
  },
  {
   "cell_type": "markdown",
   "metadata": {},
   "source": [
    "## The `cat` accessor\n",
    "\n",
    "We previously covered the `str` and `dt` accessors which provide us special access to string-only and datetime-only attributes and methods. The `cat` accessor provides us with more special attributes and methods for categorical Series. Let's take a look at some of the important attributes and methods it provides.\n",
    "\n",
    "### Get the categories\n",
    "\n",
    "The unique sequence of categories can be retrieved with the `categories` attribute."
   ]
  },
  {
   "cell_type": "code",
   "execution_count": null,
   "metadata": {},
   "outputs": [],
   "source": [
    "dept_cat.cat.categories"
   ]
  },
  {
   "cell_type": "markdown",
   "metadata": {},
   "source": [
    "### Get the integer codes\n",
    "\n",
    "The underlying integer codes may be retrieved with the `codes` attribute which returns a Series the same length as the original. Notice that it uses 8-bit integers to store the data."
   ]
  },
  {
   "cell_type": "code",
   "execution_count": null,
   "metadata": {},
   "outputs": [],
   "source": [
    "dept_cat.cat.codes.head()"
   ]
  },
  {
   "cell_type": "markdown",
   "metadata": {},
   "source": [
    "### Verify codes correspond with categories\n",
    "\n",
    "The first three values of the `dept_cat` Series are 'Police', 'Other', and 'Houston Public Works'. Let's verify that the first three integers of the `codes` attribute from above are 7, 5, and 3. Let's verify that these codes correspond with the categories."
   ]
  },
  {
   "cell_type": "code",
   "execution_count": null,
   "metadata": {},
   "outputs": [],
   "source": [
    "dept_cat.cat.categories[7]"
   ]
  },
  {
   "cell_type": "code",
   "execution_count": null,
   "metadata": {},
   "outputs": [],
   "source": [
    "dept_cat.cat.categories[5]"
   ]
  },
  {
   "cell_type": "code",
   "execution_count": null,
   "metadata": {},
   "outputs": [],
   "source": [
    "dept_cat.cat.categories[3]"
   ]
  },
  {
   "cell_type": "markdown",
   "metadata": {},
   "source": [
    "## Massive reduction in memory used\n",
    "\n",
    "One of the biggest benefits of using categorical columns is the amount of memory saved. Instead of using a string for every value, an integer code is used. Integers take up significantly less space than strings. pandas also uses the smallest integer size to store the codes. For instance, if there are less than 128 categories, an int8 is used.\n",
    "\n",
    "### The memory_usage method\n",
    "\n",
    "pandas provides the `memory_usage` method to return the number of bytes used by the Series. To get the exact memory for string columns you need to set the parameter `deep` to `True`. Let's get the original amount of memory used."
   ]
  },
  {
   "cell_type": "code",
   "execution_count": null,
   "metadata": {},
   "outputs": [],
   "source": [
    "orig_mem = dept.memory_usage(deep=True)\n",
    "orig_mem"
   ]
  },
  {
   "cell_type": "markdown",
   "metadata": {},
   "source": [
    "Use the method again to get the memory used on our categorical Series."
   ]
  },
  {
   "cell_type": "code",
   "execution_count": null,
   "metadata": {},
   "outputs": [],
   "source": [
    "cat_mem = dept_cat.memory_usage(deep=True)\n",
    "cat_mem"
   ]
  },
  {
   "cell_type": "markdown",
   "metadata": {},
   "source": [
    "Let's find the percentage reduction in memory used by converting to categorical."
   ]
  },
  {
   "cell_type": "code",
   "execution_count": null,
   "metadata": {},
   "outputs": [],
   "source": [
    "1 - cat_mem / orig_mem"
   ]
  },
  {
   "cell_type": "markdown",
   "metadata": {},
   "source": [
    "An astounding 98.5% reduction in memory takes place. Using 8-bit integers instead of the entire string made a huge difference."
   ]
  },
  {
   "cell_type": "markdown",
   "metadata": {},
   "source": [
    "## Speeding up operations\n",
    "\n",
    "Another nice benefit of using the categorical data type is the increase in performance for most operations. It's much faster to use integer arrays instead of object arrays. Let's cover a few examples that show this performance improvement.\n",
    "\n",
    "### Comparison operators\n",
    "\n",
    "The comparison operators should complete much faster. In the example below, we are testing equality of each value to the string 'Police'. Using the categorical Series results in nearly 10 times better performance."
   ]
  },
  {
   "cell_type": "code",
   "execution_count": null,
   "metadata": {},
   "outputs": [],
   "source": [
    "%timeit -n 5 dept == 'Police'"
   ]
  },
  {
   "cell_type": "code",
   "execution_count": null,
   "metadata": {},
   "outputs": [],
   "source": [
    "%timeit -n 5 dept_cat == 'Police'"
   ]
  },
  {
   "cell_type": "markdown",
   "metadata": {},
   "source": [
    "### Sorting\n",
    "\n",
    "Sorting also executes much faster."
   ]
  },
  {
   "cell_type": "code",
   "execution_count": null,
   "metadata": {
    "scrolled": true
   },
   "outputs": [],
   "source": [
    "%timeit -n 5 dept.sort_values()"
   ]
  },
  {
   "cell_type": "code",
   "execution_count": null,
   "metadata": {},
   "outputs": [],
   "source": [
    "%timeit -n 5 dept_cat.sort_values()"
   ]
  },
  {
   "cell_type": "markdown",
   "metadata": {},
   "source": [
    "### Most other operations\n",
    "\n",
    "Most other operations happen faster. Here, we see the difference when using the `value_counts` method."
   ]
  },
  {
   "cell_type": "code",
   "execution_count": null,
   "metadata": {},
   "outputs": [],
   "source": [
    "%timeit -n 5 dept.value_counts()"
   ]
  },
  {
   "cell_type": "code",
   "execution_count": null,
   "metadata": {},
   "outputs": [],
   "source": [
    "%timeit -n 5 dept_cat.value_counts()"
   ]
  },
  {
   "cell_type": "markdown",
   "metadata": {},
   "source": [
    "## The str accessor is still available\n",
    "\n",
    "Even though we've converted to the categorical data type, the `str` accessor is still available to use as long as the original data contained strings. Here, we make all the values uppercase."
   ]
  },
  {
   "cell_type": "code",
   "execution_count": null,
   "metadata": {},
   "outputs": [],
   "source": [
    "dept_cat.str.upper().head()"
   ]
  },
  {
   "cell_type": "markdown",
   "metadata": {},
   "source": [
    "Unfortunately, an object Series is returned for all the `str` accessor methods that return strings so you'll have to convert it again to categorical after the operation completes if you want to keep it as a categorical."
   ]
  },
  {
   "cell_type": "markdown",
   "metadata": {},
   "source": [
    "## Ordered categories\n",
    "\n",
    "Generally speaking, there are two types of categorical data, **nominal** and **ordinal**. Nominal categorical data is when the values have no natural ordering. When the values do have a natural ordering, they are referred to as **ordinal** data. To help remember, both ordinal and order begin with 'ord'.\n",
    "\n",
    "The departments from above are a good example of nominal data as no department has any natural precedence over the other. There is no good example in our employee dataset of ordinal data. Let's read in the diamonds dataset which has information on the size, cut, color, clarity, and price for many diamonds."
   ]
  },
  {
   "cell_type": "code",
   "execution_count": null,
   "metadata": {},
   "outputs": [],
   "source": [
    "diamonds = pd.read_csv('../data/diamonds.csv')\n",
    "diamonds.head()"
   ]
  },
  {
   "cell_type": "code",
   "execution_count": null,
   "metadata": {},
   "outputs": [],
   "source": [
    "diamonds.shape"
   ]
  },
  {
   "cell_type": "markdown",
   "metadata": {},
   "source": [
    "If you are familiar with diamonds, then you know that cut, color, and clarity have a specific ordering corresponding to the quality of that property. Let's take a look at the clarity column's unique values."
   ]
  },
  {
   "cell_type": "code",
   "execution_count": null,
   "metadata": {},
   "outputs": [],
   "source": [
    "clarity = diamonds['clarity']\n",
    "clarity.value_counts()"
   ]
  },
  {
   "cell_type": "markdown",
   "metadata": {},
   "source": [
    "Before creating an ordered categorical, let's convert clarity to an unordered categorical like we did above. Passing the `astype` method the string 'category' always creates an unordered categorical data type."
   ]
  },
  {
   "cell_type": "code",
   "execution_count": null,
   "metadata": {},
   "outputs": [],
   "source": [
    "clarity_cat = diamonds['clarity'].astype('category')\n",
    "clarity_cat.head()"
   ]
  },
  {
   "cell_type": "markdown",
   "metadata": {},
   "source": [
    "We can use the `ordered` attribute available from the `cat` accessor to verify that it is unordered."
   ]
  },
  {
   "cell_type": "code",
   "execution_count": null,
   "metadata": {},
   "outputs": [],
   "source": [
    "clarity_cat.cat.ordered"
   ]
  },
  {
   "cell_type": "markdown",
   "metadata": {},
   "source": [
    "The data dictionary contains information on the ordering of each categorical variable. Let's read it, changing the column display width option so that we can read all of the description for clarity."
   ]
  },
  {
   "cell_type": "code",
   "execution_count": null,
   "metadata": {},
   "outputs": [],
   "source": [
    "pd.set_option('display.max_colwidth', 100)\n",
    "pd.read_csv('../data/dictionaries/diamonds_dictionary.csv')"
   ]
  },
  {
   "cell_type": "markdown",
   "metadata": {},
   "source": [
    "### Creating an ordered categorical\n",
    "\n",
    "Creating an ordered categorical column takes a bit of work. Here are the three steps that you need to take:\n",
    "\n",
    "1. Create a list of all of the unique categories in the order that you desire\n",
    "1. Use the `CategoricalDtype` constructor available directly from `pd`. Pass it the list of categories and set the `ordered` parameter to `True`. Assign this result to a variable name.\n",
    "1. Pass the variable name in step 2 to the `astype` Series method\n",
    "\n",
    "Here, we complete the three steps and assign the new ordered categorical Series to `clarity_ordered_cat`."
   ]
  },
  {
   "cell_type": "code",
   "execution_count": null,
   "metadata": {},
   "outputs": [],
   "source": [
    "cats = ['I1', 'SI2', 'SI1', 'VS2', 'VS1', 'VVS2', 'VVS1', 'IF']\n",
    "clarity_dtype = pd.CategoricalDtype(cats, ordered=True)\n",
    "clarity_ordered_cat = clarity.astype(clarity_dtype)\n",
    "clarity_ordered_cat.head()"
   ]
  },
  {
   "cell_type": "markdown",
   "metadata": {},
   "source": [
    "Notice that the categories appear at the bottom with less than signs separating them indicating the order. Let's verify the data type of our new Series."
   ]
  },
  {
   "cell_type": "code",
   "execution_count": null,
   "metadata": {},
   "outputs": [],
   "source": [
    "clarity_ordered_cat.dtype"
   ]
  },
  {
   "cell_type": "markdown",
   "metadata": {},
   "source": [
    "Let's also verify that it is ordered."
   ]
  },
  {
   "cell_type": "code",
   "execution_count": null,
   "metadata": {},
   "outputs": [],
   "source": [
    "clarity_ordered_cat.cat.ordered"
   ]
  },
  {
   "cell_type": "markdown",
   "metadata": {},
   "source": [
    "## Special properties of ordered categorical Series\n",
    "\n",
    "Ordered categorical Series have some behavior that differs from their unordered counterparts. For instance, taking the maximum or minimum value returns the category ranked as the best or worst."
   ]
  },
  {
   "cell_type": "code",
   "execution_count": null,
   "metadata": {},
   "outputs": [],
   "source": [
    "clarity_ordered_cat.max()"
   ]
  },
  {
   "cell_type": "markdown",
   "metadata": {},
   "source": [
    "Attempting to call the `max` method on an unordered categorical raises an error."
   ]
  },
  {
   "cell_type": "code",
   "execution_count": null,
   "metadata": {},
   "outputs": [],
   "source": [
    "clarity_cat.max()"
   ]
  },
  {
   "cell_type": "markdown",
   "metadata": {},
   "source": [
    "The original object Series does work with the `max` method and returns the value with greatest alphabetical value which is different than the best measurement for clarity."
   ]
  },
  {
   "cell_type": "code",
   "execution_count": null,
   "metadata": {},
   "outputs": [],
   "source": [
    "clarity.max()"
   ]
  },
  {
   "cell_type": "markdown",
   "metadata": {},
   "source": [
    "Sorting ordered categoricals is done by their category order and not alphabetically. Here we call the `value_counts` method on both the ordered and unordered clarity Series and then sort the index."
   ]
  },
  {
   "cell_type": "code",
   "execution_count": null,
   "metadata": {},
   "outputs": [],
   "source": [
    "clarity_ordered_cat.value_counts().sort_index()"
   ]
  },
  {
   "cell_type": "markdown",
   "metadata": {},
   "source": [
    "Sorting the unordered categorical index sorts alphabetically."
   ]
  },
  {
   "cell_type": "code",
   "execution_count": null,
   "metadata": {},
   "outputs": [],
   "source": [
    "clarity_cat.value_counts().sort_index()"
   ]
  },
  {
   "cell_type": "markdown",
   "metadata": {},
   "source": [
    "## Integers can be categories\n",
    "\n",
    "As mentioned, any column regardless of its data type may be converted to categorical and not just strings. If the values are known, limited, discrete, and repeat then they are good candidates for categorical data. Integers are the primary non-string data type that can represent categorical data. Here are some examples of integer categorical data:\n",
    "\n",
    "* Rating of a movie/hotel/restaurant given that the range is known such as the integers one through five\n",
    "* Zip codes for a particular city\n",
    "* Numeric error codes\n",
    "\n",
    "As with our string columns, integer categorical columns may be unordered (like zip codes) or ordered (like movie ratings). Let's read in just three columns of the housing dataset."
   ]
  },
  {
   "cell_type": "code",
   "execution_count": null,
   "metadata": {},
   "outputs": [],
   "source": [
    "housing = pd.read_csv('../data/housing.csv', \n",
    "                      usecols=['MSSubClass', 'OverallQual', 'SalePrice'])\n",
    "housing.head()"
   ]
  },
  {
   "cell_type": "markdown",
   "metadata": {},
   "source": [
    "By default, these columns are read in as integers. Looking at the data dictionary, both 'MSSubClass' and 'OverallQual' are categoricals. The 'MSSubClass' identifies the type of dwelling. There is no inherent order for these values. Here are a few of its integer codes and their corresponding description.\n",
    "\n",
    "* 20 - 1-STORY 1946 & NEWER ALL STYLES\n",
    "* 30 - 1-STORY 1945 & OLDER\n",
    "* 40 - 1-STORY W/FINISHED ATTIC ALL AGES\n",
    "* 45 - 1-1/2 STORY - UNFINISHED ALL AGES\n",
    "* 50 - 1-1/2 STORY FINISHED ALL AGES\n",
    "\n",
    "The data dictionary also informs us that the 'OverallQual' column contains integer values 1 through 10 with higher numbers indicating a higher overall material and finish of the house. The values in this column have a clear ordinal\n",
    "\n",
    "### Converting multiple columns to categorical\n",
    "\n",
    "The `astype` method may be used to convert multiple columns to different data types. This is done using a dictionary mapping the column name to the new data type. Let's use the string 'category' to convert MSSubClass and `pd.CategoricalDtype` to create an ordered categorical data type for OverallQual. The `astype` method produces a new copy of the data which forces us to assign its result to a new variable name."
   ]
  },
  {
   "cell_type": "code",
   "execution_count": null,
   "metadata": {},
   "outputs": [],
   "source": [
    "oq_cats = [1, 2, 3, 4, 5, 6, 7, 8, 9, 10]\n",
    "oq_dtype = pd.CategoricalDtype(oq_cats, ordered=True)\n",
    "housing_new = housing.astype({'MSSubClass': 'category', 'OverallQual': oq_dtype})\n",
    "housing_new.head()"
   ]
  },
  {
   "cell_type": "markdown",
   "metadata": {},
   "source": [
    "Let's verify that that the data types have changed."
   ]
  },
  {
   "cell_type": "code",
   "execution_count": null,
   "metadata": {},
   "outputs": [],
   "source": [
    "housing_new.dtypes"
   ]
  },
  {
   "cell_type": "markdown",
   "metadata": {},
   "source": [
    "The `dtypes` attribute does not distinguish between unordered and ordered categorical data. Use the `dtype` Series attribute to get the exact type of categorical data."
   ]
  },
  {
   "cell_type": "code",
   "execution_count": null,
   "metadata": {},
   "outputs": [],
   "source": [
    "housing_new['MSSubClass'].dtype"
   ]
  },
  {
   "cell_type": "code",
   "execution_count": null,
   "metadata": {},
   "outputs": [],
   "source": [
    "housing_new['OverallQual'].dtype"
   ]
  },
  {
   "cell_type": "markdown",
   "metadata": {},
   "source": [
    "## Exercises\n",
    "\n",
    "### Exercise 1\n",
    "\n",
    "<span  style=\"color:green; font-size:16px\">Create a new DataFrame `diamonds2` that has the columns clarity, color, and cut as ordered categoricals.</span>"
   ]
  },
  {
   "cell_type": "code",
   "execution_count": null,
   "metadata": {},
   "outputs": [],
   "source": []
  },
  {
   "cell_type": "markdown",
   "metadata": {},
   "source": [
    "### Exercise 2\n",
    "\n",
    "<span  style=\"color:green; font-size:16px\">Find the number of occurrences for each cut type sorted by its cut order.</span>"
   ]
  },
  {
   "cell_type": "code",
   "execution_count": null,
   "metadata": {},
   "outputs": [],
   "source": []
  }
 ],
 "metadata": {
  "kernelspec": {
   "display_name": "Python 3",
   "language": "python",
   "name": "python3"
  },
  "language_info": {
   "codemirror_mode": {
    "name": "ipython",
    "version": 3
   },
   "file_extension": ".py",
   "mimetype": "text/x-python",
   "name": "python",
   "nbconvert_exporter": "python",
   "pygments_lexer": "ipython3",
   "version": "3.7.3"
  }
 },
 "nbformat": 4,
 "nbformat_minor": 2
}
