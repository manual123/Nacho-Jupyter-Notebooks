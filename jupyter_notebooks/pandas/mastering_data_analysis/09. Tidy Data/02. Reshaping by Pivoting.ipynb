{
 "cells": [
  {
   "cell_type": "markdown",
   "metadata": {},
   "source": [
    "# Reshaping by Pivoting\n",
    "\n",
    "Let's recreate our tidy data from the previous notebook."
   ]
  },
  {
   "cell_type": "code",
   "execution_count": null,
   "metadata": {},
   "outputs": [],
   "source": [
    "import pandas as pd\n",
    "arrival_delay = pd.read_csv('../data/tidy/average_arrival_delay.csv')\n",
    "ad_melted = arrival_delay.melt(id_vars='airline', var_name='origin_airport', \n",
    "                               value_name='avg_arrival_delay')\n",
    "ad_melted.head()"
   ]
  },
  {
   "cell_type": "markdown",
   "metadata": {},
   "source": [
    "## Inverting melted data with `pivot`\n",
    "Pandas has functionality to invert melted data back to its original messy form. This is sometimes called **pivoting** and is done with the **`pivot`** method. It has three available parameters.\n",
    "\n",
    "* `index` - the column that will stay vertical. This column will be set as the index\n",
    "* `columns` - The column which will be transposed and whose unique values will be made into column names\n",
    "* `values` - The column which will be tiled across as the new values"
   ]
  },
  {
   "cell_type": "code",
   "execution_count": null,
   "metadata": {},
   "outputs": [],
   "source": [
    "df_pivot = ad_melted.pivot(index='airline', \n",
    "                           columns='origin_airport', \n",
    "                           values='avg_arrival_delay')\n",
    "df_pivot.head()"
   ]
  },
  {
   "cell_type": "markdown",
   "metadata": {},
   "source": [
    "### What is that extra data?\n",
    "You may be disturbed by seeing `origin_airport` and `airline` in the upper left hand corner of the DataFrame. These two pieces of text are **names** for the their respective index. `origin_airport` is the name for the column index and `airline` is the name for the row index.\n",
    "\n",
    "### Remove this noise\n",
    "We can use the row index name to our advantage. The `reset_index` method uses it as the column name."
   ]
  },
  {
   "cell_type": "code",
   "execution_count": null,
   "metadata": {},
   "outputs": [],
   "source": [
    "df_pivot2 = df_pivot.reset_index()\n",
    "df_pivot2.head()"
   ]
  },
  {
   "cell_type": "markdown",
   "metadata": {},
   "source": [
    "### The name of the columns\n",
    "That column index name `origin_airport` is still there. Let's remove it with the `rename_axis` method. This method can rename either the row or column index. Here we choose to rename the column index to `None` which effectively removes it."
   ]
  },
  {
   "cell_type": "code",
   "execution_count": null,
   "metadata": {},
   "outputs": [],
   "source": [
    "df_pivot2 = df_pivot2.rename_axis(None, axis='columns')\n",
    "df_pivot2.head()"
   ]
  },
  {
   "cell_type": "markdown",
   "metadata": {},
   "source": [
    "### All steps in a single cell"
   ]
  },
  {
   "cell_type": "code",
   "execution_count": null,
   "metadata": {},
   "outputs": [],
   "source": [
    "df_pivot = ad_melted.pivot(index='airline', columns='origin_airport', values='avg_arrival_delay')\n",
    "df_pivot = df_pivot.reset_index()\n",
    "df_pivot = df_pivot.rename_axis(None, axis='columns')\n",
    "df_pivot.head()"
   ]
  },
  {
   "cell_type": "markdown",
   "metadata": {},
   "source": [
    "## Pivoting with duplicate values\n",
    "Let's create a new table very similar to our melted table. We will sample the rows with replacement using the `sample` method to create 1,000 rows of data. This guarantees duplicates in our columns."
   ]
  },
  {
   "cell_type": "code",
   "execution_count": null,
   "metadata": {},
   "outputs": [],
   "source": [
    "df_dupes = ad_melted.sample(n=1000, replace=True)\n",
    "df_dupes.shape"
   ]
  },
  {
   "cell_type": "code",
   "execution_count": null,
   "metadata": {
    "scrolled": true
   },
   "outputs": [],
   "source": [
    "df_dupes.head()"
   ]
  },
  {
   "cell_type": "markdown",
   "metadata": {},
   "source": [
    "### Attempting to reshape this won't work\n",
    "The `df_dupes` DataFrame has the same exact columns and the same values for airline and origin_airport as `ad_melted` but will produce an error when calling the `pivot` method. This is because there exists more than one row for each airline and airport combination.\n",
    "\n",
    "For example, there are many rows that contain the airline as AA and the airport as IAH. Because there are multiple values for this particular intersection, the `pivot` method will not work  (even if all of them are the same). "
   ]
  },
  {
   "cell_type": "code",
   "execution_count": null,
   "metadata": {},
   "outputs": [],
   "source": [
    "df_dupes.pivot(index='airline', \n",
    "               columns='origin_airport', \n",
    "               values='avg_arrival_delay')"
   ]
  },
  {
   "cell_type": "markdown",
   "metadata": {},
   "source": [
    "### Verify this with `pivot_table`\n",
    "The `pivot` method works when there exist exactly one unique combination for each intersection, like it does in the `ad_melted` DataFrame. You can verify the number of occurrences of each airline-airport combination with the `pivot_table` method:"
   ]
  },
  {
   "cell_type": "code",
   "execution_count": null,
   "metadata": {},
   "outputs": [],
   "source": [
    "ad_melted.pivot_table(index='airline', columns='origin_airport', aggfunc='size')"
   ]
  },
  {
   "cell_type": "code",
   "execution_count": null,
   "metadata": {},
   "outputs": [],
   "source": [
    "df_dupes.pivot_table(index='airline', columns='origin_airport', aggfunc='size')"
   ]
  },
  {
   "cell_type": "markdown",
   "metadata": {},
   "source": [
    "## Using `pivot_table` to aggregate those values\n",
    "As an alternative, use `pivot_table` which is able to aggregate all the values at the intersection. In this particular instance all the values at each intersection are the same, so `min`, `max`, `mean`, and `median` will all produce the same result."
   ]
  },
  {
   "cell_type": "code",
   "execution_count": null,
   "metadata": {},
   "outputs": [],
   "source": [
    "ad_melted.pivot_table(index='airline', columns='origin_airport', \n",
    "                      values='avg_arrival_delay', aggfunc='max').head()"
   ]
  },
  {
   "cell_type": "markdown",
   "metadata": {},
   "source": [
    "## Exercises"
   ]
  },
  {
   "cell_type": "markdown",
   "metadata": {},
   "source": [
    "### Exercise 1\n",
    "<span  style=\"color:green; font-size:16px\">Read the file `tidy/clean_movie1.csv` and then use the `pivot` method to put the country names as the columns. Put the `count` as the new values for the DataFrame.</span>"
   ]
  },
  {
   "cell_type": "code",
   "execution_count": null,
   "metadata": {},
   "outputs": [],
   "source": []
  },
  {
   "cell_type": "markdown",
   "metadata": {},
   "source": [
    "### Exercise 2\n",
    "<span  style=\"color:green; font-size:16px\">Read in the NYC deaths dataset and select only males from 2007. Pivot this information so we can more clearly see the breakdown of causes of death by race. Assign the result to a variable.</span>"
   ]
  },
  {
   "cell_type": "code",
   "execution_count": null,
   "metadata": {},
   "outputs": [],
   "source": []
  },
  {
   "cell_type": "markdown",
   "metadata": {},
   "source": [
    "### Exercise 3\n",
    "<span  style=\"color:green; font-size:16px\">Use the result from Exercise 2 and highlight the leading cause of death for each race. Is it the same for each one?</span>"
   ]
  },
  {
   "cell_type": "code",
   "execution_count": null,
   "metadata": {},
   "outputs": [],
   "source": []
  },
  {
   "cell_type": "markdown",
   "metadata": {},
   "source": [
    "### Exercise 4\n",
    "<span  style=\"color:green; font-size:16px\">Read in the flights dataset. Find the total number of flights from each airline by their origin airport. Hint: When making a pivot table of just frequency, its not necessary to have a `values` column. Save the results to a variable.</span>"
   ]
  },
  {
   "cell_type": "code",
   "execution_count": null,
   "metadata": {},
   "outputs": [],
   "source": []
  },
  {
   "cell_type": "markdown",
   "metadata": {},
   "source": [
    "### Exercise 5\n",
    "<span  style=\"color:green; font-size:16px\">Highlight the origin airport with the most flights for each airline. Do a few online searches to determine if those airports are hubs for those airlines.</span>"
   ]
  },
  {
   "cell_type": "code",
   "execution_count": null,
   "metadata": {},
   "outputs": [],
   "source": []
  },
  {
   "cell_type": "markdown",
   "metadata": {},
   "source": [
    "### Exercise 6\n",
    "<span  style=\"color:green; font-size:16px\">Read in the bikes dataset. For each type of weather event (the `events` column) find the median temperature for males and females.</span>"
   ]
  },
  {
   "cell_type": "code",
   "execution_count": null,
   "metadata": {},
   "outputs": [],
   "source": []
  },
  {
   "cell_type": "markdown",
   "metadata": {},
   "source": [
    "### Exercise 7\n",
    "<span  style=\"color:green; font-size:16px\">Reshape the movie dataset so that there are two columns, one for all of the actors and one for the content rating of each of their respective movies. Filter this DataFrame so that it contains the top 10 most common actors. Then create a table that displays the number of movies each actor made by content rating. The actor names should be in the index, with the content ratings in the columns, with the counts as the values.</span>"
   ]
  },
  {
   "cell_type": "code",
   "execution_count": null,
   "metadata": {},
   "outputs": [],
   "source": []
  }
 ],
 "metadata": {
  "kernelspec": {
   "display_name": "Python 3",
   "language": "python",
   "name": "python3"
  },
  "language_info": {
   "codemirror_mode": {
    "name": "ipython",
    "version": 3
   },
   "file_extension": ".py",
   "mimetype": "text/x-python",
   "name": "python",
   "nbconvert_exporter": "python",
   "pygments_lexer": "ipython3",
   "version": "3.7.3"
  }
 },
 "nbformat": 4,
 "nbformat_minor": 2
}
