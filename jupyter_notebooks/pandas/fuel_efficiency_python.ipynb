{
 "cells": [
  {
   "cell_type": "markdown",
   "metadata": {},
   "source": [
    "<center><h1>Analyzing Automobile Fuel Economy Data</h1></center>"
   ]
  },
  {
   "cell_type": "markdown",
   "metadata": {},
   "source": [
    "### QUESTION: Are Toyota vehicles more fuel efficient than Honda vehicles?"
   ]
  },
  {
   "cell_type": "markdown",
   "metadata": {},
   "source": [
    "**To answer this question, I found a government web site that has the data I was looking for:**"
   ]
  },
  {
   "cell_type": "markdown",
   "metadata": {},
   "source": [
    "Data source: [http://www.fueleconomy.gov/feg/ws/index.shtml](http://www.fueleconomy.gov/feg/ws/index.shtml)<br>\n",
    "Data file: [http://www.fueleconomy.gov/feg/epadata/vehicles.csv.zip](http://www.fueleconomy.gov/feg/epadata/vehicles.csv.zip)<br>\n",
    "Data meta data: [http://www.fueleconomy.gov/feg/ws/index.shtml#vehicle](http://www.fueleconomy.gov/feg/ws/index.shtml#vehicle)"
   ]
  },
  {
   "cell_type": "markdown",
   "metadata": {},
   "source": [
    "In this notebook, I'll be using the Python programming language to profile, summarize, and visualize the data."
   ]
  },
  {
   "cell_type": "markdown",
   "metadata": {},
   "source": [
    "#### I've installed the usual packages for data analyis and plotting:"
   ]
  },
  {
   "cell_type": "code",
   "execution_count": 2,
   "metadata": {
    "collapsed": false,
    "run_control": {
     "read_only": false
    }
   },
   "outputs": [],
   "source": [
    "%matplotlib inline\n",
    "import pandas as pd\n",
    "import numpy as np\n",
    "import matplotlib.pyplot as plt\n",
    "import seaborn as sns\n",
    "pd.options.display.max_columns = 100\n",
    "pd.options.display.max_rows = 100"
   ]
  },
  {
   "cell_type": "code",
   "execution_count": 3,
   "metadata": {
    "collapsed": false,
    "run_control": {
     "read_only": false
    }
   },
   "outputs": [
    {
     "name": "stderr",
     "output_type": "stream",
     "text": [
      "/home/pybokeh/miniconda3/envs/jupyter/lib/python3.5/site-packages/IPython/core/interactiveshell.py:2723: DtypeWarning: Columns (70,71,72,73,74,76,79) have mixed types. Specify dtype option on import or set low_memory=False.\n",
      "  interactivity=interactivity, compiler=compiler, result=result)\n"
     ]
    }
   ],
   "source": [
    "# Read the downloaded csv file as input\n",
    "vehicles = pd.read_csv('/home/pybokeh/Downloads/vehicles.csv')"
   ]
  },
  {
   "cell_type": "markdown",
   "metadata": {},
   "source": [
    "### Let's profile our data set"
   ]
  },
  {
   "cell_type": "code",
   "execution_count": 4,
   "metadata": {
    "collapsed": false,
    "run_control": {
     "read_only": false
    }
   },
   "outputs": [
    {
     "name": "stdout",
     "output_type": "stream",
     "text": [
      "<class 'pandas.core.frame.DataFrame'>\n",
      "RangeIndex: 37001 entries, 0 to 37000\n",
      "Data columns (total 83 columns):\n",
      "barrels08          37001 non-null float64\n",
      "barrelsA08         37001 non-null float64\n",
      "charge120          37001 non-null float64\n",
      "charge240          37001 non-null float64\n",
      "city08             37001 non-null int64\n",
      "city08U            37001 non-null float64\n",
      "cityA08            37001 non-null int64\n",
      "cityA08U           37001 non-null float64\n",
      "cityCD             37001 non-null float64\n",
      "cityE              37001 non-null float64\n",
      "cityUF             37001 non-null float64\n",
      "co2                37001 non-null int64\n",
      "co2A               37001 non-null int64\n",
      "co2TailpipeAGpm    37001 non-null float64\n",
      "co2TailpipeGpm     37001 non-null float64\n",
      "comb08             37001 non-null int64\n",
      "comb08U            37001 non-null float64\n",
      "combA08            37001 non-null int64\n",
      "combA08U           37001 non-null float64\n",
      "combE              37001 non-null float64\n",
      "combinedCD         37001 non-null float64\n",
      "combinedUF         37001 non-null float64\n",
      "cylinders          36891 non-null float64\n",
      "displ              36894 non-null float64\n",
      "drive              35812 non-null object\n",
      "engId              37001 non-null int64\n",
      "eng_dscr           21798 non-null object\n",
      "feScore            37001 non-null int64\n",
      "fuelCost08         37001 non-null int64\n",
      "fuelCostA08        37001 non-null int64\n",
      "fuelType           37001 non-null object\n",
      "fuelType1          37001 non-null object\n",
      "ghgScore           37001 non-null int64\n",
      "ghgScoreA          37001 non-null int64\n",
      "highway08          37001 non-null int64\n",
      "highway08U         37001 non-null float64\n",
      "highwayA08         37001 non-null int64\n",
      "highwayA08U        37001 non-null float64\n",
      "highwayCD          37001 non-null float64\n",
      "highwayE           37001 non-null float64\n",
      "highwayUF          37001 non-null float64\n",
      "hlv                37001 non-null int64\n",
      "hpv                37001 non-null int64\n",
      "id                 37001 non-null int64\n",
      "lv2                37001 non-null int64\n",
      "lv4                37001 non-null int64\n",
      "make               37001 non-null object\n",
      "model              37001 non-null object\n",
      "mpgData            37001 non-null object\n",
      "phevBlended        37001 non-null bool\n",
      "pv2                37001 non-null int64\n",
      "pv4                37001 non-null int64\n",
      "range              37001 non-null int64\n",
      "rangeCity          37001 non-null float64\n",
      "rangeCityA         37001 non-null float64\n",
      "rangeHwy           37001 non-null float64\n",
      "rangeHwyA          37001 non-null float64\n",
      "trany              36990 non-null object\n",
      "UCity              37001 non-null float64\n",
      "UCityA             37001 non-null float64\n",
      "UHighway           37001 non-null float64\n",
      "UHighwayA          37001 non-null float64\n",
      "VClass             37001 non-null object\n",
      "year               37001 non-null int64\n",
      "youSaveSpend       37001 non-null int64\n",
      "guzzler            2227 non-null object\n",
      "trans_dscr         15047 non-null object\n",
      "tCharger           4767 non-null object\n",
      "sCharger           644 non-null object\n",
      "atvType            2976 non-null object\n",
      "fuelType2          1357 non-null object\n",
      "rangeA             1352 non-null object\n",
      "evMotor            513 non-null object\n",
      "mfrCode            6183 non-null object\n",
      "c240Dscr           30 non-null object\n",
      "charge240b         37001 non-null float64\n",
      "c240bDscr          29 non-null object\n",
      "createdOn          37001 non-null object\n",
      "modifiedOn         37001 non-null object\n",
      "startStop          5296 non-null object\n",
      "phevCity           37001 non-null int64\n",
      "phevHwy            37001 non-null int64\n",
      "phevComb           37001 non-null int64\n",
      "dtypes: bool(1), float64(32), int64(27), object(23)\n",
      "memory usage: 23.2+ MB\n"
     ]
    }
   ],
   "source": [
    "vehicles.info()"
   ]
  },
  {
   "cell_type": "code",
   "execution_count": 5,
   "metadata": {
    "collapsed": false
   },
   "outputs": [
    {
     "data": {
      "text/plain": [
       "(37001, 83)"
      ]
     },
     "execution_count": 5,
     "metadata": {},
     "output_type": "execute_result"
    }
   ],
   "source": [
    "vehicles.shape"
   ]
  },
  {
   "cell_type": "markdown",
   "metadata": {},
   "source": [
    "**Se we have 37,001 rows and 83 columns of data. If you want to know the description of the data each column contains, the metadata can be viewed [here](http://www.fueleconomy.gov/feg/ws/index.shtml#vehicle)**"
   ]
  },
  {
   "cell_type": "markdown",
   "metadata": {},
   "source": [
    "#### Let's convert missing/NaNs to \"missing\""
   ]
  },
  {
   "cell_type": "code",
   "execution_count": 6,
   "metadata": {
    "collapsed": true
   },
   "outputs": [],
   "source": [
    "vehicles.fillna('missing', inplace=True)"
   ]
  },
  {
   "cell_type": "markdown",
   "metadata": {},
   "source": [
    "### Let's look at the first 5 rows of data"
   ]
  },
  {
   "cell_type": "code",
   "execution_count": 7,
   "metadata": {
    "collapsed": false,
    "run_control": {
     "read_only": false
    }
   },
   "outputs": [
    {
     "data": {
      "text/html": [
       "<div>\n",
       "<table border=\"1\" class=\"dataframe\">\n",
       "  <thead>\n",
       "    <tr style=\"text-align: right;\">\n",
       "      <th></th>\n",
       "      <th>barrels08</th>\n",
       "      <th>barrelsA08</th>\n",
       "      <th>charge120</th>\n",
       "      <th>charge240</th>\n",
       "      <th>city08</th>\n",
       "      <th>city08U</th>\n",
       "      <th>cityA08</th>\n",
       "      <th>cityA08U</th>\n",
       "      <th>cityCD</th>\n",
       "      <th>cityE</th>\n",
       "      <th>cityUF</th>\n",
       "      <th>co2</th>\n",
       "      <th>co2A</th>\n",
       "      <th>co2TailpipeAGpm</th>\n",
       "      <th>co2TailpipeGpm</th>\n",
       "      <th>comb08</th>\n",
       "      <th>comb08U</th>\n",
       "      <th>combA08</th>\n",
       "      <th>combA08U</th>\n",
       "      <th>combE</th>\n",
       "      <th>combinedCD</th>\n",
       "      <th>combinedUF</th>\n",
       "      <th>cylinders</th>\n",
       "      <th>displ</th>\n",
       "      <th>drive</th>\n",
       "      <th>engId</th>\n",
       "      <th>eng_dscr</th>\n",
       "      <th>feScore</th>\n",
       "      <th>fuelCost08</th>\n",
       "      <th>fuelCostA08</th>\n",
       "      <th>fuelType</th>\n",
       "      <th>fuelType1</th>\n",
       "      <th>ghgScore</th>\n",
       "      <th>ghgScoreA</th>\n",
       "      <th>highway08</th>\n",
       "      <th>highway08U</th>\n",
       "      <th>highwayA08</th>\n",
       "      <th>highwayA08U</th>\n",
       "      <th>highwayCD</th>\n",
       "      <th>highwayE</th>\n",
       "      <th>highwayUF</th>\n",
       "      <th>hlv</th>\n",
       "      <th>hpv</th>\n",
       "      <th>id</th>\n",
       "      <th>lv2</th>\n",
       "      <th>lv4</th>\n",
       "      <th>make</th>\n",
       "      <th>model</th>\n",
       "      <th>mpgData</th>\n",
       "      <th>phevBlended</th>\n",
       "      <th>pv2</th>\n",
       "      <th>pv4</th>\n",
       "      <th>range</th>\n",
       "      <th>rangeCity</th>\n",
       "      <th>rangeCityA</th>\n",
       "      <th>rangeHwy</th>\n",
       "      <th>rangeHwyA</th>\n",
       "      <th>trany</th>\n",
       "      <th>UCity</th>\n",
       "      <th>UCityA</th>\n",
       "      <th>UHighway</th>\n",
       "      <th>UHighwayA</th>\n",
       "      <th>VClass</th>\n",
       "      <th>year</th>\n",
       "      <th>youSaveSpend</th>\n",
       "      <th>guzzler</th>\n",
       "      <th>trans_dscr</th>\n",
       "      <th>tCharger</th>\n",
       "      <th>sCharger</th>\n",
       "      <th>atvType</th>\n",
       "      <th>fuelType2</th>\n",
       "      <th>rangeA</th>\n",
       "      <th>evMotor</th>\n",
       "      <th>mfrCode</th>\n",
       "      <th>c240Dscr</th>\n",
       "      <th>charge240b</th>\n",
       "      <th>c240bDscr</th>\n",
       "      <th>createdOn</th>\n",
       "      <th>modifiedOn</th>\n",
       "      <th>startStop</th>\n",
       "      <th>phevCity</th>\n",
       "      <th>phevHwy</th>\n",
       "      <th>phevComb</th>\n",
       "    </tr>\n",
       "  </thead>\n",
       "  <tbody>\n",
       "    <tr>\n",
       "      <th>0</th>\n",
       "      <td>15.689436</td>\n",
       "      <td>0.0</td>\n",
       "      <td>0.0</td>\n",
       "      <td>0.0</td>\n",
       "      <td>19</td>\n",
       "      <td>0.0</td>\n",
       "      <td>0</td>\n",
       "      <td>0.0</td>\n",
       "      <td>0.0</td>\n",
       "      <td>0.0</td>\n",
       "      <td>0.0</td>\n",
       "      <td>-1</td>\n",
       "      <td>-1</td>\n",
       "      <td>0.0</td>\n",
       "      <td>423.190476</td>\n",
       "      <td>21</td>\n",
       "      <td>0.0</td>\n",
       "      <td>0</td>\n",
       "      <td>0.0</td>\n",
       "      <td>0.0</td>\n",
       "      <td>0.0</td>\n",
       "      <td>0.0</td>\n",
       "      <td>4</td>\n",
       "      <td>2</td>\n",
       "      <td>Rear-Wheel Drive</td>\n",
       "      <td>9011</td>\n",
       "      <td>(FFS)</td>\n",
       "      <td>-1</td>\n",
       "      <td>1450</td>\n",
       "      <td>0</td>\n",
       "      <td>Regular</td>\n",
       "      <td>Regular Gasoline</td>\n",
       "      <td>-1</td>\n",
       "      <td>-1</td>\n",
       "      <td>25</td>\n",
       "      <td>0.0</td>\n",
       "      <td>0</td>\n",
       "      <td>0.0</td>\n",
       "      <td>0.0</td>\n",
       "      <td>0.0</td>\n",
       "      <td>0.0</td>\n",
       "      <td>0</td>\n",
       "      <td>0</td>\n",
       "      <td>1</td>\n",
       "      <td>0</td>\n",
       "      <td>0</td>\n",
       "      <td>Alfa Romeo</td>\n",
       "      <td>Spider Veloce 2000</td>\n",
       "      <td>Y</td>\n",
       "      <td>False</td>\n",
       "      <td>0</td>\n",
       "      <td>0</td>\n",
       "      <td>0</td>\n",
       "      <td>0.0</td>\n",
       "      <td>0.0</td>\n",
       "      <td>0.0</td>\n",
       "      <td>0.0</td>\n",
       "      <td>Manual 5-spd</td>\n",
       "      <td>23.3333</td>\n",
       "      <td>0.0</td>\n",
       "      <td>35.0000</td>\n",
       "      <td>0.0</td>\n",
       "      <td>Two Seaters</td>\n",
       "      <td>1985</td>\n",
       "      <td>-1250</td>\n",
       "      <td>missing</td>\n",
       "      <td>missing</td>\n",
       "      <td>missing</td>\n",
       "      <td>missing</td>\n",
       "      <td>missing</td>\n",
       "      <td>missing</td>\n",
       "      <td>missing</td>\n",
       "      <td>missing</td>\n",
       "      <td>missing</td>\n",
       "      <td>missing</td>\n",
       "      <td>0.0</td>\n",
       "      <td>missing</td>\n",
       "      <td>Tue Jan 01 00:00:00 EST 2013</td>\n",
       "      <td>Tue Jan 01 00:00:00 EST 2013</td>\n",
       "      <td>missing</td>\n",
       "      <td>0</td>\n",
       "      <td>0</td>\n",
       "      <td>0</td>\n",
       "    </tr>\n",
       "    <tr>\n",
       "      <th>1</th>\n",
       "      <td>29.950562</td>\n",
       "      <td>0.0</td>\n",
       "      <td>0.0</td>\n",
       "      <td>0.0</td>\n",
       "      <td>9</td>\n",
       "      <td>0.0</td>\n",
       "      <td>0</td>\n",
       "      <td>0.0</td>\n",
       "      <td>0.0</td>\n",
       "      <td>0.0</td>\n",
       "      <td>0.0</td>\n",
       "      <td>-1</td>\n",
       "      <td>-1</td>\n",
       "      <td>0.0</td>\n",
       "      <td>807.909091</td>\n",
       "      <td>11</td>\n",
       "      <td>0.0</td>\n",
       "      <td>0</td>\n",
       "      <td>0.0</td>\n",
       "      <td>0.0</td>\n",
       "      <td>0.0</td>\n",
       "      <td>0.0</td>\n",
       "      <td>12</td>\n",
       "      <td>4.9</td>\n",
       "      <td>Rear-Wheel Drive</td>\n",
       "      <td>22020</td>\n",
       "      <td>(GUZZLER)</td>\n",
       "      <td>-1</td>\n",
       "      <td>2750</td>\n",
       "      <td>0</td>\n",
       "      <td>Regular</td>\n",
       "      <td>Regular Gasoline</td>\n",
       "      <td>-1</td>\n",
       "      <td>-1</td>\n",
       "      <td>14</td>\n",
       "      <td>0.0</td>\n",
       "      <td>0</td>\n",
       "      <td>0.0</td>\n",
       "      <td>0.0</td>\n",
       "      <td>0.0</td>\n",
       "      <td>0.0</td>\n",
       "      <td>0</td>\n",
       "      <td>0</td>\n",
       "      <td>10</td>\n",
       "      <td>0</td>\n",
       "      <td>0</td>\n",
       "      <td>Ferrari</td>\n",
       "      <td>Testarossa</td>\n",
       "      <td>N</td>\n",
       "      <td>False</td>\n",
       "      <td>0</td>\n",
       "      <td>0</td>\n",
       "      <td>0</td>\n",
       "      <td>0.0</td>\n",
       "      <td>0.0</td>\n",
       "      <td>0.0</td>\n",
       "      <td>0.0</td>\n",
       "      <td>Manual 5-spd</td>\n",
       "      <td>11.0000</td>\n",
       "      <td>0.0</td>\n",
       "      <td>19.0000</td>\n",
       "      <td>0.0</td>\n",
       "      <td>Two Seaters</td>\n",
       "      <td>1985</td>\n",
       "      <td>-7750</td>\n",
       "      <td>T</td>\n",
       "      <td>missing</td>\n",
       "      <td>missing</td>\n",
       "      <td>missing</td>\n",
       "      <td>missing</td>\n",
       "      <td>missing</td>\n",
       "      <td>missing</td>\n",
       "      <td>missing</td>\n",
       "      <td>missing</td>\n",
       "      <td>missing</td>\n",
       "      <td>0.0</td>\n",
       "      <td>missing</td>\n",
       "      <td>Tue Jan 01 00:00:00 EST 2013</td>\n",
       "      <td>Tue Jan 01 00:00:00 EST 2013</td>\n",
       "      <td>missing</td>\n",
       "      <td>0</td>\n",
       "      <td>0</td>\n",
       "      <td>0</td>\n",
       "    </tr>\n",
       "    <tr>\n",
       "      <th>2</th>\n",
       "      <td>12.195570</td>\n",
       "      <td>0.0</td>\n",
       "      <td>0.0</td>\n",
       "      <td>0.0</td>\n",
       "      <td>23</td>\n",
       "      <td>0.0</td>\n",
       "      <td>0</td>\n",
       "      <td>0.0</td>\n",
       "      <td>0.0</td>\n",
       "      <td>0.0</td>\n",
       "      <td>0.0</td>\n",
       "      <td>-1</td>\n",
       "      <td>-1</td>\n",
       "      <td>0.0</td>\n",
       "      <td>329.148148</td>\n",
       "      <td>27</td>\n",
       "      <td>0.0</td>\n",
       "      <td>0</td>\n",
       "      <td>0.0</td>\n",
       "      <td>0.0</td>\n",
       "      <td>0.0</td>\n",
       "      <td>0.0</td>\n",
       "      <td>4</td>\n",
       "      <td>2.2</td>\n",
       "      <td>Front-Wheel Drive</td>\n",
       "      <td>2100</td>\n",
       "      <td>(FFS)</td>\n",
       "      <td>-1</td>\n",
       "      <td>1100</td>\n",
       "      <td>0</td>\n",
       "      <td>Regular</td>\n",
       "      <td>Regular Gasoline</td>\n",
       "      <td>-1</td>\n",
       "      <td>-1</td>\n",
       "      <td>33</td>\n",
       "      <td>0.0</td>\n",
       "      <td>0</td>\n",
       "      <td>0.0</td>\n",
       "      <td>0.0</td>\n",
       "      <td>0.0</td>\n",
       "      <td>0.0</td>\n",
       "      <td>19</td>\n",
       "      <td>77</td>\n",
       "      <td>100</td>\n",
       "      <td>0</td>\n",
       "      <td>0</td>\n",
       "      <td>Dodge</td>\n",
       "      <td>Charger</td>\n",
       "      <td>Y</td>\n",
       "      <td>False</td>\n",
       "      <td>0</td>\n",
       "      <td>0</td>\n",
       "      <td>0</td>\n",
       "      <td>0.0</td>\n",
       "      <td>0.0</td>\n",
       "      <td>0.0</td>\n",
       "      <td>0.0</td>\n",
       "      <td>Manual 5-spd</td>\n",
       "      <td>29.0000</td>\n",
       "      <td>0.0</td>\n",
       "      <td>47.0000</td>\n",
       "      <td>0.0</td>\n",
       "      <td>Subcompact Cars</td>\n",
       "      <td>1985</td>\n",
       "      <td>500</td>\n",
       "      <td>missing</td>\n",
       "      <td>SIL</td>\n",
       "      <td>missing</td>\n",
       "      <td>missing</td>\n",
       "      <td>missing</td>\n",
       "      <td>missing</td>\n",
       "      <td>missing</td>\n",
       "      <td>missing</td>\n",
       "      <td>missing</td>\n",
       "      <td>missing</td>\n",
       "      <td>0.0</td>\n",
       "      <td>missing</td>\n",
       "      <td>Tue Jan 01 00:00:00 EST 2013</td>\n",
       "      <td>Tue Jan 01 00:00:00 EST 2013</td>\n",
       "      <td>missing</td>\n",
       "      <td>0</td>\n",
       "      <td>0</td>\n",
       "      <td>0</td>\n",
       "    </tr>\n",
       "    <tr>\n",
       "      <th>3</th>\n",
       "      <td>29.950562</td>\n",
       "      <td>0.0</td>\n",
       "      <td>0.0</td>\n",
       "      <td>0.0</td>\n",
       "      <td>10</td>\n",
       "      <td>0.0</td>\n",
       "      <td>0</td>\n",
       "      <td>0.0</td>\n",
       "      <td>0.0</td>\n",
       "      <td>0.0</td>\n",
       "      <td>0.0</td>\n",
       "      <td>-1</td>\n",
       "      <td>-1</td>\n",
       "      <td>0.0</td>\n",
       "      <td>807.909091</td>\n",
       "      <td>11</td>\n",
       "      <td>0.0</td>\n",
       "      <td>0</td>\n",
       "      <td>0.0</td>\n",
       "      <td>0.0</td>\n",
       "      <td>0.0</td>\n",
       "      <td>0.0</td>\n",
       "      <td>8</td>\n",
       "      <td>5.2</td>\n",
       "      <td>Rear-Wheel Drive</td>\n",
       "      <td>2850</td>\n",
       "      <td>missing</td>\n",
       "      <td>-1</td>\n",
       "      <td>2750</td>\n",
       "      <td>0</td>\n",
       "      <td>Regular</td>\n",
       "      <td>Regular Gasoline</td>\n",
       "      <td>-1</td>\n",
       "      <td>-1</td>\n",
       "      <td>12</td>\n",
       "      <td>0.0</td>\n",
       "      <td>0</td>\n",
       "      <td>0.0</td>\n",
       "      <td>0.0</td>\n",
       "      <td>0.0</td>\n",
       "      <td>0.0</td>\n",
       "      <td>0</td>\n",
       "      <td>0</td>\n",
       "      <td>1000</td>\n",
       "      <td>0</td>\n",
       "      <td>0</td>\n",
       "      <td>Dodge</td>\n",
       "      <td>B150/B250 Wagon 2WD</td>\n",
       "      <td>N</td>\n",
       "      <td>False</td>\n",
       "      <td>0</td>\n",
       "      <td>0</td>\n",
       "      <td>0</td>\n",
       "      <td>0.0</td>\n",
       "      <td>0.0</td>\n",
       "      <td>0.0</td>\n",
       "      <td>0.0</td>\n",
       "      <td>Automatic 3-spd</td>\n",
       "      <td>12.2222</td>\n",
       "      <td>0.0</td>\n",
       "      <td>16.6667</td>\n",
       "      <td>0.0</td>\n",
       "      <td>Vans</td>\n",
       "      <td>1985</td>\n",
       "      <td>-7750</td>\n",
       "      <td>missing</td>\n",
       "      <td>missing</td>\n",
       "      <td>missing</td>\n",
       "      <td>missing</td>\n",
       "      <td>missing</td>\n",
       "      <td>missing</td>\n",
       "      <td>missing</td>\n",
       "      <td>missing</td>\n",
       "      <td>missing</td>\n",
       "      <td>missing</td>\n",
       "      <td>0.0</td>\n",
       "      <td>missing</td>\n",
       "      <td>Tue Jan 01 00:00:00 EST 2013</td>\n",
       "      <td>Tue Jan 01 00:00:00 EST 2013</td>\n",
       "      <td>missing</td>\n",
       "      <td>0</td>\n",
       "      <td>0</td>\n",
       "      <td>0</td>\n",
       "    </tr>\n",
       "    <tr>\n",
       "      <th>4</th>\n",
       "      <td>17.337486</td>\n",
       "      <td>0.0</td>\n",
       "      <td>0.0</td>\n",
       "      <td>0.0</td>\n",
       "      <td>17</td>\n",
       "      <td>0.0</td>\n",
       "      <td>0</td>\n",
       "      <td>0.0</td>\n",
       "      <td>0.0</td>\n",
       "      <td>0.0</td>\n",
       "      <td>0.0</td>\n",
       "      <td>-1</td>\n",
       "      <td>-1</td>\n",
       "      <td>0.0</td>\n",
       "      <td>467.736842</td>\n",
       "      <td>19</td>\n",
       "      <td>0.0</td>\n",
       "      <td>0</td>\n",
       "      <td>0.0</td>\n",
       "      <td>0.0</td>\n",
       "      <td>0.0</td>\n",
       "      <td>0.0</td>\n",
       "      <td>4</td>\n",
       "      <td>2.2</td>\n",
       "      <td>4-Wheel or All-Wheel Drive</td>\n",
       "      <td>66031</td>\n",
       "      <td>(FFS,TRBO)</td>\n",
       "      <td>-1</td>\n",
       "      <td>1950</td>\n",
       "      <td>0</td>\n",
       "      <td>Premium</td>\n",
       "      <td>Premium Gasoline</td>\n",
       "      <td>-1</td>\n",
       "      <td>-1</td>\n",
       "      <td>23</td>\n",
       "      <td>0.0</td>\n",
       "      <td>0</td>\n",
       "      <td>0.0</td>\n",
       "      <td>0.0</td>\n",
       "      <td>0.0</td>\n",
       "      <td>0.0</td>\n",
       "      <td>0</td>\n",
       "      <td>0</td>\n",
       "      <td>10000</td>\n",
       "      <td>0</td>\n",
       "      <td>14</td>\n",
       "      <td>Subaru</td>\n",
       "      <td>Legacy AWD Turbo</td>\n",
       "      <td>N</td>\n",
       "      <td>False</td>\n",
       "      <td>0</td>\n",
       "      <td>90</td>\n",
       "      <td>0</td>\n",
       "      <td>0.0</td>\n",
       "      <td>0.0</td>\n",
       "      <td>0.0</td>\n",
       "      <td>0.0</td>\n",
       "      <td>Manual 5-spd</td>\n",
       "      <td>21.0000</td>\n",
       "      <td>0.0</td>\n",
       "      <td>32.0000</td>\n",
       "      <td>0.0</td>\n",
       "      <td>Compact Cars</td>\n",
       "      <td>1993</td>\n",
       "      <td>-3750</td>\n",
       "      <td>missing</td>\n",
       "      <td>missing</td>\n",
       "      <td>T</td>\n",
       "      <td>missing</td>\n",
       "      <td>missing</td>\n",
       "      <td>missing</td>\n",
       "      <td>missing</td>\n",
       "      <td>missing</td>\n",
       "      <td>missing</td>\n",
       "      <td>missing</td>\n",
       "      <td>0.0</td>\n",
       "      <td>missing</td>\n",
       "      <td>Tue Jan 01 00:00:00 EST 2013</td>\n",
       "      <td>Tue Jan 01 00:00:00 EST 2013</td>\n",
       "      <td>missing</td>\n",
       "      <td>0</td>\n",
       "      <td>0</td>\n",
       "      <td>0</td>\n",
       "    </tr>\n",
       "  </tbody>\n",
       "</table>\n",
       "</div>"
      ],
      "text/plain": [
       "   barrels08  barrelsA08  charge120  charge240  city08  city08U  cityA08  \\\n",
       "0  15.689436         0.0        0.0        0.0      19      0.0        0   \n",
       "1  29.950562         0.0        0.0        0.0       9      0.0        0   \n",
       "2  12.195570         0.0        0.0        0.0      23      0.0        0   \n",
       "3  29.950562         0.0        0.0        0.0      10      0.0        0   \n",
       "4  17.337486         0.0        0.0        0.0      17      0.0        0   \n",
       "\n",
       "   cityA08U  cityCD  cityE  cityUF  co2  co2A  co2TailpipeAGpm  \\\n",
       "0       0.0     0.0    0.0     0.0   -1    -1              0.0   \n",
       "1       0.0     0.0    0.0     0.0   -1    -1              0.0   \n",
       "2       0.0     0.0    0.0     0.0   -1    -1              0.0   \n",
       "3       0.0     0.0    0.0     0.0   -1    -1              0.0   \n",
       "4       0.0     0.0    0.0     0.0   -1    -1              0.0   \n",
       "\n",
       "   co2TailpipeGpm  comb08  comb08U  combA08  combA08U  combE  combinedCD  \\\n",
       "0      423.190476      21      0.0        0       0.0    0.0         0.0   \n",
       "1      807.909091      11      0.0        0       0.0    0.0         0.0   \n",
       "2      329.148148      27      0.0        0       0.0    0.0         0.0   \n",
       "3      807.909091      11      0.0        0       0.0    0.0         0.0   \n",
       "4      467.736842      19      0.0        0       0.0    0.0         0.0   \n",
       "\n",
       "   combinedUF cylinders displ                       drive  engId    eng_dscr  \\\n",
       "0         0.0         4     2            Rear-Wheel Drive   9011       (FFS)   \n",
       "1         0.0        12   4.9            Rear-Wheel Drive  22020   (GUZZLER)   \n",
       "2         0.0         4   2.2           Front-Wheel Drive   2100       (FFS)   \n",
       "3         0.0         8   5.2            Rear-Wheel Drive   2850     missing   \n",
       "4         0.0         4   2.2  4-Wheel or All-Wheel Drive  66031  (FFS,TRBO)   \n",
       "\n",
       "   feScore  fuelCost08  fuelCostA08 fuelType         fuelType1  ghgScore  \\\n",
       "0       -1        1450            0  Regular  Regular Gasoline        -1   \n",
       "1       -1        2750            0  Regular  Regular Gasoline        -1   \n",
       "2       -1        1100            0  Regular  Regular Gasoline        -1   \n",
       "3       -1        2750            0  Regular  Regular Gasoline        -1   \n",
       "4       -1        1950            0  Premium  Premium Gasoline        -1   \n",
       "\n",
       "   ghgScoreA  highway08  highway08U  highwayA08  highwayA08U  highwayCD  \\\n",
       "0         -1         25         0.0           0          0.0        0.0   \n",
       "1         -1         14         0.0           0          0.0        0.0   \n",
       "2         -1         33         0.0           0          0.0        0.0   \n",
       "3         -1         12         0.0           0          0.0        0.0   \n",
       "4         -1         23         0.0           0          0.0        0.0   \n",
       "\n",
       "   highwayE  highwayUF  hlv  hpv     id  lv2  lv4        make  \\\n",
       "0       0.0        0.0    0    0      1    0    0  Alfa Romeo   \n",
       "1       0.0        0.0    0    0     10    0    0     Ferrari   \n",
       "2       0.0        0.0   19   77    100    0    0       Dodge   \n",
       "3       0.0        0.0    0    0   1000    0    0       Dodge   \n",
       "4       0.0        0.0    0    0  10000    0   14      Subaru   \n",
       "\n",
       "                 model mpgData phevBlended  pv2  pv4  range  rangeCity  \\\n",
       "0   Spider Veloce 2000       Y       False    0    0      0        0.0   \n",
       "1           Testarossa       N       False    0    0      0        0.0   \n",
       "2              Charger       Y       False    0    0      0        0.0   \n",
       "3  B150/B250 Wagon 2WD       N       False    0    0      0        0.0   \n",
       "4     Legacy AWD Turbo       N       False    0   90      0        0.0   \n",
       "\n",
       "   rangeCityA  rangeHwy  rangeHwyA            trany    UCity  UCityA  \\\n",
       "0         0.0       0.0        0.0     Manual 5-spd  23.3333     0.0   \n",
       "1         0.0       0.0        0.0     Manual 5-spd  11.0000     0.0   \n",
       "2         0.0       0.0        0.0     Manual 5-spd  29.0000     0.0   \n",
       "3         0.0       0.0        0.0  Automatic 3-spd  12.2222     0.0   \n",
       "4         0.0       0.0        0.0     Manual 5-spd  21.0000     0.0   \n",
       "\n",
       "   UHighway  UHighwayA           VClass  year  youSaveSpend  guzzler  \\\n",
       "0   35.0000        0.0      Two Seaters  1985         -1250  missing   \n",
       "1   19.0000        0.0      Two Seaters  1985         -7750        T   \n",
       "2   47.0000        0.0  Subcompact Cars  1985           500  missing   \n",
       "3   16.6667        0.0             Vans  1985         -7750  missing   \n",
       "4   32.0000        0.0     Compact Cars  1993         -3750  missing   \n",
       "\n",
       "  trans_dscr tCharger sCharger  atvType fuelType2   rangeA  evMotor  mfrCode  \\\n",
       "0    missing  missing  missing  missing   missing  missing  missing  missing   \n",
       "1    missing  missing  missing  missing   missing  missing  missing  missing   \n",
       "2        SIL  missing  missing  missing   missing  missing  missing  missing   \n",
       "3    missing  missing  missing  missing   missing  missing  missing  missing   \n",
       "4    missing        T  missing  missing   missing  missing  missing  missing   \n",
       "\n",
       "  c240Dscr  charge240b c240bDscr                     createdOn  \\\n",
       "0  missing         0.0   missing  Tue Jan 01 00:00:00 EST 2013   \n",
       "1  missing         0.0   missing  Tue Jan 01 00:00:00 EST 2013   \n",
       "2  missing         0.0   missing  Tue Jan 01 00:00:00 EST 2013   \n",
       "3  missing         0.0   missing  Tue Jan 01 00:00:00 EST 2013   \n",
       "4  missing         0.0   missing  Tue Jan 01 00:00:00 EST 2013   \n",
       "\n",
       "                     modifiedOn startStop  phevCity  phevHwy  phevComb  \n",
       "0  Tue Jan 01 00:00:00 EST 2013   missing         0        0         0  \n",
       "1  Tue Jan 01 00:00:00 EST 2013   missing         0        0         0  \n",
       "2  Tue Jan 01 00:00:00 EST 2013   missing         0        0         0  \n",
       "3  Tue Jan 01 00:00:00 EST 2013   missing         0        0         0  \n",
       "4  Tue Jan 01 00:00:00 EST 2013   missing         0        0         0  "
      ]
     },
     "execution_count": 7,
     "metadata": {},
     "output_type": "execute_result"
    }
   ],
   "source": [
    "vehicles.head()"
   ]
  },
  {
   "cell_type": "markdown",
   "metadata": {},
   "source": [
    "### If you rather observe the columns vertically, we can transpose just the 1st 3 rows of the dataframe:"
   ]
  },
  {
   "cell_type": "code",
   "execution_count": 8,
   "metadata": {
    "collapsed": false,
    "run_control": {
     "read_only": false
    }
   },
   "outputs": [
    {
     "data": {
      "text/html": [
       "<div>\n",
       "<table border=\"1\" class=\"dataframe\">\n",
       "  <thead>\n",
       "    <tr style=\"text-align: right;\">\n",
       "      <th></th>\n",
       "      <th>0</th>\n",
       "      <th>1</th>\n",
       "      <th>2</th>\n",
       "    </tr>\n",
       "  </thead>\n",
       "  <tbody>\n",
       "    <tr>\n",
       "      <th>barrels08</th>\n",
       "      <td>15.6894</td>\n",
       "      <td>29.9506</td>\n",
       "      <td>12.1956</td>\n",
       "    </tr>\n",
       "    <tr>\n",
       "      <th>barrelsA08</th>\n",
       "      <td>0</td>\n",
       "      <td>0</td>\n",
       "      <td>0</td>\n",
       "    </tr>\n",
       "    <tr>\n",
       "      <th>charge120</th>\n",
       "      <td>0</td>\n",
       "      <td>0</td>\n",
       "      <td>0</td>\n",
       "    </tr>\n",
       "    <tr>\n",
       "      <th>charge240</th>\n",
       "      <td>0</td>\n",
       "      <td>0</td>\n",
       "      <td>0</td>\n",
       "    </tr>\n",
       "    <tr>\n",
       "      <th>city08</th>\n",
       "      <td>19</td>\n",
       "      <td>9</td>\n",
       "      <td>23</td>\n",
       "    </tr>\n",
       "    <tr>\n",
       "      <th>city08U</th>\n",
       "      <td>0</td>\n",
       "      <td>0</td>\n",
       "      <td>0</td>\n",
       "    </tr>\n",
       "    <tr>\n",
       "      <th>cityA08</th>\n",
       "      <td>0</td>\n",
       "      <td>0</td>\n",
       "      <td>0</td>\n",
       "    </tr>\n",
       "    <tr>\n",
       "      <th>cityA08U</th>\n",
       "      <td>0</td>\n",
       "      <td>0</td>\n",
       "      <td>0</td>\n",
       "    </tr>\n",
       "    <tr>\n",
       "      <th>cityCD</th>\n",
       "      <td>0</td>\n",
       "      <td>0</td>\n",
       "      <td>0</td>\n",
       "    </tr>\n",
       "    <tr>\n",
       "      <th>cityE</th>\n",
       "      <td>0</td>\n",
       "      <td>0</td>\n",
       "      <td>0</td>\n",
       "    </tr>\n",
       "    <tr>\n",
       "      <th>cityUF</th>\n",
       "      <td>0</td>\n",
       "      <td>0</td>\n",
       "      <td>0</td>\n",
       "    </tr>\n",
       "    <tr>\n",
       "      <th>co2</th>\n",
       "      <td>-1</td>\n",
       "      <td>-1</td>\n",
       "      <td>-1</td>\n",
       "    </tr>\n",
       "    <tr>\n",
       "      <th>co2A</th>\n",
       "      <td>-1</td>\n",
       "      <td>-1</td>\n",
       "      <td>-1</td>\n",
       "    </tr>\n",
       "    <tr>\n",
       "      <th>co2TailpipeAGpm</th>\n",
       "      <td>0</td>\n",
       "      <td>0</td>\n",
       "      <td>0</td>\n",
       "    </tr>\n",
       "    <tr>\n",
       "      <th>co2TailpipeGpm</th>\n",
       "      <td>423.19</td>\n",
       "      <td>807.909</td>\n",
       "      <td>329.148</td>\n",
       "    </tr>\n",
       "    <tr>\n",
       "      <th>comb08</th>\n",
       "      <td>21</td>\n",
       "      <td>11</td>\n",
       "      <td>27</td>\n",
       "    </tr>\n",
       "    <tr>\n",
       "      <th>comb08U</th>\n",
       "      <td>0</td>\n",
       "      <td>0</td>\n",
       "      <td>0</td>\n",
       "    </tr>\n",
       "    <tr>\n",
       "      <th>combA08</th>\n",
       "      <td>0</td>\n",
       "      <td>0</td>\n",
       "      <td>0</td>\n",
       "    </tr>\n",
       "    <tr>\n",
       "      <th>combA08U</th>\n",
       "      <td>0</td>\n",
       "      <td>0</td>\n",
       "      <td>0</td>\n",
       "    </tr>\n",
       "    <tr>\n",
       "      <th>combE</th>\n",
       "      <td>0</td>\n",
       "      <td>0</td>\n",
       "      <td>0</td>\n",
       "    </tr>\n",
       "    <tr>\n",
       "      <th>combinedCD</th>\n",
       "      <td>0</td>\n",
       "      <td>0</td>\n",
       "      <td>0</td>\n",
       "    </tr>\n",
       "    <tr>\n",
       "      <th>combinedUF</th>\n",
       "      <td>0</td>\n",
       "      <td>0</td>\n",
       "      <td>0</td>\n",
       "    </tr>\n",
       "    <tr>\n",
       "      <th>cylinders</th>\n",
       "      <td>4</td>\n",
       "      <td>12</td>\n",
       "      <td>4</td>\n",
       "    </tr>\n",
       "    <tr>\n",
       "      <th>displ</th>\n",
       "      <td>2</td>\n",
       "      <td>4.9</td>\n",
       "      <td>2.2</td>\n",
       "    </tr>\n",
       "    <tr>\n",
       "      <th>drive</th>\n",
       "      <td>Rear-Wheel Drive</td>\n",
       "      <td>Rear-Wheel Drive</td>\n",
       "      <td>Front-Wheel Drive</td>\n",
       "    </tr>\n",
       "    <tr>\n",
       "      <th>engId</th>\n",
       "      <td>9011</td>\n",
       "      <td>22020</td>\n",
       "      <td>2100</td>\n",
       "    </tr>\n",
       "    <tr>\n",
       "      <th>eng_dscr</th>\n",
       "      <td>(FFS)</td>\n",
       "      <td>(GUZZLER)</td>\n",
       "      <td>(FFS)</td>\n",
       "    </tr>\n",
       "    <tr>\n",
       "      <th>feScore</th>\n",
       "      <td>-1</td>\n",
       "      <td>-1</td>\n",
       "      <td>-1</td>\n",
       "    </tr>\n",
       "    <tr>\n",
       "      <th>fuelCost08</th>\n",
       "      <td>1450</td>\n",
       "      <td>2750</td>\n",
       "      <td>1100</td>\n",
       "    </tr>\n",
       "    <tr>\n",
       "      <th>fuelCostA08</th>\n",
       "      <td>0</td>\n",
       "      <td>0</td>\n",
       "      <td>0</td>\n",
       "    </tr>\n",
       "    <tr>\n",
       "      <th>fuelType</th>\n",
       "      <td>Regular</td>\n",
       "      <td>Regular</td>\n",
       "      <td>Regular</td>\n",
       "    </tr>\n",
       "    <tr>\n",
       "      <th>fuelType1</th>\n",
       "      <td>Regular Gasoline</td>\n",
       "      <td>Regular Gasoline</td>\n",
       "      <td>Regular Gasoline</td>\n",
       "    </tr>\n",
       "    <tr>\n",
       "      <th>ghgScore</th>\n",
       "      <td>-1</td>\n",
       "      <td>-1</td>\n",
       "      <td>-1</td>\n",
       "    </tr>\n",
       "    <tr>\n",
       "      <th>ghgScoreA</th>\n",
       "      <td>-1</td>\n",
       "      <td>-1</td>\n",
       "      <td>-1</td>\n",
       "    </tr>\n",
       "    <tr>\n",
       "      <th>highway08</th>\n",
       "      <td>25</td>\n",
       "      <td>14</td>\n",
       "      <td>33</td>\n",
       "    </tr>\n",
       "    <tr>\n",
       "      <th>highway08U</th>\n",
       "      <td>0</td>\n",
       "      <td>0</td>\n",
       "      <td>0</td>\n",
       "    </tr>\n",
       "    <tr>\n",
       "      <th>highwayA08</th>\n",
       "      <td>0</td>\n",
       "      <td>0</td>\n",
       "      <td>0</td>\n",
       "    </tr>\n",
       "    <tr>\n",
       "      <th>highwayA08U</th>\n",
       "      <td>0</td>\n",
       "      <td>0</td>\n",
       "      <td>0</td>\n",
       "    </tr>\n",
       "    <tr>\n",
       "      <th>highwayCD</th>\n",
       "      <td>0</td>\n",
       "      <td>0</td>\n",
       "      <td>0</td>\n",
       "    </tr>\n",
       "    <tr>\n",
       "      <th>highwayE</th>\n",
       "      <td>0</td>\n",
       "      <td>0</td>\n",
       "      <td>0</td>\n",
       "    </tr>\n",
       "    <tr>\n",
       "      <th>highwayUF</th>\n",
       "      <td>0</td>\n",
       "      <td>0</td>\n",
       "      <td>0</td>\n",
       "    </tr>\n",
       "    <tr>\n",
       "      <th>hlv</th>\n",
       "      <td>0</td>\n",
       "      <td>0</td>\n",
       "      <td>19</td>\n",
       "    </tr>\n",
       "    <tr>\n",
       "      <th>hpv</th>\n",
       "      <td>0</td>\n",
       "      <td>0</td>\n",
       "      <td>77</td>\n",
       "    </tr>\n",
       "    <tr>\n",
       "      <th>id</th>\n",
       "      <td>1</td>\n",
       "      <td>10</td>\n",
       "      <td>100</td>\n",
       "    </tr>\n",
       "    <tr>\n",
       "      <th>lv2</th>\n",
       "      <td>0</td>\n",
       "      <td>0</td>\n",
       "      <td>0</td>\n",
       "    </tr>\n",
       "    <tr>\n",
       "      <th>lv4</th>\n",
       "      <td>0</td>\n",
       "      <td>0</td>\n",
       "      <td>0</td>\n",
       "    </tr>\n",
       "    <tr>\n",
       "      <th>make</th>\n",
       "      <td>Alfa Romeo</td>\n",
       "      <td>Ferrari</td>\n",
       "      <td>Dodge</td>\n",
       "    </tr>\n",
       "    <tr>\n",
       "      <th>model</th>\n",
       "      <td>Spider Veloce 2000</td>\n",
       "      <td>Testarossa</td>\n",
       "      <td>Charger</td>\n",
       "    </tr>\n",
       "    <tr>\n",
       "      <th>mpgData</th>\n",
       "      <td>Y</td>\n",
       "      <td>N</td>\n",
       "      <td>Y</td>\n",
       "    </tr>\n",
       "    <tr>\n",
       "      <th>phevBlended</th>\n",
       "      <td>False</td>\n",
       "      <td>False</td>\n",
       "      <td>False</td>\n",
       "    </tr>\n",
       "    <tr>\n",
       "      <th>pv2</th>\n",
       "      <td>0</td>\n",
       "      <td>0</td>\n",
       "      <td>0</td>\n",
       "    </tr>\n",
       "    <tr>\n",
       "      <th>pv4</th>\n",
       "      <td>0</td>\n",
       "      <td>0</td>\n",
       "      <td>0</td>\n",
       "    </tr>\n",
       "    <tr>\n",
       "      <th>range</th>\n",
       "      <td>0</td>\n",
       "      <td>0</td>\n",
       "      <td>0</td>\n",
       "    </tr>\n",
       "    <tr>\n",
       "      <th>rangeCity</th>\n",
       "      <td>0</td>\n",
       "      <td>0</td>\n",
       "      <td>0</td>\n",
       "    </tr>\n",
       "    <tr>\n",
       "      <th>rangeCityA</th>\n",
       "      <td>0</td>\n",
       "      <td>0</td>\n",
       "      <td>0</td>\n",
       "    </tr>\n",
       "    <tr>\n",
       "      <th>rangeHwy</th>\n",
       "      <td>0</td>\n",
       "      <td>0</td>\n",
       "      <td>0</td>\n",
       "    </tr>\n",
       "    <tr>\n",
       "      <th>rangeHwyA</th>\n",
       "      <td>0</td>\n",
       "      <td>0</td>\n",
       "      <td>0</td>\n",
       "    </tr>\n",
       "    <tr>\n",
       "      <th>trany</th>\n",
       "      <td>Manual 5-spd</td>\n",
       "      <td>Manual 5-spd</td>\n",
       "      <td>Manual 5-spd</td>\n",
       "    </tr>\n",
       "    <tr>\n",
       "      <th>UCity</th>\n",
       "      <td>23.3333</td>\n",
       "      <td>11</td>\n",
       "      <td>29</td>\n",
       "    </tr>\n",
       "    <tr>\n",
       "      <th>UCityA</th>\n",
       "      <td>0</td>\n",
       "      <td>0</td>\n",
       "      <td>0</td>\n",
       "    </tr>\n",
       "    <tr>\n",
       "      <th>UHighway</th>\n",
       "      <td>35</td>\n",
       "      <td>19</td>\n",
       "      <td>47</td>\n",
       "    </tr>\n",
       "    <tr>\n",
       "      <th>UHighwayA</th>\n",
       "      <td>0</td>\n",
       "      <td>0</td>\n",
       "      <td>0</td>\n",
       "    </tr>\n",
       "    <tr>\n",
       "      <th>VClass</th>\n",
       "      <td>Two Seaters</td>\n",
       "      <td>Two Seaters</td>\n",
       "      <td>Subcompact Cars</td>\n",
       "    </tr>\n",
       "    <tr>\n",
       "      <th>year</th>\n",
       "      <td>1985</td>\n",
       "      <td>1985</td>\n",
       "      <td>1985</td>\n",
       "    </tr>\n",
       "    <tr>\n",
       "      <th>youSaveSpend</th>\n",
       "      <td>-1250</td>\n",
       "      <td>-7750</td>\n",
       "      <td>500</td>\n",
       "    </tr>\n",
       "    <tr>\n",
       "      <th>guzzler</th>\n",
       "      <td>missing</td>\n",
       "      <td>T</td>\n",
       "      <td>missing</td>\n",
       "    </tr>\n",
       "    <tr>\n",
       "      <th>trans_dscr</th>\n",
       "      <td>missing</td>\n",
       "      <td>missing</td>\n",
       "      <td>SIL</td>\n",
       "    </tr>\n",
       "    <tr>\n",
       "      <th>tCharger</th>\n",
       "      <td>missing</td>\n",
       "      <td>missing</td>\n",
       "      <td>missing</td>\n",
       "    </tr>\n",
       "    <tr>\n",
       "      <th>sCharger</th>\n",
       "      <td>missing</td>\n",
       "      <td>missing</td>\n",
       "      <td>missing</td>\n",
       "    </tr>\n",
       "    <tr>\n",
       "      <th>atvType</th>\n",
       "      <td>missing</td>\n",
       "      <td>missing</td>\n",
       "      <td>missing</td>\n",
       "    </tr>\n",
       "    <tr>\n",
       "      <th>fuelType2</th>\n",
       "      <td>missing</td>\n",
       "      <td>missing</td>\n",
       "      <td>missing</td>\n",
       "    </tr>\n",
       "    <tr>\n",
       "      <th>rangeA</th>\n",
       "      <td>missing</td>\n",
       "      <td>missing</td>\n",
       "      <td>missing</td>\n",
       "    </tr>\n",
       "    <tr>\n",
       "      <th>evMotor</th>\n",
       "      <td>missing</td>\n",
       "      <td>missing</td>\n",
       "      <td>missing</td>\n",
       "    </tr>\n",
       "    <tr>\n",
       "      <th>mfrCode</th>\n",
       "      <td>missing</td>\n",
       "      <td>missing</td>\n",
       "      <td>missing</td>\n",
       "    </tr>\n",
       "    <tr>\n",
       "      <th>c240Dscr</th>\n",
       "      <td>missing</td>\n",
       "      <td>missing</td>\n",
       "      <td>missing</td>\n",
       "    </tr>\n",
       "    <tr>\n",
       "      <th>charge240b</th>\n",
       "      <td>0</td>\n",
       "      <td>0</td>\n",
       "      <td>0</td>\n",
       "    </tr>\n",
       "    <tr>\n",
       "      <th>c240bDscr</th>\n",
       "      <td>missing</td>\n",
       "      <td>missing</td>\n",
       "      <td>missing</td>\n",
       "    </tr>\n",
       "    <tr>\n",
       "      <th>createdOn</th>\n",
       "      <td>Tue Jan 01 00:00:00 EST 2013</td>\n",
       "      <td>Tue Jan 01 00:00:00 EST 2013</td>\n",
       "      <td>Tue Jan 01 00:00:00 EST 2013</td>\n",
       "    </tr>\n",
       "    <tr>\n",
       "      <th>modifiedOn</th>\n",
       "      <td>Tue Jan 01 00:00:00 EST 2013</td>\n",
       "      <td>Tue Jan 01 00:00:00 EST 2013</td>\n",
       "      <td>Tue Jan 01 00:00:00 EST 2013</td>\n",
       "    </tr>\n",
       "    <tr>\n",
       "      <th>startStop</th>\n",
       "      <td>missing</td>\n",
       "      <td>missing</td>\n",
       "      <td>missing</td>\n",
       "    </tr>\n",
       "    <tr>\n",
       "      <th>phevCity</th>\n",
       "      <td>0</td>\n",
       "      <td>0</td>\n",
       "      <td>0</td>\n",
       "    </tr>\n",
       "    <tr>\n",
       "      <th>phevHwy</th>\n",
       "      <td>0</td>\n",
       "      <td>0</td>\n",
       "      <td>0</td>\n",
       "    </tr>\n",
       "    <tr>\n",
       "      <th>phevComb</th>\n",
       "      <td>0</td>\n",
       "      <td>0</td>\n",
       "      <td>0</td>\n",
       "    </tr>\n",
       "  </tbody>\n",
       "</table>\n",
       "</div>"
      ],
      "text/plain": [
       "                                            0                             1  \\\n",
       "barrels08                             15.6894                       29.9506   \n",
       "barrelsA08                                  0                             0   \n",
       "charge120                                   0                             0   \n",
       "charge240                                   0                             0   \n",
       "city08                                     19                             9   \n",
       "city08U                                     0                             0   \n",
       "cityA08                                     0                             0   \n",
       "cityA08U                                    0                             0   \n",
       "cityCD                                      0                             0   \n",
       "cityE                                       0                             0   \n",
       "cityUF                                      0                             0   \n",
       "co2                                        -1                            -1   \n",
       "co2A                                       -1                            -1   \n",
       "co2TailpipeAGpm                             0                             0   \n",
       "co2TailpipeGpm                         423.19                       807.909   \n",
       "comb08                                     21                            11   \n",
       "comb08U                                     0                             0   \n",
       "combA08                                     0                             0   \n",
       "combA08U                                    0                             0   \n",
       "combE                                       0                             0   \n",
       "combinedCD                                  0                             0   \n",
       "combinedUF                                  0                             0   \n",
       "cylinders                                   4                            12   \n",
       "displ                                       2                           4.9   \n",
       "drive                        Rear-Wheel Drive              Rear-Wheel Drive   \n",
       "engId                                    9011                         22020   \n",
       "eng_dscr                                (FFS)                     (GUZZLER)   \n",
       "feScore                                    -1                            -1   \n",
       "fuelCost08                               1450                          2750   \n",
       "fuelCostA08                                 0                             0   \n",
       "fuelType                              Regular                       Regular   \n",
       "fuelType1                    Regular Gasoline              Regular Gasoline   \n",
       "ghgScore                                   -1                            -1   \n",
       "ghgScoreA                                  -1                            -1   \n",
       "highway08                                  25                            14   \n",
       "highway08U                                  0                             0   \n",
       "highwayA08                                  0                             0   \n",
       "highwayA08U                                 0                             0   \n",
       "highwayCD                                   0                             0   \n",
       "highwayE                                    0                             0   \n",
       "highwayUF                                   0                             0   \n",
       "hlv                                         0                             0   \n",
       "hpv                                         0                             0   \n",
       "id                                          1                            10   \n",
       "lv2                                         0                             0   \n",
       "lv4                                         0                             0   \n",
       "make                               Alfa Romeo                       Ferrari   \n",
       "model                      Spider Veloce 2000                    Testarossa   \n",
       "mpgData                                     Y                             N   \n",
       "phevBlended                             False                         False   \n",
       "pv2                                         0                             0   \n",
       "pv4                                         0                             0   \n",
       "range                                       0                             0   \n",
       "rangeCity                                   0                             0   \n",
       "rangeCityA                                  0                             0   \n",
       "rangeHwy                                    0                             0   \n",
       "rangeHwyA                                   0                             0   \n",
       "trany                            Manual 5-spd                  Manual 5-spd   \n",
       "UCity                                 23.3333                            11   \n",
       "UCityA                                      0                             0   \n",
       "UHighway                                   35                            19   \n",
       "UHighwayA                                   0                             0   \n",
       "VClass                            Two Seaters                   Two Seaters   \n",
       "year                                     1985                          1985   \n",
       "youSaveSpend                            -1250                         -7750   \n",
       "guzzler                               missing                             T   \n",
       "trans_dscr                            missing                       missing   \n",
       "tCharger                              missing                       missing   \n",
       "sCharger                              missing                       missing   \n",
       "atvType                               missing                       missing   \n",
       "fuelType2                             missing                       missing   \n",
       "rangeA                                missing                       missing   \n",
       "evMotor                               missing                       missing   \n",
       "mfrCode                               missing                       missing   \n",
       "c240Dscr                              missing                       missing   \n",
       "charge240b                                  0                             0   \n",
       "c240bDscr                             missing                       missing   \n",
       "createdOn        Tue Jan 01 00:00:00 EST 2013  Tue Jan 01 00:00:00 EST 2013   \n",
       "modifiedOn       Tue Jan 01 00:00:00 EST 2013  Tue Jan 01 00:00:00 EST 2013   \n",
       "startStop                             missing                       missing   \n",
       "phevCity                                    0                             0   \n",
       "phevHwy                                     0                             0   \n",
       "phevComb                                    0                             0   \n",
       "\n",
       "                                            2  \n",
       "barrels08                             12.1956  \n",
       "barrelsA08                                  0  \n",
       "charge120                                   0  \n",
       "charge240                                   0  \n",
       "city08                                     23  \n",
       "city08U                                     0  \n",
       "cityA08                                     0  \n",
       "cityA08U                                    0  \n",
       "cityCD                                      0  \n",
       "cityE                                       0  \n",
       "cityUF                                      0  \n",
       "co2                                        -1  \n",
       "co2A                                       -1  \n",
       "co2TailpipeAGpm                             0  \n",
       "co2TailpipeGpm                        329.148  \n",
       "comb08                                     27  \n",
       "comb08U                                     0  \n",
       "combA08                                     0  \n",
       "combA08U                                    0  \n",
       "combE                                       0  \n",
       "combinedCD                                  0  \n",
       "combinedUF                                  0  \n",
       "cylinders                                   4  \n",
       "displ                                     2.2  \n",
       "drive                       Front-Wheel Drive  \n",
       "engId                                    2100  \n",
       "eng_dscr                                (FFS)  \n",
       "feScore                                    -1  \n",
       "fuelCost08                               1100  \n",
       "fuelCostA08                                 0  \n",
       "fuelType                              Regular  \n",
       "fuelType1                    Regular Gasoline  \n",
       "ghgScore                                   -1  \n",
       "ghgScoreA                                  -1  \n",
       "highway08                                  33  \n",
       "highway08U                                  0  \n",
       "highwayA08                                  0  \n",
       "highwayA08U                                 0  \n",
       "highwayCD                                   0  \n",
       "highwayE                                    0  \n",
       "highwayUF                                   0  \n",
       "hlv                                        19  \n",
       "hpv                                        77  \n",
       "id                                        100  \n",
       "lv2                                         0  \n",
       "lv4                                         0  \n",
       "make                                    Dodge  \n",
       "model                                 Charger  \n",
       "mpgData                                     Y  \n",
       "phevBlended                             False  \n",
       "pv2                                         0  \n",
       "pv4                                         0  \n",
       "range                                       0  \n",
       "rangeCity                                   0  \n",
       "rangeCityA                                  0  \n",
       "rangeHwy                                    0  \n",
       "rangeHwyA                                   0  \n",
       "trany                            Manual 5-spd  \n",
       "UCity                                      29  \n",
       "UCityA                                      0  \n",
       "UHighway                                   47  \n",
       "UHighwayA                                   0  \n",
       "VClass                        Subcompact Cars  \n",
       "year                                     1985  \n",
       "youSaveSpend                              500  \n",
       "guzzler                               missing  \n",
       "trans_dscr                                SIL  \n",
       "tCharger                              missing  \n",
       "sCharger                              missing  \n",
       "atvType                               missing  \n",
       "fuelType2                             missing  \n",
       "rangeA                                missing  \n",
       "evMotor                               missing  \n",
       "mfrCode                               missing  \n",
       "c240Dscr                              missing  \n",
       "charge240b                                  0  \n",
       "c240bDscr                             missing  \n",
       "createdOn        Tue Jan 01 00:00:00 EST 2013  \n",
       "modifiedOn       Tue Jan 01 00:00:00 EST 2013  \n",
       "startStop                             missing  \n",
       "phevCity                                    0  \n",
       "phevHwy                                     0  \n",
       "phevComb                                    0  "
      ]
     },
     "execution_count": 8,
     "metadata": {},
     "output_type": "execute_result"
    }
   ],
   "source": [
    "vehicles.head(3).transpose()"
   ]
  },
  {
   "cell_type": "markdown",
   "metadata": {},
   "source": [
    "#### Let's say you are wondering how the overall combined fuel economy (highway + city) has improved with each successive model year of gasoline-based automobiles, how would you find out?"
   ]
  },
  {
   "cell_type": "markdown",
   "metadata": {},
   "source": [
    "Looking at the data [metadata](http://www.fueleconomy.gov/feg/ws/index.shtml#vehicle), looks like I need to filter based off of \"fuelType\", \"fuelType1\", \"fuelType2\", and \"atvType\"."
   ]
  },
  {
   "cell_type": "markdown",
   "metadata": {},
   "source": [
    "**Looks like we can't filter using \"fuelType\" since there are categories like \"Gasoline and natural gas\" which we don't want if we're just looking for gas only vehicles.**"
   ]
  },
  {
   "cell_type": "code",
   "execution_count": 9,
   "metadata": {
    "collapsed": false,
    "run_control": {
     "read_only": false
    }
   },
   "outputs": [
    {
     "data": {
      "text/plain": [
       "Regular                        24718\n",
       "Premium                         9598\n",
       "Gasoline or E85                 1166\n",
       "Diesel                          1097\n",
       "Premium or E85                   116\n",
       "Electricity                      107\n",
       "Midgrade                          64\n",
       "CNG                               60\n",
       "Gasoline or natural gas           20\n",
       "Premium Gas or Electricity        16\n",
       "Premium and Electricity           15\n",
       "Regular Gas and Electricity       14\n",
       "Gasoline or propane                8\n",
       "Regular Gas or Electricity         2\n",
       "Name: fuelType, dtype: int64"
      ]
     },
     "execution_count": 9,
     "metadata": {},
     "output_type": "execute_result"
    }
   ],
   "source": [
    "vehicles.fuelType.value_counts()"
   ]
  },
  {
   "cell_type": "markdown",
   "metadata": {},
   "source": [
    "**Looks like we can use \"fuelType1\" as the primary column to filter with**"
   ]
  },
  {
   "cell_type": "code",
   "execution_count": 10,
   "metadata": {
    "collapsed": false,
    "run_control": {
     "read_only": false
    }
   },
   "outputs": [
    {
     "data": {
      "text/plain": [
       "Regular Gasoline     25928\n",
       "Premium Gasoline      9745\n",
       "Diesel                1097\n",
       "Electricity            107\n",
       "Midgrade Gasoline       64\n",
       "Natural Gas             60\n",
       "Name: fuelType1, dtype: int64"
      ]
     },
     "execution_count": 10,
     "metadata": {},
     "output_type": "execute_result"
    }
   ],
   "source": [
    "vehicles.fuelType1.value_counts()"
   ]
  },
  {
   "cell_type": "code",
   "execution_count": 11,
   "metadata": {
    "collapsed": false,
    "run_control": {
     "read_only": false
    }
   },
   "outputs": [
    {
     "data": {
      "text/plain": [
       "missing        35644\n",
       "E85             1282\n",
       "Electricity       47\n",
       "Natural Gas       20\n",
       "Propane            8\n",
       "Name: fuelType2, dtype: int64"
      ]
     },
     "execution_count": 11,
     "metadata": {},
     "output_type": "execute_result"
    }
   ],
   "source": [
    "vehicles.fuelType2.value_counts()"
   ]
  },
  {
   "cell_type": "code",
   "execution_count": 12,
   "metadata": {
    "collapsed": false,
    "run_control": {
     "read_only": false
    }
   },
   "outputs": [
    {
     "data": {
      "text/plain": [
       "missing           34025\n",
       "FFV                1282\n",
       "Diesel             1025\n",
       "Hybrid              437\n",
       "EV                  107\n",
       "CNG                  50\n",
       "Plug-in Hybrid       47\n",
       "Bifuel (CNG)         20\n",
       "Bifuel (LPG)          8\n",
       "Name: atvType, dtype: int64"
      ]
     },
     "execution_count": 12,
     "metadata": {},
     "output_type": "execute_result"
    }
   ],
   "source": [
    "vehicles.atvType.value_counts()"
   ]
  },
  {
   "cell_type": "code",
   "execution_count": 13,
   "metadata": {
    "collapsed": false,
    "run_control": {
     "read_only": false
    }
   },
   "outputs": [
    {
     "data": {
      "text/plain": [
       "4.0        14117\n",
       "6.0        12928\n",
       "8.0         8128\n",
       "5.0          766\n",
       "12.0         539\n",
       "3.0          203\n",
       "10.0         148\n",
       "missing      110\n",
       "2.0           54\n",
       "16.0           8\n",
       "Name: cylinders, dtype: int64"
      ]
     },
     "execution_count": 13,
     "metadata": {},
     "output_type": "execute_result"
    }
   ],
   "source": [
    "vehicles.cylinders.value_counts()"
   ]
  },
  {
   "cell_type": "markdown",
   "metadata": {},
   "source": [
    "### Our first attempt to filter our data to just gasoline powered vehicles"
   ]
  },
  {
   "cell_type": "code",
   "execution_count": 14,
   "metadata": {
    "collapsed": false,
    "run_control": {
     "read_only": false
    }
   },
   "outputs": [],
   "source": [
    "# Ensure automobile only takes gasoline as fuel\n",
    "criteria1 = vehicles.fuelType1.isin(['Regular Gasoline','Premium Gasoline','Midgrade Gasoline'])\n",
    "\n",
    "# Ensure it doesn't have a secondary fuel source\n",
    "criteria2 = vehicles.fuelType2 == 'missing'\n",
    "\n",
    "# I noticed after applying criteria 1 and 2, there were hybrids in my list under the atvType column\n",
    "# So I want to ensure hybrids are excluded as well\n",
    "criteria3 = vehicles.atvType == 'missing'\n",
    "\n",
    "criteria4 = vehicles.cylinders == 4\n",
    "\n",
    "criteria5 = vehicles.cylinders == 6\n",
    "\n",
    "criteria6 = vehicles.year == 2017"
   ]
  },
  {
   "cell_type": "markdown",
   "metadata": {},
   "source": [
    "#### Filtering METHOD 1: Using pandas old style filtering:"
   ]
  },
  {
   "cell_type": "code",
   "execution_count": 15,
   "metadata": {
    "collapsed": false,
    "run_control": {
     "read_only": false
    }
   },
   "outputs": [],
   "source": [
    "mainstream_vehicles = vehicles[criteria1 & criteria2 & criteria3 & (criteria4 |  criteria5) & ~criteria6]"
   ]
  },
  {
   "cell_type": "code",
   "execution_count": 16,
   "metadata": {
    "collapsed": false
   },
   "outputs": [
    {
     "data": {
      "text/plain": [
       "25456"
      ]
     },
     "execution_count": 16,
     "metadata": {},
     "output_type": "execute_result"
    }
   ],
   "source": [
    "len(mainstream_vehicles)"
   ]
  },
  {
   "cell_type": "markdown",
   "metadata": {},
   "source": [
    "#### Filtering METHOD 2: Using pandas newer query() method"
   ]
  },
  {
   "cell_type": "code",
   "execution_count": 17,
   "metadata": {
    "collapsed": false
   },
   "outputs": [],
   "source": [
    "query = \"fuelType1 in('Regular Gasoline','Premium Gasoline','Midgrade Gasoline') \\\n",
    "         & fuelType2 == 'missing' \\\n",
    "         & atvType == 'missing' \\\n",
    "         & cylinders in(4,6) \\\n",
    "         & ~(year == 2017)\"\n",
    "\n",
    "mainstream_vehicles = vehicles.query(query)"
   ]
  },
  {
   "cell_type": "code",
   "execution_count": 18,
   "metadata": {
    "collapsed": false
   },
   "outputs": [
    {
     "data": {
      "text/plain": [
       "25456"
      ]
     },
     "execution_count": 18,
     "metadata": {},
     "output_type": "execute_result"
    }
   ],
   "source": [
    "len(mainstream_vehicles)"
   ]
  },
  {
   "cell_type": "markdown",
   "metadata": {},
   "source": [
    "#### Filtering METHOD 2 (non-pandas): Using [pandasql](https://github.com/yhat/pandasql/) from Yhat for more SQL-like filtering"
   ]
  },
  {
   "cell_type": "code",
   "execution_count": 19,
   "metadata": {
    "collapsed": true
   },
   "outputs": [],
   "source": [
    "from pandasql import PandaSQL\n",
    "\n",
    "pdsql = PandaSQL()"
   ]
  },
  {
   "cell_type": "code",
   "execution_count": 20,
   "metadata": {
    "collapsed": true
   },
   "outputs": [],
   "source": [
    "sql = \"\"\"\n",
    "select *\n",
    "\n",
    "from vehicles\n",
    "\n",
    "where\n",
    "fuelType1 in('Regular Gasoline','Premium Gasoline','Midgrade Gasoline')\n",
    "and fuelType2 = 'missing'\n",
    "and atvType = 'missing'\n",
    "and cylinders in(4.0,6.0)\n",
    "and not(year = 2017)\n",
    "\"\"\"\n",
    "# caveat: had to use foat representation of cylinders\n",
    "\n",
    "mainstream_vehicles = pdsql(sql)"
   ]
  },
  {
   "cell_type": "code",
   "execution_count": 21,
   "metadata": {
    "collapsed": false
   },
   "outputs": [
    {
     "data": {
      "text/plain": [
       "25456"
      ]
     },
     "execution_count": 21,
     "metadata": {},
     "output_type": "execute_result"
    }
   ],
   "source": [
    "len(mainstream_vehicles)"
   ]
  },
  {
   "cell_type": "markdown",
   "metadata": {},
   "source": [
    "**Let's double-check that we have indeed limited the data to 4 and 6 cylinders**"
   ]
  },
  {
   "cell_type": "code",
   "execution_count": 22,
   "metadata": {
    "collapsed": false,
    "run_control": {
     "read_only": false
    }
   },
   "outputs": [
    {
     "data": {
      "text/plain": [
       "4.0    13261\n",
       "6.0    12195\n",
       "Name: cylinders, dtype: int64"
      ]
     },
     "execution_count": 22,
     "metadata": {},
     "output_type": "execute_result"
    }
   ],
   "source": [
    "mainstream_vehicles.cylinders.value_counts()"
   ]
  },
  {
   "cell_type": "markdown",
   "metadata": {},
   "source": [
    "### Let's double-check that we don't have non-gasoline models in our data set"
   ]
  },
  {
   "cell_type": "markdown",
   "metadata": {},
   "source": [
    "Since I am mostly familiar with Hondas, let's filter our data to just Honda vehicles"
   ]
  },
  {
   "cell_type": "code",
   "execution_count": 23,
   "metadata": {
    "collapsed": false,
    "run_control": {
     "read_only": false
    }
   },
   "outputs": [
    {
     "data": {
      "text/plain": [
       "Civic                   151\n",
       "Accord                  141\n",
       "Prelude                  70\n",
       "Odyssey                  31\n",
       "CR-V 4WD                 30\n",
       "Civic CRX                29\n",
       "Fit                      27\n",
       "Passport 2WD             22\n",
       "CR-V 2WD                 21\n",
       "Civic Wagon              21\n",
       "Accord Wagon             20\n",
       "Accord Coupe             20\n",
       "Passport 4WD             18\n",
       "Element 4WD              18\n",
       "Element 2WD              17\n",
       "Pilot 4WD                15\n",
       "Civic Del Sol            14\n",
       "Civic CRX HF             14\n",
       "Civic HX                 12\n",
       "Pilot 2WD                12\n",
       "Civic Wagon 4WD          10\n",
       "Del Sol                  10\n",
       "S2000                    10\n",
       "Ridgeline Truck 4WD       9\n",
       "Civic HB VX               8\n",
       "Crosstour 2WD             8\n",
       "Civic HF                  4\n",
       "Crosstour 4WD             4\n",
       "Civic 2Dr                 3\n",
       "Civic 4Dr                 3\n",
       "HR-V 2WD                  3\n",
       "HR-V 4WD                  2\n",
       "Accord Crosstour 4WD      2\n",
       "Accord Crosstour 2WD      2\n",
       "Name: model, dtype: int64"
      ]
     },
     "execution_count": 23,
     "metadata": {},
     "output_type": "execute_result"
    }
   ],
   "source": [
    "only_honda = mainstream_vehicles['make']=='Honda'\n",
    "\n",
    "# Apply the criteria\n",
    "honda = mainstream_vehicles[only_honda]\n",
    "honda.model.value_counts()"
   ]
  },
  {
   "cell_type": "markdown",
   "metadata": {},
   "source": [
    "**Looks good to me.  I don't see the Insight or other hybrid models in the list.**"
   ]
  },
  {
   "cell_type": "markdown",
   "metadata": {},
   "source": [
    "### OK, so let's chart the average overall combined MPG from all makes and models"
   ]
  },
  {
   "cell_type": "code",
   "execution_count": 24,
   "metadata": {
    "collapsed": false,
    "run_control": {
     "read_only": false
    }
   },
   "outputs": [
    {
     "data": {
      "image/png": "[encoded data removed]",
      "text/plain": [
       "<matplotlib.figure.Figure at 0x7f4ab4d22a20>"
      ]
     },
     "metadata": {},
     "output_type": "display_data"
    }
   ],
   "source": [
    "# Group the data by model year\n",
    "by_year = mainstream_vehicles.pivot_table(values='comb08', index='year', aggfunc=np.mean)\n",
    "by_year.plot()\n",
    "plt.title('Combined Overall MPG for Mainstream Conventional Models')\n",
    "plt.show()"
   ]
  },
  {
   "cell_type": "markdown",
   "metadata": {},
   "source": [
    "**If you're wondering why the decline in fuel economy starting around mid-90s, more weight was subsequently added to the vehicles as more safety features were added (additional airbags, reinforced metals in frames and doors).  Also, during this time, is the introduction of more SUVs and minivans.  Sadly, the data set does not include vehicle weight which would have been nice to compare MPG on a per unit of weight basis.**"
   ]
  },
  {
   "cell_type": "markdown",
   "metadata": {},
   "source": [
    "## Let's compare combined (city + hwy) average overall mpg of gasonline-based Honda vs Toyota"
   ]
  },
  {
   "cell_type": "code",
   "execution_count": 25,
   "metadata": {
    "collapsed": false,
    "run_control": {
     "read_only": false
    }
   },
   "outputs": [],
   "source": [
    "criteria = mainstream_vehicles.make.isin(['Honda','Toyota'])\n",
    "honda_toyota_vehicle_non_hybrid = mainstream_vehicles[criteria]"
   ]
  },
  {
   "cell_type": "code",
   "execution_count": 26,
   "metadata": {
    "collapsed": false,
    "run_control": {
     "read_only": false
    }
   },
   "outputs": [],
   "source": [
    "# I'll perform a pandas pivot table on model year versus make\n",
    "honda_toyota_average = honda_toyota_vehicle_non_hybrid.pivot_table('comb08', index='year',\n",
    "    columns='make', aggfunc='mean')"
   ]
  },
  {
   "cell_type": "markdown",
   "metadata": {},
   "source": [
    "### Let's view just the first 5 rows of data"
   ]
  },
  {
   "cell_type": "code",
   "execution_count": 27,
   "metadata": {
    "collapsed": false,
    "run_control": {
     "read_only": false
    }
   },
   "outputs": [
    {
     "data": {
      "text/html": [
       "<div>\n",
       "<table border=\"1\" class=\"dataframe\">\n",
       "  <thead>\n",
       "    <tr style=\"text-align: right;\">\n",
       "      <th>make</th>\n",
       "      <th>Honda</th>\n",
       "      <th>Toyota</th>\n",
       "    </tr>\n",
       "    <tr>\n",
       "      <th>year</th>\n",
       "      <th></th>\n",
       "      <th></th>\n",
       "    </tr>\n",
       "  </thead>\n",
       "  <tbody>\n",
       "    <tr>\n",
       "      <th>1984</th>\n",
       "      <td>28.083333</td>\n",
       "      <td>23.044118</td>\n",
       "    </tr>\n",
       "    <tr>\n",
       "      <th>1985</th>\n",
       "      <td>26.906250</td>\n",
       "      <td>22.925926</td>\n",
       "    </tr>\n",
       "    <tr>\n",
       "      <th>1986</th>\n",
       "      <td>27.650000</td>\n",
       "      <td>21.660714</td>\n",
       "    </tr>\n",
       "    <tr>\n",
       "      <th>1987</th>\n",
       "      <td>27.750000</td>\n",
       "      <td>21.875000</td>\n",
       "    </tr>\n",
       "    <tr>\n",
       "      <th>1988</th>\n",
       "      <td>27.791667</td>\n",
       "      <td>21.422535</td>\n",
       "    </tr>\n",
       "  </tbody>\n",
       "</table>\n",
       "</div>"
      ],
      "text/plain": [
       "make      Honda     Toyota\n",
       "year                      \n",
       "1984  28.083333  23.044118\n",
       "1985  26.906250  22.925926\n",
       "1986  27.650000  21.660714\n",
       "1987  27.750000  21.875000\n",
       "1988  27.791667  21.422535"
      ]
     },
     "execution_count": 27,
     "metadata": {},
     "output_type": "execute_result"
    }
   ],
   "source": [
    "honda_toyota_average.head()"
   ]
  },
  {
   "cell_type": "markdown",
   "metadata": {},
   "source": [
    "### Now, let's plot this data!"
   ]
  },
  {
   "cell_type": "code",
   "execution_count": 28,
   "metadata": {
    "collapsed": false,
    "run_control": {
     "read_only": false
    }
   },
   "outputs": [
    {
     "data": {
      "image/png": "[encoded data removed]",
      "text/plain": [
       "<matplotlib.figure.Figure at 0x7f4ab9608208>"
      ]
     },
     "metadata": {},
     "output_type": "display_data"
    }
   ],
   "source": [
    "honda_toyota_average.plot()\n",
    "plt.title(\"Overall Average Combined MPG\\nHonda vs Toyota by Model Year\", weight='bold')\n",
    "plt.show()"
   ]
  },
  {
   "cell_type": "markdown",
   "metadata": {},
   "source": [
    "**Looks like Toyota has lagged behind Honda for most of the years.  But I wonder if it is because Toyota has so many large trucks.  Also too bad the data source does not have vehicle weight.**"
   ]
  },
  {
   "cell_type": "markdown",
   "metadata": {},
   "source": [
    "### So to make things fair, let's limit our Honda/Toyota data to just smaller vehicles, SUVs, and minivans:"
   ]
  },
  {
   "cell_type": "markdown",
   "metadata": {},
   "source": [
    "- Compact Cars\n",
    "- Subcompact Cars\n",
    "- Midsize Cars\n",
    "- Large Cars\n",
    "- Sport Utility Vehicle - 4WD\n",
    "- Sport Utility Vehicle - 2WD\n",
    "- Minivan - 2WD\n",
    "- Minivan - 4WD"
   ]
  },
  {
   "cell_type": "markdown",
   "metadata": {},
   "source": [
    "Looking at the [metadata](http://www.fueleconomy.gov/feg/ws/index.shtml#vehicle) again, we can filter by vehicle class using the VClass column."
   ]
  },
  {
   "cell_type": "code",
   "execution_count": 29,
   "metadata": {
    "collapsed": false,
    "run_control": {
     "read_only": false
    }
   },
   "outputs": [
    {
     "data": {
      "text/plain": [
       "Subcompact Cars                       465\n",
       "Compact Cars                          294\n",
       "Small Station Wagons                  191\n",
       "Midsize Cars                          178\n",
       "Sport Utility Vehicle - 4WD           157\n",
       "Sport Utility Vehicle - 2WD           140\n",
       "Standard Pickup Trucks                127\n",
       "Two Seaters                           114\n",
       "Special Purpose Vehicles              107\n",
       "Standard Pickup Trucks 2WD             81\n",
       "Minicompact Cars                       72\n",
       "Standard Pickup Trucks 4WD             62\n",
       "Small Pickup Trucks                    54\n",
       "Vans                                   54\n",
       "Minivan - 2WD                          48\n",
       "Small Pickup Trucks 2WD                40\n",
       "Small Sport Utility Vehicle 2WD        40\n",
       "Small Pickup Trucks 4WD                34\n",
       "Large Cars                             33\n",
       "Small Sport Utility Vehicle 4WD        32\n",
       "Special Purpose Vehicle 2WD            25\n",
       "Special Purpose Vehicle 4WD            18\n",
       "Midsize-Large Station Wagons           16\n",
       "Minivan - 4WD                          13\n",
       "Standard Sport Utility Vehicle 4WD     12\n",
       "Standard Sport Utility Vehicle 2WD      4\n",
       "Vans, Cargo Type                        4\n",
       "Vans, Passenger Type                    4\n",
       "Midsize Station Wagons                  1\n",
       "Name: VClass, dtype: int64"
      ]
     },
     "execution_count": 29,
     "metadata": {},
     "output_type": "execute_result"
    }
   ],
   "source": [
    "honda_toyota_vehicle_non_hybrid.VClass.value_counts()"
   ]
  },
  {
   "cell_type": "code",
   "execution_count": 30,
   "metadata": {
    "collapsed": false,
    "run_control": {
     "read_only": false
    }
   },
   "outputs": [],
   "source": [
    "criteria = honda_toyota_vehicle_non_hybrid.VClass.str.contains('Compact Cars|Subcompact Cars|Midsize Cars|Large Cars|Sport Utility|Minivan')\n",
    "\n",
    "honda_toyota_mainstream = honda_toyota_vehicle_non_hybrid[criteria]\n",
    "\n",
    "honda_toyota_mainstream_avg = honda_toyota_mainstream.pivot_table('comb08', index='year',\n",
    "    columns='make', aggfunc='mean')"
   ]
  },
  {
   "cell_type": "markdown",
   "metadata": {},
   "source": [
    "### Before we plot the data, let's make sure we got the data we expect"
   ]
  },
  {
   "cell_type": "code",
   "execution_count": 31,
   "metadata": {
    "collapsed": false,
    "run_control": {
     "read_only": false
    }
   },
   "outputs": [
    {
     "data": {
      "text/plain": [
       "Subcompact Cars                       465\n",
       "Compact Cars                          294\n",
       "Midsize Cars                          178\n",
       "Sport Utility Vehicle - 4WD           157\n",
       "Sport Utility Vehicle - 2WD           140\n",
       "Minivan - 2WD                          48\n",
       "Small Sport Utility Vehicle 2WD        40\n",
       "Large Cars                             33\n",
       "Small Sport Utility Vehicle 4WD        32\n",
       "Minivan - 4WD                          13\n",
       "Standard Sport Utility Vehicle 4WD     12\n",
       "Standard Sport Utility Vehicle 2WD      4\n",
       "Name: VClass, dtype: int64"
      ]
     },
     "execution_count": 31,
     "metadata": {},
     "output_type": "execute_result"
    }
   ],
   "source": [
    "honda_toyota_mainstream.VClass.value_counts()"
   ]
  },
  {
   "cell_type": "markdown",
   "metadata": {},
   "source": [
    "### Looks to be ok, so let's plot the data"
   ]
  },
  {
   "cell_type": "code",
   "execution_count": 32,
   "metadata": {
    "collapsed": false,
    "run_control": {
     "read_only": false
    }
   },
   "outputs": [
    {
     "data": {
      "image/png": "[encoded data removed]",
      "text/plain": [
       "<matplotlib.figure.Figure at 0x7f4ab8f10ba8>"
      ]
     },
     "metadata": {},
     "output_type": "display_data"
    }
   ],
   "source": [
    "honda_toyota_mainstream_avg.plot()\n",
    "plt.title(\"Overall Average MPG of Honda vs Toyota\\nMainsteam Cars excl Trucks\", weight='bold')\n",
    "plt.legend(loc='best')\n",
    "plt.show()"
   ]
  },
  {
   "cell_type": "markdown",
   "metadata": {},
   "source": [
    "### Even though we limited our data to just smaller cars, SUVs, and minivans, for most model years, Honda vehicles are still more fuel efficient than Toyota vehicles.  2017 data should be disregarded since it is incomplete data at the time this data was run."
   ]
  },
  {
   "cell_type": "markdown",
   "metadata": {},
   "source": [
    "### Simple Linear Regression Example"
   ]
  },
  {
   "cell_type": "markdown",
   "metadata": {},
   "source": [
    "Based on our intuition, it would make sense that the combined MPG would negatively correlate to engine cylinder displacement."
   ]
  },
  {
   "cell_type": "code",
   "execution_count": 56,
   "metadata": {
    "collapsed": true
   },
   "outputs": [],
   "source": [
    "sql = \"\"\"\n",
    "select\n",
    "comb08,\n",
    "displ\n",
    "\n",
    "from mainstream_vehicles\n",
    "\n",
    "\"\"\"\n",
    "\n",
    "df = pdsql(sql)"
   ]
  },
  {
   "cell_type": "code",
   "execution_count": 35,
   "metadata": {
    "collapsed": false
   },
   "outputs": [],
   "source": [
    "import seaborn as sns"
   ]
  },
  {
   "cell_type": "code",
   "execution_count": 58,
   "metadata": {
    "collapsed": false
   },
   "outputs": [],
   "source": [
    "df.displ = df.displ.astype(float)"
   ]
  },
  {
   "cell_type": "code",
   "execution_count": 53,
   "metadata": {
    "collapsed": false
   },
   "outputs": [
    {
     "data": {
      "text/plain": [
       "<seaborn.axisgrid.PairGrid at 0x7f4ab8e6fa90>"
      ]
     },
     "execution_count": 53,
     "metadata": {},
     "output_type": "execute_result"
    },
    {
     "data": {
      "image/png": "[encoded data removed]",
      "text/plain": [
       "<matplotlib.figure.Figure at 0x7f4ab91622e8>"
      ]
     },
     "metadata": {},
     "output_type": "display_data"
    }
   ],
   "source": [
    "sns.pairplot(df, kind='reg')"
   ]
  },
  {
   "cell_type": "code",
   "execution_count": 55,
   "metadata": {
    "collapsed": false
   },
   "outputs": [
    {
     "data": {
      "text/html": [
       "<div>\n",
       "<table border=\"1\" class=\"dataframe\">\n",
       "  <thead>\n",
       "    <tr style=\"text-align: right;\">\n",
       "      <th></th>\n",
       "      <th>comb08</th>\n",
       "      <th>displ</th>\n",
       "    </tr>\n",
       "  </thead>\n",
       "  <tbody>\n",
       "    <tr>\n",
       "      <th>comb08</th>\n",
       "      <td>1.00000</td>\n",
       "      <td>-0.72773</td>\n",
       "    </tr>\n",
       "    <tr>\n",
       "      <th>displ</th>\n",
       "      <td>-0.72773</td>\n",
       "      <td>1.00000</td>\n",
       "    </tr>\n",
       "  </tbody>\n",
       "</table>\n",
       "</div>"
      ],
      "text/plain": [
       "         comb08    displ\n",
       "comb08  1.00000 -0.72773\n",
       "displ  -0.72773  1.00000"
      ]
     },
     "execution_count": 55,
     "metadata": {},
     "output_type": "execute_result"
    }
   ],
   "source": [
    "df.corr()"
   ]
  }
 ],
 "metadata": {
  "hide_input": false,
  "kernelspec": {
   "display_name": "Python 3",
   "language": "python",
   "name": "python3"
  },
  "language_info": {
   "codemirror_mode": {
    "name": "ipython",
    "version": 3
   },
   "file_extension": ".py",
   "mimetype": "text/x-python",
   "name": "python",
   "nbconvert_exporter": "python",
   "pygments_lexer": "ipython3",
   "version": "3.5.1"
  }
 },
 "nbformat": 4,
 "nbformat_minor": 0
}
