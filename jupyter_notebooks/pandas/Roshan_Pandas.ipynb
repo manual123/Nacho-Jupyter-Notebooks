{
 "metadata": {
  "name": "",
  "signature": "sha256:70ccda0f1b2566f84d3e72be919a30bf72241f1bdc3a696822a3894649cb1f78"
 },
 "nbformat": 3,
 "nbformat_minor": 0,
 "worksheets": [
  {
   "cells": [
    {
     "cell_type": "heading",
     "level": 1,
     "metadata": {},
     "source": [
      "Tutorial Brief"
     ]
    },
    {
     "cell_type": "markdown",
     "metadata": {},
     "source": [
      "Pandas is powerful and easy-to-use library for data analysis. Is has two main object to represents data: Series and DataFrame.\n",
      "\n",
      "Finding Help:\n",
      "\n",
      "- http://pandas.pydata.org/pandas-docs/stable/10min.html\n",
      "- http://pandas.pydata.org/pandas-docs/stable/tutorials.html"
     ]
    },
    {
     "cell_type": "markdown",
     "metadata": {},
     "source": [
      "<table>\n",
      "<tr>\n",
      "    <td><img src=\"http://www.scipy.org/_static/images/numpylogo_med.png\"  style=\"width:50px;height:50px;\" /></td>\n",
      "    <td><h4>NumPy</h4> Base N-dimensional array package </td>\n",
      "    <td><img src=\"http://www.scipy.org/_static/images/scipy_med.png\" style=\"width:50px;height:50px;\" /></td>\n",
      "    <td><h4>SciPy</h4> Fundamental library for scientific computing </td>\n",
      "    <td><img src=\"http://www.scipy.org/_static/images/matplotlib_med.png\" style=\"width:50px;height:50px;\" /></td>\n",
      "    <td><h4>Matplotlib</h4> Comprehensive 2D Plotting </td>\n",
      "</tr>\n",
      "<tr>\n",
      "    <td><img src=\"http://www.scipy.org/_static/images/ipython.png\" style=\"width:50px;height:50px;\" /></td>\n",
      "    <td><h4>IPython</h4> Enhanced Interactive Console </td>\n",
      "    <td><img src=\"http://www.scipy.org/_static/images/sympy_logo.png\" style=\"width:50px;height:50px;\" /></td>\n",
      "    <td><h4>SymPy</h4> Symbolic mathematics </td>\n",
      "    <td style=\"background:Lavender;\"><img src=\"http://www.scipy.org/_static/images/pandas_badge2.jpg\" style=\"width:50px;height:50px;\" /></td>\n",
      "    <td style=\"background:Lavender;\"><h4>Pandas</h4> Data structures & analysis </td>\n",
      "</tr>\n",
      "</table>"
     ]
    },
    {
     "cell_type": "heading",
     "level": 1,
     "metadata": {},
     "source": [
      "Import libraries"
     ]
    },
    {
     "cell_type": "code",
     "collapsed": false,
     "input": [
      "import numpy as np\n",
      "import matplotlib.pyplot as plt\n",
      "import pandas as pd"
     ],
     "language": "python",
     "metadata": {},
     "outputs": [],
     "prompt_number": 1
    },
    {
     "cell_type": "heading",
     "level": 1,
     "metadata": {},
     "source": [
      "Working with Series"
     ]
    },
    {
     "cell_type": "markdown",
     "metadata": {},
     "source": [
      "Series is an array like object."
     ]
    },
    {
     "cell_type": "heading",
     "level": 4,
     "metadata": {},
     "source": [
      "pd.Series(self, data=None, index=None, dtype=None, name=None, copy=False, fastpath=False)"
     ]
    },
    {
     "cell_type": "code",
     "collapsed": false,
     "input": [
      "x = pd.Series([1,2,3,4,5])\n",
      "x"
     ],
     "language": "python",
     "metadata": {},
     "outputs": [
      {
       "metadata": {},
       "output_type": "pyout",
       "prompt_number": 2,
       "text": [
        "0    1\n",
        "1    2\n",
        "2    3\n",
        "3    4\n",
        "4    5\n",
        "dtype: int64"
       ]
      }
     ],
     "prompt_number": 2
    },
    {
     "cell_type": "markdown",
     "metadata": {},
     "source": [
      "Notice that generated an index for your item"
     ]
    },
    {
     "cell_type": "heading",
     "level": 2,
     "metadata": {},
     "source": [
      "Basic Operation"
     ]
    },
    {
     "cell_type": "code",
     "collapsed": false,
     "input": [
      "x + 100"
     ],
     "language": "python",
     "metadata": {},
     "outputs": [
      {
       "metadata": {},
       "output_type": "pyout",
       "prompt_number": 3,
       "text": [
        "0    101\n",
        "1    102\n",
        "2    103\n",
        "3    104\n",
        "4    105\n",
        "dtype: int64"
       ]
      }
     ],
     "prompt_number": 3
    },
    {
     "cell_type": "code",
     "collapsed": false,
     "input": [
      "(x ** 2) + 100"
     ],
     "language": "python",
     "metadata": {},
     "outputs": [
      {
       "metadata": {},
       "output_type": "pyout",
       "prompt_number": 4,
       "text": [
        "0    101\n",
        "1    104\n",
        "2    109\n",
        "3    116\n",
        "4    125\n",
        "dtype: int64"
       ]
      }
     ],
     "prompt_number": 4
    },
    {
     "cell_type": "code",
     "collapsed": false,
     "input": [
      "x > 2"
     ],
     "language": "python",
     "metadata": {},
     "outputs": [
      {
       "metadata": {},
       "output_type": "pyout",
       "prompt_number": 5,
       "text": [
        "0    False\n",
        "1    False\n",
        "2     True\n",
        "3     True\n",
        "4     True\n",
        "dtype: bool"
       ]
      }
     ],
     "prompt_number": 5
    },
    {
     "cell_type": "heading",
     "level": 2,
     "metadata": {},
     "source": [
      "`any()` and `all()`"
     ]
    },
    {
     "cell_type": "code",
     "collapsed": false,
     "input": [
      "larger_than_2 = x > 2\n",
      "larger_than_2"
     ],
     "language": "python",
     "metadata": {},
     "outputs": [
      {
       "metadata": {},
       "output_type": "pyout",
       "prompt_number": 6,
       "text": [
        "0    False\n",
        "1    False\n",
        "2     True\n",
        "3     True\n",
        "4     True\n",
        "dtype: bool"
       ]
      }
     ],
     "prompt_number": 6
    },
    {
     "cell_type": "code",
     "collapsed": false,
     "input": [
      "larger_than_2.any()"
     ],
     "language": "python",
     "metadata": {},
     "outputs": [
      {
       "metadata": {},
       "output_type": "pyout",
       "prompt_number": 7,
       "text": [
        "True"
       ]
      }
     ],
     "prompt_number": 7
    },
    {
     "cell_type": "code",
     "collapsed": false,
     "input": [
      "larger_than_2.all()"
     ],
     "language": "python",
     "metadata": {},
     "outputs": [
      {
       "metadata": {},
       "output_type": "pyout",
       "prompt_number": 8,
       "text": [
        "False"
       ]
      }
     ],
     "prompt_number": 8
    },
    {
     "cell_type": "heading",
     "level": 2,
     "metadata": {},
     "source": [
      "`apply()`"
     ]
    },
    {
     "cell_type": "code",
     "collapsed": false,
     "input": [
      "def f(x):\n",
      "    if x % 2 == 0:\n",
      "        return x * 2\n",
      "    else:\n",
      "        return x * 3\n",
      "\n",
      "x.apply(f)"
     ],
     "language": "python",
     "metadata": {},
     "outputs": [
      {
       "metadata": {},
       "output_type": "pyout",
       "prompt_number": 9,
       "text": [
        "0     3\n",
        "1     4\n",
        "2     9\n",
        "3     8\n",
        "4    15\n",
        "dtype: int64"
       ]
      }
     ],
     "prompt_number": 9
    },
    {
     "cell_type": "markdown",
     "metadata": {},
     "source": [
      "**Avoid looping over your data**\n",
      "\n",
      "This is a `%%timeit` results from `apply()` and a for loop."
     ]
    },
    {
     "cell_type": "code",
     "collapsed": false,
     "input": [
      "%%timeit\n",
      "\n",
      "ds = pd.Series(range(10000))\n",
      "\n",
      "for counter in range(len(ds)):\n",
      "    ds[counter] = f(ds[counter])"
     ],
     "language": "python",
     "metadata": {},
     "outputs": [
      {
       "output_type": "stream",
       "stream": "stdout",
       "text": [
        "1 loops, best of 3: 241 ms per loop\n"
       ]
      }
     ],
     "prompt_number": 10
    },
    {
     "cell_type": "code",
     "collapsed": false,
     "input": [
      "%%timeit\n",
      "\n",
      "ds = pd.Series(range(10000))\n",
      "\n",
      "ds = ds.apply(f)"
     ],
     "language": "python",
     "metadata": {},
     "outputs": [
      {
       "output_type": "stream",
       "stream": "stdout",
       "text": [
        "10 loops, best of 3: 40 ms per loop\n"
       ]
      }
     ],
     "prompt_number": 11
    },
    {
     "cell_type": "heading",
     "level": 2,
     "metadata": {},
     "source": [
      "`astype()`"
     ]
    },
    {
     "cell_type": "code",
     "collapsed": false,
     "input": [
      "x.astype(np.float64)"
     ],
     "language": "python",
     "metadata": {},
     "outputs": [
      {
       "metadata": {},
       "output_type": "pyout",
       "prompt_number": 12,
       "text": [
        "0    1\n",
        "1    2\n",
        "2    3\n",
        "3    4\n",
        "4    5\n",
        "dtype: float64"
       ]
      }
     ],
     "prompt_number": 12
    },
    {
     "cell_type": "heading",
     "level": 2,
     "metadata": {},
     "source": [
      "`copy()`"
     ]
    },
    {
     "cell_type": "code",
     "collapsed": false,
     "input": [
      "y = x"
     ],
     "language": "python",
     "metadata": {},
     "outputs": [],
     "prompt_number": 13
    },
    {
     "cell_type": "code",
     "collapsed": false,
     "input": [
      "y[0]"
     ],
     "language": "python",
     "metadata": {},
     "outputs": [
      {
       "metadata": {},
       "output_type": "pyout",
       "prompt_number": 14,
       "text": [
        "1"
       ]
      }
     ],
     "prompt_number": 14
    },
    {
     "cell_type": "code",
     "collapsed": false,
     "input": [
      "y[0] = 100"
     ],
     "language": "python",
     "metadata": {},
     "outputs": [],
     "prompt_number": 15
    },
    {
     "cell_type": "code",
     "collapsed": false,
     "input": [
      "y"
     ],
     "language": "python",
     "metadata": {},
     "outputs": [
      {
       "metadata": {},
       "output_type": "pyout",
       "prompt_number": 16,
       "text": [
        "0    100\n",
        "1      2\n",
        "2      3\n",
        "3      4\n",
        "4      5\n",
        "dtype: int64"
       ]
      }
     ],
     "prompt_number": 16
    },
    {
     "cell_type": "code",
     "collapsed": false,
     "input": [
      "x"
     ],
     "language": "python",
     "metadata": {},
     "outputs": [
      {
       "metadata": {},
       "output_type": "pyout",
       "prompt_number": 17,
       "text": [
        "0    100\n",
        "1      2\n",
        "2      3\n",
        "3      4\n",
        "4      5\n",
        "dtype: int64"
       ]
      }
     ],
     "prompt_number": 17
    },
    {
     "cell_type": "markdown",
     "metadata": {},
     "source": [
      "**Avoid using copy (is you can) to save memory**"
     ]
    },
    {
     "cell_type": "code",
     "collapsed": false,
     "input": [
      "y = x.copy()"
     ],
     "language": "python",
     "metadata": {},
     "outputs": [],
     "prompt_number": 18
    },
    {
     "cell_type": "code",
     "collapsed": false,
     "input": [
      "x[0]=1"
     ],
     "language": "python",
     "metadata": {},
     "outputs": [],
     "prompt_number": 19
    },
    {
     "cell_type": "code",
     "collapsed": false,
     "input": [
      "x"
     ],
     "language": "python",
     "metadata": {},
     "outputs": [
      {
       "metadata": {},
       "output_type": "pyout",
       "prompt_number": 20,
       "text": [
        "0    1\n",
        "1    2\n",
        "2    3\n",
        "3    4\n",
        "4    5\n",
        "dtype: int64"
       ]
      }
     ],
     "prompt_number": 20
    },
    {
     "cell_type": "code",
     "collapsed": false,
     "input": [
      "y"
     ],
     "language": "python",
     "metadata": {},
     "outputs": [
      {
       "metadata": {},
       "output_type": "pyout",
       "prompt_number": 21,
       "text": [
        "0    100\n",
        "1      2\n",
        "2      3\n",
        "3      4\n",
        "4      5\n",
        "dtype: int64"
       ]
      }
     ],
     "prompt_number": 21
    },
    {
     "cell_type": "code",
     "collapsed": false,
     "input": [
      "x.describe(percentile_width=50)"
     ],
     "language": "python",
     "metadata": {},
     "outputs": [
      {
       "metadata": {},
       "output_type": "pyout",
       "prompt_number": 22,
       "text": [
        "count    5.000000\n",
        "mean     3.000000\n",
        "std      1.581139\n",
        "min      1.000000\n",
        "25%      2.000000\n",
        "50%      3.000000\n",
        "75%      4.000000\n",
        "max      5.000000\n",
        "dtype: float64"
       ]
      }
     ],
     "prompt_number": 22
    },
    {
     "cell_type": "heading",
     "level": 1,
     "metadata": {},
     "source": [
      "DataFrame"
     ]
    },
    {
     "cell_type": "heading",
     "level": 4,
     "metadata": {},
     "source": [
      "pd.DataFrame(self, data=None, index=None, columns=None, dtype=None, copy=False)"
     ]
    },
    {
     "cell_type": "code",
     "collapsed": false,
     "input": [
      "data = [1,2,3,4,5,6,7,8,9]\n",
      "df = pd.DataFrame(data, columns=[\"x\"])"
     ],
     "language": "python",
     "metadata": {},
     "outputs": [],
     "prompt_number": 23
    },
    {
     "cell_type": "code",
     "collapsed": false,
     "input": [
      "df"
     ],
     "language": "python",
     "metadata": {},
     "outputs": [
      {
       "html": [
        "<div style=\"max-height:1000px;max-width:1500px;overflow:auto;\">\n",
        "<table border=\"1\" class=\"dataframe\">\n",
        "  <thead>\n",
        "    <tr style=\"text-align: right;\">\n",
        "      <th></th>\n",
        "      <th>x</th>\n",
        "    </tr>\n",
        "  </thead>\n",
        "  <tbody>\n",
        "    <tr>\n",
        "      <th>0</th>\n",
        "      <td> 1</td>\n",
        "    </tr>\n",
        "    <tr>\n",
        "      <th>1</th>\n",
        "      <td> 2</td>\n",
        "    </tr>\n",
        "    <tr>\n",
        "      <th>2</th>\n",
        "      <td> 3</td>\n",
        "    </tr>\n",
        "    <tr>\n",
        "      <th>3</th>\n",
        "      <td> 4</td>\n",
        "    </tr>\n",
        "    <tr>\n",
        "      <th>4</th>\n",
        "      <td> 5</td>\n",
        "    </tr>\n",
        "    <tr>\n",
        "      <th>5</th>\n",
        "      <td> 6</td>\n",
        "    </tr>\n",
        "    <tr>\n",
        "      <th>6</th>\n",
        "      <td> 7</td>\n",
        "    </tr>\n",
        "    <tr>\n",
        "      <th>7</th>\n",
        "      <td> 8</td>\n",
        "    </tr>\n",
        "    <tr>\n",
        "      <th>8</th>\n",
        "      <td> 9</td>\n",
        "    </tr>\n",
        "  </tbody>\n",
        "</table>\n",
        "<p>9 rows \u00d7 1 columns</p>\n",
        "</div>"
       ],
       "metadata": {},
       "output_type": "pyout",
       "prompt_number": 24,
       "text": [
        "   x\n",
        "0  1\n",
        "1  2\n",
        "2  3\n",
        "3  4\n",
        "4  5\n",
        "5  6\n",
        "6  7\n",
        "7  8\n",
        "8  9\n",
        "\n",
        "[9 rows x 1 columns]"
       ]
      }
     ],
     "prompt_number": 24
    },
    {
     "cell_type": "heading",
     "level": 2,
     "metadata": {},
     "source": [
      "Selecting Data"
     ]
    },
    {
     "cell_type": "code",
     "collapsed": false,
     "input": [
      "df[\"x\"]"
     ],
     "language": "python",
     "metadata": {},
     "outputs": [
      {
       "metadata": {},
       "output_type": "pyout",
       "prompt_number": 25,
       "text": [
        "0    1\n",
        "1    2\n",
        "2    3\n",
        "3    4\n",
        "4    5\n",
        "5    6\n",
        "6    7\n",
        "7    8\n",
        "8    9\n",
        "Name: x, dtype: int64"
       ]
      }
     ],
     "prompt_number": 25
    },
    {
     "cell_type": "code",
     "collapsed": false,
     "input": [
      "df[\"x\"][0]"
     ],
     "language": "python",
     "metadata": {},
     "outputs": [
      {
       "metadata": {},
       "output_type": "pyout",
       "prompt_number": 26,
       "text": [
        "1"
       ]
      }
     ],
     "prompt_number": 26
    },
    {
     "cell_type": "heading",
     "level": 2,
     "metadata": {},
     "source": [
      "Adding extra columns"
     ]
    },
    {
     "cell_type": "code",
     "collapsed": false,
     "input": [
      "df[\"x_plus_2\"] = df[\"x\"] + 2\n",
      "df"
     ],
     "language": "python",
     "metadata": {},
     "outputs": [
      {
       "html": [
        "<div style=\"max-height:1000px;max-width:1500px;overflow:auto;\">\n",
        "<table border=\"1\" class=\"dataframe\">\n",
        "  <thead>\n",
        "    <tr style=\"text-align: right;\">\n",
        "      <th></th>\n",
        "      <th>x</th>\n",
        "      <th>x_plus_2</th>\n",
        "    </tr>\n",
        "  </thead>\n",
        "  <tbody>\n",
        "    <tr>\n",
        "      <th>0</th>\n",
        "      <td> 1</td>\n",
        "      <td>  3</td>\n",
        "    </tr>\n",
        "    <tr>\n",
        "      <th>1</th>\n",
        "      <td> 2</td>\n",
        "      <td>  4</td>\n",
        "    </tr>\n",
        "    <tr>\n",
        "      <th>2</th>\n",
        "      <td> 3</td>\n",
        "      <td>  5</td>\n",
        "    </tr>\n",
        "    <tr>\n",
        "      <th>3</th>\n",
        "      <td> 4</td>\n",
        "      <td>  6</td>\n",
        "    </tr>\n",
        "    <tr>\n",
        "      <th>4</th>\n",
        "      <td> 5</td>\n",
        "      <td>  7</td>\n",
        "    </tr>\n",
        "    <tr>\n",
        "      <th>5</th>\n",
        "      <td> 6</td>\n",
        "      <td>  8</td>\n",
        "    </tr>\n",
        "    <tr>\n",
        "      <th>6</th>\n",
        "      <td> 7</td>\n",
        "      <td>  9</td>\n",
        "    </tr>\n",
        "    <tr>\n",
        "      <th>7</th>\n",
        "      <td> 8</td>\n",
        "      <td> 10</td>\n",
        "    </tr>\n",
        "    <tr>\n",
        "      <th>8</th>\n",
        "      <td> 9</td>\n",
        "      <td> 11</td>\n",
        "    </tr>\n",
        "  </tbody>\n",
        "</table>\n",
        "<p>9 rows \u00d7 2 columns</p>\n",
        "</div>"
       ],
       "metadata": {},
       "output_type": "pyout",
       "prompt_number": 27,
       "text": [
        "   x  x_plus_2\n",
        "0  1         3\n",
        "1  2         4\n",
        "2  3         5\n",
        "3  4         6\n",
        "4  5         7\n",
        "5  6         8\n",
        "6  7         9\n",
        "7  8        10\n",
        "8  9        11\n",
        "\n",
        "[9 rows x 2 columns]"
       ]
      }
     ],
     "prompt_number": 27
    },
    {
     "cell_type": "code",
     "collapsed": false,
     "input": [
      "df[\"x_square\"] = df[\"x\"] ** 2\n",
      "df[\"x_factorial\"] = df[\"x\"].apply(np.math.factorial)\n",
      "df"
     ],
     "language": "python",
     "metadata": {},
     "outputs": [
      {
       "html": [
        "<div style=\"max-height:1000px;max-width:1500px;overflow:auto;\">\n",
        "<table border=\"1\" class=\"dataframe\">\n",
        "  <thead>\n",
        "    <tr style=\"text-align: right;\">\n",
        "      <th></th>\n",
        "      <th>x</th>\n",
        "      <th>x_plus_2</th>\n",
        "      <th>x_square</th>\n",
        "      <th>x_factorial</th>\n",
        "    </tr>\n",
        "  </thead>\n",
        "  <tbody>\n",
        "    <tr>\n",
        "      <th>0</th>\n",
        "      <td> 1</td>\n",
        "      <td>  3</td>\n",
        "      <td>  1</td>\n",
        "      <td>      1</td>\n",
        "    </tr>\n",
        "    <tr>\n",
        "      <th>1</th>\n",
        "      <td> 2</td>\n",
        "      <td>  4</td>\n",
        "      <td>  4</td>\n",
        "      <td>      2</td>\n",
        "    </tr>\n",
        "    <tr>\n",
        "      <th>2</th>\n",
        "      <td> 3</td>\n",
        "      <td>  5</td>\n",
        "      <td>  9</td>\n",
        "      <td>      6</td>\n",
        "    </tr>\n",
        "    <tr>\n",
        "      <th>3</th>\n",
        "      <td> 4</td>\n",
        "      <td>  6</td>\n",
        "      <td> 16</td>\n",
        "      <td>     24</td>\n",
        "    </tr>\n",
        "    <tr>\n",
        "      <th>4</th>\n",
        "      <td> 5</td>\n",
        "      <td>  7</td>\n",
        "      <td> 25</td>\n",
        "      <td>    120</td>\n",
        "    </tr>\n",
        "    <tr>\n",
        "      <th>5</th>\n",
        "      <td> 6</td>\n",
        "      <td>  8</td>\n",
        "      <td> 36</td>\n",
        "      <td>    720</td>\n",
        "    </tr>\n",
        "    <tr>\n",
        "      <th>6</th>\n",
        "      <td> 7</td>\n",
        "      <td>  9</td>\n",
        "      <td> 49</td>\n",
        "      <td>   5040</td>\n",
        "    </tr>\n",
        "    <tr>\n",
        "      <th>7</th>\n",
        "      <td> 8</td>\n",
        "      <td> 10</td>\n",
        "      <td> 64</td>\n",
        "      <td>  40320</td>\n",
        "    </tr>\n",
        "    <tr>\n",
        "      <th>8</th>\n",
        "      <td> 9</td>\n",
        "      <td> 11</td>\n",
        "      <td> 81</td>\n",
        "      <td> 362880</td>\n",
        "    </tr>\n",
        "  </tbody>\n",
        "</table>\n",
        "<p>9 rows \u00d7 4 columns</p>\n",
        "</div>"
       ],
       "metadata": {},
       "output_type": "pyout",
       "prompt_number": 28,
       "text": [
        "   x  x_plus_2  x_square  x_factorial\n",
        "0  1         3         1            1\n",
        "1  2         4         4            2\n",
        "2  3         5         9            6\n",
        "3  4         6        16           24\n",
        "4  5         7        25          120\n",
        "5  6         8        36          720\n",
        "6  7         9        49         5040\n",
        "7  8        10        64        40320\n",
        "8  9        11        81       362880\n",
        "\n",
        "[9 rows x 4 columns]"
       ]
      }
     ],
     "prompt_number": 28
    },
    {
     "cell_type": "code",
     "collapsed": false,
     "input": [
      "df[\"is_even\"] = df[\"x\"] % 2\n",
      "df"
     ],
     "language": "python",
     "metadata": {},
     "outputs": [
      {
       "html": [
        "<div style=\"max-height:1000px;max-width:1500px;overflow:auto;\">\n",
        "<table border=\"1\" class=\"dataframe\">\n",
        "  <thead>\n",
        "    <tr style=\"text-align: right;\">\n",
        "      <th></th>\n",
        "      <th>x</th>\n",
        "      <th>x_plus_2</th>\n",
        "      <th>x_square</th>\n",
        "      <th>x_factorial</th>\n",
        "      <th>is_even</th>\n",
        "    </tr>\n",
        "  </thead>\n",
        "  <tbody>\n",
        "    <tr>\n",
        "      <th>0</th>\n",
        "      <td> 1</td>\n",
        "      <td>  3</td>\n",
        "      <td>  1</td>\n",
        "      <td>      1</td>\n",
        "      <td> 1</td>\n",
        "    </tr>\n",
        "    <tr>\n",
        "      <th>1</th>\n",
        "      <td> 2</td>\n",
        "      <td>  4</td>\n",
        "      <td>  4</td>\n",
        "      <td>      2</td>\n",
        "      <td> 0</td>\n",
        "    </tr>\n",
        "    <tr>\n",
        "      <th>2</th>\n",
        "      <td> 3</td>\n",
        "      <td>  5</td>\n",
        "      <td>  9</td>\n",
        "      <td>      6</td>\n",
        "      <td> 1</td>\n",
        "    </tr>\n",
        "    <tr>\n",
        "      <th>3</th>\n",
        "      <td> 4</td>\n",
        "      <td>  6</td>\n",
        "      <td> 16</td>\n",
        "      <td>     24</td>\n",
        "      <td> 0</td>\n",
        "    </tr>\n",
        "    <tr>\n",
        "      <th>4</th>\n",
        "      <td> 5</td>\n",
        "      <td>  7</td>\n",
        "      <td> 25</td>\n",
        "      <td>    120</td>\n",
        "      <td> 1</td>\n",
        "    </tr>\n",
        "    <tr>\n",
        "      <th>5</th>\n",
        "      <td> 6</td>\n",
        "      <td>  8</td>\n",
        "      <td> 36</td>\n",
        "      <td>    720</td>\n",
        "      <td> 0</td>\n",
        "    </tr>\n",
        "    <tr>\n",
        "      <th>6</th>\n",
        "      <td> 7</td>\n",
        "      <td>  9</td>\n",
        "      <td> 49</td>\n",
        "      <td>   5040</td>\n",
        "      <td> 1</td>\n",
        "    </tr>\n",
        "    <tr>\n",
        "      <th>7</th>\n",
        "      <td> 8</td>\n",
        "      <td> 10</td>\n",
        "      <td> 64</td>\n",
        "      <td>  40320</td>\n",
        "      <td> 0</td>\n",
        "    </tr>\n",
        "    <tr>\n",
        "      <th>8</th>\n",
        "      <td> 9</td>\n",
        "      <td> 11</td>\n",
        "      <td> 81</td>\n",
        "      <td> 362880</td>\n",
        "      <td> 1</td>\n",
        "    </tr>\n",
        "  </tbody>\n",
        "</table>\n",
        "<p>9 rows \u00d7 5 columns</p>\n",
        "</div>"
       ],
       "metadata": {},
       "output_type": "pyout",
       "prompt_number": 29,
       "text": [
        "   x  x_plus_2  x_square  x_factorial  is_even\n",
        "0  1         3         1            1        1\n",
        "1  2         4         4            2        0\n",
        "2  3         5         9            6        1\n",
        "3  4         6        16           24        0\n",
        "4  5         7        25          120        1\n",
        "5  6         8        36          720        0\n",
        "6  7         9        49         5040        1\n",
        "7  8        10        64        40320        0\n",
        "8  9        11        81       362880        1\n",
        "\n",
        "[9 rows x 5 columns]"
       ]
      }
     ],
     "prompt_number": 29
    },
    {
     "cell_type": "heading",
     "level": 3,
     "metadata": {},
     "source": [
      "`map()`"
     ]
    },
    {
     "cell_type": "code",
     "collapsed": false,
     "input": [
      "df[\"odd_even\"] = df[\"is_even\"].map({1:\"odd\", 0:\"even\"})\n",
      "df"
     ],
     "language": "python",
     "metadata": {},
     "outputs": [
      {
       "html": [
        "<div style=\"max-height:1000px;max-width:1500px;overflow:auto;\">\n",
        "<table border=\"1\" class=\"dataframe\">\n",
        "  <thead>\n",
        "    <tr style=\"text-align: right;\">\n",
        "      <th></th>\n",
        "      <th>x</th>\n",
        "      <th>x_plus_2</th>\n",
        "      <th>x_square</th>\n",
        "      <th>x_factorial</th>\n",
        "      <th>is_even</th>\n",
        "      <th>odd_even</th>\n",
        "    </tr>\n",
        "  </thead>\n",
        "  <tbody>\n",
        "    <tr>\n",
        "      <th>0</th>\n",
        "      <td> 1</td>\n",
        "      <td>  3</td>\n",
        "      <td>  1</td>\n",
        "      <td>      1</td>\n",
        "      <td> 1</td>\n",
        "      <td>  odd</td>\n",
        "    </tr>\n",
        "    <tr>\n",
        "      <th>1</th>\n",
        "      <td> 2</td>\n",
        "      <td>  4</td>\n",
        "      <td>  4</td>\n",
        "      <td>      2</td>\n",
        "      <td> 0</td>\n",
        "      <td> even</td>\n",
        "    </tr>\n",
        "    <tr>\n",
        "      <th>2</th>\n",
        "      <td> 3</td>\n",
        "      <td>  5</td>\n",
        "      <td>  9</td>\n",
        "      <td>      6</td>\n",
        "      <td> 1</td>\n",
        "      <td>  odd</td>\n",
        "    </tr>\n",
        "    <tr>\n",
        "      <th>3</th>\n",
        "      <td> 4</td>\n",
        "      <td>  6</td>\n",
        "      <td> 16</td>\n",
        "      <td>     24</td>\n",
        "      <td> 0</td>\n",
        "      <td> even</td>\n",
        "    </tr>\n",
        "    <tr>\n",
        "      <th>4</th>\n",
        "      <td> 5</td>\n",
        "      <td>  7</td>\n",
        "      <td> 25</td>\n",
        "      <td>    120</td>\n",
        "      <td> 1</td>\n",
        "      <td>  odd</td>\n",
        "    </tr>\n",
        "    <tr>\n",
        "      <th>5</th>\n",
        "      <td> 6</td>\n",
        "      <td>  8</td>\n",
        "      <td> 36</td>\n",
        "      <td>    720</td>\n",
        "      <td> 0</td>\n",
        "      <td> even</td>\n",
        "    </tr>\n",
        "    <tr>\n",
        "      <th>6</th>\n",
        "      <td> 7</td>\n",
        "      <td>  9</td>\n",
        "      <td> 49</td>\n",
        "      <td>   5040</td>\n",
        "      <td> 1</td>\n",
        "      <td>  odd</td>\n",
        "    </tr>\n",
        "    <tr>\n",
        "      <th>7</th>\n",
        "      <td> 8</td>\n",
        "      <td> 10</td>\n",
        "      <td> 64</td>\n",
        "      <td>  40320</td>\n",
        "      <td> 0</td>\n",
        "      <td> even</td>\n",
        "    </tr>\n",
        "    <tr>\n",
        "      <th>8</th>\n",
        "      <td> 9</td>\n",
        "      <td> 11</td>\n",
        "      <td> 81</td>\n",
        "      <td> 362880</td>\n",
        "      <td> 1</td>\n",
        "      <td>  odd</td>\n",
        "    </tr>\n",
        "  </tbody>\n",
        "</table>\n",
        "<p>9 rows \u00d7 6 columns</p>\n",
        "</div>"
       ],
       "metadata": {},
       "output_type": "pyout",
       "prompt_number": 30,
       "text": [
        "   x  x_plus_2  x_square  x_factorial  is_even odd_even\n",
        "0  1         3         1            1        1      odd\n",
        "1  2         4         4            2        0     even\n",
        "2  3         5         9            6        1      odd\n",
        "3  4         6        16           24        0     even\n",
        "4  5         7        25          120        1      odd\n",
        "5  6         8        36          720        0     even\n",
        "6  7         9        49         5040        1      odd\n",
        "7  8        10        64        40320        0     even\n",
        "8  9        11        81       362880        1      odd\n",
        "\n",
        "[9 rows x 6 columns]"
       ]
      }
     ],
     "prompt_number": 30
    },
    {
     "cell_type": "heading",
     "level": 3,
     "metadata": {},
     "source": [
      "`drop()`"
     ]
    },
    {
     "cell_type": "code",
     "collapsed": false,
     "input": [
      "df = df.drop(\"is_even\", 1)\n",
      "df"
     ],
     "language": "python",
     "metadata": {},
     "outputs": [
      {
       "html": [
        "<div style=\"max-height:1000px;max-width:1500px;overflow:auto;\">\n",
        "<table border=\"1\" class=\"dataframe\">\n",
        "  <thead>\n",
        "    <tr style=\"text-align: right;\">\n",
        "      <th></th>\n",
        "      <th>x</th>\n",
        "      <th>x_plus_2</th>\n",
        "      <th>x_square</th>\n",
        "      <th>x_factorial</th>\n",
        "      <th>odd_even</th>\n",
        "    </tr>\n",
        "  </thead>\n",
        "  <tbody>\n",
        "    <tr>\n",
        "      <th>0</th>\n",
        "      <td> 1</td>\n",
        "      <td>  3</td>\n",
        "      <td>  1</td>\n",
        "      <td>      1</td>\n",
        "      <td>  odd</td>\n",
        "    </tr>\n",
        "    <tr>\n",
        "      <th>1</th>\n",
        "      <td> 2</td>\n",
        "      <td>  4</td>\n",
        "      <td>  4</td>\n",
        "      <td>      2</td>\n",
        "      <td> even</td>\n",
        "    </tr>\n",
        "    <tr>\n",
        "      <th>2</th>\n",
        "      <td> 3</td>\n",
        "      <td>  5</td>\n",
        "      <td>  9</td>\n",
        "      <td>      6</td>\n",
        "      <td>  odd</td>\n",
        "    </tr>\n",
        "    <tr>\n",
        "      <th>3</th>\n",
        "      <td> 4</td>\n",
        "      <td>  6</td>\n",
        "      <td> 16</td>\n",
        "      <td>     24</td>\n",
        "      <td> even</td>\n",
        "    </tr>\n",
        "    <tr>\n",
        "      <th>4</th>\n",
        "      <td> 5</td>\n",
        "      <td>  7</td>\n",
        "      <td> 25</td>\n",
        "      <td>    120</td>\n",
        "      <td>  odd</td>\n",
        "    </tr>\n",
        "    <tr>\n",
        "      <th>5</th>\n",
        "      <td> 6</td>\n",
        "      <td>  8</td>\n",
        "      <td> 36</td>\n",
        "      <td>    720</td>\n",
        "      <td> even</td>\n",
        "    </tr>\n",
        "    <tr>\n",
        "      <th>6</th>\n",
        "      <td> 7</td>\n",
        "      <td>  9</td>\n",
        "      <td> 49</td>\n",
        "      <td>   5040</td>\n",
        "      <td>  odd</td>\n",
        "    </tr>\n",
        "    <tr>\n",
        "      <th>7</th>\n",
        "      <td> 8</td>\n",
        "      <td> 10</td>\n",
        "      <td> 64</td>\n",
        "      <td>  40320</td>\n",
        "      <td> even</td>\n",
        "    </tr>\n",
        "    <tr>\n",
        "      <th>8</th>\n",
        "      <td> 9</td>\n",
        "      <td> 11</td>\n",
        "      <td> 81</td>\n",
        "      <td> 362880</td>\n",
        "      <td>  odd</td>\n",
        "    </tr>\n",
        "  </tbody>\n",
        "</table>\n",
        "<p>9 rows \u00d7 5 columns</p>\n",
        "</div>"
       ],
       "metadata": {},
       "output_type": "pyout",
       "prompt_number": 31,
       "text": [
        "   x  x_plus_2  x_square  x_factorial odd_even\n",
        "0  1         3         1            1      odd\n",
        "1  2         4         4            2     even\n",
        "2  3         5         9            6      odd\n",
        "3  4         6        16           24     even\n",
        "4  5         7        25          120      odd\n",
        "5  6         8        36          720     even\n",
        "6  7         9        49         5040      odd\n",
        "7  8        10        64        40320     even\n",
        "8  9        11        81       362880      odd\n",
        "\n",
        "[9 rows x 5 columns]"
       ]
      }
     ],
     "prompt_number": 31
    },
    {
     "cell_type": "heading",
     "level": 2,
     "metadata": {},
     "source": [
      "Multi Column Select"
     ]
    },
    {
     "cell_type": "code",
     "collapsed": false,
     "input": [
      "df[[\"x\", \"odd_even\"]]"
     ],
     "language": "python",
     "metadata": {},
     "outputs": [
      {
       "html": [
        "<div style=\"max-height:1000px;max-width:1500px;overflow:auto;\">\n",
        "<table border=\"1\" class=\"dataframe\">\n",
        "  <thead>\n",
        "    <tr style=\"text-align: right;\">\n",
        "      <th></th>\n",
        "      <th>x</th>\n",
        "      <th>odd_even</th>\n",
        "    </tr>\n",
        "  </thead>\n",
        "  <tbody>\n",
        "    <tr>\n",
        "      <th>0</th>\n",
        "      <td> 1</td>\n",
        "      <td>  odd</td>\n",
        "    </tr>\n",
        "    <tr>\n",
        "      <th>1</th>\n",
        "      <td> 2</td>\n",
        "      <td> even</td>\n",
        "    </tr>\n",
        "    <tr>\n",
        "      <th>2</th>\n",
        "      <td> 3</td>\n",
        "      <td>  odd</td>\n",
        "    </tr>\n",
        "    <tr>\n",
        "      <th>3</th>\n",
        "      <td> 4</td>\n",
        "      <td> even</td>\n",
        "    </tr>\n",
        "    <tr>\n",
        "      <th>4</th>\n",
        "      <td> 5</td>\n",
        "      <td>  odd</td>\n",
        "    </tr>\n",
        "    <tr>\n",
        "      <th>5</th>\n",
        "      <td> 6</td>\n",
        "      <td> even</td>\n",
        "    </tr>\n",
        "    <tr>\n",
        "      <th>6</th>\n",
        "      <td> 7</td>\n",
        "      <td>  odd</td>\n",
        "    </tr>\n",
        "    <tr>\n",
        "      <th>7</th>\n",
        "      <td> 8</td>\n",
        "      <td> even</td>\n",
        "    </tr>\n",
        "    <tr>\n",
        "      <th>8</th>\n",
        "      <td> 9</td>\n",
        "      <td>  odd</td>\n",
        "    </tr>\n",
        "  </tbody>\n",
        "</table>\n",
        "<p>9 rows \u00d7 2 columns</p>\n",
        "</div>"
       ],
       "metadata": {},
       "output_type": "pyout",
       "prompt_number": 32,
       "text": [
        "   x odd_even\n",
        "0  1      odd\n",
        "1  2     even\n",
        "2  3      odd\n",
        "3  4     even\n",
        "4  5      odd\n",
        "5  6     even\n",
        "6  7      odd\n",
        "7  8     even\n",
        "8  9      odd\n",
        "\n",
        "[9 rows x 2 columns]"
       ]
      }
     ],
     "prompt_number": 32
    },
    {
     "cell_type": "heading",
     "level": 2,
     "metadata": {},
     "source": [
      "Controlling display options"
     ]
    },
    {
     "cell_type": "code",
     "collapsed": false,
     "input": [
      "pd.options.display.max_columns= 60\n",
      "pd.options.display.max_rows= 6\n",
      "pd.options.display.notebook_repr_html = False\n",
      "df"
     ],
     "language": "python",
     "metadata": {},
     "outputs": [
      {
       "metadata": {},
       "output_type": "pyout",
       "prompt_number": 33,
       "text": [
        "   x  x_plus_2  x_square  x_factorial odd_even\n",
        "0  1         3         1            1      odd\n",
        "1  2         4         4            2     even\n",
        "2  3         5         9            6      odd\n",
        "3  4         6        16           24     even\n",
        "4  5         7        25          120      odd\n",
        "5  6         8        36          720     even\n",
        "  ..       ...       ...          ...      ...\n",
        "\n",
        "[9 rows x 5 columns]"
       ]
      }
     ],
     "prompt_number": 33
    },
    {
     "cell_type": "heading",
     "level": 2,
     "metadata": {},
     "source": [
      "Filtering"
     ]
    },
    {
     "cell_type": "code",
     "collapsed": false,
     "input": [
      "df[df[\"odd_even\"] == \"odd\"]"
     ],
     "language": "python",
     "metadata": {},
     "outputs": [
      {
       "metadata": {},
       "output_type": "pyout",
       "prompt_number": 34,
       "text": [
        "   x  x_plus_2  x_square  x_factorial odd_even\n",
        "0  1         3         1            1      odd\n",
        "2  3         5         9            6      odd\n",
        "4  5         7        25          120      odd\n",
        "6  7         9        49         5040      odd\n",
        "8  9        11        81       362880      odd\n",
        "\n",
        "[5 rows x 5 columns]"
       ]
      }
     ],
     "prompt_number": 34
    },
    {
     "cell_type": "code",
     "collapsed": false,
     "input": [
      "df[df.odd_even == \"even\"]"
     ],
     "language": "python",
     "metadata": {},
     "outputs": [
      {
       "metadata": {},
       "output_type": "pyout",
       "prompt_number": 35,
       "text": [
        "   x  x_plus_2  x_square  x_factorial odd_even\n",
        "1  2         4         4            2     even\n",
        "3  4         6        16           24     even\n",
        "5  6         8        36          720     even\n",
        "7  8        10        64        40320     even\n",
        "\n",
        "[4 rows x 5 columns]"
       ]
      }
     ],
     "prompt_number": 35
    },
    {
     "cell_type": "heading",
     "level": 3,
     "metadata": {},
     "source": [
      "Chaining Filters"
     ]
    },
    {
     "cell_type": "heading",
     "level": 4,
     "metadata": {},
     "source": [
      "`|` OR"
     ]
    },
    {
     "cell_type": "code",
     "collapsed": false,
     "input": [
      "df[(df.odd_even == \"even\") | (df.x_square < 20)]"
     ],
     "language": "python",
     "metadata": {},
     "outputs": [
      {
       "metadata": {},
       "output_type": "pyout",
       "prompt_number": 36,
       "text": [
        "   x  x_plus_2  x_square  x_factorial odd_even\n",
        "0  1         3         1            1      odd\n",
        "1  2         4         4            2     even\n",
        "2  3         5         9            6      odd\n",
        "3  4         6        16           24     even\n",
        "5  6         8        36          720     even\n",
        "7  8        10        64        40320     even\n",
        "\n",
        "[6 rows x 5 columns]"
       ]
      }
     ],
     "prompt_number": 36
    },
    {
     "cell_type": "heading",
     "level": 4,
     "metadata": {},
     "source": [
      "`&` AND"
     ]
    },
    {
     "cell_type": "code",
     "collapsed": false,
     "input": [
      "df[(df.odd_even == \"even\") & (df.x_square < 20)]"
     ],
     "language": "python",
     "metadata": {},
     "outputs": [
      {
       "metadata": {},
       "output_type": "pyout",
       "prompt_number": 37,
       "text": [
        "   x  x_plus_2  x_square  x_factorial odd_even\n",
        "1  2         4         4            2     even\n",
        "3  4         6        16           24     even\n",
        "\n",
        "[2 rows x 5 columns]"
       ]
      }
     ],
     "prompt_number": 37
    },
    {
     "cell_type": "heading",
     "level": 3,
     "metadata": {},
     "source": [
      "Furter Chaining"
     ]
    },
    {
     "cell_type": "code",
     "collapsed": false,
     "input": [
      "df[(df.odd_even == \"even\") & (df.x_square < 20)][\"x_plus_2\"][:1]"
     ],
     "language": "python",
     "metadata": {},
     "outputs": [
      {
       "metadata": {},
       "output_type": "pyout",
       "prompt_number": 38,
       "text": [
        "1    4\n",
        "Name: x_plus_2, dtype: int64"
       ]
      }
     ],
     "prompt_number": 38
    },
    {
     "cell_type": "heading",
     "level": 1,
     "metadata": {},
     "source": [
      "`scatter_matrix()`"
     ]
    },
    {
     "cell_type": "code",
     "collapsed": false,
     "input": [
      "pd.scatter_matrix(df, diagonal=\"kde\", figsize=(10,10));"
     ],
     "language": "python",
     "metadata": {},
     "outputs": [
      {
       "metadata": {},
       "output_type": "display_data",
       "png": "[encoded data removed]",
       "text": [
        "<matplotlib.figure.Figure at 0x7ffb8c0bea10>"
       ]
      }
     ],
     "prompt_number": 39
    },
    {
     "cell_type": "code",
     "collapsed": false,
     "input": [
      "df.describe()"
     ],
     "language": "python",
     "metadata": {},
     "outputs": [
      {
       "metadata": {},
       "output_type": "pyout",
       "prompt_number": 40,
       "text": [
        "              x  x_plus_2   x_square    x_factorial\n",
        "count  9.000000  9.000000   9.000000       9.000000\n",
        "mean   5.000000  7.000000  31.666667   45457.000000\n",
        "std    2.738613  2.738613  28.080242  119758.341137\n",
        "min    1.000000  3.000000   1.000000       1.000000\n",
        "25%    3.000000  5.000000   9.000000       6.000000\n",
        "50%    5.000000  7.000000  25.000000     120.000000\n",
        "            ...       ...        ...            ...\n",
        "\n",
        "[8 rows x 4 columns]"
       ]
      }
     ],
     "prompt_number": 40
    },
    {
     "cell_type": "heading",
     "level": 1,
     "metadata": {},
     "source": [
      "Reading Data from CSV/TSV Files"
     ]
    },
    {
     "cell_type": "code",
     "collapsed": false,
     "input": [
      "url = \"http://www.google.com/finance/historical?q=TADAWUL:TASI&output=csv\"\n",
      "stocks_data = pd.read_csv(url)"
     ],
     "language": "python",
     "metadata": {},
     "outputs": [],
     "prompt_number": 41
    },
    {
     "cell_type": "code",
     "collapsed": false,
     "input": [
      "stocks_data"
     ],
     "language": "python",
     "metadata": {},
     "outputs": [
      {
       "metadata": {},
       "output_type": "pyout",
       "prompt_number": 42,
       "text": [
        "       \ufeffDate      Open      High       Low     Close     Volume\n",
        "0  11-Aug-14  10579.12  10603.30  10547.21  10596.55  197234714\n",
        "1  10-Aug-14  10552.48  10614.11  10551.77  10579.12  199773735\n",
        "2   7-Aug-14  10478.34  10585.38  10478.34  10552.48  202329194\n",
        "3   6-Aug-14  10450.52  10494.12  10398.25  10478.34  192868941\n",
        "4   5-Aug-14  10405.81  10501.38  10405.81  10450.52  287651475\n",
        "5   4-Aug-14  10302.88  10409.47  10290.95  10405.81  223099538\n",
        "         ...       ...       ...       ...       ...        ...\n",
        "\n",
        "[241 rows x 6 columns]"
       ]
      }
     ],
     "prompt_number": 42
    },
    {
     "cell_type": "code",
     "collapsed": false,
     "input": [
      "stocks_data[\"change_amount\"] = stocks_data[\"Close\"] - stocks_data[\"Open\"]\n",
      "stocks_data[\"change_percentage\"] = stocks_data[\"change_amount\"] / stocks_data[\"Close\"]\n",
      "stocks_data"
     ],
     "language": "python",
     "metadata": {},
     "outputs": [
      {
       "metadata": {},
       "output_type": "pyout",
       "prompt_number": 43,
       "text": [
        "       \ufeffDate      Open      High       Low     Close     Volume  \\\n",
        "0  11-Aug-14  10579.12  10603.30  10547.21  10596.55  197234714   \n",
        "1  10-Aug-14  10552.48  10614.11  10551.77  10579.12  199773735   \n",
        "2   7-Aug-14  10478.34  10585.38  10478.34  10552.48  202329194   \n",
        "3   6-Aug-14  10450.52  10494.12  10398.25  10478.34  192868941   \n",
        "4   5-Aug-14  10405.81  10501.38  10405.81  10450.52  287651475   \n",
        "5   4-Aug-14  10302.88  10409.47  10290.95  10405.81  223099538   \n",
        "         ...       ...       ...       ...       ...        ...   \n",
        "\n",
        "   change_amount  change_percentage  \n",
        "0          17.43           0.001645  \n",
        "1          26.64           0.002518  \n",
        "2          74.14           0.007026  \n",
        "3          27.82           0.002655  \n",
        "4          44.71           0.004278  \n",
        "5         102.93           0.009892  \n",
        "             ...                ...  \n",
        "\n",
        "[241 rows x 8 columns]"
       ]
      }
     ],
     "prompt_number": 43
    }
   ],
   "metadata": {}
  }
 ]
}
