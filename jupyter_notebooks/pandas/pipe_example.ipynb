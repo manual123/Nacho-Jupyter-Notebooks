{
 "cells": [
  {
   "cell_type": "markdown",
   "metadata": {},
   "source": [
    "# Using pandas dataframe pipe() function"
   ]
  },
  {
   "cell_type": "markdown",
   "metadata": {},
   "source": [
    "Pandas dataframe [pipe()](https://pandas.pydata.org/docs/reference/api/pandas.DataFrame.pipe.html?highlight=pipe#pandas.DataFrame.pipe) function allows you to pass a result of function to another function and that function can pass its result to another function, and so on.  In my opinion, the example shown at the official documentation's site does not make this too clear.  I think the example shown was a bit complex.  Below is my attempt to show a practical example."
   ]
  },
  {
   "cell_type": "markdown",
   "metadata": {},
   "source": [
    "**NOTE:** I will be using type annotations which are **optional**.  But I think type annotations make it more obvious or explicit as to what is the expected data type of the function parameters, as well as what is the data type of the function's return value."
   ]
  },
  {
   "cell_type": "code",
   "execution_count": 1,
   "metadata": {},
   "outputs": [],
   "source": [
    "from typing import List, TypeVar\n",
    "import pandas as pd\n",
    "DataFrame = TypeVar('pd.core.frame.DataFrame')"
   ]
  },
  {
   "cell_type": "code",
   "execution_count": 2,
   "metadata": {},
   "outputs": [],
   "source": [
    "df = pd.read_csv(r'D:\\gitprojects\\streamlit-seaborn-heatmap\\top_parts.csv', usecols=range(6))"
   ]
  },
  {
   "cell_type": "code",
   "execution_count": 3,
   "metadata": {},
   "outputs": [
    {
     "data": {
      "text/html": [
       "<div>\n",
       "<style scoped>\n",
       "    .dataframe tbody tr th:only-of-type {\n",
       "        vertical-align: middle;\n",
       "    }\n",
       "\n",
       "    .dataframe tbody tr th {\n",
       "        vertical-align: top;\n",
       "    }\n",
       "\n",
       "    .dataframe thead th {\n",
       "        text-align: right;\n",
       "    }\n",
       "</style>\n",
       "<table border=\"1\" class=\"dataframe\">\n",
       "  <thead>\n",
       "    <tr style=\"text-align: right;\">\n",
       "      <th></th>\n",
       "      <th>YEAR</th>\n",
       "      <th>FACTORY</th>\n",
       "      <th>MODEL</th>\n",
       "      <th>PART5_NAME</th>\n",
       "      <th>AF_YR_MTH</th>\n",
       "      <th>RO_YR_MTH</th>\n",
       "    </tr>\n",
       "  </thead>\n",
       "  <tbody>\n",
       "    <tr>\n",
       "      <th>0</th>\n",
       "      <td>2019</td>\n",
       "      <td>HMA</td>\n",
       "      <td>PASSPORT</td>\n",
       "      <td>00036 - COMPRESSOR</td>\n",
       "      <td>2019-09</td>\n",
       "      <td>2019-11</td>\n",
       "    </tr>\n",
       "    <tr>\n",
       "      <th>1</th>\n",
       "      <td>2019</td>\n",
       "      <td>ELP</td>\n",
       "      <td>RDX</td>\n",
       "      <td>04101 - SENSOR ASSY.</td>\n",
       "      <td>2018-10</td>\n",
       "      <td>2019-09</td>\n",
       "    </tr>\n",
       "    <tr>\n",
       "      <th>2</th>\n",
       "      <td>2019</td>\n",
       "      <td>MAP</td>\n",
       "      <td>CRV</td>\n",
       "      <td>04320 - PIGTAIL</td>\n",
       "      <td>2019-02</td>\n",
       "      <td>2019-11</td>\n",
       "    </tr>\n",
       "    <tr>\n",
       "      <th>3</th>\n",
       "      <td>2019</td>\n",
       "      <td>HMA</td>\n",
       "      <td>PILOT</td>\n",
       "      <td>04321 - CONNECTOR</td>\n",
       "      <td>2018-09</td>\n",
       "      <td>2019-02</td>\n",
       "    </tr>\n",
       "    <tr>\n",
       "      <th>4</th>\n",
       "      <td>2019</td>\n",
       "      <td>HMIN</td>\n",
       "      <td>CRV</td>\n",
       "      <td>04321 - CONNECTOR</td>\n",
       "      <td>2019-05</td>\n",
       "      <td>2019-11</td>\n",
       "    </tr>\n",
       "  </tbody>\n",
       "</table>\n",
       "</div>"
      ],
      "text/plain": [
       "   YEAR FACTORY     MODEL            PART5_NAME AF_YR_MTH RO_YR_MTH\n",
       "0  2019     HMA  PASSPORT    00036 - COMPRESSOR   2019-09   2019-11\n",
       "1  2019     ELP       RDX  04101 - SENSOR ASSY.   2018-10   2019-09\n",
       "2  2019     MAP       CRV       04320 - PIGTAIL   2019-02   2019-11\n",
       "3  2019     HMA     PILOT     04321 - CONNECTOR   2018-09   2019-02\n",
       "4  2019    HMIN       CRV     04321 - CONNECTOR   2019-05   2019-11"
      ]
     },
     "execution_count": 3,
     "metadata": {},
     "output_type": "execute_result"
    }
   ],
   "source": [
    "df.head()"
   ]
  },
  {
   "cell_type": "markdown",
   "metadata": {},
   "source": [
    "#### Let's replace underscores with spaces in column names so that we can replace them later in a pipeline"
   ]
  },
  {
   "cell_type": "code",
   "execution_count": 4,
   "metadata": {},
   "outputs": [],
   "source": [
    "df.columns = ['YEAR', 'FACTORY', 'MODEL', 'PART5 NAME', 'AF YR MTH', 'RO YR MTH']"
   ]
  },
  {
   "cell_type": "code",
   "execution_count": 5,
   "metadata": {},
   "outputs": [
    {
     "data": {
      "text/html": [
       "<div>\n",
       "<style scoped>\n",
       "    .dataframe tbody tr th:only-of-type {\n",
       "        vertical-align: middle;\n",
       "    }\n",
       "\n",
       "    .dataframe tbody tr th {\n",
       "        vertical-align: top;\n",
       "    }\n",
       "\n",
       "    .dataframe thead th {\n",
       "        text-align: right;\n",
       "    }\n",
       "</style>\n",
       "<table border=\"1\" class=\"dataframe\">\n",
       "  <thead>\n",
       "    <tr style=\"text-align: right;\">\n",
       "      <th></th>\n",
       "      <th>YEAR</th>\n",
       "      <th>FACTORY</th>\n",
       "      <th>MODEL</th>\n",
       "      <th>PART5 NAME</th>\n",
       "      <th>AF YR MTH</th>\n",
       "      <th>RO YR MTH</th>\n",
       "    </tr>\n",
       "  </thead>\n",
       "  <tbody>\n",
       "    <tr>\n",
       "      <th>0</th>\n",
       "      <td>2019</td>\n",
       "      <td>HMA</td>\n",
       "      <td>PASSPORT</td>\n",
       "      <td>00036 - COMPRESSOR</td>\n",
       "      <td>2019-09</td>\n",
       "      <td>2019-11</td>\n",
       "    </tr>\n",
       "    <tr>\n",
       "      <th>1</th>\n",
       "      <td>2019</td>\n",
       "      <td>ELP</td>\n",
       "      <td>RDX</td>\n",
       "      <td>04101 - SENSOR ASSY.</td>\n",
       "      <td>2018-10</td>\n",
       "      <td>2019-09</td>\n",
       "    </tr>\n",
       "    <tr>\n",
       "      <th>2</th>\n",
       "      <td>2019</td>\n",
       "      <td>MAP</td>\n",
       "      <td>CRV</td>\n",
       "      <td>04320 - PIGTAIL</td>\n",
       "      <td>2019-02</td>\n",
       "      <td>2019-11</td>\n",
       "    </tr>\n",
       "    <tr>\n",
       "      <th>3</th>\n",
       "      <td>2019</td>\n",
       "      <td>HMA</td>\n",
       "      <td>PILOT</td>\n",
       "      <td>04321 - CONNECTOR</td>\n",
       "      <td>2018-09</td>\n",
       "      <td>2019-02</td>\n",
       "    </tr>\n",
       "    <tr>\n",
       "      <th>4</th>\n",
       "      <td>2019</td>\n",
       "      <td>HMIN</td>\n",
       "      <td>CRV</td>\n",
       "      <td>04321 - CONNECTOR</td>\n",
       "      <td>2019-05</td>\n",
       "      <td>2019-11</td>\n",
       "    </tr>\n",
       "  </tbody>\n",
       "</table>\n",
       "</div>"
      ],
      "text/plain": [
       "   YEAR FACTORY     MODEL            PART5 NAME AF YR MTH RO YR MTH\n",
       "0  2019     HMA  PASSPORT    00036 - COMPRESSOR   2019-09   2019-11\n",
       "1  2019     ELP       RDX  04101 - SENSOR ASSY.   2018-10   2019-09\n",
       "2  2019     MAP       CRV       04320 - PIGTAIL   2019-02   2019-11\n",
       "3  2019     HMA     PILOT     04321 - CONNECTOR   2018-09   2019-02\n",
       "4  2019    HMIN       CRV     04321 - CONNECTOR   2019-05   2019-11"
      ]
     },
     "execution_count": 5,
     "metadata": {},
     "output_type": "execute_result"
    }
   ],
   "source": [
    "df.head()"
   ]
  },
  {
   "cell_type": "markdown",
   "metadata": {},
   "source": [
    "Let's assume that the above is our data set.  Let's also assume we now want to apply some transformations or clean-up to this data set:\n",
    "\n",
    "- Make column names lower case\n",
    "- Replace space in the column names with underscore\n",
    "- Remove the 'model' column from the data set"
   ]
  },
  {
   "cell_type": "markdown",
   "metadata": {},
   "source": [
    "We can next define functions that will apply those transformations or clean-ups."
   ]
  },
  {
   "cell_type": "markdown",
   "metadata": {},
   "source": [
    "### Typical clean-up functions to be used in a pipeline"
   ]
  },
  {
   "cell_type": "code",
   "execution_count": 6,
   "metadata": {},
   "outputs": [],
   "source": [
    "def start_pipeline(df: DataFrame) -> DataFrame:\n",
    "    '''Make a copy of the dataframe that is being used in a pipeline\n",
    "       To preserve \"idempotency\" (subsequent output of each re-run remains the same),\n",
    "       it is usually best practice to make a copy of the data at the start of the pipeline\n",
    "       Since this is \"in-memory\", you should not do this with a very large data set\n",
    "       \n",
    "    Parameters\n",
    "    ----------\n",
    "    df : pandas DataFrame\n",
    "        DataFrame of the untouched/original data\n",
    "    \n",
    "    Returns\n",
    "    -------\n",
    "    Pandas DataFrame\n",
    "    '''\n",
    "    \n",
    "    return df.copy()\n",
    "\n",
    "def columns_lower(df: DataFrame) -> DataFrame:\n",
    "    '''Make all column names lower case\n",
    "    \n",
    "    Parameters\n",
    "    ----------\n",
    "    df : pandas DataFrame\n",
    "    \n",
    "    Returns\n",
    "    -------\n",
    "    pandas DataFrame\n",
    "    \n",
    "    '''\n",
    "    \n",
    "    df.columns = [column.lower() for column in df.columns]\n",
    "    return df\n",
    "\n",
    "def replace_space_with_underscore(df: DataFrame) -> DataFrame:\n",
    "    '''Replace space in column names with an underscore character\n",
    "    \n",
    "    Parameters\n",
    "    ----------\n",
    "    df : pandas DataFrame\n",
    "    \n",
    "    Returns\n",
    "    -------\n",
    "    pandas DataFrame\n",
    "    \n",
    "    '''\n",
    "    \n",
    "    df.columns = [column.strip().replace(' ', '_') for column in df.columns]\n",
    "    return df\n",
    "\n",
    "def drop_columns(df: DataFrame, column_names: List[str]) -> DataFrame:\n",
    "    '''Drop or remove column(s) from a data frame\n",
    "    \n",
    "    Parameters\n",
    "    ----------\n",
    "    df : pandas DataFrame\n",
    "    column_names : List[str]\n",
    "        A list of column names that will be dropped/removed\n",
    "        \n",
    "    Returns\n",
    "    -------\n",
    "    pandas DataFrame\n",
    "    '''\n",
    "    \n",
    "    df = df.drop(columns=column_names)\n",
    "    return df"
   ]
  },
  {
   "cell_type": "code",
   "execution_count": 7,
   "metadata": {},
   "outputs": [
    {
     "data": {
      "text/html": [
       "<div>\n",
       "<style scoped>\n",
       "    .dataframe tbody tr th:only-of-type {\n",
       "        vertical-align: middle;\n",
       "    }\n",
       "\n",
       "    .dataframe tbody tr th {\n",
       "        vertical-align: top;\n",
       "    }\n",
       "\n",
       "    .dataframe thead th {\n",
       "        text-align: right;\n",
       "    }\n",
       "</style>\n",
       "<table border=\"1\" class=\"dataframe\">\n",
       "  <thead>\n",
       "    <tr style=\"text-align: right;\">\n",
       "      <th></th>\n",
       "      <th>year</th>\n",
       "      <th>factory</th>\n",
       "      <th>part5_name</th>\n",
       "      <th>af_yr_mth</th>\n",
       "      <th>ro_yr_mth</th>\n",
       "    </tr>\n",
       "  </thead>\n",
       "  <tbody>\n",
       "    <tr>\n",
       "      <th>0</th>\n",
       "      <td>2019</td>\n",
       "      <td>HMA</td>\n",
       "      <td>00036 - COMPRESSOR</td>\n",
       "      <td>2019-09</td>\n",
       "      <td>2019-11</td>\n",
       "    </tr>\n",
       "    <tr>\n",
       "      <th>1</th>\n",
       "      <td>2019</td>\n",
       "      <td>ELP</td>\n",
       "      <td>04101 - SENSOR ASSY.</td>\n",
       "      <td>2018-10</td>\n",
       "      <td>2019-09</td>\n",
       "    </tr>\n",
       "    <tr>\n",
       "      <th>2</th>\n",
       "      <td>2019</td>\n",
       "      <td>MAP</td>\n",
       "      <td>04320 - PIGTAIL</td>\n",
       "      <td>2019-02</td>\n",
       "      <td>2019-11</td>\n",
       "    </tr>\n",
       "    <tr>\n",
       "      <th>3</th>\n",
       "      <td>2019</td>\n",
       "      <td>HMA</td>\n",
       "      <td>04321 - CONNECTOR</td>\n",
       "      <td>2018-09</td>\n",
       "      <td>2019-02</td>\n",
       "    </tr>\n",
       "    <tr>\n",
       "      <th>4</th>\n",
       "      <td>2019</td>\n",
       "      <td>HMIN</td>\n",
       "      <td>04321 - CONNECTOR</td>\n",
       "      <td>2019-05</td>\n",
       "      <td>2019-11</td>\n",
       "    </tr>\n",
       "  </tbody>\n",
       "</table>\n",
       "</div>"
      ],
      "text/plain": [
       "   year factory            part5_name af_yr_mth ro_yr_mth\n",
       "0  2019     HMA    00036 - COMPRESSOR   2019-09   2019-11\n",
       "1  2019     ELP  04101 - SENSOR ASSY.   2018-10   2019-09\n",
       "2  2019     MAP       04320 - PIGTAIL   2019-02   2019-11\n",
       "3  2019     HMA     04321 - CONNECTOR   2018-09   2019-02\n",
       "4  2019    HMIN     04321 - CONNECTOR   2019-05   2019-11"
      ]
     },
     "execution_count": 7,
     "metadata": {},
     "output_type": "execute_result"
    }
   ],
   "source": [
    "(df\n",
    " .pipe(start_pipeline)\n",
    " .pipe(columns_lower)\n",
    " .pipe(replace_space_with_underscore)\n",
    " .pipe(drop_columns, column_names=['model'])\n",
    ").head()"
   ]
  },
  {
   "cell_type": "code",
   "execution_count": 9,
   "metadata": {},
   "outputs": [],
   "source": [
    "cleaned_df = \\\n",
    "(df\n",
    " .pipe(start_pipeline)\n",
    " .pipe(columns_lower)\n",
    " .pipe(replace_space_with_underscore)\n",
    " .pipe(drop_columns, column_names=['model'])\n",
    ").head()"
   ]
  },
  {
   "cell_type": "code",
   "execution_count": 10,
   "metadata": {},
   "outputs": [
    {
     "data": {
      "text/html": [
       "<div>\n",
       "<style scoped>\n",
       "    .dataframe tbody tr th:only-of-type {\n",
       "        vertical-align: middle;\n",
       "    }\n",
       "\n",
       "    .dataframe tbody tr th {\n",
       "        vertical-align: top;\n",
       "    }\n",
       "\n",
       "    .dataframe thead th {\n",
       "        text-align: right;\n",
       "    }\n",
       "</style>\n",
       "<table border=\"1\" class=\"dataframe\">\n",
       "  <thead>\n",
       "    <tr style=\"text-align: right;\">\n",
       "      <th></th>\n",
       "      <th>year</th>\n",
       "      <th>factory</th>\n",
       "      <th>part5_name</th>\n",
       "      <th>af_yr_mth</th>\n",
       "      <th>ro_yr_mth</th>\n",
       "    </tr>\n",
       "  </thead>\n",
       "  <tbody>\n",
       "    <tr>\n",
       "      <th>0</th>\n",
       "      <td>2019</td>\n",
       "      <td>HMA</td>\n",
       "      <td>00036 - COMPRESSOR</td>\n",
       "      <td>2019-09</td>\n",
       "      <td>2019-11</td>\n",
       "    </tr>\n",
       "    <tr>\n",
       "      <th>1</th>\n",
       "      <td>2019</td>\n",
       "      <td>ELP</td>\n",
       "      <td>04101 - SENSOR ASSY.</td>\n",
       "      <td>2018-10</td>\n",
       "      <td>2019-09</td>\n",
       "    </tr>\n",
       "    <tr>\n",
       "      <th>2</th>\n",
       "      <td>2019</td>\n",
       "      <td>MAP</td>\n",
       "      <td>04320 - PIGTAIL</td>\n",
       "      <td>2019-02</td>\n",
       "      <td>2019-11</td>\n",
       "    </tr>\n",
       "    <tr>\n",
       "      <th>3</th>\n",
       "      <td>2019</td>\n",
       "      <td>HMA</td>\n",
       "      <td>04321 - CONNECTOR</td>\n",
       "      <td>2018-09</td>\n",
       "      <td>2019-02</td>\n",
       "    </tr>\n",
       "    <tr>\n",
       "      <th>4</th>\n",
       "      <td>2019</td>\n",
       "      <td>HMIN</td>\n",
       "      <td>04321 - CONNECTOR</td>\n",
       "      <td>2019-05</td>\n",
       "      <td>2019-11</td>\n",
       "    </tr>\n",
       "  </tbody>\n",
       "</table>\n",
       "</div>"
      ],
      "text/plain": [
       "   year factory            part5_name af_yr_mth ro_yr_mth\n",
       "0  2019     HMA    00036 - COMPRESSOR   2019-09   2019-11\n",
       "1  2019     ELP  04101 - SENSOR ASSY.   2018-10   2019-09\n",
       "2  2019     MAP       04320 - PIGTAIL   2019-02   2019-11\n",
       "3  2019     HMA     04321 - CONNECTOR   2018-09   2019-02\n",
       "4  2019    HMIN     04321 - CONNECTOR   2019-05   2019-11"
      ]
     },
     "execution_count": 10,
     "metadata": {},
     "output_type": "execute_result"
    }
   ],
   "source": [
    "cleaned_df"
   ]
  },
  {
   "cell_type": "markdown",
   "metadata": {},
   "source": [
    "#### Since in our pipeline we've made a copy of the original dataframe, we can see what the data looked like originally:"
   ]
  },
  {
   "cell_type": "code",
   "execution_count": 11,
   "metadata": {},
   "outputs": [
    {
     "data": {
      "text/html": [
       "<div>\n",
       "<style scoped>\n",
       "    .dataframe tbody tr th:only-of-type {\n",
       "        vertical-align: middle;\n",
       "    }\n",
       "\n",
       "    .dataframe tbody tr th {\n",
       "        vertical-align: top;\n",
       "    }\n",
       "\n",
       "    .dataframe thead th {\n",
       "        text-align: right;\n",
       "    }\n",
       "</style>\n",
       "<table border=\"1\" class=\"dataframe\">\n",
       "  <thead>\n",
       "    <tr style=\"text-align: right;\">\n",
       "      <th></th>\n",
       "      <th>YEAR</th>\n",
       "      <th>FACTORY</th>\n",
       "      <th>MODEL</th>\n",
       "      <th>PART5 NAME</th>\n",
       "      <th>AF YR MTH</th>\n",
       "      <th>RO YR MTH</th>\n",
       "    </tr>\n",
       "  </thead>\n",
       "  <tbody>\n",
       "    <tr>\n",
       "      <th>0</th>\n",
       "      <td>2019</td>\n",
       "      <td>HMA</td>\n",
       "      <td>PASSPORT</td>\n",
       "      <td>00036 - COMPRESSOR</td>\n",
       "      <td>2019-09</td>\n",
       "      <td>2019-11</td>\n",
       "    </tr>\n",
       "    <tr>\n",
       "      <th>1</th>\n",
       "      <td>2019</td>\n",
       "      <td>ELP</td>\n",
       "      <td>RDX</td>\n",
       "      <td>04101 - SENSOR ASSY.</td>\n",
       "      <td>2018-10</td>\n",
       "      <td>2019-09</td>\n",
       "    </tr>\n",
       "    <tr>\n",
       "      <th>2</th>\n",
       "      <td>2019</td>\n",
       "      <td>MAP</td>\n",
       "      <td>CRV</td>\n",
       "      <td>04320 - PIGTAIL</td>\n",
       "      <td>2019-02</td>\n",
       "      <td>2019-11</td>\n",
       "    </tr>\n",
       "    <tr>\n",
       "      <th>3</th>\n",
       "      <td>2019</td>\n",
       "      <td>HMA</td>\n",
       "      <td>PILOT</td>\n",
       "      <td>04321 - CONNECTOR</td>\n",
       "      <td>2018-09</td>\n",
       "      <td>2019-02</td>\n",
       "    </tr>\n",
       "    <tr>\n",
       "      <th>4</th>\n",
       "      <td>2019</td>\n",
       "      <td>HMIN</td>\n",
       "      <td>CRV</td>\n",
       "      <td>04321 - CONNECTOR</td>\n",
       "      <td>2019-05</td>\n",
       "      <td>2019-11</td>\n",
       "    </tr>\n",
       "  </tbody>\n",
       "</table>\n",
       "</div>"
      ],
      "text/plain": [
       "   YEAR FACTORY     MODEL            PART5 NAME AF YR MTH RO YR MTH\n",
       "0  2019     HMA  PASSPORT    00036 - COMPRESSOR   2019-09   2019-11\n",
       "1  2019     ELP       RDX  04101 - SENSOR ASSY.   2018-10   2019-09\n",
       "2  2019     MAP       CRV       04320 - PIGTAIL   2019-02   2019-11\n",
       "3  2019     HMA     PILOT     04321 - CONNECTOR   2018-09   2019-02\n",
       "4  2019    HMIN       CRV     04321 - CONNECTOR   2019-05   2019-11"
      ]
     },
     "execution_count": 11,
     "metadata": {},
     "output_type": "execute_result"
    }
   ],
   "source": [
    "df.head()"
   ]
  }
 ],
 "metadata": {
  "hide_input": false,
  "kernelspec": {
   "display_name": "Python 3",
   "language": "python",
   "name": "python3"
  },
  "language_info": {
   "codemirror_mode": {
    "name": "ipython",
    "version": 3
   },
   "file_extension": ".py",
   "mimetype": "text/x-python",
   "name": "python",
   "nbconvert_exporter": "python",
   "pygments_lexer": "ipython3",
   "version": "3.7.6"
  },
  "varInspector": {
   "cols": {
    "lenName": 16,
    "lenType": 16,
    "lenVar": 40
   },
   "kernels_config": {
    "python": {
     "delete_cmd_postfix": "",
     "delete_cmd_prefix": "del ",
     "library": "var_list.py",
     "varRefreshCmd": "print(var_dic_list())"
    },
    "r": {
     "delete_cmd_postfix": ") ",
     "delete_cmd_prefix": "rm(",
     "library": "var_list.r",
     "varRefreshCmd": "cat(var_dic_list()) "
    }
   },
   "types_to_exclude": [
    "module",
    "function",
    "builtin_function_or_method",
    "instance",
    "_Feature"
   ],
   "window_display": false
  }
 },
 "nbformat": 4,
 "nbformat_minor": 4
}
