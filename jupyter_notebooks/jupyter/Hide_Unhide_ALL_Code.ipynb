{
 "cells": [
  {
   "cell_type": "markdown",
   "metadata": {},
   "source": [
    "# To Hide/Un-hide ALL Code"
   ]
  },
  {
   "cell_type": "markdown",
   "metadata": {},
   "source": [
    "### via html button:"
   ]
  },
  {
   "cell_type": "code",
   "execution_count": 1,
   "metadata": {},
   "outputs": [
    {
     "data": {
      "text/html": [
       "<script>\n",
       "code_show=true; \n",
       "function code_toggle() {\n",
       " if (code_show){\n",
       " $('div.input').hide();\n",
       " $('div.output_prompt').css('opacity', 0);  // do not show output prompt\n",
       " } else {\n",
       " $('div.input').show();\n",
       " }\n",
       " code_show = !code_show\n",
       "} \n",
       "$( document ).ready(code_toggle);\n",
       "</script>\n",
       "<form action=\"javascript:code_toggle()\"><input type=\"submit\" value=\"Click here to toggle on/off the raw code.\"></form>"
      ],
      "text/plain": [
       "<IPython.core.display.HTML object>"
      ]
     },
     "execution_count": 1,
     "metadata": {},
     "output_type": "execute_result"
    }
   ],
   "source": [
    "from IPython.display import HTML\n",
    "HTML('''<script>\n",
    "code_show=true; \n",
    "function code_toggle() {\n",
    " if (code_show){\n",
    " $('div.input').hide();\n",
    " $('div.output_prompt').css('opacity', 0);  // do not show output prompt\n",
    " } else {\n",
    " $('div.input').show();\n",
    " }\n",
    " code_show = !code_show\n",
    "} \n",
    "$( document ).ready(code_toggle);\n",
    "</script>\n",
    "<form action=\"javascript:code_toggle()\"><input type=\"submit\" value=\"Click here to toggle on/off the raw code.\"></form>''')"
   ]
  },
  {
   "cell_type": "markdown",
   "metadata": {},
   "source": [
    "### via plain html link/text:"
   ]
  },
  {
   "cell_type": "code",
   "execution_count": 6,
   "metadata": {},
   "outputs": [
    {
     "data": {
      "text/html": [
       "<script>\n",
       "code_show=true; \n",
       "function code_toggle() {\n",
       " if (code_show){\n",
       " $('div.input').hide();\n",
       " } else {\n",
       " $('div.input').show();\n",
       " }\n",
       " code_show = !code_show\n",
       "} \n",
       "$( document ).ready(code_toggle);\n",
       "</script>\n",
       "By default, the code is hidden. Click <a href=\"javascript:code_toggle()\">here</a> toggle on/off the raw code."
      ],
      "text/plain": [
       "<IPython.core.display.HTML object>"
      ]
     },
     "execution_count": 6,
     "metadata": {},
     "output_type": "execute_result"
    }
   ],
   "source": [
    "from IPython.display import HTML\n",
    "HTML('''<script>\n",
    "code_show=true; \n",
    "function code_toggle() {\n",
    " if (code_show){\n",
    " $('div.input').hide();\n",
    " } else {\n",
    " $('div.input').show();\n",
    " }\n",
    " code_show = !code_show\n",
    "} \n",
    "$( document ).ready(code_toggle);\n",
    "</script>\n",
    "By default, the code is hidden. Click <a href=\"javascript:code_toggle()\">here</a> toggle on/off the raw code.''')"
   ]
  },
  {
   "cell_type": "code",
   "execution_count": 2,
   "metadata": {},
   "outputs": [
    {
     "name": "stdout",
     "output_type": "stream",
     "text": [
      "hello\n"
     ]
    }
   ],
   "source": [
    "print(\"hello\")"
   ]
  },
  {
   "cell_type": "markdown",
   "metadata": {},
   "source": [
    "# Alternative: via nbcovert command - [readthedocs](https://jupyter-contrib-nbextensions.readthedocs.io/en/latest/exporting.html#nbextensions-tpl)"
   ]
  },
  {
   "cell_type": "markdown",
   "metadata": {},
   "source": [
    "Using hide_input extension, hide desired input cell(s).  Then save notebook.  Then do:"
   ]
  },
  {
   "cell_type": "markdown",
   "metadata": {},
   "source": [
    "from command line:<br>\n",
    "```jupyter nbconvert --to html --template=nbextension.tpl your_notebook.ipynb```"
   ]
  },
  {
   "cell_type": "markdown",
   "metadata": {},
   "source": [
    "The .tpl files can usually be found at: ```/path_to_your_environment_folder/lib/python3.x/site-packages/jupyter_contrib_nbextensions/templates```"
   ]
  },
  {
   "cell_type": "markdown",
   "metadata": {},
   "source": [
    "# If you want to add a checkbox to toggle input cells - here is a [repo](https://github.com/mpacer/hiding_tags_nbconvert) of a \"hack\""
   ]
  },
  {
   "cell_type": "markdown",
   "metadata": {},
   "source": [
    "**Currently, there isn't an easy way to add cell metadata tags (via GUI).  For now, you'll have to manually type them.**"
   ]
  },
  {
   "cell_type": "markdown",
   "metadata": {},
   "source": [
    "Open up a notebook in JupyerLab. Select the cell you wish to toggle with a check box.  Then over on the left, click on \"Cell Tools\" tab.  Then under \"Edit Metadata\" enter:<br>\n",
    "```javascript\n",
    "    {\n",
    "        \"tags\": [\"jupyter:hide_input\"]\n",
    "    }```\n",
    "If you wanted to hide output cells instead, then replace \"jupyter:hide_input\" with \"jupyter:hide_output\".  If you look at the contents of the .tpl file below, you will see why.<br><br>\n",
    "Then save the notebook.  Then at the command prompt:<br>\n",
    "```jupyter nbconvert --to html --template=toggle_hidden.tpl your_notebook.ipynb``` where you clone or download the ```toggle_hidden.tpl``` file from that repo referenced above.<br><br>\n",
    "**NOTE:** By default, the input cell will be checked/hidden.  To make your input cell visible/checkbox unchecked by default, then modify the ```toggle_hidden.tpl``` file:"
   ]
  },
  {
   "cell_type": "markdown",
   "metadata": {},
   "source": [
    "Below is the top portion of the toggle_hidden.tpl file.<br><br>Change where it says ```<input class=\"hide_input\" type=\"checkbox\" checked>``` (line # 16) to ```<input class=\"hide_input\" type=\"checkbox\" unchecked>```"
   ]
  },
  {
   "cell_type": "markdown",
   "metadata": {},
   "source": [
    "```javascript\n",
    "{%- extends 'full.tpl' -%}\n",
    "\n",
    "{%- block any_cell -%}\n",
    "{%- if 'jupyter:hide_cell' in cell.metadata.get(\"tags\",[]) -%}\n",
    "    <div class=\"hidden_cell\">\n",
    "    <input class=\"hide_cell\" type=\"checkbox\" checked></input>\n",
    "        {{super() }}\n",
    "    </div>\n",
    "{%- elif 'jupyter:hide_output' in cell.metadata.get(\"tags\",[]) and cell.cell_type == 'code'-%}\n",
    "    <div class=\"hide_output_cell\">\n",
    "    <input class=\"hide_output\" type=\"checkbox\" checked></input>\n",
    "        {{super() }}\n",
    "    </div>\n",
    "{%- elif 'jupyter:hide_input' in cell.metadata.get(\"tags\",[]) and cell.cell_type == 'code'-%}\n",
    "    <div class=\"hide_input_cell\">\n",
    "    <input class=\"hide_input\" type=\"checkbox\" checked></input>\n",
    "        {{super() }}\n",
    "    </div>\n",
    "{%- else -%}\n",
    "    {{ super() }}\n",
    "{%- endif -%}\n",
    "{%- endblock any_cell -%}\n",
    "```"
   ]
  }
 ],
 "metadata": {
  "hide_input": false,
  "kernelspec": {
   "display_name": "Python 3",
   "language": "python",
   "name": "python3"
  },
  "language_info": {
   "codemirror_mode": {
    "name": "ipython",
    "version": 3
   },
   "file_extension": ".py",
   "mimetype": "text/x-python",
   "name": "python",
   "nbconvert_exporter": "python",
   "pygments_lexer": "ipython3",
   "version": "3.6.5"
  },
  "varInspector": {
   "cols": {
    "lenName": 16,
    "lenType": 16,
    "lenVar": 40
   },
   "kernels_config": {
    "python": {
     "delete_cmd_postfix": "",
     "delete_cmd_prefix": "del ",
     "library": "var_list.py",
     "varRefreshCmd": "print(var_dic_list())"
    },
    "r": {
     "delete_cmd_postfix": ") ",
     "delete_cmd_prefix": "rm(",
     "library": "var_list.r",
     "varRefreshCmd": "cat(var_dic_list()) "
    }
   },
   "types_to_exclude": [
    "module",
    "function",
    "builtin_function_or_method",
    "instance",
    "_Feature"
   ],
   "window_display": false
  }
 },
 "nbformat": 4,
 "nbformat_minor": 1
}
