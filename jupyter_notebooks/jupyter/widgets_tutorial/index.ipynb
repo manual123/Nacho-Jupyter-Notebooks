{
 "cells": [
  {
   "cell_type": "markdown",
   "metadata": {},
   "source": [
    "# The Jupyter Interactive Widget Ecosystem \n",
    "\n",
    "## SciPy 2019\n",
    "## Jason Grout, Matt Craig, Martin Renou and Maarten Breddels\n",
    "\n",
    "This tutorial will introduce you to the widgets in the Jupyter notebook, walk through a few approaches to writing widgets, and introduce some relatively new widget packages.\n",
    "\n",
    "We are using ipywidgets 7.5 and Jupyter Lab 1.01 but almost all of the notebooks will work with ipywidgets 7.4"
   ]
  },
  {
   "cell_type": "markdown",
   "metadata": {},
   "source": [
    "00. [Introduction](00.00-introduction.ipynb)\n",
    "01. [Overview](01.00-overview.ipynb)\n",
    "02. [Widgets without writing widgets: interact](02.00-Using%20Interact.ipynb)\n",
    "    01. [Interact Exercises](02.01-interact-exercises.ipynb)\n",
    "03. [Simple Widget Introduction](03.00-Widget_Basics.ipynb)\n",
    "04. [Widgets in the core ipywidgets package](04.00-widget-list.ipynb)\n",
    "    02. [Output widgets: leveraging Jupyter's display system](04.02-more-on-output-widget.ipynb)\n",
    "05. [Exercises](05.00-interact%20and%20widget%20basics%20exercises.ipynb)\n",
    "06. [Layout and Styling of Jupyter widgets](06.00-Layout-and-Styling-Overview.ipynb)\n",
    "    01. [Layout and Styling of Jupyter widgets](06.01-Widget_Layout.ipynb)\n",
    "    05. [Using Layout Templates](06.05-higher-level-containers.ipynb)\n",
    "    07. [Widget label styling](06.07-widget-labels.ipynb)\n",
    "    09. [Predefined styles](06.09-Widget-Styling.ipynb)\n",
    "07. [*OPTIONAL* widget layout exercises](07.00-OPTIONAL-container-exercises.ipynb)\n",
    "08. [Widget Events](08.00-Widget_Events.ipynb)\n",
    "09. [*OPTIONAL* Three approaches to events](09.00-OPTIONAL-Widget%20Events%202.ipynb)\n",
    "    01. [*OPTIONAL* Password generator: `observe`](09.01-OPTIONAL-Widget%20Events%202%20--%20bad%20password%20generator,%20version%201.ipynb)\n",
    "    02. [*OPTIONAL* Separating the logic from the widgets](09.02-OPTIONAL-Widget%20Events%202%20--%20Separating%20Concerns.ipynb)\n",
    "    03. [*OPTIONAL* Separating the logic using classes](09.03-OPTIONAL-Widget%20Events%202--Separating%20concerns,%20object%20oriented.ipynb)\n",
    "10. [More widget libraries](10.00-More%20widget%20libraries.ipynb)\n",
    "    01. [ipyleaflet: Interactive maps](10.01-ipyleaflet.ipynb)\n",
    "    02. [pythreejs: 3D rendering in the browser](10.02-pythreejs.ipynb)\n",
    "    03. [ipympl: The Matplotlib Jupyter Widget Backend](10.03-ipympl.ipynb)\n",
    "    04. [ipytree: Interactive tree view based on ipywidgets](10.04-ipytree.ipynb)\n",
    "    05. [ipysheet: Interactive spreadsheets for the Jupyter Notebook](10.05-ipysheet.ipynb)\n",
    "    06. [ipycanvas: Interactive Canvas](10.06-ipycanvas.ipynb)\n",
    "    07. [bqplot: complex interactive visualizations](10.07-bqplot.ipynb)\n",
    "    08. [ipyvolume: 3D plotting in the notebook](10.08-ipyvolume.ipynb)\n",
    "    09. [ipywebrtc: Video streaming](10.09-ipywebrtc.ipynb)\n",
    "    10. [Vaex - Out of core dataframes](10.10-vaex.ipynb)\n",
    "    11. [Ipyvuetify](10.11-ipyvuetify.ipynb)\n",
    "    20. [*OPTIONAL* Astronomical widget libraries](10.20-OPTIONAL-astro-libraries.ipynb)\n",
    "    30. [*OPTIONAL* Demo: Reactive plot with multiple regressions](10.30-OPTIONAL-bqplot--A--Penalized%20regression.ipynb)\n",
    "    40. [*OPTIONAL* Exercise: Using one plot as a control for another](10.40-OPTIONAL-bqplot-A%20plot%20as%20a%20control%20in%20a%20widget.ipynb)\n",
    "    50. [*OPTIONAL* Input Widgets and Geospatial Data Analysis](10.50-OPTIONAL-flight-sim.ipynb)\n",
    "11. [Dashboarding with widgets](11.00-voila.ipynb)\n",
    "    01. [So easy, *voilà*!](11.01-voila-basics.ipynb)\n",
    "    02. [Deploying voilà](11.02-voila-vuetify.ipynb)"
   ]
  },
  {
   "cell_type": "markdown",
   "metadata": {},
   "source": [
    "## [Table of widget and style properties](Table%20of%20widget%20keys%20and%20style%20keys.ipynb)"
   ]
  },
  {
   "cell_type": "markdown",
   "metadata": {},
   "source": [
    "# Acknowledgements\n",
    "\n",
    "+ Special thanks to the dozens of [ipywidgets developers](https://github.com/jupyter-widgets/ipywidgets/graphs/contributors), including Jonathan Frederic who wrote much of the code in the early years of ipywidgets.\n",
    "+ Several of the notebooks in this tutorial were originally developed as part of [ipywidgets](http://ipywidgets.readthedocs.io/en/latest/) by Brian E. Granger ([@ellisonbg](https://github.com/ellisonbg)) and Jonathan Frederic ([@jdfreder](https://github.com/jdfreder)).\n",
    "+ Thanks to Doug Redden ([@DougRzz](https://github.com/DougRzz))\n",
    "+ Project Jupyter core developer Carol Willing ([@willingc](https://github.com/willingc)) and [Minnesota State University Moorhead](http://physics.mnstate.edu) students Andrew Block ([@ACBlock](https://github.com/ACBlock)) and Jane Glanzer ([@janeglanzer](https://github.com/janeglanzer)) provided very useful feedback on early drafts of this tutorial.\n"
   ]
  }
 ],
 "metadata": {
  "kernelspec": {
   "display_name": "widgets-tutorial",
   "language": "python",
   "name": "widgets-tutorial"
  },
  "language_info": {
   "codemirror_mode": {
    "name": "ipython",
    "version": 3
   },
   "file_extension": ".py",
   "mimetype": "text/x-python",
   "name": "python",
   "nbconvert_exporter": "python",
   "pygments_lexer": "ipython3",
   "version": "3.7.3"
  }
 },
 "nbformat": 4,
 "nbformat_minor": 4
}
