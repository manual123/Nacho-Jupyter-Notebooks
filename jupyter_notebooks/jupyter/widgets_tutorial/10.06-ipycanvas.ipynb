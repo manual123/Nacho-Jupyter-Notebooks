{
 "cells": [
  {
   "cell_type": "markdown",
   "metadata": {},
   "source": [
    "# ipycanvas: Interactive Canvas\n",
    "\n",
    "## https://github.com/martinRenou/ipycanvas\n",
    "\n",
    "Interactive widgets library exposing the browser's Canvas API\n",
    "\n",
    "- BSD 3-Clause Licensed\n",
    "\n",
    "**Installation:**\n",
    "\n",
    "ipycanvas was released just a couple of days ago, so it was not included in the install instructions for the tutorial.\n",
    "\n",
    "```bash\n",
    "pip install ipycanvas\n",
    "\n",
    "# If using JupyterLab\n",
    "jupyter labextension install ipycanvas\n",
    "```"
   ]
  },
  {
   "cell_type": "code",
   "execution_count": null,
   "metadata": {},
   "outputs": [],
   "source": [
    "from math import pi\n",
    "\n",
    "import ipycanvas"
   ]
  },
  {
   "cell_type": "code",
   "execution_count": null,
   "metadata": {},
   "outputs": [],
   "source": [
    "c = ipycanvas.Canvas(size=(200, 200))\n",
    "\n",
    "c"
   ]
  },
  {
   "cell_type": "code",
   "execution_count": null,
   "metadata": {},
   "outputs": [],
   "source": [
    "# Draw simple triangle shape\n",
    "c.begin_path()\n",
    "c.move_to(75, 50)\n",
    "c.line_to(100, 75)\n",
    "c.line_to(100, 25)\n",
    "c.fill()"
   ]
  },
  {
   "cell_type": "code",
   "execution_count": null,
   "metadata": {},
   "outputs": [],
   "source": [
    "c = ipycanvas.Canvas(stroke_style='red', size=(200, 200))\n",
    "\n",
    "# Draw smiley face\n",
    "c.begin_path()\n",
    "c.arc(75, 75, 50, 0, pi * 2, True) # Outer circle\n",
    "c.move_to(110, 75)\n",
    "c.arc(75, 75, 35, 0, pi, False) # Mouth (clockwise)\n",
    "c.move_to(65, 65)\n",
    "c.arc(60, 65, 5, 0, pi * 2, True) # Left eye\n",
    "c.move_to(95, 65)\n",
    "c.arc(90, 65, 5, 0, pi * 2, True) # Right eye\n",
    "c.stroke()\n",
    "\n",
    "c"
   ]
  },
  {
   "cell_type": "code",
   "execution_count": null,
   "metadata": {},
   "outputs": [],
   "source": [
    "c"
   ]
  },
  {
   "cell_type": "code",
   "execution_count": null,
   "metadata": {},
   "outputs": [],
   "source": [
    "c = ipycanvas.Canvas(size=(200, 200))\n",
    "\n",
    "# Draw bubble\n",
    "c.begin_path()\n",
    "c.move_to(75, 25)\n",
    "c.quadratic_curve_to(25, 25, 25, 62.5)\n",
    "c.quadratic_curve_to(25, 100, 50, 100)\n",
    "c.quadratic_curve_to(50, 120, 30, 125)\n",
    "c.quadratic_curve_to(60, 120, 65, 100)\n",
    "c.quadratic_curve_to(125, 100, 125, 62.5)\n",
    "c.quadratic_curve_to(125, 25, 75, 25)\n",
    "c.stroke()\n",
    "\n",
    "c"
   ]
  },
  {
   "cell_type": "code",
   "execution_count": null,
   "metadata": {},
   "outputs": [],
   "source": [
    "def rounded_rect(c, x, y, width, height, radius):\n",
    "    c.begin_path()\n",
    "    c.move_to(x, y + radius)\n",
    "    c.line_to(x, y + height - radius)\n",
    "    c.arc_to(x, y + height, x + radius, y + height, radius)\n",
    "    c.line_to(x + width - radius, y + height)\n",
    "    c.arc_to(x + width, y + height, x + width, y + height - radius, radius)\n",
    "    c.line_to(x + width, y + radius)\n",
    "    c.arc_to(x + width, y, x + width - radius, y, radius)\n",
    "    c.line_to(x + radius, y)\n",
    "    c.arc_to(x, y, x, y + radius, radius)\n",
    "    c.stroke()"
   ]
  },
  {
   "cell_type": "code",
   "execution_count": null,
   "metadata": {},
   "outputs": [],
   "source": [
    "c = ipycanvas.Canvas(size=(150, 150))\n",
    "\n",
    "rounded_rect(c, 12, 12, 150, 150, 15)\n",
    "rounded_rect(c, 19, 19, 150, 150, 9)\n",
    "rounded_rect(c, 53, 53, 49, 33, 10)\n",
    "rounded_rect(c, 53, 119, 49, 16, 6)\n",
    "rounded_rect(c, 135, 53, 49, 33, 10)\n",
    "rounded_rect(c, 135, 119, 25, 49, 10)\n",
    "\n",
    "c.begin_path()\n",
    "c.arc(37, 37, 13, pi / 7, -pi / 7, False)\n",
    "c.line_to(31, 37)\n",
    "c.fill()\n",
    "\n",
    "for i in range(8):\n",
    "    c.fill_rect(51 + i * 16, 35, 4, 4)\n",
    "\n",
    "for i in range(6):\n",
    "    c.fill_rect(115, 51 + i * 16, 4, 4)\n",
    "\n",
    "for i in range(8):\n",
    "    c.fill_rect(51 + i * 16, 99, 4, 4)\n",
    "\n",
    "c.begin_path()\n",
    "c.move_to(83, 116)\n",
    "c.line_to(83, 102)\n",
    "c.bezier_curve_to(83, 94, 89, 88, 97, 88)\n",
    "c.bezier_curve_to(105, 88, 111, 94, 111, 102)\n",
    "c.line_to(111, 116)\n",
    "c.line_to(106.333, 111.333)\n",
    "c.line_to(101.666, 116)\n",
    "c.line_to(97, 111.333)\n",
    "c.line_to(92.333, 116)\n",
    "c.line_to(87.666, 111.333)\n",
    "c.line_to(83, 116)\n",
    "c.fill()\n",
    "\n",
    "c.fill_style = 'white'\n",
    "c.begin_path()\n",
    "c.move_to(91, 96)\n",
    "c.bezier_curve_to(88, 96, 87, 99, 87, 101)\n",
    "c.bezier_curve_to(87, 103, 88, 106, 91, 106)\n",
    "c.bezier_curve_to(94, 106, 95, 103, 95, 101)\n",
    "c.bezier_curve_to(95, 99, 94, 96, 91, 96)\n",
    "c.move_to(103, 96)\n",
    "c.bezier_curve_to(100, 96, 99, 99, 99, 101)\n",
    "c.bezier_curve_to(99, 103, 100, 106, 103, 106)\n",
    "c.bezier_curve_to(106, 106, 107, 103, 107, 101)\n",
    "c.bezier_curve_to(107, 99, 106, 96, 103, 96)\n",
    "c.fill()\n",
    "\n",
    "c.fill_style = 'black'\n",
    "c.begin_path()\n",
    "c.arc(101, 102, 2, 0, pi * 2, True)\n",
    "c.fill()\n",
    "\n",
    "c.begin_path()\n",
    "c.arc(89, 102, 2, 0, pi * 2, True)\n",
    "c.fill()\n",
    "\n",
    "c"
   ]
  },
  {
   "cell_type": "code",
   "execution_count": null,
   "metadata": {},
   "outputs": [],
   "source": [
    "c = ipycanvas.Canvas(size=(150, 150))\n",
    "\n",
    "# Draw background\n",
    "c.fill_style = '#FD0'\n",
    "c.fill_rect(0, 0, 75, 75)\n",
    "c.fill_style = '#6C0'\n",
    "c.fill_rect(75, 0, 75, 75)\n",
    "c.fill_style = '#09F'\n",
    "c.fill_rect(0, 75, 75, 75)\n",
    "c.fill_style = '#F30'\n",
    "c.fill_rect(75, 75, 75, 75)\n",
    "c.fill_style = '#FFF'\n",
    "\n",
    "# Set transparency value\n",
    "c.global_alpha = 0.2;\n",
    "\n",
    "# Draw semi transparent circles\n",
    "for i in range(7):\n",
    "    c.begin_path();\n",
    "    c.arc(75, 75, 10 + 10 * i, 0, pi * 2, True);\n",
    "    c.fill();\n",
    "\n",
    "c"
   ]
  }
 ],
 "metadata": {
  "kernelspec": {
   "display_name": "Python 3",
   "language": "python",
   "name": "python3"
  },
  "language_info": {
   "codemirror_mode": {
    "name": "ipython",
    "version": 3
   },
   "file_extension": ".py",
   "mimetype": "text/x-python",
   "name": "python",
   "nbconvert_exporter": "python",
   "pygments_lexer": "ipython3",
   "version": "3.7.3"
  }
 },
 "nbformat": 4,
 "nbformat_minor": 4
}
