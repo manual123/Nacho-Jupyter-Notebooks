{
 "cells": [
  {
   "cell_type": "markdown",
   "metadata": {},
   "source": [
    "# Layout and Styling of Jupyter widgets\n",
    "\n",
    "This section  of the tutorial describes \n",
    "\n",
    "+ how to [lay out Jupyter interactive widgets](06.01-Widget_Layout.ipynb) using the Flexbox and Grid CSS models to build rich and *reactive* widget-based applications.\n",
    "+ some new [high-level widgets for laying out widget-based applications](06.10-higher-level-containers.ipynb).\n",
    "+ [layout and styling of widget labels](06.07-widget-labels.ipynb) (please read this on your own).\n",
    "+ styling available for [some individual widgets](06.09-Widget-Styling.ipynb) (please read this on your own)."
   ]
  }
 ],
 "metadata": {
  "kernelspec": {
   "display_name": "widgets-tutorial",
   "language": "python",
   "name": "widgets-tutorial"
  },
  "language_info": {
   "codemirror_mode": {
    "name": "ipython",
    "version": 3
   },
   "file_extension": ".py",
   "mimetype": "text/x-python",
   "name": "python",
   "nbconvert_exporter": "python",
   "pygments_lexer": "ipython3",
   "version": "3.7.3"
  }
 },
 "nbformat": 4,
 "nbformat_minor": 4
}
