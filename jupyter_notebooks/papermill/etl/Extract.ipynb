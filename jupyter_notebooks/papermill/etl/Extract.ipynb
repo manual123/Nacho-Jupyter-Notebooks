{
 "cells": [
  {
   "cell_type": "markdown",
   "metadata": {},
   "source": [
    "# Extract Task"
   ]
  },
  {
   "cell_type": "code",
   "execution_count": 1,
   "metadata": {},
   "outputs": [],
   "source": [
    "import io\n",
    "import pandas as pd\n",
    "import requests\n",
    "pd.options.display.max_rows=1000\n",
    "pd.options.display.max_columns=100"
   ]
  },
  {
   "cell_type": "markdown",
   "metadata": {},
   "source": [
    "### Download Excel file directly from website, keep it in memory via BytesIO, and then read it into a dataframe:"
   ]
  },
  {
   "cell_type": "code",
   "execution_count": 2,
   "metadata": {},
   "outputs": [],
   "source": [
    "URL = 'http://www.tos.ohio.gov/Documents/Transparency/2017-2018-Teacher-Data-for-website.xlsx'\n",
    "resp = requests.get(URL)\n",
    "file_obj = io.BytesIO()\n",
    "file_obj.write(resp.content)\n",
    "file_obj.seek(0)   # Move file pointer to the beginning or else pandas will think the file is empty\n",
    "df = pd.read_excel(file_obj, index=False)"
   ]
  },
  {
   "cell_type": "code",
   "execution_count": 3,
   "metadata": {},
   "outputs": [
    {
     "data": {
      "text/plain": [
       "(350283, 11)"
      ]
     },
     "execution_count": 3,
     "metadata": {},
     "output_type": "execute_result"
    }
   ],
   "source": [
    "df.shape"
   ]
  },
  {
   "cell_type": "code",
   "execution_count": 4,
   "metadata": {},
   "outputs": [
    {
     "data": {
      "text/html": [
       "<div>\n",
       "<style scoped>\n",
       "    .dataframe tbody tr th:only-of-type {\n",
       "        vertical-align: middle;\n",
       "    }\n",
       "\n",
       "    .dataframe tbody tr th {\n",
       "        vertical-align: top;\n",
       "    }\n",
       "\n",
       "    .dataframe thead th {\n",
       "        text-align: right;\n",
       "    }\n",
       "</style>\n",
       "<table border=\"1\" class=\"dataframe\">\n",
       "  <thead>\n",
       "    <tr style=\"text-align: right;\">\n",
       "      <th></th>\n",
       "      <th>LAST NAME</th>\n",
       "      <th>FIRST NAME</th>\n",
       "      <th>EDUCATION LEVEL</th>\n",
       "      <th>JOB DESCRIPTION</th>\n",
       "      <th>DISTRICT NAME</th>\n",
       "      <th>COUNTY</th>\n",
       "      <th>SCHOOL NAME</th>\n",
       "      <th>CITY NAME</th>\n",
       "      <th>DAYS WORKED</th>\n",
       "      <th>HOURS WORKED PER DAY</th>\n",
       "      <th>PAY AMOUNT</th>\n",
       "    </tr>\n",
       "  </thead>\n",
       "  <tbody>\n",
       "    <tr>\n",
       "      <th>0</th>\n",
       "      <td>LONGDEN</td>\n",
       "      <td>CHERYL</td>\n",
       "      <td>Masters</td>\n",
       "      <td>Tutor/Small Group Instructor Assignment (Serve...</td>\n",
       "      <td>Ashtabula Area City</td>\n",
       "      <td>Ashtabula</td>\n",
       "      <td>Ashtabula Area City</td>\n",
       "      <td>Ashtabula</td>\n",
       "      <td>185</td>\n",
       "      <td>7.00</td>\n",
       "      <td>25900.0</td>\n",
       "    </tr>\n",
       "    <tr>\n",
       "      <th>1</th>\n",
       "      <td>Mulligan</td>\n",
       "      <td>Bettylene</td>\n",
       "      <td>Masters</td>\n",
       "      <td>Teacher Assignment</td>\n",
       "      <td>Winton Preparatory Academy</td>\n",
       "      <td>Hamilton</td>\n",
       "      <td>Winton Preparatory Academy</td>\n",
       "      <td>Cincinnati</td>\n",
       "      <td>86</td>\n",
       "      <td>8.00</td>\n",
       "      <td>34000.0</td>\n",
       "    </tr>\n",
       "    <tr>\n",
       "      <th>2</th>\n",
       "      <td>SMITH</td>\n",
       "      <td>SHERRY</td>\n",
       "      <td>Masters</td>\n",
       "      <td>Other Professional - Other Assignment</td>\n",
       "      <td>Greene County ESC</td>\n",
       "      <td>Greene</td>\n",
       "      <td>Greene County ESC</td>\n",
       "      <td>Yellow Springs</td>\n",
       "      <td>40</td>\n",
       "      <td>8.00</td>\n",
       "      <td>10397.0</td>\n",
       "    </tr>\n",
       "    <tr>\n",
       "      <th>3</th>\n",
       "      <td>BALOG</td>\n",
       "      <td>GEORGE</td>\n",
       "      <td>Masters</td>\n",
       "      <td>Teacher Assignment</td>\n",
       "      <td>Dayton City</td>\n",
       "      <td>Montgomery</td>\n",
       "      <td>Stivers School For The Arts</td>\n",
       "      <td>Dayton</td>\n",
       "      <td>200</td>\n",
       "      <td>4.35</td>\n",
       "      <td>40792.0</td>\n",
       "    </tr>\n",
       "    <tr>\n",
       "      <th>4</th>\n",
       "      <td>BAUER</td>\n",
       "      <td>RICHARD</td>\n",
       "      <td>Masters</td>\n",
       "      <td>Teacher Assignment</td>\n",
       "      <td>North Olmsted City</td>\n",
       "      <td>Cuyahoga</td>\n",
       "      <td>North Olmsted Middle School</td>\n",
       "      <td>North Olmsted</td>\n",
       "      <td>185</td>\n",
       "      <td>7.50</td>\n",
       "      <td>97931.0</td>\n",
       "    </tr>\n",
       "  </tbody>\n",
       "</table>\n",
       "</div>"
      ],
      "text/plain": [
       "  LAST NAME FIRST NAME EDUCATION LEVEL  \\\n",
       "0   LONGDEN     CHERYL         Masters   \n",
       "1  Mulligan  Bettylene         Masters   \n",
       "2     SMITH     SHERRY         Masters   \n",
       "3     BALOG     GEORGE         Masters   \n",
       "4     BAUER    RICHARD         Masters   \n",
       "\n",
       "                                     JOB DESCRIPTION  \\\n",
       "0  Tutor/Small Group Instructor Assignment (Serve...   \n",
       "1                                 Teacher Assignment   \n",
       "2              Other Professional - Other Assignment   \n",
       "3                                 Teacher Assignment   \n",
       "4                                 Teacher Assignment   \n",
       "\n",
       "                DISTRICT NAME      COUNTY                  SCHOOL NAME  \\\n",
       "0         Ashtabula Area City   Ashtabula          Ashtabula Area City   \n",
       "1  Winton Preparatory Academy    Hamilton   Winton Preparatory Academy   \n",
       "2           Greene County ESC      Greene            Greene County ESC   \n",
       "3                 Dayton City  Montgomery  Stivers School For The Arts   \n",
       "4          North Olmsted City    Cuyahoga  North Olmsted Middle School   \n",
       "\n",
       "        CITY NAME  DAYS WORKED  HOURS WORKED PER DAY  PAY AMOUNT  \n",
       "0       Ashtabula          185                  7.00     25900.0  \n",
       "1      Cincinnati           86                  8.00     34000.0  \n",
       "2  Yellow Springs           40                  8.00     10397.0  \n",
       "3          Dayton          200                  4.35     40792.0  \n",
       "4   North Olmsted          185                  7.50     97931.0  "
      ]
     },
     "execution_count": 4,
     "metadata": {},
     "output_type": "execute_result"
    }
   ],
   "source": [
    "df.head()"
   ]
  },
  {
   "cell_type": "code",
   "execution_count": 5,
   "metadata": {},
   "outputs": [
    {
     "data": {
      "text/plain": [
       "Index(['LAST NAME', 'FIRST NAME', 'EDUCATION LEVEL', 'JOB DESCRIPTION',\n",
       "       'DISTRICT NAME', 'COUNTY', 'SCHOOL NAME', 'CITY NAME', 'DAYS WORKED',\n",
       "       'HOURS WORKED PER DAY', 'PAY AMOUNT'],\n",
       "      dtype='object')"
      ]
     },
     "execution_count": 5,
     "metadata": {},
     "output_type": "execute_result"
    }
   ],
   "source": [
    "df.columns"
   ]
  },
  {
   "cell_type": "markdown",
   "metadata": {},
   "source": [
    "### I don't like spaces in column names, so I will replace them with underscores:"
   ]
  },
  {
   "cell_type": "code",
   "execution_count": 6,
   "metadata": {},
   "outputs": [],
   "source": [
    "df.columns = [column.replace(' ','_') for column in df.columns]"
   ]
  },
  {
   "cell_type": "code",
   "execution_count": 7,
   "metadata": {},
   "outputs": [
    {
     "data": {
      "text/plain": [
       "Index(['LAST_NAME', 'FIRST_NAME', 'EDUCATION_LEVEL', 'JOB_DESCRIPTION',\n",
       "       'DISTRICT_NAME', 'COUNTY', 'SCHOOL_NAME', 'CITY_NAME', 'DAYS_WORKED',\n",
       "       'HOURS_WORKED_PER_DAY', 'PAY_AMOUNT'],\n",
       "      dtype='object')"
      ]
     },
     "execution_count": 7,
     "metadata": {},
     "output_type": "execute_result"
    }
   ],
   "source": [
    "df.columns"
   ]
  },
  {
   "cell_type": "markdown",
   "metadata": {},
   "source": [
    "### Let's see what job descriptions there are and get counts:"
   ]
  },
  {
   "cell_type": "code",
   "execution_count": 8,
   "metadata": {},
   "outputs": [
    {
     "data": {
      "text/plain": [
       "Teacher Assignment                                                                              104185\n",
       "Coaching Assignment                                                                              44104\n",
       "Advisor Assignment                                                                               27616\n",
       "Vehicle Operating (Bus) Assignment                                                               14061\n",
       "Other Extra/Intra - Curricular Activities Assignment                                             13806\n",
       "Food Service Assignment                                                                          13518\n",
       "Teaching Aide Assignment                                                                         12948\n",
       "Custodian Assignment                                                                             11872\n",
       "Instructional Paraprofessional Assignment                                                        11497\n",
       "Clerical Assignment                                                                              11471\n",
       "Supplemental Service Teaching Assignment (Serves Students with Disability Conditions Only)       10470\n",
       "Other Professional - Educational Assignment                                                       7120\n",
       "Monitoring Assignment                                                                             5291\n",
       "Tutor/Small Group Instructor Assignment (Serves Students Without Disability Conditions Only)      4539\n",
       "Counseling Assignment                                                                             4161\n",
       "Remedial Specialist Assignment                                                                    3619\n",
       "Principal Assignment                                                                              3542\n",
       "Speech and Language Therapist Assignment                                                          2986\n",
       "Coordinator Assignment                                                                            2342\n",
       "Psychologist Assignment                                                                           2241\n",
       "Supervisor/Manager Assignment                                                                     2238\n",
       "Assistant Principal Assignment                                                                    2214\n",
       "Attendant Assignment                                                                              2214\n",
       "General Maintenance Assignment                                                                    1822\n",
       "Library Aide Assignment                                                                           1677\n",
       "Curriculum Specialist Assignment                                                                  1571\n",
       "Director Assignment                                                                               1555\n",
       "Other Technical Assignment                                                                        1552\n",
       "Registered Nursing Assignment                                                                     1458\n",
       "Other Professional - Other Assignment                                                             1326\n",
       "Bookkeeping Assignment                                                                            1218\n",
       "Other Office/Clerical Assignment                                                                  1192\n",
       "Teacher Mentor/Evaluator Assignment                                                               1134\n",
       "Guard/Watchman Assignment                                                                         1060\n",
       "Occupational Therapist Assignment                                                                 1058\n",
       "Other Official/Administrative Assignment                                                           973\n",
       "Librarian/Media Assignment                                                                         922\n",
       "Treasurer Assignment                                                                               910\n",
       "Full-time (Permanent) Substitute Teacher Assignment                                                901\n",
       "Mechanic Assignment                                                                                885\n",
       "Superintendent Assignment                                                                          812\n",
       "Computer Operating Assignment                                                                      777\n",
       "Practical Nursing Assignment                                                                       700\n",
       "Administrative Assistant Assignment                                                                698\n",
       "Accounting Assignment                                                                              579\n",
       "Other Service Worker/Laborer Assignment                                                            519\n",
       "Social Work Assignment                                                                             455\n",
       "Vehicle Operating (Other) Assignment                                                               395\n",
       "Physical Therapist Assignment                                                                      394\n",
       "Computer Programming Assignment                                                                    392\n",
       "Groundskeeping Assignment                                                                          391\n",
       "Education Administrative Specialist Assignment                                                     389\n",
       "Records Managing Assignment                                                                        375\n",
       "Educational Interpreter Assignment                                                                 356\n",
       "Planning/Research/Development/Evaluation/Analysis Assignment                                       311\n",
       "Occupational Therapy Assistant (OTA) Assignment                                                    292\n",
       "Assistant, Deputy/Associate Superintendent Assignment                                              277\n",
       "Family and Community Liaison Assignment                                                            238\n",
       "Community School Administrator Assignment                                                          236\n",
       "Attendance Officer Assignment                                                                      215\n",
       "Foreman Assignment                                                                                 207\n",
       "Publicity Relations Assignment                                                                     177\n",
       "Parent Mentor Assignment                                                                           152\n",
       "Dispatching Assignment                                                                             141\n",
       "Athletic Trainer Assignment                                                                        139\n",
       "Other Crafts and Trades Assignment                                                                 134\n",
       "Other Operative Assignment                                                                         122\n",
       "Building Manager Assignment                                                                        109\n",
       "Adapted Physical Education Therapist Assignment                                                     94\n",
       "Electrician Assignment                                                                              93\n",
       "ESC Supervisor Assignment                                                                           88\n",
       "Telephone Operator Assignment                                                                       87\n",
       "Dietitian/Nutritionist Assignment                                                                   86\n",
       "Physical Therapy Assistant (PTA) Assignment                                                         80\n",
       "Messenger Assignment                                                                                78\n",
       "Intern Psychologist Assignment                                                                      75\n",
       "Audio-Visual Staff                                                                                  74\n",
       "Carpentering Assignment                                                                             67\n",
       "Plumbing Assignment                                                                                 63\n",
       "Audiologist Assignment                                                                              53\n",
       "Linkage Coordinator Assignment                                                                      35\n",
       "Mobility Therapist Assignment                                                                       34\n",
       "Parent Coordinator Assignment                                                                       19\n",
       "Resource Officer                                                                                     3\n",
       "Visiting Teacher Assignment                                                                          3\n",
       "Name: JOB_DESCRIPTION, dtype: int64"
      ]
     },
     "execution_count": 8,
     "metadata": {},
     "output_type": "execute_result"
    }
   ],
   "source": [
    "df['JOB_DESCRIPTION'].value_counts()"
   ]
  },
  {
   "cell_type": "markdown",
   "metadata": {},
   "source": [
    "### Let's only do analysis on teachers (\"Teacher Assignment\"):"
   ]
  },
  {
   "cell_type": "code",
   "execution_count": 9,
   "metadata": {},
   "outputs": [],
   "source": [
    "teachers = df.query(\"JOB_DESCRIPTION == 'Teacher Assignment'\")"
   ]
  },
  {
   "cell_type": "markdown",
   "metadata": {},
   "source": [
    "### Save our filtered data set as a csv file:"
   ]
  },
  {
   "cell_type": "code",
   "execution_count": 10,
   "metadata": {},
   "outputs": [],
   "source": [
    "teachers.to_csv('/home/pybokeh/Downloads/teachers.csv', index=False)"
   ]
  }
 ],
 "metadata": {
  "hide_input": false,
  "kernelspec": {
   "display_name": "Python 3",
   "language": "python",
   "name": "python3"
  },
  "language_info": {
   "codemirror_mode": {
    "name": "ipython",
    "version": 3
   },
   "file_extension": ".py",
   "mimetype": "text/x-python",
   "name": "python",
   "nbconvert_exporter": "python",
   "pygments_lexer": "ipython3",
   "version": "3.7.3"
  }
 },
 "nbformat": 4,
 "nbformat_minor": 2
}
