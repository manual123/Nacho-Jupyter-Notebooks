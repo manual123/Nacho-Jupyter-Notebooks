{
 "cells": [
  {
   "cell_type": "markdown",
   "metadata": {},
   "source": [
    "# How to extract the javascript of the plotly chart so that you can embed it into your own HTML page"
   ]
  },
  {
   "cell_type": "markdown",
   "metadata": {},
   "source": [
    "Prior to Plotly becoming open-source, we could only save a static image of the plotly chart that we can then save locally.  Now, there are 2 ways where we can obtain (and **own**) the *actual javascript source data* of the plotly chart that was generated in all of its interactive glory."
   ]
  },
  {
   "cell_type": "markdown",
   "metadata": {},
   "source": [
    "### Method 1: Set plotly.offline.plot output_type='div'"
   ]
  },
  {
   "cell_type": "markdown",
   "metadata": {},
   "source": [
    "Review the documentation for plot()'s output_type parameter option:"
   ]
  },
  {
   "cell_type": "code",
   "execution_count": 1,
   "metadata": {},
   "outputs": [
    {
     "name": "stdout",
     "output_type": "stream",
     "text": [
      "Help on function plot in module plotly.offline.offline:\n",
      "\n",
      "plot(figure_or_data, show_link=True, link_text='Export to plot.ly', validate=True, output_type='file', include_plotlyjs=True, filename='temp-plot.html', auto_open=True, image=None, image_filename='plot_image', image_width=800, image_height=600, config=None)\n",
      "    Create a plotly graph locally as an HTML document or string.\n",
      "    \n",
      "    Example:\n",
      "    ```\n",
      "    from plotly.offline import plot\n",
      "    import plotly.graph_objs as go\n",
      "    \n",
      "    plot([go.Scatter(x=[1, 2, 3], y=[3, 2, 6])], filename='my-graph.html')\n",
      "    # We can also download an image of the plot by setting the image parameter\n",
      "    # to the image format we want\n",
      "    plot([go.Scatter(x=[1, 2, 3], y=[3, 2, 6])], filename='my-graph.html'\n",
      "         image='jpeg')\n",
      "    ```\n",
      "    More examples below.\n",
      "    \n",
      "    figure_or_data -- a plotly.graph_objs.Figure or plotly.graph_objs.Data or\n",
      "                      dict or list that describes a Plotly graph.\n",
      "                      See https://plot.ly/python/ for examples of\n",
      "                      graph descriptions.\n",
      "    \n",
      "    Keyword arguments:\n",
      "    show_link (default=True) -- display a link in the bottom-right corner of\n",
      "        of the chart that will export the chart to Plotly Cloud or\n",
      "        Plotly Enterprise\n",
      "    link_text (default='Export to plot.ly') -- the text of export link\n",
      "    validate (default=True) -- validate that all of the keys in the figure\n",
      "        are valid? omit if your version of plotly.js has become outdated\n",
      "        with your version of graph_reference.json or if you need to include\n",
      "        extra, unnecessary keys in your figure.\n",
      "    output_type ('file' | 'div' - default 'file') -- if 'file', then\n",
      "        the graph is saved as a standalone HTML file and `plot`\n",
      "        returns None.\n",
      "        If 'div', then `plot` returns a string that just contains the\n",
      "        HTML <div> that contains the graph and the script to generate the\n",
      "        graph.\n",
      "        Use 'file' if you want to save and view a single graph at a time\n",
      "        in a standalone HTML file.\n",
      "        Use 'div' if you are embedding these graphs in an HTML file with\n",
      "        other graphs or HTML markup, like a HTML report or an website.\n",
      "    include_plotlyjs (default=True) -- If True, include the plotly.js\n",
      "        source code in the output file or string.\n",
      "        Set as False if your HTML file already contains a copy of the plotly.js\n",
      "        library.\n",
      "    filename (default='temp-plot.html') -- The local filename to save the\n",
      "        outputted chart to. If the filename already exists, it will be\n",
      "        overwritten. This argument only applies if `output_type` is 'file'.\n",
      "    auto_open (default=True) -- If True, open the saved file in a\n",
      "        web browser after saving.\n",
      "        This argument only applies if `output_type` is 'file'.\n",
      "    image (default=None |'png' |'jpeg' |'svg' |'webp') -- This parameter sets\n",
      "        the format of the image to be downloaded, if we choose to download an\n",
      "        image. This parameter has a default value of None indicating that no\n",
      "        image should be downloaded. Please note: for higher resolution images\n",
      "        and more export options, consider making requests to our image servers.\n",
      "        Type: `help(py.image)` for more details.\n",
      "    image_filename (default='plot_image') -- Sets the name of the file your\n",
      "        image will be saved to. The extension should not be included.\n",
      "    image_height (default=600) -- Specifies the height of the image in `px`.\n",
      "    image_width (default=800) -- Specifies the width of the image in `px`.\n",
      "    config (default=None) -- Plot view options dictionary. Keyword arguments\n",
      "        `show_link` and `link_text` set the associated options in this\n",
      "        dictionary if it doesn't contain them already.\n",
      "\n"
     ]
    }
   ],
   "source": [
    "from plotly.offline import plot\n",
    "help(plot)"
   ]
  },
  {
   "cell_type": "markdown",
   "metadata": {},
   "source": [
    "### Example: Plotting Pandas Dataframe as Plotly Line Chart using Cufflinks"
   ]
  },
  {
   "cell_type": "code",
   "execution_count": 2,
   "metadata": {},
   "outputs": [
    {
     "data": {
      "text/html": [
       "<script>requirejs.config({paths: { 'plotly': ['https://cdn.plot.ly/plotly-latest.min']},});if(!window.Plotly) {{require(['plotly'],function(plotly) {window.Plotly=plotly;});}}</script>"
      ],
      "text/vnd.plotly.v1+html": [
       "<script>requirejs.config({paths: { 'plotly': ['https://cdn.plot.ly/plotly-latest.min']},});if(!window.Plotly) {{require(['plotly'],function(plotly) {window.Plotly=plotly;});}}</script>"
      ]
     },
     "metadata": {},
     "output_type": "display_data"
    }
   ],
   "source": [
    "import pandas as pd\n",
    "from plotly.offline import download_plotlyjs, init_notebook_mode, plot, iplot\n",
    "import numpy as np\n",
    "import cufflinks as cf\n",
    "pd.set_option(\"display.max_rows\",1000)\n",
    "init_notebook_mode(connected=True)\n",
    "\n",
    "df = pd.DataFrame(np.random.rand(10, 5), columns=['A', 'B', 'C', 'D', 'E'])"
   ]
  },
  {
   "cell_type": "code",
   "execution_count": 3,
   "metadata": {},
   "outputs": [
    {
     "data": {
      "text/html": [
       "<div>\n",
       "<style>\n",
       "    .dataframe thead tr:only-child th {\n",
       "        text-align: right;\n",
       "    }\n",
       "\n",
       "    .dataframe thead th {\n",
       "        text-align: left;\n",
       "    }\n",
       "\n",
       "    .dataframe tbody tr th {\n",
       "        vertical-align: top;\n",
       "    }\n",
       "</style>\n",
       "<table border=\"1\" class=\"dataframe\">\n",
       "  <thead>\n",
       "    <tr style=\"text-align: right;\">\n",
       "      <th></th>\n",
       "      <th>A</th>\n",
       "      <th>B</th>\n",
       "      <th>C</th>\n",
       "      <th>D</th>\n",
       "      <th>E</th>\n",
       "    </tr>\n",
       "  </thead>\n",
       "  <tbody>\n",
       "    <tr>\n",
       "      <th>0</th>\n",
       "      <td>0.181820</td>\n",
       "      <td>0.277504</td>\n",
       "      <td>0.206947</td>\n",
       "      <td>0.831284</td>\n",
       "      <td>0.535418</td>\n",
       "    </tr>\n",
       "    <tr>\n",
       "      <th>1</th>\n",
       "      <td>0.098070</td>\n",
       "      <td>0.974886</td>\n",
       "      <td>0.935029</td>\n",
       "      <td>0.567947</td>\n",
       "      <td>0.472561</td>\n",
       "    </tr>\n",
       "    <tr>\n",
       "      <th>2</th>\n",
       "      <td>0.883322</td>\n",
       "      <td>0.913456</td>\n",
       "      <td>0.499953</td>\n",
       "      <td>0.112761</td>\n",
       "      <td>0.817229</td>\n",
       "    </tr>\n",
       "    <tr>\n",
       "      <th>3</th>\n",
       "      <td>0.024590</td>\n",
       "      <td>0.168915</td>\n",
       "      <td>0.720558</td>\n",
       "      <td>0.814708</td>\n",
       "      <td>0.488022</td>\n",
       "    </tr>\n",
       "    <tr>\n",
       "      <th>4</th>\n",
       "      <td>0.291223</td>\n",
       "      <td>0.294952</td>\n",
       "      <td>0.464583</td>\n",
       "      <td>0.938267</td>\n",
       "      <td>0.054554</td>\n",
       "    </tr>\n",
       "  </tbody>\n",
       "</table>\n",
       "</div>"
      ],
      "text/plain": [
       "          A         B         C         D         E\n",
       "0  0.181820  0.277504  0.206947  0.831284  0.535418\n",
       "1  0.098070  0.974886  0.935029  0.567947  0.472561\n",
       "2  0.883322  0.913456  0.499953  0.112761  0.817229\n",
       "3  0.024590  0.168915  0.720558  0.814708  0.488022\n",
       "4  0.291223  0.294952  0.464583  0.938267  0.054554"
      ]
     },
     "execution_count": 3,
     "metadata": {},
     "output_type": "execute_result"
    }
   ],
   "source": [
    "df.head()"
   ]
  },
  {
   "cell_type": "code",
   "execution_count": 4,
   "metadata": {},
   "outputs": [
    {
     "data": {
      "application/vnd.plotly.v1+json": {
       "data": [
        {
         "boxpoints": false,
         "line": {
          "width": 1.3
         },
         "marker": {
          "color": "rgba(255, 153, 51, 1.0)"
         },
         "name": "A",
         "type": "box",
         "y": [
          0.1818202136342736,
          0.09807011809633925,
          0.883322136200162,
          0.02458960841522384,
          0.29122273315165925,
          0.20139512102503,
          0.5825200468153864,
          0.511450760736515,
          0.9322251116336399,
          0.3232344322813516
         ]
        },
        {
         "boxpoints": false,
         "line": {
          "width": 1.3
         },
         "marker": {
          "color": "rgba(55, 128, 191, 1.0)"
         },
         "name": "B",
         "type": "box",
         "y": [
          0.27750367509948615,
          0.9748862988120398,
          0.9134557237800466,
          0.1689147020271563,
          0.29495157729006083,
          0.3903789984276229,
          0.4090633559571568,
          0.5553684165618329,
          0.31086841788220365,
          0.4833544192259933
         ]
        },
        {
         "boxpoints": false,
         "line": {
          "width": 1.3
         },
         "marker": {
          "color": "rgba(50, 171, 96, 1.0)"
         },
         "name": "C",
         "type": "box",
         "y": [
          0.20694660706909396,
          0.9350286463214985,
          0.4999533494944275,
          0.7205578876235975,
          0.4645826020640974,
          0.844448657233245,
          0.9604360306511321,
          0.23622541550805864,
          0.09303803504558328,
          0.1429723077846201
         ]
        },
        {
         "boxpoints": false,
         "line": {
          "width": 1.3
         },
         "marker": {
          "color": "rgba(128, 0, 128, 1.0)"
         },
         "name": "D",
         "type": "box",
         "y": [
          0.8312838527548743,
          0.5679466785161188,
          0.11276060652558195,
          0.8147076386380305,
          0.9382670352165066,
          0.8883500383602689,
          0.5455865115629055,
          0.6912971962396756,
          0.12348137398048231,
          0.2114658333014986
         ]
        },
        {
         "boxpoints": false,
         "line": {
          "width": 1.3
         },
         "marker": {
          "color": "rgba(219, 64, 82, 1.0)"
         },
         "name": "E",
         "type": "box",
         "y": [
          0.5354182143339691,
          0.4725607502053959,
          0.8172294922271255,
          0.4880218946277127,
          0.05455441104842518,
          0.7005580846410553,
          0.8785995549704556,
          0.24561569513976111,
          0.6856794613985587,
          0.042595517699212326
         ]
        }
       ],
       "layout": {
        "height": 500,
        "legend": {
         "bgcolor": "#F5F6F9",
         "font": {
          "color": "#4D5663"
         }
        },
        "paper_bgcolor": "#F5F6F9",
        "plot_bgcolor": "#F5F6F9",
        "title": "Plotly Pandas",
        "titlefont": {
         "color": "#4D5663"
        },
        "width": 800,
        "xaxis1": {
         "gridcolor": "#E1E5ED",
         "showgrid": true,
         "tickfont": {
          "color": "#4D5663"
         },
         "title": "",
         "titlefont": {
          "color": "#4D5663"
         },
         "zerolinecolor": "#E1E5ED"
        },
        "yaxis1": {
         "gridcolor": "#E1E5ED",
         "showgrid": true,
         "tickfont": {
          "color": "#4D5663"
         },
         "title": "",
         "titlefont": {
          "color": "#4D5663"
         },
         "zerolinecolor": "#E1E5ED"
        }
       }
      },
      "text/html": [
       "<div id=\"048641e1-8142-4098-8c99-7cab752c135f\" style=\"height: 500px; width: 800px;\" class=\"plotly-graph-div\"></div><script type=\"text/javascript\">require([\"plotly\"], function(Plotly) { window.PLOTLYENV=window.PLOTLYENV || {};window.PLOTLYENV.BASE_URL=\"https://plot.ly\";Plotly.newPlot(\"048641e1-8142-4098-8c99-7cab752c135f\", [{\"type\": \"box\", \"y\": [0.1818202136342736, 0.09807011809633925, 0.883322136200162, 0.02458960841522384, 0.29122273315165925, 0.20139512102503, 0.5825200468153864, 0.511450760736515, 0.9322251116336399, 0.3232344322813516], \"marker\": {\"color\": \"rgba(255, 153, 51, 1.0)\"}, \"name\": \"A\", \"line\": {\"width\": 1.3}, \"boxpoints\": false}, {\"type\": \"box\", \"y\": [0.27750367509948615, 0.9748862988120398, 0.9134557237800466, 0.1689147020271563, 0.29495157729006083, 0.3903789984276229, 0.4090633559571568, 0.5553684165618329, 0.31086841788220365, 0.4833544192259933], \"marker\": {\"color\": \"rgba(55, 128, 191, 1.0)\"}, \"name\": \"B\", \"line\": {\"width\": 1.3}, \"boxpoints\": false}, {\"type\": \"box\", \"y\": [0.20694660706909396, 0.9350286463214985, 0.4999533494944275, 0.7205578876235975, 0.4645826020640974, 0.844448657233245, 0.9604360306511321, 0.23622541550805864, 0.09303803504558328, 0.1429723077846201], \"marker\": {\"color\": \"rgba(50, 171, 96, 1.0)\"}, \"name\": \"C\", \"line\": {\"width\": 1.3}, \"boxpoints\": false}, {\"type\": \"box\", \"y\": [0.8312838527548743, 0.5679466785161188, 0.11276060652558195, 0.8147076386380305, 0.9382670352165066, 0.8883500383602689, 0.5455865115629055, 0.6912971962396756, 0.12348137398048231, 0.2114658333014986], \"marker\": {\"color\": \"rgba(128, 0, 128, 1.0)\"}, \"name\": \"D\", \"line\": {\"width\": 1.3}, \"boxpoints\": false}, {\"type\": \"box\", \"y\": [0.5354182143339691, 0.4725607502053959, 0.8172294922271255, 0.4880218946277127, 0.05455441104842518, 0.7005580846410553, 0.8785995549704556, 0.24561569513976111, 0.6856794613985587, 0.042595517699212326], \"marker\": {\"color\": \"rgba(219, 64, 82, 1.0)\"}, \"name\": \"E\", \"line\": {\"width\": 1.3}, \"boxpoints\": false}], {\"legend\": {\"bgcolor\": \"#F5F6F9\", \"font\": {\"color\": \"#4D5663\"}}, \"paper_bgcolor\": \"#F5F6F9\", \"plot_bgcolor\": \"#F5F6F9\", \"yaxis1\": {\"tickfont\": {\"color\": \"#4D5663\"}, \"gridcolor\": \"#E1E5ED\", \"titlefont\": {\"color\": \"#4D5663\"}, \"zerolinecolor\": \"#E1E5ED\", \"showgrid\": true, \"title\": \"\"}, \"xaxis1\": {\"tickfont\": {\"color\": \"#4D5663\"}, \"gridcolor\": \"#E1E5ED\", \"titlefont\": {\"color\": \"#4D5663\"}, \"zerolinecolor\": \"#E1E5ED\", \"showgrid\": true, \"title\": \"\"}, \"titlefont\": {\"color\": \"#4D5663\"}, \"title\": \"Plotly Pandas\", \"width\": 800, \"height\": 500}, {\"showLink\": false, \"linkText\": \"Export to plot.ly\"})});</script>"
      ],
      "text/vnd.plotly.v1+html": [
       "<div id=\"048641e1-8142-4098-8c99-7cab752c135f\" style=\"height: 500px; width: 800px;\" class=\"plotly-graph-div\"></div><script type=\"text/javascript\">require([\"plotly\"], function(Plotly) { window.PLOTLYENV=window.PLOTLYENV || {};window.PLOTLYENV.BASE_URL=\"https://plot.ly\";Plotly.newPlot(\"048641e1-8142-4098-8c99-7cab752c135f\", [{\"type\": \"box\", \"y\": [0.1818202136342736, 0.09807011809633925, 0.883322136200162, 0.02458960841522384, 0.29122273315165925, 0.20139512102503, 0.5825200468153864, 0.511450760736515, 0.9322251116336399, 0.3232344322813516], \"marker\": {\"color\": \"rgba(255, 153, 51, 1.0)\"}, \"name\": \"A\", \"line\": {\"width\": 1.3}, \"boxpoints\": false}, {\"type\": \"box\", \"y\": [0.27750367509948615, 0.9748862988120398, 0.9134557237800466, 0.1689147020271563, 0.29495157729006083, 0.3903789984276229, 0.4090633559571568, 0.5553684165618329, 0.31086841788220365, 0.4833544192259933], \"marker\": {\"color\": \"rgba(55, 128, 191, 1.0)\"}, \"name\": \"B\", \"line\": {\"width\": 1.3}, \"boxpoints\": false}, {\"type\": \"box\", \"y\": [0.20694660706909396, 0.9350286463214985, 0.4999533494944275, 0.7205578876235975, 0.4645826020640974, 0.844448657233245, 0.9604360306511321, 0.23622541550805864, 0.09303803504558328, 0.1429723077846201], \"marker\": {\"color\": \"rgba(50, 171, 96, 1.0)\"}, \"name\": \"C\", \"line\": {\"width\": 1.3}, \"boxpoints\": false}, {\"type\": \"box\", \"y\": [0.8312838527548743, 0.5679466785161188, 0.11276060652558195, 0.8147076386380305, 0.9382670352165066, 0.8883500383602689, 0.5455865115629055, 0.6912971962396756, 0.12348137398048231, 0.2114658333014986], \"marker\": {\"color\": \"rgba(128, 0, 128, 1.0)\"}, \"name\": \"D\", \"line\": {\"width\": 1.3}, \"boxpoints\": false}, {\"type\": \"box\", \"y\": [0.5354182143339691, 0.4725607502053959, 0.8172294922271255, 0.4880218946277127, 0.05455441104842518, 0.7005580846410553, 0.8785995549704556, 0.24561569513976111, 0.6856794613985587, 0.042595517699212326], \"marker\": {\"color\": \"rgba(219, 64, 82, 1.0)\"}, \"name\": \"E\", \"line\": {\"width\": 1.3}, \"boxpoints\": false}], {\"legend\": {\"bgcolor\": \"#F5F6F9\", \"font\": {\"color\": \"#4D5663\"}}, \"paper_bgcolor\": \"#F5F6F9\", \"plot_bgcolor\": \"#F5F6F9\", \"yaxis1\": {\"tickfont\": {\"color\": \"#4D5663\"}, \"gridcolor\": \"#E1E5ED\", \"titlefont\": {\"color\": \"#4D5663\"}, \"zerolinecolor\": \"#E1E5ED\", \"showgrid\": true, \"title\": \"\"}, \"xaxis1\": {\"tickfont\": {\"color\": \"#4D5663\"}, \"gridcolor\": \"#E1E5ED\", \"titlefont\": {\"color\": \"#4D5663\"}, \"zerolinecolor\": \"#E1E5ED\", \"showgrid\": true, \"title\": \"\"}, \"titlefont\": {\"color\": \"#4D5663\"}, \"title\": \"Plotly Pandas\", \"width\": 800, \"height\": 500}, {\"showLink\": false, \"linkText\": \"Export to plot.ly\"})});</script>"
      ]
     },
     "metadata": {},
     "output_type": "display_data"
    }
   ],
   "source": [
    "iplot(df.iplot(asFigure=True, kind='box', title='Plotly Pandas', dimensions=(800,500)), show_link=False)"
   ]
  },
  {
   "cell_type": "markdown",
   "metadata": {},
   "source": [
    "**Use plot()'s ```output_type``` parameter to obtain the raw Plotly chart data as an html ```<div>```:**"
   ]
  },
  {
   "cell_type": "code",
   "execution_count": 5,
   "metadata": {},
   "outputs": [],
   "source": [
    "plotly_div = plot(df.iplot(asFigure=True, kind='box', title='Plotly Pandas', \n",
    "                           dimensions=(800,500)), show_link=False, output_type='div')"
   ]
  },
  {
   "cell_type": "code",
   "execution_count": 6,
   "metadata": {},
   "outputs": [
    {
     "data": {
      "text/plain": [
       "'<div><script type=\"text/javascript\">/**\\n* plotly.js v1.30.0\\n* Copyright 2012-2017, Plotly, Inc.\\n* All rights reserved.\\n* Licensed under the MIT license\\n*/\\n!function(t){if(\"object\"==typeof exports&&\"undefined\"!=typeof module)module.exports=t();else if(\"function\"==typeof define&&define.amd)define([],t);else{var e;e=\"undefined\"!=typeof window?window:\"undefined\"!=typeof global?global:\"undefined\"!=typeof self?self:this,e.Plotly=t()}}(function(){var t;return function t(e,r,n){function i(o,s){if(!r[o])'"
      ]
     },
     "execution_count": 6,
     "metadata": {},
     "output_type": "execute_result"
    }
   ],
   "source": [
    "plotly_div[:500]"
   ]
  },
  {
   "cell_type": "code",
   "execution_count": 15,
   "metadata": {},
   "outputs": [
    {
     "data": {
      "text/plain": [
       "': \"#F5F6F9\", \"yaxis1\": {\"tickfont\": {\"color\": \"#4D5663\"}, \"gridcolor\": \"#E1E5ED\", \"titlefont\": {\"color\": \"#4D5663\"}, \"zerolinecolor\": \"#E1E5ED\", \"showgrid\": true, \"title\": \"\"}, \"xaxis1\": {\"tickfont\": {\"color\": \"#4D5663\"}, \"gridcolor\": \"#E1E5ED\", \"titlefont\": {\"color\": \"#4D5663\"}, \"zerolinecolor\": \"#E1E5ED\", \"showgrid\": true, \"title\": \"\"}, \"titlefont\": {\"color\": \"#4D5663\"}, \"title\": \"Plotly Pandas\", \"width\": 800, \"height\": 500}, {\"showLink\": false, \"linkText\": \"Export to plot.ly\"})</script></div>'"
      ]
     },
     "execution_count": 15,
     "metadata": {},
     "output_type": "execute_result"
    }
   ],
   "source": [
    "plotly_div[-500:]"
   ]
  },
  {
   "cell_type": "markdown",
   "metadata": {},
   "source": [
    "**Now that we have the raw javascript that creates our plotly chart, we can embed it into our own html page.**"
   ]
  },
  {
   "cell_type": "code",
   "execution_count": 7,
   "metadata": {
    "collapsed": true
   },
   "outputs": [],
   "source": [
    "html_start = \"\"\"\n",
    "<html>\n",
    "<head>\n",
    "  <script src=\"https://cdn.plot.ly/plotly-latest.min.js\"></script>\n",
    "</head>\n",
    "<body>\"\"\"\n",
    "\n",
    "html_end = \"\"\"\n",
    "</body>\n",
    "</html>\"\"\"\n",
    "\n",
    "html_final = html_start + plotly_div + html_end"
   ]
  },
  {
   "cell_type": "code",
   "execution_count": 11,
   "metadata": {},
   "outputs": [
    {
     "name": "stdout",
     "output_type": "stream",
     "text": [
      "\n",
      "<html>\n",
      "<head>\n",
      "  <script src=\"https://cdn.plot.ly/plotly-latest.min.js\"></script>\n",
      "</head>\n",
      "<body><div><script type=\"text/javascript\">/**\n",
      "* plotly.js v1.30.0\n",
      "* Copyright 2012-2017, Plotly, Inc.\n",
      "* All rights reserved.\n",
      "* Licensed under the MIT license\n",
      "*/\n",
      "!function(t){if(\"object\"==typeof exports&&\"undefined\"!=typeof module)module.exports=t();else if(\"function\"==typeof define&&define.amd)define([],t);else{var e;e=\"undefined\"!=typeof window?window:\"undefined\"!=typeof global?global:\"undefined\"!=typeof s\n"
     ]
    }
   ],
   "source": [
    "print(html_final[:500])"
   ]
  },
  {
   "cell_type": "code",
   "execution_count": 14,
   "metadata": {},
   "outputs": [
    {
     "name": "stdout",
     "output_type": "stream",
     "text": [
      "xis1\": {\"tickfont\": {\"color\": \"#4D5663\"}, \"gridcolor\": \"#E1E5ED\", \"titlefont\": {\"color\": \"#4D5663\"}, \"zerolinecolor\": \"#E1E5ED\", \"showgrid\": true, \"title\": \"\"}, \"xaxis1\": {\"tickfont\": {\"color\": \"#4D5663\"}, \"gridcolor\": \"#E1E5ED\", \"titlefont\": {\"color\": \"#4D5663\"}, \"zerolinecolor\": \"#E1E5ED\", \"showgrid\": true, \"title\": \"\"}, \"titlefont\": {\"color\": \"#4D5663\"}, \"title\": \"Plotly Pandas\", \"width\": 800, \"height\": 500}, {\"showLink\": false, \"linkText\": \"Export to plot.ly\"})</script></div>\n",
      "</body>\n",
      "</html>\n"
     ]
    }
   ],
   "source": [
    "print(html_final[-500:])"
   ]
  },
  {
   "cell_type": "markdown",
   "metadata": {},
   "source": [
    "**Now write our html page into a html file:**"
   ]
  },
  {
   "cell_type": "code",
   "execution_count": 9,
   "metadata": {
    "collapsed": true
   },
   "outputs": [],
   "source": [
    "f = open('/home/pybokeh/Desktop/plotly_2_html.html', 'w')\n",
    "f.write(html_final)\n",
    "f.close()"
   ]
  },
  {
   "cell_type": "markdown",
   "metadata": {},
   "source": [
    "### Method 2: Save your jupyter notebook as html, then add the plotly.js source to to it's ```<head>``` tag:"
   ]
  },
  {
   "cell_type": "markdown",
   "metadata": {},
   "source": [
    "Save your jupyter notebook as HTML file.  Then use your favorite text editor or IDE to edit the html file and add this line to the html's ```<head>``` tag:"
   ]
  },
  {
   "cell_type": "markdown",
   "metadata": {},
   "source": [
    "```<script src=\"https://cdn.plot.ly/plotly-latest.min.js\"></script>```"
   ]
  },
  {
   "cell_type": "markdown",
   "metadata": {},
   "source": [
    "Then save the html file.  That's it!  Your plotly plot should now render within your html page."
   ]
  }
 ],
 "metadata": {
  "hide_input": false,
  "kernelspec": {
   "display_name": "Python 3",
   "language": "python",
   "name": "python3"
  },
  "language_info": {
   "codemirror_mode": {
    "name": "ipython",
    "version": 3
   },
   "file_extension": ".py",
   "mimetype": "text/x-python",
   "name": "python",
   "nbconvert_exporter": "python",
   "pygments_lexer": "ipython3",
   "version": "3.6.1"
  }
 },
 "nbformat": 4,
 "nbformat_minor": 1
}
