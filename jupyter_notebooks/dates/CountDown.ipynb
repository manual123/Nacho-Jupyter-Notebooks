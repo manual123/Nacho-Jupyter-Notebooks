{
 "cells": [
  {
   "cell_type": "markdown",
   "metadata": {},
   "source": [
    "## Python Script that will calculate the time until an arbitrary date"
   ]
  },
  {
   "cell_type": "markdown",
   "metadata": {},
   "source": [
    "### This version just outputs once:"
   ]
  },
  {
   "cell_type": "code",
   "execution_count": 2,
   "metadata": {
    "collapsed": false
   },
   "outputs": [
    {
     "name": "stdout",
     "output_type": "stream",
     "text": [
      "Days: 19 | Hours: 16 | Minutes: 22 | Seconds: 7\n"
     ]
    }
   ],
   "source": [
    "from datetime import datetime\n",
    "import pytz\n",
    "from math import floor\n",
    "\n",
    "end_date = datetime(2014,12,18,19,30,0,0,pytz.UTC)  # explicitly make time zone UTC\n",
    "\n",
    "time_till_end_date = end_date - datetime.now(pytz.UTC) # explicitly make time zone UTC\n",
    "\n",
    "total_seconds = time_till_end_date.total_seconds()\n",
    "days_left_remainder = total_seconds/(60*60*24) - floor(total_seconds/(60*60*24))\n",
    "hours_left = days_left_remainder * 24\n",
    "hours_left_remainder = days_left_remainder * 24 - floor(hours_left)\n",
    "minutes_left = hours_left_remainder * 60\n",
    "minutes_left_remainder = minutes_left - floor(minutes_left)\n",
    "seconds_left = minutes_left_remainder * 60\n",
    "\n",
    "print('Days:', time_till_end_date.days, '|', 'Hours:', int(hours_left), '|', 'Minutes:', int(minutes_left), '|',\n",
    "      'Seconds:', int(seconds_left))"
   ]
  },
  {
   "cell_type": "markdown",
   "metadata": {},
   "source": [
    "### This version will continuously update the countdown:"
   ]
  },
  {
   "cell_type": "code",
   "execution_count": 3,
   "metadata": {
    "collapsed": false
   },
   "outputs": [
    {
     "name": "stdout",
     "output_type": "stream",
     "text": [
      "Days: 19 | Hours: 16 | Minutes: 21 | Seconds: 9"
     ]
    },
    {
     "ename": "KeyboardInterrupt",
     "evalue": "",
     "output_type": "error",
     "traceback": [
      "\u001b[1;31m---------------------------------------------------------------------------\u001b[0m\n\u001b[1;31mKeyboardInterrupt\u001b[0m                         Traceback (most recent call last)",
      "\u001b[1;32m<ipython-input-3-37c855bfc9bf>\u001b[0m in \u001b[0;36m<module>\u001b[1;34m()\u001b[0m\n\u001b[0;32m     17\u001b[0m \u001b[1;33m\u001b[0m\u001b[0m\n\u001b[0;32m     18\u001b[0m     \u001b[1;31m# print on the same line\u001b[0m\u001b[1;33m\u001b[0m\u001b[1;33m\u001b[0m\u001b[0m\n\u001b[1;32m---> 19\u001b[1;33m     \u001b[0mprint\u001b[0m\u001b[1;33m(\u001b[0m\u001b[1;34m'\\r'\u001b[0m\u001b[1;33m+\u001b[0m\u001b[1;34m'Days: '\u001b[0m \u001b[1;33m+\u001b[0m \u001b[0mstr\u001b[0m\u001b[1;33m(\u001b[0m\u001b[0mtime_till_end_date\u001b[0m\u001b[1;33m.\u001b[0m\u001b[0mdays\u001b[0m\u001b[1;33m)\u001b[0m \u001b[1;33m+\u001b[0m \u001b[1;34m' | '\u001b[0m \u001b[1;33m+\u001b[0m \u001b[1;34m'Hours: '\u001b[0m \u001b[1;33m+\u001b[0m \u001b[0mstr\u001b[0m\u001b[1;33m(\u001b[0m\u001b[0mint\u001b[0m\u001b[1;33m(\u001b[0m\u001b[0mhours_left\u001b[0m\u001b[1;33m)\u001b[0m\u001b[1;33m)\u001b[0m \u001b[1;33m+\u001b[0m \u001b[1;34m' | '\u001b[0m \u001b[1;33m+\u001b[0m \u001b[1;34m'Minutes: '\u001b[0m \u001b[1;33m+\u001b[0m           \u001b[0mstr\u001b[0m\u001b[1;33m(\u001b[0m\u001b[0mint\u001b[0m\u001b[1;33m(\u001b[0m\u001b[0mminutes_left\u001b[0m\u001b[1;33m)\u001b[0m\u001b[1;33m)\u001b[0m \u001b[1;33m+\u001b[0m \u001b[1;34m' | '\u001b[0m \u001b[1;33m+\u001b[0m \u001b[1;34m'Seconds: '\u001b[0m \u001b[1;33m+\u001b[0m \u001b[1;34m\"{0:d}\"\u001b[0m\u001b[1;33m.\u001b[0m\u001b[0mformat\u001b[0m\u001b[1;33m(\u001b[0m\u001b[0mint\u001b[0m\u001b[1;33m(\u001b[0m\u001b[0mseconds_left\u001b[0m\u001b[1;33m)\u001b[0m\u001b[1;33m)\u001b[0m\u001b[1;33m,\u001b[0m\u001b[0mend\u001b[0m\u001b[1;33m=\u001b[0m\u001b[1;34m''\u001b[0m\u001b[1;33m)\u001b[0m\u001b[1;33m\u001b[0m\u001b[0m\n\u001b[0m",
      "\u001b[1;32m/home/pybokeh/miniconda3/envs/ipynb3/lib/python3.4/site-packages/IPython/kernel/zmq/iostream.py\u001b[0m in \u001b[0;36mwrite\u001b[1;34m(self, string)\u001b[0m\n\u001b[0;32m    199\u001b[0m         \u001b[1;32melse\u001b[0m\u001b[1;33m:\u001b[0m\u001b[1;33m\u001b[0m\u001b[0m\n\u001b[0;32m    200\u001b[0m             \u001b[1;31m# Make sure that we're handling unicode\u001b[0m\u001b[1;33m\u001b[0m\u001b[1;33m\u001b[0m\u001b[0m\n\u001b[1;32m--> 201\u001b[1;33m             \u001b[1;32mif\u001b[0m \u001b[1;32mnot\u001b[0m \u001b[0misinstance\u001b[0m\u001b[1;33m(\u001b[0m\u001b[0mstring\u001b[0m\u001b[1;33m,\u001b[0m \u001b[0municode_type\u001b[0m\u001b[1;33m)\u001b[0m\u001b[1;33m:\u001b[0m\u001b[1;33m\u001b[0m\u001b[0m\n\u001b[0m\u001b[0;32m    202\u001b[0m                 \u001b[0mstring\u001b[0m \u001b[1;33m=\u001b[0m \u001b[0mstring\u001b[0m\u001b[1;33m.\u001b[0m\u001b[0mdecode\u001b[0m\u001b[1;33m(\u001b[0m\u001b[0mself\u001b[0m\u001b[1;33m.\u001b[0m\u001b[0mencoding\u001b[0m\u001b[1;33m,\u001b[0m \u001b[1;34m'replace'\u001b[0m\u001b[1;33m)\u001b[0m\u001b[1;33m\u001b[0m\u001b[0m\n\u001b[0;32m    203\u001b[0m \u001b[1;33m\u001b[0m\u001b[0m\n",
      "\u001b[1;31mKeyboardInterrupt\u001b[0m: "
     ]
    }
   ],
   "source": [
    "from datetime import datetime\n",
    "import pytz\n",
    "from math import floor\n",
    "\n",
    "end_date = datetime(2014,12,18,19,30,0,0,pytz.UTC)  # explicitly make time zone UTC\n",
    "\n",
    "while True:\n",
    "    time_till_end_date = end_date - datetime.now(pytz.UTC)  # explicitly make time zone UTC\n",
    "\n",
    "    total_seconds = time_till_end_date.total_seconds()\n",
    "    days_left_remainder = total_seconds/(60*60*24) - floor(total_seconds/(60*60*24))\n",
    "    hours_left = days_left_remainder * 24\n",
    "    hours_left_remainder = days_left_remainder * 24 - floor(hours_left)\n",
    "    minutes_left = hours_left_remainder * 60\n",
    "    minutes_left_remainder = minutes_left - floor(minutes_left)\n",
    "    seconds_left = minutes_left_remainder * 60\n",
    "\n",
    "    # print on the same line\n",
    "    print('\\r'+'Days: ' + str(time_till_end_date.days) + ' | ' + 'Hours: ' + str(int(hours_left)) + ' | ' + 'Minutes: ' + \\\n",
    "          str(int(minutes_left)) + ' | ' + 'Seconds: ' + \"{0:d}\".format(int(seconds_left)),end='')"
   ]
  },
  {
   "cell_type": "markdown",
   "metadata": {},
   "source": [
    "#### Thanks to Jim at the DOJO who suggested that I take advantage of the divmod() built-in function, the code is now so much more simple:"
   ]
  },
  {
   "cell_type": "code",
   "execution_count": 6,
   "metadata": {
    "collapsed": false
   },
   "outputs": [
    {
     "name": "stdout",
     "output_type": "stream",
     "text": [
      "3 days | 18 hours | 44 minutes | 26.7 seconds"
     ]
    },
    {
     "ename": "KeyboardInterrupt",
     "evalue": "",
     "output_type": "error",
     "traceback": [
      "\u001b[1;31m---------------------------------------------------------------------------\u001b[0m",
      "\u001b[1;31mKeyboardInterrupt\u001b[0m                         Traceback (most recent call last)",
      "\u001b[1;32m<ipython-input-6-e7e853fd3a4a>\u001b[0m in \u001b[0;36m<module>\u001b[1;34m()\u001b[0m\n\u001b[0;32m     36\u001b[0m     \u001b[0mprint\u001b[0m\u001b[1;33m(\u001b[0m\u001b[1;34m'\\r'\u001b[0m \u001b[1;33m+\u001b[0m \u001b[0mstr\u001b[0m\u001b[1;33m(\u001b[0m\u001b[0mint\u001b[0m\u001b[1;33m(\u001b[0m\u001b[0mdays\u001b[0m\u001b[1;33m)\u001b[0m\u001b[1;33m)\u001b[0m \u001b[1;33m+\u001b[0m \u001b[0mstrDays\u001b[0m \u001b[1;33m+\u001b[0m \u001b[1;34m' | '\u001b[0m \u001b[1;33m+\u001b[0m \u001b[0mstr\u001b[0m\u001b[1;33m(\u001b[0m\u001b[0mint\u001b[0m\u001b[1;33m(\u001b[0m\u001b[0mhours\u001b[0m\u001b[1;33m)\u001b[0m\u001b[1;33m)\u001b[0m \u001b[1;33m+\u001b[0m \u001b[0mstrHours\u001b[0m \u001b[1;33m+\u001b[0m \u001b[1;34m' | '\u001b[0m \u001b[1;33m+\u001b[0m \u001b[0mstr\u001b[0m\u001b[1;33m(\u001b[0m\u001b[0mint\u001b[0m\u001b[1;33m(\u001b[0m\u001b[0mminutes\u001b[0m\u001b[1;33m)\u001b[0m\u001b[1;33m)\u001b[0m \u001b[1;33m+\u001b[0m           \u001b[0mstrMinutes\u001b[0m \u001b[1;33m+\u001b[0m \u001b[1;34m' | '\u001b[0m \u001b[1;33m+\u001b[0m \u001b[1;34m\"{0:.1f}\"\u001b[0m\u001b[1;33m.\u001b[0m\u001b[0mformat\u001b[0m\u001b[1;33m(\u001b[0m\u001b[0mseconds\u001b[0m\u001b[1;33m)\u001b[0m \u001b[1;33m+\u001b[0m \u001b[0mstrSeconds\u001b[0m\u001b[1;33m,\u001b[0m\u001b[0mend\u001b[0m\u001b[1;33m=\u001b[0m\u001b[1;34m''\u001b[0m\u001b[1;33m)\u001b[0m\u001b[1;33m\u001b[0m\u001b[0m\n\u001b[0;32m     37\u001b[0m \u001b[1;33m\u001b[0m\u001b[0m\n\u001b[1;32m---> 38\u001b[1;33m     \u001b[0mtime\u001b[0m\u001b[1;33m.\u001b[0m\u001b[0msleep\u001b[0m\u001b[1;33m(\u001b[0m\u001b[1;36m0.05\u001b[0m\u001b[1;33m)\u001b[0m\u001b[1;33m\u001b[0m\u001b[0m\n\u001b[0m",
      "\u001b[1;31mKeyboardInterrupt\u001b[0m: "
     ]
    }
   ],
   "source": [
    "from datetime import datetime\n",
    "import pytz\n",
    "import time\n",
    "\n",
    "end_date = datetime(2015,5,29,13,0,0,0,pytz.UTC)  # explicitly make time zone UTC\n",
    "\n",
    "while True:\n",
    "    time_till_end_date = end_date - datetime.now(pytz.UTC)  # explicitly make time zone UTC\n",
    "    total_seconds = time_till_end_date.total_seconds()\n",
    "    \n",
    "    minutes, seconds = divmod(total_seconds, 60)\n",
    "    hours, minutes = divmod(minutes, 60)\n",
    "    days, hours = divmod(hours, 24)\n",
    "    \n",
    "    if days > 1:\n",
    "        strDays = ' days'\n",
    "    else:\n",
    "        strDays = ' day'\n",
    "\n",
    "    if int(hours) > 1:\n",
    "        strHours = ' hours'\n",
    "    else:\n",
    "        strHours = ' hour'\n",
    "\n",
    "    if int(minutes) > 1:\n",
    "        strMinutes = ' minutes'\n",
    "    else:\n",
    "        strMinutes = ' minute'\n",
    "\n",
    "    if int(seconds) > 1:\n",
    "        strSeconds = ' seconds'\n",
    "    else:\n",
    "        strSeconds = ' second'\n",
    "\n",
    "    # print on the same line\n",
    "    print('\\r' + str(int(days)) + strDays + ' | ' + str(int(hours)) + strHours + ' | ' + str(int(minutes)) + \\\n",
    "          strMinutes + ' | ' + \"{0:.1f}\".format(seconds) + strSeconds,end='')\n",
    "    \n",
    "    time.sleep(0.05)"
   ]
  },
  {
   "cell_type": "markdown",
   "metadata": {},
   "source": [
    "### Another silly example of printing on the same line"
   ]
  },
  {
   "cell_type": "code",
   "execution_count": 5,
   "metadata": {
    "collapsed": false
   },
   "outputs": [
    {
     "name": "stdout",
     "output_type": "stream",
     "text": [
      "ALL YOUR BASE ARE BELONG TO US!"
     ]
    }
   ],
   "source": [
    "import time\n",
    "\n",
    "message = 'ALL YOUR BASE ARE BELONG TO US!'\n",
    "\n",
    "for i in range(1, len(message)+1):\n",
    "    time.sleep(0.3)\n",
    "    print('\\r'+message[:i],end='')"
   ]
  }
 ],
 "metadata": {
  "hide_input": false,
  "kernelspec": {
   "display_name": "Python 3",
   "language": "python",
   "name": "python3"
  },
  "language_info": {
   "codemirror_mode": {
    "name": "ipython",
    "version": 3
   },
   "file_extension": ".py",
   "mimetype": "text/x-python",
   "name": "python",
   "nbconvert_exporter": "python",
   "pygments_lexer": "ipython3",
   "version": "3.4.5"
  }
 },
 "nbformat": 4,
 "nbformat_minor": 0
}
