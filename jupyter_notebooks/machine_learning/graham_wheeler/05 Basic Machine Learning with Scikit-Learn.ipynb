{
 "cells": [
  {
   "cell_type": "markdown",
   "metadata": {},
   "source": [
    "# Basic Machine Learning with Scikit-Learn\n",
    "\n",
    "In this notebook we will look into the basics of building ML models with Scikit-Learn. Scikit-Learn is the most widely used Python library for ML, especially outside of deep learning (where there are several contenders and I recommend using Keras, which is a package that provides a simple API on top of several underlying contenders like TensorFlow and PyTorch).\n",
    "\n",
    "We'll proceed in this fashion:\n",
    "\n",
    "- give a brief overview of key terminology and the ML workflow\n",
    "- illustrate the typical use of SciKit-Learn API through some simple examples\n",
    "- discuss various metrics that can be used to evaluate ML models\n",
    "- dive deeper with some more complex examples\n",
    "- look at the various ways we can validate and improve our models\n",
    "- discuss the topic of feature engineering - ML models are good examples of \"garbage in, garbage out\", so cleaning our data and getting the right features is important\n",
    "- look at how we can combine models, and ways of interpreting the predictions we get out of our models\n",
    "- finally, provide some links as launch points for further learning.\n",
    "\n",
    "We are going to focus on practical ML, and will not be going much into the internal details of the various algorithms. We're also going to avoid the topics of *Deep Learning* and *neural nets*: these are generating a lot of hype at present but in general involve learning thousands of parameters requiring massive amounts of data for training (and a lot of time). The techniques we are going to look at can be used for much smaller problems and are generally very fast to train. It's worth having them in your toolkit and progressing to deep learning later.\n",
    "\n",
    "> It's worth noting that getting good data and the right features is generally more important than the type of model \n",
    "> you choose to use. The performance of the different types of ML model techniques is often similar. It's commonly\n",
    "> said in ML circles that 80% of time is spent on getting data cleaned up and doing *feature engineering* and only 20%\n",
    "> is spent on modeling. For example, until around 2014 when deep learning started taking off, most ML models at Google \n",
    "> were trained using the same system ([Sibyl](https://users.soe.ucsc.edu/~niejiazhong/slides/chandra.pdf)), a form of boosted logistic regression that could be run on large data sets \n",
    "> with map-reduce. Deep learning has an advantage that it can\n",
    "> *learn* features that would otherwise need to be engineered by hand, and can thus automate some of the manual work\n",
    "> typically done by an ML engineer, but in order to do that, as mentioned above, it generally needs a massive dataset and\n",
    "> often days or weeks of compute time. \n",
    "\n",
    "## ML Terminology\n",
    "\n",
    "*Machine Learning* is the process of building models from data, either to gain insight into the data or to make predictions for new data (generalization). There are two main categories:\n",
    "\n",
    "- *supervised learning*, in which the data (*training data*) is labeled with an known outcome (this is the *supervision* part), and the aim is to predict new outcomes from new data; if the outcome is a category this is called *classification* while if the outcome is a continuous quantity this is called *regression*\n",
    "- *unsupervised learning*, in which the data is analyzed for underlying patterns to gain insight; common examples are *clustering* (finding similar cases), *outlier detection* (finding unusual cases), and *dimensionality reduction* (reducing the number of variables needed to represent the data, essentially a form of lossy compression)\n",
    "\n",
    "The data used in ML is typically tabular. The columns are called *features* while the rows are *instances* or *observations*. For supervised learning, we call the  output column the *target* or *label*. We'll often refer to the vector if features as X and the output (label) as y, and say that we're trying to find a function that approximates f(X)=y; this function is our *model* and is characterized by some *model parameters*. We usually choose the type or class of model, and then use ML techniques to learn the model parameters that minimize the *error* (the difference between the predicted and actual output). More generally we can think of this as an optimization problem, where we are trying to learn the parameters that minimize a *loss function*; that loss function is typically going to be some cumulative function of the errors; a common loss function is RMSE (root mean square of errors).\n",
    "\n",
    "While we learn the model parameters, there are some other parameters we need to specify as inputs to the model too; these are called *hyperparameters*. For example, if we learn a decision tree model, the parameters might be the features being tested at each branch and the values they are being tested against, while the hyperparameters would include the depth that we want to limit the tree to. For a polynomial regression model, the parameters would be the coefficients of the polynomial, while the hyperparameters could include the degree of polynomial we want to learn.\n",
    "\n",
    "## ML Workflow\n",
    "\n",
    "A typical machine learning workflow begins with:\n",
    "\n",
    "- getting the data\n",
    "- exploring and cleaning up the data (handling missing values, normalizing values, removing bad data and outliers, encoding data in appropriate representations, and more)\n",
    "- possibly creating some additional synthetic values (e.g. we could use linear regression to fit a higher-order polynomial by creating synthetic values that are existing values raised to the power 2, 3, etc; other common examples might be computing and including aggregate values like means and standard deviations of some of the original values)\n",
    "- picking a type of model to use, and configuring the initial hyperparameters\n",
    "\n",
    "After which we could do multiple iterations of:\n",
    "\n",
    "- training the model\n",
    "- evaluating the results\n",
    "- adjusting the model type or the hyperparameters if the results are not yet satisfactory\n",
    "\n",
    "And this second phase could necessitate a return to the first phase, to get more data or create more synthetic features.\n",
    "\n",
    "The hyperparameter tuning could be done manually or may itself be automated by doing a state-space search through the possible values.\n",
    "\n",
    "After some number of iterations, if we have a model that improves upon existing capabilities, we would want to deploy it. For the model to be useful, new data that we feed to the model should have similar properties to the test data (i.e. we rely on our test set being representative of the new data). If this is not true (e.g. because the future is just different and unpredictable, or perhaps we have *overfit* the training data), the model likely will not generalize well. If it is true, then we may be done, at least for some time, but in many cases future data will eventually diverge from the past and the model will degrade. We thus need to get more recent data, retrain, retune, and redeploy. The cadence of these refreshes will depend on the particular problem we are addressing. For example, if we build a model to recognize species of flowers we may need to retrain very infrequently or possibly never, as the primary reason to retrain is that we discover species that the model has not accounted for. On the other hand, if we build a model to detect fraudulent behavior we are pitting the model against adversaries that are adaptive and intelligent and we may need constant refreshes.\n"
   ]
  },
  {
   "cell_type": "markdown",
   "metadata": {},
   "source": [
    "## Exploring the Iris Dataset\n",
    "\n",
    "Let's look at an example, the famous (in data science circles!) _iris flower dataset_. We'll eventually be trying to predict the species, so it will be a focus even in our initial exploratory work. The Seaborn plotting library includes this as a sample so we can load it that way:"
   ]
  },
  {
   "cell_type": "code",
   "execution_count": 1,
   "metadata": {},
   "outputs": [],
   "source": [
    "# Ensure our plots are inline in the notebook\n",
    "%matplotlib inline"
   ]
  },
  {
   "cell_type": "code",
   "execution_count": null,
   "metadata": {},
   "outputs": [],
   "source": [
    "# Install dependencies\n",
    "# sys.executable is the path to the Python executable; e.g. /usr/bin/python\n",
    "import sys\n",
    "!conda config --add channels conda-forge\n",
    "!conda install --yes --prefix {sys.prefix} seaborn\n",
    "!conda install --yes --prefix {sys.prefix} scikit-learn"
   ]
  },
  {
   "cell_type": "code",
   "execution_count": 2,
   "metadata": {},
   "outputs": [],
   "source": [
    "# Let's import numpy and pandas while we're at it.\n",
    "import numpy as np\n",
    "import pandas as pd"
   ]
  },
  {
   "cell_type": "code",
   "execution_count": 3,
   "metadata": {},
   "outputs": [
    {
     "data": {
      "text/html": [
       "<div>\n",
       "<style scoped>\n",
       "    .dataframe tbody tr th:only-of-type {\n",
       "        vertical-align: middle;\n",
       "    }\n",
       "\n",
       "    .dataframe tbody tr th {\n",
       "        vertical-align: top;\n",
       "    }\n",
       "\n",
       "    .dataframe thead th {\n",
       "        text-align: right;\n",
       "    }\n",
       "</style>\n",
       "<table border=\"1\" class=\"dataframe\">\n",
       "  <thead>\n",
       "    <tr style=\"text-align: right;\">\n",
       "      <th></th>\n",
       "      <th>sepal_length</th>\n",
       "      <th>sepal_width</th>\n",
       "      <th>petal_length</th>\n",
       "      <th>petal_width</th>\n",
       "      <th>species</th>\n",
       "    </tr>\n",
       "  </thead>\n",
       "  <tbody>\n",
       "    <tr>\n",
       "      <th>0</th>\n",
       "      <td>5.1</td>\n",
       "      <td>3.5</td>\n",
       "      <td>1.4</td>\n",
       "      <td>0.2</td>\n",
       "      <td>setosa</td>\n",
       "    </tr>\n",
       "    <tr>\n",
       "      <th>1</th>\n",
       "      <td>4.9</td>\n",
       "      <td>3.0</td>\n",
       "      <td>1.4</td>\n",
       "      <td>0.2</td>\n",
       "      <td>setosa</td>\n",
       "    </tr>\n",
       "    <tr>\n",
       "      <th>2</th>\n",
       "      <td>4.7</td>\n",
       "      <td>3.2</td>\n",
       "      <td>1.3</td>\n",
       "      <td>0.2</td>\n",
       "      <td>setosa</td>\n",
       "    </tr>\n",
       "    <tr>\n",
       "      <th>3</th>\n",
       "      <td>4.6</td>\n",
       "      <td>3.1</td>\n",
       "      <td>1.5</td>\n",
       "      <td>0.2</td>\n",
       "      <td>setosa</td>\n",
       "    </tr>\n",
       "    <tr>\n",
       "      <th>4</th>\n",
       "      <td>5.0</td>\n",
       "      <td>3.6</td>\n",
       "      <td>1.4</td>\n",
       "      <td>0.2</td>\n",
       "      <td>setosa</td>\n",
       "    </tr>\n",
       "  </tbody>\n",
       "</table>\n",
       "</div>"
      ],
      "text/plain": [
       "   sepal_length  sepal_width  petal_length  petal_width species\n",
       "0           5.1          3.5           1.4          0.2  setosa\n",
       "1           4.9          3.0           1.4          0.2  setosa\n",
       "2           4.7          3.2           1.3          0.2  setosa\n",
       "3           4.6          3.1           1.5          0.2  setosa\n",
       "4           5.0          3.6           1.4          0.2  setosa"
      ]
     },
     "execution_count": 3,
     "metadata": {},
     "output_type": "execute_result"
    }
   ],
   "source": [
    "import seaborn as sns\n",
    "\n",
    "iris = sns.load_dataset('iris')  # returns a dataframe\n",
    "iris.head()"
   ]
  },
  {
   "cell_type": "markdown",
   "metadata": {},
   "source": [
    "We would usually start with some exploratory analysis of the data. A very common approach if the number of features is not too high is to use a *pairplot* or *scatter matrix*, which plots multiple pairwise scatterplots for each combination of pairs of features, as well as the distribution of each feature. Pandas Dataframes have a `scatter_matrix()` method to do this but Seaborn has a similar `pairplot` API that is easier to use:"
   ]
  },
  {
   "cell_type": "code",
   "execution_count": 4,
   "metadata": {},
   "outputs": [
    {
     "data": {
      "image/png": "[encoded data removed]",
      "text/plain": [
       "<Figure size 806.85x720 with 20 Axes>"
      ]
     },
     "metadata": {},
     "output_type": "display_data"
    }
   ],
   "source": [
    "sns.set()  # set the default style for Seaborn\n",
    "\n",
    "sns.pairplot(iris, hue='species');"
   ]
  },
  {
   "cell_type": "markdown",
   "metadata": {},
   "source": [
    "In the pairplot, we're looking for several things: \n",
    "\n",
    "- are there features that are strongly correlated (or strongly inversely correlated)? If so, we may want to exclude one of the features, to simplify the model;\n",
    "- are there obvious clusters, that may be linearly separable? If so we may get far with simple linear models (as opposed to more complex models like decision trees).\n",
    "- are there features which seem correlated but our intuition or domain knowledge tells us should not be? In this case we may be missing features that are important to the model (these are called *confounding variables*). For example, we may see a correlation between daily ice cream consumption and drive-by shooting rates. We shouldn't expect this. It may be that the confounding variable is weather - in hotter weather people are more likely to be outside, resulting in an increase in both ice cream consumption and drive-by shootings.\n",
    "- looking at the diagonal, are the distributions Gaussian (normal)? Some modeling techniques (e.g. Gaussian naive Bayes, logistic regression, and Linear Discriminant Analysis (LDA)) depend on the features having such a distribution.\n",
    "\n",
    "For classification, we ideally want a dataset that is balanced in the number of observations of each category. We can check this with:"
   ]
  },
  {
   "cell_type": "code",
   "execution_count": 5,
   "metadata": {},
   "outputs": [
    {
     "data": {
      "text/plain": [
       "species\n",
       "setosa        50\n",
       "versicolor    50\n",
       "virginica     50\n",
       "dtype: int64"
      ]
     },
     "execution_count": 5,
     "metadata": {},
     "output_type": "execute_result"
    }
   ],
   "source": [
    "iris.groupby('species').size()"
   ]
  },
  {
   "cell_type": "markdown",
   "metadata": {},
   "source": [
    "If the dataset is not balanced we can resample it, over-sampling from items from less common classes (if we don't have a lot of data) or undersampling from items with more common classes (if we have plenty of data). For more strategies to deal with this see [here](https://machinelearningmastery.com/tactics-to-combat-imbalanced-classes-in-your-machine-learning-dataset/).\n",
    "\n",
    "Aside from the frequency histograms on the diagonal of the scatter plot, another way of looking at the distributions is with density plots:"
   ]
  },
  {
   "cell_type": "code",
   "execution_count": 6,
   "metadata": {},
   "outputs": [
    {
     "data": {
      "image/png": "[encoded data removed]",
      "text/plain": [
       "<Figure size 432x288 with 4 Axes>"
      ]
     },
     "metadata": {},
     "output_type": "display_data"
    }
   ],
   "source": [
    "import matplotlib.pyplot as plt\n",
    "iris.plot(kind='density', subplots=True, sharex=False)\n",
    "plt.show()"
   ]
  },
  {
   "cell_type": "markdown",
   "metadata": {},
   "source": [
    "Sepal length and sepal width are approximately Gaussian; petal length and petal width not so much; in fact, these are *bimodal* (see https://en.wikipedia.org/wiki/Multimodal_distribution).\n",
    "\n",
    "If the distributions are not Gaussian, we may want to normalize them, which we can do with a Box Cox transformation. That is beyond the scope of this notebook; Google it if you need it. For this particular case of bimodal distributions, we would instead favor [Gaussian mixture models](http://scikit-learn.org/stable/modules/mixture.html). For now we will ignore these complexities, especially as this is a simple dataset. We will discuss some options for cleaning the dataset by rescaling features later.\n",
    "\n",
    "We're not going to remove any observations here, but its worth discussing ways in which we can detect and remove outliers. There's no one solution but there are several techniques that can be used, such as:\n",
    "\n",
    "- looking at the distribution of values for a feature, and removing the top and bottom percentiles\n",
    "- computing the mean and standard deviation and removing items that are too far removed from the mean (typically something like 3x standard deviations from the mean)\n",
    "- of course, mean and standard deviation are themselves sensitive to outliers, so we might combine the above techniques: compute the mean and standard deviation of the data after dropping the top and bottom percentiles as in the first method, and then using that pair of mean and standard deviation applied to the full data set s in the second method."
   ]
  },
  {
   "cell_type": "markdown",
   "metadata": {},
   "source": [
    "## A Simple Classification Model to Predict the Species\n",
    "\n",
    "In practice, we would usually store the data in the form of a Pandas DataFrame or NumPy array, the *features matrix*, and assign it to a variable `X`. Lets get the data into the X/y form we need for training a model:"
   ]
  },
  {
   "cell_type": "code",
   "execution_count": 7,
   "metadata": {},
   "outputs": [
    {
     "data": {
      "text/html": [
       "<div>\n",
       "<style scoped>\n",
       "    .dataframe tbody tr th:only-of-type {\n",
       "        vertical-align: middle;\n",
       "    }\n",
       "\n",
       "    .dataframe tbody tr th {\n",
       "        vertical-align: top;\n",
       "    }\n",
       "\n",
       "    .dataframe thead th {\n",
       "        text-align: right;\n",
       "    }\n",
       "</style>\n",
       "<table border=\"1\" class=\"dataframe\">\n",
       "  <thead>\n",
       "    <tr style=\"text-align: right;\">\n",
       "      <th></th>\n",
       "      <th>sepal_length</th>\n",
       "      <th>sepal_width</th>\n",
       "      <th>petal_length</th>\n",
       "      <th>petal_width</th>\n",
       "    </tr>\n",
       "  </thead>\n",
       "  <tbody>\n",
       "    <tr>\n",
       "      <th>0</th>\n",
       "      <td>5.1</td>\n",
       "      <td>3.5</td>\n",
       "      <td>1.4</td>\n",
       "      <td>0.2</td>\n",
       "    </tr>\n",
       "    <tr>\n",
       "      <th>1</th>\n",
       "      <td>4.9</td>\n",
       "      <td>3.0</td>\n",
       "      <td>1.4</td>\n",
       "      <td>0.2</td>\n",
       "    </tr>\n",
       "    <tr>\n",
       "      <th>2</th>\n",
       "      <td>4.7</td>\n",
       "      <td>3.2</td>\n",
       "      <td>1.3</td>\n",
       "      <td>0.2</td>\n",
       "    </tr>\n",
       "    <tr>\n",
       "      <th>3</th>\n",
       "      <td>4.6</td>\n",
       "      <td>3.1</td>\n",
       "      <td>1.5</td>\n",
       "      <td>0.2</td>\n",
       "    </tr>\n",
       "    <tr>\n",
       "      <th>4</th>\n",
       "      <td>5.0</td>\n",
       "      <td>3.6</td>\n",
       "      <td>1.4</td>\n",
       "      <td>0.2</td>\n",
       "    </tr>\n",
       "  </tbody>\n",
       "</table>\n",
       "</div>"
      ],
      "text/plain": [
       "   sepal_length  sepal_width  petal_length  petal_width\n",
       "0           5.1          3.5           1.4          0.2\n",
       "1           4.9          3.0           1.4          0.2\n",
       "2           4.7          3.2           1.3          0.2\n",
       "3           4.6          3.1           1.5          0.2\n",
       "4           5.0          3.6           1.4          0.2"
      ]
     },
     "execution_count": 7,
     "metadata": {},
     "output_type": "execute_result"
    }
   ],
   "source": [
    "X = iris.drop('species', axis=1)\n",
    "X.head()"
   ]
  },
  {
   "cell_type": "code",
   "execution_count": 8,
   "metadata": {},
   "outputs": [
    {
     "data": {
      "text/plain": [
       "0    setosa\n",
       "1    setosa\n",
       "2    setosa\n",
       "3    setosa\n",
       "4    setosa\n",
       "Name: species, dtype: object"
      ]
     },
     "execution_count": 8,
     "metadata": {},
     "output_type": "execute_result"
    }
   ],
   "source": [
    "y = iris['species'] \n",
    "y.head()"
   ]
  },
  {
   "cell_type": "markdown",
   "metadata": {},
   "source": [
    "SciKit-Learn has a simple and consistent API that makes it easy to learn. After getting the data in the right form, the steps are just:\n",
    "\n",
    "- import the model type\n",
    "- instantiate the model with the appropriate *hyperparameters*\n",
    "- call the `fit()` API to learn the model parameters\n",
    "- call `predict()` to predict the results for new data\n",
    "\n",
    "We want to test our model on new data; the typical way to do this is to split the data into a *training set* and a *testing set*; a common split is 80/20 or 75/25; we'll use 20% for test:\n"
   ]
  },
  {
   "cell_type": "code",
   "execution_count": 9,
   "metadata": {},
   "outputs": [],
   "source": [
    "from sklearn.model_selection import train_test_split\n",
    "        \n",
    "Xtrain, Xtest, ytrain, ytest = train_test_split(X, y, random_state=1, test_size=0.2)\n"
   ]
  },
  {
   "cell_type": "markdown",
   "metadata": {},
   "source": [
    "The first model type we will apply is Gaussian naive Bayes; this is simple and fast and needs no hyperparameters so it is a good baseline. It is called *naive* because it \"naively\" assumes all the features are independent, and *Gaussian* because it assumes each feature has a normal distribution. While that isn't true in our example we can still try it as a model:"
   ]
  },
  {
   "cell_type": "code",
   "execution_count": 10,
   "metadata": {},
   "outputs": [
    {
     "data": {
      "text/plain": [
       "GaussianNB(priors=None, var_smoothing=1e-09)"
      ]
     },
     "execution_count": 10,
     "metadata": {},
     "output_type": "execute_result"
    }
   ],
   "source": [
    "from sklearn.naive_bayes import GaussianNB\n",
    "        \n",
    "gnbmodel = GaussianNB()\n",
    "gnbmodel.fit(Xtrain, ytrain)"
   ]
  },
  {
   "cell_type": "code",
   "execution_count": 11,
   "metadata": {},
   "outputs": [
    {
     "data": {
      "text/plain": [
       "array(['setosa', 'versicolor', 'versicolor', 'setosa', 'virginica',\n",
       "       'versicolor', 'virginica', 'setosa', 'setosa', 'virginica',\n",
       "       'versicolor', 'setosa', 'virginica', 'versicolor', 'versicolor',\n",
       "       'setosa', 'versicolor', 'versicolor', 'setosa', 'setosa',\n",
       "       'versicolor', 'versicolor', 'virginica', 'setosa', 'virginica',\n",
       "       'versicolor', 'setosa', 'setosa', 'versicolor', 'virginica'],\n",
       "      dtype='<U10')"
      ]
     },
     "execution_count": 11,
     "metadata": {},
     "output_type": "execute_result"
    }
   ],
   "source": [
    "ypredict = gnbmodel.predict(Xtest)\n",
    "ypredict"
   ]
  },
  {
   "cell_type": "markdown",
   "metadata": {},
   "source": [
    "To evaluate the model we want to know the accuracy, which we can get by comparing the actual values with the predicted values; SciKit-Learn has a helper function `accuracy_score` for this:"
   ]
  },
  {
   "cell_type": "code",
   "execution_count": 12,
   "metadata": {},
   "outputs": [
    {
     "data": {
      "text/plain": [
       "0.9666666666666667"
      ]
     },
     "execution_count": 12,
     "metadata": {},
     "output_type": "execute_result"
    }
   ],
   "source": [
    "from sklearn.metrics import accuracy_score\n",
    "        \n",
    "accuracy_score(ytest, ypredict)"
   ]
  },
  {
   "cell_type": "markdown",
   "metadata": {},
   "source": [
    "So even a simple model with unsatisfied assumptions is almost 97% accurate on this data.\n",
    "\n",
    "Let's look at a different model, so you can see how easy it is to switch between different approaches. We'll use a *k-nearest neighbors* model. In this case a prediction is made by finding the k-nearest observations (for some k, which is our hyperparameter). The labels associated with those observations are used to get the predicted label (if they disagree, the most commonly occurring one is picked; if there is a tie a random winner is picked):"
   ]
  },
  {
   "cell_type": "code",
   "execution_count": 13,
   "metadata": {},
   "outputs": [
    {
     "data": {
      "text/plain": [
       "1.0"
      ]
     },
     "execution_count": 13,
     "metadata": {},
     "output_type": "execute_result"
    }
   ],
   "source": [
    "from sklearn.neighbors import KNeighborsClassifier\n",
    "\n",
    "knnmodel = KNeighborsClassifier(n_neighbors=1)  # We'll use k=1\n",
    "knnmodel.fit(Xtrain, ytrain)\n",
    "ypredict = knnmodel.predict(Xtest)\n",
    "accuracy_score(ytest, ypredict)"
   ]
  },
  {
   "cell_type": "markdown",
   "metadata": {},
   "source": [
    "Finally, let's try a decision tree model:"
   ]
  },
  {
   "cell_type": "code",
   "execution_count": 14,
   "metadata": {},
   "outputs": [
    {
     "data": {
      "text/plain": [
       "0.9666666666666667"
      ]
     },
     "execution_count": 14,
     "metadata": {},
     "output_type": "execute_result"
    }
   ],
   "source": [
    "from sklearn.tree import DecisionTreeClassifier\n",
    "\n",
    "dtmodel = DecisionTreeClassifier(max_depth=4)\n",
    "dtmodel.fit(Xtrain, ytrain)\n",
    "ypredict = dtmodel.predict(Xtest)\n",
    "accuracy_score(ytest, ypredict)"
   ]
  },
  {
   "cell_type": "markdown",
   "metadata": {},
   "source": [
    "### How Confused is the Model?\n",
    "\n",
    "Another way to see how well we have done is to use a *[confusion matrix](https://en.wikipedia.org/wiki/Confusion_matrix)* that plots counts of predicted vs actual values. This is usually only useful for a small number of classes or it becomes hard to understand. For our model:"
   ]
  },
  {
   "cell_type": "code",
   "execution_count": 15,
   "metadata": {},
   "outputs": [
    {
     "data": {
      "image/png": "[encoded data removed]",
      "text/plain": [
       "<Figure size 432x288 with 1 Axes>"
      ]
     },
     "metadata": {},
     "output_type": "display_data"
    }
   ],
   "source": [
    "from sklearn.metrics import confusion_matrix\n",
    "import matplotlib.pyplot as plt \n",
    "\n",
    "mat = confusion_matrix(ytest, ypredict)\n",
    "\n",
    "sns.heatmap(mat, square=True, annot=True, cbar=False)\n",
    "plt.xlabel('predicted value')\n",
    "plt.ylabel('true value');"
   ]
  },
  {
   "cell_type": "markdown",
   "metadata": {},
   "source": [
    "We can see from the above that we got 29 predictions right, and only one wrong.\n",
    "\n",
    "Confusion matrices are particularly useful for binary classifiers (only two output states), where we can clearly see the number of false positives and false negatives.\n",
    "\n",
    "This leads us to two important metrics: *precision* and *recall*. For a binary classifier, we have:\n",
    "\n",
    "| Predicted | Actual | Result |\n",
    "|-----------|--------|--------|\n",
    "| Negative  | Negative | True Negative (TN) |\n",
    "| Negative  | Positive | False Negative (FN) aka Type 2 error |\n",
    "| Positive  | Negative | False Positive (FP) aka Type 1 error |\n",
    "| Positive  | Positive | True Positive (TP) |\n",
    "\n",
    "Then:\n",
    "\n",
    "- *precision* or *Positive Predictive Value (PPV)* is $\\frac{TP}{TP + FP}$\n",
    "- *recall* or *sensitivity* or *true-positive rate* is $\\frac{TP}{TP+FN}$\n",
    "- *specificity* or *true-negative rate* is $\\frac{TN}{TN+FP}$\n",
    "\n",
    "![From Wikipedia](https://upload.wikimedia.org/wikipedia/commons/thumb/2/26/Precisionrecall.svg/350px-Precisionrecall.svg.png)\n",
    "\n",
    "Consider an example: let's say we have a model that can predict if a patient has cancer or not. Then:\n",
    "\n",
    "- if we predict cancer and they have cancer, this is a true positive\n",
    "- if we predict no cancer and they have no cancer, this is a true negative\n",
    "- if we predict cancer and they are cancer free, this is a false positive or type 1 error\n",
    "- if we predict no cancer but they do have cancer, this is a false negative or type 2 error\n",
    "- the *precision* of the model is the percentage of people who we predicted to have cancer that actually have cancer \n",
    "- the *recall* of the model is the percentage of patients with cancer that we managed to correctly predict\n",
    "- the *specificity* of the model is the percentage of patients free of cancer that we managed to correctly predict\n",
    "\n",
    "In addition, the *coverage* of a model is the proportion of the population for which a model makes a prediction. In many cases a model will output a weight or probability and if that does not meet some confidence threshold we will not use the prediction; e.g. if we only give predictions for 40% of the population the coverage is 40%. We could also refer to the coverage of a specific predicted value; say we have a multi-class classifier model that predicts class A 30% of the time, class B 50% of the time, and class C 20% of the time; we may refer to the \"B coverage\" as being 50%. There is some ambiguity here if the overall model coverage is not 100%, so use \"coverage\" in this way with care and make sure you clearly define what you mean for your use case.\n"
   ]
  },
  {
   "cell_type": "markdown",
   "metadata": {},
   "source": [
    "## Unsupervised Learning - Dimensionality Reduction with PCA on Iris Dataset\n",
    "\n",
    "We'll now look at an example of unsupervised learning, doing [Principal Component Analysis](https://en.wikipedia.org/wiki/Principal_component_analysis) to do dimensionality reduction on the dataset so we can reduce it to two dimensions (which we'll call PCA1 and PCA2) for visualization.\n"
   ]
  },
  {
   "cell_type": "code",
   "execution_count": 16,
   "metadata": {},
   "outputs": [
    {
     "data": {
      "text/plain": [
       "array([[-2.68412563,  0.31939725],\n",
       "       [-2.71414169, -0.17700123],\n",
       "       [-2.88899057, -0.14494943],\n",
       "       [-2.74534286, -0.31829898],\n",
       "       [-2.72871654,  0.32675451]])"
      ]
     },
     "execution_count": 16,
     "metadata": {},
     "output_type": "execute_result"
    }
   ],
   "source": [
    "from sklearn.decomposition import PCA \n",
    "\n",
    "model = PCA(n_components=2) # Reduce to two features/dimensions\n",
    "model.fit(X)  # No need to specify y for unsupervised.\n",
    "X_2D = model.transform(X) \n",
    "# See the first few entries\n",
    "X_2D[:5]"
   ]
  },
  {
   "cell_type": "code",
   "execution_count": 17,
   "metadata": {},
   "outputs": [
    {
     "data": {
      "text/html": [
       "<div>\n",
       "<style scoped>\n",
       "    .dataframe tbody tr th:only-of-type {\n",
       "        vertical-align: middle;\n",
       "    }\n",
       "\n",
       "    .dataframe tbody tr th {\n",
       "        vertical-align: top;\n",
       "    }\n",
       "\n",
       "    .dataframe thead th {\n",
       "        text-align: right;\n",
       "    }\n",
       "</style>\n",
       "<table border=\"1\" class=\"dataframe\">\n",
       "  <thead>\n",
       "    <tr style=\"text-align: right;\">\n",
       "      <th></th>\n",
       "      <th>PCA1</th>\n",
       "      <th>PCA2</th>\n",
       "      <th>species</th>\n",
       "    </tr>\n",
       "  </thead>\n",
       "  <tbody>\n",
       "    <tr>\n",
       "      <th>0</th>\n",
       "      <td>-2.684126</td>\n",
       "      <td>0.319397</td>\n",
       "      <td>setosa</td>\n",
       "    </tr>\n",
       "    <tr>\n",
       "      <th>1</th>\n",
       "      <td>-2.714142</td>\n",
       "      <td>-0.177001</td>\n",
       "      <td>setosa</td>\n",
       "    </tr>\n",
       "    <tr>\n",
       "      <th>2</th>\n",
       "      <td>-2.888991</td>\n",
       "      <td>-0.144949</td>\n",
       "      <td>setosa</td>\n",
       "    </tr>\n",
       "    <tr>\n",
       "      <th>3</th>\n",
       "      <td>-2.745343</td>\n",
       "      <td>-0.318299</td>\n",
       "      <td>setosa</td>\n",
       "    </tr>\n",
       "    <tr>\n",
       "      <th>4</th>\n",
       "      <td>-2.728717</td>\n",
       "      <td>0.326755</td>\n",
       "      <td>setosa</td>\n",
       "    </tr>\n",
       "  </tbody>\n",
       "</table>\n",
       "</div>"
      ],
      "text/plain": [
       "       PCA1      PCA2 species\n",
       "0 -2.684126  0.319397  setosa\n",
       "1 -2.714142 -0.177001  setosa\n",
       "2 -2.888991 -0.144949  setosa\n",
       "3 -2.745343 -0.318299  setosa\n",
       "4 -2.728717  0.326755  setosa"
      ]
     },
     "execution_count": 17,
     "metadata": {},
     "output_type": "execute_result"
    }
   ],
   "source": [
    "# Lets make a DataFrame and plot it.\n",
    "\n",
    "df = pd.DataFrame(X_2D, columns=['PCA1', 'PCA2'])\n",
    "df['species'] = y\n",
    "df.head()"
   ]
  },
  {
   "cell_type": "code",
   "execution_count": 18,
   "metadata": {},
   "outputs": [
    {
     "data": {
      "image/png": "[encoded data removed]",
      "text/plain": [
       "<Figure size 446.85x360 with 1 Axes>"
      ]
     },
     "metadata": {},
     "output_type": "display_data"
    }
   ],
   "source": [
    "sns.lmplot(\"PCA1\", \"PCA2\", hue='species', data=df, fit_reg=False);"
   ]
  },
  {
   "cell_type": "markdown",
   "metadata": {},
   "source": [
    "The interesting thing to note is how the species are well separated. But when we generated the PCA values we did not tell the model anything about the species! This means that we should be able to use the input features (or the synthetic PCA features) and generate a good classification model. "
   ]
  },
  {
   "cell_type": "markdown",
   "metadata": {},
   "source": [
    "## Unsupervised Learning - Clustering on Iris Dataset\n",
    "\n",
    "Now let's look at clustering. We'll use [k-means clustering](https://en.wikipedia.org/wiki/K-means_clustering):"
   ]
  },
  {
   "cell_type": "code",
   "execution_count": 19,
   "metadata": {},
   "outputs": [],
   "source": [
    "from sklearn.cluster import KMeans\n",
    "\n",
    "model = KMeans(n_clusters=3)\n",
    "model.fit(X)\n",
    "y_kmeans = model.predict(X)"
   ]
  },
  {
   "cell_type": "markdown",
   "metadata": {},
   "source": [
    "We can see how well we have done by plotting each cluster separately. We'll use the PCA pseudo-features so we can still use 2D plots."
   ]
  },
  {
   "cell_type": "code",
   "execution_count": 20,
   "metadata": {},
   "outputs": [
    {
     "data": {
      "image/png": "[encoded data removed]",
      "text/plain": [
       "<Figure size 1166.85x360 with 3 Axes>"
      ]
     },
     "metadata": {},
     "output_type": "display_data"
    }
   ],
   "source": [
    "df['cluster'] = y_kmeans\n",
    "sns.lmplot('PCA1', 'PCA2', data=df, hue='species', col='cluster', fit_reg=False); "
   ]
  },
  {
   "cell_type": "markdown",
   "metadata": {},
   "source": [
    "It's clear we have done very well in clustering in the blue case, but a bit less well with the other two species; this makes sense if you look at the earlier PCA plot, where you can see the blue species is more cleanly separated than the other two."
   ]
  },
  {
   "cell_type": "markdown",
   "metadata": {},
   "source": [
    "## Metrics for Evaluating Supervised Models\n",
    "\n",
    "So far we have used classification accuracy, i.e. the percentage of correct predictions made, to evaluate models. This is really only suitable when there are an equal number of observations in each class, which is rarely the case, and that all predictions and prediction errors are equally important, which is often not the case. However, there are other metrics we can use; we've already mentioned precision and recall and we'll look at some more here and then show how they can be used in the next couple of examples.\n",
    "\n",
    "### Classification Metrics\n",
    "\n",
    "#### Log(arithmic) Loss\n",
    "\n",
    "For multi-class classification where the model outputs a probability for each class we can use log-loss. This is commonly used in Kaggle competitions. It is defined as:\n",
    "\n",
    "   $LL = - \\frac{1}{N} \\sum_{i=1}^N \\sum_{j=1}^M y_{ij} \\log \\, p_{ij}$\n",
    "\n",
    "where $N$ is the number of samples or instances, $M$ is the number of possible labels, $y_{ij}$ is a binary indicator of whether or not label $j$ is the correct classification for instance $i$, and $p_{ij}$ is the model probability of assigning label $j$ to instance $i$. \n",
    "\n",
    "Smaller logloss is better with 0 representing a perfect classification.\n",
    "\n",
    "#### Classification Report\n",
    "\n",
    "This shows precision, recall, and F1 score (the harmonic mean of precision and recall).\n",
    "\n",
    "    F1 score = 2 * ((precision * recall) / (precision + recall))\n",
    "\n",
    "F1 scores range from 0 (worst) to 1 (best)."
   ]
  },
  {
   "cell_type": "code",
   "execution_count": 21,
   "metadata": {},
   "outputs": [
    {
     "name": "stdout",
     "output_type": "stream",
     "text": [
      "              precision    recall  f1-score   support\n",
      "\n",
      "      setosa       1.00      1.00      1.00        11\n",
      "  versicolor       1.00      0.92      0.96        13\n",
      "   virginica       0.86      1.00      0.92         6\n",
      "\n",
      "   micro avg       0.97      0.97      0.97        30\n",
      "   macro avg       0.95      0.97      0.96        30\n",
      "weighted avg       0.97      0.97      0.97        30\n",
      "\n"
     ]
    }
   ],
   "source": [
    "from sklearn.metrics import classification_report\n",
    "\n",
    "print(classification_report(ytest, ypredict))"
   ]
  },
  {
   "cell_type": "markdown",
   "metadata": {},
   "source": [
    "#### Area under ROC Curve\n",
    "\n",
    "Area under ROC Curve (or AUC) represents a binary classifier’s ability to discriminate between positive and negative classes. Many binary classifiers output probabilities rather than 0/1, and it may be that the optimal split is not at 0.5; in fact it usually isn't. In this case we would want to know what probability value to pick as a threshold to distinguish between 0/1 with maximum accuracy. There is a trade-off - as we move the threshold we may get more true positives but we're also going to get more false positives. The AUC shows this trade-off this accuracy for different thresholds. We're not going to go into the details here; if you're interested there is good explanation at http://fastml.com/what-you-wanted-to-know-about-auc/ and a deep discussion at http://mlwiki.org/index.php/ROC_Analysis\n",
    "\n",
    "### Regression Metrics\n",
    "\n",
    "#### Mean Absolute Error\n",
    "\n",
    "This is just the sum of the absolute values of the prediction errors; i.e.:\n",
    "\n",
    "   $MAE = \\frac{\\sum\\limits_{i=1}^n |y_i - \\hat{y_i}|}{n}$\n",
    "\n",
    "where $y_i$ is the actual value for the $i$th sample and $\\hat{y_i}$ is the predicted value.\n",
    "\n",
    "\n",
    "#### (Root) Mean Squared Error\n",
    "\n",
    "This is the mean value of the square of the errors:\n",
    "\n",
    "   $MSE = \\frac{\\sum\\limits_{i=1}^n (y_i - \\hat{y_i})^2}{n}$\n",
    "\n",
    "To reduce the size of the value we can take the square root at the end; this gives us the Root Mean Squared Error or RMSE.\n",
    "\n",
    "#### $R^2$\n",
    "\n",
    "$r^2$ is also known as the [coefficient of determination](https://en.wikipedia.org/wiki/Coefficient_of_determination) and is 0 for no fit and 1 for a perfect fit. It is the proportion of the variation in the dependent variable that is predictable from the independent variable(s).\n"
   ]
  },
  {
   "cell_type": "markdown",
   "metadata": {},
   "source": [
    "## Model Validation\n",
    "\n",
    "We've seen one way of doing model validation; namely, splitting the data into a training set and a test set. In this section we'll look at a more sophisticated approach, namely cross-validation. We'll also see how we can use run into the problem of overfitting the data, and discuss the two concepts of bias and variance, and how these are traded-off.\n",
    "\n",
    "### Overfitting the Training Data\n",
    "\n",
    "Imagine that for our model, we just hashed the input features to the output label. If we ran this as a model, and passed the same training data in as test data, we would get an exact match every time, suggesting we have a 100% accurate model! But if we gave the model new data it hadn't seen, it would fail dismally, not even being able to predict a result. We could address this by using some kind of fuzzy matching of hash keys, so at least we could get predictions out, but the result is likely to be a poor model. This illustrates two problems:\n",
    "\n",
    "- we shouldn't test with our training data or we are likely to get an unreasonable expectation of accuracy\n",
    "- the model may 'fit' the training data very well but not generalize well to new data; we call this 'overfitting'\n",
    "\n",
    "On the other hand, if we split into test and training data (where the test data is what we call a 'holdout set'), we lose some of our training data. What to do? Fortunately, there is a way we can use all of our data for training *and* for testing, using *cross-validation*!\n",
    "\n",
    "### Cross Validation\n",
    "\n",
    "Let's say we split the data in half; call the two halves H1 and H2. We could train a model on H1 and test it on H2, and get an accuracy A1. We could train a second model on H2 and test it on H1, and get an accuracy of A2. This suggests that if we train a model using all the data, the accuracy when tested on new data should be somewhere between A1 and A2.\n",
    "\n",
    "In practice, we don't split in half. More generally, we will split the data into k pieces of *folds*, $F_1$, $F_2$, ..., $F_k$, and then build $k$ models, where the $n$th model uses $F_n$ as the test set and the remaining pieces excluding $F_n$ as the training set. The $k$ individual scores are then combined into a final score (mean and standard deviation). This is called *k-fold cross validation*. The size of each fold must  be large enough to be a reasonable sample of the problem, while allowing enough repetitions of the train-test evaluation of the algorithm to provide a fair estimate of the algorithms performance on new data. Commonly-used values for k are 5 or 10, although we can go all the way to the extreme where $k$ is the size of the training set; this is called *leave-one-out cross validation*.  It is computationally expensive and the results have high variance.\n",
    "\n",
    "We can do k-fold cross-validation in SciKit-Learn easily with `cross_val_score`:"
   ]
  },
  {
   "cell_type": "code",
   "execution_count": 22,
   "metadata": {},
   "outputs": [
    {
     "data": {
      "text/plain": [
       "-17.237964129338877"
      ]
     },
     "execution_count": 22,
     "metadata": {},
     "output_type": "execute_result"
    }
   ],
   "source": [
    "from sklearn.model_selection import cross_val_score\n",
    "\n",
    "scores = cross_val_score(model, X, y, cv=5)  # 5-fold; this will call model.fit() 5 times with different data\n",
    "scores.mean()"
   ]
  },
  {
   "cell_type": "markdown",
   "metadata": {},
   "source": [
    "### The Bias-Variance Trade-Off\n",
    "\n",
    "*Bias* is a measure of error, or how far off predictions are from reality, due to erroneous assumptions; high bias is a sign of underfitting. *Variance* is an error from sensitivity to small fluctuations in the training set, and can be thought of as how closely the model fits to random noise in the training data (overfitting). Informally:\n",
    "\n",
    "- bias is a measure of the error of the model against the training set\n",
    "- variance is a measure of how much worse the model does with the test set versus the training set\n",
    "\n",
    "What can we do if our model performs poorly? Assuming it is not just due to the data being completely random or having no actual dependence on our chosen features (in which case we will never be successful), we have several possible strategies:\n",
    "\n",
    "- use a more complex model to get a better fit to training data, but at the risk of overfitting (reduce bias, increase variance)\n",
    "- use a simpler model because we may have overfit the training data (increase bias, reduce variance)\n",
    "- get more data to train on\n",
    "- add more features (we'll talk about this later)\n",
    "\n",
    "If we increased the complexity of our model, it would do better and better at fitting the training data, but at some point would start getting worse and worse at fitting the test data. This is the *bias-variance trade-off*; you can see it in the plot below where the vertical dashes line is the sweet spot we want to find.\n",
    "\n",
    "![Bias-Variance Trade-Off](img/bias-variance.png)\n"
   ]
  },
  {
   "cell_type": "markdown",
   "metadata": {},
   "source": [
    "### Learning Curves\n",
    "\n",
    "The first two options we have, around model complexity, assume that the data is a fixed size. The third option is to add more data. As we add more data the optimal model will change. Assuming we capture the complexity of the data we are modeling, at some point we should have diminishing returns where adding more data doesn't significantly improve the model. This means that if we have a lot of data, it can be useful to measure how well the model is doing as we are training it, so we can stop when we reach the point where the further improvements are negligible. If we plot the training and validation scores as a function of the size of the data set we get the *learning curve*.\n",
    "\n",
    "We would expect that a model will overfit a small dataset and underfit a large dataset, where 'small' and 'large' are dependent on the complexity of the model. We would also expect in almost every case that the training score is better than the validation score(or equivalently the training error is lower than the validation error). So a typical learning curve will look like:\n",
    "\n",
    "![Learning Curve](img/learning-curve.png)"
   ]
  },
  {
   "cell_type": "markdown",
   "metadata": {},
   "source": [
    "Note that the curve converges to some score as the amount of data increases. If the error score for the training set is high, that is high bias; if the scores for test and training are similar we have low variance, but a large gap between them is high variance. \n",
    "\n",
    "### Grid Search\n",
    "\n",
    "Drawing plots of validation and learning curves can be useful except that in many cases models have multiple knobs (hyperparameters) to adjust; this makes using such visual aids more difficult. Instead, we can just train multiple versions of the model and have SciKit-Learn do the work, using a *[grid search](http://scikit-learn.org/stable/modules/grid_search.html)*.\n",
    "\n",
    "To do this, we need to create a dictionary, where the keys are the different model constructor arguments, and the values are lists of values that we want to try. Then we can have SciKit-Learn find the best values for the parameters with cross-validation using `GridSearchCV`: \n",
    "\n",
    "    from sklearn.grid_search import GridSearchCV\n",
    "\n",
    "    grid = GridSearchCV(model, param_dict, cv=10)\n",
    "    grid.fit(X, y)\n",
    "    print(grid.best_params_)\n",
    "    \n",
    "    final_model = grid.best_estimator_\n",
    "\n",
    "It's also possible to use a list of dictionaries. SciKit-Learn will do an exhaustive search of the entire parameter space by default. `RandomizedSearchCV` can be used for a randomized search instead.\n"
   ]
  },
  {
   "cell_type": "markdown",
   "metadata": {},
   "source": [
    "## Feature Engineering and Data Transforms\n",
    "\n",
    "Apart from changing the model complexity, the main other strategies we have for improving our models are adding more data or adding more features and/or improving the existing features. We may be able to get more data from the problem domain, but in many cases we don't have that option. All is not lost though, as we can use other sources of data for dependent features, as well as sometimes synthesize new features from the features we are given. We will look at this in this section, along with ways of transforming our data to be more usable by our models.\n",
    "\n",
    "SciKit-Learn helps us out here too; it supports a rich set of data transforms. The general approach is: create a transform, *fit* it to the data, and then apply it to *transform* the data. When new data arrives the previously fit transform can be applied to that for consistency. For the training data fit and transform can usually be combined into a call to `.fit_transform()`.\n",
    "\n",
    "### Rescaling Data to a Min/Max Range\n",
    "\n",
    "This can be done easily with:\n",
    "\n",
    "    from sklearn.preprocessing import MinMaxScaler\n",
    "\n",
    "    scaler = MinMaxScaler(feature_range=(0, 1))\n",
    "    X2 = scaler.fit_transform(X)\n",
    "    \n",
    "It applies the transform $x' = \\frac{x - min(\\bf{x})}{max(\\bf{x}) - min(\\bf{x})}$.\n",
    "\n",
    "Rescaling to [0, 1] is the most common use case.\n",
    "\n",
    "\n",
    "### Standardizing Distributions\n",
    "\n",
    "To convert a Gaussian-distributed value to have mean 0 and standard deviation 1 we use z-score normalization:\n",
    "\n",
    "$x' = \\frac{x - E(\\bf{x})}{\\sqrt{Var(\\bf{x})}}$\n",
    "\n",
    "where $E(\\bf{x})$ is the expected value or mean of $\\bf{x}$ and the standard deviation is the square root of the variance of $\\bf{x}$.\n",
    "\n",
    "\n",
    "    from sklearn.preprocessing import StandardScaler\n",
    "    \n",
    "    scaler = StandardScaler().fit(X)\n",
    "    X2 = scaler.transform(X)\n",
    "\n",
    "### Normalizing to Unit Length Vectors\n",
    "\n",
    "Normalized data has each row/observation have length 1 when treated as an n-dimensional vector.\n",
    "\n",
    "\n",
    "    from sklearn.preprocessing import Normalizer\n",
    "\n",
    "    scaler = Normalizer().fit(X)\n",
    "    X2 = scaler.transform(X)\n",
    "\n",
    "### Binarizing/Thresholding\n",
    "\n",
    "*Binarizing* sets each value to either zero or one, splitting the input at some threshold value. \n",
    "\n",
    "    from sklearn.preprocessing import Binarizer\n",
    "\n",
    "    binarizer = Binarizer(threshold=0.0).fit(X)\n",
    "    binaryX = binarizer.transform(X)\n",
    "\n",
    "### Handling Categorical Data\n",
    "\n",
    "Many ML algorithms rely on the inputs being numeric quantities. So how should we deal with categorical data? We could use a simple mapping of categories to numbers, but this is a bad idea, as the models assume that the values have some numerical significance.\n",
    "\n",
    "A better approach is to use *1-hot encoding*. We saw this briefly in the Pandas notebook. The idea is to add a new column for every unique value of that categorical variable, and then encode the values in those columns as zeroes except for the column corresponding to the original value.\n",
    "\n",
    "Here is a simple example:"
   ]
  },
  {
   "cell_type": "code",
   "execution_count": 23,
   "metadata": {},
   "outputs": [],
   "source": [
    "data = [\n",
    "        {'color': 'red'},\n",
    "        {'color': 'blue'},\n",
    "        {'color': 'green'},\n",
    "        {'color': 'blue'}\n",
    "]"
   ]
  },
  {
   "cell_type": "code",
   "execution_count": 24,
   "metadata": {},
   "outputs": [
    {
     "data": {
      "text/plain": [
       "array([[0, 0, 1],\n",
       "       [1, 0, 0],\n",
       "       [0, 1, 0],\n",
       "       [1, 0, 0]], dtype=int64)"
      ]
     },
     "execution_count": 24,
     "metadata": {},
     "output_type": "execute_result"
    }
   ],
   "source": [
    "from sklearn.feature_extraction import DictVectorizer\n",
    "\n",
    "v = DictVectorizer(sparse=False, dtype=int)\n",
    "v.fit_transform(data)  # We could use .transform() but would need to set a 'vocabulary'"
   ]
  },
  {
   "cell_type": "code",
   "execution_count": 25,
   "metadata": {},
   "outputs": [
    {
     "data": {
      "text/plain": [
       "['color=blue', 'color=green', 'color=red']"
      ]
     },
     "execution_count": 25,
     "metadata": {},
     "output_type": "execute_result"
    }
   ],
   "source": [
    "v.get_feature_names()"
   ]
  },
  {
   "cell_type": "markdown",
   "metadata": {},
   "source": [
    "If we have a lot of different values for the category, this can add many columns, which may affect which modeling approaches we can use later. In this case you probably will want to set the `sparse` argument to `True` to save memory."
   ]
  },
  {
   "cell_type": "markdown",
   "metadata": {},
   "source": [
    "### Handling Text\n",
    "\n",
    "For text, there are a few different options. Most commonly we will split the text up into a sequence of words. In many cases we will remove *stop words* (common words like 'and' and 'the'), and may perform operations such as 'stemming', 'named entity recognition', 'parts of speech tagging', etc. We're not going to go into these here; see the [SpaCy NLP library](https://spacy.io/) for examples.\n",
    "\n",
    "We can use a similar approach to the categorical data, and turn each unique word into a new column. We can encode with 0/1 like one-hot, or use word counts. Let's look at the latter. In this case `fit_transform` returns a sparse array so we turn it back into a DataFrame:"
   ]
  },
  {
   "cell_type": "code",
   "execution_count": 26,
   "metadata": {},
   "outputs": [
    {
     "data": {
      "text/html": [
       "<div>\n",
       "<style scoped>\n",
       "    .dataframe tbody tr th:only-of-type {\n",
       "        vertical-align: middle;\n",
       "    }\n",
       "\n",
       "    .dataframe tbody tr th {\n",
       "        vertical-align: top;\n",
       "    }\n",
       "\n",
       "    .dataframe thead th {\n",
       "        text-align: right;\n",
       "    }\n",
       "</style>\n",
       "<table border=\"1\" class=\"dataframe\">\n",
       "  <thead>\n",
       "    <tr style=\"text-align: right;\">\n",
       "      <th></th>\n",
       "      <th>ate</th>\n",
       "      <th>belonged</th>\n",
       "      <th>cat</th>\n",
       "      <th>has</th>\n",
       "      <th>hat</th>\n",
       "      <th>mat</th>\n",
       "      <th>now</th>\n",
       "      <th>on</th>\n",
       "      <th>rat</th>\n",
       "      <th>sat</th>\n",
       "      <th>the</th>\n",
       "      <th>to</th>\n",
       "      <th>was</th>\n",
       "    </tr>\n",
       "  </thead>\n",
       "  <tbody>\n",
       "    <tr>\n",
       "      <th>0</th>\n",
       "      <td>0</td>\n",
       "      <td>0</td>\n",
       "      <td>1</td>\n",
       "      <td>0</td>\n",
       "      <td>0</td>\n",
       "      <td>1</td>\n",
       "      <td>0</td>\n",
       "      <td>1</td>\n",
       "      <td>0</td>\n",
       "      <td>1</td>\n",
       "      <td>2</td>\n",
       "      <td>0</td>\n",
       "      <td>0</td>\n",
       "    </tr>\n",
       "    <tr>\n",
       "      <th>1</th>\n",
       "      <td>0</td>\n",
       "      <td>1</td>\n",
       "      <td>0</td>\n",
       "      <td>0</td>\n",
       "      <td>0</td>\n",
       "      <td>1</td>\n",
       "      <td>0</td>\n",
       "      <td>0</td>\n",
       "      <td>1</td>\n",
       "      <td>0</td>\n",
       "      <td>2</td>\n",
       "      <td>1</td>\n",
       "      <td>0</td>\n",
       "    </tr>\n",
       "    <tr>\n",
       "      <th>2</th>\n",
       "      <td>0</td>\n",
       "      <td>0</td>\n",
       "      <td>0</td>\n",
       "      <td>0</td>\n",
       "      <td>1</td>\n",
       "      <td>1</td>\n",
       "      <td>0</td>\n",
       "      <td>1</td>\n",
       "      <td>0</td>\n",
       "      <td>0</td>\n",
       "      <td>2</td>\n",
       "      <td>0</td>\n",
       "      <td>1</td>\n",
       "    </tr>\n",
       "    <tr>\n",
       "      <th>3</th>\n",
       "      <td>1</td>\n",
       "      <td>0</td>\n",
       "      <td>1</td>\n",
       "      <td>0</td>\n",
       "      <td>0</td>\n",
       "      <td>0</td>\n",
       "      <td>0</td>\n",
       "      <td>0</td>\n",
       "      <td>1</td>\n",
       "      <td>0</td>\n",
       "      <td>2</td>\n",
       "      <td>0</td>\n",
       "      <td>0</td>\n",
       "    </tr>\n",
       "    <tr>\n",
       "      <th>4</th>\n",
       "      <td>0</td>\n",
       "      <td>0</td>\n",
       "      <td>1</td>\n",
       "      <td>1</td>\n",
       "      <td>1</td>\n",
       "      <td>0</td>\n",
       "      <td>1</td>\n",
       "      <td>0</td>\n",
       "      <td>0</td>\n",
       "      <td>0</td>\n",
       "      <td>2</td>\n",
       "      <td>0</td>\n",
       "      <td>0</td>\n",
       "    </tr>\n",
       "  </tbody>\n",
       "</table>\n",
       "</div>"
      ],
      "text/plain": [
       "   ate  belonged  cat  has  hat  mat  now  on  rat  sat  the  to  was\n",
       "0    0         0    1    0    0    1    0   1    0    1    2   0    0\n",
       "1    0         1    0    0    0    1    0   0    1    0    2   1    0\n",
       "2    0         0    0    0    1    1    0   1    0    0    2   0    1\n",
       "3    1         0    1    0    0    0    0   0    1    0    2   0    0\n",
       "4    0         0    1    1    1    0    1   0    0    0    2   0    0"
      ]
     },
     "execution_count": 26,
     "metadata": {},
     "output_type": "execute_result"
    }
   ],
   "source": [
    "data = [\n",
    "    \"the cat sat on the mat\",\n",
    "    \"the mat belonged to the rat\",\n",
    "    \"the hat was on the mat\",\n",
    "    \"the cat ate the rat\",\n",
    "    \"the cat now has the hat\"\n",
    "]\n",
    "\n",
    "from sklearn.feature_extraction.text import CountVectorizer\n",
    "\n",
    "v = CountVectorizer()\n",
    "X = v.fit_transform(data)\n",
    "pd.DataFrame(X.toarray(), columns=v.get_feature_names())"
   ]
  },
  {
   "cell_type": "markdown",
   "metadata": {},
   "source": [
    "The problem with word counts, especially if we don't remove stop words, is that common words get scored highly, which may not always be desirable. What we want to score highly are words that are common *in this row* that are not common *across all rows*. That should weight words that are significant to the particular row. We can do this with *[Term Frequency - Inverse Document Frequency](https://en.wikipedia.org/wiki/Tf%E2%80%93idf)* or TF-IDF scores. In our small example this doesn't quite have the desired effect but the code is useful to show:"
   ]
  },
  {
   "cell_type": "code",
   "execution_count": 27,
   "metadata": {},
   "outputs": [
    {
     "data": {
      "text/html": [
       "<div>\n",
       "<style scoped>\n",
       "    .dataframe tbody tr th:only-of-type {\n",
       "        vertical-align: middle;\n",
       "    }\n",
       "\n",
       "    .dataframe tbody tr th {\n",
       "        vertical-align: top;\n",
       "    }\n",
       "\n",
       "    .dataframe thead th {\n",
       "        text-align: right;\n",
       "    }\n",
       "</style>\n",
       "<table border=\"1\" class=\"dataframe\">\n",
       "  <thead>\n",
       "    <tr style=\"text-align: right;\">\n",
       "      <th></th>\n",
       "      <th>ate</th>\n",
       "      <th>belonged</th>\n",
       "      <th>cat</th>\n",
       "      <th>has</th>\n",
       "      <th>hat</th>\n",
       "      <th>mat</th>\n",
       "      <th>now</th>\n",
       "      <th>on</th>\n",
       "      <th>rat</th>\n",
       "      <th>sat</th>\n",
       "      <th>the</th>\n",
       "      <th>to</th>\n",
       "      <th>was</th>\n",
       "    </tr>\n",
       "  </thead>\n",
       "  <tbody>\n",
       "    <tr>\n",
       "      <th>0</th>\n",
       "      <td>0.000000</td>\n",
       "      <td>0.000000</td>\n",
       "      <td>0.360239</td>\n",
       "      <td>0.000000</td>\n",
       "      <td>0.000000</td>\n",
       "      <td>0.360239</td>\n",
       "      <td>0.000000</td>\n",
       "      <td>0.433975</td>\n",
       "      <td>0.000000</td>\n",
       "      <td>0.537901</td>\n",
       "      <td>0.512625</td>\n",
       "      <td>0.000000</td>\n",
       "      <td>0.00000</td>\n",
       "    </tr>\n",
       "    <tr>\n",
       "      <th>1</th>\n",
       "      <td>0.000000</td>\n",
       "      <td>0.499522</td>\n",
       "      <td>0.000000</td>\n",
       "      <td>0.000000</td>\n",
       "      <td>0.000000</td>\n",
       "      <td>0.334536</td>\n",
       "      <td>0.000000</td>\n",
       "      <td>0.000000</td>\n",
       "      <td>0.403011</td>\n",
       "      <td>0.000000</td>\n",
       "      <td>0.476050</td>\n",
       "      <td>0.499522</td>\n",
       "      <td>0.00000</td>\n",
       "    </tr>\n",
       "    <tr>\n",
       "      <th>2</th>\n",
       "      <td>0.000000</td>\n",
       "      <td>0.000000</td>\n",
       "      <td>0.000000</td>\n",
       "      <td>0.000000</td>\n",
       "      <td>0.421800</td>\n",
       "      <td>0.350132</td>\n",
       "      <td>0.000000</td>\n",
       "      <td>0.421800</td>\n",
       "      <td>0.000000</td>\n",
       "      <td>0.000000</td>\n",
       "      <td>0.498244</td>\n",
       "      <td>0.000000</td>\n",
       "      <td>0.52281</td>\n",
       "    </tr>\n",
       "    <tr>\n",
       "      <th>3</th>\n",
       "      <td>0.576615</td>\n",
       "      <td>0.000000</td>\n",
       "      <td>0.386166</td>\n",
       "      <td>0.000000</td>\n",
       "      <td>0.000000</td>\n",
       "      <td>0.000000</td>\n",
       "      <td>0.000000</td>\n",
       "      <td>0.000000</td>\n",
       "      <td>0.465209</td>\n",
       "      <td>0.000000</td>\n",
       "      <td>0.549520</td>\n",
       "      <td>0.000000</td>\n",
       "      <td>0.00000</td>\n",
       "    </tr>\n",
       "    <tr>\n",
       "      <th>4</th>\n",
       "      <td>0.000000</td>\n",
       "      <td>0.000000</td>\n",
       "      <td>0.334536</td>\n",
       "      <td>0.499522</td>\n",
       "      <td>0.403011</td>\n",
       "      <td>0.000000</td>\n",
       "      <td>0.499522</td>\n",
       "      <td>0.000000</td>\n",
       "      <td>0.000000</td>\n",
       "      <td>0.000000</td>\n",
       "      <td>0.476050</td>\n",
       "      <td>0.000000</td>\n",
       "      <td>0.00000</td>\n",
       "    </tr>\n",
       "  </tbody>\n",
       "</table>\n",
       "</div>"
      ],
      "text/plain": [
       "        ate  belonged       cat       has       hat       mat       now  \\\n",
       "0  0.000000  0.000000  0.360239  0.000000  0.000000  0.360239  0.000000   \n",
       "1  0.000000  0.499522  0.000000  0.000000  0.000000  0.334536  0.000000   \n",
       "2  0.000000  0.000000  0.000000  0.000000  0.421800  0.350132  0.000000   \n",
       "3  0.576615  0.000000  0.386166  0.000000  0.000000  0.000000  0.000000   \n",
       "4  0.000000  0.000000  0.334536  0.499522  0.403011  0.000000  0.499522   \n",
       "\n",
       "         on       rat       sat       the        to      was  \n",
       "0  0.433975  0.000000  0.537901  0.512625  0.000000  0.00000  \n",
       "1  0.000000  0.403011  0.000000  0.476050  0.499522  0.00000  \n",
       "2  0.421800  0.000000  0.000000  0.498244  0.000000  0.52281  \n",
       "3  0.000000  0.465209  0.000000  0.549520  0.000000  0.00000  \n",
       "4  0.000000  0.000000  0.000000  0.476050  0.000000  0.00000  "
      ]
     },
     "execution_count": 27,
     "metadata": {},
     "output_type": "execute_result"
    }
   ],
   "source": [
    "from sklearn.feature_extraction.text import TfidfVectorizer\n",
    "\n",
    "v = TfidfVectorizer()\n",
    "X = v.fit_transform(data)\n",
    "pd.DataFrame(X.toarray(), columns=v.get_feature_names())"
   ]
  },
  {
   "cell_type": "markdown",
   "metadata": {},
   "source": [
    "> There is a recent paper discussing an alternative to TF-IDF, *[Contextual Salience](https://arxiv.org/abs/1803.08493)*, that may be interesting."
   ]
  },
  {
   "cell_type": "markdown",
   "metadata": {},
   "source": [
    "### Handling Missing Data\n",
    "\n",
    "We saw a bit about handling missing data in the Pandas notebook. SciKit-Learn has some useful functionality to help us here too, namely the `Imputer`:\n",
    "\n",
    "    from sklearn.preprocessing import Imputer\n",
    "        \n",
    "    X = Imputer(strategy='mean').fit_transform(X)\n",
    "\n",
    "The above code will replace any `nan` values in the original array X with the mean of the non-NaN values in that column. Other strategies are `median` and `most_frequent`.\n",
    "\n",
    "\n",
    "### Synthesizing and Adding Features\n",
    "\n",
    "In many cases, we will want to create features that are not directly available in the data, but are derived or synthesized from these. For example, the data may have city names, which we may want to turn into latitude/longitude, or perhaps include data like the population of the city. In such cases we would need to include the necessary tables to look up these features from the input features before fitting or predicting with the model.\n",
    "\n",
    "Another common case is to improve the power of regression. Regression fits a line in 2D, or a plane in higher dimensions, but this is linear. What if a polynomial of higher order would be a much better fit? We can still use linear regression, all we need to do is add features that are higher-order powers of the input features!\n",
    "\n",
    "Consider this data:"
   ]
  },
  {
   "cell_type": "code",
   "execution_count": 28,
   "metadata": {},
   "outputs": [
    {
     "data": {
      "image/png": "[encoded data removed]",
      "text/plain": [
       "<Figure size 432x288 with 1 Axes>"
      ]
     },
     "metadata": {
      "needs_background": "light"
     },
     "output_type": "display_data"
    }
   ],
   "source": [
    "%matplotlib inline\n",
    "import numpy as np\n",
    "import matplotlib.pyplot as plt\n",
    "\n",
    "x = np.array([1, 2, 3, 4, 5])\n",
    "y = np.array([4, 2, 1, 3, 7])\n",
    "plt.scatter(x, y);\n",
    " "
   ]
  },
  {
   "cell_type": "markdown",
   "metadata": {},
   "source": [
    "If we just use these features as is and fit a linear model we get this:"
   ]
  },
  {
   "cell_type": "code",
   "execution_count": 29,
   "metadata": {},
   "outputs": [
    {
     "data": {
      "image/png": "[encoded data removed]",
      "text/plain": [
       "<Figure size 432x288 with 1 Axes>"
      ]
     },
     "metadata": {
      "needs_background": "light"
     },
     "output_type": "display_data"
    }
   ],
   "source": [
    "from sklearn.linear_model import LinearRegression\n",
    "        \n",
    "X = x[:, np.newaxis]\n",
    "model = LinearRegression().fit(X, y)\n",
    "yfit = model.predict(X)\n",
    "plt.scatter(x, y)\n",
    "plt.plot(x, yfit);"
   ]
  },
  {
   "cell_type": "markdown",
   "metadata": {},
   "source": [
    "Let's add some synthetic features that are higher-order powers of X:"
   ]
  },
  {
   "cell_type": "code",
   "execution_count": 30,
   "metadata": {},
   "outputs": [
    {
     "data": {
      "text/plain": [
       "array([[  1.,   1.,   1.],\n",
       "       [  2.,   4.,   8.],\n",
       "       [  3.,   9.,  27.],\n",
       "       [  4.,  16.,  64.],\n",
       "       [  5.,  25., 125.]])"
      ]
     },
     "execution_count": 30,
     "metadata": {},
     "output_type": "execute_result"
    }
   ],
   "source": [
    "from sklearn.preprocessing import PolynomialFeatures\n",
    "        \n",
    "poly = PolynomialFeatures(degree=3, include_bias=False)\n",
    "X2 = poly.fit_transform(X)\n",
    "X2 "
   ]
  },
  {
   "cell_type": "markdown",
   "metadata": {},
   "source": [
    "Now we can fit a linear model to this extended set of features, and plot the results; you'll see we have a much better fit:"
   ]
  },
  {
   "cell_type": "code",
   "execution_count": 31,
   "metadata": {},
   "outputs": [
    {
     "data": {
      "image/png": "[encoded data removed]",
      "text/plain": [
       "<Figure size 432x288 with 1 Axes>"
      ]
     },
     "metadata": {
      "needs_background": "light"
     },
     "output_type": "display_data"
    }
   ],
   "source": [
    "model = LinearRegression().fit(X2, y)\n",
    "        \n",
    "yfit = model.predict(X2)\n",
    "plt.scatter(x, y)\n",
    "plt.plot(x, yfit); "
   ]
  },
  {
   "cell_type": "markdown",
   "metadata": {},
   "source": [
    "There is a package that can do some feature synthesis for you: https://www.featuretools.com/"
   ]
  },
  {
   "cell_type": "markdown",
   "metadata": {},
   "source": [
    "### Reducing Features\n",
    "\n",
    "Sometimes the right thing to do is to reduce the number of features. For example, we may have performance constraints (memory/CPU) that mean we need to shrink the model. Or we may have extraneous features that aren't adding any value.\n",
    "\n",
    "We've already seen one approach to this, namely PCA. There are other approaches too:\n",
    "\n",
    "- we can use decision tree models to rank the importance of features:"
   ]
  },
  {
   "cell_type": "code",
   "execution_count": 32,
   "metadata": {},
   "outputs": [],
   "source": [
    "# Set up the Iris dataset again\n",
    "X = iris.drop('species', axis=1)\n",
    "y = iris['species']"
   ]
  },
  {
   "cell_type": "code",
   "execution_count": 33,
   "metadata": {},
   "outputs": [
    {
     "name": "stdout",
     "output_type": "stream",
     "text": [
      "[('sepal_length', 0.08019426832661203), ('sepal_width', 0.03295605519858127), ('petal_length', 0.369924094484191), ('petal_width', 0.5169255819906157)]\n"
     ]
    },
    {
     "name": "stderr",
     "output_type": "stream",
     "text": [
      "/home/pybokeh/envs/py3.7.2/lib/python3.7/site-packages/sklearn/ensemble/forest.py:246: FutureWarning: The default value of n_estimators will change from 10 in version 0.20 to 100 in 0.22.\n",
      "  \"10 in version 0.20 to 100 in 0.22.\", FutureWarning)\n"
     ]
    }
   ],
   "source": [
    "from sklearn.ensemble import ExtraTreesClassifier\n",
    "\n",
    "model = ExtraTreesClassifier()\n",
    "model.fit(X, y)\n",
    "print(list(zip(X.columns, model.feature_importances_)))"
   ]
  },
  {
   "cell_type": "markdown",
   "metadata": {},
   "source": [
    "- we can use Recursive Feature Elimination (RFE) to recursively remove attributes and build a model based on those that remain, then use the model accuracy to identify which attributes (and combination of attributes) contribute the most to predicting the target attribute. The example below uses logistic regression but any algorithm could be used:"
   ]
  },
  {
   "cell_type": "code",
   "execution_count": 34,
   "metadata": {},
   "outputs": [
    {
     "name": "stdout",
     "output_type": "stream",
     "text": [
      "Feature Ranking: [2 1 1 1]\n",
      "Selected Features: Index(['sepal_width', 'petal_length', 'petal_width'], dtype='object')\n"
     ]
    },
    {
     "name": "stderr",
     "output_type": "stream",
     "text": [
      "/home/pybokeh/envs/py3.7.2/lib/python3.7/site-packages/sklearn/linear_model/logistic.py:433: FutureWarning: Default solver will be changed to 'lbfgs' in 0.22. Specify a solver to silence this warning.\n",
      "  FutureWarning)\n",
      "/home/pybokeh/envs/py3.7.2/lib/python3.7/site-packages/sklearn/linear_model/logistic.py:460: FutureWarning: Default multi_class will be changed to 'auto' in 0.22. Specify the multi_class option to silence this warning.\n",
      "  \"this warning.\", FutureWarning)\n",
      "/home/pybokeh/envs/py3.7.2/lib/python3.7/site-packages/sklearn/linear_model/logistic.py:433: FutureWarning: Default solver will be changed to 'lbfgs' in 0.22. Specify a solver to silence this warning.\n",
      "  FutureWarning)\n",
      "/home/pybokeh/envs/py3.7.2/lib/python3.7/site-packages/sklearn/linear_model/logistic.py:460: FutureWarning: Default multi_class will be changed to 'auto' in 0.22. Specify the multi_class option to silence this warning.\n",
      "  \"this warning.\", FutureWarning)\n"
     ]
    }
   ],
   "source": [
    "from sklearn.feature_selection import RFE\n",
    "from sklearn.linear_model import LogisticRegression\n",
    "\n",
    "model = LogisticRegression()\n",
    "rfe = RFE(model, 3)  # Reduce to top 3\n",
    "fit = rfe.fit(X, y)\n",
    "print(f\"Feature Ranking: {fit.ranking_}\")\n",
    "print(f\"Selected Features: {X.columns[fit.support_]}\")"
   ]
  },
  {
   "cell_type": "markdown",
   "metadata": {},
   "source": [
    "- We can use a chi-squared test to select the features with the strongest relationships with the output. The code below selects the three best features:"
   ]
  },
  {
   "cell_type": "code",
   "execution_count": 35,
   "metadata": {},
   "outputs": [
    {
     "name": "stdout",
     "output_type": "stream",
     "text": [
      "[ 10.818   3.711 116.313  67.048]\n"
     ]
    }
   ],
   "source": [
    "import numpy as np\n",
    "from sklearn.feature_selection import SelectKBest\n",
    "from sklearn.feature_selection import chi2\n",
    "\n",
    "test = SelectKBest(score_func=chi2, k=3)\n",
    "fit = test.fit(X, y)\n",
    "\n",
    "np.set_printoptions(precision=3)\n",
    "print(fit.scores_)"
   ]
  },
  {
   "cell_type": "markdown",
   "metadata": {},
   "source": [
    "## Pipelines\n",
    "\n",
    "Sometimes we need to chain computations in SciKit. For example, when we looked at adding polynomial synthetic features, we produced a transformed feature vector before applying the linear model. This is a common enough operation that there is a mechanism available for it, namely pipelines.\n",
    "\n",
    "In that example, the code had a form similar to:\n",
    "\n",
    "````python\n",
    "X2 = PolynomialFeatures(degree=3, include_bias=False).fit_transform(X)\n",
    "model = LinearRegression().fit(X2, y)\n",
    "yfit = model.predict(trainy)\n",
    "````\n",
    "\n",
    "To write this as a pipeline, we could use:\n",
    "\n",
    "````python\n",
    "from sklearn.pipeline import make_pipeline\n",
    "\n",
    "pipeline = make_pipeline(PolynomialFeatures(degree=3, include_bias=False), LinearRegression())\n",
    "model = pipeline.fit(X, y)\n",
    "yfit = model.predict(trainy)\n",
    "````\n",
    "\n",
    "Pipelines can help avoid a common mistake of leaking information from the test data set into the training data set. E.g. if we scale all data to be in range [0..1] but include the test data when determining the scale factors, this could be problematic. By doing the scaling in a pipeline along with model fitting this is less likely to occur. \n",
    "\n",
    "A more advanced feature of pipelines is the FeatureUnion. This is beyond the scope of this notebook but worth knowing about. See http://scikit-learn.org/stable/modules/generated/sklearn.pipeline.FeatureUnion.html.\n",
    "\n",
    "Using a regression model with polynomial synthetic features is a useful and common enough approach that we can define a utility function for this; we will use this later:"
   ]
  },
  {
   "cell_type": "code",
   "execution_count": 36,
   "metadata": {},
   "outputs": [],
   "source": [
    "from sklearn.linear_model import LinearRegression\n",
    "from sklearn.pipeline import make_pipeline\n",
    "from sklearn.preprocessing import PolynomialFeatures\n",
    "\n",
    "def PolynomialRegression(degree=2, **kwargs):\n",
    "    return make_pipeline(PolynomialFeatures(degree), LinearRegression(**kwargs)) "
   ]
  },
  {
   "cell_type": "markdown",
   "metadata": {},
   "source": [
    "## A Classification Example - Breast Cancer\n",
    "\n",
    "A description of this data is at http://scikit-learn.org/stable/datasets/index.html#datasets, section 5.14. The columns are mean, standard error, and \"worst\" values of the following ten features, making 30 features in all,\n",
    "followed by the class (malignant or benign).\n",
    "\n",
    "- radius (mean of distances from center to points on the perimeter)\n",
    "- texture (standard deviation of gray-scale values)\n",
    "- perimeter\n",
    "- area\n",
    "- smoothness (local variation in radius lengths)\n",
    "- compactness (perimeter^2 / area - 1.0)\n",
    "- concavity (severity of concave portions of the contour)\n",
    "- concave points (number of concave portions of the contour)\n",
    "- symmetry\n",
    "- fractal dimension (“coastline approximation” - 1)"
   ]
  },
  {
   "cell_type": "code",
   "execution_count": 37,
   "metadata": {},
   "outputs": [
    {
     "data": {
      "text/plain": [
       "array(['mean radius', 'mean texture', 'mean perimeter', 'mean area',\n",
       "       'mean smoothness', 'mean compactness', 'mean concavity',\n",
       "       'mean concave points', 'mean symmetry', 'mean fractal dimension',\n",
       "       'radius error', 'texture error', 'perimeter error', 'area error',\n",
       "       'smoothness error', 'compactness error', 'concavity error',\n",
       "       'concave points error', 'symmetry error',\n",
       "       'fractal dimension error', 'worst radius', 'worst texture',\n",
       "       'worst perimeter', 'worst area', 'worst smoothness',\n",
       "       'worst compactness', 'worst concavity', 'worst concave points',\n",
       "       'worst symmetry', 'worst fractal dimension'], dtype='<U23')"
      ]
     },
     "execution_count": 37,
     "metadata": {},
     "output_type": "execute_result"
    }
   ],
   "source": [
    "from sklearn.datasets import load_breast_cancer\n",
    "\n",
    "features = load_breast_cancer().feature_names\n",
    "X, y = load_breast_cancer(return_X_y=True)\n",
    "features"
   ]
  },
  {
   "cell_type": "code",
   "execution_count": 38,
   "metadata": {},
   "outputs": [],
   "source": [
    "from sklearn.model_selection import train_test_split\n",
    "\n",
    "Xtrain, Xtest, ytrain, ytest = train_test_split(X, y, random_state=1, test_size=0.2)"
   ]
  },
  {
   "cell_type": "code",
   "execution_count": 39,
   "metadata": {},
   "outputs": [
    {
     "data": {
      "text/plain": [
       "0.9473684210526315"
      ]
     },
     "execution_count": 39,
     "metadata": {},
     "output_type": "execute_result"
    }
   ],
   "source": [
    "from sklearn.tree import DecisionTreeClassifier\n",
    "from sklearn.metrics import accuracy_score\n",
    "\n",
    "model = DecisionTreeClassifier(max_depth=8)\n",
    "model.fit(Xtrain, ytrain)\n",
    "ypredict = model.predict(Xtest)\n",
    "accuracy_score(ytest, ypredict)"
   ]
  },
  {
   "cell_type": "markdown",
   "metadata": {},
   "source": [
    "Let's see what the most important features are:"
   ]
  },
  {
   "cell_type": "code",
   "execution_count": 40,
   "metadata": {},
   "outputs": [
    {
     "data": {
      "text/plain": [
       "[('worst perimeter', 0.7292904295142022),\n",
       " ('worst texture', 0.0823135090517362),\n",
       " ('worst concave points', 0.044043366134688115),\n",
       " ('concave points error', 0.04173833276000459),\n",
       " ('mean concave points', 0.02884436283817093),\n",
       " ('worst area', 0.02677294371118715),\n",
       " ('mean texture', 0.020489726991274982),\n",
       " ('mean smoothness', 0.009327239667796928),\n",
       " ('worst compactness', 0.007825937392500861),\n",
       " ('perimeter error', 0.006260749914000689)]"
      ]
     },
     "execution_count": 40,
     "metadata": {},
     "output_type": "execute_result"
    }
   ],
   "source": [
    "from operator import itemgetter\n",
    "sorted(list(zip(features, model.feature_importances_)), key=itemgetter(1), reverse=True)[:10]"
   ]
  },
  {
   "cell_type": "markdown",
   "metadata": {},
   "source": [
    "## A Regression Example - Boston Housing Prices\n",
    "\n",
    "A description of this data is at http://scikit-learn.org/stable/datasets/index.html#datasets, section 5.13. The columns are:\n",
    "\n",
    "- CRIM per capita crime rate by town\n",
    "- ZN proportion of residential land zoned for lots over 25,000 sq.ft.\n",
    "- INDUS proportion of non-retail business acres per town\n",
    "- CHAS Charles River dummy variable (= 1 if tract bounds river; 0 otherwise)\n",
    "- NOX nitric oxides concentration (parts per 10 million)\n",
    "- RM average number of rooms per dwelling\n",
    "- AGE proportion of owner-occupied units built prior to 1940\n",
    "- DIS weighted distances to five Boston employment centers\n",
    "- RAD index of accessibility to radial highways\n",
    "- TAX full-value property-tax rate per \\$10,000\n",
    "- PTRATIO pupil-teacher ratio by town\n",
    "- B $1000(B_k - 0.63)^2$ where $B_k$ is the proportion of blacks by town\n",
    "- LSTAT \\% lower status of the population\n",
    "- MEDV Median value of owner-occupied homes in $1000’s\n",
    "\n",
    "MEDV is usually the target when building models with this data."
   ]
  },
  {
   "cell_type": "code",
   "execution_count": 41,
   "metadata": {},
   "outputs": [
    {
     "data": {
      "text/plain": [
       "array(['CRIM', 'ZN', 'INDUS', 'CHAS', 'NOX', 'RM', 'AGE', 'DIS', 'RAD',\n",
       "       'TAX', 'PTRATIO', 'B', 'LSTAT'], dtype='<U7')"
      ]
     },
     "execution_count": 41,
     "metadata": {},
     "output_type": "execute_result"
    }
   ],
   "source": [
    "from sklearn.datasets import load_boston\n",
    "\n",
    "features = load_boston().feature_names\n",
    "X, y = load_boston(return_X_y=True)\n",
    "features"
   ]
  },
  {
   "cell_type": "markdown",
   "metadata": {},
   "source": [
    "Let's apply a polynomial regression model and see how the model validation changes as we use different degrees of polynomials. We'll use the utility function we defined earlier:"
   ]
  },
  {
   "cell_type": "code",
   "execution_count": 42,
   "metadata": {},
   "outputs": [],
   "source": [
    "import numpy as np\n",
    "from sklearn.model_selection import validation_curve\n",
    "\n",
    "degree = np.arange(0, 5)  # We'll try up to a 4th degree polynomial\n",
    "train_score, val_score = validation_curve(PolynomialRegression(), X, y, 'polynomialfeatures__degree', degree, cv=7)"
   ]
  },
  {
   "cell_type": "code",
   "execution_count": 43,
   "metadata": {},
   "outputs": [
    {
     "data": {
      "image/png": "[encoded data removed]",
      "text/plain": [
       "<Figure size 432x288 with 1 Axes>"
      ]
     },
     "metadata": {},
     "output_type": "display_data"
    }
   ],
   "source": [
    "%matplotlib inline\n",
    "import matplotlib.pyplot as plt\n",
    "import seaborn; seaborn.set()\n",
    "\n",
    "plt.plot(degree, np.median(train_score, 1), color='blue', label='training score')\n",
    "plt.plot(degree, np.median(val_score, 1), color='red', label='validation score')\n",
    "plt.legend(loc='best')\n",
    "plt.ylim(0, 1)\n",
    "plt.xlabel('degree')\n",
    "plt.ylabel('score');"
   ]
  },
  {
   "cell_type": "markdown",
   "metadata": {},
   "source": [
    "We can use grid search to find a good model; we can vary a couple of other hyperparameters too:"
   ]
  },
  {
   "cell_type": "code",
   "execution_count": 44,
   "metadata": {},
   "outputs": [
    {
     "name": "stderr",
     "output_type": "stream",
     "text": [
      "/home/pybokeh/envs/py3.7.2/lib/python3.7/site-packages/sklearn/model_selection/_search.py:841: DeprecationWarning: The default of the `iid` parameter will change from True to False in version 0.22 and will be removed in 0.24. This will change numeric results when test-set sizes are unequal.\n",
      "  DeprecationWarning)\n"
     ]
    },
    {
     "data": {
      "text/plain": [
       "{'linearregression__fit_intercept': True,\n",
       " 'linearregression__normalize': True,\n",
       " 'polynomialfeatures__degree': 1}"
      ]
     },
     "execution_count": 44,
     "metadata": {},
     "output_type": "execute_result"
    }
   ],
   "source": [
    "from sklearn.model_selection import GridSearchCV\n",
    "\n",
    "param_grid = {\n",
    "    'polynomialfeatures__degree': np.arange(5),\n",
    "    'linearregression__fit_intercept': [True, False],\n",
    "    'linearregression__normalize': [True, False]\n",
    "}\n",
    "\n",
    "grid = GridSearchCV(PolynomialRegression(), param_grid, cv=7)\n",
    "grid.fit(X, y)\n",
    "grid.best_params_"
   ]
  },
  {
   "cell_type": "markdown",
   "metadata": {},
   "source": [
    "## Combining Model Predictions with Ensembles\n",
    "\n",
    "One way to improve performance is to combine the results of several models. There are several ways this can be done; for example:\n",
    "\n",
    "* *Bagging* - building multiple models (typically of the same type) from different subsamples of the training dataset. Sampling is done with replacement, and the predictions are combined and averaged into a final result.\n",
    "* *Boosting* - building multiple models (typically of the same type) each of which learns to fix the prediction errors of a prior model in the sequence of models.\n",
    "* *Voting* - building multiple models (typically of differing types) and simple statistics (like calculating the mean) are used to combine predictions. *Stacking* is a voting approach which also learns the weights to give to each vote.\n",
    "\n",
    "If we have a model type in `model`, we can do bagging with:\n",
    "\n",
    "```python\n",
    "from sklearn.ensemble import BaggingClassifier\n",
    "\n",
    "model = ...\n",
    "model = BaggingClassifier(base_estimator=model, n_estimators=50, random_state=0)\n",
    "...\n",
    "```\n",
    "\n",
    "Random forests are another example of bagging. [AdaBoost](http://scikit-learn.org/stable/modules/ensemble.html#adaboost) is an example of a popular boosting algorithm.\n",
    "\n",
    "\n",
    "## Interpreting Models\n",
    "\n",
    "Once we have a good model, how do we interpret the results? That is, how can we justify the prediction when it is questioned?\n",
    "\n",
    "For decision trees, this is not that difficult - the path through the decision tree illustrates the \"reasoning\" behind the decision. However, for many other models there is no intuitive interpretation. Getting a ranking of feature importance is helpful but not complete.\n",
    "\n",
    "There has been some interesting work in this area for classification models. The approach is to rely on a form of sensitivity analysis - ask, \"what small changes in the inputs would result in different outputs?\". This can be done one a case by case basis, with the learnings often being generalizable to cover more cases.\n",
    "\n",
    "This is really out of scope for this notebook, but if you are interested in learning more, the seminal work is [LIME](https://homes.cs.washington.edu/~marcotcr/blog/lime/), and other popular approaches are [SHAP](https://github.com/slundberg/shap) and [Skater](https://www.datascience.com/resources/tools/skater).\n",
    "\n",
    "## Taking It Further\n",
    "\n",
    "*[Data leakage](https://medium.com/@colin.fraser/the-treachery-of-leakage-56a2d7c4e931)* is something to look out for, and [high-dimensional data](https://en.wikipedia.org/wiki/Curse_of_dimensionality)  introduces some interesting effects that you should be aware of.\n",
    "\n",
    "A good practical online course can be found here: https://www.coursera.org/specializations/data-science-python while https://www.coursera.org/specializations/machine-learning covers more theory but in a gentle way.\n",
    "\n",
    "If you want to learn about deep learning, I recommend the courses at http://www.fast.ai/ and https://www.deeplearning.ai/\n",
    "\n",
    "There are a number of machine learning newsletters if you want to keep up with new developments, but the best is probably this one: https://www.getrevue.co/profile/wildml\n",
    "\n",
    "Google's Martin Zinkevich maintains a document with a [lot of good hard-won advice](http://martin.zinkevich.org/rules_of_ml/rules_of_ml.pdf). \n",
    "\n",
    "Pedro Domingos of University of Washington wrote a [great article](https://homes.cs.washington.edu/~pedrod/papers/cacm12.pdf) with some similar lessons in CACM: ; there is a good restatement of the content here: https://medium.com/@james_aka_yale/12-useful-things-to-know-about-machine-learning-c599be92c98d.\n",
    "\n"
   ]
  },
  {
   "cell_type": "code",
   "execution_count": null,
   "metadata": {},
   "outputs": [],
   "source": []
  }
 ],
 "metadata": {
  "hide_input": false,
  "kernelspec": {
   "display_name": "Python 3",
   "language": "python",
   "name": "python3"
  },
  "language_info": {
   "codemirror_mode": {
    "name": "ipython",
    "version": 3
   },
   "file_extension": ".py",
   "mimetype": "text/x-python",
   "name": "python",
   "nbconvert_exporter": "python",
   "pygments_lexer": "ipython3",
   "version": "3.7.2"
  }
 },
 "nbformat": 4,
 "nbformat_minor": 2
}
