{
 "cells": [
  {
   "cell_type": "markdown",
   "metadata": {},
   "source": [
    "# Basic NLP\n",
    "\n",
    "## Sources of Data\n",
    "\n",
    "\n",
    "## Preparing Data for NLP Tasks\n",
    "\n",
    "Many NLP tasks have a similar set of tasks for preparing the data:\n",
    "\n",
    "- remove extraneous punctuation or tokens (e.g., if HTML text, removing HTML tags that aren't relevant to the core text)\n",
    "- tokenizing the text into individual words (sometimes, but not always, retaining sentence structure)\n",
    "- remove irrelevant or low-signal words (called *stopwords*), such as `a` or `the`\n",
    "- normalizing letter case (e.g. convert all words to lower-case; sometimes we may want to only do this to the first words of sentences) \n",
    "- normalizing/fixing spelling errors\n",
    "- *lemmatizing* - converting words to common forms\n",
    "- *stemming*\n",
    "\n",
    "## Representing the Data\n",
    "\n",
    "In some cases we will then process the text as-is. In other cases we want to turn the text into a representation that works better with numerical methods. This could mean generating the overall *vocabulary*, assigning each word a unique number, and then turning the text into a set of the numbers corresponding to those words (a *bag of words*) or a vector sequence of those numbers.In some cases rather than representing each word by a number we will use a vector; these are called *word vectors*, and are constructed so that words with similar meanings are close in n-dimensional space to each other.\n",
    "\n",
    "When using a bag-of-words, rather than just representing whether a word occurs in the text or not, we may give it a numeric weight that is a measure of its significance. One way of calculating such weights is with TF-IDF.\n",
    "\n",
    "When using word vectors, we can create \"sentence vectors\" by averaging the word vectors of all words from the sentence. This loses grammatical structure.\n",
    "\n"
   ]
  },
  {
   "cell_type": "code",
   "execution_count": null,
   "metadata": {},
   "outputs": [],
   "source": []
  }
 ],
 "metadata": {
  "kernelspec": {
   "display_name": "Python 3",
   "language": "python",
   "name": "python3"
  },
  "language_info": {
   "codemirror_mode": {
    "name": "ipython",
    "version": 3
   },
   "file_extension": ".py",
   "mimetype": "text/x-python",
   "name": "python",
   "nbconvert_exporter": "python",
   "pygments_lexer": "ipython3",
   "version": "3.6.4"
  }
 },
 "nbformat": 4,
 "nbformat_minor": 2
}
