{
 "cells": [
  {
   "cell_type": "markdown",
   "metadata": {},
   "source": [
    "## Classifying Brake Warranty Claims as Either Hard Brake Pedal Problem or Not"
   ]
  },
  {
   "cell_type": "markdown",
   "metadata": {},
   "source": [
    "\\#imbalanced_data, \\#tfidf, \\#label_encode, \\#one_hot_encode"
   ]
  },
  {
   "cell_type": "markdown",
   "metadata": {},
   "source": [
    "**BACKGROUND:** Brake analysts are manually classifying vehicle brake warranty claims by reviewing the part # and the customer's complaint.  Based on these 2 features, the brake analyst will then label or classify the warranty claim as a particular brake problem (1) or not (0).\n",
    "\n",
    "**GOAL:** Use machine learning classification instead of the manual process above."
   ]
  },
  {
   "cell_type": "code",
   "execution_count": 1,
   "metadata": {},
   "outputs": [],
   "source": [
    "import pandas as pd\n",
    "import numpy as np\n",
    "import pickle\n",
    "from scipy import sparse\n",
    "from sklearn.feature_extraction.text import CountVectorizer\n",
    "from sklearn.feature_extraction.text import TfidfTransformer\n",
    "from sklearn.naive_bayes import MultinomialNB\n",
    "\n",
    "from sklearn.compose import ColumnTransformer\n",
    "from sklearn.pipeline import Pipeline\n",
    "from sklearn.impute import SimpleImputer\n",
    "from sklearn.preprocessing import StandardScaler, OneHotEncoder, LabelEncoder, LabelBinarizer, CategoricalEncoder\n",
    "from sklearn.model_selection import train_test_split, GridSearchCV"
   ]
  },
  {
   "cell_type": "markdown",
   "metadata": {},
   "source": [
    "### Raw Data Ingestion"
   ]
  },
  {
   "cell_type": "code",
   "execution_count": 2,
   "metadata": {
    "scrolled": true
   },
   "outputs": [
    {
     "data": {
      "text/html": [
       "<div>\n",
       "<style scoped>\n",
       "    .dataframe tbody tr th:only-of-type {\n",
       "        vertical-align: middle;\n",
       "    }\n",
       "\n",
       "    .dataframe tbody tr th {\n",
       "        vertical-align: top;\n",
       "    }\n",
       "\n",
       "    .dataframe thead th {\n",
       "        text-align: right;\n",
       "    }\n",
       "</style>\n",
       "<table border=\"1\" class=\"dataframe\">\n",
       "  <thead>\n",
       "    <tr style=\"text-align: right;\">\n",
       "      <th></th>\n",
       "      <th>Part5</th>\n",
       "      <th>Labor_Cost_USD</th>\n",
       "      <th>Part_Cost_USD</th>\n",
       "      <th>Days_To_Fail_MinZero</th>\n",
       "      <th>Miles_To_Fail</th>\n",
       "      <th>Customer_Complaint</th>\n",
       "      <th>PROBLEM</th>\n",
       "      <th>Target</th>\n",
       "    </tr>\n",
       "  </thead>\n",
       "  <tbody>\n",
       "    <tr>\n",
       "      <th>0</th>\n",
       "      <td>81690</td>\n",
       "      <td>97.33</td>\n",
       "      <td>252.88</td>\n",
       "      <td>483</td>\n",
       "      <td>13949</td>\n",
       "      <td>CK FOR THE DRIVERS SIDE 2ND ROW SEAT WILL NOT ...</td>\n",
       "      <td>Unconfirmed</td>\n",
       "      <td>0</td>\n",
       "    </tr>\n",
       "    <tr>\n",
       "      <th>1</th>\n",
       "      <td>57455</td>\n",
       "      <td>436.82</td>\n",
       "      <td>192.64</td>\n",
       "      <td>1265</td>\n",
       "      <td>46722</td>\n",
       "      <td>CONTINUATION OF FIRST LINE. ADDED FOR TECHNICI...</td>\n",
       "      <td>Unconfirmed</td>\n",
       "      <td>0</td>\n",
       "    </tr>\n",
       "    <tr>\n",
       "      <th>2</th>\n",
       "      <td>57306</td>\n",
       "      <td>535.50</td>\n",
       "      <td>1293.16</td>\n",
       "      <td>274</td>\n",
       "      <td>17819</td>\n",
       "      <td>C/S BRAKE SYSTEM WARNING LIGHT &amp; OTHER WARNING...</td>\n",
       "      <td>Unconfirmed</td>\n",
       "      <td>0</td>\n",
       "    </tr>\n",
       "    <tr>\n",
       "      <th>3</th>\n",
       "      <td>57111</td>\n",
       "      <td>1261.50</td>\n",
       "      <td>610.51</td>\n",
       "      <td>5</td>\n",
       "      <td>205</td>\n",
       "      <td>CLIENTS STATES THERE IS A WARNING LIGHT ON AND...</td>\n",
       "      <td>Unconfirmed</td>\n",
       "      <td>0</td>\n",
       "    </tr>\n",
       "    <tr>\n",
       "      <th>4</th>\n",
       "      <td>57111</td>\n",
       "      <td>1009.87</td>\n",
       "      <td>463.58</td>\n",
       "      <td>467</td>\n",
       "      <td>30655</td>\n",
       "      <td>VERIFIER PEDALE DE FREIN . DESCEND AU FOND ET ...</td>\n",
       "      <td>Unconfirmed</td>\n",
       "      <td>0</td>\n",
       "    </tr>\n",
       "  </tbody>\n",
       "</table>\n",
       "</div>"
      ],
      "text/plain": [
       "   Part5  Labor_Cost_USD  Part_Cost_USD  Days_To_Fail_MinZero  Miles_To_Fail  \\\n",
       "0  81690           97.33         252.88                   483          13949   \n",
       "1  57455          436.82         192.64                  1265          46722   \n",
       "2  57306          535.50        1293.16                   274          17819   \n",
       "3  57111         1261.50         610.51                     5            205   \n",
       "4  57111         1009.87         463.58                   467          30655   \n",
       "\n",
       "                                  Customer_Complaint      PROBLEM  Target  \n",
       "0  CK FOR THE DRIVERS SIDE 2ND ROW SEAT WILL NOT ...  Unconfirmed       0  \n",
       "1  CONTINUATION OF FIRST LINE. ADDED FOR TECHNICI...  Unconfirmed       0  \n",
       "2  C/S BRAKE SYSTEM WARNING LIGHT & OTHER WARNING...  Unconfirmed       0  \n",
       "3  CLIENTS STATES THERE IS A WARNING LIGHT ON AND...  Unconfirmed       0  \n",
       "4  VERIFIER PEDALE DE FREIN . DESCEND AU FOND ET ...  Unconfirmed       0  "
      ]
     },
     "execution_count": 2,
     "metadata": {},
     "output_type": "execute_result"
    }
   ],
   "source": [
    "df = pd.read_csv('book1.csv')\n",
    "df.head()"
   ]
  },
  {
   "cell_type": "code",
   "execution_count": 3,
   "metadata": {},
   "outputs": [
    {
     "data": {
      "text/html": [
       "<div>\n",
       "<style scoped>\n",
       "    .dataframe tbody tr th:only-of-type {\n",
       "        vertical-align: middle;\n",
       "    }\n",
       "\n",
       "    .dataframe tbody tr th {\n",
       "        vertical-align: top;\n",
       "    }\n",
       "\n",
       "    .dataframe thead th {\n",
       "        text-align: right;\n",
       "    }\n",
       "</style>\n",
       "<table border=\"1\" class=\"dataframe\">\n",
       "  <thead>\n",
       "    <tr style=\"text-align: right;\">\n",
       "      <th></th>\n",
       "      <th>Part5</th>\n",
       "      <th>Labor_Cost_USD</th>\n",
       "      <th>Part_Cost_USD</th>\n",
       "      <th>Days_To_Fail_MinZero</th>\n",
       "      <th>Miles_To_Fail</th>\n",
       "      <th>Target</th>\n",
       "    </tr>\n",
       "  </thead>\n",
       "  <tbody>\n",
       "    <tr>\n",
       "      <th>count</th>\n",
       "      <td>1672.000000</td>\n",
       "      <td>1672.000000</td>\n",
       "      <td>1672.000000</td>\n",
       "      <td>1672.000000</td>\n",
       "      <td>1672.000000</td>\n",
       "      <td>1672.000000</td>\n",
       "    </tr>\n",
       "    <tr>\n",
       "      <th>mean</th>\n",
       "      <td>18764.279306</td>\n",
       "      <td>170.994222</td>\n",
       "      <td>158.293086</td>\n",
       "      <td>345.457536</td>\n",
       "      <td>12164.698565</td>\n",
       "      <td>0.094498</td>\n",
       "    </tr>\n",
       "    <tr>\n",
       "      <th>std</th>\n",
       "      <td>21892.799342</td>\n",
       "      <td>151.722580</td>\n",
       "      <td>306.786571</td>\n",
       "      <td>353.994640</td>\n",
       "      <td>13344.865461</td>\n",
       "      <td>0.292607</td>\n",
       "    </tr>\n",
       "    <tr>\n",
       "      <th>min</th>\n",
       "      <td>1469.000000</td>\n",
       "      <td>0.000000</td>\n",
       "      <td>0.000000</td>\n",
       "      <td>0.000000</td>\n",
       "      <td>1.000000</td>\n",
       "      <td>0.000000</td>\n",
       "    </tr>\n",
       "    <tr>\n",
       "      <th>25%</th>\n",
       "      <td>1469.000000</td>\n",
       "      <td>90.000000</td>\n",
       "      <td>18.070000</td>\n",
       "      <td>62.000000</td>\n",
       "      <td>2000.750000</td>\n",
       "      <td>0.000000</td>\n",
       "    </tr>\n",
       "    <tr>\n",
       "      <th>50%</th>\n",
       "      <td>1469.000000</td>\n",
       "      <td>154.950000</td>\n",
       "      <td>65.790000</td>\n",
       "      <td>224.000000</td>\n",
       "      <td>7424.500000</td>\n",
       "      <td>0.000000</td>\n",
       "    </tr>\n",
       "    <tr>\n",
       "      <th>75%</th>\n",
       "      <td>46101.000000</td>\n",
       "      <td>213.037500</td>\n",
       "      <td>182.085000</td>\n",
       "      <td>543.500000</td>\n",
       "      <td>18675.750000</td>\n",
       "      <td>0.000000</td>\n",
       "    </tr>\n",
       "    <tr>\n",
       "      <th>max</th>\n",
       "      <td>81690.000000</td>\n",
       "      <td>2056.200000</td>\n",
       "      <td>2461.500000</td>\n",
       "      <td>1724.000000</td>\n",
       "      <td>92423.000000</td>\n",
       "      <td>1.000000</td>\n",
       "    </tr>\n",
       "  </tbody>\n",
       "</table>\n",
       "</div>"
      ],
      "text/plain": [
       "              Part5  Labor_Cost_USD  Part_Cost_USD  Days_To_Fail_MinZero  \\\n",
       "count   1672.000000     1672.000000    1672.000000           1672.000000   \n",
       "mean   18764.279306      170.994222     158.293086            345.457536   \n",
       "std    21892.799342      151.722580     306.786571            353.994640   \n",
       "min     1469.000000        0.000000       0.000000              0.000000   \n",
       "25%     1469.000000       90.000000      18.070000             62.000000   \n",
       "50%     1469.000000      154.950000      65.790000            224.000000   \n",
       "75%    46101.000000      213.037500     182.085000            543.500000   \n",
       "max    81690.000000     2056.200000    2461.500000           1724.000000   \n",
       "\n",
       "       Miles_To_Fail       Target  \n",
       "count    1672.000000  1672.000000  \n",
       "mean    12164.698565     0.094498  \n",
       "std     13344.865461     0.292607  \n",
       "min         1.000000     0.000000  \n",
       "25%      2000.750000     0.000000  \n",
       "50%      7424.500000     0.000000  \n",
       "75%     18675.750000     0.000000  \n",
       "max     92423.000000     1.000000  "
      ]
     },
     "execution_count": 3,
     "metadata": {},
     "output_type": "execute_result"
    }
   ],
   "source": [
    "df.describe()"
   ]
  },
  {
   "cell_type": "code",
   "execution_count": 4,
   "metadata": {},
   "outputs": [
    {
     "data": {
      "text/plain": [
       "Part5                     int64\n",
       "Labor_Cost_USD          float64\n",
       "Part_Cost_USD           float64\n",
       "Days_To_Fail_MinZero      int64\n",
       "Miles_To_Fail             int64\n",
       "Customer_Complaint       object\n",
       "PROBLEM                  object\n",
       "Target                    int64\n",
       "dtype: object"
      ]
     },
     "execution_count": 4,
     "metadata": {},
     "output_type": "execute_result"
    }
   ],
   "source": [
    "df.dtypes"
   ]
  },
  {
   "cell_type": "markdown",
   "metadata": {},
   "source": [
    "#### Based on prior business knowledge, part5 needs to be of type ```category``` since the part # can contain letters:"
   ]
  },
  {
   "cell_type": "code",
   "execution_count": 5,
   "metadata": {
    "scrolled": true
   },
   "outputs": [
    {
     "data": {
      "text/plain": [
       "Part5                   category\n",
       "Labor_Cost_USD           float64\n",
       "Part_Cost_USD            float64\n",
       "Days_To_Fail_MinZero       int64\n",
       "Miles_To_Fail              int64\n",
       "Customer_Complaint        object\n",
       "PROBLEM                   object\n",
       "Target                     int64\n",
       "dtype: object"
      ]
     },
     "execution_count": 5,
     "metadata": {},
     "output_type": "execute_result"
    }
   ],
   "source": [
    "df['Part5'] = df['Part5'].astype('category')\n",
    "df.dtypes"
   ]
  },
  {
   "cell_type": "code",
   "execution_count": 6,
   "metadata": {},
   "outputs": [],
   "source": [
    "data = df[['Part5','Customer_Complaint','Target']]"
   ]
  },
  {
   "cell_type": "code",
   "execution_count": 7,
   "metadata": {},
   "outputs": [
    {
     "data": {
      "text/html": [
       "<div>\n",
       "<style scoped>\n",
       "    .dataframe tbody tr th:only-of-type {\n",
       "        vertical-align: middle;\n",
       "    }\n",
       "\n",
       "    .dataframe tbody tr th {\n",
       "        vertical-align: top;\n",
       "    }\n",
       "\n",
       "    .dataframe thead th {\n",
       "        text-align: right;\n",
       "    }\n",
       "</style>\n",
       "<table border=\"1\" class=\"dataframe\">\n",
       "  <thead>\n",
       "    <tr style=\"text-align: right;\">\n",
       "      <th></th>\n",
       "      <th>Part5</th>\n",
       "      <th>Customer_Complaint</th>\n",
       "      <th>Target</th>\n",
       "    </tr>\n",
       "  </thead>\n",
       "  <tbody>\n",
       "    <tr>\n",
       "      <th>0</th>\n",
       "      <td>81690</td>\n",
       "      <td>CK FOR THE DRIVERS SIDE 2ND ROW SEAT WILL NOT ...</td>\n",
       "      <td>0</td>\n",
       "    </tr>\n",
       "    <tr>\n",
       "      <th>1</th>\n",
       "      <td>57455</td>\n",
       "      <td>CONTINUATION OF FIRST LINE. ADDED FOR TECHNICI...</td>\n",
       "      <td>0</td>\n",
       "    </tr>\n",
       "    <tr>\n",
       "      <th>2</th>\n",
       "      <td>57306</td>\n",
       "      <td>C/S BRAKE SYSTEM WARNING LIGHT &amp; OTHER WARNING...</td>\n",
       "      <td>0</td>\n",
       "    </tr>\n",
       "    <tr>\n",
       "      <th>3</th>\n",
       "      <td>57111</td>\n",
       "      <td>CLIENTS STATES THERE IS A WARNING LIGHT ON AND...</td>\n",
       "      <td>0</td>\n",
       "    </tr>\n",
       "    <tr>\n",
       "      <th>4</th>\n",
       "      <td>57111</td>\n",
       "      <td>VERIFIER PEDALE DE FREIN . DESCEND AU FOND ET ...</td>\n",
       "      <td>0</td>\n",
       "    </tr>\n",
       "  </tbody>\n",
       "</table>\n",
       "</div>"
      ],
      "text/plain": [
       "   Part5                                 Customer_Complaint  Target\n",
       "0  81690  CK FOR THE DRIVERS SIDE 2ND ROW SEAT WILL NOT ...       0\n",
       "1  57455  CONTINUATION OF FIRST LINE. ADDED FOR TECHNICI...       0\n",
       "2  57306  C/S BRAKE SYSTEM WARNING LIGHT & OTHER WARNING...       0\n",
       "3  57111  CLIENTS STATES THERE IS A WARNING LIGHT ON AND...       0\n",
       "4  57111  VERIFIER PEDALE DE FREIN . DESCEND AU FOND ET ...       0"
      ]
     },
     "execution_count": 7,
     "metadata": {},
     "output_type": "execute_result"
    }
   ],
   "source": [
    "data.head()"
   ]
  },
  {
   "cell_type": "markdown",
   "metadata": {},
   "source": [
    "#### Data is imbalanced:"
   ]
  },
  {
   "cell_type": "code",
   "execution_count": 8,
   "metadata": {},
   "outputs": [
    {
     "data": {
      "text/plain": [
       "0    1514\n",
       "1     158\n",
       "Name: Target, dtype: int64"
      ]
     },
     "execution_count": 8,
     "metadata": {},
     "output_type": "execute_result"
    }
   ],
   "source": [
    "data['Target'].value_counts()"
   ]
  },
  {
   "cell_type": "code",
   "execution_count": 9,
   "metadata": {},
   "outputs": [
    {
     "data": {
      "text/plain": [
       "0    0.905502\n",
       "1    0.094498\n",
       "Name: Target, dtype: float64"
      ]
     },
     "execution_count": 9,
     "metadata": {},
     "output_type": "execute_result"
    }
   ],
   "source": [
    "data['Target'].value_counts(normalize=True)"
   ]
  },
  {
   "cell_type": "code",
   "execution_count": 10,
   "metadata": {},
   "outputs": [
    {
     "data": {
      "text/plain": [
       "(1672, 3)"
      ]
     },
     "execution_count": 10,
     "metadata": {},
     "output_type": "execute_result"
    }
   ],
   "source": [
    "data.shape"
   ]
  },
  {
   "cell_type": "markdown",
   "metadata": {},
   "source": [
    "Our data is \"imbalanced\".  On first initial thought, one would think we can just upsample our data at this point.  BUT, I've read that you should ONLY upsample the training data.  So to proceed, I will encode/fit part5 and customer complaint text features, split the data into training and test sets.  Then upsample the training set.  Then perform the transformations on the training data. Then fit the classification model to the training data."
   ]
  },
  {
   "cell_type": "markdown",
   "metadata": {},
   "source": [
    "## Encode Features Data"
   ]
  },
  {
   "cell_type": "markdown",
   "metadata": {},
   "source": [
    "Import encoders:"
   ]
  },
  {
   "cell_type": "code",
   "execution_count": 11,
   "metadata": {},
   "outputs": [],
   "source": [
    "enc_label = LabelEncoder()\n",
    "enc_onehot = OneHotEncoder(categories='auto')\n",
    "enc_labelbinarizer = LabelBinarizer()\n",
    "#enc_categorical = CategoricalEncoder() # new in version 0.20dev, but deprecated in final version of 0.20\n",
    "count_vect = CountVectorizer()\n",
    "tfidf_transformer = TfidfTransformer()"
   ]
  },
  {
   "cell_type": "markdown",
   "metadata": {},
   "source": [
    "### Encode the part # column (prior to version 0.20)"
   ]
  },
  {
   "cell_type": "markdown",
   "metadata": {},
   "source": [
    "Since part 5 is a categorical, nominal data type, we can't just stop at performing label encoding (text to numeric), we must also do one-hot encoding since we do not want the machine learning classifier to think the order of the values matter."
   ]
  },
  {
   "cell_type": "markdown",
   "metadata": {},
   "source": [
    "Label encode it first:"
   ]
  },
  {
   "cell_type": "code",
   "execution_count": 12,
   "metadata": {},
   "outputs": [],
   "source": [
    "X_partno_labelencoded = enc_label.fit_transform(data['Part5'])"
   ]
  },
  {
   "cell_type": "code",
   "execution_count": 13,
   "metadata": {},
   "outputs": [
    {
     "data": {
      "text/plain": [
       "0       81690\n",
       "1       57455\n",
       "2       57306\n",
       "3       57111\n",
       "4       57111\n",
       "5       57111\n",
       "6       57110\n",
       "7       57110\n",
       "8       57110\n",
       "9       57110\n",
       "10      57110\n",
       "11      57100\n",
       "12      53601\n",
       "13      52611\n",
       "14      51360\n",
       "15      46600\n",
       "16      46600\n",
       "17      46600\n",
       "18      46468\n",
       "19      46402\n",
       "20      46402\n",
       "21      46402\n",
       "22      46402\n",
       "23      46402\n",
       "24      46402\n",
       "25      46402\n",
       "26      46402\n",
       "27      46402\n",
       "28      46402\n",
       "29      46402\n",
       "        ...  \n",
       "1642     1469\n",
       "1643     1469\n",
       "1644     1469\n",
       "1645     1469\n",
       "1646     1469\n",
       "1647     1469\n",
       "1648     1469\n",
       "1649     1469\n",
       "1650     1469\n",
       "1651     1469\n",
       "1652     1469\n",
       "1653     1469\n",
       "1654     1469\n",
       "1655     1469\n",
       "1656     1469\n",
       "1657     1469\n",
       "1658     1469\n",
       "1659     1469\n",
       "1660     1469\n",
       "1661     1469\n",
       "1662     1469\n",
       "1663     1469\n",
       "1664     1469\n",
       "1665     1469\n",
       "1666     1469\n",
       "1667     1469\n",
       "1668     1469\n",
       "1669     1469\n",
       "1670     1469\n",
       "1671     1469\n",
       "Name: Part5, Length: 1672, dtype: category\n",
       "Categories (32, int64): [1469, 4816, 6462, 10002, ..., 57111, 57306, 57455, 81690]"
      ]
     },
     "execution_count": 13,
     "metadata": {},
     "output_type": "execute_result"
    }
   ],
   "source": [
    "data['Part5']"
   ]
  },
  {
   "cell_type": "code",
   "execution_count": 14,
   "metadata": {},
   "outputs": [
    {
     "data": {
      "text/plain": [
       "array([31, 30, 29, ...,  0,  0,  0])"
      ]
     },
     "execution_count": 14,
     "metadata": {},
     "output_type": "execute_result"
    }
   ],
   "source": [
    "X_partno_labelencoded"
   ]
  },
  {
   "cell_type": "code",
   "execution_count": 15,
   "metadata": {},
   "outputs": [
    {
     "data": {
      "text/plain": [
       "1"
      ]
     },
     "execution_count": 15,
     "metadata": {},
     "output_type": "execute_result"
    }
   ],
   "source": [
    "X_partno_labelencoded.ndim"
   ]
  },
  {
   "cell_type": "code",
   "execution_count": 16,
   "metadata": {},
   "outputs": [
    {
     "data": {
      "text/plain": [
       "1672"
      ]
     },
     "execution_count": 16,
     "metadata": {},
     "output_type": "execute_result"
    }
   ],
   "source": [
    "len(X_partno_labelencoded)"
   ]
  },
  {
   "cell_type": "markdown",
   "metadata": {},
   "source": [
    "Then one-hot encode it since we want the data to look nominal, not ordinal:"
   ]
  },
  {
   "cell_type": "markdown",
   "metadata": {},
   "source": [
    "scikit-learn api requires that our data is a 2-D array, so need to also perform a .reshape(-1, 1)"
   ]
  },
  {
   "cell_type": "code",
   "execution_count": 17,
   "metadata": {},
   "outputs": [],
   "source": [
    "X_partno_onehot = enc_onehot.fit_transform(X_partno_labelencoded.reshape(-1, 1))"
   ]
  },
  {
   "cell_type": "code",
   "execution_count": 18,
   "metadata": {},
   "outputs": [
    {
     "data": {
      "text/plain": [
       "<1672x32 sparse matrix of type '<class 'numpy.float64'>'\n",
       "\twith 1672 stored elements in Compressed Sparse Row format>"
      ]
     },
     "execution_count": 18,
     "metadata": {},
     "output_type": "execute_result"
    }
   ],
   "source": [
    "X_partno_onehot"
   ]
  },
  {
   "cell_type": "code",
   "execution_count": 19,
   "metadata": {},
   "outputs": [
    {
     "data": {
      "text/plain": [
       "array([[0., 0., 0., ..., 0., 0., 1.],\n",
       "       [0., 0., 0., ..., 0., 1., 0.],\n",
       "       [0., 0., 0., ..., 1., 0., 0.],\n",
       "       ...,\n",
       "       [1., 0., 0., ..., 0., 0., 0.],\n",
       "       [1., 0., 0., ..., 0., 0., 0.],\n",
       "       [1., 0., 0., ..., 0., 0., 0.]])"
      ]
     },
     "execution_count": 19,
     "metadata": {},
     "output_type": "execute_result"
    }
   ],
   "source": [
    "X_partno_onehot.toarray()"
   ]
  },
  {
   "cell_type": "markdown",
   "metadata": {},
   "source": [
    "### Encode the part # column with OneHotEncoder (version 0.20 and later)"
   ]
  },
  {
   "cell_type": "markdown",
   "metadata": {},
   "source": [
    "With version 0.20, we can just use the one-hot encoder which now also does label encoding.  So essentially you can label encode and one-hot encode in just one step now."
   ]
  },
  {
   "cell_type": "markdown",
   "metadata": {},
   "source": [
    "But, scikit-learn has the dreaded 2-D \"Gotcha\".  For most encoders, they expect a 2-D array.  A pandas Series is 1-D array.  We can make or force a 2-D array or create an actual 1 column DataFrame by putting square brackets around the column name. "
   ]
  },
  {
   "cell_type": "code",
   "execution_count": null,
   "metadata": {},
   "outputs": [],
   "source": [
    "part5 = data[['Part5']]  # make a 2-D data"
   ]
  },
  {
   "cell_type": "code",
   "execution_count": null,
   "metadata": {},
   "outputs": [],
   "source": [
    "X_partno_onehot = enc_onehot.fit_transform(part5)"
   ]
  },
  {
   "cell_type": "code",
   "execution_count": null,
   "metadata": {},
   "outputs": [],
   "source": [
    "X_partno_onehot"
   ]
  },
  {
   "cell_type": "code",
   "execution_count": null,
   "metadata": {},
   "outputs": [],
   "source": [
    "X_partno_onehot.toarray()"
   ]
  },
  {
   "cell_type": "markdown",
   "metadata": {},
   "source": [
    "As we can see from above, it gives the same results as the 2-step process of LabelBinarizer and OneHotEncoder."
   ]
  },
  {
   "cell_type": "code",
   "execution_count": null,
   "metadata": {},
   "outputs": [],
   "source": [
    "X_partno_onehot.shape"
   ]
  },
  {
   "cell_type": "markdown",
   "metadata": {},
   "source": [
    "Alternatively, you can use LabelBinarizer to label encode and one hot encode all in one step."
   ]
  },
  {
   "cell_type": "code",
   "execution_count": null,
   "metadata": {},
   "outputs": [],
   "source": [
    "X_partno_onehot_categorical = enc_labelbinarizer.fit_transform(part5)"
   ]
  },
  {
   "cell_type": "code",
   "execution_count": null,
   "metadata": {},
   "outputs": [],
   "source": [
    "X_partno_onehot_categorical"
   ]
  },
  {
   "cell_type": "code",
   "execution_count": null,
   "metadata": {},
   "outputs": [],
   "source": [
    "X_partno_onehot_categorical.shape"
   ]
  },
  {
   "cell_type": "markdown",
   "metadata": {},
   "source": [
    "### Encode the customer contention text column"
   ]
  },
  {
   "cell_type": "markdown",
   "metadata": {},
   "source": [
    "First, CountVectorize() it:"
   ]
  },
  {
   "cell_type": "code",
   "execution_count": 20,
   "metadata": {},
   "outputs": [
    {
     "data": {
      "text/plain": [
       "<1672x3054 sparse matrix of type '<class 'numpy.int64'>'\n",
       "\twith 25298 stored elements in Compressed Sparse Row format>"
      ]
     },
     "execution_count": 20,
     "metadata": {},
     "output_type": "execute_result"
    }
   ],
   "source": [
    "X_complaint_counts = count_vect.fit_transform(data['Customer_Complaint'])\n",
    "X_complaint_counts"
   ]
  },
  {
   "cell_type": "markdown",
   "metadata": {},
   "source": [
    "Then, tfidf tranform it:"
   ]
  },
  {
   "cell_type": "code",
   "execution_count": 21,
   "metadata": {},
   "outputs": [
    {
     "data": {
      "text/plain": [
       "(1672, 3054)"
      ]
     },
     "execution_count": 21,
     "metadata": {},
     "output_type": "execute_result"
    }
   ],
   "source": [
    "X_complaint_tfidf = tfidf_transformer.fit_transform(X_complaint_counts)\n",
    "X_complaint_tfidf.shape"
   ]
  },
  {
   "cell_type": "markdown",
   "metadata": {},
   "source": [
    "### Split the original data into training and testing data sets without separating features from label data:"
   ]
  },
  {
   "cell_type": "code",
   "execution_count": 22,
   "metadata": {},
   "outputs": [],
   "source": [
    "df_train, df_test = train_test_split(data[['Part5','Customer_Complaint','Target']],\n",
    "                                                    test_size = 0.5, random_state = 12)"
   ]
  },
  {
   "cell_type": "code",
   "execution_count": 23,
   "metadata": {},
   "outputs": [
    {
     "data": {
      "text/html": [
       "<div>\n",
       "<style scoped>\n",
       "    .dataframe tbody tr th:only-of-type {\n",
       "        vertical-align: middle;\n",
       "    }\n",
       "\n",
       "    .dataframe tbody tr th {\n",
       "        vertical-align: top;\n",
       "    }\n",
       "\n",
       "    .dataframe thead th {\n",
       "        text-align: right;\n",
       "    }\n",
       "</style>\n",
       "<table border=\"1\" class=\"dataframe\">\n",
       "  <thead>\n",
       "    <tr style=\"text-align: right;\">\n",
       "      <th></th>\n",
       "      <th>Part5</th>\n",
       "      <th>Customer_Complaint</th>\n",
       "      <th>Target</th>\n",
       "    </tr>\n",
       "  </thead>\n",
       "  <tbody>\n",
       "    <tr>\n",
       "      <th>892</th>\n",
       "      <td>1469</td>\n",
       "      <td>COMPLAINT;CUSTOMER REQUESTS BRAKE LININGS BE I...</td>\n",
       "      <td>0</td>\n",
       "    </tr>\n",
       "    <tr>\n",
       "      <th>1528</th>\n",
       "      <td>1469</td>\n",
       "      <td>CUST STATES BRAKES MAKEING A POPPING NOISE WHE...</td>\n",
       "      <td>0</td>\n",
       "    </tr>\n",
       "    <tr>\n",
       "      <th>324</th>\n",
       "      <td>46402</td>\n",
       "      <td>CUSTOMER STATES THAT WHEN VEHICLE SITS OVER NI...</td>\n",
       "      <td>0</td>\n",
       "    </tr>\n",
       "    <tr>\n",
       "      <th>783</th>\n",
       "      <td>1469</td>\n",
       "      <td>CUSTOMER STATES AFTER SITTING OVERNIGHT THE BR...</td>\n",
       "      <td>0</td>\n",
       "    </tr>\n",
       "    <tr>\n",
       "      <th>440</th>\n",
       "      <td>46101</td>\n",
       "      <td>CUST. STATES:BRAKE LIGHT FLASHES WHILE DRIVING</td>\n",
       "      <td>0</td>\n",
       "    </tr>\n",
       "  </tbody>\n",
       "</table>\n",
       "</div>"
      ],
      "text/plain": [
       "      Part5                                 Customer_Complaint  Target\n",
       "892    1469  COMPLAINT;CUSTOMER REQUESTS BRAKE LININGS BE I...       0\n",
       "1528   1469  CUST STATES BRAKES MAKEING A POPPING NOISE WHE...       0\n",
       "324   46402  CUSTOMER STATES THAT WHEN VEHICLE SITS OVER NI...       0\n",
       "783    1469  CUSTOMER STATES AFTER SITTING OVERNIGHT THE BR...       0\n",
       "440   46101     CUST. STATES:BRAKE LIGHT FLASHES WHILE DRIVING       0"
      ]
     },
     "execution_count": 23,
     "metadata": {},
     "output_type": "execute_result"
    }
   ],
   "source": [
    "df_train.head()"
   ]
  },
  {
   "cell_type": "code",
   "execution_count": 24,
   "metadata": {},
   "outputs": [
    {
     "data": {
      "text/plain": [
       "0    756\n",
       "1     80\n",
       "Name: Target, dtype: int64"
      ]
     },
     "execution_count": 24,
     "metadata": {},
     "output_type": "execute_result"
    }
   ],
   "source": [
    "df_train.Target.value_counts()"
   ]
  },
  {
   "cell_type": "markdown",
   "metadata": {},
   "source": [
    "Our training data is imbalanced, so we need to balance the data somehow.  One strategy is to upsample the minority class."
   ]
  },
  {
   "cell_type": "markdown",
   "metadata": {},
   "source": [
    "#### Upsample the minority class ONLY from the training data:"
   ]
  },
  {
   "cell_type": "code",
   "execution_count": 25,
   "metadata": {},
   "outputs": [
    {
     "data": {
      "text/plain": [
       "1    756\n",
       "Name: Target, dtype: int64"
      ]
     },
     "execution_count": 25,
     "metadata": {},
     "output_type": "execute_result"
    }
   ],
   "source": [
    "from sklearn.utils import resample\n",
    "\n",
    "df_train_upsampled = resample(df_train.query(\"Target == 1\"), # filter to minority class\n",
    "                                    replace=True, \n",
    "                                    n_samples = df_train.query(\"Target == 0\").shape[0], \n",
    "                                    random_state = 321)\n",
    "\n",
    "df_train_upsampled.Target.value_counts()"
   ]
  },
  {
   "cell_type": "code",
   "execution_count": 26,
   "metadata": {},
   "outputs": [
    {
     "data": {
      "text/html": [
       "<div>\n",
       "<style scoped>\n",
       "    .dataframe tbody tr th:only-of-type {\n",
       "        vertical-align: middle;\n",
       "    }\n",
       "\n",
       "    .dataframe tbody tr th {\n",
       "        vertical-align: top;\n",
       "    }\n",
       "\n",
       "    .dataframe thead th {\n",
       "        text-align: right;\n",
       "    }\n",
       "</style>\n",
       "<table border=\"1\" class=\"dataframe\">\n",
       "  <thead>\n",
       "    <tr style=\"text-align: right;\">\n",
       "      <th></th>\n",
       "      <th>Part5</th>\n",
       "      <th>Customer_Complaint</th>\n",
       "      <th>Target</th>\n",
       "    </tr>\n",
       "  </thead>\n",
       "  <tbody>\n",
       "    <tr>\n",
       "      <th>69</th>\n",
       "      <td>46402</td>\n",
       "      <td>C/S BRAKES FAIL IN COLD WEATHER</td>\n",
       "      <td>1</td>\n",
       "    </tr>\n",
       "    <tr>\n",
       "      <th>74</th>\n",
       "      <td>46402</td>\n",
       "      <td>0 CUSTOMER STATES BRAKES ARE HARD TO PRESS AND...</td>\n",
       "      <td>1</td>\n",
       "    </tr>\n",
       "    <tr>\n",
       "      <th>62</th>\n",
       "      <td>46402</td>\n",
       "      <td>LA P DALE DE FREIN FORCE VERRE LE HAUT QUAND L...</td>\n",
       "      <td>1</td>\n",
       "    </tr>\n",
       "    <tr>\n",
       "      <th>682</th>\n",
       "      <td>1469</td>\n",
       "      <td>CUSTOMER STATES BRAKE PEDAL IS REALLY HARD AND...</td>\n",
       "      <td>1</td>\n",
       "    </tr>\n",
       "    <tr>\n",
       "      <th>22</th>\n",
       "      <td>46402</td>\n",
       "      <td>CUSTOMER STATED STRANGE NOISE HEARD FROM FRONT...</td>\n",
       "      <td>1</td>\n",
       "    </tr>\n",
       "  </tbody>\n",
       "</table>\n",
       "</div>"
      ],
      "text/plain": [
       "     Part5                                 Customer_Complaint  Target\n",
       "69   46402                    C/S BRAKES FAIL IN COLD WEATHER       1\n",
       "74   46402  0 CUSTOMER STATES BRAKES ARE HARD TO PRESS AND...       1\n",
       "62   46402  LA P DALE DE FREIN FORCE VERRE LE HAUT QUAND L...       1\n",
       "682   1469  CUSTOMER STATES BRAKE PEDAL IS REALLY HARD AND...       1\n",
       "22   46402  CUSTOMER STATED STRANGE NOISE HEARD FROM FRONT...       1"
      ]
     },
     "execution_count": 26,
     "metadata": {},
     "output_type": "execute_result"
    }
   ],
   "source": [
    "df_train_upsampled.head()"
   ]
  },
  {
   "cell_type": "code",
   "execution_count": 27,
   "metadata": {},
   "outputs": [],
   "source": [
    "df_train_balanced = pd.concat([df_train.query(\"Target == 0\"), df_train_upsampled])"
   ]
  },
  {
   "cell_type": "code",
   "execution_count": 28,
   "metadata": {},
   "outputs": [
    {
     "data": {
      "text/plain": [
       "1    756\n",
       "0    756\n",
       "Name: Target, dtype: int64"
      ]
     },
     "execution_count": 28,
     "metadata": {},
     "output_type": "execute_result"
    }
   ],
   "source": [
    "df_train_balanced.Target.value_counts()"
   ]
  },
  {
   "cell_type": "markdown",
   "metadata": {},
   "source": [
    "Now our training data has equal quantity of target/label data (756 each)"
   ]
  },
  {
   "cell_type": "code",
   "execution_count": 29,
   "metadata": {},
   "outputs": [
    {
     "data": {
      "text/plain": [
       "(1512, 3)"
      ]
     },
     "execution_count": 29,
     "metadata": {},
     "output_type": "execute_result"
    }
   ],
   "source": [
    "df_train_balanced.shape"
   ]
  },
  {
   "cell_type": "markdown",
   "metadata": {},
   "source": [
    "### Encode training data"
   ]
  },
  {
   "cell_type": "markdown",
   "metadata": {},
   "source": [
    "#### Encode the part5 training data"
   ]
  },
  {
   "cell_type": "code",
   "execution_count": 30,
   "metadata": {},
   "outputs": [],
   "source": [
    "df_train_part5_label_encoded = enc_label.transform(df_train_balanced.Part5)\n",
    "df_train_part5_onehot_encoded = enc_onehot.transform(df_train_part5_label_encoded.reshape(-1, 1))"
   ]
  },
  {
   "cell_type": "code",
   "execution_count": 31,
   "metadata": {},
   "outputs": [
    {
     "data": {
      "text/plain": [
       "(1512, 32)"
      ]
     },
     "execution_count": 31,
     "metadata": {},
     "output_type": "execute_result"
    }
   ],
   "source": [
    "df_train_part5_onehot_encoded.shape"
   ]
  },
  {
   "cell_type": "code",
   "execution_count": 32,
   "metadata": {},
   "outputs": [
    {
     "data": {
      "text/plain": [
       "<1512x32 sparse matrix of type '<class 'numpy.float64'>'\n",
       "\twith 1512 stored elements in Compressed Sparse Row format>"
      ]
     },
     "execution_count": 32,
     "metadata": {},
     "output_type": "execute_result"
    }
   ],
   "source": [
    "df_train_part5_onehot_encoded"
   ]
  },
  {
   "cell_type": "markdown",
   "metadata": {},
   "source": [
    "#### Encode the contention text training data"
   ]
  },
  {
   "cell_type": "code",
   "execution_count": 33,
   "metadata": {},
   "outputs": [],
   "source": [
    "df_train_contention_count_vectorized = count_vect.transform(df_train_balanced.Customer_Complaint)\n",
    "df_train_contention_tfidf = tfidf_transformer.transform(df_train_contention_count_vectorized)"
   ]
  },
  {
   "cell_type": "code",
   "execution_count": 34,
   "metadata": {},
   "outputs": [
    {
     "data": {
      "text/plain": [
       "(1512, 3054)"
      ]
     },
     "execution_count": 34,
     "metadata": {},
     "output_type": "execute_result"
    }
   ],
   "source": [
    "df_train_contention_tfidf.shape"
   ]
  },
  {
   "cell_type": "code",
   "execution_count": 35,
   "metadata": {},
   "outputs": [
    {
     "data": {
      "text/plain": [
       "<1512x3054 sparse matrix of type '<class 'numpy.float64'>'\n",
       "\twith 23929 stored elements in Compressed Sparse Row format>"
      ]
     },
     "execution_count": 35,
     "metadata": {},
     "output_type": "execute_result"
    }
   ],
   "source": [
    "df_train_contention_tfidf"
   ]
  },
  {
   "cell_type": "markdown",
   "metadata": {},
   "source": [
    "#### Combine the encoded part # and contention text training data together to create our final X / Features matrix:"
   ]
  },
  {
   "cell_type": "code",
   "execution_count": 36,
   "metadata": {},
   "outputs": [],
   "source": [
    "X_train = sparse.hstack((df_train_part5_onehot_encoded, df_train_contention_tfidf), format='csr')"
   ]
  },
  {
   "cell_type": "code",
   "execution_count": 37,
   "metadata": {},
   "outputs": [
    {
     "data": {
      "text/plain": [
       "(1512, 3086)"
      ]
     },
     "execution_count": 37,
     "metadata": {},
     "output_type": "execute_result"
    }
   ],
   "source": [
    "X_train.shape"
   ]
  },
  {
   "cell_type": "markdown",
   "metadata": {},
   "source": [
    "### Define our y / target 1-D array:"
   ]
  },
  {
   "cell_type": "code",
   "execution_count": 38,
   "metadata": {},
   "outputs": [],
   "source": [
    "y_train = df_train_balanced.Target.values"
   ]
  },
  {
   "cell_type": "code",
   "execution_count": 39,
   "metadata": {},
   "outputs": [
    {
     "data": {
      "text/plain": [
       "(1512,)"
      ]
     },
     "execution_count": 39,
     "metadata": {},
     "output_type": "execute_result"
    }
   ],
   "source": [
    "y_train.shape"
   ]
  },
  {
   "cell_type": "markdown",
   "metadata": {},
   "source": [
    "### Fit the training data to our model"
   ]
  },
  {
   "cell_type": "code",
   "execution_count": 40,
   "metadata": {},
   "outputs": [],
   "source": [
    "clf = MultinomialNB().fit(X_train, y_train)"
   ]
  },
  {
   "cell_type": "markdown",
   "metadata": {},
   "source": [
    "### Encode test data"
   ]
  },
  {
   "cell_type": "markdown",
   "metadata": {},
   "source": [
    "#### Encode the part5 test data"
   ]
  },
  {
   "cell_type": "code",
   "execution_count": 41,
   "metadata": {},
   "outputs": [],
   "source": [
    "df_test_part5_label_encoded = enc_label.transform(df_test.Part5)\n",
    "df_test_part5_onehot_encoded = enc_onehot.transform(df_test_part5_label_encoded.reshape(-1, 1))"
   ]
  },
  {
   "cell_type": "code",
   "execution_count": 42,
   "metadata": {},
   "outputs": [
    {
     "data": {
      "text/plain": [
       "(836, 32)"
      ]
     },
     "execution_count": 42,
     "metadata": {},
     "output_type": "execute_result"
    }
   ],
   "source": [
    "df_test_part5_onehot_encoded.shape"
   ]
  },
  {
   "cell_type": "markdown",
   "metadata": {},
   "source": [
    "#### Encode the contention text test data"
   ]
  },
  {
   "cell_type": "code",
   "execution_count": 43,
   "metadata": {},
   "outputs": [],
   "source": [
    "df_test_contention_count_vectorized = count_vect.transform(df_test.Customer_Complaint)\n",
    "df_test_contention_tfidf = tfidf_transformer.transform(df_test_contention_count_vectorized)"
   ]
  },
  {
   "cell_type": "code",
   "execution_count": 44,
   "metadata": {},
   "outputs": [
    {
     "data": {
      "text/plain": [
       "(836, 3054)"
      ]
     },
     "execution_count": 44,
     "metadata": {},
     "output_type": "execute_result"
    }
   ],
   "source": [
    "df_test_contention_tfidf.shape"
   ]
  },
  {
   "cell_type": "markdown",
   "metadata": {},
   "source": [
    "#### Combine the encoded part # and contention text test data together"
   ]
  },
  {
   "cell_type": "code",
   "execution_count": 45,
   "metadata": {},
   "outputs": [],
   "source": [
    "X_test = sparse.hstack((df_test_part5_onehot_encoded, df_test_contention_tfidf), format='csr')"
   ]
  },
  {
   "cell_type": "code",
   "execution_count": 46,
   "metadata": {},
   "outputs": [
    {
     "data": {
      "text/plain": [
       "(836, 3086)"
      ]
     },
     "execution_count": 46,
     "metadata": {},
     "output_type": "execute_result"
    }
   ],
   "source": [
    "X_test.shape"
   ]
  },
  {
   "cell_type": "code",
   "execution_count": 47,
   "metadata": {},
   "outputs": [],
   "source": [
    "y_test = df_test.Target.values"
   ]
  },
  {
   "cell_type": "code",
   "execution_count": 48,
   "metadata": {},
   "outputs": [
    {
     "data": {
      "text/plain": [
       "(836,)"
      ]
     },
     "execution_count": 48,
     "metadata": {},
     "output_type": "execute_result"
    }
   ],
   "source": [
    "y_test.shape"
   ]
  },
  {
   "cell_type": "markdown",
   "metadata": {},
   "source": [
    "### Now let's see how well our classifier performs with our test data:"
   ]
  },
  {
   "cell_type": "code",
   "execution_count": 50,
   "metadata": {},
   "outputs": [
    {
     "name": "stdout",
     "output_type": "stream",
     "text": [
      "model score: 0.817\n"
     ]
    }
   ],
   "source": [
    "print(\"model score: %.3f\" % clf.score(X_test, y_test))"
   ]
  },
  {
   "cell_type": "markdown",
   "metadata": {},
   "source": [
    "Our model performed good, but not great."
   ]
  },
  {
   "cell_type": "markdown",
   "metadata": {},
   "source": [
    "### Test on unseen sample data"
   ]
  },
  {
   "cell_type": "markdown",
   "metadata": {},
   "source": [
    "This should return 1:"
   ]
  },
  {
   "cell_type": "code",
   "execution_count": 59,
   "metadata": {},
   "outputs": [
    {
     "name": "stdout",
     "output_type": "stream",
     "text": [
      "[1]\n"
     ]
    }
   ],
   "source": [
    "part_test = np.array(['57111'])\n",
    "complaint_test = np.array(['BRAKE PEDAL FEELS HARD'])\n",
    "\n",
    "X_new_part_labelencoded = enc_label.transform(part_test)\n",
    "X_new_part_onehot = enc_onehot.transform(X_new_part_labelencoded.reshape(-1,1))\n",
    "\n",
    "X_new_complaint_counts = count_vect.transform(complaint_test)\n",
    "X_new_complaint_tfidf = tfidf_transformer.transform(X_new_complaint_counts)\n",
    "\n",
    "# Horizontally stack together the 2 sparse matrices\n",
    "X_new_combined_tfidf = sparse.hstack((X_new_part_onehot, X_new_complaint_tfidf), format='csr')\n",
    "\n",
    "predicted = clf.predict(X_new_combined_tfidf)\n",
    "print(predicted)"
   ]
  },
  {
   "cell_type": "markdown",
   "metadata": {},
   "source": [
    "This should return 0:"
   ]
  },
  {
   "cell_type": "code",
   "execution_count": 54,
   "metadata": {},
   "outputs": [
    {
     "name": "stdout",
     "output_type": "stream",
     "text": [
      "[0]\n"
     ]
    }
   ],
   "source": [
    "part_test = np.array(['57111'])\n",
    "complaint_test = np.array(['BRAKE PEDAL IS SOFT'])\n",
    "\n",
    "X_new_part_labelencoded = enc_label.transform(part_test)\n",
    "X_new_part_onehot = enc_onehot.transform(X_new_part_labelencoded.reshape(-1,1))\n",
    "\n",
    "X_new_complaint_counts = count_vect.transform(complaint_test)\n",
    "X_new_complaint_tfidf = tfidf_transformer.transform(X_new_complaint_counts)\n",
    "\n",
    "# Horizontally stack together the 2 sparse matrices\n",
    "X_new_combined_tfidf = sparse.hstack((X_new_part_onehot, X_new_complaint_tfidf), format='csr')\n",
    "\n",
    "predicted = clf.predict(X_new_combined_tfidf)\n",
    "print(predicted)"
   ]
  },
  {
   "cell_type": "markdown",
   "metadata": {},
   "source": [
    "### Follow-up activity:\n",
    "- upsample with SMOTE and them compare accuracy\n",
    "- use pipeline() to streamline the data tranformation workflow"
   ]
  }
 ],
 "metadata": {
  "hide_input": false,
  "kernelspec": {
   "display_name": "Python 3",
   "language": "python",
   "name": "python3"
  },
  "language_info": {
   "codemirror_mode": {
    "name": "ipython",
    "version": 3
   },
   "file_extension": ".py",
   "mimetype": "text/x-python",
   "name": "python",
   "nbconvert_exporter": "python",
   "pygments_lexer": "ipython3",
   "version": "3.7.0"
  },
  "varInspector": {
   "cols": {
    "lenName": 16,
    "lenType": 16,
    "lenVar": 40
   },
   "kernels_config": {
    "python": {
     "delete_cmd_postfix": "",
     "delete_cmd_prefix": "del ",
     "library": "var_list.py",
     "varRefreshCmd": "print(var_dic_list())"
    },
    "r": {
     "delete_cmd_postfix": ") ",
     "delete_cmd_prefix": "rm(",
     "library": "var_list.r",
     "varRefreshCmd": "cat(var_dic_list()) "
    }
   },
   "position": {
    "height": "374px",
    "left": "306.861px",
    "right": "20px",
    "top": "69.1007px",
    "width": "662px"
   },
   "types_to_exclude": [
    "module",
    "function",
    "builtin_function_or_method",
    "instance",
    "_Feature"
   ],
   "window_display": false
  }
 },
 "nbformat": 4,
 "nbformat_minor": 2
}
