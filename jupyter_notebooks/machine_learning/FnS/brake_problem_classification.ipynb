{
 "cells": [
  {
   "cell_type": "markdown",
   "metadata": {},
   "source": [
    "## Classifying Brake Warranty Claims as Either Hard Brake Pedal Problem or Not"
   ]
  },
  {
   "cell_type": "markdown",
   "metadata": {},
   "source": [
    "\\#imbalanced_data, \\#tfidf, \\#label_encode, \\#one_hot_encode"
   ]
  },
  {
   "cell_type": "markdown",
   "metadata": {},
   "source": [
    "**BACKGROUND:** Brake analysts are manually classifying vehicle brake warranty claims by reviewing the part # and the customer's complaint.  Based on these 2 features, the brake analyst will then label or classify the warranty claim as a particular brake problem (1) or not (0).\n",
    "\n",
    "**GOAL:** Use machine learning classification instead of the manual process above."
   ]
  },
  {
   "cell_type": "code",
   "execution_count": 1,
   "metadata": {},
   "outputs": [],
   "source": [
    "import pandas as pd\n",
    "import numpy as np\n",
    "import pickle\n",
    "from scipy import sparse\n",
    "from sklearn.model_selection import train_test_split\n",
    "from sklearn.preprocessing import LabelEncoder, OneHotEncoder, LabelBinarizer\n",
    "from sklearn.metrics import accuracy_score\n",
    "from sklearn.feature_extraction.text import CountVectorizer\n",
    "from sklearn.feature_extraction.text import TfidfTransformer\n",
    "from sklearn.naive_bayes import MultinomialNB"
   ]
  },
  {
   "cell_type": "markdown",
   "metadata": {},
   "source": [
    "### Raw Data Ingestion"
   ]
  },
  {
   "cell_type": "code",
   "execution_count": 2,
   "metadata": {
    "scrolled": true
   },
   "outputs": [
    {
     "data": {
      "text/html": [
       "<div>\n",
       "<style scoped>\n",
       "    .dataframe tbody tr th:only-of-type {\n",
       "        vertical-align: middle;\n",
       "    }\n",
       "\n",
       "    .dataframe tbody tr th {\n",
       "        vertical-align: top;\n",
       "    }\n",
       "\n",
       "    .dataframe thead th {\n",
       "        text-align: right;\n",
       "    }\n",
       "</style>\n",
       "<table border=\"1\" class=\"dataframe\">\n",
       "  <thead>\n",
       "    <tr style=\"text-align: right;\">\n",
       "      <th></th>\n",
       "      <th>Part5</th>\n",
       "      <th>Labor_Cost_USD</th>\n",
       "      <th>Part_Cost_USD</th>\n",
       "      <th>Days_To_Fail_MinZero</th>\n",
       "      <th>Miles_To_Fail</th>\n",
       "      <th>Customer_Complaint</th>\n",
       "      <th>PROBLEM</th>\n",
       "      <th>Target</th>\n",
       "    </tr>\n",
       "  </thead>\n",
       "  <tbody>\n",
       "    <tr>\n",
       "      <th>0</th>\n",
       "      <td>81690</td>\n",
       "      <td>97.33</td>\n",
       "      <td>252.88</td>\n",
       "      <td>483</td>\n",
       "      <td>13949</td>\n",
       "      <td>CK FOR THE DRIVERS SIDE 2ND ROW SEAT WILL NOT ...</td>\n",
       "      <td>Unconfirmed</td>\n",
       "      <td>0</td>\n",
       "    </tr>\n",
       "    <tr>\n",
       "      <th>1</th>\n",
       "      <td>57455</td>\n",
       "      <td>436.82</td>\n",
       "      <td>192.64</td>\n",
       "      <td>1265</td>\n",
       "      <td>46722</td>\n",
       "      <td>CONTINUATION OF FIRST LINE. ADDED FOR TECHNICI...</td>\n",
       "      <td>Unconfirmed</td>\n",
       "      <td>0</td>\n",
       "    </tr>\n",
       "    <tr>\n",
       "      <th>2</th>\n",
       "      <td>57306</td>\n",
       "      <td>535.50</td>\n",
       "      <td>1293.16</td>\n",
       "      <td>274</td>\n",
       "      <td>17819</td>\n",
       "      <td>C/S BRAKE SYSTEM WARNING LIGHT &amp; OTHER WARNING...</td>\n",
       "      <td>Unconfirmed</td>\n",
       "      <td>0</td>\n",
       "    </tr>\n",
       "    <tr>\n",
       "      <th>3</th>\n",
       "      <td>57111</td>\n",
       "      <td>1261.50</td>\n",
       "      <td>610.51</td>\n",
       "      <td>5</td>\n",
       "      <td>205</td>\n",
       "      <td>CLIENTS STATES THERE IS A WARNING LIGHT ON AND...</td>\n",
       "      <td>Unconfirmed</td>\n",
       "      <td>0</td>\n",
       "    </tr>\n",
       "    <tr>\n",
       "      <th>4</th>\n",
       "      <td>57111</td>\n",
       "      <td>1009.87</td>\n",
       "      <td>463.58</td>\n",
       "      <td>467</td>\n",
       "      <td>30655</td>\n",
       "      <td>VERIFIER PEDALE DE FREIN . DESCEND AU FOND ET ...</td>\n",
       "      <td>Unconfirmed</td>\n",
       "      <td>0</td>\n",
       "    </tr>\n",
       "  </tbody>\n",
       "</table>\n",
       "</div>"
      ],
      "text/plain": [
       "   Part5  Labor_Cost_USD  Part_Cost_USD  Days_To_Fail_MinZero  Miles_To_Fail  \\\n",
       "0  81690           97.33         252.88                   483          13949   \n",
       "1  57455          436.82         192.64                  1265          46722   \n",
       "2  57306          535.50        1293.16                   274          17819   \n",
       "3  57111         1261.50         610.51                     5            205   \n",
       "4  57111         1009.87         463.58                   467          30655   \n",
       "\n",
       "                                  Customer_Complaint      PROBLEM  Target  \n",
       "0  CK FOR THE DRIVERS SIDE 2ND ROW SEAT WILL NOT ...  Unconfirmed       0  \n",
       "1  CONTINUATION OF FIRST LINE. ADDED FOR TECHNICI...  Unconfirmed       0  \n",
       "2  C/S BRAKE SYSTEM WARNING LIGHT & OTHER WARNING...  Unconfirmed       0  \n",
       "3  CLIENTS STATES THERE IS A WARNING LIGHT ON AND...  Unconfirmed       0  \n",
       "4  VERIFIER PEDALE DE FREIN . DESCEND AU FOND ET ...  Unconfirmed       0  "
      ]
     },
     "execution_count": 2,
     "metadata": {},
     "output_type": "execute_result"
    }
   ],
   "source": [
    "df = pd.read_csv('book1.csv')\n",
    "df.head(n=5)"
   ]
  },
  {
   "cell_type": "code",
   "execution_count": 3,
   "metadata": {},
   "outputs": [
    {
     "data": {
      "text/plain": [
       "Part5                     int64\n",
       "Labor_Cost_USD          float64\n",
       "Part_Cost_USD           float64\n",
       "Days_To_Fail_MinZero      int64\n",
       "Miles_To_Fail             int64\n",
       "Customer_Complaint       object\n",
       "PROBLEM                  object\n",
       "Target                    int64\n",
       "dtype: object"
      ]
     },
     "execution_count": 3,
     "metadata": {},
     "output_type": "execute_result"
    }
   ],
   "source": [
    "df.dtypes"
   ]
  },
  {
   "cell_type": "code",
   "execution_count": 6,
   "metadata": {
    "scrolled": true
   },
   "outputs": [
    {
     "data": {
      "text/plain": [
       "Part5                   category\n",
       "Labor_Cost_USD           float64\n",
       "Part_Cost_USD            float64\n",
       "Days_To_Fail_MinZero       int64\n",
       "Miles_To_Fail              int64\n",
       "Customer_Complaint        object\n",
       "PROBLEM                   object\n",
       "Target                     int64\n",
       "dtype: object"
      ]
     },
     "execution_count": 6,
     "metadata": {},
     "output_type": "execute_result"
    }
   ],
   "source": [
    "df['Part5'] = df['Part5'].astype('category')\n",
    "df.dtypes"
   ]
  },
  {
   "cell_type": "code",
   "execution_count": 8,
   "metadata": {},
   "outputs": [],
   "source": [
    "data = df[['Part5','Customer_Complaint','Target']]"
   ]
  },
  {
   "cell_type": "code",
   "execution_count": 9,
   "metadata": {},
   "outputs": [
    {
     "data": {
      "text/html": [
       "<div>\n",
       "<style scoped>\n",
       "    .dataframe tbody tr th:only-of-type {\n",
       "        vertical-align: middle;\n",
       "    }\n",
       "\n",
       "    .dataframe tbody tr th {\n",
       "        vertical-align: top;\n",
       "    }\n",
       "\n",
       "    .dataframe thead th {\n",
       "        text-align: right;\n",
       "    }\n",
       "</style>\n",
       "<table border=\"1\" class=\"dataframe\">\n",
       "  <thead>\n",
       "    <tr style=\"text-align: right;\">\n",
       "      <th></th>\n",
       "      <th>Part5</th>\n",
       "      <th>Customer_Complaint</th>\n",
       "      <th>Target</th>\n",
       "    </tr>\n",
       "  </thead>\n",
       "  <tbody>\n",
       "    <tr>\n",
       "      <th>0</th>\n",
       "      <td>81690</td>\n",
       "      <td>CK FOR THE DRIVERS SIDE 2ND ROW SEAT WILL NOT ...</td>\n",
       "      <td>0</td>\n",
       "    </tr>\n",
       "    <tr>\n",
       "      <th>1</th>\n",
       "      <td>57455</td>\n",
       "      <td>CONTINUATION OF FIRST LINE. ADDED FOR TECHNICI...</td>\n",
       "      <td>0</td>\n",
       "    </tr>\n",
       "    <tr>\n",
       "      <th>2</th>\n",
       "      <td>57306</td>\n",
       "      <td>C/S BRAKE SYSTEM WARNING LIGHT &amp; OTHER WARNING...</td>\n",
       "      <td>0</td>\n",
       "    </tr>\n",
       "    <tr>\n",
       "      <th>3</th>\n",
       "      <td>57111</td>\n",
       "      <td>CLIENTS STATES THERE IS A WARNING LIGHT ON AND...</td>\n",
       "      <td>0</td>\n",
       "    </tr>\n",
       "    <tr>\n",
       "      <th>4</th>\n",
       "      <td>57111</td>\n",
       "      <td>VERIFIER PEDALE DE FREIN . DESCEND AU FOND ET ...</td>\n",
       "      <td>0</td>\n",
       "    </tr>\n",
       "  </tbody>\n",
       "</table>\n",
       "</div>"
      ],
      "text/plain": [
       "   Part5                                 Customer_Complaint  Target\n",
       "0  81690  CK FOR THE DRIVERS SIDE 2ND ROW SEAT WILL NOT ...       0\n",
       "1  57455  CONTINUATION OF FIRST LINE. ADDED FOR TECHNICI...       0\n",
       "2  57306  C/S BRAKE SYSTEM WARNING LIGHT & OTHER WARNING...       0\n",
       "3  57111  CLIENTS STATES THERE IS A WARNING LIGHT ON AND...       0\n",
       "4  57111  VERIFIER PEDALE DE FREIN . DESCEND AU FOND ET ...       0"
      ]
     },
     "execution_count": 9,
     "metadata": {},
     "output_type": "execute_result"
    }
   ],
   "source": [
    "data.head()"
   ]
  },
  {
   "cell_type": "markdown",
   "metadata": {},
   "source": [
    "#### Data is imbalanced:"
   ]
  },
  {
   "cell_type": "code",
   "execution_count": 6,
   "metadata": {},
   "outputs": [
    {
     "data": {
      "text/plain": [
       "0    1514\n",
       "1     158\n",
       "Name: Target, dtype: int64"
      ]
     },
     "execution_count": 6,
     "metadata": {},
     "output_type": "execute_result"
    }
   ],
   "source": [
    "data['Target'].value_counts()"
   ]
  },
  {
   "cell_type": "markdown",
   "metadata": {},
   "source": [
    "#### Upsample the minority class data"
   ]
  },
  {
   "cell_type": "code",
   "execution_count": 7,
   "metadata": {},
   "outputs": [
    {
     "data": {
      "text/html": [
       "<div>\n",
       "<style scoped>\n",
       "    .dataframe tbody tr th:only-of-type {\n",
       "        vertical-align: middle;\n",
       "    }\n",
       "\n",
       "    .dataframe tbody tr th {\n",
       "        vertical-align: top;\n",
       "    }\n",
       "\n",
       "    .dataframe thead th {\n",
       "        text-align: right;\n",
       "    }\n",
       "</style>\n",
       "<table border=\"1\" class=\"dataframe\">\n",
       "  <thead>\n",
       "    <tr style=\"text-align: right;\">\n",
       "      <th></th>\n",
       "      <th>Fail_Short_PartNo</th>\n",
       "      <th>Customer_Contention_Text</th>\n",
       "      <th>Target</th>\n",
       "    </tr>\n",
       "  </thead>\n",
       "  <tbody>\n",
       "    <tr>\n",
       "      <th>45</th>\n",
       "      <td>46402</td>\n",
       "      <td>REPAIR WHEN CAR IS STARTED COLD BRAKE PEDAL WA...</td>\n",
       "      <td>1</td>\n",
       "    </tr>\n",
       "    <tr>\n",
       "      <th>680</th>\n",
       "      <td>1469</td>\n",
       "      <td>CUSTOMER STATES: CHECK BRAKE SYSTEM LIGHT IS O...</td>\n",
       "      <td>1</td>\n",
       "    </tr>\n",
       "    <tr>\n",
       "      <th>50</th>\n",
       "      <td>46402</td>\n",
       "      <td>HAVE TO PRESS HARD ON BRAKE PEDAL</td>\n",
       "      <td>1</td>\n",
       "    </tr>\n",
       "    <tr>\n",
       "      <th>60</th>\n",
       "      <td>46402</td>\n",
       "      <td>CUST STATES BRAKE PEDAL HARD ON FIRST APPLICAT...</td>\n",
       "      <td>1</td>\n",
       "    </tr>\n",
       "    <tr>\n",
       "      <th>701</th>\n",
       "      <td>1469</td>\n",
       "      <td>DURING PDI- BRAKES WILL LOCK ON WHEN DRIVING</td>\n",
       "      <td>1</td>\n",
       "    </tr>\n",
       "  </tbody>\n",
       "</table>\n",
       "</div>"
      ],
      "text/plain": [
       "    Fail_Short_PartNo                           Customer_Contention_Text  \\\n",
       "45              46402  REPAIR WHEN CAR IS STARTED COLD BRAKE PEDAL WA...   \n",
       "680              1469  CUSTOMER STATES: CHECK BRAKE SYSTEM LIGHT IS O...   \n",
       "50              46402                  HAVE TO PRESS HARD ON BRAKE PEDAL   \n",
       "60              46402  CUST STATES BRAKE PEDAL HARD ON FIRST APPLICAT...   \n",
       "701              1469       DURING PDI- BRAKES WILL LOCK ON WHEN DRIVING   \n",
       "\n",
       "     Target  \n",
       "45        1  \n",
       "680       1  \n",
       "50        1  \n",
       "60        1  \n",
       "701       1  "
      ]
     },
     "execution_count": 7,
     "metadata": {},
     "output_type": "execute_result"
    }
   ],
   "source": [
    "from sklearn.utils import resample\n",
    "\n",
    "df_Upsmpl = resample(data.query(\"Target == 1\"), \n",
    "                                    replace=True, \n",
    "                                    n_samples = data.query(\"Target == 0\").shape[0], \n",
    "                                    random_state = 321)\n",
    "\n",
    "df_Upsmpl.head()"
   ]
  },
  {
   "cell_type": "markdown",
   "metadata": {},
   "source": [
    "#### Now data is balanced"
   ]
  },
  {
   "cell_type": "code",
   "execution_count": 8,
   "metadata": {},
   "outputs": [
    {
     "data": {
      "text/plain": [
       "1    1514\n",
       "0    1514\n",
       "Name: Target, dtype: int64"
      ]
     },
     "execution_count": 8,
     "metadata": {},
     "output_type": "execute_result"
    }
   ],
   "source": [
    "df_balanced = pd.concat([df.query(\"Target == 0\"), df_Upsmpl])\n",
    "\n",
    "df_balanced[\"Target\"].value_counts()"
   ]
  },
  {
   "cell_type": "markdown",
   "metadata": {},
   "source": [
    "## Encode Features Data"
   ]
  },
  {
   "cell_type": "markdown",
   "metadata": {},
   "source": [
    "Import encoders:"
   ]
  },
  {
   "cell_type": "code",
   "execution_count": 9,
   "metadata": {},
   "outputs": [],
   "source": [
    "enc_label = LabelEncoder()\n",
    "enc_onehot = OneHotEncoder()\n",
    "enc_labelbinarizer = LabelBinarizer()\n",
    "count_vect = CountVectorizer()\n",
    "tfidf_transformer = TfidfTransformer()"
   ]
  },
  {
   "cell_type": "markdown",
   "metadata": {},
   "source": [
    "### Encode the part # column"
   ]
  },
  {
   "cell_type": "markdown",
   "metadata": {},
   "source": [
    "Label encode it first:"
   ]
  },
  {
   "cell_type": "code",
   "execution_count": 10,
   "metadata": {},
   "outputs": [],
   "source": [
    "X_partno_labelencoded = enc_label.fit_transform(df_balanced.Fail_Short_PartNo.values)"
   ]
  },
  {
   "cell_type": "code",
   "execution_count": 11,
   "metadata": {},
   "outputs": [
    {
     "data": {
      "text/plain": [
       "array([31, 29, 28, ...,  2, 18, 18])"
      ]
     },
     "execution_count": 11,
     "metadata": {},
     "output_type": "execute_result"
    }
   ],
   "source": [
    "X_partno_labelencoded"
   ]
  },
  {
   "cell_type": "markdown",
   "metadata": {},
   "source": [
    "Then onehot encode it:"
   ]
  },
  {
   "cell_type": "code",
   "execution_count": 12,
   "metadata": {},
   "outputs": [],
   "source": [
    "X_partno_onehot = enc_onehot.fit_transform(X_partno_labelencoded.reshape(-1,1))"
   ]
  },
  {
   "cell_type": "code",
   "execution_count": 13,
   "metadata": {},
   "outputs": [
    {
     "data": {
      "text/plain": [
       "(3028, 32)"
      ]
     },
     "execution_count": 13,
     "metadata": {},
     "output_type": "execute_result"
    }
   ],
   "source": [
    "X_partno_onehot.shape"
   ]
  },
  {
   "cell_type": "markdown",
   "metadata": {},
   "source": [
    "Alternatively, you can use LabelBinarizer to label encode and one hot encode all in one step.  By default, it returns a \"dense\" matrix, which is in contrast to onehote encoder.  To return sparse matrix instead, just provide ```sparse_output=True``` to the ```LabelBinarizer``` constructor:"
   ]
  },
  {
   "cell_type": "code",
   "execution_count": 14,
   "metadata": {},
   "outputs": [],
   "source": [
    "X_partno_onehot_lb_dense = enc_labelbinarizer.fit_transform(df_balanced.Fail_Short_PartNo.values)"
   ]
  },
  {
   "cell_type": "code",
   "execution_count": 15,
   "metadata": {},
   "outputs": [
    {
     "data": {
      "text/plain": [
       "array([[0, 0, 0, ..., 0, 0, 1],\n",
       "       [0, 0, 0, ..., 1, 0, 0],\n",
       "       [0, 0, 0, ..., 0, 0, 0],\n",
       "       ..., \n",
       "       [0, 0, 1, ..., 0, 0, 0],\n",
       "       [0, 0, 0, ..., 0, 0, 0],\n",
       "       [0, 0, 0, ..., 0, 0, 0]])"
      ]
     },
     "execution_count": 15,
     "metadata": {},
     "output_type": "execute_result"
    }
   ],
   "source": [
    "X_partno_onehot_lb_dense"
   ]
  },
  {
   "cell_type": "code",
   "execution_count": 16,
   "metadata": {},
   "outputs": [],
   "source": [
    "enc_labelbinarizer_sparse = LabelBinarizer(sparse_output=True)\n",
    "X_partno_onehot_lb_sparse = enc_labelbinarizer_sparse.fit_transform(df_balanced.Fail_Short_PartNo.values)"
   ]
  },
  {
   "cell_type": "code",
   "execution_count": 17,
   "metadata": {},
   "outputs": [
    {
     "data": {
      "text/plain": [
       "<3028x32 sparse matrix of type '<class 'numpy.int64'>'\n",
       "\twith 3028 stored elements in Compressed Sparse Row format>"
      ]
     },
     "execution_count": 17,
     "metadata": {},
     "output_type": "execute_result"
    }
   ],
   "source": [
    "X_partno_onehot_lb_sparse"
   ]
  },
  {
   "cell_type": "code",
   "execution_count": 18,
   "metadata": {},
   "outputs": [
    {
     "data": {
      "text/plain": [
       "array([1, 1, 1, ..., 1, 1, 1])"
      ]
     },
     "execution_count": 18,
     "metadata": {},
     "output_type": "execute_result"
    }
   ],
   "source": [
    "X_partno_onehot_lb_sparse.data"
   ]
  },
  {
   "cell_type": "markdown",
   "metadata": {},
   "source": [
    "So which output should I obtain?  dense matrix or sparse?  For large data set, of course, you should use sparse!"
   ]
  },
  {
   "cell_type": "markdown",
   "metadata": {},
   "source": [
    "### Encode the customer contention text column"
   ]
  },
  {
   "cell_type": "markdown",
   "metadata": {},
   "source": [
    "First, CountVectorize() it:"
   ]
  },
  {
   "cell_type": "code",
   "execution_count": 19,
   "metadata": {},
   "outputs": [
    {
     "data": {
      "text/plain": [
       "<3028x3054 sparse matrix of type '<class 'numpy.int64'>'\n",
       "\twith 47948 stored elements in Compressed Sparse Row format>"
      ]
     },
     "execution_count": 19,
     "metadata": {},
     "output_type": "execute_result"
    }
   ],
   "source": [
    "X_complaint_counts = count_vect.fit_transform(df_balanced.Customer_Contention_Text.values)\n",
    "X_complaint_counts"
   ]
  },
  {
   "cell_type": "markdown",
   "metadata": {},
   "source": [
    "Then, tfidf tranform it:"
   ]
  },
  {
   "cell_type": "code",
   "execution_count": 20,
   "metadata": {},
   "outputs": [
    {
     "data": {
      "text/plain": [
       "(3028, 3054)"
      ]
     },
     "execution_count": 20,
     "metadata": {},
     "output_type": "execute_result"
    }
   ],
   "source": [
    "X_complaint_tfidf = tfidf_transformer.fit_transform(X_complaint_counts)\n",
    "X_complaint_tfidf.shape"
   ]
  },
  {
   "cell_type": "markdown",
   "metadata": {},
   "source": [
    "### Combine the encoded part # and encoded customer contention text together to make final matrix"
   ]
  },
  {
   "cell_type": "code",
   "execution_count": 21,
   "metadata": {},
   "outputs": [],
   "source": [
    "X_final = sparse.hstack((X_partno_onehot, X_complaint_tfidf), format='csr')"
   ]
  },
  {
   "cell_type": "code",
   "execution_count": 22,
   "metadata": {},
   "outputs": [
    {
     "data": {
      "text/plain": [
       "(3028, 3086)"
      ]
     },
     "execution_count": 22,
     "metadata": {},
     "output_type": "execute_result"
    }
   ],
   "source": [
    "X_final.shape"
   ]
  },
  {
   "cell_type": "markdown",
   "metadata": {},
   "source": [
    "Do the dimensions look right?  We know X_final should have 3028 rows, but what about the number of columns?  Let's check:"
   ]
  },
  {
   "cell_type": "code",
   "execution_count": 23,
   "metadata": {},
   "outputs": [
    {
     "data": {
      "text/plain": [
       "(3028, 32)"
      ]
     },
     "execution_count": 23,
     "metadata": {},
     "output_type": "execute_result"
    }
   ],
   "source": [
    "X_partno_onehot.shape"
   ]
  },
  {
   "cell_type": "code",
   "execution_count": 24,
   "metadata": {},
   "outputs": [
    {
     "data": {
      "text/plain": [
       "(3028, 3054)"
      ]
     },
     "execution_count": 24,
     "metadata": {},
     "output_type": "execute_result"
    }
   ],
   "source": [
    "X_complaint_tfidf.shape"
   ]
  },
  {
   "cell_type": "markdown",
   "metadata": {},
   "source": [
    "3054 + 32 = 3086, so we know our X_final has the right number of columns."
   ]
  },
  {
   "cell_type": "markdown",
   "metadata": {},
   "source": [
    "Now, let's create our y_final variable containing our label data.  Since it is already numeric (0 or 1), there is no need for additional processing or encoding of our label data."
   ]
  },
  {
   "cell_type": "code",
   "execution_count": 25,
   "metadata": {},
   "outputs": [],
   "source": [
    "y_final = df_balanced.Target.values"
   ]
  },
  {
   "cell_type": "code",
   "execution_count": 26,
   "metadata": {},
   "outputs": [
    {
     "data": {
      "text/plain": [
       "(3028,)"
      ]
     },
     "execution_count": 26,
     "metadata": {},
     "output_type": "execute_result"
    }
   ],
   "source": [
    "y_final.shape"
   ]
  },
  {
   "cell_type": "markdown",
   "metadata": {},
   "source": [
    "Now, we have what we need to partition our data into training and test sets:"
   ]
  },
  {
   "cell_type": "markdown",
   "metadata": {},
   "source": [
    "### Partition the data into training and test data sets"
   ]
  },
  {
   "cell_type": "code",
   "execution_count": 27,
   "metadata": {},
   "outputs": [],
   "source": [
    "X_train, X_test, y_train, y_test = train_test_split(X_final, y_final, test_size = 0.8, random_state = 12)\n"
   ]
  },
  {
   "cell_type": "markdown",
   "metadata": {},
   "source": [
    "As a sanity check, let's double-check we have the correct number of rows, columns in our data"
   ]
  },
  {
   "cell_type": "code",
   "execution_count": 28,
   "metadata": {},
   "outputs": [
    {
     "data": {
      "text/plain": [
       "2422.4"
      ]
     },
     "execution_count": 28,
     "metadata": {},
     "output_type": "execute_result"
    }
   ],
   "source": [
    "3028 * 0.8"
   ]
  },
  {
   "cell_type": "code",
   "execution_count": 29,
   "metadata": {},
   "outputs": [
    {
     "data": {
      "text/plain": [
       "(605, 3086)"
      ]
     },
     "execution_count": 29,
     "metadata": {},
     "output_type": "execute_result"
    }
   ],
   "source": [
    "X_train.shape"
   ]
  },
  {
   "cell_type": "code",
   "execution_count": 30,
   "metadata": {},
   "outputs": [
    {
     "data": {
      "text/plain": [
       "(2423, 3086)"
      ]
     },
     "execution_count": 30,
     "metadata": {},
     "output_type": "execute_result"
    }
   ],
   "source": [
    "X_test.shape"
   ]
  },
  {
   "cell_type": "markdown",
   "metadata": {},
   "source": [
    "### Fit the training data to the model"
   ]
  },
  {
   "cell_type": "code",
   "execution_count": 31,
   "metadata": {},
   "outputs": [],
   "source": [
    "clf = MultinomialNB().fit(X_train, y_train)"
   ]
  },
  {
   "cell_type": "code",
   "execution_count": 32,
   "metadata": {},
   "outputs": [
    {
     "data": {
      "text/plain": [
       "0.85967808501857201"
      ]
     },
     "execution_count": 32,
     "metadata": {},
     "output_type": "execute_result"
    }
   ],
   "source": [
    "clf.score(X_test, y_test)"
   ]
  },
  {
   "cell_type": "markdown",
   "metadata": {},
   "source": [
    "### Test on unseen sample data"
   ]
  },
  {
   "cell_type": "markdown",
   "metadata": {},
   "source": [
    "This should return 1:"
   ]
  },
  {
   "cell_type": "code",
   "execution_count": 33,
   "metadata": {},
   "outputs": [
    {
     "name": "stdout",
     "output_type": "stream",
     "text": [
      "[1]\n"
     ]
    }
   ],
   "source": [
    "part_test = np.array(['57111'])\n",
    "complaint_test = np.array(['BRAKE PEDAL IS HARD'])\n",
    "\n",
    "X_new_part_labelencoded = enc_label.transform(part_test)\n",
    "X_new_part_onehot = enc_onehot.transform(X_new_part_labelencoded.reshape(-1,1))\n",
    "\n",
    "X_new_complaint_counts = count_vect.transform(complaint_test)\n",
    "X_new_complaint_tfidf = tfidf_transformer.transform(X_new_complaint_counts)\n",
    "\n",
    "# Horizontally stack together the 2 sparse matrices\n",
    "X_new_combined_tfidf = sparse.hstack((X_new_part_onehot, X_new_complaint_tfidf), format='csr')\n",
    "\n",
    "try:\n",
    "    predicted = clf.predict(X_new_combined_tfidf)\n",
    "    print(predicted)\n",
    "except:\n",
    "    print(0)"
   ]
  },
  {
   "cell_type": "markdown",
   "metadata": {},
   "source": [
    "This should return 0:"
   ]
  },
  {
   "cell_type": "code",
   "execution_count": 34,
   "metadata": {},
   "outputs": [
    {
     "name": "stdout",
     "output_type": "stream",
     "text": [
      "[0]\n"
     ]
    }
   ],
   "source": [
    "part_test = np.array(['57111'])\n",
    "complaint_test = np.array(['BRAKE PEDAL IS SOFT'])\n",
    "\n",
    "X_new_part_labelencoded = enc_label.transform(part_test)\n",
    "X_new_part_onehot = enc_onehot.transform(X_new_part_labelencoded.reshape(-1,1))\n",
    "\n",
    "X_new_complaint_counts = count_vect.transform(complaint_test)\n",
    "X_new_complaint_tfidf = tfidf_transformer.transform(X_new_complaint_counts)\n",
    "\n",
    "# Horizontally stack together the 2 sparse matrices\n",
    "X_new_combined_tfidf = sparse.hstack((X_new_part_onehot, X_new_complaint_tfidf), format='csr')\n",
    "\n",
    "try:\n",
    "    predicted = clf.predict(X_new_combined_tfidf)\n",
    "    print(predicted)\n",
    "except:\n",
    "    print(0)"
   ]
  },
  {
   "cell_type": "markdown",
   "metadata": {},
   "source": [
    "Of course this should return 1:"
   ]
  },
  {
   "cell_type": "code",
   "execution_count": 35,
   "metadata": {},
   "outputs": [
    {
     "name": "stdout",
     "output_type": "stream",
     "text": [
      "[1]\n"
     ]
    }
   ],
   "source": [
    "part_test = np.array(['57111']) \n",
    "complaint_test = np.array(['OMG! MY BRAKE PEDAL DOES NOT WORK!'])\n",
    "\n",
    "X_new_part_labelencoded = enc_label.transform(part_test)\n",
    "X_new_part_onehot = enc_onehot.transform(X_new_part_labelencoded.reshape(-1,1))\n",
    "\n",
    "X_new_complaint_counts = count_vect.transform(complaint_test)\n",
    "X_new_complaint_tfidf = tfidf_transformer.transform(X_new_complaint_counts)\n",
    "\n",
    "# Horizontally stack together the 2 sparse matrices\n",
    "X_new_combined_tfidf = sparse.hstack((X_new_part_onehot, X_new_complaint_tfidf), format='csr')\n",
    "\n",
    "try:\n",
    "    predicted = clf.predict(X_new_combined_tfidf)\n",
    "    print(predicted)\n",
    "except:\n",
    "    print(0)"
   ]
  }
 ],
 "metadata": {
  "hide_input": false,
  "kernelspec": {
   "display_name": "Python 3",
   "language": "python",
   "name": "python3"
  },
  "language_info": {
   "codemirror_mode": {
    "name": "ipython",
    "version": 3
   },
   "file_extension": ".py",
   "mimetype": "text/x-python",
   "name": "python",
   "nbconvert_exporter": "python",
   "pygments_lexer": "ipython3",
   "version": "3.7.0"
  },
  "varInspector": {
   "cols": {
    "lenName": 16,
    "lenType": 16,
    "lenVar": 40
   },
   "kernels_config": {
    "python": {
     "delete_cmd_postfix": "",
     "delete_cmd_prefix": "del ",
     "library": "var_list.py",
     "varRefreshCmd": "print(var_dic_list())"
    },
    "r": {
     "delete_cmd_postfix": ") ",
     "delete_cmd_prefix": "rm(",
     "library": "var_list.r",
     "varRefreshCmd": "cat(var_dic_list()) "
    }
   },
   "position": {
    "height": "374px",
    "left": "306.861px",
    "right": "20px",
    "top": "69.1007px",
    "width": "662px"
   },
   "types_to_exclude": [
    "module",
    "function",
    "builtin_function_or_method",
    "instance",
    "_Feature"
   ],
   "window_display": false
  }
 },
 "nbformat": 4,
 "nbformat_minor": 2
}
