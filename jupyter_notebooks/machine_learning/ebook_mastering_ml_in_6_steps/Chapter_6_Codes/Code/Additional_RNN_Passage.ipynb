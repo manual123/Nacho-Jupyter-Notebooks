{
 "cells": [
  {
   "cell_type": "markdown",
   "metadata": {},
   "source": [
    "### Passage is a little library for text analysis using RNN\n",
    "\n",
    "You can download from the following Github locataion https://github.com/IndicoDataSolutions/Passage"
   ]
  },
  {
   "cell_type": "code",
   "execution_count": 1,
   "metadata": {
    "collapsed": true
   },
   "outputs": [],
   "source": [
    "import numpy as np\n",
    "import pandas as pd\n",
    "\n",
    "from passage.models import RNN\n",
    "from passage.updates import Adadelta\n",
    "from passage.layers import Embedding, GatedRecurrent, Dense\n",
    "from passage.preprocessing import Tokenizer"
   ]
  },
  {
   "cell_type": "markdown",
   "metadata": {},
   "source": [
    "### Load data"
   ]
  },
  {
   "cell_type": "code",
   "execution_count": 2,
   "metadata": {
    "collapsed": false
   },
   "outputs": [
    {
     "data": {
      "text/plain": [
       "1    1122\n",
       "0     186\n",
       "Name: Sentiment, dtype: int64"
      ]
     },
     "execution_count": 2,
     "metadata": {},
     "output_type": "execute_result"
    }
   ],
   "source": [
    "df = pd.read_csv('Data/Review_Data.csv')\n",
    "\n",
    "df['Sentiment'] = df['Sentiment'].replace(['positive', 'negative'], [1, 0])\n",
    "\n",
    "X = df['Review'].values\n",
    "y = df['Sentiment'].values\n",
    "\n",
    "df['Sentiment'].value_counts()"
   ]
  },
  {
   "cell_type": "code",
   "execution_count": 3,
   "metadata": {
    "collapsed": false
   },
   "outputs": [
    {
     "name": "stdout",
     "output_type": "stream",
     "text": [
      "Training data tokenized.\n",
      "Epoch 0 Seen 1294 samples Avg cost 0.4941 Time elapsed 49 seconds\n",
      "Epoch 1 Seen 2588 samples Avg cost 0.4322 Time elapsed 99 seconds\n",
      "Epoch 2 Seen 3882 samples Avg cost 0.4072 Time elapsed 148 seconds\n",
      "Epoch 3 Seen 5176 samples Avg cost 0.4087 Time elapsed 198 seconds\n",
      "Epoch 4 Seen 6470 samples Avg cost 0.3916 Time elapsed 247 seconds\n"
     ]
    },
    {
     "data": {
      "text/plain": [
       "[array(0.6927503862794484),\n",
       " array(0.6633593584972964),\n",
       " array(0.6399034523980139),\n",
       " array(0.6162563613468576),\n",
       " array(0.6198616191761955),\n",
       " array(0.5890216396588616),\n",
       " array(0.5417145781177113),\n",
       " array(0.5588367544568321),\n",
       " array(0.4547270941304046),\n",
       " array(0.45360932088691647),\n",
       " array(0.4555397983807551),\n",
       " array(0.40373163745212526),\n",
       " array(0.34829811244592157),\n",
       " array(0.21819362517178276),\n",
       " array(0.4767267934295591),\n",
       " array(0.33737805363917694),\n",
       " array(0.353903272935296),\n",
       " array(0.5222953350184656),\n",
       " array(0.48713113082761333),\n",
       " array(0.5083882498828556),\n",
       " array(0.43486536496458256),\n",
       " array(0.5442879729822081),\n",
       " array(0.4261337915195932),\n",
       " array(0.5128224382316354),\n",
       " array(0.39083141560972273),\n",
       " array(0.40334206958023366),\n",
       " array(0.3307378827936723),\n",
       " array(0.4098851975953147),\n",
       " array(0.430134062190428),\n",
       " array(0.27972721850577137),\n",
       " array(0.4781791226284806),\n",
       " array(0.4664643785726648),\n",
       " array(0.5045802553170653),\n",
       " array(0.3002709192986779),\n",
       " array(0.34863665164215224),\n",
       " array(0.561069937476533),\n",
       " array(0.33457356044892855),\n",
       " array(0.4659101476235361),\n",
       " array(0.3594256472099171),\n",
       " array(0.34826005131657956),\n",
       " array(0.20520380755794318),\n",
       " array(0.9761323088916077),\n",
       " array(0.45062346342742193),\n",
       " array(0.49253424585687955),\n",
       " array(0.4039666576978597),\n",
       " array(0.34575248208380754),\n",
       " array(0.38453434917104523),\n",
       " array(0.48741570647321875),\n",
       " array(0.45547785799323215),\n",
       " array(0.397168037734964),\n",
       " array(0.22644912375234166),\n",
       " array(0.3740591985114363),\n",
       " array(0.4040291015585348),\n",
       " array(0.39899176618497445),\n",
       " array(0.29269557183894707),\n",
       " array(0.3754966521976131),\n",
       " array(0.6022188418645366),\n",
       " array(0.2829871241068379),\n",
       " array(0.5684122323392602),\n",
       " array(0.3559982426779556),\n",
       " array(0.3301331936054664),\n",
       " array(0.5090047595052213),\n",
       " array(0.41299843812294273),\n",
       " array(0.3223975168474713),\n",
       " array(0.5382292342224047),\n",
       " array(0.4251676152942066),\n",
       " array(0.3887453614940348),\n",
       " array(0.40945817630168285),\n",
       " array(0.5647003490025283),\n",
       " array(0.36182425607478924),\n",
       " array(0.39239789635221833),\n",
       " array(0.4476407177922873),\n",
       " array(0.4339463327339897),\n",
       " array(0.49129984185370607),\n",
       " array(0.47910535921221004),\n",
       " array(0.49306089346774395),\n",
       " array(0.3242263866115769),\n",
       " array(0.37819687262586704),\n",
       " array(0.2347467698853999),\n",
       " array(0.18071476054558938),\n",
       " array(0.38162718207919805),\n",
       " array(0.20301687913880476),\n",
       " array(0.46249301087168454),\n",
       " array(0.6693675601924778),\n",
       " array(0.45581468488165006),\n",
       " array(0.47788588330144494),\n",
       " array(0.3384297021814545),\n",
       " array(0.3697958338181239),\n",
       " array(0.5314938696216347),\n",
       " array(0.3930924448542021),\n",
       " array(0.4840276583806208),\n",
       " array(0.4390294502047722),\n",
       " array(0.3017121112163436),\n",
       " array(0.40264786368139),\n",
       " array(0.3930419638029393),\n",
       " array(0.2021745968110937),\n",
       " array(0.20521522216192004),\n",
       " array(0.501419988661795),\n",
       " array(0.3935653572162603),\n",
       " array(0.5555979921886727),\n",
       " array(0.31367016475286186),\n",
       " array(0.40296758651526543),\n",
       " array(0.4455900497228089),\n",
       " array(0.342432775997364),\n",
       " array(0.27446619638881364)]"
      ]
     },
     "execution_count": 3,
     "metadata": {},
     "output_type": "execute_result"
    }
   ],
   "source": [
    "tokenizer = Tokenizer(min_df=10, max_features=100000)\n",
    "X = tokenizer.fit_transform(X)\n",
    "\n",
    "print(\"Training data tokenized.\")\n",
    "layers = [\n",
    "    Embedding(size=256, n_features=tokenizer.n_features),\n",
    "    GatedRecurrent(size=512, activation='tanh', gate_activation='steeper_sigmoid', init='orthogonal', seq_output=False, p_drop=0.75),\n",
    "    Dense(size=1, activation='sigmoid', init='orthogonal')\n",
    "]\n",
    "\n",
    "model = RNN(layers=layers, cost='bce', updater=Adadelta(lr=0.5))\n",
    "model.fit(X, y, n_epochs=5)"
   ]
  },
  {
   "cell_type": "code",
   "execution_count": 8,
   "metadata": {
    "collapsed": false
   },
   "outputs": [
    {
     "name": "stdout",
     "output_type": "stream",
     "text": [
      "0.857798165138\n"
     ]
    }
   ],
   "source": [
    "from sklearn import metrics\n",
    "\n",
    "y_pred = model.predict(X).flatten()\n",
    "\n",
    "y_pred = y_pred  > 0.5 \n",
    "y_pred = y_pred.astype(int)\n",
    "\n",
    "print \"Accuracy: \", metrics.accuracy_score(y, y_pred)"
   ]
  }
 ],
 "metadata": {
  "anaconda-cloud": {},
  "kernelspec": {
   "display_name": "Python [conda root]",
   "language": "python",
   "name": "conda-root-py"
  },
  "language_info": {
   "codemirror_mode": {
    "name": "ipython",
    "version": 2
   },
   "file_extension": ".py",
   "mimetype": "text/x-python",
   "name": "python",
   "nbconvert_exporter": "python",
   "pygments_lexer": "ipython2",
   "version": "2.7.12"
  }
 },
 "nbformat": 4,
 "nbformat_minor": 1
}
