{
 "cells": [
  {
   "cell_type": "markdown",
   "metadata": {},
   "source": [
    "### Handling categorical data\n",
    "\n",
    "Most of the ML libraries are designed to work well with numerical variables. So categorical variables in their original form of text description can’t be directly used for model building. Let’s learn some of the common methods of handling categorical data based on their number of levels.\n",
    "\n",
    "### Create dummy variable: \n",
    "This is a Boolean variable that indicates the presence of a category with the value 1 and 0 for absence. You should create k-1 dummy variables, where k is the number of level. "
   ]
  },
  {
   "cell_type": "code",
   "execution_count": 1,
   "metadata": {
    "collapsed": false
   },
   "outputs": [
    {
     "name": "stdout",
     "output_type": "stream",
     "text": [
      "        A   B\n",
      "0    high  10\n",
      "1  medium  20\n",
      "2     low  30\n"
     ]
    }
   ],
   "source": [
    "import random\n",
    "random.seed(2017)\n",
    "import pandas as pd\n",
    "from patsy import dmatrices\n",
    "\n",
    "df = pd.DataFrame({'A': ['high', 'medium', 'low'],\n",
    "                   'B': [10,20,30]},\n",
    "                    index=[0, 1, 2])\n",
    "                   \n",
    "print df                   "
   ]
  },
  {
   "cell_type": "code",
   "execution_count": 2,
   "metadata": {
    "collapsed": false
   },
   "outputs": [
    {
     "name": "stdout",
     "output_type": "stream",
     "text": [
      "    B  A_high  A_low  A_medium\n",
      "0  10     1.0    0.0       0.0\n",
      "1  20     0.0    0.0       1.0\n",
      "2  30     0.0    1.0       0.0\n"
     ]
    }
   ],
   "source": [
    "df_with_dummies= pd.get_dummies(df, prefix='A', columns=['A'])\n",
    "\n",
    "print df_with_dummies"
   ]
  },
  {
   "cell_type": "markdown",
   "metadata": {},
   "source": [
    "### Convert categories to numeric labels\n",
    "\n",
    "Another simple method is to represent the text description of each level with a number by using ‘Label Encoder’ function of Scikit-learn. If the number of levels are high (example zip code, state etc), then you apply the business logic to combine levels to groups. For example zip code or state can be combined to regions, however in this method there is a risk of losing critical information. Another method is to combine categories based on similar frequency (new category can be high, medium, low).  "
   ]
  },
  {
   "cell_type": "code",
   "execution_count": 3,
   "metadata": {
    "collapsed": false
   },
   "outputs": [
    {
     "name": "stdout",
     "output_type": "stream",
     "text": [
      "        A   B  A_pd_factorized  A_LabelEncoded\n",
      "0    high  10                0               0\n",
      "1  medium  20                1               2\n",
      "2     low  30                2               1\n"
     ]
    }
   ],
   "source": [
    "import pandas as pd\n",
    "\n",
    "# using pandas package's factorize function\n",
    "df['A_pd_factorized'] = pd.factorize(df['A'])[0]\n",
    "\n",
    "# Alternatively you can use sklearn package's LabelEncoder function\n",
    "from sklearn.preprocessing import LabelEncoder\n",
    "le = LabelEncoder()\n",
    "\n",
    "df['A_LabelEncoded'] = le.fit_transform(df.A)\n",
    "print df"
   ]
  }
 ],
 "metadata": {
  "anaconda-cloud": {},
  "kernelspec": {
   "display_name": "Python [conda root]",
   "language": "python",
   "name": "conda-root-py"
  },
  "language_info": {
   "codemirror_mode": {
    "name": "ipython",
    "version": 2
   },
   "file_extension": ".py",
   "mimetype": "text/x-python",
   "name": "python",
   "nbconvert_exporter": "python",
   "pygments_lexer": "ipython2",
   "version": "2.7.12"
  }
 },
 "nbformat": 4,
 "nbformat_minor": 1
}
