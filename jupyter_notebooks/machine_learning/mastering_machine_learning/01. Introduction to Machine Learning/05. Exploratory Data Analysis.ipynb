{
 "cells": [
  {
   "cell_type": "markdown",
   "metadata": {},
   "source": [
    "# Exploratory Data Analysis\n",
    "\n",
    "Before we do any formal machine learning, we will pause, and back up a step and attempt to understand our data better. **Exploratory data analysis** (EDA) is a term used to define the approach one can take to better understand data without the use of formal modeling tools. EDA makes have use of summary statistics and visualizations to gather insights. These insights can later be used to test hypothesis and build machine learning models."
   ]
  },
  {
   "cell_type": "code",
   "execution_count": 1,
   "metadata": {},
   "outputs": [
    {
     "data": {
      "text/html": [
       "<div>\n",
       "<style scoped>\n",
       "    .dataframe tbody tr th:only-of-type {\n",
       "        vertical-align: middle;\n",
       "    }\n",
       "\n",
       "    .dataframe tbody tr th {\n",
       "        vertical-align: top;\n",
       "    }\n",
       "\n",
       "    .dataframe thead th {\n",
       "        text-align: right;\n",
       "    }\n",
       "</style>\n",
       "<table border=\"1\" class=\"dataframe\">\n",
       "  <thead>\n",
       "    <tr style=\"text-align: right;\">\n",
       "      <th></th>\n",
       "      <th>Neighborhood</th>\n",
       "      <th>Exterior1st</th>\n",
       "      <th>YearBuilt</th>\n",
       "      <th>LotFrontage</th>\n",
       "      <th>GrLivArea</th>\n",
       "      <th>GarageArea</th>\n",
       "      <th>BedroomAbvGr</th>\n",
       "      <th>FullBath</th>\n",
       "      <th>OverallQual</th>\n",
       "      <th>HeatingQC</th>\n",
       "      <th>SalePrice</th>\n",
       "    </tr>\n",
       "  </thead>\n",
       "  <tbody>\n",
       "    <tr>\n",
       "      <th>0</th>\n",
       "      <td>CollgCr</td>\n",
       "      <td>VinylSd</td>\n",
       "      <td>2003</td>\n",
       "      <td>65.0</td>\n",
       "      <td>1710</td>\n",
       "      <td>548</td>\n",
       "      <td>3</td>\n",
       "      <td>2</td>\n",
       "      <td>7</td>\n",
       "      <td>Ex</td>\n",
       "      <td>208500</td>\n",
       "    </tr>\n",
       "    <tr>\n",
       "      <th>1</th>\n",
       "      <td>Veenker</td>\n",
       "      <td>MetalSd</td>\n",
       "      <td>1976</td>\n",
       "      <td>80.0</td>\n",
       "      <td>1262</td>\n",
       "      <td>460</td>\n",
       "      <td>3</td>\n",
       "      <td>2</td>\n",
       "      <td>6</td>\n",
       "      <td>Ex</td>\n",
       "      <td>181500</td>\n",
       "    </tr>\n",
       "    <tr>\n",
       "      <th>2</th>\n",
       "      <td>CollgCr</td>\n",
       "      <td>VinylSd</td>\n",
       "      <td>2001</td>\n",
       "      <td>68.0</td>\n",
       "      <td>1786</td>\n",
       "      <td>608</td>\n",
       "      <td>3</td>\n",
       "      <td>2</td>\n",
       "      <td>7</td>\n",
       "      <td>Ex</td>\n",
       "      <td>223500</td>\n",
       "    </tr>\n",
       "    <tr>\n",
       "      <th>3</th>\n",
       "      <td>Crawfor</td>\n",
       "      <td>Wd Sdng</td>\n",
       "      <td>1915</td>\n",
       "      <td>60.0</td>\n",
       "      <td>1717</td>\n",
       "      <td>642</td>\n",
       "      <td>3</td>\n",
       "      <td>1</td>\n",
       "      <td>7</td>\n",
       "      <td>Gd</td>\n",
       "      <td>140000</td>\n",
       "    </tr>\n",
       "    <tr>\n",
       "      <th>4</th>\n",
       "      <td>NoRidge</td>\n",
       "      <td>VinylSd</td>\n",
       "      <td>2000</td>\n",
       "      <td>84.0</td>\n",
       "      <td>2198</td>\n",
       "      <td>836</td>\n",
       "      <td>4</td>\n",
       "      <td>2</td>\n",
       "      <td>8</td>\n",
       "      <td>Ex</td>\n",
       "      <td>250000</td>\n",
       "    </tr>\n",
       "  </tbody>\n",
       "</table>\n",
       "</div>"
      ],
      "text/plain": [
       "  Neighborhood Exterior1st  YearBuilt  LotFrontage  GrLivArea  GarageArea  \\\n",
       "0      CollgCr     VinylSd       2003         65.0       1710         548   \n",
       "1      Veenker     MetalSd       1976         80.0       1262         460   \n",
       "2      CollgCr     VinylSd       2001         68.0       1786         608   \n",
       "3      Crawfor     Wd Sdng       1915         60.0       1717         642   \n",
       "4      NoRidge     VinylSd       2000         84.0       2198         836   \n",
       "\n",
       "   BedroomAbvGr  FullBath  OverallQual HeatingQC  SalePrice  \n",
       "0             3         2            7        Ex     208500  \n",
       "1             3         2            6        Ex     181500  \n",
       "2             3         2            7        Ex     223500  \n",
       "3             3         1            7        Gd     140000  \n",
       "4             4         2            8        Ex     250000  "
      ]
     },
     "execution_count": 1,
     "metadata": {},
     "output_type": "execute_result"
    }
   ],
   "source": [
    "import pandas as pd\n",
    "%matplotlib inline\n",
    "housing = pd.read_csv('../data/housing_sample.csv')\n",
    "housing.head()"
   ]
  },
  {
   "cell_type": "markdown",
   "metadata": {},
   "source": [
    "## Essential data information\n",
    "\n",
    "When starting EDA, the most essential information about your data is the number of rows and columns, the data type of each column and the number of missing values in each column. Let's get the number of rows and columns with the `shape` attribute."
   ]
  },
  {
   "cell_type": "code",
   "execution_count": 2,
   "metadata": {},
   "outputs": [
    {
     "data": {
      "text/plain": [
       "(1460, 11)"
      ]
     },
     "execution_count": 2,
     "metadata": {},
     "output_type": "execute_result"
    }
   ],
   "source": [
    "housing.shape"
   ]
  },
  {
   "cell_type": "markdown",
   "metadata": {},
   "source": [
    "### Data types"
   ]
  },
  {
   "cell_type": "markdown",
   "metadata": {},
   "source": [
    "The data type of each column is one of the most essential pieces of information that you must know about your data. Each column has a data type and this data type. Let's retrieve with the `dtypes` attribute which returns a Series with the column names in the index and their type as the values."
   ]
  },
  {
   "cell_type": "code",
   "execution_count": 3,
   "metadata": {},
   "outputs": [
    {
     "data": {
      "text/plain": [
       "Neighborhood     object\n",
       "Exterior1st      object\n",
       "YearBuilt         int64\n",
       "LotFrontage     float64\n",
       "GrLivArea         int64\n",
       "GarageArea        int64\n",
       "BedroomAbvGr      int64\n",
       "FullBath          int64\n",
       "OverallQual       int64\n",
       "HeatingQC        object\n",
       "SalePrice         int64\n",
       "dtype: object"
      ]
     },
     "execution_count": 3,
     "metadata": {},
     "output_type": "execute_result"
    }
   ],
   "source": [
    "housing.dtypes"
   ]
  },
  {
   "cell_type": "markdown",
   "metadata": {},
   "source": [
    "The reason the column data type is so important is that it informs us what the type of each value in the column is guaranteed to be. For instance, `GarageArea` has data type 'int64' which stands for 64-bit integer. Every value in this column is also a 64-bit integer.\n",
    "\n",
    "The one exception to this rule is the object type, which allows for any Python object to be in its column. However, the vast majority of the time, these columns will be comprised of nothing but strings as is the case with the housing dataset. Therefore, when you see 'object' as a data type in this book, it will be safe to assume that the individual values are strings."
   ]
  },
  {
   "cell_type": "markdown",
   "metadata": {},
   "source": [
    "### Missing values\n",
    "\n",
    "The number of missing values in each column is perhaps next on the list of essential information to know about your data. As we will learn, scikit-learn machine learning models are not able to work with data that has missing values. Let's use the pandas `isna` method to convert all the values in the DataFrame to True or False based on whether they are missing or not and then `sum` each column. Since False evaluates as 0 and True as 1, the returned result contains the number of missing values for each column. In this dataset, only the `LotFrontage` feature has missing values."
   ]
  },
  {
   "cell_type": "code",
   "execution_count": 4,
   "metadata": {},
   "outputs": [
    {
     "data": {
      "text/plain": [
       "Neighborhood      0\n",
       "Exterior1st       0\n",
       "YearBuilt         0\n",
       "LotFrontage     259\n",
       "GrLivArea         0\n",
       "GarageArea        0\n",
       "BedroomAbvGr      0\n",
       "FullBath          0\n",
       "OverallQual       0\n",
       "HeatingQC         0\n",
       "SalePrice         0\n",
       "dtype: int64"
      ]
     },
     "execution_count": 4,
     "metadata": {},
     "output_type": "execute_result"
    }
   ],
   "source": [
    "housing.isna().sum()"
   ]
  },
  {
   "cell_type": "markdown",
   "metadata": {},
   "source": [
    "## Kinds of data\n",
    "\n",
    "Broadly speaking, there are two main types of data found in datasets, **continuous** and **categorical**. Continuous data are always numeric and don't have a limited, known, and discrete set of possibilities. There is also a natural ordering to the numbers, where larger values mean 'more' of that column. Columns like `GrLivArea` or `GarageArea` are continuous as there is no known distinct set of values these columns will hold.  \n",
    "\n",
    "Categorical columns are those that have discrete values. The set of discrete values is usually known and limited. All columns containing strings are necessarily categorical, but numeric columns can be categorical as well. In our housing data, `Neighborhood`, `Exterior1st`, and `HeatingQC` are the obvious columns that are categorical since they contain strings.\n",
    "\n",
    "There are numeric columns in our dataset that are categorical such as `OverallQual`. According to the data dictionary, there are 10 unique values. The integers from 1 through 10 represent its entire range. Since integers are discrete, all the values are known, and they are limited to just 10, we can classify `OverallQual` as categorical.\n",
    "\n",
    "Other columns also have discrete values such as `FullBath` and `BedroomAbvGr`. For most houses, the values for these columns will be under 10 and in our dataset and even smaller range. Although its possible for a house to have any number of bathrooms or bedrooms, these columns are much closer to the categorical column definition than the continuous one. We can treat them as categorical for now.\n",
    "\n",
    "Within categorical, there are two further classifications, ordinal and nominal variables. Ordinal variables have a particular ordering such as a rating on a survey or quality of a house. On the other hand, nominal variables do not have any inherent ordering. Type of neighborhood or exterior of a house, or zip code are examples of nominal variables. As we continue along our EDA, we will label each column we see as continuous, ordinal, or nominal."
   ]
  },
  {
   "cell_type": "markdown",
   "metadata": {},
   "source": [
    "## Univariate analysis\n",
    "\n",
    "We are now ready to move onto more interesting data analysis. There is no universally agreed upon set of steps to take when doing EDA. However, I suggest beginning by analyzing a single variable at a time also known as **univariate analysis**.\n",
    "\n",
    "For continuous data, I attempt to understand its distribution by doing the following:\n",
    "\n",
    "* Finding summary statistics - min, max, mean, median, standard deviation\n",
    "* Making boxplots, histograms, and Kernel-density estimate plots\n",
    "\n",
    "For categorical data, I look at the frequency of each category and if numeric will sometimes compute the same summary statistics as continuous data (especially if it is ordinal).\n",
    "\n",
    "I suggest exploring each column in the dataset one at a time so that you can understand it better.\n",
    "\n",
    "### Neighborhood\n",
    "\n",
    "The `Neighborhood` column contains the abbreviated names of many different neighborhoods within the city of Ames. It is a nominal column as it is categorical with no inherent ordering. As suggested, let's take a look at the occurrence of each unique value with the `value_counts` method."
   ]
  },
  {
   "cell_type": "code",
   "execution_count": 5,
   "metadata": {},
   "outputs": [
    {
     "data": {
      "text/plain": [
       "NAmes      225\n",
       "CollgCr    150\n",
       "OldTown    113\n",
       "Edwards    100\n",
       "Somerst     86\n",
       "Gilbert     79\n",
       "NridgHt     77\n",
       "Sawyer      74\n",
       "NWAmes      73\n",
       "SawyerW     59\n",
       "BrkSide     58\n",
       "Crawfor     51\n",
       "Mitchel     49\n",
       "NoRidge     41\n",
       "Timber      38\n",
       "IDOTRR      37\n",
       "ClearCr     28\n",
       "StoneBr     25\n",
       "SWISU       25\n",
       "MeadowV     17\n",
       "Blmngtn     17\n",
       "BrDale      16\n",
       "Veenker     11\n",
       "NPkVill      9\n",
       "Blueste      2\n",
       "Name: Neighborhood, dtype: int64"
      ]
     },
     "execution_count": 5,
     "metadata": {},
     "output_type": "execute_result"
    }
   ],
   "source": [
    "housing['Neighborhood'].value_counts()"
   ]
  },
  {
   "cell_type": "markdown",
   "metadata": {},
   "source": [
    "This is a good first step to understand how the neighborhoods are distributed. It certainly is not a uniform distribution. Notice that one neighborhood, Blueste, only appears twice. For categorical data, values that appear very infrequently might be outliers and be a reason to examine further. For example, perhaps there was a typo and this neighborhood was actually meant to be another.\n",
    "\n",
    "Instead of the raw counts, we can calculate the frequency of occurrence with the same method and setting the `normalize` parameter to True."
   ]
  },
  {
   "cell_type": "code",
   "execution_count": 6,
   "metadata": {},
   "outputs": [
    {
     "data": {
      "text/plain": [
       "NAmes      0.154\n",
       "CollgCr    0.103\n",
       "OldTown    0.077\n",
       "Edwards    0.068\n",
       "Somerst    0.059\n",
       "Name: Neighborhood, dtype: float64"
      ]
     },
     "execution_count": 6,
     "metadata": {},
     "output_type": "execute_result"
    }
   ],
   "source": [
    "housing['Neighborhood'].value_counts(normalize=True).round(3).head()"
   ]
  },
  {
   "cell_type": "markdown",
   "metadata": {},
   "source": [
    "To get a more complete picture of the distribution of neighborhoods, we can make a bar plot of the frequencies."
   ]
  },
  {
   "cell_type": "code",
   "execution_count": 7,
   "metadata": {},
   "outputs": [
    {
     "data": {
      "image/png": "[encoded data removed]",
      "text/plain": [
       "<Figure size 720x288 with 1 Axes>"
      ]
     },
     "metadata": {
      "needs_background": "light"
     },
     "output_type": "display_data"
    }
   ],
   "source": [
    "housing['Neighborhood'].value_counts(normalize=True).plot(kind='bar', figsize=(10, 4));"
   ]
  },
  {
   "cell_type": "markdown",
   "metadata": {},
   "source": [
    "### Exterior1st\n",
    "\n",
    "The next column, `Exterior1st` (the exterior covering of the house) is also nominal. Let's apply the exploratory techniques to it."
   ]
  },
  {
   "cell_type": "code",
   "execution_count": 8,
   "metadata": {},
   "outputs": [
    {
     "data": {
      "text/plain": [
       "VinylSd    515\n",
       "HdBoard    222\n",
       "MetalSd    220\n",
       "Wd Sdng    206\n",
       "Plywood    108\n",
       "CemntBd     61\n",
       "BrkFace     50\n",
       "WdShing     26\n",
       "Stucco      25\n",
       "AsbShng     20\n",
       "BrkComm      2\n",
       "Stone        2\n",
       "AsphShn      1\n",
       "CBlock       1\n",
       "ImStucc      1\n",
       "Name: Exterior1st, dtype: int64"
      ]
     },
     "execution_count": 8,
     "metadata": {},
     "output_type": "execute_result"
    }
   ],
   "source": [
    "housing['Exterior1st'].value_counts()"
   ]
  },
  {
   "cell_type": "markdown",
   "metadata": {},
   "source": [
    "The `Exterior1st` column is even more unevenly distributed than neighborhood and has five values that appear only once or twice. We may need to merge these categories that appear so infrequently into an 'OTHER' category in order to generalize from them. Let's plot its relative frequency."
   ]
  },
  {
   "cell_type": "code",
   "execution_count": 9,
   "metadata": {},
   "outputs": [
    {
     "data": {
      "image/png": "[encoded data removed]",
      "text/plain": [
       "<Figure size 720x288 with 1 Axes>"
      ]
     },
     "metadata": {
      "needs_background": "light"
     },
     "output_type": "display_data"
    }
   ],
   "source": [
    "housing['Exterior1st'].value_counts(normalize=True).plot(kind='bar', figsize=(10, 4));"
   ]
  },
  {
   "cell_type": "markdown",
   "metadata": {},
   "source": [
    "### YearBuilt\n",
    "\n",
    "The `YearBuilt` contains the original construction date of the house. This column is interesting in that it contains elements of both the categorical and continuous data definition. While every value is a discrete integer, there isn't a known, limited range for them. Year does have an inherent order. Let's begin by finding the number of unique values using the `nunique` method."
   ]
  },
  {
   "cell_type": "code",
   "execution_count": 10,
   "metadata": {},
   "outputs": [
    {
     "data": {
      "text/plain": [
       "112"
      ]
     },
     "execution_count": 10,
     "metadata": {},
     "output_type": "execute_result"
    }
   ],
   "source": [
    "housing['YearBuilt'].nunique()"
   ]
  },
  {
   "cell_type": "markdown",
   "metadata": {},
   "source": [
    "We can find the number of occurrence of each of these 112 years, but since there are so many, we output just the 10 most frequent years."
   ]
  },
  {
   "cell_type": "code",
   "execution_count": 11,
   "metadata": {},
   "outputs": [
    {
     "data": {
      "text/plain": [
       "2006    67\n",
       "2005    64\n",
       "2004    54\n",
       "2007    49\n",
       "2003    45\n",
       "1976    33\n",
       "1977    32\n",
       "1920    30\n",
       "1959    26\n",
       "1999    25\n",
       "Name: YearBuilt, dtype: int64"
      ]
     },
     "execution_count": 11,
     "metadata": {},
     "output_type": "execute_result"
    }
   ],
   "source": [
    "housing['YearBuilt'].value_counts().head(10)"
   ]
  },
  {
   "cell_type": "markdown",
   "metadata": {},
   "source": [
    "To get a different view of the distribution, we can make a histogram, which automatically bins the data into particular year groups. Here, we make a histogram with 20 bins of equal width."
   ]
  },
  {
   "cell_type": "code",
   "execution_count": 12,
   "metadata": {},
   "outputs": [
    {
     "data": {
      "image/png": "[encoded data removed]",
      "text/plain": [
       "<Figure size 576x288 with 1 Axes>"
      ]
     },
     "metadata": {
      "needs_background": "light"
     },
     "output_type": "display_data"
    }
   ],
   "source": [
    "housing['YearBuilt'].plot(kind='hist', bins=20, figsize=(8, 4));"
   ]
  },
  {
   "cell_type": "markdown",
   "metadata": {},
   "source": [
    "We can do a similar procedure non-graphically with the pandas `cut` function. Here, we supply the exact bin edges (which are inclusive of the right value). First we get the minimum and maximum values for year."
   ]
  },
  {
   "cell_type": "code",
   "execution_count": 13,
   "metadata": {},
   "outputs": [
    {
     "data": {
      "text/plain": [
       "min    1872\n",
       "max    2010\n",
       "Name: YearBuilt, dtype: int64"
      ]
     },
     "execution_count": 13,
     "metadata": {},
     "output_type": "execute_result"
    }
   ],
   "source": [
    "housing['YearBuilt'].agg(['min', 'max'])"
   ]
  },
  {
   "cell_type": "markdown",
   "metadata": {},
   "source": [
    "Using these endpoints, we create several bins and then count the occurrence of each group."
   ]
  },
  {
   "cell_type": "code",
   "execution_count": 14,
   "metadata": {},
   "outputs": [
    {
     "data": {
      "text/plain": [
       "(1969, 1999]    412\n",
       "(1999, 2010]    388\n",
       "(1949, 1969]    342\n",
       "(1899, 1934]    192\n",
       "(1934, 1949]    111\n",
       "(1871, 1899]     15\n",
       "Name: YearBuilt, dtype: int64"
      ]
     },
     "execution_count": 14,
     "metadata": {},
     "output_type": "execute_result"
    }
   ],
   "source": [
    "bins = [1871, 1899, 1934, 1949, 1969, 1999, 2010]\n",
    "pd.cut(housing['YearBuilt'], bins).value_counts()"
   ]
  },
  {
   "cell_type": "markdown",
   "metadata": {},
   "source": [
    "We can find the relative frequency and then sort by the year grouping."
   ]
  },
  {
   "cell_type": "code",
   "execution_count": 15,
   "metadata": {},
   "outputs": [
    {
     "data": {
      "text/plain": [
       "(1871, 1899]    0.01\n",
       "(1899, 1934]    0.13\n",
       "(1934, 1949]    0.08\n",
       "(1949, 1969]    0.23\n",
       "(1969, 1999]    0.28\n",
       "(1999, 2010]    0.27\n",
       "Name: YearBuilt, dtype: float64"
      ]
     },
     "execution_count": 15,
     "metadata": {},
     "output_type": "execute_result"
    }
   ],
   "source": [
    "pd.cut(housing['YearBuilt'], bins).value_counts(normalize=True).sort_index().round(2)"
   ]
  },
  {
   "cell_type": "markdown",
   "metadata": {},
   "source": [
    "### LotFrontage\n",
    "\n",
    "The `LotFrontage` column contains the linear feet of street connected to the property. Note, that the units are feet and not squared feet. This is our first column that is clearly continuous. Let's get it's summary statistics with the `describe` method."
   ]
  },
  {
   "cell_type": "code",
   "execution_count": 16,
   "metadata": {},
   "outputs": [
    {
     "data": {
      "text/plain": [
       "count    1201.0\n",
       "mean       70.0\n",
       "std        24.0\n",
       "min        21.0\n",
       "25%        59.0\n",
       "50%        69.0\n",
       "75%        80.0\n",
       "max       313.0\n",
       "Name: LotFrontage, dtype: float64"
      ]
     },
     "execution_count": 16,
     "metadata": {},
     "output_type": "execute_result"
    }
   ],
   "source": [
    "housing['LotFrontage'].describe().round(0)"
   ]
  },
  {
   "cell_type": "markdown",
   "metadata": {},
   "source": [
    "The value for `count` is the total number of non-missing values and is NOT the length of the column. We know from using the `shape` attribute that the total number of values in each column is 1460. We also calculated that 259 values were missing which is how we have a count of 1201. Let's plot the KDE of `LotFrontage`."
   ]
  },
  {
   "cell_type": "code",
   "execution_count": 17,
   "metadata": {},
   "outputs": [
    {
     "data": {
      "text/plain": [
       "<matplotlib.axes._subplots.AxesSubplot at 0x7f4badcb97b8>"
      ]
     },
     "execution_count": 17,
     "metadata": {},
     "output_type": "execute_result"
    },
    {
     "data": {
      "image/png": "[encoded data removed]",
      "text/plain": [
       "<Figure size 432x288 with 1 Axes>"
      ]
     },
     "metadata": {
      "needs_background": "light"
     },
     "output_type": "display_data"
    }
   ],
   "source": [
    "housing['LotFrontage'].plot(kind='kde', xlim=(0, 300))"
   ]
  },
  {
   "cell_type": "markdown",
   "metadata": {},
   "source": [
    "The `KDE` gives us an approximation of the probability distribution function. Taking the area under the curve between two `x` values will return us an approximate probability for the actual value being in that range. From the plot, much of the data appears to be between 50 and 100. Let's use a boxplot now, which is a great plot to detect outliers."
   ]
  },
  {
   "cell_type": "code",
   "execution_count": 18,
   "metadata": {},
   "outputs": [
    {
     "data": {
      "image/png": "[encoded data removed]",
      "text/plain": [
       "<Figure size 576x288 with 1 Axes>"
      ]
     },
     "metadata": {
      "needs_background": "light"
     },
     "output_type": "display_data"
    }
   ],
   "source": [
    "housing['LotFrontage'].plot(kind='box', vert=False, figsize=(8, 4));"
   ]
  },
  {
   "cell_type": "markdown",
   "metadata": {},
   "source": [
    "The edges of the box represent the first and third quartiles and are known as the interquartile range (IQR). This means that 75% of the data is within this narrow range. The 'whiskers' are set by default at 1.5 times the IQR. Values outside of these whiskers are plotted as individual points and are candidates for further inspection as possible outliers. There is one house with a lot frontage of 100 more than any other house. This one should definitely be inspected."
   ]
  },
  {
   "cell_type": "markdown",
   "metadata": {},
   "source": [
    "### GrLivArea\n",
    "\n",
    "The `GrLivArea` column contains data on the above ground living area in square feet and is an extremely common piece of information that buyers are interested in knowing. It is also a continuous column of data. Let's begin by calculating the summary statistics."
   ]
  },
  {
   "cell_type": "code",
   "execution_count": 19,
   "metadata": {},
   "outputs": [
    {
     "data": {
      "text/plain": [
       "count    1460.0\n",
       "mean     1515.0\n",
       "std       525.0\n",
       "min       334.0\n",
       "25%      1130.0\n",
       "50%      1464.0\n",
       "75%      1777.0\n",
       "max      5642.0\n",
       "Name: GrLivArea, dtype: float64"
      ]
     },
     "execution_count": 19,
     "metadata": {},
     "output_type": "execute_result"
    }
   ],
   "source": [
    "housing['GrLivArea'].describe().round(0)"
   ]
  },
  {
   "cell_type": "markdown",
   "metadata": {},
   "source": [
    "We can use a histogram this time to get an idea of the entire distribution."
   ]
  },
  {
   "cell_type": "code",
   "execution_count": 20,
   "metadata": {},
   "outputs": [
    {
     "data": {
      "image/png": "[encoded data removed]",
      "text/plain": [
       "<Figure size 432x288 with 1 Axes>"
      ]
     },
     "metadata": {
      "needs_background": "light"
     },
     "output_type": "display_data"
    }
   ],
   "source": [
    "housing['GrLivArea'].plot(kind='hist', bins=20);"
   ]
  },
  {
   "cell_type": "markdown",
   "metadata": {},
   "source": [
    "Histograms are very similar to KDE plots and you can even plot them one on top of the other to verify this is the case. To do, when need to normalize the histogram and report the relative frequency for each group so that it has the same scale as the KDE."
   ]
  },
  {
   "cell_type": "code",
   "execution_count": 21,
   "metadata": {},
   "outputs": [
    {
     "data": {
      "image/png": "[encoded data removed]",
      "text/plain": [
       "<Figure size 720x288 with 1 Axes>"
      ]
     },
     "metadata": {
      "needs_background": "light"
     },
     "output_type": "display_data"
    }
   ],
   "source": [
    "housing['GrLivArea'].plot(kind='hist', bins=20, density=True, figsize=(10, 4))\n",
    "housing['GrLivArea'].plot(kind='kde', linewidth=4, xlim=(0, 5000));"
   ]
  },
  {
   "cell_type": "markdown",
   "metadata": {},
   "source": [
    "To see possible individual outliers, use a boxplot. Notice that four houses are larger than 4,000 square feet and clearly separated from the others."
   ]
  },
  {
   "cell_type": "code",
   "execution_count": 22,
   "metadata": {},
   "outputs": [
    {
     "data": {
      "image/png": "[encoded data removed]",
      "text/plain": [
       "<Figure size 432x288 with 1 Axes>"
      ]
     },
     "metadata": {
      "needs_background": "light"
     },
     "output_type": "display_data"
    }
   ],
   "source": [
    "housing['GrLivArea'].plot(kind='box', vert=False);"
   ]
  },
  {
   "cell_type": "markdown",
   "metadata": {},
   "source": [
    "### GarageArea\n",
    "\n",
    "The `GarageArea` column contains the size of the garage in square feet and is continuous. The analysis is virtually identical to `GrLivArea`."
   ]
  },
  {
   "cell_type": "code",
   "execution_count": 23,
   "metadata": {},
   "outputs": [
    {
     "data": {
      "text/plain": [
       "count    1460.0\n",
       "mean      473.0\n",
       "std       214.0\n",
       "min         0.0\n",
       "25%       334.0\n",
       "50%       480.0\n",
       "75%       576.0\n",
       "max      1418.0\n",
       "Name: GarageArea, dtype: float64"
      ]
     },
     "execution_count": 23,
     "metadata": {},
     "output_type": "execute_result"
    }
   ],
   "source": [
    "housing['GarageArea'].describe().round(0)"
   ]
  },
  {
   "cell_type": "markdown",
   "metadata": {},
   "source": [
    "There are many houses that do not have garages which can be identified with this histogram."
   ]
  },
  {
   "cell_type": "code",
   "execution_count": 24,
   "metadata": {
    "scrolled": true
   },
   "outputs": [
    {
     "data": {
      "image/png": "[encoded data removed]",
      "text/plain": [
       "<Figure size 432x288 with 1 Axes>"
      ]
     },
     "metadata": {
      "needs_background": "light"
     },
     "output_type": "display_data"
    }
   ],
   "source": [
    "housing['GarageArea'].plot(kind='hist', bins=20);"
   ]
  },
  {
   "cell_type": "markdown",
   "metadata": {},
   "source": [
    "While the boxplot does reveal some values outside of the whiskers, they quite as far removed as the largest values for `GrLivArea`."
   ]
  },
  {
   "cell_type": "code",
   "execution_count": 25,
   "metadata": {},
   "outputs": [
    {
     "data": {
      "image/png": "[encoded data removed]",
      "text/plain": [
       "<Figure size 432x288 with 1 Axes>"
      ]
     },
     "metadata": {
      "needs_background": "light"
     },
     "output_type": "display_data"
    }
   ],
   "source": [
    "housing['GarageArea'].plot(kind='box', vert=False);"
   ]
  },
  {
   "cell_type": "markdown",
   "metadata": {},
   "source": [
    "### BedroomAbvGr\n",
    "\n",
    "The `BedroomAbvGr` column contains the number of above ground bedrooms. These values are discrete integers and while the range isn't known exactly ahead of time, it likely is limited. Let's analyze it at as if it were categorical by counting the occurrences of each unique value."
   ]
  },
  {
   "cell_type": "code",
   "execution_count": 26,
   "metadata": {},
   "outputs": [
    {
     "data": {
      "text/plain": [
       "3    804\n",
       "2    358\n",
       "4    213\n",
       "1     50\n",
       "5     21\n",
       "6      7\n",
       "0      6\n",
       "8      1\n",
       "Name: BedroomAbvGr, dtype: int64"
      ]
     },
     "execution_count": 26,
     "metadata": {},
     "output_type": "execute_result"
    }
   ],
   "source": [
    "housing['BedroomAbvGr'].value_counts()"
   ]
  },
  {
   "cell_type": "markdown",
   "metadata": {},
   "source": [
    "Nearly all houses have between one and five bedrooms, but strangely there are six houses without any bedrooms whatsoever. This seems unlikely, so these houses need to be examined further."
   ]
  },
  {
   "cell_type": "markdown",
   "metadata": {},
   "source": [
    "### FullBath\n",
    "\n",
    "The `FullBath` column contains the number of full bathrooms in the house. This is also a discrete integer with a limited, yet unknown range. We will also analyze it as if it were categorical."
   ]
  },
  {
   "cell_type": "code",
   "execution_count": 27,
   "metadata": {},
   "outputs": [
    {
     "data": {
      "text/plain": [
       "2    768\n",
       "1    650\n",
       "3     33\n",
       "0      9\n",
       "Name: FullBath, dtype: int64"
      ]
     },
     "execution_count": 27,
     "metadata": {},
     "output_type": "execute_result"
    }
   ],
   "source": [
    "housing['FullBath'].value_counts()"
   ]
  },
  {
   "cell_type": "markdown",
   "metadata": {},
   "source": [
    "Nine houses have no full bathrooms. These houses might need to be examined, as it is uncommon."
   ]
  },
  {
   "cell_type": "markdown",
   "metadata": {},
   "source": [
    "### OverallQual\n",
    "\n",
    "The `OverallQual` column rates the overall material and finish of the house and is an integer between 1 and 10. Since the range is known, and its values are limited, discrete, and have an inherent ordering, we have an ordinal variable. The By default, `value_counts` sorts by the frequency of occurrence. Here, we sort by the index, which is the value of `OverallQuall`."
   ]
  },
  {
   "cell_type": "code",
   "execution_count": 28,
   "metadata": {},
   "outputs": [
    {
     "data": {
      "text/plain": [
       "1       2\n",
       "2       3\n",
       "3      20\n",
       "4     116\n",
       "5     397\n",
       "6     374\n",
       "7     319\n",
       "8     168\n",
       "9      43\n",
       "10     18\n",
       "Name: OverallQual, dtype: int64"
      ]
     },
     "execution_count": 28,
     "metadata": {},
     "output_type": "execute_result"
    }
   ],
   "source": [
    "housing['OverallQual'].value_counts().sort_index()"
   ]
  },
  {
   "cell_type": "markdown",
   "metadata": {},
   "source": [
    "The distribution looks fairly symmetrical centered around 6. There are only a few houses with a value of `OverallQuall` less than 3. These might need to be investigated more closely."
   ]
  },
  {
   "cell_type": "markdown",
   "metadata": {},
   "source": [
    "### HeatingQC\n",
    "\n",
    "The `HeatingQC` column contains the heating quality and condition and rates it with five discrete categories from Excellent ('Ex') to Poor ('PA'). These categories have an inherent order so therefore we have our first column of strings that is ordinal. Let's count the occurrences of all the values."
   ]
  },
  {
   "cell_type": "code",
   "execution_count": 29,
   "metadata": {},
   "outputs": [
    {
     "data": {
      "text/plain": [
       "Ex    741\n",
       "TA    428\n",
       "Gd    241\n",
       "Fa     49\n",
       "Po      1\n",
       "Name: HeatingQC, dtype: int64"
      ]
     },
     "execution_count": 29,
     "metadata": {},
     "output_type": "execute_result"
    }
   ],
   "source": [
    "housing['HeatingQC'].value_counts()"
   ]
  },
  {
   "cell_type": "markdown",
   "metadata": {},
   "source": [
    "The single house with poor heating quality should be examined further."
   ]
  },
  {
   "cell_type": "markdown",
   "metadata": {},
   "source": [
    "### SalePrice\n",
    "\n",
    "The column `SalePrice` contains the sale price of the house in dollars. This is the column we are going to try to predict. It is continuous. Let's begin by calculating summary statistics on it."
   ]
  },
  {
   "cell_type": "code",
   "execution_count": 30,
   "metadata": {},
   "outputs": [
    {
     "data": {
      "text/plain": [
       "count      1460.0\n",
       "mean     180921.0\n",
       "std       79443.0\n",
       "min       34900.0\n",
       "25%      129975.0\n",
       "50%      163000.0\n",
       "75%      214000.0\n",
       "max      755000.0\n",
       "Name: SalePrice, dtype: float64"
      ]
     },
     "execution_count": 30,
     "metadata": {},
     "output_type": "execute_result"
    }
   ],
   "source": [
    "housing['SalePrice'].describe().round(0)"
   ]
  },
  {
   "cell_type": "markdown",
   "metadata": {},
   "source": [
    "To get a sense of where the majority of the data lies, use a boxplot."
   ]
  },
  {
   "cell_type": "code",
   "execution_count": 31,
   "metadata": {},
   "outputs": [
    {
     "data": {
      "image/png": "[encoded data removed]",
      "text/plain": [
       "<Figure size 576x288 with 1 Axes>"
      ]
     },
     "metadata": {
      "needs_background": "light"
     },
     "output_type": "display_data"
    }
   ],
   "source": [
    "housing['SalePrice'].plot(kind='box', vert=False, figsize=(8, 4));"
   ]
  },
  {
   "cell_type": "markdown",
   "metadata": {},
   "source": [
    "The vast majority of houses are less than 350,000 dollars."
   ]
  },
  {
   "cell_type": "markdown",
   "metadata": {},
   "source": [
    "## Multivariate analysis\n",
    "\n",
    "Now that we've analyzed every single variable independent of the other, we can explore the relationships between two or more variables simultaneously. This is often referred to as multivariate analysis.\n",
    "\n",
    "### Neighborhood vs SalePrice\n",
    "\n",
    "We are most interested in predicting sale price, so the following plots will all show some analysis involving one of the columns with `SalePrice`. We begin, by finding the average sale price by neighborhood. The results indicate a large variance based on neighborhood."
   ]
  },
  {
   "cell_type": "code",
   "execution_count": 32,
   "metadata": {},
   "outputs": [
    {
     "data": {
      "image/png": "[encoded data removed]",
      "text/plain": [
       "<Figure size 720x288 with 1 Axes>"
      ]
     },
     "metadata": {
      "needs_background": "light"
     },
     "output_type": "display_data"
    }
   ],
   "source": [
    "housing.groupby('Neighborhood').agg(mean_price=('SalePrice', 'mean')) \\\n",
    "       .sort_values('mean_price').plot(kind='bar', figsize=(10, 4));"
   ]
  },
  {
   "cell_type": "markdown",
   "metadata": {},
   "source": [
    "### Exterior1st vs SalePrice\n",
    "\n",
    "Let's do the same analysis with `Exterior1st` finding the average sale price for each of its unique values. There were four values that appeared twice or less. These are removed before the plot. As with neighborhood, there is a significant difference based on the kind of exterior."
   ]
  },
  {
   "cell_type": "code",
   "execution_count": 33,
   "metadata": {},
   "outputs": [
    {
     "data": {
      "image/png": "[encoded data removed]",
      "text/plain": [
       "<Figure size 720x288 with 1 Axes>"
      ]
     },
     "metadata": {
      "needs_background": "light"
     },
     "output_type": "display_data"
    }
   ],
   "source": [
    "housing.groupby('Exterior1st').agg(mean_price=('SalePrice', 'mean'),\n",
    "                                   count=('SalePrice', 'count')) \\\n",
    "       .query('count > 5') \\\n",
    "       .sort_values('mean_price').plot(kind='bar', y='mean_price', figsize=(10, 4));"
   ]
  },
  {
   "cell_type": "markdown",
   "metadata": {},
   "source": [
    "### GrLivArea vs SalePrice\n",
    "\n",
    "Let's now explore the relationship between the continuous column `GrLivArea` and `SalePrice`. This is our first multivariate analysis using two continuous columns. A scatterplot is often used in this case."
   ]
  },
  {
   "cell_type": "code",
   "execution_count": 34,
   "metadata": {},
   "outputs": [
    {
     "data": {
      "image/png": "[encoded data removed]",
      "text/plain": [
       "<Figure size 720x288 with 1 Axes>"
      ]
     },
     "metadata": {
      "needs_background": "light"
     },
     "output_type": "display_data"
    }
   ],
   "source": [
    "housing.plot(x='GrLivArea', y='SalePrice', kind='scatter', figsize=(10, 4));"
   ]
  },
  {
   "cell_type": "markdown",
   "metadata": {},
   "source": [
    "There certainly seems to be a strong relationship with the sale price increasing directly with the above ground living area. Interestingly, there are two houses with very large above ground living area that are priced very low. These houses can be investigated. We can still make a bar plot of average sale price by binning the above ground living area into bins. Here, we bin every 500 square feet."
   ]
  },
  {
   "cell_type": "code",
   "execution_count": 35,
   "metadata": {},
   "outputs": [
    {
     "data": {
      "image/png": "[encoded data removed]",
      "text/plain": [
       "<Figure size 720x288 with 1 Axes>"
      ]
     },
     "metadata": {
      "needs_background": "light"
     },
     "output_type": "display_data"
    }
   ],
   "source": [
    "gr_bins = pd.cut(housing['GrLivArea'], bins=range(0, 5500, 500))\n",
    "housing.groupby(gr_bins).agg(mean_price=('SalePrice', 'mean')) \\\n",
    "       .sort_values('mean_price').plot(kind='bar', figsize=(10, 4));"
   ]
  },
  {
   "cell_type": "markdown",
   "metadata": {},
   "source": [
    "### LotFrontage vs SalePrice\n",
    "\n",
    "We can repeat our analysis with `LotFrontage` first making a scatterplot."
   ]
  },
  {
   "cell_type": "code",
   "execution_count": 36,
   "metadata": {},
   "outputs": [
    {
     "data": {
      "image/png": "[encoded data removed]",
      "text/plain": [
       "<Figure size 720x288 with 1 Axes>"
      ]
     },
     "metadata": {
      "needs_background": "light"
     },
     "output_type": "display_data"
    }
   ],
   "source": [
    "housing.plot(x='LotFrontage', y='SalePrice', kind='scatter', figsize=(10, 4));"
   ]
  },
  {
   "cell_type": "markdown",
   "metadata": {},
   "source": [
    "It's difficult to determine if there is a relationship between the variables. Let's bin together the `LotFrontage` values and return the average sale price per group to get a different look. This plot makes a much clearer case that there could be some kind of relationship."
   ]
  },
  {
   "cell_type": "code",
   "execution_count": 37,
   "metadata": {
    "scrolled": true
   },
   "outputs": [
    {
     "data": {
      "image/png": "[encoded data removed]",
      "text/plain": [
       "<Figure size 720x288 with 1 Axes>"
      ]
     },
     "metadata": {
      "needs_background": "light"
     },
     "output_type": "display_data"
    }
   ],
   "source": [
    "lf_bins = pd.cut(housing['LotFrontage'], bins=range(0, 200, 25))\n",
    "housing.groupby(lf_bins).agg(mean_price=('SalePrice', 'mean')) \\\n",
    "       .sort_values('mean_price').plot(kind='bar', figsize=(10, 4));"
   ]
  },
  {
   "cell_type": "markdown",
   "metadata": {},
   "source": [
    "## Using pivot tables for three or more variables\n",
    "\n",
    "All of our multivariate analysis involved two variables, one of which was always the sale price. The pandas `pivot_table` method can help analyze more than two variables at a time. Here, we find the average sale price for each combination of full bathrooms and above ground living area (binned every 500 square feet up to 3,000)."
   ]
  },
  {
   "cell_type": "code",
   "execution_count": 38,
   "metadata": {},
   "outputs": [
    {
     "data": {
      "text/html": [
       "<style  type=\"text/css\" >\n",
       "</style><table id=\"T_ea9a2ba2_283e_11ea_9185_f0d5bf40c03b\" ><thead>    <tr>        <th class=\"index_name level0\" >FullBath</th>        <th class=\"col_heading level0 col0\" >0</th>        <th class=\"col_heading level0 col1\" >1</th>        <th class=\"col_heading level0 col2\" >2</th>        <th class=\"col_heading level0 col3\" >3</th>    </tr>    <tr>        <th class=\"index_name level0\" >GrLivArea</th>        <th class=\"blank\" ></th>        <th class=\"blank\" ></th>        <th class=\"blank\" ></th>        <th class=\"blank\" ></th>    </tr></thead><tbody>\n",
       "                <tr>\n",
       "                        <th id=\"T_ea9a2ba2_283e_11ea_9185_f0d5bf40c03blevel0_row0\" class=\"row_heading level0 row0\" >(0, 500]</th>\n",
       "                        <td id=\"T_ea9a2ba2_283e_11ea_9185_f0d5bf40c03brow0_col0\" class=\"data row0 col0\" >35,000</td>\n",
       "                        <td id=\"T_ea9a2ba2_283e_11ea_9185_f0d5bf40c03brow0_col1\" class=\"data row0 col1\" >50,000</td>\n",
       "                        <td id=\"T_ea9a2ba2_283e_11ea_9185_f0d5bf40c03brow0_col2\" class=\"data row0 col2\" >nan</td>\n",
       "                        <td id=\"T_ea9a2ba2_283e_11ea_9185_f0d5bf40c03brow0_col3\" class=\"data row0 col3\" >nan</td>\n",
       "            </tr>\n",
       "            <tr>\n",
       "                        <th id=\"T_ea9a2ba2_283e_11ea_9185_f0d5bf40c03blevel0_row1\" class=\"row_heading level0 row1\" >(500, 1000]</th>\n",
       "                        <td id=\"T_ea9a2ba2_283e_11ea_9185_f0d5bf40c03brow1_col0\" class=\"data row1 col0\" >103,000</td>\n",
       "                        <td id=\"T_ea9a2ba2_283e_11ea_9185_f0d5bf40c03brow1_col1\" class=\"data row1 col1\" >114,000</td>\n",
       "                        <td id=\"T_ea9a2ba2_283e_11ea_9185_f0d5bf40c03brow1_col2\" class=\"data row1 col2\" >124,000</td>\n",
       "                        <td id=\"T_ea9a2ba2_283e_11ea_9185_f0d5bf40c03brow1_col3\" class=\"data row1 col3\" >nan</td>\n",
       "            </tr>\n",
       "            <tr>\n",
       "                        <th id=\"T_ea9a2ba2_283e_11ea_9185_f0d5bf40c03blevel0_row2\" class=\"row_heading level0 row2\" >(1000, 1500]</th>\n",
       "                        <td id=\"T_ea9a2ba2_283e_11ea_9185_f0d5bf40c03brow2_col0\" class=\"data row2 col0\" >150,000</td>\n",
       "                        <td id=\"T_ea9a2ba2_283e_11ea_9185_f0d5bf40c03brow2_col1\" class=\"data row2 col1\" >135,000</td>\n",
       "                        <td id=\"T_ea9a2ba2_283e_11ea_9185_f0d5bf40c03brow2_col2\" class=\"data row2 col2\" >172,000</td>\n",
       "                        <td id=\"T_ea9a2ba2_283e_11ea_9185_f0d5bf40c03brow2_col3\" class=\"data row2 col3\" >179,000</td>\n",
       "            </tr>\n",
       "            <tr>\n",
       "                        <th id=\"T_ea9a2ba2_283e_11ea_9185_f0d5bf40c03blevel0_row3\" class=\"row_heading level0 row3\" >(1500, 2000]</th>\n",
       "                        <td id=\"T_ea9a2ba2_283e_11ea_9185_f0d5bf40c03brow3_col0\" class=\"data row3 col0\" >322,000</td>\n",
       "                        <td id=\"T_ea9a2ba2_283e_11ea_9185_f0d5bf40c03brow3_col1\" class=\"data row3 col1\" >173,000</td>\n",
       "                        <td id=\"T_ea9a2ba2_283e_11ea_9185_f0d5bf40c03brow3_col2\" class=\"data row3 col2\" >213,000</td>\n",
       "                        <td id=\"T_ea9a2ba2_283e_11ea_9185_f0d5bf40c03brow3_col3\" class=\"data row3 col3\" >189,000</td>\n",
       "            </tr>\n",
       "            <tr>\n",
       "                        <th id=\"T_ea9a2ba2_283e_11ea_9185_f0d5bf40c03blevel0_row4\" class=\"row_heading level0 row4\" >(2000, 2500]</th>\n",
       "                        <td id=\"T_ea9a2ba2_283e_11ea_9185_f0d5bf40c03brow4_col0\" class=\"data row4 col0\" >nan</td>\n",
       "                        <td id=\"T_ea9a2ba2_283e_11ea_9185_f0d5bf40c03brow4_col1\" class=\"data row4 col1\" >222,000</td>\n",
       "                        <td id=\"T_ea9a2ba2_283e_11ea_9185_f0d5bf40c03brow4_col2\" class=\"data row4 col2\" >260,000</td>\n",
       "                        <td id=\"T_ea9a2ba2_283e_11ea_9185_f0d5bf40c03brow4_col3\" class=\"data row4 col3\" >297,000</td>\n",
       "            </tr>\n",
       "            <tr>\n",
       "                        <th id=\"T_ea9a2ba2_283e_11ea_9185_f0d5bf40c03blevel0_row5\" class=\"row_heading level0 row5\" >(2500, 3000]</th>\n",
       "                        <td id=\"T_ea9a2ba2_283e_11ea_9185_f0d5bf40c03brow5_col0\" class=\"data row5 col0\" >nan</td>\n",
       "                        <td id=\"T_ea9a2ba2_283e_11ea_9185_f0d5bf40c03brow5_col1\" class=\"data row5 col1\" >213,000</td>\n",
       "                        <td id=\"T_ea9a2ba2_283e_11ea_9185_f0d5bf40c03brow5_col2\" class=\"data row5 col2\" >300,000</td>\n",
       "                        <td id=\"T_ea9a2ba2_283e_11ea_9185_f0d5bf40c03brow5_col3\" class=\"data row5 col3\" >361,000</td>\n",
       "            </tr>\n",
       "    </tbody></table>"
      ],
      "text/plain": [
       "<pandas.io.formats.style.Styler at 0x7f4ba39a0240>"
      ]
     },
     "execution_count": 38,
     "metadata": {},
     "output_type": "execute_result"
    }
   ],
   "source": [
    "gr_bins = pd.cut(housing['GrLivArea'], bins=range(0, 3500, 500))\n",
    "housing.pivot_table(index=gr_bins, columns='FullBath', \n",
    "                    values='SalePrice', aggfunc='mean') \\\n",
    "       .round(-3).astype('Int64').head(10) \\\n",
    "       .style.format('{:,}')"
   ]
  },
  {
   "cell_type": "markdown",
   "metadata": {},
   "source": [
    "## Correlation to SalePrice\n",
    "\n",
    "We can see which numeric columns correlate highest to `SalePrice` using the `corrwith` method."
   ]
  },
  {
   "cell_type": "code",
   "execution_count": 39,
   "metadata": {},
   "outputs": [
    {
     "data": {
      "text/plain": [
       "SalePrice       1.00\n",
       "OverallQual     0.79\n",
       "GrLivArea       0.71\n",
       "GarageArea      0.62\n",
       "FullBath        0.56\n",
       "YearBuilt       0.52\n",
       "LotFrontage     0.35\n",
       "BedroomAbvGr    0.17\n",
       "dtype: float64"
      ]
     },
     "execution_count": 39,
     "metadata": {},
     "output_type": "execute_result"
    }
   ],
   "source": [
    "housing.corrwith(housing['SalePrice']).sort_values(ascending=False).round(2)"
   ]
  },
  {
   "cell_type": "markdown",
   "metadata": {},
   "source": [
    "## Continuing EDA\n",
    "\n",
    "These examples above should get you started exploring the housing dataset. With the full dataset, you can spend many days or even weeks on just EDA. Let's now move on to more formal machine learning."
   ]
  }
 ],
 "metadata": {
  "hide_input": false,
  "kernelspec": {
   "display_name": "Python 3",
   "language": "python",
   "name": "python3"
  },
  "language_info": {
   "codemirror_mode": {
    "name": "ipython",
    "version": 3
   },
   "file_extension": ".py",
   "mimetype": "text/x-python",
   "name": "python",
   "nbconvert_exporter": "python",
   "pygments_lexer": "ipython3",
   "version": "3.7.3"
  }
 },
 "nbformat": 4,
 "nbformat_minor": 2
}
