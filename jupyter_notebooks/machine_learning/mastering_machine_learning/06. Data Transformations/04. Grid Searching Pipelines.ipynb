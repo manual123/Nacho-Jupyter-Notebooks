{
 "cells": [
  {
   "cell_type": "markdown",
   "metadata": {},
   "source": [
    "# Grid Searching Pipelines\n",
    "\n",
    "Our pipelines in the previous chapter can be grid searched to find the optimal values for the hyperparameters. scikit-learn provides us the ability to not only optimize the hyperparameters of the machine learning estimator within the pipeline, but of the transformers as well. Let's begin by reading in our data selecting the same features as the previous chapter."
   ]
  },
  {
   "cell_type": "code",
   "execution_count": null,
   "metadata": {},
   "outputs": [],
   "source": [
    "import pandas as pd\n",
    "housing = pd.read_csv('../data/housing_sample.csv')\n",
    "X = housing[['GrLivArea', 'GarageArea', 'LotFrontage', 'OverallQual']]\n",
    "y = housing['SalePrice']\n",
    "X.head()"
   ]
  },
  {
   "cell_type": "markdown",
   "metadata": {},
   "source": [
    "Let's rebuild the three steps of our previous pipeline by importing and instantiating each estimator with its default hyperparameters. Even though the `SimpleImputer` and `StandardScaler` are not machine learning models, we can consider the values used during instantiation as hyperparameters."
   ]
  },
  {
   "cell_type": "code",
   "execution_count": null,
   "metadata": {},
   "outputs": [],
   "source": [
    "from sklearn.impute import SimpleImputer\n",
    "from sklearn.preprocessing import StandardScaler\n",
    "from sklearn.tree import DecisionTreeRegressor\n",
    "from sklearn.pipeline import Pipeline\n",
    "si = SimpleImputer()\n",
    "ss = StandardScaler()\n",
    "dtr = DecisionTreeRegressor()\n",
    "steps = [('si', si), ('ss', ss), ('dtr', dtr)]\n",
    "pipe = Pipeline(steps)"
   ]
  },
  {
   "cell_type": "markdown",
   "metadata": {},
   "source": [
    "### Cross Validated Scores\n",
    "\n",
    "We were able to use this pipeline to get cross-validated scores but did not tune any of the hyperparameters. Let's repeat our cross-validated results."
   ]
  },
  {
   "cell_type": "code",
   "execution_count": null,
   "metadata": {},
   "outputs": [],
   "source": [
    "from sklearn.model_selection import cross_val_score, KFold\n",
    "kf = KFold(n_splits=5, shuffle=True, random_state=123)\n",
    "cross_val_score(pipe, X, y, cv=kf).mean()"
   ]
  },
  {
   "cell_type": "markdown",
   "metadata": {},
   "source": [
    "## Using `GridSearchCV` on a pipeline\n",
    "\n",
    "It is possible to use the `GridSearchCV` meta-estimator on a pipeline, but there are special rules that apply. The hyperparameter names that appear in the grid are still strings, but must follow the **name** of the pipeline step and be separated from it by two underscores. For instance, to search the `max_depth` hyperparmaeter of the decision tree, we use the string `dtr__max_depth`. The grid below is used to search both the decision tree and the `SimpleImputer`. The `StandardScaler` does have hyperparameters to control whether or not to use the mean and standard deviation when scaling, but we choose not to deviate from the defaults."
   ]
  },
  {
   "cell_type": "code",
   "execution_count": null,
   "metadata": {},
   "outputs": [],
   "source": [
    "from sklearn.model_selection import GridSearchCV\n",
    "grid = {'dtr__max_depth': range(4, 10),\n",
    "        'dtr__min_samples_leaf': [10, 20, 30, 40],\n",
    "        'si__strategy': ['mean', 'median', 'most_frequent']}\n",
    "gs = GridSearchCV(pipe, grid, cv=kf)\n",
    "gs.fit(X, y);"
   ]
  },
  {
   "cell_type": "markdown",
   "metadata": {},
   "source": [
    "Let's retrieve the best hyperparameter combination and the score."
   ]
  },
  {
   "cell_type": "code",
   "execution_count": null,
   "metadata": {},
   "outputs": [],
   "source": [
    "gs.best_params_"
   ]
  },
  {
   "cell_type": "code",
   "execution_count": null,
   "metadata": {
    "scrolled": true
   },
   "outputs": [],
   "source": [
    "gs.best_score_"
   ]
  },
  {
   "cell_type": "markdown",
   "metadata": {},
   "source": [
    "The results are easier to read when visualized in a table."
   ]
  },
  {
   "cell_type": "code",
   "execution_count": null,
   "metadata": {},
   "outputs": [],
   "source": [
    "df_results = pd.DataFrame(gs.cv_results_)\n",
    "df_results.pivot_table(index='param_dtr__max_depth',\n",
    "                       columns=['param_si__strategy', 'param_dtr__min_samples_leaf'],\n",
    "                       values='mean_test_score').round(3) \\\n",
    "          .style.background_gradient('coolwarm', axis=None)"
   ]
  },
  {
   "cell_type": "markdown",
   "metadata": {},
   "source": [
    "We can assign the best pipeline to its own variable for use in the future."
   ]
  },
  {
   "cell_type": "code",
   "execution_count": null,
   "metadata": {},
   "outputs": [],
   "source": [
    "pipe_best = gs.best_estimator_"
   ]
  },
  {
   "cell_type": "markdown",
   "metadata": {},
   "source": [
    "### All steps of the pipeline can be searched\n",
    "\n",
    "Each step of the pipeline may be part of the grid search. Reference the hyperparmeter by separating the name of the step and the hyperparameter name with two consecutive underscores."
   ]
  },
  {
   "cell_type": "markdown",
   "metadata": {},
   "source": [
    "## Exercises"
   ]
  },
  {
   "cell_type": "markdown",
   "metadata": {},
   "source": [
    "### Exercise 1\n",
    "\n",
    "<span  style=\"color:green; font-size:16px\">Create different pipelines and grid search them to find the best parameters.</span>"
   ]
  },
  {
   "cell_type": "code",
   "execution_count": null,
   "metadata": {},
   "outputs": [],
   "source": []
  },
  {
   "cell_type": "markdown",
   "metadata": {},
   "source": [
    "### Exercise 2\n",
    "\n",
    "<span  style=\"color:green; font-size:16px\">Make a grid with a large number of combinations and use randomized search to choose the hyperparameters.</span>"
   ]
  },
  {
   "cell_type": "code",
   "execution_count": null,
   "metadata": {},
   "outputs": [],
   "source": []
  }
 ],
 "metadata": {
  "kernelspec": {
   "display_name": "Python 3",
   "language": "python",
   "name": "python3"
  },
  "language_info": {
   "codemirror_mode": {
    "name": "ipython",
    "version": 3
   },
   "file_extension": ".py",
   "mimetype": "text/x-python",
   "name": "python",
   "nbconvert_exporter": "python",
   "pygments_lexer": "ipython3",
   "version": "3.7.5"
  }
 },
 "nbformat": 4,
 "nbformat_minor": 2
}
