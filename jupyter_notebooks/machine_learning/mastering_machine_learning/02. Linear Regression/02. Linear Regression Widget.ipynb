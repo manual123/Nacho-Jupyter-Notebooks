{
 "cells": [
  {
   "cell_type": "markdown",
   "metadata": {},
   "source": [
    "# Linear Regression Widget\n",
    "\n",
    "In the last chapter, we iterated through combinations of coefficients to calculate their $R^2$ value. In this chapter, a simple web application is built that allows you to choose the feature you want to predict housing price and the possible coefficients. The application is built with a dropdown menu and two sliders provided from [Jupyter Widgets][1].\n",
    "\n",
    "[1]: https://ipywidgets.readthedocs.io/en/stable"
   ]
  },
  {
   "cell_type": "code",
   "execution_count": null,
   "metadata": {},
   "outputs": [],
   "source": [
    "from ipywidgets import interact, Dropdown, FloatSlider\n",
    "import matplotlib.pyplot as plt\n",
    "import pandas as pd\n",
    "import numpy as np"
   ]
  },
  {
   "cell_type": "code",
   "execution_count": null,
   "metadata": {},
   "outputs": [],
   "source": [
    "housing = pd.read_csv('../data/housing_sample.csv')\n",
    "housing.head()"
   ]
  },
  {
   "cell_type": "code",
   "execution_count": null,
   "metadata": {
    "scrolled": false
   },
   "outputs": [],
   "source": [
    "%matplotlib notebook\n",
    "fig, ax = plt.subplots(figsize=(8, 5))\n",
    "cols = ['LotFrontage', 'GrLivArea', 'GarageArea']\n",
    "dd = Dropdown(options=cols, value='GrLivArea')\n",
    "w0_slider = FloatSlider()\n",
    "w1_slider = FloatSlider()\n",
    "\n",
    "def scatter(feature):\n",
    "    ax.clear()\n",
    "    hs = housing.sort_values(feature).dropna()\n",
    "    hs.plot(x=feature, y='SalePrice', kind='scatter', ax=ax)\n",
    "    \n",
    "    hs_head = hs.head(100)\n",
    "    hs_tail = hs.tail(100)\n",
    "    y2, y1 = hs_head['SalePrice'].values, hs_tail['SalePrice'].values\n",
    "    x2, x1 = hs_head[feature].values, hs_tail[feature].values\n",
    "    slopes = (y2 - y1) / (x2 - x1)\n",
    "    intercepts = (-slopes * x2 + y2)\n",
    "    \n",
    "    med_intercepts = np.nanmedian(intercepts)\n",
    "    std_intercepts = np.nanstd(intercepts)\n",
    "    med_slopes = np.nanmedian(slopes)\n",
    "    std_slopes = np.nanstd(slopes)\n",
    "    \n",
    "    w0_slider.set_trait('value', med_intercepts)\n",
    "    w0_slider.set_trait('min', med_intercepts - 3 * std_intercepts)\n",
    "    w0_slider.set_trait('max', med_intercepts + 3 * std_intercepts)\n",
    "    w1_slider.set_trait('value', med_slopes)\n",
    "    w1_slider.set_trait('min', med_slopes - 3 * std_slopes)\n",
    "    w1_slider.set_trait('max', med_slopes + 3 * std_slopes)\n",
    "    \n",
    "def pick_w(w0, w1):\n",
    "    for line in ax.lines:\n",
    "        line.remove()\n",
    "    col = dd.get_interact_value()\n",
    "    x = housing[col]\n",
    "    y = housing['SalePrice']\n",
    "    x_plot = x.agg(['min', 'max']).values\n",
    "    ax.plot(x_plot, w0 + w1 * x_plot, color='red')\n",
    "    ax.set_ylim(y.min() * -1.1, y.max() * 1.1)\n",
    "    y_pred = w0 + w1 * x\n",
    "    sse = ((y - y_pred) ** 2).sum()\n",
    "    variance = ((y - y.mean()) ** 2).sum()\n",
    "    r2 = (variance - sse) / variance\n",
    "    ax.set_title(f'$R^2$ = {r2:.2f}')\n",
    "    \n",
    "interact(scatter, feature=dd)\n",
    "interact(pick_w, w0=w0_slider, w1=w1_slider)"
   ]
  },
  {
   "cell_type": "code",
   "execution_count": null,
   "metadata": {},
   "outputs": [],
   "source": []
  }
 ],
 "metadata": {
  "kernelspec": {
   "display_name": "Python 3",
   "language": "python",
   "name": "python3"
  },
  "language_info": {
   "codemirror_mode": {
    "name": "ipython",
    "version": 3
   },
   "file_extension": ".py",
   "mimetype": "text/x-python",
   "name": "python",
   "nbconvert_exporter": "python",
   "pygments_lexer": "ipython3",
   "version": "3.7.3"
  }
 },
 "nbformat": 4,
 "nbformat_minor": 2
}
