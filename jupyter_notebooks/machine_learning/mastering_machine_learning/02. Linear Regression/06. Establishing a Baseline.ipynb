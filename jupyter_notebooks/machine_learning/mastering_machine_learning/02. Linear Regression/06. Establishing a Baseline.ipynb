{
 "cells": [
  {
   "cell_type": "markdown",
   "metadata": {},
   "source": [
    "# Establishing a Baseline\n",
    "\n",
    "For most human endeavors it helps to begin by establishing a baseline. This baseline may be used to track performance over time. For instance, if you have decided to lose weight, a baseline would be your starting weight. You could also track the exact number and type of calories you eat for a few weeks before beginning any sort of diet. Similar baselines can be made for lifting weights, running, learning data science, etc... Without establishing a baseline, tracking progress becomes more difficult.\n",
    "\n",
    "### No previous baseline was established\n",
    "\n",
    "In our previous work with the housing dataset, we never established a baseline. We went straight into modeling with a single-variable linear regression. Let's read in the housing dataset and reproduce this result."
   ]
  },
  {
   "cell_type": "code",
   "execution_count": null,
   "metadata": {},
   "outputs": [],
   "source": [
    "import pandas as pd\n",
    "import numpy as np\n",
    "housing = pd.read_csv('../data/housing_sample.csv')\n",
    "housing.head()"
   ]
  },
  {
   "cell_type": "code",
   "execution_count": null,
   "metadata": {},
   "outputs": [],
   "source": [
    "X = housing[['GrLivArea']]\n",
    "y = housing['SalePrice']\n",
    "\n",
    "from sklearn.linear_model import LinearRegression\n",
    "lr = LinearRegression()\n",
    "lr.fit(X, y)\n",
    "lr.score(X, y)"
   ]
  },
  {
   "cell_type": "markdown",
   "metadata": {},
   "source": [
    "## How to establish a baseline?\n",
    "\n",
    "A typical baseline is going to be a very simple model that we can build without much thought. A common simple model for supervised regression is predicting the same value for each observation, such as the mean or median.\n",
    "\n",
    "### A baseline is built into linear regression\n",
    "\n",
    "By definition, predicting the mean for every observation yields an $R^2$ of exactly 0. Remembering that the equation for $R^2$ is $1 - \\frac{SSE_{model}}{SSE_{mean}}$, then using the mean as our model should make it clear that $R^2$ would be in fact 0."
   ]
  },
  {
   "cell_type": "markdown",
   "metadata": {},
   "source": [
    "## The `dummy` module\n",
    "\n",
    "There actually exists a formal estimator for building a baseline in scikit-learn. The `DummyRegressor`, found in the `dummy` module, defaults to predicting the mean for each observation. The input data is completed ignored during the `fit` method."
   ]
  },
  {
   "cell_type": "code",
   "execution_count": null,
   "metadata": {},
   "outputs": [],
   "source": [
    "from sklearn.dummy import DummyRegressor\n",
    "dr = DummyRegressor()\n",
    "dr.fit(X, y)\n",
    "dr.predict(X)"
   ]
  },
  {
   "cell_type": "markdown",
   "metadata": {},
   "source": [
    "Let's verify that the mean of the sale price is what the `DummyRegressor` predicts."
   ]
  },
  {
   "cell_type": "code",
   "execution_count": null,
   "metadata": {},
   "outputs": [],
   "source": [
    "y.mean()"
   ]
  },
  {
   "cell_type": "markdown",
   "metadata": {},
   "source": [
    "Use the `score` method to verify that $R^2$ is 0."
   ]
  },
  {
   "cell_type": "code",
   "execution_count": null,
   "metadata": {},
   "outputs": [],
   "source": [
    "dr.score(X, y)"
   ]
  },
  {
   "cell_type": "markdown",
   "metadata": {},
   "source": [
    "### A negative $R^2$ means you have a terrible model\n",
    "\n",
    "If you build a model that has a negative value for $R^2$, you have built a terrible model that cannot beat a baseline of guessing the mean.\n",
    "\n",
    "### Slowly build more complex models\n",
    "\n",
    "When doing machine learning, it's good practice to begin with a simple baseline model. Then, slowly and incrementally build more complex models while recording the score so that you can track progress."
   ]
  },
  {
   "cell_type": "markdown",
   "metadata": {},
   "source": [
    "## Exercises"
   ]
  },
  {
   "cell_type": "markdown",
   "metadata": {},
   "source": [
    "### Problem 1\n",
    "<span  style=\"color:green; font-size:16px\">Use the DummyRegressor on other numeric features and verify that r-squared is 0.</span>"
   ]
  },
  {
   "cell_type": "code",
   "execution_count": null,
   "metadata": {},
   "outputs": [],
   "source": []
  }
 ],
 "metadata": {
  "kernelspec": {
   "display_name": "Python 3",
   "language": "python",
   "name": "python3"
  },
  "language_info": {
   "codemirror_mode": {
    "name": "ipython",
    "version": 3
   },
   "file_extension": ".py",
   "mimetype": "text/x-python",
   "name": "python",
   "nbconvert_exporter": "python",
   "pygments_lexer": "ipython3",
   "version": "3.7.5"
  }
 },
 "nbformat": 4,
 "nbformat_minor": 2
}
