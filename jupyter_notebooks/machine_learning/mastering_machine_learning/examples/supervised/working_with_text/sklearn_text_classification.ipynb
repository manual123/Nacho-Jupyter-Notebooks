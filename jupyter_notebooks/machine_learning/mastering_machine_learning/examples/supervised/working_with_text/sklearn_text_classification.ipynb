{
 "cells": [
  {
   "cell_type": "code",
   "execution_count": 1,
   "metadata": {},
   "outputs": [],
   "source": [
    "import numpy as np\n",
    "import pandas as pd\n",
    "import sklearn"
   ]
  },
  {
   "cell_type": "code",
   "execution_count": 2,
   "metadata": {},
   "outputs": [
    {
     "name": "stdout",
     "output_type": "stream",
     "text": [
      "0.22.2.post1\n"
     ]
    }
   ],
   "source": [
    "print(sklearn.__version__)"
   ]
  },
  {
   "cell_type": "code",
   "execution_count": 3,
   "metadata": {},
   "outputs": [],
   "source": [
    "df = pd.read_csv('data/training_data.csv').convert_dtypes()"
   ]
  },
  {
   "cell_type": "code",
   "execution_count": 4,
   "metadata": {},
   "outputs": [
    {
     "data": {
      "text/html": [
       "<div>\n",
       "<style scoped>\n",
       "    .dataframe tbody tr th:only-of-type {\n",
       "        vertical-align: middle;\n",
       "    }\n",
       "\n",
       "    .dataframe tbody tr th {\n",
       "        vertical-align: top;\n",
       "    }\n",
       "\n",
       "    .dataframe thead th {\n",
       "        text-align: right;\n",
       "    }\n",
       "</style>\n",
       "<table border=\"1\" class=\"dataframe\">\n",
       "  <thead>\n",
       "    <tr style=\"text-align: right;\">\n",
       "      <th></th>\n",
       "      <th>Skill_Knowledge</th>\n",
       "      <th>Label</th>\n",
       "    </tr>\n",
       "  </thead>\n",
       "  <tbody>\n",
       "    <tr>\n",
       "      <th>0</th>\n",
       "      <td>.NET</td>\n",
       "      <td>.Net</td>\n",
       "    </tr>\n",
       "    <tr>\n",
       "      <th>1</th>\n",
       "      <td>.NET CORE</td>\n",
       "      <td>.Net</td>\n",
       "    </tr>\n",
       "    <tr>\n",
       "      <th>2</th>\n",
       "      <td>A.I.</td>\n",
       "      <td>Artificial Intelligence</td>\n",
       "    </tr>\n",
       "    <tr>\n",
       "      <th>3</th>\n",
       "      <td>A-I</td>\n",
       "      <td>Artificial Intelligence</td>\n",
       "    </tr>\n",
       "    <tr>\n",
       "      <th>4</th>\n",
       "      <td>ACCESS</td>\n",
       "      <td>Access</td>\n",
       "    </tr>\n",
       "    <tr>\n",
       "      <th>...</th>\n",
       "      <td>...</td>\n",
       "      <td>...</td>\n",
       "    </tr>\n",
       "    <tr>\n",
       "      <th>144</th>\n",
       "      <td>VOICE RECOGNITION</td>\n",
       "      <td>Voice Recognition</td>\n",
       "    </tr>\n",
       "    <tr>\n",
       "      <th>145</th>\n",
       "      <td>WEB APPLICATION DEVELOPMENT</td>\n",
       "      <td>Web Development</td>\n",
       "    </tr>\n",
       "    <tr>\n",
       "      <th>146</th>\n",
       "      <td>WEB APPLICATIONS DEVELOPMENT</td>\n",
       "      <td>Web Development</td>\n",
       "    </tr>\n",
       "    <tr>\n",
       "      <th>147</th>\n",
       "      <td>WEB DEV</td>\n",
       "      <td>Web Development</td>\n",
       "    </tr>\n",
       "    <tr>\n",
       "      <th>148</th>\n",
       "      <td>WEB DEVELOPMENT</td>\n",
       "      <td>Web Development</td>\n",
       "    </tr>\n",
       "  </tbody>\n",
       "</table>\n",
       "<p>149 rows × 2 columns</p>\n",
       "</div>"
      ],
      "text/plain": [
       "                  Skill_Knowledge                    Label\n",
       "0                            .NET                     .Net\n",
       "1                       .NET CORE                     .Net\n",
       "2                            A.I.  Artificial Intelligence\n",
       "3                             A-I  Artificial Intelligence\n",
       "4                          ACCESS                   Access\n",
       "..                            ...                      ...\n",
       "144             VOICE RECOGNITION        Voice Recognition\n",
       "145   WEB APPLICATION DEVELOPMENT          Web Development\n",
       "146  WEB APPLICATIONS DEVELOPMENT          Web Development\n",
       "147                       WEB DEV          Web Development\n",
       "148               WEB DEVELOPMENT          Web Development\n",
       "\n",
       "[149 rows x 2 columns]"
      ]
     },
     "execution_count": 4,
     "metadata": {},
     "output_type": "execute_result"
    }
   ],
   "source": [
    "df"
   ]
  },
  {
   "cell_type": "code",
   "execution_count": 5,
   "metadata": {},
   "outputs": [
    {
     "data": {
      "text/plain": [
       "Skill_Knowledge    string\n",
       "Label              string\n",
       "dtype: object"
      ]
     },
     "execution_count": 5,
     "metadata": {},
     "output_type": "execute_result"
    }
   ],
   "source": [
    "df.dtypes"
   ]
  },
  {
   "cell_type": "markdown",
   "metadata": {},
   "source": [
    "**REMINDER:** Machine learning models in scikit-learn expect the input data to always be two dimensional and will error if given one-dimensional data. These models allow the output data to be one-dimensional."
   ]
  },
  {
   "cell_type": "code",
   "execution_count": 6,
   "metadata": {},
   "outputs": [],
   "source": [
    "X_train = np.array(df.Skill_Knowledge.tolist())\n",
    "y_train_text = np.array(df.Label.tolist())"
   ]
  },
  {
   "cell_type": "code",
   "execution_count": 7,
   "metadata": {},
   "outputs": [
    {
     "data": {
      "text/plain": [
       "array(['.NET', '.NET CORE', 'A.I.', 'A-I', 'ACCESS', 'ACCESS VBA',\n",
       "       'ACTIVPLANT', 'AI', 'ASK', 'ASK NETWORK', 'ASP.NET',\n",
       "       'AZURE STUDIO', 'BI', 'B.I.', 'BIG DATA', 'B.O.', 'BO',\n",
       "       'BUSINESS INTELLIGENCE', 'BUSINESS OBJECTS', 'C', 'C#', 'C++',\n",
       "       'CAE', 'CAE SIMULATION', 'CATIA', 'CORE MQ', 'COREMQ',\n",
       "       'CRYSTAL REPORTS', 'CSS', 'DATABASE DEVELOPMENT', 'DB2', 'DBA',\n",
       "       'DEEP LEARNING', 'DISCRETE EVENT SIMULATION', 'DL', 'ELP GALC',\n",
       "       'ENOVIA', 'ETL', 'EXCEL', 'EXCEL VBA', 'FAILURE FORECASTING',\n",
       "       'FORECASTING', 'GALC', 'GIQ', 'GLOBAL INTELLIGENCE OF QUALITY',\n",
       "       'HADOOP', 'HAM GALC', 'HCM GALC', 'HIVE', 'HMA GALC', 'HMI GALC',\n",
       "       'HMIN GALC', 'HTML', 'IBM DB2', 'IBM QMF', 'IBM SPSS',\n",
       "       'IMAGE RECOGNITION', 'JAVA', 'JAVASCRIPT', 'JUPITER', 'JUPYTER',\n",
       "       'KERAS', 'KNIME', 'L.E.T.', 'L-E-T', 'LET', 'LOGISTICS',\n",
       "       'MACHINE INTELLIGENCE', 'MACHINE LEARNING', 'MARIA DB', 'MARIADB',\n",
       "       'MAXIMO', 'MICROSOFT ACCESS', 'MICROSOFT ACCESS VBA',\n",
       "       'MICROSOFT EXCEL', 'MICROSOFT EXCEL VBA', 'MICROSOFT POWER BI',\n",
       "       'MICROSOFT POWER POINT', 'MICROSOFT POWERPOINT',\n",
       "       'MICROSOFT SQL SERVER', 'ML', 'MONGO DB', 'MONGODB', 'MS ACCESS',\n",
       "       'MS ACCESS VBA', 'MS EXCEL', 'MS POWER POINT', 'MS POWERPOINT',\n",
       "       'MS SQL SERVER', 'MYSQL', 'NATURAL LANGUAGE PROCESSING',\n",
       "       'NEURAL NET', 'NEURAL NETWORK', 'NEURAL NETWORKS', 'NLP',\n",
       "       'NVISION', 'OPERATIONS RESEARCH', 'OR', 'O-R', 'ORACLE', 'PANDAS',\n",
       "       'PEOPLE SOFT', 'PEOPLESOFT', 'PLC', 'POSTGRES', 'POSTGRESQL',\n",
       "       'POWER BI', 'POWER POINT', 'POWERBI', 'POWERPOINT',\n",
       "       'PROGRAMMABLE LOGIC CONTROLLER', 'PROGRAMMING', 'PYSPARK',\n",
       "       'PYTHON', 'PYTORCH', 'QLIKVIEW', 'QMF', 'R', 'ROBOTICS', 'SAS',\n",
       "       'SCIKIT-LEARN', 'SHARE POINT', 'SHAREPOINT', 'SIMULATION',\n",
       "       'SKLEARN', 'SMART FACTORY', 'SOFTWARE DEVELOPMENT',\n",
       "       'SOFTWARE ENGINEERING', 'SPARK', 'SPSS', 'SQL', 'SQL SERVER',\n",
       "       'STATISTICS', 'STATS', 'STRUCTURED QUERY LANGUAGE', 'TABLEAU',\n",
       "       'TELEMATICS', 'TENSOR FLOW', 'TENSORFLOW', 'TF',\n",
       "       'TIME SERIES FORECASTING', 'TSQL', 'T-SQL', 'VBA',\n",
       "       'VOICE RECOGNITION', 'WEB APPLICATION DEVELOPMENT',\n",
       "       'WEB APPLICATIONS DEVELOPMENT', 'WEB DEV', 'WEB DEVELOPMENT'],\n",
       "      dtype='<U30')"
      ]
     },
     "execution_count": 7,
     "metadata": {},
     "output_type": "execute_result"
    }
   ],
   "source": [
    "X_train"
   ]
  },
  {
   "cell_type": "code",
   "execution_count": 8,
   "metadata": {},
   "outputs": [
    {
     "data": {
      "text/plain": [
       "array(['.Net', '.Net', 'Artificial Intelligence',\n",
       "       'Artificial Intelligence', 'Access', 'VBA', 'ActivPlant',\n",
       "       'Artificial Intelligence', 'ASK Network', 'ASK Network',\n",
       "       'Web Development', 'Azure Studio', 'Business Intelligence',\n",
       "       'Business Intelligence', 'Big Data', 'Business Objects',\n",
       "       'Business Objects', 'Business Intelligence', 'Business Objects',\n",
       "       'C', 'C#', 'C++', 'Computer Aided Engineering',\n",
       "       'Computer Aided Engineering', 'Catia', 'Core MQ', 'Core MQ',\n",
       "       'Crystal Reports', 'Web Development', 'Database Development',\n",
       "       'DB2', 'Database Development', 'Deep Learning', 'Simulation',\n",
       "       'Deep Learning', 'GALC', 'Enovia', 'ETL', 'Excel', 'VBA',\n",
       "       'Forecasting', 'Forecasting', 'GALC', 'GiQ', 'GiQ', 'Hadoop',\n",
       "       'GALC', 'GALC', 'Hive', 'GALC', 'GALC', 'GALC', 'Web Development',\n",
       "       'DB2', 'QMF', 'SPSS', 'Image Recognition', 'Java',\n",
       "       'Web Development', 'Jupyter', 'Jupyter', 'Keras', 'KNIME',\n",
       "       'L.E.T.', 'L.E.T.', 'L.E.T.', 'Logistics', 'Machine Learning',\n",
       "       'Machine Learning', 'MariaDB', 'MariaDB', 'Maximo', 'Access',\n",
       "       'VBA', 'Excel', 'VBA', 'Power BI', 'PowerPoint', 'PowerPoint',\n",
       "       'SQL Server', 'Machine Learning', 'MongoDB', 'MongoDB', 'Access',\n",
       "       'VBA', 'Excel', 'PowerPoint', 'PowerPoint', 'SQL Server', 'MySQL',\n",
       "       'Natural Language Processing', 'Neural Networks',\n",
       "       'Neural Networks', 'Neural Networks',\n",
       "       'Natural Language Processing', 'nVision', 'Operations Research',\n",
       "       'Operations Research', 'Operations Research', 'Oracle', 'Pandas',\n",
       "       'PeopleSoft', 'PeopleSoft', 'PLC', 'PostgreSQL', 'PostgreSQL',\n",
       "       'Power BI', 'PowerPoint', 'Power BI', 'PowerPoint', 'PLC',\n",
       "       'Programming', 'PySpark', 'Python', 'PyTorch', 'QlikView', 'QMF',\n",
       "       'R', 'Robotics', 'SAS', 'Scikit-Learn', 'SharePoint', 'SharePoint',\n",
       "       'Simulation', 'Scikit-Learn', 'Smart Factory', 'Programming',\n",
       "       'Programming', 'Spark', 'SPSS', 'SQL', 'SQL Server', 'Statistics',\n",
       "       'Statistics', 'SQL', 'Tableau', 'Telematics', 'TensorFlow',\n",
       "       'TensorFlow', 'TensorFlow', 'Forecasting', 'SQL', 'SQL', 'VBA',\n",
       "       'Voice Recognition', 'Web Development', 'Web Development',\n",
       "       'Web Development', 'Web Development'], dtype='<U27')"
      ]
     },
     "execution_count": 8,
     "metadata": {},
     "output_type": "execute_result"
    }
   ],
   "source": [
    "y_train_text"
   ]
  },
  {
   "cell_type": "code",
   "execution_count": 9,
   "metadata": {},
   "outputs": [],
   "source": [
    "from sklearn.preprocessing import LabelEncoder\n",
    "from sklearn.pipeline import Pipeline\n",
    "from sklearn.feature_extraction.text import CountVectorizer\n",
    "from sklearn.feature_extraction.text import TfidfTransformer\n",
    "from sklearn.naive_bayes import MultinomialNB\n",
    "from sklearn.linear_model import SGDClassifier"
   ]
  },
  {
   "cell_type": "code",
   "execution_count": 10,
   "metadata": {},
   "outputs": [],
   "source": [
    "label_enc = LabelEncoder()\n",
    "Y = label_enc.fit_transform(y_train_text)"
   ]
  },
  {
   "cell_type": "code",
   "execution_count": 11,
   "metadata": {},
   "outputs": [
    {
     "data": {
      "text/plain": [
       "array([ 0,  0,  4,  4,  2, 70,  3,  4,  1,  1, 72,  5,  7,  7,  6,  8,  8,\n",
       "        7,  8,  9, 10, 11, 13, 13, 12, 14, 14, 15, 72, 17, 16, 17, 18, 63,\n",
       "       18, 23, 20, 19, 21, 70, 22, 22, 23, 24, 24, 25, 23, 23, 26, 23, 23,\n",
       "       23, 72, 16, 53, 58, 27, 28, 72, 29, 29, 31, 30, 32, 32, 32, 33, 34,\n",
       "       34, 35, 35, 36,  2, 70, 21, 70, 47, 48, 48, 60, 34, 37, 37,  2, 70,\n",
       "       21, 48, 48, 60, 38, 39, 40, 40, 40, 39, 73, 41, 41, 41, 42, 44, 45,\n",
       "       45, 43, 46, 46, 47, 48, 47, 48, 43, 49, 50, 52, 51, 54, 53, 55, 56,\n",
       "       57, 61, 62, 62, 63, 61, 64, 49, 49, 65, 58, 59, 60, 66, 66, 59, 67,\n",
       "       68, 69, 69, 69, 22, 59, 59, 70, 71, 72, 72, 72, 72], dtype=int64)"
      ]
     },
     "execution_count": 11,
     "metadata": {},
     "output_type": "execute_result"
    }
   ],
   "source": [
    "Y"
   ]
  },
  {
   "cell_type": "code",
   "execution_count": 12,
   "metadata": {},
   "outputs": [
    {
     "data": {
      "text/plain": [
       "(149,)"
      ]
     },
     "execution_count": 12,
     "metadata": {},
     "output_type": "execute_result"
    }
   ],
   "source": [
    "Y.shape"
   ]
  },
  {
   "cell_type": "code",
   "execution_count": 13,
   "metadata": {},
   "outputs": [
    {
     "data": {
      "text/plain": [
       "(149,)"
      ]
     },
     "execution_count": 13,
     "metadata": {},
     "output_type": "execute_result"
    }
   ],
   "source": [
    "X_train.shape"
   ]
  },
  {
   "cell_type": "code",
   "execution_count": 14,
   "metadata": {},
   "outputs": [],
   "source": [
    "classifier = Pipeline([\n",
    "    ('vect', CountVectorizer()),\n",
    "    ('tfidf', TfidfTransformer()),\n",
    "    ('clf', SGDClassifier(loss='hinge', penalty='l2',\n",
    "                          alpha=0.0001, random_state=42,\n",
    "                          max_iter=100, tol=None))])"
   ]
  },
  {
   "cell_type": "code",
   "execution_count": 15,
   "metadata": {},
   "outputs": [
    {
     "data": {
      "text/plain": [
       "Pipeline(memory=None,\n",
       "         steps=[('vect',\n",
       "                 CountVectorizer(analyzer='word', binary=False,\n",
       "                                 decode_error='strict',\n",
       "                                 dtype=<class 'numpy.int64'>, encoding='utf-8',\n",
       "                                 input='content', lowercase=True, max_df=1.0,\n",
       "                                 max_features=None, min_df=1,\n",
       "                                 ngram_range=(1, 1), preprocessor=None,\n",
       "                                 stop_words=None, strip_accents=None,\n",
       "                                 token_pattern='(?u)\\\\b\\\\w\\\\w+\\\\b',\n",
       "                                 tokenizer=None, vocabulary=Non...\n",
       "                ('clf',\n",
       "                 SGDClassifier(alpha=0.0001, average=False, class_weight=None,\n",
       "                               early_stopping=False, epsilon=0.1, eta0=0.0,\n",
       "                               fit_intercept=True, l1_ratio=0.15,\n",
       "                               learning_rate='optimal', loss='hinge',\n",
       "                               max_iter=100, n_iter_no_change=5, n_jobs=None,\n",
       "                               penalty='l2', power_t=0.5, random_state=42,\n",
       "                               shuffle=True, tol=None, validation_fraction=0.1,\n",
       "                               verbose=0, warm_start=False))],\n",
       "         verbose=False)"
      ]
     },
     "execution_count": 15,
     "metadata": {},
     "output_type": "execute_result"
    }
   ],
   "source": [
    "classifier.fit(X_train, Y)"
   ]
  },
  {
   "cell_type": "code",
   "execution_count": 16,
   "metadata": {},
   "outputs": [],
   "source": [
    "X_test = np.array(['MS EXCEL',\n",
    "                   'AI',\n",
    "                   'TF',\n",
    "                   'MICROSOFT EXCEL',\n",
    "                   'TIME SERIES FORECASTING'\n",
    "                  ])"
   ]
  },
  {
   "cell_type": "code",
   "execution_count": 17,
   "metadata": {},
   "outputs": [],
   "source": [
    "predicted = classifier.predict(X_test)\n",
    "all_labels = label_enc.inverse_transform(predicted)"
   ]
  },
  {
   "cell_type": "code",
   "execution_count": 18,
   "metadata": {},
   "outputs": [
    {
     "data": {
      "text/plain": [
       "array(['Excel', 'Artificial Intelligence', 'TensorFlow', 'Excel',\n",
       "       'Forecasting'], dtype='<U27')"
      ]
     },
     "execution_count": 18,
     "metadata": {},
     "output_type": "execute_result"
    }
   ],
   "source": [
    "all_labels"
   ]
  },
  {
   "cell_type": "code",
   "execution_count": 19,
   "metadata": {},
   "outputs": [
    {
     "name": "stdout",
     "output_type": "stream",
     "text": [
      "MS EXCEL => Excel\n",
      "AI => Artificial Intelligence\n",
      "TF => TensorFlow\n",
      "MICROSOFT EXCEL => Excel\n",
      "TIME SERIES FORECASTING => Forecasting\n"
     ]
    }
   ],
   "source": [
    "for item, label in zip(X_test, all_labels):\n",
    "    if item in X_train:\n",
    "        print(f\"{item} => {label}\")\n",
    "    else:\n",
    "        print(f\"{item} => {item} - No label used, not in training data\")"
   ]
  }
 ],
 "metadata": {
  "kernelspec": {
   "display_name": "Python 3",
   "language": "python",
   "name": "python3"
  },
  "language_info": {
   "codemirror_mode": {
    "name": "ipython",
    "version": 3
   },
   "file_extension": ".py",
   "mimetype": "text/x-python",
   "name": "python",
   "nbconvert_exporter": "python",
   "pygments_lexer": "ipython3",
   "version": "3.7.6"
  }
 },
 "nbformat": 4,
 "nbformat_minor": 4
}
