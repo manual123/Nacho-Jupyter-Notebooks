{
 "cells": [
  {
   "cell_type": "markdown",
   "metadata": {},
   "source": [
    "<center><h1>LaTex Tutorial</h1></center>"
   ]
  },
  {
   "cell_type": "markdown",
   "metadata": {},
   "source": [
    "I used this [link](http://www.maths.tcd.ie/~dwilkins/LaTeXPrimer/) for reference."
   ]
  },
  {
   "cell_type": "markdown",
   "metadata": {},
   "source": [
    "###How to make fractions:"
   ]
  },
  {
   "cell_type": "markdown",
   "metadata": {},
   "source": [
    "\\frac{numerator}{denominator} = $\\frac{numerator}{denominator}$"
   ]
  },
  {
   "cell_type": "markdown",
   "metadata": {},
   "source": [
    "###How to create exponent / raise a number to the x power:"
   ]
  },
  {
   "cell_type": "markdown",
   "metadata": {},
   "source": [
    "number^x = $number^x$"
   ]
  },
  {
   "cell_type": "markdown",
   "metadata": {},
   "source": [
    "###How to increase the size of the font:"
   ]
  },
  {
   "cell_type": "markdown",
   "metadata": {},
   "source": [
    "\\huge{\\frac{numerator}{denominator}} = $\\huge{\\frac{numerator}{denominator}}$"
   ]
  },
  {
   "cell_type": "markdown",
   "metadata": {},
   "source": [
    "Here are the other sizes: \\tiny, \\scriptsize, \\footnotesize, \\small, \\normalsize, \\large, and \\huge"
   ]
  },
  {
   "cell_type": "markdown",
   "metadata": {},
   "source": [
    "### How to insert math symbols:"
   ]
  },
  {
   "cell_type": "markdown",
   "metadata": {},
   "source": [
    "[Link](http://www.maths.tcd.ie/~dwilkins/LaTeXPrimer/GreekLetters.html) to web site for a more complete list"
   ]
  },
  {
   "cell_type": "markdown",
   "metadata": {},
   "source": [
    "\\pi = $\\pi$<br>\n",
    "\\alpha = $\\alpha$<br>\n",
    "\\beta = $\\beta$<br>\n",
    "\\pm = $\\pm$<br>\n",
    "\\sqrt{x^2} = $\\sqrt{x^2}$"
   ]
  }
 ],
 "metadata": {
  "hide_input": false,
  "kernelspec": {
   "display_name": "Python 3",
   "language": "python",
   "name": "python3"
  },
  "language_info": {
   "codemirror_mode": {
    "name": "ipython",
    "version": 3
   },
   "file_extension": ".py",
   "mimetype": "text/x-python",
   "name": "python",
   "nbconvert_exporter": "python",
   "pygments_lexer": "ipython3",
   "version": "3.5.1"
  }
 },
 "nbformat": 4,
 "nbformat_minor": 0
}
