{
 "cells": [
  {
   "cell_type": "markdown",
   "metadata": {
    "run_control": {
     "read_only": false
    }
   },
   "source": [
    "# Building Python 3 Environment in Linux OS"
   ]
  },
  {
   "cell_type": "markdown",
   "metadata": {},
   "source": [
    "**From terminal, enter these commands:**"
   ]
  },
  {
   "cell_type": "code",
   "execution_count": null,
   "metadata": {
    "collapsed": true
   },
   "outputs": [],
   "source": [
    "sudo apt-get install build-essential libsqlite3-dev sqlite3 bzip2 libbz2-dev\n",
    "sudo apt-get install libreadline-dev libncursesw5-dev libncurses5-dev zlib1g-dev libssl-dev tk-dev\n",
    "wget https://www.python.org/ftp/python/3.5.1/Python-3.5.1.tar.xz  # or whatever the latest release version is\n",
    "tar xf Python-3.5.1.tar.xz\n",
    "cd Python-3.5.1\n",
    "./configure --prefix=/opt/python3.5.1\n",
    "make && sudo make install"
   ]
  },
  {
   "cell_type": "markdown",
   "metadata": {},
   "source": [
    "**Create a folder that will hold all your virtual environments that you create:**"
   ]
  },
  {
   "cell_type": "code",
   "execution_count": null,
   "metadata": {
    "collapsed": true
   },
   "outputs": [],
   "source": [
    "mkdir ~/envs"
   ]
  },
  {
   "cell_type": "markdown",
   "metadata": {},
   "source": [
    "**Locate full path of pyvenv command to create virtual environments, at terminal:**"
   ]
  },
  {
   "cell_type": "code",
   "execution_count": null,
   "metadata": {
    "collapsed": true
   },
   "outputs": [],
   "source": [
    "whereis pyvenv"
   ]
  },
  {
   "cell_type": "markdown",
   "metadata": {},
   "source": [
    "**Then enter these commands at terminal to create a \"jupyter\" virtual environment:**"
   ]
  },
  {
   "cell_type": "code",
   "execution_count": null,
   "metadata": {
    "collapsed": true
   },
   "outputs": [],
   "source": [
    "cd ~/envs    # move to envs directory\n",
    "/opt/python3.5.1/bin/pyvenv jupyter   # create jupyter virtual environment using Python 3.5's pyvenv\n",
    "cd jupyter  # move to jupyter directory which was created when issuing the pyvenv command\n",
    "source bin/activate  # activate the environment\n",
    "pip --version        # double-check the pip and python version"
   ]
  },
  {
   "cell_type": "markdown",
   "metadata": {},
   "source": [
    "**Then install/uninstall/update packages using pip commands:**"
   ]
  },
  {
   "cell_type": "code",
   "execution_count": null,
   "metadata": {
    "collapsed": true
   },
   "outputs": [],
   "source": [
    "pip install {package-name}\n",
    "pip install --update {package-name} or pip install -U {package-name}\n",
    "pip uninstall {package-name}"
   ]
  },
  {
   "cell_type": "markdown",
   "metadata": {},
   "source": [
    "**To view a list of installed packages in current environment:**"
   ]
  },
  {
   "cell_type": "code",
   "execution_count": null,
   "metadata": {
    "collapsed": true
   },
   "outputs": [],
   "source": [
    "pip freeze\n",
    "# or\n",
    "pip list"
   ]
  },
  {
   "cell_type": "markdown",
   "metadata": {},
   "source": [
    "**To deactivate environment, at terminal, just enter:`**"
   ]
  },
  {
   "cell_type": "code",
   "execution_count": null,
   "metadata": {
    "collapsed": true
   },
   "outputs": [],
   "source": [
    "deactivate"
   ]
  }
 ],
 "metadata": {
  "hide_input": false,
  "kernelspec": {
   "display_name": "Python 3",
   "language": "python",
   "name": "python3"
  },
  "language_info": {
   "codemirror_mode": {
    "name": "ipython",
    "version": 3
   },
   "file_extension": ".py",
   "mimetype": "text/x-python",
   "name": "python",
   "nbconvert_exporter": "python",
   "pygments_lexer": "ipython3",
   "version": "3.5.1"
  }
 },
 "nbformat": 4,
 "nbformat_minor": 0
}
