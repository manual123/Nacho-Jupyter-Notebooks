{
 "cells": [
  {
   "cell_type": "markdown",
   "metadata": {},
   "source": [
    "<center><h1>Python For Data Analysis Wiki</h1></center>"
   ]
  },
  {
   "cell_type": "markdown",
   "metadata": {},
   "source": [
    "This wiki does not cover teaching Python.  This wiki just points the reader to resources on how Python is used for data analysis."
   ]
  },
  {
   "cell_type": "markdown",
   "metadata": {
    "run_control": {
     "read_only": false
    }
   },
   "source": [
    "## Setting up a Python 3.X environment / Using virtual environments / Popular IDEs"
   ]
  },
  {
   "cell_type": "markdown",
   "metadata": {},
   "source": [
    "- **Ananconda / Miniconda3 distribution by Continuum Analytics (highly recommended for Windows users)**\n",
    "    - Get the Miniconda3 installer [here](http://conda.pydata.org/miniconda.html).  **Use Python 3!**\n",
    "    - [How-To conda command](http://nbviewer.jupyter.org/github/pybokeh/jupyter_notebooks/blob/master/conda/conda_howto.ipynb): making virtual environments, installing/uninstall packages, etc\n",
    "        - [Official Conda cheat sheet](http://conda.pydata.org/docs/_downloads/conda-cheatsheet.pdf)\n",
    "- **Linux** - Otherwise, Python 3.3+ comes with [pyvenv](https://docs.python.org/3.3/library/venv.html) command for creating virtual environments or use [virtualenv](http://docs.python-guide.org/en/latest/dev/virtualenvs/) library\n",
    "    - How I build a [Python 3 environment](http://nbviewer.jupyter.org/github/pybokeh/jupyter_notebooks/blob/master/wiki/Building_Python_3_Linux.ipynb) in Linux OS\n",
    "- **Popular IDEs or text editors**\n",
    "    - [PyCharm Community Edition](https://www.jetbrains.com/pycharm/features/) More resource intensive IDE\n",
    "    - [Sublime Text](https://www.sublimetext.com/) A fast, light-weight text editor\n",
    "        - [How I setup Sublime Text 3 for interactive data analysis](http://nbviewer.jupyter.org/github/pybokeh/jupyter_notebooks/blob/master/sublime_text/ST3_For_Interactive_Data_Analysis.ipynb)\n",
    "    - [Jupyter Notebook](http://jupyter.org/) (not an IDE, but very useful for exploratory data analysis and reproducibility.  Also check out [literate programming](https://en.wikipedia.org/wiki/Literate_programming)).\n",
    "        - [Installing and setting up jupyter notebook server](http://nbviewer.jupyter.org/github/pybokeh/jupyter_notebooks/blob/master/jupyter/Installing_Jupyter_Notebook_Server.ipynb)\n",
    "    - [Yhat Rodeo](https://www.yhat.com/products/rodeo) An IDE for data science\n",
    "    - [Spyder IDE](https://pythonhosted.org/spyder/) (more familiar to people with MATLAB background)\n",
    "    - VIM :)"
   ]
  },
  {
   "cell_type": "markdown",
   "metadata": {},
   "source": [
    "## Data Ingestion From Various Sources"
   ]
  },
  {
   "cell_type": "markdown",
   "metadata": {},
   "source": [
    "- Reading several file types as input using [Pandas](http://pandas.pydata.org/pandas-docs/stable/io.html)\n",
    "- Connecting to an ODBC data source using [pyodbc](https://nbviewer.jupyter.org/github/pybokeh/jupyter_notebooks/blob/master/pandas/PandasCheatSheet.ipynb#database)  Drivers available for working with MySQL / MariaDB / PostgreSQL / or even ORDBs using SqlAlchemy\n",
    "- Web-scraping using [BeautifulSoup](http://www.crummy.com/software/BeautifulSoup/bs4/doc/) or [lxml](http://lxml.de/)\n",
    "- [Excel files](http://www.python-excel.org/)\n",
    "- \"Largish\" data ingestion using [Dask](http://dask.pydata.org) (data larger than RAM, but fits on hard drive, but allows you to use Pandas-like functions)"
   ]
  },
  {
   "cell_type": "markdown",
   "metadata": {},
   "source": [
    "## Data Clean-up / Transformation"
   ]
  },
  {
   "cell_type": "markdown",
   "metadata": {},
   "source": [
    "- [Tidying Data](https://www.ibm.com/developerworks/community/blogs/jfp/entry/Tidy_Data_In_Python?lang=en)\n",
    "- [Pandas Cheat Sheet](https://nbviewer.jupyter.org/github/pybokeh/jupyter_notebooks/blob/master/pandas/PandasCheatSheet.ipynb)\n",
    "- [Advanced pandas examples](http://nbviewer.jupyter.org/github/TomAugspurger/PyDataSeattle/tree/master/notebooks/)\n",
    "- Using [xlwings](https://nbviewer.jupyter.org/github/pybokeh/jupyter_notebooks/blob/master/xlwings/Excel_Formatting.ipynb) to replace Excel VBA"
   ]
  },
  {
   "cell_type": "markdown",
   "metadata": {},
   "source": [
    "## Data Visualization"
   ]
  },
  {
   "cell_type": "markdown",
   "metadata": {},
   "source": [
    "- [MATPLOTLIB](http://matplotlib.org/)\n",
    "    - But [this](http://nbviewer.jupyter.org/github/jrjohansson/scientific-python-lectures/blob/master/Lecture-4-Matplotlib.ipynb) should be the official tutorial\n",
    "- Don't forget, [pandas](http://pandas.pydata.org/pandas-docs/stable/visualization.html) has a wrapper around matplotlib, so you can plot [directly](http://pandas.pydata.org/pandas-docs/stable/api.html#api-dataframe-plotting) from pandas dataframes/series\n",
    "    - So you can do something like:\n",
    "    \n",
    "    df.plot.hist() or df.plot.bar() or df.plot.boxplot(), etc\n",
    "    \n",
    "    \n",
    "- [seaborn](https://stanford.edu/~mwaskom/software/seaborn/)  For more nicer-looking statistical charts\n",
    "- [bokeh](http://bokeh.pydata.org/en/latest/)  javascript-based\n",
    "- [plotly](https://plot.ly/python/)  javascript-based\n",
    "- [lightning](http://lightning-viz.org/)  javascript-based\n",
    "- Yhat [ggplot](http://blog.yhat.com/posts/ggplot-for-python.html) (development may have stagnated)\n",
    "- Dashboard frameworks similar to R's Shiny\n",
    "    - [Spyre](https://github.com/adamhajari/spyre/blob/master/README.md)\n",
    "    - [Pyxley](http://multithreaded.stitchfix.com/blog/2015/07/16/pyxley/)"
   ]
  },
  {
   "cell_type": "markdown",
   "metadata": {},
   "source": [
    "## Data Summarization / Statistics using Scipy, Numpy,  Statsmodels, Pandas stack"
   ]
  },
  {
   "cell_type": "markdown",
   "metadata": {},
   "source": [
    "- [Comparing 2 distributions using Mann-Whitney-Wilcoxon or Kolmogorov-Smirnov 2-Sample Tests](http://nbviewer.jupyter.org/github/pybokeh/jupyter_notebooks/blob/master/statistics/Comparing2Distributions.ipynb)\n",
    "- [Comparing distributions using rank sum test and one-way ANOVA](http://nbviewer.jupyter.org/github/pybokeh/jupyter_notebooks/blob/master/statistics/Distribution_Comparisons_and_ANOVA.ipynb)\n",
    "- [Distribution fitting and Q-Q Plot](http://nbviewer.jupyter.org/github/pybokeh/jupyter_notebooks/blob/master/statistics/Testing_For_Normality_and_Distribution_Fitting.ipynb)\n",
    "- [Intro to linear regression example](http://nbviewer.jupyter.org/github/pybokeh/jupyter_notebooks/blob/master/statistics/Intro_Linear_Regression.ipynb)\n",
    "- Bootstrap method\n",
    "- Shuffling method\n",
    "- Failure forecasting using [Weibull Analysis](http://nbviewer.jupyter.org/github/pybokeh/jupyter_notebooks/blob/master/weibull/Weibull_Analysis.ipynb)"
   ]
  },
  {
   "cell_type": "markdown",
   "metadata": {},
   "source": [
    "## For the aspiring Polyglot"
   ]
  },
  {
   "cell_type": "markdown",
   "metadata": {},
   "source": [
    "- Using R from Python from jupyter notebook using [rpy2](https://nbviewer.jupyter.org/github/pybokeh/jupyter_notebooks/blob/master/pandas/PandasCheatSheet.ipynb#rpy2)\n",
    "- Using Python from within R using [rPython](http://www.r-bloggers.com/calling-python-from-r-with-rpython/) (not Windows supported) [rPython-win](https://github.com/cjgb/rPython-win) (Windows support)\n",
    "- [Comparison](http://nbviewer.jupyter.org/urls/gist.githubusercontent.com/TomAugspurger/6e052140eaa5fdb6e8c0/raw/811585624e843f3f80b9b6fe89e18119d7d2d73c/dplyr_pandas.ipynb) of R's dplyr and Pandas\n",
    "- Python clone of R's dplyr called [dplython](https://github.com/dodger487/dplython)!\n",
    "    - My dplython and pandas [example](http://nbviewer.jupyter.org/github/pybokeh/jupyter_notebooks/blob/master/dplython/dplython_example.ipynb)\n",
    "- Using R's [forecast](http://nbviewer.jupyter.org/github/pybokeh/jupyter_notebooks/blob/master/R/Using_forecast_package.ipynb) library example\n",
    "- Other related polyglot technologies inspired by the Jupyter project\n",
    "    - [Beaker Notebook](http://beakernotebook.com/) (Java-based)\n",
    "    - [Apache Zeppelin](https://zeppelin.incubator.apache.org/) (Java-based)"
   ]
  },
  {
   "cell_type": "markdown",
   "metadata": {},
   "source": [
    "## Other useful resources"
   ]
  },
  {
   "cell_type": "markdown",
   "metadata": {},
   "source": [
    "- Probably the most [comprehensive resource](http://people.duke.edu/~ccc14/sta-663/) on using Python for scientific computing I have ever seen\n",
    "- Practical Business Python [website](http://pbpython.com/)\n",
    "- Chris Albon's Python and R [scripts](http://chrisalbon.com/)\n",
    "- [Gallery](https://github.com/ipython/ipython/wiki/A-gallery-of-interesting-IPython-Notebooks) of interesting jupyter notebooks\n",
    "- Most [viewed](http://nb.bianp.net/sort/views/) jupyter notebooks"
   ]
  }
 ],
 "metadata": {
  "hide_input": false,
  "kernelspec": {
   "display_name": "Python 3",
   "language": "python",
   "name": "python3"
  },
  "language_info": {
   "codemirror_mode": {
    "name": "ipython",
    "version": 3
   },
   "file_extension": ".py",
   "mimetype": "text/x-python",
   "name": "python",
   "nbconvert_exporter": "python",
   "pygments_lexer": "ipython3",
   "version": "3.5.1"
  },
  "toc": {
   "toc_cell": true,
   "toc_number_sections": false,
   "toc_section_display": "block",
   "toc_threshold": 6,
   "toc_window_display": false
  },
  "toc_position": {
   "height": "190px",
   "left": "828.062px",
   "right": "20px",
   "top": "120px",
   "width": "493px"
  }
 },
 "nbformat": 4,
 "nbformat_minor": 0
}
