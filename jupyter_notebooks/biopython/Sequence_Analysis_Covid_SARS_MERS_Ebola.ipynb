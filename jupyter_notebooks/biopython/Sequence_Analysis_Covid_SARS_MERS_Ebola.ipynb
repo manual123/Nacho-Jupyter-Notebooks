{
 "cells": [
  {
   "cell_type": "markdown",
   "metadata": {},
   "source": [
    "### Comparative Sequence Analysis of Covid19, MERS,SARS and EBOLA\n",
    "+ Compare their DNA sequence and Protein (Amino Acid) sequence\n",
    "- GC Content\n",
    "- Freq of Each Amino Acids\n",
    "+ Find similarity between them\n",
    "    - Alignment\n",
    "    - hamming distance\n",
    "\n",
    "+ 3D structure of each\n",
    "\n",
    "\n",
    "#### Datasource (FASTA [format](https://en.wikipedia.org/wiki/FASTA_format))\n",
    "+ Latest Sequence: https://www.ncbi.nlm.nih.gov/genbank/sars-cov-2-seqs/\n",
    "+ Wuhan-Hu-1: https://www.ncbi.nlm.nih.gov/nuccore/MN908947.3?report=fasta\n",
    "+ Covid19: https://www.ncbi.nlm.nih.gov/nuccore/NC_045512.2?report=fasta\n",
    "+ SARS:https://www.ncbi.nlm.nih.gov/nuccore/NC_004718.3?report=fasta\n",
    "+ MERS:https://www.ncbi.nlm.nih.gov/nuccore/NC_019843.3?report=fasta\n",
    "+ EBOLA : https://www.ncbi.nlm.nih.gov/nuccore/NC_002549.1?report=fasta\n",
    "\n",
    "\n",
    "### PDB files\n",
    "+ Covid19 : https://www.rcsb.org/3d-view/6LU7\n",
    "+ SARS: https://www.rcsb.org/structure/5XES\n",
    "+ MERS: https://www.rcsb.org/structure/6PXH\n",
    "+ EBOLA:https://www.rcsb.org/structure/6HS4\n",
    "\n",
    "## Python environment\n",
    "Unfortunately, pytraj is a major pain in the ass to install per https://github.com/Amber-MD/pytraj#install<br>\n",
    "Therefore, it is recommended to install pytraj using miniconda3 distribution using the conda command.\n",
    "\n",
    "### Installation\n",
    "conda install biopython<br>\n",
    "conda install -c ambermd pytraj per https://anaconda.org/ambermd/pytraj/<br>\n",
    "conda install -c rmg py3dmol per https://anaconda.org/rmg/py3dmol<br>\n",
    "conda install -c conda-forge nglview per https://anaconda.org/conda-forge/nglview<br>\n",
    "\n",
    "#### In your Python virtual environment containing biopython package, execute these commands at the terminal:\n",
    "+ jupyter-nbextension enable nglview --py --sys-prefix\n",
    "+ nglview enable\n",
    "\n",
    "#### In your Python virtual environment that runs your Jupyter Lab, execute these commands at the terminal:\n",
    "+ jupyter-labextension install @jupyter-widget/jupyterlab-manager\n",
    "+ jupyter-labextension install nglview-js-widgets"
   ]
  },
  {
   "cell_type": "code",
   "execution_count": 1,
   "metadata": {},
   "outputs": [],
   "source": [
    "# Load Pkgs\n",
    "from Bio.Seq import Seq"
   ]
  },
  {
   "cell_type": "code",
   "execution_count": 2,
   "metadata": {},
   "outputs": [],
   "source": [
    "# Create our sequence \n",
    "seq1 = Seq('ACTCGA')\n",
    "seq2 = Seq('AC')"
   ]
  },
  {
   "cell_type": "markdown",
   "metadata": {},
   "source": [
    "#### GC Contents In DNA\n",
    "+ GC-content (or guanine-cytosine content) is the percentage of nitrogenous bases in a DNA or RNA molecule \n",
    "that are either guanine (G) or cytosine (C)\n",
    "\n",
    "#### Usefulness\n",
    "+ In polymerase chain reaction (PCR) experiments, the GC-content of short oligonucleotides known as primers is often used to predict their annealing temperature to the template DNA. \n",
    "+ A higher GC-content level indicates a relatively higher melting temperature.\n",
    "+ DNA with low GC-content is less stable than DNA with high GC-content"
   ]
  },
  {
   "cell_type": "code",
   "execution_count": 3,
   "metadata": {},
   "outputs": [],
   "source": [
    "from Bio.SeqUtils import GC"
   ]
  },
  {
   "cell_type": "code",
   "execution_count": 4,
   "metadata": {},
   "outputs": [
    {
     "data": {
      "text/plain": [
       "50.0"
      ]
     },
     "execution_count": 4,
     "metadata": {},
     "output_type": "execute_result"
    }
   ],
   "source": [
    "# Method 1 using GC\n",
    "GC(seq1)"
   ]
  },
  {
   "cell_type": "code",
   "execution_count": 5,
   "metadata": {},
   "outputs": [],
   "source": [
    "# Method 2 using custom fxn\n",
    "def gc_content(seq):\n",
    "    result =  float(seq.count('G') + seq.count('C'))/len(seq) * 100\n",
    "    return result"
   ]
  },
  {
   "cell_type": "code",
   "execution_count": 6,
   "metadata": {},
   "outputs": [
    {
     "data": {
      "text/plain": [
       "50.0"
      ]
     },
     "execution_count": 6,
     "metadata": {},
     "output_type": "execute_result"
    }
   ],
   "source": [
    "gc_content(seq1)"
   ]
  },
  {
   "cell_type": "code",
   "execution_count": 7,
   "metadata": {},
   "outputs": [],
   "source": [
    "# Method 2 using custom fxn\n",
    "def gc_content2(seq):\n",
    "    gc =  [ N for N in seq if N in 'CG']\n",
    "    result =  float(len(gc))/len(seq) * 100\n",
    "    return result"
   ]
  },
  {
   "cell_type": "code",
   "execution_count": 8,
   "metadata": {},
   "outputs": [
    {
     "data": {
      "text/plain": [
       "50.0"
      ]
     },
     "execution_count": 8,
     "metadata": {},
     "output_type": "execute_result"
    }
   ],
   "source": [
    "gc_content2(seq1)"
   ]
  },
  {
   "cell_type": "markdown",
   "metadata": {},
   "source": [
    "#### Alignment Types\n",
    "+ Global alignment: finds the best concordance/agreement betwenn all characters in two sequences\n",
    "+ Local Alignment: finds just the subsequences that align the best"
   ]
  },
  {
   "cell_type": "code",
   "execution_count": 9,
   "metadata": {},
   "outputs": [],
   "source": [
    "from Bio import pairwise2\n",
    "from Bio.pairwise2 import format_alignment"
   ]
  },
  {
   "cell_type": "code",
   "execution_count": 10,
   "metadata": {},
   "outputs": [],
   "source": [
    "alignments = pairwise2.align.globalxx(seq1,seq2)"
   ]
  },
  {
   "cell_type": "code",
   "execution_count": 11,
   "metadata": {},
   "outputs": [
    {
     "name": "stdout",
     "output_type": "stream",
     "text": [
      "[('ACTCGA', 'A--C--', 2.0, 0, 6), ('ACTCGA', 'AC----', 2.0, 0, 6)]\n"
     ]
    }
   ],
   "source": [
    "print(alignments)"
   ]
  },
  {
   "cell_type": "code",
   "execution_count": 12,
   "metadata": {},
   "outputs": [
    {
     "name": "stdout",
     "output_type": "stream",
     "text": [
      "ACTCGA\n",
      "|  |  \n",
      "A--C--\n",
      "  Score=2\n",
      "\n"
     ]
    }
   ],
   "source": [
    "# To See it well\n",
    "print(format_alignment(*alignments[0]))"
   ]
  },
  {
   "cell_type": "code",
   "execution_count": 13,
   "metadata": {},
   "outputs": [
    {
     "name": "stdout",
     "output_type": "stream",
     "text": [
      "ACTCGA\n",
      "||    \n",
      "AC----\n",
      "  Score=2\n",
      "\n"
     ]
    }
   ],
   "source": [
    "# To See second part\n",
    "print(format_alignment(*alignments[1]))"
   ]
  },
  {
   "cell_type": "code",
   "execution_count": 14,
   "metadata": {},
   "outputs": [
    {
     "name": "stdout",
     "output_type": "stream",
     "text": [
      "ACTCGA\n",
      "|  |  \n",
      "A--C--\n",
      "  Score=2\n",
      "\n",
      "ACTCGA\n",
      "||    \n",
      "AC----\n",
      "  Score=2\n",
      "\n"
     ]
    }
   ],
   "source": [
    "# To see all alignment together using a loop\n",
    "for a in alignments:\n",
    "    print(format_alignment(*a))"
   ]
  },
  {
   "cell_type": "code",
   "execution_count": 15,
   "metadata": {},
   "outputs": [],
   "source": [
    "# Get only the score for one alignments\n",
    "alignments2 = pairwise2.align.globalxx(seq1,seq2,one_alignment_only=True,score_only=True)"
   ]
  },
  {
   "cell_type": "code",
   "execution_count": 16,
   "metadata": {},
   "outputs": [
    {
     "data": {
      "text/plain": [
       "2.0"
      ]
     },
     "execution_count": 16,
     "metadata": {},
     "output_type": "execute_result"
    }
   ],
   "source": [
    "# Only 2 places\n",
    "alignments2"
   ]
  },
  {
   "cell_type": "markdown",
   "metadata": {},
   "source": [
    "#### Check for similarity or percentage of similarity\n",
    "+ fraction of nucleotides that is the same/ total number of nucleotides * 100%\n"
   ]
  },
  {
   "cell_type": "code",
   "execution_count": 17,
   "metadata": {},
   "outputs": [
    {
     "data": {
      "text/plain": [
       "33.33333333333333"
      ]
     },
     "execution_count": 17,
     "metadata": {},
     "output_type": "execute_result"
    }
   ],
   "source": [
    "alignments2/len(seq1)*100"
   ]
  },
  {
   "cell_type": "markdown",
   "metadata": {},
   "source": [
    "#### Hamming distance: shows how many places 2 strings differ\n",
    "+ Hamming distance between two strings of equal length is the number of positions at which the corresponding symbols are different. \n",
    "+ In other words, it measures the minimum number of substitutions required to change one string into the other, or the minimum number of errors that could have transformed one string into the othe\n",
    "+ It is used for error detection or error correction\n",
    "+ It is used to quantify the similarity of DNA sequences,\n",
    "+ For checking the edit distance\n",
    " - edit distance is a way of quantifying how dissimilar two strings (e.g., words) are to one another by counting the minimum number of operations required to transform one string into the other. \n",
    " - eg Levenshtein distance\n"
   ]
  },
  {
   "cell_type": "code",
   "execution_count": 18,
   "metadata": {},
   "outputs": [],
   "source": [
    "def hamming_distance(lhs,rhs):\n",
    "    return len([(x,y) for x,y in zip(lhs,rhs) if x != y])"
   ]
  },
  {
   "cell_type": "code",
   "execution_count": 19,
   "metadata": {},
   "outputs": [
    {
     "data": {
      "text/plain": [
       "1"
      ]
     },
     "execution_count": 19,
     "metadata": {},
     "output_type": "execute_result"
    }
   ],
   "source": [
    "hamming_distance('ACTTA','ACCTA')"
   ]
  },
  {
   "cell_type": "code",
   "execution_count": 20,
   "metadata": {},
   "outputs": [
    {
     "data": {
      "text/plain": [
       "4"
      ]
     },
     "execution_count": 20,
     "metadata": {},
     "output_type": "execute_result"
    }
   ],
   "source": [
    "hamming_distance(seq1,seq1[::-1])"
   ]
  },
  {
   "cell_type": "markdown",
   "metadata": {},
   "source": [
    "### Dot Plot\n",
    "+ A dot plot is a graphical method that allows the comparison of two biological sequences \n",
    "and identify regions of close similarity between them.\n",
    "+ Simplest method - put a dot wherever\n",
    "sequences are identical \n",
    "+ Dot plots compare two sequences by organizing one sequence on the x-axis, and another on the y-axis, of a plot. \n",
    "+ When the residues of both sequences match at the same location on the plot, a dot is drawn at the corresponding position\n",
    "\n",
    "#### usefulness\n",
    "+ Dot plots can also be used to visually inspect sequences for \n",
    "  - direct or inverted repeats\n",
    "  - regions with low sequence complexity.\n",
    "  - Similar regions\n",
    "  - Repeated sequences\n",
    "  - Sequence rearrangements\n",
    "  - RNA structures\n",
    "  - Gene order\n",
    "\n",
    "+ Link :https://stackoverflow.com/questions/40822400/how-to-create-a-dotplot-of-two-dna-sequence-in-python"
   ]
  },
  {
   "cell_type": "code",
   "execution_count": 21,
   "metadata": {},
   "outputs": [],
   "source": [
    "def delta(x,y):\n",
    "    return 0 if x == y else 1\n",
    "\n",
    "\n",
    "def M(seq1,seq2,i,j,k):\n",
    "    return sum(delta(x,y) for x,y in zip(seq1[i:i+k],seq2[j:j+k]))\n",
    "\n",
    "\n",
    "def makeMatrix(seq1,seq2,k):\n",
    "    n = len(seq1)\n",
    "    m = len(seq2)\n",
    "    return [[M(seq1,seq2,i,j,k) for j in range(m-k+1)] for i in range(n-k+1)]\n",
    "\n",
    "\n",
    "def plotMatrix(M,t, seq1, seq2, nonblank = chr(0x25A0), blank = ' '):\n",
    "    print(' |' + seq2)\n",
    "    print('-'*(2 + len(seq2)))\n",
    "    for label,row in zip(seq1,M):\n",
    "        line = ''.join(nonblank if s < t else blank for s in row)\n",
    "        print(label + '|' + line)\n",
    "\n",
    "\n",
    "def dotplot(seq1,seq2,k = 1,t = 1):\n",
    "    M = makeMatrix(seq1,seq2,k)\n",
    "    plotMatrix(M, t, seq1,seq2) #experiment with character choice"
   ]
  },
  {
   "cell_type": "code",
   "execution_count": 22,
   "metadata": {},
   "outputs": [
    {
     "name": "stdout",
     "output_type": "stream",
     "text": [
      " |AC\n",
      "----\n",
      "A|■ \n",
      "C| ■\n",
      "T|  \n",
      "C| ■\n",
      "G|  \n",
      "A|■ \n"
     ]
    }
   ],
   "source": [
    "# Do A Dot plot\n",
    "dotplot(seq1,seq2)"
   ]
  },
  {
   "cell_type": "code",
   "execution_count": 23,
   "metadata": {},
   "outputs": [
    {
     "name": "stdout",
     "output_type": "stream",
     "text": [
      " |ACCTAG\n",
      "--------\n",
      "A|■   ■ \n",
      "C| ■■   \n",
      "C| ■■   \n",
      "T|   ■  \n",
      "A|■   ■ \n",
      "G|     ■\n"
     ]
    }
   ],
   "source": [
    "#  Identical proteins will obviously have a diagonal line in the center of the matrix. \n",
    "dotplot(Seq('ACCTAG'),Seq('ACCTAG'))"
   ]
  },
  {
   "cell_type": "code",
   "execution_count": 24,
   "metadata": {},
   "outputs": [],
   "source": [
    "# Load Data Viz Pkgs\n",
    "import numpy as np\n",
    "import matplotlib.pyplot as plt"
   ]
  },
  {
   "cell_type": "code",
   "execution_count": 25,
   "metadata": {},
   "outputs": [
    {
     "data": {
      "image/png": "[encoded data removed]",
      "text/plain": [
       "<Figure size 432x288 with 1 Axes>"
      ]
     },
     "metadata": {
      "needs_background": "light"
     },
     "output_type": "display_data"
    }
   ],
   "source": [
    "# Add Some fancyness to it\n",
    "plt.imshow(np.array(makeMatrix(seq1,seq2,1)))\n",
    "xt=plt.xticks(np.arange(len(list(seq1))),list(seq1))\n",
    "yt=plt.yticks(np.arange(len(list(seq1))),list(seq1))\n",
    "plt.show()"
   ]
  },
  {
   "cell_type": "code",
   "execution_count": 26,
   "metadata": {},
   "outputs": [
    {
     "data": {
      "image/png": "[encoded data removed]",
      "text/plain": [
       "<Figure size 432x288 with 1 Axes>"
      ]
     },
     "metadata": {
      "needs_background": "light"
     },
     "output_type": "display_data"
    }
   ],
   "source": [
    "# Plot \n",
    "plt.imshow(np.array(makeMatrix(seq1,seq2,1)))\n",
    "xt=plt.xticks(np.arange(len(list(seq2))),list(seq2))\n",
    "yt=plt.yticks(np.arange(len(list(seq1))),list(seq1))\n",
    "plt.show()"
   ]
  },
  {
   "cell_type": "code",
   "execution_count": 27,
   "metadata": {},
   "outputs": [],
   "source": [
    "# Convert to Fxn\n",
    "def dotplotx(seq1,seq2):\n",
    "    plt.imshow(np.array(makeMatrix(seq1,seq2,1)))\n",
    "    # on x-axis list all sequences of seq 2\n",
    "    xt=plt.xticks(np.arange(len(list(seq2))),list(seq2))\n",
    "    # on y-axis list all sequences of seq 1\n",
    "    yt=plt.yticks(np.arange(len(list(seq1))),list(seq1))\n",
    "    plt.show()"
   ]
  },
  {
   "cell_type": "code",
   "execution_count": 28,
   "metadata": {},
   "outputs": [
    {
     "data": {
      "image/png": "[encoded data removed]",
      "text/plain": [
       "<Figure size 432x288 with 1 Axes>"
      ]
     },
     "metadata": {
      "needs_background": "light"
     },
     "output_type": "display_data"
    }
   ],
   "source": [
    "dotplotx(seq1,seq2)"
   ]
  },
  {
   "cell_type": "markdown",
   "metadata": {},
   "source": [
    "#### Comparative Analysis of Covid,SARS,MERS,Ebola\n",
    "+ Covid19(SARS-CoV2) is a novel coronavirus identified as the cause of coronavirus disease 2019 (COVID-19) that began in Wuhan, China in late 2019 and spread worldwide.\n",
    "+ MERS(MERS-CoV) was identified in 2012 as the cause of Middle East respiratory syndrome (MERS).\n",
    "+ SARS(SARS-CoV) was identified in 2002 as the cause of an outbreak of severe acute respiratory syndrome (SARS)."
   ]
  },
  {
   "cell_type": "code",
   "execution_count": 29,
   "metadata": {},
   "outputs": [],
   "source": [
    "# Working with Sequences using fasta files\n",
    "from Bio import SeqIO"
   ]
  },
  {
   "cell_type": "code",
   "execution_count": 30,
   "metadata": {},
   "outputs": [],
   "source": [
    "covid = SeqIO.read(\"data/COVID-19.fasta\",\"fasta\")"
   ]
  },
  {
   "cell_type": "code",
   "execution_count": 31,
   "metadata": {},
   "outputs": [],
   "source": [
    "mers = SeqIO.read(\"data/MERS.fasta\",\"fasta\")"
   ]
  },
  {
   "cell_type": "code",
   "execution_count": 32,
   "metadata": {},
   "outputs": [],
   "source": [
    "sars = SeqIO.read(\"data/SARS.fasta\",\"fasta\")"
   ]
  },
  {
   "cell_type": "code",
   "execution_count": 33,
   "metadata": {},
   "outputs": [],
   "source": [
    "ebola = SeqIO.read(\"data/EBOLA.fasta\",\"fasta\")"
   ]
  },
  {
   "cell_type": "code",
   "execution_count": 34,
   "metadata": {},
   "outputs": [
    {
     "data": {
      "text/plain": [
       "SeqRecord(seq=Seq('ATTAAAGGTTTATACCTTCCCAGGTAACAAACCAACCAACTTTCGATCTCTTGT...AAA', SingleLetterAlphabet()), id='NC_045512', name='NC_045512', description='NC_045512 |Severe acute respiratory syndrome coronavirus 2 isolate Wuhan-Hu-1| complete genome', dbxrefs=[])"
      ]
     },
     "execution_count": 34,
     "metadata": {},
     "output_type": "execute_result"
    }
   ],
   "source": [
    "covid"
   ]
  },
  {
   "cell_type": "code",
   "execution_count": 35,
   "metadata": {},
   "outputs": [
    {
     "data": {
      "text/plain": [
       "SeqRecord(seq=Seq('ATTTAAGTGAATAGCTTGGCTATCTCACTTCCCCTCGTTCTCTTGCAGAACTTT...AAA', SingleLetterAlphabet()), id='NC_038294', name='NC_038294', description='NC_038294 |Betacoronavirus England 1| complete genome', dbxrefs=[])"
      ]
     },
     "execution_count": 35,
     "metadata": {},
     "output_type": "execute_result"
    }
   ],
   "source": [
    "mers"
   ]
  },
  {
   "cell_type": "code",
   "execution_count": 36,
   "metadata": {},
   "outputs": [
    {
     "data": {
      "text/plain": [
       "SeqRecord(seq=Seq('ATATTAGGTTTTTACCTACCCAGGAAAAGCCAACCAACCTCGATCTCTTGTAGA...AAA', SingleLetterAlphabet()), id='NC_004718.3', name='NC_004718.3', description='NC_004718.3 SARS coronavirus, complete genome', dbxrefs=[])"
      ]
     },
     "execution_count": 36,
     "metadata": {},
     "output_type": "execute_result"
    }
   ],
   "source": [
    "sars"
   ]
  },
  {
   "cell_type": "code",
   "execution_count": 37,
   "metadata": {},
   "outputs": [
    {
     "data": {
      "text/plain": [
       "SeqRecord(seq=Seq('CGGACACACAAAAAGAAAGAAGAATTTTTTAACTTTTTTGTGTGAGAGTAACTA...CCT', SingleLetterAlphabet()), id='NC_039345', name='NC_039345', description='NC_039345 |Bombali ebolavirus isolate Bombali ebolavirus/Mops condylurus/SLE/2016/PREDICT_SLAB000156| complete genome', dbxrefs=[])"
      ]
     },
     "execution_count": 37,
     "metadata": {},
     "output_type": "execute_result"
    }
   ],
   "source": [
    "ebola"
   ]
  },
  {
   "cell_type": "code",
   "execution_count": 38,
   "metadata": {},
   "outputs": [],
   "source": [
    "# Convert or Get the sequences\n",
    "covid_seq = covid.seq\n",
    "mers_seq = mers.seq\n",
    "sars_seq = sars.seq\n",
    "ebola_seq = ebola.seq"
   ]
  },
  {
   "cell_type": "code",
   "execution_count": 39,
   "metadata": {},
   "outputs": [
    {
     "name": "stdout",
     "output_type": "stream",
     "text": [
      "covid_seq :: 29903\n",
      "mers_seq :: 30111\n",
      "sars_seq :: 29751\n",
      "ebola_seq :: 19043\n"
     ]
    }
   ],
   "source": [
    "# Check the length of each sequence\n",
    "print(\"covid_seq ::\",len(covid_seq))\n",
    "print(\"mers_seq ::\",len(mers_seq))\n",
    "print(\"sars_seq ::\",len(sars_seq))\n",
    "print(\"ebola_seq ::\",len(ebola_seq))"
   ]
  },
  {
   "cell_type": "code",
   "execution_count": 40,
   "metadata": {},
   "outputs": [],
   "source": [
    "# Check for the GC Content/ Which of them is more heat stable\n",
    "from Bio.SeqUtils import GC"
   ]
  },
  {
   "cell_type": "code",
   "execution_count": 41,
   "metadata": {},
   "outputs": [
    {
     "name": "stdout",
     "output_type": "stream",
     "text": [
      "GC content of covid_seq :: 37.97277865097148\n",
      "GC content of mers_seq :: 41.17764272192886\n",
      "GC content of sars_seq :: 40.7616550704178\n",
      "GC content of ebola_seq :: 45.48127921020848\n"
     ]
    }
   ],
   "source": [
    "# Check the length of each sequence\n",
    "print(\"GC content of covid_seq ::\",GC(covid_seq))\n",
    "print(\"GC content of mers_seq ::\",GC(mers_seq))\n",
    "print(\"GC content of sars_seq ::\",GC(sars_seq))\n",
    "print(\"GC content of ebola_seq ::\",GC(ebola_seq))"
   ]
  },
  {
   "cell_type": "markdown",
   "metadata": {},
   "source": [
    "#### Narative\n",
    "Mers is the most stable with a GC of 41.2 followed by Ebola"
   ]
  },
  {
   "cell_type": "code",
   "execution_count": 42,
   "metadata": {},
   "outputs": [
    {
     "name": "stderr",
     "output_type": "stream",
     "text": [
      "/home/pybokeh/miniconda3/envs/bio_dev/lib/python3.7/site-packages/Bio/Seq.py:2859: BiopythonWarning: Partial codon, len(sequence) not a multiple of three. Explicitly trim the sequence or add trailing N before translation. This may become an error in future.\n",
      "  BiopythonWarning,\n"
     ]
    }
   ],
   "source": [
    "covid_protein = covid_seq.translate()\n",
    "mers_protein = mers_seq.translate()\n",
    "sars_protein = sars_seq.translate()\n",
    "ebola_protein = ebola_seq.translate()"
   ]
  },
  {
   "cell_type": "code",
   "execution_count": 43,
   "metadata": {},
   "outputs": [
    {
     "name": "stdout",
     "output_type": "stream",
     "text": [
      "covid_protein :: 9967\n",
      "mers_protein :: 10037\n",
      "sars_protein :: 9917\n",
      "ebola_protein :: 6347\n"
     ]
    }
   ],
   "source": [
    "print(\"covid_protein ::\",len(covid_protein))\n",
    "print(\"mers_protein ::\",len(mers_protein))\n",
    "print(\"sars_protein ::\",len(sars_protein))\n",
    "print(\"ebola_protein ::\",len(ebola_protein))"
   ]
  },
  {
   "cell_type": "markdown",
   "metadata": {},
   "source": [
    "#### Check for the Count of Amino Acids\n",
    "+ ProtParam.ProteinAnalysis\n",
    "+ Counter from collections"
   ]
  },
  {
   "cell_type": "code",
   "execution_count": 44,
   "metadata": {},
   "outputs": [],
   "source": [
    "from Bio.SeqUtils.ProtParam import ProteinAnalysis"
   ]
  },
  {
   "cell_type": "code",
   "execution_count": 45,
   "metadata": {},
   "outputs": [],
   "source": [
    "# Method 1\n",
    "covid_analysed = ProteinAnalysis(str(covid_protein))\n",
    "mers_analysed = ProteinAnalysis(str(mers_protein))\n",
    "sars_analysed = ProteinAnalysis(str(sars_protein))\n",
    "ebola_analysed = ProteinAnalysis(str(ebola_protein))"
   ]
  },
  {
   "cell_type": "code",
   "execution_count": 46,
   "metadata": {},
   "outputs": [
    {
     "data": {
      "text/plain": [
       "{'A': 375,\n",
       " 'C': 635,\n",
       " 'D': 290,\n",
       " 'E': 270,\n",
       " 'F': 593,\n",
       " 'G': 394,\n",
       " 'H': 332,\n",
       " 'I': 436,\n",
       " 'K': 413,\n",
       " 'L': 886,\n",
       " 'M': 117,\n",
       " 'N': 472,\n",
       " 'P': 292,\n",
       " 'Q': 325,\n",
       " 'R': 558,\n",
       " 'S': 810,\n",
       " 'T': 679,\n",
       " 'V': 548,\n",
       " 'W': 263,\n",
       " 'Y': 505}"
      ]
     },
     "execution_count": 46,
     "metadata": {},
     "output_type": "execute_result"
    }
   ],
   "source": [
    "# Check for the Frequence of AA\n",
    "covid_analysed.count_amino_acids()"
   ]
  },
  {
   "cell_type": "code",
   "execution_count": 47,
   "metadata": {},
   "outputs": [],
   "source": [
    "# Method 2\n",
    "# What the freq of Amino Acids\n",
    "from collections import Counter"
   ]
  },
  {
   "cell_type": "code",
   "execution_count": 48,
   "metadata": {},
   "outputs": [],
   "source": [
    "# Most common amino acid in Covid\n",
    "covid_freq = Counter(covid_protein)\n",
    "mers_freq = Counter(mers_protein)\n",
    "sars_freq = Counter(sars_protein)\n",
    "ebola_freq = Counter(ebola_protein)"
   ]
  },
  {
   "cell_type": "code",
   "execution_count": 49,
   "metadata": {},
   "outputs": [
    {
     "data": {
      "text/plain": [
       "Counter({'I': 436,\n",
       "         'K': 413,\n",
       "         'G': 394,\n",
       "         'L': 886,\n",
       "         'Y': 505,\n",
       "         'P': 292,\n",
       "         'R': 558,\n",
       "         '*': 774,\n",
       "         'Q': 325,\n",
       "         'T': 679,\n",
       "         'N': 472,\n",
       "         'S': 810,\n",
       "         'C': 635,\n",
       "         'V': 548,\n",
       "         'F': 593,\n",
       "         'A': 375,\n",
       "         'H': 332,\n",
       "         'D': 290,\n",
       "         'E': 270,\n",
       "         'W': 263,\n",
       "         'M': 117})"
      ]
     },
     "execution_count": 49,
     "metadata": {},
     "output_type": "execute_result"
    }
   ],
   "source": [
    "covid_freq"
   ]
  },
  {
   "cell_type": "code",
   "execution_count": 50,
   "metadata": {},
   "outputs": [
    {
     "data": {
      "text/plain": [
       "[('L', 886),\n",
       " ('S', 810),\n",
       " ('*', 774),\n",
       " ('T', 679),\n",
       " ('C', 635),\n",
       " ('F', 593),\n",
       " ('R', 558),\n",
       " ('V', 548),\n",
       " ('Y', 505),\n",
       " ('N', 472)]"
      ]
     },
     "execution_count": 50,
     "metadata": {},
     "output_type": "execute_result"
    }
   ],
   "source": [
    "# Most common amino acid in Covid\n",
    "Counter(covid_protein).most_common(10)"
   ]
  },
  {
   "cell_type": "code",
   "execution_count": 51,
   "metadata": {},
   "outputs": [
    {
     "data": {
      "text/plain": [
       "[('L', 932),\n",
       " ('S', 874),\n",
       " ('*', 755),\n",
       " ('C', 673),\n",
       " ('V', 621),\n",
       " ('R', 601),\n",
       " ('F', 549),\n",
       " ('T', 546),\n",
       " ('Y', 527),\n",
       " ('G', 457)]"
      ]
     },
     "execution_count": 51,
     "metadata": {},
     "output_type": "execute_result"
    }
   ],
   "source": [
    "# Most common amino acid in mers\n",
    "Counter(mers_protein).most_common(10)"
   ]
  },
  {
   "cell_type": "code",
   "execution_count": 52,
   "metadata": {},
   "outputs": [
    {
     "data": {
      "text/plain": [
       "[('L', 1368),\n",
       " ('S', 737),\n",
       " ('T', 689),\n",
       " ('V', 683),\n",
       " ('A', 575),\n",
       " ('I', 566),\n",
       " ('K', 503),\n",
       " ('G', 438),\n",
       " ('F', 437),\n",
       " ('N', 418)]"
      ]
     },
     "execution_count": 52,
     "metadata": {},
     "output_type": "execute_result"
    }
   ],
   "source": [
    "# Most common amino acid in sars\n",
    "Counter(sars_protein).most_common(10)"
   ]
  },
  {
   "cell_type": "code",
   "execution_count": 53,
   "metadata": {},
   "outputs": [
    {
     "data": {
      "text/plain": [
       "[('S', 631),\n",
       " ('L', 568),\n",
       " ('R', 449),\n",
       " ('P', 425),\n",
       " ('*', 363),\n",
       " ('T', 352),\n",
       " ('G', 352),\n",
       " ('I', 338),\n",
       " ('A', 312),\n",
       " ('Q', 293)]"
      ]
     },
     "execution_count": 53,
     "metadata": {},
     "output_type": "execute_result"
    }
   ],
   "source": [
    "# Most common amino acid in ebola\n",
    "Counter(ebola_protein).most_common(10)"
   ]
  },
  {
   "cell_type": "code",
   "execution_count": 54,
   "metadata": {},
   "outputs": [
    {
     "data": {
      "text/plain": [
       "<BarContainer object of 21 artists>"
      ]
     },
     "execution_count": 54,
     "metadata": {},
     "output_type": "execute_result"
    },
    {
     "data": {
      "image/png": "[encoded data removed]",
      "text/plain": [
       "<Figure size 432x288 with 1 Axes>"
      ]
     },
     "metadata": {
      "needs_background": "light"
     },
     "output_type": "display_data"
    }
   ],
   "source": [
    "# Plot the Amino Acids\n",
    "plt.bar(covid_freq.keys(), covid_freq.values())"
   ]
  },
  {
   "cell_type": "code",
   "execution_count": 55,
   "metadata": {},
   "outputs": [
    {
     "data": {
      "text/plain": [
       "<BarContainer object of 21 artists>"
      ]
     },
     "execution_count": 55,
     "metadata": {},
     "output_type": "execute_result"
    },
    {
     "data": {
      "image/png": "[encoded data removed]",
      "text/plain": [
       "<Figure size 432x288 with 1 Axes>"
      ]
     },
     "metadata": {
      "needs_background": "light"
     },
     "output_type": "display_data"
    }
   ],
   "source": [
    "# plot of amino acids\n",
    "plt.bar(mers_freq.keys(), mers_freq.values())"
   ]
  },
  {
   "cell_type": "code",
   "execution_count": 56,
   "metadata": {},
   "outputs": [
    {
     "data": {
      "text/plain": [
       "<BarContainer object of 21 artists>"
      ]
     },
     "execution_count": 56,
     "metadata": {},
     "output_type": "execute_result"
    },
    {
     "data": {
      "image/png": "[encoded data removed]",
      "text/plain": [
       "<Figure size 432x288 with 1 Axes>"
      ]
     },
     "metadata": {
      "needs_background": "light"
     },
     "output_type": "display_data"
    }
   ],
   "source": [
    "# plot of amino acids\n",
    "plt.bar(sars_freq.keys(), sars_freq.values())"
   ]
  },
  {
   "cell_type": "code",
   "execution_count": 57,
   "metadata": {},
   "outputs": [
    {
     "data": {
      "text/plain": [
       "<BarContainer object of 21 artists>"
      ]
     },
     "execution_count": 57,
     "metadata": {},
     "output_type": "execute_result"
    },
    {
     "data": {
      "image/png": "[encoded data removed]",
      "text/plain": [
       "<Figure size 432x288 with 1 Axes>"
      ]
     },
     "metadata": {
      "needs_background": "light"
     },
     "output_type": "display_data"
    }
   ],
   "source": [
    "# plot of amino acids\n",
    "plt.bar(ebola_freq.keys(), ebola_freq.values())"
   ]
  },
  {
   "cell_type": "markdown",
   "metadata": {},
   "source": [
    "#### Check for the molecular weights\n",
    "+ Need to remove stop codons * to get the molecular weights\n"
   ]
  },
  {
   "cell_type": "code",
   "execution_count": 58,
   "metadata": {},
   "outputs": [],
   "source": [
    "# Method 1\n",
    "#print(\"Molecular weights:: covid_analysed ::\",covid_analysed.molecular_weight())\n",
    "#print(\"Molecular weights:: mers_analysed  ::\",mers_analysed.molecular_weight())\n",
    "#print(\"Molecular weights:: sars_analysed  ::\",sars_analysed.molecular_weight())\n",
    "#print(\"Molecular weights:: ebola_analysed  ::\",ebola_analysed.molecular_weight())"
   ]
  },
  {
   "cell_type": "markdown",
   "metadata": {},
   "source": [
    "#### Dot Plot "
   ]
  },
  {
   "cell_type": "code",
   "execution_count": 59,
   "metadata": {},
   "outputs": [
    {
     "name": "stdout",
     "output_type": "stream",
     "text": [
      " |ATTTAAGTGA\n",
      "------------\n",
      "A|■   ■■   ■\n",
      "T| ■■■   ■  \n",
      "T| ■■■   ■  \n",
      "A|■   ■■   ■\n",
      "A|■   ■■   ■\n",
      "A|■   ■■   ■\n",
      "G|      ■ ■ \n",
      "G|      ■ ■ \n",
      "T| ■■■   ■  \n",
      "T| ■■■   ■  \n"
     ]
    }
   ],
   "source": [
    "# Compare Covid and Mers\n",
    "dotplot(covid_seq[0:10],mers_seq[0:10])"
   ]
  },
  {
   "cell_type": "code",
   "execution_count": 60,
   "metadata": {},
   "outputs": [
    {
     "data": {
      "image/png": "[encoded data removed]",
      "text/plain": [
       "<Figure size 432x288 with 1 Axes>"
      ]
     },
     "metadata": {
      "needs_background": "light"
     },
     "output_type": "display_data"
    }
   ],
   "source": [
    "# Compare Covid and Mers\n",
    "dotplotx(covid_seq[0:10],mers_seq[0:10])"
   ]
  },
  {
   "cell_type": "code",
   "execution_count": 61,
   "metadata": {},
   "outputs": [
    {
     "name": "stdout",
     "output_type": "stream",
     "text": [
      " |ATATTAGGTT\n",
      "------------\n",
      "A|■ ■  ■    \n",
      "T| ■ ■■   ■■\n",
      "T| ■ ■■   ■■\n",
      "A|■ ■  ■    \n",
      "A|■ ■  ■    \n",
      "A|■ ■  ■    \n",
      "G|      ■■  \n",
      "G|      ■■  \n",
      "T| ■ ■■   ■■\n",
      "T| ■ ■■   ■■\n"
     ]
    }
   ],
   "source": [
    "# Compare Covid and sars\n",
    "dotplot(covid_seq[0:10],sars_seq[0:10])"
   ]
  },
  {
   "cell_type": "code",
   "execution_count": 62,
   "metadata": {},
   "outputs": [
    {
     "data": {
      "image/png": "[encoded data removed]",
      "text/plain": [
       "<Figure size 432x288 with 1 Axes>"
      ]
     },
     "metadata": {
      "needs_background": "light"
     },
     "output_type": "display_data"
    }
   ],
   "source": [
    "# Compare Covid and sars\n",
    "dotplotx(covid_seq[0:10],sars_seq[0:10])"
   ]
  },
  {
   "cell_type": "code",
   "execution_count": 63,
   "metadata": {},
   "outputs": [],
   "source": [
    "# Pairwise alignment for the first 100 nucleotide\n",
    "cov_n_sars = pairwise2.align.globalxx(covid_seq[0:100],sars_seq[0:100],one_alignment_only=True,score_only=True)"
   ]
  },
  {
   "cell_type": "code",
   "execution_count": 64,
   "metadata": {},
   "outputs": [
    {
     "data": {
      "text/plain": [
       "89.0"
      ]
     },
     "execution_count": 64,
     "metadata": {},
     "output_type": "execute_result"
    }
   ],
   "source": [
    "cov_n_sars"
   ]
  },
  {
   "cell_type": "code",
   "execution_count": 65,
   "metadata": {},
   "outputs": [
    {
     "data": {
      "text/plain": [
       "89.0"
      ]
     },
     "execution_count": 65,
     "metadata": {},
     "output_type": "execute_result"
    }
   ],
   "source": [
    "# Percentage of similarity between them\n",
    "cov_n_sars/len(covid_seq[0:100]) * 100"
   ]
  },
  {
   "cell_type": "code",
   "execution_count": 66,
   "metadata": {},
   "outputs": [],
   "source": [
    "# Pairwise alignment for the first 100 nucleotide\n",
    "cov_n_mers = pairwise2.align.globalxx(covid_seq[0:100],mers_seq[0:100],one_alignment_only=True,score_only=True)"
   ]
  },
  {
   "cell_type": "code",
   "execution_count": 67,
   "metadata": {},
   "outputs": [
    {
     "data": {
      "text/plain": [
       "70.0"
      ]
     },
     "execution_count": 67,
     "metadata": {},
     "output_type": "execute_result"
    }
   ],
   "source": [
    "cov_n_mers"
   ]
  },
  {
   "cell_type": "code",
   "execution_count": 68,
   "metadata": {},
   "outputs": [
    {
     "data": {
      "text/plain": [
       "70.0"
      ]
     },
     "execution_count": 68,
     "metadata": {},
     "output_type": "execute_result"
    }
   ],
   "source": [
    "# Percentage of similarity between them\n",
    "cov_n_mers/len(covid_seq[0:100]) * 100"
   ]
  },
  {
   "cell_type": "code",
   "execution_count": 69,
   "metadata": {},
   "outputs": [],
   "source": [
    "# Pairwise alignment for the first 100 nucleotide\n",
    "cov_n_ebola = pairwise2.align.globalxx(covid_seq[0:100],ebola_seq[0:100],one_alignment_only=True,score_only=True)"
   ]
  },
  {
   "cell_type": "code",
   "execution_count": 70,
   "metadata": {},
   "outputs": [
    {
     "data": {
      "text/plain": [
       "62.0"
      ]
     },
     "execution_count": 70,
     "metadata": {},
     "output_type": "execute_result"
    }
   ],
   "source": [
    "cov_n_ebola"
   ]
  },
  {
   "cell_type": "markdown",
   "metadata": {},
   "source": [
    "#### Narative\n",
    "+ Covid19 and SARS have a 89% similarity.Both are of the same genus and belong to Sars_Cov\n",
    "+ Covid and Ebola have a 62% similarity since they are totally from different family of virus\n"
   ]
  },
  {
   "cell_type": "markdown",
   "metadata": {},
   "source": [
    "### 3D Structure"
   ]
  },
  {
   "cell_type": "code",
   "execution_count": 71,
   "metadata": {},
   "outputs": [],
   "source": [
    "# 3D Structure\n",
    "from Bio.PDB import PDBParser,MMCIFParser"
   ]
  },
  {
   "cell_type": "code",
   "execution_count": 72,
   "metadata": {},
   "outputs": [],
   "source": [
    "parser = PDBParser()"
   ]
  },
  {
   "cell_type": "code",
   "execution_count": 73,
   "metadata": {},
   "outputs": [
    {
     "name": "stderr",
     "output_type": "stream",
     "text": [
      "/home/pybokeh/miniconda3/envs/bio_dev/lib/python3.7/site-packages/Bio/PDB/StructureBuilder.py:92: PDBConstructionWarning: WARNING: Chain A is discontinuous at line 2837.\n",
      "  PDBConstructionWarning,\n",
      "/home/pybokeh/miniconda3/envs/bio_dev/lib/python3.7/site-packages/Bio/PDB/StructureBuilder.py:92: PDBConstructionWarning: WARNING: Chain A is discontinuous at line 25533.\n",
      "  PDBConstructionWarning,\n",
      "/home/pybokeh/miniconda3/envs/bio_dev/lib/python3.7/site-packages/Bio/PDB/StructureBuilder.py:92: PDBConstructionWarning: WARNING: Chain B is discontinuous at line 25880.\n",
      "  PDBConstructionWarning,\n",
      "/home/pybokeh/miniconda3/envs/bio_dev/lib/python3.7/site-packages/Bio/PDB/StructureBuilder.py:92: PDBConstructionWarning: WARNING: Chain C is discontinuous at line 26125.\n",
      "  PDBConstructionWarning,\n",
      "/home/pybokeh/miniconda3/envs/bio_dev/lib/python3.7/site-packages/Bio/PDB/StructureBuilder.py:92: PDBConstructionWarning: WARNING: Chain H is discontinuous at line 26135.\n",
      "  PDBConstructionWarning,\n",
      "/home/pybokeh/miniconda3/envs/bio_dev/lib/python3.7/site-packages/Bio/PDB/StructureBuilder.py:92: PDBConstructionWarning: WARNING: Chain A is discontinuous at line 26140.\n",
      "  PDBConstructionWarning,\n",
      "/home/pybokeh/miniconda3/envs/bio_dev/lib/python3.7/site-packages/Bio/PDB/StructureBuilder.py:92: PDBConstructionWarning: WARNING: Chain B is discontinuous at line 26356.\n",
      "  PDBConstructionWarning,\n",
      "/home/pybokeh/miniconda3/envs/bio_dev/lib/python3.7/site-packages/Bio/PDB/StructureBuilder.py:92: PDBConstructionWarning: WARNING: Chain C is discontinuous at line 26508.\n",
      "  PDBConstructionWarning,\n",
      "/home/pybokeh/miniconda3/envs/bio_dev/lib/python3.7/site-packages/Bio/PDB/StructureBuilder.py:92: PDBConstructionWarning: WARNING: Chain D is discontinuous at line 26617.\n",
      "  PDBConstructionWarning,\n",
      "/home/pybokeh/miniconda3/envs/bio_dev/lib/python3.7/site-packages/Bio/PDB/StructureBuilder.py:92: PDBConstructionWarning: WARNING: Chain H is discontinuous at line 26697.\n",
      "  PDBConstructionWarning,\n",
      "/home/pybokeh/miniconda3/envs/bio_dev/lib/python3.7/site-packages/Bio/PDB/StructureBuilder.py:92: PDBConstructionWarning: WARNING: Chain L is discontinuous at line 26785.\n",
      "  PDBConstructionWarning,\n",
      "/home/pybokeh/miniconda3/envs/bio_dev/lib/python3.7/site-packages/Bio/PDB/StructureBuilder.py:92: PDBConstructionWarning: WARNING: Chain A is discontinuous at line 7016.\n",
      "  PDBConstructionWarning,\n",
      "/home/pybokeh/miniconda3/envs/bio_dev/lib/python3.7/site-packages/Bio/PDB/StructureBuilder.py:92: PDBConstructionWarning: WARNING: Chain B is discontinuous at line 7148.\n",
      "  PDBConstructionWarning,\n",
      "/home/pybokeh/miniconda3/envs/bio_dev/lib/python3.7/site-packages/Bio/PDB/StructureBuilder.py:92: PDBConstructionWarning: WARNING: Chain A is discontinuous at line 7229.\n",
      "  PDBConstructionWarning,\n",
      "/home/pybokeh/miniconda3/envs/bio_dev/lib/python3.7/site-packages/Bio/PDB/StructureBuilder.py:92: PDBConstructionWarning: WARNING: Chain B is discontinuous at line 7331.\n",
      "  PDBConstructionWarning,\n"
     ]
    }
   ],
   "source": [
    "covid_structure = parser.get_structure(\"6lu7\", \"3D_Data/COVID-19_6lu7.pdb\")\n",
    "sars_structure = parser.get_structure(\"5xes\", \"3D_Data/SARS_5xes.pdb\")\n",
    "mers_structure = parser.get_structure(\"6pxh\", \"3D_Data/MERS_6pxh.pdb\")\n",
    "ebola_structure = parser.get_structure(\"6hs4\", \"3D_Data/EBOLA_6hs4.pdb\")"
   ]
  },
  {
   "cell_type": "code",
   "execution_count": 74,
   "metadata": {},
   "outputs": [
    {
     "data": {
      "text/plain": [
       "1"
      ]
     },
     "execution_count": 74,
     "metadata": {},
     "output_type": "execute_result"
    }
   ],
   "source": [
    "len(covid_structure)"
   ]
  },
  {
   "cell_type": "code",
   "execution_count": 75,
   "metadata": {},
   "outputs": [
    {
     "data": {
      "text/plain": [
       "20"
      ]
     },
     "execution_count": 75,
     "metadata": {},
     "output_type": "execute_result"
    }
   ],
   "source": [
    "len(sars_structure)"
   ]
  },
  {
   "cell_type": "code",
   "execution_count": 76,
   "metadata": {},
   "outputs": [
    {
     "data": {
      "text/plain": [
       "1"
      ]
     },
     "execution_count": 76,
     "metadata": {},
     "output_type": "execute_result"
    }
   ],
   "source": [
    "len(ebola_structure)"
   ]
  },
  {
   "cell_type": "code",
   "execution_count": 77,
   "metadata": {},
   "outputs": [
    {
     "data": {
      "application/vnd.jupyter.widget-view+json": {
       "model_id": "c333550f6c634f13bc7583d85035a289",
       "version_major": 2,
       "version_minor": 0
      },
      "text/plain": [
       "_ColormakerRegistry()"
      ]
     },
     "metadata": {},
     "output_type": "display_data"
    }
   ],
   "source": [
    "import nglview as nv"
   ]
  },
  {
   "cell_type": "code",
   "execution_count": 78,
   "metadata": {},
   "outputs": [],
   "source": [
    "view_covid =  nv.show_biopython(covid_structure)"
   ]
  },
  {
   "cell_type": "code",
   "execution_count": 79,
   "metadata": {},
   "outputs": [
    {
     "data": {
      "application/vnd.jupyter.widget-view+json": {
       "model_id": "396d2b375b62441d98b9da0d0107e24c",
       "version_major": 2,
       "version_minor": 0
      },
      "text/plain": [
       "NGLWidget()"
      ]
     },
     "metadata": {},
     "output_type": "display_data"
    }
   ],
   "source": [
    "view_covid"
   ]
  },
  {
   "cell_type": "code",
   "execution_count": 80,
   "metadata": {},
   "outputs": [],
   "source": [
    "view_mers =  nv.show_biopython(mers_structure)"
   ]
  },
  {
   "cell_type": "code",
   "execution_count": 81,
   "metadata": {},
   "outputs": [
    {
     "data": {
      "application/vnd.jupyter.widget-view+json": {
       "model_id": "6dceadcc0496412d953ba613bb422df7",
       "version_major": 2,
       "version_minor": 0
      },
      "text/plain": [
       "NGLWidget()"
      ]
     },
     "metadata": {},
     "output_type": "display_data"
    }
   ],
   "source": [
    "view_mers"
   ]
  },
  {
   "cell_type": "code",
   "execution_count": 82,
   "metadata": {},
   "outputs": [],
   "source": [
    "view_sars =  nv.show_biopython(sars_structure)"
   ]
  },
  {
   "cell_type": "code",
   "execution_count": 83,
   "metadata": {},
   "outputs": [
    {
     "data": {
      "application/vnd.jupyter.widget-view+json": {
       "model_id": "4026ee767c7f4f6f9e80b0e27cb0c38e",
       "version_major": 2,
       "version_minor": 0
      },
      "text/plain": [
       "NGLWidget()"
      ]
     },
     "metadata": {},
     "output_type": "display_data"
    }
   ],
   "source": [
    "view_sars"
   ]
  },
  {
   "cell_type": "code",
   "execution_count": 84,
   "metadata": {},
   "outputs": [],
   "source": [
    "view_ebola =  nv.show_biopython(ebola_structure)"
   ]
  },
  {
   "cell_type": "code",
   "execution_count": 85,
   "metadata": {},
   "outputs": [
    {
     "data": {
      "application/vnd.jupyter.widget-view+json": {
       "model_id": "fbd92eee315844028f5afd62974097d4",
       "version_major": 2,
       "version_minor": 0
      },
      "text/plain": [
       "NGLWidget()"
      ]
     },
     "metadata": {},
     "output_type": "display_data"
    }
   ],
   "source": [
    "view_ebola"
   ]
  }
 ],
 "metadata": {
  "kernelspec": {
   "display_name": "Python (bio_dev)",
   "language": "python",
   "name": "bio_dev"
  },
  "language_info": {
   "codemirror_mode": {
    "name": "ipython",
    "version": 3
   },
   "file_extension": ".py",
   "mimetype": "text/x-python",
   "name": "python",
   "nbconvert_exporter": "python",
   "pygments_lexer": "ipython3",
   "version": "3.7.7"
  }
 },
 "nbformat": 4,
 "nbformat_minor": 4
}
