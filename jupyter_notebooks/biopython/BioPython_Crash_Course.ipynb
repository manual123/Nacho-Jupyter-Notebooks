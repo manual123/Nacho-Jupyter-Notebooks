{
 "cells": [
  {
   "cell_type": "markdown",
   "metadata": {},
   "source": [
    "### BioInformatics Resources\n",
    "+ Intro to BioInformatics: https://www.lehigh.edu/~inbios21/PDF/Fall2008/Lopresti_11142008.pdf\n",
    "+ BioInformatics in Python YouTube series: https://www.youtube.com/watch?v=Wkx0fI4e0fs\n",
    "+ Sequence Analysis of SARS-CoV2 YouTube: https://www.youtube.com/watch?v=dxVKG2gNSos\n",
    "+ Comparing Sequences from SARS-CoV2, SARS-CoV1, MERS, and Ebola: https://www.youtube.com/watch?v=iJVJ3AT4bUY\n",
    "+ Sequence Handling: https://nbviewer.jupyter.org/github/cgoliver/Notebooks/blob/master/COMP_364/L25/L25.ipynb\n",
    "+ 3D Structure Analysis: https://www.youtube.com/watch?v=mL8NPpRxgJA, https://www.youtube.com/watch?v=Q2tNC9rSFEg\n",
    "+ Structure of DNA YouTube video: https://www.youtube.com/watch?v=o_-6JXLYS-k, https://www.youtube.com/watch?v=gKHO0HHPsXg\n",
    "+ GC Content explanation: https://en.wikipedia.org/wiki/GC-content\n",
    "+ OMGenomics YouTube Series: https://www.youtube.com/channel/UCG4kmWK8UyzfenZ60xVBapw/\n",
    "+ Rosalind BioInformatics Problem Solving: http://rosalind.info/problems/locations/\n",
    "\n",
    "### BioPython\n",
    "+ BioPython tutorial: http://biopython.org/DIST/docs/tutorial/Tutorial.html\n",
    "\n",
    "Unfortunately, pytraj is a major pain in the ass to install per https://github.com/Amber-MD/pytraj#install and does NOT support Windows<br>\n",
    "Therefore, it is recommended to install pytraj using miniconda3 distribution using the conda command.<br>\n",
    "To prevent the base environment from activating with each new terminal session, run the following command:<br>\n",
    "```conda config --set auto_activate_base false```\n",
    "\n",
    "\n",
    "### Installation\n",
    "conda install biopython<br>\n",
    "conda install -c ambermd pytraj per https://anaconda.org/ambermd/pytraj/<br>\n",
    "conda install -c rmg py3dmol per https://anaconda.org/rmg/py3dmol / https://pypi.org/project/py3Dmol/<br>\n",
    "conda install -c conda-forge nglview per https://anaconda.org/conda-forge/nglview<br>\n",
    "\n",
    "#### In your Python virtual environment containing biopython package, execute these commands at the terminal:\n",
    "+ jupyter-nbextension enable nglview --py --sys-prefix\n",
    "+ nglview enable\n",
    "\n",
    "#### In your Python virtual environment that runs your Jupyter Lab, execute these commands at the terminal:\n",
    "+ jupyter labextension install @jupyter-widget/jupyterlab-manager\n",
    "+ jupyter labextension install nglview-js-widgets\n",
    "+ jupyter labextension install jupyterlab_3dmol (my notebooks would not open when this extension was installed)\n",
    "\n",
    "#### Applications\n",
    "+ For sequence analysis (DNA,RNA)\n",
    "+ To do transcription and translation of DNA (Protein Synthesis)\n",
    "+ Querying and Access BioInformatic Databases\n",
    "    - Entrez, BLAST,GenBank,etc\n",
    "+ 3D Structure analysis\n",
    "\n",
    "\n",
    "#### Task\n",
    "+ Analysis of Covid19 genome"
   ]
  },
  {
   "cell_type": "code",
   "execution_count": 1,
   "metadata": {},
   "outputs": [],
   "source": [
    "# Load the Pkg\n",
    "import Bio"
   ]
  },
  {
   "cell_type": "code",
   "execution_count": 2,
   "metadata": {},
   "outputs": [
    {
     "data": {
      "text/plain": [
       "['BiopythonDeprecationWarning',\n",
       " 'BiopythonExperimentalWarning',\n",
       " 'BiopythonParserWarning',\n",
       " 'BiopythonWarning',\n",
       " 'MissingExternalDependencyError',\n",
       " 'MissingPythonDependencyError',\n",
       " '__builtins__',\n",
       " '__cached__',\n",
       " '__doc__',\n",
       " '__file__',\n",
       " '__loader__',\n",
       " '__name__',\n",
       " '__package__',\n",
       " '__path__',\n",
       " '__spec__',\n",
       " '__version__',\n",
       " '_parent_dir',\n",
       " 'os',\n",
       " 'warnings']"
      ]
     },
     "execution_count": 2,
     "metadata": {},
     "output_type": "execute_result"
    }
   ],
   "source": [
    "# Check the Attributes\n",
    "dir(Bio)"
   ]
  },
  {
   "cell_type": "markdown",
   "metadata": {},
   "source": [
    "#### Sequence Analysis\n",
    "+ DNA and RNA Sequence\n",
    "    - A Adenine\n",
    "    - C Cytosine\n",
    "    - G Guanine\n",
    "    - T Thymine\n",
    "    - U Uracil * RNA\n",
    "    \n",
    "+ Protein Sequence Analysis\n",
    "\n"
   ]
  },
  {
   "cell_type": "code",
   "execution_count": 3,
   "metadata": {},
   "outputs": [],
   "source": [
    "# Working with Sequence\n",
    "from Bio.Seq import Seq"
   ]
  },
  {
   "cell_type": "code",
   "execution_count": 4,
   "metadata": {},
   "outputs": [
    {
     "data": {
      "text/plain": [
       "['__add__',\n",
       " '__class__',\n",
       " '__contains__',\n",
       " '__delattr__',\n",
       " '__dict__',\n",
       " '__dir__',\n",
       " '__doc__',\n",
       " '__eq__',\n",
       " '__format__',\n",
       " '__ge__',\n",
       " '__getattribute__',\n",
       " '__getitem__',\n",
       " '__gt__',\n",
       " '__hash__',\n",
       " '__imul__',\n",
       " '__init__',\n",
       " '__init_subclass__',\n",
       " '__le__',\n",
       " '__len__',\n",
       " '__lt__',\n",
       " '__module__',\n",
       " '__mul__',\n",
       " '__ne__',\n",
       " '__new__',\n",
       " '__radd__',\n",
       " '__reduce__',\n",
       " '__reduce_ex__',\n",
       " '__repr__',\n",
       " '__rmul__',\n",
       " '__setattr__',\n",
       " '__sizeof__',\n",
       " '__str__',\n",
       " '__subclasshook__',\n",
       " '__weakref__',\n",
       " '_get_seq_str_and_check_alphabet',\n",
       " 'back_transcribe',\n",
       " 'complement',\n",
       " 'count',\n",
       " 'count_overlap',\n",
       " 'encode',\n",
       " 'endswith',\n",
       " 'find',\n",
       " 'index',\n",
       " 'join',\n",
       " 'lower',\n",
       " 'lstrip',\n",
       " 'reverse_complement',\n",
       " 'rfind',\n",
       " 'rindex',\n",
       " 'rsplit',\n",
       " 'rstrip',\n",
       " 'split',\n",
       " 'startswith',\n",
       " 'strip',\n",
       " 'tomutable',\n",
       " 'transcribe',\n",
       " 'translate',\n",
       " 'ungap',\n",
       " 'upper']"
      ]
     },
     "execution_count": 4,
     "metadata": {},
     "output_type": "execute_result"
    }
   ],
   "source": [
    "dir(Seq)"
   ]
  },
  {
   "cell_type": "code",
   "execution_count": 5,
   "metadata": {},
   "outputs": [],
   "source": [
    "# Create a General DNA sequence\n",
    "mydna = Seq('ATTAAAGGTTTATACCTTCCCAGGTAACAAACCAACCAACTTTCGATCTCTTGTAGATCTGTTCTCTAAA')"
   ]
  },
  {
   "cell_type": "code",
   "execution_count": 6,
   "metadata": {},
   "outputs": [
    {
     "data": {
      "text/plain": [
       "Bio.Seq.Seq"
      ]
     },
     "execution_count": 6,
     "metadata": {},
     "output_type": "execute_result"
    }
   ],
   "source": [
    "type(mydna)"
   ]
  },
  {
   "cell_type": "code",
   "execution_count": 7,
   "metadata": {},
   "outputs": [
    {
     "data": {
      "text/plain": [
       "70"
      ]
     },
     "execution_count": 7,
     "metadata": {},
     "output_type": "execute_result"
    }
   ],
   "source": [
    "len(mydna)"
   ]
  },
  {
   "cell_type": "code",
   "execution_count": 8,
   "metadata": {},
   "outputs": [
    {
     "data": {
      "text/plain": [
       "Seq('ATTAAAGGTTTATACCTTCCCAGGTAACAAACCAACCAACTTTCGATCTCTTGT...AAA')"
      ]
     },
     "execution_count": 8,
     "metadata": {},
     "output_type": "execute_result"
    }
   ],
   "source": [
    "mydna"
   ]
  },
  {
   "cell_type": "code",
   "execution_count": 9,
   "metadata": {},
   "outputs": [
    {
     "data": {
      "text/plain": [
       "Alphabet()"
      ]
     },
     "execution_count": 9,
     "metadata": {},
     "output_type": "execute_result"
    }
   ],
   "source": [
    "mydna.alphabet"
   ]
  },
  {
   "cell_type": "code",
   "execution_count": 10,
   "metadata": {},
   "outputs": [
    {
     "data": {
      "text/plain": [
       "'ATTAAAGGTTTATACCTTCCCAGGTAACAAACCAACCAACTTTCGATCTCTTGTAGATCTGTTCTCTAAA'"
      ]
     },
     "execution_count": 10,
     "metadata": {},
     "output_type": "execute_result"
    }
   ],
   "source": [
    "# Convert Sequence to String\n",
    "# Method 1\n",
    "str(mydna)"
   ]
  },
  {
   "cell_type": "code",
   "execution_count": 11,
   "metadata": {},
   "outputs": [
    {
     "data": {
      "text/plain": [
       "Bio.Seq.Seq"
      ]
     },
     "execution_count": 11,
     "metadata": {},
     "output_type": "execute_result"
    }
   ],
   "source": [
    "type(mydna)"
   ]
  },
  {
   "cell_type": "markdown",
   "metadata": {},
   "source": [
    "#### Alphabet Types\n",
    "+ generic_dna/rna\n",
    "+ generic_protein\n",
    "+ IUPACUnambiguousDNA, which provides for just the basic letters, \n",
    "+ IUPACAmbiguousDNA ,which provides for ambiguity letters for every possible situation\n",
    "\n",
    "#### Usefulness of Specifying the Type of Sequence or Alphabet\n",
    "+ Help us to have an idea of the type of information the Seq object contains. \n",
    "+ Act as a means of constraining the information,\n",
    "+ As a means of type checking."
   ]
  },
  {
   "cell_type": "code",
   "execution_count": 12,
   "metadata": {},
   "outputs": [],
   "source": [
    "# Create a Specific Sequence (DNA,RNA,Protein)\n",
    "from Bio.Alphabet import generic_dna, generic_rna, generic_protein"
   ]
  },
  {
   "cell_type": "code",
   "execution_count": 13,
   "metadata": {},
   "outputs": [],
   "source": [
    "# Create a DNA\n",
    "dna1 = Seq('ATTAAAGGTTTATACCTTCCCAGGTAACAAACCAACCAACTTTCGATCTCTTGTAGATCTGTTCTCTAAA',generic_dna)"
   ]
  },
  {
   "cell_type": "code",
   "execution_count": 14,
   "metadata": {},
   "outputs": [
    {
     "data": {
      "text/plain": [
       "DNAAlphabet()"
      ]
     },
     "execution_count": 14,
     "metadata": {},
     "output_type": "execute_result"
    }
   ],
   "source": [
    "# Check the Type of Sequence\n",
    "dna1.alphabet"
   ]
  },
  {
   "cell_type": "code",
   "execution_count": 15,
   "metadata": {},
   "outputs": [],
   "source": [
    "# Create a RNA\n",
    "rna1 = Seq('AGGCUCUCGUA',generic_rna)"
   ]
  },
  {
   "cell_type": "code",
   "execution_count": 16,
   "metadata": {},
   "outputs": [
    {
     "data": {
      "text/plain": [
       "RNAAlphabet()"
      ]
     },
     "execution_count": 16,
     "metadata": {},
     "output_type": "execute_result"
    }
   ],
   "source": [
    "rna1.alphabet"
   ]
  },
  {
   "cell_type": "code",
   "execution_count": 17,
   "metadata": {},
   "outputs": [],
   "source": [
    "# Method 2 Using IUPAC\n",
    "from Bio.Alphabet import IUPAC"
   ]
  },
  {
   "cell_type": "code",
   "execution_count": 18,
   "metadata": {},
   "outputs": [],
   "source": [
    "dna2 = Seq('ATTAAAGGTTTATACCTTCCCAGGTAACAAACCAACCAACTTTCGATCTCTTGTAGATCTGTTCTCTAAA',IUPAC.unambiguous_dna)"
   ]
  },
  {
   "cell_type": "code",
   "execution_count": 19,
   "metadata": {},
   "outputs": [
    {
     "data": {
      "text/plain": [
       "IUPACUnambiguousDNA()"
      ]
     },
     "execution_count": 19,
     "metadata": {},
     "output_type": "execute_result"
    }
   ],
   "source": [
    "dna2.alphabet"
   ]
  },
  {
   "cell_type": "markdown",
   "metadata": {},
   "source": [
    "#### Sequence Manipulation\n",
    "+ Indexing/Slicing\n",
    "+ Join 2 Sequences\n",
    "+ Find a Codon in a sequence\n",
    "+ Count the number of Nucleotides"
   ]
  },
  {
   "cell_type": "code",
   "execution_count": 20,
   "metadata": {},
   "outputs": [],
   "source": [
    "dna_seq = Seq('ATTAAAGGTTTATACCTTCCCAGGTAACAAACCAACCAACTTTCGATCTCTTGTAGATCTGTTCTCTAAA',generic_dna)"
   ]
  },
  {
   "cell_type": "code",
   "execution_count": 21,
   "metadata": {},
   "outputs": [
    {
     "data": {
      "text/plain": [
       "Seq('ATT', DNAAlphabet())"
      ]
     },
     "execution_count": 21,
     "metadata": {},
     "output_type": "execute_result"
    }
   ],
   "source": [
    "# Slicing\n",
    "dna_seq[0:3]"
   ]
  },
  {
   "cell_type": "code",
   "execution_count": 22,
   "metadata": {},
   "outputs": [],
   "source": [
    "# Adding Sequence\n",
    "dna_seq2 = Seq('AGCGCTTCGAGA',generic_dna)"
   ]
  },
  {
   "cell_type": "code",
   "execution_count": 23,
   "metadata": {},
   "outputs": [
    {
     "data": {
      "text/plain": [
       "Seq('ATTCTTCGAGA', DNAAlphabet())"
      ]
     },
     "execution_count": 23,
     "metadata": {},
     "output_type": "execute_result"
    }
   ],
   "source": [
    "dna_seq[0:3] + dna_seq2[4:]"
   ]
  },
  {
   "cell_type": "code",
   "execution_count": 24,
   "metadata": {},
   "outputs": [
    {
     "data": {
      "text/plain": [
       "8"
      ]
     },
     "execution_count": 24,
     "metadata": {},
     "output_type": "execute_result"
    }
   ],
   "source": [
    "# Find the number of G Nucleotides in a sequence\n",
    "dna_seq.count('G')"
   ]
  },
  {
   "cell_type": "code",
   "execution_count": 25,
   "metadata": {},
   "outputs": [
    {
     "data": {
      "text/plain": [
       "2"
      ]
     },
     "execution_count": 25,
     "metadata": {},
     "output_type": "execute_result"
    }
   ],
   "source": [
    "# Count the number of G Nucleotides in a sequence\n",
    "dna_seq.count('GGT')"
   ]
  },
  {
   "cell_type": "code",
   "execution_count": 26,
   "metadata": {},
   "outputs": [
    {
     "data": {
      "text/plain": [
       "6"
      ]
     },
     "execution_count": 26,
     "metadata": {},
     "output_type": "execute_result"
    }
   ],
   "source": [
    "# Find the index/position of G Nucleotides in a sequence\n",
    "dna_seq.find('G')"
   ]
  },
  {
   "cell_type": "code",
   "execution_count": 27,
   "metadata": {},
   "outputs": [
    {
     "data": {
      "text/plain": [
       "2"
      ]
     },
     "execution_count": 27,
     "metadata": {},
     "output_type": "execute_result"
    }
   ],
   "source": [
    "# Count the number of G Nucleotides in a sequence in that overlap\n",
    "dna_seq.count_overlap('GGT')"
   ]
  },
  {
   "cell_type": "code",
   "execution_count": 28,
   "metadata": {},
   "outputs": [],
   "source": [
    "seq1 = Seq('ATGATCTCGTAA')"
   ]
  },
  {
   "cell_type": "code",
   "execution_count": 29,
   "metadata": {},
   "outputs": [
    {
     "data": {
      "text/plain": [
       "Seq('TACTAGAGCATT')"
      ]
     },
     "execution_count": 29,
     "metadata": {},
     "output_type": "execute_result"
    }
   ],
   "source": [
    "# Complement\n",
    "seq1.complement()"
   ]
  },
  {
   "cell_type": "code",
   "execution_count": 30,
   "metadata": {},
   "outputs": [
    {
     "data": {
      "text/plain": [
       "Seq('TTACGAGATCAT')"
      ]
     },
     "execution_count": 30,
     "metadata": {},
     "output_type": "execute_result"
    }
   ],
   "source": [
    "# Backwards of complement\n",
    "seq1.reverse_complement()"
   ]
  },
  {
   "cell_type": "code",
   "execution_count": 31,
   "metadata": {},
   "outputs": [
    {
     "data": {
      "text/plain": [
       "Seq('AUGAUCUCGUAA', RNAAlphabet())"
      ]
     },
     "execution_count": 31,
     "metadata": {},
     "output_type": "execute_result"
    }
   ],
   "source": [
    "# To mrna\n",
    "seq1.transcribe()"
   ]
  },
  {
   "cell_type": "code",
   "execution_count": 32,
   "metadata": {},
   "outputs": [
    {
     "data": {
      "text/plain": [
       "Seq('MIS*', HasStopCodon(ExtendedIUPACProtein(), '*'))"
      ]
     },
     "execution_count": 32,
     "metadata": {},
     "output_type": "execute_result"
    }
   ],
   "source": [
    "seq1.transcribe().translate()"
   ]
  },
  {
   "cell_type": "code",
   "execution_count": 33,
   "metadata": {},
   "outputs": [
    {
     "data": {
      "text/plain": [
       "Seq('MIS*', HasStopCodon(ExtendedIUPACProtein(), '*'))"
      ]
     },
     "execution_count": 33,
     "metadata": {},
     "output_type": "execute_result"
    }
   ],
   "source": [
    "# To protein\n",
    "seq1.translate()"
   ]
  },
  {
   "cell_type": "markdown",
   "metadata": {},
   "source": [
    "### Proteing Synthesis\n",
    "![](images/proteinsynthesis01.png)"
   ]
  },
  {
   "cell_type": "markdown",
   "metadata": {},
   "source": [
    "### Proteing Synthesis\n",
    "![](images/proteinsynthesis02.jpg)"
   ]
  },
  {
   "cell_type": "code",
   "execution_count": 34,
   "metadata": {},
   "outputs": [
    {
     "data": {
      "text/plain": [
       "Seq('ATTAAAGGTTTATACCTTCCCAGGTAACAAACCAACCAACTTTCGATCTCTTGT...AAA', DNAAlphabet())"
      ]
     },
     "execution_count": 34,
     "metadata": {},
     "output_type": "execute_result"
    }
   ],
   "source": [
    "# Transcription\n",
    "# DNA to mRNA\n",
    "dna_seq"
   ]
  },
  {
   "cell_type": "code",
   "execution_count": 35,
   "metadata": {},
   "outputs": [],
   "source": [
    "mrna = dna_seq.transcribe()"
   ]
  },
  {
   "cell_type": "code",
   "execution_count": 36,
   "metadata": {},
   "outputs": [
    {
     "data": {
      "text/plain": [
       "Seq('AUUAAAGGUUUAUACCUUCCCAGGUAACAAACCAACCAACUUUCGAUCUCUUGU...AAA', RNAAlphabet())"
      ]
     },
     "execution_count": 36,
     "metadata": {},
     "output_type": "execute_result"
    }
   ],
   "source": [
    "# Changes the Thiamine to Uracil\n",
    "mrna"
   ]
  },
  {
   "cell_type": "code",
   "execution_count": 37,
   "metadata": {},
   "outputs": [
    {
     "name": "stderr",
     "output_type": "stream",
     "text": [
      "/home/pybokeh/miniconda3/envs/bio_dev/lib/python3.7/site-packages/Bio/Seq.py:2859: BiopythonWarning: Partial codon, len(sequence) not a multiple of three. Explicitly trim the sequence or add trailing N before translation. This may become an error in future.\n",
      "  BiopythonWarning,\n"
     ]
    },
    {
     "data": {
      "text/plain": [
       "Seq('IKGLYLPR*QTNQLSISCRSVL*', HasStopCodon(ExtendedIUPACProtein(), '*'))"
      ]
     },
     "execution_count": 37,
     "metadata": {},
     "output_type": "execute_result"
    }
   ],
   "source": [
    "# Translation\n",
    "# mRNA to Protein\n",
    "# DNA to Protein\n",
    "dna_seq.translate()"
   ]
  },
  {
   "cell_type": "code",
   "execution_count": 38,
   "metadata": {},
   "outputs": [
    {
     "data": {
      "text/plain": [
       "['__add__',\n",
       " '__class__',\n",
       " '__contains__',\n",
       " '__delattr__',\n",
       " '__dict__',\n",
       " '__dir__',\n",
       " '__doc__',\n",
       " '__eq__',\n",
       " '__format__',\n",
       " '__ge__',\n",
       " '__getattribute__',\n",
       " '__getitem__',\n",
       " '__gt__',\n",
       " '__hash__',\n",
       " '__imul__',\n",
       " '__init__',\n",
       " '__init_subclass__',\n",
       " '__le__',\n",
       " '__len__',\n",
       " '__lt__',\n",
       " '__module__',\n",
       " '__mul__',\n",
       " '__ne__',\n",
       " '__new__',\n",
       " '__radd__',\n",
       " '__reduce__',\n",
       " '__reduce_ex__',\n",
       " '__repr__',\n",
       " '__rmul__',\n",
       " '__setattr__',\n",
       " '__sizeof__',\n",
       " '__str__',\n",
       " '__subclasshook__',\n",
       " '__weakref__',\n",
       " '_data',\n",
       " '_get_seq_str_and_check_alphabet',\n",
       " 'alphabet',\n",
       " 'back_transcribe',\n",
       " 'complement',\n",
       " 'count',\n",
       " 'count_overlap',\n",
       " 'encode',\n",
       " 'endswith',\n",
       " 'find',\n",
       " 'index',\n",
       " 'join',\n",
       " 'lower',\n",
       " 'lstrip',\n",
       " 'reverse_complement',\n",
       " 'rfind',\n",
       " 'rindex',\n",
       " 'rsplit',\n",
       " 'rstrip',\n",
       " 'split',\n",
       " 'startswith',\n",
       " 'strip',\n",
       " 'tomutable',\n",
       " 'transcribe',\n",
       " 'translate',\n",
       " 'ungap',\n",
       " 'upper']"
      ]
     },
     "execution_count": 38,
     "metadata": {},
     "output_type": "execute_result"
    }
   ],
   "source": [
    "dir(mrna)"
   ]
  },
  {
   "cell_type": "code",
   "execution_count": 39,
   "metadata": {},
   "outputs": [
    {
     "data": {
      "text/plain": [
       "Seq('IKGLYLPR*QTNQLSISCRSVL*', HasStopCodon(ExtendedIUPACProtein(), '*'))"
      ]
     },
     "execution_count": 39,
     "metadata": {},
     "output_type": "execute_result"
    }
   ],
   "source": [
    "# Translate mRNA to Protein/Amino Acid\n",
    "mrna.translate()"
   ]
  },
  {
   "cell_type": "code",
   "execution_count": 40,
   "metadata": {},
   "outputs": [
    {
     "data": {
      "text/plain": [
       "Seq('IKGLYLPR@QTNQLSISCRSVL@', HasStopCodon(ExtendedIUPACProtein(), '@'))"
      ]
     },
     "execution_count": 40,
     "metadata": {},
     "output_type": "execute_result"
    }
   ],
   "source": [
    "# Translate mRNA to Protein/Amino Acid\n",
    "# Change the symbol for the stop codon\n",
    "mrna.translate(stop_symbol='@')"
   ]
  },
  {
   "cell_type": "code",
   "execution_count": 41,
   "metadata": {},
   "outputs": [
    {
     "data": {
      "text/plain": [
       "Seq('ATTAAAGGTTTATACCTTCCCAGGTAACAAACCAACCAACTTTCGATCTCTTGT...AAA', DNAAlphabet())"
      ]
     },
     "execution_count": 41,
     "metadata": {},
     "output_type": "execute_result"
    }
   ],
   "source": [
    "# Back Transcribe mRNA to DNA\n",
    "mrna.back_transcribe()"
   ]
  },
  {
   "cell_type": "code",
   "execution_count": 42,
   "metadata": {},
   "outputs": [],
   "source": [
    "# Custom Translate\n",
    "def custom_translate(seq): \n",
    "      \n",
    "    table = { \n",
    "        'ATA':'I', 'ATC':'I', 'ATT':'I', 'ATG':'M', \n",
    "        'ACA':'T', 'ACC':'T', 'ACG':'T', 'ACT':'T', \n",
    "        'AAC':'N', 'AAT':'N', 'AAA':'K', 'AAG':'K', \n",
    "        'AGC':'S', 'AGT':'S', 'AGA':'R', 'AGG':'R',                  \n",
    "        'CTA':'L', 'CTC':'L', 'CTG':'L', 'CTT':'L', \n",
    "        'CCA':'P', 'CCC':'P', 'CCG':'P', 'CCT':'P', \n",
    "        'CAC':'H', 'CAT':'H', 'CAA':'Q', 'CAG':'Q', \n",
    "        'CGA':'R', 'CGC':'R', 'CGG':'R', 'CGT':'R', \n",
    "        'GTA':'V', 'GTC':'V', 'GTG':'V', 'GTT':'V', \n",
    "        'GCA':'A', 'GCC':'A', 'GCG':'A', 'GCT':'A', \n",
    "        'GAC':'D', 'GAT':'D', 'GAA':'E', 'GAG':'E', \n",
    "        'GGA':'G', 'GGC':'G', 'GGG':'G', 'GGT':'G', \n",
    "        'TCA':'S', 'TCC':'S', 'TCG':'S', 'TCT':'S', \n",
    "        'TTC':'F', 'TTT':'F', 'TTA':'L', 'TTG':'L', \n",
    "        'TAC':'Y', 'TAT':'Y', 'TAA':'_', 'TAG':'_', \n",
    "        'TGC':'C', 'TGT':'C', 'TGA':'_', 'TGG':'W', \n",
    "    } \n",
    "    protein =\"\" \n",
    "    if len(seq)%3 == 0: \n",
    "        for i in range(0, len(seq), 3): \n",
    "            codon = seq[i:i + 3] \n",
    "            protein+= table[codon] \n",
    "    return protein "
   ]
  },
  {
   "cell_type": "code",
   "execution_count": 43,
   "metadata": {},
   "outputs": [
    {
     "data": {
      "text/plain": [
       "''"
      ]
     },
     "execution_count": 43,
     "metadata": {},
     "output_type": "execute_result"
    }
   ],
   "source": [
    "custom_translate(dna1[2:30])"
   ]
  },
  {
   "cell_type": "code",
   "execution_count": 44,
   "metadata": {},
   "outputs": [],
   "source": [
    "# View the CodonTable\n",
    "from Bio.Data import CodonTable"
   ]
  },
  {
   "cell_type": "code",
   "execution_count": 45,
   "metadata": {},
   "outputs": [
    {
     "data": {
      "text/plain": [
       "['Alphabet',\n",
       " 'AmbiguousCodonTable',\n",
       " 'AmbiguousForwardTable',\n",
       " 'CodonTable',\n",
       " 'IUPAC',\n",
       " 'IUPACData',\n",
       " 'NCBICodonTable',\n",
       " 'NCBICodonTableDNA',\n",
       " 'NCBICodonTableRNA',\n",
       " 'TranslationError',\n",
       " '__builtins__',\n",
       " '__cached__',\n",
       " '__doc__',\n",
       " '__file__',\n",
       " '__loader__',\n",
       " '__name__',\n",
       " '__package__',\n",
       " '__spec__',\n",
       " 'ambiguous_dna_by_id',\n",
       " 'ambiguous_dna_by_name',\n",
       " 'ambiguous_generic_by_id',\n",
       " 'ambiguous_generic_by_name',\n",
       " 'ambiguous_rna_by_id',\n",
       " 'ambiguous_rna_by_name',\n",
       " 'generic_by_id',\n",
       " 'generic_by_name',\n",
       " 'list_ambiguous_codons',\n",
       " 'list_possible_proteins',\n",
       " 'make_back_table',\n",
       " 'register_ncbi_table',\n",
       " 'standard_dna_table',\n",
       " 'standard_rna_table',\n",
       " 'unambiguous_dna_by_id',\n",
       " 'unambiguous_dna_by_name',\n",
       " 'unambiguous_rna_by_id',\n",
       " 'unambiguous_rna_by_name']"
      ]
     },
     "execution_count": 45,
     "metadata": {},
     "output_type": "execute_result"
    }
   ],
   "source": [
    "dir(CodonTable)"
   ]
  },
  {
   "cell_type": "code",
   "execution_count": 46,
   "metadata": {},
   "outputs": [
    {
     "name": "stdout",
     "output_type": "stream",
     "text": [
      "Table 1 Standard, SGC0\n",
      "\n",
      "  |  T      |  C      |  A      |  G      |\n",
      "--+---------+---------+---------+---------+--\n",
      "T | TTT F   | TCT S   | TAT Y   | TGT C   | T\n",
      "T | TTC F   | TCC S   | TAC Y   | TGC C   | C\n",
      "T | TTA L   | TCA S   | TAA Stop| TGA Stop| A\n",
      "T | TTG L(s)| TCG S   | TAG Stop| TGG W   | G\n",
      "--+---------+---------+---------+---------+--\n",
      "C | CTT L   | CCT P   | CAT H   | CGT R   | T\n",
      "C | CTC L   | CCC P   | CAC H   | CGC R   | C\n",
      "C | CTA L   | CCA P   | CAA Q   | CGA R   | A\n",
      "C | CTG L(s)| CCG P   | CAG Q   | CGG R   | G\n",
      "--+---------+---------+---------+---------+--\n",
      "A | ATT I   | ACT T   | AAT N   | AGT S   | T\n",
      "A | ATC I   | ACC T   | AAC N   | AGC S   | C\n",
      "A | ATA I   | ACA T   | AAA K   | AGA R   | A\n",
      "A | ATG M(s)| ACG T   | AAG K   | AGG R   | G\n",
      "--+---------+---------+---------+---------+--\n",
      "G | GTT V   | GCT A   | GAT D   | GGT G   | T\n",
      "G | GTC V   | GCC A   | GAC D   | GGC G   | C\n",
      "G | GTA V   | GCA A   | GAA E   | GGA G   | A\n",
      "G | GTG V   | GCG A   | GAG E   | GGG G   | G\n",
      "--+---------+---------+---------+---------+--\n"
     ]
    }
   ],
   "source": [
    "# CodonTable for DNA\n",
    "print(CodonTable.unambiguous_dna_by_name['Standard'])"
   ]
  },
  {
   "cell_type": "code",
   "execution_count": 47,
   "metadata": {},
   "outputs": [
    {
     "name": "stdout",
     "output_type": "stream",
     "text": [
      "Table 1 Standard, SGC0\n",
      "\n",
      "  |  U      |  C      |  A      |  G      |\n",
      "--+---------+---------+---------+---------+--\n",
      "U | UUU F   | UCU S   | UAU Y   | UGU C   | U\n",
      "U | UUC F   | UCC S   | UAC Y   | UGC C   | C\n",
      "U | UUA L   | UCA S   | UAA Stop| UGA Stop| A\n",
      "U | UUG L(s)| UCG S   | UAG Stop| UGG W   | G\n",
      "--+---------+---------+---------+---------+--\n",
      "C | CUU L   | CCU P   | CAU H   | CGU R   | U\n",
      "C | CUC L   | CCC P   | CAC H   | CGC R   | C\n",
      "C | CUA L   | CCA P   | CAA Q   | CGA R   | A\n",
      "C | CUG L(s)| CCG P   | CAG Q   | CGG R   | G\n",
      "--+---------+---------+---------+---------+--\n",
      "A | AUU I   | ACU T   | AAU N   | AGU S   | U\n",
      "A | AUC I   | ACC T   | AAC N   | AGC S   | C\n",
      "A | AUA I   | ACA T   | AAA K   | AGA R   | A\n",
      "A | AUG M(s)| ACG T   | AAG K   | AGG R   | G\n",
      "--+---------+---------+---------+---------+--\n",
      "G | GUU V   | GCU A   | GAU D   | GGU G   | U\n",
      "G | GUC V   | GCC A   | GAC D   | GGC G   | C\n",
      "G | GUA V   | GCA A   | GAA E   | GGA G   | A\n",
      "G | GUG V   | GCG A   | GAG E   | GGG G   | G\n",
      "--+---------+---------+---------+---------+--\n"
     ]
    }
   ],
   "source": [
    "# CodonTable for RNA\n",
    "print(CodonTable.unambiguous_rna_by_name['Standard'])"
   ]
  },
  {
   "cell_type": "markdown",
   "metadata": {},
   "source": [
    "# Analysing Covid 19"
   ]
  },
  {
   "cell_type": "code",
   "execution_count": 48,
   "metadata": {},
   "outputs": [],
   "source": [
    "from Bio import SeqIO"
   ]
  },
  {
   "cell_type": "code",
   "execution_count": 49,
   "metadata": {},
   "outputs": [
    {
     "name": "stdout",
     "output_type": "stream",
     "text": [
      "NC_045512\n",
      "NC_045512\n",
      "NC_045512 |Severe acute respiratory syndrome coronavirus 2 isolate Wuhan-Hu-1| complete genome\n"
     ]
    }
   ],
   "source": [
    "# Load the file\n",
    "for record in SeqIO.parse(\"data/COVID-19.fasta\", \"fasta\"):\n",
    "    print(record.id)\n",
    "    print(record.name)\n",
    "    print(record.description)"
   ]
  },
  {
   "cell_type": "code",
   "execution_count": 50,
   "metadata": {},
   "outputs": [
    {
     "name": "stdout",
     "output_type": "stream",
     "text": [
      "ID: NC_045512\n",
      "Name: NC_045512\n",
      "Description: NC_045512 |Severe acute respiratory syndrome coronavirus 2 isolate Wuhan-Hu-1| complete genome\n",
      "Number of features: 0\n",
      "Seq('ATTAAAGGTTTATACCTTCCCAGGTAACAAACCAACCAACTTTCGATCTCTTGT...AAA', SingleLetterAlphabet())\n"
     ]
    }
   ],
   "source": [
    "# Load the file\n",
    "for record in SeqIO.parse(\"data/COVID-19.fasta\", \"fasta\"):\n",
    "    print(record)"
   ]
  },
  {
   "cell_type": "code",
   "execution_count": 51,
   "metadata": {},
   "outputs": [],
   "source": [
    "# Read the sequence record in the file\n",
    "ncov_dna_record = SeqIO.read(\"data/COVID-19.fasta\",\"fasta\")"
   ]
  },
  {
   "cell_type": "code",
   "execution_count": 52,
   "metadata": {},
   "outputs": [
    {
     "data": {
      "text/plain": [
       "Bio.SeqRecord.SeqRecord"
      ]
     },
     "execution_count": 52,
     "metadata": {},
     "output_type": "execute_result"
    }
   ],
   "source": [
    "type(ncov_dna_record)"
   ]
  },
  {
   "cell_type": "code",
   "execution_count": 53,
   "metadata": {},
   "outputs": [
    {
     "data": {
      "text/plain": [
       "SeqRecord(seq=Seq('ATTAAAGGTTTATACCTTCCCAGGTAACAAACCAACCAACTTTCGATCTCTTGT...AAA', SingleLetterAlphabet()), id='NC_045512', name='NC_045512', description='NC_045512 |Severe acute respiratory syndrome coronavirus 2 isolate Wuhan-Hu-1| complete genome', dbxrefs=[])"
      ]
     },
     "execution_count": 53,
     "metadata": {},
     "output_type": "execute_result"
    }
   ],
   "source": [
    "ncov_dna_record"
   ]
  },
  {
   "cell_type": "code",
   "execution_count": 54,
   "metadata": {},
   "outputs": [],
   "source": [
    "ncov_dna = ncov_dna_record.seq"
   ]
  },
  {
   "cell_type": "code",
   "execution_count": 55,
   "metadata": {},
   "outputs": [
    {
     "data": {
      "text/plain": [
       "Seq('ATTAAAGGTTTATACCTTCCCAGGTAACAAACCAACCAACTTTCGATCTCTTGT...AAA', SingleLetterAlphabet())"
      ]
     },
     "execution_count": 55,
     "metadata": {},
     "output_type": "execute_result"
    }
   ],
   "source": [
    "# Display the Nucleotides\n",
    "ncov_dna"
   ]
  },
  {
   "cell_type": "code",
   "execution_count": 56,
   "metadata": {},
   "outputs": [
    {
     "data": {
      "text/plain": [
       "29903"
      ]
     },
     "execution_count": 56,
     "metadata": {},
     "output_type": "execute_result"
    }
   ],
   "source": [
    "# Length of our sequence\n",
    "len(ncov_dna)"
   ]
  },
  {
   "cell_type": "code",
   "execution_count": 57,
   "metadata": {},
   "outputs": [],
   "source": [
    "# Transcribe (DNA to mRNA)\n",
    "ncov_mRNA = ncov_dna.transcribe()"
   ]
  },
  {
   "cell_type": "code",
   "execution_count": 58,
   "metadata": {},
   "outputs": [
    {
     "data": {
      "text/plain": [
       "Seq('AUUAAAGGUUUAUACCUUCCCAGGUAACAAACCAACCAACUUUCGAUCUCUUGU...AAA', RNAAlphabet())"
      ]
     },
     "execution_count": 58,
     "metadata": {},
     "output_type": "execute_result"
    }
   ],
   "source": [
    "# Changes Thymine to Uracil\n",
    "ncov_mRNA"
   ]
  },
  {
   "cell_type": "code",
   "execution_count": 59,
   "metadata": {},
   "outputs": [],
   "source": [
    "# Translate to Protein/Amino Acids (mRNA to AA)\n",
    "ncov_protein = ncov_mRNA.translate()"
   ]
  },
  {
   "cell_type": "code",
   "execution_count": 60,
   "metadata": {},
   "outputs": [
    {
     "data": {
      "text/plain": [
       "Seq('IKGLYLPR*QTNQLSISCRSVL*TNFKICVAVTRLHA*CTHAV*LITNYCR*QD...KKK', HasStopCodon(ExtendedIUPACProtein(), '*'))"
      ]
     },
     "execution_count": 60,
     "metadata": {},
     "output_type": "execute_result"
    }
   ],
   "source": [
    "ncov_protein"
   ]
  },
  {
   "cell_type": "code",
   "execution_count": 61,
   "metadata": {},
   "outputs": [
    {
     "data": {
      "text/plain": [
       "9967"
      ]
     },
     "execution_count": 61,
     "metadata": {},
     "output_type": "execute_result"
    }
   ],
   "source": [
    "# Length of Protein/Amino Acids\n",
    "len(ncov_protein)"
   ]
  },
  {
   "cell_type": "code",
   "execution_count": 62,
   "metadata": {},
   "outputs": [
    {
     "data": {
      "text/plain": [
       "9967.666666666666"
      ]
     },
     "execution_count": 62,
     "metadata": {},
     "output_type": "execute_result"
    }
   ],
   "source": [
    "# Check if it is true by dividing it by 3 for codon\n",
    "len(ncov_mRNA)/3"
   ]
  },
  {
   "cell_type": "code",
   "execution_count": 63,
   "metadata": {},
   "outputs": [],
   "source": [
    "# Find all the amino acids\n",
    "ncov_amino_acids = ncov_protein.split('*')"
   ]
  },
  {
   "cell_type": "code",
   "execution_count": 64,
   "metadata": {},
   "outputs": [
    {
     "data": {
      "text/plain": [
       "[Seq('IKGLYLPR', HasStopCodon(ExtendedIUPACProtein(), '*')),\n",
       " Seq('QTNQLSISCRSVL', HasStopCodon(ExtendedIUPACProtein(), '*')),\n",
       " Seq('TNFKICVAVTRLHA', HasStopCodon(ExtendedIUPACProtein(), '*')),\n",
       " Seq('CTHAV', HasStopCodon(ExtendedIUPACProtein(), '*')),\n",
       " Seq('LITNYCR', HasStopCodon(ExtendedIUPACProtein(), '*')),\n",
       " Seq('QDTSNSSIFCRLLTVSSVLQPIISTSRFRPGVTER', HasStopCodon(ExtendedIUPACProtein(), '*')),\n",
       " Seq('DGEPCPWFQRENTRPTQFACFTGSRRARTWLWRLRGGGLIRGTSTS', HasStopCodon(ExtendedIUPACProtein(), '*')),\n",
       " Seq('RWHLWLSRS', HasStopCodon(ExtendedIUPACProtein(), '*')),\n",
       " Seq('KRRFAST', HasStopCodon(ExtendedIUPACProtein(), '*')),\n",
       " Seq('TALCVHQTFGCSNCTSWSCYG', HasStopCodon(ExtendedIUPACProtein(), '*')),\n",
       " Seq('AGSRTRRHSVRS', HasStopCodon(ExtendedIUPACProtein(), '*')),\n",
       " Seq('W', HasStopCodon(ExtendedIUPACProtein(), '*')),\n",
       " Seq('DTWCPCPSCGRNTSGLPQGSSS', HasStopCodon(ExtendedIUPACProtein(), '*')),\n",
       " Seq('ER', HasStopCodon(ExtendedIUPACProtein(), '*')),\n",
       " Seq('', HasStopCodon(ExtendedIUPACProtein(), '*')),\n",
       " Seq('RSWWP', HasStopCodon(ExtendedIUPACProtein(), '*')),\n",
       " Seq('LRRRSKVI', HasStopCodon(ExtendedIUPACProtein(), '*')),\n",
       " Seq('LRRRAWH', HasStopCodon(ExtendedIUPACProtein(), '*')),\n",
       " Seq('SL', HasStopCodon(ExtendedIUPACProtein(), '*')),\n",
       " Seq('RFSRKLEH', HasStopCodon(ExtendedIUPACProtein(), '*')),\n",
       " Seq('T', HasStopCodon(ExtendedIUPACProtein(), '*')),\n",
       " Seq('QWCYP', HasStopCodon(ExtendedIUPACProtein(), '*')),\n",
       " Seq('THA', HasStopCodon(ExtendedIUPACProtein(), '*')),\n",
       " Seq('A', HasStopCodon(ExtendedIUPACProtein(), '*')),\n",
       " Seq('RRGIHSLCR', HasStopCodon(ExtendedIUPACProtein(), '*')),\n",
       " Seq('QLLWP', HasStopCodon(ExtendedIUPACProtein(), '*')),\n",
       " Seq('WLPS', HasStopCodon(ExtendedIUPACProtein(), '*')),\n",
       " Seq('VH', HasStopCodon(ExtendedIUPACProtein(), '*')),\n",
       " Seq('RPSSTCW', HasStopCodon(ExtendedIUPACProtein(), '*')),\n",
       " Seq('SFMHFVRTTGLY', HasStopCodon(ExtendedIUPACProtein(), '*')),\n",
       " Seq('H', HasStopCodon(ExtendedIUPACProtein(), '*')),\n",
       " Seq('EGCILLP', HasStopCodon(ExtendedIUPACProtein(), '*')),\n",
       " Seq('T', HasStopCodon(ExtendedIUPACProtein(), '*')),\n",
       " Seq('A', HasStopCodon(ExtendedIUPACProtein(), '*')),\n",
       " Seq('NCLVHGTF', HasStopCodon(ExtendedIUPACProtein(), '*')),\n",
       " Seq('KEL', HasStopCodon(ExtendedIUPACProtein(), '*')),\n",
       " Seq('IADTF', HasStopCodon(ExtendedIUPACProtein(), '*')),\n",
       " Seq('N', HasStopCodon(ExtendedIUPACProtein(), '*')),\n",
       " Seq('IGKEI', HasStopCodon(ExtendedIUPACProtein(), '*')),\n",
       " Seq('HLQWGMSKFCISLKFHNQDYSTKG', HasStopCodon(ExtendedIUPACProtein(), '*')),\n",
       " Seq('KEKA', HasStopCodon(ExtendedIUPACProtein(), '*')),\n",
       " Seq('WLYG', HasStopCodon(ExtendedIUPACProtein(), '*')),\n",
       " Seq('NSICLSSCVTK', HasStopCodon(ExtendedIUPACProtein(), '*')),\n",
       " Seq('MQPNVPFNSHEV', HasStopCodon(ExtendedIUPACProtein(), '*')),\n",
       " Seq('SLW', HasStopCodon(ExtendedIUPACProtein(), '*')),\n",
       " Seq('NFMADGRFC', HasStopCodon(ExtendedIUPACProtein(), '*')),\n",
       " Seq('SHLRILWH', HasStopCodon(ExtendedIUPACProtein(), '*')),\n",
       " Seq('EFD', HasStopCodon(ExtendedIUPACProtein(), '*')),\n",
       " Seq('RRCHYLWLLTPKCCC', HasStopCodon(ExtendedIUPACProtein(), '*')),\n",
       " Seq('NLLSSMSQFRSRT', HasStopCodon(ExtendedIUPACProtein(), '*')),\n",
       " Seq('A', HasStopCodon(ExtendedIUPACProtein(), '*')),\n",
       " Seq('SCRIP', HasStopCodon(ExtendedIUPACProtein(), '*')),\n",
       " Seq('', HasStopCodon(ExtendedIUPACProtein(), '*')),\n",
       " Seq('IWLENHSS', HasStopCodon(ExtendedIUPACProtein(), '*')),\n",
       " Seq('GWSHYCLWRLCVLLCWLP', HasStopCodon(ExtendedIUPACProtein(), '*')),\n",
       " Seq('QVCLLGSTC', HasStopCodon(ExtendedIUPACProtein(), '*')),\n",
       " Seq('R', HasStopCodon(ExtendedIUPACProtein(), '*')),\n",
       " Seq('HRL', HasStopCodon(ExtendedIUPACProtein(), '*')),\n",
       " Seq('PYRCCWRRFRRS', HasStopCodon(ExtendedIUPACProtein(), '*')),\n",
       " Seq('', HasStopCodon(ExtendedIUPACProtein(), '*')),\n",
       " Seq('QPS', HasStopCodon(ExtendedIUPACProtein(), '*')),\n",
       " Seq('NTPKRESQHQYCW', HasStopCodon(ExtendedIUPACProtein(), '*')),\n",
       " Seq('L', HasStopCodon(ExtendedIUPACProtein(), '*')),\n",
       " Seq('T', HasStopCodon(ExtendedIUPACProtein(), '*')),\n",
       " Seq('', HasStopCodon(ExtendedIUPACProtein(), '*')),\n",
       " Seq('RDRHYFGIFFCFHKCFCGNCERFGL', HasStopCodon(ExtendedIUPACProtein(), '*')),\n",
       " Seq('SIQTNC', HasStopCodon(ExtendedIUPACProtein(), '*')),\n",
       " Seq('ILW', HasStopCodon(ExtendedIUPACProtein(), '*')),\n",
       " Seq('F', HasStopCodon(ExtendedIUPACProtein(), '*')),\n",
       " Seq('SYKRKS', HasStopCodon(ExtendedIUPACProtein(), '*')),\n",
       " Seq('KRCLEYW', HasStopCodon(ExtendedIUPACProtein(), '*')),\n",
       " Seq('TEINTESSLCICIRGCSCCTINFLPHS', HasStopCodon(ExtendedIUPACProtein(), '*')),\n",
       " Seq('NCSKFCACFTEGRYNNTRWNFTVFTETH', HasStopCodon(ExtendedIUPACProtein(), '*')),\n",
       " Seq('CYDVHI', HasStopCodon(ExtendedIUPACProtein(), '*')),\n",
       " Seq('FGY', HasStopCodon(ExtendedIUPACProtein(), '*')),\n",
       " Seq('QSSCNGLHYRWCCSVDFAVAN', HasStopCodon(ExtendedIUPACProtein(), '*')),\n",
       " Seq('HLWHCL', HasStopCodon(ExtendedIUPACProtein(), '*')),\n",
       " Seq('KTQTRP', HasStopCodon(ExtendedIUPACProtein(), '*')),\n",
       " Seq('LA', HasStopCodon(ExtendedIUPACProtein(), '*')),\n",
       " Seq('REV', HasStopCodon(ExtendedIUPACProtein(), '*')),\n",
       " Seq('GRCRVS', HasStopCodon(ExtendedIUPACProtein(), '*')),\n",
       " Seq('RRLGNC', HasStopCodon(ExtendedIUPACProtein(), '*')),\n",
       " Seq('IYLNLCL', HasStopCodon(ExtendedIUPACProtein(), '*')),\n",
       " Seq('NCRWTNCHLCKGN', HasStopCodon(ExtendedIUPACProtein(), '*')),\n",
       " Seq('GECSDIL', HasStopCodon(ExtendedIUPACProtein(), '*')),\n",
       " Seq('ACK', HasStopCodon(ExtendedIUPACProtein(), '*')),\n",
       " Seq('IFGFVC', HasStopCodon(ExtendedIUPACProtein(), '*')),\n",
       " Seq('LYHYWWS', HasStopCodon(ExtendedIUPACProtein(), '*')),\n",
       " Seq('T', HasStopCodon(ExtendedIUPACProtein(), '*')),\n",
       " Seq('SLEFR', HasStopCodon(ExtendedIUPACProtein(), '*')),\n",
       " Seq('NICHALKGIVQKVC', HasStopCodon(ExtendedIUPACProtein(), '*')),\n",
       " Seq('IQRRNWPTHASKSPKRNYLLRGRNTSHRSVNRGSCLENW', HasStopCodon(ExtendedIUPACProtein(), '*')),\n",
       " Seq('FTTIRTTY', HasStopCodon(ExtendedIUPACProtein(), '*')),\n",
       " Seq('', HasStopCodon(ExtendedIUPACProtein(), '*')),\n",
       " Seq('SC', HasStopCodon(ExtendedIUPACProtein(), '*')),\n",
       " Seq('SSIGWYTSLY', HasStopCodon(ExtendedIUPACProtein(), '*')),\n",
       " Seq('RAYVARNQRHRKVLCPCT', HasStopCodon(ExtendedIUPACProtein(), '*')),\n",
       " Seq('YDGNKQYLHTQRRCTNKGYFW', HasStopCodon(ExtendedIUPACProtein(), '*')),\n",
       " Seq('', HasStopCodon(ExtendedIUPACProtein(), '*')),\n",
       " Seq('HCDRSARLQECEYHF', HasStopCodon(ExtendedIUPACProtein(), '*')),\n",
       " Seq('T', HasStopCodon(ExtendedIUPACProtein(), '*')),\n",
       " Seq('', HasStopCodon(ExtendedIUPACProtein(), '*')),\n",
       " Seq('KD', HasStopCodon(ExtendedIUPACProtein(), '*')),\n",
       " Seq('', HasStopCodon(ExtendedIUPACProtein(), '*')),\n",
       " Seq('ST', HasStopCodon(ExtendedIUPACProtein(), '*')),\n",
       " Seq('', HasStopCodon(ExtendedIUPACProtein(), '*')),\n",
       " Seq('EVLCLYS', HasStopCodon(ExtendedIUPACProtein(), '*')),\n",
       " Seq('TRYRSK', HasStopCodon(ExtendedIUPACProtein(), '*')),\n",
       " Seq('VRLCCGRCCHKNFATSI', HasStopCodon(ExtendedIUPACProtein(), '*')),\n",
       " Seq('ITYTTGH', HasStopCodon(ExtendedIUPACProtein(), '*')),\n",
       " Seq('FR', HasStopCodon(ExtendedIUPACProtein(), '*')),\n",
       " Seq('VEYGYILLI', HasStopCodon(ExtendedIUPACProtein(), '*')),\n",
       " Seq('', HasStopCodon(ExtendedIUPACProtein(), '*')),\n",
       " Seq('VW', HasStopCodon(ExtendedIUPACProtein(), '*')),\n",
       " Seq('V', HasStopCodon(ExtendedIUPACProtein(), '*')),\n",
       " Seq('IGFTYVLFFLPSR', HasStopCodon(ExtendedIUPACProtein(), '*')),\n",
       " Seq('G', HasStopCodon(ExtendedIUPACProtein(), '*')),\n",
       " Seq('RRR', HasStopCodon(ExtendedIUPACProtein(), '*')),\n",
       " Seq('L', HasStopCodon(ExtendedIUPACProtein(), '*')),\n",
       " Seq('RRRV', HasStopCodon(ExtendedIUPACProtein(), '*')),\n",
       " Seq('AINSI', HasStopCodon(ExtendedIUPACProtein(), '*')),\n",
       " Seq('VWY', HasStopCodon(ExtendedIUPACProtein(), '*')),\n",
       " Seq('R', HasStopCodon(ExtendedIUPACProtein(), '*')),\n",
       " Seq('LPR', HasStopCodon(ExtendedIUPACProtein(), '*')),\n",
       " Seq('TFGIWCHFCCSST', HasStopCodon(ExtendedIUPACProtein(), '*')),\n",
       " Seq('RRARRRLVR', HasStopCodon(ExtendedIUPACProtein(), '*')),\n",
       " Seq('', HasStopCodon(ExtendedIUPACProtein(), '*')),\n",
       " Seq('', HasStopCodon(ExtendedIUPACProtein(), '*')),\n",
       " Seq('STNCWSTRRQ', HasStopCodon(ExtendedIUPACProtein(), '*')),\n",
       " Seq('GQSDNYYSNNC', HasStopCodon(ExtendedIUPACProtein(), '*')),\n",
       " Seq('GSTSIRDGTYTSCSDY', HasStopCodon(ExtendedIUPACProtein(), '*')),\n",
       " Seq('SE', HasStopCodon(ExtendedIUPACProtein(), '*')),\n",
       " Seq('F', HasStopCodon(ExtendedIUPACProtein(), '*')),\n",
       " Seq('WLFKTY', HasStopCodon(ExtendedIUPACProtein(), '*')),\n",
       " Seq('QCIH', HasStopCodon(ExtendedIUPACProtein(), '*')),\n",
       " Seq('KCRHCGRS', HasStopCodon(ExtendedIUPACProtein(), '*')),\n",
       " Seq('KGKTNSGC', HasStopCodon(ExtendedIUPACProtein(), '*')),\n",
       " Seq('CSQCLP', HasStopCodon(ExtendedIUPACProtein(), '*')),\n",
       " Seq('TWRRCCRSLK', HasStopCodon(ExtendedIUPACProtein(), '*')),\n",
       " Seq('GY', HasStopCodon(ExtendedIUPACProtein(), '*')),\n",
       " Seq('QCHAS', HasStopCodon(ExtendedIUPACProtein(), '*')),\n",
       " Seq('I', HasStopCodon(ExtendedIUPACProtein(), '*')),\n",
       " Seq('', HasStopCodon(ExtendedIUPACProtein(), '*')),\n",
       " Seq('LHSY', HasStopCodon(ExtendedIUPACProtein(), '*')),\n",
       " Seq('WTT', HasStopCodon(ExtendedIUPACProtein(), '*')),\n",
       " Seq('SGW', HasStopCodon(ExtendedIUPACProtein(), '*')),\n",
       " Seq('LCFKRTQSC', HasStopCodon(ExtendedIUPACProtein(), '*')),\n",
       " Seq('TLSSCCRPKC', HasStopCodon(ExtendedIUPACProtein(), '*')),\n",
       " Seq('QR', HasStopCodon(ExtendedIUPACProtein(), '*')),\n",
       " Seq('RHSTS', HasStopCodon(ExtendedIUPACProtein(), '*')),\n",
       " Seq('ECL', HasStopCodon(ExtendedIUPACProtein(), '*')),\n",
       " Seq('KF', HasStopCodon(ExtendedIUPACProtein(), '*')),\n",
       " Seq('SARSSTCTIIISWYFWC', HasStopCodon(ExtendedIUPACProtein(), '*')),\n",
       " Seq('PYTFFKSLCRYCSHKCLLSCL', HasStopCodon(ExtendedIUPACProtein(), '*')),\n",
       " Seq('', HasStopCodon(ExtendedIUPACProtein(), '*')),\n",
       " Seq('KSL', HasStopCodon(ExtendedIUPACProtein(), '*')),\n",
       " Seq('QTCFKLFGNEE', HasStopCodon(ExtendedIUPACProtein(), '*')),\n",
       " Seq('KAS', HasStopCodon(ExtendedIUPACProtein(), '*')),\n",
       " Seq('TKDR', HasStopCodon(ExtendedIUPACProtein(), '*')),\n",
       " Seq('DS', HasStopCodon(ExtendedIUPACProtein(), '*')),\n",
       " Seq('RGS', HasStopCodon(ExtendedIUPACProtein(), '*')),\n",
       " Seq('AIYN', HasStopCodon(ExtendedIUPACProtein(), '*')),\n",
       " Seq('K', HasStopCodon(ExtendedIUPACProtein(), '*')),\n",
       " Seq('TFS', HasStopCodon(ExtendedIUPACProtein(), '*')),\n",
       " Seq('TEKTR', HasStopCodon(ExtendedIUPACProtein(), '*')),\n",
       " Seq('', HasStopCodon(ExtendedIUPACProtein(), '*')),\n",
       " Seq('ENQSLC', HasStopCodon(ExtendedIUPACProtein(), '*')),\n",
       " Seq('RSYNNSGRN', HasStopCodon(ExtendedIUPACProtein(), '*')),\n",
       " Seq('VPHRKLVTLY', HasStopCodon(ExtendedIUPACProtein(), '*')),\n",
       " Seq('H', HasStopCodon(ExtendedIUPACProtein(), '*')),\n",
       " Seq('WQSSSRFCHSC', HasStopCodon(ExtendedIUPACProtein(), '*')),\n",
       " Seq('', HasStopCodon(ExtendedIUPACProtein(), '*')),\n",
       " Seq('H', HasStopCodon(ExtendedIUPACProtein(), '*')),\n",
       " Seq('HHFLKERCSIYSG', HasStopCodon(ExtendedIUPACProtein(), '*')),\n",
       " Seq('CCSRGCFNCCGYTY', HasStopCodon(ExtendedIUPACProtein(), '*')),\n",
       " Seq('KGWWHY', HasStopCodon(ExtendedIUPACProtein(), '*')),\n",
       " Seq('NASESFEKSANRQLYNHLPGSGFKWLHCRGGKDSA', HasStopCodon(ExtendedIUPACProtein(), '*')),\n",
       " Seq('KV', HasStopCodon(ExtendedIUPACProtein(), '*')),\n",
       " Seq('KCLLHSTIYYL', HasStopCodon(ExtendedIUPACProtein(), '*')),\n",
       " Seq('', HasStopCodon(ExtendedIUPACProtein(), '*')),\n",
       " Seq('EARNSWNCFLEFARNACTCRRNTQINACLCGN', HasStopCodon(ExtendedIUPACProtein(), '*')),\n",
       " Seq('SHSFNYTA', HasStopCodon(ExtendedIUPACProtein(), '*')),\n",
       " Seq('I', HasStopCodon(ExtendedIUPACProtein(), '*')),\n",
       " Seq('GY', HasStopCodon(ExtendedIUPACProtein(), '*')),\n",
       " Seq('NTRGCG', HasStopCodon(ExtendedIUPACProtein(), '*')),\n",
       " Seq('LWC', HasStopCodon(ExtendedIUPACProtein(), '*')),\n",
       " Seq('ILLLHQ', HasStopCodon(ExtendedIUPACProtein(), '*')),\n",
       " Seq('NNCSVTYQHT', HasStopCodon(ExtendedIUPACProtein(), '*')),\n",
       " Seq('RSK', HasStopCodon(ExtendedIUPACProtein(), '*')),\n",
       " Seq('NSCYNATWLCNTWLKFGRSCSVYEISQSASYSFCFFT', HasStopCodon(ExtendedIUPACProtein(), '*')),\n",
       " Seq('CCYSV', HasStopCodon(ExtendedIUPACProtein(), '*')),\n",
       " Seq('WLSYFFF', HasStopCodon(ExtendedIUPACProtein(), '*')),\n",
       " Seq('NT', HasStopCodon(ExtendedIUPACProtein(), '*')),\n",
       " Seq('RTFY', HasStopCodon(ExtendedIUPACProtein(), '*')),\n",
       " Seq('NHLTCWFL', HasStopCodon(ExtendedIUPACProtein(), '*')),\n",
       " Seq('RLVLFWTIYTTRYRIS', HasStopCodon(ExtendedIUPACProtein(), '*')),\n",
       " Seq('ER', HasStopCodon(ExtendedIUPACProtein(), '*')),\n",
       " Seq('', HasStopCodon(ExtendedIUPACProtein(), '*')),\n",
       " Seq('KCILH', HasStopCodon(ExtendedIUPACProtein(), '*')),\n",
       " Seq('', HasStopCodon(ExtendedIUPACProtein(), '*')),\n",
       " Seq('SYHIPPRW', HasStopCodon(ExtendedIUPACProtein(), '*')),\n",
       " Seq('SYHL', HasStopCodon(ExtendedIUPACProtein(), '*')),\n",
       " Seq('QS', HasStopCodon(ExtendedIUPACProtein(), '*')),\n",
       " Seq('DTSFFERSEDY', HasStopCodon(ExtendedIUPACProtein(), '*')),\n",
       " Seq('GVYNSRQH', HasStopCodon(ExtendedIUPACProtein(), '*')),\n",
       " Seq('PPHASCGHVNDIWTTVWSNLFGWS', HasStopCodon(ExtendedIUPACProtein(), '*')),\n",
       " Seq('CY', HasStopCodon(ExtendedIUPACProtein(), '*')),\n",
       " Seq('NKTS', HasStopCodon(ExtendedIUPACProtein(), '*')),\n",
       " Seq('FT', HasStopCodon(ExtendedIUPACProtein(), '*')),\n",
       " Seq('R', HasStopCodon(ExtendedIUPACProtein(), '*')),\n",
       " Seq('NILCFT', HasStopCodon(ExtendedIUPACProtein(), '*')),\n",
       " Seq('', HasStopCodon(ExtendedIUPACProtein(), '*')),\n",
       " Seq('', HasStopCodon(ExtendedIUPACProtein(), '*')),\n",
       " Seq('HSTC', HasStopCodon(ExtendedIUPACProtein(), '*')),\n",
       " Seq('GF', HasStopCodon(ExtendedIUPACProtein(), '*')),\n",
       " Seq('VLPHN', HasStopCodon(ExtendedIUPACProtein(), '*')),\n",
       " Seq('S', HasStopCodon(ExtendedIUPACProtein(), '*')),\n",
       " Seq('FSG', HasStopCodon(ExtendedIUPACProtein(), '*')),\n",
       " Seq('VHVSIKSH', HasStopCodon(ExtendedIUPACProtein(), '*')),\n",
       " Seq('KVEIPTS', HasStopCodon(ExtendedIUPACProtein(), '*')),\n",
       " Seq('WFNFY', HasStopCodon(ExtendedIUPACProtein(), '*')),\n",
       " Seq('MGR', HasStopCodon(ExtendedIUPACProtein(), '*')),\n",
       " Seq('QLLSCHCIVNTPTNRVEV', HasStopCodon(ExtendedIUPACProtein(), '*')),\n",
       " Seq('STCSTRCLLQSKGW', HasStopCodon(ExtendedIUPACProtein(), '*')),\n",
       " Seq('SC', HasStopCodon(ExtendedIUPACProtein(), '*')),\n",
       " Seq('LLCTYLSLL', HasStopCodon(ExtendedIUPACProtein(), '*')),\n",
       " Seq('', HasStopCodon(ExtendedIUPACProtein(), '*')),\n",
       " Seq('DSR', HasStopCodon(ExtendedIUPACProtein(), '*')),\n",
       " Seq('VR', HasStopCodon(ExtendedIUPACProtein(), '*')),\n",
       " Seq('C', HasStopCodon(ExtendedIUPACProtein(), '*')),\n",
       " Seq('RNNELLVSTCQFRFLQKSLERGV', HasStopCodon(ExtendedIUPACProtein(), '*')),\n",
       " Seq('NLWTTADNP', HasStopCodon(ExtendedIUPACProtein(), '*')),\n",
       " Seq('GCRSCYVHGHTFL', HasStopCodon(ExtendedIUPACProtein(), '*')),\n",
       " Seq('TI', HasStopCodon(ExtendedIUPACProtein(), '*')),\n",
       " Seq('ERCSDTLYVW', HasStopCodon(ExtendedIUPACProtein(), '*')),\n",
       " Seq('TSYKISSTTGVTFCYDVSTTCSV', HasStopCodon(ExtendedIUPACProtein(), '*')),\n",
       " Seq('T', HasStopCodon(ExtendedIUPACProtein(), '*')),\n",
       " Seq('AWYIYLC', HasStopCodon(ExtendedIUPACProtein(), '*')),\n",
       " Seq('', HasStopCodon(ExtendedIUPACProtein(), '*')),\n",
       " Seq('VHW', HasStopCodon(ExtendedIUPACProtein(), '*')),\n",
       " Seq('LPVWSL', HasStopCodon(ExtendedIUPACProtein(), '*')),\n",
       " Seq('TYNF', HasStopCodon(ExtendedIUPACProtein(), '*')),\n",
       " Seq('RNFVLHRRCFTYKVLRIQRSYYGCFLQRKQLHNNHKTSYL', HasStopCodon(ExtendedIUPACProtein(), '*')),\n",
       " Seq('IGWCCLYRN', HasStopCodon(ExtendedIUPACProtein(), '*')),\n",
       " Seq('P', HasStopCodon(ExtendedIUPACProtein(), '*')),\n",
       " Seq('VGQLL', HasStopCodon(ExtendedIUPACProtein(), '*')),\n",
       " Seq('ERQFLFHRATN', HasStopCodon(ExtendedIUPACProtein(), '*')),\n",
       " Seq('SCTKPTISKRKLR', HasStopCodon(ExtendedIUPACProtein(), '*')),\n",
       " Seq('F', HasStopCodon(ExtendedIUPACProtein(), '*')),\n",
       " Seq('VCM', HasStopCodon(ExtendedIUPACProtein(), '*')),\n",
       " Seq('', HasStopCodon(ExtendedIUPACProtein(), '*')),\n",
       " Seq('YQIC', HasStopCodon(ExtendedIUPACProtein(), '*')),\n",
       " Seq('', HasStopCodon(ExtendedIUPACProtein(), '*')),\n",
       " Seq('FKPVNWL', HasStopCodon(ExtendedIUPACProtein(), '*')),\n",
       " Seq('ETCFKRA', HasStopCodon(ExtendedIUPACProtein(), '*')),\n",
       " Seq('SYIFP', HasStopCodon(ExtendedIUPACProtein(), '*')),\n",
       " Seq('LKW', HasStopCodon(ExtendedIUPACProtein(), '*')),\n",
       " Seq('CGGY', HasStopCodon(ExtendedIUPACProtein(), '*')),\n",
       " Seq('L', HasStopCodon(ExtendedIUPACProtein(), '*')),\n",
       " Seq('TLHTLF', HasStopCodon(ExtendedIUPACProtein(), '*')),\n",
       " Seq('ERS', HasStopCodon(ExtendedIUPACProtein(), '*')),\n",
       " Seq('IVT', HasStopCodon(ExtendedIUPACProtein(), '*')),\n",
       " Seq('TYCLAC', HasStopCodon(ExtendedIUPACProtein(), '*')),\n",
       " Seq('QCN', HasStopCodon(ExtendedIUPACProtein(), '*')),\n",
       " Seq('', HasStopCodon(ExtendedIUPACProtein(), '*')),\n",
       " Seq('SHV', HasStopCodon(ExtendedIUPACProtein(), '*')),\n",
       " Seq('TKYLVYTLSLEHKTS', HasStopCodon(ExtendedIUPACProtein(), '*')),\n",
       " Seq('NIKFV', HasStopCodon(ExtendedIUPACProtein(), '*')),\n",
       " Seq('CTEVRGRAGNG', HasStopCodon(ExtendedIUPACProtein(), '*')),\n",
       " Seq('SCLRRSKTSL', HasStopCodon(ExtendedIUPACProtein(), '*')),\n",
       " Seq('RSSGKSYHTERRS', HasStopCodon(ExtendedIUPACProtein(), '*')),\n",
       " Seq('V', HasStopCodon(ExtendedIUPACProtein(), '*')),\n",
       " Seq('CENYRSCRRHYT', HasStopCodon(ExtendedIUPACProtein(), '*')),\n",
       " Seq('TSK', HasStopCodon(ExtendedIUPACProtein(), '*')),\n",
       " Seq('', HasStopCodon(ExtendedIUPACProtein(), '*')),\n",
       " Seq('FKNYRRGWPHRSNGCLCRQF', HasStopCodon(ExtendedIUPACProtein(), '*')),\n",
       " Seq('SYY', HasStopCodon(ExtendedIUPACProtein(), '*')),\n",
       " Seq('ET', HasStopCodon(ExtendedIUPACProtein(), '*')),\n",
       " Seq('', HasStopCodon(ExtendedIUPACProtein(), '*')),\n",
       " Seq('II', HasStopCodon(ExtendedIUPACProtein(), '*')),\n",
       " Seq('SIRFENPCYSWFSCC', HasStopCodon(ExtendedIUPACProtein(), '*')),\n",
       " Seq('', HasStopCodon(ExtendedIUPACProtein(), '*')),\n",
       " Seq('CPLGYYS', HasStopCodon(ExtendedIUPACProtein(), '*')),\n",
       " Seq('LC', HasStopCodon(ExtendedIUPACProtein(), '*')),\n",
       " Seq('AFS', HasStopCodon(ExtendedIUPACProtein(), '*')),\n",
       " Seq('QSC', HasStopCodon(ExtendedIUPACProtein(), '*')),\n",
       " Seq('YNY', HasStopCodon(ExtendedIUPACProtein(), '*')),\n",
       " Seq('HSYTVFKPCLY', HasStopCodon(ExtendedIUPACProtein(), '*')),\n",
       " Seq('LYALFLYFIATIVYFY', HasStopCodon(ExtendedIUPACProtein(), '*')),\n",
       " Seq('KYKF', HasStopCodon(ExtendedIUPACProtein(), '*')),\n",
       " Seq('N', HasStopCodon(ExtendedIUPACProtein(), '*')),\n",
       " Seq('SIYADYYSKEYC', HasStopCodon(ExtendedIUPACProtein(), '*')),\n",
       " Seq('ECR', HasStopCodon(ExtendedIUPACProtein(), '*')),\n",
       " Seq('ILSRGFI', HasStopCodon(ExtendedIUPACProtein(), '*')),\n",
       " Seq('LFEVT', HasStopCodon(ExtendedIUPACProtein(), '*')),\n",
       " Seq('FF', HasStopCodon(ExtendedIUPACProtein(), '*')),\n",
       " Seq('TDKYYNLVFTIKCLPRFFNLLNRCFRCFNV', HasStopCodon(ExtendedIUPACProtein(), '*')),\n",
       " Seq('FRHAFLLYWLQRRLFELY', HasStopCodon(ExtendedIUPACProtein(), '*')),\n",
       " Seq('CHYCNLLYWFYTL', HasStopCodon(ExtendedIUPACProtein(), '*')),\n",
       " Seq('CLS', HasStopCodon(ExtendedIUPACProtein(), '*')),\n",
       " Seq('WFRFFRHLSFFRNYTNYHFIF', HasStopCodon(ExtendedIUPACProtein(), '*')),\n",
       " Seq('MGFNCFWLSCRVVFGIYSFH', HasStopCodon(ExtendedIUPACProtein(), '*')),\n",
       " Seq('VFLCTWIGCNHAIVFQLFCSTFY', HasStopCodon(ExtendedIUPACProtein(), '*')),\n",
       " Seq('', HasStopCodon(ExtendedIUPACProtein(), '*')),\n",
       " Seq('FLAYVVNN', HasStopCodon(ExtendedIUPACProtein(), '*')),\n",
       " Seq('SCTNGPDFSYG', HasStopCodon(ExtendedIUPACProtein(), '*')),\n",
       " Seq('NVHLLCIILLCMEKLCACCRRL', HasStopCodon(ExtendedIUPACProtein(), '*')),\n",
       " Seq('FINLYDVLQT', HasStopCodon(ExtendedIUPACProtein(), '*')),\n",
       " Seq('', HasStopCodon(ExtendedIUPACProtein(), '*')),\n",
       " Seq('SNKSRMYNYC', HasStopCodon(ExtendedIUPACProtein(), '*')),\n",
       " Seq('WC', HasStopCodon(ExtendedIUPACProtein(), '*')),\n",
       " Seq('KVLLCLC', HasStopCodon(ExtendedIUPACProtein(), '*')),\n",
       " Seq('WR', HasStopCodon(ExtendedIUPACProtein(), '*')),\n",
       " Seq('RLLQTTQLELC', HasStopCodon(ExtendedIUPACProtein(), '*')),\n",
       " Seq('L', HasStopCodon(ExtendedIUPACProtein(), '*')),\n",
       " Seq('YILCW', HasStopCodon(ExtendedIUPACProtein(), '*')),\n",
       " Seq('YIY', HasStopCodon(ExtendedIUPACProtein(), '*')),\n",
       " Seq('', HasStopCodon(ExtendedIUPACProtein(), '*')),\n",
       " Seq('', HasStopCodon(ExtendedIUPACProtein(), '*')),\n",
       " Seq('SCERLVTTV', HasStopCodon(ExtendedIUPACProtein(), '*')),\n",
       " Seq('KTNKSY', HasStopCodon(ExtendedIUPACProtein(), '*')),\n",
       " Seq('PVFLHR', HasStopCodon(ExtendedIUPACProtein(), '*')),\n",
       " Seq('', HasStopCodon(ExtendedIUPACProtein(), '*')),\n",
       " Seq('CYSEEWFHPSLL', HasStopCodon(ExtendedIUPACProtein(), '*')),\n",
       " Seq('', HasStopCodon(ExtendedIUPACProtein(), '*')),\n",
       " Seq('SWSKDL', HasStopCodon(ExtendedIUPACProtein(), '*')),\n",
       " Seq('KTFSLSFC', HasStopCodon(ExtendedIUPACProtein(), '*')),\n",
       " Seq('LRQPES', HasStopCodon(ExtendedIUPACProtein(), '*')),\n",
       " Seq('', HasStopCodon(ExtendedIUPACProtein(), '*')),\n",
       " Seq('H', HasStopCodon(ExtendedIUPACProtein(), '*')),\n",
       " Seq('RFIAY', HasStopCodon(ExtendedIUPACProtein(), '*')),\n",
       " Seq('CYSF', HasStopCodon(ExtendedIUPACProtein(), '*')),\n",
       " Seq('W', HasStopCodon(ExtendedIUPACProtein(), '*')),\n",
       " Seq('IKM', HasStopCodon(ExtendedIUPACProtein(), '*')),\n",
       " Seq('RIICKISVCLLQSAYVSTYTVTRSGISV', HasStopCodon(ExtendedIUPACProtein(), '*')),\n",
       " Seq('CW', HasStopCodon(ExtendedIUPACProtein(), '*')),\n",
       " Seq('', HasStopCodon(ExtendedIUPACProtein(), '*')),\n",
       " Seq('CGSCS', HasStopCodon(ExtendedIUPACProtein(), '*')),\n",
       " Seq('NV', HasStopCodon(ExtendedIUPACProtein(), '*')),\n",
       " Seq('CLR', HasStopCodon(ExtendedIUPACProtein(), '*')),\n",
       " Seq('YVFINF', HasStopCodon(ExtendedIUPACProtein(), '*')),\n",
       " Seq('RTNGKTQNTSCNCRS', HasStopCodon(ExtendedIUPACProtein(), '*')),\n",
       " Seq('TCKECVLRQCLIYFYFSSSARVC', HasStopCodon(ExtendedIUPACProtein(), '*')),\n",
       " Seq('FRCRN', HasStopCodon(ExtendedIUPACProtein(), '*')),\n",
       " Seq('RCC', HasStopCodon(ExtendedIUPACProtein(), '*')),\n",
       " Seq('MS', HasStopCodon(ExtendedIUPACProtein(), '*')),\n",
       " Seq('IVTSI', HasStopCodon(ExtendedIUPACProtein(), '*')),\n",
       " Seq('HRSYWR', HasStopCodon(ExtendedIUPACProtein(), '*')),\n",
       " Seq('L', HasStopCodon(ExtendedIUPACProtein(), '*')),\n",
       " Seq('', HasStopCodon(ExtendedIUPACProtein(), '*')),\n",
       " Seq('LYAHL', HasStopCodon(ExtendedIUPACProtein(), '*')),\n",
       " Seq('QS', HasStopCodon(ExtendedIUPACProtein(), '*')),\n",
       " Seq('KHDTP', HasStopCodon(ExtendedIUPACProtein(), '*')),\n",
       " Seq('PWCLY', HasStopCodon(ExtendedIUPACProtein(), '*')),\n",
       " Seq('L', HasStopCodon(ExtendedIUPACProtein(), '*')),\n",
       " Seq('CASY', HasStopCodon(ExtendedIUPACProtein(), '*')),\n",
       " Seq('CAGSKKSQHCFDMER', HasStopCodon(ExtendedIUPACProtein(), '*')),\n",
       " Seq('RFHVIV', HasStopCodon(ExtendedIUPACProtein(), '*')),\n",
       " Seq('TTTKTNT', HasStopCodon(ExtendedIUPACProtein(), '*')),\n",
       " Seq('CC', HasStopCodon(ExtendedIUPACProtein(), '*')),\n",
       " Seq('KE', HasStopCodon(ExtendedIUPACProtein(), '*')),\n",
       " Seq('LTF', HasStopCodon(ExtendedIUPACProtein(), '*')),\n",
       " Seq('VDMCNY', HasStopCodon(ExtendedIUPACProtein(), '*')),\n",
       " Seq('TSC', HasStopCodon(ExtendedIUPACProtein(), '*')),\n",
       " Seq('CCNNKDST', HasStopCodon(ExtendedIUPACProtein(), '*')),\n",
       " Seq('GW', HasStopCodon(ExtendedIUPACProtein(), '*')),\n",
       " Seq('NC', HasStopCodon(ExtendedIUPACProtein(), '*')),\n",
       " Seq('', HasStopCodon(ExtendedIUPACProtein(), '*')),\n",
       " Seq('LVEAVN', HasStopCodon(ExtendedIUPACProtein(), '*')),\n",
       " Seq('SYTCVPFCCCYFLFNNTCSCHV', HasStopCodon(ExtendedIUPACProtein(), '*')),\n",
       " Seq('TY', HasStopCodon(ExtendedIUPACProtein(), '*')),\n",
       " Seq('LFK', HasStopCodon(ExtendedIUPACProtein(), '*')),\n",
       " Seq('NHRIQGY', HasStopCodon(ExtendedIUPACProtein(), '*')),\n",
       " Seq('WWCHS', HasStopCodon(ExtendedIUPACProtein(), '*')),\n",
       " Seq('HSIYRYLFC', HasStopCodon(ExtendedIUPACProtein(), '*')),\n",
       " Seq('QTC', HasStopCodon(ExtendedIUPACProtein(), '*')),\n",
       " Seq('F', HasStopCodon(ExtendedIUPACProtein(), '*')),\n",
       " Seq('HMV', HasStopCodon(ExtendedIUPACProtein(), '*')),\n",
       " Seq('PAWW', HasStopCodon(ExtendedIUPACProtein(), '*')),\n",
       " Seq('LY', HasStopCodon(ExtendedIUPACProtein(), '*')),\n",
       " Seq('', HasStopCodon(ExtendedIUPACProtein(), '*')),\n",
       " Seq('QSLPIDCCSHNKRSGFCRAWFAWHDITHN', HasStopCodon(ExtendedIUPACProtein(), '*')),\n",
       " Seq('W', HasStopCodon(ExtendedIUPACProtein(), '*')),\n",
       " Seq('LFAFLT', HasStopCodon(ExtendedIUPACProtein(), '*')),\n",
       " Seq('SF', HasStopCodon(ExtendedIUPACProtein(), '*')),\n",
       " Seq('CSW', HasStopCodon(ExtendedIUPACProtein(), '*')),\n",
       " Seq('HLLHTIKTYRVH', HasStopCodon(ExtendedIUPACProtein(), '*')),\n",
       " Seq('LCNISLCFGC', HasStopCodon(ExtendedIUPACProtein(), '*')),\n",
       " Seq('MYNF', HasStopCodon(ExtendedIUPACProtein(), '*')),\n",
       " Seq('RCFW', HasStopCodon(ExtendedIUPACProtein(), '*')),\n",
       " Seq('ASTILL', HasStopCodon(ExtendedIUPACProtein(), '*')),\n",
       " Seq('YQCTRRFCCL', HasStopCodon(ExtendedIUPACProtein(), '*')),\n",
       " Seq('KFTP', HasStopCodon(ExtendedIUPACProtein(), '*')),\n",
       " Seq('HTLCAHGWLYYSIS', HasStopCodon(ExtendedIUPACProtein(), '*')),\n",
       " Seq('HLP', HasStopCodon(ExtendedIUPACProtein(), '*')),\n",
       " Seq('RFC', HasStopCodon(ExtendedIUPACProtein(), '*')),\n",
       " Seq('SGNNF', HasStopCodon(ExtendedIUPACProtein(), '*')),\n",
       " Seq('F', HasStopCodon(ExtendedIUPACProtein(), '*')),\n",
       " Seq('VL', HasStopCodon(ExtendedIUPACProtein(), '*')),\n",
       " Seq('ARHL', HasStopCodon(ExtendedIUPACProtein(), '*')),\n",
       " Seq('KIRSWCLCIY', HasStopCodon(ExtendedIUPACProtein(), '*')),\n",
       " Seq('W', HasStopCodon(ExtendedIUPACProtein(), '*')),\n",
       " Seq('MGT', HasStopCodon(ExtendedIUPACProtein(), '*')),\n",
       " Seq('Q', HasStopCodon(ExtendedIUPACProtein(), '*')),\n",
       " Seq('LLQIFTRSFLWCRCCKFTY', HasStopCodon(ExtendedIUPACProtein(), '*')),\n",
       " Seq('YVYTTNSTYWCFGHISIYSSWWYCSYRSNMPCLLFYEV', HasStopCodon(ExtendedIUPACProtein(), '*')),\n",
       " Seq('KSFW', HasStopCodon(ExtendedIUPACProtein(), '*')),\n",
       " Seq('IQSCSCL', HasStopCodon(ExtendedIUPACProtein(), '*')),\n",
       " Seq('YFTIPYVIHCTLFNTSLLILTWCLFCYLLVLDILSY', HasStopCodon(ExtendedIUPACProtein(), '*')),\n",
       " Seq('', HasStopCodon(ExtendedIUPACProtein(), '*')),\n",
       " Seq('CFFFSTYSVDGYVHTFSTFLDNNCLYHLYFHKAFLLVL', HasStopCodon(ExtendedIUPACProtein(), '*')),\n",
       " Seq('', HasStopCodon(ExtendedIUPACProtein(), '*')),\n",
       " Seq('LPKETCSL', HasStopCodon(ExtendedIUPACProtein(), '*')),\n",
       " Seq('WCFL', HasStopCodon(ExtendedIUPACProtein(), '*')),\n",
       " Seq('YF', HasStopCodon(ExtendedIUPACProtein(), '*')),\n",
       " Seq('RSCAVHLFVK', HasStopCodon(ExtendedIUPACProtein(), '*')),\n",
       " Seq('RNVSKVA', HasStopCodon(ExtendedIUPACProtein(), '*')),\n",
       " Seq('', HasStopCodon(ExtendedIUPACProtein(), '*')),\n",
       " Seq('CAITSYAI', HasStopCodon(ExtendedIUPACProtein(), '*')),\n",
       " Seq('', HasStopCodon(ExtendedIUPACProtein(), '*')),\n",
       " Seq('ILSSL', HasStopCodon(ExtendedIUPACProtein(), '*')),\n",
       " Seq('', HasStopCodon(ExtendedIUPACProtein(), '*')),\n",
       " Seq('VQVF', HasStopCodon(ExtendedIUPACProtein(), '*')),\n",
       " Seq('WSNGYN', HasStopCodon(ExtendedIUPACProtein(), '*')),\n",
       " Seq('LQRSCLLSSRKGSQ', HasStopCodon(ExtendedIUPACProtein(), '*')),\n",
       " Seq('LQ', HasStopCodon(ExtendedIUPACProtein(), '*')),\n",
       " Seq('LRF', HasStopCodon(ExtendedIUPACProtein(), '*')),\n",
       " Seq('CSLPTTTNLYHLSCFAEWF', HasStopCodon(ExtendedIUPACProtein(), '*')),\n",
       " Seq('KNGIPIW', HasStopCodon(ExtendedIUPACProtein(), '*')),\n",
       " Seq('S', HasStopCodon(ExtendedIUPACProtein(), '*')),\n",
       " Seq('GLYGTSNLWYNYT', HasStopCodon(ExtendedIUPACProtein(), '*')),\n",
       " Seq('RSLA', HasStopCodon(ExtendedIUPACProtein(), '*')),\n",
       " Seq('', HasStopCodon(ExtendedIUPACProtein(), '*')),\n",
       " Seq('RSLLSKTCDLHL', HasStopCodon(ExtendedIUPACProtein(), '*')),\n",
       " Seq('RHA', HasStopCodon(ExtendedIUPACProtein(), '*')),\n",
       " Seq('P', HasStopCodon(ExtendedIUPACProtein(), '*')),\n",
       " Seq('L', HasStopCodon(ExtendedIUPACProtein(), '*')),\n",
       " Seq('RFTHS', HasStopCodon(ExtendedIUPACProtein(), '*')),\n",
       " Seq('V', HasStopCodon(ExtendedIUPACProtein(), '*')),\n",
       " Seq('S', HasStopCodon(ExtendedIUPACProtein(), '*')),\n",
       " Seq('FLGTGW', HasStopCodon(ExtendedIUPACProtein(), '*')),\n",
       " Seq('CSTQGYWTFYAKLCT', HasStopCodon(ExtendedIUPACProtein(), '*')),\n",
       " Seq('A', HasStopCodon(ExtendedIUPACProtein(), '*')),\n",
       " Seq('G', HasStopCodon(ExtendedIUPACProtein(), '*')),\n",
       " Seq('YSQS', HasStopCodon(ExtendedIUPACProtein(), '*')),\n",
       " Seq('DT', HasStopCodon(ExtendedIUPACProtein(), '*')),\n",
       " Seq('V', HasStopCodon(ExtendedIUPACProtein(), '*')),\n",
       " Seq('VCSHSTRTDFFSVSLLQWFTIWCLPMCYEAQFHY', HasStopCodon(ExtendedIUPACProtein(), '*')),\n",
       " Seq('GFIP', HasStopCodon(ExtendedIUPACProtein(), '*')),\n",
       " Seq('WFMW', HasStopCodon(ExtendedIUPACProtein(), '*')),\n",
       " Seq('CWF', HasStopCodon(ExtendedIUPACProtein(), '*')),\n",
       " Seq('HRL', HasStopCodon(ExtendedIUPACProtein(), '*')),\n",
       " Seq('LCLFLLHAPYGITNWSSCWHRLRR', HasStopCodon(ExtendedIUPACProtein(), '*')),\n",
       " Seq('LLWTFC', HasStopCodon(ExtendedIUPACProtein(), '*')),\n",
       " Seq('QANSTSSWYGHNYYS', HasStopCodon(ExtendedIUPACProtein(), '*')),\n",
       " Seq('CFSLVVRCCYKWRQVVSQSIYHNS', HasStopCodon(ExtendedIUPACProtein(), '*')),\n",
       " Seq('', HasStopCodon(ExtendedIUPACProtein(), '*')),\n",
       " Seq('L', HasStopCodon(ExtendedIUPACProtein(), '*')),\n",
       " Seq('PCGYEVQL', HasStopCodon(ExtendedIUPACProtein(), '*')),\n",
       " Seq('TSNTRPC', HasStopCodon(ExtendedIUPACProtein(), '*')),\n",
       " Seq('HTRTSFCSNWNCRFRYVCFIKRITAKWYEWTYHIG', HasStopCodon(ExtendedIUPACProtein(), '*')),\n",
       " Seq('CFIRR', HasStopCodon(ExtendedIUPACProtein(), '*')),\n",
       " Seq('IYTF', HasStopCodon(ExtendedIUPACProtein(), '*')),\n",
       " Seq('CC', HasStopCodon(ExtendedIUPACProtein(), '*')),\n",
       " Seq('TMLRCYFPKCSEKNNQGYTPLVVTHNFDFTFSFSPEYSMVFVLFFV', HasStopCodon(ExtendedIUPACProtein(), '*')),\n",
       " Seq('KCLFTFCYGYYCYVCFCNDVCQT', HasStopCodon(ExtendedIUPACProtein(), '*')),\n",
       " Seq('ACISLFVFVTFSCHCSLF', HasStopCodon(ExtendedIUPACProtein(), '*')),\n",
       " Seq('YGLYAC', HasStopCodon(ExtendedIUPACProtein(), '*')),\n",
       " Seq('LGDAYYDMVGYG', HasStopCodon(ExtendedIUPACProtein(), '*')),\n",
       " Seq('Y', HasStopCodon(ExtendedIUPACProtein(), '*')),\n",
       " Seq('FVWF', HasStopCodon(ExtendedIUPACProtein(), '*')),\n",
       " Seq('AKRLCYVCISCSVTNPYDSKNCV', HasStopCodon(ExtendedIUPACProtein(), '*')),\n",
       " Seq('', HasStopCodon(ExtendedIUPACProtein(), '*')),\n",
       " Seq('WC', HasStopCodon(ExtendedIUPACProtein(), '*')),\n",
       " Seq('ESVDTYECLDTRL', HasStopCodon(ExtendedIUPACProtein(), '*')),\n",
       " Seq('SLLW', HasStopCodon(ExtendedIUPACProtein(), '*')),\n",
       " Seq('CFRSSHFHVGSYNLCYF', HasStopCodon(ExtendedIUPACProtein(), '*')),\n",
       " Seq('LLRCSYNCHVFGQRYCFYVC', HasStopCodon(ExtendedIUPACProtein(), '*')),\n",
       " Seq('VLPYFLHNW', HasStopCodon(ExtendedIUPACProtein(), '*')),\n",
       " Seq('YTSVYNASLLFLRLFLYLLLWPLLFTQPLL', HasStopCodon(ExtendedIUPACProtein(), '*')),\n",
       " Seq('TDSWCL', HasStopCodon(ExtendedIUPACProtein(), '*')),\n",
       " Seq('LLSFYTGV', HasStopCodon(ExtendedIUPACProtein(), '*')),\n",
       " Seq('IYEFTGTTPTQE', HasStopCodon(ExtendedIUPACProtein(), '*')),\n",
       " Seq('HRCLQTQH', HasStopCodon(ExtendedIUPACProtein(), '*')),\n",
       " Seq('IVGCWWQTLYQSSHCTV', HasStopCodon(ExtendedIUPACProtein(), '*')),\n",
       " Seq('NVRCKVHISSLTLSFATTQSRIII', HasStopCodon(ExtendedIUPACProtein(), '*')),\n",
       " Seq('IVGSMCPVTQ', HasStopCodon(ExtendedIUPACProtein(), '*')),\n",
       " Seq('HSLS', HasStopCodon(ExtendedIUPACProtein(), '*')),\n",
       " Seq('RYY', HasStopCodon(ExtendedIUPACProtein(), '*')),\n",
       " Seq('SL', HasStopCodon(ExtendedIUPACProtein(), '*')),\n",
       " Seq('KNGFTTFCFAFHAGCCRHKQAL', HasStopCodon(ExtendedIUPACProtein(), '*')),\n",
       " Seq('RNAGQQGNLTSYSLRV', HasStopCodon(ExtendedIUPACProtein(), '*')),\n",
       " Seq('FPSIICSFCYCSRSL', HasStopCodon(ExtendedIUPACProtein(), '*')),\n",
       " Seq('AGCC', HasStopCodon(ExtendedIUPACProtein(), '*')),\n",
       " Seq('W', HasStopCodon(ExtendedIUPACProtein(), '*')),\n",
       " Seq('F', HasStopCodon(ExtendedIUPACProtein(), '*')),\n",
       " Seq('SCS', HasStopCodon(ExtendedIUPACProtein(), '*')),\n",
       " Seq('KVEEVFECG', HasStopCodon(ExtendedIUPACProtein(), '*')),\n",
       " Seq('I', HasStopCodon(ExtendedIUPACProtein(), '*')),\n",
       " Seq('I', HasStopCodon(ExtendedIUPACProtein(), '*')),\n",
       " Seq('P', HasStopCodon(ExtendedIUPACProtein(), '*')),\n",
       " Seq('CSHAT', HasStopCodon(ExtendedIUPACProtein(), '*')),\n",
       " Seq('VGKDG', HasStopCodon(ExtendedIUPACProtein(), '*')),\n",
       " Seq('SSYDPNV', HasStopCodon(ExtendedIUPACProtein(), '*')),\n",
       " Seq('TG', HasStopCodon(ExtendedIUPACProtein(), '*')),\n",
       " Seq('I', HasStopCodon(ExtendedIUPACProtein(), '*')),\n",
       " Seq('GQEGKSY', HasStopCodon(ExtendedIUPACProtein(), '*')),\n",
       " Seq('CYADNAFHYA', HasStopCodon(ExtendedIUPACProtein(), '*')),\n",
       " Seq('KVG', HasStopCodon(ExtendedIUPACProtein(), '*')),\n",
       " Seq('', HasStopCodon(ExtendedIUPACProtein(), '*')),\n",
       " Seq('CTQQHYQQCKRWLCSLEHNTSYNSSQTNGCHTRL', HasStopCodon(ExtendedIUPACProtein(), '*')),\n",
       " Seq('HI', HasStopCodon(ExtendedIUPACProtein(), '*')),\n",
       " Seq('KYV', HasStopCodon(ExtendedIUPACProtein(), '*')),\n",
       " Seq('WYNIYLCISIVGNPTGCRCR', HasStopCodon(ExtendedIUPACProtein(), '*')),\n",
       " Seq('', HasStopCodon(ExtendedIUPACProtein(), '*')),\n",
       " Seq('NCST', HasStopCodon(ExtendedIUPACProtein(), '*')),\n",
       " Seq('', HasStopCodon(ExtendedIUPACProtein(), '*')),\n",
       " Seq('N', HasStopCodon(ExtendedIUPACProtein(), '*')),\n",
       " Seq('YGQFT', HasStopCodon(ExtendedIUPACProtein(), '*')),\n",
       " Seq('FSMASYCNSFKGQFCCQITE', HasStopCodon(ExtendedIUPACProtein(), '*')),\n",
       " Seq('', HasStopCodon(ExtendedIUPACProtein(), '*')),\n",
       " Seq('A', HasStopCodon(ExtendedIUPACProtein(), '*')),\n",
       " Seq('SCCTTTDVLCCRYYTNCLH', HasStopCodon(ExtendedIUPACProtein(), '*')),\n",
       " Seq('', HasStopCodon(ExtendedIUPACProtein(), '*')),\n",
       " Seq('QCVSLLQHNKGR', HasStopCodon(ExtendedIUPACProtein(), '*')),\n",
       " Seq('VCTCTVIRFTGFEMG', HasStopCodon(ExtendedIUPACProtein(), '*')),\n",
       " Seq('IP', HasStopCodon(ExtendedIUPACProtein(), '*')),\n",
       " Seq('E', HasStopCodon(ExtendedIUPACProtein(), '*')),\n",
       " Seq('WNWYYLYRTGTTL', HasStopCodon(ExtendedIUPACProtein(), '*')),\n",
       " Seq('VCYRHT', HasStopCodon(ExtendedIUPACProtein(), '*')),\n",
       " Seq('RS', HasStopCodon(ExtendedIUPACProtein(), '*')),\n",
       " Seq('SEVFILY', HasStopCodon(ExtendedIUPACProtein(), '*')),\n",
       " Seq('RIKQPK', HasStopCodon(ExtendedIUPACProtein(), '*')),\n",
       " Seq('RYGTW', HasStopCodon(ExtendedIUPACProtein(), '*')),\n",
       " Seq('FSCHSTSTSW', HasStopCodon(ExtendedIUPACProtein(), '*')),\n",
       " Seq('CNRSACQFNCIIFLCFCCRCC', HasStopCodon(ExtendedIUPACProtein(), '*')),\n",
       " Seq('SLQRLSS', HasStopCodon(ExtendedIUPACProtein(), '*')),\n",
       " Seq('WGTTNH', HasStopCodon(ExtendedIUPACProtein(), '*')),\n",
       " Seq('LC', HasStopCodon(ExtendedIUPACProtein(), '*')),\n",
       " Seq('DVVYTHWYWSGNNSYTGSQYGSRILWWCIVLSVLPLPHRSSKS', HasStopCodon(ExtendedIUPACProtein(), '*')),\n",
       " Seq('RIL', HasStopCodon(ExtendedIUPACProtein(), '*')),\n",
       " Seq('LKR', HasStopCodon(ExtendedIUPACProtein(), '*')),\n",
       " Seq('VCTNTYNLC', HasStopCodon(ExtendedIUPACProtein(), '*')),\n",
       " Seq('', HasStopCodon(ExtendedIUPACProtein(), '*')),\n",
       " Seq('PCGFYT', HasStopCodon(ExtendedIUPACProtein(), '*')),\n",
       " Seq('KHSLYRLRYVERLWL', HasStopCodon(ExtendedIUPACProtein(), '*')),\n",
       " Seq('L', HasStopCodon(ExtendedIUPACProtein(), '*')),\n",
       " Seq('STPRTHASVS', HasStopCodon(ExtendedIUPACProtein(), '*')),\n",
       " Seq('CTIVFKRVCGVSAARLTPCGTGTSTDVVYRAFDIYNDKVAGFAKFLKTNCCRFQ...VNN', HasStopCodon(ExtendedIUPACProtein(), '*')),\n",
       " Seq('TNNVCFSCFIATSL', HasStopCodon(ExtendedIUPACProtein(), '*')),\n",
       " Seq('SVC', HasStopCodon(ExtendedIUPACProtein(), '*')),\n",
       " Seq('SYNQNSITPCIH', HasStopCodon(ExtendedIUPACProtein(), '*')),\n",
       " Seq('FFHTWCLLP', HasStopCodon(ExtendedIUPACProtein(), '*')),\n",
       " Seq('QSFQILSFTFNSGLVLTFLFQCYLVPCYTCLWDQWY', HasStopCodon(ExtendedIUPACProtein(), '*')),\n",
       " Seq('EV', HasStopCodon(ExtendedIUPACProtein(), '*')),\n",
       " Seq('', HasStopCodon(ExtendedIUPACProtein(), '*')),\n",
       " Seq('PCPTI', HasStopCodon(ExtendedIUPACProtein(), '*')),\n",
       " Seq('', HasStopCodon(ExtendedIUPACProtein(), '*')),\n",
       " Seq('WCLFCFH', HasStopCodon(ExtendedIUPACProtein(), '*')),\n",
       " Seq('EV', HasStopCodon(ExtendedIUPACProtein(), '*')),\n",
       " Seq('HNKRLDFWYYFRFEDPVPTYC', HasStopCodon(ExtendedIUPACProtein(), '*')),\n",
       " Seq('', HasStopCodon(ExtendedIUPACProtein(), '*')),\n",
       " Seq('RY', HasStopCodon(ExtendedIUPACProtein(), '*')),\n",
       " Seq('CCY', HasStopCodon(ExtendedIUPACProtein(), '*')),\n",
       " Seq('SL', HasStopCodon(ExtendedIUPACProtein(), '*')),\n",
       " Seq('ISIL', HasStopCodon(ExtendedIUPACProtein(), '*')),\n",
       " Seq('', HasStopCodon(ExtendedIUPACProtein(), '*')),\n",
       " Seq('SIFGCLLPQKQQKLDGK', HasStopCodon(ExtendedIUPACProtein(), '*')),\n",
       " Seq('VQSLF', HasStopCodon(ExtendedIUPACProtein(), '*')),\n",
       " Seq('CE', HasStopCodon(ExtendedIUPACProtein(), '*')),\n",
       " Seq('LHF', HasStopCodon(ExtendedIUPACProtein(), '*')),\n",
       " Seq('ICLSAFSYGP', HasStopCodon(ExtendedIUPACProtein(), '*')),\n",
       " Seq('RKTG', HasStopCodon(ExtendedIUPACProtein(), '*')),\n",
       " Seq('FQKS', HasStopCodon(ExtendedIUPACProtein(), '*')),\n",
       " Seq('GICV', HasStopCodon(ExtendedIUPACProtein(), '*')),\n",
       " Seq('EY', HasStopCodon(ExtendedIUPACProtein(), '*')),\n",
       " Seq('WLF', HasStopCodon(ExtendedIUPACProtein(), '*')),\n",
       " Seq('NIF', HasStopCodon(ExtendedIUPACProtein(), '*')),\n",
       " Seq('AHAY', HasStopCodon(ExtendedIUPACProtein(), '*')),\n",
       " Seq('FSA', HasStopCodon(ExtendedIUPACProtein(), '*')),\n",
       " Seq('SPSGFFGFRTIGRFANRY', HasStopCodon(ExtendedIUPACProtein(), '*')),\n",
       " Seq('HH', HasStopCodon(ExtendedIUPACProtein(), '*')),\n",
       " Seq('VSNFTCFT', HasStopCodon(ExtendedIUPACProtein(), '*')),\n",
       " Seq('KLFDSW', HasStopCodon(ExtendedIUPACProtein(), '*')),\n",
       " Seq('FFFRLDSWCCSLLCGLSST', HasStopCodon(ExtendedIUPACProtein(), '*')),\n",
       " Seq('DFSIKI', HasStopCodon(ExtendedIUPACProtein(), '*')),\n",
       " Seq('', HasStopCodon(ExtendedIUPACProtein(), '*')),\n",
       " Seq('KWNHYRCCRLCT', HasStopCodon(ExtendedIUPACProtein(), '*')),\n",
       " Seq('PSLRNKVYVEILHCRKRNLSNF', HasStopCodon(ExtendedIUPACProtein(), '*')),\n",
       " Seq('L', HasStopCodon(ExtendedIUPACProtein(), '*')),\n",
       " Seq('SPTNRIYC', HasStopCodon(ExtendedIUPACProtein(), '*')),\n",
       " Seq('IS', HasStopCodon(ExtendedIUPACProtein(), '*')),\n",
       " Seq('YYKLVPFW', HasStopCodon(ExtendedIUPACProtein(), '*')),\n",
       " Seq('SF', HasStopCodon(ExtendedIUPACProtein(), '*')),\n",
       " Seq('RHQICICLCLEQEENQQLCC', HasStopCodon(ExtendedIUPACProtein(), '*')),\n",
       " Seq('LFCPI', HasStopCodon(ExtendedIUPACProtein(), '*')),\n",
       " Seq('FRIIFHF', HasStopCodon(ExtendedIUPACProtein(), '*')),\n",
       " Seq('VLWSVSY', HasStopCodon(ExtendedIUPACProtein(), '*')),\n",
       " Seq('IK', HasStopCodon(ExtendedIUPACProtein(), '*')),\n",
       " Seq('SLLY', HasStopCodon(ExtendedIUPACProtein(), '*')),\n",
       " Seq('CLCRFICN', HasStopCodon(ExtendedIUPACProtein(), '*')),\n",
       " Seq('R', HasStopCodon(ExtendedIUPACProtein(), '*')),\n",
       " Seq('', HasStopCodon(ExtendedIUPACProtein(), '*')),\n",
       " Seq('SQTNRSRANWKDC', HasStopCodon(ExtendedIUPACProtein(), '*')),\n",
       " Seq('L', HasStopCodon(ExtendedIUPACProtein(), '*')),\n",
       " Seq('L', HasStopCodon(ExtendedIUPACProtein(), '*')),\n",
       " Seq('ITR', HasStopCodon(ExtendedIUPACProtein(), '*')),\n",
       " Seq('FYRLRYSLEF', HasStopCodon(ExtendedIUPACProtein(), '*')),\n",
       " Seq('QS', HasStopCodon(ExtendedIUPACProtein(), '*')),\n",
       " Seq('F', HasStopCodon(ExtendedIUPACProtein(), '*')),\n",
       " Seq('GWW', HasStopCodon(ExtendedIUPACProtein(), '*')),\n",
       " Seq('L', HasStopCodon(ExtendedIUPACProtein(), '*')),\n",
       " Seq('LPV', HasStopCodon(ExtendedIUPACProtein(), '*')),\n",
       " Seq('IV', HasStopCodon(ExtendedIUPACProtein(), '*')),\n",
       " Seq('EV', HasStopCodon(ExtendedIUPACProtein(), '*')),\n",
       " Seq('SQTF', HasStopCodon(ExtendedIUPACProtein(), '*')),\n",
       " Seq('ERYFN', HasStopCodon(ExtendedIUPACProtein(), '*')),\n",
       " Seq('NLSGR', HasStopCodon(ExtendedIUPACProtein(), '*')),\n",
       " Seq('HTL', HasStopCodon(ExtendedIUPACProtein(), '*')),\n",
       " Seq('WC', HasStopCodon(ExtendedIUPACProtein(), '*')),\n",
       " Seq('RF', HasStopCodon(ExtendedIUPACProtein(), '*')),\n",
       " Seq('LLLSFTIIWFPTH', HasStopCodon(ExtendedIUPACProtein(), '*')),\n",
       " Seq('WCWLPTIQSSSTFF', HasStopCodon(ExtendedIUPACProtein(), '*')),\n",
       " Seq('TSTCTSNCLWT', HasStopCodon(ExtendedIUPACProtein(), '*')),\n",
       " Seq('KVY', HasStopCodon(ExtendedIUPACProtein(), '*')),\n",
       " Seq('FG', HasStopCodon(ExtendedIUPACProtein(), '*')),\n",
       " Seq('KQMCQFQLQWFNRHRCSY', HasStopCodon(ExtendedIUPACProtein(), '*')),\n",
       " Seq('V', HasStopCodon(ExtendedIUPACProtein(), '*')),\n",
       " Seq('QKVSAFPTIWQRHC', HasStopCodon(ExtendedIUPACProtein(), '*')),\n",
       " Seq('HY', HasStopCodon(ExtendedIUPACProtein(), '*')),\n",
       " Seq('CCP', HasStopCodon(ExtendedIUPACProtein(), '*')),\n",
       " Seq('STDT', HasStopCodon(ExtendedIUPACProtein(), '*')),\n",
       " Seq('DS', HasStopCodon(ExtendedIUPACProtein(), '*')),\n",
       " Seq('HYTMFFWWCQCYNTRNKYF', HasStopCodon(ExtendedIUPACProtein(), '*')),\n",
       " Seq('PGCCSLSGC', HasStopCodon(ExtendedIUPACProtein(), '*')),\n",
       " Seq('LHRSPCCYSCRSTYSYLACLFYRF', HasStopCodon(ExtendedIUPACProtein(), '*')),\n",
       " Seq('CFSNTCRLFNRG', HasStopCodon(ExtendedIUPACProtein(), '*')),\n",
       " Seq('TCQQLI', HasStopCodon(ExtendedIUPACProtein(), '*')),\n",
       " Seq('V', HasStopCodon(ExtendedIUPACProtein(), '*')),\n",
       " Seq('HTHWCRYMR', HasStopCodon(ExtendedIUPACProtein(), '*')),\n",
       " Seq('LSDSD', HasStopCodon(ExtendedIUPACProtein(), '*')),\n",
       " Seq('FSSAGT', HasStopCodon(ExtendedIUPACProtein(), '*')),\n",
       " Seq('CS', HasStopCodon(ExtendedIUPACProtein(), '*')),\n",
       " Seq('SIHHCLHYVTWCRKFSCLL', HasStopCodon(ExtendedIUPACProtein(), '*')),\n",
       " Seq('', HasStopCodon(ExtendedIUPACProtein(), '*')),\n",
       " Seq('LYCHTHKFYY', HasStopCodon(ExtendedIUPACProtein(), '*')),\n",
       " Seq('CYHRNSTSVYDQDISRLYNVHLW', HasStopCodon(ExtendedIUPACProtein(), '*')),\n",
       " Seq('FN', HasStopCodon(ExtendedIUPACProtein(), '*')),\n",
       " Seq('MQQSFVAIWQFLYTIKPCFNWNSC', HasStopCodon(ExtendedIUPACProtein(), '*')),\n",
       " Seq('TRQKHPRSFCTSQTNLQNTTN', HasStopCodon(ExtendedIUPACProtein(), '*')),\n",
       " Seq('RFWWF', HasStopCodon(ExtendedIUPACProtein(), '*')),\n",
       " Seq('FFTNITRSIKTKQEVIY', HasStopCodon(ExtendedIUPACProtein(), '*')),\n",
       " Seq('RSTFQQSDTCRCWLHQTIW', HasStopCodon(ExtendedIUPACProtein(), '*')),\n",
       " Seq('LPW', HasStopCodon(ExtendedIUPACProtein(), '*')),\n",
       " Seq('YCC', HasStopCodon(ExtendedIUPACProtein(), '*')),\n",
       " Seq('RPHLCTKV', HasStopCodon(ExtendedIUPACProtein(), '*')),\n",
       " Seq('RPYCFATFAHR', HasStopCodon(ExtendedIUPACProtein(), '*')),\n",
       " Seq('NDCSIHFCTVSGYNHFWLDLWCRCCITNTICYANGL', HasStopCodon(ExtendedIUPACProtein(), '*')),\n",
       " Seq('V', HasStopCodon(ExtendedIUPACProtein(), '*')),\n",
       " Seq('WYWSYTECSL', HasStopCodon(ExtendedIUPACProtein(), '*')),\n",
       " Seq('EPKIDCQPI', HasStopCodon(ExtendedIUPACProtein(), '*')),\n",
       " Seq('', HasStopCodon(ExtendedIUPACProtein(), '*')),\n",
       " Seq('CYWQNSRLTFFHSKCTWKTSRCGQPKCTSFKHAC', HasStopCodon(ExtendedIUPACProtein(), '*')),\n",
       " Seq('TT', HasStopCodon(ExtendedIUPACProtein(), '*')),\n",
       " Seq('LQFWCNFKCFK', HasStopCodon(ExtendedIUPACProtein(), '*')),\n",
       " Seq('YPFTS', HasStopCodon(ExtendedIUPACProtein(), '*')),\n",
       " Seq('QS', HasStopCodon(ExtendedIUPACProtein(), '*')),\n",
       " Seq('G', HasStopCodon(ExtendedIUPACProtein(), '*')),\n",
       " Seq('SAN', HasStopCodon(ExtendedIUPACProtein(), '*')),\n",
       " Seq('', HasStopCodon(ExtendedIUPACProtein(), '*')),\n",
       " Seq('VDHRQTSKFADICDSTIN', HasStopCodon(ExtendedIUPACProtein(), '*')),\n",
       " Seq('SCRNQSFC', HasStopCodon(ExtendedIUPACProtein(), '*')),\n",
       " Seq('SCCY', HasStopCodon(ExtendedIUPACProtein(), '*')),\n",
       " Seq('NVRVCTWTIKKS', HasStopCodon(ExtendedIUPACProtein(), '*')),\n",
       " Seq('FLWKGLSSYVLPSVSTSWCSLLACDLCPCTRKELHNCSCHLS', HasStopCodon(ExtendedIUPACProtein(), '*')),\n",
       " Seq('WKSTLSS', HasStopCodon(ExtendedIUPACProtein(), '*')),\n",
       " Seq('RCLCFKWHTLVCNTKEFL', HasStopCodon(ExtendedIUPACProtein(), '*')),\n",
       " Seq('TTNHYYRQHICVW', HasStopCodon(ExtendedIUPACProtein(), '*')),\n",
       " Seq('L', HasStopCodon(ExtendedIUPACProtein(), '*')),\n",
       " Seq('CCNRNCQQHSL', HasStopCodon(ExtendedIUPACProtein(), '*')),\n",
       " Seq('SFAT', HasStopCodon(ExtendedIUPACProtein(), '*')),\n",
       " Seq('IRLIQGGVR', HasStopCodon(ExtendedIUPACProtein(), '*')),\n",
       " Seq('IF', HasStopCodon(ExtendedIUPACProtein(), '*')),\n",
       " Seq('ESYITRC', HasStopCodon(ExtendedIUPACProtein(), '*')),\n",
       " Seq('FR', HasStopCodon(ExtendedIUPACProtein(), '*')),\n",
       " Seq('HLWH', HasStopCodon(ExtendedIUPACProtein(), '*')),\n",
       " Seq('CFSCKHSKRN', HasStopCodon(ExtendedIUPACProtein(), '*')),\n",
       " Seq('PPQ', HasStopCodon(ExtendedIUPACProtein(), '*')),\n",
       " Seq('GCQEFK', HasStopCodon(ExtendedIUPACProtein(), '*')),\n",
       " Seq('ISHRSPRTWKV', HasStopCodon(ExtendedIUPACProtein(), '*')),\n",
       " Seq('AVYKMAMVHLARFYSWLDCHSNGDNYALLYDQLL', HasStopCodon(ExtendedIUPACProtein(), '*')),\n",
       " Seq('LSQGLLFLWILLQI', HasStopCodon(ExtendedIUPACProtein(), '*')),\n",
       " Seq('', HasStopCodon(ExtendedIUPACProtein(), '*')),\n",
       " Seq('RRL', HasStopCodon(ExtendedIUPACProtein(), '*')),\n",
       " Seq('ASAQRSQITLHINELMDLFMRIFTIGTVTLKQGEIKDATPSDFVRATATIPIQA...VPL', HasStopCodon(ExtendedIUPACProtein(), '*')),\n",
       " Seq('AQADEYELMYSFVSEETGTLIVNSVLLFLAFVVFLLVTLAILTALRLCAYCCNI...LLV', HasStopCodon(ExtendedIUPACProtein(), '*')),\n",
       " Seq('TN', HasStopCodon(ExtendedIUPACProtein(), '*')),\n",
       " Seq('ILY', HasStopCodon(ExtendedIUPACProtein(), '*')),\n",
       " Seq('FFCLEL', HasStopCodon(ExtendedIUPACProtein(), '*')),\n",
       " Seq('F', HasStopCodon(ExtendedIUPACProtein(), '*')),\n",
       " Seq('PWQIPTVLLPLKSLKSSLNNGT', HasStopCodon(ExtendedIUPACProtein(), '*')),\n",
       " Seq('', HasStopCodon(ExtendedIUPACProtein(), '*')),\n",
       " Seq('', HasStopCodon(ExtendedIUPACProtein(), '*')),\n",
       " Seq('VSYSLHGFVFYNLPMPTGIGFCI', HasStopCodon(ExtendedIUPACProtein(), '*')),\n",
       " Seq('LS', HasStopCodon(ExtendedIUPACProtein(), '*')),\n",
       " Seq('FSSGCYGQ', HasStopCodon(ExtendedIUPACProtein(), '*')),\n",
       " Seq('L', HasStopCodon(ExtendedIUPACProtein(), '*')),\n",
       " Seq('LVLCLLLFTE', HasStopCodon(ExtendedIUPACProtein(), '*')),\n",
       " Seq('IGSPVELLSQWLVL', HasStopCodon(ExtendedIUPACProtein(), '*')),\n",
       " Seq('A', HasStopCodon(ExtendedIUPACProtein(), '*')),\n",
       " Seq('CGSATSLLLSDCLRVRVPCGHSIQKLTFFSTCHSMALF', HasStopCodon(ExtendedIUPACProtein(), '*')),\n",
       " Seq('PDRF', HasStopCodon(ExtendedIUPACProtein(), '*')),\n",
       " Seq('KVNS', HasStopCodon(ExtendedIUPACProtein(), '*')),\n",
       " Seq('SEL', HasStopCodon(ExtendedIUPACProtein(), '*')),\n",
       " Seq('SFVDIFVLLDTI', HasStopCodon(ExtendedIUPACProtein(), '*')),\n",
       " Seq('DAVTSRTCLKKSLLLHHERFLITNWELRSV', HasStopCodon(ExtendedIUPACProtein(), '*')),\n",
       " Seq('QVTQVLLHTVATGLATIN', HasStopCodon(ExtendedIUPACProtein(), '*')),\n",
       " Seq('TQTIPVAVTILLCLYSK', HasStopCodon(ExtendedIUPACProtein(), '*')),\n",
       " Seq('QQMFHLVDFQVTIAEILLIIMRTFKVSIWNLDYIINLIIKNLSKSLTENKYSQL...EID', HasStopCodon(ExtendedIUPACProtein(), '*')),\n",
       " Seq('TNMKIILFLALITLATCELYHYQECVRGTTVLLKEPCSSGTYEGNSPFHPLADN...KTE', HasStopCodon(ExtendedIUPACProtein(), '*')),\n",
       " Seq('LNFH', HasStopCodon(ExtendedIUPACProtein(), '*')),\n",
       " Seq('LTSICAF', HasStopCodon(ExtendedIUPACProtein(), '*')),\n",
       " Seq('PFCYSLF', HasStopCodon(ExtendedIUPACProtein(), '*')),\n",
       " Seq('LCLLSFGSHLNCKIIMKLVTPKRT', HasStopCodon(ExtendedIUPACProtein(), '*')),\n",
       " Seq('NFLFS', HasStopCodon(ExtendedIUPACProtein(), '*')),\n",
       " Seq('ESSQL', HasStopCodon(ExtendedIUPACProtein(), '*')),\n",
       " Seq('LHFTKNVVYSHVLNINHM', HasStopCodon(ExtendedIUPACProtein(), '*')),\n",
       " Seq('LMTRVLFTSILNGILE', HasStopCodon(ExtendedIUPACProtein(), '*')),\n",
       " Seq('ELENQHL', HasStopCodon(ExtendedIUPACProtein(), '*')),\n",
       " Seq('LNCAWMRLVLNHPFSTSISVIIQFPVYLLQLIARNLNWVVL', HasStopCodon(ExtendedIUPACProtein(), '*')),\n",
       " Seq('CVVRSMKTF', HasStopCodon(ExtendedIUPACProtein(), '*')),\n",
       " Seq('SIMTFVLF', HasStopCodon(ExtendedIUPACProtein(), '*')),\n",
       " Seq('ISSKRTN', HasStopCodon(ExtendedIUPACProtein(), '*')),\n",
       " Seq('NV', HasStopCodon(ExtendedIUPACProtein(), '*')),\n",
       " Seq('', HasStopCodon(ExtendedIUPACProtein(), '*')),\n",
       " Seq('WTPKSAKCTPHYVWWTLRFNWQ', HasStopCodon(ExtendedIUPACProtein(), '*')),\n",
       " Seq('PEWRTQWGAIKTTSAPRFTQ', HasStopCodon(ExtendedIUPACProtein(), '*')),\n",
       " Seq('YCVLVHRSHSTWQGRP', HasStopCodon(ExtendedIUPACProtein(), '*')),\n",
       " Seq('IPSRTRRSN', HasStopCodon(ExtendedIUPACProtein(), '*')),\n",
       " Seq('HQ', HasStopCodon(ExtendedIUPACProtein(), '*')),\n",
       " Seq('QSR', HasStopCodon(ExtendedIUPACProtein(), '*')),\n",
       " Seq('PNWLLPKSYQTNSWW', HasStopCodon(ExtendedIUPACProtein(), '*')),\n",
       " Seq('R', HasStopCodon(ExtendedIUPACProtein(), '*')),\n",
       " Seq('NERSQSKMVFLLPRNWARSWTSLWC', HasStopCodon(ExtendedIUPACProtein(), '*')),\n",
       " Seq('QRRHHMGCN', HasStopCodon(ExtendedIUPACProtein(), '*')),\n",
       " Seq('GSLEYTKRSHWHPQSC', HasStopCodon(ExtendedIUPACProtein(), '*')),\n",
       " Seq('QCCNRATTSSRNNIAKRLLRRREQRRQSSLFSFLIT', HasStopCodon(ExtendedIUPACProtein(), '*')),\n",
       " Seq('SQQFKKFNSRQQ', HasStopCodon(ExtendedIUPACProtein(), '*')),\n",
       " Seq('GNFSC', HasStopCodon(ExtendedIUPACProtein(), '*')),\n",
       " Seq('NGWQWR', HasStopCodon(ExtendedIUPACProtein(), '*')),\n",
       " Seq('CCSCFAAA', HasStopCodon(ExtendedIUPACProtein(), '*')),\n",
       " Seq('QIEPA', HasStopCodon(ExtendedIUPACProtein(), '*')),\n",
       " Seq('EQNVW', HasStopCodon(ExtendedIUPACProtein(), '*')),\n",
       " Seq('RPTTTRPNCH', HasStopCodon(ExtendedIUPACProtein(), '*')),\n",
       " Seq('EICC', HasStopCodon(ExtendedIUPACProtein(), '*')),\n",
       " Seq('GF', HasStopCodon(ExtendedIUPACProtein(), '*')),\n",
       " Seq('EASAKTYCH', HasStopCodon(ExtendedIUPACProtein(), '*')),\n",
       " Seq('SIQCNTSFRQTWSRTNPRKFWGPGTNQTRN', HasStopCodon(ExtendedIUPACProtein(), '*')),\n",
       " Seq('LQTLAANCTICPQRFSVLRNVAHWHGSHTFGNVVDLHRCHQIG', HasStopCodon(ExtendedIUPACProtein(), '*')),\n",
       " Seq('QRSKFQRSSHFAE', HasStopCodon(ExtendedIUPACProtein(), '*')),\n",
       " Seq('AY', HasStopCodon(ExtendedIUPACProtein(), '*')),\n",
       " Seq('RIQNIPTNRA', HasStopCodon(ExtendedIUPACProtein(), '*')),\n",
       " Seq('KGQKEEG', HasStopCodon(ExtendedIUPACProtein(), '*')),\n",
       " Seq('', HasStopCodon(ExtendedIUPACProtein(), '*')),\n",
       " Seq('NSSLTAETEETANCDSSSCCRFG', HasStopCodon(ExtendedIUPACProtein(), '*')),\n",
       " Seq('FLQTIATIHEQC', HasStopCodon(ExtendedIUPACProtein(), '*')),\n",
       " Seq('LNSGLNSCRPHKADGLYKRFRFSVYDI', HasStopCodon(ExtendedIUPACProtein(), '*')),\n",
       " Seq('STLVQNEFS', HasStopCodon(ExtendedIUPACProtein(), '*')),\n",
       " Seq('LHSTSRCS', HasStopCodon(ExtendedIUPACProtein(), '*')),\n",
       " Seq('L', HasStopCodon(ExtendedIUPACProtein(), '*')),\n",
       " Seq('SHIAIFNQCVTLGRT', HasStopCodon(ExtendedIUPACProtein(), '*')),\n",
       " Seq('KSHHIFTEATRSTIECTVNNARESCLYGRALMCKINFSSAIPM', HasStopCodon(ExtendedIUPACProtein(), '*')),\n",
       " Seq('F', HasStopCodon(ExtendedIUPACProtein(), '*')),\n",
       " Seq('', HasStopCodon(ExtendedIUPACProtein(), '*')),\n",
       " Seq('LLRRMTKKKKKKKKKK', HasStopCodon(ExtendedIUPACProtein(), '*'))]"
      ]
     },
     "execution_count": 64,
     "metadata": {},
     "output_type": "execute_result"
    }
   ],
   "source": [
    "ncov_amino_acids"
   ]
  },
  {
   "cell_type": "code",
   "execution_count": 65,
   "metadata": {},
   "outputs": [
    {
     "name": "stdout",
     "output_type": "stream",
     "text": [
      "IKGLYLPR\n",
      "QTNQLSISCRSVL\n",
      "TNFKICVAVTRLHA\n",
      "CTHAV\n",
      "LITNYCR\n",
      "QDTSNSSIFCRLLTVSSVLQPIISTSRFRPGVTER\n",
      "DGEPCPWFQRENTRPTQFACFTGSRRARTWLWRLRGGGLIRGTSTS\n",
      "RWHLWLSRS\n",
      "KRRFAST\n",
      "TALCVHQTFGCSNCTSWSCYG\n",
      "AGSRTRRHSVRS\n",
      "W\n",
      "DTWCPCPSCGRNTSGLPQGSSS\n",
      "ER\n",
      "\n",
      "RSWWP\n",
      "LRRRSKVI\n",
      "LRRRAWH\n",
      "SL\n",
      "RFSRKLEH\n",
      "T\n",
      "QWCYP\n",
      "THA\n",
      "A\n",
      "RRGIHSLCR\n",
      "QLLWP\n",
      "WLPS\n",
      "VH\n",
      "RPSSTCW\n",
      "SFMHFVRTTGLY\n",
      "H\n",
      "EGCILLP\n",
      "T\n",
      "A\n",
      "NCLVHGTF\n",
      "KEL\n",
      "IADTF\n",
      "N\n",
      "IGKEI\n",
      "HLQWGMSKFCISLKFHNQDYSTKG\n",
      "KEKA\n",
      "WLYG\n",
      "NSICLSSCVTK\n",
      "MQPNVPFNSHEV\n",
      "SLW\n",
      "NFMADGRFC\n",
      "SHLRILWH\n",
      "EFD\n",
      "RRCHYLWLLTPKCCC\n",
      "NLLSSMSQFRSRT\n",
      "A\n",
      "SCRIP\n",
      "\n",
      "IWLENHSS\n",
      "GWSHYCLWRLCVLLCWLP\n",
      "QVCLLGSTC\n",
      "R\n",
      "HRL\n",
      "PYRCCWRRFRRS\n",
      "\n",
      "QPS\n",
      "NTPKRESQHQYCW\n",
      "L\n",
      "T\n",
      "\n",
      "RDRHYFGIFFCFHKCFCGNCERFGL\n",
      "SIQTNC\n",
      "ILW\n",
      "F\n",
      "SYKRKS\n",
      "KRCLEYW\n",
      "TEINTESSLCICIRGCSCCTINFLPHS\n",
      "NCSKFCACFTEGRYNNTRWNFTVFTETH\n",
      "CYDVHI\n",
      "FGY\n",
      "QSSCNGLHYRWCCSVDFAVAN\n",
      "HLWHCL\n",
      "KTQTRP\n",
      "LA\n",
      "REV\n",
      "GRCRVS\n",
      "RRLGNC\n",
      "IYLNLCL\n",
      "NCRWTNCHLCKGN\n",
      "GECSDIL\n",
      "ACK\n",
      "IFGFVC\n",
      "LYHYWWS\n",
      "T\n",
      "SLEFR\n",
      "NICHALKGIVQKVC\n",
      "IQRRNWPTHASKSPKRNYLLRGRNTSHRSVNRGSCLENW\n",
      "FTTIRTTY\n",
      "\n",
      "SC\n",
      "SSIGWYTSLY\n",
      "RAYVARNQRHRKVLCPCT\n",
      "YDGNKQYLHTQRRCTNKGYFW\n",
      "\n",
      "HCDRSARLQECEYHF\n",
      "T\n",
      "\n",
      "KD\n",
      "\n",
      "ST\n",
      "\n",
      "EVLCLYS\n",
      "TRYRSK\n",
      "VRLCCGRCCHKNFATSI\n",
      "ITYTTGH\n",
      "FR\n",
      "VEYGYILLI\n",
      "\n",
      "VW\n",
      "V\n",
      "IGFTYVLFFLPSR\n",
      "G\n",
      "RRR\n",
      "L\n",
      "RRRV\n",
      "AINSI\n",
      "VWY\n",
      "R\n",
      "LPR\n",
      "TFGIWCHFCCSST\n",
      "RRARRRLVR\n",
      "\n",
      "\n",
      "STNCWSTRRQ\n",
      "GQSDNYYSNNC\n",
      "GSTSIRDGTYTSCSDY\n",
      "SE\n",
      "F\n",
      "WLFKTY\n",
      "QCIH\n",
      "KCRHCGRS\n",
      "KGKTNSGC\n",
      "CSQCLP\n",
      "TWRRCCRSLK\n",
      "GY\n",
      "QCHAS\n",
      "I\n",
      "\n",
      "LHSY\n",
      "WTT\n",
      "SGW\n",
      "LCFKRTQSC\n",
      "TLSSCCRPKC\n",
      "QR\n",
      "RHSTS\n",
      "ECL\n",
      "KF\n",
      "SARSSTCTIIISWYFWC\n",
      "PYTFFKSLCRYCSHKCLLSCL\n",
      "\n",
      "KSL\n",
      "QTCFKLFGNEE\n",
      "KAS\n",
      "TKDR\n",
      "DS\n",
      "RGS\n",
      "AIYN\n",
      "K\n",
      "TFS\n",
      "TEKTR\n",
      "\n",
      "ENQSLC\n",
      "RSYNNSGRN\n",
      "VPHRKLVTLY\n",
      "H\n",
      "WQSSSRFCHSC\n",
      "\n",
      "H\n",
      "HHFLKERCSIYSG\n",
      "CCSRGCFNCCGYTY\n",
      "KGWWHY\n",
      "NASESFEKSANRQLYNHLPGSGFKWLHCRGGKDSA\n",
      "KV\n",
      "KCLLHSTIYYL\n",
      "\n",
      "EARNSWNCFLEFARNACTCRRNTQINACLCGN\n",
      "SHSFNYTA\n",
      "I\n",
      "GY\n",
      "NTRGCG\n",
      "LWC\n",
      "ILLLHQ\n",
      "NNCSVTYQHT\n",
      "RSK\n",
      "NSCYNATWLCNTWLKFGRSCSVYEISQSASYSFCFFT\n",
      "CCYSV\n",
      "WLSYFFF\n",
      "NT\n",
      "RTFY\n",
      "NHLTCWFL\n",
      "RLVLFWTIYTTRYRIS\n",
      "ER\n",
      "\n",
      "KCILH\n",
      "\n",
      "SYHIPPRW\n",
      "SYHL\n",
      "QS\n",
      "DTSFFERSEDY\n",
      "GVYNSRQH\n",
      "PPHASCGHVNDIWTTVWSNLFGWS\n",
      "CY\n",
      "NKTS\n",
      "FT\n",
      "R\n",
      "NILCFT\n",
      "\n",
      "\n",
      "HSTC\n",
      "GF\n",
      "VLPHN\n",
      "S\n",
      "FSG\n",
      "VHVSIKSH\n",
      "KVEIPTS\n",
      "WFNFY\n",
      "MGR\n",
      "QLLSCHCIVNTPTNRVEV\n",
      "STCSTRCLLQSKGW\n",
      "SC\n",
      "LLCTYLSLL\n",
      "\n",
      "DSR\n",
      "VR\n",
      "C\n",
      "RNNELLVSTCQFRFLQKSLERGV\n",
      "NLWTTADNP\n",
      "GCRSCYVHGHTFL\n",
      "TI\n",
      "ERCSDTLYVW\n",
      "TSYKISSTTGVTFCYDVSTTCSV\n",
      "T\n",
      "AWYIYLC\n",
      "\n",
      "VHW\n",
      "LPVWSL\n",
      "TYNF\n",
      "RNFVLHRRCFTYKVLRIQRSYYGCFLQRKQLHNNHKTSYL\n",
      "IGWCCLYRN\n",
      "P\n",
      "VGQLL\n",
      "ERQFLFHRATN\n",
      "SCTKPTISKRKLR\n",
      "F\n",
      "VCM\n",
      "\n",
      "YQIC\n",
      "\n",
      "FKPVNWL\n",
      "ETCFKRA\n",
      "SYIFP\n",
      "LKW\n",
      "CGGY\n",
      "L\n",
      "TLHTLF\n",
      "ERS\n",
      "IVT\n",
      "TYCLAC\n",
      "QCN\n",
      "\n",
      "SHV\n",
      "TKYLVYTLSLEHKTS\n",
      "NIKFV\n",
      "CTEVRGRAGNG\n",
      "SCLRRSKTSL\n",
      "RSSGKSYHTERRS\n",
      "V\n",
      "CENYRSCRRHYT\n",
      "TSK\n",
      "\n",
      "FKNYRRGWPHRSNGCLCRQF\n",
      "SYY\n",
      "ET\n",
      "\n",
      "II\n",
      "SIRFENPCYSWFSCC\n",
      "\n",
      "CPLGYYS\n",
      "LC\n",
      "AFS\n",
      "QSC\n",
      "YNY\n",
      "HSYTVFKPCLY\n",
      "LYALFLYFIATIVYFY\n",
      "KYKF\n",
      "N\n",
      "SIYADYYSKEYC\n",
      "ECR\n",
      "ILSRGFI\n",
      "LFEVT\n",
      "FF\n",
      "TDKYYNLVFTIKCLPRFFNLLNRCFRCFNV\n",
      "FRHAFLLYWLQRRLFELY\n",
      "CHYCNLLYWFYTL\n",
      "CLS\n",
      "WFRFFRHLSFFRNYTNYHFIF\n",
      "MGFNCFWLSCRVVFGIYSFH\n",
      "VFLCTWIGCNHAIVFQLFCSTFY\n",
      "\n",
      "FLAYVVNN\n",
      "SCTNGPDFSYG\n",
      "NVHLLCIILLCMEKLCACCRRL\n",
      "FINLYDVLQT\n",
      "\n",
      "SNKSRMYNYC\n",
      "WC\n",
      "KVLLCLC\n",
      "WR\n",
      "RLLQTTQLELC\n",
      "L\n",
      "YILCW\n",
      "YIY\n",
      "\n",
      "\n",
      "SCERLVTTV\n",
      "KTNKSY\n",
      "PVFLHR\n",
      "\n",
      "CYSEEWFHPSLL\n",
      "\n",
      "SWSKDL\n",
      "KTFSLSFC\n",
      "LRQPES\n",
      "\n",
      "H\n",
      "RFIAY\n",
      "CYSF\n",
      "W\n",
      "IKM\n",
      "RIICKISVCLLQSAYVSTYTVTRSGISV\n",
      "CW\n",
      "\n",
      "CGSCS\n",
      "NV\n",
      "CLR\n",
      "YVFINF\n",
      "RTNGKTQNTSCNCRS\n",
      "TCKECVLRQCLIYFYFSSSARVC\n",
      "FRCRN\n",
      "RCC\n",
      "MS\n",
      "IVTSI\n",
      "HRSYWR\n",
      "L\n",
      "\n",
      "LYAHL\n",
      "QS\n",
      "KHDTP\n",
      "PWCLY\n",
      "L\n",
      "CASY\n",
      "CAGSKKSQHCFDMER\n",
      "RFHVIV\n",
      "TTTKTNT\n",
      "CC\n",
      "KE\n",
      "LTF\n",
      "VDMCNY\n",
      "TSC\n",
      "CCNNKDST\n",
      "GW\n",
      "NC\n",
      "\n",
      "LVEAVN\n",
      "SYTCVPFCCCYFLFNNTCSCHV\n",
      "TY\n",
      "LFK\n",
      "NHRIQGY\n",
      "WWCHS\n",
      "HSIYRYLFC\n",
      "QTC\n",
      "F\n",
      "HMV\n",
      "PAWW\n",
      "LY\n",
      "\n",
      "QSLPIDCCSHNKRSGFCRAWFAWHDITHN\n",
      "W\n",
      "LFAFLT\n",
      "SF\n",
      "CSW\n",
      "HLLHTIKTYRVH\n",
      "LCNISLCFGC\n",
      "MYNF\n",
      "RCFW\n",
      "ASTILL\n",
      "YQCTRRFCCL\n",
      "KFTP\n",
      "HTLCAHGWLYYSIS\n",
      "HLP\n",
      "RFC\n",
      "SGNNF\n",
      "F\n",
      "VL\n",
      "ARHL\n",
      "KIRSWCLCIY\n",
      "W\n",
      "MGT\n",
      "Q\n",
      "LLQIFTRSFLWCRCCKFTY\n",
      "YVYTTNSTYWCFGHISIYSSWWYCSYRSNMPCLLFYEV\n",
      "KSFW\n",
      "IQSCSCL\n",
      "YFTIPYVIHCTLFNTSLLILTWCLFCYLLVLDILSY\n",
      "\n",
      "CFFFSTYSVDGYVHTFSTFLDNNCLYHLYFHKAFLLVL\n",
      "\n",
      "LPKETCSL\n",
      "WCFL\n",
      "YF\n",
      "RSCAVHLFVK\n",
      "RNVSKVA\n",
      "\n",
      "CAITSYAI\n",
      "\n",
      "ILSSL\n",
      "\n",
      "VQVF\n",
      "WSNGYN\n",
      "LQRSCLLSSRKGSQ\n",
      "LQ\n",
      "LRF\n",
      "CSLPTTTNLYHLSCFAEWF\n",
      "KNGIPIW\n",
      "S\n",
      "GLYGTSNLWYNYT\n",
      "RSLA\n",
      "\n",
      "RSLLSKTCDLHL\n",
      "RHA\n",
      "P\n",
      "L\n",
      "RFTHS\n",
      "V\n",
      "S\n",
      "FLGTGW\n",
      "CSTQGYWTFYAKLCT\n",
      "A\n",
      "G\n",
      "YSQS\n",
      "DT\n",
      "V\n",
      "VCSHSTRTDFFSVSLLQWFTIWCLPMCYEAQFHY\n",
      "GFIP\n",
      "WFMW\n",
      "CWF\n",
      "HRL\n",
      "LCLFLLHAPYGITNWSSCWHRLRR\n",
      "LLWTFC\n",
      "QANSTSSWYGHNYYS\n",
      "CFSLVVRCCYKWRQVVSQSIYHNS\n",
      "\n",
      "L\n",
      "PCGYEVQL\n",
      "TSNTRPC\n",
      "HTRTSFCSNWNCRFRYVCFIKRITAKWYEWTYHIG\n",
      "CFIRR\n",
      "IYTF\n",
      "CC\n",
      "TMLRCYFPKCSEKNNQGYTPLVVTHNFDFTFSFSPEYSMVFVLFFV\n",
      "KCLFTFCYGYYCYVCFCNDVCQT\n",
      "ACISLFVFVTFSCHCSLF\n",
      "YGLYAC\n",
      "LGDAYYDMVGYG\n",
      "Y\n",
      "FVWF\n",
      "AKRLCYVCISCSVTNPYDSKNCV\n",
      "\n",
      "WC\n",
      "ESVDTYECLDTRL\n",
      "SLLW\n",
      "CFRSSHFHVGSYNLCYF\n",
      "LLRCSYNCHVFGQRYCFYVC\n",
      "VLPYFLHNW\n",
      "YTSVYNASLLFLRLFLYLLLWPLLFTQPLL\n",
      "TDSWCL\n",
      "LLSFYTGV\n",
      "IYEFTGTTPTQE\n",
      "HRCLQTQH\n",
      "IVGCWWQTLYQSSHCTV\n",
      "NVRCKVHISSLTLSFATTQSRIII\n",
      "IVGSMCPVTQ\n",
      "HSLS\n",
      "RYY\n",
      "SL\n",
      "KNGFTTFCFAFHAGCCRHKQAL\n",
      "RNAGQQGNLTSYSLRV\n",
      "FPSIICSFCYCSRSL\n",
      "AGCC\n",
      "W\n",
      "F\n",
      "SCS\n",
      "KVEEVFECG\n",
      "I\n",
      "I\n",
      "P\n",
      "CSHAT\n",
      "VGKDG\n",
      "SSYDPNV\n",
      "TG\n",
      "I\n",
      "GQEGKSY\n",
      "CYADNAFHYA\n",
      "KVG\n",
      "\n",
      "CTQQHYQQCKRWLCSLEHNTSYNSSQTNGCHTRL\n",
      "HI\n",
      "KYV\n",
      "WYNIYLCISIVGNPTGCRCR\n",
      "\n",
      "NCST\n",
      "\n",
      "N\n",
      "YGQFT\n",
      "FSMASYCNSFKGQFCCQITE\n",
      "\n",
      "A\n",
      "SCCTTTDVLCCRYYTNCLH\n",
      "\n",
      "QCVSLLQHNKGR\n",
      "VCTCTVIRFTGFEMG\n",
      "IP\n",
      "E\n",
      "WNWYYLYRTGTTL\n",
      "VCYRHT\n",
      "RS\n",
      "SEVFILY\n",
      "RIKQPK\n",
      "RYGTW\n",
      "FSCHSTSTSW\n",
      "CNRSACQFNCIIFLCFCCRCC\n",
      "SLQRLSS\n",
      "WGTTNH\n",
      "LC\n",
      "DVVYTHWYWSGNNSYTGSQYGSRILWWCIVLSVLPLPHRSSKS\n",
      "RIL\n",
      "LKR\n",
      "VCTNTYNLC\n",
      "\n",
      "PCGFYT\n",
      "KHSLYRLRYVERLWL\n",
      "L\n",
      "STPRTHASVS\n",
      "CTIVFKRVCGVSAARLTPCGTGTSTDVVYRAFDIYNDKVAGFAKFLKTNCCRFQEKDEDDNLIDSYFVVKRHTFSNYQHEETIYNLLKDCPAVAKHDFFKFRIDGDMVPHISRQRLTKYTMADLVYALRHFDEGNCDTLKEILVTYNCCDDDYFNKKDWYDFVENPDILRVYANLGERVRQALLKTVQFCDAMRNAGIVGVLTLDNQDLNGNWYDFGDFIQTTPGSGVPVVDSYYSLLMPILTLTRALTAESHVDTDLTKPYIKWDLLKYDFTEERLKLFDRYFKYWDQTYHPNCVNCLDDRCILHCANFNVLFSTVFPPTSFGPLVRKIFVDGVPFVVSTGYHFRELGVVHNQDVNLHSSRLSFKELLVYAADPAMHAASGNLLLDKRTTCFSVAALTNNVAFQTVKPGNFNKDFYDFAVSKGFFKEGSSVELKHFFFAQDGNAAISDYDYYRYNLPTMCDIRQLLFVVEVVDKYFDCYDGGCINANQVIVNNLDKSAGFPFNKWGKARLYYDSMSYEDQDALFAYTKRNVIPTITQMNLKYAISAKNRARTVAGVSICSTMTNRQFHQKLLKSIAATRGATVVIGTSKFYGGWHNMLKTVYSDVENPHLMGWDYPKCDRAMPNMLRIMASLVLARKHTTCCSLSHRFYRLANECAQVLSEMVMCGGSLYVKPGGTSSGDATTAYANSVFNICQAVTANVNALLSTDGNKIADKYVRNLQHRLYECLYRNRDVDTDFVNEFYAYLRKHFSMMILSDDAVVCFNSTYASQGLVASIKNFKSVLYYQNNVFMSEAKCWTETDLTKGPHEFCSQHTMLVKQGDDYVYLPYPDPSRILGAGCFVDDIVKTDGTLMIERFVSLAIDAYPLTKHPNQEYADVFHLYLQYIRKLHDELTGHMLDMYSVMLTNDNTSRYWEPEFYEAMYTPHTVLQAVGACVLCNSQTSLRCGACIRRPFLCCKCCYDHVISTSHKLVLSVNPYVCNAPGCDVTDVTQLYLGGMSYYCKSHKPPISFPLCANGQVFGLYKNTCVGSDNVTDFNAIATCDWTNAGDYILANTCTERLKLFAAETLKATEETFKLSYGIATVREVLSDRELHLSWEVGKPRPPLNRNYVFTGYRVTKNSKVQIGEYTFEKGDYGDAVVYRGTTTYKLNVGDYFVLTSHTVMPLSAPTLVPQEHYVRITGLYPTLNISDEFSSNVANYQKVGMQKYSTLQGPPGTGKSHFAIGLALYYPSARIVYTACSHAAVDALCEKALKYLPIDKCSRIIPARARVECFDKFKVNSTLEQYVFCTVNALPETTADIVVFDEISMATNYDLSVVNARLRAKHYVYIGDPAQLPAPRTLLTKGTLEPEYFNSVCRLMKTIGPDMFLGTCRRCPAEIVDTVSALVYDNKLKAHKDKSAQCFKMFYKGVITHDVSSAINRPQIGVVREFLTRNPAWRKAVFISPYNSQNAVASKILGLPTQTVDSSQGSEYDYVIFTQTTETAHSCNVNRFNVAITRAKVGILCIMSDRDLYDKLQFTSLEIPRRNVATLQAENVTGLFKDCSKVITGLHPTQAPTHLSVDTKFKTEGLCVDIPGIPKDMTYRRLISMMGFKMNYQVNGYPNMFITREEAIRHVRAWIGFDVEGCHATREAVGTNLPLQLGFSTGVNLVAVPTGYVDTPNNTDFSRVSAKPPPGDQFKHLIPLMYKGLPWNVVRIKIVQMLSDTLKNLSDRVVFVLWAHGFELTSMKYFVKIGPERTCCLCDRRATCFSTASDTYACWHHSIGFDYVYNPFMIDVQQWGFTGNLQSNHDLYCQVHGNAHVASCDAIMTRCLAVHECFVKRVDWTIEYPIIGDELKINAACRKVQHMVVKAALLADKFPVLHDIGNPKAIKCVPQADVEWKFYDAQPCSDKAYKIEELFYSYATHSDKFTDGVCLFWNCNVDRYPANSIVCRFDTRVLSNLNLPGCDGGSLYVNKHAFHTPAFDKSAFVNLKQLPFFYYSDSPCESHGKQVVSDIDYVPLKSATCITRCNLGGAVCRHHANEYRLYLDAYNMMISAGFSLWVYKQFDTYNLWNTFTRLQSLENVAFNVVNKGHFDGQQGEVPVSIINNTVYTKVDGVDVELFENKTTLPVNVAFELWAKRNIKPVPEVKILNNLGVDIAANTVIWDYKRDAPAHISTIGVCSMTDIAKKPTETICAPLTVFFDGRVDGQVDLFRNARNGVLITEGSVKGLQPSVGPKQASLNGVTLIGEAVKTQFNYYKKVDGVVQQLPETYFTQSRNLQEFKPRSQMEIDFLELAMDEFIERYKLEGYAFEHIVYGDFSHSQLGGLHLLIGLAKRFKESPFELEDFIPMDSTVKNYFITDAQTGSSKCVCSVIDLLLDDFVEIIKSQDLSVVSKVVKVTIDYTEISFMLWCKDGHVETFYPKLQSSQAWQPGVAMPNLYKMQRMLLEKCDLQNYGDSATLPKGIMMNVAKYTQLCQYLNTLTLAVPYNMRVIHFGAGSDKGVAPGTAVLRQWLPTGTLLVDSDLNDFVSDADSTLIGDCATVHTANKWDLIISDMYDPKTKNVTKENDSKEGFFTYICGFIQQKLALGGSVAIKITEHSWNADLYKLMGHFAWWTAFVTNVNASSSEAFLIGCNYLGKPREQIDGYVMHANYIFWRNTNPIQLSSYSLFDMSKFPLKLRGTAVMSLKEGQINDMILSLLSKGRLIIRENNRVVISSDVLVNN\n",
      "TNNVCFSCFIATSL\n",
      "SVC\n",
      "SYNQNSITPCIH\n",
      "FFHTWCLLP\n",
      "QSFQILSFTFNSGLVLTFLFQCYLVPCYTCLWDQWY\n",
      "EV\n",
      "\n",
      "PCPTI\n",
      "\n",
      "WCLFCFH\n",
      "EV\n",
      "HNKRLDFWYYFRFEDPVPTYC\n",
      "\n",
      "RY\n",
      "CCY\n",
      "SL\n",
      "ISIL\n",
      "\n",
      "SIFGCLLPQKQQKLDGK\n",
      "VQSLF\n",
      "CE\n",
      "LHF\n",
      "ICLSAFSYGP\n",
      "RKTG\n",
      "FQKS\n",
      "GICV\n",
      "EY\n",
      "WLF\n",
      "NIF\n",
      "AHAY\n",
      "FSA\n",
      "SPSGFFGFRTIGRFANRY\n",
      "HH\n",
      "VSNFTCFT\n",
      "KLFDSW\n",
      "FFFRLDSWCCSLLCGLSST\n",
      "DFSIKI\n",
      "\n",
      "KWNHYRCCRLCT\n",
      "PSLRNKVYVEILHCRKRNLSNF\n",
      "L\n",
      "SPTNRIYC\n",
      "IS\n",
      "YYKLVPFW\n",
      "SF\n",
      "RHQICICLCLEQEENQQLCC\n",
      "LFCPI\n",
      "FRIIFHF\n",
      "VLWSVSY\n",
      "IK\n",
      "SLLY\n",
      "CLCRFICN\n",
      "R\n",
      "\n",
      "SQTNRSRANWKDC\n",
      "L\n",
      "L\n",
      "ITR\n",
      "FYRLRYSLEF\n",
      "QS\n",
      "F\n",
      "GWW\n",
      "L\n",
      "LPV\n",
      "IV\n",
      "EV\n",
      "SQTF\n",
      "ERYFN\n",
      "NLSGR\n",
      "HTL\n",
      "WC\n",
      "RF\n",
      "LLLSFTIIWFPTH\n",
      "WCWLPTIQSSSTFF\n",
      "TSTCTSNCLWT\n",
      "KVY\n",
      "FG\n",
      "KQMCQFQLQWFNRHRCSY\n",
      "V\n",
      "QKVSAFPTIWQRHC\n",
      "HY\n",
      "CCP\n",
      "STDT\n",
      "DS\n",
      "HYTMFFWWCQCYNTRNKYF\n",
      "PGCCSLSGC\n",
      "LHRSPCCYSCRSTYSYLACLFYRF\n",
      "CFSNTCRLFNRG\n",
      "TCQQLI\n",
      "V\n",
      "HTHWCRYMR\n",
      "LSDSD\n",
      "FSSAGT\n",
      "CS\n",
      "SIHHCLHYVTWCRKFSCLL\n",
      "\n",
      "LYCHTHKFYY\n",
      "CYHRNSTSVYDQDISRLYNVHLW\n",
      "FN\n",
      "MQQSFVAIWQFLYTIKPCFNWNSC\n",
      "TRQKHPRSFCTSQTNLQNTTN\n",
      "RFWWF\n",
      "FFTNITRSIKTKQEVIY\n",
      "RSTFQQSDTCRCWLHQTIW\n",
      "LPW\n",
      "YCC\n",
      "RPHLCTKV\n",
      "RPYCFATFAHR\n",
      "NDCSIHFCTVSGYNHFWLDLWCRCCITNTICYANGL\n",
      "V\n",
      "WYWSYTECSL\n",
      "EPKIDCQPI\n",
      "\n",
      "CYWQNSRLTFFHSKCTWKTSRCGQPKCTSFKHAC\n",
      "TT\n",
      "LQFWCNFKCFK\n",
      "YPFTS\n",
      "QS\n",
      "G\n",
      "SAN\n",
      "\n",
      "VDHRQTSKFADICDSTIN\n",
      "SCRNQSFC\n",
      "SCCY\n",
      "NVRVCTWTIKKS\n",
      "FLWKGLSSYVLPSVSTSWCSLLACDLCPCTRKELHNCSCHLS\n",
      "WKSTLSS\n",
      "RCLCFKWHTLVCNTKEFL\n",
      "TTNHYYRQHICVW\n",
      "L\n",
      "CCNRNCQQHSL\n",
      "SFAT\n",
      "IRLIQGGVR\n",
      "IF\n",
      "ESYITRC\n",
      "FR\n",
      "HLWH\n",
      "CFSCKHSKRN\n",
      "PPQ\n",
      "GCQEFK\n",
      "ISHRSPRTWKV\n",
      "AVYKMAMVHLARFYSWLDCHSNGDNYALLYDQLL\n",
      "LSQGLLFLWILLQI\n",
      "\n",
      "RRL\n",
      "ASAQRSQITLHINELMDLFMRIFTIGTVTLKQGEIKDATPSDFVRATATIPIQASLPFGWLIVGVALLAVFQSASKIITLKKRWQLALSKGVHFVCNLLLLFVTVYSHLLLVAAGLEAPFLYLYALVYFLQSINFVRIIMRLWLCWKCRSKNPLLYDANYFLCWHTNCYDYCIPYNSVTSSIVITSGDGTTSPISEHDYQIGGYTEKWESGVKDCVVLHSYFTSDYYQLYSTQLSTDTGVEHVTFFIYNKIVDEPEEHVQIHTIDGSSGVVNPVMEPIYDEPTTTTSVPL\n",
      "AQADEYELMYSFVSEETGTLIVNSVLLFLAFVVFLLVTLAILTALRLCAYCCNIVNVSLVKPSFYVYSRVKNLNSSRVPDLLV\n",
      "TN\n",
      "ILY\n",
      "FFCLEL\n",
      "F\n",
      "PWQIPTVLLPLKSLKSSLNNGT\n",
      "\n",
      "\n",
      "VSYSLHGFVFYNLPMPTGIGFCI\n",
      "LS\n",
      "FSSGCYGQ\n",
      "L\n",
      "LVLCLLLFTE\n",
      "IGSPVELLSQWLVL\n",
      "A\n",
      "CGSATSLLLSDCLRVRVPCGHSIQKLTFFSTCHSMALF\n",
      "PDRF\n",
      "KVNS\n",
      "SEL\n",
      "SFVDIFVLLDTI\n",
      "DAVTSRTCLKKSLLLHHERFLITNWELRSV\n",
      "QVTQVLLHTVATGLATIN\n",
      "TQTIPVAVTILLCLYSK\n",
      "QQMFHLVDFQVTIAEILLIIMRTFKVSIWNLDYIINLIIKNLSKSLTENKYSQLDEEQPMEID\n",
      "TNMKIILFLALITLATCELYHYQECVRGTTVLLKEPCSSGTYEGNSPFHPLADNKFALTCFSTQFAFACPDGVKHVYQLRARSVSPKLFIRQEEVQELYSPIFLIVAAIVFITLCFTLKRKTE\n",
      "LNFH\n",
      "LTSICAF\n",
      "PFCYSLF\n",
      "LCLLSFGSHLNCKIIMKLVTPKRT\n",
      "NFLFS\n",
      "ESSQL\n",
      "LHFTKNVVYSHVLNINHM\n",
      "LMTRVLFTSILNGILE\n",
      "ELENQHL\n",
      "LNCAWMRLVLNHPFSTSISVIIQFPVYLLQLIARNLNWVVL\n",
      "CVVRSMKTF\n",
      "SIMTFVLF\n",
      "ISSKRTN\n",
      "NV\n",
      "\n",
      "WTPKSAKCTPHYVWWTLRFNWQ\n",
      "PEWRTQWGAIKTTSAPRFTQ\n",
      "YCVLVHRSHSTWQGRP\n",
      "IPSRTRRSN\n",
      "HQ\n",
      "QSR\n",
      "PNWLLPKSYQTNSWW\n",
      "R\n",
      "NERSQSKMVFLLPRNWARSWTSLWC\n",
      "QRRHHMGCN\n",
      "GSLEYTKRSHWHPQSC\n",
      "QCCNRATTSSRNNIAKRLLRRREQRRQSSLFSFLIT\n",
      "SQQFKKFNSRQQ\n",
      "GNFSC\n",
      "NGWQWR\n",
      "CCSCFAAA\n",
      "QIEPA\n",
      "EQNVW\n",
      "RPTTTRPNCH\n",
      "EICC\n",
      "GF\n",
      "EASAKTYCH\n",
      "SIQCNTSFRQTWSRTNPRKFWGPGTNQTRN\n",
      "LQTLAANCTICPQRFSVLRNVAHWHGSHTFGNVVDLHRCHQIG\n",
      "QRSKFQRSSHFAE\n",
      "AY\n",
      "RIQNIPTNRA\n",
      "KGQKEEG\n",
      "\n",
      "NSSLTAETEETANCDSSSCCRFG\n",
      "FLQTIATIHEQC\n",
      "LNSGLNSCRPHKADGLYKRFRFSVYDI\n",
      "STLVQNEFS\n",
      "LHSTSRCS\n",
      "L\n",
      "SHIAIFNQCVTLGRT\n",
      "KSHHIFTEATRSTIECTVNNARESCLYGRALMCKINFSSAIPM\n",
      "F\n",
      "\n",
      "LLRRMTKKKKKKKKKK\n"
     ]
    }
   ],
   "source": [
    "for i in ncov_amino_acids:\n",
    "    print(i)"
   ]
  },
  {
   "cell_type": "code",
   "execution_count": 66,
   "metadata": {},
   "outputs": [],
   "source": [
    "ncov_aa = [str(i) for i in ncov_amino_acids]"
   ]
  },
  {
   "cell_type": "code",
   "execution_count": 67,
   "metadata": {},
   "outputs": [
    {
     "data": {
      "text/plain": [
       "['IKGLYLPR',\n",
       " 'QTNQLSISCRSVL',\n",
       " 'TNFKICVAVTRLHA',\n",
       " 'CTHAV',\n",
       " 'LITNYCR',\n",
       " 'QDTSNSSIFCRLLTVSSVLQPIISTSRFRPGVTER',\n",
       " 'DGEPCPWFQRENTRPTQFACFTGSRRARTWLWRLRGGGLIRGTSTS',\n",
       " 'RWHLWLSRS',\n",
       " 'KRRFAST',\n",
       " 'TALCVHQTFGCSNCTSWSCYG',\n",
       " 'AGSRTRRHSVRS',\n",
       " 'W',\n",
       " 'DTWCPCPSCGRNTSGLPQGSSS',\n",
       " 'ER',\n",
       " '',\n",
       " 'RSWWP',\n",
       " 'LRRRSKVI',\n",
       " 'LRRRAWH',\n",
       " 'SL',\n",
       " 'RFSRKLEH',\n",
       " 'T',\n",
       " 'QWCYP',\n",
       " 'THA',\n",
       " 'A',\n",
       " 'RRGIHSLCR',\n",
       " 'QLLWP',\n",
       " 'WLPS',\n",
       " 'VH',\n",
       " 'RPSSTCW',\n",
       " 'SFMHFVRTTGLY',\n",
       " 'H',\n",
       " 'EGCILLP',\n",
       " 'T',\n",
       " 'A',\n",
       " 'NCLVHGTF',\n",
       " 'KEL',\n",
       " 'IADTF',\n",
       " 'N',\n",
       " 'IGKEI',\n",
       " 'HLQWGMSKFCISLKFHNQDYSTKG',\n",
       " 'KEKA',\n",
       " 'WLYG',\n",
       " 'NSICLSSCVTK',\n",
       " 'MQPNVPFNSHEV',\n",
       " 'SLW',\n",
       " 'NFMADGRFC',\n",
       " 'SHLRILWH',\n",
       " 'EFD',\n",
       " 'RRCHYLWLLTPKCCC',\n",
       " 'NLLSSMSQFRSRT',\n",
       " 'A',\n",
       " 'SCRIP',\n",
       " '',\n",
       " 'IWLENHSS',\n",
       " 'GWSHYCLWRLCVLLCWLP',\n",
       " 'QVCLLGSTC',\n",
       " 'R',\n",
       " 'HRL',\n",
       " 'PYRCCWRRFRRS',\n",
       " '',\n",
       " 'QPS',\n",
       " 'NTPKRESQHQYCW',\n",
       " 'L',\n",
       " 'T',\n",
       " '',\n",
       " 'RDRHYFGIFFCFHKCFCGNCERFGL',\n",
       " 'SIQTNC',\n",
       " 'ILW',\n",
       " 'F',\n",
       " 'SYKRKS',\n",
       " 'KRCLEYW',\n",
       " 'TEINTESSLCICIRGCSCCTINFLPHS',\n",
       " 'NCSKFCACFTEGRYNNTRWNFTVFTETH',\n",
       " 'CYDVHI',\n",
       " 'FGY',\n",
       " 'QSSCNGLHYRWCCSVDFAVAN',\n",
       " 'HLWHCL',\n",
       " 'KTQTRP',\n",
       " 'LA',\n",
       " 'REV',\n",
       " 'GRCRVS',\n",
       " 'RRLGNC',\n",
       " 'IYLNLCL',\n",
       " 'NCRWTNCHLCKGN',\n",
       " 'GECSDIL',\n",
       " 'ACK',\n",
       " 'IFGFVC',\n",
       " 'LYHYWWS',\n",
       " 'T',\n",
       " 'SLEFR',\n",
       " 'NICHALKGIVQKVC',\n",
       " 'IQRRNWPTHASKSPKRNYLLRGRNTSHRSVNRGSCLENW',\n",
       " 'FTTIRTTY',\n",
       " '',\n",
       " 'SC',\n",
       " 'SSIGWYTSLY',\n",
       " 'RAYVARNQRHRKVLCPCT',\n",
       " 'YDGNKQYLHTQRRCTNKGYFW',\n",
       " '',\n",
       " 'HCDRSARLQECEYHF',\n",
       " 'T',\n",
       " '',\n",
       " 'KD',\n",
       " '',\n",
       " 'ST',\n",
       " '',\n",
       " 'EVLCLYS',\n",
       " 'TRYRSK',\n",
       " 'VRLCCGRCCHKNFATSI',\n",
       " 'ITYTTGH',\n",
       " 'FR',\n",
       " 'VEYGYILLI',\n",
       " '',\n",
       " 'VW',\n",
       " 'V',\n",
       " 'IGFTYVLFFLPSR',\n",
       " 'G',\n",
       " 'RRR',\n",
       " 'L',\n",
       " 'RRRV',\n",
       " 'AINSI',\n",
       " 'VWY',\n",
       " 'R',\n",
       " 'LPR',\n",
       " 'TFGIWCHFCCSST',\n",
       " 'RRARRRLVR',\n",
       " '',\n",
       " '',\n",
       " 'STNCWSTRRQ',\n",
       " 'GQSDNYYSNNC',\n",
       " 'GSTSIRDGTYTSCSDY',\n",
       " 'SE',\n",
       " 'F',\n",
       " 'WLFKTY',\n",
       " 'QCIH',\n",
       " 'KCRHCGRS',\n",
       " 'KGKTNSGC',\n",
       " 'CSQCLP',\n",
       " 'TWRRCCRSLK',\n",
       " 'GY',\n",
       " 'QCHAS',\n",
       " 'I',\n",
       " '',\n",
       " 'LHSY',\n",
       " 'WTT',\n",
       " 'SGW',\n",
       " 'LCFKRTQSC',\n",
       " 'TLSSCCRPKC',\n",
       " 'QR',\n",
       " 'RHSTS',\n",
       " 'ECL',\n",
       " 'KF',\n",
       " 'SARSSTCTIIISWYFWC',\n",
       " 'PYTFFKSLCRYCSHKCLLSCL',\n",
       " '',\n",
       " 'KSL',\n",
       " 'QTCFKLFGNEE',\n",
       " 'KAS',\n",
       " 'TKDR',\n",
       " 'DS',\n",
       " 'RGS',\n",
       " 'AIYN',\n",
       " 'K',\n",
       " 'TFS',\n",
       " 'TEKTR',\n",
       " '',\n",
       " 'ENQSLC',\n",
       " 'RSYNNSGRN',\n",
       " 'VPHRKLVTLY',\n",
       " 'H',\n",
       " 'WQSSSRFCHSC',\n",
       " '',\n",
       " 'H',\n",
       " 'HHFLKERCSIYSG',\n",
       " 'CCSRGCFNCCGYTY',\n",
       " 'KGWWHY',\n",
       " 'NASESFEKSANRQLYNHLPGSGFKWLHCRGGKDSA',\n",
       " 'KV',\n",
       " 'KCLLHSTIYYL',\n",
       " '',\n",
       " 'EARNSWNCFLEFARNACTCRRNTQINACLCGN',\n",
       " 'SHSFNYTA',\n",
       " 'I',\n",
       " 'GY',\n",
       " 'NTRGCG',\n",
       " 'LWC',\n",
       " 'ILLLHQ',\n",
       " 'NNCSVTYQHT',\n",
       " 'RSK',\n",
       " 'NSCYNATWLCNTWLKFGRSCSVYEISQSASYSFCFFT',\n",
       " 'CCYSV',\n",
       " 'WLSYFFF',\n",
       " 'NT',\n",
       " 'RTFY',\n",
       " 'NHLTCWFL',\n",
       " 'RLVLFWTIYTTRYRIS',\n",
       " 'ER',\n",
       " '',\n",
       " 'KCILH',\n",
       " '',\n",
       " 'SYHIPPRW',\n",
       " 'SYHL',\n",
       " 'QS',\n",
       " 'DTSFFERSEDY',\n",
       " 'GVYNSRQH',\n",
       " 'PPHASCGHVNDIWTTVWSNLFGWS',\n",
       " 'CY',\n",
       " 'NKTS',\n",
       " 'FT',\n",
       " 'R',\n",
       " 'NILCFT',\n",
       " '',\n",
       " '',\n",
       " 'HSTC',\n",
       " 'GF',\n",
       " 'VLPHN',\n",
       " 'S',\n",
       " 'FSG',\n",
       " 'VHVSIKSH',\n",
       " 'KVEIPTS',\n",
       " 'WFNFY',\n",
       " 'MGR',\n",
       " 'QLLSCHCIVNTPTNRVEV',\n",
       " 'STCSTRCLLQSKGW',\n",
       " 'SC',\n",
       " 'LLCTYLSLL',\n",
       " '',\n",
       " 'DSR',\n",
       " 'VR',\n",
       " 'C',\n",
       " 'RNNELLVSTCQFRFLQKSLERGV',\n",
       " 'NLWTTADNP',\n",
       " 'GCRSCYVHGHTFL',\n",
       " 'TI',\n",
       " 'ERCSDTLYVW',\n",
       " 'TSYKISSTTGVTFCYDVSTTCSV',\n",
       " 'T',\n",
       " 'AWYIYLC',\n",
       " '',\n",
       " 'VHW',\n",
       " 'LPVWSL',\n",
       " 'TYNF',\n",
       " 'RNFVLHRRCFTYKVLRIQRSYYGCFLQRKQLHNNHKTSYL',\n",
       " 'IGWCCLYRN',\n",
       " 'P',\n",
       " 'VGQLL',\n",
       " 'ERQFLFHRATN',\n",
       " 'SCTKPTISKRKLR',\n",
       " 'F',\n",
       " 'VCM',\n",
       " '',\n",
       " 'YQIC',\n",
       " '',\n",
       " 'FKPVNWL',\n",
       " 'ETCFKRA',\n",
       " 'SYIFP',\n",
       " 'LKW',\n",
       " 'CGGY',\n",
       " 'L',\n",
       " 'TLHTLF',\n",
       " 'ERS',\n",
       " 'IVT',\n",
       " 'TYCLAC',\n",
       " 'QCN',\n",
       " '',\n",
       " 'SHV',\n",
       " 'TKYLVYTLSLEHKTS',\n",
       " 'NIKFV',\n",
       " 'CTEVRGRAGNG',\n",
       " 'SCLRRSKTSL',\n",
       " 'RSSGKSYHTERRS',\n",
       " 'V',\n",
       " 'CENYRSCRRHYT',\n",
       " 'TSK',\n",
       " '',\n",
       " 'FKNYRRGWPHRSNGCLCRQF',\n",
       " 'SYY',\n",
       " 'ET',\n",
       " '',\n",
       " 'II',\n",
       " 'SIRFENPCYSWFSCC',\n",
       " '',\n",
       " 'CPLGYYS',\n",
       " 'LC',\n",
       " 'AFS',\n",
       " 'QSC',\n",
       " 'YNY',\n",
       " 'HSYTVFKPCLY',\n",
       " 'LYALFLYFIATIVYFY',\n",
       " 'KYKF',\n",
       " 'N',\n",
       " 'SIYADYYSKEYC',\n",
       " 'ECR',\n",
       " 'ILSRGFI',\n",
       " 'LFEVT',\n",
       " 'FF',\n",
       " 'TDKYYNLVFTIKCLPRFFNLLNRCFRCFNV',\n",
       " 'FRHAFLLYWLQRRLFELY',\n",
       " 'CHYCNLLYWFYTL',\n",
       " 'CLS',\n",
       " 'WFRFFRHLSFFRNYTNYHFIF',\n",
       " 'MGFNCFWLSCRVVFGIYSFH',\n",
       " 'VFLCTWIGCNHAIVFQLFCSTFY',\n",
       " '',\n",
       " 'FLAYVVNN',\n",
       " 'SCTNGPDFSYG',\n",
       " 'NVHLLCIILLCMEKLCACCRRL',\n",
       " 'FINLYDVLQT',\n",
       " '',\n",
       " 'SNKSRMYNYC',\n",
       " 'WC',\n",
       " 'KVLLCLC',\n",
       " 'WR',\n",
       " 'RLLQTTQLELC',\n",
       " 'L',\n",
       " 'YILCW',\n",
       " 'YIY',\n",
       " '',\n",
       " '',\n",
       " 'SCERLVTTV',\n",
       " 'KTNKSY',\n",
       " 'PVFLHR',\n",
       " '',\n",
       " 'CYSEEWFHPSLL',\n",
       " '',\n",
       " 'SWSKDL',\n",
       " 'KTFSLSFC',\n",
       " 'LRQPES',\n",
       " '',\n",
       " 'H',\n",
       " 'RFIAY',\n",
       " 'CYSF',\n",
       " 'W',\n",
       " 'IKM',\n",
       " 'RIICKISVCLLQSAYVSTYTVTRSGISV',\n",
       " 'CW',\n",
       " '',\n",
       " 'CGSCS',\n",
       " 'NV',\n",
       " 'CLR',\n",
       " 'YVFINF',\n",
       " 'RTNGKTQNTSCNCRS',\n",
       " 'TCKECVLRQCLIYFYFSSSARVC',\n",
       " 'FRCRN',\n",
       " 'RCC',\n",
       " 'MS',\n",
       " 'IVTSI',\n",
       " 'HRSYWR',\n",
       " 'L',\n",
       " '',\n",
       " 'LYAHL',\n",
       " 'QS',\n",
       " 'KHDTP',\n",
       " 'PWCLY',\n",
       " 'L',\n",
       " 'CASY',\n",
       " 'CAGSKKSQHCFDMER',\n",
       " 'RFHVIV',\n",
       " 'TTTKTNT',\n",
       " 'CC',\n",
       " 'KE',\n",
       " 'LTF',\n",
       " 'VDMCNY',\n",
       " 'TSC',\n",
       " 'CCNNKDST',\n",
       " 'GW',\n",
       " 'NC',\n",
       " '',\n",
       " 'LVEAVN',\n",
       " 'SYTCVPFCCCYFLFNNTCSCHV',\n",
       " 'TY',\n",
       " 'LFK',\n",
       " 'NHRIQGY',\n",
       " 'WWCHS',\n",
       " 'HSIYRYLFC',\n",
       " 'QTC',\n",
       " 'F',\n",
       " 'HMV',\n",
       " 'PAWW',\n",
       " 'LY',\n",
       " '',\n",
       " 'QSLPIDCCSHNKRSGFCRAWFAWHDITHN',\n",
       " 'W',\n",
       " 'LFAFLT',\n",
       " 'SF',\n",
       " 'CSW',\n",
       " 'HLLHTIKTYRVH',\n",
       " 'LCNISLCFGC',\n",
       " 'MYNF',\n",
       " 'RCFW',\n",
       " 'ASTILL',\n",
       " 'YQCTRRFCCL',\n",
       " 'KFTP',\n",
       " 'HTLCAHGWLYYSIS',\n",
       " 'HLP',\n",
       " 'RFC',\n",
       " 'SGNNF',\n",
       " 'F',\n",
       " 'VL',\n",
       " 'ARHL',\n",
       " 'KIRSWCLCIY',\n",
       " 'W',\n",
       " 'MGT',\n",
       " 'Q',\n",
       " 'LLQIFTRSFLWCRCCKFTY',\n",
       " 'YVYTTNSTYWCFGHISIYSSWWYCSYRSNMPCLLFYEV',\n",
       " 'KSFW',\n",
       " 'IQSCSCL',\n",
       " 'YFTIPYVIHCTLFNTSLLILTWCLFCYLLVLDILSY',\n",
       " '',\n",
       " 'CFFFSTYSVDGYVHTFSTFLDNNCLYHLYFHKAFLLVL',\n",
       " '',\n",
       " 'LPKETCSL',\n",
       " 'WCFL',\n",
       " 'YF',\n",
       " 'RSCAVHLFVK',\n",
       " 'RNVSKVA',\n",
       " '',\n",
       " 'CAITSYAI',\n",
       " '',\n",
       " 'ILSSL',\n",
       " '',\n",
       " 'VQVF',\n",
       " 'WSNGYN',\n",
       " 'LQRSCLLSSRKGSQ',\n",
       " 'LQ',\n",
       " 'LRF',\n",
       " 'CSLPTTTNLYHLSCFAEWF',\n",
       " 'KNGIPIW',\n",
       " 'S',\n",
       " 'GLYGTSNLWYNYT',\n",
       " 'RSLA',\n",
       " '',\n",
       " 'RSLLSKTCDLHL',\n",
       " 'RHA',\n",
       " 'P',\n",
       " 'L',\n",
       " 'RFTHS',\n",
       " 'V',\n",
       " 'S',\n",
       " 'FLGTGW',\n",
       " 'CSTQGYWTFYAKLCT',\n",
       " 'A',\n",
       " 'G',\n",
       " 'YSQS',\n",
       " 'DT',\n",
       " 'V',\n",
       " 'VCSHSTRTDFFSVSLLQWFTIWCLPMCYEAQFHY',\n",
       " 'GFIP',\n",
       " 'WFMW',\n",
       " 'CWF',\n",
       " 'HRL',\n",
       " 'LCLFLLHAPYGITNWSSCWHRLRR',\n",
       " 'LLWTFC',\n",
       " 'QANSTSSWYGHNYYS',\n",
       " 'CFSLVVRCCYKWRQVVSQSIYHNS',\n",
       " '',\n",
       " 'L',\n",
       " 'PCGYEVQL',\n",
       " 'TSNTRPC',\n",
       " 'HTRTSFCSNWNCRFRYVCFIKRITAKWYEWTYHIG',\n",
       " 'CFIRR',\n",
       " 'IYTF',\n",
       " 'CC',\n",
       " 'TMLRCYFPKCSEKNNQGYTPLVVTHNFDFTFSFSPEYSMVFVLFFV',\n",
       " 'KCLFTFCYGYYCYVCFCNDVCQT',\n",
       " 'ACISLFVFVTFSCHCSLF',\n",
       " 'YGLYAC',\n",
       " 'LGDAYYDMVGYG',\n",
       " 'Y',\n",
       " 'FVWF',\n",
       " 'AKRLCYVCISCSVTNPYDSKNCV',\n",
       " '',\n",
       " 'WC',\n",
       " 'ESVDTYECLDTRL',\n",
       " 'SLLW',\n",
       " 'CFRSSHFHVGSYNLCYF',\n",
       " 'LLRCSYNCHVFGQRYCFYVC',\n",
       " 'VLPYFLHNW',\n",
       " 'YTSVYNASLLFLRLFLYLLLWPLLFTQPLL',\n",
       " 'TDSWCL',\n",
       " 'LLSFYTGV',\n",
       " 'IYEFTGTTPTQE',\n",
       " 'HRCLQTQH',\n",
       " 'IVGCWWQTLYQSSHCTV',\n",
       " 'NVRCKVHISSLTLSFATTQSRIII',\n",
       " 'IVGSMCPVTQ',\n",
       " 'HSLS',\n",
       " 'RYY',\n",
       " 'SL',\n",
       " 'KNGFTTFCFAFHAGCCRHKQAL',\n",
       " 'RNAGQQGNLTSYSLRV',\n",
       " 'FPSIICSFCYCSRSL',\n",
       " 'AGCC',\n",
       " 'W',\n",
       " 'F',\n",
       " 'SCS',\n",
       " 'KVEEVFECG',\n",
       " 'I',\n",
       " 'I',\n",
       " 'P',\n",
       " 'CSHAT',\n",
       " 'VGKDG',\n",
       " 'SSYDPNV',\n",
       " 'TG',\n",
       " 'I',\n",
       " 'GQEGKSY',\n",
       " 'CYADNAFHYA',\n",
       " 'KVG',\n",
       " '',\n",
       " 'CTQQHYQQCKRWLCSLEHNTSYNSSQTNGCHTRL',\n",
       " 'HI',\n",
       " 'KYV',\n",
       " 'WYNIYLCISIVGNPTGCRCR',\n",
       " '',\n",
       " 'NCST',\n",
       " '',\n",
       " 'N',\n",
       " 'YGQFT',\n",
       " 'FSMASYCNSFKGQFCCQITE',\n",
       " '',\n",
       " 'A',\n",
       " 'SCCTTTDVLCCRYYTNCLH',\n",
       " '',\n",
       " 'QCVSLLQHNKGR',\n",
       " 'VCTCTVIRFTGFEMG',\n",
       " 'IP',\n",
       " 'E',\n",
       " 'WNWYYLYRTGTTL',\n",
       " 'VCYRHT',\n",
       " 'RS',\n",
       " 'SEVFILY',\n",
       " 'RIKQPK',\n",
       " 'RYGTW',\n",
       " 'FSCHSTSTSW',\n",
       " 'CNRSACQFNCIIFLCFCCRCC',\n",
       " 'SLQRLSS',\n",
       " 'WGTTNH',\n",
       " 'LC',\n",
       " 'DVVYTHWYWSGNNSYTGSQYGSRILWWCIVLSVLPLPHRSSKS',\n",
       " 'RIL',\n",
       " 'LKR',\n",
       " 'VCTNTYNLC',\n",
       " '',\n",
       " 'PCGFYT',\n",
       " 'KHSLYRLRYVERLWL',\n",
       " 'L',\n",
       " 'STPRTHASVS',\n",
       " 'CTIVFKRVCGVSAARLTPCGTGTSTDVVYRAFDIYNDKVAGFAKFLKTNCCRFQEKDEDDNLIDSYFVVKRHTFSNYQHEETIYNLLKDCPAVAKHDFFKFRIDGDMVPHISRQRLTKYTMADLVYALRHFDEGNCDTLKEILVTYNCCDDDYFNKKDWYDFVENPDILRVYANLGERVRQALLKTVQFCDAMRNAGIVGVLTLDNQDLNGNWYDFGDFIQTTPGSGVPVVDSYYSLLMPILTLTRALTAESHVDTDLTKPYIKWDLLKYDFTEERLKLFDRYFKYWDQTYHPNCVNCLDDRCILHCANFNVLFSTVFPPTSFGPLVRKIFVDGVPFVVSTGYHFRELGVVHNQDVNLHSSRLSFKELLVYAADPAMHAASGNLLLDKRTTCFSVAALTNNVAFQTVKPGNFNKDFYDFAVSKGFFKEGSSVELKHFFFAQDGNAAISDYDYYRYNLPTMCDIRQLLFVVEVVDKYFDCYDGGCINANQVIVNNLDKSAGFPFNKWGKARLYYDSMSYEDQDALFAYTKRNVIPTITQMNLKYAISAKNRARTVAGVSICSTMTNRQFHQKLLKSIAATRGATVVIGTSKFYGGWHNMLKTVYSDVENPHLMGWDYPKCDRAMPNMLRIMASLVLARKHTTCCSLSHRFYRLANECAQVLSEMVMCGGSLYVKPGGTSSGDATTAYANSVFNICQAVTANVNALLSTDGNKIADKYVRNLQHRLYECLYRNRDVDTDFVNEFYAYLRKHFSMMILSDDAVVCFNSTYASQGLVASIKNFKSVLYYQNNVFMSEAKCWTETDLTKGPHEFCSQHTMLVKQGDDYVYLPYPDPSRILGAGCFVDDIVKTDGTLMIERFVSLAIDAYPLTKHPNQEYADVFHLYLQYIRKLHDELTGHMLDMYSVMLTNDNTSRYWEPEFYEAMYTPHTVLQAVGACVLCNSQTSLRCGACIRRPFLCCKCCYDHVISTSHKLVLSVNPYVCNAPGCDVTDVTQLYLGGMSYYCKSHKPPISFPLCANGQVFGLYKNTCVGSDNVTDFNAIATCDWTNAGDYILANTCTERLKLFAAETLKATEETFKLSYGIATVREVLSDRELHLSWEVGKPRPPLNRNYVFTGYRVTKNSKVQIGEYTFEKGDYGDAVVYRGTTTYKLNVGDYFVLTSHTVMPLSAPTLVPQEHYVRITGLYPTLNISDEFSSNVANYQKVGMQKYSTLQGPPGTGKSHFAIGLALYYPSARIVYTACSHAAVDALCEKALKYLPIDKCSRIIPARARVECFDKFKVNSTLEQYVFCTVNALPETTADIVVFDEISMATNYDLSVVNARLRAKHYVYIGDPAQLPAPRTLLTKGTLEPEYFNSVCRLMKTIGPDMFLGTCRRCPAEIVDTVSALVYDNKLKAHKDKSAQCFKMFYKGVITHDVSSAINRPQIGVVREFLTRNPAWRKAVFISPYNSQNAVASKILGLPTQTVDSSQGSEYDYVIFTQTTETAHSCNVNRFNVAITRAKVGILCIMSDRDLYDKLQFTSLEIPRRNVATLQAENVTGLFKDCSKVITGLHPTQAPTHLSVDTKFKTEGLCVDIPGIPKDMTYRRLISMMGFKMNYQVNGYPNMFITREEAIRHVRAWIGFDVEGCHATREAVGTNLPLQLGFSTGVNLVAVPTGYVDTPNNTDFSRVSAKPPPGDQFKHLIPLMYKGLPWNVVRIKIVQMLSDTLKNLSDRVVFVLWAHGFELTSMKYFVKIGPERTCCLCDRRATCFSTASDTYACWHHSIGFDYVYNPFMIDVQQWGFTGNLQSNHDLYCQVHGNAHVASCDAIMTRCLAVHECFVKRVDWTIEYPIIGDELKINAACRKVQHMVVKAALLADKFPVLHDIGNPKAIKCVPQADVEWKFYDAQPCSDKAYKIEELFYSYATHSDKFTDGVCLFWNCNVDRYPANSIVCRFDTRVLSNLNLPGCDGGSLYVNKHAFHTPAFDKSAFVNLKQLPFFYYSDSPCESHGKQVVSDIDYVPLKSATCITRCNLGGAVCRHHANEYRLYLDAYNMMISAGFSLWVYKQFDTYNLWNTFTRLQSLENVAFNVVNKGHFDGQQGEVPVSIINNTVYTKVDGVDVELFENKTTLPVNVAFELWAKRNIKPVPEVKILNNLGVDIAANTVIWDYKRDAPAHISTIGVCSMTDIAKKPTETICAPLTVFFDGRVDGQVDLFRNARNGVLITEGSVKGLQPSVGPKQASLNGVTLIGEAVKTQFNYYKKVDGVVQQLPETYFTQSRNLQEFKPRSQMEIDFLELAMDEFIERYKLEGYAFEHIVYGDFSHSQLGGLHLLIGLAKRFKESPFELEDFIPMDSTVKNYFITDAQTGSSKCVCSVIDLLLDDFVEIIKSQDLSVVSKVVKVTIDYTEISFMLWCKDGHVETFYPKLQSSQAWQPGVAMPNLYKMQRMLLEKCDLQNYGDSATLPKGIMMNVAKYTQLCQYLNTLTLAVPYNMRVIHFGAGSDKGVAPGTAVLRQWLPTGTLLVDSDLNDFVSDADSTLIGDCATVHTANKWDLIISDMYDPKTKNVTKENDSKEGFFTYICGFIQQKLALGGSVAIKITEHSWNADLYKLMGHFAWWTAFVTNVNASSSEAFLIGCNYLGKPREQIDGYVMHANYIFWRNTNPIQLSSYSLFDMSKFPLKLRGTAVMSLKEGQINDMILSLLSKGRLIIRENNRVVISSDVLVNN',\n",
       " 'TNNVCFSCFIATSL',\n",
       " 'SVC',\n",
       " 'SYNQNSITPCIH',\n",
       " 'FFHTWCLLP',\n",
       " 'QSFQILSFTFNSGLVLTFLFQCYLVPCYTCLWDQWY',\n",
       " 'EV',\n",
       " '',\n",
       " 'PCPTI',\n",
       " '',\n",
       " 'WCLFCFH',\n",
       " 'EV',\n",
       " 'HNKRLDFWYYFRFEDPVPTYC',\n",
       " '',\n",
       " 'RY',\n",
       " 'CCY',\n",
       " 'SL',\n",
       " 'ISIL',\n",
       " '',\n",
       " 'SIFGCLLPQKQQKLDGK',\n",
       " 'VQSLF',\n",
       " 'CE',\n",
       " 'LHF',\n",
       " 'ICLSAFSYGP',\n",
       " 'RKTG',\n",
       " 'FQKS',\n",
       " 'GICV',\n",
       " 'EY',\n",
       " 'WLF',\n",
       " 'NIF',\n",
       " 'AHAY',\n",
       " 'FSA',\n",
       " 'SPSGFFGFRTIGRFANRY',\n",
       " 'HH',\n",
       " 'VSNFTCFT',\n",
       " 'KLFDSW',\n",
       " 'FFFRLDSWCCSLLCGLSST',\n",
       " 'DFSIKI',\n",
       " '',\n",
       " 'KWNHYRCCRLCT',\n",
       " 'PSLRNKVYVEILHCRKRNLSNF',\n",
       " 'L',\n",
       " 'SPTNRIYC',\n",
       " 'IS',\n",
       " 'YYKLVPFW',\n",
       " 'SF',\n",
       " 'RHQICICLCLEQEENQQLCC',\n",
       " 'LFCPI',\n",
       " 'FRIIFHF',\n",
       " 'VLWSVSY',\n",
       " 'IK',\n",
       " 'SLLY',\n",
       " 'CLCRFICN',\n",
       " 'R',\n",
       " '',\n",
       " 'SQTNRSRANWKDC',\n",
       " 'L',\n",
       " 'L',\n",
       " 'ITR',\n",
       " 'FYRLRYSLEF',\n",
       " 'QS',\n",
       " 'F',\n",
       " 'GWW',\n",
       " 'L',\n",
       " 'LPV',\n",
       " 'IV',\n",
       " 'EV',\n",
       " 'SQTF',\n",
       " 'ERYFN',\n",
       " 'NLSGR',\n",
       " 'HTL',\n",
       " 'WC',\n",
       " 'RF',\n",
       " 'LLLSFTIIWFPTH',\n",
       " 'WCWLPTIQSSSTFF',\n",
       " 'TSTCTSNCLWT',\n",
       " 'KVY',\n",
       " 'FG',\n",
       " 'KQMCQFQLQWFNRHRCSY',\n",
       " 'V',\n",
       " 'QKVSAFPTIWQRHC',\n",
       " 'HY',\n",
       " 'CCP',\n",
       " 'STDT',\n",
       " 'DS',\n",
       " 'HYTMFFWWCQCYNTRNKYF',\n",
       " 'PGCCSLSGC',\n",
       " 'LHRSPCCYSCRSTYSYLACLFYRF',\n",
       " 'CFSNTCRLFNRG',\n",
       " 'TCQQLI',\n",
       " 'V',\n",
       " 'HTHWCRYMR',\n",
       " 'LSDSD',\n",
       " 'FSSAGT',\n",
       " 'CS',\n",
       " 'SIHHCLHYVTWCRKFSCLL',\n",
       " '',\n",
       " 'LYCHTHKFYY',\n",
       " 'CYHRNSTSVYDQDISRLYNVHLW',\n",
       " 'FN',\n",
       " 'MQQSFVAIWQFLYTIKPCFNWNSC',\n",
       " 'TRQKHPRSFCTSQTNLQNTTN',\n",
       " 'RFWWF',\n",
       " 'FFTNITRSIKTKQEVIY',\n",
       " 'RSTFQQSDTCRCWLHQTIW',\n",
       " 'LPW',\n",
       " 'YCC',\n",
       " 'RPHLCTKV',\n",
       " 'RPYCFATFAHR',\n",
       " 'NDCSIHFCTVSGYNHFWLDLWCRCCITNTICYANGL',\n",
       " 'V',\n",
       " 'WYWSYTECSL',\n",
       " 'EPKIDCQPI',\n",
       " '',\n",
       " 'CYWQNSRLTFFHSKCTWKTSRCGQPKCTSFKHAC',\n",
       " 'TT',\n",
       " 'LQFWCNFKCFK',\n",
       " 'YPFTS',\n",
       " 'QS',\n",
       " 'G',\n",
       " 'SAN',\n",
       " '',\n",
       " 'VDHRQTSKFADICDSTIN',\n",
       " 'SCRNQSFC',\n",
       " 'SCCY',\n",
       " 'NVRVCTWTIKKS',\n",
       " 'FLWKGLSSYVLPSVSTSWCSLLACDLCPCTRKELHNCSCHLS',\n",
       " 'WKSTLSS',\n",
       " 'RCLCFKWHTLVCNTKEFL',\n",
       " 'TTNHYYRQHICVW',\n",
       " 'L',\n",
       " 'CCNRNCQQHSL',\n",
       " 'SFAT',\n",
       " 'IRLIQGGVR',\n",
       " 'IF',\n",
       " 'ESYITRC',\n",
       " 'FR',\n",
       " 'HLWH',\n",
       " 'CFSCKHSKRN',\n",
       " 'PPQ',\n",
       " 'GCQEFK',\n",
       " 'ISHRSPRTWKV',\n",
       " 'AVYKMAMVHLARFYSWLDCHSNGDNYALLYDQLL',\n",
       " 'LSQGLLFLWILLQI',\n",
       " '',\n",
       " 'RRL',\n",
       " 'ASAQRSQITLHINELMDLFMRIFTIGTVTLKQGEIKDATPSDFVRATATIPIQASLPFGWLIVGVALLAVFQSASKIITLKKRWQLALSKGVHFVCNLLLLFVTVYSHLLLVAAGLEAPFLYLYALVYFLQSINFVRIIMRLWLCWKCRSKNPLLYDANYFLCWHTNCYDYCIPYNSVTSSIVITSGDGTTSPISEHDYQIGGYTEKWESGVKDCVVLHSYFTSDYYQLYSTQLSTDTGVEHVTFFIYNKIVDEPEEHVQIHTIDGSSGVVNPVMEPIYDEPTTTTSVPL',\n",
       " 'AQADEYELMYSFVSEETGTLIVNSVLLFLAFVVFLLVTLAILTALRLCAYCCNIVNVSLVKPSFYVYSRVKNLNSSRVPDLLV',\n",
       " 'TN',\n",
       " 'ILY',\n",
       " 'FFCLEL',\n",
       " 'F',\n",
       " 'PWQIPTVLLPLKSLKSSLNNGT',\n",
       " '',\n",
       " '',\n",
       " 'VSYSLHGFVFYNLPMPTGIGFCI',\n",
       " 'LS',\n",
       " 'FSSGCYGQ',\n",
       " 'L',\n",
       " 'LVLCLLLFTE',\n",
       " 'IGSPVELLSQWLVL',\n",
       " 'A',\n",
       " 'CGSATSLLLSDCLRVRVPCGHSIQKLTFFSTCHSMALF',\n",
       " 'PDRF',\n",
       " 'KVNS',\n",
       " 'SEL',\n",
       " 'SFVDIFVLLDTI',\n",
       " 'DAVTSRTCLKKSLLLHHERFLITNWELRSV',\n",
       " 'QVTQVLLHTVATGLATIN',\n",
       " 'TQTIPVAVTILLCLYSK',\n",
       " 'QQMFHLVDFQVTIAEILLIIMRTFKVSIWNLDYIINLIIKNLSKSLTENKYSQLDEEQPMEID',\n",
       " 'TNMKIILFLALITLATCELYHYQECVRGTTVLLKEPCSSGTYEGNSPFHPLADNKFALTCFSTQFAFACPDGVKHVYQLRARSVSPKLFIRQEEVQELYSPIFLIVAAIVFITLCFTLKRKTE',\n",
       " 'LNFH',\n",
       " 'LTSICAF',\n",
       " 'PFCYSLF',\n",
       " 'LCLLSFGSHLNCKIIMKLVTPKRT',\n",
       " 'NFLFS',\n",
       " 'ESSQL',\n",
       " 'LHFTKNVVYSHVLNINHM',\n",
       " 'LMTRVLFTSILNGILE',\n",
       " 'ELENQHL',\n",
       " 'LNCAWMRLVLNHPFSTSISVIIQFPVYLLQLIARNLNWVVL',\n",
       " 'CVVRSMKTF',\n",
       " 'SIMTFVLF',\n",
       " 'ISSKRTN',\n",
       " 'NV',\n",
       " '',\n",
       " 'WTPKSAKCTPHYVWWTLRFNWQ',\n",
       " 'PEWRTQWGAIKTTSAPRFTQ',\n",
       " 'YCVLVHRSHSTWQGRP',\n",
       " 'IPSRTRRSN',\n",
       " 'HQ',\n",
       " 'QSR',\n",
       " 'PNWLLPKSYQTNSWW',\n",
       " 'R',\n",
       " 'NERSQSKMVFLLPRNWARSWTSLWC',\n",
       " 'QRRHHMGCN',\n",
       " 'GSLEYTKRSHWHPQSC',\n",
       " 'QCCNRATTSSRNNIAKRLLRRREQRRQSSLFSFLIT',\n",
       " 'SQQFKKFNSRQQ',\n",
       " 'GNFSC',\n",
       " 'NGWQWR',\n",
       " 'CCSCFAAA',\n",
       " 'QIEPA',\n",
       " 'EQNVW',\n",
       " 'RPTTTRPNCH',\n",
       " 'EICC',\n",
       " 'GF',\n",
       " 'EASAKTYCH',\n",
       " 'SIQCNTSFRQTWSRTNPRKFWGPGTNQTRN',\n",
       " 'LQTLAANCTICPQRFSVLRNVAHWHGSHTFGNVVDLHRCHQIG',\n",
       " 'QRSKFQRSSHFAE',\n",
       " 'AY',\n",
       " 'RIQNIPTNRA',\n",
       " 'KGQKEEG',\n",
       " '',\n",
       " 'NSSLTAETEETANCDSSSCCRFG',\n",
       " 'FLQTIATIHEQC',\n",
       " 'LNSGLNSCRPHKADGLYKRFRFSVYDI',\n",
       " 'STLVQNEFS',\n",
       " 'LHSTSRCS',\n",
       " 'L',\n",
       " 'SHIAIFNQCVTLGRT',\n",
       " 'KSHHIFTEATRSTIECTVNNARESCLYGRALMCKINFSSAIPM',\n",
       " 'F',\n",
       " '',\n",
       " 'LLRRMTKKKKKKKKKK']"
      ]
     },
     "execution_count": 67,
     "metadata": {},
     "output_type": "execute_result"
    }
   ],
   "source": [
    "ncov_aa"
   ]
  },
  {
   "cell_type": "code",
   "execution_count": 68,
   "metadata": {},
   "outputs": [],
   "source": [
    "# Find the largest amino acid\n",
    "import heapq"
   ]
  },
  {
   "cell_type": "code",
   "execution_count": 69,
   "metadata": {},
   "outputs": [
    {
     "data": {
      "text/plain": [
       "['YYKLVPFW',\n",
       " 'YVYTTNSTYWCFGHISIYSSWWYCSYRSNMPCLLFYEV',\n",
       " 'YVFINF',\n",
       " 'YTSVYNASLLFLRLFLYLLLWPLLFTQPLL',\n",
       " 'YSQS',\n",
       " 'YQIC',\n",
       " 'YQCTRRFCCL',\n",
       " 'YPFTS',\n",
       " 'YNY',\n",
       " 'YIY']"
      ]
     },
     "execution_count": 69,
     "metadata": {},
     "output_type": "execute_result"
    }
   ],
   "source": [
    "heapq.nlargest(10,ncov_aa)"
   ]
  },
  {
   "cell_type": "code",
   "execution_count": 70,
   "metadata": {},
   "outputs": [
    {
     "name": "stdout",
     "output_type": "stream",
     "text": [
      "QDTSNSSIFCRLLTVSSVLQPIISTSRFRPGVTER\n",
      "DGEPCPWFQRENTRPTQFACFTGSRRARTWLWRLRGGGLIRGTSTS\n",
      "TALCVHQTFGCSNCTSWSCYG\n",
      "DTWCPCPSCGRNTSGLPQGSSS\n",
      "HLQWGMSKFCISLKFHNQDYSTKG\n",
      "RDRHYFGIFFCFHKCFCGNCERFGL\n",
      "TEINTESSLCICIRGCSCCTINFLPHS\n",
      "NCSKFCACFTEGRYNNTRWNFTVFTETH\n",
      "QSSCNGLHYRWCCSVDFAVAN\n",
      "IQRRNWPTHASKSPKRNYLLRGRNTSHRSVNRGSCLENW\n",
      "YDGNKQYLHTQRRCTNKGYFW\n",
      "PYTFFKSLCRYCSHKCLLSCL\n",
      "NASESFEKSANRQLYNHLPGSGFKWLHCRGGKDSA\n",
      "EARNSWNCFLEFARNACTCRRNTQINACLCGN\n",
      "NSCYNATWLCNTWLKFGRSCSVYEISQSASYSFCFFT\n",
      "PPHASCGHVNDIWTTVWSNLFGWS\n",
      "RNNELLVSTCQFRFLQKSLERGV\n",
      "TSYKISSTTGVTFCYDVSTTCSV\n",
      "RNFVLHRRCFTYKVLRIQRSYYGCFLQRKQLHNNHKTSYL\n",
      "TDKYYNLVFTIKCLPRFFNLLNRCFRCFNV\n",
      "WFRFFRHLSFFRNYTNYHFIF\n",
      "VFLCTWIGCNHAIVFQLFCSTFY\n",
      "NVHLLCIILLCMEKLCACCRRL\n",
      "RIICKISVCLLQSAYVSTYTVTRSGISV\n",
      "TCKECVLRQCLIYFYFSSSARVC\n",
      "SYTCVPFCCCYFLFNNTCSCHV\n",
      "QSLPIDCCSHNKRSGFCRAWFAWHDITHN\n",
      "YVYTTNSTYWCFGHISIYSSWWYCSYRSNMPCLLFYEV\n",
      "YFTIPYVIHCTLFNTSLLILTWCLFCYLLVLDILSY\n",
      "CFFFSTYSVDGYVHTFSTFLDNNCLYHLYFHKAFLLVL\n",
      "VCSHSTRTDFFSVSLLQWFTIWCLPMCYEAQFHY\n",
      "LCLFLLHAPYGITNWSSCWHRLRR\n",
      "CFSLVVRCCYKWRQVVSQSIYHNS\n",
      "HTRTSFCSNWNCRFRYVCFIKRITAKWYEWTYHIG\n",
      "TMLRCYFPKCSEKNNQGYTPLVVTHNFDFTFSFSPEYSMVFVLFFV\n",
      "KCLFTFCYGYYCYVCFCNDVCQT\n",
      "AKRLCYVCISCSVTNPYDSKNCV\n",
      "YTSVYNASLLFLRLFLYLLLWPLLFTQPLL\n",
      "NVRCKVHISSLTLSFATTQSRIII\n",
      "KNGFTTFCFAFHAGCCRHKQAL\n",
      "CTQQHYQQCKRWLCSLEHNTSYNSSQTNGCHTRL\n",
      "CNRSACQFNCIIFLCFCCRCC\n",
      "DVVYTHWYWSGNNSYTGSQYGSRILWWCIVLSVLPLPHRSSKS\n",
      "CTIVFKRVCGVSAARLTPCGTGTSTDVVYRAFDIYNDKVAGFAKFLKTNCCRFQEKDEDDNLIDSYFVVKRHTFSNYQHEETIYNLLKDCPAVAKHDFFKFRIDGDMVPHISRQRLTKYTMADLVYALRHFDEGNCDTLKEILVTYNCCDDDYFNKKDWYDFVENPDILRVYANLGERVRQALLKTVQFCDAMRNAGIVGVLTLDNQDLNGNWYDFGDFIQTTPGSGVPVVDSYYSLLMPILTLTRALTAESHVDTDLTKPYIKWDLLKYDFTEERLKLFDRYFKYWDQTYHPNCVNCLDDRCILHCANFNVLFSTVFPPTSFGPLVRKIFVDGVPFVVSTGYHFRELGVVHNQDVNLHSSRLSFKELLVYAADPAMHAASGNLLLDKRTTCFSVAALTNNVAFQTVKPGNFNKDFYDFAVSKGFFKEGSSVELKHFFFAQDGNAAISDYDYYRYNLPTMCDIRQLLFVVEVVDKYFDCYDGGCINANQVIVNNLDKSAGFPFNKWGKARLYYDSMSYEDQDALFAYTKRNVIPTITQMNLKYAISAKNRARTVAGVSICSTMTNRQFHQKLLKSIAATRGATVVIGTSKFYGGWHNMLKTVYSDVENPHLMGWDYPKCDRAMPNMLRIMASLVLARKHTTCCSLSHRFYRLANECAQVLSEMVMCGGSLYVKPGGTSSGDATTAYANSVFNICQAVTANVNALLSTDGNKIADKYVRNLQHRLYECLYRNRDVDTDFVNEFYAYLRKHFSMMILSDDAVVCFNSTYASQGLVASIKNFKSVLYYQNNVFMSEAKCWTETDLTKGPHEFCSQHTMLVKQGDDYVYLPYPDPSRILGAGCFVDDIVKTDGTLMIERFVSLAIDAYPLTKHPNQEYADVFHLYLQYIRKLHDELTGHMLDMYSVMLTNDNTSRYWEPEFYEAMYTPHTVLQAVGACVLCNSQTSLRCGACIRRPFLCCKCCYDHVISTSHKLVLSVNPYVCNAPGCDVTDVTQLYLGGMSYYCKSHKPPISFPLCANGQVFGLYKNTCVGSDNVTDFNAIATCDWTNAGDYILANTCTERLKLFAAETLKATEETFKLSYGIATVREVLSDRELHLSWEVGKPRPPLNRNYVFTGYRVTKNSKVQIGEYTFEKGDYGDAVVYRGTTTYKLNVGDYFVLTSHTVMPLSAPTLVPQEHYVRITGLYPTLNISDEFSSNVANYQKVGMQKYSTLQGPPGTGKSHFAIGLALYYPSARIVYTACSHAAVDALCEKALKYLPIDKCSRIIPARARVECFDKFKVNSTLEQYVFCTVNALPETTADIVVFDEISMATNYDLSVVNARLRAKHYVYIGDPAQLPAPRTLLTKGTLEPEYFNSVCRLMKTIGPDMFLGTCRRCPAEIVDTVSALVYDNKLKAHKDKSAQCFKMFYKGVITHDVSSAINRPQIGVVREFLTRNPAWRKAVFISPYNSQNAVASKILGLPTQTVDSSQGSEYDYVIFTQTTETAHSCNVNRFNVAITRAKVGILCIMSDRDLYDKLQFTSLEIPRRNVATLQAENVTGLFKDCSKVITGLHPTQAPTHLSVDTKFKTEGLCVDIPGIPKDMTYRRLISMMGFKMNYQVNGYPNMFITREEAIRHVRAWIGFDVEGCHATREAVGTNLPLQLGFSTGVNLVAVPTGYVDTPNNTDFSRVSAKPPPGDQFKHLIPLMYKGLPWNVVRIKIVQMLSDTLKNLSDRVVFVLWAHGFELTSMKYFVKIGPERTCCLCDRRATCFSTASDTYACWHHSIGFDYVYNPFMIDVQQWGFTGNLQSNHDLYCQVHGNAHVASCDAIMTRCLAVHECFVKRVDWTIEYPIIGDELKINAACRKVQHMVVKAALLADKFPVLHDIGNPKAIKCVPQADVEWKFYDAQPCSDKAYKIEELFYSYATHSDKFTDGVCLFWNCNVDRYPANSIVCRFDTRVLSNLNLPGCDGGSLYVNKHAFHTPAFDKSAFVNLKQLPFFYYSDSPCESHGKQVVSDIDYVPLKSATCITRCNLGGAVCRHHANEYRLYLDAYNMMISAGFSLWVYKQFDTYNLWNTFTRLQSLENVAFNVVNKGHFDGQQGEVPVSIINNTVYTKVDGVDVELFENKTTLPVNVAFELWAKRNIKPVPEVKILNNLGVDIAANTVIWDYKRDAPAHISTIGVCSMTDIAKKPTETICAPLTVFFDGRVDGQVDLFRNARNGVLITEGSVKGLQPSVGPKQASLNGVTLIGEAVKTQFNYYKKVDGVVQQLPETYFTQSRNLQEFKPRSQMEIDFLELAMDEFIERYKLEGYAFEHIVYGDFSHSQLGGLHLLIGLAKRFKESPFELEDFIPMDSTVKNYFITDAQTGSSKCVCSVIDLLLDDFVEIIKSQDLSVVSKVVKVTIDYTEISFMLWCKDGHVETFYPKLQSSQAWQPGVAMPNLYKMQRMLLEKCDLQNYGDSATLPKGIMMNVAKYTQLCQYLNTLTLAVPYNMRVIHFGAGSDKGVAPGTAVLRQWLPTGTLLVDSDLNDFVSDADSTLIGDCATVHTANKWDLIISDMYDPKTKNVTKENDSKEGFFTYICGFIQQKLALGGSVAIKITEHSWNADLYKLMGHFAWWTAFVTNVNASSSEAFLIGCNYLGKPREQIDGYVMHANYIFWRNTNPIQLSSYSLFDMSKFPLKLRGTAVMSLKEGQINDMILSLLSKGRLIIRENNRVVISSDVLVNN\n",
      "QSFQILSFTFNSGLVLTFLFQCYLVPCYTCLWDQWY\n",
      "HNKRLDFWYYFRFEDPVPTYC\n",
      "PSLRNKVYVEILHCRKRNLSNF\n",
      "LHRSPCCYSCRSTYSYLACLFYRF\n",
      "CYHRNSTSVYDQDISRLYNVHLW\n",
      "MQQSFVAIWQFLYTIKPCFNWNSC\n",
      "TRQKHPRSFCTSQTNLQNTTN\n",
      "NDCSIHFCTVSGYNHFWLDLWCRCCITNTICYANGL\n",
      "CYWQNSRLTFFHSKCTWKTSRCGQPKCTSFKHAC\n",
      "FLWKGLSSYVLPSVSTSWCSLLACDLCPCTRKELHNCSCHLS\n",
      "AVYKMAMVHLARFYSWLDCHSNGDNYALLYDQLL\n",
      "ASAQRSQITLHINELMDLFMRIFTIGTVTLKQGEIKDATPSDFVRATATIPIQASLPFGWLIVGVALLAVFQSASKIITLKKRWQLALSKGVHFVCNLLLLFVTVYSHLLLVAAGLEAPFLYLYALVYFLQSINFVRIIMRLWLCWKCRSKNPLLYDANYFLCWHTNCYDYCIPYNSVTSSIVITSGDGTTSPISEHDYQIGGYTEKWESGVKDCVVLHSYFTSDYYQLYSTQLSTDTGVEHVTFFIYNKIVDEPEEHVQIHTIDGSSGVVNPVMEPIYDEPTTTTSVPL\n",
      "AQADEYELMYSFVSEETGTLIVNSVLLFLAFVVFLLVTLAILTALRLCAYCCNIVNVSLVKPSFYVYSRVKNLNSSRVPDLLV\n",
      "PWQIPTVLLPLKSLKSSLNNGT\n",
      "VSYSLHGFVFYNLPMPTGIGFCI\n",
      "CGSATSLLLSDCLRVRVPCGHSIQKLTFFSTCHSMALF\n",
      "DAVTSRTCLKKSLLLHHERFLITNWELRSV\n",
      "QQMFHLVDFQVTIAEILLIIMRTFKVSIWNLDYIINLIIKNLSKSLTENKYSQLDEEQPMEID\n",
      "TNMKIILFLALITLATCELYHYQECVRGTTVLLKEPCSSGTYEGNSPFHPLADNKFALTCFSTQFAFACPDGVKHVYQLRARSVSPKLFIRQEEVQELYSPIFLIVAAIVFITLCFTLKRKTE\n",
      "LCLLSFGSHLNCKIIMKLVTPKRT\n",
      "LNCAWMRLVLNHPFSTSISVIIQFPVYLLQLIARNLNWVVL\n",
      "WTPKSAKCTPHYVWWTLRFNWQ\n",
      "NERSQSKMVFLLPRNWARSWTSLWC\n",
      "QCCNRATTSSRNNIAKRLLRRREQRRQSSLFSFLIT\n",
      "SIQCNTSFRQTWSRTNPRKFWGPGTNQTRN\n",
      "LQTLAANCTICPQRFSVLRNVAHWHGSHTFGNVVDLHRCHQIG\n",
      "NSSLTAETEETANCDSSSCCRFG\n",
      "LNSGLNSCRPHKADGLYKRFRFSVYDI\n",
      "KSHHIFTEATRSTIECTVNNARESCLYGRALMCKINFSSAIPM\n"
     ]
    }
   ],
   "source": [
    "for i in ncov_amino_acids:\n",
    "    if len(i) > 20:\n",
    "        print(i)"
   ]
  },
  {
   "cell_type": "code",
   "execution_count": 71,
   "metadata": {},
   "outputs": [],
   "source": [
    "# Place our Amino Acids into a DataFrame\n",
    "import pandas as pd"
   ]
  },
  {
   "cell_type": "code",
   "execution_count": 72,
   "metadata": {},
   "outputs": [],
   "source": [
    "df = pd.DataFrame({'amino_acids':ncov_aa})"
   ]
  },
  {
   "cell_type": "code",
   "execution_count": 73,
   "metadata": {},
   "outputs": [
    {
     "data": {
      "text/html": [
       "<div>\n",
       "<style scoped>\n",
       "    .dataframe tbody tr th:only-of-type {\n",
       "        vertical-align: middle;\n",
       "    }\n",
       "\n",
       "    .dataframe tbody tr th {\n",
       "        vertical-align: top;\n",
       "    }\n",
       "\n",
       "    .dataframe thead th {\n",
       "        text-align: right;\n",
       "    }\n",
       "</style>\n",
       "<table border=\"1\" class=\"dataframe\">\n",
       "  <thead>\n",
       "    <tr style=\"text-align: right;\">\n",
       "      <th></th>\n",
       "      <th>amino_acids</th>\n",
       "    </tr>\n",
       "  </thead>\n",
       "  <tbody>\n",
       "    <tr>\n",
       "      <th>0</th>\n",
       "      <td>IKGLYLPR</td>\n",
       "    </tr>\n",
       "    <tr>\n",
       "      <th>1</th>\n",
       "      <td>QTNQLSISCRSVL</td>\n",
       "    </tr>\n",
       "    <tr>\n",
       "      <th>2</th>\n",
       "      <td>TNFKICVAVTRLHA</td>\n",
       "    </tr>\n",
       "    <tr>\n",
       "      <th>3</th>\n",
       "      <td>CTHAV</td>\n",
       "    </tr>\n",
       "    <tr>\n",
       "      <th>4</th>\n",
       "      <td>LITNYCR</td>\n",
       "    </tr>\n",
       "  </tbody>\n",
       "</table>\n",
       "</div>"
      ],
      "text/plain": [
       "      amino_acids\n",
       "0        IKGLYLPR\n",
       "1   QTNQLSISCRSVL\n",
       "2  TNFKICVAVTRLHA\n",
       "3           CTHAV\n",
       "4         LITNYCR"
      ]
     },
     "execution_count": 73,
     "metadata": {},
     "output_type": "execute_result"
    }
   ],
   "source": [
    "df.head()"
   ]
  },
  {
   "cell_type": "code",
   "execution_count": 74,
   "metadata": {},
   "outputs": [],
   "source": [
    "df['count'] = df['amino_acids'].apply(len)"
   ]
  },
  {
   "cell_type": "code",
   "execution_count": 75,
   "metadata": {},
   "outputs": [
    {
     "data": {
      "text/html": [
       "<div>\n",
       "<style scoped>\n",
       "    .dataframe tbody tr th:only-of-type {\n",
       "        vertical-align: middle;\n",
       "    }\n",
       "\n",
       "    .dataframe tbody tr th {\n",
       "        vertical-align: top;\n",
       "    }\n",
       "\n",
       "    .dataframe thead th {\n",
       "        text-align: right;\n",
       "    }\n",
       "</style>\n",
       "<table border=\"1\" class=\"dataframe\">\n",
       "  <thead>\n",
       "    <tr style=\"text-align: right;\">\n",
       "      <th></th>\n",
       "      <th>amino_acids</th>\n",
       "      <th>count</th>\n",
       "    </tr>\n",
       "  </thead>\n",
       "  <tbody>\n",
       "    <tr>\n",
       "      <th>0</th>\n",
       "      <td>IKGLYLPR</td>\n",
       "      <td>8</td>\n",
       "    </tr>\n",
       "    <tr>\n",
       "      <th>1</th>\n",
       "      <td>QTNQLSISCRSVL</td>\n",
       "      <td>13</td>\n",
       "    </tr>\n",
       "    <tr>\n",
       "      <th>2</th>\n",
       "      <td>TNFKICVAVTRLHA</td>\n",
       "      <td>14</td>\n",
       "    </tr>\n",
       "    <tr>\n",
       "      <th>3</th>\n",
       "      <td>CTHAV</td>\n",
       "      <td>5</td>\n",
       "    </tr>\n",
       "    <tr>\n",
       "      <th>4</th>\n",
       "      <td>LITNYCR</td>\n",
       "      <td>7</td>\n",
       "    </tr>\n",
       "  </tbody>\n",
       "</table>\n",
       "</div>"
      ],
      "text/plain": [
       "      amino_acids  count\n",
       "0        IKGLYLPR      8\n",
       "1   QTNQLSISCRSVL     13\n",
       "2  TNFKICVAVTRLHA     14\n",
       "3           CTHAV      5\n",
       "4         LITNYCR      7"
      ]
     },
     "execution_count": 75,
     "metadata": {},
     "output_type": "execute_result"
    }
   ],
   "source": [
    "df.head()"
   ]
  },
  {
   "cell_type": "code",
   "execution_count": 76,
   "metadata": {},
   "outputs": [
    {
     "data": {
      "text/plain": [
       "548    2701\n",
       "694     290\n",
       "719     123\n",
       "695      83\n",
       "718      63\n",
       "6        46\n",
       "464      46\n",
       "539      43\n",
       "758      43\n",
       "771      43\n",
       "674      42\n",
       "729      41\n",
       "242      40\n",
       "91       39\n",
       "405      38\n",
       "410      38\n",
       "710      38\n",
       "189      37\n",
       "408      36\n",
       "553      36\n",
       "Name: count, dtype: int64"
      ]
     },
     "execution_count": 76,
     "metadata": {},
     "output_type": "execute_result"
    }
   ],
   "source": [
    "# Find the largest amino acid sequence\n",
    "df['count'].nlargest(20)"
   ]
  },
  {
   "cell_type": "code",
   "execution_count": 77,
   "metadata": {},
   "outputs": [
    {
     "data": {
      "text/html": [
       "<div>\n",
       "<style scoped>\n",
       "    .dataframe tbody tr th:only-of-type {\n",
       "        vertical-align: middle;\n",
       "    }\n",
       "\n",
       "    .dataframe tbody tr th {\n",
       "        vertical-align: top;\n",
       "    }\n",
       "\n",
       "    .dataframe thead th {\n",
       "        text-align: right;\n",
       "    }\n",
       "</style>\n",
       "<table border=\"1\" class=\"dataframe\">\n",
       "  <thead>\n",
       "    <tr style=\"text-align: right;\">\n",
       "      <th></th>\n",
       "      <th>amino_acids</th>\n",
       "      <th>count</th>\n",
       "    </tr>\n",
       "  </thead>\n",
       "  <tbody>\n",
       "    <tr>\n",
       "      <th>548</th>\n",
       "      <td>CTIVFKRVCGVSAARLTPCGTGTSTDVVYRAFDIYNDKVAGFAKFL...</td>\n",
       "      <td>2701</td>\n",
       "    </tr>\n",
       "    <tr>\n",
       "      <th>694</th>\n",
       "      <td>ASAQRSQITLHINELMDLFMRIFTIGTVTLKQGEIKDATPSDFVRA...</td>\n",
       "      <td>290</td>\n",
       "    </tr>\n",
       "    <tr>\n",
       "      <th>719</th>\n",
       "      <td>TNMKIILFLALITLATCELYHYQECVRGTTVLLKEPCSSGTYEGNS...</td>\n",
       "      <td>123</td>\n",
       "    </tr>\n",
       "    <tr>\n",
       "      <th>695</th>\n",
       "      <td>AQADEYELMYSFVSEETGTLIVNSVLLFLAFVVFLLVTLAILTALR...</td>\n",
       "      <td>83</td>\n",
       "    </tr>\n",
       "    <tr>\n",
       "      <th>718</th>\n",
       "      <td>QQMFHLVDFQVTIAEILLIIMRTFKVSIWNLDYIINLIIKNLSKSL...</td>\n",
       "      <td>63</td>\n",
       "    </tr>\n",
       "    <tr>\n",
       "      <th>6</th>\n",
       "      <td>DGEPCPWFQRENTRPTQFACFTGSRRARTWLWRLRGGGLIRGTSTS</td>\n",
       "      <td>46</td>\n",
       "    </tr>\n",
       "    <tr>\n",
       "      <th>464</th>\n",
       "      <td>TMLRCYFPKCSEKNNQGYTPLVVTHNFDFTFSFSPEYSMVFVLFFV</td>\n",
       "      <td>46</td>\n",
       "    </tr>\n",
       "    <tr>\n",
       "      <th>539</th>\n",
       "      <td>DVVYTHWYWSGNNSYTGSQYGSRILWWCIVLSVLPLPHRSSKS</td>\n",
       "      <td>43</td>\n",
       "    </tr>\n",
       "    <tr>\n",
       "      <th>758</th>\n",
       "      <td>LQTLAANCTICPQRFSVLRNVAHWHGSHTFGNVVDLHRCHQIG</td>\n",
       "      <td>43</td>\n",
       "    </tr>\n",
       "    <tr>\n",
       "      <th>771</th>\n",
       "      <td>KSHHIFTEATRSTIECTVNNARESCLYGRALMCKINFSSAIPM</td>\n",
       "      <td>43</td>\n",
       "    </tr>\n",
       "    <tr>\n",
       "      <th>674</th>\n",
       "      <td>FLWKGLSSYVLPSVSTSWCSLLACDLCPCTRKELHNCSCHLS</td>\n",
       "      <td>42</td>\n",
       "    </tr>\n",
       "    <tr>\n",
       "      <th>729</th>\n",
       "      <td>LNCAWMRLVLNHPFSTSISVIIQFPVYLLQLIARNLNWVVL</td>\n",
       "      <td>41</td>\n",
       "    </tr>\n",
       "    <tr>\n",
       "      <th>242</th>\n",
       "      <td>RNFVLHRRCFTYKVLRIQRSYYGCFLQRKQLHNNHKTSYL</td>\n",
       "      <td>40</td>\n",
       "    </tr>\n",
       "    <tr>\n",
       "      <th>91</th>\n",
       "      <td>IQRRNWPTHASKSPKRNYLLRGRNTSHRSVNRGSCLENW</td>\n",
       "      <td>39</td>\n",
       "    </tr>\n",
       "    <tr>\n",
       "      <th>405</th>\n",
       "      <td>YVYTTNSTYWCFGHISIYSSWWYCSYRSNMPCLLFYEV</td>\n",
       "      <td>38</td>\n",
       "    </tr>\n",
       "    <tr>\n",
       "      <th>410</th>\n",
       "      <td>CFFFSTYSVDGYVHTFSTFLDNNCLYHLYFHKAFLLVL</td>\n",
       "      <td>38</td>\n",
       "    </tr>\n",
       "    <tr>\n",
       "      <th>710</th>\n",
       "      <td>CGSATSLLLSDCLRVRVPCGHSIQKLTFFSTCHSMALF</td>\n",
       "      <td>38</td>\n",
       "    </tr>\n",
       "    <tr>\n",
       "      <th>189</th>\n",
       "      <td>NSCYNATWLCNTWLKFGRSCSVYEISQSASYSFCFFT</td>\n",
       "      <td>37</td>\n",
       "    </tr>\n",
       "    <tr>\n",
       "      <th>408</th>\n",
       "      <td>YFTIPYVIHCTLFNTSLLILTWCLFCYLLVLDILSY</td>\n",
       "      <td>36</td>\n",
       "    </tr>\n",
       "    <tr>\n",
       "      <th>553</th>\n",
       "      <td>QSFQILSFTFNSGLVLTFLFQCYLVPCYTCLWDQWY</td>\n",
       "      <td>36</td>\n",
       "    </tr>\n",
       "  </tbody>\n",
       "</table>\n",
       "</div>"
      ],
      "text/plain": [
       "                                           amino_acids  count\n",
       "548  CTIVFKRVCGVSAARLTPCGTGTSTDVVYRAFDIYNDKVAGFAKFL...   2701\n",
       "694  ASAQRSQITLHINELMDLFMRIFTIGTVTLKQGEIKDATPSDFVRA...    290\n",
       "719  TNMKIILFLALITLATCELYHYQECVRGTTVLLKEPCSSGTYEGNS...    123\n",
       "695  AQADEYELMYSFVSEETGTLIVNSVLLFLAFVVFLLVTLAILTALR...     83\n",
       "718  QQMFHLVDFQVTIAEILLIIMRTFKVSIWNLDYIINLIIKNLSKSL...     63\n",
       "6       DGEPCPWFQRENTRPTQFACFTGSRRARTWLWRLRGGGLIRGTSTS     46\n",
       "464     TMLRCYFPKCSEKNNQGYTPLVVTHNFDFTFSFSPEYSMVFVLFFV     46\n",
       "539        DVVYTHWYWSGNNSYTGSQYGSRILWWCIVLSVLPLPHRSSKS     43\n",
       "758        LQTLAANCTICPQRFSVLRNVAHWHGSHTFGNVVDLHRCHQIG     43\n",
       "771        KSHHIFTEATRSTIECTVNNARESCLYGRALMCKINFSSAIPM     43\n",
       "674         FLWKGLSSYVLPSVSTSWCSLLACDLCPCTRKELHNCSCHLS     42\n",
       "729          LNCAWMRLVLNHPFSTSISVIIQFPVYLLQLIARNLNWVVL     41\n",
       "242           RNFVLHRRCFTYKVLRIQRSYYGCFLQRKQLHNNHKTSYL     40\n",
       "91             IQRRNWPTHASKSPKRNYLLRGRNTSHRSVNRGSCLENW     39\n",
       "405             YVYTTNSTYWCFGHISIYSSWWYCSYRSNMPCLLFYEV     38\n",
       "410             CFFFSTYSVDGYVHTFSTFLDNNCLYHLYFHKAFLLVL     38\n",
       "710             CGSATSLLLSDCLRVRVPCGHSIQKLTFFSTCHSMALF     38\n",
       "189              NSCYNATWLCNTWLKFGRSCSVYEISQSASYSFCFFT     37\n",
       "408               YFTIPYVIHCTLFNTSLLILTWCLFCYLLVLDILSY     36\n",
       "553               QSFQILSFTFNSGLVLTFLFQCYLVPCYTCLWDQWY     36"
      ]
     },
     "execution_count": 77,
     "metadata": {},
     "output_type": "execute_result"
    }
   ],
   "source": [
    "df.nlargest(20,'count')"
   ]
  },
  {
   "cell_type": "code",
   "execution_count": 78,
   "metadata": {},
   "outputs": [
    {
     "name": "stdout",
     "output_type": "stream",
     "text": [
      "IKGLYLPR*QTNQLSISCRSVL*TNFKICVAVTRLHA*CTHAV*LITNYCR*QDTSNSSIFCRLLTVSSVLQPIISTSRFRPGVTER*DGEPCPWFQRENTRPTQFACFTGSRRARTWLWRLRGGGLIRGTSTS*RWHLWLSRS*KRRFAST*TALCVHQTFGCSNCTSWSCYG*AGSRTRRHSVRS*W*DTWCPCPSCGRNTSGLPQGSSS*ER**RSWWP*LRRRSKVI*LRRRAWH*SL*RFSRKLEH*T*QWCYP*THA*A*RRGIHSLCR*QLLWP*WLPS*VH*RPSSTCW*SFMHFVRTTGLY*H*EGCILLP*T*A*NCLVHGTF*KEL*IADTF*N*IGKEI*HLQWGMSKFCISLKFHNQDYSTKG*KEKA*WLYG*NSICLSSCVTK*MQPNVPFNSHEV*SLW*NFMADGRFC*SHLRILWH*EFD*RRCHYLWLLTPKCCC*NLLSSMSQFRSRT*A*SCRIP**IWLENHSS*GWSHYCLWRLCVLLCWLP*QVCLLGSTC*R*HRL*PYRCCWRRFRRS**QPS*NTPKRESQHQYCW*L*T**RDRHYFGIFFCFHKCFCGNCERFGL*SIQTNC*ILW*F*SYKRKS*KRCLEYW*TEINTESSLCICIRGCSCCTINFLPHS*NCSKFCACFTEGRYNNTRWNFTVFTETH*CYDVHI*FGY*QSSCNGLHYRWCCSVDFAVAN*HLWHCL*KTQTRP*LA*REV*GRCRVS*RRLGNC*IYLNLCL*NCRWTNCHLCKGN*GECSDIL*ACK*IFGFVC*LYHYWWS*T*SLEFR*NICHALKGIVQKVC*IQRRNWPTHASKSPKRNYLLRGRNTSHRSVNRGSCLENW*FTTIRTTY**SC*SSIGWYTSLY*RAYVARNQRHRKVLCPCT*YDGNKQYLHTQRRCTNKGYFW**HCDRSARLQECEYHF*T**KD**ST**EVLCLYS*TRYRSK*VRLCCGRCCHKNFATSI*ITYTTGH*FR*VEYGYILLI**VW*V*IGFTYVLFFLPSR*G*RRR*L*RRRV*AINSI*VWY*R*LPR*TFGIWCHFCCSST*RRARRRLVR***STNCWSTRRQ*GQSDNYYSNNC*GSTSIRDGTYTSCSDY*SE*F*WLFKTY*QCIH*KCRHCGRS*KGKTNSGC*CSQCLP*TWRRCCRSLK*GY*QCHAS*I**LHSY*WTT*SGW*LCFKRTQSC*TLSSCCRPKC*QR*RHSTS*ECL*KF*SARSSTCTIIISWYFWC*PYTFFKSLCRYCSHKCLLSCL**KSL*QTCFKLFGNEE*KAS*TKDR*DS*RGS*AIYN*K*TFS*TEKTR**ENQSLC*RSYNNSGRN*VPHRKLVTLY*H*WQSSSRFCHSC**H*HHFLKERCSIYSG*CCSRGCFNCCGYTY*KGWWHY*NASESFEKSANRQLYNHLPGSGFKWLHCRGGKDSA*KV*KCLLHSTIYYL**EARNSWNCFLEFARNACTCRRNTQINACLCGN*SHSFNYTA*I*GY*NTRGCG*LWC*ILLLHQ*NNCSVTYQHT*RSK*NSCYNATWLCNTWLKFGRSCSVYEISQSASYSFCFFT*CCYSV*WLSYFFF*NT*RTFY*NHLTCWFL*RLVLFWTIYTTRYRIS*ER**KCILH**SYHIPPRW*SYHL*QS*DTSFFERSEDY*GVYNSRQH*PPHASCGHVNDIWTTVWSNLFGWS*CY*NKTS*FT*R*NILCFT***HSTC*GF*VLPHN*S*FSG*VHVSIKSH*KVEIPTS*WFNFY*MGR*QLLSCHCIVNTPTNRVEV*STCSTRCLLQSKGW*SC*LLCTYLSLL**DSR*VR*C*RNNELLVSTCQFRFLQKSLERGV*NLWTTADNP*GCRSCYVHGHTFL*TI*ERCSDTLYVW*TSYKISSTTGVTFCYDVSTTCSV*T*AWYIYLC**VHW*LPVWSL*TYNF*RNFVLHRRCFTYKVLRIQRSYYGCFLQRKQLHNNHKTSYL*IGWCCLYRN*P*VGQLL*ERQFLFHRATN*SCTKPTISKRKLR*F*VCM**YQIC**FKPVNWL*ETCFKRA*SYIFP*LKW*CGGY*L*TLHTLF*ERS*IVT*TYCLAC*QCN**SHV*TKYLVYTLSLEHKTS*NIKFV*CTEVRGRAGNG*SCLRRSKTSL*RSSGKSYHTERRS*V*CENYRSCRRHYT*TSK**FKNYRRGWPHRSNGCLCRQF*SYY*ET**II*SIRFENPCYSWFSCC**CPLGYYS*LC*AFS*QSC*YNY*HSYTVFKPCLY*LYALFLYFIATIVYFY*KYKF*N*SIYADYYSKEYC*ECR*ILSRGFI*LFEVT*FF*TDKYYNLVFTIKCLPRFFNLLNRCFRCFNV*FRHAFLLYWLQRRLFELY*CHYCNLLYWFYTL*CLS*WFRFFRHLSFFRNYTNYHFIF*MGFNCFWLSCRVVFGIYSFH*VFLCTWIGCNHAIVFQLFCSTFY**FLAYVVNN*SCTNGPDFSYG*NVHLLCIILLCMEKLCACCRRL*FINLYDVLQT**SNKSRMYNYC*WC*KVLLCLC*WR*RLLQTTQLELC*L*YILCW*YIY***SCERLVTTV*KTNKSY*PVFLHR**CYSEEWFHPSLL**SWSKDL*KTFSLSFC*LRQPES**H*RFIAY*CYSF*W*IKM*RIICKISVCLLQSAYVSTYTVTRSGISV*CW**CGSCS*NV*CLR*YVFINF*RTNGKTQNTSCNCRS*TCKECVLRQCLIYFYFSSSARVC*FRCRN*RCC*MS*IVTSI*HRSYWR*L**LYAHL*QS*KHDTP*PWCLY*L*CASY*CAGSKKSQHCFDMER*RFHVIV*TTTKTNT*CC*KE*LTF*VDMCNY*TSC*CCNNKDST*GW*NC**LVEAVN*SYTCVPFCCCYFLFNNTCSCHV*TY*LFK*NHRIQGY*WWCHS*HSIYRYLFC*QTC*F*HMV*PAWW*LY**QSLPIDCCSHNKRSGFCRAWFAWHDITHN*W*LFAFLT*SF*CSW*HLLHTIKTYRVH*LCNISLCFGC*MYNF*RCFW*ASTILL*YQCTRRFCCL*KFTP*HTLCAHGWLYYSIS*HLP*RFC*SGNNF*F*VL*ARHL*KIRSWCLCIY*W*MGT*Q*LLQIFTRSFLWCRCCKFTY*YVYTTNSTYWCFGHISIYSSWWYCSYRSNMPCLLFYEV*KSFW*IQSCSCL*YFTIPYVIHCTLFNTSLLILTWCLFCYLLVLDILSY**CFFFSTYSVDGYVHTFSTFLDNNCLYHLYFHKAFLLVL**LPKETCSL*WCFL*YF*RSCAVHLFVK*RNVSKVA**CAITSYAI**ILSSL**VQVF*WSNGYN*LQRSCLLSSRKGSQ*LQ*LRF*CSLPTTTNLYHLSCFAEWF*KNGIPIW*S*GLYGTSNLWYNYT*RSLA**RSLLSKTCDLHL*RHA*P*L*RFTHS*V*S*FLGTGW*CSTQGYWTFYAKLCT*A*G*YSQS*DT*V*VCSHSTRTDFFSVSLLQWFTIWCLPMCYEAQFHY*GFIP*WFMW*CWF*HRL*LCLFLLHAPYGITNWSSCWHRLRR*LLWTFC*QANSTSSWYGHNYYS*CFSLVVRCCYKWRQVVSQSIYHNS**L*PCGYEVQL*TSNTRPC*HTRTSFCSNWNCRFRYVCFIKRITAKWYEWTYHIG*CFIRR*IYTF*CC*TMLRCYFPKCSEKNNQGYTPLVVTHNFDFTFSFSPEYSMVFVLFFV*KCLFTFCYGYYCYVCFCNDVCQT*ACISLFVFVTFSCHCSLF*YGLYAC*LGDAYYDMVGYG*Y*FVWF*AKRLCYVCISCSVTNPYDSKNCV**WC*ESVDTYECLDTRL*SLLW*CFRSSHFHVGSYNLCYF*LLRCSYNCHVFGQRYCFYVC*VLPYFLHNW*YTSVYNASLLFLRLFLYLLLWPLLFTQPLL*TDSWCL*LLSFYTGV*IYEFTGTTPTQE*HRCLQTQH*IVGCWWQTLYQSSHCTV*NVRCKVHISSLTLSFATTQSRIII*IVGSMCPVTQ*HSLS*RYY*SL*KNGFTTFCFAFHAGCCRHKQAL*RNAGQQGNLTSYSLRV*FPSIICSFCYCSRSL*AGCC*W*F*SCS*KVEEVFECG*I*I*P*CSHAT*VGKDG*SSYDPNV*TG*I*GQEGKSY*CYADNAFHYA*KVG**CTQQHYQQCKRWLCSLEHNTSYNSSQTNGCHTRL*HI*KYV*WYNIYLCISIVGNPTGCRCR**NCST**N*YGQFT*FSMASYCNSFKGQFCCQITE**A*SCCTTTDVLCCRYYTNCLH**QCVSLLQHNKGR*VCTCTVIRFTGFEMG*IP*E*WNWYYLYRTGTTL*VCYRHT*RS*SEVFILY*RIKQPK*RYGTW*FSCHSTSTSW*CNRSACQFNCIIFLCFCCRCC*SLQRLSS*WGTTNH*LC*DVVYTHWYWSGNNSYTGSQYGSRILWWCIVLSVLPLPHRSSKS*RIL*LKR*VCTNTYNLC**PCGFYT*KHSLYRLRYVERLWL*L*STPRTHASVS*CTIVFKRVCGVSAARLTPCGTGTSTDVVYRAFDIYNDKVAGFAKFLKTNCCRFQEKDEDDNLIDSYFVVKRHTFSNYQHEETIYNLLKDCPAVAKHDFFKFRIDGDMVPHISRQRLTKYTMADLVYALRHFDEGNCDTLKEILVTYNCCDDDYFNKKDWYDFVENPDILRVYANLGERVRQALLKTVQFCDAMRNAGIVGVLTLDNQDLNGNWYDFGDFIQTTPGSGVPVVDSYYSLLMPILTLTRALTAESHVDTDLTKPYIKWDLLKYDFTEERLKLFDRYFKYWDQTYHPNCVNCLDDRCILHCANFNVLFSTVFPPTSFGPLVRKIFVDGVPFVVSTGYHFRELGVVHNQDVNLHSSRLSFKELLVYAADPAMHAASGNLLLDKRTTCFSVAALTNNVAFQTVKPGNFNKDFYDFAVSKGFFKEGSSVELKHFFFAQDGNAAISDYDYYRYNLPTMCDIRQLLFVVEVVDKYFDCYDGGCINANQVIVNNLDKSAGFPFNKWGKARLYYDSMSYEDQDALFAYTKRNVIPTITQMNLKYAISAKNRARTVAGVSICSTMTNRQFHQKLLKSIAATRGATVVIGTSKFYGGWHNMLKTVYSDVENPHLMGWDYPKCDRAMPNMLRIMASLVLARKHTTCCSLSHRFYRLANECAQVLSEMVMCGGSLYVKPGGTSSGDATTAYANSVFNICQAVTANVNALLSTDGNKIADKYVRNLQHRLYECLYRNRDVDTDFVNEFYAYLRKHFSMMILSDDAVVCFNSTYASQGLVASIKNFKSVLYYQNNVFMSEAKCWTETDLTKGPHEFCSQHTMLVKQGDDYVYLPYPDPSRILGAGCFVDDIVKTDGTLMIERFVSLAIDAYPLTKHPNQEYADVFHLYLQYIRKLHDELTGHMLDMYSVMLTNDNTSRYWEPEFYEAMYTPHTVLQAVGACVLCNSQTSLRCGACIRRPFLCCKCCYDHVISTSHKLVLSVNPYVCNAPGCDVTDVTQLYLGGMSYYCKSHKPPISFPLCANGQVFGLYKNTCVGSDNVTDFNAIATCDWTNAGDYILANTCTERLKLFAAETLKATEETFKLSYGIATVREVLSDRELHLSWEVGKPRPPLNRNYVFTGYRVTKNSKVQIGEYTFEKGDYGDAVVYRGTTTYKLNVGDYFVLTSHTVMPLSAPTLVPQEHYVRITGLYPTLNISDEFSSNVANYQKVGMQKYSTLQGPPGTGKSHFAIGLALYYPSARIVYTACSHAAVDALCEKALKYLPIDKCSRIIPARARVECFDKFKVNSTLEQYVFCTVNALPETTADIVVFDEISMATNYDLSVVNARLRAKHYVYIGDPAQLPAPRTLLTKGTLEPEYFNSVCRLMKTIGPDMFLGTCRRCPAEIVDTVSALVYDNKLKAHKDKSAQCFKMFYKGVITHDVSSAINRPQIGVVREFLTRNPAWRKAVFISPYNSQNAVASKILGLPTQTVDSSQGSEYDYVIFTQTTETAHSCNVNRFNVAITRAKVGILCIMSDRDLYDKLQFTSLEIPRRNVATLQAENVTGLFKDCSKVITGLHPTQAPTHLSVDTKFKTEGLCVDIPGIPKDMTYRRLISMMGFKMNYQVNGYPNMFITREEAIRHVRAWIGFDVEGCHATREAVGTNLPLQLGFSTGVNLVAVPTGYVDTPNNTDFSRVSAKPPPGDQFKHLIPLMYKGLPWNVVRIKIVQMLSDTLKNLSDRVVFVLWAHGFELTSMKYFVKIGPERTCCLCDRRATCFSTASDTYACWHHSIGFDYVYNPFMIDVQQWGFTGNLQSNHDLYCQVHGNAHVASCDAIMTRCLAVHECFVKRVDWTIEYPIIGDELKINAACRKVQHMVVKAALLADKFPVLHDIGNPKAIKCVPQADVEWKFYDAQPCSDKAYKIEELFYSYATHSDKFTDGVCLFWNCNVDRYPANSIVCRFDTRVLSNLNLPGCDGGSLYVNKHAFHTPAFDKSAFVNLKQLPFFYYSDSPCESHGKQVVSDIDYVPLKSATCITRCNLGGAVCRHHANEYRLYLDAYNMMISAGFSLWVYKQFDTYNLWNTFTRLQSLENVAFNVVNKGHFDGQQGEVPVSIINNTVYTKVDGVDVELFENKTTLPVNVAFELWAKRNIKPVPEVKILNNLGVDIAANTVIWDYKRDAPAHISTIGVCSMTDIAKKPTETICAPLTVFFDGRVDGQVDLFRNARNGVLITEGSVKGLQPSVGPKQASLNGVTLIGEAVKTQFNYYKKVDGVVQQLPETYFTQSRNLQEFKPRSQMEIDFLELAMDEFIERYKLEGYAFEHIVYGDFSHSQLGGLHLLIGLAKRFKESPFELEDFIPMDSTVKNYFITDAQTGSSKCVCSVIDLLLDDFVEIIKSQDLSVVSKVVKVTIDYTEISFMLWCKDGHVETFYPKLQSSQAWQPGVAMPNLYKMQRMLLEKCDLQNYGDSATLPKGIMMNVAKYTQLCQYLNTLTLAVPYNMRVIHFGAGSDKGVAPGTAVLRQWLPTGTLLVDSDLNDFVSDADSTLIGDCATVHTANKWDLIISDMYDPKTKNVTKENDSKEGFFTYICGFIQQKLALGGSVAIKITEHSWNADLYKLMGHFAWWTAFVTNVNASSSEAFLIGCNYLGKPREQIDGYVMHANYIFWRNTNPIQLSSYSLFDMSKFPLKLRGTAVMSLKEGQINDMILSLLSKGRLIIRENNRVVISSDVLVNN*TNNVCFSCFIATSL*SVC*SYNQNSITPCIH*FFHTWCLLP*QSFQILSFTFNSGLVLTFLFQCYLVPCYTCLWDQWY*EV**PCPTI**WCLFCFH*EV*HNKRLDFWYYFRFEDPVPTYC**RY*CCY*SL*ISIL**SIFGCLLPQKQQKLDGK*VQSLF*CE*LHF*ICLSAFSYGP*RKTG*FQKS*GICV*EY*WLF*NIF*AHAY*FSA*SPSGFFGFRTIGRFANRY*HH*VSNFTCFT*KLFDSW*FFFRLDSWCCSLLCGLSST*DFSIKI**KWNHYRCCRLCT*PSLRNKVYVEILHCRKRNLSNF*L*SPTNRIYC*IS*YYKLVPFW*SF*RHQICICLCLEQEENQQLCC*LFCPI*FRIIFHF*VLWSVSY*IK*SLLY*CLCRFICN*R**SQTNRSRANWKDC*L*L*ITR*FYRLRYSLEF*QS*F*GWW*L*LPV*IV*EV*SQTF*ERYFN*NLSGR*HTL*WC*RF*LLLSFTIIWFPTH*WCWLPTIQSSSTFF*TSTCTSNCLWT*KVY*FG*KQMCQFQLQWFNRHRCSY*V*QKVSAFPTIWQRHC*HY*CCP*STDT*DS*HYTMFFWWCQCYNTRNKYF*PGCCSLSGC*LHRSPCCYSCRSTYSYLACLFYRF*CFSNTCRLFNRG*TCQQLI*V*HTHWCRYMR*LSDSD*FSSAGT*CS*SIHHCLHYVTWCRKFSCLL**LYCHTHKFYY*CYHRNSTSVYDQDISRLYNVHLW*FN*MQQSFVAIWQFLYTIKPCFNWNSC*TRQKHPRSFCTSQTNLQNTTN*RFWWF*FFTNITRSIKTKQEVIY*RSTFQQSDTCRCWLHQTIW*LPW*YCC*RPHLCTKV*RPYCFATFAHR*NDCSIHFCTVSGYNHFWLDLWCRCCITNTICYANGL*V*WYWSYTECSL*EPKIDCQPI**CYWQNSRLTFFHSKCTWKTSRCGQPKCTSFKHAC*TT*LQFWCNFKCFK*YPFTS*QS*G*SAN**VDHRQTSKFADICDSTIN*SCRNQSFC*SCCY*NVRVCTWTIKKS*FLWKGLSSYVLPSVSTSWCSLLACDLCPCTRKELHNCSCHLS*WKSTLSS*RCLCFKWHTLVCNTKEFL*TTNHYYRQHICVW*L*CCNRNCQQHSL*SFAT*IRLIQGGVR*IF*ESYITRC*FR*HLWH*CFSCKHSKRN*PPQ*GCQEFK*ISHRSPRTWKV*AVYKMAMVHLARFYSWLDCHSNGDNYALLYDQLL*LSQGLLFLWILLQI**RRL*ASAQRSQITLHINELMDLFMRIFTIGTVTLKQGEIKDATPSDFVRATATIPIQASLPFGWLIVGVALLAVFQSASKIITLKKRWQLALSKGVHFVCNLLLLFVTVYSHLLLVAAGLEAPFLYLYALVYFLQSINFVRIIMRLWLCWKCRSKNPLLYDANYFLCWHTNCYDYCIPYNSVTSSIVITSGDGTTSPISEHDYQIGGYTEKWESGVKDCVVLHSYFTSDYYQLYSTQLSTDTGVEHVTFFIYNKIVDEPEEHVQIHTIDGSSGVVNPVMEPIYDEPTTTTSVPL*AQADEYELMYSFVSEETGTLIVNSVLLFLAFVVFLLVTLAILTALRLCAYCCNIVNVSLVKPSFYVYSRVKNLNSSRVPDLLV*TN*ILY*FFCLEL*F*PWQIPTVLLPLKSLKSSLNNGT***VSYSLHGFVFYNLPMPTGIGFCI*LS*FSSGCYGQ*L*LVLCLLLFTE*IGSPVELLSQWLVL*A*CGSATSLLLSDCLRVRVPCGHSIQKLTFFSTCHSMALF*PDRF*KVNS*SEL*SFVDIFVLLDTI*DAVTSRTCLKKSLLLHHERFLITNWELRSV*QVTQVLLHTVATGLATIN*TQTIPVAVTILLCLYSK*QQMFHLVDFQVTIAEILLIIMRTFKVSIWNLDYIINLIIKNLSKSLTENKYSQLDEEQPMEID*TNMKIILFLALITLATCELYHYQECVRGTTVLLKEPCSSGTYEGNSPFHPLADNKFALTCFSTQFAFACPDGVKHVYQLRARSVSPKLFIRQEEVQELYSPIFLIVAAIVFITLCFTLKRKTE*LNFH*LTSICAF*PFCYSLF*LCLLSFGSHLNCKIIMKLVTPKRT*NFLFS*ESSQL*LHFTKNVVYSHVLNINHM*LMTRVLFTSILNGILE*ELENQHL*LNCAWMRLVLNHPFSTSISVIIQFPVYLLQLIARNLNWVVL*CVVRSMKTF*SIMTFVLF*ISSKRTN*NV**WTPKSAKCTPHYVWWTLRFNWQ*PEWRTQWGAIKTTSAPRFTQ*YCVLVHRSHSTWQGRP*IPSRTRRSN*HQ*QSR*PNWLLPKSYQTNSWW*R*NERSQSKMVFLLPRNWARSWTSLWC*QRRHHMGCN*GSLEYTKRSHWHPQSC*QCCNRATTSSRNNIAKRLLRRREQRRQSSLFSFLIT*SQQFKKFNSRQQ*GNFSC*NGWQWR*CCSCFAAA*QIEPA*EQNVW*RPTTTRPNCH*EICC*GF*EASAKTYCH*SIQCNTSFRQTWSRTNPRKFWGPGTNQTRN*LQTLAANCTICPQRFSVLRNVAHWHGSHTFGNVVDLHRCHQIG*QRSKFQRSSHFAE*AY*RIQNIPTNRA*KGQKEEG**NSSLTAETEETANCDSSSCCRFG*FLQTIATIHEQC*LNSGLNSCRPHKADGLYKRFRFSVYDI*STLVQNEFS*LHSTSRCS*L*SHIAIFNQCVTLGRT*KSHHIFTEATRSTIECTVNNARESCLYGRALMCKINFSSAIPM*F**LLRRMTKKKKKKKKKK\n"
     ]
    }
   ],
   "source": [
    "# Most Frequent Amino Acid\n",
    "print(ncov_protein)"
   ]
  },
  {
   "cell_type": "code",
   "execution_count": 79,
   "metadata": {},
   "outputs": [],
   "source": [
    "from collections import Counter"
   ]
  },
  {
   "cell_type": "code",
   "execution_count": 80,
   "metadata": {},
   "outputs": [
    {
     "data": {
      "text/plain": [
       "[('L', 886),\n",
       " ('S', 810),\n",
       " ('*', 774),\n",
       " ('T', 679),\n",
       " ('C', 635),\n",
       " ('F', 593),\n",
       " ('R', 558),\n",
       " ('V', 548),\n",
       " ('Y', 505),\n",
       " ('N', 472)]"
      ]
     },
     "execution_count": 80,
     "metadata": {},
     "output_type": "execute_result"
    }
   ],
   "source": [
    "Counter(ncov_protein).most_common(10)"
   ]
  },
  {
   "cell_type": "markdown",
   "metadata": {},
   "source": [
    "### 3D Structure of Covid\n",
    "+ File Format\n",
    " - pdb :PDBParser() legacy\n",
    " - cif :MMCIFParser() recent\n",
    "\n",
    "#### links\n",
    "+ https://www.ncbi.nlm.nih.gov/Structure/pdb/6LU7\n",
    "+ Protein Data Bank\n",
    "\n",
    "#### Pkgs\n",
    "+ pip install nglview\n",
    "+ pip install py3Dmol\n",
    "+ pip install pytraj\n",
    "\n",
    "+ jupyter-nbextension enable nglview --py --sys-prefix\n",
    "+ nglview enable\n",
    "+ jupyter-labextension install @jupyter-widget/jupyterlab-manager\n",
    "+ jupyter-labextension install nglview-js-widgets"
   ]
  },
  {
   "cell_type": "code",
   "execution_count": 81,
   "metadata": {},
   "outputs": [],
   "source": [
    "from Bio.PDB import PDBParser,MMCIFParser"
   ]
  },
  {
   "cell_type": "code",
   "execution_count": 82,
   "metadata": {},
   "outputs": [
    {
     "name": "stderr",
     "output_type": "stream",
     "text": [
      "/home/pybokeh/miniconda3/envs/bio_dev/lib/python3.7/site-packages/Bio/PDB/StructureBuilder.py:92: PDBConstructionWarning: WARNING: Chain A is discontinuous at line 2837.\n",
      "  PDBConstructionWarning,\n"
     ]
    }
   ],
   "source": [
    "# Reading a PDB File\n",
    "parser = PDBParser()\n",
    "structure = parser.get_structure(\"6lu7\", \"data/6lu7.pdb\")"
   ]
  },
  {
   "cell_type": "code",
   "execution_count": 83,
   "metadata": {},
   "outputs": [
    {
     "data": {
      "text/plain": [
       "<Structure id=6lu7>"
      ]
     },
     "execution_count": 83,
     "metadata": {},
     "output_type": "execute_result"
    }
   ],
   "source": [
    "structure"
   ]
  },
  {
   "cell_type": "code",
   "execution_count": 84,
   "metadata": {},
   "outputs": [],
   "source": [
    "# Chains in the Protein Structure\n",
    "model = structure[0]"
   ]
  },
  {
   "cell_type": "code",
   "execution_count": 85,
   "metadata": {},
   "outputs": [
    {
     "name": "stdout",
     "output_type": "stream",
     "text": [
      "chain <Chain id=A>,chain_ID: A\n",
      "chain <Chain id=C>,chain_ID: C\n"
     ]
    }
   ],
   "source": [
    "for chain in model:\n",
    "    print(f'chain {chain},chain_ID: {chain.id}')"
   ]
  },
  {
   "cell_type": "code",
   "execution_count": null,
   "metadata": {},
   "outputs": [],
   "source": [
    "# Check the atoms\n",
    "for model in structure:\n",
    "    print(model)\n",
    "    for chain in model:\n",
    "        print(chain)\n",
    "        for residue in chain:\n",
    "            for atom in residue:\n",
    "                print(atom)"
   ]
  },
  {
   "cell_type": "markdown",
   "metadata": {},
   "source": [
    "#### Visualizing the 3D structure\n",
    "+ using nglview\n",
    "+ py3Dmol\n",
    "+ using pytraj\n",
    "+ squiggle"
   ]
  },
  {
   "cell_type": "code",
   "execution_count": 87,
   "metadata": {},
   "outputs": [
    {
     "data": {
      "application/vnd.jupyter.widget-view+json": {
       "model_id": "c38b6733723040c6bca876283426719e",
       "version_major": 2,
       "version_minor": 0
      },
      "text/plain": [
       "_ColormakerRegistry()"
      ]
     },
     "metadata": {},
     "output_type": "display_data"
    }
   ],
   "source": [
    "# View our 3D Structure\n",
    "import nglview as nv"
   ]
  },
  {
   "cell_type": "code",
   "execution_count": 88,
   "metadata": {},
   "outputs": [
    {
     "data": {
      "application/vnd.jupyter.widget-view+json": {
       "model_id": "c77a1468171f4e80a7f435b6dab2d050",
       "version_major": 2,
       "version_minor": 0
      },
      "text/plain": [
       "NGLWidget()"
      ]
     },
     "metadata": {},
     "output_type": "display_data"
    }
   ],
   "source": [
    "nv.demo()"
   ]
  },
  {
   "cell_type": "code",
   "execution_count": 89,
   "metadata": {},
   "outputs": [],
   "source": [
    "view =  nv.show_biopython(structure)"
   ]
  },
  {
   "cell_type": "code",
   "execution_count": 90,
   "metadata": {},
   "outputs": [
    {
     "data": {
      "application/vnd.jupyter.widget-view+json": {
       "model_id": "413d444bf3854ef699466567bcf396af",
       "version_major": 2,
       "version_minor": 0
      },
      "text/plain": [
       "NGLWidget()"
      ]
     },
     "metadata": {},
     "output_type": "display_data"
    }
   ],
   "source": [
    "view"
   ]
  },
  {
   "cell_type": "code",
   "execution_count": 106,
   "metadata": {},
   "outputs": [],
   "source": [
    "import py3Dmol"
   ]
  },
  {
   "cell_type": "code",
   "execution_count": 107,
   "metadata": {},
   "outputs": [],
   "source": [
    "view1 = py3Dmol.view(query='pdb:6LU7')"
   ]
  },
  {
   "cell_type": "code",
   "execution_count": 108,
   "metadata": {},
   "outputs": [
    {
     "data": {
      "application/3dmoljs_load.v0": "<div id=\"3dmolviewer_15886554149053638\"  style=\"position: relative; width: 640px; height: 480px\">\n        <p id=\"3dmolwarning_15886554149053638\" style=\"background-color:#ffcccc;color:black\">You appear to be running in JupyterLab (or JavaScript failed to load for some other reason).  You need to install the 3dmol extension: <br>\n        <tt>jupyter labextension install jupyterlab_3dmol</tt></p>\n        </div>\n<script>\n\nvar loadScriptAsync = function(uri){\n  return new Promise((resolve, reject) => {\n    var tag = document.createElement('script');\n    tag.src = uri;\n    tag.async = true;\n    tag.onload = () => {\n      resolve();\n    };\n  var firstScriptTag = document.getElementsByTagName('script')[0];\n  firstScriptTag.parentNode.insertBefore(tag, firstScriptTag);\n});\n};\n\nif(typeof $3Dmolpromise === 'undefined') {\n$3Dmolpromise = null;\n  $3Dmolpromise = loadScriptAsync('https://3dmol.csb.pitt.edu/build/3Dmol.js');\n}\n\nvar viewer_15886554149053638 = null;\nvar warn = document.getElementById(\"3dmolwarning_15886554149053638\");\nif(warn) {\n    warn.parentNode.removeChild(warn);\n}\n$3Dmolpromise.then(function() {\nviewer_15886554149053638 = $3Dmol.createViewer($(\"#3dmolviewer_15886554149053638\"),{backgroundColor:\"white\"});\n$3Dmol.download(\"pdb:6LU7\", viewer_15886554149053638, {}, function() {\n\tviewer_15886554149053638.setStyle({\"cartoon\": {\"color\": \"spectrum\"}});\nviewer_15886554149053638.render();\n})\n});\n</script>",
      "text/html": [
       "<div id=\"3dmolviewer_15886554149053638\"  style=\"position: relative; width: 640px; height: 480px\">\n",
       "        <p id=\"3dmolwarning_15886554149053638\" style=\"background-color:#ffcccc;color:black\">You appear to be running in JupyterLab (or JavaScript failed to load for some other reason).  You need to install the 3dmol extension: <br>\n",
       "        <tt>jupyter labextension install jupyterlab_3dmol</tt></p>\n",
       "        </div>\n",
       "<script>\n",
       "\n",
       "var loadScriptAsync = function(uri){\n",
       "  return new Promise((resolve, reject) => {\n",
       "    var tag = document.createElement('script');\n",
       "    tag.src = uri;\n",
       "    tag.async = true;\n",
       "    tag.onload = () => {\n",
       "      resolve();\n",
       "    };\n",
       "  var firstScriptTag = document.getElementsByTagName('script')[0];\n",
       "  firstScriptTag.parentNode.insertBefore(tag, firstScriptTag);\n",
       "});\n",
       "};\n",
       "\n",
       "if(typeof $3Dmolpromise === 'undefined') {\n",
       "$3Dmolpromise = null;\n",
       "  $3Dmolpromise = loadScriptAsync('https://3dmol.csb.pitt.edu/build/3Dmol.js');\n",
       "}\n",
       "\n",
       "var viewer_15886554149053638 = null;\n",
       "var warn = document.getElementById(\"3dmolwarning_15886554149053638\");\n",
       "if(warn) {\n",
       "    warn.parentNode.removeChild(warn);\n",
       "}\n",
       "$3Dmolpromise.then(function() {\n",
       "viewer_15886554149053638 = $3Dmol.createViewer($(\"#3dmolviewer_15886554149053638\"),{backgroundColor:\"white\"});\n",
       "$3Dmol.download(\"pdb:6LU7\", viewer_15886554149053638, {}, function() {\n",
       "\tviewer_15886554149053638.setStyle({\"cartoon\": {\"color\": \"spectrum\"}});\n",
       "viewer_15886554149053638.render();\n",
       "})\n",
       "});\n",
       "</script>"
      ]
     },
     "metadata": {},
     "output_type": "display_data"
    }
   ],
   "source": [
    "view1.setStyle({'cartoon':{'color':'spectrum'}})\n",
    "view1.show()"
   ]
  },
  {
   "cell_type": "code",
   "execution_count": 94,
   "metadata": {},
   "outputs": [
    {
     "data": {
      "application/3dmoljs_load.v0": "<div id=\"3dmolviewer_15886549656384122\"  style=\"position: relative; width: 640px; height: 480px\">\n        <p id=\"3dmolwarning_15886549656384122\" style=\"background-color:#ffcccc;color:black\">You appear to be running in JupyterLab (or JavaScript failed to load for some other reason).  You need to install the 3dmol extension: <br>\n        <tt>jupyter labextension install jupyterlab_3dmol</tt></p>\n        </div>\n<script>\n\nvar loadScriptAsync = function(uri){\n  return new Promise((resolve, reject) => {\n    var tag = document.createElement('script');\n    tag.src = uri;\n    tag.async = true;\n    tag.onload = () => {\n      resolve();\n    };\n  var firstScriptTag = document.getElementsByTagName('script')[0];\n  firstScriptTag.parentNode.insertBefore(tag, firstScriptTag);\n});\n};\n\nif(typeof $3Dmolpromise === 'undefined') {\n$3Dmolpromise = null;\n  $3Dmolpromise = loadScriptAsync('https://3dmol.csb.pitt.edu/build/3Dmol.js');\n}\n\nvar viewer_15886549656384122 = null;\nvar warn = document.getElementById(\"3dmolwarning_15886549656384122\");\nif(warn) {\n    warn.parentNode.removeChild(warn);\n}\n$3Dmolpromise.then(function() {\nviewer_15886549656384122 = $3Dmol.createViewer($(\"#3dmolviewer_15886549656384122\"),{backgroundColor:\"white\"});\n$3Dmol.download(\"pdb:6LU7\", viewer_15886549656384122, {}, function() {\n\tviewer_15886549656384122.setStyle({\"cartoon\": {\"color\": \"spectrum\"}});\nviewer_15886549656384122.render();\n})\n});\n</script>",
      "text/html": [
       "<div id=\"3dmolviewer_15886549656384122\"  style=\"position: relative; width: 640px; height: 480px\">\n",
       "        <p id=\"3dmolwarning_15886549656384122\" style=\"background-color:#ffcccc;color:black\">You appear to be running in JupyterLab (or JavaScript failed to load for some other reason).  You need to install the 3dmol extension: <br>\n",
       "        <tt>jupyter labextension install jupyterlab_3dmol</tt></p>\n",
       "        </div>\n",
       "<script>\n",
       "\n",
       "var loadScriptAsync = function(uri){\n",
       "  return new Promise((resolve, reject) => {\n",
       "    var tag = document.createElement('script');\n",
       "    tag.src = uri;\n",
       "    tag.async = true;\n",
       "    tag.onload = () => {\n",
       "      resolve();\n",
       "    };\n",
       "  var firstScriptTag = document.getElementsByTagName('script')[0];\n",
       "  firstScriptTag.parentNode.insertBefore(tag, firstScriptTag);\n",
       "});\n",
       "};\n",
       "\n",
       "if(typeof $3Dmolpromise === 'undefined') {\n",
       "$3Dmolpromise = null;\n",
       "  $3Dmolpromise = loadScriptAsync('https://3dmol.csb.pitt.edu/build/3Dmol.js');\n",
       "}\n",
       "\n",
       "var viewer_15886549656384122 = null;\n",
       "var warn = document.getElementById(\"3dmolwarning_15886549656384122\");\n",
       "if(warn) {\n",
       "    warn.parentNode.removeChild(warn);\n",
       "}\n",
       "$3Dmolpromise.then(function() {\n",
       "viewer_15886549656384122 = $3Dmol.createViewer($(\"#3dmolviewer_15886549656384122\"),{backgroundColor:\"white\"});\n",
       "$3Dmol.download(\"pdb:6LU7\", viewer_15886549656384122, {}, function() {\n",
       "\tviewer_15886549656384122.setStyle({\"cartoon\": {\"color\": \"spectrum\"}});\n",
       "viewer_15886549656384122.render();\n",
       "})\n",
       "});\n",
       "</script>"
      ]
     },
     "metadata": {},
     "output_type": "display_data"
    }
   ],
   "source": [
    "view1.show()"
   ]
  },
  {
   "cell_type": "code",
   "execution_count": 95,
   "metadata": {},
   "outputs": [
    {
     "data": {
      "application/vnd.jupyter.widget-view+json": {
       "model_id": "ae20cd5e4945427a8d2db9692332902f",
       "version_major": 2,
       "version_minor": 0
      },
      "text/plain": [
       "Image(value=b'', width='99%')"
      ]
     },
     "metadata": {},
     "output_type": "display_data"
    }
   ],
   "source": [
    "view.render_image()"
   ]
  },
  {
   "cell_type": "code",
   "execution_count": 109,
   "metadata": {},
   "outputs": [],
   "source": [
    "import pytraj as pt"
   ]
  },
  {
   "cell_type": "code",
   "execution_count": 110,
   "metadata": {},
   "outputs": [],
   "source": [
    "# Load file\n",
    "ncov_traj = pt.load(\"data/6lu7.pdb\")"
   ]
  },
  {
   "cell_type": "code",
   "execution_count": 111,
   "metadata": {},
   "outputs": [],
   "source": [
    "view3 = nv.show_pytraj(ncov_traj)"
   ]
  },
  {
   "cell_type": "code",
   "execution_count": 112,
   "metadata": {},
   "outputs": [
    {
     "data": {
      "application/vnd.jupyter.widget-view+json": {
       "model_id": "6b2c7b9a77114a9b99ded72b9b7cf5e2",
       "version_major": 2,
       "version_minor": 0
      },
      "text/plain": [
       "NGLWidget()"
      ]
     },
     "metadata": {},
     "output_type": "display_data"
    }
   ],
   "source": [
    "view3"
   ]
  },
  {
   "cell_type": "code",
   "execution_count": 100,
   "metadata": {},
   "outputs": [
    {
     "data": {
      "application/vnd.jupyter.widget-view+json": {
       "model_id": "7488d287a54746c1b3e705ffd01d3f84",
       "version_major": 2,
       "version_minor": 0
      },
      "text/plain": [
       "Image(value=b'', width='99%')"
      ]
     },
     "metadata": {},
     "output_type": "display_data"
    }
   ],
   "source": [
    "view3.render_image()"
   ]
  },
  {
   "cell_type": "code",
   "execution_count": 105,
   "metadata": {},
   "outputs": [
    {
     "data": {
      "image/png": "[encoded data removed]",
      "text/plain": [
       "<IPython.core.display.Image object>"
      ]
     },
     "execution_count": 105,
     "metadata": {},
     "output_type": "execute_result"
    }
   ],
   "source": [
    "view3._display_image()"
   ]
  }
 ],
 "metadata": {
  "kernelspec": {
   "display_name": "Python (bio_dev)",
   "language": "python",
   "name": "bio_dev"
  },
  "language_info": {
   "codemirror_mode": {
    "name": "ipython",
    "version": 3
   },
   "file_extension": ".py",
   "mimetype": "text/x-python",
   "name": "python",
   "nbconvert_exporter": "python",
   "pygments_lexer": "ipython3",
   "version": "3.7.7"
  }
 },
 "nbformat": 4,
 "nbformat_minor": 4
}
