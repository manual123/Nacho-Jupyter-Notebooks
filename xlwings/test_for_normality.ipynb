{
 "cells": [
  {
   "cell_type": "markdown",
   "metadata": {},
   "source": [
    "<center><h1>Testing for Normality</h1></center>"
   ]
  },
  {
   "cell_type": "code",
   "execution_count": 1,
   "metadata": {
    "collapsed": true,
    "run_control": {
     "read_only": false
    }
   },
   "outputs": [],
   "source": [
    "%matplotlib inline\n",
    "import pyodbc\n",
    "import pandas as pd\n",
    "import xlwings as xw\n",
    "import scipy.stats as stats\n",
    "import numpy as np\n",
    "import matplotlib.pyplot as plt\n",
    "plt.style.use('ggplot')"
   ]
  },
  {
   "cell_type": "code",
   "execution_count": 12,
   "metadata": {
    "collapsed": false,
    "run_control": {
     "read_only": false
    }
   },
   "outputs": [
    {
     "data": {
      "text/html": [
       "<div>\n",
       "<table border=\"1\" class=\"dataframe\">\n",
       "  <thead>\n",
       "    <tr style=\"text-align: right;\">\n",
       "      <th></th>\n",
       "      <th>VIN</th>\n",
       "      <th>FAIL_SHORT_PARTNO</th>\n",
       "      <th>FAIL_SHORT_PARTNAME</th>\n",
       "      <th>FAIL_PARTNO</th>\n",
       "      <th>FAIL_PART_DESC</th>\n",
       "      <th>PART_COST_USD</th>\n",
       "      <th>CLAIM_COST_USD</th>\n",
       "      <th>CUST_CONTENTION_TEXT_ENRICHED</th>\n",
       "      <th>CUSTOMER_CONTENTION_TEXT</th>\n",
       "      <th>RO_COMPLAINT_DESC</th>\n",
       "      <th>...</th>\n",
       "      <th>FOUR_WHEEL_DRIVE</th>\n",
       "      <th>NAVIGATION</th>\n",
       "      <th>AF_OFF_YR_MTH</th>\n",
       "      <th>RO_YR_MTH</th>\n",
       "      <th>PRI_LAB_OPRTN_CD</th>\n",
       "      <th>CLM_SK</th>\n",
       "      <th>VIN_SK</th>\n",
       "      <th>CLM_NO</th>\n",
       "      <th>CLAIM_DLR_NO</th>\n",
       "      <th>DEFECT_CODE</th>\n",
       "    </tr>\n",
       "  </thead>\n",
       "  <tbody>\n",
       "    <tr>\n",
       "      <th>0</th>\n",
       "      <td>19UUB1F30FA000510</td>\n",
       "      <td>31500</td>\n",
       "      <td>BAT</td>\n",
       "      <td>31500-TZ4-100M</td>\n",
       "      <td>BAT (GR35/470CCA)</td>\n",
       "      <td>69.25</td>\n",
       "      <td>128.45</td>\n",
       "      <td>CUSTOMER STATE VEHICLE HAVE TO BE JUMP START C...</td>\n",
       "      <td>CUSTOMER STATES VEHICLE HAD TO BE JUMP STARTED...</td>\n",
       "      <td>CUSTOMER STATES VEHICLE HAD TO BE JUMP STARTED...</td>\n",
       "      <td>...</td>\n",
       "      <td>N</td>\n",
       "      <td>N</td>\n",
       "      <td>2014-08</td>\n",
       "      <td>2015-01</td>\n",
       "      <td>710100</td>\n",
       "      <td>78528739</td>\n",
       "      <td>38371672</td>\n",
       "      <td>191581</td>\n",
       "      <td>251551</td>\n",
       "      <td>56000</td>\n",
       "    </tr>\n",
       "    <tr>\n",
       "      <th>1</th>\n",
       "      <td>19UUB1F30FA001107</td>\n",
       "      <td>31500</td>\n",
       "      <td>BAT</td>\n",
       "      <td>31500-TZ4-100M</td>\n",
       "      <td>BAT (GR35/470CCA)</td>\n",
       "      <td>69.25</td>\n",
       "      <td>151.46</td>\n",
       "      <td>CUSTOMER STATE CAR BAD START FIND BAD BATTERY ...</td>\n",
       "      <td>CUSTOMER STATES CAR HARD TO START. FOUND BATTE...</td>\n",
       "      <td>CUSTOMER STATES BATTERY DEAD. REPLACE BATTERY ...</td>\n",
       "      <td>...</td>\n",
       "      <td>N</td>\n",
       "      <td>N</td>\n",
       "      <td>2014-08</td>\n",
       "      <td>2015-08</td>\n",
       "      <td>710100</td>\n",
       "      <td>82920571</td>\n",
       "      <td>38410120</td>\n",
       "      <td>821114</td>\n",
       "      <td>251069</td>\n",
       "      <td>56200</td>\n",
       "    </tr>\n",
       "    <tr>\n",
       "      <th>2</th>\n",
       "      <td>19UUB1F30FA002385</td>\n",
       "      <td>31500</td>\n",
       "      <td>BAT</td>\n",
       "      <td>31500-TZ4-100M</td>\n",
       "      <td>BAT (GR35/470CCA)</td>\n",
       "      <td>69.25</td>\n",
       "      <td>123.95</td>\n",
       "      <td>BATTERY INOP UNIT BE BAD START</td>\n",
       "      <td>BATTERY NOT WORKING UNIT IS NOT STARTING</td>\n",
       "      <td>MISSING                                       ...</td>\n",
       "      <td>...</td>\n",
       "      <td>N</td>\n",
       "      <td>N</td>\n",
       "      <td>2014-08</td>\n",
       "      <td>2015-07</td>\n",
       "      <td>710100</td>\n",
       "      <td>82025367</td>\n",
       "      <td>38471937</td>\n",
       "      <td>082721</td>\n",
       "      <td>295526</td>\n",
       "      <td>56000</td>\n",
       "    </tr>\n",
       "    <tr>\n",
       "      <th>3</th>\n",
       "      <td>19UUB1F30FA002497</td>\n",
       "      <td>31500</td>\n",
       "      <td>BAT</td>\n",
       "      <td>31500-TZ4-100M</td>\n",
       "      <td>BAT (GR35/470CCA)</td>\n",
       "      <td>69.08</td>\n",
       "      <td>158.4</td>\n",
       "      <td>CUSTOMER STATE VEHICLE BAD START PLEASE BAD BA...</td>\n",
       "      <td>CUSTOMER STATES VEHICLE HARD TO START, PLEASE ...</td>\n",
       "      <td>CUSTOMER STATES VEHICLE HARD TO START, PLEASE ...</td>\n",
       "      <td>...</td>\n",
       "      <td>N</td>\n",
       "      <td>N</td>\n",
       "      <td>2014-08</td>\n",
       "      <td>2016-02</td>\n",
       "      <td>710100</td>\n",
       "      <td>87944166</td>\n",
       "      <td>38480389</td>\n",
       "      <td>321777</td>\n",
       "      <td>251095</td>\n",
       "      <td>56000</td>\n",
       "    </tr>\n",
       "    <tr>\n",
       "      <th>4</th>\n",
       "      <td>19UUB1F30FA002662</td>\n",
       "      <td>31500</td>\n",
       "      <td>BAT</td>\n",
       "      <td>31500-TZ4-100M</td>\n",
       "      <td>BAT (GR35/470CCA)</td>\n",
       "      <td>69.25</td>\n",
       "      <td>185.69</td>\n",
       "      <td>SEVERAL WARNING LIGHT COME ON CAR BE TOW IN TE...</td>\n",
       "      <td>SEVERAL WARNING LIGHTS CAME ON. CAR WAS TOWED ...</td>\n",
       "      <td>UNKNOWN                                       ...</td>\n",
       "      <td>...</td>\n",
       "      <td>N</td>\n",
       "      <td>N</td>\n",
       "      <td>2014-08</td>\n",
       "      <td>2015-09</td>\n",
       "      <td>710100</td>\n",
       "      <td>84083814</td>\n",
       "      <td>38488891</td>\n",
       "      <td>452191</td>\n",
       "      <td>251507</td>\n",
       "      <td>56000</td>\n",
       "    </tr>\n",
       "  </tbody>\n",
       "</table>\n",
       "<p>5 rows × 48 columns</p>\n",
       "</div>"
      ],
      "text/plain": [
       "                 VIN FAIL_SHORT_PARTNO FAIL_SHORT_PARTNAME     FAIL_PARTNO  \\\n",
       "0  19UUB1F30FA000510             31500                 BAT  31500-TZ4-100M   \n",
       "1  19UUB1F30FA001107             31500                 BAT  31500-TZ4-100M   \n",
       "2  19UUB1F30FA002385             31500                 BAT  31500-TZ4-100M   \n",
       "3  19UUB1F30FA002497             31500                 BAT  31500-TZ4-100M   \n",
       "4  19UUB1F30FA002662             31500                 BAT  31500-TZ4-100M   \n",
       "\n",
       "      FAIL_PART_DESC PART_COST_USD CLAIM_COST_USD  \\\n",
       "0  BAT (GR35/470CCA)         69.25         128.45   \n",
       "1  BAT (GR35/470CCA)         69.25         151.46   \n",
       "2  BAT (GR35/470CCA)         69.25         123.95   \n",
       "3  BAT (GR35/470CCA)         69.08          158.4   \n",
       "4  BAT (GR35/470CCA)         69.25         185.69   \n",
       "\n",
       "                       CUST_CONTENTION_TEXT_ENRICHED  \\\n",
       "0  CUSTOMER STATE VEHICLE HAVE TO BE JUMP START C...   \n",
       "1  CUSTOMER STATE CAR BAD START FIND BAD BATTERY ...   \n",
       "2                     BATTERY INOP UNIT BE BAD START   \n",
       "3  CUSTOMER STATE VEHICLE BAD START PLEASE BAD BA...   \n",
       "4  SEVERAL WARNING LIGHT COME ON CAR BE TOW IN TE...   \n",
       "\n",
       "                            CUSTOMER_CONTENTION_TEXT  \\\n",
       "0  CUSTOMER STATES VEHICLE HAD TO BE JUMP STARTED...   \n",
       "1  CUSTOMER STATES CAR HARD TO START. FOUND BATTE...   \n",
       "2           BATTERY NOT WORKING UNIT IS NOT STARTING   \n",
       "3  CUSTOMER STATES VEHICLE HARD TO START, PLEASE ...   \n",
       "4  SEVERAL WARNING LIGHTS CAME ON. CAR WAS TOWED ...   \n",
       "\n",
       "                                   RO_COMPLAINT_DESC     ...      \\\n",
       "0  CUSTOMER STATES VEHICLE HAD TO BE JUMP STARTED...     ...       \n",
       "1  CUSTOMER STATES BATTERY DEAD. REPLACE BATTERY ...     ...       \n",
       "2  MISSING                                       ...     ...       \n",
       "3  CUSTOMER STATES VEHICLE HARD TO START, PLEASE ...     ...       \n",
       "4  UNKNOWN                                       ...     ...       \n",
       "\n",
       "  FOUR_WHEEL_DRIVE NAVIGATION AF_OFF_YR_MTH RO_YR_MTH PRI_LAB_OPRTN_CD  \\\n",
       "0                N          N       2014-08   2015-01           710100   \n",
       "1                N          N       2014-08   2015-08           710100   \n",
       "2                N          N       2014-08   2015-07           710100   \n",
       "3                N          N       2014-08   2016-02           710100   \n",
       "4                N          N       2014-08   2015-09           710100   \n",
       "\n",
       "     CLM_SK    VIN_SK  CLM_NO CLAIM_DLR_NO DEFECT_CODE  \n",
       "0  78528739  38371672  191581       251551       56000  \n",
       "1  82920571  38410120  821114       251069       56200  \n",
       "2  82025367  38471937  082721       295526       56000  \n",
       "3  87944166  38480389  321777       251095       56000  \n",
       "4  84083814  38488891  452191       251507       56000  \n",
       "\n",
       "[5 rows x 48 columns]"
      ]
     },
     "execution_count": 12,
     "metadata": {},
     "output_type": "execute_result"
    }
   ],
   "source": [
    "wb = xw.Workbook.active()\n",
    "data = xw.Range('A1').table.value\n",
    "df = pd.DataFrame(data=data[1:], columns=data[0])\n",
    "df.sort_values(by=['VIN','DAYS_TO_FAIL_MINZERO'], inplace=True)\n",
    "df.head()"
   ]
  },
  {
   "cell_type": "code",
   "execution_count": 7,
   "metadata": {
    "collapsed": false,
    "run_control": {
     "read_only": false
    }
   },
   "outputs": [
    {
     "data": {
      "image/png": "[encoded data removed]",
      "text/plain": [
       "<matplotlib.figure.Figure at 0x8de7ff0>"
      ]
     },
     "metadata": {},
     "output_type": "display_data"
    }
   ],
   "source": [
    "df.MILES_TO_FAIL.plot.hist()\n",
    "plt.show()"
   ]
  },
  {
   "cell_type": "code",
   "execution_count": 9,
   "metadata": {
    "collapsed": false,
    "run_control": {
     "read_only": false
    }
   },
   "outputs": [
    {
     "data": {
      "text/plain": [
       "count    640.000000\n",
       "mean     451.431250\n",
       "std       14.968981\n",
       "min      405.000000\n",
       "25%      441.000000\n",
       "50%      452.000000\n",
       "75%      461.000000\n",
       "max      495.000000\n",
       "Name: Array1, dtype: float64"
      ]
     },
     "execution_count": 9,
     "metadata": {},
     "output_type": "execute_result"
    }
   ],
   "source": [
    "df.Array1.describe()"
   ]
  },
  {
   "cell_type": "code",
   "execution_count": 8,
   "metadata": {
    "collapsed": false,
    "run_control": {
     "read_only": false
    }
   },
   "outputs": [
    {
     "data": {
      "image/png": "[encoded data removed]",
      "text/plain": [
       "<matplotlib.figure.Figure at 0x9335990>"
      ]
     },
     "metadata": {},
     "output_type": "display_data"
    }
   ],
   "source": [
    "z = (df.MILES_TO_FAIL-df.MILES_TO_FAIL.mean())/df.MILES_TO_FAIL.std()\n",
    "stats.probplot(z, dist=\"norm\", plot=plt)\n",
    "plt.title(\"Normal Q-Q plot\")\n",
    "plt.show()"
   ]
  },
  {
   "cell_type": "code",
   "execution_count": 39,
   "metadata": {
    "collapsed": false,
    "run_control": {
     "read_only": false
    }
   },
   "outputs": [
    {
     "name": "stdout",
     "output_type": "stream",
     "text": [
      "Help on function normaltest in module scipy.stats.stats:\n",
      "\n",
      "normaltest(a, axis=0)\n",
      "    Tests whether a sample differs from a normal distribution.\n",
      "    \n",
      "    This function tests the null hypothesis that a sample comes\n",
      "    from a normal distribution.  It is based on D'Agostino and\n",
      "    Pearson's [1]_, [2]_ test that combines skew and kurtosis to\n",
      "    produce an omnibus test of normality.\n",
      "    \n",
      "    \n",
      "    Parameters\n",
      "    ----------\n",
      "    a : array_like\n",
      "        The array containing the data to be tested.\n",
      "    axis : int or None, optional\n",
      "        Axis along which to compute test. Default is 0. If None,\n",
      "        compute over the whole array `a`.\n",
      "    \n",
      "    Returns\n",
      "    -------\n",
      "    statistic : float or array\n",
      "        `s^2 + k^2`, where `s` is the z-score returned by `skewtest` and\n",
      "        `k` is the z-score returned by `kurtosistest`.\n",
      "    pvalue : float or array\n",
      "       A 2-sided chi squared probability for the hypothesis test.\n",
      "    \n",
      "    References\n",
      "    ----------\n",
      "    .. [1] D'Agostino, R. B. (1971), \"An omnibus test of normality for\n",
      "           moderate and large sample size,\" Biometrika, 58, 341-348\n",
      "    \n",
      "    .. [2] D'Agostino, R. and Pearson, E. S. (1973), \"Testing for\n",
      "           departures from normality,\" Biometrika, 60, 613-622\n",
      "\n"
     ]
    }
   ],
   "source": [
    "help(stats.normaltest)"
   ]
  },
  {
   "cell_type": "code",
   "execution_count": 22,
   "metadata": {
    "collapsed": false,
    "run_control": {
     "read_only": false
    }
   },
   "outputs": [
    {
     "name": "stdout",
     "output_type": "stream",
     "text": [
      "Data most likely is normally distributed\n"
     ]
    }
   ],
   "source": [
    "statistic, pvalue = stats.normaltest(df.Array1)\n",
    "if pvalue > 0.05:\n",
    "    print(\"Data most likely is normally distributed\")\n",
    "else:\n",
    "    print(\"Data is not likely to be normally distributed\")"
   ]
  },
  {
   "cell_type": "code",
   "execution_count": 36,
   "metadata": {
    "collapsed": false,
    "run_control": {
     "read_only": false
    }
   },
   "outputs": [
    {
     "data": {
      "image/png": "[encoded data removed]",
      "text/plain": [
       "<matplotlib.figure.Figure at 0x7588cd0>"
      ]
     },
     "metadata": {},
     "output_type": "display_data"
    }
   ],
   "source": [
    "fig, axes = plt.subplots(nrows=2, ncols=1, figsize=(6,8))\n",
    "\n",
    "ax1 = plt.subplot(211)\n",
    "df.Array1.plot.hist()\n",
    "ax1.set_title(\"Histogram\")\n",
    "\n",
    "ax2 = plt.subplot(212)\n",
    "z = (df.Array1-df.Array1.mean())/df.Array1.std()\n",
    "stats.probplot(z, dist=\"norm\", plot=plt,)\n",
    "ax2.set_title(\"Normal Q-Q Plot\")\n",
    "\n",
    "plt.show()"
   ]
  }
 ],
 "metadata": {
  "kernelspec": {
   "display_name": "Python 3",
   "language": "python",
   "name": "python3"
  },
  "language_info": {
   "codemirror_mode": {
    "name": "ipython",
    "version": 3
   },
   "file_extension": ".py",
   "mimetype": "text/x-python",
   "name": "python",
   "nbconvert_exporter": "python",
   "pygments_lexer": "ipython3",
   "version": "3.4.4"
  }
 },
 "nbformat": 4,
 "nbformat_minor": 0
}
