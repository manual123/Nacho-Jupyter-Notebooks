{
 "cells": [
  {
   "cell_type": "markdown",
   "id": "demanding-antibody",
   "metadata": {},
   "source": [
    "# Deploying Punctuation and Capitalization Model in JARVIS"
   ]
  },
  {
   "cell_type": "markdown",
   "id": "federal-quarterly",
   "metadata": {},
   "source": [
    "[Transfer Learning Toolkit (TLT)](https://developer.nvidia.com/transfer-learning-toolkit) provides the capability to export your model in a format that can deployed using Nvidia [Jarvis](https://developer.nvidia.com/nvidia-jarvis), a highly performant application framework for multi-modal conversational AI services using GPUs.\n",
    "\n",
    "This tutorial explores taking an .ejrvs model, the result of `tlt punctuation_and_capitalization export` command, and leveraging the Jarvis ServiceMaker framework to aggregate all the necessary artifacts for Jarvis deployment to a target environment. Once the model is deployed in Jarvis, you can issue inference requests to the server. We will demonstrate how quick and straightforward this whole process is."
   ]
  },
  {
   "cell_type": "markdown",
   "id": "involved-rider",
   "metadata": {},
   "source": [
    "## Learning Objectives\n",
    "\n",
    "In this notebook, you will learn how to:  \n",
    "- Use Jarvis ServiceMaker to take a TLT exported .ejrvs and convert it to .jmir\n",
    "- Deploy the model(s) locally  on the Jarvis Server\n",
    "- Send inference requests from a demo client using Jarvis API bindings."
   ]
  },
  {
   "cell_type": "markdown",
   "id": "unusual-trance",
   "metadata": {},
   "source": [
    "## Prerequisites\n",
    "Before going through the jupyter notebook, please make sure:\n",
    "- You have access to NVIDIA NGC, and are able to download the Jarvis Quickstart [resources](https://ngc.nvidia.com/resources/ea-jarvis-stage:jarvis_quickstart/)\n",
    "- Have an .ejrvs model file that you wish to deploy. You can obtain this from ``tlt <task> export`` (with ``export_format=JARVIS``). \n",
    "\n",
    "<b>NOTE:</b> Please refer to the tutorial on *Punctuation And Capitalization using Transfer Learning Toolkit* for more details on training and exporting an .ejrvs model for punctuation and capitalization task."
   ]
  },
  {
   "cell_type": "markdown",
   "id": "expected-schedule",
   "metadata": {},
   "source": [
    "## Jarvis ServiceMaker\n",
    "\n",
    "Servicemaker is the set of tools that aggregates all the necessary artifacts (models, files, configurations, and user settings) for Jarvis deployment to a target environment. It has two main components as shown below:\n",
    "\n",
    "### 1. Jarvis-build\n",
    "\n",
    "This step helps build a Jarvis-ready version of the model. It’s only output is an intermediate format (called a JMIR) of an end to end pipeline for the supported services within Jarvis. We are taking a ASR QuartzNet Model in consideration<br>\n",
    "\n",
    "`jarvis-build` is responsible for the combination of one or more exported models (.ejrvs files) into a single file containing an intermediate format called Jarvis Model Intermediate Representation (.jmir). This file contains a deployment-agnostic specification of the whole end-to-end pipeline along with all the assets required for the final deployment and inference. Please checkout the [documentation](http://docs.jarvis-ai.nvidia.com/release-1-0/service-nlp.html) to find out more."
   ]
  },
  {
   "cell_type": "code",
   "execution_count": null,
   "id": "worst-manchester",
   "metadata": {},
   "outputs": [],
   "source": [
    "# IMPORTANT: Set the following variables\n",
    "\n",
    "# ServiceMaker Docker\n",
    "JARVIS_SM_CONTAINER = \"<Jarvis_Servicemaker_Image>\"\n",
    "\n",
    "# Directory where the .ejrvs model is stored $MODEL_LOC/*.ejrvs\n",
    "MODEL_LOC = \"<path_to_model_directory>\"\n",
    "\n",
    "# Name of the .erjvs file\n",
    "MODEL_NAME = \"<add model name>\"\n",
    "\n",
    "# Use the same key that .ejrvs model is encrypted with\n",
    "KEY = \"<add encryption key used for trained model>\""
   ]
  },
  {
   "cell_type": "code",
   "execution_count": null,
   "id": "tracked-midnight",
   "metadata": {},
   "outputs": [],
   "source": [
    "# Pull the ServiceMaker Image\n",
    "!docker pull $JARVIS_SM_CONTAINER"
   ]
  },
  {
   "cell_type": "code",
   "execution_count": null,
   "id": "above-mainstream",
   "metadata": {},
   "outputs": [],
   "source": [
    "# Syntax: jarvis-build <task-name> output-dir-for-jmir/model.jmir:key dir-for-ejrvs/model.ejrvs:key\n",
    "!docker run --rm --gpus all -v $MODEL_LOC:/data $JARVIS_SM_CONTAINER -- \\\n",
    "    jarvis-build punctuation -f /data/punct-capit.jmir:$KEY /data/$MODEL_NAME:$KEY"
   ]
  },
  {
   "cell_type": "markdown",
   "id": "breeding-flash",
   "metadata": {},
   "source": [
    "`NOTE:` Above, punct-capit-model.ejrvs is the punctuation and capitalization model obtained from `tlt punctuation_and_capitalization export`"
   ]
  },
  {
   "cell_type": "markdown",
   "id": "perfect-kuwait",
   "metadata": {},
   "source": [
    "### 2. Jarvis-deploy\n",
    "\n",
    "The deployment tool takes as input one or more Jarvis Model Intermediate Representation (JMIR) files and a target model repository directory. It creates an ensemble configuration specifying the pipeline for the execution and finally writes all those assets to the output model repository directory."
   ]
  },
  {
   "cell_type": "code",
   "execution_count": null,
   "id": "aware-credits",
   "metadata": {},
   "outputs": [],
   "source": [
    "# Syntax: jarvis-deploy -f dir-for-jmir/model.jmir:key output-dir-for-repository\n",
    "!docker run --rm --gpus all -v $MODEL_LOC:/data $JARVIS_SM_CONTAINER -- \\\n",
    "     jarvis-deploy -f /data/punct-capit.jmir:$KEY /data/models"
   ]
  },
  {
   "cell_type": "markdown",
   "id": "valued-chapel",
   "metadata": {},
   "source": [
    "## Start Jarvis Server\n",
    "\n",
    "Once the model repository is generated, we are ready to start the Jarvis server. From this step onwards you need to download the Jarvis QuickStart Resource from NGC. "
   ]
  },
  {
   "cell_type": "code",
   "execution_count": null,
   "id": "considered-voluntary",
   "metadata": {},
   "outputs": [],
   "source": [
    "### Set the path to Jarvis directory\n",
    "JARVIS_DIR = <path_to_jarvis_quickstart>"
   ]
  },
  {
   "cell_type": "markdown",
   "id": "young-table",
   "metadata": {},
   "source": [
    "Next, we modify ``config.sh`` to enable relevant Jarvis services (nlp for Punctuation & Capitalization model), provide the encryption key, and path to the model repository (``jarvis_model_loc``) generated in the previous step among other configurations.\n",
    "\n",
    "Pretrained versions of models specified in models_asr/nlp/tts are fetched from NGC. Since we are using our custom model, we can comment it in models_nlp (and any others that are not relevant to our use case). "
   ]
  },
  {
   "cell_type": "markdown",
   "id": "african-sequence",
   "metadata": {},
   "source": [
    "### config.sh snippet\n",
    "```\n",
    "# Enable or Disable Jarvis Services \n",
    "service_enabled_asr=false                                                      ## MAKE CHANGES HERE\n",
    "service_enabled_nlp=true                                                      ## MAKE CHANGES HERE\n",
    "service_enabled_tts=false                                                     ## MAKE CHANGES HERE\n",
    "\n",
    "# Specify one or more GPUs to use\n",
    "# specifying more than one GPU is currently an experimental feature, and may result in undefined behaviours.\n",
    "gpus_to_use=\"device=0\"\n",
    "\n",
    "# Specify the encryption key to use to deploy models\n",
    "MODEL_DEPLOY_KEY=\"tlt_encode\"                                                  ## MAKE CHANGES HERE\n",
    "\n",
    "# Locations to use for storing models artifacts\n",
    "#\n",
    "# If an absolute path is specified, the data will be written to that location\n",
    "# Otherwise, a docker volume will be used (default).\n",
    "#\n",
    "# jarvis_init.sh will create a `jmir` and `models` directory in the volume or\n",
    "# path specified. \n",
    "#\n",
    "# JMIR ($jarvis_model_loc/jmir)\n",
    "# Jarvis uses an intermediate representation (JMIR) for models\n",
    "# that are ready to deploy but not yet fully optimized for deployment. Pretrained\n",
    "# versions can be obtained from NGC (by specifying NGC models below) and will be\n",
    "# downloaded to $jarvis_model_loc/jmir by `jarvis_init.sh`\n",
    "# \n",
    "# Custom models produced by NeMo or TLT and prepared using jarvis-build\n",
    "# may also be copied manually to this location $(jarvis_model_loc/jmir).\n",
    "#\n",
    "# Models ($jarvis_model_loc/models)\n",
    "# During the jarvis_init process, the JMIR files in $jarvis_model_loc/jmir\n",
    "# are inspected and optimized for deployment. The optimized versions are\n",
    "# stored in $jarvis_model_loc/models. The jarvis server exclusively uses these\n",
    "# optimized versions.\n",
    "jarvis_model_loc=\"<add path>\"                              ## MAKE CHANGES HERE (Replace with MODEL_LOC)\n",
    "```"
   ]
  },
  {
   "cell_type": "code",
   "execution_count": null,
   "id": "accurate-dancing",
   "metadata": {},
   "outputs": [],
   "source": [
    "# Ensure you have permission to execute these scripts.\n",
    "!cd $JARVIS_DIR && chmod +x ./jarvis_init.sh && chmod +x ./jarvis_start.sh"
   ]
  },
  {
   "cell_type": "code",
   "execution_count": null,
   "id": "settled-extraction",
   "metadata": {},
   "outputs": [],
   "source": [
    "# Run Jarvis Init. This will fetch the containers/models\n",
    "# YOU CAN SKIP THIS STEP IF YOU DID JARVIS DEPLOY\n",
    "!cd $JARVIS_DIR && ./jarvis_init.sh config.sh"
   ]
  },
  {
   "cell_type": "code",
   "execution_count": null,
   "id": "defensive-faith",
   "metadata": {},
   "outputs": [],
   "source": [
    " # Run Jarvis Start. This will deploy your model(s).\n",
    "!cd $JARVIS_DIR && ./jarvis_start.sh config.sh"
   ]
  },
  {
   "cell_type": "markdown",
   "id": "chief-greensboro",
   "metadata": {},
   "source": [
    "## Run Inference\n",
    "Once the Jarvis server is up and running with your models, you can send inference requests querying the server. \n",
    "\n",
    "To send GRPC requests, you can install Jarvis Python API bindings for client. This is available as a pip .whl with the QuickStart."
   ]
  },
  {
   "cell_type": "code",
   "execution_count": null,
   "id": "inappropriate-tomato",
   "metadata": {},
   "outputs": [],
   "source": [
    "# IMPORTANT: Set the name of the whl file\n",
    "JARVIS_API_WHL = \"<add jarvis api .whl file name>\""
   ]
  },
  {
   "cell_type": "code",
   "execution_count": null,
   "id": "pediatric-junior",
   "metadata": {},
   "outputs": [],
   "source": [
    "# Install client API bindings\n",
    "!cd $JARVIS_DIR && pip install $JARVIS_API_WHL"
   ]
  },
  {
   "cell_type": "markdown",
   "id": "temporal-sense",
   "metadata": {},
   "source": [
    "Run the following sample code from within the client docker container:"
   ]
  },
  {
   "cell_type": "code",
   "execution_count": null,
   "id": "decreased-excitement",
   "metadata": {},
   "outputs": [],
   "source": [
    "import grpc\n",
    "import argparse\n",
    "import os\n",
    "import jarvis_api.jarvis_nlp_core_pb2 as jcnlp\n",
    "import jarvis_api.jarvis_nlp_core_pb2_grpc as jcnlp_srv\n",
    "import jarvis_api.jarvis_nlp_pb2 as jnlp\n",
    "import jarvis_api.jarvis_nlp_pb2_grpc as jnlp_srv\n",
    "\n",
    "class BertPunctuatorClient(object):\n",
    "    def __init__(self, grpc_server, model_name=\"jarvis_punctuation\"):\n",
    "        # generate the correct model based on precision and whether or not ensemble is used\n",
    "        print(\"Using model: {}\".format(model_name))\n",
    "        self.model_name = model_name\n",
    "        self.channel = grpc.insecure_channel(grpc_server)\n",
    "        self.jarvis_nlp = jcnlp_srv.JarvisCoreNLPStub(self.channel)\n",
    "\n",
    "        self.has_bos = True\n",
    "        self.has_eos = False\n",
    "\n",
    "    def run(self, input_strings):\n",
    "        if isinstance(input_strings, str):\n",
    "            # user probably passed a single string instead of a list/iterable\n",
    "            input_strings = [input_strings]\n",
    "\n",
    "        request = jcnlp.TextTransformRequest()\n",
    "        request.model.model_name = self.model_name\n",
    "        for q in input_strings:\n",
    "            request.text.append(q)\n",
    "        response = self.jarvis_nlp.TransformText(request)\n",
    "\n",
    "        return response.text[0]\n",
    "\n",
    "def run_punct_capit(server,model,query):\n",
    "    print(\"Client app to test punctuation and capitalization on Jarvis\")\n",
    "    client = BertPunctuatorClient(server, model_name=model)\n",
    "    result = client.run(query)\n",
    "    print(result)"
   ]
  },
  {
   "cell_type": "code",
   "execution_count": null,
   "id": "labeled-western",
   "metadata": {},
   "outputs": [],
   "source": [
    "run_punct_capit(server=\"localhost:50051\",\n",
    "                model=\"jarvis_punctuation\",\n",
    "                query=\"how are you doing\")"
   ]
  },
  {
   "cell_type": "markdown",
   "id": "lined-roberts",
   "metadata": {},
   "source": [
    "You can stop all docker container before shutting down the jupyter kernel."
   ]
  },
  {
   "cell_type": "code",
   "execution_count": null,
   "id": "hybrid-album",
   "metadata": {},
   "outputs": [],
   "source": [
    "!docker stop $(docker ps -a -q)"
   ]
  }
 ],
 "metadata": {
  "kernelspec": {
   "display_name": "Python 3",
   "language": "python",
   "name": "python3"
  },
  "language_info": {
   "codemirror_mode": {
    "name": "ipython",
    "version": 3
   },
   "file_extension": ".py",
   "mimetype": "text/x-python",
   "name": "python",
   "nbconvert_exporter": "python",
   "pygments_lexer": "ipython3",
   "version": "3.6.9"
  }
 },
 "nbformat": 4,
 "nbformat_minor": 5
}
