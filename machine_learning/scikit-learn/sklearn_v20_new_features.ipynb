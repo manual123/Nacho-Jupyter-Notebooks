{
 "cells": [
  {
   "cell_type": "markdown",
   "metadata": {},
   "source": [
    "# Scikit-Learn's new integration with Pandas\n",
    "Scikit-Learn will make one of its biggest upgrades in recent years with its mammoth version 0.20 release. For many data scientists, a typical workflow consists of using Pandas to do exploratory data analysis before moving to scikit-learn for machine learning. This new release will make the process simpler, more feature-rich, robust, and standardized.\n",
    "\n",
    "## Summary and goals of this article\n",
    "This article is aimed at those that use Scikit-Learn as their machine learning library but depend on Pandas as their data exploratory and preparation tool. \n",
    "\n",
    "* It assumes you have some familiarity with both Scikit-Learn and Pandas\n",
    "* We explore the new ColumnTransformer estimator, which allows us to apply separate transformations to different subsets of your data in parallel before concatenating the results together.\n",
    "* A major pain point for users (and in my opinion the worst part of Scikit-Learn) was preparing a pandas DataFrame with string values in its columns. This process should become much more standardized.\n",
    "* The OneHotEncoder estimator was given a nice upgrade to encode columns with string values. \n",
    "* To help with one hot encoding, we use the new SimpleImputer estimator to fill in missing values with constants\n",
    "* We will build a custom estimator that does all the \"basic\" transformations on a DataFrame instead of relying on the built-in Scikit-Learn tools. This will also transform the data with a couple different features not present within Scikit-Learn.\n",
    "* Finally, we explore binning numeric columns with the new KBinsDiscretizer estimator.\n",
    "\n",
    "### A note before we get started\n",
    "This tutorial is provided as a preview of things to come. The final version 0.20 has not been released. It is very likely that this tutorial will be updated at a future date to reflect any changes.\n",
    "\n",
    "### Continuing…\n",
    "For those that use Pandas as as their exploratory and preparation tool before moving to Scikit-Learn for machine learning, you are likely familiar with the non-standard process of handling columns containing string columns. Scikit-Learn's machine learning models require the input to be a two dimensional data structure of numeric values. No string values are allowed. Scikit-Learn never provided a canonical way to handle columns of strings, a very common occurrence in data science.\n",
    "\n",
    "This lead to numerous tutorials all handling string columns in their own way. Some solutions included turning to Pandas get_dummies function. Some used Scikit-Learn'sLabelBinarizer which does one-hot encoding, but was designed for labels (the target variable) and not for the input. Others created their own custom estimators. Even entire packages such as [sklearn-pandas][1] were built to support this trouble spot. This lack of standardization made for a painful experience for those wanting to build machine learning models with string columns.\n",
    "\n",
    "Furthermore, there was poor support for making transformations to specific columns and not to the entire dataset. For instance, it's very common to standardize continuous features but not categorical features.  This will now become much easier.\n",
    "\n",
    "### Upgrading to version 0.20\n",
    "The first release candidate for version 0.20 was put out just a couple days ago. You can install it with either conda:\n",
    "\n",
    "> `conda install scikit-learn=0.20rc1 -c conda-forge/label/rc -c conda-forge`\n",
    "\n",
    "or pip:\n",
    "\n",
    "> `pip install - pre scikit-learn`\n",
    "\n",
    "# Introducing `ColumnTransformer` and the upgraded `OneHotEncoder`\n",
    "With the upgrade to version 0.20, many workflows from Pandas to Scikit-Learn should start looking similar. The `ColumnTransformer` estimator applies a transformation to a specific subset of columns of your Pandas DataFrame (or array).\n",
    "\n",
    "The `OneHotEncoder` estimator is not new but has been upgraded to encode string columns. Before, it only encoded columns containing numeric categorical data.\n",
    "\n",
    "Let's see how these new additions work to handle string columns in a Pandas DataFrame.\n",
    "\n",
    "## Kaggle Housing Dataset\n",
    "One of Kaggle's beginning machine learning competitions is the [Housing Prices: Advanced Regression Techniques][2]. The goal is to predict housing prices given about 80 features. There are a mix of continuous and categorical columns. You can download the data from the website or use their [command line tool][3] (which is very nice).\n",
    "\n",
    "## Inspect the data\n",
    "Let's read in our DataFrame and output the first few rows."
   ]
  },
  {
   "cell_type": "code",
   "execution_count": 1,
   "metadata": {},
   "outputs": [
    {
     "data": {
      "text/html": [
       "<div>\n",
       "<style scoped>\n",
       "    .dataframe tbody tr th:only-of-type {\n",
       "        vertical-align: middle;\n",
       "    }\n",
       "\n",
       "    .dataframe tbody tr th {\n",
       "        vertical-align: top;\n",
       "    }\n",
       "\n",
       "    .dataframe thead th {\n",
       "        text-align: right;\n",
       "    }\n",
       "</style>\n",
       "<table border=\"1\" class=\"dataframe\">\n",
       "  <thead>\n",
       "    <tr style=\"text-align: right;\">\n",
       "      <th></th>\n",
       "      <th>Id</th>\n",
       "      <th>MSSubClass</th>\n",
       "      <th>MSZoning</th>\n",
       "      <th>LotFrontage</th>\n",
       "      <th>LotArea</th>\n",
       "      <th>Street</th>\n",
       "      <th>Alley</th>\n",
       "      <th>LotShape</th>\n",
       "      <th>LandContour</th>\n",
       "      <th>Utilities</th>\n",
       "      <th>...</th>\n",
       "      <th>PoolArea</th>\n",
       "      <th>PoolQC</th>\n",
       "      <th>Fence</th>\n",
       "      <th>MiscFeature</th>\n",
       "      <th>MiscVal</th>\n",
       "      <th>MoSold</th>\n",
       "      <th>YrSold</th>\n",
       "      <th>SaleType</th>\n",
       "      <th>SaleCondition</th>\n",
       "      <th>SalePrice</th>\n",
       "    </tr>\n",
       "  </thead>\n",
       "  <tbody>\n",
       "    <tr>\n",
       "      <th>0</th>\n",
       "      <td>1</td>\n",
       "      <td>60</td>\n",
       "      <td>RL</td>\n",
       "      <td>65.0</td>\n",
       "      <td>8450</td>\n",
       "      <td>Pave</td>\n",
       "      <td>NaN</td>\n",
       "      <td>Reg</td>\n",
       "      <td>Lvl</td>\n",
       "      <td>AllPub</td>\n",
       "      <td>...</td>\n",
       "      <td>0</td>\n",
       "      <td>NaN</td>\n",
       "      <td>NaN</td>\n",
       "      <td>NaN</td>\n",
       "      <td>0</td>\n",
       "      <td>2</td>\n",
       "      <td>2008</td>\n",
       "      <td>WD</td>\n",
       "      <td>Normal</td>\n",
       "      <td>208500</td>\n",
       "    </tr>\n",
       "    <tr>\n",
       "      <th>1</th>\n",
       "      <td>2</td>\n",
       "      <td>20</td>\n",
       "      <td>RL</td>\n",
       "      <td>80.0</td>\n",
       "      <td>9600</td>\n",
       "      <td>Pave</td>\n",
       "      <td>NaN</td>\n",
       "      <td>Reg</td>\n",
       "      <td>Lvl</td>\n",
       "      <td>AllPub</td>\n",
       "      <td>...</td>\n",
       "      <td>0</td>\n",
       "      <td>NaN</td>\n",
       "      <td>NaN</td>\n",
       "      <td>NaN</td>\n",
       "      <td>0</td>\n",
       "      <td>5</td>\n",
       "      <td>2007</td>\n",
       "      <td>WD</td>\n",
       "      <td>Normal</td>\n",
       "      <td>181500</td>\n",
       "    </tr>\n",
       "    <tr>\n",
       "      <th>2</th>\n",
       "      <td>3</td>\n",
       "      <td>60</td>\n",
       "      <td>RL</td>\n",
       "      <td>68.0</td>\n",
       "      <td>11250</td>\n",
       "      <td>Pave</td>\n",
       "      <td>NaN</td>\n",
       "      <td>IR1</td>\n",
       "      <td>Lvl</td>\n",
       "      <td>AllPub</td>\n",
       "      <td>...</td>\n",
       "      <td>0</td>\n",
       "      <td>NaN</td>\n",
       "      <td>NaN</td>\n",
       "      <td>NaN</td>\n",
       "      <td>0</td>\n",
       "      <td>9</td>\n",
       "      <td>2008</td>\n",
       "      <td>WD</td>\n",
       "      <td>Normal</td>\n",
       "      <td>223500</td>\n",
       "    </tr>\n",
       "    <tr>\n",
       "      <th>3</th>\n",
       "      <td>4</td>\n",
       "      <td>70</td>\n",
       "      <td>RL</td>\n",
       "      <td>60.0</td>\n",
       "      <td>9550</td>\n",
       "      <td>Pave</td>\n",
       "      <td>NaN</td>\n",
       "      <td>IR1</td>\n",
       "      <td>Lvl</td>\n",
       "      <td>AllPub</td>\n",
       "      <td>...</td>\n",
       "      <td>0</td>\n",
       "      <td>NaN</td>\n",
       "      <td>NaN</td>\n",
       "      <td>NaN</td>\n",
       "      <td>0</td>\n",
       "      <td>2</td>\n",
       "      <td>2006</td>\n",
       "      <td>WD</td>\n",
       "      <td>Abnorml</td>\n",
       "      <td>140000</td>\n",
       "    </tr>\n",
       "    <tr>\n",
       "      <th>4</th>\n",
       "      <td>5</td>\n",
       "      <td>60</td>\n",
       "      <td>RL</td>\n",
       "      <td>84.0</td>\n",
       "      <td>14260</td>\n",
       "      <td>Pave</td>\n",
       "      <td>NaN</td>\n",
       "      <td>IR1</td>\n",
       "      <td>Lvl</td>\n",
       "      <td>AllPub</td>\n",
       "      <td>...</td>\n",
       "      <td>0</td>\n",
       "      <td>NaN</td>\n",
       "      <td>NaN</td>\n",
       "      <td>NaN</td>\n",
       "      <td>0</td>\n",
       "      <td>12</td>\n",
       "      <td>2008</td>\n",
       "      <td>WD</td>\n",
       "      <td>Normal</td>\n",
       "      <td>250000</td>\n",
       "    </tr>\n",
       "  </tbody>\n",
       "</table>\n",
       "<p>5 rows × 81 columns</p>\n",
       "</div>"
      ],
      "text/plain": [
       "   Id  MSSubClass MSZoning  LotFrontage  LotArea Street Alley LotShape  \\\n",
       "0   1          60       RL         65.0     8450   Pave   NaN      Reg   \n",
       "1   2          20       RL         80.0     9600   Pave   NaN      Reg   \n",
       "2   3          60       RL         68.0    11250   Pave   NaN      IR1   \n",
       "3   4          70       RL         60.0     9550   Pave   NaN      IR1   \n",
       "4   5          60       RL         84.0    14260   Pave   NaN      IR1   \n",
       "\n",
       "  LandContour Utilities    ...     PoolArea PoolQC Fence MiscFeature MiscVal  \\\n",
       "0         Lvl    AllPub    ...            0    NaN   NaN         NaN       0   \n",
       "1         Lvl    AllPub    ...            0    NaN   NaN         NaN       0   \n",
       "2         Lvl    AllPub    ...            0    NaN   NaN         NaN       0   \n",
       "3         Lvl    AllPub    ...            0    NaN   NaN         NaN       0   \n",
       "4         Lvl    AllPub    ...            0    NaN   NaN         NaN       0   \n",
       "\n",
       "  MoSold YrSold  SaleType  SaleCondition  SalePrice  \n",
       "0      2   2008        WD         Normal     208500  \n",
       "1      5   2007        WD         Normal     181500  \n",
       "2      9   2008        WD         Normal     223500  \n",
       "3      2   2006        WD        Abnorml     140000  \n",
       "4     12   2008        WD         Normal     250000  \n",
       "\n",
       "[5 rows x 81 columns]"
      ]
     },
     "execution_count": 1,
     "metadata": {},
     "output_type": "execute_result"
    }
   ],
   "source": [
    "import pandas as pd\n",
    "import numpy as np\n",
    "\n",
    "train = pd.read_csv('data/housing/train.csv')\n",
    "train.head()"
   ]
  },
  {
   "cell_type": "code",
   "execution_count": 2,
   "metadata": {},
   "outputs": [
    {
     "data": {
      "text/plain": [
       "(1460, 81)"
      ]
     },
     "execution_count": 2,
     "metadata": {},
     "output_type": "execute_result"
    }
   ],
   "source": [
    "train.shape"
   ]
  },
  {
   "cell_type": "markdown",
   "metadata": {},
   "source": [
    "### Remove the target variable from the training set\n",
    "The target variable is `SalePrice` which we remove and assign as an array to its own variable."
   ]
  },
  {
   "cell_type": "code",
   "execution_count": 3,
   "metadata": {},
   "outputs": [],
   "source": [
    "y = train.pop('SalePrice').values"
   ]
  },
  {
   "cell_type": "markdown",
   "metadata": {},
   "source": [
    "# Encoding a single string column\n",
    "To start off, let's encode a single string column, `HouseStyle`, which has values for the exterior of the house. Let's output the unique counts of each string value."
   ]
  },
  {
   "cell_type": "code",
   "execution_count": 4,
   "metadata": {},
   "outputs": [
    {
     "data": {
      "text/plain": [
       "1Story    726\n",
       "2Story    445\n",
       "1.5Fin    154\n",
       "SLvl       65\n",
       "SFoyer     37\n",
       "1.5Unf     14\n",
       "2.5Unf     11\n",
       "2.5Fin      8\n",
       "Name: HouseStyle, dtype: int64"
      ]
     },
     "execution_count": 4,
     "metadata": {},
     "output_type": "execute_result"
    }
   ],
   "source": [
    "vc = train['HouseStyle'].value_counts()\n",
    "vc"
   ]
  },
  {
   "cell_type": "markdown",
   "metadata": {},
   "source": [
    "We have 8 unique values in this column."
   ]
  },
  {
   "cell_type": "code",
   "execution_count": 5,
   "metadata": {},
   "outputs": [
    {
     "data": {
      "text/plain": [
       "8"
      ]
     },
     "execution_count": 5,
     "metadata": {},
     "output_type": "execute_result"
    }
   ],
   "source": [
    "len(vc)"
   ]
  },
  {
   "cell_type": "markdown",
   "metadata": {},
   "source": [
    "## Scikit-Learn Gotcha - Must have 2D data\n",
    "Most Scikit-Learn estimator require that data be strictly 2-dimensional. If we select the column above as `train['HouseStyle']`, this technically creates a Pandas Series which is a single dimension of data. We can force Pandas to create a one-column DataFrame, by passing a single-item list to the brackets."
   ]
  },
  {
   "cell_type": "code",
   "execution_count": 6,
   "metadata": {},
   "outputs": [
    {
     "data": {
      "text/plain": [
       "2"
      ]
     },
     "execution_count": 6,
     "metadata": {},
     "output_type": "execute_result"
    }
   ],
   "source": [
    "hs_train = train[['HouseStyle']].copy()\n",
    "hs_train.ndim"
   ]
  },
  {
   "cell_type": "markdown",
   "metadata": {},
   "source": [
    "# Import, Instantiate, Fit - The three-step process for each estimator\n",
    "The scikit-learn API is consistent for all estimators and uses a three-step process to train or fit the data. \n",
    "\n",
    "1. Import the estimator we want from the module its located in\n",
    "1. Instantiate the estimator possibly changing its defaults\n",
    "1. Fit the estimator to the data. Possibly transform the data to its new space if need be.\n",
    "\n",
    "Below, we import `OneHotEncoder`, instantiate it and ensure that we get a dense (and not sparse) array returned and then encode our single column with the `fit_transform` method."
   ]
  },
  {
   "cell_type": "code",
   "execution_count": 7,
   "metadata": {},
   "outputs": [
    {
     "data": {
      "text/plain": [
       "array([[0., 0., 0., ..., 1., 0., 0.],\n",
       "       [0., 0., 1., ..., 0., 0., 0.],\n",
       "       [0., 0., 0., ..., 1., 0., 0.],\n",
       "       ...,\n",
       "       [0., 0., 0., ..., 1., 0., 0.],\n",
       "       [0., 0., 1., ..., 0., 0., 0.],\n",
       "       [0., 0., 1., ..., 0., 0., 0.]])"
      ]
     },
     "execution_count": 7,
     "metadata": {},
     "output_type": "execute_result"
    }
   ],
   "source": [
    "from sklearn.preprocessing import OneHotEncoder\n",
    "ohe = OneHotEncoder(sparse=False)\n",
    "hs_train_transformed = ohe.fit_transform(hs_train)\n",
    "hs_train_transformed"
   ]
  },
  {
   "cell_type": "markdown",
   "metadata": {},
   "source": [
    "As expected, it has encoded each unique value as its own binary column."
   ]
  },
  {
   "cell_type": "code",
   "execution_count": 8,
   "metadata": {},
   "outputs": [
    {
     "data": {
      "text/plain": [
       "(1460, 8)"
      ]
     },
     "execution_count": 8,
     "metadata": {},
     "output_type": "execute_result"
    }
   ],
   "source": [
    "hs_train_transformed.shape"
   ]
  },
  {
   "cell_type": "markdown",
   "metadata": {},
   "source": [
    "# We have a NumPy array. Where are the column names?\n",
    "Notice that our output is a NumPy array and not a Pandas DataFrame. Scikit-Learn was not originally built to be directly integrated with Pandas. All Pandas objects are converted to NumPy arrays internally and NumPy arrays are always returned after a transformation.\n",
    "\n",
    "We can still get our column name from the `OneHotEncoder` object through its `get_feature_names` method."
   ]
  },
  {
   "cell_type": "code",
   "execution_count": 9,
   "metadata": {},
   "outputs": [
    {
     "data": {
      "text/plain": [
       "array(['x0_1.5Fin', 'x0_1.5Unf', 'x0_1Story', 'x0_2.5Fin', 'x0_2.5Unf',\n",
       "       'x0_2Story', 'x0_SFoyer', 'x0_SLvl'], dtype=object)"
      ]
     },
     "execution_count": 9,
     "metadata": {},
     "output_type": "execute_result"
    }
   ],
   "source": [
    "feature_names = ohe.get_feature_names()\n",
    "feature_names"
   ]
  },
  {
   "cell_type": "markdown",
   "metadata": {},
   "source": [
    "## Verifying our first row of data is correct\n",
    "It's good to verify that our estimator is properly working. Let's look at the first row of encoded data."
   ]
  },
  {
   "cell_type": "code",
   "execution_count": 10,
   "metadata": {},
   "outputs": [
    {
     "data": {
      "text/plain": [
       "array([0., 0., 0., 0., 0., 1., 0., 0.])"
      ]
     },
     "execution_count": 10,
     "metadata": {},
     "output_type": "execute_result"
    }
   ],
   "source": [
    "row0 = hs_train_transformed[0]\n",
    "row0"
   ]
  },
  {
   "cell_type": "markdown",
   "metadata": {},
   "source": [
    "This encodes the 6th value in the array as 1. Let's use boolean indexing to reveal the feature name."
   ]
  },
  {
   "cell_type": "code",
   "execution_count": 11,
   "metadata": {},
   "outputs": [
    {
     "data": {
      "text/plain": [
       "array(['x0_2Story'], dtype=object)"
      ]
     },
     "execution_count": 11,
     "metadata": {},
     "output_type": "execute_result"
    }
   ],
   "source": [
    "feature_names[row0 == 1]"
   ]
  },
  {
   "cell_type": "markdown",
   "metadata": {},
   "source": [
    "Now, let's verify that the first value in our original DataFrame column is the same."
   ]
  },
  {
   "cell_type": "code",
   "execution_count": 12,
   "metadata": {},
   "outputs": [
    {
     "data": {
      "text/plain": [
       "array(['2Story'], dtype=object)"
      ]
     },
     "execution_count": 12,
     "metadata": {},
     "output_type": "execute_result"
    }
   ],
   "source": [
    "hs_train.values[0]"
   ]
  },
  {
   "cell_type": "markdown",
   "metadata": {},
   "source": [
    "### Use `inverse_transform` to automate this\n",
    "Just like most transformer objects, there is an `inverse_transform` method that will get you back your original data. Here we must wrap `row0` in a list to make it a 2D array."
   ]
  },
  {
   "cell_type": "code",
   "execution_count": 13,
   "metadata": {},
   "outputs": [
    {
     "data": {
      "text/plain": [
       "array([['2Story']], dtype=object)"
      ]
     },
     "execution_count": 13,
     "metadata": {},
     "output_type": "execute_result"
    }
   ],
   "source": [
    "ohe.inverse_transform([row0])"
   ]
  },
  {
   "cell_type": "markdown",
   "metadata": {},
   "source": [
    "We can verify all values by inverting the entire transformed array."
   ]
  },
  {
   "cell_type": "code",
   "execution_count": 14,
   "metadata": {},
   "outputs": [
    {
     "data": {
      "text/plain": [
       "array([['2Story'],\n",
       "       ['1Story'],\n",
       "       ['2Story'],\n",
       "       ...,\n",
       "       ['2Story'],\n",
       "       ['1Story'],\n",
       "       ['1Story']], dtype=object)"
      ]
     },
     "execution_count": 14,
     "metadata": {},
     "output_type": "execute_result"
    }
   ],
   "source": [
    "hs_inv = ohe.inverse_transform(hs_train_transformed)\n",
    "hs_inv"
   ]
  },
  {
   "cell_type": "code",
   "execution_count": 15,
   "metadata": {},
   "outputs": [
    {
     "data": {
      "text/plain": [
       "True"
      ]
     },
     "execution_count": 15,
     "metadata": {},
     "output_type": "execute_result"
    }
   ],
   "source": [
    "np.array_equal(hs_inv, hs_train.values)"
   ]
  },
  {
   "cell_type": "markdown",
   "metadata": {},
   "source": [
    "## Applying transformation to the test set\n",
    "Whatever transformation we do to our training set, we must apply to our test set. Let's read in the test set and get the same column and apply our transformation."
   ]
  },
  {
   "cell_type": "code",
   "execution_count": 16,
   "metadata": {},
   "outputs": [
    {
     "data": {
      "text/html": [
       "<div>\n",
       "<style scoped>\n",
       "    .dataframe tbody tr th:only-of-type {\n",
       "        vertical-align: middle;\n",
       "    }\n",
       "\n",
       "    .dataframe tbody tr th {\n",
       "        vertical-align: top;\n",
       "    }\n",
       "\n",
       "    .dataframe thead th {\n",
       "        text-align: right;\n",
       "    }\n",
       "</style>\n",
       "<table border=\"1\" class=\"dataframe\">\n",
       "  <thead>\n",
       "    <tr style=\"text-align: right;\">\n",
       "      <th></th>\n",
       "      <th>Id</th>\n",
       "      <th>MSSubClass</th>\n",
       "      <th>MSZoning</th>\n",
       "      <th>LotFrontage</th>\n",
       "      <th>LotArea</th>\n",
       "      <th>Street</th>\n",
       "      <th>Alley</th>\n",
       "      <th>LotShape</th>\n",
       "      <th>LandContour</th>\n",
       "      <th>Utilities</th>\n",
       "      <th>...</th>\n",
       "      <th>ScreenPorch</th>\n",
       "      <th>PoolArea</th>\n",
       "      <th>PoolQC</th>\n",
       "      <th>Fence</th>\n",
       "      <th>MiscFeature</th>\n",
       "      <th>MiscVal</th>\n",
       "      <th>MoSold</th>\n",
       "      <th>YrSold</th>\n",
       "      <th>SaleType</th>\n",
       "      <th>SaleCondition</th>\n",
       "    </tr>\n",
       "  </thead>\n",
       "  <tbody>\n",
       "    <tr>\n",
       "      <th>0</th>\n",
       "      <td>1461</td>\n",
       "      <td>20</td>\n",
       "      <td>RH</td>\n",
       "      <td>80.0</td>\n",
       "      <td>11622</td>\n",
       "      <td>Pave</td>\n",
       "      <td>NaN</td>\n",
       "      <td>Reg</td>\n",
       "      <td>Lvl</td>\n",
       "      <td>AllPub</td>\n",
       "      <td>...</td>\n",
       "      <td>120</td>\n",
       "      <td>0</td>\n",
       "      <td>NaN</td>\n",
       "      <td>MnPrv</td>\n",
       "      <td>NaN</td>\n",
       "      <td>0</td>\n",
       "      <td>6</td>\n",
       "      <td>2010</td>\n",
       "      <td>WD</td>\n",
       "      <td>Normal</td>\n",
       "    </tr>\n",
       "    <tr>\n",
       "      <th>1</th>\n",
       "      <td>1462</td>\n",
       "      <td>20</td>\n",
       "      <td>RL</td>\n",
       "      <td>81.0</td>\n",
       "      <td>14267</td>\n",
       "      <td>Pave</td>\n",
       "      <td>NaN</td>\n",
       "      <td>IR1</td>\n",
       "      <td>Lvl</td>\n",
       "      <td>AllPub</td>\n",
       "      <td>...</td>\n",
       "      <td>0</td>\n",
       "      <td>0</td>\n",
       "      <td>NaN</td>\n",
       "      <td>NaN</td>\n",
       "      <td>Gar2</td>\n",
       "      <td>12500</td>\n",
       "      <td>6</td>\n",
       "      <td>2010</td>\n",
       "      <td>WD</td>\n",
       "      <td>Normal</td>\n",
       "    </tr>\n",
       "    <tr>\n",
       "      <th>2</th>\n",
       "      <td>1463</td>\n",
       "      <td>60</td>\n",
       "      <td>RL</td>\n",
       "      <td>74.0</td>\n",
       "      <td>13830</td>\n",
       "      <td>Pave</td>\n",
       "      <td>NaN</td>\n",
       "      <td>IR1</td>\n",
       "      <td>Lvl</td>\n",
       "      <td>AllPub</td>\n",
       "      <td>...</td>\n",
       "      <td>0</td>\n",
       "      <td>0</td>\n",
       "      <td>NaN</td>\n",
       "      <td>MnPrv</td>\n",
       "      <td>NaN</td>\n",
       "      <td>0</td>\n",
       "      <td>3</td>\n",
       "      <td>2010</td>\n",
       "      <td>WD</td>\n",
       "      <td>Normal</td>\n",
       "    </tr>\n",
       "    <tr>\n",
       "      <th>3</th>\n",
       "      <td>1464</td>\n",
       "      <td>60</td>\n",
       "      <td>RL</td>\n",
       "      <td>78.0</td>\n",
       "      <td>9978</td>\n",
       "      <td>Pave</td>\n",
       "      <td>NaN</td>\n",
       "      <td>IR1</td>\n",
       "      <td>Lvl</td>\n",
       "      <td>AllPub</td>\n",
       "      <td>...</td>\n",
       "      <td>0</td>\n",
       "      <td>0</td>\n",
       "      <td>NaN</td>\n",
       "      <td>NaN</td>\n",
       "      <td>NaN</td>\n",
       "      <td>0</td>\n",
       "      <td>6</td>\n",
       "      <td>2010</td>\n",
       "      <td>WD</td>\n",
       "      <td>Normal</td>\n",
       "    </tr>\n",
       "    <tr>\n",
       "      <th>4</th>\n",
       "      <td>1465</td>\n",
       "      <td>120</td>\n",
       "      <td>RL</td>\n",
       "      <td>43.0</td>\n",
       "      <td>5005</td>\n",
       "      <td>Pave</td>\n",
       "      <td>NaN</td>\n",
       "      <td>IR1</td>\n",
       "      <td>HLS</td>\n",
       "      <td>AllPub</td>\n",
       "      <td>...</td>\n",
       "      <td>144</td>\n",
       "      <td>0</td>\n",
       "      <td>NaN</td>\n",
       "      <td>NaN</td>\n",
       "      <td>NaN</td>\n",
       "      <td>0</td>\n",
       "      <td>1</td>\n",
       "      <td>2010</td>\n",
       "      <td>WD</td>\n",
       "      <td>Normal</td>\n",
       "    </tr>\n",
       "  </tbody>\n",
       "</table>\n",
       "<p>5 rows × 80 columns</p>\n",
       "</div>"
      ],
      "text/plain": [
       "     Id  MSSubClass MSZoning  LotFrontage  LotArea Street Alley LotShape  \\\n",
       "0  1461          20       RH         80.0    11622   Pave   NaN      Reg   \n",
       "1  1462          20       RL         81.0    14267   Pave   NaN      IR1   \n",
       "2  1463          60       RL         74.0    13830   Pave   NaN      IR1   \n",
       "3  1464          60       RL         78.0     9978   Pave   NaN      IR1   \n",
       "4  1465         120       RL         43.0     5005   Pave   NaN      IR1   \n",
       "\n",
       "  LandContour Utilities      ...       ScreenPorch PoolArea PoolQC  Fence  \\\n",
       "0         Lvl    AllPub      ...               120        0    NaN  MnPrv   \n",
       "1         Lvl    AllPub      ...                 0        0    NaN    NaN   \n",
       "2         Lvl    AllPub      ...                 0        0    NaN  MnPrv   \n",
       "3         Lvl    AllPub      ...                 0        0    NaN    NaN   \n",
       "4         HLS    AllPub      ...               144        0    NaN    NaN   \n",
       "\n",
       "  MiscFeature MiscVal MoSold  YrSold  SaleType  SaleCondition  \n",
       "0         NaN       0      6    2010        WD         Normal  \n",
       "1        Gar2   12500      6    2010        WD         Normal  \n",
       "2         NaN       0      3    2010        WD         Normal  \n",
       "3         NaN       0      6    2010        WD         Normal  \n",
       "4         NaN       0      1    2010        WD         Normal  \n",
       "\n",
       "[5 rows x 80 columns]"
      ]
     },
     "execution_count": 16,
     "metadata": {},
     "output_type": "execute_result"
    }
   ],
   "source": [
    "test = pd.read_csv('data/housing/test.csv')\n",
    "test.head()"
   ]
  },
  {
   "cell_type": "code",
   "execution_count": 17,
   "metadata": {},
   "outputs": [
    {
     "data": {
      "text/plain": [
       "array([[0., 0., 1., ..., 0., 0., 0.],\n",
       "       [0., 0., 1., ..., 0., 0., 0.],\n",
       "       [0., 0., 0., ..., 1., 0., 0.],\n",
       "       ...,\n",
       "       [0., 0., 1., ..., 0., 0., 0.],\n",
       "       [0., 0., 0., ..., 0., 1., 0.],\n",
       "       [0., 0., 0., ..., 1., 0., 0.]])"
      ]
     },
     "execution_count": 17,
     "metadata": {},
     "output_type": "execute_result"
    }
   ],
   "source": [
    "hs_test = test[['HouseStyle']].copy()\n",
    "hs_test_transformed = ohe.transform(hs_test)\n",
    "hs_test_transformed"
   ]
  },
  {
   "cell_type": "markdown",
   "metadata": {},
   "source": [
    "We should again get 8 columns and we do."
   ]
  },
  {
   "cell_type": "code",
   "execution_count": 18,
   "metadata": {},
   "outputs": [
    {
     "data": {
      "text/plain": [
       "(1459, 8)"
      ]
     },
     "execution_count": 18,
     "metadata": {},
     "output_type": "execute_result"
    }
   ],
   "source": [
    "hs_test_transformed.shape"
   ]
  },
  {
   "cell_type": "markdown",
   "metadata": {},
   "source": [
    "This example works nicely, but there are multiple cases where we will run into problems. Let's examine them now."
   ]
  },
  {
   "cell_type": "markdown",
   "metadata": {},
   "source": [
    "# Trouble area #1 - Categories unique to the test set\n",
    "What happens if we have a home with a house style that is unique to just the test set? Say something like `3Story`. Let's change the first value of the house styles and see what the default is from Scikit-Learn."
   ]
  },
  {
   "cell_type": "code",
   "execution_count": 19,
   "metadata": {},
   "outputs": [
    {
     "name": "stdout",
     "output_type": "stream",
     "text": [
      "  HouseStyle\n",
      "0     3Story\n",
      "1     1Story\n",
      "2     2Story\n"
     ]
    }
   ],
   "source": [
    "hs_test = test[['HouseStyle']].copy()\n",
    "hs_test.iloc[0, 0] = '3Story'\n",
    "print(hs_test.head(3))"
   ]
  },
  {
   "cell_type": "code",
   "execution_count": 20,
   "metadata": {},
   "outputs": [
    {
     "ename": "ValueError",
     "evalue": "Found unknown categories ['3Story'] in column 0 during transform",
     "output_type": "error",
     "traceback": [
      "\u001b[0;31m---------------------------------------------------------------------------\u001b[0m",
      "\u001b[0;31mValueError\u001b[0m                                Traceback (most recent call last)",
      "\u001b[0;32m<ipython-input-20-2d33a65e4f12>\u001b[0m in \u001b[0;36m<module>\u001b[0;34m()\u001b[0m\n\u001b[0;32m----> 1\u001b[0;31m \u001b[0mohe\u001b[0m\u001b[0;34m.\u001b[0m\u001b[0mtransform\u001b[0m\u001b[0;34m(\u001b[0m\u001b[0mhs_test\u001b[0m\u001b[0;34m)\u001b[0m\u001b[0;34m\u001b[0m\u001b[0m\n\u001b[0m",
      "\u001b[0;32m~/anaconda3/lib/python3.6/site-packages/sklearn/preprocessing/_encoders.py\u001b[0m in \u001b[0;36mtransform\u001b[0;34m(self, X)\u001b[0m\n\u001b[1;32m    573\u001b[0m                                        copy=True)\n\u001b[1;32m    574\u001b[0m         \u001b[0;32melse\u001b[0m\u001b[0;34m:\u001b[0m\u001b[0;34m\u001b[0m\u001b[0m\n\u001b[0;32m--> 575\u001b[0;31m             \u001b[0;32mreturn\u001b[0m \u001b[0mself\u001b[0m\u001b[0;34m.\u001b[0m\u001b[0m_transform_new\u001b[0m\u001b[0;34m(\u001b[0m\u001b[0mX\u001b[0m\u001b[0;34m)\u001b[0m\u001b[0;34m\u001b[0m\u001b[0m\n\u001b[0m\u001b[1;32m    576\u001b[0m \u001b[0;34m\u001b[0m\u001b[0m\n\u001b[1;32m    577\u001b[0m     \u001b[0;32mdef\u001b[0m \u001b[0minverse_transform\u001b[0m\u001b[0;34m(\u001b[0m\u001b[0mself\u001b[0m\u001b[0;34m,\u001b[0m \u001b[0mX\u001b[0m\u001b[0;34m)\u001b[0m\u001b[0;34m:\u001b[0m\u001b[0;34m\u001b[0m\u001b[0m\n",
      "\u001b[0;32m~/anaconda3/lib/python3.6/site-packages/sklearn/preprocessing/_encoders.py\u001b[0m in \u001b[0;36m_transform_new\u001b[0;34m(self, X)\u001b[0m\n\u001b[1;32m    535\u001b[0m         \u001b[0mn_samples\u001b[0m\u001b[0;34m,\u001b[0m \u001b[0mn_features\u001b[0m \u001b[0;34m=\u001b[0m \u001b[0mX\u001b[0m\u001b[0;34m.\u001b[0m\u001b[0mshape\u001b[0m\u001b[0;34m\u001b[0m\u001b[0m\n\u001b[1;32m    536\u001b[0m \u001b[0;34m\u001b[0m\u001b[0m\n\u001b[0;32m--> 537\u001b[0;31m         \u001b[0mX_int\u001b[0m\u001b[0;34m,\u001b[0m \u001b[0mX_mask\u001b[0m \u001b[0;34m=\u001b[0m \u001b[0mself\u001b[0m\u001b[0;34m.\u001b[0m\u001b[0m_transform\u001b[0m\u001b[0;34m(\u001b[0m\u001b[0mX\u001b[0m\u001b[0;34m,\u001b[0m \u001b[0mhandle_unknown\u001b[0m\u001b[0;34m=\u001b[0m\u001b[0mself\u001b[0m\u001b[0;34m.\u001b[0m\u001b[0mhandle_unknown\u001b[0m\u001b[0;34m)\u001b[0m\u001b[0;34m\u001b[0m\u001b[0m\n\u001b[0m\u001b[1;32m    538\u001b[0m \u001b[0;34m\u001b[0m\u001b[0m\n\u001b[1;32m    539\u001b[0m         \u001b[0mmask\u001b[0m \u001b[0;34m=\u001b[0m \u001b[0mX_mask\u001b[0m\u001b[0;34m.\u001b[0m\u001b[0mravel\u001b[0m\u001b[0;34m(\u001b[0m\u001b[0;34m)\u001b[0m\u001b[0;34m\u001b[0m\u001b[0m\n",
      "\u001b[0;32m~/anaconda3/lib/python3.6/site-packages/sklearn/preprocessing/_encoders.py\u001b[0m in \u001b[0;36m_transform\u001b[0;34m(self, X, handle_unknown)\u001b[0m\n\u001b[1;32m     95\u001b[0m                     msg = (\"Found unknown categories {0} in column {1}\"\n\u001b[1;32m     96\u001b[0m                            \" during transform\".format(diff, i))\n\u001b[0;32m---> 97\u001b[0;31m                     \u001b[0;32mraise\u001b[0m \u001b[0mValueError\u001b[0m\u001b[0;34m(\u001b[0m\u001b[0mmsg\u001b[0m\u001b[0;34m)\u001b[0m\u001b[0;34m\u001b[0m\u001b[0m\n\u001b[0m\u001b[1;32m     98\u001b[0m                 \u001b[0;32melse\u001b[0m\u001b[0;34m:\u001b[0m\u001b[0;34m\u001b[0m\u001b[0m\n\u001b[1;32m     99\u001b[0m                     \u001b[0;31m# Set the problematic rows to an acceptable value and\u001b[0m\u001b[0;34m\u001b[0m\u001b[0;34m\u001b[0m\u001b[0m\n",
      "\u001b[0;31mValueError\u001b[0m: Found unknown categories ['3Story'] in column 0 during transform"
     ]
    }
   ],
   "source": [
    "ohe.transform(hs_test)"
   ]
  },
  {
   "cell_type": "markdown",
   "metadata": {},
   "source": [
    "## Error: Unknown Category\n",
    "By default, our encoder will produce an error. This is likely what we want as we need to know if there are unique strings in the test set. If you do have this problem then there could be something much deeper that needs investigating. For now, we will ignore this problem and encode this row as all 0's by setting the `handle_unknown` parameter to 'ignore' upon instantiation."
   ]
  },
  {
   "cell_type": "code",
   "execution_count": 21,
   "metadata": {},
   "outputs": [
    {
     "data": {
      "text/plain": [
       "array([[0., 0., 0., ..., 0., 0., 0.],\n",
       "       [0., 0., 1., ..., 0., 0., 0.],\n",
       "       [0., 0., 0., ..., 1., 0., 0.],\n",
       "       ...,\n",
       "       [0., 0., 1., ..., 0., 0., 0.],\n",
       "       [0., 0., 0., ..., 0., 1., 0.],\n",
       "       [0., 0., 0., ..., 1., 0., 0.]])"
      ]
     },
     "execution_count": 21,
     "metadata": {},
     "output_type": "execute_result"
    }
   ],
   "source": [
    "ohe = OneHotEncoder(sparse=False, handle_unknown='ignore')\n",
    "ohe.fit(hs_train)\n",
    "\n",
    "hs_test_transformed = ohe.transform(hs_test)\n",
    "hs_test_transformed"
   ]
  },
  {
   "cell_type": "markdown",
   "metadata": {},
   "source": [
    "Let's verify that the first row is all 0's."
   ]
  },
  {
   "cell_type": "code",
   "execution_count": 22,
   "metadata": {},
   "outputs": [
    {
     "data": {
      "text/plain": [
       "array([0., 0., 0., 0., 0., 0., 0., 0.])"
      ]
     },
     "execution_count": 22,
     "metadata": {},
     "output_type": "execute_result"
    }
   ],
   "source": [
    "hs_test_transformed[0]"
   ]
  },
  {
   "cell_type": "markdown",
   "metadata": {},
   "source": [
    "# Trouble area #2 - Missing Values in test set\n",
    "If you have missing values in your test set (NaN or None), then these will be ignored as long as `handle_unknown` is set to 'ignore'."
   ]
  },
  {
   "cell_type": "code",
   "execution_count": 23,
   "metadata": {},
   "outputs": [
    {
     "name": "stdout",
     "output_type": "stream",
     "text": [
      "  HouseStyle\n",
      "0        NaN\n",
      "1       None\n",
      "2     2Story\n",
      "3     2Story\n"
     ]
    }
   ],
   "source": [
    "hs_test = test[['HouseStyle']].copy()\n",
    "hs_test.iloc[0, 0] = np.nan\n",
    "hs_test.iloc[1, 0] = None\n",
    "print(hs_test.head(4))"
   ]
  },
  {
   "cell_type": "code",
   "execution_count": 24,
   "metadata": {},
   "outputs": [
    {
     "data": {
      "text/plain": [
       "array([[0., 0., 0., 0., 0., 0., 0., 0.],\n",
       "       [0., 0., 0., 0., 0., 0., 0., 0.],\n",
       "       [0., 0., 0., 0., 0., 1., 0., 0.],\n",
       "       [0., 0., 0., 0., 0., 1., 0., 0.]])"
      ]
     },
     "execution_count": 24,
     "metadata": {},
     "output_type": "execute_result"
    }
   ],
   "source": [
    "hs_test_transformed = ohe.transform(hs_test)\n",
    "hs_test_transformed[:4]"
   ]
  },
  {
   "cell_type": "markdown",
   "metadata": {},
   "source": [
    "# Trouble area #3 - Missing Values in training set\n",
    "Missing values in the training set is more of an issue. As of now, the `OneHotEncoder` estimator cannot fit with missing values."
   ]
  },
  {
   "cell_type": "code",
   "execution_count": 25,
   "metadata": {},
   "outputs": [
    {
     "data": {
      "text/html": [
       "<div>\n",
       "<style scoped>\n",
       "    .dataframe tbody tr th:only-of-type {\n",
       "        vertical-align: middle;\n",
       "    }\n",
       "\n",
       "    .dataframe tbody tr th {\n",
       "        vertical-align: top;\n",
       "    }\n",
       "\n",
       "    .dataframe thead th {\n",
       "        text-align: right;\n",
       "    }\n",
       "</style>\n",
       "<table border=\"1\" class=\"dataframe\">\n",
       "  <thead>\n",
       "    <tr style=\"text-align: right;\">\n",
       "      <th></th>\n",
       "      <th>HouseStyle</th>\n",
       "    </tr>\n",
       "  </thead>\n",
       "  <tbody>\n",
       "    <tr>\n",
       "      <th>0</th>\n",
       "      <td>NaN</td>\n",
       "    </tr>\n",
       "    <tr>\n",
       "      <th>1</th>\n",
       "      <td>1Story</td>\n",
       "    </tr>\n",
       "    <tr>\n",
       "      <th>2</th>\n",
       "      <td>2Story</td>\n",
       "    </tr>\n",
       "  </tbody>\n",
       "</table>\n",
       "</div>"
      ],
      "text/plain": [
       "  HouseStyle\n",
       "0        NaN\n",
       "1     1Story\n",
       "2     2Story"
      ]
     },
     "execution_count": 25,
     "metadata": {},
     "output_type": "execute_result"
    }
   ],
   "source": [
    "hs_train = hs_train.copy()\n",
    "hs_train.iloc[0, 0] = np.nan\n",
    "hs_train.head(3)"
   ]
  },
  {
   "cell_type": "code",
   "execution_count": 26,
   "metadata": {},
   "outputs": [
    {
     "ename": "TypeError",
     "evalue": "'<' not supported between instances of 'str' and 'float'",
     "output_type": "error",
     "traceback": [
      "\u001b[0;31m---------------------------------------------------------------------------\u001b[0m",
      "\u001b[0;31mTypeError\u001b[0m                                 Traceback (most recent call last)",
      "\u001b[0;32m<ipython-input-26-6b0498cdc461>\u001b[0m in \u001b[0;36m<module>\u001b[0;34m()\u001b[0m\n\u001b[1;32m      1\u001b[0m \u001b[0mohe\u001b[0m \u001b[0;34m=\u001b[0m \u001b[0mOneHotEncoder\u001b[0m\u001b[0;34m(\u001b[0m\u001b[0msparse\u001b[0m\u001b[0;34m=\u001b[0m\u001b[0;32mFalse\u001b[0m\u001b[0;34m,\u001b[0m \u001b[0mhandle_unknown\u001b[0m\u001b[0;34m=\u001b[0m\u001b[0;34m'ignore'\u001b[0m\u001b[0;34m)\u001b[0m\u001b[0;34m\u001b[0m\u001b[0m\n\u001b[0;32m----> 2\u001b[0;31m \u001b[0mohe\u001b[0m\u001b[0;34m.\u001b[0m\u001b[0mfit_transform\u001b[0m\u001b[0;34m(\u001b[0m\u001b[0mhs_train\u001b[0m\u001b[0;34m)\u001b[0m\u001b[0;34m\u001b[0m\u001b[0m\n\u001b[0m",
      "\u001b[0;32m~/anaconda3/lib/python3.6/site-packages/sklearn/preprocessing/_encoders.py\u001b[0m in \u001b[0;36mfit_transform\u001b[0;34m(self, X, y)\u001b[0m\n\u001b[1;32m    483\u001b[0m                 self._categorical_features, copy=True)\n\u001b[1;32m    484\u001b[0m         \u001b[0;32melse\u001b[0m\u001b[0;34m:\u001b[0m\u001b[0;34m\u001b[0m\u001b[0m\n\u001b[0;32m--> 485\u001b[0;31m             \u001b[0;32mreturn\u001b[0m \u001b[0mself\u001b[0m\u001b[0;34m.\u001b[0m\u001b[0mfit\u001b[0m\u001b[0;34m(\u001b[0m\u001b[0mX\u001b[0m\u001b[0;34m)\u001b[0m\u001b[0;34m.\u001b[0m\u001b[0mtransform\u001b[0m\u001b[0;34m(\u001b[0m\u001b[0mX\u001b[0m\u001b[0;34m)\u001b[0m\u001b[0;34m\u001b[0m\u001b[0m\n\u001b[0m\u001b[1;32m    486\u001b[0m \u001b[0;34m\u001b[0m\u001b[0m\n\u001b[1;32m    487\u001b[0m     \u001b[0;32mdef\u001b[0m \u001b[0m_legacy_transform\u001b[0m\u001b[0;34m(\u001b[0m\u001b[0mself\u001b[0m\u001b[0;34m,\u001b[0m \u001b[0mX\u001b[0m\u001b[0;34m)\u001b[0m\u001b[0;34m:\u001b[0m\u001b[0;34m\u001b[0m\u001b[0m\n",
      "\u001b[0;32m~/anaconda3/lib/python3.6/site-packages/sklearn/preprocessing/_encoders.py\u001b[0m in \u001b[0;36mfit\u001b[0;34m(self, X, y)\u001b[0m\n\u001b[1;32m    402\u001b[0m             \u001b[0;32mreturn\u001b[0m \u001b[0mself\u001b[0m\u001b[0;34m\u001b[0m\u001b[0m\n\u001b[1;32m    403\u001b[0m         \u001b[0;32melse\u001b[0m\u001b[0;34m:\u001b[0m\u001b[0;34m\u001b[0m\u001b[0m\n\u001b[0;32m--> 404\u001b[0;31m             \u001b[0mself\u001b[0m\u001b[0;34m.\u001b[0m\u001b[0m_fit\u001b[0m\u001b[0;34m(\u001b[0m\u001b[0mX\u001b[0m\u001b[0;34m,\u001b[0m \u001b[0mhandle_unknown\u001b[0m\u001b[0;34m=\u001b[0m\u001b[0mself\u001b[0m\u001b[0;34m.\u001b[0m\u001b[0mhandle_unknown\u001b[0m\u001b[0;34m)\u001b[0m\u001b[0;34m\u001b[0m\u001b[0m\n\u001b[0m\u001b[1;32m    405\u001b[0m             \u001b[0;32mreturn\u001b[0m \u001b[0mself\u001b[0m\u001b[0;34m\u001b[0m\u001b[0m\n\u001b[1;32m    406\u001b[0m \u001b[0;34m\u001b[0m\u001b[0m\n",
      "\u001b[0;32m~/anaconda3/lib/python3.6/site-packages/sklearn/preprocessing/_encoders.py\u001b[0m in \u001b[0;36m_fit\u001b[0;34m(self, X, handle_unknown)\u001b[0m\n\u001b[1;32m     63\u001b[0m             \u001b[0mXi\u001b[0m \u001b[0;34m=\u001b[0m \u001b[0mX\u001b[0m\u001b[0;34m[\u001b[0m\u001b[0;34m:\u001b[0m\u001b[0;34m,\u001b[0m \u001b[0mi\u001b[0m\u001b[0;34m]\u001b[0m\u001b[0;34m\u001b[0m\u001b[0m\n\u001b[1;32m     64\u001b[0m             \u001b[0;32mif\u001b[0m \u001b[0mself\u001b[0m\u001b[0;34m.\u001b[0m\u001b[0m_categories\u001b[0m \u001b[0;34m==\u001b[0m \u001b[0;34m'auto'\u001b[0m\u001b[0;34m:\u001b[0m\u001b[0;34m\u001b[0m\u001b[0m\n\u001b[0;32m---> 65\u001b[0;31m                 \u001b[0mcats\u001b[0m \u001b[0;34m=\u001b[0m \u001b[0m_encode\u001b[0m\u001b[0;34m(\u001b[0m\u001b[0mXi\u001b[0m\u001b[0;34m)\u001b[0m\u001b[0;34m\u001b[0m\u001b[0m\n\u001b[0m\u001b[1;32m     66\u001b[0m             \u001b[0;32melse\u001b[0m\u001b[0;34m:\u001b[0m\u001b[0;34m\u001b[0m\u001b[0m\n\u001b[1;32m     67\u001b[0m                 \u001b[0mcats\u001b[0m \u001b[0;34m=\u001b[0m \u001b[0mnp\u001b[0m\u001b[0;34m.\u001b[0m\u001b[0marray\u001b[0m\u001b[0;34m(\u001b[0m\u001b[0mself\u001b[0m\u001b[0;34m.\u001b[0m\u001b[0m_categories\u001b[0m\u001b[0;34m[\u001b[0m\u001b[0mi\u001b[0m\u001b[0;34m]\u001b[0m\u001b[0;34m,\u001b[0m \u001b[0mdtype\u001b[0m\u001b[0;34m=\u001b[0m\u001b[0mX\u001b[0m\u001b[0;34m.\u001b[0m\u001b[0mdtype\u001b[0m\u001b[0;34m)\u001b[0m\u001b[0;34m\u001b[0m\u001b[0m\n",
      "\u001b[0;32m~/anaconda3/lib/python3.6/site-packages/sklearn/preprocessing/label.py\u001b[0m in \u001b[0;36m_encode\u001b[0;34m(values, uniques, encode)\u001b[0m\n\u001b[1;32m    106\u001b[0m     \"\"\"\n\u001b[1;32m    107\u001b[0m     \u001b[0;32mif\u001b[0m \u001b[0mvalues\u001b[0m\u001b[0;34m.\u001b[0m\u001b[0mdtype\u001b[0m \u001b[0;34m==\u001b[0m \u001b[0mobject\u001b[0m\u001b[0;34m:\u001b[0m\u001b[0;34m\u001b[0m\u001b[0m\n\u001b[0;32m--> 108\u001b[0;31m         \u001b[0;32mreturn\u001b[0m \u001b[0m_encode_python\u001b[0m\u001b[0;34m(\u001b[0m\u001b[0mvalues\u001b[0m\u001b[0;34m,\u001b[0m \u001b[0muniques\u001b[0m\u001b[0;34m,\u001b[0m \u001b[0mencode\u001b[0m\u001b[0;34m)\u001b[0m\u001b[0;34m\u001b[0m\u001b[0m\n\u001b[0m\u001b[1;32m    109\u001b[0m     \u001b[0;32melse\u001b[0m\u001b[0;34m:\u001b[0m\u001b[0;34m\u001b[0m\u001b[0m\n\u001b[1;32m    110\u001b[0m         \u001b[0;32mreturn\u001b[0m \u001b[0m_encode_numpy\u001b[0m\u001b[0;34m(\u001b[0m\u001b[0mvalues\u001b[0m\u001b[0;34m,\u001b[0m \u001b[0muniques\u001b[0m\u001b[0;34m,\u001b[0m \u001b[0mencode\u001b[0m\u001b[0;34m)\u001b[0m\u001b[0;34m\u001b[0m\u001b[0m\n",
      "\u001b[0;32m~/anaconda3/lib/python3.6/site-packages/sklearn/preprocessing/label.py\u001b[0m in \u001b[0;36m_encode_python\u001b[0;34m(values, uniques, encode)\u001b[0m\n\u001b[1;32m     61\u001b[0m     \u001b[0;31m# only used in _encode below, see docstring there for details\u001b[0m\u001b[0;34m\u001b[0m\u001b[0;34m\u001b[0m\u001b[0m\n\u001b[1;32m     62\u001b[0m     \u001b[0;32mif\u001b[0m \u001b[0muniques\u001b[0m \u001b[0;32mis\u001b[0m \u001b[0;32mNone\u001b[0m\u001b[0;34m:\u001b[0m\u001b[0;34m\u001b[0m\u001b[0m\n\u001b[0;32m---> 63\u001b[0;31m         \u001b[0muniques\u001b[0m \u001b[0;34m=\u001b[0m \u001b[0msorted\u001b[0m\u001b[0;34m(\u001b[0m\u001b[0mset\u001b[0m\u001b[0;34m(\u001b[0m\u001b[0mvalues\u001b[0m\u001b[0;34m)\u001b[0m\u001b[0;34m)\u001b[0m\u001b[0;34m\u001b[0m\u001b[0m\n\u001b[0m\u001b[1;32m     64\u001b[0m         \u001b[0muniques\u001b[0m \u001b[0;34m=\u001b[0m \u001b[0mnp\u001b[0m\u001b[0;34m.\u001b[0m\u001b[0marray\u001b[0m\u001b[0;34m(\u001b[0m\u001b[0muniques\u001b[0m\u001b[0;34m,\u001b[0m \u001b[0mdtype\u001b[0m\u001b[0;34m=\u001b[0m\u001b[0mvalues\u001b[0m\u001b[0;34m.\u001b[0m\u001b[0mdtype\u001b[0m\u001b[0;34m)\u001b[0m\u001b[0;34m\u001b[0m\u001b[0m\n\u001b[1;32m     65\u001b[0m     \u001b[0;32mif\u001b[0m \u001b[0mencode\u001b[0m\u001b[0;34m:\u001b[0m\u001b[0;34m\u001b[0m\u001b[0m\n",
      "\u001b[0;31mTypeError\u001b[0m: '<' not supported between instances of 'str' and 'float'"
     ]
    }
   ],
   "source": [
    "ohe = OneHotEncoder(sparse=False, handle_unknown='ignore')\n",
    "ohe.fit_transform(hs_train)"
   ]
  },
  {
   "cell_type": "markdown",
   "metadata": {},
   "source": [
    "It would be nice if there was an option to ignore them like what happens when transforming the test set above. But this doesn't exist."
   ]
  },
  {
   "cell_type": "markdown",
   "metadata": {},
   "source": [
    "# Must impute missing values\n",
    "For now, we must impute the missing values. The old `Imputer` from the preprocessing module got deprecated. A new module, `impute`, was formed in its place, with a new estimator `SimpleImputer` and a new strategy, 'constant'. By default, using this strategy will fill missing values with the string 'missing_value'. We can choose what to set it with the fill_value parameter."
   ]
  },
  {
   "cell_type": "code",
   "execution_count": 27,
   "metadata": {},
   "outputs": [
    {
     "data": {
      "text/plain": [
       "array([['MISSING'],\n",
       "       ['1Story'],\n",
       "       ['2Story'],\n",
       "       ...,\n",
       "       ['2Story'],\n",
       "       ['1Story'],\n",
       "       ['1Story']], dtype=object)"
      ]
     },
     "execution_count": 27,
     "metadata": {},
     "output_type": "execute_result"
    }
   ],
   "source": [
    "hs_train = train[['HouseStyle']].copy()\n",
    "hs_train.iloc[0, 0] = np.nan\n",
    "\n",
    "from sklearn.impute import SimpleImputer\n",
    "si = SimpleImputer(strategy='constant', fill_value='MISSING')\n",
    "hs_train_imputed = si.fit_transform(hs_train)\n",
    "hs_train_imputed"
   ]
  },
  {
   "cell_type": "markdown",
   "metadata": {},
   "source": [
    "From here we can then encode as we did previously."
   ]
  },
  {
   "cell_type": "code",
   "execution_count": 28,
   "metadata": {},
   "outputs": [
    {
     "data": {
      "text/plain": [
       "array([[0., 0., 0., ..., 1., 0., 0.],\n",
       "       [0., 0., 1., ..., 0., 0., 0.],\n",
       "       [0., 0., 0., ..., 0., 0., 0.],\n",
       "       ...,\n",
       "       [0., 0., 0., ..., 0., 0., 0.],\n",
       "       [0., 0., 1., ..., 0., 0., 0.],\n",
       "       [0., 0., 1., ..., 0., 0., 0.]])"
      ]
     },
     "execution_count": 28,
     "metadata": {},
     "output_type": "execute_result"
    }
   ],
   "source": [
    "hs_train_transformed = ohe.fit_transform(hs_train_imputed)\n",
    "hs_train_transformed"
   ]
  },
  {
   "cell_type": "markdown",
   "metadata": {},
   "source": [
    "Notice, that we now have an extra column and and an extra feature name."
   ]
  },
  {
   "cell_type": "code",
   "execution_count": 29,
   "metadata": {},
   "outputs": [
    {
     "data": {
      "text/plain": [
       "(1460, 9)"
      ]
     },
     "execution_count": 29,
     "metadata": {},
     "output_type": "execute_result"
    }
   ],
   "source": [
    "hs_train_transformed.shape"
   ]
  },
  {
   "cell_type": "code",
   "execution_count": 30,
   "metadata": {},
   "outputs": [
    {
     "data": {
      "text/plain": [
       "array(['x0_1.5Fin', 'x0_1.5Unf', 'x0_1Story', 'x0_2.5Fin', 'x0_2.5Unf',\n",
       "       'x0_2Story', 'x0_MISSING', 'x0_SFoyer', 'x0_SLvl'], dtype=object)"
      ]
     },
     "execution_count": 30,
     "metadata": {},
     "output_type": "execute_result"
    }
   ],
   "source": [
    "ohe.get_feature_names()"
   ]
  },
  {
   "cell_type": "markdown",
   "metadata": {},
   "source": [
    "### Apply both transformations to test set\n",
    "We can manually apply each of the two steps above in order like this:"
   ]
  },
  {
   "cell_type": "code",
   "execution_count": 31,
   "metadata": {},
   "outputs": [
    {
     "data": {
      "text/plain": [
       "(1459, 9)"
      ]
     },
     "execution_count": 31,
     "metadata": {},
     "output_type": "execute_result"
    }
   ],
   "source": [
    "hs_test = test[['HouseStyle']].copy()\n",
    "hs_test.iloc[0, 0] = 'unique value to test set'\n",
    "hs_test.iloc[1, 0] = np.nan\n",
    "\n",
    "hs_test_imputed = si.transform(hs_test)\n",
    "hs_test_transformed = ohe.transform(hs_test_imputed)\n",
    "hs_test_transformed.shape"
   ]
  },
  {
   "cell_type": "markdown",
   "metadata": {},
   "source": [
    "## Why just the `transform` method for the test set?\n",
    "When transforming the test set, its important to just call the `transform` method and not `fit_transform`. When we ran `fit_transform` on the training set, Scikit-Learn found all the necessary information it needed in order to transform any other dataset containing the same column names."
   ]
  },
  {
   "cell_type": "code",
   "execution_count": 32,
   "metadata": {},
   "outputs": [
    {
     "data": {
      "text/plain": [
       "array(['x0_1.5Fin', 'x0_1.5Unf', 'x0_1Story', 'x0_2.5Fin', 'x0_2.5Unf',\n",
       "       'x0_2Story', 'x0_MISSING', 'x0_SFoyer', 'x0_SLvl'], dtype=object)"
      ]
     },
     "execution_count": 32,
     "metadata": {},
     "output_type": "execute_result"
    }
   ],
   "source": [
    "ohe.get_feature_names()"
   ]
  },
  {
   "cell_type": "markdown",
   "metadata": {},
   "source": [
    "## Use a `Pipeline` instead\n",
    "Scikit-Learn provides a Pipeline transformer and estimator that takes a list of transformations and applies them in succession. You can also run a machine learning model as the final estimator. Here we simply impute and encode."
   ]
  },
  {
   "cell_type": "code",
   "execution_count": 33,
   "metadata": {},
   "outputs": [],
   "source": [
    "from sklearn.pipeline import Pipeline"
   ]
  },
  {
   "cell_type": "markdown",
   "metadata": {},
   "source": [
    "Each step is a two-item tuple consisting of a string that labels the step and the instantiated estimator."
   ]
  },
  {
   "cell_type": "code",
   "execution_count": 34,
   "metadata": {},
   "outputs": [
    {
     "data": {
      "text/plain": [
       "(1460, 9)"
      ]
     },
     "execution_count": 34,
     "metadata": {},
     "output_type": "execute_result"
    }
   ],
   "source": [
    "si_step = ('si', SimpleImputer(strategy='constant', fill_value='MISSING'))\n",
    "ohe_step = ('ohe', OneHotEncoder(sparse=False, handle_unknown='ignore'))\n",
    "steps = [si_step, ohe_step]\n",
    "\n",
    "pipe = Pipeline(steps)\n",
    "\n",
    "hs_train = train[['HouseStyle']].copy()\n",
    "hs_train.iloc[0, 0] = np.nan\n",
    "\n",
    "hs_transformed = pipe.fit_transform(hs_train)\n",
    "hs_transformed.shape"
   ]
  },
  {
   "cell_type": "markdown",
   "metadata": {},
   "source": [
    "The test set is easily transformed by passing through each step of the pipeline."
   ]
  },
  {
   "cell_type": "code",
   "execution_count": 35,
   "metadata": {},
   "outputs": [
    {
     "data": {
      "text/plain": [
       "(1459, 9)"
      ]
     },
     "execution_count": 35,
     "metadata": {},
     "output_type": "execute_result"
    }
   ],
   "source": [
    "hs_test = test[['HouseStyle']].copy()\n",
    "hs_test_transformed = pipe.transform(hs_test)\n",
    "hs_test_transformed.shape"
   ]
  },
  {
   "cell_type": "markdown",
   "metadata": {},
   "source": [
    "# Multiple String Columns\n",
    "Encoding multiple string columns is not a problem. Select the columns you want and then pass the new DataFrame through the pipeline again."
   ]
  },
  {
   "cell_type": "code",
   "execution_count": 36,
   "metadata": {},
   "outputs": [
    {
     "name": "stdout",
     "output_type": "stream",
     "text": [
      "  RoofMatl HouseStyle\n",
      "0  CompShg     2Story\n",
      "1  CompShg     1Story\n",
      "2  CompShg     2Story\n"
     ]
    }
   ],
   "source": [
    "string_cols = ['RoofMatl', 'HouseStyle']\n",
    "string_train = train[string_cols]\n",
    "print(string_train.head(3))"
   ]
  },
  {
   "cell_type": "code",
   "execution_count": 37,
   "metadata": {},
   "outputs": [
    {
     "data": {
      "text/plain": [
       "(1460, 16)"
      ]
     },
     "execution_count": 37,
     "metadata": {},
     "output_type": "execute_result"
    }
   ],
   "source": [
    "string_train_transformed = pipe.fit_transform(string_train)\n",
    "string_train_transformed.shape"
   ]
  },
  {
   "cell_type": "markdown",
   "metadata": {},
   "source": [
    "### Get individual pieces of the pipeline\n",
    "It is possible to get each individual transformer through its name. In this instance, we get the one-hot encoder so that we can output the feature names."
   ]
  },
  {
   "cell_type": "code",
   "execution_count": 38,
   "metadata": {},
   "outputs": [
    {
     "data": {
      "text/plain": [
       "array(['x0_ClyTile', 'x0_CompShg', 'x0_Membran', 'x0_Metal', 'x0_Roll',\n",
       "       'x0_Tar&Grv', 'x0_WdShake', 'x0_WdShngl', 'x1_1.5Fin', 'x1_1.5Unf',\n",
       "       'x1_1Story', 'x1_2.5Fin', 'x1_2.5Unf', 'x1_2Story', 'x1_SFoyer',\n",
       "       'x1_SLvl'], dtype=object)"
      ]
     },
     "execution_count": 38,
     "metadata": {},
     "output_type": "execute_result"
    }
   ],
   "source": [
    "ohe = pipe.named_steps['ohe']\n",
    "ohe.get_feature_names()"
   ]
  },
  {
   "cell_type": "markdown",
   "metadata": {},
   "source": [
    "# Use the new ColumnTransformer to choose columns\n",
    "The brand new `ColumnTransformer` (part of the new compose module) allows you to choose which columns get which transformations. Categorical columns will almost always need separate transformations than continuous columns.\n",
    "\n",
    "The `ColumnTransformer` is currently experimental, meaning that its functionality can change in the future. The `ColumnTransformer` takes a list of three-item tuples. The first value in the tuple is a name that labels it, the second is an instantiated estimator, and the third is a list of columns you want to apply the transformation to. The tuple will look like this:\n",
    "\n",
    "```('name', SomeTransformer(parameters), columns)```\n",
    "\n",
    "The columns actually don't have to be column names. Instead, you can use the integer indexes of the columns, a boolean array, or even a function (which accepts the entire DataFrame as the argument and must return a selection of columns).\n",
    "\n",
    "You can also use NumPy arrays with the ColumnTransformer, but this tutorial is focused on the integration of Pandas so we will stick with just using DataFrames.\n",
    "\n",
    "# Pass a Pipeline to the ColumnTransformer\n",
    "We can even pass a pipeline of many transformations to the column transformer, which is what we do here because we have multiple transformations on our string columns.\n",
    "\n",
    "Below, we reproduce the above imputation and encoding using the `ColumnTransformer`. Notice that the pipeline is the exact same as above, just with `cat` appended to each variable name. We will add a different pipeline for the numeric columns in an upcoming section."
   ]
  },
  {
   "cell_type": "code",
   "execution_count": 39,
   "metadata": {},
   "outputs": [],
   "source": [
    "from sklearn.compose import ColumnTransformer\n",
    "\n",
    "cat_si_step = ('si', SimpleImputer(strategy='constant', fill_value='MISSING'))\n",
    "cat_ohe_step = ('ohe', OneHotEncoder(sparse=False, handle_unknown='ignore'))\n",
    "cat_steps = [cat_si_step, cat_ohe_step]\n",
    "\n",
    "cat_pipe = Pipeline(cat_steps)\n",
    "cat_cols = ['RoofMatl', 'HouseStyle']\n",
    "cat_transformers = [('cat', cat_pipe, cat_cols)]\n",
    "\n",
    "ct = ColumnTransformer(transformers=cat_transformers)"
   ]
  },
  {
   "cell_type": "markdown",
   "metadata": {},
   "source": [
    "## Pass the entire DataFrame to the ColumnTransformer\n",
    "The ColumnTransformer instance selects the columns we want to use, so we simply pass the entire DataFrame to the fit_transform method. The desired columns will be selected for us."
   ]
  },
  {
   "cell_type": "code",
   "execution_count": 40,
   "metadata": {},
   "outputs": [
    {
     "data": {
      "text/plain": [
       "array([[0., 1., 0., ..., 1., 0., 0.],\n",
       "       [0., 1., 0., ..., 0., 0., 0.],\n",
       "       [0., 1., 0., ..., 1., 0., 0.],\n",
       "       ...,\n",
       "       [0., 1., 0., ..., 1., 0., 0.],\n",
       "       [0., 1., 0., ..., 0., 0., 0.],\n",
       "       [0., 1., 0., ..., 0., 0., 0.]])"
      ]
     },
     "execution_count": 40,
     "metadata": {},
     "output_type": "execute_result"
    }
   ],
   "source": [
    "X_cat_transformed = ct.fit_transform(train)\n",
    "X_cat_transformed"
   ]
  },
  {
   "cell_type": "code",
   "execution_count": 41,
   "metadata": {},
   "outputs": [
    {
     "data": {
      "text/plain": [
       "(1460, 16)"
      ]
     },
     "execution_count": 41,
     "metadata": {},
     "output_type": "execute_result"
    }
   ],
   "source": [
    "X_cat_transformed.shape"
   ]
  },
  {
   "cell_type": "markdown",
   "metadata": {},
   "source": [
    "We can now transform our test set in the same manner."
   ]
  },
  {
   "cell_type": "code",
   "execution_count": 42,
   "metadata": {},
   "outputs": [
    {
     "data": {
      "text/plain": [
       "(1459, 16)"
      ]
     },
     "execution_count": 42,
     "metadata": {},
     "output_type": "execute_result"
    }
   ],
   "source": [
    "X_cat_transformed_test = ct.transform(test)\n",
    "X_cat_transformed_test.shape"
   ]
  },
  {
   "cell_type": "markdown",
   "metadata": {},
   "source": [
    "### Retrieving the feature names\n",
    "We have to do a little digging to get the feature names. All the transformers are stored in the `named_transformers_` dictionary attribute. We then use the names, the first item from the three-item tuple to select the specific transformer. Below, we select our transformer (there is only one here - a pipeline named 'cat')."
   ]
  },
  {
   "cell_type": "code",
   "execution_count": 43,
   "metadata": {},
   "outputs": [],
   "source": [
    "pl = ct.named_transformers_['cat']"
   ]
  },
  {
   "cell_type": "markdown",
   "metadata": {},
   "source": [
    "Then from this pipeline we select the one-hot encoder object and finally get the feature names."
   ]
  },
  {
   "cell_type": "code",
   "execution_count": 44,
   "metadata": {},
   "outputs": [
    {
     "data": {
      "text/plain": [
       "array(['x0_ClyTile', 'x0_CompShg', 'x0_Membran', 'x0_Metal', 'x0_Roll',\n",
       "       'x0_Tar&Grv', 'x0_WdShake', 'x0_WdShngl', 'x1_1.5Fin', 'x1_1.5Unf',\n",
       "       'x1_1Story', 'x1_2.5Fin', 'x1_2.5Unf', 'x1_2Story', 'x1_SFoyer',\n",
       "       'x1_SLvl'], dtype=object)"
      ]
     },
     "execution_count": 44,
     "metadata": {},
     "output_type": "execute_result"
    }
   ],
   "source": [
    "ohe = pl.named_steps['ohe']\n",
    "ohe.get_feature_names()"
   ]
  },
  {
   "cell_type": "markdown",
   "metadata": {},
   "source": [
    "# Transforming the numeric columns\n",
    "The numeric columns will need a different set of transformations. Instead of imputing missing values with a constant, the median or mean is often chosen. And instead of encoding the values, we usually standardize them by subtracting the mean of each column and dividing by the standard deviation. This helps many models like ridge regression produce a better fit.\n",
    "\n",
    "## Usually all the numeric columns\n",
    "\n",
    "Instead of selecting just one or two columns by hand like we did above with the string columns, we can select all of the numeric columns. We do this by first finding the data type of each column with the dtypes attribute and then testing whether the kind of each dtype is 'O'. The dtypes attribute returns a Series of NumPy dtype objects. Each of these has a kind attribute that is a single character. We can use this to find the numeric or string columns. Pandas stores all of its string columns as object which have a kind equal to 'O'. See the [NumPy docs][1] for more on the `kind` attribute.\n",
    "\n",
    "[1]: https://docs.scipy.org/doc/numpy/reference/generated/numpy.dtype.kind.html"
   ]
  },
  {
   "cell_type": "code",
   "execution_count": 45,
   "metadata": {},
   "outputs": [
    {
     "data": {
      "text/plain": [
       "Id               int64\n",
       "MSSubClass       int64\n",
       "MSZoning        object\n",
       "LotFrontage    float64\n",
       "LotArea          int64\n",
       "dtype: object"
      ]
     },
     "execution_count": 45,
     "metadata": {},
     "output_type": "execute_result"
    }
   ],
   "source": [
    "train.dtypes.head()"
   ]
  },
  {
   "cell_type": "markdown",
   "metadata": {},
   "source": [
    "Get the kinds, a one character string representing the dtype."
   ]
  },
  {
   "cell_type": "code",
   "execution_count": 46,
   "metadata": {},
   "outputs": [
    {
     "data": {
      "text/plain": [
       "array(['i', 'i', 'O', 'f', 'i'], dtype='<U1')"
      ]
     },
     "execution_count": 46,
     "metadata": {},
     "output_type": "execute_result"
    }
   ],
   "source": [
    "kinds = np.array([dt.kind for dt in train.dtypes])\n",
    "kinds[:5]"
   ]
  },
  {
   "cell_type": "markdown",
   "metadata": {},
   "source": [
    "Assume all numeric columns are non-object."
   ]
  },
  {
   "cell_type": "code",
   "execution_count": 47,
   "metadata": {},
   "outputs": [
    {
     "data": {
      "text/plain": [
       "array(['Id', 'MSSubClass', 'LotFrontage', 'LotArea', 'OverallQual'],\n",
       "      dtype=object)"
      ]
     },
     "execution_count": 47,
     "metadata": {},
     "output_type": "execute_result"
    }
   ],
   "source": [
    "all_columns = train.columns.values\n",
    "is_num = kinds != 'O'\n",
    "num_cols = all_columns[is_num]\n",
    "num_cols[:5]"
   ]
  },
  {
   "cell_type": "code",
   "execution_count": 48,
   "metadata": {},
   "outputs": [
    {
     "data": {
      "text/plain": [
       "array(['MSZoning', 'Street', 'Alley', 'LotShape', 'LandContour'],\n",
       "      dtype=object)"
      ]
     },
     "execution_count": 48,
     "metadata": {},
     "output_type": "execute_result"
    }
   ],
   "source": [
    "cat_cols = all_columns[~is_num]\n",
    "cat_cols[:5]"
   ]
  },
  {
   "cell_type": "markdown",
   "metadata": {},
   "source": [
    "Once we have our numeric column names, we can use the `ColumnTransformer` again."
   ]
  },
  {
   "cell_type": "code",
   "execution_count": 49,
   "metadata": {},
   "outputs": [
    {
     "data": {
      "text/plain": [
       "(1460, 37)"
      ]
     },
     "execution_count": 49,
     "metadata": {},
     "output_type": "execute_result"
    }
   ],
   "source": [
    "from sklearn.preprocessing import StandardScaler\n",
    "\n",
    "num_si_step = ('si', SimpleImputer(strategy='median'))\n",
    "num_ss_step = ('ss', StandardScaler())\n",
    "num_steps = [num_si_step, num_ss_step]\n",
    "\n",
    "num_pipe = Pipeline(num_steps)\n",
    "num_transformers = [('num', num_pipe, num_cols)]\n",
    "\n",
    "ct = ColumnTransformer(transformers=num_transformers)\n",
    "\n",
    "X_num_transformed = ct.fit_transform(train)\n",
    "X_num_transformed.shape"
   ]
  },
  {
   "cell_type": "markdown",
   "metadata": {},
   "source": [
    "# Combining both categorical and numerical column transformations\n",
    "We can apply separate transformations to each section of our DataFrame with `ColumnTransformer`. We will use every single column in this example. \n",
    "\n",
    "We then create a separate pipeline for both categorical and numerical columns and then use the `ColumnTransformer` to independently transform them. These two transformations happen **in parallel**. The results of each are then concatenated together."
   ]
  },
  {
   "cell_type": "code",
   "execution_count": 50,
   "metadata": {},
   "outputs": [
    {
     "data": {
      "text/plain": [
       "(1460, 305)"
      ]
     },
     "execution_count": 50,
     "metadata": {},
     "output_type": "execute_result"
    }
   ],
   "source": [
    "transformers = [('cat', cat_pipe, cat_cols),\n",
    "                ('num', num_pipe, num_cols)]\n",
    "\n",
    "ct = ColumnTransformer(transformers=transformers)\n",
    "\n",
    "X = ct.fit_transform(train)\n",
    "X.shape"
   ]
  },
  {
   "cell_type": "markdown",
   "metadata": {},
   "source": [
    "# Machine Learning\n",
    "The whole point of this exercise is to set up our data so that we can do machine learning. We can create one final pipeline and add a machine learning model as the final estimator. The first step in the pipeline will be the entire transformation we just did above. We assigned `y` way back at the top of the tutorial as the `SalePrice`. Here, we will just use the `fit` method instead of `fit_transform` since our final step is a machine learning model and does no transformations."
   ]
  },
  {
   "cell_type": "code",
   "execution_count": 51,
   "metadata": {},
   "outputs": [
    {
     "data": {
      "text/plain": [
       "Pipeline(memory=None,\n",
       "     steps=[('transform', ColumnTransformer(n_jobs=None, remainder='drop', sparse_threshold=0.3,\n",
       "         transformer_weights=None,\n",
       "         transformers=[('cat', Pipeline(memory=None,\n",
       "     steps=[('si', SimpleImputer(copy=True, fill_value='MISSING', missing_values=nan,\n",
       "       strategy='constant', verbos...it_intercept=True, max_iter=None,\n",
       "   normalize=False, random_state=None, solver='auto', tol=0.001))])"
      ]
     },
     "execution_count": 51,
     "metadata": {},
     "output_type": "execute_result"
    }
   ],
   "source": [
    "from sklearn.linear_model import Ridge\n",
    "\n",
    "ml_pipe = Pipeline([('transform', ct), ('ridge', Ridge())])\n",
    "ml_pipe.fit(train, y)"
   ]
  },
  {
   "cell_type": "code",
   "execution_count": 52,
   "metadata": {},
   "outputs": [
    {
     "data": {
      "text/plain": [
       "0.9220545988101002"
      ]
     },
     "execution_count": 52,
     "metadata": {},
     "output_type": "execute_result"
    }
   ],
   "source": [
    "ml_pipe.score(train, y)"
   ]
  },
  {
   "cell_type": "markdown",
   "metadata": {},
   "source": [
    "# Cross Validation\n",
    "Of course, scoring ourselves on the training set is not useful. Let's do some K-fold cross validation to get an idea of how well we would do with unseen data. We set a random state so that the splits will be the same throughout the rest of the tutorial."
   ]
  },
  {
   "cell_type": "code",
   "execution_count": 53,
   "metadata": {},
   "outputs": [
    {
     "data": {
      "text/plain": [
       "0.8133920019569663"
      ]
     },
     "execution_count": 53,
     "metadata": {},
     "output_type": "execute_result"
    }
   ],
   "source": [
    "from sklearn.model_selection import KFold, cross_val_score\n",
    "kf = KFold(n_splits=5, shuffle=True, random_state=123)\n",
    "\n",
    "cross_val_score(ml_pipe, train, y, cv=kf).mean()"
   ]
  },
  {
   "cell_type": "markdown",
   "metadata": {},
   "source": [
    "# Selecting parameters when Grid Searching\n",
    "Grid searching in Scikit-Learn requires us to pass a dictionary of parameter names mapped to possible values. When using a pipeline, we must use the name of the step followed by a double-underscore and then the parameter name. If there are multiple layers to your pipeline, as we have here, we must continue using double-underscores to move up a level until we reach the estimator whose parameters we would like to optimize."
   ]
  },
  {
   "cell_type": "code",
   "execution_count": 54,
   "metadata": {},
   "outputs": [],
   "source": [
    "from sklearn.model_selection import GridSearchCV\n",
    "\n",
    "param_grid = {\n",
    "    'transform__num__si__strategy': ['mean', 'median'],\n",
    "    'ridge__alpha': [.001, 0.1, 1.0, 5, 10, 50, 100, 1000],\n",
    "}\n",
    "gs = GridSearchCV(ml_pipe, param_grid, cv=kf)"
   ]
  },
  {
   "cell_type": "code",
   "execution_count": 55,
   "metadata": {},
   "outputs": [
    {
     "data": {
      "text/plain": [
       "{'ridge__alpha': 10, 'transform__num__si__strategy': 'median'}"
      ]
     },
     "execution_count": 55,
     "metadata": {},
     "output_type": "execute_result"
    }
   ],
   "source": [
    "gs.fit(train, y)\n",
    "gs.best_params_"
   ]
  },
  {
   "cell_type": "code",
   "execution_count": 56,
   "metadata": {},
   "outputs": [
    {
     "data": {
      "text/plain": [
       "0.8190367464419676"
      ]
     },
     "execution_count": 56,
     "metadata": {},
     "output_type": "execute_result"
    }
   ],
   "source": [
    "gs.best_score_"
   ]
  },
  {
   "cell_type": "markdown",
   "metadata": {},
   "source": [
    "## Getting all the grid search results in a Pandas DataFrame\n",
    "All the results of the grid search are stored in the `cv_results_` attribute. This is a dictionary that can get converted to a Pandas DataFrame for a nice display and is provides a structure that is much easier to manually scan."
   ]
  },
  {
   "cell_type": "code",
   "execution_count": 57,
   "metadata": {},
   "outputs": [],
   "source": [
    "pd.options.display.max_columns = 100\n",
    "pd.options.display.max_colwidth = 200"
   ]
  },
  {
   "cell_type": "code",
   "execution_count": 58,
   "metadata": {},
   "outputs": [
    {
     "name": "stderr",
     "output_type": "stream",
     "text": [
      "/Users/Ted/anaconda3/lib/python3.6/site-packages/sklearn/utils/deprecation.py:125: FutureWarning: You are accessing a training score ('split0_train_score'), which will not be available by default any more in 0.21. If you need training scores, please set return_train_score=True\n",
      "  warnings.warn(*warn_args, **warn_kwargs)\n",
      "/Users/Ted/anaconda3/lib/python3.6/site-packages/sklearn/utils/deprecation.py:125: FutureWarning: You are accessing a training score ('split1_train_score'), which will not be available by default any more in 0.21. If you need training scores, please set return_train_score=True\n",
      "  warnings.warn(*warn_args, **warn_kwargs)\n",
      "/Users/Ted/anaconda3/lib/python3.6/site-packages/sklearn/utils/deprecation.py:125: FutureWarning: You are accessing a training score ('split2_train_score'), which will not be available by default any more in 0.21. If you need training scores, please set return_train_score=True\n",
      "  warnings.warn(*warn_args, **warn_kwargs)\n",
      "/Users/Ted/anaconda3/lib/python3.6/site-packages/sklearn/utils/deprecation.py:125: FutureWarning: You are accessing a training score ('split3_train_score'), which will not be available by default any more in 0.21. If you need training scores, please set return_train_score=True\n",
      "  warnings.warn(*warn_args, **warn_kwargs)\n",
      "/Users/Ted/anaconda3/lib/python3.6/site-packages/sklearn/utils/deprecation.py:125: FutureWarning: You are accessing a training score ('split4_train_score'), which will not be available by default any more in 0.21. If you need training scores, please set return_train_score=True\n",
      "  warnings.warn(*warn_args, **warn_kwargs)\n",
      "/Users/Ted/anaconda3/lib/python3.6/site-packages/sklearn/utils/deprecation.py:125: FutureWarning: You are accessing a training score ('mean_train_score'), which will not be available by default any more in 0.21. If you need training scores, please set return_train_score=True\n",
      "  warnings.warn(*warn_args, **warn_kwargs)\n",
      "/Users/Ted/anaconda3/lib/python3.6/site-packages/sklearn/utils/deprecation.py:125: FutureWarning: You are accessing a training score ('std_train_score'), which will not be available by default any more in 0.21. If you need training scores, please set return_train_score=True\n",
      "  warnings.warn(*warn_args, **warn_kwargs)\n"
     ]
    },
    {
     "data": {
      "text/html": [
       "<div>\n",
       "<style scoped>\n",
       "    .dataframe tbody tr th:only-of-type {\n",
       "        vertical-align: middle;\n",
       "    }\n",
       "\n",
       "    .dataframe tbody tr th {\n",
       "        vertical-align: top;\n",
       "    }\n",
       "\n",
       "    .dataframe thead th {\n",
       "        text-align: right;\n",
       "    }\n",
       "</style>\n",
       "<table border=\"1\" class=\"dataframe\">\n",
       "  <thead>\n",
       "    <tr style=\"text-align: right;\">\n",
       "      <th></th>\n",
       "      <th>mean_fit_time</th>\n",
       "      <th>std_fit_time</th>\n",
       "      <th>mean_score_time</th>\n",
       "      <th>std_score_time</th>\n",
       "      <th>param_ridge__alpha</th>\n",
       "      <th>param_transform__num__si__strategy</th>\n",
       "      <th>params</th>\n",
       "      <th>split0_test_score</th>\n",
       "      <th>split1_test_score</th>\n",
       "      <th>split2_test_score</th>\n",
       "      <th>split3_test_score</th>\n",
       "      <th>split4_test_score</th>\n",
       "      <th>mean_test_score</th>\n",
       "      <th>std_test_score</th>\n",
       "      <th>rank_test_score</th>\n",
       "      <th>split0_train_score</th>\n",
       "      <th>split1_train_score</th>\n",
       "      <th>split2_train_score</th>\n",
       "      <th>split3_train_score</th>\n",
       "      <th>split4_train_score</th>\n",
       "      <th>mean_train_score</th>\n",
       "      <th>std_train_score</th>\n",
       "    </tr>\n",
       "  </thead>\n",
       "  <tbody>\n",
       "    <tr>\n",
       "      <th>0</th>\n",
       "      <td>0.035772</td>\n",
       "      <td>0.000894</td>\n",
       "      <td>0.008333</td>\n",
       "      <td>0.001063</td>\n",
       "      <td>0.001</td>\n",
       "      <td>mean</td>\n",
       "      <td>{'ridge__alpha': 0.001, 'transform__num__si__strategy': 'mean'}</td>\n",
       "      <td>0.898019</td>\n",
       "      <td>0.024032</td>\n",
       "      <td>0.775950</td>\n",
       "      <td>0.883812</td>\n",
       "      <td>0.662549</td>\n",
       "      <td>0.648872</td>\n",
       "      <td>0.323738</td>\n",
       "      <td>16</td>\n",
       "      <td>0.935225</td>\n",
       "      <td>0.945623</td>\n",
       "      <td>0.945871</td>\n",
       "      <td>0.938929</td>\n",
       "      <td>0.933276</td>\n",
       "      <td>0.939785</td>\n",
       "      <td>0.005197</td>\n",
       "    </tr>\n",
       "    <tr>\n",
       "      <th>1</th>\n",
       "      <td>0.033590</td>\n",
       "      <td>0.000494</td>\n",
       "      <td>0.007693</td>\n",
       "      <td>0.000153</td>\n",
       "      <td>0.001</td>\n",
       "      <td>median</td>\n",
       "      <td>{'ridge__alpha': 0.001, 'transform__num__si__strategy': 'median'}</td>\n",
       "      <td>0.898015</td>\n",
       "      <td>0.024086</td>\n",
       "      <td>0.775946</td>\n",
       "      <td>0.883812</td>\n",
       "      <td>0.662624</td>\n",
       "      <td>0.648897</td>\n",
       "      <td>0.323717</td>\n",
       "      <td>15</td>\n",
       "      <td>0.935224</td>\n",
       "      <td>0.945617</td>\n",
       "      <td>0.945872</td>\n",
       "      <td>0.938929</td>\n",
       "      <td>0.933274</td>\n",
       "      <td>0.939783</td>\n",
       "      <td>0.005196</td>\n",
       "    </tr>\n",
       "    <tr>\n",
       "      <th>2</th>\n",
       "      <td>0.035185</td>\n",
       "      <td>0.001886</td>\n",
       "      <td>0.009171</td>\n",
       "      <td>0.000782</td>\n",
       "      <td>0.1</td>\n",
       "      <td>mean</td>\n",
       "      <td>{'ridge__alpha': 0.1, 'transform__num__si__strategy': 'mean'}</td>\n",
       "      <td>0.897111</td>\n",
       "      <td>0.779393</td>\n",
       "      <td>0.800366</td>\n",
       "      <td>0.884558</td>\n",
       "      <td>0.653398</td>\n",
       "      <td>0.802965</td>\n",
       "      <td>0.087697</td>\n",
       "      <td>12</td>\n",
       "      <td>0.934181</td>\n",
       "      <td>0.942736</td>\n",
       "      <td>0.944092</td>\n",
       "      <td>0.937660</td>\n",
       "      <td>0.933105</td>\n",
       "      <td>0.938355</td>\n",
       "      <td>0.004418</td>\n",
       "    </tr>\n",
       "    <tr>\n",
       "      <th>3</th>\n",
       "      <td>0.038704</td>\n",
       "      <td>0.003397</td>\n",
       "      <td>0.008520</td>\n",
       "      <td>0.000977</td>\n",
       "      <td>0.1</td>\n",
       "      <td>median</td>\n",
       "      <td>{'ridge__alpha': 0.1, 'transform__num__si__strategy': 'median'}</td>\n",
       "      <td>0.897114</td>\n",
       "      <td>0.779408</td>\n",
       "      <td>0.800366</td>\n",
       "      <td>0.884561</td>\n",
       "      <td>0.653472</td>\n",
       "      <td>0.802984</td>\n",
       "      <td>0.087672</td>\n",
       "      <td>11</td>\n",
       "      <td>0.934181</td>\n",
       "      <td>0.942731</td>\n",
       "      <td>0.944092</td>\n",
       "      <td>0.937660</td>\n",
       "      <td>0.933104</td>\n",
       "      <td>0.938354</td>\n",
       "      <td>0.004417</td>\n",
       "    </tr>\n",
       "    <tr>\n",
       "      <th>4</th>\n",
       "      <td>0.034963</td>\n",
       "      <td>0.000945</td>\n",
       "      <td>0.008691</td>\n",
       "      <td>0.000903</td>\n",
       "      <td>1</td>\n",
       "      <td>mean</td>\n",
       "      <td>{'ridge__alpha': 1.0, 'transform__num__si__strategy': 'mean'}</td>\n",
       "      <td>0.891715</td>\n",
       "      <td>0.809381</td>\n",
       "      <td>0.822107</td>\n",
       "      <td>0.876908</td>\n",
       "      <td>0.666710</td>\n",
       "      <td>0.813364</td>\n",
       "      <td>0.079720</td>\n",
       "      <td>8</td>\n",
       "      <td>0.922745</td>\n",
       "      <td>0.931678</td>\n",
       "      <td>0.928385</td>\n",
       "      <td>0.925259</td>\n",
       "      <td>0.929545</td>\n",
       "      <td>0.927523</td>\n",
       "      <td>0.003164</td>\n",
       "    </tr>\n",
       "    <tr>\n",
       "      <th>5</th>\n",
       "      <td>0.037801</td>\n",
       "      <td>0.001084</td>\n",
       "      <td>0.008998</td>\n",
       "      <td>0.001275</td>\n",
       "      <td>1</td>\n",
       "      <td>median</td>\n",
       "      <td>{'ridge__alpha': 1.0, 'transform__num__si__strategy': 'median'}</td>\n",
       "      <td>0.891728</td>\n",
       "      <td>0.809413</td>\n",
       "      <td>0.822128</td>\n",
       "      <td>0.876924</td>\n",
       "      <td>0.666768</td>\n",
       "      <td>0.813392</td>\n",
       "      <td>0.079704</td>\n",
       "      <td>7</td>\n",
       "      <td>0.922745</td>\n",
       "      <td>0.931680</td>\n",
       "      <td>0.928385</td>\n",
       "      <td>0.925261</td>\n",
       "      <td>0.929545</td>\n",
       "      <td>0.927523</td>\n",
       "      <td>0.003164</td>\n",
       "    </tr>\n",
       "    <tr>\n",
       "      <th>6</th>\n",
       "      <td>0.034113</td>\n",
       "      <td>0.001811</td>\n",
       "      <td>0.008526</td>\n",
       "      <td>0.000628</td>\n",
       "      <td>5</td>\n",
       "      <td>mean</td>\n",
       "      <td>{'ridge__alpha': 5, 'transform__num__si__strategy': 'mean'}</td>\n",
       "      <td>0.889795</td>\n",
       "      <td>0.820456</td>\n",
       "      <td>0.820334</td>\n",
       "      <td>0.871716</td>\n",
       "      <td>0.684609</td>\n",
       "      <td>0.817382</td>\n",
       "      <td>0.071892</td>\n",
       "      <td>4</td>\n",
       "      <td>0.906954</td>\n",
       "      <td>0.916934</td>\n",
       "      <td>0.912647</td>\n",
       "      <td>0.909262</td>\n",
       "      <td>0.920456</td>\n",
       "      <td>0.913251</td>\n",
       "      <td>0.004928</td>\n",
       "    </tr>\n",
       "    <tr>\n",
       "      <th>7</th>\n",
       "      <td>0.037207</td>\n",
       "      <td>0.002088</td>\n",
       "      <td>0.008591</td>\n",
       "      <td>0.000501</td>\n",
       "      <td>5</td>\n",
       "      <td>median</td>\n",
       "      <td>{'ridge__alpha': 5, 'transform__num__si__strategy': 'median'}</td>\n",
       "      <td>0.889804</td>\n",
       "      <td>0.820471</td>\n",
       "      <td>0.820383</td>\n",
       "      <td>0.871755</td>\n",
       "      <td>0.684598</td>\n",
       "      <td>0.817402</td>\n",
       "      <td>0.071905</td>\n",
       "      <td>3</td>\n",
       "      <td>0.906956</td>\n",
       "      <td>0.916942</td>\n",
       "      <td>0.912647</td>\n",
       "      <td>0.909265</td>\n",
       "      <td>0.920460</td>\n",
       "      <td>0.913254</td>\n",
       "      <td>0.004929</td>\n",
       "    </tr>\n",
       "    <tr>\n",
       "      <th>8</th>\n",
       "      <td>0.031866</td>\n",
       "      <td>0.002102</td>\n",
       "      <td>0.007863</td>\n",
       "      <td>0.000569</td>\n",
       "      <td>10</td>\n",
       "      <td>mean</td>\n",
       "      <td>{'ridge__alpha': 10, 'transform__num__si__strategy': 'mean'}</td>\n",
       "      <td>0.890470</td>\n",
       "      <td>0.824359</td>\n",
       "      <td>0.819779</td>\n",
       "      <td>0.871443</td>\n",
       "      <td>0.689068</td>\n",
       "      <td>0.819024</td>\n",
       "      <td>0.070385</td>\n",
       "      <td>2</td>\n",
       "      <td>0.899419</td>\n",
       "      <td>0.909901</td>\n",
       "      <td>0.905999</td>\n",
       "      <td>0.901841</td>\n",
       "      <td>0.915168</td>\n",
       "      <td>0.906466</td>\n",
       "      <td>0.005635</td>\n",
       "    </tr>\n",
       "    <tr>\n",
       "      <th>9</th>\n",
       "      <td>0.034320</td>\n",
       "      <td>0.001349</td>\n",
       "      <td>0.008168</td>\n",
       "      <td>0.000819</td>\n",
       "      <td>10</td>\n",
       "      <td>median</td>\n",
       "      <td>{'ridge__alpha': 10, 'transform__num__si__strategy': 'median'}</td>\n",
       "      <td>0.890488</td>\n",
       "      <td>0.824358</td>\n",
       "      <td>0.819844</td>\n",
       "      <td>0.871495</td>\n",
       "      <td>0.688998</td>\n",
       "      <td>0.819037</td>\n",
       "      <td>0.070422</td>\n",
       "      <td>1</td>\n",
       "      <td>0.899421</td>\n",
       "      <td>0.909908</td>\n",
       "      <td>0.905997</td>\n",
       "      <td>0.901841</td>\n",
       "      <td>0.915177</td>\n",
       "      <td>0.906469</td>\n",
       "      <td>0.005639</td>\n",
       "    </tr>\n",
       "    <tr>\n",
       "      <th>10</th>\n",
       "      <td>0.030241</td>\n",
       "      <td>0.000444</td>\n",
       "      <td>0.007539</td>\n",
       "      <td>0.000184</td>\n",
       "      <td>50</td>\n",
       "      <td>mean</td>\n",
       "      <td>{'ridge__alpha': 50, 'transform__num__si__strategy': 'mean'}</td>\n",
       "      <td>0.888784</td>\n",
       "      <td>0.829182</td>\n",
       "      <td>0.812185</td>\n",
       "      <td>0.869512</td>\n",
       "      <td>0.684799</td>\n",
       "      <td>0.816893</td>\n",
       "      <td>0.071497</td>\n",
       "      <td>5</td>\n",
       "      <td>0.877225</td>\n",
       "      <td>0.889170</td>\n",
       "      <td>0.886337</td>\n",
       "      <td>0.880315</td>\n",
       "      <td>0.899480</td>\n",
       "      <td>0.886505</td>\n",
       "      <td>0.007745</td>\n",
       "    </tr>\n",
       "    <tr>\n",
       "      <th>11</th>\n",
       "      <td>0.035850</td>\n",
       "      <td>0.002607</td>\n",
       "      <td>0.008184</td>\n",
       "      <td>0.000733</td>\n",
       "      <td>50</td>\n",
       "      <td>median</td>\n",
       "      <td>{'ridge__alpha': 50, 'transform__num__si__strategy': 'median'}</td>\n",
       "      <td>0.888869</td>\n",
       "      <td>0.829144</td>\n",
       "      <td>0.812289</td>\n",
       "      <td>0.869587</td>\n",
       "      <td>0.684570</td>\n",
       "      <td>0.816892</td>\n",
       "      <td>0.071607</td>\n",
       "      <td>6</td>\n",
       "      <td>0.877204</td>\n",
       "      <td>0.889163</td>\n",
       "      <td>0.886321</td>\n",
       "      <td>0.880295</td>\n",
       "      <td>0.899514</td>\n",
       "      <td>0.886499</td>\n",
       "      <td>0.007764</td>\n",
       "    </tr>\n",
       "    <tr>\n",
       "      <th>12</th>\n",
       "      <td>0.030214</td>\n",
       "      <td>0.000536</td>\n",
       "      <td>0.007883</td>\n",
       "      <td>0.000708</td>\n",
       "      <td>100</td>\n",
       "      <td>mean</td>\n",
       "      <td>{'ridge__alpha': 100, 'transform__num__si__strategy': 'mean'}</td>\n",
       "      <td>0.883419</td>\n",
       "      <td>0.828564</td>\n",
       "      <td>0.805405</td>\n",
       "      <td>0.866115</td>\n",
       "      <td>0.682165</td>\n",
       "      <td>0.813134</td>\n",
       "      <td>0.070990</td>\n",
       "      <td>9</td>\n",
       "      <td>0.864599</td>\n",
       "      <td>0.877075</td>\n",
       "      <td>0.875010</td>\n",
       "      <td>0.867937</td>\n",
       "      <td>0.890745</td>\n",
       "      <td>0.875073</td>\n",
       "      <td>0.009058</td>\n",
       "    </tr>\n",
       "    <tr>\n",
       "      <th>13</th>\n",
       "      <td>0.034742</td>\n",
       "      <td>0.002288</td>\n",
       "      <td>0.008056</td>\n",
       "      <td>0.000457</td>\n",
       "      <td>100</td>\n",
       "      <td>median</td>\n",
       "      <td>{'ridge__alpha': 100, 'transform__num__si__strategy': 'median'}</td>\n",
       "      <td>0.883538</td>\n",
       "      <td>0.828526</td>\n",
       "      <td>0.805521</td>\n",
       "      <td>0.866185</td>\n",
       "      <td>0.681869</td>\n",
       "      <td>0.813128</td>\n",
       "      <td>0.071129</td>\n",
       "      <td>10</td>\n",
       "      <td>0.864563</td>\n",
       "      <td>0.877062</td>\n",
       "      <td>0.874983</td>\n",
       "      <td>0.867906</td>\n",
       "      <td>0.890793</td>\n",
       "      <td>0.875061</td>\n",
       "      <td>0.009088</td>\n",
       "    </tr>\n",
       "    <tr>\n",
       "      <th>14</th>\n",
       "      <td>0.031690</td>\n",
       "      <td>0.001991</td>\n",
       "      <td>0.007792</td>\n",
       "      <td>0.000164</td>\n",
       "      <td>1000</td>\n",
       "      <td>mean</td>\n",
       "      <td>{'ridge__alpha': 1000, 'transform__num__si__strategy': 'mean'}</td>\n",
       "      <td>0.827384</td>\n",
       "      <td>0.802843</td>\n",
       "      <td>0.770604</td>\n",
       "      <td>0.824862</td>\n",
       "      <td>0.708974</td>\n",
       "      <td>0.786933</td>\n",
       "      <td>0.043982</td>\n",
       "      <td>13</td>\n",
       "      <td>0.804761</td>\n",
       "      <td>0.815626</td>\n",
       "      <td>0.816331</td>\n",
       "      <td>0.806766</td>\n",
       "      <td>0.837717</td>\n",
       "      <td>0.816240</td>\n",
       "      <td>0.011689</td>\n",
       "    </tr>\n",
       "    <tr>\n",
       "      <th>15</th>\n",
       "      <td>0.036470</td>\n",
       "      <td>0.003377</td>\n",
       "      <td>0.008184</td>\n",
       "      <td>0.000534</td>\n",
       "      <td>1000</td>\n",
       "      <td>median</td>\n",
       "      <td>{'ridge__alpha': 1000, 'transform__num__si__strategy': 'median'}</td>\n",
       "      <td>0.827546</td>\n",
       "      <td>0.802913</td>\n",
       "      <td>0.770733</td>\n",
       "      <td>0.824912</td>\n",
       "      <td>0.708546</td>\n",
       "      <td>0.786930</td>\n",
       "      <td>0.044168</td>\n",
       "      <td>14</td>\n",
       "      <td>0.804700</td>\n",
       "      <td>0.815616</td>\n",
       "      <td>0.816307</td>\n",
       "      <td>0.806755</td>\n",
       "      <td>0.837821</td>\n",
       "      <td>0.816240</td>\n",
       "      <td>0.011741</td>\n",
       "    </tr>\n",
       "  </tbody>\n",
       "</table>\n",
       "</div>"
      ],
      "text/plain": [
       "    mean_fit_time  std_fit_time  mean_score_time  std_score_time  \\\n",
       "0        0.035772      0.000894         0.008333        0.001063   \n",
       "1        0.033590      0.000494         0.007693        0.000153   \n",
       "2        0.035185      0.001886         0.009171        0.000782   \n",
       "3        0.038704      0.003397         0.008520        0.000977   \n",
       "4        0.034963      0.000945         0.008691        0.000903   \n",
       "5        0.037801      0.001084         0.008998        0.001275   \n",
       "6        0.034113      0.001811         0.008526        0.000628   \n",
       "7        0.037207      0.002088         0.008591        0.000501   \n",
       "8        0.031866      0.002102         0.007863        0.000569   \n",
       "9        0.034320      0.001349         0.008168        0.000819   \n",
       "10       0.030241      0.000444         0.007539        0.000184   \n",
       "11       0.035850      0.002607         0.008184        0.000733   \n",
       "12       0.030214      0.000536         0.007883        0.000708   \n",
       "13       0.034742      0.002288         0.008056        0.000457   \n",
       "14       0.031690      0.001991         0.007792        0.000164   \n",
       "15       0.036470      0.003377         0.008184        0.000534   \n",
       "\n",
       "   param_ridge__alpha param_transform__num__si__strategy  \\\n",
       "0               0.001                               mean   \n",
       "1               0.001                             median   \n",
       "2                 0.1                               mean   \n",
       "3                 0.1                             median   \n",
       "4                   1                               mean   \n",
       "5                   1                             median   \n",
       "6                   5                               mean   \n",
       "7                   5                             median   \n",
       "8                  10                               mean   \n",
       "9                  10                             median   \n",
       "10                 50                               mean   \n",
       "11                 50                             median   \n",
       "12                100                               mean   \n",
       "13                100                             median   \n",
       "14               1000                               mean   \n",
       "15               1000                             median   \n",
       "\n",
       "                                                               params  \\\n",
       "0     {'ridge__alpha': 0.001, 'transform__num__si__strategy': 'mean'}   \n",
       "1   {'ridge__alpha': 0.001, 'transform__num__si__strategy': 'median'}   \n",
       "2       {'ridge__alpha': 0.1, 'transform__num__si__strategy': 'mean'}   \n",
       "3     {'ridge__alpha': 0.1, 'transform__num__si__strategy': 'median'}   \n",
       "4       {'ridge__alpha': 1.0, 'transform__num__si__strategy': 'mean'}   \n",
       "5     {'ridge__alpha': 1.0, 'transform__num__si__strategy': 'median'}   \n",
       "6         {'ridge__alpha': 5, 'transform__num__si__strategy': 'mean'}   \n",
       "7       {'ridge__alpha': 5, 'transform__num__si__strategy': 'median'}   \n",
       "8        {'ridge__alpha': 10, 'transform__num__si__strategy': 'mean'}   \n",
       "9      {'ridge__alpha': 10, 'transform__num__si__strategy': 'median'}   \n",
       "10       {'ridge__alpha': 50, 'transform__num__si__strategy': 'mean'}   \n",
       "11     {'ridge__alpha': 50, 'transform__num__si__strategy': 'median'}   \n",
       "12      {'ridge__alpha': 100, 'transform__num__si__strategy': 'mean'}   \n",
       "13    {'ridge__alpha': 100, 'transform__num__si__strategy': 'median'}   \n",
       "14     {'ridge__alpha': 1000, 'transform__num__si__strategy': 'mean'}   \n",
       "15   {'ridge__alpha': 1000, 'transform__num__si__strategy': 'median'}   \n",
       "\n",
       "    split0_test_score  split1_test_score  split2_test_score  \\\n",
       "0            0.898019           0.024032           0.775950   \n",
       "1            0.898015           0.024086           0.775946   \n",
       "2            0.897111           0.779393           0.800366   \n",
       "3            0.897114           0.779408           0.800366   \n",
       "4            0.891715           0.809381           0.822107   \n",
       "5            0.891728           0.809413           0.822128   \n",
       "6            0.889795           0.820456           0.820334   \n",
       "7            0.889804           0.820471           0.820383   \n",
       "8            0.890470           0.824359           0.819779   \n",
       "9            0.890488           0.824358           0.819844   \n",
       "10           0.888784           0.829182           0.812185   \n",
       "11           0.888869           0.829144           0.812289   \n",
       "12           0.883419           0.828564           0.805405   \n",
       "13           0.883538           0.828526           0.805521   \n",
       "14           0.827384           0.802843           0.770604   \n",
       "15           0.827546           0.802913           0.770733   \n",
       "\n",
       "    split3_test_score  split4_test_score  mean_test_score  std_test_score  \\\n",
       "0            0.883812           0.662549         0.648872        0.323738   \n",
       "1            0.883812           0.662624         0.648897        0.323717   \n",
       "2            0.884558           0.653398         0.802965        0.087697   \n",
       "3            0.884561           0.653472         0.802984        0.087672   \n",
       "4            0.876908           0.666710         0.813364        0.079720   \n",
       "5            0.876924           0.666768         0.813392        0.079704   \n",
       "6            0.871716           0.684609         0.817382        0.071892   \n",
       "7            0.871755           0.684598         0.817402        0.071905   \n",
       "8            0.871443           0.689068         0.819024        0.070385   \n",
       "9            0.871495           0.688998         0.819037        0.070422   \n",
       "10           0.869512           0.684799         0.816893        0.071497   \n",
       "11           0.869587           0.684570         0.816892        0.071607   \n",
       "12           0.866115           0.682165         0.813134        0.070990   \n",
       "13           0.866185           0.681869         0.813128        0.071129   \n",
       "14           0.824862           0.708974         0.786933        0.043982   \n",
       "15           0.824912           0.708546         0.786930        0.044168   \n",
       "\n",
       "    rank_test_score  split0_train_score  split1_train_score  \\\n",
       "0                16            0.935225            0.945623   \n",
       "1                15            0.935224            0.945617   \n",
       "2                12            0.934181            0.942736   \n",
       "3                11            0.934181            0.942731   \n",
       "4                 8            0.922745            0.931678   \n",
       "5                 7            0.922745            0.931680   \n",
       "6                 4            0.906954            0.916934   \n",
       "7                 3            0.906956            0.916942   \n",
       "8                 2            0.899419            0.909901   \n",
       "9                 1            0.899421            0.909908   \n",
       "10                5            0.877225            0.889170   \n",
       "11                6            0.877204            0.889163   \n",
       "12                9            0.864599            0.877075   \n",
       "13               10            0.864563            0.877062   \n",
       "14               13            0.804761            0.815626   \n",
       "15               14            0.804700            0.815616   \n",
       "\n",
       "    split2_train_score  split3_train_score  split4_train_score  \\\n",
       "0             0.945871            0.938929            0.933276   \n",
       "1             0.945872            0.938929            0.933274   \n",
       "2             0.944092            0.937660            0.933105   \n",
       "3             0.944092            0.937660            0.933104   \n",
       "4             0.928385            0.925259            0.929545   \n",
       "5             0.928385            0.925261            0.929545   \n",
       "6             0.912647            0.909262            0.920456   \n",
       "7             0.912647            0.909265            0.920460   \n",
       "8             0.905999            0.901841            0.915168   \n",
       "9             0.905997            0.901841            0.915177   \n",
       "10            0.886337            0.880315            0.899480   \n",
       "11            0.886321            0.880295            0.899514   \n",
       "12            0.875010            0.867937            0.890745   \n",
       "13            0.874983            0.867906            0.890793   \n",
       "14            0.816331            0.806766            0.837717   \n",
       "15            0.816307            0.806755            0.837821   \n",
       "\n",
       "    mean_train_score  std_train_score  \n",
       "0           0.939785         0.005197  \n",
       "1           0.939783         0.005196  \n",
       "2           0.938355         0.004418  \n",
       "3           0.938354         0.004417  \n",
       "4           0.927523         0.003164  \n",
       "5           0.927523         0.003164  \n",
       "6           0.913251         0.004928  \n",
       "7           0.913254         0.004929  \n",
       "8           0.906466         0.005635  \n",
       "9           0.906469         0.005639  \n",
       "10          0.886505         0.007745  \n",
       "11          0.886499         0.007764  \n",
       "12          0.875073         0.009058  \n",
       "13          0.875061         0.009088  \n",
       "14          0.816240         0.011689  \n",
       "15          0.816240         0.011741  "
      ]
     },
     "execution_count": 58,
     "metadata": {},
     "output_type": "execute_result"
    }
   ],
   "source": [
    "pd.DataFrame(gs.cv_results_)"
   ]
  },
  {
   "cell_type": "markdown",
   "metadata": {},
   "source": [
    "# Building a custom transformer that does it all\n",
    "There are a few limitations to the above workflow. For instance, it would be nice if the `OneHotEncoder` gave you the option of ignoring missing values during the fit method. It could simply encode missing values as a row of all zeros. Currently, it forces us to fill the missing values with some string and then encodes this string as a separate column.\n",
    "\n",
    "### Low frequency strings\n",
    "Also, string columns that appear only a few times during the training set may not be reliable predictors in the test set. We may want to encode those as if they were missing as well.\n",
    "\n",
    "### Writing your own estimator class\n",
    "Scikit-Learn provides some help within its documentation on writing your own estimator class. The `BaseEstimator` class found within the base module provides the `get_params` and `set_params` methods for you. The `set_params` method is necessary when doing a grid search. You can write your own or inherit from the `BaseEstimator`. There is also a `TransformerMixin` but it just writes the `fit_transform` method for you. We do this in one line of code below, so we don't inherit from it.\n",
    "\n",
    "The following class BasicTransformer does the following:\n",
    "\n",
    "* Fills in missing values with either the mean or median for numeric columns\n",
    "* Standardizes all numeric columns\n",
    "* Uses one hot encoding for string columns\n",
    "* Does not fill in missing values for categorical columns. Instead it encodes them as a 0's\n",
    "* Ignores unique values in string columns in the test set\n",
    "* Allows you to choose a threshold for the number of occurrences a value must have in a string column. Strings below this threshold will be encoded as all 0's\n",
    "* It only works with DataFrames and is just experimental and not tested so it will break for some datasets\n",
    "* It is called 'basic' because, these are probably the most basic transformations that typically get done to many datasets."
   ]
  },
  {
   "cell_type": "code",
   "execution_count": 59,
   "metadata": {},
   "outputs": [],
   "source": [
    "from sklearn.base import BaseEstimator\n",
    "\n",
    "class BasicTransformer(BaseEstimator):\n",
    "    \n",
    "    def __init__(self, cat_threshold=None, num_strategy='median', return_df=False):\n",
    "        # store parameters as public attributes\n",
    "        self.cat_threshold = cat_threshold\n",
    "        \n",
    "        if num_strategy not in ['mean', 'median']:\n",
    "            raise ValueError('num_strategy must be either \"mean\" or \"median\"')\n",
    "        self.num_strategy = num_strategy\n",
    "        self.return_df = return_df\n",
    "        \n",
    "    def fit(self, X, y=None):\n",
    "        # Assumes X is a DataFrame\n",
    "        self._columns = X.columns.values\n",
    "        \n",
    "        # Split data into categorical and numeric\n",
    "        self._dtypes = X.dtypes.values\n",
    "        self._kinds = np.array([dt.kind for dt in X.dtypes])\n",
    "        self._column_dtypes = {}\n",
    "        is_cat = self._kinds == 'O'\n",
    "        self._column_dtypes['cat'] = self._columns[is_cat]\n",
    "        self._column_dtypes['num'] = self._columns[~is_cat]\n",
    "        self._feature_names = self._column_dtypes['num']\n",
    "        \n",
    "        # Create a dictionary mapping categorical column to unique values above threshold\n",
    "        self._cat_cols = {}\n",
    "        for col in self._column_dtypes['cat']:\n",
    "            vc = X[col].value_counts()\n",
    "            if self.cat_threshold is not None:\n",
    "                vc = vc[vc > self.cat_threshold]\n",
    "            vals = vc.index.values\n",
    "            self._cat_cols[col] = vals\n",
    "            self._feature_names = np.append(self._feature_names, col + '_' + vals)\n",
    "            \n",
    "        # get total number of new categorical columns    \n",
    "        self._total_cat_cols = sum([len(v) for col, v in self._cat_cols.items()])\n",
    "        \n",
    "        # get mean or median\n",
    "        self._num_fill = X[self._column_dtypes['num']].agg(self.num_strategy)\n",
    "        return self\n",
    "        \n",
    "    def transform(self, X):\n",
    "        # check that we have a DataFrame with same column names as the one we fit\n",
    "        if set(self._columns) != set(X.columns):\n",
    "            raise ValueError('Passed DataFrame has different columns than fit DataFrame')\n",
    "        elif len(self._columns) != len(X.columns):\n",
    "            raise ValueError('Passed DataFrame has different number of columns than fit DataFrame')\n",
    "            \n",
    "        # fill missing values    \n",
    "        X_num = X[self._column_dtypes['num']].fillna(self._num_fill)\n",
    "        \n",
    "        # Standardize numerics\n",
    "        std = X_num.std()\n",
    "        X_num = (X_num - X_num.mean()) / std\n",
    "        zero_std = np.where(std == 0)[0]\n",
    "        \n",
    "        # If there is 0 standard deviation, then all values are the same. Set them to 0.\n",
    "        if len(zero_std) > 0:\n",
    "            X_num.iloc[:, zero_std] = 0\n",
    "        X_num = X_num.values\n",
    "        \n",
    "        # create separate array for new encoded categoricals\n",
    "        X_cat = np.empty((len(X), self._total_cat_cols), dtype='int')\n",
    "        i = 0\n",
    "        for col in self._column_dtypes['cat']:\n",
    "            vals = self._cat_cols[col]\n",
    "            for val in vals:\n",
    "                X_cat[:, i] = X[col] == val\n",
    "                i += 1\n",
    "                \n",
    "        # concatenate transformed numeric and categorical arrays\n",
    "        data = np.column_stack((X_num, X_cat))\n",
    "        \n",
    "        # return either a DataFrame or an array\n",
    "        if self.return_df:\n",
    "            return pd.DataFrame(data=data, columns=self._feature_names)\n",
    "        else:\n",
    "            return data\n",
    "    \n",
    "    def fit_transform(self, X, y=None):\n",
    "        return self.fit(X).transform(X)\n",
    "    \n",
    "    def get_feature_names(self):\n",
    "        return self._feature_names"
   ]
  },
  {
   "cell_type": "markdown",
   "metadata": {},
   "source": [
    "# Using our `BasicTransformer`\n",
    "Our `BasicTransformer` estimator should be able to be used just like any other scikit-learn estimator. We can instantiate it and then transform our data."
   ]
  },
  {
   "cell_type": "code",
   "execution_count": 60,
   "metadata": {},
   "outputs": [
    {
     "data": {
      "text/html": [
       "<div>\n",
       "<style scoped>\n",
       "    .dataframe tbody tr th:only-of-type {\n",
       "        vertical-align: middle;\n",
       "    }\n",
       "\n",
       "    .dataframe tbody tr th {\n",
       "        vertical-align: top;\n",
       "    }\n",
       "\n",
       "    .dataframe thead th {\n",
       "        text-align: right;\n",
       "    }\n",
       "</style>\n",
       "<table border=\"1\" class=\"dataframe\">\n",
       "  <thead>\n",
       "    <tr style=\"text-align: right;\">\n",
       "      <th></th>\n",
       "      <th>Id</th>\n",
       "      <th>MSSubClass</th>\n",
       "      <th>LotFrontage</th>\n",
       "      <th>LotArea</th>\n",
       "      <th>OverallQual</th>\n",
       "      <th>OverallCond</th>\n",
       "      <th>YearBuilt</th>\n",
       "      <th>YearRemodAdd</th>\n",
       "      <th>MasVnrArea</th>\n",
       "      <th>BsmtFinSF1</th>\n",
       "      <th>BsmtFinSF2</th>\n",
       "      <th>BsmtUnfSF</th>\n",
       "      <th>TotalBsmtSF</th>\n",
       "      <th>1stFlrSF</th>\n",
       "      <th>2ndFlrSF</th>\n",
       "      <th>LowQualFinSF</th>\n",
       "      <th>GrLivArea</th>\n",
       "      <th>BsmtFullBath</th>\n",
       "      <th>BsmtHalfBath</th>\n",
       "      <th>FullBath</th>\n",
       "      <th>HalfBath</th>\n",
       "      <th>BedroomAbvGr</th>\n",
       "      <th>KitchenAbvGr</th>\n",
       "      <th>TotRmsAbvGrd</th>\n",
       "      <th>Fireplaces</th>\n",
       "      <th>GarageYrBlt</th>\n",
       "      <th>GarageCars</th>\n",
       "      <th>GarageArea</th>\n",
       "      <th>WoodDeckSF</th>\n",
       "      <th>OpenPorchSF</th>\n",
       "      <th>EnclosedPorch</th>\n",
       "      <th>3SsnPorch</th>\n",
       "      <th>ScreenPorch</th>\n",
       "      <th>PoolArea</th>\n",
       "      <th>MiscVal</th>\n",
       "      <th>MoSold</th>\n",
       "      <th>YrSold</th>\n",
       "      <th>MSZoning_RL</th>\n",
       "      <th>MSZoning_RM</th>\n",
       "      <th>MSZoning_FV</th>\n",
       "      <th>MSZoning_RH</th>\n",
       "      <th>MSZoning_C (all)</th>\n",
       "      <th>Street_Pave</th>\n",
       "      <th>Street_Grvl</th>\n",
       "      <th>Alley_Grvl</th>\n",
       "      <th>Alley_Pave</th>\n",
       "      <th>LotShape_Reg</th>\n",
       "      <th>LotShape_IR1</th>\n",
       "      <th>LotShape_IR2</th>\n",
       "      <th>LotShape_IR3</th>\n",
       "      <th>...</th>\n",
       "      <th>KitchenQual_Ex</th>\n",
       "      <th>KitchenQual_Fa</th>\n",
       "      <th>Functional_Typ</th>\n",
       "      <th>Functional_Min2</th>\n",
       "      <th>Functional_Min1</th>\n",
       "      <th>Functional_Mod</th>\n",
       "      <th>Functional_Maj1</th>\n",
       "      <th>Functional_Maj2</th>\n",
       "      <th>FireplaceQu_Gd</th>\n",
       "      <th>FireplaceQu_TA</th>\n",
       "      <th>FireplaceQu_Fa</th>\n",
       "      <th>FireplaceQu_Ex</th>\n",
       "      <th>FireplaceQu_Po</th>\n",
       "      <th>GarageType_Attchd</th>\n",
       "      <th>GarageType_Detchd</th>\n",
       "      <th>GarageType_BuiltIn</th>\n",
       "      <th>GarageType_Basment</th>\n",
       "      <th>GarageType_CarPort</th>\n",
       "      <th>GarageType_2Types</th>\n",
       "      <th>GarageFinish_Unf</th>\n",
       "      <th>GarageFinish_RFn</th>\n",
       "      <th>GarageFinish_Fin</th>\n",
       "      <th>GarageQual_TA</th>\n",
       "      <th>GarageQual_Fa</th>\n",
       "      <th>GarageQual_Gd</th>\n",
       "      <th>GarageCond_TA</th>\n",
       "      <th>GarageCond_Fa</th>\n",
       "      <th>GarageCond_Gd</th>\n",
       "      <th>GarageCond_Po</th>\n",
       "      <th>PavedDrive_Y</th>\n",
       "      <th>PavedDrive_N</th>\n",
       "      <th>PavedDrive_P</th>\n",
       "      <th>Fence_MnPrv</th>\n",
       "      <th>Fence_GdPrv</th>\n",
       "      <th>Fence_GdWo</th>\n",
       "      <th>Fence_MnWw</th>\n",
       "      <th>MiscFeature_Shed</th>\n",
       "      <th>SaleType_WD</th>\n",
       "      <th>SaleType_New</th>\n",
       "      <th>SaleType_COD</th>\n",
       "      <th>SaleType_ConLD</th>\n",
       "      <th>SaleType_ConLw</th>\n",
       "      <th>SaleType_ConLI</th>\n",
       "      <th>SaleType_CWD</th>\n",
       "      <th>SaleCondition_Normal</th>\n",
       "      <th>SaleCondition_Partial</th>\n",
       "      <th>SaleCondition_Abnorml</th>\n",
       "      <th>SaleCondition_Family</th>\n",
       "      <th>SaleCondition_Alloca</th>\n",
       "      <th>SaleCondition_AdjLand</th>\n",
       "    </tr>\n",
       "  </thead>\n",
       "  <tbody>\n",
       "    <tr>\n",
       "      <th>0</th>\n",
       "      <td>-1.730272</td>\n",
       "      <td>0.073350</td>\n",
       "      <td>-0.220799</td>\n",
       "      <td>-0.207071</td>\n",
       "      <td>0.651256</td>\n",
       "      <td>-0.517023</td>\n",
       "      <td>1.050634</td>\n",
       "      <td>0.878367</td>\n",
       "      <td>0.513928</td>\n",
       "      <td>0.575228</td>\n",
       "      <td>-0.288554</td>\n",
       "      <td>-0.944267</td>\n",
       "      <td>-0.459145</td>\n",
       "      <td>-0.793162</td>\n",
       "      <td>1.161454</td>\n",
       "      <td>-0.120201</td>\n",
       "      <td>0.370207</td>\n",
       "      <td>1.107431</td>\n",
       "      <td>-0.240978</td>\n",
       "      <td>0.78947</td>\n",
       "      <td>1.227165</td>\n",
       "      <td>0.163723</td>\n",
       "      <td>-0.211381</td>\n",
       "      <td>0.911897</td>\n",
       "      <td>-0.950901</td>\n",
       "      <td>1.017250</td>\n",
       "      <td>0.311618</td>\n",
       "      <td>0.35088</td>\n",
       "      <td>-0.751918</td>\n",
       "      <td>0.216429</td>\n",
       "      <td>-0.359202</td>\n",
       "      <td>-0.116299</td>\n",
       "      <td>-0.270116</td>\n",
       "      <td>-0.068668</td>\n",
       "      <td>-0.087658</td>\n",
       "      <td>-1.598563</td>\n",
       "      <td>0.138730</td>\n",
       "      <td>1.0</td>\n",
       "      <td>0.0</td>\n",
       "      <td>0.0</td>\n",
       "      <td>0.0</td>\n",
       "      <td>0.0</td>\n",
       "      <td>1.0</td>\n",
       "      <td>0.0</td>\n",
       "      <td>0.0</td>\n",
       "      <td>0.0</td>\n",
       "      <td>1.0</td>\n",
       "      <td>0.0</td>\n",
       "      <td>0.0</td>\n",
       "      <td>0.0</td>\n",
       "      <td>...</td>\n",
       "      <td>0.0</td>\n",
       "      <td>0.0</td>\n",
       "      <td>1.0</td>\n",
       "      <td>0.0</td>\n",
       "      <td>0.0</td>\n",
       "      <td>0.0</td>\n",
       "      <td>0.0</td>\n",
       "      <td>0.0</td>\n",
       "      <td>0.0</td>\n",
       "      <td>0.0</td>\n",
       "      <td>0.0</td>\n",
       "      <td>0.0</td>\n",
       "      <td>0.0</td>\n",
       "      <td>1.0</td>\n",
       "      <td>0.0</td>\n",
       "      <td>0.0</td>\n",
       "      <td>0.0</td>\n",
       "      <td>0.0</td>\n",
       "      <td>0.0</td>\n",
       "      <td>0.0</td>\n",
       "      <td>1.0</td>\n",
       "      <td>0.0</td>\n",
       "      <td>1.0</td>\n",
       "      <td>0.0</td>\n",
       "      <td>0.0</td>\n",
       "      <td>1.0</td>\n",
       "      <td>0.0</td>\n",
       "      <td>0.0</td>\n",
       "      <td>0.0</td>\n",
       "      <td>1.0</td>\n",
       "      <td>0.0</td>\n",
       "      <td>0.0</td>\n",
       "      <td>0.0</td>\n",
       "      <td>0.0</td>\n",
       "      <td>0.0</td>\n",
       "      <td>0.0</td>\n",
       "      <td>0.0</td>\n",
       "      <td>1.0</td>\n",
       "      <td>0.0</td>\n",
       "      <td>0.0</td>\n",
       "      <td>0.0</td>\n",
       "      <td>0.0</td>\n",
       "      <td>0.0</td>\n",
       "      <td>0.0</td>\n",
       "      <td>1.0</td>\n",
       "      <td>0.0</td>\n",
       "      <td>0.0</td>\n",
       "      <td>0.0</td>\n",
       "      <td>0.0</td>\n",
       "      <td>0.0</td>\n",
       "    </tr>\n",
       "    <tr>\n",
       "      <th>1</th>\n",
       "      <td>-1.727900</td>\n",
       "      <td>-0.872264</td>\n",
       "      <td>0.460162</td>\n",
       "      <td>-0.091855</td>\n",
       "      <td>-0.071812</td>\n",
       "      <td>2.178881</td>\n",
       "      <td>0.156680</td>\n",
       "      <td>-0.429430</td>\n",
       "      <td>-0.570555</td>\n",
       "      <td>1.171591</td>\n",
       "      <td>-0.288554</td>\n",
       "      <td>-0.641008</td>\n",
       "      <td>0.466305</td>\n",
       "      <td>0.257052</td>\n",
       "      <td>-0.794891</td>\n",
       "      <td>-0.120201</td>\n",
       "      <td>-0.482347</td>\n",
       "      <td>-0.819684</td>\n",
       "      <td>3.947457</td>\n",
       "      <td>0.78947</td>\n",
       "      <td>-0.761360</td>\n",
       "      <td>0.163723</td>\n",
       "      <td>-0.211381</td>\n",
       "      <td>-0.318574</td>\n",
       "      <td>0.600289</td>\n",
       "      <td>-0.107890</td>\n",
       "      <td>0.311618</td>\n",
       "      <td>-0.06071</td>\n",
       "      <td>1.625638</td>\n",
       "      <td>-0.704242</td>\n",
       "      <td>-0.359202</td>\n",
       "      <td>-0.116299</td>\n",
       "      <td>-0.270116</td>\n",
       "      <td>-0.068668</td>\n",
       "      <td>-0.087658</td>\n",
       "      <td>-0.488943</td>\n",
       "      <td>-0.614228</td>\n",
       "      <td>1.0</td>\n",
       "      <td>0.0</td>\n",
       "      <td>0.0</td>\n",
       "      <td>0.0</td>\n",
       "      <td>0.0</td>\n",
       "      <td>1.0</td>\n",
       "      <td>0.0</td>\n",
       "      <td>0.0</td>\n",
       "      <td>0.0</td>\n",
       "      <td>1.0</td>\n",
       "      <td>0.0</td>\n",
       "      <td>0.0</td>\n",
       "      <td>0.0</td>\n",
       "      <td>...</td>\n",
       "      <td>0.0</td>\n",
       "      <td>0.0</td>\n",
       "      <td>1.0</td>\n",
       "      <td>0.0</td>\n",
       "      <td>0.0</td>\n",
       "      <td>0.0</td>\n",
       "      <td>0.0</td>\n",
       "      <td>0.0</td>\n",
       "      <td>0.0</td>\n",
       "      <td>1.0</td>\n",
       "      <td>0.0</td>\n",
       "      <td>0.0</td>\n",
       "      <td>0.0</td>\n",
       "      <td>1.0</td>\n",
       "      <td>0.0</td>\n",
       "      <td>0.0</td>\n",
       "      <td>0.0</td>\n",
       "      <td>0.0</td>\n",
       "      <td>0.0</td>\n",
       "      <td>0.0</td>\n",
       "      <td>1.0</td>\n",
       "      <td>0.0</td>\n",
       "      <td>1.0</td>\n",
       "      <td>0.0</td>\n",
       "      <td>0.0</td>\n",
       "      <td>1.0</td>\n",
       "      <td>0.0</td>\n",
       "      <td>0.0</td>\n",
       "      <td>0.0</td>\n",
       "      <td>1.0</td>\n",
       "      <td>0.0</td>\n",
       "      <td>0.0</td>\n",
       "      <td>0.0</td>\n",
       "      <td>0.0</td>\n",
       "      <td>0.0</td>\n",
       "      <td>0.0</td>\n",
       "      <td>0.0</td>\n",
       "      <td>1.0</td>\n",
       "      <td>0.0</td>\n",
       "      <td>0.0</td>\n",
       "      <td>0.0</td>\n",
       "      <td>0.0</td>\n",
       "      <td>0.0</td>\n",
       "      <td>0.0</td>\n",
       "      <td>1.0</td>\n",
       "      <td>0.0</td>\n",
       "      <td>0.0</td>\n",
       "      <td>0.0</td>\n",
       "      <td>0.0</td>\n",
       "      <td>0.0</td>\n",
       "    </tr>\n",
       "    <tr>\n",
       "      <th>2</th>\n",
       "      <td>-1.725528</td>\n",
       "      <td>0.073350</td>\n",
       "      <td>-0.084607</td>\n",
       "      <td>0.073455</td>\n",
       "      <td>0.651256</td>\n",
       "      <td>-0.517023</td>\n",
       "      <td>0.984415</td>\n",
       "      <td>0.829930</td>\n",
       "      <td>0.325803</td>\n",
       "      <td>0.092875</td>\n",
       "      <td>-0.288554</td>\n",
       "      <td>-0.301540</td>\n",
       "      <td>-0.313261</td>\n",
       "      <td>-0.627611</td>\n",
       "      <td>1.188943</td>\n",
       "      <td>-0.120201</td>\n",
       "      <td>0.514836</td>\n",
       "      <td>1.107431</td>\n",
       "      <td>-0.240978</td>\n",
       "      <td>0.78947</td>\n",
       "      <td>1.227165</td>\n",
       "      <td>0.163723</td>\n",
       "      <td>-0.211381</td>\n",
       "      <td>-0.318574</td>\n",
       "      <td>0.600289</td>\n",
       "      <td>0.933906</td>\n",
       "      <td>0.311618</td>\n",
       "      <td>0.63151</td>\n",
       "      <td>-0.751918</td>\n",
       "      <td>-0.070337</td>\n",
       "      <td>-0.359202</td>\n",
       "      <td>-0.116299</td>\n",
       "      <td>-0.270116</td>\n",
       "      <td>-0.068668</td>\n",
       "      <td>-0.087658</td>\n",
       "      <td>0.990552</td>\n",
       "      <td>0.138730</td>\n",
       "      <td>1.0</td>\n",
       "      <td>0.0</td>\n",
       "      <td>0.0</td>\n",
       "      <td>0.0</td>\n",
       "      <td>0.0</td>\n",
       "      <td>1.0</td>\n",
       "      <td>0.0</td>\n",
       "      <td>0.0</td>\n",
       "      <td>0.0</td>\n",
       "      <td>0.0</td>\n",
       "      <td>1.0</td>\n",
       "      <td>0.0</td>\n",
       "      <td>0.0</td>\n",
       "      <td>...</td>\n",
       "      <td>0.0</td>\n",
       "      <td>0.0</td>\n",
       "      <td>1.0</td>\n",
       "      <td>0.0</td>\n",
       "      <td>0.0</td>\n",
       "      <td>0.0</td>\n",
       "      <td>0.0</td>\n",
       "      <td>0.0</td>\n",
       "      <td>0.0</td>\n",
       "      <td>1.0</td>\n",
       "      <td>0.0</td>\n",
       "      <td>0.0</td>\n",
       "      <td>0.0</td>\n",
       "      <td>1.0</td>\n",
       "      <td>0.0</td>\n",
       "      <td>0.0</td>\n",
       "      <td>0.0</td>\n",
       "      <td>0.0</td>\n",
       "      <td>0.0</td>\n",
       "      <td>0.0</td>\n",
       "      <td>1.0</td>\n",
       "      <td>0.0</td>\n",
       "      <td>1.0</td>\n",
       "      <td>0.0</td>\n",
       "      <td>0.0</td>\n",
       "      <td>1.0</td>\n",
       "      <td>0.0</td>\n",
       "      <td>0.0</td>\n",
       "      <td>0.0</td>\n",
       "      <td>1.0</td>\n",
       "      <td>0.0</td>\n",
       "      <td>0.0</td>\n",
       "      <td>0.0</td>\n",
       "      <td>0.0</td>\n",
       "      <td>0.0</td>\n",
       "      <td>0.0</td>\n",
       "      <td>0.0</td>\n",
       "      <td>1.0</td>\n",
       "      <td>0.0</td>\n",
       "      <td>0.0</td>\n",
       "      <td>0.0</td>\n",
       "      <td>0.0</td>\n",
       "      <td>0.0</td>\n",
       "      <td>0.0</td>\n",
       "      <td>1.0</td>\n",
       "      <td>0.0</td>\n",
       "      <td>0.0</td>\n",
       "      <td>0.0</td>\n",
       "      <td>0.0</td>\n",
       "      <td>0.0</td>\n",
       "    </tr>\n",
       "  </tbody>\n",
       "</table>\n",
       "<p>3 rows × 246 columns</p>\n",
       "</div>"
      ],
      "text/plain": [
       "         Id  MSSubClass  LotFrontage   LotArea  OverallQual  OverallCond  \\\n",
       "0 -1.730272    0.073350    -0.220799 -0.207071     0.651256    -0.517023   \n",
       "1 -1.727900   -0.872264     0.460162 -0.091855    -0.071812     2.178881   \n",
       "2 -1.725528    0.073350    -0.084607  0.073455     0.651256    -0.517023   \n",
       "\n",
       "   YearBuilt  YearRemodAdd  MasVnrArea  BsmtFinSF1  BsmtFinSF2  BsmtUnfSF  \\\n",
       "0   1.050634      0.878367    0.513928    0.575228   -0.288554  -0.944267   \n",
       "1   0.156680     -0.429430   -0.570555    1.171591   -0.288554  -0.641008   \n",
       "2   0.984415      0.829930    0.325803    0.092875   -0.288554  -0.301540   \n",
       "\n",
       "   TotalBsmtSF  1stFlrSF  2ndFlrSF  LowQualFinSF  GrLivArea  BsmtFullBath  \\\n",
       "0    -0.459145 -0.793162  1.161454     -0.120201   0.370207      1.107431   \n",
       "1     0.466305  0.257052 -0.794891     -0.120201  -0.482347     -0.819684   \n",
       "2    -0.313261 -0.627611  1.188943     -0.120201   0.514836      1.107431   \n",
       "\n",
       "   BsmtHalfBath  FullBath  HalfBath  BedroomAbvGr  KitchenAbvGr  TotRmsAbvGrd  \\\n",
       "0     -0.240978   0.78947  1.227165      0.163723     -0.211381      0.911897   \n",
       "1      3.947457   0.78947 -0.761360      0.163723     -0.211381     -0.318574   \n",
       "2     -0.240978   0.78947  1.227165      0.163723     -0.211381     -0.318574   \n",
       "\n",
       "   Fireplaces  GarageYrBlt  GarageCars  GarageArea  WoodDeckSF  OpenPorchSF  \\\n",
       "0   -0.950901     1.017250    0.311618     0.35088   -0.751918     0.216429   \n",
       "1    0.600289    -0.107890    0.311618    -0.06071    1.625638    -0.704242   \n",
       "2    0.600289     0.933906    0.311618     0.63151   -0.751918    -0.070337   \n",
       "\n",
       "   EnclosedPorch  3SsnPorch  ScreenPorch  PoolArea   MiscVal    MoSold  \\\n",
       "0      -0.359202  -0.116299    -0.270116 -0.068668 -0.087658 -1.598563   \n",
       "1      -0.359202  -0.116299    -0.270116 -0.068668 -0.087658 -0.488943   \n",
       "2      -0.359202  -0.116299    -0.270116 -0.068668 -0.087658  0.990552   \n",
       "\n",
       "     YrSold  MSZoning_RL  MSZoning_RM  MSZoning_FV  MSZoning_RH  \\\n",
       "0  0.138730          1.0          0.0          0.0          0.0   \n",
       "1 -0.614228          1.0          0.0          0.0          0.0   \n",
       "2  0.138730          1.0          0.0          0.0          0.0   \n",
       "\n",
       "   MSZoning_C (all)  Street_Pave  Street_Grvl  Alley_Grvl  Alley_Pave  \\\n",
       "0               0.0          1.0          0.0         0.0         0.0   \n",
       "1               0.0          1.0          0.0         0.0         0.0   \n",
       "2               0.0          1.0          0.0         0.0         0.0   \n",
       "\n",
       "   LotShape_Reg  LotShape_IR1  LotShape_IR2  LotShape_IR3  \\\n",
       "0           1.0           0.0           0.0           0.0   \n",
       "1           1.0           0.0           0.0           0.0   \n",
       "2           0.0           1.0           0.0           0.0   \n",
       "\n",
       "           ...            KitchenQual_Ex  KitchenQual_Fa  Functional_Typ  \\\n",
       "0          ...                       0.0             0.0             1.0   \n",
       "1          ...                       0.0             0.0             1.0   \n",
       "2          ...                       0.0             0.0             1.0   \n",
       "\n",
       "   Functional_Min2  Functional_Min1  Functional_Mod  Functional_Maj1  \\\n",
       "0              0.0              0.0             0.0              0.0   \n",
       "1              0.0              0.0             0.0              0.0   \n",
       "2              0.0              0.0             0.0              0.0   \n",
       "\n",
       "   Functional_Maj2  FireplaceQu_Gd  FireplaceQu_TA  FireplaceQu_Fa  \\\n",
       "0              0.0             0.0             0.0             0.0   \n",
       "1              0.0             0.0             1.0             0.0   \n",
       "2              0.0             0.0             1.0             0.0   \n",
       "\n",
       "   FireplaceQu_Ex  FireplaceQu_Po  GarageType_Attchd  GarageType_Detchd  \\\n",
       "0             0.0             0.0                1.0                0.0   \n",
       "1             0.0             0.0                1.0                0.0   \n",
       "2             0.0             0.0                1.0                0.0   \n",
       "\n",
       "   GarageType_BuiltIn  GarageType_Basment  GarageType_CarPort  \\\n",
       "0                 0.0                 0.0                 0.0   \n",
       "1                 0.0                 0.0                 0.0   \n",
       "2                 0.0                 0.0                 0.0   \n",
       "\n",
       "   GarageType_2Types  GarageFinish_Unf  GarageFinish_RFn  GarageFinish_Fin  \\\n",
       "0                0.0               0.0               1.0               0.0   \n",
       "1                0.0               0.0               1.0               0.0   \n",
       "2                0.0               0.0               1.0               0.0   \n",
       "\n",
       "   GarageQual_TA  GarageQual_Fa  GarageQual_Gd  GarageCond_TA  GarageCond_Fa  \\\n",
       "0            1.0            0.0            0.0            1.0            0.0   \n",
       "1            1.0            0.0            0.0            1.0            0.0   \n",
       "2            1.0            0.0            0.0            1.0            0.0   \n",
       "\n",
       "   GarageCond_Gd  GarageCond_Po  PavedDrive_Y  PavedDrive_N  PavedDrive_P  \\\n",
       "0            0.0            0.0           1.0           0.0           0.0   \n",
       "1            0.0            0.0           1.0           0.0           0.0   \n",
       "2            0.0            0.0           1.0           0.0           0.0   \n",
       "\n",
       "   Fence_MnPrv  Fence_GdPrv  Fence_GdWo  Fence_MnWw  MiscFeature_Shed  \\\n",
       "0          0.0          0.0         0.0         0.0               0.0   \n",
       "1          0.0          0.0         0.0         0.0               0.0   \n",
       "2          0.0          0.0         0.0         0.0               0.0   \n",
       "\n",
       "   SaleType_WD  SaleType_New  SaleType_COD  SaleType_ConLD  SaleType_ConLw  \\\n",
       "0          1.0           0.0           0.0             0.0             0.0   \n",
       "1          1.0           0.0           0.0             0.0             0.0   \n",
       "2          1.0           0.0           0.0             0.0             0.0   \n",
       "\n",
       "   SaleType_ConLI  SaleType_CWD  SaleCondition_Normal  SaleCondition_Partial  \\\n",
       "0             0.0           0.0                   1.0                    0.0   \n",
       "1             0.0           0.0                   1.0                    0.0   \n",
       "2             0.0           0.0                   1.0                    0.0   \n",
       "\n",
       "   SaleCondition_Abnorml  SaleCondition_Family  SaleCondition_Alloca  \\\n",
       "0                    0.0                   0.0                   0.0   \n",
       "1                    0.0                   0.0                   0.0   \n",
       "2                    0.0                   0.0                   0.0   \n",
       "\n",
       "   SaleCondition_AdjLand  \n",
       "0                    0.0  \n",
       "1                    0.0  \n",
       "2                    0.0  \n",
       "\n",
       "[3 rows x 246 columns]"
      ]
     },
     "execution_count": 60,
     "metadata": {},
     "output_type": "execute_result"
    }
   ],
   "source": [
    "bt = BasicTransformer(cat_threshold=3, return_df=True)\n",
    "train_transformed = bt.fit_transform(train)\n",
    "train_transformed.head(3)"
   ]
  },
  {
   "cell_type": "markdown",
   "metadata": {},
   "source": [
    "## Using our transformer in a pipeline\n",
    "Our transformer can be part of pipeline."
   ]
  },
  {
   "cell_type": "code",
   "execution_count": 61,
   "metadata": {},
   "outputs": [
    {
     "data": {
      "text/plain": [
       "0.9035633239411638"
      ]
     },
     "execution_count": 61,
     "metadata": {},
     "output_type": "execute_result"
    }
   ],
   "source": [
    "basic_pipe = Pipeline([('bt', bt), ('ridge', Ridge())])\n",
    "basic_pipe.fit(train, y)\n",
    "basic_pipe.score(train, y)"
   ]
  },
  {
   "cell_type": "markdown",
   "metadata": {},
   "source": [
    "We can also cross-validate with it as well and get a similar score as we did with our scikit-learn column transformer pipeline from above."
   ]
  },
  {
   "cell_type": "code",
   "execution_count": 62,
   "metadata": {},
   "outputs": [
    {
     "data": {
      "text/plain": [
       "0.8157670129480069"
      ]
     },
     "execution_count": 62,
     "metadata": {},
     "output_type": "execute_result"
    }
   ],
   "source": [
    "cross_val_score(basic_pipe, train, y, cv=kf).mean()"
   ]
  },
  {
   "cell_type": "markdown",
   "metadata": {},
   "source": [
    "We can use it as part of a grid search as well. It turns out that not including low-count strings did not help this particular model, though it stands to reason it could in other models. The best score did improve a bit, perhaps due to using a slightly different encoding scheme."
   ]
  },
  {
   "cell_type": "code",
   "execution_count": 63,
   "metadata": {},
   "outputs": [
    {
     "data": {
      "text/plain": [
       "{'bt__cat_threshold': 0, 'ridge__alpha': 10}"
      ]
     },
     "execution_count": 63,
     "metadata": {},
     "output_type": "execute_result"
    }
   ],
   "source": [
    "param_grid = {\n",
    "    'bt__cat_threshold': [0, 1, 2, 3, 4, 5],\n",
    "    'ridge__alpha': [.1, 1, 10, 30, 100]\n",
    "}\n",
    "\n",
    "gs = GridSearchCV(basic_pipe, param_grid, cv=kf)\n",
    "gs.fit(train, y)\n",
    "gs.best_params_"
   ]
  },
  {
   "cell_type": "code",
   "execution_count": 64,
   "metadata": {},
   "outputs": [
    {
     "data": {
      "text/plain": [
       "0.8297473585998105"
      ]
     },
     "execution_count": 64,
     "metadata": {},
     "output_type": "execute_result"
    }
   ],
   "source": [
    "gs.best_score_"
   ]
  },
  {
   "cell_type": "code",
   "execution_count": 65,
   "metadata": {},
   "outputs": [
    {
     "name": "stderr",
     "output_type": "stream",
     "text": [
      "/Users/Ted/anaconda3/lib/python3.6/site-packages/sklearn/utils/deprecation.py:125: FutureWarning: You are accessing a training score ('split0_train_score'), which will not be available by default any more in 0.21. If you need training scores, please set return_train_score=True\n",
      "  warnings.warn(*warn_args, **warn_kwargs)\n",
      "/Users/Ted/anaconda3/lib/python3.6/site-packages/sklearn/utils/deprecation.py:125: FutureWarning: You are accessing a training score ('split1_train_score'), which will not be available by default any more in 0.21. If you need training scores, please set return_train_score=True\n",
      "  warnings.warn(*warn_args, **warn_kwargs)\n",
      "/Users/Ted/anaconda3/lib/python3.6/site-packages/sklearn/utils/deprecation.py:125: FutureWarning: You are accessing a training score ('split2_train_score'), which will not be available by default any more in 0.21. If you need training scores, please set return_train_score=True\n",
      "  warnings.warn(*warn_args, **warn_kwargs)\n",
      "/Users/Ted/anaconda3/lib/python3.6/site-packages/sklearn/utils/deprecation.py:125: FutureWarning: You are accessing a training score ('split3_train_score'), which will not be available by default any more in 0.21. If you need training scores, please set return_train_score=True\n",
      "  warnings.warn(*warn_args, **warn_kwargs)\n",
      "/Users/Ted/anaconda3/lib/python3.6/site-packages/sklearn/utils/deprecation.py:125: FutureWarning: You are accessing a training score ('split4_train_score'), which will not be available by default any more in 0.21. If you need training scores, please set return_train_score=True\n",
      "  warnings.warn(*warn_args, **warn_kwargs)\n",
      "/Users/Ted/anaconda3/lib/python3.6/site-packages/sklearn/utils/deprecation.py:125: FutureWarning: You are accessing a training score ('mean_train_score'), which will not be available by default any more in 0.21. If you need training scores, please set return_train_score=True\n",
      "  warnings.warn(*warn_args, **warn_kwargs)\n",
      "/Users/Ted/anaconda3/lib/python3.6/site-packages/sklearn/utils/deprecation.py:125: FutureWarning: You are accessing a training score ('std_train_score'), which will not be available by default any more in 0.21. If you need training scores, please set return_train_score=True\n",
      "  warnings.warn(*warn_args, **warn_kwargs)\n"
     ]
    },
    {
     "data": {
      "text/html": [
       "<div>\n",
       "<style scoped>\n",
       "    .dataframe tbody tr th:only-of-type {\n",
       "        vertical-align: middle;\n",
       "    }\n",
       "\n",
       "    .dataframe tbody tr th {\n",
       "        vertical-align: top;\n",
       "    }\n",
       "\n",
       "    .dataframe thead th {\n",
       "        text-align: right;\n",
       "    }\n",
       "</style>\n",
       "<table border=\"1\" class=\"dataframe\">\n",
       "  <thead>\n",
       "    <tr style=\"text-align: right;\">\n",
       "      <th></th>\n",
       "      <th>mean_fit_time</th>\n",
       "      <th>std_fit_time</th>\n",
       "      <th>mean_score_time</th>\n",
       "      <th>std_score_time</th>\n",
       "      <th>param_bt__cat_threshold</th>\n",
       "      <th>param_ridge__alpha</th>\n",
       "      <th>params</th>\n",
       "      <th>split0_test_score</th>\n",
       "      <th>split1_test_score</th>\n",
       "      <th>split2_test_score</th>\n",
       "      <th>split3_test_score</th>\n",
       "      <th>split4_test_score</th>\n",
       "      <th>mean_test_score</th>\n",
       "      <th>std_test_score</th>\n",
       "      <th>rank_test_score</th>\n",
       "      <th>split0_train_score</th>\n",
       "      <th>split1_train_score</th>\n",
       "      <th>split2_train_score</th>\n",
       "      <th>split3_train_score</th>\n",
       "      <th>split4_train_score</th>\n",
       "      <th>mean_train_score</th>\n",
       "      <th>std_train_score</th>\n",
       "    </tr>\n",
       "  </thead>\n",
       "  <tbody>\n",
       "    <tr>\n",
       "      <th>0</th>\n",
       "      <td>0.151099</td>\n",
       "      <td>0.008482</td>\n",
       "      <td>0.058924</td>\n",
       "      <td>0.006349</td>\n",
       "      <td>0</td>\n",
       "      <td>0.1</td>\n",
       "      <td>{'bt__cat_threshold': 0, 'ridge__alpha': 0.1}</td>\n",
       "      <td>0.896662</td>\n",
       "      <td>0.781349</td>\n",
       "      <td>0.803144</td>\n",
       "      <td>0.878337</td>\n",
       "      <td>0.684654</td>\n",
       "      <td>0.808829</td>\n",
       "      <td>0.075833</td>\n",
       "      <td>26</td>\n",
       "      <td>0.933923</td>\n",
       "      <td>0.942257</td>\n",
       "      <td>0.944030</td>\n",
       "      <td>0.937377</td>\n",
       "      <td>0.933090</td>\n",
       "      <td>0.938136</td>\n",
       "      <td>0.004370</td>\n",
       "    </tr>\n",
       "    <tr>\n",
       "      <th>1</th>\n",
       "      <td>0.134270</td>\n",
       "      <td>0.006803</td>\n",
       "      <td>0.051739</td>\n",
       "      <td>0.001623</td>\n",
       "      <td>0</td>\n",
       "      <td>1</td>\n",
       "      <td>{'bt__cat_threshold': 0, 'ridge__alpha': 1}</td>\n",
       "      <td>0.893991</td>\n",
       "      <td>0.806010</td>\n",
       "      <td>0.832287</td>\n",
       "      <td>0.874838</td>\n",
       "      <td>0.700530</td>\n",
       "      <td>0.821531</td>\n",
       "      <td>0.067956</td>\n",
       "      <td>19</td>\n",
       "      <td>0.922321</td>\n",
       "      <td>0.931128</td>\n",
       "      <td>0.928199</td>\n",
       "      <td>0.924859</td>\n",
       "      <td>0.929494</td>\n",
       "      <td>0.927200</td>\n",
       "      <td>0.003193</td>\n",
       "    </tr>\n",
       "    <tr>\n",
       "      <th>2</th>\n",
       "      <td>0.125818</td>\n",
       "      <td>0.003608</td>\n",
       "      <td>0.052028</td>\n",
       "      <td>0.001495</td>\n",
       "      <td>0</td>\n",
       "      <td>10</td>\n",
       "      <td>{'bt__cat_threshold': 0, 'ridge__alpha': 10}</td>\n",
       "      <td>0.894996</td>\n",
       "      <td>0.822835</td>\n",
       "      <td>0.835066</td>\n",
       "      <td>0.871813</td>\n",
       "      <td>0.724028</td>\n",
       "      <td>0.829747</td>\n",
       "      <td>0.058787</td>\n",
       "      <td>1</td>\n",
       "      <td>0.899157</td>\n",
       "      <td>0.909725</td>\n",
       "      <td>0.905700</td>\n",
       "      <td>0.901508</td>\n",
       "      <td>0.915036</td>\n",
       "      <td>0.906225</td>\n",
       "      <td>0.005699</td>\n",
       "    </tr>\n",
       "    <tr>\n",
       "      <th>3</th>\n",
       "      <td>0.137552</td>\n",
       "      <td>0.009644</td>\n",
       "      <td>0.056596</td>\n",
       "      <td>0.007646</td>\n",
       "      <td>0</td>\n",
       "      <td>30</td>\n",
       "      <td>{'bt__cat_threshold': 0, 'ridge__alpha': 30}</td>\n",
       "      <td>0.895582</td>\n",
       "      <td>0.825460</td>\n",
       "      <td>0.831901</td>\n",
       "      <td>0.871506</td>\n",
       "      <td>0.723175</td>\n",
       "      <td>0.829525</td>\n",
       "      <td>0.059091</td>\n",
       "      <td>2</td>\n",
       "      <td>0.884856</td>\n",
       "      <td>0.896451</td>\n",
       "      <td>0.893070</td>\n",
       "      <td>0.887565</td>\n",
       "      <td>0.904876</td>\n",
       "      <td>0.893364</td>\n",
       "      <td>0.007045</td>\n",
       "    </tr>\n",
       "    <tr>\n",
       "      <th>4</th>\n",
       "      <td>0.133064</td>\n",
       "      <td>0.005175</td>\n",
       "      <td>0.059503</td>\n",
       "      <td>0.010216</td>\n",
       "      <td>0</td>\n",
       "      <td>100</td>\n",
       "      <td>{'bt__cat_threshold': 0, 'ridge__alpha': 100}</td>\n",
       "      <td>0.889236</td>\n",
       "      <td>0.823003</td>\n",
       "      <td>0.822421</td>\n",
       "      <td>0.866925</td>\n",
       "      <td>0.715614</td>\n",
       "      <td>0.823439</td>\n",
       "      <td>0.059746</td>\n",
       "      <td>13</td>\n",
       "      <td>0.864086</td>\n",
       "      <td>0.876754</td>\n",
       "      <td>0.874573</td>\n",
       "      <td>0.867295</td>\n",
       "      <td>0.890486</td>\n",
       "      <td>0.874639</td>\n",
       "      <td>0.009175</td>\n",
       "    </tr>\n",
       "    <tr>\n",
       "      <th>5</th>\n",
       "      <td>0.126686</td>\n",
       "      <td>0.005695</td>\n",
       "      <td>0.049627</td>\n",
       "      <td>0.001913</td>\n",
       "      <td>1</td>\n",
       "      <td>0.1</td>\n",
       "      <td>{'bt__cat_threshold': 1, 'ridge__alpha': 0.1}</td>\n",
       "      <td>0.884871</td>\n",
       "      <td>0.712477</td>\n",
       "      <td>0.821721</td>\n",
       "      <td>0.863899</td>\n",
       "      <td>0.717456</td>\n",
       "      <td>0.800085</td>\n",
       "      <td>0.072432</td>\n",
       "      <td>30</td>\n",
       "      <td>0.920131</td>\n",
       "      <td>0.931422</td>\n",
       "      <td>0.918306</td>\n",
       "      <td>0.923410</td>\n",
       "      <td>0.932306</td>\n",
       "      <td>0.925115</td>\n",
       "      <td>0.005755</td>\n",
       "    </tr>\n",
       "    <tr>\n",
       "      <th>6</th>\n",
       "      <td>0.130103</td>\n",
       "      <td>0.004108</td>\n",
       "      <td>0.053175</td>\n",
       "      <td>0.001933</td>\n",
       "      <td>1</td>\n",
       "      <td>1</td>\n",
       "      <td>{'bt__cat_threshold': 1, 'ridge__alpha': 1}</td>\n",
       "      <td>0.888417</td>\n",
       "      <td>0.797304</td>\n",
       "      <td>0.821625</td>\n",
       "      <td>0.866313</td>\n",
       "      <td>0.703418</td>\n",
       "      <td>0.815415</td>\n",
       "      <td>0.064544</td>\n",
       "      <td>22</td>\n",
       "      <td>0.913693</td>\n",
       "      <td>0.922866</td>\n",
       "      <td>0.914073</td>\n",
       "      <td>0.916202</td>\n",
       "      <td>0.927450</td>\n",
       "      <td>0.918857</td>\n",
       "      <td>0.005413</td>\n",
       "    </tr>\n",
       "    <tr>\n",
       "      <th>7</th>\n",
       "      <td>0.131027</td>\n",
       "      <td>0.003182</td>\n",
       "      <td>0.051814</td>\n",
       "      <td>0.002601</td>\n",
       "      <td>1</td>\n",
       "      <td>10</td>\n",
       "      <td>{'bt__cat_threshold': 1, 'ridge__alpha': 10}</td>\n",
       "      <td>0.894205</td>\n",
       "      <td>0.822060</td>\n",
       "      <td>0.831289</td>\n",
       "      <td>0.870218</td>\n",
       "      <td>0.723553</td>\n",
       "      <td>0.828265</td>\n",
       "      <td>0.058516</td>\n",
       "      <td>10</td>\n",
       "      <td>0.896995</td>\n",
       "      <td>0.907343</td>\n",
       "      <td>0.902540</td>\n",
       "      <td>0.899486</td>\n",
       "      <td>0.914338</td>\n",
       "      <td>0.904140</td>\n",
       "      <td>0.006157</td>\n",
       "    </tr>\n",
       "    <tr>\n",
       "      <th>8</th>\n",
       "      <td>0.124641</td>\n",
       "      <td>0.004546</td>\n",
       "      <td>0.050944</td>\n",
       "      <td>0.003075</td>\n",
       "      <td>1</td>\n",
       "      <td>30</td>\n",
       "      <td>{'bt__cat_threshold': 1, 'ridge__alpha': 30}</td>\n",
       "      <td>0.895353</td>\n",
       "      <td>0.825277</td>\n",
       "      <td>0.830322</td>\n",
       "      <td>0.870972</td>\n",
       "      <td>0.723009</td>\n",
       "      <td>0.828987</td>\n",
       "      <td>0.059015</td>\n",
       "      <td>5</td>\n",
       "      <td>0.883881</td>\n",
       "      <td>0.895349</td>\n",
       "      <td>0.891696</td>\n",
       "      <td>0.886660</td>\n",
       "      <td>0.904584</td>\n",
       "      <td>0.892434</td>\n",
       "      <td>0.007255</td>\n",
       "    </tr>\n",
       "    <tr>\n",
       "      <th>9</th>\n",
       "      <td>0.127741</td>\n",
       "      <td>0.004085</td>\n",
       "      <td>0.051622</td>\n",
       "      <td>0.003958</td>\n",
       "      <td>1</td>\n",
       "      <td>100</td>\n",
       "      <td>{'bt__cat_threshold': 1, 'ridge__alpha': 100}</td>\n",
       "      <td>0.889180</td>\n",
       "      <td>0.822979</td>\n",
       "      <td>0.821884</td>\n",
       "      <td>0.866778</td>\n",
       "      <td>0.715578</td>\n",
       "      <td>0.823280</td>\n",
       "      <td>0.059727</td>\n",
       "      <td>15</td>\n",
       "      <td>0.863687</td>\n",
       "      <td>0.876302</td>\n",
       "      <td>0.874037</td>\n",
       "      <td>0.866918</td>\n",
       "      <td>0.890375</td>\n",
       "      <td>0.874264</td>\n",
       "      <td>0.009269</td>\n",
       "    </tr>\n",
       "    <tr>\n",
       "      <th>10</th>\n",
       "      <td>0.119394</td>\n",
       "      <td>0.004397</td>\n",
       "      <td>0.048060</td>\n",
       "      <td>0.002518</td>\n",
       "      <td>2</td>\n",
       "      <td>0.1</td>\n",
       "      <td>{'bt__cat_threshold': 2, 'ridge__alpha': 0.1}</td>\n",
       "      <td>0.879367</td>\n",
       "      <td>0.790817</td>\n",
       "      <td>0.816384</td>\n",
       "      <td>0.866764</td>\n",
       "      <td>0.710273</td>\n",
       "      <td>0.812721</td>\n",
       "      <td>0.060582</td>\n",
       "      <td>25</td>\n",
       "      <td>0.910966</td>\n",
       "      <td>0.919584</td>\n",
       "      <td>0.916663</td>\n",
       "      <td>0.912209</td>\n",
       "      <td>0.921093</td>\n",
       "      <td>0.916103</td>\n",
       "      <td>0.003972</td>\n",
       "    </tr>\n",
       "    <tr>\n",
       "      <th>11</th>\n",
       "      <td>0.133774</td>\n",
       "      <td>0.007706</td>\n",
       "      <td>0.051631</td>\n",
       "      <td>0.003011</td>\n",
       "      <td>2</td>\n",
       "      <td>1</td>\n",
       "      <td>{'bt__cat_threshold': 2, 'ridge__alpha': 1}</td>\n",
       "      <td>0.884892</td>\n",
       "      <td>0.806722</td>\n",
       "      <td>0.822886</td>\n",
       "      <td>0.868472</td>\n",
       "      <td>0.712972</td>\n",
       "      <td>0.819189</td>\n",
       "      <td>0.060327</td>\n",
       "      <td>20</td>\n",
       "      <td>0.907234</td>\n",
       "      <td>0.915191</td>\n",
       "      <td>0.911986</td>\n",
       "      <td>0.908225</td>\n",
       "      <td>0.919431</td>\n",
       "      <td>0.912413</td>\n",
       "      <td>0.004506</td>\n",
       "    </tr>\n",
       "    <tr>\n",
       "      <th>12</th>\n",
       "      <td>0.127095</td>\n",
       "      <td>0.003235</td>\n",
       "      <td>0.050591</td>\n",
       "      <td>0.004746</td>\n",
       "      <td>2</td>\n",
       "      <td>10</td>\n",
       "      <td>{'bt__cat_threshold': 2, 'ridge__alpha': 10}</td>\n",
       "      <td>0.893480</td>\n",
       "      <td>0.822688</td>\n",
       "      <td>0.831634</td>\n",
       "      <td>0.870255</td>\n",
       "      <td>0.727418</td>\n",
       "      <td>0.829095</td>\n",
       "      <td>0.056965</td>\n",
       "      <td>4</td>\n",
       "      <td>0.894516</td>\n",
       "      <td>0.904643</td>\n",
       "      <td>0.901770</td>\n",
       "      <td>0.896554</td>\n",
       "      <td>0.911720</td>\n",
       "      <td>0.901841</td>\n",
       "      <td>0.006116</td>\n",
       "    </tr>\n",
       "    <tr>\n",
       "      <th>13</th>\n",
       "      <td>0.140630</td>\n",
       "      <td>0.019455</td>\n",
       "      <td>0.050546</td>\n",
       "      <td>0.001065</td>\n",
       "      <td>2</td>\n",
       "      <td>30</td>\n",
       "      <td>{'bt__cat_threshold': 2, 'ridge__alpha': 30}</td>\n",
       "      <td>0.895131</td>\n",
       "      <td>0.825551</td>\n",
       "      <td>0.830453</td>\n",
       "      <td>0.870909</td>\n",
       "      <td>0.724489</td>\n",
       "      <td>0.829307</td>\n",
       "      <td>0.058422</td>\n",
       "      <td>3</td>\n",
       "      <td>0.882703</td>\n",
       "      <td>0.894088</td>\n",
       "      <td>0.891327</td>\n",
       "      <td>0.885315</td>\n",
       "      <td>0.903368</td>\n",
       "      <td>0.891360</td>\n",
       "      <td>0.007254</td>\n",
       "    </tr>\n",
       "    <tr>\n",
       "      <th>14</th>\n",
       "      <td>0.122194</td>\n",
       "      <td>0.005582</td>\n",
       "      <td>0.048999</td>\n",
       "      <td>0.002193</td>\n",
       "      <td>2</td>\n",
       "      <td>100</td>\n",
       "      <td>{'bt__cat_threshold': 2, 'ridge__alpha': 100}</td>\n",
       "      <td>0.889121</td>\n",
       "      <td>0.823101</td>\n",
       "      <td>0.821930</td>\n",
       "      <td>0.866741</td>\n",
       "      <td>0.715975</td>\n",
       "      <td>0.823373</td>\n",
       "      <td>0.059565</td>\n",
       "      <td>14</td>\n",
       "      <td>0.863228</td>\n",
       "      <td>0.875789</td>\n",
       "      <td>0.873874</td>\n",
       "      <td>0.866408</td>\n",
       "      <td>0.889918</td>\n",
       "      <td>0.873843</td>\n",
       "      <td>0.009275</td>\n",
       "    </tr>\n",
       "    <tr>\n",
       "      <th>15</th>\n",
       "      <td>0.125953</td>\n",
       "      <td>0.008274</td>\n",
       "      <td>0.049515</td>\n",
       "      <td>0.005158</td>\n",
       "      <td>3</td>\n",
       "      <td>0.1</td>\n",
       "      <td>{'bt__cat_threshold': 3, 'ridge__alpha': 0.1}</td>\n",
       "      <td>0.879098</td>\n",
       "      <td>0.793417</td>\n",
       "      <td>0.821819</td>\n",
       "      <td>0.862409</td>\n",
       "      <td>0.673392</td>\n",
       "      <td>0.806027</td>\n",
       "      <td>0.072827</td>\n",
       "      <td>27</td>\n",
       "      <td>0.906305</td>\n",
       "      <td>0.919286</td>\n",
       "      <td>0.914775</td>\n",
       "      <td>0.908173</td>\n",
       "      <td>0.919192</td>\n",
       "      <td>0.913546</td>\n",
       "      <td>0.005434</td>\n",
       "    </tr>\n",
       "    <tr>\n",
       "      <th>16</th>\n",
       "      <td>0.123723</td>\n",
       "      <td>0.007298</td>\n",
       "      <td>0.046508</td>\n",
       "      <td>0.003067</td>\n",
       "      <td>3</td>\n",
       "      <td>1</td>\n",
       "      <td>{'bt__cat_threshold': 3, 'ridge__alpha': 1}</td>\n",
       "      <td>0.884159</td>\n",
       "      <td>0.808088</td>\n",
       "      <td>0.825219</td>\n",
       "      <td>0.864273</td>\n",
       "      <td>0.697097</td>\n",
       "      <td>0.815767</td>\n",
       "      <td>0.065209</td>\n",
       "      <td>21</td>\n",
       "      <td>0.902959</td>\n",
       "      <td>0.914948</td>\n",
       "      <td>0.910724</td>\n",
       "      <td>0.904784</td>\n",
       "      <td>0.917533</td>\n",
       "      <td>0.910190</td>\n",
       "      <td>0.005628</td>\n",
       "    </tr>\n",
       "    <tr>\n",
       "      <th>17</th>\n",
       "      <td>0.116312</td>\n",
       "      <td>0.004744</td>\n",
       "      <td>0.044670</td>\n",
       "      <td>0.001640</td>\n",
       "      <td>3</td>\n",
       "      <td>10</td>\n",
       "      <td>{'bt__cat_threshold': 3, 'ridge__alpha': 10}</td>\n",
       "      <td>0.893192</td>\n",
       "      <td>0.822748</td>\n",
       "      <td>0.831926</td>\n",
       "      <td>0.869406</td>\n",
       "      <td>0.724143</td>\n",
       "      <td>0.828283</td>\n",
       "      <td>0.057954</td>\n",
       "      <td>9</td>\n",
       "      <td>0.892990</td>\n",
       "      <td>0.904574</td>\n",
       "      <td>0.901320</td>\n",
       "      <td>0.895314</td>\n",
       "      <td>0.910415</td>\n",
       "      <td>0.900923</td>\n",
       "      <td>0.006292</td>\n",
       "    </tr>\n",
       "    <tr>\n",
       "      <th>18</th>\n",
       "      <td>0.113793</td>\n",
       "      <td>0.001757</td>\n",
       "      <td>0.046586</td>\n",
       "      <td>0.002183</td>\n",
       "      <td>3</td>\n",
       "      <td>30</td>\n",
       "      <td>{'bt__cat_threshold': 3, 'ridge__alpha': 30}</td>\n",
       "      <td>0.895041</td>\n",
       "      <td>0.825569</td>\n",
       "      <td>0.830504</td>\n",
       "      <td>0.870634</td>\n",
       "      <td>0.723097</td>\n",
       "      <td>0.828969</td>\n",
       "      <td>0.058863</td>\n",
       "      <td>6</td>\n",
       "      <td>0.881981</td>\n",
       "      <td>0.894066</td>\n",
       "      <td>0.891113</td>\n",
       "      <td>0.884719</td>\n",
       "      <td>0.902669</td>\n",
       "      <td>0.890910</td>\n",
       "      <td>0.007298</td>\n",
       "    </tr>\n",
       "    <tr>\n",
       "      <th>19</th>\n",
       "      <td>0.120482</td>\n",
       "      <td>0.007889</td>\n",
       "      <td>0.046143</td>\n",
       "      <td>0.003425</td>\n",
       "      <td>3</td>\n",
       "      <td>100</td>\n",
       "      <td>{'bt__cat_threshold': 3, 'ridge__alpha': 100}</td>\n",
       "      <td>0.889090</td>\n",
       "      <td>0.823110</td>\n",
       "      <td>0.821924</td>\n",
       "      <td>0.866665</td>\n",
       "      <td>0.715471</td>\n",
       "      <td>0.823252</td>\n",
       "      <td>0.059729</td>\n",
       "      <td>16</td>\n",
       "      <td>0.862936</td>\n",
       "      <td>0.875785</td>\n",
       "      <td>0.873793</td>\n",
       "      <td>0.866157</td>\n",
       "      <td>0.889634</td>\n",
       "      <td>0.873661</td>\n",
       "      <td>0.009285</td>\n",
       "    </tr>\n",
       "    <tr>\n",
       "      <th>20</th>\n",
       "      <td>0.112110</td>\n",
       "      <td>0.002502</td>\n",
       "      <td>0.043176</td>\n",
       "      <td>0.001316</td>\n",
       "      <td>4</td>\n",
       "      <td>0.1</td>\n",
       "      <td>{'bt__cat_threshold': 4, 'ridge__alpha': 0.1}</td>\n",
       "      <td>0.876373</td>\n",
       "      <td>0.789902</td>\n",
       "      <td>0.820220</td>\n",
       "      <td>0.837065</td>\n",
       "      <td>0.689251</td>\n",
       "      <td>0.802562</td>\n",
       "      <td>0.063167</td>\n",
       "      <td>29</td>\n",
       "      <td>0.904058</td>\n",
       "      <td>0.915859</td>\n",
       "      <td>0.911456</td>\n",
       "      <td>0.903711</td>\n",
       "      <td>0.917234</td>\n",
       "      <td>0.910464</td>\n",
       "      <td>0.005702</td>\n",
       "    </tr>\n",
       "    <tr>\n",
       "      <th>21</th>\n",
       "      <td>0.119044</td>\n",
       "      <td>0.003835</td>\n",
       "      <td>0.047352</td>\n",
       "      <td>0.002472</td>\n",
       "      <td>4</td>\n",
       "      <td>1</td>\n",
       "      <td>{'bt__cat_threshold': 4, 'ridge__alpha': 1}</td>\n",
       "      <td>0.884017</td>\n",
       "      <td>0.807492</td>\n",
       "      <td>0.824496</td>\n",
       "      <td>0.849689</td>\n",
       "      <td>0.701763</td>\n",
       "      <td>0.813491</td>\n",
       "      <td>0.061521</td>\n",
       "      <td>23</td>\n",
       "      <td>0.901997</td>\n",
       "      <td>0.913867</td>\n",
       "      <td>0.909803</td>\n",
       "      <td>0.901840</td>\n",
       "      <td>0.916226</td>\n",
       "      <td>0.908747</td>\n",
       "      <td>0.005942</td>\n",
       "    </tr>\n",
       "    <tr>\n",
       "      <th>22</th>\n",
       "      <td>0.115263</td>\n",
       "      <td>0.005238</td>\n",
       "      <td>0.045032</td>\n",
       "      <td>0.002600</td>\n",
       "      <td>4</td>\n",
       "      <td>10</td>\n",
       "      <td>{'bt__cat_threshold': 4, 'ridge__alpha': 10}</td>\n",
       "      <td>0.893343</td>\n",
       "      <td>0.823092</td>\n",
       "      <td>0.831967</td>\n",
       "      <td>0.865074</td>\n",
       "      <td>0.723755</td>\n",
       "      <td>0.827446</td>\n",
       "      <td>0.057532</td>\n",
       "      <td>11</td>\n",
       "      <td>0.892850</td>\n",
       "      <td>0.904438</td>\n",
       "      <td>0.901249</td>\n",
       "      <td>0.894499</td>\n",
       "      <td>0.910257</td>\n",
       "      <td>0.900659</td>\n",
       "      <td>0.006413</td>\n",
       "    </tr>\n",
       "    <tr>\n",
       "      <th>23</th>\n",
       "      <td>0.119128</td>\n",
       "      <td>0.005767</td>\n",
       "      <td>0.045034</td>\n",
       "      <td>0.001568</td>\n",
       "      <td>4</td>\n",
       "      <td>30</td>\n",
       "      <td>{'bt__cat_threshold': 4, 'ridge__alpha': 30}</td>\n",
       "      <td>0.895106</td>\n",
       "      <td>0.825740</td>\n",
       "      <td>0.830496</td>\n",
       "      <td>0.868773</td>\n",
       "      <td>0.722975</td>\n",
       "      <td>0.828618</td>\n",
       "      <td>0.058661</td>\n",
       "      <td>7</td>\n",
       "      <td>0.881916</td>\n",
       "      <td>0.893995</td>\n",
       "      <td>0.891085</td>\n",
       "      <td>0.884365</td>\n",
       "      <td>0.902621</td>\n",
       "      <td>0.890797</td>\n",
       "      <td>0.007353</td>\n",
       "    </tr>\n",
       "    <tr>\n",
       "      <th>24</th>\n",
       "      <td>0.123404</td>\n",
       "      <td>0.012019</td>\n",
       "      <td>0.046736</td>\n",
       "      <td>0.003853</td>\n",
       "      <td>4</td>\n",
       "      <td>100</td>\n",
       "      <td>{'bt__cat_threshold': 4, 'ridge__alpha': 100}</td>\n",
       "      <td>0.889114</td>\n",
       "      <td>0.823182</td>\n",
       "      <td>0.821915</td>\n",
       "      <td>0.865999</td>\n",
       "      <td>0.715439</td>\n",
       "      <td>0.823130</td>\n",
       "      <td>0.059650</td>\n",
       "      <td>17</td>\n",
       "      <td>0.862909</td>\n",
       "      <td>0.875753</td>\n",
       "      <td>0.873783</td>\n",
       "      <td>0.866031</td>\n",
       "      <td>0.889611</td>\n",
       "      <td>0.873617</td>\n",
       "      <td>0.009302</td>\n",
       "    </tr>\n",
       "    <tr>\n",
       "      <th>25</th>\n",
       "      <td>0.117664</td>\n",
       "      <td>0.008884</td>\n",
       "      <td>0.043316</td>\n",
       "      <td>0.001735</td>\n",
       "      <td>5</td>\n",
       "      <td>0.1</td>\n",
       "      <td>{'bt__cat_threshold': 5, 'ridge__alpha': 0.1}</td>\n",
       "      <td>0.870459</td>\n",
       "      <td>0.793700</td>\n",
       "      <td>0.821499</td>\n",
       "      <td>0.841393</td>\n",
       "      <td>0.690322</td>\n",
       "      <td>0.803475</td>\n",
       "      <td>0.061885</td>\n",
       "      <td>28</td>\n",
       "      <td>0.898780</td>\n",
       "      <td>0.915492</td>\n",
       "      <td>0.911015</td>\n",
       "      <td>0.903311</td>\n",
       "      <td>0.917049</td>\n",
       "      <td>0.909129</td>\n",
       "      <td>0.007039</td>\n",
       "    </tr>\n",
       "    <tr>\n",
       "      <th>26</th>\n",
       "      <td>0.114490</td>\n",
       "      <td>0.008713</td>\n",
       "      <td>0.044401</td>\n",
       "      <td>0.003456</td>\n",
       "      <td>5</td>\n",
       "      <td>1</td>\n",
       "      <td>{'bt__cat_threshold': 5, 'ridge__alpha': 1}</td>\n",
       "      <td>0.877772</td>\n",
       "      <td>0.808842</td>\n",
       "      <td>0.826025</td>\n",
       "      <td>0.851260</td>\n",
       "      <td>0.702449</td>\n",
       "      <td>0.813270</td>\n",
       "      <td>0.060112</td>\n",
       "      <td>24</td>\n",
       "      <td>0.897767</td>\n",
       "      <td>0.913482</td>\n",
       "      <td>0.909471</td>\n",
       "      <td>0.901489</td>\n",
       "      <td>0.916067</td>\n",
       "      <td>0.907655</td>\n",
       "      <td>0.006983</td>\n",
       "    </tr>\n",
       "    <tr>\n",
       "      <th>27</th>\n",
       "      <td>0.118654</td>\n",
       "      <td>0.005812</td>\n",
       "      <td>0.045213</td>\n",
       "      <td>0.003476</td>\n",
       "      <td>5</td>\n",
       "      <td>10</td>\n",
       "      <td>{'bt__cat_threshold': 5, 'ridge__alpha': 10}</td>\n",
       "      <td>0.890482</td>\n",
       "      <td>0.823031</td>\n",
       "      <td>0.832849</td>\n",
       "      <td>0.865149</td>\n",
       "      <td>0.723897</td>\n",
       "      <td>0.827081</td>\n",
       "      <td>0.056860</td>\n",
       "      <td>12</td>\n",
       "      <td>0.891263</td>\n",
       "      <td>0.904260</td>\n",
       "      <td>0.900994</td>\n",
       "      <td>0.894225</td>\n",
       "      <td>0.910201</td>\n",
       "      <td>0.900189</td>\n",
       "      <td>0.006822</td>\n",
       "    </tr>\n",
       "    <tr>\n",
       "      <th>28</th>\n",
       "      <td>0.127313</td>\n",
       "      <td>0.012984</td>\n",
       "      <td>0.045905</td>\n",
       "      <td>0.001557</td>\n",
       "      <td>5</td>\n",
       "      <td>30</td>\n",
       "      <td>{'bt__cat_threshold': 5, 'ridge__alpha': 30}</td>\n",
       "      <td>0.893782</td>\n",
       "      <td>0.825683</td>\n",
       "      <td>0.830895</td>\n",
       "      <td>0.868729</td>\n",
       "      <td>0.723059</td>\n",
       "      <td>0.828430</td>\n",
       "      <td>0.058329</td>\n",
       "      <td>8</td>\n",
       "      <td>0.881183</td>\n",
       "      <td>0.893898</td>\n",
       "      <td>0.890965</td>\n",
       "      <td>0.884229</td>\n",
       "      <td>0.902607</td>\n",
       "      <td>0.890576</td>\n",
       "      <td>0.007542</td>\n",
       "    </tr>\n",
       "    <tr>\n",
       "      <th>29</th>\n",
       "      <td>0.117375</td>\n",
       "      <td>0.003804</td>\n",
       "      <td>0.046612</td>\n",
       "      <td>0.002736</td>\n",
       "      <td>5</td>\n",
       "      <td>100</td>\n",
       "      <td>{'bt__cat_threshold': 5, 'ridge__alpha': 100}</td>\n",
       "      <td>0.888633</td>\n",
       "      <td>0.823159</td>\n",
       "      <td>0.822045</td>\n",
       "      <td>0.865967</td>\n",
       "      <td>0.715482</td>\n",
       "      <td>0.823057</td>\n",
       "      <td>0.059523</td>\n",
       "      <td>18</td>\n",
       "      <td>0.862629</td>\n",
       "      <td>0.875709</td>\n",
       "      <td>0.873742</td>\n",
       "      <td>0.865980</td>\n",
       "      <td>0.889605</td>\n",
       "      <td>0.873533</td>\n",
       "      <td>0.009371</td>\n",
       "    </tr>\n",
       "  </tbody>\n",
       "</table>\n",
       "</div>"
      ],
      "text/plain": [
       "    mean_fit_time  std_fit_time  mean_score_time  std_score_time  \\\n",
       "0        0.151099      0.008482         0.058924        0.006349   \n",
       "1        0.134270      0.006803         0.051739        0.001623   \n",
       "2        0.125818      0.003608         0.052028        0.001495   \n",
       "3        0.137552      0.009644         0.056596        0.007646   \n",
       "4        0.133064      0.005175         0.059503        0.010216   \n",
       "5        0.126686      0.005695         0.049627        0.001913   \n",
       "6        0.130103      0.004108         0.053175        0.001933   \n",
       "7        0.131027      0.003182         0.051814        0.002601   \n",
       "8        0.124641      0.004546         0.050944        0.003075   \n",
       "9        0.127741      0.004085         0.051622        0.003958   \n",
       "10       0.119394      0.004397         0.048060        0.002518   \n",
       "11       0.133774      0.007706         0.051631        0.003011   \n",
       "12       0.127095      0.003235         0.050591        0.004746   \n",
       "13       0.140630      0.019455         0.050546        0.001065   \n",
       "14       0.122194      0.005582         0.048999        0.002193   \n",
       "15       0.125953      0.008274         0.049515        0.005158   \n",
       "16       0.123723      0.007298         0.046508        0.003067   \n",
       "17       0.116312      0.004744         0.044670        0.001640   \n",
       "18       0.113793      0.001757         0.046586        0.002183   \n",
       "19       0.120482      0.007889         0.046143        0.003425   \n",
       "20       0.112110      0.002502         0.043176        0.001316   \n",
       "21       0.119044      0.003835         0.047352        0.002472   \n",
       "22       0.115263      0.005238         0.045032        0.002600   \n",
       "23       0.119128      0.005767         0.045034        0.001568   \n",
       "24       0.123404      0.012019         0.046736        0.003853   \n",
       "25       0.117664      0.008884         0.043316        0.001735   \n",
       "26       0.114490      0.008713         0.044401        0.003456   \n",
       "27       0.118654      0.005812         0.045213        0.003476   \n",
       "28       0.127313      0.012984         0.045905        0.001557   \n",
       "29       0.117375      0.003804         0.046612        0.002736   \n",
       "\n",
       "   param_bt__cat_threshold param_ridge__alpha  \\\n",
       "0                        0                0.1   \n",
       "1                        0                  1   \n",
       "2                        0                 10   \n",
       "3                        0                 30   \n",
       "4                        0                100   \n",
       "5                        1                0.1   \n",
       "6                        1                  1   \n",
       "7                        1                 10   \n",
       "8                        1                 30   \n",
       "9                        1                100   \n",
       "10                       2                0.1   \n",
       "11                       2                  1   \n",
       "12                       2                 10   \n",
       "13                       2                 30   \n",
       "14                       2                100   \n",
       "15                       3                0.1   \n",
       "16                       3                  1   \n",
       "17                       3                 10   \n",
       "18                       3                 30   \n",
       "19                       3                100   \n",
       "20                       4                0.1   \n",
       "21                       4                  1   \n",
       "22                       4                 10   \n",
       "23                       4                 30   \n",
       "24                       4                100   \n",
       "25                       5                0.1   \n",
       "26                       5                  1   \n",
       "27                       5                 10   \n",
       "28                       5                 30   \n",
       "29                       5                100   \n",
       "\n",
       "                                           params  split0_test_score  \\\n",
       "0   {'bt__cat_threshold': 0, 'ridge__alpha': 0.1}           0.896662   \n",
       "1     {'bt__cat_threshold': 0, 'ridge__alpha': 1}           0.893991   \n",
       "2    {'bt__cat_threshold': 0, 'ridge__alpha': 10}           0.894996   \n",
       "3    {'bt__cat_threshold': 0, 'ridge__alpha': 30}           0.895582   \n",
       "4   {'bt__cat_threshold': 0, 'ridge__alpha': 100}           0.889236   \n",
       "5   {'bt__cat_threshold': 1, 'ridge__alpha': 0.1}           0.884871   \n",
       "6     {'bt__cat_threshold': 1, 'ridge__alpha': 1}           0.888417   \n",
       "7    {'bt__cat_threshold': 1, 'ridge__alpha': 10}           0.894205   \n",
       "8    {'bt__cat_threshold': 1, 'ridge__alpha': 30}           0.895353   \n",
       "9   {'bt__cat_threshold': 1, 'ridge__alpha': 100}           0.889180   \n",
       "10  {'bt__cat_threshold': 2, 'ridge__alpha': 0.1}           0.879367   \n",
       "11    {'bt__cat_threshold': 2, 'ridge__alpha': 1}           0.884892   \n",
       "12   {'bt__cat_threshold': 2, 'ridge__alpha': 10}           0.893480   \n",
       "13   {'bt__cat_threshold': 2, 'ridge__alpha': 30}           0.895131   \n",
       "14  {'bt__cat_threshold': 2, 'ridge__alpha': 100}           0.889121   \n",
       "15  {'bt__cat_threshold': 3, 'ridge__alpha': 0.1}           0.879098   \n",
       "16    {'bt__cat_threshold': 3, 'ridge__alpha': 1}           0.884159   \n",
       "17   {'bt__cat_threshold': 3, 'ridge__alpha': 10}           0.893192   \n",
       "18   {'bt__cat_threshold': 3, 'ridge__alpha': 30}           0.895041   \n",
       "19  {'bt__cat_threshold': 3, 'ridge__alpha': 100}           0.889090   \n",
       "20  {'bt__cat_threshold': 4, 'ridge__alpha': 0.1}           0.876373   \n",
       "21    {'bt__cat_threshold': 4, 'ridge__alpha': 1}           0.884017   \n",
       "22   {'bt__cat_threshold': 4, 'ridge__alpha': 10}           0.893343   \n",
       "23   {'bt__cat_threshold': 4, 'ridge__alpha': 30}           0.895106   \n",
       "24  {'bt__cat_threshold': 4, 'ridge__alpha': 100}           0.889114   \n",
       "25  {'bt__cat_threshold': 5, 'ridge__alpha': 0.1}           0.870459   \n",
       "26    {'bt__cat_threshold': 5, 'ridge__alpha': 1}           0.877772   \n",
       "27   {'bt__cat_threshold': 5, 'ridge__alpha': 10}           0.890482   \n",
       "28   {'bt__cat_threshold': 5, 'ridge__alpha': 30}           0.893782   \n",
       "29  {'bt__cat_threshold': 5, 'ridge__alpha': 100}           0.888633   \n",
       "\n",
       "    split1_test_score  split2_test_score  split3_test_score  \\\n",
       "0            0.781349           0.803144           0.878337   \n",
       "1            0.806010           0.832287           0.874838   \n",
       "2            0.822835           0.835066           0.871813   \n",
       "3            0.825460           0.831901           0.871506   \n",
       "4            0.823003           0.822421           0.866925   \n",
       "5            0.712477           0.821721           0.863899   \n",
       "6            0.797304           0.821625           0.866313   \n",
       "7            0.822060           0.831289           0.870218   \n",
       "8            0.825277           0.830322           0.870972   \n",
       "9            0.822979           0.821884           0.866778   \n",
       "10           0.790817           0.816384           0.866764   \n",
       "11           0.806722           0.822886           0.868472   \n",
       "12           0.822688           0.831634           0.870255   \n",
       "13           0.825551           0.830453           0.870909   \n",
       "14           0.823101           0.821930           0.866741   \n",
       "15           0.793417           0.821819           0.862409   \n",
       "16           0.808088           0.825219           0.864273   \n",
       "17           0.822748           0.831926           0.869406   \n",
       "18           0.825569           0.830504           0.870634   \n",
       "19           0.823110           0.821924           0.866665   \n",
       "20           0.789902           0.820220           0.837065   \n",
       "21           0.807492           0.824496           0.849689   \n",
       "22           0.823092           0.831967           0.865074   \n",
       "23           0.825740           0.830496           0.868773   \n",
       "24           0.823182           0.821915           0.865999   \n",
       "25           0.793700           0.821499           0.841393   \n",
       "26           0.808842           0.826025           0.851260   \n",
       "27           0.823031           0.832849           0.865149   \n",
       "28           0.825683           0.830895           0.868729   \n",
       "29           0.823159           0.822045           0.865967   \n",
       "\n",
       "    split4_test_score  mean_test_score  std_test_score  rank_test_score  \\\n",
       "0            0.684654         0.808829        0.075833               26   \n",
       "1            0.700530         0.821531        0.067956               19   \n",
       "2            0.724028         0.829747        0.058787                1   \n",
       "3            0.723175         0.829525        0.059091                2   \n",
       "4            0.715614         0.823439        0.059746               13   \n",
       "5            0.717456         0.800085        0.072432               30   \n",
       "6            0.703418         0.815415        0.064544               22   \n",
       "7            0.723553         0.828265        0.058516               10   \n",
       "8            0.723009         0.828987        0.059015                5   \n",
       "9            0.715578         0.823280        0.059727               15   \n",
       "10           0.710273         0.812721        0.060582               25   \n",
       "11           0.712972         0.819189        0.060327               20   \n",
       "12           0.727418         0.829095        0.056965                4   \n",
       "13           0.724489         0.829307        0.058422                3   \n",
       "14           0.715975         0.823373        0.059565               14   \n",
       "15           0.673392         0.806027        0.072827               27   \n",
       "16           0.697097         0.815767        0.065209               21   \n",
       "17           0.724143         0.828283        0.057954                9   \n",
       "18           0.723097         0.828969        0.058863                6   \n",
       "19           0.715471         0.823252        0.059729               16   \n",
       "20           0.689251         0.802562        0.063167               29   \n",
       "21           0.701763         0.813491        0.061521               23   \n",
       "22           0.723755         0.827446        0.057532               11   \n",
       "23           0.722975         0.828618        0.058661                7   \n",
       "24           0.715439         0.823130        0.059650               17   \n",
       "25           0.690322         0.803475        0.061885               28   \n",
       "26           0.702449         0.813270        0.060112               24   \n",
       "27           0.723897         0.827081        0.056860               12   \n",
       "28           0.723059         0.828430        0.058329                8   \n",
       "29           0.715482         0.823057        0.059523               18   \n",
       "\n",
       "    split0_train_score  split1_train_score  split2_train_score  \\\n",
       "0             0.933923            0.942257            0.944030   \n",
       "1             0.922321            0.931128            0.928199   \n",
       "2             0.899157            0.909725            0.905700   \n",
       "3             0.884856            0.896451            0.893070   \n",
       "4             0.864086            0.876754            0.874573   \n",
       "5             0.920131            0.931422            0.918306   \n",
       "6             0.913693            0.922866            0.914073   \n",
       "7             0.896995            0.907343            0.902540   \n",
       "8             0.883881            0.895349            0.891696   \n",
       "9             0.863687            0.876302            0.874037   \n",
       "10            0.910966            0.919584            0.916663   \n",
       "11            0.907234            0.915191            0.911986   \n",
       "12            0.894516            0.904643            0.901770   \n",
       "13            0.882703            0.894088            0.891327   \n",
       "14            0.863228            0.875789            0.873874   \n",
       "15            0.906305            0.919286            0.914775   \n",
       "16            0.902959            0.914948            0.910724   \n",
       "17            0.892990            0.904574            0.901320   \n",
       "18            0.881981            0.894066            0.891113   \n",
       "19            0.862936            0.875785            0.873793   \n",
       "20            0.904058            0.915859            0.911456   \n",
       "21            0.901997            0.913867            0.909803   \n",
       "22            0.892850            0.904438            0.901249   \n",
       "23            0.881916            0.893995            0.891085   \n",
       "24            0.862909            0.875753            0.873783   \n",
       "25            0.898780            0.915492            0.911015   \n",
       "26            0.897767            0.913482            0.909471   \n",
       "27            0.891263            0.904260            0.900994   \n",
       "28            0.881183            0.893898            0.890965   \n",
       "29            0.862629            0.875709            0.873742   \n",
       "\n",
       "    split3_train_score  split4_train_score  mean_train_score  std_train_score  \n",
       "0             0.937377            0.933090          0.938136         0.004370  \n",
       "1             0.924859            0.929494          0.927200         0.003193  \n",
       "2             0.901508            0.915036          0.906225         0.005699  \n",
       "3             0.887565            0.904876          0.893364         0.007045  \n",
       "4             0.867295            0.890486          0.874639         0.009175  \n",
       "5             0.923410            0.932306          0.925115         0.005755  \n",
       "6             0.916202            0.927450          0.918857         0.005413  \n",
       "7             0.899486            0.914338          0.904140         0.006157  \n",
       "8             0.886660            0.904584          0.892434         0.007255  \n",
       "9             0.866918            0.890375          0.874264         0.009269  \n",
       "10            0.912209            0.921093          0.916103         0.003972  \n",
       "11            0.908225            0.919431          0.912413         0.004506  \n",
       "12            0.896554            0.911720          0.901841         0.006116  \n",
       "13            0.885315            0.903368          0.891360         0.007254  \n",
       "14            0.866408            0.889918          0.873843         0.009275  \n",
       "15            0.908173            0.919192          0.913546         0.005434  \n",
       "16            0.904784            0.917533          0.910190         0.005628  \n",
       "17            0.895314            0.910415          0.900923         0.006292  \n",
       "18            0.884719            0.902669          0.890910         0.007298  \n",
       "19            0.866157            0.889634          0.873661         0.009285  \n",
       "20            0.903711            0.917234          0.910464         0.005702  \n",
       "21            0.901840            0.916226          0.908747         0.005942  \n",
       "22            0.894499            0.910257          0.900659         0.006413  \n",
       "23            0.884365            0.902621          0.890797         0.007353  \n",
       "24            0.866031            0.889611          0.873617         0.009302  \n",
       "25            0.903311            0.917049          0.909129         0.007039  \n",
       "26            0.901489            0.916067          0.907655         0.006983  \n",
       "27            0.894225            0.910201          0.900189         0.006822  \n",
       "28            0.884229            0.902607          0.890576         0.007542  \n",
       "29            0.865980            0.889605          0.873533         0.009371  "
      ]
     },
     "execution_count": 65,
     "metadata": {},
     "output_type": "execute_result"
    }
   ],
   "source": [
    "pd.DataFrame(gs.cv_results_)"
   ]
  },
  {
   "cell_type": "markdown",
   "metadata": {},
   "source": [
    "# Binning and encoding numeric columns with the new KBinsDiscretizer\n",
    "There are a few columns that contain years. It makes more sense to bin the values in these columns and treat them as categories. Scikit-Learn introduced the new estimator `KBinsDiscretizer` to do just this. It not only bins the values, but it encodes them as well. Before you could of done this manually with Pandas `cut` or `qcut` functions.\n",
    "Let's see how it works with just the `YearBuilt` column."
   ]
  },
  {
   "cell_type": "code",
   "execution_count": 66,
   "metadata": {},
   "outputs": [
    {
     "data": {
      "text/plain": [
       "array([[0., 0., 0., 0., 1.],\n",
       "       [0., 0., 1., 0., 0.],\n",
       "       [0., 0., 0., 1., 0.],\n",
       "       ...,\n",
       "       [1., 0., 0., 0., 0.],\n",
       "       [0., 1., 0., 0., 0.],\n",
       "       [0., 0., 1., 0., 0.]])"
      ]
     },
     "execution_count": 66,
     "metadata": {},
     "output_type": "execute_result"
    }
   ],
   "source": [
    "from sklearn.preprocessing import KBinsDiscretizer\n",
    "kbd = KBinsDiscretizer(encode='onehot-dense')\n",
    "year_built_transformed = kbd.fit_transform(train[['YearBuilt']])\n",
    "year_built_transformed"
   ]
  },
  {
   "cell_type": "markdown",
   "metadata": {},
   "source": [
    "By default, each bin contains (approximately) an equal number of observations. Let's sum up each column to verify this."
   ]
  },
  {
   "cell_type": "code",
   "execution_count": 67,
   "metadata": {},
   "outputs": [
    {
     "data": {
      "text/plain": [
       "array([292., 274., 307., 266., 321.])"
      ]
     },
     "execution_count": 67,
     "metadata": {},
     "output_type": "execute_result"
    }
   ],
   "source": [
    "year_built_transformed.sum(axis=0)"
   ]
  },
  {
   "cell_type": "markdown",
   "metadata": {},
   "source": [
    "This is the 'quantile' strategy. You can choose 'uniform' to make the bin edges equally spaced or 'kmeans' which uses kmeans clustering to find the bin edges."
   ]
  },
  {
   "cell_type": "code",
   "execution_count": 68,
   "metadata": {},
   "outputs": [
    {
     "data": {
      "text/plain": [
       "array([array([1872. , 1947.8, 1965. , 1984. , 2003. , 2010. ])],\n",
       "      dtype=object)"
      ]
     },
     "execution_count": 68,
     "metadata": {},
     "output_type": "execute_result"
    }
   ],
   "source": [
    "kbd.bin_edges_"
   ]
  },
  {
   "cell_type": "markdown",
   "metadata": {},
   "source": [
    "# Processing all the year columns separately with ColumnTransformer\n",
    "We now have another subset of columns that need separate processing and we can do this with the `ColumnTransformer`. The following code adds one more step to our previous transformation. We also drop the Id column which was just identifying each row."
   ]
  },
  {
   "cell_type": "code",
   "execution_count": 70,
   "metadata": {},
   "outputs": [
    {
     "data": {
      "text/plain": [
       "(1460, 320)"
      ]
     },
     "execution_count": 70,
     "metadata": {},
     "output_type": "execute_result"
    }
   ],
   "source": [
    "year_cols = ['YearBuilt', 'YearRemodAdd', 'GarageYrBlt', 'YrSold']\n",
    "not_year = ~np.isin(num_cols, year_cols + ['Id'])\n",
    "num_cols2 = num_cols[not_year]\n",
    "\n",
    "year_si_step = ('si', SimpleImputer(strategy='median'))\n",
    "year_kbd_step = ('kbd', KBinsDiscretizer(n_bins=5, encode='onehot-dense'))\n",
    "year_steps = [year_si_step, year_kbd_step]\n",
    "year_pipe = Pipeline(year_steps)\n",
    "\n",
    "transformers = [('cat', cat_pipe, cat_cols),\n",
    "                ('num', num_pipe, num_cols2),\n",
    "                ('year', year_pipe, year_cols)]\n",
    "\n",
    "ct = ColumnTransformer(transformers=transformers)\n",
    "X = ct.fit_transform(train)\n",
    "X.shape"
   ]
  },
  {
   "cell_type": "markdown",
   "metadata": {},
   "source": [
    "We cross validate and score and see that all this work yielded us no improvements."
   ]
  },
  {
   "cell_type": "code",
   "execution_count": 71,
   "metadata": {},
   "outputs": [
    {
     "data": {
      "text/plain": [
       "0.812785401015533"
      ]
     },
     "execution_count": 71,
     "metadata": {},
     "output_type": "execute_result"
    }
   ],
   "source": [
    "ml_pipe = Pipeline([('transform', ct), ('ridge', Ridge())])\n",
    "cross_val_score(ml_pipe, train, y, cv=kf).mean()"
   ]
  },
  {
   "cell_type": "markdown",
   "metadata": {},
   "source": [
    "Using a different number of bins for each column might improve our results. Still, the KBinsDiscretizer makes it easy to bin numeric variables."
   ]
  },
  {
   "cell_type": "markdown",
   "metadata": {},
   "source": [
    "# More goodies in Scikit-Learn 0.20\n",
    "There are more new features that come with the upcoming release. Check the What's New section of the docs for more. There are a ton of changes.\n",
    "\n",
    "# Conclusion\n",
    "This article introduced a new workflow that will be available to Scikit-Learn users who rely on Pandas for the initial data exploration and preparation. A much smoother and feature-rich process for taking a Pandas DataFrame and transforming it so that it is ready for machine learning is now done through the new and improved estimators `ColumnTransformer`, `SimpleImputer`, `OneHotEncoder`, and `KBinsDiscretizer`.\n",
    "\n",
    "I am very excited to see this new upgrade and am going to be integrating these new workflows immediately into my projects and teaching materials.\n",
    "\n",
    "If you are interested in taking a more personalized class from me, see my [upcoming public courses][1].\n",
    "\n",
    "[1]: https://www.eventbrite.com/o/dunder-data-9780280058"
   ]
  }
 ],
 "metadata": {
  "hide_input": false,
  "kernelspec": {
   "display_name": "Python 3",
   "language": "python",
   "name": "python3"
  },
  "language_info": {
   "codemirror_mode": {
    "name": "ipython",
    "version": 3
   },
   "file_extension": ".py",
   "mimetype": "text/x-python",
   "name": "python",
   "nbconvert_exporter": "python",
   "pygments_lexer": "ipython3",
   "version": "3.7.3"
  },
  "varInspector": {
   "cols": {
    "lenName": 16,
    "lenType": 16,
    "lenVar": 40
   },
   "kernels_config": {
    "python": {
     "delete_cmd_postfix": "",
     "delete_cmd_prefix": "del ",
     "library": "var_list.py",
     "varRefreshCmd": "print(var_dic_list())"
    },
    "r": {
     "delete_cmd_postfix": ") ",
     "delete_cmd_prefix": "rm(",
     "library": "var_list.r",
     "varRefreshCmd": "cat(var_dic_list()) "
    }
   },
   "types_to_exclude": [
    "module",
    "function",
    "builtin_function_or_method",
    "instance",
    "_Feature"
   ],
   "window_display": false
  }
 },
 "nbformat": 4,
 "nbformat_minor": 2
}
