{
 "cells": [
  {
   "cell_type": "markdown",
   "metadata": {},
   "source": [
    "### Generalized Linear Model(GLM)\n",
    "\n",
    "GLM was an effort by John Nelder and Robert Wedderburn to unify commonly used various statistical models such as linear, logistic and poission etc.\n",
    "\n",
    "* Family               Description\n",
    "* Binomial             Target variable is binary response\n",
    "* Poisson              Target variable is a count of occurance\n",
    "* Gaussian             Target variable is a continuous number\n",
    "* Gamma                This distribution occurace when the a waiting time between Poisson distribution events are relevant i.e., number of events occured between two time period. \n",
    "* InverseGaussian      The tails of the distribution decrease slower than normal distribution i.e., there is an inverse relationship between the time required to cover a unit distance and distance covered in unit time\n",
    "* NegativeBinomial     Target variable denotes number of successes in a sequence before a random failure"
   ]
  },
  {
   "cell_type": "code",
   "execution_count": 1,
   "metadata": {
    "collapsed": false
   },
   "outputs": [],
   "source": [
    "import pandas as pd\n",
    "import numpy as np\n",
    "import matplotlib.pyplot as plt\n",
    "import scipy.stats as stats\n",
    "\n",
    "# importing linear regression function\n",
    "import sklearn.linear_model as lm\n",
    "\n",
    "# function to calculate r-squared, MAE, RMSE\n",
    "from sklearn.metrics import r2_score , mean_absolute_error, mean_squared_error\n",
    "\n",
    "%matplotlib inline"
   ]
  },
  {
   "cell_type": "markdown",
   "metadata": {},
   "source": [
    "### Load data\n",
    "Lets consider a usecase where we have to predict students test outcome i.e., pass (1) or fail(0) based on hours studied.\n",
    "\n",
    "In this case the outcome to be predicted is discrete."
   ]
  },
  {
   "cell_type": "code",
   "execution_count": 2,
   "metadata": {
    "collapsed": false,
    "scrolled": true
   },
   "outputs": [
    {
     "name": "stdout",
     "output_type": "stream",
     "text": [
      "   Hours_Studied  Test_Grade\n",
      "0              2          57\n",
      "1              3          66\n",
      "2              4          73\n",
      "3              5          76\n",
      "4              6          79\n",
      "5              7          81\n",
      "6              8          90\n",
      "7              9          96\n",
      "8             10         100\n"
     ]
    }
   ],
   "source": [
    "# Load data\n",
    "\n",
    "df = pd.read_csv('Data/Grade_Set_1.csv')\n",
    "print df"
   ]
  },
  {
   "cell_type": "code",
   "execution_count": 3,
   "metadata": {
    "collapsed": false
   },
   "outputs": [
    {
     "name": "stdout",
     "output_type": "stream",
     "text": [
      "####### Linear Regression Model ########\n",
      "Intercept:  49.6777777778\n",
      "Coefficient:  [ 5.01666667]\n",
      "\n",
      "####### Generalized Linear Model ########\n",
      "                 Generalized Linear Model Regression Results                  \n",
      "==============================================================================\n",
      "Dep. Variable:                      y   No. Observations:                    9\n",
      "Model:                            GLM   Df Residuals:                        7\n",
      "Model Family:                Gaussian   Df Model:                            1\n",
      "Link Function:               identity   Scale:                    5.3626984127\n",
      "Method:                          IRLS   Log-Likelihood:                -19.197\n",
      "Date:                Sun, 25 Dec 2016   Deviance:                       37.539\n",
      "Time:                        21:27:42   Pearson chi2:                     37.5\n",
      "No. Iterations:                     4                                         \n",
      "==============================================================================\n",
      "                 coef    std err          z      P>|z|      [95.0% Conf. Int.]\n",
      "------------------------------------------------------------------------------\n",
      "x1             5.0167      0.299     16.780      0.000         4.431     5.603\n",
      "const         49.6778      1.953     25.439      0.000        45.850    53.505\n",
      "==============================================================================\n"
     ]
    }
   ],
   "source": [
    "print('####### Linear Regression Model ########')\n",
    "# Create linear regression object\n",
    "lr = lm.LinearRegression()\n",
    "\n",
    "x= df.Hours_Studied[:, np.newaxis] # independent variable\n",
    "y= df.Test_Grade.values            # dependent variable \n",
    "\n",
    "# Train the model using the training sets\n",
    "lr.fit(x, y)\n",
    "\n",
    "print \"Intercept: \", lr.intercept_\n",
    "print \"Coefficient: \", lr.coef_\n",
    "\n",
    "print('\\n####### Generalized Linear Model ########')\n",
    "import statsmodels.api as sm\n",
    "\n",
    "# To be able to run GLM, we'll have to add the intercept constant to x variable\n",
    "x = sm.add_constant(x, prepend=False)\n",
    "\n",
    "# Instantiate a gaussian family model with the default link function.\n",
    "model = sm.GLM(y, x, family = sm.families.Gaussian())\n",
    "model = model.fit()\n",
    "print model.summary()"
   ]
  },
  {
   "cell_type": "markdown",
   "metadata": {
    "collapsed": true
   },
   "source": [
    "Note that the coeffeicients are same for both linear regression and GLM. However GLM can be used for other distributions such as binomial, poisson etc by just changing the family parameter."
   ]
  }
 ],
 "metadata": {
  "anaconda-cloud": {},
  "kernelspec": {
   "display_name": "Python [conda root]",
   "language": "python",
   "name": "conda-root-py"
  },
  "language_info": {
   "codemirror_mode": {
    "name": "ipython",
    "version": 2
   },
   "file_extension": ".py",
   "mimetype": "text/x-python",
   "name": "python",
   "nbconvert_exporter": "python",
   "pygments_lexer": "ipython2",
   "version": "2.7.12"
  }
 },
 "nbformat": 4,
 "nbformat_minor": 0
}
