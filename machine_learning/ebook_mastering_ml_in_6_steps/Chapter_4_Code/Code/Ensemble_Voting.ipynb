{
 "cells": [
  {
   "cell_type": "markdown",
   "metadata": {},
   "source": [
    "## Ensemble Voting\n",
    "\n",
    "Ensemble methods enable combining multiple model scores into a single score to create a robust generalized model. Ensemble voting is one of the simplest ways of combining the predictions from multiple machine learning algorithms. It works by first creating multiple standalone models from your training dataset. A Voting Classifier can then be used to wrap your models and average the predictions of the sub-models when asked to make predictions for new data.\n",
    " \n",
    "The predictions of the sub-models can be weighted, but specifying the weights for classifiers manually or even heuristically is difficult. More advanced methods can learn how to best weight the predictions from submodels, but this is called stacking (stacked aggregation) and is currently not provided in scikit-learn."
   ]
  },
  {
   "cell_type": "code",
   "execution_count": 1,
   "metadata": {
    "collapsed": false
   },
   "outputs": [
    {
     "name": "stderr",
     "output_type": "stream",
     "text": [
      "C:\\Users\\Manoh\\Anaconda2\\lib\\site-packages\\sklearn\\cross_validation.py:44: DeprecationWarning: This module was deprecated in version 0.18 in favor of the model_selection module into which all the refactored classes and functions are moved. Also note that the interface of the new CV iterators are different from that of this module. This module will be removed in 0.20.\n",
      "  \"This module will be removed in 0.20.\", DeprecationWarning)\n"
     ]
    },
    {
     "name": "stdout",
     "output_type": "stream",
     "text": [
      "5-fold cross validation:\n",
      "\n",
      "Train CV Accuracy: 0.76 (+/- 0.03) [Logistic Regression]\n",
      "Test Accuracy: 0.79 \n",
      "Train CV Accuracy: 0.74 (+/- 0.03) [Random Forest]\n",
      "Test Accuracy: 1.00 \n",
      "Train CV Accuracy: 0.65 (+/- 0.00) [Support Vector Machine]\n",
      "Test Accuracy: 1.00 \n",
      "Train CV Accuracy: 0.70 (+/- 0.05) [KNeighbors]\n",
      "Test Accuracy: 0.84 \n",
      "Train CV Accuracy: 0.69 (+/- 0.02) [Decision Tree]\n",
      "Test Accuracy: 1.00 \n",
      "Train CV Accuracy: 0.73 (+/- 0.04) [Ada Boost]\n",
      "Test Accuracy: 0.83 \n",
      "Train CV Accuracy: 0.75 (+/- 0.04) [Bagging]\n",
      "Test Accuracy: 1.00 \n",
      "Train CV Accuracy: 0.75 (+/- 0.03) [Gradient Boosting]\n",
      "Test Accuracy: 0.92 \n"
     ]
    }
   ],
   "source": [
    "import warnings\n",
    "warnings.filterwarnings(\"ignore\")\n",
    "\n",
    "import matplotlib.pyplot as plt\n",
    "%matplotlib inline\n",
    "\n",
    "import pandas as pd\n",
    "import numpy as np\n",
    "\n",
    "# set seed for reproducability\n",
    "np.random.seed(2017)\n",
    "\n",
    "import statsmodels.api as sm\n",
    "from sklearn import metrics\n",
    "from sklearn.linear_model import LogisticRegression\n",
    "from sklearn.naive_bayes import GaussianNB\n",
    "from sklearn.ensemble import RandomForestClassifier\n",
    "from sklearn.svm import SVC\n",
    "from sklearn.neighbors import KNeighborsClassifier\n",
    "from sklearn.tree import DecisionTreeClassifier\n",
    "from sklearn.ensemble import AdaBoostClassifier\n",
    "from sklearn.ensemble import BaggingClassifier\n",
    "from sklearn.ensemble import GradientBoostingClassifier\n",
    "\n",
    "# currently its available as part of mlxtend and not sklearn\n",
    "from mlxtend.classifier import EnsembleVoteClassifier\n",
    "from sklearn import cross_validation\n",
    "from sklearn import metrics\n",
    "from sklearn.cross_validation import train_test_split\n",
    "\n",
    "# read the data in\n",
    "df = pd.read_csv(\"Data/Diabetes.csv\")\n",
    "\n",
    "X = df.ix[:,:8]     # independent variables\n",
    "y = df['class']     # dependent variables\n",
    "\n",
    "# evaluate the model by splitting into train and test sets\n",
    "X_train, X_test, y_train, y_test = train_test_split(X, y, test_size=0.3, random_state=2017)\n",
    "\n",
    "LR = LogisticRegression(random_state=2017)\n",
    "RF = RandomForestClassifier(n_estimators = 100, random_state=2017)\n",
    "SVM = SVC(random_state=0, probability=True)\n",
    "KNC = KNeighborsClassifier()\n",
    "DTC = DecisionTreeClassifier()\n",
    "ABC = AdaBoostClassifier(n_estimators = 100)\n",
    "BC = BaggingClassifier(n_estimators = 100)\n",
    "GBC = GradientBoostingClassifier(n_estimators = 100)\n",
    "\n",
    "clfs = []\n",
    "print('5-fold cross validation:\\n')\n",
    "for clf, label in zip([LR, RF, SVM, KNC, DTC, ABC, BC, GBC], \n",
    "                      ['Logistic Regression', \n",
    "                       'Random Forest', \n",
    "                       'Support Vector Machine',\n",
    "                       'KNeighbors',\n",
    "                       'Decision Tree',\n",
    "                       'Ada Boost',\n",
    "                       'Bagging',\n",
    "                       'Gradient Boosting']):\n",
    "    scores = cross_validation.cross_val_score(clf, X_train, y_train, cv=5, scoring='accuracy')\n",
    "    print(\"Train CV Accuracy: %0.2f (+/- %0.2f) [%s]\" % (scores.mean(), scores.std(), label))\n",
    "    md = clf.fit(X, y)    \n",
    "    clfs.append(md)\n",
    "    print(\"Test Accuracy: %0.2f \" % (metrics.accuracy_score(clf.predict(X_test), y_test)))    "
   ]
  },
  {
   "cell_type": "markdown",
   "metadata": {},
   "source": [
    "From above benchmarking we see that 'Logistic Regression', 'Random Forest', 'Bagging', Ada/Gradient Boosting algorithms are giving better accuracy compared to other models. Let's combine non-similar models such as Logistic regression (base model), Random Forest (bagging model) and Gradient boosting (boosting model) to create a robust generalized model.  "
   ]
  },
  {
   "cell_type": "code",
   "execution_count": 2,
   "metadata": {
    "collapsed": false
   },
   "outputs": [
    {
     "name": "stdout",
     "output_type": "stream",
     "text": [
      "5-fold cross validation:\n",
      "\n",
      "Train CV Accuracy: 0.76 (+/- 0.03) [Logistic Regression]\n",
      "Test Accuracy: 0.79 \n",
      "Train CV Accuracy: 0.74 (+/- 0.03) [Random Forest]\n",
      "Test Accuracy: 1.00 \n",
      "Train CV Accuracy: 0.74 (+/- 0.04) [Gradient Boosting]\n",
      "Test Accuracy: 0.92 \n"
     ]
    }
   ],
   "source": [
    "# re-building considering only the best performing non-similar models\n",
    "clfs = []\n",
    "print('5-fold cross validation:\\n')\n",
    "for clf, label in zip([LR, RF, GBC], \n",
    "                      ['Logistic Regression', \n",
    "                       'Random Forest', \n",
    "                       'Gradient Boosting']):\n",
    "    scores = cross_validation.cross_val_score(clf, X_train, y_train, cv=5, scoring='accuracy')\n",
    "    print(\"Train CV Accuracy: %0.2f (+/- %0.2f) [%s]\" % (scores.mean(), scores.std(), label))\n",
    "    md = clf.fit(X, y)    \n",
    "    clfs.append(md)\n",
    "    print(\"Test Accuracy: %0.2f \" % (metrics.accuracy_score(clf.predict(X_test), y_test)))    "
   ]
  },
  {
   "cell_type": "markdown",
   "metadata": {},
   "source": [
    "#### Hard voting vs Soft voting\n",
    "\n",
    "Majority voting is also known as hard voting. The argmax of the sum of predicted probabilities is known as soft voting. Parameteer 'weights' can be used to assign specific weightage to classifiers. The predicted class probabilities for each classifier are multiplied by the classifier weight, and averaged. Then the final class label is derived from the highest average probability class label. \n",
    "\n",
    "Assume we assign equal weight of 1 to all classifiers (see below table). Based on soft voting, the predicted class label is 1, as it has the highest average probability.\n",
    "\n",
    "Note: Some classifiers of scikit-learn do not support the predict_proba method"
   ]
  },
  {
   "cell_type": "code",
   "execution_count": 3,
   "metadata": {
    "collapsed": false
   },
   "outputs": [
    {
     "data": {
      "image/png": "[encoded data removed]",
      "text/plain": [
       "<IPython.core.display.Image object>"
      ]
     },
     "execution_count": 3,
     "metadata": {
      "image/png": {
       "width": 500
      }
     },
     "output_type": "execute_result"
    }
   ],
   "source": [
    "from IPython.display import Image\n",
    "Image(filename='../Chapter 4 Figures/soft voting.png', width=500)"
   ]
  },
  {
   "cell_type": "code",
   "execution_count": 4,
   "metadata": {
    "collapsed": false
   },
   "outputs": [
    {
     "name": "stdout",
     "output_type": "stream",
     "text": [
      "5-fold cross validation:\n",
      "\n",
      "Train CV Accuracy: 0.75 (+/- 0.02) [Ensemble Hard Voting]\n",
      "Test Accuracy: 0.93 \n",
      "Train CV Accuracy: 0.76 (+/- 0.02) [Ensemble Soft Voting]\n",
      "Test Accuracy: 0.95 \n"
     ]
    }
   ],
   "source": [
    "# ### Ensemble Voting\n",
    "clfs = []\n",
    "print('5-fold cross validation:\\n')\n",
    "\n",
    "ECH = EnsembleVoteClassifier(clfs=[LR, RF, GBC], voting='hard')\n",
    "ECS = EnsembleVoteClassifier(clfs=[LR, RF, GBC], voting='soft', weights=[1,1,1])\n",
    "\n",
    "for clf, label in zip([ECH, ECS], \n",
    "                      ['Ensemble Hard Voting', \n",
    "                       'Ensemble Soft Voting']):\n",
    "    scores = cross_validation.cross_val_score(clf, X_train, y_train, cv=5, scoring='accuracy')\n",
    "    print(\"Train CV Accuracy: %0.2f (+/- %0.2f) [%s]\" % (scores.mean(), scores.std(), label))\n",
    "    md = clf.fit(X, y)    \n",
    "    clfs.append(md)\n",
    "    print(\"Test Accuracy: %0.2f \" % (metrics.accuracy_score(clf.predict(X_test), y_test)))       "
   ]
  }
 ],
 "metadata": {
  "anaconda-cloud": {},
  "kernelspec": {
   "display_name": "Python [conda root]",
   "language": "python",
   "name": "conda-root-py"
  },
  "language_info": {
   "codemirror_mode": {
    "name": "ipython",
    "version": 2
   },
   "file_extension": ".py",
   "mimetype": "text/x-python",
   "name": "python",
   "nbconvert_exporter": "python",
   "pygments_lexer": "ipython2",
   "version": "2.7.12"
  }
 },
 "nbformat": 4,
 "nbformat_minor": 1
}
