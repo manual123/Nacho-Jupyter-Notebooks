{
 "cells": [
  {
   "cell_type": "markdown",
   "metadata": {},
   "source": [
    "### Data Preprocessing\n",
    "\n",
    "This step deals with cleansing the consolidated text to remove noise to ensure efficient syntactic, semantic text analysis for deriving meaningful insights from text. Some common cleaning steps are briefed below."
   ]
  },
  {
   "cell_type": "markdown",
   "metadata": {},
   "source": [
    "#### Sentence Tokenize\n",
    "\n",
    "Tokenizing is the process of breaking a large set of texts into smaller meaningful chunks such as sentences, words, phrases. NLTK library provides sent_tokenize for sentence level tokenizing, which uses a pre-trained model PunktSentenceTokenize, to determine punctuation and characters marking the end of sentence for European languages.  "
   ]
  },
  {
   "cell_type": "code",
   "execution_count": 1,
   "metadata": {
    "collapsed": false
   },
   "outputs": [
    {
     "name": "stdout",
     "output_type": "stream",
     "text": [
      "['Statistics skills, and programming skills are equally important for analytics.', 'Statistics skills, and domain knowledge are important for analytics.', 'I like reading books and travelling.']\n"
     ]
    }
   ],
   "source": [
    "%matplotlib inline\n",
    "\n",
    "import nltk\n",
    "\n",
    "from nltk.tokenize import sent_tokenize\n",
    "\n",
    "text='Statistics skills, and programming skills are equally important for analytics. Statistics skills, and domain knowledge are important for analytics. I like reading books and travelling.'\n",
    "\n",
    "# sent_tokenize uses an instance of PunktSentenceTokenizer from the nltk. tokenize.punkt module. This instance has already been trained on and works well for many European languages. So it knows what punctuation and characters mark the end of a sentence and the beginning of a new sentence.\n",
    "sent_tokenize_list = sent_tokenize(text)\n",
    "print(sent_tokenize_list)"
   ]
  },
  {
   "cell_type": "code",
   "execution_count": 2,
   "metadata": {
    "collapsed": false
   },
   "outputs": [
    {
     "data": {
      "text/plain": [
       "['Hola.', 'Esta es una frase espanola.']"
      ]
     },
     "execution_count": 2,
     "metadata": {},
     "output_type": "execute_result"
    }
   ],
   "source": [
    "# There are total 17 european languages that NLTK support for sentence tokenize\n",
    "# Let's try loading a spanish model\n",
    "import nltk.data\n",
    "spanish_tokenizer = nltk.data.load('tokenizers/punkt/spanish.pickle')\n",
    "spanish_tokenizer.tokenize('Hola. Esta es una frase espanola.')"
   ]
  },
  {
   "cell_type": "markdown",
   "metadata": {},
   "source": [
    "#### Word Tokenize\n",
    "\n",
    "word_tokenize is a wrapper function that calls tokenize by the TreebankWordTokenizer"
   ]
  },
  {
   "cell_type": "code",
   "execution_count": 3,
   "metadata": {
    "collapsed": false
   },
   "outputs": [
    {
     "name": "stdout",
     "output_type": "stream",
     "text": [
      "['Statistics', 'skills', ',', 'and', 'programming', 'skills', 'are', 'equally', 'important', 'for', 'analytics', '.', 'Statistics', 'skills', ',', 'and', 'domain', 'knowledge', 'are', 'important', 'for', 'analytics', '.', 'I', 'like', 'reading', 'books', 'and', 'travelling', '.']\n",
      "['Statistics', 'skills', ',', 'and', 'programming', 'skills', 'are', 'equally', 'important', 'for', 'analytics.', 'Statistics', 'skills', ',', 'and', 'domain', 'knowledge', 'are', 'important', 'for', 'analytics.', 'I', 'like', 'reading', 'books', 'and', 'travelling', '.']\n"
     ]
    }
   ],
   "source": [
    "from nltk.tokenize import word_tokenize\n",
    "print word_tokenize(text)\n",
    "\n",
    "# Another equivalent call method\n",
    "from nltk.tokenize import TreebankWordTokenizer\n",
    "tokenizer = TreebankWordTokenizer()\n",
    "\n",
    "print tokenizer.tokenize(text)"
   ]
  },
  {
   "cell_type": "code",
   "execution_count": 4,
   "metadata": {
    "collapsed": false
   },
   "outputs": [
    {
     "name": "stdout",
     "output_type": "stream",
     "text": [
      "['Statistics', 'skills', ',', 'and', 'programming', 'skills', 'are', 'equally', 'important', 'for', 'analytics', '.', 'Statistics', 'skills', ',', 'and', 'domain', 'knowledge', 'are', 'important', 'for', 'analytics', '.', 'I', 'like', 'reading', 'books', 'and', 'travelling', '.']\n"
     ]
    }
   ],
   "source": [
    "# Except the TreebankWordTokenizer, there are other alternative word tokenizers, such as PunktWordTokenizer and WordPunktTokenizer\n",
    "# PunktTokenizer splits on punctuation, but keeps it with the word\n",
    "# from nltk.tokenize import PunktWordTokenizer\n",
    "# punkt_word_tokenizer = PunktWordTokenizer()\n",
    "# print punkt_word_tokenizer.tokenize(text) \n",
    "\n",
    "# WordPunctTokenizer splits all punctuations into separate tokens\n",
    "from nltk.tokenize import WordPunctTokenizer\n",
    "word_punct_tokenizer = WordPunctTokenizer()\n",
    "print word_punct_tokenizer.tokenize(text)"
   ]
  },
  {
   "cell_type": "markdown",
   "metadata": {},
   "source": [
    "#### PoS tagging\n",
    "\n",
    "The default pos tagger model using in NLTK is maxent_treebanck_pos_tagger model"
   ]
  },
  {
   "cell_type": "code",
   "execution_count": 5,
   "metadata": {
    "collapsed": false
   },
   "outputs": [
    {
     "name": "stdout",
     "output_type": "stream",
     "text": [
      "[('This', 'DT'), ('is', 'VBZ'), ('a', 'DT'), ('sample', 'JJ'), ('English', 'JJ'), ('sentence', 'NN')]\n"
     ]
    }
   ],
   "source": [
    "from nltk import chunk\n",
    "\n",
    "tagged_sent = nltk.pos_tag(nltk.word_tokenize('This is a sample English sentence'))\n",
    "print tagged_sent\n",
    "\n",
    "tree = chunk.ne_chunk(tagged_sent)\n",
    "tree.draw()"
   ]
  },
  {
   "cell_type": "code",
   "execution_count": 6,
   "metadata": {
    "collapsed": false
   },
   "outputs": [
    {
     "name": "stdout",
     "output_type": "stream",
     "text": [
      "NNP: noun, proper, singular\n",
      "    Motown Venneboerger Czestochwa Ranzer Conchita Trumplane Christos\n",
      "    Oceanside Escobar Kreisler Sawyer Cougar Yvette Ervin ODI Darryl CTCA\n",
      "    Shannon A.K.C. Meltex Liverpool ...\n"
     ]
    }
   ],
   "source": [
    "# To get help about tags\n",
    "nltk.help.upenn_tagset('NNP')"
   ]
  },
  {
   "cell_type": "code",
   "execution_count": 7,
   "metadata": {
    "collapsed": false
   },
   "outputs": [
    {
     "name": "stdout",
     "output_type": "stream",
     "text": [
      "[('This', 'DT'), ('is', 'VBZ'), ('a', 'DT'), ('sample', 'JJ'), ('English', 'JJ'), ('sentence', 'NN')]\n"
     ]
    }
   ],
   "source": [
    "from nltk.tag.perceptron import PerceptronTagger\n",
    "\n",
    "PT = PerceptronTagger()\n",
    "print PT.tag('This is a sample English sentence'.split())"
   ]
  },
  {
   "cell_type": "markdown",
   "metadata": {},
   "source": [
    "### Remove stopwords"
   ]
  },
  {
   "cell_type": "code",
   "execution_count": 8,
   "metadata": {
    "collapsed": false
   },
   "outputs": [
    {
     "name": "stdout",
     "output_type": "stream",
     "text": [
      "sample English sentence\n"
     ]
    }
   ],
   "source": [
    "from nltk.corpus import stopwords\n",
    "\n",
    "# Function to remove stop words\n",
    "def remove_stopwords(text, lang='english'):\n",
    "    words = nltk.word_tokenize(text)\n",
    "    lang_stopwords = stopwords.words(lang)\n",
    "    stopwords_removed = [w for w in words if w.lower() not in lang_stopwords]\n",
    "    return \" \".join(stopwords_removed)\n",
    "\n",
    "print remove_stopwords('This is a sample English sentence')"
   ]
  },
  {
   "cell_type": "markdown",
   "metadata": {},
   "source": [
    "### Remove punctuations"
   ]
  },
  {
   "cell_type": "code",
   "execution_count": 9,
   "metadata": {
    "collapsed": false
   },
   "outputs": [
    {
     "name": "stdout",
     "output_type": "stream",
     "text": [
      "This is a sample English sentence with punctuations\n"
     ]
    }
   ],
   "source": [
    "import string \n",
    "\n",
    "# Function to remove punctuations\n",
    "def remove_punctuations(text):\n",
    "    words = nltk.word_tokenize(text)\n",
    "    punt_removed = [w for w in words if w.lower() not in string.punctuation]\n",
    "    return \" \".join(punt_removed)\n",
    "\n",
    "print remove_punctuations('This is a sample English sentence, with punctuations!')"
   ]
  },
  {
   "cell_type": "markdown",
   "metadata": {},
   "source": [
    "### Remove whitespace & numbers"
   ]
  },
  {
   "cell_type": "code",
   "execution_count": 11,
   "metadata": {
    "collapsed": false
   },
   "outputs": [
    {
     "name": "stdout",
     "output_type": "stream",
     "text": [
      " Original Text:  This \tis a     sample  English   sentence, \n",
      " with whitespace and numbers 1234!\n",
      "Removed whitespace:  This is a sample English sentence, with whitespace and numbers 1234!\n",
      "Removed numbers:  This \tis a     sample  English   sentence, \n",
      " with whitespace and numbers !\n"
     ]
    }
   ],
   "source": [
    "import re\n",
    "\n",
    "# Function to remove whitespace\n",
    "def remove_whitespace(text):\n",
    "    return \" \".join(text.split())\n",
    "\n",
    "# Function to remove numbers\n",
    "def remove_numbers(text):\n",
    "    return re.sub(r'\\d+', '', text)\n",
    "\n",
    "text = 'This \tis a     sample  English   sentence, \\n with whitespace and numbers 1234!'\n",
    "print 'Original Text: ', text\n",
    "print 'Removed whitespace: ', remove_whitespace(text)\n",
    "print 'Removed numbers: ', remove_numbers(text)"
   ]
  },
  {
   "cell_type": "markdown",
   "metadata": {},
   "source": [
    "### Stemming\n",
    "\n",
    "It is the process of transforming to the root word i.e., it uses an algorithm that removes common word endings for English words, such as “ly”, “es”, “ed” and “s”. For example, assuming for an analysis you may want to consider “carefully”, “cared”, “cares”, “caringly” as “care” instead of separate words."
   ]
  },
  {
   "cell_type": "code",
   "execution_count": 12,
   "metadata": {
    "collapsed": false
   },
   "outputs": [
    {
     "data": {
      "image/png": "[encoded data removed]",
      "text/plain": [
       "<IPython.core.display.Image object>"
      ]
     },
     "execution_count": 12,
     "metadata": {
      "image/png": {
       "width": 500
      }
     },
     "output_type": "execute_result"
    }
   ],
   "source": [
    "from IPython.display import Image\n",
    "Image(filename='../Chapter 5 Figures/Stemmers.png', width=500)"
   ]
  },
  {
   "cell_type": "code",
   "execution_count": 13,
   "metadata": {
    "collapsed": false
   },
   "outputs": [
    {
     "name": "stdout",
     "output_type": "stream",
     "text": [
      "Original:  caring cares cared caringly carefully\n",
      "Porter:  care care care caringli care\n",
      "Lancaster:  car car car car car\n",
      "Snowball:  care care care care care\n"
     ]
    }
   ],
   "source": [
    "from nltk import PorterStemmer, LancasterStemmer, SnowballStemmer\n",
    "\n",
    "# Function to apply stemming to a list of words\n",
    "def words_stemmer(words, type=\"PorterStemmer\", lang=\"english\", encoding=\"utf8\"):\n",
    "    supported_stemmers = [\"PorterStemmer\",\"LancasterStemmer\",\"SnowballStemmer\"]\n",
    "    if type is False or type not in supported_stemmers:\n",
    "        return words\n",
    "    else:\n",
    "        stem_words = []\n",
    "        if type == \"PorterStemmer\":\n",
    "            stemmer = PorterStemmer()\n",
    "            for word in words:\n",
    "                stem_words.append(stemmer.stem(word).encode(encoding))\n",
    "        if type == \"LancasterStemmer\":\n",
    "            stemmer = LancasterStemmer()\n",
    "            for word in words:\n",
    "                stem_words.append(stemmer.stem(word).encode(encoding))\n",
    "        if type == \"SnowballStemmer\":\n",
    "            stemmer = SnowballStemmer(lang)\n",
    "            for word in words:\n",
    "                stem_words.append(stemmer.stem(word).encode(encoding))\n",
    "        return \" \".join(stem_words)\n",
    "    \n",
    "words =  'caring cares cared caringly carefully'  \n",
    "\n",
    "print \"Original: \", words\n",
    "print \"Porter: \", words_stemmer(nltk.word_tokenize(words), \"PorterStemmer\")\n",
    "print \"Lancaster: \", words_stemmer(nltk.word_tokenize(words), \"LancasterStemmer\")\n",
    "print \"Snowball: \", words_stemmer(nltk.word_tokenize(words), \"SnowballStemmer\")"
   ]
  },
  {
   "cell_type": "markdown",
   "metadata": {},
   "source": [
    "### Lemmatizer\n",
    "\n",
    "It is the process of transforming to the dictionary base form."
   ]
  },
  {
   "cell_type": "code",
   "execution_count": 14,
   "metadata": {
    "collapsed": false
   },
   "outputs": [
    {
     "name": "stdout",
     "output_type": "stream",
     "text": [
      "Lemmatized:  care care care caringly carefully\n"
     ]
    }
   ],
   "source": [
    "from nltk.stem import WordNetLemmatizer\n",
    "\n",
    "wordnet_lemmatizer = WordNetLemmatizer()\n",
    "\n",
    "# Function to apply lemmatization to a list of words\n",
    "def words_lemmatizer(text, encoding=\"utf8\"):\n",
    "    words = nltk.word_tokenize(text)\n",
    "    lemma_words = []\n",
    "    wl = WordNetLemmatizer()\n",
    "    for word in words:\n",
    "        pos = find_pos(word)\n",
    "        lemma_words.append(wl.lemmatize(word, pos).encode(encoding))\n",
    "    return \" \".join(lemma_words)\n",
    "\n",
    "# Function to find part of speech tag for a word\n",
    "def find_pos(word):\n",
    "    # Part of Speech constants\n",
    "    # ADJ, ADJ_SAT, ADV, NOUN, VERB = 'a', 's', 'r', 'n', 'v'\n",
    "    # You can learn more about these at http://wordnet.princeton.edu/wordnet/man/wndb.5WN.html#sect3\n",
    "    # You can learn more about all the penn tree tags at https://www.ling.upenn.edu/courses/Fall_2003/ling001/penn_treebank_pos.html\n",
    "    pos = nltk.pos_tag(nltk.word_tokenize(word))[0][1]\n",
    "    # Adjective tags - 'JJ', 'JJR', 'JJS'    \n",
    "    if pos.lower()[0] == 'j':\n",
    "        return 'a'\n",
    "    # Adverb tags - 'RB', 'RBR', 'RBS'\n",
    "    elif pos.lower()[0] == 'r':\n",
    "        return 'r'\n",
    "    # Verb tags - 'VB', 'VBD', 'VBG', 'VBN', 'VBP', 'VBZ'\n",
    "    elif pos.lower()[0] == 'v': \n",
    "        return 'v'\n",
    "    # Noun tags - 'NN', 'NNS', 'NNP', 'NNPS'\n",
    "    else:\n",
    "        return 'n'\n",
    "\n",
    "print \"Lemmatized: \", words_lemmatizer(words)"
   ]
  },
  {
   "cell_type": "markdown",
   "metadata": {},
   "source": [
    "Note that in the above case, 'caringly' / 'carefully' are inflected form of care and they are an entry word listed in WordNet Dictoinary so they are retained in their actual form itself."
   ]
  },
  {
   "cell_type": "code",
   "execution_count": 15,
   "metadata": {
    "collapsed": false
   },
   "outputs": [
    {
     "name": "stdout",
     "output_type": "stream",
     "text": [
      "Definition:  benefit\n",
      "Example:  [u'for your own good', u\"what's the good of worrying?\"]\n",
      "synonyms: \n",
      "set([u'beneficial', u'right', u'secure', u'just', u'unspoilt', u'respectable', u'good', u'goodness', u'dear', u'salutary', u'ripe', u'expert', u'skillful', u'in_force', u'proficient', u'unspoiled', u'dependable', u'soundly', u'honorable', u'full', u'undecomposed', u'safe', u'adept', u'upright', u'trade_good', u'sound', u'in_effect', u'practiced', u'effective', u'commodity', u'estimable', u'well', u'honest', u'near', u'skilful', u'thoroughly', u'serious'])\n",
      "antonyms: \n",
      "set([u'bad', u'badness', u'ill', u'evil', u'evilness'])\n"
     ]
    }
   ],
   "source": [
    "from nltk.corpus import wordnet\n",
    "\n",
    "syns = wordnet.synsets(\"good\")\n",
    "print \"Definition: \", syns[0].definition()\n",
    "print \"Example: \", syns[0].examples()\n",
    "\n",
    "synonyms = []\n",
    "antonyms = []\n",
    "\n",
    "# Print  synonums and antonyms (having opposite meaning words)\n",
    "for syn in wordnet.synsets(\"good\"):\n",
    "    for l in syn.lemmas():\n",
    "        synonyms.append(l.name())\n",
    "        if l.antonyms():\n",
    "            antonyms.append(l.antonyms()[0].name())\n",
    "\n",
    "print \"synonyms: \\n\", set(synonyms)\n",
    "print \"antonyms: \\n\", set(antonyms)"
   ]
  },
  {
   "cell_type": "markdown",
   "metadata": {},
   "source": [
    "### N-grams"
   ]
  },
  {
   "cell_type": "code",
   "execution_count": 16,
   "metadata": {
    "collapsed": false
   },
   "outputs": [
    {
     "name": "stdout",
     "output_type": "stream",
     "text": [
      "1-gram:  ['This', 'is', 'a', 'sample', 'English', 'sentence']\n",
      "2-gram:  ['This is', 'is a', 'a sample', 'sample English', 'English sentence']\n",
      "3-gram:  ['This is a', 'is a sample', 'a sample English', 'sample English sentence']\n",
      "4-gram:  ['This is a sample', 'is a sample English', 'a sample English sentence']\n"
     ]
    }
   ],
   "source": [
    "from nltk.util import ngrams\n",
    "from collections import Counter\n",
    "\n",
    "# Function to extract n-grams from text\n",
    "def get_ngrams(text, n):\n",
    "    n_grams = ngrams(nltk.word_tokenize(text), n)\n",
    "    return [ ' '.join(grams) for grams in n_grams]  \n",
    "\n",
    "text = 'This is a sample English sentence'\n",
    "\n",
    "print \"1-gram: \", get_ngrams(text, 1)\n",
    "print \"2-gram: \", get_ngrams(text, 2)\n",
    "print \"3-gram: \", get_ngrams(text, 3)\n",
    "print \"4-gram: \", get_ngrams(text, 4)"
   ]
  },
  {
   "cell_type": "markdown",
   "metadata": {},
   "source": [
    "Let's extract bigram and count their respective frequency "
   ]
  },
  {
   "cell_type": "code",
   "execution_count": 17,
   "metadata": {
    "collapsed": false
   },
   "outputs": [
    {
     "name": "stdout",
     "output_type": "stream",
     "text": [
      "Words:  ['are equally', 'domain knowledge', 'skills are', 'knowledge are', 'programming skills', 'are important', 'skills and', 'for analytics', 'and domain', 'important for', 'and programming', 'Statistics skills', 'equally important', 'analytics Statistics']\n",
      "\n",
      "Frequency:  [1, 1, 1, 1, 1, 1, 2, 2, 1, 2, 1, 2, 1, 1]\n",
      "                      frequency\n",
      "are equally                   1\n",
      "domain knowledge              1\n",
      "skills are                    1\n",
      "knowledge are                 1\n",
      "programming skills            1\n",
      "are important                 1\n",
      "skills and                    2\n",
      "for analytics                 2\n",
      "and domain                    1\n",
      "important for                 2\n",
      "and programming               1\n",
      "Statistics skills             2\n",
      "equally important             1\n",
      "analytics Statistics          1\n"
     ]
    }
   ],
   "source": [
    "text = 'Statistics skills, and programming skills are equally important for analytics. Statistics skills, and domain knowledge are important for analytics'\n",
    "\n",
    "# remove punctuations\n",
    "text = remove_punctuations(text)\n",
    "\n",
    "# Extracting bigrams\n",
    "result = get_ngrams(text,2)\n",
    "\n",
    "# Counting bigrams\n",
    "result_count = Counter(result)\n",
    "\n",
    "print \"Words: \", result_count.keys() # Bigrams\n",
    "print \"\\nFrequency: \", result_count.values() # Bigram frequency\n",
    "\n",
    "# Converting to the result to a data frame\n",
    "import pandas as pd\n",
    "df = pd.DataFrame.from_dict(result_count, orient='index')\n",
    "df = df.rename(columns={'index':'words', 0:'frequency'}) # Renaming index and column name\n",
    "print df"
   ]
  },
  {
   "cell_type": "code",
   "execution_count": 18,
   "metadata": {
    "collapsed": false
   },
   "outputs": [
    {
     "name": "stdout",
     "output_type": "stream",
     "text": [
      "             Doc_1.txt  Doc_2.txt  Doc_3.txt\n",
      "analytics            1          1          0\n",
      "and                  1          1          1\n",
      "are                  1          1          0\n",
      "books                0          0          1\n",
      "domain               0          1          0\n",
      "equally              1          0          0\n",
      "for                  1          1          0\n",
      "important            1          1          0\n",
      "knowledge            0          1          0\n",
      "like                 0          0          1\n",
      "programming          1          0          0\n",
      "reading              0          0          1\n",
      "skills               2          1          0\n",
      "statistics           1          1          0\n",
      "travelling           0          0          1\n"
     ]
    }
   ],
   "source": [
    "import os\n",
    "import pandas as pd\n",
    "from sklearn.feature_extraction.text import CountVectorizer \n",
    "\n",
    "# Create a dictionary with key as file names and values as text for all files in a given folder\n",
    "def CorpusFromDir(dir_path):\n",
    "    result = dict(docs = [open(os.path.join(dir_path,f)).read() for f in os.listdir(dir_path)],\n",
    "               ColNames = map(lambda x: x, os.listdir(dir_path)))\n",
    "    return result\n",
    "\n",
    "docs = CorpusFromDir('Data/text_files/')\n",
    "\n",
    "# Initialize\n",
    "vectorizer = CountVectorizer()\n",
    "doc_vec = vectorizer.fit_transform(docs.get('docs'))\n",
    "\n",
    "#create dataFrame\n",
    "df = pd.DataFrame(doc_vec.toarray().transpose(), index = vectorizer.get_feature_names())\n",
    "\n",
    "# Change column headers to be file names\n",
    "df.columns = docs.get('ColNames')\n",
    "print df"
   ]
  },
  {
   "cell_type": "markdown",
   "metadata": {},
   "source": [
    "### TF-IDF\n",
    "\n",
    "In the area of information retrieval TF-IDF is a good statistical measure to reflect the relevance of term to the document in a collection of documents or corpus. Let’s break TF_IDF and apply example to understand it better.\n",
    "\n",
    "TF (term) =  (Number of times term appears in a document)/(Total number of terms in the document)\n",
    "IDF (term) = log⁡(  (Total number of documents)/(Number of documents with a given term in it))"
   ]
  },
  {
   "cell_type": "code",
   "execution_count": 19,
   "metadata": {
    "collapsed": false
   },
   "outputs": [
    {
     "name": "stdout",
     "output_type": "stream",
     "text": [
      "             Doc_1.txt  Doc_2.txt  Doc_3.txt\n",
      "analytics     0.276703   0.315269   0.000000\n",
      "and           0.214884   0.244835   0.283217\n",
      "are           0.276703   0.315269   0.000000\n",
      "books         0.000000   0.000000   0.479528\n",
      "domain        0.000000   0.414541   0.000000\n",
      "equally       0.363831   0.000000   0.000000\n",
      "for           0.276703   0.315269   0.000000\n",
      "important     0.276703   0.315269   0.000000\n",
      "knowledge     0.000000   0.414541   0.000000\n",
      "like          0.000000   0.000000   0.479528\n",
      "programming   0.363831   0.000000   0.000000\n",
      "reading       0.000000   0.000000   0.479528\n",
      "skills        0.553405   0.315269   0.000000\n",
      "statistics    0.276703   0.315269   0.000000\n",
      "travelling    0.000000   0.000000   0.479528\n"
     ]
    }
   ],
   "source": [
    "from sklearn.feature_extraction.text import TfidfVectorizer\n",
    "\n",
    "vectorizer = TfidfVectorizer()\n",
    "doc_vec = vectorizer.fit_transform(docs.get('docs'))\n",
    "#create dataFrame\n",
    "df = pd.DataFrame(doc_vec.toarray().transpose(), index = vectorizer.get_feature_names())\n",
    "\n",
    "# Change column headers to be file names\n",
    "df.columns = docs.get('ColNames')\n",
    "print df"
   ]
  }
 ],
 "metadata": {
  "anaconda-cloud": {},
  "kernelspec": {
   "display_name": "Python [conda root]",
   "language": "python",
   "name": "conda-root-py"
  },
  "language_info": {
   "codemirror_mode": {
    "name": "ipython",
    "version": 2
   },
   "file_extension": ".py",
   "mimetype": "text/x-python",
   "name": "python",
   "nbconvert_exporter": "python",
   "pygments_lexer": "ipython2",
   "version": "2.7.12"
  }
 },
 "nbformat": 4,
 "nbformat_minor": 1
}
