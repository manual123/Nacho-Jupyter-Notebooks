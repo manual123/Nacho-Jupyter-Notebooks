{
 "cells": [
  {
   "cell_type": "markdown",
   "metadata": {},
   "source": [
    "### Text Classification\n",
    "\n",
    "The ability of representing text features as numbers opens up the opportunity to run classification machine learning algorithms. Let’s use subset of 20 newsgroups data to build a classification model and assess its accuracy."
   ]
  },
  {
   "cell_type": "code",
   "execution_count": 1,
   "metadata": {
    "collapsed": true
   },
   "outputs": [],
   "source": [
    "from sklearn.datasets import fetch_20newsgroups\n",
    "from sklearn.feature_extraction.text import TfidfVectorizer\n",
    "from sklearn.preprocessing import Normalizer\n",
    "from sklearn import metrics\n",
    "import matplotlib.pyplot as plt\n",
    "from sklearn.cluster import KMeans, MiniBatchKMeans\n",
    "import numpy as np"
   ]
  },
  {
   "cell_type": "markdown",
   "metadata": {},
   "source": [
    "### Load Data"
   ]
  },
  {
   "cell_type": "code",
   "execution_count": 2,
   "metadata": {
    "collapsed": false
   },
   "outputs": [
    {
     "name": "stdout",
     "output_type": "stream",
     "text": [
      "['alt.atheism', 'comp.graphics', 'comp.os.ms-windows.misc', 'comp.sys.ibm.pc.hardware', 'comp.sys.mac.hardware', 'comp.windows.x', 'misc.forsale', 'rec.autos', 'rec.motorcycles', 'rec.sport.baseball', 'rec.sport.hockey', 'sci.crypt', 'sci.electronics', 'sci.med', 'sci.space', 'soc.religion.christian', 'talk.politics.guns', 'talk.politics.mideast', 'talk.politics.misc', 'talk.religion.misc']\n"
     ]
    }
   ],
   "source": [
    "newsgroups_train = fetch_20newsgroups(subset='train')\n",
    "print(list(newsgroups_train.target_names))\n",
    "\n",
    "newsgroups_test = fetch_20newsgroups(subset='train')"
   ]
  },
  {
   "cell_type": "markdown",
   "metadata": {},
   "source": [
    "To keep it simple, let's filter only 3 topics. Assume that we do not know the topics, let's run clustering algorithm and examine the keywords of each clusters"
   ]
  },
  {
   "cell_type": "code",
   "execution_count": 3,
   "metadata": {
    "collapsed": false
   },
   "outputs": [
    {
     "name": "stdout",
     "output_type": "stream",
     "text": [
      "Train Dataset\n",
      "2801 documents\n",
      "5 categories\n",
      "n_samples: 2801, n_features: 241036\n",
      "Test Dataset\n",
      "1864 documents\n",
      "5 categories\n",
      "n_samples: 1864, n_features: 241036\n"
     ]
    }
   ],
   "source": [
    "categories = ['alt.atheism', 'comp.graphics', 'rec.motorcycles', 'sci.space', 'talk.politics.guns']\n",
    "\n",
    "newsgroups_train = fetch_20newsgroups(subset='train', categories=categories, \n",
    "                                      shuffle=True, random_state=2017, remove=('headers', 'footers', 'quotes'))\n",
    "newsgroups_test = fetch_20newsgroups(subset='test', categories=categories, \n",
    "                                     shuffle=True, random_state=2017, remove=('headers', 'footers', 'quotes'))\n",
    "\n",
    "y_train = newsgroups_train.target\n",
    "y_test = newsgroups_test.target\n",
    "\n",
    "vectorizer = TfidfVectorizer(sublinear_tf=True, smooth_idf = True, max_df=0.5,  ngram_range=(1, 2), stop_words='english')\n",
    "X_train = vectorizer.fit_transform(newsgroups_train.data)\n",
    "X_test = vectorizer.transform(newsgroups_test.data)\n",
    "\n",
    "print(\"Train Dataset\")\n",
    "print(\"%d documents\" % len(newsgroups_train.data))\n",
    "print(\"%d categories\" % len(newsgroups_train.target_names))\n",
    "print(\"n_samples: %d, n_features: %d\" % X_train.shape)\n",
    "\n",
    "print(\"Test Dataset\")\n",
    "print(\"%d documents\" % len(newsgroups_test.data))\n",
    "print(\"%d categories\" % len(newsgroups_test.target_names))\n",
    "print(\"n_samples: %d, n_features: %d\" % X_test.shape)"
   ]
  },
  {
   "cell_type": "markdown",
   "metadata": {},
   "source": [
    "### Naive Bayes Model"
   ]
  },
  {
   "cell_type": "code",
   "execution_count": 4,
   "metadata": {
    "collapsed": false
   },
   "outputs": [
    {
     "name": "stdout",
     "output_type": "stream",
     "text": [
      "Train accuracy_score:  0.976079971439\n",
      "Test accuracy_score:  0.832081545064\n",
      "Train Metrics:               precision    recall  f1-score   support\n",
      "\n",
      "          0       1.00      0.97      0.98       480\n",
      "          1       1.00      0.97      0.98       584\n",
      "          2       0.91      1.00      0.95       598\n",
      "          3       0.99      0.97      0.98       593\n",
      "          4       1.00      0.97      0.99       546\n",
      "\n",
      "avg / total       0.98      0.98      0.98      2801\n",
      "\n",
      "Test Metrics:               precision    recall  f1-score   support\n",
      "\n",
      "          0       0.91      0.62      0.74       319\n",
      "          1       0.90      0.90      0.90       389\n",
      "          2       0.81      0.90      0.86       398\n",
      "          3       0.80      0.84      0.82       394\n",
      "          4       0.78      0.86      0.82       364\n",
      "\n",
      "avg / total       0.84      0.83      0.83      1864\n",
      "\n"
     ]
    }
   ],
   "source": [
    "from sklearn.naive_bayes import MultinomialNB\n",
    "from sklearn import metrics\n",
    "\n",
    "clf = MultinomialNB()\n",
    "clf = clf.fit(X_train, y_train)\n",
    "\n",
    "y_train_pred = clf.predict(X_train)\n",
    "y_test_pred = clf.predict(X_test)\n",
    "\n",
    "print 'Train accuracy_score: ', metrics.accuracy_score(y_train, y_train_pred)\n",
    "print 'Test accuracy_score: ',metrics.accuracy_score(newsgroups_test.target, y_test_pred)\n",
    "\n",
    "print \"Train Metrics: \", metrics.classification_report(y_train, y_train_pred)\n",
    "print \"Test Metrics: \", metrics.classification_report(newsgroups_test.target, y_test_pred)"
   ]
  }
 ],
 "metadata": {
  "anaconda-cloud": {},
  "kernelspec": {
   "display_name": "Python [conda root]",
   "language": "python",
   "name": "conda-root-py"
  },
  "language_info": {
   "codemirror_mode": {
    "name": "ipython",
    "version": 2
   },
   "file_extension": ".py",
   "mimetype": "text/x-python",
   "name": "python",
   "nbconvert_exporter": "python",
   "pygments_lexer": "ipython2",
   "version": "2.7.12"
  }
 },
 "nbformat": 4,
 "nbformat_minor": 1
}
