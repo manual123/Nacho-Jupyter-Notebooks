{
 "cells": [
  {
   "cell_type": "markdown",
   "metadata": {},
   "source": [
    "# Text Assemble\n",
    "\n",
    "It is observed that 70% of data available to any businesses is unstructured. The first step is collating unstructured data from different sources such as open-ended feedback, phone calls, email support, online chat and social media networks like Twitter, LinkedIn and Facebook. Assembling these data and applying mining/machine learning techniques to analyze them provides valuable opportunities for organizations to build more power into customer experience. \n",
    "There are several libraries available for extracting text content from different formats discussed above. By far the best library that provides simple and single interface for multiple formats is ‘textract’ (open source MIT license). Note that as of now this library/package is available for Linux, Mac OS and not Windows. Below is a list of supported formats."
   ]
  },
  {
   "cell_type": "markdown",
   "metadata": {},
   "source": [
    "### Reading from PDF"
   ]
  },
  {
   "cell_type": "code",
   "execution_count": 1,
   "metadata": {
    "collapsed": true
   },
   "outputs": [],
   "source": [
    "import textract\n",
    "\n",
    "# Extracting from normal pdf\n",
    "text = textract.process('Data/pdf/raw_text.pdf', language='eng')\n",
    "\n",
    "# Extrcting from two columned pdf\n",
    "text = textract.process('Data/pdf/two_column.pdf', language='eng')\n",
    "\n",
    "# Extracting from scanned text pdf\n",
    "text = textract.process('Data/pdf/ocr_text.pdf', method='tesseract', language='eng')"
   ]
  },
  {
   "cell_type": "markdown",
   "metadata": {},
   "source": [
    "### Reading from JPG"
   ]
  },
  {
   "cell_type": "code",
   "execution_count": 2,
   "metadata": {
    "collapsed": false
   },
   "outputs": [
    {
     "name": "stdout",
     "output_type": "stream",
     "text": [
      "EAS TEST\n",
      "\n",
      "THIS IS A TEST OF THE NATIONAL\n",
      "EMERGENCY ALERT SYSTEM\n",
      "\n",
      "THERE IS NO ACTUAL EMERGENCY\n",
      "\n",
      "\n"
     ]
    }
   ],
   "source": [
    "# Extracting from jpg\n",
    "text = textract.process('Data/jpg/raw_text.jpg', method='tesseract', language='eng')\n",
    "print text"
   ]
  },
  {
   "cell_type": "markdown",
   "metadata": {},
   "source": [
    "### Extracting from audio file"
   ]
  },
  {
   "cell_type": "code",
   "execution_count": 3,
   "metadata": {
    "collapsed": false
   },
   "outputs": [
    {
     "name": "stdout",
     "output_type": "stream",
     "text": [
      "raw_text.wav:  everything you also\n",
      "\n",
      "standardized_text.wav:  a quick brown fox jumped over the lazy dog\n",
      "\n"
     ]
    }
   ],
   "source": [
    "text = textract.process('Data/wav/raw_text.wav', language='eng')\n",
    "print \"raw_text.wav: \", text\n",
    "\n",
    "text = textract.process('Data/wav/standardized_text.wav', language='eng')\n",
    "print \"standardized_text.wav: \", text"
   ]
  },
  {
   "cell_type": "markdown",
   "metadata": {},
   "source": [
    "### Twitter \n",
    "\n",
    "Twitter is a online news and social networking service provider and there are 320 million twitter users with an average of 42 million active twitters every day! (as of 2016, source smartinsights). It is a great source to understand what users are talking about a chosen topic.\n",
    "\n",
    "#### API access token\n",
    "\n",
    "- Goto https://apps.twitter.com/\n",
    "- Click on 'Create New App'\n",
    "- Fill the required information and click on 'Create your Twitter Application'\n",
    "- You'll get the access details under 'Keys and Access Tokens' tab"
   ]
  },
  {
   "cell_type": "code",
   "execution_count": 1,
   "metadata": {
    "collapsed": false
   },
   "outputs": [
    {
     "data": {
      "image/png": "[encoded data removed]",
      "text/plain": [
       "<IPython.core.display.Image object>"
      ]
     },
     "execution_count": 1,
     "metadata": {
      "image/png": {
       "width": 900
      }
     },
     "output_type": "execute_result"
    }
   ],
   "source": [
    "from IPython.display import Image\n",
    "Image(filename='../Chapter 5 Figures/Fetch_Twitter_Data.png', width=900)"
   ]
  },
  {
   "cell_type": "code",
   "execution_count": 2,
   "metadata": {
    "collapsed": true
   },
   "outputs": [],
   "source": [
    "#Import the necessary methods from tweepy library\n",
    "import tweepy\n",
    "from tweepy.streaming import StreamListener\n",
    "from tweepy import OAuthHandler\n",
    "from tweepy import Stream\n",
    "\n",
    "import pandas as pd"
   ]
  },
  {
   "cell_type": "code",
   "execution_count": 3,
   "metadata": {
    "collapsed": true
   },
   "outputs": [],
   "source": [
    "#provide your access details below \n",
    "access_token = \"2345619938-zAlzAbKxL9aUqqqw02gCa6EWQWvoXVRVAVunS64\"\n",
    "access_token_secret = \"LitbGHTzI0fmI76UsPWclvjVbKOzTt1G1jZqMwKu4CCW2\"\n",
    "consumer_key = \"s3tHRlMAgThjVgscqJKL2o2vE\"\n",
    "consumer_secret = \"1LTEr2CZtFXVzToOMx9ISd41F5PiAZSOzDHdspTyjnQlqjAQwJ\"\n",
    "\n",
    "# establish a connection\n",
    "auth = tweepy.auth.OAuthHandler(consumer_key, consumer_secret)\n",
    "auth.set_access_token(access_token, access_token_secret)\n",
    "\n",
    "api = tweepy.API(auth)"
   ]
  },
  {
   "cell_type": "markdown",
   "metadata": {},
   "source": [
    "Let's assume that you would like to understand what is being talking about the iPhone 7 and its camera feature. So let's pull the recent 10 posts.\n",
    "\n",
    "Note: You can pull historic user posts about a topic for a max of 10 to 15 days only depending on the volume of the posts."
   ]
  },
  {
   "cell_type": "code",
   "execution_count": 4,
   "metadata": {
    "collapsed": false
   },
   "outputs": [
    {
     "name": "stdout",
     "output_type": "stream",
     "text": [
      "Number of tweets:  10\n"
     ]
    }
   ],
   "source": [
    "#fetch recent 10 tweets containing words iphone7 camera\n",
    "fetched_tweets = api.search(q=['iPhone 7','iPhone7','camera'], result_type='recent', lang='en', count=10)\n",
    "print \"Number of tweets: \", len(fetched_tweets)"
   ]
  },
  {
   "cell_type": "code",
   "execution_count": 5,
   "metadata": {
    "collapsed": false
   },
   "outputs": [
    {
     "name": "stdout",
     "output_type": "stream",
     "text": [
      "Tweet ID:  825155021390049281\n",
      "Tweet Text:  RT @volcanojulie: A Tau Emerald dragonfly. The iPhone 7 camera is exceptional!\n",
      "\n",
      "#nature #insect #dragonfly #melbourne #australia #iphone7 #… \n",
      "\n",
      "Tweet ID:  825086303318507520\n",
      "Tweet Text:  Fuzzy photos? Protect your camera lens instantly with #iPhone7 Full Metallic Case. Buy now! https://t.co/d0dX40BHL6 https://t.co/AInlBoreht \n",
      "\n",
      "Tweet ID:  825064476714098690\n",
      "Tweet Text:  RT @volcanojulie: A Tau Emerald dragonfly. The iPhone 7 camera is exceptional!\n",
      "\n",
      "#nature #insect #dragonfly #melbourne #australia #iphone7 #… \n",
      "\n",
      "Tweet ID:  825062644986023936\n",
      "Tweet Text:  RT @volcanojulie: A Tau Emerald dragonfly. The iPhone 7 camera is exceptional!\n",
      "\n",
      "#nature #insect #dragonfly #melbourne #australia #iphone7 #… \n",
      "\n",
      "Tweet ID:  824935025217040385\n",
      "Tweet Text:  RT @volcanojulie: A Tau Emerald dragonfly. The iPhone 7 camera is exceptional!\n",
      "\n",
      "#nature #insect #dragonfly #melbourne #australia #iphone7 #… \n",
      "\n",
      "Tweet ID:  824933631365779458\n",
      "Tweet Text:  A Tau Emerald dragonfly. The iPhone 7 camera is exceptional!\n",
      "\n",
      "#nature #insect #dragonfly #melbourne #australia… https://t.co/AE3ZyPGeZq \n",
      "\n",
      "Tweet ID:  824836880491483136\n",
      "Tweet Text:  The camera on the IPhone 7 plus is fucking awesome! #Iphone7 \n",
      "\n",
      "Tweet ID:  823805101999390720\n",
      "Tweet Text:  'Romeo and Juliet' Ad Showcases Apple's iPhone 7 Camera! https://t.co/gN4bME0Hsq #apple #iphone7 #iphone7plus \n",
      "\n",
      "Tweet ID:  823804251117850624\n",
      "Tweet Text:  iPhone 7 Images Show Bigger Camera Lens - I have seen a few generic iPhone 7 concepts over the years,... https://t.co/o22etDs1Xm\n",
      " #IPhone7 \n",
      "\n",
      "Tweet ID:  823689306376196096\n",
      "Tweet Text:  RT @computerworks5: Premium HD Selfie Stick &amp;amp; Tripod 3-in-1 Photo/Video Kit for New iPhone 7, GoPro Hero5,... https://t.co/YfJMEqhoNd h… \n",
      "\n"
     ]
    }
   ],
   "source": [
    "# Print the tweet text\n",
    "for tweet in fetched_tweets:\n",
    "    print 'Tweet ID: ', tweet.id\n",
    "    print 'Tweet Text: ', tweet.text, '\\n'"
   ]
  },
  {
   "cell_type": "markdown",
   "metadata": {},
   "source": [
    "You can capture useful features onto a dataframe for further analysis if required."
   ]
  },
  {
   "cell_type": "code",
   "execution_count": 6,
   "metadata": {
    "collapsed": false
   },
   "outputs": [
    {
     "name": "stdout",
     "output_type": "stream",
     "text": [
      "                   id                                               text  \\\n",
      "0  825155021390049281  RT @volcanojulie: A Tau Emerald dragonfly. The...   \n",
      "1  825086303318507520  Fuzzy photos? Protect your camera lens instant...   \n",
      "2  825064476714098690  RT @volcanojulie: A Tau Emerald dragonfly. The...   \n",
      "3  825062644986023936  RT @volcanojulie: A Tau Emerald dragonfly. The...   \n",
      "4  824935025217040385  RT @volcanojulie: A Tau Emerald dragonfly. The...   \n",
      "5  824933631365779458  A Tau Emerald dragonfly. The iPhone 7 camera i...   \n",
      "6  824836880491483136  The camera on the IPhone 7 plus is fucking awe...   \n",
      "7  823805101999390720  'Romeo and Juliet' Ad Showcases Apple's iPhone...   \n",
      "8  823804251117850624  iPhone 7 Images Show Bigger Camera Lens - I ha...   \n",
      "9  823689306376196096  RT @computerworks5: Premium HD Selfie Stick &a...   \n",
      "\n",
      "  retweeted                          place      screen_name verified_user  \\\n",
      "0     False            Melbourne, Victoria        MonashEAE         False   \n",
      "1     False                California, USA        ShopNCURV         False   \n",
      "2     False    West Islip, Long Island, NY  FusionWestIslip         False   \n",
      "3     False  6676 Fresh Pond Rd Queens, NY  FusionRidgewood         False   \n",
      "4     False                                   Iphone7review         False   \n",
      "5     False   Melbourne; Monash University     volcanojulie         False   \n",
      "6     False                  Hollywood, FL       Hbk_Mannyp         False   \n",
      "7     False       Toronto.NYC.the Universe  AaronRFernandes         False   \n",
      "8     False                 Lagos, Nigeria    moyinoluwa_mm         False   \n",
      "9     False                                   Iphone7review         False   \n",
      "\n",
      "   followers_count  friends_count  friendship_coeff  \n",
      "0              322            388          0.829897  \n",
      "1              279            318          0.877358  \n",
      "2               13            193          0.067358  \n",
      "3               45            218          0.206422  \n",
      "4              201           1793          0.112103  \n",
      "5              398            551          0.722323  \n",
      "6               58             65          0.892308  \n",
      "7            18291              7       2613.000000  \n",
      "8              781            302          2.586093  \n",
      "9              201           1793          0.112103  \n"
     ]
    }
   ],
   "source": [
    "# function to save required basic tweets info to a dataframe\n",
    "def populate_tweet_df(tweets):\n",
    "    #Create an empty dataframe\n",
    "    df = pd.DataFrame() \n",
    "    \n",
    "    df['id'] = list(map(lambda tweet: tweet.id, tweets))\n",
    "    df['text'] = list(map(lambda tweet: tweet.text, tweets))\n",
    "    df['retweeted'] = list(map(lambda tweet: tweet.retweeted, tweets))\n",
    "    df['place'] = list(map(lambda tweet: tweet.user.location, tweets))\n",
    "    df['screen_name'] = list(map(lambda tweet: tweet.user.screen_name, tweets))\n",
    "    df['verified_user'] = list(map(lambda tweet: tweet.user.verified, tweets))\n",
    "    df['followers_count'] = list(map(lambda tweet: tweet.user.followers_count, tweets))\n",
    "    df['friends_count'] = list(map(lambda tweet: tweet.user.friends_count, tweets))\n",
    "    \n",
    "    # Highly popular user's tweet could possibly seen by large audience, so lets check the popularity of user\n",
    "    df['friendship_coeff'] = list(map(lambda tweet: float(tweet.user.followers_count)/float(tweet.user.friends_count), tweets))\n",
    "    return df\n",
    "\n",
    "df = populate_tweet_df(fetched_tweets) \n",
    "print df.head(10)"
   ]
  },
  {
   "cell_type": "markdown",
   "metadata": {},
   "source": [
    "Instead of a topic you can also choose a screen_name focused on a topic, let's look at the posts by the screen name Iphone7review. "
   ]
  },
  {
   "cell_type": "code",
   "execution_count": 7,
   "metadata": {
    "collapsed": false
   },
   "outputs": [
    {
     "name": "stdout",
     "output_type": "stream",
     "text": [
      "Tweet ID:  825199250904608768\n",
      "Tweet Text:  RT @tommychase01: #towerofamerica #sanantonio #texas #redemption #iphone7 #night #daily @ Tower of the Americas https://t.co/vgUSJiO2Xc \n",
      "\n",
      "Tweet ID:  825191715589988352\n",
      "Tweet Text:  RT @iphonelife: How to Dictate Text on Your iPhone https://t.co/xNOpEPvfxv \n",
      "\n",
      "Tweet ID:  825191699349647360\n",
      "Tweet Text:  iPhone7 is the best mobile phone there is. Who agrees? #Iphone7 https://t.co/lUhLlU7Uyx \n",
      "\n",
      "Tweet ID:  825184151305338881\n",
      "Tweet Text:  RT @iphonelife: Hate Dongles? This iPhone 7 Case Brings the Headphone Jack Back https://t.co/bEJGWsw2vY \n",
      "\n",
      "Tweet ID:  825184143923412992\n",
      "Tweet Text:  iPhone7 is the best mobile phone there is. Who agrees? #Iphone7plus https://t.co/tdpPaaXZxU \n",
      "\n"
     ]
    }
   ],
   "source": [
    "# For help about api look here http://tweepy.readthedocs.org/en/v2.3.0/api.html\n",
    "fetched_tweets =  api.user_timeline(id='Iphone7review', count=5)\n",
    "\n",
    "# Print the tweet text\n",
    "for tweet in fetched_tweets:\n",
    "    print 'Tweet ID: ', tweet.id\n",
    "    print 'Tweet Text: ', tweet.text, '\\n'"
   ]
  },
  {
   "cell_type": "markdown",
   "metadata": {},
   "source": [
    "Glancing through the posts quickly can generally conclude that there is positive comments about camera feature of iPhone 7."
   ]
  }
 ],
 "metadata": {
  "anaconda-cloud": {},
  "kernelspec": {
   "display_name": "Python [conda root]",
   "language": "python",
   "name": "conda-root-py"
  },
  "language_info": {
   "codemirror_mode": {
    "name": "ipython",
    "version": 2
   },
   "file_extension": ".py",
   "mimetype": "text/x-python",
   "name": "python",
   "nbconvert_exporter": "python",
   "pygments_lexer": "ipython2",
   "version": "2.7.12"
  }
 },
 "nbformat": 4,
 "nbformat_minor": 1
}
