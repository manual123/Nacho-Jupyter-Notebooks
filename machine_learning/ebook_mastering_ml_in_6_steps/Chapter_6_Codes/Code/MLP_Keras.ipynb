{
 "cells": [
  {
   "cell_type": "markdown",
   "metadata": {},
   "source": [
    "### Multilayer Perceptron\n",
    "\n",
    "We’ll be using the well known MNIST database of handwritten digits, which consists of approximately 70,000 total samples of handwritten grayscale digit (0-9) images, each image of size is 28x28 and intensity level varies from 0-255 with accompanying label integer 0 to 9 for 60,000 of them and remaining without label(test data set). "
   ]
  },
  {
   "cell_type": "code",
   "execution_count": 1,
   "metadata": {
    "collapsed": false
   },
   "outputs": [
    {
     "name": "stderr",
     "output_type": "stream",
     "text": [
      "/home/manohar/anaconda2/lib/python2.7/site-packages/matplotlib/font_manager.py:273: UserWarning: Matplotlib is building the font cache using fc-list. This may take a moment.\n",
      "  warnings.warn('Matplotlib is building the font cache using fc-list. This may take a moment.')\n",
      "Using TensorFlow backend.\n"
     ]
    }
   ],
   "source": [
    "from matplotlib import pyplot as plt\n",
    "%matplotlib inline\n",
    "\n",
    "import numpy as np\n",
    "np.random.seed(2017)\n",
    "\n",
    "from keras.models import Sequential\n",
    "from keras.datasets import mnist\n",
    "from keras.layers import Dense, Activation, Dropout, Input\n",
    "from keras.models import Model\n",
    "from keras.utils import np_utils\n",
    "\n",
    "# from keras.utils.visualize_util import plot\n",
    "from IPython.display import SVG\n",
    "from keras import backend as K\n",
    "from keras.callbacks import EarlyStopping\n",
    "from keras.utils.visualize_util import model_to_dot, plot"
   ]
  },
  {
   "cell_type": "code",
   "execution_count": 2,
   "metadata": {
    "collapsed": false
   },
   "outputs": [],
   "source": [
    "(X_train, y_train), (X_test, y_test) = mnist.load_data()\n",
    "\n",
    "nb_classes = 10 # class size\n",
    "input_unit_size = 28*28 # flatten 28*28 images to a 784 vector for each image"
   ]
  },
  {
   "cell_type": "code",
   "execution_count": 3,
   "metadata": {
    "collapsed": false
   },
   "outputs": [
    {
     "name": "stdout",
     "output_type": "stream",
     "text": [
      "('X_train shape:', (60000, 784))\n",
      "(60000, 'train samples')\n",
      "(10000, 'test samples')\n"
     ]
    }
   ],
   "source": [
    "X_train = X_train.reshape(X_train.shape[0], input_unit_size)\n",
    "X_test  = X_test.reshape(X_test.shape[0], input_unit_size)\n",
    "X_train = X_train.astype('float32')\n",
    "X_test  = X_test.astype('float32')\n",
    "\n",
    "# Scale the values by dividing 255 i.e., means foreground (black)\n",
    "X_train /= 255\n",
    "X_test  /= 255\n",
    "\n",
    "# one-hot representation\n",
    "y_train = np_utils.to_categorical(y_train, nb_classes)\n",
    "y_test = np_utils.to_categorical(y_test, nb_classes)\n",
    "\n",
    "print('X_train shape:', X_train.shape)\n",
    "print(X_train.shape[0], 'train samples')\n",
    "print(X_test.shape[0], 'test samples')"
   ]
  },
  {
   "cell_type": "code",
   "execution_count": 4,
   "metadata": {
    "collapsed": false
   },
   "outputs": [],
   "source": [
    "# create model\n",
    "model = Sequential()\n",
    "model.add(Dense(input_unit_size, input_dim=input_unit_size, init='normal', activation='relu'))\n",
    "model.add(Dense(nb_classes, init='normal', activation='softmax'))\n",
    "\n",
    "# Compile model\n",
    "model.compile(loss='categorical_crossentropy', optimizer='adam', metrics=['accuracy'])"
   ]
  },
  {
   "cell_type": "code",
   "execution_count": 5,
   "metadata": {
    "collapsed": false
   },
   "outputs": [
    {
     "data": {
      "image/svg+xml": [
       "<svg height=\"224pt\" viewBox=\"0.00 0.00 308.00 224.00\" width=\"308pt\" xmlns=\"http://www.w3.org/2000/svg\" xmlns:xlink=\"http://www.w3.org/1999/xlink\">\n",
       "<g class=\"graph\" id=\"graph0\" transform=\"scale(1 1) rotate(0) translate(4 220)\">\n",
       "<title>G</title>\n",
       "<polygon fill=\"white\" points=\"-4,4 -4,-220 304,-220 304,4 -4,4\" stroke=\"none\"/>\n",
       "<!-- 140504191267344 -->\n",
       "<g class=\"node\" id=\"node1\"><title>140504191267344</title>\n",
       "<polygon fill=\"none\" points=\"-0.5,-169 -0.5,-215 300.5,-215 300.5,-169 -0.5,-169\" stroke=\"black\"/>\n",
       "<text font-family=\"Times,serif\" font-size=\"14.00\" text-anchor=\"middle\" x=\"81\" y=\"-188.3\">dense_input_1: InputLayer</text>\n",
       "<polyline fill=\"none\" points=\"162.5,-169 162.5,-215 \" stroke=\"black\"/>\n",
       "<text font-family=\"Times,serif\" font-size=\"14.00\" text-anchor=\"middle\" x=\"190\" y=\"-199.8\">input:</text>\n",
       "<polyline fill=\"none\" points=\"162.5,-192 217.5,-192 \" stroke=\"black\"/>\n",
       "<text font-family=\"Times,serif\" font-size=\"14.00\" text-anchor=\"middle\" x=\"190\" y=\"-176.8\">output:</text>\n",
       "<polyline fill=\"none\" points=\"217.5,-169 217.5,-215 \" stroke=\"black\"/>\n",
       "<text font-family=\"Times,serif\" font-size=\"14.00\" text-anchor=\"middle\" x=\"259\" y=\"-199.8\">(None, 784)</text>\n",
       "<polyline fill=\"none\" points=\"217.5,-192 300.5,-192 \" stroke=\"black\"/>\n",
       "<text font-family=\"Times,serif\" font-size=\"14.00\" text-anchor=\"middle\" x=\"259\" y=\"-176.8\">(None, 784)</text>\n",
       "</g>\n",
       "<!-- 140504191266960 -->\n",
       "<g class=\"node\" id=\"node2\"><title>140504191266960</title>\n",
       "<polygon fill=\"none\" points=\"30,-85 30,-131 270,-131 270,-85 30,-85\" stroke=\"black\"/>\n",
       "<text font-family=\"Times,serif\" font-size=\"14.00\" text-anchor=\"middle\" x=\"81\" y=\"-104.3\">dense_1: Dense</text>\n",
       "<polyline fill=\"none\" points=\"132,-85 132,-131 \" stroke=\"black\"/>\n",
       "<text font-family=\"Times,serif\" font-size=\"14.00\" text-anchor=\"middle\" x=\"159.5\" y=\"-115.8\">input:</text>\n",
       "<polyline fill=\"none\" points=\"132,-108 187,-108 \" stroke=\"black\"/>\n",
       "<text font-family=\"Times,serif\" font-size=\"14.00\" text-anchor=\"middle\" x=\"159.5\" y=\"-92.8\">output:</text>\n",
       "<polyline fill=\"none\" points=\"187,-85 187,-131 \" stroke=\"black\"/>\n",
       "<text font-family=\"Times,serif\" font-size=\"14.00\" text-anchor=\"middle\" x=\"228.5\" y=\"-115.8\">(None, 784)</text>\n",
       "<polyline fill=\"none\" points=\"187,-108 270,-108 \" stroke=\"black\"/>\n",
       "<text font-family=\"Times,serif\" font-size=\"14.00\" text-anchor=\"middle\" x=\"228.5\" y=\"-92.8\">(None, 784)</text>\n",
       "</g>\n",
       "<!-- 140504191267344&#45;&gt;140504191266960 -->\n",
       "<g class=\"edge\" id=\"edge1\"><title>140504191267344-&gt;140504191266960</title>\n",
       "<path d=\"M150,-168.593C150,-160.118 150,-150.297 150,-141.104\" fill=\"none\" stroke=\"black\"/>\n",
       "<polygon fill=\"black\" points=\"153.5,-141.096 150,-131.096 146.5,-141.096 153.5,-141.096\" stroke=\"black\"/>\n",
       "</g>\n",
       "<!-- 140504191267216 -->\n",
       "<g class=\"node\" id=\"node3\"><title>140504191267216</title>\n",
       "<polygon fill=\"none\" points=\"30,-1 30,-47 270,-47 270,-1 30,-1\" stroke=\"black\"/>\n",
       "<text font-family=\"Times,serif\" font-size=\"14.00\" text-anchor=\"middle\" x=\"81\" y=\"-20.3\">dense_2: Dense</text>\n",
       "<polyline fill=\"none\" points=\"132,-1 132,-47 \" stroke=\"black\"/>\n",
       "<text font-family=\"Times,serif\" font-size=\"14.00\" text-anchor=\"middle\" x=\"159.5\" y=\"-31.8\">input:</text>\n",
       "<polyline fill=\"none\" points=\"132,-24 187,-24 \" stroke=\"black\"/>\n",
       "<text font-family=\"Times,serif\" font-size=\"14.00\" text-anchor=\"middle\" x=\"159.5\" y=\"-8.8\">output:</text>\n",
       "<polyline fill=\"none\" points=\"187,-1 187,-47 \" stroke=\"black\"/>\n",
       "<text font-family=\"Times,serif\" font-size=\"14.00\" text-anchor=\"middle\" x=\"228.5\" y=\"-31.8\">(None, 784)</text>\n",
       "<polyline fill=\"none\" points=\"187,-24 270,-24 \" stroke=\"black\"/>\n",
       "<text font-family=\"Times,serif\" font-size=\"14.00\" text-anchor=\"middle\" x=\"228.5\" y=\"-8.8\">(None, 10)</text>\n",
       "</g>\n",
       "<!-- 140504191266960&#45;&gt;140504191267216 -->\n",
       "<g class=\"edge\" id=\"edge2\"><title>140504191266960-&gt;140504191267216</title>\n",
       "<path d=\"M150,-84.5931C150,-76.1177 150,-66.2974 150,-57.104\" fill=\"none\" stroke=\"black\"/>\n",
       "<polygon fill=\"black\" points=\"153.5,-57.0958 150,-47.0959 146.5,-57.0959 153.5,-57.0958\" stroke=\"black\"/>\n",
       "</g>\n",
       "</g>\n",
       "</svg>"
      ],
      "text/plain": [
       "<IPython.core.display.SVG object>"
      ]
     },
     "execution_count": 5,
     "metadata": {},
     "output_type": "execute_result"
    }
   ],
   "source": [
    "SVG(model_to_dot(model, show_shapes=True).create(prog='dot', format='svg'))"
   ]
  },
  {
   "cell_type": "code",
   "execution_count": 6,
   "metadata": {
    "collapsed": false
   },
   "outputs": [
    {
     "name": "stdout",
     "output_type": "stream",
     "text": [
      "Train on 60000 samples, validate on 10000 samples\n",
      "Epoch 1/5\n",
      "5s - loss: 0.3828 - acc: 0.8921 - val_loss: 0.1867 - val_acc: 0.9482\n",
      "Epoch 2/5\n",
      "6s - loss: 0.1560 - acc: 0.9559 - val_loss: 0.1273 - val_acc: 0.9631\n",
      "Epoch 3/5\n",
      "7s - loss: 0.1077 - acc: 0.9697 - val_loss: 0.0992 - val_acc: 0.9708\n",
      "Epoch 4/5\n",
      "5s - loss: 0.0804 - acc: 0.9775 - val_loss: 0.0840 - val_acc: 0.9749\n",
      "Epoch 5/5\n",
      "5s - loss: 0.0616 - acc: 0.9829 - val_loss: 0.0771 - val_acc: 0.9759\n",
      "Error: 2.41%\n"
     ]
    }
   ],
   "source": [
    "# model training\n",
    "model.fit(X_train, y_train, validation_data=(X_test, y_test), nb_epoch=5, batch_size=500, verbose=2)\n",
    "# Final evaluation of the model\n",
    "scores = model.evaluate(X_test, y_test, verbose=0)\n",
    "print(\"Error: %.2f%%\" % (100-scores[1]*100))"
   ]
  },
  {
   "cell_type": "markdown",
   "metadata": {},
   "source": [
    "# Additional Example"
   ]
  },
  {
   "cell_type": "code",
   "execution_count": 7,
   "metadata": {
    "collapsed": false
   },
   "outputs": [
    {
     "data": {
      "image/svg+xml": [
       "<svg height=\"224pt\" viewBox=\"0.00 0.00 294.00 224.00\" width=\"294pt\" xmlns=\"http://www.w3.org/2000/svg\" xmlns:xlink=\"http://www.w3.org/1999/xlink\">\n",
       "<g class=\"graph\" id=\"graph0\" transform=\"scale(1 1) rotate(0) translate(4 220)\">\n",
       "<title>G</title>\n",
       "<polygon fill=\"white\" points=\"-4,4 -4,-220 290,-220 290,4 -4,4\" stroke=\"none\"/>\n",
       "<!-- 140503319534864 -->\n",
       "<g class=\"node\" id=\"node1\"><title>140503319534864</title>\n",
       "<polygon fill=\"none\" points=\"-0.5,-169 -0.5,-215 286.5,-215 286.5,-169 -0.5,-169\" stroke=\"black\"/>\n",
       "<text font-family=\"Times,serif\" font-size=\"14.00\" text-anchor=\"middle\" x=\"81\" y=\"-188.3\">dense_input_2: InputLayer</text>\n",
       "<polyline fill=\"none\" points=\"162.5,-169 162.5,-215 \" stroke=\"black\"/>\n",
       "<text font-family=\"Times,serif\" font-size=\"14.00\" text-anchor=\"middle\" x=\"190\" y=\"-199.8\">input:</text>\n",
       "<polyline fill=\"none\" points=\"162.5,-192 217.5,-192 \" stroke=\"black\"/>\n",
       "<text font-family=\"Times,serif\" font-size=\"14.00\" text-anchor=\"middle\" x=\"190\" y=\"-176.8\">output:</text>\n",
       "<polyline fill=\"none\" points=\"217.5,-169 217.5,-215 \" stroke=\"black\"/>\n",
       "<text font-family=\"Times,serif\" font-size=\"14.00\" text-anchor=\"middle\" x=\"252\" y=\"-199.8\">(None, 8)</text>\n",
       "<polyline fill=\"none\" points=\"217.5,-192 286.5,-192 \" stroke=\"black\"/>\n",
       "<text font-family=\"Times,serif\" font-size=\"14.00\" text-anchor=\"middle\" x=\"252\" y=\"-176.8\">(None, 8)</text>\n",
       "</g>\n",
       "<!-- 140503319534672 -->\n",
       "<g class=\"node\" id=\"node2\"><title>140503319534672</title>\n",
       "<polygon fill=\"none\" points=\"26.5,-85 26.5,-131 259.5,-131 259.5,-85 26.5,-85\" stroke=\"black\"/>\n",
       "<text font-family=\"Times,serif\" font-size=\"14.00\" text-anchor=\"middle\" x=\"77.5\" y=\"-104.3\">dense_3: Dense</text>\n",
       "<polyline fill=\"none\" points=\"128.5,-85 128.5,-131 \" stroke=\"black\"/>\n",
       "<text font-family=\"Times,serif\" font-size=\"14.00\" text-anchor=\"middle\" x=\"156\" y=\"-115.8\">input:</text>\n",
       "<polyline fill=\"none\" points=\"128.5,-108 183.5,-108 \" stroke=\"black\"/>\n",
       "<text font-family=\"Times,serif\" font-size=\"14.00\" text-anchor=\"middle\" x=\"156\" y=\"-92.8\">output:</text>\n",
       "<polyline fill=\"none\" points=\"183.5,-85 183.5,-131 \" stroke=\"black\"/>\n",
       "<text font-family=\"Times,serif\" font-size=\"14.00\" text-anchor=\"middle\" x=\"221.5\" y=\"-115.8\">(None, 8)</text>\n",
       "<polyline fill=\"none\" points=\"183.5,-108 259.5,-108 \" stroke=\"black\"/>\n",
       "<text font-family=\"Times,serif\" font-size=\"14.00\" text-anchor=\"middle\" x=\"221.5\" y=\"-92.8\">(None, 12)</text>\n",
       "</g>\n",
       "<!-- 140503319534864&#45;&gt;140503319534672 -->\n",
       "<g class=\"edge\" id=\"edge1\"><title>140503319534864-&gt;140503319534672</title>\n",
       "<path d=\"M143,-168.593C143,-160.118 143,-150.297 143,-141.104\" fill=\"none\" stroke=\"black\"/>\n",
       "<polygon fill=\"black\" points=\"146.5,-141.096 143,-131.096 139.5,-141.096 146.5,-141.096\" stroke=\"black\"/>\n",
       "</g>\n",
       "<!-- 140503319534736 -->\n",
       "<g class=\"node\" id=\"node3\"><title>140503319534736</title>\n",
       "<polygon fill=\"none\" points=\"26.5,-1 26.5,-47 259.5,-47 259.5,-1 26.5,-1\" stroke=\"black\"/>\n",
       "<text font-family=\"Times,serif\" font-size=\"14.00\" text-anchor=\"middle\" x=\"77.5\" y=\"-20.3\">dense_4: Dense</text>\n",
       "<polyline fill=\"none\" points=\"128.5,-1 128.5,-47 \" stroke=\"black\"/>\n",
       "<text font-family=\"Times,serif\" font-size=\"14.00\" text-anchor=\"middle\" x=\"156\" y=\"-31.8\">input:</text>\n",
       "<polyline fill=\"none\" points=\"128.5,-24 183.5,-24 \" stroke=\"black\"/>\n",
       "<text font-family=\"Times,serif\" font-size=\"14.00\" text-anchor=\"middle\" x=\"156\" y=\"-8.8\">output:</text>\n",
       "<polyline fill=\"none\" points=\"183.5,-1 183.5,-47 \" stroke=\"black\"/>\n",
       "<text font-family=\"Times,serif\" font-size=\"14.00\" text-anchor=\"middle\" x=\"221.5\" y=\"-31.8\">(None, 12)</text>\n",
       "<polyline fill=\"none\" points=\"183.5,-24 259.5,-24 \" stroke=\"black\"/>\n",
       "<text font-family=\"Times,serif\" font-size=\"14.00\" text-anchor=\"middle\" x=\"221.5\" y=\"-8.8\">(None, 1)</text>\n",
       "</g>\n",
       "<!-- 140503319534672&#45;&gt;140503319534736 -->\n",
       "<g class=\"edge\" id=\"edge2\"><title>140503319534672-&gt;140503319534736</title>\n",
       "<path d=\"M143,-84.5931C143,-76.1177 143,-66.2974 143,-57.104\" fill=\"none\" stroke=\"black\"/>\n",
       "<polygon fill=\"black\" points=\"146.5,-57.0958 143,-47.0959 139.5,-57.0959 146.5,-57.0958\" stroke=\"black\"/>\n",
       "</g>\n",
       "</g>\n",
       "</svg>"
      ],
      "text/plain": [
       "<IPython.core.display.SVG object>"
      ]
     },
     "execution_count": 7,
     "metadata": {},
     "output_type": "execute_result"
    }
   ],
   "source": [
    "import pandas as pd\n",
    "\n",
    "# load pima indians dataset\n",
    "dataset = pd.read_csv('/media/manohar/OS/Users/Manoh/Documents/MyBook/Step 5/keras-examples-master/Data/Diabetes.csv')\n",
    "\n",
    "# split into input (X) and output (y) variables\n",
    "X = dataset.ix[:,0:8].values\n",
    "y = dataset['class'].values     # dependent variables\n",
    "\n",
    "# create model\n",
    "model = Sequential()\n",
    "model.add(Dense(12, input_dim=8, init='uniform', activation='relu'))\n",
    "model.add(Dense(1, init='uniform', activation='sigmoid'))\n",
    "\n",
    "# Compile model\n",
    "model.compile(loss='binary_crossentropy', optimizer='adam', metrics=['accuracy'])\n",
    "\n",
    "SVG(model_to_dot(model, show_shapes=True).create(prog='dot', format='svg'))"
   ]
  },
  {
   "cell_type": "code",
   "execution_count": 8,
   "metadata": {
    "collapsed": false
   },
   "outputs": [
    {
     "name": "stdout",
     "output_type": "stream",
     "text": [
      "Epoch 1/5\n",
      "768/768 [==============================] - 0s - loss: 0.6555 - acc: 0.6432     \n",
      "Epoch 2/5\n",
      "768/768 [==============================] - 0s - loss: 0.6418 - acc: 0.6615     \n",
      "Epoch 3/5\n",
      "768/768 [==============================] - 0s - loss: 0.6358 - acc: 0.6549     \n",
      "Epoch 4/5\n",
      "768/768 [==============================] - 0s - loss: 0.6244 - acc: 0.6732     \n",
      "Epoch 5/5\n",
      "768/768 [==============================] - 0s - loss: 0.6198 - acc: 0.6602     \n",
      "512/768 [===================>..........] - ETA: 0sacc: 68.10%\n"
     ]
    }
   ],
   "source": [
    "# Fit the model\n",
    "model.fit(X, y, nb_epoch=5, batch_size=10)\n",
    "# evaluate the model\n",
    "scores = model.evaluate(X, y)\n",
    "print(\"%s: %.2f%%\" % (model.metrics_names[1], scores[1]*100))"
   ]
  }
 ],
 "metadata": {
  "anaconda-cloud": {},
  "kernelspec": {
   "display_name": "Python [conda root]",
   "language": "python",
   "name": "conda-root-py"
  },
  "language_info": {
   "codemirror_mode": {
    "name": "ipython",
    "version": 2
   },
   "file_extension": ".py",
   "mimetype": "text/x-python",
   "name": "python",
   "nbconvert_exporter": "python",
   "pygments_lexer": "ipython2",
   "version": "2.7.12"
  }
 },
 "nbformat": 4,
 "nbformat_minor": 0
}
