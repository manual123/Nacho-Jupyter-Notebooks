{
 "cells": [
  {
   "cell_type": "code",
   "execution_count": 1,
   "metadata": {
    "collapsed": true
   },
   "outputs": [],
   "source": [
    "import pandas as pd"
   ]
  },
  {
   "cell_type": "code",
   "execution_count": 6,
   "metadata": {
    "collapsed": true
   },
   "outputs": [],
   "source": [
    "df = pd.read_csv('/home/pybokeh/Downloads/fit_data.csv', usecols=[0,4,5,8])"
   ]
  },
  {
   "cell_type": "code",
   "execution_count": 7,
   "metadata": {
    "collapsed": false
   },
   "outputs": [
    {
     "data": {
      "text/html": [
       "<div>\n",
       "<table border=\"1\" class=\"dataframe\">\n",
       "  <thead>\n",
       "    <tr style=\"text-align: right;\">\n",
       "      <th></th>\n",
       "      <th>FAIL_SHORT_PARTNO</th>\n",
       "      <th>TEXT_CLUSTER_FAMILY</th>\n",
       "      <th>PRI_LAB_OPRTN_CD</th>\n",
       "      <th>SYMP_CLASS_NM</th>\n",
       "    </tr>\n",
       "  </thead>\n",
       "  <tbody>\n",
       "    <tr>\n",
       "      <th>0</th>\n",
       "      <td>31500</td>\n",
       "      <td>FUNCTION ISSUE</td>\n",
       "      <td>710100</td>\n",
       "      <td>DEAD BATTERY (BATTERY ONLY REPL)</td>\n",
       "    </tr>\n",
       "    <tr>\n",
       "      <th>1</th>\n",
       "      <td>14310</td>\n",
       "      <td>NOISE/VIBRATION</td>\n",
       "      <td>110153</td>\n",
       "      <td>TIMING COMPONENTS/VTC ACTUATOR/NOISE/VIBRATION</td>\n",
       "    </tr>\n",
       "    <tr>\n",
       "      <th>2</th>\n",
       "      <td>14310</td>\n",
       "      <td>NOISE/VIBRATION</td>\n",
       "      <td>110153</td>\n",
       "      <td>TIMING COMPONENTS/VTC ACTUATOR/NOISE/VIBRATION</td>\n",
       "    </tr>\n",
       "    <tr>\n",
       "      <th>3</th>\n",
       "      <td>04770</td>\n",
       "      <td>FUNCTION ISSUE</td>\n",
       "      <td>752097</td>\n",
       "      <td>OTHER/04770/FUNCTION ISSUE</td>\n",
       "    </tr>\n",
       "    <tr>\n",
       "      <th>4</th>\n",
       "      <td>16010</td>\n",
       "      <td>WARNING LIGHT ON</td>\n",
       "      <td>121110</td>\n",
       "      <td>FUEL SYSTEM/FUEL INJECTOR/WARNING LIGHT ON</td>\n",
       "    </tr>\n",
       "  </tbody>\n",
       "</table>\n",
       "</div>"
      ],
      "text/plain": [
       "  FAIL_SHORT_PARTNO TEXT_CLUSTER_FAMILY PRI_LAB_OPRTN_CD  \\\n",
       "0             31500      FUNCTION ISSUE           710100   \n",
       "1             14310     NOISE/VIBRATION           110153   \n",
       "2             14310     NOISE/VIBRATION           110153   \n",
       "3             04770      FUNCTION ISSUE           752097   \n",
       "4             16010    WARNING LIGHT ON           121110   \n",
       "\n",
       "                                    SYMP_CLASS_NM  \n",
       "0                DEAD BATTERY (BATTERY ONLY REPL)  \n",
       "1  TIMING COMPONENTS/VTC ACTUATOR/NOISE/VIBRATION  \n",
       "2  TIMING COMPONENTS/VTC ACTUATOR/NOISE/VIBRATION  \n",
       "3                      OTHER/04770/FUNCTION ISSUE  \n",
       "4      FUEL SYSTEM/FUEL INJECTOR/WARNING LIGHT ON  "
      ]
     },
     "execution_count": 7,
     "metadata": {},
     "output_type": "execute_result"
    }
   ],
   "source": [
    "df.head()"
   ]
  },
  {
   "cell_type": "code",
   "execution_count": 12,
   "metadata": {
    "collapsed": false
   },
   "outputs": [
    {
     "data": {
      "text/plain": [
       "63157"
      ]
     },
     "execution_count": 12,
     "metadata": {},
     "output_type": "execute_result"
    }
   ],
   "source": [
    "len(df)"
   ]
  },
  {
   "cell_type": "code",
   "execution_count": 21,
   "metadata": {
    "collapsed": false
   },
   "outputs": [],
   "source": [
    "time_values = [n * 1000 for n in range(1, len(df)+1)]"
   ]
  },
  {
   "cell_type": "code",
   "execution_count": 22,
   "metadata": {
    "collapsed": false
   },
   "outputs": [
    {
     "data": {
      "text/plain": [
       "[1000, 2000, 3000, 4000, 5000, 6000, 7000, 8000, 9000, 10000]"
      ]
     },
     "execution_count": 22,
     "metadata": {},
     "output_type": "execute_result"
    }
   ],
   "source": [
    "time_values[:10]"
   ]
  },
  {
   "cell_type": "code",
   "execution_count": 23,
   "metadata": {
    "collapsed": false
   },
   "outputs": [
    {
     "data": {
      "text/plain": [
       "[63148000,\n",
       " 63149000,\n",
       " 63150000,\n",
       " 63151000,\n",
       " 63152000,\n",
       " 63153000,\n",
       " 63154000,\n",
       " 63155000,\n",
       " 63156000,\n",
       " 63157000]"
      ]
     },
     "execution_count": 23,
     "metadata": {},
     "output_type": "execute_result"
    }
   ],
   "source": [
    "time_values[-10:]"
   ]
  },
  {
   "cell_type": "code",
   "execution_count": 24,
   "metadata": {
    "collapsed": true
   },
   "outputs": [],
   "source": [
    "df['time_stamp'] = time_values"
   ]
  },
  {
   "cell_type": "code",
   "execution_count": 25,
   "metadata": {
    "collapsed": false
   },
   "outputs": [
    {
     "data": {
      "text/html": [
       "<div>\n",
       "<table border=\"1\" class=\"dataframe\">\n",
       "  <thead>\n",
       "    <tr style=\"text-align: right;\">\n",
       "      <th></th>\n",
       "      <th>FAIL_SHORT_PARTNO</th>\n",
       "      <th>TEXT_CLUSTER_FAMILY</th>\n",
       "      <th>PRI_LAB_OPRTN_CD</th>\n",
       "      <th>SYMP_CLASS_NM</th>\n",
       "      <th>time_stamp</th>\n",
       "    </tr>\n",
       "  </thead>\n",
       "  <tbody>\n",
       "    <tr>\n",
       "      <th>0</th>\n",
       "      <td>31500</td>\n",
       "      <td>FUNCTION ISSUE</td>\n",
       "      <td>710100</td>\n",
       "      <td>DEAD BATTERY (BATTERY ONLY REPL)</td>\n",
       "      <td>1000</td>\n",
       "    </tr>\n",
       "    <tr>\n",
       "      <th>1</th>\n",
       "      <td>14310</td>\n",
       "      <td>NOISE/VIBRATION</td>\n",
       "      <td>110153</td>\n",
       "      <td>TIMING COMPONENTS/VTC ACTUATOR/NOISE/VIBRATION</td>\n",
       "      <td>2000</td>\n",
       "    </tr>\n",
       "    <tr>\n",
       "      <th>2</th>\n",
       "      <td>14310</td>\n",
       "      <td>NOISE/VIBRATION</td>\n",
       "      <td>110153</td>\n",
       "      <td>TIMING COMPONENTS/VTC ACTUATOR/NOISE/VIBRATION</td>\n",
       "      <td>3000</td>\n",
       "    </tr>\n",
       "    <tr>\n",
       "      <th>3</th>\n",
       "      <td>04770</td>\n",
       "      <td>FUNCTION ISSUE</td>\n",
       "      <td>752097</td>\n",
       "      <td>OTHER/04770/FUNCTION ISSUE</td>\n",
       "      <td>4000</td>\n",
       "    </tr>\n",
       "    <tr>\n",
       "      <th>4</th>\n",
       "      <td>16010</td>\n",
       "      <td>WARNING LIGHT ON</td>\n",
       "      <td>121110</td>\n",
       "      <td>FUEL SYSTEM/FUEL INJECTOR/WARNING LIGHT ON</td>\n",
       "      <td>5000</td>\n",
       "    </tr>\n",
       "  </tbody>\n",
       "</table>\n",
       "</div>"
      ],
      "text/plain": [
       "  FAIL_SHORT_PARTNO TEXT_CLUSTER_FAMILY PRI_LAB_OPRTN_CD  \\\n",
       "0             31500      FUNCTION ISSUE           710100   \n",
       "1             14310     NOISE/VIBRATION           110153   \n",
       "2             14310     NOISE/VIBRATION           110153   \n",
       "3             04770      FUNCTION ISSUE           752097   \n",
       "4             16010    WARNING LIGHT ON           121110   \n",
       "\n",
       "                                    SYMP_CLASS_NM  time_stamp  \n",
       "0                DEAD BATTERY (BATTERY ONLY REPL)        1000  \n",
       "1  TIMING COMPONENTS/VTC ACTUATOR/NOISE/VIBRATION        2000  \n",
       "2  TIMING COMPONENTS/VTC ACTUATOR/NOISE/VIBRATION        3000  \n",
       "3                      OTHER/04770/FUNCTION ISSUE        4000  \n",
       "4      FUEL SYSTEM/FUEL INJECTOR/WARNING LIGHT ON        5000  "
      ]
     },
     "execution_count": 25,
     "metadata": {},
     "output_type": "execute_result"
    }
   ],
   "source": [
    "df.head()"
   ]
  },
  {
   "cell_type": "code",
   "execution_count": 26,
   "metadata": {
    "collapsed": true
   },
   "outputs": [],
   "source": [
    "warranty = df[['time_stamp','FAIL_SHORT_PARTNO','PRI_LAB_OPRTN_CD','TEXT_CLUSTER_FAMILY','SYMP_CLASS_NM']]"
   ]
  },
  {
   "cell_type": "code",
   "execution_count": 27,
   "metadata": {
    "collapsed": false
   },
   "outputs": [
    {
     "data": {
      "text/html": [
       "<div>\n",
       "<table border=\"1\" class=\"dataframe\">\n",
       "  <thead>\n",
       "    <tr style=\"text-align: right;\">\n",
       "      <th></th>\n",
       "      <th>time_stamp</th>\n",
       "      <th>FAIL_SHORT_PARTNO</th>\n",
       "      <th>PRI_LAB_OPRTN_CD</th>\n",
       "      <th>TEXT_CLUSTER_FAMILY</th>\n",
       "      <th>SYMP_CLASS_NM</th>\n",
       "    </tr>\n",
       "  </thead>\n",
       "  <tbody>\n",
       "    <tr>\n",
       "      <th>0</th>\n",
       "      <td>1000</td>\n",
       "      <td>31500</td>\n",
       "      <td>710100</td>\n",
       "      <td>FUNCTION ISSUE</td>\n",
       "      <td>DEAD BATTERY (BATTERY ONLY REPL)</td>\n",
       "    </tr>\n",
       "    <tr>\n",
       "      <th>1</th>\n",
       "      <td>2000</td>\n",
       "      <td>14310</td>\n",
       "      <td>110153</td>\n",
       "      <td>NOISE/VIBRATION</td>\n",
       "      <td>TIMING COMPONENTS/VTC ACTUATOR/NOISE/VIBRATION</td>\n",
       "    </tr>\n",
       "    <tr>\n",
       "      <th>2</th>\n",
       "      <td>3000</td>\n",
       "      <td>14310</td>\n",
       "      <td>110153</td>\n",
       "      <td>NOISE/VIBRATION</td>\n",
       "      <td>TIMING COMPONENTS/VTC ACTUATOR/NOISE/VIBRATION</td>\n",
       "    </tr>\n",
       "    <tr>\n",
       "      <th>3</th>\n",
       "      <td>4000</td>\n",
       "      <td>04770</td>\n",
       "      <td>752097</td>\n",
       "      <td>FUNCTION ISSUE</td>\n",
       "      <td>OTHER/04770/FUNCTION ISSUE</td>\n",
       "    </tr>\n",
       "    <tr>\n",
       "      <th>4</th>\n",
       "      <td>5000</td>\n",
       "      <td>16010</td>\n",
       "      <td>121110</td>\n",
       "      <td>WARNING LIGHT ON</td>\n",
       "      <td>FUEL SYSTEM/FUEL INJECTOR/WARNING LIGHT ON</td>\n",
       "    </tr>\n",
       "  </tbody>\n",
       "</table>\n",
       "</div>"
      ],
      "text/plain": [
       "   time_stamp FAIL_SHORT_PARTNO PRI_LAB_OPRTN_CD TEXT_CLUSTER_FAMILY  \\\n",
       "0        1000             31500           710100      FUNCTION ISSUE   \n",
       "1        2000             14310           110153     NOISE/VIBRATION   \n",
       "2        3000             14310           110153     NOISE/VIBRATION   \n",
       "3        4000             04770           752097      FUNCTION ISSUE   \n",
       "4        5000             16010           121110    WARNING LIGHT ON   \n",
       "\n",
       "                                    SYMP_CLASS_NM  \n",
       "0                DEAD BATTERY (BATTERY ONLY REPL)  \n",
       "1  TIMING COMPONENTS/VTC ACTUATOR/NOISE/VIBRATION  \n",
       "2  TIMING COMPONENTS/VTC ACTUATOR/NOISE/VIBRATION  \n",
       "3                      OTHER/04770/FUNCTION ISSUE  \n",
       "4      FUEL SYSTEM/FUEL INJECTOR/WARNING LIGHT ON  "
      ]
     },
     "execution_count": 27,
     "metadata": {},
     "output_type": "execute_result"
    }
   ],
   "source": [
    "warranty.head()"
   ]
  },
  {
   "cell_type": "code",
   "execution_count": 30,
   "metadata": {
    "collapsed": true
   },
   "outputs": [],
   "source": [
    "warranty_facts = warranty['SYMP_CLASS_NM'].to_frame()"
   ]
  },
  {
   "cell_type": "code",
   "execution_count": 31,
   "metadata": {
    "collapsed": false
   },
   "outputs": [
    {
     "data": {
      "text/html": [
       "<div>\n",
       "<table border=\"1\" class=\"dataframe\">\n",
       "  <thead>\n",
       "    <tr style=\"text-align: right;\">\n",
       "      <th></th>\n",
       "      <th>SYMP_CLASS_NM</th>\n",
       "    </tr>\n",
       "  </thead>\n",
       "  <tbody>\n",
       "    <tr>\n",
       "      <th>0</th>\n",
       "      <td>DEAD BATTERY (BATTERY ONLY REPL)</td>\n",
       "    </tr>\n",
       "    <tr>\n",
       "      <th>1</th>\n",
       "      <td>TIMING COMPONENTS/VTC ACTUATOR/NOISE/VIBRATION</td>\n",
       "    </tr>\n",
       "    <tr>\n",
       "      <th>2</th>\n",
       "      <td>TIMING COMPONENTS/VTC ACTUATOR/NOISE/VIBRATION</td>\n",
       "    </tr>\n",
       "    <tr>\n",
       "      <th>3</th>\n",
       "      <td>OTHER/04770/FUNCTION ISSUE</td>\n",
       "    </tr>\n",
       "    <tr>\n",
       "      <th>4</th>\n",
       "      <td>FUEL SYSTEM/FUEL INJECTOR/WARNING LIGHT ON</td>\n",
       "    </tr>\n",
       "  </tbody>\n",
       "</table>\n",
       "</div>"
      ],
      "text/plain": [
       "                                    SYMP_CLASS_NM\n",
       "0                DEAD BATTERY (BATTERY ONLY REPL)\n",
       "1  TIMING COMPONENTS/VTC ACTUATOR/NOISE/VIBRATION\n",
       "2  TIMING COMPONENTS/VTC ACTUATOR/NOISE/VIBRATION\n",
       "3                      OTHER/04770/FUNCTION ISSUE\n",
       "4      FUEL SYSTEM/FUEL INJECTOR/WARNING LIGHT ON"
      ]
     },
     "execution_count": 31,
     "metadata": {},
     "output_type": "execute_result"
    }
   ],
   "source": [
    "warranty_facts.head()"
   ]
  },
  {
   "cell_type": "code",
   "execution_count": 32,
   "metadata": {
    "collapsed": true
   },
   "outputs": [],
   "source": [
    "warranty_facts['start'] = warranty['time_stamp'] - 200\n",
    "warranty_facts['end'] = warranty['time_stamp'] + 200"
   ]
  },
  {
   "cell_type": "code",
   "execution_count": 33,
   "metadata": {
    "collapsed": false
   },
   "outputs": [
    {
     "data": {
      "text/html": [
       "<div>\n",
       "<table border=\"1\" class=\"dataframe\">\n",
       "  <thead>\n",
       "    <tr style=\"text-align: right;\">\n",
       "      <th></th>\n",
       "      <th>SYMP_CLASS_NM</th>\n",
       "      <th>start</th>\n",
       "      <th>end</th>\n",
       "    </tr>\n",
       "  </thead>\n",
       "  <tbody>\n",
       "    <tr>\n",
       "      <th>0</th>\n",
       "      <td>DEAD BATTERY (BATTERY ONLY REPL)</td>\n",
       "      <td>800</td>\n",
       "      <td>1200</td>\n",
       "    </tr>\n",
       "    <tr>\n",
       "      <th>1</th>\n",
       "      <td>TIMING COMPONENTS/VTC ACTUATOR/NOISE/VIBRATION</td>\n",
       "      <td>1800</td>\n",
       "      <td>2200</td>\n",
       "    </tr>\n",
       "    <tr>\n",
       "      <th>2</th>\n",
       "      <td>TIMING COMPONENTS/VTC ACTUATOR/NOISE/VIBRATION</td>\n",
       "      <td>2800</td>\n",
       "      <td>3200</td>\n",
       "    </tr>\n",
       "    <tr>\n",
       "      <th>3</th>\n",
       "      <td>OTHER/04770/FUNCTION ISSUE</td>\n",
       "      <td>3800</td>\n",
       "      <td>4200</td>\n",
       "    </tr>\n",
       "    <tr>\n",
       "      <th>4</th>\n",
       "      <td>FUEL SYSTEM/FUEL INJECTOR/WARNING LIGHT ON</td>\n",
       "      <td>4800</td>\n",
       "      <td>5200</td>\n",
       "    </tr>\n",
       "  </tbody>\n",
       "</table>\n",
       "</div>"
      ],
      "text/plain": [
       "                                    SYMP_CLASS_NM  start   end\n",
       "0                DEAD BATTERY (BATTERY ONLY REPL)    800  1200\n",
       "1  TIMING COMPONENTS/VTC ACTUATOR/NOISE/VIBRATION   1800  2200\n",
       "2  TIMING COMPONENTS/VTC ACTUATOR/NOISE/VIBRATION   2800  3200\n",
       "3                      OTHER/04770/FUNCTION ISSUE   3800  4200\n",
       "4      FUEL SYSTEM/FUEL INJECTOR/WARNING LIGHT ON   4800  5200"
      ]
     },
     "execution_count": 33,
     "metadata": {},
     "output_type": "execute_result"
    }
   ],
   "source": [
    "warranty_facts.head()"
   ]
  },
  {
   "cell_type": "code",
   "execution_count": 34,
   "metadata": {
    "collapsed": true
   },
   "outputs": [],
   "source": [
    "warranty_facts = warranty_facts[['start','end','SYMP_CLASS_NM']]"
   ]
  },
  {
   "cell_type": "code",
   "execution_count": 36,
   "metadata": {
    "collapsed": false
   },
   "outputs": [
    {
     "data": {
      "text/html": [
       "<div>\n",
       "<table border=\"1\" class=\"dataframe\">\n",
       "  <thead>\n",
       "    <tr style=\"text-align: right;\">\n",
       "      <th></th>\n",
       "      <th>start</th>\n",
       "      <th>end</th>\n",
       "      <th>SYMP_CLASS_NM</th>\n",
       "    </tr>\n",
       "  </thead>\n",
       "  <tbody>\n",
       "    <tr>\n",
       "      <th>0</th>\n",
       "      <td>800</td>\n",
       "      <td>1200</td>\n",
       "      <td>DEAD BATTERY (BATTERY ONLY REPL)</td>\n",
       "    </tr>\n",
       "    <tr>\n",
       "      <th>1</th>\n",
       "      <td>1800</td>\n",
       "      <td>2200</td>\n",
       "      <td>TIMING COMPONENTS/VTC ACTUATOR/NOISE/VIBRATION</td>\n",
       "    </tr>\n",
       "    <tr>\n",
       "      <th>2</th>\n",
       "      <td>2800</td>\n",
       "      <td>3200</td>\n",
       "      <td>TIMING COMPONENTS/VTC ACTUATOR/NOISE/VIBRATION</td>\n",
       "    </tr>\n",
       "    <tr>\n",
       "      <th>3</th>\n",
       "      <td>3800</td>\n",
       "      <td>4200</td>\n",
       "      <td>OTHER/04770/FUNCTION ISSUE</td>\n",
       "    </tr>\n",
       "    <tr>\n",
       "      <th>4</th>\n",
       "      <td>4800</td>\n",
       "      <td>5200</td>\n",
       "      <td>FUEL SYSTEM/FUEL INJECTOR/WARNING LIGHT ON</td>\n",
       "    </tr>\n",
       "  </tbody>\n",
       "</table>\n",
       "</div>"
      ],
      "text/plain": [
       "   start   end                                   SYMP_CLASS_NM\n",
       "0    800  1200                DEAD BATTERY (BATTERY ONLY REPL)\n",
       "1   1800  2200  TIMING COMPONENTS/VTC ACTUATOR/NOISE/VIBRATION\n",
       "2   2800  3200  TIMING COMPONENTS/VTC ACTUATOR/NOISE/VIBRATION\n",
       "3   3800  4200                      OTHER/04770/FUNCTION ISSUE\n",
       "4   4800  5200      FUEL SYSTEM/FUEL INJECTOR/WARNING LIGHT ON"
      ]
     },
     "execution_count": 36,
     "metadata": {},
     "output_type": "execute_result"
    }
   ],
   "source": [
    "warranty_facts.head()"
   ]
  },
  {
   "cell_type": "code",
   "execution_count": 37,
   "metadata": {
    "collapsed": true
   },
   "outputs": [],
   "source": [
    "from sklearn.model_selection import train_test_split"
   ]
  },
  {
   "cell_type": "code",
   "execution_count": 40,
   "metadata": {
    "collapsed": true
   },
   "outputs": [],
   "source": [
    "warranty_train, warranty_test, warranty_facts_train, warranty_facts_test = train_test_split(warranty,\n",
    "            warranty_facts, test_size=0.2, random_state=0)"
   ]
  },
  {
   "cell_type": "code",
   "execution_count": 38,
   "metadata": {
    "collapsed": false
   },
   "outputs": [
    {
     "data": {
      "text/plain": [
       "50525.600000000006"
      ]
     },
     "execution_count": 38,
     "metadata": {},
     "output_type": "execute_result"
    }
   ],
   "source": [
    "63157*0.8"
   ]
  },
  {
   "cell_type": "code",
   "execution_count": 46,
   "metadata": {
    "collapsed": false
   },
   "outputs": [],
   "source": [
    "warranty_train.to_csv('/home/pybokeh/temp/warranty_train.csv', index=False)\n",
    "warranty_test.to_csv('/home/pybokeh/temp/warranty_test.csv', index=False)\n",
    "warranty_facts_train.to_csv('/home/pybokeh/temp/warranty_facts_train.csv', index=False)\n",
    "warranty_facts_test.to_csv('/home/pybokeh/temp/warranty_facts_test.csv', index=False)"
   ]
  }
 ],
 "metadata": {
  "hide_input": false,
  "kernelspec": {
   "display_name": "Python 3",
   "language": "python",
   "name": "python3"
  },
  "language_info": {
   "codemirror_mode": {
    "name": "ipython",
    "version": 3
   },
   "file_extension": ".py",
   "mimetype": "text/x-python",
   "name": "python",
   "nbconvert_exporter": "python",
   "pygments_lexer": "ipython3",
   "version": "3.4.5"
  }
 },
 "nbformat": 4,
 "nbformat_minor": 1
}
