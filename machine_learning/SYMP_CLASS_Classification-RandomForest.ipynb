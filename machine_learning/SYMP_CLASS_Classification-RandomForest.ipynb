{
 "cells": [
  {
   "cell_type": "markdown",
   "metadata": {},
   "source": [
    "<h2>Classifying Warranty Claims with Symptom Class Names Using Machine Learning</h2><br><br>\n",
    "by Daniel J. Kim"
   ]
  },
  {
   "cell_type": "markdown",
   "metadata": {},
   "source": [
    "At Honda Market Quality (MQ), we are responsible for identifying vehicle quality and safety problems.  The primary source of market or field information is warranty claims data.  This data represents the voice of our customers.  The data contains several attributes such as part number, part cost, days to failure, miles to failure, customer's complaint, etc.  Over the years, Honda has accumulated several millions of warranty claims.  In order to efficiently identify market problems, methods have to be employed to \"classify\" or group like or similar claims together so that analysis can be made to efficiently find trends, track problems, and ensure problems are fixed or counter-measured."
   ]
  },
  {
   "cell_type": "markdown",
   "metadata": {},
   "source": [
    "Today, warranty claims data is classified using several, hard-coded algorithms, requiring extensive maintenance.  The jobs that our IT runs to complete the classification take several hours overnight.  Due to recent advancements and accessibility of [machine learning](https://en.wikipedia.org/wiki/Machine_learning) (ML) methodologies, I believe MQ and our Honda IT professionals should investigate how ML can be used to improve the warranty claims classification process and extend its usage to other applicable areas of business.  Furthermore, I strongly believe MQ need to develop in-house capability and knowledge in machine learning.  Unfortunately at MQ, we do not have associates that are knowledgeable in ML or have limited knowledge, this includes me.  But we can change that and hopefully we can discover benefits of applying machine learning to enhance MQ's business."
   ]
  },
  {
   "cell_type": "markdown",
   "metadata": {},
   "source": [
    "The following example is an attempt at a proof-of-concept of how machine learning can be used to classify warranty claims without hard-coded algorithms and is not meant to be representative of a \"production\" application.  The programming language used to employ the machine learning algorithm is Python using the [scikit-learn](http://scikit-learn.org/stable/) machine learning library.  This document is a [Jupyter](http://jupyter.org/) web notebook which allows me to document my process so that perhaps others can duplicate or understand my process as well."
   ]
  },
  {
   "cell_type": "markdown",
   "metadata": {},
   "source": [
    "### Library Imports"
   ]
  },
  {
   "cell_type": "code",
   "execution_count": 1,
   "metadata": {
    "collapsed": true,
    "run_control": {
     "read_only": false
    }
   },
   "outputs": [],
   "source": [
    "import pandas as pd\n",
    "import numpy as np"
   ]
  },
  {
   "cell_type": "markdown",
   "metadata": {},
   "source": [
    "### Data Ingestion"
   ]
  },
  {
   "cell_type": "markdown",
   "metadata": {},
   "source": [
    "Due to confidentiality, raw data will not be available.  Instead source of sample data was from an Excel file which I then \"copy/pasted\" from my computer's \"clipboard\"."
   ]
  },
  {
   "cell_type": "code",
   "execution_count": 2,
   "metadata": {
    "collapsed": true,
    "run_control": {
     "read_only": false
    }
   },
   "outputs": [],
   "source": [
    "df = pd.read_csv('/home/pybokeh/Downloads/fit_data.csv')"
   ]
  },
  {
   "cell_type": "markdown",
   "metadata": {},
   "source": [
    "### Data Preparation: Data Cleansing and Transformation"
   ]
  },
  {
   "cell_type": "markdown",
   "metadata": {},
   "source": [
    "Source data had dollar sign and comma in the part cost amounts.  So we need to remove them and ensure the part cost is a numeric (float) value."
   ]
  },
  {
   "cell_type": "code",
   "execution_count": 4,
   "metadata": {
    "collapsed": false,
    "run_control": {
     "read_only": false
    }
   },
   "outputs": [],
   "source": [
    "df['PART_COST_USD'] = df['PART_COST_USD'].str.replace('$','').str.replace(',','')"
   ]
  },
  {
   "cell_type": "code",
   "execution_count": 5,
   "metadata": {
    "collapsed": true,
    "run_control": {
     "read_only": false
    }
   },
   "outputs": [],
   "source": [
    "df['PART_COST_USD'] = df['PART_COST_USD'].astype(float)"
   ]
  },
  {
   "cell_type": "markdown",
   "metadata": {},
   "source": [
    "Confirm data type of the source data:"
   ]
  },
  {
   "cell_type": "code",
   "execution_count": 6,
   "metadata": {
    "collapsed": false,
    "run_control": {
     "read_only": false
    }
   },
   "outputs": [
    {
     "data": {
      "text/plain": [
       "FAIL_SHORT_PARTNO        object\n",
       "PART_COST_USD           float64\n",
       "DAYS_TO_FAIL_MINZERO      int64\n",
       "MILES_TO_FAIL             int64\n",
       "TEXT_CLUSTER_FAMILY      object\n",
       "PRI_LAB_OPRTN_CD         object\n",
       "MTC_MODEL                object\n",
       "MTC_TYPE                 object\n",
       "SYMP_CLASS_NM            object\n",
       "dtype: object"
      ]
     },
     "execution_count": 6,
     "metadata": {},
     "output_type": "execute_result"
    }
   ],
   "source": [
    "df.dtypes"
   ]
  },
  {
   "cell_type": "markdown",
   "metadata": {},
   "source": [
    "Below is the first 5 rows of the training data set we will use.  The features columns that we will use are the first 5 columns and the target or label data will be the last column (\"SYMPTOM_CLASS_NM\")."
   ]
  },
  {
   "cell_type": "markdown",
   "metadata": {},
   "source": [
    "Basically, we want to label or classify future claims based on part #, part cost, DTF, MTF, and symptom text cluster family to their appropriate symptom class name."
   ]
  },
  {
   "cell_type": "markdown",
   "metadata": {},
   "source": [
    "**Let's view our sample data:**"
   ]
  },
  {
   "cell_type": "code",
   "execution_count": 7,
   "metadata": {
    "collapsed": false,
    "run_control": {
     "read_only": false
    }
   },
   "outputs": [
    {
     "data": {
      "text/html": [
       "<div>\n",
       "<table border=\"1\" class=\"dataframe\">\n",
       "  <thead>\n",
       "    <tr style=\"text-align: right;\">\n",
       "      <th></th>\n",
       "      <th>FAIL_SHORT_PARTNO</th>\n",
       "      <th>PART_COST_USD</th>\n",
       "      <th>DAYS_TO_FAIL_MINZERO</th>\n",
       "      <th>MILES_TO_FAIL</th>\n",
       "      <th>TEXT_CLUSTER_FAMILY</th>\n",
       "      <th>PRI_LAB_OPRTN_CD</th>\n",
       "      <th>MTC_MODEL</th>\n",
       "      <th>MTC_TYPE</th>\n",
       "      <th>SYMP_CLASS_NM</th>\n",
       "    </tr>\n",
       "  </thead>\n",
       "  <tbody>\n",
       "    <tr>\n",
       "      <th>0</th>\n",
       "      <td>31500</td>\n",
       "      <td>81.22</td>\n",
       "      <td>689</td>\n",
       "      <td>4381</td>\n",
       "      <td>FUNCTION ISSUE</td>\n",
       "      <td>710100</td>\n",
       "      <td>FT5R</td>\n",
       "      <td>AC8</td>\n",
       "      <td>DEAD BATTERY (BATTERY ONLY REPL)</td>\n",
       "    </tr>\n",
       "    <tr>\n",
       "      <th>1</th>\n",
       "      <td>14310</td>\n",
       "      <td>103.74</td>\n",
       "      <td>692</td>\n",
       "      <td>31434</td>\n",
       "      <td>NOISE/VIBRATION</td>\n",
       "      <td>110153</td>\n",
       "      <td>FT5R</td>\n",
       "      <td>AB9</td>\n",
       "      <td>TIMING COMPONENTS/VTC ACTUATOR/NOISE/VIBRATION</td>\n",
       "    </tr>\n",
       "    <tr>\n",
       "      <th>2</th>\n",
       "      <td>14310</td>\n",
       "      <td>181.38</td>\n",
       "      <td>734</td>\n",
       "      <td>55236</td>\n",
       "      <td>NOISE/VIBRATION</td>\n",
       "      <td>110153</td>\n",
       "      <td>FT5R</td>\n",
       "      <td>AC8</td>\n",
       "      <td>TIMING COMPONENTS/VTC ACTUATOR/NOISE/VIBRATION</td>\n",
       "    </tr>\n",
       "    <tr>\n",
       "      <th>3</th>\n",
       "      <td>04770</td>\n",
       "      <td>0.00</td>\n",
       "      <td>1693</td>\n",
       "      <td>46707</td>\n",
       "      <td>FUNCTION ISSUE</td>\n",
       "      <td>752097</td>\n",
       "      <td>CTK6</td>\n",
       "      <td>AB5</td>\n",
       "      <td>OTHER/04770/FUNCTION ISSUE</td>\n",
       "    </tr>\n",
       "    <tr>\n",
       "      <th>4</th>\n",
       "      <td>16010</td>\n",
       "      <td>393.45</td>\n",
       "      <td>704</td>\n",
       "      <td>35763</td>\n",
       "      <td>WARNING LIGHT ON</td>\n",
       "      <td>121110</td>\n",
       "      <td>FT5R</td>\n",
       "      <td>AB9</td>\n",
       "      <td>FUEL SYSTEM/FUEL INJECTOR/WARNING LIGHT ON</td>\n",
       "    </tr>\n",
       "  </tbody>\n",
       "</table>\n",
       "</div>"
      ],
      "text/plain": [
       "  FAIL_SHORT_PARTNO  PART_COST_USD  DAYS_TO_FAIL_MINZERO  MILES_TO_FAIL  \\\n",
       "0             31500          81.22                   689           4381   \n",
       "1             14310         103.74                   692          31434   \n",
       "2             14310         181.38                   734          55236   \n",
       "3             04770           0.00                  1693          46707   \n",
       "4             16010         393.45                   704          35763   \n",
       "\n",
       "  TEXT_CLUSTER_FAMILY PRI_LAB_OPRTN_CD MTC_MODEL MTC_TYPE  \\\n",
       "0      FUNCTION ISSUE           710100      FT5R      AC8   \n",
       "1     NOISE/VIBRATION           110153      FT5R      AB9   \n",
       "2     NOISE/VIBRATION           110153      FT5R      AC8   \n",
       "3      FUNCTION ISSUE           752097      CTK6      AB5   \n",
       "4    WARNING LIGHT ON           121110      FT5R      AB9   \n",
       "\n",
       "                                    SYMP_CLASS_NM  \n",
       "0                DEAD BATTERY (BATTERY ONLY REPL)  \n",
       "1  TIMING COMPONENTS/VTC ACTUATOR/NOISE/VIBRATION  \n",
       "2  TIMING COMPONENTS/VTC ACTUATOR/NOISE/VIBRATION  \n",
       "3                      OTHER/04770/FUNCTION ISSUE  \n",
       "4      FUEL SYSTEM/FUEL INJECTOR/WARNING LIGHT ON  "
      ]
     },
     "execution_count": 7,
     "metadata": {},
     "output_type": "execute_result"
    }
   ],
   "source": [
    "df.head()"
   ]
  },
  {
   "cell_type": "markdown",
   "metadata": {},
   "source": [
    "When using machine learning algorithms, most require that the input data do not contain text/string data.  We can use scikit-learn's LabelEncoder() class to convert text/string data to integers."
   ]
  },
  {
   "cell_type": "code",
   "execution_count": 13,
   "metadata": {
    "collapsed": false,
    "run_control": {
     "read_only": false
    }
   },
   "outputs": [
    {
     "data": {
      "text/plain": [
       "LabelEncoder()"
      ]
     },
     "execution_count": 13,
     "metadata": {},
     "output_type": "execute_result"
    }
   ],
   "source": [
    "from sklearn import preprocessing\n",
    "\n",
    "part5_encoder = preprocessing.LabelEncoder()\n",
    "text_cluster_encoder = preprocessing.LabelEncoder()\n",
    "laborop_encoder = preprocessing.LabelEncoder()\n",
    "mtc_model_encoder = preprocessing.LabelEncoder()\n",
    "mtc_type_encoder = preprocessing.LabelEncoder()\n",
    "symp_class_encoder = preprocessing.LabelEncoder()\n",
    "\n",
    "part5_encoder.fit(df.FAIL_SHORT_PARTNO)\n",
    "text_cluster_encoder.fit(df.TEXT_CLUSTER_FAMILY)\n",
    "laborop_encoder.fit(df.PRI_LAB_OPRTN_CD)\n",
    "mtc_model_encoder.fit(df.MTC_MODEL)\n",
    "mtc_type_encoder.fit(df.MTC_TYPE)\n",
    "symp_class_encoder.fit(df.SYMP_CLASS_NM)"
   ]
  },
  {
   "cell_type": "markdown",
   "metadata": {},
   "source": [
    "### Let's create new columns containing the integer version of the columns that contain text/string data"
   ]
  },
  {
   "cell_type": "code",
   "execution_count": 14,
   "metadata": {
    "collapsed": true,
    "run_control": {
     "read_only": false
    }
   },
   "outputs": [],
   "source": [
    "df['PART5'] = part5_encoder.transform(df.FAIL_SHORT_PARTNO)\n",
    "df['TEXT_CLUSTER'] = text_cluster_encoder.transform(df.TEXT_CLUSTER_FAMILY)\n",
    "df['LABOROP'] = laborop_encoder.transform(df.PRI_LAB_OPRTN_CD)\n",
    "df['MTCMODEL'] = mtc_model_encoder.transform(df.MTC_MODEL)\n",
    "df['MTCTYPE'] = mtc_type_encoder.transform(df.MTC_TYPE)\n",
    "df['SYMP_CLASS'] = symp_class_encoder.transform(df.SYMP_CLASS_NM)"
   ]
  },
  {
   "cell_type": "code",
   "execution_count": 15,
   "metadata": {
    "collapsed": false,
    "run_control": {
     "read_only": false
    }
   },
   "outputs": [
    {
     "data": {
      "text/html": [
       "<div>\n",
       "<table border=\"1\" class=\"dataframe\">\n",
       "  <thead>\n",
       "    <tr style=\"text-align: right;\">\n",
       "      <th></th>\n",
       "      <th>FAIL_SHORT_PARTNO</th>\n",
       "      <th>PART_COST_USD</th>\n",
       "      <th>DAYS_TO_FAIL_MINZERO</th>\n",
       "      <th>MILES_TO_FAIL</th>\n",
       "      <th>TEXT_CLUSTER_FAMILY</th>\n",
       "      <th>PRI_LAB_OPRTN_CD</th>\n",
       "      <th>MTC_MODEL</th>\n",
       "      <th>MTC_TYPE</th>\n",
       "      <th>SYMP_CLASS_NM</th>\n",
       "      <th>PART5</th>\n",
       "      <th>TEXT_CLUSTER</th>\n",
       "      <th>MTCMODEL</th>\n",
       "      <th>MTCTYPE</th>\n",
       "      <th>SYMP_CLASS</th>\n",
       "      <th>LABOROP</th>\n",
       "    </tr>\n",
       "  </thead>\n",
       "  <tbody>\n",
       "    <tr>\n",
       "      <th>0</th>\n",
       "      <td>31500</td>\n",
       "      <td>81.22</td>\n",
       "      <td>689</td>\n",
       "      <td>4381</td>\n",
       "      <td>FUNCTION ISSUE</td>\n",
       "      <td>710100</td>\n",
       "      <td>FT5R</td>\n",
       "      <td>AC8</td>\n",
       "      <td>DEAD BATTERY (BATTERY ONLY REPL)</td>\n",
       "      <td>388</td>\n",
       "      <td>1</td>\n",
       "      <td>5</td>\n",
       "      <td>9</td>\n",
       "      <td>498</td>\n",
       "      <td>795</td>\n",
       "    </tr>\n",
       "    <tr>\n",
       "      <th>1</th>\n",
       "      <td>14310</td>\n",
       "      <td>103.74</td>\n",
       "      <td>692</td>\n",
       "      <td>31434</td>\n",
       "      <td>NOISE/VIBRATION</td>\n",
       "      <td>110153</td>\n",
       "      <td>FT5R</td>\n",
       "      <td>AB9</td>\n",
       "      <td>TIMING COMPONENTS/VTC ACTUATOR/NOISE/VIBRATION</td>\n",
       "      <td>138</td>\n",
       "      <td>3</td>\n",
       "      <td>5</td>\n",
       "      <td>4</td>\n",
       "      <td>2546</td>\n",
       "      <td>126</td>\n",
       "    </tr>\n",
       "    <tr>\n",
       "      <th>2</th>\n",
       "      <td>14310</td>\n",
       "      <td>181.38</td>\n",
       "      <td>734</td>\n",
       "      <td>55236</td>\n",
       "      <td>NOISE/VIBRATION</td>\n",
       "      <td>110153</td>\n",
       "      <td>FT5R</td>\n",
       "      <td>AC8</td>\n",
       "      <td>TIMING COMPONENTS/VTC ACTUATOR/NOISE/VIBRATION</td>\n",
       "      <td>138</td>\n",
       "      <td>3</td>\n",
       "      <td>5</td>\n",
       "      <td>9</td>\n",
       "      <td>2546</td>\n",
       "      <td>126</td>\n",
       "    </tr>\n",
       "    <tr>\n",
       "      <th>3</th>\n",
       "      <td>04770</td>\n",
       "      <td>0.00</td>\n",
       "      <td>1693</td>\n",
       "      <td>46707</td>\n",
       "      <td>FUNCTION ISSUE</td>\n",
       "      <td>752097</td>\n",
       "      <td>CTK6</td>\n",
       "      <td>AB5</td>\n",
       "      <td>OTHER/04770/FUNCTION ISSUE</td>\n",
       "      <td>39</td>\n",
       "      <td>1</td>\n",
       "      <td>1</td>\n",
       "      <td>2</td>\n",
       "      <td>1807</td>\n",
       "      <td>1045</td>\n",
       "    </tr>\n",
       "    <tr>\n",
       "      <th>4</th>\n",
       "      <td>16010</td>\n",
       "      <td>393.45</td>\n",
       "      <td>704</td>\n",
       "      <td>35763</td>\n",
       "      <td>WARNING LIGHT ON</td>\n",
       "      <td>121110</td>\n",
       "      <td>FT5R</td>\n",
       "      <td>AB9</td>\n",
       "      <td>FUEL SYSTEM/FUEL INJECTOR/WARNING LIGHT ON</td>\n",
       "      <td>165</td>\n",
       "      <td>6</td>\n",
       "      <td>5</td>\n",
       "      <td>4</td>\n",
       "      <td>1073</td>\n",
       "      <td>250</td>\n",
       "    </tr>\n",
       "  </tbody>\n",
       "</table>\n",
       "</div>"
      ],
      "text/plain": [
       "  FAIL_SHORT_PARTNO  PART_COST_USD  DAYS_TO_FAIL_MINZERO  MILES_TO_FAIL  \\\n",
       "0             31500          81.22                   689           4381   \n",
       "1             14310         103.74                   692          31434   \n",
       "2             14310         181.38                   734          55236   \n",
       "3             04770           0.00                  1693          46707   \n",
       "4             16010         393.45                   704          35763   \n",
       "\n",
       "  TEXT_CLUSTER_FAMILY PRI_LAB_OPRTN_CD MTC_MODEL MTC_TYPE  \\\n",
       "0      FUNCTION ISSUE           710100      FT5R      AC8   \n",
       "1     NOISE/VIBRATION           110153      FT5R      AB9   \n",
       "2     NOISE/VIBRATION           110153      FT5R      AC8   \n",
       "3      FUNCTION ISSUE           752097      CTK6      AB5   \n",
       "4    WARNING LIGHT ON           121110      FT5R      AB9   \n",
       "\n",
       "                                    SYMP_CLASS_NM  PART5  TEXT_CLUSTER  \\\n",
       "0                DEAD BATTERY (BATTERY ONLY REPL)    388             1   \n",
       "1  TIMING COMPONENTS/VTC ACTUATOR/NOISE/VIBRATION    138             3   \n",
       "2  TIMING COMPONENTS/VTC ACTUATOR/NOISE/VIBRATION    138             3   \n",
       "3                      OTHER/04770/FUNCTION ISSUE     39             1   \n",
       "4      FUEL SYSTEM/FUEL INJECTOR/WARNING LIGHT ON    165             6   \n",
       "\n",
       "   MTCMODEL  MTCTYPE  SYMP_CLASS  LABOROP  \n",
       "0         5        9         498      795  \n",
       "1         5        4        2546      126  \n",
       "2         5        9        2546      126  \n",
       "3         1        2        1807     1045  \n",
       "4         5        4        1073      250  "
      ]
     },
     "execution_count": 15,
     "metadata": {},
     "output_type": "execute_result"
    }
   ],
   "source": [
    "df.head()"
   ]
  },
  {
   "cell_type": "markdown",
   "metadata": {},
   "source": [
    "### We need to save the encoders for use later on un-classified data"
   ]
  },
  {
   "cell_type": "markdown",
   "metadata": {},
   "source": [
    "** Data Structure Persistence using Python's pickle library: **"
   ]
  },
  {
   "cell_type": "code",
   "execution_count": 16,
   "metadata": {
    "collapsed": false,
    "run_control": {
     "read_only": false
    }
   },
   "outputs": [],
   "source": [
    "import pickle\n",
    "\n",
    "# Encoders to disk\n",
    "pickle.dump(part5_encoder, open('/home/pybokeh/Dropbox/python/jupyter_notebooks/machine_learning/part5_encoder.sk','wb'))\n",
    "pickle.dump(text_cluster_encoder, open('/home/pybokeh/Dropbox/python/jupyter_notebooks/machine_learning/text_cluster_encoder.sk','wb'))\n",
    "pickle.dump(laborop_encoder, open('/home/pybokeh/Dropbox/python/jupyter_notebooks/machine_learning/laborop_encoder.sk','wb'))\n",
    "pickle.dump(mtc_model_encoder, open('/home/pybokeh/Dropbox/python/jupyter_notebooks/machine_learning/mtc_model_encoder.sk','wb'))\n",
    "pickle.dump(mtc_type_encoder, open('/home/pybokeh/Dropbox/python/jupyter_notebooks/machine_learning/mtc_type_encoder.sk','wb'))\n",
    "pickle.dump(symp_class_encoder, open('/home/pybokeh/Dropbox/python/jupyter_notebooks/machine_learning/symp_class_encoder.sk','wb'))"
   ]
  },
  {
   "cell_type": "markdown",
   "metadata": {},
   "source": [
    "**NOTE**-For the sake of simplicity, I resorted to saving the mappings using Python's pickle object serialization library.  In a production environment, it would be more suitable to use a relational database to store the mappings in a table instead."
   ]
  },
  {
   "cell_type": "markdown",
   "metadata": {},
   "source": [
    "### Now we are ready to create our features input data"
   ]
  },
  {
   "cell_type": "markdown",
   "metadata": {},
   "source": [
    "Our features data will consist of: part5, part cost, DTF, MTF, and symptom text cluster (all represented with numeric values thanks to my mappings made earlier):"
   ]
  },
  {
   "cell_type": "code",
   "execution_count": 17,
   "metadata": {
    "collapsed": false,
    "run_control": {
     "read_only": false
    }
   },
   "outputs": [],
   "source": [
    "features = df[['PART5',\n",
    "               'PART_COST_USD',\n",
    "               'DAYS_TO_FAIL_MINZERO',\n",
    "               'MILES_TO_FAIL',\n",
    "               'LABOROP',\n",
    "               'TEXT_CLUSTER',\n",
    "               'MTCMODEL',\n",
    "               'MTCTYPE'\n",
    "              ]].values.tolist()"
   ]
  },
  {
   "cell_type": "markdown",
   "metadata": {},
   "source": [
    "Now our features data does not contain text/string data.  Let's look at the first 10 rows of data:"
   ]
  },
  {
   "cell_type": "code",
   "execution_count": 18,
   "metadata": {
    "collapsed": false,
    "run_control": {
     "read_only": false
    }
   },
   "outputs": [
    {
     "data": {
      "text/plain": [
       "[[388.0, 81.22, 689.0, 4381.0, 795.0, 1.0, 5.0, 9.0],\n",
       " [138.0, 103.74, 692.0, 31434.0, 126.0, 3.0, 5.0, 4.0],\n",
       " [138.0, 181.38, 734.0, 55236.0, 126.0, 3.0, 5.0, 9.0],\n",
       " [39.0, 0.0, 1693.0, 46707.0, 1045.0, 1.0, 1.0, 2.0],\n",
       " [165.0, 393.45, 704.0, 35763.0, 250.0, 6.0, 5.0, 4.0],\n",
       " [531.0, 0.0, 196.0, 1873.0, 291.0, 6.0, 8.0, 8.0],\n",
       " [1205.0, 7.63, 27.0, 2061.0, 983.0, 1.0, 8.0, 8.0],\n",
       " [1205.0, 3.98, 328.0, 13322.0, 983.0, 4.0, 7.0, 13.0],\n",
       " [1061.0, 514.61, 221.0, 7984.0, 1318.0, 0.0, 8.0, 3.0],\n",
       " [556.0, 185.0, 0.0, 3.0, 97.0, 1.0, 6.0, 8.0]]"
      ]
     },
     "execution_count": 18,
     "metadata": {},
     "output_type": "execute_result"
    }
   ],
   "source": [
    "features[:10]"
   ]
  },
  {
   "cell_type": "markdown",
   "metadata": {},
   "source": [
    "Number of rows in our features data set:"
   ]
  },
  {
   "cell_type": "code",
   "execution_count": 19,
   "metadata": {
    "collapsed": false,
    "run_control": {
     "read_only": false
    }
   },
   "outputs": [
    {
     "data": {
      "text/plain": [
       "63157"
      ]
     },
     "execution_count": 19,
     "metadata": {},
     "output_type": "execute_result"
    }
   ],
   "source": [
    "len(features)"
   ]
  },
  {
   "cell_type": "markdown",
   "metadata": {},
   "source": [
    "### Now create our target/label data"
   ]
  },
  {
   "cell_type": "code",
   "execution_count": 20,
   "metadata": {
    "collapsed": true,
    "run_control": {
     "read_only": false
    }
   },
   "outputs": [],
   "source": [
    "labels = df.SYMP_CLASS.tolist()"
   ]
  },
  {
   "cell_type": "markdown",
   "metadata": {},
   "source": [
    "Let's look at the first 10 label data:"
   ]
  },
  {
   "cell_type": "code",
   "execution_count": 21,
   "metadata": {
    "collapsed": false,
    "run_control": {
     "read_only": false
    }
   },
   "outputs": [
    {
     "data": {
      "text/plain": [
       "[498, 2546, 2546, 1807, 1073, 769, 2799, 2797, 1020, 1585]"
      ]
     },
     "execution_count": 21,
     "metadata": {},
     "output_type": "execute_result"
    }
   ],
   "source": [
    "labels[:10]"
   ]
  },
  {
   "cell_type": "markdown",
   "metadata": {},
   "source": [
    "Number of rows in our label data:"
   ]
  },
  {
   "cell_type": "code",
   "execution_count": 22,
   "metadata": {
    "collapsed": false,
    "run_control": {
     "read_only": false
    }
   },
   "outputs": [
    {
     "data": {
      "text/plain": [
       "63157"
      ]
     },
     "execution_count": 22,
     "metadata": {},
     "output_type": "execute_result"
    }
   ],
   "source": [
    "len(labels)"
   ]
  },
  {
   "cell_type": "markdown",
   "metadata": {},
   "source": [
    "## Partitioning the Data Sets"
   ]
  },
  {
   "cell_type": "code",
   "execution_count": 23,
   "metadata": {
    "collapsed": false,
    "run_control": {
     "read_only": false
    }
   },
   "outputs": [],
   "source": [
    "from sklearn.cross_validation import train_test_split\n",
    "\n",
    "features_train, features_test, labels_train, labels_test = train_test_split(features, labels, test_size=0.2, random_state=0)"
   ]
  },
  {
   "cell_type": "markdown",
   "metadata": {},
   "source": [
    "Our features training data should contain 80% of our original complete data:"
   ]
  },
  {
   "cell_type": "code",
   "execution_count": 25,
   "metadata": {
    "collapsed": false,
    "run_control": {
     "read_only": false
    }
   },
   "outputs": [
    {
     "data": {
      "text/plain": [
       "50525"
      ]
     },
     "execution_count": 25,
     "metadata": {},
     "output_type": "execute_result"
    }
   ],
   "source": [
    "len(features_train)"
   ]
  },
  {
   "cell_type": "markdown",
   "metadata": {},
   "source": [
    "## Features Scaling"
   ]
  },
  {
   "cell_type": "code",
   "execution_count": 26,
   "metadata": {
    "collapsed": true,
    "run_control": {
     "read_only": false
    }
   },
   "outputs": [],
   "source": [
    "from sklearn.preprocessing import StandardScaler\n",
    "\n",
    "stdsc = StandardScaler()\n",
    "features_train_std = stdsc.fit_transform(features_train)\n",
    "features_test_std = stdsc.transform(features_test)"
   ]
  },
  {
   "cell_type": "code",
   "execution_count": 27,
   "metadata": {
    "collapsed": false,
    "run_control": {
     "read_only": false
    }
   },
   "outputs": [
    {
     "data": {
      "text/plain": [
       "array([[ -4.79126454e-01,  -3.12521367e-01,   6.74557502e-02,\n",
       "         -6.71951272e-02,  -1.23044825e+00,   1.84463187e+00,\n",
       "          9.37355527e-01,   3.10333886e-02],\n",
       "       [ -8.26223612e-01,  -1.05993171e-01,  -2.18889670e-01,\n",
       "         -7.46796923e-01,   5.67593357e-02,   1.84463187e+00,\n",
       "          9.37355527e-01,   8.73118221e-01],\n",
       "       [  1.11072416e+00,  -3.12521367e-01,   2.84384099e-01,\n",
       "          8.48955131e-01,   1.09573802e+00,   3.58977908e-01,\n",
       "         -4.67051681e-01,   3.11728333e-01],\n",
       "       [ -8.26223612e-01,  -1.06400023e-01,   1.91279290e+00,\n",
       "          4.64626620e-01,   5.67593357e-02,  -6.31458068e-01,\n",
       "         -1.40332315e+00,  -1.09174639e+00],\n",
       "       [ -8.26223612e-01,  -1.34091380e-01,  -1.93155893e-02,\n",
       "          3.39504745e-01,   5.67593357e-02,  -6.31458068e-01,\n",
       "         -1.40332315e+00,   3.11728333e-01],\n",
       "       [  1.05247010e+00,  -1.77548249e-01,  -5.22589358e-01,\n",
       "         -5.05946276e-01,   1.82251130e+00,  -1.12667606e+00,\n",
       "          9.37355527e-01,  -5.30356500e-01],\n",
       "       [ -6.17479867e-01,  -2.18589435e-01,  -1.21386770e+00,\n",
       "         -1.03446968e+00,  -1.46076373e+00,  -6.31458068e-01,\n",
       "          9.37355527e-01,  -1.37244133e+00],\n",
       "       [ -3.38345788e-01,  -2.55307819e-01,   1.21862219e+00,\n",
       "          9.48550709e-01,   1.83734235e-02,  -6.31458068e-01,\n",
       "         -9.35187417e-01,  -1.09174639e+00],\n",
       "       [ -8.26223612e-01,  -1.03424918e-01,  -6.93239659e-01,\n",
       "         -7.73040250e-01,   5.67593357e-02,  -6.31458068e-01,\n",
       "          9.37355527e-01,  -5.30356500e-01],\n",
       "       [  1.03547933e+00,  -2.14775198e-01,   2.78599343e-01,\n",
       "         -5.42885728e-02,   1.20833670e+00,  -1.12667606e+00,\n",
       "          9.37355527e-01,   8.73118221e-01],\n",
       "       [ -8.26223612e-01,  -1.05993171e-01,   9.09137743e-01,\n",
       "          1.38321478e+00,   5.67593357e-02,  -6.31458068e-01,\n",
       "         -4.67051681e-01,  -1.09174639e+00],\n",
       "       [  8.07317558e-01,   1.08280266e+00,  -2.96983876e-01,\n",
       "          6.05953391e-01,   1.39514814e+00,  -1.12667606e+00,\n",
       "          9.37355527e-01,  -5.30356500e-01],\n",
       "       [  1.59241046e-01,   1.46255008e-01,   7.03778906e-01,\n",
       "          1.49263368e+00,  -4.60170948e-01,  -6.31458068e-01,\n",
       "          9.37355527e-01,  -1.37244133e+00],\n",
       "       [ -4.37863155e-01,  -3.09953115e-01,  -1.21097532e+00,\n",
       "         -1.02428784e+00,   4.15027849e-01,   8.54195897e-01,\n",
       "          9.37355527e-01,   8.73118221e-01],\n",
       "       [  1.44083055e+00,   8.07009951e-02,   8.48100181e-02,\n",
       "         -3.93085628e-01,  -1.53083651e-01,  -6.31458068e-01,\n",
       "         -1.40332315e+00,   3.11728333e-01],\n",
       "       [ -8.26223612e-01,  -1.05993171e-01,   1.34588682e+00,\n",
       "          1.97460942e-01,   5.67593357e-02,  -6.31458068e-01,\n",
       "         -4.67051681e-01,  -1.09174639e+00],\n",
       "       [ -8.26223612e-01,  -1.03424918e-01,   3.33554525e-01,\n",
       "         -3.49848670e-01,   5.67593357e-02,  -6.31458068e-01,\n",
       "          9.37355527e-01,   1.99589800e+00],\n",
       "       [ -1.36750100e+00,   1.89864446e-01,   3.97186840e-01,\n",
       "          9.53557560e-02,  -1.33792881e+00,   1.84463187e+00,\n",
       "          9.37355527e-01,  -5.30356500e-01],\n",
       "       [ -2.09701387e-01,   1.94896493e+00,  -8.40750936e-01,\n",
       "         -5.46530220e-01,  -1.93930810e+00,  -6.31458068e-01,\n",
       "          1.08405504e-03,   2.27659294e+00],\n",
       "       [ -8.26223612e-01,  -1.03424918e-01,  -5.68867406e-01,\n",
       "         -3.72793656e-01,   5.67593357e-02,  -6.31458068e-01,\n",
       "          9.37355527e-01,  -5.30356500e-01]])"
      ]
     },
     "execution_count": 27,
     "metadata": {},
     "output_type": "execute_result"
    }
   ],
   "source": [
    "features_train_std[:20]"
   ]
  },
  {
   "cell_type": "markdown",
   "metadata": {},
   "source": [
    "## Fit the model with training data"
   ]
  },
  {
   "cell_type": "markdown",
   "metadata": {},
   "source": [
    "We'll use Random Forest classification algorithm"
   ]
  },
  {
   "cell_type": "code",
   "execution_count": 28,
   "metadata": {
    "collapsed": false,
    "run_control": {
     "read_only": false
    }
   },
   "outputs": [
    {
     "data": {
      "text/plain": [
       "RandomForestClassifier(bootstrap=True, class_weight=None, criterion='gini',\n",
       "            max_depth=None, max_features='auto', max_leaf_nodes=None,\n",
       "            min_samples_leaf=1, min_samples_split=2,\n",
       "            min_weight_fraction_leaf=0.0, n_estimators=10, n_jobs=1,\n",
       "            oob_score=False, random_state=None, verbose=0,\n",
       "            warm_start=False)"
      ]
     },
     "execution_count": 28,
     "metadata": {},
     "output_type": "execute_result"
    }
   ],
   "source": [
    "from sklearn.ensemble import RandomForestClassifier\n",
    "\n",
    "rfc = RandomForestClassifier(n_jobs=1)\n",
    "rfc.fit(features_train_std, labels_train)"
   ]
  },
  {
   "cell_type": "markdown",
   "metadata": {},
   "source": [
    "**Predicting 10 records:**"
   ]
  },
  {
   "cell_type": "code",
   "execution_count": 29,
   "metadata": {
    "collapsed": false,
    "run_control": {
     "read_only": false
    }
   },
   "outputs": [
    {
     "data": {
      "text/plain": [
       "array([[-1.15390275,  0.79607378,  2.88173953,  1.86936167, -1.51962212,\n",
       "        -0.13624008, -1.40332315,  0.31172833],\n",
       "       [ 0.52332897, -0.18520215, -1.21097532, -0.94649   ,  0.93451719,\n",
       "        -1.12667606,  0.93735553,  0.87311822],\n",
       "       [-0.59563459, -0.29367904,  0.00382343,  0.51037319,  0.25636608,\n",
       "        -0.63145807, -0.46705168, -1.09174639],\n",
       "       [ 0.12283225, -0.31252137, -1.10974209, -0.97868468, -0.58556493,\n",
       "        -1.12667606, -1.40332315,  0.31172833],\n",
       "       [ 0.09855973, -0.31252137,  0.09059477,  0.53848079, -0.54717902,\n",
       "         0.35897791,  0.93735553,  1.995898  ],\n",
       "       [-0.82622361, -0.13409138, -0.5168046 , -0.72478408,  0.05675934,\n",
       "        -0.63145807, -0.46705168,  0.31172833],\n",
       "       [ 0.64469162, -0.31252137,  0.32487739, -0.88790859,  1.30302195,\n",
       "         0.35897791,  0.93735553,  0.87311822],\n",
       "       [ 1.16412373, -0.2945436 , -0.74241008, -0.6251885 ,  0.50715404,\n",
       "        -0.63145807,  0.93735553,  1.995898  ],\n",
       "       [-0.82622361, -0.10342492,  0.66907037,  0.43106958,  0.05675934,\n",
       "        -0.63145807, -0.46705168, -1.09174639],\n",
       "       [ 1.42626704, -0.31252137, -0.49366558, -0.27556428, -0.17099708,\n",
       "         1.34941389, -0.46705168,  0.31172833]])"
      ]
     },
     "execution_count": 29,
     "metadata": {},
     "output_type": "execute_result"
    }
   ],
   "source": [
    "test_data = features_test_std[:10]\n",
    "test_data"
   ]
  },
  {
   "cell_type": "code",
   "execution_count": 31,
   "metadata": {
    "collapsed": false,
    "run_control": {
     "read_only": false
    }
   },
   "outputs": [
    {
     "name": "stdout",
     "output_type": "stream",
     "text": [
      "HVAC/RADIATOR/LEAK\n",
      "BUMPERS/FRONT/COSMETIC ISSUE\n",
      "SWITCHES (DOOR)/SWITCH, DOOR/FUNCTION ISSUE\n",
      "DAMPERS/DAMPER, FR/COSMETIC ISSUE\n",
      "SUSPENSION/ARM, FR/NOISE/VIBRATION\n",
      "DEAD BATTERY (BATTERY ONLY REPL)\n",
      "DOOR WINDOW SYSTEM (FRONT)/RUN CHANNEL/NOISE/VIBRATION\n",
      "WIPERS (FRONT)/BLADE/FUNCTION ISSUE\n",
      "DEAD BATTERY (BATTERY ONLY REPL)\n",
      "HVAC/HEATER SUB-ASSY/ODOR\n"
     ]
    }
   ],
   "source": [
    "for name in symp_class_encoder.inverse_transform(labels_test[:10]):\n",
    "    print(name)"
   ]
  },
  {
   "cell_type": "code",
   "execution_count": 32,
   "metadata": {
    "collapsed": false,
    "run_control": {
     "read_only": false
    }
   },
   "outputs": [
    {
     "name": "stdout",
     "output_type": "stream",
     "text": [
      "HVAC/RADIATOR/LEAK\n",
      "BUMPERS/FRONT/COSMETIC ISSUE\n",
      "SWITCHES (DOOR)/SWITCH, DOOR/FUNCTION ISSUE\n",
      "STEERING SYSTEM/END, TIE ROD/COSMETIC ISSUE\n",
      "SUSPENSION/LINK, FR/NOISE/VIBRATION\n",
      "DEAD BATTERY (BATTERY ONLY REPL)\n",
      "DOOR WINDOW SYSTEM (FRONT)/RUN CHANNEL/NOISE/VIBRATION\n",
      "WIPERS (FRONT)/BLADE/FUNCTION ISSUE\n",
      "DEAD BATTERY (BATTERY ONLY REPL)\n",
      "ABS/VSA SYSTEM/MODULATOR ASSY/FUNCTION ISSUE\n"
     ]
    }
   ],
   "source": [
    "for item in test_data:\n",
    "    print(symp_class_encoder.inverse_transform(rfc.predict([item]))[0])"
   ]
  },
  {
   "cell_type": "markdown",
   "metadata": {},
   "source": [
    "Comparing the above output to the source data, all but 2 was not classified correctly (80%).  But this was on a sample of 20 data observations.  We can use sklearn's accuracy score for larger data size."
   ]
  },
  {
   "cell_type": "code",
   "execution_count": 33,
   "metadata": {
    "collapsed": false
   },
   "outputs": [
    {
     "data": {
      "text/plain": [
       "0.77100000000000002"
      ]
     },
     "execution_count": 33,
     "metadata": {},
     "output_type": "execute_result"
    }
   ],
   "source": [
    "from sklearn.metrics import accuracy_score\n",
    "\n",
    "accuracy_score(labels_test[:1000], rfc.predict(features_test_std[:1000]))"
   ]
  },
  {
   "cell_type": "markdown",
   "metadata": {},
   "source": [
    "# Re-Using the Machine Learning Model to Classify Future Claims"
   ]
  },
  {
   "cell_type": "markdown",
   "metadata": {},
   "source": [
    "### Persist the model so that we can re-use it without having to retrain"
   ]
  },
  {
   "cell_type": "code",
   "execution_count": 35,
   "metadata": {
    "collapsed": false,
    "run_control": {
     "read_only": false
    }
   },
   "outputs": [
    {
     "ename": "MemoryError",
     "evalue": "",
     "output_type": "error",
     "traceback": [
      "\u001b[0;31m---------------------------------------------------------------------------\u001b[0m",
      "\u001b[0;31mMemoryError\u001b[0m                               Traceback (most recent call last)",
      "\u001b[0;32m<ipython-input-35-4f64804429d1>\u001b[0m in \u001b[0;36m<module>\u001b[0;34m()\u001b[0m\n\u001b[1;32m      1\u001b[0m \u001b[0;32mimport\u001b[0m \u001b[0mpickle\u001b[0m\u001b[0;34m\u001b[0m\u001b[0m\n\u001b[1;32m      2\u001b[0m \u001b[0;34m\u001b[0m\u001b[0m\n\u001b[0;32m----> 3\u001b[0;31m \u001b[0mpickle\u001b[0m\u001b[0;34m.\u001b[0m\u001b[0mdump\u001b[0m\u001b[0;34m(\u001b[0m\u001b[0mrfc\u001b[0m\u001b[0;34m,\u001b[0m \u001b[0mopen\u001b[0m\u001b[0;34m(\u001b[0m\u001b[0;34m'/home/pybokeh/Dropbox/python/jupyter_notebooks/machine_learning/randomforest.sk'\u001b[0m\u001b[0;34m,\u001b[0m\u001b[0;34m'wb'\u001b[0m\u001b[0;34m)\u001b[0m\u001b[0;34m)\u001b[0m\u001b[0;34m\u001b[0m\u001b[0m\n\u001b[0m",
      "\u001b[0;31mMemoryError\u001b[0m: "
     ]
    }
   ],
   "source": [
    "import pickle\n",
    "\n",
    "pickle.dump(rfc, open('/home/pybokeh/Dropbox/python/jupyter_notebooks/machine_learning/randomforest.sk','wb'))"
   ]
  },
  {
   "cell_type": "markdown",
   "metadata": {},
   "source": [
    "### Re-use the Model and Load Helper Data Structures"
   ]
  },
  {
   "cell_type": "code",
   "execution_count": 54,
   "metadata": {
    "collapsed": true,
    "run_control": {
     "read_only": false
    }
   },
   "outputs": [],
   "source": [
    "# Load the model\n",
    "rfc2 = pickle.load(open('/home/pybokeh/Dropbox/python/jupyter_notebooks/machine_learning/randomforest.sk','rb'))\n",
    "\n",
    "# Load helper data structures that we made earlier\n",
    "part5_to_int_mapper = pickle.load(open(r'D:\\jupyter\\machine_learning\\part5_to_int_mapper.sk', 'rb'))\n",
    "symptom_to_int_mapper = pickle.load(open(r'D:\\jupyter\\machine_learning\\symptom_to_int_mapper.sk', 'rb'))\n",
    "int_to_symp_class_mapper = pickle.load(open(r'D:\\jupyter\\machine_learning\\int_to_symp_class_mapper.sk', 'rb'))"
   ]
  },
  {
   "cell_type": "markdown",
   "metadata": {},
   "source": [
    "Again, in a production environment, it is probably best to load the mappings from a relational database instead of using Python's pickle."
   ]
  },
  {
   "cell_type": "markdown",
   "metadata": {},
   "source": [
    "### Test a single observation using the model"
   ]
  },
  {
   "cell_type": "code",
   "execution_count": 55,
   "metadata": {
    "collapsed": false,
    "run_control": {
     "read_only": false
    }
   },
   "outputs": [
    {
     "data": {
      "text/plain": [
       "'SEAT BELTS/REAR/COSMETIC ISSUE'"
      ]
     },
     "execution_count": 55,
     "metadata": {},
     "output_type": "execute_result"
    }
   ],
   "source": [
    "# criteria = [part5, part cost, dtf, mtf, symptom]\n",
    "criteria = [part5_to_int_mapper['04823'], 0, 0, 207, symptom_to_int_mapper['COSMETIC ISSUE']]\n",
    "int_to_symp_class_mapper[clf2.predict([criteria])[0]]"
   ]
  },
  {
   "cell_type": "markdown",
   "metadata": {},
   "source": [
    "**That's it!**"
   ]
  },
  {
   "cell_type": "markdown",
   "metadata": {},
   "source": [
    "Instead of symptom class names, we can classify warranty claims with other different types of classification labels so this classification example can be extended for any other classification we can come up with."
   ]
  },
  {
   "cell_type": "markdown",
   "metadata": {},
   "source": [
    "I have not tested this model extensively with other larger test data, but so far I have been impressed with the model so far."
   ]
  },
  {
   "cell_type": "markdown",
   "metadata": {},
   "source": [
    "# Conclusion"
   ]
  },
  {
   "cell_type": "markdown",
   "metadata": {},
   "source": [
    "This small-scale example shows that a machine learning classification algorithm was able to classify warranty claims without hard-coded algorithms.  It was \"trained\" solely from the training data consisting of just some of the attributes of the warranty claims data."
   ]
  }
 ],
 "metadata": {
  "hide_input": false,
  "kernelspec": {
   "display_name": "Python 3",
   "language": "python",
   "name": "python3"
  },
  "language_info": {
   "codemirror_mode": {
    "name": "ipython",
    "version": 3
   },
   "file_extension": ".py",
   "mimetype": "text/x-python",
   "name": "python",
   "nbconvert_exporter": "python",
   "pygments_lexer": "ipython3",
   "version": "3.5.1"
  },
  "latex_envs": {
   "bibliofile": "biblio.bib",
   "cite_by": "apalike",
   "current_citInitial": 1,
   "eqLabelWithNumbers": true,
   "eqNumInitial": 0
  }
 },
 "nbformat": 4,
 "nbformat_minor": 1
}
