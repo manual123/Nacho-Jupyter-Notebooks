{
 "cells": [
  {
   "cell_type": "markdown",
   "metadata": {},
   "source": [
    "To install the [bonobo](https://www.bonobo-project.org/) jupyter extension: https://www.bonobo-project.org/with/jupyter"
   ]
  },
  {
   "cell_type": "code",
   "execution_count": 1,
   "metadata": {},
   "outputs": [
    {
     "data": {
      "application/vnd.jupyter.widget-view+json": {
       "model_id": "c6b800767cd4488b912355441a41b9bb"
      }
     },
     "metadata": {},
     "output_type": "display_data"
    },
    {
     "name": "stdout",
     "output_type": "stream",
     "text": [
      "Original dataframe:\n",
      "         Date    Sales\n",
      "0  2011-01-01  1664.81\n",
      "1  2011-02-01  2397.53\n",
      "2  2011-03-01  2840.71\n",
      "3  2011-04-01  3547.29\n",
      "4  2011-05-01  3752.96\n",
      "Modified dataframe:\n",
      "         Date    Sales  New_column\n",
      "0  2011-01-01  1664.81     1864.81\n",
      "1  2011-02-01  2397.53     2597.53\n",
      "2  2011-03-01  2840.71     3040.71\n",
      "3  2011-04-01  3547.29     3747.29\n",
      "4  2011-05-01  3752.96     3952.96\n"
     ]
    }
   ],
   "source": [
    "import bonobo\n",
    "import pandas as pd\n",
    "\n",
    "def get_csv():\n",
    "    \"\"\" Method to retrieve a csv file \"\"\"\n",
    "\n",
    "    yield pd.read_csv('/home/pybokeh/Dropbox/data_sets/sales_data.csv')\n",
    "\n",
    "def add_column(df):\n",
    "    \"\"\" Method to add a new column to the dataframe \"\"\"\n",
    "    \n",
    "    print(\"Original dataframe:\")\n",
    "    print(df.head())\n",
    "\n",
    "    df = df.assign(New_column=df['Sales'] + 200)\n",
    "    yield df\n",
    "\n",
    "def print_dataframe(df):\n",
    "    \"\"\" Method to print the first 5 rows of the dataframe \"\"\"\n",
    "\n",
    "    print(\"Modified dataframe:\")\n",
    "    print(df.head())\n",
    "\n",
    "# Define the order the methods will be executed\n",
    "graph = bonobo.Graph(\n",
    "    get_csv,\n",
    "    add_column,\n",
    "    print_dataframe\n",
    ")\n",
    "\n",
    "if __name__ == '__main__':\n",
    "    \"\"\" Execute the methods in the specified order \"\"\"\n",
    "\n",
    "    bonobo.run(graph)"
   ]
  }
 ],
 "metadata": {
  "hide_input": false,
  "kernelspec": {
   "display_name": "Python 3",
   "language": "python",
   "name": "python3"
  },
  "language_info": {
   "codemirror_mode": {
    "name": "ipython",
    "version": 3
   },
   "file_extension": ".py",
   "mimetype": "text/x-python",
   "name": "python",
   "nbconvert_exporter": "python",
   "pygments_lexer": "ipython3",
   "version": "3.7.0"
  }
 },
 "nbformat": 4,
 "nbformat_minor": 2
}
