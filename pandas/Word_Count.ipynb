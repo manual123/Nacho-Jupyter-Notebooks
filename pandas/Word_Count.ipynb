{
 "metadata": {
  "name": "",
  "signature": "sha256:a726b8fc0d889aa8be9b18cd21a1b2768c7ae959feac16a7051baeed8da92314"
 },
 "nbformat": 3,
 "nbformat_minor": 0,
 "worksheets": [
  {
   "cells": [
    {
     "cell_type": "markdown",
     "metadata": {},
     "source": [
      "# <center>Text Mining Vehicle Warranty Data</center>"
     ]
    },
    {
     "cell_type": "markdown",
     "metadata": {},
     "source": [
      "This IPython notebook demonstrates how I perform text mining on vehicle warranty claims.  I am often tasked with answering questions like \"what problems are customers experiencing with their vehicles?\""
     ]
    },
    {
     "cell_type": "markdown",
     "metadata": {},
     "source": [
      "To get started, I have sample warranty data in a csv file that I will import using the Pandas package.  I will also make use of the NLTK (Natural Language ToolKit) to help me filter out irrelevant, high frequency words like THE, AND, IS, HIS, HER, etc (prepositions and pronouns) and also the string module to remove punctuation marks.  I will also use the convenient Counter class from the collections module to count the number of unique words.  With only 10 claims or records, the processes that I am illustrating would be unnecessary or overkill.  But if my data set was in the magnitude of hundreds or several thousands, then these processes will be more relevant.  So the sample size of 10 was used for simplicity in demonstrating my processes."
     ]
    },
    {
     "cell_type": "code",
     "collapsed": false,
     "input": [
      "import pandas as pd\n",
      "import nltk\n",
      "from collections import Counter\n",
      "from nltk.corpus import stopwords\n",
      "import string\n",
      "\n",
      "df = pd.read_csv('/home/pyb0k3h/Downloads/sample.csv').fillna(value='')"
     ],
     "language": "python",
     "metadata": {},
     "outputs": [],
     "prompt_number": 181
    },
    {
     "cell_type": "markdown",
     "metadata": {},
     "source": [
      "This is what the data looks like:"
     ]
    },
    {
     "cell_type": "code",
     "collapsed": false,
     "input": [
      "df"
     ],
     "language": "python",
     "metadata": {},
     "outputs": [
      {
       "html": [
        "<div style=\"max-height:1000px;max-width:1500px;overflow:auto;\">\n",
        "<table border=\"1\" class=\"dataframe\">\n",
        "  <thead>\n",
        "    <tr style=\"text-align: right;\">\n",
        "      <th></th>\n",
        "      <th>VIN</th>\n",
        "      <th>TEXT1</th>\n",
        "      <th>TEXT2</th>\n",
        "    </tr>\n",
        "  </thead>\n",
        "  <tbody>\n",
        "    <tr>\n",
        "      <th>0 </th>\n",
        "      <td>  VIN1</td>\n",
        "      <td>         CUSTOMER STATES NOISE FROM STEERING WHEEL</td>\n",
        "      <td>                                                  </td>\n",
        "    </tr>\n",
        "    <tr>\n",
        "      <th>1 </th>\n",
        "      <td>  VIN2</td>\n",
        "      <td>                   CUSTOMER STATES SRS LIGHT IS ON</td>\n",
        "      <td>                                                  </td>\n",
        "    </tr>\n",
        "    <tr>\n",
        "      <th>2 </th>\n",
        "      <td>  VIN3</td>\n",
        "      <td>                            RATTLE FROM THE AIRBAG</td>\n",
        "      <td>                                                  </td>\n",
        "    </tr>\n",
        "    <tr>\n",
        "      <th>3 </th>\n",
        "      <td>  VIN4</td>\n",
        "      <td> TICKING SOUND CAN BE HEARD FROM THE DRIVER'S A...</td>\n",
        "      <td>                                                  </td>\n",
        "    </tr>\n",
        "    <tr>\n",
        "      <th>4 </th>\n",
        "      <td>  VIN5</td>\n",
        "      <td>         RATTLE NOISE FROM THE STEERING WHEEL AREA</td>\n",
        "      <td>                                                  </td>\n",
        "    </tr>\n",
        "    <tr>\n",
        "      <th>5 </th>\n",
        "      <td>  VIN6</td>\n",
        "      <td>                                   SRS LIGHT IS ON</td>\n",
        "      <td>                                                  </td>\n",
        "    </tr>\n",
        "    <tr>\n",
        "      <th>6 </th>\n",
        "      <td>  VIN7</td>\n",
        "      <td>                           NOISE FROM L/FRT AIRBAG</td>\n",
        "      <td>                                                  </td>\n",
        "    </tr>\n",
        "    <tr>\n",
        "      <th>7 </th>\n",
        "      <td>  VIN8</td>\n",
        "      <td> CUSTOMER STATES NOISE CAN BE HEARD FROM STEERI...</td>\n",
        "      <td>                                                  </td>\n",
        "    </tr>\n",
        "    <tr>\n",
        "      <th>8 </th>\n",
        "      <td>  VIN9</td>\n",
        "      <td>                 TICKING NOISE FROM STEERING WHEEL</td>\n",
        "      <td>                                                  </td>\n",
        "    </tr>\n",
        "    <tr>\n",
        "      <th>9 </th>\n",
        "      <td> VIN10</td>\n",
        "      <td>                                   SRS LIGHT IS ON</td>\n",
        "      <td>                                                  </td>\n",
        "    </tr>\n",
        "    <tr>\n",
        "      <th>10</th>\n",
        "      <td> VIN11</td>\n",
        "      <td>                                                  </td>\n",
        "      <td>         CUSTOMER STATES NOISE FROM STEERING WHEEL</td>\n",
        "    </tr>\n",
        "    <tr>\n",
        "      <th>11</th>\n",
        "      <td> VIN12</td>\n",
        "      <td>                                                  </td>\n",
        "      <td>                   CUSTOMER STATES SRS LIGHT IS ON</td>\n",
        "    </tr>\n",
        "    <tr>\n",
        "      <th>12</th>\n",
        "      <td> VIN13</td>\n",
        "      <td>                                                  </td>\n",
        "      <td>                            RATTLE FROM THE AIRBAG</td>\n",
        "    </tr>\n",
        "    <tr>\n",
        "      <th>13</th>\n",
        "      <td> VIN14</td>\n",
        "      <td>                                                  </td>\n",
        "      <td> TICKING SOUND CAN BE HEARD FROM THE DRIVER'S A...</td>\n",
        "    </tr>\n",
        "    <tr>\n",
        "      <th>14</th>\n",
        "      <td> VIN15</td>\n",
        "      <td>                                                  </td>\n",
        "      <td>         RATTLE NOISE FROM THE STEERING WHEEL AREA</td>\n",
        "    </tr>\n",
        "    <tr>\n",
        "      <th>15</th>\n",
        "      <td> VIN16</td>\n",
        "      <td>                                                  </td>\n",
        "      <td>                                   SRS LIGHT IS ON</td>\n",
        "    </tr>\n",
        "    <tr>\n",
        "      <th>16</th>\n",
        "      <td> VIN17</td>\n",
        "      <td>                                                  </td>\n",
        "      <td>                           NOISE FROM L/FRT AIRBAG</td>\n",
        "    </tr>\n",
        "    <tr>\n",
        "      <th>17</th>\n",
        "      <td> VIN18</td>\n",
        "      <td>                                                  </td>\n",
        "      <td> CUSTOMER STATES NOISE CAN BE HEARD FROM STEERI...</td>\n",
        "    </tr>\n",
        "    <tr>\n",
        "      <th>18</th>\n",
        "      <td> VIN19</td>\n",
        "      <td>                                                  </td>\n",
        "      <td>                 TICKING NOISE FROM STEERING WHEEL</td>\n",
        "    </tr>\n",
        "    <tr>\n",
        "      <th>19</th>\n",
        "      <td> VIN20</td>\n",
        "      <td>                                                  </td>\n",
        "      <td>                                   SRS LIGHT IS ON</td>\n",
        "    </tr>\n",
        "  </tbody>\n",
        "</table>\n",
        "</div>"
       ],
       "metadata": {},
       "output_type": "pyout",
       "prompt_number": 182,
       "text": [
        "      VIN                                              TEXT1  \\\n",
        "0    VIN1          CUSTOMER STATES NOISE FROM STEERING WHEEL   \n",
        "1    VIN2                    CUSTOMER STATES SRS LIGHT IS ON   \n",
        "2    VIN3                             RATTLE FROM THE AIRBAG   \n",
        "3    VIN4  TICKING SOUND CAN BE HEARD FROM THE DRIVER'S A...   \n",
        "4    VIN5          RATTLE NOISE FROM THE STEERING WHEEL AREA   \n",
        "5    VIN6                                    SRS LIGHT IS ON   \n",
        "6    VIN7                            NOISE FROM L/FRT AIRBAG   \n",
        "7    VIN8  CUSTOMER STATES NOISE CAN BE HEARD FROM STEERI...   \n",
        "8    VIN9                  TICKING NOISE FROM STEERING WHEEL   \n",
        "9   VIN10                                    SRS LIGHT IS ON   \n",
        "10  VIN11                                                      \n",
        "11  VIN12                                                      \n",
        "12  VIN13                                                      \n",
        "13  VIN14                                                      \n",
        "14  VIN15                                                      \n",
        "15  VIN16                                                      \n",
        "16  VIN17                                                      \n",
        "17  VIN18                                                      \n",
        "18  VIN19                                                      \n",
        "19  VIN20                                                      \n",
        "\n",
        "                                                TEXT2  \n",
        "0                                                      \n",
        "1                                                      \n",
        "2                                                      \n",
        "3                                                      \n",
        "4                                                      \n",
        "5                                                      \n",
        "6                                                      \n",
        "7                                                      \n",
        "8                                                      \n",
        "9                                                      \n",
        "10          CUSTOMER STATES NOISE FROM STEERING WHEEL  \n",
        "11                    CUSTOMER STATES SRS LIGHT IS ON  \n",
        "12                             RATTLE FROM THE AIRBAG  \n",
        "13  TICKING SOUND CAN BE HEARD FROM THE DRIVER'S A...  \n",
        "14          RATTLE NOISE FROM THE STEERING WHEEL AREA  \n",
        "15                                    SRS LIGHT IS ON  \n",
        "16                            NOISE FROM L/FRT AIRBAG  \n",
        "17  CUSTOMER STATES NOISE CAN BE HEARD FROM STEERI...  \n",
        "18                  TICKING NOISE FROM STEERING WHEEL  \n",
        "19                                    SRS LIGHT IS ON  "
       ]
      }
     ],
     "prompt_number": 182
    },
    {
     "cell_type": "markdown",
     "metadata": {},
     "source": [
      "I will make a list of the words contained in the \"TEXT1\" column:"
     ]
    },
    {
     "cell_type": "code",
     "collapsed": false,
     "input": [
      "text1 = df['TEXT1'].fillna(value='')\n",
      "text2 = df['TEXT2'].fillna(value='')"
     ],
     "language": "python",
     "metadata": {},
     "outputs": [],
     "prompt_number": 183
    },
    {
     "cell_type": "code",
     "collapsed": false,
     "input": [
      "words = [word for word in text1.values]"
     ],
     "language": "python",
     "metadata": {},
     "outputs": [],
     "prompt_number": 184
    },
    {
     "cell_type": "code",
     "collapsed": false,
     "input": [
      "words"
     ],
     "language": "python",
     "metadata": {},
     "outputs": [
      {
       "metadata": {},
       "output_type": "pyout",
       "prompt_number": 185,
       "text": [
        "['CUSTOMER STATES NOISE FROM STEERING WHEEL',\n",
        " 'CUSTOMER STATES SRS LIGHT IS ON',\n",
        " 'RATTLE FROM THE AIRBAG',\n",
        " \"TICKING SOUND CAN BE HEARD FROM THE DRIVER'S AIRBAG\",\n",
        " 'RATTLE NOISE FROM THE STEERING WHEEL AREA',\n",
        " 'SRS LIGHT IS ON',\n",
        " 'NOISE FROM L/FRT AIRBAG',\n",
        " 'CUSTOMER STATES NOISE CAN BE HEARD FROM STEERING WHEEL AIRBAG',\n",
        " 'TICKING NOISE FROM STEERING WHEEL',\n",
        " 'SRS LIGHT IS ON',\n",
        " '',\n",
        " '',\n",
        " '',\n",
        " '',\n",
        " '',\n",
        " '',\n",
        " '',\n",
        " '',\n",
        " '',\n",
        " '']"
       ]
      }
     ],
     "prompt_number": 185
    },
    {
     "cell_type": "code",
     "collapsed": false,
     "input": [
      "words2 = [word for word in text2.values]"
     ],
     "language": "python",
     "metadata": {},
     "outputs": [],
     "prompt_number": 186
    },
    {
     "cell_type": "code",
     "collapsed": false,
     "input": [
      "words2"
     ],
     "language": "python",
     "metadata": {},
     "outputs": [
      {
       "metadata": {},
       "output_type": "pyout",
       "prompt_number": 187,
       "text": [
        "['',\n",
        " '',\n",
        " '',\n",
        " '',\n",
        " '',\n",
        " '',\n",
        " '',\n",
        " '',\n",
        " '',\n",
        " '',\n",
        " 'CUSTOMER STATES NOISE FROM STEERING WHEEL',\n",
        " 'CUSTOMER STATES SRS LIGHT IS ON',\n",
        " 'RATTLE FROM THE AIRBAG',\n",
        " \"TICKING SOUND CAN BE HEARD FROM THE DRIVER'S AIRBAG\",\n",
        " 'RATTLE NOISE FROM THE STEERING WHEEL AREA',\n",
        " 'SRS LIGHT IS ON',\n",
        " 'NOISE FROM L/FRT AIRBAG',\n",
        " 'CUSTOMER STATES NOISE CAN BE HEARD FROM STEERING WHEEL AIRBAG',\n",
        " 'TICKING NOISE FROM STEERING WHEEL',\n",
        " 'SRS LIGHT IS ON']"
       ]
      }
     ],
     "prompt_number": 187
    },
    {
     "cell_type": "code",
     "collapsed": false,
     "input": [
      "del words"
     ],
     "language": "python",
     "metadata": {},
     "outputs": [],
     "prompt_number": 139
    },
    {
     "cell_type": "code",
     "collapsed": false,
     "input": [
      "words.extend(words2)"
     ],
     "language": "python",
     "metadata": {},
     "outputs": [],
     "prompt_number": 188
    },
    {
     "cell_type": "code",
     "collapsed": false,
     "input": [
      "words"
     ],
     "language": "python",
     "metadata": {},
     "outputs": [
      {
       "metadata": {},
       "output_type": "pyout",
       "prompt_number": 189,
       "text": [
        "['CUSTOMER STATES NOISE FROM STEERING WHEEL',\n",
        " 'CUSTOMER STATES SRS LIGHT IS ON',\n",
        " 'RATTLE FROM THE AIRBAG',\n",
        " \"TICKING SOUND CAN BE HEARD FROM THE DRIVER'S AIRBAG\",\n",
        " 'RATTLE NOISE FROM THE STEERING WHEEL AREA',\n",
        " 'SRS LIGHT IS ON',\n",
        " 'NOISE FROM L/FRT AIRBAG',\n",
        " 'CUSTOMER STATES NOISE CAN BE HEARD FROM STEERING WHEEL AIRBAG',\n",
        " 'TICKING NOISE FROM STEERING WHEEL',\n",
        " 'SRS LIGHT IS ON',\n",
        " '',\n",
        " '',\n",
        " '',\n",
        " '',\n",
        " '',\n",
        " '',\n",
        " '',\n",
        " '',\n",
        " '',\n",
        " '',\n",
        " '',\n",
        " '',\n",
        " '',\n",
        " '',\n",
        " '',\n",
        " '',\n",
        " '',\n",
        " '',\n",
        " '',\n",
        " '',\n",
        " 'CUSTOMER STATES NOISE FROM STEERING WHEEL',\n",
        " 'CUSTOMER STATES SRS LIGHT IS ON',\n",
        " 'RATTLE FROM THE AIRBAG',\n",
        " \"TICKING SOUND CAN BE HEARD FROM THE DRIVER'S AIRBAG\",\n",
        " 'RATTLE NOISE FROM THE STEERING WHEEL AREA',\n",
        " 'SRS LIGHT IS ON',\n",
        " 'NOISE FROM L/FRT AIRBAG',\n",
        " 'CUSTOMER STATES NOISE CAN BE HEARD FROM STEERING WHEEL AIRBAG',\n",
        " 'TICKING NOISE FROM STEERING WHEEL',\n",
        " 'SRS LIGHT IS ON']"
       ]
      }
     ],
     "prompt_number": 189
    },
    {
     "cell_type": "markdown",
     "metadata": {},
     "source": [
      "As you can see from above, the trouble is, I have a list of sentences, when I just want a list with all the individual words from all the sentences.  With some looping, I was able to accomplish this:"
     ]
    },
    {
     "cell_type": "code",
     "collapsed": false,
     "input": [
      "words_list = []\n",
      "for line in words:\n",
      "    for character in line:\n",
      "        if character in string.punctuation:  # string.punctuation = !\"#$%&\\'()*+,-./:;<=>?@[\\\\]^_`{|}~\n",
      "            line = line.replace(character,\"\")\n",
      "    words_list.extend([word for word in line.split()])"
     ],
     "language": "python",
     "metadata": {},
     "outputs": [],
     "prompt_number": 190
    },
    {
     "cell_type": "markdown",
     "metadata": {},
     "source": [
      "Now, I should have a list of all the words from the sentences:"
     ]
    },
    {
     "cell_type": "code",
     "collapsed": false,
     "input": [
      "words_list"
     ],
     "language": "python",
     "metadata": {},
     "outputs": [
      {
       "metadata": {},
       "output_type": "pyout",
       "prompt_number": 191,
       "text": [
        "['CUSTOMER',\n",
        " 'STATES',\n",
        " 'NOISE',\n",
        " 'FROM',\n",
        " 'STEERING',\n",
        " 'WHEEL',\n",
        " 'CUSTOMER',\n",
        " 'STATES',\n",
        " 'SRS',\n",
        " 'LIGHT',\n",
        " 'IS',\n",
        " 'ON',\n",
        " 'RATTLE',\n",
        " 'FROM',\n",
        " 'THE',\n",
        " 'AIRBAG',\n",
        " 'TICKING',\n",
        " 'SOUND',\n",
        " 'CAN',\n",
        " 'BE',\n",
        " 'HEARD',\n",
        " 'FROM',\n",
        " 'THE',\n",
        " 'DRIVERS',\n",
        " 'AIRBAG',\n",
        " 'RATTLE',\n",
        " 'NOISE',\n",
        " 'FROM',\n",
        " 'THE',\n",
        " 'STEERING',\n",
        " 'WHEEL',\n",
        " 'AREA',\n",
        " 'SRS',\n",
        " 'LIGHT',\n",
        " 'IS',\n",
        " 'ON',\n",
        " 'NOISE',\n",
        " 'FROM',\n",
        " 'LFRT',\n",
        " 'AIRBAG',\n",
        " 'CUSTOMER',\n",
        " 'STATES',\n",
        " 'NOISE',\n",
        " 'CAN',\n",
        " 'BE',\n",
        " 'HEARD',\n",
        " 'FROM',\n",
        " 'STEERING',\n",
        " 'WHEEL',\n",
        " 'AIRBAG',\n",
        " 'TICKING',\n",
        " 'NOISE',\n",
        " 'FROM',\n",
        " 'STEERING',\n",
        " 'WHEEL',\n",
        " 'SRS',\n",
        " 'LIGHT',\n",
        " 'IS',\n",
        " 'ON',\n",
        " 'CUSTOMER',\n",
        " 'STATES',\n",
        " 'NOISE',\n",
        " 'FROM',\n",
        " 'STEERING',\n",
        " 'WHEEL',\n",
        " 'CUSTOMER',\n",
        " 'STATES',\n",
        " 'SRS',\n",
        " 'LIGHT',\n",
        " 'IS',\n",
        " 'ON',\n",
        " 'RATTLE',\n",
        " 'FROM',\n",
        " 'THE',\n",
        " 'AIRBAG',\n",
        " 'TICKING',\n",
        " 'SOUND',\n",
        " 'CAN',\n",
        " 'BE',\n",
        " 'HEARD',\n",
        " 'FROM',\n",
        " 'THE',\n",
        " 'DRIVERS',\n",
        " 'AIRBAG',\n",
        " 'RATTLE',\n",
        " 'NOISE',\n",
        " 'FROM',\n",
        " 'THE',\n",
        " 'STEERING',\n",
        " 'WHEEL',\n",
        " 'AREA',\n",
        " 'SRS',\n",
        " 'LIGHT',\n",
        " 'IS',\n",
        " 'ON',\n",
        " 'NOISE',\n",
        " 'FROM',\n",
        " 'LFRT',\n",
        " 'AIRBAG',\n",
        " 'CUSTOMER',\n",
        " 'STATES',\n",
        " 'NOISE',\n",
        " 'CAN',\n",
        " 'BE',\n",
        " 'HEARD',\n",
        " 'FROM',\n",
        " 'STEERING',\n",
        " 'WHEEL',\n",
        " 'AIRBAG',\n",
        " 'TICKING',\n",
        " 'NOISE',\n",
        " 'FROM',\n",
        " 'STEERING',\n",
        " 'WHEEL',\n",
        " 'SRS',\n",
        " 'LIGHT',\n",
        " 'IS',\n",
        " 'ON']"
       ]
      }
     ],
     "prompt_number": 191
    },
    {
     "cell_type": "markdown",
     "metadata": {},
     "source": [
      "But, I need to filter out the irrelevant, high frequency words:"
     ]
    },
    {
     "cell_type": "code",
     "collapsed": false,
     "input": [
      "stop = stopwords.words('english')\n",
      "filtered_words = [word for word in words_list if not word.lower() in stop]"
     ],
     "language": "python",
     "metadata": {},
     "outputs": [],
     "prompt_number": 192
    },
    {
     "cell_type": "code",
     "collapsed": false,
     "input": [
      "filtered_words"
     ],
     "language": "python",
     "metadata": {},
     "outputs": [
      {
       "metadata": {},
       "output_type": "pyout",
       "prompt_number": 193,
       "text": [
        "['CUSTOMER',\n",
        " 'STATES',\n",
        " 'NOISE',\n",
        " 'STEERING',\n",
        " 'WHEEL',\n",
        " 'CUSTOMER',\n",
        " 'STATES',\n",
        " 'SRS',\n",
        " 'LIGHT',\n",
        " 'RATTLE',\n",
        " 'AIRBAG',\n",
        " 'TICKING',\n",
        " 'SOUND',\n",
        " 'HEARD',\n",
        " 'DRIVERS',\n",
        " 'AIRBAG',\n",
        " 'RATTLE',\n",
        " 'NOISE',\n",
        " 'STEERING',\n",
        " 'WHEEL',\n",
        " 'AREA',\n",
        " 'SRS',\n",
        " 'LIGHT',\n",
        " 'NOISE',\n",
        " 'LFRT',\n",
        " 'AIRBAG',\n",
        " 'CUSTOMER',\n",
        " 'STATES',\n",
        " 'NOISE',\n",
        " 'HEARD',\n",
        " 'STEERING',\n",
        " 'WHEEL',\n",
        " 'AIRBAG',\n",
        " 'TICKING',\n",
        " 'NOISE',\n",
        " 'STEERING',\n",
        " 'WHEEL',\n",
        " 'SRS',\n",
        " 'LIGHT',\n",
        " 'CUSTOMER',\n",
        " 'STATES',\n",
        " 'NOISE',\n",
        " 'STEERING',\n",
        " 'WHEEL',\n",
        " 'CUSTOMER',\n",
        " 'STATES',\n",
        " 'SRS',\n",
        " 'LIGHT',\n",
        " 'RATTLE',\n",
        " 'AIRBAG',\n",
        " 'TICKING',\n",
        " 'SOUND',\n",
        " 'HEARD',\n",
        " 'DRIVERS',\n",
        " 'AIRBAG',\n",
        " 'RATTLE',\n",
        " 'NOISE',\n",
        " 'STEERING',\n",
        " 'WHEEL',\n",
        " 'AREA',\n",
        " 'SRS',\n",
        " 'LIGHT',\n",
        " 'NOISE',\n",
        " 'LFRT',\n",
        " 'AIRBAG',\n",
        " 'CUSTOMER',\n",
        " 'STATES',\n",
        " 'NOISE',\n",
        " 'HEARD',\n",
        " 'STEERING',\n",
        " 'WHEEL',\n",
        " 'AIRBAG',\n",
        " 'TICKING',\n",
        " 'NOISE',\n",
        " 'STEERING',\n",
        " 'WHEEL',\n",
        " 'SRS',\n",
        " 'LIGHT']"
       ]
      }
     ],
     "prompt_number": 193
    },
    {
     "cell_type": "markdown",
     "metadata": {},
     "source": [
      "Now that I have filtered out the irrelevant, high frequency words, I can now see what are the top most common words:"
     ]
    },
    {
     "cell_type": "code",
     "collapsed": false,
     "input": [
      "counted = Counter(filtered_words)\n",
      "top10 = counted.most_common(10)\n",
      "top10"
     ],
     "language": "python",
     "metadata": {},
     "outputs": [
      {
       "metadata": {},
       "output_type": "pyout",
       "prompt_number": 194,
       "text": [
        "[('NOISE', 10),\n",
        " ('AIRBAG', 8),\n",
        " ('STEERING', 8),\n",
        " ('WHEEL', 8),\n",
        " ('LIGHT', 6),\n",
        " ('CUSTOMER', 6),\n",
        " ('SRS', 6),\n",
        " ('STATES', 6),\n",
        " ('HEARD', 4),\n",
        " ('RATTLE', 4)]"
       ]
      }
     ],
     "prompt_number": 194
    },
    {
     "cell_type": "markdown",
     "metadata": {},
     "source": [
      "I can see that it appears that we have a noise problem.  With only 10 claims, this can be easily seen by just reading the claims, but let's say you have several hundreds or thousands of claims, then this exercise becomes more relevant."
     ]
    },
    {
     "cell_type": "markdown",
     "metadata": {},
     "source": [
      "Out of curiosity, I wanted to see all the unique words that have been used:"
     ]
    },
    {
     "cell_type": "code",
     "collapsed": false,
     "input": [
      "counted"
     ],
     "language": "python",
     "metadata": {},
     "outputs": [
      {
       "metadata": {},
       "output_type": "pyout",
       "prompt_number": 195,
       "text": [
        "Counter({'NOISE': 10, 'AIRBAG': 8, 'STEERING': 8, 'WHEEL': 8, 'LIGHT': 6, 'CUSTOMER': 6, 'SRS': 6, 'STATES': 6, 'HEARD': 4, 'RATTLE': 4, 'TICKING': 4, 'SOUND': 2, 'LFRT': 2, 'AREA': 2, 'DRIVERS': 2})"
       ]
      }
     ],
     "prompt_number": 195
    },
    {
     "cell_type": "markdown",
     "metadata": {},
     "source": [
      "As you can see, there are quite a few different words being used to describe noise like RATTLE, TICKING, or SOUND.  Wouldn't it be nice to lump these together and just label or categorize them as just noise?  I see that we also have a SRS light coming on problem also.  Again, I would like to lump those together in their own separate category like LIGHT ON.  Then, I can summarize based on those categories."
     ]
    },
    {
     "cell_type": "markdown",
     "metadata": {},
     "source": [
      "To accomplish this, I decided to us Pandas' apply() method which allows me to create a new column and apply a function to it.  I will create a \"COMPLAINT\" column whereby it will contain the label or category based on words found in the \"CONTDESC\" or complaint field."
     ]
    },
    {
     "cell_type": "code",
     "collapsed": false,
     "input": [
      "problem_dict = {'noise_words':['NOIS','NIOS','RATT','RATL','HEARD','HEARS','SQ','VIB','TICK','TAP','WHIN','HOWL','WHIRL','LOUD','SOUND'],\n",
      "'light_on_words':['LIGHT','LAMP','INDICATOR','LITE',' LIT', 'LT ON'],\n",
      "'inop_words':['INOP','T WORK','T COME','T TURN'],\n",
      "'stalled_words':['STALLED WH','STALLS WH']}\n",
      "\n",
      "def complaint(series):\n",
      "    for word in problem_dict['noise_words']:\n",
      "        if word in series[\"TEXT1\"]:\n",
      "            return \"NOISE\"\n",
      "        \n",
      "    for word in problem_dict['inop_words']:\n",
      "        if word in series[\"TEXT1\"]:\n",
      "            return \"INOP\"\n",
      "        \n",
      "    for word in problem_dict['light_on_words']:\n",
      "        if word in series[\"TEXT1\"]:\n",
      "            return \"LIGHT ON\""
     ],
     "language": "python",
     "metadata": {},
     "outputs": [],
     "prompt_number": 201
    },
    {
     "cell_type": "code",
     "collapsed": false,
     "input": [
      "df[\"COMPLAINT\"] = df.apply(complaint,axis=1)"
     ],
     "language": "python",
     "metadata": {},
     "outputs": [],
     "prompt_number": 197
    },
    {
     "cell_type": "markdown",
     "metadata": {},
     "source": [
      "Below is what the new \"COMPLAINT\" column looks like:"
     ]
    },
    {
     "cell_type": "code",
     "collapsed": false,
     "input": [
      "df"
     ],
     "language": "python",
     "metadata": {},
     "outputs": [
      {
       "html": [
        "<div style=\"max-height:1000px;max-width:1500px;overflow:auto;\">\n",
        "<table border=\"1\" class=\"dataframe\">\n",
        "  <thead>\n",
        "    <tr style=\"text-align: right;\">\n",
        "      <th></th>\n",
        "      <th>VIN</th>\n",
        "      <th>TEXT1</th>\n",
        "      <th>TEXT2</th>\n",
        "      <th>COMPLAINT</th>\n",
        "    </tr>\n",
        "  </thead>\n",
        "  <tbody>\n",
        "    <tr>\n",
        "      <th>0 </th>\n",
        "      <td>  VIN1</td>\n",
        "      <td>         CUSTOMER STATES NOISE FROM STEERING WHEEL</td>\n",
        "      <td>                                                  </td>\n",
        "      <td>    NOISE</td>\n",
        "    </tr>\n",
        "    <tr>\n",
        "      <th>1 </th>\n",
        "      <td>  VIN2</td>\n",
        "      <td>                   CUSTOMER STATES SRS LIGHT IS ON</td>\n",
        "      <td>                                                  </td>\n",
        "      <td> LIGHT ON</td>\n",
        "    </tr>\n",
        "    <tr>\n",
        "      <th>2 </th>\n",
        "      <td>  VIN3</td>\n",
        "      <td>                            RATTLE FROM THE AIRBAG</td>\n",
        "      <td>                                                  </td>\n",
        "      <td>    NOISE</td>\n",
        "    </tr>\n",
        "    <tr>\n",
        "      <th>3 </th>\n",
        "      <td>  VIN4</td>\n",
        "      <td> TICKING SOUND CAN BE HEARD FROM THE DRIVER'S A...</td>\n",
        "      <td>                                                  </td>\n",
        "      <td>    NOISE</td>\n",
        "    </tr>\n",
        "    <tr>\n",
        "      <th>4 </th>\n",
        "      <td>  VIN5</td>\n",
        "      <td>         RATTLE NOISE FROM THE STEERING WHEEL AREA</td>\n",
        "      <td>                                                  </td>\n",
        "      <td>    NOISE</td>\n",
        "    </tr>\n",
        "    <tr>\n",
        "      <th>5 </th>\n",
        "      <td>  VIN6</td>\n",
        "      <td>                                   SRS LIGHT IS ON</td>\n",
        "      <td>                                                  </td>\n",
        "      <td> LIGHT ON</td>\n",
        "    </tr>\n",
        "    <tr>\n",
        "      <th>6 </th>\n",
        "      <td>  VIN7</td>\n",
        "      <td>                           NOISE FROM L/FRT AIRBAG</td>\n",
        "      <td>                                                  </td>\n",
        "      <td>    NOISE</td>\n",
        "    </tr>\n",
        "    <tr>\n",
        "      <th>7 </th>\n",
        "      <td>  VIN8</td>\n",
        "      <td> CUSTOMER STATES NOISE CAN BE HEARD FROM STEERI...</td>\n",
        "      <td>                                                  </td>\n",
        "      <td>    NOISE</td>\n",
        "    </tr>\n",
        "    <tr>\n",
        "      <th>8 </th>\n",
        "      <td>  VIN9</td>\n",
        "      <td>                 TICKING NOISE FROM STEERING WHEEL</td>\n",
        "      <td>                                                  </td>\n",
        "      <td>    NOISE</td>\n",
        "    </tr>\n",
        "    <tr>\n",
        "      <th>9 </th>\n",
        "      <td> VIN10</td>\n",
        "      <td>                                   SRS LIGHT IS ON</td>\n",
        "      <td>                                                  </td>\n",
        "      <td> LIGHT ON</td>\n",
        "    </tr>\n",
        "    <tr>\n",
        "      <th>10</th>\n",
        "      <td> VIN11</td>\n",
        "      <td>                                                  </td>\n",
        "      <td>         CUSTOMER STATES NOISE FROM STEERING WHEEL</td>\n",
        "      <td>     None</td>\n",
        "    </tr>\n",
        "    <tr>\n",
        "      <th>11</th>\n",
        "      <td> VIN12</td>\n",
        "      <td>                                                  </td>\n",
        "      <td>                   CUSTOMER STATES SRS LIGHT IS ON</td>\n",
        "      <td>     None</td>\n",
        "    </tr>\n",
        "    <tr>\n",
        "      <th>12</th>\n",
        "      <td> VIN13</td>\n",
        "      <td>                                                  </td>\n",
        "      <td>                            RATTLE FROM THE AIRBAG</td>\n",
        "      <td>     None</td>\n",
        "    </tr>\n",
        "    <tr>\n",
        "      <th>13</th>\n",
        "      <td> VIN14</td>\n",
        "      <td>                                                  </td>\n",
        "      <td> TICKING SOUND CAN BE HEARD FROM THE DRIVER'S A...</td>\n",
        "      <td>     None</td>\n",
        "    </tr>\n",
        "    <tr>\n",
        "      <th>14</th>\n",
        "      <td> VIN15</td>\n",
        "      <td>                                                  </td>\n",
        "      <td>         RATTLE NOISE FROM THE STEERING WHEEL AREA</td>\n",
        "      <td>     None</td>\n",
        "    </tr>\n",
        "    <tr>\n",
        "      <th>15</th>\n",
        "      <td> VIN16</td>\n",
        "      <td>                                                  </td>\n",
        "      <td>                                   SRS LIGHT IS ON</td>\n",
        "      <td>     None</td>\n",
        "    </tr>\n",
        "    <tr>\n",
        "      <th>16</th>\n",
        "      <td> VIN17</td>\n",
        "      <td>                                                  </td>\n",
        "      <td>                           NOISE FROM L/FRT AIRBAG</td>\n",
        "      <td>     None</td>\n",
        "    </tr>\n",
        "    <tr>\n",
        "      <th>17</th>\n",
        "      <td> VIN18</td>\n",
        "      <td>                                                  </td>\n",
        "      <td> CUSTOMER STATES NOISE CAN BE HEARD FROM STEERI...</td>\n",
        "      <td>     None</td>\n",
        "    </tr>\n",
        "    <tr>\n",
        "      <th>18</th>\n",
        "      <td> VIN19</td>\n",
        "      <td>                                                  </td>\n",
        "      <td>                 TICKING NOISE FROM STEERING WHEEL</td>\n",
        "      <td>     None</td>\n",
        "    </tr>\n",
        "    <tr>\n",
        "      <th>19</th>\n",
        "      <td> VIN20</td>\n",
        "      <td>                                                  </td>\n",
        "      <td>                                   SRS LIGHT IS ON</td>\n",
        "      <td>     None</td>\n",
        "    </tr>\n",
        "  </tbody>\n",
        "</table>\n",
        "</div>"
       ],
       "metadata": {},
       "output_type": "pyout",
       "prompt_number": 198,
       "text": [
        "      VIN                                              TEXT1  \\\n",
        "0    VIN1          CUSTOMER STATES NOISE FROM STEERING WHEEL   \n",
        "1    VIN2                    CUSTOMER STATES SRS LIGHT IS ON   \n",
        "2    VIN3                             RATTLE FROM THE AIRBAG   \n",
        "3    VIN4  TICKING SOUND CAN BE HEARD FROM THE DRIVER'S A...   \n",
        "4    VIN5          RATTLE NOISE FROM THE STEERING WHEEL AREA   \n",
        "5    VIN6                                    SRS LIGHT IS ON   \n",
        "6    VIN7                            NOISE FROM L/FRT AIRBAG   \n",
        "7    VIN8  CUSTOMER STATES NOISE CAN BE HEARD FROM STEERI...   \n",
        "8    VIN9                  TICKING NOISE FROM STEERING WHEEL   \n",
        "9   VIN10                                    SRS LIGHT IS ON   \n",
        "10  VIN11                                                      \n",
        "11  VIN12                                                      \n",
        "12  VIN13                                                      \n",
        "13  VIN14                                                      \n",
        "14  VIN15                                                      \n",
        "15  VIN16                                                      \n",
        "16  VIN17                                                      \n",
        "17  VIN18                                                      \n",
        "18  VIN19                                                      \n",
        "19  VIN20                                                      \n",
        "\n",
        "                                                TEXT2 COMPLAINT  \n",
        "0                                                         NOISE  \n",
        "1                                                      LIGHT ON  \n",
        "2                                                         NOISE  \n",
        "3                                                         NOISE  \n",
        "4                                                         NOISE  \n",
        "5                                                      LIGHT ON  \n",
        "6                                                         NOISE  \n",
        "7                                                         NOISE  \n",
        "8                                                         NOISE  \n",
        "9                                                      LIGHT ON  \n",
        "10          CUSTOMER STATES NOISE FROM STEERING WHEEL      None  \n",
        "11                    CUSTOMER STATES SRS LIGHT IS ON      None  \n",
        "12                             RATTLE FROM THE AIRBAG      None  \n",
        "13  TICKING SOUND CAN BE HEARD FROM THE DRIVER'S A...      None  \n",
        "14          RATTLE NOISE FROM THE STEERING WHEEL AREA      None  \n",
        "15                                    SRS LIGHT IS ON      None  \n",
        "16                            NOISE FROM L/FRT AIRBAG      None  \n",
        "17  CUSTOMER STATES NOISE CAN BE HEARD FROM STEERI...      None  \n",
        "18                  TICKING NOISE FROM STEERING WHEEL      None  \n",
        "19                                    SRS LIGHT IS ON      None  "
       ]
      }
     ],
     "prompt_number": 198
    },
    {
     "cell_type": "markdown",
     "metadata": {},
     "source": [
      "Now I will use Pandas' groupby() to group the records by COMPLAINT:"
     ]
    },
    {
     "cell_type": "code",
     "collapsed": false,
     "input": [
      "by_complaint = df.groupby(['COMPLAINT'])[\"VIN\"].count()"
     ],
     "language": "python",
     "metadata": {},
     "outputs": [],
     "prompt_number": 286
    },
    {
     "cell_type": "code",
     "collapsed": false,
     "input": [
      "by_complaint"
     ],
     "language": "python",
     "metadata": {},
     "outputs": [
      {
       "metadata": {},
       "output_type": "pyout",
       "prompt_number": 287,
       "text": [
        "COMPLAINT\n",
        "LIGHT ON     3\n",
        "NOISE        7\n",
        "Name: VIN, dtype: int64"
       ]
      }
     ],
     "prompt_number": 287
    },
    {
     "cell_type": "markdown",
     "metadata": {},
     "source": [
      "Now I will make a separate Pandas dataframe"
     ]
    },
    {
     "cell_type": "code",
     "collapsed": false,
     "input": [
      "d = {\"complaint\":df1.values}\n",
      "complaints = pd.DataFrame(d,index=df1.index)"
     ],
     "language": "python",
     "metadata": {},
     "outputs": [],
     "prompt_number": 288
    },
    {
     "cell_type": "code",
     "collapsed": false,
     "input": [
      "complaints"
     ],
     "language": "python",
     "metadata": {},
     "outputs": [
      {
       "html": [
        "<div style=\"max-height:1000px;max-width:1500px;overflow:auto;\">\n",
        "<table border=\"1\" class=\"dataframe\">\n",
        "  <thead>\n",
        "    <tr style=\"text-align: right;\">\n",
        "      <th></th>\n",
        "      <th>complaint</th>\n",
        "    </tr>\n",
        "    <tr>\n",
        "      <th>COMPLAINT</th>\n",
        "      <th></th>\n",
        "    </tr>\n",
        "  </thead>\n",
        "  <tbody>\n",
        "    <tr>\n",
        "      <th>LIGHT ON</th>\n",
        "      <td> 3</td>\n",
        "    </tr>\n",
        "    <tr>\n",
        "      <th>NOISE</th>\n",
        "      <td> 7</td>\n",
        "    </tr>\n",
        "  </tbody>\n",
        "</table>\n",
        "</div>"
       ],
       "metadata": {},
       "output_type": "pyout",
       "prompt_number": 289,
       "text": [
        "           complaint\n",
        "COMPLAINT           \n",
        "LIGHT ON           3\n",
        "NOISE              7"
       ]
      }
     ],
     "prompt_number": 289
    },
    {
     "cell_type": "markdown",
     "metadata": {},
     "source": [
      "...and I will add a percent of total column also:"
     ]
    },
    {
     "cell_type": "code",
     "collapsed": false,
     "input": [
      "complaints[\"PercOfTotal\"] = complaints[\"complaint\"] / complaints[\"complaint\"].sum() * 100"
     ],
     "language": "python",
     "metadata": {},
     "outputs": [],
     "prompt_number": 290
    },
    {
     "cell_type": "code",
     "collapsed": false,
     "input": [
      "complaints"
     ],
     "language": "python",
     "metadata": {},
     "outputs": [
      {
       "html": [
        "<div style=\"max-height:1000px;max-width:1500px;overflow:auto;\">\n",
        "<table border=\"1\" class=\"dataframe\">\n",
        "  <thead>\n",
        "    <tr style=\"text-align: right;\">\n",
        "      <th></th>\n",
        "      <th>complaint</th>\n",
        "      <th>PercOfTotal</th>\n",
        "    </tr>\n",
        "    <tr>\n",
        "      <th>COMPLAINT</th>\n",
        "      <th></th>\n",
        "      <th></th>\n",
        "    </tr>\n",
        "  </thead>\n",
        "  <tbody>\n",
        "    <tr>\n",
        "      <th>LIGHT ON</th>\n",
        "      <td> 3</td>\n",
        "      <td> 30</td>\n",
        "    </tr>\n",
        "    <tr>\n",
        "      <th>NOISE</th>\n",
        "      <td> 7</td>\n",
        "      <td> 70</td>\n",
        "    </tr>\n",
        "  </tbody>\n",
        "</table>\n",
        "</div>"
       ],
       "metadata": {},
       "output_type": "pyout",
       "prompt_number": 291,
       "text": [
        "           complaint  PercOfTotal\n",
        "COMPLAINT                        \n",
        "LIGHT ON           3           30\n",
        "NOISE              7           70"
       ]
      }
     ],
     "prompt_number": 291
    },
    {
     "cell_type": "markdown",
     "metadata": {},
     "source": [
      "Now, I can say that 70% of the complaints are due to some kind of noise and 30% are due to SRS light coming on."
     ]
    },
    {
     "cell_type": "markdown",
     "metadata": {},
     "source": [
      "# Fellow data analysts using Python, is there a better way?"
     ]
    }
   ],
   "metadata": {}
  }
 ]
}