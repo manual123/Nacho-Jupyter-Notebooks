{
 "cells": [
  {
   "cell_type": "markdown",
   "metadata": {},
   "source": [
    "# Combining Data\n",
    "\n",
    "Most data analyses will use multiple different datasets or at least multiple datasets created from the same source. pandas has tools to combine DataFrames in a wide variety of ways.\n",
    "\n",
    "## Concatenating Data\n",
    "\n",
    "Concatenating data in pandas refers to stacking DataFrames either one on top of each other or side by side. The `pd.concat` function (NOT a method) is flexible and versatile with many different arguments that give you power to combine two ore more datasets at the same time.\n",
    "\n",
    "\n",
    "### Concatenating very similar DataFrames\n",
    "\n",
    "The `pd.concat` function provides many different and sometimes confusing arguments. We read in two small DataFrames with just three columns and three rows of each. We will use these small datasets to illustrate how the `concat` function works."
   ]
  },
  {
   "cell_type": "code",
   "execution_count": null,
   "metadata": {},
   "outputs": [],
   "source": [
    "import pandas as pd\n",
    "amzn = pd.read_csv('../data/stocks/amzn_sample.csv', parse_dates=['date'])\n",
    "aapl = pd.read_csv('../data/stocks/aapl_sample.csv', parse_dates=['date'])"
   ]
  },
  {
   "cell_type": "markdown",
   "metadata": {},
   "source": [
    "### Stacking data one on top of the other\n",
    "The first argument for `concat` needs to be a list of DataFrames. As usual in Pandas, the default is to do the action vertically. We stack them with the following command:"
   ]
  },
  {
   "cell_type": "code",
   "execution_count": null,
   "metadata": {},
   "outputs": [],
   "source": [
    "pd.concat([amzn, aapl])"
   ]
  },
  {
   "cell_type": "markdown",
   "metadata": {},
   "source": [
    "Notice that the index was kept the same. Use `ignore_index` to make a completely new `RangeIndex` from 0 to n-1."
   ]
  },
  {
   "cell_type": "code",
   "execution_count": null,
   "metadata": {},
   "outputs": [],
   "source": [
    "pd.concat([amzn, aapl], ignore_index=True)"
   ]
  },
  {
   "cell_type": "code",
   "execution_count": null,
   "metadata": {},
   "outputs": [],
   "source": [
    "pd.concat([amzn, aapl], ignore_index=True)"
   ]
  },
  {
   "cell_type": "markdown",
   "metadata": {},
   "source": [
    "### Label each piece of the DataFrame with the `keys` parameter\n",
    "You can use the `keys` parameter to label each piece of the DataFrame. This creates a MultiLevel index."
   ]
  },
  {
   "cell_type": "code",
   "execution_count": null,
   "metadata": {},
   "outputs": [],
   "source": [
    "pd.concat([amzn, aapl], keys=['amzn', 'aapl'])"
   ]
  },
  {
   "cell_type": "markdown",
   "metadata": {},
   "source": [
    "### Perhaps its better to just make a new column beforehand"
   ]
  },
  {
   "cell_type": "code",
   "execution_count": null,
   "metadata": {},
   "outputs": [],
   "source": [
    "amzn['symbol'] = 'amzn'\n",
    "aapl['symbol'] = 'aapl'\n",
    "pd.concat([amzn, aapl])"
   ]
  },
  {
   "cell_type": "markdown",
   "metadata": {},
   "source": [
    "## Beware! Automatic Alignment of Index\n",
    "Of extreme importance to `pd.concat` (and all of pandas) is the automatic alignment of indexes that happens behind the scenes. For instance, let's change the second column of `amzn_head` and concatenate once again."
   ]
  },
  {
   "cell_type": "code",
   "execution_count": null,
   "metadata": {},
   "outputs": [],
   "source": [
    "amzn2 = amzn.rename(columns={'Adj. Close': 'close'})\n",
    "pd.concat([amzn2, aapl])"
   ]
  },
  {
   "cell_type": "markdown",
   "metadata": {},
   "source": [
    "## Column names align first\n",
    "`pd.concat` does automatic alignment on the columns and by default does an outer join. Notice the missing values where the misalignment is. We can force an `inner` join, where only the columns in common are kept."
   ]
  },
  {
   "cell_type": "code",
   "execution_count": null,
   "metadata": {},
   "outputs": [],
   "source": [
    "pd.concat([amzn2, aapl], join='inner')"
   ]
  },
  {
   "cell_type": "markdown",
   "metadata": {},
   "source": [
    "## Use `axis=1` to change the direction of concatenation\n",
    "An automatic alignment on the index still happens here."
   ]
  },
  {
   "cell_type": "code",
   "execution_count": null,
   "metadata": {},
   "outputs": [],
   "source": [
    "pd.concat([amzn2, aapl], axis=1)"
   ]
  }
 ],
 "metadata": {
  "anaconda-cloud": {},
  "kernelspec": {
   "display_name": "Python 3",
   "language": "python",
   "name": "python3"
  },
  "language_info": {
   "codemirror_mode": {
    "name": "ipython",
    "version": 3
   },
   "file_extension": ".py",
   "mimetype": "text/x-python",
   "name": "python",
   "nbconvert_exporter": "python",
   "pygments_lexer": "ipython3",
   "version": "3.7.3"
  }
 },
 "nbformat": 4,
 "nbformat_minor": 1
}
