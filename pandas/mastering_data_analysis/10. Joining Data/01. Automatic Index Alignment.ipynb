{
 "cells": [
  {
   "cell_type": "markdown",
   "metadata": {},
   "source": [
    "# Automatic Index Alignment\n",
    "\n",
    "This notebook discusses **automatic index alignment**, a surprising, occasionally useful, and frustrating feature built into pandas. Automatic alignment of the index happens when operating on two pandas objects at the same time. Whether operating with two Series, two DataFrames, or one of each, automatic alignment of the index takes place first and then the operation completes."
   ]
  },
  {
   "cell_type": "markdown",
   "metadata": {},
   "source": [
    "## Adding two Series - Not as simple as it sounds\n",
    "Adding two Series together should be a simple, and most of the time it is, but you can be in for quite a surprise if the indexes do not align. Let's create two identical Series. The `copy` method allows us to do this."
   ]
  },
  {
   "cell_type": "code",
   "execution_count": null,
   "metadata": {},
   "outputs": [],
   "source": [
    "import numpy as np\n",
    "import pandas as pd\n",
    "s1 = pd.Series(index=['a', 'b', 'c', 'd'], data=[0, 1, 2, 3])\n",
    "s2 = s1.copy()"
   ]
  },
  {
   "cell_type": "code",
   "execution_count": null,
   "metadata": {},
   "outputs": [],
   "source": [
    "s1"
   ]
  },
  {
   "cell_type": "code",
   "execution_count": null,
   "metadata": {},
   "outputs": [],
   "source": [
    "s2"
   ]
  },
  {
   "cell_type": "markdown",
   "metadata": {},
   "source": [
    "Note, that these are two distinct objects. If we wrote **`s2 = s1`**, we would not have created a new object, just two variable names that refer to the same object."
   ]
  },
  {
   "cell_type": "code",
   "execution_count": null,
   "metadata": {},
   "outputs": [],
   "source": [
    "s1 is s2"
   ]
  },
  {
   "cell_type": "markdown",
   "metadata": {},
   "source": [
    "### Add the Series together\n",
    "The Series have the same index and the same values. No surprises here."
   ]
  },
  {
   "cell_type": "code",
   "execution_count": null,
   "metadata": {},
   "outputs": [],
   "source": [
    "s1 + s2"
   ]
  },
  {
   "cell_type": "markdown",
   "metadata": {},
   "source": [
    "### Create a new Series with index values in a different order\n",
    "We create new Series **`s3`** below with the same index values but in a different position than **`s1`**"
   ]
  },
  {
   "cell_type": "code",
   "execution_count": null,
   "metadata": {},
   "outputs": [],
   "source": [
    "s3 = pd.Series(index=['d', 'c', 'b', 'a'], data=[0, 1, 2, 3])\n",
    "s3"
   ]
  },
  {
   "cell_type": "markdown",
   "metadata": {},
   "source": [
    "### Add `s1` to `s3`"
   ]
  },
  {
   "cell_type": "code",
   "execution_count": null,
   "metadata": {},
   "outputs": [],
   "source": [
    "s1 + s3"
   ]
  },
  {
   "cell_type": "markdown",
   "metadata": {},
   "source": [
    "### What happened?\n",
    "Pandas aligns the data first by the index and then completes the operation. Index 'a' aligns for both Series. In **`s1`** index 'a' labels value 3 and in **`s3`** it labels value 0. Added together they sum to 3. All the indexes align in this manner and all sum to 3."
   ]
  },
  {
   "cell_type": "markdown",
   "metadata": {},
   "source": [
    "## Adding a NumPy array to a Series\n",
    "NumPy arrays have no index, just values and integer locations that refer to those values. NumPy arrays align by their integer location (which is what you would expect).\n",
    "\n",
    "Let's create a simple array with integers 0 to 3 and add it to our Series from above. The index of the Series plays no role in the following operations."
   ]
  },
  {
   "cell_type": "code",
   "execution_count": null,
   "metadata": {},
   "outputs": [],
   "source": [
    "a = np.arange(4)\n",
    "a"
   ]
  },
  {
   "cell_type": "code",
   "execution_count": null,
   "metadata": {},
   "outputs": [],
   "source": [
    "s1 + a"
   ]
  },
  {
   "cell_type": "code",
   "execution_count": null,
   "metadata": {},
   "outputs": [],
   "source": [
    "s3 + a"
   ]
  },
  {
   "cell_type": "markdown",
   "metadata": {},
   "source": [
    "Adding the array to itself also aligns by integer location."
   ]
  },
  {
   "cell_type": "code",
   "execution_count": null,
   "metadata": {},
   "outputs": [],
   "source": [
    "a + a"
   ]
  },
  {
   "cell_type": "markdown",
   "metadata": {},
   "source": [
    "### Adding arrays to Series - Must have same number of elements\n",
    "For a successful array to Series addition to occur, they both need to have the same number of elements or else an error will occur."
   ]
  },
  {
   "cell_type": "code",
   "execution_count": null,
   "metadata": {},
   "outputs": [],
   "source": [
    "a = np.arange(5)\n",
    "a"
   ]
  },
  {
   "cell_type": "code",
   "execution_count": null,
   "metadata": {},
   "outputs": [],
   "source": [
    "try:\n",
    "    s1 + a\n",
    "except Exception as e:\n",
    "    print(type(e), e)"
   ]
  },
  {
   "cell_type": "markdown",
   "metadata": {},
   "source": [
    "## Adding Series that don't have the same index labels\n",
    "Adding Series that do not have the same index labels is possible. In fact, adding two Series together will always complete (unless their values are incompatible - such as adding a number to a string).\n",
    "\n",
    "In the following example, we have two Series of different lengths. **`s1`** has one more index label, **`d`**, that **`s2`** does not have. When we add them together, again the indexes align, except for the **`d`**. It has no matching index in **`s2`**. Pandas keeps this label in the returned Series but with a missing value.\n",
    "\n",
    "Any label that does not match in the other Series is always kept and its associated value will always be missing."
   ]
  },
  {
   "cell_type": "code",
   "execution_count": null,
   "metadata": {},
   "outputs": [],
   "source": [
    "s1 = pd.Series(index=['a', 'b', 'c', 'd'], data=[0, 1, 2, 3])\n",
    "s2 = pd.Series(index=['a', 'b', 'c'], data=[0, 1, 2])"
   ]
  },
  {
   "cell_type": "code",
   "execution_count": null,
   "metadata": {},
   "outputs": [],
   "source": [
    "s1 + s2"
   ]
  },
  {
   "cell_type": "markdown",
   "metadata": {},
   "source": [
    "### Missing index labels in each Series\n",
    "If each of the Series have index labels that do not appear in the other, then they will both be kept in the result with missing values."
   ]
  },
  {
   "cell_type": "code",
   "execution_count": null,
   "metadata": {},
   "outputs": [],
   "source": [
    "s1 = pd.Series(index=['a', 'b', 'c', 'd'], data=[0, 1, 2, 3])\n",
    "s2 = pd.Series(index=['a', 'b', 'c', 'e'], data=[0, 1, 2, 3])"
   ]
  },
  {
   "cell_type": "code",
   "execution_count": null,
   "metadata": {},
   "outputs": [],
   "source": [
    "s1 + s2"
   ]
  },
  {
   "cell_type": "markdown",
   "metadata": {},
   "source": [
    "## Adding Series with duplicate values in the index\n",
    "A big surprise awaits when you add two Series that each share duplicated index labels. Take a look at both Series below. **`s1`** and **`s2`** each have 3 'a', index labels. **`s1`** has 3 'b', 4 'c' and 1 'd' index label while **`s2`** has 2 'b', 1 'c', 1 'e' labels.\n",
    "\n",
    "Let's add them together to see what happens."
   ]
  },
  {
   "cell_type": "code",
   "execution_count": null,
   "metadata": {},
   "outputs": [],
   "source": [
    "s1 = pd.Series(index=['a', 'a', 'a', 'b', 'b', 'b', 'c', 'c', 'c', 'c', 'd'], data=np.arange(11))\n",
    "s2 = pd.Series(index=['a', 'a', 'a', 'b', 'b', 'c', 'e'], data=np.arange(7))"
   ]
  },
  {
   "cell_type": "code",
   "execution_count": null,
   "metadata": {},
   "outputs": [],
   "source": [
    "s1"
   ]
  },
  {
   "cell_type": "code",
   "execution_count": null,
   "metadata": {},
   "outputs": [],
   "source": [
    "s2"
   ]
  },
  {
   "cell_type": "code",
   "execution_count": null,
   "metadata": {},
   "outputs": [],
   "source": [
    "s1 + s2"
   ]
  },
  {
   "cell_type": "code",
   "execution_count": null,
   "metadata": {},
   "outputs": [],
   "source": [
    "len(s1 + s2)"
   ]
  },
  {
   "cell_type": "markdown",
   "metadata": {},
   "source": [
    "### 21 elements in resulting Series?\n",
    "\n",
    "### A Cartesian product has taken place\n",
    "Each index label 'a' from Series **`s1`** aligns with each index label 'a' from **`s2`**. There are 3 'a' labels in each which creates a total of 9 in the result. This is what is meant by a **Cartesian product**. All possible combinations of same index labels in each Series will have a result.\n",
    "\n",
    "Similarly, Series **`s1`** has 3 'b' labels and **`s2`** has 2 'b' for a total of 6 in the result. Simply multiply the count of the labels in each Series together to get the total labels in the result. \n",
    "\n",
    "Label 'c' is found 4 times in **`s1`** and 1 time in **`s2`** for a total of 4 in the result. Labels 'd' and 'e' are unique to each Series so only occur once in the result with a missing value."
   ]
  },
  {
   "cell_type": "markdown",
   "metadata": {},
   "source": [
    "## An exception to Cartesian Product rule\n",
    "If both Series share the exact same index labels then no Cartesian product will occur."
   ]
  },
  {
   "cell_type": "code",
   "execution_count": null,
   "metadata": {},
   "outputs": [],
   "source": [
    "s1 = pd.Series(index=['a', 'a', 'a', 'b', 'b'], data=np.arange(5))\n",
    "s2 = pd.Series(index=['a', 'a', 'a', 'b', 'b'], data=np.arange(5))"
   ]
  },
  {
   "cell_type": "code",
   "execution_count": null,
   "metadata": {},
   "outputs": [],
   "source": [
    "s1 + s2"
   ]
  },
  {
   "cell_type": "markdown",
   "metadata": {},
   "source": [
    "But even if one index label is different than a Cartesian product will happen:"
   ]
  },
  {
   "cell_type": "code",
   "execution_count": null,
   "metadata": {},
   "outputs": [],
   "source": [
    "s1 = pd.Series(index=['a', 'a', 'a', 'b', 'b'], data=np.arange(5))\n",
    "s2 = pd.Series(index=['a', 'a', 'a', 'b', 'b', 'c'], data=np.arange(6))\n",
    "s1 + s2"
   ]
  },
  {
   "cell_type": "markdown",
   "metadata": {},
   "source": [
    "## Cartesian product still happens if order is not the same\n",
    "Even if the index labels share the same number of occurrences in the Series, a Cartesian Product will still happen if the order is different. Below, **`s1`** and **`s2`** have the same number of 'a' and 'b' labels but have a different order for the 3rd and 4th labels."
   ]
  },
  {
   "cell_type": "code",
   "execution_count": null,
   "metadata": {},
   "outputs": [],
   "source": [
    "s1 = pd.Series(index=['a', 'a', 'b', 'a', 'b'], data=np.arange(5))\n",
    "s2 = pd.Series(index=['a', 'a', 'a', 'b', 'b'], data=np.arange(5))\n",
    "s1 + s2"
   ]
  },
  {
   "cell_type": "markdown",
   "metadata": {},
   "source": [
    "## DataFrames align on both their index and columns"
   ]
  },
  {
   "cell_type": "code",
   "execution_count": null,
   "metadata": {},
   "outputs": [],
   "source": [
    "df1 = pd.DataFrame(data={'first': np.arange(4), 'second': np.arange(4)}, index=['a', 'b', 'c', 'd'])\n",
    "df2 = df1.copy()"
   ]
  },
  {
   "cell_type": "markdown",
   "metadata": {},
   "source": [
    "Operations happen as expected whenever index and columns match exactly."
   ]
  },
  {
   "cell_type": "code",
   "execution_count": null,
   "metadata": {},
   "outputs": [],
   "source": [
    "df1 + df2"
   ]
  },
  {
   "cell_type": "markdown",
   "metadata": {},
   "source": [
    "### DataFrame Index alignment\n",
    "The label needs to be present in both DataFrames for a value to be computed or else it will be missing."
   ]
  },
  {
   "cell_type": "code",
   "execution_count": null,
   "metadata": {},
   "outputs": [],
   "source": [
    "df1 = pd.DataFrame(data={'first': np.arange(4), 'second': np.arange(4)}, index=['a', 'b', 'c', 'd'])\n",
    "df2 = pd.DataFrame(data={'first': np.arange(4), 'second': np.arange(4)}, index=['a', 'b', 'c', 'e'])\n",
    "df1"
   ]
  },
  {
   "cell_type": "code",
   "execution_count": null,
   "metadata": {},
   "outputs": [],
   "source": [
    "df2"
   ]
  },
  {
   "cell_type": "code",
   "execution_count": null,
   "metadata": {},
   "outputs": [],
   "source": [
    "df1 + df2"
   ]
  },
  {
   "cell_type": "markdown",
   "metadata": {},
   "source": [
    "### When Columns do not align"
   ]
  },
  {
   "cell_type": "code",
   "execution_count": null,
   "metadata": {},
   "outputs": [],
   "source": [
    "df1 = pd.DataFrame(data={'first': np.arange(4), 'second': np.arange(4)}, index=['a', 'b', 'c', 'd'])\n",
    "df2 = pd.DataFrame(data={'first': np.arange(4), 'third': np.arange(4)}, index=['a', 'b', 'c', 'e'])\n",
    "df1"
   ]
  },
  {
   "cell_type": "code",
   "execution_count": null,
   "metadata": {},
   "outputs": [],
   "source": [
    "df2"
   ]
  },
  {
   "cell_type": "code",
   "execution_count": null,
   "metadata": {},
   "outputs": [],
   "source": [
    "df1 + df2"
   ]
  },
  {
   "cell_type": "markdown",
   "metadata": {},
   "source": [
    "## Cartesian Product over index and columns"
   ]
  },
  {
   "cell_type": "code",
   "execution_count": null,
   "metadata": {},
   "outputs": [],
   "source": [
    "df1 = pd.DataFrame(data=np.random.rand(7, 5), \n",
    "                   index=['a', 'a', 'a', 'b', 'b', 'c', 'f'], \n",
    "                   columns=['first', 'first', 'second', 'second', 'third'])\n",
    "df2 = pd.DataFrame(data=np.random.rand(8, 5), \n",
    "                   index=['a', 'a', 'b', 'b', 'c', 'c', 'd', 'd'],\n",
    "                   columns=['first', 'first', 'first', 'second', 'second'])\n",
    "(df1 + df2).shape"
   ]
  },
  {
   "cell_type": "code",
   "execution_count": null,
   "metadata": {},
   "outputs": [],
   "source": [
    "df2"
   ]
  },
  {
   "cell_type": "code",
   "execution_count": null,
   "metadata": {},
   "outputs": [],
   "source": [
    "df1 + df2"
   ]
  }
 ],
 "metadata": {
  "kernelspec": {
   "display_name": "Python 3",
   "language": "python",
   "name": "python3"
  },
  "language_info": {
   "codemirror_mode": {
    "name": "ipython",
    "version": 3
   },
   "file_extension": ".py",
   "mimetype": "text/x-python",
   "name": "python",
   "nbconvert_exporter": "python",
   "pygments_lexer": "ipython3",
   "version": "3.7.3"
  },
  "varInspector": {
   "cols": {
    "lenName": 16,
    "lenType": 16,
    "lenVar": 40
   },
   "kernels_config": {
    "python": {
     "delete_cmd_postfix": "",
     "delete_cmd_prefix": "del ",
     "library": "var_list.py",
     "varRefreshCmd": "print(var_dic_list())"
    },
    "r": {
     "delete_cmd_postfix": ") ",
     "delete_cmd_prefix": "rm(",
     "library": "var_list.r",
     "varRefreshCmd": "cat(var_dic_list()) "
    }
   },
   "types_to_exclude": [
    "module",
    "function",
    "builtin_function_or_method",
    "instance",
    "_Feature"
   ],
   "window_display": false
  }
 },
 "nbformat": 4,
 "nbformat_minor": 2
}
