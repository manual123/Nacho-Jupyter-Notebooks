{
 "cells": [
  {
   "cell_type": "markdown",
   "metadata": {},
   "source": [
    "# Solutions"
   ]
  },
  {
   "cell_type": "markdown",
   "metadata": {
    "tags": [
     "ignore"
    ]
   },
   "source": [
    "1. Intro to pandas\n",
    "1. [The DataFrame and Series](#2.-The-DataFrame-and-Series)\n",
    "1. [Data Types and Missing Values](#3.-Data-Types-and-Missing-Values)\n",
    "1. [Setting a meaningful index](#4.-Setting-a-meaningful-index)\n",
    "1. Five Step Process for Data Exploration"
   ]
  },
  {
   "cell_type": "markdown",
   "metadata": {},
   "source": [
    "## 2. The DataFrame and Series"
   ]
  },
  {
   "cell_type": "code",
   "execution_count": 1,
   "metadata": {},
   "outputs": [],
   "source": [
    "import pandas as pd\n",
    "import numpy as np\n",
    "\n",
    "pd.options.display.max_columns = 40\n",
    "bikes = pd.read_csv('../data/bikes.csv')"
   ]
  },
  {
   "cell_type": "markdown",
   "metadata": {},
   "source": [
    "### Exercise 1\n",
    "<span  style=\"color:green; font-size:16px\">Select the column `events`, the type of weather that was recorded, and assign it to a variable with the same name. Output the first 10 values of it.</span>"
   ]
  },
  {
   "cell_type": "code",
   "execution_count": 2,
   "metadata": {},
   "outputs": [
    {
     "data": {
      "text/plain": [
       "0    mostlycloudy\n",
       "1    partlycloudy\n",
       "2    mostlycloudy\n",
       "3    mostlycloudy\n",
       "4    partlycloudy\n",
       "5    mostlycloudy\n",
       "6          cloudy\n",
       "7          cloudy\n",
       "8          cloudy\n",
       "9    mostlycloudy\n",
       "Name: events, dtype: object"
      ]
     },
     "execution_count": 2,
     "metadata": {},
     "output_type": "execute_result"
    }
   ],
   "source": [
    "events = bikes['events']\n",
    "events.head(10)"
   ]
  },
  {
   "cell_type": "markdown",
   "metadata": {},
   "source": [
    "### Exercise 2\n",
    "<span  style=\"color:green; font-size:16px\">What type of object is `events`?</span>"
   ]
  },
  {
   "cell_type": "code",
   "execution_count": 3,
   "metadata": {},
   "outputs": [
    {
     "data": {
      "text/plain": [
       "pandas.core.series.Series"
      ]
     },
     "execution_count": 3,
     "metadata": {},
     "output_type": "execute_result"
    }
   ],
   "source": [
    "# it's a Series\n",
    "type(events)"
   ]
  },
  {
   "cell_type": "markdown",
   "metadata": {},
   "source": [
    "### Exercise 3\n",
    "<span  style=\"color:green; font-size:16px\">Select the last two rows of the `bikes` DataFrame and assign it to the variable `bikes_last_2`. What type of object is `bikes_last_2`?</span>"
   ]
  },
  {
   "cell_type": "code",
   "execution_count": 4,
   "metadata": {},
   "outputs": [
    {
     "data": {
      "text/plain": [
       "pandas.core.frame.DataFrame"
      ]
     },
     "execution_count": 4,
     "metadata": {},
     "output_type": "execute_result"
    }
   ],
   "source": [
    "# it's a DataFrame\n",
    "bikes_last_2 = bikes.tail(2)\n",
    "type(bikes_last_2)"
   ]
  },
  {
   "cell_type": "markdown",
   "metadata": {},
   "source": [
    "### Exercise 4\n",
    "\n",
    "<span  style=\"color:green; font-size:16px\">Use `pd.reset_option('all')` to reset the options to their default values. Test that this worked. </span>"
   ]
  },
  {
   "cell_type": "code",
   "execution_count": 5,
   "metadata": {
    "scrolled": true,
    "tags": [
     "run_no_output"
    ]
   },
   "outputs": [
    {
     "name": "stdout",
     "output_type": "stream",
     "text": [
      "\n",
      ": boolean\n",
      "    use_inf_as_null had been deprecated and will be removed in a future\n",
      "    version. Use `use_inf_as_na` instead.\n",
      "\n"
     ]
    },
    {
     "name": "stderr",
     "output_type": "stream",
     "text": [
      "/Users/Ted/miniconda3/envs/minimal_ds/lib/python3.7/site-packages/pandas/_config/config.py:622: FutureWarning: \n",
      ": boolean\n",
      "    use_inf_as_null had been deprecated and will be removed in a future\n",
      "    version. Use `use_inf_as_na` instead.\n",
      "\n",
      "  warnings.warn(d.msg, FutureWarning)\n"
     ]
    }
   ],
   "source": [
    "pd.reset_option('all')"
   ]
  },
  {
   "cell_type": "markdown",
   "metadata": {},
   "source": [
    "## 3. Data Types and Missing Values"
   ]
  },
  {
   "cell_type": "markdown",
   "metadata": {},
   "source": [
    "### Exercise 1\n",
    "<span  style=\"color:green; font-size:16px\">What type of object is returned from the `dtypes` attribute?</span>"
   ]
  },
  {
   "cell_type": "code",
   "execution_count": 6,
   "metadata": {},
   "outputs": [
    {
     "data": {
      "text/plain": [
       "pandas.core.series.Series"
      ]
     },
     "execution_count": 6,
     "metadata": {},
     "output_type": "execute_result"
    }
   ],
   "source": [
    "# a Series\n",
    "type(bikes.dtypes)"
   ]
  },
  {
   "cell_type": "markdown",
   "metadata": {},
   "source": [
    "### Exercise 2\n",
    "<span  style=\"color:green; font-size:16px\">What type of object is returned from the `shape` attribute?</span>"
   ]
  },
  {
   "cell_type": "code",
   "execution_count": 7,
   "metadata": {},
   "outputs": [
    {
     "data": {
      "text/plain": [
       "tuple"
      ]
     },
     "execution_count": 7,
     "metadata": {},
     "output_type": "execute_result"
    }
   ],
   "source": [
    "# a tuple of rows, columns\n",
    "type(bikes.shape)"
   ]
  },
  {
   "cell_type": "markdown",
   "metadata": {},
   "source": [
    "### Exercise 3\n",
    "<span  style=\"color:green; font-size:16px\">What type of object is returned from the `info` method?</span>"
   ]
  },
  {
   "cell_type": "markdown",
   "metadata": {},
   "source": [
    "The object `None` is returned. What you see is just output printed to the screen."
   ]
  },
  {
   "cell_type": "code",
   "execution_count": 8,
   "metadata": {},
   "outputs": [
    {
     "name": "stdout",
     "output_type": "stream",
     "text": [
      "<class 'pandas.core.frame.DataFrame'>\n",
      "RangeIndex: 50089 entries, 0 to 50088\n",
      "Data columns (total 19 columns):\n",
      "trip_id              50089 non-null int64\n",
      "usertype             50089 non-null object\n",
      "gender               50089 non-null object\n",
      "starttime            50089 non-null object\n",
      "stoptime             50089 non-null object\n",
      "tripduration         50089 non-null int64\n",
      "from_station_name    50089 non-null object\n",
      "latitude_start       50083 non-null float64\n",
      "longitude_start      50083 non-null float64\n",
      "dpcapacity_start     50083 non-null float64\n",
      "to_station_name      50089 non-null object\n",
      "latitude_end         50077 non-null float64\n",
      "longitude_end        50077 non-null float64\n",
      "dpcapacity_end       50077 non-null float64\n",
      "temperature          50089 non-null float64\n",
      "visibility           50089 non-null float64\n",
      "wind_speed           50089 non-null float64\n",
      "precipitation        50089 non-null float64\n",
      "events               50089 non-null object\n",
      "dtypes: float64(10), int64(2), object(7)\n",
      "memory usage: 7.3+ MB\n"
     ]
    }
   ],
   "source": [
    "info_return = bikes.info()"
   ]
  },
  {
   "cell_type": "code",
   "execution_count": 9,
   "metadata": {},
   "outputs": [
    {
     "data": {
      "text/plain": [
       "NoneType"
      ]
     },
     "execution_count": 9,
     "metadata": {},
     "output_type": "execute_result"
    }
   ],
   "source": [
    "type(info_return)"
   ]
  },
  {
   "cell_type": "markdown",
   "metadata": {},
   "source": [
    "### Exercise 4\n",
    "<span  style=\"color:green; font-size:16px\">The memory usage from the `info` method isn't correct when you have objects in your DataFrame. Read the docstrings from it and get the true memory usage.</span>"
   ]
  },
  {
   "cell_type": "code",
   "execution_count": 10,
   "metadata": {},
   "outputs": [
    {
     "name": "stdout",
     "output_type": "stream",
     "text": [
      "<class 'pandas.core.frame.DataFrame'>\n",
      "RangeIndex: 50089 entries, 0 to 50088\n",
      "Data columns (total 19 columns):\n",
      "trip_id              50089 non-null int64\n",
      "usertype             50089 non-null object\n",
      "gender               50089 non-null object\n",
      "starttime            50089 non-null object\n",
      "stoptime             50089 non-null object\n",
      "tripduration         50089 non-null int64\n",
      "from_station_name    50089 non-null object\n",
      "latitude_start       50083 non-null float64\n",
      "longitude_start      50083 non-null float64\n",
      "dpcapacity_start     50083 non-null float64\n",
      "to_station_name      50089 non-null object\n",
      "latitude_end         50077 non-null float64\n",
      "longitude_end        50077 non-null float64\n",
      "dpcapacity_end       50077 non-null float64\n",
      "temperature          50089 non-null float64\n",
      "visibility           50089 non-null float64\n",
      "wind_speed           50089 non-null float64\n",
      "precipitation        50089 non-null float64\n",
      "events               50089 non-null object\n",
      "dtypes: float64(10), int64(2), object(7)\n",
      "memory usage: 28.9 MB\n"
     ]
    }
   ],
   "source": [
    "bikes.info(memory_usage='deep')"
   ]
  },
  {
   "cell_type": "markdown",
   "metadata": {},
   "source": [
    "## 4. Setting a meaningful index"
   ]
  },
  {
   "cell_type": "markdown",
   "metadata": {},
   "source": [
    "### Exercise 1\n",
    "<span  style=\"color:green; font-size:16px\">Read in the movie dataset and set the index to be something other than movie title. Are there any other good columns to use as an index?</span>"
   ]
  },
  {
   "cell_type": "code",
   "execution_count": 11,
   "metadata": {},
   "outputs": [
    {
     "data": {
      "text/html": [
       "<div>\n",
       "<style scoped>\n",
       "    .dataframe tbody tr th:only-of-type {\n",
       "        vertical-align: middle;\n",
       "    }\n",
       "\n",
       "    .dataframe tbody tr th {\n",
       "        vertical-align: top;\n",
       "    }\n",
       "\n",
       "    .dataframe thead th {\n",
       "        text-align: right;\n",
       "    }\n",
       "</style>\n",
       "<table border=\"1\" class=\"dataframe\">\n",
       "  <thead>\n",
       "    <tr style=\"text-align: right;\">\n",
       "      <th></th>\n",
       "      <th>title</th>\n",
       "      <th>year</th>\n",
       "      <th>color</th>\n",
       "      <th>content_rating</th>\n",
       "      <th>duration</th>\n",
       "      <th>director_fb</th>\n",
       "      <th>actor1</th>\n",
       "      <th>actor1_fb</th>\n",
       "      <th>actor2</th>\n",
       "      <th>actor2_fb</th>\n",
       "      <th>...</th>\n",
       "      <th>actor3_fb</th>\n",
       "      <th>gross</th>\n",
       "      <th>genres</th>\n",
       "      <th>num_reviews</th>\n",
       "      <th>num_voted_users</th>\n",
       "      <th>plot_keywords</th>\n",
       "      <th>language</th>\n",
       "      <th>country</th>\n",
       "      <th>budget</th>\n",
       "      <th>imdb_score</th>\n",
       "    </tr>\n",
       "    <tr>\n",
       "      <th>director_name</th>\n",
       "      <th></th>\n",
       "      <th></th>\n",
       "      <th></th>\n",
       "      <th></th>\n",
       "      <th></th>\n",
       "      <th></th>\n",
       "      <th></th>\n",
       "      <th></th>\n",
       "      <th></th>\n",
       "      <th></th>\n",
       "      <th></th>\n",
       "      <th></th>\n",
       "      <th></th>\n",
       "      <th></th>\n",
       "      <th></th>\n",
       "      <th></th>\n",
       "      <th></th>\n",
       "      <th></th>\n",
       "      <th></th>\n",
       "      <th></th>\n",
       "      <th></th>\n",
       "    </tr>\n",
       "  </thead>\n",
       "  <tbody>\n",
       "    <tr>\n",
       "      <td>James Cameron</td>\n",
       "      <td>Avatar</td>\n",
       "      <td>2009.0</td>\n",
       "      <td>Color</td>\n",
       "      <td>PG-13</td>\n",
       "      <td>178.0</td>\n",
       "      <td>0.0</td>\n",
       "      <td>CCH Pounder</td>\n",
       "      <td>1000.0</td>\n",
       "      <td>Joel David Moore</td>\n",
       "      <td>936.0</td>\n",
       "      <td>...</td>\n",
       "      <td>855.0</td>\n",
       "      <td>760505847.0</td>\n",
       "      <td>Action|Adventure|Fantasy|Sci-Fi</td>\n",
       "      <td>723.0</td>\n",
       "      <td>886204</td>\n",
       "      <td>avatar|future|marine|native|paraplegic</td>\n",
       "      <td>English</td>\n",
       "      <td>USA</td>\n",
       "      <td>237000000.0</td>\n",
       "      <td>7.9</td>\n",
       "    </tr>\n",
       "    <tr>\n",
       "      <td>Gore Verbinski</td>\n",
       "      <td>Pirates of the Caribbean: At World's End</td>\n",
       "      <td>2007.0</td>\n",
       "      <td>Color</td>\n",
       "      <td>PG-13</td>\n",
       "      <td>169.0</td>\n",
       "      <td>563.0</td>\n",
       "      <td>Johnny Depp</td>\n",
       "      <td>40000.0</td>\n",
       "      <td>Orlando Bloom</td>\n",
       "      <td>5000.0</td>\n",
       "      <td>...</td>\n",
       "      <td>1000.0</td>\n",
       "      <td>309404152.0</td>\n",
       "      <td>Action|Adventure|Fantasy</td>\n",
       "      <td>302.0</td>\n",
       "      <td>471220</td>\n",
       "      <td>goddess|marriage ceremony|marriage proposal|pi...</td>\n",
       "      <td>English</td>\n",
       "      <td>USA</td>\n",
       "      <td>300000000.0</td>\n",
       "      <td>7.1</td>\n",
       "    </tr>\n",
       "    <tr>\n",
       "      <td>Sam Mendes</td>\n",
       "      <td>Spectre</td>\n",
       "      <td>2015.0</td>\n",
       "      <td>Color</td>\n",
       "      <td>PG-13</td>\n",
       "      <td>148.0</td>\n",
       "      <td>0.0</td>\n",
       "      <td>Christoph Waltz</td>\n",
       "      <td>11000.0</td>\n",
       "      <td>Rory Kinnear</td>\n",
       "      <td>393.0</td>\n",
       "      <td>...</td>\n",
       "      <td>161.0</td>\n",
       "      <td>200074175.0</td>\n",
       "      <td>Action|Adventure|Thriller</td>\n",
       "      <td>602.0</td>\n",
       "      <td>275868</td>\n",
       "      <td>bomb|espionage|sequel|spy|terrorist</td>\n",
       "      <td>English</td>\n",
       "      <td>UK</td>\n",
       "      <td>245000000.0</td>\n",
       "      <td>6.8</td>\n",
       "    </tr>\n",
       "  </tbody>\n",
       "</table>\n",
       "<p>3 rows × 21 columns</p>\n",
       "</div>"
      ],
      "text/plain": [
       "                                                   title    year  color  \\\n",
       "director_name                                                             \n",
       "James Cameron                                     Avatar  2009.0  Color   \n",
       "Gore Verbinski  Pirates of the Caribbean: At World's End  2007.0  Color   \n",
       "Sam Mendes                                       Spectre  2015.0  Color   \n",
       "\n",
       "               content_rating  duration  director_fb           actor1  \\\n",
       "director_name                                                           \n",
       "James Cameron           PG-13     178.0          0.0      CCH Pounder   \n",
       "Gore Verbinski          PG-13     169.0        563.0      Johnny Depp   \n",
       "Sam Mendes              PG-13     148.0          0.0  Christoph Waltz   \n",
       "\n",
       "                actor1_fb            actor2  actor2_fb  ... actor3_fb  \\\n",
       "director_name                                           ...             \n",
       "James Cameron      1000.0  Joel David Moore      936.0  ...     855.0   \n",
       "Gore Verbinski    40000.0     Orlando Bloom     5000.0  ...    1000.0   \n",
       "Sam Mendes        11000.0      Rory Kinnear      393.0  ...     161.0   \n",
       "\n",
       "                      gross                           genres num_reviews  \\\n",
       "director_name                                                              \n",
       "James Cameron   760505847.0  Action|Adventure|Fantasy|Sci-Fi       723.0   \n",
       "Gore Verbinski  309404152.0         Action|Adventure|Fantasy       302.0   \n",
       "Sam Mendes      200074175.0        Action|Adventure|Thriller       602.0   \n",
       "\n",
       "                num_voted_users  \\\n",
       "director_name                     \n",
       "James Cameron            886204   \n",
       "Gore Verbinski           471220   \n",
       "Sam Mendes               275868   \n",
       "\n",
       "                                                    plot_keywords language  \\\n",
       "director_name                                                                \n",
       "James Cameron              avatar|future|marine|native|paraplegic  English   \n",
       "Gore Verbinski  goddess|marriage ceremony|marriage proposal|pi...  English   \n",
       "Sam Mendes                    bomb|espionage|sequel|spy|terrorist  English   \n",
       "\n",
       "               country       budget  imdb_score  \n",
       "director_name                                    \n",
       "James Cameron      USA  237000000.0         7.9  \n",
       "Gore Verbinski     USA  300000000.0         7.1  \n",
       "Sam Mendes          UK  245000000.0         6.8  \n",
       "\n",
       "[3 rows x 21 columns]"
      ]
     },
     "execution_count": 11,
     "metadata": {},
     "output_type": "execute_result"
    }
   ],
   "source": [
    "movies = pd.read_csv('../data/movie.csv', index_col='director_name')\n",
    "movies.head(3)"
   ]
  },
  {
   "cell_type": "markdown",
   "metadata": {},
   "source": [
    "Director name isn't unique. There aren't any other good column names to use as an index."
   ]
  },
  {
   "cell_type": "markdown",
   "metadata": {},
   "source": [
    "### Exercise 2\n",
    "<span  style=\"color:green; font-size:16px\">Use `set_index` to set the index and keep the column as part of the data. Read the docstrings to find the parameter that controls this functionality.</span>"
   ]
  },
  {
   "cell_type": "code",
   "execution_count": 12,
   "metadata": {},
   "outputs": [
    {
     "data": {
      "text/html": [
       "<div>\n",
       "<style scoped>\n",
       "    .dataframe tbody tr th:only-of-type {\n",
       "        vertical-align: middle;\n",
       "    }\n",
       "\n",
       "    .dataframe tbody tr th {\n",
       "        vertical-align: top;\n",
       "    }\n",
       "\n",
       "    .dataframe thead th {\n",
       "        text-align: right;\n",
       "    }\n",
       "</style>\n",
       "<table border=\"1\" class=\"dataframe\">\n",
       "  <thead>\n",
       "    <tr style=\"text-align: right;\">\n",
       "      <th></th>\n",
       "      <th>title</th>\n",
       "      <th>year</th>\n",
       "      <th>color</th>\n",
       "      <th>content_rating</th>\n",
       "      <th>duration</th>\n",
       "      <th>director_name</th>\n",
       "      <th>director_fb</th>\n",
       "      <th>actor1</th>\n",
       "      <th>actor1_fb</th>\n",
       "      <th>actor2</th>\n",
       "      <th>...</th>\n",
       "      <th>actor3_fb</th>\n",
       "      <th>gross</th>\n",
       "      <th>genres</th>\n",
       "      <th>num_reviews</th>\n",
       "      <th>num_voted_users</th>\n",
       "      <th>plot_keywords</th>\n",
       "      <th>language</th>\n",
       "      <th>country</th>\n",
       "      <th>budget</th>\n",
       "      <th>imdb_score</th>\n",
       "    </tr>\n",
       "    <tr>\n",
       "      <th>title</th>\n",
       "      <th></th>\n",
       "      <th></th>\n",
       "      <th></th>\n",
       "      <th></th>\n",
       "      <th></th>\n",
       "      <th></th>\n",
       "      <th></th>\n",
       "      <th></th>\n",
       "      <th></th>\n",
       "      <th></th>\n",
       "      <th></th>\n",
       "      <th></th>\n",
       "      <th></th>\n",
       "      <th></th>\n",
       "      <th></th>\n",
       "      <th></th>\n",
       "      <th></th>\n",
       "      <th></th>\n",
       "      <th></th>\n",
       "      <th></th>\n",
       "      <th></th>\n",
       "    </tr>\n",
       "  </thead>\n",
       "  <tbody>\n",
       "    <tr>\n",
       "      <td>Avatar</td>\n",
       "      <td>Avatar</td>\n",
       "      <td>2009.0</td>\n",
       "      <td>Color</td>\n",
       "      <td>PG-13</td>\n",
       "      <td>178.0</td>\n",
       "      <td>James Cameron</td>\n",
       "      <td>0.0</td>\n",
       "      <td>CCH Pounder</td>\n",
       "      <td>1000.0</td>\n",
       "      <td>Joel David Moore</td>\n",
       "      <td>...</td>\n",
       "      <td>855.0</td>\n",
       "      <td>760505847.0</td>\n",
       "      <td>Action|Adventure|Fantasy|Sci-Fi</td>\n",
       "      <td>723.0</td>\n",
       "      <td>886204</td>\n",
       "      <td>avatar|future|marine|native|paraplegic</td>\n",
       "      <td>English</td>\n",
       "      <td>USA</td>\n",
       "      <td>237000000.0</td>\n",
       "      <td>7.9</td>\n",
       "    </tr>\n",
       "    <tr>\n",
       "      <td>Pirates of the Caribbean: At World's End</td>\n",
       "      <td>Pirates of the Caribbean: At World's End</td>\n",
       "      <td>2007.0</td>\n",
       "      <td>Color</td>\n",
       "      <td>PG-13</td>\n",
       "      <td>169.0</td>\n",
       "      <td>Gore Verbinski</td>\n",
       "      <td>563.0</td>\n",
       "      <td>Johnny Depp</td>\n",
       "      <td>40000.0</td>\n",
       "      <td>Orlando Bloom</td>\n",
       "      <td>...</td>\n",
       "      <td>1000.0</td>\n",
       "      <td>309404152.0</td>\n",
       "      <td>Action|Adventure|Fantasy</td>\n",
       "      <td>302.0</td>\n",
       "      <td>471220</td>\n",
       "      <td>goddess|marriage ceremony|marriage proposal|pi...</td>\n",
       "      <td>English</td>\n",
       "      <td>USA</td>\n",
       "      <td>300000000.0</td>\n",
       "      <td>7.1</td>\n",
       "    </tr>\n",
       "    <tr>\n",
       "      <td>Spectre</td>\n",
       "      <td>Spectre</td>\n",
       "      <td>2015.0</td>\n",
       "      <td>Color</td>\n",
       "      <td>PG-13</td>\n",
       "      <td>148.0</td>\n",
       "      <td>Sam Mendes</td>\n",
       "      <td>0.0</td>\n",
       "      <td>Christoph Waltz</td>\n",
       "      <td>11000.0</td>\n",
       "      <td>Rory Kinnear</td>\n",
       "      <td>...</td>\n",
       "      <td>161.0</td>\n",
       "      <td>200074175.0</td>\n",
       "      <td>Action|Adventure|Thriller</td>\n",
       "      <td>602.0</td>\n",
       "      <td>275868</td>\n",
       "      <td>bomb|espionage|sequel|spy|terrorist</td>\n",
       "      <td>English</td>\n",
       "      <td>UK</td>\n",
       "      <td>245000000.0</td>\n",
       "      <td>6.8</td>\n",
       "    </tr>\n",
       "  </tbody>\n",
       "</table>\n",
       "<p>3 rows × 22 columns</p>\n",
       "</div>"
      ],
      "text/plain": [
       "                                                                             title  \\\n",
       "title                                                                                \n",
       "Avatar                                                                      Avatar   \n",
       "Pirates of the Caribbean: At World's End  Pirates of the Caribbean: At World's End   \n",
       "Spectre                                                                    Spectre   \n",
       "\n",
       "                                            year  color content_rating  \\\n",
       "title                                                                    \n",
       "Avatar                                    2009.0  Color          PG-13   \n",
       "Pirates of the Caribbean: At World's End  2007.0  Color          PG-13   \n",
       "Spectre                                   2015.0  Color          PG-13   \n",
       "\n",
       "                                          duration   director_name  \\\n",
       "title                                                                \n",
       "Avatar                                       178.0   James Cameron   \n",
       "Pirates of the Caribbean: At World's End     169.0  Gore Verbinski   \n",
       "Spectre                                      148.0      Sam Mendes   \n",
       "\n",
       "                                          director_fb           actor1  \\\n",
       "title                                                                    \n",
       "Avatar                                            0.0      CCH Pounder   \n",
       "Pirates of the Caribbean: At World's End        563.0      Johnny Depp   \n",
       "Spectre                                           0.0  Christoph Waltz   \n",
       "\n",
       "                                          actor1_fb            actor2  ...  \\\n",
       "title                                                                  ...   \n",
       "Avatar                                       1000.0  Joel David Moore  ...   \n",
       "Pirates of the Caribbean: At World's End    40000.0     Orlando Bloom  ...   \n",
       "Spectre                                     11000.0      Rory Kinnear  ...   \n",
       "\n",
       "                                          actor3_fb        gross  \\\n",
       "title                                                              \n",
       "Avatar                                        855.0  760505847.0   \n",
       "Pirates of the Caribbean: At World's End     1000.0  309404152.0   \n",
       "Spectre                                       161.0  200074175.0   \n",
       "\n",
       "                                                                   genres  \\\n",
       "title                                                                       \n",
       "Avatar                                    Action|Adventure|Fantasy|Sci-Fi   \n",
       "Pirates of the Caribbean: At World's End         Action|Adventure|Fantasy   \n",
       "Spectre                                         Action|Adventure|Thriller   \n",
       "\n",
       "                                          num_reviews num_voted_users  \\\n",
       "title                                                                   \n",
       "Avatar                                          723.0          886204   \n",
       "Pirates of the Caribbean: At World's End        302.0          471220   \n",
       "Spectre                                         602.0          275868   \n",
       "\n",
       "                                                                              plot_keywords  \\\n",
       "title                                                                                         \n",
       "Avatar                                               avatar|future|marine|native|paraplegic   \n",
       "Pirates of the Caribbean: At World's End  goddess|marriage ceremony|marriage proposal|pi...   \n",
       "Spectre                                                 bomb|espionage|sequel|spy|terrorist   \n",
       "\n",
       "                                          language country       budget  \\\n",
       "title                                                                     \n",
       "Avatar                                     English     USA  237000000.0   \n",
       "Pirates of the Caribbean: At World's End   English     USA  300000000.0   \n",
       "Spectre                                    English      UK  245000000.0   \n",
       "\n",
       "                                         imdb_score  \n",
       "title                                                \n",
       "Avatar                                          7.9  \n",
       "Pirates of the Caribbean: At World's End        7.1  \n",
       "Spectre                                         6.8  \n",
       "\n",
       "[3 rows x 22 columns]"
      ]
     },
     "execution_count": 12,
     "metadata": {},
     "output_type": "execute_result"
    }
   ],
   "source": [
    "movies = pd.read_csv('../data/movie.csv')\n",
    "movies = movies.set_index('title', drop=False)\n",
    "movies.head(3)"
   ]
  },
  {
   "cell_type": "markdown",
   "metadata": {},
   "source": [
    "### Exercise 3\n",
    "<span  style=\"color:green; font-size:16px\">Read in the movie DataFrame and set the index as the title column. Assign the index to its own variable and output the last 10 movies titles.</span>"
   ]
  },
  {
   "cell_type": "code",
   "execution_count": 13,
   "metadata": {},
   "outputs": [
    {
     "data": {
      "text/plain": [
       "Index(['Primer', 'Cavite', 'El Mariachi', 'The Mongol King', 'Newlyweds',\n",
       "       'Signed Sealed Delivered', 'The Following', 'A Plague So Pleasant',\n",
       "       'Shanghai Calling', 'My Date with Drew'],\n",
       "      dtype='object', name='title')"
      ]
     },
     "execution_count": 13,
     "metadata": {},
     "output_type": "execute_result"
    }
   ],
   "source": [
    "movies = pd.read_csv('../data/movie.csv', index_col='title')\n",
    "index = movies.index\n",
    "index[-10:]"
   ]
  },
  {
   "cell_type": "markdown",
   "metadata": {},
   "source": [
    "### Exercise 4\n",
    "<span  style=\"color:green; font-size:16px\">Use an integer instead of the column name for `index_col` when reading in the data using `read_csv`. What does it do?</span>"
   ]
  },
  {
   "cell_type": "code",
   "execution_count": 14,
   "metadata": {},
   "outputs": [
    {
     "data": {
      "text/html": [
       "<div>\n",
       "<style scoped>\n",
       "    .dataframe tbody tr th:only-of-type {\n",
       "        vertical-align: middle;\n",
       "    }\n",
       "\n",
       "    .dataframe tbody tr th {\n",
       "        vertical-align: top;\n",
       "    }\n",
       "\n",
       "    .dataframe thead th {\n",
       "        text-align: right;\n",
       "    }\n",
       "</style>\n",
       "<table border=\"1\" class=\"dataframe\">\n",
       "  <thead>\n",
       "    <tr style=\"text-align: right;\">\n",
       "      <th></th>\n",
       "      <th>title</th>\n",
       "      <th>year</th>\n",
       "      <th>color</th>\n",
       "      <th>content_rating</th>\n",
       "      <th>duration</th>\n",
       "      <th>director_name</th>\n",
       "      <th>director_fb</th>\n",
       "      <th>actor1</th>\n",
       "      <th>actor1_fb</th>\n",
       "      <th>actor2</th>\n",
       "      <th>...</th>\n",
       "      <th>actor3</th>\n",
       "      <th>actor3_fb</th>\n",
       "      <th>gross</th>\n",
       "      <th>genres</th>\n",
       "      <th>num_reviews</th>\n",
       "      <th>num_voted_users</th>\n",
       "      <th>language</th>\n",
       "      <th>country</th>\n",
       "      <th>budget</th>\n",
       "      <th>imdb_score</th>\n",
       "    </tr>\n",
       "    <tr>\n",
       "      <th>plot_keywords</th>\n",
       "      <th></th>\n",
       "      <th></th>\n",
       "      <th></th>\n",
       "      <th></th>\n",
       "      <th></th>\n",
       "      <th></th>\n",
       "      <th></th>\n",
       "      <th></th>\n",
       "      <th></th>\n",
       "      <th></th>\n",
       "      <th></th>\n",
       "      <th></th>\n",
       "      <th></th>\n",
       "      <th></th>\n",
       "      <th></th>\n",
       "      <th></th>\n",
       "      <th></th>\n",
       "      <th></th>\n",
       "      <th></th>\n",
       "      <th></th>\n",
       "      <th></th>\n",
       "    </tr>\n",
       "  </thead>\n",
       "  <tbody>\n",
       "    <tr>\n",
       "      <td>avatar|future|marine|native|paraplegic</td>\n",
       "      <td>Avatar</td>\n",
       "      <td>2009.0</td>\n",
       "      <td>Color</td>\n",
       "      <td>PG-13</td>\n",
       "      <td>178.0</td>\n",
       "      <td>James Cameron</td>\n",
       "      <td>0.0</td>\n",
       "      <td>CCH Pounder</td>\n",
       "      <td>1000.0</td>\n",
       "      <td>Joel David Moore</td>\n",
       "      <td>...</td>\n",
       "      <td>Wes Studi</td>\n",
       "      <td>855.0</td>\n",
       "      <td>760505847.0</td>\n",
       "      <td>Action|Adventure|Fantasy|Sci-Fi</td>\n",
       "      <td>723.0</td>\n",
       "      <td>886204</td>\n",
       "      <td>English</td>\n",
       "      <td>USA</td>\n",
       "      <td>237000000.0</td>\n",
       "      <td>7.9</td>\n",
       "    </tr>\n",
       "    <tr>\n",
       "      <td>goddess|marriage ceremony|marriage proposal|pirate|singapore</td>\n",
       "      <td>Pirates of the Caribbean: At World's End</td>\n",
       "      <td>2007.0</td>\n",
       "      <td>Color</td>\n",
       "      <td>PG-13</td>\n",
       "      <td>169.0</td>\n",
       "      <td>Gore Verbinski</td>\n",
       "      <td>563.0</td>\n",
       "      <td>Johnny Depp</td>\n",
       "      <td>40000.0</td>\n",
       "      <td>Orlando Bloom</td>\n",
       "      <td>...</td>\n",
       "      <td>Jack Davenport</td>\n",
       "      <td>1000.0</td>\n",
       "      <td>309404152.0</td>\n",
       "      <td>Action|Adventure|Fantasy</td>\n",
       "      <td>302.0</td>\n",
       "      <td>471220</td>\n",
       "      <td>English</td>\n",
       "      <td>USA</td>\n",
       "      <td>300000000.0</td>\n",
       "      <td>7.1</td>\n",
       "    </tr>\n",
       "    <tr>\n",
       "      <td>bomb|espionage|sequel|spy|terrorist</td>\n",
       "      <td>Spectre</td>\n",
       "      <td>2015.0</td>\n",
       "      <td>Color</td>\n",
       "      <td>PG-13</td>\n",
       "      <td>148.0</td>\n",
       "      <td>Sam Mendes</td>\n",
       "      <td>0.0</td>\n",
       "      <td>Christoph Waltz</td>\n",
       "      <td>11000.0</td>\n",
       "      <td>Rory Kinnear</td>\n",
       "      <td>...</td>\n",
       "      <td>Stephanie Sigman</td>\n",
       "      <td>161.0</td>\n",
       "      <td>200074175.0</td>\n",
       "      <td>Action|Adventure|Thriller</td>\n",
       "      <td>602.0</td>\n",
       "      <td>275868</td>\n",
       "      <td>English</td>\n",
       "      <td>UK</td>\n",
       "      <td>245000000.0</td>\n",
       "      <td>6.8</td>\n",
       "    </tr>\n",
       "  </tbody>\n",
       "</table>\n",
       "<p>3 rows × 21 columns</p>\n",
       "</div>"
      ],
      "text/plain": [
       "                                                                                       title  \\\n",
       "plot_keywords                                                                                  \n",
       "avatar|future|marine|native|paraplegic                                                Avatar   \n",
       "goddess|marriage ceremony|marriage proposal|pir...  Pirates of the Caribbean: At World's End   \n",
       "bomb|espionage|sequel|spy|terrorist                                                  Spectre   \n",
       "\n",
       "                                                      year  color  \\\n",
       "plot_keywords                                                       \n",
       "avatar|future|marine|native|paraplegic              2009.0  Color   \n",
       "goddess|marriage ceremony|marriage proposal|pir...  2007.0  Color   \n",
       "bomb|espionage|sequel|spy|terrorist                 2015.0  Color   \n",
       "\n",
       "                                                   content_rating  duration  \\\n",
       "plot_keywords                                                                 \n",
       "avatar|future|marine|native|paraplegic                      PG-13     178.0   \n",
       "goddess|marriage ceremony|marriage proposal|pir...          PG-13     169.0   \n",
       "bomb|espionage|sequel|spy|terrorist                         PG-13     148.0   \n",
       "\n",
       "                                                     director_name  \\\n",
       "plot_keywords                                                        \n",
       "avatar|future|marine|native|paraplegic               James Cameron   \n",
       "goddess|marriage ceremony|marriage proposal|pir...  Gore Verbinski   \n",
       "bomb|espionage|sequel|spy|terrorist                     Sam Mendes   \n",
       "\n",
       "                                                    director_fb  \\\n",
       "plot_keywords                                                     \n",
       "avatar|future|marine|native|paraplegic                      0.0   \n",
       "goddess|marriage ceremony|marriage proposal|pir...        563.0   \n",
       "bomb|espionage|sequel|spy|terrorist                         0.0   \n",
       "\n",
       "                                                             actor1  \\\n",
       "plot_keywords                                                         \n",
       "avatar|future|marine|native|paraplegic                  CCH Pounder   \n",
       "goddess|marriage ceremony|marriage proposal|pir...      Johnny Depp   \n",
       "bomb|espionage|sequel|spy|terrorist                 Christoph Waltz   \n",
       "\n",
       "                                                    actor1_fb  \\\n",
       "plot_keywords                                                   \n",
       "avatar|future|marine|native|paraplegic                 1000.0   \n",
       "goddess|marriage ceremony|marriage proposal|pir...    40000.0   \n",
       "bomb|espionage|sequel|spy|terrorist                   11000.0   \n",
       "\n",
       "                                                              actor2  ...  \\\n",
       "plot_keywords                                                         ...   \n",
       "avatar|future|marine|native|paraplegic              Joel David Moore  ...   \n",
       "goddess|marriage ceremony|marriage proposal|pir...     Orlando Bloom  ...   \n",
       "bomb|espionage|sequel|spy|terrorist                     Rory Kinnear  ...   \n",
       "\n",
       "                                                              actor3  \\\n",
       "plot_keywords                                                          \n",
       "avatar|future|marine|native|paraplegic                     Wes Studi   \n",
       "goddess|marriage ceremony|marriage proposal|pir...    Jack Davenport   \n",
       "bomb|espionage|sequel|spy|terrorist                 Stephanie Sigman   \n",
       "\n",
       "                                                   actor3_fb        gross  \\\n",
       "plot_keywords                                                               \n",
       "avatar|future|marine|native|paraplegic                 855.0  760505847.0   \n",
       "goddess|marriage ceremony|marriage proposal|pir...    1000.0  309404152.0   \n",
       "bomb|espionage|sequel|spy|terrorist                    161.0  200074175.0   \n",
       "\n",
       "                                                                             genres  \\\n",
       "plot_keywords                                                                         \n",
       "avatar|future|marine|native|paraplegic              Action|Adventure|Fantasy|Sci-Fi   \n",
       "goddess|marriage ceremony|marriage proposal|pir...         Action|Adventure|Fantasy   \n",
       "bomb|espionage|sequel|spy|terrorist                       Action|Adventure|Thriller   \n",
       "\n",
       "                                                   num_reviews  \\\n",
       "plot_keywords                                                    \n",
       "avatar|future|marine|native|paraplegic                   723.0   \n",
       "goddess|marriage ceremony|marriage proposal|pir...       302.0   \n",
       "bomb|espionage|sequel|spy|terrorist                      602.0   \n",
       "\n",
       "                                                    num_voted_users  language  \\\n",
       "plot_keywords                                                                   \n",
       "avatar|future|marine|native|paraplegic                       886204   English   \n",
       "goddess|marriage ceremony|marriage proposal|pir...           471220   English   \n",
       "bomb|espionage|sequel|spy|terrorist                          275868   English   \n",
       "\n",
       "                                                   country       budget  \\\n",
       "plot_keywords                                                             \n",
       "avatar|future|marine|native|paraplegic                 USA  237000000.0   \n",
       "goddess|marriage ceremony|marriage proposal|pir...     USA  300000000.0   \n",
       "bomb|espionage|sequel|spy|terrorist                     UK  245000000.0   \n",
       "\n",
       "                                                    imdb_score  \n",
       "plot_keywords                                                   \n",
       "avatar|future|marine|native|paraplegic                     7.9  \n",
       "goddess|marriage ceremony|marriage proposal|pir...         7.1  \n",
       "bomb|espionage|sequel|spy|terrorist                        6.8  \n",
       "\n",
       "[3 rows x 21 columns]"
      ]
     },
     "execution_count": 14,
     "metadata": {},
     "output_type": "execute_result"
    }
   ],
   "source": [
    "movies = pd.read_csv('../data/movie.csv', index_col=-5)\n",
    "movies.head(3)"
   ]
  },
  {
   "cell_type": "markdown",
   "metadata": {},
   "source": [
    "It chooses the column name with that integer location."
   ]
  }
 ],
 "metadata": {
  "anaconda-cloud": {},
  "kernelspec": {
   "display_name": "Python 3",
   "language": "python",
   "name": "python3"
  },
  "language_info": {
   "codemirror_mode": {
    "name": "ipython",
    "version": 3
   },
   "file_extension": ".py",
   "mimetype": "text/x-python",
   "name": "python",
   "nbconvert_exporter": "python",
   "pygments_lexer": "ipython3",
   "version": "3.7.3"
  },
  "varInspector": {
   "cols": {
    "lenName": 16,
    "lenType": 16,
    "lenVar": 40
   },
   "kernels_config": {
    "python": {
     "delete_cmd_postfix": "",
     "delete_cmd_prefix": "del ",
     "library": "var_list.py",
     "varRefreshCmd": "print(var_dic_list())"
    },
    "r": {
     "delete_cmd_postfix": ") ",
     "delete_cmd_prefix": "rm(",
     "library": "var_list.r",
     "varRefreshCmd": "cat(var_dic_list()) "
    }
   },
   "types_to_exclude": [
    "module",
    "function",
    "builtin_function_or_method",
    "instance",
    "_Feature"
   ],
   "window_display": false
  }
 },
 "nbformat": 4,
 "nbformat_minor": 2
}
