{
 "cells": [
  {
   "cell_type": "markdown",
   "metadata": {},
   "source": [
    "# Scrape Diamonds\n",
    "Find web request URL that site is using to get data. This is found in network tab of developers tools. Only 20 rows at a time are possible. The `rowStart` steps 20 each iteration."
   ]
  },
  {
   "cell_type": "code",
   "execution_count": 8,
   "metadata": {},
   "outputs": [],
   "source": [
    "import pandas as pd\n",
    "import requests\n",
    "\n",
    "url = 'http://www.diamondse.info/webService.php?shape=none&minCarat=0.2&maxCarat=30&minColor=1'\\\n",
    "      '&maxColor=9&minPrice=100&maxPrice=100000&minCut=5&maxCut=1&minClarity=1&maxClarity=10'\\\n",
    "      '&minDepth=0&maxDepth=90&minWidth=0&maxWidth=90&gia=1&ags=1&egl=0&oth=0&currency=USD'\\\n",
    "      '&rowStart={}&sortCol=price&sortDir=DESC'\n",
    "\n",
    "dfs = []\n",
    "start = 0\n",
    "step = 20\n",
    "pages = 10000\n",
    "stop = step * pages\n",
    "for row in range(start, stop, step):\n",
    "    if row % 1000 == 0:\n",
    "        print(row)\n",
    "    r = requests.get(url.format(row))\n",
    "    table = f\"<table>{r.text}</table>\"\n",
    "    dfs.extend(pd.read_html(table))"
   ]
  },
  {
   "cell_type": "code",
   "execution_count": 5,
   "metadata": {},
   "outputs": [
    {
     "data": {
      "text/html": [
       "<div>\n",
       "<style scoped>\n",
       "    .dataframe tbody tr th:only-of-type {\n",
       "        vertical-align: middle;\n",
       "    }\n",
       "\n",
       "    .dataframe tbody tr th {\n",
       "        vertical-align: top;\n",
       "    }\n",
       "\n",
       "    .dataframe thead th {\n",
       "        text-align: right;\n",
       "    }\n",
       "</style>\n",
       "<table border=\"1\" class=\"dataframe\">\n",
       "  <thead>\n",
       "    <tr style=\"text-align: right;\">\n",
       "      <th></th>\n",
       "      <th>shape</th>\n",
       "      <th>carat</th>\n",
       "      <th>cut</th>\n",
       "      <th>color</th>\n",
       "      <th>clarity</th>\n",
       "      <th>table</th>\n",
       "      <th>depth</th>\n",
       "      <th>cert</th>\n",
       "      <th>price</th>\n",
       "      <th>x</th>\n",
       "      <th>y</th>\n",
       "      <th>z</th>\n",
       "    </tr>\n",
       "  </thead>\n",
       "  <tbody>\n",
       "    <tr>\n",
       "      <th>0</th>\n",
       "      <td>Round</td>\n",
       "      <td>5.01</td>\n",
       "      <td>Ideal</td>\n",
       "      <td>F</td>\n",
       "      <td>SI1</td>\n",
       "      <td>57.0</td>\n",
       "      <td>62.7</td>\n",
       "      <td>GIA</td>\n",
       "      <td>99996</td>\n",
       "      <td>10.81</td>\n",
       "      <td>10.88</td>\n",
       "      <td>6.80</td>\n",
       "    </tr>\n",
       "    <tr>\n",
       "      <th>1</th>\n",
       "      <td>Oval</td>\n",
       "      <td>4.01</td>\n",
       "      <td>Good</td>\n",
       "      <td>F</td>\n",
       "      <td>VS2</td>\n",
       "      <td>55.0</td>\n",
       "      <td>68.8</td>\n",
       "      <td>GIA</td>\n",
       "      <td>99989</td>\n",
       "      <td>12.62</td>\n",
       "      <td>8.23</td>\n",
       "      <td>5.66</td>\n",
       "    </tr>\n",
       "    <tr>\n",
       "      <th>2</th>\n",
       "      <td>Round</td>\n",
       "      <td>4.25</td>\n",
       "      <td>Ideal</td>\n",
       "      <td>E</td>\n",
       "      <td>SI1</td>\n",
       "      <td>57.0</td>\n",
       "      <td>62.1</td>\n",
       "      <td>GIA</td>\n",
       "      <td>99940</td>\n",
       "      <td>10.38</td>\n",
       "      <td>10.33</td>\n",
       "      <td>6.43</td>\n",
       "    </tr>\n",
       "    <tr>\n",
       "      <th>3</th>\n",
       "      <td>Round</td>\n",
       "      <td>5.20</td>\n",
       "      <td>Ideal</td>\n",
       "      <td>J</td>\n",
       "      <td>VS2</td>\n",
       "      <td>58.0</td>\n",
       "      <td>61.6</td>\n",
       "      <td>GIA</td>\n",
       "      <td>99890</td>\n",
       "      <td>11.12</td>\n",
       "      <td>11.08</td>\n",
       "      <td>6.84</td>\n",
       "    </tr>\n",
       "    <tr>\n",
       "      <th>4</th>\n",
       "      <td>Round</td>\n",
       "      <td>3.63</td>\n",
       "      <td>Ideal</td>\n",
       "      <td>F</td>\n",
       "      <td>VVS2</td>\n",
       "      <td>60.0</td>\n",
       "      <td>59.1</td>\n",
       "      <td>GIA</td>\n",
       "      <td>99848</td>\n",
       "      <td>10.08</td>\n",
       "      <td>10.12</td>\n",
       "      <td>5.97</td>\n",
       "    </tr>\n",
       "  </tbody>\n",
       "</table>\n",
       "</div>"
      ],
      "text/plain": [
       "   shape  carat    cut color clarity  table  depth cert  price      x      y  \\\n",
       "0  Round   5.01  Ideal     F     SI1   57.0   62.7  GIA  99996  10.81  10.88   \n",
       "1   Oval   4.01   Good     F     VS2   55.0   68.8  GIA  99989  12.62   8.23   \n",
       "2  Round   4.25  Ideal     E     SI1   57.0   62.1  GIA  99940  10.38  10.33   \n",
       "3  Round   5.20  Ideal     J     VS2   58.0   61.6  GIA  99890  11.12  11.08   \n",
       "4  Round   3.63  Ideal     F    VVS2   60.0   59.1  GIA  99848  10.08  10.12   \n",
       "\n",
       "      z  \n",
       "0  6.80  \n",
       "1  5.66  \n",
       "2  6.43  \n",
       "3  6.84  \n",
       "4  5.97  "
      ]
     },
     "execution_count": 5,
     "metadata": {},
     "output_type": "execute_result"
    }
   ],
   "source": [
    "# clean up\n",
    "\n",
    "dia = pd.concat(dfs, ignore_index=True)\n",
    "dia2 = dia.iloc[:, 1:11]\n",
    "dia2.columns = ['shape', 'carat', 'cut', 'color', 'clarity', 'table', 'depth', 'cert', 'xyz', 'price']\n",
    "dia2['price'] = dia2['price'].str.replace(r'[$,]', '').astype('int')\n",
    "dia2[['x', 'y', 'z']] = dia2['xyz'].str.extract('([0-9.]*) x ([0-9.]*) x ([0-9.]*)').astype('float')\n",
    "dia3 = dia2.drop(columns='xyz')\n",
    "dia3.head()"
   ]
  },
  {
   "cell_type": "code",
   "execution_count": 6,
   "metadata": {},
   "outputs": [
    {
     "data": {
      "text/plain": [
       "(179180, 12)"
      ]
     },
     "execution_count": 6,
     "metadata": {},
     "output_type": "execute_result"
    }
   ],
   "source": [
    "dia3.shape"
   ]
  },
  {
   "cell_type": "code",
   "execution_count": 7,
   "metadata": {},
   "outputs": [],
   "source": [
    "dia3.to_csv('../data/diamonds.csv', index=False)"
   ]
  },
  {
   "cell_type": "code",
   "execution_count": null,
   "metadata": {},
   "outputs": [],
   "source": []
  }
 ],
 "metadata": {
  "kernelspec": {
   "display_name": "Python 3",
   "language": "python",
   "name": "python3"
  },
  "language_info": {
   "codemirror_mode": {
    "name": "ipython",
    "version": 3
   },
   "file_extension": ".py",
   "mimetype": "text/x-python",
   "name": "python",
   "nbconvert_exporter": "python",
   "pygments_lexer": "ipython3",
   "version": "3.6.4"
  },
  "varInspector": {
   "cols": {
    "lenName": 16,
    "lenType": 16,
    "lenVar": 40
   },
   "kernels_config": {
    "python": {
     "delete_cmd_postfix": "",
     "delete_cmd_prefix": "del ",
     "library": "var_list.py",
     "varRefreshCmd": "print(var_dic_list())"
    },
    "r": {
     "delete_cmd_postfix": ") ",
     "delete_cmd_prefix": "rm(",
     "library": "var_list.r",
     "varRefreshCmd": "cat(var_dic_list()) "
    }
   },
   "types_to_exclude": [
    "module",
    "function",
    "builtin_function_or_method",
    "instance",
    "_Feature"
   ],
   "window_display": false
  }
 },
 "nbformat": 4,
 "nbformat_minor": 2
}
