{
 "cells": [
  {
   "cell_type": "markdown",
   "metadata": {},
   "source": [
    "# Multiple Axes Figures\n",
    "\n",
    "## Create multiple axes with `subplots`\n",
    "\n",
    "In previous chapters, we created a single Axes within a single Figure. In this notebook, we will create multiple Axes within a single Figure. The simplest way to accomplish this is to pass the `subplots` function to create a grid of Axes. Pass it two integers - the number of rows and the number of columns. Two objects are returned from the function. The first is a Figure and the second is a NumPy array of the Axes."
   ]
  },
  {
   "cell_type": "code",
   "execution_count": null,
   "metadata": {},
   "outputs": [],
   "source": [
    "%matplotlib inline\n",
    "import matplotlib.pyplot as plt\n",
    "fig, ax_array = plt.subplots(2, 3, figsize=(8, 4))"
   ]
  },
  {
   "cell_type": "markdown",
   "metadata": {},
   "source": [
    "### Multiple Axes returned as a NumPy array\n",
    "Whenever you create multiple Axes on a figure with **`subplots`**, you will be returned a NumPy array of Axes objects. Let's verify that the type and shape of this array."
   ]
  },
  {
   "cell_type": "code",
   "execution_count": null,
   "metadata": {},
   "outputs": [],
   "source": [
    "type(ax_array)"
   ]
  },
  {
   "cell_type": "code",
   "execution_count": null,
   "metadata": {},
   "outputs": [],
   "source": [
    "ax_array.shape"
   ]
  },
  {
   "cell_type": "markdown",
   "metadata": {},
   "source": [
    "### Output the array and assign each Axes to a variable\n",
    "If we simply output the array, we will see 6 different Axes objects. Let's extract each of these Axes into their own variable."
   ]
  },
  {
   "cell_type": "code",
   "execution_count": null,
   "metadata": {},
   "outputs": [],
   "source": [
    "ax_array"
   ]
  },
  {
   "cell_type": "code",
   "execution_count": null,
   "metadata": {},
   "outputs": [],
   "source": [
    "ax1 = ax_array[0, 0]\n",
    "ax2 = ax_array[0, 1]\n",
    "ax3 = ax_array[0, 2]\n",
    "ax4 = ax_array[1, 0]\n",
    "ax5 = ax_array[1, 1]\n",
    "ax6 = ax_array[1, 2]"
   ]
  },
  {
   "cell_type": "markdown",
   "metadata": {},
   "source": [
    "## Distinguish the Figure from the Axes\n",
    "Let's set the face color of the Figure and each of the Axes."
   ]
  },
  {
   "cell_type": "code",
   "execution_count": null,
   "metadata": {},
   "outputs": [],
   "source": [
    "fig.set_facecolor('red')\n",
    "ax1.set_facecolor('orange')\n",
    "ax2.set_facecolor('yellow')\n",
    "ax3.set_facecolor('green')\n",
    "ax4.set_facecolor('blue')\n",
    "ax5.set_facecolor('indigo')\n",
    "ax6.set_facecolor('violet')\n",
    "fig"
   ]
  },
  {
   "cell_type": "markdown",
   "metadata": {},
   "source": [
    "### Identify each Axes with text"
   ]
  },
  {
   "cell_type": "code",
   "execution_count": null,
   "metadata": {},
   "outputs": [],
   "source": [
    "ax1.text(.4, .5, 'Axes 1')\n",
    "ax2.text(.4, .5, 'Axes 2')\n",
    "ax3.text(.4, .5, 'Axes 3')\n",
    "ax4.text(.4, .5, 'Axes 4')\n",
    "ax5.text(.4, .5, 'Axes 5')\n",
    "ax6.text(.4, .5, 'Axes 6')\n",
    "fig"
   ]
  }
 ],
 "metadata": {
  "kernelspec": {
   "display_name": "Python 3",
   "language": "python",
   "name": "python3"
  },
  "language_info": {
   "codemirror_mode": {
    "name": "ipython",
    "version": 3
   },
   "file_extension": ".py",
   "mimetype": "text/x-python",
   "name": "python",
   "nbconvert_exporter": "python",
   "pygments_lexer": "ipython3",
   "version": "3.7.3"
  }
 },
 "nbformat": 4,
 "nbformat_minor": 2
}
