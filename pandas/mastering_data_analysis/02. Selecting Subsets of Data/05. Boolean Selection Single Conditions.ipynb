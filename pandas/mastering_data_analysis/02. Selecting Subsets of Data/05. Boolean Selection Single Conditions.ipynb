{
 "cells": [
  {
   "cell_type": "markdown",
   "metadata": {},
   "source": [
    "# Boolean Selection Single Conditions\n",
    "\n",
    "Boolean Selection, also referred to as **Boolean Indexing**, is the process of selecting subsets of rows from DataFrames (or Series) based on the actual data values and NOT by their labels or integer locations. All of the previous subset selections were done using either labels or integer location. Those selections had nothing to do with the actual values.\n",
    "\n",
    "### Examples of Boolean Selection\n",
    "\n",
    "Let's see some examples of actual questions (in plain English) that boolean selection can help us answer from the bikes dataset. The term **query** is used to refer to these sorts of questions.\n",
    "\n",
    "* Find all rides by males\n",
    "* Find all rides with duration longer than 2 hours\n",
    "* Find all rides that took place between March and June of 2015.\n",
    "* Find all the rides with a duration longer than 2 hours by females with temperature higher than 90 degrees\n",
    "\n",
    "### All queries have a logical condition\n",
    "\n",
    "Each of the above queries have a strict logical condition that must be checked one row at a time.\n",
    "\n",
    "### Keep or discard an entire row of data\n",
    "\n",
    "If you were to manually answer the above queries, you would need to scan each row and determine whether the row, as a whole, meets the condition. If so, then it is kept in the result, otherwise it is discarded.\n",
    "\n",
    "### Each row will have a True or False value associated with it\n",
    "\n",
    "When you perform boolean selection, each row of the DataFrame (or value of a Series) has a `True` or `False` value associated with it that corresponds to the outcome of the logical condition.\n",
    "\n",
    "### Begin with a small DataFrame\n",
    "\n",
    "Let's perform our first boolean selection on our sample DataFrame. Let's read it in now."
   ]
  },
  {
   "cell_type": "code",
   "execution_count": null,
   "metadata": {},
   "outputs": [],
   "source": [
    "import pandas as pd\n",
    "df = pd.read_csv('../data/sample_data.csv', index_col=0)\n",
    "df"
   ]
  },
  {
   "cell_type": "markdown",
   "metadata": {},
   "source": [
    "## Manually filtering the data\n",
    "\n",
    "Let's find all the people who are younger than 30 years old. We will do this manually by inspecting the data.\n",
    "\n",
    "### Create a list of booleans\n",
    "\n",
    "By inspecting the data, we see that `Niko`, `Aaron`, and `Penelope` are all under 30 years old. To signify which people are under 30, we create a list of 7 boolean values corresponding to the 7 rows in the DataFrame. The values in the list that correspond with the positions of `Niko`, `Aaron`, and `Penelope` are `True`. All other values are `False`. `Niko`, `Aaron`, and `Penelope` are the 2nd, 3rd, and 4th rows, so these are the locations in the list that are `True`."
   ]
  },
  {
   "cell_type": "code",
   "execution_count": null,
   "metadata": {},
   "outputs": [],
   "source": [
    "filt = [False, True, True, True, False, False, False]"
   ]
  },
  {
   "cell_type": "markdown",
   "metadata": {},
   "source": [
    "### Variable name `filt`\n",
    "\n",
    "The variable name `filt` will be used throughout the book to refer to the sequence of booleans. You are free to use any variable name you like for the sequence of booleans, but being consistent makes your code easier to understand. I chose `filt` because it short for the word 'filter'. Boolean selection filters the data for a particular condition, which is why this variable name makes sense to me.\n",
    "\n",
    "### Place this list in just the brackets\n",
    "\n",
    "The above list has `True` in the 2nd, 3rd, and 4th positions. These will be the rows that are kept in the result during boolean selection. Place the list inside *just the brackets* to complete the selection."
   ]
  },
  {
   "cell_type": "code",
   "execution_count": null,
   "metadata": {},
   "outputs": [],
   "source": [
    "df[filt]"
   ]
  },
  {
   "cell_type": "markdown",
   "metadata": {},
   "source": [
    "### Wait a second… Isn’t `[ ]` just for column selection?\n",
    "\n",
    "The primary purpose of *just the brackets* for a DataFrame is to select one or more columns by using either a string or a list of strings. All of a sudden, this example shows entire rows being selected with boolean values. This is what makes pandas, unfortunately, a confusing library to learn and use.\n",
    "\n",
    "## Operator Overloading\n",
    "*Just the brackets* is **overloaded**. Depending on the inputs, pandas will do something completely different. Here are the rules for the different objects passed to *just the brackets*.\n",
    "\n",
    "* **string** — return a column as a Series\n",
    "* **list of strings** — return all those column names as a DataFrame\n",
    "* **sequence of booleans** — select all rows where `True`\n",
    "\n",
    "In summary, *just the brackets* primarily selects columns, but if you pass it a sequence of booleans it will select all rows that are `True`.\n",
    "\n",
    "### Using booleans in a Series and not a list\n",
    "\n",
    "Instead of a list, we can use a Series of booleans, which will make the same selection. Below, we use the Series constructor to create a Series object. The Series must have the same index as the DataFrame it is selecting from in order to work properly, so we create it with the same index as the original DataFrame. This automatic alignment of the index is important and covered in the **Joining Data** part."
   ]
  },
  {
   "cell_type": "code",
   "execution_count": null,
   "metadata": {},
   "outputs": [],
   "source": [
    "filt = pd.Series([False, True, True, True, False, False, False], \n",
    "                 index=df.index)\n",
    "filt"
   ]
  },
  {
   "cell_type": "markdown",
   "metadata": {},
   "source": [
    "### Use the boolean Series to do the boolean selection\n",
    "\n",
    "Placing the Series directly in the brackets selects only the rows that correspond with the `True` values in the Series."
   ]
  },
  {
   "cell_type": "code",
   "execution_count": null,
   "metadata": {},
   "outputs": [],
   "source": [
    "df[filt]"
   ]
  },
  {
   "cell_type": "markdown",
   "metadata": {},
   "source": [
    "## Practical boolean selection\n",
    "\n",
    "We almost never create boolean lists/Series manually like we did above, but instead use the actual data to create them.\n",
    "\n",
    "### Creating boolean Series from column data\n",
    "\n",
    "By far the most common way to create a boolean Series is from the values of one particular column. We test a condition using one of the six comparison operators:\n",
    "\n",
    "* `<`\n",
    "* `<=`\n",
    "* `>`\n",
    "* `>=`\n",
    "* `==`\n",
    "* `!=`\n",
    "\n",
    "Let's begin doing practical boolean selection examples by reading in the bikes dataset."
   ]
  },
  {
   "cell_type": "code",
   "execution_count": null,
   "metadata": {},
   "outputs": [],
   "source": [
    "bikes = pd.read_csv('../data/bikes.csv')\n",
    "bikes.head(3)"
   ]
  },
  {
   "cell_type": "markdown",
   "metadata": {},
   "source": [
    "### Create a boolean Series\n",
    "\n",
    "Let's create a boolean Series by determining which rows have a trip duration greater than 1,000 seconds. To make the comparison, we select the `tripduration` column as a Series and compare it against the integer 1,000."
   ]
  },
  {
   "cell_type": "code",
   "execution_count": null,
   "metadata": {},
   "outputs": [],
   "source": [
    "filt = bikes['tripduration'] > 1000\n",
    "filt.head(3)"
   ]
  },
  {
   "cell_type": "markdown",
   "metadata": {},
   "source": [
    "When we write `bikes['tripduration'] > 1000`, pandas compares each value in the `tripduration` column against 1000. It returns a new Series the same length as `tripduartion` with boolean values corresponding to the outcome of the comparison. Let's verify that the `filt` Series is the same length as the DataFrame."
   ]
  },
  {
   "cell_type": "code",
   "execution_count": null,
   "metadata": {},
   "outputs": [],
   "source": [
    "len(filt)"
   ]
  },
  {
   "cell_type": "code",
   "execution_count": null,
   "metadata": {},
   "outputs": [],
   "source": [
    "len(bikes)"
   ]
  },
  {
   "cell_type": "markdown",
   "metadata": {},
   "source": [
    "### Manually verify correctness\n",
    "\n",
    "Take a look at the `tripduration` column to manually verify that only the third row satisfied the condition. That ride lasted 1,040 seconds which is greater than 1,000 so it's value in the resulting boolean Series is `True`. The first two rides lasted less than 1,000 seconds and thus resulted as `False`.\n",
    "\n",
    "### Complete the boolean selection\n",
    "\n",
    "We can now place the `filt` boolean Series into *just the brackets* to filter the entire DataFrame to return all the rows in the bikes dataset that have a trip duration greater than 1,000. Manually verify that the visible `tripduration` values are greater than 1,000."
   ]
  },
  {
   "cell_type": "code",
   "execution_count": null,
   "metadata": {},
   "outputs": [],
   "source": [
    "bikes[filt].head(3)"
   ]
  },
  {
   "cell_type": "markdown",
   "metadata": {},
   "source": [
    "### How many rows have a trip duration greater than 1000?\n",
    "To answer this question, let's assign the result of the boolean selection to a variable and then compare the number of rows between it and the original DataFrame."
   ]
  },
  {
   "cell_type": "code",
   "execution_count": null,
   "metadata": {},
   "outputs": [],
   "source": [
    "bikes_duration_1000 = bikes[filt]"
   ]
  },
  {
   "cell_type": "markdown",
   "metadata": {},
   "source": [
    "Let's find the number of rows in each DataFrame."
   ]
  },
  {
   "cell_type": "code",
   "execution_count": null,
   "metadata": {},
   "outputs": [],
   "source": [
    "len(bikes)"
   ]
  },
  {
   "cell_type": "code",
   "execution_count": null,
   "metadata": {},
   "outputs": [],
   "source": [
    "len(bikes_duration_1000)"
   ]
  },
  {
   "cell_type": "markdown",
   "metadata": {},
   "source": [
    "We compute that 20% of the rides are longer than 1,000 seconds."
   ]
  },
  {
   "cell_type": "code",
   "execution_count": null,
   "metadata": {},
   "outputs": [],
   "source": [
    "len(bikes_duration_1000) / len(bikes)"
   ]
  },
  {
   "cell_type": "markdown",
   "metadata": {},
   "source": [
    "## Boolean selection in one line\n",
    "Often, you will see boolean selection completed in a single line of code instead of the two lines we used above. The expression for the filter is placed directly inside the brackets. Although this method will save a line of code, I recommend assigning the filter as a separate variable to help with readability."
   ]
  },
  {
   "cell_type": "code",
   "execution_count": null,
   "metadata": {},
   "outputs": [],
   "source": [
    "bikes[bikes['tripduration'] > 1000].head(3)"
   ]
  },
  {
   "cell_type": "markdown",
   "metadata": {},
   "source": [
    "## Single condition expression\n",
    "\n",
    "Our first example tested a single condition (whether the trip duration was 1,000 or more). Let's test a different single condition and find all the rides that happened when the weather was cloudy. We use the `==` operator to test for equality and again pass this variable to the brackets which completes our selection."
   ]
  },
  {
   "cell_type": "code",
   "execution_count": null,
   "metadata": {},
   "outputs": [],
   "source": [
    "filt = bikes['events'] == 'cloudy'\n",
    "bikes[filt].head(3)"
   ]
  },
  {
   "cell_type": "markdown",
   "metadata": {},
   "source": [
    "## Summary of single condition boolean selection\n",
    "\n",
    "Boolean selection refers to the act of filtering your data based on the values and not on the labels or integer location. There are two main steps to do boolean selection:\n",
    "\n",
    "1. Create a boolean Series - commonly done by comparing one column of data to another value\n",
    "2. Place the boolean Series inside *just the brackets* to filter the data"
   ]
  },
  {
   "cell_type": "markdown",
   "metadata": {},
   "source": [
    "## Exercises\n",
    "\n",
    "Continue to use the bikes dataset for the first few exercises."
   ]
  },
  {
   "cell_type": "markdown",
   "metadata": {},
   "source": [
    "### Exercise 1\n",
    "\n",
    "<span  style=\"color:green; font-size:16px\">Find all the rides with temperature below 0.</span>"
   ]
  },
  {
   "cell_type": "code",
   "execution_count": null,
   "metadata": {},
   "outputs": [],
   "source": []
  },
  {
   "cell_type": "markdown",
   "metadata": {},
   "source": [
    "### Exercise 2\n",
    "\n",
    "<span  style=\"color:green; font-size:16px\">Find all the rides with wind speed greater than 30.</span>"
   ]
  },
  {
   "cell_type": "code",
   "execution_count": null,
   "metadata": {},
   "outputs": [],
   "source": []
  },
  {
   "cell_type": "markdown",
   "metadata": {},
   "source": [
    "### Exercise 3\n",
    "\n",
    "<span  style=\"color:green; font-size:16px\">Find all the rides that began from station Millennium Park.</span>"
   ]
  },
  {
   "cell_type": "code",
   "execution_count": null,
   "metadata": {},
   "outputs": [],
   "source": []
  },
  {
   "cell_type": "markdown",
   "metadata": {},
   "source": [
    "### Exercise 4\n",
    "\n",
    "<span  style=\"color:green; font-size:16px\">Find all the rides with wind speed less than 0. How is this possible?</span>"
   ]
  },
  {
   "cell_type": "code",
   "execution_count": null,
   "metadata": {},
   "outputs": [],
   "source": []
  },
  {
   "cell_type": "markdown",
   "metadata": {},
   "source": [
    "### Exercise 5\n",
    "\n",
    "<span  style=\"color:green; font-size:16px\">Find all the rides where the starting number of bikes at the station (dpcapacity_start) was more than 50.</span>"
   ]
  },
  {
   "cell_type": "code",
   "execution_count": null,
   "metadata": {},
   "outputs": [],
   "source": []
  },
  {
   "cell_type": "markdown",
   "metadata": {},
   "source": [
    "### Exercise 6\n",
    "\n",
    "<span  style=\"color:green; font-size:16px\">Did any rides happen in temperature over 100 degrees.</span>"
   ]
  },
  {
   "cell_type": "code",
   "execution_count": null,
   "metadata": {},
   "outputs": [],
   "source": []
  },
  {
   "cell_type": "markdown",
   "metadata": {},
   "source": [
    "Read in the movie dataset by executing the cell below and use it for the following exercises."
   ]
  },
  {
   "cell_type": "code",
   "execution_count": null,
   "metadata": {},
   "outputs": [],
   "source": [
    "import pandas as pd\n",
    "movie = pd.read_csv('../data/movie.csv', index_col='title')\n",
    "movie.head(3)"
   ]
  },
  {
   "cell_type": "markdown",
   "metadata": {},
   "source": [
    "### Exercise 7\n",
    "\n",
    "<span  style=\"color:green; font-size:16px\">Select all movies that have Tom Hanks as `actor1`. How many of these movies has he starred in?</span>"
   ]
  },
  {
   "cell_type": "code",
   "execution_count": null,
   "metadata": {},
   "outputs": [],
   "source": []
  },
  {
   "cell_type": "markdown",
   "metadata": {},
   "source": [
    "### Exercise 8\n",
    "\n",
    "<span  style=\"color:green; font-size:16px\">Select movies with an IMDB score greater than 9.</span>"
   ]
  },
  {
   "cell_type": "code",
   "execution_count": null,
   "metadata": {},
   "outputs": [],
   "source": []
  },
  {
   "cell_type": "markdown",
   "metadata": {},
   "source": [
    "### Exercise 9\n",
    "\n",
    "<span  style=\"color:green; font-size:16px\">Write a function that accepts a single parameter to find the number of movies for a given content rating. Use the function to find the number of movies for ratings 'R', 'PG-13', and 'PG'.</span>"
   ]
  },
  {
   "cell_type": "code",
   "execution_count": null,
   "metadata": {},
   "outputs": [],
   "source": []
  }
 ],
 "metadata": {
  "kernelspec": {
   "display_name": "Python 3",
   "language": "python",
   "name": "python3"
  },
  "language_info": {
   "codemirror_mode": {
    "name": "ipython",
    "version": 3
   },
   "file_extension": ".py",
   "mimetype": "text/x-python",
   "name": "python",
   "nbconvert_exporter": "python",
   "pygments_lexer": "ipython3",
   "version": "3.7.3"
  },
  "varInspector": {
   "cols": {
    "lenName": 16,
    "lenType": 16,
    "lenVar": 40
   },
   "kernels_config": {
    "python": {
     "delete_cmd_postfix": "",
     "delete_cmd_prefix": "del ",
     "library": "var_list.py",
     "varRefreshCmd": "print(var_dic_list())"
    },
    "r": {
     "delete_cmd_postfix": ") ",
     "delete_cmd_prefix": "rm(",
     "library": "var_list.r",
     "varRefreshCmd": "cat(var_dic_list()) "
    }
   },
   "types_to_exclude": [
    "module",
    "function",
    "builtin_function_or_method",
    "instance",
    "_Feature"
   ],
   "window_display": false
  }
 },
 "nbformat": 4,
 "nbformat_minor": 2
}
