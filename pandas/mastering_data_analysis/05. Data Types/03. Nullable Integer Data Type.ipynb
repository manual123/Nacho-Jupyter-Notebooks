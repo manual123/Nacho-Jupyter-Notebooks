{
 "cells": [
  {
   "cell_type": "markdown",
   "metadata": {},
   "source": [
    "# Nullable Integer Data Type\n",
    "\n",
    "With the release of pandas version 0.24 in 2019, the nullable integer data type became available to pandas users. This new data type allows for missing values to be present in column of integers. This is a completely separate data type than the normal integer data types. The original integer data types still exist and are unable to contain missing values.\n",
    "\n",
    "Let's begin learning how to use the nullable integer data type by reading in the college dataset, which contains several integer columns that contain missing values. We will read in just the first seven columns setting the institution name as the index."
   ]
  },
  {
   "cell_type": "code",
   "execution_count": null,
   "metadata": {},
   "outputs": [],
   "source": [
    "import pandas as pd\n",
    "college = pd.read_csv('../data/college.csv', usecols=range(7), index_col='instnm')\n",
    "college.head(3)"
   ]
  },
  {
   "cell_type": "markdown",
   "metadata": {},
   "source": [
    "## Converting data to the nullable integer data type\n",
    "\n",
    "By inspection, you should notice that the columns hbcu, menonly, and womenonly show their values with decimals which usually indicates that they are read in as a float. The column relaffil is the only numeric column that appears to have been read in as an integer. Let's confirm this with the `dtypes` attribute."
   ]
  },
  {
   "cell_type": "code",
   "execution_count": null,
   "metadata": {},
   "outputs": [],
   "source": [
    "college.dtypes"
   ]
  },
  {
   "cell_type": "markdown",
   "metadata": {},
   "source": [
    "From the data dictionary, we expect that hbcu, menonly, and womenonly are integer columns containing exactly two values, 0 and 1. Since they are read in as floats, they will also contain missing values. Let's use the `value_counts` method to determine the number of unique values and as the number of missing values in each of these three columns."
   ]
  },
  {
   "cell_type": "code",
   "execution_count": null,
   "metadata": {},
   "outputs": [],
   "source": [
    "college['hbcu'].value_counts(dropna=False)"
   ]
  },
  {
   "cell_type": "code",
   "execution_count": null,
   "metadata": {},
   "outputs": [],
   "source": [
    "college['menonly'].value_counts(dropna=False)"
   ]
  },
  {
   "cell_type": "code",
   "execution_count": null,
   "metadata": {},
   "outputs": [],
   "source": [
    "college['womenonly'].value_counts(dropna=False)"
   ]
  },
  {
   "cell_type": "markdown",
   "metadata": {},
   "source": [
    "### Attempt integer conversion\n",
    "\n",
    "As previously covered, we can pass a string to the `astype` method to convert a column to a particular data type. Let's attempt to convert the hbcu column to one of the default 8-bit integer with the string 'int8'. "
   ]
  },
  {
   "cell_type": "code",
   "execution_count": null,
   "metadata": {},
   "outputs": [],
   "source": [
    "college['hbcu'].astype('int8')"
   ]
  },
  {
   "cell_type": "markdown",
   "metadata": {},
   "source": [
    "### Convert to nullable integer with 'Int'\n",
    "\n",
    "The above conversion fails as this type of integer cannot handle missing values. In order to convert to the new nullable integer, you need to use the string 'Int' appended to the bit size. The difference is the capital letter 'I'. For example, 'Int8' refers to an 8-bit nullable integer, while 'int8' refers to a normal 8-bit integer. The same bit-sizes (8, 16, 32, 64) are available for nullable integers. Let's properly convert the hbcu column to a nullable integer."
   ]
  },
  {
   "cell_type": "code",
   "execution_count": null,
   "metadata": {},
   "outputs": [],
   "source": [
    "hbcu2 = college['hbcu'].astype('Int8')\n",
    "hbcu2.head(3)"
   ]
  },
  {
   "cell_type": "markdown",
   "metadata": {},
   "source": [
    "Let's verify that there are missing values in this "
   ]
  },
  {
   "cell_type": "code",
   "execution_count": null,
   "metadata": {},
   "outputs": [],
   "source": [
    "hbcu2.value_counts(dropna=False)"
   ]
  },
  {
   "cell_type": "markdown",
   "metadata": {},
   "source": [
    "## Constructing a Series with nullable integers\n",
    "\n",
    "Use the `dtype` parameter in the Series constructor to make the data type nullable integers. Here, we create a Series of 16-bit nullable integers."
   ]
  },
  {
   "cell_type": "code",
   "execution_count": null,
   "metadata": {},
   "outputs": [],
   "source": [
    "import numpy as np\n",
    "data = [1, 5, np.nan, 3, np.nan]\n",
    "pd.Series(data, dtype='Int16')"
   ]
  },
  {
   "cell_type": "markdown",
   "metadata": {},
   "source": [
    "By default, a Series with the same data will be read in as a 64-bit float."
   ]
  },
  {
   "cell_type": "code",
   "execution_count": null,
   "metadata": {},
   "outputs": [],
   "source": [
    "pd.Series(data)"
   ]
  }
 ],
 "metadata": {
  "kernelspec": {
   "display_name": "Python 3",
   "language": "python",
   "name": "python3"
  },
  "language_info": {
   "codemirror_mode": {
    "name": "ipython",
    "version": 3
   },
   "file_extension": ".py",
   "mimetype": "text/x-python",
   "name": "python",
   "nbconvert_exporter": "python",
   "pygments_lexer": "ipython3",
   "version": "3.7.3"
  }
 },
 "nbformat": 4,
 "nbformat_minor": 2
}
