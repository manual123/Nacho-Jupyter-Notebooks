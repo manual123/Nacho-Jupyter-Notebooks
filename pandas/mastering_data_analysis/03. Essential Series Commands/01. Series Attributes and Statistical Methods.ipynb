{
 "cells": [
  {
   "cell_type": "markdown",
   "metadata": {},
   "source": [
    "# Series Attributes and Statistical Methods\n",
    "\n",
    "Our main accomplishment up to this point has been selecting subsets of data. We have not changed the data or made many interesting calculations. Our selections have happened in two ways:\n",
    "\n",
    "* Selection by label and integer location\n",
    "* Selection by actual values (boolean selection and the `query` method)\n",
    "\n",
    "Other than `query`, these selections all used the square brackets.\n",
    "\n",
    "## Calling methods on a Series/DataFrame\n",
    "\n",
    "In this chapter we will call many methods that perform actions on our DataFrame. We have actually already called some methods such as the `head`, `tail`, `isna`, and `set_index` methods. There are around 250 methods available to both DataFrames and Series.\n",
    "\n",
    "### Use a subset of methods\n",
    "\n",
    "It can be quite overwhelming to think about having to learn and memorize this staggering amount of functionality. The good news is that many of these methods are unnecessary and don't add any extra functionality. Furthermore, many methods are remnants from the early days of pandas and have few/no use cases or have been **deprecated**. When a method is deprecated, then it is both discouraged from being used and will likely be removed from the library in the future.\n",
    "\n",
    "### Minimally sufficient pandas\n",
    "\n",
    "I suggest using a subset of the pandas library that allows you to do as many tasks as possible. I focus on the subset of pandas that maximizes both performance and readability. Since there is so much functionality, power users of pandas can think of very creative and complex code to accomplish different tasks. This is not necessarily a positive thing and when working with a group of other data analysts can lead to confusion for those that are not familiar with the syntax. One of my most popular blog posts is titled [Minimally Sufficient Pandas][1] and goes into great detail on this.\n",
    "\n",
    "## Series Attributes and Methods\n",
    "\n",
    "We begin our exploration of attributes and methods with Series objects. It is far simpler to focus on a single column of data then multiple columns in a DataFrame.\n",
    "\n",
    "### View the API for a complete list of functionality\n",
    "\n",
    "Modern programming languages use the term **Application Programming Interface** or **API** to list and describe all the possible functionality therein. The pandas API reference can be found [here][2]. This is a huge list, but as mentioned above, only a subset of this page is needed for the vast majority of tasks.\n",
    "\n",
    "### The best of the pandas Series API\n",
    "\n",
    "The pandas Series object is a single dimension of data and easier to work with than an entire DataFrame. We start with it and cover the most basic and important methods below. You may find it useful to navigate to the [Series API][3] section of the documentation so that you can have a full list of the functionality.\n",
    "\n",
    "### City of Houston Employee Data\n",
    "\n",
    "We will use a public dataset containing City of Houston employee information on their position, race, gender, and salary. Notice that the column `hire_date` can be read in as a datetime.\n",
    "\n",
    "[1]: https://medium.com/dunder-data/minimally-sufficient-pandas-a8e67f2a2428\n",
    "[2]: http://pandas.pydata.org/pandas-docs/stable/reference/index.html\n",
    "[3]: http://pandas.pydata.org/pandas-docs/stable/reference/series.html"
   ]
  },
  {
   "cell_type": "code",
   "execution_count": null,
   "metadata": {},
   "outputs": [],
   "source": [
    "import pandas as pd\n",
    "emp = pd.read_csv('../data/employee.csv', parse_dates=['hire_date'])\n",
    "emp.head(3)"
   ]
  },
  {
   "cell_type": "markdown",
   "metadata": {},
   "source": [
    "This dataset was last updated in July of 2019 and contains nearly all of the employees for the City of Houston."
   ]
  },
  {
   "cell_type": "code",
   "execution_count": null,
   "metadata": {},
   "outputs": [],
   "source": [
    "emp.shape"
   ]
  },
  {
   "cell_type": "markdown",
   "metadata": {},
   "source": [
    "### Select a single column as a Series\n",
    "Let's select the `salary` column as a Series and use it to explore the Series API."
   ]
  },
  {
   "cell_type": "code",
   "execution_count": null,
   "metadata": {},
   "outputs": [],
   "source": [
    "salary = emp['salary']\n",
    "salary.head()"
   ]
  },
  {
   "cell_type": "markdown",
   "metadata": {},
   "source": [
    "Let's verify that we have a Series object."
   ]
  },
  {
   "cell_type": "code",
   "execution_count": null,
   "metadata": {},
   "outputs": [],
   "source": [
    "type(salary)"
   ]
  },
  {
   "cell_type": "markdown",
   "metadata": {},
   "source": [
    "## Core Series Attributes\n",
    "pandas Series have [many attributes][1], but only a few are important to know. The attributes to be aware of are:\n",
    "\n",
    "* `index`\n",
    "* `values`\n",
    "* `size`\n",
    "* `dtype`\n",
    "\n",
    "The `index` and `values` were covered in a previous chapter. Only `size` and `dtype` are new. The size represents the total number of values in the Series. The `dtype` returns the data type of the values. Remember that all values in the Series share the same data type. Let's display these now.\n",
    "\n",
    "[1]: http://pandas.pydata.org/pandas-docs/stable/reference/series.html#attributes"
   ]
  },
  {
   "cell_type": "code",
   "execution_count": null,
   "metadata": {},
   "outputs": [],
   "source": [
    "salary.size"
   ]
  },
  {
   "cell_type": "code",
   "execution_count": null,
   "metadata": {},
   "outputs": [],
   "source": [
    "salary.dtype"
   ]
  },
  {
   "cell_type": "markdown",
   "metadata": {},
   "source": [
    "### `len` function also returns the number of values\n",
    "\n",
    "The built-in `len` function returns the same number as the `size` attribute. "
   ]
  },
  {
   "cell_type": "code",
   "execution_count": null,
   "metadata": {},
   "outputs": [],
   "source": [
    "len(salary)"
   ]
  },
  {
   "cell_type": "markdown",
   "metadata": {},
   "source": [
    "Even though they both report the same number, I typically use the `len` function, as it returns the number of rows when used on a DataFrame. The DataFrame `size` attribute returns the total number of values in the DataFrame."
   ]
  },
  {
   "cell_type": "code",
   "execution_count": null,
   "metadata": {},
   "outputs": [],
   "source": [
    "len(emp)"
   ]
  },
  {
   "cell_type": "code",
   "execution_count": null,
   "metadata": {},
   "outputs": [],
   "source": [
    "emp.size"
   ]
  },
  {
   "cell_type": "markdown",
   "metadata": {},
   "source": [
    "## Arithmetic operators\n",
    "Series have the ability to work with all of the following common arithmetic operators:\n",
    "\n",
    "* `+` - Addition\n",
    "* `-` - Subtraction\n",
    "* `*` - Multiplication\n",
    "* `/` - Division\n",
    "* `//` - Floor division\n",
    "* `**` - Exponentiation\n",
    "* `%` - Modular division (returns the remainder)\n",
    "\n",
    "All of the arithmetic operators operate on every value in the Series. Let's see some examples and begin by adding 5 to every value in the Series."
   ]
  },
  {
   "cell_type": "code",
   "execution_count": null,
   "metadata": {},
   "outputs": [],
   "source": [
    "result = salary + 5\n",
    "result.head(3)"
   ]
  },
  {
   "cell_type": "markdown",
   "metadata": {},
   "source": [
    "Raise each value in the Series to the .2 power."
   ]
  },
  {
   "cell_type": "code",
   "execution_count": null,
   "metadata": {},
   "outputs": [],
   "source": [
    "result = salary ** .2\n",
    "result.head(3)"
   ]
  },
  {
   "cell_type": "markdown",
   "metadata": {},
   "source": [
    "Divide each value in the Series by 173. This single division sign is referred to as **true division** and returns all decimal values."
   ]
  },
  {
   "cell_type": "code",
   "execution_count": null,
   "metadata": {},
   "outputs": [],
   "source": [
    "result = salary / 173\n",
    "result.head(3)"
   ]
  },
  {
   "cell_type": "markdown",
   "metadata": {},
   "source": [
    "Two division signs are used for **floor division**. The decimals are truncated (and not rounded) from the result."
   ]
  },
  {
   "cell_type": "code",
   "execution_count": null,
   "metadata": {},
   "outputs": [],
   "source": [
    "result = salary // 173\n",
    "result.head(3)"
   ]
  },
  {
   "cell_type": "markdown",
   "metadata": {},
   "source": [
    "### Isn't this chapter about calling methods?\n",
    "\n",
    "Although the above operations are not actual methods and do not use dot notation, they work similarly as methods. You can think of them as methods that take exactly one parameter, the other object that is being operated on.\n",
    "\n",
    "### Arithmetic operations are vectorized\n",
    "\n",
    "All the above arithmetic operations are **vectorized**. This means that the operation was applied to each value in the Series without an explicit writing of a `for` loop. Python lists do not work like this and require an explicit for loop to operate on each value.\n",
    "\n",
    "## Comparison Operations\n",
    "\n",
    "The following six comparison operators work similarly as their arithmetic analogs from above:\n",
    "\n",
    "* `< ` - Less than\n",
    "* `<=` - Less than or equal to\n",
    "* `> ` - Greater than\n",
    "* `>=` - Greater than or equal to\n",
    "* `==` - Equals to\n",
    "* `!=` - Not equal to\n",
    "\n",
    "In the boolean selection chapters, we used these vectorized comparison operations (without the terminology) to produce Series of booleans. Let's see a few examples below beginning by testing whether each salary is greater than 50,000."
   ]
  },
  {
   "cell_type": "code",
   "execution_count": null,
   "metadata": {},
   "outputs": [],
   "source": [
    "result = salary > 50000\n",
    "result.head(3)"
   ]
  },
  {
   "cell_type": "markdown",
   "metadata": {},
   "source": [
    "Here, we test whether each salary is not equal to 82,182"
   ]
  },
  {
   "cell_type": "code",
   "execution_count": null,
   "metadata": {},
   "outputs": [],
   "source": [
    "result = salary != 82182\n",
    "result.head(3)"
   ]
  },
  {
   "cell_type": "markdown",
   "metadata": {},
   "source": [
    "## Boolean and bitwise operators\n",
    "\n",
    "Python has three boolean operators, the keywords `and`, `or`, and `not`. These operators are syntactically unable to do vectorized boolean operations. Instead, pandas and numpy rely on the bitwise and, or, and not operators, respectively `&`, `|`, and `~` to perform vectorized boolean operations. They were thoroughly covered in the preceding chapters.  Let's do one example to review by determining whether or not a salary is less than 50,000 or greater than 100,000."
   ]
  },
  {
   "cell_type": "code",
   "execution_count": null,
   "metadata": {},
   "outputs": [],
   "source": [
    "result = (salary < 50000) | (salary > 100000)\n",
    "result.head(3)"
   ]
  },
  {
   "cell_type": "markdown",
   "metadata": {},
   "source": [
    "## Statistical methods\n",
    "\n",
    "We now call *actual* methods that compute [basic descriptive statistics][1] on a numerical Series. You might want to click the previous link to have the list of all the possible statistical methods. We call the methods explicitly with dot notation. It is useful to place these methods into two categories - those that **aggregate** and those that do not.\n",
    "\n",
    "### Aggregation methods\n",
    "\n",
    "A method that performs an aggregation returns a **single** number to summarize the Series. Examples of methods that aggregate are:\n",
    "\n",
    "* `sum`\n",
    "* `min`\n",
    "* `max`\n",
    "* `mean`\n",
    "* `median`\n",
    "* `std` - standard deviation\n",
    "* `var` - variance\n",
    "* `count` - returns number of non-missing values\n",
    "* `describe` - returns most of the above aggregations in one Series\n",
    "* `quantile` - returns the given percentile of the distribution\n",
    "\n",
    "### Non-aggregation methods\n",
    "\n",
    "Any other method that does not return a single value is not an aggregation. Some examples of these methods are:\n",
    "\n",
    "* `abs` - takes absolute value\n",
    "* `round` - round to the nearest given decimal place\n",
    "* `cummin` - cumulative minimum\n",
    "* `cummax` - cumulative maximum\n",
    "* `cumsum` - cumulative sum\n",
    "\n",
    "[1]: http://pandas.pydata.org/pandas-docs/stable/reference/series.html#computations-descriptive-stats"
   ]
  },
  {
   "cell_type": "markdown",
   "metadata": {},
   "source": [
    "## Aggregation methods\n",
    "Let's see a few examples of common aggregation methods. Let's begin by summing every value in the Series with the `sum` method."
   ]
  },
  {
   "cell_type": "code",
   "execution_count": null,
   "metadata": {},
   "outputs": [],
   "source": [
    "salary.sum()"
   ]
  },
  {
   "cell_type": "markdown",
   "metadata": {},
   "source": [
    "Get the minimum value of the Series with the `min` method."
   ]
  },
  {
   "cell_type": "code",
   "execution_count": null,
   "metadata": {},
   "outputs": [],
   "source": [
    "salary.min()"
   ]
  },
  {
   "cell_type": "markdown",
   "metadata": {},
   "source": [
    "Get the maximum value of a Series with the `max` method."
   ]
  },
  {
   "cell_type": "code",
   "execution_count": null,
   "metadata": {},
   "outputs": [],
   "source": [
    "salary.max()"
   ]
  },
  {
   "cell_type": "markdown",
   "metadata": {},
   "source": [
    "Use the `quantile` method to return the given percentile of the Series. It accepts values between 0 and 1. By default, it returns the 50th percentile. Below, we pass it .95 to return the 95th percentile of salary. This means that 95 percent of the employees for the city of Houston have this salary or below."
   ]
  },
  {
   "cell_type": "code",
   "execution_count": null,
   "metadata": {},
   "outputs": [],
   "source": [
    "salary.quantile(.95)"
   ]
  },
  {
   "cell_type": "markdown",
   "metadata": {},
   "source": [
    "### The `count` method\n",
    "\n",
    "The `count` method returns the number of non-missing values. It does NOT return the total number of values in the Series. Since this number is less than `len(salary)`, we know missing values exist."
   ]
  },
  {
   "cell_type": "code",
   "execution_count": null,
   "metadata": {},
   "outputs": [],
   "source": [
    "salary.count()"
   ]
  },
  {
   "cell_type": "code",
   "execution_count": null,
   "metadata": {},
   "outputs": [],
   "source": [
    "len(salary)"
   ]
  },
  {
   "cell_type": "markdown",
   "metadata": {},
   "source": [
    "### pandas ignores missing values by default\n",
    "\n",
    "One big difference between pandas and numpy is that pandas ignores missing values by default. When calling aggregation methods such as `sum` or `mean`, pandas ignores any missing value as if that piece of data did not exist. numpy returns `nan` for its aggregation methods when one or more values are missing. Let's verify this by extracting the values of `salary` as a numpy array and then calling the array `sum` method."
   ]
  },
  {
   "cell_type": "code",
   "execution_count": null,
   "metadata": {},
   "outputs": [],
   "source": [
    "salary.values.sum()"
   ]
  },
  {
   "cell_type": "markdown",
   "metadata": {},
   "source": [
    "We can make pandas Series behave like numpy by setting the `skipna` parameter to `False`. All of the statistical methods have the `skipna` parameter available."
   ]
  },
  {
   "cell_type": "code",
   "execution_count": null,
   "metadata": {},
   "outputs": [],
   "source": [
    "salary.sum(skipna=False)"
   ]
  },
  {
   "cell_type": "markdown",
   "metadata": {},
   "source": [
    "### The `describe` method\n",
    "\n",
    "The `describe` method returns several aggregations at once as a Series. The name of the aggregation is placed in the index. By default, it returns the count (number of non-missing values), min, median, mean, max, standard deviation, and 25th and 75 percentiles."
   ]
  },
  {
   "cell_type": "code",
   "execution_count": null,
   "metadata": {},
   "outputs": [],
   "source": [
    "salary.describe()"
   ]
  },
  {
   "cell_type": "markdown",
   "metadata": {},
   "source": [
    "You can use the `percentiles` parameter to control which percentiles get returned. Pass it a list of all the percentiles (numbers between 0 and 1) you would like returned."
   ]
  },
  {
   "cell_type": "code",
   "execution_count": null,
   "metadata": {},
   "outputs": [],
   "source": [
    "salary.describe(percentiles=[.1, .2, .5, .8, .9, .99])"
   ]
  },
  {
   "cell_type": "markdown",
   "metadata": {},
   "source": [
    "## Non-Aggregation methods\n",
    "\n",
    "Many of these computational methods aggregate and return a single value, but others do not. For instance, the `abs` method takes the absolute value of each individual value in the Series. It returns a Series with the same number of values as the original. In this example, none of the values in the Series are negative, so the values remain the same."
   ]
  },
  {
   "cell_type": "code",
   "execution_count": null,
   "metadata": {},
   "outputs": [],
   "source": [
    "salary.abs().head(3)"
   ]
  },
  {
   "cell_type": "markdown",
   "metadata": {},
   "source": [
    "The `round` method rounds each value to the nearest given decimal place. Use the `decimals` parameter to determine the place of the rounding. Negative numbers may be used to round places to the left of the decimal. In the following example, we round to the nearest thousand."
   ]
  },
  {
   "cell_type": "code",
   "execution_count": null,
   "metadata": {},
   "outputs": [],
   "source": [
    "salary.round(decimals=-3).head(3)"
   ]
  },
  {
   "cell_type": "markdown",
   "metadata": {},
   "source": [
    "### Accumulation methods\n",
    "\n",
    "There are a few accumulation methods that work by keeping track of previous data. For instance, the `cummin` method keeps track of the current minimum value in the Series. It begins at the top with the first value. Since it's the first, it will be the minimum. It then continues down the Series to the second value. If the second value is less than the first, then it will be the new minimum. If not, then the first value will remain as the minimum. It returns a Series the same length as the original of all the current minimums. With our Series, the first salary remains the lowest until the fifth value which remains the lowest until the 10th value."
   ]
  },
  {
   "cell_type": "code",
   "execution_count": null,
   "metadata": {},
   "outputs": [],
   "source": [
    "salary.cummin().head(10)"
   ]
  },
  {
   "cell_type": "code",
   "execution_count": null,
   "metadata": {},
   "outputs": [],
   "source": [
    "salary.cumsum()"
   ]
  },
  {
   "cell_type": "markdown",
   "metadata": {},
   "source": [
    "### Non-aggregation methods return an entirely new Series\n",
    "\n",
    "The non-aggregation methods return an entirely new Series and do not modify the calling Series. This is a crucial concept to understand. pandas has only a few operations and methods that modify objects in-place. Nearly all of the time, a new object is returned. Here, we begin by assigning the result of the `round` method to a variable name."
   ]
  },
  {
   "cell_type": "code",
   "execution_count": null,
   "metadata": {},
   "outputs": [],
   "source": [
    "salary_round = salary.round(decimals=-3)\n",
    "salary_round.head(3)"
   ]
  },
  {
   "cell_type": "markdown",
   "metadata": {},
   "source": [
    "Let's verify that the calling object has not changed. The `salary` Series is the calling object, i.e., the one that is calling the method and remains unchanged."
   ]
  },
  {
   "cell_type": "code",
   "execution_count": null,
   "metadata": {},
   "outputs": [],
   "source": [
    "salary.head(3)"
   ]
  },
  {
   "cell_type": "markdown",
   "metadata": {},
   "source": [
    "## Series with a non-default index\n",
    "\n",
    "Let's use a different Series that does not use the default `RangeIndex` to run some of the same methods as above. We'll read in the movie dataset with the title as the index and select the `imdb_score` column as a Series."
   ]
  },
  {
   "cell_type": "code",
   "execution_count": null,
   "metadata": {},
   "outputs": [],
   "source": [
    "movie = pd.read_csv('../data/movie.csv', index_col='title')\n",
    "score = movie['imdb_score']\n",
    "score.head()"
   ]
  },
  {
   "cell_type": "markdown",
   "metadata": {},
   "source": [
    "All of the methods in this chapter work the exact same way as they do with the default index. They all operate on the **values** of the Series and NOT on the index. The index is merely a label for the values. The methods do calculations on the values. Let's show this by taking the mean of the scores. Notice how a single value is returned. The index has nothing to do with these calculations."
   ]
  },
  {
   "cell_type": "code",
   "execution_count": null,
   "metadata": {},
   "outputs": [],
   "source": [
    "score.mean()"
   ]
  },
  {
   "cell_type": "markdown",
   "metadata": {},
   "source": [
    "Let's calculate the statistical variance with the `var` method."
   ]
  },
  {
   "cell_type": "code",
   "execution_count": null,
   "metadata": {},
   "outputs": [],
   "source": [
    "score.var()"
   ]
  },
  {
   "cell_type": "markdown",
   "metadata": {},
   "source": [
    "Calling the non-aggregation methods is where some confusion might arise. Below, we round each score to the nearest whole number. Since we are not aggregating a Series is returned and the original index remains with it. Again, no calculation is done on the index. The calculation is only applied to the values."
   ]
  },
  {
   "cell_type": "code",
   "execution_count": null,
   "metadata": {},
   "outputs": [],
   "source": [
    "score.round().head()"
   ]
  },
  {
   "cell_type": "markdown",
   "metadata": {},
   "source": [
    "Here, we take the current maximum value with the `cummax` method. The index helps out here by informing us which movie is attached to the score. Avatar retains the highest score until it is surpassed by The Dark Knight Rises."
   ]
  },
  {
   "cell_type": "code",
   "execution_count": null,
   "metadata": {},
   "outputs": [],
   "source": [
    "score.cummax().head()"
   ]
  },
  {
   "cell_type": "markdown",
   "metadata": {},
   "source": [
    "## Operations on a boolean Series\n",
    "\n",
    "All of the above methods were called on a Series with numeric values. In this section, we will several of the same aggregation and non-aggregation methods on a Series of booleans. Let's begin by creating a boolean Series by determining which movies had a score greater than eight."
   ]
  },
  {
   "cell_type": "code",
   "execution_count": null,
   "metadata": {},
   "outputs": [],
   "source": [
    "score_8 = score > 8\n",
    "score_8.head()"
   ]
  },
  {
   "cell_type": "markdown",
   "metadata": {},
   "source": [
    "We can use this Series to filter the data just like we did in the chapters on boolean selection."
   ]
  },
  {
   "cell_type": "code",
   "execution_count": null,
   "metadata": {},
   "outputs": [],
   "source": [
    "only_8 = score[score_8]\n",
    "only_8.head()"
   ]
  },
  {
   "cell_type": "markdown",
   "metadata": {},
   "source": [
    "We can determine the number of movies that have a score greater than eight by finding the length of this result."
   ]
  },
  {
   "cell_type": "code",
   "execution_count": null,
   "metadata": {},
   "outputs": [],
   "source": [
    "len(only_8)"
   ]
  },
  {
   "cell_type": "markdown",
   "metadata": {},
   "source": [
    "### Sum a boolean Series\n",
    "\n",
    "We can find the number of movies with a score greater than 8 without doing boolean selection. Instead, we can call the `sum` method."
   ]
  },
  {
   "cell_type": "code",
   "execution_count": null,
   "metadata": {},
   "outputs": [],
   "source": [
    "score_8.sum()"
   ]
  },
  {
   "cell_type": "markdown",
   "metadata": {},
   "source": [
    "### Boolean values are treated as numeric\n",
    "\n",
    "When performing arithmetic calculations, pandas treats boolean values as numeric. `False` evaluates as 0 and `True` evaluates as 1. With the `score_8` boolean Series, there are 249 `True` values with the rest being `False`. Calling the `sum` method any boolean Series returns the number of `True` values in that Series.\n",
    "\n",
    "It is possible to compute this sum without first assigning the boolean Series to a new variable name. We can surround the condition in parentheses and then call the `sum` method."
   ]
  },
  {
   "cell_type": "code",
   "execution_count": null,
   "metadata": {},
   "outputs": [],
   "source": [
    "(score > 8).sum()"
   ]
  },
  {
   "cell_type": "markdown",
   "metadata": {},
   "source": [
    "### Explanation of this one line of code\n",
    "\n",
    "Let's examine the line `(score > 8).sum()`. Python first evaluates the expression in parentheses - `score > 8`. This results in a Series, which has all the available methods as any other Series. We then call the `sum` method on this Series to get the desired result."
   ]
  },
  {
   "cell_type": "markdown",
   "metadata": {},
   "source": [
    "## Exercises\n",
    "\n",
    "Continue to use the `score` Series for the first several exercises."
   ]
  },
  {
   "cell_type": "markdown",
   "metadata": {},
   "source": [
    "### Exercise 1\n",
    "\n",
    "<span  style=\"color:green; font-size:16px\">What is the data type of `score` and how many values does it contain?</span>"
   ]
  },
  {
   "cell_type": "code",
   "execution_count": null,
   "metadata": {},
   "outputs": [],
   "source": []
  },
  {
   "cell_type": "markdown",
   "metadata": {},
   "source": [
    "### Exercise 2\n",
    "\n",
    "<span  style=\"color:green; font-size:16px\">What is the maximum and minimum score?</span>"
   ]
  },
  {
   "cell_type": "code",
   "execution_count": null,
   "metadata": {},
   "outputs": [],
   "source": []
  },
  {
   "cell_type": "markdown",
   "metadata": {},
   "source": [
    "### Exercise 3\n",
    "\n",
    "<span  style=\"color:green; font-size:16px\">How many movies have scores greater than 6?</span>"
   ]
  },
  {
   "cell_type": "code",
   "execution_count": null,
   "metadata": {},
   "outputs": [],
   "source": []
  },
  {
   "cell_type": "markdown",
   "metadata": {},
   "source": [
    "### Exercise 4\n",
    "\n",
    "<span  style=\"color:green; font-size:16px\">How many movies have scores greater than 4 and less than 7?</span>"
   ]
  },
  {
   "cell_type": "code",
   "execution_count": null,
   "metadata": {},
   "outputs": [],
   "source": []
  },
  {
   "cell_type": "markdown",
   "metadata": {},
   "source": [
    "### Exercise 5\n",
    "\n",
    "<span  style=\"color:green; font-size:16px\">Find the difference between the median and mean of the scores.</span>"
   ]
  },
  {
   "cell_type": "code",
   "execution_count": null,
   "metadata": {},
   "outputs": [],
   "source": []
  },
  {
   "cell_type": "markdown",
   "metadata": {},
   "source": [
    "### Exercise 6\n",
    "\n",
    "<span  style=\"color:green; font-size:16px\">Add 1 to every value of `score` and then calculate the median.</span>"
   ]
  },
  {
   "cell_type": "code",
   "execution_count": null,
   "metadata": {},
   "outputs": [],
   "source": []
  },
  {
   "cell_type": "markdown",
   "metadata": {},
   "source": [
    "### Exercise 7\n",
    "\n",
    "<span  style=\"color:green; font-size:16px\">Calculate the median of `score` and add 1 to this. Why is this value the same as Exercise 7?</span>"
   ]
  },
  {
   "cell_type": "code",
   "execution_count": null,
   "metadata": {},
   "outputs": [],
   "source": []
  },
  {
   "cell_type": "markdown",
   "metadata": {},
   "source": [
    "### Exercise 8\n",
    "\n",
    "<span  style=\"color:green; font-size:16px\">Return a Series that has only scores above the 99.9th percentile</span>"
   ]
  },
  {
   "cell_type": "code",
   "execution_count": null,
   "metadata": {},
   "outputs": [],
   "source": []
  },
  {
   "cell_type": "markdown",
   "metadata": {},
   "source": [
    "### Exercise 9\n",
    "\n",
    "<span  style=\"color:green; font-size:16px\">Assign the gross column of the movie dataset to its own variable name. Round it to the nearest million.</span>"
   ]
  },
  {
   "cell_type": "code",
   "execution_count": null,
   "metadata": {},
   "outputs": [],
   "source": []
  },
  {
   "cell_type": "markdown",
   "metadata": {},
   "source": [
    "### Exercise 10\n",
    "\n",
    "<span  style=\"color:green; font-size:16px\">Calculate the cumulative sum of the gross Series and then select the 99th integer location.</span>"
   ]
  },
  {
   "cell_type": "code",
   "execution_count": null,
   "metadata": {},
   "outputs": [],
   "source": []
  },
  {
   "cell_type": "markdown",
   "metadata": {},
   "source": [
    "### Exercise 11\n",
    "\n",
    "<span  style=\"color:green; font-size:16px\">Select the first 100 values of the gross Series and then calculate the sum. Does the result match exercise 11.</span>"
   ]
  },
  {
   "cell_type": "code",
   "execution_count": null,
   "metadata": {},
   "outputs": [],
   "source": []
  }
 ],
 "metadata": {
  "kernelspec": {
   "display_name": "Python 3",
   "language": "python",
   "name": "python3"
  },
  "language_info": {
   "codemirror_mode": {
    "name": "ipython",
    "version": 3
   },
   "file_extension": ".py",
   "mimetype": "text/x-python",
   "name": "python",
   "nbconvert_exporter": "python",
   "pygments_lexer": "ipython3",
   "version": "3.7.3"
  },
  "varInspector": {
   "cols": {
    "lenName": 16,
    "lenType": 16,
    "lenVar": 40
   },
   "kernels_config": {
    "python": {
     "delete_cmd_postfix": "",
     "delete_cmd_prefix": "del ",
     "library": "var_list.py",
     "varRefreshCmd": "print(var_dic_list())"
    },
    "r": {
     "delete_cmd_postfix": ") ",
     "delete_cmd_prefix": "rm(",
     "library": "var_list.r",
     "varRefreshCmd": "cat(var_dic_list()) "
    }
   },
   "types_to_exclude": [
    "module",
    "function",
    "builtin_function_or_method",
    "instance",
    "_Feature"
   ],
   "window_display": false
  }
 },
 "nbformat": 4,
 "nbformat_minor": 2
}
