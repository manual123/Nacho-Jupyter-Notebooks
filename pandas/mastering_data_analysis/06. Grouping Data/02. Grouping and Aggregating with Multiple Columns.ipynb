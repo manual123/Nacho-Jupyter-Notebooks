{
 "cells": [
  {
   "cell_type": "markdown",
   "metadata": {},
   "source": [
    "# Grouping and Aggregating with Multiple Columns\n",
    "\n",
    "In this chapter we learn how to form groups using more than one column. We will also aggregate more than one column as well as learn how to apply more than one aggregation function to each group. Let's read in the San Francisco employee compensation dataset."
   ]
  },
  {
   "cell_type": "code",
   "execution_count": null,
   "metadata": {},
   "outputs": [],
   "source": [
    "import pandas as pd\n",
    "sf_emp = pd.read_csv('../data/sf_employee_compensation.csv')\n",
    "sf_emp.head(3)"
   ]
  },
  {
   "cell_type": "markdown",
   "metadata": {},
   "source": [
    "## Review grouping and aggregating with a single column\n",
    "In the previous notebook, we had a single grouping column, aggregating column, and aggregating function. The following syntax was used as a guide:\n",
    "\n",
    "```python\n",
    "df.groupby('<grouping column>').agg(<new_column_name>=('<agg column>', '<agg func>'))\n",
    "```\n",
    "\n",
    "Let's see this again by calculating the average salary for each organization group."
   ]
  },
  {
   "cell_type": "code",
   "execution_count": null,
   "metadata": {},
   "outputs": [],
   "source": [
    "sf_emp.groupby('organization group').agg(avg_salary=('salaries', 'mean')).round(-3)"
   ]
  },
  {
   "cell_type": "markdown",
   "metadata": {},
   "source": [
    "## Grouping with multiple columns\n",
    "\n",
    "To create groups based on distinct values from multiple columns, we need to pass a list of these columns to the `groupby` method. Let's find the average salary for every unique combination of year and organization group."
   ]
  },
  {
   "cell_type": "code",
   "execution_count": null,
   "metadata": {},
   "outputs": [],
   "source": [
    "sf_emp.groupby(['year', 'organization group']) \\\n",
    "      .agg(avg_salary=('salaries', 'mean')).round(-3).head(10)"
   ]
  },
  {
   "cell_type": "markdown",
   "metadata": {},
   "source": [
    "### What happened to our index?\n",
    "\n",
    "Both year and organization group are no longer columns and have been pushed into the index. This is called a **multi-level index** and technically a `MultiIndex` object. The year and organization group are considered **levels** of the index and are NOT columns. You'll notice that duplicated values are not visible in an index when they immediately follow one another such as with the year level above.\n",
    "\n",
    "### The MultiIndex is confusing and not necessary for beginners\n",
    "\n",
    "In my opinion, this multi-level index only adds to confusion. By default, all grouping columns will be added to the index. From this point on, we will chain the `reset_index` method to return these levels to columns."
   ]
  },
  {
   "cell_type": "code",
   "execution_count": null,
   "metadata": {},
   "outputs": [],
   "source": [
    "sf_emp.groupby(['year', 'organization group']) \\\n",
    "      .agg(avg_salary=('salaries', 'mean')).round(-3).reset_index().head(10)"
   ]
  },
  {
   "cell_type": "markdown",
   "metadata": {},
   "source": [
    "### Isn't it easier to read with a MultiIndex?\n",
    "\n",
    "The MultiIndex can make the results easier to read, but it makes further data analysis more difficult as you need to become familiar with special syntax just for the MultiIndex. This added complexity for beginners is not worth the benefit."
   ]
  },
  {
   "cell_type": "markdown",
   "metadata": {},
   "source": [
    "## Aggregating multiple columns\n",
    "\n",
    "To aggregate multiple columns, set a new parameter in the `agg` method that is equal to another two-item tuple containing the aggregating column and aggregating function. Here, we find the average salary and overtime for each organization group."
   ]
  },
  {
   "cell_type": "code",
   "execution_count": null,
   "metadata": {},
   "outputs": [],
   "source": [
    "sf_emp.groupby('organization group').agg(avg_salary=('salaries', 'mean'),\n",
    "                                         avg_overtime=('overtime', 'mean')).round(-3).reset_index()"
   ]
  },
  {
   "cell_type": "markdown",
   "metadata": {},
   "source": [
    "## Multiple grouping columns, aggregating columns, and aggregating functions\n",
    "\n",
    "We can combine the last two approaches to simultaneous have multiple grouping and aggregating columns along with multiple aggregating functions. The following finds the mean, min, and max salaries and the average overtime for every unique combination of year and organization group. "
   ]
  },
  {
   "cell_type": "code",
   "execution_count": null,
   "metadata": {},
   "outputs": [],
   "source": [
    "sf_emp.groupby(['year', 'organization group']) \\\n",
    "      .agg(avg_salary=('salaries', 'mean'),\n",
    "           min_salary=('salaries', 'min'),\n",
    "           max_salary=('salaries', 'max'),\n",
    "           avg_overtime=('overtime', 'mean')).round(-3).reset_index().head(10)"
   ]
  },
  {
   "cell_type": "markdown",
   "metadata": {},
   "source": [
    "## Getting the size of each group\n",
    "\n",
    "Let's say we are interested in the number of occurrences of each unique value in the grouping column. We can use the `size` aggregating function like this."
   ]
  },
  {
   "cell_type": "code",
   "execution_count": null,
   "metadata": {},
   "outputs": [],
   "source": [
    "sf_emp.groupby('organization group').agg(size_salaries=('salaries', 'size'))"
   ]
  },
  {
   "cell_type": "markdown",
   "metadata": {},
   "source": [
    "The `size` aggregating function returns the number of values in each group. It is independent of the aggregating column so regardless of which one you use, the same value is returned. Here we use three different aggregating columns to prove that the size of the group is the same."
   ]
  },
  {
   "cell_type": "code",
   "execution_count": null,
   "metadata": {},
   "outputs": [],
   "source": [
    "sf_emp.groupby('organization group') \\\n",
    "      .agg(size_salary=('salaries', 'size'),\n",
    "           size_overtime=('overtime', 'size'),\n",
    "           size_retirement=('retirement', 'size')).reset_index().head(10)"
   ]
  },
  {
   "cell_type": "markdown",
   "metadata": {},
   "source": [
    "### Just use `value_counts`\n",
    "\n",
    "There isn't a need to call the `groupby` method with the `size` aggregating function when grouping by a single column. This is exactly what the Series method `value_counts` was designed for."
   ]
  },
  {
   "cell_type": "code",
   "execution_count": null,
   "metadata": {},
   "outputs": [],
   "source": [
    "sf_emp['organization group'].value_counts()"
   ]
  },
  {
   "cell_type": "markdown",
   "metadata": {},
   "source": [
    "### Multiple grouping column size\n",
    "\n",
    "When using multiple grouping columns, you'll need to use the `groupby` method to find the size of each group."
   ]
  },
  {
   "cell_type": "code",
   "execution_count": null,
   "metadata": {},
   "outputs": [],
   "source": [
    "sf_emp.groupby(['year', 'organization group']) \\\n",
    "      .agg(size_salary=('salaries', 'size')).head(10)"
   ]
  },
  {
   "cell_type": "markdown",
   "metadata": {},
   "source": [
    "### Alternative Syntax for size\n",
    "\n",
    "You can call the `size` method directly after grouping without the need to use `agg`. This returns the same data as a Series."
   ]
  },
  {
   "cell_type": "code",
   "execution_count": null,
   "metadata": {},
   "outputs": [],
   "source": [
    "sf_emp.groupby(['year', 'organization group']).size().head(10)"
   ]
  },
  {
   "cell_type": "markdown",
   "metadata": {},
   "source": [
    "### Rename the column when using `reset_index`\n",
    "\n",
    "When calling `reset_index` on a Series, like we did above, the new column name for the Series values was the `name` attribute of the Series. If it doesn't exist (like in the example above) then you can supply the column name with the `name` parameter with `reset_index`."
   ]
  },
  {
   "cell_type": "code",
   "execution_count": null,
   "metadata": {},
   "outputs": [],
   "source": [
    "sf_emp.groupby(['year', 'organization group']).size().reset_index(name='size').head(10)"
   ]
  },
  {
   "cell_type": "markdown",
   "metadata": {},
   "source": [
    "## Exercises"
   ]
  },
  {
   "cell_type": "markdown",
   "metadata": {},
   "source": [
    "Execute the following cell to read in the City of Houston employee data and use it for the first few exercises."
   ]
  },
  {
   "cell_type": "code",
   "execution_count": null,
   "metadata": {},
   "outputs": [],
   "source": [
    "import pandas as pd\n",
    "emp = pd.read_csv('../data/employee.csv', parse_dates=['hire_date'])\n",
    "emp.head(3)"
   ]
  },
  {
   "cell_type": "markdown",
   "metadata": {},
   "source": [
    "### Exercise 1\n",
    "\n",
    "<span  style=\"color:green; font-size:16px\">For each department and sex find the number of unique position titles, the total number of employees and the average salary. Make sure there is no multi-index for the index or columns.</span>"
   ]
  },
  {
   "cell_type": "code",
   "execution_count": null,
   "metadata": {},
   "outputs": [],
   "source": []
  },
  {
   "cell_type": "markdown",
   "metadata": {},
   "source": [
    "### Exercise 2\n",
    "\n",
    "<span  style=\"color:green; font-size:16px\">For each department, race and sex find the min and max and salaries.</span>"
   ]
  },
  {
   "cell_type": "code",
   "execution_count": null,
   "metadata": {},
   "outputs": [],
   "source": []
  },
  {
   "cell_type": "markdown",
   "metadata": {},
   "source": [
    "Execute the following cell to read in the college dataset and use it for the remaining exercises."
   ]
  },
  {
   "cell_type": "code",
   "execution_count": null,
   "metadata": {},
   "outputs": [],
   "source": [
    "college = pd.read_csv('../data/college.csv')\n",
    "college.head(3)"
   ]
  },
  {
   "cell_type": "markdown",
   "metadata": {},
   "source": [
    "### Exercise 3\n",
    "<span  style=\"color:green; font-size:16px\">Which city name appears the most frequently. Do this in two different ways. Do it once with and once without the `groupby` method?</span>"
   ]
  },
  {
   "cell_type": "code",
   "execution_count": null,
   "metadata": {},
   "outputs": [],
   "source": []
  },
  {
   "cell_type": "markdown",
   "metadata": {},
   "source": [
    "### Exercise 4\n",
    "\n",
    "<span  style=\"color:green; font-size:16px\">Does the city 'Houston' only appear in the state of Texas (abbreviated 'TX')?</span>"
   ]
  },
  {
   "cell_type": "code",
   "execution_count": null,
   "metadata": {},
   "outputs": [],
   "source": []
  },
  {
   "cell_type": "markdown",
   "metadata": {},
   "source": [
    "### Exercise 5\n",
    "<span  style=\"color:green; font-size:16px\">Find the maximum undergraduate population for each state?</span>"
   ]
  },
  {
   "cell_type": "code",
   "execution_count": null,
   "metadata": {},
   "outputs": [],
   "source": []
  },
  {
   "cell_type": "markdown",
   "metadata": {},
   "source": [
    "### Exercise 6\n",
    "<span  style=\"color:green; font-size:16px\">Among colleges that have the largest undergrad population for each state, what is the difference between the most and least populous college?</span>"
   ]
  },
  {
   "cell_type": "code",
   "execution_count": null,
   "metadata": {},
   "outputs": [],
   "source": []
  },
  {
   "cell_type": "markdown",
   "metadata": {},
   "source": [
    "### Exercise 7\n",
    "<span  style=\"color:green; font-size:16px\">Find the name and population of the largest college per state.</span>"
   ]
  },
  {
   "cell_type": "code",
   "execution_count": null,
   "metadata": {},
   "outputs": [],
   "source": []
  },
  {
   "cell_type": "markdown",
   "metadata": {},
   "source": [
    "### Exercise 8\n",
    "<span  style=\"color:green; font-size:16px\">Do distance only schools tend to have more or less student population than non-distance-only schools?</span>"
   ]
  },
  {
   "cell_type": "code",
   "execution_count": null,
   "metadata": {},
   "outputs": [],
   "source": []
  },
  {
   "cell_type": "markdown",
   "metadata": {},
   "source": [
    "### Exercise 9\n",
    "<span  style=\"color:green; font-size:16px\">Do distance only schools tend to be more or less religously affiliated than non-distance-only schools?</span>"
   ]
  },
  {
   "cell_type": "code",
   "execution_count": null,
   "metadata": {},
   "outputs": [],
   "source": []
  },
  {
   "cell_type": "markdown",
   "metadata": {},
   "source": [
    "### Exercise 10\n",
    "<span  style=\"color:green; font-size:16px\">What state has the lowest percentage of currently operating schools of those that have religious affiliation?</span>"
   ]
  },
  {
   "cell_type": "code",
   "execution_count": null,
   "metadata": {},
   "outputs": [],
   "source": []
  },
  {
   "cell_type": "markdown",
   "metadata": {},
   "source": [
    "### Exercise 11\n",
    "\n",
    "<span  style=\"color:green; font-size:16px\">Find the top 5 historically black colleges that have the highest undergraduate white percentage (ugds_white)?</span>"
   ]
  },
  {
   "cell_type": "code",
   "execution_count": null,
   "metadata": {},
   "outputs": [],
   "source": []
  }
 ],
 "metadata": {
  "kernelspec": {
   "display_name": "Python 3",
   "language": "python",
   "name": "python3"
  },
  "language_info": {
   "codemirror_mode": {
    "name": "ipython",
    "version": 3
   },
   "file_extension": ".py",
   "mimetype": "text/x-python",
   "name": "python",
   "nbconvert_exporter": "python",
   "pygments_lexer": "ipython3",
   "version": "3.7.3"
  },
  "varInspector": {
   "cols": {
    "lenName": 16,
    "lenType": 16,
    "lenVar": 40
   },
   "kernels_config": {
    "python": {
     "delete_cmd_postfix": "",
     "delete_cmd_prefix": "del ",
     "library": "var_list.py",
     "varRefreshCmd": "print(var_dic_list())"
    },
    "r": {
     "delete_cmd_postfix": ") ",
     "delete_cmd_prefix": "rm(",
     "library": "var_list.r",
     "varRefreshCmd": "cat(var_dic_list()) "
    }
   },
   "types_to_exclude": [
    "module",
    "function",
    "builtin_function_or_method",
    "instance",
    "_Feature"
   ],
   "window_display": false
  }
 },
 "nbformat": 4,
 "nbformat_minor": 2
}
