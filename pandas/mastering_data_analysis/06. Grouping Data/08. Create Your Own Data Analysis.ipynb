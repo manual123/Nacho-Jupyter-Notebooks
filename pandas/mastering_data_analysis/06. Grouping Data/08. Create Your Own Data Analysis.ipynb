{
 "cells": [
  {
   "cell_type": "markdown",
   "metadata": {},
   "source": [
    "# Create Your Own Data Analysis\n",
    "\n",
    "## Overview\n",
    "\n",
    "In this notebook, you will create your own data analysis by asking and answering your own questions on a dataset of your choice. It is an important skill to be able to explore data completely on your own without a specific direction.\n",
    "\n",
    "### Places to find data\n",
    "\n",
    "* [Kaggle datasets][1]\n",
    "* [data.world][2]\n",
    "* Most large US cities, [NYC][3], [Denver][4], [US Gov't][5], simply do a web search for \"open data [US city]\"\n",
    "    \n",
    "### Suggestions for choosing a dataset\n",
    "* Find one that interests you\n",
    "* For Kaggle, filter the size to those that are small (<10MB) and to those that are csv files\n",
    "* Choose a dataset that contains both string and numeric columns. String columns are usually used for grouping, so its important to have a dataset with a few of them\n",
    "* If you pick a dataset that has many columns (more than 20), you might want to select a small subset of them to analyze\n",
    "* If you pick a dataset that has many rows (more than 100k), you might want to take a random sample of it with the `sample` method to help speed up processing\n",
    "    \n",
    "### The Assignment\n",
    "* Think of an interesting question that you would like answered\n",
    "* Edit the markdown of the first problem below with your question\n",
    "* Answer your question directly below it\n",
    "* Copy and paste the markdown of the first question into a new cell to start the second question\n",
    "* Continue asking and answering questions\n",
    "* It may help to begin with easier questions and gradually ask more difficult ones\n",
    "* Ask and answer at least 10 questions\n",
    "* It is not necessary to know the answer to a question\n",
    "\n",
    "### Explore the limitations of your current knowledge\n",
    "I encourage you to ask questions for which you may not know the answer. We have not quite covered all the possible tools in Pandas so you will not be able to answer everything.\n",
    "\n",
    "### Compiling Results\n",
    "Once you have completed the exploration, email Ted a single notebook (an .ipynb file) along with the data. He will consolidate all the notebooks into a single notebook. He will then provide answers to the questions and send out the compiled results back to you.\n",
    "\n",
    "### MAKE YOUR NOTEBOOKS CLEAN!!!\n",
    "It's important that the notebook you submit is clean without random code or extra work not related to the problems. They should resemble my solution notebooks. Make sure you append the `head` method to your DataFrame and Series output. \n",
    "\n",
    "#### Use this notebook as a rough draft and use a second for the final copy\n",
    "Use this notebook as a rough draft. When you are finished asking and answering your questions, make a copy of this notebook using the **File** menu above and leave just questions and answers. This will be the final copy you submit to me. To check that your notebook runs all cells successfully, select **Run All** from the **Cell** menu above. Make sure to send me the data file as well.\n",
    "\n",
    "[1]: https://www.kaggle.com/datasets\n",
    "[2]: https://data.world/\n",
    "[3]: https://opendata.cityofnewyork.us/\n",
    "[4]: https://www.denvergov.org/opendata\n",
    "[5]: https://www.data.gov/\n",
    "\n",
    "__________________________\n",
    "\n",
    "## Begin Asking and Answering Questions"
   ]
  },
  {
   "cell_type": "markdown",
   "metadata": {},
   "source": [
    "### Exercise 1\n",
    "<span  style=\"color:green; font-size:16px\">Double-click this cell and replace this sentence with a question of your own</span>"
   ]
  },
  {
   "cell_type": "code",
   "execution_count": null,
   "metadata": {},
   "outputs": [],
   "source": []
  }
 ],
 "metadata": {
  "kernelspec": {
   "display_name": "Python 3",
   "language": "python",
   "name": "python3"
  },
  "language_info": {
   "codemirror_mode": {
    "name": "ipython",
    "version": 3
   },
   "file_extension": ".py",
   "mimetype": "text/x-python",
   "name": "python",
   "nbconvert_exporter": "python",
   "pygments_lexer": "ipython3",
   "version": "3.7.3"
  },
  "varInspector": {
   "cols": {
    "lenName": 16,
    "lenType": 16,
    "lenVar": 40
   },
   "kernels_config": {
    "python": {
     "delete_cmd_postfix": "",
     "delete_cmd_prefix": "del ",
     "library": "var_list.py",
     "varRefreshCmd": "print(var_dic_list())"
    },
    "r": {
     "delete_cmd_postfix": ") ",
     "delete_cmd_prefix": "rm(",
     "library": "var_list.r",
     "varRefreshCmd": "cat(var_dic_list()) "
    }
   },
   "types_to_exclude": [
    "module",
    "function",
    "builtin_function_or_method",
    "instance",
    "_Feature"
   ],
   "window_display": false
  }
 },
 "nbformat": 4,
 "nbformat_minor": 2
}
