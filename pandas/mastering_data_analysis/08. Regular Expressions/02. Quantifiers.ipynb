{
 "cells": [
  {
   "cell_type": "markdown",
   "metadata": {},
   "source": [
    "# Quantifiers\n",
    "\n",
    "This notebook continues coverage of the special characters by focusing on those that are used to match repeated characters. These group of metacharacters are called **quantifiers**, because they quantify they type of repetition you desire.\n",
    "\n",
    "## The asterisk metacharacter `*`\n",
    "The **asterisk** or **star** metacharacter matches the previous character 0 or more times. For instance, the regex, `'Ah* No'` will look for strings that have an uppercase 'A' followed by 0 or more lowercase 'h' followed by ' No'. Let's see how this works on a Series of sample data:"
   ]
  },
  {
   "cell_type": "code",
   "execution_count": null,
   "metadata": {},
   "outputs": [],
   "source": [
    "# Create Series of fake data\n",
    "import pandas as pd\n",
    "s = pd.Series(['Ouch', 'Ah No', 'Ahh', 'Nooo', 'Ahhhhhhh No', 'A No', 'A'])\n",
    "s"
   ]
  },
  {
   "cell_type": "code",
   "execution_count": null,
   "metadata": {},
   "outputs": [],
   "source": [
    "pattern = 'Ah* No'\n",
    "filt = s.str.contains(pattern)\n",
    "s[filt]"
   ]
  },
  {
   "cell_type": "markdown",
   "metadata": {},
   "source": [
    "Without the ' No' at the end, it would match two more values:"
   ]
  },
  {
   "cell_type": "code",
   "execution_count": null,
   "metadata": {},
   "outputs": [],
   "source": [
    "pattern = 'Ah*'\n",
    "filt = s.str.contains(pattern)\n",
    "s[filt]"
   ]
  },
  {
   "cell_type": "markdown",
   "metadata": {},
   "source": [
    "## The plus metacharacter `+`\n",
    "The **plus** metacharacter is very similar to the asterisk, except that it matches 1 or more of the previous character. Thus for the regex `'Ah+ No'`, the 'h' must appear at least once."
   ]
  },
  {
   "cell_type": "code",
   "execution_count": null,
   "metadata": {},
   "outputs": [],
   "source": [
    "pattern = 'Ah+ No'\n",
    "filt = s.str.contains(pattern)\n",
    "s[filt]"
   ]
  },
  {
   "cell_type": "markdown",
   "metadata": {},
   "source": [
    "## The question mark metacharacter `?`\n",
    "The question mark is similar to both the asterisk and the star, except that it matches the previous character 0 or 1 times exactly."
   ]
  },
  {
   "cell_type": "code",
   "execution_count": null,
   "metadata": {},
   "outputs": [],
   "source": [
    "pattern = 'Ah? No'\n",
    "filt = s.str.contains(pattern)\n",
    "s[filt]"
   ]
  },
  {
   "cell_type": "markdown",
   "metadata": {},
   "source": [
    "Using another example, the regex `'Sec?r'` will match both 'Secret' and 'Serving'. Basically, the character before the question mark is **optional**."
   ]
  },
  {
   "cell_type": "code",
   "execution_count": null,
   "metadata": {},
   "outputs": [],
   "source": [
    "movie = pd.read_csv('../data/movie.csv')\n",
    "title = movie['title']\n",
    "pattern = 'Sec?r'\n",
    "filt = title.str.contains(pattern)\n",
    "title[filt].head()"
   ]
  },
  {
   "cell_type": "markdown",
   "metadata": {},
   "source": [
    "## The curly braces metacharacter `{m,n}`\n",
    "The curly braces metacharacter matches the previous character a given number of times. There are four different ways to use the curly braces:\n",
    "\n",
    "* a single integer `a{3}` - matches exactly three 'a' characters in a row\n",
    "* a single integer followed by a comma `a{3,}` - matches three or more 'a' characters in a row\n",
    "* a comma followed by a single integer `a{,3}` - matches zero to three 'a' characters in a row\n",
    "* two integers separated by a comma `a{3,5}` - matches between 3 and 5 'a' characters in a row\n",
    "\n",
    "Let's create another Series by hand and match all the strings that begin with 'A', have the letter 'h' repeat between 2 and 5 times and then followed by ' No'."
   ]
  },
  {
   "cell_type": "code",
   "execution_count": null,
   "metadata": {},
   "outputs": [],
   "source": [
    "s = pd.Series(['Ouch', 'Ahhh No', 'Ahh No', 'Nooo', 'Ahhhhhhh No', 'A No', 'A', 'Ahhh'])\n",
    "s"
   ]
  },
  {
   "cell_type": "code",
   "execution_count": null,
   "metadata": {},
   "outputs": [],
   "source": [
    "pattern = 'Ah{2,5} No'\n",
    "filt = s.str.contains(pattern)\n",
    "s[filt]"
   ]
  },
  {
   "cell_type": "markdown",
   "metadata": {},
   "source": [
    "## Exercises\n",
    "Use the title column of the movie Series for these exercises."
   ]
  },
  {
   "cell_type": "code",
   "execution_count": null,
   "metadata": {},
   "outputs": [],
   "source": [
    "movie = pd.read_csv('../data/movie.csv')\n",
    "title = movie['title']"
   ]
  },
  {
   "cell_type": "markdown",
   "metadata": {},
   "source": [
    "### Exercise 1\n",
    "<span  style=\"color:green; font-size:16px\">Find all movies that have a 'z' as their 15th character.</span>"
   ]
  },
  {
   "cell_type": "code",
   "execution_count": null,
   "metadata": {},
   "outputs": [],
   "source": []
  },
  {
   "cell_type": "markdown",
   "metadata": {},
   "source": [
    "### Exercise 2\n",
    "<span  style=\"color:green; font-size:16px\">Find all movies that have the word 'Friend' or 'Friends' in them.</span>"
   ]
  },
  {
   "cell_type": "code",
   "execution_count": null,
   "metadata": {},
   "outputs": [],
   "source": []
  },
  {
   "cell_type": "markdown",
   "metadata": {},
   "source": [
    "### Exercise 3\n",
    "<span  style=\"color:green; font-size:16px\">Find all movies that have between 40 and 43 characters in them. Can you verify the results with another `str` accessor method?</span>"
   ]
  },
  {
   "cell_type": "code",
   "execution_count": null,
   "metadata": {},
   "outputs": [],
   "source": []
  },
  {
   "cell_type": "markdown",
   "metadata": {},
   "source": [
    "### Exercise 4\n",
    "<span  style=\"color:green; font-size:16px\">Find all movies that begin with 'The' and end in 'Movie'</span>"
   ]
  },
  {
   "cell_type": "code",
   "execution_count": null,
   "metadata": {},
   "outputs": [],
   "source": []
  },
  {
   "cell_type": "markdown",
   "metadata": {},
   "source": [
    "### Exercise 5\n",
    "<span  style=\"color:green; font-size:16px\">Create your own Series and make a regular expression that uses the `+` metacharacter. Is this character necessary?</span>"
   ]
  },
  {
   "cell_type": "code",
   "execution_count": null,
   "metadata": {},
   "outputs": [],
   "source": []
  }
 ],
 "metadata": {
  "kernelspec": {
   "display_name": "Python 3",
   "language": "python",
   "name": "python3"
  },
  "language_info": {
   "codemirror_mode": {
    "name": "ipython",
    "version": 3
   },
   "file_extension": ".py",
   "mimetype": "text/x-python",
   "name": "python",
   "nbconvert_exporter": "python",
   "pygments_lexer": "ipython3",
   "version": "3.7.3"
  }
 },
 "nbformat": 4,
 "nbformat_minor": 2
}
