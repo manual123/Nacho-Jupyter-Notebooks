{
 "metadata": {
  "name": ""
 },
 "nbformat": 3,
 "nbformat_minor": 0,
 "worksheets": [
  {
   "cells": [
    {
     "cell_type": "markdown",
     "metadata": {},
     "source": [
      "[A while back I claimed](http://www.gregreda.com/2013/01/23/translating-sql-to-pandas-part1/) I was going to write a couple of posts on translating [pandas](http://pandas.pydata.org) to SQL. I never followed up. However, the other week a couple of coworkers expressed their interest in learning a bit more about it - this seemed like a good reason to revisit the topic.\n",
      "\n",
      "What follows is a fairly thorough introduction to the library. I chose to break it into three parts as I felt it was too long and daunting as one.\n",
      "\n",
      "- [Part 1: Intro to pandas data structures](http://www.gregreda.com/2013/10/26/intro-to-pandas-data-structures/), covers the basics of the library's two main data structures - Series and DataFrames.\n",
      "\n",
      "- [Part 2: Working with DataFrames](http://www.gregreda.com/2013/10/26/working-with-pandas-dataframes/), dives a bit deeper into the functionality of DataFrames. It shows how to inspect, select, filter, merge, combine, and group your data.\n",
      "\n",
      "- [Part 3: Using pandas with the MovieLens dataset](http://www.gregreda.com/2013/10/26/using-pandas-on-the-movielens-dataset/), applies the learnings of the first two parts in order to answer a few basic analysis questions about the MovieLens ratings data.\n",
      "\n",
      "If you'd like to follow along, you can find the necessary CSV files [here](https://github.com/gjreda/gregreda.com/tree/master/content/notebooks/data) and the MovieLens dataset [here](http://files.grouplens.org/datasets/movielens/ml-100k.zip).\n",
      "\n",
      "My goal for this tutorial is to teach the basics of pandas by comparing and contrasting its syntax with SQL. Since all of my coworkers are familiar with SQL, I feel this is the best way to provide a context that can be easily understood by the intended audience.\n",
      "\n",
      "If you're interested in learning more about the library, pandas author [Wes McKinney](https://twitter.com/wesmckinn) has written [Python for Data Analysis](http://www.amazon.com/Python-Data-Analysis-Wes-McKinney/dp/1449319793), which covers it in much greater detail."
     ]
    },
    {
     "cell_type": "markdown",
     "metadata": {},
     "source": [
      "### What is it?\n",
      "[pandas](http://pandas.pydata.org/) is an open source [Python](http://www.python.org/) library for data analysis. Python has always been great for prepping and munging data, but it's never been great for analysis - you'd usually end up using [R](http://www.r-project.org/) or loading it into a database and using SQL (or worse, Excel). pandas makes Python great for analysis."
     ]
    },
    {
     "cell_type": "markdown",
     "metadata": {},
     "source": [
      "## Data Structures\n",
      "pandas introduces two new data structures to Python - [Series](http://pandas.pydata.org/pandas-docs/dev/dsintro.html#series) and [DataFrame](http://pandas.pydata.org/pandas-docs/dev/dsintro.html#dataframe), both of which are built on top of [NumPy](http://www.numpy.org/) (this means it's fast)."
     ]
    },
    {
     "cell_type": "code",
     "collapsed": false,
     "input": [
      "import pandas as pd\n",
      "import numpy as np\n",
      "import matplotlib.pyplot as plt\n",
      "pd.set_option('max_columns', 50)"
     ],
     "language": "python",
     "metadata": {},
     "outputs": [],
     "prompt_number": 1
    },
    {
     "cell_type": "markdown",
     "metadata": {},
     "source": [
      "### Series"
     ]
    },
    {
     "cell_type": "markdown",
     "metadata": {},
     "source": [
      "A Series is a one-dimensional object similar to an array, list, or column in a table. It will assign a labeled index to each item in the Series. By default, each item will receive an index label from 0 to N, where N is the length of the Series minus one."
     ]
    },
    {
     "cell_type": "code",
     "collapsed": false,
     "input": [
      "# create a Series with an arbitrary list\n",
      "s = pd.Series([7, 'Heisenberg', 3.14, -1789710578, 'Happy Eating!'])\n",
      "s"
     ],
     "language": "python",
     "metadata": {},
     "outputs": [
      {
       "metadata": {},
       "output_type": "pyout",
       "prompt_number": 2,
       "text": [
        "0                7\n",
        "1       Heisenberg\n",
        "2             3.14\n",
        "3      -1789710578\n",
        "4    Happy Eating!\n",
        "dtype: object"
       ]
      }
     ],
     "prompt_number": 2
    },
    {
     "cell_type": "markdown",
     "metadata": {},
     "source": [
      "Alternatively, you can specify an index to use when creating the Series."
     ]
    },
    {
     "cell_type": "code",
     "collapsed": false,
     "input": [
      "s = pd.Series([7, 'Heisenberg', 3.14, -1789710578, 'Happy Eating!'],\n",
      "              index=['A', 'Z', 'C', 'Y', 'E'])\n",
      "s"
     ],
     "language": "python",
     "metadata": {},
     "outputs": [
      {
       "metadata": {},
       "output_type": "pyout",
       "prompt_number": 3,
       "text": [
        "A                7\n",
        "Z       Heisenberg\n",
        "C             3.14\n",
        "Y      -1789710578\n",
        "E    Happy Eating!\n",
        "dtype: object"
       ]
      }
     ],
     "prompt_number": 3
    },
    {
     "cell_type": "markdown",
     "metadata": {},
     "source": [
      "The Series constructor can convert a dictonary as well, using the keys of the dictionary as its index."
     ]
    },
    {
     "cell_type": "code",
     "collapsed": false,
     "input": [
      "d = {'Chicago': 1000, 'New York': 1300, 'Portland': 900, 'San Francisco': 1100,\n",
      "     'Austin': 450, 'Boston': None}\n",
      "cities = pd.Series(d)\n",
      "cities"
     ],
     "language": "python",
     "metadata": {},
     "outputs": [
      {
       "metadata": {},
       "output_type": "pyout",
       "prompt_number": 4,
       "text": [
        "Austin            450\n",
        "Boston            NaN\n",
        "Chicago          1000\n",
        "New York         1300\n",
        "Portland          900\n",
        "San Francisco    1100\n",
        "dtype: float64"
       ]
      }
     ],
     "prompt_number": 4
    },
    {
     "cell_type": "markdown",
     "metadata": {},
     "source": [
      "You can use the index to select specific items from the Series ..."
     ]
    },
    {
     "cell_type": "code",
     "collapsed": false,
     "input": [
      "cities['Chicago']"
     ],
     "language": "python",
     "metadata": {},
     "outputs": [
      {
       "metadata": {},
       "output_type": "pyout",
       "prompt_number": 5,
       "text": [
        "1000.0"
       ]
      }
     ],
     "prompt_number": 5
    },
    {
     "cell_type": "code",
     "collapsed": false,
     "input": [
      "cities[['Chicago', 'Portland', 'San Francisco']]"
     ],
     "language": "python",
     "metadata": {},
     "outputs": [
      {
       "metadata": {},
       "output_type": "pyout",
       "prompt_number": 6,
       "text": [
        "Chicago          1000\n",
        "Portland          900\n",
        "San Francisco    1100\n",
        "dtype: float64"
       ]
      }
     ],
     "prompt_number": 6
    },
    {
     "cell_type": "markdown",
     "metadata": {},
     "source": [
      "Or you can use boolean indexing for selection."
     ]
    },
    {
     "cell_type": "code",
     "collapsed": false,
     "input": [
      "cities[cities < 1000]"
     ],
     "language": "python",
     "metadata": {},
     "outputs": [
      {
       "metadata": {},
       "output_type": "pyout",
       "prompt_number": 7,
       "text": [
        "Austin      450\n",
        "Portland    900\n",
        "dtype: float64"
       ]
      }
     ],
     "prompt_number": 7
    },
    {
     "cell_type": "markdown",
     "metadata": {},
     "source": [
      "That last one might be a little weird, so let's make it more clear - `cities < 1000` returns a Series of True/False values, which we then pass to our Series `cities`, returning the corresponding True items."
     ]
    },
    {
     "cell_type": "code",
     "collapsed": false,
     "input": [
      "less_than_1000 = cities < 1000\n",
      "print less_than_1000\n",
      "print '\\n'\n",
      "print cities[less_than_1000]"
     ],
     "language": "python",
     "metadata": {},
     "outputs": [
      {
       "output_type": "stream",
       "stream": "stdout",
       "text": [
        "Austin            True\n",
        "Boston           False\n",
        "Chicago          False\n",
        "New York         False\n",
        "Portland          True\n",
        "San Francisco    False\n",
        "dtype: bool\n",
        "\n",
        "\n",
        "Austin      450\n",
        "Portland    900\n",
        "dtype: float64\n"
       ]
      }
     ],
     "prompt_number": 8
    },
    {
     "cell_type": "markdown",
     "metadata": {},
     "source": [
      "You can also change the values in a Series on the fly."
     ]
    },
    {
     "cell_type": "code",
     "collapsed": false,
     "input": [
      "# changing based on the index\n",
      "print 'Old value:', cities['Chicago']\n",
      "cities['Chicago'] = 1400\n",
      "print 'New value:', cities['Chicago']"
     ],
     "language": "python",
     "metadata": {},
     "outputs": [
      {
       "output_type": "stream",
       "stream": "stdout",
       "text": [
        "Old value: 1000.0\n",
        "New value: 1400.0\n"
       ]
      }
     ],
     "prompt_number": 9
    },
    {
     "cell_type": "code",
     "collapsed": false,
     "input": [
      "# changing values using boolean logic\n",
      "print cities[cities < 1000]\n",
      "print '\\n'\n",
      "cities[cities < 1000] = 750\n",
      "\n",
      "print cities[cities < 1000]"
     ],
     "language": "python",
     "metadata": {},
     "outputs": [
      {
       "output_type": "stream",
       "stream": "stdout",
       "text": [
        "Austin      450\n",
        "Portland    900\n",
        "dtype: float64\n",
        "\n",
        "\n",
        "Austin      750\n",
        "Portland    750\n",
        "dtype: float64\n"
       ]
      }
     ],
     "prompt_number": 10
    },
    {
     "cell_type": "markdown",
     "metadata": {},
     "source": [
      "What if you aren't sure whether an item is in the Series?  You can check using idiomatic Python."
     ]
    },
    {
     "cell_type": "code",
     "collapsed": false,
     "input": [
      "print 'Seattle' in cities\n",
      "print 'San Francisco' in cities"
     ],
     "language": "python",
     "metadata": {},
     "outputs": [
      {
       "output_type": "stream",
       "stream": "stdout",
       "text": [
        "False\n",
        "True\n"
       ]
      }
     ],
     "prompt_number": 11
    },
    {
     "cell_type": "markdown",
     "metadata": {},
     "source": [
      "Mathematical operations can be done using scalars and functions."
     ]
    },
    {
     "cell_type": "code",
     "collapsed": false,
     "input": [
      "# divide city values by 3\n",
      "cities / 3"
     ],
     "language": "python",
     "metadata": {},
     "outputs": [
      {
       "metadata": {},
       "output_type": "pyout",
       "prompt_number": 12,
       "text": [
        "Austin           250.000000\n",
        "Boston                  NaN\n",
        "Chicago          466.666667\n",
        "New York         433.333333\n",
        "Portland         250.000000\n",
        "San Francisco    366.666667\n",
        "dtype: float64"
       ]
      }
     ],
     "prompt_number": 12
    },
    {
     "cell_type": "code",
     "collapsed": false,
     "input": [
      "# square city values\n",
      "np.square(cities)"
     ],
     "language": "python",
     "metadata": {},
     "outputs": [
      {
       "metadata": {},
       "output_type": "pyout",
       "prompt_number": 13,
       "text": [
        "Austin            562500\n",
        "Boston               NaN\n",
        "Chicago          1960000\n",
        "New York         1690000\n",
        "Portland          562500\n",
        "San Francisco    1210000\n",
        "dtype: float64"
       ]
      }
     ],
     "prompt_number": 13
    },
    {
     "cell_type": "markdown",
     "metadata": {},
     "source": [
      "You can add two Series together, which returns a union of the two Series with the addition occurring on the shared index values.  Values on either Series that did not have a shared index will produce a NULL/NaN (not a number)."
     ]
    },
    {
     "cell_type": "code",
     "collapsed": false,
     "input": [
      "print cities[['Chicago', 'New York', 'Portland']]\n",
      "print'\\n'\n",
      "print cities[['Austin', 'New York']]\n",
      "print'\\n'\n",
      "print cities[['Chicago', 'New York', 'Portland']] + cities[['Austin', 'New York']]"
     ],
     "language": "python",
     "metadata": {},
     "outputs": [
      {
       "output_type": "stream",
       "stream": "stdout",
       "text": [
        "Chicago     1400\n",
        "New York    1300\n",
        "Portland     750\n",
        "dtype: float64\n",
        "\n",
        "\n",
        "Austin       750\n",
        "New York    1300\n",
        "dtype: float64\n",
        "\n",
        "\n",
        "Austin       NaN\n",
        "Chicago      NaN\n",
        "New York    2600\n",
        "Portland     NaN\n",
        "dtype: float64\n"
       ]
      }
     ],
     "prompt_number": 14
    },
    {
     "cell_type": "markdown",
     "metadata": {},
     "source": [
      "Notice that because Austin, Chicago, and Portland were not found in both Series, they were returned with NULL/NaN values.\n",
      "\n",
      "NULL checking can be performed with `isnull` and `notnull`."
     ]
    },
    {
     "cell_type": "code",
     "collapsed": false,
     "input": [
      "# returns a boolean series indicating which values aren't NULL\n",
      "cities.notnull()"
     ],
     "language": "python",
     "metadata": {},
     "outputs": [
      {
       "metadata": {},
       "output_type": "pyout",
       "prompt_number": 15,
       "text": [
        "Austin            True\n",
        "Boston           False\n",
        "Chicago           True\n",
        "New York          True\n",
        "Portland          True\n",
        "San Francisco     True\n",
        "dtype: bool"
       ]
      }
     ],
     "prompt_number": 15
    },
    {
     "cell_type": "code",
     "collapsed": false,
     "input": [
      "# use boolean logic to grab the NULL cities\n",
      "print cities.isnull()\n",
      "print '\\n'\n",
      "print cities[cities.isnull()]"
     ],
     "language": "python",
     "metadata": {},
     "outputs": [
      {
       "output_type": "stream",
       "stream": "stdout",
       "text": [
        "Austin           False\n",
        "Boston            True\n",
        "Chicago          False\n",
        "New York         False\n",
        "Portland         False\n",
        "San Francisco    False\n",
        "dtype: bool\n",
        "\n",
        "\n",
        "Boston   NaN\n",
        "dtype: float64\n"
       ]
      }
     ],
     "prompt_number": 16
    },
    {
     "cell_type": "markdown",
     "metadata": {},
     "source": [
      "## DataFrame\n",
      "\n",
      "A DataFrame is a tablular data structure comprised of rows and columns, akin to a spreadsheet, database table, or R's data.frame object. You can also think of a DataFrame as a group of Series objects that share an index (the column names).\n",
      "\n",
      "For the rest of the tutorial, we'll be primarily working with DataFrames."
     ]
    },
    {
     "cell_type": "markdown",
     "metadata": {},
     "source": [
      "### Reading Data\n",
      "\n",
      "To create a DataFrame out of common Python data structures, we can pass a dictionary of lists to the DataFrame constructor.\n",
      "\n",
      "Using the `columns` parameter allows us to tell the constructor how we'd like the columns ordered. By default, the DataFrame constructor will order the columns alphabetically (though this isn't the case when reading from a file - more on that next)."
     ]
    },
    {
     "cell_type": "code",
     "collapsed": false,
     "input": [
      "data = {'year': [2010, 2011, 2012, 2011, 2012, 2010, 2011, 2012],\n",
      "        'team': ['Bears', 'Bears', 'Bears', 'Packers', 'Packers', 'Lions', 'Lions', 'Lions'],\n",
      "        'wins': [11, 8, 10, 15, 11, 6, 10, 4],\n",
      "        'losses': [5, 8, 6, 1, 5, 10, 6, 12]}\n",
      "football = pd.DataFrame(data, columns=['year', 'team', 'wins', 'losses'])\n",
      "print football"
     ],
     "language": "python",
     "metadata": {},
     "outputs": [
      {
       "output_type": "stream",
       "stream": "stdout",
       "text": [
        "   year     team  wins  losses\n",
        "0  2010    Bears    11       5\n",
        "1  2011    Bears     8       8\n",
        "2  2012    Bears    10       6\n",
        "3  2011  Packers    15       1\n",
        "4  2012  Packers    11       5\n",
        "5  2010    Lions     6      10\n",
        "6  2011    Lions    10       6\n",
        "7  2012    Lions     4      12\n"
       ]
      }
     ],
     "prompt_number": 17
    },
    {
     "cell_type": "markdown",
     "metadata": {},
     "source": [
      "Much more often, you'll have a dataset you want to read into a DataFrame. Let's go through several common ways of doing so."
     ]
    },
    {
     "cell_type": "markdown",
     "metadata": {},
     "source": [
      "**CSV**\n",
      "\n",
      "Reading a CSV is as simple as calling the *read_csv* function. By default, the *read_csv* function expects the column separator to be a comma, but you can change that using the `sep` parameter."
     ]
    },
    {
     "cell_type": "code",
     "collapsed": false,
     "input": [
      "%cd ~/Dropbox/tutorials/pandas/"
     ],
     "language": "python",
     "metadata": {},
     "outputs": [
      {
       "output_type": "stream",
       "stream": "stdout",
       "text": [
        "/Users/greda/Dropbox/tutorials/pandas\n"
       ]
      }
     ],
     "prompt_number": 18
    },
    {
     "cell_type": "code",
     "collapsed": false,
     "input": [
      "# Source: baseball-reference.com/players/r/riverma01.shtml\n",
      "!head -n 5 mariano-rivera.csv"
     ],
     "language": "python",
     "metadata": {},
     "outputs": [
      {
       "output_type": "stream",
       "stream": "stdout",
       "text": [
        "Year,Age,Tm,Lg,W,L,W-L%,ERA,G,GS,GF,CG,SHO,SV,IP,H,R,ER,HR,BB,IBB,SO,HBP,BK,WP,BF,ERA+,WHIP,H/9,HR/9,BB/9,SO/9,SO/BB,Awards\r\n",
        "1995,25,NYY,AL,5,3,.625,5.51,19,10,2,0,0,0,67.0,71,43,41,11,30,0,51,2,1,0,301,84,1.507,9.5,1.5,4.0,6.9,1.70,\r\n",
        "1996,26,NYY,AL,8,3,.727,2.09,61,0,14,0,0,5,107.2,73,25,25,1,34,3,130,2,0,1,425,240,0.994,6.1,0.1,2.8,10.9,3.82,CYA-3MVP-12\r\n",
        "1997,27,NYY,AL,6,4,.600,1.88,66,0,56,0,0,43,71.2,65,17,15,5,20,6,68,0,0,2,301,239,1.186,8.2,0.6,2.5,8.5,3.40,ASMVP-25\r\n",
        "1998,28,NYY,AL,3,0,1.000,1.91,54,0,49,0,0,36,61.1,48,13,13,3,17,1,36,1,0,0,246,233,1.060,7.0,0.4,2.5,5.3,2.12,\r\n"
       ]
      }
     ],
     "prompt_number": 19
    },
    {
     "cell_type": "code",
     "collapsed": false,
     "input": [
      "from_csv = pd.read_csv('mariano-rivera.csv')\n",
      "from_csv.head()"
     ],
     "language": "python",
     "metadata": {},
     "outputs": [
      {
       "html": [
        "<div style=\"max-height:1000px;max-width:1500px;overflow:auto;\">\n",
        "<table border=\"1\" class=\"dataframe\">\n",
        "  <thead>\n",
        "    <tr style=\"text-align: right;\">\n",
        "      <th></th>\n",
        "      <th>Year</th>\n",
        "      <th>Age</th>\n",
        "      <th>Tm</th>\n",
        "      <th>Lg</th>\n",
        "      <th>W</th>\n",
        "      <th>L</th>\n",
        "      <th>W-L%</th>\n",
        "      <th>ERA</th>\n",
        "      <th>G</th>\n",
        "      <th>GS</th>\n",
        "      <th>GF</th>\n",
        "      <th>CG</th>\n",
        "      <th>SHO</th>\n",
        "      <th>SV</th>\n",
        "      <th>IP</th>\n",
        "      <th>H</th>\n",
        "      <th>R</th>\n",
        "      <th>ER</th>\n",
        "      <th>HR</th>\n",
        "      <th>BB</th>\n",
        "      <th>IBB</th>\n",
        "      <th>SO</th>\n",
        "      <th>HBP</th>\n",
        "      <th>BK</th>\n",
        "      <th>WP</th>\n",
        "      <th>BF</th>\n",
        "      <th>ERA+</th>\n",
        "      <th>WHIP</th>\n",
        "      <th>H/9</th>\n",
        "      <th>HR/9</th>\n",
        "      <th>BB/9</th>\n",
        "      <th>SO/9</th>\n",
        "      <th>SO/BB</th>\n",
        "      <th>Awards</th>\n",
        "    </tr>\n",
        "  </thead>\n",
        "  <tbody>\n",
        "    <tr>\n",
        "      <th>0</th>\n",
        "      <td> 1995</td>\n",
        "      <td> 25</td>\n",
        "      <td> NYY</td>\n",
        "      <td> AL</td>\n",
        "      <td> 5</td>\n",
        "      <td> 3</td>\n",
        "      <td> 0.625</td>\n",
        "      <td> 5.51</td>\n",
        "      <td> 19</td>\n",
        "      <td> 10</td>\n",
        "      <td>  2</td>\n",
        "      <td> 0</td>\n",
        "      <td> 0</td>\n",
        "      <td>  0</td>\n",
        "      <td>  67.0</td>\n",
        "      <td> 71</td>\n",
        "      <td> 43</td>\n",
        "      <td> 41</td>\n",
        "      <td> 11</td>\n",
        "      <td> 30</td>\n",
        "      <td> 0</td>\n",
        "      <td>  51</td>\n",
        "      <td> 2</td>\n",
        "      <td> 1</td>\n",
        "      <td> 0</td>\n",
        "      <td> 301</td>\n",
        "      <td>  84</td>\n",
        "      <td> 1.507</td>\n",
        "      <td> 9.5</td>\n",
        "      <td> 1.5</td>\n",
        "      <td> 4.0</td>\n",
        "      <td>  6.9</td>\n",
        "      <td> 1.70</td>\n",
        "      <td>           NaN</td>\n",
        "    </tr>\n",
        "    <tr>\n",
        "      <th>1</th>\n",
        "      <td> 1996</td>\n",
        "      <td> 26</td>\n",
        "      <td> NYY</td>\n",
        "      <td> AL</td>\n",
        "      <td> 8</td>\n",
        "      <td> 3</td>\n",
        "      <td> 0.727</td>\n",
        "      <td> 2.09</td>\n",
        "      <td> 61</td>\n",
        "      <td>  0</td>\n",
        "      <td> 14</td>\n",
        "      <td> 0</td>\n",
        "      <td> 0</td>\n",
        "      <td>  5</td>\n",
        "      <td> 107.2</td>\n",
        "      <td> 73</td>\n",
        "      <td> 25</td>\n",
        "      <td> 25</td>\n",
        "      <td>  1</td>\n",
        "      <td> 34</td>\n",
        "      <td> 3</td>\n",
        "      <td> 130</td>\n",
        "      <td> 2</td>\n",
        "      <td> 0</td>\n",
        "      <td> 1</td>\n",
        "      <td> 425</td>\n",
        "      <td> 240</td>\n",
        "      <td> 0.994</td>\n",
        "      <td> 6.1</td>\n",
        "      <td> 0.1</td>\n",
        "      <td> 2.8</td>\n",
        "      <td> 10.9</td>\n",
        "      <td> 3.82</td>\n",
        "      <td>   CYA-3MVP-12</td>\n",
        "    </tr>\n",
        "    <tr>\n",
        "      <th>2</th>\n",
        "      <td> 1997</td>\n",
        "      <td> 27</td>\n",
        "      <td> NYY</td>\n",
        "      <td> AL</td>\n",
        "      <td> 6</td>\n",
        "      <td> 4</td>\n",
        "      <td> 0.600</td>\n",
        "      <td> 1.88</td>\n",
        "      <td> 66</td>\n",
        "      <td>  0</td>\n",
        "      <td> 56</td>\n",
        "      <td> 0</td>\n",
        "      <td> 0</td>\n",
        "      <td> 43</td>\n",
        "      <td>  71.2</td>\n",
        "      <td> 65</td>\n",
        "      <td> 17</td>\n",
        "      <td> 15</td>\n",
        "      <td>  5</td>\n",
        "      <td> 20</td>\n",
        "      <td> 6</td>\n",
        "      <td>  68</td>\n",
        "      <td> 0</td>\n",
        "      <td> 0</td>\n",
        "      <td> 2</td>\n",
        "      <td> 301</td>\n",
        "      <td> 239</td>\n",
        "      <td> 1.186</td>\n",
        "      <td> 8.2</td>\n",
        "      <td> 0.6</td>\n",
        "      <td> 2.5</td>\n",
        "      <td>  8.5</td>\n",
        "      <td> 3.40</td>\n",
        "      <td>      ASMVP-25</td>\n",
        "    </tr>\n",
        "    <tr>\n",
        "      <th>3</th>\n",
        "      <td> 1998</td>\n",
        "      <td> 28</td>\n",
        "      <td> NYY</td>\n",
        "      <td> AL</td>\n",
        "      <td> 3</td>\n",
        "      <td> 0</td>\n",
        "      <td> 1.000</td>\n",
        "      <td> 1.91</td>\n",
        "      <td> 54</td>\n",
        "      <td>  0</td>\n",
        "      <td> 49</td>\n",
        "      <td> 0</td>\n",
        "      <td> 0</td>\n",
        "      <td> 36</td>\n",
        "      <td>  61.1</td>\n",
        "      <td> 48</td>\n",
        "      <td> 13</td>\n",
        "      <td> 13</td>\n",
        "      <td>  3</td>\n",
        "      <td> 17</td>\n",
        "      <td> 1</td>\n",
        "      <td>  36</td>\n",
        "      <td> 1</td>\n",
        "      <td> 0</td>\n",
        "      <td> 0</td>\n",
        "      <td> 246</td>\n",
        "      <td> 233</td>\n",
        "      <td> 1.060</td>\n",
        "      <td> 7.0</td>\n",
        "      <td> 0.4</td>\n",
        "      <td> 2.5</td>\n",
        "      <td>  5.3</td>\n",
        "      <td> 2.12</td>\n",
        "      <td>           NaN</td>\n",
        "    </tr>\n",
        "    <tr>\n",
        "      <th>4</th>\n",
        "      <td> 1999</td>\n",
        "      <td> 29</td>\n",
        "      <td> NYY</td>\n",
        "      <td> AL</td>\n",
        "      <td> 4</td>\n",
        "      <td> 3</td>\n",
        "      <td> 0.571</td>\n",
        "      <td> 1.83</td>\n",
        "      <td> 66</td>\n",
        "      <td>  0</td>\n",
        "      <td> 63</td>\n",
        "      <td> 0</td>\n",
        "      <td> 0</td>\n",
        "      <td> 45</td>\n",
        "      <td>  69.0</td>\n",
        "      <td> 43</td>\n",
        "      <td> 15</td>\n",
        "      <td> 14</td>\n",
        "      <td>  2</td>\n",
        "      <td> 18</td>\n",
        "      <td> 3</td>\n",
        "      <td>  52</td>\n",
        "      <td> 3</td>\n",
        "      <td> 1</td>\n",
        "      <td> 2</td>\n",
        "      <td> 268</td>\n",
        "      <td> 257</td>\n",
        "      <td> 0.884</td>\n",
        "      <td> 5.6</td>\n",
        "      <td> 0.3</td>\n",
        "      <td> 2.3</td>\n",
        "      <td>  6.8</td>\n",
        "      <td> 2.89</td>\n",
        "      <td> ASCYA-3MVP-14</td>\n",
        "    </tr>\n",
        "  </tbody>\n",
        "</table>\n",
        "</div>"
       ],
       "metadata": {},
       "output_type": "pyout",
       "prompt_number": 20,
       "text": [
        "   Year  Age   Tm  Lg  W  L   W-L%   ERA   G  GS  GF  CG  SHO  SV     IP   H  \\\n",
        "0  1995   25  NYY  AL  5  3  0.625  5.51  19  10   2   0    0   0   67.0  71   \n",
        "1  1996   26  NYY  AL  8  3  0.727  2.09  61   0  14   0    0   5  107.2  73   \n",
        "2  1997   27  NYY  AL  6  4  0.600  1.88  66   0  56   0    0  43   71.2  65   \n",
        "3  1998   28  NYY  AL  3  0  1.000  1.91  54   0  49   0    0  36   61.1  48   \n",
        "4  1999   29  NYY  AL  4  3  0.571  1.83  66   0  63   0    0  45   69.0  43   \n",
        "\n",
        "    R  ER  HR  BB  IBB   SO  HBP  BK  WP   BF  ERA+   WHIP  H/9  HR/9  BB/9  \\\n",
        "0  43  41  11  30    0   51    2   1   0  301    84  1.507  9.5   1.5   4.0   \n",
        "1  25  25   1  34    3  130    2   0   1  425   240  0.994  6.1   0.1   2.8   \n",
        "2  17  15   5  20    6   68    0   0   2  301   239  1.186  8.2   0.6   2.5   \n",
        "3  13  13   3  17    1   36    1   0   0  246   233  1.060  7.0   0.4   2.5   \n",
        "4  15  14   2  18    3   52    3   1   2  268   257  0.884  5.6   0.3   2.3   \n",
        "\n",
        "   SO/9  SO/BB         Awards  \n",
        "0   6.9   1.70            NaN  \n",
        "1  10.9   3.82    CYA-3MVP-12  \n",
        "2   8.5   3.40       ASMVP-25  \n",
        "3   5.3   2.12            NaN  \n",
        "4   6.8   2.89  ASCYA-3MVP-14  "
       ]
      }
     ],
     "prompt_number": 20
    },
    {
     "cell_type": "markdown",
     "metadata": {},
     "source": [
      "Our file had headers, which the function inferred upon reading in the file. Had we wanted to be more explicit, we could have passed `header=None` to the function along with a list of column names to use:"
     ]
    },
    {
     "cell_type": "code",
     "collapsed": false,
     "input": [
      "# Source: pro-football-reference.com/players/M/MannPe00/touchdowns/passing/2012/\n",
      "!head -n 5 peyton-passing-TDs-2012.csv"
     ],
     "language": "python",
     "metadata": {},
     "outputs": [
      {
       "output_type": "stream",
       "stream": "stdout",
       "text": [
        "1,1,2012-09-09,DEN,,PIT,W 31-19,3,71,Demaryius Thomas,Trail 7-13,Lead 14-13*\r\n",
        "2,1,2012-09-09,DEN,,PIT,W 31-19,4,1,Jacob Tamme,Trail 14-19,Lead 22-19*\r\n",
        "3,2,2012-09-17,DEN,@,ATL,L 21-27,2,17,Demaryius Thomas,Trail 0-20,Trail 7-20\r\n",
        "4,3,2012-09-23,DEN,,HOU,L 25-31,4,38,Brandon Stokley,Trail 11-31,Trail 18-31\r\n",
        "5,3,2012-09-23,DEN,,HOU,L 25-31,4,6,Joel Dreessen,Trail 18-31,Trail 25-31\r\n"
       ]
      }
     ],
     "prompt_number": 21
    },
    {
     "cell_type": "code",
     "collapsed": false,
     "input": [
      "cols = ['num', 'game', 'date', 'team', 'home_away', 'opponent',\n",
      "        'result', 'quarter', 'distance', 'receiver', 'score_before',\n",
      "        'score_after']\n",
      "no_headers = pd.read_csv('peyton-passing-TDs-2012.csv', sep=',', header=None,\n",
      "                         names=cols)\n",
      "no_headers.head()"
     ],
     "language": "python",
     "metadata": {},
     "outputs": [
      {
       "html": [
        "<div style=\"max-height:1000px;max-width:1500px;overflow:auto;\">\n",
        "<table border=\"1\" class=\"dataframe\">\n",
        "  <thead>\n",
        "    <tr style=\"text-align: right;\">\n",
        "      <th></th>\n",
        "      <th>num</th>\n",
        "      <th>game</th>\n",
        "      <th>date</th>\n",
        "      <th>team</th>\n",
        "      <th>home_away</th>\n",
        "      <th>opponent</th>\n",
        "      <th>result</th>\n",
        "      <th>quarter</th>\n",
        "      <th>distance</th>\n",
        "      <th>receiver</th>\n",
        "      <th>score_before</th>\n",
        "      <th>score_after</th>\n",
        "    </tr>\n",
        "  </thead>\n",
        "  <tbody>\n",
        "    <tr>\n",
        "      <th>0</th>\n",
        "      <td> 1</td>\n",
        "      <td> 1</td>\n",
        "      <td> 2012-09-09</td>\n",
        "      <td> DEN</td>\n",
        "      <td> NaN</td>\n",
        "      <td> PIT</td>\n",
        "      <td> W 31-19</td>\n",
        "      <td> 3</td>\n",
        "      <td> 71</td>\n",
        "      <td> Demaryius Thomas</td>\n",
        "      <td>  Trail 7-13</td>\n",
        "      <td> Lead 14-13*</td>\n",
        "    </tr>\n",
        "    <tr>\n",
        "      <th>1</th>\n",
        "      <td> 2</td>\n",
        "      <td> 1</td>\n",
        "      <td> 2012-09-09</td>\n",
        "      <td> DEN</td>\n",
        "      <td> NaN</td>\n",
        "      <td> PIT</td>\n",
        "      <td> W 31-19</td>\n",
        "      <td> 4</td>\n",
        "      <td>  1</td>\n",
        "      <td>      Jacob Tamme</td>\n",
        "      <td> Trail 14-19</td>\n",
        "      <td> Lead 22-19*</td>\n",
        "    </tr>\n",
        "    <tr>\n",
        "      <th>2</th>\n",
        "      <td> 3</td>\n",
        "      <td> 2</td>\n",
        "      <td> 2012-09-17</td>\n",
        "      <td> DEN</td>\n",
        "      <td>   @</td>\n",
        "      <td> ATL</td>\n",
        "      <td> L 21-27</td>\n",
        "      <td> 2</td>\n",
        "      <td> 17</td>\n",
        "      <td> Demaryius Thomas</td>\n",
        "      <td>  Trail 0-20</td>\n",
        "      <td>  Trail 7-20</td>\n",
        "    </tr>\n",
        "    <tr>\n",
        "      <th>3</th>\n",
        "      <td> 4</td>\n",
        "      <td> 3</td>\n",
        "      <td> 2012-09-23</td>\n",
        "      <td> DEN</td>\n",
        "      <td> NaN</td>\n",
        "      <td> HOU</td>\n",
        "      <td> L 25-31</td>\n",
        "      <td> 4</td>\n",
        "      <td> 38</td>\n",
        "      <td>  Brandon Stokley</td>\n",
        "      <td> Trail 11-31</td>\n",
        "      <td> Trail 18-31</td>\n",
        "    </tr>\n",
        "    <tr>\n",
        "      <th>4</th>\n",
        "      <td> 5</td>\n",
        "      <td> 3</td>\n",
        "      <td> 2012-09-23</td>\n",
        "      <td> DEN</td>\n",
        "      <td> NaN</td>\n",
        "      <td> HOU</td>\n",
        "      <td> L 25-31</td>\n",
        "      <td> 4</td>\n",
        "      <td>  6</td>\n",
        "      <td>    Joel Dreessen</td>\n",
        "      <td> Trail 18-31</td>\n",
        "      <td> Trail 25-31</td>\n",
        "    </tr>\n",
        "  </tbody>\n",
        "</table>\n",
        "</div>"
       ],
       "metadata": {},
       "output_type": "pyout",
       "prompt_number": 22,
       "text": [
        "   num  game        date team home_away opponent   result  quarter  distance  \\\n",
        "0    1     1  2012-09-09  DEN       NaN      PIT  W 31-19        3        71   \n",
        "1    2     1  2012-09-09  DEN       NaN      PIT  W 31-19        4         1   \n",
        "2    3     2  2012-09-17  DEN         @      ATL  L 21-27        2        17   \n",
        "3    4     3  2012-09-23  DEN       NaN      HOU  L 25-31        4        38   \n",
        "4    5     3  2012-09-23  DEN       NaN      HOU  L 25-31        4         6   \n",
        "\n",
        "           receiver score_before  score_after  \n",
        "0  Demaryius Thomas   Trail 7-13  Lead 14-13*  \n",
        "1       Jacob Tamme  Trail 14-19  Lead 22-19*  \n",
        "2  Demaryius Thomas   Trail 0-20   Trail 7-20  \n",
        "3   Brandon Stokley  Trail 11-31  Trail 18-31  \n",
        "4     Joel Dreessen  Trail 18-31  Trail 25-31  "
       ]
      }
     ],
     "prompt_number": 22
    },
    {
     "cell_type": "markdown",
     "metadata": {},
     "source": [
      "pandas various *reader* functions have many parameters allowing you to do things like skipping lines of the file, parsing dates, or specifying how to handle NA/NULL datapoints.\n",
      "\n",
      "There's also a set of *writer* functions for writing to a variety of formats (CSVs, HTML tables, JSON).  They function exactly as you'd expect and are typically called `to_format`:\n",
      "\n",
      "```python\n",
      "my_dataframe.to_csv('path_to_file.csv')\n",
      "```\n",
      "\n",
      "[Take a look at the IO documentation](http://pandas.pydata.org/pandas-docs/stable/io.html) to familiarize yourself with file reading/writing functionality."
     ]
    },
    {
     "cell_type": "markdown",
     "metadata": {},
     "source": [
      "**Excel**\n",
      "\n",
      "Know who hates [VBA](http://en.wikipedia.org/wiki/Visual_Basic_for_Applications)? Me. I bet you do, too. Thankfully, pandas allows you to read and write Excel files, so you can easily read from Excel, write your code in Python, and then write back out to Excel - no need for VBA.\n",
      "\n",
      "Reading Excel files requires the [xlrd](https://pypi.python.org/pypi/xlrd) library. You can install it via [pip](http://www.pip-installer.org/en/latest/) (*pip install xlrd*).\n",
      "\n",
      "Let's first write a DataFrame to Excel."
     ]
    },
    {
     "cell_type": "code",
     "collapsed": false,
     "input": [
      "# this is the DataFrame we created from a dictionary earlier\n",
      "print football.head()"
     ],
     "language": "python",
     "metadata": {},
     "outputs": [
      {
       "output_type": "stream",
       "stream": "stdout",
       "text": [
        "   year     team  wins  losses\n",
        "0  2010    Bears    11       5\n",
        "1  2011    Bears     8       8\n",
        "2  2012    Bears    10       6\n",
        "3  2011  Packers    15       1\n",
        "4  2012  Packers    11       5\n"
       ]
      }
     ],
     "prompt_number": 23
    },
    {
     "cell_type": "code",
     "collapsed": false,
     "input": [
      "# since our index on the football DataFrame is meaningless, let's not write it\n",
      "football.to_excel('football.xlsx', index=False)"
     ],
     "language": "python",
     "metadata": {},
     "outputs": [],
     "prompt_number": 24
    },
    {
     "cell_type": "code",
     "collapsed": false,
     "input": [
      "!ls -l *.xlsx"
     ],
     "language": "python",
     "metadata": {},
     "outputs": [
      {
       "output_type": "stream",
       "stream": "stdout",
       "text": [
        "-rw-r--r--  1 greda  staff  5618 Oct 26 00:44 football.xlsx\r\n"
       ]
      }
     ],
     "prompt_number": 25
    },
    {
     "cell_type": "code",
     "collapsed": false,
     "input": [
      "# delete the DataFrame\n",
      "del football"
     ],
     "language": "python",
     "metadata": {},
     "outputs": [],
     "prompt_number": 26
    },
    {
     "cell_type": "code",
     "collapsed": false,
     "input": [
      "# read from Excel\n",
      "football = pd.read_excel('football.xlsx', 'sheet1')\n",
      "print football"
     ],
     "language": "python",
     "metadata": {},
     "outputs": [
      {
       "output_type": "stream",
       "stream": "stdout",
       "text": [
        "   year     team  wins  losses\n",
        "0  2010    Bears    11       5\n",
        "1  2011    Bears     8       8\n",
        "2  2012    Bears    10       6\n",
        "3  2011  Packers    15       1\n",
        "4  2012  Packers    11       5\n",
        "5  2010    Lions     6      10\n",
        "6  2011    Lions    10       6\n",
        "7  2012    Lions     4      12\n"
       ]
      }
     ],
     "prompt_number": 27
    },
    {
     "cell_type": "markdown",
     "metadata": {},
     "source": [
      "**Database**\n",
      "\n",
      "pandas also has some support for reading/writing DataFrames directly from/to a database [[docs](http://pandas.pydata.org/pandas-docs/stable/io.html#sql-queries)].  You'll typically just need to pass a connection object to the `read_frame` or `write_frame` functions within the `pandas.io` module.\n",
      "\n",
      "Note that `write_frame` executes as a series of INSERT INTO statements and thus trades speed for simplicity. If you're writing a large DataFrame to a database, it might be quicker to write the DataFrame to CSV and load that directly using the database's file import arguments."
     ]
    },
    {
     "cell_type": "code",
     "collapsed": false,
     "input": [
      "from pandas.io import sql\n",
      "import sqlite3\n",
      "\n",
      "conn = sqlite3.connect('/Users/greda/Dropbox/gregreda.com/_code/towed')\n",
      "query = \"SELECT * FROM towed WHERE make = 'FORD';\"\n",
      "\n",
      "results = sql.read_frame(query, con=conn)\n",
      "print results.head()"
     ],
     "language": "python",
     "metadata": {},
     "outputs": [
      {
       "output_type": "stream",
       "stream": "stdout",
       "text": [
        "     tow_date  make style model color    plate state        towed_address  \\\n",
        "0  01/19/2013  FORD    LL         RED  N786361    IL  400 E. Lower Wacker   \n",
        "1  01/19/2013  FORD    4D         GRN  L307211    IL    701 N. Sacramento   \n",
        "2  01/19/2013  FORD    4D         GRY  P576738    IL    701 N. Sacramento   \n",
        "3  01/19/2013  FORD    LL         BLK  N155890    IL        10300 S. Doty   \n",
        "4  01/19/2013  FORD    LL         TAN  H953638    IL        10300 S. Doty   \n",
        "\n",
        "             phone inventory  \n",
        "0   (312) 744-7550    877040  \n",
        "1   (773) 265-7605   6738005  \n",
        "2   (773) 265-7605   6738001  \n",
        "3  (773) 568-8495    2699210  \n",
        "4  (773) 568-8495    2699209  \n"
       ]
      }
     ],
     "prompt_number": 28
    },
    {
     "cell_type": "markdown",
     "metadata": {},
     "source": [
      "**Clipboard**\n",
      "\n",
      "While the results of a query can be read directly into a DataFrame, I prefer to read the results directly from the clipboard. I'm often tweaking queries in my SQL client ([Sequel Pro](http://www.sequelpro.com/)), so I would rather see the results *before* I read it into pandas. Once I'm confident I have the data I want, then I'll read it into a DataFrame.\n",
      "\n",
      "This works just as well with any type of delimited data you've copied to your clipboard. The function does a good job of inferring the delimiter, but you can also use the `sep` parameter to be explicit.\n",
      "\n",
      "[Hank Aaron](http://www.baseball-reference.com/players/a/aaronha01.shtml)\n",
      "\n",
      "![hank-aaron-stats-screenshot](http://i.imgur.com/xiySJ2e.png)"
     ]
    },
    {
     "cell_type": "code",
     "collapsed": false,
     "input": [
      "hank = pd.read_clipboard()\n",
      "hank.head()"
     ],
     "language": "python",
     "metadata": {},
     "outputs": [
      {
       "html": [
        "<div style=\"max-height:1000px;max-width:1500px;overflow:auto;\">\n",
        "<table border=\"1\" class=\"dataframe\">\n",
        "  <thead>\n",
        "    <tr style=\"text-align: right;\">\n",
        "      <th></th>\n",
        "      <th>Year</th>\n",
        "      <th>Age</th>\n",
        "      <th>Tm</th>\n",
        "      <th>Lg</th>\n",
        "      <th>G</th>\n",
        "      <th>PA</th>\n",
        "      <th>AB</th>\n",
        "      <th>R</th>\n",
        "      <th>H</th>\n",
        "      <th>2B</th>\n",
        "      <th>3B</th>\n",
        "      <th>HR</th>\n",
        "      <th>RBI</th>\n",
        "      <th>SB</th>\n",
        "      <th>CS</th>\n",
        "      <th>BB</th>\n",
        "      <th>SO</th>\n",
        "      <th>BA</th>\n",
        "      <th>OBP</th>\n",
        "      <th>SLG</th>\n",
        "      <th>OPS</th>\n",
        "      <th>OPS+</th>\n",
        "      <th>TB</th>\n",
        "      <th>GDP</th>\n",
        "      <th>HBP</th>\n",
        "      <th>SH</th>\n",
        "      <th>SF</th>\n",
        "      <th>IBB</th>\n",
        "      <th>Pos</th>\n",
        "      <th>Awards</th>\n",
        "    </tr>\n",
        "  </thead>\n",
        "  <tbody>\n",
        "    <tr>\n",
        "      <th>0</th>\n",
        "      <td> 1954</td>\n",
        "      <td> 20</td>\n",
        "      <td> MLN</td>\n",
        "      <td> NL</td>\n",
        "      <td> 122</td>\n",
        "      <td> 509</td>\n",
        "      <td> 468</td>\n",
        "      <td>  58</td>\n",
        "      <td> 131</td>\n",
        "      <td> 27</td>\n",
        "      <td>  6</td>\n",
        "      <td> 13</td>\n",
        "      <td>  69</td>\n",
        "      <td> 2</td>\n",
        "      <td> 2</td>\n",
        "      <td> 28</td>\n",
        "      <td> 39</td>\n",
        "      <td> 0.280</td>\n",
        "      <td> 0.322</td>\n",
        "      <td> 0.447</td>\n",
        "      <td> 0.769</td>\n",
        "      <td> 104</td>\n",
        "      <td> 209</td>\n",
        "      <td> 13</td>\n",
        "      <td> 3</td>\n",
        "      <td> 6</td>\n",
        "      <td> 4</td>\n",
        "      <td> *79</td>\n",
        "      <td> RoY-4</td>\n",
        "      <td>        None</td>\n",
        "    </tr>\n",
        "    <tr>\n",
        "      <th>1</th>\n",
        "      <td> 1955</td>\n",
        "      <td> 21</td>\n",
        "      <td> MLN</td>\n",
        "      <td> NL</td>\n",
        "      <td> 153</td>\n",
        "      <td> 665</td>\n",
        "      <td> 602</td>\n",
        "      <td> 105</td>\n",
        "      <td> 189</td>\n",
        "      <td> 37</td>\n",
        "      <td>  9</td>\n",
        "      <td> 27</td>\n",
        "      <td> 106</td>\n",
        "      <td> 3</td>\n",
        "      <td> 1</td>\n",
        "      <td> 49</td>\n",
        "      <td> 61</td>\n",
        "      <td> 0.314</td>\n",
        "      <td> 0.366</td>\n",
        "      <td> 0.540</td>\n",
        "      <td> 0.906</td>\n",
        "      <td> 141</td>\n",
        "      <td> 325</td>\n",
        "      <td> 20</td>\n",
        "      <td> 3</td>\n",
        "      <td> 7</td>\n",
        "      <td> 4</td>\n",
        "      <td>   5</td>\n",
        "      <td>  *974</td>\n",
        "      <td>    AS,MVP-9</td>\n",
        "    </tr>\n",
        "    <tr>\n",
        "      <th>2</th>\n",
        "      <td> 1956</td>\n",
        "      <td> 22</td>\n",
        "      <td> MLN</td>\n",
        "      <td> NL</td>\n",
        "      <td> 153</td>\n",
        "      <td> 660</td>\n",
        "      <td> 609</td>\n",
        "      <td> 106</td>\n",
        "      <td> 200</td>\n",
        "      <td> 34</td>\n",
        "      <td> 14</td>\n",
        "      <td> 26</td>\n",
        "      <td>  92</td>\n",
        "      <td> 2</td>\n",
        "      <td> 4</td>\n",
        "      <td> 37</td>\n",
        "      <td> 54</td>\n",
        "      <td> 0.328</td>\n",
        "      <td> 0.365</td>\n",
        "      <td> 0.558</td>\n",
        "      <td> 0.923</td>\n",
        "      <td> 151</td>\n",
        "      <td> 340</td>\n",
        "      <td> 21</td>\n",
        "      <td> 2</td>\n",
        "      <td> 5</td>\n",
        "      <td> 7</td>\n",
        "      <td>   6</td>\n",
        "      <td>    *9</td>\n",
        "      <td>    AS,MVP-3</td>\n",
        "    </tr>\n",
        "    <tr>\n",
        "      <th>3</th>\n",
        "      <td> 1957</td>\n",
        "      <td> 23</td>\n",
        "      <td> MLN</td>\n",
        "      <td> NL</td>\n",
        "      <td> 151</td>\n",
        "      <td> 675</td>\n",
        "      <td> 615</td>\n",
        "      <td> 118</td>\n",
        "      <td> 198</td>\n",
        "      <td> 27</td>\n",
        "      <td>  6</td>\n",
        "      <td> 44</td>\n",
        "      <td> 132</td>\n",
        "      <td> 1</td>\n",
        "      <td> 1</td>\n",
        "      <td> 57</td>\n",
        "      <td> 58</td>\n",
        "      <td> 0.322</td>\n",
        "      <td> 0.378</td>\n",
        "      <td> 0.600</td>\n",
        "      <td> 0.978</td>\n",
        "      <td> 166</td>\n",
        "      <td> 369</td>\n",
        "      <td> 13</td>\n",
        "      <td> 0</td>\n",
        "      <td> 0</td>\n",
        "      <td> 3</td>\n",
        "      <td>  15</td>\n",
        "      <td>   *98</td>\n",
        "      <td>    AS,MVP-1</td>\n",
        "    </tr>\n",
        "    <tr>\n",
        "      <th>4</th>\n",
        "      <td> 1958</td>\n",
        "      <td> 24</td>\n",
        "      <td> MLN</td>\n",
        "      <td> NL</td>\n",
        "      <td> 153</td>\n",
        "      <td> 664</td>\n",
        "      <td> 601</td>\n",
        "      <td> 109</td>\n",
        "      <td> 196</td>\n",
        "      <td> 34</td>\n",
        "      <td>  4</td>\n",
        "      <td> 30</td>\n",
        "      <td>  95</td>\n",
        "      <td> 4</td>\n",
        "      <td> 1</td>\n",
        "      <td> 59</td>\n",
        "      <td> 49</td>\n",
        "      <td> 0.326</td>\n",
        "      <td> 0.386</td>\n",
        "      <td> 0.546</td>\n",
        "      <td> 0.931</td>\n",
        "      <td> 152</td>\n",
        "      <td> 328</td>\n",
        "      <td> 21</td>\n",
        "      <td> 1</td>\n",
        "      <td> 0</td>\n",
        "      <td> 3</td>\n",
        "      <td>  16</td>\n",
        "      <td>   *98</td>\n",
        "      <td> AS,MVP-3,GG</td>\n",
        "    </tr>\n",
        "  </tbody>\n",
        "</table>\n",
        "</div>"
       ],
       "metadata": {},
       "output_type": "pyout",
       "prompt_number": 29,
       "text": [
        "   Year  Age   Tm  Lg    G   PA   AB    R    H  2B  3B  HR  RBI  SB  CS  BB  \\\n",
        "0  1954   20  MLN  NL  122  509  468   58  131  27   6  13   69   2   2  28   \n",
        "1  1955   21  MLN  NL  153  665  602  105  189  37   9  27  106   3   1  49   \n",
        "2  1956   22  MLN  NL  153  660  609  106  200  34  14  26   92   2   4  37   \n",
        "3  1957   23  MLN  NL  151  675  615  118  198  27   6  44  132   1   1  57   \n",
        "4  1958   24  MLN  NL  153  664  601  109  196  34   4  30   95   4   1  59   \n",
        "\n",
        "   SO     BA    OBP    SLG    OPS  OPS+   TB  GDP  HBP  SH  SF  IBB    Pos  \\\n",
        "0  39  0.280  0.322  0.447  0.769   104  209   13    3   6   4  *79  RoY-4   \n",
        "1  61  0.314  0.366  0.540  0.906   141  325   20    3   7   4    5   *974   \n",
        "2  54  0.328  0.365  0.558  0.923   151  340   21    2   5   7    6     *9   \n",
        "3  58  0.322  0.378  0.600  0.978   166  369   13    0   0   3   15    *98   \n",
        "4  49  0.326  0.386  0.546  0.931   152  328   21    1   0   3   16    *98   \n",
        "\n",
        "        Awards  \n",
        "0         None  \n",
        "1     AS,MVP-9  \n",
        "2     AS,MVP-3  \n",
        "3     AS,MVP-1  \n",
        "4  AS,MVP-3,GG  "
       ]
      }
     ],
     "prompt_number": 29
    },
    {
     "cell_type": "markdown",
     "metadata": {},
     "source": [
      "**URL**\n",
      "\n",
      "We can also use the Python's [StringIO](http://docs.python.org/2/library/stringio.html) library to read data directly from a URL. StringIO allows you to treat a string as a file-like object.\n",
      "\n",
      "Let's use the [best sandwiches data](https://raw.github.com/gjreda/best-sandwiches/master/data/best-sandwiches-geocode.tsv) that I [wrote about scraping](http://www.gregreda.com/2013/05/06/more-web-scraping-with-python/) a while back."
     ]
    },
    {
     "cell_type": "code",
     "collapsed": false,
     "input": [
      "from urllib2 import urlopen\n",
      "from StringIO import StringIO\n",
      "\n",
      "# store the text from the URL response in our url variable\n",
      "url = urlopen('https://raw.github.com/gjreda/best-sandwiches/master/data/best-sandwiches-geocode.tsv').read()\n",
      "\n",
      "# treat the tab-separated text as a file with StringIO and read it into a DataFrame\n",
      "from_url = pd.read_table(StringIO(url), sep='\\t')\n",
      "from_url.head(3)"
     ],
     "language": "python",
     "metadata": {},
     "outputs": [
      {
       "html": [
        "<div style=\"max-height:1000px;max-width:1500px;overflow:auto;\">\n",
        "<table border=\"1\" class=\"dataframe\">\n",
        "  <thead>\n",
        "    <tr style=\"text-align: right;\">\n",
        "      <th></th>\n",
        "      <th>rank</th>\n",
        "      <th>sandwich</th>\n",
        "      <th>restaurant</th>\n",
        "      <th>description</th>\n",
        "      <th>price</th>\n",
        "      <th>address</th>\n",
        "      <th>city</th>\n",
        "      <th>phone</th>\n",
        "      <th>website</th>\n",
        "      <th>full_address</th>\n",
        "      <th>formatted_address</th>\n",
        "      <th>lat</th>\n",
        "      <th>lng</th>\n",
        "    </tr>\n",
        "  </thead>\n",
        "  <tbody>\n",
        "    <tr>\n",
        "      <th>0</th>\n",
        "      <td> 1</td>\n",
        "      <td>               BLT</td>\n",
        "      <td> Old Oak Tap</td>\n",
        "      <td> The B is applewood smoked&amp;mdash;nice and snapp...</td>\n",
        "      <td>    $10</td>\n",
        "      <td> 2109 W. Chicago Ave.</td>\n",
        "      <td> Chicago</td>\n",
        "      <td> 773-772-0406</td>\n",
        "      <td>    theoldoaktap.com</td>\n",
        "      <td> 2109 W. Chicago Ave., Chicago</td>\n",
        "      <td> 2109 West Chicago Avenue, Chicago, IL 60622, USA</td>\n",
        "      <td> 41.895734</td>\n",
        "      <td>-87.679960</td>\n",
        "    </tr>\n",
        "    <tr>\n",
        "      <th>1</th>\n",
        "      <td> 2</td>\n",
        "      <td>     Fried Bologna</td>\n",
        "      <td>   Au Cheval</td>\n",
        "      <td> Thought your bologna-eating days had retired w...</td>\n",
        "      <td>     $9</td>\n",
        "      <td>  800 W. Randolph St.</td>\n",
        "      <td> Chicago</td>\n",
        "      <td> 312-929-4580</td>\n",
        "      <td> aucheval.tumblr.com</td>\n",
        "      <td>  800 W. Randolph St., Chicago</td>\n",
        "      <td> 800 West Randolph Street, Chicago, IL 60607, USA</td>\n",
        "      <td> 41.884672</td>\n",
        "      <td>-87.647754</td>\n",
        "    </tr>\n",
        "    <tr>\n",
        "      <th>2</th>\n",
        "      <td> 3</td>\n",
        "      <td> Woodland Mushroom</td>\n",
        "      <td>        Xoco</td>\n",
        "      <td> Leave it to Rick Bayless and crew to come up w...</td>\n",
        "      <td> $9.50.</td>\n",
        "      <td>     445 N. Clark St.</td>\n",
        "      <td> Chicago</td>\n",
        "      <td> 312-334-3688</td>\n",
        "      <td>     rickbayless.com</td>\n",
        "      <td>     445 N. Clark St., Chicago</td>\n",
        "      <td>   445 North Clark Street, Chicago, IL 60654, USA</td>\n",
        "      <td> 41.890602</td>\n",
        "      <td>-87.630925</td>\n",
        "    </tr>\n",
        "  </tbody>\n",
        "</table>\n",
        "</div>"
       ],
       "metadata": {},
       "output_type": "pyout",
       "prompt_number": 30,
       "text": [
        "   rank           sandwich   restaurant  \\\n",
        "0     1                BLT  Old Oak Tap   \n",
        "1     2      Fried Bologna    Au Cheval   \n",
        "2     3  Woodland Mushroom         Xoco   \n",
        "\n",
        "                                         description   price  \\\n",
        "0  The B is applewood smoked&mdash;nice and snapp...     $10   \n",
        "1  Thought your bologna-eating days had retired w...      $9   \n",
        "2  Leave it to Rick Bayless and crew to come up w...  $9.50.   \n",
        "\n",
        "                address     city         phone              website  \\\n",
        "0  2109 W. Chicago Ave.  Chicago  773-772-0406     theoldoaktap.com   \n",
        "1   800 W. Randolph St.  Chicago  312-929-4580  aucheval.tumblr.com   \n",
        "2      445 N. Clark St.  Chicago  312-334-3688      rickbayless.com   \n",
        "\n",
        "                    full_address  \\\n",
        "0  2109 W. Chicago Ave., Chicago   \n",
        "1   800 W. Randolph St., Chicago   \n",
        "2      445 N. Clark St., Chicago   \n",
        "\n",
        "                                  formatted_address        lat        lng  \n",
        "0  2109 West Chicago Avenue, Chicago, IL 60622, USA  41.895734 -87.679960  \n",
        "1  800 West Randolph Street, Chicago, IL 60607, USA  41.884672 -87.647754  \n",
        "2    445 North Clark Street, Chicago, IL 60654, USA  41.890602 -87.630925  "
       ]
      }
     ],
     "prompt_number": 30
    },
    {
     "cell_type": "markdown",
     "metadata": {},
     "source": [
      "**Google Analytics**\n",
      "\n",
      "pandas also has some integration with the Google Analytics API, though there is some setup required. I won't be covering it, but you can read more about it [here](http://blog.yhathq.com/posts/pandas-google-analytics.html) and [here](http://quantabee.wordpress.com/2012/12/17/google-analytics-pandas/)."
     ]
    },
    {
     "cell_type": "markdown",
     "metadata": {},
     "source": [
      "## Working with DataFrames"
     ]
    },
    {
     "cell_type": "markdown",
     "metadata": {},
     "source": [
      "Now that we can get data into a DataFrame, we can finally start working with them. pandas has an abundance of functionality, far too much for me to cover in this introduction. I'd encourage anyone interested in diving deeper into the library to check out its [excellent documentation](http://pandas.pydata.org/pandas-docs/stable/). Or just use Google - there are a lot of Stack Overflow questions and blog posts covering specifics of the library.\n",
      "\n",
      "We'll be using the [MovieLens](http://www.grouplens.org/node/73) dataset in many examples going forward. The dataset contains 100,000 ratings made by 943 users on 1,682 movies."
     ]
    },
    {
     "cell_type": "code",
     "collapsed": false,
     "input": [
      "# pass in column names for each CSV\n",
      "u_cols = ['user_id', 'age', 'sex', 'occupation', 'zip_code']\n",
      "users = pd.read_csv('ml-100k/u.user', sep='|', names=u_cols)\n",
      "\n",
      "r_cols = ['user_id', 'movie_id', 'rating', 'unix_timestamp']\n",
      "ratings = pd.read_csv('ml-100k/u.data', sep='\\t', names=r_cols)\n",
      "\n",
      "# the movies file contains columns indicating the movie's genres\n",
      "# let's only load the first five columns of the file with usecols\n",
      "m_cols = ['movie_id', 'title', 'release_date', 'video_release_date', 'imdb_url']\n",
      "movies = pd.read_csv('ml-100k/u.item', sep='|', names=m_cols, usecols=range(5))"
     ],
     "language": "python",
     "metadata": {},
     "outputs": [],
     "prompt_number": 31
    },
    {
     "cell_type": "markdown",
     "metadata": {},
     "source": [
      "### Inspection\n",
      "\n",
      "pandas has a variety of functions for getting basic information about your DataFrame, the most basic of which is calling your DataFrame by name."
     ]
    },
    {
     "cell_type": "code",
     "collapsed": false,
     "input": [
      "movies"
     ],
     "language": "python",
     "metadata": {},
     "outputs": [
      {
       "html": [
        "<pre>\n",
        "&lt;class 'pandas.core.frame.DataFrame'&gt;\n",
        "Int64Index: 1682 entries, 0 to 1681\n",
        "Data columns (total 5 columns):\n",
        "movie_id              1682  non-null values\n",
        "title                 1682  non-null values\n",
        "release_date          1681  non-null values\n",
        "video_release_date    0  non-null values\n",
        "imdb_url              1679  non-null values\n",
        "dtypes: float64(1), int64(1), object(3)\n",
        "</pre>"
       ],
       "metadata": {},
       "output_type": "pyout",
       "prompt_number": 32,
       "text": [
        "<class 'pandas.core.frame.DataFrame'>\n",
        "Int64Index: 1682 entries, 0 to 1681\n",
        "Data columns (total 5 columns):\n",
        "movie_id              1682  non-null values\n",
        "title                 1682  non-null values\n",
        "release_date          1681  non-null values\n",
        "video_release_date    0  non-null values\n",
        "imdb_url              1679  non-null values\n",
        "dtypes: float64(1), int64(1), object(3)"
       ]
      }
     ],
     "prompt_number": 32
    },
    {
     "cell_type": "markdown",
     "metadata": {},
     "source": [
      "The output tells a few things about our DataFrame.\n",
      "\n",
      "1. It's obviously an instance of a DataFrame.\n",
      "2. Each row was assigned an index of 0 to N-1, where N is the number of rows in the DataFrame. pandas will do this by default if an index is not specified. Don't worry, this can be changed later.\n",
      "3. There are 1,682 rows (every row must have an index).\n",
      "4. Our dataset has five total columns, one of which isn't populated at all (video_release_date) and two that are missing some values (release_date and imdb_url).\n",
      "5. The last line displays the datatypes of each column, but not necessarily in the corresponding order to the listed columns. You should use the *dtypes* method to get the datatype for each column."
     ]
    },
    {
     "cell_type": "code",
     "collapsed": false,
     "input": [
      "movies.dtypes"
     ],
     "language": "python",
     "metadata": {},
     "outputs": [
      {
       "metadata": {},
       "output_type": "pyout",
       "prompt_number": 33,
       "text": [
        "movie_id                int64\n",
        "title                  object\n",
        "release_date           object\n",
        "video_release_date    float64\n",
        "imdb_url               object\n",
        "dtype: object"
       ]
      }
     ],
     "prompt_number": 33
    },
    {
     "cell_type": "markdown",
     "metadata": {},
     "source": [
      "DataFrame's also have a `describe` method, which is great for seeing basic statistics about the dataset's numeric columns. Be careful though, since this will return information on **all** columns of a numeric datatype."
     ]
    },
    {
     "cell_type": "code",
     "collapsed": false,
     "input": [
      "users.describe()"
     ],
     "language": "python",
     "metadata": {},
     "outputs": [
      {
       "html": [
        "<div style=\"max-height:1000px;max-width:1500px;overflow:auto;\">\n",
        "<table border=\"1\" class=\"dataframe\">\n",
        "  <thead>\n",
        "    <tr style=\"text-align: right;\">\n",
        "      <th></th>\n",
        "      <th>user_id</th>\n",
        "      <th>age</th>\n",
        "    </tr>\n",
        "  </thead>\n",
        "  <tbody>\n",
        "    <tr>\n",
        "      <th>count</th>\n",
        "      <td> 943.000000</td>\n",
        "      <td> 943.000000</td>\n",
        "    </tr>\n",
        "    <tr>\n",
        "      <th>mean</th>\n",
        "      <td> 472.000000</td>\n",
        "      <td>  34.051962</td>\n",
        "    </tr>\n",
        "    <tr>\n",
        "      <th>std</th>\n",
        "      <td> 272.364951</td>\n",
        "      <td>  12.192740</td>\n",
        "    </tr>\n",
        "    <tr>\n",
        "      <th>min</th>\n",
        "      <td>   1.000000</td>\n",
        "      <td>   7.000000</td>\n",
        "    </tr>\n",
        "    <tr>\n",
        "      <th>25%</th>\n",
        "      <td> 236.500000</td>\n",
        "      <td>  25.000000</td>\n",
        "    </tr>\n",
        "    <tr>\n",
        "      <th>50%</th>\n",
        "      <td> 472.000000</td>\n",
        "      <td>  31.000000</td>\n",
        "    </tr>\n",
        "    <tr>\n",
        "      <th>75%</th>\n",
        "      <td> 707.500000</td>\n",
        "      <td>  43.000000</td>\n",
        "    </tr>\n",
        "    <tr>\n",
        "      <th>max</th>\n",
        "      <td> 943.000000</td>\n",
        "      <td>  73.000000</td>\n",
        "    </tr>\n",
        "  </tbody>\n",
        "</table>\n",
        "</div>"
       ],
       "metadata": {},
       "output_type": "pyout",
       "prompt_number": 34,
       "text": [
        "          user_id         age\n",
        "count  943.000000  943.000000\n",
        "mean   472.000000   34.051962\n",
        "std    272.364951   12.192740\n",
        "min      1.000000    7.000000\n",
        "25%    236.500000   25.000000\n",
        "50%    472.000000   31.000000\n",
        "75%    707.500000   43.000000\n",
        "max    943.000000   73.000000"
       ]
      }
     ],
     "prompt_number": 34
    },
    {
     "cell_type": "markdown",
     "metadata": {},
     "source": [
      "Notice *user_id* was included since it's numeric. Since this is an ID value, the stats for it don't really matter.\n",
      "\n",
      "We can quickly see the average age of our users is just above 34 years old, with the youngest being 7 and the oldest being 73. The median age is 31, with the youngest quartile of users being 25 or younger, and the oldest quartile being at least 43."
     ]
    },
    {
     "cell_type": "markdown",
     "metadata": {},
     "source": [
      "You've probably noticed that I've used the `head` method regularly throughout this post - by default, `head` displays the first five records of the dataset, while `tail` displays the last five."
     ]
    },
    {
     "cell_type": "code",
     "collapsed": false,
     "input": [
      "print movies.head()"
     ],
     "language": "python",
     "metadata": {},
     "outputs": [
      {
       "output_type": "stream",
       "stream": "stdout",
       "text": [
        "   movie_id              title release_date  video_release_date  \\\n",
        "0         1   Toy Story (1995)  01-Jan-1995                 NaN   \n",
        "1         2   GoldenEye (1995)  01-Jan-1995                 NaN   \n",
        "2         3  Four Rooms (1995)  01-Jan-1995                 NaN   \n",
        "3         4  Get Shorty (1995)  01-Jan-1995                 NaN   \n",
        "4         5     Copycat (1995)  01-Jan-1995                 NaN   \n",
        "\n",
        "                                            imdb_url  \n",
        "0  http://us.imdb.com/M/title-exact?Toy%20Story%2...  \n",
        "1  http://us.imdb.com/M/title-exact?GoldenEye%20(...  \n",
        "2  http://us.imdb.com/M/title-exact?Four%20Rooms%...  \n",
        "3  http://us.imdb.com/M/title-exact?Get%20Shorty%...  \n",
        "4  http://us.imdb.com/M/title-exact?Copycat%20(1995)  \n"
       ]
      }
     ],
     "prompt_number": 35
    },
    {
     "cell_type": "code",
     "collapsed": false,
     "input": [
      "print movies.tail(3)"
     ],
     "language": "python",
     "metadata": {},
     "outputs": [
      {
       "output_type": "stream",
       "stream": "stdout",
       "text": [
        "      movie_id                                      title release_date  \\\n",
        "1679      1680                       Sliding Doors (1998)  01-Jan-1998   \n",
        "1680      1681                        You So Crazy (1994)  01-Jan-1994   \n",
        "1681      1682  Scream of Stone (Schrei aus Stein) (1991)  08-Mar-1996   \n",
        "\n",
        "      video_release_date                                           imdb_url  \n",
        "1679                 NaN      http://us.imdb.com/Title?Sliding+Doors+(1998)  \n",
        "1680                 NaN  http://us.imdb.com/M/title-exact?You%20So%20Cr...  \n",
        "1681                 NaN  http://us.imdb.com/M/title-exact?Schrei%20aus%...  \n"
       ]
      }
     ],
     "prompt_number": 36
    },
    {
     "cell_type": "markdown",
     "metadata": {},
     "source": [
      "Alternatively, Python's regular [slicing](http://docs.python.org/release/2.3.5/whatsnew/section-slices.html) syntax works as well."
     ]
    },
    {
     "cell_type": "code",
     "collapsed": false,
     "input": [
      "print movies[20:22]"
     ],
     "language": "python",
     "metadata": {},
     "outputs": [
      {
       "output_type": "stream",
       "stream": "stdout",
       "text": [
        "    movie_id                          title release_date  video_release_date  \\\n",
        "20        21  Muppet Treasure Island (1996)  16-Feb-1996                 NaN   \n",
        "21        22              Braveheart (1995)  16-Feb-1996                 NaN   \n",
        "\n",
        "                                             imdb_url  \n",
        "20  http://us.imdb.com/M/title-exact?Muppet%20Trea...  \n",
        "21  http://us.imdb.com/M/title-exact?Braveheart%20...  \n"
       ]
      }
     ],
     "prompt_number": 37
    },
    {
     "cell_type": "markdown",
     "metadata": {},
     "source": [
      "### Selecting\n",
      "\n",
      "You can think of a DataFrame as a group of Series that share an index (in this case the column headers). This makes it easy to select specific columns.\n",
      "\n",
      "Selecting a single column from the DataFrame will return a Series object."
     ]
    },
    {
     "cell_type": "code",
     "collapsed": false,
     "input": [
      "users['occupation'].head()"
     ],
     "language": "python",
     "metadata": {},
     "outputs": [
      {
       "metadata": {},
       "output_type": "pyout",
       "prompt_number": 38,
       "text": [
        "0    technician\n",
        "1         other\n",
        "2        writer\n",
        "3    technician\n",
        "4         other\n",
        "Name: occupation, dtype: object"
       ]
      }
     ],
     "prompt_number": 38
    },
    {
     "cell_type": "markdown",
     "metadata": {},
     "source": [
      "To select multiple columns, simply pass a list of column names to the DataFrame, the output of which will be a DataFrame."
     ]
    },
    {
     "cell_type": "code",
     "collapsed": false,
     "input": [
      "print users[['age', 'zip_code']].head()\n",
      "print '\\n'\n",
      "\n",
      "# can also store in a variable to use later\n",
      "columns_you_want = ['occupation', 'sex'] \n",
      "print users[columns_you_want].head()"
     ],
     "language": "python",
     "metadata": {},
     "outputs": [
      {
       "output_type": "stream",
       "stream": "stdout",
       "text": [
        "   age zip_code\n",
        "0   24    85711\n",
        "1   53    94043\n",
        "2   23    32067\n",
        "3   24    43537\n",
        "4   33    15213\n",
        "\n",
        "\n",
        "   occupation sex\n",
        "0  technician   M\n",
        "1       other   F\n",
        "2      writer   M\n",
        "3  technician   M\n",
        "4       other   F\n"
       ]
      }
     ],
     "prompt_number": 39
    },
    {
     "cell_type": "markdown",
     "metadata": {},
     "source": [
      "Row selection can be done multiple ways, but doing so by an individual index or boolean indexing are typically easiest."
     ]
    },
    {
     "cell_type": "code",
     "collapsed": false,
     "input": [
      "# users older than 25\n",
      "print users[users.age > 25].head(3)\n",
      "print '\\n'\n",
      "\n",
      "# users aged 40 AND male\n",
      "print users[(users.age == 40) & (users.sex == 'M')].head(3)\n",
      "print '\\n'\n",
      "\n",
      "# users younger than 30 OR female\n",
      "print users[(users.sex == 'F') | (users.age < 30)].head(3)"
     ],
     "language": "python",
     "metadata": {},
     "outputs": [
      {
       "output_type": "stream",
       "stream": "stdout",
       "text": [
        "   user_id  age sex occupation zip_code\n",
        "1        2   53   F      other    94043\n",
        "4        5   33   F      other    15213\n",
        "5        6   42   M  executive    98101\n",
        "\n",
        "\n",
        "     user_id  age sex  occupation zip_code\n",
        "18        19   40   M   librarian    02138\n",
        "82        83   40   M       other    44133\n",
        "115      116   40   M  healthcare    97232\n",
        "\n",
        "\n",
        "   user_id  age sex  occupation zip_code\n",
        "0        1   24   M  technician    85711\n",
        "1        2   53   F       other    94043\n",
        "2        3   23   M      writer    32067"
       ]
      },
      {
       "output_type": "stream",
       "stream": "stdout",
       "text": [
        "\n"
       ]
      }
     ],
     "prompt_number": 40
    },
    {
     "cell_type": "markdown",
     "metadata": {},
     "source": [
      "Since our index is kind of meaningless right now, let's set it to the _user_id_ using the `set_index` method. By default, `set_index` returns a new DataFrame, so you'll have to specify if you'd like the changes to occur in place.\n",
      "\n",
      "This has confused me in the past, so look carefully at the code and output below."
     ]
    },
    {
     "cell_type": "code",
     "collapsed": false,
     "input": [
      "print users.set_index('user_id').head()\n",
      "print '\\n'\n",
      "\n",
      "print users.head()\n",
      "print \"\\n^^^ I didn't actually change the DataFrame. ^^^\\n\"\n",
      "\n",
      "with_new_index = users.set_index('user_id')\n",
      "print with_new_index.head()\n",
      "print \"\\n^^^ set_index actually returns a new DataFrame. ^^^\\n\""
     ],
     "language": "python",
     "metadata": {},
     "outputs": [
      {
       "output_type": "stream",
       "stream": "stdout",
       "text": [
        "         age sex  occupation zip_code\n",
        "user_id                              \n",
        "1         24   M  technician    85711\n",
        "2         53   F       other    94043\n",
        "3         23   M      writer    32067\n",
        "4         24   M  technician    43537\n",
        "5         33   F       other    15213\n",
        "\n",
        "\n",
        "   user_id  age sex  occupation zip_code\n",
        "0        1   24   M  technician    85711\n",
        "1        2   53   F       other    94043\n",
        "2        3   23   M      writer    32067\n",
        "3        4   24   M  technician    43537\n",
        "4        5   33   F       other    15213\n",
        "\n",
        "^^^ I didn't actually change the DataFrame. ^^^\n",
        "\n",
        "         age sex  occupation zip_code\n",
        "user_id                              \n",
        "1         24   M  technician    85711\n",
        "2         53   F       other    94043\n",
        "3         23   M      writer    32067\n",
        "4         24   M  technician    43537\n",
        "5         33   F       other    15213\n",
        "\n",
        "^^^ set_index actually returns a new DataFrame. ^^^\n",
        "\n"
       ]
      }
     ],
     "prompt_number": 41
    },
    {
     "cell_type": "markdown",
     "metadata": {},
     "source": [
      "If you want to modify your existing DataFrame, use the `inplace` parameter."
     ]
    },
    {
     "cell_type": "code",
     "collapsed": false,
     "input": [
      "users.set_index('user_id', inplace=True)\n",
      "print users.head()"
     ],
     "language": "python",
     "metadata": {},
     "outputs": [
      {
       "output_type": "stream",
       "stream": "stdout",
       "text": [
        "         age sex  occupation zip_code\n",
        "user_id                              \n",
        "1         24   M  technician    85711\n",
        "2         53   F       other    94043\n",
        "3         23   M      writer    32067\n",
        "4         24   M  technician    43537\n",
        "5         33   F       other    15213\n"
       ]
      }
     ],
     "prompt_number": 42
    },
    {
     "cell_type": "markdown",
     "metadata": {},
     "source": [
      "Notice that we've lost the default pandas 0-based index and moved the user_id into its place.  We can select rows based on the index using the `ix` method."
     ]
    },
    {
     "cell_type": "code",
     "collapsed": false,
     "input": [
      "print users.ix[99]\n",
      "print '\\n'\n",
      "print users.ix[[1, 50, 300]]"
     ],
     "language": "python",
     "metadata": {},
     "outputs": [
      {
       "output_type": "stream",
       "stream": "stdout",
       "text": [
        "age                20\n",
        "sex                 M\n",
        "occupation    student\n",
        "zip_code        63129\n",
        "Name: 99, dtype: object\n",
        "\n",
        "\n",
        "     age sex  occupation zip_code\n",
        "1     24   M  technician    85711\n",
        "50    21   M      writer    52245\n",
        "300   26   F  programmer    55106\n"
       ]
      }
     ],
     "prompt_number": 43
    },
    {
     "cell_type": "markdown",
     "metadata": {},
     "source": [
      "If we realize later that we liked the old pandas default index, we can just `reset_index`.  The same rules for `inplace` apply."
     ]
    },
    {
     "cell_type": "code",
     "collapsed": false,
     "input": [
      "users.reset_index(inplace=True)\n",
      "print users.head()"
     ],
     "language": "python",
     "metadata": {},
     "outputs": [
      {
       "output_type": "stream",
       "stream": "stdout",
       "text": [
        "   user_id  age sex  occupation zip_code\n",
        "0        1   24   M  technician    85711\n",
        "1        2   53   F       other    94043\n",
        "2        3   23   M      writer    32067\n",
        "3        4   24   M  technician    43537\n",
        "4        5   33   F       other    15213\n"
       ]
      }
     ],
     "prompt_number": 44
    },
    {
     "cell_type": "markdown",
     "metadata": {},
     "source": [
      "I've found that I can usually get by with boolean indexing and the `ix` method, but pandas has a whole host of [other ways to do selection](http://pandas.pydata.org/pandas-docs/stable/indexing.html)."
     ]
    },
    {
     "cell_type": "markdown",
     "metadata": {},
     "source": [
      "### Joining\n",
      "\n",
      "Throughout an analysis, we'll often need to merge/join datasets as data is typically stored in a [relational](http://en.wikipedia.org/wiki/Relational_database) manner.\n",
      "\n",
      "Our MovieLens data is a good example of this - a rating requires both a user and a movie, and the datasets are linked together by a key - in this case, the user_id and movie_id. It's possible for a user to be associated with zero or many ratings and movies. Likewise, a movie can be rated zero or many times, by a number of different users.\n",
      "\n",
      "Like SQL's JOIN clause, `pandas.merge` allows two DataFrames to be joined on one or more keys. The function provides a series of parameters `(on, left_on, right_on, left_index, right_index)` allowing you to specify the columns or indexes on which to join.\n",
      "\n",
      "By default, `pandas.merge` operates as an *inner join*, which can be changed using the `how` parameter.\n",
      "\n",
      "From the function's docstring:\n",
      "\n",
      "> how : {'left', 'right', 'outer', 'inner'}, default 'inner'\n",
      "\n",
      ">    * left: use only keys from left frame (SQL: left outer join)\n",
      "\n",
      ">    * right: use only keys from right frame (SQL: right outer join)\n",
      "\n",
      ">    * outer: use union of keys from both frames (SQL: full outer join)\n",
      "\n",
      ">    * inner: use intersection of keys from both frames (SQL: inner join)\n",
      "\n",
      "Below are some examples of what each look like."
     ]
    },
    {
     "cell_type": "code",
     "collapsed": false,
     "input": [
      "left_frame = pd.DataFrame({'key': range(5), \n",
      "                           'left_value': ['a', 'b', 'c', 'd', 'e']})\n",
      "right_frame = pd.DataFrame({'key': range(2, 7), \n",
      "                           'right_value': ['f', 'g', 'h', 'i', 'j']})\n",
      "print left_frame\n",
      "print '\\n'\n",
      "print right_frame"
     ],
     "language": "python",
     "metadata": {},
     "outputs": [
      {
       "output_type": "stream",
       "stream": "stdout",
       "text": [
        "   key left_value\n",
        "0    0          a\n",
        "1    1          b\n",
        "2    2          c\n",
        "3    3          d\n",
        "4    4          e\n",
        "\n",
        "\n",
        "   key right_value\n",
        "0    2           f\n",
        "1    3           g\n",
        "2    4           h\n",
        "3    5           i\n",
        "4    6           j\n"
       ]
      }
     ],
     "prompt_number": 45
    },
    {
     "cell_type": "markdown",
     "metadata": {},
     "source": [
      "**inner join (default)**"
     ]
    },
    {
     "cell_type": "code",
     "collapsed": false,
     "input": [
      "print pd.merge(left_frame, right_frame, on='key', how='inner')"
     ],
     "language": "python",
     "metadata": {},
     "outputs": [
      {
       "output_type": "stream",
       "stream": "stdout",
       "text": [
        "   key left_value right_value\n",
        "0    2          c           f\n",
        "1    3          d           g\n",
        "2    4          e           h\n"
       ]
      }
     ],
     "prompt_number": 46
    },
    {
     "cell_type": "markdown",
     "metadata": {},
     "source": [
      "We lose values from both frames since certain keys do not match up.  The SQL equivalent is:\n",
      "\n",
      "```\n",
      "    SELECT left_frame.key, left_frame.left_value, right_frame.right_value\n",
      "    FROM left_frame\n",
      "    INNER JOIN right_frame\n",
      "        ON left_frame.key = right_frame.key;\n",
      "```\n",
      "\n",
      "Had our *key* columns not been named the same, we could have used the *left_on* and *right_on* parameters to specify which fields to join from each frame.\n",
      "```python\n",
      "    pd.merge(left_frame, right_frame, left_on='left_key', right_on='right_key')\n",
      "```\n",
      "Alternatively, if our keys were indexes, we could use the `left_index` or `right_index` parameters, which accept a True/False value. You can mix and match columns and indexes like so:\n",
      "```python\n",
      "    pd.merge(left_frame, right_frame, left_on='key', right_index=True)\n",
      "```"
     ]
    },
    {
     "cell_type": "markdown",
     "metadata": {},
     "source": [
      "**left outer join**"
     ]
    },
    {
     "cell_type": "code",
     "collapsed": false,
     "input": [
      "print pd.merge(left_frame, right_frame, on='key', how='left')"
     ],
     "language": "python",
     "metadata": {},
     "outputs": [
      {
       "output_type": "stream",
       "stream": "stdout",
       "text": [
        "   key left_value right_value\n",
        "0    0          a         NaN\n",
        "1    1          b         NaN\n",
        "2    2          c           f\n",
        "3    3          d           g\n",
        "4    4          e           h\n"
       ]
      }
     ],
     "prompt_number": 47
    },
    {
     "cell_type": "markdown",
     "metadata": {},
     "source": [
      "We keep everything from the left frame, pulling in the value from the right frame where the keys match up. The right_value is NULL where keys do not match (NaN).\n",
      "\n",
      "SQL Equivalent:\n",
      "\n",
      "    SELECT left_frame.key, left_frame.left_value, right_frame.right_value\n",
      "    FROM left_frame\n",
      "    LEFT JOIN right_frame\n",
      "        ON left_frame.key = right_frame.key;"
     ]
    },
    {
     "cell_type": "markdown",
     "metadata": {},
     "source": [
      "**right outer join**"
     ]
    },
    {
     "cell_type": "code",
     "collapsed": false,
     "input": [
      "print pd.merge(left_frame, right_frame, on='key', how='right')"
     ],
     "language": "python",
     "metadata": {},
     "outputs": [
      {
       "output_type": "stream",
       "stream": "stdout",
       "text": [
        "   key left_value right_value\n",
        "0    2          c           f\n",
        "1    3          d           g\n",
        "2    4          e           h\n",
        "3    5        NaN           i\n",
        "4    6        NaN           j\n"
       ]
      }
     ],
     "prompt_number": 48
    },
    {
     "cell_type": "markdown",
     "metadata": {},
     "source": [
      "This time we've kept everything from the right frame with the left_value being NULL where the right frame's key did not find a match.\n",
      "\n",
      "SQL Equivalent:\n",
      "\n",
      "    SELECT right_frame.key, left_frame.left_value, right_frame.right_value\n",
      "    FROM left_frame\n",
      "    RIGHT JOIN right_frame\n",
      "        ON left_frame.key = right_frame.key;"
     ]
    },
    {
     "cell_type": "markdown",
     "metadata": {},
     "source": [
      "**full outer join**"
     ]
    },
    {
     "cell_type": "code",
     "collapsed": false,
     "input": [
      "print pd.merge(left_frame, right_frame, on='key', how='outer')"
     ],
     "language": "python",
     "metadata": {},
     "outputs": [
      {
       "output_type": "stream",
       "stream": "stdout",
       "text": [
        "   key left_value right_value\n",
        "0    0          a         NaN\n",
        "1    1          b         NaN\n",
        "2    2          c           f\n",
        "3    3          d           g\n",
        "4    4          e           h\n",
        "5    5        NaN           i\n",
        "6    6        NaN           j\n"
       ]
      }
     ],
     "prompt_number": 49
    },
    {
     "cell_type": "markdown",
     "metadata": {},
     "source": [
      "We've kept everything from both frames, regardless of whether or not there was a match on both sides. Where there was not a match, the values corresponding to that key are NULL.\n",
      "\n",
      "SQL Equivalent (though some databases don't allow FULL JOINs (e.g. MySQL)):\n",
      "\n",
      "    SELECT IFNULL(left_frame.key, right_frame.key) key\n",
      "            , left_frame.left_value, right_frame.right_value\n",
      "    FROM left_frame\n",
      "    FULL OUTER JOIN right_frame\n",
      "        ON left_frame.key = right_frame.key;"
     ]
    },
    {
     "cell_type": "markdown",
     "metadata": {},
     "source": [
      "### Combining\n",
      "\n",
      "pandas also provides a way to combine DataFrames along an axis - `pandas.concat`. While the function is equivalent to SQL's UNION clause, there's a lot more that can be done with it.\n",
      "\n",
      "`pandas.concat` takes a list of Series or DataFrames and returns a Series or DataFrame of the concatenated objects. Note that because the function takes list, you can combine many objects at once."
     ]
    },
    {
     "cell_type": "code",
     "collapsed": false,
     "input": [
      "pd.concat([left_frame, right_frame])"
     ],
     "language": "python",
     "metadata": {},
     "outputs": [
      {
       "html": [
        "<div style=\"max-height:1000px;max-width:1500px;overflow:auto;\">\n",
        "<table border=\"1\" class=\"dataframe\">\n",
        "  <thead>\n",
        "    <tr style=\"text-align: right;\">\n",
        "      <th></th>\n",
        "      <th>key</th>\n",
        "      <th>left_value</th>\n",
        "      <th>right_value</th>\n",
        "    </tr>\n",
        "  </thead>\n",
        "  <tbody>\n",
        "    <tr>\n",
        "      <th>0</th>\n",
        "      <td> 0</td>\n",
        "      <td>   a</td>\n",
        "      <td> NaN</td>\n",
        "    </tr>\n",
        "    <tr>\n",
        "      <th>1</th>\n",
        "      <td> 1</td>\n",
        "      <td>   b</td>\n",
        "      <td> NaN</td>\n",
        "    </tr>\n",
        "    <tr>\n",
        "      <th>2</th>\n",
        "      <td> 2</td>\n",
        "      <td>   c</td>\n",
        "      <td> NaN</td>\n",
        "    </tr>\n",
        "    <tr>\n",
        "      <th>3</th>\n",
        "      <td> 3</td>\n",
        "      <td>   d</td>\n",
        "      <td> NaN</td>\n",
        "    </tr>\n",
        "    <tr>\n",
        "      <th>4</th>\n",
        "      <td> 4</td>\n",
        "      <td>   e</td>\n",
        "      <td> NaN</td>\n",
        "    </tr>\n",
        "    <tr>\n",
        "      <th>0</th>\n",
        "      <td> 2</td>\n",
        "      <td> NaN</td>\n",
        "      <td>   f</td>\n",
        "    </tr>\n",
        "    <tr>\n",
        "      <th>1</th>\n",
        "      <td> 3</td>\n",
        "      <td> NaN</td>\n",
        "      <td>   g</td>\n",
        "    </tr>\n",
        "    <tr>\n",
        "      <th>2</th>\n",
        "      <td> 4</td>\n",
        "      <td> NaN</td>\n",
        "      <td>   h</td>\n",
        "    </tr>\n",
        "    <tr>\n",
        "      <th>3</th>\n",
        "      <td> 5</td>\n",
        "      <td> NaN</td>\n",
        "      <td>   i</td>\n",
        "    </tr>\n",
        "    <tr>\n",
        "      <th>4</th>\n",
        "      <td> 6</td>\n",
        "      <td> NaN</td>\n",
        "      <td>   j</td>\n",
        "    </tr>\n",
        "  </tbody>\n",
        "</table>\n",
        "</div>"
       ],
       "metadata": {},
       "output_type": "pyout",
       "prompt_number": 50,
       "text": [
        "   key left_value right_value\n",
        "0    0          a         NaN\n",
        "1    1          b         NaN\n",
        "2    2          c         NaN\n",
        "3    3          d         NaN\n",
        "4    4          e         NaN\n",
        "0    2        NaN           f\n",
        "1    3        NaN           g\n",
        "2    4        NaN           h\n",
        "3    5        NaN           i\n",
        "4    6        NaN           j"
       ]
      }
     ],
     "prompt_number": 50
    },
    {
     "cell_type": "markdown",
     "metadata": {},
     "source": [
      "By default, the function will vertically append the objects to one another, combining columns with the same name. We can see above that values not matching up will be NULL.\n",
      "\n",
      "Additionally, objects can be concatentated side-by-side using the function's *axis* parameter."
     ]
    },
    {
     "cell_type": "code",
     "collapsed": false,
     "input": [
      "pd.concat([left_frame, right_frame], axis=1)"
     ],
     "language": "python",
     "metadata": {},
     "outputs": [
      {
       "html": [
        "<div style=\"max-height:1000px;max-width:1500px;overflow:auto;\">\n",
        "<table border=\"1\" class=\"dataframe\">\n",
        "  <thead>\n",
        "    <tr style=\"text-align: right;\">\n",
        "      <th></th>\n",
        "      <th>key</th>\n",
        "      <th>left_value</th>\n",
        "      <th>key</th>\n",
        "      <th>right_value</th>\n",
        "    </tr>\n",
        "  </thead>\n",
        "  <tbody>\n",
        "    <tr>\n",
        "      <th>0</th>\n",
        "      <td> 0</td>\n",
        "      <td> a</td>\n",
        "      <td> 2</td>\n",
        "      <td> f</td>\n",
        "    </tr>\n",
        "    <tr>\n",
        "      <th>1</th>\n",
        "      <td> 1</td>\n",
        "      <td> b</td>\n",
        "      <td> 3</td>\n",
        "      <td> g</td>\n",
        "    </tr>\n",
        "    <tr>\n",
        "      <th>2</th>\n",
        "      <td> 2</td>\n",
        "      <td> c</td>\n",
        "      <td> 4</td>\n",
        "      <td> h</td>\n",
        "    </tr>\n",
        "    <tr>\n",
        "      <th>3</th>\n",
        "      <td> 3</td>\n",
        "      <td> d</td>\n",
        "      <td> 5</td>\n",
        "      <td> i</td>\n",
        "    </tr>\n",
        "    <tr>\n",
        "      <th>4</th>\n",
        "      <td> 4</td>\n",
        "      <td> e</td>\n",
        "      <td> 6</td>\n",
        "      <td> j</td>\n",
        "    </tr>\n",
        "  </tbody>\n",
        "</table>\n",
        "</div>"
       ],
       "metadata": {},
       "output_type": "pyout",
       "prompt_number": 51,
       "text": [
        "   key left_value  key right_value\n",
        "0    0          a    2           f\n",
        "1    1          b    3           g\n",
        "2    2          c    4           h\n",
        "3    3          d    5           i\n",
        "4    4          e    6           j"
       ]
      }
     ],
     "prompt_number": 51
    },
    {
     "cell_type": "markdown",
     "metadata": {},
     "source": [
      "`pandas.concat` can be used in a variety of ways; however, I've typically only used it to combine Series/DataFrames into one unified object. The [documentation](http://pandas.pydata.org/pandas-docs/stable/merging.html#concatenating-objects) has some examples on the ways it can be used."
     ]
    },
    {
     "cell_type": "markdown",
     "metadata": {},
     "source": [
      "### Grouping\n",
      "\n",
      "Grouping in pandas took some time for me to grasp, but it's pretty awesome once it clicks.\n",
      "\n",
      "pandas `groupby` method draws largely from the [split-apply-combine strategy for data analysis](http://www.jstatsoft.org/v40/i01/paper).  If you're not familiar with this methodology, I highly suggest you read up on it.  It does a great job of illustrating how to properly think through a data problem, which I feel is more important than any technical skill a data analyst/scientist can possess.\n",
      "\n",
      "When approaching a data analysis problem, you'll often break it apart into manageable pieces, perform some operations on each of the pieces, and then put everything back together again (this is the gist split-apply-combine strategy). pandas `groupby` is great for these problems (R users should check out the [plyr](http://plyr.had.co.nz/) and [dplyr](https://github.com/hadley/dplyr) packages).\n",
      "\n",
      "If you've ever used SQL's GROUP BY or an Excel Pivot Table, you've thought with this mindset, probably without realizing it.\n",
      "\n",
      "Assume we have a DataFrame and want to get the average for each group - visually, the split-apply-combine method looks like this:\n",
      "\n",
      "![Source: Gratuitously borrowed from [Hadley Wickham's Data Science in R slides](http://courses.had.co.nz/12-oscon/)](http://i.imgur.com/yjNkiwL.png)"
     ]
    },
    {
     "cell_type": "markdown",
     "metadata": {},
     "source": [
      "The City of Chicago is kind enough to publish all city employee salaries to its open data portal. Let's go through some basic `groupby` examples using this data."
     ]
    },
    {
     "cell_type": "code",
     "collapsed": false,
     "input": [
      "!head -n 3 city-of-chicago-salaries.csv"
     ],
     "language": "python",
     "metadata": {},
     "outputs": [
      {
       "output_type": "stream",
       "stream": "stdout",
       "text": [
        "Name,Position Title,Department,Employee Annual Salary\r\n",
        "\"AARON,  ELVIA J\",WATER RATE TAKER,WATER MGMNT,$85512.00\r\n",
        "\"AARON,  JEFFERY M\",POLICE OFFICER,POLICE,$75372.00\r\n"
       ]
      }
     ],
     "prompt_number": 52
    },
    {
     "cell_type": "markdown",
     "metadata": {},
     "source": [
      "Since the data contains a dollar sign for each salary, python will treat the field as a series of strings. We can use the `converters` parameter to change this when reading in the file.\n",
      "\n",
      ">converters : dict. optional\n",
      "\n",
      ">* Dict of functions for converting values in certain columns. Keys can either be integers or column labels"
     ]
    },
    {
     "cell_type": "code",
     "collapsed": false,
     "input": [
      "headers = ['name', 'title', 'department', 'salary']\n",
      "chicago = pd.read_csv('city-of-chicago-salaries.csv',\n",
      "                      header=False,\n",
      "                      names=headers,\n",
      "                      converters={'salary': lambda x: float(x.replace('$', ''))})\n",
      "print chicago.head()"
     ],
     "language": "python",
     "metadata": {},
     "outputs": [
      {
       "output_type": "stream",
       "stream": "stdout",
       "text": [
        "                    name                     title        department  salary\n",
        "0        AARON,  ELVIA J          WATER RATE TAKER       WATER MGMNT   85512\n",
        "1      AARON,  JEFFERY M            POLICE OFFICER            POLICE   75372\n",
        "2    AARON,  KIMBERLEI R  CHIEF CONTRACT EXPEDITER  GENERAL SERVICES   80916\n",
        "3    ABAD JR,  VICENTE M         CIVIL ENGINEER IV       WATER MGMNT   99648\n",
        "4  ABBATACOLA,  ROBERT J       ELECTRICAL MECHANIC          AVIATION   89440\n"
       ]
      }
     ],
     "prompt_number": 53
    },
    {
     "cell_type": "markdown",
     "metadata": {},
     "source": [
      "pandas `groupby` returns a DataFrameGroupBy object which has a variety of methods, many of which are similar to standard SQL aggregate functions."
     ]
    },
    {
     "cell_type": "code",
     "collapsed": false,
     "input": [
      "by_dept = chicago.groupby('department')\n",
      "print by_dept"
     ],
     "language": "python",
     "metadata": {},
     "outputs": [
      {
       "output_type": "stream",
       "stream": "stdout",
       "text": [
        "<pandas.core.groupby.DataFrameGroupBy object at 0x11118a090>\n"
       ]
      }
     ],
     "prompt_number": 54
    },
    {
     "cell_type": "markdown",
     "metadata": {},
     "source": [
      "Calling `count` returns the total number of NOT NULL values within each column. If we were interested in the total number of records in each group, we could use `size`."
     ]
    },
    {
     "cell_type": "code",
     "collapsed": false,
     "input": [
      "print by_dept.count().head() # NOT NULL records within each column\n",
      "print '\\n'\n",
      "print by_dept.size().tail() # total records for each department"
     ],
     "language": "python",
     "metadata": {},
     "outputs": [
      {
       "output_type": "stream",
       "stream": "stdout",
       "text": [
        "                   name  title  department  salary\n",
        "department                                        \n",
        "ADMIN HEARNG         42     42          42      42\n",
        "ANIMAL CONTRL        61     61          61      61\n",
        "AVIATION           1218   1218        1218    1218\n",
        "BOARD OF ELECTION   110    110         110     110\n",
        "BOARD OF ETHICS       9      9           9       9\n",
        "\n",
        "\n",
        "department\n",
        "PUBLIC LIBRARY     926\n",
        "STREETS & SAN     2070\n",
        "TRANSPORTN        1168\n",
        "TREASURER           25\n",
        "WATER MGMNT       1857\n",
        "dtype: int64\n"
       ]
      }
     ],
     "prompt_number": 55
    },
    {
     "cell_type": "markdown",
     "metadata": {},
     "source": [
      "Summation can be done via `sum`, averaging by `mean`, etc. (if it's a SQL function, chances are it exists in pandas). Oh, and there's median too, something not available in most databases."
     ]
    },
    {
     "cell_type": "code",
     "collapsed": false,
     "input": [
      "print by_dept.sum()[20:25] # total salaries of each department\n",
      "print '\\n'\n",
      "print by_dept.mean()[20:25] # average salary of each department\n",
      "print '\\n'\n",
      "print by_dept.median()[20:25] # take that, RDBMS!"
     ],
     "language": "python",
     "metadata": {},
     "outputs": [
      {
       "output_type": "stream",
       "stream": "stdout",
       "text": [
        "                       salary\n",
        "department                   \n",
        "HUMAN RESOURCES     4850928.0\n",
        "INSPECTOR GEN       4035150.0\n",
        "IPRA                7006128.0\n",
        "LAW                31883920.2\n",
        "LICENSE APPL COMM     65436.0\n",
        "\n",
        "\n",
        "                         salary\n",
        "department                     \n",
        "HUMAN RESOURCES    71337.176471\n",
        "INSPECTOR GEN      80703.000000\n",
        "IPRA               82425.035294\n",
        "LAW                70853.156000\n",
        "LICENSE APPL COMM  65436.000000\n",
        "\n",
        "\n",
        "                   salary\n",
        "department               \n",
        "HUMAN RESOURCES     68496\n",
        "INSPECTOR GEN       76116\n",
        "IPRA                82524\n",
        "LAW                 66492\n",
        "LICENSE APPL COMM   65436\n"
       ]
      }
     ],
     "prompt_number": 56
    },
    {
     "cell_type": "markdown",
     "metadata": {},
     "source": [
      "Operations can also be done on an individual Series within a grouped object. Say we were curious about the five departments with the most distinct titles - the pandas equivalent to:\n",
      "\n",
      "    SELECT department, COUNT(DISTINCT title)\n",
      "    FROM chicago\n",
      "    GROUP BY department\n",
      "    ORDER BY 2 DESC\n",
      "    LIMIT 5;\n",
      "\n",
      "pandas is a lot less verbose here ..."
     ]
    },
    {
     "cell_type": "code",
     "collapsed": false,
     "input": [
      "print by_dept.title.nunique().order(ascending=False)[:5]"
     ],
     "language": "python",
     "metadata": {},
     "outputs": [
      {
       "output_type": "stream",
       "stream": "stdout",
       "text": [
        "department\n",
        "WATER MGMNT    153\n",
        "TRANSPORTN     150\n",
        "POLICE         130\n",
        "AVIATION       125\n",
        "HEALTH         118\n",
        "dtype: int64\n"
       ]
      }
     ],
     "prompt_number": 57
    },
    {
     "cell_type": "markdown",
     "metadata": {},
     "source": [
      "### split-apply-combine\n",
      "\n",
      "The real power of `groupby` comes from it's split-apply-combine ability.\n",
      "\n",
      "What if we wanted to see the highest paid employee within each department. Given our current dataset, we'd have to do something like this in SQL:\n",
      "\n",
      "    SELECT *\n",
      "    FROM chicago c\n",
      "    INNER JOIN (\n",
      "        SELECT department, max(salary) max_salary\n",
      "        FROM chicago\n",
      "        GROUP BY department\n",
      "    ) m\n",
      "    ON c.department = m.department\n",
      "    AND c.salary = m.max_salary;\n",
      "    \n",
      "This would give you the highest paid person in each department, but it would return multiple if there were many equally high paid people within a department.\n",
      "\n",
      "Alternatively, you could alter the table, add a column, and then write an update statement to populate that column. However, that's not always an option.\n",
      "\n",
      "_Note: This would be a lot easier in PostgreSQL, T-SQL, and possibly Oracle due to the existence of partition/window/analytic functions. I've chosen to use MySQL syntax throughout this tutorial because of it's popularity. Unfortunately, MySQL doesn't have similar functions._"
     ]
    },
    {
     "cell_type": "markdown",
     "metadata": {},
     "source": [
      "Using `groupby` we can define a function (which we'll call `ranker`) that will label each record from 1 to N, where N is the number of employees within the department. We can then call `apply` to, well, _apply_ that function to each group (in this case, each department)."
     ]
    },
    {
     "cell_type": "code",
     "collapsed": false,
     "input": [
      "def ranker(df):\n",
      "    \"\"\"Assigns a rank to each employee based on salary, with 1 being the highest paid.\n",
      "    Assumes the data is DESC sorted.\"\"\"\n",
      "    df['dept_rank'] = np.arange(len(df)) + 1\n",
      "    return df"
     ],
     "language": "python",
     "metadata": {},
     "outputs": [],
     "prompt_number": 58
    },
    {
     "cell_type": "code",
     "collapsed": false,
     "input": [
      "chicago.sort('salary', ascending=False, inplace=True)\n",
      "chicago = chicago.groupby('department').apply(ranker)\n",
      "print chicago[chicago.dept_rank == 1].head(7)"
     ],
     "language": "python",
     "metadata": {},
     "outputs": [
      {
       "output_type": "stream",
       "stream": "stdout",
       "text": [
        "                         name                     title      department  \\\n",
        "18039     MC CARTHY,  GARRY F  SUPERINTENDENT OF POLICE          POLICE   \n",
        "8004           EMANUEL,  RAHM                     MAYOR  MAYOR'S OFFICE   \n",
        "25588       SANTIAGO,  JOSE A         FIRE COMMISSIONER            FIRE   \n",
        "763    ANDOLINO,  ROSEMARIE S  COMMISSIONER OF AVIATION        AVIATION   \n",
        "4697     CHOUCAIR,  BECHARA N    COMMISSIONER OF HEALTH          HEALTH   \n",
        "21971      PATTON,  STEPHEN R       CORPORATION COUNSEL             LAW   \n",
        "12635      HOLT,  ALEXANDRA D                BUDGET DIR   BUDGET & MGMT   \n",
        "\n",
        "       salary  dept_rank  \n",
        "18039  260004          1  \n",
        "8004   216210          1  \n",
        "25588  202728          1  \n",
        "763    186576          1  \n",
        "4697   177156          1  \n",
        "21971  173664          1  \n",
        "12635  169992          1  \n"
       ]
      }
     ],
     "prompt_number": 59
    },
    {
     "cell_type": "code",
     "collapsed": false,
     "input": [
      "chicago[chicago.department == \"LAW\"][:5]"
     ],
     "language": "python",
     "metadata": {},
     "outputs": [
      {
       "html": [
        "<div style=\"max-height:1000px;max-width:1500px;overflow:auto;\">\n",
        "<table border=\"1\" class=\"dataframe\">\n",
        "  <thead>\n",
        "    <tr style=\"text-align: right;\">\n",
        "      <th></th>\n",
        "      <th>name</th>\n",
        "      <th>title</th>\n",
        "      <th>department</th>\n",
        "      <th>salary</th>\n",
        "      <th>dept_rank</th>\n",
        "    </tr>\n",
        "  </thead>\n",
        "  <tbody>\n",
        "    <tr>\n",
        "      <th>21971</th>\n",
        "      <td>   PATTON,  STEPHEN R</td>\n",
        "      <td>            CORPORATION COUNSEL</td>\n",
        "      <td> LAW</td>\n",
        "      <td> 173664</td>\n",
        "      <td> 1</td>\n",
        "    </tr>\n",
        "    <tr>\n",
        "      <th>6311 </th>\n",
        "      <td>   DARLING,  LESLIE M</td>\n",
        "      <td> FIRST ASST CORPORATION COUNSEL</td>\n",
        "      <td> LAW</td>\n",
        "      <td> 149160</td>\n",
        "      <td> 2</td>\n",
        "    </tr>\n",
        "    <tr>\n",
        "      <th>17680</th>\n",
        "      <td> MARTINICO,  JOSEPH P</td>\n",
        "      <td>         CHIEF LABOR NEGOTIATOR</td>\n",
        "      <td> LAW</td>\n",
        "      <td> 144036</td>\n",
        "      <td> 3</td>\n",
        "    </tr>\n",
        "    <tr>\n",
        "      <th>22357</th>\n",
        "      <td>     PETERS,  LYNDA A</td>\n",
        "      <td>                CITY PROSECUTOR</td>\n",
        "      <td> LAW</td>\n",
        "      <td> 139932</td>\n",
        "      <td> 4</td>\n",
        "    </tr>\n",
        "    <tr>\n",
        "      <th>9128 </th>\n",
        "      <td>    FRANKLIN,  LIZA M</td>\n",
        "      <td>     DEPUTY CORPORATION COUNSEL</td>\n",
        "      <td> LAW</td>\n",
        "      <td> 137076</td>\n",
        "      <td> 5</td>\n",
        "    </tr>\n",
        "  </tbody>\n",
        "</table>\n",
        "</div>"
       ],
       "metadata": {},
       "output_type": "pyout",
       "prompt_number": 60,
       "text": [
        "                       name                           title department  salary  dept_rank\n",
        "21971    PATTON,  STEPHEN R             CORPORATION COUNSEL        LAW  173664          1\n",
        "6311     DARLING,  LESLIE M  FIRST ASST CORPORATION COUNSEL        LAW  149160          2\n",
        "17680  MARTINICO,  JOSEPH P          CHIEF LABOR NEGOTIATOR        LAW  144036          3\n",
        "22357      PETERS,  LYNDA A                 CITY PROSECUTOR        LAW  139932          4\n",
        "9128      FRANKLIN,  LIZA M      DEPUTY CORPORATION COUNSEL        LAW  137076          5"
       ]
      }
     ],
     "prompt_number": 60
    },
    {
     "cell_type": "markdown",
     "metadata": {},
     "source": [
      "We can now see where each employee ranks within their department based on salary."
     ]
    },
    {
     "cell_type": "markdown",
     "metadata": {},
     "source": [
      "## Using pandas on the MovieLens dataset"
     ]
    },
    {
     "cell_type": "markdown",
     "metadata": {},
     "source": [
      "To show pandas in a more \"applied\" sense, let's use it to answer some questions about the [MovieLens](http://www.grouplens.org/datasets/movielens/) dataset. Recall that we've already read our data into DataFrames and merged it."
     ]
    },
    {
     "cell_type": "code",
     "collapsed": false,
     "input": [
      "# pass in column names for each CSV\n",
      "u_cols = ['user_id', 'age', 'sex', 'occupation', 'zip_code']\n",
      "users = pd.read_csv('ml-100k/u.user', sep='|', names=u_cols)\n",
      "\n",
      "r_cols = ['user_id', 'movie_id', 'rating', 'unix_timestamp']\n",
      "ratings = pd.read_csv('ml-100k/u.data', sep='\\t', names=r_cols)\n",
      "\n",
      "# the movies file contains columns indicating the movie's genres\n",
      "# let's only load the first five columns of the file with usecols\n",
      "m_cols = ['movie_id', 'title', 'release_date', 'video_release_date', 'imdb_url']\n",
      "movies = pd.read_csv('ml-100k/u.item', sep='|', names=m_cols, usecols=range(5))\n",
      "\n",
      "# create one merged DataFrame\n",
      "movie_ratings = pd.merge(movies, ratings)\n",
      "lens = pd.merge(movie_ratings, users)"
     ],
     "language": "python",
     "metadata": {},
     "outputs": [],
     "prompt_number": 61
    },
    {
     "cell_type": "markdown",
     "metadata": {},
     "source": [
      "**What are the 25 most rated movies?**"
     ]
    },
    {
     "cell_type": "code",
     "collapsed": false,
     "input": [
      "most_rated = lens.groupby('title').size().order(ascending=False)[:25]\n",
      "print most_rated"
     ],
     "language": "python",
     "metadata": {},
     "outputs": [
      {
       "output_type": "stream",
       "stream": "stdout",
       "text": [
        "title\n",
        "Star Wars (1977)                             583\n",
        "Contact (1997)                               509\n",
        "Fargo (1996)                                 508\n",
        "Return of the Jedi (1983)                    507\n",
        "Liar Liar (1997)                             485\n",
        "English Patient, The (1996)                  481\n",
        "Scream (1996)                                478\n",
        "Toy Story (1995)                             452\n",
        "Air Force One (1997)                         431\n",
        "Independence Day (ID4) (1996)                429\n",
        "Raiders of the Lost Ark (1981)               420\n",
        "Godfather, The (1972)                        413\n",
        "Pulp Fiction (1994)                          394\n",
        "Twelve Monkeys (1995)                        392\n",
        "Silence of the Lambs, The (1991)             390\n",
        "Jerry Maguire (1996)                         384\n",
        "Chasing Amy (1997)                           379\n",
        "Rock, The (1996)                             378\n",
        "Empire Strikes Back, The (1980)              367\n",
        "Star Trek: First Contact (1996)              365\n",
        "Titanic (1997)                               350\n",
        "Back to the Future (1985)                    350\n",
        "Mission: Impossible (1996)                   344\n",
        "Fugitive, The (1993)                         336\n",
        "Indiana Jones and the Last Crusade (1989)    331\n",
        "dtype: int64\n"
       ]
      }
     ],
     "prompt_number": 62
    },
    {
     "cell_type": "markdown",
     "metadata": {},
     "source": [
      "There's a lot going on in the code above, but it's very idomatic. We're splitting the DataFrame into groups by movie title and applying the `size` method to get the count of records in each group. Then we order our results in descending order and limit the output to the top 25 using Python's slicing syntax.\n",
      "\n",
      "In SQL, this would be equivalent to:\n",
      "\n",
      "    SELECT title, count(1)\n",
      "    FROM lens\n",
      "    GROUP BY title\n",
      "    ORDER BY 2 DESC\n",
      "    LIMIT 25;\n",
      "\n",
      "Alternatively, pandas has a nifty `value_counts` method - yes, this is simpler - the goal above was to show a basic `groupby` example."
     ]
    },
    {
     "cell_type": "code",
     "collapsed": false,
     "input": [
      "lens.title.value_counts()[:25]"
     ],
     "language": "python",
     "metadata": {},
     "outputs": [
      {
       "metadata": {},
       "output_type": "pyout",
       "prompt_number": 63,
       "text": [
        "Star Wars (1977)                             583\n",
        "Contact (1997)                               509\n",
        "Fargo (1996)                                 508\n",
        "Return of the Jedi (1983)                    507\n",
        "Liar Liar (1997)                             485\n",
        "English Patient, The (1996)                  481\n",
        "Scream (1996)                                478\n",
        "Toy Story (1995)                             452\n",
        "Air Force One (1997)                         431\n",
        "Independence Day (ID4) (1996)                429\n",
        "Raiders of the Lost Ark (1981)               420\n",
        "Godfather, The (1972)                        413\n",
        "Pulp Fiction (1994)                          394\n",
        "Twelve Monkeys (1995)                        392\n",
        "Silence of the Lambs, The (1991)             390\n",
        "Jerry Maguire (1996)                         384\n",
        "Chasing Amy (1997)                           379\n",
        "Rock, The (1996)                             378\n",
        "Empire Strikes Back, The (1980)              367\n",
        "Star Trek: First Contact (1996)              365\n",
        "Titanic (1997)                               350\n",
        "Back to the Future (1985)                    350\n",
        "Mission: Impossible (1996)                   344\n",
        "Fugitive, The (1993)                         336\n",
        "Indiana Jones and the Last Crusade (1989)    331\n",
        "dtype: int64"
       ]
      }
     ],
     "prompt_number": 63
    },
    {
     "cell_type": "markdown",
     "metadata": {},
     "source": [
      "**Which movies are most highly rated?**"
     ]
    },
    {
     "cell_type": "code",
     "collapsed": false,
     "input": [
      "movie_stats = lens.groupby('title').agg({'rating': [np.size, np.mean]})\n",
      "print movie_stats.head()"
     ],
     "language": "python",
     "metadata": {},
     "outputs": [
      {
       "output_type": "stream",
       "stream": "stdout",
       "text": [
        "                           rating          \n",
        "                             size      mean\n",
        "title                                      \n",
        "'Til There Was You (1997)       9  2.333333\n",
        "1-900 (1994)                    5  2.600000\n",
        "101 Dalmatians (1996)         109  2.908257\n",
        "12 Angry Men (1957)           125  4.344000\n",
        "187 (1997)                     41  3.024390\n"
       ]
      }
     ],
     "prompt_number": 64
    },
    {
     "cell_type": "markdown",
     "metadata": {},
     "source": [
      "We can use the `agg` method to pass a dictionary specifying the columns to aggregate (as keys) and a list of functions we'd like to apply.\n",
      "\n",
      "Let's sort the resulting DataFrame so that we can see which movies have the highest average score."
     ]
    },
    {
     "cell_type": "code",
     "collapsed": false,
     "input": [
      "# sort by rating average\n",
      "print movie_stats.sort([('rating', 'mean')], ascending=False).head()"
     ],
     "language": "python",
     "metadata": {},
     "outputs": [
      {
       "output_type": "stream",
       "stream": "stdout",
       "text": [
        "                                            rating      \n",
        "                                              size  mean\n",
        "title                                                   \n",
        "Marlene Dietrich: Shadow and Light (1996)        1     5\n",
        "Prefontaine (1997)                               3     5\n",
        "Santa with Muscles (1996)                        2     5\n",
        "Star Kid (1997)                                  3     5\n",
        "Someone Else's America (1995)                    1     5\n"
       ]
      }
     ],
     "prompt_number": 65
    },
    {
     "cell_type": "markdown",
     "metadata": {},
     "source": [
      "Because `movie_stats` is a DataFrame, we use the `sort` method - only Series objects use `order`. Additionally, because our columns are now a [MultiIndex](http://pandas.pydata.org/pandas-docs/stable/indexing.html#hierarchical-indexing-multiindex), we need to pass in a tuple specifying how to sort.\n",
      "\n",
      "The above movies are rated so rarely that we can't count them as quality films. Let's only look at movies that have been rated at least 100 times."
     ]
    },
    {
     "cell_type": "code",
     "collapsed": false,
     "input": [
      "atleast_100 = movie_stats['rating'].size >= 100\n",
      "print movie_stats[atleast_100].sort([('rating', 'mean')], ascending=False)[:15]"
     ],
     "language": "python",
     "metadata": {},
     "outputs": [
      {
       "output_type": "stream",
       "stream": "stdout",
       "text": [
        "                                        rating          \n",
        "                                          size      mean\n",
        "title                                                   \n",
        "Close Shave, A (1995)                      112  4.491071\n",
        "Schindler's List (1993)                    298  4.466443\n",
        "Wrong Trousers, The (1993)                 118  4.466102\n",
        "Casablanca (1942)                          243  4.456790\n",
        "Shawshank Redemption, The (1994)           283  4.445230\n",
        "Rear Window (1954)                         209  4.387560\n",
        "Usual Suspects, The (1995)                 267  4.385768\n",
        "Star Wars (1977)                           583  4.358491\n",
        "12 Angry Men (1957)                        125  4.344000\n",
        "Citizen Kane (1941)                        198  4.292929\n",
        "To Kill a Mockingbird (1962)               219  4.292237\n",
        "One Flew Over the Cuckoo's Nest (1975)     264  4.291667\n",
        "Silence of the Lambs, The (1991)           390  4.289744\n",
        "North by Northwest (1959)                  179  4.284916\n",
        "Godfather, The (1972)                      413  4.283293\n"
       ]
      }
     ],
     "prompt_number": 66
    },
    {
     "cell_type": "markdown",
     "metadata": {},
     "source": [
      "Those results look realistic.  Notice that we used boolean indexing to filter our `movie_stats` frame.\n",
      "\n",
      "We broke this question down into many parts, so here's the Python needed to get the 15 movies with the highest average rating, requiring that they had at least 100 ratings:\n",
      "\n",
      "```python\n",
      "    movie_stats = lens.groupby('title').agg({'rating', [np.size, np.mean})\n",
      "    atleast_100 = movie_stats['rating'].size >= 100\n",
      "    movie_stats[atleast_100].sort([('rating', 'mean')], ascending=False)[:15]\n",
      "```\n",
      "\n",
      "The SQL equivalent would be:\n",
      "\n",
      "    SELECT title, COUNT(1) size, AVG(rating) mean\n",
      "    FROM lens\n",
      "    GROUP BY title\n",
      "    HAVING COUNT(1) >= 100\n",
      "    ORDER BY 3 DESC\n",
      "    LIMIT 15;"
     ]
    },
    {
     "cell_type": "markdown",
     "metadata": {},
     "source": [
      "**Limiting our population going forward**\n",
      "\n",
      "Going forward, let's only look at the 50 most rated movies. Let's make a Series of movies that meet this threshold so we can use it for filtering later."
     ]
    },
    {
     "cell_type": "code",
     "collapsed": false,
     "input": [
      "most_50 = lens.groupby('movie_id').size().order(ascending=False)[:50]"
     ],
     "language": "python",
     "metadata": {},
     "outputs": [],
     "prompt_number": 67
    },
    {
     "cell_type": "markdown",
     "metadata": {},
     "source": [
      "The SQL to match this would be:\n",
      "\n",
      "    CREATE TABLE most_50 AS (\n",
      "        SELECT movie_id, COUNT(1)\n",
      "        FROM lens\n",
      "        GROUP BY movie_id\n",
      "        ORDER BY 2 DESC\n",
      "        LIMIT 50\n",
      "    );\n",
      "    \n",
      "This table would then allow us to use EXISTS, IN, or JOIN whenever we wanted to filter our results. Here's an example using EXISTS:\n",
      "\n",
      "    SELECT *\n",
      "    FROM lens\n",
      "    WHERE EXISTS (SELECT 1 FROM most_50 WHERE lens.movie_id = most_50.movie_id);"
     ]
    },
    {
     "cell_type": "markdown",
     "metadata": {},
     "source": [
      "**Which movies are most controversial amongst different ages?**"
     ]
    },
    {
     "cell_type": "markdown",
     "metadata": {},
     "source": [
      "Let's look at how these movies are viewed across different age groups. First, let's look at how age is distributed amongst our users."
     ]
    },
    {
     "cell_type": "code",
     "collapsed": false,
     "input": [
      "users.age.hist(bins=30)\n",
      "plt.title(\"Distribution of users' ages\")\n",
      "plt.ylabel('count of users')\n",
      "plt.xlabel('age');"
     ],
     "language": "python",
     "metadata": {},
     "outputs": [
      {
       "metadata": {},
       "output_type": "display_data",
       "png": "[encoded data removed]",
       "text": [
        "<matplotlib.figure.Figure at 0x11118a110>"
       ]
      }
     ],
     "prompt_number": 68
    },
    {
     "cell_type": "markdown",
     "metadata": {},
     "source": [
      "pandas' integration with [matplotlib](http://matplotlib.org/index.html) makes basic graphing of Series/DataFrames trivial.  In this case, just call `hist` on the column to produce a histogram.  We can also use [matplotlib.pyplot](http://matplotlib.org/users/pyplot_tutorial.html) to customize our graph a bit (always label your axes)."
     ]
    },
    {
     "cell_type": "markdown",
     "metadata": {},
     "source": [
      "**Binning our users**\n",
      "\n",
      "I don't think it'd be very useful to compare individual ages - let's bin our users into age groups using `pandas.cut`."
     ]
    },
    {
     "cell_type": "code",
     "collapsed": false,
     "input": [
      "labels = ['0-9', '10-19', '20-29', '30-39', '40-49', '50-59', '60-69', '70-79']\n",
      "lens['age_group'] = pd.cut(lens.age, range(0, 81, 10), right=False, labels=labels)\n",
      "print lens[['age', 'age_group']].drop_duplicates()[:10]"
     ],
     "language": "python",
     "metadata": {},
     "outputs": [
      {
       "output_type": "stream",
       "stream": "stdout",
       "text": [
        "      age age_group\n",
        "0      60     60-69\n",
        "397    21     20-29\n",
        "459    33     30-39\n",
        "524    30     30-39\n",
        "782    23     20-29\n",
        "995    29     20-29\n",
        "1229   26     20-29\n",
        "1664   31     30-39\n",
        "1942   24     20-29\n",
        "2270   32     30-39\n"
       ]
      }
     ],
     "prompt_number": 69
    },
    {
     "cell_type": "markdown",
     "metadata": {},
     "source": [
      "`pandas.cut` allows you to bin numeric data. In the above lines, we first created labels to name our bins, then split our users into eight bins of ten years (0-9, 10-19, 20-29, etc.). Our use of `right=False` told the function that we wanted the bins to be *exclusive* of the max age in the bin (e.g. a 30 year old user gets the 30s label).\n",
      "\n",
      "Now we can now compare ratings across age groups."
     ]
    },
    {
     "cell_type": "code",
     "collapsed": false,
     "input": [
      "print lens.groupby('age_group').agg({'rating': [np.size, np.mean]})"
     ],
     "language": "python",
     "metadata": {},
     "outputs": [
      {
       "output_type": "stream",
       "stream": "stdout",
       "text": [
        "           rating          \n",
        "             size      mean\n",
        "age_group                  \n",
        "0-9            43  3.767442\n",
        "10-19        8181  3.486126\n",
        "20-29       39535  3.467333\n",
        "30-39       25696  3.554444\n",
        "40-49       15021  3.591772\n",
        "50-59        8704  3.635800\n",
        "60-69        2623  3.648875\n",
        "70-79         197  3.649746\n"
       ]
      }
     ],
     "prompt_number": 70
    },
    {
     "cell_type": "markdown",
     "metadata": {},
     "source": [
      "Young users seem a bit more critical than other age groups. Let's look at how the 50 most rated movies are viewed across each age group. We can use the `most_50` Series we created earlier for filtering."
     ]
    },
    {
     "cell_type": "code",
     "collapsed": false,
     "input": [
      "lens.set_index('movie_id', inplace=True)"
     ],
     "language": "python",
     "metadata": {},
     "outputs": [],
     "prompt_number": 71
    },
    {
     "cell_type": "code",
     "collapsed": false,
     "input": [
      "by_age = lens.ix[most_50.index].groupby(['title', 'age_group'])\n",
      "by_age.rating.mean().head(15)"
     ],
     "language": "python",
     "metadata": {},
     "outputs": [
      {
       "metadata": {},
       "output_type": "pyout",
       "prompt_number": 72,
       "text": [
        "title                 age_group\n",
        "Air Force One (1997)  10-19        3.647059\n",
        "                      20-29        3.666667\n",
        "                      30-39        3.570000\n",
        "                      40-49        3.555556\n",
        "                      50-59        3.750000\n",
        "                      60-69        3.666667\n",
        "                      70-79        3.666667\n",
        "Alien (1979)          10-19        4.111111\n",
        "                      20-29        4.026087\n",
        "                      30-39        4.103448\n",
        "                      40-49        3.833333\n",
        "                      50-59        4.272727\n",
        "                      60-69        3.500000\n",
        "                      70-79        4.000000\n",
        "Aliens (1986)         10-19        4.050000\n",
        "Name: rating, dtype: float64"
       ]
      }
     ],
     "prompt_number": 72
    },
    {
     "cell_type": "markdown",
     "metadata": {},
     "source": [
      "Notice that both the title and age group are indexes here, with the average rating value being a Series. This is going to produce a really long list of values.\n",
      "\n",
      "Wouldn't it be nice to see the data as a table? Each title as a row, each age group as a column, and the average rating in each cell.\n",
      "\n",
      "Behold! The magic of `unstack`!"
     ]
    },
    {
     "cell_type": "code",
     "collapsed": false,
     "input": [
      "by_age.rating.mean().unstack(1).fillna(0)[10:20]"
     ],
     "language": "python",
     "metadata": {},
     "outputs": [
      {
       "html": [
        "<div style=\"max-height:1000px;max-width:1500px;overflow:auto;\">\n",
        "<table border=\"1\" class=\"dataframe\">\n",
        "  <thead>\n",
        "    <tr style=\"text-align: right;\">\n",
        "      <th>age_group</th>\n",
        "      <th>0-9</th>\n",
        "      <th>10-19</th>\n",
        "      <th>20-29</th>\n",
        "      <th>30-39</th>\n",
        "      <th>40-49</th>\n",
        "      <th>50-59</th>\n",
        "      <th>60-69</th>\n",
        "      <th>70-79</th>\n",
        "    </tr>\n",
        "    <tr>\n",
        "      <th>title</th>\n",
        "      <th></th>\n",
        "      <th></th>\n",
        "      <th></th>\n",
        "      <th></th>\n",
        "      <th></th>\n",
        "      <th></th>\n",
        "      <th></th>\n",
        "      <th></th>\n",
        "    </tr>\n",
        "  </thead>\n",
        "  <tbody>\n",
        "    <tr>\n",
        "      <th>E.T. the Extra-Terrestrial (1982)</th>\n",
        "      <td> 0</td>\n",
        "      <td> 3.680000</td>\n",
        "      <td> 3.609091</td>\n",
        "      <td> 3.806818</td>\n",
        "      <td> 4.160000</td>\n",
        "      <td> 4.368421</td>\n",
        "      <td> 4.375000</td>\n",
        "      <td> 0.000000</td>\n",
        "    </tr>\n",
        "    <tr>\n",
        "      <th>Empire Strikes Back, The (1980)</th>\n",
        "      <td> 4</td>\n",
        "      <td> 4.642857</td>\n",
        "      <td> 4.311688</td>\n",
        "      <td> 4.052083</td>\n",
        "      <td> 4.100000</td>\n",
        "      <td> 3.909091</td>\n",
        "      <td> 4.250000</td>\n",
        "      <td> 5.000000</td>\n",
        "    </tr>\n",
        "    <tr>\n",
        "      <th>English Patient, The (1996)</th>\n",
        "      <td> 5</td>\n",
        "      <td> 3.739130</td>\n",
        "      <td> 3.571429</td>\n",
        "      <td> 3.621849</td>\n",
        "      <td> 3.634615</td>\n",
        "      <td> 3.774648</td>\n",
        "      <td> 3.904762</td>\n",
        "      <td> 4.500000</td>\n",
        "    </tr>\n",
        "    <tr>\n",
        "      <th>Fargo (1996)</th>\n",
        "      <td> 0</td>\n",
        "      <td> 3.937500</td>\n",
        "      <td> 4.010471</td>\n",
        "      <td> 4.230769</td>\n",
        "      <td> 4.294118</td>\n",
        "      <td> 4.442308</td>\n",
        "      <td> 4.000000</td>\n",
        "      <td> 4.333333</td>\n",
        "    </tr>\n",
        "    <tr>\n",
        "      <th>Forrest Gump (1994)</th>\n",
        "      <td> 5</td>\n",
        "      <td> 4.047619</td>\n",
        "      <td> 3.785714</td>\n",
        "      <td> 3.861702</td>\n",
        "      <td> 3.847826</td>\n",
        "      <td> 4.000000</td>\n",
        "      <td> 3.800000</td>\n",
        "      <td> 0.000000</td>\n",
        "    </tr>\n",
        "    <tr>\n",
        "      <th>Fugitive, The (1993)</th>\n",
        "      <td> 0</td>\n",
        "      <td> 4.320000</td>\n",
        "      <td> 3.969925</td>\n",
        "      <td> 3.981481</td>\n",
        "      <td> 4.190476</td>\n",
        "      <td> 4.240000</td>\n",
        "      <td> 3.666667</td>\n",
        "      <td> 0.000000</td>\n",
        "    </tr>\n",
        "    <tr>\n",
        "      <th>Full Monty, The (1997)</th>\n",
        "      <td> 0</td>\n",
        "      <td> 3.421053</td>\n",
        "      <td> 4.056818</td>\n",
        "      <td> 3.933333</td>\n",
        "      <td> 3.714286</td>\n",
        "      <td> 4.146341</td>\n",
        "      <td> 4.166667</td>\n",
        "      <td> 3.500000</td>\n",
        "    </tr>\n",
        "    <tr>\n",
        "      <th>Godfather, The (1972)</th>\n",
        "      <td> 0</td>\n",
        "      <td> 4.400000</td>\n",
        "      <td> 4.345070</td>\n",
        "      <td> 4.412844</td>\n",
        "      <td> 3.929412</td>\n",
        "      <td> 4.463415</td>\n",
        "      <td> 4.125000</td>\n",
        "      <td> 0.000000</td>\n",
        "    </tr>\n",
        "    <tr>\n",
        "      <th>Groundhog Day (1993)</th>\n",
        "      <td> 0</td>\n",
        "      <td> 3.476190</td>\n",
        "      <td> 3.798246</td>\n",
        "      <td> 3.786667</td>\n",
        "      <td> 3.851064</td>\n",
        "      <td> 3.571429</td>\n",
        "      <td> 3.571429</td>\n",
        "      <td> 4.000000</td>\n",
        "    </tr>\n",
        "    <tr>\n",
        "      <th>Independence Day (ID4) (1996)</th>\n",
        "      <td> 0</td>\n",
        "      <td> 3.595238</td>\n",
        "      <td> 3.291429</td>\n",
        "      <td> 3.389381</td>\n",
        "      <td> 3.718750</td>\n",
        "      <td> 3.888889</td>\n",
        "      <td> 2.750000</td>\n",
        "      <td> 0.000000</td>\n",
        "    </tr>\n",
        "  </tbody>\n",
        "</table>\n",
        "</div>"
       ],
       "metadata": {},
       "output_type": "pyout",
       "prompt_number": 73,
       "text": [
        "age_group                          0-9     10-19     20-29     30-39  \\\n",
        "title                                                                  \n",
        "E.T. the Extra-Terrestrial (1982)    0  3.680000  3.609091  3.806818   \n",
        "Empire Strikes Back, The (1980)      4  4.642857  4.311688  4.052083   \n",
        "English Patient, The (1996)          5  3.739130  3.571429  3.621849   \n",
        "Fargo (1996)                         0  3.937500  4.010471  4.230769   \n",
        "Forrest Gump (1994)                  5  4.047619  3.785714  3.861702   \n",
        "Fugitive, The (1993)                 0  4.320000  3.969925  3.981481   \n",
        "Full Monty, The (1997)               0  3.421053  4.056818  3.933333   \n",
        "Godfather, The (1972)                0  4.400000  4.345070  4.412844   \n",
        "Groundhog Day (1993)                 0  3.476190  3.798246  3.786667   \n",
        "Independence Day (ID4) (1996)        0  3.595238  3.291429  3.389381   \n",
        "\n",
        "age_group                             40-49     50-59     60-69     70-79  \n",
        "title                                                                      \n",
        "E.T. the Extra-Terrestrial (1982)  4.160000  4.368421  4.375000  0.000000  \n",
        "Empire Strikes Back, The (1980)    4.100000  3.909091  4.250000  5.000000  \n",
        "English Patient, The (1996)        3.634615  3.774648  3.904762  4.500000  \n",
        "Fargo (1996)                       4.294118  4.442308  4.000000  4.333333  \n",
        "Forrest Gump (1994)                3.847826  4.000000  3.800000  0.000000  \n",
        "Fugitive, The (1993)               4.190476  4.240000  3.666667  0.000000  \n",
        "Full Monty, The (1997)             3.714286  4.146341  4.166667  3.500000  \n",
        "Godfather, The (1972)              3.929412  4.463415  4.125000  0.000000  \n",
        "Groundhog Day (1993)               3.851064  3.571429  3.571429  4.000000  \n",
        "Independence Day (ID4) (1996)      3.718750  3.888889  2.750000  0.000000  "
       ]
      }
     ],
     "prompt_number": 73
    },
    {
     "cell_type": "markdown",
     "metadata": {},
     "source": [
      "`unstack`, well, unstacks the specified level of a [MultiIndex](http://pandas.pydata.org/pandas-docs/stable/indexing.html#hierarchical-indexing-multiindex) (by default, `groupby` turns the grouped field into an index - since we grouped by two fields, it became a MultiIndex). We unstacked the second index (remember that Python uses 0-based indexes), and then filled in NULL values with 0.\n",
      "\n",
      "If we would have used:\n",
      "```python\n",
      "    by_age.rating.mean().unstack(0).fillna(0)\n",
      "```\n",
      "We would have had our age groups as rows and movie titles as columns."
     ]
    },
    {
     "cell_type": "markdown",
     "metadata": {},
     "source": [
      "**Which movies do men and women most disagree on?**\n",
      "\n",
      "EDIT: *I realized after writing this question that Wes McKinney basically went through the exact same question in his book. It's a good, yet simple example of pivot_table, so I'm going to leave it here. Seriously though, [go buy the book](http://www.amazon.com/Python-Data-Analysis-Wes-McKinney/dp/1449319793/ref=tmm_pap_title_0?ie=UTF8&qid=1381716268&sr=8-1).*\n",
      "\n",
      "Think about how you'd have to do this in SQL for a second. You'd have to use a combination of IF/CASE statements with aggregate functions in order to pivot your dataset. Your query would look something like this:\n",
      "\n",
      "    SELECT title, AVG(IF(sex = 'F', rating, NULL)), AVG(IF(sex = 'M', rating, NULL))\n",
      "    FROM lens\n",
      "    GROUP BY title;\n",
      "    \n",
      "Imagine how annoying it'd be if you had to do this on more than two columns.\n",
      "    \n",
      "DataFrame's have a *pivot_table* method that makes these kinds of operations much easier (and less verbose)."
     ]
    },
    {
     "cell_type": "code",
     "collapsed": false,
     "input": [
      "lens.reset_index('movie_id', inplace=True)"
     ],
     "language": "python",
     "metadata": {},
     "outputs": [],
     "prompt_number": 74
    },
    {
     "cell_type": "code",
     "collapsed": false,
     "input": [
      "pivoted = lens.pivot_table(rows=['movie_id', 'title'],\n",
      "                           cols=['sex'],\n",
      "                           values='rating',\n",
      "                           fill_value=0)\n",
      "print pivoted.head()"
     ],
     "language": "python",
     "metadata": {},
     "outputs": [
      {
       "output_type": "stream",
       "stream": "stdout",
       "text": [
        "sex                                F         M\n",
        "movie_id title                                \n",
        "1        Toy Story (1995)   3.789916  3.909910\n",
        "2        GoldenEye (1995)   3.368421  3.178571\n",
        "3        Four Rooms (1995)  2.687500  3.108108\n",
        "4        Get Shorty (1995)  3.400000  3.591463\n",
        "5        Copycat (1995)     3.772727  3.140625\n"
       ]
      }
     ],
     "prompt_number": 75
    },
    {
     "cell_type": "code",
     "collapsed": false,
     "input": [
      "pivoted['diff'] = pivoted.M - pivoted.F\n",
      "print pivoted.head()"
     ],
     "language": "python",
     "metadata": {},
     "outputs": [
      {
       "output_type": "stream",
       "stream": "stdout",
       "text": [
        "sex                                F         M      diff\n",
        "movie_id title                                          \n",
        "1        Toy Story (1995)   3.789916  3.909910  0.119994\n",
        "2        GoldenEye (1995)   3.368421  3.178571 -0.189850\n",
        "3        Four Rooms (1995)  2.687500  3.108108  0.420608\n",
        "4        Get Shorty (1995)  3.400000  3.591463  0.191463\n",
        "5        Copycat (1995)     3.772727  3.140625 -0.632102\n"
       ]
      }
     ],
     "prompt_number": 76
    },
    {
     "cell_type": "code",
     "collapsed": false,
     "input": [
      "pivoted.reset_index('movie_id', inplace=True)"
     ],
     "language": "python",
     "metadata": {},
     "outputs": [],
     "prompt_number": 77
    },
    {
     "cell_type": "code",
     "collapsed": false,
     "input": [
      "disagreements = pivoted[pivoted.movie_id.isin(most_50.index)]['diff']\n",
      "disagreements.order().plot(kind='barh', figsize=[9, 15])\n",
      "plt.title('Male vs. Female Avg. Ratings\\n(Difference > 0 = Favored by Men)')\n",
      "plt.ylabel('Title')\n",
      "plt.xlabel('Average Rating Difference');"
     ],
     "language": "python",
     "metadata": {},
     "outputs": [
      {
       "metadata": {},
       "output_type": "display_data",
       "png": "[encoded data removed]",
       "text": [
        "<matplotlib.figure.Figure at 0x1114ccb50>"
       ]
      }
     ],
     "prompt_number": 78
    },
    {
     "cell_type": "markdown",
     "metadata": {},
     "source": [
      "Of course men like Terminator more than women. Independence Day though? Really?"
     ]
    },
    {
     "cell_type": "markdown",
     "metadata": {},
     "source": [
      "### Additional Resources:\n",
      "\n",
      "* [pandas documentation](http://pandas.pydata.org/pandas-docs/stable/)\n",
      "* [Introduction to pandas](http://nbviewer.ipython.org/urls/gist.github.com/fonnesbeck/5850375/raw/c18cfcd9580d382cb6d14e4708aab33a0916ff3e/1.+Introduction+to+Pandas.ipynb) by [Chris Fonnesbeck](https://twitter.com/fonnesbeck)\n",
      "* [pandas videos from PyCon](http://pyvideo.org/search?models=videos.video&q=pandas)\n",
      "* [pandas and Python top 10](http://manishamde.github.io/blog/2013/03/07/pandas-and-python-top-10/)\n",
      "* [pandasql](http://blog.yhathq.com/posts/pandasql-sql-for-pandas-dataframes.html)"
     ]
    }
   ],
   "metadata": {}
  }
 ]
}