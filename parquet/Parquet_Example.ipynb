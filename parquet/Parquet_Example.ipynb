{
 "cells": [
  {
   "cell_type": "markdown",
   "metadata": {},
   "source": [
    "# Working with \"Largish\" Data"
   ]
  },
  {
   "cell_type": "markdown",
   "metadata": {},
   "source": [
    "Sample data is Takata airbag warranty claims saved as a .csv file.  It is a modest size of about 2.7GB."
   ]
  },
  {
   "cell_type": "markdown",
   "metadata": {},
   "source": [
    "We will compare 2 workflows:\n",
    "- Using Dask\n",
    "- Using PyArrow/fastparquet"
   ]
  },
  {
   "cell_type": "markdown",
   "metadata": {},
   "source": [
    "### Dask Workflow"
   ]
  },
  {
   "cell_type": "code",
   "execution_count": 1,
   "metadata": {},
   "outputs": [
    {
     "data": {
      "text/html": [
       "<table style=\"border: 2px solid white;\">\n",
       "<tr>\n",
       "<td style=\"vertical-align: top; border: 0px solid white\">\n",
       "<h3>Client</h3>\n",
       "<ul>\n",
       "  <li><b>Scheduler: </b>tcp://127.0.0.1:51122\n",
       "</ul>\n",
       "</td>\n",
       "<td style=\"vertical-align: top; border: 0px solid white\">\n",
       "<h3>Cluster</h3>\n",
       "<ul>\n",
       "  <li><b>Workers: </b>4</li>\n",
       "  <li><b>Cores: </b>4</li>\n",
       "  <li><b>Memory: </b>8.41 GB</li>\n",
       "</ul>\n",
       "</td>\n",
       "</tr>\n",
       "</table>"
      ],
      "text/plain": [
       "<Client: scheduler='tcp://127.0.0.1:51122' processes=4 cores=4>"
      ]
     },
     "execution_count": 1,
     "metadata": {},
     "output_type": "execute_result"
    }
   ],
   "source": [
    "%matplotlib inline\n",
    "import matplotlib.pyplot as plt\n",
    "import numpy as np\n",
    "import pandas as pd\n",
    "import dask.dataframe as dd\n",
    "from dask.distributed import Client\n",
    "\n",
    "client = Client()\n",
    "client"
   ]
  },
  {
   "cell_type": "markdown",
   "metadata": {},
   "source": [
    "### Key thing is to set column types that are str/object to 'category' and float columns to float32"
   ]
  },
  {
   "cell_type": "code",
   "execution_count": 36,
   "metadata": {},
   "outputs": [
    {
     "name": "stdout",
     "output_type": "stream",
     "text": [
      "Wall time: 174 ms\n"
     ]
    }
   ],
   "source": [
    "%%time\n",
    "cols = ['WAR_CLAIM_DATE',\n",
    "        'WAR_DEFECT_CODE',\n",
    "        'VIN_MODEL_YR',\n",
    "        'VIN_FACTORY',\n",
    "        'VIN_MODEL_TYPE',\n",
    "        'WAR_ORIG_DISTR_CDE',\n",
    "        'WAR_RESP_DISTR_CDE',\n",
    "        'WAR_EXCH_RATE_AMT',\n",
    "        'CLAIM_LABOR_HRS_QTY',\n",
    "        'WAR_LABOR_CHG_AMT_USD',\n",
    "        'WAR_PARTS_CHG_AMT_USD',\n",
    "        'WAR_HDLG_CHG_AMT_USD',\n",
    "        'WAR_TOTAL_CHG_AMT_USD',\n",
    "        'PHASE_TYPE',\n",
    "        'PART_COST_25',\n",
    "        'DRIVER_PASSENGER',\n",
    "        'DIR_NUMBER',\n",
    "        'NA_FCTRY_YES_NO',\n",
    "        'PAB_TYPE',\n",
    "        'DAB_TYPE',\n",
    "        'STATE_CODE',\n",
    "        'COUNTRY',\n",
    "        'ZONE_REGION',\n",
    "        'CLAIM_SUBLET_AMT_USD',\n",
    "        'SUBLET_TYPE1_CODE',\n",
    "        'SUBLET_TYPE2_CODE',\n",
    "        'SUBLET_TYPE_DESC',\n",
    "        'SUBLET_YES_NO',\n",
    "        'WRWHA1_LABOR_CHG_AMT_USD',\n",
    "        'FRGT_SUBL_TAX_AMT_USD'\n",
    "       ]\n",
    "\n",
    "data_type = {\n",
    "        'WAR_CLAIM_DATE': np.int32,\n",
    "        'WAR_DEFECT_CODE': 'category',\n",
    "        'VIN_MODEL_YR': 'category',\n",
    "        'VIN_FACTORY': 'category',\n",
    "        'VIN_MODEL_TYPE': 'category',\n",
    "        'WAR_ORIG_DISTR_CDE': 'category',\n",
    "        'WAR_RESP_DISTR_CDE': 'category',\n",
    "        'WAR_EXCH_RATE_AMT': np.float32,\n",
    "        'CLAIM_LABOR_HRS_QTY': np.float32,\n",
    "        'WAR_LABOR_CHG_AMT_USD': np.float32,\n",
    "        'WAR_PARTS_CHG_AMT_USD': np.float32,\n",
    "        'WAR_HDLG_CHG_AMT_USD': np.float32,\n",
    "        'WAR_TOTAL_CHG_AMT_USD': np.float32,\n",
    "        'PHASE_TYPE': 'category',\n",
    "        'PART_COST_25': 'category',\n",
    "        'DRIVER_PASSENGER': 'category',\n",
    "        'DIR_NUMBER': 'category',\n",
    "        'NA_FCTRY_YES_NO': 'category',\n",
    "        'PAB_TYPE': 'category',\n",
    "        'DAB_TYPE': 'category',\n",
    "        'STATE_CODE': 'category',\n",
    "        'COUNTRY': 'category',\n",
    "        'ZONE_REGION': 'category',\n",
    "        'CLAIM_SUBLET_AMT_USD': np.float32,\n",
    "        'SUBLET_TYPE1_CODE': 'category',\n",
    "        'SUBLET_TYPE2_CODE': 'category',\n",
    "        'SUBLET_TYPE_DESC': 'category',\n",
    "        'SUBLET_YES_NO': 'category',\n",
    "        'WRWHA1_LABOR_CHG_AMT_USD': np.float32,\n",
    "        'FRGT_SUBL_TAX_AMT_USD': np.float32\n",
    "    }\n",
    "\n",
    "df = dd.read_csv(r'D:/temp/DAB_PAB_Raw_Claims.csv', dtype=data_type, names=cols)"
   ]
  },
  {
   "cell_type": "markdown",
   "metadata": {},
   "source": [
    "**Number of rows:**"
   ]
  },
  {
   "cell_type": "code",
   "execution_count": null,
   "metadata": {},
   "outputs": [],
   "source": [
    "%%time\n",
    "# Using Python 3.6's new f-string syntax:\n",
    "f\"{df.WAR_CLAIM_DATE.count().compute():,d}\""
   ]
  },
  {
   "cell_type": "code",
   "execution_count": null,
   "metadata": {},
   "outputs": [],
   "source": [
    "%%time\n",
    "df.head()"
   ]
  },
  {
   "cell_type": "markdown",
   "metadata": {},
   "source": [
    "**To sum a single column, it took several seconds:**"
   ]
  },
  {
   "cell_type": "code",
   "execution_count": null,
   "metadata": {},
   "outputs": [],
   "source": [
    "%%time\n",
    "f\"${df['WAR_TOTAL_CHG_AMT_USD'].sum().compute():,.2f}\""
   ]
  },
  {
   "cell_type": "code",
   "execution_count": null,
   "metadata": {},
   "outputs": [],
   "source": [
    "%%time\n",
    "df.groupby(['WAR_CLAIM_DATE'])['WAR_TOTAL_CHG_AMT_USD'].sum().compute()"
   ]
  },
  {
   "cell_type": "markdown",
   "metadata": {},
   "source": [
    "**To just sum a single column using Dask, it took well over one minute.  Now, let's compare how long it would take using fastparquet.**"
   ]
  },
  {
   "cell_type": "markdown",
   "metadata": {},
   "source": [
    "### fastparquet Workflow"
   ]
  },
  {
   "cell_type": "markdown",
   "metadata": {},
   "source": [
    "**Let's create a parquet file from a csv file:**"
   ]
  },
  {
   "cell_type": "code",
   "execution_count": 38,
   "metadata": {},
   "outputs": [
    {
     "name": "stdout",
     "output_type": "stream",
     "text": [
      "Wall time: 2min 10s\n"
     ]
    }
   ],
   "source": [
    "%%time\n",
    "df.to_parquet(r'D:/temp/resultsets/your_parquet.parquet', engine='fastparquet')"
   ]
  },
  {
   "cell_type": "code",
   "execution_count": 39,
   "metadata": {},
   "outputs": [
    {
     "name": "stdout",
     "output_type": "stream",
     "text": [
      "Wall time: 574 ms\n"
     ]
    }
   ],
   "source": [
    "%%time\n",
    "dfp = dd.read_parquet(r'D:/temp/resultsets/your_parquet.parquet', engine='fastparquet')"
   ]
  },
  {
   "cell_type": "code",
   "execution_count": 40,
   "metadata": {},
   "outputs": [
    {
     "name": "stdout",
     "output_type": "stream",
     "text": [
      "Wall time: 0 ns\n"
     ]
    }
   ],
   "source": [
    "%%time\n",
    "columns = ['WAR_CLAIM_DATE', 'WAR_TOTAL_CHG_AMT_USD']\n",
    "dfp_small = dfp[columns]"
   ]
  },
  {
   "cell_type": "code",
   "execution_count": null,
   "metadata": {},
   "outputs": [],
   "source": [
    "%%time\n",
    "dfp.head()"
   ]
  },
  {
   "cell_type": "code",
   "execution_count": 41,
   "metadata": {},
   "outputs": [
    {
     "name": "stdout",
     "output_type": "stream",
     "text": [
      "Wall time: 926 ms\n"
     ]
    },
    {
     "data": {
      "text/plain": [
       "'12,995,412'"
      ]
     },
     "execution_count": 41,
     "metadata": {},
     "output_type": "execute_result"
    }
   ],
   "source": [
    "%%time\n",
    "# Using Python 3.6's new f-string syntax\n",
    "f\"{dfp.WAR_CLAIM_DATE.count().compute():,d}\""
   ]
  },
  {
   "cell_type": "code",
   "execution_count": 42,
   "metadata": {},
   "outputs": [
    {
     "name": "stdout",
     "output_type": "stream",
     "text": [
      "Wall time: 914 ms\n"
     ]
    },
    {
     "data": {
      "text/plain": [
       "'$2,480,279,838.00'"
      ]
     },
     "execution_count": 42,
     "metadata": {},
     "output_type": "execute_result"
    }
   ],
   "source": [
    "%%time\n",
    "# using Python 3.6's new f-string syntax:\n",
    "f\"${dfp['WAR_TOTAL_CHG_AMT_USD'].sum().compute():,.2f}\""
   ]
  },
  {
   "cell_type": "code",
   "execution_count": 43,
   "metadata": {},
   "outputs": [
    {
     "name": "stdout",
     "output_type": "stream",
     "text": [
      "Wall time: 37.6 s\n"
     ]
    }
   ],
   "source": [
    "%%time\n",
    "by_month = dfp.groupby(['WAR_CLAIM_DATE'])['WAR_TOTAL_CHG_AMT_USD'].sum().compute()"
   ]
  },
  {
   "cell_type": "code",
   "execution_count": 44,
   "metadata": {},
   "outputs": [
    {
     "name": "stdout",
     "output_type": "stream",
     "text": [
      "Wall time: 1.41 s\n"
     ]
    }
   ],
   "source": [
    "%%time\n",
    "by_month = dfp_small.groupby(['WAR_CLAIM_DATE'])['WAR_TOTAL_CHG_AMT_USD'].sum().compute()"
   ]
  },
  {
   "cell_type": "code",
   "execution_count": 45,
   "metadata": {},
   "outputs": [
    {
     "data": {
      "text/plain": [
       "pandas.core.series.Series"
      ]
     },
     "execution_count": 45,
     "metadata": {},
     "output_type": "execute_result"
    }
   ],
   "source": [
    "type(by_month)"
   ]
  },
  {
   "cell_type": "code",
   "execution_count": 47,
   "metadata": {},
   "outputs": [
    {
     "data": {
      "text/plain": [
       "WAR_CLAIM_DATE\n",
       "201305    7.895664e+05\n",
       "201306    2.257152e+06\n",
       "201307    3.368052e+06\n",
       "201308    3.492060e+06\n",
       "201309    2.014542e+06\n",
       "201310    1.531619e+06\n",
       "201311    8.834418e+05\n",
       "201312    5.389633e+05\n",
       "201401    6.034210e+05\n",
       "201402    5.065931e+05\n",
       "201403    1.849185e+06\n",
       "201404    1.493198e+06\n",
       "201405    1.570239e+06\n",
       "201406    8.470175e+05\n",
       "201407    7.537021e+05\n",
       "201408    5.231740e+05\n",
       "201409    4.965402e+05\n",
       "201410    4.665207e+06\n",
       "201411    1.325425e+07\n",
       "201412    1.182552e+07\n",
       "201501    1.790833e+07\n",
       "201502    2.012610e+07\n",
       "201503    2.202876e+07\n",
       "201504    1.610096e+07\n",
       "201505    2.116119e+07\n",
       "201506    2.887182e+07\n",
       "201507    3.385428e+07\n",
       "201508    5.363078e+07\n",
       "201509    5.261371e+07\n",
       "201510    6.892387e+07\n",
       "              ...     \n",
       "201602    3.601441e+07\n",
       "201603    3.382234e+07\n",
       "201604    3.099104e+07\n",
       "201605    5.342426e+07\n",
       "201606    8.286446e+07\n",
       "201607    1.323276e+08\n",
       "201608    1.427654e+08\n",
       "201609    9.548415e+07\n",
       "201610    7.201139e+07\n",
       "201611    5.887956e+07\n",
       "201612    4.083557e+07\n",
       "201701    4.272939e+07\n",
       "201702    3.918568e+07\n",
       "201703    5.853370e+07\n",
       "201704    1.306448e+08\n",
       "201705    1.523887e+08\n",
       "201706    9.730205e+07\n",
       "201707    7.675247e+07\n",
       "201708    9.644651e+07\n",
       "201709    9.457131e+07\n",
       "201710    7.944783e+07\n",
       "201711    4.682712e+07\n",
       "201712    3.920772e+07\n",
       "201801    3.968945e+07\n",
       "201802    2.892358e+07\n",
       "201803    2.456117e+07\n",
       "201804    2.303980e+07\n",
       "201805    3.338241e+07\n",
       "201806    2.369254e+07\n",
       "201807    2.106997e+07\n",
       "Name: WAR_TOTAL_CHG_AMT_USD, Length: 63, dtype: float32"
      ]
     },
     "execution_count": 47,
     "metadata": {},
     "output_type": "execute_result"
    }
   ],
   "source": [
    "by_month.sort_index()"
   ]
  },
  {
   "cell_type": "code",
   "execution_count": 48,
   "metadata": {},
   "outputs": [
    {
     "data": {
      "image/png": "[encoded data removed]",
      "text/plain": [
       "<matplotlib.figure.Figure at 0x16141a20>"
      ]
     },
     "metadata": {},
     "output_type": "display_data"
    }
   ],
   "source": [
    "import matplotlib.pyplot as plt\n",
    "import seaborn as sns\n",
    "from matplotlib.ticker import FuncFormatter\n",
    "\n",
    "fig = plt.figure(figsize=(14,8))\n",
    "ax = plt.subplot(1,1,1)\n",
    "ax.yaxis.set_major_formatter(FuncFormatter('${:,.0f}'.format))\n",
    "plt.xticks(rotation=270, fontsize=8)\n",
    "by_month.sort_index().plot.bar(ax=ax, color='b', alpha=0.4)\n",
    "sns.despine()"
   ]
  }
 ],
 "metadata": {
  "hide_input": false,
  "kernelspec": {
   "display_name": "Python 3",
   "language": "python",
   "name": "python3"
  },
  "language_info": {
   "codemirror_mode": {
    "name": "ipython",
    "version": 3
   },
   "file_extension": ".py",
   "mimetype": "text/x-python",
   "name": "python",
   "nbconvert_exporter": "python",
   "pygments_lexer": "ipython3",
   "version": "3.7.2"
  },
  "toc": {
   "base_numbering": 1,
   "nav_menu": {},
   "number_sections": false,
   "sideBar": false,
   "skip_h1_title": false,
   "title_cell": "Table of Contents",
   "title_sidebar": "Contents",
   "toc_cell": false,
   "toc_position": {},
   "toc_section_display": false,
   "toc_window_display": false
  },
  "varInspector": {
   "cols": {
    "lenName": 16,
    "lenType": 16,
    "lenVar": 40
   },
   "kernels_config": {
    "python": {
     "delete_cmd_postfix": "",
     "delete_cmd_prefix": "del ",
     "library": "var_list.py",
     "varRefreshCmd": "print(var_dic_list())"
    },
    "r": {
     "delete_cmd_postfix": ") ",
     "delete_cmd_prefix": "rm(",
     "library": "var_list.r",
     "varRefreshCmd": "cat(var_dic_list()) "
    }
   },
   "types_to_exclude": [
    "module",
    "function",
    "builtin_function_or_method",
    "instance",
    "_Feature"
   ],
   "window_display": false
  }
 },
 "nbformat": 4,
 "nbformat_minor": 2
}
