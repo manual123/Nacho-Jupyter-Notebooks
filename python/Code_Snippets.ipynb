{
 "cells": [
  {
   "cell_type": "markdown",
   "metadata": {},
   "source": [
    "<a id=\"top\">"
   ]
  },
  {
   "cell_type": "markdown",
   "metadata": {},
   "source": [
    "<center><h1>Python Code Snippets</h1></center>"
   ]
  },
  {
   "cell_type": "markdown",
   "metadata": {},
   "source": [
    "## Table of Contents"
   ]
  },
  {
   "cell_type": "markdown",
   "metadata": {},
   "source": [
    "- [Working with dates](#dates)\n",
    "    - getting current date\n",
    "    - creating a date from integers in UTC\n",
    "    - creating a date from UTC time zone to Easter time zone\n",
    "    - finding differnce between dates\n",
    "    - adding to a date\n",
    "    - formatting a date\n",
    "    - creating a date from a string or parsing a string as a date\n",
    "- [Cycle through line markers when plotting](#cycle)\n",
    "- [Reading files](#files)\n",
    "- [Printing out environment variables](#env_var)\n",
    "- [Printing out OS platform and pip installed packages](#os)\n",
    "- [Sorting a dictionary](#dict)\n",
    "- [Unboxing a list of tuples](#unboxing)\n",
    "- [Creating a list of files or sub-folders in a specific path](#scandir)\n",
    "- [Printing on the same line](#print)\n",
    "- [Getting user input, but masking/hiding their values](#input)\n",
    "- [Simple timer](#timer)\n",
    "- [Debugging using ipbd](#pdb)"
   ]
  },
  {
   "cell_type": "markdown",
   "metadata": {},
   "source": [
    "<a id=\"dates\"></a>"
   ]
  },
  {
   "cell_type": "markdown",
   "metadata": {},
   "source": [
    "### Working With Dates"
   ]
  },
  {
   "cell_type": "markdown",
   "metadata": {},
   "source": [
    "[[back to top](#top)]"
   ]
  },
  {
   "cell_type": "markdown",
   "metadata": {},
   "source": [
    "When working with dates and time zone, it is recommended that you install a package called [pytz](http://pytz.sourceforge.net/).\n",
    "It is also recommended that you work initally in [UTC time zone](http://www.timeanddate.com/time/map/) and then convert to whatever time zone you need in the final output."
   ]
  },
  {
   "cell_type": "code",
   "execution_count": 1,
   "metadata": {
    "collapsed": true
   },
   "outputs": [],
   "source": [
    "from datetime import datetime\n",
    "import pytz\n",
    "from pytz import timezone"
   ]
  },
  {
   "cell_type": "markdown",
   "metadata": {},
   "source": [
    "#### Getting current date in UTC"
   ]
  },
  {
   "cell_type": "code",
   "execution_count": 2,
   "metadata": {
    "collapsed": false
   },
   "outputs": [
    {
     "data": {
      "text/plain": [
       "datetime.datetime(2015, 11, 1, 22, 27, 45, 765213, tzinfo=<UTC>)"
      ]
     },
     "execution_count": 2,
     "metadata": {},
     "output_type": "execute_result"
    }
   ],
   "source": [
    "mydate_with_time_utc = datetime.now(pytz.UTC)\n",
    "mydate_with_time_utc"
   ]
  },
  {
   "cell_type": "markdown",
   "metadata": {},
   "source": [
    "#### Creating a date from arbitrary integers in UTC"
   ]
  },
  {
   "cell_type": "code",
   "execution_count": 4,
   "metadata": {
    "collapsed": false
   },
   "outputs": [
    {
     "data": {
      "text/plain": [
       "datetime.datetime(2014, 11, 28, 12, 30, tzinfo=<UTC>)"
      ]
     },
     "execution_count": 4,
     "metadata": {},
     "output_type": "execute_result"
    }
   ],
   "source": [
    "mydate_utc = datetime(2014,11,28,12,30,0,0,pytz.UTC)\n",
    "mydate_utc"
   ]
  },
  {
   "cell_type": "markdown",
   "metadata": {},
   "source": [
    "#### Creating a date from a UTC time zone to Eastern time zone"
   ]
  },
  {
   "cell_type": "code",
   "execution_count": 5,
   "metadata": {
    "collapsed": false
   },
   "outputs": [
    {
     "data": {
      "text/plain": [
       "datetime.datetime(2014, 11, 28, 7, 30, tzinfo=<DstTzInfo 'US/Eastern' EST-1 day, 19:00:00 STD>)"
      ]
     },
     "execution_count": 5,
     "metadata": {},
     "output_type": "execute_result"
    }
   ],
   "source": [
    "eastern = timezone('US/Eastern')\n",
    "mydate_as_edt = mydate_utc.astimezone(eastern)\n",
    "mydate_as_edt"
   ]
  },
  {
   "cell_type": "markdown",
   "metadata": {},
   "source": [
    "#### Finding Difference Between Dates"
   ]
  },
  {
   "cell_type": "code",
   "execution_count": 6,
   "metadata": {
    "collapsed": false
   },
   "outputs": [
    {
     "name": "stdout",
     "output_type": "stream",
     "text": [
      "Difference between these 2 dates in days is: -319 days\n",
      "and the number of seconds left over is: 66301 seconds\n"
     ]
    }
   ],
   "source": [
    "from datetime import datetime\n",
    "from datetime import timedelta\n",
    "\n",
    "date_now = datetime.now()\n",
    "some_date = datetime(2014,12,18,12,0,0,0)\n",
    "date_diff = some_date - date_now\n",
    "\n",
    "print('Difference between these 2 dates in days is:', date_diff.days, 'days')\n",
    "print('and the number of seconds left over is:', date_diff.seconds, 'seconds')"
   ]
  },
  {
   "cell_type": "markdown",
   "metadata": {},
   "source": [
    "#### Adding to a date"
   ]
  },
  {
   "cell_type": "markdown",
   "metadata": {},
   "source": [
    "Let's add 100 days from the current date:"
   ]
  },
  {
   "cell_type": "code",
   "execution_count": 7,
   "metadata": {
    "collapsed": false
   },
   "outputs": [
    {
     "data": {
      "text/plain": [
       "datetime.datetime(2016, 2, 9, 17, 37, 51, 287331)"
      ]
     },
     "execution_count": 7,
     "metadata": {},
     "output_type": "execute_result"
    }
   ],
   "source": [
    "new_date = datetime.now() + timedelta(days=100)\n",
    "new_date"
   ]
  },
  {
   "cell_type": "markdown",
   "metadata": {},
   "source": [
    "#### Formatting a date"
   ]
  },
  {
   "cell_type": "code",
   "execution_count": 8,
   "metadata": {
    "collapsed": false
   },
   "outputs": [
    {
     "data": {
      "text/plain": [
       "'02/09/2016'"
      ]
     },
     "execution_count": 8,
     "metadata": {},
     "output_type": "execute_result"
    }
   ],
   "source": [
    "new_date.strftime('%m/%d/%Y')"
   ]
  },
  {
   "cell_type": "markdown",
   "metadata": {},
   "source": [
    "#### Creating a date from a string or parsing a string as a date:"
   ]
  },
  {
   "cell_type": "code",
   "execution_count": 9,
   "metadata": {
    "collapsed": false
   },
   "outputs": [
    {
     "data": {
      "text/plain": [
       "datetime.datetime(1990, 7, 4, 16, 30)"
      ]
     },
     "execution_count": 9,
     "metadata": {},
     "output_type": "execute_result"
    }
   ],
   "source": [
    "dt = datetime.strptime(\"07/04/1990 16:30\", \"%m/%d/%Y %H:%M\")\n",
    "dt"
   ]
  },
  {
   "cell_type": "markdown",
   "metadata": {},
   "source": [
    "**See bottom of this [page](https://docs.python.org/3/library/datetime.html) for a more complete list of formatting options.**"
   ]
  },
  {
   "cell_type": "markdown",
   "metadata": {},
   "source": [
    "<a id=\"cycle\"></a>"
   ]
  },
  {
   "cell_type": "markdown",
   "metadata": {},
   "source": [
    "## Cycle through line markers when plotting"
   ]
  },
  {
   "cell_type": "markdown",
   "metadata": {},
   "source": [
    "[[back to top](#top)]"
   ]
  },
  {
   "cell_type": "code",
   "execution_count": 10,
   "metadata": {
    "collapsed": false
   },
   "outputs": [
    {
     "data": {
      "image/png": "[encoded data removed]",
      "text/plain": [
       "<matplotlib.figure.Figure at 0x7f8e001b92b0>"
      ]
     },
     "metadata": {},
     "output_type": "display_data"
    }
   ],
   "source": [
    "%matplotlib inline\n",
    "import matplotlib.pyplot as plt\n",
    "from itertools import cycle\n",
    "lines = [\"-\",\"--\",\"-.\",\":\"]\n",
    "linecycler = cycle(lines)\n",
    "plt.figure()\n",
    "for i in range(10):\n",
    "    x = range(i,i+10)\n",
    "    plt.plot(range(10),x,next(linecycler))\n",
    "plt.show()"
   ]
  },
  {
   "cell_type": "markdown",
   "metadata": {},
   "source": [
    "<a id=\"files\"></a>"
   ]
  },
  {
   "cell_type": "markdown",
   "metadata": {},
   "source": [
    "## Reading files"
   ]
  },
  {
   "cell_type": "markdown",
   "metadata": {},
   "source": [
    "[[back to top](#top)]"
   ]
  },
  {
   "cell_type": "code",
   "execution_count": null,
   "metadata": {
    "collapsed": true
   },
   "outputs": [],
   "source": [
    "input_file = open('path_to_input_file')\n",
    "output_file = open('path_to_output_file','w')\n",
    "\n",
    "for line in input_file:\n",
    "    line = line.strip()+'MARKER'\n",
    "    output_file.write(line)\n",
    "\n",
    "input_file.close()\n",
    "output_file.close()\n",
    "\n",
    "# Alternate method (useful if you need to treat the 1st line differently than the rest of the lines):\n",
    "# Read the 1st row\n",
    "first_row = input_file.readline().strip()\n",
    "\n",
    "# Read the rest of the rows:\n",
    "while input_file:\n",
    "    line = input_file.readline().strip()\n",
    "    if line == \"\":\n",
    "        break\n",
    "    else:\n",
    "        # Do something...\n",
    "\n",
    "input_file.close()\n",
    "output_file.close()\n",
    "\n",
    "# Another method:\n",
    "with open(...) as f:\n",
    "    for line in f:\n",
    "        <do something with line>\n",
    "\n",
    "# if you need to read just the first 5 rows of the text:\n",
    "fp = open(r'path_to_your_file')\n",
    "row_list = []\n",
    "for i, line in enumerate(fp):\n",
    "    if i < 5:\n",
    "        row_list.append(line)\n",
    "    else:\n",
    "        break\n",
    "fp.close()"
   ]
  },
  {
   "cell_type": "markdown",
   "metadata": {},
   "source": [
    "<a id=\"env_var\">"
   ]
  },
  {
   "cell_type": "markdown",
   "metadata": {},
   "source": [
    "## Printing out environment variables"
   ]
  },
  {
   "cell_type": "markdown",
   "metadata": {},
   "source": [
    "[[back to top](#top)]"
   ]
  },
  {
   "cell_type": "code",
   "execution_count": null,
   "metadata": {
    "collapsed": true
   },
   "outputs": [],
   "source": [
    "import os\n",
    "\n",
    "for key in os.environ.keys():\n",
    "    print(key+': '+os.environ[key])"
   ]
  },
  {
   "cell_type": "markdown",
   "metadata": {},
   "source": [
    "<a id=\"os\">"
   ]
  },
  {
   "cell_type": "markdown",
   "metadata": {},
   "source": [
    "## Printing out OS platform and pip installed packages"
   ]
  },
  {
   "cell_type": "markdown",
   "metadata": {},
   "source": [
    "[[back to top](#top)]"
   ]
  },
  {
   "cell_type": "code",
   "execution_count": null,
   "metadata": {
    "collapsed": true
   },
   "outputs": [],
   "source": [
    "import platform\n",
    "import pip\n",
    "\n",
    "print(platform.platform())\n",
    "modules = pip.get_installed_distributions()\n",
    "for m in modules:\n",
    "    print(m)"
   ]
  },
  {
   "cell_type": "code",
   "execution_count": 13,
   "metadata": {
    "collapsed": false
   },
   "outputs": [
    {
     "name": "stdout",
     "output_type": "stream",
     "text": [
      "Dick 4\n",
      "Bill 3\n",
      "Alex 2\n",
      "John 1\n"
     ]
    }
   ],
   "source": [
    "myhash = {1:'John', 4:'Dick', 3:'Bill', 2:'Alex'}\n",
    "\n",
    "for score in sorted(myhash.keys(), reverse=True):\n",
    "    print(myhash[score] + ' ' + str(score))"
   ]
  },
  {
   "cell_type": "markdown",
   "metadata": {},
   "source": [
    "<a id=\"dict\">"
   ]
  },
  {
   "cell_type": "markdown",
   "metadata": {},
   "source": [
    "## Sorting a dictionary"
   ]
  },
  {
   "cell_type": "markdown",
   "metadata": {},
   "source": [
    "[[back to top](#top)]"
   ]
  },
  {
   "cell_type": "markdown",
   "metadata": {},
   "source": [
    "#### By value, but returns a list of tuples"
   ]
  },
  {
   "cell_type": "code",
   "execution_count": 15,
   "metadata": {
    "collapsed": false
   },
   "outputs": [
    {
     "data": {
      "text/plain": [
       "[('d', 1), ('a', 2), ('c', 3), ('b', 4)]"
      ]
     },
     "execution_count": 15,
     "metadata": {},
     "output_type": "execute_result"
    }
   ],
   "source": [
    "mydict = {'a':2,'b':4,'c':3,'d':1}\n",
    "my_list_of_tuples = sorted(mydict.items(), key=lambda x: x[1])\n",
    "my_list_of_tuples"
   ]
  },
  {
   "cell_type": "code",
   "execution_count": 16,
   "metadata": {
    "collapsed": false
   },
   "outputs": [
    {
     "data": {
      "text/plain": [
       "[('b', 4), ('c', 3), ('a', 2), ('d', 1)]"
      ]
     },
     "execution_count": 16,
     "metadata": {},
     "output_type": "execute_result"
    }
   ],
   "source": [
    "my_list_of_tuples = sorted(mydict.items(), key=lambda x: x[1], reverse=True) \n",
    "my_list_of_tuples"
   ]
  },
  {
   "cell_type": "markdown",
   "metadata": {},
   "source": [
    "**Much faster with itemgetter?**"
   ]
  },
  {
   "cell_type": "code",
   "execution_count": 18,
   "metadata": {
    "collapsed": false
   },
   "outputs": [
    {
     "data": {
      "text/plain": [
       "[('d', 1), ('a', 2), ('c', 3), ('b', 4)]"
      ]
     },
     "execution_count": 18,
     "metadata": {},
     "output_type": "execute_result"
    }
   ],
   "source": [
    "from operator import itemgetter\n",
    "sorted(mydict.items(), key=itemgetter(1))\n",
    "# sorted(mydict.items(), key=itemgetter(1), reverse=True)"
   ]
  },
  {
   "cell_type": "markdown",
   "metadata": {},
   "source": [
    "#### Sorting a dictionary by key"
   ]
  },
  {
   "cell_type": "code",
   "execution_count": null,
   "metadata": {
    "collapsed": true
   },
   "outputs": [],
   "source": [
    "sorted(mydict.items(), key=lambda x: x[0])\n",
    "sorted(mydict.items(), key=lambda x: x[0], reverse=True)\n",
    "# Faster using C code:\n",
    "sorted(mydict.items(), key=itemgetter(0))\n",
    "sorted(mydict.items(), key=itemgetter(0), reverse=True)"
   ]
  },
  {
   "cell_type": "markdown",
   "metadata": {},
   "source": [
    "#### Using OrderedDict from collections class"
   ]
  },
  {
   "cell_type": "code",
   "execution_count": 20,
   "metadata": {
    "collapsed": false
   },
   "outputs": [
    {
     "data": {
      "text/plain": [
       "OrderedDict([('apple', 4), ('banana', 3), ('orange', 2), ('pear', 1)])"
      ]
     },
     "execution_count": 20,
     "metadata": {},
     "output_type": "execute_result"
    }
   ],
   "source": [
    "from collections import OrderedDict\n",
    "\n",
    "d = {'banana': 3, 'apple':4, 'pear': 1, 'orange': 2}\n",
    "OD = OrderedDict(sorted(d.items(), key=lambda t: t[1])) # Sort by value or\n",
    "OD = OrderedDict(sorted(d.items(), key=lambda t: t[0])) # Sorty by key\n",
    "OD"
   ]
  },
  {
   "cell_type": "markdown",
   "metadata": {},
   "source": [
    "<a id=\"unboxing\">"
   ]
  },
  {
   "cell_type": "markdown",
   "metadata": {},
   "source": [
    "## To \"unbox\" the list of tuple values into 2 lists (one list containing the keys, another containing values)"
   ]
  },
  {
   "cell_type": "markdown",
   "metadata": {},
   "source": [
    "[[back to top](#top)]"
   ]
  },
  {
   "cell_type": "code",
   "execution_count": 21,
   "metadata": {
    "collapsed": true
   },
   "outputs": [],
   "source": [
    "key_list = []\n",
    "value_list = []\n",
    "\n",
    "for key, value in my_list_of_tuples:\n",
    "    key_list.append(key)\n",
    "    value_list.append(value)\n"
   ]
  },
  {
   "cell_type": "code",
   "execution_count": 22,
   "metadata": {
    "collapsed": false
   },
   "outputs": [
    {
     "data": {
      "text/plain": [
       "['b', 'c', 'a', 'd']"
      ]
     },
     "execution_count": 22,
     "metadata": {},
     "output_type": "execute_result"
    }
   ],
   "source": [
    "key_list"
   ]
  },
  {
   "cell_type": "code",
   "execution_count": 23,
   "metadata": {
    "collapsed": false
   },
   "outputs": [
    {
     "data": {
      "text/plain": [
       "[4, 3, 2, 1]"
      ]
     },
     "execution_count": 23,
     "metadata": {},
     "output_type": "execute_result"
    }
   ],
   "source": [
    "value_list"
   ]
  },
  {
   "cell_type": "markdown",
   "metadata": {},
   "source": [
    "<a id=\"scandir\">"
   ]
  },
  {
   "cell_type": "markdown",
   "metadata": {},
   "source": [
    "## Creating a list of files or sub-folders in a specific path"
   ]
  },
  {
   "cell_type": "markdown",
   "metadata": {},
   "source": [
    "[[back to top](#top)]"
   ]
  },
  {
   "cell_type": "markdown",
   "metadata": {},
   "source": [
    "use [os.scandir()](https://docs.python.org/3/library/os.html#os.scandir) if using Python 3.5+.  Otherwise, use os.walk():"
   ]
  },
  {
   "cell_type": "code",
   "execution_count": null,
   "metadata": {
    "collapsed": true
   },
   "outputs": [],
   "source": [
    "import os\n",
    "\n",
    "for dirname, dirnames, filenames in os.walk('.'):  # Scan current directory\n",
    "    for subdirname in dirnames:\n",
    "        print(os.path.join(dirname, subdirname))\n",
    "    for filename in filenames:\n",
    "        print(os.path.join(dirname, filename))"
   ]
  },
  {
   "cell_type": "markdown",
   "metadata": {},
   "source": [
    "<a id=\"print\">"
   ]
  },
  {
   "cell_type": "markdown",
   "metadata": {},
   "source": [
    "## Printing on the same line"
   ]
  },
  {
   "cell_type": "markdown",
   "metadata": {},
   "source": [
    "[[back to top](#top)]"
   ]
  },
  {
   "cell_type": "code",
   "execution_count": 27,
   "metadata": {
    "collapsed": false
   },
   "outputs": [
    {
     "name": "stdout",
     "output_type": "stream",
     "text": [
      "All your base are belong to us\n",
      "\n",
      "All your base are belong to us\n",
      "\n",
      "All your base are belong to us\n",
      "\n",
      "All your base are belong to us\n",
      "\n",
      "All your base are belong to us\n",
      "\n"
     ]
    }
   ],
   "source": [
    "import time\n",
    "\n",
    "message = 'All your base are belong to us'\n",
    "\n",
    "for i in range(5):\n",
    "    for i in range(1,len(message)+1):\n",
    "        print('\\r'+message[:i],end='')\n",
    "        time.sleep(0.05)\n",
    "    print('\\n')"
   ]
  },
  {
   "cell_type": "code",
   "execution_count": 41,
   "metadata": {
    "collapsed": false
   },
   "outputs": [
    {
     "name": "stdout",
     "output_type": "stream",
     "text": [
      "Total number of files in the file list is: 5600\n",
      "100.0% complete, file: 5600 of 5600"
     ]
    }
   ],
   "source": [
    "import os\n",
    "import time\n",
    "\n",
    "file_list = []\n",
    "\n",
    "for path, dir, files in os.walk('/usr/lib/python2.7'):\n",
    "    for file in files:\n",
    "        file_list.append(os.path.join(path,file))\n",
    "\n",
    "print(\"Total number of files in the file list is: \" + str(len(file_list)))\n",
    "\n",
    "i = 1\n",
    "for file in file_list:\n",
    "    time.sleep(0.001)\n",
    "    # print \"\\r%.1f%% complete\" % round((Decimal(i) / Decimal(len(file_list))*100),1),\n",
    "    print(\"\\r%.1f%% complete,\" % (i / len(file_list)*100), \"file: \" + str(i), \"of \" + str(len(file_list)), end='')\n",
    "    i = i + 1\n",
    "    \n",
    "#print('\\r'+your_string,end='')"
   ]
  },
  {
   "cell_type": "markdown",
   "metadata": {},
   "source": [
    "<a id=\"input\">"
   ]
  },
  {
   "cell_type": "markdown",
   "metadata": {},
   "source": [
    "## Getting user input, but masking/hiding their values"
   ]
  },
  {
   "cell_type": "markdown",
   "metadata": {},
   "source": [
    "[[back to top](#top)]"
   ]
  },
  {
   "cell_type": "code",
   "execution_count": 42,
   "metadata": {
    "collapsed": false
   },
   "outputs": [
    {
     "name": "stdout",
     "output_type": "stream",
     "text": [
      "Enter user ID: ········\n",
      "Enter password: ········\n",
      "user id:  yomama\n",
      "password:  password\n"
     ]
    }
   ],
   "source": [
    "from getpass import getpass\n",
    "\n",
    "userid = getpass(prompt='Enter user ID: ')\n",
    "pw     = getpass(prompt='Enter password: ')\n",
    "\n",
    "print('user id: ', userid)\n",
    "print('password: ', pw)"
   ]
  },
  {
   "cell_type": "markdown",
   "metadata": {},
   "source": [
    "<a id=\"timer\">"
   ]
  },
  {
   "cell_type": "markdown",
   "metadata": {},
   "source": [
    "## Simple timer"
   ]
  },
  {
   "cell_type": "markdown",
   "metadata": {},
   "source": [
    "[[back to top](#top)]"
   ]
  },
  {
   "cell_type": "code",
   "execution_count": null,
   "metadata": {
    "collapsed": true
   },
   "outputs": [],
   "source": [
    "import time\n",
    "\n",
    "start_time = time.clock()\n",
    "\n",
    "f = open('path_to_text_file', 'r')\n",
    "\n",
    "for line in f:\n",
    "     print line\n",
    "\n",
    "duration = time.clock() - start_time\n",
    "\n",
    "print(duration)"
   ]
  },
  {
   "cell_type": "markdown",
   "metadata": {},
   "source": [
    "<a id=\"pdb\">"
   ]
  },
  {
   "cell_type": "markdown",
   "metadata": {},
   "source": [
    "## Debugging using ipdb"
   ]
  },
  {
   "cell_type": "markdown",
   "metadata": {},
   "source": [
    "[[back to top](#top)]"
   ]
  },
  {
   "cell_type": "code",
   "execution_count": null,
   "metadata": {
    "collapsed": true
   },
   "outputs": [],
   "source": [
    "import ipdb; ipdb.set_trace()"
   ]
  }
 ],
 "metadata": {
  "kernelspec": {
   "display_name": "Python 3",
   "language": "python",
   "name": "python3"
  },
  "language_info": {
   "codemirror_mode": {
    "name": "ipython",
    "version": 3
   },
   "file_extension": ".py",
   "mimetype": "text/x-python",
   "name": "python",
   "nbconvert_exporter": "python",
   "pygments_lexer": "ipython3",
   "version": "3.4.3"
  }
 },
 "nbformat": 4,
 "nbformat_minor": 0
}
