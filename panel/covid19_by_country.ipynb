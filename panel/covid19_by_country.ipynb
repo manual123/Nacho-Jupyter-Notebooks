{
 "cells": [
  {
   "cell_type": "code",
   "execution_count": null,
   "metadata": {},
   "outputs": [],
   "source": [
    "from datetime import date\n",
    "from datetime import datetime\n",
    "from datetime import timedelta\n",
    "from typing import TypeVar, List\n",
    "import hvplot.pandas\n",
    "import pandas as pd\n",
    "import panel as pn\n",
    "pd.options.display.max_columns=500\n",
    "# These are related to optional type annotations\n",
    "DataFrame = TypeVar('pd.core.frame.DataFrame')\n",
    "Date = TypeVar('datetime.date')\n",
    "DatePicker = TypeVar('panel.widgets.input.DatePicker')\n",
    "DateTimeIndex = TypeVar('pd.core.indexes.datetimes.DatetimeIndex')\n",
    "Panel = TypeVar('pn.layout.Row')\n",
    "MultiChoice = TypeVar('panel.widgets.select.MultiChoice')\n",
    "RangeIndex = TypeVar('pandas.core.indexes.range.RangeIndex')\n",
    "Select = TypeVar('panel.widgets.select.Select')"
   ]
  },
  {
   "cell_type": "code",
   "execution_count": null,
   "metadata": {},
   "outputs": [],
   "source": [
    "df_countries: DataFrame = (df.drop(columns=['Province/State', 'Lat', 'Long'])\n",
    "                               .groupby('Country/Region').agg('sum')\n",
    "                               .sort_values(by=df.columns[-1], ascending=False)\n",
    "                               .transpose()\n",
    "                              )"
   ]
  },
  {
   "cell_type": "code",
   "execution_count": 2,
   "metadata": {},
   "outputs": [],
   "source": [
    "url: str = 'https://raw.githubusercontent.com/CSSEGISandData/COVID-19/master/csse_covid_19_data/csse_covid_19_time_series/time_series_covid19_confirmed_global.csv'\n",
    "df: DataFrame = pd.read_csv(url)"
   ]
  },
  {
   "cell_type": "code",
   "execution_count": 3,
   "metadata": {},
   "outputs": [],
   "source": [
    "# Create input widgets: date widget and 2 selection widgets\n",
    "# There is bug in the date widget in version 0.9.3: https://github.com/holoviz/panel/issues/1173\n",
    "# Manually fixed the bug by modifying input.py source file\n",
    "# Make default date yesterday (today minus 1 day) since COVID-19 data is usually 1 day behind\n",
    "countries_list: List[str] = df['Country/Region'].unique().tolist()\n",
    "covid19_date: DatePicker = pn.widgets.DatePicker(name='Date:', value=(date.today() + timedelta(days=-1)))\n",
    "country: MultiChoice = pn.widgets.MultiChoice(name='Country:', value=['US'], options=countries_list)\n",
    "confirmed_deaths = pn.widgets.Select(name='Confirmed Cases or Deaths:', value='Confirmed Cases', options=['Confirmed Cases', 'Deaths'],\n",
    "                                     width=200, css_classes=['grey-theme'])\n",
    "ylog: Select = pn.widgets.Select(name='log-y?', value=False, options=[True, False])"
   ]
  },
  {
   "cell_type": "code",
   "execution_count": 4,
   "metadata": {},
   "outputs": [],
   "source": [
    "@pn.depends(covid19_date.param.value, confirmed_deaths.param.value, country.param.value, ylog.param.value)\n",
    "def covid19TimeSeriesByCountry(covid19_date: Date, confirmed_deaths: str, country: List[str]=['US'], ylog: bool=False) -> Panel:\n",
    "    \"\"\"Function that returns a Panel dashboard displaying confirmed COVID-19 cases\n",
    "    It is using Panel's \"Reactive functions\" API: https://panel.holoviz.org/user_guide/APIs.html\n",
    "    Parameters\n",
    "    ----------\n",
    "    covid19_date : Date\n",
    "        End date of data you wish to obtain up to\n",
    "    country : List[str]\n",
    "        One or more countries for which you would like to obtain data for (default='US')\n",
    "    confirmed_deaths : str\n",
    "        Choose between # of confirmed cases or deaths from Covid-19\n",
    "    ylog: bool\n",
    "        Whether or not to apply log scaling to y-axis.  Default is False\n",
    "    Returns\n",
    "    -------\n",
    "    Panel object\n",
    "    \"\"\"\n",
    "    \n",
    "    iso_date: str = covid19_date.strftime('%Y-%m-%d')\n",
    "\n",
    "    # Source of COVID-19 data\n",
    "    if confirmed_deaths == 'Confirmed Cases':\n",
    "        url: str = 'https://raw.githubusercontent.com/CSSEGISandData/COVID-19/master/csse_covid_19_data/csse_covid_19_time_series/time_series_covid19_confirmed_global.csv'\n",
    "    else:\n",
    "        url: str = 'https://raw.githubusercontent.com/CSSEGISandData/COVID-19/master/csse_covid_19_data/csse_covid_19_time_series/time_series_covid19_deaths_global.csv'\n",
    "\n",
    "    df: DataFrame = pd.read_csv(url)\n",
    "\n",
    "    df_countries: DataFrame = (df.drop(columns=['Province/State', 'Lat', 'Long'])\n",
    "                               .groupby('Country/Region').agg('sum')\n",
    "                               .sort_values(by=df.columns[-1], ascending=False)\n",
    "                               .transpose()\n",
    "                              )\n",
    "\n",
    "    # Make index an actual datetime data type for easier date filtering.\n",
    "    # JHU have not been consistent with their year format (YYYY vs YY).\n",
    "    # Therefore, added try/except clause to account for both formats\n",
    "    try:\n",
    "        df_countries.index: RangeIndex = [datetime.strptime(date, '%m/%d/%y') for date in df_countries.index]\n",
    "    except ValueError as e:\n",
    "        print(\"YY year format not detected.  Using YYYY instead.\", e)\n",
    "        df_countries.index: RangeIndex = [datetime.strptime(date, '%m/%d/%Y') for date in df_countries.index]\n",
    "\n",
    "    # If only one country is selected, then also provide a data table containing counts by date\n",
    "    if len(country) == 1:\n",
    "        panel_app: Panel = pn.Row(df_countries[:iso_date].loc[:, country].hvplot(\n",
    "                               title='COVID-19 ' + confirmed_deaths,\n",
    "                               logy=ylog,\n",
    "                               width=700,\n",
    "                               height=500,\n",
    "                               ylabel='# of ' + confirmed_deaths,\n",
    "                               xlabel='Date',\n",
    "                               legend='bottom',\n",
    "                               yformatter='%d',\n",
    "                               grid=True\n",
    "                              ),\n",
    "                              df_countries[:iso_date].loc[:, country].sort_values(by=df_countries[:iso_date].loc[:, country].columns[0], ascending=False)\n",
    "                                                     .merge(df_countries[:iso_date].loc[:, country].sort_values(by=df_countries[:iso_date]\n",
    "                                                            .loc[:, country].columns[0], ascending=False\n",
    "                                                           )\n",
    "                                                     .diff(), how='inner', left_index=True, right_index=True)\n",
    "                                                     .reset_index()\n",
    "                                                     .rename(columns={'index': 'Date', f'{country[0]}_x': 'Cum. Qty', f'{country[0]}_y': 'Difference'})\n",
    "                                                     .hvplot.table(sortable=True,\n",
    "                                                                   selectable=True,\n",
    "                                                                   width=300,\n",
    "                                                                   height=500\n",
    "                                                                  )  \n",
    "                           )\n",
    "    else:\n",
    "        panel_app: Panel = pn.Row(df_countries[:iso_date].loc[:, country].hvplot(\n",
    "                               title='COVID-19 ' + confirmed_deaths,\n",
    "                               logy=ylog,\n",
    "                               width=700,\n",
    "                               height=500,\n",
    "                               ylabel='# of ' + confirmed_deaths,\n",
    "                               xlabel='Date',\n",
    "                               legend='bottom',\n",
    "                               yformatter='%d',\n",
    "                               grid=True\n",
    "                              )\n",
    "                           )\n",
    "\n",
    "    return panel_app\n",
    "\n",
    "global_app = pn.Column(\n",
    "                       covid19_date,\n",
    "                       country,\n",
    "                       confirmed_deaths,\n",
    "                       ylog,\n",
    "                       covid19TimeSeriesByCountry\n",
    "                      )"
   ]
  },
  {
   "cell_type": "code",
   "execution_count": 5,
   "metadata": {},
   "outputs": [
    {
     "name": "stderr",
     "output_type": "stream",
     "text": [
      "WARNING:param.CurvePlot01584: title_format is deprecated. Please use title instead\n",
      "WARNING:param.CurvePlot01584: title_format is deprecated. Please use title instead\n"
     ]
    },
    {
     "data": {},
     "metadata": {},
     "output_type": "display_data"
    },
    {
     "data": {},
     "metadata": {},
     "output_type": "display_data"
    },
    {
     "data": {
      "application/vnd.holoviews_exec.v0+json": "",
      "text/html": [
       "<div id='1001'>\n",
       "\n",
       "\n",
       "\n",
       "\n",
       "\n",
       "  <div class=\"bk-root\" id=\"c0490157-5bb6-43bd-96db-f8d05ae4b598\" data-root-id=\"1001\"></div>\n",
       "</div>\n",
       "<script type=\"application/javascript\">(function(root) {\n",
       "  function embed_document(root) {\n",
       "  var docs_json = {\"09164143-1a9d-488c-97b0-b784d71679d6\":{\"roots\":{\"references\":[{\"attributes\":{},\"id\":\"1075\",\"type\":\"UnionRenderers\"},{\"attributes\":{\"data_source\":{\"id\":\"1041\"},\"glyph\":{\"id\":\"1044\"},\"hover_glyph\":null,\"muted_glyph\":{\"id\":\"1046\"},\"nonselection_glyph\":{\"id\":\"1045\"},\"selection_glyph\":null,\"view\":{\"id\":\"1048\"}},\"id\":\"1047\",\"type\":\"GlyphRenderer\"},{\"attributes\":{},\"id\":\"1090\",\"type\":\"NumberEditor\"},{\"attributes\":{},\"id\":\"1080\",\"type\":\"DateEditor\"},{\"attributes\":{\"line_color\":\"#1f77b3\",\"line_width\":2,\"x\":{\"field\":\"index\"},\"y\":{\"field\":\"US\"}},\"id\":\"1044\",\"type\":\"Line\"},{\"attributes\":{\"format\":\"%Y-%m-%d %H:%M:%S\"},\"id\":\"1079\",\"type\":\"DateFormatter\"},{\"attributes\":{},\"id\":\"1084\",\"type\":\"NumberFormatter\"},{\"attributes\":{\"callback\":null,\"formatters\":{\"@{index}\":\"datetime\"},\"renderers\":[{\"id\":\"1047\"}],\"tags\":[\"hv_created\"],\"tooltips\":[[\"index\",\"@{index}{%F %T}\"],[\"US\",\"@{US}\"]]},\"id\":\"1010\",\"type\":\"HoverTool\"},{\"attributes\":{\"align\":null,\"below\":[{\"id\":\"1020\"}],\"center\":[{\"id\":\"1023\"},{\"id\":\"1027\"}],\"left\":[{\"id\":\"1024\"}],\"margin\":null,\"min_border_bottom\":10,\"min_border_left\":10,\"min_border_right\":10,\"min_border_top\":10,\"plot_height\":500,\"plot_width\":700,\"renderers\":[{\"id\":\"1047\"}],\"sizing_mode\":\"fixed\",\"title\":{\"id\":\"1012\"},\"toolbar\":{\"id\":\"1034\"},\"x_range\":{\"id\":\"1008\"},\"x_scale\":{\"id\":\"1016\"},\"y_range\":{\"id\":\"1009\"},\"y_scale\":{\"id\":\"1018\"}},\"id\":\"1011\",\"subtype\":\"Figure\",\"type\":\"Plot\"},{\"attributes\":{\"editor\":{\"id\":\"1080\"},\"field\":\"Date\",\"formatter\":{\"id\":\"1079\"},\"title\":\"Date\"},\"id\":\"1081\",\"type\":\"TableColumn\"},{\"attributes\":{\"num_minor_ticks\":5,\"tickers\":[{\"id\":\"1062\"},{\"id\":\"1063\"},{\"id\":\"1064\"},{\"id\":\"1065\"},{\"id\":\"1066\"},{\"id\":\"1067\"},{\"id\":\"1068\"},{\"id\":\"1069\"},{\"id\":\"1070\"},{\"id\":\"1071\"},{\"id\":\"1072\"},{\"id\":\"1073\"}]},\"id\":\"1021\",\"type\":\"DatetimeTicker\"},{\"attributes\":{},\"id\":\"1085\",\"type\":\"IntEditor\"},{\"attributes\":{\"months\":[0,4,8]},\"id\":\"1071\",\"type\":\"MonthsTicker\"},{\"attributes\":{\"columns\":[{\"id\":\"1081\"},{\"id\":\"1086\"},{\"id\":\"1091\"}],\"height\":500,\"reorderable\":false,\"source\":{\"id\":\"1077\"},\"view\":{\"id\":\"1095\"},\"width\":300},\"id\":\"1094\",\"type\":\"DataTable\"},{\"attributes\":{\"bottom_units\":\"screen\",\"fill_alpha\":0.5,\"fill_color\":\"lightgrey\",\"left_units\":\"screen\",\"level\":\"overlay\",\"line_alpha\":1.0,\"line_color\":\"black\",\"line_dash\":[4,4],\"line_width\":2,\"render_mode\":\"css\",\"right_units\":\"screen\",\"top_units\":\"screen\"},\"id\":\"1033\",\"type\":\"BoxAnnotation\"},{\"attributes\":{\"source\":{\"id\":\"1077\"}},\"id\":\"1095\",\"type\":\"CDSView\"},{\"attributes\":{\"mantissas\":[1,2,5],\"max_interval\":500.0,\"num_minor_ticks\":0},\"id\":\"1062\",\"type\":\"AdaptiveTicker\"},{\"attributes\":{\"format\":\"0,0.0[00000]\"},\"id\":\"1089\",\"type\":\"NumberFormatter\"},{\"attributes\":{\"end\":1587686400000.0,\"reset_end\":1587686400000.0,\"reset_start\":1579651200000.0,\"start\":1579651200000.0,\"tags\":[[[\"index\",\"index\",null]]]},\"id\":\"1008\",\"type\":\"Range1d\"},{\"attributes\":{\"days\":[1,2,3,4,5,6,7,8,9,10,11,12,13,14,15,16,17,18,19,20,21,22,23,24,25,26,27,28,29,30,31]},\"id\":\"1065\",\"type\":\"DaysTicker\"},{\"attributes\":{\"editor\":{\"id\":\"1085\"},\"field\":\"Cum_full_stop_Qty\",\"formatter\":{\"id\":\"1084\"},\"title\":\"Cum. Qty\"},\"id\":\"1086\",\"type\":\"TableColumn\"},{\"attributes\":{},\"id\":\"1050\",\"type\":\"DatetimeTickFormatter\"},{\"attributes\":{},\"id\":\"1018\",\"type\":\"LinearScale\"},{\"attributes\":{\"editor\":{\"id\":\"1090\"},\"field\":\"Difference\",\"formatter\":{\"id\":\"1089\"},\"title\":\"Difference\"},\"id\":\"1091\",\"type\":\"TableColumn\"},{\"attributes\":{\"format\":\"%d\"},\"id\":\"1049\",\"type\":\"PrintfTickFormatter\"},{\"attributes\":{\"client_comm_id\":\"8c435e69fe004db98d345d7fcea9d549\",\"comm_id\":\"a70dded3e27b410c8d7738cfc82103d5\",\"plot_id\":\"1001\"},\"id\":\"1161\",\"type\":\"panel.models.comm_manager.CommManager\"},{\"attributes\":{\"line_alpha\":0.2,\"line_color\":\"#1f77b3\",\"line_width\":2,\"x\":{\"field\":\"index\"},\"y\":{\"field\":\"US\"}},\"id\":\"1046\",\"type\":\"Line\"},{\"attributes\":{},\"id\":\"1073\",\"type\":\"YearsTicker\"},{\"attributes\":{\"line_alpha\":0.1,\"line_color\":\"#1f77b3\",\"line_width\":2,\"x\":{\"field\":\"index\"},\"y\":{\"field\":\"US\"}},\"id\":\"1045\",\"type\":\"Line\"},{\"attributes\":{\"end\":995893.7,\"reset_end\":995893.7,\"reset_start\":-90534.70000000001,\"start\":-90534.70000000001,\"tags\":[[[\"US\",\"US\",null]]]},\"id\":\"1009\",\"type\":\"Range1d\"},{\"attributes\":{},\"id\":\"1032\",\"type\":\"ResetTool\"},{\"attributes\":{\"data\":{\"Cum_full_stop_Qty\":[905358,869170,840351,811865,784326,758809,732197,699706,667592,636350,607670,580619,555313,526396,496535,462780,428654,397121,366317,336802,308650,275367,243622,213242,188172,161831,140909,121465,101657,83836,65778,53736,43843,33276,25600,19273,13747,7783,6421,4632,3499,2727,2179,1663,1281,959,583,518,402,262,217,149,118,98,74,68,60,58,57,51,51,15,15,15,13,13,13,13,13,13,13,13,12,12,11,11,11,11,11,11,11,11,8,8,7,5,5,5,5,5,2,2,1,1],\"Date\":{\"__ndarray__\":\"AAAAvpcad0IAAEBYRRp3QgAAgPLyGXdCAADAjKAZd0IAAAAnThl3QgAAQMH7GHdCAACAW6kYd0IAAMD1Vhh3QgAAAJAEGHdCAABAKrIXd0IAAIDEXxd3QgAAwF4NF3dCAAAA+boWd0IAAECTaBZ3QgAAgC0WFndCAADAx8MVd0IAAABicRV3QgAAQPweFXdCAACAlswUd0IAAMAwehR3QgAAAMsnFHdCAABAZdUTd0IAAID/ghN3QgAAwJkwE3dCAAAANN4Sd0IAAEDOixJ3QgAAgGg5EndCAADAAucRd0IAAACdlBF3QgAAQDdCEXdCAACA0e8Qd0IAAMBrnRB3QgAAAAZLEHdCAABAoPgPd0IAAIA6pg93QgAAwNRTD3dCAAAAbwEPd0IAAEAJrw53QgAAgKNcDndCAADAPQoOd0IAAADYtw13QgAAQHJlDXdCAACADBMNd0IAAMCmwAx3QgAAAEFuDHdCAABA2xsMd0IAAIB1yQt3QgAAwA93C3dCAAAAqiQLd0IAAEBE0gp3QgAAgN5/CndCAADAeC0Kd0IAAAAT2wl3QgAAQK2ICXdCAACARzYJd0IAAMDh4wh3QgAAAHyRCHdCAABAFj8Id0IAAICw7Ad3QgAAwEqaB3dCAAAA5UcHd0IAAEB/9QZ3QgAAgBmjBndCAADAs1AGd0IAAMAcBwV3QgAAwIW9A3dCAACA6w8Ed0IAAEBRYgR3QgAAALe0BHdCAABA6KsFd0IAAABO/gV3QgAAgIJZBXdCAAAAIGsDd0IAAEC6GAN3QgAAwFcqAXdCAABAI88Bd0IAAECMhQB3QgAAAPLXAHdCAACAvXwBd0IAAACJIQJ3QgAAwO5zAndCAACAVMYCd0IAAIAmMwB3QgAAwMDg/3ZCAAAAW47/dkIAAEBe8v12QgAAQPU7/3ZCAACAj+n+dkIAAMApl/52QgAAAMRE/nZCAADAkk39dkIAAID4n/12QgAAAC37/HZCAABAx6j8dkI=\",\"dtype\":\"float64\",\"shape\":[94]},\"Difference\":{\"__ndarray__\":\"AAAAAAAA+H8AAAAAgKvhwAAAAADAJNzAAAAAAIDR28AAAAAAwOTawAAAAABA69jAAAAAAAD92cAAAAAAwLrfwAAAAACAXN/AAAAAAICC3sAAAAAAAALcwAAAAADAatrAAAAAAIC22MAAAAAAQD3cwAAAAABAKd3AAAAAAGB74MAAAAAAwKngwAAAAABAy97AAAAAAAAV3sAAAAAAwNLcwAAAAAAAftvAAAAAAGBA4MAAAAAAQADfwAAAAAAAq93AAAAAAIB72MAAAAAAQLnZwAAAAACAbtTAAAAAAAD90sAAAAAAAFjTwAAAAABAZ9HAAAAAAICi0cAAAAAAAIXHwAAAAACAUsPAAAAAAICjxMAAAAAAAPy9wAAAAAAAt7jAAAAAAACWtcAAAAAAAEy3wAAAAAAASJXAAAAAAAD0m8AAAAAAALSRwAAAAAAAIIjAAAAAAAAggcAAAAAAACCAwAAAAAAA4HfAAAAAAAAgdMAAAAAAAIB3wAAAAAAAQFDAAAAAAAAAXcAAAAAAAIBhwAAAAAAAgEbAAAAAAAAAUcAAAAAAAAA/wAAAAAAAADTAAAAAAAAAOMAAAAAAAAAYwAAAAAAAACDAAAAAAAAAAMAAAAAAAADwvwAAAAAAABjAAAAAAAAAAAAAAAAAAABCwAAAAAAAAAAAAAAAAAAAAAAAAAAAAAAAwAAAAAAAAAAAAAAAAAAAAAAAAAAAAAAAAAAAAAAAAAAAAAAAAAAAAAAAAAAAAAAAAAAAAAAAAAAAAAAAAAAA8L8AAAAAAAAAAAAAAAAAAPC/AAAAAAAAAAAAAAAAAAAAAAAAAAAAAAAAAAAAAAAAAAAAAAAAAAAAAAAAAAAAAAAAAAAAAAAAAAAAAAAAAAAIwAAAAAAAAAAAAAAAAAAA8L8AAAAAAAAAwAAAAAAAAAAAAAAAAAAAAAAAAAAAAAAAAAAAAAAAAAAAAAAAAAAACMAAAAAAAAAAAAAAAAAAAPC/AAAAAAAAAAA=\",\"dtype\":\"float64\",\"shape\":[94]}},\"selected\":{\"id\":\"1078\"},\"selection_policy\":{\"id\":\"1096\"}},\"id\":\"1077\",\"type\":\"ColumnDataSource\"},{\"attributes\":{\"source\":{\"id\":\"1041\"}},\"id\":\"1048\",\"type\":\"CDSView\"},{\"attributes\":{\"days\":[1,8,15,22]},\"id\":\"1067\",\"type\":\"DaysTicker\"},{\"attributes\":{},\"id\":\"1016\",\"type\":\"LinearScale\"},{\"attributes\":{},\"id\":\"1025\",\"type\":\"BasicTicker\"},{\"attributes\":{\"margin\":[5,10,5,10],\"options\":[\"True\",\"False\"],\"title\":\"log-y?\",\"value\":\"False\"},\"id\":\"1005\",\"type\":\"Select\"},{\"attributes\":{\"axis_label\":\"# of Confirmed Cases\",\"bounds\":\"auto\",\"formatter\":{\"id\":\"1049\"},\"major_label_orientation\":\"horizontal\",\"ticker\":{\"id\":\"1025\"}},\"id\":\"1024\",\"type\":\"LinearAxis\"},{\"attributes\":{\"days\":[1,15]},\"id\":\"1068\",\"type\":\"DaysTicker\"},{\"attributes\":{\"axis\":{\"id\":\"1024\"},\"dimension\":1,\"ticker\":{\"id\":\"1025\"}},\"id\":\"1027\",\"type\":\"Grid\"},{\"attributes\":{},\"id\":\"1030\",\"type\":\"WheelZoomTool\"},{\"attributes\":{\"overlay\":{\"id\":\"1033\"}},\"id\":\"1031\",\"type\":\"BoxZoomTool\"},{\"attributes\":{\"children\":[{\"id\":\"1002\"},{\"id\":\"1003\"},{\"id\":\"1004\"},{\"id\":\"1005\"},{\"id\":\"1006\"}],\"margin\":[0,0,0,0],\"name\":\"Column01560\"},\"id\":\"1001\",\"type\":\"Column\"},{\"attributes\":{\"text\":\"COVID-19 Confirmed Cases\",\"text_color\":{\"value\":\"black\"},\"text_font_size\":{\"value\":\"12pt\"}},\"id\":\"1012\",\"type\":\"Title\"},{\"attributes\":{\"active_drag\":\"auto\",\"active_inspect\":\"auto\",\"active_multi\":null,\"active_scroll\":\"auto\",\"active_tap\":\"auto\",\"tools\":[{\"id\":\"1010\"},{\"id\":\"1028\"},{\"id\":\"1029\"},{\"id\":\"1030\"},{\"id\":\"1031\"},{\"id\":\"1032\"}]},\"id\":\"1034\",\"type\":\"Toolbar\"},{\"attributes\":{\"axis_label\":\"Date\",\"bounds\":\"auto\",\"formatter\":{\"id\":\"1050\"},\"major_label_orientation\":\"horizontal\",\"ticker\":{\"id\":\"1021\"}},\"id\":\"1020\",\"type\":\"DatetimeAxis\"},{\"attributes\":{\"axis\":{\"id\":\"1020\"},\"ticker\":{\"id\":\"1021\"}},\"id\":\"1023\",\"type\":\"Grid\"},{\"attributes\":{\"data\":{\"US\":[1,1,2,2,5,5,5,5,5,7,8,8,11,11,11,11,11,11,11,11,12,12,13,13,13,13,13,13,13,13,15,15,15,51,51,57,58,60,68,74,98,118,149,217,262,402,518,583,959,1281,1663,2179,2727,3499,4632,6421,7783,13747,19273,25600,33276,43843,53736,65778,83836,101657,121465,140909,161831,188172,213242,243622,275367,308650,336802,366317,397121,428654,462780,496535,526396,555313,580619,607670,636350,667592,699706,732197,758809,784326,811865,840351,869170,905358],\"index\":{\"__ndarray__\":\"AABAx6j8dkIAAAAt+/x2QgAAwJJN/XZCAACA+J/9dkIAAEBe8v12QgAAAMRE/nZCAADAKZf+dkIAAICP6f52QgAAQPU7/3ZCAAAAW47/dkIAAMDA4P92QgAAgCYzAHdCAABAjIUAd0IAAADy1wB3QgAAwFcqAXdCAACAvXwBd0IAAEAjzwF3QgAAAIkhAndCAADA7nMCd0IAAIBUxgJ3QgAAQLoYA3dCAAAAIGsDd0IAAMCFvQN3QgAAgOsPBHdCAABAUWIEd0IAAAC3tAR3QgAAwBwHBXdCAACAglkFd0IAAEDoqwV3QgAAAE7+BXdCAADAs1AGd0IAAIAZowZ3QgAAQH/1BndCAAAA5UcHd0IAAMBKmgd3QgAAgLDsB3dCAABAFj8Id0IAAAB8kQh3QgAAwOHjCHdCAACARzYJd0IAAECtiAl3QgAAABPbCXdCAADAeC0Kd0IAAIDefwp3QgAAQETSCndCAAAAqiQLd0IAAMAPdwt3QgAAgHXJC3dCAABA2xsMd0IAAABBbgx3QgAAwKbADHdCAACADBMNd0IAAEByZQ13QgAAANi3DXdCAADAPQoOd0IAAICjXA53QgAAQAmvDndCAAAAbwEPd0IAAMDUUw93QgAAgDqmD3dCAABAoPgPd0IAAAAGSxB3QgAAwGudEHdCAACA0e8Qd0IAAEA3QhF3QgAAAJ2UEXdCAADAAucRd0IAAIBoORJ3QgAAQM6LEndCAAAANN4Sd0IAAMCZMBN3QgAAgP+CE3dCAABAZdUTd0IAAADLJxR3QgAAwDB6FHdCAACAlswUd0IAAED8HhV3QgAAAGJxFXdCAADAx8MVd0IAAIAtFhZ3QgAAQJNoFndCAAAA+boWd0IAAMBeDRd3QgAAgMRfF3dCAABAKrIXd0IAAACQBBh3QgAAwPVWGHdCAACAW6kYd0IAAEDB+xh3QgAAACdOGXdCAADAjKAZd0IAAIDy8hl3QgAAQFhFGndCAAAAvpcad0I=\",\"dtype\":\"float64\",\"shape\":[94]}},\"selected\":{\"id\":\"1042\"},\"selection_policy\":{\"id\":\"1075\"}},\"id\":\"1041\",\"type\":\"ColumnDataSource\"},{\"attributes\":{},\"id\":\"1028\",\"type\":\"SaveTool\"},{\"attributes\":{\"months\":[0,6]},\"id\":\"1072\",\"type\":\"MonthsTicker\"},{\"attributes\":{\"margin\":[5,10,5,10],\"title\":\"Date:\",\"value\":\"2020-04-24\"},\"id\":\"1002\",\"type\":\"DatePicker\"},{\"attributes\":{\"days\":[1,4,7,10,13,16,19,22,25,28]},\"id\":\"1066\",\"type\":\"DaysTicker\"},{\"attributes\":{\"children\":[{\"id\":\"1007\"}],\"margin\":[0,0,0,0],\"name\":\"Row01453\"},\"id\":\"1006\",\"type\":\"Row\"},{\"attributes\":{},\"id\":\"1042\",\"type\":\"Selection\"},{\"attributes\":{\"margin\":[5,10,5,10],\"options\":[\"Afghanistan\",\"Albania\",\"Algeria\",\"Andorra\",\"Angola\",\"Antigua and Barbuda\",\"Argentina\",\"Armenia\",\"Australia\",\"Austria\",\"Azerbaijan\",\"Bahamas\",\"Bahrain\",\"Bangladesh\",\"Barbados\",\"Belarus\",\"Belgium\",\"Benin\",\"Bhutan\",\"Bolivia\",\"Bosnia and Herzegovina\",\"Brazil\",\"Brunei\",\"Bulgaria\",\"Burkina Faso\",\"Cabo Verde\",\"Cambodia\",\"Cameroon\",\"Canada\",\"Central African Republic\",\"Chad\",\"Chile\",\"China\",\"Colombia\",\"Congo (Brazzaville)\",\"Congo (Kinshasa)\",\"Costa Rica\",\"Cote d'Ivoire\",\"Croatia\",\"Diamond Princess\",\"Cuba\",\"Cyprus\",\"Czechia\",\"Denmark\",\"Djibouti\",\"Dominican Republic\",\"Ecuador\",\"Egypt\",\"El Salvador\",\"Equatorial Guinea\",\"Eritrea\",\"Estonia\",\"Eswatini\",\"Ethiopia\",\"Fiji\",\"Finland\",\"France\",\"Gabon\",\"Gambia\",\"Georgia\",\"Germany\",\"Ghana\",\"Greece\",\"Guatemala\",\"Guinea\",\"Guyana\",\"Haiti\",\"Holy See\",\"Honduras\",\"Hungary\",\"Iceland\",\"India\",\"Indonesia\",\"Iran\",\"Iraq\",\"Ireland\",\"Israel\",\"Italy\",\"Jamaica\",\"Japan\",\"Jordan\",\"Kazakhstan\",\"Kenya\",\"Korea, South\",\"Kuwait\",\"Kyrgyzstan\",\"Latvia\",\"Lebanon\",\"Liberia\",\"Liechtenstein\",\"Lithuania\",\"Luxembourg\",\"Madagascar\",\"Malaysia\",\"Maldives\",\"Malta\",\"Mauritania\",\"Mauritius\",\"Mexico\",\"Moldova\",\"Monaco\",\"Mongolia\",\"Montenegro\",\"Morocco\",\"Namibia\",\"Nepal\",\"Netherlands\",\"New Zealand\",\"Nicaragua\",\"Niger\",\"Nigeria\",\"North Macedonia\",\"Norway\",\"Oman\",\"Pakistan\",\"Panama\",\"Papua New Guinea\",\"Paraguay\",\"Peru\",\"Philippines\",\"Poland\",\"Portugal\",\"Qatar\",\"Romania\",\"Russia\",\"Rwanda\",\"Saint Lucia\",\"Saint Vincent and the Grenadines\",\"San Marino\",\"Saudi Arabia\",\"Senegal\",\"Serbia\",\"Seychelles\",\"Singapore\",\"Slovakia\",\"Slovenia\",\"Somalia\",\"South Africa\",\"Spain\",\"Sri Lanka\",\"Sudan\",\"Suriname\",\"Sweden\",\"Switzerland\",\"Taiwan*\",\"Tanzania\",\"Thailand\",\"Togo\",\"Trinidad and Tobago\",\"Tunisia\",\"Turkey\",\"Uganda\",\"Ukraine\",\"United Arab Emirates\",\"United Kingdom\",\"Uruguay\",\"US\",\"Uzbekistan\",\"Venezuela\",\"Vietnam\",\"Zambia\",\"Zimbabwe\",\"Dominica\",\"Grenada\",\"Mozambique\",\"Syria\",\"Timor-Leste\",\"Belize\",\"Laos\",\"Libya\",\"West Bank and Gaza\",\"Guinea-Bissau\",\"Mali\",\"Saint Kitts and Nevis\",\"Kosovo\",\"Burma\",\"MS Zaandam\",\"Botswana\",\"Burundi\",\"Sierra Leone\",\"Malawi\",\"South Sudan\",\"Western Sahara\",\"Sao Tome and Principe\",\"Yemen\"],\"placeholder\":\"\",\"title\":\"Country:\",\"value\":[\"US\"]},\"id\":\"1003\",\"type\":\"MultiChoice\"},{\"attributes\":{\"css_classes\":[\"grey-theme\"],\"margin\":[5,10,5,10],\"min_width\":200,\"options\":[\"Confirmed Cases\",\"Deaths\"],\"title\":\"Confirmed Cases or Deaths:\",\"value\":\"Confirmed Cases\",\"width\":200},\"id\":\"1004\",\"type\":\"Select\"},{\"attributes\":{\"base\":60,\"mantissas\":[1,2,5,10,15,20,30],\"max_interval\":1800000.0,\"min_interval\":1000.0,\"num_minor_ticks\":0},\"id\":\"1063\",\"type\":\"AdaptiveTicker\"},{\"attributes\":{\"months\":[0,2,4,6,8,10]},\"id\":\"1070\",\"type\":\"MonthsTicker\"},{\"attributes\":{\"base\":24,\"mantissas\":[1,2,4,6,8,12],\"max_interval\":43200000.0,\"min_interval\":3600000.0,\"num_minor_ticks\":0},\"id\":\"1064\",\"type\":\"AdaptiveTicker\"},{\"attributes\":{\"children\":[{\"id\":\"1011\"},{\"id\":\"1094\"}],\"margin\":[0,0,0,0],\"name\":\"Row01559\"},\"id\":\"1007\",\"type\":\"Row\"},{\"attributes\":{},\"id\":\"1029\",\"type\":\"PanTool\"},{\"attributes\":{},\"id\":\"1078\",\"type\":\"Selection\"},{\"attributes\":{\"months\":[0,1,2,3,4,5,6,7,8,9,10,11]},\"id\":\"1069\",\"type\":\"MonthsTicker\"},{\"attributes\":{},\"id\":\"1096\",\"type\":\"UnionRenderers\"}],\"root_ids\":[\"1001\",\"1161\"]},\"title\":\"Bokeh Application\",\"version\":\"2.0.1\"}};\n",
       "  var render_items = [{\"docid\":\"09164143-1a9d-488c-97b0-b784d71679d6\",\"root_ids\":[\"1001\"],\"roots\":{\"1001\":\"c0490157-5bb6-43bd-96db-f8d05ae4b598\"}}];\n",
       "  root.Bokeh.embed.embed_items_notebook(docs_json, render_items);\n",
       "  }\n",
       "if (root.Bokeh !== undefined) {\n",
       "    embed_document(root);\n",
       "  } else {\n",
       "    var attempts = 0;\n",
       "    var timer = setInterval(function(root) {\n",
       "      if (root.Bokeh !== undefined) {\n",
       "        clearInterval(timer);\n",
       "        embed_document(root);\n",
       "      } else if (document.readyState == \"complete\") {\n",
       "        attempts++;\n",
       "        if (attempts > 100) {\n",
       "          clearInterval(timer);\n",
       "          console.log(\"Bokeh: ERROR: Unable to run BokehJS code because BokehJS library is missing\");\n",
       "        }\n",
       "      }\n",
       "    }, 10, root)\n",
       "  }\n",
       "})(window);</script>"
      ],
      "text/plain": [
       "Column\n",
       "    [0] DatePicker(name='Date:', value=datetime.date(2020, ...)\n",
       "    [1] MultiChoice(name='Country:', options=['Afghanistan', ...], value=['US'])\n",
       "    [2] Select(css_classes=['grey-theme'], name='Confirmed Cases o..., options=['Confirmed Cases', ...], value='Confirmed Cases', width=200)\n",
       "    [3] Select(name='log-y?', options=[True, False], value=False)\n",
       "    [4] ParamFunction(function)"
      ]
     },
     "execution_count": 5,
     "metadata": {
      "application/vnd.holoviews_exec.v0+json": {
       "id": "1001"
      }
     },
     "output_type": "execute_result"
    }
   ],
   "source": [
    "global_app"
   ]
  }
 ],
 "metadata": {
  "kernelspec": {
   "display_name": "Python (panel_dev)",
   "language": "python",
   "name": "panel_dev"
  },
  "language_info": {
   "codemirror_mode": {
    "name": "ipython",
    "version": 3
   },
   "file_extension": ".py",
   "mimetype": "text/x-python",
   "name": "python",
   "nbconvert_exporter": "python",
   "pygments_lexer": "ipython3",
   "version": "3.8.2"
  }
 },
 "nbformat": 4,
 "nbformat_minor": 4
}
