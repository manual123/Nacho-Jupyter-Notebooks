{
 "cells": [
  {
   "cell_type": "code",
   "execution_count": null,
   "metadata": {
    "papermill": {
     "duration": null,
     "end_time": null,
     "exception": null,
     "start_time": null,
     "status": "pending"
    },
    "tags": []
   },
   "outputs": [],
   "source": [
    "import scrapbook as sb\n",
    "import smtplib\n",
    "from email.mime.text import MIMEText\n",
    "from email.utils import COMMASPACE"
   ]
  },
  {
   "cell_type": "code",
   "execution_count": null,
   "metadata": {
    "papermill": {
     "duration": null,
     "end_time": null,
     "exception": null,
     "start_time": null,
     "status": "pending"
    },
    "tags": []
   },
   "outputs": [],
   "source": [
    "nb = sb.read_notebook('output/Transform.ipynb')\n",
    "nb.scraps['HTML_Report'].data"
   ]
  },
  {
   "cell_type": "code",
   "execution_count": null,
   "metadata": {
    "papermill": {
     "duration": null,
     "end_time": null,
     "exception": null,
     "start_time": null,
     "status": "pending"
    },
    "tags": []
   },
   "outputs": [],
   "source": [
    "GMAIL_USER = 'some_user@gmail.com'"
   ]
  },
  {
   "cell_type": "code",
   "execution_count": null,
   "metadata": {
    "papermill": {
     "duration": null,
     "end_time": null,
     "exception": null,
     "start_time": null,
     "status": "pending"
    },
    "tags": [
     "parameters"
    ]
   },
   "outputs": [],
   "source": [
    "RECIPIENT_EMAIL = 'some_user@protonmail.com'\n",
    "GMAIL_PWD = 'secret'"
   ]
  },
  {
   "cell_type": "code",
   "execution_count": null,
   "metadata": {
    "papermill": {
     "duration": null,
     "end_time": null,
     "exception": null,
     "start_time": null,
     "status": "pending"
    },
    "tags": [
     "injected-parameters"
    ]
   },
   "outputs": [],
   "source": [
    "# Parameters\n",
    "RECIPIENT_EMAIL = \"daniel_jay_kim@protonmail.com\"\n",
    "GMAIL_PWD = \"jasonandalex\"\n"
   ]
  },
  {
   "cell_type": "code",
   "execution_count": null,
   "metadata": {
    "papermill": {
     "duration": null,
     "end_time": null,
     "exception": null,
     "start_time": null,
     "status": "pending"
    },
    "tags": []
   },
   "outputs": [],
   "source": [
    "SUBJECT = 'Top 20 Ohio School Districts by Median Salary'\n",
    "TO = RECIPIENT_EMAIL\n",
    "BODY = nb.scraps['HTML_Report'].data + '\\n\\nBrought to you by a Python script!'\n",
    "\n",
    "def sendEmail(sender, pwd, to, subject, message):\n",
    "    recipient = to if type(to) is list else [to]\n",
    "    msg = MIMEText(message)\n",
    "    msg['Subject'] = subject\n",
    "    msg['From'] = sender\n",
    "    msg['To'] = COMMASPACE.join(recipient)\n",
    "    server = smtplib.SMTP('smtp.gmail.com:587')\n",
    "    server.ehlo()\n",
    "    server.starttls()\n",
    "\n",
    "    try:\n",
    "        server.login(sender,pwd)\n",
    "        print('Successfully authenticated...')\n",
    "    except smtplib.SMTPAuthenticationError:               # Check for authentication error\n",
    "        return \" Authentication ERROR\"\n",
    "\n",
    "    try:\n",
    "        server.sendmail(sender,recipient,msg.as_string())\n",
    "        print('Email sent!')\n",
    "    except smtplib.SMTPRecipientsRefused:                # Check if recipient's email was accepted by the server\n",
    "        return \"ERROR\"\n",
    "    server.quit()"
   ]
  },
  {
   "cell_type": "code",
   "execution_count": null,
   "metadata": {
    "papermill": {
     "duration": null,
     "end_time": null,
     "exception": null,
     "start_time": null,
     "status": "pending"
    },
    "tags": []
   },
   "outputs": [],
   "source": [
    "sendEmail(GMAIL_USER, GMAIL_PWD, TO, SUBJECT, BODY)"
   ]
  }
 ],
 "metadata": {
  "hide_input": false,
  "kernelspec": {
   "display_name": "Python 3",
   "language": "python",
   "name": "python3"
  },
  "language_info": {
   "codemirror_mode": {
    "name": "ipython",
    "version": 3
   },
   "file_extension": ".py",
   "mimetype": "text/x-python",
   "name": "python",
   "nbconvert_exporter": "python",
   "pygments_lexer": "ipython3",
   "version": "3.7.3"
  },
  "papermill": {
   "duration": null,
   "end_time": null,
   "environment_variables": {},
   "exception": null,
   "input_path": "Load.ipynb",
   "output_path": "output/Load.ipynb",
   "parameters": {
    "GMAIL_PWD": "jasonandalex",
    "RECIPIENT_EMAIL": "daniel_jay_kim@protonmail.com"
   },
   "start_time": "2019-08-03T14:38:24.793574",
   "version": "1.0.1"
  }
 },
 "nbformat": 4,
 "nbformat_minor": 2
}