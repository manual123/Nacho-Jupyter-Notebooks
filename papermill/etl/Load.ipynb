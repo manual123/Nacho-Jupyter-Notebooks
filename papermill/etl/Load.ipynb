{
 "cells": [
  {
   "cell_type": "code",
   "execution_count": 7,
   "metadata": {},
   "outputs": [],
   "source": [
    "import scrapbook as sb\n",
    "import smtplib\n",
    "from email.mime.text import MIMEText\n",
    "from email.utils import COMMASPACE"
   ]
  },
  {
   "cell_type": "code",
   "execution_count": 8,
   "metadata": {},
   "outputs": [
    {
     "data": {
      "text/plain": [
       "'<table border=\"1\" class=\"dataframe\">\\n  <thead>\\n    <tr style=\"text-align: right;\">\\n      <th></th>\\n      <th>DISTRICT_NAME</th>\\n      <th>COUNTY</th>\\n      <th>MEDIAN_HRLY_RATE</th>\\n      <th>MEDIAN_PAY</th>\\n      <th>COUNT</th>\\n    </tr>\\n  </thead>\\n  <tbody>\\n    <tr>\\n      <th>1</th>\\n      <td>Beachwood City</td>\\n      <td>Cuyahoga</td>\\n      <td>69.070678</td>\\n      <td>96863.5</td>\\n      <td>104</td>\\n    </tr>\\n    <tr>\\n      <th>2</th>\\n      <td>Orange City</td>\\n      <td>Cuyahoga</td>\\n      <td>66.520663</td>\\n      <td>95374.0</td>\\n      <td>138</td>\\n    </tr>\\n    <tr>\\n      <th>3</th>\\n      <td>Polaris</td>\\n      <td>Cuyahoga</td>\\n      <td>63.895495</td>\\n      <td>91236.0</td>\\n      <td>47</td>\\n    </tr>\\n    <tr>\\n      <th>4</th>\\n      <td>Upper Arlington City</td>\\n      <td>Franklin</td>\\n      <td>60.135081</td>\\n      <td>89481.0</td>\\n      <td>347</td>\\n    </tr>\\n    <tr>\\n      <th>5</th>\\n      <td>Rocky River City</td>\\n      <td>Cuyahoga</td>\\n      <td>63.818885</td>\\n      <td>88703.5</td>\\n      <td>138</td>\\n    </tr>\\n    <tr>\\n      <th>6</th>\\n      <td>Shaker Heights City</td>\\n      <td>Cuyahoga</td>\\n      <td>61.218919</td>\\n      <td>88588.0</td>\\n      <td>323</td>\\n    </tr>\\n    <tr>\\n      <th>7</th>\\n      <td>Mayfield City</td>\\n      <td>Cuyahoga</td>\\n      <td>63.786667</td>\\n      <td>88504.0</td>\\n      <td>238</td>\\n    </tr>\\n    <tr>\\n      <th>8</th>\\n      <td>Cleveland Heights-University Heights City</td>\\n      <td>Cuyahoga</td>\\n      <td>60.633333</td>\\n      <td>87312.0</td>\\n      <td>363</td>\\n    </tr>\\n    <tr>\\n      <th>9</th>\\n      <td>Solon City</td>\\n      <td>Cuyahoga</td>\\n      <td>62.545520</td>\\n      <td>87251.0</td>\\n      <td>240</td>\\n    </tr>\\n    <tr>\\n      <th>10</th>\\n      <td>Indian Hill Exempted Village</td>\\n      <td>Hamilton</td>\\n      <td>66.986100</td>\\n      <td>86747.0</td>\\n      <td>122</td>\\n    </tr>\\n    <tr>\\n      <th>11</th>\\n      <td>Hilliard City</td>\\n      <td>Franklin</td>\\n      <td>67.142857</td>\\n      <td>86480.0</td>\\n      <td>809</td>\\n    </tr>\\n    <tr>\\n      <th>12</th>\\n      <td>North Olmsted City</td>\\n      <td>Cuyahoga</td>\\n      <td>60.433333</td>\\n      <td>85579.0</td>\\n      <td>190</td>\\n    </tr>\\n    <tr>\\n      <th>13</th>\\n      <td>Bay Village City</td>\\n      <td>Cuyahoga</td>\\n      <td>56.923128</td>\\n      <td>85157.0</td>\\n      <td>147</td>\\n    </tr>\\n    <tr>\\n      <th>14</th>\\n      <td>Cuyahoga Heights Local</td>\\n      <td>Cuyahoga</td>\\n      <td>60.608200</td>\\n      <td>85003.0</td>\\n      <td>39</td>\\n    </tr>\\n    <tr>\\n      <th>15</th>\\n      <td>Medina County Joint Vocational School District</td>\\n      <td>Medina</td>\\n      <td>64.126050</td>\\n      <td>83941.0</td>\\n      <td>55</td>\\n    </tr>\\n    <tr>\\n      <th>16</th>\\n      <td>Dublin City</td>\\n      <td>Franklin</td>\\n      <td>56.701351</td>\\n      <td>83918.0</td>\\n      <td>784</td>\\n    </tr>\\n    <tr>\\n      <th>17</th>\\n      <td>South Euclid-Lyndhurst City</td>\\n      <td>Cuyahoga</td>\\n      <td>56.625000</td>\\n      <td>83805.0</td>\\n      <td>186</td>\\n    </tr>\\n    <tr>\\n      <th>18</th>\\n      <td>Brecksville-Broadview Heights City</td>\\n      <td>Cuyahoga</td>\\n      <td>56.192876</td>\\n      <td>83615.0</td>\\n      <td>181</td>\\n    </tr>\\n    <tr>\\n      <th>19</th>\\n      <td>Kirtland Local</td>\\n      <td>Lake</td>\\n      <td>63.117761</td>\\n      <td>83270.0</td>\\n      <td>49</td>\\n    </tr>\\n    <tr>\\n      <th>20</th>\\n      <td>Westlake City</td>\\n      <td>Cuyahoga</td>\\n      <td>57.143102</td>\\n      <td>83257.5</td>\\n      <td>198</td>\\n    </tr>\\n  </tbody>\\n</table>'"
      ]
     },
     "execution_count": 8,
     "metadata": {},
     "output_type": "execute_result"
    }
   ],
   "source": [
    "nb = sb.read_notebook('output/Transform.ipynb')\n",
    "nb.scraps['HTML_Report'].data"
   ]
  },
  {
   "cell_type": "code",
   "execution_count": 9,
   "metadata": {},
   "outputs": [],
   "source": [
    "GMAIL_USER = 'some_user@gmail.com'"
   ]
  },
  {
   "cell_type": "code",
   "execution_count": 10,
   "metadata": {
    "tags": [
     "parameters"
    ]
   },
   "outputs": [],
   "source": [
    "RECIPIENT_EMAIL = 'some_user@protonmail.com'\n",
    "GMAIL_PWD = 'secret'"
   ]
  },
  {
   "cell_type": "code",
   "execution_count": 11,
   "metadata": {},
   "outputs": [],
   "source": [
    "SUBJECT = 'Top 20 Ohio School Districts by Median Salary'\n",
    "TO = RECIPIENT_EMAIL\n",
    "BODY = nb.scraps['HTML_Report'].data + '\\n\\nBrought to you by a Python script!'\n",
    "\n",
    "def sendEmail(sender, pwd, to, subject, message):\n",
    "    recipient = to if type(to) is list else [to]\n",
    "    msg = MIMEText(message)\n",
    "    msg['Subject'] = subject\n",
    "    msg['From'] = sender\n",
    "    msg['To'] = COMMASPACE.join(recipient)\n",
    "    server = smtplib.SMTP('smtp.gmail.com:587')\n",
    "    server.ehlo()\n",
    "    server.starttls()\n",
    "\n",
    "    try:\n",
    "        server.login(sender,pwd)\n",
    "        print('Successfully authenticated...')\n",
    "    except smtplib.SMTPAuthenticationError:               # Check for authentication error\n",
    "        return \" Authentication ERROR\"\n",
    "\n",
    "    try:\n",
    "        server.sendmail(sender,recipient,msg.as_string())\n",
    "        print('Email sent!')\n",
    "    except smtplib.SMTPRecipientsRefused:                # Check if recipient's email was accepted by the server\n",
    "        return \"ERROR\"\n",
    "    server.quit()"
   ]
  },
  {
   "cell_type": "code",
   "execution_count": 12,
   "metadata": {},
   "outputs": [
    {
     "name": "stdout",
     "output_type": "stream",
     "text": [
      "Successfully authenticated...\n",
      "Email sent!\n"
     ]
    }
   ],
   "source": [
    "sendEmail(GMAIL_USER, GMAIL_PWD, TO, SUBJECT, BODY)"
   ]
  }
 ],
 "metadata": {
  "hide_input": false,
  "kernelspec": {
   "display_name": "Python 3",
   "language": "python",
   "name": "python3"
  },
  "language_info": {
   "codemirror_mode": {
    "name": "ipython",
    "version": 3
   },
   "file_extension": ".py",
   "mimetype": "text/x-python",
   "name": "python",
   "nbconvert_exporter": "python",
   "pygments_lexer": "ipython3",
   "version": "3.7.3"
  }
 },
 "nbformat": 4,
 "nbformat_minor": 2
}
