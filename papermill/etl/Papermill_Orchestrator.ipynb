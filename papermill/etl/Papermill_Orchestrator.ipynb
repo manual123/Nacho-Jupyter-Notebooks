{
 "cells": [
  {
   "cell_type": "markdown",
   "metadata": {},
   "source": [
    "### Demonstration of Papermill to Execute Notebooks"
   ]
  },
  {
   "cell_type": "markdown",
   "metadata": {},
   "source": [
    "If we were to perform \"Cell\" --> \"Run All\", then let's say there was an error in the first task, the rest of the downstream tasks (code cells) will still get executed.  To prevent this, it was suggested to raise SystemExit exception.  Reference [documentation](https://docs.python.org/3/library/exceptions.html#SystemExit)"
   ]
  },
  {
   "cell_type": "code",
   "execution_count": null,
   "metadata": {},
   "outputs": [],
   "source": [
    "from getpass import getpass\n",
    "import papermill as pm"
   ]
  },
  {
   "cell_type": "code",
   "execution_count": null,
   "metadata": {},
   "outputs": [],
   "source": [
    "RECIPIENT_EMAIL = input(\"Enter your recipient's email:\")\n",
    "GMAIL_PWD = getpass(\"Enter your gmail password\")"
   ]
  },
  {
   "cell_type": "code",
   "execution_count": null,
   "metadata": {},
   "outputs": [],
   "source": [
    "pm.execute_notebook(\n",
    "    'Extract.ipynb',\n",
    "    'output/Extract.ipynb'\n",
    ");"
   ]
  },
  {
   "cell_type": "code",
   "execution_count": null,
   "metadata": {},
   "outputs": [],
   "source": [
    "pm.execute_notebook(\n",
    "    'Transform.ipynb',\n",
    "    'output/Transform.ipynb'\n",
    ");"
   ]
  },
  {
   "cell_type": "code",
   "execution_count": null,
   "metadata": {},
   "outputs": [],
   "source": [
    "pm.execute_notebook(\n",
    "    'Load.ipynb',\n",
    "    'output/Load.ipynb',\n",
    "    parameters=dict(RECIPIENT_EMAIL=RECIPIENT_EMAIL,\n",
    "                   GMAIL_PWD=GMAIL_PWD\n",
    "               )\n",
    ");"
   ]
  }
 ],
 "metadata": {
  "hide_input": false,
  "kernelspec": {
   "display_name": "Python 3",
   "language": "python",
   "name": "python3"
  },
  "language_info": {
   "codemirror_mode": {
    "name": "ipython",
    "version": 3
   },
   "file_extension": ".py",
   "mimetype": "text/x-python",
   "name": "python",
   "nbconvert_exporter": "python",
   "pygments_lexer": "ipython3",
   "version": "3.7.3"
  }
 },
 "nbformat": 4,
 "nbformat_minor": 2
}
