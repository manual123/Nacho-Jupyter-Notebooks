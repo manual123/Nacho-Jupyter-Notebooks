{
 "metadata": {
  "name": ""
 },
 "nbformat": 3,
 "nbformat_minor": 0,
 "worksheets": [
  {
   "cells": [
    {
     "cell_type": "code",
     "collapsed": false,
     "input": [
      "import pandas\n",
      "import openpyxl\n",
      "from numpy import log as ln\n",
      "from IPython.display import display, HTML\n",
      "\n",
      "display(HTML(\"<strong>Step 1:</strong>\"))\n",
      "url = input(\"Paste URL/path to your Excel file: \")\n",
      "display(HTML(\"<strong>Step 2:</strong>\"))\n",
      "sheet = input(\"Enter worksheet name containing DTF failure times/suspensions: \")\n",
      "\n",
      "#xls = pandas.ExcelFile(r\"C:\\Documents and Settings\\ma17151\\Desktop\\weibulls\\CRV_Heater_Core.xlsx\")\n",
      "df = pandas.read_excel(url, sheet)\n",
      "\n",
      "df_failed = df[df.STATUS=='FAILED']\n",
      "\n",
      "dtf_failed = df_failed[\"DTF\"].values\n",
      "\n",
      "def ln_x_div_r(series):\n",
      "    return ln(series[\"DTF\"])/len(df_failed)\n",
      "\n",
      "left_eq_sum = np.sum( ln(dtf_failed)/len(df_failed) )\n",
      "\n",
      "df_failed[\"ln_x_div_r\"] = df_failed.apply(ln_x_div_r, axis=1)\n",
      "\n",
      "\n",
      "dtf_all = df[\"DTF\"].values\n",
      "\n",
      "# give initial value for the shape parameter, use shape = 1 if the iteration does not find the root for the equation above\n",
      "shape = 1\n",
      "for i in range(1,11):\n",
      "    A = np.sum(ln(dtf_failed))*1.0/dtf_failed.size\n",
      "    B = np.sum(dtf_all**shape)\n",
      "    C = np.sum( (dtf_all**shape) * ln(dtf_all) )\n",
      "    H = np.sum( (dtf_all**shape) * (ln(dtf_all))**2 )\n",
      "    shape = shape + (A+(1.0/shape) - (C/B)) / ( (1.0/shape**2) + ( (B*H)-C**2 ) / B**2 )\n",
      "    print(\"shape\"+str(i)+\" \"+str(shape))\n",
      "    \n",
      "shape_parameter = shape\n",
      "print(\"Shape parameter:\", shape_parameter)\n",
      "scale_parameter = (np.sum((dtf_all**shape_parameter)/len(df_failed)))**(1/shape_parameter)\n",
      "print(\"scale parameter:\", scale_parameter)\n",
      "\n",
      "shape = shape_parameter\n",
      "scale = scale_parameter\n",
      "\n",
      "x2 = np.arange(0,3700)\n",
      "y2 = 1-exp(-(x2/scale)**shape) # This is the equation for Weibull CDF\n",
      "\n",
      "plot(x2,y2*100)\n",
      "title(\"Weibull CDF - Prediction\",weight='bold')\n",
      "ylabel(\"Cumulative Failed %\")\n",
      "xlabel(\"Service Life (DTF)\")\n",
      "grid()\n",
      "show()\n",
      "\n",
      "print(\"year , defect%\")\n",
      "print(\"1yr ,\", '{:.2%}'.format(y2[365]))\n",
      "print(\"2yrs ,\", '{:.2%}'.format(y2[730]))\n",
      "print(\"3yrs ,\", '{:.2%}'.format(y2[1095]))\n",
      "print(\"4yrs ,\", '{:.2%}'.format(y2[1460]))\n",
      "print(\"5yrs ,\", '{:.2%}'.format(y2[1825]))\n",
      "print(\"6yrs ,\", '{:.2%}'.format(y2[2190]))\n",
      "print(\"7yrs ,\", '{:.2%}'.format(y2[2555]))\n",
      "print(\"8yrs ,\", '{:.2%}'.format(y2[2920]))\n",
      "print(\"9yrs ,\", '{:.2%}'.format(y2[3285]))\n",
      "print(\"10yrs ,\", '{:.2%}'.format(y2[3650]))"
     ],
     "language": "python",
     "metadata": {},
     "outputs": [
      {
       "html": [
        "<strong>Step 1:</strong>"
       ],
       "metadata": {},
       "output_type": "display_data",
       "text": [
        "<IPython.core.display.HTML at 0x3eafb30>"
       ]
      },
      {
       "name": "stdout",
       "output_type": "stream",
       "stream": "stdout",
       "text": [
        "Paste URL/path to your Excel file: C:\\Documents and Settings\\ma17151\\Desktop\\weibulls\\weibull.xlsx\n"
       ]
      },
      {
       "html": [
        "<strong>Step 2:</strong>"
       ],
       "metadata": {},
       "output_type": "display_data",
       "text": [
        "<IPython.core.display.HTML at 0x3e6b4f0>"
       ]
      },
      {
       "name": "stdout",
       "output_type": "stream",
       "stream": "stdout",
       "text": [
        "Enter worksheet name containing DTF failure times/suspensions: temp\n"
       ]
      },
      {
       "output_type": "stream",
       "stream": "stdout",
       "text": [
        "shape1 1.85004640677\n",
        "shape2 3.09788696402\n",
        "shape3 4.31158946734"
       ]
      },
      {
       "output_type": "stream",
       "stream": "stdout",
       "text": [
        "\n",
        "shape4 4.84963543314\n",
        "shape5 4.91144068103\n",
        "shape6 4.91210367705"
       ]
      },
      {
       "output_type": "stream",
       "stream": "stdout",
       "text": [
        "\n",
        "shape7 4.9121037516\n",
        "shape8 4.91210375159"
       ]
      },
      {
       "output_type": "stream",
       "stream": "stdout",
       "text": [
        "\n",
        "shape9 4.91210375162\n",
        "shape10 4.91210375162"
       ]
      },
      {
       "output_type": "stream",
       "stream": "stdout",
       "text": [
        "\n",
        "Shape parameter: 4.91210375162\n",
        "scale parameter: 2349.64676176\n"
       ]
      },
      {
       "metadata": {},
       "output_type": "display_data",
       "png": "[encoded data removed]",
       "text": [
        "<matplotlib.figure.Figure at 0x5fcbd10>"
       ]
      },
      {
       "output_type": "stream",
       "stream": "stdout",
       "text": [
        "year , defect%\n",
        "1yr , 0.01%\n",
        "2yrs , 0.32%\n",
        "3yrs , 2.32%\n",
        "4yrs , 9.21%\n",
        "5yrs , 25.10%\n",
        "6yrs , 50.73%\n",
        "7yrs , 77.89%\n",
        "8yrs , 94.54%\n",
        "9yrs , 99.44%\n",
        "10yrs , 99.98%\n"
       ]
      }
     ],
     "prompt_number": 1
    },
    {
     "cell_type": "heading",
     "level": 4,
     "metadata": {},
     "source": [
      "Let's output the results into a HTML table"
     ]
    },
    {
     "cell_type": "code",
     "collapsed": false,
     "input": [
      "from IPython.display import display, HTML\n",
      "\n",
      "display(HTML(\n",
      "\"\"\"<table border=\"1\">\n",
      "<tr>\n",
      "<th style=\"text-align: center;\">Year</th>\n",
      "<th style=\"text-align: center;\">Defect %</th>\n",
      "<th style=\"text-align: center;\">Qty Failed</th>\n",
      "</tr>\n",
      "<tr>\n",
      "<td style=\"text-align: center;\">1</td>\n",
      "<td style=\"text-align: center;\">\"\"\"+'{0:.2%}'.format(y2[365])+\"\"\"</td>\n",
      "<td style=\"text-align: center;\">\"\"\"+'{0}'.format(int(y2[365] * len(df)))+\"\"\"</td>\n",
      "</tr>\n",
      "<tr>\n",
      "<td style=\"text-align: center;\">2</td>\n",
      "<td style=\"text-align: center;\">\"\"\"+'{0:.2%}'.format(y2[730])+\"\"\"</td>\n",
      "<td style=\"text-align: center;\">\"\"\"+'{0}'.format(int(y2[730] * len(df)))+\"\"\"</td>\n",
      "</tr>\n",
      "<tr>\n",
      "<td style=\"text-align: center;\">3</td>\n",
      "<td style=\"text-align: center;\">\"\"\"+'{0:.2%}'.format(y2[1095])+\"\"\"</td>\n",
      "<td style=\"text-align: center;\">\"\"\"+'{0}'.format(int(y2[1095] * len(df)))+\"\"\"</td>\n",
      "</tr>\n",
      "<tr>\n",
      "<td style=\"text-align: center;\">4</td>\n",
      "<td style=\"text-align: center;\">\"\"\"+'{0:.2%}'.format(y2[1460])+\"\"\"</td>\n",
      "<td style=\"text-align: center;\">\"\"\"+'{0}'.format(int(y2[1460] * len(df)))+\"\"\"</td>\n",
      "</tr>\n",
      "<tr>\n",
      "<td style=\"text-align: center;\">5</td>\n",
      "<td style=\"text-align: center;\">\"\"\"+'{0:.2%}'.format(y2[1825])+\"\"\"</td>\n",
      "<td style=\"text-align: center;\">\"\"\"+'{0}'.format(int(y2[1825] * len(df)))+\"\"\"</td>\n",
      "</tr>\n",
      "<tr>\n",
      "<td style=\"text-align: center;\">6</td>\n",
      "<td style=\"text-align: center;\">\"\"\"+'{0:.2%}'.format(y2[2190])+\"\"\"</td>\n",
      "<td style=\"text-align: center;\">\"\"\"+'{0}'.format(int(y2[2190] * len(df)))+\"\"\"</td>\n",
      "</tr>\n",
      "<tr>\n",
      "<td style=\"text-align: center;\">7</td>\n",
      "<td style=\"text-align: center;\">\"\"\"+'{0:.2%}'.format(y2[2555])+\"\"\"</td>\n",
      "<td style=\"text-align: center;\">\"\"\"+'{0}'.format(int(y2[2555] * len(df)))+\"\"\"</td>\n",
      "</tr>\n",
      "<tr>\n",
      "<td style=\"text-align: center;\">8</td>\n",
      "<td style=\"text-align: center;\">\"\"\"+'{0:.2%}'.format(y2[2920])+\"\"\"</td>\n",
      "<td style=\"text-align: center;\">\"\"\"+'{0}'.format(int(y2[2920] * len(df)))+\"\"\"</td>\n",
      "</tr>\n",
      "<tr>\n",
      "<td style=\"text-align: center;\">9</td>\n",
      "<td style=\"text-align: center;\">\"\"\"+'{0:.2%}'.format(y2[3285])+\"\"\"</td>\n",
      "<td style=\"text-align: center;\">\"\"\"+'{0}'.format(int(y2[3285] * len(df)))+\"\"\"</td>\n",
      "</tr>\n",
      "<tr>\n",
      "<td style=\"text-align: center;\">10</td>\n",
      "<td style=\"text-align: center;\">\"\"\"+'{0:.2%}'.format(y2[3650])+\"\"\"</td>\n",
      "<td style=\"text-align: center;\">\"\"\"+'{0}'.format(int(y2[3650] * len(df)))+\"\"\"</td>\n",
      "</tr>\n",
      "</table>\"\"\"\n",
      "))"
     ],
     "language": "python",
     "metadata": {},
     "outputs": [
      {
       "html": [
        "<table border=\"1\">\n",
        "<tr>\n",
        "<th style=\"text-align: center;\">Year</th>\n",
        "<th style=\"text-align: center;\">Defect %</th>\n",
        "<th style=\"text-align: center;\">Qty Failed</th>\n",
        "</tr>\n",
        "<tr>\n",
        "<td style=\"text-align: center;\">1</td>\n",
        "<td style=\"text-align: center;\">0.01%</td>\n",
        "<td style=\"text-align: center;\">13</td>\n",
        "</tr>\n",
        "<tr>\n",
        "<td style=\"text-align: center;\">2</td>\n",
        "<td style=\"text-align: center;\">0.32%</td>\n",
        "<td style=\"text-align: center;\">415</td>\n",
        "</tr>\n",
        "<tr>\n",
        "<td style=\"text-align: center;\">3</td>\n",
        "<td style=\"text-align: center;\">2.32%</td>\n",
        "<td style=\"text-align: center;\">3013</td>\n",
        "</tr>\n",
        "<tr>\n",
        "<td style=\"text-align: center;\">4</td>\n",
        "<td style=\"text-align: center;\">9.21%</td>\n",
        "<td style=\"text-align: center;\">11940</td>\n",
        "</tr>\n",
        "<tr>\n",
        "<td style=\"text-align: center;\">5</td>\n",
        "<td style=\"text-align: center;\">25.10%</td>\n",
        "<td style=\"text-align: center;\">32553</td>\n",
        "</tr>\n",
        "<tr>\n",
        "<td style=\"text-align: center;\">6</td>\n",
        "<td style=\"text-align: center;\">50.73%</td>\n",
        "<td style=\"text-align: center;\">65786</td>\n",
        "</tr>\n",
        "<tr>\n",
        "<td style=\"text-align: center;\">7</td>\n",
        "<td style=\"text-align: center;\">77.89%</td>\n",
        "<td style=\"text-align: center;\">101016</td>\n",
        "</tr>\n",
        "<tr>\n",
        "<td style=\"text-align: center;\">8</td>\n",
        "<td style=\"text-align: center;\">94.54%</td>\n",
        "<td style=\"text-align: center;\">122611</td>\n",
        "</tr>\n",
        "<tr>\n",
        "<td style=\"text-align: center;\">9</td>\n",
        "<td style=\"text-align: center;\">99.44%</td>\n",
        "<td style=\"text-align: center;\">128964</td>\n",
        "</tr>\n",
        "<tr>\n",
        "<td style=\"text-align: center;\">10</td>\n",
        "<td style=\"text-align: center;\">99.98%</td>\n",
        "<td style=\"text-align: center;\">129668</td>\n",
        "</tr>\n",
        "</table>"
       ],
       "metadata": {},
       "output_type": "display_data",
       "text": [
        "<IPython.core.display.HTML at 0x5fcd290>"
       ]
      }
     ],
     "prompt_number": 2
    }
   ],
   "metadata": {}
  }
 ]
}