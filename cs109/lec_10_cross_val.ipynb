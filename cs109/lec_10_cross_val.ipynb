{
 "metadata": {
  "name": ""
 },
 "nbformat": 3,
 "nbformat_minor": 0,
 "worksheets": [
  {
   "cells": [
    {
     "cell_type": "heading",
     "level": 1,
     "metadata": {},
     "source": [
      "Cross Validation: The Right and Wrong Way"
     ]
    },
    {
     "cell_type": "markdown",
     "metadata": {},
     "source": [
      "*For a real-world example that showcases the pitfalls of improper cross validation, see [this blog post.](http://followthedata.wordpress.com/2013/10/30/the-importance-of-proper-cross-validation-and-experimental-design/)*"
     ]
    },
    {
     "cell_type": "markdown",
     "metadata": {},
     "source": [
      "## The scenario\n",
      "\n",
      "You have 20 datapoints, each of which has 1,000,000 attributes. Each observation also has an associated $y$ value, and you are interested in whether a linear combination of a few attributes can be used to predict $y$. That is, you are looking for a model\n",
      "\n",
      "$$\n",
      "y_i \\sim \\sum_j w_j x_{ij}\n",
      "$$\n",
      "\n",
      "where most of the 1 million $w_j$ values are 0.\n",
      "\n",
      "## The problem\n",
      "\n",
      "Since there are so many more attributes than datapoints, the chance that a few attributes correlate with $y$ by pure coincidence is fairly high. \n",
      "\n",
      "You kind of remember that cross-validation helps you detect over-fitting, but you're fuzzy on the details.\n",
      "\n",
      "## The wrong way to cross-validate\n",
      "\n",
      "* Determine a few attributes of X that correlate well with Y\n",
      "* Use cross-validation to measure how well a linear fit to these attributes predicts y"
     ]
    },
    {
     "cell_type": "code",
     "collapsed": false,
     "input": [
      "%matplotlib inline\n",
      "\n",
      "import numpy as np\n",
      "import matplotlib.pyplot as plt\n",
      "\n",
      "from sklearn.feature_selection import SelectKBest, f_regression\n",
      "from sklearn.cross_validation import cross_val_score, KFold\n",
      "from sklearn.linear_model import LinearRegression"
     ],
     "language": "python",
     "metadata": {},
     "outputs": [],
     "prompt_number": 1
    },
    {
     "cell_type": "markdown",
     "metadata": {},
     "source": [
      "Let's make the dataset, and compute the y's with a \"hidden\" model that we are trying to recover"
     ]
    },
    {
     "cell_type": "code",
     "collapsed": false,
     "input": [
      "def hidden_model(x):\n",
      "    #y is a linear combination of columns 5 and 10...\n",
      "    result = x[:, 5] + x[:, 10]\n",
      "    #... with a little noise\n",
      "    result += np.random.normal(0, .005, result.shape)\n",
      "    return result\n",
      "    \n",
      "    \n",
      "def make_x(nobs):\n",
      "    return np.random.uniform(0, 3, (nobs, 10 ** 6))\n",
      "\n",
      "x = make_x(20)\n",
      "y = hidden_model(x)\n",
      "\n",
      "print(x.shape)"
     ],
     "language": "python",
     "metadata": {},
     "outputs": [
      {
       "output_type": "stream",
       "stream": "stdout",
       "text": [
        "(20, 1000000)\n"
       ]
      }
     ],
     "prompt_number": 15
    },
    {
     "cell_type": "markdown",
     "metadata": {},
     "source": [
      "Find the 2 attributes in X that best correlate with y"
     ]
    },
    {
     "cell_type": "code",
     "collapsed": false,
     "input": [
      "selector = SelectKBest(f_regression, k=2).fit(x, y)\n",
      "best_features = np.where(selector.get_support())[0]\n",
      "print(best_features)"
     ],
     "language": "python",
     "metadata": {},
     "outputs": [
      {
       "output_type": "stream",
       "stream": "stdout",
       "text": [
        "[341338 690135]\n"
       ]
      }
     ],
     "prompt_number": 17
    },
    {
     "cell_type": "markdown",
     "metadata": {},
     "source": [
      "We know we are already in trouble -- we've selected 2 columns which correlate with Y by chance, but neither of which are columns 5 or 10 (the only 2 columns that *actually* have anything to do with y). We can look at the correlations between these columns and Y, and confirm they are pretty good (again, just a coincidence):"
     ]
    },
    {
     "cell_type": "code",
     "collapsed": false,
     "input": [
      "for b in best_features:\n",
      "    plt.plot(x[:, b], y, 'o')\n",
      "    plt.title(\"Column %i\" % b)\n",
      "    plt.xlabel(\"X\")\n",
      "    plt.ylabel(\"Y\")\n",
      "    plt.show()"
     ],
     "language": "python",
     "metadata": {},
     "outputs": [
      {
       "metadata": {},
       "output_type": "display_data",
       "png": "[encoded data removed]",
       "text": [
        "<matplotlib.figure.Figure at 0x11c8db5d0>"
       ]
      },
      {
       "metadata": {},
       "output_type": "display_data",
       "png": "[encoded data removed]",
       "text": [
        "<matplotlib.figure.Figure at 0x11c900b10>"
       ]
      }
     ],
     "prompt_number": 18
    },
    {
     "cell_type": "markdown",
     "metadata": {},
     "source": [
      "A linear regression on the full data looks good. The \"score\" here is the $R^2$ score -- scores close to 1 imply a good fit."
     ]
    },
    {
     "cell_type": "code",
     "collapsed": false,
     "input": [
      "xt = x[:, best_features]\n",
      "clf = LinearRegression().fit(xt, y)\n",
      "print(\"Score is \", clf.score(xt, y))"
     ],
     "language": "python",
     "metadata": {},
     "outputs": [
      {
       "output_type": "stream",
       "stream": "stdout",
       "text": [
        "Score is  0.839859389027\n"
       ]
      }
     ],
     "prompt_number": 25
    },
    {
     "cell_type": "code",
     "collapsed": false,
     "input": [
      "yp = clf.predict(xt)\n",
      "plt.plot(yp, y, 'o')\n",
      "plt.plot(y, y, 'r-')\n",
      "plt.xlabel(\"Predicted\")\n",
      "plt.ylabel(\"Observed\")"
     ],
     "language": "python",
     "metadata": {},
     "outputs": [
      {
       "metadata": {},
       "output_type": "pyout",
       "prompt_number": 26,
       "text": [
        "<matplotlib.text.Text at 0x109e426d0>"
       ]
      },
      {
       "metadata": {},
       "output_type": "display_data",
       "png": "[encoded data removed]",
       "text": [
        "<matplotlib.figure.Figure at 0x10a479a90>"
       ]
      }
     ],
     "prompt_number": 26
    },
    {
     "cell_type": "markdown",
     "metadata": {},
     "source": [
      "We're worried about overfitting, and remember that cross-validation is supposed to detect this. Let's look at the average $R^2$ score, when performing 5-fold cross validation. It's not as good, but still not bad..."
     ]
    },
    {
     "cell_type": "code",
     "collapsed": false,
     "input": [
      "cross_val_score(clf, xt, y, cv=5).mean()"
     ],
     "language": "python",
     "metadata": {},
     "outputs": [
      {
       "metadata": {},
       "output_type": "pyout",
       "prompt_number": 27,
       "text": [
        "0.61616795686754722"
       ]
      }
     ],
     "prompt_number": 27
    },
    {
     "cell_type": "markdown",
     "metadata": {},
     "source": [
      "And even if we make some plots of the predicted and actual data at each cross-validation iteration, \n",
      "the model seems to predict the \"independent\" data pretty well..."
     ]
    },
    {
     "cell_type": "code",
     "collapsed": false,
     "input": [
      "for train, test in KFold(len(y), 10):\n",
      "    xtrain, xtest, ytrain, ytest = xt[train], xt[test], y[train], y[test]\n",
      "\n",
      "    clf.fit(xtrain, ytrain)\n",
      "    yp = clf.predict(xtest)\n",
      "    \n",
      "    plt.plot(yp, ytest, 'o')\n",
      "    plt.plot(ytest, ytest, 'r-')\n",
      "    \n",
      "\n",
      "plt.xlabel(\"Predicted\")\n",
      "plt.ylabel(\"Observed\")"
     ],
     "language": "python",
     "metadata": {},
     "outputs": [
      {
       "metadata": {},
       "output_type": "pyout",
       "prompt_number": 29,
       "text": [
        "<matplotlib.text.Text at 0x109ec4810>"
       ]
      },
      {
       "metadata": {},
       "output_type": "display_data",
       "png": "[encoded data removed]",
       "text": [
        "<matplotlib.figure.Figure at 0x109ebe710>"
       ]
      }
     ],
     "prompt_number": 29
    },
    {
     "cell_type": "markdown",
     "metadata": {},
     "source": [
      "**But** -- what if we generated some more data?"
     ]
    },
    {
     "cell_type": "code",
     "collapsed": false,
     "input": [
      "x2 = make_x(100)\n",
      "y2 = hidden_model(x2)\n",
      "x2 = x2[:, best_features]\n",
      "\n",
      "y2p = clf.predict(x2)\n",
      "\n",
      "plt.plot(y2p, y2, 'o')\n",
      "plt.plot(y2, y2, 'r-')\n",
      "plt.xlabel(\"Predicted\")\n",
      "plt.ylabel(\"Observed\")"
     ],
     "language": "python",
     "metadata": {},
     "outputs": [
      {
       "metadata": {},
       "output_type": "pyout",
       "prompt_number": 9,
       "text": [
        "[<matplotlib.lines.Line2D at 0x1136efa90>]"
       ]
      },
      {
       "metadata": {},
       "output_type": "display_data",
       "png": "[encoded data removed]",
       "text": [
        "<matplotlib.figure.Figure at 0x1136ef390>"
       ]
      }
     ],
     "prompt_number": 9
    },
    {
     "cell_type": "markdown",
     "metadata": {},
     "source": [
      "Yikes -- there is no correlation at all! Cross-validation did **not** detect the overfitting, because we used the entire data to select \"good\" features."
     ]
    },
    {
     "cell_type": "markdown",
     "metadata": {},
     "source": [
      "## The right way to cross-validate\n",
      "\n",
      "To prevent overfitting, we can't let *any* information about the full dataset leak into cross-validation. Thus, we must re-select good features in each cross-validation iteration"
     ]
    },
    {
     "cell_type": "code",
     "collapsed": false,
     "input": [
      "scores = []\n",
      "\n",
      "for train, test in KFold(len(y), n_folds=5):\n",
      "    xtrain, xtest, ytrain, ytest = x[train], x[test], y[train], y[test]\n",
      "    \n",
      "    b = SelectKBest(f_regression, k=2)\n",
      "    b.fit(xtrain, ytrain)\n",
      "    xtrain = xtrain[:, b.get_support()]\n",
      "    xtest = xtest[:, b.get_support()]\n",
      "    \n",
      "    clf.fit(xtrain, ytrain)    \n",
      "    scores.append(clf.score(xtest, ytest))\n",
      "\n",
      "    yp = clf.predict(xtest)\n",
      "    plt.plot(yp, ytest, 'o')\n",
      "    plt.plot(ytest, ytest, 'r-')\n",
      "    \n",
      "plt.xlabel(\"Predicted\")\n",
      "plt.ylabel(\"Observed\")\n",
      "\n",
      "print(\"CV Score is \", np.mean(scores))"
     ],
     "language": "python",
     "metadata": {},
     "outputs": [
      {
       "output_type": "stream",
       "stream": "stdout",
       "text": [
        "CV Score is  -1.64839183777\n"
       ]
      },
      {
       "metadata": {},
       "output_type": "display_data",
       "png": "[encoded data removed]",
       "text": [
        "<matplotlib.figure.Figure at 0x10a201990>"
       ]
      }
     ],
     "prompt_number": 31
    },
    {
     "cell_type": "markdown",
     "metadata": {},
     "source": [
      "Now cross-validation properly detects overfitting, by reporting a low average $R^2$ score and a plot that looks like noise. Of course, it doesn't help us actually *discover* the fact that columns 5 and 10 determine Y (this task is probably hopeless without more data) -- it just lets us know when our fitting approach isn't generalizing to new data."
     ]
    }
   ],
   "metadata": {}
  }
 ]
}