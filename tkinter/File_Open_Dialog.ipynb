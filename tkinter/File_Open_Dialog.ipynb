{
 "cells": [
  {
   "cell_type": "markdown",
   "metadata": {},
   "source": [
    "# tkinter File Open Dialog Examples"
   ]
  },
  {
   "cell_type": "markdown",
   "metadata": {},
   "source": [
    "### Non-OOP Way:"
   ]
  },
  {
   "cell_type": "code",
   "execution_count": 4,
   "metadata": {},
   "outputs": [],
   "source": [
    "from tkinter import *\n",
    "from tkinter import ttk\n",
    "from tkinter.filedialog import askopenfilename\n",
    "\n",
    "root = Tk(  )\n",
    "\n",
    "#This is where we lauch the file manager bar.\n",
    "def OpenFile():\n",
    "    global name\n",
    "    name = askopenfilename(initialdir=\"C:/Users/Batman/Documents/Programming/tkinter/\",\n",
    "                           filetypes =((\"Text File\", \"*.txt\"),(\"All Files\",\"*.*\")),\n",
    "                           title = \"Choose a file.\"\n",
    "                           )\n",
    "\n",
    "\n",
    "Title = root.title( \"File Opener\")\n",
    "label = ttk.Label(root, text =\"Choose your file\",foreground=\"black\",font=(\"Helvetica\", 16))\n",
    "label.pack()\n",
    "\n",
    "#Menu Bar\n",
    "\n",
    "menu = Menu(root)\n",
    "root.config(menu=menu)\n",
    "\n",
    "file = Menu(menu)\n",
    "\n",
    "file.add_command(label = 'Open', command = OpenFile)\n",
    "file.add_command(label = 'Exit', command = lambda:exit())\n",
    "\n",
    "menu.add_cascade(label = 'File', menu = file)\n",
    "\n",
    "root.mainloop()"
   ]
  },
  {
   "cell_type": "code",
   "execution_count": 5,
   "metadata": {},
   "outputs": [
    {
     "data": {
      "text/plain": [
       "'/home/pybokeh/temp/output.csv'"
      ]
     },
     "execution_count": 5,
     "metadata": {},
     "output_type": "execute_result"
    }
   ],
   "source": [
    "name"
   ]
  },
  {
   "cell_type": "markdown",
   "metadata": {},
   "source": [
    "### OOP Way:"
   ]
  },
  {
   "cell_type": "code",
   "execution_count": 1,
   "metadata": {},
   "outputs": [],
   "source": [
    "import tkinter as tk\n",
    "from tkinter import ttk\n",
    "from tkinter.filedialog import askopenfilename\n",
    "\n",
    "class Root(tk.Tk):\n",
    "\n",
    "    def __init__(self):\n",
    "        super().__init__()\n",
    "        \n",
    "        self.title(\"Choose file\")\n",
    "        self.menu_bar = tk.Menu(self, bg=\"darkgrey\", fg=\"black\")\n",
    "        self.file_menu = tk.Menu(self.menu_bar)\n",
    "        self.file_menu.add_command(label=\"Open FQS Claims\", command=self.OpenFileClaims, accelerator=\"Ctrl+O\")\n",
    "        self.file_menu.add_command(label=\"Open FQS Production\", command=self.OpenFileProduction, accelerator=\"Ctrl+1\")\n",
    "        self.menu_bar.add_cascade(label=\"File\", menu=self.file_menu)\n",
    "        self.config(menu=self.menu_bar)\n",
    "        \n",
    "    def OpenFileClaims(self):\n",
    "        global claims_path\n",
    "        claims_path = askopenfilename(initialdir=\"C:/Users/Batman/Documents/Programming/tkinter/\",\n",
    "                            filetypes =((\"Text File\", \"*.txt\"),(\"All Files\",\"*.*\")),\n",
    "                            title = \"Choose a file.\"\n",
    "                            )\n",
    "        \n",
    "    def OpenFileProduction(self):\n",
    "        global production_path\n",
    "        production_path = askopenfilename(initialdir=\"C:/Users/Batman/Documents/Programming/tkinter/\",\n",
    "                            filetypes =((\"Text File\", \"*.txt\"),(\"All Files\",\"*.*\")),\n",
    "                            title = \"Choose a file.\"\n",
    "                            )\n",
    "        \n",
    "\n",
    "if __name__ == \"__main__\":\n",
    "    root = Root()\n",
    "    root.mainloop()"
   ]
  },
  {
   "cell_type": "code",
   "execution_count": 2,
   "metadata": {},
   "outputs": [
    {
     "data": {
      "text/plain": [
       "'/home/pybokeh/temp/output.csv'"
      ]
     },
     "execution_count": 2,
     "metadata": {},
     "output_type": "execute_result"
    }
   ],
   "source": [
    "claims_path"
   ]
  },
  {
   "cell_type": "code",
   "execution_count": 3,
   "metadata": {},
   "outputs": [
    {
     "data": {
      "text/plain": [
       "'/home/pybokeh/temp/tutorial.py'"
      ]
     },
     "execution_count": 3,
     "metadata": {},
     "output_type": "execute_result"
    }
   ],
   "source": [
    "production_path"
   ]
  }
 ],
 "metadata": {
  "hide_input": false,
  "kernelspec": {
   "display_name": "Python 3",
   "language": "python",
   "name": "python3"
  },
  "language_info": {
   "codemirror_mode": {
    "name": "ipython",
    "version": 3
   },
   "file_extension": ".py",
   "mimetype": "text/x-python",
   "name": "python",
   "nbconvert_exporter": "python",
   "pygments_lexer": "ipython3",
   "version": "3.7.2"
  }
 },
 "nbformat": 4,
 "nbformat_minor": 2
}
