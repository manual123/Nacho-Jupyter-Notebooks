{
 "cells": [
  {
   "cell_type": "code",
   "execution_count": null,
   "metadata": {
    "collapsed": true
   },
   "outputs": [],
   "source": [
    "library(readxl)\n",
    "library(zoo) \n",
    "library(dplyr) \n",
    "library(forecast) \n",
    "\n",
    "\n",
    "df <- read_excel('//somesharedrive/path_to_file/gearbox.xlsx', sheet='Claims') \n",
    "\n",
    "by_ro <- df %>% \n",
    "             group_by(RO_YR_MTH) %>% \n",
    "             summarize(count = n()) \n",
    "\n",
    "\n",
    "by_ro$RO_YR_MTH <- as.Date(as.yearmon(by_ro$RO_YR_MTH)) \n",
    "\n",
    "\n",
    "newdf <- data.frame(RO_YR_MTH = seq(min(by_ro$RO_YR_MTH), max(by_ro$RO_YR_MTH), by = \"month\")) \n",
    "df_final <- merge(newdf, by_ro, by = \"RO_YR_MTH\", all.x = TRUE) \n",
    "df_final[is.na(df_final)] <- 0 \n",
    "\n",
    "\n",
    "ro_mth.min <- as.Date(as.yearmon(min(df_final$RO_YR_MTH))) \n",
    "yr_start <- as.numeric(format(ro_mth.min,'%Y')) \n",
    "mth_start <- as.numeric(format(ro_mth.min,'%m')) \n",
    "\n",
    "\n",
    "dft = ts(df_final$count,frequency=12,start=c(yr_start,mth_start)) \n",
    "hwm = HoltWinters(dft) \n",
    "\n",
    "getMonths <- function() {\n",
    "    num_months <- as.numeric(readline(\"How months you want to forecast into the future? \"))\n",
    "}\n",
    "\n",
    "num_months <- getMonths()\n",
    "\n",
    "\n",
    "hwm = HoltWinters(dft) \n",
    "hwf = forecast.HoltWinters(hwm, h=num_months) \n",
    "summary(hwf) \n",
    "plot.forecast(hwf)"
   ]
  }
 ],
 "metadata": {
  "hide_input": false,
  "kernelspec": {
   "display_name": "R",
   "language": "R",
   "name": "ir"
  },
  "language_info": {
   "codemirror_mode": "r",
   "file_extension": ".r",
   "mimetype": "text/x-r-source",
   "name": "R",
   "pygments_lexer": "r",
   "version": "3.4.1"
  }
 },
 "nbformat": 4,
 "nbformat_minor": 1
}
