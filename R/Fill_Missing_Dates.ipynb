{
 "cells": [
  {
   "cell_type": "code",
   "execution_count": 37,
   "metadata": {
    "collapsed": false,
    "run_control": {
     "read_only": false
    }
   },
   "outputs": [
    {
     "data": {
      "text/html": [
       "<table>\n",
       "<thead><tr><th></th><th scope=col>date</th><th scope=col>qty</th></tr></thead>\n",
       "<tbody>\n",
       "\t<tr><th scope=row>1</th><td>2013-01-01</td><td>4</td></tr>\n",
       "\t<tr><th scope=row>2</th><td>2013-01-02</td><td>3</td></tr>\n",
       "\t<tr><th scope=row>3</th><td>2013-01-03</td><td>2</td></tr>\n",
       "\t<tr><th scope=row>4</th><td>2013-01-05</td><td>5</td></tr>\n",
       "\t<tr><th scope=row>5</th><td>2013-01-07</td><td>3</td></tr>\n",
       "\t<tr><th scope=row>6</th><td>2013-01-08</td><td>4</td></tr>\n",
       "</tbody>\n",
       "</table>\n"
      ],
      "text/latex": [
       "\\begin{tabular}{r|ll}\n",
       "  & date & qty\\\\\n",
       "\\hline\n",
       "\t1 & 2013-01-01 & 4\\\\\n",
       "\t2 & 2013-01-02 & 3\\\\\n",
       "\t3 & 2013-01-03 & 2\\\\\n",
       "\t4 & 2013-01-05 & 5\\\\\n",
       "\t5 & 2013-01-07 & 3\\\\\n",
       "\t6 & 2013-01-08 & 4\\\\\n",
       "\\end{tabular}\n"
      ],
      "text/plain": [
       "        date qty\n",
       "1 2013-01-01   4\n",
       "2 2013-01-02   3\n",
       "3 2013-01-03   2\n",
       "4 2013-01-05   5\n",
       "5 2013-01-07   3\n",
       "6 2013-01-08   4"
      ]
     },
     "execution_count": 37,
     "metadata": {},
     "output_type": "execute_result"
    }
   ],
   "source": [
    "df <- read.csv(\"/home/pybokeh/Dropbox/data_sets/sales_data.csv\", header=TRUE, stringsAsFactors=FALSE)\n",
    "head(df)"
   ]
  },
  {
   "cell_type": "code",
   "execution_count": 38,
   "metadata": {
    "collapsed": false
   },
   "outputs": [
    {
     "name": "stdout",
     "output_type": "stream",
     "text": [
      "'data.frame':\t6 obs. of  2 variables:\n",
      " $ date: chr  \"2013-01-01\" \"2013-01-02\" \"2013-01-03\" \"2013-01-05\" ...\n",
      " $ qty : int  4 3 2 5 3 4\n"
     ]
    }
   ],
   "source": [
    "str(df)"
   ]
  },
  {
   "cell_type": "code",
   "execution_count": 39,
   "metadata": {
    "collapsed": false
   },
   "outputs": [
    {
     "data": {
      "text/html": [
       "<table>\n",
       "<thead><tr><th></th><th scope=col>date</th><th scope=col>qty</th></tr></thead>\n",
       "<tbody>\n",
       "\t<tr><th scope=row>1</th><td>2013-01-01</td><td>4</td></tr>\n",
       "\t<tr><th scope=row>2</th><td>2013-01-02</td><td>3</td></tr>\n",
       "\t<tr><th scope=row>3</th><td>2013-01-03</td><td>2</td></tr>\n",
       "\t<tr><th scope=row>4</th><td>2013-01-05</td><td>5</td></tr>\n",
       "\t<tr><th scope=row>5</th><td>2013-01-07</td><td>3</td></tr>\n",
       "\t<tr><th scope=row>6</th><td>2013-01-08</td><td>4</td></tr>\n",
       "</tbody>\n",
       "</table>\n"
      ],
      "text/latex": [
       "\\begin{tabular}{r|ll}\n",
       "  & date & qty\\\\\n",
       "\\hline\n",
       "\t1 & 2013-01-01 & 4\\\\\n",
       "\t2 & 2013-01-02 & 3\\\\\n",
       "\t3 & 2013-01-03 & 2\\\\\n",
       "\t4 & 2013-01-05 & 5\\\\\n",
       "\t5 & 2013-01-07 & 3\\\\\n",
       "\t6 & 2013-01-08 & 4\\\\\n",
       "\\end{tabular}\n"
      ],
      "text/plain": [
       "        date qty\n",
       "1 2013-01-01   4\n",
       "2 2013-01-02   3\n",
       "3 2013-01-03   2\n",
       "4 2013-01-05   5\n",
       "5 2013-01-07   3\n",
       "6 2013-01-08   4"
      ]
     },
     "execution_count": 39,
     "metadata": {},
     "output_type": "execute_result"
    }
   ],
   "source": [
    "df$date <- as.POSIXct(df$date, format = \"%Y-%m-%d\")\n",
    "head(df)"
   ]
  },
  {
   "cell_type": "code",
   "execution_count": 40,
   "metadata": {
    "collapsed": false
   },
   "outputs": [
    {
     "name": "stdout",
     "output_type": "stream",
     "text": [
      "'data.frame':\t6 obs. of  2 variables:\n",
      " $ date: POSIXct, format: \"2013-01-01\" \"2013-01-02\" ...\n",
      " $ qty : int  4 3 2 5 3 4\n"
     ]
    }
   ],
   "source": [
    "str(df)"
   ]
  },
  {
   "cell_type": "markdown",
   "metadata": {},
   "source": [
    "**Create new dataframe with all dates**"
   ]
  },
  {
   "cell_type": "code",
   "execution_count": 41,
   "metadata": {
    "collapsed": false
   },
   "outputs": [
    {
     "data": {
      "text/html": [
       "<table>\n",
       "<thead><tr><th></th><th scope=col>date</th></tr></thead>\n",
       "<tbody>\n",
       "\t<tr><th scope=row>1</th><td>2013-01-01</td></tr>\n",
       "\t<tr><th scope=row>2</th><td>2013-01-02</td></tr>\n",
       "\t<tr><th scope=row>3</th><td>2013-01-03</td></tr>\n",
       "\t<tr><th scope=row>4</th><td>2013-01-04</td></tr>\n",
       "\t<tr><th scope=row>5</th><td>2013-01-05</td></tr>\n",
       "\t<tr><th scope=row>6</th><td>2013-01-06</td></tr>\n",
       "\t<tr><th scope=row>7</th><td>2013-01-07</td></tr>\n",
       "\t<tr><th scope=row>8</th><td>2013-01-08</td></tr>\n",
       "</tbody>\n",
       "</table>\n"
      ],
      "text/latex": [
       "\\begin{tabular}{r|l}\n",
       "  & date\\\\\n",
       "\\hline\n",
       "\t1 & 2013-01-01\\\\\n",
       "\t2 & 2013-01-02\\\\\n",
       "\t3 & 2013-01-03\\\\\n",
       "\t4 & 2013-01-04\\\\\n",
       "\t5 & 2013-01-05\\\\\n",
       "\t6 & 2013-01-06\\\\\n",
       "\t7 & 2013-01-07\\\\\n",
       "\t8 & 2013-01-08\\\\\n",
       "\\end{tabular}\n"
      ],
      "text/plain": [
       "        date\n",
       "1 2013-01-01\n",
       "2 2013-01-02\n",
       "3 2013-01-03\n",
       "4 2013-01-04\n",
       "5 2013-01-05\n",
       "6 2013-01-06\n",
       "7 2013-01-07\n",
       "8 2013-01-08"
      ]
     },
     "execution_count": 41,
     "metadata": {},
     "output_type": "execute_result"
    }
   ],
   "source": [
    "newdf <- data.frame(date = seq(min(df$date), max(df$date), by = \"day\"))\n",
    "newdf"
   ]
  },
  {
   "cell_type": "markdown",
   "metadata": {},
   "source": [
    "**Merge newdf with df, then convert NA values to zeros**"
   ]
  },
  {
   "cell_type": "code",
   "execution_count": 42,
   "metadata": {
    "collapsed": false
   },
   "outputs": [
    {
     "data": {
      "text/html": [
       "<table>\n",
       "<thead><tr><th></th><th scope=col>date</th><th scope=col>qty</th></tr></thead>\n",
       "<tbody>\n",
       "\t<tr><th scope=row>1</th><td>2013-01-01</td><td>4</td></tr>\n",
       "\t<tr><th scope=row>2</th><td>2013-01-02</td><td>3</td></tr>\n",
       "\t<tr><th scope=row>3</th><td>2013-01-03</td><td>2</td></tr>\n",
       "\t<tr><th scope=row>4</th><td>2013-01-04</td><td>0</td></tr>\n",
       "\t<tr><th scope=row>5</th><td>2013-01-05</td><td>5</td></tr>\n",
       "\t<tr><th scope=row>6</th><td>2013-01-06</td><td>0</td></tr>\n",
       "\t<tr><th scope=row>7</th><td>2013-01-07</td><td>3</td></tr>\n",
       "\t<tr><th scope=row>8</th><td>2013-01-08</td><td>4</td></tr>\n",
       "</tbody>\n",
       "</table>\n"
      ],
      "text/latex": [
       "\\begin{tabular}{r|ll}\n",
       "  & date & qty\\\\\n",
       "\\hline\n",
       "\t1 & 2013-01-01 & 4\\\\\n",
       "\t2 & 2013-01-02 & 3\\\\\n",
       "\t3 & 2013-01-03 & 2\\\\\n",
       "\t4 & 2013-01-04 & 0\\\\\n",
       "\t5 & 2013-01-05 & 5\\\\\n",
       "\t6 & 2013-01-06 & 0\\\\\n",
       "\t7 & 2013-01-07 & 3\\\\\n",
       "\t8 & 2013-01-08 & 4\\\\\n",
       "\\end{tabular}\n"
      ],
      "text/plain": [
       "        date qty\n",
       "1 2013-01-01   4\n",
       "2 2013-01-02   3\n",
       "3 2013-01-03   2\n",
       "4 2013-01-04   0\n",
       "5 2013-01-05   5\n",
       "6 2013-01-06   0\n",
       "7 2013-01-07   3\n",
       "8 2013-01-08   4"
      ]
     },
     "execution_count": 42,
     "metadata": {},
     "output_type": "execute_result"
    }
   ],
   "source": [
    "df_final <- merge(newdf, df, by = \"date\", all.x = TRUE)\n",
    "df_final[is.na(df_final)] <- 0\n",
    "df_final"
   ]
  }
 ],
 "metadata": {
  "hide_input": false,
  "kernelspec": {
   "display_name": "R",
   "language": "R",
   "name": "ir"
  },
  "language_info": {
   "codemirror_mode": "r",
   "file_extension": ".r",
   "mimetype": "text/x-r-source",
   "name": "R",
   "pygments_lexer": "r",
   "version": "3.2.2"
  },
  "toc": {
   "toc_cell": false,
   "toc_number_sections": true,
   "toc_threshold": 6,
   "toc_window_display": false
  }
 },
 "nbformat": 4,
 "nbformat_minor": 0
}
