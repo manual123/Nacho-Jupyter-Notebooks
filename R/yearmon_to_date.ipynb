{
 "cells": [
  {
   "cell_type": "code",
   "execution_count": 10,
   "metadata": {
    "collapsed": false,
    "run_control": {
     "read_only": false
    }
   },
   "outputs": [
    {
     "data": {
      "text/html": [
       "<table>\n",
       "<thead><tr><th></th><th scope=col>Date</th><th scope=col>Qty</th></tr></thead>\n",
       "<tbody>\n",
       "\t<tr><th scope=row>1</th><td>2013-01</td><td>165</td></tr>\n",
       "\t<tr><th scope=row>2</th><td>2013-02</td><td>171</td></tr>\n",
       "\t<tr><th scope=row>3</th><td>2013-03</td><td>147</td></tr>\n",
       "\t<tr><th scope=row>4</th><td>2013-04</td><td>143</td></tr>\n",
       "\t<tr><th scope=row>5</th><td>2013-05</td><td>164</td></tr>\n",
       "\t<tr><th scope=row>6</th><td>2013-06</td><td>160</td></tr>\n",
       "</tbody>\n",
       "</table>\n"
      ],
      "text/latex": [
       "\\begin{tabular}{r|ll}\n",
       "  & Date & Qty\\\\\n",
       "\\hline\n",
       "\t1 & 2013-01 & 165\\\\\n",
       "\t2 & 2013-02 & 171\\\\\n",
       "\t3 & 2013-03 & 147\\\\\n",
       "\t4 & 2013-04 & 143\\\\\n",
       "\t5 & 2013-05 & 164\\\\\n",
       "\t6 & 2013-06 & 160\\\\\n",
       "\\end{tabular}\n"
      ],
      "text/plain": [
       "     Date Qty\n",
       "1 2013-01 165\n",
       "2 2013-02 171\n",
       "3 2013-03 147\n",
       "4 2013-04 143\n",
       "5 2013-05 164\n",
       "6 2013-06 160"
      ]
     },
     "execution_count": 10,
     "metadata": {},
     "output_type": "execute_result"
    }
   ],
   "source": [
    "library(zoo)\n",
    "df = read.csv(\"/home/pybokeh/Downloads/ch10/SwordDemand2.csv\",header=TRUE,stringsAsFactors=FALSE)\n",
    "head(df)"
   ]
  },
  {
   "cell_type": "code",
   "execution_count": 11,
   "metadata": {
    "collapsed": false,
    "run_control": {
     "read_only": false
    }
   },
   "outputs": [
    {
     "data": {
      "text/html": [
       "<table>\n",
       "<thead><tr><th></th><th scope=col>Date</th><th scope=col>Qty</th></tr></thead>\n",
       "<tbody>\n",
       "\t<tr><th scope=row>1</th><td>2013-01-01</td><td>165</td></tr>\n",
       "\t<tr><th scope=row>2</th><td>2013-02-01</td><td>171</td></tr>\n",
       "\t<tr><th scope=row>3</th><td>2013-03-01</td><td>147</td></tr>\n",
       "\t<tr><th scope=row>4</th><td>2013-04-01</td><td>143</td></tr>\n",
       "\t<tr><th scope=row>5</th><td>2013-05-01</td><td>164</td></tr>\n",
       "\t<tr><th scope=row>6</th><td>2013-06-01</td><td>160</td></tr>\n",
       "</tbody>\n",
       "</table>\n"
      ],
      "text/latex": [
       "\\begin{tabular}{r|ll}\n",
       "  & Date & Qty\\\\\n",
       "\\hline\n",
       "\t1 & 2013-01-01 & 165\\\\\n",
       "\t2 & 2013-02-01 & 171\\\\\n",
       "\t3 & 2013-03-01 & 147\\\\\n",
       "\t4 & 2013-04-01 & 143\\\\\n",
       "\t5 & 2013-05-01 & 164\\\\\n",
       "\t6 & 2013-06-01 & 160\\\\\n",
       "\\end{tabular}\n"
      ],
      "text/plain": [
       "        Date Qty\n",
       "1 2013-01-01 165\n",
       "2 2013-02-01 171\n",
       "3 2013-03-01 147\n",
       "4 2013-04-01 143\n",
       "5 2013-05-01 164\n",
       "6 2013-06-01 160"
      ]
     },
     "execution_count": 11,
     "metadata": {},
     "output_type": "execute_result"
    }
   ],
   "source": [
    "df$Date <- as.Date(as.yearmon(df$Date))\n",
    "head(df)"
   ]
  }
 ],
 "metadata": {
  "hide_input": false,
  "kernelspec": {
   "display_name": "R",
   "language": "R",
   "name": "ir"
  },
  "language_info": {
   "codemirror_mode": "r",
   "file_extension": ".r",
   "mimetype": "text/x-r-source",
   "name": "R",
   "pygments_lexer": "r",
   "version": "3.2.2"
  },
  "toc": {
   "toc_cell": false,
   "toc_number_sections": true,
   "toc_threshold": 6,
   "toc_window_display": false
  }
 },
 "nbformat": 4,
 "nbformat_minor": 0
}
