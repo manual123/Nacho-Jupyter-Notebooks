{
 "cells": [
  {
   "cell_type": "markdown",
   "metadata": {},
   "source": [
    "# Keyboard Shortcuts"
   ]
  },
  {
   "cell_type": "markdown",
   "metadata": {},
   "source": [
    "**NOTE:** You should be in Command Mode first (hit ESC key)<br>\n",
    "a, b       = insert cell above, below<br>\n",
    "x, c, v, z = cut, copy, paste, undo<br>\n",
    "m, y       = change cell to markdown, code<br>\n",
    "f          = find<br>\n",
    "h          = help<br>\n",
    "o          = toggle output<br>\n",
    "p          = command palette<br>"
   ]
  },
  {
   "cell_type": "markdown",
   "metadata": {},
   "source": [
    "# Magic Functions"
   ]
  },
  {
   "cell_type": "markdown",
   "metadata": {},
   "source": [
    "To output a list of all available magic commands: %lsmagic"
   ]
  },
  {
   "cell_type": "markdown",
   "metadata": {},
   "source": [
    "**%pastebin** [range of cells]<br>\n",
    "Send one or more code cells to pastebin<br>\n",
    "Example usage: %pastebin 1-3   will send/upload first 3 code cells to pastebin and will expire in 7 days"
   ]
  },
  {
   "cell_type": "markdown",
   "metadata": {},
   "source": [
    "**%whos**<br>\n",
    "Will output all the variables that you have defined"
   ]
  },
  {
   "cell_type": "markdown",
   "metadata": {},
   "source": [
    "# Copy/Paste Cells BETWEEN notebooks"
   ]
  },
  {
   "cell_type": "markdown",
   "metadata": {},
   "source": [
    "Notebook 1:<br>\n",
    "- Select multiple cells by holding down ```Shift + Up/Down``` arrow keys<br>\n",
    "- ```Ctrl + c``` (Mac: ```Cmd + c```) to copy<br><br>"
   ]
  },
  {
   "cell_type": "markdown",
   "metadata": {},
   "source": [
    "Notebook 2:<br>\n",
    "- Hit ```ESC``` to enter Command mode<br>\n",
    "    - ```Ctrl + v``` (Mac: ```Cmd + v```) to paste"
   ]
  },
  {
   "cell_type": "markdown",
   "metadata": {},
   "source": [
    "# Skip Executing Cell"
   ]
  },
  {
   "cell_type": "markdown",
   "metadata": {},
   "source": [
    "Inside a code cell:"
   ]
  },
  {
   "cell_type": "markdown",
   "metadata": {},
   "source": [
    "%%script false<br>\n",
    "\n",
    "some multiline code <br>\n",
    "that you want to skip for a time being <br>\n",
    "(e.g. work in progress) <br>\n",
    "without commenting out / deleting cell <br>\n",
    "goes here <br>"
   ]
  },
  {
   "cell_type": "markdown",
   "metadata": {},
   "source": [
    "# Useful commands for debugging purposes:"
   ]
  },
  {
   "cell_type": "markdown",
   "metadata": {},
   "source": [
    "```\n",
    "# Listing config and data paths:\n",
    "jupyter --paths\n",
    "```\n",
    "```\n",
    "# Listing location(s) of kernels:\n",
    "jupyter kernelspec list\n",
    "```"
   ]
  },
  {
   "cell_type": "markdown",
   "metadata": {},
   "source": [
    "# References"
   ]
  },
  {
   "cell_type": "markdown",
   "metadata": {},
   "source": [
    "- Beginner jupyter notebook [tutorial](https://www.dataquest.io/blog/jupyter-notebook-tutorial/)\n",
    "- Advanced jupyter notebook [tutorial](https://www.dataquest.io/blog/advanced-jupyter-notebooks-tutorial)\n",
    "- [28 Jupyter Notebook Tips and Tricks](https://www.dataquest.io/blog/jupyter-notebook-tips-tricks-shortcuts/)\n",
    "- [Some more Jupyter Notebook Tips and Tricks](https://forums.fast.ai/t/jupyter-notebook-enhancements-tips-and-tricks/17064/2)\n",
    "\n"
   ]
  }
 ],
 "metadata": {
  "hide_input": false,
  "kernelspec": {
   "display_name": "Python 3",
   "language": "python",
   "name": "python3"
  },
  "language_info": {
   "codemirror_mode": {
    "name": "ipython",
    "version": 3
   },
   "file_extension": ".py",
   "mimetype": "text/x-python",
   "name": "python",
   "nbconvert_exporter": "python",
   "pygments_lexer": "ipython3",
   "version": "3.7.2"
  }
 },
 "nbformat": 4,
 "nbformat_minor": 2
}
