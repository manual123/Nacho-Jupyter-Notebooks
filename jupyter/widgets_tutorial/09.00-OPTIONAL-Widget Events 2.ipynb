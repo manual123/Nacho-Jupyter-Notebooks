{
 "cells": [
  {
   "cell_type": "markdown",
   "metadata": {},
   "source": [
    "# *OPTIONAL* Three approaches to events"
   ]
  },
  {
   "cell_type": "markdown",
   "metadata": {},
   "source": [
    "The next series of notebooks presents three ways of handling widget events. In each of the notebooks we'll construct the same simple password generator.\n",
    "\n",
    "The first uses a mix of functions and global variables, an approach like that in the notebook introducing widget events.\n",
    "\n",
    "The second separates the logic of the password generation from the password generation user interface.\n",
    "\n",
    "The third takes that separation a step further by using a class for the user interface, a class for the logic, and a class to bring them together."
   ]
  }
 ],
 "metadata": {
  "kernelspec": {
   "display_name": "widgets-tutorial",
   "language": "python",
   "name": "widgets-tutorial"
  },
  "language_info": {
   "codemirror_mode": {
    "name": "ipython",
    "version": 3
   },
   "file_extension": ".py",
   "mimetype": "text/x-python",
   "name": "python",
   "nbconvert_exporter": "python",
   "pygments_lexer": "ipython3",
   "version": "3.7.3"
  }
 },
 "nbformat": 4,
 "nbformat_minor": 4
}
