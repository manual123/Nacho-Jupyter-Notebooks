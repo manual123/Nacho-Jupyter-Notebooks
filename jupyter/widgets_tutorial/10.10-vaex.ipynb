{
 "cells": [
  {
   "cell_type": "markdown",
   "metadata": {},
   "source": [
    "# Vaex - Out of core dataframes\n",
    " * vaex\n",
    "  * https://github.com/maartenbreddels/vaex\n",
    "  * http://vaex.io\n",
    "\n",
    "Install from conda:\n",
    "\n",
    "```\n",
    "$ conda install -c conda-forge vaex\n",
    "```\n",
    "\n",
    "or pip\n",
    "```\n",
    "$ pip install --pre vaex\n",
    "```\n",
    "\n",
    "Get some data at: https://docs.vaex.io/en/latest/datasets.html\n"
   ]
  },
  {
   "cell_type": "code",
   "execution_count": null,
   "metadata": {},
   "outputs": [],
   "source": [
    "import vaex"
   ]
  },
  {
   "cell_type": "code",
   "execution_count": null,
   "metadata": {},
   "outputs": [],
   "source": [
    "ds = vaex.open('/Users/maartenbreddels/datasets/nytaxi/nyc_taxi2015.hdf5')\n",
    "ds"
   ]
  },
  {
   "cell_type": "code",
   "execution_count": null,
   "metadata": {},
   "outputs": [],
   "source": [
    "ds.plot_widget(ds.pickup_longitude, ds.pickup_latitude, f='log', backend='ipyleaflet', shape=400)"
   ]
  },
  {
   "cell_type": "code",
   "execution_count": null,
   "metadata": {},
   "outputs": [],
   "source": [
    "ds = vaex.open(\"/Users/maartenbreddels/datasets/aquarius/Aq-A-2-999-shuffled.hdf5\")\n",
    "ds.set_active_fraction(0.1)"
   ]
  },
  {
   "cell_type": "code",
   "execution_count": null,
   "metadata": {},
   "outputs": [],
   "source": [
    "ds.plot_widget(ds.x, ds.y, f='log1p')"
   ]
  },
  {
   "cell_type": "code",
   "execution_count": null,
   "metadata": {
    "scrolled": false
   },
   "outputs": [],
   "source": [
    "ds.plot_widget(ds.x, ds.y, ds.z, backend='ipyvolume', f='log1p', shape=128, \n",
    "                       smooth_post=1)"
   ]
  }
 ],
 "metadata": {
  "kernelspec": {
   "display_name": "Python 3",
   "language": "python",
   "name": "python3"
  },
  "language_info": {
   "codemirror_mode": {
    "name": "ipython",
    "version": 3
   },
   "file_extension": ".py",
   "mimetype": "text/x-python",
   "name": "python",
   "nbconvert_exporter": "python",
   "pygments_lexer": "ipython3",
   "version": "3.6.4"
  }
 },
 "nbformat": 4,
 "nbformat_minor": 2
}
