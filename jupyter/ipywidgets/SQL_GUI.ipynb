{
 "cells": [
  {
   "cell_type": "markdown",
   "metadata": {},
   "source": [
    "# Example on creating a SQL GUI or Client using ipywidgets"
   ]
  },
  {
   "cell_type": "code",
   "execution_count": 1,
   "metadata": {
    "hide_input": true
   },
   "outputs": [],
   "source": [
    "from ipywidgets import interact, interactive, fixed, interact_manual, interactive_output\n",
    "import ipywidgets as widgets\n",
    "from IPython.display import display\n",
    "import pandas as pd\n",
    "import pyodbc"
   ]
  },
  {
   "cell_type": "code",
   "execution_count": 8,
   "metadata": {
    "hide_input": true
   },
   "outputs": [
    {
     "data": {
      "application/vnd.jupyter.widget-view+json": {
       "model_id": "d171398ced4141d0a7be3ec864b88dcf",
       "version_major": 2,
       "version_minor": 0
      },
      "text/plain": [
       "VBox(children=(VBox(children=(Text(value='', description='User Name:', placeholder=''), Password(description='…"
      ]
     },
     "metadata": {},
     "output_type": "display_data"
    },
    {
     "data": {
      "application/vnd.jupyter.widget-view+json": {
       "model_id": "b24e361431c446f785a7970bbffaf25f",
       "version_major": 2,
       "version_minor": 0
      },
      "text/plain": [
       "interactive(children=(Button(description='Run Interact', style=ButtonStyle()), Output()), _dom_classes=('widge…"
      ]
     },
     "metadata": {},
     "output_type": "display_data"
    }
   ],
   "source": [
    "# Create user name widget\n",
    "username_input = widgets.Text(\n",
    "    value='',\n",
    "    placeholder='',\n",
    "    description='User Name:',\n",
    "    disabled=False\n",
    ")\n",
    "\n",
    "# Create password widget\n",
    "password_input = widgets.Password(description='Password:', placeholder='')\n",
    "\n",
    "# Create ODBC DSN dropdown widget\n",
    "dsn_dropdown = widgets.Dropdown(\n",
    "    options=['CMQ_PROD','MMP-SQLP-WARRANTY','MMQ-SQLP-CQP','DSSOGW01','DSNOGW01','HDC-SQLP-RVMS','PCSPGW01']\n",
    ")\n",
    "\n",
    "# Create label for DSN\n",
    "dsn_label = widgets.Label(value=\"Select ODBC DSN:\")\n",
    "\n",
    "# Vertically place the user name and password input, respectively\n",
    "top_group = widgets.VBox([username_input, password_input])\n",
    "# Horizontally place the dsn label and dsn dropdown widgets, respectively\n",
    "bottom_group = widgets.HBox([dsn_label, dsn_dropdown])\n",
    "\n",
    "# Create SQL text area widget\n",
    "sql_text = widgets.Textarea(\n",
    "    value='',\n",
    "    placeholder='Enter your SQL',\n",
    "    description='SQL:',\n",
    "    disabled=False\n",
    ")\n",
    "\n",
    "# Define function to execute query with username, password entered and DSN chosen\n",
    "def getData():\n",
    "    global df\n",
    "    cnxn_string = 'DSN=' + dsn_dropdown.value + ';UID=' + username_input.value + ';PWD=' + password_input.value\n",
    "\n",
    "    with pyodbc.connect(cnxn_string) as cnxn:\n",
    "        df = pd.read_sql(sql_text.value, cnxn, index_col=None)\n",
    "        print(\"Data retrieval complete!  Data is saved as a dataframe in variable 'df'\")\n",
    "\n",
    "# Create output widget which will act as a container that will append widgets to\n",
    "out = widgets.Output()\n",
    "out.append_display_data(widgets.VBox([top_group, bottom_group, sql_text]))\n",
    "\n",
    "# Let's change the default button label from \"Run interact\" to \"Execute SQL\"\n",
    "im = interact_manual(getData)\n",
    "im.widget.manual_button.description = 'Execute SQL'\n",
    "out.append_display_data(im)\n",
    "\n",
    "# Render the output widget container\n",
    "out;"
   ]
  },
  {
   "cell_type": "code",
   "execution_count": 5,
   "metadata": {},
   "outputs": [
    {
     "data": {
      "text/html": [
       "<div>\n",
       "<style scoped>\n",
       "    .dataframe tbody tr th:only-of-type {\n",
       "        vertical-align: middle;\n",
       "    }\n",
       "\n",
       "    .dataframe tbody tr th {\n",
       "        vertical-align: top;\n",
       "    }\n",
       "\n",
       "    .dataframe thead th {\n",
       "        text-align: right;\n",
       "    }\n",
       "</style>\n",
       "<table border=\"1\" class=\"dataframe\">\n",
       "  <thead>\n",
       "    <tr style=\"text-align: right;\">\n",
       "      <th></th>\n",
       "      <th>MTO_SK</th>\n",
       "      <th>MTO_MDL_CD</th>\n",
       "      <th>SHRT_MTO_MDL_CD</th>\n",
       "      <th>MTO_TYP_CD</th>\n",
       "      <th>MTO_OPT_CD</th>\n",
       "      <th>SHRT_SLS_MDL_CD</th>\n",
       "      <th>MDL_YR</th>\n",
       "      <th>MDL_NM</th>\n",
       "      <th>DEST_CD</th>\n",
       "      <th>DEST_DESC</th>\n",
       "      <th>FCTRY_CD</th>\n",
       "      <th>FCTRY_NM</th>\n",
       "      <th>PROD_TYP_CD</th>\n",
       "      <th>LAST_UPD_TMSTMP</th>\n",
       "    </tr>\n",
       "  </thead>\n",
       "  <tbody>\n",
       "    <tr>\n",
       "      <th>0</th>\n",
       "      <td>3793</td>\n",
       "      <td>MSM1</td>\n",
       "      <td>SM1</td>\n",
       "      <td>L1</td>\n",
       "      <td></td>\n",
       "      <td>CB764M</td>\n",
       "      <td>1991</td>\n",
       "      <td>ACCORD</td>\n",
       "      <td>KL</td>\n",
       "      <td>U.S.A. - LEV, LH UNLEADED</td>\n",
       "      <td>MAP</td>\n",
       "      <td>MARYSVILLE AUTO PLANT</td>\n",
       "      <td>A</td>\n",
       "      <td>2011-01-06 00:19:16</td>\n",
       "    </tr>\n",
       "    <tr>\n",
       "      <th>1</th>\n",
       "      <td>3921</td>\n",
       "      <td>NSM5</td>\n",
       "      <td>SM5</td>\n",
       "      <td>L9</td>\n",
       "      <td></td>\n",
       "      <td>CB987N</td>\n",
       "      <td>1992</td>\n",
       "      <td>ACCORD</td>\n",
       "      <td>KL</td>\n",
       "      <td>U.S.A. - LEV, LH UNLEADED</td>\n",
       "      <td>MAP</td>\n",
       "      <td>MARYSVILLE AUTO PLANT</td>\n",
       "      <td>A</td>\n",
       "      <td>2011-01-06 00:19:16</td>\n",
       "    </tr>\n",
       "    <tr>\n",
       "      <th>2</th>\n",
       "      <td>3951</td>\n",
       "      <td>VS11</td>\n",
       "      <td>S11</td>\n",
       "      <td>M5</td>\n",
       "      <td></td>\n",
       "      <td>EJ669T</td>\n",
       "      <td>1997</td>\n",
       "      <td>CIVIC</td>\n",
       "      <td>KM</td>\n",
       "      <td>CENTRAL AND SOUTH AMERICA, LH ALCOHOL</td>\n",
       "      <td>ELP</td>\n",
       "      <td>EAST LIBERTY PLANT</td>\n",
       "      <td>A</td>\n",
       "      <td>2011-01-06 00:19:16</td>\n",
       "    </tr>\n",
       "    <tr>\n",
       "      <th>3</th>\n",
       "      <td>3939</td>\n",
       "      <td>RSV1</td>\n",
       "      <td>SV1</td>\n",
       "      <td>M4</td>\n",
       "      <td></td>\n",
       "      <td>CD554R</td>\n",
       "      <td>1994</td>\n",
       "      <td>ACCORD</td>\n",
       "      <td>KM</td>\n",
       "      <td>CENTRAL AND SOUTH AMERICA, LH ALCOHOL</td>\n",
       "      <td>MAP</td>\n",
       "      <td>MARYSVILLE AUTO PLANT</td>\n",
       "      <td>A</td>\n",
       "      <td>2011-01-06 00:19:16</td>\n",
       "    </tr>\n",
       "    <tr>\n",
       "      <th>4</th>\n",
       "      <td>3155</td>\n",
       "      <td>RSR8</td>\n",
       "      <td>SR8</td>\n",
       "      <td>R6</td>\n",
       "      <td></td>\n",
       "      <td>EJ112R</td>\n",
       "      <td>1994</td>\n",
       "      <td>CIVIC</td>\n",
       "      <td>KA</td>\n",
       "      <td>U.S.A., LH UNLEADED</td>\n",
       "      <td>HCM</td>\n",
       "      <td>HONDA CANADA MANUFACTURING</td>\n",
       "      <td>A</td>\n",
       "      <td>2011-01-06 00:19:16</td>\n",
       "    </tr>\n",
       "  </tbody>\n",
       "</table>\n",
       "</div>"
      ],
      "text/plain": [
       "   MTO_SK MTO_MDL_CD SHRT_MTO_MDL_CD MTO_TYP_CD MTO_OPT_CD SHRT_SLS_MDL_CD  \\\n",
       "0    3793       MSM1             SM1         L1                     CB764M   \n",
       "1    3921       NSM5             SM5         L9                     CB987N   \n",
       "2    3951       VS11             S11         M5                     EJ669T   \n",
       "3    3939       RSV1             SV1         M4                     CD554R   \n",
       "4    3155       RSR8             SR8         R6                     EJ112R   \n",
       "\n",
       "   MDL_YR  MDL_NM DEST_CD                              DEST_DESC FCTRY_CD  \\\n",
       "0    1991  ACCORD      KL              U.S.A. - LEV, LH UNLEADED      MAP   \n",
       "1    1992  ACCORD      KL              U.S.A. - LEV, LH UNLEADED      MAP   \n",
       "2    1997   CIVIC      KM  CENTRAL AND SOUTH AMERICA, LH ALCOHOL      ELP   \n",
       "3    1994  ACCORD      KM  CENTRAL AND SOUTH AMERICA, LH ALCOHOL      MAP   \n",
       "4    1994   CIVIC      KA                    U.S.A., LH UNLEADED      HCM   \n",
       "\n",
       "                     FCTRY_NM PROD_TYP_CD     LAST_UPD_TMSTMP  \n",
       "0       MARYSVILLE AUTO PLANT           A 2011-01-06 00:19:16  \n",
       "1       MARYSVILLE AUTO PLANT           A 2011-01-06 00:19:16  \n",
       "2          EAST LIBERTY PLANT           A 2011-01-06 00:19:16  \n",
       "3       MARYSVILLE AUTO PLANT           A 2011-01-06 00:19:16  \n",
       "4  HONDA CANADA MANUFACTURING           A 2011-01-06 00:19:16  "
      ]
     },
     "execution_count": 5,
     "metadata": {},
     "output_type": "execute_result"
    }
   ],
   "source": [
    "df.head()"
   ]
  }
 ],
 "metadata": {
  "hide_input": false,
  "kernelspec": {
   "display_name": "Python 3",
   "language": "python",
   "name": "python3"
  },
  "language_info": {
   "codemirror_mode": {
    "name": "ipython",
    "version": 3
   },
   "file_extension": ".py",
   "mimetype": "text/x-python",
   "name": "python",
   "nbconvert_exporter": "python",
   "pygments_lexer": "ipython3",
   "version": "3.7.3"
  },
  "varInspector": {
   "cols": {
    "lenName": 16,
    "lenType": 16,
    "lenVar": 40
   },
   "kernels_config": {
    "python": {
     "delete_cmd_postfix": "",
     "delete_cmd_prefix": "del ",
     "library": "var_list.py",
     "varRefreshCmd": "print(var_dic_list())"
    },
    "r": {
     "delete_cmd_postfix": ") ",
     "delete_cmd_prefix": "rm(",
     "library": "var_list.r",
     "varRefreshCmd": "cat(var_dic_list()) "
    }
   },
   "types_to_exclude": [
    "module",
    "function",
    "builtin_function_or_method",
    "instance",
    "_Feature"
   ],
   "window_display": false
  }
 },
 "nbformat": 4,
 "nbformat_minor": 2
}
