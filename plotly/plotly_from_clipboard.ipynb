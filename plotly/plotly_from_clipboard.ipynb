{
 "cells": [
  {
   "cell_type": "code",
   "execution_count": 2,
   "metadata": {
    "collapsed": false,
    "run_control": {
     "read_only": false
    }
   },
   "outputs": [],
   "source": [
    "import pandas as pd\n",
    "from plotly.offline import download_plotlyjs, init_notebook_mode, iplot\n",
    "from plotly.graph_objs import Layout\n",
    "import numpy as np\n",
    "import cufflinks as cf\n",
    "init_notebook_mode()"
   ]
  },
  {
   "cell_type": "code",
   "execution_count": 10,
   "metadata": {
    "collapsed": false
   },
   "outputs": [
    {
     "data": {
      "text/html": [
       "<div id=\"4d90aa3b-2e6c-4763-8dbc-6c89da25b8e1\" style=\"height: 500; width: 600px;\" class=\"plotly-graph-div\"></div><script type=\"text/javascript\">window.PLOTLYENV=window.PLOTLYENV || {};window.PLOTLYENV.BASE_URL=\"https://plot.ly\";Plotly.newPlot(\"4d90aa3b-2e6c-4763-8dbc-6c89da25b8e1\", [{\"name\": \"A\", \"type\": \"scatter\", \"x\": [0, 1, 2, 3, 4, 5, 6], \"line\": {\"width\": 1.3, \"dash\": \"solid\", \"color\": \"rgba(255, 153, 51, 1.0)\"}, \"y\": [\"0.00%\", \"0.18%\", \"0.22%\", \"0.30%\", \"0.35%\", \"0.60%\", \"0.68%\"], \"text\": \"\", \"mode\": \"lines\"}, {\"name\": \"B\", \"type\": \"scatter\", \"x\": [0, 1, 2, 3, 4, 5, 6], \"line\": {\"width\": 1.3, \"dash\": \"solid\", \"color\": \"rgba(55, 128, 191, 1.0)\"}, \"y\": [\"0.00%\", \"0.07%\", \"0.11%\", \"0.17%\", \"0.25%\", \"0.30%\", \"0.50%\"], \"text\": \"\", \"mode\": \"lines\"}], {\"height\": 500, \"width\": 600, \"yaxis\": {\"title\": \"Cumulative Defect Rate (%)\"}, \"xaxis\": {\"title\": \"Months From Start of Sales\"}, \"title\": \"Hard Drive Failures In the U.S. Market\"}, {\"linkText\": \"Export to plot.ly\", \"showLink\": false})</script>"
      ],
      "text/plain": [
       "<IPython.core.display.HTML object>"
      ]
     },
     "metadata": {},
     "output_type": "display_data"
    }
   ],
   "source": [
    "df = pd.read_clipboard()\n",
    "\n",
    "layout = Layout(\n",
    "            title='Hard Drive Failures In the U.S. Market',\n",
    "            xaxis=dict(\n",
    "                title='Months From Start of Sales'\n",
    "            ),\n",
    "            yaxis=dict(\n",
    "                title='Cumulative Defect Rate (%)'\n",
    "            ),\n",
    "            width=600,\n",
    "            height=500\n",
    "         )\n",
    "\n",
    "iplot(df.iplot(asFigure=True, kind='line', layout=layout), show_link=False)"
   ]
  },
  {
   "cell_type": "code",
   "execution_count": 9,
   "metadata": {
    "collapsed": false
   },
   "outputs": [
    {
     "data": {
      "text/html": [
       "<div id=\"95a6d61b-d7a1-4e39-9a7d-60102fc0302d\" style=\"height: 500; width: 600px;\" class=\"plotly-graph-div\"></div><script type=\"text/javascript\">window.PLOTLYENV=window.PLOTLYENV || {};window.PLOTLYENV.BASE_URL=\"https://plot.ly\";Plotly.newPlot(\"95a6d61b-d7a1-4e39-9a7d-60102fc0302d\", [{\"name\": \"A\", \"type\": \"bar\", \"x\": [\"2014-01\", \"2014-02\", \"2014-03\", \"2014-04\", \"2014-05\", \"2014-06\", \"2014-07\", \"2014-08\", \"2014-09\", \"2014-10\", \"2014-11\", \"2014-12\"], \"y\": [\"0.43%\", \"0.37%\", \"0.33%\", \"0.30%\", \"0.28%\", \"0.25%\", \"0.22%\", \"\", \"\", \"\", \"\", \"\"], \"marker\": {\"line\": {\"width\": 1, \"color\": \"rgba(255, 153, 51, 1.0)\"}, \"color\": \"rgba(255, 153, 51, 0.6)\"}, \"orientation\": \"v\", \"text\": \"\"}, {\"name\": \"B\", \"type\": \"bar\", \"x\": [\"2014-01\", \"2014-02\", \"2014-03\", \"2014-04\", \"2014-05\", \"2014-06\", \"2014-07\", \"2014-08\", \"2014-09\", \"2014-10\", \"2014-11\", \"2014-12\"], \"y\": [\"\", \"\", \"\", \"\", \"\", \"\", \"\", \"0.21%\", \"0.19%\", \"0.10%\", \"0.07%\", \"0.03%\"], \"marker\": {\"line\": {\"width\": 1, \"color\": \"rgba(55, 128, 191, 1.0)\"}, \"color\": \"rgba(55, 128, 191, 0.6)\"}, \"orientation\": \"v\", \"text\": \"\"}], {\"height\": 500, \"width\": 600, \"yaxis\": {\"title\": \"Defect Rate (%)\"}, \"xaxis\": {\"title\": \"Vehicle Build Month\"}, \"title\": \"Defect Rate vs Vehicle Build Month\"}, {\"linkText\": \"Export to plot.ly\", \"showLink\": false})</script>"
      ],
      "text/plain": [
       "<IPython.core.display.HTML object>"
      ]
     },
     "metadata": {},
     "output_type": "display_data"
    }
   ],
   "source": [
    "df = pd.read_clipboard(index_col=0)\n",
    "\n",
    "layout = Layout(\n",
    "            title='Defect Rate vs Vehicle Build Month',\n",
    "            xaxis=dict(\n",
    "                title='Vehicle Build Month'\n",
    "            ),\n",
    "            yaxis=dict(\n",
    "                title='Defect Rate (%)'\n",
    "            ),\n",
    "            width=600,\n",
    "            height=500\n",
    "         )\n",
    "\n",
    "iplot(df.iplot(asFigure=True, kind='bar', layout=layout), show_link=False)"
   ]
  },
  {
   "cell_type": "code",
   "execution_count": 11,
   "metadata": {
    "collapsed": false
   },
   "outputs": [
    {
     "data": {
      "text/html": [
       "<div id=\"16d1b63c-b3aa-48ce-b0e3-afe4f978a5fd\" style=\"height: 550; width: 800px;\" class=\"plotly-graph-div\"></div><script type=\"text/javascript\">window.PLOTLYENV=window.PLOTLYENV || {};window.PLOTLYENV.BASE_URL=\"https://plot.ly\";Plotly.newPlot(\"16d1b63c-b3aa-48ce-b0e3-afe4f978a5fd\", [{\"marker\": {\"line\": {\"width\": 2, \"color\": \"rgb(255,255,255)\"}}, \"colorscale\": [[0.0, \"rgb(241,238,246)\"], [0.2, \"rgb(212,185,218)\"], [0.4, \"rgb(201,148,199)\"], [0.6, \"rgb(223,101,176)\"], [0.8, \"rgb(221,28,119)\"], [1.0, \"rgb(152,0,67)\"]], \"colorbar\": {\"title\": \"Defect %\"}, \"type\": \"choropleth\", \"locationmode\": \"USA-states\", \"autocolorscale\": false, \"text\": [\"Defect %\", \"Defect %\", \"Defect %\", \"Defect %\", \"Defect %\", \"Defect %\", \"Defect %\", \"Defect %\", \"Defect %\", \"Defect %\", \"Defect %\", \"Defect %\", \"Defect %\", \"Defect %\", \"Defect %\", \"Defect %\", \"Defect %\", \"Defect %\", \"Defect %\", \"Defect %\", \"Defect %\", \"Defect %\", \"Defect %\", \"Defect %\", \"Defect %\", \"Defect %\", \"Defect %\", \"Defect %\", \"Defect %\", \"Defect %\", \"Defect %\", \"Defect %\", \"Defect %\", \"Defect %\", \"Defect %\", \"Defect %\", \"Defect %\", \"Defect %\", \"Defect %\", \"Defect %\", \"Defect %\", \"Defect %\", \"Defect %\", \"Defect %\", \"Defect %\", \"Defect %\", \"Defect %\", \"Defect %\", \"Defect %\", \"Defect %\", \"Defect %\"], \"z\": [0.12, 0.6, 0.6, 0.55, 0.17, 0.25, 0.3, 0.2, 0.18, 0.6, 0.55, 0.6, 0.1, 0.12, 0.22, 0.24, 0.36, 0.33, 0.6, 0.22, 0.3, 0.35, 0.13, 0.07, 0.7, 0.72, 0.22, 0.5, 0.35, 0.6, 0.11, 0.25, 0.3, 0.5, 0.18, 0.22, 0.3, 0.35, 0.23, 0.15, 0.55, 0.24, 0.18, 0.7, 0.35, 0.3, 0.12, 0.18, 0.22, 0.18, 0.3], \"locations\": [\"AK\", \"AL\", \"AR\", \"AZ\", \"CA\", \"CO\", \"CT\", \"DC\", \"DE\", \"FL\", \"GA\", \"HI\", \"IA\", \"ID\", \"IL\", \"IN\", \"KS\", \"KY\", \"LA\", \"MA\", \"MD\", \"ME\", \"MI\", \"MN\", \"MO\", \"MS\", \"MT\", \"NC\", \"ND\", \"NE\", \"NH\", \"NJ\", \"NM\", \"NV\", \"NY\", \"OH\", \"OK\", \"OR\", \"PA\", \"RI\", \"SC\", \"SD\", \"TN\", \"TX\", \"UT\", \"VA\", \"VT\", \"WA\", \"WI\", \"WV\", \"WY\"]}], {\"height\": 550, \"width\": 800, \"geo\": {\"lakecolor\": \"rgb(255, 255, 255)\", \"showlakes\": true, \"projection\": {\"type\": \"albers usa\"}, \"scope\": \"usa\"}, \"title\": \"Hard Drive Failures\"}, {\"linkText\": \"Export to plot.ly\", \"showLink\": false})</script>"
      ],
      "text/plain": [
       "<IPython.core.display.HTML object>"
      ]
     },
     "metadata": {},
     "output_type": "display_data"
    }
   ],
   "source": [
    "df = pd.read_clipboard()\n",
    "df.VALUE = df.VALUE.str.replace('%','')\n",
    "\n",
    "for col in df.columns:\n",
    "    df[col] = df[col].astype(str)\n",
    "\n",
    "# Go here to choose other colors: http://colorbrewer2.org/  # of classes=6, sequential, rgb\n",
    "scl = [[0.0, 'rgb(241,238,246)'],[0.2, 'rgb(212,185,218)'],[0.4, 'rgb(201,148,199)'],\\\n",
    "            [0.6, 'rgb(223,101,176)'],[0.8, 'rgb(221,28,119)'],[1.0, 'rgb(152,0,67)']]\n",
    "\n",
    "df['text'] = \"Defect %\"\n",
    "\n",
    "data = [ dict(\n",
    "        type='choropleth',\n",
    "        colorscale = scl,\n",
    "        autocolorscale = False,\n",
    "        locations = df['STATECD'],\n",
    "        z = df['VALUE'].astype(float),\n",
    "        locationmode = 'USA-states',\n",
    "        text = df['text'],\n",
    "        marker = dict(\n",
    "            line = dict (\n",
    "                color = 'rgb(255,255,255)',\n",
    "                width = 2\n",
    "            )\n",
    "        ),\n",
    "        colorbar = dict(\n",
    "            title = \"Defect %\"\n",
    "        )\n",
    "    ) ]\n",
    "\n",
    "layout = dict(\n",
    "        title = 'Hard Drive Failures',\n",
    "        geo = dict(\n",
    "            scope='usa',\n",
    "            projection=dict( type='albers usa' ),\n",
    "            showlakes = True,\n",
    "            lakecolor = 'rgb(255, 255, 255)',\n",
    "        ),\n",
    "        width=800,\n",
    "        height=550\n",
    "    )\n",
    "   \n",
    "fig = dict( data=data, layout=layout )\n",
    "\n",
    "iplot(fig, show_link=False )"
   ]
  }
 ],
 "metadata": {
  "hide_input": false,
  "kernelspec": {
   "display_name": "Python 3",
   "language": "python",
   "name": "python3"
  },
  "language_info": {
   "codemirror_mode": {
    "name": "ipython",
    "version": 3
   },
   "file_extension": ".py",
   "mimetype": "text/x-python",
   "name": "python",
   "nbconvert_exporter": "python",
   "pygments_lexer": "ipython3",
   "version": "3.5.1"
  }
 },
 "nbformat": 4,
 "nbformat_minor": 0
}
