{
 "cells": [
  {
   "cell_type": "code",
   "execution_count": 8,
   "metadata": {
    "collapsed": false,
    "run_control": {
     "read_only": false
    }
   },
   "outputs": [],
   "source": [
    "import pandas as pd\n",
    "from plotly.offline import download_plotlyjs, init_notebook_mode, iplot\n",
    "init_notebook_mode()"
   ]
  },
  {
   "cell_type": "markdown",
   "metadata": {},
   "source": [
    "### Read hard drive failure rates data from clipboard"
   ]
  },
  {
   "cell_type": "code",
   "execution_count": 22,
   "metadata": {
    "collapsed": true
   },
   "outputs": [],
   "source": [
    "df = pd.read_clipboard()"
   ]
  },
  {
   "cell_type": "markdown",
   "metadata": {},
   "source": [
    "### Sneak peak at the data"
   ]
  },
  {
   "cell_type": "code",
   "execution_count": 23,
   "metadata": {
    "collapsed": false
   },
   "outputs": [
    {
     "data": {
      "text/html": [
       "<div>\n",
       "<table border=\"1\" class=\"dataframe\">\n",
       "  <thead>\n",
       "    <tr style=\"text-align: right;\">\n",
       "      <th></th>\n",
       "      <th>STATECD</th>\n",
       "      <th>VALUE</th>\n",
       "    </tr>\n",
       "  </thead>\n",
       "  <tbody>\n",
       "    <tr>\n",
       "      <th>0</th>\n",
       "      <td>AK</td>\n",
       "      <td>0.12%</td>\n",
       "    </tr>\n",
       "    <tr>\n",
       "      <th>1</th>\n",
       "      <td>AL</td>\n",
       "      <td>0.60%</td>\n",
       "    </tr>\n",
       "    <tr>\n",
       "      <th>2</th>\n",
       "      <td>AR</td>\n",
       "      <td>0.60%</td>\n",
       "    </tr>\n",
       "    <tr>\n",
       "      <th>3</th>\n",
       "      <td>AZ</td>\n",
       "      <td>0.55%</td>\n",
       "    </tr>\n",
       "    <tr>\n",
       "      <th>4</th>\n",
       "      <td>CA</td>\n",
       "      <td>0.17%</td>\n",
       "    </tr>\n",
       "  </tbody>\n",
       "</table>\n",
       "</div>"
      ],
      "text/plain": [
       "  STATECD  VALUE\n",
       "0      AK  0.12%\n",
       "1      AL  0.60%\n",
       "2      AR  0.60%\n",
       "3      AZ  0.55%\n",
       "4      CA  0.17%"
      ]
     },
     "execution_count": 23,
     "metadata": {},
     "output_type": "execute_result"
    }
   ],
   "source": [
    "df.head()"
   ]
  },
  {
   "cell_type": "markdown",
   "metadata": {},
   "source": [
    "### Remove percent symbol and convert \"VALUE\" column as float type"
   ]
  },
  {
   "cell_type": "code",
   "execution_count": 24,
   "metadata": {
    "collapsed": true
   },
   "outputs": [],
   "source": [
    "df.VALUE = df.VALUE.str.replace('%','')\n",
    "df.VALUE = df.VALUE.astype(float)"
   ]
  },
  {
   "cell_type": "markdown",
   "metadata": {},
   "source": [
    "### States with highest hard drive failures"
   ]
  },
  {
   "cell_type": "code",
   "execution_count": 26,
   "metadata": {
    "collapsed": false
   },
   "outputs": [
    {
     "data": {
      "text/html": [
       "<div>\n",
       "<table border=\"1\" class=\"dataframe\">\n",
       "  <thead>\n",
       "    <tr style=\"text-align: right;\">\n",
       "      <th></th>\n",
       "      <th>STATECD</th>\n",
       "      <th>VALUE</th>\n",
       "    </tr>\n",
       "  </thead>\n",
       "  <tbody>\n",
       "    <tr>\n",
       "      <th>25</th>\n",
       "      <td>MS</td>\n",
       "      <td>0.72</td>\n",
       "    </tr>\n",
       "    <tr>\n",
       "      <th>43</th>\n",
       "      <td>TX</td>\n",
       "      <td>0.70</td>\n",
       "    </tr>\n",
       "    <tr>\n",
       "      <th>24</th>\n",
       "      <td>MO</td>\n",
       "      <td>0.70</td>\n",
       "    </tr>\n",
       "    <tr>\n",
       "      <th>18</th>\n",
       "      <td>LA</td>\n",
       "      <td>0.60</td>\n",
       "    </tr>\n",
       "    <tr>\n",
       "      <th>29</th>\n",
       "      <td>NE</td>\n",
       "      <td>0.60</td>\n",
       "    </tr>\n",
       "    <tr>\n",
       "      <th>9</th>\n",
       "      <td>FL</td>\n",
       "      <td>0.60</td>\n",
       "    </tr>\n",
       "    <tr>\n",
       "      <th>11</th>\n",
       "      <td>HI</td>\n",
       "      <td>0.60</td>\n",
       "    </tr>\n",
       "    <tr>\n",
       "      <th>2</th>\n",
       "      <td>AR</td>\n",
       "      <td>0.60</td>\n",
       "    </tr>\n",
       "    <tr>\n",
       "      <th>1</th>\n",
       "      <td>AL</td>\n",
       "      <td>0.60</td>\n",
       "    </tr>\n",
       "    <tr>\n",
       "      <th>40</th>\n",
       "      <td>SC</td>\n",
       "      <td>0.55</td>\n",
       "    </tr>\n",
       "  </tbody>\n",
       "</table>\n",
       "</div>"
      ],
      "text/plain": [
       "   STATECD  VALUE\n",
       "25      MS   0.72\n",
       "43      TX   0.70\n",
       "24      MO   0.70\n",
       "18      LA   0.60\n",
       "29      NE   0.60\n",
       "9       FL   0.60\n",
       "11      HI   0.60\n",
       "2       AR   0.60\n",
       "1       AL   0.60\n",
       "40      SC   0.55"
      ]
     },
     "execution_count": 26,
     "metadata": {},
     "output_type": "execute_result"
    }
   ],
   "source": [
    "df.sort_values(by='VALUE', ascending=False).head(10)"
   ]
  },
  {
   "cell_type": "code",
   "execution_count": 27,
   "metadata": {
    "collapsed": false,
    "run_control": {
     "read_only": false
    }
   },
   "outputs": [
    {
     "data": {
      "text/html": [
       "<div id=\"587fc939-102d-40ca-9268-e887a2c31a4f\" style=\"height: 550; width: 800px;\" class=\"plotly-graph-div\"></div><script type=\"text/javascript\">window.PLOTLYENV=window.PLOTLYENV || {};window.PLOTLYENV.BASE_URL=\"https://plot.ly\";Plotly.newPlot(\"587fc939-102d-40ca-9268-e887a2c31a4f\", [{\"locationmode\": \"USA-states\", \"text\": [\"Defect %\", \"Defect %\", \"Defect %\", \"Defect %\", \"Defect %\", \"Defect %\", \"Defect %\", \"Defect %\", \"Defect %\", \"Defect %\", \"Defect %\", \"Defect %\", \"Defect %\", \"Defect %\", \"Defect %\", \"Defect %\", \"Defect %\", \"Defect %\", \"Defect %\", \"Defect %\", \"Defect %\", \"Defect %\", \"Defect %\", \"Defect %\", \"Defect %\", \"Defect %\", \"Defect %\", \"Defect %\", \"Defect %\", \"Defect %\", \"Defect %\", \"Defect %\", \"Defect %\", \"Defect %\", \"Defect %\", \"Defect %\", \"Defect %\", \"Defect %\", \"Defect %\", \"Defect %\", \"Defect %\", \"Defect %\", \"Defect %\", \"Defect %\", \"Defect %\", \"Defect %\", \"Defect %\", \"Defect %\", \"Defect %\", \"Defect %\", \"Defect %\"], \"autocolorscale\": false, \"z\": [0.12, 0.6, 0.6, 0.55, 0.17, 0.25, 0.3, 0.2, 0.18, 0.6, 0.55, 0.6, 0.1, 0.12, 0.22, 0.24, 0.36, 0.33, 0.6, 0.22, 0.3, 0.35, 0.13, 0.07, 0.7, 0.72, 0.22, 0.5, 0.35, 0.6, 0.11, 0.25, 0.3, 0.5, 0.18, 0.22, 0.3, 0.35, 0.23, 0.15, 0.55, 0.24, 0.18, 0.7, 0.35, 0.3, 0.12, 0.18, 0.22, 0.18, 0.3], \"marker\": {\"line\": {\"color\": \"rgb(255,255,255)\", \"width\": 2}}, \"colorscale\": [[0.0, \"rgb(241,238,246)\"], [0.2, \"rgb(212,185,218)\"], [0.4, \"rgb(201,148,199)\"], [0.6, \"rgb(223,101,176)\"], [0.8, \"rgb(221,28,119)\"], [1.0, \"rgb(152,0,67)\"]], \"type\": \"choropleth\", \"colorbar\": {\"title\": \"Defect %\"}, \"locations\": [\"AK\", \"AL\", \"AR\", \"AZ\", \"CA\", \"CO\", \"CT\", \"DC\", \"DE\", \"FL\", \"GA\", \"HI\", \"IA\", \"ID\", \"IL\", \"IN\", \"KS\", \"KY\", \"LA\", \"MA\", \"MD\", \"ME\", \"MI\", \"MN\", \"MO\", \"MS\", \"MT\", \"NC\", \"ND\", \"NE\", \"NH\", \"NJ\", \"NM\", \"NV\", \"NY\", \"OH\", \"OK\", \"OR\", \"PA\", \"RI\", \"SC\", \"SD\", \"TN\", \"TX\", \"UT\", \"VA\", \"VT\", \"WA\", \"WI\", \"WV\", \"WY\"]}], {\"height\": 550, \"title\": \"Hard Drive Failures\", \"geo\": {\"showlakes\": true, \"lakecolor\": \"rgb(255, 255, 255)\", \"projection\": {\"type\": \"albers usa\"}, \"scope\": \"usa\"}, \"width\": 800}, {\"showLink\": false, \"linkText\": \"Export to plot.ly\"})</script>"
      ],
      "text/plain": [
       "<IPython.core.display.HTML object>"
      ]
     },
     "metadata": {},
     "output_type": "display_data"
    }
   ],
   "source": [
    "# Go here to choose other colors: http://colorbrewer2.org/  # of classes=6, sequential, rgb\n",
    "scl = [[0.0, 'rgb(241,238,246)'],[0.2, 'rgb(212,185,218)'],[0.4, 'rgb(201,148,199)'],\\\n",
    "            [0.6, 'rgb(223,101,176)'],[0.8, 'rgb(221,28,119)'],[1.0, 'rgb(152,0,67)']]\n",
    "\n",
    "df['text'] = \"Defect %\"\n",
    "\n",
    "data = [ dict(\n",
    "        type='choropleth',\n",
    "        colorscale = scl,\n",
    "        autocolorscale = False,\n",
    "        locations = df['STATECD'],\n",
    "        z = df['VALUE'].astype(float),  # Ensure it is a numeric type\n",
    "        locationmode = 'USA-states',\n",
    "        text = df['text'],\n",
    "        marker = dict(\n",
    "            line = dict (\n",
    "                color = 'rgb(255,255,255)',  # white lines\n",
    "                width = 2\n",
    "            )\n",
    "        ),\n",
    "        colorbar = dict(\n",
    "            title = \"Defect %\"\n",
    "        )\n",
    "    ) ]\n",
    "\n",
    "layout = dict(\n",
    "        title = 'Hard Drive Failures',\n",
    "        geo = dict(\n",
    "            scope='usa',\n",
    "            projection=dict( type='albers usa' ),\n",
    "            showlakes = True,\n",
    "            lakecolor = 'rgb(255, 255, 255)',  # white color lakes\n",
    "        ),\n",
    "        width=800,\n",
    "        height=550\n",
    "    )\n",
    "   \n",
    "fig = dict( data=data, layout=layout )\n",
    "\n",
    "iplot(fig, show_link=False )"
   ]
  },
  {
   "cell_type": "markdown",
   "metadata": {},
   "source": [
    "### Make this into a function"
   ]
  },
  {
   "cell_type": "code",
   "execution_count": 29,
   "metadata": {
    "collapsed": false
   },
   "outputs": [],
   "source": [
    "def state_choropleth(df, title='State Choropleth'):\n",
    "    \"\"\"df = dataframe, title=your desired title\"\"\"\n",
    "    \n",
    "    # Go here to choose other colors: http://colorbrewer2.org/  # of classes=6, sequential, rgb\n",
    "    scl = [[0.0, 'rgb(241,238,246)'],[0.2, 'rgb(212,185,218)'],[0.4, 'rgb(201,148,199)'],\\\n",
    "                [0.6, 'rgb(223,101,176)'],[0.8, 'rgb(221,28,119)'],[1.0, 'rgb(152,0,67)']]\n",
    "\n",
    "    df['text'] = \"Defect %\"\n",
    "\n",
    "    data = [ dict(\n",
    "            type='choropleth',\n",
    "            colorscale = scl,\n",
    "            autocolorscale = False,\n",
    "            locations = df['STATECD'],\n",
    "            z = df['VALUE'].astype(float),  # Ensure it is a numeric type\n",
    "            locationmode = 'USA-states',\n",
    "            text = df['text'],\n",
    "            marker = dict(\n",
    "                line = dict (\n",
    "                    color = 'rgb(255,255,255)',  # white lines\n",
    "                    width = 2\n",
    "                )\n",
    "            ),\n",
    "            colorbar = dict(\n",
    "                title = \"Defect %\"\n",
    "            )\n",
    "        ) ]\n",
    "\n",
    "    layout = dict(\n",
    "            title = 'Hard Drive Failures',\n",
    "            geo = dict(\n",
    "                scope='usa',\n",
    "                projection=dict( type='albers usa' ),\n",
    "                showlakes = True,\n",
    "                lakecolor = 'rgb(255, 255, 255)',  # white color lakes\n",
    "            ),\n",
    "            width=800,\n",
    "            height=550\n",
    "        )\n",
    "       \n",
    "    fig = dict( data=data, layout=layout )\n",
    "\n",
    "    iplot(fig, show_link=False )"
   ]
  },
  {
   "cell_type": "code",
   "execution_count": 30,
   "metadata": {
    "collapsed": true
   },
   "outputs": [],
   "source": [
    "df = pd.read_clipboard()\n",
    "df.VALUE = df.VALUE.str.replace('%','')\n"
   ]
  },
  {
   "cell_type": "code",
   "execution_count": 31,
   "metadata": {
    "collapsed": false
   },
   "outputs": [
    {
     "data": {
      "text/html": [
       "<div id=\"4b4bd87c-3e69-4eb5-9063-d077883b2949\" style=\"height: 550; width: 800px;\" class=\"plotly-graph-div\"></div><script type=\"text/javascript\">window.PLOTLYENV=window.PLOTLYENV || {};window.PLOTLYENV.BASE_URL=\"https://plot.ly\";Plotly.newPlot(\"4b4bd87c-3e69-4eb5-9063-d077883b2949\", [{\"locationmode\": \"USA-states\", \"text\": [\"Defect %\", \"Defect %\", \"Defect %\", \"Defect %\", \"Defect %\", \"Defect %\", \"Defect %\", \"Defect %\", \"Defect %\", \"Defect %\", \"Defect %\", \"Defect %\", \"Defect %\", \"Defect %\", \"Defect %\", \"Defect %\", \"Defect %\", \"Defect %\", \"Defect %\", \"Defect %\", \"Defect %\", \"Defect %\", \"Defect %\", \"Defect %\", \"Defect %\", \"Defect %\", \"Defect %\", \"Defect %\", \"Defect %\", \"Defect %\", \"Defect %\", \"Defect %\", \"Defect %\", \"Defect %\", \"Defect %\", \"Defect %\", \"Defect %\", \"Defect %\", \"Defect %\", \"Defect %\", \"Defect %\", \"Defect %\", \"Defect %\", \"Defect %\", \"Defect %\", \"Defect %\", \"Defect %\", \"Defect %\", \"Defect %\", \"Defect %\", \"Defect %\"], \"autocolorscale\": false, \"z\": [0.12, 0.6, 0.6, 0.55, 0.17, 0.25, 0.3, 0.2, 0.18, 0.6, 0.55, 0.6, 0.1, 0.12, 0.22, 0.24, 0.36, 0.33, 0.6, 0.22, 0.3, 0.35, 0.13, 0.07, 0.7, 0.72, 0.22, 0.5, 0.35, 0.6, 0.11, 0.25, 0.3, 0.5, 0.18, 0.22, 0.3, 0.35, 0.23, 0.15, 0.55, 0.24, 0.18, 0.7, 0.35, 0.3, 0.12, 0.18, 0.22, 0.18, 0.3], \"marker\": {\"line\": {\"color\": \"rgb(255,255,255)\", \"width\": 2}}, \"colorscale\": [[0.0, \"rgb(241,238,246)\"], [0.2, \"rgb(212,185,218)\"], [0.4, \"rgb(201,148,199)\"], [0.6, \"rgb(223,101,176)\"], [0.8, \"rgb(221,28,119)\"], [1.0, \"rgb(152,0,67)\"]], \"type\": \"choropleth\", \"colorbar\": {\"title\": \"Defect %\"}, \"locations\": [\"AK\", \"AL\", \"AR\", \"AZ\", \"CA\", \"CO\", \"CT\", \"DC\", \"DE\", \"FL\", \"GA\", \"HI\", \"IA\", \"ID\", \"IL\", \"IN\", \"KS\", \"KY\", \"LA\", \"MA\", \"MD\", \"ME\", \"MI\", \"MN\", \"MO\", \"MS\", \"MT\", \"NC\", \"ND\", \"NE\", \"NH\", \"NJ\", \"NM\", \"NV\", \"NY\", \"OH\", \"OK\", \"OR\", \"PA\", \"RI\", \"SC\", \"SD\", \"TN\", \"TX\", \"UT\", \"VA\", \"VT\", \"WA\", \"WI\", \"WV\", \"WY\"]}], {\"height\": 550, \"title\": \"Hard Drive Failures\", \"geo\": {\"showlakes\": true, \"lakecolor\": \"rgb(255, 255, 255)\", \"projection\": {\"type\": \"albers usa\"}, \"scope\": \"usa\"}, \"width\": 800}, {\"showLink\": false, \"linkText\": \"Export to plot.ly\"})</script>"
      ],
      "text/plain": [
       "<IPython.core.display.HTML object>"
      ]
     },
     "metadata": {},
     "output_type": "display_data"
    }
   ],
   "source": [
    "state_choropleth(df, 'Hard Drive Failures')"
   ]
  }
 ],
 "metadata": {
  "hide_input": false,
  "kernelspec": {
   "display_name": "Python 3",
   "language": "python",
   "name": "python3"
  },
  "language_info": {
   "codemirror_mode": {
    "name": "ipython",
    "version": 3
   },
   "file_extension": ".py",
   "mimetype": "text/x-python",
   "name": "python",
   "nbconvert_exporter": "python",
   "pygments_lexer": "ipython3",
   "version": "3.5.1"
  }
 },
 "nbformat": 4,
 "nbformat_minor": 0
}
