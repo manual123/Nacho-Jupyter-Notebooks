{
 "cells": [
  {
   "cell_type": "code",
   "execution_count": 2,
   "metadata": {
    "collapsed": false
   },
   "outputs": [
    {
     "data": {
      "text/plain": [
       "False"
      ]
     },
     "execution_count": 2,
     "metadata": {},
     "output_type": "execute_result"
    }
   ],
   "source": [
    "import sys\n",
    "sys.version_info < (3,)"
   ]
  },
  {
   "cell_type": "code",
   "execution_count": 3,
   "metadata": {
    "collapsed": false
   },
   "outputs": [
    {
     "name": "stdout",
     "output_type": "stream",
     "text": [
      "Help on built-in function exit in module sys:\n",
      "\n",
      "exit(...)\n",
      "    exit([status])\n",
      "    \n",
      "    Exit the interpreter by raising SystemExit(status).\n",
      "    If the status is omitted or None, it defaults to zero (i.e., success).\n",
      "    If the status is an integer, it will be used as the system exit status.\n",
      "    If it is another kind of object, it will be printed and the system\n",
      "    exit status will be one (i.e., failure).\n",
      "\n"
     ]
    }
   ],
   "source": [
    "help(sys.exit)"
   ]
  },
  {
   "cell_type": "code",
   "execution_count": 44,
   "metadata": {
    "collapsed": true
   },
   "outputs": [],
   "source": [
    "import remi.gui as gui\n",
    "from remi import start, App"
   ]
  },
  {
   "cell_type": "code",
   "execution_count": 47,
   "metadata": {
    "collapsed": false
   },
   "outputs": [
    {
     "name": "stdout",
     "output_type": "stream",
     "text": [
      "Help on class TextInput in module remi.gui:\n",
      "\n",
      "class TextInput(Widget)\n",
      " |  multiline text area widget implements the onclick event.\n",
      " |  \n",
      " |  Method resolution order:\n",
      " |      TextInput\n",
      " |      Widget\n",
      " |      Tag\n",
      " |      builtins.object\n",
      " |  \n",
      " |  Methods defined here:\n",
      " |  \n",
      " |  __init__(self, w, h, single_line=True)\n",
      " |  \n",
      " |  get_text(self)\n",
      " |  \n",
      " |  get_value(self)\n",
      " |  \n",
      " |  onchange(self, newValue)\n",
      " |      returns the new text value.\n",
      " |  \n",
      " |  onclick(self)\n",
      " |  \n",
      " |  onenter(self, newValue)\n",
      " |      returns the new text value.\n",
      " |  \n",
      " |  onkeydown(self, newValue)\n",
      " |      returns the new text value.\n",
      " |  \n",
      " |  set_on_change_listener(self, listener, funcname)\n",
      " |      register the listener for the onchange event.\n",
      " |  \n",
      " |  set_on_click_listener(self, listener, funcname)\n",
      " |  \n",
      " |  set_on_enter_listener(self, listener, funcname)\n",
      " |  \n",
      " |  set_on_key_down_listener(self, listener, funcname)\n",
      " |  \n",
      " |  set_text(self, t)\n",
      " |      sets the text content.\n",
      " |  \n",
      " |  set_value(self, t)\n",
      " |  \n",
      " |  ----------------------------------------------------------------------\n",
      " |  Methods inherited from Widget:\n",
      " |  \n",
      " |  append(self, key, value)\n",
      " |      it allows to add child widgets to this.\n",
      " |      \n",
      " |      The key can be everything you want, in order to access to the\n",
      " |      specific child in this way 'widget.children[key]'.\n",
      " |  \n",
      " |  hide(self)\n",
      " |      The root window is restored after a show\n",
      " |  \n",
      " |  onblur(self)\n",
      " |  \n",
      " |  onfocus(self)\n",
      " |  \n",
      " |  repr(self, client, include_children=True)\n",
      " |      it is used to automatically represent the widget to HTML format\n",
      " |      packs all the attributes, children and so on.\n",
      " |  \n",
      " |  set_on_blur_listener(self, listener, funcname)\n",
      " |  \n",
      " |  set_on_focus_listener(self, listener, funcname)\n",
      " |  \n",
      " |  show(self, baseAppInstance)\n",
      " |      Allows to show the widget as root window\n",
      " |  \n",
      " |  ----------------------------------------------------------------------\n",
      " |  Data and other attributes inherited from Widget:\n",
      " |  \n",
      " |  LAYOUT_HORIZONTAL = True\n",
      " |  \n",
      " |  LAYOUT_VERTICAL = False\n",
      " |  \n",
      " |  ----------------------------------------------------------------------\n",
      " |  Methods inherited from Tag:\n",
      " |  \n",
      " |  __setitem__(self, key, value)\n",
      " |      it is used for fast access to 'self.attributes[]'.\n",
      " |  \n",
      " |  remove(self, child)\n",
      " |  \n",
      " |  ----------------------------------------------------------------------\n",
      " |  Data descriptors inherited from Tag:\n",
      " |  \n",
      " |  __dict__\n",
      " |      dictionary for instance variables (if defined)\n",
      " |  \n",
      " |  __weakref__\n",
      " |      list of weak references to the object (if defined)\n",
      "\n"
     ]
    }
   ],
   "source": [
    "help(gui.TextInput)"
   ]
  },
  {
   "cell_type": "code",
   "execution_count": 34,
   "metadata": {
    "collapsed": false
   },
   "outputs": [
    {
     "name": "stderr",
     "output_type": "stream",
     "text": [
      "Indexing schema. This will take a second...finished!\n"
     ]
    }
   ],
   "source": [
    "import pandas as pd\n",
    "from db import DB\n",
    "\n",
    "db = DB(filename=\"/home/pybokeh/Dropbox/data_sets/nba\", dbtype=\"sqlite\")\n",
    "\n",
    "sql = \"\"\"\n",
    "        select *\n",
    "\n",
    "        from player_game_stats\n",
    "\n",
    "        where\n",
    "        team_name like '{{ name }}';\"\"\"\n",
    "\n",
    "token = 'Cav'\n",
    "\n",
    "parameter = '%' + token + '%'\n",
    "\n",
    "params = [\n",
    "          {\"name\": parameter}\n",
    "         ]\n",
    "\n",
    "row_data = db.query(sql, data=params).values"
   ]
  },
  {
   "cell_type": "code",
   "execution_count": 43,
   "metadata": {
    "collapsed": false
   },
   "outputs": [
    {
     "data": {
      "text/plain": [
       "array([510, 'Shawn Marion, SF', 'Cleveland Cavaliers', 30, 22, 23.1, 5.6,\n",
       "       1.0, 2.5, 3.5, 1.1, 0.63, 0.73, 0.7, 1.1, 1.5, 10.6], dtype=object)"
      ]
     },
     "execution_count": 43,
     "metadata": {},
     "output_type": "execute_result"
    }
   ],
   "source": [
    "row_data[0]"
   ]
  }
 ],
 "metadata": {
  "kernelspec": {
   "display_name": "Python 3",
   "language": "python",
   "name": "python3"
  },
  "language_info": {
   "codemirror_mode": {
    "name": "ipython",
    "version": 3
   },
   "file_extension": ".py",
   "mimetype": "text/x-python",
   "name": "python",
   "nbconvert_exporter": "python",
   "pygments_lexer": "ipython3",
   "version": "3.4.3"
  }
 },
 "nbformat": 4,
 "nbformat_minor": 0
}
