{
 "cells": [
  {
   "cell_type": "markdown",
   "metadata": {},
   "source": [
    "##  Statistical analysis\n",
    "* Learning statistics or want to brush up? Here are three textbooks (available online) that you can choose from depending on the depth you want to explore and mathematical background.\n",
    "  * [Introduction to Statistics](http://onlinestatbook.com/Online_Statistics_Education.pdf) -- cover the fundamentals, requires little mathematical background. Another great introduction is Statistics Without Tears by Rowntree.\n",
    "  * [All of Statistics](https://www.ic.unicamp.br/~wainer/cursos/1s2013/ml/livro.pdf) -- more detailed than above, requires calculus and linear algebra\n",
    "  * [Advanced data analysis](http://www.stat.cmu.edu/~cshalizi/ADAfaEPoV/ADAfaEPoV.pdf) -- if you dream about distributions, requires substantial statistical background\n",
    "* If you are teaching statistics, [here](http://students.brown.edu/seeing-theory/) are excellent visualizations of core concepts.\n",
    "\n",
    "* See this [tutorial](http://m-clark.github.io/documents/) on machine learning concepts.\n",
    "\n",
    "* Learn to love Bayesian statistics, if you don't already. Read [this](http://jakevdp.github.io/blog/2014/03/11/frequentism-and-bayesianism-a-practical-intro/) introduction on bayesian vs. frequentist statistics written by [Jake Vanderplas](https://staff.washington.edu/jakevdp/), an astrophysicist and python developer.\n",
    "\n",
    "* Looking for a Bayesian analysis package? Try [JASP](https://jasp-stats.org/).\n",
    "\n",
    "* Beware of p-values and null hypothesis significance testing (NHST) the de facto standard in neurobiology, cognitive neuroscience and much of biomedical research:\n",
    "  * [Beyond the dead salmon](https://slides.com/neuro_logical/pvps): talk on p-values and how it relates to the current reproducibility crisis and pragmatic approaches to the problem.\n",
    "  * Regina Nuzzo on how not to get fooled by p-values: [video](https://videocast.nih.gov/summary.asp?Live=26200&bhcp=1Read)\n",
    "  * Problems with p-values: [1](http://ejwagenmakers.com/2007/pValueProblems.pdf) [2](https://peerj.com/articles/3544.pdf)\n",
    "  * How to proceed: [Abandon statistical thresholds](http://www.stat.columbia.edu/~gelman/research/unpublished/abandon.pdf)\n",
    "* Do you have multi-level data? E.g. do you have some cells from one animal and some other cells from a different animal? Are you pooling the data because they have similar distributions/variance? Instead you might want to consider [hierarchical](https://en.wikipedia.org/wiki/Multilevel_model) aka mixed effect models. [Here](http://mfviz.com/hierarchical-models/) is a really beautiful demonstration of this concept.\n",
    "* As soon as possible, understand:\n",
    "  * [bootstrapping](https://en.wikipedia.org/wiki/Bootstrapping_(statistics)) -- insanely powerful.\n",
    "  * [cross-validation](https://en.wikipedia.org/wiki/Cross-validation_(statistics)) -- enables generalization\n",
    "  * [permutation tests](https://en.wikipedia.org/wiki/Resampling_(statistics)) -- gets you a null distribution, sometimes hard to analytically derive in closed form\n",
    "  * [Here](https://docs.google.com/presentation/d/11TozBxAaON1eFXeL6aK1USLtJyAbUaHhskcPkI0FLbc/edit#slide=id.g138cbbed1a_0_0 ) are some lecture notes that look at these topics in the context of multivariate pattern analysis in fMRI.\n",
    "\n",
    "*\tDo not let your test data into your training data (i.e. double dipping)\n",
    "\n",
    "* [Rob Kass](http://www.stat.cmu.edu/~kass/), @CMU statistics, has written the extremely useful [Ten Simple Rules for Effective Statistical Practice](http://journals.plos.org/ploscompbiol/article?id=10.1371/journal.pcbi.1004961).\n",
    "\n",
    "\n",
    "* Understand the bias/variance [trade off](https://ml.berkeley.edu/blog/2017/07/13/tutorial-4/)\n",
    "\n",
    "* Do you know what the chris rock effect is in statistics? Expand your statistical lexicon [here](http://andrewgelman.com/2009/05/24/handy_statistic/).\n",
    "\n",
    "* Are you still not using hierarchical Bayes? Thomas Wiecki will show you the [way](http://twiecki.github.io/blog/2017/02/08/bayesian-hierchical-non-centered/). [Everything is a trivial case of hierarchical Bayesian inference](https://twitter.com/farlkriston/status/699515098050723840).\n",
    "\n",
    "* Frequent [datatau](http://www.datatau.com/) for interesting news on data analysis.\n",
    "\n",
    "* Your stats question may have an answer over [here](https://stats.stackexchange.com/) on cross-validated.\n",
    "\n",
    "\n",
    "\n",
    "  ###  Statistics blogs\n",
    "  * [While my MCMC gently samples](http://twiecki.github.io/)\n",
    "\n",
    "  * [Pythonic perambulations](http://jakevdp.github.io/)\n",
    "\n",
    "  * [Statistical Modeling, Causal Inference, and Social Science](http://andrewgelman.com/)\n",
    "\n",
    "  * Wagenmakers new blog! [Bayesian Spectacles](https://www.bayesianspectacles.org)"
   ]
  }
 ],
 "metadata": {
  "hide_input": false,
  "kernelspec": {
   "display_name": "Python 3",
   "language": "python",
   "name": "python3"
  },
  "language_info": {
   "codemirror_mode": {
    "name": "ipython",
    "version": 3
   },
   "file_extension": ".py",
   "mimetype": "text/x-python",
   "name": "python",
   "nbconvert_exporter": "python",
   "pygments_lexer": "ipython3",
   "version": "3.7.0"
  }
 },
 "nbformat": 4,
 "nbformat_minor": 2
}
