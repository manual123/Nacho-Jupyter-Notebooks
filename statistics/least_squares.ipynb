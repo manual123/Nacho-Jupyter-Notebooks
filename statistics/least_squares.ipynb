{
 "metadata": {
  "name": "",
  "signature": "sha256:6fec0ff80302cd983b1b3ab4e6653aa12c291ed854c5efd69f28608d4f6af614"
 },
 "nbformat": 3,
 "nbformat_minor": 0,
 "worksheets": [
  {
   "cells": [
    {
     "cell_type": "markdown",
     "metadata": {},
     "source": [
      "[Sebastian Raschka](http://www.sebastianraschka.com)  \n",
      "last updated: 05/04/2014\n",
      "\n",
      "- [Link to this IPython Notebook on GitHub](https://github.com/rasbt/python_reference/blob/master/benchmarks/cython_least_squares.ipynb)  \n",
      "- [Link to the GitHub repository](https://github.com/rasbt/python_reference)"
     ]
    },
    {
     "cell_type": "markdown",
     "metadata": {},
     "source": [
      "#### All code was executed in Python 3.4"
     ]
    },
    {
     "cell_type": "markdown",
     "metadata": {},
     "source": [
      "<hr>\n",
      "I am really looking forward to your comments and suggestions to improve and  \n",
      "extend this little collection! Just send me a quick note   \n",
      "via Twitter: [&#64;rasbt](https://twitter.com/rasbt)  \n",
      "or Email: [bluewoodtree@gmail.com](mailto:bluewoodtree@gmail.com)\n",
      "<hr>"
     ]
    },
    {
     "cell_type": "markdown",
     "metadata": {},
     "source": [
      "# Implementing the least squares fit method for linear regression and speeding it up via Cython"
     ]
    },
    {
     "cell_type": "markdown",
     "metadata": {},
     "source": [
      "<a name=\"sections\"></a>\n",
      "<br>\n",
      "<br>\n"
     ]
    },
    {
     "cell_type": "markdown",
     "metadata": {},
     "source": [
      "#Sections"
     ]
    },
    {
     "cell_type": "markdown",
     "metadata": {},
     "source": [
      "- [Introduction](#introduction)\n",
      "- [Least squares fit implementations](#implementations)\n",
      "- [Generating sample data and benchmarking](#sample_data)\n",
      "- [Compiling the Python code via Cython in the IPython notebook](#cython_nb)\n",
      "- [Bonus: How to use Cython without the IPython magic](#cython_bonus)"
     ]
    },
    {
     "cell_type": "markdown",
     "metadata": {},
     "source": [
      "<a name=\"introduction\"></a>\n",
      "<br>\n",
      "<br>"
     ]
    },
    {
     "cell_type": "markdown",
     "metadata": {},
     "source": [
      "## Introduction"
     ]
    },
    {
     "cell_type": "markdown",
     "metadata": {},
     "source": [
      "[[back to top](#sections)]"
     ]
    },
    {
     "cell_type": "markdown",
     "metadata": {},
     "source": [
      "Linear regression via the least squares method is the simplest approach to performing a regression analysis of a dependent and a explanatory variable. The objective is to find the best-fitting straight line through a set of points that minimizes the sum of the squared offsets from the line.  \n",
      "The offsets come in 2 different flavors: perpendicular and vertical - with respect to the line.  \n",
      "![](https://raw.githubusercontent.com/rasbt/python_reference/master/Images/least_squares_vertical.png)  \n",
      "![](https://raw.githubusercontent.com/rasbt/python_reference/master/Images/least_squares_perpendicular.png)  \n",
      "\n",
      "Here, we will use the more common approach: minimizing the sum of the perpendicular offsets.\n"
     ]
    },
    {
     "cell_type": "markdown",
     "metadata": {},
     "source": [
      "In more mathematical terms, our goal is to compute the best fit to *n* points $(x_i, y_i)$ with $i=1,2,...n,$ via linear equation of the form  \n",
      "$f(x) = a\\cdot x + b$.  \n",
      "Here, we assume that the y-component is  functionally dependent on the x-component.  \n",
      "In a cartesian coordinate system, $b$ is the intercept of the straight line with the y-axis, and $a$ is the slope of this line."
     ]
    },
    {
     "cell_type": "markdown",
     "metadata": {},
     "source": [
      "In order to obtain the parameters for the linear regression line for a set of multiple points, we can re-write the problem as matrix equation  \n",
      "$\\pmb X \\; \\pmb a = \\pmb y$"
     ]
    },
    {
     "cell_type": "markdown",
     "metadata": {},
     "source": [
      "$\\Rightarrow\\Bigg[ \\begin{array}{cc}\n",
      "x_1 & 1  \\\\\n",
      "... & 1 \\\\\n",
      "x_n & 1  \\end{array} \\Bigg]$\n",
      "$\\bigg[ \\begin{array}{c}\n",
      "a  \\\\\n",
      "b \\end{array} \\bigg]$\n",
      "$=\\Bigg[ \\begin{array}{c}\n",
      "y_1   \\\\\n",
      "...  \\\\\n",
      "y_n  \\end{array} \\Bigg]$"
     ]
    },
    {
     "cell_type": "markdown",
     "metadata": {},
     "source": [
      "With a little bit of calculus, we can rearrange the term in order to obtain the parameter vector $\\pmb a = [a\\;b]^T$"
     ]
    },
    {
     "cell_type": "markdown",
     "metadata": {},
     "source": [
      "$\\Rightarrow \\pmb a = (\\pmb X^T \\; \\pmb X)^{-1} \\pmb X^T \\; \\pmb y$"
     ]
    },
    {
     "cell_type": "markdown",
     "metadata": {},
     "source": [
      "<br>\n",
      "The more classic approach to obtain the slope parameter $a$ and y-axis intercept $b$ would be:"
     ]
    },
    {
     "cell_type": "markdown",
     "metadata": {},
     "source": [
      "$a = \\frac{S_{x,y}}{\\sigma_{x}^{2}}\\quad$  (slope)\n",
      "\n",
      "\n",
      "$b = \\bar{y} - a\\bar{x}\\quad$ (y-axis intercept)"
     ]
    },
    {
     "cell_type": "markdown",
     "metadata": {},
     "source": [
      "where \n",
      "\n",
      "\n",
      "$S_{xy} = \\sum_{i=1}^{n} (x_i - \\bar{x})(y_i - \\bar{y})\\quad$ (covariance)\n",
      "\n",
      "\n",
      "$\\sigma{_x}^{2} = \\sum_{i=1}^{n} (x_i - \\bar{x})^2\\quad$ (variance)"
     ]
    },
    {
     "cell_type": "markdown",
     "metadata": {},
     "source": [
      "<a name=\"implementations\"></a>\n",
      "<br>\n",
      "<br>"
     ]
    },
    {
     "cell_type": "markdown",
     "metadata": {},
     "source": [
      "\n",
      "## Least squares fit implementations"
     ]
    },
    {
     "cell_type": "markdown",
     "metadata": {},
     "source": [
      "[[back to top](#sections)]"
     ]
    },
    {
     "cell_type": "markdown",
     "metadata": {},
     "source": [
      "<br>\n",
      "<br>"
     ]
    },
    {
     "cell_type": "markdown",
     "metadata": {},
     "source": [
      "### 1. The matrix approach"
     ]
    },
    {
     "cell_type": "markdown",
     "metadata": {},
     "source": [
      "First, let us implement the equation:"
     ]
    },
    {
     "cell_type": "markdown",
     "metadata": {},
     "source": [
      "$\\pmb a = (\\pmb X^T \\; \\pmb X)^{-1} \\pmb X^T \\; \\pmb y$"
     ]
    },
    {
     "cell_type": "markdown",
     "metadata": {},
     "source": [
      "which I will refer to as the \"matrix approach\"."
     ]
    },
    {
     "cell_type": "code",
     "collapsed": false,
     "input": [
      "import numpy as np\n",
      "\n",
      "def lin_lstsqr_mat(x, y):\n",
      "    \"\"\" Computes the least-squares solution to a linear matrix equation. \"\"\"\n",
      "    X = np.vstack([x, np.ones(len(x))]).T\n",
      "    return (np.linalg.inv(X.T.dot(X)).dot(X.T)).dot(y)"
     ],
     "language": "python",
     "metadata": {},
     "outputs": [],
     "prompt_number": 1
    },
    {
     "cell_type": "markdown",
     "metadata": {},
     "source": [
      "<br>\n",
      "<br>"
     ]
    },
    {
     "cell_type": "markdown",
     "metadata": {},
     "source": [
      "### 2. The classic approach"
     ]
    },
    {
     "cell_type": "markdown",
     "metadata": {},
     "source": [
      "Next, we will calculate the parameters separately, using only standard library functions in Python, which I will call the \"classic approach\"."
     ]
    },
    {
     "cell_type": "markdown",
     "metadata": {},
     "source": [
      "$a = \\frac{S_{x,y}}{\\sigma_{x}^{2}}\\quad$  (slope)\n",
      "\n",
      "\n",
      "$b = \\bar{y} - a\\bar{x}\\quad$ (y-axis intercept)"
     ]
    },
    {
     "cell_type": "code",
     "collapsed": false,
     "input": [
      "def classic_lstsqr(x, y):\n",
      "    \"\"\" Computes the least-squares solution to a linear matrix equation. \"\"\"\n",
      "    x_avg = sum(x)/len(x)\n",
      "    y_avg = sum(y)/len(y)\n",
      "    var_x = sum([(x_i - x_avg)**2 for x_i in x])\n",
      "    cov_xy = sum([(x_i - x_avg)*(y_i - y_avg) for x_i,y_i in zip(x,y)])\n",
      "    slope = cov_xy / var_x\n",
      "    y_interc = y_avg - slope*x_avg\n",
      "    return (slope, y_interc)"
     ],
     "language": "python",
     "metadata": {},
     "outputs": [],
     "prompt_number": 4
    },
    {
     "cell_type": "markdown",
     "metadata": {},
     "source": [
      "<br>\n",
      "<br>"
     ]
    },
    {
     "cell_type": "markdown",
     "metadata": {},
     "source": [
      "### 3. Using the lstsq numpy function"
     ]
    },
    {
     "cell_type": "markdown",
     "metadata": {},
     "source": [
      "For our convenience, `numpy` has a function that can also compute the leat squares solution of a linear matrix equation. For more information, please refer to the [documentation](http://docs.scipy.org/doc/numpy/reference/generated/numpy.linalg.lstsq.html)."
     ]
    },
    {
     "cell_type": "code",
     "collapsed": false,
     "input": [
      "def numpy_lstsqr(x, y):\n",
      "    \"\"\" Computes the least-squares solution to a linear matrix equation. \"\"\"\n",
      "    X = np.vstack([x, np.ones(len(x))]).T\n",
      "    return np.linalg.lstsq(X,y)[0]"
     ],
     "language": "python",
     "metadata": {},
     "outputs": [],
     "prompt_number": 5
    },
    {
     "cell_type": "markdown",
     "metadata": {},
     "source": [
      "<br>\n",
      "<br>"
     ]
    },
    {
     "cell_type": "markdown",
     "metadata": {},
     "source": [
      "### 4. Using the linregress scipy function"
     ]
    },
    {
     "cell_type": "markdown",
     "metadata": {},
     "source": [
      "The last approach is using `scipy.stats.linregress()`, which returns a tuple of 5 different attributes, where the 1st value in the tuple is the slope, and the second value is the y-axis intercept, respectively.  The documentation for this function can be found [here](http://docs.scipy.org/doc/scipy-0.13.0/reference/generated/scipy.stats.linregress.html)."
     ]
    },
    {
     "cell_type": "code",
     "collapsed": false,
     "input": [
      "import scipy.stats\n",
      "\n",
      "def scipy_lstsqr(x,y):\n",
      "    \"\"\" Computes the least-squares solution to a linear matrix equation. \"\"\"\n",
      "    return scipy.stats.linregress(x, y)[0:2]"
     ],
     "language": "python",
     "metadata": {},
     "outputs": [],
     "prompt_number": 6
    },
    {
     "cell_type": "markdown",
     "metadata": {},
     "source": [
      "<a name='sample_data'></a>\n",
      "<br>\n",
      "<br>"
     ]
    },
    {
     "cell_type": "markdown",
     "metadata": {},
     "source": [
      "## Generating sample data and benchmarking"
     ]
    },
    {
     "cell_type": "markdown",
     "metadata": {},
     "source": [
      "[[back to top](#sections)]"
     ]
    },
    {
     "cell_type": "markdown",
     "metadata": {},
     "source": [
      "In order to test our different least squares fit implementation, we will generate some sample data:  \n",
      "- 500 sample points for the x-component within the range [0,500)  \n",
      "- 500 sample points for the y-component within the range [100,600)  \n",
      "\n",
      "where each sample point is multiplied by a random value within\n",
      "the range [0.8, 12)."
     ]
    },
    {
     "cell_type": "code",
     "collapsed": false,
     "input": [
      "import random\n",
      "random.seed(12345)\n",
      "\n",
      "x = [x_i*random.randrange(8,12)/10 for x_i in range(500)]\n",
      "y = [y_i*random.randrange(8,12)/10 for y_i in range(100,600)]"
     ],
     "language": "python",
     "metadata": {},
     "outputs": [],
     "prompt_number": 7
    },
    {
     "cell_type": "markdown",
     "metadata": {},
     "source": [
      "<br>\n",
      "<br>"
     ]
    },
    {
     "cell_type": "markdown",
     "metadata": {},
     "source": [
      "\n",
      "#### Visualization"
     ]
    },
    {
     "cell_type": "markdown",
     "metadata": {},
     "source": [
      "To check how our dataset is distributed, and how the straight line, which we obtain via the least square fit method, we will plot it in a scatter plot.  \n",
      "Note that we are using our \"matrix approach\" here for simplicity, but after plotting the data, we will check whether all of the four different implementations yield the same parameters."
     ]
    },
    {
     "cell_type": "code",
     "collapsed": false,
     "input": [
      "%pylab inline\n",
      "from matplotlib import pyplot as plt\n",
      "\n",
      "slope, intercept = lin_lstsqr_mat(x, y)\n",
      "\n",
      "line_x = [round(min(x)) - 1, round(max(x)) + 1]\n",
      "line_y = [slope*x_i + intercept for x_i in line_x]\n",
      "\n",
      "plt.figure(figsize=(8,8))\n",
      "plt.scatter(x,y)\n",
      "plt.plot(line_x, line_y, color='red', lw='2')\n",
      "\n",
      "plt.ylabel('y')\n",
      "plt.xlabel('x')\n",
      "plt.title('Linear regression via least squares fit')\n",
      "\n",
      "ftext = 'y = ax + b = {:.3f} + {:.3f}x'\\\n",
      "        .format(slope, intercept)\n",
      "plt.figtext(.15,.8, ftext, fontsize=11, ha='left')\n",
      "\n",
      "plt.show()"
     ],
     "language": "python",
     "metadata": {},
     "outputs": [
      {
       "output_type": "stream",
       "stream": "stdout",
       "text": [
        "Populating the interactive namespace from numpy and matplotlib\n"
       ]
      },
      {
       "output_type": "stream",
       "stream": "stderr",
       "text": [
        "WARNING: pylab import has clobbered these variables: ['random']\n",
        "`%matplotlib` prevents importing * from pylab and numpy\n"
       ]
      },
      {
       "metadata": {},
       "output_type": "display_data",
       "png": "[encoded data removed]",
       "text": [
        "<matplotlib.figure.Figure at 0x105785f60>"
       ]
      }
     ],
     "prompt_number": 8
    },
    {
     "cell_type": "markdown",
     "metadata": {},
     "source": [
      "<br>\n",
      "<br>"
     ]
    },
    {
     "cell_type": "markdown",
     "metadata": {},
     "source": [
      "\n",
      "#### Comparing the results from the different implementations"
     ]
    },
    {
     "cell_type": "markdown",
     "metadata": {},
     "source": [
      "As mentioned above, let us confirm that the different implementation computed the same parameters (i.e., slope and y-axis intercept) as solution for the linear equation."
     ]
    },
    {
     "cell_type": "code",
     "collapsed": false,
     "input": [
      "import prettytable\n",
      "\n",
      "params = [appr(x,y) for appr in [lin_lstsqr_mat, classic_lstsqr, numpy_lstsqr, scipy_lstsqr]]\n",
      "\n",
      "print(params)\n",
      "\n",
      "fit_table = prettytable.PrettyTable([\"\", \"slope\", \"y-intercept\"])\n",
      "fit_table.add_row([\"matrix approach\", params[0][0], params[0][1]])\n",
      "fit_table.add_row([\"classic approach\", params[1][0], params[1][1]])\n",
      "fit_table.add_row([\"numpy function\", params[2][0], params[2][1]])\n",
      "fit_table.add_row([\"scipy function\", params[3][0], params[3][1]])\n",
      "\n",
      "print(fit_table)"
     ],
     "language": "python",
     "metadata": {},
     "outputs": [
      {
       "output_type": "stream",
       "stream": "stdout",
       "text": [
        "[array([   0.95181895,  107.01399744]), (0.95181895319126741, 107.01399744459181), array([   0.95181895,  107.01399744]), (0.95181895319126764, 107.01399744459175)]\n",
        "+------------------+----------------+---------------+\n",
        "|                  |     slope      |  y-intercept  |\n",
        "+------------------+----------------+---------------+\n",
        "| matrix approach  | 0.951818953191 | 107.013997445 |\n",
        "| classic approach | 0.951818953191 | 107.013997445 |\n",
        "|  numpy function  | 0.951818953191 | 107.013997445 |\n",
        "|  scipy function  | 0.951818953191 | 107.013997445 |\n",
        "+------------------+----------------+---------------+\n"
       ]
      }
     ],
     "prompt_number": 9
    },
    {
     "cell_type": "markdown",
     "metadata": {},
     "source": [
      "<br>\n",
      "<br>"
     ]
    },
    {
     "cell_type": "markdown",
     "metadata": {},
     "source": [
      "\n",
      "#### Initial performance comparison"
     ]
    },
    {
     "cell_type": "markdown",
     "metadata": {},
     "source": [
      "For a first impression how the performances of the different least squares implementations compare against each other, let us do a quick benchmark using the `timeit` module via IPython's `%timeit` magic."
     ]
    },
    {
     "cell_type": "code",
     "collapsed": false,
     "input": [
      "import timeit\n",
      "\n",
      "for lab,appr in zip([\"matrix approach\",\"classic approach\",\n",
      "                     \"numpy function\",\"scipy function\"],\n",
      "                    [lin_lstsqr_mat, classic_lstsqr, \n",
      "                     numpy_lstsqr, scipy_lstsqr]):\n",
      "    print(\"\\n{}: \".format(lab), end=\"\")\n",
      "    %timeit appr(x, y)"
     ],
     "language": "python",
     "metadata": {},
     "outputs": [
      {
       "output_type": "stream",
       "stream": "stdout",
       "text": [
        "\n",
        "matrix approach: 1000 loops, best of 3: 270 \u00b5s per loop"
       ]
      },
      {
       "output_type": "stream",
       "stream": "stdout",
       "text": [
        "\n",
        "\n",
        "classic approach: 100 loops, best of 3: 2.83 ms per loop"
       ]
      },
      {
       "output_type": "stream",
       "stream": "stdout",
       "text": [
        "\n",
        "\n",
        "numpy function: 1000 loops, best of 3: 372 \u00b5s per loop"
       ]
      },
      {
       "output_type": "stream",
       "stream": "stdout",
       "text": [
        "\n",
        "\n",
        "scipy function: 1000 loops, best of 3: 594 \u00b5s per loop"
       ]
      },
      {
       "output_type": "stream",
       "stream": "stdout",
       "text": [
        "\n"
       ]
      }
     ],
     "prompt_number": 10
    },
    {
     "cell_type": "markdown",
     "metadata": {},
     "source": [
      "<br>\n",
      "The timing above indicates, that the \"classic\" approach (Python's standard library functions only) is significantly worse in performance than the other implemenations - roughly by a magnitude of 10."
     ]
    },
    {
     "cell_type": "markdown",
     "metadata": {},
     "source": [
      "<br>\n",
      "<br>\n",
      "<a name=\"cython_nb\"></a>"
     ]
    },
    {
     "cell_type": "markdown",
     "metadata": {},
     "source": [
      "## Compiling the Python code via Cython in the IPython notebook"
     ]
    },
    {
     "cell_type": "markdown",
     "metadata": {},
     "source": [
      "[[back to top](#sections)]"
     ]
    },
    {
     "cell_type": "markdown",
     "metadata": {},
     "source": [
      "Maybe we can speed things up a little bit via [Cython's C-extensions for Python](http://cython.org). Cython is basically a hybrid between C and Python and can be pictured as compiled Python code with type declarations.  \n",
      "Since we are working in an IPython notebook here, we can make use of the IPython magic: It will automatically convert it to C code, compile it, and load the function.  \n",
      "Just to be thorough, let us also compile the other functions, which already use numpy objects."
     ]
    },
    {
     "cell_type": "code",
     "collapsed": false,
     "input": [
      "%load_ext cythonmagic"
     ],
     "language": "python",
     "metadata": {},
     "outputs": [],
     "prompt_number": 15
    },
    {
     "cell_type": "code",
     "collapsed": false,
     "input": [
      "%%cython\n",
      "import numpy as np\n",
      "import scipy.stats\n",
      "cimport numpy as np\n",
      "\n",
      "def cy_lin_lstsqr_mat(x, y):\n",
      "    \"\"\" Computes the least-squares solution to a linear matrix equation. \"\"\"\n",
      "    X = np.vstack([x, np.ones(len(x))]).T\n",
      "    return (np.linalg.inv(X.T.dot(X)).dot(X.T)).dot(y)\n",
      "\n",
      "def cy_classic_lstsqr(x, y):\n",
      "    \"\"\" Computes the least-squares solution to a linear matrix equation. \"\"\"\n",
      "    x_avg = sum(x)/len(x)\n",
      "    y_avg = sum(y)/len(y)\n",
      "    var_x = sum([(x_i - x_avg)**2 for x_i in x])\n",
      "    cov_xy = sum([(x_i - x_avg)*(y_i - y_avg) for x_i,y_i in zip(x,y)])\n",
      "    slope = cov_xy / var_x\n",
      "    y_interc = y_avg - slope*x_avg\n",
      "    return (slope, y_interc)\n",
      "\n",
      "def cy_numpy_lstsqr(x, y):\n",
      "    \"\"\" Computes the least-squares solution to a linear matrix equation. \"\"\"\n",
      "    X = np.vstack([x, np.ones(len(x))]).T\n",
      "    return np.linalg.lstsq(X,y)[0]\n",
      "\n",
      "def cy_scipy_lstsqr(x,y):\n",
      "    \"\"\" Computes the least-squares solution to a linear matrix equation. \"\"\"\n",
      "    return scipy.stats.linregress(x, y)[0:2]"
     ],
     "language": "python",
     "metadata": {},
     "outputs": [],
     "prompt_number": 16
    },
    {
     "cell_type": "markdown",
     "metadata": {},
     "source": [
      "<br>\n",
      "<br>"
     ]
    },
    {
     "cell_type": "markdown",
     "metadata": {},
     "source": [
      "#### Comparing the compiled Cython code to the original Python code"
     ]
    },
    {
     "cell_type": "code",
     "collapsed": false,
     "input": [
      "import timeit\n",
      "\n",
      "for lab,appr in zip([\"matrix approach\",\"classic approach\",\n",
      "                     \"numpy function\",\"scipy function\"],\n",
      "                    [(lin_lstsqr_mat, cy_lin_lstsqr_mat), \n",
      "                     (classic_lstsqr, cy_classic_lstsqr),\n",
      "                     (numpy_lstsqr, cy_numpy_lstsqr),\n",
      "                     (scipy_lstsqr, cy_scipy_lstsqr)]):\n",
      "    print(\"\\n\\n{}: \".format(lab))\n",
      "    %timeit appr[0](x, y)\n",
      "    %timeit appr[1](x, y)"
     ],
     "language": "python",
     "metadata": {},
     "outputs": [
      {
       "output_type": "stream",
       "stream": "stdout",
       "text": [
        "\n",
        "\n",
        "matrix approach: \n",
        "1000 loops, best of 3: 274 \u00b5s per loop"
       ]
      },
      {
       "output_type": "stream",
       "stream": "stdout",
       "text": [
        "\n",
        "1000 loops, best of 3: 260 \u00b5s per loop"
       ]
      },
      {
       "output_type": "stream",
       "stream": "stdout",
       "text": [
        "\n",
        "\n",
        "\n",
        "classic approach: \n",
        "100 loops, best of 3: 2.82 ms per loop"
       ]
      },
      {
       "output_type": "stream",
       "stream": "stdout",
       "text": [
        "\n",
        "1000 loops, best of 3: 212 \u00b5s per loop"
       ]
      },
      {
       "output_type": "stream",
       "stream": "stdout",
       "text": [
        "\n",
        "\n",
        "\n",
        "numpy function: \n",
        "1000 loops, best of 3: 379 \u00b5s per loop"
       ]
      },
      {
       "output_type": "stream",
       "stream": "stdout",
       "text": [
        "\n",
        "1000 loops, best of 3: 370 \u00b5s per loop"
       ]
      },
      {
       "output_type": "stream",
       "stream": "stdout",
       "text": [
        "\n",
        "\n",
        "\n",
        "scipy function: \n",
        "1000 loops, best of 3: 608 \u00b5s per loop"
       ]
      },
      {
       "output_type": "stream",
       "stream": "stdout",
       "text": [
        "\n",
        "100 loops, best of 3: 613 \u00b5s per loop"
       ]
      },
      {
       "output_type": "stream",
       "stream": "stdout",
       "text": [
        "\n"
       ]
      }
     ],
     "prompt_number": 17
    },
    {
     "cell_type": "markdown",
     "metadata": {},
     "source": [
      "<br>\n",
      "<br>\n",
      "As we've seen before, our \"classic\" implementation of the least square method is pretty slow compared to using numpy's functions. This is not surprising, since numpy is highly optmized and uses compiled C/C++ and Fortran code already. This explains why there is no significant difference if we used Cython to compile the numpy-objects-containing functions.  \n",
      "However, we were able to speed up the \"classic approach\" quite significantly, roughly by 1500%.\n",
      "\n",
      "The following 2 code blocks are just to visualize our results in a bar plot."
     ]
    },
    {
     "cell_type": "code",
     "collapsed": false,
     "input": [
      "import timeit\n",
      "\n",
      "funcs =  ['classic_lstsqr', 'cy_classic_lstsqr', \n",
      "          'lin_lstsqr_mat', 'numpy_lstsqr', 'scipy_lstsqr']\n",
      "labels = ['classic approach','classic approach (cython)', \n",
      "          'matrix approach', 'numpy function', 'scipy function']\n",
      "\n",
      "times = [timeit.Timer('%s(x,y)' %f, \n",
      "                      'from __main__ import %s, x, y' %f).timeit(1000)\n",
      "         for f in funcs]\n",
      "\n",
      "times_rel = [times[0]/times[i+1] for i in range(len(times[1:]))]"
     ],
     "language": "python",
     "metadata": {},
     "outputs": [],
     "prompt_number": 18
    },
    {
     "cell_type": "code",
     "collapsed": false,
     "input": [
      "%pylab inline\n",
      "import matplotlib.pyplot as plt\n",
      "\n",
      "x_pos = np.arange(len(funcs))\n",
      "plt.bar(x_pos, times, align='center', alpha=0.5)\n",
      "plt.xticks(x_pos, labels, rotation=45)\n",
      "plt.ylabel('time in ms')\n",
      "plt.title('Performance of different least square fit implementations')\n",
      "plt.show()\n",
      "\n",
      "x_pos = np.arange(len(funcs[1:]))\n",
      "plt.bar(x_pos, times_rel, align='center', alpha=0.5, color=\"green\")\n",
      "plt.xticks(x_pos, labels[1:], rotation=45)\n",
      "plt.ylabel('relative performance gain')\n",
      "plt.title('Performance gain compared to the classic least square implementation')\n",
      "plt.show()"
     ],
     "language": "python",
     "metadata": {},
     "outputs": [
      {
       "output_type": "stream",
       "stream": "stdout",
       "text": [
        "Populating the interactive namespace from numpy and matplotlib\n"
       ]
      },
      {
       "metadata": {},
       "output_type": "display_data",
       "png": "[encoded data removed]",
       "text": [
        "<matplotlib.figure.Figure at 0x105a7fe10>"
       ]
      },
      {
       "metadata": {},
       "output_type": "display_data",
       "png": "[encoded data removed]",
       "text": [
        "<matplotlib.figure.Figure at 0x1066dcef0>"
       ]
      }
     ],
     "prompt_number": 19
    },
    {
     "cell_type": "markdown",
     "metadata": {},
     "source": [
      "<a name=\"cython_bonus\"></a>\n",
      "<br>\n",
      "<br>"
     ]
    },
    {
     "cell_type": "markdown",
     "metadata": {},
     "source": [
      "## Bonus: How to use Cython without the IPython magic"
     ]
    },
    {
     "cell_type": "markdown",
     "metadata": {},
     "source": [
      "[[back to top](#sections)]"
     ]
    },
    {
     "cell_type": "markdown",
     "metadata": {},
     "source": [
      "IPython's notebook is really great for explanatory analysis and documentation, but what if we want to compile our Python code via Cython without letting IPython's magic doing all the work?  \n",
      "These are the steps you would need."
     ]
    },
    {
     "cell_type": "markdown",
     "metadata": {},
     "source": [
      "<br>\n",
      "<br>"
     ]
    },
    {
     "cell_type": "markdown",
     "metadata": {},
     "source": [
      "#### 1. Creating a .pyx file containing the the desired code or function."
     ]
    },
    {
     "cell_type": "code",
     "collapsed": false,
     "input": [
      "%%file ccy_classic_lstsqr.pyx\n",
      "\n",
      "def ccy_classic_lstsqr(x, y):\n",
      "    \"\"\" Computes the least-squares solution to a linear matrix equation. \"\"\"\n",
      "    x_avg = sum(x)/len(x)\n",
      "    y_avg = sum(y)/len(y)\n",
      "    var_x = sum([(x_i - x_avg)**2 for x_i in x])\n",
      "    cov_xy = sum([(x_i - x_avg)*(y_i - y_avg) for x_i,y_i in zip(x,y)])\n",
      "    slope = cov_xy / var_x\n",
      "    y_interc = y_avg - slope*x_avg\n",
      "    return (slope, y_interc)"
     ],
     "language": "python",
     "metadata": {},
     "outputs": [
      {
       "output_type": "stream",
       "stream": "stdout",
       "text": [
        "Writing ccy_classic_lstsqr.pyx\n"
       ]
      }
     ],
     "prompt_number": 11
    },
    {
     "cell_type": "markdown",
     "metadata": {},
     "source": [
      "<br>\n",
      "<br>"
     ]
    },
    {
     "cell_type": "markdown",
     "metadata": {},
     "source": [
      "#### 2. Creating a simple setup file"
     ]
    },
    {
     "cell_type": "code",
     "collapsed": false,
     "input": [
      "%%file setup.py\n",
      "\n",
      "from distutils.core import setup\n",
      "from distutils.extension import Extension\n",
      "from Cython.Distutils import build_ext\n",
      "\n",
      "setup(\n",
      "    cmdclass = {'build_ext': build_ext},\n",
      "    ext_modules = [Extension(\"ccy_classic_lstsqr\", [\"ccy_classic_lstsqr.pyx\"])]\n",
      ")"
     ],
     "language": "python",
     "metadata": {},
     "outputs": [
      {
       "output_type": "stream",
       "stream": "stdout",
       "text": [
        "Writing setup.py\n"
       ]
      }
     ],
     "prompt_number": 12
    },
    {
     "cell_type": "markdown",
     "metadata": {},
     "source": [
      "<br>\n",
      "<br>\n"
     ]
    },
    {
     "cell_type": "markdown",
     "metadata": {},
     "source": [
      "####3. Building and Compiling"
     ]
    },
    {
     "cell_type": "code",
     "collapsed": false,
     "input": [
      "!python3 setup.py build_ext --inplace"
     ],
     "language": "python",
     "metadata": {},
     "outputs": [
      {
       "output_type": "stream",
       "stream": "stdout",
       "text": [
        "running build_ext\r\n"
       ]
      },
      {
       "output_type": "stream",
       "stream": "stdout",
       "text": [
        "cythoning ccy_classic_lstsqr.pyx to ccy_classic_lstsqr.c\r\n"
       ]
      },
      {
       "output_type": "stream",
       "stream": "stdout",
       "text": [
        "building 'ccy_classic_lstsqr' extension\r\n",
        "creating build\r\n",
        "creating build/temp.macosx-10.6-intel-3.4\r\n",
        "/usr/bin/clang -fno-strict-aliasing -Werror=declaration-after-statement -fno-common -dynamic -DNDEBUG -g -fwrapv -O3 -Wall -Wstrict-prototypes -arch i386 -arch x86_64 -g -I/Library/Frameworks/Python.framework/Versions/3.4/include/python3.4m -c ccy_classic_lstsqr.c -o build/temp.macosx-10.6-intel-3.4/ccy_classic_lstsqr.o\r\n"
       ]
      },
      {
       "output_type": "stream",
       "stream": "stdout",
       "text": [
        "\u001b[1mccy_classic_lstsqr.c:2040:28: \u001b[0m\u001b[0;1;35mwarning: \u001b[0m\u001b[1munused function '__Pyx_PyObject_AsString'\r\n",
        "      [-Wunused-function]\u001b[0m\r\n",
        "static CYTHON_INLINE char* __Pyx_PyObject_AsString(PyObject* o) {\r\n",
        "\u001b[0;1;32m                           ^\r\n",
        "\u001b[0m\u001b[1mccy_classic_lstsqr.c:2037:32: \u001b[0m\u001b[0;1;35mwarning: \u001b[0m\u001b[1munused function\r\n",
        "      '__Pyx_PyUnicode_FromString' [-Wunused-function]\u001b[0m\r\n",
        "static CYTHON_INLINE PyObject* __Pyx_PyUnicode_FromString(char* c_str) {\r\n",
        "\u001b[0;1;32m                               ^\r\n",
        "\u001b[0m\u001b[1mccy_classic_lstsqr.c:2104:26: \u001b[0m\u001b[0;1;35mwarning: \u001b[0m\u001b[1munused function '__Pyx_PyObject_IsTrue'\r\n",
        "      [-Wunused-function]\u001b[0m\r\n",
        "static CYTHON_INLINE int __Pyx_PyObject_IsTrue(PyObject* x) {\r\n",
        "\u001b[0;1;32m                         ^\r\n",
        "\u001b[0m\u001b[1mccy_classic_lstsqr.c:2159:33: \u001b[0m\u001b[0;1;35mwarning: \u001b[0m\u001b[1munused function '__Pyx_PyIndex_AsSsize_t'\r\n",
        "      [-Wunused-function]\u001b[0m\r\n",
        "static CYTHON_INLINE Py_ssize_t __Pyx_PyIndex_AsSsize_t(PyObject* b) {\r\n",
        "\u001b[0;1;32m                                ^\r\n",
        "\u001b[0m\u001b[1mccy_classic_lstsqr.c:2188:33: \u001b[0m\u001b[0;1;35mwarning: \u001b[0m\u001b[1munused function '__Pyx_PyInt_FromSize_t'\r\n",
        "      [-Wunused-function]\u001b[0m\r\n",
        "static CYTHON_INLINE PyObject * __Pyx_PyInt_FromSize_t(size_t ival) {\r\n",
        "\u001b[0;1;32m                                ^\r\n",
        "\u001b[0m\u001b[1mccy_classic_lstsqr.c:1584:32: \u001b[0m\u001b[0;1;35mwarning: \u001b[0m\u001b[1munused function '__Pyx_PyInt_From_long'\r\n",
        "      [-Wunused-function]\u001b[0m\r\n",
        "static CYTHON_INLINE PyObject* __Pyx_PyInt_From_long(long value) {\r\n",
        "\u001b[0;1;32m                               ^\r\n",
        "\u001b[0m\u001b[1mccy_classic_lstsqr.c:1631:27: \u001b[0m\u001b[0;1;35mwarning: \u001b[0m\u001b[1mfunction '__Pyx_PyInt_As_long' is not\r\n",
        "      needed and will not be emitted [-Wunneeded-internal-declaration]\u001b[0m\r\n",
        "static CYTHON_INLINE long __Pyx_PyInt_As_long(PyObject *x) {\r\n",
        "\u001b[0;1;32m                          ^\r\n",
        "\u001b[0m\u001b[1mccy_classic_lstsqr.c:1731:26: \u001b[0m\u001b[0;1;35mwarning: \u001b[0m\u001b[1mfunction '__Pyx_PyInt_As_int' is not\r\n",
        "      needed and will not be emitted [-Wunneeded-internal-declaration]\u001b[0m\r\n",
        "static CYTHON_INLINE int __Pyx_PyInt_As_int(PyObject *x) {\r\n",
        "\u001b[0;1;32m                         ^\r\n",
        "\u001b[0m"
       ]
      },
      {
       "output_type": "stream",
       "stream": "stdout",
       "text": [
        "8 warnings generated.\r\n"
       ]
      },
      {
       "output_type": "stream",
       "stream": "stdout",
       "text": [
        "\u001b[1mccy_classic_lstsqr.c:2040:28: \u001b[0m\u001b[0;1;35mwarning: \u001b[0m\u001b[1munused function '__Pyx_PyObject_AsString'\r\n",
        "      [-Wunused-function]\u001b[0m\r\n",
        "static CYTHON_INLINE char* __Pyx_PyObject_AsString(PyObject* o) {\r\n",
        "\u001b[0;1;32m                           ^\r\n",
        "\u001b[0m\u001b[1mccy_classic_lstsqr.c:2037:32: \u001b[0m\u001b[0;1;35mwarning: \u001b[0m\u001b[1munused function\r\n",
        "      '__Pyx_PyUnicode_FromString' [-Wunused-function]\u001b[0m\r\n",
        "static CYTHON_INLINE PyObject* __Pyx_PyUnicode_FromString(char* c_str) {\r\n",
        "\u001b[0;1;32m                               ^\r\n",
        "\u001b[0m\u001b[1mccy_classic_lstsqr.c:2104:26: \u001b[0m\u001b[0;1;35mwarning: \u001b[0m\u001b[1munused function '__Pyx_PyObject_IsTrue'\r\n",
        "      [-Wunused-function]\u001b[0m\r\n",
        "static CYTHON_INLINE int __Pyx_PyObject_IsTrue(PyObject* x) {\r\n",
        "\u001b[0;1;32m                         ^\r\n",
        "\u001b[0m\u001b[1mccy_classic_lstsqr.c:2159:33: \u001b[0m\u001b[0;1;35mwarning: \u001b[0m\u001b[1munused function '__Pyx_PyIndex_AsSsize_t'\r\n",
        "      [-Wunused-function]\u001b[0m\r\n",
        "static CYTHON_INLINE Py_ssize_t __Pyx_PyIndex_AsSsize_t(PyObject* b) {\r\n",
        "\u001b[0;1;32m                                ^\r\n",
        "\u001b[0m\u001b[1mccy_classic_lstsqr.c:2188:33: \u001b[0m\u001b[0;1;35mwarning: \u001b[0m\u001b[1munused function '__Pyx_PyInt_FromSize_t'\r\n",
        "      [-Wunused-function]\u001b[0m\r\n",
        "static CYTHON_INLINE PyObject * __Pyx_PyInt_FromSize_t(size_t ival) {\r\n",
        "\u001b[0;1;32m                                ^\r\n",
        "\u001b[0m\u001b[1mccy_classic_lstsqr.c:1584:32: \u001b[0m\u001b[0;1;35mwarning: \u001b[0m\u001b[1munused function '__Pyx_PyInt_From_long'\r\n",
        "      [-Wunused-function]\u001b[0m\r\n",
        "static CYTHON_INLINE PyObject* __Pyx_PyInt_From_long(long value) {\r\n",
        "\u001b[0;1;32m                               ^\r\n",
        "\u001b[0m\u001b[1mccy_classic_lstsqr.c:1631:27: \u001b[0m\u001b[0;1;35mwarning: \u001b[0m\u001b[1mfunction '__Pyx_PyInt_As_long' is not\r\n",
        "      needed and will not be emitted [-Wunneeded-internal-declaration]\u001b[0m\r\n",
        "static CYTHON_INLINE long __Pyx_PyInt_As_long(PyObject *x) {\r\n",
        "\u001b[0;1;32m                          ^\r\n",
        "\u001b[0m\u001b[1mccy_classic_lstsqr.c:1731:26: \u001b[0m\u001b[0;1;35mwarning: \u001b[0m\u001b[1mfunction '__Pyx_PyInt_As_int' is not\r\n",
        "      needed and will not be emitted [-Wunneeded-internal-declaration]\u001b[0m\r\n",
        "static CYTHON_INLINE int __Pyx_PyInt_As_int(PyObject *x) {\r\n",
        "\u001b[0;1;32m                         ^\r\n",
        "\u001b[0m"
       ]
      },
      {
       "output_type": "stream",
       "stream": "stdout",
       "text": [
        "8"
       ]
      },
      {
       "output_type": "stream",
       "stream": "stdout",
       "text": [
        " warnings generated.\r\n",
        "/usr/bin/clang -bundle -undefined dynamic_lookup -arch i386 -arch x86_64 -g build/temp.macosx-10.6-intel-3.4/ccy_classic_lstsqr.o -o /Users/sebastian/Github/python_reference/benchmarks/ccy_classic_lstsqr.so\r\n"
       ]
      }
     ],
     "prompt_number": 13
    },
    {
     "cell_type": "markdown",
     "metadata": {},
     "source": [
      "#### 4. Importing and running the code"
     ]
    },
    {
     "cell_type": "code",
     "collapsed": false,
     "input": [
      "import ccy_classic_lstsqr\n",
      "\n",
      "%timeit classic_lstsqr(x, y)\n",
      "%timeit cy_classic_lstsqr(x, y)\n",
      "%timeit ccy_classic_lstsqr.ccy_classic_lstsqr(x, y)"
     ],
     "language": "python",
     "metadata": {},
     "outputs": [
      {
       "output_type": "stream",
       "stream": "stdout",
       "text": [
        "100 loops, best of 3: 2.9 ms per loop\n",
        "1000 loops, best of 3: 212 \u00b5s per loop"
       ]
      },
      {
       "output_type": "stream",
       "stream": "stdout",
       "text": [
        "\n",
        "1000 loops, best of 3: 207 \u00b5s per loop"
       ]
      },
      {
       "output_type": "stream",
       "stream": "stdout",
       "text": [
        "\n"
       ]
      }
     ],
     "prompt_number": 20
    }
   ],
   "metadata": {}
  }
 ]
}
