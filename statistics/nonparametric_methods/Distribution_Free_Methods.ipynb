{
 "cells": [
  {
   "cell_type": "markdown",
   "metadata": {},
   "source": [
    "# Creating Empirical Cumulative Distribution Function"
   ]
  },
  {
   "cell_type": "code",
   "execution_count": 212,
   "metadata": {
    "collapsed": true
   },
   "outputs": [],
   "source": [
    "%matplotlib inline\n",
    "import numpy as np\n",
    "import matplotlib.pyplot as plt\n",
    "plt.style.use('ggplot')"
   ]
  },
  {
   "cell_type": "code",
   "execution_count": 213,
   "metadata": {
    "collapsed": true
   },
   "outputs": [],
   "source": [
    "data = np.array([\n",
    "        5.9, 6.0, 6.4, 6.4, 6.5, 6.5, 6.6, 6.7, 6.9, 7.0, 7.1, 7.2, 7.5, 7.5, 7.8, 7.9, 8.1, 8.1, 8.2, 8.9, 9.3, 9.3, \n",
    "        9.6, 10.4, 10.6, 11.8, 11.8, 12.6, 12.9, 14.3, 15.0, 16.2, 16.3, 17.0, 17.2, 22.8, 23.1, 33.0, 40.0, 42.8,\n",
    "        43.0, 44.8, 45.0, 45.8\n",
    "    ])"
   ]
  },
  {
   "cell_type": "code",
   "execution_count": 214,
   "metadata": {
    "collapsed": false
   },
   "outputs": [
    {
     "data": {
      "text/plain": [
       "array([  5.9,   6. ,   6.4,   6.4,   6.5,   6.5,   6.6,   6.7,   6.9,\n",
       "         7. ,   7.1,   7.2,   7.5,   7.5,   7.8,   7.9,   8.1,   8.1,\n",
       "         8.2,   8.9,   9.3,   9.3,   9.6,  10.4,  10.6,  11.8,  11.8,\n",
       "        12.6,  12.9,  14.3,  15. ,  16.2,  16.3,  17. ,  17.2,  22.8,\n",
       "        23.1,  33. ,  40. ,  42.8,  43. ,  44.8,  45. ,  45.8])"
      ]
     },
     "execution_count": 214,
     "metadata": {},
     "output_type": "execute_result"
    }
   ],
   "source": [
    "data"
   ]
  },
  {
   "cell_type": "code",
   "execution_count": 215,
   "metadata": {
    "collapsed": false
   },
   "outputs": [
    {
     "data": {
      "text/plain": [
       "44"
      ]
     },
     "execution_count": 215,
     "metadata": {},
     "output_type": "execute_result"
    }
   ],
   "source": [
    "len(data)"
   ]
  },
  {
   "cell_type": "markdown",
   "metadata": {},
   "source": [
    "## The ECDF is generated with this function:"
   ]
  },
  {
   "cell_type": "markdown",
   "metadata": {},
   "source": [
    "$\\large{\\hat{F}(x) = \\frac{\\#x_i \\leq x}{n}}$"
   ]
  },
  {
   "cell_type": "markdown",
   "metadata": {},
   "source": [
    "The above basically means for each value of x in your data set consisting of only unique values of x, the function is equal to the number of Xs that are less than or equal to the current X value."
   ]
  },
  {
   "cell_type": "markdown",
   "metadata": {},
   "source": [
    "F(5.9) = 1/44 = 0.023<br>\n",
    "F(6) = 2/44 = 0.045<br>\n",
    "F(6.4) = 4/44 = 0.091<br>\n",
    "...<br>\n",
    "F(45.8) = 44/44 = 1.0"
   ]
  },
  {
   "cell_type": "code",
   "execution_count": 216,
   "metadata": {
    "collapsed": true
   },
   "outputs": [],
   "source": [
    "def ecdf(x):\n",
    "    \"\"\"Return empirical CDF of x.\"\"\"\n",
    "\n",
    "    sx = np.sort(x)\n",
    "    cdf = (1.0 + np.arange(len(sx)))/len(sx)\n",
    "    return sx, cdf"
   ]
  },
  {
   "cell_type": "code",
   "execution_count": 217,
   "metadata": {
    "collapsed": false
   },
   "outputs": [
    {
     "data": {
      "image/png": "[encoded data removed]",
      "text/plain": [
       "<matplotlib.figure.Figure at 0x7f614518e9e8>"
      ]
     },
     "metadata": {},
     "output_type": "display_data"
    }
   ],
   "source": [
    "sx, y = ecdf(data)\n",
    "plt.step(sx, y)\n",
    "plt.title(\"Empirical CDF\", fontsize=14, weight='bold')\n",
    "plt.show()"
   ]
  },
  {
   "cell_type": "markdown",
   "metadata": {},
   "source": [
    "### Creating 95% confidence band based on [Dvoretzky–Kiefer–Wolfowitz](http://stats.stackexchange.com/questions/55500/confidence-intervals-for-empirical-cdf) inequality:"
   ]
  },
  {
   "cell_type": "markdown",
   "metadata": {},
   "source": [
    "$\\large{ecdf\\pm\\sqrt{\\frac{1}{2n}log(\\frac{2}{\\alpha})}}$"
   ]
  },
  {
   "cell_type": "code",
   "execution_count": 219,
   "metadata": {
    "collapsed": false
   },
   "outputs": [
    {
     "name": "stdout",
     "output_type": "stream",
     "text": [
      "Confidence band width: 0.204741507042\n"
     ]
    },
    {
     "data": {
      "image/png": "[encoded data removed]",
      "text/plain": [
       "<matplotlib.figure.Figure at 0x7f6145540438>"
      ]
     },
     "metadata": {},
     "output_type": "display_data"
    }
   ],
   "source": [
    "alpha = 0.05\n",
    "nobs = 44\n",
    "\n",
    "interval = np.sqrt(np.log(2./alpha) / (2 * nobs))\n",
    "\n",
    "print(\"Confidence band width: \" + str(interval))\n",
    "\n",
    "lower = np.clip(y - interval, 0, 1)\n",
    "upper = np.clip(y + interval, 0, 1)\n",
    "\n",
    "plt.step(sx, y, sx, upper, sx, lower)\n",
    "plt.fill_between(sx, y, upper, color='grey', alpha=0.5, step='pre')\n",
    "plt.fill_between(sx, y, lower, color='grey',alpha=0.5, step='pre')\n",
    "plt.title(\"Emprical CDF with 95% Confidence Interval\", fontsize=12, weight='bold')\n",
    "plt.show()"
   ]
  },
  {
   "cell_type": "markdown",
   "metadata": {},
   "source": [
    "### Found out that the [statsmodels](http://statsmodels.sourceforge.net/devel/_modules/statsmodels/distributions/empirical_distribution.html) package has ECDF function and function for making confidence interval."
   ]
  },
  {
   "cell_type": "code",
   "execution_count": 210,
   "metadata": {
    "collapsed": false
   },
   "outputs": [
    {
     "data": {
      "image/png": "[encoded data removed]",
      "text/plain": [
       "<matplotlib.figure.Figure at 0x7f614543a3c8>"
      ]
     },
     "metadata": {},
     "output_type": "display_data"
    }
   ],
   "source": [
    "%matplotlib inline\n",
    "import numpy as np\n",
    "from statsmodels.distributions import ECDF\n",
    "from statsmodels.distributions.empirical_distribution import _conf_set\n",
    "import matplotlib.pyplot as plt\n",
    "\n",
    "data = np.array([\n",
    "        5.9, 6.0, 6.4, 6.4, 6.5, 6.5, 6.6, 6.7, 6.9, 7.0, 7.1, 7.2, 7.5, 7.5, 7.8, 7.9, 8.1, 8.1, 8.2, 8.9, 9.3, 9.3, \n",
    "        9.6, 10.4, 10.6, 11.8, 11.8, 12.6, 12.9, 14.3, 15.0, 16.2, 16.3, 17.0, 17.2, 22.8, 23.1, 33.0, 40.0, 42.8,\n",
    "        43.0, 44.8, 45.0, 45.8\n",
    "    ])\n",
    "\n",
    "cdf = ECDF(data)\n",
    "y = cdf.y\n",
    "x = cdf.x\n",
    "plt.step(x, y)\n",
    "lower, upper = _conf_set(y, alpha=0.05)\n",
    "plt.step(x, lower)\n",
    "plt.step(x, upper)\n",
    "plt.fill_between(x, y, upper, color='grey', alpha=0.5, interpolate=False, step='pre')\n",
    "plt.fill_between(x, y, lower, color='grey',alpha=0.5, interpolate=False, step='pre')\n",
    "plt.vlines(x, 0, .05)  # show location of steps\n",
    "plt.title(\"Empirical CDF with 95% Confidence Interval\", fontsize=12, weight='bold')\n",
    "plt.show()"
   ]
  }
 ],
 "metadata": {
  "kernelspec": {
   "display_name": "Python 3",
   "language": "python",
   "name": "python3"
  },
  "language_info": {
   "codemirror_mode": {
    "name": "ipython",
    "version": 3
   },
   "file_extension": ".py",
   "mimetype": "text/x-python",
   "name": "python",
   "nbconvert_exporter": "python",
   "pygments_lexer": "ipython3",
   "version": "3.4.3"
  }
 },
 "nbformat": 4,
 "nbformat_minor": 0
}
