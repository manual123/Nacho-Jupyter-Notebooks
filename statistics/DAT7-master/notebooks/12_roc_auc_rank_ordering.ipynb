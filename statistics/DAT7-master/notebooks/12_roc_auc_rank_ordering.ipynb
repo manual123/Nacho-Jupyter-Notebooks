{
 "metadata": {
  "name": "",
  "signature": "sha256:7a030b3958f7b74d79872b35fc06ab05d559866ad61fbe63ac645f31b96b569c"
 },
 "nbformat": 3,
 "nbformat_minor": 0,
 "worksheets": [
  {
   "cells": [
    {
     "cell_type": "markdown",
     "metadata": {},
     "source": [
      "# Demonstrating that \"rank ordering\" of predicted probabilites is all that matters for ROC/AUC"
     ]
    },
    {
     "cell_type": "markdown",
     "metadata": {},
     "source": [
      "## Normal process: predict probabilities, calculate AUC, plot ROC"
     ]
    },
    {
     "cell_type": "code",
     "collapsed": false,
     "input": [
      "# read the data from titanic.csv into a DataFrame\n",
      "import pandas as pd\n",
      "url = 'https://raw.githubusercontent.com/justmarkham/DAT7/master/data/titanic.csv'\n",
      "titanic = pd.read_csv(url, index_col='PassengerId')\n",
      "\n",
      "# fill NAs for Age\n",
      "titanic.Age.fillna(titanic.Age.mean(), inplace=True)\n",
      "\n",
      "# define Pclass/Parch as the features and Survived as the response\n",
      "feature_cols = ['Pclass', 'Parch', 'Age']\n",
      "X = titanic[feature_cols]\n",
      "y = titanic.Survived\n",
      "\n",
      "# split the data into training and testing sets\n",
      "from sklearn.cross_validation import train_test_split\n",
      "X_train, X_test, y_train, y_test = train_test_split(X, y, random_state=1)\n",
      "\n",
      "# fit a logistic regression model\n",
      "from sklearn.linear_model import LogisticRegression\n",
      "logreg = LogisticRegression(C=1e9)\n",
      "logreg.fit(X_train, y_train)"
     ],
     "language": "python",
     "metadata": {},
     "outputs": [
      {
       "metadata": {},
       "output_type": "pyout",
       "prompt_number": 1,
       "text": [
        "LogisticRegression(C=1000000000.0, class_weight=None, dual=False,\n",
        "          fit_intercept=True, intercept_scaling=1, penalty='l2',\n",
        "          random_state=None, tol=0.0001)"
       ]
      }
     ],
     "prompt_number": 1
    },
    {
     "cell_type": "code",
     "collapsed": false,
     "input": [
      "# calculate predicted probabilities\n",
      "y_pred_prob1 = logreg.predict_proba(X_test)[:, 1]\n",
      "y_pred_prob1[:10]"
     ],
     "language": "python",
     "metadata": {},
     "outputs": [
      {
       "metadata": {},
       "output_type": "pyout",
       "prompt_number": 2,
       "text": [
        "array([ 0.52501831,  0.19102245,  0.52729118,  0.19102245,  0.72728774,\n",
        "        0.24370353,  0.48165812,  0.63755459,  0.69316123,  0.19102245])"
       ]
      }
     ],
     "prompt_number": 2
    },
    {
     "cell_type": "code",
     "collapsed": false,
     "input": [
      "# show predicted probabilities in a histogram\n",
      "%matplotlib inline\n",
      "import matplotlib.pyplot as plt\n",
      "plt.hist(y_pred_prob1)"
     ],
     "language": "python",
     "metadata": {},
     "outputs": [
      {
       "metadata": {},
       "output_type": "pyout",
       "prompt_number": 3,
       "text": [
        "(array([  8.,  66.,  27.,  16.,  27.,  32.,   8.,  24.,   9.,   6.]),\n",
        " array([ 0.07652196,  0.15504032,  0.23355867,  0.31207703,  0.39059539,\n",
        "         0.46911375,  0.54763211,  0.62615047,  0.70466882,  0.78318718,\n",
        "         0.86170554]),\n",
        " <a list of 10 Patch objects>)"
       ]
      },
      {
       "metadata": {},
       "output_type": "display_data",
       "png": "[encoded data removed]",
       "text": [
        "<matplotlib.figure.Figure at 0x1786f5c0>"
       ]
      }
     ],
     "prompt_number": 3
    },
    {
     "cell_type": "code",
     "collapsed": false,
     "input": [
      "# calculate AUC\n",
      "from sklearn import metrics\n",
      "metrics.roc_auc_score(y_test, y_pred_prob1)"
     ],
     "language": "python",
     "metadata": {},
     "outputs": [
      {
       "metadata": {},
       "output_type": "pyout",
       "prompt_number": 4,
       "text": [
        "0.68400493421052633"
       ]
      }
     ],
     "prompt_number": 4
    },
    {
     "cell_type": "code",
     "collapsed": false,
     "input": [
      "# plot ROC curve\n",
      "fpr, tpr, thresholds = metrics.roc_curve(y_test, y_pred_prob1)\n",
      "plt.plot(fpr, tpr)\n",
      "plt.xlim([0.0, 1.0])\n",
      "plt.ylim([0.0, 1.0])\n",
      "plt.xlabel('False Positive Rate (1 - Specificity)')\n",
      "plt.ylabel('True Positive Rate (Sensitivity)')"
     ],
     "language": "python",
     "metadata": {},
     "outputs": [
      {
       "metadata": {},
       "output_type": "pyout",
       "prompt_number": 5,
       "text": [
        "<matplotlib.text.Text at 0x18988c50>"
       ]
      },
      {
       "metadata": {},
       "output_type": "display_data",
       "png": "[encoded data removed]",
       "text": [
        "<matplotlib.figure.Figure at 0x1787b8d0>"
       ]
      }
     ],
     "prompt_number": 5
    },
    {
     "cell_type": "markdown",
     "metadata": {},
     "source": [
      "## Take the square root of predicted probabilities (makes them all bigger)"
     ]
    },
    {
     "cell_type": "code",
     "collapsed": false,
     "input": [
      "# change the predicted probabilities\n",
      "import numpy as np\n",
      "y_pred_prob2 = np.sqrt(y_pred_prob1)"
     ],
     "language": "python",
     "metadata": {},
     "outputs": [],
     "prompt_number": 6
    },
    {
     "cell_type": "code",
     "collapsed": false,
     "input": [
      "# here are the old ones (y_pred_prob1)\n",
      "y_pred_prob1[:10]"
     ],
     "language": "python",
     "metadata": {},
     "outputs": [
      {
       "metadata": {},
       "output_type": "pyout",
       "prompt_number": 7,
       "text": [
        "array([ 0.52501831,  0.19102245,  0.52729118,  0.19102245,  0.72728774,\n",
        "        0.24370353,  0.48165812,  0.63755459,  0.69316123,  0.19102245])"
       ]
      }
     ],
     "prompt_number": 7
    },
    {
     "cell_type": "code",
     "collapsed": false,
     "input": [
      "# here are the new ones (y_pred_prob2)\n",
      "y_pred_prob2[:10]"
     ],
     "language": "python",
     "metadata": {},
     "outputs": [
      {
       "metadata": {},
       "output_type": "pyout",
       "prompt_number": 8,
       "text": [
        "array([ 0.72458147,  0.43706115,  0.72614818,  0.43706115,  0.85281167,\n",
        "        0.49366338,  0.69401594,  0.79847016,  0.83256305,  0.43706115])"
       ]
      }
     ],
     "prompt_number": 8
    },
    {
     "cell_type": "code",
     "collapsed": false,
     "input": [
      "# you can see the histogram changed\n",
      "plt.hist(y_pred_prob2)"
     ],
     "language": "python",
     "metadata": {},
     "outputs": [
      {
       "metadata": {},
       "output_type": "pyout",
       "prompt_number": 9,
       "text": [
        "(array([  2.,   9.,  57.,  30.,  14.,  23.,  39.,  11.,  27.,  11.]),\n",
        " array([ 0.27662603,  0.34179152,  0.40695701,  0.47212251,  0.537288  ,\n",
        "         0.60245349,  0.66761899,  0.73278448,  0.79794997,  0.86311547,\n",
        "         0.92828096]),\n",
        " <a list of 10 Patch objects>)"
       ]
      },
      {
       "metadata": {},
       "output_type": "display_data",
       "png": "[encoded data removed]",
       "text": [
        "<matplotlib.figure.Figure at 0x1787f588>"
       ]
      }
     ],
     "prompt_number": 9
    },
    {
     "cell_type": "code",
     "collapsed": false,
     "input": [
      "# the AUC did not change\n",
      "metrics.roc_auc_score(y_test, y_pred_prob2)"
     ],
     "language": "python",
     "metadata": {},
     "outputs": [
      {
       "metadata": {},
       "output_type": "pyout",
       "prompt_number": 10,
       "text": [
        "0.68400493421052633"
       ]
      }
     ],
     "prompt_number": 10
    },
    {
     "cell_type": "code",
     "collapsed": false,
     "input": [
      "# the ROC curve did not change\n",
      "fpr, tpr, thresholds = metrics.roc_curve(y_test, y_pred_prob2)\n",
      "plt.plot(fpr, tpr)\n",
      "plt.xlim([0.0, 1.0])\n",
      "plt.ylim([0.0, 1.0])\n",
      "plt.xlabel('False Positive Rate (1 - Specificity)')\n",
      "plt.ylabel('True Positive Rate (Sensitivity)')"
     ],
     "language": "python",
     "metadata": {},
     "outputs": [
      {
       "metadata": {},
       "output_type": "pyout",
       "prompt_number": 11,
       "text": [
        "<matplotlib.text.Text at 0x18ea0fd0>"
       ]
      },
      {
       "metadata": {},
       "output_type": "display_data",
       "png": "[encoded data removed]",
       "text": [
        "<matplotlib.figure.Figure at 0x18e9e4e0>"
       ]
      }
     ],
     "prompt_number": 11
    },
    {
     "cell_type": "markdown",
     "metadata": {},
     "source": [
      "## Make small predicted probabilities smaller, and make big predicted probabilities bigger"
     ]
    },
    {
     "cell_type": "code",
     "collapsed": false,
     "input": [
      "y_pred_prob3 = np.where(y_pred_prob1 > 0.5, np.sqrt(y_pred_prob1), y_pred_prob1**2)"
     ],
     "language": "python",
     "metadata": {},
     "outputs": [],
     "prompt_number": 12
    },
    {
     "cell_type": "code",
     "collapsed": false,
     "input": [
      "# you can see these are different from y_pred_prob1 and y_pred_prob2\n",
      "y_pred_prob3[:10]"
     ],
     "language": "python",
     "metadata": {},
     "outputs": [
      {
       "metadata": {},
       "output_type": "pyout",
       "prompt_number": 13,
       "text": [
        "array([ 0.72458147,  0.03648958,  0.72614818,  0.03648958,  0.85281167,\n",
        "        0.05939141,  0.23199454,  0.79847016,  0.83256305,  0.03648958])"
       ]
      }
     ],
     "prompt_number": 13
    },
    {
     "cell_type": "code",
     "collapsed": false,
     "input": [
      "# the histogram changed\n",
      "plt.hist(y_pred_prob3)"
     ],
     "language": "python",
     "metadata": {},
     "outputs": [
      {
       "metadata": {},
       "output_type": "pyout",
       "prompt_number": 14,
       "text": [
        "(array([ 101.,   32.,   26.,    0.,    0.,    0.,    0.,   19.,   28.,   17.]),\n",
        " array([ 0.00585561,  0.09809815,  0.19034068,  0.28258322,  0.37482575,\n",
        "         0.46706829,  0.55931082,  0.65155336,  0.74379589,  0.83603843,\n",
        "         0.92828096]),\n",
        " <a list of 10 Patch objects>)"
       ]
      },
      {
       "metadata": {},
       "output_type": "display_data",
       "png": "[encoded data removed]",
       "text": [
        "<matplotlib.figure.Figure at 0x18e93048>"
       ]
      }
     ],
     "prompt_number": 14
    },
    {
     "cell_type": "code",
     "collapsed": false,
     "input": [
      "# the AUC did not change\n",
      "metrics.roc_auc_score(y_test, y_pred_prob3)"
     ],
     "language": "python",
     "metadata": {},
     "outputs": [
      {
       "metadata": {},
       "output_type": "pyout",
       "prompt_number": 15,
       "text": [
        "0.68400493421052633"
       ]
      }
     ],
     "prompt_number": 15
    },
    {
     "cell_type": "code",
     "collapsed": false,
     "input": [
      "# the ROC curve did not change\n",
      "fpr, tpr, thresholds = metrics.roc_curve(y_test, y_pred_prob3)\n",
      "plt.plot(fpr, tpr)\n",
      "plt.xlim([0.0, 1.0])\n",
      "plt.ylim([0.0, 1.0])\n",
      "plt.xlabel('False Positive Rate (1 - Specificity)')\n",
      "plt.ylabel('True Positive Rate (Sensitivity)')"
     ],
     "language": "python",
     "metadata": {},
     "outputs": [
      {
       "metadata": {},
       "output_type": "pyout",
       "prompt_number": 16,
       "text": [
        "<matplotlib.text.Text at 0x192a8da0>"
       ]
      },
      {
       "metadata": {},
       "output_type": "display_data",
       "png": "[encoded data removed]",
       "text": [
        "<matplotlib.figure.Figure at 0x190b9390>"
       ]
      }
     ],
     "prompt_number": 16
    }
   ],
   "metadata": {}
  }
 ]
}