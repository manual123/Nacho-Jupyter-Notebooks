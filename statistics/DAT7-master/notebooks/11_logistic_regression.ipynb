{
 "metadata": {
  "name": "",
  "signature": "sha256:b8e18df49d2fb0874edeb42c9b0843f919cbcf0abc9b3b0498a7d6bcf4b2c69a"
 },
 "nbformat": 3,
 "nbformat_minor": 0,
 "worksheets": [
  {
   "cells": [
    {
     "cell_type": "markdown",
     "metadata": {},
     "source": [
      "# Logistic Regression"
     ]
    },
    {
     "cell_type": "markdown",
     "metadata": {},
     "source": [
      "## Agenda\n",
      "\n",
      "1. Refresh your memory on how to do linear regression in scikit-learn\n",
      "2. Attempt to use linear regression for classification\n",
      "3. Show you why logistic regression is a better alternative for classification\n",
      "4. Brief overview of probability, odds, e, log, and log-odds\n",
      "5. Explain the form of logistic regression\n",
      "6. Explain how to interpret logistic regression coefficients\n",
      "7. Compare logistic regression with other models"
     ]
    },
    {
     "cell_type": "markdown",
     "metadata": {},
     "source": [
      "## Part 1: Predicting a Continuous Response"
     ]
    },
    {
     "cell_type": "code",
     "collapsed": false,
     "input": [
      "# glass identification dataset\n",
      "import pandas as pd\n",
      "url = 'http://archive.ics.uci.edu/ml/machine-learning-databases/glass/glass.data'\n",
      "col_names = ['id','ri','na','mg','al','si','k','ca','ba','fe','glass_type']\n",
      "glass = pd.read_csv(url, names=col_names, index_col='id')\n",
      "glass['assorted'] = glass.glass_type.map({1:0, 2:0, 3:0, 4:0, 5:1, 6:1, 7:1})"
     ],
     "language": "python",
     "metadata": {},
     "outputs": [],
     "prompt_number": 1
    },
    {
     "cell_type": "code",
     "collapsed": false,
     "input": [
      "glass.head()"
     ],
     "language": "python",
     "metadata": {},
     "outputs": [
      {
       "html": [
        "<div style=\"max-width:1500px;overflow:auto;\">\n",
        "<table border=\"1\" class=\"dataframe\">\n",
        "  <thead>\n",
        "    <tr style=\"text-align: right;\">\n",
        "      <th></th>\n",
        "      <th>ri</th>\n",
        "      <th>na</th>\n",
        "      <th>mg</th>\n",
        "      <th>al</th>\n",
        "      <th>si</th>\n",
        "      <th>k</th>\n",
        "      <th>ca</th>\n",
        "      <th>ba</th>\n",
        "      <th>fe</th>\n",
        "      <th>glass_type</th>\n",
        "      <th>assorted</th>\n",
        "    </tr>\n",
        "    <tr>\n",
        "      <th>id</th>\n",
        "      <th></th>\n",
        "      <th></th>\n",
        "      <th></th>\n",
        "      <th></th>\n",
        "      <th></th>\n",
        "      <th></th>\n",
        "      <th></th>\n",
        "      <th></th>\n",
        "      <th></th>\n",
        "      <th></th>\n",
        "      <th></th>\n",
        "    </tr>\n",
        "  </thead>\n",
        "  <tbody>\n",
        "    <tr>\n",
        "      <th>1</th>\n",
        "      <td>1.52101</td>\n",
        "      <td>13.64</td>\n",
        "      <td>4.49</td>\n",
        "      <td>1.10</td>\n",
        "      <td>71.78</td>\n",
        "      <td>0.06</td>\n",
        "      <td>8.75</td>\n",
        "      <td>0</td>\n",
        "      <td>0</td>\n",
        "      <td>1</td>\n",
        "      <td>0</td>\n",
        "    </tr>\n",
        "    <tr>\n",
        "      <th>2</th>\n",
        "      <td>1.51761</td>\n",
        "      <td>13.89</td>\n",
        "      <td>3.60</td>\n",
        "      <td>1.36</td>\n",
        "      <td>72.73</td>\n",
        "      <td>0.48</td>\n",
        "      <td>7.83</td>\n",
        "      <td>0</td>\n",
        "      <td>0</td>\n",
        "      <td>1</td>\n",
        "      <td>0</td>\n",
        "    </tr>\n",
        "    <tr>\n",
        "      <th>3</th>\n",
        "      <td>1.51618</td>\n",
        "      <td>13.53</td>\n",
        "      <td>3.55</td>\n",
        "      <td>1.54</td>\n",
        "      <td>72.99</td>\n",
        "      <td>0.39</td>\n",
        "      <td>7.78</td>\n",
        "      <td>0</td>\n",
        "      <td>0</td>\n",
        "      <td>1</td>\n",
        "      <td>0</td>\n",
        "    </tr>\n",
        "    <tr>\n",
        "      <th>4</th>\n",
        "      <td>1.51766</td>\n",
        "      <td>13.21</td>\n",
        "      <td>3.69</td>\n",
        "      <td>1.29</td>\n",
        "      <td>72.61</td>\n",
        "      <td>0.57</td>\n",
        "      <td>8.22</td>\n",
        "      <td>0</td>\n",
        "      <td>0</td>\n",
        "      <td>1</td>\n",
        "      <td>0</td>\n",
        "    </tr>\n",
        "    <tr>\n",
        "      <th>5</th>\n",
        "      <td>1.51742</td>\n",
        "      <td>13.27</td>\n",
        "      <td>3.62</td>\n",
        "      <td>1.24</td>\n",
        "      <td>73.08</td>\n",
        "      <td>0.55</td>\n",
        "      <td>8.07</td>\n",
        "      <td>0</td>\n",
        "      <td>0</td>\n",
        "      <td>1</td>\n",
        "      <td>0</td>\n",
        "    </tr>\n",
        "  </tbody>\n",
        "</table>\n",
        "</div>"
       ],
       "metadata": {},
       "output_type": "pyout",
       "prompt_number": 2,
       "text": [
        "         ri     na    mg    al     si     k    ca  ba  fe  glass_type  \\\n",
        "id                                                                      \n",
        "1   1.52101  13.64  4.49  1.10  71.78  0.06  8.75   0   0           1   \n",
        "2   1.51761  13.89  3.60  1.36  72.73  0.48  7.83   0   0           1   \n",
        "3   1.51618  13.53  3.55  1.54  72.99  0.39  7.78   0   0           1   \n",
        "4   1.51766  13.21  3.69  1.29  72.61  0.57  8.22   0   0           1   \n",
        "5   1.51742  13.27  3.62  1.24  73.08  0.55  8.07   0   0           1   \n",
        "\n",
        "    assorted  \n",
        "id            \n",
        "1          0  \n",
        "2          0  \n",
        "3          0  \n",
        "4          0  \n",
        "5          0  "
       ]
      }
     ],
     "prompt_number": 2
    },
    {
     "cell_type": "markdown",
     "metadata": {},
     "source": [
      "Pretend that we want to predict **ri**, and our only feature is **al**. How would we do it using machine learning? We would frame it as a regression problem, and use a linear regression model with **al** as the only feature and **ri** as the response.\n",
      "\n",
      "How would we **visualize** this model? Create a scatter plot with **al** on the x-axis and **ri** on the y-axis, and draw the line of best fit."
     ]
    },
    {
     "cell_type": "code",
     "collapsed": false,
     "input": [
      "import seaborn as sns\n",
      "import matplotlib.pyplot as plt\n",
      "%matplotlib inline"
     ],
     "language": "python",
     "metadata": {},
     "outputs": [],
     "prompt_number": 3
    },
    {
     "cell_type": "code",
     "collapsed": false,
     "input": [
      "sns.lmplot(x='al', y='ri', data=glass, ci=None)"
     ],
     "language": "python",
     "metadata": {},
     "outputs": [
      {
       "metadata": {},
       "output_type": "pyout",
       "prompt_number": 4,
       "text": [
        "<seaborn.axisgrid.FacetGrid at 0x18bebfd0>"
       ]
      },
      {
       "metadata": {},
       "output_type": "display_data",
       "png": "[encoded data removed]",
       "text": [
        "<matplotlib.figure.Figure at 0x18c69198>"
       ]
      }
     ],
     "prompt_number": 4
    },
    {
     "cell_type": "markdown",
     "metadata": {},
     "source": [
      "If we had an **al** value of 2, what would we predict for **ri**? Roughly 1.517.\n",
      "\n",
      "**Exercise:** Draw this plot without using Seaborn."
     ]
    },
    {
     "cell_type": "code",
     "collapsed": false,
     "input": [
      "# scatter plot using Pandas\n",
      "glass.plot(kind='scatter', x='al', y='ri')"
     ],
     "language": "python",
     "metadata": {},
     "outputs": [
      {
       "metadata": {},
       "output_type": "pyout",
       "prompt_number": 5,
       "text": [
        "<matplotlib.axes._subplots.AxesSubplot at 0x18c94b70>"
       ]
      },
      {
       "metadata": {},
       "output_type": "display_data",
       "png": "[encoded data removed]",
       "text": [
        "<matplotlib.figure.Figure at 0x3ec7208>"
       ]
      }
     ],
     "prompt_number": 5
    },
    {
     "cell_type": "code",
     "collapsed": false,
     "input": [
      "# scatter plot using Matplotlib\n",
      "plt.scatter(glass.al, glass.ri)"
     ],
     "language": "python",
     "metadata": {},
     "outputs": [
      {
       "metadata": {},
       "output_type": "pyout",
       "prompt_number": 6,
       "text": [
        "<matplotlib.collections.PathCollection at 0x19168b70>"
       ]
      },
      {
       "metadata": {},
       "output_type": "display_data",
       "png": "[encoded data removed]",
       "text": [
        "<matplotlib.figure.Figure at 0x19138be0>"
       ]
      }
     ],
     "prompt_number": 6
    },
    {
     "cell_type": "code",
     "collapsed": false,
     "input": [
      "# fit a linear regression model\n",
      "from sklearn.linear_model import LinearRegression\n",
      "linreg = LinearRegression()\n",
      "feature_cols = ['al']\n",
      "X = glass[feature_cols]\n",
      "y = glass.ri\n",
      "linreg.fit(X, y)"
     ],
     "language": "python",
     "metadata": {},
     "outputs": [
      {
       "metadata": {},
       "output_type": "pyout",
       "prompt_number": 7,
       "text": [
        "LinearRegression(copy_X=True, fit_intercept=True, normalize=False)"
       ]
      }
     ],
     "prompt_number": 7
    },
    {
     "cell_type": "code",
     "collapsed": false,
     "input": [
      "# look at the coefficients to get the equation for the line, but then how do you plot the line?\n",
      "print linreg.intercept_\n",
      "print linreg.coef_"
     ],
     "language": "python",
     "metadata": {},
     "outputs": [
      {
       "output_type": "stream",
       "stream": "stdout",
       "text": [
        "1.52194533024\n",
        "[-0.00247761]\n"
       ]
      }
     ],
     "prompt_number": 8
    },
    {
     "cell_type": "code",
     "collapsed": false,
     "input": [
      "# you could make predictions for arbitrary points, and then plot a line connecting them\n",
      "print linreg.predict(1)\n",
      "print linreg.predict(2)\n",
      "print linreg.predict(3)"
     ],
     "language": "python",
     "metadata": {},
     "outputs": [
      {
       "output_type": "stream",
       "stream": "stdout",
       "text": [
        "[ 1.51946772]\n",
        "[ 1.51699012]\n",
        "[ 1.51451251]\n"
       ]
      }
     ],
     "prompt_number": 9
    },
    {
     "cell_type": "code",
     "collapsed": false,
     "input": [
      "# or you could make predictions for all values of X, and then plot those predictions connected by a line\n",
      "ri_pred = linreg.predict(X)\n",
      "plt.plot(glass.al, ri_pred, color='red')"
     ],
     "language": "python",
     "metadata": {},
     "outputs": [
      {
       "metadata": {},
       "output_type": "pyout",
       "prompt_number": 10,
       "text": [
        "[<matplotlib.lines.Line2D at 0x1a2d89b0>]"
       ]
      },
      {
       "metadata": {},
       "output_type": "display_data",
       "png": "[encoded data removed]",
       "text": [
        "<matplotlib.figure.Figure at 0x1914f198>"
       ]
      }
     ],
     "prompt_number": 10
    },
    {
     "cell_type": "code",
     "collapsed": false,
     "input": [
      "# put the plots together\n",
      "plt.scatter(glass.al, glass.ri)\n",
      "plt.plot(glass.al, ri_pred, color='red')"
     ],
     "language": "python",
     "metadata": {},
     "outputs": [
      {
       "metadata": {},
       "output_type": "pyout",
       "prompt_number": 11,
       "text": [
        "[<matplotlib.lines.Line2D at 0x1a2c6080>]"
       ]
      },
      {
       "metadata": {},
       "output_type": "display_data",
       "png": "[encoded data removed]",
       "text": [
        "<matplotlib.figure.Figure at 0x1a2c2198>"
       ]
      }
     ],
     "prompt_number": 11
    },
    {
     "cell_type": "markdown",
     "metadata": {},
     "source": [
      "### Refresher: interpreting linear regression coefficients"
     ]
    },
    {
     "cell_type": "markdown",
     "metadata": {},
     "source": [
      "Linear regression equation: $y = \\beta_0 + \\beta_1x$"
     ]
    },
    {
     "cell_type": "code",
     "collapsed": false,
     "input": [
      "# compute prediction for al=2 using the equation\n",
      "linreg.intercept_ + linreg.coef_ * 2"
     ],
     "language": "python",
     "metadata": {},
     "outputs": [
      {
       "metadata": {},
       "output_type": "pyout",
       "prompt_number": 12,
       "text": [
        "array([ 1.51699012])"
       ]
      }
     ],
     "prompt_number": 12
    },
    {
     "cell_type": "code",
     "collapsed": false,
     "input": [
      "# compute prediction for al=2 using the predict method\n",
      "linreg.predict(2)"
     ],
     "language": "python",
     "metadata": {},
     "outputs": [
      {
       "metadata": {},
       "output_type": "pyout",
       "prompt_number": 13,
       "text": [
        "array([ 1.51699012])"
       ]
      }
     ],
     "prompt_number": 13
    },
    {
     "cell_type": "code",
     "collapsed": false,
     "input": [
      "# examine coefficient for al\n",
      "zip(feature_cols, linreg.coef_)"
     ],
     "language": "python",
     "metadata": {},
     "outputs": [
      {
       "metadata": {},
       "output_type": "pyout",
       "prompt_number": 14,
       "text": [
        "[('al', -0.0024776063874696243)]"
       ]
      }
     ],
     "prompt_number": 14
    },
    {
     "cell_type": "markdown",
     "metadata": {},
     "source": [
      "**Interpretation:** A 1 unit increase in 'al' is associated with a 0.0025 unit decrease in 'ri'."
     ]
    },
    {
     "cell_type": "code",
     "collapsed": false,
     "input": [
      "# increasing al by 1 (so that al=3) decreases ri by 0.0025\n",
      "1.51699012 - 0.0024776063874696243"
     ],
     "language": "python",
     "metadata": {},
     "outputs": [
      {
       "metadata": {},
       "output_type": "pyout",
       "prompt_number": 15,
       "text": [
        "1.5145125136125304"
       ]
      }
     ],
     "prompt_number": 15
    },
    {
     "cell_type": "code",
     "collapsed": false,
     "input": [
      "# compute prediction for al=3 using the predict method\n",
      "linreg.predict(3)"
     ],
     "language": "python",
     "metadata": {},
     "outputs": [
      {
       "metadata": {},
       "output_type": "pyout",
       "prompt_number": 16,
       "text": [
        "array([ 1.51451251])"
       ]
      }
     ],
     "prompt_number": 16
    },
    {
     "cell_type": "markdown",
     "metadata": {},
     "source": [
      "## Part 2: Predicting a Categorical Response"
     ]
    },
    {
     "cell_type": "markdown",
     "metadata": {},
     "source": [
      "Let's change our task, so that we're predicting **assorted** using **al**. Let's visualize the relationship to figure out how to do this:"
     ]
    },
    {
     "cell_type": "code",
     "collapsed": false,
     "input": [
      "plt.scatter(glass.al, glass.assorted)"
     ],
     "language": "python",
     "metadata": {},
     "outputs": [
      {
       "metadata": {},
       "output_type": "pyout",
       "prompt_number": 17,
       "text": [
        "<matplotlib.collections.PathCollection at 0x1a655710>"
       ]
      },
      {
       "metadata": {},
       "output_type": "display_data",
       "png": "[encoded data removed]",
       "text": [
        "<matplotlib.figure.Figure at 0x1a62b128>"
       ]
      }
     ],
     "prompt_number": 17
    },
    {
     "cell_type": "markdown",
     "metadata": {},
     "source": [
      "Let's draw a **regression line**, like we did before:"
     ]
    },
    {
     "cell_type": "code",
     "collapsed": false,
     "input": [
      "# fit a linear regression model and store the predictions\n",
      "feature_cols = ['al']\n",
      "X = glass[feature_cols]\n",
      "y = glass.assorted\n",
      "linreg.fit(X, y)\n",
      "assorted_pred = linreg.predict(X)"
     ],
     "language": "python",
     "metadata": {},
     "outputs": [],
     "prompt_number": 18
    },
    {
     "cell_type": "code",
     "collapsed": false,
     "input": [
      "# scatter plot that includes the regression line\n",
      "plt.scatter(glass.al, glass.assorted)\n",
      "plt.plot(glass.al, assorted_pred, color='red')"
     ],
     "language": "python",
     "metadata": {},
     "outputs": [
      {
       "metadata": {},
       "output_type": "pyout",
       "prompt_number": 19,
       "text": [
        "[<matplotlib.lines.Line2D at 0x1a8d2080>]"
       ]
      },
      {
       "metadata": {},
       "output_type": "display_data",
       "png": "[encoded data removed]",
       "text": [
        "<matplotlib.figure.Figure at 0x1a2a6160>"
       ]
      }
     ],
     "prompt_number": 19
    },
    {
     "cell_type": "markdown",
     "metadata": {},
     "source": [
      "If **al=3**, what class do we predict for assorted? **1**\n",
      "\n",
      "If **al=1.5**, what class do we predict for assorted? **0**\n",
      "\n",
      "So, we predict the 0 class for **lower** values of al, and the 1 class for **higher** values of al. What's our cutoff value? Around **al=2**, because that's where the linear regression line crosses the midpoint between predicting class 0 and class 1.\n",
      "\n",
      "So, we'll say that if **assorted_pred >= 0.5**, we predict a class of **1**, else we predict a class of **0**."
     ]
    },
    {
     "cell_type": "code",
     "collapsed": false,
     "input": [
      "# understanding np.where\n",
      "import numpy as np\n",
      "nums = np.array([5, 15, 8])"
     ],
     "language": "python",
     "metadata": {},
     "outputs": [],
     "prompt_number": 20
    },
    {
     "cell_type": "code",
     "collapsed": false,
     "input": [
      "# np.where returns the first value if the condition is True, and the second value if the condition is False\n",
      "np.where(nums > 10, 'big', 'small')"
     ],
     "language": "python",
     "metadata": {},
     "outputs": [
      {
       "metadata": {},
       "output_type": "pyout",
       "prompt_number": 21,
       "text": [
        "array(['small', 'big', 'small'], \n",
        "      dtype='|S5')"
       ]
      }
     ],
     "prompt_number": 21
    },
    {
     "cell_type": "code",
     "collapsed": false,
     "input": [
      "# examine the predictions\n",
      "assorted_pred[:10]"
     ],
     "language": "python",
     "metadata": {},
     "outputs": [
      {
       "metadata": {},
       "output_type": "pyout",
       "prompt_number": 22,
       "text": [
        "array([ 0.06545853,  0.19576455,  0.28597641,  0.16068216,  0.13562331,\n",
        "        0.32607057,  0.08550561,  0.04039968,  0.20077632,  0.19576455])"
       ]
      }
     ],
     "prompt_number": 22
    },
    {
     "cell_type": "code",
     "collapsed": false,
     "input": [
      "# transform predictions to 1 or 0\n",
      "assorted_pred_class = np.where(assorted_pred >= 0.5, 1, 0)\n",
      "assorted_pred_class"
     ],
     "language": "python",
     "metadata": {},
     "outputs": [
      {
       "metadata": {},
       "output_type": "pyout",
       "prompt_number": 23,
       "text": [
        "array([0, 0, 0, 0, 0, 0, 0, 0, 0, 0, 0, 0, 0, 0, 0, 0, 0, 0, 0, 0, 0, 0, 0,\n",
        "       0, 0, 0, 0, 0, 0, 0, 0, 0, 0, 0, 0, 0, 0, 0, 0, 0, 0, 0, 0, 0, 0, 0,\n",
        "       0, 0, 0, 0, 0, 0, 0, 0, 0, 0, 0, 0, 0, 0, 0, 0, 0, 0, 0, 0, 0, 0, 0,\n",
        "       0, 0, 0, 0, 0, 0, 0, 0, 0, 0, 0, 1, 0, 0, 0, 1, 0, 0, 0, 0, 0, 0, 0,\n",
        "       0, 0, 0, 0, 0, 0, 0, 0, 0, 0, 0, 0, 0, 0, 1, 0, 0, 0, 0, 0, 0, 0, 0,\n",
        "       0, 0, 0, 0, 0, 0, 0, 0, 0, 0, 0, 0, 0, 0, 0, 0, 0, 0, 0, 0, 0, 0, 0,\n",
        "       0, 0, 0, 0, 0, 0, 0, 0, 0, 0, 0, 0, 0, 0, 0, 0, 0, 0, 0, 0, 0, 0, 0,\n",
        "       0, 0, 1, 0, 0, 0, 0, 0, 0, 0, 1, 1, 0, 1, 0, 0, 0, 0, 0, 0, 0, 1, 0,\n",
        "       0, 0, 1, 0, 1, 0, 0, 1, 1, 1, 1, 1, 1, 1, 1, 1, 1, 0, 1, 1, 1, 0, 0,\n",
        "       0, 1, 1, 1, 1, 0, 1])"
       ]
      }
     ],
     "prompt_number": 23
    },
    {
     "cell_type": "code",
     "collapsed": false,
     "input": [
      "# plot the class predictions\n",
      "plt.scatter(glass.al, glass.assorted)\n",
      "plt.plot(glass.al, assorted_pred_class, color='red')"
     ],
     "language": "python",
     "metadata": {},
     "outputs": [
      {
       "metadata": {},
       "output_type": "pyout",
       "prompt_number": 24,
       "text": [
        "[<matplotlib.lines.Line2D at 0x1a8d20f0>]"
       ]
      },
      {
       "metadata": {},
       "output_type": "display_data",
       "png": "[encoded data removed]",
       "text": [
        "<matplotlib.figure.Figure at 0x1a8d2898>"
       ]
      }
     ],
     "prompt_number": 24
    },
    {
     "cell_type": "markdown",
     "metadata": {},
     "source": [
      "What went wrong? This is a line plot, and it connects points in the order they are found. Let's sort the DataFrame by \"al\" to fix this:"
     ]
    },
    {
     "cell_type": "code",
     "collapsed": false,
     "input": [
      "# add predicted class to DataFrame\n",
      "glass['assorted_pred_class'] = assorted_pred_class\n",
      "\n",
      "# sort DataFrame by al\n",
      "glass.sort('al', inplace=True)"
     ],
     "language": "python",
     "metadata": {},
     "outputs": [],
     "prompt_number": 25
    },
    {
     "cell_type": "code",
     "collapsed": false,
     "input": [
      "# plot the class predictions again\n",
      "plt.scatter(glass.al, glass.assorted)\n",
      "plt.plot(glass.al, glass.assorted_pred_class, color='red')"
     ],
     "language": "python",
     "metadata": {},
     "outputs": [
      {
       "metadata": {},
       "output_type": "pyout",
       "prompt_number": 26,
       "text": [
        "[<matplotlib.lines.Line2D at 0x1adc1b70>]"
       ]
      },
      {
       "metadata": {},
       "output_type": "display_data",
       "png": "[encoded data removed]",
       "text": [
        "<matplotlib.figure.Figure at 0x1ab3b978>"
       ]
      }
     ],
     "prompt_number": 26
    },
    {
     "cell_type": "markdown",
     "metadata": {},
     "source": [
      "## Part 3: Using Logistic Regression Instead\n",
      "\n",
      "Logistic regression can do what we just did:"
     ]
    },
    {
     "cell_type": "code",
     "collapsed": false,
     "input": [
      "# fit a linear regression model and store the class predictions\n",
      "from sklearn.linear_model import LogisticRegression\n",
      "logreg = LogisticRegression(C=1e9)\n",
      "feature_cols = ['al']\n",
      "X = glass[feature_cols]\n",
      "y = glass.assorted\n",
      "logreg.fit(X, y)\n",
      "assorted_pred_class = logreg.predict(X)"
     ],
     "language": "python",
     "metadata": {},
     "outputs": [],
     "prompt_number": 27
    },
    {
     "cell_type": "code",
     "collapsed": false,
     "input": [
      "# print the class predictions\n",
      "assorted_pred_class"
     ],
     "language": "python",
     "metadata": {},
     "outputs": [
      {
       "metadata": {},
       "output_type": "pyout",
       "prompt_number": 28,
       "text": [
        "array([0, 0, 0, 0, 0, 0, 0, 0, 0, 0, 0, 0, 0, 0, 0, 0, 0, 0, 0, 0, 0, 0, 0,\n",
        "       0, 0, 0, 0, 0, 0, 0, 0, 0, 0, 0, 0, 0, 0, 0, 0, 0, 0, 0, 0, 0, 0, 0,\n",
        "       0, 0, 0, 0, 0, 0, 0, 0, 0, 0, 0, 0, 0, 0, 0, 0, 0, 0, 0, 0, 0, 0, 0,\n",
        "       0, 0, 0, 0, 0, 0, 0, 0, 0, 0, 0, 0, 0, 0, 0, 0, 0, 0, 0, 0, 0, 0, 0,\n",
        "       0, 0, 0, 0, 0, 0, 0, 0, 0, 0, 0, 0, 0, 0, 0, 0, 0, 0, 0, 0, 0, 0, 0,\n",
        "       0, 0, 0, 0, 0, 0, 0, 0, 0, 0, 0, 0, 0, 0, 0, 0, 0, 0, 0, 0, 0, 0, 0,\n",
        "       0, 0, 0, 0, 0, 0, 0, 0, 0, 0, 0, 0, 0, 0, 0, 0, 0, 0, 0, 0, 0, 0, 0,\n",
        "       0, 0, 0, 0, 0, 0, 0, 0, 0, 0, 0, 0, 0, 0, 0, 0, 0, 0, 0, 1, 1, 1, 1,\n",
        "       1, 1, 1, 1, 1, 1, 1, 1, 1, 1, 1, 1, 1, 1, 1, 1, 1, 1, 1, 1, 1, 1, 1,\n",
        "       1, 1, 1, 1, 1, 1, 1], dtype=int64)"
       ]
      }
     ],
     "prompt_number": 28
    },
    {
     "cell_type": "code",
     "collapsed": false,
     "input": [
      "# plot the class predictions\n",
      "plt.scatter(glass.al, glass.assorted)\n",
      "plt.plot(glass.al, assorted_pred_class, color='red')"
     ],
     "language": "python",
     "metadata": {},
     "outputs": [
      {
       "metadata": {},
       "output_type": "pyout",
       "prompt_number": 29,
       "text": [
        "[<matplotlib.lines.Line2D at 0x1ab0dac8>]"
       ]
      },
      {
       "metadata": {},
       "output_type": "display_data",
       "png": "[encoded data removed]",
       "text": [
        "<matplotlib.figure.Figure at 0x1a8cfa20>"
       ]
      }
     ],
     "prompt_number": 29
    },
    {
     "cell_type": "markdown",
     "metadata": {},
     "source": [
      "What if we wanted the **predicted probabilities** instead of just the **class predictions**, to understand how confident we are in a given prediction?"
     ]
    },
    {
     "cell_type": "code",
     "collapsed": false,
     "input": [
      "# store the predicted probabilites of class 1\n",
      "assorted_pred_prob = logreg.predict_proba(X)[:, 1]"
     ],
     "language": "python",
     "metadata": {},
     "outputs": [],
     "prompt_number": 30
    },
    {
     "cell_type": "code",
     "collapsed": false,
     "input": [
      "# plot the predicted probabilities\n",
      "plt.scatter(glass.al, glass.assorted)\n",
      "plt.plot(glass.al, assorted_pred_prob, color='red')"
     ],
     "language": "python",
     "metadata": {},
     "outputs": [
      {
       "metadata": {},
       "output_type": "pyout",
       "prompt_number": 31,
       "text": [
        "[<matplotlib.lines.Line2D at 0x1b42cd68>]"
       ]
      },
      {
       "metadata": {},
       "output_type": "display_data",
       "png": "[encoded data removed]",
       "text": [
        "<matplotlib.figure.Figure at 0x1b42cc50>"
       ]
      }
     ],
     "prompt_number": 31
    },
    {
     "cell_type": "code",
     "collapsed": false,
     "input": [
      "# examine some example predictions\n",
      "print logreg.predict_proba(1)\n",
      "print logreg.predict_proba(2)\n",
      "print logreg.predict_proba(3)"
     ],
     "language": "python",
     "metadata": {},
     "outputs": [
      {
       "output_type": "stream",
       "stream": "stdout",
       "text": [
        "[[ 0.97161726  0.02838274]]\n",
        "[[ 0.34361555  0.65638445]]\n",
        "[[ 0.00794192  0.99205808]]\n"
       ]
      }
     ],
     "prompt_number": 32
    },
    {
     "cell_type": "markdown",
     "metadata": {},
     "source": [
      "What is this? The first column indicates the predicted probability of **class 0**, and the second column indicates the predicted probability of **class 1**."
     ]
    },
    {
     "cell_type": "markdown",
     "metadata": {},
     "source": [
      "## Part 4: Probability, odds, e, log, log-odds\n",
      "\n",
      "$$probability = \\frac {one\\ outcome} {all\\ outcomes}$$\n",
      "\n",
      "$$odds = \\frac {one\\ outcome} {all\\ other\\ outcomes}$$\n",
      "\n",
      "Examples:\n",
      "\n",
      "- Dice roll of 1: probability = 1/6, odds = 1/5\n",
      "- Even dice roll: probability = 3/6, odds = 3/3 = 1\n",
      "- Dice roll less than 5: probability = 4/6, odds = 4/2 = 2\n",
      "\n",
      "$$odds = \\frac {probability} {1 - probability}$$\n",
      "\n",
      "$$probability = \\frac {odds} {1 + odds}$$"
     ]
    },
    {
     "cell_type": "code",
     "collapsed": false,
     "input": [
      "# create a table of probability versus odds\n",
      "table = pd.DataFrame({'probability':[0.1, 0.2, 0.25, 0.5, 0.6, 0.8, 0.9]})\n",
      "table['odds'] = table.probability/(1 - table.probability)\n",
      "table"
     ],
     "language": "python",
     "metadata": {},
     "outputs": [
      {
       "html": [
        "<div style=\"max-width:1500px;overflow:auto;\">\n",
        "<table border=\"1\" class=\"dataframe\">\n",
        "  <thead>\n",
        "    <tr style=\"text-align: right;\">\n",
        "      <th></th>\n",
        "      <th>probability</th>\n",
        "      <th>odds</th>\n",
        "    </tr>\n",
        "  </thead>\n",
        "  <tbody>\n",
        "    <tr>\n",
        "      <th>0</th>\n",
        "      <td>0.10</td>\n",
        "      <td>0.111111</td>\n",
        "    </tr>\n",
        "    <tr>\n",
        "      <th>1</th>\n",
        "      <td>0.20</td>\n",
        "      <td>0.250000</td>\n",
        "    </tr>\n",
        "    <tr>\n",
        "      <th>2</th>\n",
        "      <td>0.25</td>\n",
        "      <td>0.333333</td>\n",
        "    </tr>\n",
        "    <tr>\n",
        "      <th>3</th>\n",
        "      <td>0.50</td>\n",
        "      <td>1.000000</td>\n",
        "    </tr>\n",
        "    <tr>\n",
        "      <th>4</th>\n",
        "      <td>0.60</td>\n",
        "      <td>1.500000</td>\n",
        "    </tr>\n",
        "    <tr>\n",
        "      <th>5</th>\n",
        "      <td>0.80</td>\n",
        "      <td>4.000000</td>\n",
        "    </tr>\n",
        "    <tr>\n",
        "      <th>6</th>\n",
        "      <td>0.90</td>\n",
        "      <td>9.000000</td>\n",
        "    </tr>\n",
        "  </tbody>\n",
        "</table>\n",
        "</div>"
       ],
       "metadata": {},
       "output_type": "pyout",
       "prompt_number": 33,
       "text": [
        "   probability      odds\n",
        "0         0.10  0.111111\n",
        "1         0.20  0.250000\n",
        "2         0.25  0.333333\n",
        "3         0.50  1.000000\n",
        "4         0.60  1.500000\n",
        "5         0.80  4.000000\n",
        "6         0.90  9.000000"
       ]
      }
     ],
     "prompt_number": 33
    },
    {
     "cell_type": "markdown",
     "metadata": {},
     "source": [
      "What is **e**? It is the base rate of growth shared by all continually growing processes:"
     ]
    },
    {
     "cell_type": "code",
     "collapsed": false,
     "input": [
      "# exponential function: e^1\n",
      "np.exp(1)"
     ],
     "language": "python",
     "metadata": {},
     "outputs": [
      {
       "metadata": {},
       "output_type": "pyout",
       "prompt_number": 34,
       "text": [
        "2.7182818284590451"
       ]
      }
     ],
     "prompt_number": 34
    },
    {
     "cell_type": "markdown",
     "metadata": {},
     "source": [
      "What is a **(natural) log**? It gives you the time needed to reach a certain level of growth:"
     ]
    },
    {
     "cell_type": "code",
     "collapsed": false,
     "input": [
      "# time needed to grow 1 unit to 2.718 units\n",
      "np.log(2.718)"
     ],
     "language": "python",
     "metadata": {},
     "outputs": [
      {
       "metadata": {},
       "output_type": "pyout",
       "prompt_number": 35,
       "text": [
        "0.99989631572895199"
       ]
      }
     ],
     "prompt_number": 35
    },
    {
     "cell_type": "markdown",
     "metadata": {},
     "source": [
      "It is also the **inverse** of the exponential function:"
     ]
    },
    {
     "cell_type": "code",
     "collapsed": false,
     "input": [
      "np.log(np.exp(5))"
     ],
     "language": "python",
     "metadata": {},
     "outputs": [
      {
       "metadata": {},
       "output_type": "pyout",
       "prompt_number": 36,
       "text": [
        "5.0"
       ]
      }
     ],
     "prompt_number": 36
    },
    {
     "cell_type": "code",
     "collapsed": false,
     "input": [
      "# add log-odds to the table\n",
      "table['logodds'] = np.log(table.odds)\n",
      "table"
     ],
     "language": "python",
     "metadata": {},
     "outputs": [
      {
       "html": [
        "<div style=\"max-width:1500px;overflow:auto;\">\n",
        "<table border=\"1\" class=\"dataframe\">\n",
        "  <thead>\n",
        "    <tr style=\"text-align: right;\">\n",
        "      <th></th>\n",
        "      <th>probability</th>\n",
        "      <th>odds</th>\n",
        "      <th>logodds</th>\n",
        "    </tr>\n",
        "  </thead>\n",
        "  <tbody>\n",
        "    <tr>\n",
        "      <th>0</th>\n",
        "      <td>0.10</td>\n",
        "      <td>0.111111</td>\n",
        "      <td>-2.197225</td>\n",
        "    </tr>\n",
        "    <tr>\n",
        "      <th>1</th>\n",
        "      <td>0.20</td>\n",
        "      <td>0.250000</td>\n",
        "      <td>-1.386294</td>\n",
        "    </tr>\n",
        "    <tr>\n",
        "      <th>2</th>\n",
        "      <td>0.25</td>\n",
        "      <td>0.333333</td>\n",
        "      <td>-1.098612</td>\n",
        "    </tr>\n",
        "    <tr>\n",
        "      <th>3</th>\n",
        "      <td>0.50</td>\n",
        "      <td>1.000000</td>\n",
        "      <td>0.000000</td>\n",
        "    </tr>\n",
        "    <tr>\n",
        "      <th>4</th>\n",
        "      <td>0.60</td>\n",
        "      <td>1.500000</td>\n",
        "      <td>0.405465</td>\n",
        "    </tr>\n",
        "    <tr>\n",
        "      <th>5</th>\n",
        "      <td>0.80</td>\n",
        "      <td>4.000000</td>\n",
        "      <td>1.386294</td>\n",
        "    </tr>\n",
        "    <tr>\n",
        "      <th>6</th>\n",
        "      <td>0.90</td>\n",
        "      <td>9.000000</td>\n",
        "      <td>2.197225</td>\n",
        "    </tr>\n",
        "  </tbody>\n",
        "</table>\n",
        "</div>"
       ],
       "metadata": {},
       "output_type": "pyout",
       "prompt_number": 37,
       "text": [
        "   probability      odds   logodds\n",
        "0         0.10  0.111111 -2.197225\n",
        "1         0.20  0.250000 -1.386294\n",
        "2         0.25  0.333333 -1.098612\n",
        "3         0.50  1.000000  0.000000\n",
        "4         0.60  1.500000  0.405465\n",
        "5         0.80  4.000000  1.386294\n",
        "6         0.90  9.000000  2.197225"
       ]
      }
     ],
     "prompt_number": 37
    },
    {
     "cell_type": "markdown",
     "metadata": {},
     "source": [
      "## Part 5: What is Logistic Regression?"
     ]
    },
    {
     "cell_type": "markdown",
     "metadata": {},
     "source": [
      "**Linear regression:** continuous response is modeled as a linear combination of the features:\n",
      "\n",
      "$$y = \\beta_0 + \\beta_1x$$\n",
      "\n",
      "**Logistic regression:** log-odds of a categorical response being \"true\" (1) is modeled as a linear combination of the features:\n",
      "\n",
      "$$\\log \\left({p\\over 1-p}\\right) = \\beta_0 + \\beta_1x$$\n",
      "\n",
      "This is called the **logit function**.\n",
      "\n",
      "Probability is sometimes written as pi:\n",
      "\n",
      "$$\\log \\left({\\pi\\over 1-\\pi}\\right) = \\beta_0 + \\beta_1x$$\n",
      "\n",
      "The equation can be rearranged into the **logistic function**:\n",
      "\n",
      "$$\\pi = \\frac{e^{\\beta_0 + \\beta_1x}} {1 + e^{\\beta_0 + \\beta_1x}}$$"
     ]
    },
    {
     "cell_type": "markdown",
     "metadata": {},
     "source": [
      "In other words:\n",
      "\n",
      "- Logistic regression outputs the **probabilities of a specific class**\n",
      "- Those probabilities can be converted into **class predictions**\n",
      "\n",
      "The **logistic function** has some nice properties:\n",
      "\n",
      "- Takes on an \"s\" shape\n",
      "- Output is bounded by 0 and 1\n",
      "\n",
      "Notes:\n",
      "\n",
      "- **Multinomial logistic regression** is used when there are more than 2 classes.\n",
      "- Coefficients are estimated using **maximum likelihood estimation**, meaning that we choose parameters that maximize the likelihood of the observed data."
     ]
    },
    {
     "cell_type": "markdown",
     "metadata": {},
     "source": [
      "## Part 6: Interpreting Logistic Regression Coefficients"
     ]
    },
    {
     "cell_type": "code",
     "collapsed": false,
     "input": [
      "# plot the predicted probabilities again\n",
      "plt.scatter(glass.al, glass.assorted)\n",
      "plt.plot(glass.al, assorted_pred_prob, color='red')"
     ],
     "language": "python",
     "metadata": {},
     "outputs": [
      {
       "metadata": {},
       "output_type": "pyout",
       "prompt_number": 38,
       "text": [
        "[<matplotlib.lines.Line2D at 0x1b45b978>]"
       ]
      },
      {
       "metadata": {},
       "output_type": "display_data",
       "png": "[encoded data removed]",
       "text": [
        "<matplotlib.figure.Figure at 0x1b45bc50>"
       ]
      }
     ],
     "prompt_number": 38
    },
    {
     "cell_type": "code",
     "collapsed": false,
     "input": [
      "# compute predicted log-odds for al=2 using the equation\n",
      "logodds = logreg.intercept_ + logreg.coef_[0] * 2\n",
      "logodds"
     ],
     "language": "python",
     "metadata": {},
     "outputs": [
      {
       "metadata": {},
       "output_type": "pyout",
       "prompt_number": 39,
       "text": [
        "array([ 0.64722323])"
       ]
      }
     ],
     "prompt_number": 39
    },
    {
     "cell_type": "code",
     "collapsed": false,
     "input": [
      "# convert log-odds to odds\n",
      "odds = np.exp(logodds)\n",
      "odds"
     ],
     "language": "python",
     "metadata": {},
     "outputs": [
      {
       "metadata": {},
       "output_type": "pyout",
       "prompt_number": 40,
       "text": [
        "array([ 1.91022919])"
       ]
      }
     ],
     "prompt_number": 40
    },
    {
     "cell_type": "code",
     "collapsed": false,
     "input": [
      "# convert odds to probability\n",
      "prob = odds/(1 + odds)\n",
      "prob"
     ],
     "language": "python",
     "metadata": {},
     "outputs": [
      {
       "metadata": {},
       "output_type": "pyout",
       "prompt_number": 41,
       "text": [
        "array([ 0.65638445])"
       ]
      }
     ],
     "prompt_number": 41
    },
    {
     "cell_type": "code",
     "collapsed": false,
     "input": [
      "# compute predicted probability for al=2 using the predict_proba method\n",
      "logreg.predict_proba(2)[:, 1]"
     ],
     "language": "python",
     "metadata": {},
     "outputs": [
      {
       "metadata": {},
       "output_type": "pyout",
       "prompt_number": 42,
       "text": [
        "array([ 0.65638445])"
       ]
      }
     ],
     "prompt_number": 42
    },
    {
     "cell_type": "code",
     "collapsed": false,
     "input": [
      "# examine the coefficient for al\n",
      "zip(feature_cols, logreg.coef_[0])"
     ],
     "language": "python",
     "metadata": {},
     "outputs": [
      {
       "metadata": {},
       "output_type": "pyout",
       "prompt_number": 43,
       "text": [
        "[('al', 4.1804038614510901)]"
       ]
      }
     ],
     "prompt_number": 43
    },
    {
     "cell_type": "markdown",
     "metadata": {},
     "source": [
      "**Interpretation:** A 1 unit increase in 'al' is associated with a 4.18 unit increase in the log-odds of 'assorted'."
     ]
    },
    {
     "cell_type": "code",
     "collapsed": false,
     "input": [
      "# increasing al by 1 (so that al=3) increases the log-odds by 4.18\n",
      "logodds = 0.64722323 + 4.1804038614510901\n",
      "odds = np.exp(logodds)\n",
      "prob = odds/(1 + odds)\n",
      "prob"
     ],
     "language": "python",
     "metadata": {},
     "outputs": [
      {
       "metadata": {},
       "output_type": "pyout",
       "prompt_number": 44,
       "text": [
        "0.99205808391674566"
       ]
      }
     ],
     "prompt_number": 44
    },
    {
     "cell_type": "code",
     "collapsed": false,
     "input": [
      "# compute predicted probability for al=3 using the predict_proba method\n",
      "logreg.predict_proba(3)[:, 1]"
     ],
     "language": "python",
     "metadata": {},
     "outputs": [
      {
       "metadata": {},
       "output_type": "pyout",
       "prompt_number": 45,
       "text": [
        "array([ 0.99205808])"
       ]
      }
     ],
     "prompt_number": 45
    },
    {
     "cell_type": "markdown",
     "metadata": {},
     "source": [
      "**Bottom line:** Positive coefficients increase the log-odds of the response (and thus increase the probability), and negative coefficients decrease the log-odds of the response (and thus decrease the probability)."
     ]
    },
    {
     "cell_type": "code",
     "collapsed": false,
     "input": [
      "# examine the intercept\n",
      "logreg.intercept_"
     ],
     "language": "python",
     "metadata": {},
     "outputs": [
      {
       "metadata": {},
       "output_type": "pyout",
       "prompt_number": 46,
       "text": [
        "array([-7.71358449])"
       ]
      }
     ],
     "prompt_number": 46
    },
    {
     "cell_type": "markdown",
     "metadata": {},
     "source": [
      "**Interpretation:** For an 'al' value of 0, the log-odds of 'assorted' is -7.71."
     ]
    },
    {
     "cell_type": "code",
     "collapsed": false,
     "input": [
      "# convert log-odds to probability\n",
      "logodds = logreg.intercept_\n",
      "odds = np.exp(logodds)\n",
      "prob = odds/(1 + odds)\n",
      "prob"
     ],
     "language": "python",
     "metadata": {},
     "outputs": [
      {
       "metadata": {},
       "output_type": "pyout",
       "prompt_number": 47,
       "text": [
        "array([ 0.00044652])"
       ]
      }
     ],
     "prompt_number": 47
    },
    {
     "cell_type": "markdown",
     "metadata": {},
     "source": [
      "That makes sense from the plot above, because the probability of assorted=1 should be very low for such a low 'al' value."
     ]
    },
    {
     "cell_type": "markdown",
     "metadata": {},
     "source": [
      "![](images/logistic_betas.png)"
     ]
    },
    {
     "cell_type": "markdown",
     "metadata": {},
     "source": [
      "Changing the $\\beta_0$ value shifts the curve **horizontally**, whereas changing the $\\beta_1$ value changes the **slope** of the curve."
     ]
    },
    {
     "cell_type": "markdown",
     "metadata": {},
     "source": [
      "## Part 7: Comparing Logistic Regression with Other Models\n",
      "\n",
      "Advantages of logistic regression:\n",
      "\n",
      "- Highly interpretable (if you remember how)\n",
      "- Model training and prediction are fast\n",
      "- No tuning is required (excluding regularization)\n",
      "- Features don't need scaling\n",
      "- Can perform well with a small number of observations\n",
      "- Outputs well-calibrated predicted probabilities\n",
      "\n",
      "Disadvantages of logistic regression:\n",
      "\n",
      "- Presumes a linear relationship between the features and the log-odds of the response\n",
      "- Performance is (generally) not competitive with the best supervised learning methods\n",
      "- Sensitive to irrelevant features\n",
      "- Can't automatically learn feature interactions"
     ]
    }
   ],
   "metadata": {}
  }
 ]
}