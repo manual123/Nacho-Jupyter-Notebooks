{
 "cells": [
  {
   "cell_type": "markdown",
   "metadata": {},
   "source": [
    "# Advanced Analytics with SciPy and sci-kit learn\n",
    "\n",
    "\n",
    "## Learning Objectives\n",
    "\n",
    "- 4.1 Understand SciPy\n",
    "- 4.2 Compute means, medians, quartiles, and other statistics\n",
    "- 4.3 Fit data and interpolate\n",
    "- 4.4 Understand SciKit Learn\n",
    "\n",
    "We're going to study 2012 temperature data in New York City.  \n",
    "\n",
    "SciPy refers to several related but distinct entities:\n",
    "\n",
    "The Scipy Stack, a collection of open source software for scientific computing in Python, and particularly a specified set of core packages.\n",
    "The community of people who use and develop this stack.\n",
    "Several conferences dedicated to scientific computing in Python - Scipy, EuroScipy and Scipy.in.\n",
    "The SciPy library, one component of the Scipy stack, providing many numerical routines.\n",
    "\n",
    "The Scipy Stack\n",
    "\n",
    "Python, a general purpose programming language. It is interpreted and dynamically typed and is very suited for interactive work and quick prototyping, while being powerful enough to write large applications in.\n",
    "\n",
    "NumPy, the fundamental package for numerical computation. It defines the numerical array and matrix types and basic operations on them.\n",
    "\n",
    "The SciPy library, a collection of numerical algorithms and domain-specific toolboxes, including signal processing, optimization, statistics and much more.\n",
    "\n",
    "Matplotlib, a mature and popular plotting package, that provides publication-quality 2D plotting as well as rudimentary 3D plotting\n",
    "\n",
    "pandas, providing high-performance, easy to use data structures.\n",
    "\n",
    "SymPy, for symbolic mathematics and computer algebra.\n",
    "\n",
    "IPython, a rich interactive interface, letting you quickly process data and test ideas. The IPython notebook works in your web browser, allowing you to document your computation in an easily reproducible form.\n",
    "\n",
    "nose, a framework for testing Python code.\n"
   ]
  },
  {
   "cell_type": "markdown",
   "metadata": {},
   "source": [
    "### Import Modules"
   ]
  },
  {
   "cell_type": "code",
   "execution_count": 1,
   "metadata": {},
   "outputs": [],
   "source": [
    "import numpy as np\n",
    "import zipfile\n",
    "import os\n",
    "import urllib2"
   ]
  },
  {
   "cell_type": "code",
   "execution_count": 76,
   "metadata": {},
   "outputs": [
    {
     "name": "stdout",
     "output_type": "stream",
     "text": [
      "Downloading Stations CSV\n",
      "weather/CALOSANG.txt\n",
      "weather/CASANFRA.txt\n",
      "weather/INSOBEND.txt\n",
      "weather/KYLEXING.txt\n",
      "weather/MDWASHDC.txt\n",
      "weather/NYNEWYOR.txt\n",
      "weather/WASEATTL.txt\n"
     ]
    }
   ],
   "source": [
    "url = 'http://files.figshare.com/1116528/weather.zip'\n",
    "\n",
    "print 'Downloading Stations CSV'\n",
    "\n",
    "response = urllib2.urlopen(url)\n",
    "\n",
    "fname = 'weather.zip'\n",
    "with open(fname,'wb') as f:\n",
    "    f.write(response.read())\n",
    "\n",
    "zfile = zipfile.ZipFile(\"weather.zip\")\n",
    "dirname = zfile.namelist()[0]\n",
    "\n",
    "#check if directory exists\n",
    "if not os.path.exists(dirname):\n",
    "    os.mkdir(dirname)\n",
    "    \n",
    "for name in zfile.namelist()[1:]:\n",
    "    print name\n",
    "    with open(name,\"w\") as f:\n",
    "        f.write(zfile.read(name))"
   ]
  },
  {
   "cell_type": "code",
   "execution_count": 2,
   "metadata": {},
   "outputs": [],
   "source": [
    "dt = np.dtype([('Month', 'int8'), ('Day', 'int8'), ('Year', 'int16'), ('Temp', 'float64')])\n",
    "data = np.loadtxt('weather/NYNEWYOR.txt',dtype=dt)\n",
    "data[:5]\n",
    "total_days = len(data)"
   ]
  },
  {
   "cell_type": "code",
   "execution_count": 3,
   "metadata": {},
   "outputs": [],
   "source": [
    "year2012 = data[data['Year']==2012]"
   ]
  },
  {
   "cell_type": "markdown",
   "metadata": {},
   "source": [
    "SciPy contains several modules/toolboxes dedicated to common issues in scientific computing.  While a given domain will need tools from several different modules,\n",
    "the modules have been separated for different computing applications.  At a high level there are modules for\n",
    "\n",
    "- Linear Algebra\n",
    "- Fitting and Optimizing functions\n",
    "- Statistics\n",
    "- Integration\n",
    "- Interpolation\n",
    "\n",
    "And a few other modules for signal and image processing and other more specialized computing.\n",
    "\n",
    "###Section 5.1 Stats"
   ]
  },
  {
   "cell_type": "code",
   "execution_count": 4,
   "metadata": {},
   "outputs": [],
   "source": [
    "from scipy import stats\n",
    "import scipy as sp"
   ]
  },
  {
   "cell_type": "markdown",
   "metadata": {},
   "source": [
    "Descriptive statistics are baked in.\n",
    "\n",
    "skew, kurtosis are the 3rd and 4th order moments of the distribution."
   ]
  },
  {
   "cell_type": "code",
   "execution_count": 5,
   "metadata": {},
   "outputs": [
    {
     "name": "stdout",
     "output_type": "stream",
     "text": [
      "number of points:  366\n",
      "min/max:  (19.100000000000001, 89.200000000000003)\n",
      "mean:  58.068579235\n",
      "variance:  247.366873044\n",
      "skew:  0.00160652566232\n",
      "kurtosis:  -1.01332994349\n",
      "median:  58.25\n"
     ]
    }
   ],
   "source": [
    "def describe_data(x):\n",
    "    n, min_max, mean, var, skew, kurt = sp.stats.describe(x)\n",
    "    print 'number of points: ', n\n",
    "    print 'min/max: ', min_max\n",
    "    print 'mean: ', mean\n",
    "    print 'variance: ', var\n",
    "    print 'skew: ', skew\n",
    "    print 'kurtosis: ', kurt\n",
    "    print 'median: ', sp.median(x)\n",
    "    \n",
    "describe_data(year2012['Temp'])"
   ]
  },
  {
   "cell_type": "markdown",
   "metadata": {},
   "source": [
    "Quartile calculation, demarcators of boundaries of median, etc.. of data"
   ]
  },
  {
   "cell_type": "code",
   "execution_count": 6,
   "metadata": {},
   "outputs": [
    {
     "data": {
      "text/plain": [
       "array([ 58.25 ,  71.805,  89.2  ])"
      ]
     },
     "execution_count": 6,
     "metadata": {},
     "output_type": "execute_result"
    }
   ],
   "source": [
    "sp.stats.mstats.mquantiles(year2012['Temp'],[0.5, 0.75, 1.0])"
   ]
  },
  {
   "cell_type": "markdown",
   "metadata": {},
   "source": [
    "SciPy's stats package has many convenience functions for handling continuous and discrete random variables.  This is an advanced topic that we'll briefly dive into here."
   ]
  },
  {
   "cell_type": "markdown",
   "metadata": {},
   "source": [
    "### Fitting a distribution with known parameters"
   ]
  },
  {
   "cell_type": "code",
   "execution_count": 7,
   "metadata": {},
   "outputs": [
    {
     "name": "stdout",
     "output_type": "stream",
     "text": [
      "\n",
      "Welcome to pylab, a matplotlib-based Python environment [backend: module://IPython.kernel.zmq.pylab.backend_inline].\n",
      "For more information, type 'help(pylab)'.\n"
     ]
    }
   ],
   "source": [
    "%pylab inline\n",
    "import matplotlib.pyplot as plt"
   ]
  },
  {
   "cell_type": "code",
   "execution_count": 9,
   "metadata": {},
   "outputs": [
    {
     "name": "stdout",
     "output_type": "stream",
     "text": [
      "(25.068608210737064, 0.88072985039898022)\n"
     ]
    },
    {
     "data": {
      "image/png": "[encoded data removed]",
      "text/plain": [
       "<matplotlib.figure.Figure at 0x10503e190>"
      ]
     },
     "metadata": {},
     "output_type": "display_data"
    }
   ],
   "source": [
    "import numpy as np\n",
    "np.random.seed(1)\n",
    "# create random variables\n",
    "rnd = sp.stats.norm.rvs(loc=25,scale=1,size=150) \n",
    "\n",
    "param = sp.stats.norm.fit(rnd) # distribution fitting\n",
    "\n",
    "# now, param[0] and param[1] are the mean and \n",
    "# the standard deviation of the fitted distribution\n",
    "print param\n",
    "x = np.linspace(20,30,100)\n",
    "# fitted distribution\n",
    "pdf_fitted = sp.stats.norm.pdf(x,loc=param[0],scale=param[1])\n",
    "\n",
    "plt.title('Normal distribution')\n",
    "plt.plot(x,pdf_fitted,'r-')\n",
    "plt.plot(x,pdf_fitted+0.1,'g-')\n",
    "plt.hist(rnd,normed=1,alpha=.3);"
   ]
  },
  {
   "cell_type": "code",
   "execution_count": 10,
   "metadata": {},
   "outputs": [
    {
     "data": {
      "image/png": "[encoded data removed]",
      "text/plain": [
       "<matplotlib.figure.Figure at 0x105035d50>"
      ]
     },
     "metadata": {},
     "output_type": "display_data"
    }
   ],
   "source": [
    "plt.hist(year2012['Temp'],bins=20);"
   ]
  },
  {
   "cell_type": "markdown",
   "metadata": {},
   "source": [
    "A common way to estimate an unknown probability density function from a collection of samples of random variables (here, the Temperature), is the Gaussian KDE, where KDE stands for kernel density estimation.\n",
    "\n",
    "You deliver your data to the function, and SciPy stats runs the advanced statistical tool for you."
   ]
  },
  {
   "cell_type": "code",
   "execution_count": 11,
   "metadata": {},
   "outputs": [
    {
     "data": {
      "image/png": "[encoded data removed]",
      "text/plain": [
       "<matplotlib.figure.Figure at 0x105058550>"
      ]
     },
     "metadata": {},
     "output_type": "display_data"
    }
   ],
   "source": [
    "pdf = sp.stats.gaussian_kde(data['Temp'])\n",
    "x = np.arange(10,100)\n",
    "plt.hist(year2012['Temp'],bins=20,normed=True)\n",
    "plt.plot(x,pdf(x),'r-');"
   ]
  },
  {
   "cell_type": "markdown",
   "metadata": {},
   "source": [
    "Let's add more data.  "
   ]
  },
  {
   "cell_type": "code",
   "execution_count": 94,
   "metadata": {},
   "outputs": [
    {
     "name": "stdout",
     "output_type": "stream",
     "text": [
      "['weather/CALOSANG.txt', 'weather/CASANFRA.txt', 'weather/INSOBEND.txt', 'weather/KYLEXING.txt', 'weather/MDWASHDC.txt', 'weather/NYNEWYOR.txt', 'weather/WASEATTL.txt']\n"
     ]
    }
   ],
   "source": [
    "import glob\n",
    "files = glob.glob('weather/*.txt')\n",
    "names = [os.path.splitext(os.path.basename(file))[0] for file in files]\n",
    "print files"
   ]
  },
  {
   "cell_type": "markdown",
   "metadata": {},
   "source": [
    "We have a large collection of data that we'd like to analyze as a single array spread out across multiple files.  In this case, the chunks of data in each are compatible.  We'll use a vstack here of a concatenate, but in general you may need to use concatenate for merging irregularly-sized arrays.\n",
    "\n",
    "globbing = pattern matching based on wildcard characters, the most common of which is the *."
   ]
  },
  {
   "cell_type": "code",
   "execution_count": 96,
   "metadata": {},
   "outputs": [],
   "source": [
    "dt = np.dtype([('Month', 'int8'), ('Day', 'int8'), ('Year', 'int16'), ('Temp', 'float64')])\n",
    "total_temps = []\n",
    "files = glob.glob('weather/*.txt')\n",
    "for f in files:\n",
    "    t_data = np.loadtxt(f,dtype=dt)\n",
    "    total_temps.append(t_data['Temp'])"
   ]
  },
  {
   "cell_type": "code",
   "execution_count": 98,
   "metadata": {},
   "outputs": [
    {
     "name": "stdout",
     "output_type": "stream",
     "text": [
      "(47243,)\n"
     ]
    }
   ],
   "source": [
    "total_temps = np.vstack(total_temps).flatten()\n",
    "print total_temps.shape"
   ]
  },
  {
   "cell_type": "markdown",
   "metadata": {},
   "source": [
    "47243/7/365 18.5 years of 7 stations collecting data daily"
   ]
  },
  {
   "cell_type": "code",
   "execution_count": 101,
   "metadata": {},
   "outputs": [
    {
     "data": {
      "image/png": "[encoded data removed]"
     },
     "metadata": {},
     "output_type": "display_data"
    }
   ],
   "source": [
    "pdf = sp.stats.gaussian_kde(total_temps)\n",
    "x = np.arange(20,100)\n",
    "plt.hist(total_temps,bins=20,normed=True)\n",
    "plt.plot(x,pdf(x),'r-');"
   ]
  },
  {
   "cell_type": "markdown",
   "metadata": {},
   "source": [
    "That looks a bit more Gaussian.  Can we fit it?"
   ]
  },
  {
   "cell_type": "code",
   "execution_count": 25,
   "metadata": {},
   "outputs": [
    {
     "name": "stdout",
     "output_type": "stream",
     "text": [
      "(55.379681645957902, 16.856163815848234)\n"
     ]
    },
    {
     "data": {
      "image/png": "[encoded data removed]"
     },
     "metadata": {},
     "output_type": "display_data"
    }
   ],
   "source": [
    "param = sp.stats.norm.fit(total_temps) # distribution fitting\n",
    "\n",
    "# now, param[0] and param[1] are the mean and \n",
    "# the standard deviation of the fitted distribution\n",
    "print param\n",
    "x = np.linspace(0,100,1000)\n",
    "# fitted distribution\n",
    "pdf_fitted = sp.stats.norm.pdf(x,loc=param[0],scale=param[1])\n",
    "\n",
    "title('Normal distribution')\n",
    "plt.plot(x,pdf_fitted,'r-')\n",
    "plt.hist(total_temps,bins=25,normed=1,alpha=.3);"
   ]
  },
  {
   "cell_type": "code",
   "execution_count": 105,
   "metadata": {},
   "outputs": [
    {
     "name": "stdout",
     "output_type": "stream",
     "text": [
      "number of points:  47243\n",
      "min/max:  (-99.0, 93.700000000000003)\n",
      "mean:  55.379681646\n",
      "variance:  284.136272944\n",
      "skew:  -2.54620571787\n",
      "kurtosis:  19.9386012172\n",
      "median:  57.2\n",
      "number of points:  47100\n",
      "min/max:  (-11.199999999999999, 93.700000000000003)\n",
      "mean:  55.8483927813\n",
      "variance:  212.418248547\n",
      "skew:  -0.439186571362\n",
      "kurtosis:  -0.00406997817694\n",
      "median:  57.3\n"
     ]
    }
   ],
   "source": [
    "describe_data(total_temps)\n",
    "describe_data(total_temps[total_temps != -99])"
   ]
  },
  {
   "cell_type": "code",
   "execution_count": 106,
   "metadata": {},
   "outputs": [
    {
     "name": "stdout",
     "output_type": "stream",
     "text": [
      "(55.848392781316178, 14.574420695376137)\n"
     ]
    },
    {
     "data": {
      "image/png": "[encoded data removed]"
     },
     "metadata": {},
     "output_type": "display_data"
    }
   ],
   "source": [
    "total_temps = total_temps[total_temps != -99]\n",
    "\n",
    "param = sp.stats.norm.fit(total_temps) # distribution fitting\n",
    "\n",
    "# now, param[0] and param[1] are the mean and \n",
    "# the standard deviation of the fitted distribution\n",
    "print param\n",
    "x = np.linspace(0,100,1000)\n",
    "# fitted distribution\n",
    "pdf_fitted = sp.stats.norm.pdf(x,loc=param[0],scale=param[1])\n",
    "\n",
    "title('Normal distribution')\n",
    "plt.plot(x,pdf_fitted,'r-')\n",
    "plt.hist(total_temps,bins=25,normed=1,alpha=.3);"
   ]
  },
  {
   "cell_type": "markdown",
   "metadata": {},
   "source": [
    "##5.3 Fitting and interpolation"
   ]
  },
  {
   "cell_type": "code",
   "execution_count": 116,
   "metadata": {},
   "outputs": [
    {
     "name": "stdout",
     "output_type": "stream",
     "text": [
      "(array([   0,    1,    2, ..., 6746, 6747, 6748]),)\n",
      "(array([ 492,  514,  517,  518,  522, 1453, 1454, 1459, 1460, 1470, 2725,\n",
      "       2726, 2727, 2728, 2806, 2934, 2981, 4622, 5015, 5212]),)\n"
     ]
    }
   ],
   "source": [
    "dt = np.dtype([('Month', 'int8'), ('Day', 'int8'), ('Year', 'int16'), ('Temp', 'float64')])\n",
    "data = np.loadtxt('weather/NYNEWYOR.txt',dtype=dt)\n",
    "\n",
    "v_idxs = np.where(data['Temp'] != -99.0)\n",
    "print v_idxs\n",
    "\n",
    "na_idxs = np.where(data['Temp'] == -99.0)\n",
    "print na_idxs"
   ]
  },
  {
   "cell_type": "code",
   "execution_count": 121,
   "metadata": {},
   "outputs": [
    {
     "data": {
      "text/plain": [
       "array([-99. ,  57.4,  58.5, -99. , -99. ,  59.7,  63.1,  65.9, -99. ])"
      ]
     },
     "execution_count": 121,
     "metadata": {},
     "output_type": "execute_result"
    }
   ],
   "source": [
    "data['Temp'][514:523]"
   ]
  },
  {
   "cell_type": "markdown",
   "metadata": {},
   "source": [
    "How to clean up?  \n",
    "Drop and interpolate?"
   ]
  },
  {
   "cell_type": "markdown",
   "metadata": {},
   "source": [
    "np.delete in this case is deleting a row."
   ]
  },
  {
   "cell_type": "code",
   "execution_count": 122,
   "metadata": {},
   "outputs": [],
   "source": [
    "for na in na_idxs:\n",
    "    data = np.delete(data,na,0)"
   ]
  },
  {
   "cell_type": "markdown",
   "metadata": {},
   "source": [
    "Now we have missing dates we can interpolate the values for the missing dates"
   ]
  },
  {
   "cell_type": "code",
   "execution_count": 123,
   "metadata": {},
   "outputs": [
    {
     "data": {
      "text/plain": [
       "array([(31, 58.5), (3, 59.7), (4, 63.1), (5, 65.9), (7, 69.6), (8, 74.2),\n",
       "       (9, 68.9), (10, 71.4), (11, 70.8)], \n",
       "      dtype=[('Day', 'i1'), ('Temp', '<f8')])"
      ]
     },
     "execution_count": 123,
     "metadata": {},
     "output_type": "execute_result"
    }
   ],
   "source": [
    "data[514:523][['Day','Temp']]"
   ]
  },
  {
   "cell_type": "code",
   "execution_count": 129,
   "metadata": {},
   "outputs": [],
   "source": [
    "from scipy.interpolate import interp1d\n",
    "x = v_idxs[0]\n",
    "linterp = interp1d(x, data['Temp'],kind='linear')"
   ]
  },
  {
   "cell_type": "code",
   "execution_count": 134,
   "metadata": {},
   "outputs": [
    {
     "data": {
      "image/png": "[encoded data removed]"
     },
     "metadata": {},
     "output_type": "display_data"
    }
   ],
   "source": [
    "original_data = np.loadtxt('weather/NYNEWYOR.txt',dtype=dt)\n",
    "plt.plot(original_data['Temp'][500:550])\n",
    "xnew = np.arange(total_days)\n",
    "plt.plot(linterp(xnew)[500:550]);"
   ]
  },
  {
   "cell_type": "markdown",
   "metadata": {},
   "source": [
    "Jagged peaks are the results of the rows we dropped.  Interpolating the data fills in the holes. The argument `kind=` defines how data is filled in: `linear`, `cubic`, `nearest`.  Let's illustrate the above with lots of gaps in the data."
   ]
  },
  {
   "cell_type": "code",
   "execution_count": 131,
   "metadata": {},
   "outputs": [],
   "source": [
    "x = np.linspace(0, 10, 10)\n",
    "y = np.cos(-x**2/8.0)\n",
    "f = interp1d(x, y)\n",
    "f2 = interp1d(x, y, kind='cubic')"
   ]
  },
  {
   "cell_type": "code",
   "execution_count": 132,
   "metadata": {},
   "outputs": [
    {
     "data": {
      "image/png": "[encoded data removed]"
     },
     "metadata": {},
     "output_type": "display_data"
    }
   ],
   "source": [
    "xnew = np.linspace(0, 10, 40)\n",
    "plt.plot(x,y,'o',xnew,f(xnew),'-', xnew, f2(xnew),'--')\n",
    "plt.legend(['data', 'linear', 'cubic'], loc='best')\n",
    "plt.show()"
   ]
  },
  {
   "cell_type": "markdown",
   "metadata": {},
   "source": [
    "Above you can see how interpolation can help define a function over the same range but will succesfully return results for any granularity within that range.\n",
    "\n",
    "Curve fitting is also important for understanding the behavior of physical, biological, and other data producing systems.  For example, we are pretty sure that the weather is oscillatory follows a fairly well defined period.  "
   ]
  },
  {
   "cell_type": "markdown",
   "metadata": {},
   "source": [
    "##5.4 SciKit Learn Overview\n",
    "\n",
    "SciPy covers many of the canonical scientific computing applications, howver, recent developments in statisical computing and data mining have spawned a new field: machine learning.  Scikit-learn is largely considered the standard machine learning package for Python.  Like many numerical computing packages, Scikit-learn leverages NumPy's architeture and memory model under the hood.\n",
    "\n",
    "At a high level we can separate machine learning into two main categories:\n",
    "\n",
    "- Supervised Learning\n",
    "- Unsupervised Learning\n",
    "\n",
    "*note: there is a gradient between these two extremes and many techniques leverage semi-supervised learning*\n",
    "\n",
    "Generally, when we speak of supervised learning we are referencing algorithm where the data come pre-labeled.  That is, these sample are good these samples are bad, or these samples are category 1, these are category 2, etc.  Often, supervised learning is useful for predicting the category or class a new sample should have.\n",
    "\n",
    "Unsupervised learning defines a collection of algorithms where data is not labeled.  Often there are relationships between data and we want to infer/predict those relationships.\n",
    "\n",
    "Within machine learning there exist four main techniques: regression, dimensionality reduction, classification, and clustering. "
   ]
  },
  {
   "cell_type": "markdown",
   "metadata": {},
   "source": [
    "Andreas Mueller's Cheat Sheet for SciKit Learn  \n",
    "http://peekaboo-vision.blogspot.com/2013/01/machine-learning-cheat-sheet-for-scikit.html"
   ]
  },
  {
   "cell_type": "markdown",
   "metadata": {},
   "source": [
    "Scikit learn provides same inteface for many algorithms\n",
    "\n",
    "- build predictor\n",
    "- apply fit\n"
   ]
  },
  {
   "cell_type": "code",
   "execution_count": null,
   "metadata": {},
   "outputs": [],
   "source": [
    "%pylab inline\n",
    "import matplotlib.pyplot as plt\n",
    "from sklearn import datasets\n",
    "digits = datasets.load_digits()\n",
    "plt.imshow(digits.images[-1], cmap=plt.cm.gray_r, interpolation='nearest')\n",
    "digits.target[-1]\n",
    "from sklearn import svm\n",
    "clf = svm.SVC(gamma=0.001, C=100.)\n",
    "clf.fit(digits.data[:-1], digits.target[:-1])\n",
    "clf.predict(digits.data[-1])"
   ]
  }
 ],
 "metadata": {
  "hide_input": false,
  "kernelspec": {
   "display_name": "Python 3",
   "language": "python",
   "name": "python3"
  },
  "language_info": {
   "codemirror_mode": {
    "name": "ipython",
    "version": 3
   },
   "file_extension": ".py",
   "mimetype": "text/x-python",
   "name": "python",
   "nbconvert_exporter": "python",
   "pygments_lexer": "ipython3",
   "version": "3.7.3"
  }
 },
 "nbformat": 4,
 "nbformat_minor": 1
}
