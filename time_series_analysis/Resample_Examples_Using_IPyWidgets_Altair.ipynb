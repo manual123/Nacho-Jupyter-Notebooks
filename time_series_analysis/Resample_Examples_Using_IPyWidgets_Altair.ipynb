{
 "cells": [
  {
   "cell_type": "code",
   "execution_count": 3,
   "metadata": {
    "scrolled": false
   },
   "outputs": [
    {
     "data": {
      "application/vnd.jupyter.widget-view+json": {
       "model_id": "9ebfd6f628464175829aea439f4ad234",
       "version_major": 2,
       "version_minor": 0
      },
      "text/plain": [
       "HTML(value='<b>By Month:</b>')"
      ]
     },
     "metadata": {},
     "output_type": "display_data"
    },
    {
     "data": {
      "application/vnd.jupyter.widget-view+json": {
       "model_id": "d35b37174c8349898be0b4f36d198cb9",
       "version_major": 2,
       "version_minor": 0
      },
      "text/plain": [
       "interactive(children=(Dropdown(description='month', options=('2017-05', '2017-06', '2017-07', '2017-08', '2017…"
      ]
     },
     "metadata": {},
     "output_type": "display_data"
    },
    {
     "data": {
      "application/vnd.jupyter.widget-view+json": {
       "model_id": "bb7d44866fec4a39bf03406960c0b4ea",
       "version_major": 2,
       "version_minor": 0
      },
      "text/plain": [
       "HTML(value='<b>By Month-Week Day:</b>')"
      ]
     },
     "metadata": {},
     "output_type": "display_data"
    },
    {
     "data": {
      "application/vnd.jupyter.widget-view+json": {
       "model_id": "c8dc8c0d3df3493c9927e8b2faf688f2",
       "version_major": 2,
       "version_minor": 0
      },
      "text/plain": [
       "interactive(children=(Dropdown(description='month', options=('2017-05', '2017-06', '2017-07', '2017-08', '2017…"
      ]
     },
     "metadata": {},
     "output_type": "display_data"
    },
    {
     "data": {
      "application/vnd.jupyter.widget-view+json": {
       "model_id": "caa9b76fd31d49589b969c93ace26c6c",
       "version_major": 2,
       "version_minor": 0
      },
      "text/plain": [
       "HTML(value='<b>By Date Ranges:</b>')"
      ]
     },
     "metadata": {},
     "output_type": "display_data"
    },
    {
     "data": {
      "application/vnd.jupyter.widget-view+json": {
       "model_id": "ff09aaed8c784022a1d88ac77701fb4a",
       "version_major": 2,
       "version_minor": 0
      },
      "text/plain": [
       "DatePicker(value=None, description='Start Date:')"
      ]
     },
     "metadata": {},
     "output_type": "display_data"
    },
    {
     "data": {
      "application/vnd.jupyter.widget-view+json": {
       "model_id": "cf3b5702cbdb4075bed9776b1b066b0f",
       "version_major": 2,
       "version_minor": 0
      },
      "text/plain": [
       "DatePicker(value=None, description='End Date:')"
      ]
     },
     "metadata": {},
     "output_type": "display_data"
    },
    {
     "data": {
      "application/vnd.jupyter.widget-view+json": {
       "model_id": "20c3d0e9ced8429b95587852f9f0f7e9",
       "version_major": 2,
       "version_minor": 0
      },
      "text/plain": [
       "interactive(children=(Dropdown(description='interval', options=('H', 'D', 'W'), value='H'), Dropdown(descripti…"
      ]
     },
     "metadata": {},
     "output_type": "display_data"
    },
    {
     "data": {
      "text/plain": [
       "<function __main__.byDateInterval(interval=['H', 'D', 'W'], aggfunc=['mean', 'sum', 'none'])>"
      ]
     },
     "execution_count": 3,
     "metadata": {},
     "output_type": "execute_result"
    }
   ],
   "source": [
    "%matplotlib inline\n",
    "import altair as alt\n",
    "from vega_datasets import data\n",
    "from ipywidgets import interact, interactive, fixed, interact_manual\n",
    "from IPython.display import display\n",
    "import ipywidgets as widgets\n",
    "import matplotlib\n",
    "import matplotlib.pyplot as plt\n",
    "import pandas as pd\n",
    "# Allow for larger data sets to be charted\n",
    "alt.data_transformers.enable('json')\n",
    "# for the notebook only (not for JupyterLab) run this command once per session\n",
    "alt.renderers.enable('notebook')\n",
    "# Set global figure size\n",
    "matplotlib.rcParams['figure.figsize'] = (20.0, 10.0)\n",
    "\n",
    "df = pd.read_csv('/home/pybokeh/Dropbox/python/jupyter_notebooks/time_series_analysis/EGA_Power_Usage_Over_Time.csv', \n",
    "                 parse_dates=['Timestamp'])\n",
    "\n",
    "# I don't like the original column names, so I'll rename them\n",
    "df.columns = ['Time_Stamp', 'Power_Usage']\n",
    "\n",
    "# Let's also add a new column called WeekDay\n",
    "df['WeekDay'] = df['Time_Stamp'].dt.weekday_name\n",
    "\n",
    "# Set Time_Stamp as a dataframe index\n",
    "df = df.set_index('Time_Stamp')\n",
    "\n",
    "# Building a Python list using list comprehension syntax\n",
    "month_list = [month[:7] for month in df.resample('M').sum().index.astype(str)]\n",
    "\n",
    "\n",
    "label_bymonth = widgets.HTML(\n",
    "    value=\"<b>By Month:</b>\"\n",
    ")\n",
    "display(label_bymonth)\n",
    "\n",
    "@interact\n",
    "def byMonth(month=month_list, interval=['H','D','W'], aggfunc=['mean','sum','none']):\n",
    "    if aggfunc == 'mean':\n",
    "        chart = alt.Chart(df.loc[month].resample(interval).mean().reset_index(), height=500, width=900, title='Energy Usage') \\\n",
    "                    .mark_line().encode(\n",
    "                        x='Time_Stamp',\n",
    "                        y='Power_Usage',\n",
    "                        opacity=alt.value(0.7)\n",
    "                    )\n",
    "    elif aggfunc == 'sum':\n",
    "        chart = alt.Chart(df.loc[month].resample(interval).sum().reset_index(), height=500, width=900, title='Energy Usage') \\\n",
    "                    .mark_line().encode(\n",
    "                        x='Time_Stamp',\n",
    "                        y='Power_Usage',\n",
    "                        opacity=alt.value(0.7)\n",
    "                    )\n",
    "    else:\n",
    "        chart = alt.Chart(df.reset_index(), height=500, width=900, title='Energy Usage') \\\n",
    "                    .mark_line().encode(\n",
    "                        x='Time_Stamp',\n",
    "                        y='Power_Usage',\n",
    "                        opacity=alt.value(0.7)\n",
    "                    )\n",
    "    return chart\n",
    "\n",
    "    \n",
    "label_bymonthweekday = widgets.HTML(\n",
    "    value=\"<b>By Month-Week Day:</b>\"\n",
    ")\n",
    "display(label_bymonthweekday)\n",
    "\n",
    "@interact\n",
    "def byWeekDayMonth(month=month_list, weekday=['Sunday','Monday','Tuesday','Wednesday','Thursday','Friday','Saturday'], aggfunc=['mean','sum','none']):\n",
    "    if aggfunc == 'mean':\n",
    "        chart = alt.Chart(df.query(\"WeekDay == @weekday\").loc[month].resample('H').mean().reset_index(), height=500, width=900, title='Energy Usage') \\\n",
    "            .mark_line().encode(\n",
    "                x='Time_Stamp',\n",
    "                y='Power_Usage',\n",
    "                opacity=alt.value(0.7)\n",
    "            )\n",
    "    elif aggfunc == 'sum':\n",
    "        chart = alt.Chart(df.query(\"WeekDay == @weekday\").loc[month].resample('H').sum().reset_index(), height=500, width=900, title='Energy Usage') \\\n",
    "            .mark_line().encode(\n",
    "                x='Time_Stamp',\n",
    "                y='Power_Usage',\n",
    "                opacity=alt.value(0.7)\n",
    "            )\n",
    "    else:\n",
    "        chart = alt.Chart(df.query(\"WeekDay == @weekday\").loc[month].reset_index(), height=500, width=900, title='Energy Usage') \\\n",
    "            .mark_line().encode(\n",
    "                x='Time_Stamp',\n",
    "                y='Power_Usage',\n",
    "                opacity=alt.value(0.7)\n",
    "            )\n",
    "    return chart\n",
    "\n",
    "label_bydateranges = widgets.HTML(\n",
    "    value=\"<b>By Date Ranges:</b>\"\n",
    ")\n",
    "display(label_bydateranges)    \n",
    "    \n",
    "start_date = widgets.DatePicker(\n",
    "    description='Start Date:',\n",
    "    disabled=False\n",
    ")\n",
    "\n",
    "end_date = widgets.DatePicker(\n",
    "    description='End Date:',\n",
    "    disabled=False\n",
    ")\n",
    "    \n",
    "display(start_date)\n",
    "display(end_date)\n",
    "def byDateInterval(interval=['H','D','W'], aggfunc=['mean','sum','none']):\n",
    "    try:\n",
    "        if aggfunc == 'mean':\n",
    "            chart = alt.Chart(df.loc[start_date.value:end_date.value].resample(interval).mean().reset_index(), height=500, width=900, title='Energy Usage') \\\n",
    "                       .mark_line().encode(\n",
    "                            x='Time_Stamp',\n",
    "                            y='Power_Usage',\n",
    "                            opacity=alt.value(0.7)\n",
    "                        )\n",
    "        elif aggfunc == 'sum':\n",
    "            chart = alt.Chart(df.loc[start_date.value:end_date.value].resample(interval).sum().reset_index(), height=500, width=900, title='Energy Usage') \\\n",
    "                        .mark_line().encode(\n",
    "                            x='Time_Stamp',\n",
    "                            y='Power_Usage',\n",
    "                            opacity=alt.value(0.7)\n",
    "                        )\n",
    "        else:\n",
    "            chart = alt.Chart(df.loc[start_date.value:end_date.value].reset_index(), height=500, width=900, title='Energy Usage') \\\n",
    "                        .mark_line().encode(\n",
    "                            x='Time_Stamp',\n",
    "                            y='Power_Usage',\n",
    "                            opacity=alt.value(0.7)\n",
    "                        )\n",
    "        return chart\n",
    "        \n",
    "    except:\n",
    "        print('Invalid start or end date')\n",
    "\n",
    "interact_manual(byDateInterval, interval=['H','D','W'])"
   ]
  }
 ],
 "metadata": {
  "hide_input": false,
  "kernelspec": {
   "display_name": "Python 3",
   "language": "python",
   "name": "python3"
  },
  "language_info": {
   "codemirror_mode": {
    "name": "ipython",
    "version": 3
   },
   "file_extension": ".py",
   "mimetype": "text/x-python",
   "name": "python",
   "nbconvert_exporter": "python",
   "pygments_lexer": "ipython3",
   "version": "3.6.4"
  },
  "varInspector": {
   "cols": {
    "lenName": 16,
    "lenType": 16,
    "lenVar": 40
   },
   "kernels_config": {
    "python": {
     "delete_cmd_postfix": "",
     "delete_cmd_prefix": "del ",
     "library": "var_list.py",
     "varRefreshCmd": "print(var_dic_list())"
    },
    "r": {
     "delete_cmd_postfix": ") ",
     "delete_cmd_prefix": "rm(",
     "library": "var_list.r",
     "varRefreshCmd": "cat(var_dic_list()) "
    }
   },
   "types_to_exclude": [
    "module",
    "function",
    "builtin_function_or_method",
    "instance",
    "_Feature"
   ],
   "window_display": false
  }
 },
 "nbformat": 4,
 "nbformat_minor": 2
}
