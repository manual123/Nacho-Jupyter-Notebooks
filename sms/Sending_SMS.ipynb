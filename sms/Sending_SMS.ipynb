{
 "cells": [
  {
   "cell_type": "code",
   "execution_count": 1,
   "metadata": {
    "collapsed": false
   },
   "outputs": [],
   "source": [
    "# http://textbelt.com/\n",
    "import requests\n",
    "def send_text(numstring, message):\n",
    "    message = {\"number\": numstring, \"message\": message}\n",
    "    r = requests.post(\"http://textbelt.com/text\", data=message)\n",
    "    return r.status_code, r.text"
   ]
  },
  {
   "cell_type": "code",
   "execution_count": null,
   "metadata": {
    "collapsed": false
   },
   "outputs": [],
   "source": [
    "number = input(\"Enter phone number to send sms to: \")\n",
    "text = input(\"Enter your message: \")\n",
    "\n",
    "send_text(number, text)"
   ]
  },
  {
   "cell_type": "code",
   "execution_count": null,
   "metadata": {
    "collapsed": false
   },
   "outputs": [],
   "source": [
    "import time\n",
    "while True:\n",
    "    send_text('your_number','your_text')\n",
    "    time.sleep(30)"
   ]
  }
 ],
 "metadata": {},
 "nbformat": 4,
 "nbformat_minor": 0
}
