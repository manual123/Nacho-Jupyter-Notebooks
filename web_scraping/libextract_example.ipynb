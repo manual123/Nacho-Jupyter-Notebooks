{
 "cells": [
  {
   "cell_type": "markdown",
   "metadata": {},
   "source": [
    "<center><h1>Extracting Article Text using [libextract](https://github.com/datalib/libextract)</h1></center>"
   ]
  },
  {
   "cell_type": "markdown",
   "metadata": {},
   "source": [
    "Dependencies:\n",
    "- requests\n",
    "- lxml\n",
    "- statscounter"
   ]
  },
  {
   "cell_type": "code",
   "execution_count": 33,
   "metadata": {
    "collapsed": false
   },
   "outputs": [],
   "source": [
    "from requests import get\n",
    "from libextract.api import extract\n",
    "\n",
    "r = get('http://datatau.com')\n",
    "textnodes = list(extract(r.content))"
   ]
  },
  {
   "cell_type": "code",
   "execution_count": 34,
   "metadata": {
    "collapsed": false
   },
   "outputs": [
    {
     "data": {
      "text/plain": [
       "5"
      ]
     },
     "execution_count": 34,
     "metadata": {},
     "output_type": "execute_result"
    }
   ],
   "source": [
    "len(textnodes)"
   ]
  },
  {
   "cell_type": "code",
   "execution_count": 35,
   "metadata": {
    "collapsed": false
   },
   "outputs": [
    {
     "data": {
      "text/plain": [
       "lxml.html.HtmlElement"
      ]
     },
     "execution_count": 35,
     "metadata": {},
     "output_type": "execute_result"
    }
   ],
   "source": [
    "type(textnodes[0])"
   ]
  },
  {
   "cell_type": "code",
   "execution_count": 42,
   "metadata": {
    "collapsed": false
   },
   "outputs": [
    {
     "name": "stdout",
     "output_type": "stream",
     "text": [
      "1.Using Sankey Diagrams to Visualize Better Ad Placement (insightdatalabs.com) 3 points by mattasmith 23 hours ago  | discuss2.Two-Way ANOVA with Repeated Measures (datascienceplus.com) 5 points by klo99 1 day ago  | discuss3.Data Science for Teams  (youtube.com) 5 points by AnnaAnisin 2 days ago  | discuss4.How to Compare Distribution by Using Density Plots in R (datascienceplus.com) 6 points by klo99 2 days ago  | discuss5.7 tools in every data scientist’s toolbox (datadive.net) 10 points by turkdt 4 days ago  | 1 comment6.Thought Vectors, Deep Learning and NLP (deeplearning4j.org) 4 points by vonnik 2 days ago  | 3 comments7.The New Data Engineering Ecosystem: Trends and Rising Stars (insightdataengineering.com) 10 points by ShaunaLAnderson 5 days ago  | 3 comments8.Data Manipulation with dplyr (datascienceplus.com) 5 points by klo99 3 days ago  | discuss9.Product Experimentation with PlanOut and React.js (hubspot.com) 6 points by rawls238 4 days ago  | discuss10.Academia to Industry: Data Science Myths and Truths (insightdatascience.com) 9 points by abc-jap 5 days ago  | discuss11.Python vs. R vs. COBOL: Which is best for Data Science? (medium.com) 6 points by yanir 4 days ago  | 2 comments12.Hiring for Data Scientists (slideshare.net) 8 points by AnnaAnisin 6 days ago  | discuss13.Andrew Ng On Life, Creativity, And Failure: On Life, Creativity, And Failure (huffingtonpost.com.au) 13 points by genofon 8 days ago  | discuss14.Every CPU cycle matters at 100,000,000,000 records (localytics.com) 3 points by steyblind 3 days ago  | 1 comment15.Riding on Large Data with Scikit-learn (opendatascience.com) 2 points by alexperrier 3 days ago  | discuss16.Using the apply family of Functions in R (datascienceplus.com) 7 points by klo99 6 days ago  | 1 comment17.50 Years of Data Science [scribd] (dropboxusercontent.com) 15 points by jpiburn 10 days ago  | 1 comment18.Introducing agate: a Better Data Analysis Library for Journalists (opennews.org) 4 points by onyxfish 5 days ago  | 1 comment19.Crowdsourcing and Machine Learning at Pinterest (dominodatalab.com) 3 points by AnnaAnisin 5 days ago  | discuss20.Data Science Interview Questions (itshared.org) 18 points by ITShared 13 days ago  | discuss21.Google Turning Its Lucrative Web Search Over to AI Machines (bloomberg.com) 3 points by user 5 days ago  | discuss22.Probability of the Historic Badness of the Chicago Cubs (insightdatascience.com) 2 points by re_jena 3 days ago  | discuss23.What a Deep Neural Network thinks about your #selfie (github.io) 4 points by elyase 6 days ago  | 1 comment24.Getting started with machine learning in Python (dataquest.io) 10 points by vikp 11 days ago  | 2 comments25.Spinning up a Spark Cluster on Spot Instances: Step by Step (insightdataengineering.com) 18 points by ddrum001 14 days ago  | discuss26.Rodeo 1.0: a Python IDE on your Desktop (yhathq.com) 29 points by glamp 19 days ago  | 5 comments27.Amazon Mechanical Turk: help for building your Machine Learning datasets (cloudacademy.com) 3 points by alexcasalboni 5 days ago  | 1 comment28.Germany's first ever Data Dive for Social Good (datalook.io) 6 points by csushant 9 days ago  | discuss29.Scala and Spark are Ideal for Big Data (slideshare.net) 7 points by AnnaAnisin 10 days ago  | 6 comments30.How Data Science Builds Better Products (slideshare.net) 11 points by AnnaAnisin 13 days ago  | discussMore\n"
     ]
    }
   ],
   "source": [
    "print(textnodes[0].text_content())"
   ]
  }
 ],
 "metadata": {
  "kernelspec": {
   "display_name": "Python 3",
   "language": "python",
   "name": "python3"
  },
  "language_info": {
   "codemirror_mode": {
    "name": "ipython",
    "version": 3
   },
   "file_extension": ".py",
   "mimetype": "text/x-python",
   "name": "python",
   "nbconvert_exporter": "python",
   "pygments_lexer": "ipython3",
   "version": "3.4.3"
  }
 },
 "nbformat": 4,
 "nbformat_minor": 0
}
