{
 "cells": [
  {
   "cell_type": "markdown",
   "metadata": {
    "input_collapsed": true
   },
   "source": [
    "## <center>Python Web Scraping using BeautifulSoup</center>"
   ]
  },
  {
   "cell_type": "markdown",
   "metadata": {},
   "source": [
    "<strong><p>In this example, we will be getting yearly U.S. unemployment rates from the Bureau of Labor Statisticis web site</p></strong>"
   ]
  },
  {
   "cell_type": "code",
   "execution_count": 1,
   "metadata": {
    "collapsed": false,
    "input_collapsed": true
   },
   "outputs": [
    {
     "name": "stdout",
     "output_type": "stream",
     "text": [
      "start index: 788\n",
      "End index: 802\n",
      "data string:\n",
      "\t<td><span class=\"datavalue\">6.7</span></td>\r\n",
      "\t<td><span class=\"datavalue\">6.6</span></td>\r\n",
      "\t<td><span class=\"datavalue\">6.2</span></td>\r\n",
      "\t<td><span class=\"datavalue\">6.3</span></td>\r\n",
      "\t<td><span class=\"datavalue\">6.1</span></td>\r\n",
      "\t<td><span class=\"datavalue\">6.2</span></td>\r\n",
      "\t<td><span class=\"datavalue\">6.1</span></td>\r\n",
      "\t<td><span class=\"datavalue\">5.9</span></td>\r\n",
      "\t<td><span class=\"datavalue\">5.7</span></td>\r\n",
      "\t<td><span class=\"datavalue\">5.8</span></td>\r\n",
      "\t<td><span class=\"datavalue\">5.6</span></td>\r\n",
      "\t<td><span class=\"datavalue\">5.7</span></td>\r\n",
      "\t<td><span class=\"datavalue\">5.5</span></td>\r\n",
      "\n"
     ]
    }
   ],
   "source": [
    "from bs4 import BeautifulSoup\n",
    "from urllib import request\n",
    "import numpy as np\n",
    "\n",
    "monthly_unemployment_data = request.urlopen('http://www.bls.gov/web/empsit/cpseea03.htm')\n",
    "lines_list = monthly_unemployment_data.readlines()\n",
    "\n",
    "index = 0\n",
    "for line in lines_list:\n",
    "    index = index + 1\n",
    "    if \"cps_eande_m03.r.2 cps_eande_m03.r.2.1 cps_eande_m03.r.2.1.3\" in line.decode(\"utf-8\"):\n",
    "        break\n",
    "\n",
    "start_index = index\n",
    "print(\"start index:\", start_index)\n",
    "        \n",
    "for line in lines_list[index:]:\n",
    "    index = index + 1\n",
    "    if \"</tr>\" in line.decode(\"utf-8\"):\n",
    "        break\n",
    "\n",
    "end_index = index\n",
    "print(\"End index:\", end_index)\n",
    "\n",
    "data_string = \"\"\n",
    "for data in lines_list[start_index:end_index-1]:\n",
    "    data_string = data_string + data.decode(\"utf-8\")\n",
    "\n",
    "print(\"data string:\")    \n",
    "print(data_string)"
   ]
  },
  {
   "cell_type": "code",
   "execution_count": 2,
   "metadata": {
    "collapsed": false,
    "input_collapsed": false
   },
   "outputs": [
    {
     "name": "stdout",
     "output_type": "stream",
     "text": [
      "[6.7, 6.6, 6.2, 6.3, 6.1, 6.2, 6.1, 5.9, 5.7, 5.8, 5.6, 5.7, 5.5]\n"
     ]
    },
    {
     "ename": "NameError",
     "evalue": "name 'bar' is not defined",
     "output_type": "error",
     "traceback": [
      "\u001b[1;31m---------------------------------------------------------------------------\u001b[0m",
      "\u001b[1;31mNameError\u001b[0m                                 Traceback (most recent call last)",
      "\u001b[1;32m<ipython-input-2-4ffb4814a6ef>\u001b[0m in \u001b[0;36m<module>\u001b[1;34m()\u001b[0m\n\u001b[0;32m      5\u001b[0m \u001b[0mprint\u001b[0m\u001b[1;33m(\u001b[0m\u001b[0munemploy_rate\u001b[0m\u001b[1;33m)\u001b[0m\u001b[1;33m\u001b[0m\u001b[0m\n\u001b[0;32m      6\u001b[0m \u001b[1;33m\u001b[0m\u001b[0m\n\u001b[1;32m----> 7\u001b[1;33m \u001b[0mbar\u001b[0m\u001b[1;33m(\u001b[0m\u001b[0mnp\u001b[0m\u001b[1;33m.\u001b[0m\u001b[0marange\u001b[0m\u001b[1;33m(\u001b[0m\u001b[0mlen\u001b[0m\u001b[1;33m(\u001b[0m\u001b[0munemploy_rate\u001b[0m\u001b[1;33m)\u001b[0m\u001b[1;33m)\u001b[0m\u001b[1;33m,\u001b[0m\u001b[0munemploy_rate\u001b[0m\u001b[1;33m)\u001b[0m\u001b[1;33m\u001b[0m\u001b[0m\n\u001b[0m\u001b[0;32m      8\u001b[0m \u001b[0mshow\u001b[0m\u001b[1;33m(\u001b[0m\u001b[1;33m)\u001b[0m\u001b[1;33m\u001b[0m\u001b[0m\n",
      "\u001b[1;31mNameError\u001b[0m: name 'bar' is not defined"
     ]
    }
   ],
   "source": [
    "soup = BeautifulSoup(data_string)\n",
    "data = soup.find_all(class_=\"datavalue\")\n",
    "\n",
    "unemploy_rate = [float(rate.text) for rate in data]\n",
    "print(unemploy_rate)\n",
    "\n",
    "bar(np.arange(len(unemploy_rate)),unemploy_rate)\n",
    "show()"
   ]
  }
 ],
 "metadata": {
  "kernelspec": {
   "display_name": "Python 3",
   "language": "python",
   "name": "python3"
  },
  "language_info": {
   "codemirror_mode": {
    "name": "ipython",
    "version": 3
   },
   "file_extension": ".py",
   "mimetype": "text/x-python",
   "name": "python",
   "nbconvert_exporter": "python",
   "pygments_lexer": "ipython3",
   "version": "3.4.3"
  }
 },
 "nbformat": 4,
 "nbformat_minor": 0
}
