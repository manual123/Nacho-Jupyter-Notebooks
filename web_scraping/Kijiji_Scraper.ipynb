{
 "cells": [
  {
   "cell_type": "markdown",
   "metadata": {},
   "source": [
    "<center><h1>Web Scraping Kijiji</h1><h3>Using Python and Beautiful Soup</h3></center>"
   ]
  },
  {
   "cell_type": "code",
   "execution_count": 41,
   "metadata": {
    "collapsed": true
   },
   "outputs": [],
   "source": [
    "import pandas as pd\n",
    "from IPython.display import HTML\n",
    "from bs4 import BeautifulSoup\n",
    "import urllib.request as request\n",
    "from ipywidgets import interact\n",
    "pd.set_option(\"display.max_rows\",1000)\n",
    "pd.set_option(\"display.max_columns\",20)\n",
    "pd.set_option(\"display.max_colwidth\", 200)"
   ]
  },
  {
   "cell_type": "markdown",
   "metadata": {},
   "source": [
    "### For this exercise, I will only be scraping the Toronto listings"
   ]
  },
  {
   "cell_type": "code",
   "execution_count": 42,
   "metadata": {
    "collapsed": false
   },
   "outputs": [],
   "source": [
    "base_url = 'http://www.kijiji.ca'\n",
    "toronto_url = 'http://www.kijiji.ca/h-city-of-toronto/1700273'\n",
    "html_kijiji = request.urlopen(toronto_url)\n",
    "\n",
    "soup_kijiji = BeautifulSoup(html_kijiji, 'lxml')"
   ]
  },
  {
   "cell_type": "markdown",
   "metadata": {},
   "source": [
    "Since I will be creating a drop-down widget containing all the listing categories, I looked at the source page to find where I can find a complete list of all available categories.  I found that I need to grab all the **&lt;a&gt;** elements that have a class attribute equals to **\"category-selected\"**"
   ]
  },
  {
   "cell_type": "code",
   "execution_count": 43,
   "metadata": {
    "collapsed": false
   },
   "outputs": [],
   "source": [
    "div_categories = soup_kijiji.find_all('a', class_='category-selected')"
   ]
  },
  {
   "cell_type": "markdown",
   "metadata": {},
   "source": [
    "### Let's look at the first 20 rows of the category list:"
   ]
  },
  {
   "cell_type": "code",
   "execution_count": 44,
   "metadata": {
    "collapsed": false
   },
   "outputs": [
    {
     "data": {
      "text/plain": [
       "[<a class=\"category-selected\" data-id=\"10\" href=\"/b-buy-sell/city-of-toronto/c10l1700273\">buy and sell</a>,\n",
       " <a class=\"category-selected\" data-id=\"72\" href=\"/b-services/city-of-toronto/c72l1700273\">services</a>,\n",
       " <a class=\"category-selected\" data-id=\"27\" href=\"/b-cars-vehicles/city-of-toronto/c27l1700273\">cars &amp; vehicles</a>,\n",
       " <a class=\"category-selected\" data-id=\"112\" href=\"/b-pets/city-of-toronto/c112l1700273\">pets</a>,\n",
       " <a class=\"category-selected\" data-id=\"800\" href=\"/b-vacation-rentals/c800l1700273\">vacation rentals</a>,\n",
       " <a class=\"category-selected\" data-id=\"1\" href=\"/b-community/city-of-toronto/c1l1700273\">community</a>,\n",
       " <a class=\"category-selected\" data-id=\"34\" href=\"/b-real-estate/city-of-toronto/c34l1700273\">real estate</a>,\n",
       " <a class=\"category-selected\" data-id=\"45\" href=\"/b-jobs/city-of-toronto/c45l1700273\">jobs</a>,\n",
       " <a class=\"category-selected\" data-id=\"218\" href=\"/b-resumes/city-of-toronto/c218l1700273\">resumes</a>,\n",
       " <a class=\"category-selected\" data-id=\"63\" href=\"/b-personals/city-of-toronto/c63l1700273\">personals</a>,\n",
       " <a class=\"category-selected\" data-id=\"10\" href=\"/b-buy-sell/city-of-toronto/c10l1700273\" id=\"category10\">buy and sell</a>,\n",
       " <a class=\"category-selected\" data-id=\"12\" href=\"/b-art-collectibles/city-of-toronto/c12l1700273\">art, collectibles</a>,\n",
       " <a class=\"category-selected\" data-id=\"767\" href=\"/b-audio/city-of-toronto/c767l1700273\">audio</a>,\n",
       " <a class=\"category-selected\" data-id=\"253\" href=\"/b-baby-items/city-of-toronto/c253l1700273\">baby items</a>,\n",
       " <a class=\"category-selected\" data-id=\"644\" href=\"/b-bikes/city-of-toronto/c644l1700273\">bikes</a>,\n",
       " <a class=\"category-selected\" data-id=\"109\" href=\"/b-books/city-of-toronto/c109l1700273\">books</a>,\n",
       " <a class=\"category-selected\" data-id=\"145\" href=\"/b-business-industrial/city-of-toronto/c145l1700273\">business, industrial</a>,\n",
       " <a class=\"category-selected\" data-id=\"103\" href=\"/b-camera-camcorder-lens/city-of-toronto/c103l1700273\">cameras, camcorders</a>,\n",
       " <a class=\"category-selected\" data-id=\"104\" href=\"/b-cd-dvd-blu-ray/city-of-toronto/c104l1700273\">cds, dvds, blu-ray</a>,\n",
       " <a class=\"category-selected\" data-id=\"274\" href=\"/b-clothing/city-of-toronto/c274l1700273\">clothing</a>]"
      ]
     },
     "execution_count": 44,
     "metadata": {},
     "output_type": "execute_result"
    }
   ],
   "source": [
    "div_categories[:20]"
   ]
  },
  {
   "cell_type": "markdown",
   "metadata": {},
   "source": [
    "From above, we can see the category listings over on the right: \"buy and sell\", \"services\", \"cars and vehicles\", etc"
   ]
  },
  {
   "cell_type": "markdown",
   "metadata": {},
   "source": [
    "### Now I will create a Python dictionary to map all the category listings to its respective URL"
   ]
  },
  {
   "cell_type": "code",
   "execution_count": 45,
   "metadata": {
    "collapsed": true
   },
   "outputs": [],
   "source": [
    "categories = {}\n",
    "for item in div_categories:\n",
    "    categories[item.get_text()] = base_url + item['href']"
   ]
  },
  {
   "cell_type": "markdown",
   "metadata": {},
   "source": [
    "### Let's see what the dictionary looks like:"
   ]
  },
  {
   "cell_type": "code",
   "execution_count": 46,
   "metadata": {
    "collapsed": false
   },
   "outputs": [
    {
     "data": {
      "text/plain": [
       "{'(more categories...)': 'http://www.kijiji.ca/b-resumes/city-of-toronto/c218l1700273',\n",
       " 'ATVs, snowmobiles': 'http://www.kijiji.ca/b-atv-snowmobile/city-of-toronto/c171l1700273',\n",
       " 'Canada': 'http://www.kijiji.ca/b-vacation-rentals-canada/c801l1700273',\n",
       " 'Caribbean': 'http://www.kijiji.ca/b-vacation-rentals-caribbean/c803l1700273',\n",
       " 'Mexico': 'http://www.kijiji.ca/b-vacation-rentals-mexico/c804l1700273',\n",
       " 'Other Countries': 'http://www.kijiji.ca/b-vacation-rentals-other-countries/c805l1700273',\n",
       " 'RVs, campers, trailers': 'http://www.kijiji.ca/b-rv-camper-trailer/city-of-toronto/c172l1700273',\n",
       " 'SUVs': 'http://www.kijiji.ca/b-cars-trucks/city-of-toronto/suv+crossover/c174l1700273a138',\n",
       " 'USA': 'http://www.kijiji.ca/b-vacation-rentals-usa/c802l1700273',\n",
       " 'accessories': 'http://www.kijiji.ca/b-pet-accessories/city-of-toronto/c115l1700273',\n",
       " 'accounting, mgmt': 'http://www.kijiji.ca/b-accounting-management-jobs/city-of-toronto/c58l1700273',\n",
       " 'activities, groups': 'http://www.kijiji.ca/b-activities-groups/city-of-toronto/c7l1700273',\n",
       " 'animal, pet services': 'http://www.kijiji.ca/b-pet-services/city-of-toronto/c143l1700273',\n",
       " 'apartments, condos': 'http://www.kijiji.ca/b-apartments-condos/city-of-toronto/c37l1700273',\n",
       " 'art, collectibles': 'http://www.kijiji.ca/b-art-collectibles/city-of-toronto/c12l1700273',\n",
       " 'artists, musicians': 'http://www.kijiji.ca/b-artists-musicians/city-of-toronto/c2l1700273',\n",
       " 'audio': 'http://www.kijiji.ca/b-audio/city-of-toronto/c767l1700273',\n",
       " 'auto parts, tires': 'http://www.kijiji.ca/b-auto-parts-tires/city-of-toronto/c31l1700273',\n",
       " 'automotive services': 'http://www.kijiji.ca/b-automotive-services/city-of-toronto/c142l1700273',\n",
       " 'baby items': 'http://www.kijiji.ca/b-baby-items/city-of-toronto/c253l1700273',\n",
       " 'bar, food, hospitality': 'http://www.kijiji.ca/b-bar-food-hospitality-jobs/city-of-toronto/c60l1700273',\n",
       " 'bikes': 'http://www.kijiji.ca/b-bikes/city-of-toronto/c644l1700273',\n",
       " 'birds for sale': 'http://www.kijiji.ca/b-birds/city-of-toronto/c135l1700273',\n",
       " 'boats, watercraft': 'http://www.kijiji.ca/b-boat-watercraft/city-of-toronto/c29l1700273',\n",
       " 'books': 'http://www.kijiji.ca/b-books/city-of-toronto/c109l1700273',\n",
       " 'business, industrial': 'http://www.kijiji.ca/b-business-industrial/city-of-toronto/c145l1700273',\n",
       " 'buy and sell': 'http://www.kijiji.ca/b-buy-sell/city-of-toronto/c10l1700273',\n",
       " 'cameras, camcorders': 'http://www.kijiji.ca/b-camera-camcorder-lens/city-of-toronto/c103l1700273',\n",
       " 'cars': 'http://www.kijiji.ca/b-cars-trucks/city-of-toronto/convertible__coupe__hatchback__other+body+type__sedan__wagon/c174l1700273a138',\n",
       " 'cars & vehicles': 'http://www.kijiji.ca/b-cars-vehicles/city-of-toronto/c27l1700273',\n",
       " 'cats, kittens for sale': 'http://www.kijiji.ca/b-cats-kittens/city-of-toronto/c125l1700273',\n",
       " 'cds, dvds, blu-ray': 'http://www.kijiji.ca/b-cd-dvd-blu-ray/city-of-toronto/c104l1700273',\n",
       " 'child care': 'http://www.kijiji.ca/b-childcare-resumes/city-of-toronto/c225l1700273',\n",
       " 'childcare, nanny': 'http://www.kijiji.ca/b-childcare-nanny-service/city-of-toronto/c84l1700273',\n",
       " 'classes, lessons': 'http://www.kijiji.ca/b-classes-lessons/city-of-toronto/c4l1700273',\n",
       " 'classic cars': 'http://www.kijiji.ca/b-classic-cars/city-of-toronto/c122l1700273',\n",
       " 'cleaners, cleaning': 'http://www.kijiji.ca/b-cleaners-cleaning-service/city-of-toronto/c160l1700273',\n",
       " 'cleaning, housekeeper': 'http://www.kijiji.ca/b-cleaning-housekeeper-jobs/city-of-toronto/c146l1700273',\n",
       " 'clothing': 'http://www.kijiji.ca/b-clothing/city-of-toronto/c274l1700273',\n",
       " 'commercial, office space': 'http://www.kijiji.ca/b-commercial-office-space/city-of-toronto/c40l1700273',\n",
       " 'community': 'http://www.kijiji.ca/b-community/city-of-toronto/c1l1700273',\n",
       " 'computer accessories': 'http://www.kijiji.ca/b-computer-accessories/city-of-toronto/c128l1700273',\n",
       " 'computers': 'http://www.kijiji.ca/b-computer/city-of-toronto/c16l1700273',\n",
       " 'condos for sale': 'http://www.kijiji.ca/b-condo-for-sale/city-of-toronto/c643l1700273',\n",
       " 'construction, trades': 'http://www.kijiji.ca/b-construction-trades-resumes/city-of-toronto/c224l1700273',\n",
       " 'customer service': 'http://www.kijiji.ca/b-customer-service-jobs/city-of-toronto/c147l1700273',\n",
       " 'dogs, puppies for sale': 'http://www.kijiji.ca/b-dogs-puppies/city-of-toronto/c126l1700273',\n",
       " 'driver, security': 'http://www.kijiji.ca/b-driver-security-jobs/city-of-toronto/c148l1700273',\n",
       " 'electronics': 'http://www.kijiji.ca/b-electronics/city-of-toronto/c15l1700273',\n",
       " 'entertainment': 'http://www.kijiji.ca/b-entertainment/city-of-toronto/c165l1700273',\n",
       " 'equestrian, livestock accessories': 'http://www.kijiji.ca/b-equestrian-livestock-accessories/city-of-toronto/c14996002l1700273',\n",
       " 'events': 'http://www.kijiji.ca/b-events/city-of-toronto/c289l1700273',\n",
       " 'financial, legal': 'http://www.kijiji.ca/b-financial-legal/city-of-toronto/c131l1700273',\n",
       " 'fish for sale': 'http://www.kijiji.ca/b-fish/city-of-toronto/c14654003l1700273',\n",
       " 'fitness, personal trainer': 'http://www.kijiji.ca/b-fitness-personal-trainer/city-of-toronto/c83l1700273',\n",
       " 'friendship, networking': 'http://www.kijiji.ca/b-friendship-networking/city-of-toronto/c634l1700273',\n",
       " 'furniture': 'http://www.kijiji.ca/b-furniture/city-of-toronto/c235l1700273',\n",
       " 'garage sales': 'http://www.kijiji.ca/b-garage-sale-yard-sale/city-of-toronto/c638l1700273',\n",
       " 'general labour': 'http://www.kijiji.ca/b-general-labour-resumes/city-of-toronto/c230l1700273',\n",
       " 'graphic, web design': 'http://www.kijiji.ca/b-graphic-web-design-jobs/city-of-toronto/c152l1700273',\n",
       " 'hair stylist, salon': 'http://www.kijiji.ca/b-hair-stylist-salon-jobs/city-of-toronto/c150l1700273',\n",
       " 'health, beauty': 'http://www.kijiji.ca/b-health-beauty/city-of-toronto/c166l1700273',\n",
       " 'health, special needs': 'http://www.kijiji.ca/b-health-special-needs/city-of-toronto/c140l1700273',\n",
       " 'healthcare': 'http://www.kijiji.ca/b-healthcare-jobs/city-of-toronto/c898l1700273',\n",
       " 'heavy equipment': 'http://www.kijiji.ca/b-heavy-equipment/city-of-toronto/c301l1700273',\n",
       " 'hobbies, crafts': 'http://www.kijiji.ca/b-hobbies-craft/city-of-toronto/c139l1700273',\n",
       " 'home - indoor': 'http://www.kijiji.ca/b-home-indoor/city-of-toronto/c717l1700273',\n",
       " 'home - outdoor': 'http://www.kijiji.ca/b-home-outdoor/city-of-toronto/c19l1700273',\n",
       " 'home appliances': 'http://www.kijiji.ca/b-home-appliance/city-of-toronto/c107l1700273',\n",
       " 'home renovation materials': 'http://www.kijiji.ca/b-home-renovation/city-of-toronto/c727l1700273',\n",
       " 'horses, ponies for sale': 'http://www.kijiji.ca/b-horses-ponies/city-of-toronto/c14996001l1700273',\n",
       " 'house rental': 'http://www.kijiji.ca/b-house-rental/city-of-toronto/c43l1700273',\n",
       " 'houses for sale': 'http://www.kijiji.ca/b-house-for-sale/city-of-toronto/c35l1700273',\n",
       " 'jewellery, watches': 'http://www.kijiji.ca/b-jewelry-watch/city-of-toronto/c133l1700273',\n",
       " 'jobs': 'http://www.kijiji.ca/b-jobs/city-of-toronto/c45l1700273',\n",
       " 'land for sale': 'http://www.kijiji.ca/b-land-for-sale/city-of-toronto/c641l1700273',\n",
       " 'livestock for sale': 'http://www.kijiji.ca/b-livestock/city-of-toronto/c217l1700273',\n",
       " 'long lost relationships': 'http://www.kijiji.ca/b-long-lost-relationships/city-of-toronto/c635l1700273',\n",
       " 'lost & found': 'http://www.kijiji.ca/b-lost-and-found/city-of-toronto/c120l1700273',\n",
       " 'missed connections': 'http://www.kijiji.ca/b-missed-connections/city-of-toronto/c636l1700273',\n",
       " 'motorcycles': 'http://www.kijiji.ca/b-motorcycles/city-of-toronto/c30l1700273',\n",
       " 'moving, storage': 'http://www.kijiji.ca/b-moving-storage/city-of-toronto/c144l1700273',\n",
       " 'music lessons': 'http://www.kijiji.ca/b-music-lessons/city-of-toronto/c86l1700273',\n",
       " 'musical instruments': 'http://www.kijiji.ca/b-musical-instrument/city-of-toronto/c17l1700273',\n",
       " 'new cars & trucks': 'http://www.kijiji.ca//kijiji.unhaggle.com',\n",
       " 'office mgr, receptionist': 'http://www.kijiji.ca/b-office-manager-receptionist-jobs/city-of-toronto/c46l1700273',\n",
       " 'other': 'http://www.kijiji.ca/b-other-jobs/city-of-toronto/c62l1700273',\n",
       " 'other pets for sale': 'http://www.kijiji.ca/b-other-pets/city-of-toronto/c114l1700273',\n",
       " 'over': 'http://www.kijiji.ca/b-cars-trucks/city-of-toronto/convertible__coupe__hatchback__other+body+type__sedan__wagon/c174l1700273a138?price=5000__',\n",
       " 'part time, students': 'http://www.kijiji.ca/b-part-time-student-jobs/city-of-toronto/c59l1700273',\n",
       " 'personals': 'http://www.kijiji.ca/b-personals/city-of-toronto/c63l1700273',\n",
       " 'pets': 'http://www.kijiji.ca/b-pets/city-of-toronto/c112l1700273',\n",
       " 'phones': 'http://www.kijiji.ca/b-phone-tablet/city-of-toronto/c132l1700273',\n",
       " 'photography, video': 'http://www.kijiji.ca/b-photography-video/city-of-toronto/c168l1700273',\n",
       " 'programmers, computer': 'http://www.kijiji.ca/b-programmer-computer-jobs/city-of-toronto/c54l1700273',\n",
       " 'real estate': 'http://www.kijiji.ca/b-real-estate/city-of-toronto/c34l1700273',\n",
       " 'real estate services': 'http://www.kijiji.ca/b-real-estate-service/city-of-toronto/c170l1700273',\n",
       " 'reptiles & amphibians for sale': 'http://www.kijiji.ca/b-reptiles-amphibians/city-of-toronto/c14654004l1700273',\n",
       " 'resumes': 'http://www.kijiji.ca/b-resumes/city-of-toronto/c218l1700273',\n",
       " 'rideshare': 'http://www.kijiji.ca/b-rideshare-carpool/city-of-toronto/c5l1700273',\n",
       " 'room rental, roommates': 'http://www.kijiji.ca/b-room-rental-roommate/city-of-toronto/c36l1700273',\n",
       " 'sales, retail sales': 'http://www.kijiji.ca/b-sales-retail-jobs/city-of-toronto/c61l1700273',\n",
       " 'services': 'http://www.kijiji.ca/b-services/city-of-toronto/c72l1700273',\n",
       " 'short term rentals': 'http://www.kijiji.ca/b-short-term-rental/city-of-toronto/c42l1700273',\n",
       " 'skilled trades': 'http://www.kijiji.ca/b-skilled-trades/city-of-toronto/c76l1700273',\n",
       " 'small animals for sale': 'http://www.kijiji.ca/b-small-animals/city-of-toronto/c14654005l1700273',\n",
       " 'sporting goods, exercise': 'http://www.kijiji.ca/b-sporting-goods-exercise/city-of-toronto/c111l1700273',\n",
       " 'storage, parking': 'http://www.kijiji.ca/b-storage-parking/city-of-toronto/c39l1700273',\n",
       " 'tickets': 'http://www.kijiji.ca/b-tickets/city-of-toronto/c14l1700273',\n",
       " 'tools': 'http://www.kijiji.ca/b-tool/city-of-toronto/c110l1700273',\n",
       " 'toys, games': 'http://www.kijiji.ca/b-toys-games/city-of-toronto/c108l1700273',\n",
       " 'travel, vacations': 'http://www.kijiji.ca/b-travel-vacations/city-of-toronto/c302l1700273',\n",
       " 'trucks': 'http://www.kijiji.ca/b-cars-trucks/city-of-toronto/pickup+truck/c174l1700273a138',\n",
       " 'tutors, languages': 'http://www.kijiji.ca/b-tutor-language-lessons/city-of-toronto/c169l1700273',\n",
       " 'tv, media, fashion': 'http://www.kijiji.ca/b-tv-media-fashion-jobs/city-of-toronto/c55l1700273',\n",
       " 'under': 'http://www.kijiji.ca/b-cars-trucks/city-of-toronto/convertible__coupe__hatchback__other+body+type__sedan__wagon/c174l1700273a138?price=__5000',\n",
       " 'used cars & trucks': 'http://www.kijiji.ca/b-cars-trucks/city-of-toronto/c174l1700273',\n",
       " 'vacation rentals': 'http://www.kijiji.ca/b-vacation-rentals/c800l1700273',\n",
       " 'vans': 'http://www.kijiji.ca/b-cars-trucks/city-of-toronto/mini+van/c174l1700273a138',\n",
       " 'video games, consoles': 'http://www.kijiji.ca/b-video-games-consoles/city-of-toronto/c141l1700273',\n",
       " 'volunteers': 'http://www.kijiji.ca/b-volunteers/city-of-toronto/c3l1700273',\n",
       " 'wedding': 'http://www.kijiji.ca/b-wedding-service/city-of-toronto/c79l1700273'}"
      ]
     },
     "execution_count": 46,
     "metadata": {},
     "output_type": "execute_result"
    }
   ],
   "source": [
    "categories"
   ]
  },
  {
   "cell_type": "markdown",
   "metadata": {},
   "source": [
    "### Now, I will make a list of just the keys from the category dictionary I created earlier:"
   ]
  },
  {
   "cell_type": "code",
   "execution_count": 47,
   "metadata": {
    "collapsed": false
   },
   "outputs": [],
   "source": [
    "category_list = [key for key in categories.keys()]"
   ]
  },
  {
   "cell_type": "markdown",
   "metadata": {},
   "source": [
    "### Now for the fun part.  Below, I am using Jupyter interact decorator to create a drop-down widget.  I will pass the category_list that I just made to it and also a dictionary containing page numbers so that the user can page through one page at a time.  The rest of the function is grabbing the listing's image url, title, description, price, etc., from which I will make a pandas data frame which is then outputted to the screen."
   ]
  },
  {
   "cell_type": "code",
   "execution_count": 64,
   "metadata": {
    "collapsed": false
   },
   "outputs": [
    {
     "name": "stdout",
     "output_type": "stream",
     "text": [
      "http://www.kijiji.ca/b-cars-trucks/city-of-toronto/convertible__coupe__hatchback__other+body+type__sedan__wagon/c174l1700273a138\n"
     ]
    },
    {
     "data": {
      "text/html": [
       "<table border=\"1\" class=\"dataframe\">\n",
       "  <thead>\n",
       "    <tr style=\"text-align: right;\">\n",
       "      <th></th>\n",
       "      <th>Image</th>\n",
       "      <th>Title</th>\n",
       "      <th>Comment</th>\n",
       "      <th>Details</th>\n",
       "      <th>Price</th>\n",
       "    </tr>\n",
       "  </thead>\n",
       "  <tbody>\n",
       "    <tr>\n",
       "      <th>0</th>\n",
       "      <td><img src='http://i.ebayimg.com/00/s/NjgwWDEwMjQ=/z/pxkAAOSwEgVWRwew/$_2.JPG'></td>\n",
       "      <td>2010 Chrysler 300 TOURING | P/DRIVER SEAT | F/FOG LIGHTS</td>\n",
       "      <td>BEAUTIFUL GREY ON BLACK LEATHER CHRYSLER 300 TOURING W/TOP FEATURES: POWER DRIVER SEAT // FRONT FOG LIGHTS // CRUISE CONTROL // KEYLESS ENTRY & MORE! **Unique Features** Take command of the road in…</td>\n",
       "      <td>92715km | Automatic | $ Financing Available</td>\n",
       "      <td>12987</td>\n",
       "    </tr>\n",
       "    <tr>\n",
       "      <th>1</th>\n",
       "      <td><img src='http://i.ebayimg.com/00/s/MzAxWDgwMA==/z/jwoAAOSw5VFWNgnn/$_2.JPG'></td>\n",
       "      <td>2004 Mazda RX8 GT</td>\n",
       "      <td>I have a beautiful Mazda rx8 for sale that stands out from the rest. A lot of money invested but time to move on to something different as I've owned this car for over 8 years. Add ons: Turbo xs…</td>\n",
       "      <td>17000km | Manual</td>\n",
       "      <td>5888</td>\n",
       "    </tr>\n",
       "    <tr>\n",
       "      <th>2</th>\n",
       "      <td><img src='http://i.ebayimg.com/00/s/NzY4WDEwMjQ=/z/qqcAAOSwLzdWTaHR/$_2.JPG'></td>\n",
       "      <td>2012 Toyota Camry XLE V6 ~ EXTRA CLEAN ~ FULLY LOADED ~ NAVIGATI</td>\n",
       "      <td>Safety & E-test included in the price. No extra fees. Warranty & CarProof report available. HST is not included. K & L Auto Sales 4699 Keele st. unit#19 (Steeles & Keele) Toronto M3J 2N8 (416)…</td>\n",
       "      <td>96150km | Automatic</td>\n",
       "      <td>16499</td>\n",
       "    </tr>\n",
       "    <tr>\n",
       "      <th>3</th>\n",
       "      <td><img src='http://i.ebayimg.com/00/s/NjgyWDEwMjQ=/z/HZUAAOSwcBhWVYkW/$_2.JPG'></td>\n",
       "      <td>2011 BMW 535i xDrive 535i xDrive COMFORT ACCESS NAVIGATION PARKI</td>\n",
       "      <td>WELCOME!! I AM A 2011 BMW 535i xDRIVE AND CAN'T WAIT FOR US TO MEET!! LET ME TELL YOU A LITTLE ABOUT MYSELF!! I HAVE A BEAUTIFUL WHITE EXTERIOR ON A LIGHT BEIGE INTERIOR AND COME WITH OPTIONS LIKE…</td>\n",
       "      <td>92047km | Automatic</td>\n",
       "      <td>27998</td>\n",
       "    </tr>\n",
       "    <tr>\n",
       "      <th>4</th>\n",
       "      <td><img src='http://i.ebayimg.com/00/s/NjgxWDEwMjQ=/z/hzkAAOSwp5JWYrjK/$_2.JPG'></td>\n",
       "      <td>2012 BMW 535I xDrive M-Sport Pkg Nav Leather Sunroof Xenons Blin</td>\n",
       "      <td>This Gorgeous Canadian 2012 BMW 535i M-Sport comes with a clean CarProof and loaded with: xDrive! M-Sport Package! Navigation! Sunroof! Leather Seating! BlindSpot Warning! 3D Camera! Xenon HID…</td>\n",
       "      <td>65659km | Automatic | CarProof</td>\n",
       "      <td>38494</td>\n",
       "    </tr>\n",
       "    <tr>\n",
       "      <th>5</th>\n",
       "      <td><img src='http://i.ebayimg.com/00/s/NjAwWDgwMA==/z/p1QAAOSwAKxWZPZX/$_2.JPG'></td>\n",
       "      <td>2003 Volkswagen Jetta 1.8t Sedan</td>\n",
       "      <td>Hello I am selling a 2003 Volkswagen Jetta 1.8t. This is an amazing German car with all maintenance up too date. This car has been very well taken care of with ZERO SIGNS OF RUST OR dents. In the…</td>\n",
       "      <td>210000km | Automatic</td>\n",
       "      <td>4000</td>\n",
       "    </tr>\n",
       "    <tr>\n",
       "      <th>6</th>\n",
       "      <td><img src='http://i.ebayimg.com/00/s/NTM2WDgwMA==/z/3kwAAOSwcBhWZPa0/$_2.JPG'></td>\n",
       "      <td>2013 Kia Optima (K5) LX Sedan - Well Cared For, MT, Enkei Wheels</td>\n",
       "      <td>Paltinum Graphite 2013, Manual Transmission Kia Optima LX, rebadged completely (inside and out) to a K5. I'm its first and only owner thus far and it has been well cared for. Regular AMSOIL full…</td>\n",
       "      <td>56855km | Manual</td>\n",
       "      <td>17500</td>\n",
       "    </tr>\n",
       "    <tr>\n",
       "      <th>7</th>\n",
       "      <td><img src='http://i.ebayimg.com/00/s/NjAwWDgwMA==/z/ePkAAOSwT5tWG~u4/$_2.JPG'></td>\n",
       "      <td>2006 LT v6 MINT * 134,000 km - PERFECT 10 OUT OF 10 * CERTIFIED</td>\n",
       "      <td>BRAND NEW BRAKES,BALL JOINTS & TIE ROD ENDS INCLUDED FOR THE SAFETY.Like new inside & out.Factory Remote Starter. No rust,scrapes or dents.Recent tires.Great on gas.Runs & drives like new. We want...</td>\n",
       "      <td>134000km | Automatic</td>\n",
       "      <td>5275</td>\n",
       "    </tr>\n",
       "    <tr>\n",
       "      <th>8</th>\n",
       "      <td><img src='http://i.ebayimg.com/00/s/NDgwWDY0MA==/z/8bQAAOSwbdpWZHdr/$_2.JPG'></td>\n",
       "      <td>2006 AUDI A6 4.2 QUATTRO  **EXECUTIVE PGK**</td>\n",
       "      <td>4 DOOR SILVER ON BLACK LEATHER AUDI A6 EXECUTIVE PACKAGE. NAVIGATION, BACK-UP CAMERA, AND SUNROOF PLUS MUCH MORE! LOCAL CANADIAN CAR...VERY CLEAN AND WELL MAINTAINED CAR. PLEASE CHECK OUR WEB AT…</td>\n",
       "      <td>145000km | Automatic</td>\n",
       "      <td>12999</td>\n",
       "    </tr>\n",
       "    <tr>\n",
       "      <th>9</th>\n",
       "      <td><img src='http://i.ebayimg.com/00/s/NDgwWDY0MA==/z/aqMAAOSwNphWZPLw/$_2.JPG'></td>\n",
       "      <td>2008 Honda Accord coupe EX-L, GREAT BUY</td>\n",
       "      <td>CERTIFIED AND ETESTED, ALL PAPERWORK AVAILABLE NEW BATTERY PUT IN, ONLY 30000km ON BRAND NEW ENGINE PUT IN BY HONDA, NOT A REBUILT ENGINE Call or text (416) 427-6895 for quick response EXTRAS: ...</td>\n",
       "      <td>177489km | Manual</td>\n",
       "      <td>7500</td>\n",
       "    </tr>\n",
       "    <tr>\n",
       "      <th>10</th>\n",
       "      <td><img src='http://i.ebayimg.com/00/s/ODAwWDYwMA==/z/9mEAAOSw7FRWZPa8/$_2.JPG'></td>\n",
       "      <td>2007 Pontiac G6 GT Coupe Low KM</td>\n",
       "      <td>2007 Pontiac g6 gt v6 coupe Clean title 90% of km are highway 3.5L engine Cloth seats AUX Heated seats Chrome rims Power sunroof Power windows/doors Keyless remote start Automatic transmission Brand…</td>\n",
       "      <td>149km | Automatic</td>\n",
       "      <td>5200</td>\n",
       "    </tr>\n",
       "    <tr>\n",
       "      <th>11</th>\n",
       "      <td><img src='http://i.ebayimg.com/00/s/NDI3WDYzNQ==/z/ziUAAOSwf-VWZPac/$_2.JPG'></td>\n",
       "      <td>2002 Lexus IS300 MODIFIED *PRICE DROP*</td>\n",
       "      <td>I am selling my 2002 Lexus IS300 w/ 5 speed, all hwy kilometers, and has been well maintained mechanically. No check engine lights. It has the reliable 2JZ-GE motor. The interior is clean and well…</td>\n",
       "      <td>365000km | Manual</td>\n",
       "      <td>4500</td>\n",
       "    </tr>\n",
       "    <tr>\n",
       "      <th>12</th>\n",
       "      <td><img src='http://i.ebayimg.com/00/s/NDgwWDY0MA==/z/jSYAAOSwNphWZNrb/$_2.JPG'></td>\n",
       "      <td>2013 Ford Focus SE BLUETOOTH WE FINANCE!!!!! Hatchback</td>\n",
       "      <td>VERY WELL KEPT!! HATCHBACK! AUTOMATIC!! BLUETOOTH!! CAR-PROOF VERIFIED, ASK FOR IT!!!! FULL CERTIFICATION AND E-TEST INCLUDED IN THE PRICE!!!!! VISIT OUR WEBSITE TO SEE SIMILAR VEHICLES IN STOCK @…</td>\n",
       "      <td>106859km | Automatic</td>\n",
       "      <td>9750</td>\n",
       "    </tr>\n",
       "    <tr>\n",
       "      <th>13</th>\n",
       "      <td><img src='http://i.ebayimg.com/00/s/NDgwWDY0MA==/z/BrIAAOSwcBhWZPji/$_2.JPG'></td>\n",
       "      <td>2011 Ford Fusion SE</td>\n",
       "      <td>FINANCE FROM 4.9% Fully loaded. No accidents, excellent cond. Also avail. 2010 Chrysler 300 Touring, 121000km, $8500. 70 vehicles in stock @ www.firstautogroup.ca •2.5L I4 engine •Battery saver…</td>\n",
       "      <td>98000km | Automatic</td>\n",
       "      <td>7990</td>\n",
       "    </tr>\n",
       "    <tr>\n",
       "      <th>14</th>\n",
       "      <td><img src='http://i.ebayimg.com/00/s/NTUyWDczNg==/z/YmMAAOSwv-NWZPVp/$_2.JPG'></td>\n",
       "      <td>2008 AUDI A4 2.0T S-LINE AVANT WAGON!! BLACK ON BLACK!!</td>\n",
       "      <td>2008 AUDI A4 2.0T S-LINE AVANT WAGON!! BLACK ON BLACK!! FULLY LOADED SUNROOF HEATED SEATS TIMING BELT/WATER PUMP BEEN DONE</td>\n",
       "      <td>165000km | Automatic</td>\n",
       "      <td>8500</td>\n",
       "    </tr>\n",
       "    <tr>\n",
       "      <th>15</th>\n",
       "      <td><img src='http://i.ebayimg.com/00/s/NjAwWDgwMA==/z/ewgAAOSwbdpWZPS5/$_2.JPG'></td>\n",
       "      <td>2003 Pontiac Sunfire Mint,Certified Sedan</td>\n",
       "      <td>Hello there, ******* Reduced******** For sale is: 2003 Pontiac Sunfire Clean Sedan. Recently done: Safety e test All round PAD & Rotors, Shooks Good battery Heat & A/C NO RUST @ all 2nd user LADY…</td>\n",
       "      <td>191km | Automatic</td>\n",
       "      <td>1999</td>\n",
       "    </tr>\n",
       "    <tr>\n",
       "      <th>16</th>\n",
       "      <td><img src='http://i.ebayimg.com/00/s/NDUwWDgwMA==/z/fI4AAOSwfZ1WZPS4/$_2.JPG'></td>\n",
       "      <td>2003 Toyota Echo Sedan</td>\n",
       "      <td>I am selling my Toyota Echo 2003 as it is. Only 143,000 km, in excellent driving condition, great on gas, automatic 4 doors. Winter tires included. Asking $3000, Please call 416 988 0924</td>\n",
       "      <td>143000km | Automatic</td>\n",
       "      <td>3000</td>\n",
       "    </tr>\n",
       "    <tr>\n",
       "      <th>17</th>\n",
       "      <td><img src='http://i.ebayimg.com/00/s/MzYwWDY0MA==/z/fkgAAOSwNphWZPPM/$_2.JPG'></td>\n",
       "      <td>2008 Ford Mustang Shelby GT500 Convertible * Reducing Collection</td>\n",
       "      <td>Reducing Collection* Rare triple black GT500 convertible. Factory ordered stripes deleted. 5.4 litre V8 Supercharged. Manual transmission. Fully loaded with all available options including ...</td>\n",
       "      <td>26000km | Manual</td>\n",
       "      <td>35900</td>\n",
       "    </tr>\n",
       "    <tr>\n",
       "      <th>18</th>\n",
       "      <td><img src='http://i.ebayimg.com/00/s/NDUwWDgwMA==/z/OwcAAOSwp5JWZPIP/$_2.JPG'></td>\n",
       "      <td>2010 Hyundai Genesis Coupe 2.0 T ( LOW KM )</td>\n",
       "      <td>Selling my Hyundai Genesis coupe, 6 spd manual with very low km for the year. This it the 2.0 Turbo version. This car has never seen winter, only summer driven. Very clean car, please contact me at…</td>\n",
       "      <td>55000km | Manual</td>\n",
       "      <td>14950</td>\n",
       "    </tr>\n",
       "    <tr>\n",
       "      <th>19</th>\n",
       "      <td><img src='http://i.ebayimg.com/00/s/NDUwWDgwMA==/z/YYkAAOSwNphWZPKP/$_2.JPG'></td>\n",
       "      <td>2000 Mazda 626 LX Sedan</td>\n",
       "      <td>one owner, gently driven, road worthy, some rust, cracked front windshield on passenger side does not obstruct vision, many new parts including fuel pump, exhaust, brakes recently done, good rubber,…</td>\n",
       "      <td>163000km | Automatic</td>\n",
       "      <td>500</td>\n",
       "    </tr>\n",
       "    <tr>\n",
       "      <th>20</th>\n",
       "      <td><img src='http://i.ebayimg.com/00/s/NTU5WDgwMA==/z/N-EAAOSwp5JWZPHc/$_2.JPG'></td>\n",
       "      <td>Volkswagen Jetta Red on Black</td>\n",
       "      <td>Volkswagen Jetta Runs great ONLY 165kms...... Never been in an accident Everything is original Very cheap on gas and insurance Power everything Black leather seats Power Sunroof Heated seats Power…</td>\n",
       "      <td>165000km | Automatic</td>\n",
       "      <td>3350</td>\n",
       "    </tr>\n",
       "    <tr>\n",
       "      <th>21</th>\n",
       "      <td><img src='http://i.ebayimg.com/00/s/NDUwWDgwMA==/z/vjQAAOSw8-tWZPFv/$_2.JPG'></td>\n",
       "      <td>2008 Subaru Impreza 2.5 i Hatchback</td>\n",
       "      <td>Car in very good conditon, no accident at all , well kept.Tinted windows. ONLY 103K km. looking to upgrade to a SUV email or call after 5pm on weekdays. Always available before ad deleted.</td>\n",
       "      <td>103600km | Automatic</td>\n",
       "      <td>9000</td>\n",
       "    </tr>\n",
       "    <tr>\n",
       "      <th>22</th>\n",
       "      <td><img src='http://i.ebayimg.com/00/s/NjAwWDgwMA==/z/Gv8AAOSwnH1WZPDX/$_2.JPG'></td>\n",
       "      <td>2000 HONDA CIVIC SPECIAL EDITION SEDAN</td>\n",
       "      <td>2000 HONDA CIVIC SPECIAL EDITION SEDAN AUTOMATIC TRANSMISSION 1.6L 4CYL ORIGINAL OWNERS ORIGINAL 221,000KM POWER LOCKS POWER STEERING TILT STEERING CRUISE CONTROL A/C STEERING WHEEL COVER WINTER ...</td>\n",
       "      <td>221000km | Automatic</td>\n",
       "      <td>1850</td>\n",
       "    </tr>\n",
       "    <tr>\n",
       "      <th>23</th>\n",
       "      <td><img src='http://i.ebayimg.com/00/s/NDUwWDgwMA==/z/FNEAAOSwfZ1WZO~p/$_2.JPG'></td>\n",
       "      <td>2009 Pontiac Vibe Hatchback - Toyota Matrix</td>\n",
       "      <td>Car in perfect working condition, regularly serviced and looked after. Keyless entry, all power options, cruise control, ABS, adjustable steering wheel, sunroof, 115 V built in inverter ( very handy…</td>\n",
       "      <td>142860km | Automatic</td>\n",
       "      <td>6490</td>\n",
       "    </tr>\n",
       "    <tr>\n",
       "      <th>24</th>\n",
       "      <td><img src='http://i.ebayimg.com/00/s/NjA5WDgwMA==/z/UugAAOSwxN5WZPCL/$_2.JPG'></td>\n",
       "      <td>2002 HONDA CIVIC Si COUPE *LOW KM* *ONE OWNER*</td>\n",
       "      <td>One owner, excellent condition, low mileage, very well maintained and always had regular maintenance done on time. No known current mechanical issues as we reecently had front end servicing done ...</td>\n",
       "      <td>162229km | Automatic</td>\n",
       "      <td>1800</td>\n",
       "    </tr>\n",
       "  </tbody>\n",
       "</table>"
      ],
      "text/plain": [
       "<IPython.core.display.HTML object>"
      ]
     },
     "metadata": {},
     "output_type": "display_data"
    }
   ],
   "source": [
    "pages = {'Page 1':'', 'Page 2':'page-2', 'Page 3':'page-3', 'Page 4':'page-4', 'Page 5':'page-5',\n",
    "         'Page 6':'page-6', 'Page 7':'page-7', 'Page 8':'page-8', 'Page 9':'page-9'}\n",
    "\n",
    "@interact\n",
    "def kijiji_listings(category = sorted(category_list), page = sorted(pages)):\n",
    "    if page == 'Page 1':\n",
    "        print(categories[category])\n",
    "        html_cars = request.urlopen(categories[category])\n",
    "    else:\n",
    "        url = categories[category]\n",
    "        last_forward_slash = url.rfind('/')\n",
    "        beginning_url = url[:last_forward_slash+1]\n",
    "        ending_url = url[last_forward_slash:]\n",
    "        print(beginning_url + pages[page] + ending_url)\n",
    "        html_cars = request.urlopen(beginning_url + pages[page] + ending_url)\n",
    "\n",
    "    soup_cars = BeautifulSoup(html_cars, 'lxml')\n",
    "    \n",
    "    #tables = soup_cars.find_all('table',  class_ = re.compile('regular-ad|top-'))\n",
    "    tables = soup_cars.find_all('table')\n",
    "    \n",
    "    img_urls = []\n",
    "    for table in tables[1:]:\n",
    "        for row in table.find_all('td', class_='image'):\n",
    "            try:\n",
    "                img_urls.append(\"<img src='\" + row.div.img['src'] + \"'>\")\n",
    "            except:\n",
    "                img_urls.append(\"<img src='\" + row.img['src'] + \"'>\")\n",
    "                \n",
    "    titles = []\n",
    "    for table in tables[1:]:\n",
    "        for row in table.find_all('td', class_='description'):\n",
    "            titles.append(row.a.get_text().strip())\n",
    "            \n",
    "    comments = []\n",
    "    for table in tables[1:]:\n",
    "        for row in table.find_all('td', class_='description'):\n",
    "            comments.append(row.p.get_text().strip())\n",
    "            \n",
    "    details = []\n",
    "    for table in tables[1:]:\n",
    "        for row in table.find_all('td', class_='description'):\n",
    "            for item in row.find_all('p', class_='details'):\n",
    "                details.append(item.get_text().strip())\n",
    "    \n",
    "    prices = []\n",
    "    for table in tables[1:]:\n",
    "        for row in table.find_all('td', class_='price'):\n",
    "            try:\n",
    "                prices.append(float(row.get_text().replace('$','').replace(',','').strip()))\n",
    "            except:\n",
    "                prices.append(0.0)\n",
    "    \n",
    "    try:\n",
    "        df = pd.DataFrame({'Price':prices, 'Image':img_urls, 'Title':titles, 'Comment':comments, 'Details':details})\n",
    "        # Arrange the columns in a certain order\n",
    "        df = df[['Image','Title','Comment','Details','Price']]\n",
    "    # Some category listings don't have a price and title, so this script would bomb unless we leave them out\n",
    "    except:\n",
    "        df = pd.DataFrame({'Image':img_urls, 'Comment':comments, 'Details':details})\n",
    "        # Arrange the columns in a certain order\n",
    "        df = df[['Image','Comment','Details']]\n",
    "\n",
    "    \n",
    "    return HTML(df.to_html(escape=False))  # if escape is set to True, the images won't be rendered"
   ]
  },
  {
   "cell_type": "markdown",
   "metadata": {},
   "source": [
    "<br><br><br><br><br><br><br><br><br><br><br><br><br><br><br><br><br>"
   ]
  }
 ],
 "metadata": {
  "hide_input": false,
  "kernelspec": {
   "display_name": "Python 3",
   "language": "python",
   "name": "python3"
  },
  "language_info": {
   "codemirror_mode": {
    "name": "ipython",
    "version": 3
   },
   "file_extension": ".py",
   "mimetype": "text/x-python",
   "name": "python",
   "nbconvert_exporter": "python",
   "pygments_lexer": "ipython3",
   "version": "3.4.3"
  }
 },
 "nbformat": 4,
 "nbformat_minor": 0
}
