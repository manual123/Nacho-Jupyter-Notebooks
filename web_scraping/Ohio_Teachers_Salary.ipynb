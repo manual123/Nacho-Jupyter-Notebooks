{
 "cells": [
  {
   "cell_type": "markdown",
   "metadata": {},
   "source": [
    "<center><h1>Summarizing Ohio Teacher or Education Employee Salary</h1></center>\n",
    "<center><h2>Using Python and Pandas Library</h2></center>"
   ]
  },
  {
   "cell_type": "markdown",
   "metadata": {},
   "source": [
    "This IPython notebook demonstrates how to do basic data cleaning and analysis on a csv or Excel file containing salary information of Ohio's public teachers.  We will be using the Python programming language and Pandas data analysis package to perform the data analysis."
   ]
  },
  {
   "cell_type": "markdown",
   "metadata": {},
   "source": [
    "I obtained Ohio teachers' salary information from Ohio's state treasurer's <a href='http://www.tos.ohio.gov/Transparency_Teacher.aspx'>web site</a>."
   ]
  },
  {
   "cell_type": "markdown",
   "metadata": {},
   "source": [
    "<a name='top'></a>"
   ]
  },
  {
   "cell_type": "markdown",
   "metadata": {},
   "source": [
    "## Sections"
   ]
  },
  {
   "cell_type": "markdown",
   "metadata": {},
   "source": [
    "- [Fetching the data](#fetch)\n",
    "- [Data clean-up](#clean)\n",
    "- [Basic summary counts](#basic_summary)\n",
    "- [Filtering data](#sql)\n",
    "- [Simple visualization and Top School Districts](#visualization)\n",
    "- [Merging data sets together](#merging)\n",
    "- [Top 25 Median Salaries by School Discricts](#top25)"
   ]
  },
  {
   "cell_type": "markdown",
   "metadata": {},
   "source": [
    "<a name='fetch'></a>"
   ]
  },
  {
   "cell_type": "markdown",
   "metadata": {},
   "source": [
    "# Fetching The Data"
   ]
  },
  {
   "cell_type": "code",
   "execution_count": 1,
   "metadata": {
    "collapsed": false
   },
   "outputs": [],
   "source": [
    "import pandas as pd\n",
    "pd.set_option(\"display.max_rows\",1000)\n",
    "pd.set_option(\"display.max_columns\",20)\n",
    "\n",
    "ohio = pd.read_excel(\"http://www.tos.ohio.gov/Documents/Transparency/2013%20-%202014%20School%20Year%20Staff%20Salary%20Information.xlsx\",\n",
    "                  \"Data tab\",index_col=None, na_values=['NA'])"
   ]
  },
  {
   "cell_type": "markdown",
   "metadata": {},
   "source": [
    "You can get the data (xlsx file) directly from the Ohio treasurer's web site (*can take a few minutes*):"
   ]
  },
  {
   "cell_type": "markdown",
   "metadata": {},
   "source": [
    "## or"
   ]
  },
  {
   "cell_type": "markdown",
   "metadata": {},
   "source": [
    "#### Download the data locally as a CSV file, then read it:"
   ]
  },
  {
   "cell_type": "code",
   "execution_count": 51,
   "metadata": {
    "collapsed": false
   },
   "outputs": [],
   "source": [
    "import pandas as pd\n",
    "# Let's read the data, but we need to remove commas and dollar signs from the PAY AMOUNT column\n",
    "# Otherwise it will be read as a string or text value.  We can't do statistics on text or string values!\n",
    "# 'ohio' is a data structure created by pandas that is similar to what a table would look like\n",
    "ohio = pd.read_csv('/home/pybokeh/Desktop/2012-2013_School_Year_Staff_Information.csv',\n",
    "                   converters={'PAY AMOUNT': lambda x: float(x.replace('$', '').replace(',',''))})"
   ]
  },
  {
   "cell_type": "markdown",
   "metadata": {},
   "source": [
    "#### Now let's take a peek at our data, but in doing so, we have to set certain display settings per the [documentation](http://pandas.pydata.org/pandas-docs/stable/options.html):"
   ]
  },
  {
   "cell_type": "code",
   "execution_count": 3,
   "metadata": {
    "collapsed": false
   },
   "outputs": [
    {
     "data": {
      "text/html": [
       "<div>\n",
       "<table border=\"1\" class=\"dataframe\">\n",
       "  <thead>\n",
       "    <tr style=\"text-align: right;\">\n",
       "      <th></th>\n",
       "      <th>LAST NAME</th>\n",
       "      <th>FIRST NAME</th>\n",
       "      <th>EDUCATION LEVEL</th>\n",
       "      <th>JOB DESCRIPTION</th>\n",
       "      <th>DISTRICT NAME</th>\n",
       "      <th>SCHOOL NAME</th>\n",
       "      <th>CITY NAME</th>\n",
       "      <th>DAYS WORKED</th>\n",
       "      <th>HOURS WORKED PER DAY</th>\n",
       "      <th>PAY AMOUNT</th>\n",
       "    </tr>\n",
       "  </thead>\n",
       "  <tbody>\n",
       "    <tr>\n",
       "      <th>0</th>\n",
       "      <td>LONGDEN</td>\n",
       "      <td>CHERYL</td>\n",
       "      <td>Masters</td>\n",
       "      <td>Tutor/Small Group Instructor Assignment (Serve...</td>\n",
       "      <td>Ashtabula Area City</td>\n",
       "      <td>Lakeside High School</td>\n",
       "      <td>Ashtabula</td>\n",
       "      <td>185</td>\n",
       "      <td>7.00</td>\n",
       "      <td>23544</td>\n",
       "    </tr>\n",
       "    <tr>\n",
       "      <th>1</th>\n",
       "      <td>SIKES</td>\n",
       "      <td>LINDA</td>\n",
       "      <td>Masters</td>\n",
       "      <td>Counseling Assignment</td>\n",
       "      <td>Yellow Springs Exempted Village</td>\n",
       "      <td>Yellow Springs/McKinney High School</td>\n",
       "      <td>Yellow Springs</td>\n",
       "      <td>194</td>\n",
       "      <td>7.00</td>\n",
       "      <td>80949</td>\n",
       "    </tr>\n",
       "    <tr>\n",
       "      <th>2</th>\n",
       "      <td>SMITH</td>\n",
       "      <td>SHERRY</td>\n",
       "      <td>Masters</td>\n",
       "      <td>Other Professional \u0013 Other Assignment</td>\n",
       "      <td>Greene County ESC</td>\n",
       "      <td>Greene County ESC</td>\n",
       "      <td>Yellow Springs</td>\n",
       "      <td>103</td>\n",
       "      <td>7.50</td>\n",
       "      <td>24322</td>\n",
       "    </tr>\n",
       "    <tr>\n",
       "      <th>3</th>\n",
       "      <td>BALOG</td>\n",
       "      <td>GEORGE</td>\n",
       "      <td>Masters</td>\n",
       "      <td>Teacher Assignment</td>\n",
       "      <td>Dayton City</td>\n",
       "      <td>Stivers School For The Arts</td>\n",
       "      <td>Dayton</td>\n",
       "      <td>200</td>\n",
       "      <td>4.35</td>\n",
       "      <td>36964</td>\n",
       "    </tr>\n",
       "    <tr>\n",
       "      <th>4</th>\n",
       "      <td>BAUER</td>\n",
       "      <td>RICHARD</td>\n",
       "      <td>Masters</td>\n",
       "      <td>Teacher Assignment</td>\n",
       "      <td>North Olmsted City</td>\n",
       "      <td>North Olmsted Middle School</td>\n",
       "      <td>North Olmsted</td>\n",
       "      <td>185</td>\n",
       "      <td>7.50</td>\n",
       "      <td>91187</td>\n",
       "    </tr>\n",
       "  </tbody>\n",
       "</table>\n",
       "</div>"
      ],
      "text/plain": [
       "  LAST NAME FIRST NAME EDUCATION LEVEL  \\\n",
       "0   LONGDEN     CHERYL         Masters   \n",
       "1     SIKES      LINDA         Masters   \n",
       "2     SMITH     SHERRY         Masters   \n",
       "3     BALOG     GEORGE         Masters   \n",
       "4     BAUER    RICHARD         Masters   \n",
       "\n",
       "                                     JOB DESCRIPTION  \\\n",
       "0  Tutor/Small Group Instructor Assignment (Serve...   \n",
       "1                             Counseling Assignment    \n",
       "2             Other Professional \u0013 Other Assignment    \n",
       "3                                 Teacher Assignment   \n",
       "4                                 Teacher Assignment   \n",
       "\n",
       "                     DISTRICT NAME                          SCHOOL NAME  \\\n",
       "0              Ashtabula Area City                 Lakeside High School   \n",
       "1  Yellow Springs Exempted Village  Yellow Springs/McKinney High School   \n",
       "2                Greene County ESC                    Greene County ESC   \n",
       "3                      Dayton City          Stivers School For The Arts   \n",
       "4               North Olmsted City          North Olmsted Middle School   \n",
       "\n",
       "        CITY NAME  DAYS WORKED  HOURS WORKED PER DAY  PAY AMOUNT  \n",
       "0       Ashtabula          185                  7.00       23544  \n",
       "1  Yellow Springs          194                  7.00       80949  \n",
       "2  Yellow Springs          103                  7.50       24322  \n",
       "3          Dayton          200                  4.35       36964  \n",
       "4   North Olmsted          185                  7.50       91187  "
      ]
     },
     "execution_count": 3,
     "metadata": {},
     "output_type": "execute_result"
    }
   ],
   "source": [
    "ohio.head()"
   ]
  },
  {
   "cell_type": "markdown",
   "metadata": {},
   "source": [
    "#### I also like to see if there are any Null values in our dataframe using the info() function"
   ]
  },
  {
   "cell_type": "code",
   "execution_count": 5,
   "metadata": {
    "collapsed": false
   },
   "outputs": [
    {
     "name": "stdout",
     "output_type": "stream",
     "text": [
      "<class 'pandas.core.frame.DataFrame'>\n",
      "Int64Index: 272731 entries, 0 to 272730\n",
      "Data columns (total 10 columns):\n",
      "LAST NAME               272710 non-null object\n",
      "FIRST NAME              272645 non-null object\n",
      "EDUCATION LEVEL         272731 non-null object\n",
      "JOB DESCRIPTION         272731 non-null object\n",
      "DISTRICT NAME           272638 non-null object\n",
      "SCHOOL NAME             261393 non-null object\n",
      "CITY NAME               261360 non-null object\n",
      "DAYS WORKED             272731 non-null int64\n",
      "HOURS WORKED PER DAY    272731 non-null float64\n",
      "PAY AMOUNT              272731 non-null float64\n",
      "dtypes: float64(2), int64(1), object(7)\n",
      "memory usage: 22.9+ MB\n"
     ]
    }
   ],
   "source": [
    "ohio.info()"
   ]
  },
  {
   "cell_type": "markdown",
   "metadata": {},
   "source": [
    "# Data Clean-Up"
   ]
  },
  {
   "cell_type": "markdown",
   "metadata": {},
   "source": [
    "[[back to top](#top)]"
   ]
  },
  {
   "cell_type": "markdown",
   "metadata": {},
   "source": [
    "#### There are apparently some blank/null values in some of the columns.  &nbsp; &nbsp;We are going to use the fillna() function to fill missing values with whatever we want.  &nbsp; &nbsp;I will fill them with 'missing'.  &nbsp; &nbsp;Since the missing values are from columns that do not contain numeric values, this is not a concern for us normally."
   ]
  },
  {
   "cell_type": "code",
   "execution_count": 6,
   "metadata": {
    "collapsed": false
   },
   "outputs": [
    {
     "name": "stdout",
     "output_type": "stream",
     "text": [
      "<class 'pandas.core.frame.DataFrame'>\n",
      "Int64Index: 272731 entries, 0 to 272730\n",
      "Data columns (total 10 columns):\n",
      "LAST NAME               272731 non-null object\n",
      "FIRST NAME              272731 non-null object\n",
      "EDUCATION LEVEL         272731 non-null object\n",
      "JOB DESCRIPTION         272731 non-null object\n",
      "DISTRICT NAME           272731 non-null object\n",
      "SCHOOL NAME             272731 non-null object\n",
      "CITY NAME               272731 non-null object\n",
      "DAYS WORKED             272731 non-null int64\n",
      "HOURS WORKED PER DAY    272731 non-null float64\n",
      "PAY AMOUNT              272731 non-null float64\n",
      "dtypes: float64(2), int64(1), object(7)\n",
      "memory usage: 22.9+ MB\n"
     ]
    }
   ],
   "source": [
    "# Fill in missing values with \"missing\".  Use inplace=True so that we don't need to create a new data set\n",
    "ohio.fillna({'LAST NAME':'missing','FIRST NAME':'missing','DISTRICT NAME':'missing',\n",
    "             'SCHOOL NAME':'missing','CITY NAME':'missing'}, inplace=True)\n",
    "ohio.info()"
   ]
  },
  {
   "cell_type": "markdown",
   "metadata": {},
   "source": [
    "#### Now, none of our columns have missing values.  &nbsp; &nbsp;It is important to fill in missing values or else they may not be included in counts we do later on.  &nbsp; &nbsp;But since none of the missing values were numeric values, we were ok anyway."
   ]
  },
  {
   "cell_type": "markdown",
   "metadata": {},
   "source": [
    "#### Another way to find out what the data type is for each of our columns in our dataframe is to use the dtypes attribute:"
   ]
  },
  {
   "cell_type": "code",
   "execution_count": 137,
   "metadata": {
    "collapsed": false
   },
   "outputs": [
    {
     "data": {
      "text/plain": [
       "LAST NAME                object\n",
       "FIRST NAME               object\n",
       "EDUCATION LEVEL          object\n",
       "JOB DESCRIPTION          object\n",
       "DISTRICT NAME            object\n",
       "SCHOOL NAME              object\n",
       "CITY NAME                object\n",
       "DAYS WORKED               int64\n",
       "HOURS WORKED PER DAY    float64\n",
       "PAY AMOUNT              float64\n",
       "dtype: object"
      ]
     },
     "execution_count": 137,
     "metadata": {},
     "output_type": "execute_result"
    }
   ],
   "source": [
    "ohio.dtypes"
   ]
  },
  {
   "cell_type": "markdown",
   "metadata": {},
   "source": [
    "<a name='basic_summary'></a>"
   ]
  },
  {
   "cell_type": "markdown",
   "metadata": {},
   "source": [
    "# Basic Summary Counts"
   ]
  },
  {
   "cell_type": "markdown",
   "metadata": {},
   "source": [
    "[[back to top](#top)]"
   ]
  },
  {
   "cell_type": "markdown",
   "metadata": {},
   "source": [
    "#### Let's see what kind and how many school-related jobs are there in Ohio using pandas groupby function.  &nbsp; &nbsp;The groupby function allows us to perform similar data slicing and dicing that you can do with Excel's pivot tables or SQL's count(*)/group by:"
   ]
  },
  {
   "cell_type": "code",
   "execution_count": 138,
   "metadata": {
    "collapsed": false
   },
   "outputs": [
    {
     "data": {
      "text/plain": [
       "JOB DESCRIPTION\n",
       "Teacher Assignment                                                                               110695\n",
       "Vehicle Operating (Bus) Assignment                                                                14186\n",
       "Food Service Assignment                                                                           13757\n",
       "Custodian Assignment                                                                              12008\n",
       "Teaching Aide Assignment                                                                          11907\n",
       "Clerical Assignment                                                                               11650\n",
       "Instructional Paraprofessional Assignment                                                          9533\n",
       "Supplemental Service Teaching Assignment (Serves Students with Disability Conditions Only)         8022\n",
       "Coaching Assignment                                                                                6366\n",
       "Other Professional \u0013 Educational Assignment                                                        5556\n",
       "Monitoring Assignment                                                                              5082\n",
       "Tutor/Small Group Instructor Assignment (Serves Students Without Disability Conditions Only)       4304\n",
       "Advisor Assignment                                                                                 4205\n",
       "Counseling Assignment                                                                              4117\n",
       "Principal Assignment                                                                               3743\n",
       "Remedial Specialist Assignment                                                                     3672\n",
       "Speech and Language Therapist Assignment                                                           2828\n",
       "Psychologist Assignment                                                                            2332\n",
       "Coordinator Assignment                                                                             2243\n",
       "Attendant Assignment                                                                               2181\n",
       "dtype: int64"
      ]
     },
     "execution_count": 138,
     "metadata": {},
     "output_type": "execute_result"
    }
   ],
   "source": [
    "job_description = ohio.groupby('JOB DESCRIPTION').size().order(ascending=False)\n",
    "job_description[:20]"
   ]
  },
  {
   "cell_type": "markdown",
   "metadata": {},
   "source": [
    "#### As expected, overwhelmingly, most of the jobs at schools are teachers (\"Teacher Assignment\")."
   ]
  },
  {
   "cell_type": "markdown",
   "metadata": {},
   "source": [
    "#### There is also a nifty value_counts() method which does the same thing above, but with with less flexibility:"
   ]
  },
  {
   "cell_type": "code",
   "execution_count": 139,
   "metadata": {
    "collapsed": false
   },
   "outputs": [
    {
     "data": {
      "text/plain": [
       "Teacher Assignment                                                                               110695\n",
       "Vehicle Operating (Bus) Assignment                                                                14186\n",
       "Food Service Assignment                                                                           13757\n",
       "Custodian Assignment                                                                              12008\n",
       "Teaching Aide Assignment                                                                          11907\n",
       "Clerical Assignment                                                                               11650\n",
       "Instructional Paraprofessional Assignment                                                          9533\n",
       "Supplemental Service Teaching Assignment (Serves Students with Disability Conditions Only)         8022\n",
       "Coaching Assignment                                                                                6366\n",
       "Other Professional \u0013 Educational Assignment                                                        5556\n",
       "Monitoring Assignment                                                                              5082\n",
       "Tutor/Small Group Instructor Assignment (Serves Students Without Disability Conditions Only)       4304\n",
       "Advisor Assignment                                                                                 4205\n",
       "Counseling Assignment                                                                              4117\n",
       "Principal Assignment                                                                               3743\n",
       "Remedial Specialist Assignment                                                                     3672\n",
       "Speech and Language Therapist Assignment                                                           2828\n",
       "Psychologist Assignment                                                                            2332\n",
       "Coordinator Assignment                                                                             2243\n",
       "Attendant Assignment                                                                               2181\n",
       "dtype: int64"
      ]
     },
     "execution_count": 139,
     "metadata": {},
     "output_type": "execute_result"
    }
   ],
   "source": [
    "ohio['JOB DESCRIPTION'].value_counts()[:20]"
   ]
  },
  {
   "cell_type": "markdown",
   "metadata": {},
   "source": [
    "<a name='sql'></a>"
   ]
  },
  {
   "cell_type": "markdown",
   "metadata": {},
   "source": [
    "# Filtering Data Sets Using SQL-like Criteria"
   ]
  },
  {
   "cell_type": "markdown",
   "metadata": {},
   "source": [
    "[[back to top](#top)]"
   ]
  },
  {
   "cell_type": "markdown",
   "metadata": {},
   "source": [
    "#### Let's assume, I'm only interested in a certain school district and teaching positions like in Dublin, Ohio, pay amount greater than zero, and are full-time teachers (worked a least 6 months and work 8-hour days):"
   ]
  },
  {
   "cell_type": "code",
   "execution_count": 18,
   "metadata": {
    "collapsed": false
   },
   "outputs": [
    {
     "name": "stdout",
     "output_type": "stream",
     "text": [
      "There are: 832 teachers that met the criteria.\n"
     ]
    }
   ],
   "source": [
    "criterion1 = ohio['DISTRICT NAME'].str.contains('Dublin')\n",
    "criterion2 = ohio['PAY AMOUNT'] > 0\n",
    "criterion3 = ohio['JOB DESCRIPTION'] == 'Teacher Assignment'\n",
    "criterion4 = ohio['DAYS WORKED'] > 180\n",
    "criterion5 = ohio['HOURS WORKED PER DAY'] >= 8\n",
    "dublin_teachers = ohio[criterion1 & criterion2 & criterion3 & criterion4 & criterion5]\n",
    "print(\"There are:\", str(len(dublin_teachers)), \"teachers that met the criteria.\")"
   ]
  },
  {
   "cell_type": "markdown",
   "metadata": {},
   "source": [
    "#### Let's look at some sample data by using panda's head() function (by default, it shows first 5 rows of data):"
   ]
  },
  {
   "cell_type": "code",
   "execution_count": 20,
   "metadata": {
    "collapsed": false
   },
   "outputs": [
    {
     "data": {
      "text/html": [
       "<div>\n",
       "<table border=\"1\" class=\"dataframe\">\n",
       "  <thead>\n",
       "    <tr style=\"text-align: right;\">\n",
       "      <th></th>\n",
       "      <th>LAST NAME</th>\n",
       "      <th>FIRST NAME</th>\n",
       "      <th>EDUCATION LEVEL</th>\n",
       "      <th>JOB DESCRIPTION</th>\n",
       "      <th>DISTRICT NAME</th>\n",
       "      <th>SCHOOL NAME</th>\n",
       "      <th>CITY NAME</th>\n",
       "      <th>DAYS WORKED</th>\n",
       "      <th>HOURS WORKED PER DAY</th>\n",
       "      <th>PAY AMOUNT</th>\n",
       "    </tr>\n",
       "  </thead>\n",
       "  <tbody>\n",
       "    <tr>\n",
       "      <th>129</th>\n",
       "      <td>HULL</td>\n",
       "      <td>JAMES</td>\n",
       "      <td>Bachelors</td>\n",
       "      <td>Teacher Assignment</td>\n",
       "      <td>Dublin City</td>\n",
       "      <td>Willard Grizzell Middle School</td>\n",
       "      <td>Dublin</td>\n",
       "      <td>185</td>\n",
       "      <td>8</td>\n",
       "      <td>82028</td>\n",
       "    </tr>\n",
       "    <tr>\n",
       "      <th>250</th>\n",
       "      <td>LEHMAN</td>\n",
       "      <td>BETH</td>\n",
       "      <td>Masters</td>\n",
       "      <td>Teacher Assignment</td>\n",
       "      <td>Dublin City</td>\n",
       "      <td>Willard Grizzell Middle School</td>\n",
       "      <td>Dublin</td>\n",
       "      <td>185</td>\n",
       "      <td>8</td>\n",
       "      <td>93828</td>\n",
       "    </tr>\n",
       "    <tr>\n",
       "      <th>1487</th>\n",
       "      <td>FOGG</td>\n",
       "      <td>KATHERINE</td>\n",
       "      <td>Masters</td>\n",
       "      <td>Teacher Assignment</td>\n",
       "      <td>Dublin City</td>\n",
       "      <td>Dublin Jerome High School</td>\n",
       "      <td>Dublin</td>\n",
       "      <td>185</td>\n",
       "      <td>8</td>\n",
       "      <td>89567</td>\n",
       "    </tr>\n",
       "    <tr>\n",
       "      <th>1503</th>\n",
       "      <td>SAUNDERS</td>\n",
       "      <td>JANE</td>\n",
       "      <td>Masters</td>\n",
       "      <td>Teacher Assignment</td>\n",
       "      <td>Dublin City</td>\n",
       "      <td>Dublin Coffman High School</td>\n",
       "      <td>Dublin</td>\n",
       "      <td>185</td>\n",
       "      <td>8</td>\n",
       "      <td>87682</td>\n",
       "    </tr>\n",
       "    <tr>\n",
       "      <th>1633</th>\n",
       "      <td>MERCURIO</td>\n",
       "      <td>SUSAN</td>\n",
       "      <td>Bachelors</td>\n",
       "      <td>Teacher Assignment</td>\n",
       "      <td>Dublin City</td>\n",
       "      <td>Dublin Scioto High School</td>\n",
       "      <td>Dublin</td>\n",
       "      <td>185</td>\n",
       "      <td>8</td>\n",
       "      <td>70719</td>\n",
       "    </tr>\n",
       "  </tbody>\n",
       "</table>\n",
       "</div>"
      ],
      "text/plain": [
       "     LAST NAME FIRST NAME EDUCATION LEVEL     JOB DESCRIPTION DISTRICT NAME  \\\n",
       "129       HULL      JAMES       Bachelors  Teacher Assignment   Dublin City   \n",
       "250     LEHMAN       BETH         Masters  Teacher Assignment   Dublin City   \n",
       "1487      FOGG  KATHERINE         Masters  Teacher Assignment   Dublin City   \n",
       "1503  SAUNDERS       JANE         Masters  Teacher Assignment   Dublin City   \n",
       "1633  MERCURIO      SUSAN       Bachelors  Teacher Assignment   Dublin City   \n",
       "\n",
       "                         SCHOOL NAME CITY NAME  DAYS WORKED  \\\n",
       "129   Willard Grizzell Middle School    Dublin          185   \n",
       "250   Willard Grizzell Middle School    Dublin          185   \n",
       "1487       Dublin Jerome High School    Dublin          185   \n",
       "1503      Dublin Coffman High School    Dublin          185   \n",
       "1633       Dublin Scioto High School    Dublin          185   \n",
       "\n",
       "      HOURS WORKED PER DAY  PAY AMOUNT  \n",
       "129                      8       82028  \n",
       "250                      8       93828  \n",
       "1487                     8       89567  \n",
       "1503                     8       87682  \n",
       "1633                     8       70719  "
      ]
     },
     "execution_count": 20,
     "metadata": {},
     "output_type": "execute_result"
    }
   ],
   "source": [
    "dublin_teachers.sort_values(by=['PAY AMOUNT'], ascending=False)\n",
    "dublin_teachers.head()"
   ]
  },
  {
   "cell_type": "markdown",
   "metadata": {},
   "source": [
    "# Basic Summary Statistics"
   ]
  },
  {
   "cell_type": "markdown",
   "metadata": {},
   "source": [
    "#### Summary statistics on columns containing numeric values using pandas describe() function:"
   ]
  },
  {
   "cell_type": "code",
   "execution_count": 21,
   "metadata": {
    "collapsed": false
   },
   "outputs": [
    {
     "data": {
      "text/html": [
       "<div>\n",
       "<table border=\"1\" class=\"dataframe\">\n",
       "  <thead>\n",
       "    <tr style=\"text-align: right;\">\n",
       "      <th></th>\n",
       "      <th>DAYS WORKED</th>\n",
       "      <th>HOURS WORKED PER DAY</th>\n",
       "      <th>PAY AMOUNT</th>\n",
       "    </tr>\n",
       "  </thead>\n",
       "  <tbody>\n",
       "    <tr>\n",
       "      <th>count</th>\n",
       "      <td>832.000000</td>\n",
       "      <td>832</td>\n",
       "      <td>832.000000</td>\n",
       "    </tr>\n",
       "    <tr>\n",
       "      <th>mean</th>\n",
       "      <td>185.019231</td>\n",
       "      <td>8</td>\n",
       "      <td>74022.062500</td>\n",
       "    </tr>\n",
       "    <tr>\n",
       "      <th>std</th>\n",
       "      <td>0.276849</td>\n",
       "      <td>0</td>\n",
       "      <td>16214.467839</td>\n",
       "    </tr>\n",
       "    <tr>\n",
       "      <th>min</th>\n",
       "      <td>185.000000</td>\n",
       "      <td>8</td>\n",
       "      <td>25731.000000</td>\n",
       "    </tr>\n",
       "    <tr>\n",
       "      <th>25%</th>\n",
       "      <td>185.000000</td>\n",
       "      <td>8</td>\n",
       "      <td>60045.500000</td>\n",
       "    </tr>\n",
       "    <tr>\n",
       "      <th>50%</th>\n",
       "      <td>185.000000</td>\n",
       "      <td>8</td>\n",
       "      <td>77029.000000</td>\n",
       "    </tr>\n",
       "    <tr>\n",
       "      <th>75%</th>\n",
       "      <td>185.000000</td>\n",
       "      <td>8</td>\n",
       "      <td>88932.000000</td>\n",
       "    </tr>\n",
       "    <tr>\n",
       "      <th>max</th>\n",
       "      <td>189.000000</td>\n",
       "      <td>8</td>\n",
       "      <td>95857.000000</td>\n",
       "    </tr>\n",
       "  </tbody>\n",
       "</table>\n",
       "</div>"
      ],
      "text/plain": [
       "       DAYS WORKED  HOURS WORKED PER DAY    PAY AMOUNT\n",
       "count   832.000000                   832    832.000000\n",
       "mean    185.019231                     8  74022.062500\n",
       "std       0.276849                     0  16214.467839\n",
       "min     185.000000                     8  25731.000000\n",
       "25%     185.000000                     8  60045.500000\n",
       "50%     185.000000                     8  77029.000000\n",
       "75%     185.000000                     8  88932.000000\n",
       "max     189.000000                     8  95857.000000"
      ]
     },
     "execution_count": 21,
     "metadata": {},
     "output_type": "execute_result"
    }
   ],
   "source": [
    "dublin_teachers.describe()"
   ]
  },
  {
   "cell_type": "markdown",
   "metadata": {},
   "source": [
    "Wow, Dublin city teachers are paid pretty well on average."
   ]
  },
  {
   "cell_type": "markdown",
   "metadata": {},
   "source": [
    "<a name='visualization'></a>"
   ]
  },
  {
   "cell_type": "markdown",
   "metadata": {},
   "source": [
    "## Simple Visualization"
   ]
  },
  {
   "cell_type": "markdown",
   "metadata": {},
   "source": [
    "[[back top top](#top)]"
   ]
  },
  {
   "cell_type": "markdown",
   "metadata": {},
   "source": [
    "#### Let's create a histogram of Dublin City Teachers Salary"
   ]
  },
  {
   "cell_type": "code",
   "execution_count": 22,
   "metadata": {
    "collapsed": false
   },
   "outputs": [
    {
     "data": {
      "image/png": "[encoded data removed]",
      "text/plain": [
       "<matplotlib.figure.Figure at 0x7f6d2408e0b8>"
      ]
     },
     "metadata": {},
     "output_type": "display_data"
    }
   ],
   "source": [
    "%matplotlib inline\n",
    "import matplotlib.pyplot as plt\n",
    "plt.style.use('ggplot')\n",
    "\n",
    "dublin_teachers['PAY AMOUNT'].hist()\n",
    "plt.title(\"Dublin City Teachers Salary Histogram\", weight='bold')\n",
    "plt.xlabel(\"Salary\")\n",
    "plt.ylabel(\"Frequency/Qty\")\n",
    "plt.show()"
   ]
  },
  {
   "cell_type": "markdown",
   "metadata": {},
   "source": [
    "#### Now, let's create a list of highest median teacher salaries by district across all of Ohio.  &nbsp; &nbsp;But, before we do, we should probably check if there are sample sizes that are too low:"
   ]
  },
  {
   "cell_type": "code",
   "execution_count": 144,
   "metadata": {
    "collapsed": false
   },
   "outputs": [
    {
     "name": "stdout",
     "output_type": "stream",
     "text": [
      "DISTRICT NAME\n",
      "missing                                   1\n",
      "Madison Local                             1\n",
      "Carrollton Exempted Village               1\n",
      "Life Skills Ctr Of Cincinnati             1\n",
      "Life Skills Center of Elyria              1\n",
      "Life Skills Center Of Summit County       1\n",
      "Life Skills Center  of Canton             1\n",
      "Lakota Local                              1\n",
      "Lakewood City                             1\n",
      "Lakeview Local                            1\n",
      "Lake Erie International High School       1\n",
      "Jackson-Milton Local                      1\n",
      "Invictus High School                      1\n",
      "Cliff Park High School                    1\n",
      "Indian Lake Local                         1\n",
      "Hamilton Local                            1\n",
      "Greene County ESC                         1\n",
      "Greater Ohio Virtual School               1\n",
      "Great Western Academy                     1\n",
      "Constellation Schools: Parma Community    1\n",
      "Name: PAY AMOUNT, dtype: int64\n"
     ]
    }
   ],
   "source": [
    "c1 = ohio['PAY AMOUNT'] > 0\n",
    "c2 = ohio['JOB DESCRIPTION'] == 'Teacher Assignment'\n",
    "c3 = ohio['DAYS WORKED'] > 180\n",
    "c4 = ohio['HOURS WORKED PER DAY'] >=8\n",
    "\n",
    "ohio_teachers = ohio[c1 & c2 & c3 & c4] \n",
    "#ohio_teachers_counts = ohio_teachers.pivot_table(values='PAY AMOUNT',index='DISTRICT NAME',aggfunc='count')\n",
    "ohio_teachers_counts = ohio_teachers.groupby('DISTRICT NAME')['PAY AMOUNT'].count()\n",
    "print(ohio_teachers_counts.order(ascending=True)[:20])"
   ]
  },
  {
   "cell_type": "code",
   "execution_count": 145,
   "metadata": {
    "collapsed": false
   },
   "outputs": [
    {
     "name": "stdout",
     "output_type": "stream",
     "text": [
      "DISTRICT NAME\n",
      "South-Western City                    1085\n",
      "Olentangy Local                        853\n",
      "Dublin City                            832\n",
      "Middletown City                        370\n",
      "Findlay City                           324\n",
      "Upper Arlington City                   311\n",
      "Princeton City                         283\n",
      "Ohio Virtual Academy                   282\n",
      "Great Oaks Inst Of Technology          238\n",
      "Berea City                             217\n",
      "Brecksville-Broadview Heights City     192\n",
      "Avon Lake City                         190\n",
      "Shaker Heights City                    165\n",
      "Revere Local                           156\n",
      "Talawanda City                         154\n",
      "Bay Village City                       144\n",
      "Big Walnut Local                       143\n",
      "Buckeye Local                          134\n",
      "Warrensville Heights City              110\n",
      "Buckeye Local                           94\n",
      "Name: PAY AMOUNT, dtype: int64\n"
     ]
    }
   ],
   "source": [
    "print(ohio_teachers_counts.order(ascending=False)[:20])"
   ]
  },
  {
   "cell_type": "code",
   "execution_count": 146,
   "metadata": {
    "collapsed": false
   },
   "outputs": [
    {
     "data": {
      "text/plain": [
       "56"
      ]
     },
     "execution_count": 146,
     "metadata": {},
     "output_type": "execute_result"
    }
   ],
   "source": [
    "len(ohio_teachers_counts[ohio_teachers_counts == 1])"
   ]
  },
  {
   "cell_type": "markdown",
   "metadata": {},
   "source": [
    "#### For whatever the reason, there are 56 districts with only 1 teacher."
   ]
  },
  {
   "cell_type": "markdown",
   "metadata": {},
   "source": [
    "<a name='merging'></a>"
   ]
  },
  {
   "cell_type": "markdown",
   "metadata": {},
   "source": [
    "# Merging Data Sets"
   ]
  },
  {
   "cell_type": "markdown",
   "metadata": {},
   "source": [
    "[[back to top](#top)]"
   ]
  },
  {
   "cell_type": "markdown",
   "metadata": {},
   "source": [
    "#### As you can see from above, we have school districts with just one teacher for some reason.  &nbsp; &nbsp;We need to filter them out if we want make a list of top median salaries statistically meaningful.  &nbsp; &nbsp;First, we need to make a data set containing the median salaries and then merge it with the teacher counts data set above using the concat() function:"
   ]
  },
  {
   "cell_type": "code",
   "execution_count": 147,
   "metadata": {
    "collapsed": false
   },
   "outputs": [
    {
     "data": {
      "text/plain": [
       "DISTRICT NAME\n",
       "Oak Hills Local                       104625.0\n",
       "Cuyahoga Heights Local                 91375.0\n",
       "Lakewood City                          87080.0\n",
       "Upper Arlington City                   85152.0\n",
       "Brecksville-Broadview Heights City     82548.0\n",
       "Mentor Exempted Village                79825.0\n",
       "Van Wert City                          79254.0\n",
       "Shaker Heights City                    79071.0\n",
       "Parma City                             78887.0\n",
       "Independence Local                     77652.0\n",
       "Perry Local                            77584.0\n",
       "Dublin City                            77029.0\n",
       "Plain Local                            76503.0\n",
       "Revere Local                           75928.5\n",
       "U S Grant                              74067.0\n",
       "Southwest Local                        73616.0\n",
       "Great Oaks Inst Of Technology          73490.5\n",
       "Upper Valley Career Center             73356.0\n",
       "Bay Village City                       72178.0\n",
       "Trotwood-Madison City                  72162.0\n",
       "Berea City                             69215.0\n",
       "Warrensville Heights City              68981.0\n",
       "Princeton City                         68779.0\n",
       "Avon Lake City                         68299.0\n",
       "Lakota Local                           68048.0\n",
       "Name: PAY AMOUNT, dtype: float64"
      ]
     },
     "execution_count": 147,
     "metadata": {},
     "output_type": "execute_result"
    }
   ],
   "source": [
    "c1 = ohio['PAY AMOUNT'] > 0\n",
    "c2 = ohio['JOB DESCRIPTION'] == 'Teacher Assignment'\n",
    "c3 = ohio['DAYS WORKED'] > 180\n",
    "c4 = ohio['HOURS WORKED PER DAY'] >= 8\n",
    "\n",
    "ohio_teachers = ohio[c1 & c2 & c3 & c4]\n",
    "#median_pay = ohio_teachers.pivot_table(values='PAY AMOUNT',index='DISTRICT NAME',aggfunc='median')\n",
    "median_pay = ohio_teachers.groupby('DISTRICT NAME')['PAY AMOUNT'].median()\n",
    "top_districts = median_pay.order(ascending=False)\n",
    "# Let's just get the top 25 school districts\n",
    "top_districts.head(25)"
   ]
  },
  {
   "cell_type": "markdown",
   "metadata": {},
   "source": [
    "#### Above, we have the median salaries.  &nbsp; &nbsp;Hmmm, Oak Hills Local has a median salary of over $100,000.  &nbsp; &nbsp;But, I wonder how many teachers are in that school district?  &nbsp; &nbsp;Next, we are going to merge this data set with the teacher counts data set using the concat() function to find out:"
   ]
  },
  {
   "cell_type": "code",
   "execution_count": 148,
   "metadata": {
    "collapsed": false
   },
   "outputs": [
    {
     "data": {
      "text/html": [
       "<div style=\"max-height:1000px;max-width:1500px;overflow:auto;\">\n",
       "<table border=\"1\" class=\"dataframe\">\n",
       "  <thead>\n",
       "    <tr style=\"text-align: right;\">\n",
       "      <th></th>\n",
       "      <th>median</th>\n",
       "      <th>count</th>\n",
       "    </tr>\n",
       "  </thead>\n",
       "  <tbody>\n",
       "    <tr>\n",
       "      <th>Oak Hills Local</th>\n",
       "      <td>104625.0</td>\n",
       "      <td>1</td>\n",
       "    </tr>\n",
       "    <tr>\n",
       "      <th>Cuyahoga Heights Local</th>\n",
       "      <td>91375.0</td>\n",
       "      <td>1</td>\n",
       "    </tr>\n",
       "    <tr>\n",
       "      <th>Lakewood City</th>\n",
       "      <td>87080.0</td>\n",
       "      <td>1</td>\n",
       "    </tr>\n",
       "    <tr>\n",
       "      <th>Upper Arlington City</th>\n",
       "      <td>85152.0</td>\n",
       "      <td>311</td>\n",
       "    </tr>\n",
       "    <tr>\n",
       "      <th>Brecksville-Broadview Heights City</th>\n",
       "      <td>82548.0</td>\n",
       "      <td>192</td>\n",
       "    </tr>\n",
       "    <tr>\n",
       "      <th>Mentor Exempted Village</th>\n",
       "      <td>79825.0</td>\n",
       "      <td>3</td>\n",
       "    </tr>\n",
       "    <tr>\n",
       "      <th>Van Wert City</th>\n",
       "      <td>79254.0</td>\n",
       "      <td>1</td>\n",
       "    </tr>\n",
       "    <tr>\n",
       "      <th>Shaker Heights City</th>\n",
       "      <td>79071.0</td>\n",
       "      <td>165</td>\n",
       "    </tr>\n",
       "    <tr>\n",
       "      <th>Parma City</th>\n",
       "      <td>78887.0</td>\n",
       "      <td>1</td>\n",
       "    </tr>\n",
       "    <tr>\n",
       "      <th>Independence Local</th>\n",
       "      <td>77652.0</td>\n",
       "      <td>67</td>\n",
       "    </tr>\n",
       "    <tr>\n",
       "      <th>Perry Local</th>\n",
       "      <td>77584.0</td>\n",
       "      <td>92</td>\n",
       "    </tr>\n",
       "    <tr>\n",
       "      <th>Dublin City</th>\n",
       "      <td>77029.0</td>\n",
       "      <td>832</td>\n",
       "    </tr>\n",
       "    <tr>\n",
       "      <th>Plain Local</th>\n",
       "      <td>76503.0</td>\n",
       "      <td>1</td>\n",
       "    </tr>\n",
       "    <tr>\n",
       "      <th>Revere Local</th>\n",
       "      <td>75928.5</td>\n",
       "      <td>156</td>\n",
       "    </tr>\n",
       "    <tr>\n",
       "      <th>U S Grant</th>\n",
       "      <td>74067.0</td>\n",
       "      <td>30</td>\n",
       "    </tr>\n",
       "    <tr>\n",
       "      <th>Southwest Local</th>\n",
       "      <td>73616.0</td>\n",
       "      <td>1</td>\n",
       "    </tr>\n",
       "    <tr>\n",
       "      <th>Great Oaks Inst Of Technology</th>\n",
       "      <td>73490.5</td>\n",
       "      <td>238</td>\n",
       "    </tr>\n",
       "    <tr>\n",
       "      <th>Upper Valley Career Center</th>\n",
       "      <td>73356.0</td>\n",
       "      <td>19</td>\n",
       "    </tr>\n",
       "    <tr>\n",
       "      <th>Bay Village City</th>\n",
       "      <td>72178.0</td>\n",
       "      <td>144</td>\n",
       "    </tr>\n",
       "    <tr>\n",
       "      <th>Trotwood-Madison City</th>\n",
       "      <td>72162.0</td>\n",
       "      <td>1</td>\n",
       "    </tr>\n",
       "  </tbody>\n",
       "</table>\n",
       "</div>"
      ],
      "text/plain": [
       "                                      median  count\n",
       "Oak Hills Local                     104625.0      1\n",
       "Cuyahoga Heights Local               91375.0      1\n",
       "Lakewood City                        87080.0      1\n",
       "Upper Arlington City                 85152.0    311\n",
       "Brecksville-Broadview Heights City   82548.0    192\n",
       "Mentor Exempted Village              79825.0      3\n",
       "Van Wert City                        79254.0      1\n",
       "Shaker Heights City                  79071.0    165\n",
       "Parma City                           78887.0      1\n",
       "Independence Local                   77652.0     67\n",
       "Perry Local                          77584.0     92\n",
       "Dublin City                          77029.0    832\n",
       "Plain Local                          76503.0      1\n",
       "Revere Local                         75928.5    156\n",
       "U S Grant                            74067.0     30\n",
       "Southwest Local                      73616.0      1\n",
       "Great Oaks Inst Of Technology        73490.5    238\n",
       "Upper Valley Career Center           73356.0     19\n",
       "Bay Village City                     72178.0    144\n",
       "Trotwood-Madison City                72162.0      1"
      ]
     },
     "execution_count": 148,
     "metadata": {},
     "output_type": "execute_result"
    }
   ],
   "source": [
    "# Concatenate the 2 data sets along the column axis (axis=1) and label the 2 columns as median and count\n",
    "top_median_salary = pd.concat([top_districts, ohio_teachers_counts], axis=1, keys=['median','count'])\n",
    "top_median_salary.sort(columns='median', ascending=False, inplace=True)\n",
    "top_median_salary.head(20)"
   ]
  },
  {
   "cell_type": "markdown",
   "metadata": {},
   "source": [
    "#### Looks like the merge worked, but next we need to filter out the districts with low teacher counts.  &nbsp; &nbsp;There are school districts with high median salaries, but they had only 1 teacher!  &nbsp; &nbsp; So to make our top list meaningful, we should probably make our data set contain districts with at least 30 teachers:"
   ]
  },
  {
   "cell_type": "markdown",
   "metadata": {},
   "source": [
    "<a name='top25'></a>"
   ]
  },
  {
   "cell_type": "markdown",
   "metadata": {},
   "source": [
    "## Top 25 Highest Median Salaries of Ohio School Teachers by District and City"
   ]
  },
  {
   "cell_type": "markdown",
   "metadata": {},
   "source": [
    "[[back to top](#top)]"
   ]
  },
  {
   "cell_type": "code",
   "execution_count": 149,
   "metadata": {
    "collapsed": false
   },
   "outputs": [
    {
     "data": {
      "text/html": [
       "<div style=\"max-height:1000px;max-width:1500px;overflow:auto;\">\n",
       "<table border=\"1\" class=\"dataframe\">\n",
       "  <thead>\n",
       "    <tr style=\"text-align: right;\">\n",
       "      <th></th>\n",
       "      <th>median</th>\n",
       "      <th>count</th>\n",
       "    </tr>\n",
       "  </thead>\n",
       "  <tbody>\n",
       "    <tr>\n",
       "      <th>Upper Arlington City</th>\n",
       "      <td>85152.0</td>\n",
       "      <td>311</td>\n",
       "    </tr>\n",
       "    <tr>\n",
       "      <th>Brecksville-Broadview Heights City</th>\n",
       "      <td>82548.0</td>\n",
       "      <td>192</td>\n",
       "    </tr>\n",
       "    <tr>\n",
       "      <th>Shaker Heights City</th>\n",
       "      <td>79071.0</td>\n",
       "      <td>165</td>\n",
       "    </tr>\n",
       "    <tr>\n",
       "      <th>Independence Local</th>\n",
       "      <td>77652.0</td>\n",
       "      <td>67</td>\n",
       "    </tr>\n",
       "    <tr>\n",
       "      <th>Perry Local</th>\n",
       "      <td>77584.0</td>\n",
       "      <td>92</td>\n",
       "    </tr>\n",
       "    <tr>\n",
       "      <th>Dublin City</th>\n",
       "      <td>77029.0</td>\n",
       "      <td>832</td>\n",
       "    </tr>\n",
       "    <tr>\n",
       "      <th>Revere Local</th>\n",
       "      <td>75928.5</td>\n",
       "      <td>156</td>\n",
       "    </tr>\n",
       "    <tr>\n",
       "      <th>U S Grant</th>\n",
       "      <td>74067.0</td>\n",
       "      <td>30</td>\n",
       "    </tr>\n",
       "    <tr>\n",
       "      <th>Great Oaks Inst Of Technology</th>\n",
       "      <td>73490.5</td>\n",
       "      <td>238</td>\n",
       "    </tr>\n",
       "    <tr>\n",
       "      <th>Bay Village City</th>\n",
       "      <td>72178.0</td>\n",
       "      <td>144</td>\n",
       "    </tr>\n",
       "    <tr>\n",
       "      <th>Berea City</th>\n",
       "      <td>69215.0</td>\n",
       "      <td>217</td>\n",
       "    </tr>\n",
       "    <tr>\n",
       "      <th>Warrensville Heights City</th>\n",
       "      <td>68981.0</td>\n",
       "      <td>110</td>\n",
       "    </tr>\n",
       "    <tr>\n",
       "      <th>Princeton City</th>\n",
       "      <td>68779.0</td>\n",
       "      <td>283</td>\n",
       "    </tr>\n",
       "    <tr>\n",
       "      <th>Avon Lake City</th>\n",
       "      <td>68299.0</td>\n",
       "      <td>190</td>\n",
       "    </tr>\n",
       "    <tr>\n",
       "      <th>South-Western City</th>\n",
       "      <td>65448.0</td>\n",
       "      <td>1085</td>\n",
       "    </tr>\n",
       "    <tr>\n",
       "      <th>Edison Local (formerly Berlin-Milan)</th>\n",
       "      <td>64682.0</td>\n",
       "      <td>82</td>\n",
       "    </tr>\n",
       "    <tr>\n",
       "      <th>Olentangy Local</th>\n",
       "      <td>62565.0</td>\n",
       "      <td>853</td>\n",
       "    </tr>\n",
       "    <tr>\n",
       "      <th>Talawanda City</th>\n",
       "      <td>62504.0</td>\n",
       "      <td>154</td>\n",
       "    </tr>\n",
       "    <tr>\n",
       "      <th>Big Walnut Local</th>\n",
       "      <td>62413.0</td>\n",
       "      <td>143</td>\n",
       "    </tr>\n",
       "    <tr>\n",
       "      <th>Buckeye Local</th>\n",
       "      <td>61951.0</td>\n",
       "      <td>94</td>\n",
       "    </tr>\n",
       "    <tr>\n",
       "      <th>ESC of Cuyahoga County</th>\n",
       "      <td>60836.0</td>\n",
       "      <td>84</td>\n",
       "    </tr>\n",
       "    <tr>\n",
       "      <th>Middletown City</th>\n",
       "      <td>60037.0</td>\n",
       "      <td>370</td>\n",
       "    </tr>\n",
       "    <tr>\n",
       "      <th>Findlay City</th>\n",
       "      <td>58298.0</td>\n",
       "      <td>324</td>\n",
       "    </tr>\n",
       "    <tr>\n",
       "      <th>North Olmsted City</th>\n",
       "      <td>53394.0</td>\n",
       "      <td>31</td>\n",
       "    </tr>\n",
       "    <tr>\n",
       "      <th>Northmor Local</th>\n",
       "      <td>53091.0</td>\n",
       "      <td>65</td>\n",
       "    </tr>\n",
       "  </tbody>\n",
       "</table>\n",
       "</div>"
      ],
      "text/plain": [
       "                                       median  count\n",
       "Upper Arlington City                  85152.0    311\n",
       "Brecksville-Broadview Heights City    82548.0    192\n",
       "Shaker Heights City                   79071.0    165\n",
       "Independence Local                    77652.0     67\n",
       "Perry Local                           77584.0     92\n",
       "Dublin City                           77029.0    832\n",
       "Revere Local                          75928.5    156\n",
       "U S Grant                             74067.0     30\n",
       "Great Oaks Inst Of Technology         73490.5    238\n",
       "Bay Village City                      72178.0    144\n",
       "Berea City                            69215.0    217\n",
       "Warrensville Heights City             68981.0    110\n",
       "Princeton City                        68779.0    283\n",
       "Avon Lake City                        68299.0    190\n",
       "South-Western City                    65448.0   1085\n",
       "Edison Local (formerly Berlin-Milan)  64682.0     82\n",
       "Olentangy Local                       62565.0    853\n",
       "Talawanda City                        62504.0    154\n",
       "Big Walnut Local                      62413.0    143\n",
       "Buckeye Local                         61951.0     94\n",
       "ESC of Cuyahoga County                60836.0     84\n",
       "Middletown City                       60037.0    370\n",
       "Findlay City                          58298.0    324\n",
       "North Olmsted City                    53394.0     31\n",
       "Northmor Local                        53091.0     65"
      ]
     },
     "execution_count": 149,
     "metadata": {},
     "output_type": "execute_result"
    }
   ],
   "source": [
    "criteria1 = top_median_salary['count'] >= 30\n",
    "top_median_salary = top_median_salary[criteria1]\n",
    "top_median_salary.head(25)"
   ]
  },
  {
   "cell_type": "code",
   "execution_count": 153,
   "metadata": {
    "collapsed": false
   },
   "outputs": [
    {
     "data": {
      "image/png": "[encoded data removed]",
      "text/plain": [
       "<matplotlib.figure.Figure at 0x7f8525ba37f0>"
      ]
     },
     "metadata": {},
     "output_type": "display_data"
    }
   ],
   "source": [
    "top_median_salary['median'][:20].plot(kind='bar')\n",
    "plt.title('Top 20 Ohio Median Salary by School District')\n",
    "plt.ylabel(\"US Dollars\")\n",
    "plt.show()"
   ]
  },
  {
   "cell_type": "markdown",
   "metadata": {},
   "source": [
    "#### So now, we have our list of top 25 median salaries by school districts in all of the state of Ohio with at least 10 teachers.<br> We're done!"
   ]
  },
  {
   "cell_type": "markdown",
   "metadata": {},
   "source": [
    "[[back to top](#top)]"
   ]
  },
  {
   "cell_type": "markdown",
   "metadata": {},
   "source": [
    "## BONUS: Top 20 Highest Paid Teacher or Education Employee In All of Ohio:"
   ]
  },
  {
   "cell_type": "code",
   "execution_count": 108,
   "metadata": {
    "collapsed": false
   },
   "outputs": [
    {
     "data": {
      "text/html": [
       "<div style=\"max-height:1000px;max-width:1500px;overflow:auto;\">\n",
       "<table border=\"1\" class=\"dataframe\">\n",
       "  <thead>\n",
       "    <tr style=\"text-align: right;\">\n",
       "      <th></th>\n",
       "      <th>LAST NAME</th>\n",
       "      <th>FIRST NAME</th>\n",
       "      <th>EDUCATION LEVEL</th>\n",
       "      <th>JOB DESCRIPTION</th>\n",
       "      <th>DISTRICT NAME</th>\n",
       "      <th>SCHOOL NAME</th>\n",
       "      <th>CITY NAME</th>\n",
       "      <th>DAYS WORKED</th>\n",
       "      <th>HOURS WORKED PER DAY</th>\n",
       "      <th>PAY AMOUNT</th>\n",
       "    </tr>\n",
       "  </thead>\n",
       "  <tbody>\n",
       "    <tr>\n",
       "      <th>67104</th>\n",
       "      <td>Black</td>\n",
       "      <td>Aaricka</td>\n",
       "      <td>High School Diploma</td>\n",
       "      <td>Instructional Paraprofessional Assignment</td>\n",
       "      <td>Green Inspiration Academy</td>\n",
       "      <td>Green Inspiration Academy</td>\n",
       "      <td>Highland Hills</td>\n",
       "      <td>195</td>\n",
       "      <td>8.0</td>\n",
       "      <td>240000</td>\n",
       "    </tr>\n",
       "    <tr>\n",
       "      <th>180903</th>\n",
       "      <td>SHAWGO</td>\n",
       "      <td>PAMELA</td>\n",
       "      <td>Bachelors</td>\n",
       "      <td>Teacher Assignment</td>\n",
       "      <td>Brown Street Academy</td>\n",
       "      <td>Brown Street Academy</td>\n",
       "      <td>Akron</td>\n",
       "      <td>200</td>\n",
       "      <td>4.0</td>\n",
       "      <td>234000</td>\n",
       "    </tr>\n",
       "    <tr>\n",
       "      <th>210940</th>\n",
       "      <td>GORDON</td>\n",
       "      <td>ERIC</td>\n",
       "      <td>Bachelors</td>\n",
       "      <td>Superintendent Assignment</td>\n",
       "      <td>Cleveland Municipal</td>\n",
       "      <td>Cleveland Municipal</td>\n",
       "      <td>Cleveland</td>\n",
       "      <td>260</td>\n",
       "      <td>8.0</td>\n",
       "      <td>228408</td>\n",
       "    </tr>\n",
       "    <tr>\n",
       "      <th>186914</th>\n",
       "      <td>MENGERINK</td>\n",
       "      <td>ROBERT</td>\n",
       "      <td>Doctorate</td>\n",
       "      <td>Superintendent Assignment</td>\n",
       "      <td>ESC of Cuyahoga County</td>\n",
       "      <td>ESC of Cuyahoga County</td>\n",
       "      <td>Independence</td>\n",
       "      <td>260</td>\n",
       "      <td>7.5</td>\n",
       "      <td>205000</td>\n",
       "    </tr>\n",
       "    <tr>\n",
       "      <th>197745</th>\n",
       "      <td>DISTEL</td>\n",
       "      <td>DAVID</td>\n",
       "      <td>Masters</td>\n",
       "      <td>Superintendent Assignment</td>\n",
       "      <td>Hamilton County ESC</td>\n",
       "      <td>Hamilton County ESC</td>\n",
       "      <td>Cincinnati</td>\n",
       "      <td>228</td>\n",
       "      <td>7.0</td>\n",
       "      <td>201131</td>\n",
       "    </tr>\n",
       "    <tr>\n",
       "      <th>185861</th>\n",
       "      <td>FOWLER-MACK</td>\n",
       "      <td>CHRISTINE</td>\n",
       "      <td>Bachelors</td>\n",
       "      <td>Assistant, Deputy/Associate Superintendent Ass...</td>\n",
       "      <td>Cleveland Municipal</td>\n",
       "      <td>Cleveland Municipal</td>\n",
       "      <td>Cleveland</td>\n",
       "      <td>260</td>\n",
       "      <td>8.0</td>\n",
       "      <td>199792</td>\n",
       "    </tr>\n",
       "    <tr>\n",
       "      <th>167655</th>\n",
       "      <td>ZOHN</td>\n",
       "      <td>PATRICK</td>\n",
       "      <td>Other</td>\n",
       "      <td>Other Official/Administrative Assignment</td>\n",
       "      <td>Cleveland Municipal</td>\n",
       "      <td>Cleveland Municipal</td>\n",
       "      <td>Cleveland</td>\n",
       "      <td>260</td>\n",
       "      <td>8.0</td>\n",
       "      <td>199792</td>\n",
       "    </tr>\n",
       "    <tr>\n",
       "      <th>211492</th>\n",
       "      <td>SCANLAN</td>\n",
       "      <td>JOHN</td>\n",
       "      <td>Masters</td>\n",
       "      <td>Assistant, Deputy/Associate Superintendent Ass...</td>\n",
       "      <td>Cleveland Municipal</td>\n",
       "      <td>Cleveland Municipal</td>\n",
       "      <td>Cleveland</td>\n",
       "      <td>260</td>\n",
       "      <td>8.0</td>\n",
       "      <td>199792</td>\n",
       "    </tr>\n",
       "    <tr>\n",
       "      <th>242452</th>\n",
       "      <td>BERRY</td>\n",
       "      <td>CATHERINE</td>\n",
       "      <td>Non-degree</td>\n",
       "      <td>Vehicle Operating (Bus) Assignment</td>\n",
       "      <td>Campbell City</td>\n",
       "      <td>Campbell City</td>\n",
       "      <td>Campbell</td>\n",
       "      <td>196</td>\n",
       "      <td>6.0</td>\n",
       "      <td>199335</td>\n",
       "    </tr>\n",
       "    <tr>\n",
       "      <th>211553</th>\n",
       "      <td>PIERRE-FARID</td>\n",
       "      <td>MICHELLE</td>\n",
       "      <td>Masters</td>\n",
       "      <td>Assistant, Deputy/Associate Superintendent Ass...</td>\n",
       "      <td>Cleveland Municipal</td>\n",
       "      <td>Cleveland Municipal</td>\n",
       "      <td>Cleveland</td>\n",
       "      <td>260</td>\n",
       "      <td>8.0</td>\n",
       "      <td>199173</td>\n",
       "    </tr>\n",
       "    <tr>\n",
       "      <th>31459</th>\n",
       "      <td>GOOD</td>\n",
       "      <td>J</td>\n",
       "      <td>Doctorate</td>\n",
       "      <td>Superintendent Assignment</td>\n",
       "      <td>Columbus City School District</td>\n",
       "      <td>Columbus City School District</td>\n",
       "      <td>Columbus</td>\n",
       "      <td>260</td>\n",
       "      <td>8.0</td>\n",
       "      <td>195000</td>\n",
       "    </tr>\n",
       "    <tr>\n",
       "      <th>56758</th>\n",
       "      <td>KELLOGG</td>\n",
       "      <td>JOHN</td>\n",
       "      <td>Doctorate</td>\n",
       "      <td>Superintendent Assignment</td>\n",
       "      <td>Westerville City</td>\n",
       "      <td>Westerville City</td>\n",
       "      <td>Westerville</td>\n",
       "      <td>260</td>\n",
       "      <td>8.0</td>\n",
       "      <td>185000</td>\n",
       "    </tr>\n",
       "    <tr>\n",
       "      <th>230239</th>\n",
       "      <td>ESTEPP</td>\n",
       "      <td>STEVEN</td>\n",
       "      <td>Masters</td>\n",
       "      <td>Superintendent Assignment</td>\n",
       "      <td>Mariemont City</td>\n",
       "      <td>Mariemont City</td>\n",
       "      <td>Cincinnati</td>\n",
       "      <td>23</td>\n",
       "      <td>8.0</td>\n",
       "      <td>176825</td>\n",
       "    </tr>\n",
       "    <tr>\n",
       "      <th>39403</th>\n",
       "      <td>RABE</td>\n",
       "      <td>DONALD</td>\n",
       "      <td>Bachelors</td>\n",
       "      <td>Treasurer Assignment</td>\n",
       "      <td>Hamilton County ESC</td>\n",
       "      <td>Hamilton County ESC</td>\n",
       "      <td>Cincinnati</td>\n",
       "      <td>261</td>\n",
       "      <td>7.0</td>\n",
       "      <td>176747</td>\n",
       "    </tr>\n",
       "    <tr>\n",
       "      <th>73245</th>\n",
       "      <td>JAMES</td>\n",
       "      <td>DAVID</td>\n",
       "      <td>Masters</td>\n",
       "      <td>Superintendent Assignment</td>\n",
       "      <td>Akron City</td>\n",
       "      <td>Akron City</td>\n",
       "      <td>Akron</td>\n",
       "      <td>261</td>\n",
       "      <td>8.0</td>\n",
       "      <td>175000</td>\n",
       "    </tr>\n",
       "    <tr>\n",
       "      <th>35518</th>\n",
       "      <td>STEIN</td>\n",
       "      <td>KELLY</td>\n",
       "      <td>Masters</td>\n",
       "      <td>Teacher Assignment</td>\n",
       "      <td>Mentor Exempted Village</td>\n",
       "      <td>Garfield Elementary School</td>\n",
       "      <td>Mentor</td>\n",
       "      <td>188</td>\n",
       "      <td>7.5</td>\n",
       "      <td>173908</td>\n",
       "    </tr>\n",
       "    <tr>\n",
       "      <th>25597</th>\n",
       "      <td>LESTER</td>\n",
       "      <td>CHRISTOPHER</td>\n",
       "      <td>Masters</td>\n",
       "      <td>Superintendent Assignment</td>\n",
       "      <td>Hamilton Local</td>\n",
       "      <td>Hamilton Local</td>\n",
       "      <td>Columbus</td>\n",
       "      <td>260</td>\n",
       "      <td>8.0</td>\n",
       "      <td>172671</td>\n",
       "    </tr>\n",
       "    <tr>\n",
       "      <th>180464</th>\n",
       "      <td>SCRUCI</td>\n",
       "      <td>FRANCIS</td>\n",
       "      <td>Masters</td>\n",
       "      <td>Superintendent Assignment</td>\n",
       "      <td>Gahanna-Jefferson City</td>\n",
       "      <td>Gahanna-Jefferson City</td>\n",
       "      <td>Gahanna</td>\n",
       "      <td>260</td>\n",
       "      <td>8.0</td>\n",
       "      <td>172550</td>\n",
       "    </tr>\n",
       "    <tr>\n",
       "      <th>266081</th>\n",
       "      <td>KIST-KLINE</td>\n",
       "      <td>GAIL</td>\n",
       "      <td>Doctorate</td>\n",
       "      <td>Superintendent Assignment</td>\n",
       "      <td>Mason City School District</td>\n",
       "      <td>Mason City School District</td>\n",
       "      <td>Mason</td>\n",
       "      <td>261</td>\n",
       "      <td>8.0</td>\n",
       "      <td>170000</td>\n",
       "    </tr>\n",
       "    <tr>\n",
       "      <th>546</th>\n",
       "      <td>PINCIARO</td>\n",
       "      <td>FRANK</td>\n",
       "      <td>Bachelors</td>\n",
       "      <td>Advisor Assignment</td>\n",
       "      <td>Campbell City</td>\n",
       "      <td>Memorial High School</td>\n",
       "      <td>Campbell</td>\n",
       "      <td>90</td>\n",
       "      <td>0.0</td>\n",
       "      <td>169025</td>\n",
       "    </tr>\n",
       "  </tbody>\n",
       "</table>\n",
       "</div>"
      ],
      "text/plain": [
       "           LAST NAME   FIRST NAME      EDUCATION LEVEL  \\\n",
       "67104          Black      Aaricka  High School Diploma   \n",
       "180903        SHAWGO       PAMELA            Bachelors   \n",
       "210940        GORDON         ERIC            Bachelors   \n",
       "186914     MENGERINK       ROBERT            Doctorate   \n",
       "197745        DISTEL        DAVID              Masters   \n",
       "185861   FOWLER-MACK    CHRISTINE            Bachelors   \n",
       "167655          ZOHN      PATRICK                Other   \n",
       "211492       SCANLAN         JOHN              Masters   \n",
       "242452         BERRY    CATHERINE           Non-degree   \n",
       "211553  PIERRE-FARID     MICHELLE              Masters   \n",
       "31459           GOOD            J            Doctorate   \n",
       "56758        KELLOGG         JOHN            Doctorate   \n",
       "230239        ESTEPP       STEVEN              Masters   \n",
       "39403           RABE       DONALD            Bachelors   \n",
       "73245          JAMES        DAVID              Masters   \n",
       "35518          STEIN        KELLY              Masters   \n",
       "25597         LESTER  CHRISTOPHER              Masters   \n",
       "180464        SCRUCI      FRANCIS              Masters   \n",
       "266081    KIST-KLINE         GAIL            Doctorate   \n",
       "546         PINCIARO        FRANK            Bachelors   \n",
       "\n",
       "                                          JOB DESCRIPTION  \\\n",
       "67104          Instructional Paraprofessional Assignment    \n",
       "180903                                 Teacher Assignment   \n",
       "210940                          Superintendent Assignment   \n",
       "186914                          Superintendent Assignment   \n",
       "197745                          Superintendent Assignment   \n",
       "185861  Assistant, Deputy/Associate Superintendent Ass...   \n",
       "167655           Other Official/Administrative Assignment   \n",
       "211492  Assistant, Deputy/Associate Superintendent Ass...   \n",
       "242452                Vehicle Operating (Bus) Assignment    \n",
       "211553  Assistant, Deputy/Associate Superintendent Ass...   \n",
       "31459                           Superintendent Assignment   \n",
       "56758                           Superintendent Assignment   \n",
       "230239                          Superintendent Assignment   \n",
       "39403                                Treasurer Assignment   \n",
       "73245                           Superintendent Assignment   \n",
       "35518                                  Teacher Assignment   \n",
       "25597                           Superintendent Assignment   \n",
       "180464                          Superintendent Assignment   \n",
       "266081                          Superintendent Assignment   \n",
       "546                                    Advisor Assignment   \n",
       "\n",
       "                        DISTRICT NAME                    SCHOOL NAME  \\\n",
       "67104       Green Inspiration Academy      Green Inspiration Academy   \n",
       "180903           Brown Street Academy           Brown Street Academy   \n",
       "210940            Cleveland Municipal            Cleveland Municipal   \n",
       "186914         ESC of Cuyahoga County         ESC of Cuyahoga County   \n",
       "197745            Hamilton County ESC            Hamilton County ESC   \n",
       "185861            Cleveland Municipal            Cleveland Municipal   \n",
       "167655            Cleveland Municipal            Cleveland Municipal   \n",
       "211492            Cleveland Municipal            Cleveland Municipal   \n",
       "242452                  Campbell City                  Campbell City   \n",
       "211553            Cleveland Municipal            Cleveland Municipal   \n",
       "31459   Columbus City School District  Columbus City School District   \n",
       "56758                Westerville City               Westerville City   \n",
       "230239                 Mariemont City                 Mariemont City   \n",
       "39403             Hamilton County ESC            Hamilton County ESC   \n",
       "73245                      Akron City                     Akron City   \n",
       "35518         Mentor Exempted Village     Garfield Elementary School   \n",
       "25597                  Hamilton Local                 Hamilton Local   \n",
       "180464         Gahanna-Jefferson City         Gahanna-Jefferson City   \n",
       "266081     Mason City School District     Mason City School District   \n",
       "546                     Campbell City           Memorial High School   \n",
       "\n",
       "             CITY NAME  DAYS WORKED  HOURS WORKED PER DAY  PAY AMOUNT  \n",
       "67104   Highland Hills          195                   8.0      240000  \n",
       "180903           Akron          200                   4.0      234000  \n",
       "210940       Cleveland          260                   8.0      228408  \n",
       "186914    Independence          260                   7.5      205000  \n",
       "197745      Cincinnati          228                   7.0      201131  \n",
       "185861       Cleveland          260                   8.0      199792  \n",
       "167655       Cleveland          260                   8.0      199792  \n",
       "211492       Cleveland          260                   8.0      199792  \n",
       "242452        Campbell          196                   6.0      199335  \n",
       "211553       Cleveland          260                   8.0      199173  \n",
       "31459         Columbus          260                   8.0      195000  \n",
       "56758      Westerville          260                   8.0      185000  \n",
       "230239      Cincinnati           23                   8.0      176825  \n",
       "39403       Cincinnati          261                   7.0      176747  \n",
       "73245            Akron          261                   8.0      175000  \n",
       "35518           Mentor          188                   7.5      173908  \n",
       "25597         Columbus          260                   8.0      172671  \n",
       "180464         Gahanna          260                   8.0      172550  \n",
       "266081           Mason          261                   8.0      170000  \n",
       "546           Campbell           90                   0.0      169025  "
      ]
     },
     "execution_count": 108,
     "metadata": {},
     "output_type": "execute_result"
    }
   ],
   "source": [
    "ohio.sort(columns='PAY AMOUNT', ascending=False)[:20]"
   ]
  },
  {
   "cell_type": "markdown",
   "metadata": {},
   "source": [
    "**What stood out to me is that there is a bus driver making almost $200K per year?!  Not sure how good this data is, but it is what it is.**"
   ]
  }
 ],
 "metadata": {
  "kernelspec": {
   "display_name": "Python 3",
   "language": "python",
   "name": "python3"
  },
  "language_info": {
   "codemirror_mode": {
    "name": "ipython",
    "version": 3
   },
   "file_extension": ".py",
   "mimetype": "text/x-python",
   "name": "python",
   "nbconvert_exporter": "python",
   "pygments_lexer": "ipython3",
   "version": "3.6.4"
  }
 },
 "nbformat": 4,
 "nbformat_minor": 2
}
