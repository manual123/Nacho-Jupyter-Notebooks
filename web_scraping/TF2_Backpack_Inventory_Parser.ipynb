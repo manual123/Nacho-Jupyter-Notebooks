{
 "cells": [
  {
   "cell_type": "markdown",
   "metadata": {},
   "source": [
    "#### This is an IPython notebook that demonstrates how to get information on items in a person's Team Fortress 2 backpack with a link/URL that he/she provided you normally via email.  We will be using the BeautifulSoup package that will help us parse the HTML page and grab the data we want that is embedded in the HTML markup code.  This is a trivial example and the main reason I chose to do this is because my son was manually adding up all the prices in the *Price column and wanted to show him how this could be automated using programming.  I also showed him that he could just copy and paste the table into a spreadsheet and get the total as well.  Furthermore, this would be a simple enough example to demonstrate how to use the BeautifulSoup package to extract data from the HTML markup code.  This is what the web hipsters call \"web scraping\".<br><br> This IPython notebook example assumes that we will be using this URL: <a href=\"http://www.tf2wh.com/backpack?bp=J4YdIfPh-kGWIgIYA39izmnTWlRcXrpGUOHejlqu2E4\">http://www.tf2wh.com/backpack?bp=J4YdIfPh-kGWIgIYA39izmnTWlRcXrpGUOHejlqu2E4</a><br> This is an actual, working URL belonging to my son's TF2 backpack inventory.<br><br> NOTE-because his inventory updates periodically, the outputs in this IPython notebook may not match what's in the TF2 warehouse inventory site's table."
   ]
  },
  {
   "cell_type": "code",
   "execution_count": 90,
   "metadata": {
    "collapsed": false
   },
   "outputs": [],
   "source": [
    "from bs4 import BeautifulSoup\n",
    "import urllib.request as request"
   ]
  },
  {
   "cell_type": "markdown",
   "metadata": {},
   "source": [
    "#### Here, we are going to open the url with the urlopen function. We could of prompt the user to copy and then paste the TF2 backpack inventory URL into an input textbox, but unfortunately, Wakari doesn't support input from standard input.  So we'll just use the hard-coded URL of that HTML page."
   ]
  },
  {
   "cell_type": "code",
   "execution_count": 91,
   "metadata": {
    "collapsed": false
   },
   "outputs": [],
   "source": [
    "html = request.urlopen('http://www.tf2wh.com/backpack?bp=J4YdIfPh-kGWIgIYA39izmnTWlRcXrpGUOHejlqu2E4')\n",
    "\n",
    "# Wakari doesn't support input from stdin\n",
    "#html = request.urlopen(input(\"Paste the TF2 WH Inventory URL here: \"))\n",
    "soup = BeautifulSoup(html)"
   ]
  },
  {
   "cell_type": "markdown",
   "metadata": {},
   "source": [
    "#### Then, we need to look at the source code of that HTML page.  We can open the page using the browser, but I will open a new tab with it.  This is the most important part, we need to be very familiar with this HTML page's source code."
   ]
  },
  {
   "cell_type": "code",
   "execution_count": 92,
   "metadata": {
    "collapsed": false
   },
   "outputs": [
    {
     "data": {
      "text/plain": [
       "True"
      ]
     },
     "execution_count": 92,
     "metadata": {},
     "output_type": "execute_result"
    }
   ],
   "source": [
    "import webbrowser\n",
    "webbrowser.open_new_tab('http://www.tf2wh.com/backpack?bp=J4YdIfPh-kGWIgIYA39izmnTWlRcXrpGUOHejlqu2E4')"
   ]
  },
  {
   "cell_type": "markdown",
   "metadata": {},
   "source": [
    "#### After examining that HTML page's source code, we can see that the information we need is contained within the table body tag \"&lt;tbody&gt;\".  Now let's see what it looks like:"
   ]
  },
  {
   "cell_type": "code",
   "execution_count": 93,
   "metadata": {
    "collapsed": false
   },
   "outputs": [
    {
     "data": {
      "text/plain": [
       "<tbody>\n",
       "<tr class=\"overstocked\"><th><font color=\"#4D7455\">Genuine Companion Cube Pin</font></th><td>2,925c</td><td>1</td><td>15</td><td></td><td>15\n",
       "</td></tr><tr class=\"overstocked\"><th><font color=\"#7D6D00\">A Rather Festive Tree</font></th><td>4,455c</td><td>1</td><td>100</td><td></td><td>100\n",
       "</td></tr><tr class=\"overstocked\"><th><font color=\"#7D6D00\">Fall 2013 Acorns Crate</font></th><td>310c</td><td>2</td><td>10</td><td></td><td>10\n",
       "</td></tr><tr class=\"overstocked\"><th><font color=\"#7D6D00\">Fall 2013 Gourd Crate</font></th><td>310c</td><td>4</td><td>10</td><td></td><td>10\n",
       "</td></tr><tr class=\"overstocked\"><th><font color=\"#7D6D00\">Point and Shoot</font></th><td>6,185c</td><td>1</td><td>25</td><td></td><td>25\n",
       "</td></tr><tr class=\"overstocked\"><th><font color=\"#7D6D00\">Strange Part: Gib Kills</font></th><td>5,460c</td><td>1</td><td>5</td><td></td><td>5\n",
       "</td></tr><tr class=\"overstocked\"><th><font color=\"#CF6A32\">Strange Enforcer</font></th><td>1,600c</td><td>1</td><td>16</td><td>+2</td><td>15\n",
       "</td></tr><tr class=\"overstocked\"><th><font color=\"#CF6A32\">Strange Fists of Steel</font></th><td>375c</td><td>1</td><td>16</td><td></td><td>15\n",
       "</td></tr><tr class=\"normal\"><th><font color=\"#CF6A32\">Strange Killing Gloves of Boxing</font></th><td>1,780c</td><td>1</td><td>19</td><td></td><td>20\n",
       "</td></tr><tr class=\"overstocked\"><th><font color=\"#CF6A32\">Strange Medi Gun</font></th><td>2,700c</td><td>1</td><td>40</td><td></td><td>40\n",
       "</td></tr><tr class=\"normal\"><th><font color=\"#CF6A32\">Strange Neon Annihilator</font></th><td>370c</td><td>1</td><td>24</td><td>+3</td><td>25\n",
       "</td></tr><tr class=\"normal\"><th><font color=\"#CF6A32\">Strange Rust Botkiller Scattergun Mk.I</font></th><td>7,735c</td><td>1</td><td>1</td><td></td><td>5\n",
       "</td></tr><tr class=\"overstocked\"><th><font color=\"#8650AD\">Haunted B-ankh!</font></th><td>3,420c</td><td>1</td><td>3</td><td></td><td>3\n",
       "</td></tr></tbody>"
      ]
     },
     "execution_count": 93,
     "metadata": {},
     "output_type": "execute_result"
    }
   ],
   "source": [
    "table_body = soup.tbody\n",
    "table_body"
   ]
  },
  {
   "cell_type": "markdown",
   "metadata": {},
   "source": [
    "#### We have the table body parsed, but we really need the table rows parsed, since that is where the table row data is located at."
   ]
  },
  {
   "cell_type": "code",
   "execution_count": 95,
   "metadata": {
    "collapsed": false
   },
   "outputs": [
    {
     "data": {
      "text/plain": [
       "[<tr class=\"overstocked\"><th><font color=\"#4D7455\">Genuine Companion Cube Pin</font></th><td>2,925c</td><td>1</td><td>15</td><td></td><td>15\n",
       "</td></tr>,\n",
       " <tr class=\"overstocked\"><th><font color=\"#7D6D00\">A Rather Festive Tree</font></th><td>4,455c</td><td>1</td><td>100</td><td></td><td>100\n",
       "</td></tr>,\n",
       " <tr class=\"overstocked\"><th><font color=\"#7D6D00\">Fall 2013 Acorns Crate</font></th><td>310c</td><td>2</td><td>10</td><td></td><td>10\n",
       "</td></tr>,\n",
       " <tr class=\"overstocked\"><th><font color=\"#7D6D00\">Fall 2013 Gourd Crate</font></th><td>310c</td><td>4</td><td>10</td><td></td><td>10\n",
       "</td></tr>,\n",
       " <tr class=\"overstocked\"><th><font color=\"#7D6D00\">Point and Shoot</font></th><td>6,185c</td><td>1</td><td>25</td><td></td><td>25\n",
       "</td></tr>,\n",
       " <tr class=\"overstocked\"><th><font color=\"#7D6D00\">Strange Part: Gib Kills</font></th><td>5,460c</td><td>1</td><td>5</td><td></td><td>5\n",
       "</td></tr>,\n",
       " <tr class=\"overstocked\"><th><font color=\"#CF6A32\">Strange Enforcer</font></th><td>1,600c</td><td>1</td><td>16</td><td>+2</td><td>15\n",
       "</td></tr>,\n",
       " <tr class=\"overstocked\"><th><font color=\"#CF6A32\">Strange Fists of Steel</font></th><td>375c</td><td>1</td><td>16</td><td></td><td>15\n",
       "</td></tr>,\n",
       " <tr class=\"normal\"><th><font color=\"#CF6A32\">Strange Killing Gloves of Boxing</font></th><td>1,780c</td><td>1</td><td>19</td><td></td><td>20\n",
       "</td></tr>,\n",
       " <tr class=\"overstocked\"><th><font color=\"#CF6A32\">Strange Medi Gun</font></th><td>2,700c</td><td>1</td><td>40</td><td></td><td>40\n",
       "</td></tr>,\n",
       " <tr class=\"normal\"><th><font color=\"#CF6A32\">Strange Neon Annihilator</font></th><td>370c</td><td>1</td><td>24</td><td>+3</td><td>25\n",
       "</td></tr>,\n",
       " <tr class=\"normal\"><th><font color=\"#CF6A32\">Strange Rust Botkiller Scattergun Mk.I</font></th><td>7,735c</td><td>1</td><td>1</td><td></td><td>5\n",
       "</td></tr>,\n",
       " <tr class=\"overstocked\"><th><font color=\"#8650AD\">Haunted B-ankh!</font></th><td>3,420c</td><td>1</td><td>3</td><td></td><td>3\n",
       "</td></tr>]"
      ]
     },
     "execution_count": 95,
     "metadata": {},
     "output_type": "execute_result"
    }
   ],
   "source": [
    "# Within table_body tag, find all table row \"tr\" tags\n",
    "table_rows = table_body.find_all('tr')\n",
    "table_rows"
   ]
  },
  {
   "cell_type": "markdown",
   "metadata": {},
   "source": [
    "#### Now that we have the table rows stored in the table_rows variable, we can then extract the individual information we want from it."
   ]
  },
  {
   "cell_type": "markdown",
   "metadata": {},
   "source": [
    "#### For example, let's extract each item's inventory status:"
   ]
  },
  {
   "cell_type": "code",
   "execution_count": 96,
   "metadata": {
    "collapsed": false
   },
   "outputs": [
    {
     "name": "stdout",
     "output_type": "stream",
     "text": [
      "['overstocked']\n",
      "['overstocked']\n",
      "['overstocked']\n",
      "['overstocked']\n",
      "['overstocked']\n",
      "['overstocked']\n",
      "['overstocked']\n",
      "['overstocked']\n",
      "['normal']\n",
      "['overstocked']\n",
      "['normal']\n",
      "['normal']\n",
      "['overstocked']\n"
     ]
    }
   ],
   "source": [
    "table_rows = table_body.find_all('tr')\n",
    "\n",
    "for row in table_rows:\n",
    "    print(row['class'])"
   ]
  },
  {
   "cell_type": "markdown",
   "metadata": {},
   "source": [
    "#### Extracting each item's name:"
   ]
  },
  {
   "cell_type": "code",
   "execution_count": 97,
   "metadata": {
    "collapsed": false
   },
   "outputs": [
    {
     "name": "stdout",
     "output_type": "stream",
     "text": [
      "Genuine Companion Cube Pin\n",
      "A Rather Festive Tree\n",
      "Fall 2013 Acorns Crate\n",
      "Fall 2013 Gourd Crate\n",
      "Point and Shoot\n",
      "Strange Part: Gib Kills\n",
      "Strange Enforcer\n",
      "Strange Fists of Steel\n",
      "Strange Killing Gloves of Boxing\n",
      "Strange Medi Gun\n",
      "Strange Neon Annihilator\n",
      "Strange Rust Botkiller Scattergun Mk.I\n",
      "Haunted B-ankh!\n"
     ]
    }
   ],
   "source": [
    "for row in table_rows:\n",
    "    print(row.font.get_text())"
   ]
  },
  {
   "cell_type": "markdown",
   "metadata": {},
   "source": [
    "#### Next, we can extract each item's price...but wait a minute.  The price is in the \"&lt;td&gt;\" tag, but there are other &lt;\"td&gt;\" tags too.  How do we tell or how does BeautifulSoup knows which \"&lt;td&gt;\" tag to pull the data from?<br><br> But let's just try this and see what happens:"
   ]
  },
  {
   "cell_type": "code",
   "execution_count": 98,
   "metadata": {
    "collapsed": false
   },
   "outputs": [
    {
     "name": "stdout",
     "output_type": "stream",
     "text": [
      "2,925c\n",
      "4,455c\n",
      "310c\n",
      "310c\n",
      "6,185c\n",
      "5,460c\n",
      "1,600c\n",
      "375c\n",
      "1,780c\n",
      "2,700c\n",
      "370c\n",
      "7,735c\n",
      "3,420c\n"
     ]
    }
   ],
   "source": [
    "for row in table_rows:\n",
    "    print(row.td.get_text())"
   ]
  },
  {
   "cell_type": "markdown",
   "metadata": {},
   "source": [
    "#### OK so looks like it grabbed the data in the \"Price\" column, but how do we get the data in the \"You\" column and other columns as well?"
   ]
  },
  {
   "cell_type": "markdown",
   "metadata": {},
   "source": [
    "#### I tried this, thinking maybe to get the other columns, I just need to reference the proper index??"
   ]
  },
  {
   "cell_type": "code",
   "execution_count": 52,
   "metadata": {
    "collapsed": false
   },
   "outputs": [
    {
     "ename": "KeyError",
     "evalue": "1",
     "output_type": "error",
     "traceback": [
      "\u001b[1;31m---------------------------------------------------------------------------\u001b[0m\n\u001b[1;31mKeyError\u001b[0m                                  Traceback (most recent call last)",
      "\u001b[1;32m<ipython-input-52-7758b1a191f8>\u001b[0m in \u001b[0;36m<module>\u001b[1;34m()\u001b[0m\n\u001b[0;32m      1\u001b[0m \u001b[1;32mfor\u001b[0m \u001b[0mrow\u001b[0m \u001b[1;32min\u001b[0m \u001b[0mtable_rows\u001b[0m\u001b[1;33m:\u001b[0m\u001b[1;33m\u001b[0m\u001b[0m\n\u001b[1;32m----> 2\u001b[1;33m     \u001b[0mprint\u001b[0m\u001b[1;33m(\u001b[0m\u001b[0mrow\u001b[0m\u001b[1;33m.\u001b[0m\u001b[0mtd\u001b[0m\u001b[1;33m[\u001b[0m\u001b[1;36m1\u001b[0m\u001b[1;33m]\u001b[0m\u001b[1;33m.\u001b[0m\u001b[0mget_text\u001b[0m\u001b[1;33m(\u001b[0m\u001b[1;33m)\u001b[0m\u001b[1;33m)\u001b[0m\u001b[1;33m\u001b[0m\u001b[0m\n\u001b[0m",
      "\u001b[1;32m/opt/anaconda/envs/np17py33-1.5/lib/python3.3/site-packages/beautifulsoup4-4.3.2-py3.3.egg/bs4/element.py\u001b[0m in \u001b[0;36m__getitem__\u001b[1;34m(self, key)\u001b[0m\n\u001b[0;32m    903\u001b[0m         \"\"\"tag[key] returns the value of the 'key' attribute for the tag,\n\u001b[0;32m    904\u001b[0m         and throws an exception if it's not there.\"\"\"\n\u001b[1;32m--> 905\u001b[1;33m         \u001b[1;32mreturn\u001b[0m \u001b[0mself\u001b[0m\u001b[1;33m.\u001b[0m\u001b[0mattrs\u001b[0m\u001b[1;33m[\u001b[0m\u001b[0mkey\u001b[0m\u001b[1;33m]\u001b[0m\u001b[1;33m\u001b[0m\u001b[0m\n\u001b[0m\u001b[0;32m    906\u001b[0m \u001b[1;33m\u001b[0m\u001b[0m\n\u001b[0;32m    907\u001b[0m     \u001b[1;32mdef\u001b[0m \u001b[0m__iter__\u001b[0m\u001b[1;33m(\u001b[0m\u001b[0mself\u001b[0m\u001b[1;33m)\u001b[0m\u001b[1;33m:\u001b[0m\u001b[1;33m\u001b[0m\u001b[0m\n",
      "\u001b[1;31mKeyError\u001b[0m: 1"
     ]
    }
   ],
   "source": [
    "for row in table_rows:\n",
    "    print(row.td[1].get_text())"
   ]
  },
  {
   "cell_type": "markdown",
   "metadata": {},
   "source": [
    "#### As you can see, that didn't work, I got an error.  Then I tried this thinking maybe to get the 2nd \"td\" tag values, I need to call \"td\" twice maybe??"
   ]
  },
  {
   "cell_type": "code",
   "execution_count": 53,
   "metadata": {
    "collapsed": false
   },
   "outputs": [
    {
     "ename": "AttributeError",
     "evalue": "'NoneType' object has no attribute 'get_text'",
     "output_type": "error",
     "traceback": [
      "\u001b[1;31m---------------------------------------------------------------------------\u001b[0m\n\u001b[1;31mAttributeError\u001b[0m                            Traceback (most recent call last)",
      "\u001b[1;32m<ipython-input-53-06eaa7f39a23>\u001b[0m in \u001b[0;36m<module>\u001b[1;34m()\u001b[0m\n\u001b[0;32m      1\u001b[0m \u001b[1;32mfor\u001b[0m \u001b[0mrow\u001b[0m \u001b[1;32min\u001b[0m \u001b[0mtable_rows\u001b[0m\u001b[1;33m:\u001b[0m\u001b[1;33m\u001b[0m\u001b[0m\n\u001b[1;32m----> 2\u001b[1;33m     \u001b[0mprint\u001b[0m\u001b[1;33m(\u001b[0m\u001b[0mrow\u001b[0m\u001b[1;33m.\u001b[0m\u001b[0mtd\u001b[0m\u001b[1;33m.\u001b[0m\u001b[0mtd\u001b[0m\u001b[1;33m.\u001b[0m\u001b[0mget_text\u001b[0m\u001b[1;33m(\u001b[0m\u001b[1;33m)\u001b[0m\u001b[1;33m)\u001b[0m\u001b[1;33m\u001b[0m\u001b[0m\n\u001b[0m",
      "\u001b[1;31mAttributeError\u001b[0m: 'NoneType' object has no attribute 'get_text'"
     ]
    }
   ],
   "source": [
    "for row in table_rows:\n",
    "    print(row.td.td.get_text())"
   ]
  },
  {
   "cell_type": "markdown",
   "metadata": {},
   "source": [
    "#### Again, this also doesn't work.  So what should we do?  Looks like the td.get_text() just get the first td tag's data and doesn't get the other td tags' data.<br> Well it turns out if you look above, previously we did: soup.find_all('tr').  But to get all the data in the \"&lt;td&gt;\" tags, we should do: soup.find_all('td')"
   ]
  },
  {
   "cell_type": "code",
   "execution_count": 99,
   "metadata": {
    "collapsed": false
   },
   "outputs": [],
   "source": [
    "td = soup.find_all('td')"
   ]
  },
  {
   "cell_type": "code",
   "execution_count": 100,
   "metadata": {
    "collapsed": false
   },
   "outputs": [
    {
     "data": {
      "text/plain": [
       "[<td>2,925c</td>,\n",
       " <td>1</td>,\n",
       " <td>15</td>,\n",
       " <td></td>,\n",
       " <td>15\n",
       "</td>,\n",
       " <td>4,455c</td>,\n",
       " <td>1</td>,\n",
       " <td>100</td>,\n",
       " <td></td>,\n",
       " <td>100\n",
       "</td>,\n",
       " <td>310c</td>,\n",
       " <td>2</td>,\n",
       " <td>10</td>,\n",
       " <td></td>,\n",
       " <td>10\n",
       "</td>,\n",
       " <td>310c</td>,\n",
       " <td>4</td>,\n",
       " <td>10</td>,\n",
       " <td></td>,\n",
       " <td>10\n",
       "</td>,\n",
       " <td>6,185c</td>,\n",
       " <td>1</td>,\n",
       " <td>25</td>,\n",
       " <td></td>,\n",
       " <td>25\n",
       "</td>,\n",
       " <td>5,460c</td>,\n",
       " <td>1</td>,\n",
       " <td>5</td>,\n",
       " <td></td>,\n",
       " <td>5\n",
       "</td>,\n",
       " <td>1,600c</td>,\n",
       " <td>1</td>,\n",
       " <td>16</td>,\n",
       " <td>+2</td>,\n",
       " <td>15\n",
       "</td>,\n",
       " <td>375c</td>,\n",
       " <td>1</td>,\n",
       " <td>16</td>,\n",
       " <td></td>,\n",
       " <td>15\n",
       "</td>,\n",
       " <td>1,780c</td>,\n",
       " <td>1</td>,\n",
       " <td>19</td>,\n",
       " <td></td>,\n",
       " <td>20\n",
       "</td>,\n",
       " <td>2,700c</td>,\n",
       " <td>1</td>,\n",
       " <td>40</td>,\n",
       " <td></td>,\n",
       " <td>40\n",
       "</td>,\n",
       " <td>370c</td>,\n",
       " <td>1</td>,\n",
       " <td>24</td>,\n",
       " <td>+3</td>,\n",
       " <td>25\n",
       "</td>,\n",
       " <td>7,735c</td>,\n",
       " <td>1</td>,\n",
       " <td>1</td>,\n",
       " <td></td>,\n",
       " <td>5\n",
       "</td>,\n",
       " <td>3,420c</td>,\n",
       " <td>1</td>,\n",
       " <td>3</td>,\n",
       " <td></td>,\n",
       " <td>3\n",
       "</td>]"
      ]
     },
     "execution_count": 100,
     "metadata": {},
     "output_type": "execute_result"
    }
   ],
   "source": [
    "td"
   ]
  },
  {
   "cell_type": "markdown",
   "metadata": {},
   "source": [
    "#### Ah ha!  This did it!<br> But I don't want all that HTML markup junk, I just want the values.  Furthermore, I should probably remove the \"c\" and \",\" in the prices just in case I want to do some numerical calculations on them.  I also notice there is a column with no values in it.  I will make them zeros instead.  To get just the text or the data embeded in that markup code above, we will loop through all the td tags and use the get_text() method and then also we'll use the replace() method to replace the \"c\" and the \",\" with a empty space (''):"
   ]
  },
  {
   "cell_type": "code",
   "execution_count": 101,
   "metadata": {
    "collapsed": false
   },
   "outputs": [
    {
     "name": "stdout",
     "output_type": "stream",
     "text": [
      "2925\n",
      "1\n",
      "15\n",
      "0\n",
      "15\n",
      "\n",
      "4455\n",
      "1\n",
      "100\n",
      "0\n",
      "100\n",
      "\n",
      "310\n",
      "2\n",
      "10\n",
      "0\n",
      "10\n",
      "\n",
      "310\n",
      "4\n",
      "10\n",
      "0\n",
      "10\n",
      "\n",
      "6185\n",
      "1\n",
      "25\n",
      "0\n",
      "25\n",
      "\n",
      "5460\n",
      "1\n",
      "5\n",
      "0\n",
      "5\n",
      "\n",
      "1600\n",
      "1\n",
      "16\n",
      "+2\n",
      "15\n",
      "\n",
      "375\n",
      "1\n",
      "16\n",
      "0\n",
      "15\n",
      "\n",
      "1780\n",
      "1\n",
      "19\n",
      "0\n",
      "20\n",
      "\n",
      "2700\n",
      "1\n",
      "40\n",
      "0\n",
      "40\n",
      "\n",
      "370\n",
      "1\n",
      "24\n",
      "+3\n",
      "25\n",
      "\n",
      "7735\n",
      "1\n",
      "1\n",
      "0\n",
      "5\n",
      "\n",
      "3420\n",
      "1\n",
      "3\n",
      "0\n",
      "3\n",
      "\n"
     ]
    }
   ],
   "source": [
    "for data in td:\n",
    "    value = data.get_text().replace('c','').replace(',','')\n",
    "    if value == '':\n",
    "        print(\"0\")\n",
    "    else:\n",
    "        print(value)"
   ]
  },
  {
   "cell_type": "markdown",
   "metadata": {},
   "source": [
    "#### Hmmm, why is there a blank line between the sets of 5 data rows?  Looks like maybe a newline character is at the end of each table row's data.  So we'll remove that as well.  So we'll loop again and make sure we remove any newline characters."
   ]
  },
  {
   "cell_type": "code",
   "execution_count": 102,
   "metadata": {
    "collapsed": false
   },
   "outputs": [
    {
     "name": "stdout",
     "output_type": "stream",
     "text": [
      "2925\n",
      "1\n",
      "15\n",
      "0\n",
      "15\n",
      "4455\n",
      "1\n",
      "100\n",
      "0\n",
      "100\n",
      "310\n",
      "2\n",
      "10\n",
      "0\n",
      "10\n",
      "310\n",
      "4\n",
      "10\n",
      "0\n",
      "10\n",
      "6185\n",
      "1\n",
      "25\n",
      "0\n",
      "25\n",
      "5460\n",
      "1\n",
      "5\n",
      "0\n",
      "5\n",
      "1600\n",
      "1\n",
      "16\n",
      "+2\n",
      "15\n",
      "375\n",
      "1\n",
      "16\n",
      "0\n",
      "15\n",
      "1780\n",
      "1\n",
      "19\n",
      "0\n",
      "20\n",
      "2700\n",
      "1\n",
      "40\n",
      "0\n",
      "40\n",
      "370\n",
      "1\n",
      "24\n",
      "+3\n",
      "25\n",
      "7735\n",
      "1\n",
      "1\n",
      "0\n",
      "5\n",
      "3420\n",
      "1\n",
      "3\n",
      "0\n",
      "3\n"
     ]
    }
   ],
   "source": [
    "for data in td:\n",
    "    value = data.get_text().replace('c','').replace(',','').replace('\\n','')\n",
    "    if value == '':\n",
    "        print(\"0\")\n",
    "    else:\n",
    "        print(value)"
   ]
  },
  {
   "cell_type": "markdown",
   "metadata": {},
   "source": [
    "#### Looking good so far.<br> So that we can grab certain values somehow in an orderly fashion, let's dump the values in a list so we can take advantage of Python's list functions or list indexing."
   ]
  },
  {
   "cell_type": "code",
   "execution_count": 103,
   "metadata": {
    "collapsed": false
   },
   "outputs": [
    {
     "data": {
      "text/plain": [
       "[2925,\n",
       " 1,\n",
       " 15,\n",
       " 0,\n",
       " 15,\n",
       " 4455,\n",
       " 1,\n",
       " 100,\n",
       " 0,\n",
       " 100,\n",
       " 310,\n",
       " 2,\n",
       " 10,\n",
       " 0,\n",
       " 10,\n",
       " 310,\n",
       " 4,\n",
       " 10,\n",
       " 0,\n",
       " 10,\n",
       " 6185,\n",
       " 1,\n",
       " 25,\n",
       " 0,\n",
       " 25,\n",
       " 5460,\n",
       " 1,\n",
       " 5,\n",
       " 0,\n",
       " 5,\n",
       " 1600,\n",
       " 1,\n",
       " 16,\n",
       " 2,\n",
       " 15,\n",
       " 375,\n",
       " 1,\n",
       " 16,\n",
       " 0,\n",
       " 15,\n",
       " 1780,\n",
       " 1,\n",
       " 19,\n",
       " 0,\n",
       " 20,\n",
       " 2700,\n",
       " 1,\n",
       " 40,\n",
       " 0,\n",
       " 40,\n",
       " 370,\n",
       " 1,\n",
       " 24,\n",
       " 3,\n",
       " 25,\n",
       " 7735,\n",
       " 1,\n",
       " 1,\n",
       " 0,\n",
       " 5,\n",
       " 3420,\n",
       " 1,\n",
       " 3,\n",
       " 0,\n",
       " 3]"
      ]
     },
     "execution_count": 103,
     "metadata": {},
     "output_type": "execute_result"
    }
   ],
   "source": [
    "mylist = []\n",
    "for data in td:\n",
    "    value = data.get_text().replace('c','').replace(',','').replace('\\n','')\n",
    "    if value == '':\n",
    "        mylist.append(0)\n",
    "    else:\n",
    "        mylist.append(int(value))\n",
    "\n",
    "mylist"
   ]
  },
  {
   "cell_type": "markdown",
   "metadata": {},
   "source": [
    "#### Now we can use Python's list indexing/slicing to grab the price values, which are the first value and every 5th value after that:"
   ]
  },
  {
   "cell_type": "code",
   "execution_count": 104,
   "metadata": {
    "collapsed": false
   },
   "outputs": [
    {
     "data": {
      "text/plain": [
       "[2925, 4455, 310, 310, 6185, 5460, 1600, 375, 1780, 2700, 370, 7735, 3420]"
      ]
     },
     "execution_count": 104,
     "metadata": {},
     "output_type": "execute_result"
    }
   ],
   "source": [
    "prices = mylist[0::5]\n",
    "prices"
   ]
  },
  {
   "cell_type": "markdown",
   "metadata": {},
   "source": [
    "#### Using similar logic, we can get the \"You\" column and other columns as well."
   ]
  },
  {
   "cell_type": "code",
   "execution_count": 105,
   "metadata": {
    "collapsed": false
   },
   "outputs": [
    {
     "data": {
      "text/plain": [
       "[1, 1, 2, 4, 1, 1, 1, 1, 1, 1, 1, 1, 1]"
      ]
     },
     "execution_count": 105,
     "metadata": {},
     "output_type": "execute_result"
    }
   ],
   "source": [
    "you = mylist[1::5]\n",
    "you"
   ]
  },
  {
   "cell_type": "code",
   "execution_count": 106,
   "metadata": {
    "collapsed": false
   },
   "outputs": [
    {
     "data": {
      "text/plain": [
       "[15, 100, 10, 10, 25, 5, 16, 16, 19, 40, 24, 1, 3]"
      ]
     },
     "execution_count": 106,
     "metadata": {},
     "output_type": "execute_result"
    }
   ],
   "source": [
    "wh = mylist[2::5]\n",
    "wh"
   ]
  },
  {
   "cell_type": "code",
   "execution_count": 107,
   "metadata": {
    "collapsed": false
   },
   "outputs": [
    {
     "data": {
      "text/plain": [
       "[0, 0, 0, 0, 0, 0, 2, 0, 0, 0, 3, 0, 0]"
      ]
     },
     "execution_count": 107,
     "metadata": {},
     "output_type": "execute_result"
    }
   ],
   "source": [
    "wh_diff = mylist[3::5]\n",
    "wh_diff"
   ]
  },
  {
   "cell_type": "code",
   "execution_count": 108,
   "metadata": {
    "collapsed": false
   },
   "outputs": [
    {
     "data": {
      "text/plain": [
       "[15, 100, 10, 10, 25, 5, 15, 15, 20, 40, 25, 5, 3]"
      ]
     },
     "execution_count": 108,
     "metadata": {},
     "output_type": "execute_result"
    }
   ],
   "source": [
    "limit = mylist[4::5]\n",
    "limit"
   ]
  },
  {
   "cell_type": "markdown",
   "metadata": {},
   "source": [
    "#### Let's import the numpy package so we can take advantage of its numerical functions."
   ]
  },
  {
   "cell_type": "code",
   "execution_count": 110,
   "metadata": {
    "collapsed": false
   },
   "outputs": [
    {
     "name": "stdout",
     "output_type": "stream",
     "text": [
      "The sum of all the items' prices is:  37625\n",
      "The average of all the items' prices is:  2894.23076923\n"
     ]
    }
   ],
   "source": [
    "import numpy as np\n",
    "tf_prices = np.array(prices)\n",
    "print(\"The sum of all the items' prices is: \", tf_prices.sum())\n",
    "print(\"The average of all the items' prices is: \", tf_prices.mean())"
   ]
  },
  {
   "cell_type": "markdown",
   "metadata": {},
   "source": [
    "#### Now, let's re-create the inventory table in that HTML page using a Python 3rd party package called Pandas."
   ]
  },
  {
   "cell_type": "markdown",
   "metadata": {},
   "source": [
    "#### But, before we do, we need to store the item's status in a list and the item's name in a list.  I will just copy code we used above to get them and slightly modify it to dump them into a list"
   ]
  },
  {
   "cell_type": "code",
   "execution_count": 111,
   "metadata": {
    "collapsed": false
   },
   "outputs": [
    {
     "data": {
      "text/plain": [
       "['overstocked',\n",
       " 'overstocked',\n",
       " 'overstocked',\n",
       " 'overstocked',\n",
       " 'overstocked',\n",
       " 'overstocked',\n",
       " 'overstocked',\n",
       " 'overstocked',\n",
       " 'normal',\n",
       " 'overstocked',\n",
       " 'normal',\n",
       " 'normal',\n",
       " 'overstocked']"
      ]
     },
     "execution_count": 111,
     "metadata": {},
     "output_type": "execute_result"
    }
   ],
   "source": [
    "table_rows = table_body.find_all('tr')\n",
    "\n",
    "status = []\n",
    "for row in table_rows:\n",
    "    status.append(row['class'][0])\n",
    "\n",
    "status"
   ]
  },
  {
   "cell_type": "code",
   "execution_count": 112,
   "metadata": {
    "collapsed": false
   },
   "outputs": [
    {
     "data": {
      "text/plain": [
       "['Genuine Companion Cube Pin',\n",
       " 'A Rather Festive Tree',\n",
       " 'Fall 2013 Acorns Crate',\n",
       " 'Fall 2013 Gourd Crate',\n",
       " 'Point and Shoot',\n",
       " 'Strange Part: Gib Kills',\n",
       " 'Strange Enforcer',\n",
       " 'Strange Fists of Steel',\n",
       " 'Strange Killing Gloves of Boxing',\n",
       " 'Strange Medi Gun',\n",
       " 'Strange Neon Annihilator',\n",
       " 'Strange Rust Botkiller Scattergun Mk.I',\n",
       " 'Haunted B-ankh!']"
      ]
     },
     "execution_count": 112,
     "metadata": {},
     "output_type": "execute_result"
    }
   ],
   "source": [
    "item_names = []\n",
    "for row in table_rows:\n",
    "    item_names.append(row.font.get_text())\n",
    "    \n",
    "item_names"
   ]
  },
  {
   "cell_type": "code",
   "execution_count": 113,
   "metadata": {
    "collapsed": false
   },
   "outputs": [
    {
     "data": {
      "text/html": [
       "<div style=\"max-height:1000px;max-width:1500px;overflow:auto;\">\n",
       "<table border=\"1\" class=\"dataframe\">\n",
       "  <thead>\n",
       "    <tr style=\"text-align: right;\">\n",
       "      <th></th>\n",
       "      <th>*Price</th>\n",
       "      <th>You</th>\n",
       "      <th>WH</th>\n",
       "      <th>Limit</th>\n",
       "      <th>Status</th>\n",
       "    </tr>\n",
       "  </thead>\n",
       "  <tbody>\n",
       "    <tr>\n",
       "      <th>Genuine Companion Cube Pin</th>\n",
       "      <td> 2925</td>\n",
       "      <td> 1</td>\n",
       "      <td>  15</td>\n",
       "      <td>  15</td>\n",
       "      <td> overstocked</td>\n",
       "    </tr>\n",
       "    <tr>\n",
       "      <th>A Rather Festive Tree</th>\n",
       "      <td> 4455</td>\n",
       "      <td> 1</td>\n",
       "      <td> 100</td>\n",
       "      <td> 100</td>\n",
       "      <td> overstocked</td>\n",
       "    </tr>\n",
       "    <tr>\n",
       "      <th>Fall 2013 Acorns Crate</th>\n",
       "      <td>  310</td>\n",
       "      <td> 2</td>\n",
       "      <td>  10</td>\n",
       "      <td>  10</td>\n",
       "      <td> overstocked</td>\n",
       "    </tr>\n",
       "    <tr>\n",
       "      <th>Fall 2013 Gourd Crate</th>\n",
       "      <td>  310</td>\n",
       "      <td> 4</td>\n",
       "      <td>  10</td>\n",
       "      <td>  10</td>\n",
       "      <td> overstocked</td>\n",
       "    </tr>\n",
       "    <tr>\n",
       "      <th>Point and Shoot</th>\n",
       "      <td> 6185</td>\n",
       "      <td> 1</td>\n",
       "      <td>  25</td>\n",
       "      <td>  25</td>\n",
       "      <td> overstocked</td>\n",
       "    </tr>\n",
       "    <tr>\n",
       "      <th>Strange Part: Gib Kills</th>\n",
       "      <td> 5460</td>\n",
       "      <td> 1</td>\n",
       "      <td>   5</td>\n",
       "      <td>   5</td>\n",
       "      <td> overstocked</td>\n",
       "    </tr>\n",
       "    <tr>\n",
       "      <th>Strange Enforcer</th>\n",
       "      <td> 1600</td>\n",
       "      <td> 1</td>\n",
       "      <td>  16</td>\n",
       "      <td>  15</td>\n",
       "      <td> overstocked</td>\n",
       "    </tr>\n",
       "    <tr>\n",
       "      <th>Strange Fists of Steel</th>\n",
       "      <td>  375</td>\n",
       "      <td> 1</td>\n",
       "      <td>  16</td>\n",
       "      <td>  15</td>\n",
       "      <td> overstocked</td>\n",
       "    </tr>\n",
       "    <tr>\n",
       "      <th>Strange Killing Gloves of Boxing</th>\n",
       "      <td> 1780</td>\n",
       "      <td> 1</td>\n",
       "      <td>  19</td>\n",
       "      <td>  20</td>\n",
       "      <td>      normal</td>\n",
       "    </tr>\n",
       "    <tr>\n",
       "      <th>Strange Medi Gun</th>\n",
       "      <td> 2700</td>\n",
       "      <td> 1</td>\n",
       "      <td>  40</td>\n",
       "      <td>  40</td>\n",
       "      <td> overstocked</td>\n",
       "    </tr>\n",
       "    <tr>\n",
       "      <th>Strange Neon Annihilator</th>\n",
       "      <td>  370</td>\n",
       "      <td> 1</td>\n",
       "      <td>  24</td>\n",
       "      <td>  25</td>\n",
       "      <td>      normal</td>\n",
       "    </tr>\n",
       "    <tr>\n",
       "      <th>Strange Rust Botkiller Scattergun Mk.I</th>\n",
       "      <td> 7735</td>\n",
       "      <td> 1</td>\n",
       "      <td>   1</td>\n",
       "      <td>   5</td>\n",
       "      <td>      normal</td>\n",
       "    </tr>\n",
       "    <tr>\n",
       "      <th>Haunted B-ankh!</th>\n",
       "      <td> 3420</td>\n",
       "      <td> 1</td>\n",
       "      <td>   3</td>\n",
       "      <td>   3</td>\n",
       "      <td> overstocked</td>\n",
       "    </tr>\n",
       "  </tbody>\n",
       "</table>\n",
       "</div>"
      ],
      "text/plain": [
       "                                        *Price  You   WH  Limit       Status\n",
       "Genuine Companion Cube Pin                2925    1   15     15  overstocked\n",
       "A Rather Festive Tree                     4455    1  100    100  overstocked\n",
       "Fall 2013 Acorns Crate                     310    2   10     10  overstocked\n",
       "Fall 2013 Gourd Crate                      310    4   10     10  overstocked\n",
       "Point and Shoot                           6185    1   25     25  overstocked\n",
       "Strange Part: Gib Kills                   5460    1    5      5  overstocked\n",
       "Strange Enforcer                          1600    1   16     15  overstocked\n",
       "Strange Fists of Steel                     375    1   16     15  overstocked\n",
       "Strange Killing Gloves of Boxing          1780    1   19     20       normal\n",
       "Strange Medi Gun                          2700    1   40     40  overstocked\n",
       "Strange Neon Annihilator                   370    1   24     25       normal\n",
       "Strange Rust Botkiller Scattergun Mk.I    7735    1    1      5       normal\n",
       "Haunted B-ankh!                           3420    1    3      3  overstocked"
      ]
     },
     "execution_count": 113,
     "metadata": {},
     "output_type": "execute_result"
    }
   ],
   "source": [
    "import pandas as pd\n",
    "\n",
    "df = pd.DataFrame(data={\"Status\":status, \"*Price\":prices, \"You\":you, \"WH\":wh, \"WH_Diff\":wh_diff, \"Limit\":limit}, index=item_names)\n",
    "\n",
    "df = df[[\"*Price\", \"You\", \"WH\", \"Limit\", \"Status\"]]\n",
    "df"
   ]
  },
  {
   "cell_type": "code",
   "execution_count": 114,
   "metadata": {
    "collapsed": false
   },
   "outputs": [
    {
     "name": "stdout",
     "output_type": "stream",
     "text": [
      "The sum of all the items' prices is:  37625\n"
     ]
    }
   ],
   "source": [
    "print(\"The sum of all the items' prices is: \", df['*Price'].sum())"
   ]
  },
  {
   "cell_type": "markdown",
   "metadata": {},
   "source": [
    "#### I know this seems like a lot of work just to get this data, but it only appears so because I have broken this process down into multiple parts.  See my \"streamline\" IPython notebook <a href='https://www.wakari.io/sharing/bundle/pybokeh/TF2_Streamlined'>version</a> which does all of this in 2 steps."
   ]
  },
  {
   "cell_type": "markdown",
   "metadata": {},
   "source": [
    "#### It turns out starting with version 0.12, Pandas has a DataFrame.read_html() method which will allow us to read in a HTML table.  So below, I'll demonstrate how to use it."
   ]
  },
  {
   "cell_type": "code",
   "execution_count": 1,
   "metadata": {
    "collapsed": false
   },
   "outputs": [],
   "source": [
    "import pandas as pd"
   ]
  },
  {
   "cell_type": "code",
   "execution_count": 2,
   "metadata": {
    "collapsed": false
   },
   "outputs": [
    {
     "data": {
      "text/plain": [
       "'0.12.0'"
      ]
     },
     "execution_count": 2,
     "metadata": {},
     "output_type": "execute_result"
    }
   ],
   "source": [
    "pd.__version__"
   ]
  },
  {
   "cell_type": "code",
   "execution_count": 3,
   "metadata": {
    "collapsed": false
   },
   "outputs": [],
   "source": [
    "df_html = pd.read_html('http://www.tf2wh.com/backpack?bp=J4YdIfPh-kGWIgIYA39izmnTWlRcXrpGUOHejlqu2E4', index_col=0)"
   ]
  },
  {
   "cell_type": "code",
   "execution_count": 118,
   "metadata": {
    "collapsed": false
   },
   "outputs": [
    {
     "data": {
      "text/plain": [
       "[                                        *Price  Counts\\n\\t  You  WH  Limit\\n\n",
       "Name                                                                        \n",
       "Genuine Companion Cube Pin              2,925c           1   15 NaN       15\n",
       "A Rather Festive Tree                   4,455c           1  100 NaN      100\n",
       "Fall 2013 Acorns Crate                    310c           2   10 NaN       10\n",
       "Fall 2013 Gourd Crate                     310c           4   10 NaN       10\n",
       "Point and Shoot                         6,185c           1   25 NaN       25\n",
       "Strange Part: Gib Kills                 5,460c           1    4 NaN        5\n",
       "Strange Enforcer                        1,600c           1   17   1       15\n",
       "Strange Fists of Steel                    375c           1   16 NaN       15\n",
       "Strange Killing Gloves of Boxing        1,780c           1   19 NaN       20\n",
       "Strange Medi Gun                        2,700c           1   40 NaN       40\n",
       "Strange Neon Annihilator                  370c           1   26   3       25\n",
       "Strange Rust Botkiller Scattergun Mk.I  7,735c           1    1 NaN        5\n",
       "Haunted B-ankh!                         3,420c           1    3 NaN        3]"
      ]
     },
     "execution_count": 118,
     "metadata": {},
     "output_type": "execute_result"
    }
   ],
   "source": [
    "df_html"
   ]
  },
  {
   "cell_type": "markdown",
   "metadata": {},
   "source": [
    "#### Hmmm, looks like \"df_html\" is a list, I thought it would be a Pandas DataFrame.  But let's check..."
   ]
  },
  {
   "cell_type": "code",
   "execution_count": 120,
   "metadata": {
    "collapsed": false
   },
   "outputs": [
    {
     "data": {
      "text/plain": [
       "builtins.list"
      ]
     },
     "execution_count": 120,
     "metadata": {},
     "output_type": "execute_result"
    }
   ],
   "source": [
    "type(df_html)"
   ]
  },
  {
   "cell_type": "markdown",
   "metadata": {},
   "source": [
    "#### So it is a list, but I want it to be a DataFrame.  Since it is a list that apparently holds one item, let's grab the content of the list and see what data type it is:"
   ]
  },
  {
   "cell_type": "code",
   "execution_count": 121,
   "metadata": {
    "collapsed": false
   },
   "outputs": [
    {
     "data": {
      "text/plain": [
       "pandas.core.frame.DataFrame"
      ]
     },
     "execution_count": 121,
     "metadata": {},
     "output_type": "execute_result"
    }
   ],
   "source": [
    "type(df_html[0])"
   ]
  },
  {
   "cell_type": "markdown",
   "metadata": {},
   "source": [
    "#### So the content in the list is a DataFrame."
   ]
  },
  {
   "cell_type": "markdown",
   "metadata": {},
   "source": [
    "#### We can also use the built-in help() function to get more info on the read_html() method:"
   ]
  },
  {
   "cell_type": "code",
   "execution_count": 4,
   "metadata": {
    "collapsed": false
   },
   "outputs": [
    {
     "name": "stdout",
     "output_type": "stream",
     "text": [
      "Help on function read_html in module pandas.io.html:\n",
      "\n",
      "read_html(io, match='.+', flavor=None, header=None, index_col=None, skiprows=None, infer_types=True, attrs=None)\n",
      "    Read an HTML table into a DataFrame.\n",
      "    \n",
      "    Parameters\n",
      "    ----------\n",
      "    io : str or file-like\n",
      "        A string or file like object that can be either a url, a file-like\n",
      "        object, or a raw string containing HTML.  Note that lxml only accepts\n",
      "        the http, ftp and file url protocols. If you have a URI that starts\n",
      "        with ``'https'`` you might removing the ``'s'``.\n",
      "    \n",
      "    match : str or regex, optional, default '.+'\n",
      "        The set of tables containing text matching this regex or string will be\n",
      "        returned. Unless the HTML is extremely simple you will probably need to\n",
      "        pass a non-empty string here. Defaults to '.+' (match any non-empty\n",
      "        string). The default value will return all tables contained on a page.\n",
      "        This value is converted to a regular expression so that there is\n",
      "        consistent behavior between Beautiful Soup and lxml.\n",
      "    \n",
      "    flavor : str, container of strings, default ``None``\n",
      "        The parsing engine to use under the hood. 'bs4' and 'html5lib' are\n",
      "        synonymous with each other, they are both there for backwards\n",
      "        compatibility. The default of ``None`` tries to use ``lxml`` to parse\n",
      "        and if that fails it falls back on ``bs4`` + ``html5lib``.\n",
      "    \n",
      "    header : int or array-like or None, optional, default ``None``\n",
      "        The row (or rows for a MultiIndex) to use to make the columns headers.\n",
      "        Note that this row will be removed from the data.\n",
      "    \n",
      "    index_col : int or array-like or None, optional, default ``None``\n",
      "        The column to use to make the index. Note that this column will be\n",
      "        removed from the data.\n",
      "    \n",
      "    skiprows : int or collections.Container or slice or None, optional, default ``None``\n",
      "        If an integer is given then skip this many rows after parsing the\n",
      "        column header. If a sequence of integers is given skip those specific\n",
      "        rows (0-based). Note that\n",
      "    \n",
      "        .. code-block:: python\n",
      "    \n",
      "           skiprows == 0\n",
      "    \n",
      "        yields the same result as\n",
      "    \n",
      "        .. code-block:: python\n",
      "    \n",
      "           skiprows is None\n",
      "    \n",
      "        If `skiprows` is a positive integer, say :math:`n`, then\n",
      "        it is treated as \"skip :math:`n` rows\", *not* as \"skip the\n",
      "        :math:`n^\\textrm{th}` row\".\n",
      "    \n",
      "    infer_types : bool, optional, default ``True``\n",
      "        Whether to convert numeric types and date-appearing strings to numbers\n",
      "        and dates, respectively.\n",
      "    \n",
      "    attrs : dict or None, optional, default ``None``\n",
      "        This is a dictionary of attributes that you can pass to use to identify\n",
      "        the table in the HTML. These are not checked for validity before being\n",
      "        passed to lxml or Beautiful Soup. However, these attributes must be\n",
      "        valid HTML table attributes to work correctly. For example,\n",
      "    \n",
      "        .. code-block:: python\n",
      "    \n",
      "           attrs = {'id': 'table'}\n",
      "    \n",
      "        is a valid attribute dictionary because the 'id' HTML tag attribute is\n",
      "        a valid HTML attribute for *any* HTML tag as per `this document\n",
      "        <http://www.w3.org/TR/html-markup/global-attributes.html>`__.\n",
      "    \n",
      "        .. code-block:: python\n",
      "    \n",
      "           attrs = {'asdf': 'table'}\n",
      "    \n",
      "        is *not* a valid attribute dictionary because 'asdf' is not a valid\n",
      "        HTML attribute even if it is a valid XML attribute.  Valid HTML 4.01\n",
      "        table attributes can be found `here\n",
      "        <http://www.w3.org/TR/REC-html40/struct/tables.html#h-11.2>`__. A\n",
      "        working draft of the HTML 5 spec can be found `here\n",
      "        <http://www.w3.org/TR/html-markup/table.html>`__. It contains the\n",
      "        latest information on table attributes for the modern web.\n",
      "    \n",
      "    Returns\n",
      "    -------\n",
      "    dfs : list of DataFrames\n",
      "        A list of DataFrames, each of which is the parsed data from each of the\n",
      "        tables on the page.\n",
      "    \n",
      "    Notes\n",
      "    -----\n",
      "    Before using this function you should probably read the :ref:`gotchas about\n",
      "    the parser libraries that this function uses <html-gotchas>`.\n",
      "    \n",
      "    There's as little cleaning of the data as possible due to the heterogeneity\n",
      "    and general disorder of HTML on the web.\n",
      "    \n",
      "    Expect some cleanup after you call this function. For example,\n",
      "    you might need to pass `infer_types=False` and perform manual conversion if\n",
      "    the column names are converted to NaN when you pass the `header=0`\n",
      "    argument. We try to assume as little as possible about the structure of the\n",
      "    table and push the idiosyncrasies of the HTML contained in the table to\n",
      "    you, the user.\n",
      "    \n",
      "    This function only searches for <table> elements and only for <tr> and <th>\n",
      "    rows and <td> elements within those rows. This could be extended by\n",
      "    subclassing one of the parser classes contained in :mod:`pandas.io.html`.\n",
      "    \n",
      "    Similar to :func:`read_csv` the `header` argument is applied **after**\n",
      "    `skiprows` is applied.\n",
      "    \n",
      "    This function will *always* return a list of :class:`DataFrame` *or*\n",
      "    it will fail, e.g., it will *not* return an empty list.\n",
      "    \n",
      "    Examples\n",
      "    --------\n",
      "    See the :ref:`read_html documentation in the IO section of the docs\n",
      "    <io.read_html>` for many examples of reading HTML.\n",
      "\n"
     ]
    }
   ],
   "source": [
    "help(pd.read_html)"
   ]
  },
  {
   "cell_type": "markdown",
   "metadata": {},
   "source": [
    "#### From the help documentation near the beginning, it says \"Read an HTML table into a DataFrame\".  But not until you scroll down further do you see where it actually says it returns a list of DataFrames.  Oh well, now we know!"
   ]
  },
  {
   "cell_type": "markdown",
   "metadata": {},
   "source": [
    "#### So now, we'll re-create df_html as an actual DataFrame:"
   ]
  },
  {
   "cell_type": "code",
   "execution_count": 122,
   "metadata": {
    "collapsed": false
   },
   "outputs": [],
   "source": [
    "df_html = df_html[0]"
   ]
  },
  {
   "cell_type": "markdown",
   "metadata": {},
   "source": [
    "#### Still, let's make sure it looks ok:"
   ]
  },
  {
   "cell_type": "code",
   "execution_count": 123,
   "metadata": {
    "collapsed": false
   },
   "outputs": [
    {
     "data": {
      "text/html": [
       "<div style=\"max-height:1000px;max-width:1500px;overflow:auto;\">\n",
       "<table border=\"1\" class=\"dataframe\">\n",
       "  <thead>\n",
       "    <tr style=\"text-align: right;\">\n",
       "      <th></th>\n",
       "      <th>*Price</th>\n",
       "      <th>Counts\n",
       "\t</th>\n",
       "      <th>You</th>\n",
       "      <th>WH</th>\n",
       "      <th>Limit\n",
       "</th>\n",
       "    </tr>\n",
       "    <tr>\n",
       "      <th>Name</th>\n",
       "      <th></th>\n",
       "      <th></th>\n",
       "      <th></th>\n",
       "      <th></th>\n",
       "      <th></th>\n",
       "    </tr>\n",
       "  </thead>\n",
       "  <tbody>\n",
       "    <tr>\n",
       "      <th>Genuine Companion Cube Pin</th>\n",
       "      <td> 2,925c</td>\n",
       "      <td> 1</td>\n",
       "      <td>  15</td>\n",
       "      <td>NaN</td>\n",
       "      <td>  15</td>\n",
       "    </tr>\n",
       "    <tr>\n",
       "      <th>A Rather Festive Tree</th>\n",
       "      <td> 4,455c</td>\n",
       "      <td> 1</td>\n",
       "      <td> 100</td>\n",
       "      <td>NaN</td>\n",
       "      <td> 100</td>\n",
       "    </tr>\n",
       "    <tr>\n",
       "      <th>Fall 2013 Acorns Crate</th>\n",
       "      <td>   310c</td>\n",
       "      <td> 2</td>\n",
       "      <td>  10</td>\n",
       "      <td>NaN</td>\n",
       "      <td>  10</td>\n",
       "    </tr>\n",
       "    <tr>\n",
       "      <th>Fall 2013 Gourd Crate</th>\n",
       "      <td>   310c</td>\n",
       "      <td> 4</td>\n",
       "      <td>  10</td>\n",
       "      <td>NaN</td>\n",
       "      <td>  10</td>\n",
       "    </tr>\n",
       "    <tr>\n",
       "      <th>Point and Shoot</th>\n",
       "      <td> 6,185c</td>\n",
       "      <td> 1</td>\n",
       "      <td>  25</td>\n",
       "      <td>NaN</td>\n",
       "      <td>  25</td>\n",
       "    </tr>\n",
       "    <tr>\n",
       "      <th>Strange Part: Gib Kills</th>\n",
       "      <td> 5,460c</td>\n",
       "      <td> 1</td>\n",
       "      <td>   4</td>\n",
       "      <td>NaN</td>\n",
       "      <td>   5</td>\n",
       "    </tr>\n",
       "    <tr>\n",
       "      <th>Strange Enforcer</th>\n",
       "      <td> 1,600c</td>\n",
       "      <td> 1</td>\n",
       "      <td>  17</td>\n",
       "      <td>  1</td>\n",
       "      <td>  15</td>\n",
       "    </tr>\n",
       "    <tr>\n",
       "      <th>Strange Fists of Steel</th>\n",
       "      <td>   375c</td>\n",
       "      <td> 1</td>\n",
       "      <td>  16</td>\n",
       "      <td>NaN</td>\n",
       "      <td>  15</td>\n",
       "    </tr>\n",
       "    <tr>\n",
       "      <th>Strange Killing Gloves of Boxing</th>\n",
       "      <td> 1,780c</td>\n",
       "      <td> 1</td>\n",
       "      <td>  19</td>\n",
       "      <td>NaN</td>\n",
       "      <td>  20</td>\n",
       "    </tr>\n",
       "    <tr>\n",
       "      <th>Strange Medi Gun</th>\n",
       "      <td> 2,700c</td>\n",
       "      <td> 1</td>\n",
       "      <td>  40</td>\n",
       "      <td>NaN</td>\n",
       "      <td>  40</td>\n",
       "    </tr>\n",
       "    <tr>\n",
       "      <th>Strange Neon Annihilator</th>\n",
       "      <td>   370c</td>\n",
       "      <td> 1</td>\n",
       "      <td>  26</td>\n",
       "      <td>  3</td>\n",
       "      <td>  25</td>\n",
       "    </tr>\n",
       "    <tr>\n",
       "      <th>Strange Rust Botkiller Scattergun Mk.I</th>\n",
       "      <td> 7,735c</td>\n",
       "      <td> 1</td>\n",
       "      <td>   1</td>\n",
       "      <td>NaN</td>\n",
       "      <td>   5</td>\n",
       "    </tr>\n",
       "    <tr>\n",
       "      <th>Haunted B-ankh!</th>\n",
       "      <td> 3,420c</td>\n",
       "      <td> 1</td>\n",
       "      <td>   3</td>\n",
       "      <td>NaN</td>\n",
       "      <td>   3</td>\n",
       "    </tr>\n",
       "  </tbody>\n",
       "</table>\n",
       "</div>"
      ],
      "text/plain": [
       "                                        *Price  Counts\\n\\t  You  WH  Limit\\n\n",
       "Name                                                                        \n",
       "Genuine Companion Cube Pin              2,925c           1   15 NaN       15\n",
       "A Rather Festive Tree                   4,455c           1  100 NaN      100\n",
       "Fall 2013 Acorns Crate                    310c           2   10 NaN       10\n",
       "Fall 2013 Gourd Crate                     310c           4   10 NaN       10\n",
       "Point and Shoot                         6,185c           1   25 NaN       25\n",
       "Strange Part: Gib Kills                 5,460c           1    4 NaN        5\n",
       "Strange Enforcer                        1,600c           1   17   1       15\n",
       "Strange Fists of Steel                    375c           1   16 NaN       15\n",
       "Strange Killing Gloves of Boxing        1,780c           1   19 NaN       20\n",
       "Strange Medi Gun                        2,700c           1   40 NaN       40\n",
       "Strange Neon Annihilator                  370c           1   26   3       25\n",
       "Strange Rust Botkiller Scattergun Mk.I  7,735c           1    1 NaN        5\n",
       "Haunted B-ankh!                         3,420c           1    3 NaN        3"
      ]
     },
     "execution_count": 123,
     "metadata": {},
     "output_type": "execute_result"
    }
   ],
   "source": [
    "df_html"
   ]
  },
  {
   "cell_type": "markdown",
   "metadata": {},
   "source": [
    "#### Looking at the table above again, the columns are not quite right.  There's a \"Counts\" column which should really be the \"You\" column, the \"You\" column should really be the \"WH\" column, etc.  Also, what is up with the \"\\n\" and \"\\t\" characters?.  Are those column names really spelled that way?  Let's see:"
   ]
  },
  {
   "cell_type": "code",
   "execution_count": 124,
   "metadata": {
    "collapsed": false
   },
   "outputs": [
    {
     "data": {
      "text/plain": [
       "*Price         object\n",
       "Counts\\n\\t      int64\n",
       "You             int64\n",
       "WH            float64\n",
       "Limit\\n         int64\n",
       "dtype: object"
      ]
     },
     "execution_count": 124,
     "metadata": {},
     "output_type": "execute_result"
    }
   ],
   "source": [
    "df_html.dtypes"
   ]
  },
  {
   "cell_type": "markdown",
   "metadata": {},
   "source": [
    "#### It appears so.  Let's rename the columns to their correct names:"
   ]
  },
  {
   "cell_type": "code",
   "execution_count": 125,
   "metadata": {
    "collapsed": false
   },
   "outputs": [
    {
     "data": {
      "text/html": [
       "<div style=\"max-height:1000px;max-width:1500px;overflow:auto;\">\n",
       "<table border=\"1\" class=\"dataframe\">\n",
       "  <thead>\n",
       "    <tr style=\"text-align: right;\">\n",
       "      <th></th>\n",
       "      <th>Price</th>\n",
       "      <th>You</th>\n",
       "      <th>WH</th>\n",
       "      <th>WH_Diff</th>\n",
       "      <th>Limit</th>\n",
       "    </tr>\n",
       "    <tr>\n",
       "      <th>Name</th>\n",
       "      <th></th>\n",
       "      <th></th>\n",
       "      <th></th>\n",
       "      <th></th>\n",
       "      <th></th>\n",
       "    </tr>\n",
       "  </thead>\n",
       "  <tbody>\n",
       "    <tr>\n",
       "      <th>Genuine Companion Cube Pin</th>\n",
       "      <td> 2,925c</td>\n",
       "      <td> 1</td>\n",
       "      <td>  15</td>\n",
       "      <td>NaN</td>\n",
       "      <td>  15</td>\n",
       "    </tr>\n",
       "    <tr>\n",
       "      <th>A Rather Festive Tree</th>\n",
       "      <td> 4,455c</td>\n",
       "      <td> 1</td>\n",
       "      <td> 100</td>\n",
       "      <td>NaN</td>\n",
       "      <td> 100</td>\n",
       "    </tr>\n",
       "    <tr>\n",
       "      <th>Fall 2013 Acorns Crate</th>\n",
       "      <td>   310c</td>\n",
       "      <td> 2</td>\n",
       "      <td>  10</td>\n",
       "      <td>NaN</td>\n",
       "      <td>  10</td>\n",
       "    </tr>\n",
       "    <tr>\n",
       "      <th>Fall 2013 Gourd Crate</th>\n",
       "      <td>   310c</td>\n",
       "      <td> 4</td>\n",
       "      <td>  10</td>\n",
       "      <td>NaN</td>\n",
       "      <td>  10</td>\n",
       "    </tr>\n",
       "    <tr>\n",
       "      <th>Point and Shoot</th>\n",
       "      <td> 6,185c</td>\n",
       "      <td> 1</td>\n",
       "      <td>  25</td>\n",
       "      <td>NaN</td>\n",
       "      <td>  25</td>\n",
       "    </tr>\n",
       "    <tr>\n",
       "      <th>Strange Part: Gib Kills</th>\n",
       "      <td> 5,460c</td>\n",
       "      <td> 1</td>\n",
       "      <td>   4</td>\n",
       "      <td>NaN</td>\n",
       "      <td>   5</td>\n",
       "    </tr>\n",
       "    <tr>\n",
       "      <th>Strange Enforcer</th>\n",
       "      <td> 1,600c</td>\n",
       "      <td> 1</td>\n",
       "      <td>  17</td>\n",
       "      <td>  1</td>\n",
       "      <td>  15</td>\n",
       "    </tr>\n",
       "    <tr>\n",
       "      <th>Strange Fists of Steel</th>\n",
       "      <td>   375c</td>\n",
       "      <td> 1</td>\n",
       "      <td>  16</td>\n",
       "      <td>NaN</td>\n",
       "      <td>  15</td>\n",
       "    </tr>\n",
       "    <tr>\n",
       "      <th>Strange Killing Gloves of Boxing</th>\n",
       "      <td> 1,780c</td>\n",
       "      <td> 1</td>\n",
       "      <td>  19</td>\n",
       "      <td>NaN</td>\n",
       "      <td>  20</td>\n",
       "    </tr>\n",
       "    <tr>\n",
       "      <th>Strange Medi Gun</th>\n",
       "      <td> 2,700c</td>\n",
       "      <td> 1</td>\n",
       "      <td>  40</td>\n",
       "      <td>NaN</td>\n",
       "      <td>  40</td>\n",
       "    </tr>\n",
       "    <tr>\n",
       "      <th>Strange Neon Annihilator</th>\n",
       "      <td>   370c</td>\n",
       "      <td> 1</td>\n",
       "      <td>  26</td>\n",
       "      <td>  3</td>\n",
       "      <td>  25</td>\n",
       "    </tr>\n",
       "    <tr>\n",
       "      <th>Strange Rust Botkiller Scattergun Mk.I</th>\n",
       "      <td> 7,735c</td>\n",
       "      <td> 1</td>\n",
       "      <td>   1</td>\n",
       "      <td>NaN</td>\n",
       "      <td>   5</td>\n",
       "    </tr>\n",
       "    <tr>\n",
       "      <th>Haunted B-ankh!</th>\n",
       "      <td> 3,420c</td>\n",
       "      <td> 1</td>\n",
       "      <td>   3</td>\n",
       "      <td>NaN</td>\n",
       "      <td>   3</td>\n",
       "    </tr>\n",
       "  </tbody>\n",
       "</table>\n",
       "</div>"
      ],
      "text/plain": [
       "                                         Price  You   WH  WH_Diff  Limit\n",
       "Name                                                                    \n",
       "Genuine Companion Cube Pin              2,925c    1   15      NaN     15\n",
       "A Rather Festive Tree                   4,455c    1  100      NaN    100\n",
       "Fall 2013 Acorns Crate                    310c    2   10      NaN     10\n",
       "Fall 2013 Gourd Crate                     310c    4   10      NaN     10\n",
       "Point and Shoot                         6,185c    1   25      NaN     25\n",
       "Strange Part: Gib Kills                 5,460c    1    4      NaN      5\n",
       "Strange Enforcer                        1,600c    1   17        1     15\n",
       "Strange Fists of Steel                    375c    1   16      NaN     15\n",
       "Strange Killing Gloves of Boxing        1,780c    1   19      NaN     20\n",
       "Strange Medi Gun                        2,700c    1   40      NaN     40\n",
       "Strange Neon Annihilator                  370c    1   26        3     25\n",
       "Strange Rust Botkiller Scattergun Mk.I  7,735c    1    1      NaN      5\n",
       "Haunted B-ankh!                         3,420c    1    3      NaN      3"
      ]
     },
     "execution_count": 125,
     "metadata": {},
     "output_type": "execute_result"
    }
   ],
   "source": [
    "table_html = df_html.rename(columns={'Counts\\n\\t':'You', 'You':'WH', 'WH':'WH_Diff', 'Limit\\n':'Limit', '*Price':'Price'})\n",
    "table_html"
   ]
  },
  {
   "cell_type": "markdown",
   "metadata": {},
   "source": [
    "#### Looks good so far.  But, let's re-write the \"NaN\" (\"Not a Number\") to zeros:"
   ]
  },
  {
   "cell_type": "code",
   "execution_count": 126,
   "metadata": {
    "collapsed": false
   },
   "outputs": [
    {
     "data": {
      "text/html": [
       "<div style=\"max-height:1000px;max-width:1500px;overflow:auto;\">\n",
       "<table border=\"1\" class=\"dataframe\">\n",
       "  <thead>\n",
       "    <tr style=\"text-align: right;\">\n",
       "      <th></th>\n",
       "      <th>Price</th>\n",
       "      <th>You</th>\n",
       "      <th>WH</th>\n",
       "      <th>WH_Diff</th>\n",
       "      <th>Limit</th>\n",
       "    </tr>\n",
       "    <tr>\n",
       "      <th>Name</th>\n",
       "      <th></th>\n",
       "      <th></th>\n",
       "      <th></th>\n",
       "      <th></th>\n",
       "      <th></th>\n",
       "    </tr>\n",
       "  </thead>\n",
       "  <tbody>\n",
       "    <tr>\n",
       "      <th>Genuine Companion Cube Pin</th>\n",
       "      <td> 2,925c</td>\n",
       "      <td> 1</td>\n",
       "      <td>  15</td>\n",
       "      <td> 0</td>\n",
       "      <td>  15</td>\n",
       "    </tr>\n",
       "    <tr>\n",
       "      <th>A Rather Festive Tree</th>\n",
       "      <td> 4,455c</td>\n",
       "      <td> 1</td>\n",
       "      <td> 100</td>\n",
       "      <td> 0</td>\n",
       "      <td> 100</td>\n",
       "    </tr>\n",
       "    <tr>\n",
       "      <th>Fall 2013 Acorns Crate</th>\n",
       "      <td>   310c</td>\n",
       "      <td> 2</td>\n",
       "      <td>  10</td>\n",
       "      <td> 0</td>\n",
       "      <td>  10</td>\n",
       "    </tr>\n",
       "    <tr>\n",
       "      <th>Fall 2013 Gourd Crate</th>\n",
       "      <td>   310c</td>\n",
       "      <td> 4</td>\n",
       "      <td>  10</td>\n",
       "      <td> 0</td>\n",
       "      <td>  10</td>\n",
       "    </tr>\n",
       "    <tr>\n",
       "      <th>Point and Shoot</th>\n",
       "      <td> 6,185c</td>\n",
       "      <td> 1</td>\n",
       "      <td>  25</td>\n",
       "      <td> 0</td>\n",
       "      <td>  25</td>\n",
       "    </tr>\n",
       "    <tr>\n",
       "      <th>Strange Part: Gib Kills</th>\n",
       "      <td> 5,460c</td>\n",
       "      <td> 1</td>\n",
       "      <td>   4</td>\n",
       "      <td> 0</td>\n",
       "      <td>   5</td>\n",
       "    </tr>\n",
       "    <tr>\n",
       "      <th>Strange Enforcer</th>\n",
       "      <td> 1,600c</td>\n",
       "      <td> 1</td>\n",
       "      <td>  17</td>\n",
       "      <td> 1</td>\n",
       "      <td>  15</td>\n",
       "    </tr>\n",
       "    <tr>\n",
       "      <th>Strange Fists of Steel</th>\n",
       "      <td>   375c</td>\n",
       "      <td> 1</td>\n",
       "      <td>  16</td>\n",
       "      <td> 0</td>\n",
       "      <td>  15</td>\n",
       "    </tr>\n",
       "    <tr>\n",
       "      <th>Strange Killing Gloves of Boxing</th>\n",
       "      <td> 1,780c</td>\n",
       "      <td> 1</td>\n",
       "      <td>  19</td>\n",
       "      <td> 0</td>\n",
       "      <td>  20</td>\n",
       "    </tr>\n",
       "    <tr>\n",
       "      <th>Strange Medi Gun</th>\n",
       "      <td> 2,700c</td>\n",
       "      <td> 1</td>\n",
       "      <td>  40</td>\n",
       "      <td> 0</td>\n",
       "      <td>  40</td>\n",
       "    </tr>\n",
       "    <tr>\n",
       "      <th>Strange Neon Annihilator</th>\n",
       "      <td>   370c</td>\n",
       "      <td> 1</td>\n",
       "      <td>  26</td>\n",
       "      <td> 3</td>\n",
       "      <td>  25</td>\n",
       "    </tr>\n",
       "    <tr>\n",
       "      <th>Strange Rust Botkiller Scattergun Mk.I</th>\n",
       "      <td> 7,735c</td>\n",
       "      <td> 1</td>\n",
       "      <td>   1</td>\n",
       "      <td> 0</td>\n",
       "      <td>   5</td>\n",
       "    </tr>\n",
       "    <tr>\n",
       "      <th>Haunted B-ankh!</th>\n",
       "      <td> 3,420c</td>\n",
       "      <td> 1</td>\n",
       "      <td>   3</td>\n",
       "      <td> 0</td>\n",
       "      <td>   3</td>\n",
       "    </tr>\n",
       "  </tbody>\n",
       "</table>\n",
       "</div>"
      ],
      "text/plain": [
       "                                         Price  You   WH  WH_Diff  Limit\n",
       "Name                                                                    \n",
       "Genuine Companion Cube Pin              2,925c    1   15        0     15\n",
       "A Rather Festive Tree                   4,455c    1  100        0    100\n",
       "Fall 2013 Acorns Crate                    310c    2   10        0     10\n",
       "Fall 2013 Gourd Crate                     310c    4   10        0     10\n",
       "Point and Shoot                         6,185c    1   25        0     25\n",
       "Strange Part: Gib Kills                 5,460c    1    4        0      5\n",
       "Strange Enforcer                        1,600c    1   17        1     15\n",
       "Strange Fists of Steel                    375c    1   16        0     15\n",
       "Strange Killing Gloves of Boxing        1,780c    1   19        0     20\n",
       "Strange Medi Gun                        2,700c    1   40        0     40\n",
       "Strange Neon Annihilator                  370c    1   26        3     25\n",
       "Strange Rust Botkiller Scattergun Mk.I  7,735c    1    1        0      5\n",
       "Haunted B-ankh!                         3,420c    1    3        0      3"
      ]
     },
     "execution_count": 126,
     "metadata": {},
     "output_type": "execute_result"
    }
   ],
   "source": [
    "table_html.fillna(value=0, inplace=True)\n",
    "table_html"
   ]
  },
  {
   "cell_type": "markdown",
   "metadata": {},
   "source": [
    "#### But it would be nice to also have the item's status.  So let's create a dataframe for it and then use Pandas' concat() method to merge this dataframe to the table_html dataframe."
   ]
  },
  {
   "cell_type": "code",
   "execution_count": 127,
   "metadata": {
    "collapsed": false
   },
   "outputs": [],
   "source": [
    "df_status = pd.DataFrame({\"Status\":status}, index=item_names)"
   ]
  },
  {
   "cell_type": "code",
   "execution_count": 128,
   "metadata": {
    "collapsed": false
   },
   "outputs": [
    {
     "data": {
      "text/html": [
       "<div style=\"max-height:1000px;max-width:1500px;overflow:auto;\">\n",
       "<table border=\"1\" class=\"dataframe\">\n",
       "  <thead>\n",
       "    <tr style=\"text-align: right;\">\n",
       "      <th></th>\n",
       "      <th>Status</th>\n",
       "    </tr>\n",
       "  </thead>\n",
       "  <tbody>\n",
       "    <tr>\n",
       "      <th>Genuine Companion Cube Pin</th>\n",
       "      <td> overstocked</td>\n",
       "    </tr>\n",
       "    <tr>\n",
       "      <th>A Rather Festive Tree</th>\n",
       "      <td> overstocked</td>\n",
       "    </tr>\n",
       "    <tr>\n",
       "      <th>Fall 2013 Acorns Crate</th>\n",
       "      <td> overstocked</td>\n",
       "    </tr>\n",
       "    <tr>\n",
       "      <th>Fall 2013 Gourd Crate</th>\n",
       "      <td> overstocked</td>\n",
       "    </tr>\n",
       "    <tr>\n",
       "      <th>Point and Shoot</th>\n",
       "      <td> overstocked</td>\n",
       "    </tr>\n",
       "    <tr>\n",
       "      <th>Strange Part: Gib Kills</th>\n",
       "      <td> overstocked</td>\n",
       "    </tr>\n",
       "    <tr>\n",
       "      <th>Strange Enforcer</th>\n",
       "      <td> overstocked</td>\n",
       "    </tr>\n",
       "    <tr>\n",
       "      <th>Strange Fists of Steel</th>\n",
       "      <td> overstocked</td>\n",
       "    </tr>\n",
       "    <tr>\n",
       "      <th>Strange Killing Gloves of Boxing</th>\n",
       "      <td>      normal</td>\n",
       "    </tr>\n",
       "    <tr>\n",
       "      <th>Strange Medi Gun</th>\n",
       "      <td> overstocked</td>\n",
       "    </tr>\n",
       "    <tr>\n",
       "      <th>Strange Neon Annihilator</th>\n",
       "      <td>      normal</td>\n",
       "    </tr>\n",
       "    <tr>\n",
       "      <th>Strange Rust Botkiller Scattergun Mk.I</th>\n",
       "      <td>      normal</td>\n",
       "    </tr>\n",
       "    <tr>\n",
       "      <th>Haunted B-ankh!</th>\n",
       "      <td> overstocked</td>\n",
       "    </tr>\n",
       "  </tbody>\n",
       "</table>\n",
       "</div>"
      ],
      "text/plain": [
       "                                             Status\n",
       "Genuine Companion Cube Pin              overstocked\n",
       "A Rather Festive Tree                   overstocked\n",
       "Fall 2013 Acorns Crate                  overstocked\n",
       "Fall 2013 Gourd Crate                   overstocked\n",
       "Point and Shoot                         overstocked\n",
       "Strange Part: Gib Kills                 overstocked\n",
       "Strange Enforcer                        overstocked\n",
       "Strange Fists of Steel                  overstocked\n",
       "Strange Killing Gloves of Boxing             normal\n",
       "Strange Medi Gun                        overstocked\n",
       "Strange Neon Annihilator                     normal\n",
       "Strange Rust Botkiller Scattergun Mk.I       normal\n",
       "Haunted B-ankh!                         overstocked"
      ]
     },
     "execution_count": 128,
     "metadata": {},
     "output_type": "execute_result"
    }
   ],
   "source": [
    "df_status"
   ]
  },
  {
   "cell_type": "markdown",
   "metadata": {},
   "source": [
    "#### Now, we're ready to concatenate the 2 dataframes together along the columns axis (axis=1):"
   ]
  },
  {
   "cell_type": "code",
   "execution_count": 129,
   "metadata": {
    "collapsed": false
   },
   "outputs": [],
   "source": [
    "table_html = pd.concat([table_html, df_status], axis=1)"
   ]
  },
  {
   "cell_type": "code",
   "execution_count": 130,
   "metadata": {
    "collapsed": false
   },
   "outputs": [
    {
     "data": {
      "text/html": [
       "<div style=\"max-height:1000px;max-width:1500px;overflow:auto;\">\n",
       "<table border=\"1\" class=\"dataframe\">\n",
       "  <thead>\n",
       "    <tr style=\"text-align: right;\">\n",
       "      <th></th>\n",
       "      <th>Price</th>\n",
       "      <th>You</th>\n",
       "      <th>WH</th>\n",
       "      <th>WH_Diff</th>\n",
       "      <th>Limit</th>\n",
       "      <th>Status</th>\n",
       "    </tr>\n",
       "    <tr>\n",
       "      <th>Name</th>\n",
       "      <th></th>\n",
       "      <th></th>\n",
       "      <th></th>\n",
       "      <th></th>\n",
       "      <th></th>\n",
       "      <th></th>\n",
       "    </tr>\n",
       "  </thead>\n",
       "  <tbody>\n",
       "    <tr>\n",
       "      <th>Genuine Companion Cube Pin</th>\n",
       "      <td> 2,925c</td>\n",
       "      <td> 1</td>\n",
       "      <td>  15</td>\n",
       "      <td> 0</td>\n",
       "      <td>  15</td>\n",
       "      <td> overstocked</td>\n",
       "    </tr>\n",
       "    <tr>\n",
       "      <th>A Rather Festive Tree</th>\n",
       "      <td> 4,455c</td>\n",
       "      <td> 1</td>\n",
       "      <td> 100</td>\n",
       "      <td> 0</td>\n",
       "      <td> 100</td>\n",
       "      <td> overstocked</td>\n",
       "    </tr>\n",
       "    <tr>\n",
       "      <th>Fall 2013 Acorns Crate</th>\n",
       "      <td>   310c</td>\n",
       "      <td> 2</td>\n",
       "      <td>  10</td>\n",
       "      <td> 0</td>\n",
       "      <td>  10</td>\n",
       "      <td> overstocked</td>\n",
       "    </tr>\n",
       "    <tr>\n",
       "      <th>Fall 2013 Gourd Crate</th>\n",
       "      <td>   310c</td>\n",
       "      <td> 4</td>\n",
       "      <td>  10</td>\n",
       "      <td> 0</td>\n",
       "      <td>  10</td>\n",
       "      <td> overstocked</td>\n",
       "    </tr>\n",
       "    <tr>\n",
       "      <th>Point and Shoot</th>\n",
       "      <td> 6,185c</td>\n",
       "      <td> 1</td>\n",
       "      <td>  25</td>\n",
       "      <td> 0</td>\n",
       "      <td>  25</td>\n",
       "      <td> overstocked</td>\n",
       "    </tr>\n",
       "    <tr>\n",
       "      <th>Strange Part: Gib Kills</th>\n",
       "      <td> 5,460c</td>\n",
       "      <td> 1</td>\n",
       "      <td>   4</td>\n",
       "      <td> 0</td>\n",
       "      <td>   5</td>\n",
       "      <td> overstocked</td>\n",
       "    </tr>\n",
       "    <tr>\n",
       "      <th>Strange Enforcer</th>\n",
       "      <td> 1,600c</td>\n",
       "      <td> 1</td>\n",
       "      <td>  17</td>\n",
       "      <td> 1</td>\n",
       "      <td>  15</td>\n",
       "      <td> overstocked</td>\n",
       "    </tr>\n",
       "    <tr>\n",
       "      <th>Strange Fists of Steel</th>\n",
       "      <td>   375c</td>\n",
       "      <td> 1</td>\n",
       "      <td>  16</td>\n",
       "      <td> 0</td>\n",
       "      <td>  15</td>\n",
       "      <td> overstocked</td>\n",
       "    </tr>\n",
       "    <tr>\n",
       "      <th>Strange Killing Gloves of Boxing</th>\n",
       "      <td> 1,780c</td>\n",
       "      <td> 1</td>\n",
       "      <td>  19</td>\n",
       "      <td> 0</td>\n",
       "      <td>  20</td>\n",
       "      <td>      normal</td>\n",
       "    </tr>\n",
       "    <tr>\n",
       "      <th>Strange Medi Gun</th>\n",
       "      <td> 2,700c</td>\n",
       "      <td> 1</td>\n",
       "      <td>  40</td>\n",
       "      <td> 0</td>\n",
       "      <td>  40</td>\n",
       "      <td> overstocked</td>\n",
       "    </tr>\n",
       "    <tr>\n",
       "      <th>Strange Neon Annihilator</th>\n",
       "      <td>   370c</td>\n",
       "      <td> 1</td>\n",
       "      <td>  26</td>\n",
       "      <td> 3</td>\n",
       "      <td>  25</td>\n",
       "      <td>      normal</td>\n",
       "    </tr>\n",
       "    <tr>\n",
       "      <th>Strange Rust Botkiller Scattergun Mk.I</th>\n",
       "      <td> 7,735c</td>\n",
       "      <td> 1</td>\n",
       "      <td>   1</td>\n",
       "      <td> 0</td>\n",
       "      <td>   5</td>\n",
       "      <td>      normal</td>\n",
       "    </tr>\n",
       "    <tr>\n",
       "      <th>Haunted B-ankh!</th>\n",
       "      <td> 3,420c</td>\n",
       "      <td> 1</td>\n",
       "      <td>   3</td>\n",
       "      <td> 0</td>\n",
       "      <td>   3</td>\n",
       "      <td> overstocked</td>\n",
       "    </tr>\n",
       "  </tbody>\n",
       "</table>\n",
       "</div>"
      ],
      "text/plain": [
       "                                         Price  You   WH  WH_Diff  Limit       Status\n",
       "Name                                                                                 \n",
       "Genuine Companion Cube Pin              2,925c    1   15        0     15  overstocked\n",
       "A Rather Festive Tree                   4,455c    1  100        0    100  overstocked\n",
       "Fall 2013 Acorns Crate                    310c    2   10        0     10  overstocked\n",
       "Fall 2013 Gourd Crate                     310c    4   10        0     10  overstocked\n",
       "Point and Shoot                         6,185c    1   25        0     25  overstocked\n",
       "Strange Part: Gib Kills                 5,460c    1    4        0      5  overstocked\n",
       "Strange Enforcer                        1,600c    1   17        1     15  overstocked\n",
       "Strange Fists of Steel                    375c    1   16        0     15  overstocked\n",
       "Strange Killing Gloves of Boxing        1,780c    1   19        0     20       normal\n",
       "Strange Medi Gun                        2,700c    1   40        0     40  overstocked\n",
       "Strange Neon Annihilator                  370c    1   26        3     25       normal\n",
       "Strange Rust Botkiller Scattergun Mk.I  7,735c    1    1        0      5       normal\n",
       "Haunted B-ankh!                         3,420c    1    3        0      3  overstocked"
      ]
     },
     "execution_count": 130,
     "metadata": {},
     "output_type": "execute_result"
    }
   ],
   "source": [
    "table_html"
   ]
  },
  {
   "cell_type": "markdown",
   "metadata": {},
   "source": [
    "#### Looks good, but those prices have 'c' and ',' in them.  We're going to use Pandas apply() method where it allows us to use/apply a custom function and create a new column from it based on another column within the dataframe.  This is similar to using a function in an Excel cell."
   ]
  },
  {
   "cell_type": "markdown",
   "metadata": {},
   "source": [
    "#### Let's define a custom function to format the prices:"
   ]
  },
  {
   "cell_type": "code",
   "execution_count": 131,
   "metadata": {
    "collapsed": false
   },
   "outputs": [],
   "source": [
    "def formatPrice(series):\n",
    "    value = series['Price']\n",
    "    return int(value.replace('c','').replace(',',''))"
   ]
  },
  {
   "cell_type": "markdown",
   "metadata": {},
   "source": [
    "#### Now, we can use Panda's apply() method to create a new column called '*Price' (axis=1 means we're going to make a new column, not new row index (axis=0)):"
   ]
  },
  {
   "cell_type": "code",
   "execution_count": 132,
   "metadata": {
    "collapsed": false
   },
   "outputs": [],
   "source": [
    "table_html['*Price'] = table_html.apply(formatPrice, axis=1)"
   ]
  },
  {
   "cell_type": "code",
   "execution_count": 133,
   "metadata": {
    "collapsed": false
   },
   "outputs": [
    {
     "data": {
      "text/html": [
       "<div style=\"max-height:1000px;max-width:1500px;overflow:auto;\">\n",
       "<table border=\"1\" class=\"dataframe\">\n",
       "  <thead>\n",
       "    <tr style=\"text-align: right;\">\n",
       "      <th></th>\n",
       "      <th>Price</th>\n",
       "      <th>You</th>\n",
       "      <th>WH</th>\n",
       "      <th>WH_Diff</th>\n",
       "      <th>Limit</th>\n",
       "      <th>Status</th>\n",
       "      <th>*Price</th>\n",
       "    </tr>\n",
       "    <tr>\n",
       "      <th>Name</th>\n",
       "      <th></th>\n",
       "      <th></th>\n",
       "      <th></th>\n",
       "      <th></th>\n",
       "      <th></th>\n",
       "      <th></th>\n",
       "      <th></th>\n",
       "    </tr>\n",
       "  </thead>\n",
       "  <tbody>\n",
       "    <tr>\n",
       "      <th>Genuine Companion Cube Pin</th>\n",
       "      <td> 2,925c</td>\n",
       "      <td> 1</td>\n",
       "      <td>  15</td>\n",
       "      <td> 0</td>\n",
       "      <td>  15</td>\n",
       "      <td> overstocked</td>\n",
       "      <td> 2925</td>\n",
       "    </tr>\n",
       "    <tr>\n",
       "      <th>A Rather Festive Tree</th>\n",
       "      <td> 4,455c</td>\n",
       "      <td> 1</td>\n",
       "      <td> 100</td>\n",
       "      <td> 0</td>\n",
       "      <td> 100</td>\n",
       "      <td> overstocked</td>\n",
       "      <td> 4455</td>\n",
       "    </tr>\n",
       "    <tr>\n",
       "      <th>Fall 2013 Acorns Crate</th>\n",
       "      <td>   310c</td>\n",
       "      <td> 2</td>\n",
       "      <td>  10</td>\n",
       "      <td> 0</td>\n",
       "      <td>  10</td>\n",
       "      <td> overstocked</td>\n",
       "      <td>  310</td>\n",
       "    </tr>\n",
       "    <tr>\n",
       "      <th>Fall 2013 Gourd Crate</th>\n",
       "      <td>   310c</td>\n",
       "      <td> 4</td>\n",
       "      <td>  10</td>\n",
       "      <td> 0</td>\n",
       "      <td>  10</td>\n",
       "      <td> overstocked</td>\n",
       "      <td>  310</td>\n",
       "    </tr>\n",
       "    <tr>\n",
       "      <th>Point and Shoot</th>\n",
       "      <td> 6,185c</td>\n",
       "      <td> 1</td>\n",
       "      <td>  25</td>\n",
       "      <td> 0</td>\n",
       "      <td>  25</td>\n",
       "      <td> overstocked</td>\n",
       "      <td> 6185</td>\n",
       "    </tr>\n",
       "    <tr>\n",
       "      <th>Strange Part: Gib Kills</th>\n",
       "      <td> 5,460c</td>\n",
       "      <td> 1</td>\n",
       "      <td>   4</td>\n",
       "      <td> 0</td>\n",
       "      <td>   5</td>\n",
       "      <td> overstocked</td>\n",
       "      <td> 5460</td>\n",
       "    </tr>\n",
       "    <tr>\n",
       "      <th>Strange Enforcer</th>\n",
       "      <td> 1,600c</td>\n",
       "      <td> 1</td>\n",
       "      <td>  17</td>\n",
       "      <td> 1</td>\n",
       "      <td>  15</td>\n",
       "      <td> overstocked</td>\n",
       "      <td> 1600</td>\n",
       "    </tr>\n",
       "    <tr>\n",
       "      <th>Strange Fists of Steel</th>\n",
       "      <td>   375c</td>\n",
       "      <td> 1</td>\n",
       "      <td>  16</td>\n",
       "      <td> 0</td>\n",
       "      <td>  15</td>\n",
       "      <td> overstocked</td>\n",
       "      <td>  375</td>\n",
       "    </tr>\n",
       "    <tr>\n",
       "      <th>Strange Killing Gloves of Boxing</th>\n",
       "      <td> 1,780c</td>\n",
       "      <td> 1</td>\n",
       "      <td>  19</td>\n",
       "      <td> 0</td>\n",
       "      <td>  20</td>\n",
       "      <td>      normal</td>\n",
       "      <td> 1780</td>\n",
       "    </tr>\n",
       "    <tr>\n",
       "      <th>Strange Medi Gun</th>\n",
       "      <td> 2,700c</td>\n",
       "      <td> 1</td>\n",
       "      <td>  40</td>\n",
       "      <td> 0</td>\n",
       "      <td>  40</td>\n",
       "      <td> overstocked</td>\n",
       "      <td> 2700</td>\n",
       "    </tr>\n",
       "    <tr>\n",
       "      <th>Strange Neon Annihilator</th>\n",
       "      <td>   370c</td>\n",
       "      <td> 1</td>\n",
       "      <td>  26</td>\n",
       "      <td> 3</td>\n",
       "      <td>  25</td>\n",
       "      <td>      normal</td>\n",
       "      <td>  370</td>\n",
       "    </tr>\n",
       "    <tr>\n",
       "      <th>Strange Rust Botkiller Scattergun Mk.I</th>\n",
       "      <td> 7,735c</td>\n",
       "      <td> 1</td>\n",
       "      <td>   1</td>\n",
       "      <td> 0</td>\n",
       "      <td>   5</td>\n",
       "      <td>      normal</td>\n",
       "      <td> 7735</td>\n",
       "    </tr>\n",
       "    <tr>\n",
       "      <th>Haunted B-ankh!</th>\n",
       "      <td> 3,420c</td>\n",
       "      <td> 1</td>\n",
       "      <td>   3</td>\n",
       "      <td> 0</td>\n",
       "      <td>   3</td>\n",
       "      <td> overstocked</td>\n",
       "      <td> 3420</td>\n",
       "    </tr>\n",
       "  </tbody>\n",
       "</table>\n",
       "</div>"
      ],
      "text/plain": [
       "                                         Price  You   WH  WH_Diff  Limit  \\\n",
       "Name                                                                       \n",
       "Genuine Companion Cube Pin              2,925c    1   15        0     15   \n",
       "A Rather Festive Tree                   4,455c    1  100        0    100   \n",
       "Fall 2013 Acorns Crate                    310c    2   10        0     10   \n",
       "Fall 2013 Gourd Crate                     310c    4   10        0     10   \n",
       "Point and Shoot                         6,185c    1   25        0     25   \n",
       "Strange Part: Gib Kills                 5,460c    1    4        0      5   \n",
       "Strange Enforcer                        1,600c    1   17        1     15   \n",
       "Strange Fists of Steel                    375c    1   16        0     15   \n",
       "Strange Killing Gloves of Boxing        1,780c    1   19        0     20   \n",
       "Strange Medi Gun                        2,700c    1   40        0     40   \n",
       "Strange Neon Annihilator                  370c    1   26        3     25   \n",
       "Strange Rust Botkiller Scattergun Mk.I  7,735c    1    1        0      5   \n",
       "Haunted B-ankh!                         3,420c    1    3        0      3   \n",
       "\n",
       "                                             Status  *Price  \n",
       "Name                                                         \n",
       "Genuine Companion Cube Pin              overstocked    2925  \n",
       "A Rather Festive Tree                   overstocked    4455  \n",
       "Fall 2013 Acorns Crate                  overstocked     310  \n",
       "Fall 2013 Gourd Crate                   overstocked     310  \n",
       "Point and Shoot                         overstocked    6185  \n",
       "Strange Part: Gib Kills                 overstocked    5460  \n",
       "Strange Enforcer                        overstocked    1600  \n",
       "Strange Fists of Steel                  overstocked     375  \n",
       "Strange Killing Gloves of Boxing             normal    1780  \n",
       "Strange Medi Gun                        overstocked    2700  \n",
       "Strange Neon Annihilator                     normal     370  \n",
       "Strange Rust Botkiller Scattergun Mk.I       normal    7735  \n",
       "Haunted B-ankh!                         overstocked    3420  "
      ]
     },
     "execution_count": 133,
     "metadata": {},
     "output_type": "execute_result"
    }
   ],
   "source": [
    "table_html"
   ]
  },
  {
   "cell_type": "markdown",
   "metadata": {},
   "source": [
    "#### Looks good, but we still have that dumb 'Price' column, so let's drop it:"
   ]
  },
  {
   "cell_type": "code",
   "execution_count": 134,
   "metadata": {
    "collapsed": false
   },
   "outputs": [],
   "source": [
    "table_html = table_html.drop('Price', axis=1)"
   ]
  },
  {
   "cell_type": "code",
   "execution_count": 135,
   "metadata": {
    "collapsed": false
   },
   "outputs": [
    {
     "data": {
      "text/html": [
       "<div style=\"max-height:1000px;max-width:1500px;overflow:auto;\">\n",
       "<table border=\"1\" class=\"dataframe\">\n",
       "  <thead>\n",
       "    <tr style=\"text-align: right;\">\n",
       "      <th></th>\n",
       "      <th>You</th>\n",
       "      <th>WH</th>\n",
       "      <th>WH_Diff</th>\n",
       "      <th>Limit</th>\n",
       "      <th>Status</th>\n",
       "      <th>*Price</th>\n",
       "    </tr>\n",
       "    <tr>\n",
       "      <th>Name</th>\n",
       "      <th></th>\n",
       "      <th></th>\n",
       "      <th></th>\n",
       "      <th></th>\n",
       "      <th></th>\n",
       "      <th></th>\n",
       "    </tr>\n",
       "  </thead>\n",
       "  <tbody>\n",
       "    <tr>\n",
       "      <th>Genuine Companion Cube Pin</th>\n",
       "      <td> 1</td>\n",
       "      <td>  15</td>\n",
       "      <td> 0</td>\n",
       "      <td>  15</td>\n",
       "      <td> overstocked</td>\n",
       "      <td> 2925</td>\n",
       "    </tr>\n",
       "    <tr>\n",
       "      <th>A Rather Festive Tree</th>\n",
       "      <td> 1</td>\n",
       "      <td> 100</td>\n",
       "      <td> 0</td>\n",
       "      <td> 100</td>\n",
       "      <td> overstocked</td>\n",
       "      <td> 4455</td>\n",
       "    </tr>\n",
       "    <tr>\n",
       "      <th>Fall 2013 Acorns Crate</th>\n",
       "      <td> 2</td>\n",
       "      <td>  10</td>\n",
       "      <td> 0</td>\n",
       "      <td>  10</td>\n",
       "      <td> overstocked</td>\n",
       "      <td>  310</td>\n",
       "    </tr>\n",
       "    <tr>\n",
       "      <th>Fall 2013 Gourd Crate</th>\n",
       "      <td> 4</td>\n",
       "      <td>  10</td>\n",
       "      <td> 0</td>\n",
       "      <td>  10</td>\n",
       "      <td> overstocked</td>\n",
       "      <td>  310</td>\n",
       "    </tr>\n",
       "    <tr>\n",
       "      <th>Point and Shoot</th>\n",
       "      <td> 1</td>\n",
       "      <td>  25</td>\n",
       "      <td> 0</td>\n",
       "      <td>  25</td>\n",
       "      <td> overstocked</td>\n",
       "      <td> 6185</td>\n",
       "    </tr>\n",
       "    <tr>\n",
       "      <th>Strange Part: Gib Kills</th>\n",
       "      <td> 1</td>\n",
       "      <td>   4</td>\n",
       "      <td> 0</td>\n",
       "      <td>   5</td>\n",
       "      <td> overstocked</td>\n",
       "      <td> 5460</td>\n",
       "    </tr>\n",
       "    <tr>\n",
       "      <th>Strange Enforcer</th>\n",
       "      <td> 1</td>\n",
       "      <td>  17</td>\n",
       "      <td> 1</td>\n",
       "      <td>  15</td>\n",
       "      <td> overstocked</td>\n",
       "      <td> 1600</td>\n",
       "    </tr>\n",
       "    <tr>\n",
       "      <th>Strange Fists of Steel</th>\n",
       "      <td> 1</td>\n",
       "      <td>  16</td>\n",
       "      <td> 0</td>\n",
       "      <td>  15</td>\n",
       "      <td> overstocked</td>\n",
       "      <td>  375</td>\n",
       "    </tr>\n",
       "    <tr>\n",
       "      <th>Strange Killing Gloves of Boxing</th>\n",
       "      <td> 1</td>\n",
       "      <td>  19</td>\n",
       "      <td> 0</td>\n",
       "      <td>  20</td>\n",
       "      <td>      normal</td>\n",
       "      <td> 1780</td>\n",
       "    </tr>\n",
       "    <tr>\n",
       "      <th>Strange Medi Gun</th>\n",
       "      <td> 1</td>\n",
       "      <td>  40</td>\n",
       "      <td> 0</td>\n",
       "      <td>  40</td>\n",
       "      <td> overstocked</td>\n",
       "      <td> 2700</td>\n",
       "    </tr>\n",
       "    <tr>\n",
       "      <th>Strange Neon Annihilator</th>\n",
       "      <td> 1</td>\n",
       "      <td>  26</td>\n",
       "      <td> 3</td>\n",
       "      <td>  25</td>\n",
       "      <td>      normal</td>\n",
       "      <td>  370</td>\n",
       "    </tr>\n",
       "    <tr>\n",
       "      <th>Strange Rust Botkiller Scattergun Mk.I</th>\n",
       "      <td> 1</td>\n",
       "      <td>   1</td>\n",
       "      <td> 0</td>\n",
       "      <td>   5</td>\n",
       "      <td>      normal</td>\n",
       "      <td> 7735</td>\n",
       "    </tr>\n",
       "    <tr>\n",
       "      <th>Haunted B-ankh!</th>\n",
       "      <td> 1</td>\n",
       "      <td>   3</td>\n",
       "      <td> 0</td>\n",
       "      <td>   3</td>\n",
       "      <td> overstocked</td>\n",
       "      <td> 3420</td>\n",
       "    </tr>\n",
       "  </tbody>\n",
       "</table>\n",
       "</div>"
      ],
      "text/plain": [
       "                                        You   WH  WH_Diff  Limit       Status  *Price\n",
       "Name                                                                                 \n",
       "Genuine Companion Cube Pin                1   15        0     15  overstocked    2925\n",
       "A Rather Festive Tree                     1  100        0    100  overstocked    4455\n",
       "Fall 2013 Acorns Crate                    2   10        0     10  overstocked     310\n",
       "Fall 2013 Gourd Crate                     4   10        0     10  overstocked     310\n",
       "Point and Shoot                           1   25        0     25  overstocked    6185\n",
       "Strange Part: Gib Kills                   1    4        0      5  overstocked    5460\n",
       "Strange Enforcer                          1   17        1     15  overstocked    1600\n",
       "Strange Fists of Steel                    1   16        0     15  overstocked     375\n",
       "Strange Killing Gloves of Boxing          1   19        0     20       normal    1780\n",
       "Strange Medi Gun                          1   40        0     40  overstocked    2700\n",
       "Strange Neon Annihilator                  1   26        3     25       normal     370\n",
       "Strange Rust Botkiller Scattergun Mk.I    1    1        0      5       normal    7735\n",
       "Haunted B-ankh!                           1    3        0      3  overstocked    3420"
      ]
     },
     "execution_count": 135,
     "metadata": {},
     "output_type": "execute_result"
    }
   ],
   "source": [
    "table_html"
   ]
  },
  {
   "cell_type": "markdown",
   "metadata": {},
   "source": [
    "#### Sweet, it is gone, but the order of our table columns are not what I want them to be so I'm going to re-arrange them:"
   ]
  },
  {
   "cell_type": "code",
   "execution_count": 136,
   "metadata": {
    "collapsed": false
   },
   "outputs": [
    {
     "data": {
      "text/html": [
       "<div style=\"max-height:1000px;max-width:1500px;overflow:auto;\">\n",
       "<table border=\"1\" class=\"dataframe\">\n",
       "  <thead>\n",
       "    <tr style=\"text-align: right;\">\n",
       "      <th></th>\n",
       "      <th>*Price</th>\n",
       "      <th>You</th>\n",
       "      <th>WH</th>\n",
       "      <th>WH_Diff</th>\n",
       "      <th>Limit</th>\n",
       "      <th>Status</th>\n",
       "    </tr>\n",
       "    <tr>\n",
       "      <th>Name</th>\n",
       "      <th></th>\n",
       "      <th></th>\n",
       "      <th></th>\n",
       "      <th></th>\n",
       "      <th></th>\n",
       "      <th></th>\n",
       "    </tr>\n",
       "  </thead>\n",
       "  <tbody>\n",
       "    <tr>\n",
       "      <th>Genuine Companion Cube Pin</th>\n",
       "      <td> 2925</td>\n",
       "      <td> 1</td>\n",
       "      <td>  15</td>\n",
       "      <td> 0</td>\n",
       "      <td>  15</td>\n",
       "      <td> overstocked</td>\n",
       "    </tr>\n",
       "    <tr>\n",
       "      <th>A Rather Festive Tree</th>\n",
       "      <td> 4455</td>\n",
       "      <td> 1</td>\n",
       "      <td> 100</td>\n",
       "      <td> 0</td>\n",
       "      <td> 100</td>\n",
       "      <td> overstocked</td>\n",
       "    </tr>\n",
       "    <tr>\n",
       "      <th>Fall 2013 Acorns Crate</th>\n",
       "      <td>  310</td>\n",
       "      <td> 2</td>\n",
       "      <td>  10</td>\n",
       "      <td> 0</td>\n",
       "      <td>  10</td>\n",
       "      <td> overstocked</td>\n",
       "    </tr>\n",
       "    <tr>\n",
       "      <th>Fall 2013 Gourd Crate</th>\n",
       "      <td>  310</td>\n",
       "      <td> 4</td>\n",
       "      <td>  10</td>\n",
       "      <td> 0</td>\n",
       "      <td>  10</td>\n",
       "      <td> overstocked</td>\n",
       "    </tr>\n",
       "    <tr>\n",
       "      <th>Point and Shoot</th>\n",
       "      <td> 6185</td>\n",
       "      <td> 1</td>\n",
       "      <td>  25</td>\n",
       "      <td> 0</td>\n",
       "      <td>  25</td>\n",
       "      <td> overstocked</td>\n",
       "    </tr>\n",
       "    <tr>\n",
       "      <th>Strange Part: Gib Kills</th>\n",
       "      <td> 5460</td>\n",
       "      <td> 1</td>\n",
       "      <td>   4</td>\n",
       "      <td> 0</td>\n",
       "      <td>   5</td>\n",
       "      <td> overstocked</td>\n",
       "    </tr>\n",
       "    <tr>\n",
       "      <th>Strange Enforcer</th>\n",
       "      <td> 1600</td>\n",
       "      <td> 1</td>\n",
       "      <td>  17</td>\n",
       "      <td> 1</td>\n",
       "      <td>  15</td>\n",
       "      <td> overstocked</td>\n",
       "    </tr>\n",
       "    <tr>\n",
       "      <th>Strange Fists of Steel</th>\n",
       "      <td>  375</td>\n",
       "      <td> 1</td>\n",
       "      <td>  16</td>\n",
       "      <td> 0</td>\n",
       "      <td>  15</td>\n",
       "      <td> overstocked</td>\n",
       "    </tr>\n",
       "    <tr>\n",
       "      <th>Strange Killing Gloves of Boxing</th>\n",
       "      <td> 1780</td>\n",
       "      <td> 1</td>\n",
       "      <td>  19</td>\n",
       "      <td> 0</td>\n",
       "      <td>  20</td>\n",
       "      <td>      normal</td>\n",
       "    </tr>\n",
       "    <tr>\n",
       "      <th>Strange Medi Gun</th>\n",
       "      <td> 2700</td>\n",
       "      <td> 1</td>\n",
       "      <td>  40</td>\n",
       "      <td> 0</td>\n",
       "      <td>  40</td>\n",
       "      <td> overstocked</td>\n",
       "    </tr>\n",
       "    <tr>\n",
       "      <th>Strange Neon Annihilator</th>\n",
       "      <td>  370</td>\n",
       "      <td> 1</td>\n",
       "      <td>  26</td>\n",
       "      <td> 3</td>\n",
       "      <td>  25</td>\n",
       "      <td>      normal</td>\n",
       "    </tr>\n",
       "    <tr>\n",
       "      <th>Strange Rust Botkiller Scattergun Mk.I</th>\n",
       "      <td> 7735</td>\n",
       "      <td> 1</td>\n",
       "      <td>   1</td>\n",
       "      <td> 0</td>\n",
       "      <td>   5</td>\n",
       "      <td>      normal</td>\n",
       "    </tr>\n",
       "    <tr>\n",
       "      <th>Haunted B-ankh!</th>\n",
       "      <td> 3420</td>\n",
       "      <td> 1</td>\n",
       "      <td>   3</td>\n",
       "      <td> 0</td>\n",
       "      <td>   3</td>\n",
       "      <td> overstocked</td>\n",
       "    </tr>\n",
       "  </tbody>\n",
       "</table>\n",
       "</div>"
      ],
      "text/plain": [
       "                                        *Price  You   WH  WH_Diff  Limit       Status\n",
       "Name                                                                                 \n",
       "Genuine Companion Cube Pin                2925    1   15        0     15  overstocked\n",
       "A Rather Festive Tree                     4455    1  100        0    100  overstocked\n",
       "Fall 2013 Acorns Crate                     310    2   10        0     10  overstocked\n",
       "Fall 2013 Gourd Crate                      310    4   10        0     10  overstocked\n",
       "Point and Shoot                           6185    1   25        0     25  overstocked\n",
       "Strange Part: Gib Kills                   5460    1    4        0      5  overstocked\n",
       "Strange Enforcer                          1600    1   17        1     15  overstocked\n",
       "Strange Fists of Steel                     375    1   16        0     15  overstocked\n",
       "Strange Killing Gloves of Boxing          1780    1   19        0     20       normal\n",
       "Strange Medi Gun                          2700    1   40        0     40  overstocked\n",
       "Strange Neon Annihilator                   370    1   26        3     25       normal\n",
       "Strange Rust Botkiller Scattergun Mk.I    7735    1    1        0      5       normal\n",
       "Haunted B-ankh!                           3420    1    3        0      3  overstocked"
      ]
     },
     "execution_count": 136,
     "metadata": {},
     "output_type": "execute_result"
    }
   ],
   "source": [
    "table_html = table_html[['*Price', 'You', 'WH', 'WH_Diff', 'Limit', 'Status']]\n",
    "table_html"
   ]
  },
  {
   "cell_type": "code",
   "execution_count": 137,
   "metadata": {
    "collapsed": false
   },
   "outputs": [
    {
     "name": "stdout",
     "output_type": "stream",
     "text": [
      "The sum of all the items' prices is:  37625\n"
     ]
    }
   ],
   "source": [
    "print(\"The sum of all the items' prices is: \", table_html['*Price'].sum())"
   ]
  },
  {
   "cell_type": "markdown",
   "metadata": {},
   "source": [
    "#### We're done!"
   ]
  }
 ],
 "metadata": {
  "kernelspec": {
   "display_name": "Python 3",
   "language": "python",
   "name": "python3"
  },
  "language_info": {
   "codemirror_mode": {
    "name": "ipython",
    "version": 3
   },
   "file_extension": ".py",
   "mimetype": "text/x-python",
   "name": "python",
   "nbconvert_exporter": "python",
   "pygments_lexer": "ipython3",
   "version": "3.4.2"
  }
 },
 "nbformat": 4,
 "nbformat_minor": 0
}
