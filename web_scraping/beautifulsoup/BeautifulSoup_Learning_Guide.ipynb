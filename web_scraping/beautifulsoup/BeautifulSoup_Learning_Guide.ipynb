{
 "cells": [
  {
   "cell_type": "code",
   "execution_count": 5,
   "metadata": {},
   "outputs": [],
   "source": [
    "from urllib.request import urlopen\n",
    "import requests # Alternatively, we can use requests library instead of urllib\n",
    "from bs4 import BeautifulSoup\n",
    "\n",
    "html = urlopen('http://www.pythonscraping.com/pages/page1.html')\n",
    "# html = requests.get('http://www.pythonscraping.com/pages/page1.html')\n",
    "\n",
    "bs = BeautifulSoup(html, 'html.parser')"
   ]
  },
  {
   "cell_type": "raw",
   "metadata": {},
   "source": [
    "<html>\n",
    "<head>\n",
    "<title>A Useful Page</title>\n",
    "</head>\n",
    "<body>\n",
    "<h1>An Interesting Title</h1>\n",
    "<div>\n",
    "Lorem ipsum dolor sit amet, consectetur adipisicing elit, sed do eiusmod tempor incididunt ut labore et dolore magna aliqua. Ut enim ad minim veniam, quis nostrud exercitation ullamco laboris nisi ut aliquip ex ea commodo consequat. Duis aute irure dolor in reprehenderit in voluptate velit esse cillum dolore eu fugiat nulla pariatur. Excepteur sint occaecat cupidatat non proident, sunt in culpa qui officia deserunt mollit anim id est laborum.\n",
    "</div>\n",
    "</body>\n",
    "</html>"
   ]
  },
  {
   "cell_type": "markdown",
   "metadata": {},
   "source": [
    "**html title with tags:**"
   ]
  },
  {
   "cell_type": "code",
   "execution_count": 8,
   "metadata": {},
   "outputs": [
    {
     "data": {
      "text/plain": [
       "<title>A Useful Page</title>"
      ]
     },
     "execution_count": 8,
     "metadata": {},
     "output_type": "execute_result"
    }
   ],
   "source": [
    "bs.title"
   ]
  },
  {
   "cell_type": "markdown",
   "metadata": {},
   "source": [
    "**html title without tags or just the string/text:**"
   ]
  },
  {
   "cell_type": "code",
   "execution_count": 9,
   "metadata": {},
   "outputs": [
    {
     "data": {
      "text/plain": [
       "'A Useful Page'"
      ]
     },
     "execution_count": 9,
     "metadata": {},
     "output_type": "execute_result"
    }
   ],
   "source": [
    "bs.title.get_text()"
   ]
  },
  {
   "cell_type": "markdown",
   "metadata": {},
   "source": [
    "**This gives same results:**"
   ]
  },
  {
   "cell_type": "code",
   "execution_count": 12,
   "metadata": {},
   "outputs": [
    {
     "data": {
      "text/plain": [
       "'A Useful Page'"
      ]
     },
     "execution_count": 12,
     "metadata": {},
     "output_type": "execute_result"
    }
   ],
   "source": [
    "bs.html.title.get_text()"
   ]
  },
  {
   "cell_type": "code",
   "execution_count": 14,
   "metadata": {},
   "outputs": [],
   "source": [
    "from urllib.request import urlopen\n",
    "import requests # Alternatively, we can use requests library instead of urllib\n",
    "from bs4 import BeautifulSoup\n",
    "\n",
    "html = urlopen('http://www.pythonscraping.com/pages/warandpeace.html')\n",
    "# html = requests.get('http://www.pythonscraping.com/pages/page1.html')\n",
    "\n",
    "bs = BeautifulSoup(html, 'html.parser')"
   ]
  },
  {
   "cell_type": "raw",
   "metadata": {},
   "source": [
    "<html>\n",
    "<head>\n",
    "<style>\n",
    ".green{\n",
    "\tcolor:#55ff55;\n",
    "}\n",
    ".red{\n",
    "\tcolor:#ff5555;\n",
    "}\n",
    "#text{\n",
    "\twidth:50%;\n",
    "}\n",
    "</style>\n",
    "</head>\n",
    "<body>\n",
    "<h1>War and Peace</h1>\n",
    "<h2>Chapter 1</h2>\n",
    "<div id=\"text\">\n",
    "\"<span class=\"red\">Well, Prince, so Genoa and Lucca are now just family estates of the\n",
    "Buonapartes. But I warn you, if you don't tell me that this means war,\n",
    "if you still try to defend the infamies and horrors perpetrated by\n",
    "that Antichrist- I really believe he is Antichrist- I will have\n",
    "nothing more to do with you and you are no longer my friend, no longer\n",
    "my 'faithful slave,' as you call yourself! But how do you do? I see\n",
    "I have frightened you- sit down and tell me all the news.</span>\"\n",
    "<p/>\n",
    "It was in July, 1805, and the speaker was the well-known <span class=\"green\">Anna\n",
    "Pavlovna Scherer</span>, maid of honor and favorite of the <span class=\"green\">Empress Marya\n",
    "Fedorovna</span>. With these words she greeted <span class=\"green\">Prince Vasili Kuragin</span>, a man\n",
    "of high rank and importance, who was the first to arrive at her\n",
    "reception. <span class=\"green\">Anna Pavlovna</span> had had a cough for some days. She was, as\n",
    "she said, suffering from la grippe; grippe being then a new word in\n",
    "<span class=\"green\">St. Petersburg</span>, used only by the elite.\n",
    "<p/>\n",
    "All her invitations without exception, written in French, and\n",
    "delivered by a scarlet-liveried footman that morning, ran as follows:\n",
    "<p/>\n",
    "\"<span class=\"red\">If you have nothing better to do, Count [or Prince], and if the\n",
    "prospect of spending an evening with a poor invalid is not too\n",
    "terrible, I shall be very charmed to see you tonight between 7 and 10-\n",
    "Annette Scherer.</span>\"\n",
    "<p/>\n",
    "\"<span class=\"red\">Heavens! what a virulent attack!</span>\" replied <span class=\"green\">the prince</span>, not in the\n",
    "least disconcerted by this reception. He had just entered, wearing\n",
    "an embroidered court uniform, knee breeches, and shoes, and had\n",
    "stars on his breast and a serene expression on his flat face. He spoke\n",
    "in that refined French in which our grandfathers not only spoke but\n",
    "thought, and with the gentle, patronizing intonation natural to a\n",
    "man of importance who had grown old in society and at court. He went\n",
    "up to <span class=\"green\">Anna Pavlovna</span>, kissed her hand, presenting to her his bald,\n",
    "scented, and shining head, and complacently seated himself on the\n",
    "sofa.\n",
    "<p/>\n",
    "\"<span class=\"red\">First of all, dear friend, tell me how you are. Set your friend's\n",
    "mind at rest,</span>\" said he without altering his tone, beneath the\n",
    "politeness and affected sympathy of which indifference and even\n",
    "irony could be discerned.\n",
    "<p/>\n",
    "\"<span class=\"red\">Can one be well while suffering morally? Can one be calm in times\n",
    "like these if one has any feeling?</span>\" said <span class=\"green\">Anna Pavlovna</span>. \"<span class=\"red\">You are\n",
    "staying the whole evening, I hope?</span>\"\n",
    "<p/>\n",
    "\"<span class=\"red\">And the fete at the English ambassador's? Today is Wednesday. I\n",
    "must put in an appearance there,</span>\" said <span class=\"green\">the prince</span>. \"<span class=\"red\">My daughter is\n",
    "coming for me to take me there.</span>\"\n",
    "<p/>\n",
    "\"<span class=\"red\">I thought today's fete had been canceled. I confess all these\n",
    "festivities and fireworks are becoming wearisome.</span>\"\n",
    "<p/>\n",
    "\"<span class=\"red\">If they had known that you wished it, the entertainment would\n",
    "have been put off,</span>\" said <span class=\"green\">the prince</span>, who, like a wound-up clock, by\n",
    "force of habit said things he did not even wish to be believed.\n",
    "<p/>\n",
    "\"<span class=\"red\">Don't tease! Well, and what has been decided about Novosiltsev's\n",
    "dispatch? You know everything.</span>\"\n",
    "<p/>\n",
    "\"<span class=\"red\">What can one say about it?</span>\" replied <span class=\"green\">the prince</span> in a cold,\n",
    "listless tone. \"<span class=\"red\">What has been decided? They have decided that\n",
    "Buonaparte has burnt his boats, and I believe that we are ready to\n",
    "burn ours.</span>\"\n",
    "<p/>\n",
    "<span class=\"green\">Prince Vasili</span> always spoke languidly, like an actor repeating a\n",
    "stale part. <span class=\"green\">Anna Pavlovna</span> Scherer on the contrary, despite her forty\n",
    "years, overflowed with animation and impulsiveness. To be an\n",
    "enthusiast had become her social vocation and, sometimes even when she\n",
    "did not feel like it, she became enthusiastic in order not to\n",
    "disappoint the expectations of those who knew her. The subdued smile\n",
    "which, though it did not suit her faded features, always played\n",
    "round her lips expressed, as in a spoiled child, a continual\n",
    "consciousness of her charming defect, which she neither wished, nor\n",
    "could, nor considered it necessary, to correct.\n",
    "<p/>\n",
    "In the midst of a conversation on political matters <span class=\"green\">Anna Pavlovna</span>\n",
    "burst out:\n",
    "<p/>\n",
    "\"<span class=\"red\">Oh, don't speak to me of Austria. Perhaps I don't understand\n",
    "things, but Austria never has wished, and does not wish, for war.\n",
    "She is betraying us! Russia alone must save Europe. Our gracious\n",
    "sovereign recognizes his high vocation and will be true to it. That is\n",
    "the one thing I have faith in! Our good and wonderful sovereign has to\n",
    "perform the noblest role on earth, and he is so virtuous and noble\n",
    "that God will not forsake him. He will fulfill his vocation and\n",
    "crush the hydra of revolution, which has become more terrible than\n",
    "ever in the person of this murderer and villain! We alone must\n",
    "avenge the blood of the just one.... Whom, I ask you, can we rely\n",
    "on?... England with her commercial spirit will not and cannot\n",
    "understand the Emperor Alexander's loftiness of soul. She has\n",
    "refused to evacuate Malta. She wanted to find, and still seeks, some\n",
    "secret motive in our actions. What answer did Novosiltsev get? None.\n",
    "The English have not understood and cannot understand the\n",
    "self-abnegation of our Emperor who wants nothing for himself, but only\n",
    "desires the good of mankind. And what have they promised? Nothing! And\n",
    "what little they have promised they will not perform! Prussia has\n",
    "always declared that Buonaparte is invincible, and that all Europe\n",
    "is powerless before him.... And I don't believe a word that Hardenburg\n",
    "says, or Haugwitz either. This famous Prussian neutrality is just a\n",
    "trap. I have faith only in God and the lofty destiny of our adored\n",
    "monarch. He will save Europe!</span>\"\n",
    "<p/>\n",
    "She suddenly paused, smiling at her own impetuosity.\n",
    "<p/>\n",
    "\"<span class=\"red\">I think,</span>\" said <span class=\"green\">the prince</span> with a smile, \"<span class=\"red\">that if you had been\n",
    "sent instead of our dear <span class=\"green\">Wintzingerode</span> you would have captured the\n",
    "<span class=\"green\">King of Prussia</span>'s consent by assault. You are so eloquent. Will you\n",
    "give me a cup of tea?</span>\"\n",
    "<p/>\n",
    "\"<span class=\"red\">In a moment. A propos,</span>\" she added, becoming calm again, \"<span class=\"red\">I am\n",
    "expecting two very interesting men tonight, <span class=\"green\">le Vicomte de Mortemart</span>,\n",
    "who is connected with the <span class=\"green\">Montmorencys</span> through the <span class=\"green\">Rohans</span>, one of\n",
    "the best French families. He is one of the genuine emigres, the good\n",
    "ones. And also the <span class=\"green\">Abbe Morio</span>. Do you know that profound thinker? He\n",
    "has been received by <span class=\"green\">the Emperor</span>. Had you heard?</span>\"\n",
    "<p/>\n",
    "\"<span class=\"red\">I shall be delighted to meet them,</span>\" said <span class=\"green\">the prince</span>. \"<span class=\"red\">But tell me,</span>\"\n",
    "he added with studied carelessness as if it had only just occurred\n",
    "to him, though the question he was about to ask was the chief motive\n",
    "of his visit, \"<span class=\"red\">is it true that the Dowager Empress wants Baron Funke\n",
    "to be appointed first secretary at Vienna? The baron by all accounts\n",
    "is a poor creature.</span>\"\n",
    "<p/>\n",
    "<span class=\"green\">Prince Vasili</span> wished to obtain this post for his son, but others\n",
    "were trying through the <span class=\"green\">Dowager Empress Marya Fedorovna</span> to secure it\n",
    "for <span class=\"green\">the baron</span>.\n",
    "<p/>\n",
    "<span class=\"green\">Anna Pavlovna</span> almost closed her eyes to indicate that neither she\n",
    "nor anyone else had a right to criticize what <span class=\"green\">the Empress</span> desired or\n",
    "was pleased with.\n",
    "<p/>\n",
    "\"<span class=\"red\">Baron Funke has been recommended to the Dowager Empress by her\n",
    "sister,</span>\" was all she said, in a dry and mournful tone.\n",
    "<p/>\n",
    "As she named <span class=\"green\">the Empress</span>, <span class=\"green\">Anna Pavlovna's</span> face suddenly assumed an\n",
    "expression of profound and sincere devotion and respect mingled with\n",
    "sadness, and this occurred every time she mentioned her illustrious\n",
    "patroness. She added that <span class=\"green\">Her Majesty</span> had deigned to show <span class=\"green\">Baron\n",
    "Funke</span>, and again her face clouded over with sadness.\n",
    "<p/>\n",
    "<span class=\"green\">The prince</span> was silent and looked indifferent. But, with the\n",
    "womanly and courtierlike quickness and tact habitual to her, <span class=\"green\">Anna\n",
    "Pavlovna</span> wished both to rebuke him (for daring to speak he had done of\n",
    "a man recommended to <span class=\"green\">the Empress</span>) and at the same time to console him,\n",
    "so she said:\n",
    "<p/>\n",
    "\"<span class=\"red\">Now about your family. Do you know that since your daughter came\n",
    "out everyone has been enraptured by her? They say she is amazingly\n",
    "beautiful.</span>\"\n",
    "<p/>\n",
    "<span class=\"green\">The prince</span> bowed to signify his respect and gratitude.\n",
    "<p/>\n",
    "\"<span class=\"red\">I often think,</span>\" she continued after a short pause, drawing nearer\n",
    "to the prince and smiling amiably at him as if to show that\n",
    "political and social topics were ended and the time had come for\n",
    "intimate conversation- \"<span class=\"red\">I often think how unfairly sometimes the\n",
    "joys of life are distributed. Why has fate given you two such splendid\n",
    "children? I don't speak of <span class=\"green\">Anatole</span>, your youngest. I don't like\n",
    "him,</span>\" she added in a tone admitting of no rejoinder and raising her\n",
    "eyebrows. \"<span class=\"red\">Two such charming children. And really you appreciate\n",
    "them less than anyone, and so you don't deserve to have them.</span>\"\n",
    "<p/>\n",
    "And she smiled her ecstatic smile.\n",
    "<p/>\n",
    "\"<span class=\"red\">I can't help it,</span>\" said <span class=\"green\">the prince</span>. \"<span class=\"red\">Lavater would have said I\n",
    "lack the bump of paternity.</span>\"\n",
    "<p/>\n",
    "\"<span class=\"red\">Don't joke; I mean to have a serious talk with you. Do you know I\n",
    "am dissatisfied with your younger son? Between ourselves</span>\" (and her\n",
    "face assumed its melancholy expression), \"<span class=\"red\">he was mentioned at Her\n",
    "Majesty's and you were pitied....</span>\"\n",
    "<p/>\n",
    "<span class=\"green\">The prince</span> answered nothing, but she looked at him significantly,\n",
    "awaiting a reply. He frowned.\n",
    "<p/>\n",
    "\"<span class=\"red\">What would you have me do?</span>\" he said at last. \"<span class=\"red\">You know I did all\n",
    "a father could for their education, and they have both turned out\n",
    "fools. Hippolyte is at least a quiet fool, but Anatole is an active\n",
    "one. That is the only difference between them.</span>\" He said this smiling\n",
    "in a way more natural and animated than usual, so that the wrinkles\n",
    "round his mouth very clearly revealed something unexpectedly coarse\n",
    "and unpleasant.\n",
    "<p/>\n",
    "\"<span class=\"red\">And why are children born to such men as you? If you were not a\n",
    "father there would be nothing I could reproach you with,</span>\" said <span class=\"green\">Anna\n",
    "Pavlovna</span>, looking up pensively.\n",
    "<p/>\n",
    "\"<span class=\"red\">I am your faithful slave and to you alone I can confess that my\n",
    "children are the bane of my life. It is the cross I have to bear. That\n",
    "is how I explain it to myself. It can't be helped!</span>\"\n",
    "<p/>\n",
    "He said no more, but expressed his resignation to cruel fate by a\n",
    "gesture. <span class=\"green\">Anna Pavlovna</span> meditated.\n",
    "</div>\n",
    "</body>\n",
    "</html>"
   ]
  },
  {
   "cell_type": "markdown",
   "metadata": {},
   "source": [
    "**Using .findAll(), find all span tags with a CSS class='green'**"
   ]
  },
  {
   "cell_type": "code",
   "execution_count": 34,
   "metadata": {},
   "outputs": [
    {
     "name": "stdout",
     "output_type": "stream",
     "text": [
      "Help on method find_all in module bs4.element:\n",
      "\n",
      "find_all(name=None, attrs={}, recursive=True, text=None, limit=None, **kwargs) method of bs4.BeautifulSoup instance\n",
      "    Extracts a list of Tag objects that match the given\n",
      "    criteria.  You can specify the name of the Tag and any\n",
      "    attributes you want the Tag to have.\n",
      "    \n",
      "    The value of a key-value pair in the 'attrs' map can be a\n",
      "    string, a list of strings, a regular expression object, or a\n",
      "    callable that takes a string and returns whether or not the\n",
      "    string matches for some custom definition of 'matches'. The\n",
      "    same is true of the tag name.\n",
      "\n"
     ]
    }
   ],
   "source": [
    "help(bs.findAll)"
   ]
  },
  {
   "cell_type": "code",
   "execution_count": 15,
   "metadata": {},
   "outputs": [],
   "source": [
    "green_text = bs.findAll('span', class_='green') # or green_text = bs.findAll('span', {'class': 'green'})"
   ]
  },
  {
   "cell_type": "code",
   "execution_count": 16,
   "metadata": {},
   "outputs": [
    {
     "data": {
      "text/plain": [
       "bs4.element.ResultSet"
      ]
     },
     "execution_count": 16,
     "metadata": {},
     "output_type": "execute_result"
    }
   ],
   "source": [
    "type(green_text)"
   ]
  },
  {
   "cell_type": "code",
   "execution_count": 18,
   "metadata": {},
   "outputs": [
    {
     "data": {
      "text/plain": [
       "41"
      ]
     },
     "execution_count": 18,
     "metadata": {},
     "output_type": "execute_result"
    }
   ],
   "source": [
    "len(green_text)"
   ]
  },
  {
   "cell_type": "code",
   "execution_count": 17,
   "metadata": {},
   "outputs": [
    {
     "data": {
      "text/plain": [
       "<span class=\"green\">Anna\n",
       "Pavlovna Scherer</span>"
      ]
     },
     "execution_count": 17,
     "metadata": {},
     "output_type": "execute_result"
    }
   ],
   "source": [
    "green_text[0]"
   ]
  },
  {
   "cell_type": "code",
   "execution_count": 22,
   "metadata": {},
   "outputs": [
    {
     "name": "stdout",
     "output_type": "stream",
     "text": [
      "0 Anna\n",
      "Pavlovna Scherer\n",
      "1 Empress Marya\n",
      "Fedorovna\n",
      "2 Prince Vasili Kuragin\n",
      "3 Anna Pavlovna\n",
      "4 St. Petersburg\n",
      "5 the prince\n",
      "6 Anna Pavlovna\n",
      "7 Anna Pavlovna\n",
      "8 the prince\n",
      "9 the prince\n",
      "10 the prince\n",
      "11 Prince Vasili\n",
      "12 Anna Pavlovna\n",
      "13 Anna Pavlovna\n",
      "14 the prince\n",
      "15 Wintzingerode\n",
      "16 King of Prussia\n",
      "17 le Vicomte de Mortemart\n",
      "18 Montmorencys\n",
      "19 Rohans\n",
      "20 Abbe Morio\n",
      "21 the Emperor\n",
      "22 the prince\n",
      "23 Prince Vasili\n",
      "24 Dowager Empress Marya Fedorovna\n",
      "25 the baron\n",
      "26 Anna Pavlovna\n",
      "27 the Empress\n",
      "28 the Empress\n",
      "29 Anna Pavlovna's\n",
      "30 Her Majesty\n",
      "31 Baron\n",
      "Funke\n",
      "32 The prince\n",
      "33 Anna\n",
      "Pavlovna\n",
      "34 the Empress\n",
      "35 The prince\n",
      "36 Anatole\n",
      "37 the prince\n",
      "38 The prince\n",
      "39 Anna\n",
      "Pavlovna\n",
      "40 Anna Pavlovna\n"
     ]
    }
   ],
   "source": [
    "for i, text in enumerate(green_text):\n",
    "    print(i, text.get_text())"
   ]
  },
  {
   "cell_type": "markdown",
   "metadata": {},
   "source": [
    "**It appears there is a new line character in a few of the results.  Let's check the first result:**"
   ]
  },
  {
   "cell_type": "code",
   "execution_count": 32,
   "metadata": {},
   "outputs": [
    {
     "data": {
      "text/plain": [
       "'Anna\\nPavlovna Scherer'"
      ]
     },
     "execution_count": 32,
     "metadata": {},
     "output_type": "execute_result"
    }
   ],
   "source": [
    "green_text[0].get_text()"
   ]
  },
  {
   "cell_type": "markdown",
   "metadata": {},
   "source": [
    "**Let's remove new line character from our results:**"
   ]
  },
  {
   "cell_type": "code",
   "execution_count": 33,
   "metadata": {},
   "outputs": [
    {
     "name": "stdout",
     "output_type": "stream",
     "text": [
      "0 AnnaPavlovna Scherer\n",
      "1 Empress MaryaFedorovna\n",
      "2 Prince Vasili Kuragin\n",
      "3 Anna Pavlovna\n",
      "4 St. Petersburg\n",
      "5 the prince\n",
      "6 Anna Pavlovna\n",
      "7 Anna Pavlovna\n",
      "8 the prince\n",
      "9 the prince\n",
      "10 the prince\n",
      "11 Prince Vasili\n",
      "12 Anna Pavlovna\n",
      "13 Anna Pavlovna\n",
      "14 the prince\n",
      "15 Wintzingerode\n",
      "16 King of Prussia\n",
      "17 le Vicomte de Mortemart\n",
      "18 Montmorencys\n",
      "19 Rohans\n",
      "20 Abbe Morio\n",
      "21 the Emperor\n",
      "22 the prince\n",
      "23 Prince Vasili\n",
      "24 Dowager Empress Marya Fedorovna\n",
      "25 the baron\n",
      "26 Anna Pavlovna\n",
      "27 the Empress\n",
      "28 the Empress\n",
      "29 Anna Pavlovna's\n",
      "30 Her Majesty\n",
      "31 BaronFunke\n",
      "32 The prince\n",
      "33 AnnaPavlovna\n",
      "34 the Empress\n",
      "35 The prince\n",
      "36 Anatole\n",
      "37 the prince\n",
      "38 The prince\n",
      "39 AnnaPavlovna\n",
      "40 Anna Pavlovna\n"
     ]
    }
   ],
   "source": [
    "for i, text in enumerate(green_text):\n",
    "    print(i, text.get_text().replace('\\n', ''))"
   ]
  },
  {
   "cell_type": "markdown",
   "metadata": {},
   "source": [
    "**Although, for the purpose of this exercise, I didn't need to remove the new line character, but you'll encounter white spaces and so this is one way to deal with them.**"
   ]
  },
  {
   "cell_type": "markdown",
   "metadata": {},
   "source": [
    "### Let's get all text"
   ]
  },
  {
   "cell_type": "markdown",
   "metadata": {},
   "source": [
    "Looking at the HTML above, we see that all the text is under a single ```div``` tag and with attribute ```id``` equal to 'text'"
   ]
  },
  {
   "cell_type": "code",
   "execution_count": 35,
   "metadata": {},
   "outputs": [],
   "source": [
    "all_divs = bs.findAll('div', id='text')"
   ]
  },
  {
   "cell_type": "code",
   "execution_count": 36,
   "metadata": {},
   "outputs": [
    {
     "data": {
      "text/plain": [
       "bs4.element.ResultSet"
      ]
     },
     "execution_count": 36,
     "metadata": {},
     "output_type": "execute_result"
    }
   ],
   "source": [
    "type(all_divs)"
   ]
  },
  {
   "cell_type": "code",
   "execution_count": 37,
   "metadata": {},
   "outputs": [
    {
     "data": {
      "text/plain": [
       "1"
      ]
     },
     "execution_count": 37,
     "metadata": {},
     "output_type": "execute_result"
    }
   ],
   "source": [
    "len(all_divs)"
   ]
  },
  {
   "cell_type": "code",
   "execution_count": 39,
   "metadata": {},
   "outputs": [
    {
     "data": {
      "text/plain": [
       "'\\n\"Well, Prince, so Genoa and Lucca are now just family estates of the\\nBuonapartes. But I warn you, if you don\\'t tell me that this means war,\\nif you still try to defend the infamies and horrors perpetrated by\\nthat Antichrist- I really believe he is Antichrist- I will have\\nnothing more to do with you and you are no longer my friend, no longer\\nmy \\'faithful slave,\\' as you call yourself! But how do you do? I see\\nI have frightened you- sit down and tell me all the news.\"\\n\\nIt was in July, 1805, and the speaker was the well-known Anna\\nPavlovna Scherer, maid of honor and favorite of the Empress Marya\\nFedorovna. With these words she greeted Prince Vasili Kuragin, a man\\nof high rank and importance, who was the first to arrive at her\\nreception. Anna Pavlovna had had a cough for some days. She was, as\\nshe said, suffering from la grippe; grippe being then a new word in\\nSt. Petersburg, used only by the elite.\\n\\nAll her invitations without exception, written in French, and\\ndelivered by a scarlet-liveried footman that morning, ran as follows:\\n\\n\"If you have nothing better to do, Count [or Prince], and if the\\nprospect of spending an evening with a poor invalid is not too\\nterrible, I shall be very charmed to see you tonight between 7 and 10-\\nAnnette Scherer.\"\\n\\n\"Heavens! what a virulent attack!\" replied the prince, not in the\\nleast disconcerted by this reception. He had just entered, wearing\\nan embroidered court uniform, knee breeches, and shoes, and had\\nstars on his breast and a serene expression on his flat face. He spoke\\nin that refined French in which our grandfathers not only spoke but\\nthought, and with the gentle, patronizing intonation natural to a\\nman of importance who had grown old in society and at court. He went\\nup to Anna Pavlovna, kissed her hand, presenting to her his bald,\\nscented, and shining head, and complacently seated himself on the\\nsofa.\\n\\n\"First of all, dear friend, tell me how you are. Set your friend\\'s\\nmind at rest,\" said he without altering his tone, beneath the\\npoliteness and affected sympathy of which indifference and even\\nirony could be discerned.\\n\\n\"Can one be well while suffering morally? Can one be calm in times\\nlike these if one has any feeling?\" said Anna Pavlovna. \"You are\\nstaying the whole evening, I hope?\"\\n\\n\"And the fete at the English ambassador\\'s? Today is Wednesday. I\\nmust put in an appearance there,\" said the prince. \"My daughter is\\ncoming for me to take me there.\"\\n\\n\"I thought today\\'s fete had been canceled. I confess all these\\nfestivities and fireworks are becoming wearisome.\"\\n\\n\"If they had known that you wished it, the entertainment would\\nhave been put off,\" said the prince, who, like a wound-up clock, by\\nforce of habit said things he did not even wish to be believed.\\n\\n\"Don\\'t tease! Well, and what has been decided about Novosiltsev\\'s\\ndispatch? You know everything.\"\\n\\n\"What can one say about it?\" replied the prince in a cold,\\nlistless tone. \"What has been decided? They have decided that\\nBuonaparte has burnt his boats, and I believe that we are ready to\\nburn ours.\"\\n\\nPrince Vasili always spoke languidly, like an actor repeating a\\nstale part. Anna Pavlovna Scherer on the contrary, despite her forty\\nyears, overflowed with animation and impulsiveness. To be an\\nenthusiast had become her social vocation and, sometimes even when she\\ndid not feel like it, she became enthusiastic in order not to\\ndisappoint the expectations of those who knew her. The subdued smile\\nwhich, though it did not suit her faded features, always played\\nround her lips expressed, as in a spoiled child, a continual\\nconsciousness of her charming defect, which she neither wished, nor\\ncould, nor considered it necessary, to correct.\\n\\nIn the midst of a conversation on political matters Anna Pavlovna\\nburst out:\\n\\n\"Oh, don\\'t speak to me of Austria. Perhaps I don\\'t understand\\nthings, but Austria never has wished, and does not wish, for war.\\nShe is betraying us! Russia alone must save Europe. Our gracious\\nsovereign recognizes his high vocation and will be true to it. That is\\nthe one thing I have faith in! Our good and wonderful sovereign has to\\nperform the noblest role on earth, and he is so virtuous and noble\\nthat God will not forsake him. He will fulfill his vocation and\\ncrush the hydra of revolution, which has become more terrible than\\never in the person of this murderer and villain! We alone must\\navenge the blood of the just one.... Whom, I ask you, can we rely\\non?... England with her commercial spirit will not and cannot\\nunderstand the Emperor Alexander\\'s loftiness of soul. She has\\nrefused to evacuate Malta. She wanted to find, and still seeks, some\\nsecret motive in our actions. What answer did Novosiltsev get? None.\\nThe English have not understood and cannot understand the\\nself-abnegation of our Emperor who wants nothing for himself, but only\\ndesires the good of mankind. And what have they promised? Nothing! And\\nwhat little they have promised they will not perform! Prussia has\\nalways declared that Buonaparte is invincible, and that all Europe\\nis powerless before him.... And I don\\'t believe a word that Hardenburg\\nsays, or Haugwitz either. This famous Prussian neutrality is just a\\ntrap. I have faith only in God and the lofty destiny of our adored\\nmonarch. He will save Europe!\"\\n\\nShe suddenly paused, smiling at her own impetuosity.\\n\\n\"I think,\" said the prince with a smile, \"that if you had been\\nsent instead of our dear Wintzingerode you would have captured the\\nKing of Prussia\\'s consent by assault. You are so eloquent. Will you\\ngive me a cup of tea?\"\\n\\n\"In a moment. A propos,\" she added, becoming calm again, \"I am\\nexpecting two very interesting men tonight, le Vicomte de Mortemart,\\nwho is connected with the Montmorencys through the Rohans, one of\\nthe best French families. He is one of the genuine emigres, the good\\nones. And also the Abbe Morio. Do you know that profound thinker? He\\nhas been received by the Emperor. Had you heard?\"\\n\\n\"I shall be delighted to meet them,\" said the prince. \"But tell me,\"\\nhe added with studied carelessness as if it had only just occurred\\nto him, though the question he was about to ask was the chief motive\\nof his visit, \"is it true that the Dowager Empress wants Baron Funke\\nto be appointed first secretary at Vienna? The baron by all accounts\\nis a poor creature.\"\\n\\nPrince Vasili wished to obtain this post for his son, but others\\nwere trying through the Dowager Empress Marya Fedorovna to secure it\\nfor the baron.\\n\\nAnna Pavlovna almost closed her eyes to indicate that neither she\\nnor anyone else had a right to criticize what the Empress desired or\\nwas pleased with.\\n\\n\"Baron Funke has been recommended to the Dowager Empress by her\\nsister,\" was all she said, in a dry and mournful tone.\\n\\nAs she named the Empress, Anna Pavlovna\\'s face suddenly assumed an\\nexpression of profound and sincere devotion and respect mingled with\\nsadness, and this occurred every time she mentioned her illustrious\\npatroness. She added that Her Majesty had deigned to show Baron\\nFunke, and again her face clouded over with sadness.\\n\\nThe prince was silent and looked indifferent. But, with the\\nwomanly and courtierlike quickness and tact habitual to her, Anna\\nPavlovna wished both to rebuke him (for daring to speak he had done of\\na man recommended to the Empress) and at the same time to console him,\\nso she said:\\n\\n\"Now about your family. Do you know that since your daughter came\\nout everyone has been enraptured by her? They say she is amazingly\\nbeautiful.\"\\n\\nThe prince bowed to signify his respect and gratitude.\\n\\n\"I often think,\" she continued after a short pause, drawing nearer\\nto the prince and smiling amiably at him as if to show that\\npolitical and social topics were ended and the time had come for\\nintimate conversation- \"I often think how unfairly sometimes the\\njoys of life are distributed. Why has fate given you two such splendid\\nchildren? I don\\'t speak of Anatole, your youngest. I don\\'t like\\nhim,\" she added in a tone admitting of no rejoinder and raising her\\neyebrows. \"Two such charming children. And really you appreciate\\nthem less than anyone, and so you don\\'t deserve to have them.\"\\n\\nAnd she smiled her ecstatic smile.\\n\\n\"I can\\'t help it,\" said the prince. \"Lavater would have said I\\nlack the bump of paternity.\"\\n\\n\"Don\\'t joke; I mean to have a serious talk with you. Do you know I\\nam dissatisfied with your younger son? Between ourselves\" (and her\\nface assumed its melancholy expression), \"he was mentioned at Her\\nMajesty\\'s and you were pitied....\"\\n\\nThe prince answered nothing, but she looked at him significantly,\\nawaiting a reply. He frowned.\\n\\n\"What would you have me do?\" he said at last. \"You know I did all\\na father could for their education, and they have both turned out\\nfools. Hippolyte is at least a quiet fool, but Anatole is an active\\none. That is the only difference between them.\" He said this smiling\\nin a way more natural and animated than usual, so that the wrinkles\\nround his mouth very clearly revealed something unexpectedly coarse\\nand unpleasant.\\n\\n\"And why are children born to such men as you? If you were not a\\nfather there would be nothing I could reproach you with,\" said Anna\\nPavlovna, looking up pensively.\\n\\n\"I am your faithful slave and to you alone I can confess that my\\nchildren are the bane of my life. It is the cross I have to bear. That\\nis how I explain it to myself. It can\\'t be helped!\"\\n\\nHe said no more, but expressed his resignation to cruel fate by a\\ngesture. Anna Pavlovna meditated.\\n'"
      ]
     },
     "execution_count": 39,
     "metadata": {},
     "output_type": "execute_result"
    }
   ],
   "source": [
    "all_divs[0].get_text()"
   ]
  }
 ],
 "metadata": {
  "hide_input": false,
  "kernelspec": {
   "display_name": "Python 3",
   "language": "python",
   "name": "python3"
  },
  "language_info": {
   "codemirror_mode": {
    "name": "ipython",
    "version": 3
   },
   "file_extension": ".py",
   "mimetype": "text/x-python",
   "name": "python",
   "nbconvert_exporter": "python",
   "pygments_lexer": "ipython3",
   "version": "3.7.3"
  },
  "varInspector": {
   "cols": {
    "lenName": 16,
    "lenType": 16,
    "lenVar": 40
   },
   "kernels_config": {
    "python": {
     "delete_cmd_postfix": "",
     "delete_cmd_prefix": "del ",
     "library": "var_list.py",
     "varRefreshCmd": "print(var_dic_list())"
    },
    "r": {
     "delete_cmd_postfix": ") ",
     "delete_cmd_prefix": "rm(",
     "library": "var_list.r",
     "varRefreshCmd": "cat(var_dic_list()) "
    }
   },
   "types_to_exclude": [
    "module",
    "function",
    "builtin_function_or_method",
    "instance",
    "_Feature"
   ],
   "window_display": false
  }
 },
 "nbformat": 4,
 "nbformat_minor": 2
}
