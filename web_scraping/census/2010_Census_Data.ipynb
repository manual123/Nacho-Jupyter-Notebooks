{
 "cells": [
  {
   "cell_type": "markdown",
   "metadata": {},
   "source": [
    "# Getting 2010 U.S. Census Data"
   ]
  },
  {
   "cell_type": "markdown",
   "metadata": {},
   "source": [
    "### To use their API, go [here](https://www.census.gov/developers/) and click on the \"Request a key\" link"
   ]
  },
  {
   "cell_type": "markdown",
   "metadata": {},
   "source": [
    "### Important links / resources:\n",
    "- [List](https://api.census.gov/data.html) of all available data\n",
    "- API user's [guide](https://www.census.gov/data/developers/guidance/api-user-guide.html)\n",
    "- FIPS code [location](https://www2.census.gov/geo/docs/reference/codes/files)\n",
    "- Geographic codes [reference](https://www.census.gov/geo/reference/geocodes.html)\n",
    "- State level URL [formats](https://api.census.gov/data/2010/sf1/geo.html)\n",
    "- Summary File 1 (SF1) [reference](https://api.census.gov/data/2010/sf1.html)\n",
    "\n",
    "**NOTE:** For Ohio, FIPS state code = 39\n",
    "\n",
    "- Quick census [summary](https://www.census.gov/2010census/popmap/ipmtext.php?fl=39) for Ohio"
   ]
  },
  {
   "cell_type": "markdown",
   "metadata": {},
   "source": [
    "### U.S. Census do not have \"Hispanic or Latino\" as a separate race designation since it is an ethnicity"
   ]
  },
  {
   "cell_type": "markdown",
   "metadata": {},
   "source": [
    "- To obtain \"White, but not Hispanic or Latino\", I obtained the \"P0050003\" record.  To obtain \"Hispanic or Latino\", I obtained the \"P0050011\" record."
   ]
  },
  {
   "cell_type": "code",
   "execution_count": 90,
   "metadata": {},
   "outputs": [
    {
     "name": "stdout",
     "output_type": "stream",
     "text": [
      "200\n",
      "200\n"
     ]
    }
   ],
   "source": [
    "import requests\n",
    "\n",
    "key = 'your_api_key'\n",
    "\n",
    "data_by_race = 'P0030001,P0050003,P0050011,P0030003,P0030004,P0030005,P0030006,P0030007,P0030008'\n",
    "\n",
    "url = \"https://api.census.gov/data/2010/sf1?get=\" + data_by_race + \",NAME&for=state:39&key=\" + key\n",
    "url_county = \"https://api.census.gov/data/2010/sf1?get=\" + data_by_race + \",NAME&for=county:*&in=state:39&key=\" + key\n",
    "\n",
    "r = requests.get(url)\n",
    "r_county = requests.get(url_county)\n",
    "print(r.status_code)\n",
    "print(r_county.status_code)"
   ]
  },
  {
   "cell_type": "markdown",
   "metadata": {},
   "source": [
    "### Ohio's raw json data:"
   ]
  },
  {
   "cell_type": "code",
   "execution_count": 84,
   "metadata": {},
   "outputs": [
    {
     "data": {
      "text/plain": [
       "[['P0030001',\n",
       "  'P0050003',\n",
       "  'P0050011',\n",
       "  'P0030003',\n",
       "  'P0030004',\n",
       "  'P0030005',\n",
       "  'P0030006',\n",
       "  'P0030007',\n",
       "  'P0030008',\n",
       "  'NAME',\n",
       "  'state'],\n",
       " ['11536504',\n",
       "  '9359263',\n",
       "  '180174',\n",
       "  '1407681',\n",
       "  '25292',\n",
       "  '192233',\n",
       "  '4066',\n",
       "  '130030',\n",
       "  '237765',\n",
       "  'Ohio',\n",
       "  '39']]"
      ]
     },
     "execution_count": 84,
     "metadata": {},
     "output_type": "execute_result"
    }
   ],
   "source": [
    "r.json()"
   ]
  },
  {
   "cell_type": "markdown",
   "metadata": {},
   "source": [
    "### Ohio's raw json data by county:"
   ]
  },
  {
   "cell_type": "code",
   "execution_count": 91,
   "metadata": {},
   "outputs": [
    {
     "data": {
      "text/plain": [
       "[['P0030001',\n",
       "  'P0050003',\n",
       "  'P0050011',\n",
       "  'P0030003',\n",
       "  'P0030004',\n",
       "  'P0030005',\n",
       "  'P0030006',\n",
       "  'P0030007',\n",
       "  'P0030008',\n",
       "  'NAME',\n",
       "  'state',\n",
       "  'county'],\n",
       " ['28550',\n",
       "  '27713',\n",
       "  '169',\n",
       "  '87',\n",
       "  '108',\n",
       "  '33',\n",
       "  '2',\n",
       "  '59',\n",
       "  '379',\n",
       "  'Adams County',\n",
       "  '39',\n",
       "  '001']]"
      ]
     },
     "execution_count": 91,
     "metadata": {},
     "output_type": "execute_result"
    }
   ],
   "source": [
    "r_county.json()[:2]"
   ]
  },
  {
   "cell_type": "markdown",
   "metadata": {},
   "source": [
    "### Print out of populations by race:"
   ]
  },
  {
   "cell_type": "code",
   "execution_count": 74,
   "metadata": {},
   "outputs": [
    {
     "name": "stdout",
     "output_type": "stream",
     "text": [
      "Total population: 11536504\n",
      "White, but not Hispanic or Latino: 9359263\n",
      "Hispanic or Latino: 180174\n",
      "African American: 1407681\n",
      "American Indian/Alaskan Native: 25292\n",
      "Asian: 192233\n",
      "Native Hawaiian/Pacific Islander: 4066\n",
      "Some other race: 130030\n",
      "Two or more races: 237765\n"
     ]
    }
   ],
   "source": [
    "print(\"Total population:\", r.json()[1][0])\n",
    "print(\"White, but not Hispanic or Latino:\", r.json()[1][1])\n",
    "print(\"Hispanic or Latino:\", r.json()[1][2])\n",
    "print(\"African American:\", r.json()[1][3])\n",
    "print(\"American Indian/Alaskan Native:\", r.json()[1][4])\n",
    "print(\"Asian:\", r.json()[1][5])\n",
    "print(\"Native Hawaiian/Pacific Islander:\", r.json()[1][6])\n",
    "print(\"Some other race:\", r.json()[1][7])\n",
    "print(\"Two or more races:\", r.json()[1][8])"
   ]
  },
  {
   "cell_type": "markdown",
   "metadata": {},
   "source": [
    "### Let's double-check that all the population figures add up to the total population total of 11,536,504:"
   ]
  },
  {
   "cell_type": "code",
   "execution_count": 76,
   "metadata": {},
   "outputs": [
    {
     "data": {
      "text/plain": [
       "11536504"
      ]
     },
     "execution_count": 76,
     "metadata": {},
     "output_type": "execute_result"
    }
   ],
   "source": [
    "int(r.json()[1][1])+int(r.json()[1][2])+int(r.json()[1][3])+int(r.json()[1][4])+int(r.json()[1][5])+ \\\n",
    "int(r.json()[1][6])+int(r.json()[1][7])+int(r.json()[1][8])"
   ]
  },
  {
   "cell_type": "markdown",
   "metadata": {},
   "source": [
    "We can also check these numbers against this [summary](https://www.census.gov/2010census/popmap/ipmtext.php?fl=39) for Ohio."
   ]
  },
  {
   "cell_type": "markdown",
   "metadata": {},
   "source": [
    "### Coming up: make a function to get population data for any state"
   ]
  },
  {
   "cell_type": "markdown",
   "metadata": {},
   "source": [
    "**An example function could look like:**<br>\n",
    "```def state_census_by_race(key, state, as_perc):\n",
    "        define function...\n",
    "```"
   ]
  }
 ],
 "metadata": {
  "hide_input": false,
  "kernelspec": {
   "display_name": "Python 3",
   "language": "python",
   "name": "python3"
  },
  "language_info": {
   "codemirror_mode": {
    "name": "ipython",
    "version": 3
   },
   "file_extension": ".py",
   "mimetype": "text/x-python",
   "name": "python",
   "nbconvert_exporter": "python",
   "pygments_lexer": "ipython3",
   "version": "3.6.1"
  }
 },
 "nbformat": 4,
 "nbformat_minor": 2
}
