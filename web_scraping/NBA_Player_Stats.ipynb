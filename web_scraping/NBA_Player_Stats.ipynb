{
 "cells": [
  {
   "cell_type": "markdown",
   "metadata": {
    "run_control": {
     "frozen": false,
     "read_only": false
    }
   },
   "source": [
    "<a id=\"top\"></a>"
   ]
  },
  {
   "cell_type": "markdown",
   "metadata": {
    "run_control": {
     "frozen": false,
     "read_only": false
    }
   },
   "source": [
    "# Web Scraping NBA Player Game and Shooting Stats Using Python and BeautifulSoup"
   ]
  },
  {
   "cell_type": "markdown",
   "metadata": {
    "run_control": {
     "frozen": false,
     "read_only": false
    }
   },
   "source": [
    "This is something that I hacked together so that I can teach my oldest son SQL.  Instead of teaching him SQL on data he has no interest in, I decided that I need to get data on something he'd enjoy looking at.  Since he loves basketball and LeBron James, I figured that I try to get data on NBA player statistics from ESPN's website using a technique called \"web scraping\".  Web scraping is using a computer program to obtain/extract/\"scrape\" data from a website.\n",
    "\n",
    "Here I am using Python 3 and [BeautifulSoup](https://www.crummy.com/software/BeautifulSoup/bs4/doc/) library to scrape the data from ESPN's website.  Visit ESPN's [website](http://espn.go.com/nba/teams) to get a feel of what's available.  Take a look at a specific team's stats.  For example, here is the [page](http://espn.go.com/nba/team/stats/_/name/cle/cleveland-cavaliers) for the Cleveland Cavaliers.\n",
    "\n",
    "I know there are better/faster libraries for scraping web data like lxml.  But with lxml, I didn't want to have to get up to speed with XPath and XSLT.  With BeautifulSoup, I can get up and running quickly since I didn't have to learn a few more different APIs and it is just \"good enough\" for my purpose dealing with relatively small data sets.\n",
    "\n",
    "I re-wrote these scripts using the [requests](http://docs.python-requests.org) library.  So you'll need to install requests and lxml since I am using lxml as the parsing engine with BeautifulSoup.\n",
    "\n",
    "Before you venture into the world of web scraping, I would recommend reading this [article](http://robertorocha.info/on-the-ethics-of-web-scraping/) on ethical web scraping."
   ]
  },
  {
   "cell_type": "markdown",
   "metadata": {
    "run_control": {
     "frozen": false,
     "read_only": false
    }
   },
   "source": [
    "#### Quick Links"
   ]
  },
  {
   "cell_type": "markdown",
   "metadata": {
    "run_control": {
     "frozen": false,
     "read_only": false
    }
   },
   "source": [
    "- [source code for scraping player game stats](#game_stats)\n",
    "- [source code for scraping player shooting stats](#shooting_stats)\n",
    "- [querying the NBA sqlite database using db.py](#db_py)"
   ]
  },
  {
   "cell_type": "markdown",
   "metadata": {
    "run_control": {
     "frozen": false,
     "read_only": false
    }
   },
   "source": [
    "### Below are the SQL statements needed to create tables that will be used to store the player stats"
   ]
  },
  {
   "cell_type": "markdown",
   "metadata": {
    "run_control": {
     "frozen": false,
     "read_only": false
    }
   },
   "source": [
    "**In this example, I am using sqlite3 database.**"
   ]
  },
  {
   "cell_type": "code",
   "execution_count": null,
   "metadata": {
    "collapsed": true,
    "run_control": {
     "frozen": false,
     "read_only": false
    }
   },
   "outputs": [],
   "source": [
    "CREATE TABLE \"player_game_stats\" (\n",
    "    \"id\" INTEGER PRIMARY KEY NOT NULL,\n",
    "    \"name_pos\" TEXT NOT NULL,\n",
    "    \"team_name\" TEXT NOT NULL,\n",
    "    \"GP\" INTEGER NOT NULL,\n",
    "    \"GS\" INTEGER NOT NULL,\n",
    "    \"MIN\" REAL NOT NULL,\n",
    "    \"PPG\" REAL NOT NULL,\n",
    "    \"OFFR\" REAL NOT NULL,\n",
    "    \"DEFR\" REAL NOT NULL,\n",
    "    \"RPG\" REAL NOT NULL,\n",
    "    \"APG\" REAL NOT NULL,\n",
    "    \"SPG\" REAL NOT NULL,\n",
    "    \"BPG\" REAL NOT NULL,\n",
    "    \"TPG\" REAL NOT NULL,\n",
    "    \"FPG\" REAL NOT NULL,\n",
    "    \"A2TO\" REAL NOT NULL,\n",
    "    \"PER\" REAL NOT NULL\n",
    ");\n",
    "\n",
    "CREATE TABLE \"player_shooting_stats\" (\n",
    "    \"id\" INTEGER PRIMARY KEY NOT NULL,\n",
    "    \"name_pos\" TEXT NOT NULL,\n",
    "    \"team_name\" TEXT NOT NULL,\n",
    "    \"FGM\" REAL NOT NULL,\n",
    "    \"FGA\" REAL NOT NULL,\n",
    "    \"FG_Perc\" REAL NOT NULL,\n",
    "    \"3PM\" REAL NOT NULL,\n",
    "    \"3PA\" REAL NOT NULL,\n",
    "    \"3P_Perc\" REAL NOT NULL,\n",
    "    \"FTM\" REAL NOT NULL,\n",
    "    \"FTA\" REAL NOT NULL,\n",
    "    \"FT_Perc\" REAL NOT NULL,\n",
    "    \"2PM\" REAL NOT NULL,\n",
    "    \"2PA\" REAL NOT NULL,\n",
    "    \"2P_Perc\" REAL NOT NULL,\n",
    "    \"PPS\" REAL NOT NULL,\n",
    "    \"AFG_Perc\" REAL NOT NULL\n",
    ");"
   ]
  },
  {
   "cell_type": "markdown",
   "metadata": {
    "run_control": {
     "frozen": false,
     "read_only": false
    }
   },
   "source": [
    "### Let's begin by examining what's available at ESPN's website"
   ]
  },
  {
   "cell_type": "code",
   "execution_count": 1,
   "metadata": {
    "run_control": {
     "frozen": false,
     "read_only": false
    }
   },
   "outputs": [],
   "source": [
    "import requests\n",
    "from bs4 import BeautifulSoup\n",
    "import re\n",
    "\n",
    "base_url = 'http://espn.go.com'\n",
    "\n",
    "teams_url = 'http://espn.go.com/nba/teams'\n",
    "html_teams = requests.get(teams_url)\n",
    "\n",
    "soup_teams = BeautifulSoup(html_teams.text,'lxml')"
   ]
  },
  {
   "cell_type": "markdown",
   "metadata": {
    "run_control": {
     "frozen": false,
     "read_only": false
    }
   },
   "source": [
    "### Getting the URLs for all teams in the NBA"
   ]
  },
  {
   "cell_type": "code",
   "execution_count": 2,
   "metadata": {
    "run_control": {
     "frozen": false,
     "read_only": false
    }
   },
   "outputs": [
    {
     "data": {
      "text/plain": [
       "[<a href=\"/nba/teams/stats?team=bos\">Stats</a>,\n",
       " <a href=\"/nba/teams/stats?team=bkn\">Stats</a>,\n",
       " <a href=\"/nba/teams/stats?team=nyk\">Stats</a>,\n",
       " <a href=\"/nba/teams/stats?team=phi\">Stats</a>,\n",
       " <a href=\"/nba/teams/stats?team=tor\">Stats</a>,\n",
       " <a href=\"/nba/teams/stats?team=gsw\">Stats</a>,\n",
       " <a href=\"/nba/teams/stats?team=lac\">Stats</a>,\n",
       " <a href=\"/nba/teams/stats?team=lal\">Stats</a>,\n",
       " <a href=\"/nba/teams/stats?team=pho\">Stats</a>,\n",
       " <a href=\"/nba/teams/stats?team=sac\">Stats</a>,\n",
       " <a href=\"/nba/teams/stats?team=chi\">Stats</a>,\n",
       " <a href=\"/nba/teams/stats?team=cle\">Stats</a>,\n",
       " <a href=\"/nba/teams/stats?team=det\">Stats</a>,\n",
       " <a href=\"/nba/teams/stats?team=ind\">Stats</a>,\n",
       " <a href=\"/nba/teams/stats?team=mil\">Stats</a>,\n",
       " <a href=\"/nba/teams/stats?team=dal\">Stats</a>,\n",
       " <a href=\"/nba/teams/stats?team=hou\">Stats</a>,\n",
       " <a href=\"/nba/teams/stats?team=mem\">Stats</a>,\n",
       " <a href=\"/nba/teams/stats?team=nor\">Stats</a>,\n",
       " <a href=\"/nba/teams/stats?team=sas\">Stats</a>,\n",
       " <a href=\"/nba/teams/stats?team=atl\">Stats</a>,\n",
       " <a href=\"/nba/teams/stats?team=cha\">Stats</a>,\n",
       " <a href=\"/nba/teams/stats?team=mia\">Stats</a>,\n",
       " <a href=\"/nba/teams/stats?team=orl\">Stats</a>,\n",
       " <a href=\"/nba/teams/stats?team=was\">Stats</a>,\n",
       " <a href=\"/nba/teams/stats?team=den\">Stats</a>,\n",
       " <a href=\"/nba/teams/stats?team=min\">Stats</a>,\n",
       " <a href=\"/nba/teams/stats?team=okc\">Stats</a>,\n",
       " <a href=\"/nba/teams/stats?team=por\">Stats</a>,\n",
       " <a href=\"/nba/teams/stats?team=uth\">Stats</a>]"
      ]
     },
     "execution_count": 2,
     "metadata": {},
     "output_type": "execute_result"
    }
   ],
   "source": [
    "urls = soup_teams.find_all(href=re.compile('/nba/teams/stats'))\n",
    "urls"
   ]
  },
  {
   "cell_type": "markdown",
   "metadata": {
    "run_control": {
     "frozen": false,
     "read_only": false
    }
   },
   "source": [
    "### But I want the full URLs and without the markup junk"
   ]
  },
  {
   "cell_type": "code",
   "execution_count": 4,
   "metadata": {
    "run_control": {
     "frozen": false,
     "read_only": false
    }
   },
   "outputs": [
    {
     "data": {
      "text/plain": [
       "['http://espn.go.com/nba/teams/stats?team=bos',\n",
       " 'http://espn.go.com/nba/teams/stats?team=bkn',\n",
       " 'http://espn.go.com/nba/teams/stats?team=nyk',\n",
       " 'http://espn.go.com/nba/teams/stats?team=phi',\n",
       " 'http://espn.go.com/nba/teams/stats?team=tor',\n",
       " 'http://espn.go.com/nba/teams/stats?team=gsw',\n",
       " 'http://espn.go.com/nba/teams/stats?team=lac',\n",
       " 'http://espn.go.com/nba/teams/stats?team=lal',\n",
       " 'http://espn.go.com/nba/teams/stats?team=pho',\n",
       " 'http://espn.go.com/nba/teams/stats?team=sac',\n",
       " 'http://espn.go.com/nba/teams/stats?team=chi',\n",
       " 'http://espn.go.com/nba/teams/stats?team=cle',\n",
       " 'http://espn.go.com/nba/teams/stats?team=det',\n",
       " 'http://espn.go.com/nba/teams/stats?team=ind',\n",
       " 'http://espn.go.com/nba/teams/stats?team=mil',\n",
       " 'http://espn.go.com/nba/teams/stats?team=dal',\n",
       " 'http://espn.go.com/nba/teams/stats?team=hou',\n",
       " 'http://espn.go.com/nba/teams/stats?team=mem',\n",
       " 'http://espn.go.com/nba/teams/stats?team=nor',\n",
       " 'http://espn.go.com/nba/teams/stats?team=sas',\n",
       " 'http://espn.go.com/nba/teams/stats?team=atl',\n",
       " 'http://espn.go.com/nba/teams/stats?team=cha',\n",
       " 'http://espn.go.com/nba/teams/stats?team=mia',\n",
       " 'http://espn.go.com/nba/teams/stats?team=orl',\n",
       " 'http://espn.go.com/nba/teams/stats?team=was',\n",
       " 'http://espn.go.com/nba/teams/stats?team=den',\n",
       " 'http://espn.go.com/nba/teams/stats?team=min',\n",
       " 'http://espn.go.com/nba/teams/stats?team=okc',\n",
       " 'http://espn.go.com/nba/teams/stats?team=por',\n",
       " 'http://espn.go.com/nba/teams/stats?team=uth']"
      ]
     },
     "execution_count": 4,
     "metadata": {},
     "output_type": "execute_result"
    }
   ],
   "source": [
    "team_urls = [base_url+url['href'] for url in urls]\n",
    "team_urls"
   ]
  },
  {
   "cell_type": "markdown",
   "metadata": {
    "run_control": {
     "frozen": false,
     "read_only": false
    }
   },
   "source": [
    "### Ahhh much better now"
   ]
  },
  {
   "cell_type": "markdown",
   "metadata": {
    "run_control": {
     "frozen": false,
     "read_only": false
    }
   },
   "source": [
    "### The web site doesn't have team names readily available that I could easily scrape using beautifulsoup, but the team codes are available in the URLs.  But I rather get the full team names.  I'm sure I could've scraped the team names somehow, but using the dictionary was more straight-forward and easiest for me at the time."
   ]
  },
  {
   "cell_type": "markdown",
   "metadata": {
    "run_control": {
     "frozen": false,
     "read_only": false
    }
   },
   "source": [
    "### Python dictionary to be used to create a team name column based on the team code at the end of the URLs above"
   ]
  },
  {
   "cell_type": "code",
   "execution_count": 6,
   "metadata": {
    "run_control": {
     "frozen": false,
     "read_only": false
    }
   },
   "outputs": [],
   "source": [
    "team_name_dict = {'bos':'Boston Celtics',\n",
    "                  'bkn':'Brooklyn Nets',\n",
    "                  'nyk':'New York Knicks',\n",
    "                  'phi':'Philadelphia 76ers',\n",
    "                  'tor':'Toronto Raptors',\n",
    "                  'gsw':'Golden State Warriors',\n",
    "                  'lac':'Los Angeles Clippers',\n",
    "                  'lal':'Los Angeles Lakers',\n",
    "                  'pho':'Phoenix Suns',\n",
    "                  'sac':'Sacramento Kings',\n",
    "                  'chi':'Chicago Bulls',\n",
    "                  'cle':'Cleveland Cavaliers',\n",
    "                  'det':'Detroit Pistons',\n",
    "                  'ind':'Indiana Pacers',\n",
    "                  'mil':'Milwaukee Bucks',\n",
    "                  'dal':'Dallas Mavericks',\n",
    "                  'hou':'Houston Rockets',\n",
    "                  'mem':'Memphis Grizzlies',\n",
    "                  'nor':'New Orleans Pelicans',\n",
    "                  'sas':'San Antonio Spurs',\n",
    "                  'atl':'Atlanta Hawks',\n",
    "                  'cha':'Charlotte Hornets',\n",
    "                  'mia':'Miami Heat',\n",
    "                  'orl':'Orlando Magic',\n",
    "                  'was':'Washington Wizards',\n",
    "                  'den':'Denver Nuggets',\n",
    "                  'min':'Minnesota Timberwolves',\n",
    "                  'okc':'Oklahoma City Thunder',\n",
    "                  'por':'Portland Trail Blazers',\n",
    "                  'uth':'Utah Jazz'\n",
    "                  }"
   ]
  },
  {
   "cell_type": "markdown",
   "metadata": {
    "run_control": {
     "frozen": false,
     "read_only": false
    }
   },
   "source": [
    "### Getting game stats and shooting stats for a specific team (Cleveland Cavaliers)"
   ]
  },
  {
   "cell_type": "code",
   "execution_count": 7,
   "metadata": {
    "run_control": {
     "frozen": false,
     "read_only": false
    }
   },
   "outputs": [],
   "source": [
    "url_team = 'http://espn.go.com/nba/teams/stats?team=cle'\n",
    "team_code = url_team[-3:]\n",
    "html_team = requests.get(url_team)\n",
    "\n",
    "soup_team = BeautifulSoup(html_team.text, 'lxml')\n",
    "\n",
    "# Grab all HTML tr elements with class containing the word 'player'\n",
    "roster = soup_team.find_all('tr', class_=re.compile('player'))"
   ]
  },
  {
   "cell_type": "markdown",
   "metadata": {
    "run_control": {
     "frozen": false,
     "read_only": false
    }
   },
   "source": [
    "### First/top half of the web page contains the game statistics, the 2nd/bottom half contains the shooting statistics"
   ]
  },
  {
   "cell_type": "code",
   "execution_count": 9,
   "metadata": {
    "run_control": {
     "frozen": false,
     "read_only": false
    }
   },
   "outputs": [],
   "source": [
    "# Grab the top half of the data, which contains the game stats\n",
    "roster_game_stats = roster[:int(len(roster)/2)]\n",
    "\n",
    "# Grap the bottom half of the data, which contains the shooting stats\n",
    "roster_shooting_stats = roster[-int(len(roster)/2):]"
   ]
  },
  {
   "cell_type": "markdown",
   "metadata": {
    "run_control": {
     "frozen": false,
     "read_only": false
    }
   },
   "source": [
    "### Let's examine the game statistics data:"
   ]
  },
  {
   "cell_type": "code",
   "execution_count": 10,
   "metadata": {
    "run_control": {
     "frozen": false,
     "read_only": false
    }
   },
   "outputs": [
    {
     "name": "stdout",
     "output_type": "stream",
     "text": [
      "LeBron James, SF131340.932.50.87.28.07.02.151.383.92.31.8\n",
      "Kyrie Irving, PG131334.824.50.42.02.45.61.380.542.51.72.3\n",
      "Kevin Love, PF131332.117.21.49.010.41.90.770.852.02.51.0\n",
      "Tristan Thompson, C131333.09.24.25.19.31.00.460.771.12.00.9\n",
      "Channing Frye, PF11013.07.80.01.71.71.10.270.360.21.06.0\n",
      "JR Smith, SG131326.26.60.32.32.60.80.770.310.62.11.4\n",
      "Kyle Korver, SG13017.76.40.21.71.80.80.460.310.40.92.2\n",
      "Deron Williams, PG13015.55.60.21.01.22.50.620.080.91.62.7\n",
      "Iman Shumpert, SG12017.44.70.42.73.11.00.580.250.31.83.0\n",
      "Richard Jefferson, SF9010.62.90.60.91.40.60.110.220.41.41.3\n",
      "Derrick Williams, PF505.62.80.20.20.40.60.000.200.60.01.0\n",
      "Dahntay Jones, SG703.31.00.00.40.40.10.000.140.11.01.0\n",
      "James Jones, SG504.20.40.20.40.60.00.000.000.40.60.0\n"
     ]
    }
   ],
   "source": [
    "for player in roster_game_stats:\n",
    "    print(player.get_text())"
   ]
  },
  {
   "cell_type": "markdown",
   "metadata": {
    "run_control": {
     "frozen": false,
     "read_only": false
    }
   },
   "source": [
    "### Let's examine the shooting statistics data:"
   ]
  },
  {
   "cell_type": "code",
   "execution_count": 11,
   "metadata": {
    "run_control": {
     "frozen": false,
     "read_only": false
    }
   },
   "outputs": [
    {
     "name": "stdout",
     "output_type": "stream",
     "text": [
      "LeBron James, SF11.620.5.5662.55.8.4216.89.60.719.114.7.6231.5840.63\n",
      "Kyrie Irving, PG8.819.0.4662.46.7.3564.54.90.916.412.3.5251.2910.53\n",
      "Kevin Love, PF5.311.6.4572.96.2.4753.64.20.852.45.4.4371.4770.58\n",
      "Tristan Thompson, C3.25.4.6000.00.0.0002.84.20.673.25.4.6001.7140.60\n",
      "Channing Frye, PF2.75.0.5451.83.5.5260.50.60.860.91.5.5881.5640.73\n",
      "JR Smith, SG2.34.8.4841.73.8.4490.30.60.500.61.0.6151.3870.66\n",
      "Kyle Korver, SG2.14.7.4431.74.1.4150.50.51.000.40.6.6251.3610.62\n",
      "Deron Williams, PG2.03.7.5420.81.7.5000.80.80.911.22.0.5771.5210.66\n",
      "Iman Shumpert, SG1.83.6.4880.71.4.4710.50.60.861.12.2.5001.3020.58\n",
      "Richard Jefferson, SF0.92.2.4000.41.1.4000.71.10.600.51.1.4001.3000.50\n",
      "Derrick Williams, PF1.21.8.6670.40.6.6670.00.00.000.81.2.6671.5560.78\n",
      "Dahntay Jones, SG0.41.0.4290.00.0.0000.10.11.000.41.0.4291.0000.43\n",
      "James Jones, SG0.20.8.2500.00.4.0000.00.00.000.20.4.500.5000.25\n"
     ]
    }
   ],
   "source": [
    "for player in roster_shooting_stats:\n",
    "    print(player.get_text())"
   ]
  },
  {
   "cell_type": "markdown",
   "metadata": {
    "run_control": {
     "frozen": false,
     "read_only": false
    }
   },
   "source": [
    "### Now we're ready to create a list of the game stats.  I also noticed that player ID numbers are available also."
   ]
  },
  {
   "cell_type": "code",
   "execution_count": 12,
   "metadata": {
    "run_control": {
     "frozen": false,
     "read_only": false
    }
   },
   "outputs": [],
   "source": [
    "players = []\n",
    "for row in roster_game_stats:\n",
    "    for data in row:\n",
    "        players.append(data.get_text())\n",
    "        \n",
    "player_ids = [player.a['href'].split('/')[7] for player in roster_game_stats]"
   ]
  },
  {
   "cell_type": "markdown",
   "metadata": {
    "run_control": {
     "frozen": false,
     "read_only": false
    }
   },
   "source": [
    "### Let's see what the list of player game stats looks like:"
   ]
  },
  {
   "cell_type": "code",
   "execution_count": 13,
   "metadata": {
    "run_control": {
     "frozen": false,
     "read_only": false
    }
   },
   "outputs": [
    {
     "name": "stdout",
     "output_type": "stream",
     "text": [
      "LeBron James, SF\n",
      "13\n",
      "13\n",
      "40.9\n",
      "32.5\n",
      "0.8\n",
      "7.2\n",
      "8.0\n",
      "7.0\n",
      "2.15\n",
      "1.38\n",
      "3.9\n",
      "2.3\n",
      "1.8\n",
      "Kyrie Irving, PG\n",
      "13\n",
      "13\n",
      "34.8\n",
      "24.5\n",
      "0.4\n",
      "2.0\n",
      "2.4\n",
      "5.6\n",
      "1.38\n",
      "0.54\n",
      "2.5\n",
      "1.7\n",
      "2.3\n",
      "Kevin Love, PF\n",
      "13\n",
      "13\n",
      "32.1\n",
      "17.2\n",
      "1.4\n",
      "9.0\n",
      "10.4\n",
      "1.9\n",
      "0.77\n",
      "0.85\n",
      "2.0\n",
      "2.5\n",
      "1.0\n",
      "Tristan Thompson, C\n",
      "13\n",
      "13\n",
      "33.0\n",
      "9.2\n",
      "4.2\n",
      "5.1\n",
      "9.3\n",
      "1.0\n",
      "0.46\n",
      "0.77\n",
      "1.1\n",
      "2.0\n",
      "0.9\n",
      "Channing Frye, PF\n",
      "11\n",
      "0\n",
      "13.0\n",
      "7.8\n",
      "0.0\n",
      "1.7\n",
      "1.7\n",
      "1.1\n",
      "0.27\n",
      "0.36\n",
      "0.2\n",
      "1.0\n",
      "6.0\n",
      "JR Smith, SG\n",
      "13\n",
      "13\n",
      "26.2\n",
      "6.6\n",
      "0.3\n",
      "2.3\n",
      "2.6\n",
      "0.8\n",
      "0.77\n",
      "0.31\n",
      "0.6\n",
      "2.1\n",
      "1.4\n",
      "Kyle Korver, SG\n",
      "13\n",
      "0\n",
      "17.7\n",
      "6.4\n",
      "0.2\n",
      "1.7\n",
      "1.8\n",
      "0.8\n",
      "0.46\n",
      "0.31\n",
      "0.4\n",
      "0.9\n",
      "2.2\n",
      "Deron Williams, PG\n",
      "13\n",
      "0\n",
      "15.5\n",
      "5.6\n",
      "0.2\n",
      "1.0\n",
      "1.2\n",
      "2.5\n",
      "0.62\n",
      "0.08\n",
      "0.9\n",
      "1.6\n",
      "2.7\n",
      "Iman Shumpert, SG\n",
      "12\n",
      "0\n",
      "17.4\n",
      "4.7\n",
      "0.4\n",
      "2.7\n",
      "3.1\n",
      "1.0\n",
      "0.58\n",
      "0.25\n",
      "0.3\n",
      "1.8\n",
      "3.0\n",
      "Richard Jefferson, SF\n",
      "9\n",
      "0\n",
      "10.6\n",
      "2.9\n",
      "0.6\n",
      "0.9\n",
      "1.4\n",
      "0.6\n",
      "0.11\n",
      "0.22\n",
      "0.4\n",
      "1.4\n",
      "1.3\n",
      "Derrick Williams, PF\n",
      "5\n",
      "0\n",
      "5.6\n",
      "2.8\n",
      "0.2\n",
      "0.2\n",
      "0.4\n",
      "0.6\n",
      "0.00\n",
      "0.20\n",
      "0.6\n",
      "0.0\n",
      "1.0\n",
      "Dahntay Jones, SG\n",
      "7\n",
      "0\n",
      "3.3\n",
      "1.0\n",
      "0.0\n",
      "0.4\n",
      "0.4\n",
      "0.1\n",
      "0.00\n",
      "0.14\n",
      "0.1\n",
      "1.0\n",
      "1.0\n",
      "James Jones, SG\n",
      "5\n",
      "0\n",
      "4.2\n",
      "0.4\n",
      "0.2\n",
      "0.4\n",
      "0.6\n",
      "0.0\n",
      "0.00\n",
      "0.00\n",
      "0.4\n",
      "0.6\n",
      "0.0\n"
     ]
    }
   ],
   "source": [
    "for player in players:\n",
    "    print(player)"
   ]
  },
  {
   "cell_type": "markdown",
   "metadata": {
    "run_control": {
     "frozen": false,
     "read_only": false
    }
   },
   "source": [
    "### But I would like to add player ID to the list, so I will insert the ID for every 15th element:"
   ]
  },
  {
   "cell_type": "code",
   "execution_count": 11,
   "metadata": {
    "run_control": {
     "frozen": false,
     "read_only": false
    }
   },
   "outputs": [],
   "source": [
    "index = 0 # insert the player ID before the player's name\n",
    "increment = 0\n",
    "for id in player_ids:\n",
    "    players.insert(index + increment, id)\n",
    "    index = index + 15\n",
    "    increment = increment + 1"
   ]
  },
  {
   "cell_type": "markdown",
   "metadata": {
    "run_control": {
     "frozen": false,
     "read_only": false
    }
   },
   "source": [
    "### Let's see if the player IDs got added before each player's name"
   ]
  },
  {
   "cell_type": "code",
   "execution_count": 12,
   "metadata": {
    "run_control": {
     "frozen": false,
     "read_only": false
    }
   },
   "outputs": [
    {
     "name": "stdout",
     "output_type": "stream",
     "text": [
      "1966\n",
      "LeBron James, SF\n",
      "29\n",
      "29\n",
      "37.5\n",
      "25.2\n",
      "0.7\n",
      "4.6\n",
      "5.3\n",
      "7.6\n",
      "1.34\n",
      "0.79\n",
      "3.8\n",
      "1.7\n",
      "2.0\n",
      "25.0\n",
      "6442\n",
      "Kyrie Irving, PG\n",
      "30\n",
      "30\n",
      "38.2\n",
      "20.8\n",
      "0.5\n",
      "2.6\n",
      "3.1\n",
      "5.3\n",
      "1.43\n",
      "0.30\n",
      "2.1\n",
      "2.2\n",
      "2.5\n",
      "19.8\n",
      "3449\n",
      "Kevin Love, PF\n",
      "31\n",
      "31\n",
      "35.8\n",
      "16.7\n",
      "1.9\n",
      "8.2\n",
      "10.1\n",
      "2.4\n",
      "0.77\n",
      "0.45\n",
      "1.8\n",
      "2.3\n",
      "1.3\n",
      "17.9\n",
      "6628\n",
      "Dion Waiters, SG\n",
      "31\n",
      "3\n",
      "23.5\n",
      "10.3\n",
      "0.3\n",
      "1.4\n",
      "1.6\n",
      "2.2\n",
      "1.29\n",
      "0.32\n",
      "1.5\n",
      "1.8\n",
      "1.4\n",
      "12.3\n",
      "2419\n",
      "Anderson Varejao, C\n",
      "26\n",
      "26\n",
      "24.5\n",
      "9.8\n",
      "2.2\n",
      "4.3\n",
      "6.5\n",
      "1.3\n",
      "0.73\n",
      "0.62\n",
      "1.3\n",
      "2.2\n",
      "1.0\n",
      "17.6\n",
      "6474\n",
      "Tristan Thompson, PF\n",
      "32\n",
      "5\n",
      "27.6\n",
      "9.3\n",
      "3.7\n",
      "4.1\n",
      "7.8\n",
      "0.6\n",
      "0.41\n",
      "0.84\n",
      "1.0\n",
      "2.5\n",
      "0.6\n",
      "16.4\n",
      "510\n",
      "Shawn Marion, SF\n",
      "30\n",
      "22\n",
      "23.1\n",
      "5.6\n",
      "1.0\n",
      "2.5\n",
      "3.5\n",
      "1.1\n",
      "0.63\n",
      "0.73\n",
      "0.7\n",
      "1.1\n",
      "1.5\n",
      "10.6\n",
      "2489716\n",
      "Matthew Dellavedova, SG\n",
      "17\n",
      "5\n",
      "20.9\n",
      "4.2\n",
      "0.6\n",
      "1.2\n",
      "1.9\n",
      "2.8\n",
      "0.35\n",
      "0.12\n",
      "1.1\n",
      "2.5\n",
      "2.5\n",
      "6.1\n",
      "2009\n",
      "James Jones, SF\n",
      "15\n",
      "0\n",
      "10.5\n",
      "4.1\n",
      "0.1\n",
      "1.3\n",
      "1.4\n",
      "0.7\n",
      "0.27\n",
      "0.20\n",
      "0.1\n",
      "1.1\n",
      "11.0\n",
      "14.7\n",
      "558\n",
      "Mike Miller, SF\n",
      "21\n",
      "8\n",
      "17.0\n",
      "3.0\n",
      "0.2\n",
      "2.1\n",
      "2.3\n",
      "1.0\n",
      "0.29\n",
      "0.10\n",
      "0.4\n",
      "2.0\n",
      "2.4\n",
      "6.1\n",
      "2528794\n",
      "Joe Harris, SG\n",
      "27\n",
      "0\n",
      "10.7\n",
      "2.8\n",
      "0.2\n",
      "0.8\n",
      "1.0\n",
      "0.6\n",
      "0.11\n",
      "0.04\n",
      "0.4\n",
      "1.3\n",
      "1.3\n",
      "6.4\n",
      "1000\n",
      "Brendan Haywood, C\n",
      "8\n",
      "1\n",
      "6.4\n",
      "2.4\n",
      "0.5\n",
      "1.4\n",
      "1.9\n",
      "0.0\n",
      "0.13\n",
      "0.75\n",
      "0.6\n",
      "1.1\n",
      "0.0\n",
      "12.7\n",
      "2489897\n",
      "Will Cherry, PG\n",
      "8\n",
      "0\n",
      "8.6\n",
      "1.9\n",
      "0.1\n",
      "0.5\n",
      "0.6\n",
      "1.0\n",
      "0.75\n",
      "0.13\n",
      "0.5\n",
      "1.3\n",
      "2.0\n",
      "5.8\n",
      "4010\n",
      "A.J. Price, PG†\n",
      "9\n",
      "0\n",
      "6.6\n",
      "1.1\n",
      "0.3\n",
      "0.9\n",
      "1.2\n",
      "0.8\n",
      "0.22\n",
      "0.00\n",
      "0.2\n",
      "0.1\n",
      "3.5\n",
      "4.4\n",
      "3041\n",
      "Lou Amundson, PF\n",
      "11\n",
      "0\n",
      "6.8\n",
      "1.0\n",
      "0.5\n",
      "1.4\n",
      "1.8\n",
      "0.5\n",
      "0.09\n",
      "0.00\n",
      "0.4\n",
      "1.0\n",
      "1.3\n",
      "5.2\n",
      "2528355\n",
      "Alex Kirk, C\n",
      "4\n",
      "0\n",
      "2.0\n",
      "1.0\n",
      "0.3\n",
      "0.0\n",
      "0.3\n",
      "0.3\n",
      "0.00\n",
      "0.00\n",
      "0.0\n",
      "0.3\n",
      "0.0\n",
      "19.9\n"
     ]
    }
   ],
   "source": [
    "for player in players:\n",
    "    print(player)"
   ]
  },
  {
   "cell_type": "markdown",
   "metadata": {
    "run_control": {
     "frozen": false,
     "read_only": false
    }
   },
   "source": [
    "### As you can see from the output above, the player IDs were added, but I would also like to add team name since I took the trouble making that dictionary earlier:"
   ]
  },
  {
   "cell_type": "code",
   "execution_count": 13,
   "metadata": {
    "run_control": {
     "frozen": false,
     "read_only": false
    }
   },
   "outputs": [],
   "source": [
    "index = 2  # insert the team name after the player's name\n",
    "increment = 0\n",
    "for id in player_ids:\n",
    "    players.insert(index + increment, team_name_dict[team_code])\n",
    "    index = index + 16  # since we added player ID, there is now a total of 16 columns. instead of 15\n",
    "    increment = increment + 1"
   ]
  },
  {
   "cell_type": "markdown",
   "metadata": {
    "run_control": {
     "frozen": false,
     "read_only": false
    }
   },
   "source": [
    "### Let's double-check to see team name was added"
   ]
  },
  {
   "cell_type": "code",
   "execution_count": 14,
   "metadata": {
    "run_control": {
     "frozen": false,
     "read_only": false
    }
   },
   "outputs": [
    {
     "name": "stdout",
     "output_type": "stream",
     "text": [
      "1966\n",
      "LeBron James, SF\n",
      "Cleveland Cavaliers\n",
      "29\n",
      "29\n",
      "37.5\n",
      "25.2\n",
      "0.7\n",
      "4.6\n",
      "5.3\n",
      "7.6\n",
      "1.34\n",
      "0.79\n",
      "3.8\n",
      "1.7\n",
      "2.0\n",
      "25.0\n",
      "6442\n",
      "Kyrie Irving, PG\n",
      "Cleveland Cavaliers\n",
      "30\n",
      "30\n",
      "38.2\n",
      "20.8\n",
      "0.5\n",
      "2.6\n",
      "3.1\n",
      "5.3\n",
      "1.43\n",
      "0.30\n",
      "2.1\n",
      "2.2\n",
      "2.5\n",
      "19.8\n",
      "3449\n",
      "Kevin Love, PF\n",
      "Cleveland Cavaliers\n",
      "31\n",
      "31\n",
      "35.8\n",
      "16.7\n",
      "1.9\n",
      "8.2\n",
      "10.1\n",
      "2.4\n",
      "0.77\n",
      "0.45\n",
      "1.8\n",
      "2.3\n",
      "1.3\n",
      "17.9\n",
      "6628\n",
      "Dion Waiters, SG\n",
      "Cleveland Cavaliers\n",
      "31\n",
      "3\n",
      "23.5\n",
      "10.3\n",
      "0.3\n",
      "1.4\n",
      "1.6\n",
      "2.2\n",
      "1.29\n",
      "0.32\n",
      "1.5\n",
      "1.8\n",
      "1.4\n",
      "12.3\n",
      "2419\n",
      "Anderson Varejao, C\n",
      "Cleveland Cavaliers\n",
      "26\n",
      "26\n",
      "24.5\n",
      "9.8\n",
      "2.2\n",
      "4.3\n",
      "6.5\n",
      "1.3\n",
      "0.73\n",
      "0.62\n",
      "1.3\n",
      "2.2\n",
      "1.0\n",
      "17.6\n",
      "6474\n",
      "Tristan Thompson, PF\n",
      "Cleveland Cavaliers\n",
      "32\n",
      "5\n",
      "27.6\n",
      "9.3\n",
      "3.7\n",
      "4.1\n",
      "7.8\n",
      "0.6\n",
      "0.41\n",
      "0.84\n",
      "1.0\n",
      "2.5\n",
      "0.6\n",
      "16.4\n",
      "510\n",
      "Shawn Marion, SF\n",
      "Cleveland Cavaliers\n",
      "30\n",
      "22\n",
      "23.1\n",
      "5.6\n",
      "1.0\n",
      "2.5\n",
      "3.5\n",
      "1.1\n",
      "0.63\n",
      "0.73\n",
      "0.7\n",
      "1.1\n",
      "1.5\n",
      "10.6\n",
      "2489716\n",
      "Matthew Dellavedova, SG\n",
      "Cleveland Cavaliers\n",
      "17\n",
      "5\n",
      "20.9\n",
      "4.2\n",
      "0.6\n",
      "1.2\n",
      "1.9\n",
      "2.8\n",
      "0.35\n",
      "0.12\n",
      "1.1\n",
      "2.5\n",
      "2.5\n",
      "6.1\n",
      "2009\n",
      "James Jones, SF\n",
      "Cleveland Cavaliers\n",
      "15\n",
      "0\n",
      "10.5\n",
      "4.1\n",
      "0.1\n",
      "1.3\n",
      "1.4\n",
      "0.7\n",
      "0.27\n",
      "0.20\n",
      "0.1\n",
      "1.1\n",
      "11.0\n",
      "14.7\n",
      "558\n",
      "Mike Miller, SF\n",
      "Cleveland Cavaliers\n",
      "21\n",
      "8\n",
      "17.0\n",
      "3.0\n",
      "0.2\n",
      "2.1\n",
      "2.3\n",
      "1.0\n",
      "0.29\n",
      "0.10\n",
      "0.4\n",
      "2.0\n",
      "2.4\n",
      "6.1\n",
      "2528794\n",
      "Joe Harris, SG\n",
      "Cleveland Cavaliers\n",
      "27\n",
      "0\n",
      "10.7\n",
      "2.8\n",
      "0.2\n",
      "0.8\n",
      "1.0\n",
      "0.6\n",
      "0.11\n",
      "0.04\n",
      "0.4\n",
      "1.3\n",
      "1.3\n",
      "6.4\n",
      "1000\n",
      "Brendan Haywood, C\n",
      "Cleveland Cavaliers\n",
      "8\n",
      "1\n",
      "6.4\n",
      "2.4\n",
      "0.5\n",
      "1.4\n",
      "1.9\n",
      "0.0\n",
      "0.13\n",
      "0.75\n",
      "0.6\n",
      "1.1\n",
      "0.0\n",
      "12.7\n",
      "2489897\n",
      "Will Cherry, PG\n",
      "Cleveland Cavaliers\n",
      "8\n",
      "0\n",
      "8.6\n",
      "1.9\n",
      "0.1\n",
      "0.5\n",
      "0.6\n",
      "1.0\n",
      "0.75\n",
      "0.13\n",
      "0.5\n",
      "1.3\n",
      "2.0\n",
      "5.8\n",
      "4010\n",
      "A.J. Price, PG†\n",
      "Cleveland Cavaliers\n",
      "9\n",
      "0\n",
      "6.6\n",
      "1.1\n",
      "0.3\n",
      "0.9\n",
      "1.2\n",
      "0.8\n",
      "0.22\n",
      "0.00\n",
      "0.2\n",
      "0.1\n",
      "3.5\n",
      "4.4\n",
      "3041\n",
      "Lou Amundson, PF\n",
      "Cleveland Cavaliers\n",
      "11\n",
      "0\n",
      "6.8\n",
      "1.0\n",
      "0.5\n",
      "1.4\n",
      "1.8\n",
      "0.5\n",
      "0.09\n",
      "0.00\n",
      "0.4\n",
      "1.0\n",
      "1.3\n",
      "5.2\n",
      "2528355\n",
      "Alex Kirk, C\n",
      "Cleveland Cavaliers\n",
      "4\n",
      "0\n",
      "2.0\n",
      "1.0\n",
      "0.3\n",
      "0.0\n",
      "0.3\n",
      "0.3\n",
      "0.00\n",
      "0.00\n",
      "0.0\n",
      "0.3\n",
      "0.0\n",
      "19.9\n"
     ]
    }
   ],
   "source": [
    "for player in players:\n",
    "    print(player)"
   ]
  },
  {
   "cell_type": "markdown",
   "metadata": {
    "run_control": {
     "frozen": false,
     "read_only": false
    }
   },
   "source": [
    "### Great, looks like team name was added to the list.  But there is a problem.  I want to insert this data into a database.  I got this one huge list, but I need it to be structured so that the data for each player is grouped in its own list."
   ]
  },
  {
   "cell_type": "markdown",
   "metadata": {
    "run_control": {
     "frozen": false,
     "read_only": false
    }
   },
   "source": [
    "### Searched stackoverflow for a [solution](http://stackoverflow.com/questions/312443/how-do-you-split-a-list-into-evenly-sized-chunks-in-python) and found one using a generator:"
   ]
  },
  {
   "cell_type": "code",
   "execution_count": 15,
   "metadata": {
    "run_control": {
     "frozen": false,
     "read_only": false
    }
   },
   "outputs": [],
   "source": [
    "# http://stackoverflow.com/questions/312443/how-do-you-split-a-list-into-evenly-sized-chunks-in-python\n",
    "def chunks(l, n):\n",
    "    \"\"\" Yield successive n-sized chunks from l.\n",
    "    \"\"\"\n",
    "    for i in range(0, len(l), n):\n",
    "        yield l[i:i+n]"
   ]
  },
  {
   "cell_type": "markdown",
   "metadata": {
    "run_control": {
     "frozen": false,
     "read_only": false
    }
   },
   "source": [
    "### Let's double-check if that worked:"
   ]
  },
  {
   "cell_type": "code",
   "execution_count": 16,
   "metadata": {
    "run_control": {
     "frozen": false,
     "read_only": false
    }
   },
   "outputs": [
    {
     "name": "stdout",
     "output_type": "stream",
     "text": [
      "['1966',\n",
      " 'LeBron James, SF',\n",
      " 'Cleveland Cavaliers',\n",
      " '29',\n",
      " '29',\n",
      " '37.5',\n",
      " '25.2',\n",
      " '0.7',\n",
      " '4.6',\n",
      " '5.3',\n",
      " '7.6',\n",
      " '1.34',\n",
      " '0.79',\n",
      " '3.8',\n",
      " '1.7',\n",
      " '2.0',\n",
      " '25.0']\n",
      "['6442',\n",
      " 'Kyrie Irving, PG',\n",
      " 'Cleveland Cavaliers',\n",
      " '30',\n",
      " '30',\n",
      " '38.2',\n",
      " '20.8',\n",
      " '0.5',\n",
      " '2.6',\n",
      " '3.1',\n",
      " '5.3',\n",
      " '1.43',\n",
      " '0.30',\n",
      " '2.1',\n",
      " '2.2',\n",
      " '2.5',\n",
      " '19.8']\n",
      "['3449',\n",
      " 'Kevin Love, PF',\n",
      " 'Cleveland Cavaliers',\n",
      " '31',\n",
      " '31',\n",
      " '35.8',\n",
      " '16.7',\n",
      " '1.9',\n",
      " '8.2',\n",
      " '10.1',\n",
      " '2.4',\n",
      " '0.77',\n",
      " '0.45',\n",
      " '1.8',\n",
      " '2.3',\n",
      " '1.3',\n",
      " '17.9']\n",
      "['6628',\n",
      " 'Dion Waiters, SG',\n",
      " 'Cleveland Cavaliers',\n",
      " '31',\n",
      " '3',\n",
      " '23.5',\n",
      " '10.3',\n",
      " '0.3',\n",
      " '1.4',\n",
      " '1.6',\n",
      " '2.2',\n",
      " '1.29',\n",
      " '0.32',\n",
      " '1.5',\n",
      " '1.8',\n",
      " '1.4',\n",
      " '12.3']\n",
      "['2419',\n",
      " 'Anderson Varejao, C',\n",
      " 'Cleveland Cavaliers',\n",
      " '26',\n",
      " '26',\n",
      " '24.5',\n",
      " '9.8',\n",
      " '2.2',\n",
      " '4.3',\n",
      " '6.5',\n",
      " '1.3',\n",
      " '0.73',\n",
      " '0.62',\n",
      " '1.3',\n",
      " '2.2',\n",
      " '1.0',\n",
      " '17.6']\n",
      "['6474',\n",
      " 'Tristan Thompson, PF',\n",
      " 'Cleveland Cavaliers',\n",
      " '32',\n",
      " '5',\n",
      " '27.6',\n",
      " '9.3',\n",
      " '3.7',\n",
      " '4.1',\n",
      " '7.8',\n",
      " '0.6',\n",
      " '0.41',\n",
      " '0.84',\n",
      " '1.0',\n",
      " '2.5',\n",
      " '0.6',\n",
      " '16.4']\n",
      "['510',\n",
      " 'Shawn Marion, SF',\n",
      " 'Cleveland Cavaliers',\n",
      " '30',\n",
      " '22',\n",
      " '23.1',\n",
      " '5.6',\n",
      " '1.0',\n",
      " '2.5',\n",
      " '3.5',\n",
      " '1.1',\n",
      " '0.63',\n",
      " '0.73',\n",
      " '0.7',\n",
      " '1.1',\n",
      " '1.5',\n",
      " '10.6']\n",
      "['2489716',\n",
      " 'Matthew Dellavedova, SG',\n",
      " 'Cleveland Cavaliers',\n",
      " '17',\n",
      " '5',\n",
      " '20.9',\n",
      " '4.2',\n",
      " '0.6',\n",
      " '1.2',\n",
      " '1.9',\n",
      " '2.8',\n",
      " '0.35',\n",
      " '0.12',\n",
      " '1.1',\n",
      " '2.5',\n",
      " '2.5',\n",
      " '6.1']\n",
      "['2009',\n",
      " 'James Jones, SF',\n",
      " 'Cleveland Cavaliers',\n",
      " '15',\n",
      " '0',\n",
      " '10.5',\n",
      " '4.1',\n",
      " '0.1',\n",
      " '1.3',\n",
      " '1.4',\n",
      " '0.7',\n",
      " '0.27',\n",
      " '0.20',\n",
      " '0.1',\n",
      " '1.1',\n",
      " '11.0',\n",
      " '14.7']\n",
      "['558',\n",
      " 'Mike Miller, SF',\n",
      " 'Cleveland Cavaliers',\n",
      " '21',\n",
      " '8',\n",
      " '17.0',\n",
      " '3.0',\n",
      " '0.2',\n",
      " '2.1',\n",
      " '2.3',\n",
      " '1.0',\n",
      " '0.29',\n",
      " '0.10',\n",
      " '0.4',\n",
      " '2.0',\n",
      " '2.4',\n",
      " '6.1']\n",
      "['2528794',\n",
      " 'Joe Harris, SG',\n",
      " 'Cleveland Cavaliers',\n",
      " '27',\n",
      " '0',\n",
      " '10.7',\n",
      " '2.8',\n",
      " '0.2',\n",
      " '0.8',\n",
      " '1.0',\n",
      " '0.6',\n",
      " '0.11',\n",
      " '0.04',\n",
      " '0.4',\n",
      " '1.3',\n",
      " '1.3',\n",
      " '6.4']\n",
      "['1000',\n",
      " 'Brendan Haywood, C',\n",
      " 'Cleveland Cavaliers',\n",
      " '8',\n",
      " '1',\n",
      " '6.4',\n",
      " '2.4',\n",
      " '0.5',\n",
      " '1.4',\n",
      " '1.9',\n",
      " '0.0',\n",
      " '0.13',\n",
      " '0.75',\n",
      " '0.6',\n",
      " '1.1',\n",
      " '0.0',\n",
      " '12.7']\n",
      "['2489897',\n",
      " 'Will Cherry, PG',\n",
      " 'Cleveland Cavaliers',\n",
      " '8',\n",
      " '0',\n",
      " '8.6',\n",
      " '1.9',\n",
      " '0.1',\n",
      " '0.5',\n",
      " '0.6',\n",
      " '1.0',\n",
      " '0.75',\n",
      " '0.13',\n",
      " '0.5',\n",
      " '1.3',\n",
      " '2.0',\n",
      " '5.8']\n",
      "['4010',\n",
      " 'A.J. Price, PG†',\n",
      " 'Cleveland Cavaliers',\n",
      " '9',\n",
      " '0',\n",
      " '6.6',\n",
      " '1.1',\n",
      " '0.3',\n",
      " '0.9',\n",
      " '1.2',\n",
      " '0.8',\n",
      " '0.22',\n",
      " '0.00',\n",
      " '0.2',\n",
      " '0.1',\n",
      " '3.5',\n",
      " '4.4']\n",
      "['3041',\n",
      " 'Lou Amundson, PF',\n",
      " 'Cleveland Cavaliers',\n",
      " '11',\n",
      " '0',\n",
      " '6.8',\n",
      " '1.0',\n",
      " '0.5',\n",
      " '1.4',\n",
      " '1.8',\n",
      " '0.5',\n",
      " '0.09',\n",
      " '0.00',\n",
      " '0.4',\n",
      " '1.0',\n",
      " '1.3',\n",
      " '5.2']\n",
      "['2528355',\n",
      " 'Alex Kirk, C',\n",
      " 'Cleveland Cavaliers',\n",
      " '4',\n",
      " '0',\n",
      " '2.0',\n",
      " '1.0',\n",
      " '0.3',\n",
      " '0.0',\n",
      " '0.3',\n",
      " '0.3',\n",
      " '0.00',\n",
      " '0.00',\n",
      " '0.0',\n",
      " '0.3',\n",
      " '0.0',\n",
      " '19.9']\n"
     ]
    }
   ],
   "source": [
    "from pprint import pprint\n",
    "\n",
    "for row in chunks(players,17):\n",
    "    pprint(row)"
   ]
  },
  {
   "cell_type": "markdown",
   "metadata": {
    "run_control": {
     "frozen": false,
     "read_only": false
    }
   },
   "source": [
    "### Sweet!  As you can see from above, each player's data is in its own list.  Now we can just loop through the main list and insert the data from the nested lists into the sqlite database:"
   ]
  },
  {
   "cell_type": "code",
   "execution_count": 21,
   "metadata": {
    "run_control": {
     "frozen": false,
     "read_only": false
    }
   },
   "outputs": [],
   "source": [
    "import sqlite3\n",
    "\n",
    "conn = sqlite3.connect('/home/pybokeh/databases/nba')\n",
    "c = conn.cursor()\n",
    "\n",
    "for row in chunks(players,17):\n",
    "    try:\n",
    "        c.execute('INSERT INTO player_game_stats VALUES(?,?,?,?,?,?,?,?,?,?,?,?,?,?,?,?,?)', row)\n",
    "    except:\n",
    "        pass\n",
    "    conn.commit()\n",
    "conn.close()"
   ]
  },
  {
   "cell_type": "markdown",
   "metadata": {
    "run_control": {
     "frozen": false,
     "read_only": false
    }
   },
   "source": [
    "<a id=\"game_stats\"></a>"
   ]
  },
  {
   "cell_type": "markdown",
   "metadata": {
    "run_control": {
     "frozen": false,
     "read_only": false
    }
   },
   "source": [
    "# Below is all the code in one cell for getting player game stats:"
   ]
  },
  {
   "cell_type": "markdown",
   "metadata": {
    "run_control": {
     "frozen": false,
     "read_only": false
    }
   },
   "source": [
    "[[back to top](#top)]"
   ]
  },
  {
   "cell_type": "code",
   "execution_count": null,
   "metadata": {
    "run_control": {
     "frozen": false,
     "read_only": false
    }
   },
   "outputs": [],
   "source": [
    "import requests\n",
    "from bs4 import BeautifulSoup\n",
    "import sqlite3\n",
    "import re\n",
    "\n",
    "base_url = 'http://espn.go.com'\n",
    "\n",
    "teams_url = 'http://espn.go.com/nba/teams'\n",
    "html_teams = requests.get(teams_url)\n",
    "\n",
    "soup_teams = BeautifulSoup(html_teams.text, 'lxml')\n",
    "\n",
    "urls = soup_teams.find_all(href=re.compile('/nba/teams/stats'))\n",
    "\n",
    "team_urls = [base_url+url['href'] for url in urls]\n",
    "\n",
    "team_name_dict = {'bos':'Boston Celtics',\n",
    "                  'bkn':'Brooklyn Nets',\n",
    "                  'nyk':'New York Knicks',\n",
    "                  'phi':'Philadelphia 76ers',\n",
    "                  'tor':'Toronto Raptors',\n",
    "                  'gsw':'Golden State Warriors',\n",
    "                  'lac':'Los Angeles Clippers',\n",
    "                  'lal':'Los Angeles Lakers',\n",
    "                  'pho':'Phoenix Suns',\n",
    "                  'sac':'Sacramento Kings',\n",
    "                  'chi':'Chicago Bulls',\n",
    "                  'cle':'Cleveland Cavaliers',\n",
    "                  'det':'Detroit Pistons',\n",
    "                  'ind':'Indiana Pacers',\n",
    "                  'mil':'Milwaukee Bucks',\n",
    "                  'dal':'Dallas Mavericks',\n",
    "                  'hou':'Houston Rockets',\n",
    "                  'mem':'Memphis Grizzlies',\n",
    "                  'nor':'New Orleans Pelicans',\n",
    "                  'sas':'San Antonio Spurs',\n",
    "                  'atl':'Atlanta Hawks',\n",
    "                  'cha':'Charlotte Hornets',\n",
    "                  'mia':'Miami Heat',\n",
    "                  'orl':'Orlando Magic',\n",
    "                  'was':'Washington Wizards',\n",
    "                  'den':'Denver Nuggets',\n",
    "                  'min':'Minnesota Timberwolves',\n",
    "                  'okc':'Oklahoma City Thunder',\n",
    "                  'por':'Portland Trail Blazers',\n",
    "                  'uth':'Utah Jazz'\n",
    "                  }\n",
    "\n",
    "# http://stackoverflow.com/questions/312443/how-do-you-split-a-list-into-evenly-sized-chunks-in-python\n",
    "def chunks(l, n):\n",
    "    \"\"\" Yield successive n-sized chunks from l.\n",
    "    \"\"\"\n",
    "    for i in range(0, len(l), n):\n",
    "        yield l[i:i+n]\n",
    "\n",
    "for team in team_urls:\n",
    "    team_code = team[-3:]\n",
    "    html_team = requests.get(team)\n",
    "\n",
    "    soup_team = BeautifulSoup(html_team.text, 'lxml')\n",
    "\n",
    "    roster = soup_team.find_all('tr', class_=re.compile('player'))\n",
    "    roster_game_stats = roster[:int(len(roster)/2)]\n",
    "    #roster_shooting_stats = roster[-int(len(roster)/2):]\n",
    "    \n",
    "    players = []\n",
    "    for row in roster_game_stats:\n",
    "        for data in row:\n",
    "            players.append(data.get_text())\n",
    "        \n",
    "    player_ids = [player.a['href'].split('/')[7] for player in roster_game_stats]\n",
    "    \n",
    "    index = 0\n",
    "    increment = 0\n",
    "    for id in player_ids:\n",
    "        players.insert(index + increment, id)\n",
    "        index = index + 15\n",
    "        increment = increment + 1\n",
    "        \n",
    "    index = 2\n",
    "    increment = 0\n",
    "    for id in player_ids:\n",
    "        players.insert(index + increment, team_name_dict[team_code])\n",
    "        index = index + 16\n",
    "        increment = increment + 1\n",
    "\n",
    "    conn = sqlite3.connect('/home/pybokeh/databases/nba')\n",
    "    c = conn.cursor()\n",
    "\n",
    "    for row in chunks(players,17):\n",
    "        try:\n",
    "            c.execute('INSERT INTO player_game_stats VALUES(?,?,?,?,?,?,?,?,?,?,?,?,?,?,?,?,?)', row)\n",
    "        except:\n",
    "            pass\n",
    "        conn.commit()\n",
    "    conn.close()"
   ]
  },
  {
   "cell_type": "markdown",
   "metadata": {
    "run_control": {
     "frozen": false,
     "read_only": false
    }
   },
   "source": [
    "<a id=\"shooting_stats\"></a>"
   ]
  },
  {
   "cell_type": "markdown",
   "metadata": {
    "run_control": {
     "frozen": false,
     "read_only": false
    }
   },
   "source": [
    "# Below is all the code in one cell for getting player shooting stats:"
   ]
  },
  {
   "cell_type": "markdown",
   "metadata": {
    "run_control": {
     "frozen": false,
     "read_only": false
    }
   },
   "source": [
    "[[back to top](#top)]"
   ]
  },
  {
   "cell_type": "code",
   "execution_count": null,
   "metadata": {
    "run_control": {
     "frozen": false,
     "read_only": false
    }
   },
   "outputs": [],
   "source": [
    "import requests\n",
    "from bs4 import BeautifulSoup\n",
    "import sqlite3\n",
    "import re\n",
    "\n",
    "base_url = 'http://espn.go.com'\n",
    "\n",
    "teams_url = 'http://espn.go.com/nba/teams'\n",
    "html_teams = requests.get(teams_url)\n",
    "\n",
    "soup_teams = BeautifulSoup(html_teams.text, 'lxml')\n",
    "\n",
    "urls = soup_teams.find_all(href=re.compile('/nba/teams/stats'))\n",
    "\n",
    "team_urls = [base_url+url['href'] for url in urls]\n",
    "\n",
    "team_name_dict = {'bos':'Boston Celtics',\n",
    "                  'bkn':'Brooklyn Nets',\n",
    "                  'nyk':'New York Knicks',\n",
    "                  'phi':'Philadelphia 76ers',\n",
    "                  'tor':'Toronto Raptors',\n",
    "                  'gsw':'Golden State Warriors',\n",
    "                  'lac':'Los Angeles Clippers',\n",
    "                  'lal':'Los Angeles Lakers',\n",
    "                  'pho':'Phoenix Suns',\n",
    "                  'sac':'Sacramento Kings',\n",
    "                  'chi':'Chicago Bulls',\n",
    "                  'cle':'Cleveland Cavaliers',\n",
    "                  'det':'Detroit Pistons',\n",
    "                  'ind':'Indiana Pacers',\n",
    "                  'mil':'Milwaukee Bucks',\n",
    "                  'dal':'Dallas Mavericks',\n",
    "                  'hou':'Houston Rockets',\n",
    "                  'mem':'Memphis Grizzlies',\n",
    "                  'nor':'New Orleans Pelicans',\n",
    "                  'sas':'San Antonio Spurs',\n",
    "                  'atl':'Atlanta Hawks',\n",
    "                  'cha':'Charlotte Hornets',\n",
    "                  'mia':'Miami Heat',\n",
    "                  'orl':'Orlando Magic',\n",
    "                  'was':'Washington Wizards',\n",
    "                  'den':'Denver Nuggets',\n",
    "                  'min':'Minnesota Timberwolves',\n",
    "                  'okc':'Oklahoma City Thunder',\n",
    "                  'por':'Portland Trail Blazers',\n",
    "                  'uth':'Utah Jazz'\n",
    "                  }\n",
    "\n",
    "# http://stackoverflow.com/questions/312443/how-do-you-split-a-list-into-evenly-sized-chunks-in-python\n",
    "def chunks(l, n):\n",
    "    \"\"\" Yield successive n-sized chunks from l.\n",
    "    \"\"\"\n",
    "    for i in range(0, len(l), n):\n",
    "        yield l[i:i+n]\n",
    "\n",
    "for team in team_urls:\n",
    "    team_code = team[-3:]\n",
    "    html_team = requests.get(team)\n",
    "\n",
    "    soup_team = BeautifulSoup(html_team.text, 'lxml')\n",
    "\n",
    "    roster = soup_team.find_all('tr', class_=re.compile('player'))\n",
    "    #roster_game_stats = roster[:int(len(roster)/2)]\n",
    "    roster_shooting_stats = roster[-int(len(roster)/2):]\n",
    "    \n",
    "    players = []\n",
    "    for row in roster_shooting_stats:\n",
    "        for data in row:\n",
    "            players.append(data.get_text())\n",
    "        \n",
    "    player_ids = [player.a['href'].split('/')[7] for player in roster_shooting_stats]\n",
    "    \n",
    "    index = 0\n",
    "    increment = 0\n",
    "    for id in player_ids:\n",
    "        players.insert(index + increment, id)\n",
    "        index = index + 15\n",
    "        increment = increment + 1\n",
    "        \n",
    "    index = 2\n",
    "    increment = 0\n",
    "    for id in player_ids:\n",
    "        players.insert(index + increment, team_name_dict[team_code])\n",
    "        index = index + 16\n",
    "        increment = increment + 1\n",
    "\n",
    "    conn = sqlite3.connect('/home/pybokeh/databases/nba')\n",
    "    c = conn.cursor()\n",
    "\n",
    "    for row in chunks(players,17):\n",
    "        try:\n",
    "            c.execute('INSERT INTO player_shooting_stats VALUES(?,?,?,?,?,?,?,?,?,?,?,?,?,?,?,?,?)', row)\n",
    "        except:\n",
    "            pass\n",
    "        conn.commit()\n",
    "    conn.close()"
   ]
  },
  {
   "cell_type": "markdown",
   "metadata": {
    "run_control": {
     "frozen": false,
     "read_only": false
    }
   },
   "source": [
    "## Below are the database table definitions used to create the player game stats table and player shooting stats table in sqlite:"
   ]
  },
  {
   "cell_type": "markdown",
   "metadata": {
    "run_control": {
     "frozen": false,
     "read_only": false
    }
   },
   "source": [
    "CREATE TABLE \"player_game_stats\" (\n",
    "    \"id\" INTEGER PRIMARY KEY NOT NULL,\n",
    "    \"name_pos\" TEXT NOT NULL,\n",
    "    \"team_name\" TEXT NOT NULL,\n",
    "    \"GP\" INTEGER NOT NULL,\n",
    "    \"GS\" INTEGER NOT NULL,\n",
    "    \"MIN\" REAL NOT NULL,\n",
    "    \"PPG\" REAL NOT NULL,\n",
    "    \"OFFR\" REAL NOT NULL,\n",
    "    \"DEFR\" REAL NOT NULL,\n",
    "    \"RPG\" REAL NOT NULL,\n",
    "    \"APG\" REAL NOT NULL,\n",
    "    \"SPG\" REAL NOT NULL,\n",
    "    \"BPG\" REAL NOT NULL,\n",
    "    \"TPG\" REAL NOT NULL,\n",
    "    \"FPG\" REAL NOT NULL,\n",
    "    \"A2TO\" REAL NOT NULL,\n",
    "    \"PER\" REAL NOT NULL\n",
    ")\n",
    "\n",
    "CREATE TABLE \"player_shooting_stats\" (\n",
    "    \"id\" INTEGER PRIMARY KEY NOT NULL,\n",
    "    \"name_pos\" TEXT NOT NULL,\n",
    "    \"team_name\" TEXT NOT NULL,\n",
    "    \"FGM\" REAL NOT NULL,\n",
    "    \"FGA\" REAL NOT NULL,\n",
    "    \"FG_Perc\" REAL NOT NULL,\n",
    "    \"3PM\" REAL NOT NULL,\n",
    "    \"3PA\" REAL NOT NULL,\n",
    "    \"3P_Perc\" REAL NOT NULL,\n",
    "    \"FTM\" REAL NOT NULL,\n",
    "    \"FTA\" REAL NOT NULL,\n",
    "    \"FT_Perc\" REAL NOT NULL,\n",
    "    \"2PM\" REAL NOT NULL,\n",
    "    \"2PA\" REAL NOT NULL,\n",
    "    \"2P_Perc\" REAL NOT NULL,\n",
    "    \"PPS\" REAL NOT NULL,\n",
    "    \"AFG_Perc\" REAL NOT NULL\n",
    ")"
   ]
  },
  {
   "cell_type": "markdown",
   "metadata": {
    "run_control": {
     "frozen": false,
     "read_only": false
    }
   },
   "source": [
    "## OK, now that I have the data in sqlite database.  Let's go dig in!"
   ]
  },
  {
   "cell_type": "markdown",
   "metadata": {
    "run_control": {
     "frozen": false,
     "read_only": false
    }
   },
   "source": [
    "<a id=\"db_py\"></a>"
   ]
  },
  {
   "cell_type": "markdown",
   "metadata": {
    "run_control": {
     "frozen": false,
     "read_only": false
    }
   },
   "source": [
    "<center><h1>Using Yhat's [db.py](http://blog.yhathq.com/posts/introducing-db-py.html) to query the NBA sqlite database</h1></center>"
   ]
  },
  {
   "cell_type": "markdown",
   "metadata": {
    "run_control": {
     "frozen": false,
     "read_only": false
    }
   },
   "source": [
    "[[back to top](#top)]"
   ]
  },
  {
   "cell_type": "markdown",
   "metadata": {
    "run_control": {
     "frozen": false,
     "read_only": false
    }
   },
   "source": [
    "### If you are a fan of the [pandas](http://pandas.pydata.org/) library, I would definitely check out db.py since it is tightly integrated with pandas.  Not only that, db.py's API is so nice and easy to use."
   ]
  },
  {
   "cell_type": "code",
   "execution_count": 21,
   "metadata": {
    "run_control": {
     "frozen": false,
     "read_only": false
    }
   },
   "outputs": [
    {
     "name": "stderr",
     "output_type": "stream",
     "text": [
      "Indexing schema. This will take a second...finished!\n",
      "Refreshing schema. Please wait...done!\n"
     ]
    }
   ],
   "source": [
    "from db import DB\n",
    "import pandas as pd\n",
    "\n",
    "db = DB(filename=\"/home/pybokeh/databases/nba\", dbtype=\"sqlite\")"
   ]
  },
  {
   "cell_type": "markdown",
   "metadata": {
    "run_control": {
     "frozen": false,
     "read_only": false
    }
   },
   "source": [
    "### What if you have no idea what's in this sqlite database?  Like what tables does it contain?"
   ]
  },
  {
   "cell_type": "markdown",
   "metadata": {
    "run_control": {
     "frozen": false,
     "read_only": false
    }
   },
   "source": [
    "First, let's see what functions are available in db?  Let's use Python's built-in dir() method:"
   ]
  },
  {
   "cell_type": "code",
   "execution_count": 3,
   "metadata": {
    "run_control": {
     "frozen": false,
     "read_only": false
    }
   },
   "outputs": [
    {
     "data": {
      "text/plain": [
       "['__class__',\n",
       " '__delattr__',\n",
       " '__delete__',\n",
       " '__dict__',\n",
       " '__dir__',\n",
       " '__doc__',\n",
       " '__eq__',\n",
       " '__format__',\n",
       " '__ge__',\n",
       " '__getattribute__',\n",
       " '__gt__',\n",
       " '__hash__',\n",
       " '__init__',\n",
       " '__le__',\n",
       " '__lt__',\n",
       " '__module__',\n",
       " '__ne__',\n",
       " '__new__',\n",
       " '__reduce__',\n",
       " '__reduce_ex__',\n",
       " '__repr__',\n",
       " '__setattr__',\n",
       " '__sizeof__',\n",
       " '__str__',\n",
       " '__subclasshook__',\n",
       " '__weakref__',\n",
       " '_assign_limit',\n",
       " '_create_sqlite_metatable',\n",
       " '_query_templates',\n",
       " '_try_command',\n",
       " 'con',\n",
       " 'cur',\n",
       " 'dbname',\n",
       " 'dbtype',\n",
       " 'filename',\n",
       " 'find_column',\n",
       " 'find_table',\n",
       " 'hostname',\n",
       " 'keys_per_column',\n",
       " 'limit',\n",
       " 'load_credentials',\n",
       " 'password',\n",
       " 'port',\n",
       " 'query',\n",
       " 'query_from_file',\n",
       " 'refresh_schema',\n",
       " 'save_credentials',\n",
       " 'schemas',\n",
       " 'tables',\n",
       " 'to_redshift',\n",
       " 'username']"
      ]
     },
     "execution_count": 3,
     "metadata": {},
     "output_type": "execute_result"
    }
   ],
   "source": [
    "dir(db)"
   ]
  },
  {
   "cell_type": "markdown",
   "metadata": {
    "run_control": {
     "frozen": false,
     "read_only": false
    }
   },
   "source": [
    "### Hmmmm, \"tables\" look like something I may be interested in.  Let's check it out."
   ]
  },
  {
   "cell_type": "code",
   "execution_count": 4,
   "metadata": {
    "run_control": {
     "frozen": false,
     "read_only": false
    }
   },
   "outputs": [
    {
     "name": "stdout",
     "output_type": "stream",
     "text": [
      "Help on TableSet in module db.db object:\n",
      "\n",
      "class TableSet(builtins.object)\n",
      " |  Set of Tables. Used for displaying search results in terminal/ipython notebook.\n",
      " |  \n",
      " |  Methods defined here:\n",
      " |  \n",
      " |  __getitem__(self, i)\n",
      " |  \n",
      " |  __init__(self, tables)\n",
      " |  \n",
      " |  __repr__(self)\n",
      " |  \n",
      " |  ----------------------------------------------------------------------\n",
      " |  Data descriptors defined here:\n",
      " |  \n",
      " |  __dict__\n",
      " |      dictionary for instance variables (if defined)\n",
      " |  \n",
      " |  __weakref__\n",
      " |      list of weak references to the object (if defined)\n",
      "\n"
     ]
    }
   ],
   "source": [
    "help(db.tables)"
   ]
  },
  {
   "cell_type": "code",
   "execution_count": 2,
   "metadata": {
    "run_control": {
     "frozen": false,
     "read_only": false
    }
   },
   "outputs": [
    {
     "data": {
      "text/html": [
       "<table>\n",
       "    <tr>\n",
       "        <th>Table</th>\n",
       "        <th>Columns</th>\n",
       "    </tr>\n",
       "    <tr>\n",
       "        <td>player_game_stats</td>\n",
       "        <td>id, name_pos, team_name, GP, GS, MIN, PPG, OFFR, DEFR, RPG, APG, SPG, BPG, TPG, <br>FPG, A2TO, PER</td>\n",
       "    </tr>\n",
       "    <tr>\n",
       "        <td>player_shooting_stats</td>\n",
       "        <td>id, name_pos, team_name, FGM, FGA, FG_Perc, 3PM, 3PA, 3P_Perc, FTM, FTA, FT_Perc<br>, 2PM, 2PA, 2P_Perc, PPS, AFG_Perc</td>\n",
       "    </tr>\n",
       "</table>"
      ],
      "text/plain": [
       "+-----------------------+----------------------------------------------------------------------------------+\n",
       "| Table                 | Columns                                                                          |\n",
       "+-----------------------+----------------------------------------------------------------------------------+\n",
       "| player_game_stats     | id, name_pos, team_name, GP, GS, MIN, PPG, OFFR, DEFR, RPG, APG, SPG, BPG, TPG,  |\n",
       "|                       | FPG, A2TO, PER                                                                   |\n",
       "| player_shooting_stats | id, name_pos, team_name, FGM, FGA, FG_Perc, 3PM, 3PA, 3P_Perc, FTM, FTA, FT_Perc |\n",
       "|                       | , 2PM, 2PA, 2P_Perc, PPS, AFG_Perc                                               |\n",
       "+-----------------------+----------------------------------------------------------------------------------+"
      ]
     },
     "execution_count": 2,
     "metadata": {},
     "output_type": "execute_result"
    }
   ],
   "source": [
    "db.tables"
   ]
  },
  {
   "cell_type": "markdown",
   "metadata": {
    "run_control": {
     "frozen": false,
     "read_only": false
    }
   },
   "source": [
    "### Nice!  db.tables tells me what tables are inside the sqlite database."
   ]
  },
  {
   "cell_type": "markdown",
   "metadata": {
    "run_control": {
     "frozen": false,
     "read_only": false
    }
   },
   "source": [
    "### Let's now query the database.  But first, let's configure IPython notebook display options so that we can make sure we can view our results."
   ]
  },
  {
   "cell_type": "code",
   "execution_count": null,
   "metadata": {
    "run_control": {
     "frozen": false,
     "read_only": false
    }
   },
   "outputs": [],
   "source": [
    "pd.set_option(\"display.max_columns\",50)\n",
    "pd.set_option(\"display.max_rows\",999)"
   ]
  },
  {
   "cell_type": "markdown",
   "metadata": {
    "run_control": {
     "frozen": false,
     "read_only": false
    }
   },
   "source": [
    "### Now, let's return rows from our game stats table for just Cleveland Cavaliers players and order the results by PPG (points per game) in descending order.  Check the ESPN [site](http://espn.go.com/nba/team/stats/_/name/cle/cleveland-cavaliers) and see if results are similar.  If they played games since I last ran the script, obviously things will be different."
   ]
  },
  {
   "cell_type": "code",
   "execution_count": 5,
   "metadata": {
    "run_control": {
     "frozen": false,
     "read_only": false
    }
   },
   "outputs": [
    {
     "data": {
      "text/html": [
       "<div style=\"max-height:1000px;max-width:1500px;overflow:auto;\">\n",
       "<table border=\"1\" class=\"dataframe\">\n",
       "  <thead>\n",
       "    <tr style=\"text-align: right;\">\n",
       "      <th></th>\n",
       "      <th>id</th>\n",
       "      <th>name_pos</th>\n",
       "      <th>team_name</th>\n",
       "      <th>GP</th>\n",
       "      <th>GS</th>\n",
       "      <th>MIN</th>\n",
       "      <th>PPG</th>\n",
       "      <th>OFFR</th>\n",
       "      <th>DEFR</th>\n",
       "      <th>RPG</th>\n",
       "      <th>APG</th>\n",
       "      <th>SPG</th>\n",
       "      <th>BPG</th>\n",
       "      <th>TPG</th>\n",
       "      <th>FPG</th>\n",
       "      <th>A2TO</th>\n",
       "      <th>PER</th>\n",
       "    </tr>\n",
       "  </thead>\n",
       "  <tbody>\n",
       "    <tr>\n",
       "      <th>0 </th>\n",
       "      <td>    1966</td>\n",
       "      <td>        LeBron James, SF</td>\n",
       "      <td> Cleveland Cavaliers</td>\n",
       "      <td> 29</td>\n",
       "      <td> 29</td>\n",
       "      <td> 37.5</td>\n",
       "      <td> 25.2</td>\n",
       "      <td> 0.7</td>\n",
       "      <td> 4.6</td>\n",
       "      <td>  5.3</td>\n",
       "      <td> 7.6</td>\n",
       "      <td> 1.34</td>\n",
       "      <td> 0.79</td>\n",
       "      <td> 3.8</td>\n",
       "      <td> 1.7</td>\n",
       "      <td>  2.0</td>\n",
       "      <td> 25.0</td>\n",
       "    </tr>\n",
       "    <tr>\n",
       "      <th>1 </th>\n",
       "      <td>    6442</td>\n",
       "      <td>        Kyrie Irving, PG</td>\n",
       "      <td> Cleveland Cavaliers</td>\n",
       "      <td> 30</td>\n",
       "      <td> 30</td>\n",
       "      <td> 38.2</td>\n",
       "      <td> 20.8</td>\n",
       "      <td> 0.5</td>\n",
       "      <td> 2.6</td>\n",
       "      <td>  3.1</td>\n",
       "      <td> 5.3</td>\n",
       "      <td> 1.43</td>\n",
       "      <td> 0.30</td>\n",
       "      <td> 2.1</td>\n",
       "      <td> 2.2</td>\n",
       "      <td>  2.5</td>\n",
       "      <td> 19.8</td>\n",
       "    </tr>\n",
       "    <tr>\n",
       "      <th>2 </th>\n",
       "      <td>    3449</td>\n",
       "      <td>          Kevin Love, PF</td>\n",
       "      <td> Cleveland Cavaliers</td>\n",
       "      <td> 31</td>\n",
       "      <td> 31</td>\n",
       "      <td> 35.8</td>\n",
       "      <td> 16.7</td>\n",
       "      <td> 1.9</td>\n",
       "      <td> 8.2</td>\n",
       "      <td> 10.1</td>\n",
       "      <td> 2.4</td>\n",
       "      <td> 0.77</td>\n",
       "      <td> 0.45</td>\n",
       "      <td> 1.8</td>\n",
       "      <td> 2.3</td>\n",
       "      <td>  1.3</td>\n",
       "      <td> 17.9</td>\n",
       "    </tr>\n",
       "    <tr>\n",
       "      <th>3 </th>\n",
       "      <td>    6628</td>\n",
       "      <td>        Dion Waiters, SG</td>\n",
       "      <td> Cleveland Cavaliers</td>\n",
       "      <td> 31</td>\n",
       "      <td>  3</td>\n",
       "      <td> 23.5</td>\n",
       "      <td> 10.3</td>\n",
       "      <td> 0.3</td>\n",
       "      <td> 1.4</td>\n",
       "      <td>  1.6</td>\n",
       "      <td> 2.2</td>\n",
       "      <td> 1.29</td>\n",
       "      <td> 0.32</td>\n",
       "      <td> 1.5</td>\n",
       "      <td> 1.8</td>\n",
       "      <td>  1.4</td>\n",
       "      <td> 12.3</td>\n",
       "    </tr>\n",
       "    <tr>\n",
       "      <th>4 </th>\n",
       "      <td>    2419</td>\n",
       "      <td>     Anderson Varejao, C</td>\n",
       "      <td> Cleveland Cavaliers</td>\n",
       "      <td> 26</td>\n",
       "      <td> 26</td>\n",
       "      <td> 24.5</td>\n",
       "      <td>  9.8</td>\n",
       "      <td> 2.2</td>\n",
       "      <td> 4.3</td>\n",
       "      <td>  6.5</td>\n",
       "      <td> 1.3</td>\n",
       "      <td> 0.73</td>\n",
       "      <td> 0.62</td>\n",
       "      <td> 1.3</td>\n",
       "      <td> 2.2</td>\n",
       "      <td>  1.0</td>\n",
       "      <td> 17.6</td>\n",
       "    </tr>\n",
       "    <tr>\n",
       "      <th>5 </th>\n",
       "      <td>    6474</td>\n",
       "      <td>    Tristan Thompson, PF</td>\n",
       "      <td> Cleveland Cavaliers</td>\n",
       "      <td> 32</td>\n",
       "      <td>  5</td>\n",
       "      <td> 27.6</td>\n",
       "      <td>  9.3</td>\n",
       "      <td> 3.7</td>\n",
       "      <td> 4.1</td>\n",
       "      <td>  7.8</td>\n",
       "      <td> 0.6</td>\n",
       "      <td> 0.41</td>\n",
       "      <td> 0.84</td>\n",
       "      <td> 1.0</td>\n",
       "      <td> 2.5</td>\n",
       "      <td>  0.6</td>\n",
       "      <td> 16.4</td>\n",
       "    </tr>\n",
       "    <tr>\n",
       "      <th>6 </th>\n",
       "      <td>     510</td>\n",
       "      <td>        Shawn Marion, SF</td>\n",
       "      <td> Cleveland Cavaliers</td>\n",
       "      <td> 30</td>\n",
       "      <td> 22</td>\n",
       "      <td> 23.1</td>\n",
       "      <td>  5.6</td>\n",
       "      <td> 1.0</td>\n",
       "      <td> 2.5</td>\n",
       "      <td>  3.5</td>\n",
       "      <td> 1.1</td>\n",
       "      <td> 0.63</td>\n",
       "      <td> 0.73</td>\n",
       "      <td> 0.7</td>\n",
       "      <td> 1.1</td>\n",
       "      <td>  1.5</td>\n",
       "      <td> 10.6</td>\n",
       "    </tr>\n",
       "    <tr>\n",
       "      <th>7 </th>\n",
       "      <td> 2489716</td>\n",
       "      <td> Matthew Dellavedova, SG</td>\n",
       "      <td> Cleveland Cavaliers</td>\n",
       "      <td> 17</td>\n",
       "      <td>  5</td>\n",
       "      <td> 20.9</td>\n",
       "      <td>  4.2</td>\n",
       "      <td> 0.6</td>\n",
       "      <td> 1.2</td>\n",
       "      <td>  1.9</td>\n",
       "      <td> 2.8</td>\n",
       "      <td> 0.35</td>\n",
       "      <td> 0.12</td>\n",
       "      <td> 1.1</td>\n",
       "      <td> 2.5</td>\n",
       "      <td>  2.5</td>\n",
       "      <td>  6.1</td>\n",
       "    </tr>\n",
       "    <tr>\n",
       "      <th>8 </th>\n",
       "      <td>    2009</td>\n",
       "      <td>         James Jones, SF</td>\n",
       "      <td> Cleveland Cavaliers</td>\n",
       "      <td> 15</td>\n",
       "      <td>  0</td>\n",
       "      <td> 10.5</td>\n",
       "      <td>  4.1</td>\n",
       "      <td> 0.1</td>\n",
       "      <td> 1.3</td>\n",
       "      <td>  1.4</td>\n",
       "      <td> 0.7</td>\n",
       "      <td> 0.27</td>\n",
       "      <td> 0.20</td>\n",
       "      <td> 0.1</td>\n",
       "      <td> 1.1</td>\n",
       "      <td> 11.0</td>\n",
       "      <td> 14.7</td>\n",
       "    </tr>\n",
       "    <tr>\n",
       "      <th>9 </th>\n",
       "      <td>     558</td>\n",
       "      <td>         Mike Miller, SF</td>\n",
       "      <td> Cleveland Cavaliers</td>\n",
       "      <td> 21</td>\n",
       "      <td>  8</td>\n",
       "      <td> 17.0</td>\n",
       "      <td>  3.0</td>\n",
       "      <td> 0.2</td>\n",
       "      <td> 2.1</td>\n",
       "      <td>  2.3</td>\n",
       "      <td> 1.0</td>\n",
       "      <td> 0.29</td>\n",
       "      <td> 0.10</td>\n",
       "      <td> 0.4</td>\n",
       "      <td> 2.0</td>\n",
       "      <td>  2.4</td>\n",
       "      <td>  6.1</td>\n",
       "    </tr>\n",
       "    <tr>\n",
       "      <th>10</th>\n",
       "      <td> 2528794</td>\n",
       "      <td>          Joe Harris, SG</td>\n",
       "      <td> Cleveland Cavaliers</td>\n",
       "      <td> 27</td>\n",
       "      <td>  0</td>\n",
       "      <td> 10.7</td>\n",
       "      <td>  2.8</td>\n",
       "      <td> 0.2</td>\n",
       "      <td> 0.8</td>\n",
       "      <td>  1.0</td>\n",
       "      <td> 0.6</td>\n",
       "      <td> 0.11</td>\n",
       "      <td> 0.04</td>\n",
       "      <td> 0.4</td>\n",
       "      <td> 1.3</td>\n",
       "      <td>  1.3</td>\n",
       "      <td>  6.4</td>\n",
       "    </tr>\n",
       "    <tr>\n",
       "      <th>11</th>\n",
       "      <td>    1000</td>\n",
       "      <td>      Brendan Haywood, C</td>\n",
       "      <td> Cleveland Cavaliers</td>\n",
       "      <td>  8</td>\n",
       "      <td>  1</td>\n",
       "      <td>  6.4</td>\n",
       "      <td>  2.4</td>\n",
       "      <td> 0.5</td>\n",
       "      <td> 1.4</td>\n",
       "      <td>  1.9</td>\n",
       "      <td> 0.0</td>\n",
       "      <td> 0.13</td>\n",
       "      <td> 0.75</td>\n",
       "      <td> 0.6</td>\n",
       "      <td> 1.1</td>\n",
       "      <td>  0.0</td>\n",
       "      <td> 12.7</td>\n",
       "    </tr>\n",
       "    <tr>\n",
       "      <th>12</th>\n",
       "      <td> 2489897</td>\n",
       "      <td>         Will Cherry, PG</td>\n",
       "      <td> Cleveland Cavaliers</td>\n",
       "      <td>  8</td>\n",
       "      <td>  0</td>\n",
       "      <td>  8.6</td>\n",
       "      <td>  1.9</td>\n",
       "      <td> 0.1</td>\n",
       "      <td> 0.5</td>\n",
       "      <td>  0.6</td>\n",
       "      <td> 1.0</td>\n",
       "      <td> 0.75</td>\n",
       "      <td> 0.13</td>\n",
       "      <td> 0.5</td>\n",
       "      <td> 1.3</td>\n",
       "      <td>  2.0</td>\n",
       "      <td>  5.8</td>\n",
       "    </tr>\n",
       "    <tr>\n",
       "      <th>13</th>\n",
       "      <td>    4010</td>\n",
       "      <td>         A.J. Price, PG†</td>\n",
       "      <td> Cleveland Cavaliers</td>\n",
       "      <td>  9</td>\n",
       "      <td>  0</td>\n",
       "      <td>  6.6</td>\n",
       "      <td>  1.1</td>\n",
       "      <td> 0.3</td>\n",
       "      <td> 0.9</td>\n",
       "      <td>  1.2</td>\n",
       "      <td> 0.8</td>\n",
       "      <td> 0.22</td>\n",
       "      <td> 0.00</td>\n",
       "      <td> 0.2</td>\n",
       "      <td> 0.1</td>\n",
       "      <td>  3.5</td>\n",
       "      <td>  4.4</td>\n",
       "    </tr>\n",
       "    <tr>\n",
       "      <th>14</th>\n",
       "      <td>    3041</td>\n",
       "      <td>        Lou Amundson, PF</td>\n",
       "      <td> Cleveland Cavaliers</td>\n",
       "      <td> 11</td>\n",
       "      <td>  0</td>\n",
       "      <td>  6.8</td>\n",
       "      <td>  1.0</td>\n",
       "      <td> 0.5</td>\n",
       "      <td> 1.4</td>\n",
       "      <td>  1.8</td>\n",
       "      <td> 0.5</td>\n",
       "      <td> 0.09</td>\n",
       "      <td> 0.00</td>\n",
       "      <td> 0.4</td>\n",
       "      <td> 1.0</td>\n",
       "      <td>  1.3</td>\n",
       "      <td>  5.2</td>\n",
       "    </tr>\n",
       "    <tr>\n",
       "      <th>15</th>\n",
       "      <td> 2528355</td>\n",
       "      <td>            Alex Kirk, C</td>\n",
       "      <td> Cleveland Cavaliers</td>\n",
       "      <td>  4</td>\n",
       "      <td>  0</td>\n",
       "      <td>  2.0</td>\n",
       "      <td>  1.0</td>\n",
       "      <td> 0.3</td>\n",
       "      <td> 0.0</td>\n",
       "      <td>  0.3</td>\n",
       "      <td> 0.3</td>\n",
       "      <td> 0.00</td>\n",
       "      <td> 0.00</td>\n",
       "      <td> 0.0</td>\n",
       "      <td> 0.3</td>\n",
       "      <td>  0.0</td>\n",
       "      <td> 19.9</td>\n",
       "    </tr>\n",
       "  </tbody>\n",
       "</table>\n",
       "</div>"
      ],
      "text/plain": [
       "         id                 name_pos            team_name  GP  GS   MIN   PPG  \\\n",
       "0      1966         LeBron James, SF  Cleveland Cavaliers  29  29  37.5  25.2   \n",
       "1      6442         Kyrie Irving, PG  Cleveland Cavaliers  30  30  38.2  20.8   \n",
       "2      3449           Kevin Love, PF  Cleveland Cavaliers  31  31  35.8  16.7   \n",
       "3      6628         Dion Waiters, SG  Cleveland Cavaliers  31   3  23.5  10.3   \n",
       "4      2419      Anderson Varejao, C  Cleveland Cavaliers  26  26  24.5   9.8   \n",
       "5      6474     Tristan Thompson, PF  Cleveland Cavaliers  32   5  27.6   9.3   \n",
       "6       510         Shawn Marion, SF  Cleveland Cavaliers  30  22  23.1   5.6   \n",
       "7   2489716  Matthew Dellavedova, SG  Cleveland Cavaliers  17   5  20.9   4.2   \n",
       "8      2009          James Jones, SF  Cleveland Cavaliers  15   0  10.5   4.1   \n",
       "9       558          Mike Miller, SF  Cleveland Cavaliers  21   8  17.0   3.0   \n",
       "10  2528794           Joe Harris, SG  Cleveland Cavaliers  27   0  10.7   2.8   \n",
       "11     1000       Brendan Haywood, C  Cleveland Cavaliers   8   1   6.4   2.4   \n",
       "12  2489897          Will Cherry, PG  Cleveland Cavaliers   8   0   8.6   1.9   \n",
       "13     4010          A.J. Price, PG†  Cleveland Cavaliers   9   0   6.6   1.1   \n",
       "14     3041         Lou Amundson, PF  Cleveland Cavaliers  11   0   6.8   1.0   \n",
       "15  2528355             Alex Kirk, C  Cleveland Cavaliers   4   0   2.0   1.0   \n",
       "\n",
       "    OFFR  DEFR   RPG  APG   SPG   BPG  TPG  FPG  A2TO   PER  \n",
       "0    0.7   4.6   5.3  7.6  1.34  0.79  3.8  1.7   2.0  25.0  \n",
       "1    0.5   2.6   3.1  5.3  1.43  0.30  2.1  2.2   2.5  19.8  \n",
       "2    1.9   8.2  10.1  2.4  0.77  0.45  1.8  2.3   1.3  17.9  \n",
       "3    0.3   1.4   1.6  2.2  1.29  0.32  1.5  1.8   1.4  12.3  \n",
       "4    2.2   4.3   6.5  1.3  0.73  0.62  1.3  2.2   1.0  17.6  \n",
       "5    3.7   4.1   7.8  0.6  0.41  0.84  1.0  2.5   0.6  16.4  \n",
       "6    1.0   2.5   3.5  1.1  0.63  0.73  0.7  1.1   1.5  10.6  \n",
       "7    0.6   1.2   1.9  2.8  0.35  0.12  1.1  2.5   2.5   6.1  \n",
       "8    0.1   1.3   1.4  0.7  0.27  0.20  0.1  1.1  11.0  14.7  \n",
       "9    0.2   2.1   2.3  1.0  0.29  0.10  0.4  2.0   2.4   6.1  \n",
       "10   0.2   0.8   1.0  0.6  0.11  0.04  0.4  1.3   1.3   6.4  \n",
       "11   0.5   1.4   1.9  0.0  0.13  0.75  0.6  1.1   0.0  12.7  \n",
       "12   0.1   0.5   0.6  1.0  0.75  0.13  0.5  1.3   2.0   5.8  \n",
       "13   0.3   0.9   1.2  0.8  0.22  0.00  0.2  0.1   3.5   4.4  \n",
       "14   0.5   1.4   1.8  0.5  0.09  0.00  0.4  1.0   1.3   5.2  \n",
       "15   0.3   0.0   0.3  0.3  0.00  0.00  0.0  0.3   0.0  19.9  "
      ]
     },
     "execution_count": 5,
     "metadata": {},
     "output_type": "execute_result"
    }
   ],
   "source": [
    "db.query(\"select * from player_game_stats where team_name like '%Cav%' order by PPG desc;\")"
   ]
  },
  {
   "cell_type": "markdown",
   "metadata": {
    "run_control": {
     "frozen": false,
     "read_only": false
    }
   },
   "source": [
    "### Now, let's do the same for the player shooting stats table and order the results by FG_Perc (field goal percentage) in descending order."
   ]
  },
  {
   "cell_type": "code",
   "execution_count": 6,
   "metadata": {
    "run_control": {
     "frozen": false,
     "read_only": false
    }
   },
   "outputs": [
    {
     "data": {
      "text/html": [
       "<div style=\"max-height:1000px;max-width:1500px;overflow:auto;\">\n",
       "<table border=\"1\" class=\"dataframe\">\n",
       "  <thead>\n",
       "    <tr style=\"text-align: right;\">\n",
       "      <th></th>\n",
       "      <th>id</th>\n",
       "      <th>name_pos</th>\n",
       "      <th>team_name</th>\n",
       "      <th>FGM</th>\n",
       "      <th>FGA</th>\n",
       "      <th>FG_Perc</th>\n",
       "      <th>3PM</th>\n",
       "      <th>3PA</th>\n",
       "      <th>3P_Perc</th>\n",
       "      <th>FTM</th>\n",
       "      <th>FTA</th>\n",
       "      <th>FT_Perc</th>\n",
       "      <th>2PM</th>\n",
       "      <th>2PA</th>\n",
       "      <th>2P_Perc</th>\n",
       "      <th>PPS</th>\n",
       "      <th>AFG_Perc</th>\n",
       "    </tr>\n",
       "  </thead>\n",
       "  <tbody>\n",
       "    <tr>\n",
       "      <th>0 </th>\n",
       "      <td>    2419</td>\n",
       "      <td>     Anderson Varejao, C</td>\n",
       "      <td> Cleveland Cavaliers</td>\n",
       "      <td> 4.3</td>\n",
       "      <td>  7.7</td>\n",
       "      <td> 0.555</td>\n",
       "      <td> 0.0</td>\n",
       "      <td> 0.1</td>\n",
       "      <td> 0.000</td>\n",
       "      <td> 1.3</td>\n",
       "      <td> 1.7</td>\n",
       "      <td> 0.73</td>\n",
       "      <td> 4.3</td>\n",
       "      <td>  7.6</td>\n",
       "      <td> 0.561</td>\n",
       "      <td> 1.275</td>\n",
       "      <td> 0.56</td>\n",
       "    </tr>\n",
       "    <tr>\n",
       "      <th>1 </th>\n",
       "      <td>    6474</td>\n",
       "      <td>    Tristan Thompson, PF</td>\n",
       "      <td> Cleveland Cavaliers</td>\n",
       "      <td> 3.7</td>\n",
       "      <td>  6.8</td>\n",
       "      <td> 0.542</td>\n",
       "      <td> 0.0</td>\n",
       "      <td> 0.0</td>\n",
       "      <td> 0.000</td>\n",
       "      <td> 2.0</td>\n",
       "      <td> 3.2</td>\n",
       "      <td> 0.64</td>\n",
       "      <td> 3.7</td>\n",
       "      <td>  6.8</td>\n",
       "      <td> 0.542</td>\n",
       "      <td> 1.384</td>\n",
       "      <td> 0.54</td>\n",
       "    </tr>\n",
       "    <tr>\n",
       "      <th>2 </th>\n",
       "      <td>    1000</td>\n",
       "      <td>      Brendan Haywood, C</td>\n",
       "      <td> Cleveland Cavaliers</td>\n",
       "      <td> 1.1</td>\n",
       "      <td>  2.1</td>\n",
       "      <td> 0.529</td>\n",
       "      <td> 0.0</td>\n",
       "      <td> 0.0</td>\n",
       "      <td> 0.000</td>\n",
       "      <td> 0.1</td>\n",
       "      <td> 0.4</td>\n",
       "      <td> 0.33</td>\n",
       "      <td> 1.1</td>\n",
       "      <td>  2.1</td>\n",
       "      <td> 0.529</td>\n",
       "      <td> 1.118</td>\n",
       "      <td> 0.53</td>\n",
       "    </tr>\n",
       "    <tr>\n",
       "      <th>3 </th>\n",
       "      <td>    1966</td>\n",
       "      <td>        LeBron James, SF</td>\n",
       "      <td> Cleveland Cavaliers</td>\n",
       "      <td> 8.8</td>\n",
       "      <td> 18.1</td>\n",
       "      <td> 0.488</td>\n",
       "      <td> 1.7</td>\n",
       "      <td> 4.5</td>\n",
       "      <td> 0.369</td>\n",
       "      <td> 5.9</td>\n",
       "      <td> 7.9</td>\n",
       "      <td> 0.74</td>\n",
       "      <td> 7.1</td>\n",
       "      <td> 13.6</td>\n",
       "      <td> 0.527</td>\n",
       "      <td> 1.392</td>\n",
       "      <td> 0.53</td>\n",
       "    </tr>\n",
       "    <tr>\n",
       "      <th>4 </th>\n",
       "      <td>    6442</td>\n",
       "      <td>        Kyrie Irving, PG</td>\n",
       "      <td> Cleveland Cavaliers</td>\n",
       "      <td> 7.5</td>\n",
       "      <td> 16.0</td>\n",
       "      <td> 0.467</td>\n",
       "      <td> 1.7</td>\n",
       "      <td> 4.7</td>\n",
       "      <td> 0.357</td>\n",
       "      <td> 4.2</td>\n",
       "      <td> 5.0</td>\n",
       "      <td> 0.84</td>\n",
       "      <td> 5.8</td>\n",
       "      <td> 11.3</td>\n",
       "      <td> 0.512</td>\n",
       "      <td> 1.302</td>\n",
       "      <td> 0.52</td>\n",
       "    </tr>\n",
       "    <tr>\n",
       "      <th>5 </th>\n",
       "      <td>     510</td>\n",
       "      <td>        Shawn Marion, SF</td>\n",
       "      <td> Cleveland Cavaliers</td>\n",
       "      <td> 2.4</td>\n",
       "      <td>  5.3</td>\n",
       "      <td> 0.450</td>\n",
       "      <td> 0.4</td>\n",
       "      <td> 1.2</td>\n",
       "      <td> 0.314</td>\n",
       "      <td> 0.5</td>\n",
       "      <td> 0.6</td>\n",
       "      <td> 0.78</td>\n",
       "      <td> 2.0</td>\n",
       "      <td>  4.1</td>\n",
       "      <td> 0.488</td>\n",
       "      <td> 1.056</td>\n",
       "      <td> 0.48</td>\n",
       "    </tr>\n",
       "    <tr>\n",
       "      <th>6 </th>\n",
       "      <td>    3449</td>\n",
       "      <td>          Kevin Love, PF</td>\n",
       "      <td> Cleveland Cavaliers</td>\n",
       "      <td> 5.4</td>\n",
       "      <td> 12.7</td>\n",
       "      <td> 0.427</td>\n",
       "      <td> 1.6</td>\n",
       "      <td> 4.7</td>\n",
       "      <td> 0.342</td>\n",
       "      <td> 4.3</td>\n",
       "      <td> 5.1</td>\n",
       "      <td> 0.84</td>\n",
       "      <td> 3.8</td>\n",
       "      <td>  8.0</td>\n",
       "      <td> 0.478</td>\n",
       "      <td> 1.321</td>\n",
       "      <td> 0.49</td>\n",
       "    </tr>\n",
       "    <tr>\n",
       "      <th>7 </th>\n",
       "      <td>    6628</td>\n",
       "      <td>        Dion Waiters, SG</td>\n",
       "      <td> Cleveland Cavaliers</td>\n",
       "      <td> 4.1</td>\n",
       "      <td>  9.9</td>\n",
       "      <td> 0.410</td>\n",
       "      <td> 0.7</td>\n",
       "      <td> 2.5</td>\n",
       "      <td> 0.282</td>\n",
       "      <td> 1.5</td>\n",
       "      <td> 1.9</td>\n",
       "      <td> 0.79</td>\n",
       "      <td> 3.4</td>\n",
       "      <td>  7.4</td>\n",
       "      <td> 0.454</td>\n",
       "      <td> 1.042</td>\n",
       "      <td> 0.45</td>\n",
       "    </tr>\n",
       "    <tr>\n",
       "      <th>8 </th>\n",
       "      <td> 2528794</td>\n",
       "      <td>          Joe Harris, SG</td>\n",
       "      <td> Cleveland Cavaliers</td>\n",
       "      <td> 1.0</td>\n",
       "      <td>  2.4</td>\n",
       "      <td> 0.406</td>\n",
       "      <td> 0.7</td>\n",
       "      <td> 1.7</td>\n",
       "      <td> 0.383</td>\n",
       "      <td> 0.2</td>\n",
       "      <td> 0.3</td>\n",
       "      <td> 0.63</td>\n",
       "      <td> 0.3</td>\n",
       "      <td>  0.7</td>\n",
       "      <td> 0.471</td>\n",
       "      <td> 1.172</td>\n",
       "      <td> 0.55</td>\n",
       "    </tr>\n",
       "    <tr>\n",
       "      <th>9 </th>\n",
       "      <td>    2009</td>\n",
       "      <td>         James Jones, SF</td>\n",
       "      <td> Cleveland Cavaliers</td>\n",
       "      <td> 1.3</td>\n",
       "      <td>  3.3</td>\n",
       "      <td> 0.380</td>\n",
       "      <td> 1.3</td>\n",
       "      <td> 3.1</td>\n",
       "      <td> 0.413</td>\n",
       "      <td> 0.3</td>\n",
       "      <td> 0.4</td>\n",
       "      <td> 0.83</td>\n",
       "      <td> 0.0</td>\n",
       "      <td>  0.2</td>\n",
       "      <td> 0.000</td>\n",
       "      <td> 1.240</td>\n",
       "      <td> 0.57</td>\n",
       "    </tr>\n",
       "    <tr>\n",
       "      <th>10</th>\n",
       "      <td>     558</td>\n",
       "      <td>         Mike Miller, SF</td>\n",
       "      <td> Cleveland Cavaliers</td>\n",
       "      <td> 1.0</td>\n",
       "      <td>  2.8</td>\n",
       "      <td> 0.379</td>\n",
       "      <td> 0.9</td>\n",
       "      <td> 2.5</td>\n",
       "      <td> 0.358</td>\n",
       "      <td> 0.0</td>\n",
       "      <td> 0.0</td>\n",
       "      <td> 0.00</td>\n",
       "      <td> 0.1</td>\n",
       "      <td>  0.3</td>\n",
       "      <td> 0.600</td>\n",
       "      <td> 1.086</td>\n",
       "      <td> 0.54</td>\n",
       "    </tr>\n",
       "    <tr>\n",
       "      <th>11</th>\n",
       "      <td>    3041</td>\n",
       "      <td>        Lou Amundson, PF</td>\n",
       "      <td> Cleveland Cavaliers</td>\n",
       "      <td> 0.4</td>\n",
       "      <td>  1.0</td>\n",
       "      <td> 0.364</td>\n",
       "      <td> 0.0</td>\n",
       "      <td> 0.0</td>\n",
       "      <td> 0.000</td>\n",
       "      <td> 0.3</td>\n",
       "      <td> 0.5</td>\n",
       "      <td> 0.60</td>\n",
       "      <td> 0.4</td>\n",
       "      <td>  1.0</td>\n",
       "      <td> 0.364</td>\n",
       "      <td> 1.000</td>\n",
       "      <td> 0.36</td>\n",
       "    </tr>\n",
       "    <tr>\n",
       "      <th>12</th>\n",
       "      <td> 2528355</td>\n",
       "      <td>            Alex Kirk, C</td>\n",
       "      <td> Cleveland Cavaliers</td>\n",
       "      <td> 0.3</td>\n",
       "      <td>  0.8</td>\n",
       "      <td> 0.333</td>\n",
       "      <td> 0.0</td>\n",
       "      <td> 0.0</td>\n",
       "      <td> 0.000</td>\n",
       "      <td> 0.5</td>\n",
       "      <td> 0.5</td>\n",
       "      <td> 1.00</td>\n",
       "      <td> 0.3</td>\n",
       "      <td>  0.8</td>\n",
       "      <td> 0.333</td>\n",
       "      <td> 1.333</td>\n",
       "      <td> 0.33</td>\n",
       "    </tr>\n",
       "    <tr>\n",
       "      <th>13</th>\n",
       "      <td> 2489716</td>\n",
       "      <td> Matthew Dellavedova, SG</td>\n",
       "      <td> Cleveland Cavaliers</td>\n",
       "      <td> 1.4</td>\n",
       "      <td>  4.5</td>\n",
       "      <td> 0.316</td>\n",
       "      <td> 1.1</td>\n",
       "      <td> 3.1</td>\n",
       "      <td> 0.365</td>\n",
       "      <td> 0.2</td>\n",
       "      <td> 0.2</td>\n",
       "      <td> 1.00</td>\n",
       "      <td> 0.3</td>\n",
       "      <td>  1.4</td>\n",
       "      <td> 0.208</td>\n",
       "      <td> 0.934</td>\n",
       "      <td> 0.44</td>\n",
       "    </tr>\n",
       "    <tr>\n",
       "      <th>14</th>\n",
       "      <td> 2489897</td>\n",
       "      <td>         Will Cherry, PG</td>\n",
       "      <td> Cleveland Cavaliers</td>\n",
       "      <td> 0.6</td>\n",
       "      <td>  2.4</td>\n",
       "      <td> 0.263</td>\n",
       "      <td> 0.3</td>\n",
       "      <td> 1.1</td>\n",
       "      <td> 0.222</td>\n",
       "      <td> 0.4</td>\n",
       "      <td> 0.8</td>\n",
       "      <td> 0.50</td>\n",
       "      <td> 0.3</td>\n",
       "      <td>  1.3</td>\n",
       "      <td> 0.300</td>\n",
       "      <td> 0.789</td>\n",
       "      <td> 0.32</td>\n",
       "    </tr>\n",
       "    <tr>\n",
       "      <th>15</th>\n",
       "      <td>    4010</td>\n",
       "      <td>         A.J. Price, PG†</td>\n",
       "      <td> Cleveland Cavaliers</td>\n",
       "      <td> 0.3</td>\n",
       "      <td>  2.0</td>\n",
       "      <td> 0.167</td>\n",
       "      <td> 0.0</td>\n",
       "      <td> 0.8</td>\n",
       "      <td> 0.000</td>\n",
       "      <td> 0.4</td>\n",
       "      <td> 0.7</td>\n",
       "      <td> 0.67</td>\n",
       "      <td> 0.3</td>\n",
       "      <td>  1.2</td>\n",
       "      <td> 0.273</td>\n",
       "      <td> 0.556</td>\n",
       "      <td> 0.17</td>\n",
       "    </tr>\n",
       "  </tbody>\n",
       "</table>\n",
       "</div>"
      ],
      "text/plain": [
       "         id                 name_pos            team_name  FGM   FGA  FG_Perc  \\\n",
       "0      2419      Anderson Varejao, C  Cleveland Cavaliers  4.3   7.7    0.555   \n",
       "1      6474     Tristan Thompson, PF  Cleveland Cavaliers  3.7   6.8    0.542   \n",
       "2      1000       Brendan Haywood, C  Cleveland Cavaliers  1.1   2.1    0.529   \n",
       "3      1966         LeBron James, SF  Cleveland Cavaliers  8.8  18.1    0.488   \n",
       "4      6442         Kyrie Irving, PG  Cleveland Cavaliers  7.5  16.0    0.467   \n",
       "5       510         Shawn Marion, SF  Cleveland Cavaliers  2.4   5.3    0.450   \n",
       "6      3449           Kevin Love, PF  Cleveland Cavaliers  5.4  12.7    0.427   \n",
       "7      6628         Dion Waiters, SG  Cleveland Cavaliers  4.1   9.9    0.410   \n",
       "8   2528794           Joe Harris, SG  Cleveland Cavaliers  1.0   2.4    0.406   \n",
       "9      2009          James Jones, SF  Cleveland Cavaliers  1.3   3.3    0.380   \n",
       "10      558          Mike Miller, SF  Cleveland Cavaliers  1.0   2.8    0.379   \n",
       "11     3041         Lou Amundson, PF  Cleveland Cavaliers  0.4   1.0    0.364   \n",
       "12  2528355             Alex Kirk, C  Cleveland Cavaliers  0.3   0.8    0.333   \n",
       "13  2489716  Matthew Dellavedova, SG  Cleveland Cavaliers  1.4   4.5    0.316   \n",
       "14  2489897          Will Cherry, PG  Cleveland Cavaliers  0.6   2.4    0.263   \n",
       "15     4010          A.J. Price, PG†  Cleveland Cavaliers  0.3   2.0    0.167   \n",
       "\n",
       "    3PM  3PA  3P_Perc  FTM  FTA  FT_Perc  2PM   2PA  2P_Perc    PPS  AFG_Perc  \n",
       "0   0.0  0.1    0.000  1.3  1.7     0.73  4.3   7.6    0.561  1.275      0.56  \n",
       "1   0.0  0.0    0.000  2.0  3.2     0.64  3.7   6.8    0.542  1.384      0.54  \n",
       "2   0.0  0.0    0.000  0.1  0.4     0.33  1.1   2.1    0.529  1.118      0.53  \n",
       "3   1.7  4.5    0.369  5.9  7.9     0.74  7.1  13.6    0.527  1.392      0.53  \n",
       "4   1.7  4.7    0.357  4.2  5.0     0.84  5.8  11.3    0.512  1.302      0.52  \n",
       "5   0.4  1.2    0.314  0.5  0.6     0.78  2.0   4.1    0.488  1.056      0.48  \n",
       "6   1.6  4.7    0.342  4.3  5.1     0.84  3.8   8.0    0.478  1.321      0.49  \n",
       "7   0.7  2.5    0.282  1.5  1.9     0.79  3.4   7.4    0.454  1.042      0.45  \n",
       "8   0.7  1.7    0.383  0.2  0.3     0.63  0.3   0.7    0.471  1.172      0.55  \n",
       "9   1.3  3.1    0.413  0.3  0.4     0.83  0.0   0.2    0.000  1.240      0.57  \n",
       "10  0.9  2.5    0.358  0.0  0.0     0.00  0.1   0.3    0.600  1.086      0.54  \n",
       "11  0.0  0.0    0.000  0.3  0.5     0.60  0.4   1.0    0.364  1.000      0.36  \n",
       "12  0.0  0.0    0.000  0.5  0.5     1.00  0.3   0.8    0.333  1.333      0.33  \n",
       "13  1.1  3.1    0.365  0.2  0.2     1.00  0.3   1.4    0.208  0.934      0.44  \n",
       "14  0.3  1.1    0.222  0.4  0.8     0.50  0.3   1.3    0.300  0.789      0.32  \n",
       "15  0.0  0.8    0.000  0.4  0.7     0.67  0.3   1.2    0.273  0.556      0.17  "
      ]
     },
     "execution_count": 6,
     "metadata": {},
     "output_type": "execute_result"
    }
   ],
   "source": [
    "db.query(\"select * from player_shooting_stats where team_name like '%Cav%' order by FG_Perc desc;\")"
   ]
  },
  {
   "cell_type": "code",
   "execution_count": 7,
   "metadata": {
    "run_control": {
     "frozen": false,
     "read_only": false
    }
   },
   "outputs": [
    {
     "data": {
      "text/plain": [
       "pandas.core.frame.DataFrame"
      ]
     },
     "execution_count": 7,
     "metadata": {},
     "output_type": "execute_result"
    }
   ],
   "source": [
    "type(db.query(\"select * from player_game_stats limit 5;\"))"
   ]
  },
  {
   "cell_type": "markdown",
   "metadata": {
    "run_control": {
     "frozen": false,
     "read_only": false
    }
   },
   "source": [
    "## The resultset of the query is a Pandas dataframe!  Very nice!"
   ]
  },
  {
   "cell_type": "code",
   "execution_count": 10,
   "metadata": {
    "run_control": {
     "frozen": false,
     "read_only": false
    }
   },
   "outputs": [],
   "source": [
    "df = db.query(\"select * from player_game_stats where team_name like '%Cav%' order by PPG desc;\")"
   ]
  },
  {
   "cell_type": "code",
   "execution_count": 11,
   "metadata": {
    "run_control": {
     "frozen": false,
     "read_only": false
    }
   },
   "outputs": [
    {
     "data": {
      "text/html": [
       "<div style=\"max-height:1000px;max-width:1500px;overflow:auto;\">\n",
       "<table border=\"1\" class=\"dataframe\">\n",
       "  <thead>\n",
       "    <tr style=\"text-align: right;\">\n",
       "      <th></th>\n",
       "      <th>id</th>\n",
       "      <th>name_pos</th>\n",
       "      <th>team_name</th>\n",
       "      <th>GP</th>\n",
       "      <th>GS</th>\n",
       "      <th>MIN</th>\n",
       "      <th>PPG</th>\n",
       "      <th>OFFR</th>\n",
       "      <th>DEFR</th>\n",
       "      <th>RPG</th>\n",
       "      <th>APG</th>\n",
       "      <th>SPG</th>\n",
       "      <th>BPG</th>\n",
       "      <th>TPG</th>\n",
       "      <th>FPG</th>\n",
       "      <th>A2TO</th>\n",
       "      <th>PER</th>\n",
       "    </tr>\n",
       "  </thead>\n",
       "  <tbody>\n",
       "    <tr>\n",
       "      <th>0 </th>\n",
       "      <td>    1966</td>\n",
       "      <td>        LeBron James, SF</td>\n",
       "      <td> Cleveland Cavaliers</td>\n",
       "      <td> 29</td>\n",
       "      <td> 29</td>\n",
       "      <td> 37.5</td>\n",
       "      <td> 25.2</td>\n",
       "      <td> 0.7</td>\n",
       "      <td> 4.6</td>\n",
       "      <td>  5.3</td>\n",
       "      <td> 7.6</td>\n",
       "      <td> 1.34</td>\n",
       "      <td> 0.79</td>\n",
       "      <td> 3.8</td>\n",
       "      <td> 1.7</td>\n",
       "      <td>  2.0</td>\n",
       "      <td> 25.0</td>\n",
       "    </tr>\n",
       "    <tr>\n",
       "      <th>1 </th>\n",
       "      <td>    6442</td>\n",
       "      <td>        Kyrie Irving, PG</td>\n",
       "      <td> Cleveland Cavaliers</td>\n",
       "      <td> 30</td>\n",
       "      <td> 30</td>\n",
       "      <td> 38.2</td>\n",
       "      <td> 20.8</td>\n",
       "      <td> 0.5</td>\n",
       "      <td> 2.6</td>\n",
       "      <td>  3.1</td>\n",
       "      <td> 5.3</td>\n",
       "      <td> 1.43</td>\n",
       "      <td> 0.30</td>\n",
       "      <td> 2.1</td>\n",
       "      <td> 2.2</td>\n",
       "      <td>  2.5</td>\n",
       "      <td> 19.8</td>\n",
       "    </tr>\n",
       "    <tr>\n",
       "      <th>2 </th>\n",
       "      <td>    3449</td>\n",
       "      <td>          Kevin Love, PF</td>\n",
       "      <td> Cleveland Cavaliers</td>\n",
       "      <td> 31</td>\n",
       "      <td> 31</td>\n",
       "      <td> 35.8</td>\n",
       "      <td> 16.7</td>\n",
       "      <td> 1.9</td>\n",
       "      <td> 8.2</td>\n",
       "      <td> 10.1</td>\n",
       "      <td> 2.4</td>\n",
       "      <td> 0.77</td>\n",
       "      <td> 0.45</td>\n",
       "      <td> 1.8</td>\n",
       "      <td> 2.3</td>\n",
       "      <td>  1.3</td>\n",
       "      <td> 17.9</td>\n",
       "    </tr>\n",
       "    <tr>\n",
       "      <th>3 </th>\n",
       "      <td>    6628</td>\n",
       "      <td>        Dion Waiters, SG</td>\n",
       "      <td> Cleveland Cavaliers</td>\n",
       "      <td> 31</td>\n",
       "      <td>  3</td>\n",
       "      <td> 23.5</td>\n",
       "      <td> 10.3</td>\n",
       "      <td> 0.3</td>\n",
       "      <td> 1.4</td>\n",
       "      <td>  1.6</td>\n",
       "      <td> 2.2</td>\n",
       "      <td> 1.29</td>\n",
       "      <td> 0.32</td>\n",
       "      <td> 1.5</td>\n",
       "      <td> 1.8</td>\n",
       "      <td>  1.4</td>\n",
       "      <td> 12.3</td>\n",
       "    </tr>\n",
       "    <tr>\n",
       "      <th>4 </th>\n",
       "      <td>    2419</td>\n",
       "      <td>     Anderson Varejao, C</td>\n",
       "      <td> Cleveland Cavaliers</td>\n",
       "      <td> 26</td>\n",
       "      <td> 26</td>\n",
       "      <td> 24.5</td>\n",
       "      <td>  9.8</td>\n",
       "      <td> 2.2</td>\n",
       "      <td> 4.3</td>\n",
       "      <td>  6.5</td>\n",
       "      <td> 1.3</td>\n",
       "      <td> 0.73</td>\n",
       "      <td> 0.62</td>\n",
       "      <td> 1.3</td>\n",
       "      <td> 2.2</td>\n",
       "      <td>  1.0</td>\n",
       "      <td> 17.6</td>\n",
       "    </tr>\n",
       "    <tr>\n",
       "      <th>5 </th>\n",
       "      <td>    6474</td>\n",
       "      <td>    Tristan Thompson, PF</td>\n",
       "      <td> Cleveland Cavaliers</td>\n",
       "      <td> 32</td>\n",
       "      <td>  5</td>\n",
       "      <td> 27.6</td>\n",
       "      <td>  9.3</td>\n",
       "      <td> 3.7</td>\n",
       "      <td> 4.1</td>\n",
       "      <td>  7.8</td>\n",
       "      <td> 0.6</td>\n",
       "      <td> 0.41</td>\n",
       "      <td> 0.84</td>\n",
       "      <td> 1.0</td>\n",
       "      <td> 2.5</td>\n",
       "      <td>  0.6</td>\n",
       "      <td> 16.4</td>\n",
       "    </tr>\n",
       "    <tr>\n",
       "      <th>6 </th>\n",
       "      <td>     510</td>\n",
       "      <td>        Shawn Marion, SF</td>\n",
       "      <td> Cleveland Cavaliers</td>\n",
       "      <td> 30</td>\n",
       "      <td> 22</td>\n",
       "      <td> 23.1</td>\n",
       "      <td>  5.6</td>\n",
       "      <td> 1.0</td>\n",
       "      <td> 2.5</td>\n",
       "      <td>  3.5</td>\n",
       "      <td> 1.1</td>\n",
       "      <td> 0.63</td>\n",
       "      <td> 0.73</td>\n",
       "      <td> 0.7</td>\n",
       "      <td> 1.1</td>\n",
       "      <td>  1.5</td>\n",
       "      <td> 10.6</td>\n",
       "    </tr>\n",
       "    <tr>\n",
       "      <th>7 </th>\n",
       "      <td> 2489716</td>\n",
       "      <td> Matthew Dellavedova, SG</td>\n",
       "      <td> Cleveland Cavaliers</td>\n",
       "      <td> 17</td>\n",
       "      <td>  5</td>\n",
       "      <td> 20.9</td>\n",
       "      <td>  4.2</td>\n",
       "      <td> 0.6</td>\n",
       "      <td> 1.2</td>\n",
       "      <td>  1.9</td>\n",
       "      <td> 2.8</td>\n",
       "      <td> 0.35</td>\n",
       "      <td> 0.12</td>\n",
       "      <td> 1.1</td>\n",
       "      <td> 2.5</td>\n",
       "      <td>  2.5</td>\n",
       "      <td>  6.1</td>\n",
       "    </tr>\n",
       "    <tr>\n",
       "      <th>8 </th>\n",
       "      <td>    2009</td>\n",
       "      <td>         James Jones, SF</td>\n",
       "      <td> Cleveland Cavaliers</td>\n",
       "      <td> 15</td>\n",
       "      <td>  0</td>\n",
       "      <td> 10.5</td>\n",
       "      <td>  4.1</td>\n",
       "      <td> 0.1</td>\n",
       "      <td> 1.3</td>\n",
       "      <td>  1.4</td>\n",
       "      <td> 0.7</td>\n",
       "      <td> 0.27</td>\n",
       "      <td> 0.20</td>\n",
       "      <td> 0.1</td>\n",
       "      <td> 1.1</td>\n",
       "      <td> 11.0</td>\n",
       "      <td> 14.7</td>\n",
       "    </tr>\n",
       "    <tr>\n",
       "      <th>9 </th>\n",
       "      <td>     558</td>\n",
       "      <td>         Mike Miller, SF</td>\n",
       "      <td> Cleveland Cavaliers</td>\n",
       "      <td> 21</td>\n",
       "      <td>  8</td>\n",
       "      <td> 17.0</td>\n",
       "      <td>  3.0</td>\n",
       "      <td> 0.2</td>\n",
       "      <td> 2.1</td>\n",
       "      <td>  2.3</td>\n",
       "      <td> 1.0</td>\n",
       "      <td> 0.29</td>\n",
       "      <td> 0.10</td>\n",
       "      <td> 0.4</td>\n",
       "      <td> 2.0</td>\n",
       "      <td>  2.4</td>\n",
       "      <td>  6.1</td>\n",
       "    </tr>\n",
       "    <tr>\n",
       "      <th>10</th>\n",
       "      <td> 2528794</td>\n",
       "      <td>          Joe Harris, SG</td>\n",
       "      <td> Cleveland Cavaliers</td>\n",
       "      <td> 27</td>\n",
       "      <td>  0</td>\n",
       "      <td> 10.7</td>\n",
       "      <td>  2.8</td>\n",
       "      <td> 0.2</td>\n",
       "      <td> 0.8</td>\n",
       "      <td>  1.0</td>\n",
       "      <td> 0.6</td>\n",
       "      <td> 0.11</td>\n",
       "      <td> 0.04</td>\n",
       "      <td> 0.4</td>\n",
       "      <td> 1.3</td>\n",
       "      <td>  1.3</td>\n",
       "      <td>  6.4</td>\n",
       "    </tr>\n",
       "    <tr>\n",
       "      <th>11</th>\n",
       "      <td>    1000</td>\n",
       "      <td>      Brendan Haywood, C</td>\n",
       "      <td> Cleveland Cavaliers</td>\n",
       "      <td>  8</td>\n",
       "      <td>  1</td>\n",
       "      <td>  6.4</td>\n",
       "      <td>  2.4</td>\n",
       "      <td> 0.5</td>\n",
       "      <td> 1.4</td>\n",
       "      <td>  1.9</td>\n",
       "      <td> 0.0</td>\n",
       "      <td> 0.13</td>\n",
       "      <td> 0.75</td>\n",
       "      <td> 0.6</td>\n",
       "      <td> 1.1</td>\n",
       "      <td>  0.0</td>\n",
       "      <td> 12.7</td>\n",
       "    </tr>\n",
       "    <tr>\n",
       "      <th>12</th>\n",
       "      <td> 2489897</td>\n",
       "      <td>         Will Cherry, PG</td>\n",
       "      <td> Cleveland Cavaliers</td>\n",
       "      <td>  8</td>\n",
       "      <td>  0</td>\n",
       "      <td>  8.6</td>\n",
       "      <td>  1.9</td>\n",
       "      <td> 0.1</td>\n",
       "      <td> 0.5</td>\n",
       "      <td>  0.6</td>\n",
       "      <td> 1.0</td>\n",
       "      <td> 0.75</td>\n",
       "      <td> 0.13</td>\n",
       "      <td> 0.5</td>\n",
       "      <td> 1.3</td>\n",
       "      <td>  2.0</td>\n",
       "      <td>  5.8</td>\n",
       "    </tr>\n",
       "    <tr>\n",
       "      <th>13</th>\n",
       "      <td>    4010</td>\n",
       "      <td>         A.J. Price, PG†</td>\n",
       "      <td> Cleveland Cavaliers</td>\n",
       "      <td>  9</td>\n",
       "      <td>  0</td>\n",
       "      <td>  6.6</td>\n",
       "      <td>  1.1</td>\n",
       "      <td> 0.3</td>\n",
       "      <td> 0.9</td>\n",
       "      <td>  1.2</td>\n",
       "      <td> 0.8</td>\n",
       "      <td> 0.22</td>\n",
       "      <td> 0.00</td>\n",
       "      <td> 0.2</td>\n",
       "      <td> 0.1</td>\n",
       "      <td>  3.5</td>\n",
       "      <td>  4.4</td>\n",
       "    </tr>\n",
       "    <tr>\n",
       "      <th>14</th>\n",
       "      <td>    3041</td>\n",
       "      <td>        Lou Amundson, PF</td>\n",
       "      <td> Cleveland Cavaliers</td>\n",
       "      <td> 11</td>\n",
       "      <td>  0</td>\n",
       "      <td>  6.8</td>\n",
       "      <td>  1.0</td>\n",
       "      <td> 0.5</td>\n",
       "      <td> 1.4</td>\n",
       "      <td>  1.8</td>\n",
       "      <td> 0.5</td>\n",
       "      <td> 0.09</td>\n",
       "      <td> 0.00</td>\n",
       "      <td> 0.4</td>\n",
       "      <td> 1.0</td>\n",
       "      <td>  1.3</td>\n",
       "      <td>  5.2</td>\n",
       "    </tr>\n",
       "    <tr>\n",
       "      <th>15</th>\n",
       "      <td> 2528355</td>\n",
       "      <td>            Alex Kirk, C</td>\n",
       "      <td> Cleveland Cavaliers</td>\n",
       "      <td>  4</td>\n",
       "      <td>  0</td>\n",
       "      <td>  2.0</td>\n",
       "      <td>  1.0</td>\n",
       "      <td> 0.3</td>\n",
       "      <td> 0.0</td>\n",
       "      <td>  0.3</td>\n",
       "      <td> 0.3</td>\n",
       "      <td> 0.00</td>\n",
       "      <td> 0.00</td>\n",
       "      <td> 0.0</td>\n",
       "      <td> 0.3</td>\n",
       "      <td>  0.0</td>\n",
       "      <td> 19.9</td>\n",
       "    </tr>\n",
       "  </tbody>\n",
       "</table>\n",
       "</div>"
      ],
      "text/plain": [
       "         id                 name_pos            team_name  GP  GS   MIN   PPG  \\\n",
       "0      1966         LeBron James, SF  Cleveland Cavaliers  29  29  37.5  25.2   \n",
       "1      6442         Kyrie Irving, PG  Cleveland Cavaliers  30  30  38.2  20.8   \n",
       "2      3449           Kevin Love, PF  Cleveland Cavaliers  31  31  35.8  16.7   \n",
       "3      6628         Dion Waiters, SG  Cleveland Cavaliers  31   3  23.5  10.3   \n",
       "4      2419      Anderson Varejao, C  Cleveland Cavaliers  26  26  24.5   9.8   \n",
       "5      6474     Tristan Thompson, PF  Cleveland Cavaliers  32   5  27.6   9.3   \n",
       "6       510         Shawn Marion, SF  Cleveland Cavaliers  30  22  23.1   5.6   \n",
       "7   2489716  Matthew Dellavedova, SG  Cleveland Cavaliers  17   5  20.9   4.2   \n",
       "8      2009          James Jones, SF  Cleveland Cavaliers  15   0  10.5   4.1   \n",
       "9       558          Mike Miller, SF  Cleveland Cavaliers  21   8  17.0   3.0   \n",
       "10  2528794           Joe Harris, SG  Cleveland Cavaliers  27   0  10.7   2.8   \n",
       "11     1000       Brendan Haywood, C  Cleveland Cavaliers   8   1   6.4   2.4   \n",
       "12  2489897          Will Cherry, PG  Cleveland Cavaliers   8   0   8.6   1.9   \n",
       "13     4010          A.J. Price, PG†  Cleveland Cavaliers   9   0   6.6   1.1   \n",
       "14     3041         Lou Amundson, PF  Cleveland Cavaliers  11   0   6.8   1.0   \n",
       "15  2528355             Alex Kirk, C  Cleveland Cavaliers   4   0   2.0   1.0   \n",
       "\n",
       "    OFFR  DEFR   RPG  APG   SPG   BPG  TPG  FPG  A2TO   PER  \n",
       "0    0.7   4.6   5.3  7.6  1.34  0.79  3.8  1.7   2.0  25.0  \n",
       "1    0.5   2.6   3.1  5.3  1.43  0.30  2.1  2.2   2.5  19.8  \n",
       "2    1.9   8.2  10.1  2.4  0.77  0.45  1.8  2.3   1.3  17.9  \n",
       "3    0.3   1.4   1.6  2.2  1.29  0.32  1.5  1.8   1.4  12.3  \n",
       "4    2.2   4.3   6.5  1.3  0.73  0.62  1.3  2.2   1.0  17.6  \n",
       "5    3.7   4.1   7.8  0.6  0.41  0.84  1.0  2.5   0.6  16.4  \n",
       "6    1.0   2.5   3.5  1.1  0.63  0.73  0.7  1.1   1.5  10.6  \n",
       "7    0.6   1.2   1.9  2.8  0.35  0.12  1.1  2.5   2.5   6.1  \n",
       "8    0.1   1.3   1.4  0.7  0.27  0.20  0.1  1.1  11.0  14.7  \n",
       "9    0.2   2.1   2.3  1.0  0.29  0.10  0.4  2.0   2.4   6.1  \n",
       "10   0.2   0.8   1.0  0.6  0.11  0.04  0.4  1.3   1.3   6.4  \n",
       "11   0.5   1.4   1.9  0.0  0.13  0.75  0.6  1.1   0.0  12.7  \n",
       "12   0.1   0.5   0.6  1.0  0.75  0.13  0.5  1.3   2.0   5.8  \n",
       "13   0.3   0.9   1.2  0.8  0.22  0.00  0.2  0.1   3.5   4.4  \n",
       "14   0.5   1.4   1.8  0.5  0.09  0.00  0.4  1.0   1.3   5.2  \n",
       "15   0.3   0.0   0.3  0.3  0.00  0.00  0.0  0.3   0.0  19.9  "
      ]
     },
     "execution_count": 11,
     "metadata": {},
     "output_type": "execute_result"
    }
   ],
   "source": [
    "df"
   ]
  },
  {
   "cell_type": "code",
   "execution_count": 18,
   "metadata": {
    "run_control": {
     "frozen": false,
     "read_only": false
    }
   },
   "outputs": [
    {
     "data": {
      "text/html": [
       "<div style=\"max-height:1000px;max-width:1500px;overflow:auto;\">\n",
       "<table border=\"1\" class=\"dataframe\">\n",
       "  <thead>\n",
       "    <tr style=\"text-align: right;\">\n",
       "      <th></th>\n",
       "      <th>id</th>\n",
       "      <th>name_pos</th>\n",
       "      <th>team_name</th>\n",
       "      <th>GP</th>\n",
       "      <th>GS</th>\n",
       "      <th>MIN</th>\n",
       "      <th>PPG</th>\n",
       "      <th>OFFR</th>\n",
       "      <th>DEFR</th>\n",
       "      <th>RPG</th>\n",
       "      <th>APG</th>\n",
       "      <th>SPG</th>\n",
       "      <th>BPG</th>\n",
       "      <th>TPG</th>\n",
       "      <th>FPG</th>\n",
       "      <th>A2TO</th>\n",
       "      <th>PER</th>\n",
       "    </tr>\n",
       "  </thead>\n",
       "  <tbody>\n",
       "    <tr>\n",
       "      <th>0</th>\n",
       "      <td> 1966</td>\n",
       "      <td>    LeBron James, SF</td>\n",
       "      <td> Cleveland Cavaliers</td>\n",
       "      <td> 29</td>\n",
       "      <td> 29</td>\n",
       "      <td> 37.5</td>\n",
       "      <td> 25.2</td>\n",
       "      <td> 0.7</td>\n",
       "      <td> 4.6</td>\n",
       "      <td>  5.3</td>\n",
       "      <td> 7.6</td>\n",
       "      <td> 1.34</td>\n",
       "      <td> 0.79</td>\n",
       "      <td> 3.8</td>\n",
       "      <td> 1.7</td>\n",
       "      <td> 2.0</td>\n",
       "      <td> 25.0</td>\n",
       "    </tr>\n",
       "    <tr>\n",
       "      <th>1</th>\n",
       "      <td> 6442</td>\n",
       "      <td>    Kyrie Irving, PG</td>\n",
       "      <td> Cleveland Cavaliers</td>\n",
       "      <td> 30</td>\n",
       "      <td> 30</td>\n",
       "      <td> 38.2</td>\n",
       "      <td> 20.8</td>\n",
       "      <td> 0.5</td>\n",
       "      <td> 2.6</td>\n",
       "      <td>  3.1</td>\n",
       "      <td> 5.3</td>\n",
       "      <td> 1.43</td>\n",
       "      <td> 0.30</td>\n",
       "      <td> 2.1</td>\n",
       "      <td> 2.2</td>\n",
       "      <td> 2.5</td>\n",
       "      <td> 19.8</td>\n",
       "    </tr>\n",
       "    <tr>\n",
       "      <th>2</th>\n",
       "      <td> 3449</td>\n",
       "      <td>      Kevin Love, PF</td>\n",
       "      <td> Cleveland Cavaliers</td>\n",
       "      <td> 31</td>\n",
       "      <td> 31</td>\n",
       "      <td> 35.8</td>\n",
       "      <td> 16.7</td>\n",
       "      <td> 1.9</td>\n",
       "      <td> 8.2</td>\n",
       "      <td> 10.1</td>\n",
       "      <td> 2.4</td>\n",
       "      <td> 0.77</td>\n",
       "      <td> 0.45</td>\n",
       "      <td> 1.8</td>\n",
       "      <td> 2.3</td>\n",
       "      <td> 1.3</td>\n",
       "      <td> 17.9</td>\n",
       "    </tr>\n",
       "    <tr>\n",
       "      <th>3</th>\n",
       "      <td> 6628</td>\n",
       "      <td>    Dion Waiters, SG</td>\n",
       "      <td> Cleveland Cavaliers</td>\n",
       "      <td> 31</td>\n",
       "      <td>  3</td>\n",
       "      <td> 23.5</td>\n",
       "      <td> 10.3</td>\n",
       "      <td> 0.3</td>\n",
       "      <td> 1.4</td>\n",
       "      <td>  1.6</td>\n",
       "      <td> 2.2</td>\n",
       "      <td> 1.29</td>\n",
       "      <td> 0.32</td>\n",
       "      <td> 1.5</td>\n",
       "      <td> 1.8</td>\n",
       "      <td> 1.4</td>\n",
       "      <td> 12.3</td>\n",
       "    </tr>\n",
       "    <tr>\n",
       "      <th>4</th>\n",
       "      <td> 2419</td>\n",
       "      <td> Anderson Varejao, C</td>\n",
       "      <td> Cleveland Cavaliers</td>\n",
       "      <td> 26</td>\n",
       "      <td> 26</td>\n",
       "      <td> 24.5</td>\n",
       "      <td>  9.8</td>\n",
       "      <td> 2.2</td>\n",
       "      <td> 4.3</td>\n",
       "      <td>  6.5</td>\n",
       "      <td> 1.3</td>\n",
       "      <td> 0.73</td>\n",
       "      <td> 0.62</td>\n",
       "      <td> 1.3</td>\n",
       "      <td> 2.2</td>\n",
       "      <td> 1.0</td>\n",
       "      <td> 17.6</td>\n",
       "    </tr>\n",
       "  </tbody>\n",
       "</table>\n",
       "</div>"
      ],
      "text/plain": [
       "     id             name_pos            team_name  GP  GS   MIN   PPG  OFFR  \\\n",
       "0  1966     LeBron James, SF  Cleveland Cavaliers  29  29  37.5  25.2   0.7   \n",
       "1  6442     Kyrie Irving, PG  Cleveland Cavaliers  30  30  38.2  20.8   0.5   \n",
       "2  3449       Kevin Love, PF  Cleveland Cavaliers  31  31  35.8  16.7   1.9   \n",
       "3  6628     Dion Waiters, SG  Cleveland Cavaliers  31   3  23.5  10.3   0.3   \n",
       "4  2419  Anderson Varejao, C  Cleveland Cavaliers  26  26  24.5   9.8   2.2   \n",
       "\n",
       "   DEFR   RPG  APG   SPG   BPG  TPG  FPG  A2TO   PER  \n",
       "0   4.6   5.3  7.6  1.34  0.79  3.8  1.7   2.0  25.0  \n",
       "1   2.6   3.1  5.3  1.43  0.30  2.1  2.2   2.5  19.8  \n",
       "2   8.2  10.1  2.4  0.77  0.45  1.8  2.3   1.3  17.9  \n",
       "3   1.4   1.6  2.2  1.29  0.32  1.5  1.8   1.4  12.3  \n",
       "4   4.3   6.5  1.3  0.73  0.62  1.3  2.2   1.0  17.6  "
      ]
     },
     "execution_count": 18,
     "metadata": {},
     "output_type": "execute_result"
    }
   ],
   "source": [
    "df.head() # grab just the top 5 rows"
   ]
  },
  {
   "cell_type": "markdown",
   "metadata": {
    "run_control": {
     "frozen": false,
     "read_only": false
    }
   },
   "source": [
    "### On average, how many minutes do the Cav players play per game?"
   ]
  },
  {
   "cell_type": "code",
   "execution_count": 20,
   "metadata": {
    "run_control": {
     "frozen": false,
     "read_only": false
    }
   },
   "outputs": [
    {
     "data": {
      "text/plain": [
       "18.731249999999999"
      ]
     },
     "execution_count": 20,
     "metadata": {},
     "output_type": "execute_result"
    }
   ],
   "source": [
    "df.MIN.mean()"
   ]
  },
  {
   "cell_type": "markdown",
   "metadata": {
    "run_control": {
     "frozen": false,
     "read_only": false
    }
   },
   "source": [
    "I know that is not very interesting, but just wanted to show that now we can leverage the pandas library.  There are just so many things you can do with pandas to analyze data with, I recommend just checking out the [documentation](http://pandas.pydata.org/pandas-docs/stable/cookbook.html)."
   ]
  },
  {
   "cell_type": "markdown",
   "metadata": {
    "run_control": {
     "frozen": false,
     "read_only": false
    }
   },
   "source": [
    "# UPDATE: I've added a [\"Part 2\"](http://nbviewer.ipython.org/github/pybokeh/ipython_notebooks/blob/master/web_scraping/NBA_Regular_Season_Stats.ipynb) where I show how to scrape the individualized regular season stats for every NBA player."
   ]
  },
  {
   "cell_type": "markdown",
   "metadata": {
    "run_control": {
     "frozen": false,
     "read_only": false
    }
   },
   "source": [
    "## If you don't want the step-by-step breakdown, here's the \"all-in-one\" notebook [version](http://nbviewer.ipython.org/github/pybokeh/ipython_notebooks/blob/master/web_scraping/NBA_Web_Scraping_All_In_One.ipynb)."
   ]
  },
  {
   "cell_type": "markdown",
   "metadata": {
    "run_control": {
     "frozen": false,
     "read_only": false
    }
   },
   "source": [
    "[[back to top]](#top)"
   ]
  }
 ],
 "metadata": {
  "hide_input": false,
  "kernelspec": {
   "display_name": "Python 3",
   "language": "python",
   "name": "python3"
  },
  "language_info": {
   "codemirror_mode": {
    "name": "ipython",
    "version": 3
   },
   "file_extension": ".py",
   "mimetype": "text/x-python",
   "name": "python",
   "nbconvert_exporter": "python",
   "pygments_lexer": "ipython3",
   "version": "3.7.3"
  },
  "varInspector": {
   "cols": {
    "lenName": 16,
    "lenType": 16,
    "lenVar": 40
   },
   "kernels_config": {
    "python": {
     "delete_cmd_postfix": "",
     "delete_cmd_prefix": "del ",
     "library": "var_list.py",
     "varRefreshCmd": "print(var_dic_list())"
    },
    "r": {
     "delete_cmd_postfix": ") ",
     "delete_cmd_prefix": "rm(",
     "library": "var_list.r",
     "varRefreshCmd": "cat(var_dic_list()) "
    }
   },
   "types_to_exclude": [
    "module",
    "function",
    "builtin_function_or_method",
    "instance",
    "_Feature"
   ],
   "window_display": false
  }
 },
 "nbformat": 4,
 "nbformat_minor": 1
}
