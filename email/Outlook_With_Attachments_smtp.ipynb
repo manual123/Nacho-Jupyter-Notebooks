{
 "cells": [
  {
   "cell_type": "code",
   "execution_count": 2,
   "metadata": {},
   "outputs": [],
   "source": [
    "import smtplib\n",
    "import os.path as op\n",
    "from email.mime.multipart import MIMEMultipart\n",
    "from email.mime.base import MIMEBase\n",
    "from email.mime.text import MIMEText\n",
    "from email.utils import COMMASPACE, formatdate\n",
    "from email import encoders\n",
    "from getpass import getpass"
   ]
  },
  {
   "cell_type": "code",
   "execution_count": 3,
   "metadata": {},
   "outputs": [
    {
     "name": "stdout",
     "output_type": "stream",
     "text": [
      "Enter your Outlook email: john_doe@some_company.com\n",
      "Enter password: ········\n"
     ]
    }
   ],
   "source": [
    "OUTLOOK_USER = input(\"Enter your Outlook email: \")\n",
    "OUTLOOK_PWD = getpass(\"Enter password: \")"
   ]
  },
  {
   "cell_type": "code",
   "execution_count": 4,
   "metadata": {},
   "outputs": [],
   "source": [
    "SUBJECT = 'Test Email'\n",
    "BODY = 'Just a Test'\n",
    "TO = 'another_dude@some_company.com'\n",
    "\n",
    "def sendEmail(sender: str, pwd: str, to, subject: str, message: str, files: list):\n",
    "    recipient = to if type(to) is list else [to]\n",
    "    msg = MIMEMultipart()\n",
    "    msg['Subject'] = subject\n",
    "    msg['From'] = sender\n",
    "    msg['To'] = COMMASPACE.join(recipient)\n",
    "    msg.attach(MIMEText(message))\n",
    "    \n",
    "    for path in files:\n",
    "        part = MIMEBase('application', \"octet-stream\")\n",
    "        with open(path, 'rb') as file:\n",
    "            part.set_payload(file.read())\n",
    "        encoders.encode_base64(part)\n",
    "        part.add_header('Content-Disposition',\n",
    "                        'attachment; filename=\"{}\"'.format(op.basename(path)))\n",
    "        msg.attach(part)\n",
    "    \n",
    "    server = smtplib.SMTP('smtp.office365.com:587')\n",
    "    server.ehlo()\n",
    "    server.starttls()\n",
    "\n",
    "    try:\n",
    "        server.login(sender,pwd)\n",
    "        print('Successfully authenticated...')\n",
    "    except smtplib.SMTPAuthenticationError:               # Check for authentication error\n",
    "        return \" Authentication ERROR\"\n",
    "\n",
    "    try:\n",
    "        server.sendmail(sender,recipient,msg.as_string())\n",
    "        print('Email sent!')\n",
    "    except smtplib.SMTPRecipientsRefused:                # Check if recipient's email was accepted by the server\n",
    "        return \"ERROR\"\n",
    "    server.quit()"
   ]
  },
  {
   "cell_type": "code",
   "execution_count": 17,
   "metadata": {},
   "outputs": [
    {
     "name": "stdout",
     "output_type": "stream",
     "text": [
      "Successfully authenticated...\n",
      "Email sent!\n"
     ]
    }
   ],
   "source": [
    "sendEmail(OUTLOOK_USER, OUTLOOK_PWD, TO, SUBJECT, BODY, ['D:\\\\temp\\\\125N.xlsx'])"
   ]
  }
 ],
 "metadata": {
  "_draft": {
   "nbviewer_url": "https://gist.github.com/e3f17a7df67d6ec7ee350186d105d839"
  },
  "gist": {
   "data": {
    "description": "email/sending_email_with_gmail.ipynb",
    "public": true
   },
   "id": "e3f17a7df67d6ec7ee350186d105d839"
  },
  "hide_input": false,
  "kernelspec": {
   "display_name": "Python 3",
   "language": "python",
   "name": "python3"
  },
  "language_info": {
   "codemirror_mode": {
    "name": "ipython",
    "version": 3
   },
   "file_extension": ".py",
   "mimetype": "text/x-python",
   "name": "python",
   "nbconvert_exporter": "python",
   "pygments_lexer": "ipython3",
   "version": "3.7.1"
  }
 },
 "nbformat": 4,
 "nbformat_minor": 1
}
