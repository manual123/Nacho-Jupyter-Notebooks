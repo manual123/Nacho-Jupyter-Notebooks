{
 "metadata": {
  "name": ""
 },
 "nbformat": 3,
 "nbformat_minor": 0,
 "worksheets": [
  {
   "cells": [
    {
     "cell_type": "markdown",
     "metadata": {},
     "source": [
      "<center><h3>Plotting Litecoin Closing Price in US Dollars</h3></center>"
     ]
    },
    {
     "cell_type": "markdown",
     "metadata": {},
     "source": [
      "Litecoin data was obtained [here](http://www.ltc-charts.com/period-charts.php?period=ytd&resolution=day&pair=ltc-usd&market=bitfinex).  We will use the BeautifulSoup library to parse the HTML page.  Open that web page and view its source to understand why the following code is doing what it is doing."
     ]
    },
    {
     "cell_type": "code",
     "collapsed": false,
     "input": [
      "from bs4 import BeautifulSoup\n",
      "import urllib.request as request\n",
      "\n",
      "html = request.urlopen('http://www.ltc-charts.com/period-charts.php?period=ytd&resolution=day&pair=ltc-usd&market=bitfinex')\n",
      "\n",
      "soup = BeautifulSoup(html)"
     ],
     "language": "python",
     "metadata": {},
     "outputs": [],
     "prompt_number": 1
    },
    {
     "cell_type": "heading",
     "level": 4,
     "metadata": {},
     "source": [
      "Below is an excerpt taken from that HTML page.  As you can see the data we want is enclosed in the &lt;tbody&gt; tag:"
     ]
    },
    {
     "cell_type": "raw",
     "metadata": {},
     "source": [
      "<tbody>\n",
      "\t\t\t\t\t\t\t\t\t\t\t<tr>\n",
      "\t\t\t\t\t\t\t<td>2013-11-18</td>\n",
      "\t\t\t\t\t\t\t<td class=\"num\">7.00000 USD</td>\n",
      "\t\t\t\t\t\t\t<td class=\"num\">9.99000 USD</td>\n",
      "\t\t\t\t\t\t\t<td class=\"num\">8.31000 USD</td>\n",
      "\t\t\t\t\t\t\t<td class=\"num\">9.30000 USD</td>\n",
      "\t\t\t\t\t\t\t<td class=\"num\">10,687.61 LTC</td>\n",
      "\t\t\t\t\t\t</tr>\n",
      "\t\t\t\t\t\t\t\t\t\t\t<tr>\n",
      "\t\t\t\t\t\t\t<td>2013-11-19</td>\n",
      "\t\t\t\t\t\t\t<td class=\"num\">6.55000 USD</td>\n",
      "\t\t\t\t\t\t\t<td class=\"num\">10.00000 USD</td>\n",
      "\t\t\t\t\t\t\t<td class=\"num\">9.30000 USD</td>\n",
      "\t\t\t\t\t\t\t<td class=\"num\">7.74000 USD</td>\n",
      "\t\t\t\t\t\t\t<td class=\"num\">22,885.89 LTC</td>\n",
      "\t\t\t\t\t\t</tr>\n",
      "                            .\n",
      "                            .\n",
      "                            .\n",
      "\t\t\t\t\t\t\t\t\t\t\t<tr>\n",
      "\t\t\t\t\t\t\t<td>2013-12-19</td>\n",
      "\t\t\t\t\t\t\t<td class=\"num\">12.55000 USD</td>\n",
      "\t\t\t\t\t\t\t<td class=\"num\">19.34000 USD</td>\n",
      "\t\t\t\t\t\t\t<td class=\"num\">13.50000 USD</td>\n",
      "\t\t\t\t\t\t\t<td class=\"num\">18.67000 USD</td>\n",
      "\t\t\t\t\t\t\t<td class=\"num\">24,529.78 LTC</td>\n",
      "\t\t\t\t\t\t</tr>\n",
      "\t\t\t\t\t\t\t\t\t</tbody>"
     ]
    },
    {
     "cell_type": "heading",
     "level": 4,
     "metadata": {},
     "source": [
      "Since the data we want is enclosed in the &lt;tbody&gt; tag, we will tell Beautifulsoup to grab data in the tbody tag:"
     ]
    },
    {
     "cell_type": "code",
     "collapsed": false,
     "input": [
      "table_body = soup.tbody\n",
      "table_body"
     ],
     "language": "python",
     "metadata": {},
     "outputs": [
      {
       "metadata": {},
       "output_type": "pyout",
       "prompt_number": 2,
       "text": [
        "<tbody>\n",
        "<tr>\n",
        "<td>2014-01-01</td>\n",
        "<td class=\"num\">23.49000 USD</td>\n",
        "<td class=\"num\">24.11000 USD</td>\n",
        "<td class=\"num\">23.50000 USD</td>\n",
        "<td class=\"num\">23.80000 USD</td>\n",
        "<td class=\"num\">2,411.69 LTC</td>\n",
        "</tr>\n",
        "<tr>\n",
        "<td>2014-01-02</td>\n",
        "<td class=\"num\">23.53000 USD</td>\n",
        "<td class=\"num\">26.14000 USD</td>\n",
        "<td class=\"num\">23.80000 USD</td>\n",
        "<td class=\"num\">25.00000 USD</td>\n",
        "<td class=\"num\">11,750.58 LTC</td>\n",
        "</tr>\n",
        "<tr>\n",
        "<td>2014-01-03</td>\n",
        "<td class=\"num\">23.56000 USD</td>\n",
        "<td class=\"num\">25.49000 USD</td>\n",
        "<td class=\"num\">25.26900 USD</td>\n",
        "<td class=\"num\">24.50000 USD</td>\n",
        "<td class=\"num\">23,908.35 LTC</td>\n",
        "</tr>\n",
        "<tr>\n",
        "<td>2014-01-04</td>\n",
        "<td class=\"num\">23.65400 USD</td>\n",
        "<td class=\"num\">24.99000 USD</td>\n",
        "<td class=\"num\">24.57800 USD</td>\n",
        "<td class=\"num\">24.40000 USD</td>\n",
        "<td class=\"num\">12,035.14 LTC</td>\n",
        "</tr>\n",
        "<tr>\n",
        "<td>2014-01-05</td>\n",
        "<td class=\"num\">24.34000 USD</td>\n",
        "<td class=\"num\">28.75000 USD</td>\n",
        "<td class=\"num\">24.50000 USD</td>\n",
        "<td class=\"num\">26.25200 USD</td>\n",
        "<td class=\"num\">19,262.46 LTC</td>\n",
        "</tr>\n",
        "<tr>\n",
        "<td>2014-01-06</td>\n",
        "<td class=\"num\">26.12000 USD</td>\n",
        "<td class=\"num\">32.00000 USD</td>\n",
        "<td class=\"num\">26.45000 USD</td>\n",
        "<td class=\"num\">28.59000 USD</td>\n",
        "<td class=\"num\">30,678.46 LTC</td>\n",
        "</tr>\n",
        "<tr>\n",
        "<td>2014-01-07</td>\n",
        "<td class=\"num\">21.77000 USD</td>\n",
        "<td class=\"num\">30.00000 USD</td>\n",
        "<td class=\"num\">28.39000 USD</td>\n",
        "<td class=\"num\">22.42000 USD</td>\n",
        "<td class=\"num\">30,455.10 LTC</td>\n",
        "</tr>\n",
        "<tr>\n",
        "<td>2014-01-08</td>\n",
        "<td class=\"num\">20.50000 USD</td>\n",
        "<td class=\"num\">28.50000 USD</td>\n",
        "<td class=\"num\">22.23000 USD</td>\n",
        "<td class=\"num\">23.73100 USD</td>\n",
        "<td class=\"num\">29,282.61 LTC</td>\n",
        "</tr>\n",
        "<tr>\n",
        "<td>2014-01-09</td>\n",
        "<td class=\"num\">22.45000 USD</td>\n",
        "<td class=\"num\">25.28000 USD</td>\n",
        "<td class=\"num\">24.10400 USD</td>\n",
        "<td class=\"num\">23.70000 USD</td>\n",
        "<td class=\"num\">13,747.01 LTC</td>\n",
        "</tr>\n",
        "<tr>\n",
        "<td>2014-01-10</td>\n",
        "<td class=\"num\">23.31000 USD</td>\n",
        "<td class=\"num\">25.17000 USD</td>\n",
        "<td class=\"num\">23.70000 USD</td>\n",
        "<td class=\"num\">24.74000 USD</td>\n",
        "<td class=\"num\">5,612.05 LTC</td>\n",
        "</tr>\n",
        "<tr>\n",
        "<td>2014-01-11</td>\n",
        "<td class=\"num\">24.59500 USD</td>\n",
        "<td class=\"num\">26.80000 USD</td>\n",
        "<td class=\"num\">24.74000 USD</td>\n",
        "<td class=\"num\">26.66000 USD</td>\n",
        "<td class=\"num\">12,088.60 LTC</td>\n",
        "</tr>\n",
        "<tr>\n",
        "<td>2014-01-12</td>\n",
        "<td class=\"num\">24.40000 USD</td>\n",
        "<td class=\"num\">26.71000 USD</td>\n",
        "<td class=\"num\">26.45000 USD</td>\n",
        "<td class=\"num\">24.55200 USD</td>\n",
        "<td class=\"num\">8,159.91 LTC</td>\n",
        "</tr>\n",
        "<tr>\n",
        "<td>2014-01-13</td>\n",
        "<td class=\"num\">24.52000 USD</td>\n",
        "<td class=\"num\">24.55000 USD</td>\n",
        "<td class=\"num\">24.55000 USD</td>\n",
        "<td class=\"num\">24.52000 USD</td>\n",
        "<td class=\"num\">5.26 LTC</td>\n",
        "</tr>\n",
        "</tbody>"
       ]
      }
     ],
     "prompt_number": 2
    },
    {
     "cell_type": "heading",
     "level": 4,
     "metadata": {},
     "source": [
      "But within the &lt;tbody&gt; tag, we really just need the data in the &lt;td&gt; tag:"
     ]
    },
    {
     "cell_type": "code",
     "collapsed": false,
     "input": [
      "table_data = table_body.find_all('td')\n",
      "table_data"
     ],
     "language": "python",
     "metadata": {},
     "outputs": [
      {
       "metadata": {},
       "output_type": "pyout",
       "prompt_number": 3,
       "text": [
        "[<td>2014-01-01</td>,\n",
        " <td class=\"num\">23.49000 USD</td>,\n",
        " <td class=\"num\">24.11000 USD</td>,\n",
        " <td class=\"num\">23.50000 USD</td>,\n",
        " <td class=\"num\">23.80000 USD</td>,\n",
        " <td class=\"num\">2,411.69 LTC</td>,\n",
        " <td>2014-01-02</td>,\n",
        " <td class=\"num\">23.53000 USD</td>,\n",
        " <td class=\"num\">26.14000 USD</td>,\n",
        " <td class=\"num\">23.80000 USD</td>,\n",
        " <td class=\"num\">25.00000 USD</td>,\n",
        " <td class=\"num\">11,750.58 LTC</td>,\n",
        " <td>2014-01-03</td>,\n",
        " <td class=\"num\">23.56000 USD</td>,\n",
        " <td class=\"num\">25.49000 USD</td>,\n",
        " <td class=\"num\">25.26900 USD</td>,\n",
        " <td class=\"num\">24.50000 USD</td>,\n",
        " <td class=\"num\">23,908.35 LTC</td>,\n",
        " <td>2014-01-04</td>,\n",
        " <td class=\"num\">23.65400 USD</td>,\n",
        " <td class=\"num\">24.99000 USD</td>,\n",
        " <td class=\"num\">24.57800 USD</td>,\n",
        " <td class=\"num\">24.40000 USD</td>,\n",
        " <td class=\"num\">12,035.14 LTC</td>,\n",
        " <td>2014-01-05</td>,\n",
        " <td class=\"num\">24.34000 USD</td>,\n",
        " <td class=\"num\">28.75000 USD</td>,\n",
        " <td class=\"num\">24.50000 USD</td>,\n",
        " <td class=\"num\">26.25200 USD</td>,\n",
        " <td class=\"num\">19,262.46 LTC</td>,\n",
        " <td>2014-01-06</td>,\n",
        " <td class=\"num\">26.12000 USD</td>,\n",
        " <td class=\"num\">32.00000 USD</td>,\n",
        " <td class=\"num\">26.45000 USD</td>,\n",
        " <td class=\"num\">28.59000 USD</td>,\n",
        " <td class=\"num\">30,678.46 LTC</td>,\n",
        " <td>2014-01-07</td>,\n",
        " <td class=\"num\">21.77000 USD</td>,\n",
        " <td class=\"num\">30.00000 USD</td>,\n",
        " <td class=\"num\">28.39000 USD</td>,\n",
        " <td class=\"num\">22.42000 USD</td>,\n",
        " <td class=\"num\">30,455.10 LTC</td>,\n",
        " <td>2014-01-08</td>,\n",
        " <td class=\"num\">20.50000 USD</td>,\n",
        " <td class=\"num\">28.50000 USD</td>,\n",
        " <td class=\"num\">22.23000 USD</td>,\n",
        " <td class=\"num\">23.73100 USD</td>,\n",
        " <td class=\"num\">29,282.61 LTC</td>,\n",
        " <td>2014-01-09</td>,\n",
        " <td class=\"num\">22.45000 USD</td>,\n",
        " <td class=\"num\">25.28000 USD</td>,\n",
        " <td class=\"num\">24.10400 USD</td>,\n",
        " <td class=\"num\">23.70000 USD</td>,\n",
        " <td class=\"num\">13,747.01 LTC</td>,\n",
        " <td>2014-01-10</td>,\n",
        " <td class=\"num\">23.31000 USD</td>,\n",
        " <td class=\"num\">25.17000 USD</td>,\n",
        " <td class=\"num\">23.70000 USD</td>,\n",
        " <td class=\"num\">24.74000 USD</td>,\n",
        " <td class=\"num\">5,612.05 LTC</td>,\n",
        " <td>2014-01-11</td>,\n",
        " <td class=\"num\">24.59500 USD</td>,\n",
        " <td class=\"num\">26.80000 USD</td>,\n",
        " <td class=\"num\">24.74000 USD</td>,\n",
        " <td class=\"num\">26.66000 USD</td>,\n",
        " <td class=\"num\">12,088.60 LTC</td>,\n",
        " <td>2014-01-12</td>,\n",
        " <td class=\"num\">24.40000 USD</td>,\n",
        " <td class=\"num\">26.71000 USD</td>,\n",
        " <td class=\"num\">26.45000 USD</td>,\n",
        " <td class=\"num\">24.55200 USD</td>,\n",
        " <td class=\"num\">8,159.91 LTC</td>,\n",
        " <td>2014-01-13</td>,\n",
        " <td class=\"num\">24.52000 USD</td>,\n",
        " <td class=\"num\">24.55000 USD</td>,\n",
        " <td class=\"num\">24.55000 USD</td>,\n",
        " <td class=\"num\">24.52000 USD</td>,\n",
        " <td class=\"num\">5.26 LTC</td>]"
       ]
      }
     ],
     "prompt_number": 3
    },
    {
     "cell_type": "heading",
     "level": 4,
     "metadata": {},
     "source": [
      "Let's just grab the raw data without the HTML tags. But first, let's print the data out to see if the get_text() method does what we want it to do:"
     ]
    },
    {
     "cell_type": "code",
     "collapsed": false,
     "input": [
      "for row in table_data:\n",
      "    print(row.get_text())"
     ],
     "language": "python",
     "metadata": {},
     "outputs": [
      {
       "output_type": "stream",
       "stream": "stdout",
       "text": [
        "2014-01-01\n",
        "23.49000 USD\n",
        "24.11000 USD\n",
        "23.50000 USD\n",
        "23.80000 USD\n",
        "2,411.69 LTC\n",
        "2014-01-02\n",
        "23.53000 USD\n",
        "26.14000 USD\n",
        "23.80000 USD\n",
        "25.00000 USD\n",
        "11,750.58 LTC\n",
        "2014-01-03\n",
        "23.56000 USD\n",
        "25.49000 USD\n",
        "25.26900 USD\n",
        "24.50000 USD\n",
        "23,908.35 LTC\n",
        "2014-01-04\n",
        "23.65400 USD\n",
        "24.99000 USD\n",
        "24.57800 USD\n",
        "24.40000 USD\n",
        "12,035.14 LTC\n",
        "2014-01-05\n",
        "24.34000 USD\n",
        "28.75000 USD\n",
        "24.50000 USD\n",
        "26.25200 USD\n",
        "19,262.46 LTC\n",
        "2014-01-06\n",
        "26.12000 USD\n",
        "32.00000 USD\n",
        "26.45000 USD\n",
        "28.59000 USD\n",
        "30,678.46 LTC\n",
        "2014-01-07\n",
        "21.77000 USD\n",
        "30.00000 USD\n",
        "28.39000 USD\n",
        "22.42000 USD\n",
        "30,455.10 LTC\n",
        "2014-01-08\n",
        "20.50000 USD\n",
        "28.50000 USD\n",
        "22.23000 USD\n",
        "23.73100 USD\n",
        "29,282.61 LTC\n",
        "2014-01-09\n",
        "22.45000 USD\n",
        "25.28000 USD\n",
        "24.10400 USD\n",
        "23.70000 USD\n",
        "13,747.01 LTC\n",
        "2014-01-10\n",
        "23.31000 USD\n",
        "25.17000 USD\n",
        "23.70000 USD\n",
        "24.74000 USD\n",
        "5,612.05 LTC\n",
        "2014-01-11\n",
        "24.59500 USD\n",
        "26.80000 USD\n",
        "24.74000 USD\n",
        "26.66000 USD\n",
        "12,088.60 LTC\n",
        "2014-01-12\n",
        "24.40000 USD\n",
        "26.71000 USD\n",
        "26.45000 USD\n",
        "24.55200 USD\n",
        "8,159.91 LTC\n",
        "2014-01-13\n",
        "24.52000 USD\n",
        "24.55000 USD\n",
        "24.55000 USD\n",
        "24.52000 USD\n",
        "5.26 LTC\n"
       ]
      }
     ],
     "prompt_number": 4
    },
    {
     "cell_type": "heading",
     "level": 4,
     "metadata": {},
     "source": [
      "So from above, it looks like it does.  So, let's store the data in a list"
     ]
    },
    {
     "cell_type": "code",
     "collapsed": false,
     "input": [
      "data_list = []\n",
      "for row in table_data:\n",
      "    data_list.append(row.get_text())"
     ],
     "language": "python",
     "metadata": {},
     "outputs": [],
     "prompt_number": 5
    },
    {
     "cell_type": "code",
     "collapsed": false,
     "input": [
      "data_list"
     ],
     "language": "python",
     "metadata": {},
     "outputs": [
      {
       "metadata": {},
       "output_type": "pyout",
       "prompt_number": 6,
       "text": [
        "['2014-01-01',\n",
        " '23.49000 USD',\n",
        " '24.11000 USD',\n",
        " '23.50000 USD',\n",
        " '23.80000 USD',\n",
        " '2,411.69 LTC',\n",
        " '2014-01-02',\n",
        " '23.53000 USD',\n",
        " '26.14000 USD',\n",
        " '23.80000 USD',\n",
        " '25.00000 USD',\n",
        " '11,750.58 LTC',\n",
        " '2014-01-03',\n",
        " '23.56000 USD',\n",
        " '25.49000 USD',\n",
        " '25.26900 USD',\n",
        " '24.50000 USD',\n",
        " '23,908.35 LTC',\n",
        " '2014-01-04',\n",
        " '23.65400 USD',\n",
        " '24.99000 USD',\n",
        " '24.57800 USD',\n",
        " '24.40000 USD',\n",
        " '12,035.14 LTC',\n",
        " '2014-01-05',\n",
        " '24.34000 USD',\n",
        " '28.75000 USD',\n",
        " '24.50000 USD',\n",
        " '26.25200 USD',\n",
        " '19,262.46 LTC',\n",
        " '2014-01-06',\n",
        " '26.12000 USD',\n",
        " '32.00000 USD',\n",
        " '26.45000 USD',\n",
        " '28.59000 USD',\n",
        " '30,678.46 LTC',\n",
        " '2014-01-07',\n",
        " '21.77000 USD',\n",
        " '30.00000 USD',\n",
        " '28.39000 USD',\n",
        " '22.42000 USD',\n",
        " '30,455.10 LTC',\n",
        " '2014-01-08',\n",
        " '20.50000 USD',\n",
        " '28.50000 USD',\n",
        " '22.23000 USD',\n",
        " '23.73100 USD',\n",
        " '29,282.61 LTC',\n",
        " '2014-01-09',\n",
        " '22.45000 USD',\n",
        " '25.28000 USD',\n",
        " '24.10400 USD',\n",
        " '23.70000 USD',\n",
        " '13,747.01 LTC',\n",
        " '2014-01-10',\n",
        " '23.31000 USD',\n",
        " '25.17000 USD',\n",
        " '23.70000 USD',\n",
        " '24.74000 USD',\n",
        " '5,612.05 LTC',\n",
        " '2014-01-11',\n",
        " '24.59500 USD',\n",
        " '26.80000 USD',\n",
        " '24.74000 USD',\n",
        " '26.66000 USD',\n",
        " '12,088.60 LTC',\n",
        " '2014-01-12',\n",
        " '24.40000 USD',\n",
        " '26.71000 USD',\n",
        " '26.45000 USD',\n",
        " '24.55200 USD',\n",
        " '8,159.91 LTC',\n",
        " '2014-01-13',\n",
        " '24.52000 USD',\n",
        " '24.55000 USD',\n",
        " '24.55000 USD',\n",
        " '24.52000 USD',\n",
        " '5.26 LTC']"
       ]
      }
     ],
     "prompt_number": 6
    },
    {
     "cell_type": "heading",
     "level": 4,
     "metadata": {},
     "source": [
      "Let's use Python's handy list slicing to grab the data we want"
     ]
    },
    {
     "cell_type": "code",
     "collapsed": false,
     "input": [
      "dates = data_list[0::6]  # grab the 1st item and every 6th item afterwards"
     ],
     "language": "python",
     "metadata": {},
     "outputs": [],
     "prompt_number": 7
    },
    {
     "cell_type": "code",
     "collapsed": false,
     "input": [
      "dates"
     ],
     "language": "python",
     "metadata": {},
     "outputs": [
      {
       "metadata": {},
       "output_type": "pyout",
       "prompt_number": 8,
       "text": [
        "['2014-01-01',\n",
        " '2014-01-02',\n",
        " '2014-01-03',\n",
        " '2014-01-04',\n",
        " '2014-01-05',\n",
        " '2014-01-06',\n",
        " '2014-01-07',\n",
        " '2014-01-08',\n",
        " '2014-01-09',\n",
        " '2014-01-10',\n",
        " '2014-01-11',\n",
        " '2014-01-12',\n",
        " '2014-01-13']"
       ]
      }
     ],
     "prompt_number": 8
    },
    {
     "cell_type": "code",
     "collapsed": false,
     "input": [
      "close_price = data_list[4::6]"
     ],
     "language": "python",
     "metadata": {},
     "outputs": [],
     "prompt_number": 9
    },
    {
     "cell_type": "code",
     "collapsed": false,
     "input": [
      "close_price"
     ],
     "language": "python",
     "metadata": {},
     "outputs": [
      {
       "metadata": {},
       "output_type": "pyout",
       "prompt_number": 10,
       "text": [
        "['23.80000 USD',\n",
        " '25.00000 USD',\n",
        " '24.50000 USD',\n",
        " '24.40000 USD',\n",
        " '26.25200 USD',\n",
        " '28.59000 USD',\n",
        " '22.42000 USD',\n",
        " '23.73100 USD',\n",
        " '23.70000 USD',\n",
        " '24.74000 USD',\n",
        " '26.66000 USD',\n",
        " '24.55200 USD',\n",
        " '24.52000 USD']"
       ]
      }
     ],
     "prompt_number": 10
    },
    {
     "cell_type": "heading",
     "level": 4,
     "metadata": {},
     "source": [
      "Since we want to plot the closing price, we need to get rid of the \" USD\". We can replace it with an emply space \"\""
     ]
    },
    {
     "cell_type": "code",
     "collapsed": false,
     "input": [
      "price = []\n",
      "for row in close_price:\n",
      "    price.append(float(row.replace(\" USD\",\"\")))"
     ],
     "language": "python",
     "metadata": {},
     "outputs": [],
     "prompt_number": 11
    },
    {
     "cell_type": "heading",
     "level": 4,
     "metadata": {},
     "source": [
      "Looks like that worked:"
     ]
    },
    {
     "cell_type": "code",
     "collapsed": false,
     "input": [
      "price"
     ],
     "language": "python",
     "metadata": {},
     "outputs": [
      {
       "metadata": {},
       "output_type": "pyout",
       "prompt_number": 12,
       "text": [
        "[23.8,\n",
        " 25.0,\n",
        " 24.5,\n",
        " 24.4,\n",
        " 26.252,\n",
        " 28.59,\n",
        " 22.42,\n",
        " 23.731,\n",
        " 23.7,\n",
        " 24.74,\n",
        " 26.66,\n",
        " 24.552,\n",
        " 24.52]"
       ]
      }
     ],
     "prompt_number": 12
    },
    {
     "cell_type": "heading",
     "level": 4,
     "metadata": {},
     "source": [
      "One more problem, the dates list we made stored dates in String format, we want them to be actual Python date objects so that MATPLOTLIB will plot them.  So we'll convert str to Python dates:"
     ]
    },
    {
     "cell_type": "code",
     "collapsed": false,
     "input": [
      "from datetime import datetime\n",
      "dates_final = []\n",
      "for date in dates:\n",
      "    dates_final.append(datetime.strptime(date, \"%Y-%m-%d\"))"
     ],
     "language": "python",
     "metadata": {},
     "outputs": [],
     "prompt_number": 13
    },
    {
     "cell_type": "heading",
     "level": 4,
     "metadata": {},
     "source": [
      "Looks like that worked:"
     ]
    },
    {
     "cell_type": "code",
     "collapsed": false,
     "input": [
      "dates_final"
     ],
     "language": "python",
     "metadata": {},
     "outputs": [
      {
       "metadata": {},
       "output_type": "pyout",
       "prompt_number": 14,
       "text": [
        "[datetime.datetime(2014, 1, 1, 0, 0),\n",
        " datetime.datetime(2014, 1, 2, 0, 0),\n",
        " datetime.datetime(2014, 1, 3, 0, 0),\n",
        " datetime.datetime(2014, 1, 4, 0, 0),\n",
        " datetime.datetime(2014, 1, 5, 0, 0),\n",
        " datetime.datetime(2014, 1, 6, 0, 0),\n",
        " datetime.datetime(2014, 1, 7, 0, 0),\n",
        " datetime.datetime(2014, 1, 8, 0, 0),\n",
        " datetime.datetime(2014, 1, 9, 0, 0),\n",
        " datetime.datetime(2014, 1, 10, 0, 0),\n",
        " datetime.datetime(2014, 1, 11, 0, 0),\n",
        " datetime.datetime(2014, 1, 12, 0, 0),\n",
        " datetime.datetime(2014, 1, 13, 0, 0)]"
       ]
      }
     ],
     "prompt_number": 14
    },
    {
     "cell_type": "heading",
     "level": 4,
     "metadata": {},
     "source": [
      "Now that we have the data we need in their proper format, we are ready to plot:"
     ]
    },
    {
     "cell_type": "code",
     "collapsed": false,
     "input": [
      "import matplotlib.pyplot as plt\n",
      "from matplotlib.dates import YearLocator, MonthLocator, WeekdayLocator, DayLocator, DateFormatter\n",
      "import dateutil\n",
      "from matplotlib.ticker import MultipleLocator\n",
      "\n",
      "# These are just time intervals we can use to format our X axis tick intervals\n",
      "year   = YearLocator()\n",
      "month  = MonthLocator(bymonth=range(1,13),  bymonthday=1, interval=1)\n",
      "week   = WeekdayLocator(byweekday=dateutil.rrule.MO)  # Every MOnday\n",
      "day    = DayLocator(bymonthday=range(1,32), interval=1)\n",
      "\n",
      "fig = plt.figure()\n",
      "ax = fig.add_axes([0, 0, 2, 1])  # left, bottom, width, height\n",
      "\n",
      "# Format the x-axis, set tick labels as Month-dd format, turn on grid for major ticks\n",
      "#dayFmt = DateFormatter(\"%b-%d\")\n",
      "dayFmt = DateFormatter(\"%b-%d\")\n",
      "ax.xaxis.set_major_formatter(dayFmt)  # Make the x-axis tick interval to be monthly interval size\n",
      "ax.xaxis.set_major_locator(day)\n",
      "ax.xaxis.grid(which='major')\n",
      "\n",
      "# Format the y-axis\n",
      "y_major_ticks = MultipleLocator(1)\n",
      "ax.yaxis.set_major_locator(y_major_ticks)\n",
      "ax.yaxis.set_ticks_position('right')   # Not sure why 'both' don't work\n",
      "ax.yaxis.set_label_position('right')\n",
      "ax.yaxis.grid(which='major')\n",
      "\n",
      "# Plot the data...\n",
      "plt.plot_date(dates_final, price, 'r')\n",
      "ax.set_title(\"Litecoin Value in US$\", weight=\"bold\")\n",
      "ax.set_xlabel(\"Month-Day\")\n",
      "ax.set_ylabel(\"US$\")\n",
      "plt.setp(ax.get_xticklabels(), rotation=-90)\n",
      "plt.show()"
     ],
     "language": "python",
     "metadata": {},
     "outputs": [
      {
       "metadata": {},
       "output_type": "display_data",
       "png": "[encoded data removed]",
       "text": [
        "<matplotlib.figure.Figure at 0x7f7770746210>"
       ]
      }
     ],
     "prompt_number": 16
    }
   ],
   "metadata": {}
  }
 ]
}