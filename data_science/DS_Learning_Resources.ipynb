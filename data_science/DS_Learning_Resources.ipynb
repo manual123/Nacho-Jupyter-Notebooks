{
 "cells": [
  {
   "cell_type": "markdown",
   "metadata": {},
   "source": [
    "# Statistics"
   ]
  },
  {
   "cell_type": "markdown",
   "metadata": {},
   "source": [
    "- Statistics at Scipy's [site](http://www.scipy-lectures.org/)\n",
    "- Statistics with [Scipy](https://docs.scipy.org/doc/scipy/reference/tutorial/stats.html)\n",
    "- Statistics the [Hacker's Way](https://nbviewer.jupyter.org/github/amitkaps/hackermath/tree/master/)\n",
    "- Intro to Statistics with Python [book](http://nbviewer.jupyter.org/github/thomas-haslwanter/statsintro_python/tree/master/ipynb/)\n",
    "- Co-variance and correlation\n",
    "    - [Co-variance and correlation](https://analytics4all.org/2016/05/08/python-co-variance-and-correlation/)\n",
    "    - [Explanation of correlation](https://www.answerminer.com/blog/correlation-coefficient-demystified#1453195052307-6cccc1c7-cb70)\n",
    "- Curve Fitting Using Python:\n",
    "    - Curve Fitting Using Python [book](https://lmfit.github.io/lmfit-py/index.html)\n",
    "    - Curve fitting with [Scipy](https://github.com/fonnesbeck/statistical-analysis-python-tutorial/blob/master/4.%20Statistical%20Data%20Modeling.ipynb)\n",
    "    - Another example using [scipy](https://glowingpython.blogspot.com/2012/07/distribution-fitting-with-scipy.html)\n",
    "    - StackOverflow [example](https://stackoverflow.com/questions/6615489/fitting-distributions-goodness-of-fit-p-value-is-it-possible-to-do-this-with/16651524)\n",
    "- Probability Plots\n",
    "    - [P-P vs Q-Q plots](https://datavu.blogspot.com/2014/09/p-p-plot-vs-q-q-plot.html)\n",
    "- Suvival Analysis\n",
    "    - SA using [lifelines](http://savvastjortjoglou.com/nfl-survival-analysis-kaplan-meier.html) package\n",
    "- Machine Learning\n",
    "    - Duke University Computational Statistics [Class](http://people.duke.edu/~ccc14/)\n",
    "- Time Series Forecasting\n",
    "    - [PyFlux](http://pyflux.readthedocs.io/en/latest/getting_started.html), github [site](https://github.com/RJT1990/pyflux)"
   ]
  },
  {
   "cell_type": "markdown",
   "metadata": {},
   "source": [
    "# Scikit-Learn"
   ]
  },
  {
   "cell_type": "markdown",
   "metadata": {},
   "source": [
    "- Scikit-learn video [tutorials](https://github.com/justmarkham/scikit-learn-videos)\n",
    "- [ipython cookbook](http://ipython-books.github.io/cookbook/#chapter-8-machine-learning)\n",
    "- Logistic Regression\n",
    "    - Logistic Regression [example](http://nbviewer.jupyter.org/github/justmarkham/DAT8/blob/master/notebooks/12_logistic_regression.ipynb)\n",
    "- Auto Machine Learning\n",
    "    - [tpot](https://github.com/rhiever/tpot)\n",
    "    - Hyper-parameter optimization with [hyperopt-sklearn](https://github.com/hyperopt/hyperopt-sklearn)"
   ]
  },
  {
   "cell_type": "markdown",
   "metadata": {},
   "source": [
    "## Natural Language Processing"
   ]
  },
  {
   "cell_type": "markdown",
   "metadata": {},
   "source": [
    "- NLP with [fasText](https://nbviewer.jupyter.org/github/miguelgfierro/sciblog_support/blob/master/Intro_to_NLP_with_fastText/Intro_to_NLP.ipynb)"
   ]
  }
 ],
 "metadata": {
  "hide_input": false,
  "kernelspec": {
   "display_name": "Python 3",
   "language": "python",
   "name": "python3"
  },
  "language_info": {
   "codemirror_mode": {
    "name": "ipython",
    "version": 3
   },
   "file_extension": ".py",
   "mimetype": "text/x-python",
   "name": "python",
   "nbconvert_exporter": "python",
   "pygments_lexer": "ipython3",
   "version": "3.6.1"
  },
  "varInspector": {
   "cols": {
    "lenName": 16,
    "lenType": 16,
    "lenVar": 40
   },
   "kernels_config": {
    "python": {
     "delete_cmd_postfix": "",
     "delete_cmd_prefix": "del ",
     "library": "var_list.py",
     "varRefreshCmd": "print(var_dic_list())"
    },
    "r": {
     "delete_cmd_postfix": ") ",
     "delete_cmd_prefix": "rm(",
     "library": "var_list.r",
     "varRefreshCmd": "cat(var_dic_list()) "
    }
   },
   "types_to_exclude": [
    "module",
    "function",
    "builtin_function_or_method",
    "instance",
    "_Feature"
   ],
   "window_display": false
  }
 },
 "nbformat": 4,
 "nbformat_minor": 2
}
