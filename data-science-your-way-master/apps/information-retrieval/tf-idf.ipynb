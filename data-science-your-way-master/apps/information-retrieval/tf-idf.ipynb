{
 "metadata": {
  "name": "",
  "signature": "sha256:26c633ac996277507383dd80cec31a36ed7da5651b466698a75fad5f9671c8e2"
 },
 "nbformat": 3,
 "nbformat_minor": 0,
 "worksheets": [
  {
   "cells": [
    {
     "cell_type": "markdown",
     "metadata": {},
     "source": [
      "# Term Frequency - Inverse Document Frequency 101"
     ]
    },
    {
     "cell_type": "markdown",
     "metadata": {},
     "source": [
      "Let's program here a basic and beautiful *Information Retrieval* concept such as *[tf-idf](http://en.wikipedia.org/wiki/Tf%E2%80%93idf)*. In order to do so, we will first define a basic in-memory search engine that allows to add documents and search for them. The search results will contain relevant documents together with the *tf-idf* value.  "
     ]
    },
    {
     "cell_type": "code",
     "collapsed": false,
     "input": [
      "from math import log\n",
      "import re\n",
      "\n",
      "class IrIndex:\n",
      "    \"\"\"An in-memory inverted index\"\"\"\n",
      "    \n",
      "    pattern = re.compile(\"^\\s+|\\s*,*\\s*|\\s+$\")\n",
      "    \n",
      "    def __init__(self):\n",
      "        self.index = {}\n",
      "        self.documents = []\n",
      "        self.tf = {}\n",
      "    \n",
      "    def index_document(self, document):\n",
      "        ## split\n",
      "        terms = [word for word in self.pattern.split(document)]\n",
      "        \n",
      "        ## add to documents\n",
      "        self.documents.append(document)\n",
      "        document_pos = len(self.documents)-1\n",
      "        \n",
      "        ## add posts to index, updating tf\n",
      "        for term in terms:\n",
      "            if term not in self.index:\n",
      "                self.index[term] = []\n",
      "                self.tf[term] = []\n",
      "            self.index[term].append(document_pos)\n",
      "            self.tf[term].append(terms.count(term))\n",
      "        \n",
      "    \n",
      "    def tf_idf(self, term):\n",
      "        ## get tf for each document\n",
      "        if term in self.tf:\n",
      "            res = []\n",
      "            for tf, post in zip(self.tf[term], self.index[term]):\n",
      "                idf = log( float( len(self.documents) ) / float( len(self.tf[term]) ) )\n",
      "                res.append((tf * idf, self.documents[post]))\n",
      "            return res \n",
      "        else:\n",
      "            return []\n",
      "           "
     ],
     "language": "python",
     "metadata": {},
     "outputs": [],
     "prompt_number": 2
    },
    {
     "cell_type": "markdown",
     "metadata": {},
     "source": [
      "We create now our empty index.  "
     ]
    },
    {
     "cell_type": "code",
     "collapsed": false,
     "input": [
      "index = IrIndex()"
     ],
     "language": "python",
     "metadata": {},
     "outputs": [],
     "prompt_number": 3
    },
    {
     "cell_type": "markdown",
     "metadata": {},
     "source": [
      "Add some documents..."
     ]
    },
    {
     "cell_type": "code",
     "collapsed": false,
     "input": [
      "index.index_document(\"Bruno Clair Chambertin Clos de Beze 2001, Bourgogne, France\")\n",
      "index.index_document(\"Bruno Clair Chambertin Clos de Beze 2005, Bourgogne, France\")\n",
      "index.index_document(\"Bruno Clair Clos Saint Jaques 2001, Bourgogne, France\")\n",
      "index.index_document(\"Bruno Clair Clos Saint Jaques 2002, Bourgogne, France\")\n",
      "index.index_document(\"Bruno Clair Clos Saint Jaques 2005, Bourgogne, France\")\n",
      "index.index_document(\"Coche-Dury Bourgogne Chardonay 2005, Bourgogne, France\")\n",
      "index.index_document(\"Chateau Margaux 1982, Bordeaux, France\")\n",
      "index.index_document(\"Chateau Margaux 1996, Bordeaux, France\")\n",
      "index.index_document(\"Chateau Latour 1982, Bordeaux, France\")\n",
      "index.index_document(\"Domaine Raveneau Le Clos 2001, Bourgogne, France\")"
     ],
     "language": "python",
     "metadata": {},
     "outputs": [],
     "prompt_number": 4
    },
    {
     "cell_type": "markdown",
     "metadata": {},
     "source": [
      "Let's try some terms. First, we search for a term that doesn't exists in any of our documents.  "
     ]
    },
    {
     "cell_type": "code",
     "collapsed": false,
     "input": [
      "index.tf_idf(\"hello\")"
     ],
     "language": "python",
     "metadata": {},
     "outputs": [
      {
       "metadata": {},
       "output_type": "pyout",
       "prompt_number": 5,
       "text": [
        "[]"
       ]
      }
     ],
     "prompt_number": 5
    },
    {
     "cell_type": "markdown",
     "metadata": {},
     "source": [
      "Next, let's try a term that appears in few documents.  "
     ]
    },
    {
     "cell_type": "code",
     "collapsed": false,
     "input": [
      "index.tf_idf(\"Bordeaux\")"
     ],
     "language": "python",
     "metadata": {},
     "outputs": [
      {
       "metadata": {},
       "output_type": "pyout",
       "prompt_number": 6,
       "text": [
        "[(1.2039728043259361, 'Chateau Margaux 1982, Bordeaux, France'),\n",
        " (1.2039728043259361, 'Chateau Margaux 1996, Bordeaux, France'),\n",
        " (1.2039728043259361, 'Chateau Latour 1982, Bordeaux, France')]"
       ]
      }
     ],
     "prompt_number": 6
    },
    {
     "cell_type": "markdown",
     "metadata": {},
     "source": [
      "A term with higher idf. That is, 'Margaux' is **less common** or **more specific** than 'Bordeaux'. We see higher scores in general.   "
     ]
    },
    {
     "cell_type": "code",
     "collapsed": false,
     "input": [
      "index.tf_idf(\"Margaux\")"
     ],
     "language": "python",
     "metadata": {},
     "outputs": [
      {
       "metadata": {},
       "output_type": "pyout",
       "prompt_number": 7,
       "text": [
        "[(1.6094379124341003, 'Chateau Margaux 1982, Bordeaux, France'),\n",
        " (1.6094379124341003, 'Chateau Margaux 1996, Bordeaux, France')]"
       ]
      }
     ],
     "prompt_number": 7
    },
    {
     "cell_type": "markdown",
     "metadata": {},
     "source": [
      "A term with tf higher than 1 for one of the documents. Now we search for 'Bourgogne', a **more common term** in our index, so we have **lower idf**. That means lower scores in general but higher in cases with **higher tf** among them.     "
     ]
    },
    {
     "cell_type": "code",
     "collapsed": false,
     "input": [
      "index.tf_idf(\"Bourgogne\")"
     ],
     "language": "python",
     "metadata": {},
     "outputs": [
      {
       "metadata": {},
       "output_type": "pyout",
       "prompt_number": 8,
       "text": [
        "[(0.22314355131420976,\n",
        "  'Bruno Clair Chambertin Clos de Beze 2001, Bourgogne, France'),\n",
        " (0.22314355131420976,\n",
        "  'Bruno Clair Chambertin Clos de Beze 2005, Bourgogne, France'),\n",
        " (0.22314355131420976,\n",
        "  'Bruno Clair Clos Saint Jaques 2001, Bourgogne, France'),\n",
        " (0.22314355131420976,\n",
        "  'Bruno Clair Clos Saint Jaques 2002, Bourgogne, France'),\n",
        " (0.22314355131420976,\n",
        "  'Bruno Clair Clos Saint Jaques 2005, Bourgogne, France'),\n",
        " (0.44628710262841953,\n",
        "  'Coche-Dury Bourgogne Chardonay 2005, Bourgogne, France'),\n",
        " (0.44628710262841953,\n",
        "  'Coche-Dury Bourgogne Chardonay 2005, Bourgogne, France'),\n",
        " (0.22314355131420976, 'Domaine Raveneau Le Clos 2001, Bourgogne, France')]"
       ]
      }
     ],
     "prompt_number": 8
    },
    {
     "cell_type": "markdown",
     "metadata": {},
     "source": [
      "## Multi-term search *(overlap score measure)*"
     ]
    },
    {
     "cell_type": "markdown",
     "metadata": {},
     "source": [
      "In order to do multi-term search, we will sum the tf-idf for each term per document. This is called *overlap score measure*. In order to do so, we need a new `tf_idf` method for our index.    "
     ]
    },
    {
     "cell_type": "code",
     "collapsed": false,
     "input": [
      "def overlap_score_measure(self, terms):\n",
      "    res = []\n",
      "    hits = {}\n",
      "    # sum tf-idfs for each hitting document\n",
      "    hitting_terms = [term for term in self.pattern.split(terms) if term in self.tf]\n",
      "    for term in hitting_terms: # for each term having at least on hit...\n",
      "        for tf, post in zip(self.tf[term], self.index[term]): # store the tf-idf in hits for later sum\n",
      "            if post not in hits:\n",
      "                hits[post] = []\n",
      "            idf = log( float( len(self.documents) ) / float( len(self.tf[term]) ) )\n",
      "            hits[post].append(tf * idf)\n",
      "    # sum hits for each post\n",
      "    for post in hits.iterkeys():\n",
      "        tfidf = sum(hits[post])\n",
      "        res.append((tfidf, self.documents[post]))\n",
      "        \n",
      "    return res \n",
      "\n",
      "\n",
      "IrIndex.overlap_score_measure = overlap_score_measure"
     ],
     "language": "python",
     "metadata": {},
     "outputs": [],
     "prompt_number": 9
    },
    {
     "cell_type": "markdown",
     "metadata": {},
     "source": [
      "First, let's check that works the same for single term queries.  "
     ]
    },
    {
     "cell_type": "code",
     "collapsed": false,
     "input": [
      "index.overlap_score_measure(\"hello\")"
     ],
     "language": "python",
     "metadata": {},
     "outputs": [
      {
       "metadata": {},
       "output_type": "pyout",
       "prompt_number": 10,
       "text": [
        "[]"
       ]
      }
     ],
     "prompt_number": 10
    },
    {
     "cell_type": "code",
     "collapsed": false,
     "input": [
      "index.overlap_score_measure(\"Bordeaux\")"
     ],
     "language": "python",
     "metadata": {},
     "outputs": [
      {
       "metadata": {},
       "output_type": "pyout",
       "prompt_number": 11,
       "text": [
        "[(1.2039728043259361, 'Chateau Latour 1982, Bordeaux, France'),\n",
        " (1.2039728043259361, 'Chateau Margaux 1982, Bordeaux, France'),\n",
        " (1.2039728043259361, 'Chateau Margaux 1996, Bordeaux, France')]"
       ]
      }
     ],
     "prompt_number": 11
    },
    {
     "cell_type": "code",
     "collapsed": false,
     "input": [
      "index.overlap_score_measure(\"Margaux\")"
     ],
     "language": "python",
     "metadata": {},
     "outputs": [
      {
       "metadata": {},
       "output_type": "pyout",
       "prompt_number": 12,
       "text": [
        "[(1.6094379124341003, 'Chateau Margaux 1982, Bordeaux, France'),\n",
        " (1.6094379124341003, 'Chateau Margaux 1996, Bordeaux, France')]"
       ]
      }
     ],
     "prompt_number": 12
    },
    {
     "cell_type": "code",
     "collapsed": false,
     "input": [
      "index.overlap_score_measure(\"Bourgogne\")"
     ],
     "language": "python",
     "metadata": {},
     "outputs": [
      {
       "metadata": {},
       "output_type": "pyout",
       "prompt_number": 13,
       "text": [
        "[(0.22314355131420976,\n",
        "  'Bruno Clair Chambertin Clos de Beze 2001, Bourgogne, France'),\n",
        " (0.22314355131420976,\n",
        "  'Bruno Clair Chambertin Clos de Beze 2005, Bourgogne, France'),\n",
        " (0.22314355131420976,\n",
        "  'Bruno Clair Clos Saint Jaques 2001, Bourgogne, France'),\n",
        " (0.22314355131420976,\n",
        "  'Bruno Clair Clos Saint Jaques 2002, Bourgogne, France'),\n",
        " (0.22314355131420976,\n",
        "  'Bruno Clair Clos Saint Jaques 2005, Bourgogne, France'),\n",
        " (0.8925742052568391,\n",
        "  'Coche-Dury Bourgogne Chardonay 2005, Bourgogne, France'),\n",
        " (0.22314355131420976, 'Domaine Raveneau Le Clos 2001, Bourgogne, France')]"
       ]
      }
     ],
     "prompt_number": 13
    },
    {
     "cell_type": "markdown",
     "metadata": {},
     "source": [
      "We try now with a multi term search where one of the terms doesn't hit any document.  "
     ]
    },
    {
     "cell_type": "code",
     "collapsed": false,
     "input": [
      "index.overlap_score_measure(\"hello Bordeaux\")"
     ],
     "language": "python",
     "metadata": {},
     "outputs": [
      {
       "metadata": {},
       "output_type": "pyout",
       "prompt_number": 14,
       "text": [
        "[(1.2039728043259361, 'Chateau Latour 1982, Bordeaux, France'),\n",
        " (1.2039728043259361, 'Chateau Margaux 1982, Bordeaux, France'),\n",
        " (1.2039728043259361, 'Chateau Margaux 1996, Bordeaux, France')]"
       ]
      }
     ],
     "prompt_number": 14
    },
    {
     "cell_type": "markdown",
     "metadata": {},
     "source": [
      "Multi-term, with disjoint results.  "
     ]
    },
    {
     "cell_type": "code",
     "collapsed": false,
     "input": [
      "index.overlap_score_measure(\"Bourgogne Bordeaux\")"
     ],
     "language": "python",
     "metadata": {},
     "outputs": [
      {
       "metadata": {},
       "output_type": "pyout",
       "prompt_number": 15,
       "text": [
        "[(0.22314355131420976,\n",
        "  'Bruno Clair Chambertin Clos de Beze 2001, Bourgogne, France'),\n",
        " (0.22314355131420976,\n",
        "  'Bruno Clair Chambertin Clos de Beze 2005, Bourgogne, France'),\n",
        " (0.22314355131420976,\n",
        "  'Bruno Clair Clos Saint Jaques 2001, Bourgogne, France'),\n",
        " (0.22314355131420976,\n",
        "  'Bruno Clair Clos Saint Jaques 2002, Bourgogne, France'),\n",
        " (0.22314355131420976,\n",
        "  'Bruno Clair Clos Saint Jaques 2005, Bourgogne, France'),\n",
        " (0.8925742052568391,\n",
        "  'Coche-Dury Bourgogne Chardonay 2005, Bourgogne, France'),\n",
        " (1.2039728043259361, 'Chateau Margaux 1982, Bordeaux, France'),\n",
        " (1.2039728043259361, 'Chateau Margaux 1996, Bordeaux, France'),\n",
        " (1.2039728043259361, 'Chateau Latour 1982, Bordeaux, France'),\n",
        " (0.22314355131420976, 'Domaine Raveneau Le Clos 2001, Bourgogne, France')]"
       ]
      }
     ],
     "prompt_number": 15
    },
    {
     "cell_type": "markdown",
     "metadata": {},
     "source": [
      "And finally, a multi-term where some results have more than one term hitting. We see how the score is increased.  "
     ]
    },
    {
     "cell_type": "code",
     "collapsed": false,
     "input": [
      "index.overlap_score_measure(\"Margaux Bordeaux\")"
     ],
     "language": "python",
     "metadata": {},
     "outputs": [
      {
       "metadata": {},
       "output_type": "pyout",
       "prompt_number": 16,
       "text": [
        "[(1.2039728043259361, 'Chateau Latour 1982, Bordeaux, France'),\n",
        " (2.8134107167600364, 'Chateau Margaux 1982, Bordeaux, France'),\n",
        " (2.8134107167600364, 'Chateau Margaux 1996, Bordeaux, France')]"
       ]
      }
     ],
     "prompt_number": 16
    },
    {
     "cell_type": "markdown",
     "metadata": {},
     "source": [
      "With this we complete our introduction to the concept of Term Frequency - Inverse Document Frequency.  "
     ]
    }
   ],
   "metadata": {}
  }
 ]
}