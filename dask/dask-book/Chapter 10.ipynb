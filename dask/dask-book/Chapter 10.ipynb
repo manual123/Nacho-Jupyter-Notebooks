{
 "cells": [
  {
   "cell_type": "markdown",
   "metadata": {},
   "source": [
    "# Data Science with Python and Dask\n",
    "## Chapter 10: Machine Learning with Dask-ML"
   ]
  },
  {
   "cell_type": "markdown",
   "metadata": {},
   "source": [
    "### Section 10.1"
   ]
  },
  {
   "cell_type": "code",
   "execution_count": 1,
   "metadata": {},
   "outputs": [],
   "source": [
    "# Listing 10.1\n",
    "import dask.bag as bag\n",
    "import os\n",
    "from dask.diagnostics import ProgressBar\n",
    "\n",
    "os.chdir('/Users/jesse/Documents')\n",
    "raw_data = bag.read_text('foods.txt')\n",
    "\n",
    "def get_next_part(file, start_index, span_index=0, blocksize=1024):\n",
    "    file.seek(start_index)\n",
    "    buffer = file.read(blocksize + span_index).decode('cp1252')\n",
    "    delimiter_position = buffer.find('\\n\\n')\n",
    "    if delimiter_position == -1:\n",
    "        return get_next_part(file, start_index, span_index + blocksize)\n",
    "    else:\n",
    "        file.seek(start_index)\n",
    "        return start_index, delimiter_position\n",
    "    \n",
    "def get_item(filename, start_index, delimiter_position, encoding='cp1252'):\n",
    "    with open(filename, 'rb') as file_handle:\n",
    "        file_handle.seek(start_index)\n",
    "        text = file_handle.read(delimiter_position).decode(encoding)\n",
    "        elements = text.strip().split('\\n')\n",
    "        key_value_pairs = [(element.split(': ')[0], element.split(': ')[1]) \n",
    "                               if len(element.split(': ')) > 1 \n",
    "                               else ('unknown', element) \n",
    "                               for element in elements]\n",
    "        return dict(key_value_pairs)\n",
    "    \n",
    "with open('foods.txt', 'rb') as file_handle:\n",
    "    size = file_handle.seek(0,2) - 1\n",
    "    more_data = True\n",
    "    output = []\n",
    "    current_position = next_position = 0\n",
    "    while more_data:\n",
    "        if current_position >= size:\n",
    "            more_data = False\n",
    "        else:\n",
    "            current_position, next_position = get_next_part(file_handle, current_position, 0)\n",
    "            output.append((current_position, next_position))\n",
    "            current_position = current_position + next_position + 2\n",
    "            \n",
    "reviews = bag.from_sequence(output).map(lambda x: get_item('foods.txt', x[0], x[1]))\n",
    "\n",
    "def tag_positive_negative_by_score(element):\n",
    "    if float(element['review/score']) > 3:\n",
    "        element['review/sentiment'] = 'positive'\n",
    "    else:\n",
    "        element['review/sentiment'] = 'negative'\n",
    "    return element\n",
    "\n",
    "tagged_reviews = reviews.map(tag_positive_negative_by_score)"
   ]
  },
  {
   "cell_type": "markdown",
   "metadata": {},
   "source": [
    "### Section 10.1.1"
   ]
  },
  {
   "cell_type": "code",
   "execution_count": 7,
   "metadata": {},
   "outputs": [],
   "source": [
    "# Listing 10.2\n",
    "from nltk.corpus import stopwords\n",
    "from nltk.tokenize import RegexpTokenizer\n",
    "from functools import partial\n",
    "\n",
    "tokenizer = RegexpTokenizer(r'\\w+')\n",
    "\n",
    "def extract_reviews(element):\n",
    "    element['review/tokens'] = element['review/text'].lower()\n",
    "    return element\n",
    "\n",
    "def tokenize_reviews(element):\n",
    "    element['review/tokens'] = tokenizer.tokenize(element['review/tokens'])\n",
    "    return element\n",
    "\n",
    "def filter_stopword(word, stopwords):\n",
    "    return word not in stopwords\n",
    "\n",
    "def filter_stopwords(element, stopwords):\n",
    "    element['review/tokens'] = list(filter(partial(filter_stopword, stopwords=stopwords), element['review/tokens']))\n",
    "    return element\n",
    "\n",
    "stopword_set = set(stopwords.words('english'))\n",
    "more_stopwords = {'br', 'amazon', 'com', 'http', 'www', 'href', 'gp'}\n",
    "all_stopwords = stopword_set.union(more_stopwords)\n",
    "\n",
    "review_extracted_text = tagged_reviews.map(extract_reviews)\n",
    "review_tokens = review_extracted_text.map(tokenize_reviews)\n",
    "review_text_clean = review_tokens.map(partial(filter_stopwords, stopwords=all_stopwords))"
   ]
  },
  {
   "cell_type": "code",
   "execution_count": 8,
   "metadata": {},
   "outputs": [
    {
     "name": "stdout",
     "output_type": "stream",
     "text": [
      "[########################################] | 100% Completed | 34.8s\n"
     ]
    },
    {
     "data": {
      "text/plain": [
       "114290"
      ]
     },
     "execution_count": 8,
     "metadata": {},
     "output_type": "execute_result"
    }
   ],
   "source": [
    "# Listing 10.3\n",
    "def extract_tokens(element):\n",
    "    return element['review/tokens']\n",
    "\n",
    "extracted_tokens = review_text_clean.map(extract_tokens)\n",
    "unique_tokens = extracted_tokens.flatten().distinct()\n",
    "\n",
    "with ProgressBar():\n",
    "    number_of_tokens = unique_tokens.count().compute()\n",
    "number_of_tokens"
   ]
  },
  {
   "cell_type": "code",
   "execution_count": 9,
   "metadata": {},
   "outputs": [
    {
     "name": "stdout",
     "output_type": "stream",
     "text": [
      "[########################################] | 100% Completed | 49.4s\n"
     ]
    }
   ],
   "source": [
    "# Listing 10.4\n",
    "def count(accumulator, element):\n",
    "    return accumulator + 1\n",
    "\n",
    "def combine(total_1, total_2):\n",
    "    return total_1 + total_2\n",
    "\n",
    "with ProgressBar():\n",
    "    token_counts = extracted_tokens.flatten().foldby(lambda x: x, count, 0, combine, 0).compute()\n",
    "    \n",
    "top_tokens = sorted(token_counts, key=lambda x: x[1], reverse=True)\n",
    "top_100_tokens = list(map(lambda x: x[0], top_tokens[:100]))"
   ]
  },
  {
   "cell_type": "code",
   "execution_count": 11,
   "metadata": {
    "scrolled": false
   },
   "outputs": [
    {
     "data": {
      "text/plain": [
       "({'target': 1,\n",
       "  'features': array([1, 1, 0, 0, 0, 0, 1, 0, 0, 0, 1, 0, 0, 0, 0, 0, 0, 0, 0, 0, 0, 0, 0,\n",
       "         0, 0, 0, 0, 1, 1, 0, 0, 0, 0, 0, 0, 0, 0, 0, 1, 0, 0, 1, 0, 0, 0, 0,\n",
       "         0, 0, 0, 0, 0, 0, 0, 0, 0, 0, 0, 0, 0, 0, 0, 0, 0, 0, 0, 0, 0, 0, 0,\n",
       "         0, 0, 0, 0, 0, 0, 0, 0, 0, 0, 0, 0, 0, 0, 0, 0, 0, 0, 0, 0, 0, 0, 1,\n",
       "         0, 0, 0, 0, 0, 0, 0, 0])},\n",
       " {'target': 0,\n",
       "  'features': array([0, 0, 0, 0, 0, 0, 1, 0, 0, 0, 0, 0, 0, 0, 0, 0, 0, 0, 0, 0, 0, 0, 0,\n",
       "         0, 0, 0, 0, 0, 0, 0, 0, 0, 0, 0, 0, 0, 0, 0, 0, 0, 0, 0, 0, 0, 0, 0,\n",
       "         0, 0, 0, 0, 0, 0, 0, 0, 0, 0, 0, 0, 0, 0, 0, 0, 0, 0, 0, 0, 0, 0, 0,\n",
       "         0, 0, 0, 0, 0, 0, 0, 0, 0, 0, 0, 0, 0, 0, 0, 0, 0, 0, 0, 0, 0, 0, 0,\n",
       "         0, 0, 0, 0, 0, 0, 0, 0])},\n",
       " {'target': 1,\n",
       "  'features': array([0, 0, 0, 0, 0, 0, 0, 0, 0, 0, 0, 0, 0, 0, 0, 0, 0, 0, 0, 0, 0, 0, 0,\n",
       "         0, 0, 0, 0, 0, 0, 0, 0, 0, 0, 0, 0, 0, 0, 1, 0, 0, 0, 0, 0, 0, 0, 0,\n",
       "         0, 0, 0, 0, 0, 0, 0, 0, 0, 0, 0, 0, 0, 0, 1, 0, 0, 0, 0, 0, 0, 0, 0,\n",
       "         0, 0, 0, 0, 0, 0, 0, 0, 0, 0, 0, 0, 0, 0, 0, 0, 0, 0, 0, 0, 0, 0, 0,\n",
       "         0, 0, 0, 0, 0, 0, 0, 0])},\n",
       " {'target': 0,\n",
       "  'features': array([0, 1, 0, 0, 0, 0, 0, 1, 0, 0, 0, 0, 0, 0, 0, 0, 0, 0, 0, 0, 0, 0, 0,\n",
       "         0, 0, 0, 0, 0, 0, 0, 0, 0, 0, 0, 0, 0, 0, 0, 1, 0, 0, 0, 1, 0, 0, 0,\n",
       "         0, 0, 0, 0, 0, 0, 0, 0, 0, 0, 0, 0, 0, 0, 0, 0, 1, 0, 0, 0, 0, 0, 0,\n",
       "         0, 0, 0, 0, 0, 0, 0, 0, 0, 0, 0, 0, 0, 0, 0, 0, 0, 0, 0, 0, 0, 0, 0,\n",
       "         0, 0, 0, 0, 0, 0, 0, 0])},\n",
       " {'target': 1,\n",
       "  'features': array([0, 0, 0, 0, 1, 0, 0, 0, 0, 0, 0, 0, 0, 0, 0, 0, 0, 0, 0, 0, 0, 0, 1,\n",
       "         0, 0, 0, 0, 0, 0, 0, 0, 0, 0, 0, 0, 0, 0, 0, 0, 0, 0, 0, 0, 0, 0, 0,\n",
       "         0, 0, 0, 0, 0, 0, 0, 0, 0, 0, 0, 0, 0, 0, 0, 0, 0, 0, 0, 0, 0, 0, 0,\n",
       "         0, 0, 0, 0, 0, 0, 0, 0, 0, 0, 0, 0, 0, 0, 0, 0, 0, 0, 0, 0, 0, 0, 0,\n",
       "         0, 0, 0, 0, 0, 0, 0, 0])})"
      ]
     },
     "execution_count": 11,
     "metadata": {},
     "output_type": "execute_result"
    }
   ],
   "source": [
    "# Listing 10.5\n",
    "import numpy as np\n",
    "def vectorize_tokens(element):\n",
    "    vectorized_tokens = np.where(np.isin(top_100_tokens, element['review/tokens']), 1, 0)\n",
    "    element['review/token_vector'] = vectorized_tokens\n",
    "    return element\n",
    "\n",
    "def prep_model_data(element):\n",
    "    return {'target': 1 if element['review/sentiment'] == 'positive' else 0,\n",
    "            'features': element['review/token_vector']}\n",
    "\n",
    "model_data = review_text_clean.map(vectorize_tokens).map(prep_model_data)\n",
    "\n",
    "model_data.take(5)"
   ]
  },
  {
   "cell_type": "code",
   "execution_count": 12,
   "metadata": {},
   "outputs": [],
   "source": [
    "# Listing 10.6\n",
    "from dask import array as dask_array\n",
    "def stacker(partition):\n",
    "    return dask_array.concatenate([element for element in partition])\n",
    "\n",
    "with ProgressBar():\n",
    "    feature_arrays = model_data.pluck('features').map(lambda x: dask_array.from_array(x, 1000).reshape(1,-1)).reduction(perpartition=stacker, aggregate=stacker)\n",
    "    feature_array = feature_arrays.compute()\n",
    "feature_array"
   ]
  },
  {
   "cell_type": "code",
   "execution_count": 14,
   "metadata": {},
   "outputs": [
    {
     "name": "stdout",
     "output_type": "stream",
     "text": [
      "[########################################] | 100% Completed |  5min 32.8s\n"
     ]
    }
   ],
   "source": [
    "# Listing 10.7\n",
    "with ProgressBar():\n",
    "    feature_array.rechunk(5000).to_zarr('sentiment_feature_array.zarr')\n",
    "    feature_array = dask_array.from_zarr('sentiment_feature_array.zarr')\n",
    "    \n",
    "with ProgressBar():\n",
    "    target_arrays = model_data.pluck('target').map(lambda x: dask_array.from_array(x, 1000).reshape(-1,1)).reduction(perpartition=stacker, aggregate=stacker)\n",
    "    target_arrays.compute().rechunk(5000).to_zarr('sentiment_target_array.zarr')\n",
    "    target_array = dask_array.from_zarr('sentiment_target_array.zarr')"
   ]
  },
  {
   "cell_type": "markdown",
   "metadata": {},
   "source": [
    "### Section 10.1.2"
   ]
  },
  {
   "cell_type": "code",
   "execution_count": 16,
   "metadata": {},
   "outputs": [
    {
     "name": "stdout",
     "output_type": "stream",
     "text": [
      "[########################################] | 100% Completed |  0.9s\n",
      "[####################                    ] | 50% Completed |  1.6s"
     ]
    },
    {
     "name": "stderr",
     "output_type": "stream",
     "text": [
      "/anaconda3/lib/python3.6/site-packages/dask_glm/utils.py:52: RuntimeWarning: overflow encountered in exp\n",
      "  return np.exp(A)\n"
     ]
    },
    {
     "name": "stdout",
     "output_type": "stream",
     "text": [
      "[########################################] | 100% Completed |  3.6s\n",
      "[########################################] | 100% Completed |  3.8s\n",
      "[########################################] | 100% Completed |  3.9s\n",
      "[########################################] | 100% Completed |  3.8s\n",
      "[########################################] | 100% Completed |  3.6s\n",
      "[########################################] | 100% Completed |  3.9s\n",
      "[########################################] | 100% Completed |  3.7s\n",
      "[########################################] | 100% Completed |  3.5s\n",
      "[########################################] | 100% Completed |  3.7s\n",
      "[########################################] | 100% Completed |  4.0s\n",
      "[########################################] | 100% Completed |  4.0s\n",
      "[########################################] | 100% Completed |  4.0s\n",
      "[########################################] | 100% Completed |  3.8s\n",
      "[########################################] | 100% Completed |  3.9s\n",
      "[########################################] | 100% Completed |  3.7s\n",
      "[########################################] | 100% Completed |  3.5s\n",
      "[########################################] | 100% Completed |  3.7s\n",
      "[########################################] | 100% Completed |  3.8s\n",
      "[########################################] | 100% Completed |  3.6s\n",
      "[########################################] | 100% Completed |  3.6s\n",
      "[########################################] | 100% Completed |  3.6s\n",
      "[########################################] | 100% Completed |  3.7s\n",
      "[########################################] | 100% Completed |  3.6s\n",
      "[########################################] | 100% Completed |  3.4s\n",
      "[########################################] | 100% Completed |  3.5s\n",
      "[########################################] | 100% Completed |  3.7s\n",
      "[########################################] | 100% Completed |  3.7s\n",
      "[########################################] | 100% Completed |  3.6s\n",
      "[########################################] | 100% Completed |  3.6s\n",
      "[########################################] | 100% Completed |  3.7s\n",
      "[########################################] | 100% Completed |  3.8s\n",
      "[########################################] | 100% Completed |  3.9s\n",
      "[########################################] | 100% Completed |  3.9s\n",
      "[########################################] | 100% Completed |  4.0s\n",
      "[########################################] | 100% Completed |  4.0s\n",
      "[########################################] | 100% Completed |  3.7s\n",
      "[########################################] | 100% Completed |  3.5s\n",
      "[########################################] | 100% Completed |  3.7s\n",
      "[########################################] | 100% Completed |  3.9s\n",
      "[########################################] | 100% Completed |  3.9s\n",
      "[########################################] | 100% Completed |  3.8s\n",
      "[########################################] | 100% Completed |  3.6s\n",
      "[########################################] | 100% Completed |  3.6s\n",
      "[########################################] | 100% Completed |  3.6s\n",
      "[########################################] | 100% Completed |  3.9s\n",
      "[########################################] | 100% Completed |  3.5s\n",
      "[########################################] | 100% Completed |  3.5s\n",
      "[########################################] | 100% Completed |  3.4s\n",
      "[########################################] | 100% Completed |  3.5s\n",
      "[########################################] | 100% Completed |  3.6s\n",
      "[########################################] | 100% Completed |  3.6s\n",
      "[########################################] | 100% Completed |  3.6s\n",
      "[########################################] | 100% Completed |  3.6s\n",
      "[########################################] | 100% Completed |  3.6s\n",
      "[########################################] | 100% Completed |  3.7s\n",
      "[########################################] | 100% Completed |  3.7s\n",
      "[########################################] | 100% Completed |  3.7s\n",
      "[########################################] | 100% Completed |  3.8s\n",
      "[########################################] | 100% Completed |  3.6s\n",
      "[########################################] | 100% Completed |  3.8s\n",
      "[########################################] | 100% Completed |  3.9s\n",
      "[########################################] | 100% Completed |  3.9s\n",
      "[########################################] | 100% Completed |  4.1s\n",
      "[########################################] | 100% Completed |  3.9s\n",
      "[########################################] | 100% Completed |  3.6s\n",
      "[########################################] | 100% Completed |  3.8s\n",
      "[########################################] | 100% Completed |  3.9s\n",
      "[########################################] | 100% Completed |  4.1s\n",
      "[########################################] | 100% Completed |  3.8s\n",
      "[########################################] | 100% Completed |  3.6s\n",
      "[########################################] | 100% Completed |  3.8s\n",
      "[########################################] | 100% Completed |  3.7s\n",
      "[########################################] | 100% Completed |  3.5s\n",
      "[########################################] | 100% Completed |  3.7s\n",
      "[########################################] | 100% Completed |  3.7s\n",
      "[########################################] | 100% Completed |  3.6s\n",
      "[########################################] | 100% Completed |  3.8s\n",
      "[########################################] | 100% Completed |  4.0s\n",
      "[########################################] | 100% Completed |  3.9s\n",
      "[########################################] | 100% Completed |  3.9s\n",
      "[########################################] | 100% Completed |  3.8s\n",
      "[########################################] | 100% Completed |  4.0s\n",
      "[########################################] | 100% Completed |  4.2s\n",
      "[########################################] | 100% Completed |  3.7s\n",
      "[########################################] | 100% Completed |  3.6s\n",
      "[########################################] | 100% Completed |  3.8s\n",
      "[########################################] | 100% Completed |  4.0s\n",
      "[########################################] | 100% Completed |  3.8s\n",
      "[########################################] | 100% Completed |  3.8s\n",
      "[########################################] | 100% Completed |  3.6s\n",
      "[########################################] | 100% Completed |  3.4s\n",
      "[########################################] | 100% Completed |  3.4s\n",
      "[########################################] | 100% Completed |  3.4s\n",
      "[########################################] | 100% Completed |  3.6s\n",
      "[########################################] | 100% Completed |  3.5s\n",
      "[########################################] | 100% Completed |  3.8s\n",
      "[########################################] | 100% Completed |  5.7s\n",
      "[########################################] | 100% Completed |  4.0s\n",
      "[########################################] | 100% Completed |  4.5s\n",
      "[########################################] | 100% Completed |  5.1s\n"
     ]
    }
   ],
   "source": [
    "# Listing 10.8\n",
    "from dask_ml.linear_model import LogisticRegression\n",
    "from dask_ml.model_selection import train_test_split\n",
    "\n",
    "X = feature_array\n",
    "y = target_array.flatten()\n",
    "\n",
    "X_train, X_test, y_train, y_test = train_test_split(X, y, random_state=42)\n",
    "\n",
    "lr = LogisticRegression()\n",
    "\n",
    "with ProgressBar():\n",
    "    lr.fit(X_train, y_train)"
   ]
  },
  {
   "cell_type": "markdown",
   "metadata": {},
   "source": [
    "### Section 10.2.1"
   ]
  },
  {
   "cell_type": "code",
   "execution_count": 17,
   "metadata": {},
   "outputs": [
    {
     "data": {
      "text/plain": [
       "0.79629173556626676"
      ]
     },
     "execution_count": 17,
     "metadata": {},
     "output_type": "execute_result"
    }
   ],
   "source": [
    "# Listing 10.9\n",
    "lr.score(X_test, y_test).compute()"
   ]
  },
  {
   "cell_type": "markdown",
   "metadata": {},
   "source": [
    "### Section 10.2.2"
   ]
  },
  {
   "cell_type": "code",
   "execution_count": 18,
   "metadata": {},
   "outputs": [
    {
     "name": "stdout",
     "output_type": "stream",
     "text": [
      "[########################################] | 100% Completed |  2.1s\n"
     ]
    }
   ],
   "source": [
    "# Listing 10.10\n",
    "from sklearn.naive_bayes import BernoulliNB\n",
    "from dask_ml.wrappers import Incremental\n",
    "\n",
    "nb = BernoulliNB()\n",
    "\n",
    "parallel_nb = Incremental(nb)\n",
    "\n",
    "with ProgressBar():\n",
    "    parallel_nb.fit(X_train, y_train, classes=[0,1])"
   ]
  },
  {
   "cell_type": "code",
   "execution_count": 19,
   "metadata": {},
   "outputs": [
    {
     "data": {
      "text/plain": [
       "0.78886817014389754"
      ]
     },
     "execution_count": 19,
     "metadata": {},
     "output_type": "execute_result"
    }
   ],
   "source": [
    "# Listing 10.11\n",
    "parallel_nb.score(X_test, y_test)"
   ]
  },
  {
   "cell_type": "markdown",
   "metadata": {},
   "source": [
    "### Section 10.2.3"
   ]
  },
  {
   "cell_type": "code",
   "execution_count": 20,
   "metadata": {},
   "outputs": [
    {
     "name": "stdout",
     "output_type": "stream",
     "text": [
      "[########################################] | 100% Completed | 23min 24.1s\n"
     ]
    }
   ],
   "source": [
    "# Listing 10.12\n",
    "from dask_ml.model_selection import GridSearchCV\n",
    "\n",
    "parameters = {'penalty': ['l1', 'l2'], 'C': [0.5, 1, 2]}\n",
    "\n",
    "lr = LogisticRegression()\n",
    "tuned_lr = GridSearchCV(lr, parameters)\n",
    "\n",
    "with ProgressBar():\n",
    "    tuned_lr.fit(X_train, y_train)   "
   ]
  },
  {
   "cell_type": "code",
   "execution_count": 21,
   "metadata": {
    "scrolled": false
   },
   "outputs": [
    {
     "name": "stderr",
     "output_type": "stream",
     "text": [
      "/anaconda3/lib/python3.6/site-packages/dask_ml/model_selection/utils.py:121: FutureWarning: You are accessing a training score ('split0_train_score'), which will not be available by default any more in sklearn 0.21. If you need training scores, please set return_train_score=True\n",
      "  warnings.warn(*warn_args, **warn_kwargs)\n",
      "/anaconda3/lib/python3.6/site-packages/dask_ml/model_selection/utils.py:121: FutureWarning: You are accessing a training score ('split1_train_score'), which will not be available by default any more in sklearn 0.21. If you need training scores, please set return_train_score=True\n",
      "  warnings.warn(*warn_args, **warn_kwargs)\n",
      "/anaconda3/lib/python3.6/site-packages/dask_ml/model_selection/utils.py:121: FutureWarning: You are accessing a training score ('split2_train_score'), which will not be available by default any more in sklearn 0.21. If you need training scores, please set return_train_score=True\n",
      "  warnings.warn(*warn_args, **warn_kwargs)\n",
      "/anaconda3/lib/python3.6/site-packages/dask_ml/model_selection/utils.py:121: FutureWarning: You are accessing a training score ('mean_train_score'), which will not be available by default any more in sklearn 0.21. If you need training scores, please set return_train_score=True\n",
      "  warnings.warn(*warn_args, **warn_kwargs)\n",
      "/anaconda3/lib/python3.6/site-packages/dask_ml/model_selection/utils.py:121: FutureWarning: You are accessing a training score ('std_train_score'), which will not be available by default any more in sklearn 0.21. If you need training scores, please set return_train_score=True\n",
      "  warnings.warn(*warn_args, **warn_kwargs)\n"
     ]
    },
    {
     "data": {
      "text/html": [
       "<div>\n",
       "<style scoped>\n",
       "    .dataframe tbody tr th:only-of-type {\n",
       "        vertical-align: middle;\n",
       "    }\n",
       "\n",
       "    .dataframe tbody tr th {\n",
       "        vertical-align: top;\n",
       "    }\n",
       "\n",
       "    .dataframe thead th {\n",
       "        text-align: right;\n",
       "    }\n",
       "</style>\n",
       "<table border=\"1\" class=\"dataframe\">\n",
       "  <thead>\n",
       "    <tr style=\"text-align: right;\">\n",
       "      <th></th>\n",
       "      <th>params</th>\n",
       "      <th>mean_fit_time</th>\n",
       "      <th>std_fit_time</th>\n",
       "      <th>mean_score_time</th>\n",
       "      <th>std_score_time</th>\n",
       "      <th>split0_test_score</th>\n",
       "      <th>split1_test_score</th>\n",
       "      <th>split2_test_score</th>\n",
       "      <th>mean_test_score</th>\n",
       "      <th>std_test_score</th>\n",
       "      <th>rank_test_score</th>\n",
       "      <th>split0_train_score</th>\n",
       "      <th>split1_train_score</th>\n",
       "      <th>split2_train_score</th>\n",
       "      <th>mean_train_score</th>\n",
       "      <th>std_train_score</th>\n",
       "      <th>param_C</th>\n",
       "      <th>param_penalty</th>\n",
       "    </tr>\n",
       "  </thead>\n",
       "  <tbody>\n",
       "    <tr>\n",
       "      <th>0</th>\n",
       "      <td>{'C': 0.5, 'penalty': 'l1'}</td>\n",
       "      <td>1308.978919</td>\n",
       "      <td>11.548624</td>\n",
       "      <td>0.347088</td>\n",
       "      <td>0.044540</td>\n",
       "      <td>0.790291</td>\n",
       "      <td>0.793938</td>\n",
       "      <td>0.797087</td>\n",
       "      <td>0.793772</td>\n",
       "      <td>0.002777</td>\n",
       "      <td>4</td>\n",
       "      <td>0.795671</td>\n",
       "      <td>0.794152</td>\n",
       "      <td>0.792604</td>\n",
       "      <td>0.794142</td>\n",
       "      <td>0.001252</td>\n",
       "      <td>0.5</td>\n",
       "      <td>l1</td>\n",
       "    </tr>\n",
       "    <tr>\n",
       "      <th>1</th>\n",
       "      <td>{'C': 0.5, 'penalty': 'l2'}</td>\n",
       "      <td>143.865403</td>\n",
       "      <td>2.276777</td>\n",
       "      <td>0.626723</td>\n",
       "      <td>0.145728</td>\n",
       "      <td>0.790801</td>\n",
       "      <td>0.793715</td>\n",
       "      <td>0.796987</td>\n",
       "      <td>0.793834</td>\n",
       "      <td>0.002527</td>\n",
       "      <td>1</td>\n",
       "      <td>0.796081</td>\n",
       "      <td>0.794008</td>\n",
       "      <td>0.792264</td>\n",
       "      <td>0.794118</td>\n",
       "      <td>0.001560</td>\n",
       "      <td>0.5</td>\n",
       "      <td>l2</td>\n",
       "    </tr>\n",
       "    <tr>\n",
       "      <th>2</th>\n",
       "      <td>{'C': 1, 'penalty': 'l1'}</td>\n",
       "      <td>1211.649146</td>\n",
       "      <td>72.024862</td>\n",
       "      <td>0.639021</td>\n",
       "      <td>0.275957</td>\n",
       "      <td>0.790689</td>\n",
       "      <td>0.793551</td>\n",
       "      <td>0.796559</td>\n",
       "      <td>0.793600</td>\n",
       "      <td>0.002397</td>\n",
       "      <td>6</td>\n",
       "      <td>0.796014</td>\n",
       "      <td>0.793724</td>\n",
       "      <td>0.792182</td>\n",
       "      <td>0.793973</td>\n",
       "      <td>0.001574</td>\n",
       "      <td>1</td>\n",
       "      <td>l1</td>\n",
       "    </tr>\n",
       "    <tr>\n",
       "      <th>3</th>\n",
       "      <td>{'C': 1, 'penalty': 'l2'}</td>\n",
       "      <td>74.962411</td>\n",
       "      <td>1.968621</td>\n",
       "      <td>0.553580</td>\n",
       "      <td>0.068979</td>\n",
       "      <td>0.790801</td>\n",
       "      <td>0.793715</td>\n",
       "      <td>0.796987</td>\n",
       "      <td>0.793834</td>\n",
       "      <td>0.002527</td>\n",
       "      <td>1</td>\n",
       "      <td>0.796081</td>\n",
       "      <td>0.794008</td>\n",
       "      <td>0.792267</td>\n",
       "      <td>0.794119</td>\n",
       "      <td>0.001559</td>\n",
       "      <td>1</td>\n",
       "      <td>l2</td>\n",
       "    </tr>\n",
       "    <tr>\n",
       "      <th>4</th>\n",
       "      <td>{'C': 2, 'penalty': 'l1'}</td>\n",
       "      <td>608.802576</td>\n",
       "      <td>58.226398</td>\n",
       "      <td>0.315940</td>\n",
       "      <td>0.122815</td>\n",
       "      <td>0.790701</td>\n",
       "      <td>0.793592</td>\n",
       "      <td>0.796835</td>\n",
       "      <td>0.793709</td>\n",
       "      <td>0.002505</td>\n",
       "      <td>5</td>\n",
       "      <td>0.796020</td>\n",
       "      <td>0.793829</td>\n",
       "      <td>0.792255</td>\n",
       "      <td>0.794035</td>\n",
       "      <td>0.001544</td>\n",
       "      <td>2</td>\n",
       "      <td>l1</td>\n",
       "    </tr>\n",
       "    <tr>\n",
       "      <th>5</th>\n",
       "      <td>{'C': 2, 'penalty': 'l2'}</td>\n",
       "      <td>101.755454</td>\n",
       "      <td>7.513333</td>\n",
       "      <td>0.553664</td>\n",
       "      <td>0.067346</td>\n",
       "      <td>0.790801</td>\n",
       "      <td>0.793715</td>\n",
       "      <td>0.796987</td>\n",
       "      <td>0.793834</td>\n",
       "      <td>0.002527</td>\n",
       "      <td>1</td>\n",
       "      <td>0.796081</td>\n",
       "      <td>0.794008</td>\n",
       "      <td>0.792267</td>\n",
       "      <td>0.794119</td>\n",
       "      <td>0.001559</td>\n",
       "      <td>2</td>\n",
       "      <td>l2</td>\n",
       "    </tr>\n",
       "  </tbody>\n",
       "</table>\n",
       "</div>"
      ],
      "text/plain": [
       "                        params  mean_fit_time  std_fit_time  mean_score_time  \\\n",
       "0  {'C': 0.5, 'penalty': 'l1'}    1308.978919     11.548624         0.347088   \n",
       "1  {'C': 0.5, 'penalty': 'l2'}     143.865403      2.276777         0.626723   \n",
       "2    {'C': 1, 'penalty': 'l1'}    1211.649146     72.024862         0.639021   \n",
       "3    {'C': 1, 'penalty': 'l2'}      74.962411      1.968621         0.553580   \n",
       "4    {'C': 2, 'penalty': 'l1'}     608.802576     58.226398         0.315940   \n",
       "5    {'C': 2, 'penalty': 'l2'}     101.755454      7.513333         0.553664   \n",
       "\n",
       "   std_score_time  split0_test_score  split1_test_score  split2_test_score  \\\n",
       "0        0.044540           0.790291           0.793938           0.797087   \n",
       "1        0.145728           0.790801           0.793715           0.796987   \n",
       "2        0.275957           0.790689           0.793551           0.796559   \n",
       "3        0.068979           0.790801           0.793715           0.796987   \n",
       "4        0.122815           0.790701           0.793592           0.796835   \n",
       "5        0.067346           0.790801           0.793715           0.796987   \n",
       "\n",
       "   mean_test_score  std_test_score  rank_test_score  split0_train_score  \\\n",
       "0         0.793772        0.002777                4            0.795671   \n",
       "1         0.793834        0.002527                1            0.796081   \n",
       "2         0.793600        0.002397                6            0.796014   \n",
       "3         0.793834        0.002527                1            0.796081   \n",
       "4         0.793709        0.002505                5            0.796020   \n",
       "5         0.793834        0.002527                1            0.796081   \n",
       "\n",
       "   split1_train_score  split2_train_score  mean_train_score  std_train_score  \\\n",
       "0            0.794152            0.792604          0.794142         0.001252   \n",
       "1            0.794008            0.792264          0.794118         0.001560   \n",
       "2            0.793724            0.792182          0.793973         0.001574   \n",
       "3            0.794008            0.792267          0.794119         0.001559   \n",
       "4            0.793829            0.792255          0.794035         0.001544   \n",
       "5            0.794008            0.792267          0.794119         0.001559   \n",
       "\n",
       "  param_C param_penalty  \n",
       "0     0.5            l1  \n",
       "1     0.5            l2  \n",
       "2       1            l1  \n",
       "3       1            l2  \n",
       "4       2            l1  \n",
       "5       2            l2  "
      ]
     },
     "execution_count": 21,
     "metadata": {},
     "output_type": "execute_result"
    }
   ],
   "source": [
    "# Listing 10.13\n",
    "import pandas as pd\n",
    "pd.DataFrame(tuned_lr.cv_results_)"
   ]
  },
  {
   "cell_type": "markdown",
   "metadata": {},
   "source": [
    "### Section 10.3"
   ]
  },
  {
   "cell_type": "code",
   "execution_count": 22,
   "metadata": {},
   "outputs": [],
   "source": [
    "# Listing 10.14\n",
    "import dill\n",
    "with open('naive_bayes_model.pkl', 'wb') as file:\n",
    "    dill.dump(parallel_nb, file)"
   ]
  },
  {
   "cell_type": "code",
   "execution_count": 23,
   "metadata": {},
   "outputs": [
    {
     "data": {
      "text/plain": [
       "array([1, 1, 1, 1, 1, 1, 1, 1, 1, 1, 1, 1, 1, 1, 1, 1, 1, 1, 1, 1, 1, 1, 1,\n",
       "       1, 1, 1, 1, 1, 1, 1, 1, 1, 1, 1, 1, 1, 1, 1, 1, 1, 1, 1, 1, 1, 1, 1,\n",
       "       1, 1, 1, 1, 1, 1, 1, 1, 1, 1, 1, 1, 1, 1, 1, 1, 1, 1, 1, 1, 1, 1, 1,\n",
       "       1, 1, 1, 1, 1, 1, 1, 1, 1, 1, 1, 1, 1, 1, 1, 0, 1, 1, 1, 1, 1, 1, 1,\n",
       "       1, 1, 1, 1, 1, 1, 1, 1])"
      ]
     },
     "execution_count": 23,
     "metadata": {},
     "output_type": "execute_result"
    }
   ],
   "source": [
    "# Listing 10.15\n",
    "with open('naive_bayes_model.pkl', 'rb') as file:\n",
    "    nb = dill.load(file)\n",
    "nb.predict(np.random.randint(0,2,(100,100)))"
   ]
  }
 ],
 "metadata": {
  "kernelspec": {
   "display_name": "Python 3",
   "language": "python",
   "name": "python3"
  },
  "language_info": {
   "codemirror_mode": {
    "name": "ipython",
    "version": 3
   },
   "file_extension": ".py",
   "mimetype": "text/x-python",
   "name": "python",
   "nbconvert_exporter": "python",
   "pygments_lexer": "ipython3",
   "version": "3.6.8"
  }
 },
 "nbformat": 4,
 "nbformat_minor": 2
}
