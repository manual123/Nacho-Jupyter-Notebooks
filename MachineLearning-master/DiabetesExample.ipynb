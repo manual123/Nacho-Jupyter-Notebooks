{
 "cells": [
  {
   "cell_type": "markdown",
   "metadata": {},
   "source": [
    "# Overview\n",
    "\n",
    "In this example, you will apply machine learning methods to predict the incidence of diabetes amongst Pima Indians. As with other data science/machine learning problems, many different methods may be applicable, and you should try a few to see how effective each is. A vague outline to solve this problem is as follows:\n",
    "\n",
    "1. Import data and get a general sense for the data\n",
    "2. Apply dimensionality reduction techniques to see if any patterns emerge\n",
    "3. Apply classification methods to predict the incidence of diabetes\n",
    "   - Don't forget to split into training and testing datasets!\n",
    "   \n",
    "**Make sure to copy/clone in your own repository!**\n",
    "\n",
    "You may find the diabetes dataset:\n",
    "\n",
    "- [At this link](https://raw.githubusercontent.com/jbrownlee/Datasets/master/pima-indians-diabetes.data.csv)\n",
    "- Using the command `sklearn.datasets.load_diabetes()`"
   ]
  },
  {
   "cell_type": "code",
   "execution_count": null,
   "metadata": {},
   "outputs": [],
   "source": []
  }
 ],
 "metadata": {
  "kernelspec": {
   "display_name": "Python 3",
   "language": "python",
   "name": "python3"
  },
  "language_info": {
   "codemirror_mode": {
    "name": "ipython",
    "version": 3
   },
   "file_extension": ".py",
   "mimetype": "text/x-python",
   "name": "python",
   "nbconvert_exporter": "python",
   "pygments_lexer": "ipython3",
   "version": "3.6.3"
  }
 },
 "nbformat": 4,
 "nbformat_minor": 2
}
