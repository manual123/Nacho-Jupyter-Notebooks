{
 "cells": [
  {
   "cell_type": "markdown",
   "metadata": {},
   "source": [
    "# Overview\n",
    "\n",
    "In this example, you will apply machine learning methods to predict the cost of housing in Boston given a variety of factors. As with other data science/machine learning problems, many different methods may be applicable, and you should try a few to see how effective each is. A vague outline to solve this problem is as follows:\n",
    "\n",
    "1. Import data and get a general sense for the data\n",
    "2. Apply dimensionality reduction techniques to see if any patterns emerge\n",
    "3. Apply classification methods to predict the cost of a house in Boston\n",
    "   - Don't forget to split into training and testing datasets!\n",
    "   \n",
    "**Unlike previous exercises/examples, this is a *REGRESSION* problem**\n",
    "   \n",
    "**Make sure to copy/clone in your own repository!**\n",
    "\n",
    "[Link to Kaggle dataset](https://www.kaggle.com/c/boston-housing)\n",
    "\n",
    "[Alternate link to download the dataset](https://raw.githubusercontent.com/jbrownlee/Datasets/master/housing.data)"
   ]
  },
  {
   "cell_type": "code",
   "execution_count": null,
   "metadata": {},
   "outputs": [],
   "source": []
  }
 ],
 "metadata": {
  "kernelspec": {
   "display_name": "Python 3",
   "language": "python",
   "name": "python3"
  },
  "language_info": {
   "codemirror_mode": {
    "name": "ipython",
    "version": 3
   },
   "file_extension": ".py",
   "mimetype": "text/x-python",
   "name": "python",
   "nbconvert_exporter": "python",
   "pygments_lexer": "ipython3",
   "version": "3.6.5"
  }
 },
 "nbformat": 4,
 "nbformat_minor": 2
}
