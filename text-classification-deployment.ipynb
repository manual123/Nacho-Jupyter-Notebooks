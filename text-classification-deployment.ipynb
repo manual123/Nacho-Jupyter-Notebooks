{
 "cells": [
  {
   "cell_type": "markdown",
   "metadata": {},
   "source": [
    "# Deploying Text Classification Model in Jarvis\n",
    "\n",
    "[Transfer Learning Toolkit](https://developer.nvidia.com/transfer-learning-toolkit) (TLT) provides the capability to export your model in a format that can deployed using [NVIDIA Jarvis](https://developer.nvidia.com/nvidia-jarvis), a highly performant application framework for multi-modal conversational AI services using GPUs. \n",
    "\n",
    "This tutorial explores taking an .ejrvs model, the result of `tlt text_classification export` command, and leveraging the Jarvis ServiceMaker framework to aggregate all the necessary artifacts for Jarvis deployment to a target environment. Once the model is deployed in Jarvis, you can issue inference requests to the server. We will demonstrate how quick and straightforward this whole process is. \n",
    "\n",
    "## Learning Objectives\n",
    "In this notebook, you will learn how to:  \n",
    "- Use Jarvis ServiceMaker to take a TLT exported .ejrvs and convert it to .jmir\n",
    "- Deploy the model(s) locally  on the Jarvis Server\n",
    "- Send inference requests from a demo client using Jarvis API bindings..\n",
    "\n",
    "## Pre-requisites\n",
    "To follow along, please make sure:\n",
    "- You have access to NVIDIA NGC, and are able to download the Jarvis Quickstart [resources](https://ngc.nvidia.com/resources/ea-jarvis-stage:jarvis_quickstart/)\n",
    "- Have an .ejrvs model file that you wish to deploy. You can obtain this from `tlt <task> export` (with `export_format=JARVIS`). Please refer the tutorial on *Text Classification using Transfer Learning Toolkit* for more details on training and exporting an .ejrvs model.\n",
    "\n",
    "## Jarvis ServiceMaker\n",
    "Servicemaker is the set of tools that aggregates all the necessary artifacts (models, files, configurations, and user settings) for Jarvis deployment to a target environment. It has two main components as shown below:\n",
    "\n",
    "### 1. Jarvis-build\n",
    "\n",
    "This step helps build a Jarvis-ready version of the model. It’s only output is an intermediate format (called a JMIR) of an end to end pipeline for the supported services within Jarvis. We are taking a ASR QuartzNet Model in consideration<br>\n",
    "\n",
    "`jarvis-build` is responsible for the combination of one or more exported models (.ejrvs files) into a single file containing an intermediate format called Jarvis Model Intermediate Representation (.jmir). This file contains a deployment-agnostic specification of the whole end-to-end pipeline along with all the assets required for the final deployment and inference. Please checkout the [documentation](http://docs.jarvis-ai.nvidia.com/release-1-0/) to find out more."
   ]
  },
  {
   "cell_type": "code",
   "execution_count": null,
   "metadata": {},
   "outputs": [],
   "source": [
    "# IMPORTANT: UPDATE THESE PATHS \n",
    "\n",
    "# ServiceMaker Docker\n",
    "JARVIS_SM_CONTAINER = \"<add container name>\"\n",
    "\n",
    "# Directory where the .ejrvs model is stored $MODEL_LOC/*.ejrvs\n",
    "MODEL_LOC = \"<add path to model location>\"\n",
    "\n",
    "# Name of the .erjvs file\n",
    "MODEL_NAME = \"<add model name>\"\n",
    "\n",
    "# Key that model is encrypted with, while exporting with TLT\n",
    "KEY = \"<add encryption key used for trained model>\""
   ]
  },
  {
   "cell_type": "code",
   "execution_count": null,
   "metadata": {},
   "outputs": [],
   "source": [
    "# Get the ServiceMaker docker\n",
    "! docker pull $JARVIS_SM_CONTAINER"
   ]
  },
  {
   "cell_type": "code",
   "execution_count": null,
   "metadata": {},
   "outputs": [],
   "source": [
    "# Syntax: jarvis-build <task-name> output-dir-for-jmir/model.jmir:key dir-for-ejrvs/model.ejrvs:key\n",
    "# jarvis-build text_classification \\\n",
    "#            --domain_name=\"<your custom domain name>\" \\\n",
    "#            /servicemaker-dev/<jmir_filename>:<encryption_key> \\\n",
    "#            /servicemaker-dev/<ejrvs_filename>:<encryption_key>\n",
    "\n",
    "! docker run --rm --gpus 0 -v $MODEL_LOC:/data $JARVIS_SM_CONTAINER -- \\\n",
    "            jarvis-build text_classification -f /data/tc-model.jmir:$KEY /data/$MODEL_NAME:$KEY"
   ]
  },
  {
   "cell_type": "markdown",
   "metadata": {},
   "source": [
    "`NOTE:` Above, tc-model.ejrvs is the text classification model obtained from `tlt text_classification export`."
   ]
  },
  {
   "cell_type": "markdown",
   "metadata": {},
   "source": [
    "### 2. Jarvis-deploy\n",
    "\n",
    "The deployment tool takes as input one or more Jarvis Model Intermediate Representation (JMIR) files and a target model repository directory. It creates an ensemble configuration specifying the pipeline for the execution and finally writes all those assets to the output model repository directory."
   ]
  },
  {
   "cell_type": "code",
   "execution_count": null,
   "metadata": {},
   "outputs": [],
   "source": [
    "# Syntax: jarvis-deploy -f dir-for-jmir/model.jmir:key output-dir-for-repository\n",
    "! docker run --rm --gpus 0 -v $MODEL_LOC:/data $JARVIS_SM_CONTAINER -- \\\n",
    "            jarvis-deploy -f /data/tc-model.jmir:$KEY /data/models"
   ]
  },
  {
   "cell_type": "markdown",
   "metadata": {},
   "source": [
    "## Start Jarvis Server\n",
    "Once the model repository is generated, we are ready to start the Jarvis server. From this step onwards you need to download the Jarvis QuickStart Resource from NGC. \n",
    "Set the path to the directory here:"
   ]
  },
  {
   "cell_type": "code",
   "execution_count": null,
   "metadata": {},
   "outputs": [],
   "source": [
    "# Set the Jarvis QuickStart directory\n",
    "JARVIS_DIR = \"<Path to the uncompressed folder downloaded from quickstart(include the folder name)>\""
   ]
  },
  {
   "cell_type": "markdown",
   "metadata": {},
   "source": [
    "Next, we modify config.sh to enable relevant Jarvis services (asr for QuartzNet Model), provide the encryption key, and path to the model repository (`jarvis_model_loc`) generated in the previous step among other configurations. \n",
    "\n",
    "For instance, if above the model repository is generated at `$MODEL_LOC/models`, then you can specify `jarvis_model_loc` as the same directory as `MODEL_LOC` <br>\n",
    "\n",
    "Pretrained versions of models specified in models_asr/nlp/tts are fetched from NGC. Since we are using our custom model, we can comment it in models_asr (and any others that are not relevant to your use case). <br>"
   ]
  },
  {
   "cell_type": "markdown",
   "metadata": {},
   "source": [
    "#### config.sh snippet\n",
    "```\n",
    "# Enable or Disable Jarvis Services \n",
    "service_enabled_asr=false                                                      ## MAKE CHANGES HERE\n",
    "service_enabled_nlp=true                                                      ## MAKE CHANGES HERE\n",
    "service_enabled_tts=false                                                     ## MAKE CHANGES HERE\n",
    "\n",
    "# Specify one or more GPUs to use\n",
    "# specifying more than one GPU is currently an experimental feature, and may result in undefined behaviours.\n",
    "gpus_to_use=\"device=0\"\n",
    "\n",
    "# Specify the encryption key to use to deploy models\n",
    "MODEL_DEPLOY_KEY=\"tlt_encode\"                                                  ## MAKE CHANGES HERE\n",
    "\n",
    "# Locations to use for storing models artifacts\n",
    "#\n",
    "# If an absolute path is specified, the data will be written to that location\n",
    "# Otherwise, a docker volume will be used (default).\n",
    "#\n",
    "# jarvis_init.sh will create a `jmir` and `models` directory in the volume or\n",
    "# path specified. \n",
    "#\n",
    "# JMIR ($jarvis_model_loc/jmir)\n",
    "# Jarvis uses an intermediate representation (JMIR) for models\n",
    "# that are ready to deploy but not yet fully optimized for deployment. Pretrained\n",
    "# versions can be obtained from NGC (by specifying NGC models below) and will be\n",
    "# downloaded to $jarvis_model_loc/jmir by `jarvis_init.sh`\n",
    "# \n",
    "# Custom models produced by NeMo or TLT and prepared using jarvis-build\n",
    "# may also be copied manually to this location $(jarvis_model_loc/jmir).\n",
    "#\n",
    "# Models ($jarvis_model_loc/models)\n",
    "# During the jarvis_init process, the JMIR files in $jarvis_model_loc/jmir\n",
    "# are inspected and optimized for deployment. The optimized versions are\n",
    "# stored in $jarvis_model_loc/models. The jarvis server exclusively uses these\n",
    "# optimized versions.\n",
    "jarvis_model_loc=\"<add path>\"                              ## MAKE CHANGES HERE (Replace with MODEL_LOC)                      \n",
    "```"
   ]
  },
  {
   "cell_type": "code",
   "execution_count": null,
   "metadata": {},
   "outputs": [],
   "source": [
    "# Ensure you have permission to execute these scripts.\n",
    "! cd $JARVIS_DIR && chmod +x ./jarvis_init.sh && chmod +x ./jarvis_start.sh"
   ]
  },
  {
   "cell_type": "code",
   "execution_count": null,
   "metadata": {},
   "outputs": [],
   "source": [
    "# Run Jarvis Init. This will fetch the containers/models\n",
    "# YOU CAN SKIP THIS STEP IF YOU DID JARVIS DEPLOY\n",
    "! cd $JARVIS_DIR && ./jarvis_init.sh config.sh"
   ]
  },
  {
   "cell_type": "code",
   "execution_count": null,
   "metadata": {},
   "outputs": [],
   "source": [
    "# Run Jarvis Start. This will deploy the model(s).\n",
    "! cd $JARVIS_DIR && bash jarvis_start.sh config.sh"
   ]
  },
  {
   "cell_type": "markdown",
   "metadata": {},
   "source": [
    "## Run Inference\n",
    "Once the Jarvis server is up and running with your models, you can send inference requests querying the server. \n",
    "\n",
    "To send GRPC requests, you can install Jarvis Python API bindings for client. This is available as a pip .whl with the QuickStart."
   ]
  },
  {
   "cell_type": "code",
   "execution_count": null,
   "metadata": {},
   "outputs": [],
   "source": [
    "# IMPORTANT: Set the name of the whl file\n",
    "JARVIS_API_WHL = \"<add jarvis api .whl file name>\""
   ]
  },
  {
   "cell_type": "code",
   "execution_count": null,
   "metadata": {},
   "outputs": [],
   "source": [
    "# Install client API bindings\n",
    "!cd $JARVIS_DIR && pip install $JARVIS_API_WHL"
   ]
  },
  {
   "cell_type": "markdown",
   "metadata": {},
   "source": [
    "The following code sample shows how you can perform inference using Jarvis Python API gRPC bindings:"
   ]
  },
  {
   "cell_type": "code",
   "execution_count": null,
   "metadata": {},
   "outputs": [],
   "source": [
    "import grpc\n",
    "import argparse\n",
    "import os\n",
    "import jarvis_api.jarvis_nlp_core_pb2 as jcnlp\n",
    "import jarvis_api.jarvis_nlp_core_pb2_grpc as jcnlp_srv\n",
    "import jarvis_api.jarvis_nlp_pb2 as jnlp\n",
    "import jarvis_api.jarvis_nlp_pb2_grpc as jnlp_srv\n",
    "\n",
    "\n",
    "class BertTextClassifyClient(object):\n",
    "    def __init__(self, grpc_server, model_name):\n",
    "        # generate the correct model based on precision and whether or not ensemble is used\n",
    "        print(\"Using model: {}\".format(model_name))\n",
    "\n",
    "        self.model_name = model_name\n",
    "        self.channel = grpc.insecure_channel(grpc_server)\n",
    "        self.jarvis_nlp = jcnlp_srv.JarvisCoreNLPStub(self.channel)\n",
    "\n",
    "        self.has_bos_eos = False\n",
    "\n",
    "    # use the text_classification network to return top-1 classes for intents/sequences\n",
    "    def postprocess_labels_server(self, ct_response):\n",
    "        results = []\n",
    "\n",
    "        for i in range(0, len(ct_response.results)):\n",
    "            intent_str = ct_response.results[i].labels[0].class_name\n",
    "            intent_conf = ct_response.results[i].labels[0].score\n",
    "\n",
    "            results.append((intent_str, intent_conf))\n",
    "\n",
    "        return results\n",
    "\n",
    "    # accept a list of strings, return a list of tuples ('intent', scores)\n",
    "    def run(self, input_strings):\n",
    "        if isinstance(input_strings, str):\n",
    "            # user probably passed a single string instead of a list/iterable\n",
    "            input_strings = [input_strings]\n",
    "\n",
    "        # get intent of the query\n",
    "        request = jcnlp.TextClassRequest()\n",
    "        request.model.model_name = self.model_name\n",
    "        for q in input_strings:\n",
    "            request.text.append(q)\n",
    "        ct_response = self.jarvis_nlp.ClassifyText(request)\n",
    "\n",
    "        return self.postprocess_labels_server(ct_response)\n",
    "\n",
    "\n",
    "def run_text_classify(server, model, query):\n",
    "    print(\"Client app to test text classification on Jarvis\")\n",
    "    client = BertTextClassifyClient(server, model_name=model)\n",
    "    result = client.run(query)\n",
    "    print(result)"
   ]
  },
  {
   "cell_type": "code",
   "execution_count": null,
   "metadata": {},
   "outputs": [],
   "source": [
    "# Model Name will depend on the dataset and the domain on which the model was trained. \n",
    "# Please check `docker logs <container name>` and replace is accordingly (There will \n",
    "# be a table of models with their status displayed next to them) Check the documentation\n",
    "# for more information.\n",
    "\n",
    "run_text_classify(server=\"localhost:50051\",\n",
    "                model=\"<Enter Model Name>\",\n",
    "                query=\"How is the weather tomorrow?\")"
   ]
  },
  {
   "cell_type": "markdown",
   "metadata": {},
   "source": [
    "`NOTE`: You could also run the above inference code from inside the Jarvis Client container. The QuickStart provides a script `jarvis_start_client.sh` to run the container. It has more examples for different services."
   ]
  },
  {
   "cell_type": "markdown",
   "metadata": {},
   "source": [
    "You can stop all docker container before shutting down the jupyter kernel. Caution: The following command will stop all running containers"
   ]
  },
  {
   "cell_type": "code",
   "execution_count": null,
   "metadata": {},
   "outputs": [],
   "source": [
    "! docker stop $(docker ps -a -q)"
   ]
  },
  {
   "cell_type": "markdown",
   "metadata": {},
   "source": [
    "## What's next?\n",
    "You could train your own custom models in TLT and deploy them in Jarvis! You could scale up your deployment using Kubernetes with the Jarvis AI Services Helm Chart, which will pull the relevant Images and download model artifacts from NGC, generate the model repository, start and expose the Jarvis speech services."
   ]
  }
 ],
 "metadata": {
  "kernelspec": {
   "display_name": "Python 3",
   "language": "python",
   "name": "python3"
  },
  "language_info": {
   "codemirror_mode": {
    "name": "ipython",
    "version": 3
   },
   "file_extension": ".py",
   "mimetype": "text/x-python",
   "name": "python",
   "nbconvert_exporter": "python",
   "pygments_lexer": "ipython3",
   "version": "3.6.9"
  }
 },
 "nbformat": 4,
 "nbformat_minor": 4
}
